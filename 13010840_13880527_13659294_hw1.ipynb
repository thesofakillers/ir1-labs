{
 "cells": [
  {
   "cell_type": "markdown",
   "metadata": {
    "cell_id": "2506602b-e699-4ea6-9aa5-4cb13cc4f3c0",
    "deepnote_cell_height": 824,
    "deepnote_cell_type": "markdown",
    "deletable": false,
    "editable": false,
    "nbgrader": {
     "cell_type": "markdown",
     "checksum": "1bba455de8bc2825ca70469169bbadaa",
     "grade": false,
     "grade_id": "cell-c9cd9e550239e812",
     "locked": true,
     "schema_version": 3,
     "solution": false,
     "task": false
    }
   },
   "source": [
    "# Homework 1 (Total Points: 250) <a class=\"anchor\" id=\"top\"></a>\n",
    "\n",
    "\n",
    "**Submission instructions**:\n",
    "- The cells with the `# YOUR CODE HERE` denote that these sections are graded and you need to add your implementation.\n",
    "- For Part 1: You can use the `nltk`, `NumPy`, and `matplotlib` libraries here. Other libraries, e.g., `gensim` or `scikit-learn`, may not be used. For Part 2: `gensim` is allowed in addition to the imported libraries in the next code cell\n",
    "- Please use Python 3.6.5 and `pip install -r requirements.txt` to avoid version issues.\n",
    "- The notebook you submit has to have the student ids, separated by underscores (E.g., `12341234_12341234_12341234_hw1.ipynb`).\n",
    "- This will be parsed by a regexp, **so please double check your filename**.\n",
    "- Only one member of each group has to submit the file (**please do not compress the .ipynb file when you will submit it**) to canvas.\n",
    "- **Make sure to check that your notebook runs before submission**. A quick way to do this is to restart the kernel and run all the cells.\n",
    "- Do not change the number of arugments in the given functions.\n",
    "- **Please do not delete/add new cells**. Removing cells **will** lead to grade deduction.\n",
    "- Note, that you are not allowed to use Google Colab.\n",
    "\n",
    "\n",
    "**Learning Goals**:\n",
    "- [Part 1, Term-based matching](#part1) (165 points):\n",
    "    - Learn how to load a dataset and process it.\n",
    "    - Learn how to implement several standard IR methods (TF-IDF, BM25, QL) and understand their weaknesses & strengths.\n",
    "    - Learn how to evaluate IR methods.\n",
    "- [Part 2, Semantic-based matching](#part2) (85 points):\n",
    "    - Learn how to implement vector-space retrieval methods (LSI, LDA).\n",
    "    - Learn how to use LSI and LDA for re-ranking.\n",
    "\n",
    "\n",
    "**Resources**:\n",
    "- **Part 1**: Sections 2.3, 4.1, 4.2, 4.3, 5.3, 5.6, 5.7, 6.2, 7, 8 of [Search Engines: Information Retrieval in Practice](https://ciir.cs.umass.edu/downloads/SEIRiP.pdf)\n",
    "- **Part 2**: [LSI - Chapter 18](https://nlp.stanford.edu/IR-book/pdf/18lsi.pdf) from [Introduction to Information Retrieval](https://nlp.stanford.edu/IR-book/) book and the [original LDA paper](https://jmlr.org/papers/volume3/blei03a/blei03a.pdf)"
   ]
  },
  {
   "cell_type": "code",
   "execution_count": 1,
   "metadata": {
    "cell_id": "00001-e743cc22-6da0-404e-8b14-8521799dfd06",
    "deepnote_cell_height": 477,
    "deepnote_cell_type": "code",
    "deepnote_to_be_reexecuted": false,
    "deletable": false,
    "editable": false,
    "execution_millis": 4063,
    "execution_start": 1645186524256,
    "nbgrader": {
     "cell_type": "code",
     "checksum": "c55bfe94ff1f564dd595547e516c4c6e",
     "grade": false,
     "grade_id": "cell-f5357fabdb9660e3",
     "locked": true,
     "schema_version": 3,
     "solution": false,
     "task": false
    },
    "source_hash": "33e174b2"
   },
   "outputs": [],
   "source": [
    "# imports\n",
    "# TODO: Ensure that no additional library is imported in the notebook.\n",
    "# TODO: Only the standard library and the following libraries are allowed:\n",
    "# TODO: You can also use unlisted classes from these libraries or standard libraries (such as defaultdict, Counter, ...).\n",
    "\n",
    "import os\n",
    "import zipfile\n",
    "from functools import partial\n",
    "\n",
    "import nltk\n",
    "import requests\n",
    "import numpy as np\n",
    "from tqdm import tqdm\n",
    "\n",
    "import matplotlib.pyplot as plt\n",
    "from matplotlib.pyplot import cm\n",
    "\n",
    "from ipywidgets import widgets\n",
    "from IPython.display import display, HTML\n",
    "\n",
    "# from IPython.html import widgets\n",
    "from collections import namedtuple\n",
    "\n",
    "%matplotlib inline"
   ]
  },
  {
   "cell_type": "markdown",
   "metadata": {
    "cell_id": "00002-8e715841-7edb-4d33-8595-6680b7d47ad7",
    "deepnote_cell_height": 412.390625,
    "deepnote_cell_type": "markdown",
    "deletable": false,
    "editable": false,
    "nbgrader": {
     "cell_type": "markdown",
     "checksum": "c8328f758ca5b69f76eee03dbbdd4715",
     "grade": false,
     "grade_id": "cell-7428e12ed184408b",
     "locked": true,
     "schema_version": 3,
     "solution": false,
     "task": false
    }
   },
   "source": [
    "\n",
    "# Part 1: Term-based Matching (165 points) <a class=\"anchor\" id=\"part1\"></a>\n",
    "\n",
    "[Back to top](#top)\n",
    "\n",
    "In the first part, we will learn the basics of IR from loading and preprocessing the material, to implementing some well known search algorithms, to evaluating the ranking performance of the implemented algorithms. We will be using the CACM dataset throughout the assignment. The CACM dataset is a collection of titles and abstracts from the journal CACM (Communication of the ACM).\n",
    "\n",
    "Table of contents:\n",
    "- [Section 1: Text Processing](#text_processing) (5 points)\n",
    "- [Section 2: Indexing](#indexing) (10 points)\n",
    "- [Section 3: Ranking](#ranking) (80 points)\n",
    "- [Section 4: Evaluation](#evaluation) (40 points)\n",
    "- [Section 5: Analysis](#analysis) (30 points)\n"
   ]
  },
  {
   "cell_type": "markdown",
   "metadata": {
    "cell_id": "00003-584ac16f-6a3d-441f-a49b-132e6d063b8d",
    "deepnote_cell_height": 412.390625,
    "deepnote_cell_type": "markdown",
    "deletable": false,
    "editable": false,
    "nbgrader": {
     "cell_type": "markdown",
     "checksum": "4e3f938065183dc743aa8254b96b4f5e",
     "grade": false,
     "grade_id": "cell-4b24825cf4ae55ec",
     "locked": true,
     "schema_version": 3,
     "solution": false,
     "task": false
    }
   },
   "source": [
    "---\n",
    "## Section 1: Text Processing (5 points)<a class=\"anchor\" id=\"text_processing\"></a>\n",
    "\n",
    "[Back to Part 1](#part1)\n",
    "\n",
    "In this section, we will load the dataset and learn how to clean up the data to make it usable for an IR system.\n",
    "First, go through the implementation of the following functions:\n",
    "- `read_cacm_docs`: Reads in the CACM documents.\n",
    "- `read_queries`: Reads in the CACM queries.\n",
    "- `load_stopwords`: Loads the stopwords.\n",
    "\n",
    "The points of this section are earned for the following implementations:\n",
    "- `tokenize` (3 points): Tokenizes the input text.\n",
    "- `stem_token` (2 points): Stems the given token.\n",
    "\n",
    "We are using the [CACM dataset](http://ir.dcs.gla.ac.uk/resources/test_collections/cacm/), which is a small, classic IR dataset, composed of a collection of titles and abstracts from the journal CACM. It comes with relevance judgements for queries, so we can evaluate our IR system.\n"
   ]
  },
  {
   "cell_type": "markdown",
   "metadata": {
    "cell_id": "00004-f5f9096a-743b-4587-85d1-fc5628227046",
    "deepnote_cell_height": 109,
    "deepnote_cell_type": "markdown",
    "deletable": false,
    "editable": false,
    "nbgrader": {
     "cell_type": "markdown",
     "checksum": "0155d897c7016389d73d160921947a6f",
     "grade": false,
     "grade_id": "cell-45651364e7af6d5a",
     "locked": true,
     "schema_version": 3,
     "solution": false,
     "task": false
    }
   },
   "source": [
    "---\n",
    "### 1.1 Read the CACM documents\n",
    "\n",
    "\n",
    "The following cell downloads the dataset and unzips it to a local directory."
   ]
  },
  {
   "cell_type": "code",
   "execution_count": 2,
   "metadata": {
    "cell_id": "00005-2240a6e7-e312-4d7a-842b-04b160e1f27e",
    "deepnote_cell_height": 549,
    "deepnote_cell_type": "code",
    "deepnote_to_be_reexecuted": false,
    "deletable": false,
    "editable": false,
    "execution_millis": 161,
    "execution_start": 1645186528335,
    "nbgrader": {
     "cell_type": "code",
     "checksum": "4d43c9ad6e77cc01ce4cef0c34824930",
     "grade": false,
     "grade_id": "cell-bbc3030bb3fe7e02",
     "locked": true,
     "schema_version": 3,
     "solution": false,
     "task": false
    },
    "source_hash": "2753ab21"
   },
   "outputs": [],
   "source": [
    "def download_dataset():\n",
    "    folder_path = os.environ.get(\"IR1_DATA_PATH\")\n",
    "    if not folder_path:\n",
    "        folder_path = \"./datasets/\"\n",
    "    os.makedirs(folder_path, exist_ok=True)\n",
    "\n",
    "    file_location = os.path.join(folder_path, \"cacm.zip\")\n",
    "\n",
    "    # download file if it doesn't exist\n",
    "    if not os.path.exists(file_location):\n",
    "\n",
    "        url = \"https://surfdrive.surf.nl/files/index.php/s/M0FGJpX2p8wDwxR/download\"\n",
    "\n",
    "        with open(file_location, \"wb\") as handle:\n",
    "            print(f\"Downloading file from {url} to {file_location}\")\n",
    "            response = requests.get(url, stream=True)\n",
    "            for data in tqdm(response.iter_content()):\n",
    "                handle.write(data)\n",
    "            print(\"Finished downloading file\")\n",
    "\n",
    "    if not os.path.exists(os.path.join(folder_path, \"train.txt\")):\n",
    "\n",
    "        # unzip file\n",
    "        with zipfile.ZipFile(file_location, \"r\") as zip_ref:\n",
    "            zip_ref.extractall(folder_path)\n",
    "\n",
    "\n",
    "download_dataset()"
   ]
  },
  {
   "cell_type": "markdown",
   "metadata": {
    "cell_id": "00006-c429df2f-f87d-4f2b-9acd-506a563a27ba",
    "deepnote_cell_height": 73,
    "deepnote_cell_type": "markdown",
    "deletable": false,
    "editable": false,
    "nbgrader": {
     "cell_type": "markdown",
     "checksum": "31609b0d61d0c74cbd69bc43e47c23be",
     "grade": false,
     "grade_id": "cell-a7dd9a9bf98ede05",
     "locked": true,
     "schema_version": 3,
     "solution": false,
     "task": false
    }
   },
   "source": [
    "---\n",
    "\n",
    "You can see a brief description of each file in the dataset by looking at the README file:"
   ]
  },
  {
   "cell_type": "code",
   "execution_count": 3,
   "metadata": {
    "cell_id": "00007-95c07c75-3366-4db7-b32e-1d9903085e53",
    "deepnote_cell_height": 487,
    "deepnote_cell_type": "code",
    "deepnote_to_be_reexecuted": false,
    "deletable": false,
    "editable": false,
    "execution_millis": 27,
    "execution_start": 1645186528514,
    "nbgrader": {
     "cell_type": "code",
     "checksum": "cb3c9a2b8b2bf4fd5b7446b0c4c00f43",
     "grade": false,
     "grade_id": "cell-9b6ff1a17124711f",
     "locked": true,
     "schema_version": 3,
     "solution": false,
     "task": false
    },
    "source_hash": "4c0f03ad"
   },
   "outputs": [
    {
     "name": "stdout",
     "output_type": "stream",
     "text": [
      "Files in this directory with sizes:\n",
      "          0 Jun 19 21:01 README\n",
      "\n",
      "    2187734 Jun 19 20:55 cacm.all              text of documents\n",
      "        626 Jun 19 20:58 cite.info             key to citation info\n",
      "                                                (the X sections in cacm.all)\n",
      "       2668 Jun 19 20:55 common_words           stop words used by smart\n",
      "       2194 Jun 19 20:55 make_coll*             shell script to make collection\n",
      "       1557 Jun 19 20:55 make_coll_term*        ditto (both useless without\n",
      "                                                smart system)\n",
      "       9948 Jun 19 20:55 qrels.text             relation giving\n",
      "                                                    qid did 0 0\n",
      "                                                to indicate dument did is\n",
      "                                                relevant to query qid\n",
      "      13689 Jun 19 20:55 query.text             Original text of the query\n",
      "\n"
     ]
    }
   ],
   "source": [
    "##### Read the README file\n",
    "with open(\"./datasets/README\", \"r\") as file:\n",
    "    readme = file.read()\n",
    "    print(readme)\n",
    "#####"
   ]
  },
  {
   "cell_type": "markdown",
   "metadata": {
    "cell_id": "00008-c7944957-2e0e-4d0f-be8e-5b5b0a07c4e0",
    "deepnote_cell_height": 180,
    "deepnote_cell_type": "markdown",
    "deletable": false,
    "editable": false,
    "nbgrader": {
     "cell_type": "markdown",
     "checksum": "6e2712c4c4632bf7486a532f7f18074d",
     "grade": false,
     "grade_id": "cell-73351431869fda76",
     "locked": true,
     "schema_version": 3,
     "solution": false,
     "task": false
    }
   },
   "source": [
    "---\n",
    "We are interested in 4 files:\n",
    "- `cacm.all` : Contains the text for all documents. Note that some documents do not have abstracts available\n",
    "- `query.text` : The text of all queries\n",
    "- `qrels.text` : The relevance judgements\n",
    "- `common_words` : A list of common words. This may be used as a collection of stopwords"
   ]
  },
  {
   "cell_type": "code",
   "execution_count": 4,
   "metadata": {
    "cell_id": "00009-e25d351e-8873-4762-a7b4-b03b83e9e5bb",
    "deepnote_cell_height": 845,
    "deepnote_cell_type": "code",
    "deepnote_to_be_reexecuted": false,
    "deletable": false,
    "editable": false,
    "execution_millis": 26,
    "execution_start": 1645186528538,
    "nbgrader": {
     "cell_type": "code",
     "checksum": "f1162c15177eb4ffe466531d03cff4a2",
     "grade": false,
     "grade_id": "cell-b44dd14079f278ca",
     "locked": true,
     "schema_version": 3,
     "solution": false,
     "task": false
    },
    "source_hash": "febb8f7d"
   },
   "outputs": [
    {
     "name": "stdout",
     "output_type": "stream",
     "text": [
      ".I 1\n",
      ".T\n",
      "Preliminary Report-International Algebraic Language\n",
      ".B\n",
      "CACM December, 1958\n",
      ".A\n",
      "Perlis, A. J.\n",
      "Samelson,K.\n",
      ".N\n",
      "CA581203 JB March 22, 1978  8:28 PM\n",
      ".X\n",
      "100\t5\t1\n",
      "123\t5\t1\n",
      "164\t5\t1\n",
      "1\t5\t1\n",
      "1\t5\t1\n",
      "1\t5\t1\n",
      "205\t5\t1\n",
      "210\t5\t1\n",
      "214\t5\t1\n",
      "1982\t5\t1\n",
      "398\t5\t1\n",
      "642\t5\t1\n",
      "669\t5\t1\n",
      "1\t6\t1\n",
      "1\t6\t1\n",
      "1\t6\t1\n",
      "1\t6\t1\n",
      "1\t6\t1\n",
      "1\t6\t1\n",
      "1\t6\t1\n",
      "1\t6\t1\n",
      "1\t6\t1\n",
      "1\t6\t1\n",
      "165\t6\t1\n",
      "196\t6\t1\n",
      "196\t6\t1\n",
      "1273\t6\t1\n",
      "1883\t6\t1\n",
      "324\t6\t1\n",
      "43\t6\t1\n",
      "53\t6\t1\n",
      "91\t6\t1\n",
      "410\t6\t1\n",
      "3184\t6\t1\n",
      "\n"
     ]
    }
   ],
   "source": [
    "##### The first 45 lines of the CACM dataset forms the first record\n",
    "# We are interested only in 3 fields.\n",
    "# 1. the '.I' field, which is the document id\n",
    "# 2. the '.T' field (the title) and\n",
    "# 3. the '.W' field (the abstract, which may be absent)\n",
    "with open(\"./datasets/cacm.all\", \"r\") as file:\n",
    "    cacm_all = \"\".join(file.readlines()[:45])\n",
    "    print(cacm_all)\n",
    "#####"
   ]
  },
  {
   "cell_type": "markdown",
   "metadata": {
    "cell_id": "00010-d7f469bf-422b-4c8f-b6c8-a7fd61a967cb",
    "deepnote_cell_height": 75.796875,
    "deepnote_cell_type": "markdown",
    "deletable": false,
    "editable": false,
    "nbgrader": {
     "cell_type": "markdown",
     "checksum": "250b413baccd8efb186bb46a34ae0060",
     "grade": false,
     "grade_id": "cell-c4bf2e263ec553d8",
     "locked": true,
     "schema_version": 3,
     "solution": false,
     "task": false
    }
   },
   "source": [
    "---\n",
    "\n",
    "The following function reads the `cacm.all` file. Note that each document has a variable number of lines. The `.I` field denotes a new document:"
   ]
  },
  {
   "cell_type": "code",
   "execution_count": 5,
   "metadata": {
    "cell_id": "00011-d8ec70b0-a73d-4fdc-a8a5-9f3fb8f3ba22",
    "deepnote_cell_height": 1017,
    "deepnote_cell_type": "code",
    "deepnote_to_be_reexecuted": false,
    "deletable": false,
    "editable": false,
    "execution_millis": 0,
    "execution_start": 1645186528613,
    "nbgrader": {
     "cell_type": "code",
     "checksum": "57d757e6a7a6938740dc899022b4f291",
     "grade": false,
     "grade_id": "cell-b736116eb419c624",
     "locked": true,
     "schema_version": 3,
     "solution": false,
     "task": false
    },
    "source_hash": "fa1cfb4d"
   },
   "outputs": [],
   "source": [
    "def read_cacm_docs(root_folder=\"./datasets/\"):\n",
    "    \"\"\"\n",
    "    Reads in the CACM documents. The dataset is assumed to be in the folder \"./datasets/\" by default\n",
    "    Returns: A list of 2-tuples: (doc_id, document), where 'document' is a single string created by\n",
    "        appending the title and abstract (separated by a \"\\n\").\n",
    "        In case the record doesn't have an abstract, the document is composed only by the title\n",
    "    \"\"\"\n",
    "    with open(os.path.join(root_folder, \"cacm.all\")) as reader:\n",
    "        lines = reader.readlines()\n",
    "\n",
    "    doc_id, title, abstract = None, None, None\n",
    "\n",
    "    docs = []\n",
    "    line_idx = 0\n",
    "    while line_idx < len(lines):\n",
    "        line = lines[line_idx]\n",
    "        if line.startswith(\".I\"):\n",
    "            if doc_id is not None:\n",
    "                docs.append((doc_id, title, abstract))\n",
    "                doc_id, title, abstract = None, None, None\n",
    "\n",
    "            doc_id = line.split()[-1]\n",
    "            line_idx += 1\n",
    "        elif line.startswith(\".T\"):\n",
    "            # start at next line\n",
    "            line_idx += 1\n",
    "            temp_lines = []\n",
    "            # read till next '.'\n",
    "            while not lines[line_idx].startswith(\".\"):\n",
    "                temp_lines.append(lines[line_idx].strip(\"\\n\"))\n",
    "                line_idx += 1\n",
    "            title = \"\\n\".join(temp_lines).strip(\"\\n\")\n",
    "        elif line.startswith(\".W\"):\n",
    "            # start at next line\n",
    "            line_idx += 1\n",
    "            temp_lines = []\n",
    "            # read till next '.'\n",
    "            while not lines[line_idx].startswith(\".\"):\n",
    "                temp_lines.append(lines[line_idx].strip(\"\\n\"))\n",
    "                line_idx += 1\n",
    "            abstract = \"\\n\".join(temp_lines).strip(\"\\n\")\n",
    "        else:\n",
    "            line_idx += 1\n",
    "\n",
    "    docs.append((doc_id, title, abstract))\n",
    "\n",
    "    p_docs = []\n",
    "    for (did, t, a) in docs:\n",
    "        if a is None:\n",
    "            a = \"\"\n",
    "        p_docs.append((did, t + \"\\n\" + a))\n",
    "    return p_docs"
   ]
  },
  {
   "cell_type": "code",
   "execution_count": 6,
   "metadata": {
    "cell_id": "00012-13ff3a4b-46f3-4ca8-bc11-8b0c7a9e7c37",
    "deepnote_cell_height": 243,
    "deepnote_cell_type": "code",
    "deepnote_to_be_reexecuted": false,
    "deletable": false,
    "editable": false,
    "execution_millis": 278,
    "execution_start": 1645186528614,
    "nbgrader": {
     "cell_type": "code",
     "checksum": "2f81930fcd89670b6e20e2255e1f2369",
     "grade": false,
     "grade_id": "cell-a1c43818e0d3fd79",
     "locked": true,
     "schema_version": 3,
     "solution": false,
     "task": false
    },
    "source_hash": "2097c72a"
   },
   "outputs": [],
   "source": [
    "##### Function check\n",
    "docs = read_cacm_docs()\n",
    "\n",
    "assert isinstance(docs, list)\n",
    "assert len(docs) == 3204, \"There should be exactly 3204 documents\"\n",
    "\n",
    "unzipped_docs = list(zip(*docs))\n",
    "assert np.sum(np.array(list(map(int, unzipped_docs[0])))) == 5134410\n",
    "\n",
    "#####"
   ]
  },
  {
   "cell_type": "markdown",
   "metadata": {
    "cell_id": "00013-1ff4fce0-2fe6-4b49-b16d-b5c203b29a47",
    "deepnote_cell_height": 102,
    "deepnote_cell_type": "markdown",
    "deletable": false,
    "editable": false,
    "nbgrader": {
     "cell_type": "markdown",
     "checksum": "25fd3cfaf2137c56002b850699b3c9d3",
     "grade": false,
     "grade_id": "cell-5ed2ddc91f73c60e",
     "locked": true,
     "schema_version": 3,
     "solution": false,
     "task": false
    }
   },
   "source": [
    "---\n",
    "### 1.2 Read the CACM queries\n",
    "\n",
    "Next, let us read the queries. They are formatted similarly:"
   ]
  },
  {
   "cell_type": "code",
   "execution_count": 7,
   "metadata": {
    "cell_id": "00014-0bdc1ebf-91a6-4e65-8ced-22256899c96d",
    "deepnote_cell_height": 484.8125,
    "deepnote_cell_type": "code",
    "deepnote_to_be_reexecuted": false,
    "deletable": false,
    "editable": false,
    "execution_millis": 705,
    "execution_start": 1645186528932,
    "nbgrader": {
     "cell_type": "code",
     "checksum": "5d26c0908e758acb9968b84056b1060a",
     "grade": false,
     "grade_id": "cell-5c7e8e7c4fc2757f",
     "locked": true,
     "schema_version": 3,
     "solution": false,
     "task": false
    },
    "source_hash": "77367602"
   },
   "outputs": [
    {
     "name": "stdout",
     "output_type": "stream",
     "text": [
      ".I 1\n",
      ".W\n",
      " What articles exist which deal with TSS (Time Sharing System), an\n",
      "operating system for IBM computers?\n",
      ".N\n",
      " 1. Richard Alexander, Comp Serv, Langmuir Lab (TSS)\n",
      " \n",
      ".I 2\n",
      ".W\n",
      " I am interested in articles written either by Prieve or Udo Pooch\n",
      ".A\n",
      "Prieve, B.\n",
      "Pooch, U.\n",
      ".N\n",
      " 2. Richard Alexander, Comp Serv, Langmuir Lab (author = Pooch or Prieve)\n"
     ]
    }
   ],
   "source": [
    "##### The first 15 lines of 'query.text' has 2 queries\n",
    "# We are interested only in 2 fields.\n",
    "# 1. the '.I' - the query id\n",
    "# 2. the '.W' - the query\n",
    "!head -15 ./datasets/query.text\n",
    "#####"
   ]
  },
  {
   "cell_type": "markdown",
   "metadata": {
    "cell_id": "00015-eceaa8fc-26fc-4d4d-b03e-7eb44f7e89f3",
    "deepnote_cell_height": 73,
    "deepnote_cell_type": "markdown",
    "deletable": false,
    "editable": false,
    "nbgrader": {
     "cell_type": "markdown",
     "checksum": "8f19f311a660f30e3f86cb0f7037d54a",
     "grade": false,
     "grade_id": "cell-88e293507d2dcef6",
     "locked": true,
     "schema_version": 3,
     "solution": false,
     "task": false
    }
   },
   "source": [
    "---\n",
    "\n",
    "The following function reads the `query.text` file:"
   ]
  },
  {
   "cell_type": "code",
   "execution_count": 8,
   "metadata": {
    "cell_id": "00016-2445d62c-60c0-4d48-a540-37dbb0d76726",
    "deepnote_cell_height": 711,
    "deepnote_cell_type": "code",
    "deepnote_to_be_reexecuted": false,
    "deletable": false,
    "editable": false,
    "execution_millis": 26,
    "execution_start": 1645186529390,
    "nbgrader": {
     "cell_type": "code",
     "checksum": "e3fbb193211007672849487f5cff1664",
     "grade": false,
     "grade_id": "cell-433e3ad5d0e2572a",
     "locked": true,
     "schema_version": 3,
     "solution": false,
     "task": false
    },
    "source_hash": "2d5784f8"
   },
   "outputs": [],
   "source": [
    "def read_queries(root_folder=\"./datasets/\"):\n",
    "    \"\"\"\n",
    "    Reads in the CACM queries. The dataset is assumed to be in the folder \"./datasets/\" by default\n",
    "    Returns: A list of 2-tuples: (query_id, query)\n",
    "    \"\"\"\n",
    "    with open(os.path.join(root_folder, \"query.text\")) as reader:\n",
    "        lines = reader.readlines()\n",
    "\n",
    "    query_id, query = None, None\n",
    "\n",
    "    queries = []\n",
    "    line_idx = 0\n",
    "    while line_idx < len(lines):\n",
    "        line = lines[line_idx]\n",
    "        if line.startswith(\".I\"):\n",
    "            if query_id is not None:\n",
    "                queries.append((query_id, query))\n",
    "                query_id, query = None, None\n",
    "\n",
    "            query_id = line.split()[-1]\n",
    "            line_idx += 1\n",
    "        elif line.startswith(\".W\"):\n",
    "            # start at next line\n",
    "            line_idx += 1\n",
    "            temp_lines = []\n",
    "            # read till next '.'\n",
    "            while not lines[line_idx].startswith(\".\"):\n",
    "                temp_lines.append(lines[line_idx].strip(\"\\n\"))\n",
    "                line_idx += 1\n",
    "            query = \"\\n\".join(temp_lines).strip(\"\\n\")\n",
    "        else:\n",
    "            line_idx += 1\n",
    "\n",
    "    queries.append((query_id, query))\n",
    "    return queries"
   ]
  },
  {
   "cell_type": "code",
   "execution_count": 9,
   "metadata": {
    "cell_id": "00017-dc95abe6-036f-4502-89fe-db249a8bbfc4",
    "deepnote_cell_height": 243,
    "deepnote_cell_type": "code",
    "deepnote_to_be_reexecuted": false,
    "deletable": false,
    "editable": false,
    "execution_millis": 12,
    "execution_start": 1645186529424,
    "nbgrader": {
     "cell_type": "code",
     "checksum": "a897b9771b54f447be3418d7246fc4a0",
     "grade": false,
     "grade_id": "cell-6ec540abce66c598",
     "locked": true,
     "schema_version": 3,
     "solution": false,
     "task": false
    },
    "source_hash": "1e048f3c"
   },
   "outputs": [],
   "source": [
    "##### Function check\n",
    "queries = read_queries()\n",
    "\n",
    "assert isinstance(queries, list)\n",
    "assert len(queries) == 64 and all(\n",
    "    [q[1] is not None for q in queries]\n",
    "), \"There should be exactly 64 queries\"\n",
    "\n",
    "unzipped_queries = list(zip(*queries))\n",
    "assert np.sum(np.array(list(map(int, unzipped_queries[0])))) == 2080\n",
    "\n",
    "#####"
   ]
  },
  {
   "cell_type": "markdown",
   "metadata": {
    "cell_id": "00018-9cf3ea3e-f138-4fe8-b91b-c92620441832",
    "deepnote_cell_height": 101.390625,
    "deepnote_cell_type": "markdown",
    "deletable": false,
    "editable": false,
    "nbgrader": {
     "cell_type": "markdown",
     "checksum": "a300c41912ac63b239070b4c15c9f5c5",
     "grade": false,
     "grade_id": "cell-1c31569491d7b782",
     "locked": true,
     "schema_version": 3,
     "solution": false,
     "task": false
    }
   },
   "source": [
    "---\n",
    "### 1.3 Read the stop words\n",
    "\n",
    "We use the common words stored in `common_words`:"
   ]
  },
  {
   "cell_type": "code",
   "execution_count": 10,
   "metadata": {
    "cell_id": "00019-4761ff11-d8b4-4f7b-acbf-6d600cfb2ae6",
    "deepnote_cell_height": 329.875,
    "deepnote_cell_type": "code",
    "deepnote_to_be_reexecuted": false,
    "deletable": false,
    "editable": false,
    "execution_millis": 507,
    "execution_start": 1645186529451,
    "nbgrader": {
     "cell_type": "code",
     "checksum": "1ad6f5bae6a792504c1c8513ae5751ad",
     "grade": false,
     "grade_id": "cell-34bdb63461418a96",
     "locked": true,
     "schema_version": 3,
     "solution": false,
     "task": false
    },
    "source_hash": "dcdd806"
   },
   "outputs": [
    {
     "name": "stdout",
     "output_type": "stream",
     "text": [
      "a\n",
      "about\n",
      "above\n",
      "accordingly\n",
      "across\n",
      "after\n",
      "afterwards\n",
      "again\n",
      "against\n",
      "all\n"
     ]
    }
   ],
   "source": [
    "##### Read the stop words file\n",
    "!head ./datasets/common_words\n",
    "##### Read the README file"
   ]
  },
  {
   "cell_type": "markdown",
   "metadata": {
    "cell_id": "00020-069760f9-d798-4ad6-acfa-e7454a3c3a46",
    "deepnote_cell_height": 73,
    "deepnote_cell_type": "markdown",
    "deletable": false,
    "editable": false,
    "nbgrader": {
     "cell_type": "markdown",
     "checksum": "6d0fe612e770213b6397c2179b07a966",
     "grade": false,
     "grade_id": "cell-4744bde0338895d8",
     "locked": true,
     "schema_version": 3,
     "solution": false,
     "task": false
    }
   },
   "source": [
    "---\n",
    "\n",
    "The following function reads the `common_words` file (For better coverage, we try to keep them in lowercase):"
   ]
  },
  {
   "cell_type": "code",
   "execution_count": 11,
   "metadata": {
    "cell_id": "00021-51bc2922-72bf-4550-a4fb-c1867fa0e652",
    "deepnote_cell_height": 243,
    "deepnote_cell_type": "code",
    "deepnote_to_be_reexecuted": false,
    "deletable": false,
    "editable": false,
    "execution_millis": 9,
    "execution_start": 1645186529974,
    "nbgrader": {
     "cell_type": "code",
     "checksum": "9409713fd26eb0c33587e190638997c4",
     "grade": false,
     "grade_id": "cell-7357aa40f64e5bcb",
     "locked": true,
     "schema_version": 3,
     "solution": false,
     "task": false
    },
    "source_hash": "51ba1eb9"
   },
   "outputs": [],
   "source": [
    "def load_stopwords(root_folder=\"./datasets/\"):\n",
    "    \"\"\"\n",
    "    Loads the stopwords. The dataset is assumed to be in the folder \"./datasets/\" by default\n",
    "    Output: A set of stopwords\n",
    "    \"\"\"\n",
    "    with open(os.path.join(root_folder, \"common_words\")) as reader:\n",
    "        lines = reader.readlines()\n",
    "    stopwords = set([l.strip().lower() for l in lines])\n",
    "    return stopwords"
   ]
  },
  {
   "cell_type": "code",
   "execution_count": 12,
   "metadata": {
    "cell_id": "00022-dda7ebba-cd50-496a-94a3-6c8873e6ba02",
    "deepnote_cell_height": 243,
    "deepnote_cell_type": "code",
    "deepnote_to_be_reexecuted": false,
    "deletable": false,
    "editable": false,
    "execution_millis": 13,
    "execution_start": 1645186529993,
    "lines_to_next_cell": 2,
    "nbgrader": {
     "cell_type": "code",
     "checksum": "f1c8153c3c38133bc2db6e7b076ad470",
     "grade": false,
     "grade_id": "cell-2ca3ac162004de97",
     "locked": true,
     "schema_version": 3,
     "solution": false,
     "task": false
    },
    "source_hash": "9447931d"
   },
   "outputs": [],
   "source": [
    "##### Function check\n",
    "stopwords = load_stopwords()\n",
    "\n",
    "assert isinstance(stopwords, set)\n",
    "assert len(stopwords) == 428, \"There should be exactly 428 stop words\"\n",
    "\n",
    "assert np.sum(np.array(list(map(len, stopwords)))) == 2234\n",
    "\n",
    "#####"
   ]
  },
  {
   "cell_type": "markdown",
   "metadata": {
    "cell_id": "00023-02a21236-0c4b-4910-9573-63f1698beaf3",
    "deepnote_cell_height": 145,
    "deepnote_cell_type": "markdown",
    "deletable": false,
    "editable": false,
    "nbgrader": {
     "cell_type": "markdown",
     "checksum": "92c1191e9e7291dcf0d70dc67b907a65",
     "grade": false,
     "grade_id": "cell-134b72872f4300cb",
     "locked": true,
     "schema_version": 3,
     "solution": false,
     "task": false
    }
   },
   "source": [
    "---\n",
    "### 1.4 Tokenization (3 points)\n",
    "\n",
    "We can now write some basic text processing functions.\n",
    "A first step is to tokenize the text.\n",
    "\n",
    "**Note**: Use the  `WordPunctTokenizer` available in the `nltk` library:"
   ]
  },
  {
   "cell_type": "code",
   "execution_count": 13,
   "metadata": {
    "cell_id": "00024-20a3377b-ad24-430a-82d5-e091938ed1fd",
    "deepnote_cell_height": 261,
    "deepnote_cell_type": "code",
    "deepnote_to_be_reexecuted": false,
    "deletable": false,
    "execution_millis": 11,
    "execution_start": 1645186530014,
    "nbgrader": {
     "cell_type": "code",
     "checksum": "3f5564d3c75bf22fbf832b3a9b938f37",
     "grade": false,
     "grade_id": "cell-322be4c9499bdc4b",
     "locked": false,
     "schema_version": 3,
     "solution": true,
     "task": false
    },
    "source_hash": "bd78cb4e"
   },
   "outputs": [],
   "source": [
    "# TODO: Implement this! (4 points)\n",
    "def tokenize(text):\n",
    "    \"\"\"\n",
    "    Tokenizes the input text. Use the WordPunctTokenizer\n",
    "    Input: text - a string\n",
    "    Output: a list of tokens\n",
    "    \"\"\"\n",
    "    # YOUR CODE HERE\n",
    "\n",
    "    tk = nltk.WordPunctTokenizer()\n",
    "    return tk.tokenize(text)"
   ]
  },
  {
   "cell_type": "code",
   "execution_count": 14,
   "metadata": {
    "cell_id": "00025-0c49633e-d8dd-4c28-ac8d-9576e19b544d",
    "deepnote_cell_height": 274.1875,
    "deepnote_cell_type": "code",
    "deepnote_to_be_reexecuted": false,
    "deletable": false,
    "editable": false,
    "execution_millis": 54,
    "execution_start": 1645186530041,
    "nbgrader": {
     "cell_type": "code",
     "checksum": "e15af22c4d8ae0a3f9dac43bef7097ec",
     "grade": true,
     "grade_id": "cell-7fbf48bf7541a622",
     "locked": true,
     "points": 3,
     "schema_version": 3,
     "solution": false,
     "task": false
    },
    "source_hash": "f61c33ef"
   },
   "outputs": [
    {
     "name": "stdout",
     "output_type": "stream",
     "text": [
      "['the', 'quick', 'brown', 'fox', 'jumps', 'over', 'the', 'lazy', 'dog']\n"
     ]
    }
   ],
   "source": [
    "##### Function check\n",
    "text = \"the quick brown fox jumps over the lazy dog\"\n",
    "tokens = tokenize(text)\n",
    "\n",
    "assert isinstance(tokens, list)\n",
    "assert len(tokens) == 9\n",
    "\n",
    "print(tokens)\n",
    "# output: ['the', 'quick', 'brown', 'fox', 'jumps', 'over', 'the', 'lazy', 'dog']\n",
    "#####"
   ]
  },
  {
   "cell_type": "markdown",
   "metadata": {
    "cell_id": "00026-a6caa299-880e-4184-b7bd-5732cfcf3e9c",
    "deepnote_cell_height": 109,
    "deepnote_cell_type": "markdown",
    "deletable": false,
    "editable": false,
    "nbgrader": {
     "cell_type": "markdown",
     "checksum": "34210618bff4cb47aad2f03cb4b9854c",
     "grade": false,
     "grade_id": "cell-fd1b98ae61b697ca",
     "locked": true,
     "schema_version": 3,
     "solution": false,
     "task": false
    }
   },
   "source": [
    "---\n",
    "### 1.5 Stemming (2 points)\n",
    "\n",
    "Write a function to stem tokens.\n",
    "Again, you can use the nltk library for this:"
   ]
  },
  {
   "cell_type": "code",
   "execution_count": 15,
   "metadata": {
    "cell_id": "00027-57678786-6fcf-4e83-b285-1e3a44cb6ecb",
    "deepnote_cell_height": 225,
    "deepnote_cell_type": "code",
    "deepnote_to_be_reexecuted": false,
    "deletable": false,
    "execution_millis": 0,
    "execution_start": 1645186530093,
    "nbgrader": {
     "cell_type": "code",
     "checksum": "1c4a6aa979d66158c7b6b992af43293a",
     "grade": false,
     "grade_id": "cell-e3f6c8e3f874b28d",
     "locked": false,
     "schema_version": 3,
     "solution": true,
     "task": false
    },
    "source_hash": "e2a034fd"
   },
   "outputs": [],
   "source": [
    "# TODO: Implement this! (3 points)\n",
    "def stem_token(token):\n",
    "    \"\"\"\n",
    "    Stems the given token using the PorterStemmer from the nltk library\n",
    "    Input: a single token\n",
    "    Output: the stem of the token\n",
    "    \"\"\"\n",
    "    stemmer = nltk.stem.PorterStemmer()\n",
    "    return stemmer.stem(token)"
   ]
  },
  {
   "cell_type": "code",
   "execution_count": 16,
   "metadata": {
    "cell_id": "00028-4d95bdd0-4345-4198-aa73-21d2d2ec2b85",
    "deepnote_cell_height": 153,
    "deepnote_cell_type": "code",
    "deepnote_to_be_reexecuted": false,
    "deletable": false,
    "editable": false,
    "execution_millis": 0,
    "execution_start": 1645186530094,
    "nbgrader": {
     "cell_type": "code",
     "checksum": "9363b4f09b556d424d9c895d4ab57b1c",
     "grade": true,
     "grade_id": "cell-cd6863e6ee6ed205",
     "locked": true,
     "points": 2,
     "schema_version": 3,
     "solution": false,
     "task": false
    },
    "source_hash": "3fc993b6"
   },
   "outputs": [],
   "source": [
    "##### Function check\n",
    "\n",
    "assert stem_token(\"owned\") == \"own\"\n",
    "assert stem_token(\"itemization\") == \"item\"\n",
    "#####"
   ]
  },
  {
   "cell_type": "markdown",
   "metadata": {
    "cell_id": "00029-e536d93c-8362-48e7-bfc2-906702746aef",
    "deepnote_cell_height": 123.796875,
    "deepnote_cell_type": "markdown",
    "deletable": false,
    "editable": false,
    "nbgrader": {
     "cell_type": "markdown",
     "checksum": "0b311d014146da6afa1d39542fab9869",
     "grade": false,
     "grade_id": "cell-47c9f90498699110",
     "locked": true,
     "schema_version": 3,
     "solution": false,
     "task": false
    }
   },
   "source": [
    "---\n",
    "### 1.6 Summary\n",
    "\n",
    "The following function puts it all together. Given an input string, this functions tokenizes and processes it according to the flags that you set."
   ]
  },
  {
   "cell_type": "code",
   "execution_count": 17,
   "metadata": {
    "cell_id": "00030-31b7404f-596c-4622-9100-0bc4ab089ea7",
    "deepnote_cell_height": 333,
    "deepnote_cell_type": "code",
    "deepnote_to_be_reexecuted": false,
    "deletable": false,
    "editable": false,
    "execution_millis": 0,
    "execution_start": 1645186530137,
    "lines_to_next_cell": 2,
    "nbgrader": {
     "cell_type": "code",
     "checksum": "2ff2d215ee8e0039c5a91fd3de12e6bd",
     "grade": false,
     "grade_id": "cell-dd0d3f46b30801da",
     "locked": true,
     "schema_version": 3,
     "solution": false,
     "task": false
    },
    "source_hash": "c4811d1d"
   },
   "outputs": [],
   "source": [
    "#### Putting it all together\n",
    "def process_text(text, stem=False, remove_stopwords=False, lowercase_text=False):\n",
    "\n",
    "    tokens = []\n",
    "    for token in tokenize(text):\n",
    "        if remove_stopwords and token.lower() in stopwords:\n",
    "            continue\n",
    "        if stem:\n",
    "            token = stem_token(token)\n",
    "        if lowercase_text:\n",
    "            token = token.lower()\n",
    "        tokens.append(token)\n",
    "\n",
    "    return tokens\n",
    "\n",
    "\n",
    "####"
   ]
  },
  {
   "cell_type": "markdown",
   "metadata": {
    "cell_id": "00031-9539610f-160b-4b6d-a351-9bd434d6c9ea",
    "deepnote_cell_height": 91,
    "deepnote_cell_type": "markdown",
    "deletable": false,
    "editable": false,
    "nbgrader": {
     "cell_type": "markdown",
     "checksum": "02d433b18eb43654fa4306a7bf55b190",
     "grade": false,
     "grade_id": "cell-8d885bfd2edd43ae",
     "locked": true,
     "schema_version": 3,
     "solution": false,
     "task": false
    }
   },
   "source": [
    "---\n",
    "\n",
    "Let's create two sets of preprocessed documents.\n",
    "We can process the documents and queries according to these two configurations:"
   ]
  },
  {
   "cell_type": "code",
   "execution_count": 18,
   "metadata": {
    "cell_id": "00032-c5510010-2967-4ace-b12f-1e9e8118e3b4",
    "deepnote_cell_height": 513,
    "deepnote_cell_type": "code",
    "deepnote_to_be_reexecuted": false,
    "deletable": false,
    "editable": false,
    "execution_millis": 7882,
    "execution_start": 1645186530149,
    "nbgrader": {
     "cell_type": "code",
     "checksum": "dbe4ca667be6842fdcf512fbcad50c7f",
     "grade": false,
     "grade_id": "cell-d427365ee0fb21d8",
     "locked": true,
     "schema_version": 3,
     "solution": false,
     "task": false
    },
    "source_hash": "f953b790"
   },
   "outputs": [],
   "source": [
    "# In this configuration:\n",
    "# Don't preprocess the text, except to tokenize\n",
    "config_1 = {\"stem\": False, \"remove_stopwords\": False, \"lowercase_text\": True}\n",
    "\n",
    "\n",
    "# In this configuration:\n",
    "# Preprocess the text, stem and remove stopwords\n",
    "config_2 = {\n",
    "    \"stem\": True,\n",
    "    \"remove_stopwords\": True,\n",
    "    \"lowercase_text\": True,\n",
    "}\n",
    "\n",
    "####\n",
    "doc_repr_1 = []\n",
    "doc_repr_2 = []\n",
    "for (doc_id, document) in docs:\n",
    "    doc_repr_1.append((doc_id, process_text(document, **config_1)))\n",
    "    doc_repr_2.append((doc_id, process_text(document, **config_2)))\n",
    "\n",
    "####"
   ]
  },
  {
   "cell_type": "markdown",
   "metadata": {
    "cell_id": "00033-f33e20e5-c218-4e92-9c23-845b4e42997e",
    "deepnote_cell_height": 415,
    "deepnote_cell_type": "markdown",
    "deletable": false,
    "editable": false,
    "nbgrader": {
     "cell_type": "markdown",
     "checksum": "b60589aac19e80941d860d9b3f1e9a16",
     "grade": false,
     "grade_id": "cell-b1c102db61ae7495",
     "locked": true,
     "schema_version": 3,
     "solution": false,
     "task": false
    }
   },
   "source": [
    "---\n",
    "\n",
    "## Section 2: Indexing (10 points)<a class=\"anchor\" id=\"indexing\"></a>\n",
    "\n",
    "[Back to Part 1](#part1)\n",
    "\n",
    "\n",
    "\n",
    "A retrieval function usually takes in a query document pair, and scores a query against a document.  Our document set is quite small - just a few thousand documents. However, consider a web-scale dataset with a few million documents. In such a scenario, it would become infeasible to score every query and document pair. In such a case, we can build an inverted index. From Wikipedia:\n",
    "\n",
    "> ... , an inverted index (also referred to as a postings file or inverted file) is a database index storing a mapping from content, such as words or numbers, to its locations in a table, .... The purpose of an inverted index is to allow fast full-text searches, at a cost of increased processing when a document is added to the database. ...\n",
    "\n",
    "\n",
    "Consider a simple inverted index, which maps from word to document. This can improve the performance of a retrieval system significantly. In this assignment, we consider a *simple* inverted index, which maps a word to a set of documents. In practice, however, more complex indices might be used.\n"
   ]
  },
  {
   "cell_type": "markdown",
   "metadata": {
    "cell_id": "00034-e0be6b84-2eca-463d-9411-0a876fee2070",
    "deepnote_cell_height": 181.59375,
    "deepnote_cell_type": "markdown",
    "deletable": false,
    "editable": false,
    "nbgrader": {
     "cell_type": "markdown",
     "checksum": "710fd943f45523ac36fcb887cc0d4d39",
     "grade": false,
     "grade_id": "cell-fa373192c1b7bb95",
     "locked": true,
     "schema_version": 3,
     "solution": false,
     "task": false
    }
   },
   "source": [
    "### 2.1 Term Frequency-index (10 points)\n",
    "In this assignment, we will be using an index created in memory since our dataset is tiny. To get started, build a simple index that maps each `token` to a list of `(doc_id, count)` where `count` is the count of the `token` in `doc_id`.\n",
    "For consistency, build this index using a python dictionary.\n",
    "\n",
    "Now, implement a function to build an index:"
   ]
  },
  {
   "cell_type": "code",
   "execution_count": 19,
   "metadata": {
    "cell_id": "00035-e27ae026-b063-450a-8cb5-6336175b5cb0",
    "deepnote_cell_height": 495,
    "deepnote_cell_type": "code",
    "deepnote_to_be_reexecuted": false,
    "deletable": false,
    "execution_millis": 8,
    "execution_start": 1645186538048,
    "nbgrader": {
     "cell_type": "code",
     "checksum": "d4e8c6b658c469379d5fe511de05b536",
     "grade": false,
     "grade_id": "cell-077599b87e953209",
     "locked": false,
     "schema_version": 3,
     "solution": true,
     "task": false
    },
    "source_hash": "b7da36f"
   },
   "outputs": [],
   "source": [
    "# need defaultdict to handle cases when queried word is missing from our documents\n",
    "# https://piazza.com/class/kyiksrdfk0b6te?cid=38\n",
    "# https://piazza.com/class/kyiksrdfk0b6te?cid=39\n",
    "from collections import defaultdict\n",
    "\n",
    "# TODO: Implement this! (10 points)\n",
    "def build_tf_index(documents):\n",
    "    \"\"\"\n",
    "    Build an inverted index (with counts).\n",
    "    The output is a dictionary which takes in a token and\n",
    "    returns a list of (doc_id, count)\n",
    "    where 'count' is the count of the 'token' in 'doc_id'\n",
    "\n",
    "    Input: a list of documents - (doc_id, tokens)\n",
    "    Output: An inverted index implemented within a pyhton dictionary:\n",
    "        [token] -> [(doc_id, token_count)]\n",
    "    \"\"\"\n",
    "    # YOUR CODE HERE\n",
    "    tf_index = defaultdict(list)\n",
    "    for doc_id, tokens in documents:\n",
    "        tokens_set = set(tokens)\n",
    "        for token in tokens_set:\n",
    "            tf_index[token].append((doc_id, tokens.count(token)))\n",
    "    return tf_index"
   ]
  },
  {
   "cell_type": "markdown",
   "metadata": {
    "cell_id": "00036-4124a1b7-00df-4a57-861c-2e9cd705ce17",
    "deepnote_cell_height": 55,
    "deepnote_cell_type": "markdown",
    "deletable": false,
    "editable": false,
    "nbgrader": {
     "cell_type": "markdown",
     "checksum": "15e7041b4323d2a290322de538ff7670",
     "grade": false,
     "grade_id": "cell-093aebfa504f96f2",
     "locked": true,
     "schema_version": 3,
     "solution": false,
     "task": false
    }
   },
   "source": [
    "---\n",
    "Now we can build indexed documents and preprocess the queries based on the two configurations:"
   ]
  },
  {
   "cell_type": "code",
   "execution_count": 20,
   "metadata": {
    "cell_id": "00037-db077994-3c24-4f9b-a642-d416e54c8d1e",
    "deepnote_cell_height": 531,
    "deepnote_cell_type": "code",
    "deepnote_to_be_reexecuted": false,
    "deletable": false,
    "editable": false,
    "execution_millis": 845,
    "execution_start": 1645186538116,
    "lines_to_next_cell": 2,
    "nbgrader": {
     "cell_type": "code",
     "checksum": "e27540c1d8d77a3779a05f557f3f40c6",
     "grade": false,
     "grade_id": "cell-b2ff1676348b90a8",
     "locked": true,
     "schema_version": 3,
     "solution": false,
     "task": false
    },
    "source_hash": "2d1fa9f3"
   },
   "outputs": [],
   "source": [
    "#### Indexed documents based on the two configs\n",
    "\n",
    "# Create the 2 indices\n",
    "tf_index_1 = build_tf_index(doc_repr_1)\n",
    "tf_index_2 = build_tf_index(doc_repr_2)\n",
    "\n",
    "# This function returns the tf_index of the corresponding config\n",
    "def get_index(index_set):\n",
    "    assert index_set in {1, 2}\n",
    "    return {1: tf_index_1, 2: tf_index_2}[index_set]\n",
    "\n",
    "\n",
    "####\n",
    "#### Preprocessed query based on the two configs\n",
    "\n",
    "# This function preprocesses the text given the index set, according to the specified config\n",
    "def preprocess_query(text, index_set):\n",
    "    assert index_set in {1, 2}\n",
    "    if index_set == 1:\n",
    "        return process_text(text, **config_1)\n",
    "    elif index_set == 2:\n",
    "        return process_text(text, **config_2)\n",
    "\n",
    "\n",
    "####"
   ]
  },
  {
   "cell_type": "code",
   "execution_count": 21,
   "metadata": {
    "cell_id": "00038-fb5a08f4-5f40-4923-a62b-02af9b853e1f",
    "deepnote_cell_height": 298.375,
    "deepnote_cell_type": "code",
    "deepnote_to_be_reexecuted": false,
    "deletable": false,
    "editable": false,
    "execution_millis": 11244305,
    "execution_start": 1645186538979,
    "nbgrader": {
     "cell_type": "code",
     "checksum": "f0cbc8703e1248cd6edf03f9019b69db",
     "grade": true,
     "grade_id": "cell-fc7c7232d5d2ee46",
     "locked": true,
     "points": 5,
     "schema_version": 3,
     "solution": false,
     "task": false
    },
    "source_hash": "2220f2b7"
   },
   "outputs": [
    {
     "name": "stdout",
     "output_type": "stream",
     "text": [
      "sample tf index for computer: [('4', 1), ('7', 1), ('10', 1), ('13', 1), ('19', 1), ('22', 1), ('23', 1), ('37', 1), ('40', 3), ('41', 1)]\n",
      "sample tf index for examples: [('111', 1), ('320', 1), ('644', 1), ('691', 1), ('727', 1), ('848', 1), ('892', 1), ('893', 1), ('1049', 1), ('1051', 1)]\n"
     ]
    }
   ],
   "source": [
    "##### Function check\n",
    "\n",
    "assert isinstance(tf_index_1, dict)\n",
    "\n",
    "assert isinstance(tf_index_1[\"computer\"], list)\n",
    "print(\"sample tf index for computer:\", tf_index_1[\"computer\"][:10])\n",
    "\n",
    "assert isinstance(tf_index_1[\"examples\"], list)\n",
    "print(\"sample tf index for examples:\", tf_index_1[\"examples\"][:10])\n",
    "####"
   ]
  },
  {
   "cell_type": "code",
   "execution_count": 22,
   "metadata": {
    "cell_id": "00039-0f63d80d-3d2c-4ed8-b1a3-ef57df6a812d",
    "deepnote_cell_height": 298.375,
    "deepnote_cell_type": "code",
    "deepnote_to_be_reexecuted": false,
    "deletable": false,
    "editable": false,
    "execution_millis": 11244324,
    "execution_start": 1645186539032,
    "nbgrader": {
     "cell_type": "code",
     "checksum": "d49b8ac36815d9a5cb4bed838ab53a50",
     "grade": true,
     "grade_id": "cell-ff06bd11204db250",
     "locked": true,
     "points": 5,
     "schema_version": 3,
     "solution": false,
     "task": false
    },
    "source_hash": "cfcc3871"
   },
   "outputs": [
    {
     "name": "stdout",
     "output_type": "stream",
     "text": [
      "sample tf index for computer: [('4', 1), ('7', 1), ('10', 1), ('13', 1), ('19', 1), ('22', 1), ('23', 1), ('37', 1), ('40', 3), ('41', 1)]\n",
      "sample tf index for examples: []\n"
     ]
    }
   ],
   "source": [
    "##### Function check\n",
    "\n",
    "assert isinstance(tf_index_2, dict)\n",
    "\n",
    "assert isinstance(tf_index_2[\"computer\"], list)\n",
    "print(\"sample tf index for computer:\", tf_index_1[\"computer\"][:10])\n",
    "\n",
    "assert isinstance(tf_index_2[\"examples\"], list)\n",
    "print(\"sample tf index for examples:\", tf_index_2[\"examples\"][:10])\n",
    "####"
   ]
  },
  {
   "cell_type": "markdown",
   "metadata": {
    "cell_id": "00040-06978f59-9c49-41bf-86fa-2ce4ff5666a1",
    "deepnote_cell_height": 493.59375,
    "deepnote_cell_type": "markdown",
    "deletable": false,
    "editable": false,
    "nbgrader": {
     "cell_type": "markdown",
     "checksum": "880b2ef3ca405f2af6e0667d2dc7a600",
     "grade": false,
     "grade_id": "cell-89eba71f04310291",
     "locked": true,
     "schema_version": 3,
     "solution": false,
     "task": false
    }
   },
   "source": [
    "\n",
    "---\n",
    "## Section 3: Ranking  (80 points) <a class=\"anchor\" id=\"ranking\"></a>\n",
    "\n",
    "[Back to Part 1](#part1)\n",
    "\n",
    "Now that we have cleaned and processed our dataset, we can start building simple IR systems.\n",
    "\n",
    "For now, we consider *simple* IR systems, which involve computing scores from the tokens present in the document/query. More advanced methods are covered in later assignments.\n",
    "\n",
    "We will implement the following methods in this section:\n",
    "- [Section 3.1: Bag of Words](#bow) (10 points)\n",
    "- [Section 3.2: TF-IDF](#tfidf) (15 points)\n",
    "- [Section 3.3: Query Likelihood Model](#qlm) (35 points)\n",
    "- [Section 3.4: BM25](#bm25) (20 points)\n",
    "\n",
    "*All search functions should be able to handle multiple words queries.*\n",
    "\n",
    "**Scoring policy:**\n",
    "Your implementations in this section are scored based on the expected performance of your ranking functions.\n",
    "You will get a full mark if your implementation meets the expected performance (measured by some evaluation metric).\n",
    "Otherwise, you may get partial credit.\n",
    "For example, if your *Bag of words* ranking function has 60% of expected performance, you will get 6 out of 10."
   ]
  },
  {
   "cell_type": "markdown",
   "metadata": {
    "cell_id": "00041-95b4f50b-25e3-4bfc-853e-458b38aa6f80",
    "deepnote_cell_height": 250.375,
    "deepnote_cell_type": "markdown",
    "deletable": false,
    "editable": false,
    "nbgrader": {
     "cell_type": "markdown",
     "checksum": "6c74e5061917358300c6e8085ec07864",
     "grade": false,
     "grade_id": "cell-3daf70a60e393adf",
     "locked": true,
     "schema_version": 3,
     "solution": false,
     "task": false
    }
   },
   "source": [
    "---\n",
    "\n",
    "### Section 3.1: Bag of Words (10 points)<a class=\"anchor\" id=\"bow\"></a>\n",
    "\n",
    "Probably the simplest IR model is the Bag of Words (BOW) model.\n",
    "Implement a function that scores and ranks all the documents against a query using this model.\n",
    "\n",
    "- For consistency, you should use the count of the token and **not** the binary indicator.\n",
    "- Use `float` type for the scores (even though the scores are integers in this case).\n",
    "- No normalization of the scores is necessary, as the ordering is what we are interested in.\n",
    "- If two documents have the same score, they can have any ordering: you are not required to disambiguate.\n"
   ]
  },
  {
   "cell_type": "code",
   "execution_count": 23,
   "metadata": {
    "cell_id": "00042-78747ee0-9c14-474c-ab83-0bb691fe4f4f",
    "deepnote_cell_height": 513,
    "deepnote_cell_type": "code",
    "deepnote_to_be_reexecuted": false,
    "deletable": false,
    "execution_millis": 11244305,
    "execution_start": 1645186539076,
    "nbgrader": {
     "cell_type": "code",
     "checksum": "fee4640e22bfc4f05eb958a675ef40e7",
     "grade": false,
     "grade_id": "cell-de9cf0459c4b9324",
     "locked": false,
     "schema_version": 3,
     "solution": true,
     "task": false
    },
    "source_hash": "15c8e32"
   },
   "outputs": [],
   "source": [
    "# TODO: Implement this! (10 points)\n",
    "def bow_search(query, index_set):\n",
    "    \"\"\"\n",
    "    Perform a search over all documents with the given query.\n",
    "    Note: You have to use the `get_index` function created in the previous cells\n",
    "    Input:\n",
    "        query - a (unprocessed) query\n",
    "        index_set - the index to use\n",
    "    Output: a list of (document_id, score),\n",
    "        sorted in descending relevance to the given query.\n",
    "    \"\"\"\n",
    "    index = get_index(index_set)\n",
    "    processed_query = preprocess_query(query, index_set)\n",
    "\n",
    "    # YOUR CODE HERE\n",
    "    # total count per document\n",
    "    documents = defaultdict(float)\n",
    "    for token in processed_query:\n",
    "        for document_id, token_count in index[token]:\n",
    "            # aggregate counts of this token across all documents\n",
    "            documents[document_id] += token_count\n",
    "    # convert documents to list and sort descending\n",
    "    documents = sorted(list(documents.items()), key=lambda x: x[1], reverse=True)\n",
    "    return documents"
   ]
  },
  {
   "cell_type": "code",
   "execution_count": 24,
   "metadata": {
    "cell_id": "00043-a779ed03-89a7-4a9b-8bf4-e356d3146ecd",
    "deepnote_cell_height": 225,
    "deepnote_cell_type": "code",
    "deepnote_to_be_reexecuted": false,
    "deletable": false,
    "editable": false,
    "execution_millis": 11244335,
    "execution_start": 1645186539129,
    "nbgrader": {
     "cell_type": "code",
     "checksum": "613524fbbf02b1d122c6611a71fbf11b",
     "grade": true,
     "grade_id": "cell-9f6aceae6dd9125f",
     "locked": true,
     "points": 2,
     "schema_version": 3,
     "solution": false,
     "task": false
    },
    "source_hash": "a4e9855b"
   },
   "outputs": [],
   "source": [
    "#### Function check\n",
    "\n",
    "test_bow = bow_search(\"how to implement bag of words search\", index_set=1)[:5]\n",
    "assert isinstance(test_bow, list)\n",
    "assert len(test_bow[0]) == 2\n",
    "assert isinstance(test_bow[0][0], str)\n",
    "assert isinstance(test_bow[0][1], float)\n",
    "\n",
    "####"
   ]
  },
  {
   "cell_type": "code",
   "execution_count": 25,
   "metadata": {
    "cell_id": "00044-8c0e39e0-03a8-42d9-88c0-9811823ca925",
    "deepnote_cell_height": 393.125,
    "deepnote_cell_type": "code",
    "deepnote_to_be_reexecuted": false,
    "deletable": false,
    "editable": false,
    "execution_millis": 11244410,
    "execution_start": 1645186539130,
    "lines_to_next_cell": 2,
    "nbgrader": {
     "cell_type": "code",
     "checksum": "9af20897659edb62fe77598483590500",
     "grade": true,
     "grade_id": "cell-4eed3abf233d9b58",
     "locked": true,
     "points": 2,
     "schema_version": 3,
     "solution": false,
     "task": false
    },
    "source_hash": "f3e133b9"
   },
   "outputs": [
    {
     "name": "stdout",
     "output_type": "stream",
     "text": [
      "BOW Results:\n",
      "Rank 0(1.3e+01): On Computing The Fast Fourier Transform\\nCooley an...\n",
      "Rank 1(1.2e+01): Variable Length Tree Structures Having Minimum Ave...\n",
      "Rank 2(1.1e+01): A Modular Computer Sharing System\\nAn alternative ...\n",
      "Rank 3(1e+01): PEEKABIT, Computer Offspring of Punched\\nCard PEEK...\n",
      "Rank 4(9.0): Computer Simulation-Discussion of the\\nTechnique a...\n"
     ]
    }
   ],
   "source": [
    "docs_by_id = dict(docs)\n",
    "\n",
    "\n",
    "def print_results(docs, len_limit=50):\n",
    "    for i, (doc_id, score) in enumerate(docs):\n",
    "        doc_content = (\n",
    "            docs_by_id[doc_id].strip().replace(\"\\n\", \"\\\\n\")[:len_limit] + \"...\"\n",
    "        )\n",
    "        print(f\"Rank {i}({score:.2}): {doc_content}\")\n",
    "\n",
    "\n",
    "test_bow_2 = bow_search(\"computer search word\", index_set=2)[:5]\n",
    "print(f\"BOW Results:\")\n",
    "print_results(test_bow_2)"
   ]
  },
  {
   "cell_type": "code",
   "execution_count": 26,
   "metadata": {
    "cell_id": "00045-c576132c-ae55-4ef4-bf93-365a98921a28",
    "deepnote_cell_height": 285.125,
    "deepnote_cell_type": "code",
    "deepnote_to_be_reexecuted": false,
    "deletable": false,
    "editable": false,
    "execution_millis": 2,
    "execution_start": 1645186539173,
    "lines_to_next_cell": 2,
    "nbgrader": {
     "cell_type": "code",
     "checksum": "3c9c8b16c8e7d1032f101e9da8a6e845",
     "grade": true,
     "grade_id": "cell-4d65a2d7090c466c",
     "locked": true,
     "points": 3,
     "schema_version": 3,
     "solution": false,
     "task": false
    },
    "source_hash": "76a29ddf"
   },
   "outputs": [
    {
     "name": "stdout",
     "output_type": "stream",
     "text": [
      "BOW Results:\n",
      "Rank 0(9.0): CURRICULUM 68 -- Recommendations for Academic\\nPro...\n",
      "Rank 1(9.0): Variable Length Tree Structures Having Minimum Ave...\n",
      "Rank 2(7.0): Computer Formulation of the Equations of Motion Us...\n",
      "Rank 3(7.0): The Effects of Multiplexing on a Computer-Communic...\n",
      "Rank 4(6.0): Optimizing Bit-time Computer Simulation\\nA major c...\n"
     ]
    }
   ],
   "source": [
    "test_bow_1 = bow_search(\"computer search word\", index_set=1)[:5]\n",
    "print(f\"BOW Results:\")\n",
    "print_results(test_bow_1)"
   ]
  },
  {
   "cell_type": "code",
   "execution_count": 27,
   "metadata": {
    "cell_id": "00046-5b571ae5-b918-4fbb-ad83-5d5d6669c906",
    "deepnote_cell_height": 168.375,
    "deepnote_cell_type": "code",
    "deepnote_to_be_reexecuted": false,
    "deletable": false,
    "editable": false,
    "execution_millis": 2,
    "execution_start": 1645186539174,
    "nbgrader": {
     "cell_type": "code",
     "checksum": "b7e593847aa4202ae45ec061fb18ad73",
     "grade": true,
     "grade_id": "cell-dedf36ab5853ce20",
     "locked": true,
     "points": 3,
     "schema_version": 3,
     "solution": false,
     "task": false
    },
    "source_hash": "b05098cf"
   },
   "outputs": [
    {
     "name": "stdout",
     "output_type": "stream",
     "text": [
      "top-5 docs for index1: ('1771', '1936', '1543', '2535', '678')\n",
      "top-5 docs for index2: ('1525', '1936', '1844', '1700', '1366')\n"
     ]
    }
   ],
   "source": [
    "print(\"top-5 docs for index1:\", list(zip(*test_bow_1[:5]))[0])\n",
    "print(\"top-5 docs for index2:\", list(zip(*test_bow_2[:5]))[0])"
   ]
  },
  {
   "cell_type": "markdown",
   "metadata": {
    "cell_id": "00047-9898438b-a142-41ea-936e-02202738220e",
    "deepnote_cell_height": 235,
    "deepnote_cell_type": "markdown",
    "deletable": false,
    "editable": false,
    "nbgrader": {
     "cell_type": "markdown",
     "checksum": "b04352ee0716dfdf094b8cdb6f32e984",
     "grade": false,
     "grade_id": "cell-a5c09c79ac1f2871",
     "locked": true,
     "schema_version": 3,
     "solution": false,
     "task": false
    }
   },
   "source": [
    "\n",
    "---\n",
    "\n",
    "### Section 3.2: TF-IDF (15 points) <a class=\"anchor\" id=\"tfidf\"></a>\n",
    "\n",
    "Before we implement the tf-idf scoring functions, let's first write a function to compute the document frequencies of all words.\n",
    "\n",
    "#### 3.2.1 Document frequency (5 points)\n",
    "Compute the document frequencies of all tokens in the collection.\n",
    "Your code should return a dictionary with tokens as its keys and the number of documents containing the token as values.\n",
    "For consistency, the values should have `int` type."
   ]
  },
  {
   "cell_type": "code",
   "execution_count": 28,
   "metadata": {
    "cell_id": "00048-7d15cfba-6fc3-46f2-8fc4-e2ea33b6f8ab",
    "deepnote_cell_height": 333,
    "deepnote_cell_type": "code",
    "deepnote_to_be_reexecuted": false,
    "deletable": false,
    "execution_millis": 11244452,
    "execution_start": 1645186539217,
    "nbgrader": {
     "cell_type": "code",
     "checksum": "5c53263cf4c0b0ffcaae08b91fc364cc",
     "grade": false,
     "grade_id": "cell-9a2369f32e864b8a",
     "locked": false,
     "schema_version": 3,
     "solution": true,
     "task": false
    },
    "source_hash": "da17c69a"
   },
   "outputs": [],
   "source": [
    "# TODO: Implement this! (5 points)\n",
    "def compute_df(documents):\n",
    "    \"\"\"\n",
    "    Compute the document frequency of all terms in the vocabulary\n",
    "    Input: A list of documents\n",
    "    Output: A dictionary with {token: document frequency (int)}\n",
    "    \"\"\"\n",
    "    # YOUR CODE HERE\n",
    "    df_dict = defaultdict(int)\n",
    "    for document in documents:\n",
    "        # we only count a token once per document, so work on the set of unique doc tokens\n",
    "        unique_doc_tokens = set(document)\n",
    "        for token in unique_doc_tokens:\n",
    "            df_dict[token] += 1\n",
    "    return df_dict"
   ]
  },
  {
   "cell_type": "code",
   "execution_count": 29,
   "metadata": {
    "cell_id": "00049-d09fb33d-2d8c-4b8b-aab7-f458f87425f7",
    "deepnote_cell_height": 297,
    "deepnote_cell_type": "code",
    "deepnote_to_be_reexecuted": false,
    "deletable": false,
    "editable": false,
    "execution_millis": 94,
    "execution_start": 1645186539218,
    "lines_to_next_cell": 2,
    "nbgrader": {
     "cell_type": "code",
     "checksum": "154985511d7925c5793a1f97dea81880",
     "grade": false,
     "grade_id": "cell-4c3bddd0b73ac90e",
     "locked": true,
     "schema_version": 3,
     "solution": false,
     "task": false
    },
    "source_hash": "46458dbe"
   },
   "outputs": [],
   "source": [
    "#### Compute df based on the two configs\n",
    "\n",
    "# get the document frequencies of each document\n",
    "df_1 = compute_df([d[1] for d in doc_repr_1])\n",
    "df_2 = compute_df([d[1] for d in doc_repr_2])\n",
    "\n",
    "\n",
    "def get_df(index_set):\n",
    "    assert index_set in {1, 2}\n",
    "    return {1: df_1, 2: df_2}[index_set]\n",
    "\n",
    "\n",
    "####"
   ]
  },
  {
   "cell_type": "code",
   "execution_count": 30,
   "metadata": {
    "cell_id": "00050-0d714f0a-0f10-4e51-be4f-9dc1c0905ca9",
    "deepnote_cell_height": 204.375,
    "deepnote_cell_type": "code",
    "deepnote_to_be_reexecuted": false,
    "deletable": false,
    "editable": false,
    "execution_millis": 422,
    "execution_start": 1645186539327,
    "nbgrader": {
     "cell_type": "code",
     "checksum": "110cc180068cf3f77c682ee3de2a117c",
     "grade": true,
     "grade_id": "cell-79e8a6db1e5fc46f",
     "locked": true,
     "points": 5,
     "schema_version": 3,
     "solution": false,
     "task": false
    },
    "source_hash": "43b9edf4"
   },
   "outputs": [
    {
     "name": "stdout",
     "output_type": "stream",
     "text": [
      "597\n",
      "11\n"
     ]
    }
   ],
   "source": [
    "#### Function check\n",
    "\n",
    "print(df_1[\"computer\"])\n",
    "print(df_2[\"computer\"])\n",
    "####"
   ]
  },
  {
   "cell_type": "markdown",
   "metadata": {
    "cell_id": "00051-7d6233d2-d8c7-4fc4-8207-4bedbd2085af",
    "deepnote_cell_height": 271,
    "deepnote_cell_type": "markdown",
    "deletable": false,
    "editable": false,
    "nbgrader": {
     "cell_type": "markdown",
     "checksum": "d0d577668fa51b80aeab6e67209ae73b",
     "grade": false,
     "grade_id": "cell-52f6acc487e1b96d",
     "locked": true,
     "schema_version": 3,
     "solution": false,
     "task": false
    }
   },
   "source": [
    "---\n",
    "#### 3.2.2 TF-IDF search (10 points)\n",
    "Next, implement a function that computes a tf-idf score, given a query.\n",
    "Use the following formulas for TF and IDF:\n",
    "\n",
    "$$ TF=\\log (1 + f_{d,t}) $$\n",
    "\n",
    "$$ IDF=\\log (\\frac{N}{n_t})$$\n",
    "\n",
    "where $f_{d,t}$ is the frequency of token $t$ in document $d$, $N$ is the number of total documents and $n_t$ is the number of documents containing token $t$.\n",
    "\n",
    "**Note:** your implementation will be auto-graded assuming you have used the above formulas.\n"
   ]
  },
  {
   "cell_type": "code",
   "execution_count": 31,
   "metadata": {
    "cell_id": "00052-d1b23bf4-b5f4-4a82-8df2-d8772e42b73a",
    "deepnote_cell_height": 567,
    "deepnote_cell_type": "code",
    "deepnote_to_be_reexecuted": false,
    "deletable": false,
    "execution_millis": 20,
    "execution_start": 1645186539352,
    "nbgrader": {
     "cell_type": "code",
     "checksum": "3534c44b4a3419ca1db98eebe7115dc1",
     "grade": false,
     "grade_id": "cell-2fb5ba34b2994cd9",
     "locked": false,
     "schema_version": 3,
     "solution": true,
     "task": false
    },
    "source_hash": "1d6e90cb"
   },
   "outputs": [],
   "source": [
    "# TODO: Implement this! (10 points)\n",
    "def tfidf_search(query, index_set):\n",
    "    \"\"\"\n",
    "    Perform a search over all documents with the given query using tf-idf.\n",
    "    Note #1: You have to use the `get_index` (and the `get_df`) function\n",
    "    created in the previous cells\n",
    "    Input:\n",
    "        query - a (unprocessed) query\n",
    "        index_set - the index to use\n",
    "    Output: a list of (document_id, score),\n",
    "        sorted in descending relevance to the given query\n",
    "    \"\"\"\n",
    "    index = get_index(index_set)\n",
    "    df = get_df(index_set)\n",
    "    processed_query = preprocess_query(query, index_set)\n",
    "\n",
    "    N = len(docs)\n",
    "    # YOUR CODE HERE\n",
    "    documents = defaultdict(float)\n",
    "    for token in processed_query:\n",
    "        for document_id, token_count in index[token]:\n",
    "            tf = np.log(1 + token_count)\n",
    "            idf = np.log(N / df[token])\n",
    "            tf_idf = tf * idf\n",
    "            documents[document_id] += tf_idf\n",
    "    # convert documents to list and sort descending\n",
    "    documents = sorted(list(documents.items()), key=lambda x: x[1], reverse=True)\n",
    "    return documents"
   ]
  },
  {
   "cell_type": "code",
   "execution_count": 32,
   "metadata": {
    "cell_id": "00053-487c5ebc-c09b-46d0-9f43-38c4f74264e7",
    "deepnote_cell_height": 225,
    "deepnote_cell_type": "code",
    "deepnote_to_be_reexecuted": false,
    "deletable": false,
    "editable": false,
    "execution_millis": 80,
    "execution_start": 1645186539384,
    "nbgrader": {
     "cell_type": "code",
     "checksum": "7b66a514663d898694b09a23a597312b",
     "grade": true,
     "grade_id": "cell-bc68aeeacf42beb3",
     "locked": true,
     "points": 2,
     "schema_version": 3,
     "solution": false,
     "task": false
    },
    "source_hash": "4907bb8a"
   },
   "outputs": [],
   "source": [
    "#### Function check\n",
    "test_tfidf = tfidf_search(\"how to implement tf idf search\", index_set=1)[:5]\n",
    "assert isinstance(test_tfidf, list)\n",
    "assert len(test_tfidf[0]) == 2\n",
    "assert isinstance(test_tfidf[0][0], str)\n",
    "assert isinstance(test_tfidf[0][1], float)\n",
    "\n",
    "####"
   ]
  },
  {
   "cell_type": "code",
   "execution_count": 33,
   "metadata": {
    "cell_id": "00054-ca226c89-ef3a-464d-aeed-2750ea928db4",
    "deepnote_cell_height": 285.125,
    "deepnote_cell_type": "code",
    "deepnote_to_be_reexecuted": false,
    "deletable": false,
    "editable": false,
    "execution_millis": 222,
    "execution_start": 1645186539544,
    "lines_to_next_cell": 2,
    "nbgrader": {
     "cell_type": "code",
     "checksum": "98fb1326cf4bf7983ae237ca8a9105f9",
     "grade": true,
     "grade_id": "cell-c7702fa8179fadb9",
     "locked": true,
     "points": 2,
     "schema_version": 3,
     "solution": false,
     "task": false
    },
    "source_hash": "fddf59b1"
   },
   "outputs": [
    {
     "name": "stdout",
     "output_type": "stream",
     "text": [
      "TFIDF Results:\n",
      "Rank 0(1.3e+01): PEEKABIT, Computer Offspring of Punched\\nCard PEEK...\n",
      "Rank 1(9.8): Variable Length Tree Structures Having Minimum Ave...\n",
      "Rank 2(8.2): A Stochastic Approach to the Grammatical Coding of...\n",
      "Rank 3(8.1): Full Table Quadratic Searching for Scatter Storage...\n",
      "Rank 4(7.6): Use of Tree Structures for Processing Files\\nIn da...\n"
     ]
    }
   ],
   "source": [
    "test_tfidf_2 = tfidf_search(\"computer word search\", index_set=2)[:5]\n",
    "print(f\"TFIDF Results:\")\n",
    "print_results(test_tfidf_2)"
   ]
  },
  {
   "cell_type": "code",
   "execution_count": 34,
   "metadata": {
    "cell_id": "00055-861246a7-b33f-43ef-8ffc-16cd768e3e3e",
    "deepnote_cell_height": 285.125,
    "deepnote_cell_type": "code",
    "deepnote_to_be_reexecuted": false,
    "deletable": false,
    "editable": false,
    "execution_millis": 179,
    "execution_start": 1645186539589,
    "lines_to_next_cell": 2,
    "nbgrader": {
     "cell_type": "code",
     "checksum": "733b5b67be5e53989f5b763ce5e52ee9",
     "grade": true,
     "grade_id": "cell-3284f50ac29abbaa",
     "locked": true,
     "points": 3,
     "schema_version": 3,
     "solution": false,
     "task": false
    },
    "source_hash": "83683be1"
   },
   "outputs": [
    {
     "name": "stdout",
     "output_type": "stream",
     "text": [
      "TFIDF Results:\n",
      "Rank 0(9.4): Variable Length Tree Structures Having Minimum Ave...\n",
      "Rank 1(7.4): On the Feasibility of Voice Input to\\nan On-line C...\n",
      "Rank 2(7.3): Median Split Trees: A Fast Lookup Technique for Fr...\n",
      "Rank 3(7.0): Execution Time Requirements for Encipherment Progr...\n",
      "Rank 4(7.0): Storage and Search Properties of a Tree-Organized ...\n"
     ]
    }
   ],
   "source": [
    "test_tfidf_1 = tfidf_search(\"computer word search\", index_set=1)[:5]\n",
    "print(f\"TFIDF Results:\")\n",
    "print_results(test_tfidf_1)"
   ]
  },
  {
   "cell_type": "code",
   "execution_count": 35,
   "metadata": {
    "cell_id": "00056-3513c3fe-3e9f-4b8c-aa0f-3f4a6d19816c",
    "deepnote_cell_height": 280.75,
    "deepnote_cell_type": "code",
    "deepnote_to_be_reexecuted": false,
    "deletable": false,
    "editable": false,
    "execution_millis": 1,
    "execution_start": 1645186539634,
    "lines_to_next_cell": 2,
    "nbgrader": {
     "cell_type": "code",
     "checksum": "e0edb37a5ae807a2de85d578c87ccb78",
     "grade": true,
     "grade_id": "cell-d908c80a3155354b",
     "locked": true,
     "points": 3,
     "schema_version": 3,
     "solution": false,
     "task": false
    },
    "source_hash": "9b7bb168"
   },
   "outputs": [
    {
     "name": "stdout",
     "output_type": "stream",
     "text": [
      "top-5 docs for index1 with BOW search: ('1771', '1936', '1543', '2535', '678')\n",
      "top-5 docs for index2 with BOW search: ('1525', '1936', '1844', '1700', '1366')\n",
      "top-5 docs for index1 with TF-IDF search: ('1936', '2054', '3041', '2620', '944')\n",
      "top-5 docs for index2 with TF-IDF search: ('1700', '1936', '1235', '2018', '849')\n"
     ]
    }
   ],
   "source": [
    "print(\"top-5 docs for index1 with BOW search:\", list(zip(*test_bow_1[:5]))[0])\n",
    "print(\"top-5 docs for index2 with BOW search:\", list(zip(*test_bow_2[:5]))[0])\n",
    "print(\"top-5 docs for index1 with TF-IDF search:\", list(zip(*test_tfidf_1[:5]))[0])\n",
    "print(\"top-5 docs for index2 with TF-IDF search:\", list(zip(*test_tfidf_2[:5]))[0])"
   ]
  },
  {
   "cell_type": "markdown",
   "metadata": {
    "cell_id": "00057-685f4747-06a6-4177-91cd-2efd41bed6dc",
    "deepnote_cell_height": 235,
    "deepnote_cell_type": "markdown",
    "deletable": false,
    "editable": false,
    "nbgrader": {
     "cell_type": "markdown",
     "checksum": "cdffc83f0eaea937cf64a212e7e9af8d",
     "grade": false,
     "grade_id": "cell-f5d923459ba21733",
     "locked": true,
     "schema_version": 3,
     "solution": false,
     "task": false
    }
   },
   "source": [
    "---\n",
    "\n",
    "### Section 3.3: Query Likelihood Model (35 points) <a class=\"anchor\" id=\"qlm\"></a>\n",
    "\n",
    "In this section, you will implement a simple query likelihood model.\n",
    "\n",
    "\n",
    "#### 3.3.1 Naive QL (15 points)\n",
    "\n",
    "First, let us implement a naive version of a QL model, assuming a multinomial unigram language model (with a uniform prior over the documents).\n",
    "\n"
   ]
  },
  {
   "cell_type": "code",
   "execution_count": 36,
   "metadata": {
    "cell_id": "00058-cda44e40-05f4-4632-a263-b4e4b00947bd",
    "deepnote_cell_height": 351,
    "deepnote_cell_type": "code",
    "deepnote_to_be_reexecuted": false,
    "deletable": false,
    "editable": false,
    "execution_millis": 127,
    "execution_start": 1645186539642,
    "lines_to_next_cell": 2,
    "nbgrader": {
     "cell_type": "code",
     "checksum": "b7ae2b7d818b428b4638c1c9206d2aca",
     "grade": false,
     "grade_id": "cell-98505778f7b68e7f",
     "locked": true,
     "schema_version": 3,
     "solution": false,
     "task": false
    },
    "source_hash": "41faad84"
   },
   "outputs": [],
   "source": [
    "#### Document length for normalization\n",
    "\n",
    "\n",
    "def doc_lengths(documents):\n",
    "    doc_lengths = {doc_id: len(doc) for (doc_id, doc) in documents}\n",
    "    return doc_lengths\n",
    "\n",
    "\n",
    "doc_lengths_1 = doc_lengths(doc_repr_1)\n",
    "doc_lengths_2 = doc_lengths(doc_repr_2)\n",
    "\n",
    "\n",
    "def get_doc_lengths(index_set):\n",
    "    assert index_set in {1, 2}\n",
    "    return {1: doc_lengths_1, 2: doc_lengths_2}[index_set]\n",
    "\n",
    "\n",
    "####"
   ]
  },
  {
   "cell_type": "code",
   "execution_count": 37,
   "metadata": {
    "cell_id": "00059-746be962-92e6-47b2-bf24-e3d86dedd92e",
    "deepnote_cell_height": 567,
    "deepnote_cell_type": "code",
    "deepnote_to_be_reexecuted": false,
    "deletable": false,
    "execution_millis": 0,
    "execution_start": 1645186539698,
    "nbgrader": {
     "cell_type": "code",
     "checksum": "cedd08303a914243fefdb6b876977ca1",
     "grade": false,
     "grade_id": "cell-8bcf2b804d636c2e",
     "locked": false,
     "schema_version": 3,
     "solution": true,
     "task": false
    },
    "source_hash": "a861316b"
   },
   "outputs": [],
   "source": [
    "# TODO: Implement this! (15 points)\n",
    "def naive_ql_search(query, index_set):\n",
    "    \"\"\"\n",
    "    Perform a search over all documents with the given query using a naive QL model.\n",
    "    Note #1: You have to use the `get_index` (and get_doc_lengths) function\n",
    "        created in the previous cells\n",
    "    Input:\n",
    "        query - a (unprocessed) query\n",
    "        index_set - the index to use\n",
    "    Output: a list of (document_id, score), sorted in descending relevance\n",
    "        to the given query\n",
    "    \"\"\"\n",
    "    index = get_index(index_set)\n",
    "    doc_lengths = get_doc_lengths(index_set)\n",
    "    processed_query = preprocess_query(query, index_set)\n",
    "    # YOUR CODE HERE\n",
    "    results = {}\n",
    "    \n",
    "    for token in processed_query:\n",
    "        # convert to dictionary for fast lookup\n",
    "        token_counts = dict(index[token])\n",
    "        for doc_id in doc_lengths.keys():\n",
    "            if doc_id not in token_counts:\n",
    "                # because token count is 0\n",
    "                p_qD = 0\n",
    "            else:\n",
    "                # otherwise we're able to get the tok count and proceed with computation\n",
    "                token_count = token_counts[doc_id]\n",
    "                p_qD = token_count / doc_lengths[doc_id]\n",
    "            if doc_id not in results:\n",
    "                results[doc_id] = p_qD\n",
    "            else:\n",
    "                results[doc_id] *= p_qD\n",
    "    results = sorted(list(results.items()), key=lambda x: x[1], reverse=True)\n",
    "    return results"
   ]
  },
  {
   "cell_type": "code",
   "execution_count": 38,
   "metadata": {
    "cell_id": "00060-7b8590ee-afcd-44ee-b551-3938924f8c30",
    "deepnote_cell_height": 285.125,
    "deepnote_cell_type": "code",
    "deepnote_to_be_reexecuted": false,
    "deletable": false,
    "editable": false,
    "execution_millis": 0,
    "execution_start": 1645186539699,
    "nbgrader": {
     "cell_type": "code",
     "checksum": "b550d15bdad28354c336020a00c33d56",
     "grade": true,
     "grade_id": "cell-5a83ac12ecde8578",
     "locked": true,
     "points": 3,
     "schema_version": 3,
     "solution": false,
     "task": false
    },
    "source_hash": "54190022"
   },
   "outputs": [
    {
     "name": "stdout",
     "output_type": "stream",
     "text": [
      "Naive QL Results:\n",
      "Rank 0(0.2): A Report Writer For COBOL...\n",
      "Rank 1(0.2): A CRT Report Generating System...\n",
      "Rank 2(0.17): Preliminary Report-International Algebraic Languag...\n",
      "Rank 3(0.17): Supplement to the ALGOL 60 Report...\n",
      "Rank 4(0.14): ALGOL Sub-Committee Report - Extensions...\n"
     ]
    }
   ],
   "source": [
    "#### Function check\n",
    "test_naiveql = naive_ql_search(\"report\", index_set=1)[:5]\n",
    "print(f\"Naive QL Results:\")\n",
    "print_results(test_naiveql)\n",
    "####"
   ]
  },
  {
   "cell_type": "code",
   "execution_count": 39,
   "metadata": {
    "cell_id": "00061-82ac6743-087a-40be-8e13-c83e9cc51509",
    "deepnote_cell_height": 81,
    "deepnote_cell_type": "code",
    "deepnote_to_be_reexecuted": false,
    "deletable": false,
    "editable": false,
    "execution_millis": 30,
    "execution_start": 1645186539742,
    "nbgrader": {
     "cell_type": "code",
     "checksum": "799df1d81c63fe90edbb6c218fc707fb",
     "grade": true,
     "grade_id": "cell-80f4bf2137f997bb",
     "locked": true,
     "points": 2,
     "schema_version": 3,
     "solution": false,
     "task": false
    },
    "source_hash": "28110d30"
   },
   "outputs": [],
   "source": [
    "#### Please do not change this. This cell is used for grading."
   ]
  },
  {
   "cell_type": "code",
   "execution_count": 40,
   "metadata": {
    "cell_id": "00062-17e1b311-2247-4c85-9402-b644f1f66b12",
    "deepnote_cell_height": 81,
    "deepnote_cell_type": "code",
    "deepnote_to_be_reexecuted": false,
    "deletable": false,
    "editable": false,
    "execution_millis": 11244764,
    "execution_start": 1645186539743,
    "nbgrader": {
     "cell_type": "code",
     "checksum": "875a4a517d27e20625d41783cebec118",
     "grade": true,
     "grade_id": "cell-5ce2993458a8ce51",
     "locked": true,
     "points": 3,
     "schema_version": 3,
     "solution": false,
     "task": false
    },
    "source_hash": "28110d30"
   },
   "outputs": [],
   "source": [
    "#### Please do not change this. This cell is used for grading."
   ]
  },
  {
   "cell_type": "code",
   "execution_count": 41,
   "metadata": {
    "cell_id": "00063-21abc448-96e9-40fc-82a7-478035610266",
    "deepnote_cell_height": 81,
    "deepnote_cell_type": "code",
    "deepnote_to_be_reexecuted": false,
    "deletable": false,
    "editable": false,
    "execution_millis": 11244759,
    "execution_start": 1645186539750,
    "nbgrader": {
     "cell_type": "code",
     "checksum": "d5c4e1c3852e71a46f32825b122f1b71",
     "grade": true,
     "grade_id": "cell-7753bdb54e292f3d",
     "locked": true,
     "points": 3,
     "schema_version": 3,
     "solution": false,
     "task": false
    },
    "source_hash": "28110d30"
   },
   "outputs": [],
   "source": [
    "#### Please do not change this. This cell is used for grading."
   ]
  },
  {
   "cell_type": "code",
   "execution_count": 42,
   "metadata": {
    "cell_id": "00064-47b977bf-c1c9-4960-8ecc-f146211b3336",
    "deepnote_cell_height": 81,
    "deepnote_cell_type": "code",
    "deepnote_to_be_reexecuted": false,
    "deletable": false,
    "editable": false,
    "execution_millis": 11244752,
    "execution_start": 1645186539809,
    "nbgrader": {
     "cell_type": "code",
     "checksum": "c4d4332d4356e89ce0240f6b80e1899a",
     "grade": true,
     "grade_id": "cell-54e476e2f96e64bb",
     "locked": true,
     "points": 4,
     "schema_version": 3,
     "solution": false,
     "task": false
    },
    "source_hash": "28110d30"
   },
   "outputs": [],
   "source": [
    "#### Please do not change this. This cell is used for grading."
   ]
  },
  {
   "cell_type": "markdown",
   "metadata": {
    "cell_id": "00065-1a6eeeea-9611-4e55-bf52-1adfe9cd668f",
    "deepnote_cell_height": 156.59375,
    "deepnote_cell_type": "markdown",
    "deletable": false,
    "editable": false,
    "nbgrader": {
     "cell_type": "markdown",
     "checksum": "8d739dc91a22bd48897f603885f95a74",
     "grade": false,
     "grade_id": "cell-5414dfd69dab8b94",
     "locked": true,
     "schema_version": 3,
     "solution": false,
     "task": false
    }
   },
   "source": [
    "---\n",
    "#### 3.3.2 QL (20 points)\n",
    "Now, let's implement a QL model that handles the issues with the naive version. In particular, you will implement a QL model with Jelinek-Mercer Smoothing. That means an interpolated score is computed per word - one term is the same as the previous naive version, and the second term comes from a unigram language model. In addition, you should accumulate the scores by summing the **log** (smoothed) probability which leads to better numerical stability."
   ]
  },
  {
   "cell_type": "code",
   "execution_count": 43,
   "metadata": {
    "cell_id": "00066-3fb59861-7bc5-497f-951b-c221eb02258c",
    "deepnote_cell_height": 1125,
    "deepnote_cell_type": "code",
    "deepnote_to_be_reexecuted": false,
    "deletable": false,
    "execution_millis": 11244761,
    "execution_start": 1645186539809,
    "nbgrader": {
     "cell_type": "code",
     "checksum": "b8c6abf937ad333e628f1db891f2e29e",
     "grade": false,
     "grade_id": "cell-bb1f506409771257",
     "locked": false,
     "schema_version": 3,
     "solution": true,
     "task": false
    },
    "source_hash": "2f2ddee4"
   },
   "outputs": [],
   "source": [
    "# TODO: Implement this! (20 points)\n",
    "\n",
    "\n",
    "def ql_search(query, index_set):\n",
    "    \"\"\"\n",
    "    Perform a search over all documents with the given query using a QL model\n",
    "    with Jelinek-Mercer Smoothing (set smoothing=0.1).\n",
    "\n",
    "    Note #1: You have to use the `get_index` (and get_doc_lengths) function\n",
    "        created in the previous cells\n",
    "    Note #2: You might have to create some variables beforehand and\n",
    "        use them in this function\n",
    "\n",
    "    Input:\n",
    "        query - a (unprocessed) query\n",
    "        index_set - the index to use\n",
    "    Output: a list of (document_id, score), sorted in descending relevance\n",
    "        to the given query\n",
    "    \"\"\"\n",
    "    index = get_index(index_set)\n",
    "    doc_lengths = get_doc_lengths(index_set)\n",
    "    processed_query = preprocess_query(query, index_set)\n",
    "\n",
    "    # YOUR CODE HERE\n",
    "    # total number of words in the collection\n",
    "    C = sum(list(doc_lengths.values()))\n",
    "    # \"(set smoothing=0.1)\"\n",
    "    lambd = 0.1\n",
    "    results = {}\n",
    "    for token in processed_query:\n",
    "        # skip tokens not in docs\n",
    "        if not index[token]:\n",
    "            continue\n",
    "        # mapping from to doc_id to count for this token\n",
    "        doc_to_count = {}\n",
    "        # total count of token across the collection\n",
    "        total_tok_count = 0\n",
    "        for doc, tok_count in index[token]:\n",
    "            doc_to_count[doc] = tok_count\n",
    "            total_tok_count += tok_count\n",
    "\n",
    "        # check each document in our collection, to catch token counts of 0\n",
    "        for document_id, doc_length in doc_lengths.items():\n",
    "            if document_id in doc_to_count:\n",
    "                token_count = doc_to_count[document_id]\n",
    "            else:\n",
    "                token_count = 0\n",
    "            # page 257 of Croft et al.\n",
    "            p_qD = np.log(\n",
    "                (1 - lambd) * token_count / doc_lengths[document_id]\n",
    "                + lambd * total_tok_count / C\n",
    "            )\n",
    "            if document_id not in results:\n",
    "                results[document_id] = p_qD\n",
    "            else:\n",
    "                results[document_id] += p_qD\n",
    "\n",
    "    # convert documents to list and sort descending\n",
    "    results = sorted(list(results.items()), key=lambda x: x[1], reverse=True)\n",
    "    return results"
   ]
  },
  {
   "cell_type": "code",
   "execution_count": 44,
   "metadata": {
    "cell_id": "00067-490d8cb9-33a4-47fc-9c15-ad1b4c455132",
    "deepnote_cell_height": 422.0625,
    "deepnote_cell_type": "code",
    "deepnote_to_be_reexecuted": false,
    "deletable": false,
    "editable": false,
    "execution_millis": 121,
    "execution_start": 1645186539852,
    "is_code_hidden": false,
    "nbgrader": {
     "cell_type": "code",
     "checksum": "0b12a7f3355193a257fd9f5f69a66562",
     "grade": true,
     "grade_id": "cell-850e9d6369bcec32",
     "locked": true,
     "points": 4,
     "schema_version": 3,
     "solution": false,
     "task": false
    },
    "source_hash": "4e5f7dd8"
   },
   "outputs": [
    {
     "name": "stdout",
     "output_type": "stream",
     "text": [
      "Rank 0(-1.7): A Report Writer For COBOL...\n",
      "Rank 1(-1.7): A CRT Report Generating System...\n",
      "Rank 2(-1.9): Preliminary Report-International Algebraic Languag...\n",
      "Rank 3(-1.9): Supplement to the ALGOL 60 Report...\n",
      "Rank 4(-2.1): ALGOL Sub-Committee Report - Extensions...\n",
      "\n",
      "Rank 0(-1.7e+01): A Report Writer For COBOL...\n",
      "Rank 1(-1.7e+01): A CRT Report Generating System...\n",
      "Rank 2(-1.9e+01): Preliminary Report-International Algebraic Languag...\n",
      "Rank 3(-1.9e+01): Supplement to the ALGOL 60 Report...\n",
      "Rank 4(-2.1e+01): ALGOL Sub-Committee Report - Extensions...\n"
     ]
    }
   ],
   "source": [
    "#### Function check\n",
    "test_ql_results = ql_search(\"report\", index_set=1)[:5]\n",
    "print_results(test_ql_results)\n",
    "print()\n",
    "test_ql_results_long = ql_search(\"report \" * 10, index_set=1)[:5]\n",
    "print_results(test_ql_results_long)\n",
    "####"
   ]
  },
  {
   "cell_type": "code",
   "execution_count": 45,
   "metadata": {
    "cell_id": "00068-095393c5-8e5b-4aef-9720-cfe9fae3b7c5",
    "deepnote_cell_height": 81,
    "deepnote_cell_type": "code",
    "deepnote_to_be_reexecuted": false,
    "deletable": false,
    "editable": false,
    "execution_millis": 11244810,
    "execution_start": 1645186540003,
    "nbgrader": {
     "cell_type": "code",
     "checksum": "e40be645140389c115849856145f5b59",
     "grade": true,
     "grade_id": "cell-958cdcf6fd6899b7",
     "locked": true,
     "points": 3,
     "schema_version": 3,
     "solution": false,
     "task": false
    },
    "source_hash": "28110d30"
   },
   "outputs": [],
   "source": [
    "#### Please do not change this. This cell is used for grading."
   ]
  },
  {
   "cell_type": "code",
   "execution_count": 46,
   "metadata": {
    "cell_id": "00069-4cd600e6-d694-4c40-ab70-28deb209cf19",
    "deepnote_cell_height": 81,
    "deepnote_cell_type": "code",
    "deepnote_to_be_reexecuted": false,
    "deletable": false,
    "editable": false,
    "execution_millis": 11244823,
    "execution_start": 1645186540042,
    "nbgrader": {
     "cell_type": "code",
     "checksum": "41d4aff001df17e7963ba79b45810b30",
     "grade": true,
     "grade_id": "cell-384dc23a0c251f6e",
     "locked": true,
     "points": 4,
     "schema_version": 3,
     "solution": false,
     "task": false
    },
    "source_hash": "28110d30"
   },
   "outputs": [],
   "source": [
    "#### Please do not change this. This cell is used for grading."
   ]
  },
  {
   "cell_type": "code",
   "execution_count": 47,
   "metadata": {
    "cell_id": "00070-952cb008-6963-4ca8-89f4-302b5a3ff74f",
    "deepnote_cell_height": 81,
    "deepnote_cell_type": "code",
    "deepnote_to_be_reexecuted": false,
    "deletable": false,
    "editable": false,
    "execution_millis": 11244838,
    "execution_start": 1645186540086,
    "nbgrader": {
     "cell_type": "code",
     "checksum": "893e8c5a073abc8ebb763d267b91bc02",
     "grade": true,
     "grade_id": "cell-7218966cba5097cc",
     "locked": true,
     "points": 4,
     "schema_version": 3,
     "solution": false,
     "task": false
    },
    "source_hash": "28110d30"
   },
   "outputs": [],
   "source": [
    "#### Please do not change this. This cell is used for grading."
   ]
  },
  {
   "cell_type": "code",
   "execution_count": 48,
   "metadata": {
    "cell_id": "00071-6752fe8b-7f1e-4fbc-a1c8-8a5f9876a4c4",
    "deepnote_cell_height": 81,
    "deepnote_cell_type": "code",
    "deepnote_to_be_reexecuted": false,
    "deletable": false,
    "editable": false,
    "execution_millis": 11244853,
    "execution_start": 1645186540123,
    "nbgrader": {
     "cell_type": "code",
     "checksum": "f99cb6f8b1f5830aaed8f06712ff846e",
     "grade": true,
     "grade_id": "cell-481ab073259ae53f",
     "locked": true,
     "points": 5,
     "schema_version": 3,
     "solution": false,
     "task": false
    },
    "source_hash": "28110d30"
   },
   "outputs": [],
   "source": [
    "#### Please do not change this. This cell is used for grading."
   ]
  },
  {
   "cell_type": "markdown",
   "metadata": {
    "cell_id": "00072-927d2e01-1b15-4854-a903-2a2472ecb63b",
    "deepnote_cell_height": 127,
    "deepnote_cell_type": "markdown",
    "deletable": false,
    "editable": false,
    "nbgrader": {
     "cell_type": "markdown",
     "checksum": "c02f14705d679579b1aa9f78f54779d5",
     "grade": false,
     "grade_id": "cell-f44088bfdac1dc90",
     "locked": true,
     "schema_version": 3,
     "solution": false,
     "task": false
    }
   },
   "source": [
    "---\n",
    "\n",
    "### Section 3.4: BM25 (20 points) <a class=\"anchor\" id=\"bm25\"></a>\n",
    "\n",
    "In this section, we will implement the BM25 scoring function.\n"
   ]
  },
  {
   "cell_type": "code",
   "execution_count": 49,
   "metadata": {
    "cell_id": "00073-22161fa2-0c00-4c01-af51-4968d6b78880",
    "deepnote_cell_height": 801,
    "deepnote_cell_type": "code",
    "deepnote_to_be_reexecuted": false,
    "deletable": false,
    "execution_millis": 11244861,
    "execution_start": 1645186540177,
    "nbgrader": {
     "cell_type": "code",
     "checksum": "e57efe06ea92af1c83784a42eb3d86e0",
     "grade": false,
     "grade_id": "cell-15640fc9b5d00a3c",
     "locked": false,
     "schema_version": 3,
     "solution": true,
     "task": false
    },
    "source_hash": "991aa048"
   },
   "outputs": [],
   "source": [
    "# TODO: Implement this! (20 points)\n",
    "def bm25_search(query, index_set):\n",
    "    \"\"\"\n",
    "    Perform a search over all documents with the given query using BM25.\n",
    "    Use k_1 = 1.5 and b = 0.75\n",
    "    Note #1: You have to use the `get_index` (and `get_doc_lengths`) function\n",
    "    created in the previous cells\n",
    "    Note #2: You might have to create some variables beforehand\n",
    "    and use them in this function\n",
    "    Input:\n",
    "        query - a (unprocessed) query\n",
    "        index_set - the index to use\n",
    "    Output: a list of (document_id, score), sorted in descending\n",
    "        relevance to the given query\n",
    "    \"\"\"\n",
    "\n",
    "    index = get_index(index_set)\n",
    "    df = get_df(index_set)\n",
    "    doc_lengths = get_doc_lengths(index_set)\n",
    "    processed_query = preprocess_query(query, index_set)\n",
    "\n",
    "    # YOUR CODE HERE\n",
    "    # hard coded values\n",
    "    k_1 = 1.5\n",
    "    b = 0.75\n",
    "    # initialize our result\n",
    "    documents = defaultdict(float)\n",
    "    # average doc length and number of docs\n",
    "    ave_dl = np.mean([value for _key, value in doc_lengths.items()])\n",
    "    N = len(docs)\n",
    "    for token in processed_query:\n",
    "        for document_id, token_count in index[token]:\n",
    "            idf = np.log(N / df[token])\n",
    "            second_term = (token_count * (k_1 + 1)) / (\n",
    "                token_count + k_1 * (1 - b + b * (doc_lengths[document_id] / ave_dl))\n",
    "            )\n",
    "            documents[document_id] += idf * second_term\n",
    "    # convert documents to list and sort descending\n",
    "    documents = sorted(list(documents.items()), key=lambda x: x[1], reverse=True)\n",
    "    return documents"
   ]
  },
  {
   "cell_type": "code",
   "execution_count": 50,
   "metadata": {
    "cell_id": "00074-99930c5d-a5f8-4ead-b1d4-1bb2ada8b11b",
    "deepnote_cell_height": 246.9375,
    "deepnote_cell_type": "code",
    "deepnote_to_be_reexecuted": false,
    "deletable": false,
    "editable": false,
    "execution_millis": 11244850,
    "execution_start": 1645186540178,
    "nbgrader": {
     "cell_type": "code",
     "checksum": "4be9de5d4e94637960d83725422bea6c",
     "grade": true,
     "grade_id": "cell-d10536bca72c74b1",
     "locked": true,
     "points": 3,
     "schema_version": 3,
     "solution": false,
     "task": false
    },
    "source_hash": "e0c314c5"
   },
   "outputs": [
    {
     "name": "stdout",
     "output_type": "stream",
     "text": [
      "Rank 0(6.7): A Report Writer For COBOL...\n",
      "Rank 1(6.7): A CRT Report Generating System...\n",
      "Rank 2(6.6): Preliminary Report-International Algebraic Languag...\n",
      "Rank 3(6.6): Supplement to the ALGOL 60 Report...\n",
      "Rank 4(6.5): ALGOL Sub-Committee Report - Extensions...\n"
     ]
    }
   ],
   "source": [
    "#### Function check\n",
    "test_bm25_results = bm25_search(\"report\", index_set=1)[:5]\n",
    "print_results(test_bm25_results)\n",
    "####"
   ]
  },
  {
   "cell_type": "code",
   "execution_count": 51,
   "metadata": {
    "cell_id": "00075-42c49004-74c6-4354-a713-ab682c96123e",
    "deepnote_cell_height": 81,
    "deepnote_cell_type": "code",
    "deepnote_to_be_reexecuted": false,
    "deletable": false,
    "editable": false,
    "execution_millis": 11244838,
    "execution_start": 1645186540222,
    "nbgrader": {
     "cell_type": "code",
     "checksum": "31b550d6a46ae4f8ede88788799ac2b9",
     "grade": true,
     "grade_id": "cell-60f6ec5052712d79",
     "locked": true,
     "points": 5,
     "schema_version": 3,
     "solution": false,
     "task": false
    },
    "source_hash": "28110d30"
   },
   "outputs": [],
   "source": [
    "#### Please do not change this. This cell is used for grading."
   ]
  },
  {
   "cell_type": "code",
   "execution_count": 52,
   "metadata": {
    "cell_id": "00076-dda1edfe-5234-4b37-8700-30b331b5b71e",
    "deepnote_cell_height": 81,
    "deepnote_cell_type": "code",
    "deepnote_to_be_reexecuted": false,
    "deletable": false,
    "editable": false,
    "execution_millis": 11244835,
    "execution_start": 1645186540223,
    "nbgrader": {
     "cell_type": "code",
     "checksum": "3da2ec16bfe781916e71755d65aa2983",
     "grade": true,
     "grade_id": "cell-5d17524043a5abcc",
     "locked": true,
     "points": 5,
     "schema_version": 3,
     "solution": false,
     "task": false
    },
    "source_hash": "28110d30"
   },
   "outputs": [],
   "source": [
    "#### Please do not change this. This cell is used for grading."
   ]
  },
  {
   "cell_type": "code",
   "execution_count": 53,
   "metadata": {
    "cell_id": "00077-eb67834d-52f9-4385-a9cd-0ad481099542",
    "deepnote_cell_height": 81,
    "deepnote_cell_type": "code",
    "deepnote_to_be_reexecuted": false,
    "deletable": false,
    "editable": false,
    "execution_millis": 11244835,
    "execution_start": 1645186540265,
    "nbgrader": {
     "cell_type": "code",
     "checksum": "e7b563d54fa84c20909c0ae107010541",
     "grade": true,
     "grade_id": "cell-ff8e704eda1184e3",
     "locked": true,
     "points": 3,
     "schema_version": 3,
     "solution": false,
     "task": false
    },
    "source_hash": "28110d30"
   },
   "outputs": [],
   "source": [
    "#### Please do not change this. This cell is used for grading."
   ]
  },
  {
   "cell_type": "code",
   "execution_count": 54,
   "metadata": {
    "cell_id": "00078-4c9ec504-f3a1-44c6-b797-e96bf38a6d46",
    "deepnote_cell_height": 81,
    "deepnote_cell_type": "code",
    "deepnote_to_be_reexecuted": false,
    "deletable": false,
    "editable": false,
    "execution_millis": 11244839,
    "execution_start": 1645186540266,
    "nbgrader": {
     "cell_type": "code",
     "checksum": "b013f90974b396630a8831d6f1d7e5f7",
     "grade": true,
     "grade_id": "cell-a52310500a2543cb",
     "locked": true,
     "points": 4,
     "schema_version": 3,
     "solution": false,
     "task": false
    },
    "source_hash": "28110d30"
   },
   "outputs": [],
   "source": [
    "#### Please do not change this. This cell is used for grading."
   ]
  },
  {
   "cell_type": "markdown",
   "metadata": {
    "cell_id": "00079-f0652d37-3014-4fc5-a239-c6d5371c8167",
    "deepnote_cell_height": 127,
    "deepnote_cell_type": "markdown",
    "deletable": false,
    "editable": false,
    "nbgrader": {
     "cell_type": "markdown",
     "checksum": "8fcf67cb7d5e8b26cb9bf1f0aa42c847",
     "grade": false,
     "grade_id": "cell-8b2b412c81d62f2d",
     "locked": true,
     "schema_version": 3,
     "solution": false,
     "task": false
    }
   },
   "source": [
    "\n",
    "---\n",
    "\n",
    "### 3.5. Test Your Functions\n",
    "\n",
    "The widget below allows you to play with the search functions you've written so far. Use this to test your search functions and ensure that they work as expected."
   ]
  },
  {
   "cell_type": "code",
   "execution_count": 55,
   "metadata": {
    "cell_id": "00080-8469bb45-c42f-461c-b1dd-6fcd1ef23d8b",
    "deepnote_cell_height": 693,
    "deepnote_cell_type": "code",
    "deepnote_to_be_reexecuted": false,
    "deletable": false,
    "editable": false,
    "execution_millis": 11244825,
    "execution_start": 1645186540266,
    "lines_to_next_cell": 2,
    "nbgrader": {
     "cell_type": "code",
     "checksum": "dfeb204b390acc0794dbdcac92b0cf2c",
     "grade": false,
     "grade_id": "cell-c9c2bb76354e8d97",
     "locked": true,
     "schema_version": 3,
     "solution": false,
     "task": false
    },
    "source_hash": "ff5eb03a"
   },
   "outputs": [],
   "source": [
    "#### Highlighter function\n",
    "# class for results\n",
    "ResultRow = namedtuple(\"ResultRow\", [\"doc_id\", \"snippet\", \"score\"])\n",
    "# doc_id -> doc\n",
    "docs_by_id = dict((d[0], d[1]) for d in docs)\n",
    "\n",
    "\n",
    "def highlight_text(document, query, tol=17):\n",
    "    import re\n",
    "\n",
    "    tokens = tokenize(query)\n",
    "    regex = \"|\".join(f\"(\\\\b{t}\\\\b)\" for t in tokens)\n",
    "    regex = re.compile(regex, flags=re.IGNORECASE)\n",
    "    output = \"\"\n",
    "    i = 0\n",
    "    for m in regex.finditer(document):\n",
    "        start_idx = max(0, m.start() - tol)\n",
    "        end_idx = min(len(document), m.end() + tol)\n",
    "        output += \"\".join(\n",
    "            [\n",
    "                \"...\",\n",
    "                document[start_idx : m.start()],\n",
    "                \"<strong>\",\n",
    "                document[m.start() : m.end()],\n",
    "                \"</strong>\",\n",
    "                document[m.end() : end_idx],\n",
    "                \"...\",\n",
    "            ]\n",
    "        )\n",
    "    return output.replace(\"\\n\", \" \")\n",
    "\n",
    "\n",
    "def make_results(query, search_fn, index_set):\n",
    "    results = []\n",
    "    for doc_id, score in search_fn(query, index_set):\n",
    "        highlight = highlight_text(docs_by_id[doc_id], query)\n",
    "        if len(highlight.strip()) == 0:\n",
    "            highlight = docs_by_id[doc_id]\n",
    "        results.append(ResultRow(doc_id, highlight, score))\n",
    "    return results\n",
    "\n",
    "\n",
    "####"
   ]
  },
  {
   "cell_type": "code",
   "execution_count": 56,
   "metadata": {
    "cell_id": "00081-0f79ea92-6b27-476d-838a-7353712fe308",
    "deepnote_cell_height": 753,
    "deepnote_cell_type": "code",
    "deepnote_to_be_reexecuted": false,
    "execution_millis": 11244922,
    "execution_start": 1645186540312,
    "source_hash": "52b13204"
   },
   "outputs": [
    {
     "data": {
      "application/vnd.jupyter.widget-view+json": {
       "model_id": "0ba605be0d5246d59c21adba43e2b4eb",
       "version_major": 2,
       "version_minor": 0
      },
      "text/plain": [
       "Text(value='', description='Search Bar')"
      ]
     },
     "metadata": {},
     "output_type": "display_data"
    }
   ],
   "source": [
    "# TODO: Set this to the function you want to test!\n",
    "SEARCH_FN_NAME = \"bm25\"\n",
    "# this function should take in a query (string)\n",
    "# and return a sorted list of (doc_id, score)\n",
    "# with the most relevant document in the first position\n",
    "search_fn_dict = {\n",
    "    \"bow\": bow_search,\n",
    "    \"tfidf\": tfidf_search,\n",
    "    \"naive_ql\": naive_ql_search,\n",
    "    \"ql\": ql_search,\n",
    "    \"bm25\": bm25_search,\n",
    "}\n",
    "\n",
    "search_fn = search_fn_dict[SEARCH_FN_NAME]\n",
    "index_set = 1\n",
    "\n",
    "text = widgets.Text(description=\"Search Bar\", width=200)\n",
    "display(text)\n",
    "\n",
    "\n",
    "def handle_submit(sender):\n",
    "    print(f\"Searching for: '{sender.value}'\")\n",
    "\n",
    "    results = make_results(sender.value, search_fn, index_set)\n",
    "\n",
    "    # display only the top 5\n",
    "    results = results[:5]\n",
    "\n",
    "    body = \"\"\n",
    "    for idx, r in enumerate(results):\n",
    "        body += f\"<li>Document #{r.doc_id}({r.score}): {r.snippet}</li>\"\n",
    "    display(HTML(f\"<ul>{body}</ul>\"))\n",
    "\n",
    "\n",
    "text.on_submit(handle_submit)"
   ]
  },
  {
   "cell_type": "markdown",
   "metadata": {
    "cell_id": "00082-cd38c091-8362-48a6-b6f6-e2c167049828",
    "deepnote_cell_height": 331.140625,
    "deepnote_cell_type": "markdown",
    "deletable": false,
    "editable": false,
    "nbgrader": {
     "cell_type": "markdown",
     "checksum": "019b1ff878dc6339dd068e2d48d19904",
     "grade": false,
     "grade_id": "cell-8d46fe8e4f3d8cdb",
     "locked": true,
     "schema_version": 3,
     "solution": false,
     "task": false
    }
   },
   "source": [
    "---\n",
    "\n",
    "## Section 4: Evaluation (40 points) <a class=\"anchor\" id=\"evaluation\"></a>\n",
    "\n",
    "[Back to Part 1](#part1)\n",
    "\n",
    "In order to analyze the effectiveness of retrieval algorithms, we first have to learn how to evaluate such a system. In particular, we will work with offline evaluation metrics. These metrics are computed on a dataset with known relevance judgements.\n",
    "\n",
    "Implement the following evaluation metrics.\n",
    "\n",
    "1. Precision (7 points)\n",
    "2. Recall (7 points)\n",
    "3. Mean Average Precision (13 points)\n",
    "4. Expected Reciprocal Rank (13 points)"
   ]
  },
  {
   "cell_type": "markdown",
   "metadata": {
    "cell_id": "00083-dfad5784-4ddc-451d-9394-08c63666f402",
    "deepnote_cell_height": 123.796875,
    "deepnote_cell_type": "markdown",
    "deletable": false,
    "editable": false,
    "nbgrader": {
     "cell_type": "markdown",
     "checksum": "e46f54c7f81d88bbc950b0fae14c4ca5",
     "grade": false,
     "grade_id": "cell-3419fd3bc663d7cc",
     "locked": true,
     "schema_version": 3,
     "solution": false,
     "task": false
    }
   },
   "source": [
    "---\n",
    "### 4.1 Read relevance labels\n",
    "\n",
    "Let's take a look at the `qrels.text` file, which contains the ground truth relevance scores. The relevance labels for CACM are binary - either 0 or 1.\n"
   ]
  },
  {
   "cell_type": "code",
   "execution_count": 57,
   "metadata": {
    "cell_id": "00084-1316ed27-3c82-43e0-9359-b9e3a9d64256",
    "deepnote_cell_height": 293.875,
    "deepnote_cell_type": "code",
    "deepnote_to_be_reexecuted": false,
    "deletable": false,
    "editable": false,
    "execution_millis": 380,
    "execution_start": 1645186540313,
    "nbgrader": {
     "cell_type": "code",
     "checksum": "6c11025f5a222796f2882c73c1634799",
     "grade": false,
     "grade_id": "cell-6b738366059dde9e",
     "locked": true,
     "schema_version": 3,
     "solution": false,
     "task": false
    },
    "source_hash": "4ba3f3db"
   },
   "outputs": [
    {
     "name": "stdout",
     "output_type": "stream",
     "text": [
      "01 1410  0 0\n",
      "01 1572  0 0\n",
      "01 1605  0 0\n",
      "01 2020  0 0\n",
      "01 2358  0 0\n",
      "02 2434  0 0\n",
      "02 2863  0 0\n",
      "02 3078  0 0\n",
      "03 1134  0 0\n",
      "03 1613  0 0\n"
     ]
    }
   ],
   "source": [
    "!head ./datasets/qrels.text"
   ]
  },
  {
   "cell_type": "markdown",
   "metadata": {
    "cell_id": "00085-d6878bd5-2637-4397-a653-79961f1e8bde",
    "deepnote_cell_height": 73,
    "deepnote_cell_type": "markdown",
    "deletable": false,
    "editable": false,
    "nbgrader": {
     "cell_type": "markdown",
     "checksum": "7ce95245c1597183320d7254afde5c8e",
     "grade": false,
     "grade_id": "cell-10e16bff2753ffbb",
     "locked": true,
     "schema_version": 3,
     "solution": false,
     "task": false
    }
   },
   "source": [
    "---\n",
    "\n",
    "The first column is the query_id and the second column is the document_id. We can safely ignore the 3rd and 4th columns."
   ]
  },
  {
   "cell_type": "code",
   "execution_count": 58,
   "metadata": {
    "cell_id": "00086-5ab2237b-8b49-4a73-9063-9fc776502761",
    "deepnote_cell_height": 333,
    "deepnote_cell_type": "code",
    "deepnote_to_be_reexecuted": false,
    "deletable": false,
    "execution_millis": 0,
    "execution_start": 1645186540745,
    "nbgrader": {
     "cell_type": "code",
     "checksum": "000c6d59dce08dba0ba1e8d691dbbc2e",
     "grade": false,
     "grade_id": "cell-ee5253a4ef602fce",
     "locked": false,
     "schema_version": 3,
     "solution": true,
     "task": false
    },
    "source_hash": "c9cbc0ff"
   },
   "outputs": [],
   "source": [
    "# https://piazza.com/class/kyiksrdfk0b6te?cid=40_f1\n",
    "def read_qrels(root_folder=\"./datasets/\"):\n",
    "    \"\"\"\n",
    "    Reads the qrels.text file.\n",
    "    Output: A dictionary: query_id -> [list of relevant documents]\n",
    "    \"\"\"\n",
    "    with open(os.path.join(root_folder, \"qrels.text\")) as reader:\n",
    "        lines = reader.readlines()\n",
    "\n",
    "    from collections import defaultdict\n",
    "\n",
    "    relevant_docs = defaultdict(set)\n",
    "    for line in lines:\n",
    "        query_id, doc_id, _, _ = line.split()\n",
    "        relevant_docs[str(int(query_id))].add(doc_id)\n",
    "    return relevant_docs"
   ]
  },
  {
   "cell_type": "code",
   "execution_count": 59,
   "metadata": {
    "cell_id": "00087-b2ca4d34-5c5f-4392-85ed-a178aeee2e30",
    "deepnote_cell_height": 243,
    "deepnote_cell_type": "code",
    "deepnote_to_be_reexecuted": false,
    "deletable": false,
    "editable": false,
    "execution_millis": 59,
    "execution_start": 1645186540746,
    "nbgrader": {
     "cell_type": "code",
     "checksum": "d60caeba85c2a97d2211184a5ae91fd1",
     "grade": false,
     "grade_id": "cell-72215605fbe24f65",
     "locked": true,
     "schema_version": 3,
     "solution": false,
     "task": false
    },
    "source_hash": "23ca292a"
   },
   "outputs": [],
   "source": [
    "#### Function check\n",
    "qrels = read_qrels()\n",
    "\n",
    "assert len(qrels) == 52, \"There should be 52 queries with relevance judgements\"\n",
    "assert (\n",
    "    sum(len(j) for j in qrels.values()) == 796\n",
    "), \"There should be a total of 796 Relevance Judgements\"\n",
    "\n",
    "assert np.min(np.array([len(j) for j in qrels.values()])) == 1\n",
    "assert np.max(np.array([len(j) for j in qrels.values()])) == 51\n",
    "\n",
    "####"
   ]
  },
  {
   "cell_type": "markdown",
   "metadata": {
    "cell_id": "00088-14f1066c-7068-49a9-910c-c81e820e1a63",
    "deepnote_cell_height": 73,
    "deepnote_cell_type": "markdown",
    "deletable": false,
    "editable": false,
    "nbgrader": {
     "cell_type": "markdown",
     "checksum": "6c9e7428a52e291a2cdf92a379730d4c",
     "grade": false,
     "grade_id": "cell-176a6fb2939d0420",
     "locked": true,
     "schema_version": 3,
     "solution": false,
     "task": false
    }
   },
   "source": [
    "---\n",
    "**Note:** For a given query `query_id`, you can assume that documents *not* in `qrels[query_id]` are not relevant to `query_id`.\n"
   ]
  },
  {
   "cell_type": "markdown",
   "metadata": {
    "cell_id": "00089-e42c5a24-37db-4b0f-9db5-56563253fb35",
    "deepnote_cell_height": 101.390625,
    "deepnote_cell_type": "markdown",
    "deletable": false,
    "editable": false,
    "nbgrader": {
     "cell_type": "markdown",
     "checksum": "b26a818c7b4f7ad490e00b35ea0edd69",
     "grade": false,
     "grade_id": "cell-bd8341b72cdd89bb",
     "locked": true,
     "schema_version": 3,
     "solution": false,
     "task": false
    }
   },
   "source": [
    "---\n",
    "### 4.2 Precision (7 points)\n",
    "Implement the `precision@k` metric:"
   ]
  },
  {
   "cell_type": "code",
   "execution_count": 60,
   "metadata": {
    "cell_id": "00090-10b53f18-7e8d-43d4-b563-680628c40545",
    "deepnote_cell_height": 333,
    "deepnote_cell_type": "code",
    "deepnote_to_be_reexecuted": false,
    "deletable": false,
    "execution_millis": 0,
    "execution_start": 1645186540806,
    "nbgrader": {
     "cell_type": "code",
     "checksum": "43dea1979ebdec24ffcfeff71c670433",
     "grade": false,
     "grade_id": "cell-494bd0cce108ed67",
     "locked": false,
     "schema_version": 3,
     "solution": true,
     "task": false
    },
    "source_hash": "b26a2b3c"
   },
   "outputs": [],
   "source": [
    "# TODO: Implement this! (7 points)\n",
    "def precision_k(results, relevant_docs, k):\n",
    "    \"\"\"\n",
    "    Compute Precision@K\n",
    "    Input:\n",
    "        results: A sorted list of 2-tuples (document_id, score),\n",
    "                with the most relevant document in the first position\n",
    "        relevant_docs: A set of relevant documents.\n",
    "        k: the cut-off\n",
    "    Output: Precision@K\n",
    "    \"\"\"\n",
    "    if k > len(results):\n",
    "        k = len(results)\n",
    "    # YOUR CODE HERE\n",
    "    return np.mean([doc_id in relevant_docs for doc_id, _score in results[:k]])"
   ]
  },
  {
   "cell_type": "code",
   "execution_count": 61,
   "metadata": {
    "cell_id": "00091-fa6b1685-64b1-424e-af93-8f763660db0f",
    "deepnote_cell_height": 296.5625,
    "deepnote_cell_type": "code",
    "deepnote_to_be_reexecuted": false,
    "deletable": false,
    "editable": false,
    "execution_millis": 320,
    "execution_start": 1645186540809,
    "nbgrader": {
     "cell_type": "code",
     "checksum": "9222e35582b1840ffb60fd02fb0b60c3",
     "grade": true,
     "grade_id": "cell-e7ff0d91c319ca64",
     "locked": true,
     "points": 7,
     "schema_version": 3,
     "solution": false,
     "task": false
    },
    "source_hash": "1417a891"
   },
   "outputs": [
    {
     "name": "stdout",
     "output_type": "stream",
     "text": [
      "query: What articles exist which deal with TSS (Time Sharing System), an\n",
      "operating system for IBM computers?\n",
      "precision@10 = 0.2\n"
     ]
    }
   ],
   "source": [
    "#### Function check\n",
    "qid = queries[0][0]\n",
    "qtext = queries[0][1]\n",
    "print(f\"query:{qtext}\")\n",
    "results = bm25_search(qtext, 2)\n",
    "precision = precision_k(results, qrels[qid], 10)\n",
    "print(f\"precision@10 = {precision}\")\n",
    "####"
   ]
  },
  {
   "cell_type": "markdown",
   "metadata": {
    "cell_id": "00092-573df961-c83e-4116-af98-2954707eb21e",
    "deepnote_cell_height": 101.390625,
    "deepnote_cell_type": "markdown",
    "deletable": false,
    "editable": false,
    "nbgrader": {
     "cell_type": "markdown",
     "checksum": "8fd3b3998197c7097a40348500affb68",
     "grade": false,
     "grade_id": "cell-afd95f865bc7191e",
     "locked": true,
     "schema_version": 3,
     "solution": false,
     "task": false
    }
   },
   "source": [
    "---\n",
    "### 4.3 Recall (7 points)\n",
    "Implement the `recall@k` metric:"
   ]
  },
  {
   "cell_type": "code",
   "execution_count": 62,
   "metadata": {
    "cell_id": "00093-73affea1-1e53-4344-8a1f-55a1c3a18966",
    "deepnote_cell_height": 495,
    "deepnote_cell_type": "code",
    "deepnote_to_be_reexecuted": false,
    "deletable": false,
    "execution_millis": 1,
    "execution_start": 1645186541031,
    "nbgrader": {
     "cell_type": "code",
     "checksum": "b2020e5741ae03b3fe35817ed8f4ccaa",
     "grade": false,
     "grade_id": "cell-c323fc8c3f8a7cf8",
     "locked": false,
     "schema_version": 3,
     "solution": true,
     "task": false
    },
    "source_hash": "7a605edf"
   },
   "outputs": [],
   "source": [
    "# TODO: Implement this! (7 points)\n",
    "def recall_k(results, relevant_docs, k):\n",
    "    \"\"\"\n",
    "    Compute Recall@K\n",
    "    Input:\n",
    "        results: A sorted list of 2-tuples (document_id, score),\n",
    "            with the most relevant document in the first position\n",
    "        relevant_docs: A set of relevant documents.\n",
    "        k: the cut-off\n",
    "    Output: Recall@K\n",
    "    \"\"\"\n",
    "    # YOUR CODE HERE\n",
    "    tp = 0.0\n",
    "    fn = 0.0\n",
    "    for i, (doc_id, _score) in enumerate(results, 1):\n",
    "        if doc_id in relevant_docs:\n",
    "            if i <= k:\n",
    "                tp += 1\n",
    "            else:\n",
    "                fn += 1\n",
    "    try:\n",
    "        return tp / (tp + fn)\n",
    "    except ZeroDivisionError:\n",
    "        return 0.0"
   ]
  },
  {
   "cell_type": "code",
   "execution_count": 63,
   "metadata": {
    "cell_id": "00094-bf429fa0-2840-4cae-bab1-cb99f0a3d3d3",
    "deepnote_cell_height": 258.375,
    "deepnote_cell_type": "code",
    "deepnote_to_be_reexecuted": false,
    "deletable": false,
    "editable": false,
    "execution_millis": 98,
    "execution_start": 1645186541033,
    "nbgrader": {
     "cell_type": "code",
     "checksum": "56b6e0b8522f8b2dffbfb3206b2efa84",
     "grade": true,
     "grade_id": "cell-b25172161aef165c",
     "locked": true,
     "points": 7,
     "schema_version": 3,
     "solution": false,
     "task": false
    },
    "source_hash": "a5ebd603"
   },
   "outputs": [
    {
     "name": "stdout",
     "output_type": "stream",
     "text": [
      "query: SETL, Very High Level Languages\n",
      "recall@10 = 0.3157894736842105\n"
     ]
    }
   ],
   "source": [
    "#### Function check\n",
    "qid = queries[10][0]\n",
    "qtext = queries[10][1]\n",
    "print(f\"query:{qtext}\")\n",
    "results = bm25_search(qtext, 2)\n",
    "recall = recall_k(results, qrels[qid], 10)\n",
    "print(f\"recall@10 = {recall}\")\n",
    "####"
   ]
  },
  {
   "cell_type": "markdown",
   "metadata": {
    "cell_id": "00095-1445fa1d-3d88-4eb1-9592-5a6cba32701b",
    "deepnote_cell_height": 101.390625,
    "deepnote_cell_type": "markdown",
    "deletable": false,
    "editable": false,
    "nbgrader": {
     "cell_type": "markdown",
     "checksum": "b3d3c7bd1cd977cd07ef5df7d3fbf159",
     "grade": false,
     "grade_id": "cell-77fd2e7a39a74739",
     "locked": true,
     "schema_version": 3,
     "solution": false,
     "task": false
    }
   },
   "source": [
    "---\n",
    "### 4.4 Mean Average Precision (13 points)\n",
    "Implement the `map` metric:"
   ]
  },
  {
   "cell_type": "code",
   "execution_count": 64,
   "metadata": {
    "cell_id": "00096-6935fc09-3410-4008-ab25-df992be775e4",
    "deepnote_cell_height": 387,
    "deepnote_cell_type": "code",
    "deepnote_to_be_reexecuted": false,
    "deletable": false,
    "execution_millis": 1,
    "execution_start": 1645186541058,
    "nbgrader": {
     "cell_type": "code",
     "checksum": "aae2c62f2ffd76f5b6c004e9519b9f14",
     "grade": false,
     "grade_id": "cell-e50925fa9093a30d",
     "locked": false,
     "schema_version": 3,
     "solution": true,
     "task": false
    },
    "source_hash": "9a3733da"
   },
   "outputs": [],
   "source": [
    "# TODO: Implement this! (12 points)\n",
    "def average_precision(results, relevant_docs):\n",
    "    \"\"\"\n",
    "    Compute Average Precision (for a single query - the results are\n",
    "    averaged across queries to get MAP in the next few cells)\n",
    "    Hint: You can use the recall_k and precision_k functions here!\n",
    "    Input:\n",
    "        results: A sorted list of 2-tuples (document_id, score), with the most\n",
    "                relevant document in the first position\n",
    "        relevant_docs: A set of relevant documents.\n",
    "    Output: Average Precision\n",
    "    \"\"\"\n",
    "    n_rel_docs = len(relevant_docs)\n",
    "    n_true_pos = 0\n",
    "    \n",
    "    precisions = np.zeros(n_rel_docs)\n",
    "    N = len(results)\n",
    "    for k, (doc_id, _score) in enumerate(results, 1):\n",
    "        if n_true_pos == n_rel_docs:\n",
    "            # we can stop early because we found all the relevant docs\n",
    "            break\n",
    "        if doc_id in relevant_docs:\n",
    "            precisions[n_true_pos] = precision_k(results, relevant_docs, k)\n",
    "            n_true_pos += 1\n",
    "    # compute the average precision\n",
    "    return np.mean(precisions)"
   ]
  },
  {
   "cell_type": "code",
   "execution_count": 65,
   "metadata": {
    "cell_id": "00097-d194398d-53a0-4cd3-a940-4d78e7ce289a",
    "deepnote_cell_height": 278.5625,
    "deepnote_cell_type": "code",
    "deepnote_to_be_reexecuted": false,
    "deletable": false,
    "editable": false,
    "execution_millis": 1266,
    "execution_start": 1645186541145,
    "nbgrader": {
     "cell_type": "code",
     "checksum": "3b00e147c2fa146fa59f179b7c9cab75",
     "grade": true,
     "grade_id": "cell-8a1f7ec98571e58b",
     "locked": true,
     "points": 13,
     "schema_version": 3,
     "solution": false,
     "task": false
    },
    "source_hash": "501861e7"
   },
   "outputs": [
    {
     "name": "stdout",
     "output_type": "stream",
     "text": [
      "query: computational complexity, intractability, class-complete reductions,\n",
      "algorithms and efficiency\n",
      "MAP = 0.1724040411055945\n"
     ]
    }
   ],
   "source": [
    "#### Function check\n",
    "qid = queries[20][0]\n",
    "qtext = queries[20][1]\n",
    "print(f\"query:{qtext}\")\n",
    "results = bm25_search(qtext, 2)\n",
    "mean_ap = average_precision(results, qrels[qid])\n",
    "print(f\"MAP = {mean_ap}\")\n",
    "####"
   ]
  },
  {
   "cell_type": "markdown",
   "metadata": {
    "cell_id": "00098-ff07922a-b997-4d0a-b0b2-16a258d55e09",
    "deepnote_cell_height": 101.390625,
    "deepnote_cell_type": "markdown",
    "deletable": false,
    "editable": false,
    "nbgrader": {
     "cell_type": "markdown",
     "checksum": "36f85f45ef52d9467ba9a717d6d99ff2",
     "grade": false,
     "grade_id": "cell-1da18f0fe6f6d7be",
     "locked": true,
     "schema_version": 3,
     "solution": false,
     "task": false
    }
   },
   "source": [
    "---\n",
    "### 4.5 Expected Reciprocal Rank (13 points)\n",
    "Implement the `err` metric:"
   ]
  },
  {
   "cell_type": "code",
   "execution_count": 66,
   "metadata": {
    "cell_id": "00099-6f85eb2c-52dd-4893-9795-701a871bbb68",
    "deepnote_cell_height": 459,
    "deepnote_cell_type": "code",
    "deepnote_to_be_reexecuted": false,
    "deletable": false,
    "execution_millis": 39,
    "execution_start": 1645186542452,
    "nbgrader": {
     "cell_type": "code",
     "checksum": "9ac94db728e23ea1f5dc0d509473c6fb",
     "grade": false,
     "grade_id": "cell-64262889f9b267ea",
     "locked": false,
     "schema_version": 3,
     "solution": true,
     "task": false
    },
    "source_hash": "337046c"
   },
   "outputs": [],
   "source": [
    "# TODO: Implement this! (12 points)\n",
    "def err(results, relevant_docs):\n",
    "    \"\"\"\n",
    "    Compute the expected reciprocal rank.\n",
    "    Hint: https://dl.acm.org/doi/pdf/10.1145/1645953.1646033?download=true\n",
    "    Input:\n",
    "        results: A sorted list of 2-tuples (document_id, score), with the most\n",
    "            relevant document in the first position\n",
    "        relevant_docs: A set of relevant documents.\n",
    "    Output: ERR (float)\n",
    "\n",
    "    \"\"\"\n",
    "    # YOUR CODE HERE\n",
    "    exp_rec_rank = 0\n",
    "    p = 1\n",
    "    for rank, (doc_id, score) in enumerate(results, 1):\n",
    "        grade = 1 if doc_id in relevant_docs else 0\n",
    "        relevance_prob = (2**grade - 1) / 2\n",
    "        exp_rec_rank += p * (relevance_prob / rank)\n",
    "        p *= 1 - relevance_prob\n",
    "    return exp_rec_rank"
   ]
  },
  {
   "cell_type": "code",
   "execution_count": 67,
   "metadata": {
    "cell_id": "00100-d301d6c2-210d-4182-8817-b2c392d7d10e",
    "deepnote_cell_height": 359.3125,
    "deepnote_cell_type": "code",
    "deepnote_to_be_reexecuted": false,
    "deletable": false,
    "editable": false,
    "execution_millis": 223,
    "execution_start": 1645186542501,
    "nbgrader": {
     "cell_type": "code",
     "checksum": "b7d201de0990b69d5f38704668665d87",
     "grade": true,
     "grade_id": "cell-071e3970ff1afae4",
     "locked": true,
     "points": 13,
     "schema_version": 3,
     "solution": false,
     "task": false
    },
    "source_hash": "c244fd0a"
   },
   "outputs": [
    {
     "name": "stdout",
     "output_type": "stream",
     "text": [
      "qPuery: I'd like to find articles describing the use of singular value decomposition\n",
      "in digital image processing.  Applications include finding approximations\n",
      "to the original image and restoring images that are subject to noise. An\n",
      "article on the subject is H.C. Andrews and C.L. Patterson \"Outer product\n",
      "expansions and their uses in digital image processing\", American Mathematical\n",
      "Monthly, vol. 82.\n",
      "ERR = 0.625\n"
     ]
    }
   ],
   "source": [
    "#### Function check\n",
    "qid = queries[30][0]\n",
    "qtext = queries[30][1]\n",
    "print(f\"qPuery:{qtext}\")\n",
    "results = bm25_search(qtext, 2)\n",
    "ERR = err(results, qrels[qid])\n",
    "print(f\"ERR = {ERR}\")\n",
    "####"
   ]
  },
  {
   "cell_type": "markdown",
   "metadata": {
    "cell_id": "00101-5c45197a-8f43-4e13-b24d-0ef1ad533eef",
    "deepnote_cell_height": 101.390625,
    "deepnote_cell_type": "markdown",
    "deletable": false,
    "editable": false,
    "nbgrader": {
     "cell_type": "markdown",
     "checksum": "5bd94caf77cfa5f34675df758d91002d",
     "grade": false,
     "grade_id": "cell-43709a765f353946",
     "locked": true,
     "schema_version": 3,
     "solution": false,
     "task": false
    }
   },
   "source": [
    "---\n",
    "### 4.6 Evaluate Search Functions\n",
    "\n",
    "Let's define some metrics@k using [partial functions](https://docs.python.org/3/library/functools.html#functools.partial)"
   ]
  },
  {
   "cell_type": "code",
   "execution_count": 68,
   "metadata": {
    "cell_id": "00102-442bc886-57e2-4c21-b7ad-b01e86ff2f2b",
    "deepnote_cell_height": 423,
    "deepnote_cell_type": "code",
    "deepnote_to_be_reexecuted": false,
    "deletable": false,
    "editable": false,
    "execution_millis": 1,
    "execution_start": 1645186542781,
    "nbgrader": {
     "cell_type": "code",
     "checksum": "49ccc158e5fb7340ace55e90eeb9d62a",
     "grade": false,
     "grade_id": "cell-dab560e18e340da8",
     "locked": true,
     "schema_version": 3,
     "solution": false,
     "task": false
    },
    "source_hash": "984c969a"
   },
   "outputs": [],
   "source": [
    "#### metrics@k functions\n",
    "\n",
    "recall_at_1 = partial(recall_k, k=1)\n",
    "recall_at_5 = partial(recall_k, k=5)\n",
    "recall_at_10 = partial(recall_k, k=10)\n",
    "precision_at_1 = partial(precision_k, k=1)\n",
    "precision_at_5 = partial(precision_k, k=5)\n",
    "precision_at_10 = partial(precision_k, k=10)\n",
    "\n",
    "\n",
    "list_of_metrics = [\n",
    "    (\"ERR\", err),\n",
    "    (\"MAP\", average_precision),\n",
    "    (\"Recall@1\", recall_at_1),\n",
    "    (\"Recall@5\", recall_at_5),\n",
    "    (\"Recall@10\", recall_at_10),\n",
    "    (\"Precision@1\", precision_at_1),\n",
    "    (\"Precision@5\", precision_at_5),\n",
    "    (\"Precision@10\", precision_at_10),\n",
    "]"
   ]
  },
  {
   "cell_type": "markdown",
   "metadata": {
    "cell_id": "00103-62e2b5c1-7f8b-4b73-8459-45dac6ed6b05",
    "deepnote_cell_height": 91,
    "deepnote_cell_type": "markdown",
    "deletable": false,
    "editable": false,
    "nbgrader": {
     "cell_type": "markdown",
     "checksum": "fb541002c03221b453b8936290020ea5",
     "grade": false,
     "grade_id": "cell-580a2bdc66d03b47",
     "locked": true,
     "schema_version": 3,
     "solution": false,
     "task": false
    }
   },
   "source": [
    "---\n",
    "\n",
    "The following function evaluates a `search_fn` using the `metric_fn`. Note that the final number is averaged over all the queries"
   ]
  },
  {
   "cell_type": "code",
   "execution_count": 69,
   "metadata": {
    "cell_id": "00104-cc282062-26b4-45c1-8dfa-9b8ca0fc9ed5",
    "deepnote_cell_height": 783,
    "deepnote_cell_type": "code",
    "deepnote_to_be_reexecuted": false,
    "execution_millis": 1,
    "execution_start": 1645186542825,
    "lines_to_next_cell": 2,
    "source_hash": "647a95c2"
   },
   "outputs": [],
   "source": [
    "#### Evaluate a search function\n",
    "\n",
    "list_of_search_fns = [\n",
    "    (\"BOW\", bow_search),\n",
    "    (\"TF-IDF\", tfidf_search),\n",
    "    (\"NaiveQL\", naive_ql_search),\n",
    "    (\"QL\", ql_search),\n",
    "    (\"BM25\", bm25_search),\n",
    "]\n",
    "\n",
    "\n",
    "def evaluate_search_fn(search_fn, metric_fns, index_set=None):\n",
    "    # build a dict query_id -> query\n",
    "    queries_by_id = dict((q[0], q[1]) for q in queries)\n",
    "\n",
    "    metrics = {}\n",
    "    for metric, metric_fn in metric_fns:\n",
    "        metrics[metric] = np.zeros(len(qrels), dtype=np.float32)\n",
    "\n",
    "    # original version\n",
    "    for i, (query_id, relevant_docs) in enumerate(qrels.items()):\n",
    "        query = queries_by_id[query_id]\n",
    "        if index_set:\n",
    "            results = search_fn(query, index_set)\n",
    "        else:\n",
    "            results = search_fn(query)\n",
    "\n",
    "        for metric, metric_fn in metric_fns:\n",
    "            metrics[metric][i] = metric_fn(results, relevant_docs)\n",
    "\n",
    "    final_dict = {}\n",
    "    for metric, metric_vals in metrics.items():\n",
    "        final_dict[metric] = metric_vals.mean()\n",
    "\n",
    "    # fast version for debugging plot\n",
    "    # final_dict = {}\n",
    "    # for metric, metric_vals in metrics.items():\n",
    "    #     final_dict[metric] = metric_vals.mean() + 0.5\n",
    "\n",
    "    return final_dict\n",
    "\n",
    "\n",
    "####"
   ]
  },
  {
   "cell_type": "markdown",
   "metadata": {
    "cell_id": "00105-ba71254a-76a2-4a05-a0a0-148bcf0d753f",
    "deepnote_cell_height": 411.59375,
    "deepnote_cell_type": "markdown",
    "deletable": false,
    "editable": false,
    "nbgrader": {
     "cell_type": "markdown",
     "checksum": "6ea67534f74a8f81e1f504794f641709",
     "grade": false,
     "grade_id": "cell-b156d83a0649cbb4",
     "locked": true,
     "schema_version": 3,
     "solution": false,
     "task": false
    }
   },
   "source": [
    "## Section 5: Analysis (30 points) <a class=\"anchor\" id=\"analysis\"></a>\n",
    "\n",
    "[Back to Part 1](#part1)\n",
    "\n",
    "In the final section of Part1, we will compare the different term-based IR algorithms and different preprocessing configurations and analyze their advantages and disadvantages.\n",
    "\n",
    "### Section 5.1: Plot (20 points)\n",
    "\n",
    "First, gather the results. The results should consider the index set, the different search functions and different metrics. Plot the results in bar charts, per metric, with clear labels.\n",
    "\n",
    "**Rubric:**\n",
    "- Each Metric is plotted: 7 points\n",
    "- Each Method is plotted: 7 points\n",
    "- Clear titles, x label, y labels and legends (if applicable): 6 points"
   ]
  },
  {
   "cell_type": "code",
   "execution_count": 70,
   "metadata": {
    "cell_id": "00106-7e245371-4141-4e15-a142-53d98c682cb7",
    "deepnote_cell_height": 729,
    "deepnote_cell_type": "code",
    "deepnote_output_heights": [
     470.984375
    ],
    "deepnote_to_be_reexecuted": false,
    "deletable": false,
    "execution_millis": 0,
    "execution_start": 1645186542869,
    "nbgrader": {
     "cell_type": "code",
     "checksum": "7e2588a925d13ddf588abe8311dc9cfc",
     "grade": true,
     "grade_id": "cell-46fda42a25863a04",
     "locked": false,
     "points": 20,
     "schema_version": 3,
     "solution": true,
     "task": false
    },
    "source_hash": "1e18f015"
   },
   "outputs": [
    {
     "name": "stdout",
     "output_type": "stream",
     "text": [
      "\n",
      "index set 1:\n",
      "\tBOW\n",
      "{'ERR': 0.055224963,\n",
      " 'MAP': 0.031061875,\n",
      " 'Precision@1': 0.03846154,\n",
      " 'Precision@10': 0.028846154,\n",
      " 'Precision@5': 0.034615386,\n",
      " 'Recall@1': 0.0030982906,\n",
      " 'Recall@10': 0.046087656,\n",
      " 'Recall@5': 0.037126765}\n",
      "\tTF-IDF\n",
      "{'ERR': 0.30517504,\n",
      " 'MAP': 0.17810398,\n",
      " 'Precision@1': 0.3846154,\n",
      " 'Precision@10': 0.17500001,\n",
      " 'Precision@5': 0.21153846,\n",
      " 'Recall@1': 0.07476607,\n",
      " 'Recall@10': 0.22000195,\n",
      " 'Recall@5': 0.1473746}\n",
      "\tNaiveQL\n",
      "{'ERR': 0.02187399,\n",
      " 'MAP': 0.007967688,\n",
      " 'Precision@1': 0.03846154,\n",
      " 'Precision@10': 0.0076923077,\n",
      " 'Precision@5': 0.015384615,\n",
      " 'Recall@1': 0.0037774725,\n",
      " 'Recall@10': 0.008585164,\n",
      " 'Recall@5': 0.008585164}\n",
      "\tQL\n",
      "{'ERR': 0.30951288,\n",
      " 'MAP': 0.16616207,\n",
      " 'Precision@1': 0.34615386,\n",
      " 'Precision@10': 0.19423078,\n",
      " 'Precision@5': 0.25384614,\n",
      " 'Recall@1': 0.046651527,\n",
      " 'Recall@10': 0.21684042,\n",
      " 'Recall@5': 0.17031717}\n",
      "\tBM25\n",
      "{'ERR': 0.37286478,\n",
      " 'MAP': 0.22088145,\n",
      " 'Precision@1': 0.44230768,\n",
      " 'Precision@10': 0.24038464,\n",
      " 'Precision@5': 0.2846154,\n",
      " 'Recall@1': 0.066907376,\n",
      " 'Recall@10': 0.30646548,\n",
      " 'Recall@5': 0.20312355}\n",
      "\n",
      "index set 2:\n",
      "\tBOW\n",
      "{'ERR': 0.11996831,\n",
      " 'MAP': 0.06623642,\n",
      " 'Precision@1': 0.07692308,\n",
      " 'Precision@10': 0.07307692,\n",
      " 'Precision@5': 0.080769226,\n",
      " 'Recall@1': 0.010193701,\n",
      " 'Recall@10': 0.08793031,\n",
      " 'Recall@5': 0.048788056}\n",
      "\tTF-IDF\n",
      "{'ERR': 0.4148428,\n",
      " 'MAP': 0.25480694,\n",
      " 'Precision@1': 0.53846157,\n",
      " 'Precision@10': 0.25,\n",
      " 'Precision@5': 0.33846155,\n",
      " 'Recall@1': 0.10014636,\n",
      " 'Recall@10': 0.29629084,\n",
      " 'Recall@5': 0.23532662}\n",
      "\tNaiveQL\n",
      "{'ERR': 0.06400872,\n",
      " 'MAP': 0.019428182,\n",
      " 'Precision@1': 0.115384616,\n",
      " 'Precision@10': 0.025000002,\n",
      " 'Precision@5': 0.042307694,\n",
      " 'Recall@1': 0.009656762,\n",
      " 'Recall@10': 0.022477273,\n",
      " 'Recall@5': 0.01766958}\n",
      "\tQL\n",
      "{'ERR': 0.40624025,\n",
      " 'MAP': 0.24890317,\n",
      " 'Precision@1': 0.5192308,\n",
      " 'Precision@10': 0.29807693,\n",
      " 'Precision@5': 0.3692308,\n",
      " 'Recall@1': 0.07068591,\n",
      " 'Recall@10': 0.3002048,\n",
      " 'Recall@5': 0.21136688}\n",
      "\tBM25\n",
      "{'ERR': 0.426171,\n",
      " 'MAP': 0.3003765,\n",
      " 'Precision@1': 0.5192308,\n",
      " 'Precision@10': 0.31923077,\n",
      " 'Precision@5': 0.40384614,\n",
      " 'Recall@1': 0.110182874,\n",
      " 'Recall@10': 0.34614927,\n",
      " 'Recall@5': 0.25962994}\n"
     ]
    },
    {
     "data": {
      "image/png": "[encoded data removed]",
      "text/plain": [
       "<Figure size 1008x504 with 8 Axes>"
      ]
     },
     "metadata": {
      "needs_background": "light"
     },
     "output_type": "display_data"
    }
   ],
   "source": [
    "from pprint import pprint\n",
    "# YOUR CODE HERE\n",
    "# takes roughly 30 secs to run\n",
    "fig, axes = plt.subplots(2, 4, figsize=(14, 7), sharey=False)\n",
    "axes = axes.flatten()\n",
    "\n",
    "# need this to make side by side bars\n",
    "N = len(list_of_search_fns)\n",
    "method_loc = np.arange(N)\n",
    "bar_width = 0.25\n",
    "\n",
    "for j, (index_set) in enumerate([1, 2]):\n",
    "    print(f\"\\nindex set {index_set}:\")\n",
    "    results = {}\n",
    "\n",
    "    for search_alg, search_fn in list_of_search_fns:\n",
    "        results[search_alg] = evaluate_search_fn(\n",
    "            search_fn, list_of_metrics, index_set=index_set\n",
    "        )\n",
    "        print(f\"\\t{search_alg}\")\n",
    "        pprint(results[search_alg])\n",
    "\n",
    "    for i, (metric_name, _metric_fn) in enumerate(list_of_metrics):\n",
    "        metric_results = {k: v[metric_name] for k, v in results.items()}\n",
    "        labels = list(metric_results.keys())\n",
    "        values = [metric_results[label] for label in labels]\n",
    "\n",
    "        axes[i].grid(True, which=\"major\", axis=\"y\", alpha=0.35)\n",
    "        if i % 4 == 0:\n",
    "            axes[i].set_ylabel(\"Average Metric Value\")\n",
    "        if j == 0:\n",
    "            axes[i].bar(method_loc, values, bar_width, label=f\"index set {index_set}\")\n",
    "        else:\n",
    "            axes[i].bar(\n",
    "                method_loc + bar_width,\n",
    "                values,\n",
    "                bar_width,\n",
    "                label=f\"index set {index_set}\",\n",
    "            )\n",
    "            axes[i].set_xticks(method_loc + bar_width / 2)\n",
    "            axes[i].set_xticklabels(labels)\n",
    "            axes[i].set_title(metric_name)\n",
    "            if i == 7:\n",
    "                axes[i].legend()\n",
    "\n",
    "fig.suptitle(\"Comparison of different term-based IR algorithms across various Metrics\")\n",
    "fig.tight_layout(rect=[0, 0.03, 1, 0.95])\n",
    "plt.show()"
   ]
  },
  {
   "cell_type": "markdown",
   "metadata": {
    "cell_id": "00107-1573dd7e-069e-42e6-9991-2e09c5ca522c",
    "deepnote_cell_height": 146.140625,
    "deepnote_cell_type": "markdown",
    "deletable": false,
    "editable": false,
    "nbgrader": {
     "cell_type": "markdown",
     "checksum": "e88c444a0acf4e398c65e289169b75f7",
     "grade": false,
     "grade_id": "cell-8aabe3bcf265deb0",
     "locked": true,
     "points": 10,
     "schema_version": 3,
     "solution": false,
     "task": true
    }
   },
   "source": [
    "---\n",
    "### Section 5.2: Summary (10 points)\n",
    "Write a summary of what you observe in the results.\n",
    "Your summary should compare results across the 2 indices and the methods being used. State what you expected to see in the results, followed by either supporting evidence *or* justify why the results did not support your expectations."
   ]
  },
  {
   "cell_type": "markdown",
   "metadata": {
    "cell_id": "00108-6173a881-f376-4ab8-afa5-feefc85830a5",
    "deepnote_cell_height": 52.390625,
    "deepnote_cell_type": "markdown"
   },
   "source": [
    "1. Regardless of the algorithm used results are universally better across all\n",
    "   the metrics when using preprocessing - in particular stemming and stop-word\n",
    "   removal. This is in line with expectations based on large body of existing\n",
    "   literature in the field of Information retrieval.\n",
    "2. BOW performs much worse than expected. Intuitively while not a great method\n",
    "   word count for each token in the query should indicate relative importance of\n",
    "   terms in a document. We demonstrate empirically, however, that token count\n",
    "   alone is a very poor predictor of a document's relevance to a query.\n",
    "3. The NaiveQL model does not work because of the naive unigram language model\n",
    "   assumption - it's unlikely that any single document would contain all query\n",
    "   terms and therefore the probability for most documents given a search query\n",
    "   will be zero resulting in a random subset of documents being returned for\n",
    "   each query.\n",
    "4. The QL model solves the 0 probability issues of the naïve model and in fact\n",
    "   comes close to being the best performing model which confirms that a\n",
    "   probabilistic approach based on likelihood works well.\n",
    "5. TODO explain why BM25 performs best or is close to being the best for all\n",
    "   metrics.\n",
    "6. TODO maybe finally we can compare TF-IDF, QL, BM25 across the different\n",
    "   metrics and highlight which ones are better given different scenarios. Also\n",
    "   which ones are better when we're not using preprocessing.\n",
    "\n",
    "## Notes Giulio\n",
    "\n",
    "- \"This is in line with expectations based on large body of existing literature\n",
    "  in the field of Information retrieval.\"\n",
    "  - i think we should also try to justify it in our words, for e.g. stemming\n",
    "    collapses index size, or stop-word removal allows models to \"focus\" on more\n",
    "    relevant words, or something else.\n",
    "- I think in our discussion we should also speak about what methods do better in\n",
    "  precision or in recall at different k's, as this is relevant to the type of\n",
    "  information retrieval one is after -- remember we had some discussion about\n",
    "  this in one of the lectures so I imagine they're expecting some discussion\n",
    "  about this here."
   ]
  },
  {
   "cell_type": "markdown",
   "metadata": {
    "cell_id": "00109-6235ead6-3d31-4a02-b36d-704dfc8e6efb",
    "deepnote_cell_height": 679.140625,
    "deepnote_cell_type": "markdown",
    "deletable": false,
    "editable": false,
    "nbgrader": {
     "cell_type": "markdown",
     "checksum": "b3eb77be74eecca205fc7b47316d1627",
     "grade": false,
     "grade_id": "cell-bb60dd5c092d0f2e",
     "locked": true,
     "schema_version": 3,
     "solution": false,
     "task": false
    }
   },
   "source": [
    "---\n",
    "---\n",
    "# Part 2: Semantic-based Matching (85 points) <a class=\"anchor\" id=\"part2\"></a>\n",
    "\n",
    "[Back to top](#top)\n",
    "\n",
    "We will now experiment with methods that go beyond lexical methods like TF-IDF, which operate at the word level and are high dimensional and sparse, and look at methods which constructs low dimensional dense representations of queries and documents.\n",
    "\n",
    "Since these low-dimensional methods have a higher time complexity, they are typically used in conjunction with methods like BM-25. That is, instead of searching through potentially million documents to find matches using low dimensional vectors, a list of K documents are retrieved using BM25, and then **re-ranked** using the other method. This is the method that is going to be applied in the following exercises.\n",
    "\n",
    "LSI/LDA takes documents that are similar on a semantic level - for instance, if they are describing the same topic - and projects them into nearby vectors, despite having low lexical overlap.\n",
    "\n",
    "In this assignment, you will use `gensim` to create LSI/LDA models and use them in re-ranking.\n",
    "\n",
    "**Note**: The following exercises only uses `doc_repr_2` and `config_2`\n",
    "\n",
    "Table of contents:\n",
    "- [Section 6: LSI](#lsi) (15 points)\n",
    "- [Section 7: LDA](#lda) (10 points)\n",
    "- [Section 8: Word2Vec/Doc2Vec](#2vec) (20 points)\n",
    "- [Section 8: Re-ranking](#reranking) (10 points)\n",
    "- [Section 9: Re-ranking Evaluation](#reranking_eval) (30 points)"
   ]
  },
  {
   "cell_type": "markdown",
   "metadata": {
    "cell_id": "00110-5bcb1bc8-cec9-41c8-af84-5814c41bcace",
    "deepnote_cell_height": 204.59375,
    "deepnote_cell_type": "markdown",
    "deletable": false,
    "editable": false,
    "nbgrader": {
     "cell_type": "markdown",
     "checksum": "f7c7b2cab82f576ed0acf836ca57171c",
     "grade": false,
     "grade_id": "cell-6b2c81e7a8abd180",
     "locked": true,
     "schema_version": 3,
     "solution": false,
     "task": false
    }
   },
   "source": [
    "---\n",
    "## Section 6: Latent Semantic Indexing (LSI) (15 points) <a class=\"anchor\" id=\"lsi\"></a>\n",
    "\n",
    "[Back to Part 2](#part2)\n",
    "\n",
    "LSI is one of the methods to embed the queries and documents into vectors. It is based on a method similar to Principal Component Analysis (PCA) for obtaining a dense concept matrix out of the sparse term-document matrix.\n",
    "\n",
    "See [wikipedia](https://en.wikipedia.org/wiki/Latent_semantic_analysis), particularly [#Mathematics_of_LSI](https://en.wikipedia.org/wiki/Latent_semantic_analysis#Mathematics_of_LSI)."
   ]
  },
  {
   "cell_type": "code",
   "execution_count": 71,
   "metadata": {
    "cell_id": "00111-09fa8f16-3577-43a0-902e-8a9dffdf4d2a",
    "deepnote_cell_height": 189,
    "deepnote_cell_type": "code",
    "deepnote_to_be_reexecuted": false,
    "deletable": false,
    "editable": false,
    "execution_millis": 735,
    "execution_start": 1645186542920,
    "nbgrader": {
     "cell_type": "code",
     "checksum": "c17ee75319cb517e2bf48ec3d9efc329",
     "grade": false,
     "grade_id": "cell-59913daee47f680d",
     "locked": true,
     "schema_version": 3,
     "solution": false,
     "task": false
    },
    "source_hash": "a97e055a"
   },
   "outputs": [],
   "source": [
    "from gensim.corpora import Dictionary\n",
    "from gensim.models import LdaModel, LsiModel, Word2Vec\n",
    "from gensim.models.doc2vec import Doc2Vec, TaggedDocument\n",
    "from gensim import downloader as g_downloader\n",
    "\n",
    "# gensim uses logging, so set it up\n",
    "import logging\n",
    "\n",
    "logging.basicConfig(\n",
    "    format=\"%(asctime)s : %(levelname)s : %(message)s\", level=logging.INFO\n",
    ")"
   ]
  },
  {
   "cell_type": "markdown",
   "metadata": {
    "cell_id": "00112-b7a2dfe3-d382-44dd-a7a6-e2f4a6feee5c",
    "deepnote_cell_height": 235.875,
    "deepnote_cell_type": "markdown",
    "deletable": false,
    "editable": false,
    "nbgrader": {
     "cell_type": "markdown",
     "checksum": "5fce140c546759b54a9fc060901ae77c",
     "grade": false,
     "grade_id": "cell-3644faff4976598a",
     "locked": true,
     "schema_version": 3,
     "solution": false,
     "task": false
    }
   },
   "source": [
    "---\n",
    "### Section 6.1: Cosine Similarity (5 points)<a class=\"anchor\" id=\"cosing_sim\"></a>\n",
    "Before we begin, let us first define our method of similarity for the LSI model, the cosine similarity:\n",
    "\n",
    "$$\\text{similarity} = \\cos(\\theta) = {\\mathbf{A} \\cdot \\mathbf{B} \\over \\|\\mathbf{A}\\| \\|\\mathbf{B}\\|} = \\frac{ \\sum\\limits_{i=1}^{n}{A_i  B_i} }{ \\sqrt{\\sum\\limits_{i=1}^{n}{A_i^2}}  \\sqrt{\\sum\\limits_{i=1}^{n}{B_i^2}} }$$\n",
    "\n",
    "Since we are using gensim, the types of vectors returned by their classes are of the form defined below (they are not just simple vectors):"
   ]
  },
  {
   "cell_type": "code",
   "execution_count": 72,
   "metadata": {
    "cell_id": "00113-b48d2608-3784-4f64-9344-fe76553f9aaf",
    "deepnote_cell_height": 135,
    "deepnote_cell_type": "code",
    "deepnote_to_be_reexecuted": false,
    "deletable": false,
    "editable": false,
    "execution_millis": 16,
    "execution_start": 1645186543665,
    "nbgrader": {
     "cell_type": "code",
     "checksum": "4e340e1a1d546f430c018fd0760e707a",
     "grade": false,
     "grade_id": "cell-3995a50f951314d5",
     "locked": true,
     "schema_version": 3,
     "solution": false,
     "task": false
    },
    "source_hash": "214da9c9"
   },
   "outputs": [],
   "source": [
    "# 1, 2, 3 are either latent dimensions (LSI), or topics (LDA)\n",
    "# The second value in each tuple is a number (LSI) or a probability (LDA)\n",
    "example_vec_1 = [(1, 0.2), (2, 0.3), (3, 0.4)]\n",
    "example_vec_2 = [(1, 0.2), (2, 0.7), (3, 0.4)]"
   ]
  },
  {
   "cell_type": "markdown",
   "metadata": {
    "cell_id": "00114-5b3ead96-66da-40ac-9080-3669fc2631f3",
    "deepnote_cell_height": 75.796875,
    "deepnote_cell_type": "markdown",
    "deletable": false,
    "editable": false,
    "nbgrader": {
     "cell_type": "markdown",
     "checksum": "20832fd4f579f49ae204b0efee02edd1",
     "grade": false,
     "grade_id": "cell-5e54d581858dc8f7",
     "locked": true,
     "schema_version": 3,
     "solution": false,
     "task": false
    }
   },
   "source": [
    "---\n",
    "**Implementation (2+3 points):**\n",
    "Now, implement the `dot product` operation on these types of vectors and using this operator, implement the `cosine similarity` (don't forget: two functions to implement!):"
   ]
  },
  {
   "cell_type": "code",
   "execution_count": 73,
   "metadata": {
    "cell_id": "00115-d8dc29b5-3912-471e-90a3-6a9db763c917",
    "deepnote_cell_height": 531,
    "deepnote_cell_type": "code",
    "deepnote_to_be_reexecuted": false,
    "deletable": false,
    "execution_millis": 10,
    "execution_start": 1645186543706,
    "nbgrader": {
     "cell_type": "code",
     "checksum": "06a712ee75fc213a21c5f0067fd8fe28",
     "grade": false,
     "grade_id": "cell-0e8189f5f93de33f",
     "locked": false,
     "schema_version": 3,
     "solution": true,
     "task": false
    },
    "source_hash": "f02e6495"
   },
   "outputs": [],
   "source": [
    "# TODO: Implement this! (2 points)\n",
    "def dot(vec_1, vec_2):\n",
    "    \"\"\"\n",
    "    vec_1 and vec_2 are of the form: [(int, float), (int, float), ...]\n",
    "    Return the dot product of two such vectors, computed only on the floats\n",
    "    You can assume that the lengths of the vectors are the same, and the dimensions are aligned\n",
    "        i.e you won't get: vec_1 = [(1, 0.2)] ; vec_2 = [(2, 0.3)]\n",
    "                            (dimensions are unaligned and lengths are different)\n",
    "    \"\"\"\n",
    "    # YOUR CODE HERE\n",
    "    return np.dot([x[1] for x in vec_1], [y[1] for y in vec_2])\n",
    "\n",
    "\n",
    "# TODO: Implement this! (3 points)\n",
    "def cosine_sim(vec_1, vec_2):\n",
    "\n",
    "    # YOUR CODE HERE\n",
    "    # check for empty or 0-vectored vectors\n",
    "    if all([el == 0 for dim, el in vec_1]) or all([el == 0 for dim, el in vec_2]):\n",
    "        return 0\n",
    "    \n",
    "    # # Adding a custom function to compute the modulus\n",
    "    def mod(\n",
    "        vec,\n",
    "    ):\n",
    "        # Note: This still assumes that the vector is in the form :\n",
    "        # [(int, float), (int, float), ...]\n",
    "        return np.sqrt(sum(x[1] ** 2 for x in vec))\n",
    "    \n",
    "    # actually compute similarity\n",
    "    return dot(vec_1, vec_2) / (mod(vec_1) * mod(vec_2))"
   ]
  },
  {
   "cell_type": "code",
   "execution_count": 74,
   "metadata": {
    "cell_id": "00116-d4733e51-dfd0-4e9c-9240-9382dd06a589",
    "deepnote_cell_height": 224.5625,
    "deepnote_cell_type": "code",
    "deepnote_to_be_reexecuted": false,
    "deletable": false,
    "editable": false,
    "execution_millis": 11246808,
    "execution_start": 1645186543759,
    "nbgrader": {
     "cell_type": "code",
     "checksum": "d22a4a7325ba7815a808390388f534a1",
     "grade": true,
     "grade_id": "cell-b25d04ed6b79fd35",
     "locked": true,
     "points": 2,
     "schema_version": 3,
     "solution": false,
     "task": false
    },
    "source_hash": "f54a94bb"
   },
   "outputs": [
    {
     "name": "stdout",
     "output_type": "stream",
     "text": [
      "vectors: ([(1, 0.2), (2, 0.3), (3, 0.4)], [(1, 0.2), (2, 0.7), (3, 0.4)])\n",
      "dot product = 0.41000000000000003\n",
      "cosine similarity = 0.9165587597202866\n"
     ]
    }
   ],
   "source": [
    "##### Function check\n",
    "print(f\"vectors: {(example_vec_1,example_vec_2)}\")\n",
    "print(f\"dot product = {dot(example_vec_1,example_vec_2)}\")\n",
    "print(f\"cosine similarity = {cosine_sim(example_vec_1,example_vec_2)}\")\n",
    "#####"
   ]
  },
  {
   "cell_type": "code",
   "execution_count": 75,
   "metadata": {
    "cell_id": "00117-1b58cb35-2d08-4e28-8f2b-6de011617cf4",
    "deepnote_cell_height": 81,
    "deepnote_cell_type": "code",
    "deepnote_to_be_reexecuted": false,
    "deletable": false,
    "editable": false,
    "execution_millis": 11246825,
    "execution_start": 1645186543833,
    "nbgrader": {
     "cell_type": "code",
     "checksum": "0744131724ce76b1b3f163b4bae5f700",
     "grade": true,
     "grade_id": "cell-ae3c4466866ace77",
     "locked": true,
     "points": 3,
     "schema_version": 3,
     "solution": false,
     "task": false
    },
    "source_hash": "28110d30"
   },
   "outputs": [],
   "source": [
    "#### Please do not change this. This cell is used for grading."
   ]
  },
  {
   "cell_type": "markdown",
   "metadata": {
    "cell_id": "00118-a369a32d-5d88-4db7-b799-15d230e97a18",
    "deepnote_cell_height": 123.796875,
    "deepnote_cell_type": "markdown",
    "deletable": false,
    "editable": false,
    "nbgrader": {
     "cell_type": "markdown",
     "checksum": "9b123f599f9ea372d14676e23f1c6a52",
     "grade": false,
     "grade_id": "cell-4b2534067c44fcdf",
     "locked": true,
     "schema_version": 3,
     "solution": false,
     "task": false
    }
   },
   "source": [
    "---\n",
    "### Section 6.2: LSI Retrieval (10 points)<a class=\"anchor\" id=\"lsi_retrieval\"></a>\n",
    "LSI retrieval is simply ranking the documents based on their cosine similarity to the query vector.\n",
    "First, let's write a parent class for vector-based retrieval models:"
   ]
  },
  {
   "cell_type": "code",
   "execution_count": 76,
   "metadata": {
    "cell_id": "00119-814ff936-077e-4cc4-993b-e4228ac65973",
    "deepnote_cell_height": 1017,
    "deepnote_cell_type": "code",
    "deepnote_to_be_reexecuted": false,
    "deletable": false,
    "editable": false,
    "execution_millis": 11246845,
    "execution_start": 1645186543834,
    "nbgrader": {
     "cell_type": "code",
     "checksum": "ecc111d58182570e2252b8ef5d6b02af",
     "grade": false,
     "grade_id": "cell-937936cea18711ee",
     "locked": true,
     "schema_version": 3,
     "solution": false,
     "task": false
    },
    "source_hash": "c421a787"
   },
   "outputs": [],
   "source": [
    "class VectorSpaceRetrievalModel:\n",
    "    \"\"\"\n",
    "    Parent class for Dense Vector Retrieval models\n",
    "    \"\"\"\n",
    "\n",
    "    def __init__(self, doc_repr):\n",
    "        \"\"\"\n",
    "        document_collection:\n",
    "            [\n",
    "                (doc_id_1, [token 1, token 2, ...]),\n",
    "                (doc_id_2, [token 1, token 2, ....])\n",
    "                ...\n",
    "            ]\n",
    "\n",
    "        \"\"\"\n",
    "        self.doc_repr = doc_repr\n",
    "        self.documents = [_[1] for _ in self.doc_repr]\n",
    "\n",
    "        # construct a dictionary\n",
    "        self.dictionary = Dictionary(self.documents)\n",
    "        # Filter out words that occur less than 20 documents, or more than 50% of the documents.\n",
    "        self.dictionary.filter_extremes(no_below=10)\n",
    "        self.corpus = [self.dictionary.doc2bow(doc) for doc in self.documents]\n",
    "\n",
    "        # Make a index to word dictionary.\n",
    "        temp = self.dictionary[0]  # This is only to \"load\" the dictionary.\n",
    "        self.id2word = self.dictionary.id2token\n",
    "\n",
    "        # this is set by the train_model function\n",
    "        self.model = None\n",
    "\n",
    "    def vectorize_documents(self):\n",
    "        \"\"\"\n",
    "        Returns a doc_id -> vector dictionary\n",
    "        \"\"\"\n",
    "        vectors = {}\n",
    "        for (doc_id, _), cc in zip(self.doc_repr, self.corpus):\n",
    "            vectors[doc_id] = self.model[cc]\n",
    "        return vectors\n",
    "\n",
    "    def vectorize_query(self, query):\n",
    "        # Note the use of config_2 here!\n",
    "        query = process_text(query, **config_2)\n",
    "        query_vector = self.dictionary.doc2bow(query)\n",
    "        return self.model[query_vector]\n",
    "\n",
    "    def train_model(self):\n",
    "        \"\"\"\n",
    "        Trains a model and sets the 'self.model' variable.\n",
    "        Make sure to use the variables created in the __init__ method.\n",
    "        e.g the variables which may be useful: {corpus, dictionary, id2word}\n",
    "        \"\"\"\n",
    "        raise NotImplementedError()"
   ]
  },
  {
   "cell_type": "markdown",
   "metadata": {
    "cell_id": "00120-41460ee2-1ba5-4e9b-8779-fc6d4bfda152",
    "deepnote_cell_height": 181,
    "deepnote_cell_type": "markdown",
    "deletable": false,
    "editable": false,
    "nbgrader": {
     "cell_type": "markdown",
     "checksum": "ff161eefd9b81b768cd6361bc1a502b0",
     "grade": false,
     "grade_id": "cell-704a18c2f80cd60c",
     "locked": true,
     "schema_version": 3,
     "solution": false,
     "task": false
    }
   },
   "source": [
    "---\n",
    "**Implementation (5 points):**\n",
    "Implement the `train_model` method in the following class (note that this is only one line of code in `gensim`!). Ensure that the parameters defined in the `__init__` method are not changed, and are *used in the `train_method` function*. Normally, the hyperaparameter space will be searched using grid search / other methods - in this assignment we have provided the hyperparameters for you.\n",
    "\n",
    "The last two lines of code train an LSI model on the list of documents which have been stemmed, lower-cased and have stopwords removed."
   ]
  },
  {
   "cell_type": "code",
   "execution_count": 77,
   "metadata": {
    "cell_id": "00121-9056c69d-5f3f-4d7d-bdd1-1593996f65a1",
    "deepnote_cell_height": 333,
    "deepnote_cell_type": "code",
    "deepnote_to_be_reexecuted": false,
    "deletable": false,
    "execution_millis": 0,
    "execution_start": 1645186543877,
    "nbgrader": {
     "cell_type": "code",
     "checksum": "0e90eedc27c248bc1ae050518a46a46c",
     "grade": false,
     "grade_id": "cell-307682c9089f15d6",
     "locked": false,
     "schema_version": 3,
     "solution": true,
     "task": false
    },
    "source_hash": "bab726fa"
   },
   "outputs": [],
   "source": [
    "# TODO: Implement this! (5 points)\n",
    "class LsiRetrievalModel(VectorSpaceRetrievalModel):\n",
    "    def __init__(self, doc_repr):\n",
    "        super().__init__(doc_repr)\n",
    "\n",
    "        self.num_topics = 100\n",
    "        self.chunksize = 2000\n",
    "\n",
    "    def train_model(self):\n",
    "        self.model = LsiModel(\n",
    "            corpus=self.corpus,\n",
    "            id2word=self.id2word,\n",
    "            num_topics=self.num_topics,\n",
    "            chunksize=self.chunksize,\n",
    "        )"
   ]
  },
  {
   "cell_type": "code",
   "execution_count": 78,
   "metadata": {
    "cell_id": "00122-3bd0788f-3ce1-4afe-8344-6361027be847",
    "deepnote_cell_height": 1451,
    "deepnote_cell_type": "code",
    "deepnote_output_heights": [
     null,
     611
    ],
    "deepnote_to_be_reexecuted": false,
    "deletable": false,
    "editable": false,
    "execution_millis": 2220,
    "execution_start": 1645186543878,
    "nbgrader": {
     "cell_type": "code",
     "checksum": "00399cfe13d60cb4beed1271e36004b0",
     "grade": true,
     "grade_id": "cell-5ce512650c1b2dfb",
     "locked": true,
     "points": 0,
     "schema_version": 3,
     "solution": false,
     "task": false
    },
    "source_hash": "31499d4f",
    "tags": []
   },
   "outputs": [
    {
     "name": "stderr",
     "output_type": "stream",
     "text": [
      "2022-02-23 23:49:04,323 : INFO : adding document #0 to Dictionary(0 unique tokens: [])\n",
      "2022-02-23 23:49:04,479 : INFO : built Dictionary(5937 unique tokens: ['-', 'algebra', 'intern', 'languag', 'preliminari']...) from 3204 documents (total 115969 corpus positions)\n",
      "2022-02-23 23:49:04,494 : INFO : discarding 4740 tokens: [('repeat', 8), ('glossari', 7), ('inspect', 8), ('uncol', 2), ('rung', 9), ('secant', 2), ('.', 1603), ('acceler', 6), ('diverg', 3), ('induc', 9)]...\n",
      "2022-02-23 23:49:04,494 : INFO : keeping 1197 tokens which were in no less than 10 and no more than 1602 (=50.0%) documents\n",
      "2022-02-23 23:49:04,498 : INFO : resulting dictionary: Dictionary(1197 unique tokens: ['-', 'algebra', 'intern', 'languag', 'preliminari']...)\n",
      "2022-02-23 23:49:04,597 : INFO : using serial LSI version on this node\n",
      "2022-02-23 23:49:04,648 : INFO : updating model with new documents\n",
      "2022-02-23 23:49:04,649 : INFO : preparing a new chunk of documents\n",
      "2022-02-23 23:49:04,668 : INFO : using 100 extra samples and 2 power iterations\n",
      "2022-02-23 23:49:04,670 : INFO : 1st phase: constructing (1197, 200) action matrix\n",
      "2022-02-23 23:49:04,690 : INFO : orthonormalizing (1197, 200) action matrix\n",
      "2022-02-23 23:49:04,763 : INFO : 2nd phase: running dense svd on (200, 2000) matrix\n",
      "2022-02-23 23:49:04,828 : INFO : computing the final decomposition\n",
      "2022-02-23 23:49:04,829 : INFO : keeping 100 factors (discarding 13.442% of energy spectrum)\n",
      "2022-02-23 23:49:04,835 : INFO : processed documents up to #2000\n",
      "2022-02-23 23:49:04,837 : INFO : topic #0(152.127): 0.741*\",\" + 0.342*\"-\" + 0.211*\"system\" + 0.204*\"program\" + 0.192*\"comput\" + 0.146*\"(\" + 0.127*\"languag\" + 0.108*\")\" + 0.084*\"gener\" + 0.083*\"data\"\n",
      "2022-02-23 23:49:04,838 : INFO : topic #1(60.600): -0.607*\"(\" + -0.434*\")\" + -0.366*\"algorithm\" + -0.300*\"-\" + 0.237*\",\" + 0.213*\"system\" + 0.132*\"comput\" + -0.096*\"[\" + 0.093*\"program\" + -0.084*\"])\"\n",
      "2022-02-23 23:49:04,840 : INFO : topic #2(57.438): 0.744*\"-\" + -0.452*\",\" + 0.263*\"system\" + -0.214*\"(\" + -0.166*\")\" + 0.107*\"time\" + 0.105*\"program\" + -0.094*\"algorithm\" + 0.068*\"comput\" + 0.067*\"share\"\n",
      "2022-02-23 23:49:04,843 : INFO : topic #3(48.370): -0.483*\"system\" + -0.375*\"program\" + -0.367*\"comput\" + 0.363*\"-\" + 0.308*\",\" + -0.212*\"(\" + -0.168*\")\" + -0.147*\"algorithm\" + 0.144*\"languag\" + -0.119*\"time\"\n",
      "2022-02-23 23:49:04,845 : INFO : topic #4(45.710): -0.489*\"comput\" + 0.475*\"languag\" + 0.428*\"program\" + -0.238*\"method\" + -0.141*\"problem\" + 0.121*\"system\" + 0.109*\")\" + -0.107*\"equat\" + -0.100*\"algorithm\" + 0.099*\"(\"\n",
      "2022-02-23 23:49:04,845 : INFO : preparing a new chunk of documents\n",
      "2022-02-23 23:49:04,862 : INFO : using 100 extra samples and 2 power iterations\n",
      "2022-02-23 23:49:04,863 : INFO : 1st phase: constructing (1197, 200) action matrix\n",
      "2022-02-23 23:49:04,875 : INFO : orthonormalizing (1197, 200) action matrix\n",
      "2022-02-23 23:49:04,955 : INFO : 2nd phase: running dense svd on (200, 1204) matrix\n",
      "2022-02-23 23:49:05,014 : INFO : computing the final decomposition\n",
      "2022-02-23 23:49:05,015 : INFO : keeping 100 factors (discarding 14.029% of energy spectrum)\n",
      "2022-02-23 23:49:05,018 : INFO : merging projections: (1197, 100) + (1197, 100)\n",
      "2022-02-23 23:49:05,078 : INFO : keeping 100 factors (discarding 8.170% of energy spectrum)\n",
      "2022-02-23 23:49:05,083 : INFO : processed documents up to #3204\n",
      "2022-02-23 23:49:05,085 : INFO : topic #0(225.136): 0.759*\",\" + 0.337*\"-\" + 0.196*\"system\" + 0.186*\"program\" + 0.166*\"comput\" + 0.139*\"(\" + 0.103*\")\" + 0.103*\"algorithm\" + 0.099*\"languag\" + 0.087*\"time\"\n",
      "2022-02-23 23:49:05,086 : INFO : topic #1(87.805): 0.613*\"-\" + -0.399*\",\" + 0.399*\"(\" + 0.326*\"algorithm\" + 0.293*\")\" + -0.129*\"system\" + -0.107*\"program\" + 0.085*\"method\" + 0.077*\"time\" + 0.062*\"1\"\n",
      "2022-02-23 23:49:05,088 : INFO : topic #2(81.909): 0.550*\"-\" + -0.434*\"(\" + 0.355*\"system\" + -0.321*\")\" + -0.291*\",\" + -0.266*\"algorithm\" + 0.146*\"program\" + 0.123*\"comput\" + 0.078*\"time\" + -0.064*\"[\"\n",
      "2022-02-23 23:49:05,089 : INFO : topic #3(72.432): -0.693*\"program\" + 0.339*\",\" + 0.279*\"-\" + -0.251*\"(\" + -0.221*\"system\" + -0.214*\"languag\" + -0.204*\")\" + -0.160*\"comput\" + -0.099*\"data\" + -0.056*\"execut\"\n",
      "2022-02-23 23:49:05,092 : INFO : topic #4(68.523): -0.673*\"system\" + 0.453*\"program\" + 0.254*\"languag\" + 0.212*\"-\" + -0.179*\"comput\" + -0.165*\"(\" + -0.121*\")\" + -0.115*\"model\" + 0.101*\",\" + -0.098*\"algorithm\"\n"
     ]
    },
    {
     "data": {
      "text/plain": [
       "[(0, 0.01521210580027305),\n",
       " (1, -0.016253239744533184),\n",
       " (2, -0.00020509358228486263),\n",
       " (3, -0.001865130784838156),\n",
       " (4, -0.009420290441071934),\n",
       " (5, -0.004728560510035366),\n",
       " (6, 0.026874208572645827),\n",
       " (7, 0.016801851984056163),\n",
       " (8, -0.03174975635737192),\n",
       " (9, -0.0009224442061252502),\n",
       " (10, 0.002253412641041096),\n",
       " (11, -0.017429632670513187),\n",
       " (12, 0.0004890548652765067),\n",
       " (13, 0.0005950964844249401),\n",
       " (14, 0.004434627690289307),\n",
       " (15, 0.005872213013559401),\n",
       " (16, 0.005520509470790511),\n",
       " (17, 0.0019599399336778477),\n",
       " (18, -0.01648884847396448),\n",
       " (19, 0.02051806171397219),\n",
       " (20, -0.009822090755262719),\n",
       " (21, -0.013721826255211164),\n",
       " (22, 0.04727102037009657),\n",
       " (23, 0.026841522836902488),\n",
       " (24, -0.011794430611980088),\n",
       " (25, -0.00987878627122698),\n",
       " (26, 0.004172625169881765),\n",
       " (27, 0.0766949104335511),\n",
       " (28, -0.061894451678323546),\n",
       " (29, 0.03352264398471527),\n",
       " (30, 0.04060631408600273),\n",
       " (31, 0.04665360075280401),\n",
       " (32, -0.07537125440227882),\n",
       " (33, 0.044800436439883615),\n",
       " (34, -0.020526102908395114),\n",
       " (35, 0.06157898574241468),\n",
       " (36, 0.0440268947322429),\n",
       " (37, -0.0061932566556035275),\n",
       " (38, -0.05520133092825672),\n",
       " (39, 0.027151754839901503),\n",
       " (40, -0.04451978034471773),\n",
       " (41, -0.03619077189583908),\n",
       " (42, 0.023978322637017695),\n",
       " (43, 0.019456711947343486),\n",
       " (44, 0.018608657838885927),\n",
       " (45, -0.05598703061561039),\n",
       " (46, -0.012362592436944344),\n",
       " (47, 0.010489961104901566),\n",
       " (48, 0.011964783072817535),\n",
       " (49, 0.03125047329285695),\n",
       " (50, -0.013757808972130428),\n",
       " (51, 0.048290646558935044),\n",
       " (52, -0.01193595967317693),\n",
       " (53, 0.013771725815037345),\n",
       " (54, 0.03937844581373684),\n",
       " (55, 0.021339987260121693),\n",
       " (56, 0.011278268608952681),\n",
       " (57, -0.014807350017105071),\n",
       " (58, -0.009724164207506047),\n",
       " (59, 0.04101021974101178),\n",
       " (60, -0.005292399084125791),\n",
       " (61, -0.04636018433929534),\n",
       " (62, 0.008629339071621176),\n",
       " (63, 0.018503301317714216),\n",
       " (64, 0.05562128896613519),\n",
       " (65, 0.035366582005332436),\n",
       " (66, 0.006611702673714933),\n",
       " (67, -0.03703874006169789),\n",
       " (68, 0.04808579237679573),\n",
       " (69, -0.03647252028486422),\n",
       " (70, 0.033555951249148744),\n",
       " (71, -0.028834486606613426),\n",
       " (72, -0.05422767071688559),\n",
       " (73, -0.09820473004081454),\n",
       " (74, -0.011661723076494605),\n",
       " (75, 0.04214494289238023),\n",
       " (76, 0.050499714450866796),\n",
       " (77, 0.030814108151025102),\n",
       " (78, 0.04590864965960186),\n",
       " (79, 0.020301523584470817),\n",
       " (80, -0.022932564204709197),\n",
       " (81, 0.016433544138539372),\n",
       " (82, 0.019228681399314225),\n",
       " (83, 0.04558091524163794),\n",
       " (84, -0.05297065760848471),\n",
       " (85, -0.011532472471970555),\n",
       " (86, -0.03434941991040948),\n",
       " (87, -0.023780094672172795),\n",
       " (88, -0.05536966950511551),\n",
       " (89, -0.07718837359556295),\n",
       " (90, -0.02038944387441419),\n",
       " (91, 0.032239908645985235),\n",
       " (92, -0.01528953776662783),\n",
       " (93, -0.019374273129576472),\n",
       " (94, 0.06744120898191774),\n",
       " (95, -0.030509022920272397),\n",
       " (96, -0.02403681372502453),\n",
       " (97, 0.02549745673370437),\n",
       " (98, -0.004935183239980063),\n",
       " (99, 0.038921167369852676)]"
      ]
     },
     "execution_count": 78,
     "metadata": {},
     "output_type": "execute_result"
    }
   ],
   "source": [
    "##### Function check\n",
    "lsi = LsiRetrievalModel(doc_repr_2)\n",
    "lsi.train_model()\n",
    "\n",
    "# you can now get an LSI vector for a given query in the following way:\n",
    "lsi.vectorize_query(\"report\")\n",
    "#####"
   ]
  },
  {
   "cell_type": "markdown",
   "metadata": {
    "cell_id": "00123-e372e3ee-50ec-4225-ab44-bb4d14ac8190",
    "deepnote_cell_height": 52.390625,
    "deepnote_cell_type": "markdown",
    "deletable": false,
    "editable": false,
    "nbgrader": {
     "cell_type": "markdown",
     "checksum": "7116bb9f576c5bb04934e1d59c51d729",
     "grade": false,
     "grade_id": "cell-4c5eeb557b4fca2f",
     "locked": true,
     "points": 5,
     "schema_version": 3,
     "solution": false,
     "task": true
    }
   },
   "source": [
    "\\#### Please do not change this. This cell is used for grading."
   ]
  },
  {
   "cell_type": "markdown",
   "metadata": {
    "cell_id": "00124-d9fd321a-609f-4da5-8d2d-584c9ed530d3",
    "deepnote_cell_height": 73,
    "deepnote_cell_type": "markdown",
    "deletable": false,
    "editable": false,
    "nbgrader": {
     "cell_type": "markdown",
     "checksum": "26e2ff3c413745e633d99f66c041d6b1",
     "grade": false,
     "grade_id": "cell-c4e50296cd17a555",
     "locked": true,
     "schema_version": 3,
     "solution": false,
     "task": false
    }
   },
   "source": [
    "---\n",
    "**Implementation (5 points):**\n",
    " Next, implement a basic ranking class for vector space retrieval (used for all semantic methods):"
   ]
  },
  {
   "cell_type": "code",
   "execution_count": 79,
   "metadata": {
    "cell_id": "00125-826a2865-fd5c-4886-96fd-21c5894bcd77",
    "deepnote_cell_height": 765,
    "deepnote_cell_type": "code",
    "deepnote_to_be_reexecuted": false,
    "deletable": false,
    "execution_millis": 1,
    "execution_start": 1645186546165,
    "nbgrader": {
     "cell_type": "code",
     "checksum": "1a8389d2f0635c3405e2b0b27ed9f327",
     "grade": false,
     "grade_id": "cell-250515d288e80cdc",
     "locked": false,
     "schema_version": 3,
     "solution": true,
     "task": false
    },
    "source_hash": "eb69cddb"
   },
   "outputs": [],
   "source": [
    "# TODO: Implement this! (5 points)\n",
    "class DenseRetrievalRanker:\n",
    "    def __init__(self, vsrm, similarity_fn):\n",
    "        \"\"\"\n",
    "        vsrm: instance of `VectorSpaceRetrievalModel`\n",
    "        similarity_fn: function instance that takes in two vectors\n",
    "                        and returns a similarity score e.g cosine_sim defined earlier\n",
    "        \"\"\"\n",
    "        self.vsrm = vsrm\n",
    "        self.vectorized_documents = self.vsrm.vectorize_documents()\n",
    "        self.similarity_fn = similarity_fn\n",
    "\n",
    "    def _compute_sim(self, query_vector):\n",
    "        \"\"\"\n",
    "        Compute the similarity of `query_vector` to documents in\n",
    "        `self.vectorized_documents` using `self.similarity_fn`\n",
    "        Returns a list of (doc_id, score) tuples\n",
    "        \"\"\"\n",
    "        # result = []\n",
    "        result = [\n",
    "            (doc_id, self.similarity_fn(query_vector, doc))\n",
    "            for doc_id, doc in self.vectorized_documents.items()\n",
    "        ]\n",
    "        return result\n",
    "\n",
    "    def search(self, query):\n",
    "        scores = self._compute_sim(self.vsrm.vectorize_query(query))\n",
    "        scores.sort(key=lambda _: -_[1])\n",
    "        return scores"
   ]
  },
  {
   "cell_type": "code",
   "execution_count": 80,
   "metadata": {
    "cell_id": "00126-61a00dcc-2fd6-4dc9-9bdd-24f69e74576b",
    "deepnote_cell_height": 248.9375,
    "deepnote_cell_type": "code",
    "deepnote_output_heights": [
     97.9375
    ],
    "deepnote_to_be_reexecuted": false,
    "deletable": false,
    "editable": false,
    "execution_millis": 2654,
    "execution_start": 1645186546166,
    "nbgrader": {
     "cell_type": "code",
     "checksum": "f237dd1ef6c1783c06797f4b514421f5",
     "grade": true,
     "grade_id": "cell-b73068b3e77a8e31",
     "locked": true,
     "points": 0,
     "schema_version": 3,
     "solution": false,
     "task": false
    },
    "source_hash": "d95413f2"
   },
   "outputs": [
    {
     "data": {
      "text/plain": [
       "[('599', 0.7966326547590719),\n",
       " ('947', 0.5888413627682467),\n",
       " ('53', 0.4805776633389777),\n",
       " ('1339', 0.47277193311255133),\n",
       " ('3160', 0.43481911073779583)]"
      ]
     },
     "execution_count": 80,
     "metadata": {},
     "output_type": "execute_result"
    }
   ],
   "source": [
    "##### Function check\n",
    "drm_lsi = DenseRetrievalRanker(lsi, cosine_sim)\n",
    "drm_lsi.search(\"report\")[:5]\n",
    "#####"
   ]
  },
  {
   "cell_type": "markdown",
   "metadata": {
    "cell_id": "00127-61d1bfa7-3b4f-4bae-9849-3abf43008fb7",
    "deepnote_cell_height": 52.390625,
    "deepnote_cell_type": "markdown",
    "deletable": false,
    "editable": false,
    "nbgrader": {
     "cell_type": "markdown",
     "checksum": "5b3f19fdcaa585d263706d5a26038799",
     "grade": false,
     "grade_id": "cell-034c755a6502b868",
     "locked": true,
     "points": 5,
     "schema_version": 3,
     "solution": false,
     "task": true
    }
   },
   "source": [
    "\\#### Please do not change this. This cell is used for grading."
   ]
  },
  {
   "cell_type": "markdown",
   "metadata": {
    "cell_id": "00128-76ede674-a982-4ad0-abe7-680c64dc6488",
    "deepnote_cell_height": 75.796875,
    "deepnote_cell_type": "markdown",
    "deletable": false,
    "editable": false,
    "nbgrader": {
     "cell_type": "markdown",
     "checksum": "dcafef6e037033c46304b914f7c78bdf",
     "grade": false,
     "grade_id": "cell-d1df23f497d5ed6b",
     "locked": true,
     "schema_version": 3,
     "solution": false,
     "task": false
    }
   },
   "source": [
    "---\n",
    "Now, you can test your LSI model in the following cell: try finding queries which are lexically different to documents, but semantically similar - does LSI work well for these queries?!"
   ]
  },
  {
   "cell_type": "code",
   "execution_count": 81,
   "metadata": {
    "cell_id": "00129-e8052686-38ce-490b-8725-f62afa5b6285",
    "deepnote_cell_height": 663,
    "deepnote_cell_type": "code",
    "deepnote_to_be_reexecuted": false,
    "deletable": false,
    "editable": false,
    "execution_millis": 45,
    "execution_start": 1645186548831,
    "nbgrader": {
     "cell_type": "code",
     "checksum": "11734bc7674377b340ad51297a8e8bb5",
     "grade": false,
     "grade_id": "cell-efd1d08dfc04ec3e",
     "locked": true,
     "schema_version": 3,
     "solution": false,
     "task": false
    },
    "source_hash": "15e4943e"
   },
   "outputs": [
    {
     "data": {
      "application/vnd.jupyter.widget-view+json": {
       "model_id": "1d7f8b585a7d4720bf8d12557b91f9e5",
       "version_major": 2,
       "version_minor": 0
      },
      "text/plain": [
       "Text(value='', description='Search Bar')"
      ]
     },
     "metadata": {},
     "output_type": "display_data"
    }
   ],
   "source": [
    "# test your LSI model\n",
    "search_fn = drm_lsi.search\n",
    "\n",
    "text = widgets.Text(description=\"Search Bar\", width=200)\n",
    "display(text)\n",
    "\n",
    "\n",
    "def make_results_2(query, search_fn):\n",
    "    results = []\n",
    "    for doc_id, score in search_fn(query):\n",
    "        highlight = highlight_text(docs_by_id[doc_id], query)\n",
    "        if len(highlight.strip()) == 0:\n",
    "            highlight = docs_by_id[doc_id]\n",
    "        results.append(ResultRow(doc_id, highlight, score))\n",
    "    return results\n",
    "\n",
    "\n",
    "def handle_submit_2(sender):\n",
    "    print(f\"Searching for: '{sender.value}' (SEARCH FN: {search_fn})\")\n",
    "\n",
    "    results = make_results_2(sender.value, search_fn)\n",
    "\n",
    "    # display only the top 5\n",
    "    results = results[:5]\n",
    "\n",
    "    body = \"\"\n",
    "    for idx, r in enumerate(results):\n",
    "        body += f\"<li>Document #{r.doc_id}({r.score}): {r.snippet}</li>\"\n",
    "    display(HTML(f\"<ul>{body}</ul>\"))\n",
    "\n",
    "\n",
    "text.on_submit(handle_submit_2)"
   ]
  },
  {
   "cell_type": "markdown",
   "metadata": {
    "cell_id": "00130-70ac6c5f-a513-4253-abde-f31df522d92d",
    "deepnote_cell_height": 190.59375,
    "deepnote_cell_type": "markdown",
    "deletable": false,
    "editable": false,
    "nbgrader": {
     "cell_type": "markdown",
     "checksum": "d074ce1ca48384cdda78742741c938be",
     "grade": false,
     "grade_id": "cell-3a86cef264d8f6cf",
     "locked": true,
     "schema_version": 3,
     "solution": false,
     "task": false
    }
   },
   "source": [
    "---\n",
    "## Section 7: Latent Dirichlet Allocation (LDA) (10 points) <a class=\"anchor\" id=\"lda\"></a>\n",
    "\n",
    "[Back to Part 2](#part2)\n",
    "\n",
    "The specifics of LDA is out of the scope of this assignment, but we will use the `gensim` implementation to perform search using LDA over our small document collection. The key thing to remember is that LDA, unlike LSI, outputs a topic **distribution**, not a vector. With that in mind, let's first define a similarity measure.\n"
   ]
  },
  {
   "cell_type": "markdown",
   "metadata": {
    "cell_id": "00131-ec0e884b-e164-4ba8-9ed6-c767c87825c3",
    "deepnote_cell_height": 182.59375,
    "deepnote_cell_type": "markdown",
    "deletable": false,
    "editable": false,
    "nbgrader": {
     "cell_type": "markdown",
     "checksum": "db01092373b18f0c9dfed1bb17db4ad9",
     "grade": false,
     "grade_id": "cell-6b78ad22c2d60ba7",
     "locked": true,
     "schema_version": 3,
     "solution": false,
     "task": false
    }
   },
   "source": [
    "---\n",
    "### Section 7.1: Jenson-Shannon divergence (5 points) <a class=\"anchor\" id=\"js_sim\"></a>\n",
    "\n",
    "The Jenson-Shannon divergence is a symmetric and finite measure on two probability distributions (unlike the KL, which is neither). For identical distributions, the JSD is equal to 0, and since our code uses 0 as irrelevant and higher scores as relevant, we use `(1 - JSD)` as the score or 'similarity' in our setup\n",
    "\n",
    "**Note**: the JSD is bounded to \\[0,1\\] only if we use log base 2. So please ensure that you're using `np.log2` instead of `np.log`"
   ]
  },
  {
   "cell_type": "code",
   "execution_count": 82,
   "metadata": {
    "cell_id": "00132-ccb9488f-e93e-484d-891a-5260b0b3ba46",
    "deepnote_cell_height": 783,
    "deepnote_cell_type": "code",
    "deepnote_to_be_reexecuted": false,
    "deletable": false,
    "execution_millis": 14,
    "execution_start": 1645186548888,
    "nbgrader": {
     "cell_type": "code",
     "checksum": "a579e6cd7a24a3516bc9a84528b392d3",
     "grade": false,
     "grade_id": "cell-d2376a85a4841e98",
     "locked": false,
     "schema_version": 3,
     "solution": true,
     "task": false
    },
    "source_hash": "887f6708"
   },
   "outputs": [],
   "source": [
    "## TODO: Implement this! (5 points)\n",
    "def jenson_shannon_divergence(vec_1, vec_2, assert_prob=False):\n",
    "    \"\"\"\n",
    "    Computes the Jensen-Shannon divergence between two probability distributions.\n",
    "    NOTE: DO NOT RETURN 1 - JSD here, that is handled by the next function which is already implemented!\n",
    "    The inputs are *gensim* vectors - same as the vectors for the cosine_sim function\n",
    "    assert_prob is a flag that checks if the inputs are proper probability distributions\n",
    "        i.e they sum to 1 and are positive - use this to check your inputs if needed.\n",
    "            (This is optional to implement, but recommended -\n",
    "            you can the default to False to save a few ms off the runtime)\n",
    "    \"\"\"\n",
    "\n",
    "    # --------- Define a custom KL divergence function --------\n",
    "    def KL(a, b):\n",
    "        a = np.asarray(a, dtype=np.float)\n",
    "        b = np.asarray(b, dtype=np.float)\n",
    "\n",
    "        return np.sum(np.where(a != 0, a * np.log2(a / b), 0))\n",
    "\n",
    "    # ---------------------------------------------------------\n",
    "\n",
    "    vec_1_probs = np.array([x[1] for x in vec_1])  # extracting the probabily values\n",
    "    vec_2_probs = np.array([y[1] for y in vec_2])  # extracting the probabily values\n",
    "\n",
    "    # if flag=True, assert that the inputs are proper probability distributions\n",
    "    if assert_prob:\n",
    "        assert np.sum(vec_1_probs) == 1 and all(\n",
    "            vec_1_probs > 0\n",
    "        ), \"Values of vector1 must sum to 1 and be positive\"\n",
    "        assert np.sum(vec_2_probs) == 1 and all(\n",
    "            vec_2_probs > 0\n",
    "        ), \"Values of vector2 must sum to 1 and be positive\"\n",
    "\n",
    "    # If inputs are valid, compute divergence\n",
    "    m = 0.5 * (vec_1_probs + vec_2_probs)\n",
    "    return 0.5 * KL(vec_1_probs, m) + 0.5 * KL(vec_2_probs, m)\n",
    "\n",
    "\n",
    "def jenson_shannon_sim(vec_1, vec_2, assert_prob=False):\n",
    "    return 1 - jenson_shannon_divergence(vec_1, vec_2)"
   ]
  },
  {
   "cell_type": "code",
   "execution_count": 83,
   "metadata": {
    "cell_id": "00133-062a3052-2e16-413b-bac4-d476558e3866",
    "deepnote_cell_height": 190.1875,
    "deepnote_cell_type": "code",
    "deepnote_output_heights": [
     21.1875
    ],
    "deepnote_to_be_reexecuted": false,
    "deletable": false,
    "editable": false,
    "execution_millis": 70,
    "execution_start": 1645186548917,
    "nbgrader": {
     "cell_type": "code",
     "checksum": "ab340aa941c9fb5c89b3fd0a9139e246",
     "grade": true,
     "grade_id": "cell-487c6d2933f38053",
     "locked": true,
     "points": 5,
     "schema_version": 3,
     "solution": false,
     "task": false
    },
    "source_hash": "74ec8119"
   },
   "outputs": [
    {
     "data": {
      "text/plain": [
       "0.9251064410358459"
      ]
     },
     "execution_count": 83,
     "metadata": {},
     "output_type": "execute_result"
    }
   ],
   "source": [
    "##### Function check\n",
    "vec_1 = [(1, 0.3), (2, 0.4), (3, 0.3)]\n",
    "vec_2 = [(1, 0.1), (2, 0.7), (3, 0.2)]\n",
    "jenson_shannon_sim(vec_1, vec_2, assert_prob=True)\n",
    "#####"
   ]
  },
  {
   "cell_type": "markdown",
   "metadata": {
    "cell_id": "00134-b1b00101-4499-4c42-a48c-f90f9f37d7e9",
    "deepnote_cell_height": 227.375,
    "deepnote_cell_type": "markdown",
    "deletable": false,
    "editable": false,
    "nbgrader": {
     "cell_type": "markdown",
     "checksum": "0a1583a5f23e3390038331cce67f5d8e",
     "grade": false,
     "grade_id": "cell-4535cc67a50b80fa",
     "locked": true,
     "schema_version": 3,
     "solution": false,
     "task": false
    }
   },
   "source": [
    "---\n",
    "### Section 7.2: LDA retrieval (5 points) <a class=\"anchor\" id=\"lda_ret\"></a>\n",
    "\n",
    "Implement the `train_model` method in the following class (note that this is only one line of code in `gensim`!). Ensure that the parameters defined in the `__init__` method are not changed, and are *used in the `train_method` function*. You do not need to set this. Normally, the hyperaparameter space will be searched using grid search / other methods. Note that training the LDA model might take some time\n",
    "\n",
    "The last two lines of code train an LDA model on the list of documents which have been stemmed, lower-cased and have stopwords removed."
   ]
  },
  {
   "cell_type": "code",
   "execution_count": 84,
   "metadata": {
    "cell_id": "00135-c9620a32-0d75-44b0-9b91-6223cae5d6d9",
    "deepnote_cell_height": 603,
    "deepnote_cell_type": "code",
    "deepnote_to_be_reexecuted": false,
    "deletable": false,
    "execution_millis": 1,
    "execution_start": 1645186548985,
    "nbgrader": {
     "cell_type": "code",
     "checksum": "27de8e4fa85536bb396b73bfc51b3f50",
     "grade": false,
     "grade_id": "cell-021a48dff4a8bb91",
     "locked": false,
     "schema_version": 3,
     "solution": true,
     "task": false
    },
    "source_hash": "a2398658"
   },
   "outputs": [],
   "source": [
    "# TODO: Implement this! (5 points)\n",
    "class LdaRetrievalModel(VectorSpaceRetrievalModel):\n",
    "    def __init__(self, doc_repr):\n",
    "        super().__init__(doc_repr)\n",
    "\n",
    "        # use these parameters in the train_model method\n",
    "        self.num_topics = 100\n",
    "        self.chunksize = 2000\n",
    "        self.passes = 20\n",
    "        self.iterations = 400\n",
    "        self.eval_every = 10\n",
    "        # this is need to get full vectors\n",
    "        self.minimum_probability = 0.0\n",
    "        self.alpha = \"auto\"\n",
    "        self.eta = \"auto\"\n",
    "\n",
    "    def train_model(self):\n",
    "        # YOUR CODE HERE\n",
    "        self.model = LdaModel(\n",
    "            corpus=self.corpus,\n",
    "            id2word=self.id2word,\n",
    "            num_topics=self.num_topics,\n",
    "            chunksize=self.chunksize,\n",
    "            passes=self.passes,\n",
    "            iterations=self.iterations,\n",
    "            eval_every=self.eval_every,\n",
    "            minimum_probability=self.minimum_probability,\n",
    "            alpha=self.alpha,\n",
    "            eta=self.eta,\n",
    "        )"
   ]
  },
  {
   "cell_type": "code",
   "execution_count": 85,
   "metadata": {
    "cell_id": "00136-7336885c-d6be-4e5e-8515-a71905b8c1df",
    "deepnote_cell_height": 219.796875,
    "deepnote_cell_type": "code",
    "deepnote_output_heights": [
     null,
     611
    ],
    "deepnote_to_be_reexecuted": false,
    "deletable": false,
    "editable": false,
    "execution_millis": 116845,
    "execution_start": 1645186548986,
    "is_output_hidden": true,
    "nbgrader": {
     "cell_type": "code",
     "checksum": "be70fcb8098d0b6ce64cd2a10e6a05b7",
     "grade": true,
     "grade_id": "cell-86750b715f0345fd",
     "locked": true,
     "points": 0,
     "schema_version": 3,
     "solution": false,
     "task": false
    },
    "source_hash": "25223581",
    "tags": []
   },
   "outputs": [
    {
     "name": "stderr",
     "output_type": "stream",
     "text": [
      "2022-02-23 23:49:06,672 : INFO : adding document #0 to Dictionary(0 unique tokens: [])\n",
      "2022-02-23 23:49:06,845 : INFO : built Dictionary(5937 unique tokens: ['-', 'algebra', 'intern', 'languag', 'preliminari']...) from 3204 documents (total 115969 corpus positions)\n",
      "2022-02-23 23:49:06,852 : INFO : discarding 4740 tokens: [('repeat', 8), ('glossari', 7), ('inspect', 8), ('uncol', 2), ('rung', 9), ('secant', 2), ('.', 1603), ('acceler', 6), ('diverg', 3), ('induc', 9)]...\n",
      "2022-02-23 23:49:06,853 : INFO : keeping 1197 tokens which were in no less than 10 and no more than 1602 (=50.0%) documents\n",
      "2022-02-23 23:49:06,856 : INFO : resulting dictionary: Dictionary(1197 unique tokens: ['-', 'algebra', 'intern', 'languag', 'preliminari']...)\n",
      "2022-02-23 23:49:06,954 : INFO : using autotuned alpha, starting with [0.01, 0.01, 0.01, 0.01, 0.01, 0.01, 0.01, 0.01, 0.01, 0.01, 0.01, 0.01, 0.01, 0.01, 0.01, 0.01, 0.01, 0.01, 0.01, 0.01, 0.01, 0.01, 0.01, 0.01, 0.01, 0.01, 0.01, 0.01, 0.01, 0.01, 0.01, 0.01, 0.01, 0.01, 0.01, 0.01, 0.01, 0.01, 0.01, 0.01, 0.01, 0.01, 0.01, 0.01, 0.01, 0.01, 0.01, 0.01, 0.01, 0.01, 0.01, 0.01, 0.01, 0.01, 0.01, 0.01, 0.01, 0.01, 0.01, 0.01, 0.01, 0.01, 0.01, 0.01, 0.01, 0.01, 0.01, 0.01, 0.01, 0.01, 0.01, 0.01, 0.01, 0.01, 0.01, 0.01, 0.01, 0.01, 0.01, 0.01, 0.01, 0.01, 0.01, 0.01, 0.01, 0.01, 0.01, 0.01, 0.01, 0.01, 0.01, 0.01, 0.01, 0.01, 0.01, 0.01, 0.01, 0.01, 0.01, 0.01]\n",
      "2022-02-23 23:49:06,955 : INFO : using serial LDA version on this node\n",
      "2022-02-23 23:49:06,973 : INFO : running online (multi-pass) LDA training, 100 topics, 20 passes over the supplied corpus of 3204 documents, updating model once every 2000 documents, evaluating perplexity every 3204 documents, iterating 400x with a convergence threshold of 0.001000\n",
      "2022-02-23 23:49:06,975 : INFO : PROGRESS: pass 0, at document #2000/3204\n",
      "2022-02-23 23:49:08,982 : INFO : optimized alpha [0.009762012, 0.009813968, 0.010015163, 0.00983947, 0.0098238615, 0.010036889, 0.009808243, 0.009798022, 0.00983456, 0.009907582, 0.009850413, 0.0098392675, 0.009823936, 0.009808847, 0.009803073, 0.009798294, 0.009906916, 0.009808506, 0.009808664, 0.009819425, 0.009782829, 0.009819384, 0.009875254, 0.0098906495, 0.0097979745, 0.009834392, 0.009942371, 0.009787797, 0.009761948, 0.009787829, 0.00986469, 0.0097982455, 0.009793198, 0.009787838, 0.009798064, 0.009845386, 0.0097723305, 0.00978264, 0.009839994, 0.009864708, 0.009844534, 0.009834467, 0.009829191, 0.009823955, 0.009931785, 0.009808203, 0.00981365, 0.009777632, 0.009808724, 0.0098553905, 0.009860594, 0.009817477, 0.009798146, 0.009913284, 0.0098137045, 0.009949251, 0.009829319, 0.009855667, 0.009957959, 0.009875351, 0.00980358, 0.009881717, 0.009818905, 0.0097929975, 0.009859794, 0.00983989, 0.0098241, 0.009787605, 0.009787677, 0.0097826505, 0.009782806, 0.009823969, 0.009829645, 0.00981409, 0.009824082, 0.009834047, 0.009787889, 0.00982902, 0.00978269, 0.00978808, 0.009782751, 0.00982431, 0.0098032635, 0.009782623, 0.009803206, 0.009937426, 0.009787877, 0.009824004, 0.009787807, 0.009834533, 0.009787705, 0.009844765, 0.009792867, 0.009772381, 0.009792947, 0.009808319, 0.009954373, 0.009834531, 0.009819151, 0.009792948]\n",
      "2022-02-23 23:49:08,987 : INFO : merging changes from 2000 documents into a model of 3204 documents\n",
      "2022-02-23 23:49:08,996 : INFO : topic #90 (0.010): 0.064*\",\" + 0.054*\"algorithm\" + 0.043*\"polynomi\" + 0.043*\"fit\" + 0.043*\"(\" + 0.043*\"approxim\" + 0.032*\"function\" + 0.032*\"[\" + 0.032*\"])\" + 0.032*\"compil\"\n",
      "2022-02-23 23:49:08,997 : INFO : topic #78 (0.010): 0.074*\"-\" + 0.052*\",\" + 0.022*\"time\" + 0.022*\"discuss\" + 0.022*\"comput\" + 0.015*\"list\" + 0.015*\"data\" + 0.015*\"digit\" + 0.015*\"multipl\" + 0.015*\"bit\"\n",
      "2022-02-23 23:49:08,999 : INFO : topic #96 (0.010): 0.080*\",\" + 0.032*\"-\" + 0.029*\"comput\" + 0.022*\"problem\" + 0.021*\"program\" + 0.020*\"system\" + 0.017*\"time\" + 0.013*\"method\" + 0.012*\"algorithm\" + 0.010*\"(\"\n",
      "2022-02-23 23:49:09,003 : INFO : topic #5 (0.010): 0.064*\"-\" + 0.041*\",\" + 0.029*\"system\" + 0.028*\"program\" + 0.018*\"(\" + 0.016*\"comput\" + 0.014*\"time\" + 0.013*\")\" + 0.012*\"languag\" + 0.011*\"\"\"\n",
      "2022-02-23 23:49:09,005 : INFO : topic #2 (0.010): 0.051*\",\" + 0.027*\"system\" + 0.027*\"algorithm\" + 0.022*\"(\" + 0.022*\"-\" + 0.016*\"comput\" + 0.016*\")\" + 0.014*\"gener\" + 0.013*\"program\" + 0.013*\"procedur\"\n",
      "2022-02-23 23:49:09,006 : INFO : topic diff=82.391205, rho=1.000000\n",
      "2022-02-23 23:49:10,315 : INFO : -7.319 per-word bound, 159.6 perplexity estimate based on a held-out corpus of 1204 documents with 49783 words\n",
      "2022-02-23 23:49:10,316 : INFO : PROGRESS: pass 0, at document #3204/3204\n",
      "2022-02-23 23:49:11,308 : INFO : optimized alpha [0.009913529, 0.009904112, 0.009939655, 0.009952103, 0.010041946, 0.010348479, 0.009894357, 0.009832862, 0.009952651, 0.010129077, 0.009946078, 0.010264024, 0.009841139, 0.010151415, 0.009972285, 0.0100164525, 0.01006673, 0.009908677, 0.010044754, 0.010140561, 0.009976132, 0.010192196, 0.0099280365, 0.009759201, 0.009832191, 0.01003877, 0.010012143, 0.009665391, 0.009685176, 0.00981735, 0.009893927, 0.010032955, 0.009927671, 0.009752727, 0.010003205, 0.010107865, 0.009866449, 0.009940149, 0.0100059165, 0.009833693, 0.009937572, 0.010191247, 0.009912149, 0.009953119, 0.0100899795, 0.010059798, 0.010030379, 0.00995285, 0.009885834, 0.00997412, 0.01002116, 0.009852992, 0.009897215, 0.010231398, 0.010136241, 0.01011712, 0.010118823, 0.01053505, 0.010160814, 0.009791843, 0.010092902, 0.010079048, 0.009819409, 0.009927947, 0.010030462, 0.009983064, 0.010008391, 0.009886428, 0.010015994, 0.009759752, 0.010035053, 0.009912591, 0.010114394, 0.01017381, 0.009936312, 0.00978049, 0.009887803, 0.010172017, 0.010014484, 0.009847558, 0.009858384, 0.009947813, 0.009826347, 0.009811337, 0.009832, 0.009977717, 0.009940666, 0.009882638, 0.009898513, 0.009965078, 0.00980508, 0.01023527, 0.009966887, 0.010052869, 0.009969174, 0.009944593, 0.010104105, 0.009929564, 0.0099672945, 0.009810484]\n",
      "2022-02-23 23:49:11,315 : INFO : merging changes from 1204 documents into a model of 3204 documents\n",
      "2022-02-23 23:49:11,320 : INFO : topic #27 (0.010): 0.087*\"level\" + 0.073*\"type\" + 0.056*\"merg\" + 0.055*\"statement\" + 0.051*\"languag\" + 0.045*\",\" + 0.039*\"impli\" + 0.032*\"propos\" + 0.029*\"program\" + 0.026*\"assign\"\n",
      "2022-02-23 23:49:11,321 : INFO : topic #28 (0.010): 0.341*\"plot\" + 0.212*\"flow\" + 0.187*\"autom\" + 0.084*\"small\" + 0.062*\"-\" + 0.021*\"comput\" + 0.004*\"chart\" + 0.000*\"incorpor\" + 0.000*\"simpson\" + 0.000*\"polygon\"\n",
      "2022-02-23 23:49:11,323 : INFO : topic #11 (0.010): 0.058*\"structur\" + 0.044*\"abstract\" + 0.042*\"grammar\" + 0.038*\"context\" + 0.032*\"algorithm\" + 0.032*\"-\" + 0.030*\"definit\" + 0.028*\",\" + 0.024*\"formal\" + 0.020*\"defin\"\n",
      "2022-02-23 23:49:11,324 : INFO : topic #5 (0.010): 0.064*\"-\" + 0.048*\",\" + 0.034*\"system\" + 0.021*\"program\" + 0.017*\"comput\" + 0.016*\"time\" + 0.015*\"(\" + 0.015*\"\"\" + 0.012*\"interfer\" + 0.012*\")\"\n",
      "2022-02-23 23:49:11,325 : INFO : topic #57 (0.011): 0.093*\"system\" + 0.054*\",\" + 0.040*\"data\" + 0.039*\"model\" + 0.037*\"comput\" + 0.020*\"process\" + 0.019*\"manag\" + 0.019*\"oper\" + 0.018*\"-\" + 0.016*\"\"\"\n",
      "2022-02-23 23:49:11,326 : INFO : topic diff=0.774375, rho=0.707107\n",
      "2022-02-23 23:49:11,337 : INFO : PROGRESS: pass 1, at document #2000/3204\n",
      "2022-02-23 23:49:12,468 : INFO : optimized alpha [0.010039693, 0.009850231, 0.0098427525, 0.009848883, 0.009962851, 0.010266438, 0.009834189, 0.009883934, 0.009963722, 0.01004063, 0.00985932, 0.010284273, 0.009898007, 0.010053661, 0.010116395, 0.010007747, 0.009963597, 0.009848591, 0.010062259, 0.010081859, 0.009941103, 0.010147972, 0.009859935, 0.009731032, 0.010022456, 0.009983839, 0.009910524, 0.009656153, 0.009605862, 0.009800763, 0.009842402, 0.0099968, 0.009972643, 0.009794834, 0.009980806, 0.0101451455, 0.010029976, 0.009979723, 0.009987012, 0.009822254, 0.009842268, 0.010135858, 0.009891288, 0.009862751, 0.010061135, 0.010695775, 0.009989139, 0.009926356, 0.00981884, 0.009910753, 0.009991668, 0.009865236, 0.009908996, 0.010176969, 0.010130332, 0.010040445, 0.010076072, 0.01062127, 0.010079749, 0.0097947465, 0.01001832, 0.010011026, 0.0097306175, 0.009867644, 0.009938135, 0.009922216, 0.009895483, 0.01055497, 0.009990561, 0.00975196, 0.010272601, 0.00981835, 0.010077615, 0.010094613, 0.009894204, 0.009848653, 0.009872255, 0.0101961065, 0.009983421, 0.009830636, 0.009851621, 0.009873984, 0.009767944, 0.009732116, 0.009838948, 0.009895596, 0.009945947, 0.009823206, 0.009950728, 0.009859007, 0.009788579, 0.010129789, 0.009968796, 0.010032393, 0.010024191, 0.00993602, 0.010022192, 0.009856093, 0.0099276565, 0.009932586]\n",
      "2022-02-23 23:49:12,479 : INFO : merging changes from 2000 documents into a model of 3204 documents\n",
      "2022-02-23 23:49:12,486 : INFO : topic #28 (0.010): 0.288*\"flow\" + 0.249*\"plot\" + 0.180*\"autom\" + 0.064*\"-\" + 0.055*\"small\" + 0.032*\"chart\" + 0.026*\"comput\" + 0.000*\"incorpor\" + 0.000*\"simpson\" + 0.000*\"polygon\"\n",
      "2022-02-23 23:49:12,487 : INFO : topic #27 (0.010): 0.079*\"type\" + 0.071*\"statement\" + 0.066*\"level\" + 0.057*\"merg\" + 0.053*\"languag\" + 0.044*\"assign\" + 0.033*\",\" + 0.032*\"program\" + 0.030*\"constraint\" + 0.029*\"propos\"\n",
      "2022-02-23 23:49:12,489 : INFO : topic #67 (0.011): 0.204*\"algorithm\" + 0.189*\"[\" + 0.180*\"(\" + 0.141*\"])\" + 0.032*\"matrix\" + 0.021*\"number\" + 0.020*\"gener\" + 0.018*\"prime\" + 0.018*\"a1\" + 0.017*\"eigenvalu\"\n",
      "2022-02-23 23:49:12,491 : INFO : topic #57 (0.011): 0.100*\"system\" + 0.055*\",\" + 0.041*\"data\" + 0.041*\"comput\" + 0.034*\"model\" + 0.024*\"process\" + 0.020*\"oper\" + 0.019*\"-\" + 0.017*\"\"\" + 0.016*\"organ\"\n",
      "2022-02-23 23:49:12,491 : INFO : topic #45 (0.011): 0.203*\"algorithm\" + 0.202*\")\" + 0.199*\"(\" + 0.031*\"function\" + 0.029*\"polynomi\" + 0.025*\"find\" + 0.021*\"path\" + 0.016*\"'\" + 0.016*\"[\" + 0.013*\"ratio\"\n",
      "2022-02-23 23:49:12,496 : INFO : topic diff=0.311509, rho=0.526900\n",
      "2022-02-23 23:49:13,632 : INFO : -6.922 per-word bound, 121.3 perplexity estimate based on a held-out corpus of 1204 documents with 49783 words\n",
      "2022-02-23 23:49:13,633 : INFO : PROGRESS: pass 1, at document #3204/3204\n",
      "2022-02-23 23:49:14,410 : INFO : optimized alpha [0.01050777, 0.009988938, 0.009818648, 0.009916483, 0.010215535, 0.010417117, 0.009908344, 0.009984685, 0.010086967, 0.010134026, 0.009922975, 0.010722484, 0.009999042, 0.010320336, 0.010255565, 0.010127146, 0.010011885, 0.009998855, 0.010301482, 0.0103058135, 0.01013388, 0.010356932, 0.009896646, 0.009708419, 0.010160515, 0.010159093, 0.00996828, 0.00974594, 0.009596633, 0.009889341, 0.009874483, 0.0101638995, 0.01015197, 0.009896194, 0.010147269, 0.010433355, 0.010258541, 0.010211531, 0.010132796, 0.009879494, 0.00986957, 0.01052101, 0.009988843, 0.009990192, 0.010107122, 0.011368617, 0.010218253, 0.010124244, 0.009907966, 0.01004393, 0.010138451, 0.009940941, 0.010048676, 0.010306581, 0.010431381, 0.010049043, 0.010288861, 0.011158956, 0.010164266, 0.009805692, 0.010200072, 0.010127006, 0.009773946, 0.010034461, 0.010167382, 0.009971769, 0.01003847, 0.010788263, 0.0102321375, 0.009823259, 0.010544632, 0.009837526, 0.010304779, 0.010402156, 0.010061493, 0.0098013, 0.010038795, 0.010537805, 0.010219035, 0.009910539, 0.0100004, 0.009966883, 0.009835003, 0.009807791, 0.009961553, 0.009976198, 0.010143927, 0.009881484, 0.010085454, 0.009922833, 0.009915087, 0.0103970235, 0.010160285, 0.010314999, 0.010240577, 0.010169827, 0.010040193, 0.009910354, 0.01003418, 0.01002387]\n",
      "2022-02-23 23:49:14,416 : INFO : merging changes from 1204 documents into a model of 3204 documents\n",
      "2022-02-23 23:49:14,422 : INFO : topic #28 (0.010): 0.284*\"plot\" + 0.273*\"flow\" + 0.213*\"autom\" + 0.075*\"-\" + 0.062*\"small\" + 0.017*\"comput\" + 0.009*\"chart\" + 0.000*\"incorpor\" + 0.000*\"simpson\" + 0.000*\"polygon\"\n",
      "2022-02-23 23:49:14,422 : INFO : topic #23 (0.010): 0.067*\"seri\" + 0.052*\",\" + 0.047*\"-\" + 0.030*\"independ\" + 0.027*\"chebyshev\" + 0.023*\"algorithm\" + 0.021*\"correl\" + 0.021*\"power\" + 0.021*\"variabl\" + 0.021*\"consist\"\n",
      "2022-02-23 23:49:14,423 : INFO : topic #67 (0.011): 0.219*\"[\" + 0.218*\"algorithm\" + 0.178*\"(\" + 0.085*\"])\" + 0.038*\"matrix\" + 0.026*\"eigenvalu\" + 0.022*\"prime\" + 0.022*\"a1\" + 0.022*\"gener\" + 0.020*\"number\"\n",
      "2022-02-23 23:49:14,424 : INFO : topic #57 (0.011): 0.117*\"system\" + 0.054*\",\" + 0.044*\"data\" + 0.043*\"comput\" + 0.040*\"model\" + 0.023*\"manag\" + 0.023*\"process\" + 0.022*\"oper\" + 0.018*\"organ\" + 0.018*\"-\"\n",
      "2022-02-23 23:49:14,425 : INFO : topic #45 (0.011): 0.231*\")\" + 0.221*\"(\" + 0.214*\"algorithm\" + 0.027*\"find\" + 0.026*\"function\" + 0.023*\"path\" + 0.019*\"[\" + 0.019*\"polynomi\" + 0.016*\"ratio\" + 0.013*\"'\"\n",
      "2022-02-23 23:49:14,426 : INFO : topic diff=0.427746, rho=0.526900\n",
      "2022-02-23 23:49:14,435 : INFO : PROGRESS: pass 2, at document #2000/3204\n",
      "2022-02-23 23:49:15,548 : INFO : optimized alpha [0.010734961, 0.009986147, 0.009755334, 0.009832043, 0.0101697715, 0.010359227, 0.0098794745, 0.010081385, 0.010110771, 0.010064268, 0.009852787, 0.010768952, 0.010106077, 0.010263112, 0.01036686, 0.010109824, 0.009923293, 0.009983165, 0.010373117, 0.010261903, 0.01011843, 0.01031877, 0.009817373, 0.009740225, 0.010361753, 0.010131079, 0.0098830545, 0.009772226, 0.009543231, 0.009884321, 0.0098493695, 0.010145254, 0.010214985, 0.010010427, 0.010157406, 0.010511436, 0.010477368, 0.010240295, 0.010136969, 0.009899864, 0.009813571, 0.0104618855, 0.009987171, 0.009936549, 0.010108662, 0.012438816, 0.010218438, 0.010128241, 0.009870661, 0.010002037, 0.010121516, 0.00998003, 0.01013942, 0.010275542, 0.010442598, 0.009991157, 0.0103052715, 0.011266849, 0.010108185, 0.009857893, 0.010135709, 0.010076875, 0.009723248, 0.0100014815, 0.010105529, 0.009947832, 0.009946435, 0.011400111, 0.010241076, 0.009837826, 0.01081971, 0.009752624, 0.010277663, 0.010338577, 0.010054207, 0.009921899, 0.010028985, 0.010605592, 0.010223192, 0.009909959, 0.010048, 0.009919024, 0.009812339, 0.0097553935, 0.010042639, 0.009937811, 0.010161556, 0.0098607, 0.010206771, 0.009843152, 0.009958071, 0.010311138, 0.010169999, 0.010337763, 0.0103340745, 0.010181847, 0.009968072, 0.0098752305, 0.009999558, 0.010142453]\n",
      "2022-02-23 23:49:15,554 : INFO : merging changes from 2000 documents into a model of 3204 documents\n",
      "2022-02-23 23:49:15,561 : INFO : topic #28 (0.010): 0.308*\"flow\" + 0.225*\"plot\" + 0.205*\"autom\" + 0.074*\"-\" + 0.045*\"small\" + 0.040*\"chart\" + 0.021*\"comput\" + 0.000*\"incorpor\" + 0.000*\"simpson\" + 0.000*\"polygon\"\n",
      "2022-02-23 23:49:15,562 : INFO : topic #62 (0.010): 0.087*\"problem\" + 0.077*\"program\" + 0.066*\",\" + 0.033*\"comput\" + 0.029*\"solv\" + 0.026*\"practic\" + 0.023*\"present\" + 0.022*\"solut\" + 0.019*\"involv\" + 0.018*\"'\"\n",
      "2022-02-23 23:49:15,563 : INFO : topic #57 (0.011): 0.121*\"system\" + 0.055*\",\" + 0.045*\"comput\" + 0.044*\"data\" + 0.036*\"model\" + 0.027*\"process\" + 0.021*\"oper\" + 0.019*\"-\" + 0.018*\"manag\" + 0.018*\"organ\"\n",
      "2022-02-23 23:49:15,564 : INFO : topic #67 (0.011): 0.211*\"[\" + 0.200*\"algorithm\" + 0.179*\"(\" + 0.151*\"])\" + 0.034*\"matrix\" + 0.018*\"function\" + 0.018*\"gener\" + 0.017*\"a1\" + 0.017*\"eigenvalu\" + 0.016*\"number\"\n",
      "2022-02-23 23:49:15,566 : INFO : topic #45 (0.012): 0.269*\")\" + 0.263*\"(\" + 0.224*\"algorithm\" + 0.025*\"function\" + 0.021*\"polynomi\" + 0.018*\"find\" + 0.014*\"path\" + 0.010*\"'\" + 0.009*\"ratio\" + 0.009*\"[\"\n",
      "2022-02-23 23:49:15,568 : INFO : topic diff=0.402762, rho=0.466151\n",
      "2022-02-23 23:49:16,625 : INFO : -6.803 per-word bound, 111.7 perplexity estimate based on a held-out corpus of 1204 documents with 49783 words\n",
      "2022-02-23 23:49:16,627 : INFO : PROGRESS: pass 2, at document #3204/3204\n",
      "2022-02-23 23:49:17,691 : INFO : optimized alpha [0.011225794, 0.010125771, 0.009737024, 0.009893354, 0.010431893, 0.010472907, 0.0099616125, 0.010209997, 0.010220464, 0.010175584, 0.009918143, 0.011197651, 0.010254717, 0.010529959, 0.010473389, 0.0101762125, 0.009971942, 0.010144309, 0.010603258, 0.01044156, 0.010294314, 0.010497177, 0.00987492, 0.009759644, 0.010519675, 0.010283139, 0.009943592, 0.009947272, 0.009530238, 0.009978712, 0.009890569, 0.010325639, 0.010426643, 0.010154438, 0.010321485, 0.010791521, 0.010706653, 0.0104475245, 0.010286525, 0.009997259, 0.009866414, 0.010853585, 0.010062252, 0.010073582, 0.010157911, 0.013460109, 0.010451315, 0.010309055, 0.009985368, 0.010152398, 0.010263853, 0.010082702, 0.010295462, 0.0104317, 0.01076606, 0.009989013, 0.010527433, 0.011729946, 0.010207845, 0.009891008, 0.010313598, 0.01014845, 0.009839706, 0.0102087315, 0.010397275, 0.0100046, 0.010070305, 0.011692347, 0.010485194, 0.009936171, 0.011120231, 0.009794786, 0.010468208, 0.010630807, 0.010250646, 0.009879682, 0.010181211, 0.010939422, 0.010449682, 0.009969461, 0.01020807, 0.010006226, 0.009891961, 0.009838674, 0.0102297105, 0.0100371335, 0.010330271, 0.009940459, 0.010353551, 0.00989739, 0.010139983, 0.0105296625, 0.010380447, 0.010607771, 0.010572081, 0.010418753, 0.0099979695, 0.009912874, 0.010114315, 0.010242588]\n",
      "2022-02-23 23:49:17,697 : INFO : merging changes from 1204 documents into a model of 3204 documents\n",
      "2022-02-23 23:49:17,705 : INFO : topic #28 (0.010): 0.295*\"flow\" + 0.272*\"plot\" + 0.228*\"autom\" + 0.083*\"-\" + 0.028*\"small\" + 0.017*\"chart\" + 0.014*\"comput\" + 0.000*\"incorpor\" + 0.000*\"simpson\" + 0.000*\"polygon\"\n",
      "2022-02-23 23:49:17,705 : INFO : topic #2 (0.010): 0.058*\",\" + 0.036*\"hierarch\" + 0.034*\"system\" + 0.022*\"process\" + 0.021*\"interpret\" + 0.020*\"-\" + 0.018*\"frame\" + 0.017*\"list\" + 0.017*\"procedur\" + 0.016*\"requir\"\n",
      "2022-02-23 23:49:17,707 : INFO : topic #67 (0.012): 0.246*\"[\" + 0.205*\"algorithm\" + 0.171*\"(\" + 0.103*\"])\" + 0.038*\"matrix\" + 0.023*\"eigenvalu\" + 0.021*\"a1\" + 0.018*\"gener\" + 0.018*\"function\" + 0.015*\"prime\"\n",
      "2022-02-23 23:49:17,708 : INFO : topic #57 (0.012): 0.134*\"system\" + 0.054*\",\" + 0.047*\"comput\" + 0.043*\"data\" + 0.039*\"model\" + 0.025*\"manag\" + 0.025*\"process\" + 0.023*\"oper\" + 0.018*\"-\" + 0.018*\"organ\"\n",
      "2022-02-23 23:49:17,709 : INFO : topic #45 (0.013): 0.281*\")\" + 0.275*\"(\" + 0.233*\"algorithm\" + 0.022*\"function\" + 0.018*\"find\" + 0.016*\"path\" + 0.014*\"polynomi\" + 0.009*\"ratio\" + 0.009*\"'\" + 0.008*\"-\"\n",
      "2022-02-23 23:49:17,710 : INFO : topic diff=0.529926, rho=0.466151\n",
      "2022-02-23 23:49:17,719 : INFO : PROGRESS: pass 3, at document #2000/3204\n",
      "2022-02-23 23:49:18,730 : INFO : optimized alpha [0.011473363, 0.010151317, 0.009690829, 0.009833474, 0.010406004, 0.01042315, 0.009942288, 0.010296066, 0.010255118, 0.010119457, 0.009862393, 0.011262983, 0.010389744, 0.010484781, 0.010581443, 0.010182972, 0.009902291, 0.010146945, 0.0107015455, 0.010425686, 0.010283926, 0.010477251, 0.009813194, 0.009822525, 0.010742655, 0.010283555, 0.009876661, 0.010004219, 0.009494392, 0.009993651, 0.009883642, 0.010312222, 0.0104877055, 0.010293576, 0.010354153, 0.010868617, 0.010916191, 0.010472387, 0.010300706, 0.010032809, 0.00982337, 0.010811403, 0.010067565, 0.010037605, 0.010172998, 0.014724108, 0.010494385, 0.010349324, 0.009968752, 0.010140024, 0.010263637, 0.010146325, 0.010431173, 0.010412015, 0.010812588, 0.009949678, 0.010572571, 0.0118190795, 0.0101686455, 0.009985364, 0.010276748, 0.010121501, 0.009823642, 0.010196893, 0.010358353, 0.0100201825, 0.009996331, 0.012265349, 0.010518446, 0.009968556, 0.011410357, 0.009734581, 0.010444737, 0.010574978, 0.010279913, 0.010006857, 0.010180419, 0.011036739, 0.010480985, 0.009982232, 0.010277091, 0.009959393, 0.0098889675, 0.009796205, 0.010333845, 0.010017799, 0.010349912, 0.009924297, 0.010512856, 0.00982927, 0.010212657, 0.010464156, 0.010414565, 0.010651528, 0.010681643, 0.010461185, 0.009939089, 0.009886691, 0.010100347, 0.010329168]\n",
      "2022-02-23 23:49:18,736 : INFO : merging changes from 2000 documents into a model of 3204 documents\n",
      "2022-02-23 23:49:18,742 : INFO : topic #28 (0.009): 0.316*\"flow\" + 0.226*\"autom\" + 0.219*\"plot\" + 0.081*\"-\" + 0.043*\"chart\" + 0.023*\"small\" + 0.017*\"comput\" + 0.000*\"incorpor\" + 0.000*\"simpson\" + 0.000*\"polygon\"\n",
      "2022-02-23 23:49:18,743 : INFO : topic #2 (0.010): 0.056*\",\" + 0.038*\"system\" + 0.026*\"process\" + 0.026*\"hierarch\" + 0.022*\"interpret\" + 0.021*\"-\" + 0.018*\"program\" + 0.018*\"procedur\" + 0.017*\"list\" + 0.016*\"requir\"\n",
      "2022-02-23 23:49:18,744 : INFO : topic #57 (0.012): 0.136*\"system\" + 0.055*\",\" + 0.047*\"comput\" + 0.043*\"data\" + 0.036*\"model\" + 0.028*\"process\" + 0.022*\"oper\" + 0.021*\"manag\" + 0.019*\"-\" + 0.019*\"organ\"\n",
      "2022-02-23 23:49:18,746 : INFO : topic #67 (0.012): 0.228*\"[\" + 0.198*\"algorithm\" + 0.177*\"(\" + 0.153*\"])\" + 0.033*\"matrix\" + 0.021*\"function\" + 0.017*\"a1\" + 0.017*\"eigenvalu\" + 0.016*\"gener\" + 0.013*\"number\"\n",
      "2022-02-23 23:49:18,747 : INFO : topic #45 (0.015): 0.299*\")\" + 0.297*\"(\" + 0.232*\"algorithm\" + 0.022*\"function\" + 0.015*\"polynomi\" + 0.013*\"find\" + 0.011*\"path\" + 0.008*\"-\" + 0.007*\"'\" + 0.007*\"determin\"\n",
      "2022-02-23 23:49:18,748 : INFO : topic diff=0.540518, rho=0.422502\n",
      "2022-02-23 23:49:19,700 : INFO : -6.726 per-word bound, 105.9 perplexity estimate based on a held-out corpus of 1204 documents with 49783 words\n",
      "2022-02-23 23:49:19,701 : INFO : PROGRESS: pass 3, at document #3204/3204\n",
      "2022-02-23 23:49:20,688 : INFO : optimized alpha [0.011986982, 0.010307883, 0.009690487, 0.009911434, 0.010669111, 0.01052357, 0.01004578, 0.010445773, 0.010377209, 0.010236001, 0.009940428, 0.01166704, 0.01055104, 0.010756047, 0.010685304, 0.0102509055, 0.009951542, 0.010330115, 0.010939296, 0.010582715, 0.010437556, 0.0106703555, 0.009873912, 0.0098439595, 0.010908768, 0.010415235, 0.009982104, 0.010182412, 0.009488202, 0.010093974, 0.009936168, 0.010469899, 0.010681994, 0.010482801, 0.010540648, 0.011138665, 0.011165453, 0.0106844, 0.0104700895, 0.010135684, 0.0099003725, 0.011208155, 0.010136188, 0.010223057, 0.01023648, 0.01601098, 0.0107308375, 0.010514836, 0.010105732, 0.0102993585, 0.010375434, 0.010254308, 0.010651117, 0.010588384, 0.01114606, 0.009967764, 0.010780163, 0.012230063, 0.010260129, 0.010033017, 0.010439619, 0.010180144, 0.0099618565, 0.010394073, 0.010660095, 0.010086511, 0.010109845, 0.0125616845, 0.010757531, 0.010100701, 0.011689368, 0.009812287, 0.0106226895, 0.01083993, 0.010489083, 0.009982563, 0.010333993, 0.011373182, 0.010677761, 0.010058067, 0.010438023, 0.010043105, 0.009993663, 0.009872905, 0.010501624, 0.010122921, 0.010522406, 0.010015282, 0.010672328, 0.009894052, 0.010422217, 0.010667766, 0.010622119, 0.010918765, 0.010923247, 0.01071207, 0.009989186, 0.009936274, 0.010201748, 0.010401699]\n",
      "2022-02-23 23:49:20,695 : INFO : merging changes from 1204 documents into a model of 3204 documents\n",
      "2022-02-23 23:49:20,703 : INFO : topic #28 (0.009): 0.305*\"flow\" + 0.262*\"plot\" + 0.234*\"autom\" + 0.090*\"-\" + 0.021*\"chart\" + 0.015*\"small\" + 0.012*\"comput\" + 0.000*\"incorpor\" + 0.000*\"simpson\" + 0.000*\"polygon\"\n",
      "2022-02-23 23:49:20,704 : INFO : topic #2 (0.010): 0.059*\",\" + 0.037*\"hierarch\" + 0.035*\"system\" + 0.025*\"interpret\" + 0.025*\"process\" + 0.022*\"frame\" + 0.020*\"-\" + 0.019*\"sequenti\" + 0.019*\"list\" + 0.018*\"requir\"\n",
      "2022-02-23 23:49:20,706 : INFO : topic #57 (0.012): 0.148*\"system\" + 0.054*\",\" + 0.050*\"comput\" + 0.040*\"data\" + 0.038*\"model\" + 0.028*\"manag\" + 0.027*\"process\" + 0.023*\"oper\" + 0.019*\"-\" + 0.018*\"organ\"\n",
      "2022-02-23 23:49:20,707 : INFO : topic #67 (0.013): 0.265*\"[\" + 0.198*\"algorithm\" + 0.168*\"(\" + 0.112*\"])\" + 0.037*\"matrix\" + 0.023*\"eigenvalu\" + 0.021*\"a1\" + 0.019*\"function\" + 0.017*\"gener\" + 0.013*\"symmetr\"\n",
      "2022-02-23 23:49:20,708 : INFO : topic #45 (0.016): 0.307*\")\" + 0.307*\"(\" + 0.236*\"algorithm\" + 0.020*\"function\" + 0.013*\"path\" + 0.013*\"find\" + 0.010*\"polynomi\" + 0.008*\"-\" + 0.006*\"'\" + 0.005*\"determin\"\n",
      "2022-02-23 23:49:20,709 : INFO : topic diff=0.656321, rho=0.422502\n",
      "2022-02-23 23:49:20,718 : INFO : PROGRESS: pass 4, at document #2000/3204\n",
      "2022-02-23 23:49:21,755 : INFO : optimized alpha [0.012275838, 0.01035769, 0.009649925, 0.009855288, 0.010657904, 0.010476296, 0.01003417, 0.01053156, 0.010405194, 0.010186781, 0.0099037, 0.011727648, 0.010677107, 0.010729243, 0.010802419, 0.010289917, 0.0099027725, 0.01035212, 0.011060263, 0.010575967, 0.010423505, 0.010663696, 0.009826279, 0.009904735, 0.011124811, 0.010444141, 0.009928873, 0.010260624, 0.009458943, 0.010119956, 0.009936445, 0.0104796495, 0.010735896, 0.010651573, 0.010590823, 0.011231343, 0.011386719, 0.010712585, 0.010488863, 0.010172576, 0.009859655, 0.0111781405, 0.010141671, 0.010197173, 0.010255104, 0.017487431, 0.010792914, 0.010549839, 0.010098246, 0.010299894, 0.0103937695, 0.01034737, 0.010815554, 0.0105988085, 0.011204788, 0.009943069, 0.010829623, 0.012337666, 0.010232799, 0.010142502, 0.010415609, 0.010164263, 0.009992023, 0.010396448, 0.010644685, 0.0101292655, 0.010056376, 0.01311168, 0.010810135, 0.010156275, 0.01198318, 0.009780919, 0.010600388, 0.010803628, 0.01054634, 0.010134149, 0.010324896, 0.0114871925, 0.010718543, 0.010078242, 0.0105182305, 0.010014499, 0.010010757, 0.009840437, 0.01062097, 0.01010927, 0.010552471, 0.010014601, 0.010850367, 0.009846443, 0.010503309, 0.010606451, 0.010656979, 0.0109665785, 0.011037811, 0.010771227, 0.0099463, 0.009942452, 0.010207302, 0.010496432]\n",
      "2022-02-23 23:49:21,761 : INFO : merging changes from 2000 documents into a model of 3204 documents\n",
      "2022-02-23 23:49:21,768 : INFO : topic #28 (0.009): 0.319*\"flow\" + 0.234*\"autom\" + 0.215*\"plot\" + 0.087*\"-\" + 0.044*\"chart\" + 0.015*\"comput\" + 0.015*\"small\" + 0.000*\"incorpor\" + 0.000*\"simpson\" + 0.000*\"polygon\"\n",
      "2022-02-23 23:49:21,769 : INFO : topic #2 (0.010): 0.057*\",\" + 0.038*\"system\" + 0.029*\"process\" + 0.028*\"hierarch\" + 0.027*\"interpret\" + 0.021*\"-\" + 0.020*\"program\" + 0.018*\"procedur\" + 0.018*\"core\" + 0.017*\"30\"\n",
      "2022-02-23 23:49:21,770 : INFO : topic #57 (0.012): 0.149*\"system\" + 0.055*\",\" + 0.050*\"comput\" + 0.041*\"data\" + 0.035*\"model\" + 0.030*\"process\" + 0.023*\"manag\" + 0.023*\"oper\" + 0.019*\"-\" + 0.018*\"organ\"\n",
      "2022-02-23 23:49:21,770 : INFO : topic #67 (0.013): 0.241*\"[\" + 0.197*\"algorithm\" + 0.178*\"(\" + 0.154*\"])\" + 0.032*\"matrix\" + 0.022*\"function\" + 0.018*\"a1\" + 0.017*\"eigenvalu\" + 0.014*\"gener\" + 0.013*\"-\"\n",
      "2022-02-23 23:49:21,771 : INFO : topic #45 (0.017): 0.320*\"(\" + 0.319*\")\" + 0.231*\"algorithm\" + 0.020*\"function\" + 0.011*\"polynomi\" + 0.010*\"find\" + 0.010*\"path\" + 0.007*\"-\" + 0.006*\"determin\" + 0.005*\"'\"\n",
      "2022-02-23 23:49:21,772 : INFO : topic diff=0.635849, rho=0.389191\n",
      "2022-02-23 23:49:22,775 : INFO : -6.663 per-word bound, 101.3 perplexity estimate based on a held-out corpus of 1204 documents with 49783 words\n",
      "2022-02-23 23:49:22,776 : INFO : PROGRESS: pass 4, at document #3204/3204\n",
      "2022-02-23 23:49:23,720 : INFO : optimized alpha [0.012806854, 0.010527351, 0.009664194, 0.009947536, 0.010921124, 0.010552676, 0.010150161, 0.010701645, 0.010522107, 0.010295106, 0.009986348, 0.012102008, 0.010809595, 0.011014377, 0.010891245, 0.010379835, 0.009959204, 0.010529444, 0.011257316, 0.010735884, 0.010562774, 0.0108575085, 0.009909363, 0.0099378005, 0.011267984, 0.010566511, 0.010037042, 0.010446677, 0.009458114, 0.0102231465, 0.010008452, 0.010629543, 0.0109308865, 0.010842039, 0.010778288, 0.0115068415, 0.011638974, 0.010930869, 0.010653441, 0.0102779865, 0.009967007, 0.011555306, 0.010215561, 0.01040976, 0.010317734, 0.018985966, 0.011056328, 0.010721026, 0.010261954, 0.010454881, 0.010507771, 0.010477633, 0.011042636, 0.010787818, 0.011551149, 0.009964474, 0.011040684, 0.012701763, 0.010328169, 0.010202833, 0.010577364, 0.010236059, 0.010153516, 0.010597056, 0.010941678, 0.010210652, 0.010181845, 0.013390188, 0.011047569, 0.010298947, 0.012237771, 0.009859851, 0.010765832, 0.011043956, 0.01075537, 0.010111084, 0.010467805, 0.0118156215, 0.010908609, 0.010148793, 0.010685058, 0.010092614, 0.010114656, 0.009918562, 0.010783812, 0.010216961, 0.010726747, 0.010115621, 0.011001923, 0.00991377, 0.010716032, 0.010795942, 0.0108504575, 0.0112418, 0.011260385, 0.011030426, 0.010019963, 0.01000197, 0.010311439, 0.010584029]\n",
      "2022-02-23 23:49:23,729 : INFO : merging changes from 1204 documents into a model of 3204 documents\n",
      "2022-02-23 23:49:23,739 : INFO : topic #28 (0.009): 0.307*\"flow\" + 0.254*\"plot\" + 0.241*\"autom\" + 0.094*\"-\" + 0.023*\"chart\" + 0.011*\"comput\" + 0.009*\"small\" + 0.000*\"incorpor\" + 0.000*\"simpson\" + 0.000*\"polygon\"\n",
      "2022-02-23 23:49:23,742 : INFO : topic #2 (0.010): 0.059*\",\" + 0.038*\"hierarch\" + 0.035*\"system\" + 0.030*\"interpret\" + 0.027*\"process\" + 0.023*\"frame\" + 0.021*\"sequenti\" + 0.020*\"program\" + 0.019*\"-\" + 0.018*\"requir\"\n",
      "2022-02-23 23:49:23,744 : INFO : topic #0 (0.013): 0.295*\"problem\" + 0.285*\"method\" + 0.102*\"solut\" + 0.055*\"matric\" + 0.039*\"applic\" + 0.035*\"present\" + 0.031*\"effici\" + 0.031*\"matrix\" + 0.024*\"cost\" + 0.016*\"classic\"\n",
      "2022-02-23 23:49:23,745 : INFO : topic #67 (0.013): 0.275*\"[\" + 0.195*\"algorithm\" + 0.168*\"(\" + 0.117*\"])\" + 0.036*\"matrix\" + 0.023*\"eigenvalu\" + 0.021*\"function\" + 0.021*\"a1\" + 0.015*\"gener\" + 0.013*\"-\"\n",
      "2022-02-23 23:49:23,747 : INFO : topic #45 (0.019): 0.328*\"(\" + 0.324*\")\" + 0.232*\"algorithm\" + 0.018*\"function\" + 0.012*\"path\" + 0.010*\"find\" + 0.008*\"polynomi\" + 0.007*\"-\" + 0.005*\"determin\" + 0.004*\"'\"\n",
      "2022-02-23 23:49:23,747 : INFO : topic diff=0.701014, rho=0.389191\n",
      "2022-02-23 23:49:23,755 : INFO : PROGRESS: pass 5, at document #2000/3204\n",
      "2022-02-23 23:49:24,813 : INFO : optimized alpha [0.013115941, 0.010591385, 0.009633355, 0.009905003, 0.010917004, 0.010515533, 0.010144918, 0.010787838, 0.010556114, 0.010249676, 0.009965609, 0.0121613, 0.010936488, 0.010997375, 0.011015518, 0.010462166, 0.00992944, 0.010541899, 0.011389513, 0.010729215, 0.01055532, 0.010848454, 0.00986389, 0.009997059, 0.011460889, 0.010597488, 0.009993306, 0.010537016, 0.00943418, 0.010255112, 0.01002196, 0.010651868, 0.010990899, 0.011021774, 0.010840451, 0.011606212, 0.011860568, 0.010960273, 0.010684196, 0.010331329, 0.009933019, 0.01153223, 0.010230477, 0.010376908, 0.010337543, 0.020632613, 0.011119754, 0.010761331, 0.010258255, 0.010466533, 0.010527006, 0.010584375, 0.011216896, 0.010836724, 0.011629858, 0.009953812, 0.011100634, 0.012801669, 0.010308814, 0.01031901, 0.010568284, 0.01023308, 0.010187136, 0.010604328, 0.010929255, 0.010269758, 0.010139805, 0.013922923, 0.011108164, 0.010369788, 0.012541771, 0.009843798, 0.010754488, 0.011014769, 0.01081057, 0.010252265, 0.010457163, 0.011930926, 0.010962209, 0.010171767, 0.010783831, 0.010070306, 0.010140069, 0.009898034, 0.010919905, 0.01021185, 0.010758373, 0.0101301, 0.011190736, 0.0098886145, 0.010807365, 0.010738141, 0.010898276, 0.011283372, 0.011363997, 0.011091059, 0.009995439, 0.010013976, 0.010322417, 0.010671309]\n",
      "2022-02-23 23:49:24,819 : INFO : merging changes from 2000 documents into a model of 3204 documents\n",
      "2022-02-23 23:49:24,826 : INFO : topic #28 (0.009): 0.317*\"flow\" + 0.243*\"autom\" + 0.211*\"plot\" + 0.091*\"-\" + 0.044*\"chart\" + 0.014*\"comput\" + 0.010*\"small\" + 0.000*\"incorpor\" + 0.000*\"simpson\" + 0.000*\"polygon\"\n",
      "2022-02-23 23:49:24,827 : INFO : topic #2 (0.010): 0.057*\",\" + 0.038*\"system\" + 0.032*\"process\" + 0.030*\"interpret\" + 0.029*\"hierarch\" + 0.022*\"program\" + 0.021*\"core\" + 0.020*\"sequenti\" + 0.020*\"-\" + 0.019*\"procedur\"\n",
      "2022-02-23 23:49:24,828 : INFO : topic #0 (0.013): 0.296*\"method\" + 0.286*\"problem\" + 0.102*\"solut\" + 0.062*\"matric\" + 0.038*\"applic\" + 0.034*\"present\" + 0.032*\"matrix\" + 0.031*\"effici\" + 0.020*\"cost\" + 0.013*\"classic\"\n",
      "2022-02-23 23:49:24,829 : INFO : topic #67 (0.014): 0.249*\"[\" + 0.196*\"algorithm\" + 0.179*\"(\" + 0.155*\"])\" + 0.031*\"matrix\" + 0.024*\"function\" + 0.018*\"a1\" + 0.018*\"eigenvalu\" + 0.013*\"-\" + 0.012*\"gener\"\n",
      "2022-02-23 23:49:24,831 : INFO : topic #45 (0.021): 0.336*\"(\" + 0.331*\")\" + 0.228*\"algorithm\" + 0.019*\"function\" + 0.009*\"path\" + 0.009*\"polynomi\" + 0.008*\"find\" + 0.007*\"-\" + 0.005*\"determin\" + 0.004*\"incomplet\"\n",
      "2022-02-23 23:49:24,832 : INFO : topic diff=0.639526, rho=0.362690\n",
      "2022-02-23 23:49:25,861 : INFO : -6.621 per-word bound, 98.5 perplexity estimate based on a held-out corpus of 1204 documents with 49783 words\n",
      "2022-02-23 23:49:25,861 : INFO : PROGRESS: pass 5, at document #3204/3204\n",
      "2022-02-23 23:49:26,746 : INFO : optimized alpha [0.013664968, 0.010767783, 0.009654027, 0.0100131845, 0.0111759845, 0.010574956, 0.010260296, 0.010941542, 0.010672424, 0.010373553, 0.0100526735, 0.012514566, 0.011077291, 0.011300963, 0.011094874, 0.010606953, 0.0100043, 0.010718674, 0.011575091, 0.010889525, 0.010676727, 0.011054183, 0.009951506, 0.01004035, 0.011591407, 0.010718815, 0.010113459, 0.010719002, 0.009434948, 0.010370899, 0.010099001, 0.010805847, 0.011184819, 0.011221539, 0.011030374, 0.011864171, 0.012114235, 0.011163151, 0.010839076, 0.010433495, 0.010043197, 0.011883855, 0.010318742, 0.010586947, 0.010409314, 0.022322066, 0.01137984, 0.010899568, 0.010437523, 0.010628436, 0.010630932, 0.010729277, 0.011449361, 0.0110616, 0.01199552, 0.009981103, 0.011303366, 0.013144242, 0.010402037, 0.010384652, 0.010727324, 0.010310312, 0.0103705805, 0.010793617, 0.011201068, 0.010330332, 0.010270409, 0.014186324, 0.011339478, 0.010529277, 0.012798459, 0.009936265, 0.010897047, 0.011214665, 0.011021117, 0.01023338, 0.010598085, 0.012251156, 0.011151388, 0.010247454, 0.010944308, 0.010144124, 0.010250173, 0.010004712, 0.011086501, 0.010319445, 0.010929116, 0.010234468, 0.0113429865, 0.009955432, 0.011021644, 0.010926578, 0.011087305, 0.011537336, 0.01158488, 0.011356795, 0.010098613, 0.010094643, 0.010432983, 0.01076303]\n",
      "2022-02-23 23:49:26,753 : INFO : merging changes from 1204 documents into a model of 3204 documents\n",
      "2022-02-23 23:49:26,759 : INFO : topic #28 (0.009): 0.307*\"flow\" + 0.249*\"plot\" + 0.246*\"autom\" + 0.098*\"-\" + 0.024*\"chart\" + 0.010*\"comput\" + 0.007*\"small\" + 0.000*\"incorpor\" + 0.000*\"simpson\" + 0.000*\"polygon\"\n",
      "2022-02-23 23:49:26,760 : INFO : topic #2 (0.010): 0.059*\",\" + 0.038*\"hierarch\" + 0.036*\"system\" + 0.033*\"interpret\" + 0.029*\"process\" + 0.024*\"frame\" + 0.022*\"sequenti\" + 0.021*\"program\" + 0.019*\"requir\" + 0.019*\"time\"\n",
      "2022-02-23 23:49:26,761 : INFO : topic #0 (0.014): 0.311*\"method\" + 0.287*\"problem\" + 0.096*\"solut\" + 0.054*\"matric\" + 0.040*\"applic\" + 0.035*\"present\" + 0.032*\"matrix\" + 0.030*\"effici\" + 0.021*\"cost\" + 0.015*\"classic\"\n",
      "2022-02-23 23:49:26,763 : INFO : topic #67 (0.014): 0.280*\"[\" + 0.195*\"algorithm\" + 0.169*\"(\" + 0.120*\"])\" + 0.035*\"matrix\" + 0.022*\"eigenvalu\" + 0.022*\"function\" + 0.020*\"a1\" + 0.014*\"-\" + 0.013*\"symmetr\"\n",
      "2022-02-23 23:49:26,767 : INFO : topic #45 (0.022): 0.343*\"(\" + 0.336*\")\" + 0.226*\"algorithm\" + 0.017*\"function\" + 0.010*\"path\" + 0.008*\"find\" + 0.007*\"polynomi\" + 0.007*\"-\" + 0.004*\"determin\" + 0.003*\"incomplet\"\n",
      "2022-02-23 23:49:26,769 : INFO : topic diff=0.665452, rho=0.362690\n",
      "2022-02-23 23:49:26,776 : INFO : PROGRESS: pass 6, at document #2000/3204\n",
      "2022-02-23 23:49:27,846 : INFO : optimized alpha [0.0139843775, 0.010845079, 0.009626281, 0.009983696, 0.011170702, 0.010542846, 0.010258905, 0.011017607, 0.010706501, 0.010334609, 0.010035391, 0.012575406, 0.011207564, 0.011279005, 0.011214868, 0.010692333, 0.009982097, 0.010731837, 0.0117088435, 0.010901792, 0.010666057, 0.0110447565, 0.009924691, 0.0101036895, 0.0117718335, 0.010757269, 0.010079422, 0.010811976, 0.009413793, 0.010411889, 0.010119046, 0.01083046, 0.011248952, 0.011395621, 0.011085098, 0.011970295, 0.012331363, 0.011190207, 0.010862312, 0.010510771, 0.010013209, 0.011865283, 0.010340082, 0.01055683, 0.010435573, 0.02417601, 0.01144105, 0.010943274, 0.010440604, 0.010655587, 0.01066017, 0.010827013, 0.011622285, 0.0111207, 0.012091391, 0.009973753, 0.011369402, 0.013226517, 0.010389589, 0.010502231, 0.010725899, 0.0103133395, 0.010409139, 0.010798071, 0.011189626, 0.010404418, 0.010241592, 0.014699091, 0.0114020035, 0.010598156, 0.013101225, 0.0099248625, 0.010891869, 0.011188422, 0.011078517, 0.010369387, 0.010587974, 0.0123599935, 0.011216885, 0.0102730105, 0.011041878, 0.010130709, 0.010276079, 0.009987334, 0.011235238, 0.010320122, 0.010960494, 0.01025533, 0.011541231, 0.009932448, 0.0111118015, 0.010884752, 0.01113593, 0.011577613, 0.01169675, 0.011415272, 0.010089791, 0.010113232, 0.010445252, 0.010847767]\n",
      "2022-02-23 23:49:27,852 : INFO : merging changes from 2000 documents into a model of 3204 documents\n",
      "2022-02-23 23:49:27,858 : INFO : topic #28 (0.009): 0.316*\"flow\" + 0.247*\"autom\" + 0.210*\"plot\" + 0.094*\"-\" + 0.044*\"chart\" + 0.013*\"comput\" + 0.008*\"small\" + 0.000*\"incorpor\" + 0.000*\"simpson\" + 0.000*\"polygon\"\n",
      "2022-02-23 23:49:27,859 : INFO : topic #2 (0.010): 0.058*\",\" + 0.039*\"system\" + 0.034*\"interpret\" + 0.033*\"process\" + 0.030*\"hierarch\" + 0.022*\"program\" + 0.022*\"core\" + 0.021*\"sequenti\" + 0.020*\"machin\" + 0.020*\"time\"\n",
      "2022-02-23 23:49:27,859 : INFO : topic #0 (0.014): 0.319*\"method\" + 0.280*\"problem\" + 0.097*\"solut\" + 0.059*\"matric\" + 0.039*\"applic\" + 0.034*\"present\" + 0.032*\"matrix\" + 0.030*\"effici\" + 0.018*\"cost\" + 0.013*\"classic\"\n",
      "2022-02-23 23:49:27,860 : INFO : topic #67 (0.015): 0.254*\"[\" + 0.196*\"algorithm\" + 0.181*\"(\" + 0.155*\"])\" + 0.030*\"matrix\" + 0.024*\"function\" + 0.018*\"a1\" + 0.018*\"eigenvalu\" + 0.013*\"-\" + 0.012*\"s15\"\n",
      "2022-02-23 23:49:27,861 : INFO : topic #45 (0.024): 0.348*\"(\" + 0.341*\")\" + 0.222*\"algorithm\" + 0.018*\"function\" + 0.008*\"path\" + 0.008*\"polynomi\" + 0.007*\"-\" + 0.006*\"find\" + 0.005*\"determin\" + 0.004*\"incomplet\"\n",
      "2022-02-23 23:49:27,862 : INFO : topic diff=0.587295, rho=0.340958\n",
      "2022-02-23 23:49:29,098 : INFO : -6.589 per-word bound, 96.3 perplexity estimate based on a held-out corpus of 1204 documents with 49783 words\n",
      "2022-02-23 23:49:29,099 : INFO : PROGRESS: pass 6, at document #3204/3204\n",
      "2022-02-23 23:49:30,074 : INFO : optimized alpha [0.014534524, 0.01101605, 0.009658057, 0.010097876, 0.011411389, 0.010605887, 0.0103741605, 0.011160454, 0.010819904, 0.010461302, 0.010126844, 0.0129144, 0.01133476, 0.01156977, 0.011295776, 0.010854345, 0.010067716, 0.0108998865, 0.011891813, 0.011057412, 0.010790321, 0.011253132, 0.010016659, 0.010150536, 0.0119015835, 0.0108660655, 0.010196446, 0.011003665, 0.009418532, 0.01055153, 0.010206703, 0.010985938, 0.011433613, 0.011599116, 0.011269048, 0.012217122, 0.0125812795, 0.0113801155, 0.011009386, 0.010613415, 0.010126435, 0.012202093, 0.010450362, 0.0107717225, 0.010512806, 0.026075145, 0.011693112, 0.011099461, 0.010628928, 0.01081866, 0.010740361, 0.010970788, 0.011854635, 0.011361253, 0.012467973, 0.0100060785, 0.011559065, 0.013574084, 0.010475206, 0.0105730565, 0.01088312, 0.010392683, 0.010625725, 0.010987338, 0.011452553, 0.010467661, 0.0103686955, 0.014949318, 0.0116322795, 0.010764894, 0.013354033, 0.010021181, 0.011033485, 0.0113783125, 0.011276042, 0.010348287, 0.010721835, 0.01267084, 0.011406423, 0.010344851, 0.0112069575, 0.010206823, 0.0103864465, 0.010094384, 0.011396787, 0.010437124, 0.0111259045, 0.01038077, 0.0116985105, 0.010010453, 0.011322456, 0.011070183, 0.0113315545, 0.011820117, 0.011900791, 0.011679199, 0.010205161, 0.010192747, 0.010565032, 0.010928311]\n",
      "2022-02-23 23:49:30,086 : INFO : merging changes from 1204 documents into a model of 3204 documents\n",
      "2022-02-23 23:49:30,104 : INFO : topic #28 (0.009): 0.305*\"flow\" + 0.250*\"autom\" + 0.244*\"plot\" + 0.101*\"-\" + 0.025*\"chart\" + 0.009*\"comput\" + 0.005*\"small\" + 0.000*\"incorpor\" + 0.000*\"simpson\" + 0.000*\"polygon\"\n",
      "2022-02-23 23:49:30,115 : INFO : topic #2 (0.010): 0.061*\",\" + 0.037*\"hierarch\" + 0.036*\"system\" + 0.035*\"interpret\" + 0.028*\"process\" + 0.024*\"sequenti\" + 0.024*\"frame\" + 0.022*\"program\" + 0.022*\"time\" + 0.020*\"requir\"\n",
      "2022-02-23 23:49:30,122 : INFO : topic #0 (0.015): 0.335*\"method\" + 0.277*\"problem\" + 0.091*\"solut\" + 0.053*\"matric\" + 0.040*\"applic\" + 0.035*\"present\" + 0.033*\"matrix\" + 0.030*\"effici\" + 0.018*\"cost\" + 0.015*\"classic\"\n",
      "2022-02-23 23:49:30,129 : INFO : topic #67 (0.015): 0.283*\"[\" + 0.196*\"algorithm\" + 0.171*\"(\" + 0.123*\"])\" + 0.034*\"matrix\" + 0.023*\"function\" + 0.022*\"eigenvalu\" + 0.020*\"a1\" + 0.014*\"-\" + 0.013*\"symmetr\"\n",
      "2022-02-23 23:49:30,130 : INFO : topic #45 (0.026): 0.354*\"(\" + 0.345*\")\" + 0.220*\"algorithm\" + 0.016*\"function\" + 0.009*\"path\" + 0.007*\"-\" + 0.007*\"polynomi\" + 0.006*\"find\" + 0.004*\"determin\" + 0.003*\"incomplet\"\n",
      "2022-02-23 23:49:30,134 : INFO : topic diff=0.595557, rho=0.340958\n",
      "2022-02-23 23:49:30,148 : INFO : PROGRESS: pass 7, at document #2000/3204\n",
      "2022-02-23 23:49:31,627 : INFO : optimized alpha [0.014844603, 0.011096971, 0.009637545, 0.01007495, 0.0114071, 0.010579921, 0.010374636, 0.011225801, 0.01086471, 0.0104312785, 0.010114024, 0.012975012, 0.011452177, 0.011554703, 0.011412525, 0.010951815, 0.010047068, 0.010915689, 0.012041175, 0.011077912, 0.010780266, 0.011247026, 0.009996587, 0.010212915, 0.012080732, 0.010906306, 0.010162731, 0.011101245, 0.009399698, 0.010597383, 0.0102375755, 0.011012713, 0.011494572, 0.01178189, 0.011320953, 0.012316315, 0.012801242, 0.011409018, 0.011042091, 0.0107011, 0.010106366, 0.012186003, 0.010485992, 0.010752641, 0.01054326, 0.028091956, 0.011750927, 0.0111499475, 0.010639975, 0.010854783, 0.010777178, 0.011075047, 0.012028995, 0.011439342, 0.0125665935, 0.010009794, 0.011614313, 0.013664465, 0.010467326, 0.010692649, 0.010888539, 0.010402799, 0.010680976, 0.010996226, 0.011440305, 0.010548942, 0.010351574, 0.015455716, 0.011700728, 0.010844427, 0.013661359, 0.010026877, 0.01103025, 0.011354667, 0.011344883, 0.010478514, 0.010715684, 0.0127783585, 0.011479653, 0.010371211, 0.011307454, 0.010199601, 0.01041625, 0.010084695, 0.011543486, 0.010442926, 0.011159161, 0.010415877, 0.011889697, 0.009987604, 0.011417491, 0.011026378, 0.011377417, 0.011861462, 0.0120059755, 0.011749163, 0.010210296, 0.010220776, 0.010580116, 0.011009412]\n",
      "2022-02-23 23:49:31,633 : INFO : merging changes from 2000 documents into a model of 3204 documents\n",
      "2022-02-23 23:49:31,640 : INFO : topic #28 (0.009): 0.314*\"flow\" + 0.251*\"autom\" + 0.209*\"plot\" + 0.097*\"-\" + 0.043*\"chart\" + 0.012*\"comput\" + 0.007*\"small\" + 0.000*\"incorpor\" + 0.000*\"simpson\" + 0.000*\"polygon\"\n",
      "2022-02-23 23:49:31,641 : INFO : topic #2 (0.010): 0.059*\",\" + 0.039*\"system\" + 0.035*\"interpret\" + 0.032*\"process\" + 0.030*\"hierarch\" + 0.024*\"program\" + 0.023*\"sequenti\" + 0.023*\"core\" + 0.022*\"time\" + 0.021*\"machin\"\n",
      "2022-02-23 23:49:31,642 : INFO : topic #0 (0.015): 0.342*\"method\" + 0.268*\"problem\" + 0.092*\"solut\" + 0.058*\"matric\" + 0.040*\"applic\" + 0.034*\"present\" + 0.033*\"matrix\" + 0.030*\"effici\" + 0.016*\"cost\" + 0.013*\"classic\"\n",
      "2022-02-23 23:49:31,645 : INFO : topic #67 (0.015): 0.257*\"[\" + 0.197*\"algorithm\" + 0.182*\"(\" + 0.155*\"])\" + 0.030*\"matrix\" + 0.025*\"function\" + 0.018*\"a1\" + 0.018*\"eigenvalu\" + 0.014*\"-\" + 0.012*\"s15\"\n",
      "2022-02-23 23:49:31,648 : INFO : topic #45 (0.028): 0.358*\"(\" + 0.349*\")\" + 0.217*\"algorithm\" + 0.017*\"function\" + 0.007*\"polynomi\" + 0.007*\"path\" + 0.007*\"-\" + 0.005*\"find\" + 0.004*\"determin\" + 0.004*\"incomplet\"\n",
      "2022-02-23 23:49:31,652 : INFO : topic diff=0.518911, rho=0.322715\n",
      "2022-02-23 23:49:32,858 : INFO : -6.564 per-word bound, 94.6 perplexity estimate based on a held-out corpus of 1204 documents with 49783 words\n",
      "2022-02-23 23:49:32,859 : INFO : PROGRESS: pass 7, at document #3204/3204\n",
      "2022-02-23 23:49:33,776 : INFO : optimized alpha [0.015381567, 0.011263951, 0.009684258, 0.010197776, 0.011631972, 0.010646464, 0.01048736, 0.011362358, 0.010975966, 0.010558098, 0.010204205, 0.0133161135, 0.011579546, 0.011834456, 0.011476966, 0.011139527, 0.010142534, 0.011079471, 0.012216135, 0.011253912, 0.010907744, 0.011458908, 0.0101062795, 0.010257586, 0.01221055, 0.011010066, 0.010280102, 0.011294175, 0.009405364, 0.010736797, 0.01032681, 0.011152452, 0.011674527, 0.011983704, 0.011500197, 0.012563705, 0.013052191, 0.011590901, 0.0111797685, 0.010804741, 0.01022277, 0.012507162, 0.010608401, 0.010964614, 0.0106512075, 0.030144937, 0.011990291, 0.011296552, 0.010837794, 0.011016479, 0.010856635, 0.011221434, 0.012246295, 0.011699215, 0.01295215, 0.010046643, 0.011821096, 0.01400744, 0.010555012, 0.01076553, 0.01103, 0.010504067, 0.010915752, 0.011171683, 0.011696058, 0.0106119625, 0.010484294, 0.015689828, 0.011918716, 0.011012958, 0.013897035, 0.010132408, 0.0111656245, 0.011527047, 0.011546541, 0.0104610305, 0.010846563, 0.013081846, 0.011679833, 0.010442688, 0.011459447, 0.010277979, 0.010527283, 0.010205988, 0.011710533, 0.010571851, 0.011311376, 0.010541453, 0.012049456, 0.010062291, 0.011619826, 0.011185819, 0.011567958, 0.012084809, 0.01220485, 0.0120161325, 0.01032896, 0.010302308, 0.010700307, 0.01108314]\n",
      "2022-02-23 23:49:33,786 : INFO : merging changes from 1204 documents into a model of 3204 documents\n",
      "2022-02-23 23:49:33,813 : INFO : topic #28 (0.009): 0.304*\"flow\" + 0.253*\"autom\" + 0.241*\"plot\" + 0.103*\"-\" + 0.026*\"chart\" + 0.009*\"comput\" + 0.005*\"small\" + 0.000*\"incorpor\" + 0.000*\"simpson\" + 0.000*\"polygon\"\n",
      "2022-02-23 23:49:33,816 : INFO : topic #2 (0.010): 0.062*\",\" + 0.039*\"interpret\" + 0.037*\"system\" + 0.036*\"hierarch\" + 0.028*\"process\" + 0.026*\"sequenti\" + 0.024*\"time\" + 0.024*\"program\" + 0.024*\"frame\" + 0.021*\"machin\"\n",
      "2022-02-23 23:49:33,818 : INFO : topic #0 (0.015): 0.359*\"method\" + 0.263*\"problem\" + 0.088*\"solut\" + 0.052*\"matric\" + 0.041*\"applic\" + 0.035*\"present\" + 0.034*\"matrix\" + 0.029*\"effici\" + 0.016*\"cost\" + 0.015*\"classic\"\n",
      "2022-02-23 23:49:33,819 : INFO : topic #67 (0.016): 0.284*\"[\" + 0.196*\"algorithm\" + 0.173*\"(\" + 0.125*\"])\" + 0.034*\"matrix\" + 0.023*\"function\" + 0.022*\"eigenvalu\" + 0.020*\"a1\" + 0.014*\"-\" + 0.013*\"symmetr\"\n",
      "2022-02-23 23:49:33,820 : INFO : topic #45 (0.030): 0.364*\"(\" + 0.353*\")\" + 0.212*\"algorithm\" + 0.016*\"function\" + 0.008*\"path\" + 0.007*\"-\" + 0.006*\"polynomi\" + 0.005*\"find\" + 0.004*\"determin\" + 0.003*\"incomplet\"\n",
      "2022-02-23 23:49:33,823 : INFO : topic diff=0.521554, rho=0.322715\n",
      "2022-02-23 23:49:33,834 : INFO : PROGRESS: pass 8, at document #2000/3204\n",
      "2022-02-23 23:49:35,129 : INFO : optimized alpha [0.015684884, 0.011355567, 0.009668474, 0.010183803, 0.0116377, 0.010627478, 0.010484563, 0.011428469, 0.011015599, 0.010532811, 0.010190779, 0.013368597, 0.011690819, 0.011822147, 0.0116051445, 0.011241928, 0.010127847, 0.011089132, 0.012369698, 0.011273231, 0.010898144, 0.011459367, 0.010090463, 0.010327223, 0.012391212, 0.011050495, 0.010252804, 0.011391462, 0.009388482, 0.010790681, 0.010366114, 0.011181398, 0.011741701, 0.012160839, 0.0115550235, 0.012666529, 0.013271888, 0.011621747, 0.0112196645, 0.010902431, 0.0102037145, 0.012493589, 0.010650697, 0.010950583, 0.01068212, 0.032304645, 0.01205249, 0.011351852, 0.010849396, 0.011057772, 0.010888874, 0.011333818, 0.012420802, 0.011781111, 0.013048009, 0.010054016, 0.011880816, 0.014106227, 0.010551137, 0.010874119, 0.011045435, 0.010525263, 0.0109921275, 0.01118325, 0.011681237, 0.0107001215, 0.010476169, 0.01618873, 0.011987647, 0.011106117, 0.01419924, 0.0101379845, 0.011162464, 0.011504119, 0.011612255, 0.010586323, 0.010842358, 0.013188648, 0.011753542, 0.01047312, 0.011571971, 0.0102747, 0.01056408, 0.010201471, 0.011864921, 0.01058226, 0.011346511, 0.010591321, 0.012236543, 0.01004572, 0.0117091965, 0.0111438725, 0.011607957, 0.012120043, 0.012315244, 0.012088226, 0.010338732, 0.010338947, 0.010711405, 0.011164595]\n",
      "2022-02-23 23:49:35,137 : INFO : merging changes from 2000 documents into a model of 3204 documents\n",
      "2022-02-23 23:49:35,170 : INFO : topic #28 (0.009): 0.312*\"flow\" + 0.253*\"autom\" + 0.209*\"plot\" + 0.099*\"-\" + 0.042*\"chart\" + 0.011*\"comput\" + 0.006*\"small\" + 0.000*\"incorpor\" + 0.000*\"simpson\" + 0.000*\"polygon\"\n",
      "2022-02-23 23:49:35,175 : INFO : topic #2 (0.010): 0.060*\",\" + 0.041*\"system\" + 0.040*\"interpret\" + 0.032*\"process\" + 0.030*\"hierarch\" + 0.026*\"program\" + 0.025*\"time\" + 0.024*\"sequenti\" + 0.023*\"machin\" + 0.022*\"core\"\n",
      "2022-02-23 23:49:35,176 : INFO : topic #0 (0.016): 0.366*\"method\" + 0.255*\"problem\" + 0.087*\"solut\" + 0.057*\"matric\" + 0.040*\"applic\" + 0.034*\"present\" + 0.034*\"matrix\" + 0.029*\"effici\" + 0.014*\"cost\" + 0.013*\"classic\"\n",
      "2022-02-23 23:49:35,177 : INFO : topic #67 (0.016): 0.259*\"[\" + 0.198*\"algorithm\" + 0.184*\"(\" + 0.155*\"])\" + 0.030*\"matrix\" + 0.025*\"function\" + 0.018*\"a1\" + 0.018*\"eigenvalu\" + 0.014*\"-\" + 0.012*\"s15\"\n",
      "2022-02-23 23:49:35,179 : INFO : topic #45 (0.032): 0.367*\"(\" + 0.356*\")\" + 0.210*\"algorithm\" + 0.015*\"function\" + 0.006*\"path\" + 0.006*\"-\" + 0.006*\"polynomi\" + 0.004*\"determin\" + 0.004*\"find\" + 0.004*\"incomplet\"\n",
      "2022-02-23 23:49:35,180 : INFO : topic diff=0.452760, rho=0.307119\n",
      "2022-02-23 23:49:36,644 : INFO : -6.541 per-word bound, 93.1 perplexity estimate based on a held-out corpus of 1204 documents with 49783 words\n",
      "2022-02-23 23:49:36,645 : INFO : PROGRESS: pass 8, at document #3204/3204\n",
      "2022-02-23 23:49:37,654 : INFO : optimized alpha [0.016213223, 0.011528211, 0.009716297, 0.010309693, 0.011848441, 0.010705618, 0.010595349, 0.0115595795, 0.011136695, 0.010662849, 0.010285354, 0.013689009, 0.011815928, 0.012117107, 0.011660282, 0.011449107, 0.010219617, 0.011246585, 0.012534715, 0.011445677, 0.011017738, 0.011666604, 0.0102116205, 0.010367397, 0.012515315, 0.011152838, 0.010360408, 0.01158637, 0.009394925, 0.0109276045, 0.010454428, 0.011327085, 0.011921037, 0.0123586925, 0.011730574, 0.012905714, 0.013521542, 0.011799776, 0.0113491025, 0.011007355, 0.0103234295, 0.012807516, 0.0107737295, 0.011146568, 0.010799755, 0.03446378, 0.012277598, 0.011501576, 0.01105672, 0.011213494, 0.010965226, 0.01148325, 0.012633902, 0.012045264, 0.01343085, 0.010089861, 0.012067873, 0.014464535, 0.010629975, 0.010943765, 0.011181424, 0.01062529, 0.0112625705, 0.011352062, 0.011931304, 0.010774148, 0.010614662, 0.016416347, 0.012194906, 0.011282611, 0.014430009, 0.0102341585, 0.011298146, 0.011675719, 0.011812538, 0.010566656, 0.010959849, 0.0134827, 0.011943583, 0.010544472, 0.011706188, 0.010350107, 0.010678855, 0.010320652, 0.012022766, 0.010708922, 0.011501447, 0.010712074, 0.012402461, 0.010130556, 0.011907293, 0.011300054, 0.011797407, 0.0123352865, 0.012513193, 0.012350063, 0.010468835, 0.01042791, 0.010837934, 0.011238019]\n",
      "2022-02-23 23:49:37,661 : INFO : merging changes from 1204 documents into a model of 3204 documents\n",
      "2022-02-23 23:49:37,682 : INFO : topic #28 (0.009): 0.304*\"flow\" + 0.255*\"autom\" + 0.240*\"plot\" + 0.104*\"-\" + 0.026*\"chart\" + 0.008*\"comput\" + 0.004*\"small\" + 0.000*\"incorpor\" + 0.000*\"simpson\" + 0.000*\"polygon\"\n",
      "2022-02-23 23:49:37,717 : INFO : topic #2 (0.010): 0.061*\",\" + 0.043*\"interpret\" + 0.039*\"system\" + 0.035*\"hierarch\" + 0.029*\"process\" + 0.027*\"time\" + 0.026*\"sequenti\" + 0.026*\"program\" + 0.023*\"frame\" + 0.023*\"machin\"\n",
      "2022-02-23 23:49:37,724 : INFO : topic #0 (0.016): 0.385*\"method\" + 0.245*\"problem\" + 0.083*\"solut\" + 0.052*\"matric\" + 0.042*\"applic\" + 0.035*\"present\" + 0.035*\"matrix\" + 0.029*\"effici\" + 0.016*\"classic\" + 0.014*\"cost\"\n",
      "2022-02-23 23:49:37,727 : INFO : topic #67 (0.016): 0.284*\"[\" + 0.200*\"algorithm\" + 0.174*\"(\" + 0.126*\"])\" + 0.033*\"matrix\" + 0.024*\"function\" + 0.022*\"eigenvalu\" + 0.020*\"a1\" + 0.015*\"-\" + 0.012*\"real\"\n",
      "2022-02-23 23:49:37,735 : INFO : topic #45 (0.034): 0.373*\"(\" + 0.362*\")\" + 0.202*\"algorithm\" + 0.015*\"function\" + 0.007*\"path\" + 0.007*\"-\" + 0.005*\"polynomi\" + 0.004*\"find\" + 0.004*\"determin\" + 0.003*\"incomplet\"\n",
      "2022-02-23 23:49:37,738 : INFO : topic diff=0.455352, rho=0.307119\n",
      "2022-02-23 23:49:37,746 : INFO : PROGRESS: pass 9, at document #2000/3204\n",
      "2022-02-23 23:49:38,939 : INFO : optimized alpha [0.01652204, 0.011621798, 0.009706136, 0.010300859, 0.011853259, 0.010692744, 0.010598981, 0.01162664, 0.011173226, 0.010633905, 0.010280342, 0.013744306, 0.011930481, 0.0121089835, 0.011789439, 0.011553217, 0.010207318, 0.011255634, 0.012683553, 0.011470722, 0.011008561, 0.01166805, 0.010204025, 0.010433257, 0.012688841, 0.01119509, 0.010334483, 0.01168368, 0.009379758, 0.010989134, 0.010497061, 0.0113581875, 0.011992648, 0.012531043, 0.011777967, 0.013000923, 0.013739726, 0.0118308235, 0.011395889, 0.011105071, 0.010309812, 0.012792557, 0.010816033, 0.0111325, 0.010837533, 0.036754966, 0.012345985, 0.011566818, 0.011072075, 0.011249811, 0.0110046165, 0.011600411, 0.01280554, 0.012143634, 0.013526248, 0.010097623, 0.012125238, 0.014571701, 0.010623504, 0.011051984, 0.011194481, 0.010650559, 0.011354453, 0.011366218, 0.011914137, 0.010867247, 0.010608379, 0.016903965, 0.012262819, 0.011385818, 0.014725904, 0.010247212, 0.011301728, 0.011656838, 0.011886086, 0.010684651, 0.010954226, 0.013597094, 0.012019707, 0.010574037, 0.0118220225, 0.010356511, 0.010714321, 0.010320884, 0.012177906, 0.010723703, 0.011538449, 0.010771323, 0.012602664, 0.010125562, 0.011995189, 0.011261329, 0.011845786, 0.012374027, 0.012627256, 0.012426245, 0.01048743, 0.010460317, 0.0108517725, 0.011320046]\n",
      "2022-02-23 23:49:38,962 : INFO : merging changes from 2000 documents into a model of 3204 documents\n",
      "2022-02-23 23:49:38,974 : INFO : topic #28 (0.009): 0.311*\"flow\" + 0.255*\"autom\" + 0.209*\"plot\" + 0.100*\"-\" + 0.042*\"chart\" + 0.011*\"comput\" + 0.006*\"small\" + 0.000*\"incorpor\" + 0.000*\"simpson\" + 0.000*\"polygon\"\n",
      "2022-02-23 23:49:38,977 : INFO : topic #2 (0.010): 0.060*\",\" + 0.043*\"interpret\" + 0.042*\"system\" + 0.032*\"process\" + 0.029*\"hierarch\" + 0.027*\"time\" + 0.027*\"program\" + 0.026*\"sequenti\" + 0.025*\"machin\" + 0.022*\"core\"\n",
      "2022-02-23 23:49:38,982 : INFO : topic #0 (0.017): 0.395*\"method\" + 0.236*\"problem\" + 0.082*\"solut\" + 0.057*\"matric\" + 0.041*\"applic\" + 0.034*\"present\" + 0.034*\"matrix\" + 0.029*\"effici\" + 0.014*\"classic\" + 0.013*\"cost\"\n",
      "2022-02-23 23:49:38,983 : INFO : topic #67 (0.017): 0.260*\"[\" + 0.199*\"algorithm\" + 0.184*\"(\" + 0.155*\"])\" + 0.029*\"matrix\" + 0.025*\"function\" + 0.018*\"a1\" + 0.018*\"eigenvalu\" + 0.014*\"-\" + 0.012*\"s15\"\n",
      "2022-02-23 23:49:38,984 : INFO : topic #45 (0.037): 0.374*\"(\" + 0.363*\")\" + 0.203*\"algorithm\" + 0.014*\"function\" + 0.006*\"-\" + 0.005*\"path\" + 0.004*\"polynomi\" + 0.004*\"determin\" + 0.003*\"incomplet\" + 0.003*\"find\"\n",
      "2022-02-23 23:49:38,985 : INFO : topic diff=0.395456, rho=0.293585\n",
      "2022-02-23 23:49:40,725 : INFO : -6.524 per-word bound, 92.0 perplexity estimate based on a held-out corpus of 1204 documents with 49783 words\n",
      "2022-02-23 23:49:40,726 : INFO : PROGRESS: pass 9, at document #3204/3204\n",
      "2022-02-23 23:49:41,686 : INFO : optimized alpha [0.017051067, 0.011791857, 0.009769381, 0.010427469, 0.012060089, 0.0107710175, 0.010713507, 0.011750228, 0.011301159, 0.010759498, 0.010384251, 0.014069396, 0.012050987, 0.0123957405, 0.011839088, 0.011768635, 0.010308479, 0.011402248, 0.01285207, 0.011651659, 0.011121292, 0.0118656885, 0.01033373, 0.010474509, 0.01280795, 0.011290979, 0.010448494, 0.011875539, 0.009386865, 0.0111348545, 0.010589948, 0.011493296, 0.012169023, 0.012737748, 0.011947694, 0.0132329045, 0.013982052, 0.012002861, 0.011506697, 0.011214231, 0.010432869, 0.013097419, 0.010945412, 0.011322148, 0.010972419, 0.038956843, 0.012567274, 0.011728559, 0.011278565, 0.011416936, 0.011078201, 0.01175049, 0.013002815, 0.012401134, 0.013910864, 0.010132575, 0.012309153, 0.014917364, 0.010702317, 0.011132255, 0.011328521, 0.010757487, 0.01165247, 0.011534908, 0.01215655, 0.010933001, 0.010755321, 0.017113227, 0.012466389, 0.011570706, 0.014956356, 0.010355048, 0.011438268, 0.011810944, 0.012083069, 0.010663005, 0.011067627, 0.013893127, 0.012209548, 0.010650618, 0.0119572375, 0.010437009, 0.010832951, 0.010438422, 0.012336312, 0.01085131, 0.01169092, 0.010887871, 0.012756567, 0.010219942, 0.012184082, 0.011412135, 0.012032013, 0.012585375, 0.012815776, 0.012677839, 0.010620892, 0.010548616, 0.010979224, 0.011396148]\n",
      "2022-02-23 23:49:41,692 : INFO : merging changes from 1204 documents into a model of 3204 documents\n",
      "2022-02-23 23:49:41,701 : INFO : topic #28 (0.009): 0.303*\"flow\" + 0.255*\"autom\" + 0.238*\"plot\" + 0.105*\"-\" + 0.027*\"chart\" + 0.008*\"comput\" + 0.004*\"small\" + 0.000*\"incorpor\" + 0.000*\"simpson\" + 0.000*\"polygon\"\n",
      "2022-02-23 23:49:41,702 : INFO : topic #2 (0.010): 0.062*\",\" + 0.044*\"interpret\" + 0.041*\"system\" + 0.034*\"hierarch\" + 0.029*\"time\" + 0.029*\"sequenti\" + 0.028*\"process\" + 0.027*\"program\" + 0.024*\"machin\" + 0.023*\"environ\"\n",
      "2022-02-23 23:49:41,707 : INFO : topic #0 (0.017): 0.414*\"method\" + 0.226*\"problem\" + 0.078*\"solut\" + 0.052*\"matric\" + 0.043*\"applic\" + 0.034*\"matrix\" + 0.034*\"present\" + 0.029*\"effici\" + 0.016*\"classic\" + 0.013*\"cost\"\n",
      "2022-02-23 23:49:41,708 : INFO : topic #67 (0.017): 0.285*\"[\" + 0.199*\"algorithm\" + 0.175*\"(\" + 0.128*\"])\" + 0.032*\"matrix\" + 0.024*\"function\" + 0.022*\"eigenvalu\" + 0.020*\"a1\" + 0.015*\"-\" + 0.012*\"real\"\n",
      "2022-02-23 23:49:41,709 : INFO : topic #45 (0.039): 0.381*\"(\" + 0.368*\")\" + 0.194*\"algorithm\" + 0.014*\"function\" + 0.006*\"-\" + 0.005*\"path\" + 0.003*\"determin\" + 0.003*\"polynomi\" + 0.003*\"find\" + 0.003*\"incomplet\"\n",
      "2022-02-23 23:49:41,710 : INFO : topic diff=0.399899, rho=0.293585\n",
      "2022-02-23 23:49:41,734 : INFO : PROGRESS: pass 10, at document #2000/3204\n",
      "2022-02-23 23:49:42,659 : INFO : optimized alpha [0.017349321, 0.011889221, 0.009765589, 0.01042623, 0.012062423, 0.010765296, 0.01071551, 0.011810188, 0.011338006, 0.010736317, 0.010383966, 0.014127516, 0.012158776, 0.012386412, 0.0119762365, 0.011878025, 0.010301162, 0.011414048, 0.013000417, 0.011680345, 0.011111023, 0.01187158, 0.010336681, 0.010538459, 0.012978717, 0.011330335, 0.0104221925, 0.011971437, 0.009373176, 0.011206991, 0.010635752, 0.011521599, 0.012245009, 0.012909461, 0.011996583, 0.013324926, 0.01420126, 0.012034208, 0.0115488, 0.011312256, 0.010419785, 0.013081279, 0.010995567, 0.011304792, 0.011016662, 0.041359235, 0.012638374, 0.011801589, 0.011289562, 0.011455002, 0.011118121, 0.011867726, 0.013170174, 0.012510484, 0.014010034, 0.010143534, 0.012359058, 0.015039644, 0.010694944, 0.011241991, 0.011345855, 0.010775887, 0.011766316, 0.011551508, 0.0121406745, 0.011029531, 0.010764413, 0.017594831, 0.012531726, 0.0116758, 0.0152424285, 0.010374991, 0.011446596, 0.011787602, 0.012164284, 0.010778948, 0.011063897, 0.014009421, 0.012286477, 0.010685496, 0.01207481, 0.010444994, 0.010865627, 0.010440127, 0.012491057, 0.010868601, 0.011729778, 0.010954606, 0.0129647525, 0.010213885, 0.012272513, 0.011378071, 0.012083578, 0.01262046, 0.01293189, 0.012760081, 0.010652317, 0.010584576, 0.010992524, 0.011477378]\n",
      "2022-02-23 23:49:42,665 : INFO : merging changes from 2000 documents into a model of 3204 documents\n",
      "2022-02-23 23:49:42,672 : INFO : topic #28 (0.009): 0.311*\"flow\" + 0.255*\"autom\" + 0.209*\"plot\" + 0.102*\"-\" + 0.042*\"chart\" + 0.010*\"comput\" + 0.006*\"small\" + 0.000*\"incorpor\" + 0.000*\"simpson\" + 0.000*\"polygon\"\n",
      "2022-02-23 23:49:42,673 : INFO : topic #2 (0.010): 0.060*\",\" + 0.045*\"interpret\" + 0.043*\"system\" + 0.032*\"process\" + 0.029*\"time\" + 0.029*\"program\" + 0.029*\"hierarch\" + 0.028*\"sequenti\" + 0.026*\"machin\" + 0.024*\"environ\"\n",
      "2022-02-23 23:49:42,673 : INFO : topic #0 (0.017): 0.425*\"method\" + 0.215*\"problem\" + 0.077*\"solut\" + 0.057*\"matric\" + 0.042*\"applic\" + 0.033*\"present\" + 0.033*\"matrix\" + 0.029*\"effici\" + 0.014*\"classic\" + 0.013*\"column\"\n",
      "2022-02-23 23:49:42,674 : INFO : topic #67 (0.018): 0.262*\"[\" + 0.199*\"algorithm\" + 0.185*\"(\" + 0.155*\"])\" + 0.028*\"matrix\" + 0.025*\"function\" + 0.019*\"a1\" + 0.018*\"eigenvalu\" + 0.015*\"-\" + 0.012*\"s15\"\n",
      "2022-02-23 23:49:42,675 : INFO : topic #45 (0.041): 0.381*\"(\" + 0.368*\")\" + 0.197*\"algorithm\" + 0.013*\"function\" + 0.006*\"-\" + 0.004*\"path\" + 0.004*\"determin\" + 0.004*\"incomplet\" + 0.003*\"polynomi\" + 0.002*\"find\"\n",
      "2022-02-23 23:49:42,676 : INFO : topic diff=0.347546, rho=0.281696\n",
      "2022-02-23 23:49:43,825 : INFO : -6.509 per-word bound, 91.1 perplexity estimate based on a held-out corpus of 1204 documents with 49783 words\n",
      "2022-02-23 23:49:43,826 : INFO : PROGRESS: pass 10, at document #3204/3204\n",
      "2022-02-23 23:49:44,699 : INFO : optimized alpha [0.01783413, 0.012060021, 0.009836247, 0.010556337, 0.012263111, 0.01084125, 0.010826309, 0.011927011, 0.011459256, 0.010868083, 0.010494376, 0.014448151, 0.012280965, 0.012680476, 0.012029201, 0.012096574, 0.010406474, 0.011574977, 0.0131575195, 0.0118643, 0.01121765, 0.012066189, 0.010460031, 0.010575883, 0.013093451, 0.011425774, 0.010532638, 0.012158036, 0.009380873, 0.011353649, 0.010725661, 0.011652457, 0.012413349, 0.013119516, 0.012166825, 0.013550706, 0.014437188, 0.01219823, 0.0116560925, 0.011420438, 0.010539046, 0.013378159, 0.011120922, 0.011496855, 0.0111684315, 0.043624453, 0.012853528, 0.01197811, 0.0114957215, 0.01161993, 0.011197213, 0.0120243635, 0.013364921, 0.012786181, 0.014397399, 0.010184937, 0.012537496, 0.0153810205, 0.01077643, 0.011324655, 0.0114757335, 0.010879518, 0.012101269, 0.011717917, 0.01238213, 0.01110067, 0.010924796, 0.017790742, 0.012738221, 0.011861193, 0.015469428, 0.010484345, 0.011584259, 0.01194517, 0.012372982, 0.010755487, 0.011173797, 0.014295144, 0.012470857, 0.010767189, 0.012205799, 0.010522989, 0.010988175, 0.010558889, 0.01264757, 0.010997352, 0.011874835, 0.011080478, 0.013125775, 0.010310182, 0.012461698, 0.011521376, 0.012261479, 0.012822757, 0.013114918, 0.013023371, 0.010786795, 0.010677578, 0.011108207, 0.01155079]\n",
      "2022-02-23 23:49:44,706 : INFO : merging changes from 1204 documents into a model of 3204 documents\n",
      "2022-02-23 23:49:44,713 : INFO : topic #28 (0.009): 0.303*\"flow\" + 0.256*\"autom\" + 0.237*\"plot\" + 0.106*\"-\" + 0.027*\"chart\" + 0.008*\"comput\" + 0.004*\"small\" + 0.000*\"incorpor\" + 0.000*\"simpson\" + 0.000*\"polygon\"\n",
      "2022-02-23 23:49:44,714 : INFO : topic #2 (0.010): 0.062*\",\" + 0.045*\"interpret\" + 0.042*\"system\" + 0.033*\"hierarch\" + 0.031*\"time\" + 0.030*\"sequenti\" + 0.029*\"program\" + 0.028*\"process\" + 0.025*\"machin\" + 0.024*\"environ\"\n",
      "2022-02-23 23:49:44,717 : INFO : topic #67 (0.018): 0.285*\"[\" + 0.198*\"algorithm\" + 0.177*\"(\" + 0.129*\"])\" + 0.031*\"matrix\" + 0.024*\"function\" + 0.022*\"eigenvalu\" + 0.020*\"a1\" + 0.016*\"-\" + 0.012*\"real\"\n",
      "2022-02-23 23:49:44,719 : INFO : topic #0 (0.018): 0.447*\"method\" + 0.202*\"problem\" + 0.071*\"solut\" + 0.052*\"matric\" + 0.044*\"applic\" + 0.035*\"matrix\" + 0.033*\"present\" + 0.028*\"effici\" + 0.016*\"classic\" + 0.013*\"column\"\n",
      "2022-02-23 23:49:44,720 : INFO : topic #45 (0.044): 0.387*\"(\" + 0.374*\")\" + 0.189*\"algorithm\" + 0.013*\"function\" + 0.006*\"-\" + 0.004*\"path\" + 0.004*\"determin\" + 0.003*\"incomplet\" + 0.002*\"span\" + 0.002*\"polynomi\"\n",
      "2022-02-23 23:49:44,723 : INFO : topic diff=0.353006, rho=0.281696\n",
      "2022-02-23 23:49:44,732 : INFO : PROGRESS: pass 11, at document #2000/3204\n",
      "2022-02-23 23:49:46,063 : INFO : optimized alpha [0.018133804, 0.012153111, 0.009835615, 0.010559371, 0.01226982, 0.010839145, 0.010829804, 0.011983559, 0.011491843, 0.010845613, 0.010497099, 0.014499448, 0.01238749, 0.01267167, 0.01216445, 0.012203128, 0.010400929, 0.0115955835, 0.013302176, 0.011893407, 0.011212454, 0.012071355, 0.0104699945, 0.010635285, 0.0132654095, 0.011468735, 0.010516029, 0.012252909, 0.009368493, 0.011425312, 0.010767298, 0.011686202, 0.012485327, 0.013289274, 0.012217307, 0.013645462, 0.0146578355, 0.012228365, 0.011703382, 0.011526638, 0.010527864, 0.013360947, 0.011169548, 0.0114795035, 0.011212755, 0.04608678, 0.012925714, 0.012057196, 0.011507308, 0.011654985, 0.011229977, 0.012148427, 0.013530341, 0.012904927, 0.014494814, 0.010198815, 0.012592462, 0.015511942, 0.010774068, 0.011433039, 0.011494063, 0.010901913, 0.012238888, 0.011735354, 0.012364062, 0.011196154, 0.01094687, 0.018254932, 0.0128012495, 0.011971598, 0.015750455, 0.010519301, 0.011592275, 0.011928998, 0.012461803, 0.01087117, 0.011168773, 0.014407839, 0.012550459, 0.010805555, 0.012325386, 0.010530954, 0.011024253, 0.010566273, 0.012802183, 0.01101402, 0.01191559, 0.011148311, 0.013333423, 0.010308753, 0.012550795, 0.011490009, 0.012312904, 0.012857968, 0.013234849, 0.013106316, 0.010823044, 0.010718364, 0.011122632, 0.011632961]\n",
      "2022-02-23 23:49:46,073 : INFO : merging changes from 2000 documents into a model of 3204 documents\n",
      "2022-02-23 23:49:46,087 : INFO : topic #28 (0.009): 0.310*\"flow\" + 0.256*\"autom\" + 0.209*\"plot\" + 0.102*\"-\" + 0.041*\"chart\" + 0.010*\"comput\" + 0.006*\"small\" + 0.000*\"incorpor\" + 0.000*\"simpson\" + 0.000*\"polygon\"\n",
      "2022-02-23 23:49:46,088 : INFO : topic #2 (0.010): 0.060*\",\" + 0.045*\"interpret\" + 0.045*\"system\" + 0.031*\"time\" + 0.031*\"process\" + 0.030*\"program\" + 0.029*\"sequenti\" + 0.028*\"hierarch\" + 0.027*\"machin\" + 0.025*\"environ\"\n",
      "2022-02-23 23:49:46,092 : INFO : topic #0 (0.018): 0.459*\"method\" + 0.191*\"problem\" + 0.068*\"solut\" + 0.058*\"matric\" + 0.043*\"applic\" + 0.034*\"matrix\" + 0.032*\"present\" + 0.029*\"effici\" + 0.014*\"classic\" + 0.013*\"column\"\n",
      "2022-02-23 23:49:46,093 : INFO : topic #67 (0.018): 0.263*\"[\" + 0.198*\"algorithm\" + 0.187*\"(\" + 0.155*\"])\" + 0.026*\"matrix\" + 0.025*\"function\" + 0.019*\"a1\" + 0.018*\"eigenvalu\" + 0.015*\"-\" + 0.012*\"s15\"\n",
      "2022-02-23 23:49:46,096 : INFO : topic #45 (0.046): 0.386*\"(\" + 0.373*\")\" + 0.193*\"algorithm\" + 0.012*\"function\" + 0.006*\"-\" + 0.004*\"determin\" + 0.004*\"path\" + 0.004*\"incomplet\" + 0.002*\"span\" + 0.002*\"polynomi\"\n",
      "2022-02-23 23:49:46,097 : INFO : topic diff=0.307178, rho=0.271143\n",
      "2022-02-23 23:49:47,110 : INFO : -6.498 per-word bound, 90.4 perplexity estimate based on a held-out corpus of 1204 documents with 49783 words\n",
      "2022-02-23 23:49:47,111 : INFO : PROGRESS: pass 11, at document #3204/3204\n",
      "2022-02-23 23:49:47,853 : INFO : optimized alpha [0.018573543, 0.012325055, 0.009908844, 0.0106858015, 0.012468076, 0.010917973, 0.010942176, 0.01209695, 0.011606988, 0.010973686, 0.010616404, 0.014803403, 0.0125031825, 0.012959221, 0.01221811, 0.012433534, 0.010500855, 0.011757332, 0.013460524, 0.012078088, 0.011316034, 0.012258196, 0.010589831, 0.010674032, 0.013376253, 0.011571663, 0.010623355, 0.0124375075, 0.0093766935, 0.011573257, 0.010859471, 0.01182129, 0.012651915, 0.013506278, 0.012382963, 0.013862491, 0.014887784, 0.012387859, 0.011810104, 0.011628962, 0.010650896, 0.01364777, 0.011298977, 0.011663925, 0.01137594, 0.04834202, 0.013132719, 0.012234789, 0.011718901, 0.0118235, 0.011309341, 0.012306365, 0.01371694, 0.013181519, 0.014888993, 0.010243896, 0.012763235, 0.015871385, 0.010853295, 0.011513029, 0.011620243, 0.011010048, 0.012640252, 0.011899947, 0.0125994915, 0.011257269, 0.011113103, 0.018433936, 0.012991003, 0.0121606365, 0.01597471, 0.010632684, 0.011723455, 0.012081994, 0.0126741, 0.010848434, 0.011275504, 0.014690321, 0.012732835, 0.010887307, 0.012458109, 0.0106067555, 0.011148298, 0.010688844, 0.012951373, 0.011144201, 0.01206196, 0.01127572, 0.0135045685, 0.010397575, 0.012735093, 0.011634484, 0.012494332, 0.013063515, 0.013421975, 0.013369774, 0.010966174, 0.010818399, 0.011242545, 0.011706699]\n",
      "2022-02-23 23:49:47,860 : INFO : merging changes from 1204 documents into a model of 3204 documents\n",
      "2022-02-23 23:49:47,868 : INFO : topic #28 (0.009): 0.303*\"flow\" + 0.256*\"autom\" + 0.236*\"plot\" + 0.106*\"-\" + 0.027*\"chart\" + 0.008*\"comput\" + 0.004*\"small\" + 0.000*\"incorpor\" + 0.000*\"simpson\" + 0.000*\"polygon\"\n",
      "2022-02-23 23:49:47,868 : INFO : topic #2 (0.010): 0.063*\",\" + 0.045*\"interpret\" + 0.044*\"system\" + 0.032*\"time\" + 0.032*\"hierarch\" + 0.031*\"sequenti\" + 0.030*\"program\" + 0.027*\"process\" + 0.026*\"machin\" + 0.025*\"environ\"\n",
      "2022-02-23 23:49:47,870 : INFO : topic #67 (0.018): 0.286*\"[\" + 0.198*\"algorithm\" + 0.178*\"(\" + 0.130*\"])\" + 0.028*\"matrix\" + 0.024*\"function\" + 0.022*\"eigenvalu\" + 0.020*\"a1\" + 0.016*\"-\" + 0.012*\"real\"\n",
      "2022-02-23 23:49:47,872 : INFO : topic #0 (0.019): 0.486*\"method\" + 0.174*\"problem\" + 0.061*\"solut\" + 0.054*\"matric\" + 0.044*\"applic\" + 0.036*\"matrix\" + 0.031*\"present\" + 0.028*\"effici\" + 0.017*\"classic\" + 0.014*\"column\"\n",
      "2022-02-23 23:49:47,874 : INFO : topic #45 (0.048): 0.392*\"(\" + 0.379*\")\" + 0.183*\"algorithm\" + 0.012*\"function\" + 0.006*\"-\" + 0.003*\"determin\" + 0.003*\"incomplet\" + 0.003*\"path\" + 0.002*\"span\" + 0.002*\"find\"\n",
      "2022-02-23 23:49:47,875 : INFO : topic diff=0.313519, rho=0.271143\n",
      "2022-02-23 23:49:47,883 : INFO : PROGRESS: pass 12, at document #2000/3204\n",
      "2022-02-23 23:49:49,202 : INFO : optimized alpha [0.01886013, 0.012419071, 0.009912406, 0.010691476, 0.012475674, 0.010917741, 0.010945568, 0.012151988, 0.011635602, 0.010954822, 0.010616143, 0.01486002, 0.012610404, 0.012950934, 0.012353479, 0.012534244, 0.010501164, 0.011781761, 0.01360008, 0.012112382, 0.01130672, 0.012261148, 0.01059951, 0.010736191, 0.013541019, 0.011614983, 0.010605982, 0.0125347255, 0.009365465, 0.011650537, 0.010901483, 0.011850882, 0.012725169, 0.013677977, 0.01243183, 0.013952607, 0.015104445, 0.012416883, 0.011856152, 0.0117326705, 0.010644184, 0.013629556, 0.011347716, 0.011646612, 0.011426383, 0.050860923, 0.013202626, 0.012323066, 0.011738736, 0.011860481, 0.011351794, 0.012426059, 0.013880811, 0.013309547, 0.014982695, 0.010259112, 0.012813082, 0.01600479, 0.010855624, 0.01162786, 0.011638045, 0.011031846, 0.012800711, 0.011919694, 0.012584347, 0.0113607915, 0.011134272, 0.018888026, 0.013052007, 0.012277923, 0.016255422, 0.010669506, 0.011740441, 0.012069356, 0.012762182, 0.010961255, 0.011270778, 0.014799695, 0.012810193, 0.010924756, 0.012579888, 0.010621746, 0.011178869, 0.01070161, 0.013107863, 0.011163227, 0.012103023, 0.011350663, 0.013715656, 0.010399148, 0.012818437, 0.011600954, 0.012542387, 0.013095532, 0.013542603, 0.013460592, 0.011005682, 0.010866619, 0.011258045, 0.011786845]\n",
      "2022-02-23 23:49:49,208 : INFO : merging changes from 2000 documents into a model of 3204 documents\n",
      "2022-02-23 23:49:49,215 : INFO : topic #28 (0.009): 0.310*\"flow\" + 0.256*\"autom\" + 0.210*\"plot\" + 0.103*\"-\" + 0.041*\"chart\" + 0.010*\"comput\" + 0.006*\"small\" + 0.000*\"incorpor\" + 0.000*\"simpson\" + 0.000*\"polygon\"\n",
      "2022-02-23 23:49:49,216 : INFO : topic #2 (0.010): 0.061*\",\" + 0.046*\"system\" + 0.045*\"interpret\" + 0.033*\"time\" + 0.031*\"program\" + 0.030*\"sequenti\" + 0.030*\"process\" + 0.029*\"machin\" + 0.027*\"hierarch\" + 0.026*\"environ\"\n",
      "2022-02-23 23:49:49,218 : INFO : topic #67 (0.019): 0.265*\"[\" + 0.198*\"algorithm\" + 0.187*\"(\" + 0.155*\"])\" + 0.025*\"function\" + 0.024*\"matrix\" + 0.019*\"a1\" + 0.019*\"eigenvalu\" + 0.015*\"-\" + 0.012*\"s15\"\n",
      "2022-02-23 23:49:49,219 : INFO : topic #0 (0.019): 0.500*\"method\" + 0.163*\"problem\" + 0.060*\"matric\" + 0.056*\"solut\" + 0.043*\"applic\" + 0.035*\"matrix\" + 0.031*\"present\" + 0.028*\"effici\" + 0.015*\"classic\" + 0.013*\"column\"\n",
      "2022-02-23 23:49:49,221 : INFO : topic #45 (0.051): 0.390*\"(\" + 0.377*\")\" + 0.188*\"algorithm\" + 0.011*\"function\" + 0.006*\"-\" + 0.004*\"determin\" + 0.004*\"incomplet\" + 0.003*\"path\" + 0.002*\"span\" + 0.002*\"ratio\"\n",
      "2022-02-23 23:49:49,223 : INFO : topic diff=0.274305, rho=0.261694\n",
      "2022-02-23 23:49:50,274 : INFO : -6.488 per-word bound, 89.7 perplexity estimate based on a held-out corpus of 1204 documents with 49783 words\n",
      "2022-02-23 23:49:50,274 : INFO : PROGRESS: pass 12, at document #3204/3204\n",
      "2022-02-23 23:49:51,062 : INFO : optimized alpha [0.019312004, 0.01259796, 0.009992458, 0.010821754, 0.012669202, 0.01099703, 0.011054954, 0.012262231, 0.011750332, 0.011084448, 0.0107301, 0.01516105, 0.012720075, 0.01323555, 0.012413225, 0.012768464, 0.010598445, 0.011939498, 0.013754114, 0.012295535, 0.011407583, 0.01245411, 0.010716264, 0.010773832, 0.013651282, 0.011712531, 0.010726818, 0.012712412, 0.009374098, 0.011802517, 0.010991208, 0.011977317, 0.012884855, 0.013899209, 0.012590662, 0.014170842, 0.015329, 0.012572355, 0.011965253, 0.011844876, 0.010771054, 0.013913089, 0.011481218, 0.011829148, 0.011611108, 0.053090714, 0.013410629, 0.012515724, 0.01196117, 0.012032764, 0.011426554, 0.012582927, 0.014062827, 0.013584532, 0.015377788, 0.010294151, 0.012982235, 0.016365554, 0.0109304255, 0.011710462, 0.011763455, 0.011142079, 0.013235039, 0.012077595, 0.012822794, 0.011417494, 0.011328449, 0.01905904, 0.01323711, 0.012481546, 0.016491458, 0.0107800355, 0.01186563, 0.0122290095, 0.012978309, 0.010939106, 0.011372272, 0.015079783, 0.012988278, 0.011004324, 0.01270909, 0.010697899, 0.011289934, 0.010818768, 0.013255986, 0.011292547, 0.012245661, 0.01147483, 0.013894366, 0.010490272, 0.012995476, 0.011741693, 0.012711238, 0.013290557, 0.013716407, 0.013718853, 0.011150271, 0.010971194, 0.011369921, 0.011860919]\n",
      "2022-02-23 23:49:51,070 : INFO : merging changes from 1204 documents into a model of 3204 documents\n",
      "2022-02-23 23:49:51,080 : INFO : topic #28 (0.009): 0.303*\"flow\" + 0.256*\"autom\" + 0.236*\"plot\" + 0.107*\"-\" + 0.028*\"chart\" + 0.007*\"comput\" + 0.004*\"small\" + 0.000*\"incorpor\" + 0.000*\"simpson\" + 0.000*\"polygon\"\n",
      "2022-02-23 23:49:51,085 : INFO : topic #2 (0.010): 0.063*\",\" + 0.045*\"interpret\" + 0.045*\"system\" + 0.033*\"sequenti\" + 0.033*\"time\" + 0.031*\"hierarch\" + 0.030*\"program\" + 0.028*\"machin\" + 0.027*\"process\" + 0.026*\"environ\"\n",
      "2022-02-23 23:49:51,087 : INFO : topic #67 (0.019): 0.286*\"[\" + 0.198*\"algorithm\" + 0.179*\"(\" + 0.131*\"])\" + 0.026*\"matrix\" + 0.025*\"function\" + 0.022*\"eigenvalu\" + 0.020*\"a1\" + 0.016*\"-\" + 0.012*\"real\"\n",
      "2022-02-23 23:49:51,088 : INFO : topic #0 (0.019): 0.531*\"method\" + 0.143*\"problem\" + 0.055*\"matric\" + 0.047*\"solut\" + 0.044*\"applic\" + 0.037*\"matrix\" + 0.030*\"present\" + 0.028*\"effici\" + 0.018*\"classic\" + 0.014*\"column\"\n",
      "2022-02-23 23:49:51,089 : INFO : topic #45 (0.053): 0.395*\"(\" + 0.382*\")\" + 0.180*\"algorithm\" + 0.010*\"function\" + 0.007*\"-\" + 0.004*\"determin\" + 0.003*\"incomplet\" + 0.003*\"path\" + 0.002*\"span\" + 0.002*\"6\"\n",
      "2022-02-23 23:49:51,090 : INFO : topic diff=0.280923, rho=0.261694\n",
      "2022-02-23 23:49:51,103 : INFO : PROGRESS: pass 13, at document #2000/3204\n",
      "2022-02-23 23:49:51,992 : INFO : optimized alpha [0.019607931, 0.012688148, 0.009999924, 0.010827184, 0.012679319, 0.010999944, 0.011059707, 0.012312789, 0.011784211, 0.011064643, 0.010736673, 0.015215172, 0.0128216855, 0.013229505, 0.012550518, 0.012871721, 0.01059884, 0.011963068, 0.013887212, 0.0123255765, 0.011403059, 0.012458078, 0.010728411, 0.010836049, 0.013816195, 0.011756322, 0.010711299, 0.012810609, 0.009363899, 0.011877983, 0.011032257, 0.012007623, 0.01296281, 0.014071399, 0.012639674, 0.0142677, 0.015538054, 0.01260041, 0.012020953, 0.011952326, 0.010764482, 0.013895752, 0.011531588, 0.01181185, 0.01166451, 0.055652335, 0.013480193, 0.012609871, 0.01198441, 0.0120731825, 0.011472495, 0.012703335, 0.014228916, 0.013718704, 0.015471983, 0.010310697, 0.013020626, 0.016512124, 0.010933013, 0.01181993, 0.0117822215, 0.011167569, 0.013422453, 0.012098142, 0.0128071215, 0.0115217585, 0.011351556, 0.019505987, 0.013296297, 0.012612209, 0.016770337, 0.010820042, 0.011886658, 0.012219684, 0.013073987, 0.011049367, 0.011369299, 0.015184167, 0.013060316, 0.0110422885, 0.012831638, 0.010712737, 0.011321166, 0.010831132, 0.013414515, 0.011312415, 0.012284007, 0.011553981, 0.014114523, 0.010495944, 0.01307505, 0.011707562, 0.012756241, 0.013319636, 0.0138273025, 0.013815881, 0.011190144, 0.011018289, 0.0113850115, 0.011940744]\n",
      "2022-02-23 23:49:52,004 : INFO : merging changes from 2000 documents into a model of 3204 documents\n",
      "2022-02-23 23:49:52,013 : INFO : topic #28 (0.009): 0.310*\"flow\" + 0.256*\"autom\" + 0.210*\"plot\" + 0.104*\"-\" + 0.041*\"chart\" + 0.009*\"comput\" + 0.005*\"small\" + 0.000*\"incorpor\" + 0.000*\"simpson\" + 0.000*\"polygon\"\n",
      "2022-02-23 23:49:52,013 : INFO : topic #2 (0.010): 0.062*\",\" + 0.046*\"system\" + 0.045*\"interpret\" + 0.034*\"time\" + 0.032*\"sequenti\" + 0.031*\"program\" + 0.030*\"process\" + 0.030*\"machin\" + 0.027*\"hierarch\" + 0.026*\"environ\"\n",
      "2022-02-23 23:49:52,017 : INFO : topic #67 (0.020): 0.266*\"[\" + 0.198*\"algorithm\" + 0.188*\"(\" + 0.155*\"])\" + 0.026*\"function\" + 0.023*\"matrix\" + 0.019*\"a1\" + 0.019*\"eigenvalu\" + 0.015*\"-\" + 0.012*\"s15\"\n",
      "2022-02-23 23:49:52,019 : INFO : topic #0 (0.020): 0.544*\"method\" + 0.133*\"problem\" + 0.061*\"matric\" + 0.044*\"applic\" + 0.042*\"solut\" + 0.036*\"matrix\" + 0.030*\"present\" + 0.028*\"effici\" + 0.016*\"classic\" + 0.014*\"column\"\n",
      "2022-02-23 23:49:52,020 : INFO : topic #45 (0.056): 0.393*\"(\" + 0.380*\")\" + 0.186*\"algorithm\" + 0.010*\"function\" + 0.007*\"-\" + 0.004*\"determin\" + 0.004*\"incomplet\" + 0.002*\"path\" + 0.002*\"span\" + 0.002*\"ratio\"\n",
      "2022-02-23 23:49:52,022 : INFO : topic diff=0.247458, rho=0.253169\n",
      "2022-02-23 23:49:53,030 : INFO : -6.478 per-word bound, 89.2 perplexity estimate based on a held-out corpus of 1204 documents with 49783 words\n",
      "2022-02-23 23:49:53,031 : INFO : PROGRESS: pass 13, at document #3204/3204\n",
      "2022-02-23 23:49:53,820 : INFO : optimized alpha [0.02009784, 0.0128741, 0.010080242, 0.01096132, 0.012857683, 0.011082079, 0.011166416, 0.012422896, 0.011896154, 0.011193589, 0.010857124, 0.015507432, 0.012931198, 0.013508719, 0.0126108965, 0.013104754, 0.010704985, 0.012114716, 0.014034541, 0.012515343, 0.011496678, 0.012646927, 0.010847046, 0.010875029, 0.013926027, 0.011846457, 0.010836103, 0.012989888, 0.009372939, 0.012031692, 0.011124473, 0.012138714, 0.013118867, 0.01429416, 0.012802709, 0.014490554, 0.01576077, 0.012749608, 0.012132556, 0.012064271, 0.010890656, 0.014170699, 0.011662001, 0.011997803, 0.011858165, 0.05782044, 0.013698233, 0.012828373, 0.012215427, 0.012241811, 0.011542946, 0.012870017, 0.014400734, 0.014010332, 0.015865523, 0.010351728, 0.013177464, 0.01686403, 0.011003795, 0.0119101675, 0.011907208, 0.0112799, 0.0138946865, 0.012257573, 0.013035265, 0.011579172, 0.01155897, 0.019669492, 0.01347175, 0.012830754, 0.017011592, 0.010930264, 0.012006394, 0.012375629, 0.013285992, 0.011027831, 0.01146833, 0.015462146, 0.013239925, 0.01112456, 0.012957651, 0.010791613, 0.011436729, 0.010954681, 0.013561676, 0.011450776, 0.012418111, 0.011682655, 0.01429813, 0.010580388, 0.013248067, 0.011842399, 0.012921303, 0.013513114, 0.01400281, 0.014072567, 0.011338635, 0.011122764, 0.011496673, 0.012012857]\n",
      "2022-02-23 23:49:53,826 : INFO : merging changes from 1204 documents into a model of 3204 documents\n",
      "2022-02-23 23:49:53,834 : INFO : topic #28 (0.009): 0.303*\"flow\" + 0.256*\"autom\" + 0.235*\"plot\" + 0.107*\"-\" + 0.028*\"chart\" + 0.007*\"comput\" + 0.004*\"small\" + 0.000*\"incorpor\" + 0.000*\"simpson\" + 0.000*\"polygon\"\n",
      "2022-02-23 23:49:53,835 : INFO : topic #2 (0.010): 0.064*\",\" + 0.045*\"interpret\" + 0.045*\"system\" + 0.036*\"sequenti\" + 0.034*\"time\" + 0.030*\"hierarch\" + 0.030*\"program\" + 0.029*\"machin\" + 0.027*\"process\" + 0.027*\"environ\"\n",
      "2022-02-23 23:49:53,836 : INFO : topic #67 (0.020): 0.286*\"[\" + 0.198*\"algorithm\" + 0.179*\"(\" + 0.132*\"])\" + 0.025*\"function\" + 0.025*\"matrix\" + 0.022*\"eigenvalu\" + 0.020*\"a1\" + 0.016*\"-\" + 0.012*\"real\"\n",
      "2022-02-23 23:49:53,836 : INFO : topic #0 (0.020): 0.574*\"method\" + 0.116*\"problem\" + 0.056*\"matric\" + 0.044*\"applic\" + 0.036*\"matrix\" + 0.033*\"solut\" + 0.029*\"present\" + 0.028*\"effici\" + 0.018*\"classic\" + 0.013*\"column\"\n",
      "2022-02-23 23:49:53,837 : INFO : topic #45 (0.058): 0.398*\"(\" + 0.384*\")\" + 0.177*\"algorithm\" + 0.009*\"function\" + 0.007*\"-\" + 0.004*\"determin\" + 0.003*\"incomplet\" + 0.002*\"span\" + 0.002*\"path\" + 0.002*\"6\"\n",
      "2022-02-23 23:49:53,838 : INFO : topic diff=0.254204, rho=0.253169\n",
      "2022-02-23 23:49:53,847 : INFO : PROGRESS: pass 14, at document #2000/3204\n",
      "2022-02-23 23:49:55,011 : INFO : optimized alpha [0.020398742, 0.012968673, 0.010086476, 0.010965083, 0.012865558, 0.011086592, 0.011171077, 0.0124692395, 0.011930696, 0.011175688, 0.010866166, 0.015557447, 0.013033909, 0.013504916, 0.01274243, 0.01320907, 0.010709357, 0.012140511, 0.014164985, 0.012545744, 0.011492487, 0.012651892, 0.010860197, 0.010933311, 0.014094735, 0.011892244, 0.010820957, 0.013084363, 0.009363661, 0.012106996, 0.011166003, 0.012177202, 0.013199947, 0.014465279, 0.012855118, 0.014581334, 0.015968427, 0.012776821, 0.012184032, 0.012176974, 0.010886851, 0.014152581, 0.011711205, 0.011984824, 0.011923296, 0.06040852, 0.013774275, 0.012937971, 0.012237483, 0.012282569, 0.011593737, 0.012988114, 0.014563939, 0.014152569, 0.015958354, 0.010369496, 0.013213035, 0.017013421, 0.011005253, 0.012023358, 0.011926948, 0.011309002, 0.014081042, 0.012283448, 0.013015947, 0.01168282, 0.011585302, 0.020112047, 0.013529283, 0.0129655395, 0.017286906, 0.0109761, 0.012031409, 0.012369385, 0.013379521, 0.011139801, 0.0114627965, 0.015561842, 0.01331497, 0.011164464, 0.013082645, 0.010808921, 0.01146571, 0.01096532, 0.01372255, 0.011474268, 0.012456983, 0.011764533, 0.014520717, 0.010587388, 0.013330574, 0.011812127, 0.012963421, 0.013539414, 0.01410962, 0.01416722, 0.011384447, 0.011171568, 0.011517099, 0.012094]\n",
      "2022-02-23 23:49:55,074 : INFO : merging changes from 2000 documents into a model of 3204 documents\n",
      "2022-02-23 23:49:55,113 : INFO : topic #28 (0.009): 0.309*\"flow\" + 0.256*\"autom\" + 0.211*\"plot\" + 0.104*\"-\" + 0.041*\"chart\" + 0.009*\"comput\" + 0.005*\"small\" + 0.000*\"incorpor\" + 0.000*\"simpson\" + 0.000*\"polygon\"\n",
      "2022-02-23 23:49:55,115 : INFO : topic #2 (0.010): 0.062*\",\" + 0.046*\"system\" + 0.045*\"interpret\" + 0.034*\"sequenti\" + 0.034*\"time\" + 0.031*\"machin\" + 0.031*\"program\" + 0.030*\"process\" + 0.027*\"environ\" + 0.026*\"hierarch\"\n",
      "2022-02-23 23:49:55,120 : INFO : topic #67 (0.020): 0.266*\"[\" + 0.197*\"algorithm\" + 0.188*\"(\" + 0.155*\"])\" + 0.026*\"function\" + 0.022*\"matrix\" + 0.019*\"a1\" + 0.019*\"eigenvalu\" + 0.015*\"-\" + 0.012*\"s15\"\n",
      "2022-02-23 23:49:55,125 : INFO : topic #0 (0.020): 0.584*\"method\" + 0.108*\"problem\" + 0.062*\"matric\" + 0.043*\"applic\" + 0.034*\"matrix\" + 0.031*\"solut\" + 0.029*\"present\" + 0.028*\"effici\" + 0.016*\"classic\" + 0.013*\"column\"\n",
      "2022-02-23 23:49:55,127 : INFO : topic #45 (0.060): 0.396*\"(\" + 0.382*\")\" + 0.183*\"algorithm\" + 0.008*\"function\" + 0.007*\"-\" + 0.004*\"determin\" + 0.004*\"incomplet\" + 0.002*\"span\" + 0.002*\"path\" + 0.002*\"ratio\"\n",
      "2022-02-23 23:49:55,128 : INFO : topic diff=0.225075, rho=0.245426\n",
      "2022-02-23 23:49:56,345 : INFO : -6.471 per-word bound, 88.7 perplexity estimate based on a held-out corpus of 1204 documents with 49783 words\n",
      "2022-02-23 23:49:56,346 : INFO : PROGRESS: pass 14, at document #3204/3204\n",
      "2022-02-23 23:49:57,296 : INFO : optimized alpha [0.02089091, 0.013153939, 0.010175463, 0.011096413, 0.013042865, 0.011171568, 0.011275381, 0.012571681, 0.012032741, 0.011301763, 0.010984051, 0.015851121, 0.013146155, 0.013787765, 0.012798383, 0.013446594, 0.010815373, 0.012291475, 0.014314573, 0.012734493, 0.011586387, 0.012849938, 0.010987531, 0.01097139, 0.0142044565, 0.011985185, 0.010949721, 0.013260113, 0.00937304, 0.012260159, 0.011256163, 0.0123078795, 0.0133553315, 0.014692843, 0.013014813, 0.014788037, 0.016183136, 0.012922794, 0.012290565, 0.012288735, 0.011008079, 0.014425322, 0.011841209, 0.01216951, 0.012138373, 0.06255383, 0.013991175, 0.013158621, 0.012472356, 0.01245041, 0.011669732, 0.013159306, 0.014725936, 0.014438073, 0.016350653, 0.010409748, 0.013358397, 0.017378181, 0.011079067, 0.012111381, 0.012046737, 0.0114166085, 0.014567156, 0.012449734, 0.013242413, 0.011743469, 0.011815492, 0.020268297, 0.013698232, 0.0132045625, 0.017522957, 0.011086157, 0.012160856, 0.012521999, 0.013587818, 0.011121056, 0.011552572, 0.015828518, 0.013490931, 0.011254001, 0.013208443, 0.010883783, 0.011581093, 0.011088421, 0.013860836, 0.011607438, 0.012593253, 0.011890543, 0.014715351, 0.010676538, 0.013491813, 0.0119488295, 0.013130298, 0.013723365, 0.014278629, 0.014422715, 0.011532325, 0.0112783145, 0.011623968, 0.012166785]\n",
      "2022-02-23 23:49:57,304 : INFO : merging changes from 1204 documents into a model of 3204 documents\n",
      "2022-02-23 23:49:57,315 : INFO : topic #28 (0.009): 0.303*\"flow\" + 0.256*\"autom\" + 0.234*\"plot\" + 0.107*\"-\" + 0.028*\"chart\" + 0.007*\"comput\" + 0.004*\"small\" + 0.000*\"incorpor\" + 0.000*\"simpson\" + 0.000*\"polygon\"\n",
      "2022-02-23 23:49:57,316 : INFO : topic #2 (0.010): 0.064*\",\" + 0.046*\"system\" + 0.045*\"interpret\" + 0.037*\"sequenti\" + 0.034*\"time\" + 0.030*\"program\" + 0.030*\"machin\" + 0.030*\"hierarch\" + 0.028*\"run\" + 0.027*\"environ\"\n",
      "2022-02-23 23:49:57,317 : INFO : topic #67 (0.020): 0.287*\"[\" + 0.198*\"algorithm\" + 0.180*\"(\" + 0.133*\"])\" + 0.024*\"function\" + 0.024*\"matrix\" + 0.022*\"eigenvalu\" + 0.020*\"a1\" + 0.016*\"-\" + 0.012*\"s22\"\n",
      "2022-02-23 23:49:57,317 : INFO : topic #0 (0.021): 0.610*\"method\" + 0.096*\"problem\" + 0.057*\"matric\" + 0.042*\"applic\" + 0.034*\"matrix\" + 0.029*\"effici\" + 0.028*\"present\" + 0.024*\"solut\" + 0.018*\"classic\" + 0.013*\"column\"\n",
      "2022-02-23 23:49:57,318 : INFO : topic #45 (0.063): 0.401*\"(\" + 0.387*\")\" + 0.175*\"algorithm\" + 0.008*\"function\" + 0.007*\"-\" + 0.004*\"determin\" + 0.003*\"incomplet\" + 0.002*\"span\" + 0.002*\"path\" + 0.002*\"6\"\n",
      "2022-02-23 23:49:57,319 : INFO : topic diff=0.231676, rho=0.245426\n",
      "2022-02-23 23:49:57,327 : INFO : PROGRESS: pass 15, at document #2000/3204\n",
      "2022-02-23 23:49:58,196 : INFO : optimized alpha [0.021199673, 0.013245083, 0.010186545, 0.011102613, 0.013051758, 0.011176165, 0.011278649, 0.012621556, 0.012063675, 0.0112856105, 0.010992865, 0.015902853, 0.01324536, 0.013784456, 0.012927549, 0.013552067, 0.010820971, 0.012318019, 0.014442594, 0.012768541, 0.011581087, 0.012851197, 0.011002955, 0.011029881, 0.014375549, 0.0120286355, 0.010936172, 0.013355817, 0.009364598, 0.012341161, 0.011296848, 0.012346893, 0.013433078, 0.014864926, 0.013064357, 0.0148785, 0.016389562, 0.0129507845, 0.012346925, 0.012402347, 0.011005626, 0.014406412, 0.011890745, 0.012157835, 0.012209307, 0.06514482, 0.014068615, 0.01327268, 0.012494694, 0.012491563, 0.0117195705, 0.013281596, 0.014884717, 0.014578105, 0.016440365, 0.010427431, 0.013396321, 0.017536845, 0.011084783, 0.012221124, 0.012068852, 0.0114464285, 0.014761038, 0.012474749, 0.013222762, 0.011843877, 0.011849163, 0.020706756, 0.01375597, 0.0133467885, 0.017796943, 0.011129703, 0.012186711, 0.012517209, 0.013677717, 0.011232187, 0.0115529215, 0.015925644, 0.013564289, 0.011295835, 0.013331269, 0.010902182, 0.011612186, 0.011100068, 0.01402081, 0.011628884, 0.012635671, 0.011976595, 0.014942424, 0.010680959, 0.013572536, 0.011922168, 0.013177504, 0.013750345, 0.014386766, 0.014518593, 0.011575662, 0.011331429, 0.011641203, 0.0122463675]\n",
      "2022-02-23 23:49:58,202 : INFO : merging changes from 2000 documents into a model of 3204 documents\n",
      "2022-02-23 23:49:58,213 : INFO : topic #28 (0.009): 0.310*\"flow\" + 0.256*\"autom\" + 0.211*\"plot\" + 0.104*\"-\" + 0.040*\"chart\" + 0.009*\"comput\" + 0.005*\"small\" + 0.000*\"incorpor\" + 0.000*\"simpson\" + 0.000*\"polygon\"\n",
      "2022-02-23 23:49:58,216 : INFO : topic #2 (0.010): 0.062*\",\" + 0.047*\"system\" + 0.045*\"interpret\" + 0.036*\"sequenti\" + 0.034*\"time\" + 0.032*\"machin\" + 0.031*\"program\" + 0.030*\"process\" + 0.028*\"environ\" + 0.028*\"run\"\n",
      "2022-02-23 23:49:58,217 : INFO : topic #67 (0.021): 0.267*\"[\" + 0.197*\"algorithm\" + 0.188*\"(\" + 0.155*\"])\" + 0.025*\"function\" + 0.021*\"matrix\" + 0.019*\"a1\" + 0.019*\"eigenvalu\" + 0.015*\"-\" + 0.012*\"s15\"\n",
      "2022-02-23 23:49:58,218 : INFO : topic #0 (0.021): 0.616*\"method\" + 0.091*\"problem\" + 0.062*\"matric\" + 0.042*\"applic\" + 0.032*\"matrix\" + 0.029*\"effici\" + 0.028*\"present\" + 0.023*\"solut\" + 0.016*\"classic\" + 0.013*\"column\"\n",
      "2022-02-23 23:49:58,220 : INFO : topic #45 (0.065): 0.398*\"(\" + 0.384*\")\" + 0.182*\"algorithm\" + 0.007*\"function\" + 0.007*\"-\" + 0.004*\"determin\" + 0.004*\"incomplet\" + 0.002*\"span\" + 0.002*\"ratio\" + 0.002*\"6\"\n",
      "2022-02-23 23:49:58,220 : INFO : topic diff=0.206325, rho=0.238352\n",
      "2022-02-23 23:49:59,267 : INFO : -6.464 per-word bound, 88.2 perplexity estimate based on a held-out corpus of 1204 documents with 49783 words\n",
      "2022-02-23 23:49:59,269 : INFO : PROGRESS: pass 15, at document #3204/3204\n",
      "2022-02-23 23:50:00,035 : INFO : optimized alpha [0.021723906, 0.013432537, 0.010275748, 0.011235824, 0.0132282665, 0.01125941, 0.011380777, 0.012731846, 0.012173275, 0.011409148, 0.011114987, 0.016191984, 0.01334976, 0.014074046, 0.012981864, 0.0137943905, 0.010922649, 0.0124661, 0.014591803, 0.0129591925, 0.011673055, 0.013050731, 0.011130063, 0.011064946, 0.01448244, 0.012129174, 0.011066844, 0.013525775, 0.0093742935, 0.0124891065, 0.011394197, 0.012474998, 0.013590793, 0.015085928, 0.013231414, 0.015087539, 0.01659991, 0.013093816, 0.012451198, 0.012523958, 0.011126603, 0.014674511, 0.012022883, 0.01234157, 0.012428934, 0.06723969, 0.014287621, 0.013487666, 0.012736155, 0.012661359, 0.011791566, 0.013449656, 0.015034398, 0.014869106, 0.016835073, 0.010464919, 0.013530623, 0.017915027, 0.011157168, 0.012311823, 0.012193397, 0.011556418, 0.015255912, 0.012647931, 0.013447887, 0.0119100455, 0.0120859435, 0.020856125, 0.013921568, 0.013591023, 0.018031746, 0.011244152, 0.012313477, 0.012674311, 0.013877157, 0.011213853, 0.011650057, 0.0161879, 0.013739618, 0.011388016, 0.013456993, 0.01097327, 0.011727516, 0.011222996, 0.014158806, 0.011761836, 0.012766707, 0.0121049415, 0.015136403, 0.010772585, 0.013733251, 0.012051253, 0.013346366, 0.013927964, 0.014561078, 0.014776028, 0.011720893, 0.0114472965, 0.011743517, 0.012315015]\n",
      "2022-02-23 23:50:00,043 : INFO : merging changes from 1204 documents into a model of 3204 documents\n",
      "2022-02-23 23:50:00,052 : INFO : topic #28 (0.009): 0.303*\"flow\" + 0.256*\"autom\" + 0.234*\"plot\" + 0.107*\"-\" + 0.028*\"chart\" + 0.007*\"comput\" + 0.004*\"small\" + 0.000*\"incorpor\" + 0.000*\"simpson\" + 0.000*\"polygon\"\n",
      "2022-02-23 23:50:00,053 : INFO : topic #2 (0.010): 0.064*\",\" + 0.046*\"system\" + 0.045*\"interpret\" + 0.038*\"sequenti\" + 0.034*\"time\" + 0.031*\"machin\" + 0.030*\"program\" + 0.030*\"run\" + 0.029*\"hierarch\" + 0.028*\"environ\"\n",
      "2022-02-23 23:50:00,054 : INFO : topic #67 (0.021): 0.287*\"[\" + 0.198*\"algorithm\" + 0.180*\"(\" + 0.133*\"])\" + 0.024*\"function\" + 0.023*\"matrix\" + 0.022*\"eigenvalu\" + 0.020*\"a1\" + 0.016*\"-\" + 0.012*\"s22\"\n",
      "2022-02-23 23:50:00,055 : INFO : topic #0 (0.022): 0.637*\"method\" + 0.081*\"problem\" + 0.056*\"matric\" + 0.041*\"applic\" + 0.032*\"matrix\" + 0.029*\"effici\" + 0.027*\"present\" + 0.018*\"classic\" + 0.018*\"solut\" + 0.012*\"comput\"\n",
      "2022-02-23 23:50:00,058 : INFO : topic #45 (0.067): 0.402*\"(\" + 0.389*\")\" + 0.174*\"algorithm\" + 0.007*\"-\" + 0.006*\"function\" + 0.004*\"determin\" + 0.003*\"incomplet\" + 0.002*\"span\" + 0.002*\"6\" + 0.002*\"ratio\"\n",
      "2022-02-23 23:50:00,060 : INFO : topic diff=0.212732, rho=0.238352\n",
      "2022-02-23 23:50:00,071 : INFO : PROGRESS: pass 16, at document #2000/3204\n",
      "2022-02-23 23:50:01,116 : INFO : optimized alpha [0.022050517, 0.013529798, 0.010291461, 0.011244378, 0.013236686, 0.011262805, 0.0113840345, 0.012777811, 0.012203604, 0.011393325, 0.011130052, 0.016245442, 0.013447218, 0.0140728485, 0.013107359, 0.01389949, 0.010931987, 0.012491843, 0.01471754, 0.012998283, 0.011669446, 0.013052928, 0.011145084, 0.011125062, 0.014647647, 0.012173181, 0.01105351, 0.013618135, 0.0093666045, 0.012571587, 0.011438137, 0.012514636, 0.013668552, 0.01526087, 0.013281263, 0.015168977, 0.016807266, 0.013119581, 0.012507954, 0.012638678, 0.0111267315, 0.01465832, 0.012072792, 0.012328229, 0.012505516, 0.06980527, 0.014366571, 0.013615715, 0.012763238, 0.012705858, 0.011843302, 0.013577753, 0.015195966, 0.015010478, 0.016923765, 0.010484956, 0.013566106, 0.018070593, 0.011164316, 0.012428353, 0.012217839, 0.011589715, 0.015461063, 0.012676567, 0.013427899, 0.01201019, 0.012126907, 0.021290835, 0.013976289, 0.013733012, 0.018311096, 0.011292033, 0.012338742, 0.012666427, 0.013960489, 0.011325589, 0.011650536, 0.016286353, 0.013811391, 0.011433097, 0.013577813, 0.010996495, 0.011757916, 0.0112408195, 0.014316462, 0.011781343, 0.012808196, 0.012192343, 0.015361202, 0.010780746, 0.013815521, 0.01202517, 0.013393927, 0.01395242, 0.014663763, 0.0148749305, 0.011772889, 0.01150212, 0.011763184, 0.012391765]\n",
      "2022-02-23 23:50:01,122 : INFO : merging changes from 2000 documents into a model of 3204 documents\n",
      "2022-02-23 23:50:01,128 : INFO : topic #28 (0.009): 0.310*\"flow\" + 0.256*\"autom\" + 0.211*\"plot\" + 0.104*\"-\" + 0.040*\"chart\" + 0.009*\"comput\" + 0.005*\"small\" + 0.000*\"incorpor\" + 0.000*\"simpson\" + 0.000*\"polygon\"\n",
      "2022-02-23 23:50:01,129 : INFO : topic #2 (0.010): 0.063*\",\" + 0.047*\"system\" + 0.045*\"interpret\" + 0.037*\"sequenti\" + 0.034*\"time\" + 0.032*\"machin\" + 0.031*\"program\" + 0.030*\"process\" + 0.030*\"run\" + 0.028*\"environ\"\n",
      "2022-02-23 23:50:01,130 : INFO : topic #67 (0.021): 0.268*\"[\" + 0.197*\"algorithm\" + 0.188*\"(\" + 0.155*\"])\" + 0.025*\"function\" + 0.021*\"matrix\" + 0.019*\"a1\" + 0.019*\"eigenvalu\" + 0.015*\"-\" + 0.012*\"s15\"\n",
      "2022-02-23 23:50:01,131 : INFO : topic #0 (0.022): 0.642*\"method\" + 0.077*\"problem\" + 0.060*\"matric\" + 0.040*\"applic\" + 0.030*\"matrix\" + 0.029*\"effici\" + 0.027*\"present\" + 0.017*\"solut\" + 0.017*\"classic\" + 0.012*\"comput\"\n",
      "2022-02-23 23:50:01,132 : INFO : topic #45 (0.070): 0.400*\"(\" + 0.386*\")\" + 0.181*\"algorithm\" + 0.007*\"-\" + 0.006*\"function\" + 0.004*\"determin\" + 0.004*\"incomplet\" + 0.002*\"span\" + 0.002*\"6\" + 0.002*\"ratio\"\n",
      "2022-02-23 23:50:01,133 : INFO : topic diff=0.190228, rho=0.231857\n",
      "2022-02-23 23:50:02,244 : INFO : -6.457 per-word bound, 87.9 perplexity estimate based on a held-out corpus of 1204 documents with 49783 words\n",
      "2022-02-23 23:50:02,245 : INFO : PROGRESS: pass 16, at document #3204/3204\n",
      "2022-02-23 23:50:02,979 : INFO : optimized alpha [0.022591172, 0.013714483, 0.010385037, 0.011373034, 0.013412566, 0.011344484, 0.011486323, 0.01288344, 0.012315812, 0.011519045, 0.011250003, 0.016536677, 0.013546779, 0.014361393, 0.013160151, 0.014146911, 0.011031749, 0.012639686, 0.014860869, 0.013183436, 0.011757398, 0.01325945, 0.011269887, 0.0111637395, 0.014749027, 0.012271758, 0.011186089, 0.013787745, 0.009376572, 0.012716978, 0.0115314, 0.012635461, 0.013828727, 0.015481333, 0.013442871, 0.015374456, 0.017016698, 0.013259895, 0.012617463, 0.012767599, 0.011251989, 0.014919284, 0.012207147, 0.012511224, 0.012746867, 0.07181315, 0.014576649, 0.013849183, 0.013016468, 0.012865477, 0.01191615, 0.013745686, 0.015351321, 0.015298606, 0.017314732, 0.010527993, 0.013695093, 0.0184558, 0.011239701, 0.01251945, 0.012342439, 0.011697688, 0.01598295, 0.012839463, 0.013646732, 0.012079511, 0.012370534, 0.021433616, 0.014138855, 0.0139853135, 0.0185483, 0.011404344, 0.012455938, 0.012823106, 0.014159354, 0.011307558, 0.011752603, 0.016544512, 0.013986214, 0.011523498, 0.013714162, 0.01106834, 0.0118710315, 0.011359392, 0.014454198, 0.011911901, 0.012934266, 0.012325561, 0.015557708, 0.01087064, 0.013975874, 0.012154098, 0.013557194, 0.014129501, 0.01483772, 0.015131747, 0.011913442, 0.011615979, 0.011865855, 0.012458906]\n",
      "2022-02-23 23:50:02,986 : INFO : merging changes from 1204 documents into a model of 3204 documents\n",
      "2022-02-23 23:50:03,000 : INFO : topic #28 (0.009): 0.303*\"flow\" + 0.256*\"autom\" + 0.234*\"plot\" + 0.107*\"-\" + 0.029*\"chart\" + 0.007*\"comput\" + 0.004*\"small\" + 0.000*\"incorpor\" + 0.000*\"simpson\" + 0.000*\"polygon\"\n",
      "2022-02-23 23:50:03,005 : INFO : topic #2 (0.010): 0.065*\",\" + 0.046*\"system\" + 0.045*\"interpret\" + 0.039*\"sequenti\" + 0.034*\"time\" + 0.032*\"run\" + 0.031*\"machin\" + 0.031*\"program\" + 0.029*\"hierarch\" + 0.028*\"environ\"\n",
      "2022-02-23 23:50:03,007 : INFO : topic #67 (0.021): 0.287*\"[\" + 0.198*\"algorithm\" + 0.180*\"(\" + 0.134*\"])\" + 0.024*\"function\" + 0.023*\"matrix\" + 0.022*\"eigenvalu\" + 0.020*\"a1\" + 0.016*\"-\" + 0.012*\"s22\"\n",
      "2022-02-23 23:50:03,008 : INFO : topic #0 (0.023): 0.661*\"method\" + 0.069*\"problem\" + 0.055*\"matric\" + 0.040*\"applic\" + 0.030*\"matrix\" + 0.029*\"effici\" + 0.026*\"present\" + 0.019*\"classic\" + 0.014*\"solut\" + 0.012*\"comput\"\n",
      "2022-02-23 23:50:03,008 : INFO : topic #45 (0.072): 0.404*\"(\" + 0.391*\")\" + 0.173*\"algorithm\" + 0.007*\"-\" + 0.005*\"function\" + 0.004*\"determin\" + 0.004*\"incomplet\" + 0.002*\"span\" + 0.002*\"6\" + 0.001*\"ratio\"\n",
      "2022-02-23 23:50:03,009 : INFO : topic diff=0.196289, rho=0.231857\n",
      "2022-02-23 23:50:03,017 : INFO : PROGRESS: pass 17, at document #2000/3204\n",
      "2022-02-23 23:50:03,853 : INFO : optimized alpha [0.02292915, 0.01381172, 0.010399293, 0.011382571, 0.013423502, 0.011349293, 0.011489574, 0.012931425, 0.012349778, 0.011503522, 0.011264699, 0.016586173, 0.013642603, 0.01435894, 0.013285202, 0.014254976, 0.011045924, 0.012667606, 0.014984593, 0.013222999, 0.011752709, 0.013262484, 0.011285792, 0.011221599, 0.014910223, 0.012317762, 0.0111728795, 0.013879999, 0.009369581, 0.012798049, 0.011578491, 0.012677151, 0.013908129, 0.015654016, 0.013491548, 0.015462931, 0.017217524, 0.013285038, 0.0126760425, 0.0128821265, 0.01125331, 0.014902331, 0.012256018, 0.012496287, 0.0128379725, 0.07435597, 0.01464896, 0.013983441, 0.013048159, 0.012917767, 0.011964344, 0.013873535, 0.015510627, 0.015432607, 0.017400539, 0.01054909, 0.013728259, 0.018616887, 0.011246888, 0.012635643, 0.012367762, 0.01173701, 0.016185435, 0.012867255, 0.013631155, 0.012176706, 0.012417308, 0.021864763, 0.014190718, 0.01412715, 0.018820638, 0.011451337, 0.012482124, 0.012819509, 0.014242586, 0.011417436, 0.011755804, 0.016640713, 0.014053276, 0.011567778, 0.01384404, 0.0110875, 0.011903505, 0.011374249, 0.014617857, 0.011937739, 0.012971988, 0.012414384, 0.015780391, 0.010878732, 0.014054974, 0.012131383, 0.013606737, 0.014153137, 0.014940303, 0.015226896, 0.011964427, 0.01167775, 0.011887868, 0.012532968]\n",
      "2022-02-23 23:50:03,860 : INFO : merging changes from 2000 documents into a model of 3204 documents\n",
      "2022-02-23 23:50:03,867 : INFO : topic #28 (0.009): 0.310*\"flow\" + 0.256*\"autom\" + 0.212*\"plot\" + 0.104*\"-\" + 0.040*\"chart\" + 0.009*\"comput\" + 0.005*\"small\" + 0.000*\"incorpor\" + 0.000*\"simpson\" + 0.000*\"polygon\"\n",
      "2022-02-23 23:50:03,867 : INFO : topic #2 (0.010): 0.064*\",\" + 0.047*\"system\" + 0.045*\"interpret\" + 0.037*\"sequenti\" + 0.034*\"time\" + 0.032*\"machin\" + 0.032*\"program\" + 0.031*\"run\" + 0.030*\"process\" + 0.028*\"environ\"\n",
      "2022-02-23 23:50:03,869 : INFO : topic #67 (0.022): 0.268*\"[\" + 0.197*\"algorithm\" + 0.188*\"(\" + 0.155*\"])\" + 0.024*\"function\" + 0.021*\"matrix\" + 0.019*\"a1\" + 0.019*\"eigenvalu\" + 0.015*\"-\" + 0.012*\"s15\"\n",
      "2022-02-23 23:50:03,871 : INFO : topic #0 (0.023): 0.665*\"method\" + 0.065*\"problem\" + 0.060*\"matric\" + 0.039*\"applic\" + 0.029*\"effici\" + 0.028*\"matrix\" + 0.026*\"present\" + 0.017*\"classic\" + 0.013*\"comput\" + 0.012*\"solut\"\n",
      "2022-02-23 23:50:03,872 : INFO : topic #45 (0.074): 0.401*\"(\" + 0.387*\")\" + 0.180*\"algorithm\" + 0.007*\"-\" + 0.005*\"function\" + 0.004*\"determin\" + 0.004*\"incomplet\" + 0.002*\"span\" + 0.002*\"6\" + 0.002*\"ratio\"\n",
      "2022-02-23 23:50:03,873 : INFO : topic diff=0.176610, rho=0.225865\n",
      "2022-02-23 23:50:05,018 : INFO : -6.451 per-word bound, 87.5 perplexity estimate based on a held-out corpus of 1204 documents with 49783 words\n",
      "2022-02-23 23:50:05,019 : INFO : PROGRESS: pass 17, at document #3204/3204\n",
      "2022-02-23 23:50:05,682 : INFO : optimized alpha [0.023473982, 0.013996232, 0.010487288, 0.011515486, 0.013601518, 0.0114338845, 0.011589986, 0.013035058, 0.012457661, 0.011624823, 0.011384758, 0.01688292, 0.013742699, 0.014652071, 0.013336583, 0.014505086, 0.011152163, 0.012817651, 0.015122284, 0.0134154735, 0.011843519, 0.013463333, 0.011412825, 0.011261646, 0.015009148, 0.012414509, 0.011305328, 0.014044178, 0.009379792, 0.012948298, 0.011672262, 0.012798271, 0.014065503, 0.01587127, 0.013655533, 0.015659325, 0.017426226, 0.01342042, 0.012785939, 0.0130112395, 0.01137426, 0.015159363, 0.01239734, 0.012674004, 0.013099189, 0.0762362, 0.014864124, 0.01422771, 0.013296302, 0.013079762, 0.01203806, 0.01404141, 0.015659979, 0.015724014, 0.017791094, 0.010593427, 0.013852177, 0.019005693, 0.011329515, 0.012734348, 0.012492512, 0.011843071, 0.016711034, 0.013030027, 0.013846602, 0.012242309, 0.012670355, 0.022001108, 0.014347706, 0.0143798, 0.019060384, 0.011568147, 0.012601991, 0.012973515, 0.014449169, 0.011399668, 0.011858228, 0.016898183, 0.014227851, 0.011654349, 0.013972713, 0.01115381, 0.012014639, 0.011497129, 0.01474752, 0.012066111, 0.013100666, 0.012547828, 0.01597954, 0.010971086, 0.014215139, 0.012260301, 0.013764676, 0.014327201, 0.015108346, 0.015474669, 0.0121051, 0.011789704, 0.011988665, 0.012603393]\n",
      "2022-02-23 23:50:05,690 : INFO : merging changes from 1204 documents into a model of 3204 documents\n",
      "2022-02-23 23:50:05,698 : INFO : topic #28 (0.009): 0.304*\"flow\" + 0.256*\"autom\" + 0.234*\"plot\" + 0.107*\"-\" + 0.029*\"chart\" + 0.007*\"comput\" + 0.004*\"small\" + 0.000*\"incorpor\" + 0.000*\"simpson\" + 0.000*\"polygon\"\n",
      "2022-02-23 23:50:05,704 : INFO : topic #2 (0.010): 0.065*\",\" + 0.046*\"system\" + 0.045*\"interpret\" + 0.039*\"sequenti\" + 0.034*\"time\" + 0.032*\"run\" + 0.031*\"machin\" + 0.031*\"program\" + 0.028*\"hierarch\" + 0.028*\"environ\"\n",
      "2022-02-23 23:50:05,705 : INFO : topic #67 (0.022): 0.287*\"[\" + 0.198*\"algorithm\" + 0.181*\"(\" + 0.135*\"])\" + 0.023*\"function\" + 0.022*\"matrix\" + 0.022*\"eigenvalu\" + 0.021*\"a1\" + 0.016*\"-\" + 0.012*\"s22\"\n",
      "2022-02-23 23:50:05,706 : INFO : topic #0 (0.023): 0.682*\"method\" + 0.058*\"problem\" + 0.055*\"matric\" + 0.039*\"applic\" + 0.029*\"effici\" + 0.028*\"matrix\" + 0.026*\"present\" + 0.019*\"classic\" + 0.013*\"comput\" + 0.010*\"solut\"\n",
      "2022-02-23 23:50:05,708 : INFO : topic #45 (0.076): 0.405*\"(\" + 0.392*\")\" + 0.172*\"algorithm\" + 0.007*\"-\" + 0.004*\"function\" + 0.004*\"determin\" + 0.004*\"incomplet\" + 0.002*\"span\" + 0.002*\"6\" + 0.001*\"ratio\"\n",
      "2022-02-23 23:50:05,711 : INFO : topic diff=0.182090, rho=0.225865\n",
      "2022-02-23 23:50:05,728 : INFO : PROGRESS: pass 18, at document #2000/3204\n",
      "2022-02-23 23:50:06,808 : INFO : optimized alpha [0.02382053, 0.014093495, 0.010507139, 0.011525978, 0.013614915, 0.0114425905, 0.011593203, 0.013077921, 0.012482713, 0.011612168, 0.011399124, 0.016932415, 0.013835517, 0.014648398, 0.013461289, 0.014614653, 0.011173466, 0.012846332, 0.015240712, 0.013450974, 0.011837785, 0.013465802, 0.0114283385, 0.011327341, 0.015169756, 0.012458318, 0.011294726, 0.014136302, 0.00937342, 0.013032257, 0.011717304, 0.012836352, 0.014141978, 0.016048843, 0.013700118, 0.015754946, 0.017634042, 0.0134449955, 0.012842094, 0.013124243, 0.011376728, 0.015141725, 0.012450811, 0.012654753, 0.013196141, 0.0787286, 0.0149348155, 0.014379355, 0.013328209, 0.01313391, 0.012090851, 0.01416748, 0.015817204, 0.015870068, 0.017870063, 0.010614353, 0.013880104, 0.019161714, 0.011341749, 0.01284758, 0.012518682, 0.011881744, 0.01692543, 0.013057092, 0.013830657, 0.012339455, 0.01272295, 0.022428919, 0.014396841, 0.014527868, 0.019330088, 0.011615544, 0.012629077, 0.012968361, 0.014530832, 0.011507815, 0.011862747, 0.016994052, 0.014301277, 0.011697901, 0.014105501, 0.01117769, 0.012049177, 0.011512875, 0.0149108125, 0.012089971, 0.0131405145, 0.0126395365, 0.016203757, 0.010986387, 0.014297454, 0.012239366, 0.013811665, 0.014348484, 0.015207401, 0.015569612, 0.012156489, 0.011851796, 0.012010322, 0.01267768]\n",
      "2022-02-23 23:50:06,814 : INFO : merging changes from 2000 documents into a model of 3204 documents\n",
      "2022-02-23 23:50:06,824 : INFO : topic #28 (0.009): 0.310*\"flow\" + 0.256*\"autom\" + 0.212*\"plot\" + 0.104*\"-\" + 0.040*\"chart\" + 0.009*\"comput\" + 0.005*\"small\" + 0.000*\"incorpor\" + 0.000*\"simpson\" + 0.000*\"polygon\"\n",
      "2022-02-23 23:50:06,826 : INFO : topic #2 (0.011): 0.064*\",\" + 0.047*\"system\" + 0.045*\"interpret\" + 0.038*\"sequenti\" + 0.034*\"time\" + 0.032*\"machin\" + 0.032*\"program\" + 0.032*\"run\" + 0.030*\"process\" + 0.029*\"environ\"\n",
      "2022-02-23 23:50:06,827 : INFO : topic #67 (0.022): 0.269*\"[\" + 0.197*\"algorithm\" + 0.188*\"(\" + 0.155*\"])\" + 0.024*\"function\" + 0.020*\"matrix\" + 0.019*\"a1\" + 0.019*\"eigenvalu\" + 0.015*\"-\" + 0.012*\"s15\"\n",
      "2022-02-23 23:50:06,829 : INFO : topic #0 (0.024): 0.686*\"method\" + 0.059*\"matric\" + 0.054*\"problem\" + 0.038*\"applic\" + 0.028*\"effici\" + 0.026*\"matrix\" + 0.026*\"present\" + 0.017*\"classic\" + 0.013*\"comput\" + 0.009*\"solut\"\n",
      "2022-02-23 23:50:06,830 : INFO : topic #45 (0.079): 0.402*\"(\" + 0.389*\")\" + 0.179*\"algorithm\" + 0.007*\"-\" + 0.004*\"determin\" + 0.004*\"incomplet\" + 0.004*\"function\" + 0.002*\"span\" + 0.002*\"6\" + 0.002*\"ratio\"\n",
      "2022-02-23 23:50:06,833 : INFO : topic diff=0.164765, rho=0.220316\n",
      "2022-02-23 23:50:07,853 : INFO : -6.446 per-word bound, 87.2 perplexity estimate based on a held-out corpus of 1204 documents with 49783 words\n",
      "2022-02-23 23:50:07,854 : INFO : PROGRESS: pass 18, at document #3204/3204\n",
      "2022-02-23 23:50:09,166 : INFO : optimized alpha [0.024373796, 0.014272904, 0.010603462, 0.011665295, 0.013785177, 0.011534266, 0.011691891, 0.013174898, 0.0125934, 0.011738008, 0.011521497, 0.017228745, 0.013931095, 0.01493842, 0.013511358, 0.014880929, 0.011277952, 0.01299411, 0.015378644, 0.013638387, 0.011924856, 0.01366391, 0.011551288, 0.011364494, 0.015263614, 0.012557951, 0.011425099, 0.014297959, 0.009383839, 0.013185053, 0.011811633, 0.012960207, 0.014302197, 0.016265867, 0.013864096, 0.015948366, 0.017839035, 0.013578097, 0.012945385, 0.013256067, 0.011497749, 0.015395142, 0.012592177, 0.012832054, 0.013463178, 0.08051616, 0.01514974, 0.014621715, 0.013583667, 0.013298437, 0.01216546, 0.014335477, 0.015972473, 0.016167987, 0.018254025, 0.010663883, 0.014004483, 0.019550797, 0.011416729, 0.012942116, 0.012641403, 0.011992639, 0.017470066, 0.013215033, 0.014043011, 0.012408247, 0.012983392, 0.022559201, 0.014551138, 0.014783679, 0.01956899, 0.011734798, 0.012742196, 0.013124816, 0.014726697, 0.011490312, 0.011959085, 0.017247938, 0.014473163, 0.01178298, 0.014237072, 0.011246949, 0.012171772, 0.01163593, 0.015040416, 0.012218566, 0.013264641, 0.012773259, 0.016402746, 0.011079271, 0.014455051, 0.012370664, 0.013964503, 0.014519739, 0.015372758, 0.015819974, 0.012308745, 0.011972838, 0.012111574, 0.012749036]\n",
      "2022-02-23 23:50:09,173 : INFO : merging changes from 1204 documents into a model of 3204 documents\n",
      "2022-02-23 23:50:09,183 : INFO : topic #28 (0.009): 0.304*\"flow\" + 0.256*\"autom\" + 0.233*\"plot\" + 0.107*\"-\" + 0.029*\"chart\" + 0.007*\"comput\" + 0.004*\"small\" + 0.000*\"incorpor\" + 0.000*\"simpson\" + 0.000*\"polygon\"\n",
      "2022-02-23 23:50:09,184 : INFO : topic #2 (0.011): 0.066*\",\" + 0.046*\"system\" + 0.045*\"interpret\" + 0.039*\"sequenti\" + 0.034*\"time\" + 0.033*\"run\" + 0.032*\"machin\" + 0.031*\"program\" + 0.028*\"environ\" + 0.028*\"hierarch\"\n",
      "2022-02-23 23:50:09,185 : INFO : topic #67 (0.023): 0.287*\"[\" + 0.198*\"algorithm\" + 0.181*\"(\" + 0.135*\"])\" + 0.023*\"function\" + 0.022*\"matrix\" + 0.022*\"eigenvalu\" + 0.021*\"a1\" + 0.016*\"-\" + 0.012*\"s22\"\n",
      "2022-02-23 23:50:09,187 : INFO : topic #0 (0.024): 0.701*\"method\" + 0.055*\"matric\" + 0.049*\"problem\" + 0.038*\"applic\" + 0.028*\"effici\" + 0.026*\"matrix\" + 0.025*\"present\" + 0.019*\"classic\" + 0.013*\"comput\" + 0.008*\"column\"\n",
      "2022-02-23 23:50:09,189 : INFO : topic #45 (0.081): 0.406*\"(\" + 0.393*\")\" + 0.172*\"algorithm\" + 0.007*\"-\" + 0.004*\"determin\" + 0.004*\"incomplet\" + 0.003*\"function\" + 0.002*\"span\" + 0.002*\"6\" + 0.001*\"ratio\"\n",
      "2022-02-23 23:50:09,191 : INFO : topic diff=0.169760, rho=0.220316\n",
      "2022-02-23 23:50:09,201 : INFO : PROGRESS: pass 19, at document #2000/3204\n",
      "2022-02-23 23:50:10,226 : INFO : optimized alpha [0.024716575, 0.014373306, 0.01062183, 0.011675449, 0.013793535, 0.011541655, 0.011695093, 0.013218466, 0.012616617, 0.01172425, 0.011535512, 0.017280146, 0.014025583, 0.014933555, 0.013634381, 0.014993673, 0.011296425, 0.01301648, 0.015498652, 0.013681874, 0.0119193485, 0.0136672985, 0.011568967, 0.011432926, 0.015423809, 0.012603765, 0.01141456, 0.014393234, 0.009378043, 0.013269277, 0.011861059, 0.012998967, 0.014375794, 0.016441485, 0.013910658, 0.016038906, 0.018042449, 0.01360215, 0.0130020715, 0.013369046, 0.011501329, 0.01537857, 0.012641923, 0.012819676, 0.013557299, 0.082967475, 0.015217247, 0.014778352, 0.013618764, 0.013351582, 0.012216162, 0.014464614, 0.016129425, 0.016310463, 0.018338034, 0.010685809, 0.014031925, 0.019706076, 0.011432606, 0.01305944, 0.012668443, 0.012030553, 0.017687343, 0.01323993, 0.014026706, 0.0125067495, 0.013044592, 0.022986194, 0.014602379, 0.014939665, 0.019840363, 0.011785183, 0.012767417, 0.013122375, 0.014808457, 0.0115968725, 0.0119635835, 0.017347217, 0.01454523, 0.011827103, 0.014369766, 0.011268096, 0.0122042755, 0.011651301, 0.015209884, 0.012244602, 0.013300886, 0.0128623815, 0.016626876, 0.011094346, 0.014535973, 0.012348739, 0.014013525, 0.014540329, 0.015465204, 0.015918132, 0.01236322, 0.012032687, 0.012134198, 0.012819498]\n",
      "2022-02-23 23:50:10,231 : INFO : merging changes from 2000 documents into a model of 3204 documents\n",
      "2022-02-23 23:50:10,237 : INFO : topic #28 (0.009): 0.309*\"flow\" + 0.256*\"autom\" + 0.212*\"plot\" + 0.104*\"-\" + 0.040*\"chart\" + 0.008*\"comput\" + 0.005*\"small\" + 0.000*\"incorpor\" + 0.000*\"simpson\" + 0.000*\"polygon\"\n",
      "2022-02-23 23:50:10,238 : INFO : topic #2 (0.011): 0.064*\",\" + 0.047*\"system\" + 0.045*\"interpret\" + 0.038*\"sequenti\" + 0.034*\"time\" + 0.033*\"machin\" + 0.032*\"run\" + 0.032*\"program\" + 0.030*\"process\" + 0.029*\"environ\"\n",
      "2022-02-23 23:50:10,240 : INFO : topic #67 (0.023): 0.269*\"[\" + 0.197*\"algorithm\" + 0.188*\"(\" + 0.155*\"])\" + 0.024*\"function\" + 0.020*\"matrix\" + 0.019*\"a1\" + 0.019*\"eigenvalu\" + 0.015*\"-\" + 0.012*\"s15\"\n",
      "2022-02-23 23:50:10,241 : INFO : topic #0 (0.025): 0.704*\"method\" + 0.059*\"matric\" + 0.046*\"problem\" + 0.037*\"applic\" + 0.028*\"effici\" + 0.025*\"present\" + 0.024*\"matrix\" + 0.017*\"classic\" + 0.013*\"comput\" + 0.008*\"column\"\n",
      "2022-02-23 23:50:10,242 : INFO : topic #45 (0.083): 0.403*\"(\" + 0.390*\")\" + 0.179*\"algorithm\" + 0.007*\"-\" + 0.004*\"determin\" + 0.004*\"incomplet\" + 0.003*\"function\" + 0.002*\"span\" + 0.002*\"6\" + 0.002*\"ratio\"\n",
      "2022-02-23 23:50:10,243 : INFO : topic diff=0.154520, rho=0.215156\n",
      "2022-02-23 23:50:11,149 : INFO : -6.441 per-word bound, 86.9 perplexity estimate based on a held-out corpus of 1204 documents with 49783 words\n",
      "2022-02-23 23:50:11,150 : INFO : PROGRESS: pass 19, at document #3204/3204\n",
      "2022-02-23 23:50:11,751 : INFO : optimized alpha [0.025265437, 0.014563405, 0.010714784, 0.011814895, 0.0139563, 0.011625641, 0.01179219, 0.013313765, 0.012725542, 0.011846058, 0.011660254, 0.017573234, 0.014119416, 0.015225946, 0.013685629, 0.0152579155, 0.011401286, 0.013157397, 0.015631327, 0.013874294, 0.012005035, 0.013870156, 0.0116901, 0.01146943, 0.015518305, 0.012697244, 0.011545027, 0.014542176, 0.00938866, 0.01342003, 0.011956047, 0.013116174, 0.014528484, 0.016658414, 0.01408471, 0.016252767, 0.018240541, 0.01373554, 0.01310847, 0.013496463, 0.011620508, 0.015628628, 0.012783501, 0.013001433, 0.013835179, 0.08464528, 0.015432257, 0.015040163, 0.013879406, 0.013509086, 0.012291748, 0.014627632, 0.016281977, 0.016597288, 0.01871869, 0.010746182, 0.0141543, 0.020110019, 0.011510509, 0.013156949, 0.012791478, 0.012139737, 0.018258372, 0.013395609, 0.014241277, 0.012576564, 0.013305837, 0.023110535, 0.014756813, 0.015193543, 0.0200752, 0.011908972, 0.012881046, 0.013276404, 0.015017792, 0.011579623, 0.012056211, 0.017600797, 0.01471456, 0.0119171655, 0.0144965835, 0.011336222, 0.012325061, 0.011774605, 0.015331888, 0.012375688, 0.013427813, 0.012996546, 0.016840674, 0.011181759, 0.014691126, 0.012475752, 0.014161477, 0.014706397, 0.015630698, 0.016177103, 0.012509081, 0.012151949, 0.012240353, 0.012891916]\n",
      "2022-02-23 23:50:11,757 : INFO : merging changes from 1204 documents into a model of 3204 documents\n",
      "2022-02-23 23:50:11,763 : INFO : topic #28 (0.009): 0.304*\"flow\" + 0.256*\"autom\" + 0.233*\"plot\" + 0.107*\"-\" + 0.029*\"chart\" + 0.007*\"comput\" + 0.004*\"small\" + 0.000*\"incorpor\" + 0.000*\"simpson\" + 0.000*\"polygon\"\n",
      "2022-02-23 23:50:11,764 : INFO : topic #2 (0.011): 0.067*\",\" + 0.046*\"system\" + 0.045*\"interpret\" + 0.039*\"sequenti\" + 0.034*\"time\" + 0.033*\"run\" + 0.032*\"machin\" + 0.031*\"program\" + 0.029*\"environ\" + 0.028*\"hierarch\"\n",
      "2022-02-23 23:50:11,764 : INFO : topic #67 (0.023): 0.287*\"[\" + 0.198*\"algorithm\" + 0.181*\"(\" + 0.136*\"])\" + 0.023*\"function\" + 0.022*\"eigenvalu\" + 0.022*\"matrix\" + 0.021*\"a1\" + 0.016*\"-\" + 0.012*\"s22\"\n",
      "2022-02-23 23:50:11,765 : INFO : topic #0 (0.025): 0.717*\"method\" + 0.055*\"matric\" + 0.040*\"problem\" + 0.037*\"applic\" + 0.028*\"effici\" + 0.025*\"present\" + 0.024*\"matrix\" + 0.019*\"classic\" + 0.013*\"comput\" + 0.007*\"classif\"\n",
      "2022-02-23 23:50:11,766 : INFO : topic #45 (0.085): 0.407*\"(\" + 0.393*\")\" + 0.172*\"algorithm\" + 0.007*\"-\" + 0.004*\"determin\" + 0.004*\"incomplet\" + 0.003*\"function\" + 0.002*\"span\" + 0.002*\"6\" + 0.001*\"ratio\"\n",
      "2022-02-23 23:50:11,767 : INFO : topic diff=0.158777, rho=0.215156\n"
     ]
    },
    {
     "data": {
      "text/plain": [
       "[(0, 0.010234668),\n",
       " (1, 0.005899428),\n",
       " (2, 0.0043404065),\n",
       " (3, 0.0047860458),\n",
       " (4, 0.005653498),\n",
       " (5, 0.0047093816),\n",
       " (6, 0.004776848),\n",
       " (7, 0.0053932164),\n",
       " (8, 0.0051549356),\n",
       " (9, 0.0047986694),\n",
       " (10, 0.0047234027),\n",
       " (11, 0.0071186665),\n",
       " (12, 0.005719574),\n",
       " (13, 0.0061678137),\n",
       " (14, 0.005543853),\n",
       " (15, 0.006180764),\n",
       " (16, 0.0046184985),\n",
       " (17, 0.005329874),\n",
       " (18, 0.0063320277),\n",
       " (19, 0.005620279),\n",
       " (20, 0.0048630685),\n",
       " (21, 0.0056186025),\n",
       " (22, 0.0047354926),\n",
       " (23, 0.004646103),\n",
       " (24, 0.006286244),\n",
       " (25, 0.0051434725),\n",
       " (26, 0.0046767257),\n",
       " (27, 0.0058908286),\n",
       " (28, 0.0038032124),\n",
       " (29, 0.0054362626),\n",
       " (30, 0.0048432243),\n",
       " (31, 0.0053131753),\n",
       " (32, 0.0058852816),\n",
       " (33, 0.41183132),\n",
       " (34, 0.0057055154),\n",
       " (35, 0.006583764),\n",
       " (36, 0.0073889834),\n",
       " (37, 0.0055640717),\n",
       " (38, 0.0053100544),\n",
       " (39, 0.005467225),\n",
       " (40, 0.004707302),\n",
       " (41, 0.006330935),\n",
       " (42, 0.0051784143),\n",
       " (43, 0.005266695),\n",
       " (44, 0.005604434),\n",
       " (45, 0.034288596),\n",
       " (46, 0.0062513873),\n",
       " (47, 0.006092556),\n",
       " (48, 0.0056223497),\n",
       " (49, 0.0054723383),\n",
       " (50, 0.004979212),\n",
       " (51, 0.0059254454),\n",
       " (52, 0.006595597),\n",
       " (53, 0.006723325),\n",
       " (54, 0.0075826743),\n",
       " (55, 0.004353125),\n",
       " (56, 0.005733705),\n",
       " (57, 0.008146282),\n",
       " (58, 0.0046627433),\n",
       " (59, 0.0053296923),\n",
       " (60, 0.0051816455),\n",
       " (61, 0.004917634),\n",
       " (62, 0.0073962063),\n",
       " (63, 0.0054263705),\n",
       " (64, 0.0057689385),\n",
       " (65, 0.005094587),\n",
       " (66, 0.005390005),\n",
       " (67, 0.009361749),\n",
       " (68, 0.0059777745),\n",
       " (69, 0.006154688),\n",
       " (70, 0.008132177),\n",
       " (71, 0.0048241545),\n",
       " (72, 0.005217928),\n",
       " (73, 0.005378082),\n",
       " (74, 0.006083493),\n",
       " (75, 0.0046907403),\n",
       " (76, 0.0048837992),\n",
       " (77, 0.007129832),\n",
       " (78, 0.005960658),\n",
       " (79, 0.004827474),\n",
       " (80, 0.0058723595),\n",
       " (81, 0.004592142),\n",
       " (82, 0.0049927062),\n",
       " (83, 0.004769725),\n",
       " (84, 0.006210729),\n",
       " (85, 0.005013215),\n",
       " (86, 0.0054394156),\n",
       " (87, 0.0052647158),\n",
       " (88, 0.006821917),\n",
       " (89, 0.004529571),\n",
       " (90, 0.0059511657),\n",
       " (91, 0.0050537493),\n",
       " (92, 0.0057366122),\n",
       " (93, 0.005957352),\n",
       " (94, 0.006331773),\n",
       " (95, 0.006553114),\n",
       " (96, 0.00506725),\n",
       " (97, 0.0049225814),\n",
       " (98, 0.0049583926),\n",
       " (99, 0.0052223313)]"
      ]
     },
     "execution_count": 85,
     "metadata": {},
     "output_type": "execute_result"
    }
   ],
   "source": [
    "##### Function check\n",
    "lda = LdaRetrievalModel(doc_repr_2)\n",
    "lda.train_model()\n",
    "\n",
    "# you can now get an LDA vector for a given query in the following way:\n",
    "lda.vectorize_query(\"report\")\n",
    "#####"
   ]
  },
  {
   "cell_type": "markdown",
   "metadata": {
    "cell_id": "00137-b82100c4-8bc6-4c0b-a37d-3f8eed7a4106",
    "deepnote_cell_height": 52.390625,
    "deepnote_cell_type": "markdown",
    "deletable": false,
    "editable": false,
    "nbgrader": {
     "cell_type": "markdown",
     "checksum": "32d83b6ea79ca3ddb789a7f8805a1b25",
     "grade": false,
     "grade_id": "cell-0e24b727d5908c0e",
     "locked": true,
     "points": 5,
     "schema_version": 3,
     "solution": false,
     "task": true
    }
   },
   "source": [
    "\\#### Please do not change this. This cell is used for grading."
   ]
  },
  {
   "cell_type": "markdown",
   "metadata": {
    "cell_id": "00138-9da9ac44-4973-497c-ae61-6ae44d57702c",
    "deepnote_cell_height": 98.1875,
    "deepnote_cell_type": "markdown",
    "deletable": false,
    "editable": false,
    "nbgrader": {
     "cell_type": "markdown",
     "checksum": "114a934f0b9ce696e6cf09d3b8da6a3d",
     "grade": false,
     "grade_id": "cell-b1bffcb970b18aeb",
     "locked": true,
     "schema_version": 3,
     "solution": false,
     "task": false
    }
   },
   "source": [
    "---\n",
    "Now we can use the `DenseRetrievalModel` class to obtain an LDA search function.\n",
    "You can test your LDA model in the following cell: Try finding queries which are lexically different to documents, but semantically similar - does LDA work well for these queries?!"
   ]
  },
  {
   "cell_type": "code",
   "execution_count": 86,
   "metadata": {
    "cell_id": "00139-74e10836-ea8e-40f0-99d4-f5422f0f88e6",
    "deepnote_cell_height": 303,
    "deepnote_cell_type": "code",
    "deepnote_to_be_reexecuted": false,
    "execution_millis": 4419,
    "execution_start": 1645186665847,
    "source_hash": "76222337"
   },
   "outputs": [
    {
     "data": {
      "application/vnd.jupyter.widget-view+json": {
       "model_id": "e8b6b14db729472f83cb6a2807098700",
       "version_major": 2,
       "version_minor": 0
      },
      "text/plain": [
       "Text(value='', description='Search Bar')"
      ]
     },
     "metadata": {},
     "output_type": "display_data"
    }
   ],
   "source": [
    "drm_lda = DenseRetrievalRanker(lda, jenson_shannon_sim)\n",
    "\n",
    "# test your LDA model\n",
    "search_fn = drm_lda.search\n",
    "\n",
    "text = widgets.Text(description=\"Search Bar\", width=200)\n",
    "display(text)\n",
    "\n",
    "\n",
    "text.on_submit(handle_submit_2)"
   ]
  },
  {
   "cell_type": "markdown",
   "metadata": {
    "cell_id": "00140-3dcd44fb-190f-4b30-a761-4fbdb85b38fe",
    "deepnote_cell_height": 405.375,
    "deepnote_cell_type": "markdown",
    "deletable": false,
    "editable": false,
    "nbgrader": {
     "cell_type": "markdown",
     "checksum": "9d7f15863b655119b45f4d89354e5661",
     "grade": false,
     "grade_id": "cell-190cd0854b2791cc",
     "locked": true,
     "schema_version": 3,
     "solution": false,
     "task": false
    }
   },
   "source": [
    "## Section 8: Word2Vec/Doc2Vec (20 points) <a class=\"anchor\" id=\"2vec\"></a>\n",
    "\n",
    "[Back to Part 2](#part2)\n",
    "\n",
    "We will implement two other methods here, the Word2Vec model and the Doc2Vec model, also using `gensim`. Word2Vec creates representations of words, not documents, so the word level vectors need to be aggregated to obtain a representation for the document. Here, we will simply take the mean of the vectors.\n",
    "\n",
    "\n",
    "A drawback of these models is that they need a lot of training data. Our dataset is tiny, so in addition to using a model trained on the data, we will also use a pre-trained model for Word2Vec (this will be automatically downloaded).\n",
    "\n",
    "*Note*:\n",
    "1. The code in vectorize_documents / vectorize_query should return gensim-like vectors i.e `[(dim, val), .. (dim, val)]`.\n",
    "2. For Word2Vec: You should also handle the following two cases: (a) A word in the query is not present in the vocabulary of the model and (b) none of the words in the query are present in the model - you can return 0 scores for all documents in this case. For either of these, you can check if a `word` is present in the vocab by using `word in self.model`\n"
   ]
  },
  {
   "cell_type": "code",
   "execution_count": 87,
   "metadata": {
    "cell_id": "00141-4813dd67-6ab9-4a66-909c-c9ffb52e292c",
    "collapsed": true,
    "deepnote_cell_height": 1767.796875,
    "deepnote_cell_type": "code",
    "deepnote_output_heights": [
     null,
     611
    ],
    "deepnote_to_be_reexecuted": false,
    "deletable": false,
    "execution_millis": 5958,
    "execution_start": 1645186670275,
    "is_output_hidden": true,
    "jupyter": {
     "outputs_hidden": true
    },
    "nbgrader": {
     "cell_type": "code",
     "checksum": "83ab733608ed14c29c09b36b4e1b6daa",
     "grade": false,
     "grade_id": "cell-2b73759f9baf688f",
     "locked": false,
     "schema_version": 3,
     "solution": true,
     "task": false
    },
    "source_hash": "69fb62df",
    "tags": []
   },
   "outputs": [
    {
     "name": "stderr",
     "output_type": "stream",
     "text": [
      "2022-02-23 23:50:13,732 : INFO : adding document #0 to Dictionary(0 unique tokens: [])\n",
      "2022-02-23 23:50:13,880 : INFO : built Dictionary(5937 unique tokens: ['-', 'algebra', 'intern', 'languag', 'preliminari']...) from 3204 documents (total 115969 corpus positions)\n",
      "2022-02-23 23:50:13,887 : INFO : discarding 4740 tokens: [('repeat', 8), ('glossari', 7), ('inspect', 8), ('uncol', 2), ('rung', 9), ('secant', 2), ('.', 1603), ('acceler', 6), ('diverg', 3), ('induc', 9)]...\n",
      "2022-02-23 23:50:13,888 : INFO : keeping 1197 tokens which were in no less than 10 and no more than 1602 (=50.0%) documents\n",
      "2022-02-23 23:50:13,891 : INFO : resulting dictionary: Dictionary(1197 unique tokens: ['-', 'algebra', 'intern', 'languag', 'preliminari']...)\n",
      "2022-02-23 23:50:13,971 : INFO : collecting all words and their counts\n",
      "2022-02-23 23:50:13,972 : INFO : PROGRESS: at sentence #0, processed 0 words, keeping 0 word types\n",
      "2022-02-23 23:50:13,999 : INFO : collected 5937 word types from a corpus of 115969 raw words and 3204 sentences\n",
      "2022-02-23 23:50:14,034 : INFO : Loading a fresh vocabulary\n",
      "2022-02-23 23:50:14,094 : INFO : effective_min_count=1 retains 5937 unique words (100% of original 5937, drops 0)\n",
      "2022-02-23 23:50:14,100 : INFO : effective_min_count=1 leaves 115969 word corpus (100% of original 115969, drops 0)\n",
      "2022-02-23 23:50:14,135 : INFO : deleting the raw counts dictionary of 5937 items\n",
      "2022-02-23 23:50:14,136 : INFO : sample=0.001 downsamples 40 most-common words\n",
      "2022-02-23 23:50:14,137 : INFO : downsampling leaves estimated 92346 word corpus (79.6% of prior 115969)\n",
      "2022-02-23 23:50:14,179 : INFO : estimated required memory for 5937 words and 100 dimensions: 7718100 bytes\n",
      "2022-02-23 23:50:14,184 : INFO : resetting layer weights\n",
      "2022-02-23 23:50:15,439 : INFO : training model with 3 workers on 5937 vocabulary and 100 features, using sg=0 hs=0 sample=0.001 negative=5 window=5\n",
      "2022-02-23 23:50:15,511 : INFO : worker thread finished; awaiting finish of 2 more threads\n",
      "2022-02-23 23:50:15,521 : INFO : worker thread finished; awaiting finish of 1 more threads\n",
      "2022-02-23 23:50:15,525 : INFO : worker thread finished; awaiting finish of 0 more threads\n",
      "2022-02-23 23:50:15,525 : INFO : EPOCH - 1 : training on 115969 raw words (92259 effective words) took 0.1s, 1145891 effective words/s\n",
      "2022-02-23 23:50:15,607 : INFO : worker thread finished; awaiting finish of 2 more threads\n",
      "2022-02-23 23:50:15,611 : INFO : worker thread finished; awaiting finish of 1 more threads\n",
      "2022-02-23 23:50:15,615 : INFO : worker thread finished; awaiting finish of 0 more threads\n",
      "2022-02-23 23:50:15,615 : INFO : EPOCH - 2 : training on 115969 raw words (92304 effective words) took 0.1s, 1160519 effective words/s\n",
      "2022-02-23 23:50:15,701 : INFO : worker thread finished; awaiting finish of 2 more threads\n",
      "2022-02-23 23:50:15,708 : INFO : worker thread finished; awaiting finish of 1 more threads\n",
      "2022-02-23 23:50:15,711 : INFO : worker thread finished; awaiting finish of 0 more threads\n",
      "2022-02-23 23:50:15,712 : INFO : EPOCH - 3 : training on 115969 raw words (92389 effective words) took 0.1s, 1039388 effective words/s\n",
      "2022-02-23 23:50:15,804 : INFO : worker thread finished; awaiting finish of 2 more threads\n",
      "2022-02-23 23:50:15,813 : INFO : worker thread finished; awaiting finish of 1 more threads\n",
      "2022-02-23 23:50:15,814 : INFO : worker thread finished; awaiting finish of 0 more threads\n",
      "2022-02-23 23:50:15,815 : INFO : EPOCH - 4 : training on 115969 raw words (92331 effective words) took 0.1s, 975855 effective words/s\n",
      "2022-02-23 23:50:15,897 : INFO : worker thread finished; awaiting finish of 2 more threads\n",
      "2022-02-23 23:50:15,905 : INFO : worker thread finished; awaiting finish of 1 more threads\n",
      "2022-02-23 23:50:15,906 : INFO : worker thread finished; awaiting finish of 0 more threads\n",
      "2022-02-23 23:50:15,909 : INFO : EPOCH - 5 : training on 115969 raw words (92264 effective words) took 0.1s, 1072700 effective words/s\n",
      "2022-02-23 23:50:15,910 : INFO : training on a 579845 raw words (461547 effective words) took 0.5s, 980346 effective words/s\n"
     ]
    },
    {
     "data": {
      "text/plain": [
       "[(0, -0.5174000859260559),\n",
       " (1, -0.03696037456393242),\n",
       " (2, -0.26440325379371643),\n",
       " (3, 0.2398240566253662),\n",
       " (4, 0.08183284848928452),\n",
       " (5, 0.3870095908641815),\n",
       " (6, 0.6916289329528809),\n",
       " (7, -0.3417064845561981),\n",
       " (8, 0.03753161057829857),\n",
       " (9, -0.2456740438938141),\n",
       " (10, -0.3363957107067108),\n",
       " (11, -0.03869570791721344),\n",
       " (12, -0.16772134602069855),\n",
       " (13, -0.07635287940502167),\n",
       " (14, 0.41640016436576843),\n",
       " (15, 0.20923125743865967),\n",
       " (16, 0.38629648089408875),\n",
       " (17, 0.4339441955089569),\n",
       " (18, 0.1519511342048645),\n",
       " (19, 0.05688624456524849),\n",
       " (20, -0.4095950126647949),\n",
       " (21, -0.3986765742301941),\n",
       " (22, -0.9196064472198486),\n",
       " (23, -0.1673547625541687),\n",
       " (24, 0.21654129028320312),\n",
       " (25, 0.036857303231954575),\n",
       " (26, 0.8396694660186768),\n",
       " (27, -0.037629205733537674),\n",
       " (28, -0.22994504868984222),\n",
       " (29, 0.1321900337934494),\n",
       " (30, -0.5154922604560852),\n",
       " (31, 0.10525617748498917),\n",
       " (32, -0.24672317504882812),\n",
       " (33, -0.5309687852859497),\n",
       " (34, 0.4381971061229706),\n",
       " (35, -0.24792984127998352),\n",
       " (36, -0.4096370339393616),\n",
       " (37, -0.5149704813957214),\n",
       " (38, -0.31008031964302063),\n",
       " (39, 0.13335636258125305),\n",
       " (40, -0.1258869469165802),\n",
       " (41, -0.04253747686743736),\n",
       " (42, -0.4047331213951111),\n",
       " (43, -0.8432860374450684),\n",
       " (44, 0.4205355942249298),\n",
       " (45, 0.34770163893699646),\n",
       " (46, 0.04560612887144089),\n",
       " (47, 0.03704565018415451),\n",
       " (48, 0.9102998375892639),\n",
       " (49, -0.2642945945262909),\n",
       " (50, 0.11140880733728409),\n",
       " (51, 0.3125497102737427),\n",
       " (52, -0.551962673664093),\n",
       " (53, 0.1918569654226303),\n",
       " (54, 0.2065633237361908),\n",
       " (55, -0.160740464925766),\n",
       " (56, 1.0247740745544434),\n",
       " (57, 0.32282334566116333),\n",
       " (58, 0.4906715452671051),\n",
       " (59, 0.3365069329738617),\n",
       " (60, -0.12868273258209229),\n",
       " (61, 0.36142468452453613),\n",
       " (62, 0.27676090598106384),\n",
       " (63, -0.3241640627384186),\n",
       " (64, 0.23789407312870026),\n",
       " (65, -0.26374831795692444),\n",
       " (66, -0.778134286403656),\n",
       " (67, 0.3738614320755005),\n",
       " (68, 0.28969693183898926),\n",
       " (69, 0.44303634762763977),\n",
       " (70, -0.5751725435256958),\n",
       " (71, 0.4419686794281006),\n",
       " (72, 0.11653327196836472),\n",
       " (73, -0.1252882182598114),\n",
       " (74, -0.18434622883796692),\n",
       " (75, -0.09454486519098282),\n",
       " (76, 1.0322338342666626),\n",
       " (77, -0.47104212641716003),\n",
       " (78, 0.42456984519958496),\n",
       " (79, -0.11772429943084717),\n",
       " (80, -0.7482420206069946),\n",
       " (81, 0.5004963874816895),\n",
       " (82, -0.45828136801719666),\n",
       " (83, 1.1978280544281006),\n",
       " (84, 0.0842151939868927),\n",
       " (85, -0.15134954452514648),\n",
       " (86, -0.8722394704818726),\n",
       " (87, 0.608186662197113),\n",
       " (88, 0.13953204452991486),\n",
       " (89, -0.08255207538604736),\n",
       " (90, 0.17716161906719208),\n",
       " (91, 0.542603075504303),\n",
       " (92, 0.19013626873493195),\n",
       " (93, 0.27619194984436035),\n",
       " (94, -0.21523351967334747),\n",
       " (95, 0.33621254563331604),\n",
       " (96, -0.016687549650669098),\n",
       " (97, -0.0862291231751442),\n",
       " (98, 0.6515456438064575),\n",
       " (99, 0.7279964089393616)]"
      ]
     },
     "execution_count": 87,
     "metadata": {},
     "output_type": "execute_result"
    }
   ],
   "source": [
    "# TODO: Implement this! (10 points)\n",
    "class W2VRetrievalModel(VectorSpaceRetrievalModel):\n",
    "    def __init__(self, doc_repr):\n",
    "        super().__init__(doc_repr)\n",
    "\n",
    "        # the dimensionality of the vectors\n",
    "        self.size = 100\n",
    "        self.min_count = 1\n",
    "\n",
    "    def train_model(self):\n",
    "        \"\"\"\n",
    "        Trains the W2V model\n",
    "        \"\"\"\n",
    "        # YOUR CODE HERE\n",
    "        self.model = Word2Vec(\n",
    "            sentences=self.documents, size=self.size, min_count=self.min_count\n",
    "        )\n",
    "\n",
    "    def vectorize_documents(self):\n",
    "        \"\"\"\n",
    "        Returns a doc_id -> vector dictionary\n",
    "        \"\"\"\n",
    "        # YOUR CODE HERE\n",
    "        vectors = {}\n",
    "        for (doc_id, doc) in self.doc_repr:\n",
    "            # initializations for this document\n",
    "            doc_vector = np.zeros(self.size)\n",
    "            n_words = 0\n",
    "            for word in doc:\n",
    "                n_words += 1\n",
    "                # check that current word in doc in our model (needed for pretrained)\n",
    "                try:\n",
    "                    word_vector = self.model.wv[word]\n",
    "                except KeyError:\n",
    "                    # don't count this word\n",
    "                    n_words -= 1\n",
    "                    continue\n",
    "                doc_vector += word_vector\n",
    "            if n_words > 0:\n",
    "                # aggregate by taking the mean over the found words\n",
    "                doc_vector = doc_vector / n_words\n",
    "            # convert to weird gensim format that is desired\n",
    "            doc_vector = [(i, el) for i, el in enumerate(doc_vector)]\n",
    "            # and save to our dictionary\n",
    "            vectors[doc_id] = doc_vector\n",
    "\n",
    "        return vectors\n",
    "\n",
    "    def vectorize_query(self, query):\n",
    "        \"\"\"\n",
    "        Vectorizes the query using the W2V model\n",
    "        \"\"\"\n",
    "        # YOUR CODE HERE\n",
    "        query = process_text(query, **config_2)\n",
    "        # initialize query vector\n",
    "        query_vec = np.zeros(self.size)\n",
    "        # handle valid queries (i.e. processing hasn't made it empty)\n",
    "        if len(query) > 0:\n",
    "            n_words = 0\n",
    "            for word in query:\n",
    "                n_words += 1\n",
    "                # check that current word in query in our vocab\n",
    "                try:\n",
    "                    word_vector = self.model.wv[word]\n",
    "                except KeyError:\n",
    "                    # don't count this word\n",
    "                    n_words -= 1\n",
    "                    continue\n",
    "                query_vec += word_vector\n",
    "            if n_words > 0:\n",
    "                # aggregate by taking the mean over the found words\n",
    "                query_vec = query_vec / n_words\n",
    "        # convert to weird gensim format that is desired\n",
    "        query_vec = [(i, el) for i, el in enumerate(query_vec)]\n",
    "        return query_vec\n",
    "\n",
    "\n",
    "class W2VPretrainedRetrievalModel(W2VRetrievalModel):\n",
    "    def __init__(self, doc_repr):\n",
    "        super().__init__(doc_repr)\n",
    "        self.model_name = \"word2vec-google-news-300\"\n",
    "        self.size = 300\n",
    "\n",
    "    def train_model(self):\n",
    "        \"\"\"\n",
    "        Loads the pretrained model\n",
    "        \"\"\"\n",
    "        self.model = g_downloader.load(self.model_name)\n",
    "\n",
    "\n",
    "w2v = W2VRetrievalModel(doc_repr_2)\n",
    "w2v.train_model()\n",
    "\n",
    "# you can now get a W2V vector for a given query in the following way:\n",
    "w2v.vectorize_query(\"report\")"
   ]
  },
  {
   "cell_type": "code",
   "execution_count": 88,
   "metadata": {
    "cell_id": "00142-4fd5a03c-b76f-4fd4-b70f-2670bd4416e5",
    "deepnote_cell_height": 117,
    "deepnote_cell_type": "code",
    "deepnote_to_be_reexecuted": false,
    "deletable": false,
    "editable": false,
    "execution_millis": 11300785,
    "execution_start": 1645186676074,
    "lines_to_next_cell": 2,
    "nbgrader": {
     "cell_type": "code",
     "checksum": "f92b5c5a8c6c4b80652b94223209ab0b",
     "grade": true,
     "grade_id": "cell-b31c0f8d214b8bdf",
     "locked": true,
     "points": 0,
     "schema_version": 3,
     "solution": false,
     "task": false
    },
    "source_hash": "3f3d7257"
   },
   "outputs": [],
   "source": [
    "assert len(w2v.vectorize_query(\"report\")) == 100\n",
    "assert len(w2v.vectorize_query(\"this is a sentence that is not mellifluous\")) == 100"
   ]
  },
  {
   "cell_type": "markdown",
   "metadata": {
    "cell_id": "00143-dca6cd62-6d5c-4c14-8cc4-7299f1f8390e",
    "deepnote_cell_height": 52.390625,
    "deepnote_cell_type": "markdown",
    "deletable": false,
    "editable": false,
    "nbgrader": {
     "cell_type": "markdown",
     "checksum": "8dfaabebcb06f308a7ca61fdc5d369e7",
     "grade": false,
     "grade_id": "cell-c2614fa067386384",
     "locked": true,
     "points": 8,
     "schema_version": 3,
     "solution": false,
     "task": true
    }
   },
   "source": [
    "\\#### Please do not change this. This cell is used for grading."
   ]
  },
  {
   "cell_type": "code",
   "execution_count": 89,
   "metadata": {
    "cell_id": "00144-7801f559-0e0a-405d-84bf-a02dd1269f5a",
    "collapsed": true,
    "deepnote_cell_height": 304.9375,
    "deepnote_cell_type": "code",
    "deepnote_output_heights": [
     null,
     40.375
    ],
    "deepnote_to_be_reexecuted": false,
    "execution_millis": 611,
    "execution_start": 1645186676087,
    "jupyter": {
     "outputs_hidden": true
    },
    "source_hash": "8ab4bf3a",
    "tags": []
   },
   "outputs": [
    {
     "name": "stderr",
     "output_type": "stream",
     "text": [
      "2022-02-23 23:50:15,935 : INFO : adding document #0 to Dictionary(0 unique tokens: [])\n",
      "2022-02-23 23:50:16,121 : INFO : built Dictionary(5937 unique tokens: ['-', 'algebra', 'intern', 'languag', 'preliminari']...) from 3204 documents (total 115969 corpus positions)\n",
      "2022-02-23 23:50:16,127 : INFO : discarding 4740 tokens: [('repeat', 8), ('glossari', 7), ('inspect', 8), ('uncol', 2), ('rung', 9), ('secant', 2), ('.', 1603), ('acceler', 6), ('diverg', 3), ('induc', 9)]...\n",
      "2022-02-23 23:50:16,128 : INFO : keeping 1197 tokens which were in no less than 10 and no more than 1602 (=50.0%) documents\n",
      "2022-02-23 23:50:16,131 : INFO : resulting dictionary: Dictionary(1197 unique tokens: ['-', 'algebra', 'intern', 'languag', 'preliminari']...)\n",
      "2022-02-23 23:50:16,317 : INFO : loading projection weights from /Users/thesofakillers/gensim-data/word2vec-google-news-300/word2vec-google-news-300.gz\n",
      "2022-02-23 23:51:12,414 : INFO : loaded (3000000, 300) matrix from /Users/thesofakillers/gensim-data/word2vec-google-news-300/word2vec-google-news-300.gz\n",
      "/Users/thesofakillers/miniconda3/envs/ir1/lib/python3.6/site-packages/ipykernel_launcher.py:64: DeprecationWarning: Call to deprecated `wv` (Attribute will be removed in 4.0.0, use self instead).\n"
     ]
    },
    {
     "data": {
      "text/plain": [
       "[(0, -0.142578125),\n",
       " (1, -0.1640625),\n",
       " (2, -0.09033203125),\n",
       " (3, -0.1123046875),\n",
       " (4, 0.10009765625),\n",
       " (5, -0.041259765625),\n",
       " (6, 0.048828125),\n",
       " (7, -0.13671875),\n",
       " (8, 0.1962890625),\n",
       " (9, -0.134765625),\n",
       " (10, -0.017578125),\n",
       " (11, 0.0322265625),\n",
       " (12, 0.09521484375),\n",
       " (13, -0.10595703125),\n",
       " (14, -0.169921875),\n",
       " (15, 0.041015625),\n",
       " (16, -0.263671875),\n",
       " (17, -0.006317138671875),\n",
       " (18, -0.177734375),\n",
       " (19, -0.240234375),\n",
       " (20, 0.3515625),\n",
       " (21, -0.01220703125),\n",
       " (22, -0.162109375),\n",
       " (23, -0.12060546875),\n",
       " (24, 0.043212890625),\n",
       " (25, 0.10986328125),\n",
       " (26, 0.052490234375),\n",
       " (27, 0.1787109375),\n",
       " (28, -0.1455078125),\n",
       " (29, 0.1376953125),\n",
       " (30, -0.08203125),\n",
       " (31, -0.283203125),\n",
       " (32, -0.10888671875),\n",
       " (33, -0.2890625),\n",
       " (34, 0.072265625),\n",
       " (35, -0.04736328125),\n",
       " (36, 0.040283203125),\n",
       " (37, 0.06787109375),\n",
       " (38, 0.11669921875),\n",
       " (39, 0.00083160400390625),\n",
       " (40, 0.068359375),\n",
       " (41, 0.1201171875),\n",
       " (42, -0.08837890625),\n",
       " (43, 0.337890625),\n",
       " (44, -0.044677734375),\n",
       " (45, -0.0301513671875),\n",
       " (46, 0.0076904296875),\n",
       " (47, -0.0211181640625),\n",
       " (48, -0.25390625),\n",
       " (49, 0.1494140625),\n",
       " (50, 0.3984375),\n",
       " (51, 0.0216064453125),\n",
       " (52, -0.023193359375),\n",
       " (53, 0.00634765625),\n",
       " (54, 0.00823974609375),\n",
       " (55, -0.1689453125),\n",
       " (56, 0.037353515625),\n",
       " (57, -0.0634765625),\n",
       " (58, 0.1171875),\n",
       " (59, -0.1484375),\n",
       " (60, -0.07861328125),\n",
       " (61, 0.369140625),\n",
       " (62, -0.224609375),\n",
       " (63, 0.173828125),\n",
       " (64, 0.01385498046875),\n",
       " (65, 0.1875),\n",
       " (66, -0.10107421875),\n",
       " (67, 0.037841796875),\n",
       " (68, 0.0021209716796875),\n",
       " (69, -0.05126953125),\n",
       " (70, 0.09619140625),\n",
       " (71, -0.05712890625),\n",
       " (72, 0.10595703125),\n",
       " (73, -0.02099609375),\n",
       " (74, 0.1611328125),\n",
       " (75, 0.09765625),\n",
       " (76, 0.038330078125),\n",
       " (77, 0.2197265625),\n",
       " (78, 0.1064453125),\n",
       " (79, 0.0859375),\n",
       " (80, 0.1796875),\n",
       " (81, -0.0830078125),\n",
       " (82, -0.033203125),\n",
       " (83, 0.041015625),\n",
       " (84, -0.06494140625),\n",
       " (85, 0.0198974609375),\n",
       " (86, 0.1337890625),\n",
       " (87, -0.09765625),\n",
       " (88, -0.193359375),\n",
       " (89, -0.2353515625),\n",
       " (90, 0.1904296875),\n",
       " (91, 0.0024871826171875),\n",
       " (92, -0.0157470703125),\n",
       " (93, 0.0322265625),\n",
       " (94, -0.2197265625),\n",
       " (95, -0.09130859375),\n",
       " (96, 0.021240234375),\n",
       " (97, 0.158203125),\n",
       " (98, 0.298828125),\n",
       " (99, -0.328125),\n",
       " (100, 0.057373046875),\n",
       " (101, -0.04638671875),\n",
       " (102, 0.11328125),\n",
       " (103, -0.1015625),\n",
       " (104, 0.1806640625),\n",
       " (105, -0.025146484375),\n",
       " (106, -0.166015625),\n",
       " (107, -0.09619140625),\n",
       " (108, 0.018798828125),\n",
       " (109, -0.1943359375),\n",
       " (110, 0.1494140625),\n",
       " (111, -0.056640625),\n",
       " (112, -0.10693359375),\n",
       " (113, -0.150390625),\n",
       " (114, -0.17578125),\n",
       " (115, 0.11279296875),\n",
       " (116, 0.04931640625),\n",
       " (117, 0.2197265625),\n",
       " (118, 0.318359375),\n",
       " (119, 0.1572265625),\n",
       " (120, -0.29296875),\n",
       " (121, 0.10498046875),\n",
       " (122, -0.296875),\n",
       " (123, -0.013427734375),\n",
       " (124, 0.0908203125),\n",
       " (125, 0.0125732421875),\n",
       " (126, -0.051513671875),\n",
       " (127, -0.12890625),\n",
       " (128, 0.01446533203125),\n",
       " (129, 0.12060546875),\n",
       " (130, -0.10107421875),\n",
       " (131, -0.111328125),\n",
       " (132, 0.06396484375),\n",
       " (133, -0.052978515625),\n",
       " (134, -0.043212890625),\n",
       " (135, -0.012939453125),\n",
       " (136, -0.027587890625),\n",
       " (137, -0.09716796875),\n",
       " (138, -0.2021484375),\n",
       " (139, 0.123046875),\n",
       " (140, -0.04248046875),\n",
       " (141, 0.173828125),\n",
       " (142, -0.013671875),\n",
       " (143, 0.1015625),\n",
       " (144, -0.00093841552734375),\n",
       " (145, -0.03564453125),\n",
       " (146, 0.30078125),\n",
       " (147, -0.068359375),\n",
       " (148, -0.05615234375),\n",
       " (149, 0.03759765625),\n",
       " (150, 0.06591796875),\n",
       " (151, 0.040283203125),\n",
       " (152, 0.01190185546875),\n",
       " (153, 0.09619140625),\n",
       " (154, 0.3671875),\n",
       " (155, -0.279296875),\n",
       " (156, -0.052001953125),\n",
       " (157, -0.10693359375),\n",
       " (158, -0.134765625),\n",
       " (159, -0.046142578125),\n",
       " (160, 0.25),\n",
       " (161, 0.00567626953125),\n",
       " (162, -0.014404296875),\n",
       " (163, -0.031005859375),\n",
       " (164, -0.060302734375),\n",
       " (165, 0.10595703125),\n",
       " (166, 0.37890625),\n",
       " (167, 0.058837890625),\n",
       " (168, 0.123046875),\n",
       " (169, -0.115234375),\n",
       " (170, 0.1494140625),\n",
       " (171, -0.1640625),\n",
       " (172, -0.2333984375),\n",
       " (173, -0.07763671875),\n",
       " (174, 0.0267333984375),\n",
       " (175, -0.0211181640625),\n",
       " (176, 0.1943359375),\n",
       " (177, -0.05615234375),\n",
       " (178, -0.006439208984375),\n",
       " (179, -0.169921875),\n",
       " (180, -0.11865234375),\n",
       " (181, -0.0673828125),\n",
       " (182, -0.06884765625),\n",
       " (183, -0.0869140625),\n",
       " (184, -0.1015625),\n",
       " (185, 0.01416015625),\n",
       " (186, -0.201171875),\n",
       " (187, 0.09814453125),\n",
       " (188, -0.01025390625),\n",
       " (189, 0.1875),\n",
       " (190, 0.1962890625),\n",
       " (191, -0.220703125),\n",
       " (192, -0.1962890625),\n",
       " (193, -0.07373046875),\n",
       " (194, 0.06640625),\n",
       " (195, -0.1337890625),\n",
       " (196, 0.18359375),\n",
       " (197, -0.2001953125),\n",
       " (198, 0.1982421875),\n",
       " (199, 0.05029296875),\n",
       " (200, 0.0299072265625),\n",
       " (201, 0.0177001953125),\n",
       " (202, -0.193359375),\n",
       " (203, -0.09619140625),\n",
       " (204, -0.1025390625),\n",
       " (205, 0.212890625),\n",
       " (206, -0.0299072265625),\n",
       " (207, 0.1435546875),\n",
       " (208, 0.041015625),\n",
       " (209, -0.2119140625),\n",
       " (210, 0.2080078125),\n",
       " (211, 0.1376953125),\n",
       " (212, -0.0196533203125),\n",
       " (213, 0.01495361328125),\n",
       " (214, -0.09765625),\n",
       " (215, 0.2431640625),\n",
       " (216, 0.080078125),\n",
       " (217, 0.08251953125),\n",
       " (218, 0.0986328125),\n",
       " (219, 0.056884765625),\n",
       " (220, 0.04248046875),\n",
       " (221, 0.06884765625),\n",
       " (222, -0.035400390625),\n",
       " (223, -0.076171875),\n",
       " (224, -0.00016117095947265625),\n",
       " (225, -0.0751953125),\n",
       " (226, 0.224609375),\n",
       " (227, 0.1513671875),\n",
       " (228, 0.1005859375),\n",
       " (229, 0.10986328125),\n",
       " (230, 0.0238037109375),\n",
       " (231, 0.08837890625),\n",
       " (232, 0.061767578125),\n",
       " (233, -0.10791015625),\n",
       " (234, 0.062255859375),\n",
       " (235, 0.0034332275390625),\n",
       " (236, 0.08056640625),\n",
       " (237, 0.10693359375),\n",
       " (238, 0.0888671875),\n",
       " (239, -0.2373046875),\n",
       " (240, 0.06494140625),\n",
       " (241, 0.01019287109375),\n",
       " (242, -0.08837890625),\n",
       " (243, -0.33203125),\n",
       " (244, 0.004669189453125),\n",
       " (245, 0.212890625),\n",
       " (246, 0.0859375),\n",
       " (247, 0.0203857421875),\n",
       " (248, 0.045654296875),\n",
       " (249, 0.1484375),\n",
       " (250, 0.1181640625),\n",
       " (251, 0.0556640625),\n",
       " (252, -0.1728515625),\n",
       " (253, -0.125),\n",
       " (254, -0.025390625),\n",
       " (255, -0.318359375),\n",
       " (256, 0.0311279296875),\n",
       " (257, 0.0859375),\n",
       " (258, -0.0419921875),\n",
       " (259, 0.15625),\n",
       " (260, 0.1611328125),\n",
       " (261, 0.1982421875),\n",
       " (262, -0.10009765625),\n",
       " (263, 0.203125),\n",
       " (264, 0.12890625),\n",
       " (265, 0.2333984375),\n",
       " (266, -0.267578125),\n",
       " (267, 0.05517578125),\n",
       " (268, 0.048828125),\n",
       " (269, 0.072265625),\n",
       " (270, 0.244140625),\n",
       " (271, 0.244140625),\n",
       " (272, 0.056884765625),\n",
       " (273, -0.0546875),\n",
       " (274, -0.03369140625),\n",
       " (275, -0.12060546875),\n",
       " (276, 0.034912109375),\n",
       " (277, -0.1455078125),\n",
       " (278, 0.08740234375),\n",
       " (279, -0.0830078125),\n",
       " (280, 0.0172119140625),\n",
       " (281, 0.1435546875),\n",
       " (282, -0.12255859375),\n",
       " (283, 0.1796875),\n",
       " (284, 0.130859375),\n",
       " (285, -0.1650390625),\n",
       " (286, 0.01275634765625),\n",
       " (287, 0.16015625),\n",
       " (288, -0.0311279296875),\n",
       " (289, 0.08203125),\n",
       " (290, 0.173828125),\n",
       " (291, -0.16796875),\n",
       " (292, 0.130859375),\n",
       " (293, 0.08544921875),\n",
       " (294, -0.2109375),\n",
       " (295, -0.130859375),\n",
       " (296, -0.0289306640625),\n",
       " (297, -0.10546875),\n",
       " (298, 0.08447265625),\n",
       " (299, -0.1416015625)]"
      ]
     },
     "execution_count": 89,
     "metadata": {},
     "output_type": "execute_result"
    }
   ],
   "source": [
    "w2v_pretrained = W2VPretrainedRetrievalModel(doc_repr_2)\n",
    "w2v_pretrained.train_model()\n",
    "\n",
    "# you can now get an W2V vector for a given query in the following way:\n",
    "w2v_pretrained.vectorize_query(\"report\")"
   ]
  },
  {
   "cell_type": "code",
   "execution_count": 90,
   "metadata": {
    "cell_id": "00145-65d4934b-cf4d-414e-8525-dff2c72b8313",
    "deepnote_cell_height": 198.1875,
    "deepnote_cell_type": "code",
    "deepnote_to_be_reexecuted": false,
    "deletable": false,
    "editable": false,
    "execution_millis": 1303,
    "execution_start": 1645186676707,
    "nbgrader": {
     "cell_type": "code",
     "checksum": "0822845afb5eafe5ddb1ffeaa4f4942a",
     "grade": true,
     "grade_id": "cell-1b1466f8ce516f42",
     "locked": true,
     "points": 2,
     "schema_version": 3,
     "solution": false,
     "task": false
    },
    "source_hash": "d4727a64"
   },
   "outputs": [
    {
     "name": "stdout",
     "output_type": "stream",
     "text": [
      "300\n"
     ]
    },
    {
     "name": "stderr",
     "output_type": "stream",
     "text": [
      "/Users/thesofakillers/miniconda3/envs/ir1/lib/python3.6/site-packages/ipykernel_launcher.py:64: DeprecationWarning: Call to deprecated `wv` (Attribute will be removed in 4.0.0, use self instead).\n"
     ]
    }
   ],
   "source": [
    "##### Function check\n",
    "\n",
    "print(len(w2v_pretrained.vectorize_query(\"report\")))\n",
    "#####"
   ]
  },
  {
   "cell_type": "code",
   "execution_count": 91,
   "metadata": {
    "cell_id": "00146-c209a2da-8745-4211-89bc-c716df8bb9ce",
    "deepnote_cell_height": 303,
    "deepnote_cell_type": "code",
    "deepnote_to_be_reexecuted": false,
    "execution_millis": 1086,
    "execution_start": 1645187351976,
    "source_hash": "8865e3e5"
   },
   "outputs": [
    {
     "data": {
      "application/vnd.jupyter.widget-view+json": {
       "model_id": "a5da659dac8c40c7abeffba52fc77a0e",
       "version_major": 2,
       "version_minor": 0
      },
      "text/plain": [
       "Text(value='', description='Search Bar')"
      ]
     },
     "metadata": {},
     "output_type": "display_data"
    }
   ],
   "source": [
    "drm_w2v = DenseRetrievalRanker(w2v, cosine_sim)\n",
    "\n",
    "# test your LDA model\n",
    "search_fn = drm_w2v.search\n",
    "\n",
    "text = widgets.Text(description=\"Search Bar\", width=200)\n",
    "display(text)\n",
    "\n",
    "\n",
    "text.on_submit(handle_submit_2)"
   ]
  },
  {
   "cell_type": "code",
   "execution_count": 92,
   "metadata": {
    "cell_id": "00147-e85d21fc-9447-411a-8131-fda7837fdf00",
    "deepnote_cell_height": 306.1875,
    "deepnote_cell_type": "code",
    "deepnote_to_be_reexecuted": false,
    "execution_millis": 174,
    "execution_start": 1645187355913,
    "source_hash": "8fd1ee96"
   },
   "outputs": [
    {
     "name": "stderr",
     "output_type": "stream",
     "text": [
      "/Users/thesofakillers/miniconda3/envs/ir1/lib/python3.6/site-packages/ipykernel_launcher.py:33: DeprecationWarning: Call to deprecated `wv` (Attribute will be removed in 4.0.0, use self instead).\n"
     ]
    },
    {
     "data": {
      "application/vnd.jupyter.widget-view+json": {
       "model_id": "51d0668640ff42f2b1d787d8e2ed7580",
       "version_major": 2,
       "version_minor": 0
      },
      "text/plain": [
       "Text(value='', description='Search Bar')"
      ]
     },
     "metadata": {},
     "output_type": "display_data"
    }
   ],
   "source": [
    "drm_w2v_pretrained = DenseRetrievalRanker(w2v_pretrained, cosine_sim)\n",
    "\n",
    "# test your LDA model\n",
    "search_fn = drm_w2v_pretrained.search\n",
    "\n",
    "text = widgets.Text(description=\"Search Bar\", width=200)\n",
    "display(text)\n",
    "\n",
    "\n",
    "text.on_submit(handle_submit_2)"
   ]
  },
  {
   "cell_type": "markdown",
   "metadata": {
    "cell_id": "00148-18690d99-32f6-4368-8791-fa8a660313c5",
    "deepnote_cell_height": 91,
    "deepnote_cell_type": "markdown",
    "deletable": false,
    "editable": false,
    "nbgrader": {
     "cell_type": "markdown",
     "checksum": "51b778984fd60757974f51047c61eb15",
     "grade": false,
     "grade_id": "cell-b92f701cbc706108",
     "locked": true,
     "schema_version": 3,
     "solution": false,
     "task": false
    }
   },
   "source": [
    "**Implementation (10 points):**\n",
    "For Doc2Vec, you will need to create a list of `TaggedDocument` instead of using the `self.corpus` or `self.documents` variable. Use the document id as the 'tag'.\n"
   ]
  },
  {
   "cell_type": "code",
   "execution_count": 93,
   "metadata": {
    "cell_id": "00149-f7ea4b9a-161d-4405-9440-ab008f8bc0ac",
    "deepnote_cell_height": 2261,
    "deepnote_cell_type": "code",
    "deepnote_output_heights": [
     null,
     611
    ],
    "deepnote_to_be_reexecuted": false,
    "deletable": false,
    "execution_millis": 33704,
    "execution_start": 1645187360265,
    "nbgrader": {
     "cell_type": "code",
     "checksum": "1f60fdeb97febb7f4a6fd5bf109aac20",
     "grade": false,
     "grade_id": "cell-680facdcc98a19ab",
     "locked": false,
     "schema_version": 3,
     "solution": true,
     "task": false
    },
    "source_hash": "ad328353",
    "tags": []
   },
   "outputs": [
    {
     "name": "stderr",
     "output_type": "stream",
     "text": [
      "2022-02-23 23:51:18,636 : INFO : adding document #0 to Dictionary(0 unique tokens: [])\n",
      "2022-02-23 23:51:18,820 : INFO : built Dictionary(5937 unique tokens: ['-', 'algebra', 'intern', 'languag', 'preliminari']...) from 3204 documents (total 115969 corpus positions)\n",
      "2022-02-23 23:51:18,832 : INFO : discarding 4740 tokens: [('repeat', 8), ('glossari', 7), ('inspect', 8), ('uncol', 2), ('rung', 9), ('secant', 2), ('.', 1603), ('acceler', 6), ('diverg', 3), ('induc', 9)]...\n",
      "2022-02-23 23:51:18,832 : INFO : keeping 1197 tokens which were in no less than 10 and no more than 1602 (=50.0%) documents\n",
      "2022-02-23 23:51:18,835 : INFO : resulting dictionary: Dictionary(1197 unique tokens: ['-', 'algebra', 'intern', 'languag', 'preliminari']...)\n",
      "2022-02-23 23:51:18,933 : INFO : collecting all words and their counts\n",
      "2022-02-23 23:51:18,933 : INFO : PROGRESS: at example #0, processed 0 words (0/s), 0 word types, 0 tags\n",
      "2022-02-23 23:51:18,959 : INFO : collected 5937 word types and 3204 unique tags from a corpus of 3204 examples and 115969 words\n",
      "2022-02-23 23:51:18,960 : INFO : Loading a fresh vocabulary\n",
      "2022-02-23 23:51:18,975 : INFO : effective_min_count=1 retains 5937 unique words (100% of original 5937, drops 0)\n",
      "2022-02-23 23:51:18,976 : INFO : effective_min_count=1 leaves 115969 word corpus (100% of original 115969, drops 0)\n",
      "2022-02-23 23:51:18,991 : INFO : deleting the raw counts dictionary of 5937 items\n",
      "2022-02-23 23:51:18,992 : INFO : sample=0.001 downsamples 40 most-common words\n",
      "2022-02-23 23:51:18,993 : INFO : downsampling leaves estimated 92346 word corpus (79.6% of prior 115969)\n",
      "2022-02-23 23:51:19,009 : INFO : estimated required memory for 5937 words and 100 dimensions: 9640500 bytes\n",
      "2022-02-23 23:51:19,010 : INFO : resetting layer weights\n",
      "2022-02-23 23:51:20,820 : INFO : training model with 3 workers on 5937 vocabulary and 100 features, using sg=0 hs=0 sample=0.001 negative=5 window=5\n",
      "2022-02-23 23:51:21,110 : INFO : worker thread finished; awaiting finish of 2 more threads\n",
      "2022-02-23 23:51:21,131 : INFO : worker thread finished; awaiting finish of 1 more threads\n",
      "2022-02-23 23:51:21,151 : INFO : worker thread finished; awaiting finish of 0 more threads\n",
      "2022-02-23 23:51:21,151 : INFO : EPOCH - 1 : training on 115969 raw words (95582 effective words) took 0.3s, 295004 effective words/s\n",
      "2022-02-23 23:51:21,474 : INFO : worker thread finished; awaiting finish of 2 more threads\n",
      "2022-02-23 23:51:21,486 : INFO : worker thread finished; awaiting finish of 1 more threads\n",
      "2022-02-23 23:51:21,499 : INFO : worker thread finished; awaiting finish of 0 more threads\n",
      "2022-02-23 23:51:21,501 : INFO : EPOCH - 2 : training on 115969 raw words (95470 effective words) took 0.3s, 275618 effective words/s\n",
      "2022-02-23 23:51:21,761 : INFO : worker thread finished; awaiting finish of 2 more threads\n",
      "2022-02-23 23:51:21,768 : INFO : worker thread finished; awaiting finish of 1 more threads\n",
      "2022-02-23 23:51:21,776 : INFO : worker thread finished; awaiting finish of 0 more threads\n",
      "2022-02-23 23:51:21,777 : INFO : EPOCH - 3 : training on 115969 raw words (95551 effective words) took 0.3s, 354919 effective words/s\n",
      "2022-02-23 23:51:22,056 : INFO : worker thread finished; awaiting finish of 2 more threads\n",
      "2022-02-23 23:51:22,071 : INFO : worker thread finished; awaiting finish of 1 more threads\n",
      "2022-02-23 23:51:22,076 : INFO : worker thread finished; awaiting finish of 0 more threads\n",
      "2022-02-23 23:51:22,076 : INFO : EPOCH - 4 : training on 115969 raw words (95506 effective words) took 0.3s, 323801 effective words/s\n",
      "2022-02-23 23:51:22,382 : INFO : worker thread finished; awaiting finish of 2 more threads\n",
      "2022-02-23 23:51:22,389 : INFO : worker thread finished; awaiting finish of 1 more threads\n",
      "2022-02-23 23:51:22,390 : INFO : worker thread finished; awaiting finish of 0 more threads\n",
      "2022-02-23 23:51:22,390 : INFO : EPOCH - 5 : training on 115969 raw words (95591 effective words) took 0.3s, 311899 effective words/s\n",
      "2022-02-23 23:51:22,675 : INFO : worker thread finished; awaiting finish of 2 more threads\n",
      "2022-02-23 23:51:22,691 : INFO : worker thread finished; awaiting finish of 1 more threads\n",
      "2022-02-23 23:51:22,695 : INFO : worker thread finished; awaiting finish of 0 more threads\n",
      "2022-02-23 23:51:22,696 : INFO : EPOCH - 6 : training on 115969 raw words (95395 effective words) took 0.3s, 317986 effective words/s\n",
      "2022-02-23 23:51:22,956 : INFO : worker thread finished; awaiting finish of 2 more threads\n",
      "2022-02-23 23:51:22,958 : INFO : worker thread finished; awaiting finish of 1 more threads\n",
      "2022-02-23 23:51:22,964 : INFO : worker thread finished; awaiting finish of 0 more threads\n",
      "2022-02-23 23:51:22,965 : INFO : EPOCH - 7 : training on 115969 raw words (95510 effective words) took 0.3s, 363370 effective words/s\n",
      "2022-02-23 23:51:23,221 : INFO : worker thread finished; awaiting finish of 2 more threads\n",
      "2022-02-23 23:51:23,227 : INFO : worker thread finished; awaiting finish of 1 more threads\n",
      "2022-02-23 23:51:23,233 : INFO : worker thread finished; awaiting finish of 0 more threads\n",
      "2022-02-23 23:51:23,234 : INFO : EPOCH - 8 : training on 115969 raw words (95534 effective words) took 0.3s, 362352 effective words/s\n",
      "2022-02-23 23:51:23,584 : INFO : worker thread finished; awaiting finish of 2 more threads\n",
      "2022-02-23 23:51:23,608 : INFO : worker thread finished; awaiting finish of 1 more threads\n",
      "2022-02-23 23:51:23,610 : INFO : worker thread finished; awaiting finish of 0 more threads\n",
      "2022-02-23 23:51:23,610 : INFO : EPOCH - 9 : training on 115969 raw words (95498 effective words) took 0.4s, 257202 effective words/s\n",
      "2022-02-23 23:51:23,861 : INFO : worker thread finished; awaiting finish of 2 more threads\n",
      "2022-02-23 23:51:23,877 : INFO : worker thread finished; awaiting finish of 1 more threads\n",
      "2022-02-23 23:51:23,881 : INFO : worker thread finished; awaiting finish of 0 more threads\n",
      "2022-02-23 23:51:23,881 : INFO : EPOCH - 10 : training on 115969 raw words (95591 effective words) took 0.3s, 359478 effective words/s\n",
      "2022-02-23 23:51:24,167 : INFO : worker thread finished; awaiting finish of 2 more threads\n",
      "2022-02-23 23:51:24,170 : INFO : worker thread finished; awaiting finish of 1 more threads\n",
      "2022-02-23 23:51:24,184 : INFO : worker thread finished; awaiting finish of 0 more threads\n",
      "2022-02-23 23:51:24,185 : INFO : EPOCH - 11 : training on 115969 raw words (95613 effective words) took 0.3s, 319744 effective words/s\n",
      "2022-02-23 23:51:24,586 : INFO : worker thread finished; awaiting finish of 2 more threads\n",
      "2022-02-23 23:51:24,604 : INFO : worker thread finished; awaiting finish of 1 more threads\n",
      "2022-02-23 23:51:24,614 : INFO : worker thread finished; awaiting finish of 0 more threads\n",
      "2022-02-23 23:51:24,615 : INFO : EPOCH - 12 : training on 115969 raw words (95536 effective words) took 0.4s, 225207 effective words/s\n",
      "2022-02-23 23:51:24,877 : INFO : worker thread finished; awaiting finish of 2 more threads\n",
      "2022-02-23 23:51:24,886 : INFO : worker thread finished; awaiting finish of 1 more threads\n",
      "2022-02-23 23:51:24,889 : INFO : worker thread finished; awaiting finish of 0 more threads\n",
      "2022-02-23 23:51:24,890 : INFO : EPOCH - 13 : training on 115969 raw words (95537 effective words) took 0.3s, 354754 effective words/s\n",
      "2022-02-23 23:51:25,152 : INFO : worker thread finished; awaiting finish of 2 more threads\n",
      "2022-02-23 23:51:25,173 : INFO : worker thread finished; awaiting finish of 1 more threads\n",
      "2022-02-23 23:51:25,177 : INFO : worker thread finished; awaiting finish of 0 more threads\n",
      "2022-02-23 23:51:25,178 : INFO : EPOCH - 14 : training on 115969 raw words (95628 effective words) took 0.3s, 339170 effective words/s\n",
      "2022-02-23 23:51:25,437 : INFO : worker thread finished; awaiting finish of 2 more threads\n",
      "2022-02-23 23:51:25,450 : INFO : worker thread finished; awaiting finish of 1 more threads\n",
      "2022-02-23 23:51:25,460 : INFO : worker thread finished; awaiting finish of 0 more threads\n",
      "2022-02-23 23:51:25,461 : INFO : EPOCH - 15 : training on 115969 raw words (95576 effective words) took 0.3s, 344554 effective words/s\n",
      "2022-02-23 23:51:25,706 : INFO : worker thread finished; awaiting finish of 2 more threads\n",
      "2022-02-23 23:51:25,744 : INFO : worker thread finished; awaiting finish of 1 more threads\n",
      "2022-02-23 23:51:25,748 : INFO : worker thread finished; awaiting finish of 0 more threads\n",
      "2022-02-23 23:51:25,750 : INFO : EPOCH - 16 : training on 115969 raw words (95636 effective words) took 0.3s, 336613 effective words/s\n",
      "2022-02-23 23:51:26,237 : INFO : worker thread finished; awaiting finish of 2 more threads\n",
      "2022-02-23 23:51:26,245 : INFO : worker thread finished; awaiting finish of 1 more threads\n",
      "2022-02-23 23:51:26,252 : INFO : worker thread finished; awaiting finish of 0 more threads\n",
      "2022-02-23 23:51:26,253 : INFO : EPOCH - 17 : training on 115969 raw words (95489 effective words) took 0.5s, 199570 effective words/s\n",
      "2022-02-23 23:51:26,602 : INFO : worker thread finished; awaiting finish of 2 more threads\n",
      "2022-02-23 23:51:26,605 : INFO : worker thread finished; awaiting finish of 1 more threads\n",
      "2022-02-23 23:51:26,618 : INFO : worker thread finished; awaiting finish of 0 more threads\n",
      "2022-02-23 23:51:26,619 : INFO : EPOCH - 18 : training on 115969 raw words (95601 effective words) took 0.4s, 265384 effective words/s\n",
      "2022-02-23 23:51:26,898 : INFO : worker thread finished; awaiting finish of 2 more threads\n",
      "2022-02-23 23:51:26,914 : INFO : worker thread finished; awaiting finish of 1 more threads\n",
      "2022-02-23 23:51:26,918 : INFO : worker thread finished; awaiting finish of 0 more threads\n",
      "2022-02-23 23:51:26,918 : INFO : EPOCH - 19 : training on 115969 raw words (95628 effective words) took 0.3s, 324243 effective words/s\n",
      "2022-02-23 23:51:27,181 : INFO : worker thread finished; awaiting finish of 2 more threads\n",
      "2022-02-23 23:51:27,185 : INFO : worker thread finished; awaiting finish of 1 more threads\n",
      "2022-02-23 23:51:27,188 : INFO : worker thread finished; awaiting finish of 0 more threads\n",
      "2022-02-23 23:51:27,189 : INFO : EPOCH - 20 : training on 115969 raw words (95502 effective words) took 0.3s, 359068 effective words/s\n",
      "2022-02-23 23:51:27,190 : INFO : training on a 2319380 raw words (1910974 effective words) took 6.4s, 300046 effective words/s\n"
     ]
    },
    {
     "data": {
      "text/plain": [
       "[(0, -0.06230873),\n",
       " (1, 0.048325904),\n",
       " (2, -0.012815756),\n",
       " (3, 0.029836815),\n",
       " (4, -0.020441439),\n",
       " (5, 0.02381837),\n",
       " (6, 0.044048846),\n",
       " (7, -0.042871658),\n",
       " (8, -0.01441594),\n",
       " (9, 0.010458596),\n",
       " (10, -0.033808023),\n",
       " (11, 0.04351187),\n",
       " (12, 0.05528226),\n",
       " (13, -0.075677775),\n",
       " (14, 0.034955394),\n",
       " (15, 0.021622255),\n",
       " (16, 0.064426586),\n",
       " (17, 0.04448014),\n",
       " (18, -0.0042538736),\n",
       " (19, 0.054985),\n",
       " (20, -0.046729997),\n",
       " (21, -0.04725163),\n",
       " (22, -0.027868276),\n",
       " (23, -0.0047759),\n",
       " (24, 0.048490964),\n",
       " (25, -0.0037410194),\n",
       " (26, 0.01927504),\n",
       " (27, -0.012402113),\n",
       " (28, -0.051106505),\n",
       " (29, 0.04155806),\n",
       " (30, -0.046019293),\n",
       " (31, 0.024928145),\n",
       " (32, -0.074706025),\n",
       " (33, -0.03424732),\n",
       " (34, 0.02365293),\n",
       " (35, -0.0033967276),\n",
       " (36, -0.029343642),\n",
       " (37, -0.082432695),\n",
       " (38, -0.03357986),\n",
       " (39, -0.013999064),\n",
       " (40, -0.052621484),\n",
       " (41, 0.003729599),\n",
       " (42, 0.022563709),\n",
       " (43, -0.031685945),\n",
       " (44, 0.034781538),\n",
       " (45, -0.006411331),\n",
       " (46, -0.00025125043),\n",
       " (47, -0.078629516),\n",
       " (48, 0.074249335),\n",
       " (49, -0.06264682),\n",
       " (50, 0.028431615),\n",
       " (51, 0.007888701),\n",
       " (52, -0.026584368),\n",
       " (53, 0.009857999),\n",
       " (54, 0.030869192),\n",
       " (55, -0.12612171),\n",
       " (56, 0.11680983),\n",
       " (57, 0.015553296),\n",
       " (58, -0.008119223),\n",
       " (59, 0.029267253),\n",
       " (60, -0.062744014),\n",
       " (61, 0.033058625),\n",
       " (62, 0.008228857),\n",
       " (63, -0.02286548),\n",
       " (64, -0.0014724914),\n",
       " (65, 0.021211),\n",
       " (66, -0.10922128),\n",
       " (67, 0.08315069),\n",
       " (68, 0.0067349966),\n",
       " (69, 0.033446044),\n",
       " (70, 0.036256667),\n",
       " (71, 0.054186366),\n",
       " (72, 0.09451606),\n",
       " (73, 0.02811163),\n",
       " (74, -0.039147038),\n",
       " (75, -0.018130578),\n",
       " (76, 0.09072752),\n",
       " (77, -0.021391721),\n",
       " (78, 0.056041937),\n",
       " (79, 0.0033025036),\n",
       " (80, -0.006505383),\n",
       " (81, -0.032073088),\n",
       " (82, -0.08476928),\n",
       " (83, 0.1282166),\n",
       " (84, -0.016364573),\n",
       " (85, -0.049448855),\n",
       " (86, -0.12955905),\n",
       " (87, 0.010589634),\n",
       " (88, -0.023167152),\n",
       " (89, -0.077520296),\n",
       " (90, 0.07333009),\n",
       " (91, 0.05001778),\n",
       " (92, 0.010461904),\n",
       " (93, 0.0920962),\n",
       " (94, -0.05056481),\n",
       " (95, 0.09793837),\n",
       " (96, 0.059874855),\n",
       " (97, 0.025326326),\n",
       " (98, -0.003883507),\n",
       " (99, 0.10820314)]"
      ]
     },
     "execution_count": 93,
     "metadata": {},
     "output_type": "execute_result"
    }
   ],
   "source": [
    "# TODO: Implement this! (10 points)\n",
    "class D2VRetrievalModel(VectorSpaceRetrievalModel):\n",
    "    def __init__(self, doc_repr):\n",
    "        super().__init__(doc_repr)\n",
    "\n",
    "        self.vector_size = 100\n",
    "        self.min_count = 1\n",
    "        self.epochs = 20\n",
    "\n",
    "        # YOUR CODE HERE\n",
    "        self.tagged_documents = [\n",
    "            TaggedDocument(doc, [doc_id]) for doc_id, doc in self.doc_repr\n",
    "        ]\n",
    "\n",
    "    def train_model(self):\n",
    "        # YOUR CODE HERE\n",
    "        self.model = Doc2Vec(\n",
    "            documents=self.tagged_documents,\n",
    "            vector_size=self.vector_size,\n",
    "            epochs=self.epochs,\n",
    "            min_count=self.min_count,\n",
    "        )\n",
    "\n",
    "    def vectorize_documents(self):\n",
    "        \"\"\"\n",
    "        Returns a doc_id -> vector dictionary\n",
    "        \"\"\"\n",
    "        # YOUR CODE HERE\n",
    "        vectors = {}\n",
    "        for (doc_id, doc) in self.doc_repr:\n",
    "            doc_vec = self.model.docvecs[doc_id]\n",
    "            # convert to weird gensim format\n",
    "            doc_vec = [(i, el) for i, el in enumerate(doc_vec)]\n",
    "            # store\n",
    "            vectors[doc_id] = doc_vec\n",
    "        return vectors\n",
    "\n",
    "    def vectorize_query(self, query):\n",
    "        # YOUR CODE HERE\n",
    "        query = process_text(query, **config_2)\n",
    "        query_vec = self.model.infer_vector(query)\n",
    "        # conver to weird gensim format\n",
    "        query_vec = [(i, el) for i, el in enumerate(query_vec)]\n",
    "        return query_vec\n",
    "\n",
    "\n",
    "d2v = D2VRetrievalModel(doc_repr_2)\n",
    "d2v.train_model()\n",
    "\n",
    "\n",
    "# # you can now get an LSI vector for a given query in the following way:\n",
    "d2v.vectorize_query(\"report\")"
   ]
  },
  {
   "cell_type": "code",
   "execution_count": 94,
   "metadata": {
    "cell_id": "00150-51d38d3e-9d84-4728-935b-b2266a0f7700",
    "deepnote_cell_height": 81,
    "deepnote_cell_type": "code",
    "deepnote_to_be_reexecuted": false,
    "deletable": false,
    "editable": false,
    "execution_millis": 13,
    "execution_start": 1645187446843,
    "nbgrader": {
     "cell_type": "code",
     "checksum": "e83a363a9d4f136efbdde1426a83925e",
     "grade": true,
     "grade_id": "cell-5e2c5e0c9a2e8cb5",
     "locked": true,
     "points": 0,
     "schema_version": 3,
     "solution": false,
     "task": false
    },
    "source_hash": "28110d30"
   },
   "outputs": [],
   "source": [
    "#### Please do not change this. This cell is used for grading."
   ]
  },
  {
   "cell_type": "markdown",
   "metadata": {
    "cell_id": "00151-fb85191e-b51e-42ca-812f-693c5a17802d",
    "deepnote_cell_height": 52.390625,
    "deepnote_cell_type": "markdown",
    "deletable": false,
    "editable": false,
    "nbgrader": {
     "cell_type": "markdown",
     "checksum": "5bb46bf6b9be1e0ca66f0b0bc6260ecb",
     "grade": false,
     "grade_id": "cell-8a49d414f798a595",
     "locked": true,
     "points": 10,
     "schema_version": 3,
     "solution": false,
     "task": true
    }
   },
   "source": [
    "\\#### Please do not change this. This cell is used for grading."
   ]
  },
  {
   "cell_type": "code",
   "execution_count": 95,
   "metadata": {
    "cell_id": "00152-f0e8290b-0789-4c20-965c-0a941de12a6d",
    "deepnote_cell_height": 303,
    "deepnote_cell_type": "code",
    "deepnote_to_be_reexecuted": false,
    "execution_millis": 302,
    "execution_start": 1645187449617,
    "source_hash": "2beb5e63"
   },
   "outputs": [
    {
     "data": {
      "application/vnd.jupyter.widget-view+json": {
       "model_id": "c26f2f0934364a1d976d70685d401467",
       "version_major": 2,
       "version_minor": 0
      },
      "text/plain": [
       "Text(value='', description='Search Bar')"
      ]
     },
     "metadata": {},
     "output_type": "display_data"
    }
   ],
   "source": [
    "drm_d2v = DenseRetrievalRanker(d2v, cosine_sim)\n",
    "\n",
    "# test your LDA model\n",
    "search_fn = drm_d2v.search\n",
    "\n",
    "text = widgets.Text(description=\"Search Bar\", width=200)\n",
    "display(text)\n",
    "\n",
    "\n",
    "text.on_submit(handle_submit_2)"
   ]
  },
  {
   "cell_type": "markdown",
   "metadata": {
    "cell_id": "00153-7795ce30-661e-4988-b26a-e3ed09ce3615",
    "deepnote_cell_height": 168.171875,
    "deepnote_cell_type": "markdown",
    "deletable": false,
    "editable": false,
    "nbgrader": {
     "cell_type": "markdown",
     "checksum": "363ec36c1d03d9f9e1c2045a6e193c14",
     "grade": false,
     "grade_id": "cell-3529ae29eece7b97",
     "locked": true,
     "schema_version": 3,
     "solution": false,
     "task": false
    }
   },
   "source": [
    "---\n",
    "## Section 9: Re-ranking (10 points) <a class=\"anchor\" id=\"reranking\"></a>\n",
    "\n",
    "[Back to Part 2](#part2)\n",
    "\n",
    "To motivate the re-ranking perspective (i.e retrieve with lexical method + rerank with a semantic method), let's search using semantic methods and compare it to BM25's performance, along with their runtime:\n"
   ]
  },
  {
   "cell_type": "code",
   "execution_count": 96,
   "metadata": {
    "cell_id": "00154-4c11daad-82ca-4156-9d9b-7d9457aaf21b",
    "deepnote_cell_height": 567.875,
    "deepnote_cell_type": "code",
    "deepnote_to_be_reexecuted": false,
    "deletable": false,
    "editable": false,
    "execution_millis": 22802,
    "execution_start": 1645187474568,
    "nbgrader": {
     "cell_type": "code",
     "checksum": "5755f70e3eb28abc65d14d80125338af",
     "grade": false,
     "grade_id": "cell-f8f43bf5ae383128",
     "locked": true,
     "schema_version": 3,
     "solution": false,
     "task": false
    },
    "source_hash": "3fb54859"
   },
   "outputs": [
    {
     "name": "stdout",
     "output_type": "stream",
     "text": [
      "BM25: \n",
      "2.48 ms ± 656 µs per loop (mean ± std. dev. of 7 runs, 100 loops each)\n",
      "LSI: \n",
      "964 ms ± 150 ms per loop (mean ± std. dev. of 7 runs, 1 loop each)\n",
      "LDA: \n",
      "510 ms ± 128 ms per loop (mean ± std. dev. of 7 runs, 1 loop each)\n",
      "W2V: \n",
      "752 ms ± 172 ms per loop (mean ± std. dev. of 7 runs, 1 loop each)\n",
      "W2V(Pretrained): \n"
     ]
    },
    {
     "name": "stderr",
     "output_type": "stream",
     "text": [
      "/Users/thesofakillers/miniconda3/envs/ir1/lib/python3.6/site-packages/ipykernel_launcher.py:64: DeprecationWarning: Call to deprecated `wv` (Attribute will be removed in 4.0.0, use self instead).\n"
     ]
    },
    {
     "name": "stdout",
     "output_type": "stream",
     "text": [
      "2.11 s ± 231 ms per loop (mean ± std. dev. of 7 runs, 1 loop each)\n",
      "D2V:\n",
      "3.29 s ± 219 ms per loop (mean ± std. dev. of 7 runs, 1 loop each)\n"
     ]
    }
   ],
   "source": [
    "query = \"algebraic functions\"\n",
    "print(\"BM25: \")\n",
    "%timeit bm25_search(query, 2)\n",
    "print(\"LSI: \")\n",
    "%timeit drm_lsi.search(query)\n",
    "print(\"LDA: \")\n",
    "%timeit drm_lda.search(query)\n",
    "print(\"W2V: \")\n",
    "%timeit drm_w2v.search(query)\n",
    "print(\"W2V(Pretrained): \")\n",
    "%timeit drm_w2v_pretrained.search(query)\n",
    "print(\"D2V:\")\n",
    "%timeit drm_d2v.search(query)"
   ]
  },
  {
   "cell_type": "markdown",
   "metadata": {
    "cell_id": "00155-48f43fee-cf35-4878-adef-f41c0c70d38b",
    "deepnote_cell_height": 165.375,
    "deepnote_cell_type": "markdown",
    "deletable": false,
    "editable": false,
    "nbgrader": {
     "cell_type": "markdown",
     "checksum": "ae398da0a8c23c95bcbb0023b7ec6f34",
     "grade": false,
     "grade_id": "cell-db5ff09f97841af7",
     "locked": true,
     "schema_version": 3,
     "solution": false,
     "task": false
    }
   },
   "source": [
    "---\n",
    "\n",
    "**Implementation (10 points):**\n",
    "Re-ranking involves retrieving a small set of documents using simple but fast methods like BM25 and then re-ranking them with the aid of semantic methods such as LDA or LSI. Implement the following class, which takes in an `initial_retrieval_fn` - the initial retrieval function and `vsrm` - an instance of the `VectorSpaceRetrievalModel` class (i.e LSI/LDA) as input. The search function should first retrieve an initial list of K documents, and then these documents are re-ranked using a semantic method. This not only makes retrieval faster, but semantic methods perform poorly when used in isolation, as you will find out."
   ]
  },
  {
   "cell_type": "code",
   "execution_count": 97,
   "metadata": {
    "cell_id": "00156-e15452e3-f043-4451-be79-5e3c6e3f889e",
    "deepnote_cell_height": 639,
    "deepnote_cell_type": "code",
    "deepnote_to_be_reexecuted": false,
    "deletable": false,
    "execution_millis": 0,
    "execution_start": 1645189040776,
    "nbgrader": {
     "cell_type": "code",
     "checksum": "63b6b05a676a2ae3f08d8bed1bc59428",
     "grade": false,
     "grade_id": "cell-5bf47600d1a0c507",
     "locked": false,
     "schema_version": 3,
     "solution": true,
     "task": false
    },
    "source_hash": "fa2995d"
   },
   "outputs": [],
   "source": [
    "# TODO: Implement this! (10 points)\n",
    "class DenseRerankingModel:\n",
    "    def __init__(self, initial_retrieval_fn, vsrm, similarity_fn):\n",
    "        \"\"\"\n",
    "        initial_retrieval_fn: takes in a query and returns a list of [(doc_id, score)] (sorted)\n",
    "        vsrm: instance of `VectorSpaceRetrievalModel`\n",
    "        similarity_fn: function instance that takes in two vectors\n",
    "                        and returns a similarity score e.g cosine_sim defined earlier\n",
    "        \"\"\"\n",
    "        self.ret = initial_retrieval_fn\n",
    "        self.vsrm = vsrm\n",
    "        self.similarity_fn = similarity_fn\n",
    "        self.vectorized_documents = vsrm.vectorize_documents()\n",
    "\n",
    "        assert len(self.vectorized_documents) == len(doc_repr_2)\n",
    "\n",
    "    def search(self, query, K=50):\n",
    "        \"\"\"\n",
    "        First, retrieve the top K results using the retrieval function\n",
    "        Then, re-rank the results using the VSRM instance\n",
    "        \"\"\"\n",
    "        # YOUR CODE HERE\n",
    "        top_k = self.ret(query)[:K]\n",
    "        results = {}\n",
    "        query_vector = self.vsrm.vectorize_query(query)\n",
    "        for doc_id, _score in top_k:\n",
    "            doc_vector = self.vectorized_documents[doc_id]\n",
    "            new_score = self.similarity_fn(doc_vector, query_vector)\n",
    "            results[doc_id] = new_score\n",
    "        # convert results to list and sort descending\n",
    "        results = sorted(list(results.items()), key=lambda x: -x[1])\n",
    "        return results"
   ]
  },
  {
   "cell_type": "code",
   "execution_count": 98,
   "metadata": {
    "cell_id": "00157-3538784a-efa2-4b36-b167-d05248360ac1",
    "deepnote_cell_height": 225,
    "deepnote_cell_type": "code",
    "deepnote_to_be_reexecuted": false,
    "deletable": false,
    "editable": false,
    "execution_millis": 5334,
    "execution_start": 1645189060550,
    "nbgrader": {
     "cell_type": "code",
     "checksum": "334ab5af96976265cace682ab82a7387",
     "grade": true,
     "grade_id": "cell-52c6d18a4c0b4882",
     "locked": true,
     "points": 0,
     "schema_version": 3,
     "solution": false,
     "task": false
    },
    "source_hash": "f5babc28"
   },
   "outputs": [
    {
     "name": "stderr",
     "output_type": "stream",
     "text": [
      "/Users/thesofakillers/miniconda3/envs/ir1/lib/python3.6/site-packages/ipykernel_launcher.py:33: DeprecationWarning: Call to deprecated `wv` (Attribute will be removed in 4.0.0, use self instead).\n"
     ]
    }
   ],
   "source": [
    "##### Function check\n",
    "bm25_search_2 = partial(bm25_search, index_set=2)\n",
    "lsi_rerank = DenseRerankingModel(bm25_search_2, lsi, cosine_sim)\n",
    "lda_rerank = DenseRerankingModel(bm25_search_2, lda, jenson_shannon_sim)\n",
    "w2v_rerank = DenseRerankingModel(bm25_search_2, w2v, cosine_sim)\n",
    "w2v_pretrained_rerank = DenseRerankingModel(bm25_search_2, w2v_pretrained, cosine_sim)\n",
    "d2v_rerank = DenseRerankingModel(bm25_search_2, d2v, cosine_sim)\n",
    "\n",
    "#####"
   ]
  },
  {
   "cell_type": "markdown",
   "metadata": {
    "cell_id": "00158-5fbe0f74-4068-4e6e-9f3b-854b724106d7",
    "deepnote_cell_height": 52.390625,
    "deepnote_cell_type": "markdown",
    "deletable": false,
    "editable": false,
    "nbgrader": {
     "cell_type": "markdown",
     "checksum": "bd904253f45f84e63bab3a69729058fc",
     "grade": false,
     "grade_id": "cell-93215dfe6bcf7cff",
     "locked": true,
     "points": 10,
     "schema_version": 3,
     "solution": false,
     "task": true
    }
   },
   "source": [
    "\\#### Please do not change this. This cell is used for grading."
   ]
  },
  {
   "cell_type": "markdown",
   "metadata": {
    "cell_id": "00159-f5e855d2-5764-440e-a8e4-10860c9a9ac3",
    "deepnote_cell_height": 55,
    "deepnote_cell_type": "markdown",
    "deletable": false,
    "editable": false,
    "nbgrader": {
     "cell_type": "markdown",
     "checksum": "b592e60292bfe3d9ef2930a354c4077a",
     "grade": false,
     "grade_id": "cell-aa694ff55fa91e7d",
     "locked": true,
     "schema_version": 3,
     "solution": false,
     "task": false
    }
   },
   "source": [
    "---\n",
    "Now, let us time the new search functions:"
   ]
  },
  {
   "cell_type": "code",
   "execution_count": 99,
   "metadata": {
    "cell_id": "00160-933196c3-9483-4ca6-a4a6-ca24aad69936",
    "deepnote_cell_height": 530.0625,
    "deepnote_cell_type": "code",
    "deepnote_to_be_reexecuted": false,
    "deletable": false,
    "editable": false,
    "execution_millis": 38436,
    "execution_start": 1645189086450,
    "nbgrader": {
     "cell_type": "code",
     "checksum": "338c7e3528cba266a865a061287c0e38",
     "grade": false,
     "grade_id": "cell-5edbd481562ad91f",
     "locked": true,
     "schema_version": 3,
     "solution": false,
     "task": false
    },
    "source_hash": "bfac7774"
   },
   "outputs": [
    {
     "name": "stdout",
     "output_type": "stream",
     "text": [
      "BM25: \n",
      "2.07 ms ± 472 µs per loop (mean ± std. dev. of 7 runs, 100 loops each)\n",
      "LSI: \n",
      "12.5 ms ± 1.74 ms per loop (mean ± std. dev. of 7 runs, 10 loops each)\n",
      "LDA: \n",
      "5.17 ms ± 79.1 µs per loop (mean ± std. dev. of 7 runs, 100 loops each)\n",
      "W2V: \n",
      "11.4 ms ± 1.52 ms per loop (mean ± std. dev. of 7 runs, 100 loops each)\n",
      "W2V(Pretrained): \n"
     ]
    },
    {
     "name": "stderr",
     "output_type": "stream",
     "text": [
      "/Users/thesofakillers/miniconda3/envs/ir1/lib/python3.6/site-packages/ipykernel_launcher.py:64: DeprecationWarning: Call to deprecated `wv` (Attribute will be removed in 4.0.0, use self instead).\n"
     ]
    },
    {
     "name": "stdout",
     "output_type": "stream",
     "text": [
      "26.9 ms ± 132 µs per loop (mean ± std. dev. of 7 runs, 10 loops each)\n",
      "D2V:\n",
      "52 ms ± 3.55 ms per loop (mean ± std. dev. of 7 runs, 10 loops each)\n"
     ]
    }
   ],
   "source": [
    "query = \"algebraic functions\"\n",
    "print(\"BM25: \")\n",
    "%timeit bm25_search(query, 2)\n",
    "print(\"LSI: \")\n",
    "%timeit lsi_rerank.search(query)\n",
    "print(\"LDA: \")\n",
    "%timeit lda_rerank.search(query)\n",
    "print(\"W2V: \")\n",
    "%timeit w2v_rerank.search(query)\n",
    "print(\"W2V(Pretrained): \")\n",
    "%timeit w2v_pretrained_rerank.search(query)\n",
    "print(\"D2V:\")\n",
    "%timeit d2v_rerank.search(query)"
   ]
  },
  {
   "cell_type": "markdown",
   "metadata": {
    "cell_id": "00161-7e54209c-2f42-4a49-bab8-78710df71f6b",
    "deepnote_cell_height": 55,
    "deepnote_cell_type": "markdown",
    "deletable": false,
    "editable": false,
    "nbgrader": {
     "cell_type": "markdown",
     "checksum": "c45c5e3f015b2de89d9d39ae3766368b",
     "grade": false,
     "grade_id": "cell-85c50f2ab9eec301",
     "locked": true,
     "schema_version": 3,
     "solution": false,
     "task": false
    }
   },
   "source": [
    "---\n",
    "As you can see, it is much faster (but BM25 is still orders of magnitude faster)."
   ]
  },
  {
   "cell_type": "markdown",
   "metadata": {
    "cell_id": "00162-b811d517-f3b2-45f1-9dac-88d1fe08cfda",
    "deepnote_cell_height": 311.375,
    "deepnote_cell_type": "markdown",
    "deletable": false,
    "editable": false,
    "nbgrader": {
     "cell_type": "markdown",
     "checksum": "1e2f3388e3807659f303fe31a75a010e",
     "grade": false,
     "grade_id": "cell-5071bb99b2af61cb",
     "locked": true,
     "schema_version": 3,
     "solution": false,
     "task": false
    }
   },
   "source": [
    "---\n",
    "## Section 10: Evaluation & Analysis (30 points) <a class=\"anchor\" id=\"reranking_eval\"></a>\n",
    "\n",
    "[Back to Part 2](#part2)\n",
    "\n",
    "[Previously](#evaluation) we have implemented some evaluation metrics and used them for measuring the ranking performance of term-based IR algorithms. In this section, we will do the same for semantic methods, both with and without re-ranking.\n",
    "\n",
    "### Section 10.1: Plot (10 points)\n",
    "\n",
    "First, gather the results. The results should consider the index set, the different search functions and different metrics. Plot the results in bar charts, per metric, with clear labels.\n",
    "\n",
    "Then, gather only the re-ranking models, and plot and compare them with the results obtained in part 1 (only index set 2)."
   ]
  },
  {
   "cell_type": "code",
   "execution_count": 100,
   "metadata": {
    "cell_id": "00163-2e475730-a0ad-40ed-b4cf-04ccd10e3e34",
    "deepnote_cell_height": 297,
    "deepnote_cell_type": "code",
    "deepnote_to_be_reexecuted": false,
    "deletable": false,
    "editable": false,
    "execution_millis": 5,
    "execution_start": 1645189150648,
    "nbgrader": {
     "cell_type": "code",
     "checksum": "4fe81520ac6413a803838913fd64de03",
     "grade": false,
     "grade_id": "cell-b672fe6dfae0b1ce",
     "locked": true,
     "schema_version": 3,
     "solution": false,
     "task": false
    },
    "source_hash": "c2b8785a"
   },
   "outputs": [],
   "source": [
    "list_of_sem_search_fns = [\n",
    "    (\"lda\", drm_lda.search),\n",
    "    (\"lsi\", drm_lsi.search),\n",
    "    (\"w2v\", drm_w2v.search),\n",
    "    (\"w2v_pretrained\", drm_w2v_pretrained.search),\n",
    "    (\"d2v\", drm_d2v.search),\n",
    "    (\"lsi_rr\", lsi_rerank.search),\n",
    "    (\"lda_rr\", lda_rerank.search),\n",
    "    (\"w2v_rr\", w2v_rerank.search),\n",
    "    (\"w2v_pretrained_rr\", w2v_pretrained_rerank.search),\n",
    "    (\"d2v_rr\", d2v_rerank.search),\n",
    "]"
   ]
  },
  {
   "cell_type": "code",
   "execution_count": 101,
   "metadata": {
    "cell_id": "00164-ba70f9d6-5fd4-4ccc-9243-56081705849b",
    "deepnote_cell_height": 2368.78125,
    "deepnote_cell_type": "code",
    "deepnote_output_heights": [
     472.390625,
     472.390625
    ],
    "deepnote_to_be_reexecuted": false,
    "deletable": false,
    "execution_millis": 699543,
    "execution_start": 1645197094542,
    "nbgrader": {
     "cell_type": "code",
     "checksum": "54707c4afac084299aeefa047259b4a9",
     "grade": true,
     "grade_id": "cell-7dd8273b0f5a3c22",
     "locked": false,
     "points": 10,
     "schema_version": 3,
     "solution": true,
     "task": false
    },
    "source_hash": "7b8cce53"
   },
   "outputs": [
    {
     "name": "stdout",
     "output_type": "stream",
     "text": [
      "\n",
      "Vanilla\n",
      "\tlda\n",
      "{'ERR': 0.08448326,\n",
      " 'MAP': 0.036164086,\n",
      " 'Precision@1': 0.057692308,\n",
      " 'Precision@10': 0.053846158,\n",
      " 'Precision@5': 0.057692308,\n",
      " 'Recall@1': 0.0026900184,\n",
      " 'Recall@10': 0.027873687,\n",
      " 'Recall@5': 0.013623526}\n",
      "\tlsi\n",
      "{'ERR': 0.123125665,\n",
      " 'MAP': 0.06326382,\n",
      " 'Precision@1': 0.115384616,\n",
      " 'Precision@10': 0.075,\n",
      " 'Precision@5': 0.08846155,\n",
      " 'Recall@1': 0.015510531,\n",
      " 'Recall@10': 0.05435463,\n",
      " 'Recall@5': 0.03464716}\n",
      "\tw2v\n",
      "{'ERR': 0.024669008,\n",
      " 'MAP': 0.0133189615,\n",
      " 'Precision@1': 0.01923077,\n",
      " 'Precision@10': 0.009615385,\n",
      " 'Precision@5': 0.0076923077,\n",
      " 'Recall@1': 0.0027472528,\n",
      " 'Recall@10': 0.0108630955,\n",
      " 'Recall@5': 0.0037087912}\n"
     ]
    },
    {
     "name": "stderr",
     "output_type": "stream",
     "text": [
      "/Users/thesofakillers/miniconda3/envs/ir1/lib/python3.6/site-packages/ipykernel_launcher.py:64: DeprecationWarning: Call to deprecated `wv` (Attribute will be removed in 4.0.0, use self instead).\n"
     ]
    },
    {
     "name": "stdout",
     "output_type": "stream",
     "text": [
      "\tw2v_pretrained\n",
      "{'ERR': 0.22888106,\n",
      " 'MAP': 0.13215353,\n",
      " 'Precision@1': 0.30769232,\n",
      " 'Precision@10': 0.1326923,\n",
      " 'Precision@5': 0.17307693,\n",
      " 'Recall@1': 0.048749086,\n",
      " 'Recall@10': 0.14604688,\n",
      " 'Recall@5': 0.10601156}\n",
      "\td2v\n",
      "{'ERR': 0.09950666,\n",
      " 'MAP': 0.045228284,\n",
      " 'Precision@1': 0.07692308,\n",
      " 'Precision@10': 0.053846154,\n",
      " 'Precision@5': 0.06153846,\n",
      " 'Recall@1': 0.0064051147,\n",
      " 'Recall@10': 0.047630228,\n",
      " 'Recall@5': 0.031397197}\n",
      "\n",
      "Reranked\n",
      "\tlsi\n",
      "{'ERR': 0.21854307,\n",
      " 'MAP': 0.13049431,\n",
      " 'Precision@1': 0.1923077,\n",
      " 'Precision@10': 0.18076923,\n",
      " 'Precision@5': 0.18846154,\n",
      " 'Recall@1': 0.033948842,\n",
      " 'Recall@10': 0.26622698,\n",
      " 'Recall@5': 0.15124404}\n",
      "\tlda\n",
      "{'ERR': 0.20866428,\n",
      " 'MAP': 0.11754624,\n",
      " 'Precision@1': 0.1923077,\n",
      " 'Precision@10': 0.18076922,\n",
      " 'Precision@5': 0.16538462,\n",
      " 'Recall@1': 0.026661303,\n",
      " 'Recall@10': 0.2764532,\n",
      " 'Recall@5': 0.109620385}\n",
      "\tw2v\n",
      "{'ERR': 0.16401093,\n",
      " 'MAP': 0.1041104,\n",
      " 'Precision@1': 0.09615385,\n",
      " 'Precision@10': 0.14807692,\n",
      " 'Precision@5': 0.13461539,\n",
      " 'Recall@1': 0.011238217,\n",
      " 'Recall@10': 0.2298057,\n",
      " 'Recall@5': 0.0827036}\n",
      "\tw2v_pretrained\n",
      "{'ERR': 0.2839876,\n",
      " 'MAP': 0.17797674,\n",
      " 'Precision@1': 0.34615386,\n",
      " 'Precision@10': 0.20769231,\n",
      " 'Precision@5': 0.23076923,\n",
      " 'Recall@1': 0.08440109,\n",
      " 'Recall@10': 0.3412429,\n",
      " 'Recall@5': 0.20217164}\n",
      "\td2v\n",
      "{'ERR': 0.243844,\n",
      " 'MAP': 0.13114618,\n",
      " 'Precision@1': 0.25,\n",
      " 'Precision@10': 0.20961538,\n",
      " 'Precision@5': 0.19615385,\n",
      " 'Recall@1': 0.03756356,\n",
      " 'Recall@10': 0.29488868,\n",
      " 'Recall@5': 0.13236131}\n"
     ]
    },
    {
     "data": {
      "image/png": "[encoded data removed]",
      "text/plain": [
       "<Figure size 1008x576 with 8 Axes>"
      ]
     },
     "metadata": {
      "needs_background": "light"
     },
     "output_type": "display_data"
    }
   ],
   "source": [
    "# # YOUR CODE HERE\n",
    "# takes roughly 10 mins to run\n",
    "from pprint import pprint\n",
    "fig, axes = plt.subplots(2, 4, figsize=(14, 8), sharey=False)\n",
    "axes = axes.flatten()\n",
    "\n",
    "# need this to make side by side bars\n",
    "N = len(list_of_sem_search_fns) // 2\n",
    "method_loc = np.arange(N)\n",
    "bar_width = 0.25\n",
    "\n",
    "vanilla_search_fns = list_of_sem_search_fns[:N]\n",
    "reranked_search_fns = list_of_sem_search_fns[N:]\n",
    "\n",
    "search_fns_map = {\"Vanilla\": vanilla_search_fns, \"Reranked\": reranked_search_fns}\n",
    "\n",
    "for j, mode in enumerate([\"Vanilla\", \"Reranked\"]):\n",
    "    results = {}\n",
    "    print(f\"\\n{mode}\")\n",
    "    \n",
    "    for search_alg, search_fn in search_fns_map[mode]:\n",
    "        # remove _rr from reranked algo's so that the labels match\n",
    "        search_alg = search_alg.replace(\"_rr\", \"\")\n",
    "        results[search_alg] = evaluate_search_fn(search_fn, list_of_metrics)\n",
    "        print(f\"\\t{search_alg}\")\n",
    "        pprint(results[search_alg])\n",
    "\n",
    "    for i, (metric_name, _metric_fn) in enumerate(list_of_metrics):\n",
    "        metric_results = {k: v[metric_name] for k, v in results.items()}\n",
    "\n",
    "        labels = list(metric_results.keys())\n",
    "        values = [metric_results[label] for label in labels]\n",
    "\n",
    "        axes[i].grid(True, which=\"major\", axis=\"y\", alpha=0.35)\n",
    "        if i % 4 == 0:\n",
    "            axes[i].set_ylabel(\"Average Metric Value\")\n",
    "        if j == 0:\n",
    "            axes[i].bar(method_loc, values, bar_width, label=f\"{mode}\")\n",
    "        else:\n",
    "            axes[i].bar(method_loc + bar_width, values, bar_width, label=f\"{mode}\")\n",
    "            axes[i].set_xticks(method_loc + bar_width / 2)\n",
    "            axes[i].set_xticklabels(labels, rotation=30, ha=\"right\")\n",
    "            axes[i].set_title(metric_name)\n",
    "            if i == 7:\n",
    "                axes[i].legend()\n",
    "\n",
    "\n",
    "fig.suptitle(\"Comparison of different Semantic IR algorithms across various Metrics\")\n",
    "fig.tight_layout(rect=[0, 0.03, 1, 0.95])\n",
    "plt.show()\n",
    "\n",
    "\n",
    "# #2nd Plot: Compare semantic search with reranking to models from part 1,\n",
    "# commented out as it is extra work: uncomment and rerun to see (will take time)\n",
    "\n",
    "# fig, axes = plt.subplots(2, 4, figsize=(14, 7), sharey=False)\n",
    "# axes = axes.flatten()\n",
    "\n",
    "# list_of_rerank_sem_search_fns = [\n",
    "#     (\"lsi_rr\", lsi_rerank.search),\n",
    "#     (\"lda_rr\", lda_rerank.search),\n",
    "#     (\"w2v_rr\", w2v_rerank.search),\n",
    "#     # (\"w2v_pretrained_rr\", w2v_pretrained_rerank.search),\n",
    "#     (\"d2v_rr\", d2v_rerank.search),\n",
    "# ]\n",
    "\n",
    "# N = len(list_of_rerank_sem_search_fns + list_of_search_fns)\n",
    "# method_loc = np.arange(N)\n",
    "\n",
    "# results = {}\n",
    "\n",
    "# for i, (search_alg, search_fn) in enumerate(reranked_search_fns + list_of_search_fns):\n",
    "#     if i >= len(list_of_rerank_sem_search_fns):\n",
    "#         results[search_alg] = evaluate_search_fn(\n",
    "#             search_fn, list_of_metrics, index_set=2\n",
    "#         )\n",
    "#     else:\n",
    "#         results[search_alg] = evaluate_search_fn(search_fn, list_of_metrics)\n",
    "\n",
    "# for i, (metric_name, _metric_fn) in enumerate(list_of_metrics):\n",
    "#     metric_results = {k: v[metric_name] for k, v in results.items()}\n",
    "\n",
    "#     labels = list(metric_results.keys())\n",
    "#     values = [metric_results[label] for label in labels]\n",
    "\n",
    "#     axes[i].grid(True, which=\"major\", axis=\"y\", alpha=0.35)\n",
    "#     if i % 4 == 0:\n",
    "#         axes[i].set_ylabel(\"Average Metric Value\")\n",
    "#     axes[i].bar(method_loc, values, bar_width)\n",
    "#     axes[i].set_xticks(method_loc)\n",
    "#     axes[i].set_xticklabels(labels, rotation=45)\n",
    "#     axes[i].set_title(metric_name)\n",
    "\n",
    "# fig.suptitle(\"Comparison between semantic and term-based ranking algorithms\")\n",
    "# fig.tight_layout(rect=[0, 0.03, 1, 0.95])\n",
    "# plt.show()"
   ]
  },
  {
   "cell_type": "markdown",
   "metadata": {
    "cell_id": "00165-821599fc-9264-4123-a542-2b0354dde4f7",
    "deepnote_cell_height": 145.1875,
    "deepnote_cell_type": "markdown",
    "deletable": false,
    "editable": false,
    "nbgrader": {
     "cell_type": "markdown",
     "checksum": "a8a3b6189bdde66704c694d85e38d049",
     "grade": false,
     "grade_id": "cell-deb2ef3daa306e82",
     "locked": true,
     "schema_version": 3,
     "solution": false,
     "task": false
    }
   },
   "source": [
    "### Section 10.2: Summary (20 points)\n",
    "\n",
    "Your summary should compare methods from Part 1 and Part 2 (only for index set 2). State what you expected to see in the results, followed by either supporting evidence *or* justify why the results did not support your expectations. Consider the availability of data, scalability, domain/type of data, etc."
   ]
  },
  {
   "cell_type": "markdown",
   "metadata": {
    "cell_id": "00166-930e721d-9166-4296-ad5c-4c4449f6c99e",
    "deepnote_cell_height": 52.390625,
    "deepnote_cell_type": "markdown",
    "deletable": false,
    "nbgrader": {
     "cell_type": "markdown",
     "checksum": "ff97c43837d10bff6aaffa75e1492887",
     "grade": true,
     "grade_id": "cell-ec5dd7d9cf59dd86",
     "locked": false,
     "points": 20,
     "schema_version": 3,
     "solution": true,
     "task": false
    }
   },
   "source": [
    "1. In general term-based models perform better than semantic ones. This is\n",
    "   somewhat surprising - we would expect that semantic models would be better at\n",
    "   capturing relevance without the need for relevant documents to contain the\n",
    "   exact tokens in the query.\n",
    "   - TODO why do semantic models perform worse?? ->some ideas:\n",
    "     1. pretrained models have been trained on a corpus from a different domain\n",
    "        therefore representations are not as good for current domain.\n",
    "     2. semantic models might be better for much larger corpus with more\n",
    "        documents where words occur more frequently in similar contexts.\n",
    "2. Reranking clearly works better. This might be due to the fact that we first\n",
    "   use term-based models and as discussed in 1. we know that term-based models\n",
    "   perform better in the first place.\n",
    "3. W2V performs very poorly - likely because the corpus is too small for\n",
    "   meaningful representations to be generated for words.\n",
    "4. LSI and LDA perform better than any of the word or document representation\n",
    "   models. Again could be because those methods use SVD for word representation\n",
    "   instead of learning based on data and should therefore be better for a\n",
    "   smaller corpus.\n",
    "\n",
    "## Notes Giulio\n",
    "\n",
    "- ~~Maybe also add the even the pretrained w2v isn't that great, probably because\n",
    "  often words from our documents weren't found in the model, perhaps due to\n",
    "  different preprocessing pipelines or due to lack of finetuning on our end~~\n",
    "- ngl i dont know much about lda and lsi so hard for me to make other comments\n",
    "  here"
   ]
  }
 ],
 "metadata": {
  "deepnote": {},
  "deepnote_execution_queue": [],
  "deepnote_notebook_id": "13b77af2-2689-4e0d-949d-ce0f01912b71",
  "kernelspec": {
   "display_name": "Python 3",
   "language": "python",
   "name": "python3"
  },
  "language_info": {
   "codemirror_mode": {
    "name": "ipython",
    "version": 3
   },
   "file_extension": ".py",
   "mimetype": "text/x-python",
   "name": "python",
   "nbconvert_exporter": "python",
   "pygments_lexer": "ipython3",
   "version": "3.6.5"
  },
  "toc": {
   "base_numbering": 1,
   "nav_menu": {},
   "number_sections": true,
   "sideBar": true,
   "skip_h1_title": false,
   "title_cell": "Table of Contents",
   "title_sidebar": "Contents",
   "toc_cell": false,
   "toc_position": {},
   "toc_section_display": true,
   "toc_window_display": false
  },
  "toc-autonumbering": false
 },
 "nbformat": 4,
 "nbformat_minor": 4
}
