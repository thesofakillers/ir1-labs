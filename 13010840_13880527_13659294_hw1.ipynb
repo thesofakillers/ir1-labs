{
 "cells": [
  {
   "cell_type": "markdown",
   "metadata": {
    "cell_id": "2506602b-e699-4ea6-9aa5-4cb13cc4f3c0",
    "deepnote_cell_height": 824,
    "deepnote_cell_type": "markdown",
    "deletable": false,
    "editable": false,
    "nbgrader": {
     "cell_type": "markdown",
     "checksum": "1bba455de8bc2825ca70469169bbadaa",
     "grade": false,
     "grade_id": "cell-c9cd9e550239e812",
     "locked": true,
     "schema_version": 3,
     "solution": false,
     "task": false
    }
   },
   "source": [
    "# Homework 1 (Total Points: 250) <a class=\"anchor\" id=\"top\"></a>\n",
    "\n",
    "\n",
    "**Submission instructions**:\n",
    "- The cells with the `# YOUR CODE HERE` denote that these sections are graded and you need to add your implementation.\n",
    "- For Part 1: You can use the `nltk`, `NumPy`, and `matplotlib` libraries here. Other libraries, e.g., `gensim` or `scikit-learn`, may not be used. For Part 2: `gensim` is allowed in addition to the imported libraries in the next code cell\n",
    "- Please use Python 3.6.5 and `pip install -r requirements.txt` to avoid version issues.\n",
    "- The notebook you submit has to have the student ids, separated by underscores (E.g., `12341234_12341234_12341234_hw1.ipynb`).\n",
    "- This will be parsed by a regexp, **so please double check your filename**.\n",
    "- Only one member of each group has to submit the file (**please do not compress the .ipynb file when you will submit it**) to canvas.\n",
    "- **Make sure to check that your notebook runs before submission**. A quick way to do this is to restart the kernel and run all the cells.\n",
    "- Do not change the number of arugments in the given functions.\n",
    "- **Please do not delete/add new cells**. Removing cells **will** lead to grade deduction.\n",
    "- Note, that you are not allowed to use Google Colab.\n",
    "\n",
    "\n",
    "**Learning Goals**:\n",
    "- [Part 1, Term-based matching](#part1) (165 points):\n",
    "    - Learn how to load a dataset and process it.\n",
    "    - Learn how to implement several standard IR methods (TF-IDF, BM25, QL) and understand their weaknesses & strengths.\n",
    "    - Learn how to evaluate IR methods.\n",
    "- [Part 2, Semantic-based matching](#part2) (85 points):\n",
    "    - Learn how to implement vector-space retrieval methods (LSI, LDA).\n",
    "    - Learn how to use LSI and LDA for re-ranking.\n",
    "\n",
    "\n",
    "**Resources**:\n",
    "- **Part 1**: Sections 2.3, 4.1, 4.2, 4.3, 5.3, 5.6, 5.7, 6.2, 7, 8 of [Search Engines: Information Retrieval in Practice](https://ciir.cs.umass.edu/downloads/SEIRiP.pdf)\n",
    "- **Part 2**: [LSI - Chapter 18](https://nlp.stanford.edu/IR-book/pdf/18lsi.pdf) from [Introduction to Information Retrieval](https://nlp.stanford.edu/IR-book/) book and the [original LDA paper](https://jmlr.org/papers/volume3/blei03a/blei03a.pdf)"
   ]
  },
  {
   "cell_type": "code",
   "execution_count": 2,
   "metadata": {
    "cell_id": "00001-e743cc22-6da0-404e-8b14-8521799dfd06",
    "deepnote_cell_height": 477,
    "deepnote_cell_type": "code",
    "deepnote_to_be_reexecuted": false,
    "deletable": false,
    "editable": false,
    "execution_millis": 4063,
    "execution_start": 1645186524256,
    "nbgrader": {
     "cell_type": "code",
     "checksum": "c55bfe94ff1f564dd595547e516c4c6e",
     "grade": false,
     "grade_id": "cell-f5357fabdb9660e3",
     "locked": true,
     "schema_version": 3,
     "solution": false,
     "task": false
    },
    "source_hash": "33e174b2"
   },
   "outputs": [],
   "source": [
    "# imports\n",
    "# TODO: Ensure that no additional library is imported in the notebook.\n",
    "# TODO: Only the standard library and the following libraries are allowed:\n",
    "# TODO: You can also use unlisted classes from these libraries or standard libraries (such as defaultdict, Counter, ...).\n",
    "\n",
    "import os\n",
    "import zipfile\n",
    "from functools import partial\n",
    "\n",
    "import nltk\n",
    "import requests\n",
    "import numpy as np\n",
    "from tqdm import tqdm\n",
    "\n",
    "import matplotlib.pyplot as plt\n",
    "from matplotlib.pyplot import cm\n",
    "\n",
    "from ipywidgets import widgets\n",
    "from IPython.display import display, HTML\n",
    "\n",
    "# from IPython.html import widgets\n",
    "from collections import namedtuple\n",
    "\n",
    "%matplotlib inline"
   ]
  },
  {
   "cell_type": "markdown",
   "metadata": {
    "cell_id": "00002-8e715841-7edb-4d33-8595-6680b7d47ad7",
    "deepnote_cell_height": 412.390625,
    "deepnote_cell_type": "markdown",
    "deletable": false,
    "editable": false,
    "nbgrader": {
     "cell_type": "markdown",
     "checksum": "c8328f758ca5b69f76eee03dbbdd4715",
     "grade": false,
     "grade_id": "cell-7428e12ed184408b",
     "locked": true,
     "schema_version": 3,
     "solution": false,
     "task": false
    }
   },
   "source": [
    "\n",
    "# Part 1: Term-based Matching (165 points) <a class=\"anchor\" id=\"part1\"></a>\n",
    "\n",
    "[Back to top](#top)\n",
    "\n",
    "In the first part, we will learn the basics of IR from loading and preprocessing the material, to implementing some well known search algorithms, to evaluating the ranking performance of the implemented algorithms. We will be using the CACM dataset throughout the assignment. The CACM dataset is a collection of titles and abstracts from the journal CACM (Communication of the ACM).\n",
    "\n",
    "Table of contents:\n",
    "- [Section 1: Text Processing](#text_processing) (5 points)\n",
    "- [Section 2: Indexing](#indexing) (10 points)\n",
    "- [Section 3: Ranking](#ranking) (80 points)\n",
    "- [Section 4: Evaluation](#evaluation) (40 points)\n",
    "- [Section 5: Analysis](#analysis) (30 points)\n"
   ]
  },
  {
   "cell_type": "markdown",
   "metadata": {
    "cell_id": "00003-584ac16f-6a3d-441f-a49b-132e6d063b8d",
    "deepnote_cell_height": 412.390625,
    "deepnote_cell_type": "markdown",
    "deletable": false,
    "editable": false,
    "nbgrader": {
     "cell_type": "markdown",
     "checksum": "4e3f938065183dc743aa8254b96b4f5e",
     "grade": false,
     "grade_id": "cell-4b24825cf4ae55ec",
     "locked": true,
     "schema_version": 3,
     "solution": false,
     "task": false
    }
   },
   "source": [
    "---\n",
    "## Section 1: Text Processing (5 points)<a class=\"anchor\" id=\"text_processing\"></a>\n",
    "\n",
    "[Back to Part 1](#part1)\n",
    "\n",
    "In this section, we will load the dataset and learn how to clean up the data to make it usable for an IR system.\n",
    "First, go through the implementation of the following functions:\n",
    "- `read_cacm_docs`: Reads in the CACM documents.\n",
    "- `read_queries`: Reads in the CACM queries.\n",
    "- `load_stopwords`: Loads the stopwords.\n",
    "\n",
    "The points of this section are earned for the following implementations:\n",
    "- `tokenize` (3 points): Tokenizes the input text.\n",
    "- `stem_token` (2 points): Stems the given token.\n",
    "\n",
    "We are using the [CACM dataset](http://ir.dcs.gla.ac.uk/resources/test_collections/cacm/), which is a small, classic IR dataset, composed of a collection of titles and abstracts from the journal CACM. It comes with relevance judgements for queries, so we can evaluate our IR system.\n"
   ]
  },
  {
   "cell_type": "markdown",
   "metadata": {
    "cell_id": "00004-f5f9096a-743b-4587-85d1-fc5628227046",
    "deepnote_cell_height": 109,
    "deepnote_cell_type": "markdown",
    "deletable": false,
    "editable": false,
    "nbgrader": {
     "cell_type": "markdown",
     "checksum": "0155d897c7016389d73d160921947a6f",
     "grade": false,
     "grade_id": "cell-45651364e7af6d5a",
     "locked": true,
     "schema_version": 3,
     "solution": false,
     "task": false
    }
   },
   "source": [
    "---\n",
    "### 1.1 Read the CACM documents\n",
    "\n",
    "\n",
    "The following cell downloads the dataset and unzips it to a local directory."
   ]
  },
  {
   "cell_type": "code",
   "execution_count": 3,
   "metadata": {
    "cell_id": "00005-2240a6e7-e312-4d7a-842b-04b160e1f27e",
    "deepnote_cell_height": 549,
    "deepnote_cell_type": "code",
    "deepnote_to_be_reexecuted": false,
    "deletable": false,
    "editable": false,
    "execution_millis": 161,
    "execution_start": 1645186528335,
    "nbgrader": {
     "cell_type": "code",
     "checksum": "4d43c9ad6e77cc01ce4cef0c34824930",
     "grade": false,
     "grade_id": "cell-bbc3030bb3fe7e02",
     "locked": true,
     "schema_version": 3,
     "solution": false,
     "task": false
    },
    "source_hash": "2753ab21"
   },
   "outputs": [],
   "source": [
    "def download_dataset():\n",
    "    folder_path = os.environ.get(\"IR1_DATA_PATH\")\n",
    "    if not folder_path:\n",
    "        folder_path = \"./datasets/\"\n",
    "    os.makedirs(folder_path, exist_ok=True)\n",
    "\n",
    "    file_location = os.path.join(folder_path, \"cacm.zip\")\n",
    "\n",
    "    # download file if it doesn't exist\n",
    "    if not os.path.exists(file_location):\n",
    "\n",
    "        url = \"https://surfdrive.surf.nl/files/index.php/s/M0FGJpX2p8wDwxR/download\"\n",
    "\n",
    "        with open(file_location, \"wb\") as handle:\n",
    "            print(f\"Downloading file from {url} to {file_location}\")\n",
    "            response = requests.get(url, stream=True)\n",
    "            for data in tqdm(response.iter_content()):\n",
    "                handle.write(data)\n",
    "            print(\"Finished downloading file\")\n",
    "\n",
    "    if not os.path.exists(os.path.join(folder_path, \"train.txt\")):\n",
    "\n",
    "        # unzip file\n",
    "        with zipfile.ZipFile(file_location, \"r\") as zip_ref:\n",
    "            zip_ref.extractall(folder_path)\n",
    "\n",
    "\n",
    "download_dataset()"
   ]
  },
  {
   "cell_type": "markdown",
   "metadata": {
    "cell_id": "00006-c429df2f-f87d-4f2b-9acd-506a563a27ba",
    "deepnote_cell_height": 73,
    "deepnote_cell_type": "markdown",
    "deletable": false,
    "editable": false,
    "nbgrader": {
     "cell_type": "markdown",
     "checksum": "31609b0d61d0c74cbd69bc43e47c23be",
     "grade": false,
     "grade_id": "cell-a7dd9a9bf98ede05",
     "locked": true,
     "schema_version": 3,
     "solution": false,
     "task": false
    }
   },
   "source": [
    "---\n",
    "\n",
    "You can see a brief description of each file in the dataset by looking at the README file:"
   ]
  },
  {
   "cell_type": "code",
   "execution_count": 4,
   "metadata": {
    "cell_id": "00007-95c07c75-3366-4db7-b32e-1d9903085e53",
    "deepnote_cell_height": 487,
    "deepnote_cell_type": "code",
    "deepnote_to_be_reexecuted": false,
    "deletable": false,
    "editable": false,
    "execution_millis": 27,
    "execution_start": 1645186528514,
    "nbgrader": {
     "cell_type": "code",
     "checksum": "cb3c9a2b8b2bf4fd5b7446b0c4c00f43",
     "grade": false,
     "grade_id": "cell-9b6ff1a17124711f",
     "locked": true,
     "schema_version": 3,
     "solution": false,
     "task": false
    },
    "source_hash": "4c0f03ad"
   },
   "outputs": [
    {
     "name": "stdout",
     "output_type": "stream",
     "text": [
      "Files in this directory with sizes:\n",
      "          0 Jun 19 21:01 README\n",
      "\n",
      "    2187734 Jun 19 20:55 cacm.all              text of documents\n",
      "        626 Jun 19 20:58 cite.info             key to citation info\n",
      "                                                (the X sections in cacm.all)\n",
      "       2668 Jun 19 20:55 common_words           stop words used by smart\n",
      "       2194 Jun 19 20:55 make_coll*             shell script to make collection\n",
      "       1557 Jun 19 20:55 make_coll_term*        ditto (both useless without\n",
      "                                                smart system)\n",
      "       9948 Jun 19 20:55 qrels.text             relation giving\n",
      "                                                    qid did 0 0\n",
      "                                                to indicate dument did is\n",
      "                                                relevant to query qid\n",
      "      13689 Jun 19 20:55 query.text             Original text of the query\n",
      "\n"
     ]
    }
   ],
   "source": [
    "##### Read the README file\n",
    "with open(\"./datasets/README\", \"r\") as file:\n",
    "    readme = file.read()\n",
    "    print(readme)\n",
    "#####"
   ]
  },
  {
   "cell_type": "markdown",
   "metadata": {
    "cell_id": "00008-c7944957-2e0e-4d0f-be8e-5b5b0a07c4e0",
    "deepnote_cell_height": 180,
    "deepnote_cell_type": "markdown",
    "deletable": false,
    "editable": false,
    "nbgrader": {
     "cell_type": "markdown",
     "checksum": "6e2712c4c4632bf7486a532f7f18074d",
     "grade": false,
     "grade_id": "cell-73351431869fda76",
     "locked": true,
     "schema_version": 3,
     "solution": false,
     "task": false
    }
   },
   "source": [
    "---\n",
    "We are interested in 4 files:\n",
    "- `cacm.all` : Contains the text for all documents. Note that some documents do not have abstracts available\n",
    "- `query.text` : The text of all queries\n",
    "- `qrels.text` : The relevance judgements\n",
    "- `common_words` : A list of common words. This may be used as a collection of stopwords"
   ]
  },
  {
   "cell_type": "code",
   "execution_count": 5,
   "metadata": {
    "cell_id": "00009-e25d351e-8873-4762-a7b4-b03b83e9e5bb",
    "deepnote_cell_height": 845,
    "deepnote_cell_type": "code",
    "deepnote_to_be_reexecuted": false,
    "deletable": false,
    "editable": false,
    "execution_millis": 26,
    "execution_start": 1645186528538,
    "nbgrader": {
     "cell_type": "code",
     "checksum": "f1162c15177eb4ffe466531d03cff4a2",
     "grade": false,
     "grade_id": "cell-b44dd14079f278ca",
     "locked": true,
     "schema_version": 3,
     "solution": false,
     "task": false
    },
    "source_hash": "febb8f7d"
   },
   "outputs": [
    {
     "name": "stdout",
     "output_type": "stream",
     "text": [
      ".I 1\n",
      ".T\n",
      "Preliminary Report-International Algebraic Language\n",
      ".B\n",
      "CACM December, 1958\n",
      ".A\n",
      "Perlis, A. J.\n",
      "Samelson,K.\n",
      ".N\n",
      "CA581203 JB March 22, 1978  8:28 PM\n",
      ".X\n",
      "100\t5\t1\n",
      "123\t5\t1\n",
      "164\t5\t1\n",
      "1\t5\t1\n",
      "1\t5\t1\n",
      "1\t5\t1\n",
      "205\t5\t1\n",
      "210\t5\t1\n",
      "214\t5\t1\n",
      "1982\t5\t1\n",
      "398\t5\t1\n",
      "642\t5\t1\n",
      "669\t5\t1\n",
      "1\t6\t1\n",
      "1\t6\t1\n",
      "1\t6\t1\n",
      "1\t6\t1\n",
      "1\t6\t1\n",
      "1\t6\t1\n",
      "1\t6\t1\n",
      "1\t6\t1\n",
      "1\t6\t1\n",
      "1\t6\t1\n",
      "165\t6\t1\n",
      "196\t6\t1\n",
      "196\t6\t1\n",
      "1273\t6\t1\n",
      "1883\t6\t1\n",
      "324\t6\t1\n",
      "43\t6\t1\n",
      "53\t6\t1\n",
      "91\t6\t1\n",
      "410\t6\t1\n",
      "3184\t6\t1\n",
      "\n"
     ]
    }
   ],
   "source": [
    "##### The first 45 lines of the CACM dataset forms the first record\n",
    "# We are interested only in 3 fields.\n",
    "# 1. the '.I' field, which is the document id\n",
    "# 2. the '.T' field (the title) and\n",
    "# 3. the '.W' field (the abstract, which may be absent)\n",
    "with open(\"./datasets/cacm.all\", \"r\") as file:\n",
    "    cacm_all = \"\".join(file.readlines()[:45])\n",
    "    print(cacm_all)\n",
    "#####"
   ]
  },
  {
   "cell_type": "markdown",
   "metadata": {
    "cell_id": "00010-d7f469bf-422b-4c8f-b6c8-a7fd61a967cb",
    "deepnote_cell_height": 75.796875,
    "deepnote_cell_type": "markdown",
    "deletable": false,
    "editable": false,
    "nbgrader": {
     "cell_type": "markdown",
     "checksum": "250b413baccd8efb186bb46a34ae0060",
     "grade": false,
     "grade_id": "cell-c4bf2e263ec553d8",
     "locked": true,
     "schema_version": 3,
     "solution": false,
     "task": false
    }
   },
   "source": [
    "---\n",
    "\n",
    "The following function reads the `cacm.all` file. Note that each document has a variable number of lines. The `.I` field denotes a new document:"
   ]
  },
  {
   "cell_type": "code",
   "execution_count": 6,
   "metadata": {
    "cell_id": "00011-d8ec70b0-a73d-4fdc-a8a5-9f3fb8f3ba22",
    "deepnote_cell_height": 1017,
    "deepnote_cell_type": "code",
    "deepnote_to_be_reexecuted": false,
    "deletable": false,
    "editable": false,
    "execution_millis": 0,
    "execution_start": 1645186528613,
    "nbgrader": {
     "cell_type": "code",
     "checksum": "57d757e6a7a6938740dc899022b4f291",
     "grade": false,
     "grade_id": "cell-b736116eb419c624",
     "locked": true,
     "schema_version": 3,
     "solution": false,
     "task": false
    },
    "source_hash": "fa1cfb4d"
   },
   "outputs": [],
   "source": [
    "def read_cacm_docs(root_folder=\"./datasets/\"):\n",
    "    \"\"\"\n",
    "    Reads in the CACM documents. The dataset is assumed to be in the folder \"./datasets/\" by default\n",
    "    Returns: A list of 2-tuples: (doc_id, document), where 'document' is a single string created by\n",
    "        appending the title and abstract (separated by a \"\\n\").\n",
    "        In case the record doesn't have an abstract, the document is composed only by the title\n",
    "    \"\"\"\n",
    "    with open(os.path.join(root_folder, \"cacm.all\")) as reader:\n",
    "        lines = reader.readlines()\n",
    "\n",
    "    doc_id, title, abstract = None, None, None\n",
    "\n",
    "    docs = []\n",
    "    line_idx = 0\n",
    "    while line_idx < len(lines):\n",
    "        line = lines[line_idx]\n",
    "        if line.startswith(\".I\"):\n",
    "            if doc_id is not None:\n",
    "                docs.append((doc_id, title, abstract))\n",
    "                doc_id, title, abstract = None, None, None\n",
    "\n",
    "            doc_id = line.split()[-1]\n",
    "            line_idx += 1\n",
    "        elif line.startswith(\".T\"):\n",
    "            # start at next line\n",
    "            line_idx += 1\n",
    "            temp_lines = []\n",
    "            # read till next '.'\n",
    "            while not lines[line_idx].startswith(\".\"):\n",
    "                temp_lines.append(lines[line_idx].strip(\"\\n\"))\n",
    "                line_idx += 1\n",
    "            title = \"\\n\".join(temp_lines).strip(\"\\n\")\n",
    "        elif line.startswith(\".W\"):\n",
    "            # start at next line\n",
    "            line_idx += 1\n",
    "            temp_lines = []\n",
    "            # read till next '.'\n",
    "            while not lines[line_idx].startswith(\".\"):\n",
    "                temp_lines.append(lines[line_idx].strip(\"\\n\"))\n",
    "                line_idx += 1\n",
    "            abstract = \"\\n\".join(temp_lines).strip(\"\\n\")\n",
    "        else:\n",
    "            line_idx += 1\n",
    "\n",
    "    docs.append((doc_id, title, abstract))\n",
    "\n",
    "    p_docs = []\n",
    "    for (did, t, a) in docs:\n",
    "        if a is None:\n",
    "            a = \"\"\n",
    "        p_docs.append((did, t + \"\\n\" + a))\n",
    "    return p_docs"
   ]
  },
  {
   "cell_type": "code",
   "execution_count": 7,
   "metadata": {
    "cell_id": "00012-13ff3a4b-46f3-4ca8-bc11-8b0c7a9e7c37",
    "deepnote_cell_height": 243,
    "deepnote_cell_type": "code",
    "deepnote_to_be_reexecuted": false,
    "deletable": false,
    "editable": false,
    "execution_millis": 278,
    "execution_start": 1645186528614,
    "nbgrader": {
     "cell_type": "code",
     "checksum": "2f81930fcd89670b6e20e2255e1f2369",
     "grade": false,
     "grade_id": "cell-a1c43818e0d3fd79",
     "locked": true,
     "schema_version": 3,
     "solution": false,
     "task": false
    },
    "source_hash": "2097c72a"
   },
   "outputs": [],
   "source": [
    "##### Function check\n",
    "docs = read_cacm_docs()\n",
    "\n",
    "assert isinstance(docs, list)\n",
    "assert len(docs) == 3204, \"There should be exactly 3204 documents\"\n",
    "\n",
    "unzipped_docs = list(zip(*docs))\n",
    "assert np.sum(np.array(list(map(int, unzipped_docs[0])))) == 5134410\n",
    "\n",
    "#####"
   ]
  },
  {
   "cell_type": "markdown",
   "metadata": {
    "cell_id": "00013-1ff4fce0-2fe6-4b49-b16d-b5c203b29a47",
    "deepnote_cell_height": 102,
    "deepnote_cell_type": "markdown",
    "deletable": false,
    "editable": false,
    "nbgrader": {
     "cell_type": "markdown",
     "checksum": "25fd3cfaf2137c56002b850699b3c9d3",
     "grade": false,
     "grade_id": "cell-5ed2ddc91f73c60e",
     "locked": true,
     "schema_version": 3,
     "solution": false,
     "task": false
    }
   },
   "source": [
    "---\n",
    "### 1.2 Read the CACM queries\n",
    "\n",
    "Next, let us read the queries. They are formatted similarly:"
   ]
  },
  {
   "cell_type": "code",
   "execution_count": 8,
   "metadata": {
    "cell_id": "00014-0bdc1ebf-91a6-4e65-8ced-22256899c96d",
    "deepnote_cell_height": 484.8125,
    "deepnote_cell_type": "code",
    "deepnote_to_be_reexecuted": false,
    "deletable": false,
    "editable": false,
    "execution_millis": 705,
    "execution_start": 1645186528932,
    "nbgrader": {
     "cell_type": "code",
     "checksum": "5d26c0908e758acb9968b84056b1060a",
     "grade": false,
     "grade_id": "cell-5c7e8e7c4fc2757f",
     "locked": true,
     "schema_version": 3,
     "solution": false,
     "task": false
    },
    "source_hash": "77367602"
   },
   "outputs": [
    {
     "name": "stdout",
     "output_type": "stream",
     "text": [
      ".I 1\n",
      ".W\n",
      " What articles exist which deal with TSS (Time Sharing System), an\n",
      "operating system for IBM computers?\n",
      ".N\n",
      " 1. Richard Alexander, Comp Serv, Langmuir Lab (TSS)\n",
      " \n",
      ".I 2\n",
      ".W\n",
      " I am interested in articles written either by Prieve or Udo Pooch\n",
      ".A\n",
      "Prieve, B.\n",
      "Pooch, U.\n",
      ".N\n",
      " 2. Richard Alexander, Comp Serv, Langmuir Lab (author = Pooch or Prieve)\n"
     ]
    }
   ],
   "source": [
    "##### The first 15 lines of 'query.text' has 2 queries\n",
    "# We are interested only in 2 fields.\n",
    "# 1. the '.I' - the query id\n",
    "# 2. the '.W' - the query\n",
    "!head -15 ./datasets/query.text\n",
    "#####"
   ]
  },
  {
   "cell_type": "markdown",
   "metadata": {
    "cell_id": "00015-eceaa8fc-26fc-4d4d-b03e-7eb44f7e89f3",
    "deepnote_cell_height": 73,
    "deepnote_cell_type": "markdown",
    "deletable": false,
    "editable": false,
    "nbgrader": {
     "cell_type": "markdown",
     "checksum": "8f19f311a660f30e3f86cb0f7037d54a",
     "grade": false,
     "grade_id": "cell-88e293507d2dcef6",
     "locked": true,
     "schema_version": 3,
     "solution": false,
     "task": false
    }
   },
   "source": [
    "---\n",
    "\n",
    "The following function reads the `query.text` file:"
   ]
  },
  {
   "cell_type": "code",
   "execution_count": 9,
   "metadata": {
    "cell_id": "00016-2445d62c-60c0-4d48-a540-37dbb0d76726",
    "deepnote_cell_height": 711,
    "deepnote_cell_type": "code",
    "deepnote_to_be_reexecuted": false,
    "deletable": false,
    "editable": false,
    "execution_millis": 26,
    "execution_start": 1645186529390,
    "nbgrader": {
     "cell_type": "code",
     "checksum": "e3fbb193211007672849487f5cff1664",
     "grade": false,
     "grade_id": "cell-433e3ad5d0e2572a",
     "locked": true,
     "schema_version": 3,
     "solution": false,
     "task": false
    },
    "source_hash": "2d5784f8"
   },
   "outputs": [],
   "source": [
    "def read_queries(root_folder=\"./datasets/\"):\n",
    "    \"\"\"\n",
    "    Reads in the CACM queries. The dataset is assumed to be in the folder \"./datasets/\" by default\n",
    "    Returns: A list of 2-tuples: (query_id, query)\n",
    "    \"\"\"\n",
    "    with open(os.path.join(root_folder, \"query.text\")) as reader:\n",
    "        lines = reader.readlines()\n",
    "\n",
    "    query_id, query = None, None\n",
    "\n",
    "    queries = []\n",
    "    line_idx = 0\n",
    "    while line_idx < len(lines):\n",
    "        line = lines[line_idx]\n",
    "        if line.startswith(\".I\"):\n",
    "            if query_id is not None:\n",
    "                queries.append((query_id, query))\n",
    "                query_id, query = None, None\n",
    "\n",
    "            query_id = line.split()[-1]\n",
    "            line_idx += 1\n",
    "        elif line.startswith(\".W\"):\n",
    "            # start at next line\n",
    "            line_idx += 1\n",
    "            temp_lines = []\n",
    "            # read till next '.'\n",
    "            while not lines[line_idx].startswith(\".\"):\n",
    "                temp_lines.append(lines[line_idx].strip(\"\\n\"))\n",
    "                line_idx += 1\n",
    "            query = \"\\n\".join(temp_lines).strip(\"\\n\")\n",
    "        else:\n",
    "            line_idx += 1\n",
    "\n",
    "    queries.append((query_id, query))\n",
    "    return queries"
   ]
  },
  {
   "cell_type": "code",
   "execution_count": 10,
   "metadata": {
    "cell_id": "00017-dc95abe6-036f-4502-89fe-db249a8bbfc4",
    "deepnote_cell_height": 243,
    "deepnote_cell_type": "code",
    "deepnote_to_be_reexecuted": false,
    "deletable": false,
    "editable": false,
    "execution_millis": 12,
    "execution_start": 1645186529424,
    "nbgrader": {
     "cell_type": "code",
     "checksum": "a897b9771b54f447be3418d7246fc4a0",
     "grade": false,
     "grade_id": "cell-6ec540abce66c598",
     "locked": true,
     "schema_version": 3,
     "solution": false,
     "task": false
    },
    "source_hash": "1e048f3c"
   },
   "outputs": [],
   "source": [
    "##### Function check\n",
    "queries = read_queries()\n",
    "\n",
    "assert isinstance(queries, list)\n",
    "assert len(queries) == 64 and all(\n",
    "    [q[1] is not None for q in queries]\n",
    "), \"There should be exactly 64 queries\"\n",
    "\n",
    "unzipped_queries = list(zip(*queries))\n",
    "assert np.sum(np.array(list(map(int, unzipped_queries[0])))) == 2080\n",
    "\n",
    "#####"
   ]
  },
  {
   "cell_type": "markdown",
   "metadata": {
    "cell_id": "00018-9cf3ea3e-f138-4fe8-b91b-c92620441832",
    "deepnote_cell_height": 101.390625,
    "deepnote_cell_type": "markdown",
    "deletable": false,
    "editable": false,
    "nbgrader": {
     "cell_type": "markdown",
     "checksum": "a300c41912ac63b239070b4c15c9f5c5",
     "grade": false,
     "grade_id": "cell-1c31569491d7b782",
     "locked": true,
     "schema_version": 3,
     "solution": false,
     "task": false
    }
   },
   "source": [
    "---\n",
    "### 1.3 Read the stop words\n",
    "\n",
    "We use the common words stored in `common_words`:"
   ]
  },
  {
   "cell_type": "code",
   "execution_count": 11,
   "metadata": {
    "cell_id": "00019-4761ff11-d8b4-4f7b-acbf-6d600cfb2ae6",
    "deepnote_cell_height": 329.875,
    "deepnote_cell_type": "code",
    "deepnote_to_be_reexecuted": false,
    "deletable": false,
    "editable": false,
    "execution_millis": 507,
    "execution_start": 1645186529451,
    "nbgrader": {
     "cell_type": "code",
     "checksum": "1ad6f5bae6a792504c1c8513ae5751ad",
     "grade": false,
     "grade_id": "cell-34bdb63461418a96",
     "locked": true,
     "schema_version": 3,
     "solution": false,
     "task": false
    },
    "source_hash": "dcdd806"
   },
   "outputs": [
    {
     "name": "stdout",
     "output_type": "stream",
     "text": [
      "a\n",
      "about\n",
      "above\n",
      "accordingly\n",
      "across\n",
      "after\n",
      "afterwards\n",
      "again\n",
      "against\n",
      "all\n"
     ]
    }
   ],
   "source": [
    "##### Read the stop words file\n",
    "!head ./datasets/common_words\n",
    "##### Read the README file"
   ]
  },
  {
   "cell_type": "markdown",
   "metadata": {
    "cell_id": "00020-069760f9-d798-4ad6-acfa-e7454a3c3a46",
    "deepnote_cell_height": 73,
    "deepnote_cell_type": "markdown",
    "deletable": false,
    "editable": false,
    "nbgrader": {
     "cell_type": "markdown",
     "checksum": "6d0fe612e770213b6397c2179b07a966",
     "grade": false,
     "grade_id": "cell-4744bde0338895d8",
     "locked": true,
     "schema_version": 3,
     "solution": false,
     "task": false
    }
   },
   "source": [
    "---\n",
    "\n",
    "The following function reads the `common_words` file (For better coverage, we try to keep them in lowercase):"
   ]
  },
  {
   "cell_type": "code",
   "execution_count": 12,
   "metadata": {
    "cell_id": "00021-51bc2922-72bf-4550-a4fb-c1867fa0e652",
    "deepnote_cell_height": 243,
    "deepnote_cell_type": "code",
    "deepnote_to_be_reexecuted": false,
    "deletable": false,
    "editable": false,
    "execution_millis": 9,
    "execution_start": 1645186529974,
    "nbgrader": {
     "cell_type": "code",
     "checksum": "9409713fd26eb0c33587e190638997c4",
     "grade": false,
     "grade_id": "cell-7357aa40f64e5bcb",
     "locked": true,
     "schema_version": 3,
     "solution": false,
     "task": false
    },
    "source_hash": "51ba1eb9"
   },
   "outputs": [],
   "source": [
    "def load_stopwords(root_folder=\"./datasets/\"):\n",
    "    \"\"\"\n",
    "    Loads the stopwords. The dataset is assumed to be in the folder \"./datasets/\" by default\n",
    "    Output: A set of stopwords\n",
    "    \"\"\"\n",
    "    with open(os.path.join(root_folder, \"common_words\")) as reader:\n",
    "        lines = reader.readlines()\n",
    "    stopwords = set([l.strip().lower() for l in lines])\n",
    "    return stopwords"
   ]
  },
  {
   "cell_type": "code",
   "execution_count": 13,
   "metadata": {
    "cell_id": "00022-dda7ebba-cd50-496a-94a3-6c8873e6ba02",
    "deepnote_cell_height": 243,
    "deepnote_cell_type": "code",
    "deepnote_to_be_reexecuted": false,
    "deletable": false,
    "editable": false,
    "execution_millis": 13,
    "execution_start": 1645186529993,
    "lines_to_next_cell": 2,
    "nbgrader": {
     "cell_type": "code",
     "checksum": "f1c8153c3c38133bc2db6e7b076ad470",
     "grade": false,
     "grade_id": "cell-2ca3ac162004de97",
     "locked": true,
     "schema_version": 3,
     "solution": false,
     "task": false
    },
    "source_hash": "9447931d"
   },
   "outputs": [],
   "source": [
    "##### Function check\n",
    "stopwords = load_stopwords()\n",
    "\n",
    "assert isinstance(stopwords, set)\n",
    "assert len(stopwords) == 428, \"There should be exactly 428 stop words\"\n",
    "\n",
    "assert np.sum(np.array(list(map(len, stopwords)))) == 2234\n",
    "\n",
    "#####"
   ]
  },
  {
   "cell_type": "markdown",
   "metadata": {
    "cell_id": "00023-02a21236-0c4b-4910-9573-63f1698beaf3",
    "deepnote_cell_height": 145,
    "deepnote_cell_type": "markdown",
    "deletable": false,
    "editable": false,
    "nbgrader": {
     "cell_type": "markdown",
     "checksum": "92c1191e9e7291dcf0d70dc67b907a65",
     "grade": false,
     "grade_id": "cell-134b72872f4300cb",
     "locked": true,
     "schema_version": 3,
     "solution": false,
     "task": false
    }
   },
   "source": [
    "---\n",
    "### 1.4 Tokenization (3 points)\n",
    "\n",
    "We can now write some basic text processing functions.\n",
    "A first step is to tokenize the text.\n",
    "\n",
    "**Note**: Use the  `WordPunctTokenizer` available in the `nltk` library:"
   ]
  },
  {
   "cell_type": "code",
   "execution_count": 14,
   "metadata": {
    "cell_id": "00024-20a3377b-ad24-430a-82d5-e091938ed1fd",
    "deepnote_cell_height": 261,
    "deepnote_cell_type": "code",
    "deepnote_to_be_reexecuted": false,
    "deletable": false,
    "execution_millis": 11,
    "execution_start": 1645186530014,
    "nbgrader": {
     "cell_type": "code",
     "checksum": "3f5564d3c75bf22fbf832b3a9b938f37",
     "grade": false,
     "grade_id": "cell-322be4c9499bdc4b",
     "locked": false,
     "schema_version": 3,
     "solution": true,
     "task": false
    },
    "source_hash": "bd78cb4e"
   },
   "outputs": [],
   "source": [
    "# TODO: Implement this! (4 points)\n",
    "def tokenize(text):\n",
    "    \"\"\"\n",
    "    Tokenizes the input text. Use the WordPunctTokenizer\n",
    "    Input: text - a string\n",
    "    Output: a list of tokens\n",
    "    \"\"\"\n",
    "    # YOUR CODE HERE\n",
    "\n",
    "    tk = nltk.WordPunctTokenizer()\n",
    "    return tk.tokenize(text)"
   ]
  },
  {
   "cell_type": "code",
   "execution_count": 15,
   "metadata": {
    "cell_id": "00025-0c49633e-d8dd-4c28-ac8d-9576e19b544d",
    "deepnote_cell_height": 274.1875,
    "deepnote_cell_type": "code",
    "deepnote_to_be_reexecuted": false,
    "deletable": false,
    "editable": false,
    "execution_millis": 54,
    "execution_start": 1645186530041,
    "nbgrader": {
     "cell_type": "code",
     "checksum": "e15af22c4d8ae0a3f9dac43bef7097ec",
     "grade": true,
     "grade_id": "cell-7fbf48bf7541a622",
     "locked": true,
     "points": 3,
     "schema_version": 3,
     "solution": false,
     "task": false
    },
    "source_hash": "f61c33ef"
   },
   "outputs": [
    {
     "name": "stdout",
     "output_type": "stream",
     "text": [
      "['the', 'quick', 'brown', 'fox', 'jumps', 'over', 'the', 'lazy', 'dog']\n"
     ]
    }
   ],
   "source": [
    "##### Function check\n",
    "text = \"the quick brown fox jumps over the lazy dog\"\n",
    "tokens = tokenize(text)\n",
    "\n",
    "assert isinstance(tokens, list)\n",
    "assert len(tokens) == 9\n",
    "\n",
    "print(tokens)\n",
    "# output: ['the', 'quick', 'brown', 'fox', 'jumps', 'over', 'the', 'lazy', 'dog']\n",
    "#####"
   ]
  },
  {
   "cell_type": "markdown",
   "metadata": {
    "cell_id": "00026-a6caa299-880e-4184-b7bd-5732cfcf3e9c",
    "deepnote_cell_height": 109,
    "deepnote_cell_type": "markdown",
    "deletable": false,
    "editable": false,
    "nbgrader": {
     "cell_type": "markdown",
     "checksum": "34210618bff4cb47aad2f03cb4b9854c",
     "grade": false,
     "grade_id": "cell-fd1b98ae61b697ca",
     "locked": true,
     "schema_version": 3,
     "solution": false,
     "task": false
    }
   },
   "source": [
    "---\n",
    "### 1.5 Stemming (2 points)\n",
    "\n",
    "Write a function to stem tokens.\n",
    "Again, you can use the nltk library for this:"
   ]
  },
  {
   "cell_type": "code",
   "execution_count": 16,
   "metadata": {
    "cell_id": "00027-57678786-6fcf-4e83-b285-1e3a44cb6ecb",
    "deepnote_cell_height": 225,
    "deepnote_cell_type": "code",
    "deepnote_to_be_reexecuted": false,
    "deletable": false,
    "execution_millis": 0,
    "execution_start": 1645186530093,
    "nbgrader": {
     "cell_type": "code",
     "checksum": "1c4a6aa979d66158c7b6b992af43293a",
     "grade": false,
     "grade_id": "cell-e3f6c8e3f874b28d",
     "locked": false,
     "schema_version": 3,
     "solution": true,
     "task": false
    },
    "source_hash": "e2a034fd"
   },
   "outputs": [],
   "source": [
    "# TODO: Implement this! (3 points)\n",
    "def stem_token(token):\n",
    "    \"\"\"\n",
    "    Stems the given token using the PorterStemmer from the nltk library\n",
    "    Input: a single token\n",
    "    Output: the stem of the token\n",
    "    \"\"\"\n",
    "    stemmer = nltk.stem.PorterStemmer()\n",
    "    return stemmer.stem(token)"
   ]
  },
  {
   "cell_type": "code",
   "execution_count": 17,
   "metadata": {
    "cell_id": "00028-4d95bdd0-4345-4198-aa73-21d2d2ec2b85",
    "deepnote_cell_height": 153,
    "deepnote_cell_type": "code",
    "deepnote_to_be_reexecuted": false,
    "deletable": false,
    "editable": false,
    "execution_millis": 0,
    "execution_start": 1645186530094,
    "nbgrader": {
     "cell_type": "code",
     "checksum": "9363b4f09b556d424d9c895d4ab57b1c",
     "grade": true,
     "grade_id": "cell-cd6863e6ee6ed205",
     "locked": true,
     "points": 2,
     "schema_version": 3,
     "solution": false,
     "task": false
    },
    "source_hash": "3fc993b6"
   },
   "outputs": [],
   "source": [
    "##### Function check\n",
    "\n",
    "assert stem_token(\"owned\") == \"own\"\n",
    "assert stem_token(\"itemization\") == \"item\"\n",
    "#####"
   ]
  },
  {
   "cell_type": "markdown",
   "metadata": {
    "cell_id": "00029-e536d93c-8362-48e7-bfc2-906702746aef",
    "deepnote_cell_height": 123.796875,
    "deepnote_cell_type": "markdown",
    "deletable": false,
    "editable": false,
    "nbgrader": {
     "cell_type": "markdown",
     "checksum": "0b311d014146da6afa1d39542fab9869",
     "grade": false,
     "grade_id": "cell-47c9f90498699110",
     "locked": true,
     "schema_version": 3,
     "solution": false,
     "task": false
    }
   },
   "source": [
    "---\n",
    "### 1.6 Summary\n",
    "\n",
    "The following function puts it all together. Given an input string, this functions tokenizes and processes it according to the flags that you set."
   ]
  },
  {
   "cell_type": "code",
   "execution_count": 18,
   "metadata": {
    "cell_id": "00030-31b7404f-596c-4622-9100-0bc4ab089ea7",
    "deepnote_cell_height": 333,
    "deepnote_cell_type": "code",
    "deepnote_to_be_reexecuted": false,
    "deletable": false,
    "editable": false,
    "execution_millis": 0,
    "execution_start": 1645186530137,
    "lines_to_next_cell": 2,
    "nbgrader": {
     "cell_type": "code",
     "checksum": "2ff2d215ee8e0039c5a91fd3de12e6bd",
     "grade": false,
     "grade_id": "cell-dd0d3f46b30801da",
     "locked": true,
     "schema_version": 3,
     "solution": false,
     "task": false
    },
    "source_hash": "c4811d1d"
   },
   "outputs": [],
   "source": [
    "#### Putting it all together\n",
    "def process_text(text, stem=False, remove_stopwords=False, lowercase_text=False):\n",
    "\n",
    "    tokens = []\n",
    "    for token in tokenize(text):\n",
    "        if remove_stopwords and token.lower() in stopwords:\n",
    "            continue\n",
    "        if stem:\n",
    "            token = stem_token(token)\n",
    "        if lowercase_text:\n",
    "            token = token.lower()\n",
    "        tokens.append(token)\n",
    "\n",
    "    return tokens\n",
    "\n",
    "\n",
    "####"
   ]
  },
  {
   "cell_type": "markdown",
   "metadata": {
    "cell_id": "00031-9539610f-160b-4b6d-a351-9bd434d6c9ea",
    "deepnote_cell_height": 91,
    "deepnote_cell_type": "markdown",
    "deletable": false,
    "editable": false,
    "nbgrader": {
     "cell_type": "markdown",
     "checksum": "02d433b18eb43654fa4306a7bf55b190",
     "grade": false,
     "grade_id": "cell-8d885bfd2edd43ae",
     "locked": true,
     "schema_version": 3,
     "solution": false,
     "task": false
    }
   },
   "source": [
    "---\n",
    "\n",
    "Let's create two sets of preprocessed documents.\n",
    "We can process the documents and queries according to these two configurations:"
   ]
  },
  {
   "cell_type": "code",
   "execution_count": 19,
   "metadata": {
    "cell_id": "00032-c5510010-2967-4ace-b12f-1e9e8118e3b4",
    "deepnote_cell_height": 513,
    "deepnote_cell_type": "code",
    "deepnote_to_be_reexecuted": false,
    "deletable": false,
    "editable": false,
    "execution_millis": 7882,
    "execution_start": 1645186530149,
    "nbgrader": {
     "cell_type": "code",
     "checksum": "dbe4ca667be6842fdcf512fbcad50c7f",
     "grade": false,
     "grade_id": "cell-d427365ee0fb21d8",
     "locked": true,
     "schema_version": 3,
     "solution": false,
     "task": false
    },
    "source_hash": "f953b790"
   },
   "outputs": [],
   "source": [
    "# In this configuration:\n",
    "# Don't preprocess the text, except to tokenize\n",
    "config_1 = {\"stem\": False, \"remove_stopwords\": False, \"lowercase_text\": True}\n",
    "\n",
    "\n",
    "# In this configuration:\n",
    "# Preprocess the text, stem and remove stopwords\n",
    "config_2 = {\n",
    "    \"stem\": True,\n",
    "    \"remove_stopwords\": True,\n",
    "    \"lowercase_text\": True,\n",
    "}\n",
    "\n",
    "####\n",
    "doc_repr_1 = []\n",
    "doc_repr_2 = []\n",
    "for (doc_id, document) in docs:\n",
    "    doc_repr_1.append((doc_id, process_text(document, **config_1)))\n",
    "    doc_repr_2.append((doc_id, process_text(document, **config_2)))\n",
    "\n",
    "####"
   ]
  },
  {
   "cell_type": "markdown",
   "metadata": {
    "cell_id": "00033-f33e20e5-c218-4e92-9c23-845b4e42997e",
    "deepnote_cell_height": 415,
    "deepnote_cell_type": "markdown",
    "deletable": false,
    "editable": false,
    "nbgrader": {
     "cell_type": "markdown",
     "checksum": "b60589aac19e80941d860d9b3f1e9a16",
     "grade": false,
     "grade_id": "cell-b1c102db61ae7495",
     "locked": true,
     "schema_version": 3,
     "solution": false,
     "task": false
    }
   },
   "source": [
    "---\n",
    "\n",
    "## Section 2: Indexing (10 points)<a class=\"anchor\" id=\"indexing\"></a>\n",
    "\n",
    "[Back to Part 1](#part1)\n",
    "\n",
    "\n",
    "\n",
    "A retrieval function usually takes in a query document pair, and scores a query against a document.  Our document set is quite small - just a few thousand documents. However, consider a web-scale dataset with a few million documents. In such a scenario, it would become infeasible to score every query and document pair. In such a case, we can build an inverted index. From Wikipedia:\n",
    "\n",
    "> ... , an inverted index (also referred to as a postings file or inverted file) is a database index storing a mapping from content, such as words or numbers, to its locations in a table, .... The purpose of an inverted index is to allow fast full-text searches, at a cost of increased processing when a document is added to the database. ...\n",
    "\n",
    "\n",
    "Consider a simple inverted index, which maps from word to document. This can improve the performance of a retrieval system significantly. In this assignment, we consider a *simple* inverted index, which maps a word to a set of documents. In practice, however, more complex indices might be used.\n"
   ]
  },
  {
   "cell_type": "markdown",
   "metadata": {
    "cell_id": "00034-e0be6b84-2eca-463d-9411-0a876fee2070",
    "deepnote_cell_height": 181.59375,
    "deepnote_cell_type": "markdown",
    "deletable": false,
    "editable": false,
    "nbgrader": {
     "cell_type": "markdown",
     "checksum": "710fd943f45523ac36fcb887cc0d4d39",
     "grade": false,
     "grade_id": "cell-fa373192c1b7bb95",
     "locked": true,
     "schema_version": 3,
     "solution": false,
     "task": false
    }
   },
   "source": [
    "### 2.1 Term Frequency-index (10 points)\n",
    "In this assignment, we will be using an index created in memory since our dataset is tiny. To get started, build a simple index that maps each `token` to a list of `(doc_id, count)` where `count` is the count of the `token` in `doc_id`.\n",
    "For consistency, build this index using a python dictionary.\n",
    "\n",
    "Now, implement a function to build an index:"
   ]
  },
  {
   "cell_type": "code",
   "execution_count": 20,
   "metadata": {
    "cell_id": "00035-e27ae026-b063-450a-8cb5-6336175b5cb0",
    "deepnote_cell_height": 495,
    "deepnote_cell_type": "code",
    "deepnote_to_be_reexecuted": false,
    "deletable": false,
    "execution_millis": 8,
    "execution_start": 1645186538048,
    "nbgrader": {
     "cell_type": "code",
     "checksum": "d4e8c6b658c469379d5fe511de05b536",
     "grade": false,
     "grade_id": "cell-077599b87e953209",
     "locked": false,
     "schema_version": 3,
     "solution": true,
     "task": false
    },
    "source_hash": "b7da36f"
   },
   "outputs": [],
   "source": [
    "# need defaultdict to handle cases when queried word is missing from our documents\n",
    "# https://piazza.com/class/kyiksrdfk0b6te?cid=38\n",
    "# https://piazza.com/class/kyiksrdfk0b6te?cid=39\n",
    "from collections import defaultdict\n",
    "\n",
    "# TODO: Implement this! (10 points)\n",
    "def build_tf_index(documents):\n",
    "    \"\"\"\n",
    "    Build an inverted index (with counts).\n",
    "    The output is a dictionary which takes in a token and\n",
    "    returns a list of (doc_id, count)\n",
    "    where 'count' is the count of the 'token' in 'doc_id'\n",
    "\n",
    "    Input: a list of documents - (doc_id, tokens)\n",
    "    Output: An inverted index implemented within a pyhton dictionary:\n",
    "        [token] -> [(doc_id, token_count)]\n",
    "    \"\"\"\n",
    "    # YOUR CODE HERE\n",
    "    tf_index = defaultdict(list)\n",
    "    for doc_id, tokens in documents:\n",
    "        tokens_set = set(tokens)\n",
    "        for token in tokens_set:\n",
    "            tf_index[token].append((doc_id, tokens.count(token)))\n",
    "    return tf_index"
   ]
  },
  {
   "cell_type": "markdown",
   "metadata": {
    "cell_id": "00036-4124a1b7-00df-4a57-861c-2e9cd705ce17",
    "deepnote_cell_height": 55,
    "deepnote_cell_type": "markdown",
    "deletable": false,
    "editable": false,
    "nbgrader": {
     "cell_type": "markdown",
     "checksum": "15e7041b4323d2a290322de538ff7670",
     "grade": false,
     "grade_id": "cell-093aebfa504f96f2",
     "locked": true,
     "schema_version": 3,
     "solution": false,
     "task": false
    }
   },
   "source": [
    "---\n",
    "Now we can build indexed documents and preprocess the queries based on the two configurations:"
   ]
  },
  {
   "cell_type": "code",
   "execution_count": 21,
   "metadata": {
    "cell_id": "00037-db077994-3c24-4f9b-a642-d416e54c8d1e",
    "deepnote_cell_height": 531,
    "deepnote_cell_type": "code",
    "deepnote_to_be_reexecuted": false,
    "deletable": false,
    "editable": false,
    "execution_millis": 845,
    "execution_start": 1645186538116,
    "lines_to_next_cell": 2,
    "nbgrader": {
     "cell_type": "code",
     "checksum": "e27540c1d8d77a3779a05f557f3f40c6",
     "grade": false,
     "grade_id": "cell-b2ff1676348b90a8",
     "locked": true,
     "schema_version": 3,
     "solution": false,
     "task": false
    },
    "source_hash": "2d1fa9f3"
   },
   "outputs": [],
   "source": [
    "#### Indexed documents based on the two configs\n",
    "\n",
    "# Create the 2 indices\n",
    "tf_index_1 = build_tf_index(doc_repr_1)\n",
    "tf_index_2 = build_tf_index(doc_repr_2)\n",
    "\n",
    "# This function returns the tf_index of the corresponding config\n",
    "def get_index(index_set):\n",
    "    assert index_set in {1, 2}\n",
    "    return {1: tf_index_1, 2: tf_index_2}[index_set]\n",
    "\n",
    "\n",
    "####\n",
    "#### Preprocessed query based on the two configs\n",
    "\n",
    "# This function preprocesses the text given the index set, according to the specified config\n",
    "def preprocess_query(text, index_set):\n",
    "    assert index_set in {1, 2}\n",
    "    if index_set == 1:\n",
    "        return process_text(text, **config_1)\n",
    "    elif index_set == 2:\n",
    "        return process_text(text, **config_2)\n",
    "\n",
    "\n",
    "####"
   ]
  },
  {
   "cell_type": "code",
   "execution_count": 22,
   "metadata": {
    "cell_id": "00038-fb5a08f4-5f40-4923-a62b-02af9b853e1f",
    "deepnote_cell_height": 298.375,
    "deepnote_cell_type": "code",
    "deepnote_to_be_reexecuted": false,
    "deletable": false,
    "editable": false,
    "execution_millis": 11244305,
    "execution_start": 1645186538979,
    "nbgrader": {
     "cell_type": "code",
     "checksum": "f0cbc8703e1248cd6edf03f9019b69db",
     "grade": true,
     "grade_id": "cell-fc7c7232d5d2ee46",
     "locked": true,
     "points": 5,
     "schema_version": 3,
     "solution": false,
     "task": false
    },
    "source_hash": "2220f2b7"
   },
   "outputs": [
    {
     "name": "stdout",
     "output_type": "stream",
     "text": [
      "sample tf index for computer: [('4', 1), ('7', 1), ('10', 1), ('13', 1), ('19', 1), ('22', 1), ('23', 1), ('37', 1), ('40', 3), ('41', 1)]\n",
      "sample tf index for examples: [('111', 1), ('320', 1), ('644', 1), ('691', 1), ('727', 1), ('848', 1), ('892', 1), ('893', 1), ('1049', 1), ('1051', 1)]\n"
     ]
    }
   ],
   "source": [
    "##### Function check\n",
    "\n",
    "assert isinstance(tf_index_1, dict)\n",
    "\n",
    "assert isinstance(tf_index_1[\"computer\"], list)\n",
    "print(\"sample tf index for computer:\", tf_index_1[\"computer\"][:10])\n",
    "\n",
    "assert isinstance(tf_index_1[\"examples\"], list)\n",
    "print(\"sample tf index for examples:\", tf_index_1[\"examples\"][:10])\n",
    "####"
   ]
  },
  {
   "cell_type": "code",
   "execution_count": 23,
   "metadata": {
    "cell_id": "00039-0f63d80d-3d2c-4ed8-b1a3-ef57df6a812d",
    "deepnote_cell_height": 298.375,
    "deepnote_cell_type": "code",
    "deepnote_to_be_reexecuted": false,
    "deletable": false,
    "editable": false,
    "execution_millis": 11244324,
    "execution_start": 1645186539032,
    "nbgrader": {
     "cell_type": "code",
     "checksum": "d49b8ac36815d9a5cb4bed838ab53a50",
     "grade": true,
     "grade_id": "cell-ff06bd11204db250",
     "locked": true,
     "points": 5,
     "schema_version": 3,
     "solution": false,
     "task": false
    },
    "source_hash": "cfcc3871"
   },
   "outputs": [
    {
     "name": "stdout",
     "output_type": "stream",
     "text": [
      "sample tf index for computer: [('4', 1), ('7', 1), ('10', 1), ('13', 1), ('19', 1), ('22', 1), ('23', 1), ('37', 1), ('40', 3), ('41', 1)]\n",
      "sample tf index for examples: []\n"
     ]
    }
   ],
   "source": [
    "##### Function check\n",
    "\n",
    "assert isinstance(tf_index_2, dict)\n",
    "\n",
    "assert isinstance(tf_index_2[\"computer\"], list)\n",
    "print(\"sample tf index for computer:\", tf_index_1[\"computer\"][:10])\n",
    "\n",
    "assert isinstance(tf_index_2[\"examples\"], list)\n",
    "print(\"sample tf index for examples:\", tf_index_2[\"examples\"][:10])\n",
    "####"
   ]
  },
  {
   "cell_type": "markdown",
   "metadata": {
    "cell_id": "00040-06978f59-9c49-41bf-86fa-2ce4ff5666a1",
    "deepnote_cell_height": 493.59375,
    "deepnote_cell_type": "markdown",
    "deletable": false,
    "editable": false,
    "nbgrader": {
     "cell_type": "markdown",
     "checksum": "880b2ef3ca405f2af6e0667d2dc7a600",
     "grade": false,
     "grade_id": "cell-89eba71f04310291",
     "locked": true,
     "schema_version": 3,
     "solution": false,
     "task": false
    }
   },
   "source": [
    "\n",
    "---\n",
    "## Section 3: Ranking  (80 points) <a class=\"anchor\" id=\"ranking\"></a>\n",
    "\n",
    "[Back to Part 1](#part1)\n",
    "\n",
    "Now that we have cleaned and processed our dataset, we can start building simple IR systems.\n",
    "\n",
    "For now, we consider *simple* IR systems, which involve computing scores from the tokens present in the document/query. More advanced methods are covered in later assignments.\n",
    "\n",
    "We will implement the following methods in this section:\n",
    "- [Section 3.1: Bag of Words](#bow) (10 points)\n",
    "- [Section 3.2: TF-IDF](#tfidf) (15 points)\n",
    "- [Section 3.3: Query Likelihood Model](#qlm) (35 points)\n",
    "- [Section 3.4: BM25](#bm25) (20 points)\n",
    "\n",
    "*All search functions should be able to handle multiple words queries.*\n",
    "\n",
    "**Scoring policy:**\n",
    "Your implementations in this section are scored based on the expected performance of your ranking functions.\n",
    "You will get a full mark if your implementation meets the expected performance (measured by some evaluation metric).\n",
    "Otherwise, you may get partial credit.\n",
    "For example, if your *Bag of words* ranking function has 60% of expected performance, you will get 6 out of 10."
   ]
  },
  {
   "cell_type": "markdown",
   "metadata": {
    "cell_id": "00041-95b4f50b-25e3-4bfc-853e-458b38aa6f80",
    "deepnote_cell_height": 250.375,
    "deepnote_cell_type": "markdown",
    "deletable": false,
    "editable": false,
    "nbgrader": {
     "cell_type": "markdown",
     "checksum": "6c74e5061917358300c6e8085ec07864",
     "grade": false,
     "grade_id": "cell-3daf70a60e393adf",
     "locked": true,
     "schema_version": 3,
     "solution": false,
     "task": false
    }
   },
   "source": [
    "---\n",
    "\n",
    "### Section 3.1: Bag of Words (10 points)<a class=\"anchor\" id=\"bow\"></a>\n",
    "\n",
    "Probably the simplest IR model is the Bag of Words (BOW) model.\n",
    "Implement a function that scores and ranks all the documents against a query using this model.\n",
    "\n",
    "- For consistency, you should use the count of the token and **not** the binary indicator.\n",
    "- Use `float` type for the scores (even though the scores are integers in this case).\n",
    "- No normalization of the scores is necessary, as the ordering is what we are interested in.\n",
    "- If two documents have the same score, they can have any ordering: you are not required to disambiguate.\n"
   ]
  },
  {
   "cell_type": "code",
   "execution_count": 24,
   "metadata": {
    "cell_id": "00042-78747ee0-9c14-474c-ab83-0bb691fe4f4f",
    "deepnote_cell_height": 513,
    "deepnote_cell_type": "code",
    "deepnote_to_be_reexecuted": false,
    "deletable": false,
    "execution_millis": 11244305,
    "execution_start": 1645186539076,
    "nbgrader": {
     "cell_type": "code",
     "checksum": "fee4640e22bfc4f05eb958a675ef40e7",
     "grade": false,
     "grade_id": "cell-de9cf0459c4b9324",
     "locked": false,
     "schema_version": 3,
     "solution": true,
     "task": false
    },
    "source_hash": "15c8e32"
   },
   "outputs": [],
   "source": [
    "# TODO: Implement this! (10 points)\n",
    "def bow_search(query, index_set):\n",
    "    \"\"\"\n",
    "    Perform a search over all documents with the given query.\n",
    "    Note: You have to use the `get_index` function created in the previous cells\n",
    "    Input:\n",
    "        query - a (unprocessed) query\n",
    "        index_set - the index to use\n",
    "    Output: a list of (document_id, score),\n",
    "        sorted in descending relevance to the given query.\n",
    "    \"\"\"\n",
    "    index = get_index(index_set)\n",
    "    processed_query = preprocess_query(query, index_set)\n",
    "\n",
    "    # YOUR CODE HERE\n",
    "    # total count per document\n",
    "    documents = defaultdict(float)\n",
    "    for token in processed_query:\n",
    "        for document_id, token_count in index[token]:\n",
    "            # aggregate counts of this token across all documents\n",
    "            documents[document_id] += token_count\n",
    "    # convert documents to list and sort descending\n",
    "    documents = sorted(list(documents.items()), key=lambda x: x[1], reverse=True)\n",
    "    return documents"
   ]
  },
  {
   "cell_type": "code",
   "execution_count": 25,
   "metadata": {
    "cell_id": "00043-a779ed03-89a7-4a9b-8bf4-e356d3146ecd",
    "deepnote_cell_height": 225,
    "deepnote_cell_type": "code",
    "deepnote_to_be_reexecuted": false,
    "deletable": false,
    "editable": false,
    "execution_millis": 11244335,
    "execution_start": 1645186539129,
    "nbgrader": {
     "cell_type": "code",
     "checksum": "613524fbbf02b1d122c6611a71fbf11b",
     "grade": true,
     "grade_id": "cell-9f6aceae6dd9125f",
     "locked": true,
     "points": 2,
     "schema_version": 3,
     "solution": false,
     "task": false
    },
    "source_hash": "a4e9855b"
   },
   "outputs": [],
   "source": [
    "#### Function check\n",
    "\n",
    "test_bow = bow_search(\"how to implement bag of words search\", index_set=1)[:5]\n",
    "assert isinstance(test_bow, list)\n",
    "assert len(test_bow[0]) == 2\n",
    "assert isinstance(test_bow[0][0], str)\n",
    "assert isinstance(test_bow[0][1], float)\n",
    "\n",
    "####"
   ]
  },
  {
   "cell_type": "code",
   "execution_count": 26,
   "metadata": {
    "cell_id": "00044-8c0e39e0-03a8-42d9-88c0-9811823ca925",
    "deepnote_cell_height": 393.125,
    "deepnote_cell_type": "code",
    "deepnote_to_be_reexecuted": false,
    "deletable": false,
    "editable": false,
    "execution_millis": 11244410,
    "execution_start": 1645186539130,
    "lines_to_next_cell": 2,
    "nbgrader": {
     "cell_type": "code",
     "checksum": "9af20897659edb62fe77598483590500",
     "grade": true,
     "grade_id": "cell-4eed3abf233d9b58",
     "locked": true,
     "points": 2,
     "schema_version": 3,
     "solution": false,
     "task": false
    },
    "source_hash": "f3e133b9"
   },
   "outputs": [
    {
     "name": "stdout",
     "output_type": "stream",
     "text": [
      "BOW Results:\n",
      "Rank 0(1.3e+01): On Computing The Fast Fourier Transform\\nCooley an...\n",
      "Rank 1(1.2e+01): Variable Length Tree Structures Having Minimum Ave...\n",
      "Rank 2(1.1e+01): A Modular Computer Sharing System\\nAn alternative ...\n",
      "Rank 3(1e+01): PEEKABIT, Computer Offspring of Punched\\nCard PEEK...\n",
      "Rank 4(9.0): Computer Simulation-Discussion of the\\nTechnique a...\n"
     ]
    }
   ],
   "source": [
    "docs_by_id = dict(docs)\n",
    "\n",
    "\n",
    "def print_results(docs, len_limit=50):\n",
    "    for i, (doc_id, score) in enumerate(docs):\n",
    "        doc_content = (\n",
    "            docs_by_id[doc_id].strip().replace(\"\\n\", \"\\\\n\")[:len_limit] + \"...\"\n",
    "        )\n",
    "        print(f\"Rank {i}({score:.2}): {doc_content}\")\n",
    "\n",
    "\n",
    "test_bow_2 = bow_search(\"computer search word\", index_set=2)[:5]\n",
    "print(f\"BOW Results:\")\n",
    "print_results(test_bow_2)"
   ]
  },
  {
   "cell_type": "code",
   "execution_count": 27,
   "metadata": {
    "cell_id": "00045-c576132c-ae55-4ef4-bf93-365a98921a28",
    "deepnote_cell_height": 285.125,
    "deepnote_cell_type": "code",
    "deepnote_to_be_reexecuted": false,
    "deletable": false,
    "editable": false,
    "execution_millis": 2,
    "execution_start": 1645186539173,
    "lines_to_next_cell": 2,
    "nbgrader": {
     "cell_type": "code",
     "checksum": "3c9c8b16c8e7d1032f101e9da8a6e845",
     "grade": true,
     "grade_id": "cell-4d65a2d7090c466c",
     "locked": true,
     "points": 3,
     "schema_version": 3,
     "solution": false,
     "task": false
    },
    "source_hash": "76a29ddf"
   },
   "outputs": [
    {
     "name": "stdout",
     "output_type": "stream",
     "text": [
      "BOW Results:\n",
      "Rank 0(9.0): CURRICULUM 68 -- Recommendations for Academic\\nPro...\n",
      "Rank 1(9.0): Variable Length Tree Structures Having Minimum Ave...\n",
      "Rank 2(7.0): Computer Formulation of the Equations of Motion Us...\n",
      "Rank 3(7.0): The Effects of Multiplexing on a Computer-Communic...\n",
      "Rank 4(6.0): Optimizing Bit-time Computer Simulation\\nA major c...\n"
     ]
    }
   ],
   "source": [
    "test_bow_1 = bow_search(\"computer search word\", index_set=1)[:5]\n",
    "print(f\"BOW Results:\")\n",
    "print_results(test_bow_1)"
   ]
  },
  {
   "cell_type": "code",
   "execution_count": 28,
   "metadata": {
    "cell_id": "00046-5b571ae5-b918-4fbb-ad83-5d5d6669c906",
    "deepnote_cell_height": 168.375,
    "deepnote_cell_type": "code",
    "deepnote_to_be_reexecuted": false,
    "deletable": false,
    "editable": false,
    "execution_millis": 2,
    "execution_start": 1645186539174,
    "nbgrader": {
     "cell_type": "code",
     "checksum": "b7e593847aa4202ae45ec061fb18ad73",
     "grade": true,
     "grade_id": "cell-dedf36ab5853ce20",
     "locked": true,
     "points": 3,
     "schema_version": 3,
     "solution": false,
     "task": false
    },
    "source_hash": "b05098cf"
   },
   "outputs": [
    {
     "name": "stdout",
     "output_type": "stream",
     "text": [
      "top-5 docs for index1: ('1771', '1936', '1543', '2535', '678')\n",
      "top-5 docs for index2: ('1525', '1936', '1844', '1700', '1366')\n"
     ]
    }
   ],
   "source": [
    "print(\"top-5 docs for index1:\", list(zip(*test_bow_1[:5]))[0])\n",
    "print(\"top-5 docs for index2:\", list(zip(*test_bow_2[:5]))[0])"
   ]
  },
  {
   "cell_type": "markdown",
   "metadata": {
    "cell_id": "00047-9898438b-a142-41ea-936e-02202738220e",
    "deepnote_cell_height": 235,
    "deepnote_cell_type": "markdown",
    "deletable": false,
    "editable": false,
    "nbgrader": {
     "cell_type": "markdown",
     "checksum": "b04352ee0716dfdf094b8cdb6f32e984",
     "grade": false,
     "grade_id": "cell-a5c09c79ac1f2871",
     "locked": true,
     "schema_version": 3,
     "solution": false,
     "task": false
    }
   },
   "source": [
    "\n",
    "---\n",
    "\n",
    "### Section 3.2: TF-IDF (15 points) <a class=\"anchor\" id=\"tfidf\"></a>\n",
    "\n",
    "Before we implement the tf-idf scoring functions, let's first write a function to compute the document frequencies of all words.\n",
    "\n",
    "#### 3.2.1 Document frequency (5 points)\n",
    "Compute the document frequencies of all tokens in the collection.\n",
    "Your code should return a dictionary with tokens as its keys and the number of documents containing the token as values.\n",
    "For consistency, the values should have `int` type."
   ]
  },
  {
   "cell_type": "code",
   "execution_count": 29,
   "metadata": {
    "cell_id": "00048-7d15cfba-6fc3-46f2-8fc4-e2ea33b6f8ab",
    "deepnote_cell_height": 333,
    "deepnote_cell_type": "code",
    "deepnote_to_be_reexecuted": false,
    "deletable": false,
    "execution_millis": 11244452,
    "execution_start": 1645186539217,
    "nbgrader": {
     "cell_type": "code",
     "checksum": "5c53263cf4c0b0ffcaae08b91fc364cc",
     "grade": false,
     "grade_id": "cell-9a2369f32e864b8a",
     "locked": false,
     "schema_version": 3,
     "solution": true,
     "task": false
    },
    "source_hash": "da17c69a"
   },
   "outputs": [],
   "source": [
    "# TODO: Implement this! (5 points)\n",
    "def compute_df(documents):\n",
    "    \"\"\"\n",
    "    Compute the document frequency of all terms in the vocabulary\n",
    "    Input: A list of documents\n",
    "    Output: A dictionary with {token: document frequency (int)}\n",
    "    \"\"\"\n",
    "    # YOUR CODE HERE\n",
    "    df_dict = defaultdict(int)\n",
    "    for document in documents:\n",
    "        # we only count a token once per document, so work on the set of unique doc tokens\n",
    "        unique_doc_tokens = set(document)\n",
    "        for token in unique_doc_tokens:\n",
    "            df_dict[token] += 1\n",
    "    return df_dict"
   ]
  },
  {
   "cell_type": "code",
   "execution_count": 30,
   "metadata": {
    "cell_id": "00049-d09fb33d-2d8c-4b8b-aab7-f458f87425f7",
    "deepnote_cell_height": 297,
    "deepnote_cell_type": "code",
    "deepnote_to_be_reexecuted": false,
    "deletable": false,
    "editable": false,
    "execution_millis": 94,
    "execution_start": 1645186539218,
    "lines_to_next_cell": 2,
    "nbgrader": {
     "cell_type": "code",
     "checksum": "154985511d7925c5793a1f97dea81880",
     "grade": false,
     "grade_id": "cell-4c3bddd0b73ac90e",
     "locked": true,
     "schema_version": 3,
     "solution": false,
     "task": false
    },
    "source_hash": "46458dbe"
   },
   "outputs": [],
   "source": [
    "#### Compute df based on the two configs\n",
    "\n",
    "# get the document frequencies of each document\n",
    "df_1 = compute_df([d[1] for d in doc_repr_1])\n",
    "df_2 = compute_df([d[1] for d in doc_repr_2])\n",
    "\n",
    "\n",
    "def get_df(index_set):\n",
    "    assert index_set in {1, 2}\n",
    "    return {1: df_1, 2: df_2}[index_set]\n",
    "\n",
    "\n",
    "####"
   ]
  },
  {
   "cell_type": "code",
   "execution_count": 31,
   "metadata": {
    "cell_id": "00050-0d714f0a-0f10-4e51-be4f-9dc1c0905ca9",
    "deepnote_cell_height": 204.375,
    "deepnote_cell_type": "code",
    "deepnote_to_be_reexecuted": false,
    "deletable": false,
    "editable": false,
    "execution_millis": 422,
    "execution_start": 1645186539327,
    "nbgrader": {
     "cell_type": "code",
     "checksum": "110cc180068cf3f77c682ee3de2a117c",
     "grade": true,
     "grade_id": "cell-79e8a6db1e5fc46f",
     "locked": true,
     "points": 5,
     "schema_version": 3,
     "solution": false,
     "task": false
    },
    "source_hash": "43b9edf4"
   },
   "outputs": [
    {
     "name": "stdout",
     "output_type": "stream",
     "text": [
      "597\n",
      "11\n"
     ]
    }
   ],
   "source": [
    "#### Function check\n",
    "\n",
    "print(df_1[\"computer\"])\n",
    "print(df_2[\"computer\"])\n",
    "####"
   ]
  },
  {
   "cell_type": "markdown",
   "metadata": {
    "cell_id": "00051-7d6233d2-d8c7-4fc4-8207-4bedbd2085af",
    "deepnote_cell_height": 271,
    "deepnote_cell_type": "markdown",
    "deletable": false,
    "editable": false,
    "nbgrader": {
     "cell_type": "markdown",
     "checksum": "d0d577668fa51b80aeab6e67209ae73b",
     "grade": false,
     "grade_id": "cell-52f6acc487e1b96d",
     "locked": true,
     "schema_version": 3,
     "solution": false,
     "task": false
    }
   },
   "source": [
    "---\n",
    "#### 3.2.2 TF-IDF search (10 points)\n",
    "Next, implement a function that computes a tf-idf score, given a query.\n",
    "Use the following formulas for TF and IDF:\n",
    "\n",
    "$$ TF=\\log (1 + f_{d,t}) $$\n",
    "\n",
    "$$ IDF=\\log (\\frac{N}{n_t})$$\n",
    "\n",
    "where $f_{d,t}$ is the frequency of token $t$ in document $d$, $N$ is the number of total documents and $n_t$ is the number of documents containing token $t$.\n",
    "\n",
    "**Note:** your implementation will be auto-graded assuming you have used the above formulas.\n"
   ]
  },
  {
   "cell_type": "code",
   "execution_count": 32,
   "metadata": {
    "cell_id": "00052-d1b23bf4-b5f4-4a82-8df2-d8772e42b73a",
    "deepnote_cell_height": 567,
    "deepnote_cell_type": "code",
    "deepnote_to_be_reexecuted": false,
    "deletable": false,
    "execution_millis": 20,
    "execution_start": 1645186539352,
    "nbgrader": {
     "cell_type": "code",
     "checksum": "3534c44b4a3419ca1db98eebe7115dc1",
     "grade": false,
     "grade_id": "cell-2fb5ba34b2994cd9",
     "locked": false,
     "schema_version": 3,
     "solution": true,
     "task": false
    },
    "source_hash": "1d6e90cb"
   },
   "outputs": [],
   "source": [
    "# TODO: Implement this! (10 points)\n",
    "def tfidf_search(query, index_set):\n",
    "    \"\"\"\n",
    "    Perform a search over all documents with the given query using tf-idf.\n",
    "    Note #1: You have to use the `get_index` (and the `get_df`) function\n",
    "    created in the previous cells\n",
    "    Input:\n",
    "        query - a (unprocessed) query\n",
    "        index_set - the index to use\n",
    "    Output: a list of (document_id, score),\n",
    "        sorted in descending relevance to the given query\n",
    "    \"\"\"\n",
    "    index = get_index(index_set)\n",
    "    df = get_df(index_set)\n",
    "    processed_query = preprocess_query(query, index_set)\n",
    "\n",
    "    N = len(docs)\n",
    "    # YOUR CODE HERE\n",
    "    documents = defaultdict(float)\n",
    "    for token in processed_query:\n",
    "        for document_id, token_count in index[token]:\n",
    "            tf = np.log(1 + token_count)\n",
    "            idf = np.log(N / df[token])\n",
    "            tf_idf = tf * idf\n",
    "            documents[document_id] += tf_idf\n",
    "    # convert documents to list and sort descending\n",
    "    documents = sorted(list(documents.items()), key=lambda x: x[1], reverse=True)\n",
    "    return documents"
   ]
  },
  {
   "cell_type": "code",
   "execution_count": 33,
   "metadata": {
    "cell_id": "00053-487c5ebc-c09b-46d0-9f43-38c4f74264e7",
    "deepnote_cell_height": 225,
    "deepnote_cell_type": "code",
    "deepnote_to_be_reexecuted": false,
    "deletable": false,
    "editable": false,
    "execution_millis": 80,
    "execution_start": 1645186539384,
    "nbgrader": {
     "cell_type": "code",
     "checksum": "7b66a514663d898694b09a23a597312b",
     "grade": true,
     "grade_id": "cell-bc68aeeacf42beb3",
     "locked": true,
     "points": 2,
     "schema_version": 3,
     "solution": false,
     "task": false
    },
    "source_hash": "4907bb8a"
   },
   "outputs": [],
   "source": [
    "#### Function check\n",
    "test_tfidf = tfidf_search(\"how to implement tf idf search\", index_set=1)[:5]\n",
    "assert isinstance(test_tfidf, list)\n",
    "assert len(test_tfidf[0]) == 2\n",
    "assert isinstance(test_tfidf[0][0], str)\n",
    "assert isinstance(test_tfidf[0][1], float)\n",
    "\n",
    "####"
   ]
  },
  {
   "cell_type": "code",
   "execution_count": 34,
   "metadata": {
    "cell_id": "00054-ca226c89-ef3a-464d-aeed-2750ea928db4",
    "deepnote_cell_height": 285.125,
    "deepnote_cell_type": "code",
    "deepnote_to_be_reexecuted": false,
    "deletable": false,
    "editable": false,
    "execution_millis": 222,
    "execution_start": 1645186539544,
    "lines_to_next_cell": 2,
    "nbgrader": {
     "cell_type": "code",
     "checksum": "98fb1326cf4bf7983ae237ca8a9105f9",
     "grade": true,
     "grade_id": "cell-c7702fa8179fadb9",
     "locked": true,
     "points": 2,
     "schema_version": 3,
     "solution": false,
     "task": false
    },
    "source_hash": "fddf59b1"
   },
   "outputs": [
    {
     "name": "stdout",
     "output_type": "stream",
     "text": [
      "TFIDF Results:\n",
      "Rank 0(1.3e+01): PEEKABIT, Computer Offspring of Punched\\nCard PEEK...\n",
      "Rank 1(9.8): Variable Length Tree Structures Having Minimum Ave...\n",
      "Rank 2(8.2): A Stochastic Approach to the Grammatical Coding of...\n",
      "Rank 3(8.1): Full Table Quadratic Searching for Scatter Storage...\n",
      "Rank 4(7.6): Use of Tree Structures for Processing Files\\nIn da...\n"
     ]
    }
   ],
   "source": [
    "test_tfidf_2 = tfidf_search(\"computer word search\", index_set=2)[:5]\n",
    "print(f\"TFIDF Results:\")\n",
    "print_results(test_tfidf_2)"
   ]
  },
  {
   "cell_type": "code",
   "execution_count": 35,
   "metadata": {
    "cell_id": "00055-861246a7-b33f-43ef-8ffc-16cd768e3e3e",
    "deepnote_cell_height": 285.125,
    "deepnote_cell_type": "code",
    "deepnote_to_be_reexecuted": false,
    "deletable": false,
    "editable": false,
    "execution_millis": 179,
    "execution_start": 1645186539589,
    "lines_to_next_cell": 2,
    "nbgrader": {
     "cell_type": "code",
     "checksum": "733b5b67be5e53989f5b763ce5e52ee9",
     "grade": true,
     "grade_id": "cell-3284f50ac29abbaa",
     "locked": true,
     "points": 3,
     "schema_version": 3,
     "solution": false,
     "task": false
    },
    "source_hash": "83683be1"
   },
   "outputs": [
    {
     "name": "stdout",
     "output_type": "stream",
     "text": [
      "TFIDF Results:\n",
      "Rank 0(9.4): Variable Length Tree Structures Having Minimum Ave...\n",
      "Rank 1(7.4): On the Feasibility of Voice Input to\\nan On-line C...\n",
      "Rank 2(7.3): Median Split Trees: A Fast Lookup Technique for Fr...\n",
      "Rank 3(7.0): Execution Time Requirements for Encipherment Progr...\n",
      "Rank 4(7.0): Storage and Search Properties of a Tree-Organized ...\n"
     ]
    }
   ],
   "source": [
    "test_tfidf_1 = tfidf_search(\"computer word search\", index_set=1)[:5]\n",
    "print(f\"TFIDF Results:\")\n",
    "print_results(test_tfidf_1)"
   ]
  },
  {
   "cell_type": "code",
   "execution_count": 36,
   "metadata": {
    "cell_id": "00056-3513c3fe-3e9f-4b8c-aa0f-3f4a6d19816c",
    "deepnote_cell_height": 280.75,
    "deepnote_cell_type": "code",
    "deepnote_to_be_reexecuted": false,
    "deletable": false,
    "editable": false,
    "execution_millis": 1,
    "execution_start": 1645186539634,
    "lines_to_next_cell": 2,
    "nbgrader": {
     "cell_type": "code",
     "checksum": "e0edb37a5ae807a2de85d578c87ccb78",
     "grade": true,
     "grade_id": "cell-d908c80a3155354b",
     "locked": true,
     "points": 3,
     "schema_version": 3,
     "solution": false,
     "task": false
    },
    "source_hash": "9b7bb168"
   },
   "outputs": [
    {
     "name": "stdout",
     "output_type": "stream",
     "text": [
      "top-5 docs for index1 with BOW search: ('1771', '1936', '1543', '2535', '678')\n",
      "top-5 docs for index2 with BOW search: ('1525', '1936', '1844', '1700', '1366')\n",
      "top-5 docs for index1 with TF-IDF search: ('1936', '2054', '3041', '2620', '944')\n",
      "top-5 docs for index2 with TF-IDF search: ('1700', '1936', '1235', '2018', '849')\n"
     ]
    }
   ],
   "source": [
    "print(\"top-5 docs for index1 with BOW search:\", list(zip(*test_bow_1[:5]))[0])\n",
    "print(\"top-5 docs for index2 with BOW search:\", list(zip(*test_bow_2[:5]))[0])\n",
    "print(\"top-5 docs for index1 with TF-IDF search:\", list(zip(*test_tfidf_1[:5]))[0])\n",
    "print(\"top-5 docs for index2 with TF-IDF search:\", list(zip(*test_tfidf_2[:5]))[0])"
   ]
  },
  {
   "cell_type": "markdown",
   "metadata": {
    "cell_id": "00057-685f4747-06a6-4177-91cd-2efd41bed6dc",
    "deepnote_cell_height": 235,
    "deepnote_cell_type": "markdown",
    "deletable": false,
    "editable": false,
    "nbgrader": {
     "cell_type": "markdown",
     "checksum": "cdffc83f0eaea937cf64a212e7e9af8d",
     "grade": false,
     "grade_id": "cell-f5d923459ba21733",
     "locked": true,
     "schema_version": 3,
     "solution": false,
     "task": false
    }
   },
   "source": [
    "---\n",
    "\n",
    "### Section 3.3: Query Likelihood Model (35 points) <a class=\"anchor\" id=\"qlm\"></a>\n",
    "\n",
    "In this section, you will implement a simple query likelihood model.\n",
    "\n",
    "\n",
    "#### 3.3.1 Naive QL (15 points)\n",
    "\n",
    "First, let us implement a naive version of a QL model, assuming a multinomial unigram language model (with a uniform prior over the documents).\n",
    "\n"
   ]
  },
  {
   "cell_type": "code",
   "execution_count": 37,
   "metadata": {
    "cell_id": "00058-cda44e40-05f4-4632-a263-b4e4b00947bd",
    "deepnote_cell_height": 351,
    "deepnote_cell_type": "code",
    "deepnote_to_be_reexecuted": false,
    "deletable": false,
    "editable": false,
    "execution_millis": 127,
    "execution_start": 1645186539642,
    "lines_to_next_cell": 2,
    "nbgrader": {
     "cell_type": "code",
     "checksum": "b7ae2b7d818b428b4638c1c9206d2aca",
     "grade": false,
     "grade_id": "cell-98505778f7b68e7f",
     "locked": true,
     "schema_version": 3,
     "solution": false,
     "task": false
    },
    "source_hash": "41faad84"
   },
   "outputs": [],
   "source": [
    "#### Document length for normalization\n",
    "\n",
    "\n",
    "def doc_lengths(documents):\n",
    "    doc_lengths = {doc_id: len(doc) for (doc_id, doc) in documents}\n",
    "    return doc_lengths\n",
    "\n",
    "\n",
    "doc_lengths_1 = doc_lengths(doc_repr_1)\n",
    "doc_lengths_2 = doc_lengths(doc_repr_2)\n",
    "\n",
    "\n",
    "def get_doc_lengths(index_set):\n",
    "    assert index_set in {1, 2}\n",
    "    return {1: doc_lengths_1, 2: doc_lengths_2}[index_set]\n",
    "\n",
    "\n",
    "####"
   ]
  },
  {
   "cell_type": "code",
   "execution_count": 38,
   "metadata": {
    "cell_id": "00059-746be962-92e6-47b2-bf24-e3d86dedd92e",
    "deepnote_cell_height": 567,
    "deepnote_cell_type": "code",
    "deepnote_to_be_reexecuted": false,
    "deletable": false,
    "execution_millis": 0,
    "execution_start": 1645186539698,
    "nbgrader": {
     "cell_type": "code",
     "checksum": "cedd08303a914243fefdb6b876977ca1",
     "grade": false,
     "grade_id": "cell-8bcf2b804d636c2e",
     "locked": false,
     "schema_version": 3,
     "solution": true,
     "task": false
    },
    "source_hash": "a861316b"
   },
   "outputs": [],
   "source": [
    "# TODO: Implement this! (15 points)\n",
    "def naive_ql_search(query, index_set):\n",
    "    \"\"\"\n",
    "    Perform a search over all documents with the given query using a naive QL model.\n",
    "    Note #1: You have to use the `get_index` (and get_doc_lengths) function\n",
    "        created in the previous cells\n",
    "    Input:\n",
    "        query - a (unprocessed) query\n",
    "        index_set - the index to use\n",
    "    Output: a list of (document_id, score), sorted in descending relevance\n",
    "        to the given query\n",
    "    \"\"\"\n",
    "    index = get_index(index_set)\n",
    "    doc_lengths = get_doc_lengths(index_set)\n",
    "    processed_query = preprocess_query(query, index_set)\n",
    "    # YOUR CODE HERE\n",
    "    documents = {}\n",
    "    for token in processed_query:\n",
    "        for document_id, token_count in index[token]:\n",
    "            # page 255 of Croft et al.\n",
    "            p_qD = token_count / doc_lengths[document_id]\n",
    "            if document_id not in documents:\n",
    "                documents[document_id] = p_qD\n",
    "            else:\n",
    "                documents[document_id] *= p_qD\n",
    "    # convert documents to list and sort descending\n",
    "    documents = sorted(list(documents.items()), key=lambda x: x[1], reverse=True)\n",
    "    return documents"
   ]
  },
  {
   "cell_type": "code",
   "execution_count": 39,
   "metadata": {
    "cell_id": "00060-7b8590ee-afcd-44ee-b551-3938924f8c30",
    "deepnote_cell_height": 285.125,
    "deepnote_cell_type": "code",
    "deepnote_to_be_reexecuted": false,
    "deletable": false,
    "editable": false,
    "execution_millis": 0,
    "execution_start": 1645186539699,
    "nbgrader": {
     "cell_type": "code",
     "checksum": "b550d15bdad28354c336020a00c33d56",
     "grade": true,
     "grade_id": "cell-5a83ac12ecde8578",
     "locked": true,
     "points": 3,
     "schema_version": 3,
     "solution": false,
     "task": false
    },
    "source_hash": "54190022"
   },
   "outputs": [
    {
     "name": "stdout",
     "output_type": "stream",
     "text": [
      "Naive QL Results:\n",
      "Rank 0(0.2): A Report Writer For COBOL...\n",
      "Rank 1(0.2): A CRT Report Generating System...\n",
      "Rank 2(0.17): Preliminary Report-International Algebraic Languag...\n",
      "Rank 3(0.17): Supplement to the ALGOL 60 Report...\n",
      "Rank 4(0.14): ALGOL Sub-Committee Report - Extensions...\n"
     ]
    }
   ],
   "source": [
    "#### Function check\n",
    "test_naiveql = naive_ql_search(\"report\", index_set=1)[:5]\n",
    "print(f\"Naive QL Results:\")\n",
    "print_results(test_naiveql)\n",
    "####"
   ]
  },
  {
   "cell_type": "code",
   "execution_count": 40,
   "metadata": {
    "cell_id": "00061-82ac6743-087a-40be-8e13-c83e9cc51509",
    "deepnote_cell_height": 81,
    "deepnote_cell_type": "code",
    "deepnote_to_be_reexecuted": false,
    "deletable": false,
    "editable": false,
    "execution_millis": 30,
    "execution_start": 1645186539742,
    "nbgrader": {
     "cell_type": "code",
     "checksum": "799df1d81c63fe90edbb6c218fc707fb",
     "grade": true,
     "grade_id": "cell-80f4bf2137f997bb",
     "locked": true,
     "points": 2,
     "schema_version": 3,
     "solution": false,
     "task": false
    },
    "source_hash": "28110d30"
   },
   "outputs": [],
   "source": [
    "#### Please do not change this. This cell is used for grading."
   ]
  },
  {
   "cell_type": "code",
   "execution_count": 41,
   "metadata": {
    "cell_id": "00062-17e1b311-2247-4c85-9402-b644f1f66b12",
    "deepnote_cell_height": 81,
    "deepnote_cell_type": "code",
    "deepnote_to_be_reexecuted": false,
    "deletable": false,
    "editable": false,
    "execution_millis": 11244764,
    "execution_start": 1645186539743,
    "nbgrader": {
     "cell_type": "code",
     "checksum": "875a4a517d27e20625d41783cebec118",
     "grade": true,
     "grade_id": "cell-5ce2993458a8ce51",
     "locked": true,
     "points": 3,
     "schema_version": 3,
     "solution": false,
     "task": false
    },
    "source_hash": "28110d30"
   },
   "outputs": [],
   "source": [
    "#### Please do not change this. This cell is used for grading."
   ]
  },
  {
   "cell_type": "code",
   "execution_count": 42,
   "metadata": {
    "cell_id": "00063-21abc448-96e9-40fc-82a7-478035610266",
    "deepnote_cell_height": 81,
    "deepnote_cell_type": "code",
    "deepnote_to_be_reexecuted": false,
    "deletable": false,
    "editable": false,
    "execution_millis": 11244759,
    "execution_start": 1645186539750,
    "nbgrader": {
     "cell_type": "code",
     "checksum": "d5c4e1c3852e71a46f32825b122f1b71",
     "grade": true,
     "grade_id": "cell-7753bdb54e292f3d",
     "locked": true,
     "points": 3,
     "schema_version": 3,
     "solution": false,
     "task": false
    },
    "source_hash": "28110d30"
   },
   "outputs": [],
   "source": [
    "#### Please do not change this. This cell is used for grading."
   ]
  },
  {
   "cell_type": "code",
   "execution_count": 43,
   "metadata": {
    "cell_id": "00064-47b977bf-c1c9-4960-8ecc-f146211b3336",
    "deepnote_cell_height": 81,
    "deepnote_cell_type": "code",
    "deepnote_to_be_reexecuted": false,
    "deletable": false,
    "editable": false,
    "execution_millis": 11244752,
    "execution_start": 1645186539809,
    "nbgrader": {
     "cell_type": "code",
     "checksum": "c4d4332d4356e89ce0240f6b80e1899a",
     "grade": true,
     "grade_id": "cell-54e476e2f96e64bb",
     "locked": true,
     "points": 4,
     "schema_version": 3,
     "solution": false,
     "task": false
    },
    "source_hash": "28110d30"
   },
   "outputs": [],
   "source": [
    "#### Please do not change this. This cell is used for grading."
   ]
  },
  {
   "cell_type": "markdown",
   "metadata": {
    "cell_id": "00065-1a6eeeea-9611-4e55-bf52-1adfe9cd668f",
    "deepnote_cell_height": 156.59375,
    "deepnote_cell_type": "markdown",
    "deletable": false,
    "editable": false,
    "nbgrader": {
     "cell_type": "markdown",
     "checksum": "8d739dc91a22bd48897f603885f95a74",
     "grade": false,
     "grade_id": "cell-5414dfd69dab8b94",
     "locked": true,
     "schema_version": 3,
     "solution": false,
     "task": false
    }
   },
   "source": [
    "---\n",
    "#### 3.3.2 QL (20 points)\n",
    "Now, let's implement a QL model that handles the issues with the naive version. In particular, you will implement a QL model with Jelinek-Mercer Smoothing. That means an interpolated score is computed per word - one term is the same as the previous naive version, and the second term comes from a unigram language model. In addition, you should accumulate the scores by summing the **log** (smoothed) probability which leads to better numerical stability."
   ]
  },
  {
   "cell_type": "code",
   "execution_count": 44,
   "metadata": {
    "cell_id": "00066-3fb59861-7bc5-497f-951b-c221eb02258c",
    "deepnote_cell_height": 1125,
    "deepnote_cell_type": "code",
    "deepnote_to_be_reexecuted": false,
    "deletable": false,
    "execution_millis": 11244761,
    "execution_start": 1645186539809,
    "nbgrader": {
     "cell_type": "code",
     "checksum": "b8c6abf937ad333e628f1db891f2e29e",
     "grade": false,
     "grade_id": "cell-bb1f506409771257",
     "locked": false,
     "schema_version": 3,
     "solution": true,
     "task": false
    },
    "source_hash": "2f2ddee4"
   },
   "outputs": [],
   "source": [
    "# TODO: Implement this! (20 points)\n",
    "\n",
    "\n",
    "def ql_search(query, index_set):\n",
    "    \"\"\"\n",
    "    Perform a search over all documents with the given query using a QL model\n",
    "    with Jelinek-Mercer Smoothing (set smoothing=0.1).\n",
    "\n",
    "    Note #1: You have to use the `get_index` (and get_doc_lengths) function\n",
    "        created in the previous cells\n",
    "    Note #2: You might have to create some variables beforehand and\n",
    "        use them in this function\n",
    "\n",
    "    Input:\n",
    "        query - a (unprocessed) query\n",
    "        index_set - the index to use\n",
    "    Output: a list of (document_id, score), sorted in descending relevance\n",
    "        to the given query\n",
    "    \"\"\"\n",
    "    index = get_index(index_set)\n",
    "    doc_lengths = get_doc_lengths(index_set)\n",
    "    processed_query = preprocess_query(query, index_set)\n",
    "\n",
    "    # YOUR CODE HERE\n",
    "    # total number of words in the collection\n",
    "    C = sum(list(doc_lengths.values()))\n",
    "    # \"(set smoothing=0.1)\"\n",
    "    lambd = 0.1\n",
    "    results = {}\n",
    "    for token in processed_query:\n",
    "        # skip tokens not in docs\n",
    "        if not index[token]:\n",
    "            continue\n",
    "        # mapping from to doc_id to count for this token\n",
    "        doc_to_count = {}\n",
    "        # total count of token across the collection\n",
    "        total_tok_count = 0\n",
    "        for doc, tok_count in index[token]:\n",
    "            doc_to_count[doc] = tok_count\n",
    "            total_tok_count += tok_count\n",
    "\n",
    "        # check each document in our collection, to catch token counts of 0\n",
    "        for document_id, doc_length in doc_lengths.items():\n",
    "            if document_id in doc_to_count:\n",
    "                token_count = doc_to_count[document_id]\n",
    "            else:\n",
    "                token_count = 0\n",
    "            # page 257 of Croft et al.\n",
    "            p_qD = np.log(\n",
    "                (1 - lambd) * token_count / doc_lengths[document_id]\n",
    "                + lambd * total_tok_count / C\n",
    "            )\n",
    "            if document_id not in results:\n",
    "                results[document_id] = p_qD\n",
    "            else:\n",
    "                results[document_id] += p_qD\n",
    "\n",
    "    # convert documents to list and sort descending\n",
    "    results = sorted(list(results.items()), key=lambda x: x[1], reverse=True)\n",
    "    return results"
   ]
  },
  {
   "cell_type": "code",
   "execution_count": 45,
   "metadata": {
    "cell_id": "00067-490d8cb9-33a4-47fc-9c15-ad1b4c455132",
    "deepnote_cell_height": 422.0625,
    "deepnote_cell_type": "code",
    "deepnote_to_be_reexecuted": false,
    "deletable": false,
    "editable": false,
    "execution_millis": 121,
    "execution_start": 1645186539852,
    "is_code_hidden": false,
    "nbgrader": {
     "cell_type": "code",
     "checksum": "0b12a7f3355193a257fd9f5f69a66562",
     "grade": true,
     "grade_id": "cell-850e9d6369bcec32",
     "locked": true,
     "points": 4,
     "schema_version": 3,
     "solution": false,
     "task": false
    },
    "source_hash": "4e5f7dd8"
   },
   "outputs": [
    {
     "name": "stdout",
     "output_type": "stream",
     "text": [
      "Rank 0(-1.7): A Report Writer For COBOL...\n",
      "Rank 1(-1.7): A CRT Report Generating System...\n",
      "Rank 2(-1.9): Preliminary Report-International Algebraic Languag...\n",
      "Rank 3(-1.9): Supplement to the ALGOL 60 Report...\n",
      "Rank 4(-2.1): ALGOL Sub-Committee Report - Extensions...\n",
      "\n",
      "Rank 0(-1.7e+01): A Report Writer For COBOL...\n",
      "Rank 1(-1.7e+01): A CRT Report Generating System...\n",
      "Rank 2(-1.9e+01): Preliminary Report-International Algebraic Languag...\n",
      "Rank 3(-1.9e+01): Supplement to the ALGOL 60 Report...\n",
      "Rank 4(-2.1e+01): ALGOL Sub-Committee Report - Extensions...\n"
     ]
    }
   ],
   "source": [
    "#### Function check\n",
    "test_ql_results = ql_search(\"report\", index_set=1)[:5]\n",
    "print_results(test_ql_results)\n",
    "print()\n",
    "test_ql_results_long = ql_search(\"report \" * 10, index_set=1)[:5]\n",
    "print_results(test_ql_results_long)\n",
    "####"
   ]
  },
  {
   "cell_type": "code",
   "execution_count": 46,
   "metadata": {
    "cell_id": "00068-095393c5-8e5b-4aef-9720-cfe9fae3b7c5",
    "deepnote_cell_height": 81,
    "deepnote_cell_type": "code",
    "deepnote_to_be_reexecuted": false,
    "deletable": false,
    "editable": false,
    "execution_millis": 11244810,
    "execution_start": 1645186540003,
    "nbgrader": {
     "cell_type": "code",
     "checksum": "e40be645140389c115849856145f5b59",
     "grade": true,
     "grade_id": "cell-958cdcf6fd6899b7",
     "locked": true,
     "points": 3,
     "schema_version": 3,
     "solution": false,
     "task": false
    },
    "source_hash": "28110d30"
   },
   "outputs": [],
   "source": [
    "#### Please do not change this. This cell is used for grading."
   ]
  },
  {
   "cell_type": "code",
   "execution_count": 47,
   "metadata": {
    "cell_id": "00069-4cd600e6-d694-4c40-ab70-28deb209cf19",
    "deepnote_cell_height": 81,
    "deepnote_cell_type": "code",
    "deepnote_to_be_reexecuted": false,
    "deletable": false,
    "editable": false,
    "execution_millis": 11244823,
    "execution_start": 1645186540042,
    "nbgrader": {
     "cell_type": "code",
     "checksum": "41d4aff001df17e7963ba79b45810b30",
     "grade": true,
     "grade_id": "cell-384dc23a0c251f6e",
     "locked": true,
     "points": 4,
     "schema_version": 3,
     "solution": false,
     "task": false
    },
    "source_hash": "28110d30"
   },
   "outputs": [],
   "source": [
    "#### Please do not change this. This cell is used for grading."
   ]
  },
  {
   "cell_type": "code",
   "execution_count": 48,
   "metadata": {
    "cell_id": "00070-952cb008-6963-4ca8-89f4-302b5a3ff74f",
    "deepnote_cell_height": 81,
    "deepnote_cell_type": "code",
    "deepnote_to_be_reexecuted": false,
    "deletable": false,
    "editable": false,
    "execution_millis": 11244838,
    "execution_start": 1645186540086,
    "nbgrader": {
     "cell_type": "code",
     "checksum": "893e8c5a073abc8ebb763d267b91bc02",
     "grade": true,
     "grade_id": "cell-7218966cba5097cc",
     "locked": true,
     "points": 4,
     "schema_version": 3,
     "solution": false,
     "task": false
    },
    "source_hash": "28110d30"
   },
   "outputs": [],
   "source": [
    "#### Please do not change this. This cell is used for grading."
   ]
  },
  {
   "cell_type": "code",
   "execution_count": 49,
   "metadata": {
    "cell_id": "00071-6752fe8b-7f1e-4fbc-a1c8-8a5f9876a4c4",
    "deepnote_cell_height": 81,
    "deepnote_cell_type": "code",
    "deepnote_to_be_reexecuted": false,
    "deletable": false,
    "editable": false,
    "execution_millis": 11244853,
    "execution_start": 1645186540123,
    "nbgrader": {
     "cell_type": "code",
     "checksum": "f99cb6f8b1f5830aaed8f06712ff846e",
     "grade": true,
     "grade_id": "cell-481ab073259ae53f",
     "locked": true,
     "points": 5,
     "schema_version": 3,
     "solution": false,
     "task": false
    },
    "source_hash": "28110d30"
   },
   "outputs": [],
   "source": [
    "#### Please do not change this. This cell is used for grading."
   ]
  },
  {
   "cell_type": "markdown",
   "metadata": {
    "cell_id": "00072-927d2e01-1b15-4854-a903-2a2472ecb63b",
    "deepnote_cell_height": 127,
    "deepnote_cell_type": "markdown",
    "deletable": false,
    "editable": false,
    "nbgrader": {
     "cell_type": "markdown",
     "checksum": "c02f14705d679579b1aa9f78f54779d5",
     "grade": false,
     "grade_id": "cell-f44088bfdac1dc90",
     "locked": true,
     "schema_version": 3,
     "solution": false,
     "task": false
    }
   },
   "source": [
    "---\n",
    "\n",
    "### Section 3.4: BM25 (20 points) <a class=\"anchor\" id=\"bm25\"></a>\n",
    "\n",
    "In this section, we will implement the BM25 scoring function.\n"
   ]
  },
  {
   "cell_type": "code",
   "execution_count": 50,
   "metadata": {
    "cell_id": "00073-22161fa2-0c00-4c01-af51-4968d6b78880",
    "deepnote_cell_height": 801,
    "deepnote_cell_type": "code",
    "deepnote_to_be_reexecuted": false,
    "deletable": false,
    "execution_millis": 11244861,
    "execution_start": 1645186540177,
    "nbgrader": {
     "cell_type": "code",
     "checksum": "e57efe06ea92af1c83784a42eb3d86e0",
     "grade": false,
     "grade_id": "cell-15640fc9b5d00a3c",
     "locked": false,
     "schema_version": 3,
     "solution": true,
     "task": false
    },
    "source_hash": "991aa048"
   },
   "outputs": [],
   "source": [
    "# TODO: Implement this! (20 points)\n",
    "def bm25_search(query, index_set):\n",
    "    \"\"\"\n",
    "    Perform a search over all documents with the given query using BM25.\n",
    "    Use k_1 = 1.5 and b = 0.75\n",
    "    Note #1: You have to use the `get_index` (and `get_doc_lengths`) function\n",
    "    created in the previous cells\n",
    "    Note #2: You might have to create some variables beforehand\n",
    "    and use them in this function\n",
    "\n",
    "    Input:\n",
    "        query - a (unprocessed) query\n",
    "        index_set - the index to use\n",
    "    Output: a list of (document_id, score), sorted in descending\n",
    "        relevance to the given query\n",
    "    \"\"\"\n",
    "\n",
    "    index = get_index(index_set)\n",
    "    df = get_df(index_set)\n",
    "    doc_lengths = get_doc_lengths(index_set)\n",
    "    processed_query = preprocess_query(query, index_set)\n",
    "\n",
    "    # YOUR CODE HERE\n",
    "    # hard coded values\n",
    "    k_1 = 1.5\n",
    "    b = 0.75\n",
    "    # initialize our result\n",
    "    documents = defaultdict(float)\n",
    "    # average doc length and number of docs\n",
    "    ave_dl = np.mean([value for _key, value in doc_lengths.items()])\n",
    "    N = len(docs)\n",
    "    for token in processed_query:\n",
    "        for document_id, token_count in index[token]:\n",
    "            idf = np.log(N / df[token])\n",
    "            second_term = (token_count * (k_1 + 1)) / (\n",
    "                token_count + k_1 * (1 - b + b * (doc_lengths[document_id] / ave_dl))\n",
    "            )\n",
    "            documents[document_id] += idf * second_term\n",
    "    # convert documents to list and sort descending\n",
    "    documents = sorted(list(documents.items()), key=lambda x: x[1], reverse=True)\n",
    "    return documents"
   ]
  },
  {
   "cell_type": "code",
   "execution_count": 51,
   "metadata": {
    "cell_id": "00074-99930c5d-a5f8-4ead-b1d4-1bb2ada8b11b",
    "deepnote_cell_height": 246.9375,
    "deepnote_cell_type": "code",
    "deepnote_to_be_reexecuted": false,
    "deletable": false,
    "editable": false,
    "execution_millis": 11244850,
    "execution_start": 1645186540178,
    "nbgrader": {
     "cell_type": "code",
     "checksum": "4be9de5d4e94637960d83725422bea6c",
     "grade": true,
     "grade_id": "cell-d10536bca72c74b1",
     "locked": true,
     "points": 3,
     "schema_version": 3,
     "solution": false,
     "task": false
    },
    "source_hash": "e0c314c5"
   },
   "outputs": [
    {
     "name": "stdout",
     "output_type": "stream",
     "text": [
      "Rank 0(6.7): A Report Writer For COBOL...\n",
      "Rank 1(6.7): A CRT Report Generating System...\n",
      "Rank 2(6.6): Preliminary Report-International Algebraic Languag...\n",
      "Rank 3(6.6): Supplement to the ALGOL 60 Report...\n",
      "Rank 4(6.5): ALGOL Sub-Committee Report - Extensions...\n"
     ]
    }
   ],
   "source": [
    "#### Function check\n",
    "test_bm25_results = bm25_search(\"report\", index_set=1)[:5]\n",
    "print_results(test_bm25_results)\n",
    "####"
   ]
  },
  {
   "cell_type": "code",
   "execution_count": 52,
   "metadata": {
    "cell_id": "00075-42c49004-74c6-4354-a713-ab682c96123e",
    "deepnote_cell_height": 81,
    "deepnote_cell_type": "code",
    "deepnote_to_be_reexecuted": false,
    "deletable": false,
    "editable": false,
    "execution_millis": 11244838,
    "execution_start": 1645186540222,
    "nbgrader": {
     "cell_type": "code",
     "checksum": "31b550d6a46ae4f8ede88788799ac2b9",
     "grade": true,
     "grade_id": "cell-60f6ec5052712d79",
     "locked": true,
     "points": 5,
     "schema_version": 3,
     "solution": false,
     "task": false
    },
    "source_hash": "28110d30"
   },
   "outputs": [],
   "source": [
    "#### Please do not change this. This cell is used for grading."
   ]
  },
  {
   "cell_type": "code",
   "execution_count": 53,
   "metadata": {
    "cell_id": "00076-dda1edfe-5234-4b37-8700-30b331b5b71e",
    "deepnote_cell_height": 81,
    "deepnote_cell_type": "code",
    "deepnote_to_be_reexecuted": false,
    "deletable": false,
    "editable": false,
    "execution_millis": 11244835,
    "execution_start": 1645186540223,
    "nbgrader": {
     "cell_type": "code",
     "checksum": "3da2ec16bfe781916e71755d65aa2983",
     "grade": true,
     "grade_id": "cell-5d17524043a5abcc",
     "locked": true,
     "points": 5,
     "schema_version": 3,
     "solution": false,
     "task": false
    },
    "source_hash": "28110d30"
   },
   "outputs": [],
   "source": [
    "#### Please do not change this. This cell is used for grading."
   ]
  },
  {
   "cell_type": "code",
   "execution_count": 54,
   "metadata": {
    "cell_id": "00077-eb67834d-52f9-4385-a9cd-0ad481099542",
    "deepnote_cell_height": 81,
    "deepnote_cell_type": "code",
    "deepnote_to_be_reexecuted": false,
    "deletable": false,
    "editable": false,
    "execution_millis": 11244835,
    "execution_start": 1645186540265,
    "nbgrader": {
     "cell_type": "code",
     "checksum": "e7b563d54fa84c20909c0ae107010541",
     "grade": true,
     "grade_id": "cell-ff8e704eda1184e3",
     "locked": true,
     "points": 3,
     "schema_version": 3,
     "solution": false,
     "task": false
    },
    "source_hash": "28110d30"
   },
   "outputs": [],
   "source": [
    "#### Please do not change this. This cell is used for grading."
   ]
  },
  {
   "cell_type": "code",
   "execution_count": 55,
   "metadata": {
    "cell_id": "00078-4c9ec504-f3a1-44c6-b797-e96bf38a6d46",
    "deepnote_cell_height": 81,
    "deepnote_cell_type": "code",
    "deepnote_to_be_reexecuted": false,
    "deletable": false,
    "editable": false,
    "execution_millis": 11244839,
    "execution_start": 1645186540266,
    "nbgrader": {
     "cell_type": "code",
     "checksum": "b013f90974b396630a8831d6f1d7e5f7",
     "grade": true,
     "grade_id": "cell-a52310500a2543cb",
     "locked": true,
     "points": 4,
     "schema_version": 3,
     "solution": false,
     "task": false
    },
    "source_hash": "28110d30"
   },
   "outputs": [],
   "source": [
    "#### Please do not change this. This cell is used for grading."
   ]
  },
  {
   "cell_type": "markdown",
   "metadata": {
    "cell_id": "00079-f0652d37-3014-4fc5-a239-c6d5371c8167",
    "deepnote_cell_height": 127,
    "deepnote_cell_type": "markdown",
    "deletable": false,
    "editable": false,
    "nbgrader": {
     "cell_type": "markdown",
     "checksum": "8fcf67cb7d5e8b26cb9bf1f0aa42c847",
     "grade": false,
     "grade_id": "cell-8b2b412c81d62f2d",
     "locked": true,
     "schema_version": 3,
     "solution": false,
     "task": false
    }
   },
   "source": [
    "\n",
    "---\n",
    "\n",
    "### 3.5. Test Your Functions\n",
    "\n",
    "The widget below allows you to play with the search functions you've written so far. Use this to test your search functions and ensure that they work as expected."
   ]
  },
  {
   "cell_type": "code",
   "execution_count": 56,
   "metadata": {
    "cell_id": "00080-8469bb45-c42f-461c-b1dd-6fcd1ef23d8b",
    "deepnote_cell_height": 693,
    "deepnote_cell_type": "code",
    "deepnote_to_be_reexecuted": false,
    "deletable": false,
    "editable": false,
    "execution_millis": 11244825,
    "execution_start": 1645186540266,
    "lines_to_next_cell": 2,
    "nbgrader": {
     "cell_type": "code",
     "checksum": "dfeb204b390acc0794dbdcac92b0cf2c",
     "grade": false,
     "grade_id": "cell-c9c2bb76354e8d97",
     "locked": true,
     "schema_version": 3,
     "solution": false,
     "task": false
    },
    "source_hash": "ff5eb03a"
   },
   "outputs": [],
   "source": [
    "#### Highlighter function\n",
    "# class for results\n",
    "ResultRow = namedtuple(\"ResultRow\", [\"doc_id\", \"snippet\", \"score\"])\n",
    "# doc_id -> doc\n",
    "docs_by_id = dict((d[0], d[1]) for d in docs)\n",
    "\n",
    "\n",
    "def highlight_text(document, query, tol=17):\n",
    "    import re\n",
    "\n",
    "    tokens = tokenize(query)\n",
    "    regex = \"|\".join(f\"(\\\\b{t}\\\\b)\" for t in tokens)\n",
    "    regex = re.compile(regex, flags=re.IGNORECASE)\n",
    "    output = \"\"\n",
    "    i = 0\n",
    "    for m in regex.finditer(document):\n",
    "        start_idx = max(0, m.start() - tol)\n",
    "        end_idx = min(len(document), m.end() + tol)\n",
    "        output += \"\".join(\n",
    "            [\n",
    "                \"...\",\n",
    "                document[start_idx : m.start()],\n",
    "                \"<strong>\",\n",
    "                document[m.start() : m.end()],\n",
    "                \"</strong>\",\n",
    "                document[m.end() : end_idx],\n",
    "                \"...\",\n",
    "            ]\n",
    "        )\n",
    "    return output.replace(\"\\n\", \" \")\n",
    "\n",
    "\n",
    "def make_results(query, search_fn, index_set):\n",
    "    results = []\n",
    "    for doc_id, score in search_fn(query, index_set):\n",
    "        highlight = highlight_text(docs_by_id[doc_id], query)\n",
    "        if len(highlight.strip()) == 0:\n",
    "            highlight = docs_by_id[doc_id]\n",
    "        results.append(ResultRow(doc_id, highlight, score))\n",
    "    return results\n",
    "\n",
    "\n",
    "####"
   ]
  },
  {
   "cell_type": "code",
   "execution_count": 57,
   "metadata": {
    "cell_id": "00081-0f79ea92-6b27-476d-838a-7353712fe308",
    "deepnote_cell_height": 753,
    "deepnote_cell_type": "code",
    "deepnote_to_be_reexecuted": false,
    "execution_millis": 11244922,
    "execution_start": 1645186540312,
    "source_hash": "52b13204"
   },
   "outputs": [
    {
     "data": {
      "application/vnd.jupyter.widget-view+json": {
       "model_id": "e83163c73b644106a8d94a299449a6ee",
       "version_major": 2,
       "version_minor": 0
      },
      "text/plain": [
       "Text(value='', description='Search Bar')"
      ]
     },
     "metadata": {},
     "output_type": "display_data"
    }
   ],
   "source": [
    "# TODO: Set this to the function you want to test!\n",
    "SEARCH_FN_NAME = \"bm25\"\n",
    "# this function should take in a query (string)\n",
    "# and return a sorted list of (doc_id, score)\n",
    "# with the most relevant document in the first position\n",
    "search_fn_dict = {\n",
    "    \"bow\": bow_search,\n",
    "    \"tfidf\": tfidf_search,\n",
    "    \"naive_ql\": naive_ql_search,\n",
    "    \"ql\": ql_search,\n",
    "    \"bm25\": bm25_search,\n",
    "}\n",
    "\n",
    "search_fn = search_fn_dict[SEARCH_FN_NAME]\n",
    "index_set = 1\n",
    "\n",
    "text = widgets.Text(description=\"Search Bar\", width=200)\n",
    "display(text)\n",
    "\n",
    "\n",
    "def handle_submit(sender):\n",
    "    print(f\"Searching for: '{sender.value}'\")\n",
    "\n",
    "    results = make_results(sender.value, search_fn, index_set)\n",
    "\n",
    "    # display only the top 5\n",
    "    results = results[:5]\n",
    "\n",
    "    body = \"\"\n",
    "    for idx, r in enumerate(results):\n",
    "        body += f\"<li>Document #{r.doc_id}({r.score}): {r.snippet}</li>\"\n",
    "    display(HTML(f\"<ul>{body}</ul>\"))\n",
    "\n",
    "\n",
    "text.on_submit(handle_submit)"
   ]
  },
  {
   "cell_type": "markdown",
   "metadata": {
    "cell_id": "00082-cd38c091-8362-48a6-b6f6-e2c167049828",
    "deepnote_cell_height": 331.140625,
    "deepnote_cell_type": "markdown",
    "deletable": false,
    "editable": false,
    "nbgrader": {
     "cell_type": "markdown",
     "checksum": "019b1ff878dc6339dd068e2d48d19904",
     "grade": false,
     "grade_id": "cell-8d46fe8e4f3d8cdb",
     "locked": true,
     "schema_version": 3,
     "solution": false,
     "task": false
    }
   },
   "source": [
    "---\n",
    "\n",
    "## Section 4: Evaluation (40 points) <a class=\"anchor\" id=\"evaluation\"></a>\n",
    "\n",
    "[Back to Part 1](#part1)\n",
    "\n",
    "In order to analyze the effectiveness of retrieval algorithms, we first have to learn how to evaluate such a system. In particular, we will work with offline evaluation metrics. These metrics are computed on a dataset with known relevance judgements.\n",
    "\n",
    "Implement the following evaluation metrics.\n",
    "\n",
    "1. Precision (7 points)\n",
    "2. Recall (7 points)\n",
    "3. Mean Average Precision (13 points)\n",
    "4. Expected Reciprocal Rank (13 points)"
   ]
  },
  {
   "cell_type": "markdown",
   "metadata": {
    "cell_id": "00083-dfad5784-4ddc-451d-9394-08c63666f402",
    "deepnote_cell_height": 123.796875,
    "deepnote_cell_type": "markdown",
    "deletable": false,
    "editable": false,
    "nbgrader": {
     "cell_type": "markdown",
     "checksum": "e46f54c7f81d88bbc950b0fae14c4ca5",
     "grade": false,
     "grade_id": "cell-3419fd3bc663d7cc",
     "locked": true,
     "schema_version": 3,
     "solution": false,
     "task": false
    }
   },
   "source": [
    "---\n",
    "### 4.1 Read relevance labels\n",
    "\n",
    "Let's take a look at the `qrels.text` file, which contains the ground truth relevance scores. The relevance labels for CACM are binary - either 0 or 1.\n"
   ]
  },
  {
   "cell_type": "code",
   "execution_count": 58,
   "metadata": {
    "cell_id": "00084-1316ed27-3c82-43e0-9359-b9e3a9d64256",
    "deepnote_cell_height": 293.875,
    "deepnote_cell_type": "code",
    "deepnote_to_be_reexecuted": false,
    "deletable": false,
    "editable": false,
    "execution_millis": 380,
    "execution_start": 1645186540313,
    "nbgrader": {
     "cell_type": "code",
     "checksum": "6c11025f5a222796f2882c73c1634799",
     "grade": false,
     "grade_id": "cell-6b738366059dde9e",
     "locked": true,
     "schema_version": 3,
     "solution": false,
     "task": false
    },
    "source_hash": "4ba3f3db"
   },
   "outputs": [
    {
     "name": "stdout",
     "output_type": "stream",
     "text": [
      "01 1410  0 0\n",
      "01 1572  0 0\n",
      "01 1605  0 0\n",
      "01 2020  0 0\n",
      "01 2358  0 0\n",
      "02 2434  0 0\n",
      "02 2863  0 0\n",
      "02 3078  0 0\n",
      "03 1134  0 0\n",
      "03 1613  0 0\n"
     ]
    }
   ],
   "source": [
    "!head ./datasets/qrels.text"
   ]
  },
  {
   "cell_type": "markdown",
   "metadata": {
    "cell_id": "00085-d6878bd5-2637-4397-a653-79961f1e8bde",
    "deepnote_cell_height": 73,
    "deepnote_cell_type": "markdown",
    "deletable": false,
    "editable": false,
    "nbgrader": {
     "cell_type": "markdown",
     "checksum": "7ce95245c1597183320d7254afde5c8e",
     "grade": false,
     "grade_id": "cell-10e16bff2753ffbb",
     "locked": true,
     "schema_version": 3,
     "solution": false,
     "task": false
    }
   },
   "source": [
    "---\n",
    "\n",
    "The first column is the query_id and the second column is the document_id. We can safely ignore the 3rd and 4th columns."
   ]
  },
  {
   "cell_type": "code",
   "execution_count": 59,
   "metadata": {
    "cell_id": "00086-5ab2237b-8b49-4a73-9063-9fc776502761",
    "deepnote_cell_height": 333,
    "deepnote_cell_type": "code",
    "deepnote_to_be_reexecuted": false,
    "deletable": false,
    "execution_millis": 0,
    "execution_start": 1645186540745,
    "nbgrader": {
     "cell_type": "code",
     "checksum": "000c6d59dce08dba0ba1e8d691dbbc2e",
     "grade": false,
     "grade_id": "cell-ee5253a4ef602fce",
     "locked": false,
     "schema_version": 3,
     "solution": true,
     "task": false
    },
    "source_hash": "c9cbc0ff"
   },
   "outputs": [],
   "source": [
    "# https://piazza.com/class/kyiksrdfk0b6te?cid=40_f1\n",
    "def read_qrels(root_folder=\"./datasets/\"):\n",
    "    \"\"\"\n",
    "    Reads the qrels.text file.\n",
    "    Output: A dictionary: query_id -> [list of relevant documents]\n",
    "    \"\"\"\n",
    "    with open(os.path.join(root_folder, \"qrels.text\")) as reader:\n",
    "        lines = reader.readlines()\n",
    "\n",
    "    from collections import defaultdict\n",
    "\n",
    "    relevant_docs = defaultdict(set)\n",
    "    for line in lines:\n",
    "        query_id, doc_id, _, _ = line.split()\n",
    "        relevant_docs[str(int(query_id))].add(doc_id)\n",
    "    return relevant_docs"
   ]
  },
  {
   "cell_type": "code",
   "execution_count": 60,
   "metadata": {
    "cell_id": "00087-b2ca4d34-5c5f-4392-85ed-a178aeee2e30",
    "deepnote_cell_height": 243,
    "deepnote_cell_type": "code",
    "deepnote_to_be_reexecuted": false,
    "deletable": false,
    "editable": false,
    "execution_millis": 59,
    "execution_start": 1645186540746,
    "nbgrader": {
     "cell_type": "code",
     "checksum": "d60caeba85c2a97d2211184a5ae91fd1",
     "grade": false,
     "grade_id": "cell-72215605fbe24f65",
     "locked": true,
     "schema_version": 3,
     "solution": false,
     "task": false
    },
    "source_hash": "23ca292a"
   },
   "outputs": [],
   "source": [
    "#### Function check\n",
    "qrels = read_qrels()\n",
    "\n",
    "assert len(qrels) == 52, \"There should be 52 queries with relevance judgements\"\n",
    "assert (\n",
    "    sum(len(j) for j in qrels.values()) == 796\n",
    "), \"There should be a total of 796 Relevance Judgements\"\n",
    "\n",
    "assert np.min(np.array([len(j) for j in qrels.values()])) == 1\n",
    "assert np.max(np.array([len(j) for j in qrels.values()])) == 51\n",
    "\n",
    "####"
   ]
  },
  {
   "cell_type": "markdown",
   "metadata": {
    "cell_id": "00088-14f1066c-7068-49a9-910c-c81e820e1a63",
    "deepnote_cell_height": 73,
    "deepnote_cell_type": "markdown",
    "deletable": false,
    "editable": false,
    "nbgrader": {
     "cell_type": "markdown",
     "checksum": "6c9e7428a52e291a2cdf92a379730d4c",
     "grade": false,
     "grade_id": "cell-176a6fb2939d0420",
     "locked": true,
     "schema_version": 3,
     "solution": false,
     "task": false
    }
   },
   "source": [
    "---\n",
    "**Note:** For a given query `query_id`, you can assume that documents *not* in `qrels[query_id]` are not relevant to `query_id`.\n"
   ]
  },
  {
   "cell_type": "markdown",
   "metadata": {
    "cell_id": "00089-e42c5a24-37db-4b0f-9db5-56563253fb35",
    "deepnote_cell_height": 101.390625,
    "deepnote_cell_type": "markdown",
    "deletable": false,
    "editable": false,
    "nbgrader": {
     "cell_type": "markdown",
     "checksum": "b26a818c7b4f7ad490e00b35ea0edd69",
     "grade": false,
     "grade_id": "cell-bd8341b72cdd89bb",
     "locked": true,
     "schema_version": 3,
     "solution": false,
     "task": false
    }
   },
   "source": [
    "---\n",
    "### 4.2 Precision (7 points)\n",
    "Implement the `precision@k` metric:"
   ]
  },
  {
   "cell_type": "code",
   "execution_count": 61,
   "metadata": {
    "cell_id": "00090-10b53f18-7e8d-43d4-b563-680628c40545",
    "deepnote_cell_height": 333,
    "deepnote_cell_type": "code",
    "deepnote_to_be_reexecuted": false,
    "deletable": false,
    "execution_millis": 0,
    "execution_start": 1645186540806,
    "nbgrader": {
     "cell_type": "code",
     "checksum": "43dea1979ebdec24ffcfeff71c670433",
     "grade": false,
     "grade_id": "cell-494bd0cce108ed67",
     "locked": false,
     "schema_version": 3,
     "solution": true,
     "task": false
    },
    "source_hash": "b26a2b3c"
   },
   "outputs": [],
   "source": [
    "# TODO: Implement this! (7 points)\n",
    "def precision_k(results, relevant_docs, k):\n",
    "    \"\"\"\n",
    "    Compute Precision@K\n",
    "    Input:\n",
    "        results: A sorted list of 2-tuples (document_id, score),\n",
    "                with the most relevant document in the first position\n",
    "        relevant_docs: A set of relevant documents.\n",
    "        k: the cut-off\n",
    "    Output: Precision@K\n",
    "    \"\"\"\n",
    "    if k > len(results):\n",
    "        k = len(results)\n",
    "    # YOUR CODE HERE\n",
    "    return np.mean([doc_id in relevant_docs for doc_id, _score in results[:k]])"
   ]
  },
  {
   "cell_type": "code",
   "execution_count": 62,
   "metadata": {
    "cell_id": "00091-fa6b1685-64b1-424e-af93-8f763660db0f",
    "deepnote_cell_height": 296.5625,
    "deepnote_cell_type": "code",
    "deepnote_to_be_reexecuted": false,
    "deletable": false,
    "editable": false,
    "execution_millis": 320,
    "execution_start": 1645186540809,
    "nbgrader": {
     "cell_type": "code",
     "checksum": "9222e35582b1840ffb60fd02fb0b60c3",
     "grade": true,
     "grade_id": "cell-e7ff0d91c319ca64",
     "locked": true,
     "points": 7,
     "schema_version": 3,
     "solution": false,
     "task": false
    },
    "source_hash": "1417a891"
   },
   "outputs": [
    {
     "name": "stdout",
     "output_type": "stream",
     "text": [
      "query: What articles exist which deal with TSS (Time Sharing System), an\n",
      "operating system for IBM computers?\n",
      "precision@10 = 0.2\n"
     ]
    }
   ],
   "source": [
    "#### Function check\n",
    "qid = queries[0][0]\n",
    "qtext = queries[0][1]\n",
    "print(f\"query:{qtext}\")\n",
    "results = bm25_search(qtext, 2)\n",
    "precision = precision_k(results, qrels[qid], 10)\n",
    "print(f\"precision@10 = {precision}\")\n",
    "####"
   ]
  },
  {
   "cell_type": "markdown",
   "metadata": {
    "cell_id": "00092-573df961-c83e-4116-af98-2954707eb21e",
    "deepnote_cell_height": 101.390625,
    "deepnote_cell_type": "markdown",
    "deletable": false,
    "editable": false,
    "nbgrader": {
     "cell_type": "markdown",
     "checksum": "8fd3b3998197c7097a40348500affb68",
     "grade": false,
     "grade_id": "cell-afd95f865bc7191e",
     "locked": true,
     "schema_version": 3,
     "solution": false,
     "task": false
    }
   },
   "source": [
    "---\n",
    "### 4.3 Recall (7 points)\n",
    "Implement the `recall@k` metric:"
   ]
  },
  {
   "cell_type": "code",
   "execution_count": 63,
   "metadata": {
    "cell_id": "00093-73affea1-1e53-4344-8a1f-55a1c3a18966",
    "deepnote_cell_height": 495,
    "deepnote_cell_type": "code",
    "deepnote_to_be_reexecuted": false,
    "deletable": false,
    "execution_millis": 1,
    "execution_start": 1645186541031,
    "nbgrader": {
     "cell_type": "code",
     "checksum": "b2020e5741ae03b3fe35817ed8f4ccaa",
     "grade": false,
     "grade_id": "cell-c323fc8c3f8a7cf8",
     "locked": false,
     "schema_version": 3,
     "solution": true,
     "task": false
    },
    "source_hash": "7a605edf"
   },
   "outputs": [],
   "source": [
    "# TODO: Implement this! (7 points)\n",
    "def recall_k(results, relevant_docs, k):\n",
    "    \"\"\"\n",
    "    Compute Recall@K\n",
    "    Input:\n",
    "        results: A sorted list of 2-tuples (document_id, score),\n",
    "            with the most relevant document in the first position\n",
    "        relevant_docs: A set of relevant documents.\n",
    "        k: the cut-off\n",
    "    Output: Recall@K\n",
    "    \"\"\"\n",
    "    # YOUR CODE HERE\n",
    "    tp = 0.0\n",
    "    fn = 0.0\n",
    "    for i, (doc_id, _score) in enumerate(results, 1):\n",
    "        if doc_id in relevant_docs:\n",
    "            if i <= k:\n",
    "                tp += 1\n",
    "            else:\n",
    "                fn += 1\n",
    "    try:\n",
    "        return tp / (tp + fn)\n",
    "    except ZeroDivisionError:\n",
    "        return 0.0"
   ]
  },
  {
   "cell_type": "code",
   "execution_count": 64,
   "metadata": {
    "cell_id": "00094-bf429fa0-2840-4cae-bab1-cb99f0a3d3d3",
    "deepnote_cell_height": 258.375,
    "deepnote_cell_type": "code",
    "deepnote_to_be_reexecuted": false,
    "deletable": false,
    "editable": false,
    "execution_millis": 98,
    "execution_start": 1645186541033,
    "nbgrader": {
     "cell_type": "code",
     "checksum": "56b6e0b8522f8b2dffbfb3206b2efa84",
     "grade": true,
     "grade_id": "cell-b25172161aef165c",
     "locked": true,
     "points": 7,
     "schema_version": 3,
     "solution": false,
     "task": false
    },
    "source_hash": "a5ebd603"
   },
   "outputs": [
    {
     "name": "stdout",
     "output_type": "stream",
     "text": [
      "query: SETL, Very High Level Languages\n",
      "recall@10 = 0.3157894736842105\n"
     ]
    }
   ],
   "source": [
    "#### Function check\n",
    "qid = queries[10][0]\n",
    "qtext = queries[10][1]\n",
    "print(f\"query:{qtext}\")\n",
    "results = bm25_search(qtext, 2)\n",
    "recall = recall_k(results, qrels[qid], 10)\n",
    "print(f\"recall@10 = {recall}\")\n",
    "####"
   ]
  },
  {
   "cell_type": "markdown",
   "metadata": {
    "cell_id": "00095-1445fa1d-3d88-4eb1-9592-5a6cba32701b",
    "deepnote_cell_height": 101.390625,
    "deepnote_cell_type": "markdown",
    "deletable": false,
    "editable": false,
    "nbgrader": {
     "cell_type": "markdown",
     "checksum": "b3d3c7bd1cd977cd07ef5df7d3fbf159",
     "grade": false,
     "grade_id": "cell-77fd2e7a39a74739",
     "locked": true,
     "schema_version": 3,
     "solution": false,
     "task": false
    }
   },
   "source": [
    "---\n",
    "### 4.4 Mean Average Precision (13 points)\n",
    "Implement the `map` metric:"
   ]
  },
  {
   "cell_type": "code",
   "execution_count": 74,
   "metadata": {
    "cell_id": "00096-6935fc09-3410-4008-ab25-df992be775e4",
    "deepnote_cell_height": 387,
    "deepnote_cell_type": "code",
    "deepnote_to_be_reexecuted": false,
    "deletable": false,
    "execution_millis": 1,
    "execution_start": 1645186541058,
    "nbgrader": {
     "cell_type": "code",
     "checksum": "aae2c62f2ffd76f5b6c004e9519b9f14",
     "grade": false,
     "grade_id": "cell-e50925fa9093a30d",
     "locked": false,
     "schema_version": 3,
     "solution": true,
     "task": false
    },
    "source_hash": "9a3733da"
   },
   "outputs": [],
   "source": [
    "# TODO: Implement this! (12 points)\n",
    "def average_precision(results, relevant_docs):\n",
    "    \"\"\"\n",
    "    Compute Average Precision (for a single query - the results are\n",
    "    averaged across queries to get MAP in the next few cells)\n",
    "    Hint: You can use the recall_k and precision_k functions here!\n",
    "    Input:\n",
    "        results: A sorted list of 2-tuples (document_id, score), with the most\n",
    "                relevant document in the first position\n",
    "        relevant_docs: A set of relevant documents.\n",
    "    Output: Average Precision\n",
    "    \"\"\"\n",
    "    # YOUR CODE HERE\n",
    "    \n",
    "#     relevances = np.array(\n",
    "#         [doc_id in relevant_docs for doc_id, _score in results]\n",
    "#     ).astype(np.float_)\n",
    "    \n",
    "#     last_relevance = np.argmax(relevances[::-1]) + 1\n",
    "#     # dont need to check beyond last relevance\n",
    "#     # results = results[:-last_relevance+1]\n",
    "        \n",
    "    precisions = []\n",
    "    N = len(results)\n",
    "    for n, (doc_id, _score) in enumerate(results, 1):\n",
    "        if doc_id in relevant_docs:\n",
    "            precisions.append(precision_k(results, relevant_docs, n))\n",
    "            \n",
    "    print(precisions)\n",
    "    return np.mean(precisions)\n",
    "    # precisions = np.array(\n",
    "    #     [precision_k(results, relevant_docs, n) for n in range(1, N + 1)]\n",
    "    # )\n",
    "    # print(precisions)\n",
    "    # relevances = relevances[:-last_relevance+1]\n",
    "    # # last_precision = np\n",
    "    # ave_p = np.sum((precisions * relevances)) / len(relevant_docs)\n",
    "    # return ave_p"
   ]
  },
  {
   "cell_type": "code",
   "execution_count": 75,
   "metadata": {
    "cell_id": "00097-d194398d-53a0-4cd3-a940-4d78e7ce289a",
    "deepnote_cell_height": 278.5625,
    "deepnote_cell_type": "code",
    "deepnote_to_be_reexecuted": false,
    "deletable": false,
    "editable": false,
    "execution_millis": 1266,
    "execution_start": 1645186541145,
    "nbgrader": {
     "cell_type": "code",
     "checksum": "3b00e147c2fa146fa59f179b7c9cab75",
     "grade": true,
     "grade_id": "cell-8a1f7ec98571e58b",
     "locked": true,
     "points": 13,
     "schema_version": 3,
     "solution": false,
     "task": false
    },
    "source_hash": "501861e7"
   },
   "outputs": [
    {
     "name": "stdout",
     "output_type": "stream",
     "text": [
      "query: computational complexity, intractability, class-complete reductions,\n",
      "algorithms and efficiency\n",
      "[0.25, 0.4, 0.23076923076923078, 0.2857142857142857, 0.16129032258064516, 0.13636363636363635, 0.1320754716981132, 0.12698412698412698, 0.11688311688311688, 0.03436426116838488, 0.022]\n",
      "MAP = 0.1724040411055945\n"
     ]
    }
   ],
   "source": [
    "#### Function check\n",
    "qid = queries[20][0]\n",
    "qtext = queries[20][1]\n",
    "print(f\"query:{qtext}\")\n",
    "results = bm25_search(qtext, 2)\n",
    "mean_ap = average_precision(results, qrels[qid])\n",
    "print(f\"MAP = {mean_ap}\")\n",
    "####"
   ]
  },
  {
   "cell_type": "markdown",
   "metadata": {
    "cell_id": "00098-ff07922a-b997-4d0a-b0b2-16a258d55e09",
    "deepnote_cell_height": 101.390625,
    "deepnote_cell_type": "markdown",
    "deletable": false,
    "editable": false,
    "nbgrader": {
     "cell_type": "markdown",
     "checksum": "36f85f45ef52d9467ba9a717d6d99ff2",
     "grade": false,
     "grade_id": "cell-1da18f0fe6f6d7be",
     "locked": true,
     "schema_version": 3,
     "solution": false,
     "task": false
    }
   },
   "source": [
    "---\n",
    "### 4.5 Expected Reciprocal Rank (13 points)\n",
    "Implement the `err` metric:"
   ]
  },
  {
   "cell_type": "code",
   "execution_count": 66,
   "metadata": {
    "cell_id": "00099-6f85eb2c-52dd-4893-9795-701a871bbb68",
    "deepnote_cell_height": 459,
    "deepnote_cell_type": "code",
    "deepnote_to_be_reexecuted": false,
    "deletable": false,
    "execution_millis": 39,
    "execution_start": 1645186542452,
    "nbgrader": {
     "cell_type": "code",
     "checksum": "9ac94db728e23ea1f5dc0d509473c6fb",
     "grade": false,
     "grade_id": "cell-64262889f9b267ea",
     "locked": false,
     "schema_version": 3,
     "solution": true,
     "task": false
    },
    "source_hash": "337046c"
   },
   "outputs": [],
   "source": [
    "# TODO: Implement this! (12 points)\n",
    "def err(results, relevant_docs):\n",
    "    \"\"\"\n",
    "    Compute the expected reciprocal rank.\n",
    "    Hint: https://dl.acm.org/doi/pdf/10.1145/1645953.1646033?download=true\n",
    "    Input:\n",
    "        results: A sorted list of 2-tuples (document_id, score), with the most\n",
    "            relevant document in the first position\n",
    "        relevant_docs: A set of relevant documents.\n",
    "    Output: ERR (float)\n",
    "\n",
    "    \"\"\"\n",
    "    # YOUR CODE HERE\n",
    "    exp_rec_rank = 0\n",
    "    p = 1\n",
    "    for rank, (doc_id, score) in enumerate(results, 1):\n",
    "        grade = 1 if doc_id in relevant_docs else 0\n",
    "        relevance_prob = (2**grade - 1) / 2\n",
    "        exp_rec_rank += p * (relevance_prob / rank)\n",
    "        p *= 1 - relevance_prob\n",
    "    return exp_rec_rank"
   ]
  },
  {
   "cell_type": "code",
   "execution_count": 67,
   "metadata": {
    "cell_id": "00100-d301d6c2-210d-4182-8817-b2c392d7d10e",
    "deepnote_cell_height": 359.3125,
    "deepnote_cell_type": "code",
    "deepnote_to_be_reexecuted": false,
    "deletable": false,
    "editable": false,
    "execution_millis": 223,
    "execution_start": 1645186542501,
    "nbgrader": {
     "cell_type": "code",
     "checksum": "b7d201de0990b69d5f38704668665d87",
     "grade": true,
     "grade_id": "cell-071e3970ff1afae4",
     "locked": true,
     "points": 13,
     "schema_version": 3,
     "solution": false,
     "task": false
    },
    "source_hash": "c244fd0a"
   },
   "outputs": [
    {
     "name": "stdout",
     "output_type": "stream",
     "text": [
      "qPuery: I'd like to find articles describing the use of singular value decomposition\n",
      "in digital image processing.  Applications include finding approximations\n",
      "to the original image and restoring images that are subject to noise. An\n",
      "article on the subject is H.C. Andrews and C.L. Patterson \"Outer product\n",
      "expansions and their uses in digital image processing\", American Mathematical\n",
      "Monthly, vol. 82.\n",
      "ERR = 0.625\n"
     ]
    }
   ],
   "source": [
    "#### Function check\n",
    "qid = queries[30][0]\n",
    "qtext = queries[30][1]\n",
    "print(f\"qPuery:{qtext}\")\n",
    "results = bm25_search(qtext, 2)\n",
    "ERR = err(results, qrels[qid])\n",
    "print(f\"ERR = {ERR}\")\n",
    "####"
   ]
  },
  {
   "cell_type": "markdown",
   "metadata": {
    "cell_id": "00101-5c45197a-8f43-4e13-b24d-0ef1ad533eef",
    "deepnote_cell_height": 101.390625,
    "deepnote_cell_type": "markdown",
    "deletable": false,
    "editable": false,
    "nbgrader": {
     "cell_type": "markdown",
     "checksum": "5bd94caf77cfa5f34675df758d91002d",
     "grade": false,
     "grade_id": "cell-43709a765f353946",
     "locked": true,
     "schema_version": 3,
     "solution": false,
     "task": false
    }
   },
   "source": [
    "---\n",
    "### 4.6 Evaluate Search Functions\n",
    "\n",
    "Let's define some metrics@k using [partial functions](https://docs.python.org/3/library/functools.html#functools.partial)"
   ]
  },
  {
   "cell_type": "code",
   "execution_count": 68,
   "metadata": {
    "cell_id": "00102-442bc886-57e2-4c21-b7ad-b01e86ff2f2b",
    "deepnote_cell_height": 423,
    "deepnote_cell_type": "code",
    "deepnote_to_be_reexecuted": false,
    "deletable": false,
    "editable": false,
    "execution_millis": 1,
    "execution_start": 1645186542781,
    "nbgrader": {
     "cell_type": "code",
     "checksum": "49ccc158e5fb7340ace55e90eeb9d62a",
     "grade": false,
     "grade_id": "cell-dab560e18e340da8",
     "locked": true,
     "schema_version": 3,
     "solution": false,
     "task": false
    },
    "source_hash": "984c969a"
   },
   "outputs": [],
   "source": [
    "#### metrics@k functions\n",
    "\n",
    "recall_at_1 = partial(recall_k, k=1)\n",
    "recall_at_5 = partial(recall_k, k=5)\n",
    "recall_at_10 = partial(recall_k, k=10)\n",
    "precision_at_1 = partial(precision_k, k=1)\n",
    "precision_at_5 = partial(precision_k, k=5)\n",
    "precision_at_10 = partial(precision_k, k=10)\n",
    "\n",
    "\n",
    "list_of_metrics = [\n",
    "    (\"ERR\", err),\n",
    "    (\"MAP\", average_precision),\n",
    "    (\"Recall@1\", recall_at_1),\n",
    "    (\"Recall@5\", recall_at_5),\n",
    "    (\"Recall@10\", recall_at_10),\n",
    "    (\"Precision@1\", precision_at_1),\n",
    "    (\"Precision@5\", precision_at_5),\n",
    "    (\"Precision@10\", precision_at_10),\n",
    "]"
   ]
  },
  {
   "cell_type": "markdown",
   "metadata": {
    "cell_id": "00103-62e2b5c1-7f8b-4b73-8459-45dac6ed6b05",
    "deepnote_cell_height": 91,
    "deepnote_cell_type": "markdown",
    "deletable": false,
    "editable": false,
    "nbgrader": {
     "cell_type": "markdown",
     "checksum": "fb541002c03221b453b8936290020ea5",
     "grade": false,
     "grade_id": "cell-580a2bdc66d03b47",
     "locked": true,
     "schema_version": 3,
     "solution": false,
     "task": false
    }
   },
   "source": [
    "---\n",
    "\n",
    "The following function evaluates a `search_fn` using the `metric_fn`. Note that the final number is averaged over all the queries"
   ]
  },
  {
   "cell_type": "code",
   "execution_count": 69,
   "metadata": {
    "cell_id": "00104-cc282062-26b4-45c1-8dfa-9b8ca0fc9ed5",
    "deepnote_cell_height": 783,
    "deepnote_cell_type": "code",
    "deepnote_to_be_reexecuted": false,
    "execution_millis": 1,
    "execution_start": 1645186542825,
    "lines_to_next_cell": 2,
    "source_hash": "647a95c2"
   },
   "outputs": [],
   "source": [
    "#### Evaluate a search function\n",
    "\n",
    "list_of_search_fns = [\n",
    "    (\"BOW\", bow_search),\n",
    "    (\"TF-IDF\", tfidf_search),\n",
    "    (\"NaiveQL\", naive_ql_search),\n",
    "    (\"QL\", ql_search),\n",
    "    (\"BM25\", bm25_search),\n",
    "]\n",
    "\n",
    "\n",
    "def evaluate_search_fn(search_fn, metric_fns, index_set=None):\n",
    "    # build a dict query_id -> query\n",
    "    queries_by_id = dict((q[0], q[1]) for q in queries)\n",
    "\n",
    "    metrics = {}\n",
    "    for metric, metric_fn in metric_fns:\n",
    "        metrics[metric] = np.zeros(len(qrels), dtype=np.float32)\n",
    "\n",
    "    # original version\n",
    "    for i, (query_id, relevant_docs) in enumerate(qrels.items()):\n",
    "        query = queries_by_id[query_id]\n",
    "        if index_set:\n",
    "            results = search_fn(query, index_set)\n",
    "        else:\n",
    "            results = search_fn(query)\n",
    "\n",
    "        for metric, metric_fn in metric_fns:\n",
    "            metrics[metric][i] = metric_fn(results, relevant_docs)\n",
    "\n",
    "    final_dict = {}\n",
    "    for metric, metric_vals in metrics.items():\n",
    "        final_dict[metric] = metric_vals.mean()\n",
    "\n",
    "    # fast version for debugging plot\n",
    "    # final_dict = {}\n",
    "    # for metric, metric_vals in metrics.items():\n",
    "    #     final_dict[metric] = metric_vals.mean() + 0.5\n",
    "\n",
    "    return final_dict\n",
    "\n",
    "\n",
    "####"
   ]
  },
  {
   "cell_type": "markdown",
   "metadata": {
    "cell_id": "00105-ba71254a-76a2-4a05-a0a0-148bcf0d753f",
    "deepnote_cell_height": 411.59375,
    "deepnote_cell_type": "markdown",
    "deletable": false,
    "editable": false,
    "nbgrader": {
     "cell_type": "markdown",
     "checksum": "6ea67534f74a8f81e1f504794f641709",
     "grade": false,
     "grade_id": "cell-b156d83a0649cbb4",
     "locked": true,
     "schema_version": 3,
     "solution": false,
     "task": false
    }
   },
   "source": [
    "## Section 5: Analysis (30 points) <a class=\"anchor\" id=\"analysis\"></a>\n",
    "\n",
    "[Back to Part 1](#part1)\n",
    "\n",
    "In the final section of Part1, we will compare the different term-based IR algorithms and different preprocessing configurations and analyze their advantages and disadvantages.\n",
    "\n",
    "### Section 5.1: Plot (20 points)\n",
    "\n",
    "First, gather the results. The results should consider the index set, the different search functions and different metrics. Plot the results in bar charts, per metric, with clear labels.\n",
    "\n",
    "**Rubric:**\n",
    "- Each Metric is plotted: 7 points\n",
    "- Each Method is plotted: 7 points\n",
    "- Clear titles, x label, y labels and legends (if applicable): 6 points"
   ]
  },
  {
   "cell_type": "code",
   "execution_count": 70,
   "metadata": {
    "cell_id": "00106-7e245371-4141-4e15-a142-53d98c682cb7",
    "deepnote_cell_height": 729,
    "deepnote_cell_type": "code",
    "deepnote_output_heights": [
     470.984375
    ],
    "deepnote_to_be_reexecuted": false,
    "deletable": false,
    "execution_millis": 0,
    "execution_start": 1645186542869,
    "nbgrader": {
     "cell_type": "code",
     "checksum": "7e2588a925d13ddf588abe8311dc9cfc",
     "grade": true,
     "grade_id": "cell-46fda42a25863a04",
     "locked": false,
     "points": 20,
     "schema_version": 3,
     "solution": true,
     "task": false
    },
    "source_hash": "1e18f015"
   },
   "outputs": [
    {
     "name": "stdout",
     "output_type": "stream",
     "text": [
      "\n",
      "index set 1:\n",
      "\tBOW\n",
      "{'ERR': 0.055224963,\n",
      " 'MAP': 0.03090453,\n",
      " 'Precision@1': 0.03846154,\n",
      " 'Precision@10': 0.028846154,\n",
      " 'Precision@5': 0.034615386,\n",
      " 'Recall@1': 0.0030982906,\n",
      " 'Recall@10': 0.046087656,\n",
      " 'Recall@5': 0.037126765}\n",
      "\tTF-IDF\n",
      "{'ERR': 0.30517504,\n",
      " 'MAP': 0.17810398,\n",
      " 'Precision@1': 0.3846154,\n",
      " 'Precision@10': 0.17500001,\n",
      " 'Precision@5': 0.21153846,\n",
      " 'Recall@1': 0.07476607,\n",
      " 'Recall@10': 0.22000195,\n",
      " 'Recall@5': 0.1473746}\n",
      "\tNaiveQL\n",
      "{'ERR': 0.0044010687,\n",
      " 'MAP': 0.003894056,\n",
      " 'Precision@1': 0.0,\n",
      " 'Precision@10': 0.0019230769,\n",
      " 'Precision@5': 0.0,\n",
      " 'Recall@1': 0.0,\n",
      " 'Recall@10': 0.0048076925,\n",
      " 'Recall@5': 0.0}\n",
      "\tQL\n",
      "{'ERR': 0.30951288,\n",
      " 'MAP': 0.16616207,\n",
      " 'Precision@1': 0.34615386,\n",
      " 'Precision@10': 0.19423078,\n",
      " 'Precision@5': 0.25384614,\n",
      " 'Recall@1': 0.046651527,\n",
      " 'Recall@10': 0.21684042,\n",
      " 'Recall@5': 0.17031717}\n",
      "\tBM25\n",
      "{'ERR': 0.37286478,\n",
      " 'MAP': 0.22088145,\n",
      " 'Precision@1': 0.44230768,\n",
      " 'Precision@10': 0.24038464,\n",
      " 'Precision@5': 0.2846154,\n",
      " 'Recall@1': 0.066907376,\n",
      " 'Recall@10': 0.30646548,\n",
      " 'Recall@5': 0.20312355}\n",
      "\n",
      "index set 2:\n",
      "\tBOW\n",
      "{'ERR': 0.11996831,\n",
      " 'MAP': 0.0657566,\n",
      " 'Precision@1': 0.07692308,\n",
      " 'Precision@10': 0.07307692,\n",
      " 'Precision@5': 0.080769226,\n",
      " 'Recall@1': 0.010193701,\n",
      " 'Recall@10': 0.08793031,\n",
      " 'Recall@5': 0.048788056}\n",
      "\tTF-IDF\n",
      "{'ERR': 0.4148428,\n",
      " 'MAP': 0.25480694,\n",
      " 'Precision@1': 0.53846157,\n",
      " 'Precision@10': 0.25,\n",
      " 'Precision@5': 0.33846155,\n",
      " 'Recall@1': 0.10014636,\n",
      " 'Recall@10': 0.29629084,\n",
      " 'Recall@5': 0.23532662}\n",
      "\tNaiveQL\n",
      "{'ERR': 0.005519868,\n",
      " 'MAP': 0.0031991447,\n",
      " 'Precision@1': 0.0,\n",
      " 'Precision@10': 0.0,\n",
      " 'Precision@5': 0.0,\n",
      " 'Recall@1': 0.0,\n",
      " 'Recall@10': 0.0,\n",
      " 'Recall@5': 0.0}\n",
      "\tQL\n",
      "{'ERR': 0.40624025,\n",
      " 'MAP': 0.24890317,\n",
      " 'Precision@1': 0.5192308,\n",
      " 'Precision@10': 0.29807693,\n",
      " 'Precision@5': 0.3692308,\n",
      " 'Recall@1': 0.07068591,\n",
      " 'Recall@10': 0.3002048,\n",
      " 'Recall@5': 0.21136688}\n",
      "\tBM25\n",
      "{'ERR': 0.426171,\n",
      " 'MAP': 0.3003765,\n",
      " 'Precision@1': 0.5192308,\n",
      " 'Precision@10': 0.31923077,\n",
      " 'Precision@5': 0.40384614,\n",
      " 'Recall@1': 0.110182874,\n",
      " 'Recall@10': 0.34614927,\n",
      " 'Recall@5': 0.25962994}\n"
     ]
    },
    {
     "data": {
      "image/png": "[encoded data removed]",
      "text/plain": [
       "<Figure size 1008x504 with 8 Axes>"
      ]
     },
     "metadata": {
      "needs_background": "light"
     },
     "output_type": "display_data"
    }
   ],
   "source": [
    "from pprint import pprint\n",
    "# YOUR CODE HERE\n",
    "# takes roughly 5 mins to run\n",
    "fig, axes = plt.subplots(2, 4, figsize=(14, 7), sharey=True)\n",
    "axes = axes.flatten()\n",
    "\n",
    "# need this to make side by side bars\n",
    "N = len(list_of_search_fns)\n",
    "method_loc = np.arange(N)\n",
    "bar_width = 0.25\n",
    "\n",
    "for j, (index_set) in enumerate([1, 2]):\n",
    "    print(f\"\\nindex set {index_set}:\")\n",
    "    results = {}\n",
    "\n",
    "    for search_alg, search_fn in list_of_search_fns:\n",
    "        results[search_alg] = evaluate_search_fn(\n",
    "            search_fn, list_of_metrics, index_set=index_set\n",
    "        )\n",
    "        print(f\"\\t{search_alg}\")\n",
    "        pprint(results[search_alg])\n",
    "\n",
    "    for i, (metric_name, _metric_fn) in enumerate(list_of_metrics):\n",
    "        metric_results = {k: v[metric_name] for k, v in results.items()}\n",
    "        # print(f\"\\t{metric_name}\")\n",
    "        labels = list(metric_results.keys())\n",
    "        values = [metric_results[label] for label in labels]\n",
    "\n",
    "        # for label, value in metric_results.items():\n",
    "        #     print(f\"\\t\\t{label}: {value}\")\n",
    "\n",
    "        axes[i].grid(True, which=\"major\", axis=\"y\", alpha=0.35)\n",
    "        if i % 4 == 0:\n",
    "            axes[i].set_ylabel(\"Average Metric Value\")\n",
    "        if j == 0:\n",
    "            axes[i].bar(method_loc, values, bar_width, label=f\"index set {index_set}\")\n",
    "        else:\n",
    "            axes[i].bar(\n",
    "                method_loc + bar_width,\n",
    "                values,\n",
    "                bar_width,\n",
    "                label=f\"index set {index_set}\",\n",
    "            )\n",
    "            axes[i].set_xticks(method_loc + bar_width / 2)\n",
    "            axes[i].set_xticklabels(labels)\n",
    "            axes[i].set_title(metric_name)\n",
    "            if i == 7:\n",
    "                axes[i].legend()\n",
    "\n",
    "fig.suptitle(\"Comparison of different term-based IR algorithms across various Metrics\")\n",
    "fig.tight_layout(rect=[0, 0.03, 1, 0.95])\n",
    "plt.show()"
   ]
  },
  {
   "cell_type": "markdown",
   "metadata": {
    "cell_id": "00107-1573dd7e-069e-42e6-9991-2e09c5ca522c",
    "deepnote_cell_height": 146.140625,
    "deepnote_cell_type": "markdown",
    "deletable": false,
    "editable": false,
    "nbgrader": {
     "cell_type": "markdown",
     "checksum": "e88c444a0acf4e398c65e289169b75f7",
     "grade": false,
     "grade_id": "cell-8aabe3bcf265deb0",
     "locked": true,
     "points": 10,
     "schema_version": 3,
     "solution": false,
     "task": true
    }
   },
   "source": [
    "---\n",
    "### Section 5.2: Summary (10 points)\n",
    "Write a summary of what you observe in the results.\n",
    "Your summary should compare results across the 2 indices and the methods being used. State what you expected to see in the results, followed by either supporting evidence *or* justify why the results did not support your expectations."
   ]
  },
  {
   "cell_type": "markdown",
   "metadata": {
    "cell_id": "00108-6173a881-f376-4ab8-afa5-feefc85830a5",
    "deepnote_cell_height": 52.390625,
    "deepnote_cell_type": "markdown"
   },
   "source": [
    "1. Regardless of the algorithm used results are universally better across all\n",
    "   the metrics when using preprocessing - in particular stemming and stop-word\n",
    "   removal. This is in line with expectations based on large body of existing\n",
    "   literature in the field of Information retrieval.\n",
    "2. BOW performs much worse than expected. Intuitively while not a great method\n",
    "   word count for each token in the query should indicate relative importance of\n",
    "   terms in a document. We demonstrate empirically, however, that token count\n",
    "   alone is a very poor predictor of a document's relevance to a query.\n",
    "3. The NaiveQL model does not work because of the naive unigram language model\n",
    "   assumption - it's unlikely that any single document would contain all query\n",
    "   terms and therefore the probability for most documents given a search query\n",
    "   will be zero resulting in a random subset of documents being returned for\n",
    "   each query.\n",
    "4. The QL model solves the 0 probability issues of the naïve model and in fact\n",
    "   comes close to being the best performing model which confirms that a\n",
    "   probabilistic approach based on likelihood works well.\n",
    "5. TODO explain why BM25 performs best or is close to being the best for all\n",
    "   metrics.\n",
    "6. TODO maybe finally we can compare TF-IDF, QL, BM25 across the different\n",
    "   metrics and highlight which ones are better given different scenarios. Also\n",
    "   which ones are better when we're not using preprocessing.\n",
    "\n",
    "## Notes Giulio\n",
    "\n",
    "- \"This is in line with expectations based on large body of existing literature\n",
    "  in the field of Information retrieval.\"\n",
    "  - i think we should also try to justify it in our words, for e.g. stemming\n",
    "    collapses index size, or stop-word removal allows models to \"focus\" on more\n",
    "    relevant words, or something else.\n",
    "- I think in our discussion we should also speak about what methods do better in\n",
    "  precision or in recall at different k's, as this is relevant to the type of\n",
    "  information retrieval one is after -- remember we had some discussion about\n",
    "  this in one of the lectures so I imagine they're expecting some discussion\n",
    "  about this here."
   ]
  },
  {
   "cell_type": "markdown",
   "metadata": {
    "cell_id": "00109-6235ead6-3d31-4a02-b36d-704dfc8e6efb",
    "deepnote_cell_height": 679.140625,
    "deepnote_cell_type": "markdown",
    "deletable": false,
    "editable": false,
    "nbgrader": {
     "cell_type": "markdown",
     "checksum": "b3eb77be74eecca205fc7b47316d1627",
     "grade": false,
     "grade_id": "cell-bb60dd5c092d0f2e",
     "locked": true,
     "schema_version": 3,
     "solution": false,
     "task": false
    }
   },
   "source": [
    "---\n",
    "---\n",
    "# Part 2: Semantic-based Matching (85 points) <a class=\"anchor\" id=\"part2\"></a>\n",
    "\n",
    "[Back to top](#top)\n",
    "\n",
    "We will now experiment with methods that go beyond lexical methods like TF-IDF, which operate at the word level and are high dimensional and sparse, and look at methods which constructs low dimensional dense representations of queries and documents.\n",
    "\n",
    "Since these low-dimensional methods have a higher time complexity, they are typically used in conjunction with methods like BM-25. That is, instead of searching through potentially million documents to find matches using low dimensional vectors, a list of K documents are retrieved using BM25, and then **re-ranked** using the other method. This is the method that is going to be applied in the following exercises.\n",
    "\n",
    "LSI/LDA takes documents that are similar on a semantic level - for instance, if they are describing the same topic - and projects them into nearby vectors, despite having low lexical overlap.\n",
    "\n",
    "In this assignment, you will use `gensim` to create LSI/LDA models and use them in re-ranking.\n",
    "\n",
    "**Note**: The following exercises only uses `doc_repr_2` and `config_2`\n",
    "\n",
    "Table of contents:\n",
    "- [Section 6: LSI](#lsi) (15 points)\n",
    "- [Section 7: LDA](#lda) (10 points)\n",
    "- [Section 8: Word2Vec/Doc2Vec](#2vec) (20 points)\n",
    "- [Section 8: Re-ranking](#reranking) (10 points)\n",
    "- [Section 9: Re-ranking Evaluation](#reranking_eval) (30 points)"
   ]
  },
  {
   "cell_type": "markdown",
   "metadata": {
    "cell_id": "00110-5bcb1bc8-cec9-41c8-af84-5814c41bcace",
    "deepnote_cell_height": 204.59375,
    "deepnote_cell_type": "markdown",
    "deletable": false,
    "editable": false,
    "nbgrader": {
     "cell_type": "markdown",
     "checksum": "f7c7b2cab82f576ed0acf836ca57171c",
     "grade": false,
     "grade_id": "cell-6b2c81e7a8abd180",
     "locked": true,
     "schema_version": 3,
     "solution": false,
     "task": false
    }
   },
   "source": [
    "---\n",
    "## Section 6: Latent Semantic Indexing (LSI) (15 points) <a class=\"anchor\" id=\"lsi\"></a>\n",
    "\n",
    "[Back to Part 2](#part2)\n",
    "\n",
    "LSI is one of the methods to embed the queries and documents into vectors. It is based on a method similar to Principal Component Analysis (PCA) for obtaining a dense concept matrix out of the sparse term-document matrix.\n",
    "\n",
    "See [wikipedia](https://en.wikipedia.org/wiki/Latent_semantic_analysis), particularly [#Mathematics_of_LSI](https://en.wikipedia.org/wiki/Latent_semantic_analysis#Mathematics_of_LSI)."
   ]
  },
  {
   "cell_type": "code",
   "execution_count": 71,
   "metadata": {
    "cell_id": "00111-09fa8f16-3577-43a0-902e-8a9dffdf4d2a",
    "deepnote_cell_height": 189,
    "deepnote_cell_type": "code",
    "deepnote_to_be_reexecuted": false,
    "deletable": false,
    "editable": false,
    "execution_millis": 735,
    "execution_start": 1645186542920,
    "nbgrader": {
     "cell_type": "code",
     "checksum": "c17ee75319cb517e2bf48ec3d9efc329",
     "grade": false,
     "grade_id": "cell-59913daee47f680d",
     "locked": true,
     "schema_version": 3,
     "solution": false,
     "task": false
    },
    "source_hash": "a97e055a"
   },
   "outputs": [],
   "source": [
    "from gensim.corpora import Dictionary\n",
    "from gensim.models import LdaModel, LsiModel, Word2Vec\n",
    "from gensim.models.doc2vec import Doc2Vec, TaggedDocument\n",
    "from gensim import downloader as g_downloader\n",
    "\n",
    "# gensim uses logging, so set it up\n",
    "import logging\n",
    "\n",
    "logging.basicConfig(\n",
    "    format=\"%(asctime)s : %(levelname)s : %(message)s\", level=logging.INFO\n",
    ")"
   ]
  },
  {
   "cell_type": "markdown",
   "metadata": {
    "cell_id": "00112-b7a2dfe3-d382-44dd-a7a6-e2f4a6feee5c",
    "deepnote_cell_height": 235.875,
    "deepnote_cell_type": "markdown",
    "deletable": false,
    "editable": false,
    "nbgrader": {
     "cell_type": "markdown",
     "checksum": "5fce140c546759b54a9fc060901ae77c",
     "grade": false,
     "grade_id": "cell-3644faff4976598a",
     "locked": true,
     "schema_version": 3,
     "solution": false,
     "task": false
    }
   },
   "source": [
    "---\n",
    "### Section 6.1: Cosine Similarity (5 points)<a class=\"anchor\" id=\"cosing_sim\"></a>\n",
    "Before we begin, let us first define our method of similarity for the LSI model, the cosine similarity:\n",
    "\n",
    "$$\\text{similarity} = \\cos(\\theta) = {\\mathbf{A} \\cdot \\mathbf{B} \\over \\|\\mathbf{A}\\| \\|\\mathbf{B}\\|} = \\frac{ \\sum\\limits_{i=1}^{n}{A_i  B_i} }{ \\sqrt{\\sum\\limits_{i=1}^{n}{A_i^2}}  \\sqrt{\\sum\\limits_{i=1}^{n}{B_i^2}} }$$\n",
    "\n",
    "Since we are using gensim, the types of vectors returned by their classes are of the form defined below (they are not just simple vectors):"
   ]
  },
  {
   "cell_type": "code",
   "execution_count": 72,
   "metadata": {
    "cell_id": "00113-b48d2608-3784-4f64-9344-fe76553f9aaf",
    "deepnote_cell_height": 135,
    "deepnote_cell_type": "code",
    "deepnote_to_be_reexecuted": false,
    "deletable": false,
    "editable": false,
    "execution_millis": 16,
    "execution_start": 1645186543665,
    "nbgrader": {
     "cell_type": "code",
     "checksum": "4e340e1a1d546f430c018fd0760e707a",
     "grade": false,
     "grade_id": "cell-3995a50f951314d5",
     "locked": true,
     "schema_version": 3,
     "solution": false,
     "task": false
    },
    "source_hash": "214da9c9"
   },
   "outputs": [],
   "source": [
    "# 1, 2, 3 are either latent dimensions (LSI), or topics (LDA)\n",
    "# The second value in each tuple is a number (LSI) or a probability (LDA)\n",
    "example_vec_1 = [(1, 0.2), (2, 0.3), (3, 0.4)]\n",
    "example_vec_2 = [(1, 0.2), (2, 0.7), (3, 0.4)]"
   ]
  },
  {
   "cell_type": "markdown",
   "metadata": {
    "cell_id": "00114-5b3ead96-66da-40ac-9080-3669fc2631f3",
    "deepnote_cell_height": 75.796875,
    "deepnote_cell_type": "markdown",
    "deletable": false,
    "editable": false,
    "nbgrader": {
     "cell_type": "markdown",
     "checksum": "20832fd4f579f49ae204b0efee02edd1",
     "grade": false,
     "grade_id": "cell-5e54d581858dc8f7",
     "locked": true,
     "schema_version": 3,
     "solution": false,
     "task": false
    }
   },
   "source": [
    "---\n",
    "**Implementation (2+3 points):**\n",
    "Now, implement the `dot product` operation on these types of vectors and using this operator, implement the `cosine similarity` (don't forget: two functions to implement!):"
   ]
  },
  {
   "cell_type": "code",
   "execution_count": 73,
   "metadata": {
    "cell_id": "00115-d8dc29b5-3912-471e-90a3-6a9db763c917",
    "deepnote_cell_height": 531,
    "deepnote_cell_type": "code",
    "deepnote_to_be_reexecuted": false,
    "deletable": false,
    "execution_millis": 10,
    "execution_start": 1645186543706,
    "nbgrader": {
     "cell_type": "code",
     "checksum": "06a712ee75fc213a21c5f0067fd8fe28",
     "grade": false,
     "grade_id": "cell-0e8189f5f93de33f",
     "locked": false,
     "schema_version": 3,
     "solution": true,
     "task": false
    },
    "source_hash": "f02e6495"
   },
   "outputs": [],
   "source": [
    "# TODO: Implement this! (2 points)\n",
    "def dot(vec_1, vec_2):\n",
    "    \"\"\"\n",
    "    vec_1 and vec_2 are of the form: [(int, float), (int, float), ...]\n",
    "    Return the dot product of two such vectors, computed only on the floats\n",
    "    You can assume that the lengths of the vectors are the same, and the dimensions are aligned\n",
    "        i.e you won't get: vec_1 = [(1, 0.2)] ; vec_2 = [(2, 0.3)]\n",
    "                            (dimensions are unaligned and lengths are different)\n",
    "    \"\"\"\n",
    "    # YOUR CODE HERE\n",
    "    return np.dot([x[1] for x in vec_1], [y[1] for y in vec_2])\n",
    "\n",
    "\n",
    "# TODO: Implement this! (3 points)\n",
    "def cosine_sim(vec_1, vec_2):\n",
    "\n",
    "    # YOUR CODE HERE\n",
    "    # check for empty or 0-vectored vectors\n",
    "    if np.all([el == 0 for dim, el in vec_1]) or np.all([el == 0 for dim, el in vec_2]):\n",
    "        return 0\n",
    "    \n",
    "    # # Adding a custom function to compute the modulus\n",
    "    def mod(\n",
    "        vec,\n",
    "    ):\n",
    "        # Note: This still assumes that the vector is in the form :\n",
    "        # [(int, float), (int, float), ...]\n",
    "        return np.sqrt(sum(x[1] ** 2 for x in vec))\n",
    "    \n",
    "    # actually compute similarity\n",
    "    return dot(vec_1, vec_2) / (mod(vec_1) * mod(vec_2))"
   ]
  },
  {
   "cell_type": "code",
   "execution_count": 74,
   "metadata": {
    "cell_id": "00116-d4733e51-dfd0-4e9c-9240-9382dd06a589",
    "deepnote_cell_height": 224.5625,
    "deepnote_cell_type": "code",
    "deepnote_to_be_reexecuted": false,
    "deletable": false,
    "editable": false,
    "execution_millis": 11246808,
    "execution_start": 1645186543759,
    "nbgrader": {
     "cell_type": "code",
     "checksum": "d22a4a7325ba7815a808390388f534a1",
     "grade": true,
     "grade_id": "cell-b25d04ed6b79fd35",
     "locked": true,
     "points": 2,
     "schema_version": 3,
     "solution": false,
     "task": false
    },
    "source_hash": "f54a94bb"
   },
   "outputs": [
    {
     "name": "stdout",
     "output_type": "stream",
     "text": [
      "vectors: ([(1, 0.2), (2, 0.3), (3, 0.4)], [(1, 0.2), (2, 0.7), (3, 0.4)])\n",
      "dot product = 0.41000000000000003\n",
      "cosine similarity = 0.9165587597202866\n"
     ]
    }
   ],
   "source": [
    "##### Function check\n",
    "print(f\"vectors: {(example_vec_1,example_vec_2)}\")\n",
    "print(f\"dot product = {dot(example_vec_1,example_vec_2)}\")\n",
    "print(f\"cosine similarity = {cosine_sim(example_vec_1,example_vec_2)}\")\n",
    "#####"
   ]
  },
  {
   "cell_type": "code",
   "execution_count": 75,
   "metadata": {
    "cell_id": "00117-1b58cb35-2d08-4e28-8f2b-6de011617cf4",
    "deepnote_cell_height": 81,
    "deepnote_cell_type": "code",
    "deepnote_to_be_reexecuted": false,
    "deletable": false,
    "editable": false,
    "execution_millis": 11246825,
    "execution_start": 1645186543833,
    "nbgrader": {
     "cell_type": "code",
     "checksum": "0744131724ce76b1b3f163b4bae5f700",
     "grade": true,
     "grade_id": "cell-ae3c4466866ace77",
     "locked": true,
     "points": 3,
     "schema_version": 3,
     "solution": false,
     "task": false
    },
    "source_hash": "28110d30"
   },
   "outputs": [],
   "source": [
    "#### Please do not change this. This cell is used for grading."
   ]
  },
  {
   "cell_type": "markdown",
   "metadata": {
    "cell_id": "00118-a369a32d-5d88-4db7-b799-15d230e97a18",
    "deepnote_cell_height": 123.796875,
    "deepnote_cell_type": "markdown",
    "deletable": false,
    "editable": false,
    "nbgrader": {
     "cell_type": "markdown",
     "checksum": "9b123f599f9ea372d14676e23f1c6a52",
     "grade": false,
     "grade_id": "cell-4b2534067c44fcdf",
     "locked": true,
     "schema_version": 3,
     "solution": false,
     "task": false
    }
   },
   "source": [
    "---\n",
    "### Section 6.2: LSI Retrieval (10 points)<a class=\"anchor\" id=\"lsi_retrieval\"></a>\n",
    "LSI retrieval is simply ranking the documents based on their cosine similarity to the query vector.\n",
    "First, let's write a parent class for vector-based retrieval models:"
   ]
  },
  {
   "cell_type": "code",
   "execution_count": 76,
   "metadata": {
    "cell_id": "00119-814ff936-077e-4cc4-993b-e4228ac65973",
    "deepnote_cell_height": 1017,
    "deepnote_cell_type": "code",
    "deepnote_to_be_reexecuted": false,
    "deletable": false,
    "editable": false,
    "execution_millis": 11246845,
    "execution_start": 1645186543834,
    "nbgrader": {
     "cell_type": "code",
     "checksum": "ecc111d58182570e2252b8ef5d6b02af",
     "grade": false,
     "grade_id": "cell-937936cea18711ee",
     "locked": true,
     "schema_version": 3,
     "solution": false,
     "task": false
    },
    "source_hash": "c421a787"
   },
   "outputs": [],
   "source": [
    "class VectorSpaceRetrievalModel:\n",
    "    \"\"\"\n",
    "    Parent class for Dense Vector Retrieval models\n",
    "    \"\"\"\n",
    "\n",
    "    def __init__(self, doc_repr):\n",
    "        \"\"\"\n",
    "        document_collection:\n",
    "            [\n",
    "                (doc_id_1, [token 1, token 2, ...]),\n",
    "                (doc_id_2, [token 1, token 2, ....])\n",
    "                ...\n",
    "            ]\n",
    "\n",
    "        \"\"\"\n",
    "        self.doc_repr = doc_repr\n",
    "        self.documents = [_[1] for _ in self.doc_repr]\n",
    "\n",
    "        # construct a dictionary\n",
    "        self.dictionary = Dictionary(self.documents)\n",
    "        # Filter out words that occur less than 20 documents, or more than 50% of the documents.\n",
    "        self.dictionary.filter_extremes(no_below=10)\n",
    "        self.corpus = [self.dictionary.doc2bow(doc) for doc in self.documents]\n",
    "\n",
    "        # Make a index to word dictionary.\n",
    "        temp = self.dictionary[0]  # This is only to \"load\" the dictionary.\n",
    "        self.id2word = self.dictionary.id2token\n",
    "\n",
    "        # this is set by the train_model function\n",
    "        self.model = None\n",
    "\n",
    "    def vectorize_documents(self):\n",
    "        \"\"\"\n",
    "        Returns a doc_id -> vector dictionary\n",
    "        \"\"\"\n",
    "        vectors = {}\n",
    "        for (doc_id, _), cc in zip(self.doc_repr, self.corpus):\n",
    "            vectors[doc_id] = self.model[cc]\n",
    "        return vectors\n",
    "\n",
    "    def vectorize_query(self, query):\n",
    "        # Note the use of config_2 here!\n",
    "        query = process_text(query, **config_2)\n",
    "        query_vector = self.dictionary.doc2bow(query)\n",
    "        return self.model[query_vector]\n",
    "\n",
    "    def train_model(self):\n",
    "        \"\"\"\n",
    "        Trains a model and sets the 'self.model' variable.\n",
    "        Make sure to use the variables created in the __init__ method.\n",
    "        e.g the variables which may be useful: {corpus, dictionary, id2word}\n",
    "        \"\"\"\n",
    "        raise NotImplementedError()"
   ]
  },
  {
   "cell_type": "markdown",
   "metadata": {
    "cell_id": "00120-41460ee2-1ba5-4e9b-8779-fc6d4bfda152",
    "deepnote_cell_height": 181,
    "deepnote_cell_type": "markdown",
    "deletable": false,
    "editable": false,
    "nbgrader": {
     "cell_type": "markdown",
     "checksum": "ff161eefd9b81b768cd6361bc1a502b0",
     "grade": false,
     "grade_id": "cell-704a18c2f80cd60c",
     "locked": true,
     "schema_version": 3,
     "solution": false,
     "task": false
    }
   },
   "source": [
    "---\n",
    "**Implementation (5 points):**\n",
    "Implement the `train_model` method in the following class (note that this is only one line of code in `gensim`!). Ensure that the parameters defined in the `__init__` method are not changed, and are *used in the `train_method` function*. Normally, the hyperaparameter space will be searched using grid search / other methods - in this assignment we have provided the hyperparameters for you.\n",
    "\n",
    "The last two lines of code train an LSI model on the list of documents which have been stemmed, lower-cased and have stopwords removed."
   ]
  },
  {
   "cell_type": "code",
   "execution_count": 77,
   "metadata": {
    "cell_id": "00121-9056c69d-5f3f-4d7d-bdd1-1593996f65a1",
    "deepnote_cell_height": 333,
    "deepnote_cell_type": "code",
    "deepnote_to_be_reexecuted": false,
    "deletable": false,
    "execution_millis": 0,
    "execution_start": 1645186543877,
    "nbgrader": {
     "cell_type": "code",
     "checksum": "0e90eedc27c248bc1ae050518a46a46c",
     "grade": false,
     "grade_id": "cell-307682c9089f15d6",
     "locked": false,
     "schema_version": 3,
     "solution": true,
     "task": false
    },
    "source_hash": "bab726fa"
   },
   "outputs": [],
   "source": [
    "# TODO: Implement this! (5 points)\n",
    "class LsiRetrievalModel(VectorSpaceRetrievalModel):\n",
    "    def __init__(self, doc_repr):\n",
    "        super().__init__(doc_repr)\n",
    "\n",
    "        self.num_topics = 100\n",
    "        self.chunksize = 2000\n",
    "\n",
    "    def train_model(self):\n",
    "        self.model = LsiModel(\n",
    "            corpus=self.corpus,\n",
    "            id2word=self.id2word,\n",
    "            num_topics=self.num_topics,\n",
    "            chunksize=self.chunksize,\n",
    "        )"
   ]
  },
  {
   "cell_type": "code",
   "execution_count": 78,
   "metadata": {
    "cell_id": "00122-3bd0788f-3ce1-4afe-8344-6361027be847",
    "collapsed": true,
    "deepnote_cell_height": 1451,
    "deepnote_cell_type": "code",
    "deepnote_output_heights": [
     null,
     611
    ],
    "deepnote_to_be_reexecuted": false,
    "deletable": false,
    "editable": false,
    "execution_millis": 2220,
    "execution_start": 1645186543878,
    "jupyter": {
     "outputs_hidden": true
    },
    "nbgrader": {
     "cell_type": "code",
     "checksum": "00399cfe13d60cb4beed1271e36004b0",
     "grade": true,
     "grade_id": "cell-5ce512650c1b2dfb",
     "locked": true,
     "points": 0,
     "schema_version": 3,
     "solution": false,
     "task": false
    },
    "source_hash": "31499d4f",
    "tags": []
   },
   "outputs": [
    {
     "name": "stderr",
     "output_type": "stream",
     "text": [
      "2022-02-21 13:17:36,159 : INFO : adding document #0 to Dictionary(0 unique tokens: [])\n",
      "2022-02-21 13:17:36,365 : INFO : built Dictionary(5937 unique tokens: ['-', 'algebra', 'intern', 'languag', 'preliminari']...) from 3204 documents (total 115969 corpus positions)\n",
      "2022-02-21 13:17:36,394 : INFO : discarding 4740 tokens: [('repeat', 8), ('glossari', 7), ('inspect', 8), ('uncol', 2), ('rung', 9), ('secant', 2), ('.', 1603), ('acceler', 6), ('diverg', 3), ('induc', 9)]...\n",
      "2022-02-21 13:17:36,396 : INFO : keeping 1197 tokens which were in no less than 10 and no more than 1602 (=50.0%) documents\n",
      "2022-02-21 13:17:36,399 : INFO : resulting dictionary: Dictionary(1197 unique tokens: ['-', 'algebra', 'intern', 'languag', 'preliminari']...)\n",
      "2022-02-21 13:17:36,485 : INFO : using serial LSI version on this node\n",
      "2022-02-21 13:17:36,486 : INFO : updating model with new documents\n",
      "2022-02-21 13:17:36,487 : INFO : preparing a new chunk of documents\n",
      "2022-02-21 13:17:36,505 : INFO : using 100 extra samples and 2 power iterations\n",
      "2022-02-21 13:17:36,506 : INFO : 1st phase: constructing (1197, 200) action matrix\n",
      "2022-02-21 13:17:36,530 : INFO : orthonormalizing (1197, 200) action matrix\n",
      "2022-02-21 13:17:36,617 : INFO : 2nd phase: running dense svd on (200, 2000) matrix\n",
      "2022-02-21 13:17:36,672 : INFO : computing the final decomposition\n",
      "2022-02-21 13:17:36,673 : INFO : keeping 100 factors (discarding 13.445% of energy spectrum)\n",
      "2022-02-21 13:17:36,676 : INFO : processed documents up to #2000\n",
      "2022-02-21 13:17:36,680 : INFO : topic #0(152.127): 0.741*\",\" + 0.342*\"-\" + 0.211*\"system\" + 0.204*\"program\" + 0.192*\"comput\" + 0.146*\"(\" + 0.127*\"languag\" + 0.108*\")\" + 0.084*\"gener\" + 0.083*\"data\"\n",
      "2022-02-21 13:17:36,681 : INFO : topic #1(60.600): -0.607*\"(\" + -0.434*\")\" + -0.366*\"algorithm\" + -0.300*\"-\" + 0.237*\",\" + 0.213*\"system\" + 0.132*\"comput\" + -0.096*\"[\" + 0.093*\"program\" + -0.084*\"])\"\n",
      "2022-02-21 13:17:36,683 : INFO : topic #2(57.438): 0.744*\"-\" + -0.452*\",\" + 0.263*\"system\" + -0.214*\"(\" + -0.166*\")\" + 0.107*\"time\" + 0.105*\"program\" + -0.094*\"algorithm\" + 0.068*\"comput\" + 0.067*\"share\"\n",
      "2022-02-21 13:17:36,685 : INFO : topic #3(48.370): 0.483*\"system\" + 0.375*\"program\" + 0.367*\"comput\" + -0.363*\"-\" + -0.308*\",\" + 0.212*\"(\" + 0.168*\")\" + 0.147*\"algorithm\" + -0.144*\"languag\" + 0.119*\"time\"\n",
      "2022-02-21 13:17:36,686 : INFO : topic #4(45.710): -0.489*\"comput\" + 0.475*\"languag\" + 0.428*\"program\" + -0.238*\"method\" + -0.141*\"problem\" + 0.121*\"system\" + 0.109*\")\" + -0.107*\"equat\" + -0.100*\"algorithm\" + 0.099*\"(\"\n",
      "2022-02-21 13:17:36,688 : INFO : preparing a new chunk of documents\n",
      "2022-02-21 13:17:36,704 : INFO : using 100 extra samples and 2 power iterations\n",
      "2022-02-21 13:17:36,705 : INFO : 1st phase: constructing (1197, 200) action matrix\n",
      "2022-02-21 13:17:36,724 : INFO : orthonormalizing (1197, 200) action matrix\n",
      "2022-02-21 13:17:36,801 : INFO : 2nd phase: running dense svd on (200, 1204) matrix\n",
      "2022-02-21 13:17:36,840 : INFO : computing the final decomposition\n",
      "2022-02-21 13:17:36,841 : INFO : keeping 100 factors (discarding 14.056% of energy spectrum)\n",
      "2022-02-21 13:17:36,847 : INFO : merging projections: (1197, 100) + (1197, 100)\n",
      "2022-02-21 13:17:36,877 : INFO : keeping 100 factors (discarding 8.180% of energy spectrum)\n",
      "2022-02-21 13:17:36,884 : INFO : processed documents up to #3204\n",
      "2022-02-21 13:17:36,886 : INFO : topic #0(225.136): 0.759*\",\" + 0.337*\"-\" + 0.196*\"system\" + 0.186*\"program\" + 0.166*\"comput\" + 0.139*\"(\" + 0.103*\")\" + 0.103*\"algorithm\" + 0.099*\"languag\" + 0.087*\"time\"\n",
      "2022-02-21 13:17:36,888 : INFO : topic #1(87.805): 0.613*\"-\" + -0.399*\",\" + 0.399*\"(\" + 0.326*\"algorithm\" + 0.293*\")\" + -0.129*\"system\" + -0.107*\"program\" + 0.085*\"method\" + 0.077*\"time\" + 0.062*\"1\"\n",
      "2022-02-21 13:17:36,890 : INFO : topic #2(81.909): 0.550*\"-\" + -0.434*\"(\" + 0.355*\"system\" + -0.321*\")\" + -0.291*\",\" + -0.266*\"algorithm\" + 0.146*\"program\" + 0.123*\"comput\" + 0.078*\"time\" + -0.064*\"[\"\n",
      "2022-02-21 13:17:36,892 : INFO : topic #3(72.433): -0.693*\"program\" + 0.339*\",\" + 0.279*\"-\" + -0.251*\"(\" + -0.221*\"system\" + -0.214*\"languag\" + -0.204*\")\" + -0.160*\"comput\" + -0.099*\"data\" + -0.056*\"execut\"\n",
      "2022-02-21 13:17:36,893 : INFO : topic #4(68.523): -0.673*\"system\" + 0.453*\"program\" + 0.254*\"languag\" + 0.212*\"-\" + -0.179*\"comput\" + -0.165*\"(\" + -0.121*\")\" + -0.115*\"model\" + 0.101*\",\" + -0.098*\"algorithm\"\n"
     ]
    },
    {
     "data": {
      "text/plain": [
       "[(0, 0.015213232361003592),\n",
       " (1, -0.016270432855625114),\n",
       " (2, -0.00020971595113352228),\n",
       " (3, -0.0018169727851894107),\n",
       " (4, -0.009410129268116484),\n",
       " (5, -0.004737886303306634),\n",
       " (6, 0.026962410223637007),\n",
       " (7, 0.016738286488104312),\n",
       " (8, -0.03165510474262082),\n",
       " (9, -0.0008262755909262242),\n",
       " (10, 0.0022668614610780137),\n",
       " (11, -0.017485232052485835),\n",
       " (12, 0.00017073016616846529),\n",
       " (13, 0.0015014123545297473),\n",
       " (14, 0.004395644926973381),\n",
       " (15, 0.005692023391971945),\n",
       " (16, 0.005798952579637688),\n",
       " (17, 0.0022546746904291946),\n",
       " (18, -0.017509231787582583),\n",
       " (19, 0.01998767162286649),\n",
       " (20, -0.008475745873184653),\n",
       " (21, -0.013631421532998771),\n",
       " (22, 0.04807493396533126),\n",
       " (23, 0.025108327478374957),\n",
       " (24, -0.009534891441194874),\n",
       " (25, -0.011622229960131309),\n",
       " (26, 0.006342346928499409),\n",
       " (27, 0.07512842461221121),\n",
       " (28, -0.0633501834716391),\n",
       " (29, 0.03079859112310544),\n",
       " (30, 0.042656152061091954),\n",
       " (31, 0.04543308720396372),\n",
       " (32, -0.07487054368651737),\n",
       " (33, 0.04635694724832712),\n",
       " (34, -0.024991612037274187),\n",
       " (35, 0.06135197172703205),\n",
       " (36, 0.04021038988377103),\n",
       " (37, -0.008426729871697704),\n",
       " (38, -0.06257219675970219),\n",
       " (39, 0.02388353411909993),\n",
       " (40, -0.04642037676147629),\n",
       " (41, -0.034887778111444015),\n",
       " (42, 0.02155973378895803),\n",
       " (43, 0.015459662102667072),\n",
       " (44, 0.017378140052834966),\n",
       " (45, 0.060205181084479496),\n",
       " (46, -0.006651376593659971),\n",
       " (47, 0.009769325372239566),\n",
       " (48, 0.011925841366843992),\n",
       " (49, 0.02623503467631876),\n",
       " (50, 0.021248303153960223),\n",
       " (51, 0.050353667299024706),\n",
       " (52, -0.004946315662879248),\n",
       " (53, 0.001862959909509387),\n",
       " (54, 0.04242418777123806),\n",
       " (55, 0.029003015878995505),\n",
       " (56, -0.0058461353339365404),\n",
       " (57, -0.020211682603911717),\n",
       " (58, -0.007052521422374657),\n",
       " (59, 0.04505073337842844),\n",
       " (60, -0.014684868549660097),\n",
       " (61, -0.05161936137806909),\n",
       " (62, 0.0063269289975040974),\n",
       " (63, 0.05712788784494613),\n",
       " (64, 0.002514873685792153),\n",
       " (65, 0.052903576464259014),\n",
       " (66, 0.009779542441243143),\n",
       " (67, -0.03921125744890108),\n",
       " (68, 0.012447127100339805),\n",
       " (69, -0.041665085174403045),\n",
       " (70, 0.03797358029666632),\n",
       " (71, -0.02757534581360941),\n",
       " (72, 0.031587409480125755),\n",
       " (73, 0.09507016428905124),\n",
       " (74, -0.03663971753337554),\n",
       " (75, 0.00329626297112166),\n",
       " (76, 0.043309476886304654),\n",
       " (77, -0.0049608475884660545),\n",
       " (78, 0.05258904984200117),\n",
       " (79, -0.037606270102417634),\n",
       " (80, 0.006757914610162006),\n",
       " (81, -0.012111666622569354),\n",
       " (82, 0.03297433962690434),\n",
       " (83, -0.04090282874282764),\n",
       " (84, -0.048613045626211306),\n",
       " (85, 0.011948393207424355),\n",
       " (86, 0.0007665210452748039),\n",
       " (87, -0.008813962111803703),\n",
       " (88, -0.06853004740465696),\n",
       " (89, -0.0502902505768993),\n",
       " (90, -0.06517409135564095),\n",
       " (91, 0.045915906304335646),\n",
       " (92, -0.03134287579202124),\n",
       " (93, 0.04351710868232814),\n",
       " (94, 0.027232122681733348),\n",
       " (95, 0.0038685644411943186),\n",
       " (96, -0.0056243345249408026),\n",
       " (97, 0.02789305914097028),\n",
       " (98, 0.030310689404622802),\n",
       " (99, -0.015542626702915712)]"
      ]
     },
     "execution_count": 78,
     "metadata": {},
     "output_type": "execute_result"
    }
   ],
   "source": [
    "##### Function check\n",
    "lsi = LsiRetrievalModel(doc_repr_2)\n",
    "lsi.train_model()\n",
    "\n",
    "# you can now get an LSI vector for a given query in the following way:\n",
    "lsi.vectorize_query(\"report\")\n",
    "#####"
   ]
  },
  {
   "cell_type": "markdown",
   "metadata": {
    "cell_id": "00123-e372e3ee-50ec-4225-ab44-bb4d14ac8190",
    "deepnote_cell_height": 52.390625,
    "deepnote_cell_type": "markdown",
    "deletable": false,
    "editable": false,
    "nbgrader": {
     "cell_type": "markdown",
     "checksum": "7116bb9f576c5bb04934e1d59c51d729",
     "grade": false,
     "grade_id": "cell-4c5eeb557b4fca2f",
     "locked": true,
     "points": 5,
     "schema_version": 3,
     "solution": false,
     "task": true
    }
   },
   "source": [
    "\\#### Please do not change this. This cell is used for grading."
   ]
  },
  {
   "cell_type": "markdown",
   "metadata": {
    "cell_id": "00124-d9fd321a-609f-4da5-8d2d-584c9ed530d3",
    "deepnote_cell_height": 73,
    "deepnote_cell_type": "markdown",
    "deletable": false,
    "editable": false,
    "nbgrader": {
     "cell_type": "markdown",
     "checksum": "26e2ff3c413745e633d99f66c041d6b1",
     "grade": false,
     "grade_id": "cell-c4e50296cd17a555",
     "locked": true,
     "schema_version": 3,
     "solution": false,
     "task": false
    }
   },
   "source": [
    "---\n",
    "**Implementation (5 points):**\n",
    " Next, implement a basic ranking class for vector space retrieval (used for all semantic methods):"
   ]
  },
  {
   "cell_type": "code",
   "execution_count": 79,
   "metadata": {
    "cell_id": "00125-826a2865-fd5c-4886-96fd-21c5894bcd77",
    "deepnote_cell_height": 765,
    "deepnote_cell_type": "code",
    "deepnote_to_be_reexecuted": false,
    "deletable": false,
    "execution_millis": 1,
    "execution_start": 1645186546165,
    "nbgrader": {
     "cell_type": "code",
     "checksum": "1a8389d2f0635c3405e2b0b27ed9f327",
     "grade": false,
     "grade_id": "cell-250515d288e80cdc",
     "locked": false,
     "schema_version": 3,
     "solution": true,
     "task": false
    },
    "source_hash": "eb69cddb"
   },
   "outputs": [],
   "source": [
    "# TODO: Implement this! (5 points)\n",
    "class DenseRetrievalRanker:\n",
    "    def __init__(self, vsrm, similarity_fn):\n",
    "        \"\"\"\n",
    "        vsrm: instance of `VectorSpaceRetrievalModel`\n",
    "        similarity_fn: function instance that takes in two vectors\n",
    "                        and returns a similarity score e.g cosine_sim defined earlier\n",
    "        \"\"\"\n",
    "        self.vsrm = vsrm\n",
    "        self.vectorized_documents = self.vsrm.vectorize_documents()\n",
    "        self.similarity_fn = similarity_fn\n",
    "\n",
    "    def _compute_sim(self, query_vector):\n",
    "        \"\"\"\n",
    "        Compute the similarity of `query_vector` to documents in\n",
    "        `self.vectorized_documents` using `self.similarity_fn`\n",
    "        Returns a list of (doc_id, score) tuples\n",
    "        \"\"\"\n",
    "        result = []\n",
    "        for doc_id, doc in self.vectorized_documents.items():\n",
    "            result.append((doc_id, self.similarity_fn(query_vector, doc)))\n",
    "        return result\n",
    "\n",
    "    def search(self, query):\n",
    "        scores = self._compute_sim(self.vsrm.vectorize_query(query))\n",
    "        scores.sort(key=lambda _: -_[1])\n",
    "        return scores"
   ]
  },
  {
   "cell_type": "code",
   "execution_count": 80,
   "metadata": {
    "cell_id": "00126-61a00dcc-2fd6-4dc9-9bdd-24f69e74576b",
    "deepnote_cell_height": 248.9375,
    "deepnote_cell_type": "code",
    "deepnote_output_heights": [
     97.9375
    ],
    "deepnote_to_be_reexecuted": false,
    "deletable": false,
    "editable": false,
    "execution_millis": 2654,
    "execution_start": 1645186546166,
    "nbgrader": {
     "cell_type": "code",
     "checksum": "f237dd1ef6c1783c06797f4b514421f5",
     "grade": true,
     "grade_id": "cell-b73068b3e77a8e31",
     "locked": true,
     "points": 0,
     "schema_version": 3,
     "solution": false,
     "task": false
    },
    "source_hash": "d95413f2"
   },
   "outputs": [
    {
     "data": {
      "text/plain": [
       "[('599', 0.8035322487947275),\n",
       " ('947', 0.58208484220585),\n",
       " ('53', 0.5054041215609063),\n",
       " ('1339', 0.46549698297486025),\n",
       " ('3160', 0.43911417101648104)]"
      ]
     },
     "execution_count": 80,
     "metadata": {},
     "output_type": "execute_result"
    }
   ],
   "source": [
    "##### Function check\n",
    "drm_lsi = DenseRetrievalRanker(lsi, cosine_sim)\n",
    "drm_lsi.search(\"report\")[:5]\n",
    "#####"
   ]
  },
  {
   "cell_type": "markdown",
   "metadata": {
    "cell_id": "00127-61d1bfa7-3b4f-4bae-9849-3abf43008fb7",
    "deepnote_cell_height": 52.390625,
    "deepnote_cell_type": "markdown",
    "deletable": false,
    "editable": false,
    "nbgrader": {
     "cell_type": "markdown",
     "checksum": "5b3f19fdcaa585d263706d5a26038799",
     "grade": false,
     "grade_id": "cell-034c755a6502b868",
     "locked": true,
     "points": 5,
     "schema_version": 3,
     "solution": false,
     "task": true
    }
   },
   "source": [
    "\\#### Please do not change this. This cell is used for grading."
   ]
  },
  {
   "cell_type": "markdown",
   "metadata": {
    "cell_id": "00128-76ede674-a982-4ad0-abe7-680c64dc6488",
    "deepnote_cell_height": 75.796875,
    "deepnote_cell_type": "markdown",
    "deletable": false,
    "editable": false,
    "nbgrader": {
     "cell_type": "markdown",
     "checksum": "dcafef6e037033c46304b914f7c78bdf",
     "grade": false,
     "grade_id": "cell-d1df23f497d5ed6b",
     "locked": true,
     "schema_version": 3,
     "solution": false,
     "task": false
    }
   },
   "source": [
    "---\n",
    "Now, you can test your LSI model in the following cell: try finding queries which are lexically different to documents, but semantically similar - does LSI work well for these queries?!"
   ]
  },
  {
   "cell_type": "code",
   "execution_count": 81,
   "metadata": {
    "cell_id": "00129-e8052686-38ce-490b-8725-f62afa5b6285",
    "deepnote_cell_height": 663,
    "deepnote_cell_type": "code",
    "deepnote_to_be_reexecuted": false,
    "deletable": false,
    "editable": false,
    "execution_millis": 45,
    "execution_start": 1645186548831,
    "nbgrader": {
     "cell_type": "code",
     "checksum": "11734bc7674377b340ad51297a8e8bb5",
     "grade": false,
     "grade_id": "cell-efd1d08dfc04ec3e",
     "locked": true,
     "schema_version": 3,
     "solution": false,
     "task": false
    },
    "source_hash": "15e4943e"
   },
   "outputs": [
    {
     "data": {
      "application/vnd.jupyter.widget-view+json": {
       "model_id": "4221d2f9464b4420b928348f6978d39f",
       "version_major": 2,
       "version_minor": 0
      },
      "text/plain": [
       "Text(value='', description='Search Bar')"
      ]
     },
     "metadata": {},
     "output_type": "display_data"
    }
   ],
   "source": [
    "# test your LSI model\n",
    "search_fn = drm_lsi.search\n",
    "\n",
    "text = widgets.Text(description=\"Search Bar\", width=200)\n",
    "display(text)\n",
    "\n",
    "\n",
    "def make_results_2(query, search_fn):\n",
    "    results = []\n",
    "    for doc_id, score in search_fn(query):\n",
    "        highlight = highlight_text(docs_by_id[doc_id], query)\n",
    "        if len(highlight.strip()) == 0:\n",
    "            highlight = docs_by_id[doc_id]\n",
    "        results.append(ResultRow(doc_id, highlight, score))\n",
    "    return results\n",
    "\n",
    "\n",
    "def handle_submit_2(sender):\n",
    "    print(f\"Searching for: '{sender.value}' (SEARCH FN: {search_fn})\")\n",
    "\n",
    "    results = make_results_2(sender.value, search_fn)\n",
    "\n",
    "    # display only the top 5\n",
    "    results = results[:5]\n",
    "\n",
    "    body = \"\"\n",
    "    for idx, r in enumerate(results):\n",
    "        body += f\"<li>Document #{r.doc_id}({r.score}): {r.snippet}</li>\"\n",
    "    display(HTML(f\"<ul>{body}</ul>\"))\n",
    "\n",
    "\n",
    "text.on_submit(handle_submit_2)"
   ]
  },
  {
   "cell_type": "markdown",
   "metadata": {
    "cell_id": "00130-70ac6c5f-a513-4253-abde-f31df522d92d",
    "deepnote_cell_height": 190.59375,
    "deepnote_cell_type": "markdown",
    "deletable": false,
    "editable": false,
    "nbgrader": {
     "cell_type": "markdown",
     "checksum": "d074ce1ca48384cdda78742741c938be",
     "grade": false,
     "grade_id": "cell-3a86cef264d8f6cf",
     "locked": true,
     "schema_version": 3,
     "solution": false,
     "task": false
    }
   },
   "source": [
    "---\n",
    "## Section 7: Latent Dirichlet Allocation (LDA) (10 points) <a class=\"anchor\" id=\"lda\"></a>\n",
    "\n",
    "[Back to Part 2](#part2)\n",
    "\n",
    "The specifics of LDA is out of the scope of this assignment, but we will use the `gensim` implementation to perform search using LDA over our small document collection. The key thing to remember is that LDA, unlike LSI, outputs a topic **distribution**, not a vector. With that in mind, let's first define a similarity measure.\n"
   ]
  },
  {
   "cell_type": "markdown",
   "metadata": {
    "cell_id": "00131-ec0e884b-e164-4ba8-9ed6-c767c87825c3",
    "deepnote_cell_height": 182.59375,
    "deepnote_cell_type": "markdown",
    "deletable": false,
    "editable": false,
    "nbgrader": {
     "cell_type": "markdown",
     "checksum": "db01092373b18f0c9dfed1bb17db4ad9",
     "grade": false,
     "grade_id": "cell-6b78ad22c2d60ba7",
     "locked": true,
     "schema_version": 3,
     "solution": false,
     "task": false
    }
   },
   "source": [
    "---\n",
    "### Section 7.1: Jenson-Shannon divergence (5 points) <a class=\"anchor\" id=\"js_sim\"></a>\n",
    "\n",
    "The Jenson-Shannon divergence is a symmetric and finite measure on two probability distributions (unlike the KL, which is neither). For identical distributions, the JSD is equal to 0, and since our code uses 0 as irrelevant and higher scores as relevant, we use `(1 - JSD)` as the score or 'similarity' in our setup\n",
    "\n",
    "**Note**: the JSD is bounded to \\[0,1\\] only if we use log base 2. So please ensure that you're using `np.log2` instead of `np.log`"
   ]
  },
  {
   "cell_type": "code",
   "execution_count": 82,
   "metadata": {
    "cell_id": "00132-ccb9488f-e93e-484d-891a-5260b0b3ba46",
    "deepnote_cell_height": 783,
    "deepnote_cell_type": "code",
    "deepnote_to_be_reexecuted": false,
    "deletable": false,
    "execution_millis": 14,
    "execution_start": 1645186548888,
    "nbgrader": {
     "cell_type": "code",
     "checksum": "a579e6cd7a24a3516bc9a84528b392d3",
     "grade": false,
     "grade_id": "cell-d2376a85a4841e98",
     "locked": false,
     "schema_version": 3,
     "solution": true,
     "task": false
    },
    "source_hash": "887f6708"
   },
   "outputs": [],
   "source": [
    "## TODO: Implement this! (5 points)\n",
    "def jenson_shannon_divergence(vec_1, vec_2, assert_prob=False):\n",
    "    \"\"\"\n",
    "    Computes the Jensen-Shannon divergence between two probability distributions.\n",
    "    NOTE: DO NOT RETURN 1 - JSD here, that is handled by the next function which is already implemented!\n",
    "    The inputs are *gensim* vectors - same as the vectors for the cosine_sim function\n",
    "    assert_prob is a flag that checks if the inputs are proper probability distributions\n",
    "        i.e they sum to 1 and are positive - use this to check your inputs if needed.\n",
    "            (This is optional to implement, but recommended -\n",
    "            you can the default to False to save a few ms off the runtime)\n",
    "    \"\"\"\n",
    "\n",
    "    # --------- Define a custom KL divergence function --------\n",
    "    def KL(a, b):\n",
    "        a = np.asarray(a, dtype=np.float)\n",
    "        b = np.asarray(b, dtype=np.float)\n",
    "\n",
    "        return np.sum(np.where(a != 0, a * np.log2(a / b), 0))\n",
    "\n",
    "    # ---------------------------------------------------------\n",
    "\n",
    "    vec_1_probs = np.array([x[1] for x in vec_1])  # extracting the probabily values\n",
    "    vec_2_probs = np.array([y[1] for y in vec_2])  # extracting the probabily values\n",
    "\n",
    "    # if flag=True, assert that the inputs are proper probability distributions\n",
    "    if assert_prob:\n",
    "        assert np.sum(vec_1_probs) == 1 and all(\n",
    "            vec_1_probs > 0\n",
    "        ), \"Values of vector1 must sum to 1 and be positive\"\n",
    "        assert np.sum(vec_2_probs) == 1 and all(\n",
    "            vec_2_probs > 0\n",
    "        ), \"Values of vector2 must sum to 1 and be positive\"\n",
    "\n",
    "    # If inputs are valid, compute divergence\n",
    "    m = 0.5 * (vec_1_probs + vec_2_probs)\n",
    "    return 0.5 * KL(vec_1_probs, m) + 0.5 * KL(vec_2_probs, m)\n",
    "\n",
    "\n",
    "def jenson_shannon_sim(vec_1, vec_2, assert_prob=False):\n",
    "    return 1 - jenson_shannon_divergence(vec_1, vec_2)"
   ]
  },
  {
   "cell_type": "code",
   "execution_count": 83,
   "metadata": {
    "cell_id": "00133-062a3052-2e16-413b-bac4-d476558e3866",
    "deepnote_cell_height": 190.1875,
    "deepnote_cell_type": "code",
    "deepnote_output_heights": [
     21.1875
    ],
    "deepnote_to_be_reexecuted": false,
    "deletable": false,
    "editable": false,
    "execution_millis": 70,
    "execution_start": 1645186548917,
    "nbgrader": {
     "cell_type": "code",
     "checksum": "ab340aa941c9fb5c89b3fd0a9139e246",
     "grade": true,
     "grade_id": "cell-487c6d2933f38053",
     "locked": true,
     "points": 5,
     "schema_version": 3,
     "solution": false,
     "task": false
    },
    "source_hash": "74ec8119"
   },
   "outputs": [
    {
     "data": {
      "text/plain": [
       "0.9251064410358459"
      ]
     },
     "execution_count": 83,
     "metadata": {},
     "output_type": "execute_result"
    }
   ],
   "source": [
    "##### Function check\n",
    "vec_1 = [(1, 0.3), (2, 0.4), (3, 0.3)]\n",
    "vec_2 = [(1, 0.1), (2, 0.7), (3, 0.2)]\n",
    "jenson_shannon_sim(vec_1, vec_2, assert_prob=True)\n",
    "#####"
   ]
  },
  {
   "cell_type": "markdown",
   "metadata": {
    "cell_id": "00134-b1b00101-4499-4c42-a48c-f90f9f37d7e9",
    "deepnote_cell_height": 227.375,
    "deepnote_cell_type": "markdown",
    "deletable": false,
    "editable": false,
    "nbgrader": {
     "cell_type": "markdown",
     "checksum": "0a1583a5f23e3390038331cce67f5d8e",
     "grade": false,
     "grade_id": "cell-4535cc67a50b80fa",
     "locked": true,
     "schema_version": 3,
     "solution": false,
     "task": false
    }
   },
   "source": [
    "---\n",
    "### Section 7.2: LDA retrieval (5 points) <a class=\"anchor\" id=\"lda_ret\"></a>\n",
    "\n",
    "Implement the `train_model` method in the following class (note that this is only one line of code in `gensim`!). Ensure that the parameters defined in the `__init__` method are not changed, and are *used in the `train_method` function*. You do not need to set this. Normally, the hyperaparameter space will be searched using grid search / other methods. Note that training the LDA model might take some time\n",
    "\n",
    "The last two lines of code train an LDA model on the list of documents which have been stemmed, lower-cased and have stopwords removed."
   ]
  },
  {
   "cell_type": "code",
   "execution_count": 84,
   "metadata": {
    "cell_id": "00135-c9620a32-0d75-44b0-9b91-6223cae5d6d9",
    "deepnote_cell_height": 603,
    "deepnote_cell_type": "code",
    "deepnote_to_be_reexecuted": false,
    "deletable": false,
    "execution_millis": 1,
    "execution_start": 1645186548985,
    "nbgrader": {
     "cell_type": "code",
     "checksum": "27de8e4fa85536bb396b73bfc51b3f50",
     "grade": false,
     "grade_id": "cell-021a48dff4a8bb91",
     "locked": false,
     "schema_version": 3,
     "solution": true,
     "task": false
    },
    "source_hash": "a2398658"
   },
   "outputs": [],
   "source": [
    "# TODO: Implement this! (5 points)\n",
    "class LdaRetrievalModel(VectorSpaceRetrievalModel):\n",
    "    def __init__(self, doc_repr):\n",
    "        super().__init__(doc_repr)\n",
    "\n",
    "        # use these parameters in the train_model method\n",
    "        self.num_topics = 100\n",
    "        self.chunksize = 2000\n",
    "        self.passes = 20\n",
    "        self.iterations = 400\n",
    "        self.eval_every = 10\n",
    "        # this is need to get full vectors\n",
    "        self.minimum_probability = 0.0\n",
    "        self.alpha = \"auto\"\n",
    "        self.eta = \"auto\"\n",
    "\n",
    "    def train_model(self):\n",
    "        # YOUR CODE HERE\n",
    "        self.model = LdaModel(\n",
    "            corpus=self.corpus,\n",
    "            id2word=self.id2word,\n",
    "            num_topics=self.num_topics,\n",
    "            chunksize=self.chunksize,\n",
    "            passes=self.passes,\n",
    "            iterations=self.iterations,\n",
    "            eval_every=self.eval_every,\n",
    "            minimum_probability=self.minimum_probability,\n",
    "            alpha=self.alpha,\n",
    "            eta=self.eta,\n",
    "        )"
   ]
  },
  {
   "cell_type": "code",
   "execution_count": 85,
   "metadata": {
    "cell_id": "00136-7336885c-d6be-4e5e-8515-a71905b8c1df",
    "collapsed": true,
    "deepnote_cell_height": 219.796875,
    "deepnote_cell_type": "code",
    "deepnote_output_heights": [
     null,
     611
    ],
    "deepnote_to_be_reexecuted": false,
    "deletable": false,
    "editable": false,
    "execution_millis": 116845,
    "execution_start": 1645186548986,
    "is_output_hidden": true,
    "jupyter": {
     "outputs_hidden": true
    },
    "nbgrader": {
     "cell_type": "code",
     "checksum": "be70fcb8098d0b6ce64cd2a10e6a05b7",
     "grade": true,
     "grade_id": "cell-86750b715f0345fd",
     "locked": true,
     "points": 0,
     "schema_version": 3,
     "solution": false,
     "task": false
    },
    "source_hash": "25223581",
    "tags": []
   },
   "outputs": [
    {
     "name": "stderr",
     "output_type": "stream",
     "text": [
      "2022-02-21 13:17:38,393 : INFO : adding document #0 to Dictionary(0 unique tokens: [])\n",
      "2022-02-21 13:17:38,557 : INFO : built Dictionary(5937 unique tokens: ['-', 'algebra', 'intern', 'languag', 'preliminari']...) from 3204 documents (total 115969 corpus positions)\n",
      "2022-02-21 13:17:38,571 : INFO : discarding 4740 tokens: [('repeat', 8), ('glossari', 7), ('inspect', 8), ('uncol', 2), ('rung', 9), ('secant', 2), ('.', 1603), ('acceler', 6), ('diverg', 3), ('induc', 9)]...\n",
      "2022-02-21 13:17:38,572 : INFO : keeping 1197 tokens which were in no less than 10 and no more than 1602 (=50.0%) documents\n",
      "2022-02-21 13:17:38,575 : INFO : resulting dictionary: Dictionary(1197 unique tokens: ['-', 'algebra', 'intern', 'languag', 'preliminari']...)\n",
      "2022-02-21 13:17:38,673 : INFO : using autotuned alpha, starting with [0.01, 0.01, 0.01, 0.01, 0.01, 0.01, 0.01, 0.01, 0.01, 0.01, 0.01, 0.01, 0.01, 0.01, 0.01, 0.01, 0.01, 0.01, 0.01, 0.01, 0.01, 0.01, 0.01, 0.01, 0.01, 0.01, 0.01, 0.01, 0.01, 0.01, 0.01, 0.01, 0.01, 0.01, 0.01, 0.01, 0.01, 0.01, 0.01, 0.01, 0.01, 0.01, 0.01, 0.01, 0.01, 0.01, 0.01, 0.01, 0.01, 0.01, 0.01, 0.01, 0.01, 0.01, 0.01, 0.01, 0.01, 0.01, 0.01, 0.01, 0.01, 0.01, 0.01, 0.01, 0.01, 0.01, 0.01, 0.01, 0.01, 0.01, 0.01, 0.01, 0.01, 0.01, 0.01, 0.01, 0.01, 0.01, 0.01, 0.01, 0.01, 0.01, 0.01, 0.01, 0.01, 0.01, 0.01, 0.01, 0.01, 0.01, 0.01, 0.01, 0.01, 0.01, 0.01, 0.01, 0.01, 0.01, 0.01, 0.01]\n",
      "2022-02-21 13:17:38,674 : INFO : using serial LDA version on this node\n",
      "2022-02-21 13:17:38,687 : INFO : running online (multi-pass) LDA training, 100 topics, 20 passes over the supplied corpus of 3204 documents, updating model once every 2000 documents, evaluating perplexity every 3204 documents, iterating 400x with a convergence threshold of 0.001000\n",
      "2022-02-21 13:17:38,688 : INFO : PROGRESS: pass 0, at document #2000/3204\n",
      "2022-02-21 13:17:40,184 : INFO : optimized alpha [0.009803723, 0.00982445, 0.009897479, 0.0098557575, 0.0099219205, 0.010081108, 0.009887547, 0.009793321, 0.009783044, 0.009844767, 0.009948575, 0.009798399, 0.009895199, 0.009798528, 0.009814027, 0.009772882, 0.00985846, 0.009783044, 0.00980886, 0.009809359, 0.009788259, 0.0098195765, 0.009830305, 0.009860412, 0.009844708, 0.009783053, 0.009850518, 0.009870633, 0.009778096, 0.009793378, 0.009829636, 0.009850866, 0.00979862, 0.00978311, 0.009783315, 0.009881371, 0.00986656, 0.009871208, 0.009788416, 0.009855653, 0.009876064, 0.009793413, 0.009866813, 0.00990788, 0.009917952, 0.009793569, 0.009819195, 0.009809143, 0.009803846, 0.009788183, 0.009778119, 0.009804046, 0.009875738, 0.00984023, 0.009762523, 0.009798374, 0.0097884685, 0.009783112, 0.009829651, 0.009855248, 0.009762477, 0.009809101, 0.009808968, 0.009824782, 0.00979865, 0.009886401, 0.0098612085, 0.009783141, 0.009855514, 0.009783304, 0.009809264, 0.009866286, 0.009793524, 0.009793757, 0.009798513, 0.0098400265, 0.009871312, 0.00989853, 0.009814585, 0.009849688, 0.009813907, 0.0097778905, 0.009808956, 0.009767799, 0.009783045, 0.009793353, 0.0097831795, 0.0098146405, 0.009916834, 0.009777928, 0.009844583, 0.0097988, 0.009913222, 0.009814188, 0.009819193, 0.009979729, 0.00987196, 0.009782991, 0.009772797, 0.009824132]\n",
      "2022-02-21 13:17:40,189 : INFO : merging changes from 2000 documents into a model of 3204 documents\n",
      "2022-02-21 13:17:40,196 : INFO : topic #28 (0.010): 0.065*\"problem\" + 0.051*\"numer\" + 0.036*\"comput\" + 0.029*\"method\" + 0.022*\"analysi\" + 0.022*\"solut\" + 0.022*\"boundari\" + 0.015*\"present\" + 0.015*\"repres\" + 0.015*\"background\"\n",
      "2022-02-21 13:17:40,197 : INFO : topic #50 (0.010): 0.036*\"approxim\" + 0.029*\"student\" + 0.029*\"2\" + 0.024*\"result\" + 0.023*\"perform\" + 0.022*\"exponenti\" + 0.022*\"*\" + 0.022*\"schedul\" + 0.019*\",\" + 0.017*\"condit\"\n",
      "2022-02-21 13:17:40,198 : INFO : topic #95 (0.010): 0.050*\"-\" + 0.046*\"(\" + 0.044*\",\" + 0.031*\")\" + 0.025*\"program\" + 0.021*\"algorithm\" + 0.016*\"system\" + 0.012*\"gener\" + 0.011*\"bank\" + 0.011*\"time\"\n",
      "2022-02-21 13:17:40,199 : INFO : topic #10 (0.010): 0.055*\"-\" + 0.045*\",\" + 0.019*\"(\" + 0.019*\"program\" + 0.017*\"comput\" + 0.017*\"problem\" + 0.017*\"present\" + 0.016*\"algorithm\" + 0.015*\"system\" + 0.013*\"time\"\n",
      "2022-02-21 13:17:40,200 : INFO : topic #5 (0.010): 0.087*\",\" + 0.032*\"program\" + 0.026*\"system\" + 0.026*\"-\" + 0.021*\"comput\" + 0.016*\"languag\" + 0.012*\"(\" + 0.011*\"gener\" + 0.010*\"time\" + 0.010*\")\"\n",
      "2022-02-21 13:17:40,201 : INFO : topic diff=83.139893, rho=1.000000\n",
      "2022-02-21 13:17:41,169 : INFO : -7.268 per-word bound, 154.1 perplexity estimate based on a held-out corpus of 1204 documents with 49783 words\n",
      "2022-02-21 13:17:41,170 : INFO : PROGRESS: pass 0, at document #3204/3204\n",
      "2022-02-21 13:17:41,922 : INFO : optimized alpha [0.009867677, 0.010112384, 0.010200749, 0.010134531, 0.01005581, 0.01079276, 0.010330014, 0.009909836, 0.00963704, 0.0099979425, 0.010041959, 0.009856234, 0.009923484, 0.0100027425, 0.010000529, 0.009836255, 0.010202097, 0.009776758, 0.009942314, 0.009833749, 0.0097993715, 0.010055443, 0.010161677, 0.009800495, 0.009950054, 0.0098804785, 0.009803028, 0.009846191, 0.00992439, 0.009827412, 0.009906935, 0.010059154, 0.009909702, 0.009811757, 0.009837568, 0.0100238025, 0.009962775, 0.010120792, 0.009777288, 0.009866786, 0.010035697, 0.009898024, 0.010200976, 0.010068796, 0.010108618, 0.009987015, 0.010124402, 0.009932109, 0.009868573, 0.009882183, 0.0101079475, 0.0098340325, 0.009947297, 0.010195814, 0.00975607, 0.009861707, 0.009993877, 0.009648709, 0.0097940955, 0.009854183, 0.00959332, 0.010085219, 0.010008097, 0.009966236, 0.009793022, 0.009760773, 0.0100744795, 0.0100511, 0.009867166, 0.010145071, 0.010069095, 0.010211068, 0.009981909, 0.0101723075, 0.009955413, 0.009975543, 0.010031744, 0.010240644, 0.010167627, 0.010037204, 0.009754289, 0.009806265, 0.009978472, 0.009878769, 0.009858271, 0.00985659, 0.009766007, 0.010351477, 0.01004853, 0.009678891, 0.010121647, 0.009916244, 0.010200011, 0.009872515, 0.00977129, 0.010097209, 0.010086741, 0.0095962705, 0.00971946, 0.00981736]\n",
      "2022-02-21 13:17:41,928 : INFO : merging changes from 1204 documents into a model of 3204 documents\n",
      "2022-02-21 13:17:41,934 : INFO : topic #60 (0.010): 0.290*\"test\" + 0.195*\"differ\" + 0.167*\"understand\" + 0.142*\"call\" + 0.028*\"60\" + 0.026*\"algol\" + 0.000*\"stage\" + 0.000*\"polygon\" + 0.000*\"simpson\" + 0.000*\"adapt\"\n",
      "2022-02-21 13:17:41,935 : INFO : topic #97 (0.010): 0.115*\"(\" + 0.096*\"algorithm\" + 0.088*\"complex\" + 0.072*\"function\" + 0.068*\")\" + 0.061*\"gamma\" + 0.053*\"[\" + 0.051*\"propos\" + 0.045*\"calcul\" + 0.045*\"scheme\"\n",
      "2022-02-21 13:17:41,936 : INFO : topic #6 (0.010): 0.115*\",\" + 0.049*\"comput\" + 0.042*\"system\" + 0.016*\"-\" + 0.014*\"program\" + 0.013*\"manag\" + 0.011*\"event\" + 0.011*\"oper\" + 0.011*\"student\" + 0.009*\"simul\"\n",
      "2022-02-21 13:17:41,937 : INFO : topic #87 (0.010): 0.078*\",\" + 0.028*\"optim\" + 0.028*\"error\" + 0.024*\"memori\" + 0.023*\"storag\" + 0.019*\"distribut\" + 0.017*\"result\" + 0.016*\"approxim\" + 0.016*\"system\" + 0.015*\"label\"\n",
      "2022-02-21 13:17:41,938 : INFO : topic #5 (0.011): 0.097*\",\" + 0.037*\"program\" + 0.028*\"system\" + 0.024*\"-\" + 0.019*\"comput\" + 0.015*\"languag\" + 0.011*\"data\" + 0.009*\"\"\" + 0.009*\"process\" + 0.008*\"problem\"\n",
      "2022-02-21 13:17:41,940 : INFO : topic diff=0.769787, rho=0.707107\n",
      "2022-02-21 13:17:41,949 : INFO : PROGRESS: pass 1, at document #2000/3204\n",
      "2022-02-21 13:17:42,869 : INFO : optimized alpha [0.00986071, 0.010066673, 0.010167673, 0.010102804, 0.010176546, 0.01078489, 0.010328744, 0.00987837, 0.009753735, 0.009946579, 0.009947274, 0.009828112, 0.009945737, 0.009945122, 0.010052689, 0.009906934, 0.01019847, 0.009737263, 0.009915238, 0.009770262, 0.009772136, 0.010056645, 0.0100882575, 0.009813276, 0.009926387, 0.009809489, 0.009742682, 0.009819682, 0.010042222, 0.00981604, 0.009928307, 0.010032062, 0.009859548, 0.009844331, 0.009799936, 0.00994538, 0.009924171, 0.010064725, 0.009712182, 0.009802616, 0.009916573, 0.009821915, 0.010137695, 0.010003372, 0.010009426, 0.009898478, 0.010132316, 0.009972163, 0.009827651, 0.009956648, 0.01012023, 0.009841207, 0.009868264, 0.01010788, 0.009840411, 0.01041413, 0.009973983, 0.009710007, 0.009731504, 0.009813869, 0.0096705565, 0.010039781, 0.00998285, 0.009979987, 0.009777526, 0.009756361, 0.010068083, 0.009973747, 0.009821468, 0.0101171965, 0.00997602, 0.010136762, 0.009946479, 0.010254333, 0.009944699, 0.009916534, 0.009967201, 0.010230014, 0.010055535, 0.010537728, 0.009682006, 0.009789882, 0.009884658, 0.009845198, 0.009814219, 0.0098207, 0.009716594, 0.010273504, 0.010005324, 0.009643727, 0.010086695, 0.0098766945, 0.010181117, 0.009820538, 0.009672208, 0.009990576, 0.010021131, 0.009727124, 0.0096884305, 0.00983761]\n",
      "2022-02-21 13:17:42,875 : INFO : merging changes from 2000 documents into a model of 3204 documents\n",
      "2022-02-21 13:17:42,881 : INFO : topic #89 (0.010): 0.277*\"network\" + 0.071*\"digit\" + 0.068*\"simul\" + 0.058*\"-\" + 0.039*\"comput\" + 0.039*\"flow\" + 0.037*\"model\" + 0.033*\"program\" + 0.032*\"chart\" + 0.030*\"algorithm\"\n",
      "2022-02-21 13:17:42,882 : INFO : topic #60 (0.010): 0.341*\"test\" + 0.193*\"differ\" + 0.140*\"algol\" + 0.093*\"understand\" + 0.085*\"call\" + 0.071*\"60\" + 0.000*\"stage\" + 0.000*\"simpson\" + 0.000*\"adapt\" + 0.000*\"polygon\"\n",
      "2022-02-21 13:17:42,884 : INFO : topic #55 (0.010): 0.225*\"(\" + 0.223*\")\" + 0.220*\"algorithm\" + 0.047*\"integr\" + 0.028*\"matrix\" + 0.023*\"weight\" + 0.021*\"arithmet\" + 0.020*\"invers\" + 0.014*\"integ\" + 0.013*\"element\"\n",
      "2022-02-21 13:17:42,886 : INFO : topic #79 (0.011): 0.171*\"algorithm\" + 0.170*\"(\" + 0.125*\"[\" + 0.095*\"])\" + 0.054*\")\" + 0.028*\"permut\" + 0.023*\"function\" + 0.019*\"order\" + 0.018*\"log\" + 0.016*\"-\"\n",
      "2022-02-21 13:17:42,887 : INFO : topic #5 (0.011): 0.099*\",\" + 0.039*\"program\" + 0.029*\"system\" + 0.025*\"-\" + 0.018*\"comput\" + 0.017*\"languag\" + 0.012*\"data\" + 0.010*\"\"\" + 0.009*\"process\" + 0.009*\"gener\"\n",
      "2022-02-21 13:17:42,889 : INFO : topic diff=0.305852, rho=0.526900\n",
      "2022-02-21 13:17:43,966 : INFO : -6.896 per-word bound, 119.1 perplexity estimate based on a held-out corpus of 1204 documents with 49783 words\n",
      "2022-02-21 13:17:43,966 : INFO : PROGRESS: pass 1, at document #3204/3204\n",
      "2022-02-21 13:17:44,742 : INFO : optimized alpha [0.009965693, 0.010278635, 0.010304422, 0.010357747, 0.010342813, 0.011134118, 0.010597021, 0.010013578, 0.009797784, 0.010149498, 0.0100266645, 0.009929133, 0.009975972, 0.010154567, 0.010284853, 0.010062999, 0.010475575, 0.009838754, 0.010046158, 0.009846696, 0.009791162, 0.010241897, 0.010238318, 0.0098323105, 0.010000633, 0.009921732, 0.009745797, 0.009957304, 0.010396771, 0.009964377, 0.010078608, 0.0102099385, 0.010021179, 0.010053147, 0.009933366, 0.010096175, 0.010019001, 0.010229478, 0.009762418, 0.009848252, 0.010040697, 0.009931351, 0.010343657, 0.010127642, 0.010183165, 0.010131698, 0.010443429, 0.0100724185, 0.009890214, 0.010191104, 0.010445265, 0.009969775, 0.009962217, 0.010263386, 0.010112872, 0.010880116, 0.010172023, 0.009699418, 0.009751987, 0.00991091, 0.009769703, 0.0103183985, 0.010184907, 0.0100899385, 0.00985786, 0.009711298, 0.010201007, 0.010271711, 0.009928327, 0.010426483, 0.010175325, 0.01036533, 0.0101802945, 0.0107080955, 0.010119161, 0.010057883, 0.010060315, 0.010409252, 0.010330324, 0.010721253, 0.009697949, 0.009916915, 0.010029455, 0.0099939015, 0.009936975, 0.009968556, 0.00981441, 0.010655991, 0.010085657, 0.009656099, 0.0102811195, 0.009960071, 0.010377943, 0.009935175, 0.009650099, 0.010016609, 0.010159034, 0.009777099, 0.009788863, 0.009846946]\n",
      "2022-02-21 13:17:44,748 : INFO : merging changes from 1204 documents into a model of 3204 documents\n",
      "2022-02-21 13:17:44,754 : INFO : topic #94 (0.010): 0.077*\",\" + 0.046*\"conceptu\" + 0.042*\"stabil\" + 0.036*\"english\" + 0.032*\"fourth\" + 0.030*\"system\" + 0.029*\"region\" + 0.028*\"aspect\" + 0.026*\"-\" + 0.023*\"refer\"\n",
      "2022-02-21 13:17:44,755 : INFO : topic #57 (0.010): 0.144*\"standard\" + 0.092*\"propos\" + 0.079*\"(\" + 0.075*\"american\" + 0.070*\")\" + 0.059*\"circuit\" + 0.051*\"adapt\" + 0.045*\"nation\" + 0.040*\"interchang\" + 0.037*\"inform\"\n",
      "2022-02-21 13:17:44,756 : INFO : topic #79 (0.011): 0.179*\"algorithm\" + 0.173*\"(\" + 0.130*\"[\" + 0.071*\")\" + 0.053*\"])\" + 0.039*\"log\" + 0.038*\"permut\" + 0.022*\"order\" + 0.019*\"function\" + 0.015*\"g6\"\n",
      "2022-02-21 13:17:44,757 : INFO : topic #55 (0.011): 0.261*\"(\" + 0.255*\")\" + 0.226*\"algorithm\" + 0.036*\"integr\" + 0.033*\"weight\" + 0.021*\"matrix\" + 0.015*\"integ\" + 0.013*\"'\" + 0.013*\"arithmet\" + 0.013*\"d1\"\n",
      "2022-02-21 13:17:44,758 : INFO : topic #5 (0.011): 0.103*\",\" + 0.039*\"program\" + 0.030*\"system\" + 0.024*\"-\" + 0.017*\"comput\" + 0.016*\"languag\" + 0.012*\"data\" + 0.011*\"process\" + 0.009*\"\"\" + 0.009*\"structur\"\n",
      "2022-02-21 13:17:44,760 : INFO : topic diff=0.412345, rho=0.526900\n",
      "2022-02-21 13:17:44,767 : INFO : PROGRESS: pass 2, at document #2000/3204\n",
      "2022-02-21 13:17:45,649 : INFO : optimized alpha [0.010004091, 0.010243695, 0.010294304, 0.010344392, 0.010430185, 0.011106756, 0.01063133, 0.009996963, 0.010004521, 0.010129067, 0.009949142, 0.009934581, 0.010022093, 0.010132921, 0.010351238, 0.010153691, 0.0104969395, 0.009878393, 0.010038497, 0.009812552, 0.00981453, 0.0102565335, 0.010197505, 0.0099627655, 0.009968115, 0.009892083, 0.009734074, 0.01000176, 0.010591902, 0.010052194, 0.0101468265, 0.010197097, 0.010011466, 0.010130043, 0.009918782, 0.010040925, 0.010014039, 0.010184409, 0.009740805, 0.00983015, 0.009948562, 0.009883491, 0.0103008235, 0.010096168, 0.010109571, 0.010068365, 0.010486555, 0.010155693, 0.009875699, 0.010323809, 0.010480025, 0.01002971, 0.009898161, 0.010219577, 0.010226936, 0.011782559, 0.010186418, 0.0098412875, 0.009749285, 0.009880353, 0.009982207, 0.010314197, 0.010161077, 0.010104455, 0.0099282535, 0.009823512, 0.010194972, 0.010195382, 0.009932852, 0.01041813, 0.010099281, 0.010322502, 0.010168791, 0.010836818, 0.010139335, 0.010026926, 0.010023279, 0.010420935, 0.010248061, 0.01117826, 0.009640815, 0.009962844, 0.009946828, 0.010001091, 0.009933189, 0.010006642, 0.009796645, 0.010584555, 0.010060018, 0.009649649, 0.010244314, 0.00994923, 0.010369564, 0.009945804, 0.009591569, 0.009930212, 0.01011052, 0.009997316, 0.009798477, 0.009897743]\n",
      "2022-02-21 13:17:45,655 : INFO : merging changes from 2000 documents into a model of 3204 documents\n",
      "2022-02-21 13:17:45,661 : INFO : topic #94 (0.010): 0.068*\",\" + 0.050*\"english\" + 0.037*\"stabil\" + 0.033*\"fourth\" + 0.030*\"system\" + 0.029*\"conceptu\" + 0.028*\"transform\" + 0.027*\"-\" + 0.025*\"region\" + 0.024*\"aspect\"\n",
      "2022-02-21 13:17:45,662 : INFO : topic #80 (0.010): 0.127*\"disk\" + 0.079*\";\" + 0.065*\"algorithm\" + 0.058*\"function\" + 0.053*\"gamma\" + 0.052*\"move\" + 0.039*\"[\" + 0.038*\"-\" + 0.036*\"(\" + 0.027*\"s14\"\n",
      "2022-02-21 13:17:45,663 : INFO : topic #79 (0.011): 0.174*\"algorithm\" + 0.172*\"(\" + 0.154*\"[\" + 0.115*\"])\" + 0.042*\")\" + 0.032*\"permut\" + 0.020*\"order\" + 0.017*\"log\" + 0.017*\"gener\" + 0.017*\"function\"\n",
      "2022-02-21 13:17:45,663 : INFO : topic #5 (0.011): 0.104*\",\" + 0.040*\"program\" + 0.030*\"system\" + 0.023*\"-\" + 0.017*\"languag\" + 0.016*\"comput\" + 0.012*\"data\" + 0.011*\"process\" + 0.010*\"\"\" + 0.009*\"gener\"\n",
      "2022-02-21 13:17:45,665 : INFO : topic #55 (0.012): 0.286*\"(\" + 0.282*\")\" + 0.233*\"algorithm\" + 0.035*\"integr\" + 0.020*\"matrix\" + 0.016*\"weight\" + 0.013*\"invers\" + 0.011*\"'\" + 0.010*\"integ\" + 0.010*\"arithmet\"\n",
      "2022-02-21 13:17:45,666 : INFO : topic diff=0.375306, rho=0.466151\n",
      "2022-02-21 13:17:46,638 : INFO : -6.783 per-word bound, 110.2 perplexity estimate based on a held-out corpus of 1204 documents with 49783 words\n",
      "2022-02-21 13:17:46,638 : INFO : PROGRESS: pass 2, at document #3204/3204\n",
      "2022-02-21 13:17:47,457 : INFO : optimized alpha [0.01014414, 0.010448717, 0.01042775, 0.010617661, 0.010692886, 0.011375808, 0.010922195, 0.010125252, 0.0100841755, 0.010350098, 0.0100480495, 0.010102176, 0.010084567, 0.01035919, 0.010546981, 0.010292447, 0.010773629, 0.010050085, 0.010171057, 0.009915582, 0.00985483, 0.010429727, 0.010311059, 0.009990388, 0.010062105, 0.010000022, 0.009772716, 0.010203433, 0.011018862, 0.010247108, 0.010304626, 0.010343362, 0.010186981, 0.010395715, 0.010065134, 0.010195295, 0.010154257, 0.010355516, 0.009793942, 0.009875674, 0.010059608, 0.00999706, 0.010455981, 0.010258269, 0.010276408, 0.010300704, 0.010794955, 0.010295659, 0.009989924, 0.010607569, 0.010667189, 0.010203337, 0.010013437, 0.010394305, 0.01054399, 0.012488951, 0.010391095, 0.009888636, 0.009818093, 0.010017298, 0.010158103, 0.010592513, 0.010365296, 0.010229941, 0.010038504, 0.009833858, 0.010305244, 0.010478271, 0.010055274, 0.010757045, 0.010268838, 0.010551356, 0.010397993, 0.011363671, 0.010334366, 0.01016067, 0.0100947125, 0.010563986, 0.010514173, 0.011290724, 0.009687097, 0.010122737, 0.010080016, 0.0101570925, 0.010062285, 0.010212796, 0.0099226255, 0.010837009, 0.010151921, 0.00971105, 0.010449868, 0.010027451, 0.010540706, 0.01010653, 0.009593838, 0.009943808, 0.010237497, 0.010137477, 0.00994161, 0.009941293]\n",
      "2022-02-21 13:17:47,463 : INFO : merging changes from 1204 documents into a model of 3204 documents\n",
      "2022-02-21 13:17:47,471 : INFO : topic #94 (0.010): 0.079*\",\" + 0.050*\"conceptu\" + 0.047*\"stabil\" + 0.043*\"english\" + 0.032*\"fourth\" + 0.032*\"region\" + 0.032*\"aspect\" + 0.026*\"system\" + 0.026*\"-\" + 0.026*\"order\"\n",
      "2022-02-21 13:17:47,473 : INFO : topic #80 (0.010): 0.135*\"disk\" + 0.097*\";\" + 0.087*\"move\" + 0.071*\"algorithm\" + 0.057*\"function\" + 0.057*\"gamma\" + 0.037*\"servic\" + 0.035*\"-\" + 0.032*\"spars\" + 0.031*\"summar\"\n",
      "2022-02-21 13:17:47,475 : INFO : topic #73 (0.011): 0.150*\"system\" + 0.090*\",\" + 0.042*\"design\" + 0.040*\"alloc\" + 0.036*\"-\" + 0.030*\"share\" + 0.029*\"comput\" + 0.029*\"dynam\" + 0.026*\"time\" + 0.025*\"hardwar\"\n",
      "2022-02-21 13:17:47,477 : INFO : topic #5 (0.011): 0.107*\",\" + 0.040*\"program\" + 0.031*\"system\" + 0.022*\"-\" + 0.015*\"languag\" + 0.015*\"comput\" + 0.012*\"process\" + 0.011*\"queue\" + 0.011*\"data\" + 0.011*\";\"\n",
      "2022-02-21 13:17:47,478 : INFO : topic #55 (0.012): 0.312*\"(\" + 0.298*\")\" + 0.227*\"algorithm\" + 0.027*\"integr\" + 0.023*\"weight\" + 0.017*\"matrix\" + 0.011*\"'\" + 0.009*\"integ\" + 0.009*\"invers\" + 0.008*\"d1\"\n",
      "2022-02-21 13:17:47,482 : INFO : topic diff=0.501802, rho=0.466151\n",
      "2022-02-21 13:17:47,491 : INFO : PROGRESS: pass 3, at document #2000/3204\n",
      "2022-02-21 13:17:48,571 : INFO : optimized alpha [0.010193918, 0.01042025, 0.010431587, 0.010628335, 0.010755483, 0.011331268, 0.010977272, 0.010114471, 0.0103344545, 0.010336838, 0.009985284, 0.01013446, 0.010157035, 0.0103556095, 0.010638247, 0.010379571, 0.010791255, 0.01012431, 0.010189989, 0.009901952, 0.009891518, 0.010453661, 0.010294281, 0.010156674, 0.010063066, 0.00998201, 0.009781904, 0.010304205, 0.011237456, 0.0103618195, 0.010403955, 0.010331221, 0.010196896, 0.0104977125, 0.0100559695, 0.010155916, 0.010175635, 0.010327573, 0.009796303, 0.009879427, 0.009988012, 0.0099646645, 0.010430205, 0.010246655, 0.010213829, 0.010243998, 0.010834443, 0.010384882, 0.010017123, 0.010787928, 0.010723031, 0.010266279, 0.009966425, 0.010354006, 0.010665498, 0.013559233, 0.010416414, 0.010056656, 0.009839165, 0.010002227, 0.010396089, 0.010595533, 0.010353593, 0.010253868, 0.0101414155, 0.009993181, 0.01030206, 0.010411109, 0.010072301, 0.01076698, 0.010206186, 0.010549055, 0.010412783, 0.0115462355, 0.0103758685, 0.010154165, 0.010059923, 0.010589949, 0.010455322, 0.011735446, 0.0096450765, 0.01020303, 0.010016269, 0.010191251, 0.010097409, 0.01029444, 0.009912869, 0.010770256, 0.010135602, 0.009714279, 0.010442126, 0.010030961, 0.010543686, 0.010148267, 0.009563568, 0.009872656, 0.010215646, 0.010397279, 0.009981687, 0.00999243]\n",
      "2022-02-21 13:17:48,578 : INFO : merging changes from 2000 documents into a model of 3204 documents\n",
      "2022-02-21 13:17:48,584 : INFO : topic #94 (0.010): 0.072*\",\" + 0.055*\"english\" + 0.040*\"stabil\" + 0.034*\"conceptu\" + 0.032*\"fourth\" + 0.032*\"transform\" + 0.030*\"region\" + 0.027*\"aspect\" + 0.027*\"dictionari\" + 0.026*\"-\"\n",
      "2022-02-21 13:17:48,585 : INFO : topic #80 (0.010): 0.148*\"disk\" + 0.094*\";\" + 0.068*\"move\" + 0.060*\"algorithm\" + 0.059*\"function\" + 0.056*\"gamma\" + 0.035*\"-\" + 0.030*\"[\" + 0.029*\"summar\" + 0.027*\"servic\"\n",
      "2022-02-21 13:17:48,586 : INFO : topic #73 (0.012): 0.153*\"system\" + 0.088*\",\" + 0.038*\"design\" + 0.038*\"alloc\" + 0.038*\"-\" + 0.032*\"share\" + 0.031*\"comput\" + 0.029*\"time\" + 0.026*\"storag\" + 0.026*\"dynam\"\n",
      "2022-02-21 13:17:48,588 : INFO : topic #79 (0.012): 0.175*\"algorithm\" + 0.172*\"(\" + 0.165*\"[\" + 0.129*\"])\" + 0.037*\"permut\" + 0.029*\")\" + 0.022*\"order\" + 0.020*\"gener\" + 0.017*\"log\" + 0.017*\"g6\"\n",
      "2022-02-21 13:17:48,589 : INFO : topic #55 (0.014): 0.320*\"(\" + 0.311*\")\" + 0.229*\"algorithm\" + 0.028*\"integr\" + 0.016*\"matrix\" + 0.014*\"weight\" + 0.010*\"invers\" + 0.009*\"'\" + 0.007*\"polynomi\" + 0.007*\"integ\"\n",
      "2022-02-21 13:17:48,590 : INFO : topic diff=0.510363, rho=0.422502\n",
      "2022-02-21 13:17:49,800 : INFO : -6.706 per-word bound, 104.4 perplexity estimate based on a held-out corpus of 1204 documents with 49783 words\n",
      "2022-02-21 13:17:49,801 : INFO : PROGRESS: pass 3, at document #3204/3204\n",
      "2022-02-21 13:17:50,714 : INFO : optimized alpha [0.010347027, 0.010633959, 0.010564395, 0.010891329, 0.011051505, 0.011557213, 0.01128087, 0.010249612, 0.010423557, 0.010546958, 0.010083427, 0.0103490185, 0.0102356, 0.010577883, 0.010824893, 0.01050243, 0.011053305, 0.010378465, 0.010321831, 0.010020813, 0.009942728, 0.010608406, 0.01040574, 0.010198407, 0.010159766, 0.010087926, 0.009838717, 0.010540674, 0.011694796, 0.010562909, 0.0105886655, 0.010461383, 0.010393433, 0.010780047, 0.010193719, 0.010318752, 0.010326042, 0.010520984, 0.009852061, 0.009932203, 0.010086126, 0.0100865355, 0.010575549, 0.010427327, 0.010362835, 0.010479097, 0.011118813, 0.010512641, 0.0101674255, 0.011085402, 0.010871418, 0.010454041, 0.010086279, 0.010539868, 0.010978434, 0.014451678, 0.010629809, 0.010148199, 0.009930137, 0.010131074, 0.010593742, 0.010859173, 0.010529631, 0.0103613185, 0.01027772, 0.010037099, 0.010395461, 0.010693022, 0.01019843, 0.01108783, 0.010350466, 0.010792936, 0.010630601, 0.0120781055, 0.010550668, 0.010305129, 0.010136622, 0.010731811, 0.010714562, 0.011771607, 0.00971916, 0.010378058, 0.010148961, 0.010362772, 0.0102334535, 0.010534741, 0.0100667905, 0.011024299, 0.010234189, 0.009805122, 0.010641444, 0.010106169, 0.010685158, 0.010313432, 0.009584595, 0.009904727, 0.01034984, 0.01057967, 0.010133698, 0.01004984]\n",
      "2022-02-21 13:17:50,720 : INFO : merging changes from 1204 documents into a model of 3204 documents\n",
      "2022-02-21 13:17:50,726 : INFO : topic #94 (0.010): 0.081*\",\" + 0.049*\"conceptu\" + 0.049*\"region\" + 0.048*\"english\" + 0.046*\"stabil\" + 0.038*\"order\" + 0.034*\"aspect\" + 0.030*\"fourth\" + 0.026*\"transform\" + 0.024*\"dictionari\"\n",
      "2022-02-21 13:17:50,727 : INFO : topic #80 (0.010): 0.146*\"disk\" + 0.118*\";\" + 0.096*\"move\" + 0.061*\"algorithm\" + 0.057*\"gamma\" + 0.054*\"function\" + 0.038*\"servic\" + 0.038*\"spars\" + 0.037*\"sequenti\" + 0.035*\"-\"\n",
      "2022-02-21 13:17:50,729 : INFO : topic #79 (0.012): 0.178*\"algorithm\" + 0.171*\"(\" + 0.153*\"[\" + 0.097*\"])\" + 0.059*\"permut\" + 0.034*\")\" + 0.030*\"log\" + 0.023*\"order\" + 0.022*\"gener\" + 0.019*\"g6\"\n",
      "2022-02-21 13:17:50,731 : INFO : topic #73 (0.012): 0.160*\"system\" + 0.092*\",\" + 0.044*\"design\" + 0.040*\"alloc\" + 0.037*\"-\" + 0.030*\"share\" + 0.029*\"comput\" + 0.027*\"dynam\" + 0.027*\"time\" + 0.026*\"oper\"\n",
      "2022-02-21 13:17:50,733 : INFO : topic #55 (0.014): 0.341*\"(\" + 0.323*\")\" + 0.217*\"algorithm\" + 0.022*\"integr\" + 0.018*\"weight\" + 0.014*\"matrix\" + 0.009*\"'\" + 0.007*\"integ\" + 0.006*\"invers\" + 0.006*\"polynomi\"\n",
      "2022-02-21 13:17:50,735 : INFO : topic diff=0.627073, rho=0.422502\n",
      "2022-02-21 13:17:50,742 : INFO : PROGRESS: pass 4, at document #2000/3204\n",
      "2022-02-21 13:17:51,583 : INFO : optimized alpha [0.01039894, 0.010608596, 0.010580274, 0.010901757, 0.011101659, 0.01152661, 0.011352837, 0.010241508, 0.010675699, 0.010550289, 0.010036294, 0.010382074, 0.010327152, 0.010579553, 0.010937051, 0.010595514, 0.01107672, 0.010467062, 0.010341231, 0.01001427, 0.0100123305, 0.010636558, 0.010412894, 0.010361744, 0.010168965, 0.010089262, 0.009867091, 0.010644419, 0.01193376, 0.010708819, 0.010697482, 0.010450116, 0.010422014, 0.010880621, 0.010187185, 0.010292075, 0.010359925, 0.010506853, 0.009864626, 0.00994807, 0.010040912, 0.010070678, 0.010553624, 0.010438369, 0.010309277, 0.010439725, 0.0111691225, 0.010618267, 0.010222085, 0.011285259, 0.010929366, 0.010528433, 0.010057118, 0.010514445, 0.011101775, 0.015666092, 0.010662737, 0.010327287, 0.009969335, 0.010113073, 0.010841419, 0.0108688595, 0.010532684, 0.010381445, 0.010401632, 0.010213556, 0.01039905, 0.010649624, 0.0102239335, 0.011112156, 0.010298903, 0.010810626, 0.010657841, 0.012261468, 0.010596895, 0.010304944, 0.010103326, 0.010766178, 0.010673104, 0.012210615, 0.009692633, 0.010486981, 0.010102425, 0.010406048, 0.010297942, 0.010645035, 0.0100673465, 0.010969721, 0.010231595, 0.009816138, 0.010637692, 0.010117775, 0.010696153, 0.010355814, 0.009563822, 0.009856932, 0.0103439605, 0.01087078, 0.010178537, 0.010095549]\n",
      "2022-02-21 13:17:51,589 : INFO : merging changes from 2000 documents into a model of 3204 documents\n",
      "2022-02-21 13:17:51,595 : INFO : topic #94 (0.010): 0.074*\",\" + 0.060*\"english\" + 0.041*\"region\" + 0.040*\"stabil\" + 0.036*\"conceptu\" + 0.035*\"order\" + 0.031*\"fourth\" + 0.030*\"transform\" + 0.029*\"aspect\" + 0.028*\"dictionari\"\n",
      "2022-02-21 13:17:51,596 : INFO : topic #80 (0.010): 0.162*\"disk\" + 0.112*\";\" + 0.078*\"move\" + 0.055*\"gamma\" + 0.054*\"function\" + 0.052*\"algorithm\" + 0.037*\"argument\" + 0.035*\"-\" + 0.034*\"sequenti\" + 0.031*\"spars\"\n",
      "2022-02-21 13:17:51,598 : INFO : topic #79 (0.012): 0.177*\"algorithm\" + 0.173*\"(\" + 0.171*\"[\" + 0.139*\"])\" + 0.044*\"permut\" + 0.022*\"order\" + 0.022*\"gener\" + 0.020*\")\" + 0.018*\"g6\" + 0.017*\"fourier\"\n",
      "2022-02-21 13:17:51,599 : INFO : topic #73 (0.012): 0.163*\"system\" + 0.090*\",\" + 0.041*\"design\" + 0.039*\"-\" + 0.038*\"alloc\" + 0.032*\"share\" + 0.032*\"comput\" + 0.030*\"time\" + 0.026*\"storag\" + 0.025*\"oper\"\n",
      "2022-02-21 13:17:51,601 : INFO : topic #55 (0.016): 0.344*\"(\" + 0.332*\")\" + 0.220*\"algorithm\" + 0.024*\"integr\" + 0.012*\"weight\" + 0.012*\"matrix\" + 0.007*\"'\" + 0.007*\"polynomi\" + 0.005*\"invers\" + 0.005*\"integ\"\n",
      "2022-02-21 13:17:51,603 : INFO : topic diff=0.610002, rho=0.389191\n",
      "2022-02-21 13:17:52,525 : INFO : -6.650 per-word bound, 100.5 perplexity estimate based on a held-out corpus of 1204 documents with 49783 words\n",
      "2022-02-21 13:17:52,526 : INFO : PROGRESS: pass 4, at document #3204/3204\n",
      "2022-02-21 13:17:53,283 : INFO : optimized alpha [0.010541279, 0.010821725, 0.010710414, 0.011158656, 0.011376085, 0.01174845, 0.011649075, 0.01037372, 0.010767276, 0.010773963, 0.010127789, 0.010616714, 0.010436858, 0.010804107, 0.011118068, 0.0107333725, 0.011296143, 0.01077392, 0.010470531, 0.010144297, 0.010069629, 0.010773576, 0.010526774, 0.010406101, 0.010268858, 0.010177933, 0.009936314, 0.01088699, 0.01242259, 0.010910587, 0.010894129, 0.010578057, 0.0106052635, 0.011184664, 0.010338636, 0.010446963, 0.010534008, 0.010707945, 0.009923281, 0.009991062, 0.010161925, 0.010197405, 0.010695611, 0.010637265, 0.010461426, 0.0106760105, 0.011457151, 0.010750518, 0.010395018, 0.01158483, 0.011091908, 0.0107241785, 0.01017847, 0.010711822, 0.011414551, 0.016781062, 0.010875777, 0.010434906, 0.010060356, 0.010239545, 0.011036715, 0.011108413, 0.010716971, 0.010494845, 0.010562099, 0.010276611, 0.010485986, 0.010923638, 0.010361036, 0.011406335, 0.0104430895, 0.011067013, 0.010861079, 0.012744302, 0.010759242, 0.010445306, 0.010158487, 0.010883725, 0.010915164, 0.01221891, 0.009774485, 0.0106501365, 0.010225814, 0.010565718, 0.010431074, 0.010880653, 0.010226867, 0.011210243, 0.01032674, 0.009913461, 0.010823497, 0.010200908, 0.010834511, 0.010526421, 0.009612789, 0.00989462, 0.0104754465, 0.011072266, 0.010319896, 0.010158522]\n",
      "2022-02-21 13:17:53,289 : INFO : merging changes from 1204 documents into a model of 3204 documents\n",
      "2022-02-21 13:17:53,295 : INFO : topic #94 (0.010): 0.081*\",\" + 0.066*\"region\" + 0.052*\"english\" + 0.046*\"order\" + 0.046*\"conceptu\" + 0.044*\"stabil\" + 0.031*\"aspect\" + 0.028*\"fourth\" + 0.026*\"transform\" + 0.026*\"close\"\n",
      "2022-02-21 13:17:53,296 : INFO : topic #80 (0.010): 0.156*\"disk\" + 0.128*\";\" + 0.102*\"move\" + 0.057*\"gamma\" + 0.053*\"function\" + 0.052*\"algorithm\" + 0.044*\"sequenti\" + 0.043*\"spars\" + 0.039*\"servic\" + 0.038*\"argument\"\n",
      "2022-02-21 13:17:53,297 : INFO : topic #28 (0.012): 0.232*\"problem\" + 0.102*\"solut\" + 0.078*\"equat\" + 0.041*\"numer\" + 0.040*\"solv\" + 0.039*\"comput\" + 0.039*\"method\" + 0.033*\"linear\" + 0.032*\"differenti\" + 0.027*\"program\"\n",
      "2022-02-21 13:17:53,298 : INFO : topic #73 (0.013): 0.167*\"system\" + 0.094*\",\" + 0.046*\"design\" + 0.040*\"alloc\" + 0.037*\"-\" + 0.030*\"share\" + 0.030*\"comput\" + 0.028*\"time\" + 0.028*\"oper\" + 0.026*\"dynam\"\n",
      "2022-02-21 13:17:53,298 : INFO : topic #55 (0.017): 0.363*\"(\" + 0.339*\")\" + 0.206*\"algorithm\" + 0.019*\"integr\" + 0.016*\"weight\" + 0.011*\"matrix\" + 0.007*\"'\" + 0.005*\"polynomi\" + 0.005*\"integ\" + 0.004*\"invers\"\n",
      "2022-02-21 13:17:53,299 : INFO : topic diff=0.675128, rho=0.389191\n",
      "2022-02-21 13:17:53,307 : INFO : PROGRESS: pass 5, at document #2000/3204\n",
      "2022-02-21 13:17:54,174 : INFO : optimized alpha [0.0105975475, 0.010812699, 0.010733072, 0.011189555, 0.011417607, 0.011723171, 0.011728541, 0.010377412, 0.011019257, 0.010783932, 0.010093738, 0.010660338, 0.010544028, 0.010804633, 0.011223562, 0.010828592, 0.011315095, 0.01089399, 0.010496255, 0.010145531, 0.010148237, 0.010805755, 0.010547149, 0.010575614, 0.010283349, 0.010179618, 0.009970522, 0.01100845, 0.012670408, 0.011064487, 0.011008464, 0.010571398, 0.010643124, 0.011282745, 0.0103397975, 0.010427434, 0.01059649, 0.010695764, 0.009946548, 0.010004787, 0.010123803, 0.010190098, 0.01067694, 0.0106681995, 0.010415205, 0.010647609, 0.011515353, 0.0108636385, 0.010483945, 0.011836652, 0.011148066, 0.01078991, 0.0101514, 0.010699091, 0.011544831, 0.018185455, 0.01091377, 0.010606682, 0.010100986, 0.010224642, 0.0112837255, 0.011124385, 0.01071533, 0.01050414, 0.010688674, 0.010449412, 0.010482034, 0.010885155, 0.010394234, 0.011425406, 0.010395025, 0.011096604, 0.010887923, 0.012922983, 0.01080805, 0.010456386, 0.010128378, 0.010915926, 0.010876998, 0.012642335, 0.009757404, 0.010778166, 0.010192028, 0.010611874, 0.010499231, 0.011004145, 0.010238222, 0.01116001, 0.010324599, 0.009931212, 0.010841277, 0.010219538, 0.010844684, 0.010565828, 0.009610089, 0.009856952, 0.0104795955, 0.011373865, 0.010371144, 0.010214634]\n",
      "2022-02-21 13:17:54,180 : INFO : merging changes from 2000 documents into a model of 3204 documents\n",
      "2022-02-21 13:17:54,187 : INFO : topic #94 (0.010): 0.075*\",\" + 0.064*\"english\" + 0.060*\"region\" + 0.043*\"order\" + 0.038*\"stabil\" + 0.034*\"conceptu\" + 0.033*\"word\" + 0.028*\"fourth\" + 0.028*\"transform\" + 0.028*\"aspect\"\n",
      "2022-02-21 13:17:54,188 : INFO : topic #80 (0.010): 0.169*\"disk\" + 0.126*\";\" + 0.085*\"move\" + 0.055*\"gamma\" + 0.051*\"function\" + 0.045*\"argument\" + 0.044*\"algorithm\" + 0.039*\"sequenti\" + 0.035*\"spars\" + 0.033*\"summar\"\n",
      "2022-02-21 13:17:54,189 : INFO : topic #79 (0.013): 0.178*\"algorithm\" + 0.174*\"[\" + 0.174*\"(\" + 0.146*\"])\" + 0.049*\"permut\" + 0.023*\"gener\" + 0.022*\"order\" + 0.018*\"g6\" + 0.018*\"fourier\" + 0.014*\"-\"\n",
      "2022-02-21 13:17:54,191 : INFO : topic #73 (0.013): 0.169*\"system\" + 0.091*\",\" + 0.043*\"design\" + 0.038*\"-\" + 0.038*\"alloc\" + 0.033*\"comput\" + 0.031*\"share\" + 0.031*\"time\" + 0.027*\"oper\" + 0.026*\"storag\"\n",
      "2022-02-21 13:17:54,193 : INFO : topic #55 (0.018): 0.362*\"(\" + 0.346*\")\" + 0.210*\"algorithm\" + 0.021*\"integr\" + 0.011*\"weight\" + 0.009*\"matrix\" + 0.007*\"polynomi\" + 0.006*\"'\" + 0.004*\"integ\" + 0.003*\"jacobi\"\n",
      "2022-02-21 13:17:54,194 : INFO : topic diff=0.620043, rho=0.362690\n",
      "2022-02-21 13:17:55,199 : INFO : -6.612 per-word bound, 97.8 perplexity estimate based on a held-out corpus of 1204 documents with 49783 words\n",
      "2022-02-21 13:17:55,200 : INFO : PROGRESS: pass 5, at document #3204/3204\n",
      "2022-02-21 13:17:55,951 : INFO : optimized alpha [0.01072505, 0.011033436, 0.010861934, 0.011453214, 0.011677888, 0.0119430255, 0.0120531265, 0.010504955, 0.011110597, 0.011021634, 0.010186169, 0.010902293, 0.010675618, 0.011019826, 0.01144156, 0.0109680025, 0.0115184635, 0.0112269195, 0.010621101, 0.010270996, 0.0102204, 0.010937867, 0.010673712, 0.010616212, 0.010380331, 0.010263124, 0.01005378, 0.011258779, 0.01315995, 0.01127552, 0.011217776, 0.010707882, 0.010848106, 0.011585975, 0.010495085, 0.010573094, 0.010803033, 0.010895418, 0.009995839, 0.010042559, 0.010259368, 0.010327949, 0.010813724, 0.010868951, 0.010577587, 0.010880552, 0.011840635, 0.010991111, 0.010669279, 0.012148483, 0.011317756, 0.01097478, 0.010287427, 0.010908168, 0.011843068, 0.01954074, 0.011121638, 0.010720016, 0.01018658, 0.010343742, 0.0114784585, 0.011374624, 0.010882638, 0.010617198, 0.01086266, 0.010536273, 0.010560824, 0.0111477375, 0.010551637, 0.011697223, 0.010521295, 0.011329299, 0.011076298, 0.013404658, 0.010967206, 0.010601185, 0.010177715, 0.011023021, 0.011118678, 0.012633543, 0.009837572, 0.0109353205, 0.010305141, 0.010768615, 0.010640351, 0.011230714, 0.010397925, 0.011386864, 0.010414264, 0.010022868, 0.011033003, 0.010304062, 0.010968192, 0.010746035, 0.009677134, 0.00989944, 0.010600142, 0.011594998, 0.010516827, 0.010283017]\n",
      "2022-02-21 13:17:55,957 : INFO : merging changes from 1204 documents into a model of 3204 documents\n",
      "2022-02-21 13:17:55,964 : INFO : topic #94 (0.010): 0.080*\",\" + 0.076*\"region\" + 0.059*\"order\" + 0.054*\"english\" + 0.043*\"conceptu\" + 0.041*\"stabil\" + 0.032*\"close\" + 0.029*\"syntact\" + 0.028*\"word\" + 0.026*\"fourth\"\n",
      "2022-02-21 13:17:55,965 : INFO : topic #80 (0.010): 0.164*\"disk\" + 0.140*\";\" + 0.105*\"move\" + 0.057*\"gamma\" + 0.051*\"function\" + 0.046*\"sequenti\" + 0.045*\"argument\" + 0.045*\"spars\" + 0.044*\"algorithm\" + 0.039*\"servic\"\n",
      "2022-02-21 13:17:55,966 : INFO : topic #28 (0.013): 0.244*\"problem\" + 0.107*\"solut\" + 0.081*\"equat\" + 0.043*\"solv\" + 0.041*\"numer\" + 0.039*\"method\" + 0.038*\"comput\" + 0.032*\"linear\" + 0.031*\"differenti\" + 0.028*\"program\"\n",
      "2022-02-21 13:17:55,968 : INFO : topic #73 (0.013): 0.172*\"system\" + 0.094*\",\" + 0.046*\"design\" + 0.041*\"alloc\" + 0.037*\"-\" + 0.031*\"comput\" + 0.030*\"oper\" + 0.030*\"share\" + 0.029*\"time\" + 0.026*\"hardwar\"\n",
      "2022-02-21 13:17:55,969 : INFO : topic #55 (0.020): 0.379*\"(\" + 0.350*\")\" + 0.198*\"algorithm\" + 0.017*\"integr\" + 0.015*\"weight\" + 0.008*\"matrix\" + 0.005*\"polynomi\" + 0.005*\"'\" + 0.004*\"integ\" + 0.003*\"jacobi\"\n",
      "2022-02-21 13:17:55,971 : INFO : topic diff=0.644400, rho=0.362690\n",
      "2022-02-21 13:17:55,978 : INFO : PROGRESS: pass 6, at document #2000/3204\n",
      "2022-02-21 13:17:56,854 : INFO : optimized alpha [0.01078565, 0.011029688, 0.010892609, 0.011489238, 0.011707834, 0.011928725, 0.012135893, 0.010513805, 0.0113527905, 0.011039491, 0.010163368, 0.01095219, 0.010784943, 0.011015636, 0.011553322, 0.011061986, 0.011533625, 0.011345094, 0.010645444, 0.010279261, 0.010295229, 0.010989105, 0.010705885, 0.010777963, 0.010408505, 0.010266884, 0.0100984685, 0.011395595, 0.0134245455, 0.011432121, 0.011345721, 0.010701608, 0.010890748, 0.011682427, 0.010506795, 0.010559965, 0.010871309, 0.010885106, 0.010016663, 0.010064895, 0.010235823, 0.01032102, 0.010801712, 0.0109124705, 0.01053745, 0.01087122, 0.01190245, 0.011115574, 0.010773731, 0.012421358, 0.011384065, 0.011040469, 0.010263612, 0.010897206, 0.011968841, 0.021117482, 0.011160762, 0.010893531, 0.01023748, 0.010328002, 0.011722503, 0.011392598, 0.010884448, 0.010626067, 0.010994451, 0.010721278, 0.010563098, 0.011121225, 0.010590044, 0.01171977, 0.010478074, 0.011356477, 0.01109929, 0.013589149, 0.011020631, 0.010611425, 0.010146957, 0.011053618, 0.011083271, 0.013048681, 0.009830333, 0.011064892, 0.010284256, 0.010810321, 0.010719532, 0.011363603, 0.010417233, 0.011344377, 0.010430617, 0.010039929, 0.011054998, 0.010323735, 0.010992911, 0.010788437, 0.009680107, 0.00987709, 0.01061147, 0.011899286, 0.010567089, 0.010338138]\n",
      "2022-02-21 13:17:56,860 : INFO : merging changes from 2000 documents into a model of 3204 documents\n",
      "2022-02-21 13:17:56,867 : INFO : topic #94 (0.010): 0.075*\",\" + 0.069*\"region\" + 0.065*\"english\" + 0.054*\"order\" + 0.045*\"word\" + 0.036*\"stabil\" + 0.033*\"conceptu\" + 0.031*\"syntact\" + 0.028*\"close\" + 0.027*\"dictionari\"\n",
      "2022-02-21 13:17:56,868 : INFO : topic #80 (0.010): 0.175*\"disk\" + 0.140*\";\" + 0.088*\"move\" + 0.055*\"gamma\" + 0.052*\"argument\" + 0.048*\"function\" + 0.042*\"sequenti\" + 0.037*\"spars\" + 0.037*\"algorithm\" + 0.033*\"summar\"\n",
      "2022-02-21 13:17:56,870 : INFO : topic #28 (0.013): 0.230*\"problem\" + 0.108*\"solut\" + 0.088*\"equat\" + 0.050*\"numer\" + 0.042*\"method\" + 0.040*\"solv\" + 0.038*\"comput\" + 0.033*\"differenti\" + 0.030*\"linear\" + 0.027*\"program\"\n",
      "2022-02-21 13:17:56,872 : INFO : topic #73 (0.014): 0.174*\"system\" + 0.093*\",\" + 0.043*\"design\" + 0.039*\"alloc\" + 0.038*\"-\" + 0.033*\"comput\" + 0.031*\"time\" + 0.031*\"share\" + 0.030*\"oper\" + 0.027*\"storag\"\n",
      "2022-02-21 13:17:56,873 : INFO : topic #55 (0.021): 0.375*\"(\" + 0.354*\")\" + 0.203*\"algorithm\" + 0.019*\"integr\" + 0.011*\"weight\" + 0.007*\"polynomi\" + 0.006*\"matrix\" + 0.004*\"'\" + 0.003*\"integ\" + 0.003*\"jacobi\"\n",
      "2022-02-21 13:17:56,874 : INFO : topic diff=0.573129, rho=0.340958\n",
      "2022-02-21 13:17:57,828 : INFO : -6.580 per-word bound, 95.6 perplexity estimate based on a held-out corpus of 1204 documents with 49783 words\n",
      "2022-02-21 13:17:57,828 : INFO : PROGRESS: pass 6, at document #3204/3204\n",
      "2022-02-21 13:17:58,587 : INFO : optimized alpha [0.010906586, 0.011243109, 0.011011668, 0.011747821, 0.011942993, 0.012144732, 0.012454543, 0.01063786, 0.011444567, 0.011282256, 0.010254171, 0.011249232, 0.010922044, 0.011223573, 0.011774587, 0.011197346, 0.011710479, 0.011689151, 0.010766895, 0.01041604, 0.010348873, 0.011130116, 0.01084758, 0.010812407, 0.010503453, 0.0103520695, 0.010180325, 0.011658396, 0.013925523, 0.011627022, 0.011561589, 0.010834239, 0.011082941, 0.011980116, 0.0106784655, 0.01068903, 0.011074946, 0.011097137, 0.010069396, 0.010112534, 0.0103792595, 0.010460793, 0.01092527, 0.011110104, 0.0106887175, 0.011118069, 0.012237966, 0.011223462, 0.010962568, 0.012747021, 0.011561216, 0.0112228105, 0.010407477, 0.011102577, 0.012258332, 0.02263677, 0.01134924, 0.011016028, 0.010324395, 0.010444053, 0.01190475, 0.011628105, 0.011052759, 0.010736362, 0.011169448, 0.010818142, 0.010634944, 0.011387582, 0.010745716, 0.01198935, 0.010600883, 0.011581519, 0.011275332, 0.014045523, 0.011187233, 0.010758055, 0.010203153, 0.0111519685, 0.011322916, 0.013031957, 0.009903707, 0.011239394, 0.010403418, 0.010959144, 0.010859714, 0.011583245, 0.010578094, 0.011576379, 0.010521745, 0.010144007, 0.011240678, 0.010409848, 0.011119574, 0.010966116, 0.009757682, 0.009943567, 0.0107259005, 0.012141025, 0.010705459, 0.010402913]\n",
      "2022-02-21 13:17:58,593 : INFO : merging changes from 1204 documents into a model of 3204 documents\n",
      "2022-02-21 13:17:58,598 : INFO : topic #94 (0.010): 0.080*\"region\" + 0.078*\",\" + 0.073*\"order\" + 0.057*\"english\" + 0.041*\"conceptu\" + 0.038*\"stabil\" + 0.037*\"word\" + 0.036*\"close\" + 0.034*\"syntact\" + 0.025*\"fourth\"\n",
      "2022-02-21 13:17:58,599 : INFO : topic #80 (0.010): 0.172*\"disk\" + 0.150*\";\" + 0.108*\"move\" + 0.058*\"gamma\" + 0.050*\"argument\" + 0.048*\"sequenti\" + 0.047*\"function\" + 0.046*\"spars\" + 0.040*\"servic\" + 0.037*\"algorithm\"\n",
      "2022-02-21 13:17:58,600 : INFO : topic #28 (0.014): 0.253*\"problem\" + 0.111*\"solut\" + 0.084*\"equat\" + 0.045*\"solv\" + 0.040*\"numer\" + 0.039*\"method\" + 0.037*\"comput\" + 0.032*\"linear\" + 0.031*\"differenti\" + 0.029*\"program\"\n",
      "2022-02-21 13:17:58,601 : INFO : topic #73 (0.014): 0.176*\"system\" + 0.095*\",\" + 0.046*\"design\" + 0.042*\"alloc\" + 0.036*\"-\" + 0.032*\"oper\" + 0.031*\"comput\" + 0.029*\"time\" + 0.029*\"share\" + 0.026*\"hardwar\"\n",
      "2022-02-21 13:17:58,602 : INFO : topic #55 (0.023): 0.391*\"(\" + 0.358*\")\" + 0.189*\"algorithm\" + 0.016*\"integr\" + 0.014*\"weight\" + 0.006*\"polynomi\" + 0.005*\"matrix\" + 0.003*\"'\" + 0.003*\"integ\" + 0.003*\"jacobi\"\n",
      "2022-02-21 13:17:58,603 : INFO : topic diff=0.579144, rho=0.340958\n",
      "2022-02-21 13:17:58,612 : INFO : PROGRESS: pass 7, at document #2000/3204\n",
      "2022-02-21 13:17:59,486 : INFO : optimized alpha [0.01096263, 0.011244241, 0.011046247, 0.011781239, 0.011968628, 0.0121363215, 0.012536859, 0.010654936, 0.011684164, 0.0113185635, 0.010234652, 0.01130674, 0.01103927, 0.011231527, 0.011889017, 0.011281839, 0.0117283, 0.01181541, 0.010790044, 0.010433999, 0.010428945, 0.01118437, 0.01090281, 0.010969373, 0.010539055, 0.010357651, 0.010233058, 0.011791735, 0.014205967, 0.011796475, 0.011695564, 0.010831804, 0.011130309, 0.0120755145, 0.010691016, 0.010676599, 0.0111417025, 0.011090121, 0.010099521, 0.010135961, 0.010368593, 0.010454139, 0.01092283, 0.011162012, 0.010650552, 0.011102627, 0.012307469, 0.011344546, 0.011074948, 0.013025552, 0.011627962, 0.011288843, 0.010391516, 0.011096823, 0.012382493, 0.02438175, 0.0113916695, 0.011184957, 0.0103965625, 0.010430878, 0.012148838, 0.011651718, 0.011050541, 0.010750213, 0.011297765, 0.0109912325, 0.010641103, 0.011360877, 0.010785647, 0.012005636, 0.010560153, 0.011619731, 0.011307831, 0.014232031, 0.011244976, 0.010774586, 0.010176626, 0.011173936, 0.011293584, 0.01342418, 0.009895715, 0.01138738, 0.010387078, 0.01100054, 0.010940715, 0.011712609, 0.010604878, 0.011542514, 0.010542704, 0.010166908, 0.011277732, 0.010428866, 0.01115042, 0.01101502, 0.009784524, 0.009926318, 0.010747321, 0.012443871, 0.010760222, 0.010452403]\n",
      "2022-02-21 13:17:59,492 : INFO : merging changes from 2000 documents into a model of 3204 documents\n",
      "2022-02-21 13:17:59,497 : INFO : topic #94 (0.010): 0.074*\"order\" + 0.073*\",\" + 0.071*\"region\" + 0.065*\"english\" + 0.053*\"word\" + 0.035*\"syntact\" + 0.034*\"stabil\" + 0.033*\"close\" + 0.032*\"conceptu\" + 0.026*\"dictionari\"\n",
      "2022-02-21 13:17:59,498 : INFO : topic #95 (0.010): 0.134*\"-\" + 0.063*\",\" + 0.035*\"machin\" + 0.032*\"architectur\" + 0.029*\"start\" + 0.026*\"bank\" + 0.025*\"program\" + 0.022*\"human\" + 0.019*\"(\" + 0.017*\"ratio\"\n",
      "2022-02-21 13:17:59,500 : INFO : topic #73 (0.014): 0.178*\"system\" + 0.094*\",\" + 0.043*\"design\" + 0.040*\"alloc\" + 0.037*\"-\" + 0.032*\"comput\" + 0.032*\"oper\" + 0.031*\"time\" + 0.030*\"share\" + 0.027*\"storag\"\n",
      "2022-02-21 13:17:59,500 : INFO : topic #28 (0.014): 0.239*\"problem\" + 0.111*\"solut\" + 0.090*\"equat\" + 0.049*\"numer\" + 0.042*\"solv\" + 0.041*\"method\" + 0.037*\"comput\" + 0.032*\"differenti\" + 0.030*\"linear\" + 0.029*\"-\"\n",
      "2022-02-21 13:17:59,502 : INFO : topic #55 (0.024): 0.385*\"(\" + 0.361*\")\" + 0.196*\"algorithm\" + 0.018*\"integr\" + 0.010*\"weight\" + 0.007*\"polynomi\" + 0.004*\"matrix\" + 0.003*\"jacobi\" + 0.003*\"'\" + 0.002*\"integ\"\n",
      "2022-02-21 13:17:59,503 : INFO : topic diff=0.507619, rho=0.322715\n",
      "2022-02-21 13:18:00,537 : INFO : -6.555 per-word bound, 94.0 perplexity estimate based on a held-out corpus of 1204 documents with 49783 words\n",
      "2022-02-21 13:18:00,538 : INFO : PROGRESS: pass 7, at document #3204/3204\n",
      "2022-02-21 13:18:01,334 : INFO : optimized alpha [0.011075274, 0.011451941, 0.011157058, 0.012052428, 0.012197683, 0.012356549, 0.012848239, 0.010784982, 0.011773787, 0.011573591, 0.010329823, 0.011658515, 0.011182182, 0.011442905, 0.012114547, 0.011411114, 0.011878411, 0.012162741, 0.010908959, 0.010573457, 0.010491326, 0.01132842, 0.0110620605, 0.011010253, 0.0106354235, 0.010447499, 0.010327855, 0.012058467, 0.0147134, 0.011996238, 0.011919057, 0.010967458, 0.011323586, 0.012366101, 0.01084969, 0.0108057195, 0.011364769, 0.011311594, 0.010158252, 0.010184452, 0.010514208, 0.010587952, 0.0110439, 0.011357634, 0.010792271, 0.011345883, 0.012651696, 0.011447181, 0.011277053, 0.013338695, 0.0118068345, 0.011472807, 0.010546083, 0.0112816105, 0.012671929, 0.026038896, 0.011572243, 0.011328709, 0.0104962755, 0.0105362395, 0.012326589, 0.011877925, 0.011223621, 0.0108498745, 0.011465668, 0.011086236, 0.010695484, 0.011622867, 0.010931786, 0.012271197, 0.010677613, 0.011835804, 0.011473321, 0.014669179, 0.011398365, 0.010920769, 0.010230806, 0.011264909, 0.011538876, 0.013389685, 0.009971378, 0.011567134, 0.010526201, 0.011145869, 0.011080728, 0.011936386, 0.010776161, 0.01177429, 0.010629941, 0.010271976, 0.011477084, 0.010508382, 0.01128053, 0.011194404, 0.009879823, 0.010000924, 0.010862537, 0.012707075, 0.010901244, 0.010517066]\n",
      "2022-02-21 13:18:01,340 : INFO : merging changes from 1204 documents into a model of 3204 documents\n",
      "2022-02-21 13:18:01,346 : INFO : topic #94 (0.010): 0.098*\"order\" + 0.081*\"region\" + 0.075*\",\" + 0.058*\"english\" + 0.042*\"word\" + 0.041*\"close\" + 0.039*\"conceptu\" + 0.036*\"syntact\" + 0.036*\"stabil\" + 0.024*\"fourth\"\n",
      "2022-02-21 13:18:01,347 : INFO : topic #95 (0.010): 0.147*\"-\" + 0.066*\",\" + 0.041*\"architectur\" + 0.035*\"machin\" + 0.031*\"start\" + 0.024*\"human\" + 0.022*\"program\" + 0.021*\"bank\" + 0.020*\"ratio\" + 0.018*\"(\"\n",
      "2022-02-21 13:18:01,347 : INFO : topic #28 (0.015): 0.260*\"problem\" + 0.114*\"solut\" + 0.086*\"equat\" + 0.047*\"solv\" + 0.040*\"numer\" + 0.039*\"method\" + 0.036*\"comput\" + 0.031*\"linear\" + 0.030*\"differenti\" + 0.030*\"program\"\n",
      "2022-02-21 13:18:01,348 : INFO : topic #73 (0.015): 0.179*\"system\" + 0.097*\",\" + 0.046*\"design\" + 0.042*\"alloc\" + 0.036*\"-\" + 0.034*\"oper\" + 0.031*\"comput\" + 0.029*\"time\" + 0.028*\"share\" + 0.026*\"hardwar\"\n",
      "2022-02-21 13:18:01,349 : INFO : topic #55 (0.026): 0.400*\"(\" + 0.365*\")\" + 0.182*\"algorithm\" + 0.015*\"integr\" + 0.013*\"weight\" + 0.006*\"polynomi\" + 0.003*\"matrix\" + 0.002*\"jacobi\" + 0.002*\"integ\" + 0.002*\"'\"\n",
      "2022-02-21 13:18:01,350 : INFO : topic diff=0.508258, rho=0.322715\n",
      "2022-02-21 13:18:01,357 : INFO : PROGRESS: pass 8, at document #2000/3204\n",
      "2022-02-21 13:18:02,221 : INFO : optimized alpha [0.011130871, 0.011452361, 0.011202498, 0.012090905, 0.01222137, 0.012349772, 0.01293855, 0.010801292, 0.012011818, 0.011612923, 0.010313112, 0.011714415, 0.0113090845, 0.0114480015, 0.012224585, 0.0114993, 0.011889865, 0.012290048, 0.010934491, 0.010590563, 0.010568483, 0.011383876, 0.01113045, 0.011165004, 0.010666395, 0.010457941, 0.010375334, 0.012196374, 0.015008483, 0.012167851, 0.012063134, 0.010973524, 0.011370391, 0.012457239, 0.010863063, 0.010795528, 0.011439132, 0.011311058, 0.01019068, 0.010208958, 0.010508774, 0.01058811, 0.011043391, 0.0114157945, 0.010757529, 0.011333551, 0.012728809, 0.011570843, 0.011414716, 0.013634165, 0.011872474, 0.01153424, 0.010532243, 0.011275641, 0.012785309, 0.027921531, 0.011614436, 0.011497506, 0.010577081, 0.010514101, 0.012567967, 0.011899886, 0.011227999, 0.01086841, 0.011587741, 0.011257192, 0.010702056, 0.011601293, 0.010968279, 0.012289507, 0.010639027, 0.011882929, 0.011518342, 0.014865339, 0.011512576, 0.010934822, 0.010212591, 0.011300278, 0.011513274, 0.013765021, 0.009965677, 0.011713884, 0.010518672, 0.011178582, 0.011178978, 0.012064709, 0.0108032115, 0.011742747, 0.01064867, 0.010298752, 0.011506901, 0.010528593, 0.011315401, 0.01124278, 0.009914832, 0.009989576, 0.010881489, 0.013025388, 0.010958716, 0.010564793]\n",
      "2022-02-21 13:18:02,227 : INFO : merging changes from 2000 documents into a model of 3204 documents\n",
      "2022-02-21 13:18:02,233 : INFO : topic #80 (0.010): 0.189*\"disk\" + 0.160*\";\" + 0.094*\"move\" + 0.059*\"argument\" + 0.057*\"gamma\" + 0.048*\"sequenti\" + 0.041*\"spars\" + 0.036*\"function\" + 0.034*\"servic\" + 0.033*\"summar\"\n",
      "2022-02-21 13:18:02,233 : INFO : topic #94 (0.010): 0.096*\"order\" + 0.072*\"region\" + 0.070*\",\" + 0.066*\"english\" + 0.056*\"word\" + 0.039*\"syntact\" + 0.037*\"close\" + 0.032*\"stabil\" + 0.031*\"conceptu\" + 0.025*\"dictionari\"\n",
      "2022-02-21 13:18:02,234 : INFO : topic #73 (0.015): 0.180*\"system\" + 0.095*\",\" + 0.043*\"design\" + 0.041*\"alloc\" + 0.037*\"-\" + 0.034*\"oper\" + 0.032*\"comput\" + 0.030*\"time\" + 0.029*\"share\" + 0.027*\"storag\"\n",
      "2022-02-21 13:18:02,235 : INFO : topic #28 (0.015): 0.246*\"problem\" + 0.114*\"solut\" + 0.092*\"equat\" + 0.048*\"numer\" + 0.044*\"solv\" + 0.041*\"method\" + 0.036*\"comput\" + 0.032*\"differenti\" + 0.031*\"-\" + 0.029*\"linear\"\n",
      "2022-02-21 13:18:02,236 : INFO : topic #55 (0.028): 0.394*\"(\" + 0.367*\")\" + 0.190*\"algorithm\" + 0.014*\"integr\" + 0.010*\"weight\" + 0.008*\"polynomi\" + 0.003*\"jacobi\" + 0.002*\"matrix\" + 0.002*\"integ\" + 0.002*\"'\"\n",
      "2022-02-21 13:18:02,237 : INFO : topic diff=0.442729, rho=0.307119\n",
      "2022-02-21 13:18:03,260 : INFO : -6.536 per-word bound, 92.8 perplexity estimate based on a held-out corpus of 1204 documents with 49783 words\n",
      "2022-02-21 13:18:03,261 : INFO : PROGRESS: pass 8, at document #3204/3204\n",
      "2022-02-21 13:18:04,068 : INFO : optimized alpha [0.0112475585, 0.011661296, 0.011308712, 0.012353525, 0.012439228, 0.012577925, 0.013237346, 0.010929046, 0.012102901, 0.011862887, 0.010412586, 0.012103201, 0.011452327, 0.011657566, 0.012455015, 0.011620359, 0.012028024, 0.01262934, 0.011048673, 0.010716465, 0.010633665, 0.011534245, 0.01128383, 0.01120066, 0.010761625, 0.010549584, 0.010471671, 0.012461587, 0.015539509, 0.012363781, 0.012291765, 0.011109487, 0.011565389, 0.012742168, 0.0110213505, 0.010925054, 0.01165487, 0.011527803, 0.010249768, 0.010263613, 0.01067316, 0.010711244, 0.011182589, 0.011613224, 0.010904828, 0.011562545, 0.0130765, 0.011669032, 0.011636313, 0.013946382, 0.012044631, 0.011714665, 0.010700058, 0.011447605, 0.013075602, 0.029674843, 0.011785312, 0.011650319, 0.010670014, 0.010623476, 0.012742137, 0.012127314, 0.011406196, 0.010978276, 0.011755367, 0.0113594085, 0.010751863, 0.011863176, 0.011114409, 0.012549243, 0.010768338, 0.012091434, 0.0116864415, 0.015316271, 0.011689213, 0.011081041, 0.010251793, 0.011387559, 0.011758828, 0.01373529, 0.010046139, 0.01188721, 0.010660505, 0.011318312, 0.011322191, 0.012284124, 0.010971146, 0.011960008, 0.010740743, 0.010407622, 0.011708189, 0.010615796, 0.0114404205, 0.011415714, 0.010016655, 0.010066618, 0.0110007, 0.013310964, 0.011097093, 0.010626839]\n",
      "2022-02-21 13:18:04,074 : INFO : merging changes from 1204 documents into a model of 3204 documents\n",
      "2022-02-21 13:18:04,080 : INFO : topic #95 (0.010): 0.151*\"-\" + 0.068*\",\" + 0.041*\"architectur\" + 0.038*\"machin\" + 0.031*\"start\" + 0.025*\"human\" + 0.022*\"ratio\" + 0.022*\"bank\" + 0.022*\"program\" + 0.016*\"approach\"\n",
      "2022-02-21 13:18:04,081 : INFO : topic #94 (0.010): 0.124*\"order\" + 0.080*\"region\" + 0.071*\",\" + 0.059*\"english\" + 0.045*\"word\" + 0.043*\"close\" + 0.038*\"syntact\" + 0.037*\"conceptu\" + 0.034*\"stabil\" + 0.023*\"fourth\"\n",
      "2022-02-21 13:18:04,081 : INFO : topic #73 (0.015): 0.182*\"system\" + 0.098*\",\" + 0.045*\"design\" + 0.043*\"alloc\" + 0.037*\"oper\" + 0.035*\"-\" + 0.031*\"comput\" + 0.029*\"time\" + 0.027*\"share\" + 0.026*\"hardwar\"\n",
      "2022-02-21 13:18:04,082 : INFO : topic #28 (0.016): 0.265*\"problem\" + 0.117*\"solut\" + 0.087*\"equat\" + 0.048*\"solv\" + 0.040*\"numer\" + 0.039*\"method\" + 0.035*\"comput\" + 0.032*\"-\" + 0.031*\"linear\" + 0.030*\"differenti\"\n",
      "2022-02-21 13:18:04,083 : INFO : topic #55 (0.030): 0.407*\"(\" + 0.370*\")\" + 0.176*\"algorithm\" + 0.012*\"weight\" + 0.011*\"integr\" + 0.007*\"polynomi\" + 0.002*\"jacobi\" + 0.002*\"integ\" + 0.002*\"matrix\" + 0.002*\"'\"\n",
      "2022-02-21 13:18:04,084 : INFO : topic diff=0.443088, rho=0.307119\n",
      "2022-02-21 13:18:04,094 : INFO : PROGRESS: pass 9, at document #2000/3204\n",
      "2022-02-21 13:18:04,959 : INFO : optimized alpha [0.011299554, 0.011664498, 0.011354272, 0.012384184, 0.0124557605, 0.012572581, 0.013321924, 0.010949541, 0.012336784, 0.011898283, 0.010398362, 0.012166462, 0.01158038, 0.011668688, 0.012564907, 0.011700404, 0.012035419, 0.0127598895, 0.011071725, 0.010739267, 0.010711403, 0.011582417, 0.011371312, 0.011352345, 0.01079639, 0.010562957, 0.010525259, 0.0126026785, 0.015854895, 0.012550768, 0.012442521, 0.011116941, 0.011623682, 0.012827621, 0.011035648, 0.010912123, 0.011724734, 0.011528268, 0.010285856, 0.010293601, 0.010673884, 0.010716228, 0.01118044, 0.011672462, 0.010877927, 0.011551517, 0.013161343, 0.01179223, 0.0117820185, 0.014234883, 0.012116473, 0.011780562, 0.010688006, 0.011436326, 0.013186653, 0.03170132, 0.011834347, 0.01182311, 0.01075448, 0.010605611, 0.012979828, 0.012154874, 0.011413368, 0.010994634, 0.011873502, 0.011530655, 0.010763569, 0.011835937, 0.011152682, 0.0125677055, 0.010734698, 0.012136465, 0.011729633, 0.0155249685, 0.0118238125, 0.011094436, 0.010238262, 0.0114185475, 0.0117382705, 0.014109674, 0.010045382, 0.012047255, 0.010656274, 0.011351385, 0.011427264, 0.012408358, 0.011000127, 0.011930753, 0.010760603, 0.010435042, 0.011750349, 0.010638611, 0.011477415, 0.011470492, 0.010057809, 0.010066634, 0.011023888, 0.01363261, 0.011162223, 0.010668353]\n",
      "2022-02-21 13:18:04,965 : INFO : merging changes from 2000 documents into a model of 3204 documents\n",
      "2022-02-21 13:18:04,971 : INFO : topic #80 (0.010): 0.193*\"disk\" + 0.170*\";\" + 0.095*\"move\" + 0.061*\"argument\" + 0.057*\"gamma\" + 0.052*\"sequenti\" + 0.043*\"spars\" + 0.034*\"servic\" + 0.034*\"summar\" + 0.027*\"function\"\n",
      "2022-02-21 13:18:04,972 : INFO : topic #94 (0.010): 0.120*\"order\" + 0.071*\"region\" + 0.067*\",\" + 0.066*\"english\" + 0.059*\"word\" + 0.040*\"close\" + 0.039*\"syntact\" + 0.031*\"stabil\" + 0.030*\"conceptu\" + 0.024*\"dictionari\"\n",
      "2022-02-21 13:18:04,974 : INFO : topic #73 (0.016): 0.184*\"system\" + 0.097*\",\" + 0.043*\"design\" + 0.041*\"alloc\" + 0.036*\"oper\" + 0.036*\"-\" + 0.032*\"comput\" + 0.030*\"time\" + 0.028*\"share\" + 0.027*\"storag\"\n",
      "2022-02-21 13:18:04,975 : INFO : topic #28 (0.016): 0.251*\"problem\" + 0.116*\"solut\" + 0.093*\"equat\" + 0.047*\"numer\" + 0.045*\"solv\" + 0.041*\"method\" + 0.035*\"comput\" + 0.033*\"-\" + 0.031*\"differenti\" + 0.029*\"linear\"\n",
      "2022-02-21 13:18:04,978 : INFO : topic #55 (0.032): 0.401*\"(\" + 0.371*\")\" + 0.185*\"algorithm\" + 0.010*\"weight\" + 0.009*\"integr\" + 0.009*\"polynomi\" + 0.003*\"jacobi\" + 0.002*\"integ\" + 0.001*\"matrix\" + 0.001*\"'\"\n",
      "2022-02-21 13:18:04,979 : INFO : topic diff=0.385152, rho=0.293585\n",
      "2022-02-21 13:18:05,909 : INFO : -6.522 per-word bound, 91.9 perplexity estimate based on a held-out corpus of 1204 documents with 49783 words\n",
      "2022-02-21 13:18:05,910 : INFO : PROGRESS: pass 9, at document #3204/3204\n",
      "2022-02-21 13:18:06,672 : INFO : optimized alpha [0.01141213, 0.011881059, 0.011459492, 0.012648484, 0.012663649, 0.012805885, 0.013616144, 0.011075517, 0.012426598, 0.012155766, 0.010514855, 0.012596475, 0.011724374, 0.011880217, 0.012788604, 0.011817174, 0.012162636, 0.01309531, 0.01118191, 0.010863513, 0.010766275, 0.011733472, 0.011519647, 0.011386086, 0.010896134, 0.010651461, 0.010625957, 0.012876619, 0.016411643, 0.01274685, 0.012670962, 0.0112428125, 0.011821114, 0.013114299, 0.011199511, 0.011045148, 0.011951812, 0.011749806, 0.010347975, 0.010341419, 0.010835454, 0.010835088, 0.011317595, 0.011863869, 0.011020165, 0.011776242, 0.013516765, 0.011895216, 0.012029306, 0.014564552, 0.012282801, 0.011969746, 0.010852897, 0.011599691, 0.013462819, 0.03353418, 0.011999625, 0.011973766, 0.010843977, 0.010708666, 0.013144818, 0.01237534, 0.011582931, 0.011108902, 0.012035637, 0.011634462, 0.010817178, 0.012092836, 0.011296679, 0.012828806, 0.010859461, 0.012341258, 0.011903776, 0.015960194, 0.012003451, 0.011230213, 0.010286683, 0.011499918, 0.011976363, 0.0140810115, 0.010118201, 0.012226828, 0.010806382, 0.011486239, 0.011574023, 0.012618255, 0.011168039, 0.012146789, 0.01085748, 0.010540205, 0.011939731, 0.010725414, 0.011603779, 0.011649054, 0.010178249, 0.010153463, 0.011141719, 0.013931632, 0.011304094, 0.010735982]\n",
      "2022-02-21 13:18:06,678 : INFO : merging changes from 1204 documents into a model of 3204 documents\n",
      "2022-02-21 13:18:06,684 : INFO : topic #80 (0.010): 0.186*\"disk\" + 0.181*\";\" + 0.111*\"move\" + 0.058*\"gamma\" + 0.057*\"sequenti\" + 0.056*\"argument\" + 0.049*\"spars\" + 0.041*\"servic\" + 0.035*\"summar\" + 0.025*\"algorithm\"\n",
      "2022-02-21 13:18:06,686 : INFO : topic #95 (0.010): 0.154*\"-\" + 0.068*\",\" + 0.042*\"machin\" + 0.040*\"architectur\" + 0.031*\"start\" + 0.025*\"human\" + 0.023*\"ratio\" + 0.023*\"bank\" + 0.021*\"program\" + 0.017*\"approach\"\n",
      "2022-02-21 13:18:06,687 : INFO : topic #73 (0.016): 0.185*\"system\" + 0.099*\",\" + 0.045*\"design\" + 0.043*\"alloc\" + 0.039*\"oper\" + 0.035*\"-\" + 0.030*\"comput\" + 0.028*\"time\" + 0.026*\"share\" + 0.026*\"hardwar\"\n",
      "2022-02-21 13:18:06,688 : INFO : topic #28 (0.016): 0.270*\"problem\" + 0.119*\"solut\" + 0.089*\"equat\" + 0.050*\"solv\" + 0.040*\"numer\" + 0.040*\"method\" + 0.034*\"comput\" + 0.034*\"-\" + 0.030*\"linear\" + 0.030*\"program\"\n",
      "2022-02-21 13:18:06,690 : INFO : topic #55 (0.034): 0.414*\"(\" + 0.374*\")\" + 0.172*\"algorithm\" + 0.012*\"weight\" + 0.007*\"polynomi\" + 0.007*\"integr\" + 0.002*\"jacobi\" + 0.002*\"integ\" + 0.001*\"matrix\" + 0.001*\"'\"\n",
      "2022-02-21 13:18:06,691 : INFO : topic diff=0.386889, rho=0.293585\n",
      "2022-02-21 13:18:06,699 : INFO : PROGRESS: pass 10, at document #2000/3204\n",
      "2022-02-21 13:18:07,630 : INFO : optimized alpha [0.011464057, 0.011883441, 0.011508576, 0.012684367, 0.012669981, 0.012807243, 0.013699361, 0.011096869, 0.012657011, 0.012197781, 0.010508731, 0.012670564, 0.011860598, 0.0118919555, 0.01289864, 0.011896391, 0.012166391, 0.0132220695, 0.011207381, 0.010890165, 0.010837213, 0.011786701, 0.011611084, 0.011535186, 0.010936031, 0.010666083, 0.010680853, 0.013021211, 0.016732484, 0.012938568, 0.012821423, 0.011250038, 0.011882253, 0.013201966, 0.011213038, 0.01104045, 0.012041343, 0.011749537, 0.010378704, 0.010364922, 0.010835848, 0.010847568, 0.011326783, 0.011924358, 0.010994181, 0.011768142, 0.013597951, 0.012014978, 0.012180018, 0.014861182, 0.01235572, 0.012035009, 0.010842479, 0.011595291, 0.013568141, 0.035682756, 0.012040076, 0.012142484, 0.0109352125, 0.010700804, 0.013379437, 0.012406652, 0.011589548, 0.011120046, 0.012148741, 0.011809704, 0.0108305365, 0.012068714, 0.011335201, 0.012847319, 0.010825648, 0.012386122, 0.011950358, 0.016156627, 0.012137999, 0.01124469, 0.010275822, 0.011536684, 0.011953909, 0.01445357, 0.010117856, 0.012388177, 0.010803697, 0.011524633, 0.011689327, 0.012737101, 0.011198991, 0.012122983, 0.010879914, 0.010568286, 0.011988696, 0.010752265, 0.011644525, 0.011706865, 0.010220956, 0.010162387, 0.011168992, 0.014269082, 0.011367164, 0.010776349]\n",
      "2022-02-21 13:18:07,636 : INFO : merging changes from 2000 documents into a model of 3204 documents\n",
      "2022-02-21 13:18:07,642 : INFO : topic #80 (0.010): 0.196*\"disk\" + 0.178*\";\" + 0.097*\"move\" + 0.063*\"argument\" + 0.057*\"gamma\" + 0.053*\"sequenti\" + 0.044*\"spars\" + 0.035*\"servic\" + 0.034*\"summar\" + 0.022*\"-\"\n",
      "2022-02-21 13:18:07,643 : INFO : topic #95 (0.010): 0.149*\"-\" + 0.066*\",\" + 0.045*\"machin\" + 0.032*\"architectur\" + 0.029*\"start\" + 0.028*\"bank\" + 0.024*\"human\" + 0.022*\"program\" + 0.021*\"ratio\" + 0.016*\"estim\"\n",
      "2022-02-21 13:18:07,645 : INFO : topic #73 (0.016): 0.186*\"system\" + 0.098*\",\" + 0.043*\"design\" + 0.041*\"alloc\" + 0.038*\"oper\" + 0.035*\"-\" + 0.032*\"comput\" + 0.029*\"time\" + 0.027*\"storag\" + 0.027*\"share\"\n",
      "2022-02-21 13:18:07,646 : INFO : topic #28 (0.017): 0.256*\"problem\" + 0.118*\"solut\" + 0.094*\"equat\" + 0.047*\"solv\" + 0.047*\"numer\" + 0.042*\"method\" + 0.035*\"-\" + 0.035*\"comput\" + 0.031*\"differenti\" + 0.029*\"linear\"\n",
      "2022-02-21 13:18:07,648 : INFO : topic #55 (0.036): 0.407*\"(\" + 0.374*\")\" + 0.181*\"algorithm\" + 0.010*\"weight\" + 0.009*\"polynomi\" + 0.006*\"integr\" + 0.003*\"jacobi\" + 0.001*\"integ\" + 0.001*\"romberg\" + 0.001*\"'\"\n",
      "2022-02-21 13:18:07,649 : INFO : topic diff=0.336035, rho=0.281696\n",
      "2022-02-21 13:18:08,579 : INFO : -6.509 per-word bound, 91.1 perplexity estimate based on a held-out corpus of 1204 documents with 49783 words\n",
      "2022-02-21 13:18:08,579 : INFO : PROGRESS: pass 10, at document #3204/3204\n",
      "2022-02-21 13:18:09,317 : INFO : optimized alpha [0.011575801, 0.012093896, 0.011615948, 0.012948138, 0.012871836, 0.013027942, 0.014006111, 0.011234449, 0.0127458805, 0.012463475, 0.010626626, 0.013119874, 0.0120002255, 0.012103074, 0.013119407, 0.012012136, 0.0122866705, 0.013545028, 0.01131143, 0.011015669, 0.010897855, 0.011933297, 0.011763118, 0.011561808, 0.011037756, 0.010756806, 0.010788387, 0.013292206, 0.017301077, 0.013147411, 0.013053298, 0.011374657, 0.012090917, 0.013491131, 0.011387836, 0.0111719435, 0.012254535, 0.011962307, 0.01043891, 0.010413896, 0.0110054, 0.010962745, 0.011470503, 0.012113206, 0.011131992, 0.011989486, 0.013952676, 0.012114446, 0.012430563, 0.015181273, 0.0125255855, 0.012210397, 0.011010242, 0.011770263, 0.013840661, 0.03758275, 0.012203189, 0.012297019, 0.011021632, 0.010803145, 0.013539068, 0.012623969, 0.011756807, 0.011230804, 0.0123090055, 0.011912634, 0.010880081, 0.012321553, 0.011469484, 0.013110502, 0.010954259, 0.012588046, 0.01211943, 0.016576638, 0.012315437, 0.011386798, 0.010332781, 0.01162352, 0.0121854255, 0.014419055, 0.010190825, 0.012568583, 0.010954363, 0.011655365, 0.011837414, 0.012944094, 0.011367383, 0.012344204, 0.010976395, 0.010675126, 0.012192572, 0.010838875, 0.011767017, 0.011883157, 0.010345011, 0.010248967, 0.011285755, 0.014585667, 0.011510067, 0.01084436]\n",
      "2022-02-21 13:18:09,322 : INFO : merging changes from 1204 documents into a model of 3204 documents\n",
      "2022-02-21 13:18:09,329 : INFO : topic #80 (0.010): 0.191*\";\" + 0.189*\"disk\" + 0.112*\"move\" + 0.058*\"gamma\" + 0.058*\"sequenti\" + 0.058*\"argument\" + 0.049*\"spars\" + 0.042*\"servic\" + 0.035*\"summar\" + 0.020*\"-\"\n",
      "2022-02-21 13:18:09,329 : INFO : topic #95 (0.010): 0.157*\"-\" + 0.069*\",\" + 0.045*\"machin\" + 0.040*\"architectur\" + 0.031*\"start\" + 0.026*\"human\" + 0.024*\"ratio\" + 0.023*\"bank\" + 0.021*\"program\" + 0.018*\"approach\"\n",
      "2022-02-21 13:18:09,330 : INFO : topic #73 (0.017): 0.188*\"system\" + 0.101*\",\" + 0.045*\"design\" + 0.043*\"alloc\" + 0.040*\"oper\" + 0.034*\"-\" + 0.030*\"comput\" + 0.028*\"time\" + 0.026*\"share\" + 0.025*\"hardwar\"\n",
      "2022-02-21 13:18:09,331 : INFO : topic #28 (0.017): 0.273*\"problem\" + 0.121*\"solut\" + 0.090*\"equat\" + 0.051*\"solv\" + 0.040*\"method\" + 0.040*\"numer\" + 0.036*\"-\" + 0.034*\"comput\" + 0.030*\"linear\" + 0.030*\"program\"\n",
      "2022-02-21 13:18:09,332 : INFO : topic #55 (0.038): 0.419*\"(\" + 0.377*\")\" + 0.168*\"algorithm\" + 0.012*\"weight\" + 0.008*\"polynomi\" + 0.005*\"integr\" + 0.002*\"jacobi\" + 0.001*\"integ\" + 0.001*\"'\" + 0.001*\"adjust\"\n",
      "2022-02-21 13:18:09,333 : INFO : topic diff=0.339877, rho=0.281696\n",
      "2022-02-21 13:18:09,342 : INFO : PROGRESS: pass 11, at document #2000/3204\n",
      "2022-02-21 13:18:10,185 : INFO : optimized alpha [0.011626257, 0.012097203, 0.0116668325, 0.012976802, 0.012877403, 0.013030422, 0.0140842805, 0.011258126, 0.012971738, 0.012505262, 0.010623653, 0.013194124, 0.012138206, 0.01211221, 0.013229869, 0.012095747, 0.012287099, 0.013668301, 0.011334767, 0.0110445125, 0.010969839, 0.011994777, 0.011855297, 0.011707174, 0.011073547, 0.010775553, 0.010841691, 0.01342793, 0.017627697, 0.0133354515, 0.013203887, 0.011384815, 0.012149944, 0.013577425, 0.011399088, 0.011162849, 0.012341447, 0.01196635, 0.01047463, 0.010442741, 0.0110084275, 0.010977899, 0.011485537, 0.012171734, 0.01110994, 0.011975946, 0.014038021, 0.01223768, 0.0125865275, 0.015484634, 0.01259959, 0.012278608, 0.011005833, 0.011762452, 0.013944503, 0.039825615, 0.012247182, 0.01246219, 0.011113441, 0.010791348, 0.01377113, 0.012653799, 0.011764531, 0.011244797, 0.012419009, 0.012087326, 0.01089801, 0.012303838, 0.011503677, 0.013129188, 0.0109232105, 0.0126379635, 0.012164403, 0.01677491, 0.0124567235, 0.01140529, 0.010328458, 0.0116626015, 0.012162809, 0.014790533, 0.010190832, 0.012724746, 0.010956044, 0.011694188, 0.011962729, 0.013063239, 0.011409513, 0.012323789, 0.011001345, 0.010703876, 0.012249842, 0.010863615, 0.011806548, 0.011942368, 0.01039347, 0.010256389, 0.0113153355, 0.0149303535, 0.011575894, 0.0108837485]\n",
      "2022-02-21 13:18:10,192 : INFO : merging changes from 2000 documents into a model of 3204 documents\n",
      "2022-02-21 13:18:10,198 : INFO : topic #80 (0.010): 0.199*\"disk\" + 0.186*\";\" + 0.098*\"move\" + 0.064*\"argument\" + 0.056*\"gamma\" + 0.054*\"sequenti\" + 0.044*\"spars\" + 0.036*\"servic\" + 0.034*\"summar\" + 0.021*\"-\"\n",
      "2022-02-21 13:18:10,199 : INFO : topic #95 (0.010): 0.153*\"-\" + 0.067*\",\" + 0.046*\"machin\" + 0.032*\"architectur\" + 0.029*\"start\" + 0.029*\"bank\" + 0.025*\"human\" + 0.022*\"program\" + 0.021*\"ratio\" + 0.016*\"limit\"\n",
      "2022-02-21 13:18:10,200 : INFO : topic #73 (0.017): 0.189*\"system\" + 0.099*\",\" + 0.043*\"design\" + 0.041*\"alloc\" + 0.040*\"oper\" + 0.035*\"-\" + 0.031*\"comput\" + 0.028*\"time\" + 0.027*\"storag\" + 0.026*\"share\"\n",
      "2022-02-21 13:18:10,202 : INFO : topic #28 (0.018): 0.259*\"problem\" + 0.120*\"solut\" + 0.095*\"equat\" + 0.048*\"solv\" + 0.046*\"numer\" + 0.042*\"method\" + 0.037*\"-\" + 0.033*\"comput\" + 0.030*\"differenti\" + 0.029*\"linear\"\n",
      "2022-02-21 13:18:10,203 : INFO : topic #55 (0.040): 0.411*\"(\" + 0.377*\")\" + 0.178*\"algorithm\" + 0.009*\"weight\" + 0.009*\"polynomi\" + 0.004*\"integr\" + 0.003*\"jacobi\" + 0.001*\"romberg\" + 0.001*\"integ\" + 0.001*\"adjust\"\n",
      "2022-02-21 13:18:10,205 : INFO : topic diff=0.295556, rho=0.271143\n",
      "2022-02-21 13:18:11,129 : INFO : -6.498 per-word bound, 90.4 perplexity estimate based on a held-out corpus of 1204 documents with 49783 words\n",
      "2022-02-21 13:18:11,130 : INFO : PROGRESS: pass 11, at document #3204/3204\n",
      "2022-02-21 13:18:11,915 : INFO : optimized alpha [0.011737368, 0.012310481, 0.011771034, 0.01323468, 0.013076893, 0.01325149, 0.014381545, 0.011394458, 0.013062935, 0.01276263, 0.010747852, 0.013663889, 0.0122821545, 0.012323464, 0.013445316, 0.012205315, 0.012403961, 0.013991932, 0.011430785, 0.011176599, 0.011033534, 0.012145623, 0.012000654, 0.011732479, 0.011162315, 0.010866096, 0.010951139, 0.013711813, 0.018205153, 0.013548167, 0.013439677, 0.011513693, 0.0123536475, 0.013869718, 0.011569316, 0.011298215, 0.012552706, 0.012184844, 0.010533161, 0.010497553, 0.011173514, 0.011094814, 0.011625249, 0.012358614, 0.011248965, 0.012194415, 0.014386402, 0.01233114, 0.012838032, 0.015806073, 0.012773361, 0.012452175, 0.0111792665, 0.011929944, 0.014210905, 0.041759335, 0.012405851, 0.012615283, 0.011199641, 0.010903117, 0.013935114, 0.012859902, 0.011935227, 0.0113601135, 0.012572124, 0.012192328, 0.010951343, 0.012550576, 0.011639496, 0.013383236, 0.011048002, 0.012843206, 0.012337219, 0.017196031, 0.0126324035, 0.011546072, 0.010388738, 0.011752311, 0.012385713, 0.014750442, 0.010264055, 0.0129006235, 0.011102701, 0.011821269, 0.0121041825, 0.01325929, 0.011576153, 0.012542097, 0.011097591, 0.010807726, 0.012454445, 0.0109477, 0.011930989, 0.012114111, 0.010523595, 0.0103428615, 0.011428847, 0.015261887, 0.011725371, 0.0109498]\n",
      "2022-02-21 13:18:11,921 : INFO : merging changes from 1204 documents into a model of 3204 documents\n",
      "2022-02-21 13:18:11,927 : INFO : topic #80 (0.010): 0.197*\";\" + 0.191*\"disk\" + 0.112*\"move\" + 0.061*\"sequenti\" + 0.059*\"argument\" + 0.058*\"gamma\" + 0.050*\"spars\" + 0.043*\"servic\" + 0.036*\"summar\" + 0.019*\"-\"\n",
      "2022-02-21 13:18:11,928 : INFO : topic #95 (0.010): 0.159*\"-\" + 0.069*\",\" + 0.047*\"machin\" + 0.039*\"architectur\" + 0.030*\"start\" + 0.027*\"human\" + 0.024*\"ratio\" + 0.024*\"bank\" + 0.020*\"program\" + 0.019*\"approach\"\n",
      "2022-02-21 13:18:11,928 : INFO : topic #73 (0.017): 0.191*\"system\" + 0.102*\",\" + 0.045*\"design\" + 0.043*\"alloc\" + 0.042*\"oper\" + 0.033*\"-\" + 0.030*\"comput\" + 0.027*\"time\" + 0.026*\"storag\" + 0.025*\"hardwar\"\n",
      "2022-02-21 13:18:11,929 : INFO : topic #28 (0.018): 0.274*\"problem\" + 0.122*\"solut\" + 0.091*\"equat\" + 0.052*\"solv\" + 0.040*\"method\" + 0.040*\"numer\" + 0.038*\"-\" + 0.033*\"comput\" + 0.031*\"linear\" + 0.030*\"program\"\n",
      "2022-02-21 13:18:11,930 : INFO : topic #55 (0.042): 0.423*\"(\" + 0.379*\")\" + 0.166*\"algorithm\" + 0.012*\"weight\" + 0.008*\"polynomi\" + 0.003*\"integr\" + 0.002*\"jacobi\" + 0.001*\"adjust\" + 0.001*\"integ\" + 0.001*\"romberg\"\n",
      "2022-02-21 13:18:11,931 : INFO : topic diff=0.300381, rho=0.271143\n",
      "2022-02-21 13:18:11,937 : INFO : PROGRESS: pass 12, at document #2000/3204\n",
      "2022-02-21 13:18:12,818 : INFO : optimized alpha [0.011789575, 0.012311416, 0.011822187, 0.013261683, 0.013085217, 0.013256836, 0.014454984, 0.011420348, 0.013284773, 0.012805793, 0.010750594, 0.0137491515, 0.012418847, 0.012333279, 0.013556472, 0.012291658, 0.012404488, 0.014112023, 0.01145211, 0.011207532, 0.011102453, 0.012202141, 0.01209374, 0.01187447, 0.011198696, 0.010885875, 0.0110045, 0.013851696, 0.018535601, 0.013743398, 0.01359243, 0.011528096, 0.0124091655, 0.0139530795, 0.011582955, 0.011292252, 0.012642438, 0.012193044, 0.010568075, 0.010530036, 0.011183494, 0.011113975, 0.011641337, 0.01242019, 0.011226079, 0.012180521, 0.014472362, 0.012454839, 0.013002908, 0.016104115, 0.012846954, 0.012520092, 0.011179066, 0.011923625, 0.014315349, 0.044104684, 0.01245175, 0.012778894, 0.011289323, 0.010894553, 0.014165127, 0.012891773, 0.011939253, 0.011376764, 0.012679516, 0.012365266, 0.010969194, 0.012532371, 0.011678789, 0.013404021, 0.011019434, 0.012891446, 0.012388903, 0.017387582, 0.012767485, 0.011563915, 0.010390474, 0.011792054, 0.01236297, 0.015115782, 0.010267076, 0.013053717, 0.011114353, 0.011857427, 0.01223002, 0.01337548, 0.011613967, 0.012521545, 0.0111248465, 0.010835761, 0.0125116315, 0.01097338, 0.011975658, 0.012177935, 0.01058039, 0.010352993, 0.01145919, 0.015608574, 0.011794039, 0.01098688]\n",
      "2022-02-21 13:18:12,823 : INFO : merging changes from 2000 documents into a model of 3204 documents\n",
      "2022-02-21 13:18:12,830 : INFO : topic #80 (0.010): 0.200*\"disk\" + 0.195*\";\" + 0.098*\"move\" + 0.064*\"argument\" + 0.056*\"sequenti\" + 0.056*\"gamma\" + 0.045*\"spars\" + 0.037*\"servic\" + 0.034*\"summar\" + 0.019*\"-\"\n",
      "2022-02-21 13:18:12,831 : INFO : topic #95 (0.010): 0.155*\"-\" + 0.067*\",\" + 0.048*\"machin\" + 0.032*\"architectur\" + 0.029*\"start\" + 0.029*\"bank\" + 0.026*\"human\" + 0.022*\"ratio\" + 0.021*\"program\" + 0.016*\"approach\"\n",
      "2022-02-21 13:18:12,831 : INFO : topic #73 (0.017): 0.192*\"system\" + 0.101*\",\" + 0.043*\"design\" + 0.042*\"oper\" + 0.041*\"alloc\" + 0.034*\"-\" + 0.031*\"comput\" + 0.027*\"time\" + 0.027*\"storag\" + 0.026*\"share\"\n",
      "2022-02-21 13:18:12,832 : INFO : topic #28 (0.019): 0.261*\"problem\" + 0.121*\"solut\" + 0.096*\"equat\" + 0.049*\"solv\" + 0.046*\"numer\" + 0.042*\"method\" + 0.039*\"-\" + 0.033*\"comput\" + 0.030*\"differenti\" + 0.029*\"linear\"\n",
      "2022-02-21 13:18:12,833 : INFO : topic #55 (0.044): 0.415*\"(\" + 0.378*\")\" + 0.176*\"algorithm\" + 0.010*\"polynomi\" + 0.009*\"weight\" + 0.003*\"jacobi\" + 0.002*\"integr\" + 0.001*\"romberg\" + 0.001*\"adjust\" + 0.001*\"integ\"\n",
      "2022-02-21 13:18:12,834 : INFO : topic diff=0.262033, rho=0.261694\n",
      "2022-02-21 13:18:13,738 : INFO : -6.488 per-word bound, 89.8 perplexity estimate based on a held-out corpus of 1204 documents with 49783 words\n",
      "2022-02-21 13:18:13,738 : INFO : PROGRESS: pass 12, at document #3204/3204\n",
      "2022-02-21 13:18:14,429 : INFO : optimized alpha [0.011900356, 0.0125225615, 0.011928789, 0.013517217, 0.013277082, 0.013478636, 0.014743533, 0.011555703, 0.0133755095, 0.013069488, 0.010871668, 0.014231945, 0.012559181, 0.012545122, 0.013773034, 0.012395505, 0.012520981, 0.014436627, 0.01154812, 0.011341288, 0.011166802, 0.012349316, 0.012232899, 0.011901203, 0.011289972, 0.01098352, 0.011118357, 0.014151953, 0.019122677, 0.013960694, 0.013820689, 0.011651177, 0.0126137575, 0.014252004, 0.011754268, 0.011429063, 0.012849425, 0.012420295, 0.010638907, 0.010581156, 0.011347054, 0.01122063, 0.011780124, 0.012602793, 0.011359102, 0.012391307, 0.014827682, 0.012550892, 0.013253248, 0.016424054, 0.013010893, 0.01268954, 0.011350942, 0.01209232, 0.01458549, 0.046027094, 0.012606452, 0.0129308095, 0.011383044, 0.011010687, 0.014321522, 0.013098852, 0.012103139, 0.011501543, 0.012839759, 0.012469838, 0.011021279, 0.01278462, 0.011811181, 0.013664297, 0.011145815, 0.013094747, 0.012557693, 0.01779869, 0.012939002, 0.011698599, 0.010437912, 0.011879433, 0.012580829, 0.01507371, 0.010338477, 0.013231222, 0.011264685, 0.011986399, 0.012367983, 0.013564029, 0.011789411, 0.012740179, 0.011221086, 0.010941605, 0.012720077, 0.011067269, 0.012102189, 0.012353637, 0.0107166795, 0.010439512, 0.011572339, 0.015939068, 0.011950161, 0.011053575]\n",
      "2022-02-21 13:18:14,436 : INFO : merging changes from 1204 documents into a model of 3204 documents\n",
      "2022-02-21 13:18:14,444 : INFO : topic #80 (0.010): 0.202*\";\" + 0.192*\"disk\" + 0.112*\"move\" + 0.064*\"sequenti\" + 0.059*\"argument\" + 0.058*\"gamma\" + 0.050*\"spars\" + 0.044*\"servic\" + 0.034*\"summar\" + 0.018*\"-\"\n",
      "2022-02-21 13:18:14,445 : INFO : topic #95 (0.010): 0.162*\"-\" + 0.070*\",\" + 0.049*\"machin\" + 0.039*\"architectur\" + 0.030*\"start\" + 0.028*\"human\" + 0.024*\"ratio\" + 0.024*\"bank\" + 0.020*\"program\" + 0.019*\"approach\"\n",
      "2022-02-21 13:18:14,445 : INFO : topic #73 (0.018): 0.194*\"system\" + 0.103*\",\" + 0.045*\"design\" + 0.044*\"oper\" + 0.043*\"alloc\" + 0.033*\"-\" + 0.029*\"comput\" + 0.026*\"time\" + 0.026*\"storag\" + 0.025*\"hardwar\"\n",
      "2022-02-21 13:18:14,446 : INFO : topic #28 (0.019): 0.276*\"problem\" + 0.123*\"solut\" + 0.092*\"equat\" + 0.052*\"solv\" + 0.040*\"method\" + 0.040*\"numer\" + 0.039*\"-\" + 0.032*\"comput\" + 0.030*\"linear\" + 0.030*\"program\"\n",
      "2022-02-21 13:18:14,449 : INFO : topic #55 (0.046): 0.426*\"(\" + 0.379*\")\" + 0.164*\"algorithm\" + 0.011*\"weight\" + 0.008*\"polynomi\" + 0.002*\"jacobi\" + 0.002*\"integr\" + 0.001*\"adjust\" + 0.001*\"romberg\" + 0.000*\"integ\"\n",
      "2022-02-21 13:18:14,450 : INFO : topic diff=0.267855, rho=0.261694\n",
      "2022-02-21 13:18:14,459 : INFO : PROGRESS: pass 13, at document #2000/3204\n",
      "2022-02-21 13:18:15,351 : INFO : optimized alpha [0.011951311, 0.012527592, 0.011987808, 0.013546196, 0.013279638, 0.013486635, 0.014810643, 0.011582298, 0.013593759, 0.013114316, 0.010877105, 0.01431758, 0.012702769, 0.012554066, 0.013881615, 0.012489354, 0.012520083, 0.014550103, 0.011564602, 0.011369929, 0.011235587, 0.012407569, 0.012327077, 0.012040294, 0.011322639, 0.011007069, 0.011170442, 0.014296209, 0.01944734, 0.014161868, 0.013979429, 0.011666661, 0.012669126, 0.014332688, 0.0117702, 0.011426092, 0.012943533, 0.012425985, 0.010671769, 0.010615802, 0.011357978, 0.0112379175, 0.01179572, 0.012662702, 0.011344129, 0.012378675, 0.014914395, 0.012675205, 0.013412231, 0.01672524, 0.013082606, 0.012757341, 0.011353349, 0.012082829, 0.014687093, 0.0484806, 0.01264784, 0.013093181, 0.011470805, 0.01100819, 0.014548013, 0.013129458, 0.0121099, 0.011522196, 0.012951314, 0.012644567, 0.011039038, 0.012770727, 0.011847966, 0.013685337, 0.011118174, 0.013143118, 0.012604742, 0.01796981, 0.013073086, 0.011717407, 0.010444072, 0.011921463, 0.012561238, 0.0154528115, 0.010341732, 0.013383275, 0.011274422, 0.012024684, 0.012508638, 0.013674145, 0.011836533, 0.01272112, 0.011250667, 0.010968981, 0.012783727, 0.0110938065, 0.012145707, 0.012423677, 0.010774869, 0.010457577, 0.011604873, 0.016297936, 0.012020183, 0.011091338]\n",
      "2022-02-21 13:18:15,357 : INFO : merging changes from 2000 documents into a model of 3204 documents\n",
      "2022-02-21 13:18:15,363 : INFO : topic #80 (0.010): 0.204*\";\" + 0.199*\"disk\" + 0.098*\"move\" + 0.064*\"argument\" + 0.059*\"sequenti\" + 0.056*\"gamma\" + 0.045*\"spars\" + 0.038*\"servic\" + 0.031*\"summar\" + 0.018*\"-\"\n",
      "2022-02-21 13:18:15,364 : INFO : topic #95 (0.010): 0.158*\"-\" + 0.068*\",\" + 0.051*\"machin\" + 0.032*\"architectur\" + 0.029*\"start\" + 0.029*\"bank\" + 0.027*\"human\" + 0.022*\"ratio\" + 0.021*\"program\" + 0.017*\"approach\"\n",
      "2022-02-21 13:18:15,365 : INFO : topic #73 (0.018): 0.195*\"system\" + 0.102*\",\" + 0.043*\"oper\" + 0.043*\"design\" + 0.041*\"alloc\" + 0.033*\"-\" + 0.030*\"comput\" + 0.027*\"storag\" + 0.027*\"time\" + 0.025*\"share\"\n",
      "2022-02-21 13:18:15,366 : INFO : topic #28 (0.019): 0.263*\"problem\" + 0.122*\"solut\" + 0.097*\"equat\" + 0.050*\"solv\" + 0.046*\"numer\" + 0.042*\"method\" + 0.040*\"-\" + 0.031*\"comput\" + 0.030*\"differenti\" + 0.029*\"linear\"\n",
      "2022-02-21 13:18:15,367 : INFO : topic #55 (0.048): 0.418*\"(\" + 0.378*\")\" + 0.174*\"algorithm\" + 0.010*\"polynomi\" + 0.009*\"weight\" + 0.003*\"jacobi\" + 0.002*\"integr\" + 0.001*\"romberg\" + 0.001*\"adjust\" + 0.000*\"integ\"\n",
      "2022-02-21 13:18:15,368 : INFO : topic diff=0.234782, rho=0.253169\n",
      "2022-02-21 13:18:16,387 : INFO : -6.477 per-word bound, 89.1 perplexity estimate based on a held-out corpus of 1204 documents with 49783 words\n",
      "2022-02-21 13:18:16,387 : INFO : PROGRESS: pass 13, at document #3204/3204\n",
      "2022-02-21 13:18:17,344 : INFO : optimized alpha [0.012059412, 0.012742253, 0.012096819, 0.01379973, 0.0134701785, 0.013715386, 0.01509417, 0.011714524, 0.013681358, 0.013373543, 0.010995355, 0.014817144, 0.012842515, 0.012761444, 0.014090896, 0.012590485, 0.012633803, 0.014866974, 0.011663168, 0.011500672, 0.011295815, 0.012548724, 0.012473431, 0.012065887, 0.011411613, 0.011100098, 0.011281619, 0.014595538, 0.02004823, 0.014366199, 0.014212457, 0.011786805, 0.012877558, 0.014632765, 0.01194283, 0.011564504, 0.013155078, 0.012648884, 0.010743171, 0.010672518, 0.011529951, 0.011344402, 0.011933748, 0.012836026, 0.0114715835, 0.012582336, 0.015274137, 0.012765967, 0.013658713, 0.017047483, 0.013248244, 0.012931313, 0.011516741, 0.012242574, 0.014955262, 0.050316893, 0.01280966, 0.013238747, 0.011562039, 0.0111309355, 0.014703257, 0.013332289, 0.012272574, 0.011639202, 0.013116167, 0.01274884, 0.011089973, 0.01302342, 0.011974721, 0.013934801, 0.0112391105, 0.0133477235, 0.012767105, 0.0183866, 0.013240792, 0.011856394, 0.0104927635, 0.012011795, 0.012771757, 0.0154085085, 0.010413629, 0.013559737, 0.011423779, 0.012148091, 0.012654052, 0.013852728, 0.0120109385, 0.012935138, 0.01135415, 0.011076864, 0.012985582, 0.011185447, 0.012264093, 0.012600939, 0.010910504, 0.010544223, 0.011715316, 0.016630974, 0.012180505, 0.01115635]\n",
      "2022-02-21 13:18:17,351 : INFO : merging changes from 1204 documents into a model of 3204 documents\n",
      "2022-02-21 13:18:17,358 : INFO : topic #80 (0.010): 0.209*\";\" + 0.192*\"disk\" + 0.111*\"move\" + 0.066*\"sequenti\" + 0.059*\"argument\" + 0.057*\"gamma\" + 0.050*\"spars\" + 0.044*\"servic\" + 0.032*\"summar\" + 0.017*\"student\"\n",
      "2022-02-21 13:18:17,362 : INFO : topic #95 (0.011): 0.163*\"-\" + 0.070*\",\" + 0.052*\"machin\" + 0.039*\"architectur\" + 0.030*\"start\" + 0.029*\"human\" + 0.024*\"ratio\" + 0.024*\"bank\" + 0.020*\"program\" + 0.019*\"approach\"\n",
      "2022-02-21 13:18:17,363 : INFO : topic #73 (0.018): 0.197*\"system\" + 0.105*\",\" + 0.045*\"oper\" + 0.044*\"design\" + 0.043*\"alloc\" + 0.032*\"-\" + 0.029*\"comput\" + 0.026*\"storag\" + 0.026*\"time\" + 0.025*\"hardwar\"\n",
      "2022-02-21 13:18:17,366 : INFO : topic #28 (0.020): 0.277*\"problem\" + 0.124*\"solut\" + 0.093*\"equat\" + 0.053*\"solv\" + 0.040*\"method\" + 0.040*\"-\" + 0.040*\"numer\" + 0.031*\"linear\" + 0.030*\"comput\" + 0.030*\"program\"\n",
      "2022-02-21 13:18:17,366 : INFO : topic #55 (0.050): 0.428*\"(\" + 0.379*\")\" + 0.163*\"algorithm\" + 0.011*\"weight\" + 0.009*\"polynomi\" + 0.002*\"jacobi\" + 0.001*\"integr\" + 0.001*\"adjust\" + 0.001*\"romberg\" + 0.000*\"integ\"\n",
      "2022-02-21 13:18:17,367 : INFO : topic diff=0.240426, rho=0.253169\n",
      "2022-02-21 13:18:17,378 : INFO : PROGRESS: pass 14, at document #2000/3204\n",
      "2022-02-21 13:18:18,420 : INFO : optimized alpha [0.012109258, 0.012749731, 0.012160459, 0.013828963, 0.01347054, 0.013719077, 0.015164641, 0.011741824, 0.013894699, 0.013418237, 0.011004765, 0.0148995025, 0.01298848, 0.012771164, 0.014197061, 0.012683996, 0.012633122, 0.014981272, 0.011680839, 0.0115384655, 0.011360421, 0.012607148, 0.012562547, 0.012200852, 0.011450684, 0.011127222, 0.011336671, 0.014744387, 0.020372065, 0.014571661, 0.014375568, 0.011810725, 0.012932917, 0.014712717, 0.011959565, 0.011560098, 0.013247248, 0.012660035, 0.010776725, 0.010702586, 0.011543112, 0.011357138, 0.011951841, 0.01288965, 0.011454161, 0.012571013, 0.015363542, 0.01289266, 0.013816968, 0.017356614, 0.013323083, 0.012999039, 0.011523079, 0.012240692, 0.015056035, 0.05283934, 0.012849926, 0.01339685, 0.011652305, 0.011131226, 0.01492655, 0.013369973, 0.012278911, 0.011662301, 0.0132271545, 0.012917751, 0.011107685, 0.013010452, 0.012010636, 0.013956256, 0.011212282, 0.013397918, 0.012815991, 0.01858132, 0.013374039, 0.011877561, 0.01050299, 0.0120544825, 0.012753554, 0.015779043, 0.010417056, 0.013709282, 0.011435872, 0.0121825, 0.012797228, 0.013960453, 0.012062672, 0.012923982, 0.011387331, 0.011103612, 0.013042811, 0.011211467, 0.012308197, 0.0126661835, 0.010964688, 0.010562019, 0.011745764, 0.016992502, 0.012251902, 0.011193404]\n",
      "2022-02-21 13:18:18,429 : INFO : merging changes from 2000 documents into a model of 3204 documents\n",
      "2022-02-21 13:18:18,435 : INFO : topic #80 (0.010): 0.212*\";\" + 0.199*\"disk\" + 0.098*\"move\" + 0.064*\"argument\" + 0.060*\"sequenti\" + 0.056*\"gamma\" + 0.045*\"spars\" + 0.038*\"servic\" + 0.030*\"summar\" + 0.018*\"student\"\n",
      "2022-02-21 13:18:18,436 : INFO : topic #76 (0.011): 0.129*\",\" + 0.101*\"processor\" + 0.049*\"-\" + 0.046*\"+\" + 0.038*\"machin\" + 0.034*\"languag\" + 0.032*\"=\" + 0.027*\"1\" + 0.023*\"list\" + 0.021*\"process\"\n",
      "2022-02-21 13:18:18,437 : INFO : topic #73 (0.019): 0.199*\"system\" + 0.104*\",\" + 0.044*\"oper\" + 0.042*\"design\" + 0.041*\"alloc\" + 0.033*\"-\" + 0.030*\"comput\" + 0.027*\"storag\" + 0.026*\"time\" + 0.024*\"share\"\n",
      "2022-02-21 13:18:18,439 : INFO : topic #28 (0.020): 0.265*\"problem\" + 0.123*\"solut\" + 0.097*\"equat\" + 0.050*\"solv\" + 0.046*\"numer\" + 0.042*\"method\" + 0.041*\"-\" + 0.030*\"comput\" + 0.030*\"linear\" + 0.030*\"differenti\"\n",
      "2022-02-21 13:18:18,442 : INFO : topic #55 (0.053): 0.421*\"(\" + 0.378*\")\" + 0.173*\"algorithm\" + 0.010*\"polynomi\" + 0.009*\"weight\" + 0.003*\"jacobi\" + 0.001*\"integr\" + 0.001*\"romberg\" + 0.001*\"adjust\" + 0.000*\"integ\"\n",
      "2022-02-21 13:18:18,444 : INFO : topic diff=0.212193, rho=0.245426\n",
      "2022-02-21 13:18:19,573 : INFO : -6.468 per-word bound, 88.5 perplexity estimate based on a held-out corpus of 1204 documents with 49783 words\n",
      "2022-02-21 13:18:19,574 : INFO : PROGRESS: pass 14, at document #3204/3204\n",
      "2022-02-21 13:18:20,468 : INFO : optimized alpha [0.012212408, 0.012962945, 0.012274443, 0.014086843, 0.013657296, 0.013946393, 0.015443448, 0.011868829, 0.013982253, 0.013684487, 0.011122713, 0.015410539, 0.013127683, 0.012974548, 0.014402362, 0.012782639, 0.012744329, 0.015297038, 0.011774816, 0.01165934, 0.011419107, 0.012745294, 0.01271883, 0.012222912, 0.01154466, 0.011220376, 0.0114500355, 0.015049034, 0.020979246, 0.014795757, 0.014604785, 0.011930669, 0.013145488, 0.015008287, 0.012128818, 0.01169549, 0.013457956, 0.012881648, 0.010846493, 0.010758045, 0.0117116785, 0.011463564, 0.012086953, 0.013062138, 0.01159535, 0.012770709, 0.015731214, 0.012980999, 0.014056963, 0.017667131, 0.01349327, 0.013161499, 0.01170464, 0.012399565, 0.015322622, 0.05453069, 0.0130057065, 0.013547215, 0.011734293, 0.011253723, 0.015077882, 0.013568945, 0.012433151, 0.011781576, 0.013391304, 0.013021909, 0.011157635, 0.013266617, 0.012132204, 0.014218298, 0.0113328425, 0.013598678, 0.012980291, 0.019008085, 0.013535505, 0.012018424, 0.0105551025, 0.012147717, 0.012965141, 0.015732693, 0.0104831355, 0.013885082, 0.011584461, 0.01230568, 0.012950041, 0.014135286, 0.012238772, 0.013141734, 0.011486187, 0.011209181, 0.0132382335, 0.011296462, 0.012431491, 0.012840104, 0.011111044, 0.01064456, 0.011853717, 0.017324956, 0.012409066, 0.011254659]\n",
      "2022-02-21 13:18:20,483 : INFO : merging changes from 1204 documents into a model of 3204 documents\n",
      "2022-02-21 13:18:20,490 : INFO : topic #80 (0.010): 0.214*\";\" + 0.193*\"disk\" + 0.111*\"move\" + 0.067*\"sequenti\" + 0.059*\"argument\" + 0.057*\"gamma\" + 0.050*\"spars\" + 0.045*\"servic\" + 0.031*\"summar\" + 0.016*\"-\"\n",
      "2022-02-21 13:18:20,491 : INFO : topic #76 (0.011): 0.130*\",\" + 0.103*\"processor\" + 0.055*\"+\" + 0.047*\"-\" + 0.037*\"machin\" + 0.036*\"=\" + 0.029*\"languag\" + 0.027*\"1\" + 0.021*\"assembl\" + 0.021*\"list\"\n",
      "2022-02-21 13:18:20,497 : INFO : topic #73 (0.019): 0.201*\"system\" + 0.106*\",\" + 0.046*\"oper\" + 0.044*\"design\" + 0.043*\"alloc\" + 0.032*\"-\" + 0.028*\"comput\" + 0.026*\"storag\" + 0.025*\"hardwar\" + 0.025*\"implement\"\n",
      "2022-02-21 13:18:20,498 : INFO : topic #28 (0.021): 0.278*\"problem\" + 0.125*\"solut\" + 0.093*\"equat\" + 0.053*\"solv\" + 0.041*\"-\" + 0.041*\"method\" + 0.040*\"numer\" + 0.031*\"linear\" + 0.030*\"program\" + 0.029*\"comput\"\n",
      "2022-02-21 13:18:20,499 : INFO : topic #55 (0.055): 0.430*\"(\" + 0.379*\")\" + 0.162*\"algorithm\" + 0.011*\"weight\" + 0.009*\"polynomi\" + 0.002*\"jacobi\" + 0.001*\"integr\" + 0.001*\"adjust\" + 0.001*\"romberg\" + 0.000*\"integ\"\n",
      "2022-02-21 13:18:20,502 : INFO : topic diff=0.217924, rho=0.245426\n",
      "2022-02-21 13:18:20,514 : INFO : PROGRESS: pass 15, at document #2000/3204\n",
      "2022-02-21 13:18:21,462 : INFO : optimized alpha [0.01225976, 0.012971179, 0.012338223, 0.014112897, 0.013649041, 0.013952676, 0.015513611, 0.011895473, 0.014192639, 0.013730794, 0.0111331865, 0.01549338, 0.013280729, 0.012985014, 0.014506379, 0.012880449, 0.012743821, 0.015408727, 0.011792185, 0.011692135, 0.011486549, 0.012807085, 0.01280773, 0.012351094, 0.011584357, 0.011248358, 0.011506696, 0.015193511, 0.021309813, 0.01500408, 0.014767286, 0.011952575, 0.013199331, 0.01508588, 0.01214636, 0.011693907, 0.013545043, 0.01288731, 0.010885993, 0.010790255, 0.011724211, 0.0114774015, 0.012104576, 0.013114432, 0.011583818, 0.012756044, 0.015829025, 0.013113231, 0.014216323, 0.017977968, 0.013566442, 0.013227684, 0.0117090205, 0.012397554, 0.015424519, 0.057088647, 0.013048037, 0.013706104, 0.011824308, 0.011258015, 0.01529644, 0.013603832, 0.0124435695, 0.011806981, 0.013505075, 0.013189958, 0.011183388, 0.013254519, 0.012173138, 0.014238339, 0.011306712, 0.013650723, 0.01302795, 0.019208118, 0.013666526, 0.012039, 0.010566719, 0.012192519, 0.012951367, 0.01611391, 0.010490499, 0.014032341, 0.011600274, 0.012343728, 0.013092557, 0.01424257, 0.012292174, 0.013127037, 0.011520153, 0.0112393405, 0.013305214, 0.011323384, 0.012477678, 0.012906974, 0.011168057, 0.010667234, 0.0118863275, 0.017691411, 0.01248192, 0.011293755]\n",
      "2022-02-21 13:18:21,467 : INFO : merging changes from 2000 documents into a model of 3204 documents\n",
      "2022-02-21 13:18:21,474 : INFO : topic #80 (0.010): 0.217*\";\" + 0.199*\"disk\" + 0.098*\"move\" + 0.064*\"argument\" + 0.062*\"sequenti\" + 0.055*\"gamma\" + 0.045*\"spars\" + 0.039*\"servic\" + 0.029*\"summar\" + 0.016*\"student\"\n",
      "2022-02-21 13:18:21,474 : INFO : topic #76 (0.011): 0.130*\",\" + 0.107*\"processor\" + 0.049*\"-\" + 0.046*\"+\" + 0.040*\"machin\" + 0.033*\"=\" + 0.031*\"languag\" + 0.026*\"1\" + 0.023*\"assembl\" + 0.022*\"list\"\n",
      "2022-02-21 13:18:21,476 : INFO : topic #73 (0.019): 0.203*\"system\" + 0.105*\",\" + 0.046*\"oper\" + 0.042*\"design\" + 0.041*\"alloc\" + 0.033*\"-\" + 0.029*\"comput\" + 0.028*\"storag\" + 0.025*\"time\" + 0.024*\"hardwar\"\n",
      "2022-02-21 13:18:21,477 : INFO : topic #28 (0.021): 0.266*\"problem\" + 0.124*\"solut\" + 0.098*\"equat\" + 0.051*\"solv\" + 0.045*\"numer\" + 0.043*\"method\" + 0.042*\"-\" + 0.030*\"linear\" + 0.029*\"comput\" + 0.029*\"differenti\"\n",
      "2022-02-21 13:18:21,479 : INFO : topic #55 (0.057): 0.423*\"(\" + 0.377*\")\" + 0.172*\"algorithm\" + 0.010*\"polynomi\" + 0.009*\"weight\" + 0.003*\"jacobi\" + 0.001*\"adjust\" + 0.001*\"romberg\" + 0.001*\"integr\" + 0.000*\"integ\"\n",
      "2022-02-21 13:18:21,480 : INFO : topic diff=0.193739, rho=0.238352\n",
      "2022-02-21 13:18:22,417 : INFO : -6.461 per-word bound, 88.1 perplexity estimate based on a held-out corpus of 1204 documents with 49783 words\n",
      "2022-02-21 13:18:22,417 : INFO : PROGRESS: pass 15, at document #3204/3204\n",
      "2022-02-21 13:18:23,061 : INFO : optimized alpha [0.0123680895, 0.013185857, 0.012449857, 0.014372505, 0.013832243, 0.014167536, 0.01577255, 0.012022292, 0.014277496, 0.013990594, 0.011255411, 0.016028745, 0.013419756, 0.013184763, 0.014705111, 0.012979391, 0.012850174, 0.015717592, 0.011881835, 0.0118223, 0.011537043, 0.01293993, 0.012958627, 0.012372306, 0.011680992, 0.011337341, 0.0116224205, 0.015497901, 0.021910563, 0.015230699, 0.015001761, 0.012077233, 0.0134111075, 0.015383185, 0.01231742, 0.0118335895, 0.013758031, 0.013102666, 0.010954334, 0.010857547, 0.011885006, 0.011581675, 0.012241838, 0.013288951, 0.011719906, 0.012949526, 0.016205398, 0.013199368, 0.014467136, 0.018294815, 0.013730632, 0.013386978, 0.01188517, 0.012543402, 0.015689977, 0.05873229, 0.013198165, 0.013853448, 0.011906747, 0.011389193, 0.015444126, 0.01380485, 0.012594851, 0.011933274, 0.013663478, 0.013294258, 0.011239098, 0.013509265, 0.01229457, 0.014499099, 0.011422516, 0.01385068, 0.013194394, 0.01962667, 0.013822128, 0.012181935, 0.010619965, 0.012283795, 0.0131591195, 0.016065393, 0.01055526, 0.01420209, 0.011743666, 0.012464423, 0.013242621, 0.014416856, 0.012479991, 0.013346141, 0.011621598, 0.011349381, 0.0135053545, 0.011408853, 0.012588516, 0.013082975, 0.011318539, 0.010750228, 0.011992094, 0.018026927, 0.012641146, 0.011351492]\n",
      "2022-02-21 13:18:23,067 : INFO : merging changes from 1204 documents into a model of 3204 documents\n",
      "2022-02-21 13:18:23,073 : INFO : topic #80 (0.011): 0.219*\";\" + 0.193*\"disk\" + 0.111*\"move\" + 0.068*\"sequenti\" + 0.060*\"argument\" + 0.057*\"gamma\" + 0.050*\"spars\" + 0.045*\"servic\" + 0.028*\"summar\" + 0.017*\"student\"\n",
      "2022-02-21 13:18:23,074 : INFO : topic #76 (0.011): 0.130*\",\" + 0.107*\"processor\" + 0.055*\"+\" + 0.048*\"-\" + 0.038*\"machin\" + 0.037*\"=\" + 0.027*\"languag\" + 0.027*\"1\" + 0.023*\"assembl\" + 0.020*\"list\"\n",
      "2022-02-21 13:18:23,075 : INFO : topic #73 (0.020): 0.205*\"system\" + 0.107*\",\" + 0.047*\"oper\" + 0.044*\"design\" + 0.042*\"alloc\" + 0.031*\"-\" + 0.028*\"comput\" + 0.027*\"storag\" + 0.025*\"implement\" + 0.025*\"hardwar\"\n",
      "2022-02-21 13:18:23,076 : INFO : topic #28 (0.022): 0.280*\"problem\" + 0.127*\"solut\" + 0.093*\"equat\" + 0.054*\"solv\" + 0.042*\"-\" + 0.041*\"method\" + 0.040*\"numer\" + 0.031*\"linear\" + 0.030*\"program\" + 0.029*\"comput\"\n",
      "2022-02-21 13:18:23,077 : INFO : topic #55 (0.059): 0.432*\"(\" + 0.378*\")\" + 0.161*\"algorithm\" + 0.011*\"weight\" + 0.009*\"polynomi\" + 0.002*\"jacobi\" + 0.001*\"adjust\" + 0.001*\"romberg\" + 0.001*\"integr\" + 0.000*\"'\"\n",
      "2022-02-21 13:18:23,078 : INFO : topic diff=0.199437, rho=0.238352\n",
      "2022-02-21 13:18:23,087 : INFO : PROGRESS: pass 16, at document #2000/3204\n",
      "2022-02-21 13:18:23,826 : INFO : optimized alpha [0.012417425, 0.013193298, 0.012516809, 0.014392134, 0.013828636, 0.0141697945, 0.01583146, 0.012051099, 0.0144852, 0.014035246, 0.01126693, 0.01610457, 0.013575424, 0.013194526, 0.014808805, 0.013080039, 0.012849865, 0.015824983, 0.011897606, 0.011859886, 0.01160066, 0.012995998, 0.013048978, 0.012498343, 0.011719951, 0.0113648465, 0.011675278, 0.015647292, 0.022235265, 0.015440418, 0.015167286, 0.012104341, 0.013465028, 0.0154584935, 0.012340003, 0.011831879, 0.013851576, 0.013107572, 0.010996994, 0.010886722, 0.011897026, 0.011593999, 0.012263314, 0.013339941, 0.011715459, 0.012942269, 0.016302343, 0.013334204, 0.0146310935, 0.01860975, 0.013803838, 0.013448642, 0.011898751, 0.012542788, 0.015787702, 0.061359935, 0.013241026, 0.014010139, 0.011995266, 0.011394625, 0.015659995, 0.0138450535, 0.012601947, 0.011960911, 0.01377381, 0.013456989, 0.011259251, 0.013501117, 0.012334667, 0.014521177, 0.011395747, 0.013902949, 0.013243979, 0.019834686, 0.013949455, 0.012204791, 0.010634102, 0.012324913, 0.013140443, 0.0164409, 0.010562688, 0.014350526, 0.01176035, 0.01250166, 0.013390955, 0.014520452, 0.0125394715, 0.013332605, 0.01165767, 0.011381556, 0.013577169, 0.011436657, 0.012636701, 0.013153039, 0.0113770235, 0.010778804, 0.012022755, 0.018392287, 0.012716984, 0.011390009]\n",
      "2022-02-21 13:18:23,833 : INFO : merging changes from 2000 documents into a model of 3204 documents\n",
      "2022-02-21 13:18:23,839 : INFO : topic #80 (0.011): 0.220*\";\" + 0.199*\"disk\" + 0.099*\"move\" + 0.064*\"argument\" + 0.063*\"sequenti\" + 0.055*\"gamma\" + 0.045*\"spars\" + 0.040*\"servic\" + 0.027*\"summar\" + 0.018*\"student\"\n",
      "2022-02-21 13:18:23,840 : INFO : topic #76 (0.011): 0.129*\",\" + 0.110*\"processor\" + 0.050*\"-\" + 0.046*\"+\" + 0.041*\"machin\" + 0.033*\"=\" + 0.029*\"languag\" + 0.026*\"1\" + 0.024*\"assembl\" + 0.021*\"list\"\n",
      "2022-02-21 13:18:23,842 : INFO : topic #73 (0.020): 0.207*\"system\" + 0.106*\",\" + 0.047*\"oper\" + 0.042*\"design\" + 0.041*\"alloc\" + 0.032*\"-\" + 0.029*\"comput\" + 0.028*\"storag\" + 0.024*\"time\" + 0.023*\"hardwar\"\n",
      "2022-02-21 13:18:23,843 : INFO : topic #28 (0.022): 0.268*\"problem\" + 0.126*\"solut\" + 0.098*\"equat\" + 0.051*\"solv\" + 0.045*\"numer\" + 0.043*\"method\" + 0.043*\"-\" + 0.030*\"linear\" + 0.030*\"program\" + 0.029*\"differenti\"\n",
      "2022-02-21 13:18:23,845 : INFO : topic #55 (0.061): 0.425*\"(\" + 0.377*\")\" + 0.171*\"algorithm\" + 0.010*\"polynomi\" + 0.009*\"weight\" + 0.003*\"jacobi\" + 0.001*\"adjust\" + 0.001*\"romberg\" + 0.000*\"integr\" + 0.000*\"'\"\n",
      "2022-02-21 13:18:23,845 : INFO : topic diff=0.178500, rho=0.231857\n",
      "2022-02-21 13:18:24,675 : INFO : -6.453 per-word bound, 87.6 perplexity estimate based on a held-out corpus of 1204 documents with 49783 words\n",
      "2022-02-21 13:18:24,676 : INFO : PROGRESS: pass 16, at document #3204/3204\n",
      "2022-02-21 13:18:25,298 : INFO : optimized alpha [0.012518819, 0.013404569, 0.012626278, 0.014639654, 0.014008613, 0.014386624, 0.016089458, 0.0121755535, 0.014564691, 0.014305387, 0.011393445, 0.01665599, 0.013709139, 0.01339352, 0.015007042, 0.0131743355, 0.012956621, 0.016120994, 0.011990154, 0.01198534, 0.011645623, 0.013128862, 0.013197267, 0.012518783, 0.0118169375, 0.0114564365, 0.01179337, 0.015948629, 0.022846192, 0.015663758, 0.015395611, 0.01222671, 0.013673641, 0.01575498, 0.012508243, 0.01196669, 0.014061655, 0.013322234, 0.011066112, 0.010954842, 0.012057381, 0.011689497, 0.0123957135, 0.013508882, 0.011853635, 0.013134922, 0.016675308, 0.013418276, 0.014887395, 0.01892955, 0.013965069, 0.013610433, 0.012079054, 0.012688489, 0.016049264, 0.06294457, 0.013390966, 0.014162729, 0.012075994, 0.01152358, 0.015804248, 0.014042749, 0.01275287, 0.012094209, 0.013931968, 0.013561462, 0.011320488, 0.013749598, 0.012451408, 0.01478654, 0.011509276, 0.0141024375, 0.013410127, 0.020268379, 0.014102116, 0.012342768, 0.010688463, 0.012419194, 0.0133421505, 0.01639034, 0.010626171, 0.014517284, 0.011901226, 0.012620058, 0.013548822, 0.014688765, 0.012726919, 0.013545613, 0.011757198, 0.011491756, 0.013800603, 0.0115226405, 0.012752718, 0.0133262, 0.011533944, 0.010853927, 0.012128776, 0.018730966, 0.012873582, 0.011448815]\n",
      "2022-02-21 13:18:25,304 : INFO : merging changes from 1204 documents into a model of 3204 documents\n",
      "2022-02-21 13:18:25,311 : INFO : topic #80 (0.011): 0.219*\";\" + 0.194*\"disk\" + 0.111*\"move\" + 0.069*\"sequenti\" + 0.060*\"argument\" + 0.057*\"gamma\" + 0.050*\"spars\" + 0.046*\"servic\" + 0.029*\"summar\" + 0.016*\"student\"\n",
      "2022-02-21 13:18:25,312 : INFO : topic #76 (0.011): 0.130*\",\" + 0.111*\"processor\" + 0.055*\"+\" + 0.048*\"-\" + 0.039*\"machin\" + 0.037*\"=\" + 0.026*\"1\" + 0.025*\"languag\" + 0.024*\"assembl\" + 0.020*\"list\"\n",
      "2022-02-21 13:18:25,312 : INFO : topic #73 (0.020): 0.208*\"system\" + 0.108*\",\" + 0.048*\"oper\" + 0.044*\"design\" + 0.042*\"alloc\" + 0.031*\"-\" + 0.027*\"comput\" + 0.027*\"storag\" + 0.025*\"implement\" + 0.025*\"hardwar\"\n",
      "2022-02-21 13:18:25,313 : INFO : topic #28 (0.023): 0.281*\"problem\" + 0.127*\"solut\" + 0.094*\"equat\" + 0.054*\"solv\" + 0.043*\"-\" + 0.042*\"method\" + 0.040*\"numer\" + 0.031*\"linear\" + 0.030*\"program\" + 0.028*\"comput\"\n",
      "2022-02-21 13:18:25,314 : INFO : topic #55 (0.063): 0.434*\"(\" + 0.378*\")\" + 0.160*\"algorithm\" + 0.011*\"weight\" + 0.009*\"polynomi\" + 0.002*\"jacobi\" + 0.001*\"adjust\" + 0.000*\"romberg\" + 0.000*\"integr\" + 0.000*\"'\"\n",
      "2022-02-21 13:18:25,315 : INFO : topic diff=0.183754, rho=0.231857\n",
      "2022-02-21 13:18:25,323 : INFO : PROGRESS: pass 17, at document #2000/3204\n",
      "2022-02-21 13:18:26,051 : INFO : optimized alpha [0.01256732, 0.013414301, 0.012692077, 0.0146680325, 0.01400626, 0.014391541, 0.016159581, 0.012205101, 0.014771492, 0.014350079, 0.011407224, 0.01673022, 0.013870683, 0.013402563, 0.01510545, 0.013274874, 0.012954991, 0.0162242, 0.012007101, 0.012020829, 0.011709605, 0.013182304, 0.013287595, 0.012644287, 0.011855168, 0.01148475, 0.011849297, 0.016095808, 0.023180157, 0.015876686, 0.015564368, 0.012253275, 0.013727718, 0.015828101, 0.012528704, 0.011964918, 0.014147098, 0.013331083, 0.0111106, 0.010991035, 0.012068878, 0.011699014, 0.012416701, 0.013558714, 0.011851802, 0.013124353, 0.016769517, 0.013549604, 0.015056178, 0.019236006, 0.014036807, 0.013677024, 0.012092054, 0.012687763, 0.016148353, 0.06558726, 0.013428282, 0.014320585, 0.01215895, 0.011532793, 0.016017577, 0.014081785, 0.012765399, 0.012115712, 0.014042092, 0.013725247, 0.011346893, 0.0137407025, 0.012494915, 0.014807248, 0.011483184, 0.014150175, 0.013458616, 0.020466132, 0.0142243095, 0.012366428, 0.010701373, 0.012461023, 0.013323296, 0.016760465, 0.010633671, 0.0146604385, 0.011920132, 0.012659434, 0.013703114, 0.01478889, 0.012789502, 0.013536385, 0.011793962, 0.011527201, 0.013877058, 0.011552589, 0.012797158, 0.013393388, 0.01159784, 0.0108833285, 0.012164483, 0.019099435, 0.012946573, 0.0114867585]\n",
      "2022-02-21 13:18:26,058 : INFO : merging changes from 2000 documents into a model of 3204 documents\n",
      "2022-02-21 13:18:26,064 : INFO : topic #80 (0.011): 0.222*\";\" + 0.199*\"disk\" + 0.099*\"move\" + 0.064*\"argument\" + 0.063*\"sequenti\" + 0.055*\"gamma\" + 0.045*\"spars\" + 0.041*\"servic\" + 0.027*\"summar\" + 0.017*\"student\"\n",
      "2022-02-21 13:18:26,065 : INFO : topic #76 (0.011): 0.129*\",\" + 0.114*\"processor\" + 0.050*\"-\" + 0.046*\"+\" + 0.041*\"machin\" + 0.034*\"=\" + 0.027*\"languag\" + 0.026*\"assembl\" + 0.026*\"1\" + 0.021*\"list\"\n",
      "2022-02-21 13:18:26,067 : INFO : topic #73 (0.020): 0.210*\"system\" + 0.107*\",\" + 0.047*\"oper\" + 0.042*\"design\" + 0.040*\"alloc\" + 0.032*\"-\" + 0.028*\"comput\" + 0.028*\"storag\" + 0.023*\"hardwar\" + 0.023*\"implement\"\n",
      "2022-02-21 13:18:26,068 : INFO : topic #28 (0.023): 0.270*\"problem\" + 0.127*\"solut\" + 0.099*\"equat\" + 0.051*\"solv\" + 0.045*\"numer\" + 0.044*\"-\" + 0.043*\"method\" + 0.030*\"linear\" + 0.030*\"program\" + 0.029*\"differenti\"\n",
      "2022-02-21 13:18:26,070 : INFO : topic #55 (0.066): 0.427*\"(\" + 0.377*\")\" + 0.169*\"algorithm\" + 0.010*\"polynomi\" + 0.009*\"weight\" + 0.003*\"jacobi\" + 0.001*\"adjust\" + 0.000*\"romberg\" + 0.000*\"integr\" + 0.000*\"'\"\n",
      "2022-02-21 13:18:26,070 : INFO : topic diff=0.165895, rho=0.225865\n",
      "2022-02-21 13:18:26,966 : INFO : -6.447 per-word bound, 87.2 perplexity estimate based on a held-out corpus of 1204 documents with 49783 words\n",
      "2022-02-21 13:18:26,967 : INFO : PROGRESS: pass 17, at document #3204/3204\n",
      "2022-02-21 13:18:27,590 : INFO : optimized alpha [0.012676323, 0.013622442, 0.01280435, 0.014912171, 0.01417795, 0.014599544, 0.016423203, 0.012329709, 0.014851386, 0.014617279, 0.011525198, 0.017298633, 0.014015002, 0.013598398, 0.015303345, 0.013372159, 0.013059824, 0.016519744, 0.012095697, 0.012144165, 0.011755845, 0.0133153675, 0.0134384865, 0.012664, 0.011952642, 0.01157467, 0.011963119, 0.01640627, 0.023801748, 0.01610571, 0.01578966, 0.012373492, 0.013928248, 0.0161298, 0.012694321, 0.012101882, 0.014357143, 0.013547726, 0.01118048, 0.011057947, 0.012226704, 0.011797218, 0.012549179, 0.013724935, 0.011994394, 0.013316393, 0.017148636, 0.013634238, 0.015315469, 0.019555481, 0.014197878, 0.013838756, 0.012265123, 0.012833386, 0.016403245, 0.06705662, 0.013578149, 0.014473124, 0.012238054, 0.011661771, 0.016158573, 0.014276426, 0.012913778, 0.012249094, 0.01420818, 0.013827451, 0.011409222, 0.013990911, 0.0126142735, 0.015066308, 0.011594644, 0.014346546, 0.013622108, 0.020907225, 0.014374232, 0.01249973, 0.0107547855, 0.012555899, 0.013524192, 0.016711056, 0.010696043, 0.014821559, 0.012058679, 0.012773308, 0.013861074, 0.014954282, 0.012976866, 0.013746165, 0.011893957, 0.0116355205, 0.0140899625, 0.011632648, 0.0129135, 0.013561412, 0.0117569715, 0.010963257, 0.012270946, 0.01943092, 0.013098281, 0.011542316]\n",
      "2022-02-21 13:18:27,596 : INFO : merging changes from 1204 documents into a model of 3204 documents\n",
      "2022-02-21 13:18:27,602 : INFO : topic #80 (0.011): 0.221*\";\" + 0.194*\"disk\" + 0.111*\"move\" + 0.070*\"sequenti\" + 0.060*\"argument\" + 0.057*\"gamma\" + 0.050*\"spars\" + 0.046*\"servic\" + 0.029*\"summar\" + 0.015*\"student\"\n",
      "2022-02-21 13:18:27,603 : INFO : topic #76 (0.011): 0.129*\",\" + 0.113*\"processor\" + 0.055*\"+\" + 0.049*\"-\" + 0.040*\"machin\" + 0.038*\"=\" + 0.025*\"1\" + 0.025*\"assembl\" + 0.023*\"languag\" + 0.020*\"list\"\n",
      "2022-02-21 13:18:27,605 : INFO : topic #73 (0.021): 0.211*\"system\" + 0.109*\",\" + 0.049*\"oper\" + 0.044*\"design\" + 0.041*\"alloc\" + 0.031*\"-\" + 0.027*\"storag\" + 0.027*\"comput\" + 0.025*\"implement\" + 0.024*\"hardwar\"\n",
      "2022-02-21 13:18:27,606 : INFO : topic #28 (0.024): 0.282*\"problem\" + 0.128*\"solut\" + 0.094*\"equat\" + 0.054*\"solv\" + 0.044*\"-\" + 0.042*\"method\" + 0.040*\"numer\" + 0.031*\"linear\" + 0.030*\"program\" + 0.028*\"differenti\"\n",
      "2022-02-21 13:18:27,608 : INFO : topic #55 (0.067): 0.436*\"(\" + 0.377*\")\" + 0.159*\"algorithm\" + 0.011*\"weight\" + 0.010*\"polynomi\" + 0.002*\"jacobi\" + 0.001*\"adjust\" + 0.000*\"romberg\" + 0.000*\"integr\" + 0.000*\"'\"\n",
      "2022-02-21 13:18:27,611 : INFO : topic diff=0.170602, rho=0.225865\n",
      "2022-02-21 13:18:27,619 : INFO : PROGRESS: pass 18, at document #2000/3204\n",
      "2022-02-21 13:18:28,325 : INFO : optimized alpha [0.012725415, 0.013631438, 0.012871866, 0.014946048, 0.01417073, 0.014602193, 0.016489603, 0.012362742, 0.015059212, 0.014670169, 0.011538679, 0.017380718, 0.014179357, 0.013609777, 0.015403343, 0.013471154, 0.0130598815, 0.016622547, 0.012116465, 0.012180316, 0.011821475, 0.0133707365, 0.0135273915, 0.012787668, 0.011990279, 0.011601271, 0.0120180715, 0.016551329, 0.024121689, 0.016330894, 0.015958205, 0.012403712, 0.013981042, 0.016200824, 0.012716972, 0.012106685, 0.014442753, 0.013555757, 0.011225536, 0.011091191, 0.012239067, 0.011804022, 0.012569704, 0.013776699, 0.011995092, 0.013307015, 0.01724018, 0.013762373, 0.01548244, 0.0198599, 0.0142698595, 0.013902589, 0.012278963, 0.012831087, 0.016501939, 0.06970319, 0.0136176795, 0.014629115, 0.012326535, 0.01167196, 0.016369546, 0.014322345, 0.012923043, 0.012275542, 0.014318184, 0.01398941, 0.011431578, 0.013981239, 0.012658415, 0.015089107, 0.011569171, 0.014394744, 0.013671058, 0.021117423, 0.014494604, 0.012522854, 0.010768847, 0.012599817, 0.013502132, 0.017083438, 0.010703624, 0.0149628585, 0.01207711, 0.012807751, 0.014027349, 0.015052696, 0.013043992, 0.01373494, 0.011930133, 0.011670356, 0.014177675, 0.011663435, 0.012959969, 0.013625847, 0.011827534, 0.010992237, 0.012306049, 0.019800328, 0.013174321, 0.011579746]\n",
      "2022-02-21 13:18:28,333 : INFO : merging changes from 2000 documents into a model of 3204 documents\n",
      "2022-02-21 13:18:28,340 : INFO : topic #80 (0.011): 0.224*\";\" + 0.200*\"disk\" + 0.099*\"move\" + 0.064*\"argument\" + 0.064*\"sequenti\" + 0.056*\"gamma\" + 0.045*\"spars\" + 0.041*\"servic\" + 0.028*\"summar\" + 0.016*\"student\"\n",
      "2022-02-21 13:18:28,341 : INFO : topic #76 (0.011): 0.128*\",\" + 0.117*\"processor\" + 0.051*\"-\" + 0.046*\"+\" + 0.043*\"machin\" + 0.034*\"=\" + 0.027*\"assembl\" + 0.025*\"1\" + 0.025*\"languag\" + 0.021*\"list\"\n",
      "2022-02-21 13:18:28,345 : INFO : topic #73 (0.021): 0.213*\"system\" + 0.108*\",\" + 0.048*\"oper\" + 0.042*\"design\" + 0.040*\"alloc\" + 0.031*\"-\" + 0.028*\"storag\" + 0.028*\"comput\" + 0.023*\"implement\" + 0.023*\"hardwar\"\n",
      "2022-02-21 13:18:28,348 : INFO : topic #28 (0.024): 0.271*\"problem\" + 0.127*\"solut\" + 0.099*\"equat\" + 0.052*\"solv\" + 0.045*\"numer\" + 0.044*\"-\" + 0.044*\"method\" + 0.030*\"linear\" + 0.030*\"program\" + 0.029*\"differenti\"\n",
      "2022-02-21 13:18:28,350 : INFO : topic #55 (0.070): 0.428*\"(\" + 0.377*\")\" + 0.168*\"algorithm\" + 0.010*\"polynomi\" + 0.009*\"weight\" + 0.003*\"jacobi\" + 0.001*\"adjust\" + 0.000*\"romberg\" + 0.000*\"integr\" + 0.000*\"'\"\n",
      "2022-02-21 13:18:28,350 : INFO : topic diff=0.155093, rho=0.220316\n",
      "2022-02-21 13:18:29,179 : INFO : -6.442 per-word bound, 86.9 perplexity estimate based on a held-out corpus of 1204 documents with 49783 words\n",
      "2022-02-21 13:18:29,179 : INFO : PROGRESS: pass 18, at document #3204/3204\n",
      "2022-02-21 13:18:29,789 : INFO : optimized alpha [0.012830234, 0.013836637, 0.01298216, 0.015187022, 0.014342273, 0.014809891, 0.01674359, 0.012485324, 0.015136806, 0.014939953, 0.011654756, 0.01795727, 0.014318623, 0.013805248, 0.015601095, 0.013566487, 0.013162957, 0.016914774, 0.012203524, 0.012297202, 0.011866857, 0.013501633, 0.013678531, 0.012806708, 0.012083859, 0.011687527, 0.012130085, 0.016859172, 0.024749698, 0.016559953, 0.016186537, 0.012526622, 0.014178837, 0.016499199, 0.01287784, 0.0122481445, 0.014655635, 0.013767186, 0.011296225, 0.011163087, 0.012392214, 0.011900569, 0.012695417, 0.013940408, 0.0121377045, 0.013493795, 0.017622588, 0.013845211, 0.015744807, 0.020175284, 0.0144282915, 0.014061781, 0.012454187, 0.012976704, 0.01675637, 0.07109585, 0.013765086, 0.01478442, 0.012404112, 0.01179683, 0.016507452, 0.014516824, 0.013069071, 0.012409025, 0.014476423, 0.014089481, 0.011501293, 0.01423335, 0.012778106, 0.015358705, 0.011678719, 0.014588351, 0.013837141, 0.021562964, 0.014641942, 0.012656308, 0.010825394, 0.0126954205, 0.013702571, 0.017028851, 0.010766934, 0.015121267, 0.012220113, 0.012919703, 0.01418311, 0.01521535, 0.01324107, 0.013951781, 0.0120306555, 0.011781131, 0.014393339, 0.011744196, 0.013074357, 0.013796375, 0.0119889835, 0.011072875, 0.0124061555, 0.020127922, 0.013328492, 0.011634345]\n",
      "2022-02-21 13:18:29,796 : INFO : merging changes from 1204 documents into a model of 3204 documents\n",
      "2022-02-21 13:18:29,802 : INFO : topic #80 (0.011): 0.223*\";\" + 0.194*\"disk\" + 0.111*\"move\" + 0.070*\"sequenti\" + 0.060*\"argument\" + 0.057*\"gamma\" + 0.050*\"spars\" + 0.047*\"servic\" + 0.029*\"summar\" + 0.016*\"student\"\n",
      "2022-02-21 13:18:29,803 : INFO : topic #76 (0.011): 0.128*\",\" + 0.117*\"processor\" + 0.054*\"+\" + 0.049*\"-\" + 0.041*\"machin\" + 0.038*\"=\" + 0.026*\"assembl\" + 0.024*\"1\" + 0.022*\"languag\" + 0.019*\"list\"\n",
      "2022-02-21 13:18:29,804 : INFO : topic #73 (0.022): 0.214*\"system\" + 0.110*\",\" + 0.049*\"oper\" + 0.044*\"design\" + 0.041*\"alloc\" + 0.030*\"-\" + 0.027*\"storag\" + 0.027*\"comput\" + 0.025*\"implement\" + 0.024*\"hardwar\"\n",
      "2022-02-21 13:18:29,806 : INFO : topic #28 (0.025): 0.283*\"problem\" + 0.129*\"solut\" + 0.095*\"equat\" + 0.054*\"solv\" + 0.045*\"-\" + 0.043*\"method\" + 0.040*\"numer\" + 0.032*\"linear\" + 0.030*\"program\" + 0.028*\"differenti\"\n",
      "2022-02-21 13:18:29,807 : INFO : topic #55 (0.071): 0.437*\"(\" + 0.377*\")\" + 0.159*\"algorithm\" + 0.011*\"weight\" + 0.010*\"polynomi\" + 0.002*\"jacobi\" + 0.001*\"adjust\" + 0.000*\"romberg\" + 0.000*\"integr\" + 0.000*\"'\"\n",
      "2022-02-21 13:18:29,809 : INFO : topic diff=0.159266, rho=0.220316\n",
      "2022-02-21 13:18:29,817 : INFO : PROGRESS: pass 19, at document #2000/3204\n",
      "2022-02-21 13:18:30,514 : INFO : optimized alpha [0.0128799, 0.0138449175, 0.0130485995, 0.015211395, 0.014334877, 0.014811972, 0.016811993, 0.012519071, 0.015342518, 0.014989666, 0.011669216, 0.018043544, 0.014481389, 0.01381594, 0.015699396, 0.013667035, 0.013164552, 0.017015453, 0.012221402, 0.0123300655, 0.011934138, 0.013554611, 0.013764618, 0.012930051, 0.012123489, 0.011713705, 0.012185473, 0.017002199, 0.025073675, 0.01678164, 0.016360162, 0.012554901, 0.014231925, 0.016568111, 0.012899843, 0.012254016, 0.01474773, 0.013776053, 0.011344265, 0.011193473, 0.012404086, 0.011907332, 0.012715521, 0.013988095, 0.012140856, 0.013485606, 0.017713472, 0.013973202, 0.01591681, 0.02048193, 0.014498964, 0.014124466, 0.012467488, 0.012978505, 0.016854849, 0.07373679, 0.013805286, 0.0149434125, 0.012487303, 0.011806853, 0.016716182, 0.014560086, 0.013079391, 0.012436239, 0.0145864645, 0.014251246, 0.0115259215, 0.014222907, 0.012822899, 0.015378547, 0.011657564, 0.01463389, 0.013886577, 0.0217533, 0.01476066, 0.012677597, 0.010840602, 0.0127442535, 0.013684816, 0.017400015, 0.010774552, 0.015265693, 0.012238011, 0.012954927, 0.014352667, 0.015313772, 0.013308452, 0.01394317, 0.0120701995, 0.011815354, 0.014482756, 0.01177583, 0.013121494, 0.013858141, 0.0120585095, 0.0111038145, 0.012447391, 0.020494046, 0.013403283, 0.011671283]\n",
      "2022-02-21 13:18:30,521 : INFO : merging changes from 2000 documents into a model of 3204 documents\n",
      "2022-02-21 13:18:30,527 : INFO : topic #80 (0.011): 0.223*\";\" + 0.200*\"disk\" + 0.100*\"move\" + 0.064*\"argument\" + 0.064*\"sequenti\" + 0.056*\"gamma\" + 0.046*\"spars\" + 0.042*\"servic\" + 0.028*\"summar\" + 0.017*\"student\"\n",
      "2022-02-21 13:18:30,528 : INFO : topic #76 (0.011): 0.128*\",\" + 0.120*\"processor\" + 0.051*\"-\" + 0.046*\"+\" + 0.044*\"machin\" + 0.034*\"=\" + 0.029*\"assembl\" + 0.024*\"1\" + 0.023*\"languag\" + 0.020*\"list\"\n",
      "2022-02-21 13:18:30,529 : INFO : topic #73 (0.022): 0.216*\"system\" + 0.109*\",\" + 0.049*\"oper\" + 0.043*\"design\" + 0.039*\"alloc\" + 0.031*\"-\" + 0.028*\"storag\" + 0.028*\"comput\" + 0.024*\"implement\" + 0.023*\"hardwar\"\n",
      "2022-02-21 13:18:30,530 : INFO : topic #28 (0.025): 0.273*\"problem\" + 0.128*\"solut\" + 0.100*\"equat\" + 0.052*\"solv\" + 0.045*\"numer\" + 0.045*\"-\" + 0.044*\"method\" + 0.031*\"linear\" + 0.030*\"program\" + 0.029*\"differenti\"\n",
      "2022-02-21 13:18:30,531 : INFO : topic #55 (0.074): 0.429*\"(\" + 0.376*\")\" + 0.168*\"algorithm\" + 0.011*\"polynomi\" + 0.009*\"weight\" + 0.003*\"jacobi\" + 0.001*\"adjust\" + 0.000*\"romberg\" + 0.000*\"integr\" + 0.000*\"'\"\n",
      "2022-02-21 13:18:30,533 : INFO : topic diff=0.145693, rho=0.215156\n",
      "2022-02-21 13:18:31,363 : INFO : -6.436 per-word bound, 86.6 perplexity estimate based on a held-out corpus of 1204 documents with 49783 words\n",
      "2022-02-21 13:18:31,364 : INFO : PROGRESS: pass 19, at document #3204/3204\n",
      "2022-02-21 13:18:32,043 : INFO : optimized alpha [0.012980686, 0.014049906, 0.0131595, 0.015452221, 0.014516761, 0.015016783, 0.01705052, 0.0126419915, 0.015417889, 0.015256779, 0.0117835235, 0.018628694, 0.0146210315, 0.014008727, 0.0158887, 0.0137582095, 0.0132659925, 0.01729847, 0.0123092625, 0.012449632, 0.011978634, 0.0136835035, 0.013908661, 0.012948438, 0.012217695, 0.011798541, 0.0122957155, 0.017310582, 0.025694588, 0.017019713, 0.016585764, 0.012675935, 0.014429714, 0.016863273, 0.013063159, 0.012388926, 0.014955595, 0.013984824, 0.011413747, 0.0112662325, 0.0125528, 0.012000192, 0.012841586, 0.014146879, 0.012287938, 0.013667274, 0.01810261, 0.0140543245, 0.016179759, 0.020789498, 0.0146549875, 0.014276347, 0.0126472935, 0.013119586, 0.017106017, 0.07501903, 0.013947899, 0.0150989285, 0.012565696, 0.011942647, 0.016851112, 0.014754638, 0.01322321, 0.012572298, 0.014747652, 0.014346722, 0.01159453, 0.014469542, 0.012943025, 0.015645117, 0.011767421, 0.014830192, 0.014055344, 0.022195145, 0.014905571, 0.012809014, 0.010900156, 0.012838299, 0.013882434, 0.017343443, 0.010834928, 0.015421611, 0.012376794, 0.013067387, 0.014511428, 0.015476573, 0.013508204, 0.014154625, 0.012166965, 0.011924467, 0.014698767, 0.01185525, 0.0132340705, 0.014036257, 0.012228856, 0.011189168, 0.012548117, 0.020817583, 0.013557688, 0.011727061]\n",
      "2022-02-21 13:18:32,050 : INFO : merging changes from 1204 documents into a model of 3204 documents\n",
      "2022-02-21 13:18:32,057 : INFO : topic #80 (0.011): 0.223*\";\" + 0.195*\"disk\" + 0.111*\"move\" + 0.070*\"sequenti\" + 0.060*\"argument\" + 0.058*\"gamma\" + 0.050*\"spars\" + 0.047*\"servic\" + 0.029*\"summar\" + 0.016*\"student\"\n",
      "2022-02-21 13:18:32,058 : INFO : topic #76 (0.011): 0.128*\",\" + 0.120*\"processor\" + 0.054*\"+\" + 0.050*\"-\" + 0.042*\"machin\" + 0.038*\"=\" + 0.028*\"assembl\" + 0.024*\"1\" + 0.020*\"languag\" + 0.019*\"revers\"\n",
      "2022-02-21 13:18:32,059 : INFO : topic #73 (0.022): 0.217*\"system\" + 0.111*\",\" + 0.050*\"oper\" + 0.045*\"design\" + 0.040*\"alloc\" + 0.030*\"-\" + 0.027*\"storag\" + 0.027*\"comput\" + 0.026*\"implement\" + 0.024*\"hardwar\"\n",
      "2022-02-21 13:18:32,061 : INFO : topic #28 (0.026): 0.284*\"problem\" + 0.130*\"solut\" + 0.096*\"equat\" + 0.054*\"solv\" + 0.045*\"-\" + 0.043*\"method\" + 0.040*\"numer\" + 0.032*\"linear\" + 0.031*\"program\" + 0.028*\"differenti\"\n",
      "2022-02-21 13:18:32,063 : INFO : topic #55 (0.075): 0.438*\"(\" + 0.377*\")\" + 0.158*\"algorithm\" + 0.011*\"weight\" + 0.010*\"polynomi\" + 0.002*\"jacobi\" + 0.001*\"adjust\" + 0.000*\"romberg\" + 0.000*\"integr\" + 0.000*\"'\"\n",
      "2022-02-21 13:18:32,066 : INFO : topic diff=0.149603, rho=0.215156\n"
     ]
    },
    {
     "data": {
      "text/plain": [
       "[(0, 0.00523617),\n",
       " (1, 0.005667474),\n",
       " (2, 0.0053083007),\n",
       " (3, 0.0062331418),\n",
       " (4, 0.0058557945),\n",
       " (5, 0.0060574943),\n",
       " (6, 0.006877866),\n",
       " (7, 0.005099547),\n",
       " (8, 0.006219293),\n",
       " (9, 0.0061543044),\n",
       " (10, 0.0047532567),\n",
       " (11, 0.0075144726),\n",
       " (12, 0.0058978554),\n",
       " (13, 0.005650863),\n",
       " (14, 0.0064092097),\n",
       " (15, 0.005549809),\n",
       " (16, 0.0053512575),\n",
       " (17, 0.0069778846),\n",
       " (18, 0.0049653305),\n",
       " (19, 0.005021953),\n",
       " (20, 0.004831961),\n",
       " (21, 0.0055196737),\n",
       " (22, 0.005610498),\n",
       " (23, 0.0052231615),\n",
       " (24, 0.0049283938),\n",
       " (25, 0.0047593145),\n",
       " (26, 0.0049598655),\n",
       " (27, 0.0069827707),\n",
       " (28, 0.010364724),\n",
       " (29, 0.0068654395),\n",
       " (30, 0.0066903923),\n",
       " (31, 0.0051132394),\n",
       " (32, 0.0058206813),\n",
       " (33, 0.0068023345),\n",
       " (34, 0.005269438),\n",
       " (35, 0.004997465),\n",
       " (36, 0.0060328124),\n",
       " (37, 0.0056412206),\n",
       " (38, 0.004604096),\n",
       " (39, 0.004544591),\n",
       " (40, 0.0050635687),\n",
       " (41, 0.0048406566),\n",
       " (42, 0.00518006),\n",
       " (43, 0.005706591),\n",
       " (44, 0.0049567283),\n",
       " (45, 0.0055131274),\n",
       " (46, 0.0073022605),\n",
       " (47, 0.005669256),\n",
       " (48, 0.0065266173),\n",
       " (49, 0.008386102),\n",
       " (50, 0.005911553),\n",
       " (51, 0.005758816),\n",
       " (52, 0.005101686),\n",
       " (53, 0.0052921996),\n",
       " (54, 0.006900253),\n",
       " (55, 0.030261299),\n",
       " (56, 0.0056263264),\n",
       " (57, 0.0060906303),\n",
       " (58, 0.0050687706),\n",
       " (59, 0.4081957),\n",
       " (60, 0.006797429),\n",
       " (61, 0.0059517496),\n",
       " (62, 0.005334),\n",
       " (63, 0.0050714337),\n",
       " (64, 0.005948932),\n",
       " (65, 0.005787204),\n",
       " (66, 0.0046770205),\n",
       " (67, 0.005836747),\n",
       " (68, 0.0052209785),\n",
       " (69, 0.0063109524),\n",
       " (70, 0.004746761),\n",
       " (71, 0.0059822267),\n",
       " (72, 0.0056696674),\n",
       " (73, 0.008953114),\n",
       " (74, 0.0060126334),\n",
       " (75, 0.005166921),\n",
       " (76, 0.0043969224),\n",
       " (77, 0.005178734),\n",
       " (78, 0.005599919),\n",
       " (79, 0.0069960263),\n",
       " (80, 0.0043706107),\n",
       " (81, 0.0062207947),\n",
       " (82, 0.004992571),\n",
       " (83, 0.0052711437),\n",
       " (84, 0.005853643),\n",
       " (85, 0.0062429653),\n",
       " (86, 0.005448961),\n",
       " (87, 0.0057097157),\n",
       " (88, 0.00490793),\n",
       " (89, 0.0048101107),\n",
       " (90, 0.0059292126),\n",
       " (91, 0.00478219),\n",
       " (92, 0.0053383806),\n",
       " (93, 0.005661968),\n",
       " (94, 0.004932896),\n",
       " (95, 0.004513505),\n",
       " (96, 0.00506168),\n",
       " (97, 0.00839743),\n",
       " (98, 0.005468922),\n",
       " (99, 0.0047304807)]"
      ]
     },
     "execution_count": 85,
     "metadata": {},
     "output_type": "execute_result"
    }
   ],
   "source": [
    "##### Function check\n",
    "lda = LdaRetrievalModel(doc_repr_2)\n",
    "lda.train_model()\n",
    "\n",
    "# you can now get an LDA vector for a given query in the following way:\n",
    "lda.vectorize_query(\"report\")\n",
    "#####"
   ]
  },
  {
   "cell_type": "markdown",
   "metadata": {
    "cell_id": "00137-b82100c4-8bc6-4c0b-a37d-3f8eed7a4106",
    "deepnote_cell_height": 52.390625,
    "deepnote_cell_type": "markdown",
    "deletable": false,
    "editable": false,
    "nbgrader": {
     "cell_type": "markdown",
     "checksum": "32d83b6ea79ca3ddb789a7f8805a1b25",
     "grade": false,
     "grade_id": "cell-0e24b727d5908c0e",
     "locked": true,
     "points": 5,
     "schema_version": 3,
     "solution": false,
     "task": true
    }
   },
   "source": [
    "\\#### Please do not change this. This cell is used for grading."
   ]
  },
  {
   "cell_type": "markdown",
   "metadata": {
    "cell_id": "00138-9da9ac44-4973-497c-ae61-6ae44d57702c",
    "deepnote_cell_height": 98.1875,
    "deepnote_cell_type": "markdown",
    "deletable": false,
    "editable": false,
    "nbgrader": {
     "cell_type": "markdown",
     "checksum": "114a934f0b9ce696e6cf09d3b8da6a3d",
     "grade": false,
     "grade_id": "cell-b1bffcb970b18aeb",
     "locked": true,
     "schema_version": 3,
     "solution": false,
     "task": false
    }
   },
   "source": [
    "---\n",
    "Now we can use the `DenseRetrievalModel` class to obtain an LDA search function.\n",
    "You can test your LDA model in the following cell: Try finding queries which are lexically different to documents, but semantically similar - does LDA work well for these queries?!"
   ]
  },
  {
   "cell_type": "code",
   "execution_count": 86,
   "metadata": {
    "cell_id": "00139-74e10836-ea8e-40f0-99d4-f5422f0f88e6",
    "deepnote_cell_height": 303,
    "deepnote_cell_type": "code",
    "deepnote_to_be_reexecuted": false,
    "execution_millis": 4419,
    "execution_start": 1645186665847,
    "source_hash": "76222337"
   },
   "outputs": [
    {
     "data": {
      "application/vnd.jupyter.widget-view+json": {
       "model_id": "51a5db6a01b545a59cc2271ba1405e6a",
       "version_major": 2,
       "version_minor": 0
      },
      "text/plain": [
       "Text(value='', description='Search Bar')"
      ]
     },
     "metadata": {},
     "output_type": "display_data"
    }
   ],
   "source": [
    "drm_lda = DenseRetrievalRanker(lda, jenson_shannon_sim)\n",
    "\n",
    "# test your LDA model\n",
    "search_fn = drm_lda.search\n",
    "\n",
    "text = widgets.Text(description=\"Search Bar\", width=200)\n",
    "display(text)\n",
    "\n",
    "\n",
    "text.on_submit(handle_submit_2)"
   ]
  },
  {
   "cell_type": "markdown",
   "metadata": {
    "cell_id": "00140-3dcd44fb-190f-4b30-a761-4fbdb85b38fe",
    "deepnote_cell_height": 405.375,
    "deepnote_cell_type": "markdown",
    "deletable": false,
    "editable": false,
    "nbgrader": {
     "cell_type": "markdown",
     "checksum": "9d7f15863b655119b45f4d89354e5661",
     "grade": false,
     "grade_id": "cell-190cd0854b2791cc",
     "locked": true,
     "schema_version": 3,
     "solution": false,
     "task": false
    }
   },
   "source": [
    "## Section 8: Word2Vec/Doc2Vec (20 points) <a class=\"anchor\" id=\"2vec\"></a>\n",
    "\n",
    "[Back to Part 2](#part2)\n",
    "\n",
    "We will implement two other methods here, the Word2Vec model and the Doc2Vec model, also using `gensim`. Word2Vec creates representations of words, not documents, so the word level vectors need to be aggregated to obtain a representation for the document. Here, we will simply take the mean of the vectors.\n",
    "\n",
    "\n",
    "A drawback of these models is that they need a lot of training data. Our dataset is tiny, so in addition to using a model trained on the data, we will also use a pre-trained model for Word2Vec (this will be automatically downloaded).\n",
    "\n",
    "*Note*:\n",
    "1. The code in vectorize_documents / vectorize_query should return gensim-like vectors i.e `[(dim, val), .. (dim, val)]`.\n",
    "2. For Word2Vec: You should also handle the following two cases: (a) A word in the query is not present in the vocabulary of the model and (b) none of the words in the query are present in the model - you can return 0 scores for all documents in this case. For either of these, you can check if a `word` is present in the vocab by using `word in self.model`\n"
   ]
  },
  {
   "cell_type": "code",
   "execution_count": 87,
   "metadata": {
    "cell_id": "00141-4813dd67-6ab9-4a66-909c-c9ffb52e292c",
    "collapsed": true,
    "deepnote_cell_height": 1767.796875,
    "deepnote_cell_type": "code",
    "deepnote_output_heights": [
     null,
     611
    ],
    "deepnote_to_be_reexecuted": false,
    "deletable": false,
    "execution_millis": 5958,
    "execution_start": 1645186670275,
    "is_output_hidden": true,
    "jupyter": {
     "outputs_hidden": true
    },
    "nbgrader": {
     "cell_type": "code",
     "checksum": "83ab733608ed14c29c09b36b4e1b6daa",
     "grade": false,
     "grade_id": "cell-2b73759f9baf688f",
     "locked": false,
     "schema_version": 3,
     "solution": true,
     "task": false
    },
    "source_hash": "69fb62df",
    "tags": []
   },
   "outputs": [
    {
     "name": "stderr",
     "output_type": "stream",
     "text": [
      "2022-02-21 13:18:35,482 : INFO : adding document #0 to Dictionary(0 unique tokens: [])\n",
      "2022-02-21 13:18:35,638 : INFO : built Dictionary(5937 unique tokens: ['-', 'algebra', 'intern', 'languag', 'preliminari']...) from 3204 documents (total 115969 corpus positions)\n",
      "2022-02-21 13:18:35,645 : INFO : discarding 4740 tokens: [('repeat', 8), ('glossari', 7), ('inspect', 8), ('uncol', 2), ('rung', 9), ('secant', 2), ('.', 1603), ('acceler', 6), ('diverg', 3), ('induc', 9)]...\n",
      "2022-02-21 13:18:35,646 : INFO : keeping 1197 tokens which were in no less than 10 and no more than 1602 (=50.0%) documents\n",
      "2022-02-21 13:18:35,650 : INFO : resulting dictionary: Dictionary(1197 unique tokens: ['-', 'algebra', 'intern', 'languag', 'preliminari']...)\n",
      "2022-02-21 13:18:35,726 : INFO : collecting all words and their counts\n",
      "2022-02-21 13:18:35,727 : INFO : PROGRESS: at sentence #0, processed 0 words, keeping 0 word types\n",
      "2022-02-21 13:18:35,744 : INFO : collected 5937 word types from a corpus of 115969 raw words and 3204 sentences\n",
      "2022-02-21 13:18:35,745 : INFO : Loading a fresh vocabulary\n",
      "2022-02-21 13:18:35,756 : INFO : effective_min_count=1 retains 5937 unique words (100% of original 5937, drops 0)\n",
      "2022-02-21 13:18:35,757 : INFO : effective_min_count=1 leaves 115969 word corpus (100% of original 115969, drops 0)\n",
      "2022-02-21 13:18:35,774 : INFO : deleting the raw counts dictionary of 5937 items\n",
      "2022-02-21 13:18:35,775 : INFO : sample=0.001 downsamples 40 most-common words\n",
      "2022-02-21 13:18:35,775 : INFO : downsampling leaves estimated 92346 word corpus (79.6% of prior 115969)\n",
      "2022-02-21 13:18:35,803 : INFO : estimated required memory for 5937 words and 100 dimensions: 7718100 bytes\n",
      "2022-02-21 13:18:35,805 : INFO : resetting layer weights\n",
      "2022-02-21 13:18:36,903 : INFO : training model with 3 workers on 5937 vocabulary and 100 features, using sg=0 hs=0 sample=0.001 negative=5 window=5\n",
      "2022-02-21 13:18:37,023 : INFO : worker thread finished; awaiting finish of 2 more threads\n",
      "2022-02-21 13:18:37,026 : INFO : worker thread finished; awaiting finish of 1 more threads\n",
      "2022-02-21 13:18:37,028 : INFO : worker thread finished; awaiting finish of 0 more threads\n",
      "2022-02-21 13:18:37,029 : INFO : EPOCH - 1 : training on 115969 raw words (92373 effective words) took 0.1s, 803433 effective words/s\n",
      "2022-02-21 13:18:37,095 : INFO : worker thread finished; awaiting finish of 2 more threads\n",
      "2022-02-21 13:18:37,100 : INFO : worker thread finished; awaiting finish of 1 more threads\n",
      "2022-02-21 13:18:37,104 : INFO : worker thread finished; awaiting finish of 0 more threads\n",
      "2022-02-21 13:18:37,105 : INFO : EPOCH - 2 : training on 115969 raw words (92477 effective words) took 0.1s, 1300000 effective words/s\n",
      "2022-02-21 13:18:37,174 : INFO : worker thread finished; awaiting finish of 2 more threads\n",
      "2022-02-21 13:18:37,177 : INFO : worker thread finished; awaiting finish of 1 more threads\n",
      "2022-02-21 13:18:37,179 : INFO : worker thread finished; awaiting finish of 0 more threads\n",
      "2022-02-21 13:18:37,179 : INFO : EPOCH - 3 : training on 115969 raw words (92441 effective words) took 0.1s, 1372779 effective words/s\n",
      "2022-02-21 13:18:37,247 : INFO : worker thread finished; awaiting finish of 2 more threads\n",
      "2022-02-21 13:18:37,251 : INFO : worker thread finished; awaiting finish of 1 more threads\n",
      "2022-02-21 13:18:37,253 : INFO : worker thread finished; awaiting finish of 0 more threads\n",
      "2022-02-21 13:18:37,254 : INFO : EPOCH - 4 : training on 115969 raw words (92477 effective words) took 0.1s, 1338593 effective words/s\n",
      "2022-02-21 13:18:37,321 : INFO : worker thread finished; awaiting finish of 2 more threads\n",
      "2022-02-21 13:18:37,328 : INFO : worker thread finished; awaiting finish of 1 more threads\n",
      "2022-02-21 13:18:37,329 : INFO : worker thread finished; awaiting finish of 0 more threads\n",
      "2022-02-21 13:18:37,330 : INFO : EPOCH - 5 : training on 115969 raw words (92185 effective words) took 0.1s, 1305751 effective words/s\n",
      "2022-02-21 13:18:37,330 : INFO : training on a 579845 raw words (461953 effective words) took 0.4s, 1087605 effective words/s\n"
     ]
    },
    {
     "data": {
      "text/plain": [
       "[(0, -0.8796619176864624),\n",
       " (1, 0.28672125935554504),\n",
       " (2, 0.1962474137544632),\n",
       " (3, -0.32594403624534607),\n",
       " (4, -0.29204249382019043),\n",
       " (5, 0.1835978627204895),\n",
       " (6, 0.183616042137146),\n",
       " (7, 0.35436031222343445),\n",
       " (8, 0.16802428662776947),\n",
       " (9, -0.5392280220985413),\n",
       " (10, -0.4315505623817444),\n",
       " (11, -0.09974586963653564),\n",
       " (12, 0.3543446958065033),\n",
       " (13, -0.3277120292186737),\n",
       " (14, 0.35359641909599304),\n",
       " (15, -0.19802892208099365),\n",
       " (16, -0.13001348078250885),\n",
       " (17, 0.045461319386959076),\n",
       " (18, -0.6235910654067993),\n",
       " (19, 0.17406319081783295),\n",
       " (20, 0.4659068286418915),\n",
       " (21, -0.5003026127815247),\n",
       " (22, -0.05493386834859848),\n",
       " (23, 0.5076165199279785),\n",
       " (24, 0.07990483939647675),\n",
       " (25, -0.8896628022193909),\n",
       " (26, -0.6935139298439026),\n",
       " (27, -0.9774112701416016),\n",
       " (28, -0.7184587121009827),\n",
       " (29, -0.3817194700241089),\n",
       " (30, -0.09459017962217331),\n",
       " (31, -0.5948086977005005),\n",
       " (32, -0.0672006756067276),\n",
       " (33, 0.4123117923736572),\n",
       " (34, -0.37166640162467957),\n",
       " (35, 0.04716787114739418),\n",
       " (36, 0.30281394720077515),\n",
       " (37, 0.6922799348831177),\n",
       " (38, 0.21226364374160767),\n",
       " (39, -0.006858520209789276),\n",
       " (40, -0.8769102096557617),\n",
       " (41, 0.14413006603717804),\n",
       " (42, -0.22727584838867188),\n",
       " (43, -0.20674464106559753),\n",
       " (44, -0.22196778655052185),\n",
       " (45, 0.021243859082460403),\n",
       " (46, 0.4015800654888153),\n",
       " (47, 0.3749295771121979),\n",
       " (48, -0.7504169344902039),\n",
       " (49, 0.48042818903923035),\n",
       " (50, 0.1435260772705078),\n",
       " (51, 0.32618528604507446),\n",
       " (52, -0.09259692579507828),\n",
       " (53, -0.8684990406036377),\n",
       " (54, 0.09155713766813278),\n",
       " (55, -0.3216063976287842),\n",
       " (56, -1.0007214546203613),\n",
       " (57, 0.3883402347564697),\n",
       " (58, -0.3979600667953491),\n",
       " (59, -0.3438955843448639),\n",
       " (60, -0.36410588026046753),\n",
       " (61, 0.10253091901540756),\n",
       " (62, 0.2858736515045166),\n",
       " (63, -0.2781449258327484),\n",
       " (64, 0.8538269996643066),\n",
       " (65, 0.5117875933647156),\n",
       " (66, 0.27451175451278687),\n",
       " (67, -0.3001687526702881),\n",
       " (68, -0.18394678831100464),\n",
       " (69, 0.18269041180610657),\n",
       " (70, 0.18196222186088562),\n",
       " (71, 0.5289852023124695),\n",
       " (72, -0.3354254961013794),\n",
       " (73, 0.1275448501110077),\n",
       " (74, -0.03635983541607857),\n",
       " (75, 0.3859884738922119),\n",
       " (76, 0.17775970697402954),\n",
       " (77, 0.4974989891052246),\n",
       " (78, -0.494197279214859),\n",
       " (79, 0.23171311616897583),\n",
       " (80, -0.6774335503578186),\n",
       " (81, -0.9505813717842102),\n",
       " (82, 0.6181920170783997),\n",
       " (83, -0.11166402697563171),\n",
       " (84, 0.01421287376433611),\n",
       " (85, 0.7295357584953308),\n",
       " (86, -0.2213175743818283),\n",
       " (87, 0.28890907764434814),\n",
       " (88, 0.5137143731117249),\n",
       " (89, 0.07000046223402023),\n",
       " (90, 0.3003549873828888),\n",
       " (91, 0.2697083353996277),\n",
       " (92, 0.2511380910873413),\n",
       " (93, 0.25361719727516174),\n",
       " (94, -0.40946826338768005),\n",
       " (95, 0.006480058189481497),\n",
       " (96, -0.5984165668487549),\n",
       " (97, 0.6928863525390625),\n",
       " (98, 0.1834123283624649),\n",
       " (99, 0.15679007768630981)]"
      ]
     },
     "execution_count": 87,
     "metadata": {},
     "output_type": "execute_result"
    }
   ],
   "source": [
    "# TODO: Implement this! (10 points)\n",
    "class W2VRetrievalModel(VectorSpaceRetrievalModel):\n",
    "    def __init__(self, doc_repr):\n",
    "        super().__init__(doc_repr)\n",
    "\n",
    "        # the dimensionality of the vectors\n",
    "        self.size = 100\n",
    "        self.min_count = 1\n",
    "\n",
    "    def train_model(self):\n",
    "        \"\"\"\n",
    "        Trains the W2V model\n",
    "        \"\"\"\n",
    "        # YOUR CODE HERE\n",
    "        self.model = Word2Vec(\n",
    "            sentences=self.documents, size=self.size, min_count=self.min_count\n",
    "        )\n",
    "\n",
    "    def vectorize_documents(self):\n",
    "        \"\"\"\n",
    "        Returns a doc_id -> vector dictionary\n",
    "        \"\"\"\n",
    "        # YOUR CODE HERE\n",
    "        vectors = {}\n",
    "        for (doc_id, doc) in self.doc_repr:\n",
    "            # initializations for this document\n",
    "            doc_vector = np.zeros(self.size)\n",
    "            n_words = 0\n",
    "            for word in doc:\n",
    "                n_words += 1\n",
    "                # check that current word in doc in our model (needed for pretrained)\n",
    "                try:\n",
    "                    doc_vector += self.model.wv[word]\n",
    "                except KeyError:\n",
    "                    # don't count this word\n",
    "                    n_words -= 1\n",
    "                    continue\n",
    "            if n_words > 0:\n",
    "                # aggregate by taking the mean over the found words\n",
    "                doc_vector = doc_vector / n_words\n",
    "            # convert to weird gensim format that is desired\n",
    "            doc_vector = [(i, el) for i, el in enumerate(doc_vector)]\n",
    "            # and save to our dictionary\n",
    "            vectors[doc_id] = doc_vector\n",
    "\n",
    "        return vectors\n",
    "\n",
    "    def vectorize_query(self, query):\n",
    "        \"\"\"\n",
    "        Vectorizes the query using the W2V model\n",
    "        \"\"\"\n",
    "        # YOUR CODE HERE\n",
    "        query = process_text(query, **config_2)\n",
    "        # initialize query vector\n",
    "        query_vec = np.zeros(self.size)\n",
    "        # handle valid queries (i.e. processing hasn't made it empty)\n",
    "        if len(query) > 0:\n",
    "            n_words = 0\n",
    "            for word in query:\n",
    "                n_words += 1\n",
    "                # check that current word in query in our vocab\n",
    "                try:\n",
    "                    query_vec += self.model.wv[word]\n",
    "                except KeyError:\n",
    "                    # don't count this word\n",
    "                    n_words -= 1\n",
    "                    continue\n",
    "                if n_words > 0:\n",
    "                    # aggregate by taking the mean over the found words\n",
    "                    query_vec = query_vec / n_words\n",
    "        # convert to weird gensim format that is desired\n",
    "        query_vec = [(i, el) for i, el in enumerate(query_vec)]\n",
    "        return query_vec\n",
    "\n",
    "\n",
    "class W2VPretrainedRetrievalModel(W2VRetrievalModel):\n",
    "    def __init__(self, doc_repr):\n",
    "        super().__init__(doc_repr)\n",
    "        self.model_name = \"word2vec-google-news-300\"\n",
    "        self.size = 300\n",
    "\n",
    "    def train_model(self):\n",
    "        \"\"\"\n",
    "        Loads the pretrained model\n",
    "        \"\"\"\n",
    "        self.model = g_downloader.load(self.model_name)\n",
    "\n",
    "\n",
    "w2v = W2VRetrievalModel(doc_repr_2)\n",
    "w2v.train_model()\n",
    "\n",
    "# you can now get a W2V vector for a given query in the following way:\n",
    "w2v.vectorize_query(\"report\")"
   ]
  },
  {
   "cell_type": "code",
   "execution_count": 88,
   "metadata": {
    "cell_id": "00142-4fd5a03c-b76f-4fd4-b70f-2670bd4416e5",
    "deepnote_cell_height": 117,
    "deepnote_cell_type": "code",
    "deepnote_to_be_reexecuted": false,
    "deletable": false,
    "editable": false,
    "execution_millis": 11300785,
    "execution_start": 1645186676074,
    "lines_to_next_cell": 2,
    "nbgrader": {
     "cell_type": "code",
     "checksum": "f92b5c5a8c6c4b80652b94223209ab0b",
     "grade": true,
     "grade_id": "cell-b31c0f8d214b8bdf",
     "locked": true,
     "points": 0,
     "schema_version": 3,
     "solution": false,
     "task": false
    },
    "source_hash": "3f3d7257"
   },
   "outputs": [],
   "source": [
    "assert len(w2v.vectorize_query(\"report\")) == 100\n",
    "assert len(w2v.vectorize_query(\"this is a sentence that is not mellifluous\")) == 100"
   ]
  },
  {
   "cell_type": "markdown",
   "metadata": {
    "cell_id": "00143-dca6cd62-6d5c-4c14-8cc4-7299f1f8390e",
    "deepnote_cell_height": 52.390625,
    "deepnote_cell_type": "markdown",
    "deletable": false,
    "editable": false,
    "nbgrader": {
     "cell_type": "markdown",
     "checksum": "8dfaabebcb06f308a7ca61fdc5d369e7",
     "grade": false,
     "grade_id": "cell-c2614fa067386384",
     "locked": true,
     "points": 8,
     "schema_version": 3,
     "solution": false,
     "task": true
    }
   },
   "source": [
    "\\#### Please do not change this. This cell is used for grading."
   ]
  },
  {
   "cell_type": "code",
   "execution_count": 89,
   "metadata": {
    "cell_id": "00144-7801f559-0e0a-405d-84bf-a02dd1269f5a",
    "collapsed": true,
    "deepnote_cell_height": 304.9375,
    "deepnote_cell_type": "code",
    "deepnote_output_heights": [
     null,
     40.375
    ],
    "deepnote_to_be_reexecuted": false,
    "execution_millis": 611,
    "execution_start": 1645186676087,
    "jupyter": {
     "outputs_hidden": true
    },
    "source_hash": "8ab4bf3a",
    "tags": []
   },
   "outputs": [
    {
     "name": "stderr",
     "output_type": "stream",
     "text": [
      "2022-02-21 13:18:37,352 : INFO : adding document #0 to Dictionary(0 unique tokens: [])\n",
      "2022-02-21 13:18:37,578 : INFO : built Dictionary(5937 unique tokens: ['-', 'algebra', 'intern', 'languag', 'preliminari']...) from 3204 documents (total 115969 corpus positions)\n",
      "2022-02-21 13:18:37,587 : INFO : discarding 4740 tokens: [('repeat', 8), ('glossari', 7), ('inspect', 8), ('uncol', 2), ('rung', 9), ('secant', 2), ('.', 1603), ('acceler', 6), ('diverg', 3), ('induc', 9)]...\n",
      "2022-02-21 13:18:37,588 : INFO : keeping 1197 tokens which were in no less than 10 and no more than 1602 (=50.0%) documents\n",
      "2022-02-21 13:18:37,591 : INFO : resulting dictionary: Dictionary(1197 unique tokens: ['-', 'algebra', 'intern', 'languag', 'preliminari']...)\n",
      "2022-02-21 13:18:37,712 : INFO : loading projection weights from /Users/thesofakillers/gensim-data/word2vec-google-news-300/word2vec-google-news-300.gz\n",
      "2022-02-21 13:19:27,371 : INFO : loaded (3000000, 300) matrix from /Users/thesofakillers/gensim-data/word2vec-google-news-300/word2vec-google-news-300.gz\n",
      "/Users/thesofakillers/miniconda3/envs/ir1/lib/python3.6/site-packages/ipykernel_launcher.py:63: DeprecationWarning: Call to deprecated `wv` (Attribute will be removed in 4.0.0, use self instead).\n"
     ]
    },
    {
     "data": {
      "text/plain": [
       "[(0, -0.142578125),\n",
       " (1, -0.1640625),\n",
       " (2, -0.09033203125),\n",
       " (3, -0.1123046875),\n",
       " (4, 0.10009765625),\n",
       " (5, -0.041259765625),\n",
       " (6, 0.048828125),\n",
       " (7, -0.13671875),\n",
       " (8, 0.1962890625),\n",
       " (9, -0.134765625),\n",
       " (10, -0.017578125),\n",
       " (11, 0.0322265625),\n",
       " (12, 0.09521484375),\n",
       " (13, -0.10595703125),\n",
       " (14, -0.169921875),\n",
       " (15, 0.041015625),\n",
       " (16, -0.263671875),\n",
       " (17, -0.006317138671875),\n",
       " (18, -0.177734375),\n",
       " (19, -0.240234375),\n",
       " (20, 0.3515625),\n",
       " (21, -0.01220703125),\n",
       " (22, -0.162109375),\n",
       " (23, -0.12060546875),\n",
       " (24, 0.043212890625),\n",
       " (25, 0.10986328125),\n",
       " (26, 0.052490234375),\n",
       " (27, 0.1787109375),\n",
       " (28, -0.1455078125),\n",
       " (29, 0.1376953125),\n",
       " (30, -0.08203125),\n",
       " (31, -0.283203125),\n",
       " (32, -0.10888671875),\n",
       " (33, -0.2890625),\n",
       " (34, 0.072265625),\n",
       " (35, -0.04736328125),\n",
       " (36, 0.040283203125),\n",
       " (37, 0.06787109375),\n",
       " (38, 0.11669921875),\n",
       " (39, 0.00083160400390625),\n",
       " (40, 0.068359375),\n",
       " (41, 0.1201171875),\n",
       " (42, -0.08837890625),\n",
       " (43, 0.337890625),\n",
       " (44, -0.044677734375),\n",
       " (45, -0.0301513671875),\n",
       " (46, 0.0076904296875),\n",
       " (47, -0.0211181640625),\n",
       " (48, -0.25390625),\n",
       " (49, 0.1494140625),\n",
       " (50, 0.3984375),\n",
       " (51, 0.0216064453125),\n",
       " (52, -0.023193359375),\n",
       " (53, 0.00634765625),\n",
       " (54, 0.00823974609375),\n",
       " (55, -0.1689453125),\n",
       " (56, 0.037353515625),\n",
       " (57, -0.0634765625),\n",
       " (58, 0.1171875),\n",
       " (59, -0.1484375),\n",
       " (60, -0.07861328125),\n",
       " (61, 0.369140625),\n",
       " (62, -0.224609375),\n",
       " (63, 0.173828125),\n",
       " (64, 0.01385498046875),\n",
       " (65, 0.1875),\n",
       " (66, -0.10107421875),\n",
       " (67, 0.037841796875),\n",
       " (68, 0.0021209716796875),\n",
       " (69, -0.05126953125),\n",
       " (70, 0.09619140625),\n",
       " (71, -0.05712890625),\n",
       " (72, 0.10595703125),\n",
       " (73, -0.02099609375),\n",
       " (74, 0.1611328125),\n",
       " (75, 0.09765625),\n",
       " (76, 0.038330078125),\n",
       " (77, 0.2197265625),\n",
       " (78, 0.1064453125),\n",
       " (79, 0.0859375),\n",
       " (80, 0.1796875),\n",
       " (81, -0.0830078125),\n",
       " (82, -0.033203125),\n",
       " (83, 0.041015625),\n",
       " (84, -0.06494140625),\n",
       " (85, 0.0198974609375),\n",
       " (86, 0.1337890625),\n",
       " (87, -0.09765625),\n",
       " (88, -0.193359375),\n",
       " (89, -0.2353515625),\n",
       " (90, 0.1904296875),\n",
       " (91, 0.0024871826171875),\n",
       " (92, -0.0157470703125),\n",
       " (93, 0.0322265625),\n",
       " (94, -0.2197265625),\n",
       " (95, -0.09130859375),\n",
       " (96, 0.021240234375),\n",
       " (97, 0.158203125),\n",
       " (98, 0.298828125),\n",
       " (99, -0.328125),\n",
       " (100, 0.057373046875),\n",
       " (101, -0.04638671875),\n",
       " (102, 0.11328125),\n",
       " (103, -0.1015625),\n",
       " (104, 0.1806640625),\n",
       " (105, -0.025146484375),\n",
       " (106, -0.166015625),\n",
       " (107, -0.09619140625),\n",
       " (108, 0.018798828125),\n",
       " (109, -0.1943359375),\n",
       " (110, 0.1494140625),\n",
       " (111, -0.056640625),\n",
       " (112, -0.10693359375),\n",
       " (113, -0.150390625),\n",
       " (114, -0.17578125),\n",
       " (115, 0.11279296875),\n",
       " (116, 0.04931640625),\n",
       " (117, 0.2197265625),\n",
       " (118, 0.318359375),\n",
       " (119, 0.1572265625),\n",
       " (120, -0.29296875),\n",
       " (121, 0.10498046875),\n",
       " (122, -0.296875),\n",
       " (123, -0.013427734375),\n",
       " (124, 0.0908203125),\n",
       " (125, 0.0125732421875),\n",
       " (126, -0.051513671875),\n",
       " (127, -0.12890625),\n",
       " (128, 0.01446533203125),\n",
       " (129, 0.12060546875),\n",
       " (130, -0.10107421875),\n",
       " (131, -0.111328125),\n",
       " (132, 0.06396484375),\n",
       " (133, -0.052978515625),\n",
       " (134, -0.043212890625),\n",
       " (135, -0.012939453125),\n",
       " (136, -0.027587890625),\n",
       " (137, -0.09716796875),\n",
       " (138, -0.2021484375),\n",
       " (139, 0.123046875),\n",
       " (140, -0.04248046875),\n",
       " (141, 0.173828125),\n",
       " (142, -0.013671875),\n",
       " (143, 0.1015625),\n",
       " (144, -0.00093841552734375),\n",
       " (145, -0.03564453125),\n",
       " (146, 0.30078125),\n",
       " (147, -0.068359375),\n",
       " (148, -0.05615234375),\n",
       " (149, 0.03759765625),\n",
       " (150, 0.06591796875),\n",
       " (151, 0.040283203125),\n",
       " (152, 0.01190185546875),\n",
       " (153, 0.09619140625),\n",
       " (154, 0.3671875),\n",
       " (155, -0.279296875),\n",
       " (156, -0.052001953125),\n",
       " (157, -0.10693359375),\n",
       " (158, -0.134765625),\n",
       " (159, -0.046142578125),\n",
       " (160, 0.25),\n",
       " (161, 0.00567626953125),\n",
       " (162, -0.014404296875),\n",
       " (163, -0.031005859375),\n",
       " (164, -0.060302734375),\n",
       " (165, 0.10595703125),\n",
       " (166, 0.37890625),\n",
       " (167, 0.058837890625),\n",
       " (168, 0.123046875),\n",
       " (169, -0.115234375),\n",
       " (170, 0.1494140625),\n",
       " (171, -0.1640625),\n",
       " (172, -0.2333984375),\n",
       " (173, -0.07763671875),\n",
       " (174, 0.0267333984375),\n",
       " (175, -0.0211181640625),\n",
       " (176, 0.1943359375),\n",
       " (177, -0.05615234375),\n",
       " (178, -0.006439208984375),\n",
       " (179, -0.169921875),\n",
       " (180, -0.11865234375),\n",
       " (181, -0.0673828125),\n",
       " (182, -0.06884765625),\n",
       " (183, -0.0869140625),\n",
       " (184, -0.1015625),\n",
       " (185, 0.01416015625),\n",
       " (186, -0.201171875),\n",
       " (187, 0.09814453125),\n",
       " (188, -0.01025390625),\n",
       " (189, 0.1875),\n",
       " (190, 0.1962890625),\n",
       " (191, -0.220703125),\n",
       " (192, -0.1962890625),\n",
       " (193, -0.07373046875),\n",
       " (194, 0.06640625),\n",
       " (195, -0.1337890625),\n",
       " (196, 0.18359375),\n",
       " (197, -0.2001953125),\n",
       " (198, 0.1982421875),\n",
       " (199, 0.05029296875),\n",
       " (200, 0.0299072265625),\n",
       " (201, 0.0177001953125),\n",
       " (202, -0.193359375),\n",
       " (203, -0.09619140625),\n",
       " (204, -0.1025390625),\n",
       " (205, 0.212890625),\n",
       " (206, -0.0299072265625),\n",
       " (207, 0.1435546875),\n",
       " (208, 0.041015625),\n",
       " (209, -0.2119140625),\n",
       " (210, 0.2080078125),\n",
       " (211, 0.1376953125),\n",
       " (212, -0.0196533203125),\n",
       " (213, 0.01495361328125),\n",
       " (214, -0.09765625),\n",
       " (215, 0.2431640625),\n",
       " (216, 0.080078125),\n",
       " (217, 0.08251953125),\n",
       " (218, 0.0986328125),\n",
       " (219, 0.056884765625),\n",
       " (220, 0.04248046875),\n",
       " (221, 0.06884765625),\n",
       " (222, -0.035400390625),\n",
       " (223, -0.076171875),\n",
       " (224, -0.00016117095947265625),\n",
       " (225, -0.0751953125),\n",
       " (226, 0.224609375),\n",
       " (227, 0.1513671875),\n",
       " (228, 0.1005859375),\n",
       " (229, 0.10986328125),\n",
       " (230, 0.0238037109375),\n",
       " (231, 0.08837890625),\n",
       " (232, 0.061767578125),\n",
       " (233, -0.10791015625),\n",
       " (234, 0.062255859375),\n",
       " (235, 0.0034332275390625),\n",
       " (236, 0.08056640625),\n",
       " (237, 0.10693359375),\n",
       " (238, 0.0888671875),\n",
       " (239, -0.2373046875),\n",
       " (240, 0.06494140625),\n",
       " (241, 0.01019287109375),\n",
       " (242, -0.08837890625),\n",
       " (243, -0.33203125),\n",
       " (244, 0.004669189453125),\n",
       " (245, 0.212890625),\n",
       " (246, 0.0859375),\n",
       " (247, 0.0203857421875),\n",
       " (248, 0.045654296875),\n",
       " (249, 0.1484375),\n",
       " (250, 0.1181640625),\n",
       " (251, 0.0556640625),\n",
       " (252, -0.1728515625),\n",
       " (253, -0.125),\n",
       " (254, -0.025390625),\n",
       " (255, -0.318359375),\n",
       " (256, 0.0311279296875),\n",
       " (257, 0.0859375),\n",
       " (258, -0.0419921875),\n",
       " (259, 0.15625),\n",
       " (260, 0.1611328125),\n",
       " (261, 0.1982421875),\n",
       " (262, -0.10009765625),\n",
       " (263, 0.203125),\n",
       " (264, 0.12890625),\n",
       " (265, 0.2333984375),\n",
       " (266, -0.267578125),\n",
       " (267, 0.05517578125),\n",
       " (268, 0.048828125),\n",
       " (269, 0.072265625),\n",
       " (270, 0.244140625),\n",
       " (271, 0.244140625),\n",
       " (272, 0.056884765625),\n",
       " (273, -0.0546875),\n",
       " (274, -0.03369140625),\n",
       " (275, -0.12060546875),\n",
       " (276, 0.034912109375),\n",
       " (277, -0.1455078125),\n",
       " (278, 0.08740234375),\n",
       " (279, -0.0830078125),\n",
       " (280, 0.0172119140625),\n",
       " (281, 0.1435546875),\n",
       " (282, -0.12255859375),\n",
       " (283, 0.1796875),\n",
       " (284, 0.130859375),\n",
       " (285, -0.1650390625),\n",
       " (286, 0.01275634765625),\n",
       " (287, 0.16015625),\n",
       " (288, -0.0311279296875),\n",
       " (289, 0.08203125),\n",
       " (290, 0.173828125),\n",
       " (291, -0.16796875),\n",
       " (292, 0.130859375),\n",
       " (293, 0.08544921875),\n",
       " (294, -0.2109375),\n",
       " (295, -0.130859375),\n",
       " (296, -0.0289306640625),\n",
       " (297, -0.10546875),\n",
       " (298, 0.08447265625),\n",
       " (299, -0.1416015625)]"
      ]
     },
     "execution_count": 89,
     "metadata": {},
     "output_type": "execute_result"
    }
   ],
   "source": [
    "w2v_pretrained = W2VPretrainedRetrievalModel(doc_repr_2)\n",
    "w2v_pretrained.train_model()\n",
    "\n",
    "# you can now get an W2V vector for a given query in the following way:\n",
    "w2v_pretrained.vectorize_query(\"report\")"
   ]
  },
  {
   "cell_type": "code",
   "execution_count": 90,
   "metadata": {
    "cell_id": "00145-65d4934b-cf4d-414e-8525-dff2c72b8313",
    "deepnote_cell_height": 198.1875,
    "deepnote_cell_type": "code",
    "deepnote_to_be_reexecuted": false,
    "deletable": false,
    "editable": false,
    "execution_millis": 1303,
    "execution_start": 1645186676707,
    "nbgrader": {
     "cell_type": "code",
     "checksum": "0822845afb5eafe5ddb1ffeaa4f4942a",
     "grade": true,
     "grade_id": "cell-1b1466f8ce516f42",
     "locked": true,
     "points": 2,
     "schema_version": 3,
     "solution": false,
     "task": false
    },
    "source_hash": "d4727a64"
   },
   "outputs": [
    {
     "name": "stdout",
     "output_type": "stream",
     "text": [
      "300\n"
     ]
    },
    {
     "name": "stderr",
     "output_type": "stream",
     "text": [
      "/Users/thesofakillers/miniconda3/envs/ir1/lib/python3.6/site-packages/ipykernel_launcher.py:63: DeprecationWarning: Call to deprecated `wv` (Attribute will be removed in 4.0.0, use self instead).\n"
     ]
    }
   ],
   "source": [
    "##### Function check\n",
    "\n",
    "print(len(w2v_pretrained.vectorize_query(\"report\")))\n",
    "#####"
   ]
  },
  {
   "cell_type": "code",
   "execution_count": 91,
   "metadata": {
    "cell_id": "00146-c209a2da-8745-4211-89bc-c716df8bb9ce",
    "deepnote_cell_height": 303,
    "deepnote_cell_type": "code",
    "deepnote_to_be_reexecuted": false,
    "execution_millis": 1086,
    "execution_start": 1645187351976,
    "source_hash": "8865e3e5"
   },
   "outputs": [
    {
     "data": {
      "application/vnd.jupyter.widget-view+json": {
       "model_id": "45c8a06920794927b17549eb2941a0ce",
       "version_major": 2,
       "version_minor": 0
      },
      "text/plain": [
       "Text(value='', description='Search Bar')"
      ]
     },
     "metadata": {},
     "output_type": "display_data"
    }
   ],
   "source": [
    "drm_w2v = DenseRetrievalRanker(w2v, cosine_sim)\n",
    "\n",
    "# test your LDA model\n",
    "search_fn = drm_w2v.search\n",
    "\n",
    "text = widgets.Text(description=\"Search Bar\", width=200)\n",
    "display(text)\n",
    "\n",
    "\n",
    "text.on_submit(handle_submit_2)"
   ]
  },
  {
   "cell_type": "code",
   "execution_count": 92,
   "metadata": {
    "cell_id": "00147-e85d21fc-9447-411a-8131-fda7837fdf00",
    "deepnote_cell_height": 306.1875,
    "deepnote_cell_type": "code",
    "deepnote_to_be_reexecuted": false,
    "execution_millis": 174,
    "execution_start": 1645187355913,
    "source_hash": "8fd1ee96"
   },
   "outputs": [
    {
     "name": "stderr",
     "output_type": "stream",
     "text": [
      "/Users/thesofakillers/miniconda3/envs/ir1/lib/python3.6/site-packages/ipykernel_launcher.py:33: DeprecationWarning: Call to deprecated `wv` (Attribute will be removed in 4.0.0, use self instead).\n"
     ]
    },
    {
     "data": {
      "application/vnd.jupyter.widget-view+json": {
       "model_id": "06c06a5becc249e78b3aaf59de2615fb",
       "version_major": 2,
       "version_minor": 0
      },
      "text/plain": [
       "Text(value='', description='Search Bar')"
      ]
     },
     "metadata": {},
     "output_type": "display_data"
    }
   ],
   "source": [
    "drm_w2v_pretrained = DenseRetrievalRanker(w2v_pretrained, cosine_sim)\n",
    "\n",
    "# test your LDA model\n",
    "search_fn = drm_w2v_pretrained.search\n",
    "\n",
    "text = widgets.Text(description=\"Search Bar\", width=200)\n",
    "display(text)\n",
    "\n",
    "\n",
    "text.on_submit(handle_submit_2)"
   ]
  },
  {
   "cell_type": "markdown",
   "metadata": {
    "cell_id": "00148-18690d99-32f6-4368-8791-fa8a660313c5",
    "deepnote_cell_height": 91,
    "deepnote_cell_type": "markdown",
    "deletable": false,
    "editable": false,
    "nbgrader": {
     "cell_type": "markdown",
     "checksum": "51b778984fd60757974f51047c61eb15",
     "grade": false,
     "grade_id": "cell-b92f701cbc706108",
     "locked": true,
     "schema_version": 3,
     "solution": false,
     "task": false
    }
   },
   "source": [
    "**Implementation (10 points):**\n",
    "For Doc2Vec, you will need to create a list of `TaggedDocument` instead of using the `self.corpus` or `self.documents` variable. Use the document id as the 'tag'.\n"
   ]
  },
  {
   "cell_type": "code",
   "execution_count": 93,
   "metadata": {
    "cell_id": "00149-f7ea4b9a-161d-4405-9440-ab008f8bc0ac",
    "collapsed": true,
    "deepnote_cell_height": 2261,
    "deepnote_cell_type": "code",
    "deepnote_output_heights": [
     null,
     611
    ],
    "deepnote_to_be_reexecuted": false,
    "deletable": false,
    "execution_millis": 33704,
    "execution_start": 1645187360265,
    "jupyter": {
     "outputs_hidden": true
    },
    "nbgrader": {
     "cell_type": "code",
     "checksum": "1f60fdeb97febb7f4a6fd5bf109aac20",
     "grade": false,
     "grade_id": "cell-680facdcc98a19ab",
     "locked": false,
     "schema_version": 3,
     "solution": true,
     "task": false
    },
    "source_hash": "ad328353",
    "tags": []
   },
   "outputs": [
    {
     "name": "stderr",
     "output_type": "stream",
     "text": [
      "2022-02-21 13:19:30,416 : INFO : adding document #0 to Dictionary(0 unique tokens: [])\n",
      "2022-02-21 13:19:30,628 : INFO : built Dictionary(5937 unique tokens: ['-', 'algebra', 'intern', 'languag', 'preliminari']...) from 3204 documents (total 115969 corpus positions)\n",
      "2022-02-21 13:19:30,636 : INFO : discarding 4740 tokens: [('repeat', 8), ('glossari', 7), ('inspect', 8), ('uncol', 2), ('rung', 9), ('secant', 2), ('.', 1603), ('acceler', 6), ('diverg', 3), ('induc', 9)]...\n",
      "2022-02-21 13:19:30,637 : INFO : keeping 1197 tokens which were in no less than 10 and no more than 1602 (=50.0%) documents\n",
      "2022-02-21 13:19:30,640 : INFO : resulting dictionary: Dictionary(1197 unique tokens: ['-', 'algebra', 'intern', 'languag', 'preliminari']...)\n",
      "2022-02-21 13:19:30,787 : INFO : collecting all words and their counts\n",
      "2022-02-21 13:19:30,789 : INFO : PROGRESS: at example #0, processed 0 words (0/s), 0 word types, 0 tags\n",
      "2022-02-21 13:19:30,820 : INFO : collected 5937 word types and 3204 unique tags from a corpus of 3204 examples and 115969 words\n",
      "2022-02-21 13:19:30,821 : INFO : Loading a fresh vocabulary\n",
      "2022-02-21 13:19:30,832 : INFO : effective_min_count=1 retains 5937 unique words (100% of original 5937, drops 0)\n",
      "2022-02-21 13:19:30,833 : INFO : effective_min_count=1 leaves 115969 word corpus (100% of original 115969, drops 0)\n",
      "2022-02-21 13:19:30,854 : INFO : deleting the raw counts dictionary of 5937 items\n",
      "2022-02-21 13:19:30,861 : INFO : sample=0.001 downsamples 40 most-common words\n",
      "2022-02-21 13:19:30,862 : INFO : downsampling leaves estimated 92346 word corpus (79.6% of prior 115969)\n",
      "2022-02-21 13:19:30,975 : INFO : estimated required memory for 5937 words and 100 dimensions: 9640500 bytes\n",
      "2022-02-21 13:19:30,992 : INFO : resetting layer weights\n",
      "2022-02-21 13:19:32,780 : INFO : training model with 3 workers on 5937 vocabulary and 100 features, using sg=0 hs=0 sample=0.001 negative=5 window=5\n",
      "2022-02-21 13:19:33,052 : INFO : worker thread finished; awaiting finish of 2 more threads\n",
      "2022-02-21 13:19:33,057 : INFO : worker thread finished; awaiting finish of 1 more threads\n",
      "2022-02-21 13:19:33,072 : INFO : worker thread finished; awaiting finish of 0 more threads\n",
      "2022-02-21 13:19:33,073 : INFO : EPOCH - 1 : training on 115969 raw words (95502 effective words) took 0.3s, 332475 effective words/s\n",
      "2022-02-21 13:19:33,353 : INFO : worker thread finished; awaiting finish of 2 more threads\n",
      "2022-02-21 13:19:33,359 : INFO : worker thread finished; awaiting finish of 1 more threads\n",
      "2022-02-21 13:19:33,367 : INFO : worker thread finished; awaiting finish of 0 more threads\n",
      "2022-02-21 13:19:33,367 : INFO : EPOCH - 2 : training on 115969 raw words (95498 effective words) took 0.3s, 329420 effective words/s\n",
      "2022-02-21 13:19:33,696 : INFO : worker thread finished; awaiting finish of 2 more threads\n",
      "2022-02-21 13:19:33,697 : INFO : worker thread finished; awaiting finish of 1 more threads\n",
      "2022-02-21 13:19:33,707 : INFO : worker thread finished; awaiting finish of 0 more threads\n",
      "2022-02-21 13:19:33,707 : INFO : EPOCH - 3 : training on 115969 raw words (95486 effective words) took 0.3s, 285185 effective words/s\n",
      "2022-02-21 13:19:33,979 : INFO : worker thread finished; awaiting finish of 2 more threads\n",
      "2022-02-21 13:19:33,987 : INFO : worker thread finished; awaiting finish of 1 more threads\n",
      "2022-02-21 13:19:33,996 : INFO : worker thread finished; awaiting finish of 0 more threads\n",
      "2022-02-21 13:19:33,996 : INFO : EPOCH - 4 : training on 115969 raw words (95586 effective words) took 0.3s, 335557 effective words/s\n",
      "2022-02-21 13:19:34,289 : INFO : worker thread finished; awaiting finish of 2 more threads\n",
      "2022-02-21 13:19:34,294 : INFO : worker thread finished; awaiting finish of 1 more threads\n",
      "2022-02-21 13:19:34,301 : INFO : worker thread finished; awaiting finish of 0 more threads\n",
      "2022-02-21 13:19:34,302 : INFO : EPOCH - 5 : training on 115969 raw words (95577 effective words) took 0.3s, 319458 effective words/s\n",
      "2022-02-21 13:19:34,565 : INFO : worker thread finished; awaiting finish of 2 more threads\n",
      "2022-02-21 13:19:34,590 : INFO : worker thread finished; awaiting finish of 1 more threads\n",
      "2022-02-21 13:19:34,608 : INFO : worker thread finished; awaiting finish of 0 more threads\n",
      "2022-02-21 13:19:34,608 : INFO : EPOCH - 6 : training on 115969 raw words (95698 effective words) took 0.3s, 318719 effective words/s\n",
      "2022-02-21 13:19:34,873 : INFO : worker thread finished; awaiting finish of 2 more threads\n",
      "2022-02-21 13:19:34,888 : INFO : worker thread finished; awaiting finish of 1 more threads\n",
      "2022-02-21 13:19:34,894 : INFO : worker thread finished; awaiting finish of 0 more threads\n",
      "2022-02-21 13:19:34,895 : INFO : EPOCH - 7 : training on 115969 raw words (95608 effective words) took 0.3s, 340287 effective words/s\n",
      "2022-02-21 13:19:35,193 : INFO : worker thread finished; awaiting finish of 2 more threads\n",
      "2022-02-21 13:19:35,206 : INFO : worker thread finished; awaiting finish of 1 more threads\n",
      "2022-02-21 13:19:35,212 : INFO : worker thread finished; awaiting finish of 0 more threads\n",
      "2022-02-21 13:19:35,212 : INFO : EPOCH - 8 : training on 115969 raw words (95744 effective words) took 0.3s, 305862 effective words/s\n",
      "2022-02-21 13:19:35,484 : INFO : worker thread finished; awaiting finish of 2 more threads\n",
      "2022-02-21 13:19:35,493 : INFO : worker thread finished; awaiting finish of 1 more threads\n",
      "2022-02-21 13:19:35,503 : INFO : worker thread finished; awaiting finish of 0 more threads\n",
      "2022-02-21 13:19:35,504 : INFO : EPOCH - 9 : training on 115969 raw words (95630 effective words) took 0.3s, 335172 effective words/s\n",
      "2022-02-21 13:19:35,783 : INFO : worker thread finished; awaiting finish of 2 more threads\n",
      "2022-02-21 13:19:35,795 : INFO : worker thread finished; awaiting finish of 1 more threads\n",
      "2022-02-21 13:19:35,810 : INFO : worker thread finished; awaiting finish of 0 more threads\n",
      "2022-02-21 13:19:35,811 : INFO : EPOCH - 10 : training on 115969 raw words (95494 effective words) took 0.3s, 315387 effective words/s\n",
      "2022-02-21 13:19:36,092 : INFO : worker thread finished; awaiting finish of 2 more threads\n",
      "2022-02-21 13:19:36,096 : INFO : worker thread finished; awaiting finish of 1 more threads\n",
      "2022-02-21 13:19:36,107 : INFO : worker thread finished; awaiting finish of 0 more threads\n",
      "2022-02-21 13:19:36,108 : INFO : EPOCH - 11 : training on 115969 raw words (95556 effective words) took 0.3s, 344521 effective words/s\n",
      "2022-02-21 13:19:36,380 : INFO : worker thread finished; awaiting finish of 2 more threads\n",
      "2022-02-21 13:19:36,399 : INFO : worker thread finished; awaiting finish of 1 more threads\n",
      "2022-02-21 13:19:36,416 : INFO : worker thread finished; awaiting finish of 0 more threads\n",
      "2022-02-21 13:19:36,417 : INFO : EPOCH - 12 : training on 115969 raw words (95536 effective words) took 0.3s, 329304 effective words/s\n",
      "2022-02-21 13:19:36,704 : INFO : worker thread finished; awaiting finish of 2 more threads\n",
      "2022-02-21 13:19:36,713 : INFO : worker thread finished; awaiting finish of 1 more threads\n",
      "2022-02-21 13:19:36,714 : INFO : worker thread finished; awaiting finish of 0 more threads\n",
      "2022-02-21 13:19:36,714 : INFO : EPOCH - 13 : training on 115969 raw words (95492 effective words) took 0.3s, 327224 effective words/s\n",
      "2022-02-21 13:19:37,022 : INFO : worker thread finished; awaiting finish of 2 more threads\n",
      "2022-02-21 13:19:37,023 : INFO : worker thread finished; awaiting finish of 1 more threads\n",
      "2022-02-21 13:19:37,028 : INFO : worker thread finished; awaiting finish of 0 more threads\n",
      "2022-02-21 13:19:37,028 : INFO : EPOCH - 14 : training on 115969 raw words (95531 effective words) took 0.3s, 309830 effective words/s\n",
      "2022-02-21 13:19:37,296 : INFO : worker thread finished; awaiting finish of 2 more threads\n",
      "2022-02-21 13:19:37,298 : INFO : worker thread finished; awaiting finish of 1 more threads\n",
      "2022-02-21 13:19:37,305 : INFO : worker thread finished; awaiting finish of 0 more threads\n",
      "2022-02-21 13:19:37,306 : INFO : EPOCH - 15 : training on 115969 raw words (95558 effective words) took 0.3s, 350204 effective words/s\n",
      "2022-02-21 13:19:37,700 : INFO : worker thread finished; awaiting finish of 2 more threads\n",
      "2022-02-21 13:19:37,716 : INFO : worker thread finished; awaiting finish of 1 more threads\n",
      "2022-02-21 13:19:37,730 : INFO : worker thread finished; awaiting finish of 0 more threads\n",
      "2022-02-21 13:19:37,731 : INFO : EPOCH - 16 : training on 115969 raw words (95399 effective words) took 0.4s, 226978 effective words/s\n",
      "2022-02-21 13:19:38,054 : INFO : worker thread finished; awaiting finish of 2 more threads\n",
      "2022-02-21 13:19:38,062 : INFO : worker thread finished; awaiting finish of 1 more threads\n",
      "2022-02-21 13:19:38,065 : INFO : worker thread finished; awaiting finish of 0 more threads\n",
      "2022-02-21 13:19:38,066 : INFO : EPOCH - 17 : training on 115969 raw words (95554 effective words) took 0.3s, 289603 effective words/s\n",
      "2022-02-21 13:19:38,415 : INFO : worker thread finished; awaiting finish of 2 more threads\n",
      "2022-02-21 13:19:38,437 : INFO : worker thread finished; awaiting finish of 1 more threads\n",
      "2022-02-21 13:19:38,442 : INFO : worker thread finished; awaiting finish of 0 more threads\n",
      "2022-02-21 13:19:38,442 : INFO : EPOCH - 18 : training on 115969 raw words (95512 effective words) took 0.4s, 257314 effective words/s\n",
      "2022-02-21 13:19:38,754 : INFO : worker thread finished; awaiting finish of 2 more threads\n",
      "2022-02-21 13:19:38,764 : INFO : worker thread finished; awaiting finish of 1 more threads\n",
      "2022-02-21 13:19:38,774 : INFO : worker thread finished; awaiting finish of 0 more threads\n",
      "2022-02-21 13:19:38,774 : INFO : EPOCH - 19 : training on 115969 raw words (95554 effective words) took 0.3s, 295450 effective words/s\n",
      "2022-02-21 13:19:39,055 : INFO : worker thread finished; awaiting finish of 2 more threads\n",
      "2022-02-21 13:19:39,074 : INFO : worker thread finished; awaiting finish of 1 more threads\n",
      "2022-02-21 13:19:39,079 : INFO : worker thread finished; awaiting finish of 0 more threads\n",
      "2022-02-21 13:19:39,080 : INFO : EPOCH - 20 : training on 115969 raw words (95468 effective words) took 0.3s, 317935 effective words/s\n",
      "2022-02-21 13:19:39,080 : INFO : training on a 2319380 raw words (1910983 effective words) took 6.3s, 303398 effective words/s\n"
     ]
    },
    {
     "data": {
      "text/plain": [
       "[(0, -0.1350212),\n",
       " (1, -0.026057241),\n",
       " (2, 0.06409725),\n",
       " (3, -0.026208026),\n",
       " (4, -0.076585665),\n",
       " (5, -0.029298713),\n",
       " (6, 0.021060627),\n",
       " (7, 0.026759451),\n",
       " (8, 0.062203065),\n",
       " (9, -0.08583813),\n",
       " (10, -0.050002567),\n",
       " (11, -0.022972843),\n",
       " (12, 0.048918735),\n",
       " (13, -0.05946239),\n",
       " (14, 0.009300762),\n",
       " (15, -0.049707614),\n",
       " (16, 0.02659462),\n",
       " (17, -0.072943315),\n",
       " (18, -0.08354665),\n",
       " (19, 0.018073104),\n",
       " (20, 0.04320222),\n",
       " (21, -0.082073316),\n",
       " (22, -0.04197372),\n",
       " (23, -0.010825623),\n",
       " (24, 0.017537547),\n",
       " (25, -0.0640702),\n",
       " (26, -0.076317675),\n",
       " (27, -0.07338769),\n",
       " (28, -0.12748826),\n",
       " (29, -0.020383405),\n",
       " (30, -0.00064667425),\n",
       " (31, -0.024031697),\n",
       " (32, 0.009766606),\n",
       " (33, 0.061059657),\n",
       " (34, -0.05278871),\n",
       " (35, 0.038347244),\n",
       " (36, -0.01745316),\n",
       " (37, 0.09305598),\n",
       " (38, 0.056432787),\n",
       " (39, -0.02498159),\n",
       " (40, 0.005227406),\n",
       " (41, -0.009757796),\n",
       " (42, -0.07554856),\n",
       " (43, 0.0037794095),\n",
       " (44, 0.01346932),\n",
       " (45, -0.03460138),\n",
       " (46, 0.09945271),\n",
       " (47, 0.043535367),\n",
       " (48, -0.07897034),\n",
       " (49, 0.08769763),\n",
       " (50, -0.04735621),\n",
       " (51, 0.052054357),\n",
       " (52, -0.019504525),\n",
       " (53, -0.055981055),\n",
       " (54, 0.027275708),\n",
       " (55, -0.021270262),\n",
       " (56, -0.08395509),\n",
       " (57, 0.02713502),\n",
       " (58, -0.006875244),\n",
       " (59, -0.10116309),\n",
       " (60, -0.08836961),\n",
       " (61, 0.062246844),\n",
       " (62, 0.042273343),\n",
       " (63, -0.013027351),\n",
       " (64, 0.052268017),\n",
       " (65, 0.006928781),\n",
       " (66, 0.018232336),\n",
       " (67, 0.012925868),\n",
       " (68, -0.031087823),\n",
       " (69, 0.08907076),\n",
       " (70, 0.033925276),\n",
       " (71, 0.028522862),\n",
       " (72, -0.013631303),\n",
       " (73, 0.005415648),\n",
       " (74, -0.008984459),\n",
       " (75, 0.0006328417),\n",
       " (76, -0.035804484),\n",
       " (77, 0.033646803),\n",
       " (78, -0.037694134),\n",
       " (79, 0.0820628),\n",
       " (80, -0.06433755),\n",
       " (81, -0.043660954),\n",
       " (82, 0.035552625),\n",
       " (83, 0.00941096),\n",
       " (84, -0.038547676),\n",
       " (85, 0.034210205),\n",
       " (86, -0.03817213),\n",
       " (87, 0.08706402),\n",
       " (88, 0.04877625),\n",
       " (89, -0.032962345),\n",
       " (90, 0.046462063),\n",
       " (91, 0.023355365),\n",
       " (92, -0.007912914),\n",
       " (93, 0.036483128),\n",
       " (94, -0.047878757),\n",
       " (95, 0.036293454),\n",
       " (96, -0.043361127),\n",
       " (97, 0.029172951),\n",
       " (98, 0.05202864),\n",
       " (99, 0.012355335)]"
      ]
     },
     "execution_count": 93,
     "metadata": {},
     "output_type": "execute_result"
    }
   ],
   "source": [
    "# TODO: Implement this! (10 points)\n",
    "class D2VRetrievalModel(VectorSpaceRetrievalModel):\n",
    "    def __init__(self, doc_repr):\n",
    "        super().__init__(doc_repr)\n",
    "\n",
    "        self.vector_size = 100\n",
    "        self.min_count = 1\n",
    "        self.epochs = 20\n",
    "\n",
    "        # YOUR CODE HERE\n",
    "        self.tagged_documents = [\n",
    "            TaggedDocument(doc, [doc_id]) for doc_id, doc in self.doc_repr\n",
    "        ]\n",
    "\n",
    "    def train_model(self):\n",
    "        # YOUR CODE HERE\n",
    "        self.model = Doc2Vec(\n",
    "            documents=self.tagged_documents,\n",
    "            vector_size=self.vector_size,\n",
    "            epochs=self.epochs,\n",
    "            min_count=self.min_count,\n",
    "        )\n",
    "\n",
    "    def vectorize_documents(self):\n",
    "        \"\"\"\n",
    "        Returns a doc_id -> vector dictionary\n",
    "        \"\"\"\n",
    "        # YOUR CODE HERE\n",
    "        vectors = {}\n",
    "        for (doc_id, doc) in self.doc_repr:\n",
    "            doc_vec = self.model.docvecs[doc_id]\n",
    "            # conver to weird gensim format\n",
    "            doc_vec = [(i, el) for i, el in enumerate(doc_vec)]\n",
    "            # store\n",
    "            vectors[doc_id] = doc_vec\n",
    "        return vectors\n",
    "\n",
    "    def vectorize_query(self, query):\n",
    "        # YOUR CODE HERE\n",
    "        query = process_text(query, **config_2)\n",
    "        query_vec = self.model.infer_vector(query)\n",
    "        # conver to weird gensim format\n",
    "        query_vec = [(i, el) for i, el in enumerate(query_vec)]\n",
    "        return query_vec\n",
    "\n",
    "\n",
    "d2v = D2VRetrievalModel(doc_repr_2)\n",
    "d2v.train_model()\n",
    "\n",
    "\n",
    "# # you can now get an LSI vector for a given query in the following way:\n",
    "d2v.vectorize_query(\"report\")"
   ]
  },
  {
   "cell_type": "code",
   "execution_count": 94,
   "metadata": {
    "cell_id": "00150-51d38d3e-9d84-4728-935b-b2266a0f7700",
    "deepnote_cell_height": 81,
    "deepnote_cell_type": "code",
    "deepnote_to_be_reexecuted": false,
    "deletable": false,
    "editable": false,
    "execution_millis": 13,
    "execution_start": 1645187446843,
    "nbgrader": {
     "cell_type": "code",
     "checksum": "e83a363a9d4f136efbdde1426a83925e",
     "grade": true,
     "grade_id": "cell-5e2c5e0c9a2e8cb5",
     "locked": true,
     "points": 0,
     "schema_version": 3,
     "solution": false,
     "task": false
    },
    "source_hash": "28110d30"
   },
   "outputs": [],
   "source": [
    "#### Please do not change this. This cell is used for grading."
   ]
  },
  {
   "cell_type": "markdown",
   "metadata": {
    "cell_id": "00151-fb85191e-b51e-42ca-812f-693c5a17802d",
    "deepnote_cell_height": 52.390625,
    "deepnote_cell_type": "markdown",
    "deletable": false,
    "editable": false,
    "nbgrader": {
     "cell_type": "markdown",
     "checksum": "5bb46bf6b9be1e0ca66f0b0bc6260ecb",
     "grade": false,
     "grade_id": "cell-8a49d414f798a595",
     "locked": true,
     "points": 10,
     "schema_version": 3,
     "solution": false,
     "task": true
    }
   },
   "source": [
    "\\#### Please do not change this. This cell is used for grading."
   ]
  },
  {
   "cell_type": "code",
   "execution_count": 95,
   "metadata": {
    "cell_id": "00152-f0e8290b-0789-4c20-965c-0a941de12a6d",
    "deepnote_cell_height": 303,
    "deepnote_cell_type": "code",
    "deepnote_to_be_reexecuted": false,
    "execution_millis": 302,
    "execution_start": 1645187449617,
    "source_hash": "2beb5e63"
   },
   "outputs": [
    {
     "data": {
      "application/vnd.jupyter.widget-view+json": {
       "model_id": "0d8c05487a6740e291b0f9e20c745b22",
       "version_major": 2,
       "version_minor": 0
      },
      "text/plain": [
       "Text(value='', description='Search Bar')"
      ]
     },
     "metadata": {},
     "output_type": "display_data"
    }
   ],
   "source": [
    "drm_d2v = DenseRetrievalRanker(d2v, cosine_sim)\n",
    "\n",
    "# test your LDA model\n",
    "search_fn = drm_d2v.search\n",
    "\n",
    "text = widgets.Text(description=\"Search Bar\", width=200)\n",
    "display(text)\n",
    "\n",
    "\n",
    "text.on_submit(handle_submit_2)"
   ]
  },
  {
   "cell_type": "markdown",
   "metadata": {
    "cell_id": "00153-7795ce30-661e-4988-b26a-e3ed09ce3615",
    "deepnote_cell_height": 168.171875,
    "deepnote_cell_type": "markdown",
    "deletable": false,
    "editable": false,
    "nbgrader": {
     "cell_type": "markdown",
     "checksum": "363ec36c1d03d9f9e1c2045a6e193c14",
     "grade": false,
     "grade_id": "cell-3529ae29eece7b97",
     "locked": true,
     "schema_version": 3,
     "solution": false,
     "task": false
    }
   },
   "source": [
    "---\n",
    "## Section 9: Re-ranking (10 points) <a class=\"anchor\" id=\"reranking\"></a>\n",
    "\n",
    "[Back to Part 2](#part2)\n",
    "\n",
    "To motivate the re-ranking perspective (i.e retrieve with lexical method + rerank with a semantic method), let's search using semantic methods and compare it to BM25's performance, along with their runtime:\n"
   ]
  },
  {
   "cell_type": "code",
   "execution_count": 96,
   "metadata": {
    "cell_id": "00154-4c11daad-82ca-4156-9d9b-7d9457aaf21b",
    "deepnote_cell_height": 567.875,
    "deepnote_cell_type": "code",
    "deepnote_to_be_reexecuted": false,
    "deletable": false,
    "editable": false,
    "execution_millis": 22802,
    "execution_start": 1645187474568,
    "nbgrader": {
     "cell_type": "code",
     "checksum": "5755f70e3eb28abc65d14d80125338af",
     "grade": false,
     "grade_id": "cell-f8f43bf5ae383128",
     "locked": true,
     "schema_version": 3,
     "solution": false,
     "task": false
    },
    "source_hash": "3fb54859"
   },
   "outputs": [
    {
     "name": "stdout",
     "output_type": "stream",
     "text": [
      "BM25: \n",
      "1.61 ms ± 118 µs per loop (mean ± std. dev. of 7 runs, 100 loops each)\n",
      "LSI: \n",
      "850 ms ± 166 ms per loop (mean ± std. dev. of 7 runs, 1 loop each)\n",
      "LDA: \n",
      "263 ms ± 42.3 ms per loop (mean ± std. dev. of 7 runs, 1 loop each)\n",
      "W2V: \n",
      "686 ms ± 53 ms per loop (mean ± std. dev. of 7 runs, 1 loop each)\n",
      "W2V(Pretrained): \n"
     ]
    },
    {
     "name": "stderr",
     "output_type": "stream",
     "text": [
      "/Users/thesofakillers/miniconda3/envs/ir1/lib/python3.6/site-packages/ipykernel_launcher.py:63: DeprecationWarning: Call to deprecated `wv` (Attribute will be removed in 4.0.0, use self instead).\n"
     ]
    },
    {
     "name": "stdout",
     "output_type": "stream",
     "text": [
      "1.99 s ± 329 ms per loop (mean ± std. dev. of 7 runs, 1 loop each)\n",
      "D2V:\n",
      "2.97 s ± 144 ms per loop (mean ± std. dev. of 7 runs, 1 loop each)\n"
     ]
    }
   ],
   "source": [
    "query = \"algebraic functions\"\n",
    "print(\"BM25: \")\n",
    "%timeit bm25_search(query, 2)\n",
    "print(\"LSI: \")\n",
    "%timeit drm_lsi.search(query)\n",
    "print(\"LDA: \")\n",
    "%timeit drm_lda.search(query)\n",
    "print(\"W2V: \")\n",
    "%timeit drm_w2v.search(query)\n",
    "print(\"W2V(Pretrained): \")\n",
    "%timeit drm_w2v_pretrained.search(query)\n",
    "print(\"D2V:\")\n",
    "%timeit drm_d2v.search(query)"
   ]
  },
  {
   "cell_type": "markdown",
   "metadata": {
    "cell_id": "00155-48f43fee-cf35-4878-adef-f41c0c70d38b",
    "deepnote_cell_height": 165.375,
    "deepnote_cell_type": "markdown",
    "deletable": false,
    "editable": false,
    "nbgrader": {
     "cell_type": "markdown",
     "checksum": "ae398da0a8c23c95bcbb0023b7ec6f34",
     "grade": false,
     "grade_id": "cell-db5ff09f97841af7",
     "locked": true,
     "schema_version": 3,
     "solution": false,
     "task": false
    }
   },
   "source": [
    "---\n",
    "\n",
    "**Implementation (10 points):**\n",
    "Re-ranking involves retrieving a small set of documents using simple but fast methods like BM25 and then re-ranking them with the aid of semantic methods such as LDA or LSI. Implement the following class, which takes in an `initial_retrieval_fn` - the initial retrieval function and `vsrm` - an instance of the `VectorSpaceRetrievalModel` class (i.e LSI/LDA) as input. The search function should first retrieve an initial list of K documents, and then these documents are re-ranked using a semantic method. This not only makes retrieval faster, but semantic methods perform poorly when used in isolation, as you will find out."
   ]
  },
  {
   "cell_type": "code",
   "execution_count": 97,
   "metadata": {
    "cell_id": "00156-e15452e3-f043-4451-be79-5e3c6e3f889e",
    "deepnote_cell_height": 639,
    "deepnote_cell_type": "code",
    "deepnote_to_be_reexecuted": false,
    "deletable": false,
    "execution_millis": 0,
    "execution_start": 1645189040776,
    "nbgrader": {
     "cell_type": "code",
     "checksum": "63b6b05a676a2ae3f08d8bed1bc59428",
     "grade": false,
     "grade_id": "cell-5bf47600d1a0c507",
     "locked": false,
     "schema_version": 3,
     "solution": true,
     "task": false
    },
    "source_hash": "fa2995d"
   },
   "outputs": [],
   "source": [
    "# TODO: Implement this! (10 points)\n",
    "class DenseRerankingModel:\n",
    "    def __init__(self, initial_retrieval_fn, vsrm, similarity_fn):\n",
    "        \"\"\"\n",
    "        initial_retrieval_fn: takes in a query and returns a list of [(doc_id, score)] (sorted)\n",
    "        vsrm: instance of `VectorSpaceRetrievalModel`\n",
    "        similarity_fn: function instance that takes in two vectors\n",
    "                        and returns a similarity score e.g cosine_sim defined earlier\n",
    "        \"\"\"\n",
    "        self.ret = initial_retrieval_fn\n",
    "        self.vsrm = vsrm\n",
    "        self.similarity_fn = similarity_fn\n",
    "        self.vectorized_documents = vsrm.vectorize_documents()\n",
    "\n",
    "        assert len(self.vectorized_documents) == len(doc_repr_2)\n",
    "\n",
    "    def search(self, query, K=50):\n",
    "        \"\"\"\n",
    "        First, retrieve the top K results using the retrieval function\n",
    "        Then, re-rank the results using the VSRM instance\n",
    "        \"\"\"\n",
    "        # YOUR CODE HERE\n",
    "        top_k = self.ret(query)[:K]\n",
    "        results = {}\n",
    "        for doc_id, _score in top_k:\n",
    "            doc_vector = self.vectorized_documents[doc_id]\n",
    "            query_vector = self.vsrm.vectorize_query(query)\n",
    "            new_score = self.similarity_fn(doc_vector, query_vector)\n",
    "            results[doc_id] = new_score\n",
    "        # convert results to list and sort descending\n",
    "        results = sorted(list(results.items()), key=lambda x: x[1], reverse=True)\n",
    "        return results"
   ]
  },
  {
   "cell_type": "code",
   "execution_count": 98,
   "metadata": {
    "cell_id": "00157-3538784a-efa2-4b36-b167-d05248360ac1",
    "deepnote_cell_height": 225,
    "deepnote_cell_type": "code",
    "deepnote_to_be_reexecuted": false,
    "deletable": false,
    "editable": false,
    "execution_millis": 5334,
    "execution_start": 1645189060550,
    "nbgrader": {
     "cell_type": "code",
     "checksum": "334ab5af96976265cace682ab82a7387",
     "grade": true,
     "grade_id": "cell-52c6d18a4c0b4882",
     "locked": true,
     "points": 0,
     "schema_version": 3,
     "solution": false,
     "task": false
    },
    "source_hash": "f5babc28"
   },
   "outputs": [
    {
     "name": "stderr",
     "output_type": "stream",
     "text": [
      "/Users/thesofakillers/miniconda3/envs/ir1/lib/python3.6/site-packages/ipykernel_launcher.py:33: DeprecationWarning: Call to deprecated `wv` (Attribute will be removed in 4.0.0, use self instead).\n"
     ]
    }
   ],
   "source": [
    "##### Function check\n",
    "bm25_search_2 = partial(bm25_search, index_set=2)\n",
    "lsi_rerank = DenseRerankingModel(bm25_search_2, lsi, cosine_sim)\n",
    "lda_rerank = DenseRerankingModel(bm25_search_2, lda, jenson_shannon_sim)\n",
    "w2v_rerank = DenseRerankingModel(bm25_search_2, w2v, cosine_sim)\n",
    "w2v_pretrained_rerank = DenseRerankingModel(bm25_search_2, w2v_pretrained, cosine_sim)\n",
    "d2v_rerank = DenseRerankingModel(bm25_search_2, d2v, cosine_sim)\n",
    "\n",
    "#####"
   ]
  },
  {
   "cell_type": "markdown",
   "metadata": {
    "cell_id": "00158-5fbe0f74-4068-4e6e-9f3b-854b724106d7",
    "deepnote_cell_height": 52.390625,
    "deepnote_cell_type": "markdown",
    "deletable": false,
    "editable": false,
    "nbgrader": {
     "cell_type": "markdown",
     "checksum": "bd904253f45f84e63bab3a69729058fc",
     "grade": false,
     "grade_id": "cell-93215dfe6bcf7cff",
     "locked": true,
     "points": 10,
     "schema_version": 3,
     "solution": false,
     "task": true
    }
   },
   "source": [
    "\\#### Please do not change this. This cell is used for grading."
   ]
  },
  {
   "cell_type": "markdown",
   "metadata": {
    "cell_id": "00159-f5e855d2-5764-440e-a8e4-10860c9a9ac3",
    "deepnote_cell_height": 55,
    "deepnote_cell_type": "markdown",
    "deletable": false,
    "editable": false,
    "nbgrader": {
     "cell_type": "markdown",
     "checksum": "b592e60292bfe3d9ef2930a354c4077a",
     "grade": false,
     "grade_id": "cell-aa694ff55fa91e7d",
     "locked": true,
     "schema_version": 3,
     "solution": false,
     "task": false
    }
   },
   "source": [
    "---\n",
    "Now, let us time the new search functions:"
   ]
  },
  {
   "cell_type": "code",
   "execution_count": 99,
   "metadata": {
    "cell_id": "00160-933196c3-9483-4ca6-a4a6-ca24aad69936",
    "deepnote_cell_height": 530.0625,
    "deepnote_cell_type": "code",
    "deepnote_to_be_reexecuted": false,
    "deletable": false,
    "editable": false,
    "execution_millis": 38436,
    "execution_start": 1645189086450,
    "nbgrader": {
     "cell_type": "code",
     "checksum": "338c7e3528cba266a865a061287c0e38",
     "grade": false,
     "grade_id": "cell-5edbd481562ad91f",
     "locked": true,
     "schema_version": 3,
     "solution": false,
     "task": false
    },
    "source_hash": "bfac7774"
   },
   "outputs": [
    {
     "name": "stdout",
     "output_type": "stream",
     "text": [
      "BM25: \n",
      "1.62 ms ± 61.8 µs per loop (mean ± std. dev. of 7 runs, 1000 loops each)\n",
      "LSI: \n",
      "31.1 ms ± 3.13 ms per loop (mean ± std. dev. of 7 runs, 10 loops each)\n",
      "LDA: \n",
      "27.6 ms ± 975 µs per loop (mean ± std. dev. of 7 runs, 10 loops each)\n",
      "W2V: \n",
      "21.2 ms ± 3.79 ms per loop (mean ± std. dev. of 7 runs, 100 loops each)\n",
      "W2V(Pretrained): \n"
     ]
    },
    {
     "name": "stderr",
     "output_type": "stream",
     "text": [
      "/Users/thesofakillers/miniconda3/envs/ir1/lib/python3.6/site-packages/ipykernel_launcher.py:63: DeprecationWarning: Call to deprecated `wv` (Attribute will be removed in 4.0.0, use self instead).\n"
     ]
    },
    {
     "name": "stdout",
     "output_type": "stream",
     "text": [
      "39.3 ms ± 2.92 ms per loop (mean ± std. dev. of 7 runs, 10 loops each)\n",
      "D2V:\n",
      "110 ms ± 8.84 ms per loop (mean ± std. dev. of 7 runs, 10 loops each)\n"
     ]
    }
   ],
   "source": [
    "query = \"algebraic functions\"\n",
    "print(\"BM25: \")\n",
    "%timeit bm25_search(query, 2)\n",
    "print(\"LSI: \")\n",
    "%timeit lsi_rerank.search(query)\n",
    "print(\"LDA: \")\n",
    "%timeit lda_rerank.search(query)\n",
    "print(\"W2V: \")\n",
    "%timeit w2v_rerank.search(query)\n",
    "print(\"W2V(Pretrained): \")\n",
    "%timeit w2v_pretrained_rerank.search(query)\n",
    "print(\"D2V:\")\n",
    "%timeit d2v_rerank.search(query)"
   ]
  },
  {
   "cell_type": "markdown",
   "metadata": {
    "cell_id": "00161-7e54209c-2f42-4a49-bab8-78710df71f6b",
    "deepnote_cell_height": 55,
    "deepnote_cell_type": "markdown",
    "deletable": false,
    "editable": false,
    "nbgrader": {
     "cell_type": "markdown",
     "checksum": "c45c5e3f015b2de89d9d39ae3766368b",
     "grade": false,
     "grade_id": "cell-85c50f2ab9eec301",
     "locked": true,
     "schema_version": 3,
     "solution": false,
     "task": false
    }
   },
   "source": [
    "---\n",
    "As you can see, it is much faster (but BM25 is still orders of magnitude faster)."
   ]
  },
  {
   "cell_type": "markdown",
   "metadata": {
    "cell_id": "00162-b811d517-f3b2-45f1-9dac-88d1fe08cfda",
    "deepnote_cell_height": 311.375,
    "deepnote_cell_type": "markdown",
    "deletable": false,
    "editable": false,
    "nbgrader": {
     "cell_type": "markdown",
     "checksum": "1e2f3388e3807659f303fe31a75a010e",
     "grade": false,
     "grade_id": "cell-5071bb99b2af61cb",
     "locked": true,
     "schema_version": 3,
     "solution": false,
     "task": false
    }
   },
   "source": [
    "---\n",
    "## Section 10: Evaluation & Analysis (30 points) <a class=\"anchor\" id=\"reranking_eval\"></a>\n",
    "\n",
    "[Back to Part 2](#part2)\n",
    "\n",
    "[Previously](#evaluation) we have implemented some evaluation metrics and used them for measuring the ranking performance of term-based IR algorithms. In this section, we will do the same for semantic methods, both with and without re-ranking.\n",
    "\n",
    "### Section 10.1: Plot (10 points)\n",
    "\n",
    "First, gather the results. The results should consider the index set, the different search functions and different metrics. Plot the results in bar charts, per metric, with clear labels.\n",
    "\n",
    "Then, gather only the re-ranking models, and plot and compare them with the results obtained in part 1 (only index set 2)."
   ]
  },
  {
   "cell_type": "code",
   "execution_count": 100,
   "metadata": {
    "cell_id": "00163-2e475730-a0ad-40ed-b4cf-04ccd10e3e34",
    "deepnote_cell_height": 297,
    "deepnote_cell_type": "code",
    "deepnote_to_be_reexecuted": false,
    "deletable": false,
    "editable": false,
    "execution_millis": 5,
    "execution_start": 1645189150648,
    "nbgrader": {
     "cell_type": "code",
     "checksum": "4fe81520ac6413a803838913fd64de03",
     "grade": false,
     "grade_id": "cell-b672fe6dfae0b1ce",
     "locked": true,
     "schema_version": 3,
     "solution": false,
     "task": false
    },
    "source_hash": "c2b8785a"
   },
   "outputs": [],
   "source": [
    "list_of_sem_search_fns = [\n",
    "    (\"lda\", drm_lda.search),\n",
    "    (\"lsi\", drm_lsi.search),\n",
    "    (\"w2v\", drm_w2v.search),\n",
    "    (\"w2v_pretrained\", drm_w2v_pretrained.search),\n",
    "    (\"d2v\", drm_d2v.search),\n",
    "    (\"lsi_rr\", lsi_rerank.search),\n",
    "    (\"lda_rr\", lda_rerank.search),\n",
    "    (\"w2v_rr\", w2v_rerank.search),\n",
    "    (\"w2v_pretrained_rr\", w2v_pretrained_rerank.search),\n",
    "    (\"d2v_rr\", d2v_rerank.search),\n",
    "]"
   ]
  },
  {
   "cell_type": "code",
   "execution_count": 101,
   "metadata": {
    "cell_id": "00164-ba70f9d6-5fd4-4ccc-9243-56081705849b",
    "deepnote_cell_height": 2368.78125,
    "deepnote_cell_type": "code",
    "deepnote_output_heights": [
     472.390625,
     472.390625
    ],
    "deepnote_to_be_reexecuted": false,
    "deletable": false,
    "execution_millis": 699543,
    "execution_start": 1645197094542,
    "nbgrader": {
     "cell_type": "code",
     "checksum": "54707c4afac084299aeefa047259b4a9",
     "grade": true,
     "grade_id": "cell-7dd8273b0f5a3c22",
     "locked": false,
     "points": 10,
     "schema_version": 3,
     "solution": true,
     "task": false
    },
    "source_hash": "7b8cce53"
   },
   "outputs": [
    {
     "name": "stdout",
     "output_type": "stream",
     "text": [
      "\n",
      "Vanilla\n",
      "\tlda\n",
      "{'ERR': 0.08934475,\n",
      " 'MAP': 0.041620154,\n",
      " 'Precision@1': 0.057692308,\n",
      " 'Precision@10': 0.051923078,\n",
      " 'Precision@5': 0.050000004,\n",
      " 'Recall@1': 0.003751457,\n",
      " 'Recall@10': 0.032223348,\n",
      " 'Recall@5': 0.016857622}\n",
      "\tlsi\n",
      "{'ERR': 0.12538442,\n",
      " 'MAP': 0.06364973,\n",
      " 'Precision@1': 0.115384616,\n",
      " 'Precision@10': 0.07692308,\n",
      " 'Precision@5': 0.08846155,\n",
      " 'Recall@1': 0.015510531,\n",
      " 'Recall@10': 0.055316165,\n",
      " 'Recall@5': 0.03464716}\n",
      "\tw2v\n",
      "{'ERR': 0.012426019,\n",
      " 'MAP': 0.009507569,\n",
      " 'Precision@1': 0.0,\n",
      " 'Precision@10': 0.0038461538,\n",
      " 'Precision@5': 0.0038461538,\n",
      " 'Recall@1': 0.0,\n",
      " 'Recall@10': 0.002335165,\n",
      " 'Recall@5': 0.0013736264}\n"
     ]
    },
    {
     "name": "stderr",
     "output_type": "stream",
     "text": [
      "/Users/thesofakillers/miniconda3/envs/ir1/lib/python3.6/site-packages/ipykernel_launcher.py:63: DeprecationWarning: Call to deprecated `wv` (Attribute will be removed in 4.0.0, use self instead).\n"
     ]
    },
    {
     "name": "stdout",
     "output_type": "stream",
     "text": [
      "\tw2v_pretrained\n",
      "{'ERR': 0.054419413,\n",
      " 'MAP': 0.03211335,\n",
      " 'Precision@1': 0.01923077,\n",
      " 'Precision@10': 0.03846154,\n",
      " 'Precision@5': 0.046153847,\n",
      " 'Recall@1': 0.0006203474,\n",
      " 'Recall@10': 0.02390376,\n",
      " 'Recall@5': 0.01720492}\n",
      "\td2v\n",
      "{'ERR': 0.11151365,\n",
      " 'MAP': 0.045154467,\n",
      " 'Precision@1': 0.07692308,\n",
      " 'Precision@10': 0.07115384,\n",
      " 'Precision@5': 0.06923077,\n",
      " 'Recall@1': 0.004122889,\n",
      " 'Recall@10': 0.05703634,\n",
      " 'Recall@5': 0.02732453}\n",
      "\n",
      "Reranked\n",
      "\tlsi\n",
      "{'ERR': 0.21929081,\n",
      " 'MAP': 0.1162895,\n",
      " 'Precision@1': 0.1923077,\n",
      " 'Precision@10': 0.17884615,\n",
      " 'Precision@5': 0.19230771,\n",
      " 'Recall@1': 0.033948842,\n",
      " 'Recall@10': 0.26302183,\n",
      " 'Recall@5': 0.15364788}\n",
      "\tlda\n",
      "{'ERR': 0.23516716,\n",
      " 'MAP': 0.13320234,\n",
      " 'Precision@1': 0.23076923,\n",
      " 'Precision@10': 0.20192307,\n",
      " 'Precision@5': 0.21153848,\n",
      " 'Recall@1': 0.032082304,\n",
      " 'Recall@10': 0.31373698,\n",
      " 'Recall@5': 0.18374398}\n",
      "\tw2v\n",
      "{'ERR': 0.14131764,\n",
      " 'MAP': 0.07848386,\n",
      " 'Precision@1': 0.07692308,\n",
      " 'Precision@10': 0.107692294,\n",
      " 'Precision@5': 0.10384615,\n",
      " 'Recall@1': 0.009489967,\n",
      " 'Recall@10': 0.18058665,\n",
      " 'Recall@5': 0.0826691}\n",
      "\tw2v_pretrained\n",
      "{'ERR': 0.16118278,\n",
      " 'MAP': 0.09908687,\n",
      " 'Precision@1': 0.09615385,\n",
      " 'Precision@10': 0.15,\n",
      " 'Precision@5': 0.14615384,\n",
      " 'Recall@1': 0.0070565995,\n",
      " 'Recall@10': 0.20512038,\n",
      " 'Recall@5': 0.10120458}\n",
      "\td2v\n",
      "{'ERR': 0.24705392,\n",
      " 'MAP': 0.12536933,\n",
      " 'Precision@1': 0.25,\n",
      " 'Precision@10': 0.17499998,\n",
      " 'Precision@5': 0.18076922,\n",
      " 'Recall@1': 0.040424272,\n",
      " 'Recall@10': 0.26751494,\n",
      " 'Recall@5': 0.14369616}\n"
     ]
    },
    {
     "data": {
      "image/png": "[encoded data removed]",
      "text/plain": [
       "<Figure size 1008x576 with 8 Axes>"
      ]
     },
     "metadata": {
      "needs_background": "light"
     },
     "output_type": "display_data"
    }
   ],
   "source": [
    "# # YOUR CODE HERE\n",
    "# takes roughly 10 mins to run\n",
    "fig, axes = plt.subplots(2, 4, figsize=(14, 8), sharey=True)\n",
    "axes = axes.flatten()\n",
    "\n",
    "# need this to make side by side bars\n",
    "N = len(list_of_sem_search_fns) // 2\n",
    "method_loc = np.arange(N)\n",
    "bar_width = 0.25\n",
    "\n",
    "vanilla_search_fns = list_of_sem_search_fns[:N]\n",
    "reranked_search_fns = list_of_sem_search_fns[N:]\n",
    "\n",
    "search_fns_map = {\"Vanilla\": vanilla_search_fns, \"Reranked\": reranked_search_fns}\n",
    "\n",
    "for j, mode in enumerate([\"Vanilla\", \"Reranked\"]):\n",
    "    results = {}\n",
    "    print(f\"\\n{mode}\")\n",
    "    \n",
    "    for search_alg, search_fn in search_fns_map[mode]:\n",
    "        # remove _rr from reranked algo's so that the labels match\n",
    "        search_alg = search_alg.replace(\"_rr\", \"\")\n",
    "        results[search_alg] = evaluate_search_fn(search_fn, list_of_metrics)\n",
    "        print(f\"\\t{search_alg}\")\n",
    "        pprint(results[search_alg])\n",
    "\n",
    "    for i, (metric_name, _metric_fn) in enumerate(list_of_metrics):\n",
    "        metric_results = {k: v[metric_name] for k, v in results.items()}\n",
    "\n",
    "        labels = list(metric_results.keys())\n",
    "        values = [metric_results[label] for label in labels]\n",
    "\n",
    "        axes[i].grid(True, which=\"major\", axis=\"y\", alpha=0.35)\n",
    "        if i % 4 == 0:\n",
    "            axes[i].set_ylabel(\"Average Metric Value\")\n",
    "        if j == 0:\n",
    "            axes[i].bar(method_loc, values, bar_width, label=f\"{mode}\")\n",
    "        else:\n",
    "            axes[i].bar(method_loc + bar_width, values, bar_width, label=f\"{mode}\")\n",
    "            axes[i].set_xticks(method_loc + bar_width / 2)\n",
    "            axes[i].set_xticklabels(labels, rotation=30, ha=\"right\")\n",
    "            axes[i].set_title(metric_name)\n",
    "            if i == 7:\n",
    "                axes[i].legend()\n",
    "\n",
    "\n",
    "fig.suptitle(\"Comparison of different Semantic IR algorithms across various Metrics\")\n",
    "fig.tight_layout(rect=[0, 0.03, 1, 0.95])\n",
    "plt.show()\n",
    "\n",
    "\n",
    "# #2nd Plot: Compare semantic search with reranking to models from part 1,\n",
    "# commented out as it is extra work: uncomment and rerun to see (will take time)\n",
    "\n",
    "# fig, axes = plt.subplots(2, 4, figsize=(14, 7), sharey=True)\n",
    "# axes = axes.flatten()\n",
    "\n",
    "# list_of_rerank_sem_search_fns = [\n",
    "#     (\"lsi_rr\", lsi_rerank.search),\n",
    "#     (\"lda_rr\", lda_rerank.search),\n",
    "#     (\"w2v_rr\", w2v_rerank.search),\n",
    "#     # (\"w2v_pretrained_rr\", w2v_pretrained_rerank.search),\n",
    "#     (\"d2v_rr\", d2v_rerank.search),\n",
    "# ]\n",
    "\n",
    "# N = len(list_of_rerank_sem_search_fns + list_of_search_fns)\n",
    "# method_loc = np.arange(N)\n",
    "\n",
    "# results = {}\n",
    "\n",
    "# for i, (search_alg, search_fn) in enumerate(reranked_search_fns + list_of_search_fns):\n",
    "#     if i >= len(list_of_rerank_sem_search_fns):\n",
    "#         results[search_alg] = evaluate_search_fn(\n",
    "#             search_fn, list_of_metrics, index_set=2\n",
    "#         )\n",
    "#     else:\n",
    "#         results[search_alg] = evaluate_search_fn(search_fn, list_of_metrics)\n",
    "\n",
    "# for i, (metric_name, _metric_fn) in enumerate(list_of_metrics):\n",
    "#     metric_results = {k: v[metric_name] for k, v in results.items()}\n",
    "\n",
    "#     labels = list(metric_results.keys())\n",
    "#     values = [metric_results[label] for label in labels]\n",
    "\n",
    "#     axes[i].grid(True, which=\"major\", axis=\"y\", alpha=0.35)\n",
    "#     if i % 4 == 0:\n",
    "#         axes[i].set_ylabel(\"Average Metric Value\")\n",
    "#     axes[i].bar(method_loc, values, bar_width)\n",
    "#     axes[i].set_xticks(method_loc)\n",
    "#     axes[i].set_xticklabels(labels, rotation=45)\n",
    "#     axes[i].set_title(metric_name)\n",
    "\n",
    "# fig.suptitle(\"Comparison between semantic and term-based ranking algorithms\")\n",
    "# fig.tight_layout(rect=[0, 0.03, 1, 0.95])\n",
    "# plt.show()"
   ]
  },
  {
   "cell_type": "markdown",
   "metadata": {
    "cell_id": "00165-821599fc-9264-4123-a542-2b0354dde4f7",
    "deepnote_cell_height": 145.1875,
    "deepnote_cell_type": "markdown",
    "deletable": false,
    "editable": false,
    "nbgrader": {
     "cell_type": "markdown",
     "checksum": "a8a3b6189bdde66704c694d85e38d049",
     "grade": false,
     "grade_id": "cell-deb2ef3daa306e82",
     "locked": true,
     "schema_version": 3,
     "solution": false,
     "task": false
    }
   },
   "source": [
    "### Section 10.2: Summary (20 points)\n",
    "\n",
    "Your summary should compare methods from Part 1 and Part 2 (only for index set 2). State what you expected to see in the results, followed by either supporting evidence *or* justify why the results did not support your expectations. Consider the availability of data, scalability, domain/type of data, etc."
   ]
  },
  {
   "cell_type": "markdown",
   "metadata": {
    "cell_id": "00166-930e721d-9166-4296-ad5c-4c4449f6c99e",
    "deepnote_cell_height": 52.390625,
    "deepnote_cell_type": "markdown",
    "deletable": false,
    "nbgrader": {
     "cell_type": "markdown",
     "checksum": "ff97c43837d10bff6aaffa75e1492887",
     "grade": true,
     "grade_id": "cell-ec5dd7d9cf59dd86",
     "locked": false,
     "points": 20,
     "schema_version": 3,
     "solution": true,
     "task": false
    }
   },
   "source": [
    "1. In general term-based models perform better than semantic ones. This is\n",
    "   somewhat surprising - we would expect that semantic models would be better at\n",
    "   capturing relevance without the need for relevant documents to contain the\n",
    "   exact tokens in the query.\n",
    "   - TODO why do semantic models perform worse?? ->some ideas:\n",
    "     1. pretrained models have been trained on a corpus from a different domain\n",
    "        therefore representations are not as good for current domain.\n",
    "     2. semantic models might be better for much larger corpus with more\n",
    "        documents where words occur more frequently in similar contexts.\n",
    "2. Reranking clearly works better. This might be due to the fact that we first\n",
    "   use term-based models and as discussed in 1. we know that term-based models\n",
    "   perform better in the first place.\n",
    "3. W2V performs very poorly - likely because the corpus is too small for\n",
    "   meaningful representations to be generated for words.\n",
    "4. LSI and LDA perform better than any of the word or document representation\n",
    "   models. Again could be because those methods use SVD for word representation\n",
    "   instead of learning based on data and should therefore be better for a\n",
    "   smaller corpus.\n",
    "\n",
    "## Notes Giulio\n",
    "\n",
    "- Maybe also add the even the pretrained w2v isn't that great, probably because\n",
    "  often words from our documents weren't found in the model, perhaps due to\n",
    "  different preprocessing pipelines or due to lack of finetuning on our end\n",
    "- ngl i dont know much about lda and lsi so hard for me to make other comments\n",
    "  here"
   ]
  }
 ],
 "metadata": {
  "deepnote": {},
  "deepnote_execution_queue": [],
  "deepnote_notebook_id": "13b77af2-2689-4e0d-949d-ce0f01912b71",
  "kernelspec": {
   "display_name": "Python 3",
   "language": "python",
   "name": "python3"
  },
  "language_info": {
   "codemirror_mode": {
    "name": "ipython",
    "version": 3
   },
   "file_extension": ".py",
   "mimetype": "text/x-python",
   "name": "python",
   "nbconvert_exporter": "python",
   "pygments_lexer": "ipython3",
   "version": "3.6.5"
  },
  "toc": {
   "base_numbering": 1,
   "nav_menu": {},
   "number_sections": true,
   "sideBar": true,
   "skip_h1_title": false,
   "title_cell": "Table of Contents",
   "title_sidebar": "Contents",
   "toc_cell": false,
   "toc_position": {},
   "toc_section_display": true,
   "toc_window_display": false
  },
  "toc-autonumbering": false
 },
 "nbformat": 4,
 "nbformat_minor": 4
}
