{
 "cells": [
  {
   "cell_type": "markdown",
   "metadata": {
    "cell_id": "2506602b-e699-4ea6-9aa5-4cb13cc4f3c0",
    "deepnote_cell_height": 824,
    "deepnote_cell_type": "markdown",
    "deletable": false,
    "editable": false,
    "nbgrader": {
     "cell_type": "markdown",
     "checksum": "1bba455de8bc2825ca70469169bbadaa",
     "grade": false,
     "grade_id": "cell-c9cd9e550239e812",
     "locked": true,
     "schema_version": 3,
     "solution": false,
     "task": false
    }
   },
   "source": [
    "# Homework 1 (Total Points: 250) <a class=\"anchor\" id=\"top\"></a>\n",
    "\n",
    "\n",
    "**Submission instructions**:\n",
    "- The cells with the `# YOUR CODE HERE` denote that these sections are graded and you need to add your implementation.\n",
    "- For Part 1: You can use the `nltk`, `NumPy`, and `matplotlib` libraries here. Other libraries, e.g., `gensim` or `scikit-learn`, may not be used. For Part 2: `gensim` is allowed in addition to the imported libraries in the next code cell\n",
    "- Please use Python 3.6.5 and `pip install -r requirements.txt` to avoid version issues.\n",
    "- The notebook you submit has to have the student ids, separated by underscores (E.g., `12341234_12341234_12341234_hw1.ipynb`).\n",
    "- This will be parsed by a regexp, **so please double check your filename**.\n",
    "- Only one member of each group has to submit the file (**please do not compress the .ipynb file when you will submit it**) to canvas.\n",
    "- **Make sure to check that your notebook runs before submission**. A quick way to do this is to restart the kernel and run all the cells.\n",
    "- Do not change the number of arugments in the given functions.\n",
    "- **Please do not delete/add new cells**. Removing cells **will** lead to grade deduction.\n",
    "- Note, that you are not allowed to use Google Colab.\n",
    "\n",
    "\n",
    "**Learning Goals**:\n",
    "- [Part 1, Term-based matching](#part1) (165 points):\n",
    "    - Learn how to load a dataset and process it.\n",
    "    - Learn how to implement several standard IR methods (TF-IDF, BM25, QL) and understand their weaknesses & strengths.\n",
    "    - Learn how to evaluate IR methods.\n",
    "- [Part 2, Semantic-based matching](#part2) (85 points):\n",
    "    - Learn how to implement vector-space retrieval methods (LSI, LDA).\n",
    "    - Learn how to use LSI and LDA for re-ranking.\n",
    "\n",
    "\n",
    "**Resources**:\n",
    "- **Part 1**: Sections 2.3, 4.1, 4.2, 4.3, 5.3, 5.6, 5.7, 6.2, 7, 8 of [Search Engines: Information Retrieval in Practice](https://ciir.cs.umass.edu/downloads/SEIRiP.pdf)\n",
    "- **Part 2**: [LSI - Chapter 18](https://nlp.stanford.edu/IR-book/pdf/18lsi.pdf) from [Introduction to Information Retrieval](https://nlp.stanford.edu/IR-book/) book and the [original LDA paper](https://jmlr.org/papers/volume3/blei03a/blei03a.pdf)"
   ]
  },
  {
   "cell_type": "code",
   "execution_count": 1,
   "metadata": {
    "cell_id": "00001-e743cc22-6da0-404e-8b14-8521799dfd06",
    "deepnote_cell_height": 477,
    "deepnote_cell_type": "code",
    "deepnote_to_be_reexecuted": false,
    "deletable": false,
    "editable": false,
    "execution_millis": 4063,
    "execution_start": 1645186524256,
    "nbgrader": {
     "cell_type": "code",
     "checksum": "c55bfe94ff1f564dd595547e516c4c6e",
     "grade": false,
     "grade_id": "cell-f5357fabdb9660e3",
     "locked": true,
     "schema_version": 3,
     "solution": false,
     "task": false
    },
    "source_hash": "33e174b2"
   },
   "outputs": [],
   "source": [
    "# imports\n",
    "# TODO: Ensure that no additional library is imported in the notebook.\n",
    "# TODO: Only the standard library and the following libraries are allowed:\n",
    "# TODO: You can also use unlisted classes from these libraries or standard libraries (such as defaultdict, Counter, ...).\n",
    "\n",
    "import os\n",
    "import zipfile\n",
    "from functools import partial\n",
    "\n",
    "import nltk\n",
    "import requests\n",
    "import numpy as np\n",
    "from tqdm import tqdm\n",
    "\n",
    "import matplotlib.pyplot as plt\n",
    "from matplotlib.pyplot import cm\n",
    "\n",
    "from ipywidgets import widgets\n",
    "from IPython.display import display, HTML\n",
    "\n",
    "# from IPython.html import widgets\n",
    "from collections import namedtuple\n",
    "\n",
    "%matplotlib inline"
   ]
  },
  {
   "cell_type": "markdown",
   "metadata": {
    "cell_id": "00002-8e715841-7edb-4d33-8595-6680b7d47ad7",
    "deepnote_cell_height": 412.390625,
    "deepnote_cell_type": "markdown",
    "deletable": false,
    "editable": false,
    "nbgrader": {
     "cell_type": "markdown",
     "checksum": "c8328f758ca5b69f76eee03dbbdd4715",
     "grade": false,
     "grade_id": "cell-7428e12ed184408b",
     "locked": true,
     "schema_version": 3,
     "solution": false,
     "task": false
    }
   },
   "source": [
    "\n",
    "# Part 1: Term-based Matching (165 points) <a class=\"anchor\" id=\"part1\"></a>\n",
    "\n",
    "[Back to top](#top)\n",
    "\n",
    "In the first part, we will learn the basics of IR from loading and preprocessing the material, to implementing some well known search algorithms, to evaluating the ranking performance of the implemented algorithms. We will be using the CACM dataset throughout the assignment. The CACM dataset is a collection of titles and abstracts from the journal CACM (Communication of the ACM).\n",
    "\n",
    "Table of contents:\n",
    "- [Section 1: Text Processing](#text_processing) (5 points)\n",
    "- [Section 2: Indexing](#indexing) (10 points)\n",
    "- [Section 3: Ranking](#ranking) (80 points)\n",
    "- [Section 4: Evaluation](#evaluation) (40 points)\n",
    "- [Section 5: Analysis](#analysis) (30 points)\n"
   ]
  },
  {
   "cell_type": "markdown",
   "metadata": {
    "cell_id": "00003-584ac16f-6a3d-441f-a49b-132e6d063b8d",
    "deepnote_cell_height": 412.390625,
    "deepnote_cell_type": "markdown",
    "deletable": false,
    "editable": false,
    "nbgrader": {
     "cell_type": "markdown",
     "checksum": "4e3f938065183dc743aa8254b96b4f5e",
     "grade": false,
     "grade_id": "cell-4b24825cf4ae55ec",
     "locked": true,
     "schema_version": 3,
     "solution": false,
     "task": false
    }
   },
   "source": [
    "---\n",
    "## Section 1: Text Processing (5 points)<a class=\"anchor\" id=\"text_processing\"></a>\n",
    "\n",
    "[Back to Part 1](#part1)\n",
    "\n",
    "In this section, we will load the dataset and learn how to clean up the data to make it usable for an IR system.\n",
    "First, go through the implementation of the following functions:\n",
    "- `read_cacm_docs`: Reads in the CACM documents.\n",
    "- `read_queries`: Reads in the CACM queries.\n",
    "- `load_stopwords`: Loads the stopwords.\n",
    "\n",
    "The points of this section are earned for the following implementations:\n",
    "- `tokenize` (3 points): Tokenizes the input text.\n",
    "- `stem_token` (2 points): Stems the given token.\n",
    "\n",
    "We are using the [CACM dataset](http://ir.dcs.gla.ac.uk/resources/test_collections/cacm/), which is a small, classic IR dataset, composed of a collection of titles and abstracts from the journal CACM. It comes with relevance judgements for queries, so we can evaluate our IR system.\n"
   ]
  },
  {
   "cell_type": "markdown",
   "metadata": {
    "cell_id": "00004-f5f9096a-743b-4587-85d1-fc5628227046",
    "deepnote_cell_height": 109,
    "deepnote_cell_type": "markdown",
    "deletable": false,
    "editable": false,
    "nbgrader": {
     "cell_type": "markdown",
     "checksum": "0155d897c7016389d73d160921947a6f",
     "grade": false,
     "grade_id": "cell-45651364e7af6d5a",
     "locked": true,
     "schema_version": 3,
     "solution": false,
     "task": false
    }
   },
   "source": [
    "---\n",
    "### 1.1 Read the CACM documents\n",
    "\n",
    "\n",
    "The following cell downloads the dataset and unzips it to a local directory."
   ]
  },
  {
   "cell_type": "code",
   "execution_count": 2,
   "metadata": {
    "cell_id": "00005-2240a6e7-e312-4d7a-842b-04b160e1f27e",
    "deepnote_cell_height": 549,
    "deepnote_cell_type": "code",
    "deepnote_to_be_reexecuted": false,
    "deletable": false,
    "editable": false,
    "execution_millis": 161,
    "execution_start": 1645186528335,
    "nbgrader": {
     "cell_type": "code",
     "checksum": "4d43c9ad6e77cc01ce4cef0c34824930",
     "grade": false,
     "grade_id": "cell-bbc3030bb3fe7e02",
     "locked": true,
     "schema_version": 3,
     "solution": false,
     "task": false
    },
    "source_hash": "2753ab21"
   },
   "outputs": [],
   "source": [
    "def download_dataset():\n",
    "    folder_path = os.environ.get(\"IR1_DATA_PATH\")\n",
    "    if not folder_path:\n",
    "        folder_path = \"./datasets/\"\n",
    "    os.makedirs(folder_path, exist_ok=True)\n",
    "\n",
    "    file_location = os.path.join(folder_path, \"cacm.zip\")\n",
    "\n",
    "    # download file if it doesn't exist\n",
    "    if not os.path.exists(file_location):\n",
    "\n",
    "        url = \"https://surfdrive.surf.nl/files/index.php/s/M0FGJpX2p8wDwxR/download\"\n",
    "\n",
    "        with open(file_location, \"wb\") as handle:\n",
    "            print(f\"Downloading file from {url} to {file_location}\")\n",
    "            response = requests.get(url, stream=True)\n",
    "            for data in tqdm(response.iter_content()):\n",
    "                handle.write(data)\n",
    "            print(\"Finished downloading file\")\n",
    "\n",
    "    if not os.path.exists(os.path.join(folder_path, \"train.txt\")):\n",
    "\n",
    "        # unzip file\n",
    "        with zipfile.ZipFile(file_location, \"r\") as zip_ref:\n",
    "            zip_ref.extractall(folder_path)\n",
    "\n",
    "\n",
    "download_dataset()"
   ]
  },
  {
   "cell_type": "markdown",
   "metadata": {
    "cell_id": "00006-c429df2f-f87d-4f2b-9acd-506a563a27ba",
    "deepnote_cell_height": 73,
    "deepnote_cell_type": "markdown",
    "deletable": false,
    "editable": false,
    "nbgrader": {
     "cell_type": "markdown",
     "checksum": "31609b0d61d0c74cbd69bc43e47c23be",
     "grade": false,
     "grade_id": "cell-a7dd9a9bf98ede05",
     "locked": true,
     "schema_version": 3,
     "solution": false,
     "task": false
    }
   },
   "source": [
    "---\n",
    "\n",
    "You can see a brief description of each file in the dataset by looking at the README file:"
   ]
  },
  {
   "cell_type": "code",
   "execution_count": 3,
   "metadata": {
    "cell_id": "00007-95c07c75-3366-4db7-b32e-1d9903085e53",
    "deepnote_cell_height": 487,
    "deepnote_cell_type": "code",
    "deepnote_to_be_reexecuted": false,
    "deletable": false,
    "editable": false,
    "execution_millis": 27,
    "execution_start": 1645186528514,
    "nbgrader": {
     "cell_type": "code",
     "checksum": "cb3c9a2b8b2bf4fd5b7446b0c4c00f43",
     "grade": false,
     "grade_id": "cell-9b6ff1a17124711f",
     "locked": true,
     "schema_version": 3,
     "solution": false,
     "task": false
    },
    "source_hash": "4c0f03ad"
   },
   "outputs": [
    {
     "name": "stdout",
     "output_type": "stream",
     "text": [
      "Files in this directory with sizes:\n",
      "          0 Jun 19 21:01 README\n",
      "\n",
      "    2187734 Jun 19 20:55 cacm.all              text of documents\n",
      "        626 Jun 19 20:58 cite.info             key to citation info\n",
      "                                                (the X sections in cacm.all)\n",
      "       2668 Jun 19 20:55 common_words           stop words used by smart\n",
      "       2194 Jun 19 20:55 make_coll*             shell script to make collection\n",
      "       1557 Jun 19 20:55 make_coll_term*        ditto (both useless without\n",
      "                                                smart system)\n",
      "       9948 Jun 19 20:55 qrels.text             relation giving\n",
      "                                                    qid did 0 0\n",
      "                                                to indicate dument did is\n",
      "                                                relevant to query qid\n",
      "      13689 Jun 19 20:55 query.text             Original text of the query\n",
      "\n"
     ]
    }
   ],
   "source": [
    "##### Read the README file\n",
    "with open(\"./datasets/README\", \"r\") as file:\n",
    "    readme = file.read()\n",
    "    print(readme)\n",
    "#####"
   ]
  },
  {
   "cell_type": "markdown",
   "metadata": {
    "cell_id": "00008-c7944957-2e0e-4d0f-be8e-5b5b0a07c4e0",
    "deepnote_cell_height": 180,
    "deepnote_cell_type": "markdown",
    "deletable": false,
    "editable": false,
    "nbgrader": {
     "cell_type": "markdown",
     "checksum": "6e2712c4c4632bf7486a532f7f18074d",
     "grade": false,
     "grade_id": "cell-73351431869fda76",
     "locked": true,
     "schema_version": 3,
     "solution": false,
     "task": false
    }
   },
   "source": [
    "---\n",
    "We are interested in 4 files:\n",
    "- `cacm.all` : Contains the text for all documents. Note that some documents do not have abstracts available\n",
    "- `query.text` : The text of all queries\n",
    "- `qrels.text` : The relevance judgements\n",
    "- `common_words` : A list of common words. This may be used as a collection of stopwords"
   ]
  },
  {
   "cell_type": "code",
   "execution_count": 4,
   "metadata": {
    "cell_id": "00009-e25d351e-8873-4762-a7b4-b03b83e9e5bb",
    "deepnote_cell_height": 845,
    "deepnote_cell_type": "code",
    "deepnote_to_be_reexecuted": false,
    "deletable": false,
    "editable": false,
    "execution_millis": 26,
    "execution_start": 1645186528538,
    "nbgrader": {
     "cell_type": "code",
     "checksum": "f1162c15177eb4ffe466531d03cff4a2",
     "grade": false,
     "grade_id": "cell-b44dd14079f278ca",
     "locked": true,
     "schema_version": 3,
     "solution": false,
     "task": false
    },
    "source_hash": "febb8f7d"
   },
   "outputs": [
    {
     "name": "stdout",
     "output_type": "stream",
     "text": [
      ".I 1\n",
      ".T\n",
      "Preliminary Report-International Algebraic Language\n",
      ".B\n",
      "CACM December, 1958\n",
      ".A\n",
      "Perlis, A. J.\n",
      "Samelson,K.\n",
      ".N\n",
      "CA581203 JB March 22, 1978  8:28 PM\n",
      ".X\n",
      "100\t5\t1\n",
      "123\t5\t1\n",
      "164\t5\t1\n",
      "1\t5\t1\n",
      "1\t5\t1\n",
      "1\t5\t1\n",
      "205\t5\t1\n",
      "210\t5\t1\n",
      "214\t5\t1\n",
      "1982\t5\t1\n",
      "398\t5\t1\n",
      "642\t5\t1\n",
      "669\t5\t1\n",
      "1\t6\t1\n",
      "1\t6\t1\n",
      "1\t6\t1\n",
      "1\t6\t1\n",
      "1\t6\t1\n",
      "1\t6\t1\n",
      "1\t6\t1\n",
      "1\t6\t1\n",
      "1\t6\t1\n",
      "1\t6\t1\n",
      "165\t6\t1\n",
      "196\t6\t1\n",
      "196\t6\t1\n",
      "1273\t6\t1\n",
      "1883\t6\t1\n",
      "324\t6\t1\n",
      "43\t6\t1\n",
      "53\t6\t1\n",
      "91\t6\t1\n",
      "410\t6\t1\n",
      "3184\t6\t1\n",
      "\n"
     ]
    }
   ],
   "source": [
    "##### The first 45 lines of the CACM dataset forms the first record\n",
    "# We are interested only in 3 fields.\n",
    "# 1. the '.I' field, which is the document id\n",
    "# 2. the '.T' field (the title) and\n",
    "# 3. the '.W' field (the abstract, which may be absent)\n",
    "with open(\"./datasets/cacm.all\", \"r\") as file:\n",
    "    cacm_all = \"\".join(file.readlines()[:45])\n",
    "    print(cacm_all)\n",
    "#####"
   ]
  },
  {
   "cell_type": "markdown",
   "metadata": {
    "cell_id": "00010-d7f469bf-422b-4c8f-b6c8-a7fd61a967cb",
    "deepnote_cell_height": 75.796875,
    "deepnote_cell_type": "markdown",
    "deletable": false,
    "editable": false,
    "nbgrader": {
     "cell_type": "markdown",
     "checksum": "250b413baccd8efb186bb46a34ae0060",
     "grade": false,
     "grade_id": "cell-c4bf2e263ec553d8",
     "locked": true,
     "schema_version": 3,
     "solution": false,
     "task": false
    }
   },
   "source": [
    "---\n",
    "\n",
    "The following function reads the `cacm.all` file. Note that each document has a variable number of lines. The `.I` field denotes a new document:"
   ]
  },
  {
   "cell_type": "code",
   "execution_count": 5,
   "metadata": {
    "cell_id": "00011-d8ec70b0-a73d-4fdc-a8a5-9f3fb8f3ba22",
    "deepnote_cell_height": 1017,
    "deepnote_cell_type": "code",
    "deepnote_to_be_reexecuted": false,
    "deletable": false,
    "editable": false,
    "execution_millis": 0,
    "execution_start": 1645186528613,
    "nbgrader": {
     "cell_type": "code",
     "checksum": "57d757e6a7a6938740dc899022b4f291",
     "grade": false,
     "grade_id": "cell-b736116eb419c624",
     "locked": true,
     "schema_version": 3,
     "solution": false,
     "task": false
    },
    "source_hash": "fa1cfb4d"
   },
   "outputs": [],
   "source": [
    "def read_cacm_docs(root_folder=\"./datasets/\"):\n",
    "    \"\"\"\n",
    "    Reads in the CACM documents. The dataset is assumed to be in the folder \"./datasets/\" by default\n",
    "    Returns: A list of 2-tuples: (doc_id, document), where 'document' is a single string created by\n",
    "        appending the title and abstract (separated by a \"\\n\").\n",
    "        In case the record doesn't have an abstract, the document is composed only by the title\n",
    "    \"\"\"\n",
    "    with open(os.path.join(root_folder, \"cacm.all\")) as reader:\n",
    "        lines = reader.readlines()\n",
    "\n",
    "    doc_id, title, abstract = None, None, None\n",
    "\n",
    "    docs = []\n",
    "    line_idx = 0\n",
    "    while line_idx < len(lines):\n",
    "        line = lines[line_idx]\n",
    "        if line.startswith(\".I\"):\n",
    "            if doc_id is not None:\n",
    "                docs.append((doc_id, title, abstract))\n",
    "                doc_id, title, abstract = None, None, None\n",
    "\n",
    "            doc_id = line.split()[-1]\n",
    "            line_idx += 1\n",
    "        elif line.startswith(\".T\"):\n",
    "            # start at next line\n",
    "            line_idx += 1\n",
    "            temp_lines = []\n",
    "            # read till next '.'\n",
    "            while not lines[line_idx].startswith(\".\"):\n",
    "                temp_lines.append(lines[line_idx].strip(\"\\n\"))\n",
    "                line_idx += 1\n",
    "            title = \"\\n\".join(temp_lines).strip(\"\\n\")\n",
    "        elif line.startswith(\".W\"):\n",
    "            # start at next line\n",
    "            line_idx += 1\n",
    "            temp_lines = []\n",
    "            # read till next '.'\n",
    "            while not lines[line_idx].startswith(\".\"):\n",
    "                temp_lines.append(lines[line_idx].strip(\"\\n\"))\n",
    "                line_idx += 1\n",
    "            abstract = \"\\n\".join(temp_lines).strip(\"\\n\")\n",
    "        else:\n",
    "            line_idx += 1\n",
    "\n",
    "    docs.append((doc_id, title, abstract))\n",
    "\n",
    "    p_docs = []\n",
    "    for (did, t, a) in docs:\n",
    "        if a is None:\n",
    "            a = \"\"\n",
    "        p_docs.append((did, t + \"\\n\" + a))\n",
    "    return p_docs"
   ]
  },
  {
   "cell_type": "code",
   "execution_count": 6,
   "metadata": {
    "cell_id": "00012-13ff3a4b-46f3-4ca8-bc11-8b0c7a9e7c37",
    "deepnote_cell_height": 243,
    "deepnote_cell_type": "code",
    "deepnote_to_be_reexecuted": false,
    "deletable": false,
    "editable": false,
    "execution_millis": 278,
    "execution_start": 1645186528614,
    "nbgrader": {
     "cell_type": "code",
     "checksum": "2f81930fcd89670b6e20e2255e1f2369",
     "grade": false,
     "grade_id": "cell-a1c43818e0d3fd79",
     "locked": true,
     "schema_version": 3,
     "solution": false,
     "task": false
    },
    "source_hash": "2097c72a"
   },
   "outputs": [],
   "source": [
    "##### Function check\n",
    "docs = read_cacm_docs()\n",
    "\n",
    "assert isinstance(docs, list)\n",
    "assert len(docs) == 3204, \"There should be exactly 3204 documents\"\n",
    "\n",
    "unzipped_docs = list(zip(*docs))\n",
    "assert np.sum(np.array(list(map(int, unzipped_docs[0])))) == 5134410\n",
    "\n",
    "#####"
   ]
  },
  {
   "cell_type": "markdown",
   "metadata": {
    "cell_id": "00013-1ff4fce0-2fe6-4b49-b16d-b5c203b29a47",
    "deepnote_cell_height": 102,
    "deepnote_cell_type": "markdown",
    "deletable": false,
    "editable": false,
    "nbgrader": {
     "cell_type": "markdown",
     "checksum": "25fd3cfaf2137c56002b850699b3c9d3",
     "grade": false,
     "grade_id": "cell-5ed2ddc91f73c60e",
     "locked": true,
     "schema_version": 3,
     "solution": false,
     "task": false
    }
   },
   "source": [
    "---\n",
    "### 1.2 Read the CACM queries\n",
    "\n",
    "Next, let us read the queries. They are formatted similarly:"
   ]
  },
  {
   "cell_type": "code",
   "execution_count": 7,
   "metadata": {
    "cell_id": "00014-0bdc1ebf-91a6-4e65-8ced-22256899c96d",
    "deepnote_cell_height": 484.8125,
    "deepnote_cell_type": "code",
    "deepnote_to_be_reexecuted": false,
    "deletable": false,
    "editable": false,
    "execution_millis": 705,
    "execution_start": 1645186528932,
    "nbgrader": {
     "cell_type": "code",
     "checksum": "5d26c0908e758acb9968b84056b1060a",
     "grade": false,
     "grade_id": "cell-5c7e8e7c4fc2757f",
     "locked": true,
     "schema_version": 3,
     "solution": false,
     "task": false
    },
    "source_hash": "77367602"
   },
   "outputs": [
    {
     "name": "stdout",
     "output_type": "stream",
     "text": [
      ".I 1\n",
      ".W\n",
      " What articles exist which deal with TSS (Time Sharing System), an\n",
      "operating system for IBM computers?\n",
      ".N\n",
      " 1. Richard Alexander, Comp Serv, Langmuir Lab (TSS)\n",
      " \n",
      ".I 2\n",
      ".W\n",
      " I am interested in articles written either by Prieve or Udo Pooch\n",
      ".A\n",
      "Prieve, B.\n",
      "Pooch, U.\n",
      ".N\n",
      " 2. Richard Alexander, Comp Serv, Langmuir Lab (author = Pooch or Prieve)\n"
     ]
    }
   ],
   "source": [
    "##### The first 15 lines of 'query.text' has 2 queries\n",
    "# We are interested only in 2 fields.\n",
    "# 1. the '.I' - the query id\n",
    "# 2. the '.W' - the query\n",
    "!head -15 ./datasets/query.text\n",
    "#####"
   ]
  },
  {
   "cell_type": "markdown",
   "metadata": {
    "cell_id": "00015-eceaa8fc-26fc-4d4d-b03e-7eb44f7e89f3",
    "deepnote_cell_height": 73,
    "deepnote_cell_type": "markdown",
    "deletable": false,
    "editable": false,
    "nbgrader": {
     "cell_type": "markdown",
     "checksum": "8f19f311a660f30e3f86cb0f7037d54a",
     "grade": false,
     "grade_id": "cell-88e293507d2dcef6",
     "locked": true,
     "schema_version": 3,
     "solution": false,
     "task": false
    }
   },
   "source": [
    "---\n",
    "\n",
    "The following function reads the `query.text` file:"
   ]
  },
  {
   "cell_type": "code",
   "execution_count": 8,
   "metadata": {
    "cell_id": "00016-2445d62c-60c0-4d48-a540-37dbb0d76726",
    "deepnote_cell_height": 711,
    "deepnote_cell_type": "code",
    "deepnote_to_be_reexecuted": false,
    "deletable": false,
    "editable": false,
    "execution_millis": 26,
    "execution_start": 1645186529390,
    "nbgrader": {
     "cell_type": "code",
     "checksum": "e3fbb193211007672849487f5cff1664",
     "grade": false,
     "grade_id": "cell-433e3ad5d0e2572a",
     "locked": true,
     "schema_version": 3,
     "solution": false,
     "task": false
    },
    "source_hash": "2d5784f8"
   },
   "outputs": [],
   "source": [
    "def read_queries(root_folder=\"./datasets/\"):\n",
    "    \"\"\"\n",
    "    Reads in the CACM queries. The dataset is assumed to be in the folder \"./datasets/\" by default\n",
    "    Returns: A list of 2-tuples: (query_id, query)\n",
    "    \"\"\"\n",
    "    with open(os.path.join(root_folder, \"query.text\")) as reader:\n",
    "        lines = reader.readlines()\n",
    "\n",
    "    query_id, query = None, None\n",
    "\n",
    "    queries = []\n",
    "    line_idx = 0\n",
    "    while line_idx < len(lines):\n",
    "        line = lines[line_idx]\n",
    "        if line.startswith(\".I\"):\n",
    "            if query_id is not None:\n",
    "                queries.append((query_id, query))\n",
    "                query_id, query = None, None\n",
    "\n",
    "            query_id = line.split()[-1]\n",
    "            line_idx += 1\n",
    "        elif line.startswith(\".W\"):\n",
    "            # start at next line\n",
    "            line_idx += 1\n",
    "            temp_lines = []\n",
    "            # read till next '.'\n",
    "            while not lines[line_idx].startswith(\".\"):\n",
    "                temp_lines.append(lines[line_idx].strip(\"\\n\"))\n",
    "                line_idx += 1\n",
    "            query = \"\\n\".join(temp_lines).strip(\"\\n\")\n",
    "        else:\n",
    "            line_idx += 1\n",
    "\n",
    "    queries.append((query_id, query))\n",
    "    return queries"
   ]
  },
  {
   "cell_type": "code",
   "execution_count": 9,
   "metadata": {
    "cell_id": "00017-dc95abe6-036f-4502-89fe-db249a8bbfc4",
    "deepnote_cell_height": 243,
    "deepnote_cell_type": "code",
    "deepnote_to_be_reexecuted": false,
    "deletable": false,
    "editable": false,
    "execution_millis": 12,
    "execution_start": 1645186529424,
    "nbgrader": {
     "cell_type": "code",
     "checksum": "a897b9771b54f447be3418d7246fc4a0",
     "grade": false,
     "grade_id": "cell-6ec540abce66c598",
     "locked": true,
     "schema_version": 3,
     "solution": false,
     "task": false
    },
    "source_hash": "1e048f3c"
   },
   "outputs": [],
   "source": [
    "##### Function check\n",
    "queries = read_queries()\n",
    "\n",
    "assert isinstance(queries, list)\n",
    "assert len(queries) == 64 and all(\n",
    "    [q[1] is not None for q in queries]\n",
    "), \"There should be exactly 64 queries\"\n",
    "\n",
    "unzipped_queries = list(zip(*queries))\n",
    "assert np.sum(np.array(list(map(int, unzipped_queries[0])))) == 2080\n",
    "\n",
    "#####"
   ]
  },
  {
   "cell_type": "markdown",
   "metadata": {
    "cell_id": "00018-9cf3ea3e-f138-4fe8-b91b-c92620441832",
    "deepnote_cell_height": 101.390625,
    "deepnote_cell_type": "markdown",
    "deletable": false,
    "editable": false,
    "nbgrader": {
     "cell_type": "markdown",
     "checksum": "a300c41912ac63b239070b4c15c9f5c5",
     "grade": false,
     "grade_id": "cell-1c31569491d7b782",
     "locked": true,
     "schema_version": 3,
     "solution": false,
     "task": false
    }
   },
   "source": [
    "---\n",
    "### 1.3 Read the stop words\n",
    "\n",
    "We use the common words stored in `common_words`:"
   ]
  },
  {
   "cell_type": "code",
   "execution_count": 10,
   "metadata": {
    "cell_id": "00019-4761ff11-d8b4-4f7b-acbf-6d600cfb2ae6",
    "deepnote_cell_height": 329.875,
    "deepnote_cell_type": "code",
    "deepnote_to_be_reexecuted": false,
    "deletable": false,
    "editable": false,
    "execution_millis": 507,
    "execution_start": 1645186529451,
    "nbgrader": {
     "cell_type": "code",
     "checksum": "1ad6f5bae6a792504c1c8513ae5751ad",
     "grade": false,
     "grade_id": "cell-34bdb63461418a96",
     "locked": true,
     "schema_version": 3,
     "solution": false,
     "task": false
    },
    "source_hash": "dcdd806"
   },
   "outputs": [
    {
     "name": "stdout",
     "output_type": "stream",
     "text": [
      "a\n",
      "about\n",
      "above\n",
      "accordingly\n",
      "across\n",
      "after\n",
      "afterwards\n",
      "again\n",
      "against\n",
      "all\n"
     ]
    }
   ],
   "source": [
    "##### Read the stop words file\n",
    "!head ./datasets/common_words\n",
    "##### Read the README file"
   ]
  },
  {
   "cell_type": "markdown",
   "metadata": {
    "cell_id": "00020-069760f9-d798-4ad6-acfa-e7454a3c3a46",
    "deepnote_cell_height": 73,
    "deepnote_cell_type": "markdown",
    "deletable": false,
    "editable": false,
    "nbgrader": {
     "cell_type": "markdown",
     "checksum": "6d0fe612e770213b6397c2179b07a966",
     "grade": false,
     "grade_id": "cell-4744bde0338895d8",
     "locked": true,
     "schema_version": 3,
     "solution": false,
     "task": false
    }
   },
   "source": [
    "---\n",
    "\n",
    "The following function reads the `common_words` file (For better coverage, we try to keep them in lowercase):"
   ]
  },
  {
   "cell_type": "code",
   "execution_count": 11,
   "metadata": {
    "cell_id": "00021-51bc2922-72bf-4550-a4fb-c1867fa0e652",
    "deepnote_cell_height": 243,
    "deepnote_cell_type": "code",
    "deepnote_to_be_reexecuted": false,
    "deletable": false,
    "editable": false,
    "execution_millis": 9,
    "execution_start": 1645186529974,
    "nbgrader": {
     "cell_type": "code",
     "checksum": "9409713fd26eb0c33587e190638997c4",
     "grade": false,
     "grade_id": "cell-7357aa40f64e5bcb",
     "locked": true,
     "schema_version": 3,
     "solution": false,
     "task": false
    },
    "source_hash": "51ba1eb9"
   },
   "outputs": [],
   "source": [
    "def load_stopwords(root_folder=\"./datasets/\"):\n",
    "    \"\"\"\n",
    "    Loads the stopwords. The dataset is assumed to be in the folder \"./datasets/\" by default\n",
    "    Output: A set of stopwords\n",
    "    \"\"\"\n",
    "    with open(os.path.join(root_folder, \"common_words\")) as reader:\n",
    "        lines = reader.readlines()\n",
    "    stopwords = set([l.strip().lower() for l in lines])\n",
    "    return stopwords"
   ]
  },
  {
   "cell_type": "code",
   "execution_count": 12,
   "metadata": {
    "cell_id": "00022-dda7ebba-cd50-496a-94a3-6c8873e6ba02",
    "deepnote_cell_height": 243,
    "deepnote_cell_type": "code",
    "deepnote_to_be_reexecuted": false,
    "deletable": false,
    "editable": false,
    "execution_millis": 13,
    "execution_start": 1645186529993,
    "lines_to_next_cell": 2,
    "nbgrader": {
     "cell_type": "code",
     "checksum": "f1c8153c3c38133bc2db6e7b076ad470",
     "grade": false,
     "grade_id": "cell-2ca3ac162004de97",
     "locked": true,
     "schema_version": 3,
     "solution": false,
     "task": false
    },
    "source_hash": "9447931d"
   },
   "outputs": [],
   "source": [
    "##### Function check\n",
    "stopwords = load_stopwords()\n",
    "\n",
    "assert isinstance(stopwords, set)\n",
    "assert len(stopwords) == 428, \"There should be exactly 428 stop words\"\n",
    "\n",
    "assert np.sum(np.array(list(map(len, stopwords)))) == 2234\n",
    "\n",
    "#####"
   ]
  },
  {
   "cell_type": "markdown",
   "metadata": {
    "cell_id": "00023-02a21236-0c4b-4910-9573-63f1698beaf3",
    "deepnote_cell_height": 145,
    "deepnote_cell_type": "markdown",
    "deletable": false,
    "editable": false,
    "nbgrader": {
     "cell_type": "markdown",
     "checksum": "92c1191e9e7291dcf0d70dc67b907a65",
     "grade": false,
     "grade_id": "cell-134b72872f4300cb",
     "locked": true,
     "schema_version": 3,
     "solution": false,
     "task": false
    }
   },
   "source": [
    "---\n",
    "### 1.4 Tokenization (3 points)\n",
    "\n",
    "We can now write some basic text processing functions.\n",
    "A first step is to tokenize the text.\n",
    "\n",
    "**Note**: Use the  `WordPunctTokenizer` available in the `nltk` library:"
   ]
  },
  {
   "cell_type": "code",
   "execution_count": 13,
   "metadata": {
    "cell_id": "00024-20a3377b-ad24-430a-82d5-e091938ed1fd",
    "deepnote_cell_height": 261,
    "deepnote_cell_type": "code",
    "deepnote_to_be_reexecuted": false,
    "deletable": false,
    "execution_millis": 11,
    "execution_start": 1645186530014,
    "nbgrader": {
     "cell_type": "code",
     "checksum": "3f5564d3c75bf22fbf832b3a9b938f37",
     "grade": false,
     "grade_id": "cell-322be4c9499bdc4b",
     "locked": false,
     "schema_version": 3,
     "solution": true,
     "task": false
    },
    "source_hash": "bd78cb4e"
   },
   "outputs": [],
   "source": [
    "# TODO: Implement this! (4 points)\n",
    "def tokenize(text):\n",
    "    \"\"\"\n",
    "    Tokenizes the input text. Use the WordPunctTokenizer\n",
    "    Input: text - a string\n",
    "    Output: a list of tokens\n",
    "    \"\"\"\n",
    "    # YOUR CODE HERE\n",
    "\n",
    "    tk = nltk.WordPunctTokenizer()\n",
    "    return tk.tokenize(text)"
   ]
  },
  {
   "cell_type": "code",
   "execution_count": 14,
   "metadata": {
    "cell_id": "00025-0c49633e-d8dd-4c28-ac8d-9576e19b544d",
    "deepnote_cell_height": 274.1875,
    "deepnote_cell_type": "code",
    "deepnote_to_be_reexecuted": false,
    "deletable": false,
    "editable": false,
    "execution_millis": 54,
    "execution_start": 1645186530041,
    "nbgrader": {
     "cell_type": "code",
     "checksum": "e15af22c4d8ae0a3f9dac43bef7097ec",
     "grade": true,
     "grade_id": "cell-7fbf48bf7541a622",
     "locked": true,
     "points": 3,
     "schema_version": 3,
     "solution": false,
     "task": false
    },
    "source_hash": "f61c33ef"
   },
   "outputs": [
    {
     "name": "stdout",
     "output_type": "stream",
     "text": [
      "['the', 'quick', 'brown', 'fox', 'jumps', 'over', 'the', 'lazy', 'dog']\n"
     ]
    }
   ],
   "source": [
    "##### Function check\n",
    "text = \"the quick brown fox jumps over the lazy dog\"\n",
    "tokens = tokenize(text)\n",
    "\n",
    "assert isinstance(tokens, list)\n",
    "assert len(tokens) == 9\n",
    "\n",
    "print(tokens)\n",
    "# output: ['the', 'quick', 'brown', 'fox', 'jumps', 'over', 'the', 'lazy', 'dog']\n",
    "#####"
   ]
  },
  {
   "cell_type": "markdown",
   "metadata": {
    "cell_id": "00026-a6caa299-880e-4184-b7bd-5732cfcf3e9c",
    "deepnote_cell_height": 109,
    "deepnote_cell_type": "markdown",
    "deletable": false,
    "editable": false,
    "nbgrader": {
     "cell_type": "markdown",
     "checksum": "34210618bff4cb47aad2f03cb4b9854c",
     "grade": false,
     "grade_id": "cell-fd1b98ae61b697ca",
     "locked": true,
     "schema_version": 3,
     "solution": false,
     "task": false
    }
   },
   "source": [
    "---\n",
    "### 1.5 Stemming (2 points)\n",
    "\n",
    "Write a function to stem tokens.\n",
    "Again, you can use the nltk library for this:"
   ]
  },
  {
   "cell_type": "code",
   "execution_count": 15,
   "metadata": {
    "cell_id": "00027-57678786-6fcf-4e83-b285-1e3a44cb6ecb",
    "deepnote_cell_height": 225,
    "deepnote_cell_type": "code",
    "deepnote_to_be_reexecuted": false,
    "deletable": false,
    "execution_millis": 0,
    "execution_start": 1645186530093,
    "nbgrader": {
     "cell_type": "code",
     "checksum": "1c4a6aa979d66158c7b6b992af43293a",
     "grade": false,
     "grade_id": "cell-e3f6c8e3f874b28d",
     "locked": false,
     "schema_version": 3,
     "solution": true,
     "task": false
    },
    "source_hash": "e2a034fd"
   },
   "outputs": [],
   "source": [
    "# TODO: Implement this! (3 points)\n",
    "def stem_token(token):\n",
    "    \"\"\"\n",
    "    Stems the given token using the PorterStemmer from the nltk library\n",
    "    Input: a single token\n",
    "    Output: the stem of the token\n",
    "    \"\"\"\n",
    "    stemmer = nltk.stem.PorterStemmer()\n",
    "    return stemmer.stem(token)"
   ]
  },
  {
   "cell_type": "code",
   "execution_count": 16,
   "metadata": {
    "cell_id": "00028-4d95bdd0-4345-4198-aa73-21d2d2ec2b85",
    "deepnote_cell_height": 153,
    "deepnote_cell_type": "code",
    "deepnote_to_be_reexecuted": false,
    "deletable": false,
    "editable": false,
    "execution_millis": 0,
    "execution_start": 1645186530094,
    "nbgrader": {
     "cell_type": "code",
     "checksum": "9363b4f09b556d424d9c895d4ab57b1c",
     "grade": true,
     "grade_id": "cell-cd6863e6ee6ed205",
     "locked": true,
     "points": 2,
     "schema_version": 3,
     "solution": false,
     "task": false
    },
    "source_hash": "3fc993b6"
   },
   "outputs": [],
   "source": [
    "##### Function check\n",
    "\n",
    "assert stem_token(\"owned\") == \"own\"\n",
    "assert stem_token(\"itemization\") == \"item\"\n",
    "#####"
   ]
  },
  {
   "cell_type": "markdown",
   "metadata": {
    "cell_id": "00029-e536d93c-8362-48e7-bfc2-906702746aef",
    "deepnote_cell_height": 123.796875,
    "deepnote_cell_type": "markdown",
    "deletable": false,
    "editable": false,
    "nbgrader": {
     "cell_type": "markdown",
     "checksum": "0b311d014146da6afa1d39542fab9869",
     "grade": false,
     "grade_id": "cell-47c9f90498699110",
     "locked": true,
     "schema_version": 3,
     "solution": false,
     "task": false
    }
   },
   "source": [
    "---\n",
    "### 1.6 Summary\n",
    "\n",
    "The following function puts it all together. Given an input string, this functions tokenizes and processes it according to the flags that you set."
   ]
  },
  {
   "cell_type": "code",
   "execution_count": 17,
   "metadata": {
    "cell_id": "00030-31b7404f-596c-4622-9100-0bc4ab089ea7",
    "deepnote_cell_height": 333,
    "deepnote_cell_type": "code",
    "deepnote_to_be_reexecuted": false,
    "deletable": false,
    "editable": false,
    "execution_millis": 0,
    "execution_start": 1645186530137,
    "lines_to_next_cell": 2,
    "nbgrader": {
     "cell_type": "code",
     "checksum": "2ff2d215ee8e0039c5a91fd3de12e6bd",
     "grade": false,
     "grade_id": "cell-dd0d3f46b30801da",
     "locked": true,
     "schema_version": 3,
     "solution": false,
     "task": false
    },
    "source_hash": "c4811d1d"
   },
   "outputs": [],
   "source": [
    "#### Putting it all together\n",
    "def process_text(text, stem=False, remove_stopwords=False, lowercase_text=False):\n",
    "\n",
    "    tokens = []\n",
    "    for token in tokenize(text):\n",
    "        if remove_stopwords and token.lower() in stopwords:\n",
    "            continue\n",
    "        if stem:\n",
    "            token = stem_token(token)\n",
    "        if lowercase_text:\n",
    "            token = token.lower()\n",
    "        tokens.append(token)\n",
    "\n",
    "    return tokens\n",
    "\n",
    "\n",
    "####"
   ]
  },
  {
   "cell_type": "markdown",
   "metadata": {
    "cell_id": "00031-9539610f-160b-4b6d-a351-9bd434d6c9ea",
    "deepnote_cell_height": 91,
    "deepnote_cell_type": "markdown",
    "deletable": false,
    "editable": false,
    "nbgrader": {
     "cell_type": "markdown",
     "checksum": "02d433b18eb43654fa4306a7bf55b190",
     "grade": false,
     "grade_id": "cell-8d885bfd2edd43ae",
     "locked": true,
     "schema_version": 3,
     "solution": false,
     "task": false
    }
   },
   "source": [
    "---\n",
    "\n",
    "Let's create two sets of preprocessed documents.\n",
    "We can process the documents and queries according to these two configurations:"
   ]
  },
  {
   "cell_type": "code",
   "execution_count": 18,
   "metadata": {
    "cell_id": "00032-c5510010-2967-4ace-b12f-1e9e8118e3b4",
    "deepnote_cell_height": 513,
    "deepnote_cell_type": "code",
    "deepnote_to_be_reexecuted": false,
    "deletable": false,
    "editable": false,
    "execution_millis": 7882,
    "execution_start": 1645186530149,
    "nbgrader": {
     "cell_type": "code",
     "checksum": "dbe4ca667be6842fdcf512fbcad50c7f",
     "grade": false,
     "grade_id": "cell-d427365ee0fb21d8",
     "locked": true,
     "schema_version": 3,
     "solution": false,
     "task": false
    },
    "source_hash": "f953b790"
   },
   "outputs": [],
   "source": [
    "# In this configuration:\n",
    "# Don't preprocess the text, except to tokenize\n",
    "config_1 = {\"stem\": False, \"remove_stopwords\": False, \"lowercase_text\": True}\n",
    "\n",
    "\n",
    "# In this configuration:\n",
    "# Preprocess the text, stem and remove stopwords\n",
    "config_2 = {\n",
    "    \"stem\": True,\n",
    "    \"remove_stopwords\": True,\n",
    "    \"lowercase_text\": True,\n",
    "}\n",
    "\n",
    "####\n",
    "doc_repr_1 = []\n",
    "doc_repr_2 = []\n",
    "for (doc_id, document) in docs:\n",
    "    doc_repr_1.append((doc_id, process_text(document, **config_1)))\n",
    "    doc_repr_2.append((doc_id, process_text(document, **config_2)))\n",
    "\n",
    "####"
   ]
  },
  {
   "cell_type": "markdown",
   "metadata": {
    "cell_id": "00033-f33e20e5-c218-4e92-9c23-845b4e42997e",
    "deepnote_cell_height": 415,
    "deepnote_cell_type": "markdown",
    "deletable": false,
    "editable": false,
    "nbgrader": {
     "cell_type": "markdown",
     "checksum": "b60589aac19e80941d860d9b3f1e9a16",
     "grade": false,
     "grade_id": "cell-b1c102db61ae7495",
     "locked": true,
     "schema_version": 3,
     "solution": false,
     "task": false
    }
   },
   "source": [
    "---\n",
    "\n",
    "## Section 2: Indexing (10 points)<a class=\"anchor\" id=\"indexing\"></a>\n",
    "\n",
    "[Back to Part 1](#part1)\n",
    "\n",
    "\n",
    "\n",
    "A retrieval function usually takes in a query document pair, and scores a query against a document.  Our document set is quite small - just a few thousand documents. However, consider a web-scale dataset with a few million documents. In such a scenario, it would become infeasible to score every query and document pair. In such a case, we can build an inverted index. From Wikipedia:\n",
    "\n",
    "> ... , an inverted index (also referred to as a postings file or inverted file) is a database index storing a mapping from content, such as words or numbers, to its locations in a table, .... The purpose of an inverted index is to allow fast full-text searches, at a cost of increased processing when a document is added to the database. ...\n",
    "\n",
    "\n",
    "Consider a simple inverted index, which maps from word to document. This can improve the performance of a retrieval system significantly. In this assignment, we consider a *simple* inverted index, which maps a word to a set of documents. In practice, however, more complex indices might be used.\n"
   ]
  },
  {
   "cell_type": "markdown",
   "metadata": {
    "cell_id": "00034-e0be6b84-2eca-463d-9411-0a876fee2070",
    "deepnote_cell_height": 181.59375,
    "deepnote_cell_type": "markdown",
    "deletable": false,
    "editable": false,
    "nbgrader": {
     "cell_type": "markdown",
     "checksum": "710fd943f45523ac36fcb887cc0d4d39",
     "grade": false,
     "grade_id": "cell-fa373192c1b7bb95",
     "locked": true,
     "schema_version": 3,
     "solution": false,
     "task": false
    }
   },
   "source": [
    "### 2.1 Term Frequency-index (10 points)\n",
    "In this assignment, we will be using an index created in memory since our dataset is tiny. To get started, build a simple index that maps each `token` to a list of `(doc_id, count)` where `count` is the count of the `token` in `doc_id`.\n",
    "For consistency, build this index using a python dictionary.\n",
    "\n",
    "Now, implement a function to build an index:"
   ]
  },
  {
   "cell_type": "code",
   "execution_count": 19,
   "metadata": {
    "cell_id": "00035-e27ae026-b063-450a-8cb5-6336175b5cb0",
    "deepnote_cell_height": 495,
    "deepnote_cell_type": "code",
    "deepnote_to_be_reexecuted": false,
    "deletable": false,
    "execution_millis": 8,
    "execution_start": 1645186538048,
    "nbgrader": {
     "cell_type": "code",
     "checksum": "d4e8c6b658c469379d5fe511de05b536",
     "grade": false,
     "grade_id": "cell-077599b87e953209",
     "locked": false,
     "schema_version": 3,
     "solution": true,
     "task": false
    },
    "source_hash": "b7da36f"
   },
   "outputs": [],
   "source": [
    "# need defaultdict to handle cases when queried word is missing from our documents\n",
    "# https://piazza.com/class/kyiksrdfk0b6te?cid=38\n",
    "# https://piazza.com/class/kyiksrdfk0b6te?cid=39\n",
    "from collections import defaultdict\n",
    "\n",
    "# TODO: Implement this! (10 points)\n",
    "def build_tf_index(documents):\n",
    "    \"\"\"\n",
    "    Build an inverted index (with counts).\n",
    "    The output is a dictionary which takes in a token and\n",
    "    returns a list of (doc_id, count)\n",
    "    where 'count' is the count of the 'token' in 'doc_id'\n",
    "\n",
    "    Input: a list of documents - (doc_id, tokens)\n",
    "    Output: An inverted index implemented within a pyhton dictionary:\n",
    "        [token] -> [(doc_id, token_count)]\n",
    "    \"\"\"\n",
    "    # YOUR CODE HERE\n",
    "    tf_index = defaultdict(list)\n",
    "    for doc_id, tokens in documents:\n",
    "        tokens_set = set(tokens)\n",
    "        for token in tokens_set:\n",
    "            tf_index[token].append((doc_id, tokens.count(token)))\n",
    "    return tf_index"
   ]
  },
  {
   "cell_type": "markdown",
   "metadata": {
    "cell_id": "00036-4124a1b7-00df-4a57-861c-2e9cd705ce17",
    "deepnote_cell_height": 55,
    "deepnote_cell_type": "markdown",
    "deletable": false,
    "editable": false,
    "nbgrader": {
     "cell_type": "markdown",
     "checksum": "15e7041b4323d2a290322de538ff7670",
     "grade": false,
     "grade_id": "cell-093aebfa504f96f2",
     "locked": true,
     "schema_version": 3,
     "solution": false,
     "task": false
    }
   },
   "source": [
    "---\n",
    "Now we can build indexed documents and preprocess the queries based on the two configurations:"
   ]
  },
  {
   "cell_type": "code",
   "execution_count": 20,
   "metadata": {
    "cell_id": "00037-db077994-3c24-4f9b-a642-d416e54c8d1e",
    "deepnote_cell_height": 531,
    "deepnote_cell_type": "code",
    "deepnote_to_be_reexecuted": false,
    "deletable": false,
    "editable": false,
    "execution_millis": 845,
    "execution_start": 1645186538116,
    "lines_to_next_cell": 2,
    "nbgrader": {
     "cell_type": "code",
     "checksum": "e27540c1d8d77a3779a05f557f3f40c6",
     "grade": false,
     "grade_id": "cell-b2ff1676348b90a8",
     "locked": true,
     "schema_version": 3,
     "solution": false,
     "task": false
    },
    "source_hash": "2d1fa9f3"
   },
   "outputs": [],
   "source": [
    "#### Indexed documents based on the two configs\n",
    "\n",
    "# Create the 2 indices\n",
    "tf_index_1 = build_tf_index(doc_repr_1)\n",
    "tf_index_2 = build_tf_index(doc_repr_2)\n",
    "\n",
    "# This function returns the tf_index of the corresponding config\n",
    "def get_index(index_set):\n",
    "    assert index_set in {1, 2}\n",
    "    return {1: tf_index_1, 2: tf_index_2}[index_set]\n",
    "\n",
    "\n",
    "####\n",
    "#### Preprocessed query based on the two configs\n",
    "\n",
    "# This function preprocesses the text given the index set, according to the specified config\n",
    "def preprocess_query(text, index_set):\n",
    "    assert index_set in {1, 2}\n",
    "    if index_set == 1:\n",
    "        return process_text(text, **config_1)\n",
    "    elif index_set == 2:\n",
    "        return process_text(text, **config_2)\n",
    "\n",
    "\n",
    "####"
   ]
  },
  {
   "cell_type": "code",
   "execution_count": 21,
   "metadata": {
    "cell_id": "00038-fb5a08f4-5f40-4923-a62b-02af9b853e1f",
    "deepnote_cell_height": 298.375,
    "deepnote_cell_type": "code",
    "deepnote_to_be_reexecuted": false,
    "deletable": false,
    "editable": false,
    "execution_millis": 11244305,
    "execution_start": 1645186538979,
    "nbgrader": {
     "cell_type": "code",
     "checksum": "f0cbc8703e1248cd6edf03f9019b69db",
     "grade": true,
     "grade_id": "cell-fc7c7232d5d2ee46",
     "locked": true,
     "points": 5,
     "schema_version": 3,
     "solution": false,
     "task": false
    },
    "source_hash": "2220f2b7"
   },
   "outputs": [
    {
     "name": "stdout",
     "output_type": "stream",
     "text": [
      "sample tf index for computer: [('4', 1), ('7', 1), ('10', 1), ('13', 1), ('19', 1), ('22', 1), ('23', 1), ('37', 1), ('40', 3), ('41', 1)]\n",
      "sample tf index for examples: [('111', 1), ('320', 1), ('644', 1), ('691', 1), ('727', 1), ('848', 1), ('892', 1), ('893', 1), ('1049', 1), ('1051', 1)]\n"
     ]
    }
   ],
   "source": [
    "##### Function check\n",
    "\n",
    "assert isinstance(tf_index_1, dict)\n",
    "\n",
    "assert isinstance(tf_index_1[\"computer\"], list)\n",
    "print(\"sample tf index for computer:\", tf_index_1[\"computer\"][:10])\n",
    "\n",
    "assert isinstance(tf_index_1[\"examples\"], list)\n",
    "print(\"sample tf index for examples:\", tf_index_1[\"examples\"][:10])\n",
    "####"
   ]
  },
  {
   "cell_type": "code",
   "execution_count": 22,
   "metadata": {
    "cell_id": "00039-0f63d80d-3d2c-4ed8-b1a3-ef57df6a812d",
    "deepnote_cell_height": 298.375,
    "deepnote_cell_type": "code",
    "deepnote_to_be_reexecuted": false,
    "deletable": false,
    "editable": false,
    "execution_millis": 11244324,
    "execution_start": 1645186539032,
    "nbgrader": {
     "cell_type": "code",
     "checksum": "d49b8ac36815d9a5cb4bed838ab53a50",
     "grade": true,
     "grade_id": "cell-ff06bd11204db250",
     "locked": true,
     "points": 5,
     "schema_version": 3,
     "solution": false,
     "task": false
    },
    "source_hash": "cfcc3871"
   },
   "outputs": [
    {
     "name": "stdout",
     "output_type": "stream",
     "text": [
      "sample tf index for computer: [('4', 1), ('7', 1), ('10', 1), ('13', 1), ('19', 1), ('22', 1), ('23', 1), ('37', 1), ('40', 3), ('41', 1)]\n",
      "sample tf index for examples: []\n"
     ]
    }
   ],
   "source": [
    "##### Function check\n",
    "\n",
    "assert isinstance(tf_index_2, dict)\n",
    "\n",
    "assert isinstance(tf_index_2[\"computer\"], list)\n",
    "print(\"sample tf index for computer:\", tf_index_1[\"computer\"][:10])\n",
    "\n",
    "assert isinstance(tf_index_2[\"examples\"], list)\n",
    "print(\"sample tf index for examples:\", tf_index_2[\"examples\"][:10])\n",
    "####"
   ]
  },
  {
   "cell_type": "markdown",
   "metadata": {
    "cell_id": "00040-06978f59-9c49-41bf-86fa-2ce4ff5666a1",
    "deepnote_cell_height": 493.59375,
    "deepnote_cell_type": "markdown",
    "deletable": false,
    "editable": false,
    "nbgrader": {
     "cell_type": "markdown",
     "checksum": "880b2ef3ca405f2af6e0667d2dc7a600",
     "grade": false,
     "grade_id": "cell-89eba71f04310291",
     "locked": true,
     "schema_version": 3,
     "solution": false,
     "task": false
    }
   },
   "source": [
    "\n",
    "---\n",
    "## Section 3: Ranking  (80 points) <a class=\"anchor\" id=\"ranking\"></a>\n",
    "\n",
    "[Back to Part 1](#part1)\n",
    "\n",
    "Now that we have cleaned and processed our dataset, we can start building simple IR systems.\n",
    "\n",
    "For now, we consider *simple* IR systems, which involve computing scores from the tokens present in the document/query. More advanced methods are covered in later assignments.\n",
    "\n",
    "We will implement the following methods in this section:\n",
    "- [Section 3.1: Bag of Words](#bow) (10 points)\n",
    "- [Section 3.2: TF-IDF](#tfidf) (15 points)\n",
    "- [Section 3.3: Query Likelihood Model](#qlm) (35 points)\n",
    "- [Section 3.4: BM25](#bm25) (20 points)\n",
    "\n",
    "*All search functions should be able to handle multiple words queries.*\n",
    "\n",
    "**Scoring policy:**\n",
    "Your implementations in this section are scored based on the expected performance of your ranking functions.\n",
    "You will get a full mark if your implementation meets the expected performance (measured by some evaluation metric).\n",
    "Otherwise, you may get partial credit.\n",
    "For example, if your *Bag of words* ranking function has 60% of expected performance, you will get 6 out of 10."
   ]
  },
  {
   "cell_type": "markdown",
   "metadata": {
    "cell_id": "00041-95b4f50b-25e3-4bfc-853e-458b38aa6f80",
    "deepnote_cell_height": 250.375,
    "deepnote_cell_type": "markdown",
    "deletable": false,
    "editable": false,
    "nbgrader": {
     "cell_type": "markdown",
     "checksum": "6c74e5061917358300c6e8085ec07864",
     "grade": false,
     "grade_id": "cell-3daf70a60e393adf",
     "locked": true,
     "schema_version": 3,
     "solution": false,
     "task": false
    }
   },
   "source": [
    "---\n",
    "\n",
    "### Section 3.1: Bag of Words (10 points)<a class=\"anchor\" id=\"bow\"></a>\n",
    "\n",
    "Probably the simplest IR model is the Bag of Words (BOW) model.\n",
    "Implement a function that scores and ranks all the documents against a query using this model.\n",
    "\n",
    "- For consistency, you should use the count of the token and **not** the binary indicator.\n",
    "- Use `float` type for the scores (even though the scores are integers in this case).\n",
    "- No normalization of the scores is necessary, as the ordering is what we are interested in.\n",
    "- If two documents have the same score, they can have any ordering: you are not required to disambiguate.\n"
   ]
  },
  {
   "cell_type": "code",
   "execution_count": 23,
   "metadata": {
    "cell_id": "00042-78747ee0-9c14-474c-ab83-0bb691fe4f4f",
    "deepnote_cell_height": 513,
    "deepnote_cell_type": "code",
    "deepnote_to_be_reexecuted": false,
    "deletable": false,
    "execution_millis": 11244305,
    "execution_start": 1645186539076,
    "nbgrader": {
     "cell_type": "code",
     "checksum": "fee4640e22bfc4f05eb958a675ef40e7",
     "grade": false,
     "grade_id": "cell-de9cf0459c4b9324",
     "locked": false,
     "schema_version": 3,
     "solution": true,
     "task": false
    },
    "source_hash": "15c8e32"
   },
   "outputs": [],
   "source": [
    "# TODO: Implement this! (10 points)\n",
    "def bow_search(query, index_set):\n",
    "    \"\"\"\n",
    "    Perform a search over all documents with the given query.\n",
    "    Note: You have to use the `get_index` function created in the previous cells\n",
    "    Input:\n",
    "        query - a (unprocessed) query\n",
    "        index_set - the index to use\n",
    "    Output: a list of (document_id, score),\n",
    "        sorted in descending relevance to the given query.\n",
    "    \"\"\"\n",
    "    index = get_index(index_set)\n",
    "    processed_query = preprocess_query(query, index_set)\n",
    "\n",
    "    # YOUR CODE HERE\n",
    "    # total count per document\n",
    "    documents = defaultdict(float)\n",
    "    for token in processed_query:\n",
    "        for document_id, token_count in index[token]:\n",
    "            # aggregate counts of this token across all documents\n",
    "            documents[document_id] += token_count\n",
    "    # convert documents to list and sort descending\n",
    "    documents = sorted(list(documents.items()), key=lambda x: x[1], reverse=True)\n",
    "    return documents"
   ]
  },
  {
   "cell_type": "code",
   "execution_count": 24,
   "metadata": {
    "cell_id": "00043-a779ed03-89a7-4a9b-8bf4-e356d3146ecd",
    "deepnote_cell_height": 225,
    "deepnote_cell_type": "code",
    "deepnote_to_be_reexecuted": false,
    "deletable": false,
    "editable": false,
    "execution_millis": 11244335,
    "execution_start": 1645186539129,
    "nbgrader": {
     "cell_type": "code",
     "checksum": "613524fbbf02b1d122c6611a71fbf11b",
     "grade": true,
     "grade_id": "cell-9f6aceae6dd9125f",
     "locked": true,
     "points": 2,
     "schema_version": 3,
     "solution": false,
     "task": false
    },
    "source_hash": "a4e9855b"
   },
   "outputs": [],
   "source": [
    "#### Function check\n",
    "\n",
    "test_bow = bow_search(\"how to implement bag of words search\", index_set=1)[:5]\n",
    "assert isinstance(test_bow, list)\n",
    "assert len(test_bow[0]) == 2\n",
    "assert isinstance(test_bow[0][0], str)\n",
    "assert isinstance(test_bow[0][1], float)\n",
    "\n",
    "####"
   ]
  },
  {
   "cell_type": "code",
   "execution_count": 25,
   "metadata": {
    "cell_id": "00044-8c0e39e0-03a8-42d9-88c0-9811823ca925",
    "deepnote_cell_height": 393.125,
    "deepnote_cell_type": "code",
    "deepnote_to_be_reexecuted": false,
    "deletable": false,
    "editable": false,
    "execution_millis": 11244410,
    "execution_start": 1645186539130,
    "lines_to_next_cell": 2,
    "nbgrader": {
     "cell_type": "code",
     "checksum": "9af20897659edb62fe77598483590500",
     "grade": true,
     "grade_id": "cell-4eed3abf233d9b58",
     "locked": true,
     "points": 2,
     "schema_version": 3,
     "solution": false,
     "task": false
    },
    "source_hash": "f3e133b9"
   },
   "outputs": [
    {
     "name": "stdout",
     "output_type": "stream",
     "text": [
      "BOW Results:\n",
      "Rank 0(1.3e+01): On Computing The Fast Fourier Transform\\nCooley an...\n",
      "Rank 1(1.2e+01): Variable Length Tree Structures Having Minimum Ave...\n",
      "Rank 2(1.1e+01): A Modular Computer Sharing System\\nAn alternative ...\n",
      "Rank 3(1e+01): PEEKABIT, Computer Offspring of Punched\\nCard PEEK...\n",
      "Rank 4(9.0): Computer Simulation-Discussion of the\\nTechnique a...\n"
     ]
    }
   ],
   "source": [
    "docs_by_id = dict(docs)\n",
    "\n",
    "\n",
    "def print_results(docs, len_limit=50):\n",
    "    for i, (doc_id, score) in enumerate(docs):\n",
    "        doc_content = (\n",
    "            docs_by_id[doc_id].strip().replace(\"\\n\", \"\\\\n\")[:len_limit] + \"...\"\n",
    "        )\n",
    "        print(f\"Rank {i}({score:.2}): {doc_content}\")\n",
    "\n",
    "\n",
    "test_bow_2 = bow_search(\"computer search word\", index_set=2)[:5]\n",
    "print(f\"BOW Results:\")\n",
    "print_results(test_bow_2)"
   ]
  },
  {
   "cell_type": "code",
   "execution_count": 26,
   "metadata": {
    "cell_id": "00045-c576132c-ae55-4ef4-bf93-365a98921a28",
    "deepnote_cell_height": 285.125,
    "deepnote_cell_type": "code",
    "deepnote_to_be_reexecuted": false,
    "deletable": false,
    "editable": false,
    "execution_millis": 2,
    "execution_start": 1645186539173,
    "lines_to_next_cell": 2,
    "nbgrader": {
     "cell_type": "code",
     "checksum": "3c9c8b16c8e7d1032f101e9da8a6e845",
     "grade": true,
     "grade_id": "cell-4d65a2d7090c466c",
     "locked": true,
     "points": 3,
     "schema_version": 3,
     "solution": false,
     "task": false
    },
    "source_hash": "76a29ddf"
   },
   "outputs": [
    {
     "name": "stdout",
     "output_type": "stream",
     "text": [
      "BOW Results:\n",
      "Rank 0(9.0): CURRICULUM 68 -- Recommendations for Academic\\nPro...\n",
      "Rank 1(9.0): Variable Length Tree Structures Having Minimum Ave...\n",
      "Rank 2(7.0): Computer Formulation of the Equations of Motion Us...\n",
      "Rank 3(7.0): The Effects of Multiplexing on a Computer-Communic...\n",
      "Rank 4(6.0): Optimizing Bit-time Computer Simulation\\nA major c...\n"
     ]
    }
   ],
   "source": [
    "test_bow_1 = bow_search(\"computer search word\", index_set=1)[:5]\n",
    "print(f\"BOW Results:\")\n",
    "print_results(test_bow_1)"
   ]
  },
  {
   "cell_type": "code",
   "execution_count": 27,
   "metadata": {
    "cell_id": "00046-5b571ae5-b918-4fbb-ad83-5d5d6669c906",
    "deepnote_cell_height": 168.375,
    "deepnote_cell_type": "code",
    "deepnote_to_be_reexecuted": false,
    "deletable": false,
    "editable": false,
    "execution_millis": 2,
    "execution_start": 1645186539174,
    "nbgrader": {
     "cell_type": "code",
     "checksum": "b7e593847aa4202ae45ec061fb18ad73",
     "grade": true,
     "grade_id": "cell-dedf36ab5853ce20",
     "locked": true,
     "points": 3,
     "schema_version": 3,
     "solution": false,
     "task": false
    },
    "source_hash": "b05098cf"
   },
   "outputs": [
    {
     "name": "stdout",
     "output_type": "stream",
     "text": [
      "top-5 docs for index1: ('1771', '1936', '1543', '2535', '678')\n",
      "top-5 docs for index2: ('1525', '1936', '1844', '1700', '1366')\n"
     ]
    }
   ],
   "source": [
    "print(\"top-5 docs for index1:\", list(zip(*test_bow_1[:5]))[0])\n",
    "print(\"top-5 docs for index2:\", list(zip(*test_bow_2[:5]))[0])"
   ]
  },
  {
   "cell_type": "markdown",
   "metadata": {
    "cell_id": "00047-9898438b-a142-41ea-936e-02202738220e",
    "deepnote_cell_height": 235,
    "deepnote_cell_type": "markdown",
    "deletable": false,
    "editable": false,
    "nbgrader": {
     "cell_type": "markdown",
     "checksum": "b04352ee0716dfdf094b8cdb6f32e984",
     "grade": false,
     "grade_id": "cell-a5c09c79ac1f2871",
     "locked": true,
     "schema_version": 3,
     "solution": false,
     "task": false
    }
   },
   "source": [
    "\n",
    "---\n",
    "\n",
    "### Section 3.2: TF-IDF (15 points) <a class=\"anchor\" id=\"tfidf\"></a>\n",
    "\n",
    "Before we implement the tf-idf scoring functions, let's first write a function to compute the document frequencies of all words.\n",
    "\n",
    "#### 3.2.1 Document frequency (5 points)\n",
    "Compute the document frequencies of all tokens in the collection.\n",
    "Your code should return a dictionary with tokens as its keys and the number of documents containing the token as values.\n",
    "For consistency, the values should have `int` type."
   ]
  },
  {
   "cell_type": "code",
   "execution_count": 28,
   "metadata": {
    "cell_id": "00048-7d15cfba-6fc3-46f2-8fc4-e2ea33b6f8ab",
    "deepnote_cell_height": 333,
    "deepnote_cell_type": "code",
    "deepnote_to_be_reexecuted": false,
    "deletable": false,
    "execution_millis": 11244452,
    "execution_start": 1645186539217,
    "nbgrader": {
     "cell_type": "code",
     "checksum": "5c53263cf4c0b0ffcaae08b91fc364cc",
     "grade": false,
     "grade_id": "cell-9a2369f32e864b8a",
     "locked": false,
     "schema_version": 3,
     "solution": true,
     "task": false
    },
    "source_hash": "da17c69a"
   },
   "outputs": [],
   "source": [
    "# TODO: Implement this! (5 points)\n",
    "def compute_df(documents):\n",
    "    \"\"\"\n",
    "    Compute the document frequency of all terms in the vocabulary\n",
    "    Input: A list of documents\n",
    "    Output: A dictionary with {token: document frequency (int)}\n",
    "    \"\"\"\n",
    "    # YOUR CODE HERE\n",
    "    df_dict = defaultdict(int)\n",
    "    for document in documents:\n",
    "        # we only count a token once per document, so work on the set of unique doc tokens\n",
    "        unique_doc_tokens = set(document)\n",
    "        for token in unique_doc_tokens:\n",
    "            df_dict[token] += 1\n",
    "    return df_dict"
   ]
  },
  {
   "cell_type": "code",
   "execution_count": 29,
   "metadata": {
    "cell_id": "00049-d09fb33d-2d8c-4b8b-aab7-f458f87425f7",
    "deepnote_cell_height": 297,
    "deepnote_cell_type": "code",
    "deepnote_to_be_reexecuted": false,
    "deletable": false,
    "editable": false,
    "execution_millis": 94,
    "execution_start": 1645186539218,
    "lines_to_next_cell": 2,
    "nbgrader": {
     "cell_type": "code",
     "checksum": "154985511d7925c5793a1f97dea81880",
     "grade": false,
     "grade_id": "cell-4c3bddd0b73ac90e",
     "locked": true,
     "schema_version": 3,
     "solution": false,
     "task": false
    },
    "source_hash": "46458dbe"
   },
   "outputs": [],
   "source": [
    "#### Compute df based on the two configs\n",
    "\n",
    "# get the document frequencies of each document\n",
    "df_1 = compute_df([d[1] for d in doc_repr_1])\n",
    "df_2 = compute_df([d[1] for d in doc_repr_2])\n",
    "\n",
    "\n",
    "def get_df(index_set):\n",
    "    assert index_set in {1, 2}\n",
    "    return {1: df_1, 2: df_2}[index_set]\n",
    "\n",
    "\n",
    "####"
   ]
  },
  {
   "cell_type": "code",
   "execution_count": 30,
   "metadata": {
    "cell_id": "00050-0d714f0a-0f10-4e51-be4f-9dc1c0905ca9",
    "deepnote_cell_height": 204.375,
    "deepnote_cell_type": "code",
    "deepnote_to_be_reexecuted": false,
    "deletable": false,
    "editable": false,
    "execution_millis": 422,
    "execution_start": 1645186539327,
    "nbgrader": {
     "cell_type": "code",
     "checksum": "110cc180068cf3f77c682ee3de2a117c",
     "grade": true,
     "grade_id": "cell-79e8a6db1e5fc46f",
     "locked": true,
     "points": 5,
     "schema_version": 3,
     "solution": false,
     "task": false
    },
    "source_hash": "43b9edf4"
   },
   "outputs": [
    {
     "name": "stdout",
     "output_type": "stream",
     "text": [
      "597\n",
      "11\n"
     ]
    }
   ],
   "source": [
    "#### Function check\n",
    "\n",
    "print(df_1[\"computer\"])\n",
    "print(df_2[\"computer\"])\n",
    "####"
   ]
  },
  {
   "cell_type": "markdown",
   "metadata": {
    "cell_id": "00051-7d6233d2-d8c7-4fc4-8207-4bedbd2085af",
    "deepnote_cell_height": 271,
    "deepnote_cell_type": "markdown",
    "deletable": false,
    "editable": false,
    "nbgrader": {
     "cell_type": "markdown",
     "checksum": "d0d577668fa51b80aeab6e67209ae73b",
     "grade": false,
     "grade_id": "cell-52f6acc487e1b96d",
     "locked": true,
     "schema_version": 3,
     "solution": false,
     "task": false
    }
   },
   "source": [
    "---\n",
    "#### 3.2.2 TF-IDF search (10 points)\n",
    "Next, implement a function that computes a tf-idf score, given a query.\n",
    "Use the following formulas for TF and IDF:\n",
    "\n",
    "$$ TF=\\log (1 + f_{d,t}) $$\n",
    "\n",
    "$$ IDF=\\log (\\frac{N}{n_t})$$\n",
    "\n",
    "where $f_{d,t}$ is the frequency of token $t$ in document $d$, $N$ is the number of total documents and $n_t$ is the number of documents containing token $t$.\n",
    "\n",
    "**Note:** your implementation will be auto-graded assuming you have used the above formulas.\n"
   ]
  },
  {
   "cell_type": "code",
   "execution_count": 31,
   "metadata": {
    "cell_id": "00052-d1b23bf4-b5f4-4a82-8df2-d8772e42b73a",
    "deepnote_cell_height": 567,
    "deepnote_cell_type": "code",
    "deepnote_to_be_reexecuted": false,
    "deletable": false,
    "execution_millis": 20,
    "execution_start": 1645186539352,
    "nbgrader": {
     "cell_type": "code",
     "checksum": "3534c44b4a3419ca1db98eebe7115dc1",
     "grade": false,
     "grade_id": "cell-2fb5ba34b2994cd9",
     "locked": false,
     "schema_version": 3,
     "solution": true,
     "task": false
    },
    "source_hash": "1d6e90cb"
   },
   "outputs": [],
   "source": [
    "# TODO: Implement this! (10 points)\n",
    "def tfidf_search(query, index_set):\n",
    "    \"\"\"\n",
    "    Perform a search over all documents with the given query using tf-idf.\n",
    "    Note #1: You have to use the `get_index` (and the `get_df`) function\n",
    "    created in the previous cells\n",
    "    Input:\n",
    "        query - a (unprocessed) query\n",
    "        index_set - the index to use\n",
    "    Output: a list of (document_id, score),\n",
    "        sorted in descending relevance to the given query\n",
    "    \"\"\"\n",
    "    index = get_index(index_set)\n",
    "    df = get_df(index_set)\n",
    "    processed_query = preprocess_query(query, index_set)\n",
    "\n",
    "    N = len(docs)\n",
    "    # YOUR CODE HERE\n",
    "    documents = defaultdict(float)\n",
    "    for token in processed_query:\n",
    "        for document_id, token_count in index[token]:\n",
    "            tf = np.log(1 + token_count)\n",
    "            idf = np.log(N / df[token])\n",
    "            tf_idf = tf * idf\n",
    "            documents[document_id] += tf_idf\n",
    "    # convert documents to list and sort descending\n",
    "    documents = sorted(list(documents.items()), key=lambda x: x[1], reverse=True)\n",
    "    return documents"
   ]
  },
  {
   "cell_type": "code",
   "execution_count": 32,
   "metadata": {
    "cell_id": "00053-487c5ebc-c09b-46d0-9f43-38c4f74264e7",
    "deepnote_cell_height": 225,
    "deepnote_cell_type": "code",
    "deepnote_to_be_reexecuted": false,
    "deletable": false,
    "editable": false,
    "execution_millis": 80,
    "execution_start": 1645186539384,
    "nbgrader": {
     "cell_type": "code",
     "checksum": "7b66a514663d898694b09a23a597312b",
     "grade": true,
     "grade_id": "cell-bc68aeeacf42beb3",
     "locked": true,
     "points": 2,
     "schema_version": 3,
     "solution": false,
     "task": false
    },
    "source_hash": "4907bb8a"
   },
   "outputs": [],
   "source": [
    "#### Function check\n",
    "test_tfidf = tfidf_search(\"how to implement tf idf search\", index_set=1)[:5]\n",
    "assert isinstance(test_tfidf, list)\n",
    "assert len(test_tfidf[0]) == 2\n",
    "assert isinstance(test_tfidf[0][0], str)\n",
    "assert isinstance(test_tfidf[0][1], float)\n",
    "\n",
    "####"
   ]
  },
  {
   "cell_type": "code",
   "execution_count": 33,
   "metadata": {
    "cell_id": "00054-ca226c89-ef3a-464d-aeed-2750ea928db4",
    "deepnote_cell_height": 285.125,
    "deepnote_cell_type": "code",
    "deepnote_to_be_reexecuted": false,
    "deletable": false,
    "editable": false,
    "execution_millis": 222,
    "execution_start": 1645186539544,
    "lines_to_next_cell": 2,
    "nbgrader": {
     "cell_type": "code",
     "checksum": "98fb1326cf4bf7983ae237ca8a9105f9",
     "grade": true,
     "grade_id": "cell-c7702fa8179fadb9",
     "locked": true,
     "points": 2,
     "schema_version": 3,
     "solution": false,
     "task": false
    },
    "source_hash": "fddf59b1"
   },
   "outputs": [
    {
     "name": "stdout",
     "output_type": "stream",
     "text": [
      "TFIDF Results:\n",
      "Rank 0(1.3e+01): PEEKABIT, Computer Offspring of Punched\\nCard PEEK...\n",
      "Rank 1(9.8): Variable Length Tree Structures Having Minimum Ave...\n",
      "Rank 2(8.2): A Stochastic Approach to the Grammatical Coding of...\n",
      "Rank 3(8.1): Full Table Quadratic Searching for Scatter Storage...\n",
      "Rank 4(7.6): Use of Tree Structures for Processing Files\\nIn da...\n"
     ]
    }
   ],
   "source": [
    "test_tfidf_2 = tfidf_search(\"computer word search\", index_set=2)[:5]\n",
    "print(f\"TFIDF Results:\")\n",
    "print_results(test_tfidf_2)"
   ]
  },
  {
   "cell_type": "code",
   "execution_count": 34,
   "metadata": {
    "cell_id": "00055-861246a7-b33f-43ef-8ffc-16cd768e3e3e",
    "deepnote_cell_height": 285.125,
    "deepnote_cell_type": "code",
    "deepnote_to_be_reexecuted": false,
    "deletable": false,
    "editable": false,
    "execution_millis": 179,
    "execution_start": 1645186539589,
    "lines_to_next_cell": 2,
    "nbgrader": {
     "cell_type": "code",
     "checksum": "733b5b67be5e53989f5b763ce5e52ee9",
     "grade": true,
     "grade_id": "cell-3284f50ac29abbaa",
     "locked": true,
     "points": 3,
     "schema_version": 3,
     "solution": false,
     "task": false
    },
    "source_hash": "83683be1"
   },
   "outputs": [
    {
     "name": "stdout",
     "output_type": "stream",
     "text": [
      "TFIDF Results:\n",
      "Rank 0(9.4): Variable Length Tree Structures Having Minimum Ave...\n",
      "Rank 1(7.4): On the Feasibility of Voice Input to\\nan On-line C...\n",
      "Rank 2(7.3): Median Split Trees: A Fast Lookup Technique for Fr...\n",
      "Rank 3(7.0): Execution Time Requirements for Encipherment Progr...\n",
      "Rank 4(7.0): Storage and Search Properties of a Tree-Organized ...\n"
     ]
    }
   ],
   "source": [
    "test_tfidf_1 = tfidf_search(\"computer word search\", index_set=1)[:5]\n",
    "print(f\"TFIDF Results:\")\n",
    "print_results(test_tfidf_1)"
   ]
  },
  {
   "cell_type": "code",
   "execution_count": 35,
   "metadata": {
    "cell_id": "00056-3513c3fe-3e9f-4b8c-aa0f-3f4a6d19816c",
    "deepnote_cell_height": 280.75,
    "deepnote_cell_type": "code",
    "deepnote_to_be_reexecuted": false,
    "deletable": false,
    "editable": false,
    "execution_millis": 1,
    "execution_start": 1645186539634,
    "lines_to_next_cell": 2,
    "nbgrader": {
     "cell_type": "code",
     "checksum": "e0edb37a5ae807a2de85d578c87ccb78",
     "grade": true,
     "grade_id": "cell-d908c80a3155354b",
     "locked": true,
     "points": 3,
     "schema_version": 3,
     "solution": false,
     "task": false
    },
    "source_hash": "9b7bb168"
   },
   "outputs": [
    {
     "name": "stdout",
     "output_type": "stream",
     "text": [
      "top-5 docs for index1 with BOW search: ('1771', '1936', '1543', '2535', '678')\n",
      "top-5 docs for index2 with BOW search: ('1525', '1936', '1844', '1700', '1366')\n",
      "top-5 docs for index1 with TF-IDF search: ('1936', '2054', '3041', '2620', '944')\n",
      "top-5 docs for index2 with TF-IDF search: ('1700', '1936', '1235', '2018', '849')\n"
     ]
    }
   ],
   "source": [
    "print(\"top-5 docs for index1 with BOW search:\", list(zip(*test_bow_1[:5]))[0])\n",
    "print(\"top-5 docs for index2 with BOW search:\", list(zip(*test_bow_2[:5]))[0])\n",
    "print(\"top-5 docs for index1 with TF-IDF search:\", list(zip(*test_tfidf_1[:5]))[0])\n",
    "print(\"top-5 docs for index2 with TF-IDF search:\", list(zip(*test_tfidf_2[:5]))[0])"
   ]
  },
  {
   "cell_type": "markdown",
   "metadata": {
    "cell_id": "00057-685f4747-06a6-4177-91cd-2efd41bed6dc",
    "deepnote_cell_height": 235,
    "deepnote_cell_type": "markdown",
    "deletable": false,
    "editable": false,
    "nbgrader": {
     "cell_type": "markdown",
     "checksum": "cdffc83f0eaea937cf64a212e7e9af8d",
     "grade": false,
     "grade_id": "cell-f5d923459ba21733",
     "locked": true,
     "schema_version": 3,
     "solution": false,
     "task": false
    }
   },
   "source": [
    "---\n",
    "\n",
    "### Section 3.3: Query Likelihood Model (35 points) <a class=\"anchor\" id=\"qlm\"></a>\n",
    "\n",
    "In this section, you will implement a simple query likelihood model.\n",
    "\n",
    "\n",
    "#### 3.3.1 Naive QL (15 points)\n",
    "\n",
    "First, let us implement a naive version of a QL model, assuming a multinomial unigram language model (with a uniform prior over the documents).\n",
    "\n"
   ]
  },
  {
   "cell_type": "code",
   "execution_count": 36,
   "metadata": {
    "cell_id": "00058-cda44e40-05f4-4632-a263-b4e4b00947bd",
    "deepnote_cell_height": 351,
    "deepnote_cell_type": "code",
    "deepnote_to_be_reexecuted": false,
    "deletable": false,
    "editable": false,
    "execution_millis": 127,
    "execution_start": 1645186539642,
    "lines_to_next_cell": 2,
    "nbgrader": {
     "cell_type": "code",
     "checksum": "b7ae2b7d818b428b4638c1c9206d2aca",
     "grade": false,
     "grade_id": "cell-98505778f7b68e7f",
     "locked": true,
     "schema_version": 3,
     "solution": false,
     "task": false
    },
    "source_hash": "41faad84"
   },
   "outputs": [],
   "source": [
    "#### Document length for normalization\n",
    "\n",
    "\n",
    "def doc_lengths(documents):\n",
    "    doc_lengths = {doc_id: len(doc) for (doc_id, doc) in documents}\n",
    "    return doc_lengths\n",
    "\n",
    "\n",
    "doc_lengths_1 = doc_lengths(doc_repr_1)\n",
    "doc_lengths_2 = doc_lengths(doc_repr_2)\n",
    "\n",
    "\n",
    "def get_doc_lengths(index_set):\n",
    "    assert index_set in {1, 2}\n",
    "    return {1: doc_lengths_1, 2: doc_lengths_2}[index_set]\n",
    "\n",
    "\n",
    "####"
   ]
  },
  {
   "cell_type": "code",
   "execution_count": 37,
   "metadata": {
    "cell_id": "00059-746be962-92e6-47b2-bf24-e3d86dedd92e",
    "deepnote_cell_height": 567,
    "deepnote_cell_type": "code",
    "deepnote_to_be_reexecuted": false,
    "deletable": false,
    "execution_millis": 0,
    "execution_start": 1645186539698,
    "nbgrader": {
     "cell_type": "code",
     "checksum": "cedd08303a914243fefdb6b876977ca1",
     "grade": false,
     "grade_id": "cell-8bcf2b804d636c2e",
     "locked": false,
     "schema_version": 3,
     "solution": true,
     "task": false
    },
    "source_hash": "a861316b"
   },
   "outputs": [],
   "source": [
    "# TODO: Implement this! (15 points)\n",
    "def naive_ql_search(query, index_set):\n",
    "    \"\"\"\n",
    "    Perform a search over all documents with the given query using a naive QL model.\n",
    "    Note #1: You have to use the `get_index` (and get_doc_lengths) function\n",
    "        created in the previous cells\n",
    "    Input:\n",
    "        query - a (unprocessed) query\n",
    "        index_set - the index to use\n",
    "    Output: a list of (document_id, score), sorted in descending relevance\n",
    "        to the given query\n",
    "    \"\"\"\n",
    "    index = get_index(index_set)\n",
    "    doc_lengths = get_doc_lengths(index_set)\n",
    "    processed_query = preprocess_query(query, index_set)\n",
    "    # YOUR CODE HERE\n",
    "    results = {}\n",
    "    \n",
    "    for token in processed_query:\n",
    "        # convert to dictionary for fast lookup\n",
    "        token_counts = dict(index[token])\n",
    "        for doc_id in doc_lengths.keys():\n",
    "            if doc_id not in token_counts:\n",
    "                # because token count is 0\n",
    "                p_qD = 0\n",
    "            else:\n",
    "                # otherwise we're able to get the tok count and proceed with computation\n",
    "                token_count = token_counts[doc_id]\n",
    "                p_qD = token_count / doc_lengths[doc_id]\n",
    "            if doc_id not in results:\n",
    "                results[doc_id] = p_qD\n",
    "            else:\n",
    "                results[doc_id] *= p_qD\n",
    "    results = sorted(list(results.items()), key=lambda x: x[1], reverse=True)\n",
    "    return results"
   ]
  },
  {
   "cell_type": "code",
   "execution_count": 38,
   "metadata": {
    "cell_id": "00060-7b8590ee-afcd-44ee-b551-3938924f8c30",
    "deepnote_cell_height": 285.125,
    "deepnote_cell_type": "code",
    "deepnote_to_be_reexecuted": false,
    "deletable": false,
    "editable": false,
    "execution_millis": 0,
    "execution_start": 1645186539699,
    "nbgrader": {
     "cell_type": "code",
     "checksum": "b550d15bdad28354c336020a00c33d56",
     "grade": true,
     "grade_id": "cell-5a83ac12ecde8578",
     "locked": true,
     "points": 3,
     "schema_version": 3,
     "solution": false,
     "task": false
    },
    "source_hash": "54190022"
   },
   "outputs": [
    {
     "name": "stdout",
     "output_type": "stream",
     "text": [
      "Naive QL Results:\n",
      "Rank 0(0.2): A Report Writer For COBOL...\n",
      "Rank 1(0.2): A CRT Report Generating System...\n",
      "Rank 2(0.17): Preliminary Report-International Algebraic Languag...\n",
      "Rank 3(0.17): Supplement to the ALGOL 60 Report...\n",
      "Rank 4(0.14): ALGOL Sub-Committee Report - Extensions...\n"
     ]
    }
   ],
   "source": [
    "#### Function check\n",
    "test_naiveql = naive_ql_search(\"report\", index_set=1)[:5]\n",
    "print(f\"Naive QL Results:\")\n",
    "print_results(test_naiveql)\n",
    "####"
   ]
  },
  {
   "cell_type": "code",
   "execution_count": 39,
   "metadata": {
    "cell_id": "00061-82ac6743-087a-40be-8e13-c83e9cc51509",
    "deepnote_cell_height": 81,
    "deepnote_cell_type": "code",
    "deepnote_to_be_reexecuted": false,
    "deletable": false,
    "editable": false,
    "execution_millis": 30,
    "execution_start": 1645186539742,
    "nbgrader": {
     "cell_type": "code",
     "checksum": "799df1d81c63fe90edbb6c218fc707fb",
     "grade": true,
     "grade_id": "cell-80f4bf2137f997bb",
     "locked": true,
     "points": 2,
     "schema_version": 3,
     "solution": false,
     "task": false
    },
    "source_hash": "28110d30"
   },
   "outputs": [],
   "source": [
    "#### Please do not change this. This cell is used for grading."
   ]
  },
  {
   "cell_type": "code",
   "execution_count": 40,
   "metadata": {
    "cell_id": "00062-17e1b311-2247-4c85-9402-b644f1f66b12",
    "deepnote_cell_height": 81,
    "deepnote_cell_type": "code",
    "deepnote_to_be_reexecuted": false,
    "deletable": false,
    "editable": false,
    "execution_millis": 11244764,
    "execution_start": 1645186539743,
    "nbgrader": {
     "cell_type": "code",
     "checksum": "875a4a517d27e20625d41783cebec118",
     "grade": true,
     "grade_id": "cell-5ce2993458a8ce51",
     "locked": true,
     "points": 3,
     "schema_version": 3,
     "solution": false,
     "task": false
    },
    "source_hash": "28110d30"
   },
   "outputs": [],
   "source": [
    "#### Please do not change this. This cell is used for grading."
   ]
  },
  {
   "cell_type": "code",
   "execution_count": 41,
   "metadata": {
    "cell_id": "00063-21abc448-96e9-40fc-82a7-478035610266",
    "deepnote_cell_height": 81,
    "deepnote_cell_type": "code",
    "deepnote_to_be_reexecuted": false,
    "deletable": false,
    "editable": false,
    "execution_millis": 11244759,
    "execution_start": 1645186539750,
    "nbgrader": {
     "cell_type": "code",
     "checksum": "d5c4e1c3852e71a46f32825b122f1b71",
     "grade": true,
     "grade_id": "cell-7753bdb54e292f3d",
     "locked": true,
     "points": 3,
     "schema_version": 3,
     "solution": false,
     "task": false
    },
    "source_hash": "28110d30"
   },
   "outputs": [],
   "source": [
    "#### Please do not change this. This cell is used for grading."
   ]
  },
  {
   "cell_type": "code",
   "execution_count": 42,
   "metadata": {
    "cell_id": "00064-47b977bf-c1c9-4960-8ecc-f146211b3336",
    "deepnote_cell_height": 81,
    "deepnote_cell_type": "code",
    "deepnote_to_be_reexecuted": false,
    "deletable": false,
    "editable": false,
    "execution_millis": 11244752,
    "execution_start": 1645186539809,
    "nbgrader": {
     "cell_type": "code",
     "checksum": "c4d4332d4356e89ce0240f6b80e1899a",
     "grade": true,
     "grade_id": "cell-54e476e2f96e64bb",
     "locked": true,
     "points": 4,
     "schema_version": 3,
     "solution": false,
     "task": false
    },
    "source_hash": "28110d30"
   },
   "outputs": [],
   "source": [
    "#### Please do not change this. This cell is used for grading."
   ]
  },
  {
   "cell_type": "markdown",
   "metadata": {
    "cell_id": "00065-1a6eeeea-9611-4e55-bf52-1adfe9cd668f",
    "deepnote_cell_height": 156.59375,
    "deepnote_cell_type": "markdown",
    "deletable": false,
    "editable": false,
    "nbgrader": {
     "cell_type": "markdown",
     "checksum": "8d739dc91a22bd48897f603885f95a74",
     "grade": false,
     "grade_id": "cell-5414dfd69dab8b94",
     "locked": true,
     "schema_version": 3,
     "solution": false,
     "task": false
    }
   },
   "source": [
    "---\n",
    "#### 3.3.2 QL (20 points)\n",
    "Now, let's implement a QL model that handles the issues with the naive version. In particular, you will implement a QL model with Jelinek-Mercer Smoothing. That means an interpolated score is computed per word - one term is the same as the previous naive version, and the second term comes from a unigram language model. In addition, you should accumulate the scores by summing the **log** (smoothed) probability which leads to better numerical stability."
   ]
  },
  {
   "cell_type": "code",
   "execution_count": 43,
   "metadata": {
    "cell_id": "00066-3fb59861-7bc5-497f-951b-c221eb02258c",
    "deepnote_cell_height": 1125,
    "deepnote_cell_type": "code",
    "deepnote_to_be_reexecuted": false,
    "deletable": false,
    "execution_millis": 11244761,
    "execution_start": 1645186539809,
    "nbgrader": {
     "cell_type": "code",
     "checksum": "b8c6abf937ad333e628f1db891f2e29e",
     "grade": false,
     "grade_id": "cell-bb1f506409771257",
     "locked": false,
     "schema_version": 3,
     "solution": true,
     "task": false
    },
    "source_hash": "2f2ddee4"
   },
   "outputs": [],
   "source": [
    "# TODO: Implement this! (20 points)\n",
    "\n",
    "\n",
    "def ql_search(query, index_set):\n",
    "    \"\"\"\n",
    "    Perform a search over all documents with the given query using a QL model\n",
    "    with Jelinek-Mercer Smoothing (set smoothing=0.1).\n",
    "\n",
    "    Note #1: You have to use the `get_index` (and get_doc_lengths) function\n",
    "        created in the previous cells\n",
    "    Note #2: You might have to create some variables beforehand and\n",
    "        use them in this function\n",
    "\n",
    "    Input:\n",
    "        query - a (unprocessed) query\n",
    "        index_set - the index to use\n",
    "    Output: a list of (document_id, score), sorted in descending relevance\n",
    "        to the given query\n",
    "    \"\"\"\n",
    "    index = get_index(index_set)\n",
    "    doc_lengths = get_doc_lengths(index_set)\n",
    "    processed_query = preprocess_query(query, index_set)\n",
    "\n",
    "    # YOUR CODE HERE\n",
    "    # total number of words in the collection\n",
    "    C = sum(list(doc_lengths.values()))\n",
    "    # \"(set smoothing=0.1)\"\n",
    "    lambd = 0.1\n",
    "    results = {}\n",
    "    for token in processed_query:\n",
    "        # skip tokens not in docs\n",
    "        if not index[token]:\n",
    "            continue\n",
    "        # mapping from to doc_id to count for this token\n",
    "        doc_to_count = {}\n",
    "        # total count of token across the collection\n",
    "        total_tok_count = 0\n",
    "        for doc, tok_count in index[token]:\n",
    "            doc_to_count[doc] = tok_count\n",
    "            total_tok_count += tok_count\n",
    "\n",
    "        # check each document in our collection, to catch token counts of 0\n",
    "        for document_id, doc_length in doc_lengths.items():\n",
    "            if document_id in doc_to_count:\n",
    "                token_count = doc_to_count[document_id]\n",
    "            else:\n",
    "                token_count = 0\n",
    "            # page 257 of Croft et al.\n",
    "            p_qD = np.log(\n",
    "                (1 - lambd) * token_count / doc_lengths[document_id]\n",
    "                + lambd * total_tok_count / C\n",
    "            )\n",
    "            if document_id not in results:\n",
    "                results[document_id] = p_qD\n",
    "            else:\n",
    "                results[document_id] += p_qD\n",
    "\n",
    "    # convert documents to list and sort descending\n",
    "    results = sorted(list(results.items()), key=lambda x: x[1], reverse=True)\n",
    "    return results"
   ]
  },
  {
   "cell_type": "code",
   "execution_count": 44,
   "metadata": {
    "cell_id": "00067-490d8cb9-33a4-47fc-9c15-ad1b4c455132",
    "deepnote_cell_height": 422.0625,
    "deepnote_cell_type": "code",
    "deepnote_to_be_reexecuted": false,
    "deletable": false,
    "editable": false,
    "execution_millis": 121,
    "execution_start": 1645186539852,
    "is_code_hidden": false,
    "nbgrader": {
     "cell_type": "code",
     "checksum": "0b12a7f3355193a257fd9f5f69a66562",
     "grade": true,
     "grade_id": "cell-850e9d6369bcec32",
     "locked": true,
     "points": 4,
     "schema_version": 3,
     "solution": false,
     "task": false
    },
    "source_hash": "4e5f7dd8"
   },
   "outputs": [
    {
     "name": "stdout",
     "output_type": "stream",
     "text": [
      "Rank 0(-1.7): A Report Writer For COBOL...\n",
      "Rank 1(-1.7): A CRT Report Generating System...\n",
      "Rank 2(-1.9): Preliminary Report-International Algebraic Languag...\n",
      "Rank 3(-1.9): Supplement to the ALGOL 60 Report...\n",
      "Rank 4(-2.1): ALGOL Sub-Committee Report - Extensions...\n",
      "\n",
      "Rank 0(-1.7e+01): A Report Writer For COBOL...\n",
      "Rank 1(-1.7e+01): A CRT Report Generating System...\n",
      "Rank 2(-1.9e+01): Preliminary Report-International Algebraic Languag...\n",
      "Rank 3(-1.9e+01): Supplement to the ALGOL 60 Report...\n",
      "Rank 4(-2.1e+01): ALGOL Sub-Committee Report - Extensions...\n"
     ]
    }
   ],
   "source": [
    "#### Function check\n",
    "test_ql_results = ql_search(\"report\", index_set=1)[:5]\n",
    "print_results(test_ql_results)\n",
    "print()\n",
    "test_ql_results_long = ql_search(\"report \" * 10, index_set=1)[:5]\n",
    "print_results(test_ql_results_long)\n",
    "####"
   ]
  },
  {
   "cell_type": "code",
   "execution_count": 45,
   "metadata": {
    "cell_id": "00068-095393c5-8e5b-4aef-9720-cfe9fae3b7c5",
    "deepnote_cell_height": 81,
    "deepnote_cell_type": "code",
    "deepnote_to_be_reexecuted": false,
    "deletable": false,
    "editable": false,
    "execution_millis": 11244810,
    "execution_start": 1645186540003,
    "nbgrader": {
     "cell_type": "code",
     "checksum": "e40be645140389c115849856145f5b59",
     "grade": true,
     "grade_id": "cell-958cdcf6fd6899b7",
     "locked": true,
     "points": 3,
     "schema_version": 3,
     "solution": false,
     "task": false
    },
    "source_hash": "28110d30"
   },
   "outputs": [],
   "source": [
    "#### Please do not change this. This cell is used for grading."
   ]
  },
  {
   "cell_type": "code",
   "execution_count": 46,
   "metadata": {
    "cell_id": "00069-4cd600e6-d694-4c40-ab70-28deb209cf19",
    "deepnote_cell_height": 81,
    "deepnote_cell_type": "code",
    "deepnote_to_be_reexecuted": false,
    "deletable": false,
    "editable": false,
    "execution_millis": 11244823,
    "execution_start": 1645186540042,
    "nbgrader": {
     "cell_type": "code",
     "checksum": "41d4aff001df17e7963ba79b45810b30",
     "grade": true,
     "grade_id": "cell-384dc23a0c251f6e",
     "locked": true,
     "points": 4,
     "schema_version": 3,
     "solution": false,
     "task": false
    },
    "source_hash": "28110d30"
   },
   "outputs": [],
   "source": [
    "#### Please do not change this. This cell is used for grading."
   ]
  },
  {
   "cell_type": "code",
   "execution_count": 47,
   "metadata": {
    "cell_id": "00070-952cb008-6963-4ca8-89f4-302b5a3ff74f",
    "deepnote_cell_height": 81,
    "deepnote_cell_type": "code",
    "deepnote_to_be_reexecuted": false,
    "deletable": false,
    "editable": false,
    "execution_millis": 11244838,
    "execution_start": 1645186540086,
    "nbgrader": {
     "cell_type": "code",
     "checksum": "893e8c5a073abc8ebb763d267b91bc02",
     "grade": true,
     "grade_id": "cell-7218966cba5097cc",
     "locked": true,
     "points": 4,
     "schema_version": 3,
     "solution": false,
     "task": false
    },
    "source_hash": "28110d30"
   },
   "outputs": [],
   "source": [
    "#### Please do not change this. This cell is used for grading."
   ]
  },
  {
   "cell_type": "code",
   "execution_count": 48,
   "metadata": {
    "cell_id": "00071-6752fe8b-7f1e-4fbc-a1c8-8a5f9876a4c4",
    "deepnote_cell_height": 81,
    "deepnote_cell_type": "code",
    "deepnote_to_be_reexecuted": false,
    "deletable": false,
    "editable": false,
    "execution_millis": 11244853,
    "execution_start": 1645186540123,
    "nbgrader": {
     "cell_type": "code",
     "checksum": "f99cb6f8b1f5830aaed8f06712ff846e",
     "grade": true,
     "grade_id": "cell-481ab073259ae53f",
     "locked": true,
     "points": 5,
     "schema_version": 3,
     "solution": false,
     "task": false
    },
    "source_hash": "28110d30"
   },
   "outputs": [],
   "source": [
    "#### Please do not change this. This cell is used for grading."
   ]
  },
  {
   "cell_type": "markdown",
   "metadata": {
    "cell_id": "00072-927d2e01-1b15-4854-a903-2a2472ecb63b",
    "deepnote_cell_height": 127,
    "deepnote_cell_type": "markdown",
    "deletable": false,
    "editable": false,
    "nbgrader": {
     "cell_type": "markdown",
     "checksum": "c02f14705d679579b1aa9f78f54779d5",
     "grade": false,
     "grade_id": "cell-f44088bfdac1dc90",
     "locked": true,
     "schema_version": 3,
     "solution": false,
     "task": false
    }
   },
   "source": [
    "---\n",
    "\n",
    "### Section 3.4: BM25 (20 points) <a class=\"anchor\" id=\"bm25\"></a>\n",
    "\n",
    "In this section, we will implement the BM25 scoring function.\n"
   ]
  },
  {
   "cell_type": "code",
   "execution_count": 49,
   "metadata": {
    "cell_id": "00073-22161fa2-0c00-4c01-af51-4968d6b78880",
    "deepnote_cell_height": 801,
    "deepnote_cell_type": "code",
    "deepnote_to_be_reexecuted": false,
    "deletable": false,
    "execution_millis": 11244861,
    "execution_start": 1645186540177,
    "nbgrader": {
     "cell_type": "code",
     "checksum": "e57efe06ea92af1c83784a42eb3d86e0",
     "grade": false,
     "grade_id": "cell-15640fc9b5d00a3c",
     "locked": false,
     "schema_version": 3,
     "solution": true,
     "task": false
    },
    "source_hash": "991aa048"
   },
   "outputs": [],
   "source": [
    "# TODO: Implement this! (20 points)\n",
    "def bm25_search(query, index_set):\n",
    "    \"\"\"\n",
    "    Perform a search over all documents with the given query using BM25.\n",
    "    Use k_1 = 1.5 and b = 0.75\n",
    "    Note #1: You have to use the `get_index` (and `get_doc_lengths`) function\n",
    "    created in the previous cells\n",
    "    Note #2: You might have to create some variables beforehand\n",
    "    and use them in this function\n",
    "    Input:\n",
    "        query - a (unprocessed) query\n",
    "        index_set - the index to use\n",
    "    Output: a list of (document_id, score), sorted in descending\n",
    "        relevance to the given query\n",
    "    \"\"\"\n",
    "\n",
    "    index = get_index(index_set)\n",
    "    df = get_df(index_set)\n",
    "    doc_lengths = get_doc_lengths(index_set)\n",
    "    processed_query = preprocess_query(query, index_set)\n",
    "\n",
    "    # YOUR CODE HERE\n",
    "    # hard coded values\n",
    "    k_1 = 1.5\n",
    "    b = 0.75\n",
    "    # initialize our result\n",
    "    documents = defaultdict(float)\n",
    "    # average doc length and number of docs\n",
    "    ave_dl = np.mean([value for _key, value in doc_lengths.items()])\n",
    "    N = len(docs)\n",
    "    for token in processed_query:\n",
    "        for document_id, token_count in index[token]:\n",
    "            idf = np.log(N / df[token])\n",
    "            second_term = (token_count * (k_1 + 1)) / (\n",
    "                token_count + k_1 * (1 - b + b * (doc_lengths[document_id] / ave_dl))\n",
    "            )\n",
    "            documents[document_id] += idf * second_term\n",
    "    # convert documents to list and sort descending\n",
    "    documents = sorted(list(documents.items()), key=lambda x: x[1], reverse=True)\n",
    "    return documents"
   ]
  },
  {
   "cell_type": "code",
   "execution_count": 50,
   "metadata": {
    "cell_id": "00074-99930c5d-a5f8-4ead-b1d4-1bb2ada8b11b",
    "deepnote_cell_height": 246.9375,
    "deepnote_cell_type": "code",
    "deepnote_to_be_reexecuted": false,
    "deletable": false,
    "editable": false,
    "execution_millis": 11244850,
    "execution_start": 1645186540178,
    "nbgrader": {
     "cell_type": "code",
     "checksum": "4be9de5d4e94637960d83725422bea6c",
     "grade": true,
     "grade_id": "cell-d10536bca72c74b1",
     "locked": true,
     "points": 3,
     "schema_version": 3,
     "solution": false,
     "task": false
    },
    "source_hash": "e0c314c5"
   },
   "outputs": [
    {
     "name": "stdout",
     "output_type": "stream",
     "text": [
      "Rank 0(6.7): A Report Writer For COBOL...\n",
      "Rank 1(6.7): A CRT Report Generating System...\n",
      "Rank 2(6.6): Preliminary Report-International Algebraic Languag...\n",
      "Rank 3(6.6): Supplement to the ALGOL 60 Report...\n",
      "Rank 4(6.5): ALGOL Sub-Committee Report - Extensions...\n"
     ]
    }
   ],
   "source": [
    "#### Function check\n",
    "test_bm25_results = bm25_search(\"report\", index_set=1)[:5]\n",
    "print_results(test_bm25_results)\n",
    "####"
   ]
  },
  {
   "cell_type": "code",
   "execution_count": 51,
   "metadata": {
    "cell_id": "00075-42c49004-74c6-4354-a713-ab682c96123e",
    "deepnote_cell_height": 81,
    "deepnote_cell_type": "code",
    "deepnote_to_be_reexecuted": false,
    "deletable": false,
    "editable": false,
    "execution_millis": 11244838,
    "execution_start": 1645186540222,
    "nbgrader": {
     "cell_type": "code",
     "checksum": "31b550d6a46ae4f8ede88788799ac2b9",
     "grade": true,
     "grade_id": "cell-60f6ec5052712d79",
     "locked": true,
     "points": 5,
     "schema_version": 3,
     "solution": false,
     "task": false
    },
    "source_hash": "28110d30"
   },
   "outputs": [],
   "source": [
    "#### Please do not change this. This cell is used for grading."
   ]
  },
  {
   "cell_type": "code",
   "execution_count": 52,
   "metadata": {
    "cell_id": "00076-dda1edfe-5234-4b37-8700-30b331b5b71e",
    "deepnote_cell_height": 81,
    "deepnote_cell_type": "code",
    "deepnote_to_be_reexecuted": false,
    "deletable": false,
    "editable": false,
    "execution_millis": 11244835,
    "execution_start": 1645186540223,
    "nbgrader": {
     "cell_type": "code",
     "checksum": "3da2ec16bfe781916e71755d65aa2983",
     "grade": true,
     "grade_id": "cell-5d17524043a5abcc",
     "locked": true,
     "points": 5,
     "schema_version": 3,
     "solution": false,
     "task": false
    },
    "source_hash": "28110d30"
   },
   "outputs": [],
   "source": [
    "#### Please do not change this. This cell is used for grading."
   ]
  },
  {
   "cell_type": "code",
   "execution_count": 53,
   "metadata": {
    "cell_id": "00077-eb67834d-52f9-4385-a9cd-0ad481099542",
    "deepnote_cell_height": 81,
    "deepnote_cell_type": "code",
    "deepnote_to_be_reexecuted": false,
    "deletable": false,
    "editable": false,
    "execution_millis": 11244835,
    "execution_start": 1645186540265,
    "nbgrader": {
     "cell_type": "code",
     "checksum": "e7b563d54fa84c20909c0ae107010541",
     "grade": true,
     "grade_id": "cell-ff8e704eda1184e3",
     "locked": true,
     "points": 3,
     "schema_version": 3,
     "solution": false,
     "task": false
    },
    "source_hash": "28110d30"
   },
   "outputs": [],
   "source": [
    "#### Please do not change this. This cell is used for grading."
   ]
  },
  {
   "cell_type": "code",
   "execution_count": 54,
   "metadata": {
    "cell_id": "00078-4c9ec504-f3a1-44c6-b797-e96bf38a6d46",
    "deepnote_cell_height": 81,
    "deepnote_cell_type": "code",
    "deepnote_to_be_reexecuted": false,
    "deletable": false,
    "editable": false,
    "execution_millis": 11244839,
    "execution_start": 1645186540266,
    "nbgrader": {
     "cell_type": "code",
     "checksum": "b013f90974b396630a8831d6f1d7e5f7",
     "grade": true,
     "grade_id": "cell-a52310500a2543cb",
     "locked": true,
     "points": 4,
     "schema_version": 3,
     "solution": false,
     "task": false
    },
    "source_hash": "28110d30"
   },
   "outputs": [],
   "source": [
    "#### Please do not change this. This cell is used for grading."
   ]
  },
  {
   "cell_type": "markdown",
   "metadata": {
    "cell_id": "00079-f0652d37-3014-4fc5-a239-c6d5371c8167",
    "deepnote_cell_height": 127,
    "deepnote_cell_type": "markdown",
    "deletable": false,
    "editable": false,
    "nbgrader": {
     "cell_type": "markdown",
     "checksum": "8fcf67cb7d5e8b26cb9bf1f0aa42c847",
     "grade": false,
     "grade_id": "cell-8b2b412c81d62f2d",
     "locked": true,
     "schema_version": 3,
     "solution": false,
     "task": false
    }
   },
   "source": [
    "\n",
    "---\n",
    "\n",
    "### 3.5. Test Your Functions\n",
    "\n",
    "The widget below allows you to play with the search functions you've written so far. Use this to test your search functions and ensure that they work as expected."
   ]
  },
  {
   "cell_type": "code",
   "execution_count": 55,
   "metadata": {
    "cell_id": "00080-8469bb45-c42f-461c-b1dd-6fcd1ef23d8b",
    "deepnote_cell_height": 693,
    "deepnote_cell_type": "code",
    "deepnote_to_be_reexecuted": false,
    "deletable": false,
    "editable": false,
    "execution_millis": 11244825,
    "execution_start": 1645186540266,
    "lines_to_next_cell": 2,
    "nbgrader": {
     "cell_type": "code",
     "checksum": "dfeb204b390acc0794dbdcac92b0cf2c",
     "grade": false,
     "grade_id": "cell-c9c2bb76354e8d97",
     "locked": true,
     "schema_version": 3,
     "solution": false,
     "task": false
    },
    "source_hash": "ff5eb03a"
   },
   "outputs": [],
   "source": [
    "#### Highlighter function\n",
    "# class for results\n",
    "ResultRow = namedtuple(\"ResultRow\", [\"doc_id\", \"snippet\", \"score\"])\n",
    "# doc_id -> doc\n",
    "docs_by_id = dict((d[0], d[1]) for d in docs)\n",
    "\n",
    "\n",
    "def highlight_text(document, query, tol=17):\n",
    "    import re\n",
    "\n",
    "    tokens = tokenize(query)\n",
    "    regex = \"|\".join(f\"(\\\\b{t}\\\\b)\" for t in tokens)\n",
    "    regex = re.compile(regex, flags=re.IGNORECASE)\n",
    "    output = \"\"\n",
    "    i = 0\n",
    "    for m in regex.finditer(document):\n",
    "        start_idx = max(0, m.start() - tol)\n",
    "        end_idx = min(len(document), m.end() + tol)\n",
    "        output += \"\".join(\n",
    "            [\n",
    "                \"...\",\n",
    "                document[start_idx : m.start()],\n",
    "                \"<strong>\",\n",
    "                document[m.start() : m.end()],\n",
    "                \"</strong>\",\n",
    "                document[m.end() : end_idx],\n",
    "                \"...\",\n",
    "            ]\n",
    "        )\n",
    "    return output.replace(\"\\n\", \" \")\n",
    "\n",
    "\n",
    "def make_results(query, search_fn, index_set):\n",
    "    results = []\n",
    "    for doc_id, score in search_fn(query, index_set):\n",
    "        highlight = highlight_text(docs_by_id[doc_id], query)\n",
    "        if len(highlight.strip()) == 0:\n",
    "            highlight = docs_by_id[doc_id]\n",
    "        results.append(ResultRow(doc_id, highlight, score))\n",
    "    return results\n",
    "\n",
    "\n",
    "####"
   ]
  },
  {
   "cell_type": "code",
   "execution_count": 56,
   "metadata": {
    "cell_id": "00081-0f79ea92-6b27-476d-838a-7353712fe308",
    "deepnote_cell_height": 753,
    "deepnote_cell_type": "code",
    "deepnote_to_be_reexecuted": false,
    "execution_millis": 11244922,
    "execution_start": 1645186540312,
    "source_hash": "52b13204"
   },
   "outputs": [
    {
     "data": {
      "application/vnd.jupyter.widget-view+json": {
       "model_id": "400bce01a59b456c8cba1f2bf54b7e39",
       "version_major": 2,
       "version_minor": 0
      },
      "text/plain": [
       "Text(value='', description='Search Bar')"
      ]
     },
     "metadata": {},
     "output_type": "display_data"
    }
   ],
   "source": [
    "# TODO: Set this to the function you want to test!\n",
    "SEARCH_FN_NAME = \"bm25\"\n",
    "# this function should take in a query (string)\n",
    "# and return a sorted list of (doc_id, score)\n",
    "# with the most relevant document in the first position\n",
    "search_fn_dict = {\n",
    "    \"bow\": bow_search,\n",
    "    \"tfidf\": tfidf_search,\n",
    "    \"naive_ql\": naive_ql_search,\n",
    "    \"ql\": ql_search,\n",
    "    \"bm25\": bm25_search,\n",
    "}\n",
    "\n",
    "search_fn = search_fn_dict[SEARCH_FN_NAME]\n",
    "index_set = 1\n",
    "\n",
    "text = widgets.Text(description=\"Search Bar\", width=200)\n",
    "display(text)\n",
    "\n",
    "\n",
    "def handle_submit(sender):\n",
    "    print(f\"Searching for: '{sender.value}'\")\n",
    "\n",
    "    results = make_results(sender.value, search_fn, index_set)\n",
    "\n",
    "    # display only the top 5\n",
    "    results = results[:5]\n",
    "\n",
    "    body = \"\"\n",
    "    for idx, r in enumerate(results):\n",
    "        body += f\"<li>Document #{r.doc_id}({r.score}): {r.snippet}</li>\"\n",
    "    display(HTML(f\"<ul>{body}</ul>\"))\n",
    "\n",
    "\n",
    "text.on_submit(handle_submit)"
   ]
  },
  {
   "cell_type": "markdown",
   "metadata": {
    "cell_id": "00082-cd38c091-8362-48a6-b6f6-e2c167049828",
    "deepnote_cell_height": 331.140625,
    "deepnote_cell_type": "markdown",
    "deletable": false,
    "editable": false,
    "nbgrader": {
     "cell_type": "markdown",
     "checksum": "019b1ff878dc6339dd068e2d48d19904",
     "grade": false,
     "grade_id": "cell-8d46fe8e4f3d8cdb",
     "locked": true,
     "schema_version": 3,
     "solution": false,
     "task": false
    }
   },
   "source": [
    "---\n",
    "\n",
    "## Section 4: Evaluation (40 points) <a class=\"anchor\" id=\"evaluation\"></a>\n",
    "\n",
    "[Back to Part 1](#part1)\n",
    "\n",
    "In order to analyze the effectiveness of retrieval algorithms, we first have to learn how to evaluate such a system. In particular, we will work with offline evaluation metrics. These metrics are computed on a dataset with known relevance judgements.\n",
    "\n",
    "Implement the following evaluation metrics.\n",
    "\n",
    "1. Precision (7 points)\n",
    "2. Recall (7 points)\n",
    "3. Mean Average Precision (13 points)\n",
    "4. Expected Reciprocal Rank (13 points)"
   ]
  },
  {
   "cell_type": "markdown",
   "metadata": {
    "cell_id": "00083-dfad5784-4ddc-451d-9394-08c63666f402",
    "deepnote_cell_height": 123.796875,
    "deepnote_cell_type": "markdown",
    "deletable": false,
    "editable": false,
    "nbgrader": {
     "cell_type": "markdown",
     "checksum": "e46f54c7f81d88bbc950b0fae14c4ca5",
     "grade": false,
     "grade_id": "cell-3419fd3bc663d7cc",
     "locked": true,
     "schema_version": 3,
     "solution": false,
     "task": false
    }
   },
   "source": [
    "---\n",
    "### 4.1 Read relevance labels\n",
    "\n",
    "Let's take a look at the `qrels.text` file, which contains the ground truth relevance scores. The relevance labels for CACM are binary - either 0 or 1.\n"
   ]
  },
  {
   "cell_type": "code",
   "execution_count": 57,
   "metadata": {
    "cell_id": "00084-1316ed27-3c82-43e0-9359-b9e3a9d64256",
    "deepnote_cell_height": 293.875,
    "deepnote_cell_type": "code",
    "deepnote_to_be_reexecuted": false,
    "deletable": false,
    "editable": false,
    "execution_millis": 380,
    "execution_start": 1645186540313,
    "nbgrader": {
     "cell_type": "code",
     "checksum": "6c11025f5a222796f2882c73c1634799",
     "grade": false,
     "grade_id": "cell-6b738366059dde9e",
     "locked": true,
     "schema_version": 3,
     "solution": false,
     "task": false
    },
    "source_hash": "4ba3f3db"
   },
   "outputs": [
    {
     "name": "stdout",
     "output_type": "stream",
     "text": [
      "01 1410  0 0\n",
      "01 1572  0 0\n",
      "01 1605  0 0\n",
      "01 2020  0 0\n",
      "01 2358  0 0\n",
      "02 2434  0 0\n",
      "02 2863  0 0\n",
      "02 3078  0 0\n",
      "03 1134  0 0\n",
      "03 1613  0 0\n"
     ]
    }
   ],
   "source": [
    "!head ./datasets/qrels.text"
   ]
  },
  {
   "cell_type": "markdown",
   "metadata": {
    "cell_id": "00085-d6878bd5-2637-4397-a653-79961f1e8bde",
    "deepnote_cell_height": 73,
    "deepnote_cell_type": "markdown",
    "deletable": false,
    "editable": false,
    "nbgrader": {
     "cell_type": "markdown",
     "checksum": "7ce95245c1597183320d7254afde5c8e",
     "grade": false,
     "grade_id": "cell-10e16bff2753ffbb",
     "locked": true,
     "schema_version": 3,
     "solution": false,
     "task": false
    }
   },
   "source": [
    "---\n",
    "\n",
    "The first column is the query_id and the second column is the document_id. We can safely ignore the 3rd and 4th columns."
   ]
  },
  {
   "cell_type": "code",
   "execution_count": 58,
   "metadata": {
    "cell_id": "00086-5ab2237b-8b49-4a73-9063-9fc776502761",
    "deepnote_cell_height": 333,
    "deepnote_cell_type": "code",
    "deepnote_to_be_reexecuted": false,
    "deletable": false,
    "execution_millis": 0,
    "execution_start": 1645186540745,
    "nbgrader": {
     "cell_type": "code",
     "checksum": "000c6d59dce08dba0ba1e8d691dbbc2e",
     "grade": false,
     "grade_id": "cell-ee5253a4ef602fce",
     "locked": false,
     "schema_version": 3,
     "solution": true,
     "task": false
    },
    "source_hash": "c9cbc0ff"
   },
   "outputs": [],
   "source": [
    "# https://piazza.com/class/kyiksrdfk0b6te?cid=40_f1\n",
    "def read_qrels(root_folder=\"./datasets/\"):\n",
    "    \"\"\"\n",
    "    Reads the qrels.text file.\n",
    "    Output: A dictionary: query_id -> [list of relevant documents]\n",
    "    \"\"\"\n",
    "    with open(os.path.join(root_folder, \"qrels.text\")) as reader:\n",
    "        lines = reader.readlines()\n",
    "\n",
    "    from collections import defaultdict\n",
    "\n",
    "    relevant_docs = defaultdict(set)\n",
    "    for line in lines:\n",
    "        query_id, doc_id, _, _ = line.split()\n",
    "        relevant_docs[str(int(query_id))].add(doc_id)\n",
    "    return relevant_docs"
   ]
  },
  {
   "cell_type": "code",
   "execution_count": 59,
   "metadata": {
    "cell_id": "00087-b2ca4d34-5c5f-4392-85ed-a178aeee2e30",
    "deepnote_cell_height": 243,
    "deepnote_cell_type": "code",
    "deepnote_to_be_reexecuted": false,
    "deletable": false,
    "editable": false,
    "execution_millis": 59,
    "execution_start": 1645186540746,
    "nbgrader": {
     "cell_type": "code",
     "checksum": "d60caeba85c2a97d2211184a5ae91fd1",
     "grade": false,
     "grade_id": "cell-72215605fbe24f65",
     "locked": true,
     "schema_version": 3,
     "solution": false,
     "task": false
    },
    "source_hash": "23ca292a"
   },
   "outputs": [],
   "source": [
    "#### Function check\n",
    "qrels = read_qrels()\n",
    "\n",
    "assert len(qrels) == 52, \"There should be 52 queries with relevance judgements\"\n",
    "assert (\n",
    "    sum(len(j) for j in qrels.values()) == 796\n",
    "), \"There should be a total of 796 Relevance Judgements\"\n",
    "\n",
    "assert np.min(np.array([len(j) for j in qrels.values()])) == 1\n",
    "assert np.max(np.array([len(j) for j in qrels.values()])) == 51\n",
    "\n",
    "####"
   ]
  },
  {
   "cell_type": "markdown",
   "metadata": {
    "cell_id": "00088-14f1066c-7068-49a9-910c-c81e820e1a63",
    "deepnote_cell_height": 73,
    "deepnote_cell_type": "markdown",
    "deletable": false,
    "editable": false,
    "nbgrader": {
     "cell_type": "markdown",
     "checksum": "6c9e7428a52e291a2cdf92a379730d4c",
     "grade": false,
     "grade_id": "cell-176a6fb2939d0420",
     "locked": true,
     "schema_version": 3,
     "solution": false,
     "task": false
    }
   },
   "source": [
    "---\n",
    "**Note:** For a given query `query_id`, you can assume that documents *not* in `qrels[query_id]` are not relevant to `query_id`.\n"
   ]
  },
  {
   "cell_type": "markdown",
   "metadata": {
    "cell_id": "00089-e42c5a24-37db-4b0f-9db5-56563253fb35",
    "deepnote_cell_height": 101.390625,
    "deepnote_cell_type": "markdown",
    "deletable": false,
    "editable": false,
    "nbgrader": {
     "cell_type": "markdown",
     "checksum": "b26a818c7b4f7ad490e00b35ea0edd69",
     "grade": false,
     "grade_id": "cell-bd8341b72cdd89bb",
     "locked": true,
     "schema_version": 3,
     "solution": false,
     "task": false
    }
   },
   "source": [
    "---\n",
    "### 4.2 Precision (7 points)\n",
    "Implement the `precision@k` metric:"
   ]
  },
  {
   "cell_type": "code",
   "execution_count": 60,
   "metadata": {
    "cell_id": "00090-10b53f18-7e8d-43d4-b563-680628c40545",
    "deepnote_cell_height": 333,
    "deepnote_cell_type": "code",
    "deepnote_to_be_reexecuted": false,
    "deletable": false,
    "execution_millis": 0,
    "execution_start": 1645186540806,
    "nbgrader": {
     "cell_type": "code",
     "checksum": "43dea1979ebdec24ffcfeff71c670433",
     "grade": false,
     "grade_id": "cell-494bd0cce108ed67",
     "locked": false,
     "schema_version": 3,
     "solution": true,
     "task": false
    },
    "source_hash": "b26a2b3c"
   },
   "outputs": [],
   "source": [
    "# TODO: Implement this! (7 points)\n",
    "def precision_k(results, relevant_docs, k):\n",
    "    \"\"\"\n",
    "    Compute Precision@K\n",
    "    Input:\n",
    "        results: A sorted list of 2-tuples (document_id, score),\n",
    "                with the most relevant document in the first position\n",
    "        relevant_docs: A set of relevant documents.\n",
    "        k: the cut-off\n",
    "    Output: Precision@K\n",
    "    \"\"\"\n",
    "    if k > len(results):\n",
    "        k = len(results)\n",
    "    # YOUR CODE HERE\n",
    "    return np.mean([doc_id in relevant_docs for doc_id, _score in results[:k]])"
   ]
  },
  {
   "cell_type": "code",
   "execution_count": 61,
   "metadata": {
    "cell_id": "00091-fa6b1685-64b1-424e-af93-8f763660db0f",
    "deepnote_cell_height": 296.5625,
    "deepnote_cell_type": "code",
    "deepnote_to_be_reexecuted": false,
    "deletable": false,
    "editable": false,
    "execution_millis": 320,
    "execution_start": 1645186540809,
    "nbgrader": {
     "cell_type": "code",
     "checksum": "9222e35582b1840ffb60fd02fb0b60c3",
     "grade": true,
     "grade_id": "cell-e7ff0d91c319ca64",
     "locked": true,
     "points": 7,
     "schema_version": 3,
     "solution": false,
     "task": false
    },
    "source_hash": "1417a891"
   },
   "outputs": [
    {
     "name": "stdout",
     "output_type": "stream",
     "text": [
      "query: What articles exist which deal with TSS (Time Sharing System), an\n",
      "operating system for IBM computers?\n",
      "precision@10 = 0.2\n"
     ]
    }
   ],
   "source": [
    "#### Function check\n",
    "qid = queries[0][0]\n",
    "qtext = queries[0][1]\n",
    "print(f\"query:{qtext}\")\n",
    "results = bm25_search(qtext, 2)\n",
    "precision = precision_k(results, qrels[qid], 10)\n",
    "print(f\"precision@10 = {precision}\")\n",
    "####"
   ]
  },
  {
   "cell_type": "markdown",
   "metadata": {
    "cell_id": "00092-573df961-c83e-4116-af98-2954707eb21e",
    "deepnote_cell_height": 101.390625,
    "deepnote_cell_type": "markdown",
    "deletable": false,
    "editable": false,
    "nbgrader": {
     "cell_type": "markdown",
     "checksum": "8fd3b3998197c7097a40348500affb68",
     "grade": false,
     "grade_id": "cell-afd95f865bc7191e",
     "locked": true,
     "schema_version": 3,
     "solution": false,
     "task": false
    }
   },
   "source": [
    "---\n",
    "### 4.3 Recall (7 points)\n",
    "Implement the `recall@k` metric:"
   ]
  },
  {
   "cell_type": "code",
   "execution_count": 62,
   "metadata": {
    "cell_id": "00093-73affea1-1e53-4344-8a1f-55a1c3a18966",
    "deepnote_cell_height": 495,
    "deepnote_cell_type": "code",
    "deepnote_to_be_reexecuted": false,
    "deletable": false,
    "execution_millis": 1,
    "execution_start": 1645186541031,
    "nbgrader": {
     "cell_type": "code",
     "checksum": "b2020e5741ae03b3fe35817ed8f4ccaa",
     "grade": false,
     "grade_id": "cell-c323fc8c3f8a7cf8",
     "locked": false,
     "schema_version": 3,
     "solution": true,
     "task": false
    },
    "source_hash": "7a605edf"
   },
   "outputs": [],
   "source": [
    "# TODO: Implement this! (7 points)\n",
    "def recall_k(results, relevant_docs, k):\n",
    "    \"\"\"\n",
    "    Compute Recall@K\n",
    "    Input:\n",
    "        results: A sorted list of 2-tuples (document_id, score),\n",
    "            with the most relevant document in the first position\n",
    "        relevant_docs: A set of relevant documents.\n",
    "        k: the cut-off\n",
    "    Output: Recall@K\n",
    "    \"\"\"\n",
    "    # YOUR CODE HERE\n",
    "    tp = 0.0\n",
    "    fn = 0.0\n",
    "    for i, (doc_id, _score) in enumerate(results, 1):\n",
    "        if doc_id in relevant_docs:\n",
    "            if i <= k:\n",
    "                tp += 1\n",
    "            else:\n",
    "                fn += 1\n",
    "    try:\n",
    "        return tp / (tp + fn)\n",
    "    except ZeroDivisionError:\n",
    "        return 0.0"
   ]
  },
  {
   "cell_type": "code",
   "execution_count": 63,
   "metadata": {
    "cell_id": "00094-bf429fa0-2840-4cae-bab1-cb99f0a3d3d3",
    "deepnote_cell_height": 258.375,
    "deepnote_cell_type": "code",
    "deepnote_to_be_reexecuted": false,
    "deletable": false,
    "editable": false,
    "execution_millis": 98,
    "execution_start": 1645186541033,
    "nbgrader": {
     "cell_type": "code",
     "checksum": "56b6e0b8522f8b2dffbfb3206b2efa84",
     "grade": true,
     "grade_id": "cell-b25172161aef165c",
     "locked": true,
     "points": 7,
     "schema_version": 3,
     "solution": false,
     "task": false
    },
    "source_hash": "a5ebd603"
   },
   "outputs": [
    {
     "name": "stdout",
     "output_type": "stream",
     "text": [
      "query: SETL, Very High Level Languages\n",
      "recall@10 = 0.3157894736842105\n"
     ]
    }
   ],
   "source": [
    "#### Function check\n",
    "qid = queries[10][0]\n",
    "qtext = queries[10][1]\n",
    "print(f\"query:{qtext}\")\n",
    "results = bm25_search(qtext, 2)\n",
    "recall = recall_k(results, qrels[qid], 10)\n",
    "print(f\"recall@10 = {recall}\")\n",
    "####"
   ]
  },
  {
   "cell_type": "markdown",
   "metadata": {
    "cell_id": "00095-1445fa1d-3d88-4eb1-9592-5a6cba32701b",
    "deepnote_cell_height": 101.390625,
    "deepnote_cell_type": "markdown",
    "deletable": false,
    "editable": false,
    "nbgrader": {
     "cell_type": "markdown",
     "checksum": "b3d3c7bd1cd977cd07ef5df7d3fbf159",
     "grade": false,
     "grade_id": "cell-77fd2e7a39a74739",
     "locked": true,
     "schema_version": 3,
     "solution": false,
     "task": false
    }
   },
   "source": [
    "---\n",
    "### 4.4 Mean Average Precision (13 points)\n",
    "Implement the `map` metric:"
   ]
  },
  {
   "cell_type": "code",
   "execution_count": 64,
   "metadata": {
    "cell_id": "00096-6935fc09-3410-4008-ab25-df992be775e4",
    "deepnote_cell_height": 387,
    "deepnote_cell_type": "code",
    "deepnote_to_be_reexecuted": false,
    "deletable": false,
    "execution_millis": 1,
    "execution_start": 1645186541058,
    "nbgrader": {
     "cell_type": "code",
     "checksum": "aae2c62f2ffd76f5b6c004e9519b9f14",
     "grade": false,
     "grade_id": "cell-e50925fa9093a30d",
     "locked": false,
     "schema_version": 3,
     "solution": true,
     "task": false
    },
    "source_hash": "9a3733da"
   },
   "outputs": [],
   "source": [
    "# TODO: Implement this! (12 points)\n",
    "def average_precision(results, relevant_docs):\n",
    "    \"\"\"\n",
    "    Compute Average Precision (for a single query - the results are\n",
    "    averaged across queries to get MAP in the next few cells)\n",
    "    Hint: You can use the recall_k and precision_k functions here!\n",
    "    Input:\n",
    "        results: A sorted list of 2-tuples (document_id, score), with the most\n",
    "                relevant document in the first position\n",
    "        relevant_docs: A set of relevant documents.\n",
    "    Output: Average Precision\n",
    "    \"\"\"\n",
    "    # YOUR CODE HERE\n",
    "    relevances = np.array(\n",
    "        [doc_id in relevant_docs for doc_id, _score in results]\n",
    "    ).astype(np.float_)\n",
    "\n",
    "    last_relevance = np.argmax(relevances[::-1]) + 1\n",
    "    # dont need to check beyond last relevance\n",
    "    results = results[: -last_relevance + 1]\n",
    "    # can now get precisions\n",
    "    N = len(results)\n",
    "    precisions = np.array(\n",
    "        [precision_k(results, relevant_docs, n) for n in range(1, N + 1)]\n",
    "    )\n",
    "    relevances = relevances[: -last_relevance + 1]\n",
    "    ave_p = np.sum((precisions * relevances)) / len(relevant_docs)\n",
    "    return ave_p"
   ]
  },
  {
   "cell_type": "code",
   "execution_count": 65,
   "metadata": {
    "cell_id": "00097-d194398d-53a0-4cd3-a940-4d78e7ce289a",
    "deepnote_cell_height": 278.5625,
    "deepnote_cell_type": "code",
    "deepnote_to_be_reexecuted": false,
    "deletable": false,
    "editable": false,
    "execution_millis": 1266,
    "execution_start": 1645186541145,
    "nbgrader": {
     "cell_type": "code",
     "checksum": "3b00e147c2fa146fa59f179b7c9cab75",
     "grade": true,
     "grade_id": "cell-8a1f7ec98571e58b",
     "locked": true,
     "points": 13,
     "schema_version": 3,
     "solution": false,
     "task": false
    },
    "source_hash": "501861e7"
   },
   "outputs": [
    {
     "name": "stdout",
     "output_type": "stream",
     "text": [
      "query: computational complexity, intractability, class-complete reductions,\n",
      "algorithms and efficiency\n",
      "MAP = 0.1724040411055945\n"
     ]
    }
   ],
   "source": [
    "#### Function check\n",
    "qid = queries[20][0]\n",
    "qtext = queries[20][1]\n",
    "print(f\"query:{qtext}\")\n",
    "results = bm25_search(qtext, 2)\n",
    "mean_ap = average_precision(results, qrels[qid])\n",
    "print(f\"MAP = {mean_ap}\")\n",
    "####"
   ]
  },
  {
   "cell_type": "markdown",
   "metadata": {
    "cell_id": "00098-ff07922a-b997-4d0a-b0b2-16a258d55e09",
    "deepnote_cell_height": 101.390625,
    "deepnote_cell_type": "markdown",
    "deletable": false,
    "editable": false,
    "nbgrader": {
     "cell_type": "markdown",
     "checksum": "36f85f45ef52d9467ba9a717d6d99ff2",
     "grade": false,
     "grade_id": "cell-1da18f0fe6f6d7be",
     "locked": true,
     "schema_version": 3,
     "solution": false,
     "task": false
    }
   },
   "source": [
    "---\n",
    "### 4.5 Expected Reciprocal Rank (13 points)\n",
    "Implement the `err` metric:"
   ]
  },
  {
   "cell_type": "code",
   "execution_count": 66,
   "metadata": {
    "cell_id": "00099-6f85eb2c-52dd-4893-9795-701a871bbb68",
    "deepnote_cell_height": 459,
    "deepnote_cell_type": "code",
    "deepnote_to_be_reexecuted": false,
    "deletable": false,
    "execution_millis": 39,
    "execution_start": 1645186542452,
    "nbgrader": {
     "cell_type": "code",
     "checksum": "9ac94db728e23ea1f5dc0d509473c6fb",
     "grade": false,
     "grade_id": "cell-64262889f9b267ea",
     "locked": false,
     "schema_version": 3,
     "solution": true,
     "task": false
    },
    "source_hash": "337046c"
   },
   "outputs": [],
   "source": [
    "# TODO: Implement this! (12 points)\n",
    "def err(results, relevant_docs):\n",
    "    \"\"\"\n",
    "    Compute the expected reciprocal rank.\n",
    "    Hint: https://dl.acm.org/doi/pdf/10.1145/1645953.1646033?download=true\n",
    "    Input:\n",
    "        results: A sorted list of 2-tuples (document_id, score), with the most\n",
    "            relevant document in the first position\n",
    "        relevant_docs: A set of relevant documents.\n",
    "    Output: ERR (float)\n",
    "\n",
    "    \"\"\"\n",
    "    # YOUR CODE HERE\n",
    "    exp_rec_rank = 0\n",
    "    p = 1\n",
    "    for rank, (doc_id, score) in enumerate(results, 1):\n",
    "        grade = 1 if doc_id in relevant_docs else 0\n",
    "        relevance_prob = (2**grade - 1) / 2\n",
    "        exp_rec_rank += p * (relevance_prob / rank)\n",
    "        p *= 1 - relevance_prob\n",
    "    return exp_rec_rank"
   ]
  },
  {
   "cell_type": "code",
   "execution_count": 67,
   "metadata": {
    "cell_id": "00100-d301d6c2-210d-4182-8817-b2c392d7d10e",
    "deepnote_cell_height": 359.3125,
    "deepnote_cell_type": "code",
    "deepnote_to_be_reexecuted": false,
    "deletable": false,
    "editable": false,
    "execution_millis": 223,
    "execution_start": 1645186542501,
    "nbgrader": {
     "cell_type": "code",
     "checksum": "b7d201de0990b69d5f38704668665d87",
     "grade": true,
     "grade_id": "cell-071e3970ff1afae4",
     "locked": true,
     "points": 13,
     "schema_version": 3,
     "solution": false,
     "task": false
    },
    "source_hash": "c244fd0a"
   },
   "outputs": [
    {
     "name": "stdout",
     "output_type": "stream",
     "text": [
      "qPuery: I'd like to find articles describing the use of singular value decomposition\n",
      "in digital image processing.  Applications include finding approximations\n",
      "to the original image and restoring images that are subject to noise. An\n",
      "article on the subject is H.C. Andrews and C.L. Patterson \"Outer product\n",
      "expansions and their uses in digital image processing\", American Mathematical\n",
      "Monthly, vol. 82.\n",
      "ERR = 0.625\n"
     ]
    }
   ],
   "source": [
    "#### Function check\n",
    "qid = queries[30][0]\n",
    "qtext = queries[30][1]\n",
    "print(f\"qPuery:{qtext}\")\n",
    "results = bm25_search(qtext, 2)\n",
    "ERR = err(results, qrels[qid])\n",
    "print(f\"ERR = {ERR}\")\n",
    "####"
   ]
  },
  {
   "cell_type": "markdown",
   "metadata": {
    "cell_id": "00101-5c45197a-8f43-4e13-b24d-0ef1ad533eef",
    "deepnote_cell_height": 101.390625,
    "deepnote_cell_type": "markdown",
    "deletable": false,
    "editable": false,
    "nbgrader": {
     "cell_type": "markdown",
     "checksum": "5bd94caf77cfa5f34675df758d91002d",
     "grade": false,
     "grade_id": "cell-43709a765f353946",
     "locked": true,
     "schema_version": 3,
     "solution": false,
     "task": false
    }
   },
   "source": [
    "---\n",
    "### 4.6 Evaluate Search Functions\n",
    "\n",
    "Let's define some metrics@k using [partial functions](https://docs.python.org/3/library/functools.html#functools.partial)"
   ]
  },
  {
   "cell_type": "code",
   "execution_count": 68,
   "metadata": {
    "cell_id": "00102-442bc886-57e2-4c21-b7ad-b01e86ff2f2b",
    "deepnote_cell_height": 423,
    "deepnote_cell_type": "code",
    "deepnote_to_be_reexecuted": false,
    "deletable": false,
    "editable": false,
    "execution_millis": 1,
    "execution_start": 1645186542781,
    "nbgrader": {
     "cell_type": "code",
     "checksum": "49ccc158e5fb7340ace55e90eeb9d62a",
     "grade": false,
     "grade_id": "cell-dab560e18e340da8",
     "locked": true,
     "schema_version": 3,
     "solution": false,
     "task": false
    },
    "source_hash": "984c969a"
   },
   "outputs": [],
   "source": [
    "#### metrics@k functions\n",
    "\n",
    "recall_at_1 = partial(recall_k, k=1)\n",
    "recall_at_5 = partial(recall_k, k=5)\n",
    "recall_at_10 = partial(recall_k, k=10)\n",
    "precision_at_1 = partial(precision_k, k=1)\n",
    "precision_at_5 = partial(precision_k, k=5)\n",
    "precision_at_10 = partial(precision_k, k=10)\n",
    "\n",
    "\n",
    "list_of_metrics = [\n",
    "    (\"ERR\", err),\n",
    "    (\"MAP\", average_precision),\n",
    "    (\"Recall@1\", recall_at_1),\n",
    "    (\"Recall@5\", recall_at_5),\n",
    "    (\"Recall@10\", recall_at_10),\n",
    "    (\"Precision@1\", precision_at_1),\n",
    "    (\"Precision@5\", precision_at_5),\n",
    "    (\"Precision@10\", precision_at_10),\n",
    "]"
   ]
  },
  {
   "cell_type": "markdown",
   "metadata": {
    "cell_id": "00103-62e2b5c1-7f8b-4b73-8459-45dac6ed6b05",
    "deepnote_cell_height": 91,
    "deepnote_cell_type": "markdown",
    "deletable": false,
    "editable": false,
    "nbgrader": {
     "cell_type": "markdown",
     "checksum": "fb541002c03221b453b8936290020ea5",
     "grade": false,
     "grade_id": "cell-580a2bdc66d03b47",
     "locked": true,
     "schema_version": 3,
     "solution": false,
     "task": false
    }
   },
   "source": [
    "---\n",
    "\n",
    "The following function evaluates a `search_fn` using the `metric_fn`. Note that the final number is averaged over all the queries"
   ]
  },
  {
   "cell_type": "code",
   "execution_count": 69,
   "metadata": {
    "cell_id": "00104-cc282062-26b4-45c1-8dfa-9b8ca0fc9ed5",
    "deepnote_cell_height": 783,
    "deepnote_cell_type": "code",
    "deepnote_to_be_reexecuted": false,
    "execution_millis": 1,
    "execution_start": 1645186542825,
    "lines_to_next_cell": 2,
    "source_hash": "647a95c2"
   },
   "outputs": [],
   "source": [
    "#### Evaluate a search function\n",
    "\n",
    "list_of_search_fns = [\n",
    "    (\"BOW\", bow_search),\n",
    "    (\"TF-IDF\", tfidf_search),\n",
    "    (\"NaiveQL\", naive_ql_search),\n",
    "    (\"QL\", ql_search),\n",
    "    (\"BM25\", bm25_search),\n",
    "]\n",
    "\n",
    "\n",
    "def evaluate_search_fn(search_fn, metric_fns, index_set=None):\n",
    "    # build a dict query_id -> query\n",
    "    queries_by_id = dict((q[0], q[1]) for q in queries)\n",
    "\n",
    "    metrics = {}\n",
    "    for metric, metric_fn in metric_fns:\n",
    "        metrics[metric] = np.zeros(len(qrels), dtype=np.float32)\n",
    "\n",
    "    # original version\n",
    "    for i, (query_id, relevant_docs) in enumerate(qrels.items()):\n",
    "        query = queries_by_id[query_id]\n",
    "        if index_set:\n",
    "            results = search_fn(query, index_set)\n",
    "        else:\n",
    "            results = search_fn(query)\n",
    "\n",
    "        for metric, metric_fn in metric_fns:\n",
    "            metrics[metric][i] = metric_fn(results, relevant_docs)\n",
    "\n",
    "    final_dict = {}\n",
    "    for metric, metric_vals in metrics.items():\n",
    "        final_dict[metric] = metric_vals.mean()\n",
    "\n",
    "    # fast version for debugging plot\n",
    "    # final_dict = {}\n",
    "    # for metric, metric_vals in metrics.items():\n",
    "    #     final_dict[metric] = metric_vals.mean() + 0.5\n",
    "\n",
    "    return final_dict\n",
    "\n",
    "\n",
    "####"
   ]
  },
  {
   "cell_type": "markdown",
   "metadata": {
    "cell_id": "00105-ba71254a-76a2-4a05-a0a0-148bcf0d753f",
    "deepnote_cell_height": 411.59375,
    "deepnote_cell_type": "markdown",
    "deletable": false,
    "editable": false,
    "nbgrader": {
     "cell_type": "markdown",
     "checksum": "6ea67534f74a8f81e1f504794f641709",
     "grade": false,
     "grade_id": "cell-b156d83a0649cbb4",
     "locked": true,
     "schema_version": 3,
     "solution": false,
     "task": false
    }
   },
   "source": [
    "## Section 5: Analysis (30 points) <a class=\"anchor\" id=\"analysis\"></a>\n",
    "\n",
    "[Back to Part 1](#part1)\n",
    "\n",
    "In the final section of Part1, we will compare the different term-based IR algorithms and different preprocessing configurations and analyze their advantages and disadvantages.\n",
    "\n",
    "### Section 5.1: Plot (20 points)\n",
    "\n",
    "First, gather the results. The results should consider the index set, the different search functions and different metrics. Plot the results in bar charts, per metric, with clear labels.\n",
    "\n",
    "**Rubric:**\n",
    "- Each Metric is plotted: 7 points\n",
    "- Each Method is plotted: 7 points\n",
    "- Clear titles, x label, y labels and legends (if applicable): 6 points"
   ]
  },
  {
   "cell_type": "code",
   "execution_count": 70,
   "metadata": {
    "cell_id": "00106-7e245371-4141-4e15-a142-53d98c682cb7",
    "deepnote_cell_height": 729,
    "deepnote_cell_type": "code",
    "deepnote_output_heights": [
     470.984375
    ],
    "deepnote_to_be_reexecuted": false,
    "deletable": false,
    "execution_millis": 0,
    "execution_start": 1645186542869,
    "nbgrader": {
     "cell_type": "code",
     "checksum": "7e2588a925d13ddf588abe8311dc9cfc",
     "grade": true,
     "grade_id": "cell-46fda42a25863a04",
     "locked": false,
     "points": 20,
     "schema_version": 3,
     "solution": true,
     "task": false
    },
    "source_hash": "1e18f015"
   },
   "outputs": [
    {
     "name": "stdout",
     "output_type": "stream",
     "text": [
      "\n",
      "index set 1:\n",
      "\tBOW\n",
      "{'ERR': 0.055224963,\n",
      " 'MAP': 0.03090453,\n",
      " 'Precision@1': 0.03846154,\n",
      " 'Precision@10': 0.028846154,\n",
      " 'Precision@5': 0.034615386,\n",
      " 'Recall@1': 0.0030982906,\n",
      " 'Recall@10': 0.046087656,\n",
      " 'Recall@5': 0.037126765}\n",
      "\tTF-IDF\n",
      "{'ERR': 0.30517504,\n",
      " 'MAP': 0.17810398,\n",
      " 'Precision@1': 0.3846154,\n",
      " 'Precision@10': 0.17500001,\n",
      " 'Precision@5': 0.21153846,\n",
      " 'Recall@1': 0.07476607,\n",
      " 'Recall@10': 0.22000195,\n",
      " 'Recall@5': 0.1473746}\n",
      "\tNaiveQL\n",
      "{'ERR': 0.02187399,\n",
      " 'MAP': 0.007967688,\n",
      " 'Precision@1': 0.03846154,\n",
      " 'Precision@10': 0.0076923077,\n",
      " 'Precision@5': 0.015384615,\n",
      " 'Recall@1': 0.0037774725,\n",
      " 'Recall@10': 0.008585164,\n",
      " 'Recall@5': 0.008585164}\n",
      "\tQL\n",
      "{'ERR': 0.30951288,\n",
      " 'MAP': 0.16616207,\n",
      " 'Precision@1': 0.34615386,\n",
      " 'Precision@10': 0.19423078,\n",
      " 'Precision@5': 0.25384614,\n",
      " 'Recall@1': 0.046651527,\n",
      " 'Recall@10': 0.21684042,\n",
      " 'Recall@5': 0.17031717}\n",
      "\tBM25\n",
      "{'ERR': 0.37286478,\n",
      " 'MAP': 0.22088145,\n",
      " 'Precision@1': 0.44230768,\n",
      " 'Precision@10': 0.24038464,\n",
      " 'Precision@5': 0.2846154,\n",
      " 'Recall@1': 0.066907376,\n",
      " 'Recall@10': 0.30646548,\n",
      " 'Recall@5': 0.20312355}\n",
      "\n",
      "index set 2:\n",
      "\tBOW\n",
      "{'ERR': 0.11996831,\n",
      " 'MAP': 0.0657566,\n",
      " 'Precision@1': 0.07692308,\n",
      " 'Precision@10': 0.07307692,\n",
      " 'Precision@5': 0.080769226,\n",
      " 'Recall@1': 0.010193701,\n",
      " 'Recall@10': 0.08793031,\n",
      " 'Recall@5': 0.048788056}\n",
      "\tTF-IDF\n",
      "{'ERR': 0.4148428,\n",
      " 'MAP': 0.25480694,\n",
      " 'Precision@1': 0.53846157,\n",
      " 'Precision@10': 0.25,\n",
      " 'Precision@5': 0.33846155,\n",
      " 'Recall@1': 0.10014636,\n",
      " 'Recall@10': 0.29629084,\n",
      " 'Recall@5': 0.23532662}\n",
      "\tNaiveQL\n",
      "{'ERR': 0.06400872,\n",
      " 'MAP': 0.019428182,\n",
      " 'Precision@1': 0.115384616,\n",
      " 'Precision@10': 0.025000002,\n",
      " 'Precision@5': 0.042307694,\n",
      " 'Recall@1': 0.009656762,\n",
      " 'Recall@10': 0.022477273,\n",
      " 'Recall@5': 0.01766958}\n",
      "\tQL\n",
      "{'ERR': 0.40624025,\n",
      " 'MAP': 0.24890317,\n",
      " 'Precision@1': 0.5192308,\n",
      " 'Precision@10': 0.29807693,\n",
      " 'Precision@5': 0.3692308,\n",
      " 'Recall@1': 0.07068591,\n",
      " 'Recall@10': 0.3002048,\n",
      " 'Recall@5': 0.21136688}\n",
      "\tBM25\n",
      "{'ERR': 0.426171,\n",
      " 'MAP': 0.3003765,\n",
      " 'Precision@1': 0.5192308,\n",
      " 'Precision@10': 0.31923077,\n",
      " 'Precision@5': 0.40384614,\n",
      " 'Recall@1': 0.110182874,\n",
      " 'Recall@10': 0.34614927,\n",
      " 'Recall@5': 0.25962994}\n"
     ]
    },
    {
     "data": {
      "image/png": "[encoded data removed]",
      "text/plain": [
       "<Figure size 1008x504 with 8 Axes>"
      ]
     },
     "metadata": {
      "needs_background": "light"
     },
     "output_type": "display_data"
    }
   ],
   "source": [
    "from pprint import pprint\n",
    "# YOUR CODE HERE\n",
    "# takes roughly 5 mins to run\n",
    "fig, axes = plt.subplots(2, 4, figsize=(14, 7), sharey=False)\n",
    "axes = axes.flatten()\n",
    "\n",
    "# need this to make side by side bars\n",
    "N = len(list_of_search_fns)\n",
    "method_loc = np.arange(N)\n",
    "bar_width = 0.25\n",
    "\n",
    "for j, (index_set) in enumerate([1, 2]):\n",
    "    print(f\"\\nindex set {index_set}:\")\n",
    "    results = {}\n",
    "\n",
    "    for search_alg, search_fn in list_of_search_fns:\n",
    "        results[search_alg] = evaluate_search_fn(\n",
    "            search_fn, list_of_metrics, index_set=index_set\n",
    "        )\n",
    "        print(f\"\\t{search_alg}\")\n",
    "        pprint(results[search_alg])\n",
    "\n",
    "    for i, (metric_name, _metric_fn) in enumerate(list_of_metrics):\n",
    "        metric_results = {k: v[metric_name] for k, v in results.items()}\n",
    "        labels = list(metric_results.keys())\n",
    "        values = [metric_results[label] for label in labels]\n",
    "\n",
    "        axes[i].grid(True, which=\"major\", axis=\"y\", alpha=0.35)\n",
    "        if i % 4 == 0:\n",
    "            axes[i].set_ylabel(\"Average Metric Value\")\n",
    "        if j == 0:\n",
    "            axes[i].bar(method_loc, values, bar_width, label=f\"index set {index_set}\")\n",
    "        else:\n",
    "            axes[i].bar(\n",
    "                method_loc + bar_width,\n",
    "                values,\n",
    "                bar_width,\n",
    "                label=f\"index set {index_set}\",\n",
    "            )\n",
    "            axes[i].set_xticks(method_loc + bar_width / 2)\n",
    "            axes[i].set_xticklabels(labels)\n",
    "            axes[i].set_title(metric_name)\n",
    "            if i == 7:\n",
    "                axes[i].legend()\n",
    "\n",
    "fig.suptitle(\"Comparison of different term-based IR algorithms across various Metrics\")\n",
    "fig.tight_layout(rect=[0, 0.03, 1, 0.95])\n",
    "plt.show()"
   ]
  },
  {
   "cell_type": "markdown",
   "metadata": {
    "cell_id": "00107-1573dd7e-069e-42e6-9991-2e09c5ca522c",
    "deepnote_cell_height": 146.140625,
    "deepnote_cell_type": "markdown",
    "deletable": false,
    "editable": false,
    "nbgrader": {
     "cell_type": "markdown",
     "checksum": "e88c444a0acf4e398c65e289169b75f7",
     "grade": false,
     "grade_id": "cell-8aabe3bcf265deb0",
     "locked": true,
     "points": 10,
     "schema_version": 3,
     "solution": false,
     "task": true
    }
   },
   "source": [
    "---\n",
    "### Section 5.2: Summary (10 points)\n",
    "Write a summary of what you observe in the results.\n",
    "Your summary should compare results across the 2 indices and the methods being used. State what you expected to see in the results, followed by either supporting evidence *or* justify why the results did not support your expectations."
   ]
  },
  {
   "cell_type": "markdown",
   "metadata": {
    "cell_id": "00108-6173a881-f376-4ab8-afa5-feefc85830a5",
    "deepnote_cell_height": 52.390625,
    "deepnote_cell_type": "markdown"
   },
   "source": [
    "1. Regardless of the algorithm used results are universally better across all\n",
    "   the metrics when using preprocessing - in particular stemming and stop-word\n",
    "   removal. This is in line with expectations based on large body of existing\n",
    "   literature in the field of Information retrieval.\n",
    "2. BOW performs much worse than expected. Intuitively while not a great method\n",
    "   word count for each token in the query should indicate relative importance of\n",
    "   terms in a document. We demonstrate empirically, however, that token count\n",
    "   alone is a very poor predictor of a document's relevance to a query.\n",
    "3. The NaiveQL model does not work because of the naive unigram language model\n",
    "   assumption - it's unlikely that any single document would contain all query\n",
    "   terms and therefore the probability for most documents given a search query\n",
    "   will be zero resulting in a random subset of documents being returned for\n",
    "   each query.\n",
    "4. The QL model solves the 0 probability issues of the naïve model and in fact\n",
    "   comes close to being the best performing model which confirms that a\n",
    "   probabilistic approach based on likelihood works well.\n",
    "5. TODO explain why BM25 performs best or is close to being the best for all\n",
    "   metrics.\n",
    "6. TODO maybe finally we can compare TF-IDF, QL, BM25 across the different\n",
    "   metrics and highlight which ones are better given different scenarios. Also\n",
    "   which ones are better when we're not using preprocessing.\n",
    "\n",
    "## Notes Giulio\n",
    "\n",
    "- \"This is in line with expectations based on large body of existing literature\n",
    "  in the field of Information retrieval.\"\n",
    "  - i think we should also try to justify it in our words, for e.g. stemming\n",
    "    collapses index size, or stop-word removal allows models to \"focus\" on more\n",
    "    relevant words, or something else.\n",
    "- I think in our discussion we should also speak about what methods do better in\n",
    "  precision or in recall at different k's, as this is relevant to the type of\n",
    "  information retrieval one is after -- remember we had some discussion about\n",
    "  this in one of the lectures so I imagine they're expecting some discussion\n",
    "  about this here."
   ]
  },
  {
   "cell_type": "markdown",
   "metadata": {
    "cell_id": "00109-6235ead6-3d31-4a02-b36d-704dfc8e6efb",
    "deepnote_cell_height": 679.140625,
    "deepnote_cell_type": "markdown",
    "deletable": false,
    "editable": false,
    "nbgrader": {
     "cell_type": "markdown",
     "checksum": "b3eb77be74eecca205fc7b47316d1627",
     "grade": false,
     "grade_id": "cell-bb60dd5c092d0f2e",
     "locked": true,
     "schema_version": 3,
     "solution": false,
     "task": false
    }
   },
   "source": [
    "---\n",
    "---\n",
    "# Part 2: Semantic-based Matching (85 points) <a class=\"anchor\" id=\"part2\"></a>\n",
    "\n",
    "[Back to top](#top)\n",
    "\n",
    "We will now experiment with methods that go beyond lexical methods like TF-IDF, which operate at the word level and are high dimensional and sparse, and look at methods which constructs low dimensional dense representations of queries and documents.\n",
    "\n",
    "Since these low-dimensional methods have a higher time complexity, they are typically used in conjunction with methods like BM-25. That is, instead of searching through potentially million documents to find matches using low dimensional vectors, a list of K documents are retrieved using BM25, and then **re-ranked** using the other method. This is the method that is going to be applied in the following exercises.\n",
    "\n",
    "LSI/LDA takes documents that are similar on a semantic level - for instance, if they are describing the same topic - and projects them into nearby vectors, despite having low lexical overlap.\n",
    "\n",
    "In this assignment, you will use `gensim` to create LSI/LDA models and use them in re-ranking.\n",
    "\n",
    "**Note**: The following exercises only uses `doc_repr_2` and `config_2`\n",
    "\n",
    "Table of contents:\n",
    "- [Section 6: LSI](#lsi) (15 points)\n",
    "- [Section 7: LDA](#lda) (10 points)\n",
    "- [Section 8: Word2Vec/Doc2Vec](#2vec) (20 points)\n",
    "- [Section 8: Re-ranking](#reranking) (10 points)\n",
    "- [Section 9: Re-ranking Evaluation](#reranking_eval) (30 points)"
   ]
  },
  {
   "cell_type": "markdown",
   "metadata": {
    "cell_id": "00110-5bcb1bc8-cec9-41c8-af84-5814c41bcace",
    "deepnote_cell_height": 204.59375,
    "deepnote_cell_type": "markdown",
    "deletable": false,
    "editable": false,
    "nbgrader": {
     "cell_type": "markdown",
     "checksum": "f7c7b2cab82f576ed0acf836ca57171c",
     "grade": false,
     "grade_id": "cell-6b2c81e7a8abd180",
     "locked": true,
     "schema_version": 3,
     "solution": false,
     "task": false
    }
   },
   "source": [
    "---\n",
    "## Section 6: Latent Semantic Indexing (LSI) (15 points) <a class=\"anchor\" id=\"lsi\"></a>\n",
    "\n",
    "[Back to Part 2](#part2)\n",
    "\n",
    "LSI is one of the methods to embed the queries and documents into vectors. It is based on a method similar to Principal Component Analysis (PCA) for obtaining a dense concept matrix out of the sparse term-document matrix.\n",
    "\n",
    "See [wikipedia](https://en.wikipedia.org/wiki/Latent_semantic_analysis), particularly [#Mathematics_of_LSI](https://en.wikipedia.org/wiki/Latent_semantic_analysis#Mathematics_of_LSI)."
   ]
  },
  {
   "cell_type": "code",
   "execution_count": 71,
   "metadata": {
    "cell_id": "00111-09fa8f16-3577-43a0-902e-8a9dffdf4d2a",
    "deepnote_cell_height": 189,
    "deepnote_cell_type": "code",
    "deepnote_to_be_reexecuted": false,
    "deletable": false,
    "editable": false,
    "execution_millis": 735,
    "execution_start": 1645186542920,
    "nbgrader": {
     "cell_type": "code",
     "checksum": "c17ee75319cb517e2bf48ec3d9efc329",
     "grade": false,
     "grade_id": "cell-59913daee47f680d",
     "locked": true,
     "schema_version": 3,
     "solution": false,
     "task": false
    },
    "source_hash": "a97e055a"
   },
   "outputs": [],
   "source": [
    "from gensim.corpora import Dictionary\n",
    "from gensim.models import LdaModel, LsiModel, Word2Vec\n",
    "from gensim.models.doc2vec import Doc2Vec, TaggedDocument\n",
    "from gensim import downloader as g_downloader\n",
    "\n",
    "# gensim uses logging, so set it up\n",
    "import logging\n",
    "\n",
    "logging.basicConfig(\n",
    "    format=\"%(asctime)s : %(levelname)s : %(message)s\", level=logging.INFO\n",
    ")"
   ]
  },
  {
   "cell_type": "markdown",
   "metadata": {
    "cell_id": "00112-b7a2dfe3-d382-44dd-a7a6-e2f4a6feee5c",
    "deepnote_cell_height": 235.875,
    "deepnote_cell_type": "markdown",
    "deletable": false,
    "editable": false,
    "nbgrader": {
     "cell_type": "markdown",
     "checksum": "5fce140c546759b54a9fc060901ae77c",
     "grade": false,
     "grade_id": "cell-3644faff4976598a",
     "locked": true,
     "schema_version": 3,
     "solution": false,
     "task": false
    }
   },
   "source": [
    "---\n",
    "### Section 6.1: Cosine Similarity (5 points)<a class=\"anchor\" id=\"cosing_sim\"></a>\n",
    "Before we begin, let us first define our method of similarity for the LSI model, the cosine similarity:\n",
    "\n",
    "$$\\text{similarity} = \\cos(\\theta) = {\\mathbf{A} \\cdot \\mathbf{B} \\over \\|\\mathbf{A}\\| \\|\\mathbf{B}\\|} = \\frac{ \\sum\\limits_{i=1}^{n}{A_i  B_i} }{ \\sqrt{\\sum\\limits_{i=1}^{n}{A_i^2}}  \\sqrt{\\sum\\limits_{i=1}^{n}{B_i^2}} }$$\n",
    "\n",
    "Since we are using gensim, the types of vectors returned by their classes are of the form defined below (they are not just simple vectors):"
   ]
  },
  {
   "cell_type": "code",
   "execution_count": 72,
   "metadata": {
    "cell_id": "00113-b48d2608-3784-4f64-9344-fe76553f9aaf",
    "deepnote_cell_height": 135,
    "deepnote_cell_type": "code",
    "deepnote_to_be_reexecuted": false,
    "deletable": false,
    "editable": false,
    "execution_millis": 16,
    "execution_start": 1645186543665,
    "nbgrader": {
     "cell_type": "code",
     "checksum": "4e340e1a1d546f430c018fd0760e707a",
     "grade": false,
     "grade_id": "cell-3995a50f951314d5",
     "locked": true,
     "schema_version": 3,
     "solution": false,
     "task": false
    },
    "source_hash": "214da9c9"
   },
   "outputs": [],
   "source": [
    "# 1, 2, 3 are either latent dimensions (LSI), or topics (LDA)\n",
    "# The second value in each tuple is a number (LSI) or a probability (LDA)\n",
    "example_vec_1 = [(1, 0.2), (2, 0.3), (3, 0.4)]\n",
    "example_vec_2 = [(1, 0.2), (2, 0.7), (3, 0.4)]"
   ]
  },
  {
   "cell_type": "markdown",
   "metadata": {
    "cell_id": "00114-5b3ead96-66da-40ac-9080-3669fc2631f3",
    "deepnote_cell_height": 75.796875,
    "deepnote_cell_type": "markdown",
    "deletable": false,
    "editable": false,
    "nbgrader": {
     "cell_type": "markdown",
     "checksum": "20832fd4f579f49ae204b0efee02edd1",
     "grade": false,
     "grade_id": "cell-5e54d581858dc8f7",
     "locked": true,
     "schema_version": 3,
     "solution": false,
     "task": false
    }
   },
   "source": [
    "---\n",
    "**Implementation (2+3 points):**\n",
    "Now, implement the `dot product` operation on these types of vectors and using this operator, implement the `cosine similarity` (don't forget: two functions to implement!):"
   ]
  },
  {
   "cell_type": "code",
   "execution_count": 73,
   "metadata": {
    "cell_id": "00115-d8dc29b5-3912-471e-90a3-6a9db763c917",
    "deepnote_cell_height": 531,
    "deepnote_cell_type": "code",
    "deepnote_to_be_reexecuted": false,
    "deletable": false,
    "execution_millis": 10,
    "execution_start": 1645186543706,
    "nbgrader": {
     "cell_type": "code",
     "checksum": "06a712ee75fc213a21c5f0067fd8fe28",
     "grade": false,
     "grade_id": "cell-0e8189f5f93de33f",
     "locked": false,
     "schema_version": 3,
     "solution": true,
     "task": false
    },
    "source_hash": "f02e6495"
   },
   "outputs": [],
   "source": [
    "# TODO: Implement this! (2 points)\n",
    "def dot(vec_1, vec_2):\n",
    "    \"\"\"\n",
    "    vec_1 and vec_2 are of the form: [(int, float), (int, float), ...]\n",
    "    Return the dot product of two such vectors, computed only on the floats\n",
    "    You can assume that the lengths of the vectors are the same, and the dimensions are aligned\n",
    "        i.e you won't get: vec_1 = [(1, 0.2)] ; vec_2 = [(2, 0.3)]\n",
    "                            (dimensions are unaligned and lengths are different)\n",
    "    \"\"\"\n",
    "    # YOUR CODE HERE\n",
    "    return np.dot([x[1] for x in vec_1], [y[1] for y in vec_2])\n",
    "\n",
    "\n",
    "# TODO: Implement this! (3 points)\n",
    "def cosine_sim(vec_1, vec_2):\n",
    "\n",
    "    # YOUR CODE HERE\n",
    "    # check for empty or 0-vectored vectors\n",
    "    if np.all([el == 0 for dim, el in vec_1]) or np.all([el == 0 for dim, el in vec_2]):\n",
    "        return 0\n",
    "    \n",
    "    # # Adding a custom function to compute the modulus\n",
    "    def mod(\n",
    "        vec,\n",
    "    ):\n",
    "        # Note: This still assumes that the vector is in the form :\n",
    "        # [(int, float), (int, float), ...]\n",
    "        return np.sqrt(sum(x[1] ** 2 for x in vec))\n",
    "    \n",
    "    # actually compute similarity\n",
    "    return dot(vec_1, vec_2) / (mod(vec_1) * mod(vec_2))"
   ]
  },
  {
   "cell_type": "code",
   "execution_count": 74,
   "metadata": {
    "cell_id": "00116-d4733e51-dfd0-4e9c-9240-9382dd06a589",
    "deepnote_cell_height": 224.5625,
    "deepnote_cell_type": "code",
    "deepnote_to_be_reexecuted": false,
    "deletable": false,
    "editable": false,
    "execution_millis": 11246808,
    "execution_start": 1645186543759,
    "nbgrader": {
     "cell_type": "code",
     "checksum": "d22a4a7325ba7815a808390388f534a1",
     "grade": true,
     "grade_id": "cell-b25d04ed6b79fd35",
     "locked": true,
     "points": 2,
     "schema_version": 3,
     "solution": false,
     "task": false
    },
    "source_hash": "f54a94bb"
   },
   "outputs": [
    {
     "name": "stdout",
     "output_type": "stream",
     "text": [
      "vectors: ([(1, 0.2), (2, 0.3), (3, 0.4)], [(1, 0.2), (2, 0.7), (3, 0.4)])\n",
      "dot product = 0.41000000000000003\n",
      "cosine similarity = 0.9165587597202866\n"
     ]
    }
   ],
   "source": [
    "##### Function check\n",
    "print(f\"vectors: {(example_vec_1,example_vec_2)}\")\n",
    "print(f\"dot product = {dot(example_vec_1,example_vec_2)}\")\n",
    "print(f\"cosine similarity = {cosine_sim(example_vec_1,example_vec_2)}\")\n",
    "#####"
   ]
  },
  {
   "cell_type": "code",
   "execution_count": 75,
   "metadata": {
    "cell_id": "00117-1b58cb35-2d08-4e28-8f2b-6de011617cf4",
    "deepnote_cell_height": 81,
    "deepnote_cell_type": "code",
    "deepnote_to_be_reexecuted": false,
    "deletable": false,
    "editable": false,
    "execution_millis": 11246825,
    "execution_start": 1645186543833,
    "nbgrader": {
     "cell_type": "code",
     "checksum": "0744131724ce76b1b3f163b4bae5f700",
     "grade": true,
     "grade_id": "cell-ae3c4466866ace77",
     "locked": true,
     "points": 3,
     "schema_version": 3,
     "solution": false,
     "task": false
    },
    "source_hash": "28110d30"
   },
   "outputs": [],
   "source": [
    "#### Please do not change this. This cell is used for grading."
   ]
  },
  {
   "cell_type": "markdown",
   "metadata": {
    "cell_id": "00118-a369a32d-5d88-4db7-b799-15d230e97a18",
    "deepnote_cell_height": 123.796875,
    "deepnote_cell_type": "markdown",
    "deletable": false,
    "editable": false,
    "nbgrader": {
     "cell_type": "markdown",
     "checksum": "9b123f599f9ea372d14676e23f1c6a52",
     "grade": false,
     "grade_id": "cell-4b2534067c44fcdf",
     "locked": true,
     "schema_version": 3,
     "solution": false,
     "task": false
    }
   },
   "source": [
    "---\n",
    "### Section 6.2: LSI Retrieval (10 points)<a class=\"anchor\" id=\"lsi_retrieval\"></a>\n",
    "LSI retrieval is simply ranking the documents based on their cosine similarity to the query vector.\n",
    "First, let's write a parent class for vector-based retrieval models:"
   ]
  },
  {
   "cell_type": "code",
   "execution_count": 76,
   "metadata": {
    "cell_id": "00119-814ff936-077e-4cc4-993b-e4228ac65973",
    "deepnote_cell_height": 1017,
    "deepnote_cell_type": "code",
    "deepnote_to_be_reexecuted": false,
    "deletable": false,
    "editable": false,
    "execution_millis": 11246845,
    "execution_start": 1645186543834,
    "nbgrader": {
     "cell_type": "code",
     "checksum": "ecc111d58182570e2252b8ef5d6b02af",
     "grade": false,
     "grade_id": "cell-937936cea18711ee",
     "locked": true,
     "schema_version": 3,
     "solution": false,
     "task": false
    },
    "source_hash": "c421a787"
   },
   "outputs": [],
   "source": [
    "class VectorSpaceRetrievalModel:\n",
    "    \"\"\"\n",
    "    Parent class for Dense Vector Retrieval models\n",
    "    \"\"\"\n",
    "\n",
    "    def __init__(self, doc_repr):\n",
    "        \"\"\"\n",
    "        document_collection:\n",
    "            [\n",
    "                (doc_id_1, [token 1, token 2, ...]),\n",
    "                (doc_id_2, [token 1, token 2, ....])\n",
    "                ...\n",
    "            ]\n",
    "\n",
    "        \"\"\"\n",
    "        self.doc_repr = doc_repr\n",
    "        self.documents = [_[1] for _ in self.doc_repr]\n",
    "\n",
    "        # construct a dictionary\n",
    "        self.dictionary = Dictionary(self.documents)\n",
    "        # Filter out words that occur less than 20 documents, or more than 50% of the documents.\n",
    "        self.dictionary.filter_extremes(no_below=10)\n",
    "        self.corpus = [self.dictionary.doc2bow(doc) for doc in self.documents]\n",
    "\n",
    "        # Make a index to word dictionary.\n",
    "        temp = self.dictionary[0]  # This is only to \"load\" the dictionary.\n",
    "        self.id2word = self.dictionary.id2token\n",
    "\n",
    "        # this is set by the train_model function\n",
    "        self.model = None\n",
    "\n",
    "    def vectorize_documents(self):\n",
    "        \"\"\"\n",
    "        Returns a doc_id -> vector dictionary\n",
    "        \"\"\"\n",
    "        vectors = {}\n",
    "        for (doc_id, _), cc in zip(self.doc_repr, self.corpus):\n",
    "            vectors[doc_id] = self.model[cc]\n",
    "        return vectors\n",
    "\n",
    "    def vectorize_query(self, query):\n",
    "        # Note the use of config_2 here!\n",
    "        query = process_text(query, **config_2)\n",
    "        query_vector = self.dictionary.doc2bow(query)\n",
    "        return self.model[query_vector]\n",
    "\n",
    "    def train_model(self):\n",
    "        \"\"\"\n",
    "        Trains a model and sets the 'self.model' variable.\n",
    "        Make sure to use the variables created in the __init__ method.\n",
    "        e.g the variables which may be useful: {corpus, dictionary, id2word}\n",
    "        \"\"\"\n",
    "        raise NotImplementedError()"
   ]
  },
  {
   "cell_type": "markdown",
   "metadata": {
    "cell_id": "00120-41460ee2-1ba5-4e9b-8779-fc6d4bfda152",
    "deepnote_cell_height": 181,
    "deepnote_cell_type": "markdown",
    "deletable": false,
    "editable": false,
    "nbgrader": {
     "cell_type": "markdown",
     "checksum": "ff161eefd9b81b768cd6361bc1a502b0",
     "grade": false,
     "grade_id": "cell-704a18c2f80cd60c",
     "locked": true,
     "schema_version": 3,
     "solution": false,
     "task": false
    }
   },
   "source": [
    "---\n",
    "**Implementation (5 points):**\n",
    "Implement the `train_model` method in the following class (note that this is only one line of code in `gensim`!). Ensure that the parameters defined in the `__init__` method are not changed, and are *used in the `train_method` function*. Normally, the hyperaparameter space will be searched using grid search / other methods - in this assignment we have provided the hyperparameters for you.\n",
    "\n",
    "The last two lines of code train an LSI model on the list of documents which have been stemmed, lower-cased and have stopwords removed."
   ]
  },
  {
   "cell_type": "code",
   "execution_count": 77,
   "metadata": {
    "cell_id": "00121-9056c69d-5f3f-4d7d-bdd1-1593996f65a1",
    "deepnote_cell_height": 333,
    "deepnote_cell_type": "code",
    "deepnote_to_be_reexecuted": false,
    "deletable": false,
    "execution_millis": 0,
    "execution_start": 1645186543877,
    "nbgrader": {
     "cell_type": "code",
     "checksum": "0e90eedc27c248bc1ae050518a46a46c",
     "grade": false,
     "grade_id": "cell-307682c9089f15d6",
     "locked": false,
     "schema_version": 3,
     "solution": true,
     "task": false
    },
    "source_hash": "bab726fa"
   },
   "outputs": [],
   "source": [
    "# TODO: Implement this! (5 points)\n",
    "class LsiRetrievalModel(VectorSpaceRetrievalModel):\n",
    "    def __init__(self, doc_repr):\n",
    "        super().__init__(doc_repr)\n",
    "\n",
    "        self.num_topics = 100\n",
    "        self.chunksize = 2000\n",
    "\n",
    "    def train_model(self):\n",
    "        self.model = LsiModel(\n",
    "            corpus=self.corpus,\n",
    "            id2word=self.id2word,\n",
    "            num_topics=self.num_topics,\n",
    "            chunksize=self.chunksize,\n",
    "        )"
   ]
  },
  {
   "cell_type": "code",
   "execution_count": 78,
   "metadata": {
    "cell_id": "00122-3bd0788f-3ce1-4afe-8344-6361027be847",
    "collapsed": true,
    "deepnote_cell_height": 1451,
    "deepnote_cell_type": "code",
    "deepnote_output_heights": [
     null,
     611
    ],
    "deepnote_to_be_reexecuted": false,
    "deletable": false,
    "editable": false,
    "execution_millis": 2220,
    "execution_start": 1645186543878,
    "jupyter": {
     "outputs_hidden": true
    },
    "nbgrader": {
     "cell_type": "code",
     "checksum": "00399cfe13d60cb4beed1271e36004b0",
     "grade": true,
     "grade_id": "cell-5ce512650c1b2dfb",
     "locked": true,
     "points": 0,
     "schema_version": 3,
     "solution": false,
     "task": false
    },
    "source_hash": "31499d4f",
    "tags": []
   },
   "outputs": [
    {
     "name": "stderr",
     "output_type": "stream",
     "text": [
      "2022-02-23 15:10:02,093 : INFO : adding document #0 to Dictionary(0 unique tokens: [])\n",
      "2022-02-23 15:10:02,231 : INFO : built Dictionary(5937 unique tokens: ['-', 'algebra', 'intern', 'languag', 'preliminari']...) from 3204 documents (total 115969 corpus positions)\n",
      "2022-02-23 15:10:02,237 : INFO : discarding 4740 tokens: [('repeat', 8), ('glossari', 7), ('inspect', 8), ('uncol', 2), ('rung', 9), ('secant', 2), ('.', 1603), ('acceler', 6), ('diverg', 3), ('induc', 9)]...\n",
      "2022-02-23 15:10:02,238 : INFO : keeping 1197 tokens which were in no less than 10 and no more than 1602 (=50.0%) documents\n",
      "2022-02-23 15:10:02,242 : INFO : resulting dictionary: Dictionary(1197 unique tokens: ['-', 'algebra', 'intern', 'languag', 'preliminari']...)\n",
      "2022-02-23 15:10:02,311 : INFO : using serial LSI version on this node\n",
      "2022-02-23 15:10:02,312 : INFO : updating model with new documents\n",
      "2022-02-23 15:10:02,312 : INFO : preparing a new chunk of documents\n",
      "2022-02-23 15:10:02,328 : INFO : using 100 extra samples and 2 power iterations\n",
      "2022-02-23 15:10:02,329 : INFO : 1st phase: constructing (1197, 200) action matrix\n",
      "2022-02-23 15:10:02,348 : INFO : orthonormalizing (1197, 200) action matrix\n",
      "2022-02-23 15:10:02,390 : INFO : 2nd phase: running dense svd on (200, 2000) matrix\n",
      "2022-02-23 15:10:02,440 : INFO : computing the final decomposition\n",
      "2022-02-23 15:10:02,440 : INFO : keeping 100 factors (discarding 13.413% of energy spectrum)\n",
      "2022-02-23 15:10:02,445 : INFO : processed documents up to #2000\n",
      "2022-02-23 15:10:02,447 : INFO : topic #0(152.127): 0.741*\",\" + 0.342*\"-\" + 0.211*\"system\" + 0.204*\"program\" + 0.192*\"comput\" + 0.146*\"(\" + 0.127*\"languag\" + 0.108*\")\" + 0.084*\"gener\" + 0.083*\"data\"\n",
      "2022-02-23 15:10:02,448 : INFO : topic #1(60.600): -0.607*\"(\" + -0.434*\")\" + -0.366*\"algorithm\" + -0.300*\"-\" + 0.237*\",\" + 0.213*\"system\" + 0.132*\"comput\" + -0.096*\"[\" + 0.093*\"program\" + -0.084*\"])\"\n",
      "2022-02-23 15:10:02,450 : INFO : topic #2(57.438): -0.744*\"-\" + 0.452*\",\" + -0.263*\"system\" + 0.214*\"(\" + 0.166*\")\" + -0.107*\"time\" + -0.105*\"program\" + 0.094*\"algorithm\" + -0.068*\"comput\" + -0.067*\"share\"\n",
      "2022-02-23 15:10:02,452 : INFO : topic #3(48.370): 0.483*\"system\" + 0.375*\"program\" + 0.367*\"comput\" + -0.363*\"-\" + -0.308*\",\" + 0.212*\"(\" + 0.168*\")\" + 0.147*\"algorithm\" + -0.144*\"languag\" + 0.119*\"time\"\n",
      "2022-02-23 15:10:02,453 : INFO : topic #4(45.710): 0.489*\"comput\" + -0.475*\"languag\" + -0.428*\"program\" + 0.238*\"method\" + 0.141*\"problem\" + -0.121*\"system\" + -0.109*\")\" + 0.107*\"equat\" + 0.100*\"algorithm\" + -0.099*\"(\"\n",
      "2022-02-23 15:10:02,454 : INFO : preparing a new chunk of documents\n",
      "2022-02-23 15:10:02,471 : INFO : using 100 extra samples and 2 power iterations\n",
      "2022-02-23 15:10:02,472 : INFO : 1st phase: constructing (1197, 200) action matrix\n",
      "2022-02-23 15:10:02,530 : INFO : orthonormalizing (1197, 200) action matrix\n",
      "2022-02-23 15:10:02,619 : INFO : 2nd phase: running dense svd on (200, 1204) matrix\n",
      "2022-02-23 15:10:02,681 : INFO : computing the final decomposition\n",
      "2022-02-23 15:10:02,682 : INFO : keeping 100 factors (discarding 14.020% of energy spectrum)\n",
      "2022-02-23 15:10:02,692 : INFO : merging projections: (1197, 100) + (1197, 100)\n",
      "2022-02-23 15:10:02,713 : INFO : keeping 100 factors (discarding 8.161% of energy spectrum)\n",
      "2022-02-23 15:10:02,717 : INFO : processed documents up to #3204\n",
      "2022-02-23 15:10:02,719 : INFO : topic #0(225.136): 0.759*\",\" + 0.337*\"-\" + 0.196*\"system\" + 0.186*\"program\" + 0.166*\"comput\" + 0.139*\"(\" + 0.103*\")\" + 0.103*\"algorithm\" + 0.099*\"languag\" + 0.087*\"time\"\n",
      "2022-02-23 15:10:02,721 : INFO : topic #1(87.805): 0.613*\"-\" + -0.399*\",\" + 0.399*\"(\" + 0.326*\"algorithm\" + 0.293*\")\" + -0.129*\"system\" + -0.107*\"program\" + 0.085*\"method\" + 0.077*\"time\" + 0.062*\"1\"\n",
      "2022-02-23 15:10:02,722 : INFO : topic #2(81.909): 0.550*\"-\" + -0.434*\"(\" + 0.355*\"system\" + -0.321*\")\" + -0.291*\",\" + -0.266*\"algorithm\" + 0.146*\"program\" + 0.123*\"comput\" + 0.078*\"time\" + -0.064*\"[\"\n",
      "2022-02-23 15:10:02,724 : INFO : topic #3(72.433): -0.693*\"program\" + 0.339*\",\" + 0.279*\"-\" + -0.251*\"(\" + -0.221*\"system\" + -0.214*\"languag\" + -0.204*\")\" + -0.160*\"comput\" + -0.099*\"data\" + -0.056*\"execut\"\n",
      "2022-02-23 15:10:02,725 : INFO : topic #4(68.523): -0.673*\"system\" + 0.453*\"program\" + 0.254*\"languag\" + 0.212*\"-\" + -0.179*\"comput\" + -0.165*\"(\" + -0.121*\")\" + -0.115*\"model\" + 0.101*\",\" + -0.098*\"algorithm\"\n"
     ]
    },
    {
     "data": {
      "text/plain": [
       "[(0, 0.015213180453510704),\n",
       " (1, -0.016251827784650126),\n",
       " (2, -0.0001984109901236224),\n",
       " (3, -0.0017934626579905043),\n",
       " (4, -0.009398152379543556),\n",
       " (5, -0.00460806131516424),\n",
       " (6, 0.027177782122941013),\n",
       " (7, 0.016698765192615775),\n",
       " (8, -0.03179501658840245),\n",
       " (9, -0.0009977887535442369),\n",
       " (10, 0.0023792028162845946),\n",
       " (11, -0.017740235459262746),\n",
       " (12, 0.000249198429161223),\n",
       " (13, 0.0005578868737588791),\n",
       " (14, 0.0045726798548115215),\n",
       " (15, 0.006185429397308735),\n",
       " (16, 0.005421828030057108),\n",
       " (17, 0.001779073032231543),\n",
       " (18, -0.017313565947189902),\n",
       " (19, 0.020673120151817912),\n",
       " (20, -0.00820915264212271),\n",
       " (21, -0.013514025841670881),\n",
       " (22, 0.05036049680940307),\n",
       " (23, 0.02566071070905715),\n",
       " (24, -0.011176749558910602),\n",
       " (25, -0.010081080333564134),\n",
       " (26, 0.004804945192965314),\n",
       " (27, 0.07517379849588153),\n",
       " (28, -0.06119212497580063),\n",
       " (29, 0.03190938152398607),\n",
       " (30, 0.04224176009548367),\n",
       " (31, 0.044926894856332854),\n",
       " (32, -0.0699431982037184),\n",
       " (33, 0.049342906011528714),\n",
       " (34, -0.023553685789785096),\n",
       " (35, 0.06439299760967523),\n",
       " (36, 0.042915884039818664),\n",
       " (37, -0.002332874358416018),\n",
       " (38, -0.06476825328466806),\n",
       " (39, 0.02017976390525765),\n",
       " (40, -0.04431947862406474),\n",
       " (41, -0.03016567371582782),\n",
       " (42, 0.02741434226113557),\n",
       " (43, 0.013810991648213061),\n",
       " (44, 0.0034741760983639366),\n",
       " (45, 0.060481864483716195),\n",
       " (46, -0.007022008386400852),\n",
       " (47, 0.0066478932627467),\n",
       " (48, 0.018219280722062466),\n",
       " (49, 0.02767120973148219),\n",
       " (50, 0.008674481867590641),\n",
       " (51, 0.053337738670049345),\n",
       " (52, -0.009049909175270526),\n",
       " (53, 0.0055255627656417864),\n",
       " (54, 0.04064887784375373),\n",
       " (55, 0.027881889899361075),\n",
       " (56, -0.004918601440776528),\n",
       " (57, -0.013878472723276847),\n",
       " (58, -0.010588853073331284),\n",
       " (59, 0.04395114782586663),\n",
       " (60, -0.0005788170710799238),\n",
       " (61, 0.04915402408791939),\n",
       " (62, 0.02928289561274558),\n",
       " (63, 0.0120050597236084),\n",
       " (64, 0.07364287873001764),\n",
       " (65, 0.034504387673481005),\n",
       " (66, 0.0228960171222719),\n",
       " (67, 0.03841293408986235),\n",
       " (68, -0.0016935370177612024),\n",
       " (69, -0.044226579475700856),\n",
       " (70, -0.05006808947055647),\n",
       " (71, -0.021654444434605125),\n",
       " (72, 0.004175255311697542),\n",
       " (73, 0.01521655341212061),\n",
       " (74, -0.09744524998551003),\n",
       " (75, 0.003161169950419738),\n",
       " (76, 0.049137251183210745),\n",
       " (77, 0.004133707282118246),\n",
       " (78, 0.04470732280533383),\n",
       " (79, -0.024650246034186987),\n",
       " (80, -0.03173333106465489),\n",
       " (81, -0.006419188056109717),\n",
       " (82, 0.06967040578708737),\n",
       " (83, -0.029821256820999426),\n",
       " (84, -0.03089119964891435),\n",
       " (85, -0.03205449843137329),\n",
       " (86, 0.016415119881080614),\n",
       " (87, -0.02196802214595547),\n",
       " (88, -0.06582346568967999),\n",
       " (89, -0.07614456141428662),\n",
       " (90, -0.018012112851439433),\n",
       " (91, 0.06886086422977246),\n",
       " (92, -0.031214562096133342),\n",
       " (93, -0.02445469565785266),\n",
       " (94, -0.061344961549564064),\n",
       " (95, -0.0066401911661581325),\n",
       " (96, -0.023124516582197444),\n",
       " (97, 0.02427783652230625),\n",
       " (98, -0.022218609990600283),\n",
       " (99, 0.02379437941680134)]"
      ]
     },
     "execution_count": 78,
     "metadata": {},
     "output_type": "execute_result"
    }
   ],
   "source": [
    "##### Function check\n",
    "lsi = LsiRetrievalModel(doc_repr_2)\n",
    "lsi.train_model()\n",
    "\n",
    "# you can now get an LSI vector for a given query in the following way:\n",
    "lsi.vectorize_query(\"report\")\n",
    "#####"
   ]
  },
  {
   "cell_type": "markdown",
   "metadata": {
    "cell_id": "00123-e372e3ee-50ec-4225-ab44-bb4d14ac8190",
    "deepnote_cell_height": 52.390625,
    "deepnote_cell_type": "markdown",
    "deletable": false,
    "editable": false,
    "nbgrader": {
     "cell_type": "markdown",
     "checksum": "7116bb9f576c5bb04934e1d59c51d729",
     "grade": false,
     "grade_id": "cell-4c5eeb557b4fca2f",
     "locked": true,
     "points": 5,
     "schema_version": 3,
     "solution": false,
     "task": true
    }
   },
   "source": [
    "\\#### Please do not change this. This cell is used for grading."
   ]
  },
  {
   "cell_type": "markdown",
   "metadata": {
    "cell_id": "00124-d9fd321a-609f-4da5-8d2d-584c9ed530d3",
    "deepnote_cell_height": 73,
    "deepnote_cell_type": "markdown",
    "deletable": false,
    "editable": false,
    "nbgrader": {
     "cell_type": "markdown",
     "checksum": "26e2ff3c413745e633d99f66c041d6b1",
     "grade": false,
     "grade_id": "cell-c4e50296cd17a555",
     "locked": true,
     "schema_version": 3,
     "solution": false,
     "task": false
    }
   },
   "source": [
    "---\n",
    "**Implementation (5 points):**\n",
    " Next, implement a basic ranking class for vector space retrieval (used for all semantic methods):"
   ]
  },
  {
   "cell_type": "code",
   "execution_count": 79,
   "metadata": {
    "cell_id": "00125-826a2865-fd5c-4886-96fd-21c5894bcd77",
    "deepnote_cell_height": 765,
    "deepnote_cell_type": "code",
    "deepnote_to_be_reexecuted": false,
    "deletable": false,
    "execution_millis": 1,
    "execution_start": 1645186546165,
    "nbgrader": {
     "cell_type": "code",
     "checksum": "1a8389d2f0635c3405e2b0b27ed9f327",
     "grade": false,
     "grade_id": "cell-250515d288e80cdc",
     "locked": false,
     "schema_version": 3,
     "solution": true,
     "task": false
    },
    "source_hash": "eb69cddb"
   },
   "outputs": [],
   "source": [
    "# TODO: Implement this! (5 points)\n",
    "class DenseRetrievalRanker:\n",
    "    def __init__(self, vsrm, similarity_fn):\n",
    "        \"\"\"\n",
    "        vsrm: instance of `VectorSpaceRetrievalModel`\n",
    "        similarity_fn: function instance that takes in two vectors\n",
    "                        and returns a similarity score e.g cosine_sim defined earlier\n",
    "        \"\"\"\n",
    "        self.vsrm = vsrm\n",
    "        self.vectorized_documents = self.vsrm.vectorize_documents()\n",
    "        self.similarity_fn = similarity_fn\n",
    "\n",
    "    def _compute_sim(self, query_vector):\n",
    "        \"\"\"\n",
    "        Compute the similarity of `query_vector` to documents in\n",
    "        `self.vectorized_documents` using `self.similarity_fn`\n",
    "        Returns a list of (doc_id, score) tuples\n",
    "        \"\"\"\n",
    "        result = []\n",
    "        for doc_id, doc in self.vectorized_documents.items():\n",
    "            result.append((doc_id, self.similarity_fn(query_vector, doc)))\n",
    "        return result\n",
    "\n",
    "    def search(self, query):\n",
    "        scores = self._compute_sim(self.vsrm.vectorize_query(query))\n",
    "        scores.sort(key=lambda _: -_[1])\n",
    "        return scores"
   ]
  },
  {
   "cell_type": "code",
   "execution_count": 80,
   "metadata": {
    "cell_id": "00126-61a00dcc-2fd6-4dc9-9bdd-24f69e74576b",
    "deepnote_cell_height": 248.9375,
    "deepnote_cell_type": "code",
    "deepnote_output_heights": [
     97.9375
    ],
    "deepnote_to_be_reexecuted": false,
    "deletable": false,
    "editable": false,
    "execution_millis": 2654,
    "execution_start": 1645186546166,
    "nbgrader": {
     "cell_type": "code",
     "checksum": "f237dd1ef6c1783c06797f4b514421f5",
     "grade": true,
     "grade_id": "cell-b73068b3e77a8e31",
     "locked": true,
     "points": 0,
     "schema_version": 3,
     "solution": false,
     "task": false
    },
    "source_hash": "d95413f2"
   },
   "outputs": [
    {
     "data": {
      "text/plain": [
       "[('599', 0.7880517790526315),\n",
       " ('947', 0.5903248630600778),\n",
       " ('53', 0.48451175750063813),\n",
       " ('3160', 0.443543269339474),\n",
       " ('1339', 0.43972768629442865)]"
      ]
     },
     "execution_count": 80,
     "metadata": {},
     "output_type": "execute_result"
    }
   ],
   "source": [
    "##### Function check\n",
    "drm_lsi = DenseRetrievalRanker(lsi, cosine_sim)\n",
    "drm_lsi.search(\"report\")[:5]\n",
    "#####"
   ]
  },
  {
   "cell_type": "markdown",
   "metadata": {
    "cell_id": "00127-61d1bfa7-3b4f-4bae-9849-3abf43008fb7",
    "deepnote_cell_height": 52.390625,
    "deepnote_cell_type": "markdown",
    "deletable": false,
    "editable": false,
    "nbgrader": {
     "cell_type": "markdown",
     "checksum": "5b3f19fdcaa585d263706d5a26038799",
     "grade": false,
     "grade_id": "cell-034c755a6502b868",
     "locked": true,
     "points": 5,
     "schema_version": 3,
     "solution": false,
     "task": true
    }
   },
   "source": [
    "\\#### Please do not change this. This cell is used for grading."
   ]
  },
  {
   "cell_type": "markdown",
   "metadata": {
    "cell_id": "00128-76ede674-a982-4ad0-abe7-680c64dc6488",
    "deepnote_cell_height": 75.796875,
    "deepnote_cell_type": "markdown",
    "deletable": false,
    "editable": false,
    "nbgrader": {
     "cell_type": "markdown",
     "checksum": "dcafef6e037033c46304b914f7c78bdf",
     "grade": false,
     "grade_id": "cell-d1df23f497d5ed6b",
     "locked": true,
     "schema_version": 3,
     "solution": false,
     "task": false
    }
   },
   "source": [
    "---\n",
    "Now, you can test your LSI model in the following cell: try finding queries which are lexically different to documents, but semantically similar - does LSI work well for these queries?!"
   ]
  },
  {
   "cell_type": "code",
   "execution_count": 81,
   "metadata": {
    "cell_id": "00129-e8052686-38ce-490b-8725-f62afa5b6285",
    "deepnote_cell_height": 663,
    "deepnote_cell_type": "code",
    "deepnote_to_be_reexecuted": false,
    "deletable": false,
    "editable": false,
    "execution_millis": 45,
    "execution_start": 1645186548831,
    "nbgrader": {
     "cell_type": "code",
     "checksum": "11734bc7674377b340ad51297a8e8bb5",
     "grade": false,
     "grade_id": "cell-efd1d08dfc04ec3e",
     "locked": true,
     "schema_version": 3,
     "solution": false,
     "task": false
    },
    "source_hash": "15e4943e"
   },
   "outputs": [
    {
     "data": {
      "application/vnd.jupyter.widget-view+json": {
       "model_id": "9d8e4871b20f42a38c2a44cf7d70fb5d",
       "version_major": 2,
       "version_minor": 0
      },
      "text/plain": [
       "Text(value='', description='Search Bar')"
      ]
     },
     "metadata": {},
     "output_type": "display_data"
    }
   ],
   "source": [
    "# test your LSI model\n",
    "search_fn = drm_lsi.search\n",
    "\n",
    "text = widgets.Text(description=\"Search Bar\", width=200)\n",
    "display(text)\n",
    "\n",
    "\n",
    "def make_results_2(query, search_fn):\n",
    "    results = []\n",
    "    for doc_id, score in search_fn(query):\n",
    "        highlight = highlight_text(docs_by_id[doc_id], query)\n",
    "        if len(highlight.strip()) == 0:\n",
    "            highlight = docs_by_id[doc_id]\n",
    "        results.append(ResultRow(doc_id, highlight, score))\n",
    "    return results\n",
    "\n",
    "\n",
    "def handle_submit_2(sender):\n",
    "    print(f\"Searching for: '{sender.value}' (SEARCH FN: {search_fn})\")\n",
    "\n",
    "    results = make_results_2(sender.value, search_fn)\n",
    "\n",
    "    # display only the top 5\n",
    "    results = results[:5]\n",
    "\n",
    "    body = \"\"\n",
    "    for idx, r in enumerate(results):\n",
    "        body += f\"<li>Document #{r.doc_id}({r.score}): {r.snippet}</li>\"\n",
    "    display(HTML(f\"<ul>{body}</ul>\"))\n",
    "\n",
    "\n",
    "text.on_submit(handle_submit_2)"
   ]
  },
  {
   "cell_type": "markdown",
   "metadata": {
    "cell_id": "00130-70ac6c5f-a513-4253-abde-f31df522d92d",
    "deepnote_cell_height": 190.59375,
    "deepnote_cell_type": "markdown",
    "deletable": false,
    "editable": false,
    "nbgrader": {
     "cell_type": "markdown",
     "checksum": "d074ce1ca48384cdda78742741c938be",
     "grade": false,
     "grade_id": "cell-3a86cef264d8f6cf",
     "locked": true,
     "schema_version": 3,
     "solution": false,
     "task": false
    }
   },
   "source": [
    "---\n",
    "## Section 7: Latent Dirichlet Allocation (LDA) (10 points) <a class=\"anchor\" id=\"lda\"></a>\n",
    "\n",
    "[Back to Part 2](#part2)\n",
    "\n",
    "The specifics of LDA is out of the scope of this assignment, but we will use the `gensim` implementation to perform search using LDA over our small document collection. The key thing to remember is that LDA, unlike LSI, outputs a topic **distribution**, not a vector. With that in mind, let's first define a similarity measure.\n"
   ]
  },
  {
   "cell_type": "markdown",
   "metadata": {
    "cell_id": "00131-ec0e884b-e164-4ba8-9ed6-c767c87825c3",
    "deepnote_cell_height": 182.59375,
    "deepnote_cell_type": "markdown",
    "deletable": false,
    "editable": false,
    "nbgrader": {
     "cell_type": "markdown",
     "checksum": "db01092373b18f0c9dfed1bb17db4ad9",
     "grade": false,
     "grade_id": "cell-6b78ad22c2d60ba7",
     "locked": true,
     "schema_version": 3,
     "solution": false,
     "task": false
    }
   },
   "source": [
    "---\n",
    "### Section 7.1: Jenson-Shannon divergence (5 points) <a class=\"anchor\" id=\"js_sim\"></a>\n",
    "\n",
    "The Jenson-Shannon divergence is a symmetric and finite measure on two probability distributions (unlike the KL, which is neither). For identical distributions, the JSD is equal to 0, and since our code uses 0 as irrelevant and higher scores as relevant, we use `(1 - JSD)` as the score or 'similarity' in our setup\n",
    "\n",
    "**Note**: the JSD is bounded to \\[0,1\\] only if we use log base 2. So please ensure that you're using `np.log2` instead of `np.log`"
   ]
  },
  {
   "cell_type": "code",
   "execution_count": 82,
   "metadata": {
    "cell_id": "00132-ccb9488f-e93e-484d-891a-5260b0b3ba46",
    "deepnote_cell_height": 783,
    "deepnote_cell_type": "code",
    "deepnote_to_be_reexecuted": false,
    "deletable": false,
    "execution_millis": 14,
    "execution_start": 1645186548888,
    "nbgrader": {
     "cell_type": "code",
     "checksum": "a579e6cd7a24a3516bc9a84528b392d3",
     "grade": false,
     "grade_id": "cell-d2376a85a4841e98",
     "locked": false,
     "schema_version": 3,
     "solution": true,
     "task": false
    },
    "source_hash": "887f6708"
   },
   "outputs": [],
   "source": [
    "## TODO: Implement this! (5 points)\n",
    "def jenson_shannon_divergence(vec_1, vec_2, assert_prob=False):\n",
    "    \"\"\"\n",
    "    Computes the Jensen-Shannon divergence between two probability distributions.\n",
    "    NOTE: DO NOT RETURN 1 - JSD here, that is handled by the next function which is already implemented!\n",
    "    The inputs are *gensim* vectors - same as the vectors for the cosine_sim function\n",
    "    assert_prob is a flag that checks if the inputs are proper probability distributions\n",
    "        i.e they sum to 1 and are positive - use this to check your inputs if needed.\n",
    "            (This is optional to implement, but recommended -\n",
    "            you can the default to False to save a few ms off the runtime)\n",
    "    \"\"\"\n",
    "\n",
    "    # --------- Define a custom KL divergence function --------\n",
    "    def KL(a, b):\n",
    "        a = np.asarray(a, dtype=np.float)\n",
    "        b = np.asarray(b, dtype=np.float)\n",
    "\n",
    "        return np.sum(np.where(a != 0, a * np.log2(a / b), 0))\n",
    "\n",
    "    # ---------------------------------------------------------\n",
    "\n",
    "    vec_1_probs = np.array([x[1] for x in vec_1])  # extracting the probabily values\n",
    "    vec_2_probs = np.array([y[1] for y in vec_2])  # extracting the probabily values\n",
    "\n",
    "    # if flag=True, assert that the inputs are proper probability distributions\n",
    "    if assert_prob:\n",
    "        assert np.sum(vec_1_probs) == 1 and all(\n",
    "            vec_1_probs > 0\n",
    "        ), \"Values of vector1 must sum to 1 and be positive\"\n",
    "        assert np.sum(vec_2_probs) == 1 and all(\n",
    "            vec_2_probs > 0\n",
    "        ), \"Values of vector2 must sum to 1 and be positive\"\n",
    "\n",
    "    # If inputs are valid, compute divergence\n",
    "    m = 0.5 * (vec_1_probs + vec_2_probs)\n",
    "    return 0.5 * KL(vec_1_probs, m) + 0.5 * KL(vec_2_probs, m)\n",
    "\n",
    "\n",
    "def jenson_shannon_sim(vec_1, vec_2, assert_prob=False):\n",
    "    return 1 - jenson_shannon_divergence(vec_1, vec_2)"
   ]
  },
  {
   "cell_type": "code",
   "execution_count": 83,
   "metadata": {
    "cell_id": "00133-062a3052-2e16-413b-bac4-d476558e3866",
    "deepnote_cell_height": 190.1875,
    "deepnote_cell_type": "code",
    "deepnote_output_heights": [
     21.1875
    ],
    "deepnote_to_be_reexecuted": false,
    "deletable": false,
    "editable": false,
    "execution_millis": 70,
    "execution_start": 1645186548917,
    "nbgrader": {
     "cell_type": "code",
     "checksum": "ab340aa941c9fb5c89b3fd0a9139e246",
     "grade": true,
     "grade_id": "cell-487c6d2933f38053",
     "locked": true,
     "points": 5,
     "schema_version": 3,
     "solution": false,
     "task": false
    },
    "source_hash": "74ec8119"
   },
   "outputs": [
    {
     "data": {
      "text/plain": [
       "0.9251064410358459"
      ]
     },
     "execution_count": 83,
     "metadata": {},
     "output_type": "execute_result"
    }
   ],
   "source": [
    "##### Function check\n",
    "vec_1 = [(1, 0.3), (2, 0.4), (3, 0.3)]\n",
    "vec_2 = [(1, 0.1), (2, 0.7), (3, 0.2)]\n",
    "jenson_shannon_sim(vec_1, vec_2, assert_prob=True)\n",
    "#####"
   ]
  },
  {
   "cell_type": "markdown",
   "metadata": {
    "cell_id": "00134-b1b00101-4499-4c42-a48c-f90f9f37d7e9",
    "deepnote_cell_height": 227.375,
    "deepnote_cell_type": "markdown",
    "deletable": false,
    "editable": false,
    "nbgrader": {
     "cell_type": "markdown",
     "checksum": "0a1583a5f23e3390038331cce67f5d8e",
     "grade": false,
     "grade_id": "cell-4535cc67a50b80fa",
     "locked": true,
     "schema_version": 3,
     "solution": false,
     "task": false
    }
   },
   "source": [
    "---\n",
    "### Section 7.2: LDA retrieval (5 points) <a class=\"anchor\" id=\"lda_ret\"></a>\n",
    "\n",
    "Implement the `train_model` method in the following class (note that this is only one line of code in `gensim`!). Ensure that the parameters defined in the `__init__` method are not changed, and are *used in the `train_method` function*. You do not need to set this. Normally, the hyperaparameter space will be searched using grid search / other methods. Note that training the LDA model might take some time\n",
    "\n",
    "The last two lines of code train an LDA model on the list of documents which have been stemmed, lower-cased and have stopwords removed."
   ]
  },
  {
   "cell_type": "code",
   "execution_count": 84,
   "metadata": {
    "cell_id": "00135-c9620a32-0d75-44b0-9b91-6223cae5d6d9",
    "deepnote_cell_height": 603,
    "deepnote_cell_type": "code",
    "deepnote_to_be_reexecuted": false,
    "deletable": false,
    "execution_millis": 1,
    "execution_start": 1645186548985,
    "nbgrader": {
     "cell_type": "code",
     "checksum": "27de8e4fa85536bb396b73bfc51b3f50",
     "grade": false,
     "grade_id": "cell-021a48dff4a8bb91",
     "locked": false,
     "schema_version": 3,
     "solution": true,
     "task": false
    },
    "source_hash": "a2398658"
   },
   "outputs": [],
   "source": [
    "# TODO: Implement this! (5 points)\n",
    "class LdaRetrievalModel(VectorSpaceRetrievalModel):\n",
    "    def __init__(self, doc_repr):\n",
    "        super().__init__(doc_repr)\n",
    "\n",
    "        # use these parameters in the train_model method\n",
    "        self.num_topics = 100\n",
    "        self.chunksize = 2000\n",
    "        self.passes = 20\n",
    "        self.iterations = 400\n",
    "        self.eval_every = 10\n",
    "        # this is need to get full vectors\n",
    "        self.minimum_probability = 0.0\n",
    "        self.alpha = \"auto\"\n",
    "        self.eta = \"auto\"\n",
    "\n",
    "    def train_model(self):\n",
    "        # YOUR CODE HERE\n",
    "        self.model = LdaModel(\n",
    "            corpus=self.corpus,\n",
    "            id2word=self.id2word,\n",
    "            num_topics=self.num_topics,\n",
    "            chunksize=self.chunksize,\n",
    "            passes=self.passes,\n",
    "            iterations=self.iterations,\n",
    "            eval_every=self.eval_every,\n",
    "            minimum_probability=self.minimum_probability,\n",
    "            alpha=self.alpha,\n",
    "            eta=self.eta,\n",
    "        )"
   ]
  },
  {
   "cell_type": "code",
   "execution_count": 85,
   "metadata": {
    "cell_id": "00136-7336885c-d6be-4e5e-8515-a71905b8c1df",
    "collapsed": true,
    "deepnote_cell_height": 219.796875,
    "deepnote_cell_type": "code",
    "deepnote_output_heights": [
     null,
     611
    ],
    "deepnote_to_be_reexecuted": false,
    "deletable": false,
    "editable": false,
    "execution_millis": 116845,
    "execution_start": 1645186548986,
    "is_output_hidden": true,
    "jupyter": {
     "outputs_hidden": true
    },
    "nbgrader": {
     "cell_type": "code",
     "checksum": "be70fcb8098d0b6ce64cd2a10e6a05b7",
     "grade": true,
     "grade_id": "cell-86750b715f0345fd",
     "locked": true,
     "points": 0,
     "schema_version": 3,
     "solution": false,
     "task": false
    },
    "source_hash": "25223581",
    "tags": []
   },
   "outputs": [
    {
     "name": "stderr",
     "output_type": "stream",
     "text": [
      "2022-02-23 15:10:04,164 : INFO : adding document #0 to Dictionary(0 unique tokens: [])\n",
      "2022-02-23 15:10:04,304 : INFO : built Dictionary(5937 unique tokens: ['-', 'algebra', 'intern', 'languag', 'preliminari']...) from 3204 documents (total 115969 corpus positions)\n",
      "2022-02-23 15:10:04,311 : INFO : discarding 4740 tokens: [('repeat', 8), ('glossari', 7), ('inspect', 8), ('uncol', 2), ('rung', 9), ('secant', 2), ('.', 1603), ('acceler', 6), ('diverg', 3), ('induc', 9)]...\n",
      "2022-02-23 15:10:04,311 : INFO : keeping 1197 tokens which were in no less than 10 and no more than 1602 (=50.0%) documents\n",
      "2022-02-23 15:10:04,315 : INFO : resulting dictionary: Dictionary(1197 unique tokens: ['-', 'algebra', 'intern', 'languag', 'preliminari']...)\n",
      "2022-02-23 15:10:04,386 : INFO : using autotuned alpha, starting with [0.01, 0.01, 0.01, 0.01, 0.01, 0.01, 0.01, 0.01, 0.01, 0.01, 0.01, 0.01, 0.01, 0.01, 0.01, 0.01, 0.01, 0.01, 0.01, 0.01, 0.01, 0.01, 0.01, 0.01, 0.01, 0.01, 0.01, 0.01, 0.01, 0.01, 0.01, 0.01, 0.01, 0.01, 0.01, 0.01, 0.01, 0.01, 0.01, 0.01, 0.01, 0.01, 0.01, 0.01, 0.01, 0.01, 0.01, 0.01, 0.01, 0.01, 0.01, 0.01, 0.01, 0.01, 0.01, 0.01, 0.01, 0.01, 0.01, 0.01, 0.01, 0.01, 0.01, 0.01, 0.01, 0.01, 0.01, 0.01, 0.01, 0.01, 0.01, 0.01, 0.01, 0.01, 0.01, 0.01, 0.01, 0.01, 0.01, 0.01, 0.01, 0.01, 0.01, 0.01, 0.01, 0.01, 0.01, 0.01, 0.01, 0.01, 0.01, 0.01, 0.01, 0.01, 0.01, 0.01, 0.01, 0.01, 0.01, 0.01]\n",
      "2022-02-23 15:10:04,387 : INFO : using serial LDA version on this node\n",
      "2022-02-23 15:10:04,403 : INFO : running online (multi-pass) LDA training, 100 topics, 20 passes over the supplied corpus of 3204 documents, updating model once every 2000 documents, evaluating perplexity every 3204 documents, iterating 400x with a convergence threshold of 0.001000\n",
      "2022-02-23 15:10:04,403 : INFO : PROGRESS: pass 0, at document #2000/3204\n",
      "2022-02-23 15:10:06,022 : INFO : optimized alpha [0.0098508755, 0.009845371, 0.009917882, 0.009809064, 0.009830533, 0.009850881, 0.009804441, 0.00989168, 0.009788479, 0.009850908, 0.009803876, 0.009804273, 0.009814116, 0.00980814, 0.009823744, 0.0097780945, 0.009819049, 0.009835008, 0.009788534, 0.009829773, 0.009923307, 0.009814592, 0.009788419, 0.009906947, 0.009902682, 0.009788294, 0.009850988, 0.009809188, 0.00986621, 0.009798969, 0.009824791, 0.009793364, 0.009929226, 0.00988643, 0.009870831, 0.009850998, 0.00983967, 0.009798812, 0.0098925885, 0.009783467, 0.009819419, 0.009851251, 0.009850597, 0.009814429, 0.0098039135, 0.009808809, 0.009783251, 0.009845151, 0.00996922, 0.009798604, 0.009803871, 0.009788504, 0.009793708, 0.009803945, 0.009798699, 0.009866538, 0.009778084, 0.009788429, 0.009814706, 0.0098088505, 0.009788215, 0.00992803, 0.009819534, 0.009902684, 0.0098961275, 0.009856508, 0.0097935, 0.009818974, 0.00984542, 0.00987656, 0.009798971, 0.009840251, 0.009804008, 0.009803894, 0.009819618, 0.009798778, 0.009850537, 0.00978323, 0.009798951, 0.009922595, 0.009809083, 0.009892784, 0.009819366, 0.009919196, 0.009829977, 0.009824744, 0.009772942, 0.009778124, 0.009793812, 0.009818931, 0.009798912, 0.009814256, 0.009778141, 0.009825116, 0.009819749, 0.009778116, 0.009814566, 0.0098819705, 0.009804194, 0.009824753]\n",
      "2022-02-23 15:10:06,026 : INFO : merging changes from 2000 documents into a model of 3204 documents\n",
      "2022-02-23 15:10:06,034 : INFO : topic #39 (0.010): 0.053*\",\" + 0.039*\"comput\" + 0.028*\"approxim\" + 0.023*\"method\" + 0.023*\"present\" + 0.022*\"function\" + 0.022*\"error\" + 0.022*\"linguist\" + 0.022*\"2\" + 0.017*\"program\"\n",
      "2022-02-23 15:10:06,035 : INFO : topic #77 (0.010): 0.065*\",\" + 0.060*\"comput\" + 0.049*\"-\" + 0.046*\"time\" + 0.034*\"diagram\" + 0.034*\"concept\" + 0.034*\"algorithm\" + 0.034*\"binari\" + 0.034*\"error\" + 0.025*\"region\"\n",
      "2022-02-23 15:10:06,035 : INFO : topic #2 (0.010): 0.067*\",\" + 0.042*\"-\" + 0.033*\"system\" + 0.022*\"algorithm\" + 0.021*\"(\" + 0.020*\"comput\" + 0.019*\"program\" + 0.016*\"gener\" + 0.015*\")\" + 0.013*\"processor\"\n",
      "2022-02-23 15:10:06,036 : INFO : topic #79 (0.010): 0.032*\"comput\" + 0.030*\"algorithm\" + 0.028*\"program\" + 0.028*\",\" + 0.026*\"-\" + 0.025*\"(\" + 0.020*\"express\" + 0.019*\"gener\" + 0.017*\"set\" + 0.015*\")\"\n",
      "2022-02-23 15:10:06,037 : INFO : topic #32 (0.010): 0.075*\",\" + 0.029*\"program\" + 0.028*\"-\" + 0.022*\"system\" + 0.013*\"method\" + 0.012*\"comput\" + 0.011*\"digit\" + 0.010*\"problem\" + 0.010*\"paper\" + 0.009*\"present\"\n",
      "2022-02-23 15:10:06,039 : INFO : topic diff=82.282372, rho=1.000000\n",
      "2022-02-23 15:10:07,237 : INFO : -7.303 per-word bound, 157.9 perplexity estimate based on a held-out corpus of 1204 documents with 49783 words\n",
      "2022-02-23 15:10:07,238 : INFO : PROGRESS: pass 0, at document #3204/3204\n",
      "2022-02-23 15:10:08,020 : INFO : optimized alpha [0.010012157, 0.010046355, 0.009970768, 0.009791289, 0.01001592, 0.010070796, 0.010106411, 0.010051812, 0.010057866, 0.010017527, 0.009914681, 0.009758179, 0.009936657, 0.009924346, 0.009664697, 0.00980676, 0.009865618, 0.009987642, 0.009812128, 0.009894954, 0.009958303, 0.009867811, 0.010023076, 0.009881941, 0.009968327, 0.00983304, 0.010248103, 0.00999708, 0.010152262, 0.009757876, 0.009906214, 0.009635219, 0.010150114, 0.010025167, 0.010142609, 0.009915987, 0.0098508, 0.010116096, 0.010311058, 0.010160214, 0.00981348, 0.010060543, 0.010058357, 0.010225849, 0.009769048, 0.009661765, 0.009747548, 0.0099868495, 0.009852558, 0.009768509, 0.00972212, 0.009905112, 0.009864144, 0.009932468, 0.009821745, 0.010141748, 0.010051972, 0.009818452, 0.010080406, 0.009879083, 0.009763867, 0.01004089, 0.010136212, 0.010159566, 0.009964857, 0.010166605, 0.009869424, 0.009818928, 0.009916381, 0.009965183, 0.009898929, 0.009952583, 0.010164502, 0.009984931, 0.009949084, 0.00996284, 0.010146574, 0.009846982, 0.0099981185, 0.010010486, 0.00980917, 0.010663174, 0.009849327, 0.010056798, 0.01007197, 0.009912867, 0.009953163, 0.010012494, 0.009840915, 0.009976999, 0.00976936, 0.009972593, 0.010000195, 0.009890865, 0.009985701, 0.00973117, 0.009815422, 0.010262784, 0.009835008, 0.010238649]\n",
      "2022-02-23 15:10:08,031 : INFO : merging changes from 1204 documents into a model of 3204 documents\n",
      "2022-02-23 15:10:08,043 : INFO : topic #31 (0.010): 0.189*\"verif\" + 0.067*\"algorithm\" + 0.060*\"compil\" + 0.045*\"cost\" + 0.044*\"permut\" + 0.040*\",\" + 0.029*\"(\" + 0.027*\"extens\" + 0.027*\"kind\" + 0.026*\"languag\"\n",
      "2022-02-23 15:10:08,044 : INFO : topic #45 (0.010): 0.110*\"-\" + 0.098*\"fit\" + 0.080*\"assembl\" + 0.064*\"algorithm\" + 0.046*\"s22\" + 0.045*\"(\" + 0.040*\"decomposit\" + 0.026*\"[\" + 0.025*\"present\" + 0.024*\"squar\"\n",
      "2022-02-23 15:10:08,045 : INFO : topic #26 (0.010): 0.092*\",\" + 0.029*\"graphic\" + 0.021*\"system\" + 0.020*\"technolog\" + 0.020*\"program\" + 0.019*\"polici\" + 0.018*\"comput\" + 0.017*\"-\" + 0.015*\"interact\" + 0.013*\"user\"\n",
      "2022-02-23 15:10:08,046 : INFO : topic #38 (0.010): 0.066*\",\" + 0.049*\"time\" + 0.038*\"-\" + 0.030*\"system\" + 0.017*\"tree\" + 0.015*\"data\" + 0.015*\"inform\" + 0.015*\"\"\" + 0.015*\"user\" + 0.014*\"averag\"\n",
      "2022-02-23 15:10:08,047 : INFO : topic #81 (0.011): 0.068*\",\" + 0.039*\"program\" + 0.019*\"gener\" + 0.015*\"hash\" + 0.015*\"-\" + 0.014*\"implement\" + 0.014*\"data\" + 0.013*\"structur\" + 0.012*\"system\" + 0.012*\"requir\"\n",
      "2022-02-23 15:10:08,048 : INFO : topic diff=0.735105, rho=0.707107\n",
      "2022-02-23 15:10:08,060 : INFO : PROGRESS: pass 1, at document #2000/3204\n",
      "2022-02-23 15:10:08,935 : INFO : optimized alpha [0.009991209, 0.009994077, 0.009875322, 0.00981727, 0.009943675, 0.010040628, 0.010039796, 0.010018747, 0.01005034, 0.009936631, 0.00995411, 0.009761305, 0.009966395, 0.009913865, 0.009609321, 0.009805516, 0.009903872, 0.009909571, 0.009753822, 0.009843285, 0.009866249, 0.009814391, 0.010063739, 0.009767479, 0.009886073, 0.009815257, 0.010186385, 0.009948271, 0.0100413235, 0.009672303, 0.009885381, 0.009618588, 0.0100589, 0.009994848, 0.010074409, 0.009895653, 0.00981821, 0.010151121, 0.010212602, 0.010159113, 0.009723951, 0.0099792145, 0.009979468, 0.010215645, 0.009704273, 0.009678787, 0.009726777, 0.0099304225, 0.009832815, 0.00977925, 0.009697179, 0.009873566, 0.009770568, 0.01000945, 0.010008809, 0.010137978, 0.009992885, 0.009809868, 0.010019718, 0.00987204, 0.009917366, 0.009957193, 0.010068192, 0.010065048, 0.010037644, 0.010129234, 0.009820413, 0.009971085, 0.009843107, 0.009867051, 0.009938964, 0.009915896, 0.01014771, 0.009991908, 0.009869415, 0.009985736, 0.010062465, 0.009876656, 0.009981274, 0.009967314, 0.009863179, 0.0105670635, 0.009816717, 0.0100219175, 0.010003148, 0.009842168, 0.0099630635, 0.010070247, 0.0097769555, 0.011171212, 0.00973316, 0.009908277, 0.01000412, 0.009794848, 0.009905379, 0.0096847555, 0.009799675, 0.01022853, 0.009824209, 0.010174082]\n",
      "2022-02-23 15:10:08,942 : INFO : merging changes from 2000 documents into a model of 3204 documents\n",
      "2022-02-23 15:10:08,949 : INFO : topic #14 (0.010): 0.099*\"algorithm\" + 0.078*\"assign\" + 0.050*\"problem\" + 0.035*\"[\" + 0.035*\"])\" + 0.035*\"(\" + 0.029*\"plotter\" + 0.028*\"m1\" + 0.026*\"map\" + 0.026*\",\"\n",
      "2022-02-23 15:10:08,949 : INFO : topic #31 (0.010): 0.109*\"compil\" + 0.086*\"verif\" + 0.062*\"permut\" + 0.050*\"kind\" + 0.046*\"algorithm\" + 0.042*\"ellipt\" + 0.037*\",\" + 0.037*\"complet\" + 0.037*\"notat\" + 0.030*\"g6\"\n",
      "2022-02-23 15:10:08,950 : INFO : topic #97 (0.010): 0.065*\",\" + 0.045*\"comput\" + 0.025*\"program\" + 0.020*\"pictur\" + 0.019*\"mathemat\" + 0.017*\"scienc\" + 0.017*\"(\" + 0.015*\"system\" + 0.015*\"process\" + 0.015*\"programm\"\n",
      "2022-02-23 15:10:08,951 : INFO : topic #81 (0.011): 0.069*\",\" + 0.039*\"program\" + 0.022*\"gener\" + 0.014*\"data\" + 0.014*\"-\" + 0.013*\"system\" + 0.013*\"hash\" + 0.012*\"implement\" + 0.012*\"requir\" + 0.011*\"structur\"\n",
      "2022-02-23 15:10:08,952 : INFO : topic #89 (0.011): 0.230*\"(\" + 0.210*\"algorithm\" + 0.166*\")\" + 0.084*\"[\" + 0.060*\"])\" + 0.024*\"integr\" + 0.018*\"gener\" + 0.017*\"polynomi\" + 0.013*\"-\" + 0.011*\"normal\"\n",
      "2022-02-23 15:10:08,954 : INFO : topic diff=0.315221, rho=0.526900\n",
      "2022-02-23 15:10:09,942 : INFO : -6.911 per-word bound, 120.3 perplexity estimate based on a held-out corpus of 1204 documents with 49783 words\n",
      "2022-02-23 15:10:09,942 : INFO : PROGRESS: pass 1, at document #3204/3204\n",
      "2022-02-23 15:10:10,772 : INFO : optimized alpha [0.010107652, 0.010144042, 0.009903143, 0.009870562, 0.010051348, 0.01023645, 0.010212981, 0.010165057, 0.010301919, 0.0099814255, 0.010071113, 0.009746687, 0.010088665, 0.01013267, 0.009554219, 0.009884247, 0.009969037, 0.010027799, 0.009846818, 0.009914964, 0.009890107, 0.009903215, 0.010422859, 0.009788047, 0.009896242, 0.010031048, 0.0104368385, 0.010118804, 0.010255996, 0.009684008, 0.009994913, 0.009583969, 0.010161057, 0.010045733, 0.010277834, 0.009971295, 0.009788948, 0.010472011, 0.01046986, 0.010577819, 0.009796059, 0.01018065, 0.010112622, 0.010590331, 0.009746514, 0.009647215, 0.00974601, 0.010040665, 0.009754869, 0.009961645, 0.009662072, 0.0100089675, 0.009889254, 0.01014417, 0.01013519, 0.010372697, 0.010242654, 0.009885067, 0.010182832, 0.009994616, 0.010034658, 0.009983979, 0.010413394, 0.010203375, 0.010065757, 0.010290434, 0.009947467, 0.010018212, 0.009954065, 0.009955483, 0.010030267, 0.010026576, 0.010437327, 0.01015334, 0.01003219, 0.0102009885, 0.010338001, 0.010051037, 0.010219005, 0.010055604, 0.009920555, 0.010958128, 0.009888481, 0.010052724, 0.010206521, 0.009864876, 0.010208072, 0.0104346555, 0.009843688, 0.011785182, 0.009795646, 0.010097095, 0.010286057, 0.00988052, 0.010042612, 0.009773264, 0.009788524, 0.01051205, 0.009952644, 0.010460133]\n",
      "2022-02-23 15:10:10,779 : INFO : merging changes from 1204 documents into a model of 3204 documents\n",
      "2022-02-23 15:10:10,786 : INFO : topic #14 (0.010): 0.119*\"assign\" + 0.104*\"algorithm\" + 0.059*\"problem\" + 0.043*\"space\" + 0.034*\"ray\" + 0.031*\",\" + 0.028*\"map\" + 0.028*\"dimens\" + 0.026*\"find\" + 0.025*\"plotter\"\n",
      "2022-02-23 15:10:10,792 : INFO : topic #31 (0.010): 0.135*\"verif\" + 0.102*\"compil\" + 0.066*\"complet\" + 0.064*\"kind\" + 0.051*\"algorithm\" + 0.050*\"permut\" + 0.042*\"notat\" + 0.035*\"construct\" + 0.035*\",\" + 0.034*\"g6\"\n",
      "2022-02-23 15:10:10,793 : INFO : topic #39 (0.011): 0.167*\"]\" + 0.056*\",\" + 0.053*\"comput\" + 0.030*\"approxim\" + 0.028*\"exponenti\" + 0.026*\"analyt\" + 0.026*\"error\" + 0.025*\"method\" + 0.025*\"present\" + 0.024*\"theoret\"\n",
      "2022-02-23 15:10:10,795 : INFO : topic #81 (0.011): 0.073*\",\" + 0.039*\"program\" + 0.024*\"hash\" + 0.018*\"gener\" + 0.014*\"-\" + 0.014*\"implement\" + 0.013*\"data\" + 0.012*\"requir\" + 0.012*\"size\" + 0.011*\"perform\"\n",
      "2022-02-23 15:10:10,796 : INFO : topic #89 (0.012): 0.248*\"(\" + 0.223*\"algorithm\" + 0.203*\")\" + 0.085*\"[\" + 0.029*\"])\" + 0.019*\"integr\" + 0.016*\"gener\" + 0.014*\"-\" + 0.013*\"polynomi\" + 0.011*\"normal\"\n",
      "2022-02-23 15:10:10,798 : INFO : topic diff=0.427571, rho=0.526900\n",
      "2022-02-23 15:10:10,806 : INFO : PROGRESS: pass 2, at document #2000/3204\n",
      "2022-02-23 15:10:11,682 : INFO : optimized alpha [0.010127213, 0.010135194, 0.009837715, 0.009980089, 0.010014349, 0.010222585, 0.010160431, 0.01016158, 0.010285643, 0.009923616, 0.010129642, 0.009798962, 0.010147985, 0.010157417, 0.009535119, 0.0099342475, 0.009995903, 0.009966129, 0.009830678, 0.009884041, 0.009811294, 0.00990311, 0.010480394, 0.00971554, 0.009830823, 0.010100271, 0.01041186, 0.010086471, 0.010185762, 0.009615736, 0.010039634, 0.009620636, 0.0100835245, 0.010097755, 0.010230599, 0.009998382, 0.009755325, 0.010547036, 0.010392791, 0.010586818, 0.009753143, 0.010128941, 0.010054823, 0.0106066335, 0.009732031, 0.009699711, 0.009770258, 0.010038141, 0.009751281, 0.010012323, 0.009664975, 0.0099877175, 0.009816495, 0.010216146, 0.0104416385, 0.010402059, 0.010180912, 0.0099241845, 0.01015448, 0.009990164, 0.010164793, 0.009917081, 0.010365992, 0.01013198, 0.010232137, 0.010268619, 0.009927349, 0.010319819, 0.009913225, 0.009874612, 0.010079538, 0.010034125, 0.01042427, 0.010180118, 0.009984665, 0.010274965, 0.010280184, 0.010111648, 0.010226265, 0.010022541, 0.010022281, 0.010854305, 0.009908943, 0.010037516, 0.010143912, 0.009813819, 0.010243442, 0.010530284, 0.009795194, 0.01306147, 0.009806001, 0.01005792, 0.010315904, 0.009813357, 0.009985793, 0.009778547, 0.009794499, 0.010491116, 0.0099871475, 0.010402504]\n",
      "2022-02-23 15:10:11,687 : INFO : merging changes from 2000 documents into a model of 3204 documents\n",
      "2022-02-23 15:10:11,694 : INFO : topic #14 (0.010): 0.138*\"assign\" + 0.100*\"algorithm\" + 0.057*\"problem\" + 0.039*\"plotter\" + 0.034*\"dimens\" + 0.031*\"space\" + 0.029*\"famili\" + 0.029*\"ray\" + 0.027*\"m1\" + 0.026*\",\"\n",
      "2022-02-23 15:10:11,695 : INFO : topic #29 (0.010): 0.048*\"meet\" + 0.042*\"comput\" + 0.029*\"data\" + 0.028*\",\" + 0.025*\"gener\" + 0.023*\"develop\" + 0.022*\"physic\" + 0.021*\"principl\" + 0.019*\"fairli\" + 0.019*\"set\"\n",
      "2022-02-23 15:10:11,695 : INFO : topic #43 (0.011): 0.048*\"index\" + 0.041*\"retriev\" + 0.038*\",\" + 0.036*\"access\" + 0.036*\")\" + 0.035*\"queri\" + 0.035*\"(\" + 0.031*\"combin\" + 0.031*\"-\" + 0.031*\"properti\"\n",
      "2022-02-23 15:10:11,696 : INFO : topic #81 (0.011): 0.073*\",\" + 0.040*\"program\" + 0.021*\"hash\" + 0.019*\"gener\" + 0.014*\"data\" + 0.013*\"-\" + 0.012*\"implement\" + 0.012*\"requir\" + 0.011*\"perform\" + 0.010*\"size\"\n",
      "2022-02-23 15:10:11,697 : INFO : topic #89 (0.013): 0.254*\"(\" + 0.222*\"algorithm\" + 0.198*\")\" + 0.074*\"[\" + 0.048*\"])\" + 0.020*\"integr\" + 0.016*\"gener\" + 0.014*\"polynomi\" + 0.013*\"-\" + 0.011*\"matrix\"\n",
      "2022-02-23 15:10:11,698 : INFO : topic diff=0.404581, rho=0.466151\n",
      "2022-02-23 15:10:12,671 : INFO : -6.793 per-word bound, 110.9 perplexity estimate based on a held-out corpus of 1204 documents with 49783 words\n",
      "2022-02-23 15:10:12,672 : INFO : PROGRESS: pass 2, at document #3204/3204\n",
      "2022-02-23 15:10:13,448 : INFO : optimized alpha [0.010266779, 0.010300292, 0.00984865, 0.010065642, 0.01010996, 0.010405009, 0.010270663, 0.010287509, 0.010542502, 0.009984068, 0.010165711, 0.009824846, 0.010312075, 0.010404555, 0.009533833, 0.010031159, 0.010077072, 0.010087241, 0.009928952, 0.009948244, 0.009884827, 0.01001688, 0.010855055, 0.009773791, 0.009868949, 0.010355997, 0.010639649, 0.0102419695, 0.01039327, 0.009658306, 0.010179558, 0.009617453, 0.010202759, 0.010138523, 0.010419559, 0.010049538, 0.0097471075, 0.010865249, 0.010605838, 0.011023625, 0.009871517, 0.01032837, 0.010177509, 0.01098611, 0.009831205, 0.009680142, 0.009822357, 0.010151626, 0.009677986, 0.010210109, 0.009658609, 0.010127818, 0.009949264, 0.01034723, 0.01061338, 0.01063674, 0.010404146, 0.010006262, 0.010311078, 0.0101225125, 0.010272376, 0.009954402, 0.010705247, 0.010239067, 0.010267439, 0.010411652, 0.01006369, 0.010394228, 0.0100198565, 0.009973389, 0.010172037, 0.010144305, 0.010695574, 0.010327522, 0.010172578, 0.0105073955, 0.010599246, 0.010290602, 0.010463048, 0.010129138, 0.010099629, 0.01112797, 0.010011623, 0.010073698, 0.010341116, 0.0098355105, 0.010514994, 0.010944435, 0.009862915, 0.013915495, 0.009873305, 0.010229931, 0.0106176445, 0.009936865, 0.010107988, 0.009895482, 0.009774329, 0.010745226, 0.010112601, 0.010654369]\n",
      "2022-02-23 15:10:13,454 : INFO : merging changes from 1204 documents into a model of 3204 documents\n",
      "2022-02-23 15:10:13,461 : INFO : topic #14 (0.010): 0.147*\"assign\" + 0.117*\"algorithm\" + 0.059*\"problem\" + 0.057*\"space\" + 0.041*\"dimens\" + 0.037*\"famili\" + 0.034*\"ray\" + 0.030*\",\" + 0.028*\"plotter\" + 0.027*\"time\"\n",
      "2022-02-23 15:10:13,462 : INFO : topic #29 (0.010): 0.049*\"meet\" + 0.042*\"comput\" + 0.037*\"data\" + 0.031*\"principl\" + 0.028*\",\" + 0.028*\"fairli\" + 0.026*\"gener\" + 0.025*\"develop\" + 0.022*\"topic\" + 0.022*\"exact\"\n",
      "2022-02-23 15:10:13,462 : INFO : topic #39 (0.011): 0.197*\"]\" + 0.056*\"comput\" + 0.052*\",\" + 0.037*\"exponenti\" + 0.030*\"analyt\" + 0.029*\"coeffici\" + 0.029*\"approxim\" + 0.028*\"continu\" + 0.027*\"theoret\" + 0.026*\"error\"\n",
      "2022-02-23 15:10:13,463 : INFO : topic #81 (0.011): 0.076*\",\" + 0.038*\"program\" + 0.032*\"hash\" + 0.015*\"gener\" + 0.015*\"size\" + 0.014*\"composit\" + 0.014*\"-\" + 0.013*\"implement\" + 0.013*\"data\" + 0.012*\"perform\"\n",
      "2022-02-23 15:10:13,464 : INFO : topic #89 (0.014): 0.269*\"(\" + 0.228*\"algorithm\" + 0.226*\")\" + 0.075*\"[\" + 0.026*\"])\" + 0.017*\"integr\" + 0.015*\"gener\" + 0.013*\"-\" + 0.012*\"polynomi\" + 0.010*\"order\"\n",
      "2022-02-23 15:10:13,466 : INFO : topic diff=0.535198, rho=0.466151\n",
      "2022-02-23 15:10:13,476 : INFO : PROGRESS: pass 3, at document #2000/3204\n",
      "2022-02-23 15:10:14,339 : INFO : optimized alpha [0.010308435, 0.0103044575, 0.0097979205, 0.010199896, 0.010096263, 0.010411405, 0.010245353, 0.010310574, 0.010547906, 0.009932908, 0.0102236355, 0.009891866, 0.010407231, 0.010451886, 0.00953813, 0.010102196, 0.010112201, 0.010035742, 0.009939938, 0.0099295145, 0.009823113, 0.010035834, 0.010932853, 0.009717898, 0.009821968, 0.010452963, 0.010621886, 0.010209884, 0.010337222, 0.009616625, 0.010226309, 0.009676073, 0.010137274, 0.010207902, 0.010391256, 0.010093687, 0.009724665, 0.01095729, 0.01054363, 0.011041175, 0.009849473, 0.010280083, 0.010142774, 0.011006631, 0.009826498, 0.009745095, 0.009855204, 0.010179458, 0.009683179, 0.010272625, 0.009681125, 0.010129533, 0.009893876, 0.010423265, 0.010922102, 0.010714757, 0.010359766, 0.010058877, 0.0103023825, 0.010111415, 0.0103979055, 0.009908342, 0.010669905, 0.010172614, 0.010441768, 0.010400282, 0.010072806, 0.010835303, 0.00999797, 0.009903066, 0.010244868, 0.010181215, 0.010706156, 0.010360009, 0.010160576, 0.010598333, 0.010556687, 0.010347218, 0.010485846, 0.0100948755, 0.010218264, 0.011029014, 0.010093971, 0.010065181, 0.010300805, 0.009807699, 0.010579021, 0.011069677, 0.009826101, 0.015123911, 0.009910387, 0.0102130845, 0.010644734, 0.009901888, 0.01006089, 0.009929491, 0.009810225, 0.010744635, 0.010156366, 0.010608911]\n",
      "2022-02-23 15:10:14,348 : INFO : merging changes from 2000 documents into a model of 3204 documents\n",
      "2022-02-23 15:10:14,356 : INFO : topic #14 (0.010): 0.165*\"assign\" + 0.113*\"algorithm\" + 0.056*\"problem\" + 0.056*\"space\" + 0.045*\"dimens\" + 0.039*\"plotter\" + 0.039*\"famili\" + 0.030*\"ray\" + 0.026*\",\" + 0.024*\"m1\"\n",
      "2022-02-23 15:10:14,359 : INFO : topic #50 (0.010): 0.097*\"equat\" + 0.063*\";\" + 0.059*\"differenti\" + 0.058*\"function\" + 0.053*\"comput\" + 0.052*\"solut\" + 0.044*\",\" + 0.039*\"polynomi\" + 0.033*\"term\" + 0.027*\"mathemat\"\n",
      "2022-02-23 15:10:14,363 : INFO : topic #87 (0.011): 0.100*\"structur\" + 0.081*\"data\" + 0.075*\"inform\" + 0.057*\"system\" + 0.055*\"storag\" + 0.044*\",\" + 0.043*\"mechan\" + 0.038*\"level\" + 0.035*\"defin\" + 0.033*\"store\"\n",
      "2022-02-23 15:10:14,368 : INFO : topic #81 (0.011): 0.076*\",\" + 0.039*\"program\" + 0.028*\"hash\" + 0.017*\"gener\" + 0.014*\"data\" + 0.014*\"composit\" + 0.013*\"size\" + 0.013*\"requir\" + 0.013*\"-\" + 0.012*\"perform\"\n",
      "2022-02-23 15:10:14,370 : INFO : topic #89 (0.015): 0.272*\"(\" + 0.233*\")\" + 0.226*\"algorithm\" + 0.057*\"[\" + 0.029*\"])\" + 0.020*\"integr\" + 0.016*\"gener\" + 0.013*\"polynomi\" + 0.012*\"-\" + 0.011*\"order\"\n",
      "2022-02-23 15:10:14,371 : INFO : topic diff=0.546253, rho=0.422502\n",
      "2022-02-23 15:10:15,425 : INFO : -6.709 per-word bound, 104.6 perplexity estimate based on a held-out corpus of 1204 documents with 49783 words\n",
      "2022-02-23 15:10:15,426 : INFO : PROGRESS: pass 3, at document #3204/3204\n",
      "2022-02-23 15:10:16,215 : INFO : optimized alpha [0.01046887, 0.010455229, 0.00983044, 0.010309136, 0.010194422, 0.01055957, 0.010382569, 0.010473052, 0.010817301, 0.009995996, 0.010252802, 0.009918827, 0.01057917, 0.010697568, 0.00956198, 0.010193795, 0.010218409, 0.010153508, 0.010050615, 0.010006099, 0.009929568, 0.010128933, 0.011320026, 0.009802923, 0.009878857, 0.010743469, 0.01082652, 0.010333701, 0.010533988, 0.009670079, 0.010364888, 0.009707701, 0.01028615, 0.010270214, 0.010545137, 0.010147451, 0.009718721, 0.0112941675, 0.010760976, 0.011471042, 0.009961163, 0.010469693, 0.01026567, 0.011358234, 0.009920611, 0.009775797, 0.009930781, 0.010275446, 0.009640004, 0.010507979, 0.009717369, 0.0102645205, 0.010046796, 0.010571556, 0.011097749, 0.010945728, 0.0105714975, 0.010151464, 0.010441422, 0.010235871, 0.010506207, 0.009947112, 0.010998002, 0.010270609, 0.010486954, 0.010549287, 0.01022938, 0.010910205, 0.010095455, 0.010021726, 0.010332357, 0.010302892, 0.010959192, 0.010498122, 0.010361121, 0.010826816, 0.010884277, 0.010507153, 0.010718222, 0.010206888, 0.010320422, 0.011255307, 0.0102194175, 0.01010607, 0.010495626, 0.009839029, 0.010848106, 0.011516467, 0.009884828, 0.016145896, 0.009978659, 0.010370087, 0.010945812, 0.010064459, 0.01018332, 0.010067579, 0.009806691, 0.010970105, 0.01027756, 0.010832218]\n",
      "2022-02-23 15:10:16,220 : INFO : merging changes from 1204 documents into a model of 3204 documents\n",
      "2022-02-23 15:10:16,227 : INFO : topic #14 (0.010): 0.155*\"assign\" + 0.135*\"algorithm\" + 0.081*\"space\" + 0.060*\"problem\" + 0.045*\"dimens\" + 0.042*\"famili\" + 0.032*\"ray\" + 0.031*\"extens\" + 0.030*\",\" + 0.029*\"time\"\n",
      "2022-02-23 15:10:16,228 : INFO : topic #48 (0.010): 0.117*\"invers\" + 0.043*\",\" + 0.042*\"frequenc\" + 0.034*\"matrix\" + 0.034*\"procedur\" + 0.034*\"approach\" + 0.027*\"gener\" + 0.024*\"-\" + 0.023*\"display\" + 0.023*\"cost\"\n",
      "2022-02-23 15:10:16,231 : INFO : topic #39 (0.011): 0.214*\"]\" + 0.057*\"comput\" + 0.048*\",\" + 0.047*\"exponenti\" + 0.036*\"coeffici\" + 0.032*\"continu\" + 0.031*\"analyt\" + 0.029*\"theoret\" + 0.027*\"approxim\" + 0.027*\"function\"\n",
      "2022-02-23 15:10:16,232 : INFO : topic #87 (0.012): 0.114*\"structur\" + 0.106*\"data\" + 0.070*\"inform\" + 0.053*\"system\" + 0.048*\"storag\" + 0.045*\",\" + 0.043*\"mechan\" + 0.039*\"level\" + 0.035*\"defin\" + 0.031*\"store\"\n",
      "2022-02-23 15:10:16,233 : INFO : topic #89 (0.016): 0.287*\"(\" + 0.256*\")\" + 0.227*\"algorithm\" + 0.060*\"[\" + 0.016*\"])\" + 0.016*\"integr\" + 0.015*\"gener\" + 0.013*\"-\" + 0.011*\"order\" + 0.011*\"polynomi\"\n",
      "2022-02-23 15:10:16,234 : INFO : topic diff=0.659709, rho=0.422502\n",
      "2022-02-23 15:10:16,243 : INFO : PROGRESS: pass 4, at document #2000/3204\n",
      "2022-02-23 15:10:17,097 : INFO : optimized alpha [0.010519457, 0.010476955, 0.009794901, 0.010444331, 0.010200083, 0.010575304, 0.010367258, 0.010522688, 0.010833057, 0.00995186, 0.010306899, 0.010006554, 0.010673506, 0.010752743, 0.009564948, 0.010265686, 0.010262813, 0.010120105, 0.010064728, 0.010003097, 0.0098867975, 0.010148574, 0.011388175, 0.009754134, 0.009846364, 0.010855772, 0.0108174905, 0.010318143, 0.010491594, 0.009647885, 0.010419894, 0.009790827, 0.010237835, 0.010354878, 0.01053916, 0.010202522, 0.009716727, 0.011387091, 0.010723618, 0.011492311, 0.009948709, 0.010432226, 0.010243658, 0.011376701, 0.009924205, 0.009855305, 0.009969254, 0.010335473, 0.0096577015, 0.010583336, 0.00975602, 0.010275712, 0.009997395, 0.01065408, 0.011420952, 0.011037063, 0.010531441, 0.010208137, 0.010445254, 0.0102293575, 0.010631211, 0.009912, 0.010984029, 0.010210146, 0.010674163, 0.010548741, 0.010253174, 0.011407359, 0.0100794155, 0.0099672, 0.010420185, 0.010348834, 0.0109715685, 0.010538036, 0.010383459, 0.010940259, 0.010856736, 0.01055705, 0.010769639, 0.0101834545, 0.010440853, 0.01115845, 0.01031778, 0.010103092, 0.010469799, 0.009828052, 0.010908558, 0.011654864, 0.0098595, 0.017453032, 0.010023159, 0.010366065, 0.010999058, 0.01004362, 0.010147988, 0.010126376, 0.009850262, 0.010972586, 0.010323876, 0.010793119]\n",
      "2022-02-23 15:10:17,103 : INFO : merging changes from 2000 documents into a model of 3204 documents\n",
      "2022-02-23 15:10:17,110 : INFO : topic #14 (0.010): 0.172*\"assign\" + 0.130*\"algorithm\" + 0.075*\"space\" + 0.056*\"problem\" + 0.048*\"dimens\" + 0.044*\"famili\" + 0.037*\"plotter\" + 0.029*\"ray\" + 0.028*\"extens\" + 0.027*\",\"\n",
      "2022-02-23 15:10:17,112 : INFO : topic #29 (0.010): 0.048*\"comput\" + 0.046*\"meet\" + 0.035*\"gener\" + 0.032*\"data\" + 0.032*\"purpos\" + 0.031*\"principl\" + 0.027*\"develop\" + 0.025*\",\" + 0.023*\"physic\" + 0.022*\"concern\"\n",
      "2022-02-23 15:10:17,113 : INFO : topic #39 (0.011): 0.164*\"]\" + 0.060*\"comput\" + 0.051*\"coeffici\" + 0.048*\"exponenti\" + 0.048*\",\" + 0.035*\"continu\" + 0.031*\"analyt\" + 0.030*\"error\" + 0.028*\"function\" + 0.028*\"approxim\"\n",
      "2022-02-23 15:10:17,114 : INFO : topic #87 (0.012): 0.113*\"data\" + 0.111*\"structur\" + 0.077*\"inform\" + 0.056*\"system\" + 0.046*\"storag\" + 0.043*\",\" + 0.041*\"mechan\" + 0.034*\"defin\" + 0.033*\"level\" + 0.032*\"retriev\"\n",
      "2022-02-23 15:10:17,115 : INFO : topic #89 (0.017): 0.290*\"(\" + 0.262*\")\" + 0.227*\"algorithm\" + 0.044*\"[\" + 0.018*\"integr\" + 0.015*\"])\" + 0.015*\"gener\" + 0.012*\"-\" + 0.012*\"polynomi\" + 0.012*\"order\"\n",
      "2022-02-23 15:10:17,116 : INFO : topic diff=0.638272, rho=0.389191\n",
      "2022-02-23 15:10:18,098 : INFO : -6.648 per-word bound, 100.3 perplexity estimate based on a held-out corpus of 1204 documents with 49783 words\n",
      "2022-02-23 15:10:18,098 : INFO : PROGRESS: pass 4, at document #3204/3204\n",
      "2022-02-23 15:10:18,892 : INFO : optimized alpha [0.010672038, 0.010613418, 0.009826068, 0.010538437, 0.0102945315, 0.010723192, 0.010504963, 0.010677109, 0.011078115, 0.0100207245, 0.010334009, 0.010040896, 0.010836707, 0.0109960195, 0.009609673, 0.010357016, 0.010381173, 0.010239369, 0.010167521, 0.010074328, 0.010031383, 0.010238125, 0.011798543, 0.009833531, 0.009932158, 0.011167471, 0.011000819, 0.010422827, 0.010674646, 0.00973267, 0.010592361, 0.009854663, 0.01038626, 0.010412409, 0.010702407, 0.010262301, 0.009731777, 0.011733901, 0.0109260185, 0.011898475, 0.010059004, 0.010608536, 0.010367997, 0.0117032, 0.010011545, 0.009883524, 0.01005245, 0.010424134, 0.009641583, 0.010782713, 0.009812165, 0.010407702, 0.010158775, 0.0108017195, 0.011594786, 0.011274691, 0.010725194, 0.010297103, 0.010587764, 0.0103415605, 0.010741338, 0.0099522285, 0.011317029, 0.010314679, 0.010746035, 0.010687183, 0.010448909, 0.0114646545, 0.010176579, 0.010080858, 0.010517754, 0.010471532, 0.011214677, 0.01067289, 0.010593874, 0.011160703, 0.011149676, 0.010702043, 0.011000541, 0.010304104, 0.010555409, 0.011320701, 0.010450733, 0.010154839, 0.010654447, 0.009877169, 0.011189058, 0.012080715, 0.00991451, 0.018656228, 0.010086468, 0.010525334, 0.011285428, 0.0102047855, 0.010278328, 0.010287563, 0.009857241, 0.011200582, 0.010442726, 0.011000696]\n",
      "2022-02-23 15:10:18,918 : INFO : merging changes from 1204 documents into a model of 3204 documents\n",
      "2022-02-23 15:10:18,927 : INFO : topic #48 (0.010): 0.127*\"invers\" + 0.059*\"frequenc\" + 0.045*\"matrix\" + 0.042*\",\" + 0.037*\"approach\" + 0.034*\"procedur\" + 0.028*\"gener\" + 0.024*\"cost\" + 0.022*\"analysi\" + 0.021*\"display\"\n",
      "2022-02-23 15:10:18,934 : INFO : topic #14 (0.010): 0.152*\"assign\" + 0.151*\"algorithm\" + 0.092*\"space\" + 0.059*\"problem\" + 0.047*\"famili\" + 0.046*\"dimens\" + 0.034*\"extens\" + 0.030*\"ray\" + 0.030*\",\" + 0.029*\"time\"\n",
      "2022-02-23 15:10:18,936 : INFO : topic #39 (0.012): 0.227*\"]\" + 0.060*\"comput\" + 0.053*\"exponenti\" + 0.043*\",\" + 0.040*\"coeffici\" + 0.035*\"continu\" + 0.034*\"analyt\" + 0.031*\"theoret\" + 0.029*\"function\" + 0.028*\"approxim\"\n",
      "2022-02-23 15:10:18,938 : INFO : topic #87 (0.012): 0.134*\"data\" + 0.122*\"structur\" + 0.071*\"inform\" + 0.052*\"system\" + 0.045*\",\" + 0.041*\"mechan\" + 0.041*\"storag\" + 0.034*\"level\" + 0.034*\"defin\" + 0.028*\"retriev\"\n",
      "2022-02-23 15:10:18,940 : INFO : topic #89 (0.019): 0.302*\"(\" + 0.278*\")\" + 0.224*\"algorithm\" + 0.049*\"[\" + 0.015*\"integr\" + 0.014*\"gener\" + 0.013*\"-\" + 0.012*\"order\" + 0.010*\"polynomi\" + 0.009*\"])\"\n",
      "2022-02-23 15:10:18,941 : INFO : topic diff=0.698652, rho=0.389191\n",
      "2022-02-23 15:10:18,948 : INFO : PROGRESS: pass 5, at document #2000/3204\n",
      "2022-02-23 15:10:19,796 : INFO : optimized alpha [0.010717217, 0.01063344, 0.00979593, 0.01067549, 0.010307618, 0.010749267, 0.010502024, 0.010738903, 0.011097569, 0.009989511, 0.010383193, 0.0101472745, 0.010939119, 0.011052717, 0.009616537, 0.010428384, 0.01043582, 0.01021204, 0.010195615, 0.010071997, 0.009998582, 0.010277177, 0.011862534, 0.009801219, 0.0099077765, 0.011292885, 0.0110036135, 0.010410318, 0.010640155, 0.009726595, 0.010654948, 0.009943609, 0.010354121, 0.0105054565, 0.010707897, 0.010319739, 0.009737926, 0.011837042, 0.010904217, 0.011919489, 0.010049225, 0.010594302, 0.010349409, 0.011720237, 0.010011465, 0.009974537, 0.010095982, 0.010503232, 0.009667941, 0.01085472, 0.009857624, 0.010427237, 0.010117742, 0.010876872, 0.011909381, 0.011372432, 0.01069855, 0.01035587, 0.0106006395, 0.01033164, 0.0108707175, 0.009929764, 0.011305387, 0.010268251, 0.010927183, 0.010692251, 0.01048937, 0.0119657945, 0.01016546, 0.010041391, 0.010615582, 0.010518248, 0.011228893, 0.01071389, 0.010617707, 0.011271222, 0.011119591, 0.010748375, 0.011065979, 0.010282191, 0.010682232, 0.011234581, 0.010564098, 0.010154567, 0.010633436, 0.009871334, 0.0112527665, 0.0122327125, 0.00989341, 0.020094978, 0.01013948, 0.010530517, 0.011340085, 0.010196069, 0.010254662, 0.010353687, 0.009902276, 0.01120783, 0.010487849, 0.010967119]\n",
      "2022-02-23 15:10:19,802 : INFO : merging changes from 2000 documents into a model of 3204 documents\n",
      "2022-02-23 15:10:19,810 : INFO : topic #14 (0.010): 0.167*\"assign\" + 0.143*\"algorithm\" + 0.086*\"space\" + 0.056*\"problem\" + 0.050*\"famili\" + 0.048*\"dimens\" + 0.034*\"plotter\" + 0.032*\"extens\" + 0.028*\"ray\" + 0.027*\",\"\n",
      "2022-02-23 15:10:19,811 : INFO : topic #48 (0.010): 0.152*\"invers\" + 0.064*\"matrix\" + 0.044*\",\" + 0.043*\"frequenc\" + 0.034*\"procedur\" + 0.028*\"approach\" + 0.026*\"gener\" + 0.024*\"analysi\" + 0.022*\"automat\" + 0.022*\"comput\"\n",
      "2022-02-23 15:10:19,811 : INFO : topic #67 (0.012): 0.210*\"[\" + 0.173*\"(\" + 0.171*\"algorithm\" + 0.161*\"])\" + 0.037*\"function\" + 0.037*\"formula\" + 0.025*\"d1\" + 0.024*\"quadratur\" + 0.018*\"s14\" + 0.017*\")\"\n",
      "2022-02-23 15:10:19,812 : INFO : topic #87 (0.012): 0.143*\"data\" + 0.117*\"structur\" + 0.077*\"inform\" + 0.056*\"system\" + 0.043*\",\" + 0.040*\"mechan\" + 0.038*\"storag\" + 0.034*\"defin\" + 0.032*\"process\" + 0.030*\"retriev\"\n",
      "2022-02-23 15:10:19,813 : INFO : topic #89 (0.020): 0.305*\"(\" + 0.283*\")\" + 0.223*\"algorithm\" + 0.035*\"[\" + 0.018*\"integr\" + 0.014*\"gener\" + 0.012*\"order\" + 0.012*\"-\" + 0.010*\"polynomi\" + 0.009*\"a1\"\n",
      "2022-02-23 15:10:19,815 : INFO : topic diff=0.636780, rho=0.362690\n",
      "2022-02-23 15:10:20,788 : INFO : -6.606 per-word bound, 97.4 perplexity estimate based on a held-out corpus of 1204 documents with 49783 words\n",
      "2022-02-23 15:10:20,789 : INFO : PROGRESS: pass 5, at document #3204/3204\n",
      "2022-02-23 15:10:21,571 : INFO : optimized alpha [0.01086398, 0.010774451, 0.009829081, 0.010766403, 0.010399558, 0.010911218, 0.010634624, 0.01086422, 0.011352674, 0.010054532, 0.010399289, 0.010194411, 0.011105697, 0.011286588, 0.009676535, 0.010520235, 0.010553184, 0.010333525, 0.010307683, 0.010157365, 0.0101437215, 0.01037679, 0.012251778, 0.009903045, 0.010009833, 0.011590255, 0.01118616, 0.010505516, 0.01083182, 0.0098122675, 0.010827011, 0.010018311, 0.010515808, 0.010565534, 0.010867968, 0.010378843, 0.009776597, 0.012189343, 0.011121618, 0.012306628, 0.010165144, 0.010773085, 0.0104789045, 0.012029758, 0.010087414, 0.010003751, 0.010180198, 0.010589475, 0.009656815, 0.011045903, 0.009898264, 0.010563881, 0.010281822, 0.01102189, 0.012065009, 0.01162182, 0.01088414, 0.010439264, 0.010740936, 0.0104432255, 0.010980248, 0.009992646, 0.0116387755, 0.010391689, 0.011013353, 0.010835365, 0.0107090995, 0.012007151, 0.010259881, 0.010148206, 0.01070347, 0.010633356, 0.011441208, 0.010837204, 0.010829106, 0.011499818, 0.011376241, 0.010884576, 0.0113013275, 0.010414464, 0.010795872, 0.0113731865, 0.01071113, 0.010209792, 0.010823292, 0.009929844, 0.01151901, 0.012653373, 0.009948513, 0.021505743, 0.010192678, 0.010676988, 0.011635757, 0.010325977, 0.010367732, 0.010515082, 0.009906259, 0.011412534, 0.010624776, 0.011168969]\n",
      "2022-02-23 15:10:21,576 : INFO : merging changes from 1204 documents into a model of 3204 documents\n",
      "2022-02-23 15:10:21,583 : INFO : topic #48 (0.010): 0.133*\"invers\" + 0.066*\"frequenc\" + 0.056*\"matrix\" + 0.042*\",\" + 0.040*\"approach\" + 0.033*\"procedur\" + 0.029*\"gener\" + 0.024*\"cost\" + 0.022*\"analysi\" + 0.021*\"widespread\"\n",
      "2022-02-23 15:10:21,583 : INFO : topic #14 (0.010): 0.165*\"algorithm\" + 0.143*\"assign\" + 0.104*\"space\" + 0.057*\"problem\" + 0.051*\"famili\" + 0.045*\"dimens\" + 0.038*\"extens\" + 0.029*\"time\" + 0.029*\",\" + 0.028*\"ray\"\n",
      "2022-02-23 15:10:21,585 : INFO : topic #39 (0.012): 0.236*\"]\" + 0.061*\"comput\" + 0.057*\"exponenti\" + 0.044*\"coeffici\" + 0.039*\",\" + 0.038*\"continu\" + 0.038*\"analyt\" + 0.032*\"theoret\" + 0.030*\"function\" + 0.029*\"approxim\"\n",
      "2022-02-23 15:10:21,586 : INFO : topic #87 (0.013): 0.160*\"data\" + 0.131*\"structur\" + 0.070*\"inform\" + 0.053*\"system\" + 0.044*\",\" + 0.040*\"mechan\" + 0.034*\"storag\" + 0.034*\"defin\" + 0.030*\"process\" + 0.029*\"level\"\n",
      "2022-02-23 15:10:21,587 : INFO : topic #89 (0.022): 0.315*\"(\" + 0.294*\")\" + 0.218*\"algorithm\" + 0.042*\"[\" + 0.016*\"integr\" + 0.013*\"gener\" + 0.012*\"-\" + 0.012*\"order\" + 0.009*\"polynomi\" + 0.008*\"a1\"\n",
      "2022-02-23 15:10:21,588 : INFO : topic diff=0.658833, rho=0.362690\n",
      "2022-02-23 15:10:21,596 : INFO : PROGRESS: pass 6, at document #2000/3204\n",
      "2022-02-23 15:10:22,576 : INFO : optimized alpha [0.010915834, 0.010802341, 0.009806838, 0.010907766, 0.0104174465, 0.010948599, 0.010635327, 0.010943186, 0.011373595, 0.0100240735, 0.010446287, 0.010309523, 0.01120458, 0.011351006, 0.009694909, 0.010596925, 0.0106120175, 0.010314892, 0.010335945, 0.010160665, 0.010123031, 0.0104263285, 0.012327352, 0.00988643, 0.009988699, 0.011721053, 0.01119195, 0.010493942, 0.0108059235, 0.009815173, 0.010895136, 0.010116496, 0.010497802, 0.010663092, 0.01088576, 0.010440642, 0.009801402, 0.01230486, 0.011109536, 0.012327658, 0.0101646, 0.010764542, 0.010463012, 0.012045893, 0.010087662, 0.010098849, 0.01021805, 0.0106735965, 0.009684149, 0.011123043, 0.009950133, 0.010587597, 0.010263648, 0.011100339, 0.012385315, 0.011720144, 0.010860149, 0.01050223, 0.010756462, 0.010430283, 0.01110508, 0.009985879, 0.011633295, 0.010355239, 0.011193855, 0.010851141, 0.010764998, 0.01249609, 0.010251344, 0.010132085, 0.010798135, 0.010681127, 0.011453632, 0.010881381, 0.01086002, 0.011610451, 0.011350084, 0.010924511, 0.0113686, 0.01039718, 0.010918258, 0.011298507, 0.010848077, 0.010208333, 0.0108118905, 0.00993678, 0.011582353, 0.012821749, 0.009927639, 0.023112971, 0.010253644, 0.010690643, 0.011688172, 0.010319416, 0.010347272, 0.010590067, 0.009954439, 0.011420463, 0.010668961, 0.0111344345]\n",
      "2022-02-23 15:10:22,582 : INFO : merging changes from 2000 documents into a model of 3204 documents\n",
      "2022-02-23 15:10:22,589 : INFO : topic #48 (0.010): 0.157*\"invers\" + 0.075*\"matrix\" + 0.051*\"frequenc\" + 0.043*\",\" + 0.034*\"procedur\" + 0.030*\"approach\" + 0.027*\"gener\" + 0.023*\"analysi\" + 0.022*\"automat\" + 0.021*\"comput\"\n",
      "2022-02-23 15:10:22,595 : INFO : topic #14 (0.010): 0.159*\"assign\" + 0.154*\"algorithm\" + 0.101*\"space\" + 0.055*\"famili\" + 0.054*\"problem\" + 0.047*\"dimens\" + 0.036*\"extens\" + 0.031*\"plotter\" + 0.027*\"time\" + 0.027*\",\"\n",
      "2022-02-23 15:10:22,597 : INFO : topic #67 (0.012): 0.220*\"[\" + 0.175*\"algorithm\" + 0.174*\"(\" + 0.168*\"])\" + 0.036*\"function\" + 0.033*\"formula\" + 0.025*\"d1\" + 0.024*\"quadratur\" + 0.018*\"s14\" + 0.014*\"integr\"\n",
      "2022-02-23 15:10:22,598 : INFO : topic #87 (0.013): 0.168*\"data\" + 0.125*\"structur\" + 0.075*\"inform\" + 0.056*\"system\" + 0.042*\",\" + 0.038*\"mechan\" + 0.037*\"process\" + 0.033*\"defin\" + 0.032*\"storag\" + 0.029*\"retriev\"\n",
      "2022-02-23 15:10:22,600 : INFO : topic #89 (0.023): 0.318*\"(\" + 0.296*\")\" + 0.219*\"algorithm\" + 0.030*\"[\" + 0.018*\"integr\" + 0.013*\"gener\" + 0.012*\"-\" + 0.012*\"order\" + 0.009*\"polynomi\" + 0.008*\"a1\"\n",
      "2022-02-23 15:10:22,602 : INFO : topic diff=0.582281, rho=0.340958\n",
      "2022-02-23 15:10:23,577 : INFO : -6.570 per-word bound, 95.0 perplexity estimate based on a held-out corpus of 1204 documents with 49783 words\n",
      "2022-02-23 15:10:23,578 : INFO : PROGRESS: pass 6, at document #3204/3204\n",
      "2022-02-23 15:10:24,374 : INFO : optimized alpha [0.011067495, 0.010948398, 0.009847421, 0.01100244, 0.010516478, 0.011114916, 0.010779506, 0.011058664, 0.011626618, 0.010091813, 0.01046786, 0.010368347, 0.011352976, 0.011586979, 0.009760256, 0.0106986975, 0.010741417, 0.010430153, 0.010456852, 0.01024458, 0.010269567, 0.010523482, 0.012719901, 0.009997304, 0.010099917, 0.012019809, 0.011368538, 0.010584286, 0.010984909, 0.009921663, 0.011068021, 0.010204127, 0.010663394, 0.010722682, 0.011043837, 0.010502538, 0.009857941, 0.012654479, 0.011325932, 0.0127029745, 0.010274569, 0.01094362, 0.010582722, 0.012348582, 0.010156768, 0.010123382, 0.010300797, 0.010773111, 0.009677299, 0.0113206105, 0.010002835, 0.010714116, 0.010413621, 0.011259675, 0.012546181, 0.011971824, 0.011036364, 0.010584029, 0.010880259, 0.010530126, 0.011208298, 0.0100545, 0.011969256, 0.010469373, 0.011277614, 0.010986877, 0.01101797, 0.01251916, 0.010340885, 0.010239151, 0.010881072, 0.010802273, 0.011658633, 0.011010388, 0.01107046, 0.011838468, 0.011584825, 0.011053567, 0.011616063, 0.010531544, 0.011028674, 0.011433137, 0.010993609, 0.010272739, 0.010995381, 0.009995264, 0.011833557, 0.013258554, 0.009988764, 0.024673468, 0.010312671, 0.0108325025, 0.011964666, 0.010451603, 0.010448511, 0.010749613, 0.00995862, 0.011624789, 0.010798778, 0.011332301]\n",
      "2022-02-23 15:10:24,380 : INFO : merging changes from 1204 documents into a model of 3204 documents\n",
      "2022-02-23 15:10:24,385 : INFO : topic #48 (0.010): 0.138*\"invers\" + 0.071*\"frequenc\" + 0.068*\"matrix\" + 0.041*\",\" + 0.041*\"approach\" + 0.032*\"procedur\" + 0.030*\"gener\" + 0.026*\"cost\" + 0.022*\"analysi\" + 0.021*\"comput\"\n",
      "2022-02-23 15:10:24,386 : INFO : topic #14 (0.010): 0.173*\"algorithm\" + 0.138*\"assign\" + 0.120*\"space\" + 0.054*\"problem\" + 0.053*\"famili\" + 0.043*\"dimens\" + 0.040*\"extens\" + 0.031*\"time\" + 0.027*\"size\" + 0.027*\",\"\n",
      "2022-02-23 15:10:24,387 : INFO : topic #22 (0.013): 0.284*\"\"\" + 0.092*\"page\" + 0.087*\"set\" + 0.085*\"model\" + 0.073*\"memori\" + 0.063*\"work\" + 0.041*\"behavior\" + 0.026*\"balanc\" + 0.019*\",\" + 0.019*\"demand\"\n",
      "2022-02-23 15:10:24,388 : INFO : topic #87 (0.013): 0.181*\"data\" + 0.138*\"structur\" + 0.069*\"inform\" + 0.053*\"system\" + 0.043*\",\" + 0.039*\"mechan\" + 0.035*\"process\" + 0.033*\"defin\" + 0.028*\"storag\" + 0.025*\"retriev\"\n",
      "2022-02-23 15:10:24,389 : INFO : topic #89 (0.025): 0.327*\"(\" + 0.305*\")\" + 0.213*\"algorithm\" + 0.037*\"[\" + 0.015*\"integr\" + 0.012*\"-\" + 0.012*\"gener\" + 0.012*\"order\" + 0.008*\"polynomi\" + 0.008*\"a1\"\n",
      "2022-02-23 15:10:24,390 : INFO : topic diff=0.588379, rho=0.340958\n",
      "2022-02-23 15:10:24,398 : INFO : PROGRESS: pass 7, at document #2000/3204\n",
      "2022-02-23 15:10:25,302 : INFO : optimized alpha [0.011123945, 0.010978217, 0.009830354, 0.011155611, 0.010542256, 0.011162887, 0.0107851345, 0.011141078, 0.011650907, 0.010070188, 0.010516482, 0.010495404, 0.011449092, 0.011645813, 0.009776441, 0.010780525, 0.010797318, 0.010424354, 0.010483712, 0.010249636, 0.010259673, 0.010579242, 0.012810941, 0.009994611, 0.010086518, 0.012148679, 0.011382773, 0.0105753, 0.010957901, 0.009938962, 0.011139869, 0.01030472, 0.010649307, 0.010835246, 0.01106931, 0.010563274, 0.009899523, 0.012770257, 0.011320805, 0.012722457, 0.01027413, 0.010942001, 0.010570995, 0.012362067, 0.010163952, 0.010215986, 0.010345278, 0.010872563, 0.009705584, 0.011406586, 0.010057429, 0.01074009, 0.010404441, 0.0113379, 0.012865914, 0.012073153, 0.011011199, 0.010649242, 0.010894869, 0.010518018, 0.0113348905, 0.010058346, 0.011967418, 0.010446874, 0.0114600975, 0.011003501, 0.0110921385, 0.012989542, 0.01033806, 0.010230603, 0.010973394, 0.01085122, 0.011665794, 0.011052343, 0.011108058, 0.011941959, 0.011558698, 0.0110931825, 0.011687141, 0.010518401, 0.011149458, 0.011368349, 0.011132174, 0.010273475, 0.010983877, 0.010000634, 0.01188736, 0.013430625, 0.009971128, 0.026441421, 0.010372716, 0.010838103, 0.012017323, 0.010450373, 0.010427569, 0.010824461, 0.010011345, 0.011642868, 0.0108476225, 0.011294986]\n",
      "2022-02-23 15:10:25,314 : INFO : merging changes from 2000 documents into a model of 3204 documents\n",
      "2022-02-23 15:10:25,322 : INFO : topic #48 (0.010): 0.160*\"invers\" + 0.083*\"matrix\" + 0.055*\"frequenc\" + 0.043*\",\" + 0.033*\"procedur\" + 0.032*\"approach\" + 0.028*\"gener\" + 0.023*\"analysi\" + 0.022*\"automat\" + 0.021*\"comput\"\n",
      "2022-02-23 15:10:25,323 : INFO : topic #14 (0.010): 0.161*\"algorithm\" + 0.154*\"assign\" + 0.115*\"space\" + 0.057*\"famili\" + 0.051*\"problem\" + 0.046*\"dimens\" + 0.041*\"extens\" + 0.030*\"plotter\" + 0.029*\"time\" + 0.026*\",\"\n",
      "2022-02-23 15:10:25,324 : INFO : topic #67 (0.013): 0.229*\"[\" + 0.177*\"algorithm\" + 0.176*\"(\" + 0.173*\"])\" + 0.034*\"function\" + 0.029*\"formula\" + 0.026*\"d1\" + 0.025*\"quadratur\" + 0.018*\"s14\" + 0.014*\"integr\"\n",
      "2022-02-23 15:10:25,325 : INFO : topic #87 (0.013): 0.188*\"data\" + 0.131*\"structur\" + 0.073*\"inform\" + 0.055*\"system\" + 0.041*\"process\" + 0.041*\",\" + 0.037*\"mechan\" + 0.033*\"defin\" + 0.027*\"storag\" + 0.027*\"retriev\"\n",
      "2022-02-23 15:10:25,325 : INFO : topic #89 (0.026): 0.328*\"(\" + 0.306*\")\" + 0.215*\"algorithm\" + 0.027*\"[\" + 0.017*\"integr\" + 0.012*\"gener\" + 0.012*\"-\" + 0.012*\"order\" + 0.009*\"a1\" + 0.008*\"polynomi\"\n",
      "2022-02-23 15:10:25,327 : INFO : topic diff=0.514546, rho=0.322715\n",
      "2022-02-23 15:10:26,366 : INFO : -6.545 per-word bound, 93.4 perplexity estimate based on a held-out corpus of 1204 documents with 49783 words\n",
      "2022-02-23 15:10:26,367 : INFO : PROGRESS: pass 7, at document #3204/3204\n",
      "2022-02-23 15:10:27,196 : INFO : optimized alpha [0.011283967, 0.0111147985, 0.0098775895, 0.011242205, 0.010639608, 0.011328013, 0.010943265, 0.011260114, 0.011903433, 0.01012963, 0.010537195, 0.010548184, 0.011593675, 0.011859838, 0.0098442, 0.01087452, 0.010926636, 0.010548353, 0.010610413, 0.010321573, 0.010408206, 0.010671838, 0.013195476, 0.010111258, 0.010200983, 0.012450202, 0.011545546, 0.010667286, 0.011132075, 0.010046067, 0.011317421, 0.010393673, 0.010810533, 0.010900507, 0.011235205, 0.010633617, 0.009961487, 0.01311558, 0.011531226, 0.013091748, 0.010381953, 0.011137119, 0.010679561, 0.012653025, 0.010232711, 0.010244606, 0.010432683, 0.0109612625, 0.009707629, 0.011598898, 0.010113115, 0.010869459, 0.01055055, 0.011487039, 0.013022185, 0.012325173, 0.011173675, 0.010732865, 0.011018944, 0.010621851, 0.011448067, 0.010137743, 0.012298011, 0.010570008, 0.011545292, 0.011139186, 0.011369071, 0.013013435, 0.010426326, 0.010335615, 0.011075759, 0.010963776, 0.011852513, 0.011184319, 0.011312954, 0.0121672675, 0.011780304, 0.0112163015, 0.011925342, 0.010669472, 0.011257385, 0.011493782, 0.011277069, 0.010335117, 0.011174218, 0.010056631, 0.012128697, 0.013860248, 0.010032478, 0.028154962, 0.010428826, 0.010976373, 0.012286484, 0.010576611, 0.010527044, 0.010988807, 0.0100265285, 0.011844814, 0.010994808, 0.011496275]\n",
      "2022-02-23 15:10:27,203 : INFO : merging changes from 1204 documents into a model of 3204 documents\n",
      "2022-02-23 15:10:27,210 : INFO : topic #48 (0.010): 0.142*\"invers\" + 0.078*\"matrix\" + 0.073*\"frequenc\" + 0.044*\"approach\" + 0.041*\",\" + 0.031*\"procedur\" + 0.030*\"gener\" + 0.028*\"cost\" + 0.022*\"analysi\" + 0.021*\"comput\"\n",
      "2022-02-23 15:10:27,211 : INFO : topic #14 (0.010): 0.178*\"algorithm\" + 0.135*\"assign\" + 0.132*\"space\" + 0.054*\"famili\" + 0.050*\"problem\" + 0.044*\"extens\" + 0.043*\"dimens\" + 0.033*\"time\" + 0.028*\"size\" + 0.026*\",\"\n",
      "2022-02-23 15:10:27,212 : INFO : topic #22 (0.013): 0.311*\"\"\" + 0.092*\"page\" + 0.087*\"set\" + 0.076*\"model\" + 0.065*\"memori\" + 0.062*\"work\" + 0.041*\"behavior\" + 0.026*\"balanc\" + 0.019*\",\" + 0.019*\"demand\"\n",
      "2022-02-23 15:10:27,213 : INFO : topic #87 (0.014): 0.199*\"data\" + 0.144*\"structur\" + 0.068*\"inform\" + 0.053*\"system\" + 0.042*\",\" + 0.038*\"process\" + 0.037*\"mechan\" + 0.033*\"defin\" + 0.024*\"storag\" + 0.024*\"retriev\"\n",
      "2022-02-23 15:10:27,213 : INFO : topic #89 (0.028): 0.335*\"(\" + 0.313*\")\" + 0.210*\"algorithm\" + 0.033*\"[\" + 0.015*\"integr\" + 0.012*\"-\" + 0.011*\"order\" + 0.011*\"gener\" + 0.008*\"a1\" + 0.007*\"polynomi\"\n",
      "2022-02-23 15:10:27,214 : INFO : topic diff=0.515701, rho=0.322715\n",
      "2022-02-23 15:10:27,223 : INFO : PROGRESS: pass 8, at document #2000/3204\n",
      "2022-02-23 15:10:28,157 : INFO : optimized alpha [0.011336138, 0.011141396, 0.009861913, 0.0113812955, 0.010672651, 0.011375405, 0.010948319, 0.011365454, 0.011929133, 0.010114255, 0.01058579, 0.010672265, 0.011687705, 0.01192118, 0.00985847, 0.010968223, 0.010981792, 0.01056071, 0.0106441295, 0.010331525, 0.010401754, 0.010722, 0.0133019015, 0.010116391, 0.010189738, 0.012585409, 0.011558707, 0.010660593, 0.011110937, 0.010067284, 0.011386023, 0.010500065, 0.010799995, 0.011015711, 0.011264425, 0.010700254, 0.010009167, 0.013232182, 0.011532611, 0.013105915, 0.010387943, 0.011139989, 0.010673393, 0.01266222, 0.01023829, 0.010333684, 0.010483512, 0.011056864, 0.009744111, 0.011686423, 0.010175053, 0.0108975805, 0.010546458, 0.011570741, 0.013334386, 0.012441296, 0.011154434, 0.010797196, 0.011034522, 0.010616973, 0.01156988, 0.010149624, 0.012299749, 0.010548488, 0.01171987, 0.011163647, 0.0114537105, 0.0134649305, 0.010425454, 0.010332367, 0.011171259, 0.0110106915, 0.011864209, 0.011227839, 0.011355274, 0.012277636, 0.011754233, 0.011254086, 0.012005957, 0.010659846, 0.011373608, 0.011437823, 0.011428032, 0.010342681, 0.011162463, 0.010066859, 0.012183146, 0.014032605, 0.010017721, 0.030029397, 0.010496222, 0.010979765, 0.012330219, 0.0105851395, 0.010507273, 0.011079031, 0.010083587, 0.011866842, 0.011041363, 0.011464992]\n",
      "2022-02-23 15:10:28,163 : INFO : merging changes from 2000 documents into a model of 3204 documents\n",
      "2022-02-23 15:10:28,169 : INFO : topic #48 (0.010): 0.162*\"invers\" + 0.095*\"matrix\" + 0.057*\"frequenc\" + 0.041*\",\" + 0.035*\"approach\" + 0.032*\"procedur\" + 0.028*\"gener\" + 0.023*\"analysi\" + 0.022*\"automat\" + 0.022*\"cost\"\n",
      "2022-02-23 15:10:28,170 : INFO : topic #14 (0.010): 0.166*\"algorithm\" + 0.150*\"assign\" + 0.127*\"space\" + 0.058*\"famili\" + 0.049*\"problem\" + 0.045*\"dimens\" + 0.044*\"extens\" + 0.031*\"time\" + 0.028*\"plotter\" + 0.026*\"size\"\n",
      "2022-02-23 15:10:28,170 : INFO : topic #67 (0.013): 0.237*\"[\" + 0.180*\"algorithm\" + 0.179*\"(\" + 0.176*\"])\" + 0.032*\"function\" + 0.026*\"d1\" + 0.025*\"quadratur\" + 0.022*\"formula\" + 0.018*\"s14\" + 0.014*\"gauss\"\n",
      "2022-02-23 15:10:28,172 : INFO : topic #87 (0.014): 0.205*\"data\" + 0.137*\"structur\" + 0.072*\"inform\" + 0.054*\"system\" + 0.044*\"process\" + 0.040*\",\" + 0.036*\"mechan\" + 0.032*\"defin\" + 0.025*\"retriev\" + 0.023*\"storag\"\n",
      "2022-02-23 15:10:28,173 : INFO : topic #89 (0.030): 0.336*\"(\" + 0.313*\")\" + 0.212*\"algorithm\" + 0.024*\"[\" + 0.017*\"integr\" + 0.011*\"-\" + 0.011*\"order\" + 0.011*\"gener\" + 0.008*\"a1\" + 0.008*\"polynomi\"\n",
      "2022-02-23 15:10:28,174 : INFO : topic diff=0.449240, rho=0.307119\n",
      "2022-02-23 15:10:29,280 : INFO : -6.528 per-word bound, 92.3 perplexity estimate based on a held-out corpus of 1204 documents with 49783 words\n",
      "2022-02-23 15:10:29,281 : INFO : PROGRESS: pass 8, at document #3204/3204\n",
      "2022-02-23 15:10:30,118 : INFO : optimized alpha [0.011475383, 0.011275342, 0.009915286, 0.0114666745, 0.010768722, 0.011537165, 0.011114553, 0.011485281, 0.012175982, 0.010174162, 0.010595039, 0.0107278945, 0.01182936, 0.012121305, 0.009928673, 0.011066669, 0.011105909, 0.0106851505, 0.01076854, 0.010397975, 0.010557987, 0.010818989, 0.013690236, 0.010259653, 0.010312681, 0.012890932, 0.011720954, 0.010751589, 0.011286872, 0.010183044, 0.011565722, 0.010593122, 0.010966131, 0.011086407, 0.011415305, 0.010770374, 0.010091578, 0.013561144, 0.011756331, 0.013467412, 0.0104888175, 0.0113278255, 0.0107775545, 0.012946527, 0.0103043, 0.01035563, 0.010580705, 0.01115587, 0.0097464975, 0.011883534, 0.010238806, 0.011018969, 0.010689538, 0.0117198145, 0.013490494, 0.012691878, 0.011304807, 0.010874537, 0.011150709, 0.010722084, 0.011672191, 0.010239071, 0.0126043055, 0.010672051, 0.011803729, 0.011293946, 0.0117404545, 0.013562099, 0.01050481, 0.010441084, 0.011266362, 0.01113007, 0.0120467525, 0.011354513, 0.0115644, 0.012498219, 0.011976555, 0.011369261, 0.012233165, 0.010813318, 0.011476802, 0.011561299, 0.011596378, 0.010404665, 0.011348431, 0.010131068, 0.0124286935, 0.014456286, 0.010069147, 0.03182939, 0.010555324, 0.0111153945, 0.012580741, 0.010706465, 0.0106081925, 0.011245799, 0.010108746, 0.012058263, 0.011174308, 0.011670334]\n",
      "2022-02-23 15:10:30,124 : INFO : merging changes from 1204 documents into a model of 3204 documents\n",
      "2022-02-23 15:10:30,129 : INFO : topic #48 (0.010): 0.147*\"invers\" + 0.087*\"matrix\" + 0.076*\"frequenc\" + 0.041*\"approach\" + 0.039*\",\" + 0.030*\"gener\" + 0.029*\"cost\" + 0.029*\"procedur\" + 0.023*\"comput\" + 0.022*\"analysi\"\n",
      "2022-02-23 15:10:30,130 : INFO : topic #2 (0.010): 0.093*\"-\" + 0.066*\",\" + 0.045*\"system\" + 0.038*\"cpu\" + 0.033*\"predict\" + 0.030*\"perform\" + 0.029*\"processor\" + 0.023*\"read\" + 0.019*\"multiprogram\" + 0.017*\"\"\"\n",
      "2022-02-23 15:10:30,131 : INFO : topic #22 (0.014): 0.335*\"\"\" + 0.092*\"page\" + 0.087*\"set\" + 0.068*\"model\" + 0.061*\"work\" + 0.058*\"memori\" + 0.042*\"behavior\" + 0.026*\"balanc\" + 0.019*\",\" + 0.019*\"demand\"\n",
      "2022-02-23 15:10:30,132 : INFO : topic #87 (0.014): 0.214*\"data\" + 0.149*\"structur\" + 0.067*\"inform\" + 0.052*\"system\" + 0.042*\"process\" + 0.041*\",\" + 0.037*\"mechan\" + 0.032*\"defin\" + 0.023*\"implement\" + 0.022*\"retriev\"\n",
      "2022-02-23 15:10:30,133 : INFO : topic #89 (0.032): 0.343*\"(\" + 0.319*\")\" + 0.207*\"algorithm\" + 0.026*\"[\" + 0.015*\"integr\" + 0.012*\"-\" + 0.011*\"order\" + 0.010*\"gener\" + 0.008*\"a1\" + 0.007*\"polynomi\"\n",
      "2022-02-23 15:10:30,134 : INFO : topic diff=0.450079, rho=0.307119\n",
      "2022-02-23 15:10:30,142 : INFO : PROGRESS: pass 9, at document #2000/3204\n",
      "2022-02-23 15:10:31,058 : INFO : optimized alpha [0.011535654, 0.011300702, 0.009906701, 0.011606398, 0.010810266, 0.011582392, 0.011123923, 0.011590455, 0.012201412, 0.010156943, 0.010639095, 0.010860558, 0.011909328, 0.01217804, 0.009945524, 0.0111572305, 0.011162179, 0.01070639, 0.01080563, 0.010406279, 0.0105482945, 0.010876943, 0.013791972, 0.0102718305, 0.010304872, 0.013021507, 0.011729802, 0.010743766, 0.011267685, 0.010218388, 0.011641763, 0.010705353, 0.0109555945, 0.011207709, 0.011451492, 0.010836311, 0.010149454, 0.0136871245, 0.011769013, 0.013482674, 0.010496201, 0.011338385, 0.01077012, 0.012957602, 0.0103115, 0.010434026, 0.010642017, 0.011256377, 0.0097892, 0.011981597, 0.0103061795, 0.0110491505, 0.010685311, 0.011800343, 0.013798226, 0.012803885, 0.011282712, 0.010935022, 0.011163998, 0.010719071, 0.011800219, 0.010261314, 0.0126005085, 0.010652967, 0.011983494, 0.011319014, 0.01184249, 0.014003677, 0.010507319, 0.010436405, 0.011360226, 0.011176793, 0.012055619, 0.011406291, 0.011609621, 0.012611974, 0.011953957, 0.011403955, 0.012319649, 0.010808533, 0.011594214, 0.011506236, 0.011751486, 0.010416933, 0.011338189, 0.010150133, 0.012480216, 0.0146402335, 0.010055578, 0.033821404, 0.01063129, 0.011121714, 0.012616222, 0.010714538, 0.010587811, 0.011336152, 0.010166926, 0.012078888, 0.011220648, 0.011637756]\n",
      "2022-02-23 15:10:31,066 : INFO : merging changes from 2000 documents into a model of 3204 documents\n",
      "2022-02-23 15:10:31,074 : INFO : topic #48 (0.010): 0.166*\"invers\" + 0.105*\"matrix\" + 0.062*\"frequenc\" + 0.040*\",\" + 0.033*\"approach\" + 0.029*\"procedur\" + 0.027*\"gener\" + 0.023*\"cost\" + 0.023*\"analysi\" + 0.023*\"automat\"\n",
      "2022-02-23 15:10:31,077 : INFO : topic #2 (0.010): 0.089*\"-\" + 0.067*\",\" + 0.045*\"system\" + 0.032*\"processor\" + 0.031*\"cpu\" + 0.031*\"predict\" + 0.029*\"perform\" + 0.024*\"read\" + 0.017*\"statist\" + 0.017*\"multiprogram\"\n",
      "2022-02-23 15:10:31,077 : INFO : topic #67 (0.014): 0.248*\"[\" + 0.182*\"algorithm\" + 0.180*\"(\" + 0.176*\"])\" + 0.031*\"function\" + 0.026*\"d1\" + 0.025*\"quadratur\" + 0.018*\"s14\" + 0.017*\"formula\" + 0.014*\"gauss\"\n",
      "2022-02-23 15:10:31,078 : INFO : topic #87 (0.015): 0.218*\"data\" + 0.143*\"structur\" + 0.071*\"inform\" + 0.054*\"system\" + 0.048*\"process\" + 0.039*\",\" + 0.036*\"mechan\" + 0.031*\"defin\" + 0.024*\"retriev\" + 0.021*\"implement\"\n",
      "2022-02-23 15:10:31,079 : INFO : topic #89 (0.034): 0.343*\"(\" + 0.319*\")\" + 0.209*\"algorithm\" + 0.020*\"[\" + 0.017*\"integr\" + 0.011*\"-\" + 0.011*\"order\" + 0.010*\"gener\" + 0.008*\"a1\" + 0.008*\"polynomi\"\n",
      "2022-02-23 15:10:31,081 : INFO : topic diff=0.391662, rho=0.293585\n",
      "2022-02-23 15:10:32,071 : INFO : -6.511 per-word bound, 91.2 perplexity estimate based on a held-out corpus of 1204 documents with 49783 words\n",
      "2022-02-23 15:10:32,072 : INFO : PROGRESS: pass 9, at document #3204/3204\n",
      "2022-02-23 15:10:32,871 : INFO : optimized alpha [0.011681439, 0.011438241, 0.009970686, 0.011690906, 0.010902785, 0.011744316, 0.011301077, 0.011700162, 0.012434484, 0.010214921, 0.010645824, 0.010913536, 0.012048678, 0.012365574, 0.010030442, 0.011262867, 0.011281916, 0.010834325, 0.010933502, 0.010483219, 0.010699189, 0.010981032, 0.014192141, 0.010430424, 0.010428618, 0.013316244, 0.011895076, 0.010836835, 0.011434945, 0.01034257, 0.011812802, 0.01080801, 0.011113384, 0.011283628, 0.011597135, 0.010917025, 0.010233846, 0.0140043, 0.011988721, 0.013831195, 0.0106012225, 0.011533999, 0.010881237, 0.013236324, 0.010380311, 0.010455102, 0.010743647, 0.01135422, 0.009799083, 0.012181167, 0.010372501, 0.011171652, 0.0108338175, 0.011944113, 0.0139376465, 0.013044155, 0.011430542, 0.011009387, 0.011281523, 0.010817752, 0.011904146, 0.010357666, 0.012908815, 0.010769535, 0.012075288, 0.011444759, 0.012151605, 0.0141321765, 0.010581269, 0.010543929, 0.0114544, 0.011291705, 0.0122259045, 0.011531167, 0.0118208425, 0.012834909, 0.01216898, 0.011520407, 0.012540124, 0.010972668, 0.011684644, 0.011628165, 0.011934561, 0.0104768, 0.011520718, 0.010222116, 0.012730606, 0.0150668835, 0.010102926, 0.035724886, 0.010690656, 0.011255162, 0.012849478, 0.010828947, 0.010679878, 0.011508544, 0.010203699, 0.012263949, 0.011346126, 0.011836164]\n",
      "2022-02-23 15:10:32,877 : INFO : merging changes from 1204 documents into a model of 3204 documents\n",
      "2022-02-23 15:10:32,886 : INFO : topic #48 (0.010): 0.149*\"invers\" + 0.102*\"matrix\" + 0.079*\"frequenc\" + 0.038*\",\" + 0.037*\"approach\" + 0.030*\"cost\" + 0.028*\"gener\" + 0.026*\"procedur\" + 0.023*\"comput\" + 0.023*\"analysi\"\n",
      "2022-02-23 15:10:32,887 : INFO : topic #2 (0.010): 0.095*\"-\" + 0.065*\",\" + 0.045*\"system\" + 0.037*\"cpu\" + 0.034*\"predict\" + 0.031*\"perform\" + 0.028*\"processor\" + 0.022*\"read\" + 0.019*\"multiprogram\" + 0.017*\"measur\"\n",
      "2022-02-23 15:10:32,888 : INFO : topic #22 (0.014): 0.353*\"\"\" + 0.093*\"page\" + 0.088*\"set\" + 0.061*\"work\" + 0.061*\"model\" + 0.051*\"memori\" + 0.042*\"behavior\" + 0.027*\"balanc\" + 0.019*\",\" + 0.019*\"demand\"\n",
      "2022-02-23 15:10:32,889 : INFO : topic #87 (0.015): 0.227*\"data\" + 0.155*\"structur\" + 0.067*\"inform\" + 0.051*\"system\" + 0.046*\"process\" + 0.040*\",\" + 0.035*\"mechan\" + 0.031*\"defin\" + 0.023*\"implement\" + 0.021*\"retriev\"\n",
      "2022-02-23 15:10:32,890 : INFO : topic #89 (0.036): 0.350*\"(\" + 0.326*\")\" + 0.202*\"algorithm\" + 0.021*\"[\" + 0.016*\"integr\" + 0.012*\"-\" + 0.011*\"order\" + 0.010*\"gener\" + 0.008*\"a1\" + 0.007*\"polynomi\"\n",
      "2022-02-23 15:10:32,892 : INFO : topic diff=0.393913, rho=0.293585\n",
      "2022-02-23 15:10:32,901 : INFO : PROGRESS: pass 10, at document #2000/3204\n",
      "2022-02-23 15:10:33,788 : INFO : optimized alpha [0.011741337, 0.011462502, 0.009965679, 0.011825023, 0.010953792, 0.011787742, 0.0113160405, 0.0118105, 0.012458142, 0.010204667, 0.010684311, 0.011047134, 0.012125953, 0.012423488, 0.010051103, 0.011355365, 0.0113346735, 0.010865456, 0.010967628, 0.010498927, 0.01069717, 0.011038593, 0.014295395, 0.010444767, 0.01042095, 0.013450077, 0.011904929, 0.010835572, 0.011414384, 0.0103839915, 0.011884509, 0.010920089, 0.011112359, 0.01140464, 0.011636838, 0.010987066, 0.010295652, 0.014129806, 0.012006998, 0.0138379065, 0.010615895, 0.011551748, 0.01087409, 0.0132492315, 0.010383113, 0.0105325775, 0.0108257895, 0.011461306, 0.009849008, 0.012277623, 0.010443673, 0.011195989, 0.010830946, 0.012021904, 0.014233514, 0.013154389, 0.011410681, 0.011069497, 0.011295873, 0.0108134495, 0.012031752, 0.010382162, 0.012910661, 0.010749694, 0.012257176, 0.011477039, 0.01226405, 0.014569339, 0.01058546, 0.010540992, 0.011551806, 0.0113384, 0.012235746, 0.011577881, 0.011863924, 0.012943205, 0.012148043, 0.011553859, 0.012639575, 0.010967651, 0.011801821, 0.01158051, 0.012095825, 0.01048447, 0.01152004, 0.010240691, 0.012784933, 0.015247721, 0.010091867, 0.03784096, 0.010774909, 0.01126269, 0.012881058, 0.010835239, 0.010662019, 0.011600826, 0.010267317, 0.0122815715, 0.011392365, 0.01180909]\n",
      "2022-02-23 15:10:33,793 : INFO : merging changes from 2000 documents into a model of 3204 documents\n",
      "2022-02-23 15:10:33,800 : INFO : topic #48 (0.010): 0.167*\"invers\" + 0.119*\"matrix\" + 0.065*\"frequenc\" + 0.038*\",\" + 0.030*\"approach\" + 0.026*\"gener\" + 0.025*\"procedur\" + 0.025*\"cost\" + 0.024*\"analysi\" + 0.023*\"automat\"\n",
      "2022-02-23 15:10:33,801 : INFO : topic #2 (0.010): 0.092*\"-\" + 0.066*\",\" + 0.045*\"system\" + 0.032*\"predict\" + 0.032*\"processor\" + 0.031*\"cpu\" + 0.030*\"perform\" + 0.023*\"read\" + 0.019*\"statist\" + 0.017*\"multiprogram\"\n",
      "2022-02-23 15:10:33,801 : INFO : topic #67 (0.015): 0.258*\"[\" + 0.184*\"algorithm\" + 0.181*\"(\" + 0.175*\"])\" + 0.029*\"function\" + 0.026*\"d1\" + 0.025*\"quadratur\" + 0.018*\"s14\" + 0.014*\"gauss\" + 0.013*\"integr\"\n",
      "2022-02-23 15:10:33,802 : INFO : topic #87 (0.015): 0.230*\"data\" + 0.148*\"structur\" + 0.070*\"inform\" + 0.053*\"system\" + 0.051*\"process\" + 0.038*\",\" + 0.034*\"mechan\" + 0.030*\"defin\" + 0.023*\"retriev\" + 0.021*\"implement\"\n",
      "2022-02-23 15:10:33,803 : INFO : topic #89 (0.038): 0.349*\"(\" + 0.325*\")\" + 0.205*\"algorithm\" + 0.017*\"integr\" + 0.016*\"[\" + 0.011*\"-\" + 0.010*\"order\" + 0.010*\"gener\" + 0.008*\"a1\" + 0.008*\"polynomi\"\n",
      "2022-02-23 15:10:33,804 : INFO : topic diff=0.342722, rho=0.281696\n",
      "2022-02-23 15:10:34,769 : INFO : -6.496 per-word bound, 90.3 perplexity estimate based on a held-out corpus of 1204 documents with 49783 words\n",
      "2022-02-23 15:10:34,769 : INFO : PROGRESS: pass 10, at document #3204/3204\n",
      "2022-02-23 15:10:35,662 : INFO : optimized alpha [0.011879792, 0.011603832, 0.010037095, 0.011914518, 0.011050977, 0.011947555, 0.011504083, 0.011919096, 0.0126905255, 0.010265791, 0.010688759, 0.011105695, 0.012243592, 0.012599418, 0.010154893, 0.011465419, 0.011445111, 0.010994448, 0.0110966135, 0.010578374, 0.010848561, 0.011134023, 0.014691589, 0.010606133, 0.010548093, 0.01374432, 0.012065098, 0.010933222, 0.011581719, 0.010509281, 0.012064235, 0.011024398, 0.011275824, 0.011483131, 0.011783285, 0.011065017, 0.010391665, 0.014456293, 0.01223467, 0.014177672, 0.010720043, 0.011744494, 0.010979163, 0.013514181, 0.010454656, 0.010557782, 0.010944469, 0.011561055, 0.009868037, 0.012485957, 0.010505219, 0.011317172, 0.01098239, 0.012166615, 0.014373806, 0.013401068, 0.011551082, 0.011138645, 0.011409552, 0.010906338, 0.012137475, 0.010475469, 0.013205107, 0.010862536, 0.012350901, 0.011593285, 0.012596555, 0.014725518, 0.010657056, 0.010647561, 0.011642613, 0.011452226, 0.012394948, 0.011701446, 0.012072033, 0.013156893, 0.012350932, 0.011669282, 0.012854113, 0.01114245, 0.011894363, 0.011693035, 0.012282358, 0.010542521, 0.011697103, 0.010317589, 0.013037969, 0.01566719, 0.010142634, 0.03977909, 0.010834643, 0.01139715, 0.013101579, 0.01095365, 0.0107486285, 0.011773686, 0.010298033, 0.012461033, 0.011516478, 0.0119957365]\n",
      "2022-02-23 15:10:35,668 : INFO : merging changes from 1204 documents into a model of 3204 documents\n",
      "2022-02-23 15:10:35,675 : INFO : topic #48 (0.010): 0.150*\"invers\" + 0.115*\"matrix\" + 0.080*\"frequenc\" + 0.036*\",\" + 0.036*\"approach\" + 0.031*\"cost\" + 0.027*\"gener\" + 0.024*\"coordin\" + 0.024*\"comput\" + 0.023*\"analysi\"\n",
      "2022-02-23 15:10:35,676 : INFO : topic #2 (0.010): 0.096*\"-\" + 0.065*\",\" + 0.045*\"system\" + 0.037*\"cpu\" + 0.034*\"predict\" + 0.033*\"perform\" + 0.028*\"processor\" + 0.022*\"read\" + 0.019*\"multiprogram\" + 0.018*\"measur\"\n",
      "2022-02-23 15:10:35,677 : INFO : topic #67 (0.015): 0.281*\"[\" + 0.179*\"algorithm\" + 0.175*\"(\" + 0.147*\"])\" + 0.032*\"d1\" + 0.030*\"quadratur\" + 0.027*\"function\" + 0.018*\"s14\" + 0.016*\"gauss\" + 0.013*\"formula\"\n",
      "2022-02-23 15:10:35,678 : INFO : topic #87 (0.016): 0.237*\"data\" + 0.160*\"structur\" + 0.067*\"inform\" + 0.051*\"system\" + 0.049*\"process\" + 0.038*\",\" + 0.034*\"mechan\" + 0.031*\"defin\" + 0.023*\"implement\" + 0.021*\"larg\"\n",
      "2022-02-23 15:10:35,679 : INFO : topic #89 (0.040): 0.357*\"(\" + 0.333*\")\" + 0.197*\"algorithm\" + 0.016*\"integr\" + 0.015*\"[\" + 0.011*\"-\" + 0.010*\"order\" + 0.010*\"gener\" + 0.008*\"a1\" + 0.007*\"polynomi\"\n",
      "2022-02-23 15:10:35,681 : INFO : topic diff=0.346820, rho=0.281696\n",
      "2022-02-23 15:10:35,691 : INFO : PROGRESS: pass 11, at document #2000/3204\n",
      "2022-02-23 15:10:36,581 : INFO : optimized alpha [0.011947626, 0.011628708, 0.0100366175, 0.012051621, 0.011106595, 0.011990899, 0.0115195885, 0.012023154, 0.01272124, 0.010257725, 0.010722146, 0.011238898, 0.0123268375, 0.01265011, 0.010180417, 0.011563125, 0.011500874, 0.01102447, 0.011126475, 0.01059364, 0.010855245, 0.01119596, 0.01479667, 0.010625472, 0.010547782, 0.01387994, 0.012075945, 0.010933628, 0.0115661295, 0.0105551025, 0.012140115, 0.011142563, 0.011274489, 0.011611968, 0.011821432, 0.01113006, 0.010460095, 0.014579654, 0.01226331, 0.014182135, 0.010732825, 0.011761146, 0.01097232, 0.013525432, 0.0104604615, 0.010631716, 0.011039229, 0.0116653005, 0.009916653, 0.012581168, 0.0105773015, 0.011343747, 0.010980822, 0.012237005, 0.014672446, 0.013506282, 0.011530139, 0.011198607, 0.01142338, 0.010905326, 0.012269967, 0.010516393, 0.013203518, 0.010844895, 0.012528638, 0.011626193, 0.012724724, 0.015159495, 0.010661437, 0.0106505165, 0.011735748, 0.01150366, 0.012402459, 0.011753044, 0.012113237, 0.013265519, 0.012324906, 0.011701634, 0.012948923, 0.011132517, 0.012000237, 0.011648996, 0.012450176, 0.010557546, 0.01169434, 0.010346918, 0.01308804, 0.015860109, 0.01013106, 0.04201377, 0.010922576, 0.01140578, 0.013134987, 0.010961172, 0.010731661, 0.011869709, 0.010368334, 0.0124844555, 0.011562771, 0.011968967]\n",
      "2022-02-23 15:10:36,587 : INFO : merging changes from 2000 documents into a model of 3204 documents\n",
      "2022-02-23 15:10:36,593 : INFO : topic #48 (0.010): 0.168*\"invers\" + 0.130*\"matrix\" + 0.066*\"frequenc\" + 0.037*\",\" + 0.028*\"approach\" + 0.026*\"cost\" + 0.025*\"coordin\" + 0.025*\"gener\" + 0.024*\"analysi\" + 0.023*\"comput\"\n",
      "2022-02-23 15:10:36,594 : INFO : topic #2 (0.010): 0.094*\"-\" + 0.066*\",\" + 0.045*\"system\" + 0.032*\"predict\" + 0.031*\"processor\" + 0.031*\"cpu\" + 0.031*\"perform\" + 0.023*\"read\" + 0.019*\"statist\" + 0.018*\"multiprogram\"\n",
      "2022-02-23 15:10:36,595 : INFO : topic #67 (0.015): 0.267*\"[\" + 0.186*\"algorithm\" + 0.182*\"(\" + 0.174*\"])\" + 0.027*\"function\" + 0.026*\"d1\" + 0.025*\"quadratur\" + 0.018*\"s14\" + 0.014*\"gauss\" + 0.012*\"integr\"\n",
      "2022-02-23 15:10:36,595 : INFO : topic #87 (0.016): 0.240*\"data\" + 0.153*\"structur\" + 0.069*\"inform\" + 0.054*\"process\" + 0.052*\"system\" + 0.037*\",\" + 0.033*\"mechan\" + 0.030*\"defin\" + 0.022*\"retriev\" + 0.022*\"implement\"\n",
      "2022-02-23 15:10:36,596 : INFO : topic #89 (0.042): 0.355*\"(\" + 0.331*\")\" + 0.200*\"algorithm\" + 0.018*\"integr\" + 0.012*\"[\" + 0.011*\"-\" + 0.010*\"gener\" + 0.010*\"order\" + 0.008*\"a1\" + 0.008*\"polynomi\"\n",
      "2022-02-23 15:10:36,598 : INFO : topic diff=0.302358, rho=0.271143\n",
      "2022-02-23 15:10:37,543 : INFO : -6.486 per-word bound, 89.6 perplexity estimate based on a held-out corpus of 1204 documents with 49783 words\n",
      "2022-02-23 15:10:37,544 : INFO : PROGRESS: pass 11, at document #3204/3204\n",
      "2022-02-23 15:10:38,308 : INFO : optimized alpha [0.012090273, 0.011766057, 0.010115121, 0.012140633, 0.011198356, 0.01214631, 0.011715886, 0.012136442, 0.012947734, 0.010319504, 0.010731792, 0.011295199, 0.012449068, 0.012818347, 0.010295125, 0.01167776, 0.0116106775, 0.011149799, 0.01124924, 0.010670782, 0.011004954, 0.011285952, 0.015199642, 0.010785085, 0.010671341, 0.014168151, 0.012242623, 0.011038335, 0.011731464, 0.010688893, 0.012320435, 0.011251287, 0.011436082, 0.011690371, 0.011966322, 0.0112080425, 0.01055563, 0.014892953, 0.012496726, 0.014514317, 0.010836356, 0.011956835, 0.01107942, 0.013792812, 0.010527595, 0.0106537, 0.01119209, 0.011764596, 0.009937493, 0.012795726, 0.010644043, 0.01145884, 0.011133013, 0.012385796, 0.014804088, 0.01374101, 0.011663859, 0.011263082, 0.011533673, 0.011000446, 0.012369328, 0.010618912, 0.01349119, 0.010956918, 0.01261321, 0.011741733, 0.013087359, 0.015336909, 0.010731008, 0.010756355, 0.011831551, 0.011614083, 0.012557067, 0.011867565, 0.0123244, 0.013482914, 0.012516605, 0.011816272, 0.013158213, 0.011315362, 0.012089633, 0.011766216, 0.0126433605, 0.010616353, 0.011863905, 0.010421567, 0.013349926, 0.016284395, 0.010175973, 0.043998472, 0.010982803, 0.011538935, 0.0133316275, 0.011071181, 0.010818208, 0.012056803, 0.010405078, 0.012656148, 0.011688474, 0.012161185]\n",
      "2022-02-23 15:10:38,315 : INFO : merging changes from 1204 documents into a model of 3204 documents\n",
      "2022-02-23 15:10:38,325 : INFO : topic #48 (0.010): 0.151*\"invers\" + 0.124*\"matrix\" + 0.081*\"frequenc\" + 0.035*\",\" + 0.033*\"approach\" + 0.031*\"cost\" + 0.028*\"coordin\" + 0.026*\"gener\" + 0.025*\"comput\" + 0.023*\"analysi\"\n",
      "2022-02-23 15:10:38,328 : INFO : topic #2 (0.010): 0.098*\"-\" + 0.064*\",\" + 0.044*\"system\" + 0.037*\"cpu\" + 0.034*\"predict\" + 0.034*\"perform\" + 0.028*\"processor\" + 0.022*\"read\" + 0.019*\"multiprogram\" + 0.019*\"measur\"\n",
      "2022-02-23 15:10:38,329 : INFO : topic #67 (0.015): 0.291*\"[\" + 0.182*\"algorithm\" + 0.176*\"(\" + 0.146*\"])\" + 0.032*\"d1\" + 0.029*\"quadratur\" + 0.025*\"function\" + 0.018*\"s14\" + 0.016*\"gauss\" + 0.013*\"gaussian\"\n",
      "2022-02-23 15:10:38,331 : INFO : topic #87 (0.016): 0.245*\"data\" + 0.165*\"structur\" + 0.067*\"inform\" + 0.052*\"process\" + 0.050*\"system\" + 0.037*\",\" + 0.033*\"mechan\" + 0.030*\"defin\" + 0.023*\"implement\" + 0.021*\"larg\"\n",
      "2022-02-23 15:10:38,333 : INFO : topic #89 (0.044): 0.363*\"(\" + 0.338*\")\" + 0.193*\"algorithm\" + 0.016*\"integr\" + 0.011*\"-\" + 0.010*\"[\" + 0.010*\"gener\" + 0.010*\"order\" + 0.008*\"a1\" + 0.007*\"polynomi\"\n",
      "2022-02-23 15:10:38,334 : INFO : topic diff=0.307596, rho=0.271143\n",
      "2022-02-23 15:10:38,342 : INFO : PROGRESS: pass 12, at document #2000/3204\n",
      "2022-02-23 15:10:39,214 : INFO : optimized alpha [0.012160988, 0.011791544, 0.010113511, 0.012271376, 0.011258485, 0.012184948, 0.011735021, 0.012244315, 0.012975087, 0.010313438, 0.010766049, 0.011420966, 0.01253172, 0.012869043, 0.010322559, 0.011771541, 0.0116664395, 0.0111774085, 0.011279572, 0.01069, 0.011008304, 0.0113477195, 0.015306699, 0.010806343, 0.010672332, 0.014302044, 0.012255989, 0.011044567, 0.011719096, 0.010740404, 0.012395667, 0.011375586, 0.011434366, 0.011822493, 0.012004733, 0.011269877, 0.010629236, 0.015018504, 0.012523788, 0.014520481, 0.010850208, 0.011978751, 0.011074291, 0.0138043435, 0.010537661, 0.010724348, 0.011308034, 0.011874069, 0.0099889, 0.012889888, 0.010714303, 0.01148607, 0.011131199, 0.012460648, 0.015094266, 0.0138560785, 0.011644998, 0.011320028, 0.0115470905, 0.010999601, 0.012500254, 0.010664277, 0.013488173, 0.010939899, 0.012792078, 0.011778365, 0.013222969, 0.015768575, 0.010738346, 0.010760677, 0.011925388, 0.011660999, 0.012569017, 0.011919277, 0.012362259, 0.0135920625, 0.01249413, 0.011847614, 0.013257281, 0.011308147, 0.012191148, 0.011725379, 0.012817839, 0.010628401, 0.011860828, 0.010454271, 0.013404755, 0.016487889, 0.010167945, 0.04631187, 0.0110758105, 0.0115440935, 0.0133652445, 0.011079943, 0.010803431, 0.012148781, 0.010472249, 0.012676764, 0.011734911, 0.012136209]\n",
      "2022-02-23 15:10:39,221 : INFO : merging changes from 2000 documents into a model of 3204 documents\n",
      "2022-02-23 15:10:39,227 : INFO : topic #48 (0.010): 0.168*\"invers\" + 0.139*\"matrix\" + 0.067*\"frequenc\" + 0.036*\",\" + 0.028*\"coordin\" + 0.027*\"approach\" + 0.027*\"cost\" + 0.024*\"analysi\" + 0.024*\"gener\" + 0.024*\"comput\"\n",
      "2022-02-23 15:10:39,228 : INFO : topic #2 (0.010): 0.096*\"-\" + 0.065*\",\" + 0.044*\"system\" + 0.032*\"predict\" + 0.032*\"perform\" + 0.032*\"cpu\" + 0.031*\"processor\" + 0.022*\"read\" + 0.020*\"statist\" + 0.017*\"measur\"\n",
      "2022-02-23 15:10:39,230 : INFO : topic #67 (0.016): 0.274*\"[\" + 0.188*\"algorithm\" + 0.183*\"(\" + 0.173*\"])\" + 0.026*\"d1\" + 0.025*\"quadratur\" + 0.025*\"function\" + 0.018*\"s14\" + 0.014*\"gauss\" + 0.012*\"integr\"\n",
      "2022-02-23 15:10:39,231 : INFO : topic #87 (0.016): 0.247*\"data\" + 0.158*\"structur\" + 0.069*\"inform\" + 0.057*\"process\" + 0.051*\"system\" + 0.036*\",\" + 0.032*\"mechan\" + 0.030*\"defin\" + 0.022*\"implement\" + 0.021*\"larg\"\n",
      "2022-02-23 15:10:39,232 : INFO : topic #89 (0.046): 0.360*\"(\" + 0.335*\")\" + 0.197*\"algorithm\" + 0.018*\"integr\" + 0.011*\"-\" + 0.010*\"gener\" + 0.009*\"order\" + 0.008*\"a1\" + 0.008*\"[\" + 0.008*\"polynomi\"\n",
      "2022-02-23 15:10:39,234 : INFO : topic diff=0.269228, rho=0.261694\n",
      "2022-02-23 15:10:40,177 : INFO : -6.475 per-word bound, 89.0 perplexity estimate based on a held-out corpus of 1204 documents with 49783 words\n",
      "2022-02-23 15:10:40,178 : INFO : PROGRESS: pass 12, at document #3204/3204\n",
      "2022-02-23 15:10:40,931 : INFO : optimized alpha [0.012300064, 0.011933063, 0.010192271, 0.01235743, 0.011342769, 0.012341728, 0.011926976, 0.012359749, 0.013193557, 0.0103713665, 0.010773488, 0.011472784, 0.012650484, 0.013035722, 0.010461559, 0.011895828, 0.011773191, 0.011301779, 0.011403907, 0.010767313, 0.011156743, 0.011442516, 0.015707517, 0.0109692775, 0.010804352, 0.014587821, 0.012421094, 0.011141619, 0.011882775, 0.010887302, 0.012577119, 0.011486244, 0.011594451, 0.011908771, 0.012148467, 0.0113530895, 0.010731342, 0.0153291365, 0.012749516, 0.014845719, 0.010950985, 0.012169842, 0.011183366, 0.014071767, 0.010603023, 0.010745709, 0.0114822015, 0.01196264, 0.010015776, 0.013102517, 0.010774451, 0.011595518, 0.01127709, 0.012602771, 0.015214306, 0.0140951425, 0.011772571, 0.01139009, 0.011659358, 0.011089779, 0.01259638, 0.010773504, 0.0137785785, 0.011056014, 0.012870786, 0.01189599, 0.013596854, 0.015940249, 0.010806058, 0.010858985, 0.012020984, 0.011776011, 0.012719517, 0.012033296, 0.012568673, 0.013798578, 0.012691917, 0.011959099, 0.013444304, 0.011486626, 0.012277764, 0.011847169, 0.013020645, 0.010688072, 0.012033915, 0.010533727, 0.013667237, 0.016906668, 0.010209654, 0.048319243, 0.011139018, 0.011671202, 0.013551021, 0.01119435, 0.010890012, 0.01232639, 0.010510174, 0.012844085, 0.011857297, 0.012323513]\n",
      "2022-02-23 15:10:40,936 : INFO : merging changes from 1204 documents into a model of 3204 documents\n",
      "2022-02-23 15:10:40,942 : INFO : topic #48 (0.010): 0.151*\"invers\" + 0.136*\"matrix\" + 0.081*\"frequenc\" + 0.034*\",\" + 0.032*\"cost\" + 0.032*\"coordin\" + 0.031*\"approach\" + 0.025*\"comput\" + 0.024*\"gener\" + 0.024*\"analysi\"\n",
      "2022-02-23 15:10:40,943 : INFO : topic #2 (0.010): 0.100*\"-\" + 0.064*\",\" + 0.044*\"system\" + 0.037*\"cpu\" + 0.035*\"perform\" + 0.034*\"predict\" + 0.029*\"processor\" + 0.021*\"read\" + 0.019*\"measur\" + 0.019*\"studi\"\n",
      "2022-02-23 15:10:40,944 : INFO : topic #67 (0.016): 0.298*\"[\" + 0.184*\"algorithm\" + 0.177*\"(\" + 0.146*\"])\" + 0.031*\"d1\" + 0.029*\"quadratur\" + 0.024*\"function\" + 0.018*\"s14\" + 0.016*\"gauss\" + 0.013*\"gaussian\"\n",
      "2022-02-23 15:10:40,944 : INFO : topic #87 (0.017): 0.252*\"data\" + 0.170*\"structur\" + 0.067*\"inform\" + 0.055*\"process\" + 0.050*\"system\" + 0.036*\",\" + 0.032*\"mechan\" + 0.030*\"defin\" + 0.023*\"implement\" + 0.022*\"larg\"\n",
      "2022-02-23 15:10:40,946 : INFO : topic #89 (0.048): 0.368*\"(\" + 0.343*\")\" + 0.190*\"algorithm\" + 0.017*\"integr\" + 0.011*\"-\" + 0.009*\"gener\" + 0.009*\"order\" + 0.008*\"a1\" + 0.007*\"[\" + 0.007*\"polynomi\"\n",
      "2022-02-23 15:10:40,953 : INFO : topic diff=0.274955, rho=0.261694\n",
      "2022-02-23 15:10:40,959 : INFO : PROGRESS: pass 13, at document #2000/3204\n",
      "2022-02-23 15:10:41,915 : INFO : optimized alpha [0.012376917, 0.011960721, 0.010194787, 0.012490025, 0.0114058005, 0.012382287, 0.011948086, 0.012473148, 0.01321948, 0.010365778, 0.01080453, 0.011606051, 0.012732621, 0.013086445, 0.010497389, 0.01198742, 0.011829016, 0.011332871, 0.011433331, 0.010787432, 0.011165472, 0.011502796, 0.015804853, 0.010993829, 0.010807918, 0.014718406, 0.012432217, 0.011149177, 0.011873457, 0.010942972, 0.012653427, 0.011613893, 0.011593874, 0.012041256, 0.012187279, 0.01141778, 0.010808654, 0.0154570425, 0.012783409, 0.014847993, 0.01096588, 0.012189105, 0.011181229, 0.014083543, 0.010614375, 0.010813379, 0.01161782, 0.012071241, 0.010064766, 0.0131974965, 0.010847189, 0.011616116, 0.011273633, 0.012675601, 0.015507974, 0.0142001575, 0.011749727, 0.011447119, 0.0116724, 0.011093319, 0.012729333, 0.010825985, 0.013784643, 0.011049304, 0.0130462535, 0.011928552, 0.013741872, 0.016369846, 0.010814808, 0.010865972, 0.012112599, 0.011824661, 0.012734138, 0.012079026, 0.0126049295, 0.013904986, 0.012672626, 0.011991105, 0.013542622, 0.01147908, 0.012373757, 0.011810734, 0.013195644, 0.0107027935, 0.012039625, 0.010565694, 0.0137216365, 0.017110338, 0.0102036465, 0.05067419, 0.011234274, 0.011677573, 0.013581446, 0.01119993, 0.010874495, 0.012417644, 0.0105811525, 0.012867144, 0.011902481, 0.012301799]\n",
      "2022-02-23 15:10:41,921 : INFO : merging changes from 2000 documents into a model of 3204 documents\n",
      "2022-02-23 15:10:41,927 : INFO : topic #48 (0.010): 0.168*\"invers\" + 0.149*\"matrix\" + 0.068*\"frequenc\" + 0.035*\",\" + 0.031*\"coordin\" + 0.027*\"cost\" + 0.025*\"approach\" + 0.025*\"analysi\" + 0.025*\"30\" + 0.024*\"comput\"\n",
      "2022-02-23 15:10:41,929 : INFO : topic #88 (0.010): 0.146*\"grammar\" + 0.082*\",\" + 0.070*\"recognit\" + 0.050*\"recogn\" + 0.036*\"round\" + 0.033*\"gener\" + 0.031*\"left\" + 0.031*\"procedur\" + 0.030*\"simpl\" + 0.027*\"sentenc\"\n",
      "2022-02-23 15:10:41,929 : INFO : topic #67 (0.016): 0.279*\"[\" + 0.190*\"algorithm\" + 0.183*\"(\" + 0.171*\"])\" + 0.026*\"d1\" + 0.025*\"quadratur\" + 0.024*\"function\" + 0.018*\"s14\" + 0.014*\"gauss\" + 0.011*\"integr\"\n",
      "2022-02-23 15:10:41,931 : INFO : topic #87 (0.017): 0.254*\"data\" + 0.164*\"structur\" + 0.069*\"inform\" + 0.059*\"process\" + 0.051*\"system\" + 0.035*\",\" + 0.031*\"mechan\" + 0.029*\"defin\" + 0.022*\"larg\" + 0.021*\"implement\"\n",
      "2022-02-23 15:10:41,934 : INFO : topic #89 (0.051): 0.364*\"(\" + 0.339*\")\" + 0.194*\"algorithm\" + 0.018*\"integr\" + 0.010*\"-\" + 0.009*\"gener\" + 0.009*\"order\" + 0.008*\"a1\" + 0.008*\"polynomi\" + 0.006*\"[\"\n",
      "2022-02-23 15:10:41,934 : INFO : topic diff=0.242257, rho=0.253169\n",
      "2022-02-23 15:10:42,879 : INFO : -6.466 per-word bound, 88.4 perplexity estimate based on a held-out corpus of 1204 documents with 49783 words\n",
      "2022-02-23 15:10:42,880 : INFO : PROGRESS: pass 13, at document #3204/3204\n",
      "2022-02-23 15:10:43,628 : INFO : optimized alpha [0.012510074, 0.012098932, 0.01027593, 0.012565574, 0.0114830155, 0.012532835, 0.012143618, 0.012582922, 0.013433213, 0.010426731, 0.010812204, 0.011660945, 0.012850707, 0.013249192, 0.010644637, 0.0121188415, 0.011935481, 0.011454258, 0.011559384, 0.010878838, 0.011317705, 0.0115952045, 0.016200338, 0.0111532, 0.010936843, 0.015005303, 0.012604127, 0.011248505, 0.012033304, 0.011089071, 0.012836286, 0.011726674, 0.0117600905, 0.012132722, 0.012330192, 0.011498818, 0.01092655, 0.01576557, 0.013012919, 0.0151638165, 0.011066484, 0.012378717, 0.011287758, 0.01434542, 0.010684801, 0.010834199, 0.0118232295, 0.0121726515, 0.010095264, 0.013414113, 0.010910189, 0.011720427, 0.011425526, 0.012811469, 0.015616834, 0.01444059, 0.011876631, 0.011510417, 0.011784351, 0.011181275, 0.012827972, 0.010937253, 0.0140725495, 0.011167371, 0.013133269, 0.012038162, 0.014127942, 0.016535832, 0.010885408, 0.010964123, 0.012203047, 0.011939268, 0.012880881, 0.01219015, 0.012801682, 0.014118689, 0.012863217, 0.01209981, 0.013731244, 0.011663415, 0.012460399, 0.011934603, 0.013400096, 0.010758747, 0.012201154, 0.010636458, 0.013976521, 0.017527796, 0.010246705, 0.05267698, 0.011293305, 0.011801585, 0.013771429, 0.011309115, 0.010954315, 0.0125967115, 0.01062024, 0.013033315, 0.0120243495, 0.012505594]\n",
      "2022-02-23 15:10:43,634 : INFO : merging changes from 1204 documents into a model of 3204 documents\n",
      "2022-02-23 15:10:43,640 : INFO : topic #48 (0.010): 0.152*\"invers\" + 0.148*\"matrix\" + 0.081*\"frequenc\" + 0.034*\"coordin\" + 0.033*\",\" + 0.032*\"cost\" + 0.029*\"approach\" + 0.025*\"comput\" + 0.024*\"analysi\" + 0.023*\"gener\"\n",
      "2022-02-23 15:10:43,641 : INFO : topic #2 (0.010): 0.102*\"-\" + 0.064*\",\" + 0.043*\"system\" + 0.037*\"cpu\" + 0.036*\"perform\" + 0.034*\"predict\" + 0.030*\"processor\" + 0.021*\"read\" + 0.020*\"studi\" + 0.020*\"measur\"\n",
      "2022-02-23 15:10:43,643 : INFO : topic #67 (0.017): 0.302*\"[\" + 0.186*\"algorithm\" + 0.178*\"(\" + 0.145*\"])\" + 0.031*\"d1\" + 0.029*\"quadratur\" + 0.022*\"function\" + 0.018*\"s14\" + 0.015*\"gauss\" + 0.013*\"gaussian\"\n",
      "2022-02-23 15:10:43,645 : INFO : topic #87 (0.018): 0.257*\"data\" + 0.175*\"structur\" + 0.066*\"inform\" + 0.057*\"process\" + 0.049*\"system\" + 0.035*\",\" + 0.031*\"mechan\" + 0.029*\"defin\" + 0.023*\"implement\" + 0.022*\"larg\"\n",
      "2022-02-23 15:10:43,646 : INFO : topic #89 (0.053): 0.371*\"(\" + 0.346*\")\" + 0.187*\"algorithm\" + 0.017*\"integr\" + 0.011*\"-\" + 0.009*\"gener\" + 0.008*\"order\" + 0.008*\"a1\" + 0.007*\"polynomi\" + 0.005*\"[\"\n",
      "2022-02-23 15:10:43,648 : INFO : topic diff=0.247984, rho=0.253169\n",
      "2022-02-23 15:10:43,655 : INFO : PROGRESS: pass 14, at document #2000/3204\n",
      "2022-02-23 15:10:44,495 : INFO : optimized alpha [0.012588308, 0.0121302465, 0.010275994, 0.012698705, 0.011553188, 0.012573737, 0.012163776, 0.012690988, 0.01346608, 0.0104255155, 0.010844226, 0.011800288, 0.012934082, 0.0132903205, 0.010682071, 0.012206971, 0.011990023, 0.011485894, 0.011590829, 0.010897177, 0.011325895, 0.0116555905, 0.016298156, 0.011179598, 0.010941495, 0.015143838, 0.012617718, 0.011257349, 0.0120268995, 0.011148888, 0.012912252, 0.011853471, 0.0117606465, 0.012268698, 0.012370944, 0.011566365, 0.01101698, 0.015900077, 0.0130501455, 0.015173537, 0.0110797305, 0.012401609, 0.011285751, 0.014354052, 0.010697374, 0.010903132, 0.011967078, 0.012280555, 0.0101432735, 0.013508343, 0.010985524, 0.011743438, 0.011421862, 0.012879388, 0.015900854, 0.014553968, 0.011855853, 0.011564847, 0.011801412, 0.011186252, 0.012959876, 0.01099534, 0.014078803, 0.011156613, 0.013317074, 0.012072919, 0.01427744, 0.016963564, 0.010900882, 0.010981692, 0.012297246, 0.011986716, 0.012891824, 0.012234791, 0.01283029, 0.0142261, 0.0128406435, 0.012131023, 0.01383244, 0.011661253, 0.012554329, 0.011903682, 0.013574137, 0.010773367, 0.012209417, 0.010666466, 0.014039219, 0.017738342, 0.010242554, 0.055116672, 0.011392235, 0.011807706, 0.013810787, 0.011320238, 0.010943576, 0.012685946, 0.010692344, 0.013057125, 0.012066869, 0.012488418]\n",
      "2022-02-23 15:10:44,501 : INFO : merging changes from 2000 documents into a model of 3204 documents\n",
      "2022-02-23 15:10:44,508 : INFO : topic #48 (0.010): 0.170*\"invers\" + 0.159*\"matrix\" + 0.069*\"frequenc\" + 0.035*\",\" + 0.033*\"coordin\" + 0.028*\"cost\" + 0.025*\"30\" + 0.025*\"analysi\" + 0.024*\"approach\" + 0.024*\"comput\"\n",
      "2022-02-23 15:10:44,509 : INFO : topic #88 (0.010): 0.147*\"grammar\" + 0.082*\",\" + 0.071*\"recognit\" + 0.051*\"recogn\" + 0.038*\"round\" + 0.034*\"gener\" + 0.031*\"left\" + 0.031*\"procedur\" + 0.030*\"simpl\" + 0.028*\"sentenc\"\n",
      "2022-02-23 15:10:44,511 : INFO : topic #67 (0.017): 0.282*\"[\" + 0.191*\"algorithm\" + 0.183*\"(\" + 0.170*\"])\" + 0.026*\"d1\" + 0.025*\"quadratur\" + 0.022*\"function\" + 0.018*\"s14\" + 0.014*\"gauss\" + 0.011*\"gaussian\"\n",
      "2022-02-23 15:10:44,512 : INFO : topic #87 (0.018): 0.259*\"data\" + 0.168*\"structur\" + 0.068*\"inform\" + 0.062*\"process\" + 0.050*\"system\" + 0.034*\",\" + 0.030*\"mechan\" + 0.029*\"defin\" + 0.022*\"larg\" + 0.021*\"implement\"\n",
      "2022-02-23 15:10:44,513 : INFO : topic #89 (0.055): 0.368*\"(\" + 0.342*\")\" + 0.192*\"algorithm\" + 0.018*\"integr\" + 0.010*\"-\" + 0.009*\"gener\" + 0.008*\"a1\" + 0.008*\"order\" + 0.008*\"polynomi\" + 0.005*\"s15\"\n",
      "2022-02-23 15:10:44,514 : INFO : topic diff=0.219890, rho=0.245426\n",
      "2022-02-23 15:10:45,427 : INFO : -6.459 per-word bound, 88.0 perplexity estimate based on a held-out corpus of 1204 documents with 49783 words\n",
      "2022-02-23 15:10:45,428 : INFO : PROGRESS: pass 14, at document #3204/3204\n",
      "2022-02-23 15:10:46,173 : INFO : optimized alpha [0.012713283, 0.012265514, 0.010359616, 0.012769444, 0.011633223, 0.012723688, 0.012365707, 0.012803185, 0.0136782965, 0.010485219, 0.01085209, 0.011855859, 0.013043999, 0.013444001, 0.010841952, 0.0123305805, 0.012091465, 0.011609273, 0.011711751, 0.010984231, 0.011479679, 0.011755401, 0.016688745, 0.011342758, 0.011065393, 0.015426221, 0.012788655, 0.011359013, 0.012190812, 0.011294402, 0.013086105, 0.011961202, 0.011933163, 0.012360271, 0.012520754, 0.011652552, 0.011141266, 0.016206967, 0.013283718, 0.015483864, 0.0111781135, 0.012585002, 0.011392149, 0.0146081, 0.010770619, 0.010923458, 0.012191904, 0.012379449, 0.010177255, 0.013729312, 0.011046974, 0.011847713, 0.011565863, 0.01301209, 0.0160023, 0.014784223, 0.011975057, 0.01162661, 0.011901094, 0.011276788, 0.013058444, 0.011106345, 0.014364682, 0.011274351, 0.013406769, 0.012182586, 0.014690649, 0.017123995, 0.0109632, 0.011073082, 0.01239042, 0.012101123, 0.01304053, 0.012353314, 0.013025785, 0.0144504495, 0.013024512, 0.012237132, 0.01401454, 0.0118492, 0.012636104, 0.01202728, 0.013785988, 0.010828162, 0.012372545, 0.010739964, 0.014301276, 0.018173065, 0.010284823, 0.057146147, 0.011452029, 0.011931325, 0.014002349, 0.01142468, 0.011023796, 0.012864177, 0.010736954, 0.013233203, 0.012185975, 0.012688157]\n",
      "2022-02-23 15:10:46,178 : INFO : merging changes from 1204 documents into a model of 3204 documents\n",
      "2022-02-23 15:10:46,185 : INFO : topic #48 (0.010): 0.159*\"matrix\" + 0.153*\"invers\" + 0.081*\"frequenc\" + 0.036*\"coordin\" + 0.033*\",\" + 0.032*\"cost\" + 0.028*\"approach\" + 0.025*\"comput\" + 0.024*\"analysi\" + 0.024*\"30\"\n",
      "2022-02-23 15:10:46,185 : INFO : topic #88 (0.010): 0.155*\"grammar\" + 0.082*\",\" + 0.071*\"recognit\" + 0.052*\"recogn\" + 0.038*\"round\" + 0.038*\"gener\" + 0.035*\"left\" + 0.031*\"promis\" + 0.030*\"simpl\" + 0.027*\"procedur\"\n",
      "2022-02-23 15:10:46,186 : INFO : topic #67 (0.017): 0.304*\"[\" + 0.188*\"algorithm\" + 0.178*\"(\" + 0.145*\"])\" + 0.031*\"d1\" + 0.028*\"quadratur\" + 0.021*\"function\" + 0.018*\"s14\" + 0.015*\"gauss\" + 0.013*\"gaussian\"\n",
      "2022-02-23 15:10:46,188 : INFO : topic #87 (0.018): 0.261*\"data\" + 0.180*\"structur\" + 0.065*\"inform\" + 0.058*\"process\" + 0.048*\"system\" + 0.033*\",\" + 0.030*\"mechan\" + 0.029*\"defin\" + 0.022*\"implement\" + 0.022*\"larg\"\n",
      "2022-02-23 15:10:46,190 : INFO : topic #89 (0.057): 0.375*\"(\" + 0.349*\")\" + 0.185*\"algorithm\" + 0.017*\"integr\" + 0.010*\"-\" + 0.009*\"gener\" + 0.008*\"a1\" + 0.008*\"order\" + 0.007*\"polynomi\" + 0.004*\"normal\"\n",
      "2022-02-23 15:10:46,192 : INFO : topic diff=0.225430, rho=0.245426\n",
      "2022-02-23 15:10:46,203 : INFO : PROGRESS: pass 15, at document #2000/3204\n",
      "2022-02-23 15:10:47,025 : INFO : optimized alpha [0.012786875, 0.0122989435, 0.0103622675, 0.012895613, 0.011713162, 0.0127588445, 0.012381844, 0.012913767, 0.013713085, 0.010486834, 0.010882437, 0.011992884, 0.013128776, 0.01349206, 0.010887421, 0.012421391, 0.012144812, 0.011638709, 0.011745148, 0.011003555, 0.011486061, 0.011814504, 0.016785258, 0.011372319, 0.011069795, 0.015565524, 0.012801542, 0.0113690365, 0.012188635, 0.011355596, 0.013163398, 0.012085924, 0.0119390115, 0.012495575, 0.012561837, 0.011717357, 0.0112406975, 0.016346185, 0.013319381, 0.01549546, 0.011195089, 0.012605437, 0.011388854, 0.014618993, 0.010781768, 0.0109897675, 0.012344325, 0.012494196, 0.010229165, 0.013827943, 0.011120906, 0.011871565, 0.011568889, 0.013081519, 0.016284589, 0.014891709, 0.011957684, 0.011682744, 0.011917799, 0.0112831, 0.0131879505, 0.011163291, 0.014376382, 0.011265166, 0.013591032, 0.012222434, 0.014846601, 0.017549997, 0.010978532, 0.011089011, 0.012482783, 0.01215038, 0.013054095, 0.012399859, 0.013051591, 0.014553734, 0.013005093, 0.012267604, 0.014110265, 0.0118451, 0.0127296215, 0.011997215, 0.013964242, 0.010844, 0.012377319, 0.010770658, 0.0143603105, 0.018393287, 0.010282406, 0.059610743, 0.01155193, 0.01193722, 0.014041971, 0.011429976, 0.011010892, 0.012954545, 0.010810228, 0.013260887, 0.012230375, 0.0126707405]\n",
      "2022-02-23 15:10:47,032 : INFO : merging changes from 2000 documents into a model of 3204 documents\n",
      "2022-02-23 15:10:47,039 : INFO : topic #48 (0.010): 0.170*\"invers\" + 0.169*\"matrix\" + 0.069*\"frequenc\" + 0.035*\"coordin\" + 0.034*\",\" + 0.028*\"cost\" + 0.026*\"30\" + 0.025*\"analysi\" + 0.024*\"comput\" + 0.023*\"approach\"\n",
      "2022-02-23 15:10:47,045 : INFO : topic #2 (0.010): 0.099*\"-\" + 0.064*\",\" + 0.043*\"system\" + 0.036*\"perform\" + 0.034*\"processor\" + 0.033*\"predict\" + 0.032*\"cpu\" + 0.022*\"statist\" + 0.021*\"read\" + 0.019*\"studi\"\n",
      "2022-02-23 15:10:47,046 : INFO : topic #67 (0.018): 0.285*\"[\" + 0.192*\"algorithm\" + 0.184*\"(\" + 0.170*\"])\" + 0.026*\"d1\" + 0.025*\"quadratur\" + 0.022*\"function\" + 0.018*\"s14\" + 0.014*\"gauss\" + 0.011*\"gaussian\"\n",
      "2022-02-23 15:10:47,047 : INFO : topic #87 (0.018): 0.262*\"data\" + 0.172*\"structur\" + 0.067*\"inform\" + 0.063*\"process\" + 0.050*\"system\" + 0.032*\",\" + 0.029*\"mechan\" + 0.028*\"defin\" + 0.022*\"larg\" + 0.021*\"implement\"\n",
      "2022-02-23 15:10:47,048 : INFO : topic #89 (0.060): 0.371*\"(\" + 0.345*\")\" + 0.190*\"algorithm\" + 0.018*\"integr\" + 0.010*\"-\" + 0.009*\"gener\" + 0.008*\"a1\" + 0.008*\"polynomi\" + 0.008*\"order\" + 0.005*\"s15\"\n",
      "2022-02-23 15:10:47,049 : INFO : topic diff=0.201245, rho=0.238352\n",
      "2022-02-23 15:10:47,936 : INFO : -6.453 per-word bound, 87.6 perplexity estimate based on a held-out corpus of 1204 documents with 49783 words\n",
      "2022-02-23 15:10:47,937 : INFO : PROGRESS: pass 15, at document #3204/3204\n",
      "2022-02-23 15:10:48,622 : INFO : optimized alpha [0.0129272165, 0.012431422, 0.010444248, 0.012954188, 0.011786626, 0.012923606, 0.012580373, 0.013018381, 0.013918662, 0.010551627, 0.01089052, 0.01204681, 0.0132413935, 0.013645219, 0.011079512, 0.012544915, 0.012244029, 0.011759561, 0.01186353, 0.011088782, 0.011630034, 0.0119143585, 0.017177971, 0.011541614, 0.011193407, 0.015846761, 0.012969227, 0.011464058, 0.012346834, 0.011505269, 0.013336577, 0.012195996, 0.012113251, 0.01258998, 0.012706219, 0.011799263, 0.011380332, 0.0166584, 0.01355999, 0.015800718, 0.011286878, 0.012793072, 0.0114953285, 0.014871382, 0.010853498, 0.011009653, 0.012601193, 0.012593226, 0.010268474, 0.01406706, 0.011183142, 0.0119759925, 0.011712305, 0.013213882, 0.01637899, 0.015142115, 0.012076766, 0.0117477765, 0.01202246, 0.011367235, 0.013286559, 0.011274355, 0.014663695, 0.0113782, 0.013667207, 0.012332242, 0.0152590275, 0.017705, 0.011039543, 0.01117843, 0.012571316, 0.012262352, 0.013194436, 0.012513385, 0.013243573, 0.0147654405, 0.013193064, 0.012366505, 0.014297431, 0.01203447, 0.0128093455, 0.012120632, 0.014178418, 0.010899859, 0.012537239, 0.010842587, 0.014627108, 0.018827492, 0.010323941, 0.061668128, 0.011614774, 0.012058243, 0.014226943, 0.011532182, 0.011085052, 0.013127088, 0.010853785, 0.013428332, 0.012344514, 0.012866752]\n",
      "2022-02-23 15:10:48,627 : INFO : merging changes from 1204 documents into a model of 3204 documents\n",
      "2022-02-23 15:10:48,634 : INFO : topic #48 (0.010): 0.169*\"matrix\" + 0.153*\"invers\" + 0.081*\"frequenc\" + 0.037*\"coordin\" + 0.032*\",\" + 0.032*\"cost\" + 0.027*\"approach\" + 0.025*\"comput\" + 0.024*\"analysi\" + 0.024*\"30\"\n",
      "2022-02-23 15:10:48,635 : INFO : topic #88 (0.010): 0.156*\"grammar\" + 0.082*\",\" + 0.071*\"recognit\" + 0.052*\"recogn\" + 0.039*\"round\" + 0.038*\"gener\" + 0.035*\"left\" + 0.031*\"promis\" + 0.028*\"simpl\" + 0.026*\"procedur\"\n",
      "2022-02-23 15:10:48,635 : INFO : topic #67 (0.018): 0.306*\"[\" + 0.189*\"algorithm\" + 0.179*\"(\" + 0.145*\"])\" + 0.031*\"d1\" + 0.028*\"quadratur\" + 0.020*\"function\" + 0.018*\"s14\" + 0.015*\"gauss\" + 0.013*\"gaussian\"\n",
      "2022-02-23 15:10:48,636 : INFO : topic #87 (0.019): 0.266*\"data\" + 0.184*\"structur\" + 0.064*\"inform\" + 0.060*\"process\" + 0.047*\"system\" + 0.033*\",\" + 0.029*\"mechan\" + 0.029*\"defin\" + 0.022*\"larg\" + 0.022*\"implement\"\n",
      "2022-02-23 15:10:48,637 : INFO : topic #89 (0.062): 0.379*\"(\" + 0.351*\")\" + 0.183*\"algorithm\" + 0.017*\"integr\" + 0.010*\"-\" + 0.009*\"gener\" + 0.008*\"a1\" + 0.007*\"order\" + 0.007*\"polynomi\" + 0.004*\"normal\"\n",
      "2022-02-23 15:10:48,638 : INFO : topic diff=0.206317, rho=0.238352\n",
      "2022-02-23 15:10:48,645 : INFO : PROGRESS: pass 16, at document #2000/3204\n",
      "2022-02-23 15:10:49,553 : INFO : optimized alpha [0.013006906, 0.012462613, 0.010449364, 0.013078231, 0.0118651735, 0.012965359, 0.012597072, 0.0131271165, 0.013950569, 0.010555891, 0.010921855, 0.012186017, 0.013332169, 0.013688904, 0.011129045, 0.012636949, 0.012293403, 0.011788284, 0.011894762, 0.011114269, 0.0116374465, 0.011983351, 0.017277192, 0.011568901, 0.011200221, 0.015985237, 0.012984541, 0.011471253, 0.012344408, 0.011570627, 0.013419988, 0.012321667, 0.01211999, 0.012729146, 0.0127492165, 0.011866978, 0.011483519, 0.016786756, 0.013605353, 0.015815955, 0.0112983035, 0.012811142, 0.011492105, 0.014882765, 0.010864571, 0.0110747805, 0.012766834, 0.012703087, 0.010321888, 0.014166713, 0.011255757, 0.0119952, 0.011715039, 0.013281804, 0.016663667, 0.015256255, 0.012054182, 0.011808364, 0.012038833, 0.011373556, 0.013416979, 0.011336689, 0.014670593, 0.0113692265, 0.013845617, 0.012377064, 0.0154233165, 0.018131435, 0.011056031, 0.011194094, 0.012663417, 0.012306263, 0.013209119, 0.012561847, 0.01326681, 0.014875181, 0.013179747, 0.012390585, 0.014402907, 0.012029879, 0.012901146, 0.012095571, 0.0143545605, 0.0109156035, 0.012541573, 0.010875269, 0.014691051, 0.019043898, 0.010321968, 0.06417486, 0.011714374, 0.0120653175, 0.014272055, 0.011540149, 0.011074023, 0.013214135, 0.01092699, 0.013456694, 0.012390828, 0.012850552]\n",
      "2022-02-23 15:10:49,559 : INFO : merging changes from 2000 documents into a model of 3204 documents\n",
      "2022-02-23 15:10:49,565 : INFO : topic #48 (0.010): 0.179*\"matrix\" + 0.169*\"invers\" + 0.069*\"frequenc\" + 0.036*\"coordin\" + 0.033*\",\" + 0.028*\"cost\" + 0.026*\"30\" + 0.025*\"analysi\" + 0.023*\"comput\" + 0.023*\"approach\"\n",
      "2022-02-23 15:10:49,566 : INFO : topic #88 (0.010): 0.150*\"grammar\" + 0.083*\",\" + 0.072*\"recognit\" + 0.051*\"recogn\" + 0.039*\"round\" + 0.036*\"gener\" + 0.032*\"left\" + 0.029*\"procedur\" + 0.028*\"simpl\" + 0.028*\"sentenc\"\n",
      "2022-02-23 15:10:49,567 : INFO : topic #67 (0.018): 0.287*\"[\" + 0.193*\"algorithm\" + 0.184*\"(\" + 0.169*\"])\" + 0.026*\"d1\" + 0.025*\"quadratur\" + 0.021*\"function\" + 0.018*\"s14\" + 0.014*\"gauss\" + 0.011*\"gaussian\"\n",
      "2022-02-23 15:10:49,569 : INFO : topic #87 (0.019): 0.267*\"data\" + 0.177*\"structur\" + 0.065*\"inform\" + 0.065*\"process\" + 0.048*\"system\" + 0.032*\",\" + 0.029*\"mechan\" + 0.028*\"defin\" + 0.022*\"larg\" + 0.021*\"implement\"\n",
      "2022-02-23 15:10:49,570 : INFO : topic #89 (0.064): 0.374*\"(\" + 0.347*\")\" + 0.188*\"algorithm\" + 0.018*\"integr\" + 0.010*\"-\" + 0.009*\"gener\" + 0.008*\"a1\" + 0.008*\"polynomi\" + 0.007*\"order\" + 0.005*\"s15\"\n",
      "2022-02-23 15:10:49,573 : INFO : topic diff=0.185557, rho=0.231857\n",
      "2022-02-23 15:10:50,465 : INFO : -6.447 per-word bound, 87.2 perplexity estimate based on a held-out corpus of 1204 documents with 49783 words\n",
      "2022-02-23 15:10:50,466 : INFO : PROGRESS: pass 16, at document #3204/3204\n",
      "2022-02-23 15:10:51,125 : INFO : optimized alpha [0.013136973, 0.012597395, 0.010529725, 0.013137653, 0.011946278, 0.013122261, 0.012799843, 0.013234539, 0.0141552435, 0.01061739, 0.010932212, 0.012240766, 0.013442375, 0.013841838, 0.011329779, 0.012763038, 0.012395423, 0.0119090695, 0.012017759, 0.011197811, 0.011783392, 0.012078845, 0.017669216, 0.011744499, 0.01132809, 0.016259432, 0.013151688, 0.011566601, 0.012502241, 0.011717886, 0.013587542, 0.01242952, 0.012293709, 0.012833584, 0.012890887, 0.011951781, 0.011632049, 0.0170851, 0.013839985, 0.016122589, 0.0113838045, 0.012998126, 0.011596522, 0.015136808, 0.0109369615, 0.011096423, 0.013044566, 0.012799914, 0.010366359, 0.014402541, 0.011314457, 0.012092888, 0.011851228, 0.013411455, 0.016754413, 0.015491114, 0.012170906, 0.011871987, 0.012141468, 0.011460396, 0.013510607, 0.011450155, 0.014950873, 0.011484409, 0.013924787, 0.0124870995, 0.01586159, 0.018281069, 0.011124437, 0.011281688, 0.012752408, 0.01242075, 0.0133492695, 0.012675538, 0.013455547, 0.015103508, 0.013371928, 0.0124851195, 0.0146064665, 0.012216193, 0.012976455, 0.012211833, 0.014565662, 0.010968269, 0.012696214, 0.010947874, 0.014960035, 0.019484775, 0.010368811, 0.066190846, 0.011775754, 0.0121863205, 0.014467487, 0.011647095, 0.0111467475, 0.0133812325, 0.010965287, 0.013626331, 0.01250993, 0.013045641]\n",
      "2022-02-23 15:10:51,131 : INFO : merging changes from 1204 documents into a model of 3204 documents\n",
      "2022-02-23 15:10:51,136 : INFO : topic #88 (0.010): 0.158*\"grammar\" + 0.082*\",\" + 0.071*\"recognit\" + 0.052*\"recogn\" + 0.039*\"round\" + 0.038*\"gener\" + 0.035*\"left\" + 0.031*\"promis\" + 0.028*\"simpl\" + 0.025*\"procedur\"\n",
      "2022-02-23 15:10:51,137 : INFO : topic #48 (0.010): 0.179*\"matrix\" + 0.152*\"invers\" + 0.080*\"frequenc\" + 0.038*\"coordin\" + 0.032*\"cost\" + 0.031*\",\" + 0.026*\"approach\" + 0.024*\"comput\" + 0.024*\"analysi\" + 0.024*\"30\"\n",
      "2022-02-23 15:10:51,138 : INFO : topic #67 (0.018): 0.307*\"[\" + 0.191*\"algorithm\" + 0.178*\"(\" + 0.146*\"])\" + 0.031*\"d1\" + 0.028*\"quadratur\" + 0.020*\"function\" + 0.018*\"s14\" + 0.015*\"gauss\" + 0.013*\"gaussian\"\n",
      "2022-02-23 15:10:51,139 : INFO : topic #87 (0.019): 0.271*\"data\" + 0.189*\"structur\" + 0.062*\"process\" + 0.062*\"inform\" + 0.046*\"system\" + 0.032*\",\" + 0.029*\"defin\" + 0.029*\"mechan\" + 0.022*\"larg\" + 0.022*\"implement\"\n",
      "2022-02-23 15:10:51,140 : INFO : topic #89 (0.066): 0.382*\"(\" + 0.353*\")\" + 0.181*\"algorithm\" + 0.017*\"integr\" + 0.010*\"-\" + 0.009*\"gener\" + 0.008*\"a1\" + 0.007*\"polynomi\" + 0.007*\"order\" + 0.004*\"normal\"\n",
      "2022-02-23 15:10:51,141 : INFO : topic diff=0.190286, rho=0.231857\n",
      "2022-02-23 15:10:51,150 : INFO : PROGRESS: pass 17, at document #2000/3204\n",
      "2022-02-23 15:10:51,955 : INFO : optimized alpha [0.01322732, 0.012630581, 0.010534822, 0.013250777, 0.012030333, 0.013165944, 0.0128214555, 0.013344519, 0.01418752, 0.010625442, 0.010963237, 0.01237941, 0.013534613, 0.013884418, 0.011387166, 0.012853534, 0.012445281, 0.011938467, 0.012046854, 0.011222834, 0.011793083, 0.012148032, 0.017767288, 0.01177489, 0.011332037, 0.0163953, 0.0131678395, 0.011573711, 0.012499572, 0.011785978, 0.013670822, 0.01255621, 0.012298509, 0.012975233, 0.012935816, 0.012019652, 0.011742982, 0.0172165, 0.013876046, 0.016141431, 0.011395095, 0.013012439, 0.011594717, 0.015148672, 0.010947939, 0.011159201, 0.013221011, 0.012899359, 0.010421212, 0.014508332, 0.01138714, 0.012115853, 0.011857731, 0.013476499, 0.017039854, 0.015605096, 0.012147532, 0.011935609, 0.01215892, 0.011466683, 0.013646602, 0.011517854, 0.014963153, 0.0114769405, 0.014105488, 0.012526716, 0.016027568, 0.018706018, 0.01114708, 0.011294505, 0.0128400605, 0.012463729, 0.013357466, 0.012723018, 0.013476277, 0.0152111305, 0.013362851, 0.012505917, 0.01471168, 0.012209707, 0.013066695, 0.012181809, 0.01474472, 0.010987681, 0.012703109, 0.010980025, 0.01503203, 0.019699855, 0.01036719, 0.06867666, 0.01187246, 0.012193177, 0.014516098, 0.011653516, 0.011136189, 0.013465143, 0.0110372845, 0.0136537915, 0.0125553245, 0.013032143]\n",
      "2022-02-23 15:10:51,962 : INFO : merging changes from 2000 documents into a model of 3204 documents\n",
      "2022-02-23 15:10:51,968 : INFO : topic #88 (0.010): 0.152*\"grammar\" + 0.083*\",\" + 0.072*\"recognit\" + 0.051*\"recogn\" + 0.040*\"round\" + 0.036*\"gener\" + 0.032*\"left\" + 0.028*\"procedur\" + 0.028*\"sentenc\" + 0.027*\"simpl\"\n",
      "2022-02-23 15:10:51,969 : INFO : topic #48 (0.010): 0.188*\"matrix\" + 0.168*\"invers\" + 0.069*\"frequenc\" + 0.037*\"coordin\" + 0.033*\",\" + 0.029*\"cost\" + 0.026*\"30\" + 0.025*\"analysi\" + 0.023*\"comput\" + 0.022*\"approach\"\n",
      "2022-02-23 15:10:51,978 : INFO : topic #67 (0.019): 0.288*\"[\" + 0.195*\"algorithm\" + 0.184*\"(\" + 0.169*\"])\" + 0.026*\"d1\" + 0.025*\"quadratur\" + 0.020*\"function\" + 0.018*\"s14\" + 0.014*\"gauss\" + 0.011*\"gaussian\"\n",
      "2022-02-23 15:10:51,985 : INFO : topic #87 (0.020): 0.272*\"data\" + 0.182*\"structur\" + 0.067*\"process\" + 0.063*\"inform\" + 0.047*\"system\" + 0.031*\",\" + 0.028*\"mechan\" + 0.028*\"defin\" + 0.022*\"larg\" + 0.020*\"implement\"\n",
      "2022-02-23 15:10:51,988 : INFO : topic #89 (0.069): 0.377*\"(\" + 0.349*\")\" + 0.186*\"algorithm\" + 0.018*\"integr\" + 0.010*\"-\" + 0.009*\"gener\" + 0.008*\"a1\" + 0.008*\"polynomi\" + 0.007*\"order\" + 0.005*\"s15\"\n",
      "2022-02-23 15:10:51,993 : INFO : topic diff=0.171826, rho=0.225865\n",
      "2022-02-23 15:10:52,921 : INFO : -6.442 per-word bound, 87.0 perplexity estimate based on a held-out corpus of 1204 documents with 49783 words\n",
      "2022-02-23 15:10:52,921 : INFO : PROGRESS: pass 17, at document #3204/3204\n",
      "2022-02-23 15:10:53,574 : INFO : optimized alpha [0.013365247, 0.012760631, 0.010623696, 0.01331125, 0.012112127, 0.013327565, 0.013028687, 0.013452249, 0.014380783, 0.010689797, 0.010973687, 0.01243032, 0.013645099, 0.014039837, 0.011609699, 0.012979761, 0.012547543, 0.012059314, 0.012160865, 0.011309051, 0.011936659, 0.012248588, 0.018158846, 0.011952434, 0.011464227, 0.016668793, 0.013332227, 0.011667288, 0.012664216, 0.01192884, 0.01384076, 0.012664318, 0.012469443, 0.0130751105, 0.013084676, 0.01210272, 0.011909197, 0.017513929, 0.014118145, 0.016446728, 0.011474609, 0.013196476, 0.011701618, 0.015396121, 0.011016909, 0.011178323, 0.013520223, 0.012989296, 0.010470682, 0.014760028, 0.01144462, 0.012209419, 0.01200034, 0.0136061385, 0.017123848, 0.015836723, 0.012262111, 0.012000201, 0.012266513, 0.01154977, 0.013740647, 0.011631587, 0.015225477, 0.011590083, 0.014187682, 0.012637115, 0.016469032, 0.018850373, 0.0112121105, 0.011388948, 0.012924802, 0.012576047, 0.013492514, 0.012834648, 0.013667061, 0.015439011, 0.01354937, 0.012598622, 0.0149150295, 0.0123955095, 0.013140185, 0.012302832, 0.014972122, 0.011041498, 0.012855103, 0.011047067, 0.015300667, 0.020140802, 0.010409385, 0.07061203, 0.0119324345, 0.012316537, 0.0147137055, 0.01175859, 0.011207579, 0.013634531, 0.01107473, 0.013817949, 0.01266986, 0.013211706]\n",
      "2022-02-23 15:10:53,580 : INFO : merging changes from 1204 documents into a model of 3204 documents\n",
      "2022-02-23 15:10:53,587 : INFO : topic #48 (0.010): 0.187*\"matrix\" + 0.150*\"invers\" + 0.078*\"frequenc\" + 0.039*\"coordin\" + 0.032*\"cost\" + 0.031*\",\" + 0.025*\"approach\" + 0.024*\"comput\" + 0.024*\"analysi\" + 0.024*\"30\"\n",
      "2022-02-23 15:10:53,587 : INFO : topic #88 (0.010): 0.159*\"grammar\" + 0.083*\",\" + 0.072*\"recognit\" + 0.052*\"recogn\" + 0.039*\"round\" + 0.039*\"gener\" + 0.035*\"left\" + 0.031*\"promis\" + 0.027*\"simpl\" + 0.025*\"decid\"\n",
      "2022-02-23 15:10:53,589 : INFO : topic #67 (0.019): 0.308*\"[\" + 0.192*\"algorithm\" + 0.178*\"(\" + 0.146*\"])\" + 0.030*\"d1\" + 0.028*\"quadratur\" + 0.019*\"function\" + 0.018*\"s14\" + 0.015*\"gauss\" + 0.013*\"gaussian\"\n",
      "2022-02-23 15:10:53,591 : INFO : topic #87 (0.020): 0.276*\"data\" + 0.194*\"structur\" + 0.064*\"process\" + 0.059*\"inform\" + 0.045*\"system\" + 0.031*\",\" + 0.028*\"defin\" + 0.027*\"mechan\" + 0.022*\"larg\" + 0.021*\"implement\"\n",
      "2022-02-23 15:10:53,592 : INFO : topic #89 (0.071): 0.385*\"(\" + 0.354*\")\" + 0.180*\"algorithm\" + 0.017*\"integr\" + 0.010*\"-\" + 0.009*\"gener\" + 0.008*\"a1\" + 0.007*\"polynomi\" + 0.006*\"order\" + 0.004*\"normal\"\n",
      "2022-02-23 15:10:53,593 : INFO : topic diff=0.176365, rho=0.225865\n",
      "2022-02-23 15:10:53,600 : INFO : PROGRESS: pass 18, at document #2000/3204\n",
      "2022-02-23 15:10:54,364 : INFO : optimized alpha [0.013446743, 0.012793136, 0.010631103, 0.013428554, 0.012196293, 0.013367235, 0.013050815, 0.013559093, 0.014416782, 0.01069783, 0.011003182, 0.012567174, 0.013737366, 0.014081398, 0.011671027, 0.013074454, 0.012593684, 0.012089413, 0.012189366, 0.011333641, 0.011944546, 0.012320709, 0.018245868, 0.011984539, 0.011466642, 0.016800338, 0.013347766, 0.011674304, 0.012664076, 0.011995803, 0.013924079, 0.012792108, 0.012476546, 0.013215017, 0.013130031, 0.012173564, 0.012024119, 0.017648524, 0.014157613, 0.016465643, 0.011484514, 0.013214499, 0.011699805, 0.015415317, 0.011029006, 0.011241351, 0.013710653, 0.013095759, 0.010529253, 0.01487518, 0.011512397, 0.012233322, 0.0120051745, 0.013668441, 0.01740839, 0.015959226, 0.012239248, 0.012061473, 0.0122822225, 0.01155605, 0.013876241, 0.011699522, 0.015231462, 0.011581477, 0.01436934, 0.0126745915, 0.016636604, 0.01927396, 0.011235742, 0.011404063, 0.013018166, 0.012618153, 0.013504894, 0.012885465, 0.013689976, 0.015546326, 0.01353998, 0.01262324, 0.015016806, 0.0123900175, 0.01322748, 0.012276238, 0.015152731, 0.01106437, 0.012864435, 0.011083594, 0.015369183, 0.0203546, 0.010409243, 0.07309445, 0.012029028, 0.012324507, 0.014768987, 0.01176752, 0.011198733, 0.013721395, 0.01114315, 0.0138492035, 0.012715787, 0.013196552]\n",
      "2022-02-23 15:10:54,372 : INFO : merging changes from 2000 documents into a model of 3204 documents\n",
      "2022-02-23 15:10:54,379 : INFO : topic #88 (0.010): 0.153*\"grammar\" + 0.083*\",\" + 0.072*\"recognit\" + 0.051*\"recogn\" + 0.040*\"round\" + 0.037*\"gener\" + 0.032*\"left\" + 0.028*\"sentenc\" + 0.027*\"simpl\" + 0.027*\"promis\"\n",
      "2022-02-23 15:10:54,383 : INFO : topic #48 (0.011): 0.197*\"matrix\" + 0.166*\"invers\" + 0.068*\"frequenc\" + 0.037*\"coordin\" + 0.032*\",\" + 0.029*\"cost\" + 0.025*\"30\" + 0.024*\"analysi\" + 0.023*\"comput\" + 0.022*\"approach\"\n",
      "2022-02-23 15:10:54,384 : INFO : topic #67 (0.019): 0.289*\"[\" + 0.196*\"algorithm\" + 0.183*\"(\" + 0.168*\"])\" + 0.026*\"d1\" + 0.025*\"quadratur\" + 0.020*\"function\" + 0.018*\"s14\" + 0.014*\"gauss\" + 0.011*\"gaussian\"\n",
      "2022-02-23 15:10:54,386 : INFO : topic #87 (0.020): 0.277*\"data\" + 0.186*\"structur\" + 0.069*\"process\" + 0.061*\"inform\" + 0.045*\"system\" + 0.030*\",\" + 0.028*\"defin\" + 0.026*\"mechan\" + 0.022*\"larg\" + 0.020*\"implement\"\n",
      "2022-02-23 15:10:54,387 : INFO : topic #89 (0.073): 0.380*\"(\" + 0.350*\")\" + 0.185*\"algorithm\" + 0.018*\"integr\" + 0.010*\"-\" + 0.009*\"gener\" + 0.008*\"a1\" + 0.008*\"polynomi\" + 0.006*\"order\" + 0.005*\"s15\"\n",
      "2022-02-23 15:10:54,388 : INFO : topic diff=0.160153, rho=0.220316\n",
      "2022-02-23 15:10:55,238 : INFO : -6.436 per-word bound, 86.6 perplexity estimate based on a held-out corpus of 1204 documents with 49783 words\n",
      "2022-02-23 15:10:55,239 : INFO : PROGRESS: pass 18, at document #3204/3204\n",
      "2022-02-23 15:10:55,871 : INFO : optimized alpha [0.0135823, 0.012921028, 0.010722428, 0.013482595, 0.012274254, 0.013526341, 0.013255446, 0.013662323, 0.014607031, 0.010759122, 0.011015745, 0.012621334, 0.013853212, 0.014236837, 0.011900612, 0.013208133, 0.012691814, 0.012208251, 0.012301372, 0.011420443, 0.012090323, 0.012426216, 0.018637039, 0.012159824, 0.011592421, 0.017070305, 0.013509506, 0.011774788, 0.0128238015, 0.01213884, 0.014093939, 0.012900505, 0.012642677, 0.013312928, 0.01328128, 0.012255038, 0.012195089, 0.017932605, 0.014404791, 0.016760947, 0.01156052, 0.013400804, 0.011804899, 0.015662048, 0.011100783, 0.011260134, 0.014017211, 0.01318625, 0.010579707, 0.01513501, 0.011575072, 0.012329693, 0.012149958, 0.013798311, 0.017495407, 0.016202522, 0.012349594, 0.012124862, 0.012385707, 0.011639798, 0.013973279, 0.0118157705, 0.015487474, 0.011701227, 0.014443987, 0.012783075, 0.017081156, 0.019413063, 0.011303784, 0.01149264, 0.013105979, 0.012735443, 0.013635086, 0.012997434, 0.013875394, 0.015768228, 0.013721167, 0.012711975, 0.015225697, 0.0125777405, 0.013301849, 0.012390637, 0.015380239, 0.011123392, 0.013006836, 0.011153484, 0.015660197, 0.020799477, 0.010450827, 0.07495133, 0.012087739, 0.012448065, 0.014966388, 0.011870781, 0.011270976, 0.0138882, 0.011181876, 0.014005722, 0.012830694, 0.013380495]\n",
      "2022-02-23 15:10:55,877 : INFO : merging changes from 1204 documents into a model of 3204 documents\n",
      "2022-02-23 15:10:55,884 : INFO : topic #88 (0.010): 0.160*\"grammar\" + 0.083*\",\" + 0.072*\"recognit\" + 0.053*\"recogn\" + 0.040*\"round\" + 0.039*\"gener\" + 0.035*\"left\" + 0.031*\"promis\" + 0.026*\"simpl\" + 0.025*\"decid\"\n",
      "2022-02-23 15:10:55,885 : INFO : topic #48 (0.011): 0.195*\"matrix\" + 0.149*\"invers\" + 0.077*\"frequenc\" + 0.040*\"coordin\" + 0.032*\"cost\" + 0.030*\",\" + 0.024*\"approach\" + 0.024*\"comput\" + 0.023*\"analysi\" + 0.023*\"30\"\n",
      "2022-02-23 15:10:55,885 : INFO : topic #67 (0.019): 0.309*\"[\" + 0.193*\"algorithm\" + 0.178*\"(\" + 0.147*\"])\" + 0.030*\"d1\" + 0.028*\"quadratur\" + 0.019*\"function\" + 0.018*\"s14\" + 0.015*\"gauss\" + 0.013*\"gaussian\"\n",
      "2022-02-23 15:10:55,886 : INFO : topic #87 (0.021): 0.280*\"data\" + 0.198*\"structur\" + 0.065*\"process\" + 0.058*\"inform\" + 0.044*\"system\" + 0.030*\",\" + 0.028*\"defin\" + 0.025*\"mechan\" + 0.022*\"larg\" + 0.021*\"implement\"\n",
      "2022-02-23 15:10:55,887 : INFO : topic #89 (0.075): 0.387*\"(\" + 0.355*\")\" + 0.179*\"algorithm\" + 0.017*\"integr\" + 0.010*\"-\" + 0.009*\"gener\" + 0.008*\"a1\" + 0.007*\"polynomi\" + 0.006*\"order\" + 0.004*\"normal\"\n",
      "2022-02-23 15:10:55,889 : INFO : topic diff=0.164450, rho=0.220316\n",
      "2022-02-23 15:10:55,898 : INFO : PROGRESS: pass 19, at document #2000/3204\n",
      "2022-02-23 15:10:56,641 : INFO : optimized alpha [0.013671422, 0.012954241, 0.010730951, 0.013595323, 0.012362498, 0.013572436, 0.013276613, 0.013769099, 0.014641956, 0.010764848, 0.011044994, 0.012757811, 0.01394704, 0.014279002, 0.011962144, 0.013298621, 0.012735752, 0.012237736, 0.012326647, 0.011448335, 0.012097896, 0.012499874, 0.018721059, 0.012192389, 0.011598401, 0.017204992, 0.013524455, 0.011781678, 0.0128233405, 0.012206029, 0.014180392, 0.013024013, 0.01264652, 0.013451171, 0.013325649, 0.01232214, 0.012318007, 0.018056944, 0.014447584, 0.016780114, 0.011569109, 0.013415104, 0.01180819, 0.015685089, 0.011115154, 0.01132351, 0.014213222, 0.013289836, 0.010640858, 0.015257951, 0.011643134, 0.012349177, 0.012153176, 0.0138594415, 0.017779235, 0.016317876, 0.012324621, 0.012183902, 0.012403807, 0.0116460575, 0.014113106, 0.011877551, 0.015499033, 0.011693971, 0.014626711, 0.01282126, 0.017254004, 0.01983312, 0.01132833, 0.011507537, 0.013197912, 0.012776739, 0.013645659, 0.013051567, 0.0138974, 0.015880423, 0.013711478, 0.012736232, 0.015327436, 0.012570409, 0.013389223, 0.012367294, 0.015562438, 0.0111460285, 0.013018613, 0.011189423, 0.01574205, 0.021014206, 0.010449866, 0.07742302, 0.012185618, 0.01245579, 0.015029935, 0.011884743, 0.011262487, 0.013976616, 0.011254101, 0.014036242, 0.0128758075, 0.013366588]\n",
      "2022-02-23 15:10:56,648 : INFO : merging changes from 2000 documents into a model of 3204 documents\n",
      "2022-02-23 15:10:56,654 : INFO : topic #88 (0.010): 0.154*\"grammar\" + 0.084*\",\" + 0.073*\"recognit\" + 0.052*\"recogn\" + 0.040*\"round\" + 0.037*\"gener\" + 0.032*\"left\" + 0.028*\"sentenc\" + 0.027*\"promis\" + 0.026*\"simpl\"\n",
      "2022-02-23 15:10:56,655 : INFO : topic #48 (0.011): 0.204*\"matrix\" + 0.164*\"invers\" + 0.068*\"frequenc\" + 0.037*\"coordin\" + 0.031*\",\" + 0.028*\"cost\" + 0.025*\"30\" + 0.024*\"analysi\" + 0.022*\"comput\" + 0.021*\"approach\"\n",
      "2022-02-23 15:10:56,657 : INFO : topic #67 (0.020): 0.291*\"[\" + 0.197*\"algorithm\" + 0.183*\"(\" + 0.169*\"])\" + 0.026*\"d1\" + 0.025*\"quadratur\" + 0.020*\"function\" + 0.018*\"s14\" + 0.014*\"gauss\" + 0.011*\"gaussian\"\n",
      "2022-02-23 15:10:56,658 : INFO : topic #87 (0.021): 0.282*\"data\" + 0.191*\"structur\" + 0.070*\"process\" + 0.059*\"inform\" + 0.044*\"system\" + 0.029*\",\" + 0.027*\"defin\" + 0.024*\"mechan\" + 0.022*\"larg\" + 0.020*\"implement\"\n",
      "2022-02-23 15:10:56,660 : INFO : topic #89 (0.077): 0.382*\"(\" + 0.351*\")\" + 0.185*\"algorithm\" + 0.018*\"integr\" + 0.009*\"-\" + 0.009*\"gener\" + 0.008*\"a1\" + 0.008*\"polynomi\" + 0.006*\"order\" + 0.005*\"s15\"\n",
      "2022-02-23 15:10:56,661 : INFO : topic diff=0.149955, rho=0.215156\n",
      "2022-02-23 15:10:57,504 : INFO : -6.431 per-word bound, 86.3 perplexity estimate based on a held-out corpus of 1204 documents with 49783 words\n",
      "2022-02-23 15:10:57,505 : INFO : PROGRESS: pass 19, at document #3204/3204\n",
      "2022-02-23 15:10:58,117 : INFO : optimized alpha [0.013807422, 0.013082466, 0.010820853, 0.013640727, 0.012443495, 0.013731755, 0.013476382, 0.013870445, 0.014824048, 0.010829044, 0.011055611, 0.01280835, 0.0140558295, 0.014434543, 0.012216006, 0.013435074, 0.012829946, 0.012354675, 0.012441217, 0.011533684, 0.012248169, 0.012608113, 0.019105416, 0.012369901, 0.01172443, 0.017468499, 0.013686277, 0.01188262, 0.012983011, 0.012351543, 0.01435033, 0.013132823, 0.012812602, 0.013547234, 0.01347708, 0.012402134, 0.012500395, 0.018337503, 0.014689635, 0.017068611, 0.011652258, 0.013598924, 0.011913732, 0.015931409, 0.011187756, 0.011341975, 0.014535071, 0.013385775, 0.010696129, 0.015528873, 0.011708769, 0.01244396, 0.012293586, 0.013987059, 0.017859634, 0.016564103, 0.012433164, 0.012252634, 0.012510097, 0.01173053, 0.014203037, 0.011992092, 0.01576293, 0.011816025, 0.014696689, 0.012930338, 0.01770793, 0.019963546, 0.011397299, 0.011592585, 0.013286445, 0.012885209, 0.0137737105, 0.013161632, 0.014080193, 0.016105087, 0.013892437, 0.012825745, 0.015533649, 0.012757838, 0.013466957, 0.012486513, 0.015790291, 0.011200074, 0.013156448, 0.01126216, 0.016038941, 0.021451646, 0.010490881, 0.079192564, 0.0122431, 0.012579609, 0.015232582, 0.01199066, 0.011333549, 0.014156034, 0.011288017, 0.014195507, 0.012988848, 0.013550261]\n",
      "2022-02-23 15:10:58,126 : INFO : merging changes from 1204 documents into a model of 3204 documents\n",
      "2022-02-23 15:10:58,136 : INFO : topic #88 (0.010): 0.161*\"grammar\" + 0.084*\",\" + 0.073*\"recognit\" + 0.053*\"recogn\" + 0.040*\"round\" + 0.040*\"gener\" + 0.035*\"left\" + 0.031*\"promis\" + 0.026*\"simpl\" + 0.025*\"decid\"\n",
      "2022-02-23 15:10:58,136 : INFO : topic #48 (0.011): 0.205*\"matrix\" + 0.147*\"invers\" + 0.077*\"frequenc\" + 0.040*\"coordin\" + 0.032*\"cost\" + 0.029*\",\" + 0.024*\"comput\" + 0.023*\"30\" + 0.023*\"approach\" + 0.021*\"analysi\"\n",
      "2022-02-23 15:10:58,137 : INFO : topic #67 (0.020): 0.310*\"[\" + 0.195*\"algorithm\" + 0.178*\"(\" + 0.147*\"])\" + 0.030*\"d1\" + 0.027*\"quadratur\" + 0.019*\"function\" + 0.018*\"s14\" + 0.015*\"gauss\" + 0.013*\"gaussian\"\n",
      "2022-02-23 15:10:58,138 : INFO : topic #87 (0.021): 0.285*\"data\" + 0.203*\"structur\" + 0.066*\"process\" + 0.056*\"inform\" + 0.042*\"system\" + 0.029*\",\" + 0.028*\"defin\" + 0.023*\"mechan\" + 0.022*\"larg\" + 0.020*\"implement\"\n",
      "2022-02-23 15:10:58,139 : INFO : topic #89 (0.079): 0.388*\"(\" + 0.355*\")\" + 0.179*\"algorithm\" + 0.017*\"integr\" + 0.010*\"-\" + 0.009*\"gener\" + 0.008*\"a1\" + 0.007*\"polynomi\" + 0.005*\"order\" + 0.004*\"normal\"\n",
      "2022-02-23 15:10:58,140 : INFO : topic diff=0.154170, rho=0.215156\n"
     ]
    },
    {
     "data": {
      "text/plain": [
       "[(0, 0.0057186694),\n",
       " (1, 0.005418412),\n",
       " (2, 0.0044817114),\n",
       " (3, 0.0056496286),\n",
       " (4, 0.005153767),\n",
       " (5, 0.0056873304),\n",
       " (6, 0.0055815615),\n",
       " (7, 0.41991594),\n",
       " (8, 0.006139729),\n",
       " (9, 0.004485104),\n",
       " (10, 0.004578942),\n",
       " (11, 0.00530488),\n",
       " (12, 0.005821553),\n",
       " (13, 0.0059784064),\n",
       " (14, 0.0050595473),\n",
       " (15, 0.0055644526),\n",
       " (16, 0.005313825),\n",
       " (17, 0.00511698),\n",
       " (18, 0.0051528234),\n",
       " (19, 0.004776947),\n",
       " (20, 0.005072868),\n",
       " (21, 0.005221947),\n",
       " (22, 0.007912959),\n",
       " (23, 0.005123286),\n",
       " (24, 0.0048559494),\n",
       " (25, 0.007234991),\n",
       " (26, 0.0056684944),\n",
       " (27, 0.0049214675),\n",
       " (28, 0.0053772205),\n",
       " (29, 0.0051156827),\n",
       " (30, 0.005943528),\n",
       " (31, 0.0054392684),\n",
       " (32, 0.0053066416),\n",
       " (33, 0.0056109065),\n",
       " (34, 0.00558185),\n",
       " (35, 0.005136636),\n",
       " (36, 0.0051773335),\n",
       " (37, 0.0075949095),\n",
       " (38, 0.0060840584),\n",
       " (39, 0.007069368),\n",
       " (40, 0.0048260577),\n",
       " (41, 0.005632315),\n",
       " (42, 0.004934353),\n",
       " (43, 0.0065983688),\n",
       " (44, 0.004633673),\n",
       " (45, 0.0046975464),\n",
       " (46, 0.0060200426),\n",
       " (47, 0.0055440343),\n",
       " (48, 0.004430054),\n",
       " (49, 0.006431649),\n",
       " (50, 0.004849463),\n",
       " (51, 0.0051539596),\n",
       " (52, 0.0050916784),\n",
       " (53, 0.0057930704),\n",
       " (54, 0.0073969886),\n",
       " (55, 0.006860414),\n",
       " (56, 0.005149488),\n",
       " (57, 0.0050747176),\n",
       " (58, 0.0051813517),\n",
       " (59, 0.0048584756),\n",
       " (60, 0.005882523),\n",
       " (61, 0.004966808),\n",
       " (62, 0.0065285894),\n",
       " (63, 0.0048938855),\n",
       " (64, 0.0060869805),\n",
       " (65, 0.0053554047),\n",
       " (66, 0.0073341574),\n",
       " (67, 0.008268373),\n",
       " (68, 0.00472046),\n",
       " (69, 0.0048013423),\n",
       " (70, 0.0055028945),\n",
       " (71, 0.005336713),\n",
       " (72, 0.005704707),\n",
       " (73, 0.0054512005),\n",
       " (74, 0.005831644),\n",
       " (75, 0.006670302),\n",
       " (76, 0.0057538804),\n",
       " (77, 0.0053120847),\n",
       " (78, 0.006433627),\n",
       " (79, 0.005283959),\n",
       " (80, 0.005577658),\n",
       " (81, 0.005171584),\n",
       " (82, 0.0065399213),\n",
       " (83, 0.004638775),\n",
       " (84, 0.005449053),\n",
       " (85, 0.004664489),\n",
       " (86, 0.006642906),\n",
       " (87, 0.008884706),\n",
       " (88, 0.004345046),\n",
       " (89, 0.032799467),\n",
       " (90, 0.0050707688),\n",
       " (91, 0.0052101417),\n",
       " (92, 0.006308933),\n",
       " (93, 0.0049662148),\n",
       " (94, 0.0046940567),\n",
       " (95, 0.0058630556),\n",
       " (96, 0.0046751983),\n",
       " (97, 0.005879404),\n",
       " (98, 0.0053796377),\n",
       " (99, 0.00561216)]"
      ]
     },
     "execution_count": 85,
     "metadata": {},
     "output_type": "execute_result"
    }
   ],
   "source": [
    "##### Function check\n",
    "lda = LdaRetrievalModel(doc_repr_2)\n",
    "lda.train_model()\n",
    "\n",
    "# you can now get an LDA vector for a given query in the following way:\n",
    "lda.vectorize_query(\"report\")\n",
    "#####"
   ]
  },
  {
   "cell_type": "markdown",
   "metadata": {
    "cell_id": "00137-b82100c4-8bc6-4c0b-a37d-3f8eed7a4106",
    "deepnote_cell_height": 52.390625,
    "deepnote_cell_type": "markdown",
    "deletable": false,
    "editable": false,
    "nbgrader": {
     "cell_type": "markdown",
     "checksum": "32d83b6ea79ca3ddb789a7f8805a1b25",
     "grade": false,
     "grade_id": "cell-0e24b727d5908c0e",
     "locked": true,
     "points": 5,
     "schema_version": 3,
     "solution": false,
     "task": true
    }
   },
   "source": [
    "\\#### Please do not change this. This cell is used for grading."
   ]
  },
  {
   "cell_type": "markdown",
   "metadata": {
    "cell_id": "00138-9da9ac44-4973-497c-ae61-6ae44d57702c",
    "deepnote_cell_height": 98.1875,
    "deepnote_cell_type": "markdown",
    "deletable": false,
    "editable": false,
    "nbgrader": {
     "cell_type": "markdown",
     "checksum": "114a934f0b9ce696e6cf09d3b8da6a3d",
     "grade": false,
     "grade_id": "cell-b1bffcb970b18aeb",
     "locked": true,
     "schema_version": 3,
     "solution": false,
     "task": false
    }
   },
   "source": [
    "---\n",
    "Now we can use the `DenseRetrievalModel` class to obtain an LDA search function.\n",
    "You can test your LDA model in the following cell: Try finding queries which are lexically different to documents, but semantically similar - does LDA work well for these queries?!"
   ]
  },
  {
   "cell_type": "code",
   "execution_count": 86,
   "metadata": {
    "cell_id": "00139-74e10836-ea8e-40f0-99d4-f5422f0f88e6",
    "deepnote_cell_height": 303,
    "deepnote_cell_type": "code",
    "deepnote_to_be_reexecuted": false,
    "execution_millis": 4419,
    "execution_start": 1645186665847,
    "source_hash": "76222337"
   },
   "outputs": [
    {
     "data": {
      "application/vnd.jupyter.widget-view+json": {
       "model_id": "2dca6e9ada254838b2179362ebec8463",
       "version_major": 2,
       "version_minor": 0
      },
      "text/plain": [
       "Text(value='', description='Search Bar')"
      ]
     },
     "metadata": {},
     "output_type": "display_data"
    }
   ],
   "source": [
    "drm_lda = DenseRetrievalRanker(lda, jenson_shannon_sim)\n",
    "\n",
    "# test your LDA model\n",
    "search_fn = drm_lda.search\n",
    "\n",
    "text = widgets.Text(description=\"Search Bar\", width=200)\n",
    "display(text)\n",
    "\n",
    "\n",
    "text.on_submit(handle_submit_2)"
   ]
  },
  {
   "cell_type": "markdown",
   "metadata": {
    "cell_id": "00140-3dcd44fb-190f-4b30-a761-4fbdb85b38fe",
    "deepnote_cell_height": 405.375,
    "deepnote_cell_type": "markdown",
    "deletable": false,
    "editable": false,
    "nbgrader": {
     "cell_type": "markdown",
     "checksum": "9d7f15863b655119b45f4d89354e5661",
     "grade": false,
     "grade_id": "cell-190cd0854b2791cc",
     "locked": true,
     "schema_version": 3,
     "solution": false,
     "task": false
    }
   },
   "source": [
    "## Section 8: Word2Vec/Doc2Vec (20 points) <a class=\"anchor\" id=\"2vec\"></a>\n",
    "\n",
    "[Back to Part 2](#part2)\n",
    "\n",
    "We will implement two other methods here, the Word2Vec model and the Doc2Vec model, also using `gensim`. Word2Vec creates representations of words, not documents, so the word level vectors need to be aggregated to obtain a representation for the document. Here, we will simply take the mean of the vectors.\n",
    "\n",
    "\n",
    "A drawback of these models is that they need a lot of training data. Our dataset is tiny, so in addition to using a model trained on the data, we will also use a pre-trained model for Word2Vec (this will be automatically downloaded).\n",
    "\n",
    "*Note*:\n",
    "1. The code in vectorize_documents / vectorize_query should return gensim-like vectors i.e `[(dim, val), .. (dim, val)]`.\n",
    "2. For Word2Vec: You should also handle the following two cases: (a) A word in the query is not present in the vocabulary of the model and (b) none of the words in the query are present in the model - you can return 0 scores for all documents in this case. For either of these, you can check if a `word` is present in the vocab by using `word in self.model`\n"
   ]
  },
  {
   "cell_type": "code",
   "execution_count": 87,
   "metadata": {
    "cell_id": "00141-4813dd67-6ab9-4a66-909c-c9ffb52e292c",
    "collapsed": true,
    "deepnote_cell_height": 1767.796875,
    "deepnote_cell_type": "code",
    "deepnote_output_heights": [
     null,
     611
    ],
    "deepnote_to_be_reexecuted": false,
    "deletable": false,
    "execution_millis": 5958,
    "execution_start": 1645186670275,
    "is_output_hidden": true,
    "jupyter": {
     "outputs_hidden": true
    },
    "nbgrader": {
     "cell_type": "code",
     "checksum": "83ab733608ed14c29c09b36b4e1b6daa",
     "grade": false,
     "grade_id": "cell-2b73759f9baf688f",
     "locked": false,
     "schema_version": 3,
     "solution": true,
     "task": false
    },
    "source_hash": "69fb62df",
    "tags": []
   },
   "outputs": [
    {
     "name": "stderr",
     "output_type": "stream",
     "text": [
      "2022-02-23 15:11:00,213 : INFO : adding document #0 to Dictionary(0 unique tokens: [])\n",
      "2022-02-23 15:11:00,353 : INFO : built Dictionary(5937 unique tokens: ['-', 'algebra', 'intern', 'languag', 'preliminari']...) from 3204 documents (total 115969 corpus positions)\n",
      "2022-02-23 15:11:00,361 : INFO : discarding 4740 tokens: [('repeat', 8), ('glossari', 7), ('inspect', 8), ('uncol', 2), ('rung', 9), ('secant', 2), ('.', 1603), ('acceler', 6), ('diverg', 3), ('induc', 9)]...\n",
      "2022-02-23 15:11:00,361 : INFO : keeping 1197 tokens which were in no less than 10 and no more than 1602 (=50.0%) documents\n",
      "2022-02-23 15:11:00,365 : INFO : resulting dictionary: Dictionary(1197 unique tokens: ['-', 'algebra', 'intern', 'languag', 'preliminari']...)\n",
      "2022-02-23 15:11:00,437 : INFO : collecting all words and their counts\n",
      "2022-02-23 15:11:00,437 : INFO : PROGRESS: at sentence #0, processed 0 words, keeping 0 word types\n",
      "2022-02-23 15:11:00,465 : INFO : collected 5937 word types from a corpus of 115969 raw words and 3204 sentences\n",
      "2022-02-23 15:11:00,466 : INFO : Loading a fresh vocabulary\n",
      "2022-02-23 15:11:00,476 : INFO : effective_min_count=1 retains 5937 unique words (100% of original 5937, drops 0)\n",
      "2022-02-23 15:11:00,477 : INFO : effective_min_count=1 leaves 115969 word corpus (100% of original 115969, drops 0)\n",
      "2022-02-23 15:11:00,494 : INFO : deleting the raw counts dictionary of 5937 items\n",
      "2022-02-23 15:11:00,495 : INFO : sample=0.001 downsamples 40 most-common words\n",
      "2022-02-23 15:11:00,496 : INFO : downsampling leaves estimated 92346 word corpus (79.6% of prior 115969)\n",
      "2022-02-23 15:11:00,508 : INFO : estimated required memory for 5937 words and 100 dimensions: 7718100 bytes\n",
      "2022-02-23 15:11:00,509 : INFO : resetting layer weights\n",
      "2022-02-23 15:11:01,599 : INFO : training model with 3 workers on 5937 vocabulary and 100 features, using sg=0 hs=0 sample=0.001 negative=5 window=5\n",
      "2022-02-23 15:11:01,664 : INFO : worker thread finished; awaiting finish of 2 more threads\n",
      "2022-02-23 15:11:01,668 : INFO : worker thread finished; awaiting finish of 1 more threads\n",
      "2022-02-23 15:11:01,671 : INFO : worker thread finished; awaiting finish of 0 more threads\n",
      "2022-02-23 15:11:01,672 : INFO : EPOCH - 1 : training on 115969 raw words (92322 effective words) took 0.1s, 1374317 effective words/s\n",
      "2022-02-23 15:11:01,751 : INFO : worker thread finished; awaiting finish of 2 more threads\n",
      "2022-02-23 15:11:01,757 : INFO : worker thread finished; awaiting finish of 1 more threads\n",
      "2022-02-23 15:11:01,758 : INFO : worker thread finished; awaiting finish of 0 more threads\n",
      "2022-02-23 15:11:01,758 : INFO : EPOCH - 2 : training on 115969 raw words (92274 effective words) took 0.1s, 1196884 effective words/s\n",
      "2022-02-23 15:11:01,832 : INFO : worker thread finished; awaiting finish of 2 more threads\n",
      "2022-02-23 15:11:01,837 : INFO : worker thread finished; awaiting finish of 1 more threads\n",
      "2022-02-23 15:11:01,840 : INFO : worker thread finished; awaiting finish of 0 more threads\n",
      "2022-02-23 15:11:01,841 : INFO : EPOCH - 3 : training on 115969 raw words (92482 effective words) took 0.1s, 1204590 effective words/s\n",
      "2022-02-23 15:11:01,908 : INFO : worker thread finished; awaiting finish of 2 more threads\n",
      "2022-02-23 15:11:01,911 : INFO : worker thread finished; awaiting finish of 1 more threads\n",
      "2022-02-23 15:11:01,912 : INFO : worker thread finished; awaiting finish of 0 more threads\n",
      "2022-02-23 15:11:01,913 : INFO : EPOCH - 4 : training on 115969 raw words (92202 effective words) took 0.1s, 1406689 effective words/s\n",
      "2022-02-23 15:11:01,981 : INFO : worker thread finished; awaiting finish of 2 more threads\n",
      "2022-02-23 15:11:01,985 : INFO : worker thread finished; awaiting finish of 1 more threads\n",
      "2022-02-23 15:11:01,987 : INFO : worker thread finished; awaiting finish of 0 more threads\n",
      "2022-02-23 15:11:01,987 : INFO : EPOCH - 5 : training on 115969 raw words (92309 effective words) took 0.1s, 1308919 effective words/s\n",
      "2022-02-23 15:11:01,988 : INFO : training on a 579845 raw words (461589 effective words) took 0.4s, 1188633 effective words/s\n"
     ]
    },
    {
     "data": {
      "text/plain": [
       "[(0, -0.5991092324256897),\n",
       " (1, 0.2160971462726593),\n",
       " (2, -0.751953125),\n",
       " (3, -0.5908454656600952),\n",
       " (4, 0.0471922792494297),\n",
       " (5, -0.3060314655303955),\n",
       " (6, -0.3524581491947174),\n",
       " (7, -0.5310883522033691),\n",
       " (8, 0.5040891170501709),\n",
       " (9, -0.560119092464447),\n",
       " (10, -0.9040151834487915),\n",
       " (11, 0.15800297260284424),\n",
       " (12, -0.14564161002635956),\n",
       " (13, 0.013481934554874897),\n",
       " (14, -0.18267245590686798),\n",
       " (15, 0.5102953314781189),\n",
       " (16, -0.06351596862077713),\n",
       " (17, -1.0539885759353638),\n",
       " (18, -0.03580619394779205),\n",
       " (19, -0.35211944580078125),\n",
       " (20, 0.49609771370887756),\n",
       " (21, -0.40891194343566895),\n",
       " (22, 0.079452283680439),\n",
       " (23, 0.21213923394680023),\n",
       " (24, -0.0318533256649971),\n",
       " (25, -0.18886108696460724),\n",
       " (26, 0.46783095598220825),\n",
       " (27, -0.15145303308963776),\n",
       " (28, -0.7753804922103882),\n",
       " (29, -0.2814105451107025),\n",
       " (30, 0.6185290813446045),\n",
       " (31, 0.19470953941345215),\n",
       " (32, 0.24762845039367676),\n",
       " (33, -0.04548273980617523),\n",
       " (34, -0.20297867059707642),\n",
       " (35, -0.20222444832324982),\n",
       " (36, -0.6455441117286682),\n",
       " (37, -0.11929473280906677),\n",
       " (38, 0.12049087882041931),\n",
       " (39, -0.2514425218105316),\n",
       " (40, -0.17645639181137085),\n",
       " (41, -0.4833211302757263),\n",
       " (42, -0.4911941885948181),\n",
       " (43, -0.48571401834487915),\n",
       " (44, 0.7487127780914307),\n",
       " (45, 0.4073481857776642),\n",
       " (46, 0.5290818810462952),\n",
       " (47, 0.14975857734680176),\n",
       " (48, -0.07666127383708954),\n",
       " (49, -0.1623057723045349),\n",
       " (50, 0.10688377916812897),\n",
       " (51, 0.5203681588172913),\n",
       " (52, 0.5420765280723572),\n",
       " (53, 0.6371837258338928),\n",
       " (54, 0.1470845490694046),\n",
       " (55, 0.5661634206771851),\n",
       " (56, 0.28102049231529236),\n",
       " (57, -0.30296969413757324),\n",
       " (58, 0.12911716103553772),\n",
       " (59, 0.30905911326408386),\n",
       " (60, 0.7465391159057617),\n",
       " (61, -0.42223063111305237),\n",
       " (62, 0.7837805151939392),\n",
       " (63, -0.10915155708789825),\n",
       " (64, -0.4643004238605499),\n",
       " (65, 0.5763350129127502),\n",
       " (66, -0.19067561626434326),\n",
       " (67, 0.5813156366348267),\n",
       " (68, -0.13299429416656494),\n",
       " (69, -0.19266465306282043),\n",
       " (70, 0.26699408888816833),\n",
       " (71, 0.03224680572748184),\n",
       " (72, -0.04271653667092323),\n",
       " (73, -0.2773977220058441),\n",
       " (74, 0.26097428798675537),\n",
       " (75, -0.7829496264457703),\n",
       " (76, 0.477616548538208),\n",
       " (77, 0.16215559840202332),\n",
       " (78, 0.06939012557268143),\n",
       " (79, 0.6608070135116577),\n",
       " (80, -0.3137986361980438),\n",
       " (81, -0.13942264020442963),\n",
       " (82, 0.3966822922229767),\n",
       " (83, -0.11136317998170853),\n",
       " (84, -0.32488664984703064),\n",
       " (85, 0.0640653595328331),\n",
       " (86, 0.1523415595293045),\n",
       " (87, 0.0720304623246193),\n",
       " (88, -0.8261528611183167),\n",
       " (89, 0.9043337106704712),\n",
       " (90, -0.06342410296201706),\n",
       " (91, 0.17643232643604279),\n",
       " (92, -0.5188251733779907),\n",
       " (93, -0.2769090533256531),\n",
       " (94, 0.5424783229827881),\n",
       " (95, -0.3515825867652893),\n",
       " (96, -0.06902120262384415),\n",
       " (97, -0.13005943596363068),\n",
       " (98, 1.0462254285812378),\n",
       " (99, -0.37395715713500977)]"
      ]
     },
     "execution_count": 87,
     "metadata": {},
     "output_type": "execute_result"
    }
   ],
   "source": [
    "# TODO: Implement this! (10 points)\n",
    "class W2VRetrievalModel(VectorSpaceRetrievalModel):\n",
    "    def __init__(self, doc_repr):\n",
    "        super().__init__(doc_repr)\n",
    "\n",
    "        # the dimensionality of the vectors\n",
    "        self.size = 100\n",
    "        self.min_count = 1\n",
    "\n",
    "    def train_model(self):\n",
    "        \"\"\"\n",
    "        Trains the W2V model\n",
    "        \"\"\"\n",
    "        # YOUR CODE HERE\n",
    "        self.model = Word2Vec(\n",
    "            sentences=self.documents, size=self.size, min_count=self.min_count\n",
    "        )\n",
    "\n",
    "    def vectorize_documents(self):\n",
    "        \"\"\"\n",
    "        Returns a doc_id -> vector dictionary\n",
    "        \"\"\"\n",
    "        # YOUR CODE HERE\n",
    "        vectors = {}\n",
    "        for (doc_id, doc) in self.doc_repr:\n",
    "            # initializations for this document\n",
    "            doc_vector = np.zeros(self.size)\n",
    "            n_words = 0\n",
    "            for word in doc:\n",
    "                n_words += 1\n",
    "                # check that current word in doc in our model (needed for pretrained)\n",
    "                try:\n",
    "                    doc_vector += self.model.wv[word]\n",
    "                except KeyError:\n",
    "                    # don't count this word\n",
    "                    n_words -= 1\n",
    "                    continue\n",
    "            if n_words > 0:\n",
    "                # aggregate by taking the mean over the found words\n",
    "                doc_vector = doc_vector / n_words\n",
    "            # convert to weird gensim format that is desired\n",
    "            doc_vector = [(i, el) for i, el in enumerate(doc_vector)]\n",
    "            # and save to our dictionary\n",
    "            vectors[doc_id] = doc_vector\n",
    "\n",
    "        return vectors\n",
    "\n",
    "    def vectorize_query(self, query):\n",
    "        \"\"\"\n",
    "        Vectorizes the query using the W2V model\n",
    "        \"\"\"\n",
    "        # YOUR CODE HERE\n",
    "        query = process_text(query, **config_2)\n",
    "        # initialize query vector\n",
    "        query_vec = np.zeros(self.size)\n",
    "        # handle valid queries (i.e. processing hasn't made it empty)\n",
    "        if len(query) > 0:\n",
    "            n_words = 0\n",
    "            for word in query:\n",
    "                n_words += 1\n",
    "                # check that current word in query in our vocab\n",
    "                try:\n",
    "                    query_vec += self.model.wv[word]\n",
    "                except KeyError:\n",
    "                    # don't count this word\n",
    "                    n_words -= 1\n",
    "                    continue\n",
    "            if n_words > 0:\n",
    "                # aggregate by taking the mean over the found words\n",
    "                query_vec = query_vec / n_words\n",
    "        # convert to weird gensim format that is desired\n",
    "        query_vec = [(i, el) for i, el in enumerate(query_vec)]\n",
    "        return query_vec\n",
    "\n",
    "\n",
    "class W2VPretrainedRetrievalModel(W2VRetrievalModel):\n",
    "    def __init__(self, doc_repr):\n",
    "        super().__init__(doc_repr)\n",
    "        self.model_name = \"word2vec-google-news-300\"\n",
    "        self.size = 300\n",
    "\n",
    "    def train_model(self):\n",
    "        \"\"\"\n",
    "        Loads the pretrained model\n",
    "        \"\"\"\n",
    "        self.model = g_downloader.load(self.model_name)\n",
    "\n",
    "\n",
    "w2v = W2VRetrievalModel(doc_repr_2)\n",
    "w2v.train_model()\n",
    "\n",
    "# you can now get a W2V vector for a given query in the following way:\n",
    "w2v.vectorize_query(\"report\")"
   ]
  },
  {
   "cell_type": "code",
   "execution_count": 88,
   "metadata": {
    "cell_id": "00142-4fd5a03c-b76f-4fd4-b70f-2670bd4416e5",
    "deepnote_cell_height": 117,
    "deepnote_cell_type": "code",
    "deepnote_to_be_reexecuted": false,
    "deletable": false,
    "editable": false,
    "execution_millis": 11300785,
    "execution_start": 1645186676074,
    "lines_to_next_cell": 2,
    "nbgrader": {
     "cell_type": "code",
     "checksum": "f92b5c5a8c6c4b80652b94223209ab0b",
     "grade": true,
     "grade_id": "cell-b31c0f8d214b8bdf",
     "locked": true,
     "points": 0,
     "schema_version": 3,
     "solution": false,
     "task": false
    },
    "source_hash": "3f3d7257"
   },
   "outputs": [],
   "source": [
    "assert len(w2v.vectorize_query(\"report\")) == 100\n",
    "assert len(w2v.vectorize_query(\"this is a sentence that is not mellifluous\")) == 100"
   ]
  },
  {
   "cell_type": "markdown",
   "metadata": {
    "cell_id": "00143-dca6cd62-6d5c-4c14-8cc4-7299f1f8390e",
    "deepnote_cell_height": 52.390625,
    "deepnote_cell_type": "markdown",
    "deletable": false,
    "editable": false,
    "nbgrader": {
     "cell_type": "markdown",
     "checksum": "8dfaabebcb06f308a7ca61fdc5d369e7",
     "grade": false,
     "grade_id": "cell-c2614fa067386384",
     "locked": true,
     "points": 8,
     "schema_version": 3,
     "solution": false,
     "task": true
    }
   },
   "source": [
    "\\#### Please do not change this. This cell is used for grading."
   ]
  },
  {
   "cell_type": "code",
   "execution_count": 89,
   "metadata": {
    "cell_id": "00144-7801f559-0e0a-405d-84bf-a02dd1269f5a",
    "collapsed": true,
    "deepnote_cell_height": 304.9375,
    "deepnote_cell_type": "code",
    "deepnote_output_heights": [
     null,
     40.375
    ],
    "deepnote_to_be_reexecuted": false,
    "execution_millis": 611,
    "execution_start": 1645186676087,
    "jupyter": {
     "outputs_hidden": true
    },
    "source_hash": "8ab4bf3a",
    "tags": []
   },
   "outputs": [
    {
     "name": "stderr",
     "output_type": "stream",
     "text": [
      "2022-02-23 15:11:02,006 : INFO : adding document #0 to Dictionary(0 unique tokens: [])\n",
      "2022-02-23 15:11:02,147 : INFO : built Dictionary(5937 unique tokens: ['-', 'algebra', 'intern', 'languag', 'preliminari']...) from 3204 documents (total 115969 corpus positions)\n",
      "2022-02-23 15:11:02,154 : INFO : discarding 4740 tokens: [('repeat', 8), ('glossari', 7), ('inspect', 8), ('uncol', 2), ('rung', 9), ('secant', 2), ('.', 1603), ('acceler', 6), ('diverg', 3), ('induc', 9)]...\n",
      "2022-02-23 15:11:02,155 : INFO : keeping 1197 tokens which were in no less than 10 and no more than 1602 (=50.0%) documents\n",
      "2022-02-23 15:11:02,160 : INFO : resulting dictionary: Dictionary(1197 unique tokens: ['-', 'algebra', 'intern', 'languag', 'preliminari']...)\n",
      "2022-02-23 15:11:02,520 : INFO : loading projection weights from /Users/thesofakillers/gensim-data/word2vec-google-news-300/word2vec-google-news-300.gz\n",
      "2022-02-23 15:11:47,923 : INFO : loaded (3000000, 300) matrix from /Users/thesofakillers/gensim-data/word2vec-google-news-300/word2vec-google-news-300.gz\n",
      "/Users/thesofakillers/miniconda3/envs/ir1/lib/python3.6/site-packages/ipykernel_launcher.py:63: DeprecationWarning: Call to deprecated `wv` (Attribute will be removed in 4.0.0, use self instead).\n"
     ]
    },
    {
     "data": {
      "text/plain": [
       "[(0, -0.142578125),\n",
       " (1, -0.1640625),\n",
       " (2, -0.09033203125),\n",
       " (3, -0.1123046875),\n",
       " (4, 0.10009765625),\n",
       " (5, -0.041259765625),\n",
       " (6, 0.048828125),\n",
       " (7, -0.13671875),\n",
       " (8, 0.1962890625),\n",
       " (9, -0.134765625),\n",
       " (10, -0.017578125),\n",
       " (11, 0.0322265625),\n",
       " (12, 0.09521484375),\n",
       " (13, -0.10595703125),\n",
       " (14, -0.169921875),\n",
       " (15, 0.041015625),\n",
       " (16, -0.263671875),\n",
       " (17, -0.006317138671875),\n",
       " (18, -0.177734375),\n",
       " (19, -0.240234375),\n",
       " (20, 0.3515625),\n",
       " (21, -0.01220703125),\n",
       " (22, -0.162109375),\n",
       " (23, -0.12060546875),\n",
       " (24, 0.043212890625),\n",
       " (25, 0.10986328125),\n",
       " (26, 0.052490234375),\n",
       " (27, 0.1787109375),\n",
       " (28, -0.1455078125),\n",
       " (29, 0.1376953125),\n",
       " (30, -0.08203125),\n",
       " (31, -0.283203125),\n",
       " (32, -0.10888671875),\n",
       " (33, -0.2890625),\n",
       " (34, 0.072265625),\n",
       " (35, -0.04736328125),\n",
       " (36, 0.040283203125),\n",
       " (37, 0.06787109375),\n",
       " (38, 0.11669921875),\n",
       " (39, 0.00083160400390625),\n",
       " (40, 0.068359375),\n",
       " (41, 0.1201171875),\n",
       " (42, -0.08837890625),\n",
       " (43, 0.337890625),\n",
       " (44, -0.044677734375),\n",
       " (45, -0.0301513671875),\n",
       " (46, 0.0076904296875),\n",
       " (47, -0.0211181640625),\n",
       " (48, -0.25390625),\n",
       " (49, 0.1494140625),\n",
       " (50, 0.3984375),\n",
       " (51, 0.0216064453125),\n",
       " (52, -0.023193359375),\n",
       " (53, 0.00634765625),\n",
       " (54, 0.00823974609375),\n",
       " (55, -0.1689453125),\n",
       " (56, 0.037353515625),\n",
       " (57, -0.0634765625),\n",
       " (58, 0.1171875),\n",
       " (59, -0.1484375),\n",
       " (60, -0.07861328125),\n",
       " (61, 0.369140625),\n",
       " (62, -0.224609375),\n",
       " (63, 0.173828125),\n",
       " (64, 0.01385498046875),\n",
       " (65, 0.1875),\n",
       " (66, -0.10107421875),\n",
       " (67, 0.037841796875),\n",
       " (68, 0.0021209716796875),\n",
       " (69, -0.05126953125),\n",
       " (70, 0.09619140625),\n",
       " (71, -0.05712890625),\n",
       " (72, 0.10595703125),\n",
       " (73, -0.02099609375),\n",
       " (74, 0.1611328125),\n",
       " (75, 0.09765625),\n",
       " (76, 0.038330078125),\n",
       " (77, 0.2197265625),\n",
       " (78, 0.1064453125),\n",
       " (79, 0.0859375),\n",
       " (80, 0.1796875),\n",
       " (81, -0.0830078125),\n",
       " (82, -0.033203125),\n",
       " (83, 0.041015625),\n",
       " (84, -0.06494140625),\n",
       " (85, 0.0198974609375),\n",
       " (86, 0.1337890625),\n",
       " (87, -0.09765625),\n",
       " (88, -0.193359375),\n",
       " (89, -0.2353515625),\n",
       " (90, 0.1904296875),\n",
       " (91, 0.0024871826171875),\n",
       " (92, -0.0157470703125),\n",
       " (93, 0.0322265625),\n",
       " (94, -0.2197265625),\n",
       " (95, -0.09130859375),\n",
       " (96, 0.021240234375),\n",
       " (97, 0.158203125),\n",
       " (98, 0.298828125),\n",
       " (99, -0.328125),\n",
       " (100, 0.057373046875),\n",
       " (101, -0.04638671875),\n",
       " (102, 0.11328125),\n",
       " (103, -0.1015625),\n",
       " (104, 0.1806640625),\n",
       " (105, -0.025146484375),\n",
       " (106, -0.166015625),\n",
       " (107, -0.09619140625),\n",
       " (108, 0.018798828125),\n",
       " (109, -0.1943359375),\n",
       " (110, 0.1494140625),\n",
       " (111, -0.056640625),\n",
       " (112, -0.10693359375),\n",
       " (113, -0.150390625),\n",
       " (114, -0.17578125),\n",
       " (115, 0.11279296875),\n",
       " (116, 0.04931640625),\n",
       " (117, 0.2197265625),\n",
       " (118, 0.318359375),\n",
       " (119, 0.1572265625),\n",
       " (120, -0.29296875),\n",
       " (121, 0.10498046875),\n",
       " (122, -0.296875),\n",
       " (123, -0.013427734375),\n",
       " (124, 0.0908203125),\n",
       " (125, 0.0125732421875),\n",
       " (126, -0.051513671875),\n",
       " (127, -0.12890625),\n",
       " (128, 0.01446533203125),\n",
       " (129, 0.12060546875),\n",
       " (130, -0.10107421875),\n",
       " (131, -0.111328125),\n",
       " (132, 0.06396484375),\n",
       " (133, -0.052978515625),\n",
       " (134, -0.043212890625),\n",
       " (135, -0.012939453125),\n",
       " (136, -0.027587890625),\n",
       " (137, -0.09716796875),\n",
       " (138, -0.2021484375),\n",
       " (139, 0.123046875),\n",
       " (140, -0.04248046875),\n",
       " (141, 0.173828125),\n",
       " (142, -0.013671875),\n",
       " (143, 0.1015625),\n",
       " (144, -0.00093841552734375),\n",
       " (145, -0.03564453125),\n",
       " (146, 0.30078125),\n",
       " (147, -0.068359375),\n",
       " (148, -0.05615234375),\n",
       " (149, 0.03759765625),\n",
       " (150, 0.06591796875),\n",
       " (151, 0.040283203125),\n",
       " (152, 0.01190185546875),\n",
       " (153, 0.09619140625),\n",
       " (154, 0.3671875),\n",
       " (155, -0.279296875),\n",
       " (156, -0.052001953125),\n",
       " (157, -0.10693359375),\n",
       " (158, -0.134765625),\n",
       " (159, -0.046142578125),\n",
       " (160, 0.25),\n",
       " (161, 0.00567626953125),\n",
       " (162, -0.014404296875),\n",
       " (163, -0.031005859375),\n",
       " (164, -0.060302734375),\n",
       " (165, 0.10595703125),\n",
       " (166, 0.37890625),\n",
       " (167, 0.058837890625),\n",
       " (168, 0.123046875),\n",
       " (169, -0.115234375),\n",
       " (170, 0.1494140625),\n",
       " (171, -0.1640625),\n",
       " (172, -0.2333984375),\n",
       " (173, -0.07763671875),\n",
       " (174, 0.0267333984375),\n",
       " (175, -0.0211181640625),\n",
       " (176, 0.1943359375),\n",
       " (177, -0.05615234375),\n",
       " (178, -0.006439208984375),\n",
       " (179, -0.169921875),\n",
       " (180, -0.11865234375),\n",
       " (181, -0.0673828125),\n",
       " (182, -0.06884765625),\n",
       " (183, -0.0869140625),\n",
       " (184, -0.1015625),\n",
       " (185, 0.01416015625),\n",
       " (186, -0.201171875),\n",
       " (187, 0.09814453125),\n",
       " (188, -0.01025390625),\n",
       " (189, 0.1875),\n",
       " (190, 0.1962890625),\n",
       " (191, -0.220703125),\n",
       " (192, -0.1962890625),\n",
       " (193, -0.07373046875),\n",
       " (194, 0.06640625),\n",
       " (195, -0.1337890625),\n",
       " (196, 0.18359375),\n",
       " (197, -0.2001953125),\n",
       " (198, 0.1982421875),\n",
       " (199, 0.05029296875),\n",
       " (200, 0.0299072265625),\n",
       " (201, 0.0177001953125),\n",
       " (202, -0.193359375),\n",
       " (203, -0.09619140625),\n",
       " (204, -0.1025390625),\n",
       " (205, 0.212890625),\n",
       " (206, -0.0299072265625),\n",
       " (207, 0.1435546875),\n",
       " (208, 0.041015625),\n",
       " (209, -0.2119140625),\n",
       " (210, 0.2080078125),\n",
       " (211, 0.1376953125),\n",
       " (212, -0.0196533203125),\n",
       " (213, 0.01495361328125),\n",
       " (214, -0.09765625),\n",
       " (215, 0.2431640625),\n",
       " (216, 0.080078125),\n",
       " (217, 0.08251953125),\n",
       " (218, 0.0986328125),\n",
       " (219, 0.056884765625),\n",
       " (220, 0.04248046875),\n",
       " (221, 0.06884765625),\n",
       " (222, -0.035400390625),\n",
       " (223, -0.076171875),\n",
       " (224, -0.00016117095947265625),\n",
       " (225, -0.0751953125),\n",
       " (226, 0.224609375),\n",
       " (227, 0.1513671875),\n",
       " (228, 0.1005859375),\n",
       " (229, 0.10986328125),\n",
       " (230, 0.0238037109375),\n",
       " (231, 0.08837890625),\n",
       " (232, 0.061767578125),\n",
       " (233, -0.10791015625),\n",
       " (234, 0.062255859375),\n",
       " (235, 0.0034332275390625),\n",
       " (236, 0.08056640625),\n",
       " (237, 0.10693359375),\n",
       " (238, 0.0888671875),\n",
       " (239, -0.2373046875),\n",
       " (240, 0.06494140625),\n",
       " (241, 0.01019287109375),\n",
       " (242, -0.08837890625),\n",
       " (243, -0.33203125),\n",
       " (244, 0.004669189453125),\n",
       " (245, 0.212890625),\n",
       " (246, 0.0859375),\n",
       " (247, 0.0203857421875),\n",
       " (248, 0.045654296875),\n",
       " (249, 0.1484375),\n",
       " (250, 0.1181640625),\n",
       " (251, 0.0556640625),\n",
       " (252, -0.1728515625),\n",
       " (253, -0.125),\n",
       " (254, -0.025390625),\n",
       " (255, -0.318359375),\n",
       " (256, 0.0311279296875),\n",
       " (257, 0.0859375),\n",
       " (258, -0.0419921875),\n",
       " (259, 0.15625),\n",
       " (260, 0.1611328125),\n",
       " (261, 0.1982421875),\n",
       " (262, -0.10009765625),\n",
       " (263, 0.203125),\n",
       " (264, 0.12890625),\n",
       " (265, 0.2333984375),\n",
       " (266, -0.267578125),\n",
       " (267, 0.05517578125),\n",
       " (268, 0.048828125),\n",
       " (269, 0.072265625),\n",
       " (270, 0.244140625),\n",
       " (271, 0.244140625),\n",
       " (272, 0.056884765625),\n",
       " (273, -0.0546875),\n",
       " (274, -0.03369140625),\n",
       " (275, -0.12060546875),\n",
       " (276, 0.034912109375),\n",
       " (277, -0.1455078125),\n",
       " (278, 0.08740234375),\n",
       " (279, -0.0830078125),\n",
       " (280, 0.0172119140625),\n",
       " (281, 0.1435546875),\n",
       " (282, -0.12255859375),\n",
       " (283, 0.1796875),\n",
       " (284, 0.130859375),\n",
       " (285, -0.1650390625),\n",
       " (286, 0.01275634765625),\n",
       " (287, 0.16015625),\n",
       " (288, -0.0311279296875),\n",
       " (289, 0.08203125),\n",
       " (290, 0.173828125),\n",
       " (291, -0.16796875),\n",
       " (292, 0.130859375),\n",
       " (293, 0.08544921875),\n",
       " (294, -0.2109375),\n",
       " (295, -0.130859375),\n",
       " (296, -0.0289306640625),\n",
       " (297, -0.10546875),\n",
       " (298, 0.08447265625),\n",
       " (299, -0.1416015625)]"
      ]
     },
     "execution_count": 89,
     "metadata": {},
     "output_type": "execute_result"
    }
   ],
   "source": [
    "w2v_pretrained = W2VPretrainedRetrievalModel(doc_repr_2)\n",
    "w2v_pretrained.train_model()\n",
    "\n",
    "# you can now get an W2V vector for a given query in the following way:\n",
    "w2v_pretrained.vectorize_query(\"report\")"
   ]
  },
  {
   "cell_type": "code",
   "execution_count": 90,
   "metadata": {
    "cell_id": "00145-65d4934b-cf4d-414e-8525-dff2c72b8313",
    "deepnote_cell_height": 198.1875,
    "deepnote_cell_type": "code",
    "deepnote_to_be_reexecuted": false,
    "deletable": false,
    "editable": false,
    "execution_millis": 1303,
    "execution_start": 1645186676707,
    "nbgrader": {
     "cell_type": "code",
     "checksum": "0822845afb5eafe5ddb1ffeaa4f4942a",
     "grade": true,
     "grade_id": "cell-1b1466f8ce516f42",
     "locked": true,
     "points": 2,
     "schema_version": 3,
     "solution": false,
     "task": false
    },
    "source_hash": "d4727a64"
   },
   "outputs": [
    {
     "name": "stdout",
     "output_type": "stream",
     "text": [
      "300\n"
     ]
    },
    {
     "name": "stderr",
     "output_type": "stream",
     "text": [
      "/Users/thesofakillers/miniconda3/envs/ir1/lib/python3.6/site-packages/ipykernel_launcher.py:63: DeprecationWarning: Call to deprecated `wv` (Attribute will be removed in 4.0.0, use self instead).\n"
     ]
    }
   ],
   "source": [
    "##### Function check\n",
    "\n",
    "print(len(w2v_pretrained.vectorize_query(\"report\")))\n",
    "#####"
   ]
  },
  {
   "cell_type": "code",
   "execution_count": 91,
   "metadata": {
    "cell_id": "00146-c209a2da-8745-4211-89bc-c716df8bb9ce",
    "deepnote_cell_height": 303,
    "deepnote_cell_type": "code",
    "deepnote_to_be_reexecuted": false,
    "execution_millis": 1086,
    "execution_start": 1645187351976,
    "source_hash": "8865e3e5"
   },
   "outputs": [
    {
     "data": {
      "application/vnd.jupyter.widget-view+json": {
       "model_id": "c511b0252b7a4458816f37d7b57f37f2",
       "version_major": 2,
       "version_minor": 0
      },
      "text/plain": [
       "Text(value='', description='Search Bar')"
      ]
     },
     "metadata": {},
     "output_type": "display_data"
    }
   ],
   "source": [
    "drm_w2v = DenseRetrievalRanker(w2v, cosine_sim)\n",
    "\n",
    "# test your LDA model\n",
    "search_fn = drm_w2v.search\n",
    "\n",
    "text = widgets.Text(description=\"Search Bar\", width=200)\n",
    "display(text)\n",
    "\n",
    "\n",
    "text.on_submit(handle_submit_2)"
   ]
  },
  {
   "cell_type": "code",
   "execution_count": 92,
   "metadata": {
    "cell_id": "00147-e85d21fc-9447-411a-8131-fda7837fdf00",
    "deepnote_cell_height": 306.1875,
    "deepnote_cell_type": "code",
    "deepnote_to_be_reexecuted": false,
    "execution_millis": 174,
    "execution_start": 1645187355913,
    "source_hash": "8fd1ee96"
   },
   "outputs": [
    {
     "name": "stderr",
     "output_type": "stream",
     "text": [
      "/Users/thesofakillers/miniconda3/envs/ir1/lib/python3.6/site-packages/ipykernel_launcher.py:33: DeprecationWarning: Call to deprecated `wv` (Attribute will be removed in 4.0.0, use self instead).\n"
     ]
    },
    {
     "data": {
      "application/vnd.jupyter.widget-view+json": {
       "model_id": "409157438b5c49678a3463c22f3d7441",
       "version_major": 2,
       "version_minor": 0
      },
      "text/plain": [
       "Text(value='', description='Search Bar')"
      ]
     },
     "metadata": {},
     "output_type": "display_data"
    }
   ],
   "source": [
    "drm_w2v_pretrained = DenseRetrievalRanker(w2v_pretrained, cosine_sim)\n",
    "\n",
    "# test your LDA model\n",
    "search_fn = drm_w2v_pretrained.search\n",
    "\n",
    "text = widgets.Text(description=\"Search Bar\", width=200)\n",
    "display(text)\n",
    "\n",
    "\n",
    "text.on_submit(handle_submit_2)"
   ]
  },
  {
   "cell_type": "markdown",
   "metadata": {
    "cell_id": "00148-18690d99-32f6-4368-8791-fa8a660313c5",
    "deepnote_cell_height": 91,
    "deepnote_cell_type": "markdown",
    "deletable": false,
    "editable": false,
    "nbgrader": {
     "cell_type": "markdown",
     "checksum": "51b778984fd60757974f51047c61eb15",
     "grade": false,
     "grade_id": "cell-b92f701cbc706108",
     "locked": true,
     "schema_version": 3,
     "solution": false,
     "task": false
    }
   },
   "source": [
    "**Implementation (10 points):**\n",
    "For Doc2Vec, you will need to create a list of `TaggedDocument` instead of using the `self.corpus` or `self.documents` variable. Use the document id as the 'tag'.\n"
   ]
  },
  {
   "cell_type": "code",
   "execution_count": 93,
   "metadata": {
    "cell_id": "00149-f7ea4b9a-161d-4405-9440-ab008f8bc0ac",
    "collapsed": true,
    "deepnote_cell_height": 2261,
    "deepnote_cell_type": "code",
    "deepnote_output_heights": [
     null,
     611
    ],
    "deepnote_to_be_reexecuted": false,
    "deletable": false,
    "execution_millis": 33704,
    "execution_start": 1645187360265,
    "jupyter": {
     "outputs_hidden": true
    },
    "nbgrader": {
     "cell_type": "code",
     "checksum": "1f60fdeb97febb7f4a6fd5bf109aac20",
     "grade": false,
     "grade_id": "cell-680facdcc98a19ab",
     "locked": false,
     "schema_version": 3,
     "solution": true,
     "task": false
    },
    "source_hash": "ad328353",
    "tags": []
   },
   "outputs": [
    {
     "name": "stderr",
     "output_type": "stream",
     "text": [
      "2022-02-23 15:11:52,224 : INFO : adding document #0 to Dictionary(0 unique tokens: [])\n",
      "2022-02-23 15:11:52,371 : INFO : built Dictionary(5937 unique tokens: ['-', 'algebra', 'intern', 'languag', 'preliminari']...) from 3204 documents (total 115969 corpus positions)\n",
      "2022-02-23 15:11:52,380 : INFO : discarding 4740 tokens: [('repeat', 8), ('glossari', 7), ('inspect', 8), ('uncol', 2), ('rung', 9), ('secant', 2), ('.', 1603), ('acceler', 6), ('diverg', 3), ('induc', 9)]...\n",
      "2022-02-23 15:11:52,381 : INFO : keeping 1197 tokens which were in no less than 10 and no more than 1602 (=50.0%) documents\n",
      "2022-02-23 15:11:52,384 : INFO : resulting dictionary: Dictionary(1197 unique tokens: ['-', 'algebra', 'intern', 'languag', 'preliminari']...)\n",
      "2022-02-23 15:11:52,474 : INFO : collecting all words and their counts\n",
      "2022-02-23 15:11:52,475 : INFO : PROGRESS: at example #0, processed 0 words (0/s), 0 word types, 0 tags\n",
      "2022-02-23 15:11:52,498 : INFO : collected 5937 word types and 3204 unique tags from a corpus of 3204 examples and 115969 words\n",
      "2022-02-23 15:11:52,499 : INFO : Loading a fresh vocabulary\n",
      "2022-02-23 15:11:52,511 : INFO : effective_min_count=1 retains 5937 unique words (100% of original 5937, drops 0)\n",
      "2022-02-23 15:11:52,512 : INFO : effective_min_count=1 leaves 115969 word corpus (100% of original 115969, drops 0)\n",
      "2022-02-23 15:11:52,534 : INFO : deleting the raw counts dictionary of 5937 items\n",
      "2022-02-23 15:11:52,534 : INFO : sample=0.001 downsamples 40 most-common words\n",
      "2022-02-23 15:11:52,536 : INFO : downsampling leaves estimated 92346 word corpus (79.6% of prior 115969)\n",
      "2022-02-23 15:11:52,558 : INFO : estimated required memory for 5937 words and 100 dimensions: 9640500 bytes\n",
      "2022-02-23 15:11:52,561 : INFO : resetting layer weights\n",
      "2022-02-23 15:11:54,352 : INFO : training model with 3 workers on 5937 vocabulary and 100 features, using sg=0 hs=0 sample=0.001 negative=5 window=5\n",
      "2022-02-23 15:11:54,622 : INFO : worker thread finished; awaiting finish of 2 more threads\n",
      "2022-02-23 15:11:54,644 : INFO : worker thread finished; awaiting finish of 1 more threads\n",
      "2022-02-23 15:11:54,647 : INFO : worker thread finished; awaiting finish of 0 more threads\n",
      "2022-02-23 15:11:54,647 : INFO : EPOCH - 1 : training on 115969 raw words (95545 effective words) took 0.3s, 336018 effective words/s\n",
      "2022-02-23 15:11:54,916 : INFO : worker thread finished; awaiting finish of 2 more threads\n",
      "2022-02-23 15:11:54,921 : INFO : worker thread finished; awaiting finish of 1 more threads\n",
      "2022-02-23 15:11:54,955 : INFO : worker thread finished; awaiting finish of 0 more threads\n",
      "2022-02-23 15:11:54,956 : INFO : EPOCH - 2 : training on 115969 raw words (95606 effective words) took 0.3s, 314743 effective words/s\n",
      "2022-02-23 15:11:55,256 : INFO : worker thread finished; awaiting finish of 2 more threads\n",
      "2022-02-23 15:11:55,268 : INFO : worker thread finished; awaiting finish of 1 more threads\n",
      "2022-02-23 15:11:55,272 : INFO : worker thread finished; awaiting finish of 0 more threads\n",
      "2022-02-23 15:11:55,272 : INFO : EPOCH - 3 : training on 115969 raw words (95654 effective words) took 0.3s, 325328 effective words/s\n",
      "2022-02-23 15:11:55,531 : INFO : worker thread finished; awaiting finish of 2 more threads\n",
      "2022-02-23 15:11:55,543 : INFO : worker thread finished; awaiting finish of 1 more threads\n",
      "2022-02-23 15:11:55,545 : INFO : worker thread finished; awaiting finish of 0 more threads\n",
      "2022-02-23 15:11:55,546 : INFO : EPOCH - 4 : training on 115969 raw words (95515 effective words) took 0.3s, 353802 effective words/s\n",
      "2022-02-23 15:11:55,827 : INFO : worker thread finished; awaiting finish of 2 more threads\n",
      "2022-02-23 15:11:55,839 : INFO : worker thread finished; awaiting finish of 1 more threads\n",
      "2022-02-23 15:11:55,841 : INFO : worker thread finished; awaiting finish of 0 more threads\n",
      "2022-02-23 15:11:55,841 : INFO : EPOCH - 5 : training on 115969 raw words (95514 effective words) took 0.3s, 330132 effective words/s\n",
      "2022-02-23 15:11:56,116 : INFO : worker thread finished; awaiting finish of 2 more threads\n",
      "2022-02-23 15:11:56,122 : INFO : worker thread finished; awaiting finish of 1 more threads\n",
      "2022-02-23 15:11:56,130 : INFO : worker thread finished; awaiting finish of 0 more threads\n",
      "2022-02-23 15:11:56,131 : INFO : EPOCH - 6 : training on 115969 raw words (95581 effective words) took 0.3s, 348940 effective words/s\n",
      "2022-02-23 15:11:56,377 : INFO : worker thread finished; awaiting finish of 2 more threads\n",
      "2022-02-23 15:11:56,383 : INFO : worker thread finished; awaiting finish of 1 more threads\n",
      "2022-02-23 15:11:56,391 : INFO : worker thread finished; awaiting finish of 0 more threads\n",
      "2022-02-23 15:11:56,392 : INFO : EPOCH - 7 : training on 115969 raw words (95603 effective words) took 0.3s, 375064 effective words/s\n",
      "2022-02-23 15:11:56,642 : INFO : worker thread finished; awaiting finish of 2 more threads\n",
      "2022-02-23 15:11:56,672 : INFO : worker thread finished; awaiting finish of 1 more threads\n",
      "2022-02-23 15:11:56,688 : INFO : worker thread finished; awaiting finish of 0 more threads\n",
      "2022-02-23 15:11:56,709 : INFO : EPOCH - 8 : training on 115969 raw words (95566 effective words) took 0.3s, 304696 effective words/s\n",
      "2022-02-23 15:11:57,004 : INFO : worker thread finished; awaiting finish of 2 more threads\n",
      "2022-02-23 15:11:57,023 : INFO : worker thread finished; awaiting finish of 1 more threads\n",
      "2022-02-23 15:11:57,026 : INFO : worker thread finished; awaiting finish of 0 more threads\n",
      "2022-02-23 15:11:57,027 : INFO : EPOCH - 9 : training on 115969 raw words (95562 effective words) took 0.3s, 306449 effective words/s\n",
      "2022-02-23 15:11:57,293 : INFO : worker thread finished; awaiting finish of 2 more threads\n",
      "2022-02-23 15:11:57,304 : INFO : worker thread finished; awaiting finish of 1 more threads\n",
      "2022-02-23 15:11:57,306 : INFO : worker thread finished; awaiting finish of 0 more threads\n",
      "2022-02-23 15:11:57,306 : INFO : EPOCH - 10 : training on 115969 raw words (95520 effective words) took 0.3s, 348345 effective words/s\n",
      "2022-02-23 15:11:57,553 : INFO : worker thread finished; awaiting finish of 2 more threads\n",
      "2022-02-23 15:11:57,561 : INFO : worker thread finished; awaiting finish of 1 more threads\n",
      "2022-02-23 15:11:57,570 : INFO : worker thread finished; awaiting finish of 0 more threads\n",
      "2022-02-23 15:11:57,571 : INFO : EPOCH - 11 : training on 115969 raw words (95460 effective words) took 0.3s, 368426 effective words/s\n",
      "2022-02-23 15:11:57,819 : INFO : worker thread finished; awaiting finish of 2 more threads\n",
      "2022-02-23 15:11:57,826 : INFO : worker thread finished; awaiting finish of 1 more threads\n",
      "2022-02-23 15:11:57,832 : INFO : worker thread finished; awaiting finish of 0 more threads\n",
      "2022-02-23 15:11:57,833 : INFO : EPOCH - 12 : training on 115969 raw words (95566 effective words) took 0.2s, 382339 effective words/s\n",
      "2022-02-23 15:11:58,071 : INFO : worker thread finished; awaiting finish of 2 more threads\n",
      "2022-02-23 15:11:58,090 : INFO : worker thread finished; awaiting finish of 1 more threads\n",
      "2022-02-23 15:11:58,095 : INFO : worker thread finished; awaiting finish of 0 more threads\n",
      "2022-02-23 15:11:58,096 : INFO : EPOCH - 13 : training on 115969 raw words (95452 effective words) took 0.3s, 380365 effective words/s\n",
      "2022-02-23 15:11:58,361 : INFO : worker thread finished; awaiting finish of 2 more threads\n",
      "2022-02-23 15:11:58,380 : INFO : worker thread finished; awaiting finish of 1 more threads\n",
      "2022-02-23 15:11:58,387 : INFO : worker thread finished; awaiting finish of 0 more threads\n",
      "2022-02-23 15:11:58,388 : INFO : EPOCH - 14 : training on 115969 raw words (95541 effective words) took 0.3s, 344283 effective words/s\n",
      "2022-02-23 15:11:58,635 : INFO : worker thread finished; awaiting finish of 2 more threads\n",
      "2022-02-23 15:11:58,645 : INFO : worker thread finished; awaiting finish of 1 more threads\n",
      "2022-02-23 15:11:58,646 : INFO : worker thread finished; awaiting finish of 0 more threads\n",
      "2022-02-23 15:11:58,647 : INFO : EPOCH - 15 : training on 115969 raw words (95576 effective words) took 0.3s, 376164 effective words/s\n",
      "2022-02-23 15:11:58,896 : INFO : worker thread finished; awaiting finish of 2 more threads\n",
      "2022-02-23 15:11:58,907 : INFO : worker thread finished; awaiting finish of 1 more threads\n",
      "2022-02-23 15:11:58,911 : INFO : worker thread finished; awaiting finish of 0 more threads\n",
      "2022-02-23 15:11:58,912 : INFO : EPOCH - 16 : training on 115969 raw words (95585 effective words) took 0.3s, 367356 effective words/s\n",
      "2022-02-23 15:11:59,161 : INFO : worker thread finished; awaiting finish of 2 more threads\n",
      "2022-02-23 15:11:59,177 : INFO : worker thread finished; awaiting finish of 1 more threads\n",
      "2022-02-23 15:11:59,184 : INFO : worker thread finished; awaiting finish of 0 more threads\n",
      "2022-02-23 15:11:59,184 : INFO : EPOCH - 17 : training on 115969 raw words (95547 effective words) took 0.3s, 357692 effective words/s\n",
      "2022-02-23 15:11:59,436 : INFO : worker thread finished; awaiting finish of 2 more threads\n",
      "2022-02-23 15:11:59,442 : INFO : worker thread finished; awaiting finish of 1 more threads\n",
      "2022-02-23 15:11:59,451 : INFO : worker thread finished; awaiting finish of 0 more threads\n",
      "2022-02-23 15:11:59,451 : INFO : EPOCH - 18 : training on 115969 raw words (95370 effective words) took 0.3s, 367041 effective words/s\n",
      "2022-02-23 15:11:59,700 : INFO : worker thread finished; awaiting finish of 2 more threads\n",
      "2022-02-23 15:11:59,705 : INFO : worker thread finished; awaiting finish of 1 more threads\n",
      "2022-02-23 15:11:59,720 : INFO : worker thread finished; awaiting finish of 0 more threads\n",
      "2022-02-23 15:11:59,724 : INFO : EPOCH - 19 : training on 115969 raw words (95529 effective words) took 0.3s, 356846 effective words/s\n",
      "2022-02-23 15:12:00,005 : INFO : worker thread finished; awaiting finish of 2 more threads\n",
      "2022-02-23 15:12:00,018 : INFO : worker thread finished; awaiting finish of 1 more threads\n",
      "2022-02-23 15:12:00,026 : INFO : worker thread finished; awaiting finish of 0 more threads\n",
      "2022-02-23 15:12:00,026 : INFO : EPOCH - 20 : training on 115969 raw words (95690 effective words) took 0.3s, 326877 effective words/s\n",
      "2022-02-23 15:12:00,027 : INFO : training on a 2319380 raw words (1910982 effective words) took 5.7s, 336803 effective words/s\n"
     ]
    },
    {
     "data": {
      "text/plain": [
       "[(0, -0.05341791),\n",
       " (1, -0.021215405),\n",
       " (2, -0.0039530485),\n",
       " (3, -0.022264816),\n",
       " (4, -0.014469391),\n",
       " (5, 0.052676104),\n",
       " (6, 0.022658397),\n",
       " (7, -0.10981894),\n",
       " (8, 0.018267233),\n",
       " (9, -0.08416959),\n",
       " (10, -0.08869214),\n",
       " (11, -0.048867114),\n",
       " (12, 0.019996746),\n",
       " (13, -0.004137239),\n",
       " (14, -0.06455049),\n",
       " (15, 0.061218318),\n",
       " (16, -0.054059044),\n",
       " (17, -0.058697518),\n",
       " (18, 0.008243109),\n",
       " (19, -0.022007378),\n",
       " (20, 0.015489853),\n",
       " (21, -0.012902989),\n",
       " (22, 0.022259684),\n",
       " (23, 0.033162367),\n",
       " (24, 0.0049749226),\n",
       " (25, 0.0509975),\n",
       " (26, -0.026139382),\n",
       " (27, 0.02987284),\n",
       " (28, -0.08702189),\n",
       " (29, 0.038138483),\n",
       " (30, 0.016084075),\n",
       " (31, -0.00392882),\n",
       " (32, -0.008169893),\n",
       " (33, -0.0647696),\n",
       " (34, -0.014715783),\n",
       " (35, -0.006515871),\n",
       " (36, -0.101711035),\n",
       " (37, -0.002687161),\n",
       " (38, -0.008833661),\n",
       " (39, -0.0028493477),\n",
       " (40, -0.09462688),\n",
       " (41, -0.019496124),\n",
       " (42, -0.083758906),\n",
       " (43, 0.0034894657),\n",
       " (44, 0.0498131),\n",
       " (45, 0.028336441),\n",
       " (46, 0.032022238),\n",
       " (47, 0.0097017195),\n",
       " (48, -0.009329411),\n",
       " (49, -0.03606859),\n",
       " (50, 0.05072929),\n",
       " (51, 0.0891888),\n",
       " (52, -0.0008443574),\n",
       " (53, 0.041774884),\n",
       " (54, -0.07979688),\n",
       " (55, 0.0035851917),\n",
       " (56, 0.0023305456),\n",
       " (57, -0.017096471),\n",
       " (58, -0.053548034),\n",
       " (59, 0.03445445),\n",
       " (60, 0.003856468),\n",
       " (61, -0.0044591506),\n",
       " (62, 0.017005846),\n",
       " (63, 0.037862998),\n",
       " (64, -0.052949354),\n",
       " (65, 0.09573815),\n",
       " (66, 0.048399065),\n",
       " (67, 0.086011365),\n",
       " (68, -0.011990852),\n",
       " (69, 0.018838568),\n",
       " (70, 0.03886379),\n",
       " (71, 0.028385554),\n",
       " (72, -0.008466347),\n",
       " (73, -0.08683113),\n",
       " (74, 0.08061479),\n",
       " (75, -0.0788407),\n",
       " (76, 0.046276387),\n",
       " (77, 0.017438492),\n",
       " (78, -0.03283236),\n",
       " (79, 0.08530288),\n",
       " (80, -0.04793986),\n",
       " (81, 0.062424246),\n",
       " (82, 0.009524719),\n",
       " (83, 0.034190968),\n",
       " (84, -0.08027236),\n",
       " (85, -0.039666656),\n",
       " (86, -0.006015249),\n",
       " (87, -0.017040852),\n",
       " (88, -0.17061187),\n",
       " (89, 0.11437247),\n",
       " (90, 0.022207761),\n",
       " (91, -0.03879827),\n",
       " (92, -0.044234704),\n",
       " (93, -0.014349168),\n",
       " (94, 0.06804322),\n",
       " (95, 0.008148693),\n",
       " (96, -0.00040258566),\n",
       " (97, 0.061015878),\n",
       " (98, 0.15265281),\n",
       " (99, 0.011064252)]"
      ]
     },
     "execution_count": 93,
     "metadata": {},
     "output_type": "execute_result"
    }
   ],
   "source": [
    "# TODO: Implement this! (10 points)\n",
    "class D2VRetrievalModel(VectorSpaceRetrievalModel):\n",
    "    def __init__(self, doc_repr):\n",
    "        super().__init__(doc_repr)\n",
    "\n",
    "        self.vector_size = 100\n",
    "        self.min_count = 1\n",
    "        self.epochs = 20\n",
    "\n",
    "        # YOUR CODE HERE\n",
    "        self.tagged_documents = [\n",
    "            TaggedDocument(doc, [doc_id]) for doc_id, doc in self.doc_repr\n",
    "        ]\n",
    "\n",
    "    def train_model(self):\n",
    "        # YOUR CODE HERE\n",
    "        self.model = Doc2Vec(\n",
    "            documents=self.tagged_documents,\n",
    "            vector_size=self.vector_size,\n",
    "            epochs=self.epochs,\n",
    "            min_count=self.min_count,\n",
    "        )\n",
    "\n",
    "    def vectorize_documents(self):\n",
    "        \"\"\"\n",
    "        Returns a doc_id -> vector dictionary\n",
    "        \"\"\"\n",
    "        # YOUR CODE HERE\n",
    "        vectors = {}\n",
    "        for (doc_id, doc) in self.doc_repr:\n",
    "            doc_vec = self.model.docvecs[doc_id]\n",
    "            # conver to weird gensim format\n",
    "            doc_vec = [(i, el) for i, el in enumerate(doc_vec)]\n",
    "            # store\n",
    "            vectors[doc_id] = doc_vec\n",
    "        return vectors\n",
    "\n",
    "    def vectorize_query(self, query):\n",
    "        # YOUR CODE HERE\n",
    "        query = process_text(query, **config_2)\n",
    "        query_vec = self.model.infer_vector(query)\n",
    "        # conver to weird gensim format\n",
    "        query_vec = [(i, el) for i, el in enumerate(query_vec)]\n",
    "        return query_vec\n",
    "\n",
    "\n",
    "d2v = D2VRetrievalModel(doc_repr_2)\n",
    "d2v.train_model()\n",
    "\n",
    "\n",
    "# # you can now get an LSI vector for a given query in the following way:\n",
    "d2v.vectorize_query(\"report\")"
   ]
  },
  {
   "cell_type": "code",
   "execution_count": 94,
   "metadata": {
    "cell_id": "00150-51d38d3e-9d84-4728-935b-b2266a0f7700",
    "deepnote_cell_height": 81,
    "deepnote_cell_type": "code",
    "deepnote_to_be_reexecuted": false,
    "deletable": false,
    "editable": false,
    "execution_millis": 13,
    "execution_start": 1645187446843,
    "nbgrader": {
     "cell_type": "code",
     "checksum": "e83a363a9d4f136efbdde1426a83925e",
     "grade": true,
     "grade_id": "cell-5e2c5e0c9a2e8cb5",
     "locked": true,
     "points": 0,
     "schema_version": 3,
     "solution": false,
     "task": false
    },
    "source_hash": "28110d30"
   },
   "outputs": [],
   "source": [
    "#### Please do not change this. This cell is used for grading."
   ]
  },
  {
   "cell_type": "markdown",
   "metadata": {
    "cell_id": "00151-fb85191e-b51e-42ca-812f-693c5a17802d",
    "deepnote_cell_height": 52.390625,
    "deepnote_cell_type": "markdown",
    "deletable": false,
    "editable": false,
    "nbgrader": {
     "cell_type": "markdown",
     "checksum": "5bb46bf6b9be1e0ca66f0b0bc6260ecb",
     "grade": false,
     "grade_id": "cell-8a49d414f798a595",
     "locked": true,
     "points": 10,
     "schema_version": 3,
     "solution": false,
     "task": true
    }
   },
   "source": [
    "\\#### Please do not change this. This cell is used for grading."
   ]
  },
  {
   "cell_type": "code",
   "execution_count": 95,
   "metadata": {
    "cell_id": "00152-f0e8290b-0789-4c20-965c-0a941de12a6d",
    "deepnote_cell_height": 303,
    "deepnote_cell_type": "code",
    "deepnote_to_be_reexecuted": false,
    "execution_millis": 302,
    "execution_start": 1645187449617,
    "source_hash": "2beb5e63"
   },
   "outputs": [
    {
     "data": {
      "application/vnd.jupyter.widget-view+json": {
       "model_id": "284fbf517877458aaf67c265d49e7756",
       "version_major": 2,
       "version_minor": 0
      },
      "text/plain": [
       "Text(value='', description='Search Bar')"
      ]
     },
     "metadata": {},
     "output_type": "display_data"
    }
   ],
   "source": [
    "drm_d2v = DenseRetrievalRanker(d2v, cosine_sim)\n",
    "\n",
    "# test your LDA model\n",
    "search_fn = drm_d2v.search\n",
    "\n",
    "text = widgets.Text(description=\"Search Bar\", width=200)\n",
    "display(text)\n",
    "\n",
    "\n",
    "text.on_submit(handle_submit_2)"
   ]
  },
  {
   "cell_type": "markdown",
   "metadata": {
    "cell_id": "00153-7795ce30-661e-4988-b26a-e3ed09ce3615",
    "deepnote_cell_height": 168.171875,
    "deepnote_cell_type": "markdown",
    "deletable": false,
    "editable": false,
    "nbgrader": {
     "cell_type": "markdown",
     "checksum": "363ec36c1d03d9f9e1c2045a6e193c14",
     "grade": false,
     "grade_id": "cell-3529ae29eece7b97",
     "locked": true,
     "schema_version": 3,
     "solution": false,
     "task": false
    }
   },
   "source": [
    "---\n",
    "## Section 9: Re-ranking (10 points) <a class=\"anchor\" id=\"reranking\"></a>\n",
    "\n",
    "[Back to Part 2](#part2)\n",
    "\n",
    "To motivate the re-ranking perspective (i.e retrieve with lexical method + rerank with a semantic method), let's search using semantic methods and compare it to BM25's performance, along with their runtime:\n"
   ]
  },
  {
   "cell_type": "code",
   "execution_count": 96,
   "metadata": {
    "cell_id": "00154-4c11daad-82ca-4156-9d9b-7d9457aaf21b",
    "deepnote_cell_height": 567.875,
    "deepnote_cell_type": "code",
    "deepnote_to_be_reexecuted": false,
    "deletable": false,
    "editable": false,
    "execution_millis": 22802,
    "execution_start": 1645187474568,
    "nbgrader": {
     "cell_type": "code",
     "checksum": "5755f70e3eb28abc65d14d80125338af",
     "grade": false,
     "grade_id": "cell-f8f43bf5ae383128",
     "locked": true,
     "schema_version": 3,
     "solution": false,
     "task": false
    },
    "source_hash": "3fb54859"
   },
   "outputs": [
    {
     "name": "stdout",
     "output_type": "stream",
     "text": [
      "BM25: \n",
      "1.5 ms ± 29.1 µs per loop (mean ± std. dev. of 7 runs, 1000 loops each)\n",
      "LSI: \n",
      "643 ms ± 3.22 ms per loop (mean ± std. dev. of 7 runs, 1 loop each)\n",
      "LDA: \n",
      "194 ms ± 5.92 ms per loop (mean ± std. dev. of 7 runs, 1 loop each)\n",
      "W2V: \n",
      "897 ms ± 102 ms per loop (mean ± std. dev. of 7 runs, 1 loop each)\n",
      "W2V(Pretrained): \n"
     ]
    },
    {
     "name": "stderr",
     "output_type": "stream",
     "text": [
      "/Users/thesofakillers/miniconda3/envs/ir1/lib/python3.6/site-packages/ipykernel_launcher.py:63: DeprecationWarning: Call to deprecated `wv` (Attribute will be removed in 4.0.0, use self instead).\n"
     ]
    },
    {
     "name": "stdout",
     "output_type": "stream",
     "text": [
      "1.88 s ± 136 ms per loop (mean ± std. dev. of 7 runs, 1 loop each)\n",
      "D2V:\n",
      "3.09 s ± 154 ms per loop (mean ± std. dev. of 7 runs, 1 loop each)\n"
     ]
    }
   ],
   "source": [
    "query = \"algebraic functions\"\n",
    "print(\"BM25: \")\n",
    "%timeit bm25_search(query, 2)\n",
    "print(\"LSI: \")\n",
    "%timeit drm_lsi.search(query)\n",
    "print(\"LDA: \")\n",
    "%timeit drm_lda.search(query)\n",
    "print(\"W2V: \")\n",
    "%timeit drm_w2v.search(query)\n",
    "print(\"W2V(Pretrained): \")\n",
    "%timeit drm_w2v_pretrained.search(query)\n",
    "print(\"D2V:\")\n",
    "%timeit drm_d2v.search(query)"
   ]
  },
  {
   "cell_type": "markdown",
   "metadata": {
    "cell_id": "00155-48f43fee-cf35-4878-adef-f41c0c70d38b",
    "deepnote_cell_height": 165.375,
    "deepnote_cell_type": "markdown",
    "deletable": false,
    "editable": false,
    "nbgrader": {
     "cell_type": "markdown",
     "checksum": "ae398da0a8c23c95bcbb0023b7ec6f34",
     "grade": false,
     "grade_id": "cell-db5ff09f97841af7",
     "locked": true,
     "schema_version": 3,
     "solution": false,
     "task": false
    }
   },
   "source": [
    "---\n",
    "\n",
    "**Implementation (10 points):**\n",
    "Re-ranking involves retrieving a small set of documents using simple but fast methods like BM25 and then re-ranking them with the aid of semantic methods such as LDA or LSI. Implement the following class, which takes in an `initial_retrieval_fn` - the initial retrieval function and `vsrm` - an instance of the `VectorSpaceRetrievalModel` class (i.e LSI/LDA) as input. The search function should first retrieve an initial list of K documents, and then these documents are re-ranked using a semantic method. This not only makes retrieval faster, but semantic methods perform poorly when used in isolation, as you will find out."
   ]
  },
  {
   "cell_type": "code",
   "execution_count": 97,
   "metadata": {
    "cell_id": "00156-e15452e3-f043-4451-be79-5e3c6e3f889e",
    "deepnote_cell_height": 639,
    "deepnote_cell_type": "code",
    "deepnote_to_be_reexecuted": false,
    "deletable": false,
    "execution_millis": 0,
    "execution_start": 1645189040776,
    "nbgrader": {
     "cell_type": "code",
     "checksum": "63b6b05a676a2ae3f08d8bed1bc59428",
     "grade": false,
     "grade_id": "cell-5bf47600d1a0c507",
     "locked": false,
     "schema_version": 3,
     "solution": true,
     "task": false
    },
    "source_hash": "fa2995d"
   },
   "outputs": [],
   "source": [
    "# TODO: Implement this! (10 points)\n",
    "class DenseRerankingModel:\n",
    "    def __init__(self, initial_retrieval_fn, vsrm, similarity_fn):\n",
    "        \"\"\"\n",
    "        initial_retrieval_fn: takes in a query and returns a list of [(doc_id, score)] (sorted)\n",
    "        vsrm: instance of `VectorSpaceRetrievalModel`\n",
    "        similarity_fn: function instance that takes in two vectors\n",
    "                        and returns a similarity score e.g cosine_sim defined earlier\n",
    "        \"\"\"\n",
    "        self.ret = initial_retrieval_fn\n",
    "        self.vsrm = vsrm\n",
    "        self.similarity_fn = similarity_fn\n",
    "        self.vectorized_documents = vsrm.vectorize_documents()\n",
    "\n",
    "        assert len(self.vectorized_documents) == len(doc_repr_2)\n",
    "\n",
    "    def search(self, query, K=50):\n",
    "        \"\"\"\n",
    "        First, retrieve the top K results using the retrieval function\n",
    "        Then, re-rank the results using the VSRM instance\n",
    "        \"\"\"\n",
    "        # YOUR CODE HERE\n",
    "        top_k = self.ret(query)[:K]\n",
    "        results = {}\n",
    "        query_vector = self.vsrm.vectorize_query(query)\n",
    "        for doc_id, _score in top_k:\n",
    "            doc_vector = self.vectorized_documents[doc_id]\n",
    "            new_score = self.similarity_fn(doc_vector, query_vector)\n",
    "            results[doc_id] = new_score\n",
    "        # convert results to list and sort descending\n",
    "        results = sorted(list(results.items()), key=lambda x: -x[1])\n",
    "        return results"
   ]
  },
  {
   "cell_type": "code",
   "execution_count": 98,
   "metadata": {
    "cell_id": "00157-3538784a-efa2-4b36-b167-d05248360ac1",
    "deepnote_cell_height": 225,
    "deepnote_cell_type": "code",
    "deepnote_to_be_reexecuted": false,
    "deletable": false,
    "editable": false,
    "execution_millis": 5334,
    "execution_start": 1645189060550,
    "nbgrader": {
     "cell_type": "code",
     "checksum": "334ab5af96976265cace682ab82a7387",
     "grade": true,
     "grade_id": "cell-52c6d18a4c0b4882",
     "locked": true,
     "points": 0,
     "schema_version": 3,
     "solution": false,
     "task": false
    },
    "source_hash": "f5babc28"
   },
   "outputs": [
    {
     "name": "stderr",
     "output_type": "stream",
     "text": [
      "/Users/thesofakillers/miniconda3/envs/ir1/lib/python3.6/site-packages/ipykernel_launcher.py:33: DeprecationWarning: Call to deprecated `wv` (Attribute will be removed in 4.0.0, use self instead).\n"
     ]
    }
   ],
   "source": [
    "##### Function check\n",
    "bm25_search_2 = partial(bm25_search, index_set=2)\n",
    "lsi_rerank = DenseRerankingModel(bm25_search_2, lsi, cosine_sim)\n",
    "lda_rerank = DenseRerankingModel(bm25_search_2, lda, jenson_shannon_sim)\n",
    "w2v_rerank = DenseRerankingModel(bm25_search_2, w2v, cosine_sim)\n",
    "w2v_pretrained_rerank = DenseRerankingModel(bm25_search_2, w2v_pretrained, cosine_sim)\n",
    "d2v_rerank = DenseRerankingModel(bm25_search_2, d2v, cosine_sim)\n",
    "\n",
    "#####"
   ]
  },
  {
   "cell_type": "markdown",
   "metadata": {
    "cell_id": "00158-5fbe0f74-4068-4e6e-9f3b-854b724106d7",
    "deepnote_cell_height": 52.390625,
    "deepnote_cell_type": "markdown",
    "deletable": false,
    "editable": false,
    "nbgrader": {
     "cell_type": "markdown",
     "checksum": "bd904253f45f84e63bab3a69729058fc",
     "grade": false,
     "grade_id": "cell-93215dfe6bcf7cff",
     "locked": true,
     "points": 10,
     "schema_version": 3,
     "solution": false,
     "task": true
    }
   },
   "source": [
    "\\#### Please do not change this. This cell is used for grading."
   ]
  },
  {
   "cell_type": "markdown",
   "metadata": {
    "cell_id": "00159-f5e855d2-5764-440e-a8e4-10860c9a9ac3",
    "deepnote_cell_height": 55,
    "deepnote_cell_type": "markdown",
    "deletable": false,
    "editable": false,
    "nbgrader": {
     "cell_type": "markdown",
     "checksum": "b592e60292bfe3d9ef2930a354c4077a",
     "grade": false,
     "grade_id": "cell-aa694ff55fa91e7d",
     "locked": true,
     "schema_version": 3,
     "solution": false,
     "task": false
    }
   },
   "source": [
    "---\n",
    "Now, let us time the new search functions:"
   ]
  },
  {
   "cell_type": "code",
   "execution_count": 99,
   "metadata": {
    "cell_id": "00160-933196c3-9483-4ca6-a4a6-ca24aad69936",
    "deepnote_cell_height": 530.0625,
    "deepnote_cell_type": "code",
    "deepnote_to_be_reexecuted": false,
    "deletable": false,
    "editable": false,
    "execution_millis": 38436,
    "execution_start": 1645189086450,
    "nbgrader": {
     "cell_type": "code",
     "checksum": "338c7e3528cba266a865a061287c0e38",
     "grade": false,
     "grade_id": "cell-5edbd481562ad91f",
     "locked": true,
     "schema_version": 3,
     "solution": false,
     "task": false
    },
    "source_hash": "bfac7774"
   },
   "outputs": [
    {
     "name": "stdout",
     "output_type": "stream",
     "text": [
      "BM25: \n",
      "1.57 ms ± 130 µs per loop (mean ± std. dev. of 7 runs, 1000 loops each)\n",
      "LSI: \n",
      "13.1 ms ± 1.44 ms per loop (mean ± std. dev. of 7 runs, 100 loops each)\n",
      "LDA: \n",
      "5.94 ms ± 832 µs per loop (mean ± std. dev. of 7 runs, 100 loops each)\n",
      "W2V: \n",
      "12 ms ± 243 µs per loop (mean ± std. dev. of 7 runs, 100 loops each)\n",
      "W2V(Pretrained): \n"
     ]
    },
    {
     "name": "stderr",
     "output_type": "stream",
     "text": [
      "/Users/thesofakillers/miniconda3/envs/ir1/lib/python3.6/site-packages/ipykernel_launcher.py:63: DeprecationWarning: Call to deprecated `wv` (Attribute will be removed in 4.0.0, use self instead).\n"
     ]
    },
    {
     "name": "stdout",
     "output_type": "stream",
     "text": [
      "31.2 ms ± 1.34 ms per loop (mean ± std. dev. of 7 runs, 10 loops each)\n",
      "D2V:\n",
      "49.3 ms ± 1.05 ms per loop (mean ± std. dev. of 7 runs, 10 loops each)\n"
     ]
    }
   ],
   "source": [
    "query = \"algebraic functions\"\n",
    "print(\"BM25: \")\n",
    "%timeit bm25_search(query, 2)\n",
    "print(\"LSI: \")\n",
    "%timeit lsi_rerank.search(query)\n",
    "print(\"LDA: \")\n",
    "%timeit lda_rerank.search(query)\n",
    "print(\"W2V: \")\n",
    "%timeit w2v_rerank.search(query)\n",
    "print(\"W2V(Pretrained): \")\n",
    "%timeit w2v_pretrained_rerank.search(query)\n",
    "print(\"D2V:\")\n",
    "%timeit d2v_rerank.search(query)"
   ]
  },
  {
   "cell_type": "markdown",
   "metadata": {
    "cell_id": "00161-7e54209c-2f42-4a49-bab8-78710df71f6b",
    "deepnote_cell_height": 55,
    "deepnote_cell_type": "markdown",
    "deletable": false,
    "editable": false,
    "nbgrader": {
     "cell_type": "markdown",
     "checksum": "c45c5e3f015b2de89d9d39ae3766368b",
     "grade": false,
     "grade_id": "cell-85c50f2ab9eec301",
     "locked": true,
     "schema_version": 3,
     "solution": false,
     "task": false
    }
   },
   "source": [
    "---\n",
    "As you can see, it is much faster (but BM25 is still orders of magnitude faster)."
   ]
  },
  {
   "cell_type": "markdown",
   "metadata": {
    "cell_id": "00162-b811d517-f3b2-45f1-9dac-88d1fe08cfda",
    "deepnote_cell_height": 311.375,
    "deepnote_cell_type": "markdown",
    "deletable": false,
    "editable": false,
    "nbgrader": {
     "cell_type": "markdown",
     "checksum": "1e2f3388e3807659f303fe31a75a010e",
     "grade": false,
     "grade_id": "cell-5071bb99b2af61cb",
     "locked": true,
     "schema_version": 3,
     "solution": false,
     "task": false
    }
   },
   "source": [
    "---\n",
    "## Section 10: Evaluation & Analysis (30 points) <a class=\"anchor\" id=\"reranking_eval\"></a>\n",
    "\n",
    "[Back to Part 2](#part2)\n",
    "\n",
    "[Previously](#evaluation) we have implemented some evaluation metrics and used them for measuring the ranking performance of term-based IR algorithms. In this section, we will do the same for semantic methods, both with and without re-ranking.\n",
    "\n",
    "### Section 10.1: Plot (10 points)\n",
    "\n",
    "First, gather the results. The results should consider the index set, the different search functions and different metrics. Plot the results in bar charts, per metric, with clear labels.\n",
    "\n",
    "Then, gather only the re-ranking models, and plot and compare them with the results obtained in part 1 (only index set 2)."
   ]
  },
  {
   "cell_type": "code",
   "execution_count": 100,
   "metadata": {
    "cell_id": "00163-2e475730-a0ad-40ed-b4cf-04ccd10e3e34",
    "deepnote_cell_height": 297,
    "deepnote_cell_type": "code",
    "deepnote_to_be_reexecuted": false,
    "deletable": false,
    "editable": false,
    "execution_millis": 5,
    "execution_start": 1645189150648,
    "nbgrader": {
     "cell_type": "code",
     "checksum": "4fe81520ac6413a803838913fd64de03",
     "grade": false,
     "grade_id": "cell-b672fe6dfae0b1ce",
     "locked": true,
     "schema_version": 3,
     "solution": false,
     "task": false
    },
    "source_hash": "c2b8785a"
   },
   "outputs": [],
   "source": [
    "list_of_sem_search_fns = [\n",
    "    (\"lda\", drm_lda.search),\n",
    "    (\"lsi\", drm_lsi.search),\n",
    "    (\"w2v\", drm_w2v.search),\n",
    "    (\"w2v_pretrained\", drm_w2v_pretrained.search),\n",
    "    (\"d2v\", drm_d2v.search),\n",
    "    (\"lsi_rr\", lsi_rerank.search),\n",
    "    (\"lda_rr\", lda_rerank.search),\n",
    "    (\"w2v_rr\", w2v_rerank.search),\n",
    "    (\"w2v_pretrained_rr\", w2v_pretrained_rerank.search),\n",
    "    (\"d2v_rr\", d2v_rerank.search),\n",
    "]"
   ]
  },
  {
   "cell_type": "code",
   "execution_count": 101,
   "metadata": {
    "cell_id": "00164-ba70f9d6-5fd4-4ccc-9243-56081705849b",
    "deepnote_cell_height": 2368.78125,
    "deepnote_cell_type": "code",
    "deepnote_output_heights": [
     472.390625,
     472.390625
    ],
    "deepnote_to_be_reexecuted": false,
    "deletable": false,
    "execution_millis": 699543,
    "execution_start": 1645197094542,
    "nbgrader": {
     "cell_type": "code",
     "checksum": "54707c4afac084299aeefa047259b4a9",
     "grade": true,
     "grade_id": "cell-7dd8273b0f5a3c22",
     "locked": false,
     "points": 10,
     "schema_version": 3,
     "solution": true,
     "task": false
    },
    "source_hash": "7b8cce53"
   },
   "outputs": [
    {
     "name": "stdout",
     "output_type": "stream",
     "text": [
      "5\n",
      "\n",
      "Vanilla\n",
      "\tlda\n",
      "{'ERR': 0.07342094,\n",
      " 'MAP': 0.038502328,\n",
      " 'Precision@1': 0.03846154,\n",
      " 'Precision@10': 0.046153847,\n",
      " 'Precision@5': 0.049999997,\n",
      " 'Recall@1': 0.0022893774,\n",
      " 'Recall@10': 0.046410516,\n",
      " 'Recall@5': 0.032889195}\n",
      "\tlsi\n",
      "{'ERR': 0.1235339,\n",
      " 'MAP': 0.06355889,\n",
      " 'Precision@1': 0.115384616,\n",
      " 'Precision@10': 0.075,\n",
      " 'Precision@5': 0.092307694,\n",
      " 'Recall@1': 0.015510531,\n",
      " 'Recall@10': 0.05435463,\n",
      " 'Recall@5': 0.036249723}\n",
      "\tw2v\n",
      "{'ERR': 0.036194,\n",
      " 'MAP': 0.014814273,\n",
      " 'Precision@1': 0.03846154,\n",
      " 'Precision@10': 0.015384615,\n",
      " 'Precision@5': 0.011538462,\n",
      " 'Recall@1': 0.003216296,\n",
      " 'Recall@10': 0.013211126,\n",
      " 'Recall@5': 0.00481886}\n"
     ]
    },
    {
     "name": "stderr",
     "output_type": "stream",
     "text": [
      "/Users/thesofakillers/miniconda3/envs/ir1/lib/python3.6/site-packages/ipykernel_launcher.py:63: DeprecationWarning: Call to deprecated `wv` (Attribute will be removed in 4.0.0, use self instead).\n"
     ]
    },
    {
     "name": "stdout",
     "output_type": "stream",
     "text": [
      "\tw2v_pretrained\n",
      "{'ERR': 0.22888106,\n",
      " 'MAP': 0.13215353,\n",
      " 'Precision@1': 0.30769232,\n",
      " 'Precision@10': 0.1326923,\n",
      " 'Precision@5': 0.17307693,\n",
      " 'Recall@1': 0.048749086,\n",
      " 'Recall@10': 0.14604688,\n",
      " 'Recall@5': 0.10601156}\n",
      "\td2v\n",
      "{'ERR': 0.068927735,\n",
      " 'MAP': 0.039557777,\n",
      " 'Precision@1': 0.0,\n",
      " 'Precision@10': 0.051923078,\n",
      " 'Precision@5': 0.06153846,\n",
      " 'Recall@1': 0.0,\n",
      " 'Recall@10': 0.045840442,\n",
      " 'Recall@5': 0.026171653}\n",
      "\n",
      "Reranked\n",
      "\tlsi\n",
      "{'ERR': 0.21780014,\n",
      " 'MAP': 0.11661968,\n",
      " 'Precision@1': 0.1923077,\n",
      " 'Precision@10': 0.18076923,\n",
      " 'Precision@5': 0.19230771,\n",
      " 'Recall@1': 0.033948842,\n",
      " 'Recall@10': 0.26622698,\n",
      " 'Recall@5': 0.15364788}\n",
      "\tlda\n",
      "{'ERR': 0.20380603,\n",
      " 'MAP': 0.13311055,\n",
      " 'Precision@1': 0.09615385,\n",
      " 'Precision@10': 0.2019231,\n",
      " 'Precision@5': 0.1923077,\n",
      " 'Recall@1': 0.02764423,\n",
      " 'Recall@10': 0.3213507,\n",
      " 'Recall@5': 0.14685105}\n",
      "\tw2v\n",
      "{'ERR': 0.17932092,\n",
      " 'MAP': 0.09421232,\n",
      " 'Precision@1': 0.13461539,\n",
      " 'Precision@10': 0.15384614,\n",
      " 'Precision@5': 0.16153845,\n",
      " 'Recall@1': 0.018660622,\n",
      " 'Recall@10': 0.24511549,\n",
      " 'Recall@5': 0.12797292}\n",
      "\tw2v_pretrained\n",
      "{'ERR': 0.2839876,\n",
      " 'MAP': 0.1652866,\n",
      " 'Precision@1': 0.34615386,\n",
      " 'Precision@10': 0.20769231,\n",
      " 'Precision@5': 0.23076923,\n",
      " 'Recall@1': 0.08440109,\n",
      " 'Recall@10': 0.3412429,\n",
      " 'Recall@5': 0.20217164}\n",
      "\td2v\n",
      "{'ERR': 0.24308632,\n",
      " 'MAP': 0.12982735,\n",
      " 'Precision@1': 0.21153846,\n",
      " 'Precision@10': 0.21346153,\n",
      " 'Precision@5': 0.23076923,\n",
      " 'Recall@1': 0.030752659,\n",
      " 'Recall@10': 0.3148432,\n",
      " 'Recall@5': 0.16870788}\n"
     ]
    },
    {
     "data": {
      "image/png": "[encoded data removed]",
      "text/plain": [
       "<Figure size 1008x576 with 8 Axes>"
      ]
     },
     "metadata": {
      "needs_background": "light"
     },
     "output_type": "display_data"
    }
   ],
   "source": [
    "# # YOUR CODE HERE\n",
    "# takes roughly 10 mins to run\n",
    "from pprint import pprint\n",
    "fig, axes = plt.subplots(2, 4, figsize=(14, 8), sharey=False)\n",
    "axes = axes.flatten()\n",
    "\n",
    "# need this to make side by side bars\n",
    "N = len(list_of_sem_search_fns) // 2\n",
    "method_loc = np.arange(N)\n",
    "bar_width = 0.25\n",
    "\n",
    "vanilla_search_fns = list_of_sem_search_fns[:N]\n",
    "reranked_search_fns = list_of_sem_search_fns[N:]\n",
    "\n",
    "search_fns_map = {\"Vanilla\": vanilla_search_fns, \"Reranked\": reranked_search_fns}\n",
    "\n",
    "for j, mode in enumerate([\"Vanilla\", \"Reranked\"]):\n",
    "    results = {}\n",
    "    print(f\"\\n{mode}\")\n",
    "    \n",
    "    for search_alg, search_fn in search_fns_map[mode]:\n",
    "        # remove _rr from reranked algo's so that the labels match\n",
    "        search_alg = search_alg.replace(\"_rr\", \"\")\n",
    "        results[search_alg] = evaluate_search_fn(search_fn, list_of_metrics)\n",
    "        print(f\"\\t{search_alg}\")\n",
    "        pprint(results[search_alg])\n",
    "\n",
    "    for i, (metric_name, _metric_fn) in enumerate(list_of_metrics):\n",
    "        metric_results = {k: v[metric_name] for k, v in results.items()}\n",
    "\n",
    "        labels = list(metric_results.keys())\n",
    "        values = [metric_results[label] for label in labels]\n",
    "\n",
    "        axes[i].grid(True, which=\"major\", axis=\"y\", alpha=0.35)\n",
    "        if i % 4 == 0:\n",
    "            axes[i].set_ylabel(\"Average Metric Value\")\n",
    "        if j == 0:\n",
    "            axes[i].bar(method_loc, values, bar_width, label=f\"{mode}\")\n",
    "        else:\n",
    "            axes[i].bar(method_loc + bar_width, values, bar_width, label=f\"{mode}\")\n",
    "            axes[i].set_xticks(method_loc + bar_width / 2)\n",
    "            axes[i].set_xticklabels(labels, rotation=30, ha=\"right\")\n",
    "            axes[i].set_title(metric_name)\n",
    "            if i == 7:\n",
    "                axes[i].legend()\n",
    "\n",
    "\n",
    "fig.suptitle(\"Comparison of different Semantic IR algorithms across various Metrics\")\n",
    "fig.tight_layout(rect=[0, 0.03, 1, 0.95])\n",
    "plt.show()\n",
    "\n",
    "\n",
    "# #2nd Plot: Compare semantic search with reranking to models from part 1,\n",
    "# commented out as it is extra work: uncomment and rerun to see (will take time)\n",
    "\n",
    "# fig, axes = plt.subplots(2, 4, figsize=(14, 7), sharey=False)\n",
    "# axes = axes.flatten()\n",
    "\n",
    "# list_of_rerank_sem_search_fns = [\n",
    "#     (\"lsi_rr\", lsi_rerank.search),\n",
    "#     (\"lda_rr\", lda_rerank.search),\n",
    "#     (\"w2v_rr\", w2v_rerank.search),\n",
    "#     # (\"w2v_pretrained_rr\", w2v_pretrained_rerank.search),\n",
    "#     (\"d2v_rr\", d2v_rerank.search),\n",
    "# ]\n",
    "\n",
    "# N = len(list_of_rerank_sem_search_fns + list_of_search_fns)\n",
    "# method_loc = np.arange(N)\n",
    "\n",
    "# results = {}\n",
    "\n",
    "# for i, (search_alg, search_fn) in enumerate(reranked_search_fns + list_of_search_fns):\n",
    "#     if i >= len(list_of_rerank_sem_search_fns):\n",
    "#         results[search_alg] = evaluate_search_fn(\n",
    "#             search_fn, list_of_metrics, index_set=2\n",
    "#         )\n",
    "#     else:\n",
    "#         results[search_alg] = evaluate_search_fn(search_fn, list_of_metrics)\n",
    "\n",
    "# for i, (metric_name, _metric_fn) in enumerate(list_of_metrics):\n",
    "#     metric_results = {k: v[metric_name] for k, v in results.items()}\n",
    "\n",
    "#     labels = list(metric_results.keys())\n",
    "#     values = [metric_results[label] for label in labels]\n",
    "\n",
    "#     axes[i].grid(True, which=\"major\", axis=\"y\", alpha=0.35)\n",
    "#     if i % 4 == 0:\n",
    "#         axes[i].set_ylabel(\"Average Metric Value\")\n",
    "#     axes[i].bar(method_loc, values, bar_width)\n",
    "#     axes[i].set_xticks(method_loc)\n",
    "#     axes[i].set_xticklabels(labels, rotation=45)\n",
    "#     axes[i].set_title(metric_name)\n",
    "\n",
    "# fig.suptitle(\"Comparison between semantic and term-based ranking algorithms\")\n",
    "# fig.tight_layout(rect=[0, 0.03, 1, 0.95])\n",
    "# plt.show()"
   ]
  },
  {
   "cell_type": "markdown",
   "metadata": {
    "cell_id": "00165-821599fc-9264-4123-a542-2b0354dde4f7",
    "deepnote_cell_height": 145.1875,
    "deepnote_cell_type": "markdown",
    "deletable": false,
    "editable": false,
    "nbgrader": {
     "cell_type": "markdown",
     "checksum": "a8a3b6189bdde66704c694d85e38d049",
     "grade": false,
     "grade_id": "cell-deb2ef3daa306e82",
     "locked": true,
     "schema_version": 3,
     "solution": false,
     "task": false
    }
   },
   "source": [
    "### Section 10.2: Summary (20 points)\n",
    "\n",
    "Your summary should compare methods from Part 1 and Part 2 (only for index set 2). State what you expected to see in the results, followed by either supporting evidence *or* justify why the results did not support your expectations. Consider the availability of data, scalability, domain/type of data, etc."
   ]
  },
  {
   "cell_type": "markdown",
   "metadata": {
    "cell_id": "00166-930e721d-9166-4296-ad5c-4c4449f6c99e",
    "deepnote_cell_height": 52.390625,
    "deepnote_cell_type": "markdown",
    "deletable": false,
    "nbgrader": {
     "cell_type": "markdown",
     "checksum": "ff97c43837d10bff6aaffa75e1492887",
     "grade": true,
     "grade_id": "cell-ec5dd7d9cf59dd86",
     "locked": false,
     "points": 20,
     "schema_version": 3,
     "solution": true,
     "task": false
    }
   },
   "source": [
    "1. In general term-based models perform better than semantic ones. This is\n",
    "   somewhat surprising - we would expect that semantic models would be better at\n",
    "   capturing relevance without the need for relevant documents to contain the\n",
    "   exact tokens in the query.\n",
    "   - TODO why do semantic models perform worse?? ->some ideas:\n",
    "     1. pretrained models have been trained on a corpus from a different domain\n",
    "        therefore representations are not as good for current domain.\n",
    "     2. semantic models might be better for much larger corpus with more\n",
    "        documents where words occur more frequently in similar contexts.\n",
    "2. Reranking clearly works better. This might be due to the fact that we first\n",
    "   use term-based models and as discussed in 1. we know that term-based models\n",
    "   perform better in the first place.\n",
    "3. W2V performs very poorly - likely because the corpus is too small for\n",
    "   meaningful representations to be generated for words.\n",
    "4. LSI and LDA perform better than any of the word or document representation\n",
    "   models. Again could be because those methods use SVD for word representation\n",
    "   instead of learning based on data and should therefore be better for a\n",
    "   smaller corpus.\n",
    "\n",
    "## Notes Giulio\n",
    "\n",
    "- Maybe also add the even the pretrained w2v isn't that great, probably because\n",
    "  often words from our documents weren't found in the model, perhaps due to\n",
    "  different preprocessing pipelines or due to lack of finetuning on our end\n",
    "- ngl i dont know much about lda and lsi so hard for me to make other comments\n",
    "  here"
   ]
  }
 ],
 "metadata": {
  "deepnote": {},
  "deepnote_execution_queue": [],
  "deepnote_notebook_id": "13b77af2-2689-4e0d-949d-ce0f01912b71",
  "kernelspec": {
   "display_name": "Python 3",
   "language": "python",
   "name": "python3"
  },
  "language_info": {
   "codemirror_mode": {
    "name": "ipython",
    "version": 3
   },
   "file_extension": ".py",
   "mimetype": "text/x-python",
   "name": "python",
   "nbconvert_exporter": "python",
   "pygments_lexer": "ipython3",
   "version": "3.6.5"
  },
  "toc": {
   "base_numbering": 1,
   "nav_menu": {},
   "number_sections": true,
   "sideBar": true,
   "skip_h1_title": false,
   "title_cell": "Table of Contents",
   "title_sidebar": "Contents",
   "toc_cell": false,
   "toc_position": {},
   "toc_section_display": true,
   "toc_window_display": false
  },
  "toc-autonumbering": false
 },
 "nbformat": 4,
 "nbformat_minor": 4
}
