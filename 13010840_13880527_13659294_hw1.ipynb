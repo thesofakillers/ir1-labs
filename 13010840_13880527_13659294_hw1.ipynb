{
 "cells": [
  {
   "cell_type": "markdown",
   "metadata": {
    "cell_id": "2506602b-e699-4ea6-9aa5-4cb13cc4f3c0",
    "deepnote_cell_height": 824,
    "deepnote_cell_type": "markdown",
    "deletable": false,
    "editable": false,
    "nbgrader": {
     "cell_type": "markdown",
     "checksum": "1bba455de8bc2825ca70469169bbadaa",
     "grade": false,
     "grade_id": "cell-c9cd9e550239e812",
     "locked": true,
     "schema_version": 3,
     "solution": false,
     "task": false
    }
   },
   "source": [
    "# Homework 1 (Total Points: 250) <a class=\"anchor\" id=\"top\"></a>\n",
    "\n",
    "\n",
    "**Submission instructions**:\n",
    "- The cells with the `# YOUR CODE HERE` denote that these sections are graded and you need to add your implementation.\n",
    "- For Part 1: You can use the `nltk`, `NumPy`, and `matplotlib` libraries here. Other libraries, e.g., `gensim` or `scikit-learn`, may not be used. For Part 2: `gensim` is allowed in addition to the imported libraries in the next code cell\n",
    "- Please use Python 3.6.5 and `pip install -r requirements.txt` to avoid version issues.\n",
    "- The notebook you submit has to have the student ids, separated by underscores (E.g., `12341234_12341234_12341234_hw1.ipynb`).\n",
    "- This will be parsed by a regexp, **so please double check your filename**.\n",
    "- Only one member of each group has to submit the file (**please do not compress the .ipynb file when you will submit it**) to canvas.\n",
    "- **Make sure to check that your notebook runs before submission**. A quick way to do this is to restart the kernel and run all the cells.\n",
    "- Do not change the number of arugments in the given functions.\n",
    "- **Please do not delete/add new cells**. Removing cells **will** lead to grade deduction.\n",
    "- Note, that you are not allowed to use Google Colab.\n",
    "\n",
    "\n",
    "**Learning Goals**:\n",
    "- [Part 1, Term-based matching](#part1) (165 points):\n",
    "    - Learn how to load a dataset and process it.\n",
    "    - Learn how to implement several standard IR methods (TF-IDF, BM25, QL) and understand their weaknesses & strengths.\n",
    "    - Learn how to evaluate IR methods.\n",
    "- [Part 2, Semantic-based matching](#part2) (85 points):\n",
    "    - Learn how to implement vector-space retrieval methods (LSI, LDA).\n",
    "    - Learn how to use LSI and LDA for re-ranking.\n",
    "\n",
    "\n",
    "**Resources**:\n",
    "- **Part 1**: Sections 2.3, 4.1, 4.2, 4.3, 5.3, 5.6, 5.7, 6.2, 7, 8 of [Search Engines: Information Retrieval in Practice](https://ciir.cs.umass.edu/downloads/SEIRiP.pdf)\n",
    "- **Part 2**: [LSI - Chapter 18](https://nlp.stanford.edu/IR-book/pdf/18lsi.pdf) from [Introduction to Information Retrieval](https://nlp.stanford.edu/IR-book/) book and the [original LDA paper](https://jmlr.org/papers/volume3/blei03a/blei03a.pdf)"
   ]
  },
  {
   "cell_type": "code",
   "execution_count": 1,
   "metadata": {
    "cell_id": "00001-e743cc22-6da0-404e-8b14-8521799dfd06",
    "deepnote_cell_height": 477,
    "deepnote_cell_type": "code",
    "deepnote_to_be_reexecuted": false,
    "deletable": false,
    "editable": false,
    "execution_millis": 4063,
    "execution_start": 1645186524256,
    "nbgrader": {
     "cell_type": "code",
     "checksum": "c55bfe94ff1f564dd595547e516c4c6e",
     "grade": false,
     "grade_id": "cell-f5357fabdb9660e3",
     "locked": true,
     "schema_version": 3,
     "solution": false,
     "task": false
    },
    "source_hash": "33e174b2"
   },
   "outputs": [],
   "source": [
    "# imports\n",
    "# TODO: Ensure that no additional library is imported in the notebook.\n",
    "# TODO: Only the standard library and the following libraries are allowed:\n",
    "# TODO: You can also use unlisted classes from these libraries or standard libraries (such as defaultdict, Counter, ...).\n",
    "\n",
    "import os\n",
    "import zipfile\n",
    "from functools import partial\n",
    "\n",
    "import nltk\n",
    "import requests\n",
    "import numpy as np\n",
    "from tqdm import tqdm\n",
    "\n",
    "import matplotlib.pyplot as plt\n",
    "from matplotlib.pyplot import cm\n",
    "\n",
    "from ipywidgets import widgets\n",
    "from IPython.display import display, HTML\n",
    "\n",
    "# from IPython.html import widgets\n",
    "from collections import namedtuple\n",
    "\n",
    "%matplotlib inline"
   ]
  },
  {
   "cell_type": "markdown",
   "metadata": {
    "cell_id": "00002-8e715841-7edb-4d33-8595-6680b7d47ad7",
    "deepnote_cell_height": 412.390625,
    "deepnote_cell_type": "markdown",
    "deletable": false,
    "editable": false,
    "nbgrader": {
     "cell_type": "markdown",
     "checksum": "c8328f758ca5b69f76eee03dbbdd4715",
     "grade": false,
     "grade_id": "cell-7428e12ed184408b",
     "locked": true,
     "schema_version": 3,
     "solution": false,
     "task": false
    }
   },
   "source": [
    "\n",
    "# Part 1: Term-based Matching (165 points) <a class=\"anchor\" id=\"part1\"></a>\n",
    "\n",
    "[Back to top](#top)\n",
    "\n",
    "In the first part, we will learn the basics of IR from loading and preprocessing the material, to implementing some well known search algorithms, to evaluating the ranking performance of the implemented algorithms. We will be using the CACM dataset throughout the assignment. The CACM dataset is a collection of titles and abstracts from the journal CACM (Communication of the ACM).\n",
    "\n",
    "Table of contents:\n",
    "- [Section 1: Text Processing](#text_processing) (5 points)\n",
    "- [Section 2: Indexing](#indexing) (10 points)\n",
    "- [Section 3: Ranking](#ranking) (80 points)\n",
    "- [Section 4: Evaluation](#evaluation) (40 points)\n",
    "- [Section 5: Analysis](#analysis) (30 points)\n"
   ]
  },
  {
   "cell_type": "markdown",
   "metadata": {
    "cell_id": "00003-584ac16f-6a3d-441f-a49b-132e6d063b8d",
    "deepnote_cell_height": 412.390625,
    "deepnote_cell_type": "markdown",
    "deletable": false,
    "editable": false,
    "nbgrader": {
     "cell_type": "markdown",
     "checksum": "4e3f938065183dc743aa8254b96b4f5e",
     "grade": false,
     "grade_id": "cell-4b24825cf4ae55ec",
     "locked": true,
     "schema_version": 3,
     "solution": false,
     "task": false
    }
   },
   "source": [
    "---\n",
    "## Section 1: Text Processing (5 points)<a class=\"anchor\" id=\"text_processing\"></a>\n",
    "\n",
    "[Back to Part 1](#part1)\n",
    "\n",
    "In this section, we will load the dataset and learn how to clean up the data to make it usable for an IR system.\n",
    "First, go through the implementation of the following functions:\n",
    "- `read_cacm_docs`: Reads in the CACM documents.\n",
    "- `read_queries`: Reads in the CACM queries.\n",
    "- `load_stopwords`: Loads the stopwords.\n",
    "\n",
    "The points of this section are earned for the following implementations:\n",
    "- `tokenize` (3 points): Tokenizes the input text.\n",
    "- `stem_token` (2 points): Stems the given token.\n",
    "\n",
    "We are using the [CACM dataset](http://ir.dcs.gla.ac.uk/resources/test_collections/cacm/), which is a small, classic IR dataset, composed of a collection of titles and abstracts from the journal CACM. It comes with relevance judgements for queries, so we can evaluate our IR system.\n"
   ]
  },
  {
   "cell_type": "markdown",
   "metadata": {
    "cell_id": "00004-f5f9096a-743b-4587-85d1-fc5628227046",
    "deepnote_cell_height": 109,
    "deepnote_cell_type": "markdown",
    "deletable": false,
    "editable": false,
    "nbgrader": {
     "cell_type": "markdown",
     "checksum": "0155d897c7016389d73d160921947a6f",
     "grade": false,
     "grade_id": "cell-45651364e7af6d5a",
     "locked": true,
     "schema_version": 3,
     "solution": false,
     "task": false
    }
   },
   "source": [
    "---\n",
    "### 1.1 Read the CACM documents\n",
    "\n",
    "\n",
    "The following cell downloads the dataset and unzips it to a local directory."
   ]
  },
  {
   "cell_type": "code",
   "execution_count": 2,
   "metadata": {
    "cell_id": "00005-2240a6e7-e312-4d7a-842b-04b160e1f27e",
    "deepnote_cell_height": 549,
    "deepnote_cell_type": "code",
    "deepnote_to_be_reexecuted": false,
    "deletable": false,
    "editable": false,
    "execution_millis": 161,
    "execution_start": 1645186528335,
    "nbgrader": {
     "cell_type": "code",
     "checksum": "4d43c9ad6e77cc01ce4cef0c34824930",
     "grade": false,
     "grade_id": "cell-bbc3030bb3fe7e02",
     "locked": true,
     "schema_version": 3,
     "solution": false,
     "task": false
    },
    "source_hash": "2753ab21"
   },
   "outputs": [],
   "source": [
    "def download_dataset():\n",
    "    folder_path = os.environ.get(\"IR1_DATA_PATH\")\n",
    "    if not folder_path:\n",
    "        folder_path = \"./datasets/\"\n",
    "    os.makedirs(folder_path, exist_ok=True)\n",
    "\n",
    "    file_location = os.path.join(folder_path, \"cacm.zip\")\n",
    "\n",
    "    # download file if it doesn't exist\n",
    "    if not os.path.exists(file_location):\n",
    "\n",
    "        url = \"https://surfdrive.surf.nl/files/index.php/s/M0FGJpX2p8wDwxR/download\"\n",
    "\n",
    "        with open(file_location, \"wb\") as handle:\n",
    "            print(f\"Downloading file from {url} to {file_location}\")\n",
    "            response = requests.get(url, stream=True)\n",
    "            for data in tqdm(response.iter_content()):\n",
    "                handle.write(data)\n",
    "            print(\"Finished downloading file\")\n",
    "\n",
    "    if not os.path.exists(os.path.join(folder_path, \"train.txt\")):\n",
    "\n",
    "        # unzip file\n",
    "        with zipfile.ZipFile(file_location, \"r\") as zip_ref:\n",
    "            zip_ref.extractall(folder_path)\n",
    "\n",
    "\n",
    "download_dataset()"
   ]
  },
  {
   "cell_type": "markdown",
   "metadata": {
    "cell_id": "00006-c429df2f-f87d-4f2b-9acd-506a563a27ba",
    "deepnote_cell_height": 73,
    "deepnote_cell_type": "markdown",
    "deletable": false,
    "editable": false,
    "nbgrader": {
     "cell_type": "markdown",
     "checksum": "31609b0d61d0c74cbd69bc43e47c23be",
     "grade": false,
     "grade_id": "cell-a7dd9a9bf98ede05",
     "locked": true,
     "schema_version": 3,
     "solution": false,
     "task": false
    }
   },
   "source": [
    "---\n",
    "\n",
    "You can see a brief description of each file in the dataset by looking at the README file:"
   ]
  },
  {
   "cell_type": "code",
   "execution_count": 3,
   "metadata": {
    "cell_id": "00007-95c07c75-3366-4db7-b32e-1d9903085e53",
    "deepnote_cell_height": 487,
    "deepnote_cell_type": "code",
    "deepnote_to_be_reexecuted": false,
    "deletable": false,
    "editable": false,
    "execution_millis": 27,
    "execution_start": 1645186528514,
    "nbgrader": {
     "cell_type": "code",
     "checksum": "cb3c9a2b8b2bf4fd5b7446b0c4c00f43",
     "grade": false,
     "grade_id": "cell-9b6ff1a17124711f",
     "locked": true,
     "schema_version": 3,
     "solution": false,
     "task": false
    },
    "source_hash": "4c0f03ad"
   },
   "outputs": [
    {
     "name": "stdout",
     "output_type": "stream",
     "text": [
      "Files in this directory with sizes:\n",
      "          0 Jun 19 21:01 README\n",
      "\n",
      "    2187734 Jun 19 20:55 cacm.all              text of documents\n",
      "        626 Jun 19 20:58 cite.info             key to citation info\n",
      "                                                (the X sections in cacm.all)\n",
      "       2668 Jun 19 20:55 common_words           stop words used by smart\n",
      "       2194 Jun 19 20:55 make_coll*             shell script to make collection\n",
      "       1557 Jun 19 20:55 make_coll_term*        ditto (both useless without\n",
      "                                                smart system)\n",
      "       9948 Jun 19 20:55 qrels.text             relation giving\n",
      "                                                    qid did 0 0\n",
      "                                                to indicate dument did is\n",
      "                                                relevant to query qid\n",
      "      13689 Jun 19 20:55 query.text             Original text of the query\n",
      "\n"
     ]
    }
   ],
   "source": [
    "##### Read the README file\n",
    "with open(\"./datasets/README\", \"r\") as file:\n",
    "    readme = file.read()\n",
    "    print(readme)\n",
    "#####"
   ]
  },
  {
   "cell_type": "markdown",
   "metadata": {
    "cell_id": "00008-c7944957-2e0e-4d0f-be8e-5b5b0a07c4e0",
    "deepnote_cell_height": 180,
    "deepnote_cell_type": "markdown",
    "deletable": false,
    "editable": false,
    "nbgrader": {
     "cell_type": "markdown",
     "checksum": "6e2712c4c4632bf7486a532f7f18074d",
     "grade": false,
     "grade_id": "cell-73351431869fda76",
     "locked": true,
     "schema_version": 3,
     "solution": false,
     "task": false
    }
   },
   "source": [
    "---\n",
    "We are interested in 4 files:\n",
    "- `cacm.all` : Contains the text for all documents. Note that some documents do not have abstracts available\n",
    "- `query.text` : The text of all queries\n",
    "- `qrels.text` : The relevance judgements\n",
    "- `common_words` : A list of common words. This may be used as a collection of stopwords"
   ]
  },
  {
   "cell_type": "code",
   "execution_count": 4,
   "metadata": {
    "cell_id": "00009-e25d351e-8873-4762-a7b4-b03b83e9e5bb",
    "deepnote_cell_height": 845,
    "deepnote_cell_type": "code",
    "deepnote_to_be_reexecuted": false,
    "deletable": false,
    "editable": false,
    "execution_millis": 26,
    "execution_start": 1645186528538,
    "nbgrader": {
     "cell_type": "code",
     "checksum": "f1162c15177eb4ffe466531d03cff4a2",
     "grade": false,
     "grade_id": "cell-b44dd14079f278ca",
     "locked": true,
     "schema_version": 3,
     "solution": false,
     "task": false
    },
    "source_hash": "febb8f7d"
   },
   "outputs": [
    {
     "name": "stdout",
     "output_type": "stream",
     "text": [
      ".I 1\n",
      ".T\n",
      "Preliminary Report-International Algebraic Language\n",
      ".B\n",
      "CACM December, 1958\n",
      ".A\n",
      "Perlis, A. J.\n",
      "Samelson,K.\n",
      ".N\n",
      "CA581203 JB March 22, 1978  8:28 PM\n",
      ".X\n",
      "100\t5\t1\n",
      "123\t5\t1\n",
      "164\t5\t1\n",
      "1\t5\t1\n",
      "1\t5\t1\n",
      "1\t5\t1\n",
      "205\t5\t1\n",
      "210\t5\t1\n",
      "214\t5\t1\n",
      "1982\t5\t1\n",
      "398\t5\t1\n",
      "642\t5\t1\n",
      "669\t5\t1\n",
      "1\t6\t1\n",
      "1\t6\t1\n",
      "1\t6\t1\n",
      "1\t6\t1\n",
      "1\t6\t1\n",
      "1\t6\t1\n",
      "1\t6\t1\n",
      "1\t6\t1\n",
      "1\t6\t1\n",
      "1\t6\t1\n",
      "165\t6\t1\n",
      "196\t6\t1\n",
      "196\t6\t1\n",
      "1273\t6\t1\n",
      "1883\t6\t1\n",
      "324\t6\t1\n",
      "43\t6\t1\n",
      "53\t6\t1\n",
      "91\t6\t1\n",
      "410\t6\t1\n",
      "3184\t6\t1\n",
      "\n"
     ]
    }
   ],
   "source": [
    "##### The first 45 lines of the CACM dataset forms the first record\n",
    "# We are interested only in 3 fields.\n",
    "# 1. the '.I' field, which is the document id\n",
    "# 2. the '.T' field (the title) and\n",
    "# 3. the '.W' field (the abstract, which may be absent)\n",
    "with open(\"./datasets/cacm.all\", \"r\") as file:\n",
    "    cacm_all = \"\".join(file.readlines()[:45])\n",
    "    print(cacm_all)\n",
    "#####"
   ]
  },
  {
   "cell_type": "markdown",
   "metadata": {
    "cell_id": "00010-d7f469bf-422b-4c8f-b6c8-a7fd61a967cb",
    "deepnote_cell_height": 75.796875,
    "deepnote_cell_type": "markdown",
    "deletable": false,
    "editable": false,
    "nbgrader": {
     "cell_type": "markdown",
     "checksum": "250b413baccd8efb186bb46a34ae0060",
     "grade": false,
     "grade_id": "cell-c4bf2e263ec553d8",
     "locked": true,
     "schema_version": 3,
     "solution": false,
     "task": false
    }
   },
   "source": [
    "---\n",
    "\n",
    "The following function reads the `cacm.all` file. Note that each document has a variable number of lines. The `.I` field denotes a new document:"
   ]
  },
  {
   "cell_type": "code",
   "execution_count": 5,
   "metadata": {
    "cell_id": "00011-d8ec70b0-a73d-4fdc-a8a5-9f3fb8f3ba22",
    "deepnote_cell_height": 1017,
    "deepnote_cell_type": "code",
    "deepnote_to_be_reexecuted": false,
    "deletable": false,
    "editable": false,
    "execution_millis": 0,
    "execution_start": 1645186528613,
    "nbgrader": {
     "cell_type": "code",
     "checksum": "57d757e6a7a6938740dc899022b4f291",
     "grade": false,
     "grade_id": "cell-b736116eb419c624",
     "locked": true,
     "schema_version": 3,
     "solution": false,
     "task": false
    },
    "source_hash": "fa1cfb4d"
   },
   "outputs": [],
   "source": [
    "def read_cacm_docs(root_folder=\"./datasets/\"):\n",
    "    \"\"\"\n",
    "    Reads in the CACM documents. The dataset is assumed to be in the folder \"./datasets/\" by default\n",
    "    Returns: A list of 2-tuples: (doc_id, document), where 'document' is a single string created by\n",
    "        appending the title and abstract (separated by a \"\\n\").\n",
    "        In case the record doesn't have an abstract, the document is composed only by the title\n",
    "    \"\"\"\n",
    "    with open(os.path.join(root_folder, \"cacm.all\")) as reader:\n",
    "        lines = reader.readlines()\n",
    "\n",
    "    doc_id, title, abstract = None, None, None\n",
    "\n",
    "    docs = []\n",
    "    line_idx = 0\n",
    "    while line_idx < len(lines):\n",
    "        line = lines[line_idx]\n",
    "        if line.startswith(\".I\"):\n",
    "            if doc_id is not None:\n",
    "                docs.append((doc_id, title, abstract))\n",
    "                doc_id, title, abstract = None, None, None\n",
    "\n",
    "            doc_id = line.split()[-1]\n",
    "            line_idx += 1\n",
    "        elif line.startswith(\".T\"):\n",
    "            # start at next line\n",
    "            line_idx += 1\n",
    "            temp_lines = []\n",
    "            # read till next '.'\n",
    "            while not lines[line_idx].startswith(\".\"):\n",
    "                temp_lines.append(lines[line_idx].strip(\"\\n\"))\n",
    "                line_idx += 1\n",
    "            title = \"\\n\".join(temp_lines).strip(\"\\n\")\n",
    "        elif line.startswith(\".W\"):\n",
    "            # start at next line\n",
    "            line_idx += 1\n",
    "            temp_lines = []\n",
    "            # read till next '.'\n",
    "            while not lines[line_idx].startswith(\".\"):\n",
    "                temp_lines.append(lines[line_idx].strip(\"\\n\"))\n",
    "                line_idx += 1\n",
    "            abstract = \"\\n\".join(temp_lines).strip(\"\\n\")\n",
    "        else:\n",
    "            line_idx += 1\n",
    "\n",
    "    docs.append((doc_id, title, abstract))\n",
    "\n",
    "    p_docs = []\n",
    "    for (did, t, a) in docs:\n",
    "        if a is None:\n",
    "            a = \"\"\n",
    "        p_docs.append((did, t + \"\\n\" + a))\n",
    "    return p_docs"
   ]
  },
  {
   "cell_type": "code",
   "execution_count": 6,
   "metadata": {
    "cell_id": "00012-13ff3a4b-46f3-4ca8-bc11-8b0c7a9e7c37",
    "deepnote_cell_height": 243,
    "deepnote_cell_type": "code",
    "deepnote_to_be_reexecuted": false,
    "deletable": false,
    "editable": false,
    "execution_millis": 278,
    "execution_start": 1645186528614,
    "nbgrader": {
     "cell_type": "code",
     "checksum": "2f81930fcd89670b6e20e2255e1f2369",
     "grade": false,
     "grade_id": "cell-a1c43818e0d3fd79",
     "locked": true,
     "schema_version": 3,
     "solution": false,
     "task": false
    },
    "source_hash": "2097c72a"
   },
   "outputs": [],
   "source": [
    "##### Function check\n",
    "docs = read_cacm_docs()\n",
    "\n",
    "assert isinstance(docs, list)\n",
    "assert len(docs) == 3204, \"There should be exactly 3204 documents\"\n",
    "\n",
    "unzipped_docs = list(zip(*docs))\n",
    "assert np.sum(np.array(list(map(int, unzipped_docs[0])))) == 5134410\n",
    "\n",
    "#####"
   ]
  },
  {
   "cell_type": "markdown",
   "metadata": {
    "cell_id": "00013-1ff4fce0-2fe6-4b49-b16d-b5c203b29a47",
    "deepnote_cell_height": 102,
    "deepnote_cell_type": "markdown",
    "deletable": false,
    "editable": false,
    "nbgrader": {
     "cell_type": "markdown",
     "checksum": "25fd3cfaf2137c56002b850699b3c9d3",
     "grade": false,
     "grade_id": "cell-5ed2ddc91f73c60e",
     "locked": true,
     "schema_version": 3,
     "solution": false,
     "task": false
    }
   },
   "source": [
    "---\n",
    "### 1.2 Read the CACM queries\n",
    "\n",
    "Next, let us read the queries. They are formatted similarly:"
   ]
  },
  {
   "cell_type": "code",
   "execution_count": 7,
   "metadata": {
    "cell_id": "00014-0bdc1ebf-91a6-4e65-8ced-22256899c96d",
    "deepnote_cell_height": 484.8125,
    "deepnote_cell_type": "code",
    "deepnote_to_be_reexecuted": false,
    "deletable": false,
    "editable": false,
    "execution_millis": 705,
    "execution_start": 1645186528932,
    "nbgrader": {
     "cell_type": "code",
     "checksum": "5d26c0908e758acb9968b84056b1060a",
     "grade": false,
     "grade_id": "cell-5c7e8e7c4fc2757f",
     "locked": true,
     "schema_version": 3,
     "solution": false,
     "task": false
    },
    "source_hash": "77367602"
   },
   "outputs": [
    {
     "name": "stdout",
     "output_type": "stream",
     "text": [
      ".I 1\n",
      ".W\n",
      " What articles exist which deal with TSS (Time Sharing System), an\n",
      "operating system for IBM computers?\n",
      ".N\n",
      " 1. Richard Alexander, Comp Serv, Langmuir Lab (TSS)\n",
      " \n",
      ".I 2\n",
      ".W\n",
      " I am interested in articles written either by Prieve or Udo Pooch\n",
      ".A\n",
      "Prieve, B.\n",
      "Pooch, U.\n",
      ".N\n",
      " 2. Richard Alexander, Comp Serv, Langmuir Lab (author = Pooch or Prieve)\n"
     ]
    }
   ],
   "source": [
    "##### The first 15 lines of 'query.text' has 2 queries\n",
    "# We are interested only in 2 fields.\n",
    "# 1. the '.I' - the query id\n",
    "# 2. the '.W' - the query\n",
    "!head -15 ./datasets/query.text\n",
    "#####"
   ]
  },
  {
   "cell_type": "markdown",
   "metadata": {
    "cell_id": "00015-eceaa8fc-26fc-4d4d-b03e-7eb44f7e89f3",
    "deepnote_cell_height": 73,
    "deepnote_cell_type": "markdown",
    "deletable": false,
    "editable": false,
    "nbgrader": {
     "cell_type": "markdown",
     "checksum": "8f19f311a660f30e3f86cb0f7037d54a",
     "grade": false,
     "grade_id": "cell-88e293507d2dcef6",
     "locked": true,
     "schema_version": 3,
     "solution": false,
     "task": false
    }
   },
   "source": [
    "---\n",
    "\n",
    "The following function reads the `query.text` file:"
   ]
  },
  {
   "cell_type": "code",
   "execution_count": 8,
   "metadata": {
    "cell_id": "00016-2445d62c-60c0-4d48-a540-37dbb0d76726",
    "deepnote_cell_height": 711,
    "deepnote_cell_type": "code",
    "deepnote_to_be_reexecuted": false,
    "deletable": false,
    "editable": false,
    "execution_millis": 26,
    "execution_start": 1645186529390,
    "nbgrader": {
     "cell_type": "code",
     "checksum": "e3fbb193211007672849487f5cff1664",
     "grade": false,
     "grade_id": "cell-433e3ad5d0e2572a",
     "locked": true,
     "schema_version": 3,
     "solution": false,
     "task": false
    },
    "source_hash": "2d5784f8"
   },
   "outputs": [],
   "source": [
    "def read_queries(root_folder=\"./datasets/\"):\n",
    "    \"\"\"\n",
    "    Reads in the CACM queries. The dataset is assumed to be in the folder \"./datasets/\" by default\n",
    "    Returns: A list of 2-tuples: (query_id, query)\n",
    "    \"\"\"\n",
    "    with open(os.path.join(root_folder, \"query.text\")) as reader:\n",
    "        lines = reader.readlines()\n",
    "\n",
    "    query_id, query = None, None\n",
    "\n",
    "    queries = []\n",
    "    line_idx = 0\n",
    "    while line_idx < len(lines):\n",
    "        line = lines[line_idx]\n",
    "        if line.startswith(\".I\"):\n",
    "            if query_id is not None:\n",
    "                queries.append((query_id, query))\n",
    "                query_id, query = None, None\n",
    "\n",
    "            query_id = line.split()[-1]\n",
    "            line_idx += 1\n",
    "        elif line.startswith(\".W\"):\n",
    "            # start at next line\n",
    "            line_idx += 1\n",
    "            temp_lines = []\n",
    "            # read till next '.'\n",
    "            while not lines[line_idx].startswith(\".\"):\n",
    "                temp_lines.append(lines[line_idx].strip(\"\\n\"))\n",
    "                line_idx += 1\n",
    "            query = \"\\n\".join(temp_lines).strip(\"\\n\")\n",
    "        else:\n",
    "            line_idx += 1\n",
    "\n",
    "    queries.append((query_id, query))\n",
    "    return queries"
   ]
  },
  {
   "cell_type": "code",
   "execution_count": 9,
   "metadata": {
    "cell_id": "00017-dc95abe6-036f-4502-89fe-db249a8bbfc4",
    "deepnote_cell_height": 243,
    "deepnote_cell_type": "code",
    "deepnote_to_be_reexecuted": false,
    "deletable": false,
    "editable": false,
    "execution_millis": 12,
    "execution_start": 1645186529424,
    "nbgrader": {
     "cell_type": "code",
     "checksum": "a897b9771b54f447be3418d7246fc4a0",
     "grade": false,
     "grade_id": "cell-6ec540abce66c598",
     "locked": true,
     "schema_version": 3,
     "solution": false,
     "task": false
    },
    "source_hash": "1e048f3c"
   },
   "outputs": [],
   "source": [
    "##### Function check\n",
    "queries = read_queries()\n",
    "\n",
    "assert isinstance(queries, list)\n",
    "assert len(queries) == 64 and all(\n",
    "    [q[1] is not None for q in queries]\n",
    "), \"There should be exactly 64 queries\"\n",
    "\n",
    "unzipped_queries = list(zip(*queries))\n",
    "assert np.sum(np.array(list(map(int, unzipped_queries[0])))) == 2080\n",
    "\n",
    "#####"
   ]
  },
  {
   "cell_type": "markdown",
   "metadata": {
    "cell_id": "00018-9cf3ea3e-f138-4fe8-b91b-c92620441832",
    "deepnote_cell_height": 101.390625,
    "deepnote_cell_type": "markdown",
    "deletable": false,
    "editable": false,
    "nbgrader": {
     "cell_type": "markdown",
     "checksum": "a300c41912ac63b239070b4c15c9f5c5",
     "grade": false,
     "grade_id": "cell-1c31569491d7b782",
     "locked": true,
     "schema_version": 3,
     "solution": false,
     "task": false
    }
   },
   "source": [
    "---\n",
    "### 1.3 Read the stop words\n",
    "\n",
    "We use the common words stored in `common_words`:"
   ]
  },
  {
   "cell_type": "code",
   "execution_count": 10,
   "metadata": {
    "cell_id": "00019-4761ff11-d8b4-4f7b-acbf-6d600cfb2ae6",
    "deepnote_cell_height": 329.875,
    "deepnote_cell_type": "code",
    "deepnote_to_be_reexecuted": false,
    "deletable": false,
    "editable": false,
    "execution_millis": 507,
    "execution_start": 1645186529451,
    "nbgrader": {
     "cell_type": "code",
     "checksum": "1ad6f5bae6a792504c1c8513ae5751ad",
     "grade": false,
     "grade_id": "cell-34bdb63461418a96",
     "locked": true,
     "schema_version": 3,
     "solution": false,
     "task": false
    },
    "source_hash": "dcdd806"
   },
   "outputs": [
    {
     "name": "stdout",
     "output_type": "stream",
     "text": [
      "a\n",
      "about\n",
      "above\n",
      "accordingly\n",
      "across\n",
      "after\n",
      "afterwards\n",
      "again\n",
      "against\n",
      "all\n"
     ]
    }
   ],
   "source": [
    "##### Read the stop words file\n",
    "!head ./datasets/common_words\n",
    "##### Read the README file"
   ]
  },
  {
   "cell_type": "markdown",
   "metadata": {
    "cell_id": "00020-069760f9-d798-4ad6-acfa-e7454a3c3a46",
    "deepnote_cell_height": 73,
    "deepnote_cell_type": "markdown",
    "deletable": false,
    "editable": false,
    "nbgrader": {
     "cell_type": "markdown",
     "checksum": "6d0fe612e770213b6397c2179b07a966",
     "grade": false,
     "grade_id": "cell-4744bde0338895d8",
     "locked": true,
     "schema_version": 3,
     "solution": false,
     "task": false
    }
   },
   "source": [
    "---\n",
    "\n",
    "The following function reads the `common_words` file (For better coverage, we try to keep them in lowercase):"
   ]
  },
  {
   "cell_type": "code",
   "execution_count": 11,
   "metadata": {
    "cell_id": "00021-51bc2922-72bf-4550-a4fb-c1867fa0e652",
    "deepnote_cell_height": 243,
    "deepnote_cell_type": "code",
    "deepnote_to_be_reexecuted": false,
    "deletable": false,
    "editable": false,
    "execution_millis": 9,
    "execution_start": 1645186529974,
    "nbgrader": {
     "cell_type": "code",
     "checksum": "9409713fd26eb0c33587e190638997c4",
     "grade": false,
     "grade_id": "cell-7357aa40f64e5bcb",
     "locked": true,
     "schema_version": 3,
     "solution": false,
     "task": false
    },
    "source_hash": "51ba1eb9"
   },
   "outputs": [],
   "source": [
    "def load_stopwords(root_folder=\"./datasets/\"):\n",
    "    \"\"\"\n",
    "    Loads the stopwords. The dataset is assumed to be in the folder \"./datasets/\" by default\n",
    "    Output: A set of stopwords\n",
    "    \"\"\"\n",
    "    with open(os.path.join(root_folder, \"common_words\")) as reader:\n",
    "        lines = reader.readlines()\n",
    "    stopwords = set([l.strip().lower() for l in lines])\n",
    "    return stopwords"
   ]
  },
  {
   "cell_type": "code",
   "execution_count": 12,
   "metadata": {
    "cell_id": "00022-dda7ebba-cd50-496a-94a3-6c8873e6ba02",
    "deepnote_cell_height": 243,
    "deepnote_cell_type": "code",
    "deepnote_to_be_reexecuted": false,
    "deletable": false,
    "editable": false,
    "execution_millis": 13,
    "execution_start": 1645186529993,
    "lines_to_next_cell": 2,
    "nbgrader": {
     "cell_type": "code",
     "checksum": "f1c8153c3c38133bc2db6e7b076ad470",
     "grade": false,
     "grade_id": "cell-2ca3ac162004de97",
     "locked": true,
     "schema_version": 3,
     "solution": false,
     "task": false
    },
    "source_hash": "9447931d"
   },
   "outputs": [],
   "source": [
    "##### Function check\n",
    "stopwords = load_stopwords()\n",
    "\n",
    "assert isinstance(stopwords, set)\n",
    "assert len(stopwords) == 428, \"There should be exactly 428 stop words\"\n",
    "\n",
    "assert np.sum(np.array(list(map(len, stopwords)))) == 2234\n",
    "\n",
    "#####"
   ]
  },
  {
   "cell_type": "markdown",
   "metadata": {
    "cell_id": "00023-02a21236-0c4b-4910-9573-63f1698beaf3",
    "deepnote_cell_height": 145,
    "deepnote_cell_type": "markdown",
    "deletable": false,
    "editable": false,
    "nbgrader": {
     "cell_type": "markdown",
     "checksum": "92c1191e9e7291dcf0d70dc67b907a65",
     "grade": false,
     "grade_id": "cell-134b72872f4300cb",
     "locked": true,
     "schema_version": 3,
     "solution": false,
     "task": false
    }
   },
   "source": [
    "---\n",
    "### 1.4 Tokenization (3 points)\n",
    "\n",
    "We can now write some basic text processing functions.\n",
    "A first step is to tokenize the text.\n",
    "\n",
    "**Note**: Use the  `WordPunctTokenizer` available in the `nltk` library:"
   ]
  },
  {
   "cell_type": "code",
   "execution_count": 13,
   "metadata": {
    "cell_id": "00024-20a3377b-ad24-430a-82d5-e091938ed1fd",
    "deepnote_cell_height": 261,
    "deepnote_cell_type": "code",
    "deepnote_to_be_reexecuted": false,
    "deletable": false,
    "execution_millis": 11,
    "execution_start": 1645186530014,
    "nbgrader": {
     "cell_type": "code",
     "checksum": "3f5564d3c75bf22fbf832b3a9b938f37",
     "grade": false,
     "grade_id": "cell-322be4c9499bdc4b",
     "locked": false,
     "schema_version": 3,
     "solution": true,
     "task": false
    },
    "source_hash": "bd78cb4e"
   },
   "outputs": [],
   "source": [
    "# TODO: Implement this! (4 points)\n",
    "def tokenize(text):\n",
    "    \"\"\"\n",
    "    Tokenizes the input text. Use the WordPunctTokenizer\n",
    "    Input: text - a string\n",
    "    Output: a list of tokens\n",
    "    \"\"\"\n",
    "    # YOUR CODE HERE\n",
    "\n",
    "    tk = nltk.WordPunctTokenizer()\n",
    "    return tk.tokenize(text)"
   ]
  },
  {
   "cell_type": "code",
   "execution_count": 14,
   "metadata": {
    "cell_id": "00025-0c49633e-d8dd-4c28-ac8d-9576e19b544d",
    "deepnote_cell_height": 274.1875,
    "deepnote_cell_type": "code",
    "deepnote_to_be_reexecuted": false,
    "deletable": false,
    "editable": false,
    "execution_millis": 54,
    "execution_start": 1645186530041,
    "nbgrader": {
     "cell_type": "code",
     "checksum": "e15af22c4d8ae0a3f9dac43bef7097ec",
     "grade": true,
     "grade_id": "cell-7fbf48bf7541a622",
     "locked": true,
     "points": 3,
     "schema_version": 3,
     "solution": false,
     "task": false
    },
    "source_hash": "f61c33ef"
   },
   "outputs": [
    {
     "name": "stdout",
     "output_type": "stream",
     "text": [
      "['the', 'quick', 'brown', 'fox', 'jumps', 'over', 'the', 'lazy', 'dog']\n"
     ]
    }
   ],
   "source": [
    "##### Function check\n",
    "text = \"the quick brown fox jumps over the lazy dog\"\n",
    "tokens = tokenize(text)\n",
    "\n",
    "assert isinstance(tokens, list)\n",
    "assert len(tokens) == 9\n",
    "\n",
    "print(tokens)\n",
    "# output: ['the', 'quick', 'brown', 'fox', 'jumps', 'over', 'the', 'lazy', 'dog']\n",
    "#####"
   ]
  },
  {
   "cell_type": "markdown",
   "metadata": {
    "cell_id": "00026-a6caa299-880e-4184-b7bd-5732cfcf3e9c",
    "deepnote_cell_height": 109,
    "deepnote_cell_type": "markdown",
    "deletable": false,
    "editable": false,
    "nbgrader": {
     "cell_type": "markdown",
     "checksum": "34210618bff4cb47aad2f03cb4b9854c",
     "grade": false,
     "grade_id": "cell-fd1b98ae61b697ca",
     "locked": true,
     "schema_version": 3,
     "solution": false,
     "task": false
    }
   },
   "source": [
    "---\n",
    "### 1.5 Stemming (2 points)\n",
    "\n",
    "Write a function to stem tokens.\n",
    "Again, you can use the nltk library for this:"
   ]
  },
  {
   "cell_type": "code",
   "execution_count": 15,
   "metadata": {
    "cell_id": "00027-57678786-6fcf-4e83-b285-1e3a44cb6ecb",
    "deepnote_cell_height": 225,
    "deepnote_cell_type": "code",
    "deepnote_to_be_reexecuted": false,
    "deletable": false,
    "execution_millis": 0,
    "execution_start": 1645186530093,
    "nbgrader": {
     "cell_type": "code",
     "checksum": "1c4a6aa979d66158c7b6b992af43293a",
     "grade": false,
     "grade_id": "cell-e3f6c8e3f874b28d",
     "locked": false,
     "schema_version": 3,
     "solution": true,
     "task": false
    },
    "source_hash": "e2a034fd"
   },
   "outputs": [],
   "source": [
    "# TODO: Implement this! (3 points)\n",
    "def stem_token(token):\n",
    "    \"\"\"\n",
    "    Stems the given token using the PorterStemmer from the nltk library\n",
    "    Input: a single token\n",
    "    Output: the stem of the token\n",
    "    \"\"\"\n",
    "    stemmer = nltk.stem.PorterStemmer()\n",
    "    return stemmer.stem(token)"
   ]
  },
  {
   "cell_type": "code",
   "execution_count": 16,
   "metadata": {
    "cell_id": "00028-4d95bdd0-4345-4198-aa73-21d2d2ec2b85",
    "deepnote_cell_height": 153,
    "deepnote_cell_type": "code",
    "deepnote_to_be_reexecuted": false,
    "deletable": false,
    "editable": false,
    "execution_millis": 0,
    "execution_start": 1645186530094,
    "nbgrader": {
     "cell_type": "code",
     "checksum": "9363b4f09b556d424d9c895d4ab57b1c",
     "grade": true,
     "grade_id": "cell-cd6863e6ee6ed205",
     "locked": true,
     "points": 2,
     "schema_version": 3,
     "solution": false,
     "task": false
    },
    "source_hash": "3fc993b6"
   },
   "outputs": [],
   "source": [
    "##### Function check\n",
    "\n",
    "assert stem_token(\"owned\") == \"own\"\n",
    "assert stem_token(\"itemization\") == \"item\"\n",
    "#####"
   ]
  },
  {
   "cell_type": "markdown",
   "metadata": {
    "cell_id": "00029-e536d93c-8362-48e7-bfc2-906702746aef",
    "deepnote_cell_height": 123.796875,
    "deepnote_cell_type": "markdown",
    "deletable": false,
    "editable": false,
    "nbgrader": {
     "cell_type": "markdown",
     "checksum": "0b311d014146da6afa1d39542fab9869",
     "grade": false,
     "grade_id": "cell-47c9f90498699110",
     "locked": true,
     "schema_version": 3,
     "solution": false,
     "task": false
    }
   },
   "source": [
    "---\n",
    "### 1.6 Summary\n",
    "\n",
    "The following function puts it all together. Given an input string, this functions tokenizes and processes it according to the flags that you set."
   ]
  },
  {
   "cell_type": "code",
   "execution_count": 17,
   "metadata": {
    "cell_id": "00030-31b7404f-596c-4622-9100-0bc4ab089ea7",
    "deepnote_cell_height": 333,
    "deepnote_cell_type": "code",
    "deepnote_to_be_reexecuted": false,
    "deletable": false,
    "editable": false,
    "execution_millis": 0,
    "execution_start": 1645186530137,
    "lines_to_next_cell": 2,
    "nbgrader": {
     "cell_type": "code",
     "checksum": "2ff2d215ee8e0039c5a91fd3de12e6bd",
     "grade": false,
     "grade_id": "cell-dd0d3f46b30801da",
     "locked": true,
     "schema_version": 3,
     "solution": false,
     "task": false
    },
    "source_hash": "c4811d1d"
   },
   "outputs": [],
   "source": [
    "#### Putting it all together\n",
    "def process_text(text, stem=False, remove_stopwords=False, lowercase_text=False):\n",
    "\n",
    "    tokens = []\n",
    "    for token in tokenize(text):\n",
    "        if remove_stopwords and token.lower() in stopwords:\n",
    "            continue\n",
    "        if stem:\n",
    "            token = stem_token(token)\n",
    "        if lowercase_text:\n",
    "            token = token.lower()\n",
    "        tokens.append(token)\n",
    "\n",
    "    return tokens\n",
    "\n",
    "\n",
    "####"
   ]
  },
  {
   "cell_type": "markdown",
   "metadata": {
    "cell_id": "00031-9539610f-160b-4b6d-a351-9bd434d6c9ea",
    "deepnote_cell_height": 91,
    "deepnote_cell_type": "markdown",
    "deletable": false,
    "editable": false,
    "nbgrader": {
     "cell_type": "markdown",
     "checksum": "02d433b18eb43654fa4306a7bf55b190",
     "grade": false,
     "grade_id": "cell-8d885bfd2edd43ae",
     "locked": true,
     "schema_version": 3,
     "solution": false,
     "task": false
    }
   },
   "source": [
    "---\n",
    "\n",
    "Let's create two sets of preprocessed documents.\n",
    "We can process the documents and queries according to these two configurations:"
   ]
  },
  {
   "cell_type": "code",
   "execution_count": 18,
   "metadata": {
    "cell_id": "00032-c5510010-2967-4ace-b12f-1e9e8118e3b4",
    "deepnote_cell_height": 513,
    "deepnote_cell_type": "code",
    "deepnote_to_be_reexecuted": false,
    "deletable": false,
    "editable": false,
    "execution_millis": 7882,
    "execution_start": 1645186530149,
    "nbgrader": {
     "cell_type": "code",
     "checksum": "dbe4ca667be6842fdcf512fbcad50c7f",
     "grade": false,
     "grade_id": "cell-d427365ee0fb21d8",
     "locked": true,
     "schema_version": 3,
     "solution": false,
     "task": false
    },
    "source_hash": "f953b790"
   },
   "outputs": [],
   "source": [
    "# In this configuration:\n",
    "# Don't preprocess the text, except to tokenize\n",
    "config_1 = {\"stem\": False, \"remove_stopwords\": False, \"lowercase_text\": True}\n",
    "\n",
    "\n",
    "# In this configuration:\n",
    "# Preprocess the text, stem and remove stopwords\n",
    "config_2 = {\n",
    "    \"stem\": True,\n",
    "    \"remove_stopwords\": True,\n",
    "    \"lowercase_text\": True,\n",
    "}\n",
    "\n",
    "####\n",
    "doc_repr_1 = []\n",
    "doc_repr_2 = []\n",
    "for (doc_id, document) in docs:\n",
    "    doc_repr_1.append((doc_id, process_text(document, **config_1)))\n",
    "    doc_repr_2.append((doc_id, process_text(document, **config_2)))\n",
    "\n",
    "####"
   ]
  },
  {
   "cell_type": "markdown",
   "metadata": {
    "cell_id": "00033-f33e20e5-c218-4e92-9c23-845b4e42997e",
    "deepnote_cell_height": 415,
    "deepnote_cell_type": "markdown",
    "deletable": false,
    "editable": false,
    "nbgrader": {
     "cell_type": "markdown",
     "checksum": "b60589aac19e80941d860d9b3f1e9a16",
     "grade": false,
     "grade_id": "cell-b1c102db61ae7495",
     "locked": true,
     "schema_version": 3,
     "solution": false,
     "task": false
    }
   },
   "source": [
    "---\n",
    "\n",
    "## Section 2: Indexing (10 points)<a class=\"anchor\" id=\"indexing\"></a>\n",
    "\n",
    "[Back to Part 1](#part1)\n",
    "\n",
    "\n",
    "\n",
    "A retrieval function usually takes in a query document pair, and scores a query against a document.  Our document set is quite small - just a few thousand documents. However, consider a web-scale dataset with a few million documents. In such a scenario, it would become infeasible to score every query and document pair. In such a case, we can build an inverted index. From Wikipedia:\n",
    "\n",
    "> ... , an inverted index (also referred to as a postings file or inverted file) is a database index storing a mapping from content, such as words or numbers, to its locations in a table, .... The purpose of an inverted index is to allow fast full-text searches, at a cost of increased processing when a document is added to the database. ...\n",
    "\n",
    "\n",
    "Consider a simple inverted index, which maps from word to document. This can improve the performance of a retrieval system significantly. In this assignment, we consider a *simple* inverted index, which maps a word to a set of documents. In practice, however, more complex indices might be used.\n"
   ]
  },
  {
   "cell_type": "markdown",
   "metadata": {
    "cell_id": "00034-e0be6b84-2eca-463d-9411-0a876fee2070",
    "deepnote_cell_height": 181.59375,
    "deepnote_cell_type": "markdown",
    "deletable": false,
    "editable": false,
    "nbgrader": {
     "cell_type": "markdown",
     "checksum": "710fd943f45523ac36fcb887cc0d4d39",
     "grade": false,
     "grade_id": "cell-fa373192c1b7bb95",
     "locked": true,
     "schema_version": 3,
     "solution": false,
     "task": false
    }
   },
   "source": [
    "### 2.1 Term Frequency-index (10 points)\n",
    "In this assignment, we will be using an index created in memory since our dataset is tiny. To get started, build a simple index that maps each `token` to a list of `(doc_id, count)` where `count` is the count of the `token` in `doc_id`.\n",
    "For consistency, build this index using a python dictionary.\n",
    "\n",
    "Now, implement a function to build an index:"
   ]
  },
  {
   "cell_type": "code",
   "execution_count": 19,
   "metadata": {
    "cell_id": "00035-e27ae026-b063-450a-8cb5-6336175b5cb0",
    "deepnote_cell_height": 495,
    "deepnote_cell_type": "code",
    "deepnote_to_be_reexecuted": false,
    "deletable": false,
    "execution_millis": 8,
    "execution_start": 1645186538048,
    "nbgrader": {
     "cell_type": "code",
     "checksum": "d4e8c6b658c469379d5fe511de05b536",
     "grade": false,
     "grade_id": "cell-077599b87e953209",
     "locked": false,
     "schema_version": 3,
     "solution": true,
     "task": false
    },
    "source_hash": "b7da36f"
   },
   "outputs": [],
   "source": [
    "# need defaultdict to handle cases when queried word is missing from our documents\n",
    "# https://piazza.com/class/kyiksrdfk0b6te?cid=38\n",
    "# https://piazza.com/class/kyiksrdfk0b6te?cid=39\n",
    "from collections import defaultdict\n",
    "\n",
    "# TODO: Implement this! (10 points)\n",
    "def build_tf_index(documents):\n",
    "    \"\"\"\n",
    "    Build an inverted index (with counts).\n",
    "    The output is a dictionary which takes in a token and\n",
    "    returns a list of (doc_id, count)\n",
    "    where 'count' is the count of the 'token' in 'doc_id'\n",
    "\n",
    "    Input: a list of documents - (doc_id, tokens)\n",
    "    Output: An inverted index implemented within a pyhton dictionary:\n",
    "        [token] -> [(doc_id, token_count)]\n",
    "    \"\"\"\n",
    "    # YOUR CODE HERE\n",
    "    tf_index = defaultdict(list)\n",
    "    for doc_id, tokens in documents:\n",
    "        tokens_set = set(tokens)\n",
    "        for token in tokens_set:\n",
    "            tf_index[token].append((doc_id, tokens.count(token)))\n",
    "    return tf_index"
   ]
  },
  {
   "cell_type": "markdown",
   "metadata": {
    "cell_id": "00036-4124a1b7-00df-4a57-861c-2e9cd705ce17",
    "deepnote_cell_height": 55,
    "deepnote_cell_type": "markdown",
    "deletable": false,
    "editable": false,
    "nbgrader": {
     "cell_type": "markdown",
     "checksum": "15e7041b4323d2a290322de538ff7670",
     "grade": false,
     "grade_id": "cell-093aebfa504f96f2",
     "locked": true,
     "schema_version": 3,
     "solution": false,
     "task": false
    }
   },
   "source": [
    "---\n",
    "Now we can build indexed documents and preprocess the queries based on the two configurations:"
   ]
  },
  {
   "cell_type": "code",
   "execution_count": 20,
   "metadata": {
    "cell_id": "00037-db077994-3c24-4f9b-a642-d416e54c8d1e",
    "deepnote_cell_height": 531,
    "deepnote_cell_type": "code",
    "deepnote_to_be_reexecuted": false,
    "deletable": false,
    "editable": false,
    "execution_millis": 845,
    "execution_start": 1645186538116,
    "lines_to_next_cell": 2,
    "nbgrader": {
     "cell_type": "code",
     "checksum": "e27540c1d8d77a3779a05f557f3f40c6",
     "grade": false,
     "grade_id": "cell-b2ff1676348b90a8",
     "locked": true,
     "schema_version": 3,
     "solution": false,
     "task": false
    },
    "source_hash": "2d1fa9f3"
   },
   "outputs": [],
   "source": [
    "#### Indexed documents based on the two configs\n",
    "\n",
    "# Create the 2 indices\n",
    "tf_index_1 = build_tf_index(doc_repr_1)\n",
    "tf_index_2 = build_tf_index(doc_repr_2)\n",
    "\n",
    "# This function returns the tf_index of the corresponding config\n",
    "def get_index(index_set):\n",
    "    assert index_set in {1, 2}\n",
    "    return {1: tf_index_1, 2: tf_index_2}[index_set]\n",
    "\n",
    "\n",
    "####\n",
    "#### Preprocessed query based on the two configs\n",
    "\n",
    "# This function preprocesses the text given the index set, according to the specified config\n",
    "def preprocess_query(text, index_set):\n",
    "    assert index_set in {1, 2}\n",
    "    if index_set == 1:\n",
    "        return process_text(text, **config_1)\n",
    "    elif index_set == 2:\n",
    "        return process_text(text, **config_2)\n",
    "\n",
    "\n",
    "####"
   ]
  },
  {
   "cell_type": "code",
   "execution_count": 21,
   "metadata": {
    "cell_id": "00038-fb5a08f4-5f40-4923-a62b-02af9b853e1f",
    "deepnote_cell_height": 298.375,
    "deepnote_cell_type": "code",
    "deepnote_to_be_reexecuted": false,
    "deletable": false,
    "editable": false,
    "execution_millis": 11244305,
    "execution_start": 1645186538979,
    "nbgrader": {
     "cell_type": "code",
     "checksum": "f0cbc8703e1248cd6edf03f9019b69db",
     "grade": true,
     "grade_id": "cell-fc7c7232d5d2ee46",
     "locked": true,
     "points": 5,
     "schema_version": 3,
     "solution": false,
     "task": false
    },
    "source_hash": "2220f2b7"
   },
   "outputs": [
    {
     "name": "stdout",
     "output_type": "stream",
     "text": [
      "sample tf index for computer: [('4', 1), ('7', 1), ('10', 1), ('13', 1), ('19', 1), ('22', 1), ('23', 1), ('37', 1), ('40', 3), ('41', 1)]\n",
      "sample tf index for examples: [('111', 1), ('320', 1), ('644', 1), ('691', 1), ('727', 1), ('848', 1), ('892', 1), ('893', 1), ('1049', 1), ('1051', 1)]\n"
     ]
    }
   ],
   "source": [
    "##### Function check\n",
    "\n",
    "assert isinstance(tf_index_1, dict)\n",
    "\n",
    "assert isinstance(tf_index_1[\"computer\"], list)\n",
    "print(\"sample tf index for computer:\", tf_index_1[\"computer\"][:10])\n",
    "\n",
    "assert isinstance(tf_index_1[\"examples\"], list)\n",
    "print(\"sample tf index for examples:\", tf_index_1[\"examples\"][:10])\n",
    "####"
   ]
  },
  {
   "cell_type": "code",
   "execution_count": 22,
   "metadata": {
    "cell_id": "00039-0f63d80d-3d2c-4ed8-b1a3-ef57df6a812d",
    "deepnote_cell_height": 298.375,
    "deepnote_cell_type": "code",
    "deepnote_to_be_reexecuted": false,
    "deletable": false,
    "editable": false,
    "execution_millis": 11244324,
    "execution_start": 1645186539032,
    "nbgrader": {
     "cell_type": "code",
     "checksum": "d49b8ac36815d9a5cb4bed838ab53a50",
     "grade": true,
     "grade_id": "cell-ff06bd11204db250",
     "locked": true,
     "points": 5,
     "schema_version": 3,
     "solution": false,
     "task": false
    },
    "source_hash": "cfcc3871"
   },
   "outputs": [
    {
     "name": "stdout",
     "output_type": "stream",
     "text": [
      "sample tf index for computer: [('4', 1), ('7', 1), ('10', 1), ('13', 1), ('19', 1), ('22', 1), ('23', 1), ('37', 1), ('40', 3), ('41', 1)]\n",
      "sample tf index for examples: []\n"
     ]
    }
   ],
   "source": [
    "##### Function check\n",
    "\n",
    "assert isinstance(tf_index_2, dict)\n",
    "\n",
    "assert isinstance(tf_index_2[\"computer\"], list)\n",
    "print(\"sample tf index for computer:\", tf_index_1[\"computer\"][:10])\n",
    "\n",
    "assert isinstance(tf_index_2[\"examples\"], list)\n",
    "print(\"sample tf index for examples:\", tf_index_2[\"examples\"][:10])\n",
    "####"
   ]
  },
  {
   "cell_type": "markdown",
   "metadata": {
    "cell_id": "00040-06978f59-9c49-41bf-86fa-2ce4ff5666a1",
    "deepnote_cell_height": 493.59375,
    "deepnote_cell_type": "markdown",
    "deletable": false,
    "editable": false,
    "nbgrader": {
     "cell_type": "markdown",
     "checksum": "880b2ef3ca405f2af6e0667d2dc7a600",
     "grade": false,
     "grade_id": "cell-89eba71f04310291",
     "locked": true,
     "schema_version": 3,
     "solution": false,
     "task": false
    }
   },
   "source": [
    "\n",
    "---\n",
    "## Section 3: Ranking  (80 points) <a class=\"anchor\" id=\"ranking\"></a>\n",
    "\n",
    "[Back to Part 1](#part1)\n",
    "\n",
    "Now that we have cleaned and processed our dataset, we can start building simple IR systems.\n",
    "\n",
    "For now, we consider *simple* IR systems, which involve computing scores from the tokens present in the document/query. More advanced methods are covered in later assignments.\n",
    "\n",
    "We will implement the following methods in this section:\n",
    "- [Section 3.1: Bag of Words](#bow) (10 points)\n",
    "- [Section 3.2: TF-IDF](#tfidf) (15 points)\n",
    "- [Section 3.3: Query Likelihood Model](#qlm) (35 points)\n",
    "- [Section 3.4: BM25](#bm25) (20 points)\n",
    "\n",
    "*All search functions should be able to handle multiple words queries.*\n",
    "\n",
    "**Scoring policy:**\n",
    "Your implementations in this section are scored based on the expected performance of your ranking functions.\n",
    "You will get a full mark if your implementation meets the expected performance (measured by some evaluation metric).\n",
    "Otherwise, you may get partial credit.\n",
    "For example, if your *Bag of words* ranking function has 60% of expected performance, you will get 6 out of 10."
   ]
  },
  {
   "cell_type": "markdown",
   "metadata": {
    "cell_id": "00041-95b4f50b-25e3-4bfc-853e-458b38aa6f80",
    "deepnote_cell_height": 250.375,
    "deepnote_cell_type": "markdown",
    "deletable": false,
    "editable": false,
    "nbgrader": {
     "cell_type": "markdown",
     "checksum": "6c74e5061917358300c6e8085ec07864",
     "grade": false,
     "grade_id": "cell-3daf70a60e393adf",
     "locked": true,
     "schema_version": 3,
     "solution": false,
     "task": false
    }
   },
   "source": [
    "---\n",
    "\n",
    "### Section 3.1: Bag of Words (10 points)<a class=\"anchor\" id=\"bow\"></a>\n",
    "\n",
    "Probably the simplest IR model is the Bag of Words (BOW) model.\n",
    "Implement a function that scores and ranks all the documents against a query using this model.\n",
    "\n",
    "- For consistency, you should use the count of the token and **not** the binary indicator.\n",
    "- Use `float` type for the scores (even though the scores are integers in this case).\n",
    "- No normalization of the scores is necessary, as the ordering is what we are interested in.\n",
    "- If two documents have the same score, they can have any ordering: you are not required to disambiguate.\n"
   ]
  },
  {
   "cell_type": "code",
   "execution_count": 23,
   "metadata": {
    "cell_id": "00042-78747ee0-9c14-474c-ab83-0bb691fe4f4f",
    "deepnote_cell_height": 513,
    "deepnote_cell_type": "code",
    "deepnote_to_be_reexecuted": false,
    "deletable": false,
    "execution_millis": 11244305,
    "execution_start": 1645186539076,
    "nbgrader": {
     "cell_type": "code",
     "checksum": "fee4640e22bfc4f05eb958a675ef40e7",
     "grade": false,
     "grade_id": "cell-de9cf0459c4b9324",
     "locked": false,
     "schema_version": 3,
     "solution": true,
     "task": false
    },
    "source_hash": "15c8e32"
   },
   "outputs": [],
   "source": [
    "# TODO: Implement this! (10 points)\n",
    "def bow_search(query, index_set):\n",
    "    \"\"\"\n",
    "    Perform a search over all documents with the given query.\n",
    "    Note: You have to use the `get_index` function created in the previous cells\n",
    "    Input:\n",
    "        query - a (unprocessed) query\n",
    "        index_set - the index to use\n",
    "    Output: a list of (document_id, score),\n",
    "        sorted in descending relevance to the given query.\n",
    "    \"\"\"\n",
    "    index = get_index(index_set)\n",
    "    processed_query = preprocess_query(query, index_set)\n",
    "\n",
    "    # YOUR CODE HERE\n",
    "    # total count per document\n",
    "    documents = defaultdict(float)\n",
    "    for token in processed_query:\n",
    "        for document_id, token_count in index[token]:\n",
    "            # aggregate counts of this token across all documents\n",
    "            documents[document_id] += token_count\n",
    "    # convert documents to list and sort descending\n",
    "    documents = sorted(list(documents.items()), key=lambda x: x[1], reverse=True)\n",
    "    return documents"
   ]
  },
  {
   "cell_type": "code",
   "execution_count": 24,
   "metadata": {
    "cell_id": "00043-a779ed03-89a7-4a9b-8bf4-e356d3146ecd",
    "deepnote_cell_height": 225,
    "deepnote_cell_type": "code",
    "deepnote_to_be_reexecuted": false,
    "deletable": false,
    "editable": false,
    "execution_millis": 11244335,
    "execution_start": 1645186539129,
    "nbgrader": {
     "cell_type": "code",
     "checksum": "613524fbbf02b1d122c6611a71fbf11b",
     "grade": true,
     "grade_id": "cell-9f6aceae6dd9125f",
     "locked": true,
     "points": 2,
     "schema_version": 3,
     "solution": false,
     "task": false
    },
    "source_hash": "a4e9855b"
   },
   "outputs": [],
   "source": [
    "#### Function check\n",
    "\n",
    "test_bow = bow_search(\"how to implement bag of words search\", index_set=1)[:5]\n",
    "assert isinstance(test_bow, list)\n",
    "assert len(test_bow[0]) == 2\n",
    "assert isinstance(test_bow[0][0], str)\n",
    "assert isinstance(test_bow[0][1], float)\n",
    "\n",
    "####"
   ]
  },
  {
   "cell_type": "code",
   "execution_count": 25,
   "metadata": {
    "cell_id": "00044-8c0e39e0-03a8-42d9-88c0-9811823ca925",
    "deepnote_cell_height": 393.125,
    "deepnote_cell_type": "code",
    "deepnote_to_be_reexecuted": false,
    "deletable": false,
    "editable": false,
    "execution_millis": 11244410,
    "execution_start": 1645186539130,
    "lines_to_next_cell": 2,
    "nbgrader": {
     "cell_type": "code",
     "checksum": "9af20897659edb62fe77598483590500",
     "grade": true,
     "grade_id": "cell-4eed3abf233d9b58",
     "locked": true,
     "points": 2,
     "schema_version": 3,
     "solution": false,
     "task": false
    },
    "source_hash": "f3e133b9"
   },
   "outputs": [
    {
     "name": "stdout",
     "output_type": "stream",
     "text": [
      "BOW Results:\n",
      "Rank 0(1.3e+01): On Computing The Fast Fourier Transform\\nCooley an...\n",
      "Rank 1(1.2e+01): Variable Length Tree Structures Having Minimum Ave...\n",
      "Rank 2(1.1e+01): A Modular Computer Sharing System\\nAn alternative ...\n",
      "Rank 3(1e+01): PEEKABIT, Computer Offspring of Punched\\nCard PEEK...\n",
      "Rank 4(9.0): Computer Simulation-Discussion of the\\nTechnique a...\n"
     ]
    }
   ],
   "source": [
    "docs_by_id = dict(docs)\n",
    "\n",
    "\n",
    "def print_results(docs, len_limit=50):\n",
    "    for i, (doc_id, score) in enumerate(docs):\n",
    "        doc_content = (\n",
    "            docs_by_id[doc_id].strip().replace(\"\\n\", \"\\\\n\")[:len_limit] + \"...\"\n",
    "        )\n",
    "        print(f\"Rank {i}({score:.2}): {doc_content}\")\n",
    "\n",
    "\n",
    "test_bow_2 = bow_search(\"computer search word\", index_set=2)[:5]\n",
    "print(f\"BOW Results:\")\n",
    "print_results(test_bow_2)"
   ]
  },
  {
   "cell_type": "code",
   "execution_count": 26,
   "metadata": {
    "cell_id": "00045-c576132c-ae55-4ef4-bf93-365a98921a28",
    "deepnote_cell_height": 285.125,
    "deepnote_cell_type": "code",
    "deepnote_to_be_reexecuted": false,
    "deletable": false,
    "editable": false,
    "execution_millis": 2,
    "execution_start": 1645186539173,
    "lines_to_next_cell": 2,
    "nbgrader": {
     "cell_type": "code",
     "checksum": "3c9c8b16c8e7d1032f101e9da8a6e845",
     "grade": true,
     "grade_id": "cell-4d65a2d7090c466c",
     "locked": true,
     "points": 3,
     "schema_version": 3,
     "solution": false,
     "task": false
    },
    "source_hash": "76a29ddf"
   },
   "outputs": [
    {
     "name": "stdout",
     "output_type": "stream",
     "text": [
      "BOW Results:\n",
      "Rank 0(9.0): CURRICULUM 68 -- Recommendations for Academic\\nPro...\n",
      "Rank 1(9.0): Variable Length Tree Structures Having Minimum Ave...\n",
      "Rank 2(7.0): Computer Formulation of the Equations of Motion Us...\n",
      "Rank 3(7.0): The Effects of Multiplexing on a Computer-Communic...\n",
      "Rank 4(6.0): Optimizing Bit-time Computer Simulation\\nA major c...\n"
     ]
    }
   ],
   "source": [
    "test_bow_1 = bow_search(\"computer search word\", index_set=1)[:5]\n",
    "print(f\"BOW Results:\")\n",
    "print_results(test_bow_1)"
   ]
  },
  {
   "cell_type": "code",
   "execution_count": 27,
   "metadata": {
    "cell_id": "00046-5b571ae5-b918-4fbb-ad83-5d5d6669c906",
    "deepnote_cell_height": 168.375,
    "deepnote_cell_type": "code",
    "deepnote_to_be_reexecuted": false,
    "deletable": false,
    "editable": false,
    "execution_millis": 2,
    "execution_start": 1645186539174,
    "nbgrader": {
     "cell_type": "code",
     "checksum": "b7e593847aa4202ae45ec061fb18ad73",
     "grade": true,
     "grade_id": "cell-dedf36ab5853ce20",
     "locked": true,
     "points": 3,
     "schema_version": 3,
     "solution": false,
     "task": false
    },
    "source_hash": "b05098cf"
   },
   "outputs": [
    {
     "name": "stdout",
     "output_type": "stream",
     "text": [
      "top-5 docs for index1: ('1771', '1936', '1543', '2535', '678')\n",
      "top-5 docs for index2: ('1525', '1936', '1844', '1700', '1366')\n"
     ]
    }
   ],
   "source": [
    "print(\"top-5 docs for index1:\", list(zip(*test_bow_1[:5]))[0])\n",
    "print(\"top-5 docs for index2:\", list(zip(*test_bow_2[:5]))[0])"
   ]
  },
  {
   "cell_type": "markdown",
   "metadata": {
    "cell_id": "00047-9898438b-a142-41ea-936e-02202738220e",
    "deepnote_cell_height": 235,
    "deepnote_cell_type": "markdown",
    "deletable": false,
    "editable": false,
    "nbgrader": {
     "cell_type": "markdown",
     "checksum": "b04352ee0716dfdf094b8cdb6f32e984",
     "grade": false,
     "grade_id": "cell-a5c09c79ac1f2871",
     "locked": true,
     "schema_version": 3,
     "solution": false,
     "task": false
    }
   },
   "source": [
    "\n",
    "---\n",
    "\n",
    "### Section 3.2: TF-IDF (15 points) <a class=\"anchor\" id=\"tfidf\"></a>\n",
    "\n",
    "Before we implement the tf-idf scoring functions, let's first write a function to compute the document frequencies of all words.\n",
    "\n",
    "#### 3.2.1 Document frequency (5 points)\n",
    "Compute the document frequencies of all tokens in the collection.\n",
    "Your code should return a dictionary with tokens as its keys and the number of documents containing the token as values.\n",
    "For consistency, the values should have `int` type."
   ]
  },
  {
   "cell_type": "code",
   "execution_count": 28,
   "metadata": {
    "cell_id": "00048-7d15cfba-6fc3-46f2-8fc4-e2ea33b6f8ab",
    "deepnote_cell_height": 333,
    "deepnote_cell_type": "code",
    "deepnote_to_be_reexecuted": false,
    "deletable": false,
    "execution_millis": 11244452,
    "execution_start": 1645186539217,
    "nbgrader": {
     "cell_type": "code",
     "checksum": "5c53263cf4c0b0ffcaae08b91fc364cc",
     "grade": false,
     "grade_id": "cell-9a2369f32e864b8a",
     "locked": false,
     "schema_version": 3,
     "solution": true,
     "task": false
    },
    "source_hash": "da17c69a"
   },
   "outputs": [],
   "source": [
    "# TODO: Implement this! (5 points)\n",
    "def compute_df(documents):\n",
    "    \"\"\"\n",
    "    Compute the document frequency of all terms in the vocabulary\n",
    "    Input: A list of documents\n",
    "    Output: A dictionary with {token: document frequency (int)}\n",
    "    \"\"\"\n",
    "    # YOUR CODE HERE\n",
    "    df_dict = defaultdict(int)\n",
    "    for document in documents:\n",
    "        # we only count a token once per document, so work on the set of unique doc tokens\n",
    "        unique_doc_tokens = set(document)\n",
    "        for token in unique_doc_tokens:\n",
    "            df_dict[token] += 1\n",
    "    return df_dict"
   ]
  },
  {
   "cell_type": "code",
   "execution_count": 29,
   "metadata": {
    "cell_id": "00049-d09fb33d-2d8c-4b8b-aab7-f458f87425f7",
    "deepnote_cell_height": 297,
    "deepnote_cell_type": "code",
    "deepnote_to_be_reexecuted": false,
    "deletable": false,
    "editable": false,
    "execution_millis": 94,
    "execution_start": 1645186539218,
    "lines_to_next_cell": 2,
    "nbgrader": {
     "cell_type": "code",
     "checksum": "154985511d7925c5793a1f97dea81880",
     "grade": false,
     "grade_id": "cell-4c3bddd0b73ac90e",
     "locked": true,
     "schema_version": 3,
     "solution": false,
     "task": false
    },
    "source_hash": "46458dbe"
   },
   "outputs": [],
   "source": [
    "#### Compute df based on the two configs\n",
    "\n",
    "# get the document frequencies of each document\n",
    "df_1 = compute_df([d[1] for d in doc_repr_1])\n",
    "df_2 = compute_df([d[1] for d in doc_repr_2])\n",
    "\n",
    "\n",
    "def get_df(index_set):\n",
    "    assert index_set in {1, 2}\n",
    "    return {1: df_1, 2: df_2}[index_set]\n",
    "\n",
    "\n",
    "####"
   ]
  },
  {
   "cell_type": "code",
   "execution_count": 30,
   "metadata": {
    "cell_id": "00050-0d714f0a-0f10-4e51-be4f-9dc1c0905ca9",
    "deepnote_cell_height": 204.375,
    "deepnote_cell_type": "code",
    "deepnote_to_be_reexecuted": false,
    "deletable": false,
    "editable": false,
    "execution_millis": 422,
    "execution_start": 1645186539327,
    "nbgrader": {
     "cell_type": "code",
     "checksum": "110cc180068cf3f77c682ee3de2a117c",
     "grade": true,
     "grade_id": "cell-79e8a6db1e5fc46f",
     "locked": true,
     "points": 5,
     "schema_version": 3,
     "solution": false,
     "task": false
    },
    "source_hash": "43b9edf4"
   },
   "outputs": [
    {
     "name": "stdout",
     "output_type": "stream",
     "text": [
      "597\n",
      "11\n"
     ]
    }
   ],
   "source": [
    "#### Function check\n",
    "\n",
    "print(df_1[\"computer\"])\n",
    "print(df_2[\"computer\"])\n",
    "####"
   ]
  },
  {
   "cell_type": "markdown",
   "metadata": {
    "cell_id": "00051-7d6233d2-d8c7-4fc4-8207-4bedbd2085af",
    "deepnote_cell_height": 271,
    "deepnote_cell_type": "markdown",
    "deletable": false,
    "editable": false,
    "nbgrader": {
     "cell_type": "markdown",
     "checksum": "d0d577668fa51b80aeab6e67209ae73b",
     "grade": false,
     "grade_id": "cell-52f6acc487e1b96d",
     "locked": true,
     "schema_version": 3,
     "solution": false,
     "task": false
    }
   },
   "source": [
    "---\n",
    "#### 3.2.2 TF-IDF search (10 points)\n",
    "Next, implement a function that computes a tf-idf score, given a query.\n",
    "Use the following formulas for TF and IDF:\n",
    "\n",
    "$$ TF=\\log (1 + f_{d,t}) $$\n",
    "\n",
    "$$ IDF=\\log (\\frac{N}{n_t})$$\n",
    "\n",
    "where $f_{d,t}$ is the frequency of token $t$ in document $d$, $N$ is the number of total documents and $n_t$ is the number of documents containing token $t$.\n",
    "\n",
    "**Note:** your implementation will be auto-graded assuming you have used the above formulas.\n"
   ]
  },
  {
   "cell_type": "code",
   "execution_count": 31,
   "metadata": {
    "cell_id": "00052-d1b23bf4-b5f4-4a82-8df2-d8772e42b73a",
    "deepnote_cell_height": 567,
    "deepnote_cell_type": "code",
    "deepnote_to_be_reexecuted": false,
    "deletable": false,
    "execution_millis": 20,
    "execution_start": 1645186539352,
    "nbgrader": {
     "cell_type": "code",
     "checksum": "3534c44b4a3419ca1db98eebe7115dc1",
     "grade": false,
     "grade_id": "cell-2fb5ba34b2994cd9",
     "locked": false,
     "schema_version": 3,
     "solution": true,
     "task": false
    },
    "source_hash": "1d6e90cb"
   },
   "outputs": [],
   "source": [
    "# TODO: Implement this! (10 points)\n",
    "def tfidf_search(query, index_set):\n",
    "    \"\"\"\n",
    "    Perform a search over all documents with the given query using tf-idf.\n",
    "    Note #1: You have to use the `get_index` (and the `get_df`) function\n",
    "    created in the previous cells\n",
    "    Input:\n",
    "        query - a (unprocessed) query\n",
    "        index_set - the index to use\n",
    "    Output: a list of (document_id, score),\n",
    "        sorted in descending relevance to the given query\n",
    "    \"\"\"\n",
    "    index = get_index(index_set)\n",
    "    df = get_df(index_set)\n",
    "    processed_query = preprocess_query(query, index_set)\n",
    "\n",
    "    N = len(docs)\n",
    "    # YOUR CODE HERE\n",
    "    documents = defaultdict(float)\n",
    "    for token in processed_query:\n",
    "        for document_id, token_count in index[token]:\n",
    "            tf = np.log(1 + token_count)\n",
    "            idf = np.log(N / df[token])\n",
    "            tf_idf = tf * idf\n",
    "            documents[document_id] += tf_idf\n",
    "    # convert documents to list and sort descending\n",
    "    documents = sorted(list(documents.items()), key=lambda x: x[1], reverse=True)\n",
    "    return documents"
   ]
  },
  {
   "cell_type": "code",
   "execution_count": 32,
   "metadata": {
    "cell_id": "00053-487c5ebc-c09b-46d0-9f43-38c4f74264e7",
    "deepnote_cell_height": 225,
    "deepnote_cell_type": "code",
    "deepnote_to_be_reexecuted": false,
    "deletable": false,
    "editable": false,
    "execution_millis": 80,
    "execution_start": 1645186539384,
    "nbgrader": {
     "cell_type": "code",
     "checksum": "7b66a514663d898694b09a23a597312b",
     "grade": true,
     "grade_id": "cell-bc68aeeacf42beb3",
     "locked": true,
     "points": 2,
     "schema_version": 3,
     "solution": false,
     "task": false
    },
    "source_hash": "4907bb8a"
   },
   "outputs": [],
   "source": [
    "#### Function check\n",
    "test_tfidf = tfidf_search(\"how to implement tf idf search\", index_set=1)[:5]\n",
    "assert isinstance(test_tfidf, list)\n",
    "assert len(test_tfidf[0]) == 2\n",
    "assert isinstance(test_tfidf[0][0], str)\n",
    "assert isinstance(test_tfidf[0][1], float)\n",
    "\n",
    "####"
   ]
  },
  {
   "cell_type": "code",
   "execution_count": 33,
   "metadata": {
    "cell_id": "00054-ca226c89-ef3a-464d-aeed-2750ea928db4",
    "deepnote_cell_height": 285.125,
    "deepnote_cell_type": "code",
    "deepnote_to_be_reexecuted": false,
    "deletable": false,
    "editable": false,
    "execution_millis": 222,
    "execution_start": 1645186539544,
    "lines_to_next_cell": 2,
    "nbgrader": {
     "cell_type": "code",
     "checksum": "98fb1326cf4bf7983ae237ca8a9105f9",
     "grade": true,
     "grade_id": "cell-c7702fa8179fadb9",
     "locked": true,
     "points": 2,
     "schema_version": 3,
     "solution": false,
     "task": false
    },
    "source_hash": "fddf59b1"
   },
   "outputs": [
    {
     "name": "stdout",
     "output_type": "stream",
     "text": [
      "TFIDF Results:\n",
      "Rank 0(1.3e+01): PEEKABIT, Computer Offspring of Punched\\nCard PEEK...\n",
      "Rank 1(9.8): Variable Length Tree Structures Having Minimum Ave...\n",
      "Rank 2(8.2): A Stochastic Approach to the Grammatical Coding of...\n",
      "Rank 3(8.1): Full Table Quadratic Searching for Scatter Storage...\n",
      "Rank 4(7.6): Use of Tree Structures for Processing Files\\nIn da...\n"
     ]
    }
   ],
   "source": [
    "test_tfidf_2 = tfidf_search(\"computer word search\", index_set=2)[:5]\n",
    "print(f\"TFIDF Results:\")\n",
    "print_results(test_tfidf_2)"
   ]
  },
  {
   "cell_type": "code",
   "execution_count": 34,
   "metadata": {
    "cell_id": "00055-861246a7-b33f-43ef-8ffc-16cd768e3e3e",
    "deepnote_cell_height": 285.125,
    "deepnote_cell_type": "code",
    "deepnote_to_be_reexecuted": false,
    "deletable": false,
    "editable": false,
    "execution_millis": 179,
    "execution_start": 1645186539589,
    "lines_to_next_cell": 2,
    "nbgrader": {
     "cell_type": "code",
     "checksum": "733b5b67be5e53989f5b763ce5e52ee9",
     "grade": true,
     "grade_id": "cell-3284f50ac29abbaa",
     "locked": true,
     "points": 3,
     "schema_version": 3,
     "solution": false,
     "task": false
    },
    "source_hash": "83683be1"
   },
   "outputs": [
    {
     "name": "stdout",
     "output_type": "stream",
     "text": [
      "TFIDF Results:\n",
      "Rank 0(9.4): Variable Length Tree Structures Having Minimum Ave...\n",
      "Rank 1(7.4): On the Feasibility of Voice Input to\\nan On-line C...\n",
      "Rank 2(7.3): Median Split Trees: A Fast Lookup Technique for Fr...\n",
      "Rank 3(7.0): Execution Time Requirements for Encipherment Progr...\n",
      "Rank 4(7.0): Storage and Search Properties of a Tree-Organized ...\n"
     ]
    }
   ],
   "source": [
    "test_tfidf_1 = tfidf_search(\"computer word search\", index_set=1)[:5]\n",
    "print(f\"TFIDF Results:\")\n",
    "print_results(test_tfidf_1)"
   ]
  },
  {
   "cell_type": "code",
   "execution_count": 35,
   "metadata": {
    "cell_id": "00056-3513c3fe-3e9f-4b8c-aa0f-3f4a6d19816c",
    "deepnote_cell_height": 280.75,
    "deepnote_cell_type": "code",
    "deepnote_to_be_reexecuted": false,
    "deletable": false,
    "editable": false,
    "execution_millis": 1,
    "execution_start": 1645186539634,
    "lines_to_next_cell": 2,
    "nbgrader": {
     "cell_type": "code",
     "checksum": "e0edb37a5ae807a2de85d578c87ccb78",
     "grade": true,
     "grade_id": "cell-d908c80a3155354b",
     "locked": true,
     "points": 3,
     "schema_version": 3,
     "solution": false,
     "task": false
    },
    "source_hash": "9b7bb168"
   },
   "outputs": [
    {
     "name": "stdout",
     "output_type": "stream",
     "text": [
      "top-5 docs for index1 with BOW search: ('1771', '1936', '1543', '2535', '678')\n",
      "top-5 docs for index2 with BOW search: ('1525', '1936', '1844', '1700', '1366')\n",
      "top-5 docs for index1 with TF-IDF search: ('1936', '2054', '3041', '2620', '944')\n",
      "top-5 docs for index2 with TF-IDF search: ('1700', '1936', '1235', '2018', '849')\n"
     ]
    }
   ],
   "source": [
    "print(\"top-5 docs for index1 with BOW search:\", list(zip(*test_bow_1[:5]))[0])\n",
    "print(\"top-5 docs for index2 with BOW search:\", list(zip(*test_bow_2[:5]))[0])\n",
    "print(\"top-5 docs for index1 with TF-IDF search:\", list(zip(*test_tfidf_1[:5]))[0])\n",
    "print(\"top-5 docs for index2 with TF-IDF search:\", list(zip(*test_tfidf_2[:5]))[0])"
   ]
  },
  {
   "cell_type": "markdown",
   "metadata": {
    "cell_id": "00057-685f4747-06a6-4177-91cd-2efd41bed6dc",
    "deepnote_cell_height": 235,
    "deepnote_cell_type": "markdown",
    "deletable": false,
    "editable": false,
    "nbgrader": {
     "cell_type": "markdown",
     "checksum": "cdffc83f0eaea937cf64a212e7e9af8d",
     "grade": false,
     "grade_id": "cell-f5d923459ba21733",
     "locked": true,
     "schema_version": 3,
     "solution": false,
     "task": false
    }
   },
   "source": [
    "---\n",
    "\n",
    "### Section 3.3: Query Likelihood Model (35 points) <a class=\"anchor\" id=\"qlm\"></a>\n",
    "\n",
    "In this section, you will implement a simple query likelihood model.\n",
    "\n",
    "\n",
    "#### 3.3.1 Naive QL (15 points)\n",
    "\n",
    "First, let us implement a naive version of a QL model, assuming a multinomial unigram language model (with a uniform prior over the documents).\n",
    "\n"
   ]
  },
  {
   "cell_type": "code",
   "execution_count": 36,
   "metadata": {
    "cell_id": "00058-cda44e40-05f4-4632-a263-b4e4b00947bd",
    "deepnote_cell_height": 351,
    "deepnote_cell_type": "code",
    "deepnote_to_be_reexecuted": false,
    "deletable": false,
    "editable": false,
    "execution_millis": 127,
    "execution_start": 1645186539642,
    "lines_to_next_cell": 2,
    "nbgrader": {
     "cell_type": "code",
     "checksum": "b7ae2b7d818b428b4638c1c9206d2aca",
     "grade": false,
     "grade_id": "cell-98505778f7b68e7f",
     "locked": true,
     "schema_version": 3,
     "solution": false,
     "task": false
    },
    "source_hash": "41faad84"
   },
   "outputs": [],
   "source": [
    "#### Document length for normalization\n",
    "\n",
    "\n",
    "def doc_lengths(documents):\n",
    "    doc_lengths = {doc_id: len(doc) for (doc_id, doc) in documents}\n",
    "    return doc_lengths\n",
    "\n",
    "\n",
    "doc_lengths_1 = doc_lengths(doc_repr_1)\n",
    "doc_lengths_2 = doc_lengths(doc_repr_2)\n",
    "\n",
    "\n",
    "def get_doc_lengths(index_set):\n",
    "    assert index_set in {1, 2}\n",
    "    return {1: doc_lengths_1, 2: doc_lengths_2}[index_set]\n",
    "\n",
    "\n",
    "####"
   ]
  },
  {
   "cell_type": "code",
   "execution_count": 37,
   "metadata": {
    "cell_id": "00059-746be962-92e6-47b2-bf24-e3d86dedd92e",
    "deepnote_cell_height": 567,
    "deepnote_cell_type": "code",
    "deepnote_to_be_reexecuted": false,
    "deletable": false,
    "execution_millis": 0,
    "execution_start": 1645186539698,
    "nbgrader": {
     "cell_type": "code",
     "checksum": "cedd08303a914243fefdb6b876977ca1",
     "grade": false,
     "grade_id": "cell-8bcf2b804d636c2e",
     "locked": false,
     "schema_version": 3,
     "solution": true,
     "task": false
    },
    "source_hash": "a861316b"
   },
   "outputs": [],
   "source": [
    "# TODO: Implement this! (15 points)\n",
    "def naive_ql_search(query, index_set):\n",
    "    \"\"\"\n",
    "    Perform a search over all documents with the given query using a naive QL model.\n",
    "    Note #1: You have to use the `get_index` (and get_doc_lengths) function\n",
    "        created in the previous cells\n",
    "    Input:\n",
    "        query - a (unprocessed) query\n",
    "        index_set - the index to use\n",
    "    Output: a list of (document_id, score), sorted in descending relevance\n",
    "        to the given query\n",
    "    \"\"\"\n",
    "    index = get_index(index_set)\n",
    "    doc_lengths = get_doc_lengths(index_set)\n",
    "    processed_query = preprocess_query(query, index_set)\n",
    "    # YOUR CODE HERE\n",
    "    results = {}\n",
    "    \n",
    "    for token in processed_query:\n",
    "        # convert to dictionary for fast lookup\n",
    "        token_counts = dict(index[token])\n",
    "        for doc_id in doc_lengths.keys():\n",
    "            if doc_id not in token_counts:\n",
    "                # because token count is 0\n",
    "                p_qD = 0\n",
    "            else:\n",
    "                # otherwise we're able to get the tok count and proceed with computation\n",
    "                token_count = token_counts[doc_id]\n",
    "                p_qD = token_count / doc_lengths[doc_id]\n",
    "            if doc_id not in results:\n",
    "                results[doc_id] = p_qD\n",
    "            else:\n",
    "                results[doc_id] *= p_qD\n",
    "    results = sorted(list(results.items()), key=lambda x: x[1], reverse=True)\n",
    "    return results"
   ]
  },
  {
   "cell_type": "code",
   "execution_count": 38,
   "metadata": {
    "cell_id": "00060-7b8590ee-afcd-44ee-b551-3938924f8c30",
    "deepnote_cell_height": 285.125,
    "deepnote_cell_type": "code",
    "deepnote_to_be_reexecuted": false,
    "deletable": false,
    "editable": false,
    "execution_millis": 0,
    "execution_start": 1645186539699,
    "nbgrader": {
     "cell_type": "code",
     "checksum": "b550d15bdad28354c336020a00c33d56",
     "grade": true,
     "grade_id": "cell-5a83ac12ecde8578",
     "locked": true,
     "points": 3,
     "schema_version": 3,
     "solution": false,
     "task": false
    },
    "source_hash": "54190022"
   },
   "outputs": [
    {
     "name": "stdout",
     "output_type": "stream",
     "text": [
      "Naive QL Results:\n",
      "Rank 0(0.2): A Report Writer For COBOL...\n",
      "Rank 1(0.2): A CRT Report Generating System...\n",
      "Rank 2(0.17): Preliminary Report-International Algebraic Languag...\n",
      "Rank 3(0.17): Supplement to the ALGOL 60 Report...\n",
      "Rank 4(0.14): ALGOL Sub-Committee Report - Extensions...\n"
     ]
    }
   ],
   "source": [
    "#### Function check\n",
    "test_naiveql = naive_ql_search(\"report\", index_set=1)[:5]\n",
    "print(f\"Naive QL Results:\")\n",
    "print_results(test_naiveql)\n",
    "####"
   ]
  },
  {
   "cell_type": "code",
   "execution_count": 39,
   "metadata": {
    "cell_id": "00061-82ac6743-087a-40be-8e13-c83e9cc51509",
    "deepnote_cell_height": 81,
    "deepnote_cell_type": "code",
    "deepnote_to_be_reexecuted": false,
    "deletable": false,
    "editable": false,
    "execution_millis": 30,
    "execution_start": 1645186539742,
    "nbgrader": {
     "cell_type": "code",
     "checksum": "799df1d81c63fe90edbb6c218fc707fb",
     "grade": true,
     "grade_id": "cell-80f4bf2137f997bb",
     "locked": true,
     "points": 2,
     "schema_version": 3,
     "solution": false,
     "task": false
    },
    "source_hash": "28110d30"
   },
   "outputs": [],
   "source": [
    "#### Please do not change this. This cell is used for grading."
   ]
  },
  {
   "cell_type": "code",
   "execution_count": 40,
   "metadata": {
    "cell_id": "00062-17e1b311-2247-4c85-9402-b644f1f66b12",
    "deepnote_cell_height": 81,
    "deepnote_cell_type": "code",
    "deepnote_to_be_reexecuted": false,
    "deletable": false,
    "editable": false,
    "execution_millis": 11244764,
    "execution_start": 1645186539743,
    "nbgrader": {
     "cell_type": "code",
     "checksum": "875a4a517d27e20625d41783cebec118",
     "grade": true,
     "grade_id": "cell-5ce2993458a8ce51",
     "locked": true,
     "points": 3,
     "schema_version": 3,
     "solution": false,
     "task": false
    },
    "source_hash": "28110d30"
   },
   "outputs": [],
   "source": [
    "#### Please do not change this. This cell is used for grading."
   ]
  },
  {
   "cell_type": "code",
   "execution_count": 41,
   "metadata": {
    "cell_id": "00063-21abc448-96e9-40fc-82a7-478035610266",
    "deepnote_cell_height": 81,
    "deepnote_cell_type": "code",
    "deepnote_to_be_reexecuted": false,
    "deletable": false,
    "editable": false,
    "execution_millis": 11244759,
    "execution_start": 1645186539750,
    "nbgrader": {
     "cell_type": "code",
     "checksum": "d5c4e1c3852e71a46f32825b122f1b71",
     "grade": true,
     "grade_id": "cell-7753bdb54e292f3d",
     "locked": true,
     "points": 3,
     "schema_version": 3,
     "solution": false,
     "task": false
    },
    "source_hash": "28110d30"
   },
   "outputs": [],
   "source": [
    "#### Please do not change this. This cell is used for grading."
   ]
  },
  {
   "cell_type": "code",
   "execution_count": 42,
   "metadata": {
    "cell_id": "00064-47b977bf-c1c9-4960-8ecc-f146211b3336",
    "deepnote_cell_height": 81,
    "deepnote_cell_type": "code",
    "deepnote_to_be_reexecuted": false,
    "deletable": false,
    "editable": false,
    "execution_millis": 11244752,
    "execution_start": 1645186539809,
    "nbgrader": {
     "cell_type": "code",
     "checksum": "c4d4332d4356e89ce0240f6b80e1899a",
     "grade": true,
     "grade_id": "cell-54e476e2f96e64bb",
     "locked": true,
     "points": 4,
     "schema_version": 3,
     "solution": false,
     "task": false
    },
    "source_hash": "28110d30"
   },
   "outputs": [],
   "source": [
    "#### Please do not change this. This cell is used for grading."
   ]
  },
  {
   "cell_type": "markdown",
   "metadata": {
    "cell_id": "00065-1a6eeeea-9611-4e55-bf52-1adfe9cd668f",
    "deepnote_cell_height": 156.59375,
    "deepnote_cell_type": "markdown",
    "deletable": false,
    "editable": false,
    "nbgrader": {
     "cell_type": "markdown",
     "checksum": "8d739dc91a22bd48897f603885f95a74",
     "grade": false,
     "grade_id": "cell-5414dfd69dab8b94",
     "locked": true,
     "schema_version": 3,
     "solution": false,
     "task": false
    }
   },
   "source": [
    "---\n",
    "#### 3.3.2 QL (20 points)\n",
    "Now, let's implement a QL model that handles the issues with the naive version. In particular, you will implement a QL model with Jelinek-Mercer Smoothing. That means an interpolated score is computed per word - one term is the same as the previous naive version, and the second term comes from a unigram language model. In addition, you should accumulate the scores by summing the **log** (smoothed) probability which leads to better numerical stability."
   ]
  },
  {
   "cell_type": "code",
   "execution_count": 43,
   "metadata": {
    "cell_id": "00066-3fb59861-7bc5-497f-951b-c221eb02258c",
    "deepnote_cell_height": 1125,
    "deepnote_cell_type": "code",
    "deepnote_to_be_reexecuted": false,
    "deletable": false,
    "execution_millis": 11244761,
    "execution_start": 1645186539809,
    "nbgrader": {
     "cell_type": "code",
     "checksum": "b8c6abf937ad333e628f1db891f2e29e",
     "grade": false,
     "grade_id": "cell-bb1f506409771257",
     "locked": false,
     "schema_version": 3,
     "solution": true,
     "task": false
    },
    "source_hash": "2f2ddee4"
   },
   "outputs": [],
   "source": [
    "# TODO: Implement this! (20 points)\n",
    "\n",
    "\n",
    "def ql_search(query, index_set):\n",
    "    \"\"\"\n",
    "    Perform a search over all documents with the given query using a QL model\n",
    "    with Jelinek-Mercer Smoothing (set smoothing=0.1).\n",
    "\n",
    "    Note #1: You have to use the `get_index` (and get_doc_lengths) function\n",
    "        created in the previous cells\n",
    "    Note #2: You might have to create some variables beforehand and\n",
    "        use them in this function\n",
    "\n",
    "    Input:\n",
    "        query - a (unprocessed) query\n",
    "        index_set - the index to use\n",
    "    Output: a list of (document_id, score), sorted in descending relevance\n",
    "        to the given query\n",
    "    \"\"\"\n",
    "    index = get_index(index_set)\n",
    "    doc_lengths = get_doc_lengths(index_set)\n",
    "    processed_query = preprocess_query(query, index_set)\n",
    "\n",
    "    # YOUR CODE HERE\n",
    "    # total number of words in the collection\n",
    "    C = sum(list(doc_lengths.values()))\n",
    "    # \"(set smoothing=0.1)\"\n",
    "    lambd = 0.1\n",
    "    results = {}\n",
    "    for token in processed_query:\n",
    "        # skip tokens not in docs\n",
    "        if not index[token]:\n",
    "            continue\n",
    "        # mapping from to doc_id to count for this token\n",
    "        doc_to_count = {}\n",
    "        # total count of token across the collection\n",
    "        total_tok_count = 0\n",
    "        for doc, tok_count in index[token]:\n",
    "            doc_to_count[doc] = tok_count\n",
    "            total_tok_count += tok_count\n",
    "\n",
    "        # check each document in our collection, to catch token counts of 0\n",
    "        for document_id, doc_length in doc_lengths.items():\n",
    "            if document_id in doc_to_count:\n",
    "                token_count = doc_to_count[document_id]\n",
    "            else:\n",
    "                token_count = 0\n",
    "            # page 257 of Croft et al.\n",
    "            p_qD = np.log(\n",
    "                (1 - lambd) * token_count / doc_lengths[document_id]\n",
    "                + lambd * total_tok_count / C\n",
    "            )\n",
    "            if document_id not in results:\n",
    "                results[document_id] = p_qD\n",
    "            else:\n",
    "                results[document_id] += p_qD\n",
    "\n",
    "    # convert documents to list and sort descending\n",
    "    results = sorted(list(results.items()), key=lambda x: x[1], reverse=True)\n",
    "    return results"
   ]
  },
  {
   "cell_type": "code",
   "execution_count": 44,
   "metadata": {
    "cell_id": "00067-490d8cb9-33a4-47fc-9c15-ad1b4c455132",
    "deepnote_cell_height": 422.0625,
    "deepnote_cell_type": "code",
    "deepnote_to_be_reexecuted": false,
    "deletable": false,
    "editable": false,
    "execution_millis": 121,
    "execution_start": 1645186539852,
    "is_code_hidden": false,
    "nbgrader": {
     "cell_type": "code",
     "checksum": "0b12a7f3355193a257fd9f5f69a66562",
     "grade": true,
     "grade_id": "cell-850e9d6369bcec32",
     "locked": true,
     "points": 4,
     "schema_version": 3,
     "solution": false,
     "task": false
    },
    "source_hash": "4e5f7dd8"
   },
   "outputs": [
    {
     "name": "stdout",
     "output_type": "stream",
     "text": [
      "Rank 0(-1.7): A Report Writer For COBOL...\n",
      "Rank 1(-1.7): A CRT Report Generating System...\n",
      "Rank 2(-1.9): Preliminary Report-International Algebraic Languag...\n",
      "Rank 3(-1.9): Supplement to the ALGOL 60 Report...\n",
      "Rank 4(-2.1): ALGOL Sub-Committee Report - Extensions...\n",
      "\n",
      "Rank 0(-1.7e+01): A Report Writer For COBOL...\n",
      "Rank 1(-1.7e+01): A CRT Report Generating System...\n",
      "Rank 2(-1.9e+01): Preliminary Report-International Algebraic Languag...\n",
      "Rank 3(-1.9e+01): Supplement to the ALGOL 60 Report...\n",
      "Rank 4(-2.1e+01): ALGOL Sub-Committee Report - Extensions...\n"
     ]
    }
   ],
   "source": [
    "#### Function check\n",
    "test_ql_results = ql_search(\"report\", index_set=1)[:5]\n",
    "print_results(test_ql_results)\n",
    "print()\n",
    "test_ql_results_long = ql_search(\"report \" * 10, index_set=1)[:5]\n",
    "print_results(test_ql_results_long)\n",
    "####"
   ]
  },
  {
   "cell_type": "code",
   "execution_count": 45,
   "metadata": {
    "cell_id": "00068-095393c5-8e5b-4aef-9720-cfe9fae3b7c5",
    "deepnote_cell_height": 81,
    "deepnote_cell_type": "code",
    "deepnote_to_be_reexecuted": false,
    "deletable": false,
    "editable": false,
    "execution_millis": 11244810,
    "execution_start": 1645186540003,
    "nbgrader": {
     "cell_type": "code",
     "checksum": "e40be645140389c115849856145f5b59",
     "grade": true,
     "grade_id": "cell-958cdcf6fd6899b7",
     "locked": true,
     "points": 3,
     "schema_version": 3,
     "solution": false,
     "task": false
    },
    "source_hash": "28110d30"
   },
   "outputs": [],
   "source": [
    "#### Please do not change this. This cell is used for grading."
   ]
  },
  {
   "cell_type": "code",
   "execution_count": 46,
   "metadata": {
    "cell_id": "00069-4cd600e6-d694-4c40-ab70-28deb209cf19",
    "deepnote_cell_height": 81,
    "deepnote_cell_type": "code",
    "deepnote_to_be_reexecuted": false,
    "deletable": false,
    "editable": false,
    "execution_millis": 11244823,
    "execution_start": 1645186540042,
    "nbgrader": {
     "cell_type": "code",
     "checksum": "41d4aff001df17e7963ba79b45810b30",
     "grade": true,
     "grade_id": "cell-384dc23a0c251f6e",
     "locked": true,
     "points": 4,
     "schema_version": 3,
     "solution": false,
     "task": false
    },
    "source_hash": "28110d30"
   },
   "outputs": [],
   "source": [
    "#### Please do not change this. This cell is used for grading."
   ]
  },
  {
   "cell_type": "code",
   "execution_count": 47,
   "metadata": {
    "cell_id": "00070-952cb008-6963-4ca8-89f4-302b5a3ff74f",
    "deepnote_cell_height": 81,
    "deepnote_cell_type": "code",
    "deepnote_to_be_reexecuted": false,
    "deletable": false,
    "editable": false,
    "execution_millis": 11244838,
    "execution_start": 1645186540086,
    "nbgrader": {
     "cell_type": "code",
     "checksum": "893e8c5a073abc8ebb763d267b91bc02",
     "grade": true,
     "grade_id": "cell-7218966cba5097cc",
     "locked": true,
     "points": 4,
     "schema_version": 3,
     "solution": false,
     "task": false
    },
    "source_hash": "28110d30"
   },
   "outputs": [],
   "source": [
    "#### Please do not change this. This cell is used for grading."
   ]
  },
  {
   "cell_type": "code",
   "execution_count": 48,
   "metadata": {
    "cell_id": "00071-6752fe8b-7f1e-4fbc-a1c8-8a5f9876a4c4",
    "deepnote_cell_height": 81,
    "deepnote_cell_type": "code",
    "deepnote_to_be_reexecuted": false,
    "deletable": false,
    "editable": false,
    "execution_millis": 11244853,
    "execution_start": 1645186540123,
    "nbgrader": {
     "cell_type": "code",
     "checksum": "f99cb6f8b1f5830aaed8f06712ff846e",
     "grade": true,
     "grade_id": "cell-481ab073259ae53f",
     "locked": true,
     "points": 5,
     "schema_version": 3,
     "solution": false,
     "task": false
    },
    "source_hash": "28110d30"
   },
   "outputs": [],
   "source": [
    "#### Please do not change this. This cell is used for grading."
   ]
  },
  {
   "cell_type": "markdown",
   "metadata": {
    "cell_id": "00072-927d2e01-1b15-4854-a903-2a2472ecb63b",
    "deepnote_cell_height": 127,
    "deepnote_cell_type": "markdown",
    "deletable": false,
    "editable": false,
    "nbgrader": {
     "cell_type": "markdown",
     "checksum": "c02f14705d679579b1aa9f78f54779d5",
     "grade": false,
     "grade_id": "cell-f44088bfdac1dc90",
     "locked": true,
     "schema_version": 3,
     "solution": false,
     "task": false
    }
   },
   "source": [
    "---\n",
    "\n",
    "### Section 3.4: BM25 (20 points) <a class=\"anchor\" id=\"bm25\"></a>\n",
    "\n",
    "In this section, we will implement the BM25 scoring function.\n"
   ]
  },
  {
   "cell_type": "code",
   "execution_count": 49,
   "metadata": {
    "cell_id": "00073-22161fa2-0c00-4c01-af51-4968d6b78880",
    "deepnote_cell_height": 801,
    "deepnote_cell_type": "code",
    "deepnote_to_be_reexecuted": false,
    "deletable": false,
    "execution_millis": 11244861,
    "execution_start": 1645186540177,
    "nbgrader": {
     "cell_type": "code",
     "checksum": "e57efe06ea92af1c83784a42eb3d86e0",
     "grade": false,
     "grade_id": "cell-15640fc9b5d00a3c",
     "locked": false,
     "schema_version": 3,
     "solution": true,
     "task": false
    },
    "source_hash": "991aa048"
   },
   "outputs": [],
   "source": [
    "# TODO: Implement this! (20 points)\n",
    "def bm25_search(query, index_set):\n",
    "    \"\"\"\n",
    "    Perform a search over all documents with the given query using BM25.\n",
    "    Use k_1 = 1.5 and b = 0.75\n",
    "    Note #1: You have to use the `get_index` (and `get_doc_lengths`) function\n",
    "    created in the previous cells\n",
    "    Note #2: You might have to create some variables beforehand\n",
    "    and use them in this function\n",
    "    Input:\n",
    "        query - a (unprocessed) query\n",
    "        index_set - the index to use\n",
    "    Output: a list of (document_id, score), sorted in descending\n",
    "        relevance to the given query\n",
    "    \"\"\"\n",
    "\n",
    "    index = get_index(index_set)\n",
    "    df = get_df(index_set)\n",
    "    doc_lengths = get_doc_lengths(index_set)\n",
    "    processed_query = preprocess_query(query, index_set)\n",
    "\n",
    "    # YOUR CODE HERE\n",
    "    # hard coded values\n",
    "    k_1 = 1.5\n",
    "    b = 0.75\n",
    "    # initialize our result\n",
    "    documents = defaultdict(float)\n",
    "    # average doc length and number of docs\n",
    "    ave_dl = np.mean([value for _key, value in doc_lengths.items()])\n",
    "    N = len(docs)\n",
    "    for token in processed_query:\n",
    "        for document_id, token_count in index[token]:\n",
    "            idf = np.log(N / df[token])\n",
    "            second_term = (token_count * (k_1 + 1)) / (\n",
    "                token_count + k_1 * (1 - b + b * (doc_lengths[document_id] / ave_dl))\n",
    "            )\n",
    "            documents[document_id] += idf * second_term\n",
    "    # convert documents to list and sort descending\n",
    "    documents = sorted(list(documents.items()), key=lambda x: x[1], reverse=True)\n",
    "    return documents"
   ]
  },
  {
   "cell_type": "code",
   "execution_count": 50,
   "metadata": {
    "cell_id": "00074-99930c5d-a5f8-4ead-b1d4-1bb2ada8b11b",
    "deepnote_cell_height": 246.9375,
    "deepnote_cell_type": "code",
    "deepnote_to_be_reexecuted": false,
    "deletable": false,
    "editable": false,
    "execution_millis": 11244850,
    "execution_start": 1645186540178,
    "nbgrader": {
     "cell_type": "code",
     "checksum": "4be9de5d4e94637960d83725422bea6c",
     "grade": true,
     "grade_id": "cell-d10536bca72c74b1",
     "locked": true,
     "points": 3,
     "schema_version": 3,
     "solution": false,
     "task": false
    },
    "source_hash": "e0c314c5"
   },
   "outputs": [
    {
     "name": "stdout",
     "output_type": "stream",
     "text": [
      "Rank 0(6.7): A Report Writer For COBOL...\n",
      "Rank 1(6.7): A CRT Report Generating System...\n",
      "Rank 2(6.6): Preliminary Report-International Algebraic Languag...\n",
      "Rank 3(6.6): Supplement to the ALGOL 60 Report...\n",
      "Rank 4(6.5): ALGOL Sub-Committee Report - Extensions...\n"
     ]
    }
   ],
   "source": [
    "#### Function check\n",
    "test_bm25_results = bm25_search(\"report\", index_set=1)[:5]\n",
    "print_results(test_bm25_results)\n",
    "####"
   ]
  },
  {
   "cell_type": "code",
   "execution_count": 51,
   "metadata": {
    "cell_id": "00075-42c49004-74c6-4354-a713-ab682c96123e",
    "deepnote_cell_height": 81,
    "deepnote_cell_type": "code",
    "deepnote_to_be_reexecuted": false,
    "deletable": false,
    "editable": false,
    "execution_millis": 11244838,
    "execution_start": 1645186540222,
    "nbgrader": {
     "cell_type": "code",
     "checksum": "31b550d6a46ae4f8ede88788799ac2b9",
     "grade": true,
     "grade_id": "cell-60f6ec5052712d79",
     "locked": true,
     "points": 5,
     "schema_version": 3,
     "solution": false,
     "task": false
    },
    "source_hash": "28110d30"
   },
   "outputs": [],
   "source": [
    "#### Please do not change this. This cell is used for grading."
   ]
  },
  {
   "cell_type": "code",
   "execution_count": 52,
   "metadata": {
    "cell_id": "00076-dda1edfe-5234-4b37-8700-30b331b5b71e",
    "deepnote_cell_height": 81,
    "deepnote_cell_type": "code",
    "deepnote_to_be_reexecuted": false,
    "deletable": false,
    "editable": false,
    "execution_millis": 11244835,
    "execution_start": 1645186540223,
    "nbgrader": {
     "cell_type": "code",
     "checksum": "3da2ec16bfe781916e71755d65aa2983",
     "grade": true,
     "grade_id": "cell-5d17524043a5abcc",
     "locked": true,
     "points": 5,
     "schema_version": 3,
     "solution": false,
     "task": false
    },
    "source_hash": "28110d30"
   },
   "outputs": [],
   "source": [
    "#### Please do not change this. This cell is used for grading."
   ]
  },
  {
   "cell_type": "code",
   "execution_count": 53,
   "metadata": {
    "cell_id": "00077-eb67834d-52f9-4385-a9cd-0ad481099542",
    "deepnote_cell_height": 81,
    "deepnote_cell_type": "code",
    "deepnote_to_be_reexecuted": false,
    "deletable": false,
    "editable": false,
    "execution_millis": 11244835,
    "execution_start": 1645186540265,
    "nbgrader": {
     "cell_type": "code",
     "checksum": "e7b563d54fa84c20909c0ae107010541",
     "grade": true,
     "grade_id": "cell-ff8e704eda1184e3",
     "locked": true,
     "points": 3,
     "schema_version": 3,
     "solution": false,
     "task": false
    },
    "source_hash": "28110d30"
   },
   "outputs": [],
   "source": [
    "#### Please do not change this. This cell is used for grading."
   ]
  },
  {
   "cell_type": "code",
   "execution_count": 54,
   "metadata": {
    "cell_id": "00078-4c9ec504-f3a1-44c6-b797-e96bf38a6d46",
    "deepnote_cell_height": 81,
    "deepnote_cell_type": "code",
    "deepnote_to_be_reexecuted": false,
    "deletable": false,
    "editable": false,
    "execution_millis": 11244839,
    "execution_start": 1645186540266,
    "nbgrader": {
     "cell_type": "code",
     "checksum": "b013f90974b396630a8831d6f1d7e5f7",
     "grade": true,
     "grade_id": "cell-a52310500a2543cb",
     "locked": true,
     "points": 4,
     "schema_version": 3,
     "solution": false,
     "task": false
    },
    "source_hash": "28110d30"
   },
   "outputs": [],
   "source": [
    "#### Please do not change this. This cell is used for grading."
   ]
  },
  {
   "cell_type": "markdown",
   "metadata": {
    "cell_id": "00079-f0652d37-3014-4fc5-a239-c6d5371c8167",
    "deepnote_cell_height": 127,
    "deepnote_cell_type": "markdown",
    "deletable": false,
    "editable": false,
    "nbgrader": {
     "cell_type": "markdown",
     "checksum": "8fcf67cb7d5e8b26cb9bf1f0aa42c847",
     "grade": false,
     "grade_id": "cell-8b2b412c81d62f2d",
     "locked": true,
     "schema_version": 3,
     "solution": false,
     "task": false
    }
   },
   "source": [
    "\n",
    "---\n",
    "\n",
    "### 3.5. Test Your Functions\n",
    "\n",
    "The widget below allows you to play with the search functions you've written so far. Use this to test your search functions and ensure that they work as expected."
   ]
  },
  {
   "cell_type": "code",
   "execution_count": 55,
   "metadata": {
    "cell_id": "00080-8469bb45-c42f-461c-b1dd-6fcd1ef23d8b",
    "deepnote_cell_height": 693,
    "deepnote_cell_type": "code",
    "deepnote_to_be_reexecuted": false,
    "deletable": false,
    "editable": false,
    "execution_millis": 11244825,
    "execution_start": 1645186540266,
    "lines_to_next_cell": 2,
    "nbgrader": {
     "cell_type": "code",
     "checksum": "dfeb204b390acc0794dbdcac92b0cf2c",
     "grade": false,
     "grade_id": "cell-c9c2bb76354e8d97",
     "locked": true,
     "schema_version": 3,
     "solution": false,
     "task": false
    },
    "source_hash": "ff5eb03a"
   },
   "outputs": [],
   "source": [
    "#### Highlighter function\n",
    "# class for results\n",
    "ResultRow = namedtuple(\"ResultRow\", [\"doc_id\", \"snippet\", \"score\"])\n",
    "# doc_id -> doc\n",
    "docs_by_id = dict((d[0], d[1]) for d in docs)\n",
    "\n",
    "\n",
    "def highlight_text(document, query, tol=17):\n",
    "    import re\n",
    "\n",
    "    tokens = tokenize(query)\n",
    "    regex = \"|\".join(f\"(\\\\b{t}\\\\b)\" for t in tokens)\n",
    "    regex = re.compile(regex, flags=re.IGNORECASE)\n",
    "    output = \"\"\n",
    "    i = 0\n",
    "    for m in regex.finditer(document):\n",
    "        start_idx = max(0, m.start() - tol)\n",
    "        end_idx = min(len(document), m.end() + tol)\n",
    "        output += \"\".join(\n",
    "            [\n",
    "                \"...\",\n",
    "                document[start_idx : m.start()],\n",
    "                \"<strong>\",\n",
    "                document[m.start() : m.end()],\n",
    "                \"</strong>\",\n",
    "                document[m.end() : end_idx],\n",
    "                \"...\",\n",
    "            ]\n",
    "        )\n",
    "    return output.replace(\"\\n\", \" \")\n",
    "\n",
    "\n",
    "def make_results(query, search_fn, index_set):\n",
    "    results = []\n",
    "    for doc_id, score in search_fn(query, index_set):\n",
    "        highlight = highlight_text(docs_by_id[doc_id], query)\n",
    "        if len(highlight.strip()) == 0:\n",
    "            highlight = docs_by_id[doc_id]\n",
    "        results.append(ResultRow(doc_id, highlight, score))\n",
    "    return results\n",
    "\n",
    "\n",
    "####"
   ]
  },
  {
   "cell_type": "code",
   "execution_count": 56,
   "metadata": {
    "cell_id": "00081-0f79ea92-6b27-476d-838a-7353712fe308",
    "deepnote_cell_height": 753,
    "deepnote_cell_type": "code",
    "deepnote_to_be_reexecuted": false,
    "execution_millis": 11244922,
    "execution_start": 1645186540312,
    "source_hash": "52b13204"
   },
   "outputs": [
    {
     "data": {
      "application/vnd.jupyter.widget-view+json": {
       "model_id": "7084327c432f4cc592479b8253ef1b48",
       "version_major": 2,
       "version_minor": 0
      },
      "text/plain": [
       "Text(value='', description='Search Bar')"
      ]
     },
     "metadata": {},
     "output_type": "display_data"
    }
   ],
   "source": [
    "# TODO: Set this to the function you want to test!\n",
    "SEARCH_FN_NAME = \"bm25\"\n",
    "# this function should take in a query (string)\n",
    "# and return a sorted list of (doc_id, score)\n",
    "# with the most relevant document in the first position\n",
    "search_fn_dict = {\n",
    "    \"bow\": bow_search,\n",
    "    \"tfidf\": tfidf_search,\n",
    "    \"naive_ql\": naive_ql_search,\n",
    "    \"ql\": ql_search,\n",
    "    \"bm25\": bm25_search,\n",
    "}\n",
    "\n",
    "search_fn = search_fn_dict[SEARCH_FN_NAME]\n",
    "index_set = 1\n",
    "\n",
    "text = widgets.Text(description=\"Search Bar\", width=200)\n",
    "display(text)\n",
    "\n",
    "\n",
    "def handle_submit(sender):\n",
    "    print(f\"Searching for: '{sender.value}'\")\n",
    "\n",
    "    results = make_results(sender.value, search_fn, index_set)\n",
    "\n",
    "    # display only the top 5\n",
    "    results = results[:5]\n",
    "\n",
    "    body = \"\"\n",
    "    for idx, r in enumerate(results):\n",
    "        body += f\"<li>Document #{r.doc_id}({r.score}): {r.snippet}</li>\"\n",
    "    display(HTML(f\"<ul>{body}</ul>\"))\n",
    "\n",
    "\n",
    "text.on_submit(handle_submit)"
   ]
  },
  {
   "cell_type": "markdown",
   "metadata": {
    "cell_id": "00082-cd38c091-8362-48a6-b6f6-e2c167049828",
    "deepnote_cell_height": 331.140625,
    "deepnote_cell_type": "markdown",
    "deletable": false,
    "editable": false,
    "nbgrader": {
     "cell_type": "markdown",
     "checksum": "019b1ff878dc6339dd068e2d48d19904",
     "grade": false,
     "grade_id": "cell-8d46fe8e4f3d8cdb",
     "locked": true,
     "schema_version": 3,
     "solution": false,
     "task": false
    }
   },
   "source": [
    "---\n",
    "\n",
    "## Section 4: Evaluation (40 points) <a class=\"anchor\" id=\"evaluation\"></a>\n",
    "\n",
    "[Back to Part 1](#part1)\n",
    "\n",
    "In order to analyze the effectiveness of retrieval algorithms, we first have to learn how to evaluate such a system. In particular, we will work with offline evaluation metrics. These metrics are computed on a dataset with known relevance judgements.\n",
    "\n",
    "Implement the following evaluation metrics.\n",
    "\n",
    "1. Precision (7 points)\n",
    "2. Recall (7 points)\n",
    "3. Mean Average Precision (13 points)\n",
    "4. Expected Reciprocal Rank (13 points)"
   ]
  },
  {
   "cell_type": "markdown",
   "metadata": {
    "cell_id": "00083-dfad5784-4ddc-451d-9394-08c63666f402",
    "deepnote_cell_height": 123.796875,
    "deepnote_cell_type": "markdown",
    "deletable": false,
    "editable": false,
    "nbgrader": {
     "cell_type": "markdown",
     "checksum": "e46f54c7f81d88bbc950b0fae14c4ca5",
     "grade": false,
     "grade_id": "cell-3419fd3bc663d7cc",
     "locked": true,
     "schema_version": 3,
     "solution": false,
     "task": false
    }
   },
   "source": [
    "---\n",
    "### 4.1 Read relevance labels\n",
    "\n",
    "Let's take a look at the `qrels.text` file, which contains the ground truth relevance scores. The relevance labels for CACM are binary - either 0 or 1.\n"
   ]
  },
  {
   "cell_type": "code",
   "execution_count": 57,
   "metadata": {
    "cell_id": "00084-1316ed27-3c82-43e0-9359-b9e3a9d64256",
    "deepnote_cell_height": 293.875,
    "deepnote_cell_type": "code",
    "deepnote_to_be_reexecuted": false,
    "deletable": false,
    "editable": false,
    "execution_millis": 380,
    "execution_start": 1645186540313,
    "nbgrader": {
     "cell_type": "code",
     "checksum": "6c11025f5a222796f2882c73c1634799",
     "grade": false,
     "grade_id": "cell-6b738366059dde9e",
     "locked": true,
     "schema_version": 3,
     "solution": false,
     "task": false
    },
    "source_hash": "4ba3f3db"
   },
   "outputs": [
    {
     "name": "stdout",
     "output_type": "stream",
     "text": [
      "01 1410  0 0\n",
      "01 1572  0 0\n",
      "01 1605  0 0\n",
      "01 2020  0 0\n",
      "01 2358  0 0\n",
      "02 2434  0 0\n",
      "02 2863  0 0\n",
      "02 3078  0 0\n",
      "03 1134  0 0\n",
      "03 1613  0 0\n"
     ]
    }
   ],
   "source": [
    "!head ./datasets/qrels.text"
   ]
  },
  {
   "cell_type": "markdown",
   "metadata": {
    "cell_id": "00085-d6878bd5-2637-4397-a653-79961f1e8bde",
    "deepnote_cell_height": 73,
    "deepnote_cell_type": "markdown",
    "deletable": false,
    "editable": false,
    "nbgrader": {
     "cell_type": "markdown",
     "checksum": "7ce95245c1597183320d7254afde5c8e",
     "grade": false,
     "grade_id": "cell-10e16bff2753ffbb",
     "locked": true,
     "schema_version": 3,
     "solution": false,
     "task": false
    }
   },
   "source": [
    "---\n",
    "\n",
    "The first column is the query_id and the second column is the document_id. We can safely ignore the 3rd and 4th columns."
   ]
  },
  {
   "cell_type": "code",
   "execution_count": 58,
   "metadata": {
    "cell_id": "00086-5ab2237b-8b49-4a73-9063-9fc776502761",
    "deepnote_cell_height": 333,
    "deepnote_cell_type": "code",
    "deepnote_to_be_reexecuted": false,
    "deletable": false,
    "execution_millis": 0,
    "execution_start": 1645186540745,
    "nbgrader": {
     "cell_type": "code",
     "checksum": "000c6d59dce08dba0ba1e8d691dbbc2e",
     "grade": false,
     "grade_id": "cell-ee5253a4ef602fce",
     "locked": false,
     "schema_version": 3,
     "solution": true,
     "task": false
    },
    "source_hash": "c9cbc0ff"
   },
   "outputs": [],
   "source": [
    "# https://piazza.com/class/kyiksrdfk0b6te?cid=40_f1\n",
    "def read_qrels(root_folder=\"./datasets/\"):\n",
    "    \"\"\"\n",
    "    Reads the qrels.text file.\n",
    "    Output: A dictionary: query_id -> [list of relevant documents]\n",
    "    \"\"\"\n",
    "    with open(os.path.join(root_folder, \"qrels.text\")) as reader:\n",
    "        lines = reader.readlines()\n",
    "\n",
    "    from collections import defaultdict\n",
    "\n",
    "    relevant_docs = defaultdict(set)\n",
    "    for line in lines:\n",
    "        query_id, doc_id, _, _ = line.split()\n",
    "        relevant_docs[str(int(query_id))].add(doc_id)\n",
    "    return relevant_docs"
   ]
  },
  {
   "cell_type": "code",
   "execution_count": 59,
   "metadata": {
    "cell_id": "00087-b2ca4d34-5c5f-4392-85ed-a178aeee2e30",
    "deepnote_cell_height": 243,
    "deepnote_cell_type": "code",
    "deepnote_to_be_reexecuted": false,
    "deletable": false,
    "editable": false,
    "execution_millis": 59,
    "execution_start": 1645186540746,
    "nbgrader": {
     "cell_type": "code",
     "checksum": "d60caeba85c2a97d2211184a5ae91fd1",
     "grade": false,
     "grade_id": "cell-72215605fbe24f65",
     "locked": true,
     "schema_version": 3,
     "solution": false,
     "task": false
    },
    "source_hash": "23ca292a"
   },
   "outputs": [],
   "source": [
    "#### Function check\n",
    "qrels = read_qrels()\n",
    "\n",
    "assert len(qrels) == 52, \"There should be 52 queries with relevance judgements\"\n",
    "assert (\n",
    "    sum(len(j) for j in qrels.values()) == 796\n",
    "), \"There should be a total of 796 Relevance Judgements\"\n",
    "\n",
    "assert np.min(np.array([len(j) for j in qrels.values()])) == 1\n",
    "assert np.max(np.array([len(j) for j in qrels.values()])) == 51\n",
    "\n",
    "####"
   ]
  },
  {
   "cell_type": "markdown",
   "metadata": {
    "cell_id": "00088-14f1066c-7068-49a9-910c-c81e820e1a63",
    "deepnote_cell_height": 73,
    "deepnote_cell_type": "markdown",
    "deletable": false,
    "editable": false,
    "nbgrader": {
     "cell_type": "markdown",
     "checksum": "6c9e7428a52e291a2cdf92a379730d4c",
     "grade": false,
     "grade_id": "cell-176a6fb2939d0420",
     "locked": true,
     "schema_version": 3,
     "solution": false,
     "task": false
    }
   },
   "source": [
    "---\n",
    "**Note:** For a given query `query_id`, you can assume that documents *not* in `qrels[query_id]` are not relevant to `query_id`.\n"
   ]
  },
  {
   "cell_type": "markdown",
   "metadata": {
    "cell_id": "00089-e42c5a24-37db-4b0f-9db5-56563253fb35",
    "deepnote_cell_height": 101.390625,
    "deepnote_cell_type": "markdown",
    "deletable": false,
    "editable": false,
    "nbgrader": {
     "cell_type": "markdown",
     "checksum": "b26a818c7b4f7ad490e00b35ea0edd69",
     "grade": false,
     "grade_id": "cell-bd8341b72cdd89bb",
     "locked": true,
     "schema_version": 3,
     "solution": false,
     "task": false
    }
   },
   "source": [
    "---\n",
    "### 4.2 Precision (7 points)\n",
    "Implement the `precision@k` metric:"
   ]
  },
  {
   "cell_type": "code",
   "execution_count": 60,
   "metadata": {
    "cell_id": "00090-10b53f18-7e8d-43d4-b563-680628c40545",
    "deepnote_cell_height": 333,
    "deepnote_cell_type": "code",
    "deepnote_to_be_reexecuted": false,
    "deletable": false,
    "execution_millis": 0,
    "execution_start": 1645186540806,
    "nbgrader": {
     "cell_type": "code",
     "checksum": "43dea1979ebdec24ffcfeff71c670433",
     "grade": false,
     "grade_id": "cell-494bd0cce108ed67",
     "locked": false,
     "schema_version": 3,
     "solution": true,
     "task": false
    },
    "source_hash": "b26a2b3c"
   },
   "outputs": [],
   "source": [
    "# TODO: Implement this! (7 points)\n",
    "def precision_k(results, relevant_docs, k):\n",
    "    \"\"\"\n",
    "    Compute Precision@K\n",
    "    Input:\n",
    "        results: A sorted list of 2-tuples (document_id, score),\n",
    "                with the most relevant document in the first position\n",
    "        relevant_docs: A set of relevant documents.\n",
    "        k: the cut-off\n",
    "    Output: Precision@K\n",
    "    \"\"\"\n",
    "    if k > len(results):\n",
    "        k = len(results)\n",
    "    # YOUR CODE HERE\n",
    "    return np.mean([doc_id in relevant_docs for doc_id, _score in results[:k]])"
   ]
  },
  {
   "cell_type": "code",
   "execution_count": 61,
   "metadata": {
    "cell_id": "00091-fa6b1685-64b1-424e-af93-8f763660db0f",
    "deepnote_cell_height": 296.5625,
    "deepnote_cell_type": "code",
    "deepnote_to_be_reexecuted": false,
    "deletable": false,
    "editable": false,
    "execution_millis": 320,
    "execution_start": 1645186540809,
    "nbgrader": {
     "cell_type": "code",
     "checksum": "9222e35582b1840ffb60fd02fb0b60c3",
     "grade": true,
     "grade_id": "cell-e7ff0d91c319ca64",
     "locked": true,
     "points": 7,
     "schema_version": 3,
     "solution": false,
     "task": false
    },
    "source_hash": "1417a891"
   },
   "outputs": [
    {
     "name": "stdout",
     "output_type": "stream",
     "text": [
      "query: What articles exist which deal with TSS (Time Sharing System), an\n",
      "operating system for IBM computers?\n",
      "precision@10 = 0.2\n"
     ]
    }
   ],
   "source": [
    "#### Function check\n",
    "qid = queries[0][0]\n",
    "qtext = queries[0][1]\n",
    "print(f\"query:{qtext}\")\n",
    "results = bm25_search(qtext, 2)\n",
    "precision = precision_k(results, qrels[qid], 10)\n",
    "print(f\"precision@10 = {precision}\")\n",
    "####"
   ]
  },
  {
   "cell_type": "markdown",
   "metadata": {
    "cell_id": "00092-573df961-c83e-4116-af98-2954707eb21e",
    "deepnote_cell_height": 101.390625,
    "deepnote_cell_type": "markdown",
    "deletable": false,
    "editable": false,
    "nbgrader": {
     "cell_type": "markdown",
     "checksum": "8fd3b3998197c7097a40348500affb68",
     "grade": false,
     "grade_id": "cell-afd95f865bc7191e",
     "locked": true,
     "schema_version": 3,
     "solution": false,
     "task": false
    }
   },
   "source": [
    "---\n",
    "### 4.3 Recall (7 points)\n",
    "Implement the `recall@k` metric:"
   ]
  },
  {
   "cell_type": "code",
   "execution_count": 62,
   "metadata": {
    "cell_id": "00093-73affea1-1e53-4344-8a1f-55a1c3a18966",
    "deepnote_cell_height": 495,
    "deepnote_cell_type": "code",
    "deepnote_to_be_reexecuted": false,
    "deletable": false,
    "execution_millis": 1,
    "execution_start": 1645186541031,
    "nbgrader": {
     "cell_type": "code",
     "checksum": "b2020e5741ae03b3fe35817ed8f4ccaa",
     "grade": false,
     "grade_id": "cell-c323fc8c3f8a7cf8",
     "locked": false,
     "schema_version": 3,
     "solution": true,
     "task": false
    },
    "source_hash": "7a605edf"
   },
   "outputs": [],
   "source": [
    "# TODO: Implement this! (7 points)\n",
    "def recall_k(results, relevant_docs, k):\n",
    "    \"\"\"\n",
    "    Compute Recall@K\n",
    "    Input:\n",
    "        results: A sorted list of 2-tuples (document_id, score),\n",
    "            with the most relevant document in the first position\n",
    "        relevant_docs: A set of relevant documents.\n",
    "        k: the cut-off\n",
    "    Output: Recall@K\n",
    "    \"\"\"\n",
    "    # YOUR CODE HERE\n",
    "    tp = 0.0\n",
    "    fn = 0.0\n",
    "    for i, (doc_id, _score) in enumerate(results, 1):\n",
    "        if doc_id in relevant_docs:\n",
    "            if i <= k:\n",
    "                tp += 1\n",
    "            else:\n",
    "                fn += 1\n",
    "    try:\n",
    "        return tp / (tp + fn)\n",
    "    except ZeroDivisionError:\n",
    "        return 0.0"
   ]
  },
  {
   "cell_type": "code",
   "execution_count": 63,
   "metadata": {
    "cell_id": "00094-bf429fa0-2840-4cae-bab1-cb99f0a3d3d3",
    "deepnote_cell_height": 258.375,
    "deepnote_cell_type": "code",
    "deepnote_to_be_reexecuted": false,
    "deletable": false,
    "editable": false,
    "execution_millis": 98,
    "execution_start": 1645186541033,
    "nbgrader": {
     "cell_type": "code",
     "checksum": "56b6e0b8522f8b2dffbfb3206b2efa84",
     "grade": true,
     "grade_id": "cell-b25172161aef165c",
     "locked": true,
     "points": 7,
     "schema_version": 3,
     "solution": false,
     "task": false
    },
    "source_hash": "a5ebd603"
   },
   "outputs": [
    {
     "name": "stdout",
     "output_type": "stream",
     "text": [
      "query: SETL, Very High Level Languages\n",
      "recall@10 = 0.3157894736842105\n"
     ]
    }
   ],
   "source": [
    "#### Function check\n",
    "qid = queries[10][0]\n",
    "qtext = queries[10][1]\n",
    "print(f\"query:{qtext}\")\n",
    "results = bm25_search(qtext, 2)\n",
    "recall = recall_k(results, qrels[qid], 10)\n",
    "print(f\"recall@10 = {recall}\")\n",
    "####"
   ]
  },
  {
   "cell_type": "markdown",
   "metadata": {
    "cell_id": "00095-1445fa1d-3d88-4eb1-9592-5a6cba32701b",
    "deepnote_cell_height": 101.390625,
    "deepnote_cell_type": "markdown",
    "deletable": false,
    "editable": false,
    "nbgrader": {
     "cell_type": "markdown",
     "checksum": "b3d3c7bd1cd977cd07ef5df7d3fbf159",
     "grade": false,
     "grade_id": "cell-77fd2e7a39a74739",
     "locked": true,
     "schema_version": 3,
     "solution": false,
     "task": false
    }
   },
   "source": [
    "---\n",
    "### 4.4 Mean Average Precision (13 points)\n",
    "Implement the `map` metric:"
   ]
  },
  {
   "cell_type": "code",
   "execution_count": 64,
   "metadata": {
    "cell_id": "00096-6935fc09-3410-4008-ab25-df992be775e4",
    "deepnote_cell_height": 387,
    "deepnote_cell_type": "code",
    "deepnote_to_be_reexecuted": false,
    "deletable": false,
    "execution_millis": 1,
    "execution_start": 1645186541058,
    "nbgrader": {
     "cell_type": "code",
     "checksum": "aae2c62f2ffd76f5b6c004e9519b9f14",
     "grade": false,
     "grade_id": "cell-e50925fa9093a30d",
     "locked": false,
     "schema_version": 3,
     "solution": true,
     "task": false
    },
    "source_hash": "9a3733da"
   },
   "outputs": [],
   "source": [
    "# TODO: Implement this! (12 points)\n",
    "def average_precision(results, relevant_docs):\n",
    "    \"\"\"\n",
    "    Compute Average Precision (for a single query - the results are\n",
    "    averaged across queries to get MAP in the next few cells)\n",
    "    Hint: You can use the recall_k and precision_k functions here!\n",
    "    Input:\n",
    "        results: A sorted list of 2-tuples (document_id, score), with the most\n",
    "                relevant document in the first position\n",
    "        relevant_docs: A set of relevant documents.\n",
    "    Output: Average Precision\n",
    "    \"\"\"\n",
    "    n_rel_docs = len(relevant_docs)\n",
    "    n_true_pos = 0\n",
    "    \n",
    "    precisions = np.zeros(n_rel_docs)\n",
    "    N = len(results)\n",
    "    for k, (doc_id, _score) in enumerate(results, 1):\n",
    "        if n_true_pos == n_rel_docs:\n",
    "            # we can stop early because we found all the relevant docs\n",
    "            break\n",
    "        if doc_id in relevant_docs:\n",
    "            precisions[n_true_pos] = precision_k(results, relevant_docs, k)\n",
    "            n_true_pos += 1\n",
    "    # compute the average precision\n",
    "    return np.mean(precisions)"
   ]
  },
  {
   "cell_type": "code",
   "execution_count": 65,
   "metadata": {
    "cell_id": "00097-d194398d-53a0-4cd3-a940-4d78e7ce289a",
    "deepnote_cell_height": 278.5625,
    "deepnote_cell_type": "code",
    "deepnote_to_be_reexecuted": false,
    "deletable": false,
    "editable": false,
    "execution_millis": 1266,
    "execution_start": 1645186541145,
    "nbgrader": {
     "cell_type": "code",
     "checksum": "3b00e147c2fa146fa59f179b7c9cab75",
     "grade": true,
     "grade_id": "cell-8a1f7ec98571e58b",
     "locked": true,
     "points": 13,
     "schema_version": 3,
     "solution": false,
     "task": false
    },
    "source_hash": "501861e7"
   },
   "outputs": [
    {
     "name": "stdout",
     "output_type": "stream",
     "text": [
      "query: computational complexity, intractability, class-complete reductions,\n",
      "algorithms and efficiency\n",
      "MAP = 0.1724040411055945\n"
     ]
    }
   ],
   "source": [
    "#### Function check\n",
    "qid = queries[20][0]\n",
    "qtext = queries[20][1]\n",
    "print(f\"query:{qtext}\")\n",
    "results = bm25_search(qtext, 2)\n",
    "mean_ap = average_precision(results, qrels[qid])\n",
    "print(f\"MAP = {mean_ap}\")\n",
    "####"
   ]
  },
  {
   "cell_type": "markdown",
   "metadata": {
    "cell_id": "00098-ff07922a-b997-4d0a-b0b2-16a258d55e09",
    "deepnote_cell_height": 101.390625,
    "deepnote_cell_type": "markdown",
    "deletable": false,
    "editable": false,
    "nbgrader": {
     "cell_type": "markdown",
     "checksum": "36f85f45ef52d9467ba9a717d6d99ff2",
     "grade": false,
     "grade_id": "cell-1da18f0fe6f6d7be",
     "locked": true,
     "schema_version": 3,
     "solution": false,
     "task": false
    }
   },
   "source": [
    "---\n",
    "### 4.5 Expected Reciprocal Rank (13 points)\n",
    "Implement the `err` metric:"
   ]
  },
  {
   "cell_type": "code",
   "execution_count": 66,
   "metadata": {
    "cell_id": "00099-6f85eb2c-52dd-4893-9795-701a871bbb68",
    "deepnote_cell_height": 459,
    "deepnote_cell_type": "code",
    "deepnote_to_be_reexecuted": false,
    "deletable": false,
    "execution_millis": 39,
    "execution_start": 1645186542452,
    "nbgrader": {
     "cell_type": "code",
     "checksum": "9ac94db728e23ea1f5dc0d509473c6fb",
     "grade": false,
     "grade_id": "cell-64262889f9b267ea",
     "locked": false,
     "schema_version": 3,
     "solution": true,
     "task": false
    },
    "source_hash": "337046c"
   },
   "outputs": [],
   "source": [
    "# TODO: Implement this! (12 points)\n",
    "def err(results, relevant_docs):\n",
    "    \"\"\"\n",
    "    Compute the expected reciprocal rank.\n",
    "    Hint: https://dl.acm.org/doi/pdf/10.1145/1645953.1646033?download=true\n",
    "    Input:\n",
    "        results: A sorted list of 2-tuples (document_id, score), with the most\n",
    "            relevant document in the first position\n",
    "        relevant_docs: A set of relevant documents.\n",
    "    Output: ERR (float)\n",
    "\n",
    "    \"\"\"\n",
    "    # YOUR CODE HERE\n",
    "    exp_rec_rank = 0\n",
    "    p = 1\n",
    "    for rank, (doc_id, score) in enumerate(results, 1):\n",
    "        grade = 1 if doc_id in relevant_docs else 0\n",
    "        relevance_prob = (2**grade - 1) / 2\n",
    "        exp_rec_rank += p * (relevance_prob / rank)\n",
    "        p *= 1 - relevance_prob\n",
    "    return exp_rec_rank"
   ]
  },
  {
   "cell_type": "code",
   "execution_count": 67,
   "metadata": {
    "cell_id": "00100-d301d6c2-210d-4182-8817-b2c392d7d10e",
    "deepnote_cell_height": 359.3125,
    "deepnote_cell_type": "code",
    "deepnote_to_be_reexecuted": false,
    "deletable": false,
    "editable": false,
    "execution_millis": 223,
    "execution_start": 1645186542501,
    "nbgrader": {
     "cell_type": "code",
     "checksum": "b7d201de0990b69d5f38704668665d87",
     "grade": true,
     "grade_id": "cell-071e3970ff1afae4",
     "locked": true,
     "points": 13,
     "schema_version": 3,
     "solution": false,
     "task": false
    },
    "source_hash": "c244fd0a"
   },
   "outputs": [
    {
     "name": "stdout",
     "output_type": "stream",
     "text": [
      "qPuery: I'd like to find articles describing the use of singular value decomposition\n",
      "in digital image processing.  Applications include finding approximations\n",
      "to the original image and restoring images that are subject to noise. An\n",
      "article on the subject is H.C. Andrews and C.L. Patterson \"Outer product\n",
      "expansions and their uses in digital image processing\", American Mathematical\n",
      "Monthly, vol. 82.\n",
      "ERR = 0.625\n"
     ]
    }
   ],
   "source": [
    "#### Function check\n",
    "qid = queries[30][0]\n",
    "qtext = queries[30][1]\n",
    "print(f\"qPuery:{qtext}\")\n",
    "results = bm25_search(qtext, 2)\n",
    "ERR = err(results, qrels[qid])\n",
    "print(f\"ERR = {ERR}\")\n",
    "####"
   ]
  },
  {
   "cell_type": "markdown",
   "metadata": {
    "cell_id": "00101-5c45197a-8f43-4e13-b24d-0ef1ad533eef",
    "deepnote_cell_height": 101.390625,
    "deepnote_cell_type": "markdown",
    "deletable": false,
    "editable": false,
    "nbgrader": {
     "cell_type": "markdown",
     "checksum": "5bd94caf77cfa5f34675df758d91002d",
     "grade": false,
     "grade_id": "cell-43709a765f353946",
     "locked": true,
     "schema_version": 3,
     "solution": false,
     "task": false
    }
   },
   "source": [
    "---\n",
    "### 4.6 Evaluate Search Functions\n",
    "\n",
    "Let's define some metrics@k using [partial functions](https://docs.python.org/3/library/functools.html#functools.partial)"
   ]
  },
  {
   "cell_type": "code",
   "execution_count": 68,
   "metadata": {
    "cell_id": "00102-442bc886-57e2-4c21-b7ad-b01e86ff2f2b",
    "deepnote_cell_height": 423,
    "deepnote_cell_type": "code",
    "deepnote_to_be_reexecuted": false,
    "deletable": false,
    "editable": false,
    "execution_millis": 1,
    "execution_start": 1645186542781,
    "nbgrader": {
     "cell_type": "code",
     "checksum": "49ccc158e5fb7340ace55e90eeb9d62a",
     "grade": false,
     "grade_id": "cell-dab560e18e340da8",
     "locked": true,
     "schema_version": 3,
     "solution": false,
     "task": false
    },
    "source_hash": "984c969a"
   },
   "outputs": [],
   "source": [
    "#### metrics@k functions\n",
    "\n",
    "recall_at_1 = partial(recall_k, k=1)\n",
    "recall_at_5 = partial(recall_k, k=5)\n",
    "recall_at_10 = partial(recall_k, k=10)\n",
    "precision_at_1 = partial(precision_k, k=1)\n",
    "precision_at_5 = partial(precision_k, k=5)\n",
    "precision_at_10 = partial(precision_k, k=10)\n",
    "\n",
    "\n",
    "list_of_metrics = [\n",
    "    (\"ERR\", err),\n",
    "    (\"MAP\", average_precision),\n",
    "    (\"Recall@1\", recall_at_1),\n",
    "    (\"Recall@5\", recall_at_5),\n",
    "    (\"Recall@10\", recall_at_10),\n",
    "    (\"Precision@1\", precision_at_1),\n",
    "    (\"Precision@5\", precision_at_5),\n",
    "    (\"Precision@10\", precision_at_10),\n",
    "]"
   ]
  },
  {
   "cell_type": "markdown",
   "metadata": {
    "cell_id": "00103-62e2b5c1-7f8b-4b73-8459-45dac6ed6b05",
    "deepnote_cell_height": 91,
    "deepnote_cell_type": "markdown",
    "deletable": false,
    "editable": false,
    "nbgrader": {
     "cell_type": "markdown",
     "checksum": "fb541002c03221b453b8936290020ea5",
     "grade": false,
     "grade_id": "cell-580a2bdc66d03b47",
     "locked": true,
     "schema_version": 3,
     "solution": false,
     "task": false
    }
   },
   "source": [
    "---\n",
    "\n",
    "The following function evaluates a `search_fn` using the `metric_fn`. Note that the final number is averaged over all the queries"
   ]
  },
  {
   "cell_type": "code",
   "execution_count": 69,
   "metadata": {
    "cell_id": "00104-cc282062-26b4-45c1-8dfa-9b8ca0fc9ed5",
    "deepnote_cell_height": 783,
    "deepnote_cell_type": "code",
    "deepnote_to_be_reexecuted": false,
    "execution_millis": 1,
    "execution_start": 1645186542825,
    "lines_to_next_cell": 2,
    "source_hash": "647a95c2"
   },
   "outputs": [],
   "source": [
    "#### Evaluate a search function\n",
    "\n",
    "list_of_search_fns = [\n",
    "    (\"BOW\", bow_search),\n",
    "    (\"TF-IDF\", tfidf_search),\n",
    "    (\"NaiveQL\", naive_ql_search),\n",
    "    (\"QL\", ql_search),\n",
    "    (\"BM25\", bm25_search),\n",
    "]\n",
    "\n",
    "\n",
    "def evaluate_search_fn(search_fn, metric_fns, index_set=None):\n",
    "    # build a dict query_id -> query\n",
    "    queries_by_id = dict((q[0], q[1]) for q in queries)\n",
    "\n",
    "    metrics = {}\n",
    "    for metric, metric_fn in metric_fns:\n",
    "        metrics[metric] = np.zeros(len(qrels), dtype=np.float32)\n",
    "\n",
    "    # original version\n",
    "    for i, (query_id, relevant_docs) in enumerate(qrels.items()):\n",
    "        query = queries_by_id[query_id]\n",
    "        if index_set:\n",
    "            results = search_fn(query, index_set)\n",
    "        else:\n",
    "            results = search_fn(query)\n",
    "\n",
    "        for metric, metric_fn in metric_fns:\n",
    "            metrics[metric][i] = metric_fn(results, relevant_docs)\n",
    "\n",
    "    final_dict = {}\n",
    "    for metric, metric_vals in metrics.items():\n",
    "        final_dict[metric] = metric_vals.mean()\n",
    "\n",
    "    # fast version for debugging plot\n",
    "    # final_dict = {}\n",
    "    # for metric, metric_vals in metrics.items():\n",
    "    #     final_dict[metric] = metric_vals.mean() + 0.5\n",
    "\n",
    "    return final_dict\n",
    "\n",
    "\n",
    "####"
   ]
  },
  {
   "cell_type": "markdown",
   "metadata": {
    "cell_id": "00105-ba71254a-76a2-4a05-a0a0-148bcf0d753f",
    "deepnote_cell_height": 411.59375,
    "deepnote_cell_type": "markdown",
    "deletable": false,
    "editable": false,
    "nbgrader": {
     "cell_type": "markdown",
     "checksum": "6ea67534f74a8f81e1f504794f641709",
     "grade": false,
     "grade_id": "cell-b156d83a0649cbb4",
     "locked": true,
     "schema_version": 3,
     "solution": false,
     "task": false
    }
   },
   "source": [
    "## Section 5: Analysis (30 points) <a class=\"anchor\" id=\"analysis\"></a>\n",
    "\n",
    "[Back to Part 1](#part1)\n",
    "\n",
    "In the final section of Part1, we will compare the different term-based IR algorithms and different preprocessing configurations and analyze their advantages and disadvantages.\n",
    "\n",
    "### Section 5.1: Plot (20 points)\n",
    "\n",
    "First, gather the results. The results should consider the index set, the different search functions and different metrics. Plot the results in bar charts, per metric, with clear labels.\n",
    "\n",
    "**Rubric:**\n",
    "- Each Metric is plotted: 7 points\n",
    "- Each Method is plotted: 7 points\n",
    "- Clear titles, x label, y labels and legends (if applicable): 6 points"
   ]
  },
  {
   "cell_type": "code",
   "execution_count": 70,
   "metadata": {
    "cell_id": "00106-7e245371-4141-4e15-a142-53d98c682cb7",
    "deepnote_cell_height": 729,
    "deepnote_cell_type": "code",
    "deepnote_output_heights": [
     470.984375
    ],
    "deepnote_to_be_reexecuted": false,
    "deletable": false,
    "execution_millis": 0,
    "execution_start": 1645186542869,
    "nbgrader": {
     "cell_type": "code",
     "checksum": "7e2588a925d13ddf588abe8311dc9cfc",
     "grade": true,
     "grade_id": "cell-46fda42a25863a04",
     "locked": false,
     "points": 20,
     "schema_version": 3,
     "solution": true,
     "task": false
    },
    "source_hash": "1e18f015"
   },
   "outputs": [
    {
     "name": "stdout",
     "output_type": "stream",
     "text": [
      "\n",
      "index set 1:\n",
      "\tBOW\n",
      "{'ERR': 0.055224963,\n",
      " 'MAP': 0.031061875,\n",
      " 'Precision@1': 0.03846154,\n",
      " 'Precision@10': 0.028846154,\n",
      " 'Precision@5': 0.034615386,\n",
      " 'Recall@1': 0.0030982906,\n",
      " 'Recall@10': 0.046087656,\n",
      " 'Recall@5': 0.037126765}\n",
      "\tTF-IDF\n",
      "{'ERR': 0.30517504,\n",
      " 'MAP': 0.17810398,\n",
      " 'Precision@1': 0.3846154,\n",
      " 'Precision@10': 0.17500001,\n",
      " 'Precision@5': 0.21153846,\n",
      " 'Recall@1': 0.07476607,\n",
      " 'Recall@10': 0.22000195,\n",
      " 'Recall@5': 0.1473746}\n",
      "\tNaiveQL\n",
      "{'ERR': 0.02187399,\n",
      " 'MAP': 0.007967688,\n",
      " 'Precision@1': 0.03846154,\n",
      " 'Precision@10': 0.0076923077,\n",
      " 'Precision@5': 0.015384615,\n",
      " 'Recall@1': 0.0037774725,\n",
      " 'Recall@10': 0.008585164,\n",
      " 'Recall@5': 0.008585164}\n",
      "\tQL\n",
      "{'ERR': 0.30951288,\n",
      " 'MAP': 0.16616207,\n",
      " 'Precision@1': 0.34615386,\n",
      " 'Precision@10': 0.19423078,\n",
      " 'Precision@5': 0.25384614,\n",
      " 'Recall@1': 0.046651527,\n",
      " 'Recall@10': 0.21684042,\n",
      " 'Recall@5': 0.17031717}\n",
      "\tBM25\n",
      "{'ERR': 0.37286478,\n",
      " 'MAP': 0.22088145,\n",
      " 'Precision@1': 0.44230768,\n",
      " 'Precision@10': 0.24038464,\n",
      " 'Precision@5': 0.2846154,\n",
      " 'Recall@1': 0.066907376,\n",
      " 'Recall@10': 0.30646548,\n",
      " 'Recall@5': 0.20312355}\n",
      "\n",
      "index set 2:\n",
      "\tBOW\n",
      "{'ERR': 0.11996831,\n",
      " 'MAP': 0.06623642,\n",
      " 'Precision@1': 0.07692308,\n",
      " 'Precision@10': 0.07307692,\n",
      " 'Precision@5': 0.080769226,\n",
      " 'Recall@1': 0.010193701,\n",
      " 'Recall@10': 0.08793031,\n",
      " 'Recall@5': 0.048788056}\n",
      "\tTF-IDF\n",
      "{'ERR': 0.4148428,\n",
      " 'MAP': 0.25480694,\n",
      " 'Precision@1': 0.53846157,\n",
      " 'Precision@10': 0.25,\n",
      " 'Precision@5': 0.33846155,\n",
      " 'Recall@1': 0.10014636,\n",
      " 'Recall@10': 0.29629084,\n",
      " 'Recall@5': 0.23532662}\n",
      "\tNaiveQL\n",
      "{'ERR': 0.06400872,\n",
      " 'MAP': 0.019428182,\n",
      " 'Precision@1': 0.115384616,\n",
      " 'Precision@10': 0.025000002,\n",
      " 'Precision@5': 0.042307694,\n",
      " 'Recall@1': 0.009656762,\n",
      " 'Recall@10': 0.022477273,\n",
      " 'Recall@5': 0.01766958}\n",
      "\tQL\n",
      "{'ERR': 0.40624025,\n",
      " 'MAP': 0.24890317,\n",
      " 'Precision@1': 0.5192308,\n",
      " 'Precision@10': 0.29807693,\n",
      " 'Precision@5': 0.3692308,\n",
      " 'Recall@1': 0.07068591,\n",
      " 'Recall@10': 0.3002048,\n",
      " 'Recall@5': 0.21136688}\n",
      "\tBM25\n",
      "{'ERR': 0.426171,\n",
      " 'MAP': 0.3003765,\n",
      " 'Precision@1': 0.5192308,\n",
      " 'Precision@10': 0.31923077,\n",
      " 'Precision@5': 0.40384614,\n",
      " 'Recall@1': 0.110182874,\n",
      " 'Recall@10': 0.34614927,\n",
      " 'Recall@5': 0.25962994}\n"
     ]
    },
    {
     "data": {
      "image/png": "[encoded data removed]",
      "text/plain": [
       "<Figure size 1008x504 with 8 Axes>"
      ]
     },
     "metadata": {
      "needs_background": "light"
     },
     "output_type": "display_data"
    }
   ],
   "source": [
    "from pprint import pprint\n",
    "# YOUR CODE HERE\n",
    "# takes roughly 30 secs to run\n",
    "fig, axes = plt.subplots(2, 4, figsize=(14, 7), sharey=False)\n",
    "axes = axes.flatten()\n",
    "\n",
    "# need this to make side by side bars\n",
    "N = len(list_of_search_fns)\n",
    "method_loc = np.arange(N)\n",
    "bar_width = 0.25\n",
    "\n",
    "for j, (index_set) in enumerate([1, 2]):\n",
    "    print(f\"\\nindex set {index_set}:\")\n",
    "    results = {}\n",
    "\n",
    "    for search_alg, search_fn in list_of_search_fns:\n",
    "        results[search_alg] = evaluate_search_fn(\n",
    "            search_fn, list_of_metrics, index_set=index_set\n",
    "        )\n",
    "        print(f\"\\t{search_alg}\")\n",
    "        pprint(results[search_alg])\n",
    "\n",
    "    for i, (metric_name, _metric_fn) in enumerate(list_of_metrics):\n",
    "        metric_results = {k: v[metric_name] for k, v in results.items()}\n",
    "        labels = list(metric_results.keys())\n",
    "        values = [metric_results[label] for label in labels]\n",
    "\n",
    "        axes[i].grid(True, which=\"major\", axis=\"y\", alpha=0.35)\n",
    "        if i % 4 == 0:\n",
    "            axes[i].set_ylabel(\"Average Metric Value\")\n",
    "        if j == 0:\n",
    "            axes[i].bar(method_loc, values, bar_width, label=f\"index set {index_set}\")\n",
    "        else:\n",
    "            axes[i].bar(\n",
    "                method_loc + bar_width,\n",
    "                values,\n",
    "                bar_width,\n",
    "                label=f\"index set {index_set}\",\n",
    "            )\n",
    "            axes[i].set_xticks(method_loc + bar_width / 2)\n",
    "            axes[i].set_xticklabels(labels)\n",
    "            axes[i].set_title(metric_name)\n",
    "            if i == 7:\n",
    "                axes[i].legend()\n",
    "\n",
    "fig.suptitle(\"Comparison of different term-based IR algorithms across various Metrics\")\n",
    "fig.tight_layout(rect=[0, 0.03, 1, 0.95])\n",
    "plt.show()"
   ]
  },
  {
   "cell_type": "markdown",
   "metadata": {
    "cell_id": "00107-1573dd7e-069e-42e6-9991-2e09c5ca522c",
    "deepnote_cell_height": 146.140625,
    "deepnote_cell_type": "markdown",
    "deletable": false,
    "editable": false,
    "nbgrader": {
     "cell_type": "markdown",
     "checksum": "e88c444a0acf4e398c65e289169b75f7",
     "grade": false,
     "grade_id": "cell-8aabe3bcf265deb0",
     "locked": true,
     "points": 10,
     "schema_version": 3,
     "solution": false,
     "task": true
    }
   },
   "source": [
    "---\n",
    "### Section 5.2: Summary (10 points)\n",
    "Write a summary of what you observe in the results.\n",
    "Your summary should compare results across the 2 indices and the methods being used. State what you expected to see in the results, followed by either supporting evidence *or* justify why the results did not support your expectations."
   ]
  },
  {
   "cell_type": "markdown",
   "metadata": {
    "cell_id": "00108-6173a881-f376-4ab8-afa5-feefc85830a5",
    "deepnote_cell_height": 52.390625,
    "deepnote_cell_type": "markdown"
   },
   "source": [
    "Regardless of the algorithm used results are universally better across all the metrics when using preprocessing - in particular stemming and stop-word removal. This is in line with expectations based on large body of existing literature in the field of Information retrieval. A likely explanation for the better performance is that stemming collapses index size which increases the likelihood that a query term will be found in a document. Similarly stop word-removal allows models to focus on more relevant words and could be seen as a way of denoising the documents and queries in order to improve performance.\n",
    "\n",
    "In terms of performace it appears that both vector space and lexical models share similar performance across metrics so the choice of what model to use would be largely task dependent and determined by which metric we want to optimise for. For example TF-IDF has better Precision@1 compared to QL which makes it more suitable for tasks such as question answering where a user is looking for a specific highly relevant document but does not care about retrieving the entire body of relevant information. QL on the otherhand outperforms TF-IDF in Precision@5 and Precision@10 which would make it a more suitable choice for example for displaying the first page of results of a search engine.\n",
    "\n",
    "It is worth pointing out that the naive implementations of both vector space and lexical models - BOW and NaiveQL have very poor performance. In the case of BOW that is somewhat surprising because intuitively it seems reasonable to assume that counting the occurence of each query token in the target documents should provide some basic indication of relevance. We demonstrate empirically, however, that token count alone is a very poos prediction of a document's relevance to a query. The poor performance of NaiveQL on the other hand is not surprising given a common problem that naive language models suffer from - namely that unseen words result in zero probability causing the entire product of probabilities to be zero. For both vector space and lexical models are significantly improved by TF-IDF and QL respectively.\n",
    "\n",
    "Finally, we see that the empirically derived approach of BM25 is almost universally better than any of the other models with the notable exception of Precision@1 where TF-IDF is marginally better.\n"
   ]
  },
  {
   "cell_type": "markdown",
   "metadata": {
    "cell_id": "00109-6235ead6-3d31-4a02-b36d-704dfc8e6efb",
    "deepnote_cell_height": 679.140625,
    "deepnote_cell_type": "markdown",
    "deletable": false,
    "editable": false,
    "nbgrader": {
     "cell_type": "markdown",
     "checksum": "b3eb77be74eecca205fc7b47316d1627",
     "grade": false,
     "grade_id": "cell-bb60dd5c092d0f2e",
     "locked": true,
     "schema_version": 3,
     "solution": false,
     "task": false
    }
   },
   "source": [
    "---\n",
    "---\n",
    "# Part 2: Semantic-based Matching (85 points) <a class=\"anchor\" id=\"part2\"></a>\n",
    "\n",
    "[Back to top](#top)\n",
    "\n",
    "We will now experiment with methods that go beyond lexical methods like TF-IDF, which operate at the word level and are high dimensional and sparse, and look at methods which constructs low dimensional dense representations of queries and documents.\n",
    "\n",
    "Since these low-dimensional methods have a higher time complexity, they are typically used in conjunction with methods like BM-25. That is, instead of searching through potentially million documents to find matches using low dimensional vectors, a list of K documents are retrieved using BM25, and then **re-ranked** using the other method. This is the method that is going to be applied in the following exercises.\n",
    "\n",
    "LSI/LDA takes documents that are similar on a semantic level - for instance, if they are describing the same topic - and projects them into nearby vectors, despite having low lexical overlap.\n",
    "\n",
    "In this assignment, you will use `gensim` to create LSI/LDA models and use them in re-ranking.\n",
    "\n",
    "**Note**: The following exercises only uses `doc_repr_2` and `config_2`\n",
    "\n",
    "Table of contents:\n",
    "- [Section 6: LSI](#lsi) (15 points)\n",
    "- [Section 7: LDA](#lda) (10 points)\n",
    "- [Section 8: Word2Vec/Doc2Vec](#2vec) (20 points)\n",
    "- [Section 8: Re-ranking](#reranking) (10 points)\n",
    "- [Section 9: Re-ranking Evaluation](#reranking_eval) (30 points)"
   ]
  },
  {
   "cell_type": "markdown",
   "metadata": {
    "cell_id": "00110-5bcb1bc8-cec9-41c8-af84-5814c41bcace",
    "deepnote_cell_height": 204.59375,
    "deepnote_cell_type": "markdown",
    "deletable": false,
    "editable": false,
    "nbgrader": {
     "cell_type": "markdown",
     "checksum": "f7c7b2cab82f576ed0acf836ca57171c",
     "grade": false,
     "grade_id": "cell-6b2c81e7a8abd180",
     "locked": true,
     "schema_version": 3,
     "solution": false,
     "task": false
    }
   },
   "source": [
    "---\n",
    "## Section 6: Latent Semantic Indexing (LSI) (15 points) <a class=\"anchor\" id=\"lsi\"></a>\n",
    "\n",
    "[Back to Part 2](#part2)\n",
    "\n",
    "LSI is one of the methods to embed the queries and documents into vectors. It is based on a method similar to Principal Component Analysis (PCA) for obtaining a dense concept matrix out of the sparse term-document matrix.\n",
    "\n",
    "See [wikipedia](https://en.wikipedia.org/wiki/Latent_semantic_analysis), particularly [#Mathematics_of_LSI](https://en.wikipedia.org/wiki/Latent_semantic_analysis#Mathematics_of_LSI)."
   ]
  },
  {
   "cell_type": "code",
   "execution_count": 71,
   "metadata": {
    "cell_id": "00111-09fa8f16-3577-43a0-902e-8a9dffdf4d2a",
    "deepnote_cell_height": 189,
    "deepnote_cell_type": "code",
    "deepnote_to_be_reexecuted": false,
    "deletable": false,
    "editable": false,
    "execution_millis": 735,
    "execution_start": 1645186542920,
    "nbgrader": {
     "cell_type": "code",
     "checksum": "c17ee75319cb517e2bf48ec3d9efc329",
     "grade": false,
     "grade_id": "cell-59913daee47f680d",
     "locked": true,
     "schema_version": 3,
     "solution": false,
     "task": false
    },
    "source_hash": "a97e055a"
   },
   "outputs": [],
   "source": [
    "from gensim.corpora import Dictionary\n",
    "from gensim.models import LdaModel, LsiModel, Word2Vec\n",
    "from gensim.models.doc2vec import Doc2Vec, TaggedDocument\n",
    "from gensim import downloader as g_downloader\n",
    "\n",
    "# gensim uses logging, so set it up\n",
    "import logging\n",
    "\n",
    "logging.basicConfig(\n",
    "    format=\"%(asctime)s : %(levelname)s : %(message)s\", level=logging.INFO\n",
    ")"
   ]
  },
  {
   "cell_type": "markdown",
   "metadata": {
    "cell_id": "00112-b7a2dfe3-d382-44dd-a7a6-e2f4a6feee5c",
    "deepnote_cell_height": 235.875,
    "deepnote_cell_type": "markdown",
    "deletable": false,
    "editable": false,
    "nbgrader": {
     "cell_type": "markdown",
     "checksum": "5fce140c546759b54a9fc060901ae77c",
     "grade": false,
     "grade_id": "cell-3644faff4976598a",
     "locked": true,
     "schema_version": 3,
     "solution": false,
     "task": false
    }
   },
   "source": [
    "---\n",
    "### Section 6.1: Cosine Similarity (5 points)<a class=\"anchor\" id=\"cosing_sim\"></a>\n",
    "Before we begin, let us first define our method of similarity for the LSI model, the cosine similarity:\n",
    "\n",
    "$$\\text{similarity} = \\cos(\\theta) = {\\mathbf{A} \\cdot \\mathbf{B} \\over \\|\\mathbf{A}\\| \\|\\mathbf{B}\\|} = \\frac{ \\sum\\limits_{i=1}^{n}{A_i  B_i} }{ \\sqrt{\\sum\\limits_{i=1}^{n}{A_i^2}}  \\sqrt{\\sum\\limits_{i=1}^{n}{B_i^2}} }$$\n",
    "\n",
    "Since we are using gensim, the types of vectors returned by their classes are of the form defined below (they are not just simple vectors):"
   ]
  },
  {
   "cell_type": "code",
   "execution_count": 72,
   "metadata": {
    "cell_id": "00113-b48d2608-3784-4f64-9344-fe76553f9aaf",
    "deepnote_cell_height": 135,
    "deepnote_cell_type": "code",
    "deepnote_to_be_reexecuted": false,
    "deletable": false,
    "editable": false,
    "execution_millis": 16,
    "execution_start": 1645186543665,
    "nbgrader": {
     "cell_type": "code",
     "checksum": "4e340e1a1d546f430c018fd0760e707a",
     "grade": false,
     "grade_id": "cell-3995a50f951314d5",
     "locked": true,
     "schema_version": 3,
     "solution": false,
     "task": false
    },
    "source_hash": "214da9c9"
   },
   "outputs": [],
   "source": [
    "# 1, 2, 3 are either latent dimensions (LSI), or topics (LDA)\n",
    "# The second value in each tuple is a number (LSI) or a probability (LDA)\n",
    "example_vec_1 = [(1, 0.2), (2, 0.3), (3, 0.4)]\n",
    "example_vec_2 = [(1, 0.2), (2, 0.7), (3, 0.4)]"
   ]
  },
  {
   "cell_type": "markdown",
   "metadata": {
    "cell_id": "00114-5b3ead96-66da-40ac-9080-3669fc2631f3",
    "deepnote_cell_height": 75.796875,
    "deepnote_cell_type": "markdown",
    "deletable": false,
    "editable": false,
    "nbgrader": {
     "cell_type": "markdown",
     "checksum": "20832fd4f579f49ae204b0efee02edd1",
     "grade": false,
     "grade_id": "cell-5e54d581858dc8f7",
     "locked": true,
     "schema_version": 3,
     "solution": false,
     "task": false
    }
   },
   "source": [
    "---\n",
    "**Implementation (2+3 points):**\n",
    "Now, implement the `dot product` operation on these types of vectors and using this operator, implement the `cosine similarity` (don't forget: two functions to implement!):"
   ]
  },
  {
   "cell_type": "code",
   "execution_count": 73,
   "metadata": {
    "cell_id": "00115-d8dc29b5-3912-471e-90a3-6a9db763c917",
    "deepnote_cell_height": 531,
    "deepnote_cell_type": "code",
    "deepnote_to_be_reexecuted": false,
    "deletable": false,
    "execution_millis": 10,
    "execution_start": 1645186543706,
    "nbgrader": {
     "cell_type": "code",
     "checksum": "06a712ee75fc213a21c5f0067fd8fe28",
     "grade": false,
     "grade_id": "cell-0e8189f5f93de33f",
     "locked": false,
     "schema_version": 3,
     "solution": true,
     "task": false
    },
    "source_hash": "f02e6495"
   },
   "outputs": [],
   "source": [
    "# TODO: Implement this! (2 points)\n",
    "def dot(vec_1, vec_2):\n",
    "    \"\"\"\n",
    "    vec_1 and vec_2 are of the form: [(int, float), (int, float), ...]\n",
    "    Return the dot product of two such vectors, computed only on the floats\n",
    "    You can assume that the lengths of the vectors are the same, and the dimensions are aligned\n",
    "        i.e you won't get: vec_1 = [(1, 0.2)] ; vec_2 = [(2, 0.3)]\n",
    "                            (dimensions are unaligned and lengths are different)\n",
    "    \"\"\"\n",
    "    # YOUR CODE HERE\n",
    "    return np.dot([x[1] for x in vec_1], [y[1] for y in vec_2])\n",
    "\n",
    "\n",
    "# TODO: Implement this! (3 points)\n",
    "def cosine_sim(vec_1, vec_2):\n",
    "\n",
    "    # YOUR CODE HERE\n",
    "    # check for empty or 0-vectored vectors\n",
    "    if all([el == 0 for dim, el in vec_1]) or all([el == 0 for dim, el in vec_2]):\n",
    "        return 0\n",
    "    \n",
    "    # # Adding a custom function to compute the modulus\n",
    "    def mod(\n",
    "        vec,\n",
    "    ):\n",
    "        # Note: This still assumes that the vector is in the form :\n",
    "        # [(int, float), (int, float), ...]\n",
    "        return np.sqrt(sum(x[1] ** 2 for x in vec))\n",
    "    \n",
    "    # actually compute similarity\n",
    "    return dot(vec_1, vec_2) / (mod(vec_1) * mod(vec_2))"
   ]
  },
  {
   "cell_type": "code",
   "execution_count": 74,
   "metadata": {
    "cell_id": "00116-d4733e51-dfd0-4e9c-9240-9382dd06a589",
    "deepnote_cell_height": 224.5625,
    "deepnote_cell_type": "code",
    "deepnote_to_be_reexecuted": false,
    "deletable": false,
    "editable": false,
    "execution_millis": 11246808,
    "execution_start": 1645186543759,
    "nbgrader": {
     "cell_type": "code",
     "checksum": "d22a4a7325ba7815a808390388f534a1",
     "grade": true,
     "grade_id": "cell-b25d04ed6b79fd35",
     "locked": true,
     "points": 2,
     "schema_version": 3,
     "solution": false,
     "task": false
    },
    "source_hash": "f54a94bb"
   },
   "outputs": [
    {
     "name": "stdout",
     "output_type": "stream",
     "text": [
      "vectors: ([(1, 0.2), (2, 0.3), (3, 0.4)], [(1, 0.2), (2, 0.7), (3, 0.4)])\n",
      "dot product = 0.41000000000000003\n",
      "cosine similarity = 0.9165587597202866\n"
     ]
    }
   ],
   "source": [
    "##### Function check\n",
    "print(f\"vectors: {(example_vec_1,example_vec_2)}\")\n",
    "print(f\"dot product = {dot(example_vec_1,example_vec_2)}\")\n",
    "print(f\"cosine similarity = {cosine_sim(example_vec_1,example_vec_2)}\")\n",
    "#####"
   ]
  },
  {
   "cell_type": "code",
   "execution_count": 75,
   "metadata": {
    "cell_id": "00117-1b58cb35-2d08-4e28-8f2b-6de011617cf4",
    "deepnote_cell_height": 81,
    "deepnote_cell_type": "code",
    "deepnote_to_be_reexecuted": false,
    "deletable": false,
    "editable": false,
    "execution_millis": 11246825,
    "execution_start": 1645186543833,
    "nbgrader": {
     "cell_type": "code",
     "checksum": "0744131724ce76b1b3f163b4bae5f700",
     "grade": true,
     "grade_id": "cell-ae3c4466866ace77",
     "locked": true,
     "points": 3,
     "schema_version": 3,
     "solution": false,
     "task": false
    },
    "source_hash": "28110d30"
   },
   "outputs": [],
   "source": [
    "#### Please do not change this. This cell is used for grading."
   ]
  },
  {
   "cell_type": "markdown",
   "metadata": {
    "cell_id": "00118-a369a32d-5d88-4db7-b799-15d230e97a18",
    "deepnote_cell_height": 123.796875,
    "deepnote_cell_type": "markdown",
    "deletable": false,
    "editable": false,
    "nbgrader": {
     "cell_type": "markdown",
     "checksum": "9b123f599f9ea372d14676e23f1c6a52",
     "grade": false,
     "grade_id": "cell-4b2534067c44fcdf",
     "locked": true,
     "schema_version": 3,
     "solution": false,
     "task": false
    }
   },
   "source": [
    "---\n",
    "### Section 6.2: LSI Retrieval (10 points)<a class=\"anchor\" id=\"lsi_retrieval\"></a>\n",
    "LSI retrieval is simply ranking the documents based on their cosine similarity to the query vector.\n",
    "First, let's write a parent class for vector-based retrieval models:"
   ]
  },
  {
   "cell_type": "code",
   "execution_count": 76,
   "metadata": {
    "cell_id": "00119-814ff936-077e-4cc4-993b-e4228ac65973",
    "deepnote_cell_height": 1017,
    "deepnote_cell_type": "code",
    "deepnote_to_be_reexecuted": false,
    "deletable": false,
    "editable": false,
    "execution_millis": 11246845,
    "execution_start": 1645186543834,
    "nbgrader": {
     "cell_type": "code",
     "checksum": "ecc111d58182570e2252b8ef5d6b02af",
     "grade": false,
     "grade_id": "cell-937936cea18711ee",
     "locked": true,
     "schema_version": 3,
     "solution": false,
     "task": false
    },
    "source_hash": "c421a787"
   },
   "outputs": [],
   "source": [
    "class VectorSpaceRetrievalModel:\n",
    "    \"\"\"\n",
    "    Parent class for Dense Vector Retrieval models\n",
    "    \"\"\"\n",
    "\n",
    "    def __init__(self, doc_repr):\n",
    "        \"\"\"\n",
    "        document_collection:\n",
    "            [\n",
    "                (doc_id_1, [token 1, token 2, ...]),\n",
    "                (doc_id_2, [token 1, token 2, ....])\n",
    "                ...\n",
    "            ]\n",
    "\n",
    "        \"\"\"\n",
    "        self.doc_repr = doc_repr\n",
    "        self.documents = [_[1] for _ in self.doc_repr]\n",
    "\n",
    "        # construct a dictionary\n",
    "        self.dictionary = Dictionary(self.documents)\n",
    "        # Filter out words that occur less than 20 documents, or more than 50% of the documents.\n",
    "        self.dictionary.filter_extremes(no_below=10)\n",
    "        self.corpus = [self.dictionary.doc2bow(doc) for doc in self.documents]\n",
    "\n",
    "        # Make a index to word dictionary.\n",
    "        temp = self.dictionary[0]  # This is only to \"load\" the dictionary.\n",
    "        self.id2word = self.dictionary.id2token\n",
    "\n",
    "        # this is set by the train_model function\n",
    "        self.model = None\n",
    "\n",
    "    def vectorize_documents(self):\n",
    "        \"\"\"\n",
    "        Returns a doc_id -> vector dictionary\n",
    "        \"\"\"\n",
    "        vectors = {}\n",
    "        for (doc_id, _), cc in zip(self.doc_repr, self.corpus):\n",
    "            vectors[doc_id] = self.model[cc]\n",
    "        return vectors\n",
    "\n",
    "    def vectorize_query(self, query):\n",
    "        # Note the use of config_2 here!\n",
    "        query = process_text(query, **config_2)\n",
    "        query_vector = self.dictionary.doc2bow(query)\n",
    "        return self.model[query_vector]\n",
    "\n",
    "    def train_model(self):\n",
    "        \"\"\"\n",
    "        Trains a model and sets the 'self.model' variable.\n",
    "        Make sure to use the variables created in the __init__ method.\n",
    "        e.g the variables which may be useful: {corpus, dictionary, id2word}\n",
    "        \"\"\"\n",
    "        raise NotImplementedError()"
   ]
  },
  {
   "cell_type": "markdown",
   "metadata": {
    "cell_id": "00120-41460ee2-1ba5-4e9b-8779-fc6d4bfda152",
    "deepnote_cell_height": 181,
    "deepnote_cell_type": "markdown",
    "deletable": false,
    "editable": false,
    "nbgrader": {
     "cell_type": "markdown",
     "checksum": "ff161eefd9b81b768cd6361bc1a502b0",
     "grade": false,
     "grade_id": "cell-704a18c2f80cd60c",
     "locked": true,
     "schema_version": 3,
     "solution": false,
     "task": false
    }
   },
   "source": [
    "---\n",
    "**Implementation (5 points):**\n",
    "Implement the `train_model` method in the following class (note that this is only one line of code in `gensim`!). Ensure that the parameters defined in the `__init__` method are not changed, and are *used in the `train_method` function*. Normally, the hyperaparameter space will be searched using grid search / other methods - in this assignment we have provided the hyperparameters for you.\n",
    "\n",
    "The last two lines of code train an LSI model on the list of documents which have been stemmed, lower-cased and have stopwords removed."
   ]
  },
  {
   "cell_type": "code",
   "execution_count": 77,
   "metadata": {
    "cell_id": "00121-9056c69d-5f3f-4d7d-bdd1-1593996f65a1",
    "deepnote_cell_height": 333,
    "deepnote_cell_type": "code",
    "deepnote_to_be_reexecuted": false,
    "deletable": false,
    "execution_millis": 0,
    "execution_start": 1645186543877,
    "nbgrader": {
     "cell_type": "code",
     "checksum": "0e90eedc27c248bc1ae050518a46a46c",
     "grade": false,
     "grade_id": "cell-307682c9089f15d6",
     "locked": false,
     "schema_version": 3,
     "solution": true,
     "task": false
    },
    "source_hash": "bab726fa"
   },
   "outputs": [],
   "source": [
    "# TODO: Implement this! (5 points)\n",
    "class LsiRetrievalModel(VectorSpaceRetrievalModel):\n",
    "    def __init__(self, doc_repr):\n",
    "        super().__init__(doc_repr)\n",
    "\n",
    "        self.num_topics = 100\n",
    "        self.chunksize = 2000\n",
    "\n",
    "    def train_model(self):\n",
    "        self.model = LsiModel(\n",
    "            corpus=self.corpus,\n",
    "            id2word=self.id2word,\n",
    "            num_topics=self.num_topics,\n",
    "            chunksize=self.chunksize,\n",
    "        )"
   ]
  },
  {
   "cell_type": "code",
   "execution_count": 78,
   "metadata": {
    "cell_id": "00122-3bd0788f-3ce1-4afe-8344-6361027be847",
    "deepnote_cell_height": 1451,
    "deepnote_cell_type": "code",
    "deepnote_output_heights": [
     null,
     611
    ],
    "deepnote_to_be_reexecuted": false,
    "deletable": false,
    "editable": false,
    "execution_millis": 2220,
    "execution_start": 1645186543878,
    "nbgrader": {
     "cell_type": "code",
     "checksum": "00399cfe13d60cb4beed1271e36004b0",
     "grade": true,
     "grade_id": "cell-5ce512650c1b2dfb",
     "locked": true,
     "points": 0,
     "schema_version": 3,
     "solution": false,
     "task": false
    },
    "source_hash": "31499d4f",
    "tags": []
   },
   "outputs": [
    {
     "name": "stderr",
     "output_type": "stream",
     "text": [
      "2022-02-25 14:45:26,646 : INFO : adding document #0 to Dictionary(0 unique tokens: [])\n",
      "2022-02-25 14:45:26,761 : INFO : built Dictionary(5937 unique tokens: ['-', 'algebra', 'intern', 'languag', 'preliminari']...) from 3204 documents (total 115969 corpus positions)\n",
      "2022-02-25 14:45:26,768 : INFO : discarding 4740 tokens: [('repeat', 8), ('glossari', 7), ('inspect', 8), ('uncol', 2), ('rung', 9), ('secant', 2), ('.', 1603), ('acceler', 6), ('diverg', 3), ('induc', 9)]...\n",
      "2022-02-25 14:45:26,769 : INFO : keeping 1197 tokens which were in no less than 10 and no more than 1602 (=50.0%) documents\n",
      "2022-02-25 14:45:26,771 : INFO : resulting dictionary: Dictionary(1197 unique tokens: ['-', 'algebra', 'intern', 'languag', 'preliminari']...)\n",
      "2022-02-25 14:45:26,831 : INFO : using serial LSI version on this node\n",
      "2022-02-25 14:45:26,832 : INFO : updating model with new documents\n",
      "2022-02-25 14:45:26,832 : INFO : preparing a new chunk of documents\n",
      "2022-02-25 14:45:26,844 : INFO : using 100 extra samples and 2 power iterations\n",
      "2022-02-25 14:45:26,845 : INFO : 1st phase: constructing (1197, 200) action matrix\n",
      "2022-02-25 14:45:26,860 : INFO : orthonormalizing (1197, 200) action matrix\n",
      "2022-02-25 14:45:26,901 : INFO : 2nd phase: running dense svd on (200, 2000) matrix\n",
      "2022-02-25 14:45:26,940 : INFO : computing the final decomposition\n",
      "2022-02-25 14:45:26,941 : INFO : keeping 100 factors (discarding 13.453% of energy spectrum)\n",
      "2022-02-25 14:45:26,945 : INFO : processed documents up to #2000\n",
      "2022-02-25 14:45:26,947 : INFO : topic #0(152.127): 0.741*\",\" + 0.342*\"-\" + 0.211*\"system\" + 0.204*\"program\" + 0.192*\"comput\" + 0.146*\"(\" + 0.127*\"languag\" + 0.108*\")\" + 0.084*\"gener\" + 0.083*\"data\"\n",
      "2022-02-25 14:45:26,948 : INFO : topic #1(60.600): -0.607*\"(\" + -0.434*\")\" + -0.366*\"algorithm\" + -0.300*\"-\" + 0.237*\",\" + 0.213*\"system\" + 0.132*\"comput\" + -0.096*\"[\" + 0.093*\"program\" + -0.084*\"])\"\n",
      "2022-02-25 14:45:26,949 : INFO : topic #2(57.438): -0.744*\"-\" + 0.452*\",\" + -0.263*\"system\" + 0.214*\"(\" + 0.166*\")\" + -0.107*\"time\" + -0.105*\"program\" + 0.094*\"algorithm\" + -0.068*\"comput\" + -0.067*\"share\"\n",
      "2022-02-25 14:45:26,950 : INFO : topic #3(48.370): -0.483*\"system\" + -0.375*\"program\" + -0.367*\"comput\" + 0.363*\"-\" + 0.308*\",\" + -0.212*\"(\" + -0.168*\")\" + -0.147*\"algorithm\" + 0.144*\"languag\" + -0.119*\"time\"\n",
      "2022-02-25 14:45:26,951 : INFO : topic #4(45.710): -0.489*\"comput\" + 0.475*\"languag\" + 0.428*\"program\" + -0.238*\"method\" + -0.141*\"problem\" + 0.121*\"system\" + 0.109*\")\" + -0.107*\"equat\" + -0.100*\"algorithm\" + 0.099*\"(\"\n",
      "2022-02-25 14:45:26,952 : INFO : preparing a new chunk of documents\n",
      "2022-02-25 14:45:26,964 : INFO : using 100 extra samples and 2 power iterations\n",
      "2022-02-25 14:45:26,965 : INFO : 1st phase: constructing (1197, 200) action matrix\n",
      "2022-02-25 14:45:26,977 : INFO : orthonormalizing (1197, 200) action matrix\n",
      "2022-02-25 14:45:27,023 : INFO : 2nd phase: running dense svd on (200, 1204) matrix\n",
      "2022-02-25 14:45:27,056 : INFO : computing the final decomposition\n",
      "2022-02-25 14:45:27,057 : INFO : keeping 100 factors (discarding 14.003% of energy spectrum)\n",
      "2022-02-25 14:45:27,059 : INFO : merging projections: (1197, 100) + (1197, 100)\n",
      "2022-02-25 14:45:27,076 : INFO : keeping 100 factors (discarding 8.165% of energy spectrum)\n",
      "2022-02-25 14:45:27,080 : INFO : processed documents up to #3204\n",
      "2022-02-25 14:45:27,081 : INFO : topic #0(225.136): 0.759*\",\" + 0.337*\"-\" + 0.196*\"system\" + 0.186*\"program\" + 0.166*\"comput\" + 0.139*\"(\" + 0.103*\")\" + 0.103*\"algorithm\" + 0.099*\"languag\" + 0.087*\"time\"\n",
      "2022-02-25 14:45:27,081 : INFO : topic #1(87.805): 0.613*\"-\" + -0.399*\",\" + 0.399*\"(\" + 0.326*\"algorithm\" + 0.293*\")\" + -0.129*\"system\" + -0.107*\"program\" + 0.085*\"method\" + 0.077*\"time\" + 0.062*\"1\"\n",
      "2022-02-25 14:45:27,082 : INFO : topic #2(81.909): 0.550*\"-\" + -0.434*\"(\" + 0.355*\"system\" + -0.321*\")\" + -0.291*\",\" + -0.266*\"algorithm\" + 0.146*\"program\" + 0.123*\"comput\" + 0.078*\"time\" + -0.064*\"[\"\n",
      "2022-02-25 14:45:27,083 : INFO : topic #3(72.433): -0.693*\"program\" + 0.339*\",\" + 0.279*\"-\" + -0.251*\"(\" + -0.221*\"system\" + -0.214*\"languag\" + -0.204*\")\" + -0.160*\"comput\" + -0.099*\"data\" + -0.056*\"execut\"\n",
      "2022-02-25 14:45:27,084 : INFO : topic #4(68.523): -0.673*\"system\" + 0.453*\"program\" + 0.254*\"languag\" + 0.212*\"-\" + -0.179*\"comput\" + -0.165*\"(\" + -0.121*\")\" + -0.115*\"model\" + 0.101*\",\" + -0.098*\"algorithm\"\n"
     ]
    },
    {
     "data": {
      "text/plain": [
       "[(0, 0.01521464616586531),\n",
       " (1, -0.016260931490119857),\n",
       " (2, -0.00019901347779743101),\n",
       " (3, -0.001832050316150156),\n",
       " (4, -0.009418259236658112),\n",
       " (5, -0.0047811206145749715),\n",
       " (6, 0.02706268638088985),\n",
       " (7, 0.01670570305244425),\n",
       " (8, -0.031674555786981),\n",
       " (9, -0.00047880187380887687),\n",
       " (10, 0.002077428680917194),\n",
       " (11, -0.01759492530958412),\n",
       " (12, 0.00010879694177475321),\n",
       " (13, 0.001626290993612457),\n",
       " (14, 0.003622428849004827),\n",
       " (15, 0.0054677748823784246),\n",
       " (16, 0.006312323656469109),\n",
       " (17, 0.002344648370790077),\n",
       " (18, -0.017996678702831094),\n",
       " (19, 0.018913868535404544),\n",
       " (20, -0.011787220003455168),\n",
       " (21, -0.013305049692255854),\n",
       " (22, 0.04787499710384611),\n",
       " (23, 0.026222481517199005),\n",
       " (24, -0.010505942513673828),\n",
       " (25, -0.009604260475572836),\n",
       " (26, 0.005035253185336692),\n",
       " (27, 0.07559777101355394),\n",
       " (28, -0.06251368093363478),\n",
       " (29, 0.03064982117671478),\n",
       " (30, 0.04038480966467154),\n",
       " (31, 0.04406097505735118),\n",
       " (32, -0.07043820231543839),\n",
       " (33, 0.05253531993755976),\n",
       " (34, -0.023630672094003026),\n",
       " (35, 0.06355194038501244),\n",
       " (36, 0.03918901305675927),\n",
       " (37, -0.014535072164033259),\n",
       " (38, -0.0612953338684579),\n",
       " (39, 0.02487839560329999),\n",
       " (40, -0.04461919146237103),\n",
       " (41, -0.03123500557576278),\n",
       " (42, 0.024339625094829898),\n",
       " (43, 0.02021854691380208),\n",
       " (44, 0.01974964525556549),\n",
       " (45, -0.055446102051556104),\n",
       " (46, -0.008047667932014783),\n",
       " (47, 0.009197327263094796),\n",
       " (48, 0.019583069167555846),\n",
       " (49, 0.03481695983251521),\n",
       " (50, -0.008339697650083376),\n",
       " (51, 0.05154414569847601),\n",
       " (52, -0.010582766386075936),\n",
       " (53, 0.006435936441844531),\n",
       " (54, 0.04244661992161143),\n",
       " (55, 0.034587966388271565),\n",
       " (56, -0.0035743880924534732),\n",
       " (57, -0.011755774329914627),\n",
       " (58, -0.016680689364948223),\n",
       " (59, 0.04801812665452328),\n",
       " (60, -0.01638854798412071),\n",
       " (61, -0.04624005146671081),\n",
       " (62, -0.009862216938610084),\n",
       " (63, 0.05401778389343477),\n",
       " (64, -0.015262516461484715),\n",
       " (65, 0.007823215250811708),\n",
       " (66, 0.04540635566874936),\n",
       " (67, 0.04764392640127967),\n",
       " (68, -0.054057288001345113),\n",
       " (69, -0.022870879992794853),\n",
       " (70, -0.05050387290793091),\n",
       " (71, -0.024784432753288507),\n",
       " (72, 0.017305279276863844),\n",
       " (73, -0.10118038206767015),\n",
       " (74, 0.008482156892110326),\n",
       " (75, 0.02803111931780632),\n",
       " (76, -0.021831730434177285),\n",
       " (77, 0.03416676226882004),\n",
       " (78, 0.04456968901586527),\n",
       " (79, 0.002569150027628142),\n",
       " (80, -0.04432846995377471),\n",
       " (81, -0.024810375310741855),\n",
       " (82, 0.030548796445449958),\n",
       " (83, 0.0036443228368320283),\n",
       " (84, -0.04437469523626485),\n",
       " (85, 0.02761548410672925),\n",
       " (86, 0.020050185944646828),\n",
       " (87, -0.013435563947748298),\n",
       " (88, -0.07648253553975334),\n",
       " (89, -0.06341171030233932),\n",
       " (90, -0.01842442154402555),\n",
       " (91, 0.060490508803154076),\n",
       " (92, 0.021326049643591048),\n",
       " (93, 0.00425558185634177),\n",
       " (94, -0.0798092610827605),\n",
       " (95, -0.0019185193962439617),\n",
       " (96, -0.0005783016013728671),\n",
       " (97, 0.01197528996744016),\n",
       " (98, 0.016437033470058406),\n",
       " (99, -0.019081060374097535)]"
      ]
     },
     "execution_count": 78,
     "metadata": {},
     "output_type": "execute_result"
    }
   ],
   "source": [
    "##### Function check\n",
    "lsi = LsiRetrievalModel(doc_repr_2)\n",
    "lsi.train_model()\n",
    "\n",
    "# you can now get an LSI vector for a given query in the following way:\n",
    "lsi.vectorize_query(\"report\")\n",
    "#####"
   ]
  },
  {
   "cell_type": "markdown",
   "metadata": {
    "cell_id": "00123-e372e3ee-50ec-4225-ab44-bb4d14ac8190",
    "deepnote_cell_height": 52.390625,
    "deepnote_cell_type": "markdown",
    "deletable": false,
    "editable": false,
    "nbgrader": {
     "cell_type": "markdown",
     "checksum": "7116bb9f576c5bb04934e1d59c51d729",
     "grade": false,
     "grade_id": "cell-4c5eeb557b4fca2f",
     "locked": true,
     "points": 5,
     "schema_version": 3,
     "solution": false,
     "task": true
    }
   },
   "source": [
    "\\#### Please do not change this. This cell is used for grading."
   ]
  },
  {
   "cell_type": "markdown",
   "metadata": {
    "cell_id": "00124-d9fd321a-609f-4da5-8d2d-584c9ed530d3",
    "deepnote_cell_height": 73,
    "deepnote_cell_type": "markdown",
    "deletable": false,
    "editable": false,
    "nbgrader": {
     "cell_type": "markdown",
     "checksum": "26e2ff3c413745e633d99f66c041d6b1",
     "grade": false,
     "grade_id": "cell-c4e50296cd17a555",
     "locked": true,
     "schema_version": 3,
     "solution": false,
     "task": false
    }
   },
   "source": [
    "---\n",
    "**Implementation (5 points):**\n",
    " Next, implement a basic ranking class for vector space retrieval (used for all semantic methods):"
   ]
  },
  {
   "cell_type": "code",
   "execution_count": 79,
   "metadata": {
    "cell_id": "00125-826a2865-fd5c-4886-96fd-21c5894bcd77",
    "deepnote_cell_height": 765,
    "deepnote_cell_type": "code",
    "deepnote_to_be_reexecuted": false,
    "deletable": false,
    "execution_millis": 1,
    "execution_start": 1645186546165,
    "nbgrader": {
     "cell_type": "code",
     "checksum": "1a8389d2f0635c3405e2b0b27ed9f327",
     "grade": false,
     "grade_id": "cell-250515d288e80cdc",
     "locked": false,
     "schema_version": 3,
     "solution": true,
     "task": false
    },
    "source_hash": "eb69cddb"
   },
   "outputs": [],
   "source": [
    "# TODO: Implement this! (5 points)\n",
    "class DenseRetrievalRanker:\n",
    "    def __init__(self, vsrm, similarity_fn):\n",
    "        \"\"\"\n",
    "        vsrm: instance of `VectorSpaceRetrievalModel`\n",
    "        similarity_fn: function instance that takes in two vectors\n",
    "                        and returns a similarity score e.g cosine_sim defined earlier\n",
    "        \"\"\"\n",
    "        self.vsrm = vsrm\n",
    "        self.vectorized_documents = self.vsrm.vectorize_documents()\n",
    "        self.similarity_fn = similarity_fn\n",
    "\n",
    "    def _compute_sim(self, query_vector):\n",
    "        \"\"\"\n",
    "        Compute the similarity of `query_vector` to documents in\n",
    "        `self.vectorized_documents` using `self.similarity_fn`\n",
    "        Returns a list of (doc_id, score) tuples\n",
    "        \"\"\"\n",
    "        # result = []\n",
    "        result = [\n",
    "            (doc_id, self.similarity_fn(query_vector, doc))\n",
    "            for doc_id, doc in self.vectorized_documents.items()\n",
    "        ]\n",
    "        return result\n",
    "\n",
    "    def search(self, query):\n",
    "        scores = self._compute_sim(self.vsrm.vectorize_query(query))\n",
    "        scores.sort(key=lambda _: -_[1])\n",
    "        return scores"
   ]
  },
  {
   "cell_type": "code",
   "execution_count": 80,
   "metadata": {
    "cell_id": "00126-61a00dcc-2fd6-4dc9-9bdd-24f69e74576b",
    "deepnote_cell_height": 248.9375,
    "deepnote_cell_type": "code",
    "deepnote_output_heights": [
     97.9375
    ],
    "deepnote_to_be_reexecuted": false,
    "deletable": false,
    "editable": false,
    "execution_millis": 2654,
    "execution_start": 1645186546166,
    "nbgrader": {
     "cell_type": "code",
     "checksum": "f237dd1ef6c1783c06797f4b514421f5",
     "grade": true,
     "grade_id": "cell-b73068b3e77a8e31",
     "locked": true,
     "points": 0,
     "schema_version": 3,
     "solution": false,
     "task": false
    },
    "source_hash": "d95413f2"
   },
   "outputs": [
    {
     "data": {
      "text/plain": [
       "[('599', 0.8004293339555856),\n",
       " ('947', 0.5840096124948876),\n",
       " ('53', 0.5106140799907105),\n",
       " ('1339', 0.4661482241806964),\n",
       " ('3160', 0.4422142342060328)]"
      ]
     },
     "execution_count": 80,
     "metadata": {},
     "output_type": "execute_result"
    }
   ],
   "source": [
    "##### Function check\n",
    "drm_lsi = DenseRetrievalRanker(lsi, cosine_sim)\n",
    "drm_lsi.search(\"report\")[:5]\n",
    "#####"
   ]
  },
  {
   "cell_type": "markdown",
   "metadata": {
    "cell_id": "00127-61d1bfa7-3b4f-4bae-9849-3abf43008fb7",
    "deepnote_cell_height": 52.390625,
    "deepnote_cell_type": "markdown",
    "deletable": false,
    "editable": false,
    "nbgrader": {
     "cell_type": "markdown",
     "checksum": "5b3f19fdcaa585d263706d5a26038799",
     "grade": false,
     "grade_id": "cell-034c755a6502b868",
     "locked": true,
     "points": 5,
     "schema_version": 3,
     "solution": false,
     "task": true
    }
   },
   "source": [
    "\\#### Please do not change this. This cell is used for grading."
   ]
  },
  {
   "cell_type": "markdown",
   "metadata": {
    "cell_id": "00128-76ede674-a982-4ad0-abe7-680c64dc6488",
    "deepnote_cell_height": 75.796875,
    "deepnote_cell_type": "markdown",
    "deletable": false,
    "editable": false,
    "nbgrader": {
     "cell_type": "markdown",
     "checksum": "dcafef6e037033c46304b914f7c78bdf",
     "grade": false,
     "grade_id": "cell-d1df23f497d5ed6b",
     "locked": true,
     "schema_version": 3,
     "solution": false,
     "task": false
    }
   },
   "source": [
    "---\n",
    "Now, you can test your LSI model in the following cell: try finding queries which are lexically different to documents, but semantically similar - does LSI work well for these queries?!"
   ]
  },
  {
   "cell_type": "code",
   "execution_count": 81,
   "metadata": {
    "cell_id": "00129-e8052686-38ce-490b-8725-f62afa5b6285",
    "deepnote_cell_height": 663,
    "deepnote_cell_type": "code",
    "deepnote_to_be_reexecuted": false,
    "deletable": false,
    "editable": false,
    "execution_millis": 45,
    "execution_start": 1645186548831,
    "nbgrader": {
     "cell_type": "code",
     "checksum": "11734bc7674377b340ad51297a8e8bb5",
     "grade": false,
     "grade_id": "cell-efd1d08dfc04ec3e",
     "locked": true,
     "schema_version": 3,
     "solution": false,
     "task": false
    },
    "source_hash": "15e4943e"
   },
   "outputs": [
    {
     "data": {
      "application/vnd.jupyter.widget-view+json": {
       "model_id": "5f491a738ae0474fa4b13797b341c528",
       "version_major": 2,
       "version_minor": 0
      },
      "text/plain": [
       "Text(value='', description='Search Bar')"
      ]
     },
     "metadata": {},
     "output_type": "display_data"
    }
   ],
   "source": [
    "# test your LSI model\n",
    "search_fn = drm_lsi.search\n",
    "\n",
    "text = widgets.Text(description=\"Search Bar\", width=200)\n",
    "display(text)\n",
    "\n",
    "\n",
    "def make_results_2(query, search_fn):\n",
    "    results = []\n",
    "    for doc_id, score in search_fn(query):\n",
    "        highlight = highlight_text(docs_by_id[doc_id], query)\n",
    "        if len(highlight.strip()) == 0:\n",
    "            highlight = docs_by_id[doc_id]\n",
    "        results.append(ResultRow(doc_id, highlight, score))\n",
    "    return results\n",
    "\n",
    "\n",
    "def handle_submit_2(sender):\n",
    "    print(f\"Searching for: '{sender.value}' (SEARCH FN: {search_fn})\")\n",
    "\n",
    "    results = make_results_2(sender.value, search_fn)\n",
    "\n",
    "    # display only the top 5\n",
    "    results = results[:5]\n",
    "\n",
    "    body = \"\"\n",
    "    for idx, r in enumerate(results):\n",
    "        body += f\"<li>Document #{r.doc_id}({r.score}): {r.snippet}</li>\"\n",
    "    display(HTML(f\"<ul>{body}</ul>\"))\n",
    "\n",
    "\n",
    "text.on_submit(handle_submit_2)"
   ]
  },
  {
   "cell_type": "markdown",
   "metadata": {
    "cell_id": "00130-70ac6c5f-a513-4253-abde-f31df522d92d",
    "deepnote_cell_height": 190.59375,
    "deepnote_cell_type": "markdown",
    "deletable": false,
    "editable": false,
    "nbgrader": {
     "cell_type": "markdown",
     "checksum": "d074ce1ca48384cdda78742741c938be",
     "grade": false,
     "grade_id": "cell-3a86cef264d8f6cf",
     "locked": true,
     "schema_version": 3,
     "solution": false,
     "task": false
    }
   },
   "source": [
    "---\n",
    "## Section 7: Latent Dirichlet Allocation (LDA) (10 points) <a class=\"anchor\" id=\"lda\"></a>\n",
    "\n",
    "[Back to Part 2](#part2)\n",
    "\n",
    "The specifics of LDA is out of the scope of this assignment, but we will use the `gensim` implementation to perform search using LDA over our small document collection. The key thing to remember is that LDA, unlike LSI, outputs a topic **distribution**, not a vector. With that in mind, let's first define a similarity measure.\n"
   ]
  },
  {
   "cell_type": "markdown",
   "metadata": {
    "cell_id": "00131-ec0e884b-e164-4ba8-9ed6-c767c87825c3",
    "deepnote_cell_height": 182.59375,
    "deepnote_cell_type": "markdown",
    "deletable": false,
    "editable": false,
    "nbgrader": {
     "cell_type": "markdown",
     "checksum": "db01092373b18f0c9dfed1bb17db4ad9",
     "grade": false,
     "grade_id": "cell-6b78ad22c2d60ba7",
     "locked": true,
     "schema_version": 3,
     "solution": false,
     "task": false
    }
   },
   "source": [
    "---\n",
    "### Section 7.1: Jenson-Shannon divergence (5 points) <a class=\"anchor\" id=\"js_sim\"></a>\n",
    "\n",
    "The Jenson-Shannon divergence is a symmetric and finite measure on two probability distributions (unlike the KL, which is neither). For identical distributions, the JSD is equal to 0, and since our code uses 0 as irrelevant and higher scores as relevant, we use `(1 - JSD)` as the score or 'similarity' in our setup\n",
    "\n",
    "**Note**: the JSD is bounded to \\[0,1\\] only if we use log base 2. So please ensure that you're using `np.log2` instead of `np.log`"
   ]
  },
  {
   "cell_type": "code",
   "execution_count": 82,
   "metadata": {
    "cell_id": "00132-ccb9488f-e93e-484d-891a-5260b0b3ba46",
    "deepnote_cell_height": 783,
    "deepnote_cell_type": "code",
    "deepnote_to_be_reexecuted": false,
    "deletable": false,
    "execution_millis": 14,
    "execution_start": 1645186548888,
    "nbgrader": {
     "cell_type": "code",
     "checksum": "a579e6cd7a24a3516bc9a84528b392d3",
     "grade": false,
     "grade_id": "cell-d2376a85a4841e98",
     "locked": false,
     "schema_version": 3,
     "solution": true,
     "task": false
    },
    "source_hash": "887f6708"
   },
   "outputs": [],
   "source": [
    "## TODO: Implement this! (5 points)\n",
    "def jenson_shannon_divergence(vec_1, vec_2, assert_prob=False):\n",
    "    \"\"\"\n",
    "    Computes the Jensen-Shannon divergence between two probability distributions.\n",
    "    NOTE: DO NOT RETURN 1 - JSD here, that is handled by the next function which is already implemented!\n",
    "    The inputs are *gensim* vectors - same as the vectors for the cosine_sim function\n",
    "    assert_prob is a flag that checks if the inputs are proper probability distributions\n",
    "        i.e they sum to 1 and are positive - use this to check your inputs if needed.\n",
    "            (This is optional to implement, but recommended -\n",
    "            you can the default to False to save a few ms off the runtime)\n",
    "    \"\"\"\n",
    "\n",
    "    # --------- Define a custom KL divergence function --------\n",
    "    def KL(a, b):\n",
    "        a = np.asarray(a, dtype=np.float)\n",
    "        b = np.asarray(b, dtype=np.float)\n",
    "\n",
    "        return np.sum(np.where(a != 0, a * np.log2(a / b), 0))\n",
    "\n",
    "    # ---------------------------------------------------------\n",
    "\n",
    "    vec_1_probs = np.array([x[1] for x in vec_1])  # extracting the probabily values\n",
    "    vec_2_probs = np.array([y[1] for y in vec_2])  # extracting the probabily values\n",
    "\n",
    "    # if flag=True, assert that the inputs are proper probability distributions\n",
    "    if assert_prob:\n",
    "        assert np.sum(vec_1_probs) == 1 and all(\n",
    "            vec_1_probs > 0\n",
    "        ), \"Values of vector1 must sum to 1 and be positive\"\n",
    "        assert np.sum(vec_2_probs) == 1 and all(\n",
    "            vec_2_probs > 0\n",
    "        ), \"Values of vector2 must sum to 1 and be positive\"\n",
    "\n",
    "    # If inputs are valid, compute divergence\n",
    "    m = 0.5 * (vec_1_probs + vec_2_probs)\n",
    "    return 0.5 * KL(vec_1_probs, m) + 0.5 * KL(vec_2_probs, m)\n",
    "\n",
    "\n",
    "def jenson_shannon_sim(vec_1, vec_2, assert_prob=False):\n",
    "    return 1 - jenson_shannon_divergence(vec_1, vec_2)"
   ]
  },
  {
   "cell_type": "code",
   "execution_count": 83,
   "metadata": {
    "cell_id": "00133-062a3052-2e16-413b-bac4-d476558e3866",
    "deepnote_cell_height": 190.1875,
    "deepnote_cell_type": "code",
    "deepnote_output_heights": [
     21.1875
    ],
    "deepnote_to_be_reexecuted": false,
    "deletable": false,
    "editable": false,
    "execution_millis": 70,
    "execution_start": 1645186548917,
    "nbgrader": {
     "cell_type": "code",
     "checksum": "ab340aa941c9fb5c89b3fd0a9139e246",
     "grade": true,
     "grade_id": "cell-487c6d2933f38053",
     "locked": true,
     "points": 5,
     "schema_version": 3,
     "solution": false,
     "task": false
    },
    "source_hash": "74ec8119"
   },
   "outputs": [
    {
     "data": {
      "text/plain": [
       "0.9251064410358459"
      ]
     },
     "execution_count": 83,
     "metadata": {},
     "output_type": "execute_result"
    }
   ],
   "source": [
    "##### Function check\n",
    "vec_1 = [(1, 0.3), (2, 0.4), (3, 0.3)]\n",
    "vec_2 = [(1, 0.1), (2, 0.7), (3, 0.2)]\n",
    "jenson_shannon_sim(vec_1, vec_2, assert_prob=True)\n",
    "#####"
   ]
  },
  {
   "cell_type": "markdown",
   "metadata": {
    "cell_id": "00134-b1b00101-4499-4c42-a48c-f90f9f37d7e9",
    "deepnote_cell_height": 227.375,
    "deepnote_cell_type": "markdown",
    "deletable": false,
    "editable": false,
    "nbgrader": {
     "cell_type": "markdown",
     "checksum": "0a1583a5f23e3390038331cce67f5d8e",
     "grade": false,
     "grade_id": "cell-4535cc67a50b80fa",
     "locked": true,
     "schema_version": 3,
     "solution": false,
     "task": false
    }
   },
   "source": [
    "---\n",
    "### Section 7.2: LDA retrieval (5 points) <a class=\"anchor\" id=\"lda_ret\"></a>\n",
    "\n",
    "Implement the `train_model` method in the following class (note that this is only one line of code in `gensim`!). Ensure that the parameters defined in the `__init__` method are not changed, and are *used in the `train_method` function*. You do not need to set this. Normally, the hyperaparameter space will be searched using grid search / other methods. Note that training the LDA model might take some time\n",
    "\n",
    "The last two lines of code train an LDA model on the list of documents which have been stemmed, lower-cased and have stopwords removed."
   ]
  },
  {
   "cell_type": "code",
   "execution_count": 84,
   "metadata": {
    "cell_id": "00135-c9620a32-0d75-44b0-9b91-6223cae5d6d9",
    "deepnote_cell_height": 603,
    "deepnote_cell_type": "code",
    "deepnote_to_be_reexecuted": false,
    "deletable": false,
    "execution_millis": 1,
    "execution_start": 1645186548985,
    "nbgrader": {
     "cell_type": "code",
     "checksum": "27de8e4fa85536bb396b73bfc51b3f50",
     "grade": false,
     "grade_id": "cell-021a48dff4a8bb91",
     "locked": false,
     "schema_version": 3,
     "solution": true,
     "task": false
    },
    "source_hash": "a2398658"
   },
   "outputs": [],
   "source": [
    "# TODO: Implement this! (5 points)\n",
    "class LdaRetrievalModel(VectorSpaceRetrievalModel):\n",
    "    def __init__(self, doc_repr):\n",
    "        super().__init__(doc_repr)\n",
    "\n",
    "        # use these parameters in the train_model method\n",
    "        self.num_topics = 100\n",
    "        self.chunksize = 2000\n",
    "        self.passes = 20\n",
    "        self.iterations = 400\n",
    "        self.eval_every = 10\n",
    "        # this is need to get full vectors\n",
    "        self.minimum_probability = 0.0\n",
    "        self.alpha = \"auto\"\n",
    "        self.eta = \"auto\"\n",
    "\n",
    "    def train_model(self):\n",
    "        # YOUR CODE HERE\n",
    "        self.model = LdaModel(\n",
    "            corpus=self.corpus,\n",
    "            id2word=self.id2word,\n",
    "            num_topics=self.num_topics,\n",
    "            chunksize=self.chunksize,\n",
    "            passes=self.passes,\n",
    "            iterations=self.iterations,\n",
    "            eval_every=self.eval_every,\n",
    "            minimum_probability=self.minimum_probability,\n",
    "            alpha=self.alpha,\n",
    "            eta=self.eta,\n",
    "        )"
   ]
  },
  {
   "cell_type": "code",
   "execution_count": 85,
   "metadata": {
    "cell_id": "00136-7336885c-d6be-4e5e-8515-a71905b8c1df",
    "deepnote_cell_height": 219.796875,
    "deepnote_cell_type": "code",
    "deepnote_output_heights": [
     null,
     611
    ],
    "deepnote_to_be_reexecuted": false,
    "deletable": false,
    "editable": false,
    "execution_millis": 116845,
    "execution_start": 1645186548986,
    "is_output_hidden": true,
    "nbgrader": {
     "cell_type": "code",
     "checksum": "be70fcb8098d0b6ce64cd2a10e6a05b7",
     "grade": true,
     "grade_id": "cell-86750b715f0345fd",
     "locked": true,
     "points": 0,
     "schema_version": 3,
     "solution": false,
     "task": false
    },
    "source_hash": "25223581",
    "tags": []
   },
   "outputs": [
    {
     "name": "stderr",
     "output_type": "stream",
     "text": [
      "2022-02-25 14:45:28,424 : INFO : adding document #0 to Dictionary(0 unique tokens: [])\n",
      "2022-02-25 14:45:28,546 : INFO : built Dictionary(5937 unique tokens: ['-', 'algebra', 'intern', 'languag', 'preliminari']...) from 3204 documents (total 115969 corpus positions)\n",
      "2022-02-25 14:45:28,553 : INFO : discarding 4740 tokens: [('repeat', 8), ('glossari', 7), ('inspect', 8), ('uncol', 2), ('rung', 9), ('secant', 2), ('.', 1603), ('acceler', 6), ('diverg', 3), ('induc', 9)]...\n",
      "2022-02-25 14:45:28,554 : INFO : keeping 1197 tokens which were in no less than 10 and no more than 1602 (=50.0%) documents\n",
      "2022-02-25 14:45:28,558 : INFO : resulting dictionary: Dictionary(1197 unique tokens: ['-', 'algebra', 'intern', 'languag', 'preliminari']...)\n",
      "2022-02-25 14:45:28,625 : INFO : using autotuned alpha, starting with [0.01, 0.01, 0.01, 0.01, 0.01, 0.01, 0.01, 0.01, 0.01, 0.01, 0.01, 0.01, 0.01, 0.01, 0.01, 0.01, 0.01, 0.01, 0.01, 0.01, 0.01, 0.01, 0.01, 0.01, 0.01, 0.01, 0.01, 0.01, 0.01, 0.01, 0.01, 0.01, 0.01, 0.01, 0.01, 0.01, 0.01, 0.01, 0.01, 0.01, 0.01, 0.01, 0.01, 0.01, 0.01, 0.01, 0.01, 0.01, 0.01, 0.01, 0.01, 0.01, 0.01, 0.01, 0.01, 0.01, 0.01, 0.01, 0.01, 0.01, 0.01, 0.01, 0.01, 0.01, 0.01, 0.01, 0.01, 0.01, 0.01, 0.01, 0.01, 0.01, 0.01, 0.01, 0.01, 0.01, 0.01, 0.01, 0.01, 0.01, 0.01, 0.01, 0.01, 0.01, 0.01, 0.01, 0.01, 0.01, 0.01, 0.01, 0.01, 0.01, 0.01, 0.01, 0.01, 0.01, 0.01, 0.01, 0.01, 0.01]\n",
      "2022-02-25 14:45:28,626 : INFO : using serial LDA version on this node\n",
      "2022-02-25 14:45:28,637 : INFO : running online (multi-pass) LDA training, 100 topics, 20 passes over the supplied corpus of 3204 documents, updating model once every 2000 documents, evaluating perplexity every 3204 documents, iterating 400x with a convergence threshold of 0.001000\n",
      "2022-02-25 14:45:28,638 : INFO : PROGRESS: pass 0, at document #2000/3204\n",
      "2022-02-25 14:45:30,067 : INFO : optimized alpha [0.0097819595, 0.009776619, 0.00987504, 0.009781864, 0.0098237535, 0.009921835, 0.00984409, 0.009869197, 0.009833235, 0.009802399, 0.009865037, 0.009802373, 0.009827297, 0.009792412, 0.009932196, 0.009843879, 0.009787005, 0.009786791, 0.009797285, 0.0098386705, 0.01000038, 0.009813007, 0.010024653, 0.00981301, 0.00979247, 0.009787019, 0.009896088, 0.009782001, 0.009786961, 0.009792104, 0.009864607, 0.009838595, 0.009802553, 0.009802562, 0.009792241, 0.00983827, 0.009839368, 0.009791929, 0.009848755, 0.009903605, 0.009813175, 0.009849602, 0.009839007, 0.009781941, 0.009817948, 0.009854281, 0.009813193, 0.009848992, 0.009833147, 0.009828568, 0.009781944, 0.009802878, 0.009818158, 0.009936416, 0.009896324, 0.00980245, 0.009807737, 0.009807746, 0.009797185, 0.009854412, 0.009802716, 0.009782035, 0.009807777, 0.009928202, 0.009833624, 0.009823296, 0.009869906, 0.009787028, 0.009875003, 0.009844415, 0.009849589, 0.00977172, 0.00979734, 0.009792475, 0.009807663, 0.00977153, 0.009781925, 0.009756081, 0.009848571, 0.009833826, 0.009787133, 0.0097818505, 0.0098185595, 0.009907406, 0.009839025, 0.009838519, 0.009890176, 0.00979744, 0.009833406, 0.009849851, 0.009761201, 0.009802505, 0.009786973, 0.009776746, 0.009787176, 0.010060077, 0.009813082, 0.009787214, 0.009869806, 0.009807941]\n",
      "2022-02-25 14:45:30,071 : INFO : merging changes from 2000 documents into a model of 3204 documents\n",
      "2022-02-25 14:45:30,079 : INFO : topic #71 (0.010): 0.057*\"logic\" + 0.050*\",\" + 0.043*\"structur\" + 0.043*\"-\" + 0.036*\"list\" + 0.036*\"overlap\" + 0.036*\"tabl\" + 0.029*\"method\" + 0.021*\"need\" + 0.021*\"comput\"\n",
      "2022-02-25 14:45:30,080 : INFO : topic #67 (0.010): 0.094*\",\" + 0.044*\"bank\" + 0.031*\"comput\" + 0.025*\"method\" + 0.019*\"busi\" + 0.019*\"subroutin\" + 0.019*\"process\" + 0.016*\"-\" + 0.013*\"aspect\" + 0.013*\"charact\"\n",
      "2022-02-25 14:45:30,081 : INFO : topic #20 (0.010): 0.091*\",\" + 0.026*\"program\" + 0.024*\"-\" + 0.023*\"comput\" + 0.019*\"system\" + 0.015*\"(\" + 0.011*\"problem\" + 0.010*\")\" + 0.009*\"record\" + 0.009*\"oper\"\n",
      "2022-02-25 14:45:30,082 : INFO : topic #22 (0.010): 0.056*\"(\" + 0.053*\",\" + 0.040*\")\" + 0.028*\"-\" + 0.024*\"algorithm\" + 0.016*\"languag\" + 0.014*\"system\" + 0.014*\"method\" + 0.014*\"function\" + 0.013*\"program\"\n",
      "2022-02-25 14:45:30,085 : INFO : topic #95 (0.010): 0.039*\",\" + 0.032*\"-\" + 0.031*\"comput\" + 0.027*\"(\" + 0.026*\"algorithm\" + 0.021*\")\" + 0.021*\"program\" + 0.017*\"method\" + 0.013*\"time\" + 0.012*\"integr\"\n",
      "2022-02-25 14:45:30,087 : INFO : topic diff=82.470650, rho=1.000000\n",
      "2022-02-25 14:45:31,193 : INFO : -7.287 per-word bound, 156.1 perplexity estimate based on a held-out corpus of 1204 documents with 49783 words\n",
      "2022-02-25 14:45:31,194 : INFO : PROGRESS: pass 0, at document #3204/3204\n",
      "2022-02-25 14:45:32,008 : INFO : optimized alpha [0.00984582, 0.009653918, 0.009892161, 0.010079061, 0.010056293, 0.010051963, 0.010078746, 0.009843831, 0.009890944, 0.009797093, 0.010073232, 0.009806802, 0.009745683, 0.0099744685, 0.010353243, 0.009784828, 0.009938662, 0.009839121, 0.00979766, 0.009879212, 0.010234508, 0.010065716, 0.010130033, 0.010095727, 0.010063264, 0.009857244, 0.010229467, 0.009712665, 0.009885321, 0.009709487, 0.009893203, 0.0098916255, 0.009726288, 0.009825805, 0.010055631, 0.010120213, 0.010088142, 0.009984554, 0.009753302, 0.010329004, 0.009984297, 0.009969395, 0.0100108115, 0.009933318, 0.009853475, 0.010019918, 0.01002524, 0.009777881, 0.010001778, 0.010226448, 0.01008537, 0.009980217, 0.009871327, 0.010238866, 0.010093048, 0.009820321, 0.009802029, 0.009908243, 0.00975632, 0.010026074, 0.010066651, 0.009969568, 0.010000623, 0.010204277, 0.009933463, 0.00987039, 0.009981921, 0.0100670075, 0.009945534, 0.010146959, 0.009926642, 0.010052028, 0.009832532, 0.009857187, 0.009865947, 0.009765276, 0.0098976465, 0.009494869, 0.010029825, 0.010146829, 0.00998091, 0.009862791, 0.009966412, 0.010394025, 0.010159802, 0.009890587, 0.010079815, 0.009820832, 0.009873813, 0.010028834, 0.009545896, 0.009802738, 0.010321613, 0.009758459, 0.009828536, 0.010080668, 0.010000663, 0.010239087, 0.009928279, 0.010072583]\n",
      "2022-02-25 14:45:32,013 : INFO : merging changes from 1204 documents into a model of 3204 documents\n",
      "2022-02-25 14:45:32,019 : INFO : topic #77 (0.009): 0.001*\"implic\" + 0.001*\"favor\" + 0.001*\"adapt\" + 0.001*\"polygon\" + 0.001*\"stage\" + 0.001*\"situat\" + 0.001*\"respons\" + 0.001*\"industri\" + 0.001*\"regress\" + 0.001*\"drive\"\n",
      "2022-02-25 14:45:32,019 : INFO : topic #90 (0.010): 0.280*\"direct\" + 0.127*\"search\" + 0.111*\"algorithm\" + 0.085*\"[\" + 0.060*\"(\" + 0.046*\"e4\" + 0.011*\"])\" + 0.000*\"stage\" + 0.000*\"simpson\" + 0.000*\"polygon\"\n",
      "2022-02-25 14:45:32,020 : INFO : topic #39 (0.010): 0.083*\",\" + 0.047*\"-\" + 0.020*\"system\" + 0.018*\"algorithm\" + 0.015*\"prove\" + 0.015*\"gener\" + 0.015*\"order\" + 0.013*\"comput\" + 0.011*\"display\" + 0.010*\"memori\"\n",
      "2022-02-25 14:45:32,020 : INFO : topic #83 (0.010): 0.093*\",\" + 0.036*\"system\" + 0.029*\"data\" + 0.027*\"inform\" + 0.017*\"process\" + 0.015*\"retriev\" + 0.015*\"structur\" + 0.014*\"program\" + 0.013*\"model\" + 0.012*\"oper\"\n",
      "2022-02-25 14:45:32,021 : INFO : topic #14 (0.010): 0.092*\",\" + 0.058*\"languag\" + 0.037*\"-\" + 0.028*\"system\" + 0.023*\"program\" + 0.013*\"structur\" + 0.013*\"implement\" + 0.013*\"design\" + 0.011*\"type\" + 0.010*\"base\"\n",
      "2022-02-25 14:45:32,022 : INFO : topic diff=0.738119, rho=0.707107\n",
      "2022-02-25 14:45:32,029 : INFO : PROGRESS: pass 1, at document #2000/3204\n",
      "2022-02-25 14:45:32,953 : INFO : optimized alpha [0.009872943, 0.0096299965, 0.00980106, 0.010052264, 0.009979982, 0.009967945, 0.00999076, 0.010315255, 0.009830746, 0.009786581, 0.009966567, 0.009745691, 0.009676362, 0.009950717, 0.010357832, 0.009701289, 0.009911646, 0.010600808, 0.009919718, 0.009894455, 0.010182771, 0.010007473, 0.010055262, 0.010044875, 0.010024042, 0.009855622, 0.010165628, 0.009679671, 0.009796316, 0.009637642, 0.00985505, 0.009840068, 0.009646772, 0.009853466, 0.010050238, 0.0102400035, 0.010021461, 0.00992484, 0.009732917, 0.010243991, 0.0099255545, 0.009911541, 0.009943654, 0.01004427, 0.009760314, 0.010024434, 0.00995492, 0.009699961, 0.009966057, 0.010187695, 0.010031635, 0.009945188, 0.009841164, 0.010193824, 0.010027466, 0.009835476, 0.009814291, 0.00981891, 0.009849823, 0.010034419, 0.010045555, 0.009905135, 0.009938236, 0.010166449, 0.009917821, 0.009831862, 0.009923212, 0.010002705, 0.009909197, 0.010058037, 0.009840234, 0.010068543, 0.009955427, 0.00981088, 0.009889052, 0.009767027, 0.009879133, 0.00934703, 0.010141099, 0.010114568, 0.009881687, 0.009878952, 0.00990839, 0.010372368, 0.0101164775, 0.009940951, 0.010019189, 0.009864443, 0.009843498, 0.009993434, 0.00948268, 0.00975245, 0.010335016, 0.009734614, 0.009790673, 0.009977134, 0.010015554, 0.010132937, 0.009852017, 0.010008942]\n",
      "2022-02-25 14:45:32,958 : INFO : merging changes from 2000 documents into a model of 3204 documents\n",
      "2022-02-25 14:45:32,964 : INFO : topic #77 (0.009): 0.001*\"implic\" + 0.001*\"favor\" + 0.001*\"adapt\" + 0.001*\"polygon\" + 0.001*\"stage\" + 0.001*\"situat\" + 0.001*\"respons\" + 0.001*\"industri\" + 0.001*\"regress\" + 0.001*\"drive\"\n",
      "2022-02-25 14:45:32,964 : INFO : topic #90 (0.009): 0.265*\"direct\" + 0.123*\"search\" + 0.115*\"algorithm\" + 0.108*\"[\" + 0.097*\"(\" + 0.088*\"e4\" + 0.084*\"])\" + 0.000*\"stage\" + 0.000*\"simpson\" + 0.000*\"polygon\"\n",
      "2022-02-25 14:45:32,965 : INFO : topic #83 (0.010): 0.091*\",\" + 0.037*\"system\" + 0.032*\"data\" + 0.030*\"inform\" + 0.020*\"process\" + 0.018*\"retriev\" + 0.014*\"program\" + 0.013*\"structur\" + 0.012*\"-\" + 0.012*\"oper\"\n",
      "2022-02-25 14:45:32,965 : INFO : topic #14 (0.010): 0.091*\",\" + 0.068*\"languag\" + 0.039*\"-\" + 0.028*\"system\" + 0.025*\"program\" + 0.012*\"structur\" + 0.011*\"design\" + 0.011*\"implement\" + 0.010*\";\" + 0.009*\"base\"\n",
      "2022-02-25 14:45:32,966 : INFO : topic #17 (0.011): 0.210*\"(\" + 0.200*\")\" + 0.186*\"algorithm\" + 0.072*\"function\" + 0.055*\"integr\" + 0.030*\"approxim\" + 0.023*\"matrix\" + 0.022*\",\" + 0.022*\"interpol\" + 0.017*\"ration\"\n",
      "2022-02-25 14:45:32,967 : INFO : topic diff=0.317500, rho=0.526900\n",
      "2022-02-25 14:45:34,063 : INFO : -6.900 per-word bound, 119.5 perplexity estimate based on a held-out corpus of 1204 documents with 49783 words\n",
      "2022-02-25 14:45:34,064 : INFO : PROGRESS: pass 1, at document #3204/3204\n",
      "2022-02-25 14:45:34,894 : INFO : optimized alpha [0.009994994, 0.009646722, 0.00982497, 0.01035122, 0.010207561, 0.010043113, 0.010153092, 0.010305747, 0.009909558, 0.009854039, 0.010090921, 0.009866843, 0.009664308, 0.01015738, 0.010645711, 0.009674754, 0.010063805, 0.011169961, 0.010006633, 0.00999109, 0.010183588, 0.010213994, 0.010098485, 0.010274555, 0.010258223, 0.010026394, 0.010380241, 0.009713512, 0.009901239, 0.00965785, 0.009904225, 0.009950999, 0.009719401, 0.009879929, 0.010300863, 0.0104336785, 0.010225227, 0.010201125, 0.009717603, 0.010395283, 0.010080355, 0.0099835005, 0.010089562, 0.010275795, 0.009849849, 0.010210724, 0.010158057, 0.009673544, 0.010082597, 0.010567352, 0.010277911, 0.010064557, 0.009986965, 0.010370961, 0.010156747, 0.009897557, 0.009824551, 0.009934022, 0.009946306, 0.010180848, 0.010251887, 0.010124498, 0.010196863, 0.010300078, 0.009974997, 0.009907143, 0.0100337295, 0.010328198, 0.009975822, 0.0102625815, 0.00987704, 0.010364491, 0.0100642005, 0.009881847, 0.009989774, 0.009941043, 0.010083594, 0.009169788, 0.010284373, 0.010386273, 0.010070606, 0.010048636, 0.010006054, 0.010627329, 0.010465382, 0.009987732, 0.010250796, 0.009926073, 0.009909557, 0.010131198, 0.009437778, 0.009828468, 0.0108065605, 0.009908528, 0.009918798, 0.009972825, 0.010151266, 0.010520938, 0.009923064, 0.010239202]\n",
      "2022-02-25 14:45:34,900 : INFO : merging changes from 1204 documents into a model of 3204 documents\n",
      "2022-02-25 14:45:34,906 : INFO : topic #77 (0.009): 0.001*\"implic\" + 0.001*\"favor\" + 0.001*\"adapt\" + 0.001*\"polygon\" + 0.001*\"stage\" + 0.001*\"situat\" + 0.001*\"respons\" + 0.001*\"industri\" + 0.001*\"regress\" + 0.001*\"drive\"\n",
      "2022-02-25 14:45:34,906 : INFO : topic #90 (0.009): 0.417*\"direct\" + 0.140*\"search\" + 0.119*\"algorithm\" + 0.072*\"[\" + 0.066*\"e4\" + 0.059*\"(\" + 0.032*\"])\" + 0.000*\"stage\" + 0.000*\"simpson\" + 0.000*\"adapt\"\n",
      "2022-02-25 14:45:34,907 : INFO : topic #14 (0.011): 0.100*\",\" + 0.073*\"languag\" + 0.037*\"-\" + 0.028*\"system\" + 0.024*\"program\" + 0.016*\"design\" + 0.015*\"structur\" + 0.014*\"implement\" + 0.011*\"type\" + 0.011*\"parser\"\n",
      "2022-02-25 14:45:34,907 : INFO : topic #92 (0.011): 0.160*\"]\" + 0.105*\")\" + 0.082*\"(\" + 0.075*\"algorithm\" + 0.057*\"[\" + 0.045*\"retriev\" + 0.029*\",\" + 0.028*\"test\" + 0.024*\"matric\" + 0.020*\"surfac\"\n",
      "2022-02-25 14:45:34,908 : INFO : topic #17 (0.011): 0.235*\"(\" + 0.225*\")\" + 0.185*\"algorithm\" + 0.069*\"function\" + 0.046*\"integr\" + 0.027*\"approxim\" + 0.025*\"interpol\" + 0.021*\"matrix\" + 0.017*\",\" + 0.016*\"ration\"\n",
      "2022-02-25 14:45:34,909 : INFO : topic diff=0.432130, rho=0.526900\n",
      "2022-02-25 14:45:34,916 : INFO : PROGRESS: pass 2, at document #2000/3204\n",
      "2022-02-25 14:45:35,808 : INFO : optimized alpha [0.0100515345, 0.009686136, 0.009744691, 0.010341189, 0.010152598, 0.009984354, 0.010086794, 0.010947116, 0.009868582, 0.009851503, 0.010002162, 0.009842713, 0.009649344, 0.0101515, 0.010659409, 0.00962724, 0.010065035, 0.012249872, 0.010160002, 0.01007082, 0.010130225, 0.010182609, 0.010048485, 0.010239295, 0.010252686, 0.010045183, 0.010329439, 0.009713042, 0.009834987, 0.009607756, 0.009904183, 0.009926545, 0.009693903, 0.009944537, 0.010325214, 0.0104799, 0.010164683, 0.010181032, 0.009719199, 0.01032218, 0.010054128, 0.009930917, 0.01003948, 0.010453423, 0.009789542, 0.010247314, 0.010099177, 0.009623961, 0.010033689, 0.010553411, 0.0102401, 0.010024216, 0.010017905, 0.010344736, 0.010098615, 0.009964775, 0.009887412, 0.009888509, 0.010146015, 0.010241097, 0.010253255, 0.010082397, 0.0101510575, 0.010280544, 0.009975721, 0.00990614, 0.0100057935, 0.010272347, 0.009982202, 0.010185146, 0.009823819, 0.010422859, 0.010251752, 0.009871986, 0.010052534, 0.009985544, 0.010079713, 0.009048903, 0.010394198, 0.010398999, 0.010010378, 0.010092312, 0.009950301, 0.010623431, 0.01044973, 0.010083912, 0.010233891, 0.009988237, 0.009915875, 0.01011359, 0.00941137, 0.00981705, 0.010789731, 0.009951481, 0.009929338, 0.009896553, 0.010218741, 0.010441419, 0.009870872, 0.010200248]\n",
      "2022-02-25 14:45:35,814 : INFO : merging changes from 2000 documents into a model of 3204 documents\n",
      "2022-02-25 14:45:35,820 : INFO : topic #77 (0.009): 0.001*\"implic\" + 0.001*\"favor\" + 0.001*\"adapt\" + 0.001*\"polygon\" + 0.001*\"stage\" + 0.001*\"situat\" + 0.001*\"respons\" + 0.001*\"industri\" + 0.001*\"regress\" + 0.001*\"drive\"\n",
      "2022-02-25 14:45:35,820 : INFO : topic #90 (0.009): 0.410*\"direct\" + 0.149*\"search\" + 0.098*\"algorithm\" + 0.089*\"e4\" + 0.063*\"[\" + 0.063*\"(\" + 0.042*\"])\" + 0.000*\"simpson\" + 0.000*\"adapt\" + 0.000*\"polygon\"\n",
      "2022-02-25 14:45:35,821 : INFO : topic #92 (0.011): 0.123*\"]\" + 0.097*\")\" + 0.080*\"(\" + 0.071*\"algorithm\" + 0.046*\"[\" + 0.042*\"retriev\" + 0.039*\"test\" + 0.031*\",\" + 0.030*\"matric\" + 0.024*\"set\"\n",
      "2022-02-25 14:45:35,822 : INFO : topic #7 (0.011): 0.171*\"algorithm\" + 0.170*\"(\" + 0.169*\"[\" + 0.154*\"])\" + 0.039*\"polynomi\" + 0.035*\"squar\" + 0.026*\"root\" + 0.025*\")\" + 0.023*\"-\" + 0.023*\"fit\"\n",
      "2022-02-25 14:45:35,822 : INFO : topic #17 (0.012): 0.256*\"(\" + 0.251*\")\" + 0.206*\"algorithm\" + 0.058*\"function\" + 0.043*\"integr\" + 0.020*\"matrix\" + 0.019*\"approxim\" + 0.017*\"interpol\" + 0.013*\",\" + 0.012*\"ration\"\n",
      "2022-02-25 14:45:35,823 : INFO : topic diff=0.410316, rho=0.466151\n",
      "2022-02-25 14:45:36,917 : INFO : -6.780 per-word bound, 109.9 perplexity estimate based on a held-out corpus of 1204 documents with 49783 words\n",
      "2022-02-25 14:45:36,918 : INFO : PROGRESS: pass 2, at document #3204/3204\n",
      "2022-02-25 14:45:37,761 : INFO : optimized alpha [0.010198802, 0.009807045, 0.009786796, 0.010645522, 0.010351576, 0.010055811, 0.010246821, 0.010940241, 0.009962115, 0.009981172, 0.010112973, 0.009973662, 0.009670812, 0.010319902, 0.0108968, 0.00961024, 0.010188399, 0.0130166765, 0.010275505, 0.010183621, 0.010104722, 0.010350525, 0.010116032, 0.010447785, 0.0104738735, 0.010216774, 0.010553373, 0.009785475, 0.009928869, 0.009664749, 0.009967963, 0.010056392, 0.00980841, 0.009975686, 0.010597351, 0.010640163, 0.010361852, 0.010476839, 0.009752519, 0.010427874, 0.010204005, 0.009995666, 0.010188928, 0.010701252, 0.0099081565, 0.010417107, 0.010284256, 0.0096373195, 0.010180413, 0.010917364, 0.010480256, 0.010185935, 0.010202517, 0.0104982145, 0.010221528, 0.010042816, 0.009911587, 0.010017971, 0.0103213, 0.010363275, 0.010460706, 0.010278083, 0.010402077, 0.010403217, 0.010050063, 0.009996254, 0.01012002, 0.01055638, 0.010084729, 0.010367227, 0.009869271, 0.010749971, 0.010375084, 0.009942985, 0.010153737, 0.01016772, 0.010301292, 0.008903106, 0.010585975, 0.0106590735, 0.010183009, 0.010278789, 0.010029539, 0.010854935, 0.01077982, 0.010132416, 0.010537917, 0.010066014, 0.009990395, 0.010231767, 0.009436445, 0.009915588, 0.011223071, 0.010195478, 0.010066815, 0.00991889, 0.010370917, 0.010795057, 0.009942408, 0.010446125]\n",
      "2022-02-25 14:45:37,768 : INFO : merging changes from 1204 documents into a model of 3204 documents\n",
      "2022-02-25 14:45:37,773 : INFO : topic #77 (0.009): 0.001*\"implic\" + 0.001*\"favor\" + 0.001*\"adapt\" + 0.001*\"polygon\" + 0.001*\"stage\" + 0.001*\"situat\" + 0.001*\"respons\" + 0.001*\"industri\" + 0.001*\"regress\" + 0.001*\"drive\"\n",
      "2022-02-25 14:45:37,774 : INFO : topic #90 (0.009): 0.499*\"direct\" + 0.171*\"search\" + 0.101*\"algorithm\" + 0.062*\"e4\" + 0.039*\"(\" + 0.039*\"[\" + 0.019*\"])\" + 0.000*\"simpson\" + 0.000*\"adapt\" + 0.000*\"polygon\"\n",
      "2022-02-25 14:45:37,774 : INFO : topic #7 (0.011): 0.180*\"[\" + 0.171*\"(\" + 0.171*\"algorithm\" + 0.123*\"])\" + 0.044*\"polynomi\" + 0.038*\"squar\" + 0.030*\")\" + 0.029*\"root\" + 0.028*\"fit\" + 0.025*\"-\"\n",
      "2022-02-25 14:45:37,775 : INFO : topic #92 (0.011): 0.166*\"]\" + 0.109*\")\" + 0.086*\"(\" + 0.086*\"[\" + 0.082*\"algorithm\" + 0.043*\"retriev\" + 0.035*\"test\" + 0.023*\",\" + 0.022*\"matric\" + 0.018*\"eigenvalu\"\n",
      "2022-02-25 14:45:37,776 : INFO : topic #17 (0.013): 0.274*\"(\" + 0.267*\")\" + 0.202*\"algorithm\" + 0.056*\"function\" + 0.035*\"integr\" + 0.020*\"interpol\" + 0.018*\"matrix\" + 0.015*\"approxim\" + 0.012*\"ration\" + 0.011*\",\"\n",
      "2022-02-25 14:45:37,777 : INFO : topic diff=0.540170, rho=0.466151\n",
      "2022-02-25 14:45:37,784 : INFO : PROGRESS: pass 3, at document #2000/3204\n",
      "2022-02-25 14:45:38,807 : INFO : optimized alpha [0.010249772, 0.009882035, 0.009740874, 0.01064952, 0.010300475, 0.010007916, 0.010210277, 0.011557596, 0.009925354, 0.010027096, 0.010046307, 0.009957769, 0.009685182, 0.010333694, 0.010912405, 0.009581682, 0.010191434, 0.014207654, 0.01045991, 0.0102737, 0.010050244, 0.010321209, 0.01009147, 0.0104120765, 0.010478426, 0.010237241, 0.010510137, 0.009801919, 0.009892691, 0.009651071, 0.010004542, 0.01004907, 0.009799968, 0.010058188, 0.0106287515, 0.01066089, 0.01031885, 0.010478563, 0.00978772, 0.010355561, 0.010201571, 0.009961911, 0.010156086, 0.010882614, 0.009866376, 0.010478639, 0.010232093, 0.00963121, 0.010148446, 0.010926675, 0.010452969, 0.010159529, 0.0102543635, 0.010484992, 0.01018659, 0.010168229, 0.009996798, 0.010002127, 0.010549449, 0.010435965, 0.010454019, 0.010236383, 0.010369325, 0.010396267, 0.010061694, 0.010016722, 0.010094753, 0.010509744, 0.010129278, 0.010302831, 0.009832988, 0.010824093, 0.010576543, 0.009940724, 0.010217486, 0.010216107, 0.010322458, 0.00880083, 0.010732866, 0.010696113, 0.010125389, 0.010337228, 0.009990607, 0.010875316, 0.010789862, 0.010267738, 0.010560294, 0.010135438, 0.0100304745, 0.010228783, 0.009429573, 0.009917836, 0.011212176, 0.010263503, 0.010097183, 0.009854093, 0.010447512, 0.010730334, 0.009906715, 0.01042223]\n",
      "2022-02-25 14:45:38,812 : INFO : merging changes from 2000 documents into a model of 3204 documents\n",
      "2022-02-25 14:45:38,817 : INFO : topic #77 (0.009): 0.001*\"implic\" + 0.001*\"favor\" + 0.001*\"adapt\" + 0.001*\"polygon\" + 0.001*\"stage\" + 0.001*\"situat\" + 0.001*\"respons\" + 0.001*\"industri\" + 0.001*\"regress\" + 0.001*\"drive\"\n",
      "2022-02-25 14:45:38,818 : INFO : topic #90 (0.009): 0.502*\"direct\" + 0.180*\"search\" + 0.084*\"e4\" + 0.082*\"algorithm\" + 0.033*\"(\" + 0.029*\"[\" + 0.015*\"])\" + 0.000*\"simpson\" + 0.000*\"adapt\" + 0.000*\"polygon\"\n",
      "2022-02-25 14:45:38,819 : INFO : topic #92 (0.011): 0.135*\"]\" + 0.100*\")\" + 0.083*\"(\" + 0.077*\"algorithm\" + 0.073*\"[\" + 0.045*\"test\" + 0.041*\"retriev\" + 0.027*\"matric\" + 0.026*\",\" + 0.022*\"set\"\n",
      "2022-02-25 14:45:38,819 : INFO : topic #7 (0.012): 0.189*\"[\" + 0.178*\"(\" + 0.176*\"algorithm\" + 0.164*\"])\" + 0.042*\"polynomi\" + 0.036*\"squar\" + 0.027*\"root\" + 0.023*\"-\" + 0.020*\"fit\" + 0.017*\")\"\n",
      "2022-02-25 14:45:38,820 : INFO : topic #17 (0.014): 0.281*\"(\" + 0.279*\")\" + 0.212*\"algorithm\" + 0.048*\"function\" + 0.034*\"integr\" + 0.017*\"matrix\" + 0.016*\"interpol\" + 0.011*\"approxim\" + 0.011*\"ration\" + 0.010*\"real\"\n",
      "2022-02-25 14:45:38,821 : INFO : topic diff=0.550838, rho=0.422502\n",
      "2022-02-25 14:45:39,874 : INFO : -6.697 per-word bound, 103.8 perplexity estimate based on a held-out corpus of 1204 documents with 49783 words\n",
      "2022-02-25 14:45:39,875 : INFO : PROGRESS: pass 3, at document #3204/3204\n",
      "2022-02-25 14:45:40,693 : INFO : optimized alpha [0.010398574, 0.010023382, 0.009814833, 0.010948406, 0.010486026, 0.010077278, 0.0103779975, 0.011512834, 0.010021399, 0.0101770125, 0.010176112, 0.010091285, 0.009746848, 0.010465307, 0.011126212, 0.009581817, 0.01031116, 0.015091638, 0.010590018, 0.010365294, 0.010040576, 0.010470879, 0.010193574, 0.0105950525, 0.010680881, 0.010390207, 0.010722808, 0.009895779, 0.0100030685, 0.009723921, 0.010073332, 0.010167617, 0.009929071, 0.010107589, 0.010912592, 0.010810712, 0.010524623, 0.01078833, 0.00987007, 0.010441194, 0.010371231, 0.010021606, 0.010299803, 0.011110585, 0.009981897, 0.0106187835, 0.010386964, 0.009647912, 0.01030378, 0.011263605, 0.0106805, 0.010321708, 0.010438256, 0.010625193, 0.010298931, 0.010274476, 0.010022119, 0.010113408, 0.010750454, 0.010569505, 0.010621784, 0.010418787, 0.010632349, 0.010504532, 0.0101474365, 0.010102516, 0.010195574, 0.01078172, 0.010262411, 0.010468982, 0.009882124, 0.011169168, 0.010695447, 0.010019628, 0.0103166, 0.0103968475, 0.010540087, 0.008676875, 0.010946685, 0.010927499, 0.010279473, 0.0105588855, 0.010084429, 0.011071642, 0.011094379, 0.0103035495, 0.010901399, 0.010223812, 0.010094497, 0.010332992, 0.009479735, 0.010021581, 0.011619077, 0.010534795, 0.010237, 0.009897137, 0.010608461, 0.011071348, 0.009983173, 0.010655102]\n",
      "2022-02-25 14:45:40,698 : INFO : merging changes from 1204 documents into a model of 3204 documents\n",
      "2022-02-25 14:45:40,703 : INFO : topic #77 (0.009): 0.001*\"implic\" + 0.001*\"favor\" + 0.001*\"adapt\" + 0.001*\"polygon\" + 0.001*\"stage\" + 0.001*\"situat\" + 0.001*\"respons\" + 0.001*\"industri\" + 0.001*\"regress\" + 0.001*\"drive\"\n",
      "2022-02-25 14:45:40,704 : INFO : topic #90 (0.009): 0.547*\"direct\" + 0.200*\"search\" + 0.084*\"algorithm\" + 0.060*\"e4\" + 0.021*\"(\" + 0.016*\"[\" + 0.007*\"])\" + 0.000*\"simpson\" + 0.000*\"adapt\" + 0.000*\"polygon\"\n",
      "2022-02-25 14:45:40,704 : INFO : topic #7 (0.012): 0.190*\"[\" + 0.176*\"(\" + 0.174*\"algorithm\" + 0.139*\"])\" + 0.047*\"polynomi\" + 0.042*\"squar\" + 0.030*\"root\" + 0.025*\"fit\" + 0.024*\"-\" + 0.020*\"e2\"\n",
      "2022-02-25 14:45:40,705 : INFO : topic #92 (0.012): 0.165*\"]\" + 0.116*\"[\" + 0.110*\")\" + 0.091*\"(\" + 0.091*\"algorithm\" + 0.040*\"test\" + 0.035*\"retriev\" + 0.021*\"eigenvalu\" + 0.020*\",\" + 0.019*\"matric\"\n",
      "2022-02-25 14:45:40,705 : INFO : topic #17 (0.015): 0.294*\"(\" + 0.289*\")\" + 0.210*\"algorithm\" + 0.048*\"function\" + 0.028*\"integr\" + 0.018*\"interpol\" + 0.015*\"matrix\" + 0.011*\"ration\" + 0.010*\"approxim\" + 0.009*\"real\"\n",
      "2022-02-25 14:45:40,706 : INFO : topic diff=0.663272, rho=0.422502\n",
      "2022-02-25 14:45:40,713 : INFO : PROGRESS: pass 4, at document #2000/3204\n",
      "2022-02-25 14:45:41,499 : INFO : optimized alpha [0.0104574505, 0.010104556, 0.009779139, 0.010938959, 0.010440056, 0.010053873, 0.010355832, 0.012101207, 0.009993689, 0.010244986, 0.01012282, 0.010082217, 0.009775839, 0.0104921935, 0.0111372, 0.009574025, 0.010325893, 0.016372623, 0.010781367, 0.010453067, 0.009996573, 0.0104413545, 0.01020954, 0.01056949, 0.0106903305, 0.010422679, 0.010683824, 0.0099245235, 0.00997378, 0.0097288, 0.010111298, 0.010164732, 0.009930784, 0.010192343, 0.010958889, 0.01083337, 0.010506323, 0.010810878, 0.009943232, 0.0103879925, 0.010386544, 0.009997205, 0.010267091, 0.01128232, 0.009959085, 0.010669324, 0.010346566, 0.009658499, 0.010281821, 0.011280745, 0.010659957, 0.010304866, 0.010504184, 0.010610481, 0.010289218, 0.010417362, 0.0101192, 0.010102852, 0.0109947575, 0.010659843, 0.01061483, 0.010385514, 0.01060603, 0.01050855, 0.010172243, 0.010127441, 0.010194532, 0.010744881, 0.010351924, 0.010409127, 0.00985147, 0.011292996, 0.010888479, 0.01002769, 0.010385836, 0.01044292, 0.010558417, 0.008588314, 0.011117708, 0.0109779155, 0.010223992, 0.010616326, 0.010054775, 0.011106991, 0.011105706, 0.010451965, 0.010960483, 0.010300147, 0.010141685, 0.010334345, 0.009488724, 0.010035318, 0.011616303, 0.010615204, 0.010284758, 0.009840974, 0.01069359, 0.0110146655, 0.00996283, 0.010648145]\n",
      "2022-02-25 14:45:41,504 : INFO : merging changes from 2000 documents into a model of 3204 documents\n",
      "2022-02-25 14:45:41,510 : INFO : topic #77 (0.009): 0.001*\"implic\" + 0.001*\"favor\" + 0.001*\"adapt\" + 0.001*\"polygon\" + 0.001*\"stage\" + 0.001*\"situat\" + 0.001*\"respons\" + 0.001*\"industri\" + 0.001*\"regress\" + 0.001*\"drive\"\n",
      "2022-02-25 14:45:41,511 : INFO : topic #90 (0.009): 0.539*\"direct\" + 0.210*\"search\" + 0.078*\"e4\" + 0.069*\"algorithm\" + 0.018*\"(\" + 0.012*\"[\" + 0.006*\"])\" + 0.000*\"simpson\" + 0.000*\"adapt\" + 0.000*\"polygon\"\n",
      "2022-02-25 14:45:41,512 : INFO : topic #92 (0.012): 0.139*\"]\" + 0.101*\")\" + 0.100*\"[\" + 0.088*\"(\" + 0.087*\"algorithm\" + 0.048*\"test\" + 0.032*\"retriev\" + 0.025*\"matric\" + 0.023*\"eigenvalu\" + 0.021*\"probabl\"\n",
      "2022-02-25 14:45:41,512 : INFO : topic #7 (0.012): 0.195*\"[\" + 0.180*\"(\" + 0.178*\"algorithm\" + 0.169*\"])\" + 0.044*\"polynomi\" + 0.039*\"squar\" + 0.027*\"root\" + 0.022*\"-\" + 0.019*\"fit\" + 0.014*\"function\"\n",
      "2022-02-25 14:45:41,513 : INFO : topic #17 (0.016): 0.296*\"(\" + 0.294*\")\" + 0.218*\"algorithm\" + 0.043*\"function\" + 0.025*\"integr\" + 0.015*\"matrix\" + 0.015*\"interpol\" + 0.010*\"ration\" + 0.009*\"real\" + 0.008*\"approxim\"\n",
      "2022-02-25 14:45:41,514 : INFO : topic diff=0.642889, rho=0.389191\n",
      "2022-02-25 14:45:42,370 : INFO : -6.640 per-word bound, 99.8 perplexity estimate based on a held-out corpus of 1204 documents with 49783 words\n",
      "2022-02-25 14:45:42,371 : INFO : PROGRESS: pass 4, at document #3204/3204\n",
      "2022-02-25 14:45:43,166 : INFO : optimized alpha [0.010598844, 0.010281641, 0.0098451385, 0.011229069, 0.010619401, 0.010131786, 0.010548791, 0.0120463455, 0.010089342, 0.010454013, 0.010253382, 0.010212659, 0.009858802, 0.010607243, 0.011343705, 0.009572307, 0.010450411, 0.017324964, 0.010894389, 0.010527471, 0.00998975, 0.010583495, 0.010321308, 0.010746474, 0.010875083, 0.010578238, 0.010895697, 0.010005031, 0.010082948, 0.009828049, 0.01021135, 0.010307819, 0.0100798, 0.01024777, 0.011224641, 0.010976001, 0.010735477, 0.011115843, 0.010038596, 0.010464487, 0.010568319, 0.010059662, 0.010410549, 0.011491406, 0.010066283, 0.01080266, 0.010493838, 0.009690531, 0.010459574, 0.011611837, 0.01087882, 0.010462392, 0.010692763, 0.010764704, 0.010417136, 0.010545745, 0.010142215, 0.010206246, 0.01119637, 0.01079078, 0.010767141, 0.010565191, 0.010848042, 0.010636622, 0.010271492, 0.01022984, 0.010288165, 0.011016304, 0.010492208, 0.01055997, 0.009919977, 0.011636772, 0.011015566, 0.010104185, 0.010477437, 0.010621133, 0.010754405, 0.008480517, 0.011361039, 0.011190078, 0.0103836525, 0.010833537, 0.010148384, 0.011296723, 0.011358229, 0.010490741, 0.011353982, 0.010388455, 0.010217382, 0.010430906, 0.009544796, 0.010134825, 0.011973571, 0.010900854, 0.010431206, 0.0098885, 0.010874526, 0.011330468, 0.010053783, 0.010865247]\n",
      "2022-02-25 14:45:43,172 : INFO : merging changes from 1204 documents into a model of 3204 documents\n",
      "2022-02-25 14:45:43,177 : INFO : topic #77 (0.008): 0.001*\"implic\" + 0.001*\"favor\" + 0.001*\"adapt\" + 0.001*\"polygon\" + 0.001*\"stage\" + 0.001*\"situat\" + 0.001*\"respons\" + 0.001*\"industri\" + 0.001*\"regress\" + 0.001*\"drive\"\n",
      "2022-02-25 14:45:43,178 : INFO : topic #90 (0.010): 0.561*\"direct\" + 0.229*\"search\" + 0.070*\"algorithm\" + 0.058*\"e4\" + 0.012*\"(\" + 0.007*\"[\" + 0.003*\"])\" + 0.000*\"simpson\" + 0.000*\"adapt\" + 0.000*\"polygon\"\n",
      "2022-02-25 14:45:43,178 : INFO : topic #92 (0.012): 0.166*\"]\" + 0.136*\"[\" + 0.115*\")\" + 0.101*\"algorithm\" + 0.098*\"(\" + 0.043*\"test\" + 0.023*\"eigenvalu\" + 0.022*\"retriev\" + 0.021*\"probabl\" + 0.017*\"matric\"\n",
      "2022-02-25 14:45:43,179 : INFO : topic #7 (0.012): 0.191*\"[\" + 0.177*\"algorithm\" + 0.177*\"(\" + 0.147*\"])\" + 0.049*\"polynomi\" + 0.047*\"squar\" + 0.031*\"root\" + 0.022*\"fit\" + 0.022*\"-\" + 0.020*\"e2\"\n",
      "2022-02-25 14:45:43,179 : INFO : topic #17 (0.017): 0.305*\"(\" + 0.300*\")\" + 0.216*\"algorithm\" + 0.044*\"function\" + 0.022*\"integr\" + 0.017*\"interpol\" + 0.014*\"matrix\" + 0.010*\"ration\" + 0.008*\"real\" + 0.007*\"approxim\"\n",
      "2022-02-25 14:45:43,180 : INFO : topic diff=0.702625, rho=0.389191\n",
      "2022-02-25 14:45:43,187 : INFO : PROGRESS: pass 5, at document #2000/3204\n",
      "2022-02-25 14:45:44,097 : INFO : optimized alpha [0.010663407, 0.0103669055, 0.00981978, 0.011215931, 0.010575746, 0.01011598, 0.010542563, 0.012608647, 0.010063802, 0.010530436, 0.010207386, 0.010207619, 0.009893343, 0.010645741, 0.011355105, 0.009578533, 0.010483037, 0.01869341, 0.011071615, 0.010631249, 0.009956116, 0.010565258, 0.01036082, 0.010723783, 0.010889029, 0.010602306, 0.010870073, 0.010037541, 0.010061161, 0.009853988, 0.010269221, 0.010319768, 0.010090228, 0.010346148, 0.011281001, 0.011004958, 0.010717002, 0.011143241, 0.0101238, 0.010421517, 0.010599455, 0.010048658, 0.010385423, 0.011632581, 0.010046951, 0.010859649, 0.010459633, 0.009727667, 0.010438286, 0.011629814, 0.010866259, 0.010457644, 0.010769828, 0.010742552, 0.010421212, 0.010711201, 0.010235523, 0.01021324, 0.011451726, 0.01087164, 0.010752224, 0.010542913, 0.01083763, 0.010642139, 0.010304031, 0.010266081, 0.010295009, 0.010991817, 0.010614848, 0.010501874, 0.00989382, 0.011759088, 0.011204578, 0.010124857, 0.010559527, 0.010669486, 0.010782276, 0.008402485, 0.011566207, 0.011248749, 0.010329593, 0.010896384, 0.010133969, 0.011347928, 0.011369376, 0.010642189, 0.011430333, 0.01045819, 0.010282192, 0.01043805, 0.009555336, 0.010140383, 0.01197015, 0.01098922, 0.010490869, 0.009844569, 0.010964027, 0.01127675, 0.010038851, 0.010867314]\n",
      "2022-02-25 14:45:44,103 : INFO : merging changes from 2000 documents into a model of 3204 documents\n",
      "2022-02-25 14:45:44,109 : INFO : topic #77 (0.008): 0.001*\"implic\" + 0.001*\"favor\" + 0.001*\"adapt\" + 0.001*\"polygon\" + 0.001*\"stage\" + 0.001*\"situat\" + 0.001*\"respons\" + 0.001*\"industri\" + 0.001*\"regress\" + 0.001*\"drive\"\n",
      "2022-02-25 14:45:44,110 : INFO : topic #90 (0.010): 0.552*\"direct\" + 0.233*\"search\" + 0.074*\"e4\" + 0.059*\"algorithm\" + 0.010*\"(\" + 0.005*\"[\" + 0.002*\"])\" + 0.000*\"simpson\" + 0.000*\"adapt\" + 0.000*\"polygon\"\n",
      "2022-02-25 14:45:44,110 : INFO : topic #92 (0.012): 0.142*\"]\" + 0.118*\"[\" + 0.107*\")\" + 0.098*\"algorithm\" + 0.096*\"(\" + 0.051*\"test\" + 0.025*\"eigenvalu\" + 0.023*\"probabl\" + 0.022*\"matric\" + 0.020*\"retriev\"\n",
      "2022-02-25 14:45:44,111 : INFO : topic #7 (0.013): 0.197*\"[\" + 0.181*\"(\" + 0.180*\"algorithm\" + 0.171*\"])\" + 0.045*\"polynomi\" + 0.042*\"squar\" + 0.028*\"root\" + 0.021*\"-\" + 0.017*\"function\" + 0.017*\"fit\"\n",
      "2022-02-25 14:45:44,112 : INFO : topic #17 (0.019): 0.306*\"(\" + 0.304*\")\" + 0.220*\"algorithm\" + 0.040*\"function\" + 0.020*\"integr\" + 0.015*\"interpol\" + 0.014*\"matrix\" + 0.009*\"ration\" + 0.009*\"real\" + 0.007*\"chebyshev\"\n",
      "2022-02-25 14:45:44,112 : INFO : topic diff=0.642762, rho=0.362690\n",
      "2022-02-25 14:45:45,054 : INFO : -6.596 per-word bound, 96.7 perplexity estimate based on a held-out corpus of 1204 documents with 49783 words\n",
      "2022-02-25 14:45:45,054 : INFO : PROGRESS: pass 5, at document #3204/3204\n",
      "2022-02-25 14:45:45,840 : INFO : optimized alpha [0.010792965, 0.010546503, 0.009897108, 0.011500534, 0.01073787, 0.010195536, 0.010740205, 0.012560128, 0.0101415245, 0.010763109, 0.0103611145, 0.010336351, 0.009989539, 0.01074715, 0.011542601, 0.009583811, 0.010612519, 0.019674273, 0.011186945, 0.01069749, 0.009957488, 0.010705259, 0.010491178, 0.010893662, 0.011069443, 0.0107549885, 0.011083012, 0.010128297, 0.010169933, 0.009967975, 0.010363054, 0.010460528, 0.010242764, 0.010403948, 0.011529274, 0.01112206, 0.010936565, 0.01143302, 0.01022207, 0.010506625, 0.010780256, 0.010119876, 0.010539308, 0.011829588, 0.010169061, 0.010968057, 0.010614121, 0.009763873, 0.0106340805, 0.0119548645, 0.011065998, 0.010605772, 0.010970891, 0.010894157, 0.010563691, 0.010841173, 0.01026621, 0.010319743, 0.011669787, 0.010991154, 0.010898637, 0.010708782, 0.011089273, 0.010762546, 0.010412712, 0.010371587, 0.010398705, 0.011244988, 0.010778828, 0.010643557, 0.009964498, 0.012097822, 0.01134001, 0.010202888, 0.010641923, 0.010850031, 0.010970136, 0.008307184, 0.011838983, 0.011476257, 0.010479664, 0.011114815, 0.010221863, 0.011547402, 0.011607851, 0.01069037, 0.011856337, 0.010544035, 0.010353031, 0.010528721, 0.009602461, 0.010249099, 0.012309331, 0.0112575255, 0.010637934, 0.009899079, 0.011154665, 0.011585923, 0.010130684, 0.011071975]\n",
      "2022-02-25 14:45:45,845 : INFO : merging changes from 1204 documents into a model of 3204 documents\n",
      "2022-02-25 14:45:45,851 : INFO : topic #77 (0.008): 0.001*\"implic\" + 0.001*\"favor\" + 0.001*\"adapt\" + 0.001*\"polygon\" + 0.001*\"stage\" + 0.001*\"situat\" + 0.001*\"respons\" + 0.001*\"industri\" + 0.001*\"regress\" + 0.001*\"drive\"\n",
      "2022-02-25 14:45:45,852 : INFO : topic #15 (0.010): 0.066*\"pictur\" + 0.062*\"system\" + 0.056*\"comput\" + 0.042*\"-\" + 0.041*\"program\" + 0.030*\",\" + 0.028*\"format\" + 0.027*\"label\" + 0.025*\"administr\" + 0.019*\"descript\"\n",
      "2022-02-25 14:45:45,853 : INFO : topic #92 (0.012): 0.165*\"]\" + 0.146*\"[\" + 0.122*\")\" + 0.113*\"algorithm\" + 0.107*\"(\" + 0.045*\"test\" + 0.024*\"probabl\" + 0.024*\"eigenvalu\" + 0.015*\"matric\" + 0.014*\"determin\"\n",
      "2022-02-25 14:45:45,854 : INFO : topic #7 (0.013): 0.192*\"[\" + 0.180*\"algorithm\" + 0.177*\"(\" + 0.151*\"])\" + 0.050*\"squar\" + 0.048*\"polynomi\" + 0.032*\"root\" + 0.021*\"-\" + 0.020*\"fit\" + 0.019*\"e2\"\n",
      "2022-02-25 14:45:45,855 : INFO : topic #17 (0.020): 0.314*\"(\" + 0.308*\")\" + 0.217*\"algorithm\" + 0.040*\"function\" + 0.018*\"integr\" + 0.016*\"interpol\" + 0.013*\"matrix\" + 0.008*\"real\" + 0.008*\"ration\" + 0.006*\"chebyshev\"\n",
      "2022-02-25 14:45:45,856 : INFO : topic diff=0.661653, rho=0.362690\n",
      "2022-02-25 14:45:45,865 : INFO : PROGRESS: pass 6, at document #2000/3204\n",
      "2022-02-25 14:45:46,781 : INFO : optimized alpha [0.010837327, 0.010634327, 0.00987535, 0.011496012, 0.010694333, 0.010193375, 0.0107444385, 0.013106844, 0.010121393, 0.010838599, 0.01033514, 0.010334912, 0.010024071, 0.010794745, 0.011556533, 0.00959716, 0.010639487, 0.02111163, 0.011359991, 0.010814682, 0.009941042, 0.010696961, 0.010546556, 0.010877251, 0.011083829, 0.010780968, 0.011072967, 0.010159062, 0.010152894, 0.010006036, 0.010442771, 0.010478685, 0.010259212, 0.010506173, 0.011591227, 0.011145396, 0.010921718, 0.01146323, 0.010302845, 0.010473963, 0.010833056, 0.010115053, 0.010527937, 0.011955577, 0.010159545, 0.011018148, 0.010581383, 0.009817881, 0.010622118, 0.011982101, 0.011062644, 0.010595451, 0.011058696, 0.010878532, 0.010578194, 0.011013912, 0.010363691, 0.010328226, 0.011929778, 0.011081181, 0.010882355, 0.010694613, 0.011092978, 0.010773171, 0.010448725, 0.0104146395, 0.010417775, 0.011226079, 0.010919648, 0.010590576, 0.009955729, 0.012223664, 0.011528418, 0.0102295065, 0.010723426, 0.010898807, 0.011003246, 0.008237508, 0.01206244, 0.011548637, 0.010432075, 0.011167898, 0.010206717, 0.011601262, 0.011619088, 0.010845573, 0.011951538, 0.010611897, 0.0104109645, 0.010544743, 0.009617756, 0.010259526, 0.01232673, 0.011340678, 0.010703283, 0.009862111, 0.011250766, 0.011530729, 0.010122119, 0.011091928]\n",
      "2022-02-25 14:45:46,786 : INFO : merging changes from 2000 documents into a model of 3204 documents\n",
      "2022-02-25 14:45:46,792 : INFO : topic #77 (0.008): 0.001*\"implic\" + 0.001*\"favor\" + 0.001*\"adapt\" + 0.001*\"polygon\" + 0.001*\"stage\" + 0.001*\"situat\" + 0.001*\"respons\" + 0.001*\"industri\" + 0.001*\"regress\" + 0.001*\"drive\"\n",
      "2022-02-25 14:45:46,793 : INFO : topic #15 (0.010): 0.061*\"system\" + 0.055*\"comput\" + 0.051*\"pictur\" + 0.046*\"program\" + 0.041*\"-\" + 0.037*\"format\" + 0.030*\",\" + 0.023*\"descript\" + 0.022*\"label\" + 0.020*\"administr\"\n",
      "2022-02-25 14:45:46,794 : INFO : topic #92 (0.012): 0.142*\"]\" + 0.128*\"[\" + 0.113*\")\" + 0.110*\"algorithm\" + 0.105*\"(\" + 0.051*\"test\" + 0.026*\"probabl\" + 0.025*\"eigenvalu\" + 0.024*\"determin\" + 0.018*\"evalu\"\n",
      "2022-02-25 14:45:46,794 : INFO : topic #7 (0.013): 0.197*\"[\" + 0.182*\"algorithm\" + 0.180*\"(\" + 0.172*\"])\" + 0.044*\"polynomi\" + 0.043*\"squar\" + 0.029*\"root\" + 0.020*\"-\" + 0.019*\"function\" + 0.016*\"fit\"\n",
      "2022-02-25 14:45:46,795 : INFO : topic #17 (0.021): 0.313*\"(\" + 0.310*\")\" + 0.222*\"algorithm\" + 0.038*\"function\" + 0.018*\"integr\" + 0.015*\"interpol\" + 0.012*\"matrix\" + 0.009*\"real\" + 0.007*\"bessel\" + 0.007*\"chebyshev\"\n",
      "2022-02-25 14:45:46,795 : INFO : topic diff=0.587292, rho=0.340958\n",
      "2022-02-25 14:45:47,838 : INFO : -6.564 per-word bound, 94.6 perplexity estimate based on a held-out corpus of 1204 documents with 49783 words\n",
      "2022-02-25 14:45:47,839 : INFO : PROGRESS: pass 6, at document #3204/3204\n",
      "2022-02-25 14:45:48,629 : INFO : optimized alpha [0.010956946, 0.010835504, 0.009954501, 0.011770885, 0.0108603025, 0.010266006, 0.010917068, 0.013064281, 0.010203807, 0.011097481, 0.01048399, 0.010465702, 0.010112473, 0.010893697, 0.011747845, 0.009602933, 0.010765149, 0.022110935, 0.011458834, 0.010898664, 0.009954978, 0.010835775, 0.010688355, 0.011041502, 0.011236007, 0.010922711, 0.01129451, 0.0102565335, 0.010264765, 0.010150841, 0.01054934, 0.01060027, 0.010424429, 0.010575355, 0.011847772, 0.01127529, 0.011133615, 0.011750267, 0.010410371, 0.010572969, 0.011008188, 0.010182708, 0.0106710065, 0.012135714, 0.010275381, 0.011130159, 0.010730742, 0.009871771, 0.010817197, 0.012300233, 0.0112524, 0.010751314, 0.011266397, 0.011047113, 0.010725547, 0.011146108, 0.010401179, 0.010435095, 0.012148047, 0.011200761, 0.011021206, 0.010867279, 0.011348692, 0.010893506, 0.010569328, 0.01052341, 0.010533878, 0.0114736315, 0.011103647, 0.010721911, 0.01003426, 0.0125737125, 0.011662777, 0.010303337, 0.010801063, 0.011076395, 0.01118171, 0.00815215, 0.012348293, 0.011772235, 0.010565379, 0.011382299, 0.010289943, 0.011787467, 0.011852595, 0.010893271, 0.01237161, 0.010701911, 0.010489676, 0.010639666, 0.009670751, 0.010362492, 0.012648145, 0.011600744, 0.010836633, 0.0099396845, 0.011445024, 0.011809478, 0.010217963, 0.011292972]\n",
      "2022-02-25 14:45:48,635 : INFO : merging changes from 1204 documents into a model of 3204 documents\n",
      "2022-02-25 14:45:48,640 : INFO : topic #77 (0.008): 0.001*\"implic\" + 0.001*\"favor\" + 0.001*\"adapt\" + 0.001*\"polygon\" + 0.001*\"stage\" + 0.001*\"situat\" + 0.001*\"respons\" + 0.001*\"industri\" + 0.001*\"regress\" + 0.001*\"drive\"\n",
      "2022-02-25 14:45:48,641 : INFO : topic #15 (0.010): 0.065*\"pictur\" + 0.063*\"system\" + 0.058*\"comput\" + 0.043*\"-\" + 0.042*\"program\" + 0.032*\"format\" + 0.029*\",\" + 0.027*\"label\" + 0.025*\"administr\" + 0.021*\"descript\"\n",
      "2022-02-25 14:45:48,642 : INFO : topic #92 (0.013): 0.163*\"]\" + 0.150*\"[\" + 0.126*\")\" + 0.121*\"algorithm\" + 0.113*\"(\" + 0.045*\"test\" + 0.027*\"probabl\" + 0.024*\"eigenvalu\" + 0.017*\"determin\" + 0.014*\"evalu\"\n",
      "2022-02-25 14:45:48,643 : INFO : topic #7 (0.013): 0.192*\"[\" + 0.181*\"algorithm\" + 0.176*\"(\" + 0.153*\"])\" + 0.052*\"squar\" + 0.049*\"polynomi\" + 0.033*\"root\" + 0.020*\"-\" + 0.019*\"e2\" + 0.018*\"function\"\n",
      "2022-02-25 14:45:48,643 : INFO : topic #17 (0.022): 0.319*\"(\" + 0.312*\")\" + 0.221*\"algorithm\" + 0.039*\"function\" + 0.016*\"interpol\" + 0.016*\"integr\" + 0.012*\"matrix\" + 0.008*\"real\" + 0.006*\"chebyshev\" + 0.006*\"-\"\n",
      "2022-02-25 14:45:48,644 : INFO : topic diff=0.589141, rho=0.340958\n",
      "2022-02-25 14:45:48,651 : INFO : PROGRESS: pass 7, at document #2000/3204\n",
      "2022-02-25 14:45:49,457 : INFO : optimized alpha [0.01100441, 0.010922697, 0.009940686, 0.011770569, 0.010823863, 0.010267676, 0.010918735, 0.013598434, 0.010188295, 0.011181397, 0.010464123, 0.0104657775, 0.010147064, 0.010954935, 0.011768131, 0.009618017, 0.010792346, 0.023631891, 0.011617564, 0.011021554, 0.009951853, 0.010827682, 0.01075321, 0.011030769, 0.011252914, 0.010952435, 0.011296855, 0.010294144, 0.010246985, 0.010186772, 0.010632235, 0.010620906, 0.010439569, 0.0106938, 0.0119135715, 0.011302738, 0.011112946, 0.0117756585, 0.010497499, 0.010547499, 0.011056237, 0.010190126, 0.010658163, 0.0122521045, 0.010271307, 0.011179648, 0.010706181, 0.009939488, 0.010808422, 0.012338383, 0.01124848, 0.010741055, 0.0113645615, 0.011035311, 0.010744179, 0.011326638, 0.010494451, 0.010453284, 0.012417911, 0.011286791, 0.011007321, 0.01085318, 0.011361821, 0.010917835, 0.010610299, 0.010566156, 0.010563965, 0.011457939, 0.011257061, 0.010673436, 0.010029524, 0.012711775, 0.01185346, 0.010338912, 0.010885913, 0.0111241015, 0.011218094, 0.00808929, 0.01257048, 0.011846402, 0.0105220005, 0.0114432275, 0.0102842115, 0.011836356, 0.011866006, 0.0110543305, 0.012489578, 0.010759653, 0.010556854, 0.010658474, 0.009690352, 0.01037907, 0.012666674, 0.011690719, 0.010905858, 0.009909974, 0.011557062, 0.011753064, 0.010214997, 0.011314846]\n",
      "2022-02-25 14:45:49,463 : INFO : merging changes from 2000 documents into a model of 3204 documents\n",
      "2022-02-25 14:45:49,470 : INFO : topic #77 (0.008): 0.001*\"implic\" + 0.001*\"favor\" + 0.001*\"adapt\" + 0.001*\"polygon\" + 0.001*\"stage\" + 0.001*\"situat\" + 0.001*\"respons\" + 0.001*\"industri\" + 0.001*\"regress\" + 0.001*\"drive\"\n",
      "2022-02-25 14:45:49,471 : INFO : topic #15 (0.010): 0.062*\"system\" + 0.058*\"comput\" + 0.051*\"pictur\" + 0.047*\"program\" + 0.042*\"-\" + 0.038*\"format\" + 0.029*\",\" + 0.023*\"descript\" + 0.023*\"label\" + 0.021*\"administr\"\n",
      "2022-02-25 14:45:49,473 : INFO : topic #71 (0.013): 0.185*\"structur\" + 0.177*\"list\" + 0.059*\"logic\" + 0.043*\",\" + 0.043*\"product\" + 0.042*\"-\" + 0.039*\"employ\" + 0.028*\"lisp\" + 0.026*\"data\" + 0.021*\"paper\"\n",
      "2022-02-25 14:45:49,474 : INFO : topic #7 (0.014): 0.198*\"[\" + 0.182*\"algorithm\" + 0.180*\"(\" + 0.173*\"])\" + 0.045*\"squar\" + 0.045*\"polynomi\" + 0.029*\"root\" + 0.021*\"function\" + 0.020*\"-\" + 0.014*\"fit\"\n",
      "2022-02-25 14:45:49,474 : INFO : topic #17 (0.024): 0.318*\"(\" + 0.314*\")\" + 0.224*\"algorithm\" + 0.036*\"function\" + 0.016*\"integr\" + 0.015*\"interpol\" + 0.012*\"matrix\" + 0.008*\"real\" + 0.007*\"bessel\" + 0.007*\"chebyshev\"\n",
      "2022-02-25 14:45:49,475 : INFO : topic diff=0.516179, rho=0.322715\n",
      "2022-02-25 14:45:50,431 : INFO : -6.540 per-word bound, 93.1 perplexity estimate based on a held-out corpus of 1204 documents with 49783 words\n",
      "2022-02-25 14:45:50,432 : INFO : PROGRESS: pass 7, at document #3204/3204\n",
      "2022-02-25 14:45:51,230 : INFO : optimized alpha [0.011121356, 0.011124694, 0.010024418, 0.012047095, 0.0109792985, 0.010342631, 0.011077814, 0.013543179, 0.010272513, 0.011448762, 0.010600658, 0.010599008, 0.010258937, 0.0110698305, 0.011922004, 0.009634577, 0.010917887, 0.024676802, 0.011707913, 0.011119153, 0.009957817, 0.010963048, 0.0109033175, 0.011190527, 0.011388881, 0.011093531, 0.011521562, 0.010384322, 0.0103453975, 0.010330709, 0.010745298, 0.010742687, 0.010603265, 0.010762115, 0.012169648, 0.011420216, 0.0113277575, 0.012051889, 0.010591303, 0.010659177, 0.011220646, 0.0102547705, 0.010794727, 0.012423935, 0.010390087, 0.011283178, 0.010857435, 0.009998805, 0.011012552, 0.01266168, 0.011445038, 0.010890038, 0.011566957, 0.011202301, 0.010884894, 0.011455427, 0.010532744, 0.010580529, 0.012637483, 0.0113945985, 0.011142835, 0.011035574, 0.01164098, 0.011038614, 0.010725312, 0.010669785, 0.010689013, 0.011692229, 0.011448601, 0.010795819, 0.010123518, 0.01304404, 0.011987407, 0.010420435, 0.010965472, 0.011290882, 0.011382722, 0.008012016, 0.01286693, 0.012051111, 0.010649225, 0.011658219, 0.01036356, 0.012007937, 0.012092935, 0.011110612, 0.012929826, 0.010842442, 0.010637305, 0.010766146, 0.009748864, 0.010471643, 0.012962256, 0.011941087, 0.011044902, 0.009994957, 0.011765274, 0.012001107, 0.01032031, 0.0115012145]\n",
      "2022-02-25 14:45:51,236 : INFO : merging changes from 1204 documents into a model of 3204 documents\n",
      "2022-02-25 14:45:51,242 : INFO : topic #77 (0.008): 0.001*\"implic\" + 0.001*\"favor\" + 0.001*\"adapt\" + 0.001*\"polygon\" + 0.001*\"stage\" + 0.001*\"situat\" + 0.001*\"respons\" + 0.001*\"industri\" + 0.001*\"regress\" + 0.001*\"drive\"\n",
      "2022-02-25 14:45:51,243 : INFO : topic #15 (0.010): 0.064*\"system\" + 0.061*\"pictur\" + 0.060*\"comput\" + 0.044*\"-\" + 0.042*\"program\" + 0.035*\"format\" + 0.028*\",\" + 0.027*\"label\" + 0.025*\"administr\" + 0.023*\"descript\"\n",
      "2022-02-25 14:45:51,243 : INFO : topic #71 (0.013): 0.202*\"structur\" + 0.173*\"list\" + 0.056*\"logic\" + 0.048*\"product\" + 0.044*\",\" + 0.043*\"employ\" + 0.038*\"-\" + 0.028*\"data\" + 0.027*\"lisp\" + 0.024*\"paper\"\n",
      "2022-02-25 14:45:51,244 : INFO : topic #7 (0.014): 0.193*\"[\" + 0.181*\"algorithm\" + 0.176*\"(\" + 0.156*\"])\" + 0.053*\"squar\" + 0.049*\"polynomi\" + 0.033*\"root\" + 0.021*\"function\" + 0.020*\"-\" + 0.019*\"e2\"\n",
      "2022-02-25 14:45:51,245 : INFO : topic #17 (0.025): 0.324*\"(\" + 0.315*\")\" + 0.222*\"algorithm\" + 0.038*\"function\" + 0.016*\"interpol\" + 0.014*\"integr\" + 0.011*\"matrix\" + 0.008*\"real\" + 0.006*\"-\" + 0.006*\"chebyshev\"\n",
      "2022-02-25 14:45:51,245 : INFO : topic diff=0.514665, rho=0.322715\n",
      "2022-02-25 14:45:51,253 : INFO : PROGRESS: pass 8, at document #2000/3204\n",
      "2022-02-25 14:45:52,108 : INFO : optimized alpha [0.011175285, 0.01120992, 0.010014574, 0.012059944, 0.010954384, 0.010342906, 0.011085795, 0.014064418, 0.0102611715, 0.011528772, 0.010584761, 0.01060048, 0.010288746, 0.011140525, 0.011933554, 0.00965254, 0.010942038, 0.026247717, 0.011859155, 0.011251272, 0.009963497, 0.010960095, 0.010968741, 0.011184937, 0.011399485, 0.011130186, 0.011524534, 0.010420376, 0.01033178, 0.010374387, 0.010833194, 0.010767297, 0.010622143, 0.0108844265, 0.012233737, 0.011444612, 0.011308686, 0.012080261, 0.0106863165, 0.010638352, 0.011271641, 0.010262239, 0.010790555, 0.012539356, 0.010389296, 0.011325283, 0.010835332, 0.01007162, 0.011001562, 0.012694538, 0.011442188, 0.010886656, 0.011675464, 0.011194016, 0.010904176, 0.011646189, 0.010617599, 0.010607586, 0.012914243, 0.011484218, 0.011132854, 0.01101974, 0.011655568, 0.011073856, 0.010759468, 0.0107172355, 0.010727728, 0.011683192, 0.011611177, 0.010751447, 0.010125369, 0.013176495, 0.01218098, 0.010454578, 0.011053814, 0.011344771, 0.011422377, 0.007954838, 0.013110431, 0.012123639, 0.010609432, 0.011721447, 0.010358371, 0.012063724, 0.0121009685, 0.011269333, 0.013064696, 0.0109045105, 0.010709972, 0.01078738, 0.009770872, 0.010490822, 0.012982313, 0.012026942, 0.011114531, 0.009968558, 0.011882128, 0.011945766, 0.010323826, 0.011526902]\n",
      "2022-02-25 14:45:52,113 : INFO : merging changes from 2000 documents into a model of 3204 documents\n",
      "2022-02-25 14:45:52,119 : INFO : topic #77 (0.008): 0.001*\"implic\" + 0.001*\"favor\" + 0.001*\"adapt\" + 0.001*\"polygon\" + 0.001*\"stage\" + 0.001*\"situat\" + 0.001*\"respons\" + 0.001*\"industri\" + 0.001*\"regress\" + 0.001*\"drive\"\n",
      "2022-02-25 14:45:52,120 : INFO : topic #15 (0.010): 0.063*\"system\" + 0.060*\"comput\" + 0.049*\"pictur\" + 0.047*\"program\" + 0.044*\"-\" + 0.040*\"format\" + 0.027*\",\" + 0.025*\"descript\" + 0.023*\"label\" + 0.021*\"administr\"\n",
      "2022-02-25 14:45:52,121 : INFO : topic #71 (0.013): 0.196*\"structur\" + 0.186*\"list\" + 0.058*\"logic\" + 0.044*\"product\" + 0.042*\",\" + 0.041*\"-\" + 0.039*\"employ\" + 0.029*\"lisp\" + 0.027*\"data\" + 0.021*\"paper\"\n",
      "2022-02-25 14:45:52,122 : INFO : topic #7 (0.014): 0.198*\"[\" + 0.183*\"algorithm\" + 0.180*\"(\" + 0.174*\"])\" + 0.045*\"squar\" + 0.044*\"polynomi\" + 0.030*\"root\" + 0.023*\"function\" + 0.019*\"-\" + 0.014*\"e2\"\n",
      "2022-02-25 14:45:52,122 : INFO : topic #17 (0.026): 0.323*\"(\" + 0.317*\")\" + 0.225*\"algorithm\" + 0.036*\"function\" + 0.015*\"interpol\" + 0.014*\"integr\" + 0.011*\"matrix\" + 0.008*\"real\" + 0.007*\"bessel\" + 0.007*\"chebyshev\"\n",
      "2022-02-25 14:45:52,123 : INFO : topic diff=0.448854, rho=0.307119\n",
      "2022-02-25 14:45:52,972 : INFO : -6.516 per-word bound, 91.5 perplexity estimate based on a held-out corpus of 1204 documents with 49783 words\n",
      "2022-02-25 14:45:52,973 : INFO : PROGRESS: pass 8, at document #3204/3204\n",
      "2022-02-25 14:45:53,795 : INFO : optimized alpha [0.0112988325, 0.011413463, 0.010089781, 0.012339531, 0.011100765, 0.010417595, 0.011241306, 0.013993655, 0.010341991, 0.011787639, 0.01072665, 0.010725648, 0.0104015935, 0.011253374, 0.0120937, 0.009676279, 0.011062513, 0.027315397, 0.0119480565, 0.011359071, 0.0099803, 0.0111039225, 0.011110246, 0.011341306, 0.011520916, 0.011271319, 0.011732256, 0.01051216, 0.010426217, 0.010525994, 0.010952655, 0.010886828, 0.010795932, 0.010946608, 0.012471693, 0.011551256, 0.011518383, 0.0123597, 0.010797696, 0.010748314, 0.011423867, 0.01033769, 0.0109159965, 0.012710648, 0.010505928, 0.011415751, 0.010972136, 0.010128237, 0.011203651, 0.01300777, 0.011631305, 0.011046599, 0.011876763, 0.011354412, 0.011039308, 0.011775259, 0.010662256, 0.010727017, 0.013132694, 0.011593438, 0.011265725, 0.011200762, 0.011928759, 0.011195492, 0.010872482, 0.010838559, 0.010861455, 0.011902871, 0.011790127, 0.010868824, 0.010228558, 0.013499089, 0.012315278, 0.010535337, 0.011138304, 0.011513633, 0.011580503, 0.007884304, 0.013455623, 0.012336286, 0.010734233, 0.011931741, 0.010431855, 0.012225277, 0.0123224985, 0.011322384, 0.013497006, 0.010980924, 0.010797892, 0.0108935665, 0.009834503, 0.010579597, 0.013271307, 0.012272025, 0.01126236, 0.01005539, 0.0121170785, 0.012175325, 0.010422176, 0.0117090605]\n",
      "2022-02-25 14:45:53,800 : INFO : merging changes from 1204 documents into a model of 3204 documents\n",
      "2022-02-25 14:45:53,806 : INFO : topic #77 (0.008): 0.001*\"implic\" + 0.001*\"favor\" + 0.001*\"adapt\" + 0.001*\"polygon\" + 0.001*\"stage\" + 0.001*\"situat\" + 0.001*\"respons\" + 0.001*\"industri\" + 0.001*\"regress\" + 0.001*\"drive\"\n",
      "2022-02-25 14:45:53,807 : INFO : topic #15 (0.010): 0.064*\"system\" + 0.063*\"comput\" + 0.057*\"pictur\" + 0.045*\"-\" + 0.043*\"program\" + 0.036*\"format\" + 0.028*\"label\" + 0.027*\",\" + 0.025*\"administr\" + 0.024*\"descript\"\n",
      "2022-02-25 14:45:53,807 : INFO : topic #86 (0.013): 0.217*\"problem\" + 0.071*\"program\" + 0.061*\",\" + 0.032*\"solut\" + 0.031*\"solv\" + 0.026*\"comput\" + 0.023*\"-\" + 0.021*\"heurist\" + 0.018*\"techniqu\" + 0.018*\"test\"\n",
      "2022-02-25 14:45:53,808 : INFO : topic #7 (0.014): 0.191*\"[\" + 0.182*\"algorithm\" + 0.176*\"(\" + 0.158*\"])\" + 0.053*\"squar\" + 0.048*\"polynomi\" + 0.034*\"root\" + 0.023*\"function\" + 0.020*\"-\" + 0.019*\"e2\"\n",
      "2022-02-25 14:45:53,809 : INFO : topic #17 (0.027): 0.328*\"(\" + 0.319*\")\" + 0.223*\"algorithm\" + 0.037*\"function\" + 0.016*\"interpol\" + 0.012*\"integr\" + 0.010*\"matrix\" + 0.008*\"real\" + 0.007*\"-\" + 0.006*\"chebyshev\"\n",
      "2022-02-25 14:45:53,809 : INFO : topic diff=0.448108, rho=0.307119\n",
      "2022-02-25 14:45:53,817 : INFO : PROGRESS: pass 9, at document #2000/3204\n",
      "2022-02-25 14:45:54,569 : INFO : optimized alpha [0.01136059, 0.0115005085, 0.010080612, 0.012353991, 0.011073311, 0.010421224, 0.011256873, 0.014498961, 0.010331377, 0.0118815, 0.010712695, 0.01072216, 0.010419325, 0.011328127, 0.012113424, 0.009709783, 0.011079056, 0.028942049, 0.012092601, 0.011487075, 0.00999079, 0.011104056, 0.011174867, 0.011342263, 0.011530966, 0.011309609, 0.011737684, 0.010546865, 0.010411762, 0.010564609, 0.011051962, 0.010908778, 0.010819919, 0.011064875, 0.012534462, 0.011576365, 0.0115042515, 0.012383872, 0.010908285, 0.010734852, 0.011479412, 0.010352732, 0.0109086335, 0.012825494, 0.010514394, 0.011461377, 0.0109588085, 0.01020456, 0.011203736, 0.013055151, 0.011629602, 0.011049452, 0.011985014, 0.01135112, 0.011064126, 0.0119659975, 0.010753639, 0.010754549, 0.013419057, 0.0116782235, 0.011256011, 0.011186533, 0.0119465785, 0.011232721, 0.010911527, 0.010887316, 0.010904958, 0.011898359, 0.011951699, 0.010829683, 0.010231896, 0.013624525, 0.01250335, 0.010576031, 0.011221908, 0.011561737, 0.011616586, 0.007831871, 0.013709882, 0.012407445, 0.010696092, 0.011997227, 0.010437949, 0.012276847, 0.012331032, 0.011476091, 0.01363104, 0.011035865, 0.01087748, 0.010912342, 0.009857285, 0.010594988, 0.013296897, 0.012354248, 0.011332606, 0.010034801, 0.012245977, 0.012126485, 0.010428726, 0.011741848]\n",
      "2022-02-25 14:45:54,575 : INFO : merging changes from 2000 documents into a model of 3204 documents\n",
      "2022-02-25 14:45:54,581 : INFO : topic #77 (0.008): 0.001*\"implic\" + 0.001*\"favor\" + 0.001*\"adapt\" + 0.001*\"polygon\" + 0.001*\"stage\" + 0.001*\"situat\" + 0.001*\"respons\" + 0.001*\"industri\" + 0.001*\"regress\" + 0.001*\"drive\"\n",
      "2022-02-25 14:45:54,582 : INFO : topic #15 (0.010): 0.063*\"comput\" + 0.063*\"system\" + 0.048*\"program\" + 0.046*\"pictur\" + 0.046*\"-\" + 0.042*\"format\" + 0.028*\"descript\" + 0.026*\",\" + 0.023*\"label\" + 0.022*\"autom\"\n",
      "2022-02-25 14:45:54,583 : INFO : topic #78 (0.014): 0.523*\"method\" + 0.046*\"reduct\" + 0.045*\"gener\" + 0.045*\"'\" + 0.031*\"matrix\" + 0.028*\"comput\" + 0.021*\"algorithm\" + 0.021*\"vector\" + 0.020*\"evalu\" + 0.020*\"applic\"\n",
      "2022-02-25 14:45:54,584 : INFO : topic #7 (0.014): 0.198*\"[\" + 0.184*\"algorithm\" + 0.181*\"(\" + 0.175*\"])\" + 0.046*\"squar\" + 0.044*\"polynomi\" + 0.030*\"root\" + 0.023*\"function\" + 0.019*\"-\" + 0.014*\"e2\"\n",
      "2022-02-25 14:45:54,585 : INFO : topic #17 (0.029): 0.327*\"(\" + 0.321*\")\" + 0.226*\"algorithm\" + 0.036*\"function\" + 0.015*\"interpol\" + 0.010*\"matrix\" + 0.010*\"integr\" + 0.008*\"real\" + 0.007*\"bessel\" + 0.007*\"-\"\n",
      "2022-02-25 14:45:54,586 : INFO : topic diff=0.391329, rho=0.293585\n",
      "2022-02-25 14:45:55,593 : INFO : -6.498 per-word bound, 90.4 perplexity estimate based on a held-out corpus of 1204 documents with 49783 words\n",
      "2022-02-25 14:45:55,593 : INFO : PROGRESS: pass 9, at document #3204/3204\n",
      "2022-02-25 14:45:56,311 : INFO : optimized alpha [0.011490812, 0.011703518, 0.010158158, 0.012634443, 0.011217193, 0.010493261, 0.011406916, 0.014427924, 0.010421931, 0.012156502, 0.010857417, 0.010837581, 0.010535961, 0.011428366, 0.01225882, 0.009742436, 0.0111951865, 0.029991372, 0.012174599, 0.011593552, 0.010012432, 0.011261818, 0.011322516, 0.011493053, 0.011639336, 0.011445778, 0.011958823, 0.010642954, 0.0105078835, 0.01071105, 0.011177866, 0.011029324, 0.010998487, 0.011121486, 0.012761903, 0.011696009, 0.011715497, 0.012658166, 0.011023412, 0.010848853, 0.011632006, 0.010420358, 0.011037596, 0.012990496, 0.010637086, 0.011551153, 0.01109868, 0.01026388, 0.011415492, 0.013356564, 0.011815093, 0.011206556, 0.012188971, 0.011517025, 0.011194415, 0.012107515, 0.010796382, 0.010872304, 0.0136369895, 0.011791975, 0.011378523, 0.011366838, 0.012246787, 0.011361157, 0.011023057, 0.011001549, 0.011034025, 0.012116618, 0.012133732, 0.010942824, 0.010331317, 0.01395878, 0.012629226, 0.010656405, 0.011294793, 0.011724717, 0.011769133, 0.007767042, 0.014085091, 0.012613363, 0.010816427, 0.012221232, 0.01050871, 0.012441676, 0.012545247, 0.011523502, 0.014056271, 0.011117379, 0.010956576, 0.011022664, 0.009928205, 0.010683137, 0.013573798, 0.012598171, 0.011475291, 0.010121065, 0.012501514, 0.012330159, 0.010531185, 0.0119149]\n",
      "2022-02-25 14:45:56,317 : INFO : merging changes from 1204 documents into a model of 3204 documents\n",
      "2022-02-25 14:45:56,323 : INFO : topic #77 (0.008): 0.001*\"implic\" + 0.001*\"favor\" + 0.001*\"adapt\" + 0.001*\"polygon\" + 0.001*\"stage\" + 0.001*\"situat\" + 0.001*\"respons\" + 0.001*\"industri\" + 0.001*\"regress\" + 0.001*\"drive\"\n",
      "2022-02-25 14:45:56,323 : INFO : topic #15 (0.010): 0.064*\"comput\" + 0.063*\"system\" + 0.053*\"pictur\" + 0.047*\"-\" + 0.044*\"program\" + 0.038*\"format\" + 0.028*\"autom\" + 0.027*\"descript\" + 0.027*\"label\" + 0.026*\",\"\n",
      "2022-02-25 14:45:56,324 : INFO : topic #78 (0.014): 0.546*\"method\" + 0.047*\"reduct\" + 0.045*\"gener\" + 0.042*\"'\" + 0.029*\"matrix\" + 0.027*\"comput\" + 0.022*\"vector\" + 0.020*\"applic\" + 0.019*\"algorithm\" + 0.019*\"illustr\"\n",
      "2022-02-25 14:45:56,325 : INFO : topic #7 (0.014): 0.191*\"[\" + 0.183*\"algorithm\" + 0.177*\"(\" + 0.160*\"])\" + 0.053*\"squar\" + 0.047*\"polynomi\" + 0.033*\"root\" + 0.024*\"function\" + 0.020*\"-\" + 0.019*\"e2\"\n",
      "2022-02-25 14:45:56,325 : INFO : topic #17 (0.030): 0.333*\"(\" + 0.323*\")\" + 0.222*\"algorithm\" + 0.037*\"function\" + 0.016*\"interpol\" + 0.010*\"matrix\" + 0.008*\"integr\" + 0.008*\"real\" + 0.007*\"-\" + 0.006*\"bessel\"\n",
      "2022-02-25 14:45:56,326 : INFO : topic diff=0.393113, rho=0.293585\n",
      "2022-02-25 14:45:56,334 : INFO : PROGRESS: pass 10, at document #2000/3204\n",
      "2022-02-25 14:45:57,099 : INFO : optimized alpha [0.011553692, 0.011790866, 0.010150992, 0.012652157, 0.011195239, 0.010498506, 0.011421576, 0.014920716, 0.010413295, 0.012255412, 0.010849816, 0.010828021, 0.010558983, 0.011508753, 0.0122793205, 0.009780647, 0.011210965, 0.031667966, 0.012318338, 0.011724446, 0.010027436, 0.011267922, 0.011388007, 0.011492002, 0.011645732, 0.011482503, 0.011971579, 0.010685472, 0.010494079, 0.010752625, 0.011285233, 0.01105506, 0.011027326, 0.011240845, 0.012823623, 0.011723419, 0.011702626, 0.01268021, 0.011132326, 0.01084354, 0.011685432, 0.010436634, 0.011035058, 0.013103333, 0.0106465565, 0.01158862, 0.011087176, 0.010343563, 0.011417859, 0.013395279, 0.01181443, 0.0112105375, 0.012309233, 0.011513377, 0.011218131, 0.012295359, 0.010886479, 0.010903322, 0.013910752, 0.011880768, 0.011369107, 0.011352507, 0.012269315, 0.0113969585, 0.011057522, 0.011050128, 0.011085344, 0.012114749, 0.012299854, 0.0109036965, 0.010337512, 0.014087432, 0.012814143, 0.010700304, 0.011377269, 0.0117740445, 0.011801967, 0.007718709, 0.01436879, 0.012685189, 0.010779765, 0.012285714, 0.010514824, 0.012492953, 0.012557855, 0.011674406, 0.0142078325, 0.011168918, 0.01103829, 0.0110454345, 0.009951718, 0.010701065, 0.013595163, 0.012682486, 0.011544654, 0.010105803, 0.012626705, 0.012285871, 0.010542031, 0.011944398]\n",
      "2022-02-25 14:45:57,104 : INFO : merging changes from 2000 documents into a model of 3204 documents\n",
      "2022-02-25 14:45:57,109 : INFO : topic #77 (0.008): 0.001*\"implic\" + 0.001*\"favor\" + 0.001*\"adapt\" + 0.001*\"polygon\" + 0.001*\"stage\" + 0.001*\"situat\" + 0.001*\"respons\" + 0.001*\"industri\" + 0.001*\"regress\" + 0.001*\"drive\"\n",
      "2022-02-25 14:45:57,110 : INFO : topic #15 (0.010): 0.065*\"comput\" + 0.062*\"system\" + 0.048*\"-\" + 0.048*\"program\" + 0.043*\"pictur\" + 0.043*\"format\" + 0.030*\"descript\" + 0.026*\"autom\" + 0.026*\",\" + 0.023*\"label\"\n",
      "2022-02-25 14:45:57,111 : INFO : topic #78 (0.014): 0.546*\"method\" + 0.045*\"reduct\" + 0.044*\"gener\" + 0.042*\"'\" + 0.030*\"matrix\" + 0.027*\"comput\" + 0.021*\"applic\" + 0.020*\"vector\" + 0.020*\"evalu\" + 0.018*\"illustr\"\n",
      "2022-02-25 14:45:57,111 : INFO : topic #7 (0.015): 0.198*\"[\" + 0.185*\"algorithm\" + 0.182*\"(\" + 0.176*\"])\" + 0.045*\"squar\" + 0.042*\"polynomi\" + 0.030*\"root\" + 0.024*\"function\" + 0.019*\"-\" + 0.015*\"e2\"\n",
      "2022-02-25 14:45:57,112 : INFO : topic #17 (0.032): 0.331*\"(\" + 0.324*\")\" + 0.225*\"algorithm\" + 0.036*\"function\" + 0.015*\"interpol\" + 0.010*\"matrix\" + 0.008*\"real\" + 0.007*\"-\" + 0.007*\"integr\" + 0.007*\"bessel\"\n",
      "2022-02-25 14:45:57,113 : INFO : topic diff=0.343136, rho=0.281696\n",
      "2022-02-25 14:45:57,930 : INFO : -6.484 per-word bound, 89.5 perplexity estimate based on a held-out corpus of 1204 documents with 49783 words\n",
      "2022-02-25 14:45:57,930 : INFO : PROGRESS: pass 10, at document #3204/3204\n",
      "2022-02-25 14:45:58,618 : INFO : optimized alpha [0.011671543, 0.01199117, 0.010228398, 0.0129371965, 0.011339784, 0.010578149, 0.011564088, 0.014846044, 0.010498458, 0.01253279, 0.010987317, 0.010937128, 0.010674412, 0.011610887, 0.0124317575, 0.009812298, 0.011320603, 0.032689497, 0.012396875, 0.0118438825, 0.010046302, 0.011423355, 0.011549974, 0.011637918, 0.011744846, 0.011616954, 0.012192106, 0.010783441, 0.010587018, 0.010899615, 0.011401736, 0.011176851, 0.011205905, 0.011297693, 0.0130475415, 0.011830721, 0.011918724, 0.012956275, 0.011243539, 0.010969242, 0.011833167, 0.01050202, 0.01116248, 0.013253635, 0.010777756, 0.011669843, 0.011235616, 0.010417773, 0.011615479, 0.013688984, 0.011996955, 0.011370783, 0.012513432, 0.011676956, 0.011344173, 0.01242634, 0.010935208, 0.011022415, 0.014128864, 0.01199917, 0.011490334, 0.011527261, 0.012576825, 0.011523935, 0.011167945, 0.011168348, 0.011218233, 0.012329403, 0.012482522, 0.011013109, 0.010445833, 0.014417664, 0.0129381595, 0.010777903, 0.0114527745, 0.011929102, 0.011955151, 0.007658774, 0.014769007, 0.012891114, 0.010908869, 0.01250937, 0.0105856825, 0.012649522, 0.01275665, 0.011722109, 0.014664301, 0.0112475995, 0.011119715, 0.0111548025, 0.010020292, 0.010791257, 0.01386771, 0.012922997, 0.011696302, 0.010196463, 0.012923914, 0.012480249, 0.010638717, 0.01211212]\n",
      "2022-02-25 14:45:58,623 : INFO : merging changes from 1204 documents into a model of 3204 documents\n",
      "2022-02-25 14:45:58,629 : INFO : topic #77 (0.008): 0.001*\"implic\" + 0.001*\"favor\" + 0.001*\"adapt\" + 0.001*\"polygon\" + 0.001*\"stage\" + 0.001*\"situat\" + 0.001*\"respons\" + 0.001*\"industri\" + 0.001*\"regress\" + 0.001*\"drive\"\n",
      "2022-02-25 14:45:58,630 : INFO : topic #15 (0.010): 0.066*\"comput\" + 0.062*\"system\" + 0.051*\"pictur\" + 0.049*\"-\" + 0.045*\"program\" + 0.040*\"format\" + 0.032*\"autom\" + 0.030*\"descript\" + 0.027*\"label\" + 0.025*\",\"\n",
      "2022-02-25 14:45:58,631 : INFO : topic #78 (0.015): 0.564*\"method\" + 0.046*\"reduct\" + 0.044*\"gener\" + 0.040*\"'\" + 0.028*\"matrix\" + 0.026*\"comput\" + 0.022*\"vector\" + 0.020*\"applic\" + 0.019*\"illustr\" + 0.016*\"evalu\"\n",
      "2022-02-25 14:45:58,632 : INFO : topic #7 (0.015): 0.192*\"[\" + 0.183*\"algorithm\" + 0.178*\"(\" + 0.162*\"])\" + 0.053*\"squar\" + 0.046*\"polynomi\" + 0.033*\"root\" + 0.024*\"function\" + 0.020*\"-\" + 0.019*\"e2\"\n",
      "2022-02-25 14:45:58,633 : INFO : topic #17 (0.033): 0.336*\"(\" + 0.327*\")\" + 0.221*\"algorithm\" + 0.037*\"function\" + 0.016*\"interpol\" + 0.009*\"matrix\" + 0.007*\"real\" + 0.007*\"-\" + 0.006*\"bessel\" + 0.006*\"integr\"\n",
      "2022-02-25 14:45:58,634 : INFO : topic diff=0.346594, rho=0.281696\n",
      "2022-02-25 14:45:58,644 : INFO : PROGRESS: pass 11, at document #2000/3204\n",
      "2022-02-25 14:45:59,357 : INFO : optimized alpha [0.011737263, 0.0120790275, 0.010223024, 0.012963401, 0.011318284, 0.010584821, 0.011582713, 0.015331403, 0.010494563, 0.012638721, 0.010979697, 0.010927873, 0.010693573, 0.011693736, 0.012454735, 0.009852263, 0.011334269, 0.034406353, 0.012538449, 0.011969854, 0.010068178, 0.011433527, 0.0116164675, 0.011636614, 0.011754279, 0.011655417, 0.012207023, 0.010827495, 0.010575271, 0.010941074, 0.011504689, 0.011206186, 0.011242517, 0.011412303, 0.013104921, 0.011857186, 0.011905253, 0.012983398, 0.011347993, 0.010963971, 0.011892833, 0.010520836, 0.011159866, 0.013364901, 0.010791076, 0.01169986, 0.011230252, 0.010503724, 0.011617052, 0.0137363905, 0.011997315, 0.011374188, 0.012635625, 0.011676115, 0.011365364, 0.012616864, 0.011025777, 0.011050762, 0.014401949, 0.012082046, 0.011481248, 0.011511258, 0.012597146, 0.01156318, 0.011202684, 0.011222895, 0.011280099, 0.0123266885, 0.012657014, 0.010983063, 0.010461705, 0.014546083, 0.013122202, 0.010823422, 0.011529798, 0.011973396, 0.011989902, 0.007613967, 0.015061472, 0.012962181, 0.0108748805, 0.012573028, 0.010593241, 0.012704122, 0.012775185, 0.011867491, 0.014817687, 0.011296102, 0.011200599, 0.011181356, 0.010043162, 0.0108116055, 0.013885119, 0.013004334, 0.01176821, 0.010186022, 0.013063392, 0.012436819, 0.010653571, 0.012140261]\n",
      "2022-02-25 14:45:59,362 : INFO : merging changes from 2000 documents into a model of 3204 documents\n",
      "2022-02-25 14:45:59,368 : INFO : topic #77 (0.008): 0.001*\"implic\" + 0.001*\"favor\" + 0.001*\"adapt\" + 0.001*\"polygon\" + 0.001*\"stage\" + 0.001*\"situat\" + 0.001*\"respons\" + 0.001*\"industri\" + 0.001*\"regress\" + 0.001*\"drive\"\n",
      "2022-02-25 14:45:59,369 : INFO : topic #15 (0.010): 0.067*\"comput\" + 0.061*\"system\" + 0.050*\"-\" + 0.048*\"program\" + 0.045*\"format\" + 0.042*\"pictur\" + 0.032*\"descript\" + 0.029*\"autom\" + 0.025*\",\" + 0.023*\"logic\"\n",
      "2022-02-25 14:45:59,370 : INFO : topic #78 (0.015): 0.564*\"method\" + 0.044*\"reduct\" + 0.043*\"gener\" + 0.039*\"'\" + 0.028*\"matrix\" + 0.026*\"comput\" + 0.021*\"applic\" + 0.020*\"vector\" + 0.019*\"evalu\" + 0.018*\"illustr\"\n",
      "2022-02-25 14:45:59,371 : INFO : topic #7 (0.015): 0.198*\"[\" + 0.185*\"algorithm\" + 0.182*\"(\" + 0.177*\"])\" + 0.045*\"squar\" + 0.041*\"polynomi\" + 0.030*\"root\" + 0.025*\"function\" + 0.019*\"-\" + 0.015*\"e2\"\n",
      "2022-02-25 14:45:59,371 : INFO : topic #17 (0.034): 0.334*\"(\" + 0.328*\")\" + 0.224*\"algorithm\" + 0.035*\"function\" + 0.015*\"interpol\" + 0.009*\"matrix\" + 0.008*\"real\" + 0.007*\"-\" + 0.007*\"bessel\" + 0.006*\"chebyshev\"\n",
      "2022-02-25 14:45:59,372 : INFO : topic diff=0.303796, rho=0.271143\n",
      "2022-02-25 14:46:00,176 : INFO : -6.471 per-word bound, 88.7 perplexity estimate based on a held-out corpus of 1204 documents with 49783 words\n",
      "2022-02-25 14:46:00,176 : INFO : PROGRESS: pass 11, at document #3204/3204\n",
      "2022-02-25 14:46:00,846 : INFO : optimized alpha [0.011854203, 0.012279738, 0.010293585, 0.013244916, 0.011458536, 0.0106572565, 0.011726349, 0.015239359, 0.010574796, 0.012921945, 0.01110815, 0.011033738, 0.010815376, 0.011803282, 0.012608609, 0.009885312, 0.011443114, 0.03544057, 0.012611115, 0.01208841, 0.010086833, 0.011587132, 0.011774148, 0.0117756035, 0.011850318, 0.011788532, 0.012419258, 0.010924937, 0.010663078, 0.011084014, 0.011628091, 0.0113141835, 0.011421526, 0.011466928, 0.013328953, 0.011963781, 0.012126498, 0.013247271, 0.011448033, 0.011091003, 0.012047206, 0.010598712, 0.011283504, 0.013513522, 0.0109232515, 0.011775907, 0.01137189, 0.010582559, 0.011819934, 0.014029739, 0.012172037, 0.011543001, 0.012840706, 0.0118482495, 0.01149289, 0.012746447, 0.01106777, 0.011168809, 0.014607743, 0.012196848, 0.011593657, 0.011691485, 0.012898372, 0.011691736, 0.011314699, 0.011350236, 0.01141443, 0.01254391, 0.012826382, 0.011094148, 0.0105715515, 0.01486625, 0.013241947, 0.010901022, 0.01160801, 0.012123899, 0.012138612, 0.007558274, 0.015487945, 0.013162668, 0.0109927645, 0.012794054, 0.010669167, 0.012861934, 0.012962651, 0.011913015, 0.015283218, 0.011369708, 0.011284366, 0.011290016, 0.0101119485, 0.010906405, 0.014157081, 0.013247856, 0.011910244, 0.01026696, 0.013388157, 0.012625578, 0.010754557, 0.012305941]\n",
      "2022-02-25 14:46:00,851 : INFO : merging changes from 1204 documents into a model of 3204 documents\n",
      "2022-02-25 14:46:00,857 : INFO : topic #77 (0.008): 0.001*\"implic\" + 0.001*\"favor\" + 0.001*\"adapt\" + 0.001*\"polygon\" + 0.001*\"stage\" + 0.001*\"situat\" + 0.001*\"respons\" + 0.001*\"industri\" + 0.001*\"regress\" + 0.001*\"drive\"\n",
      "2022-02-25 14:46:00,858 : INFO : topic #15 (0.010): 0.067*\"comput\" + 0.062*\"system\" + 0.051*\"-\" + 0.048*\"pictur\" + 0.046*\"program\" + 0.041*\"format\" + 0.034*\"autom\" + 0.032*\"descript\" + 0.026*\"label\" + 0.025*\"logic\"\n",
      "2022-02-25 14:46:00,859 : INFO : topic #86 (0.015): 0.230*\"problem\" + 0.072*\"program\" + 0.061*\",\" + 0.036*\"solut\" + 0.033*\"solv\" + 0.028*\"comput\" + 0.022*\"heurist\" + 0.021*\"-\" + 0.020*\"techniqu\" + 0.017*\"test\"\n",
      "2022-02-25 14:46:00,859 : INFO : topic #78 (0.015): 0.582*\"method\" + 0.045*\"reduct\" + 0.043*\"gener\" + 0.035*\"'\" + 0.027*\"matrix\" + 0.025*\"comput\" + 0.022*\"vector\" + 0.020*\"applic\" + 0.019*\"illustr\" + 0.016*\"evalu\"\n",
      "2022-02-25 14:46:00,860 : INFO : topic #17 (0.035): 0.339*\"(\" + 0.329*\")\" + 0.220*\"algorithm\" + 0.037*\"function\" + 0.016*\"interpol\" + 0.009*\"matrix\" + 0.007*\"-\" + 0.007*\"real\" + 0.006*\"bessel\" + 0.005*\"chebyshev\"\n",
      "2022-02-25 14:46:00,861 : INFO : topic diff=0.308316, rho=0.271143\n",
      "2022-02-25 14:46:00,868 : INFO : PROGRESS: pass 12, at document #2000/3204\n",
      "2022-02-25 14:46:01,566 : INFO : optimized alpha [0.011922751, 0.012361875, 0.01028861, 0.013270861, 0.011437511, 0.010671007, 0.011742667, 0.015715795, 0.010569791, 0.0130299805, 0.011099121, 0.011023302, 0.010836727, 0.011883854, 0.0126254475, 0.009928259, 0.011451807, 0.037173077, 0.012747588, 0.012219393, 0.01010844, 0.01159969, 0.011844951, 0.011778739, 0.0118627, 0.01182266, 0.012437868, 0.0109734405, 0.010651848, 0.0111313565, 0.011733036, 0.011333682, 0.011456713, 0.011581676, 0.013384003, 0.01199259, 0.012115668, 0.013272513, 0.011549911, 0.011093063, 0.01210655, 0.010622681, 0.011282276, 0.013621751, 0.010943129, 0.011806722, 0.0113724405, 0.010677483, 0.011820672, 0.014076335, 0.012175066, 0.0115504395, 0.012973236, 0.011848491, 0.0115132425, 0.012939867, 0.011158918, 0.011208035, 0.014876775, 0.012290395, 0.011584852, 0.011676837, 0.0129199885, 0.011731229, 0.011351316, 0.01140461, 0.011480561, 0.012543671, 0.01300267, 0.011060717, 0.01059102, 0.015000508, 0.013422094, 0.010951059, 0.011690593, 0.012166583, 0.012175264, 0.007516552, 0.015803948, 0.013226043, 0.010964177, 0.012850355, 0.010680871, 0.01291306, 0.012976638, 0.012056505, 0.015432619, 0.011415342, 0.011364645, 0.011320241, 0.010134236, 0.010923284, 0.014176334, 0.013329874, 0.01198322, 0.010259744, 0.01353688, 0.012586257, 0.010767571, 0.012335969]\n",
      "2022-02-25 14:46:01,571 : INFO : merging changes from 2000 documents into a model of 3204 documents\n",
      "2022-02-25 14:46:01,577 : INFO : topic #77 (0.008): 0.001*\"implic\" + 0.001*\"favor\" + 0.001*\"adapt\" + 0.001*\"polygon\" + 0.001*\"stage\" + 0.001*\"situat\" + 0.001*\"respons\" + 0.001*\"industri\" + 0.001*\"regress\" + 0.001*\"drive\"\n",
      "2022-02-25 14:46:01,578 : INFO : topic #15 (0.010): 0.068*\"comput\" + 0.061*\"system\" + 0.053*\"-\" + 0.049*\"program\" + 0.045*\"format\" + 0.040*\"pictur\" + 0.033*\"descript\" + 0.032*\"autom\" + 0.025*\",\" + 0.025*\"logic\"\n",
      "2022-02-25 14:46:01,579 : INFO : topic #7 (0.016): 0.198*\"[\" + 0.186*\"algorithm\" + 0.183*\"(\" + 0.177*\"])\" + 0.045*\"squar\" + 0.040*\"polynomi\" + 0.030*\"root\" + 0.025*\"function\" + 0.019*\"-\" + 0.015*\"e2\"\n",
      "2022-02-25 14:46:01,579 : INFO : topic #78 (0.016): 0.582*\"method\" + 0.043*\"reduct\" + 0.042*\"gener\" + 0.035*\"'\" + 0.027*\"matrix\" + 0.026*\"comput\" + 0.021*\"applic\" + 0.020*\"vector\" + 0.019*\"evalu\" + 0.017*\"illustr\"\n",
      "2022-02-25 14:46:01,580 : INFO : topic #17 (0.037): 0.337*\"(\" + 0.330*\")\" + 0.224*\"algorithm\" + 0.035*\"function\" + 0.015*\"interpol\" + 0.009*\"matrix\" + 0.008*\"-\" + 0.007*\"real\" + 0.007*\"bessel\" + 0.005*\"chebyshev\"\n",
      "2022-02-25 14:46:01,581 : INFO : topic diff=0.271837, rho=0.261694\n",
      "2022-02-25 14:46:02,370 : INFO : -6.461 per-word bound, 88.1 perplexity estimate based on a held-out corpus of 1204 documents with 49783 words\n",
      "2022-02-25 14:46:02,370 : INFO : PROGRESS: pass 12, at document #3204/3204\n",
      "2022-02-25 14:46:03,028 : INFO : optimized alpha [0.012036377, 0.012560752, 0.010363994, 0.013558126, 0.011571434, 0.010748496, 0.011877268, 0.015624292, 0.010647803, 0.013311044, 0.011224078, 0.011126217, 0.010950572, 0.011997972, 0.012772257, 0.00996693, 0.011555097, 0.038116783, 0.012817484, 0.012337167, 0.0101290895, 0.011751813, 0.012014466, 0.011919224, 0.011950794, 0.011954761, 0.012647883, 0.0110705085, 0.010737232, 0.01127303, 0.011847843, 0.011441128, 0.011636562, 0.0116317505, 0.013602697, 0.012093453, 0.012337023, 0.013536374, 0.01164439, 0.011221537, 0.012248984, 0.010700732, 0.011405009, 0.013768954, 0.011083666, 0.011883211, 0.01152263, 0.0107540265, 0.01202638, 0.01435744, 0.012345174, 0.011715045, 0.013188017, 0.012013631, 0.011639883, 0.013068272, 0.011201921, 0.011327843, 0.015089957, 0.012410227, 0.011696672, 0.011849923, 0.013215567, 0.011848575, 0.011460192, 0.0115236, 0.011633994, 0.012755647, 0.013185027, 0.011171127, 0.010704813, 0.015307931, 0.013546573, 0.011019141, 0.011763754, 0.01231299, 0.012317385, 0.0074645476, 0.016247844, 0.013415851, 0.0110883955, 0.013063406, 0.010754591, 0.013075241, 0.013164899, 0.012097349, 0.015894117, 0.011486713, 0.011443408, 0.011425865, 0.010201065, 0.011017816, 0.014435941, 0.013571038, 0.01212413, 0.010347629, 0.013878302, 0.012769952, 0.010863461, 0.012505575]\n",
      "2022-02-25 14:46:03,034 : INFO : merging changes from 1204 documents into a model of 3204 documents\n",
      "2022-02-25 14:46:03,040 : INFO : topic #77 (0.007): 0.001*\"implic\" + 0.001*\"favor\" + 0.001*\"adapt\" + 0.001*\"polygon\" + 0.001*\"stage\" + 0.001*\"situat\" + 0.001*\"respons\" + 0.001*\"industri\" + 0.001*\"regress\" + 0.001*\"drive\"\n",
      "2022-02-25 14:46:03,041 : INFO : topic #15 (0.010): 0.068*\"comput\" + 0.061*\"system\" + 0.054*\"-\" + 0.047*\"pictur\" + 0.046*\"program\" + 0.041*\"format\" + 0.037*\"autom\" + 0.032*\"descript\" + 0.027*\"logic\" + 0.025*\"label\"\n",
      "2022-02-25 14:46:03,042 : INFO : topic #86 (0.016): 0.232*\"problem\" + 0.072*\"program\" + 0.061*\",\" + 0.037*\"solut\" + 0.033*\"solv\" + 0.028*\"comput\" + 0.022*\"heurist\" + 0.021*\"-\" + 0.021*\"techniqu\" + 0.018*\"paper\"\n",
      "2022-02-25 14:46:03,042 : INFO : topic #78 (0.016): 0.597*\"method\" + 0.044*\"reduct\" + 0.042*\"gener\" + 0.031*\"'\" + 0.026*\"matrix\" + 0.025*\"comput\" + 0.021*\"vector\" + 0.021*\"applic\" + 0.019*\"illustr\" + 0.015*\"evalu\"\n",
      "2022-02-25 14:46:03,043 : INFO : topic #17 (0.038): 0.340*\"(\" + 0.331*\")\" + 0.221*\"algorithm\" + 0.037*\"function\" + 0.016*\"interpol\" + 0.008*\"matrix\" + 0.008*\"-\" + 0.006*\"real\" + 0.006*\"bessel\" + 0.005*\"chebyshev\"\n",
      "2022-02-25 14:46:03,044 : INFO : topic diff=0.277431, rho=0.261694\n",
      "2022-02-25 14:46:03,051 : INFO : PROGRESS: pass 13, at document #2000/3204\n",
      "2022-02-25 14:46:03,796 : INFO : optimized alpha [0.012106133, 0.012637415, 0.010360642, 0.013587147, 0.011555294, 0.010760581, 0.011894422, 0.016096508, 0.010645815, 0.0134162335, 0.011219443, 0.011116102, 0.0109740645, 0.012081125, 0.012793332, 0.010013984, 0.0115664415, 0.039895512, 0.012945966, 0.012470155, 0.010151724, 0.01176218, 0.01207718, 0.01191748, 0.0119614145, 0.011987768, 0.012665189, 0.0111205345, 0.010727818, 0.011317504, 0.011956462, 0.011476047, 0.0116718495, 0.011745354, 0.013655641, 0.012124559, 0.012328584, 0.013559789, 0.011742421, 0.011221841, 0.012309782, 0.010725518, 0.011406616, 0.013877868, 0.01110134, 0.01190569, 0.011527156, 0.010853638, 0.012026299, 0.014409063, 0.0123476535, 0.011727831, 0.013321234, 0.0120149385, 0.011660984, 0.013255101, 0.011293806, 0.011363085, 0.01535526, 0.012498435, 0.011691121, 0.011844114, 0.013238487, 0.011888434, 0.011498601, 0.011580914, 0.0117057655, 0.012749706, 0.01335994, 0.011143054, 0.010720957, 0.015430765, 0.013723189, 0.011073548, 0.011844382, 0.012355792, 0.012351293, 0.0074255257, 0.016574066, 0.013487516, 0.0110633625, 0.013120953, 0.010766065, 0.01312801, 0.013179597, 0.01223924, 0.016049711, 0.0115326755, 0.011520305, 0.011452252, 0.010224145, 0.0110370265, 0.014447939, 0.013655637, 0.012192084, 0.010342021, 0.014027683, 0.012729579, 0.010881648, 0.012534461]\n",
      "2022-02-25 14:46:03,801 : INFO : merging changes from 2000 documents into a model of 3204 documents\n",
      "2022-02-25 14:46:03,806 : INFO : topic #77 (0.007): 0.001*\"implic\" + 0.001*\"favor\" + 0.001*\"adapt\" + 0.001*\"polygon\" + 0.001*\"stage\" + 0.001*\"situat\" + 0.001*\"respons\" + 0.001*\"industri\" + 0.001*\"regress\" + 0.001*\"drive\"\n",
      "2022-02-25 14:46:03,807 : INFO : topic #15 (0.010): 0.068*\"comput\" + 0.060*\"system\" + 0.054*\"-\" + 0.049*\"program\" + 0.045*\"format\" + 0.039*\"pictur\" + 0.034*\"descript\" + 0.034*\"autom\" + 0.028*\"logic\" + 0.025*\"process\"\n",
      "2022-02-25 14:46:03,808 : INFO : topic #7 (0.016): 0.199*\"[\" + 0.187*\"algorithm\" + 0.184*\"(\" + 0.178*\"])\" + 0.044*\"squar\" + 0.040*\"polynomi\" + 0.030*\"root\" + 0.025*\"function\" + 0.019*\"-\" + 0.015*\"e2\"\n",
      "2022-02-25 14:46:03,808 : INFO : topic #78 (0.017): 0.598*\"method\" + 0.042*\"reduct\" + 0.041*\"gener\" + 0.031*\"'\" + 0.026*\"matrix\" + 0.025*\"comput\" + 0.021*\"applic\" + 0.020*\"vector\" + 0.019*\"evalu\" + 0.018*\"illustr\"\n",
      "2022-02-25 14:46:03,809 : INFO : topic #17 (0.040): 0.338*\"(\" + 0.331*\")\" + 0.224*\"algorithm\" + 0.036*\"function\" + 0.015*\"interpol\" + 0.008*\"matrix\" + 0.008*\"-\" + 0.007*\"bessel\" + 0.007*\"real\" + 0.005*\"chebyshev\"\n",
      "2022-02-25 14:46:03,810 : INFO : topic diff=0.246014, rho=0.253169\n",
      "2022-02-25 14:46:04,595 : INFO : -6.449 per-word bound, 87.3 perplexity estimate based on a held-out corpus of 1204 documents with 49783 words\n",
      "2022-02-25 14:46:04,596 : INFO : PROGRESS: pass 13, at document #3204/3204\n",
      "2022-02-25 14:46:05,240 : INFO : optimized alpha [0.01222456, 0.012832156, 0.010434096, 0.013874914, 0.011685899, 0.0108383605, 0.012025707, 0.01600208, 0.010721819, 0.013704218, 0.011350685, 0.011216392, 0.011089753, 0.01219475, 0.012942154, 0.010053759, 0.01166465, 0.040874507, 0.013008, 0.012587434, 0.010174169, 0.011910662, 0.01223786, 0.012056977, 0.012047229, 0.012114046, 0.012865369, 0.011219783, 0.010811044, 0.011462974, 0.012075725, 0.011575809, 0.011855241, 0.0117936535, 0.0138694495, 0.012225282, 0.012545216, 0.013818526, 0.011836744, 0.011354282, 0.012451314, 0.010799279, 0.011533498, 0.014015201, 0.011233968, 0.0119801415, 0.011678639, 0.01093262, 0.012232575, 0.0146878585, 0.012521559, 0.011891175, 0.013537633, 0.012176169, 0.011781994, 0.01337705, 0.011330616, 0.0114823, 0.015550388, 0.012615157, 0.011800128, 0.012025619, 0.0135317845, 0.0120104365, 0.011609512, 0.0116969105, 0.011853411, 0.012956894, 0.013535566, 0.011250728, 0.010834253, 0.015735794, 0.013838081, 0.011142063, 0.011920393, 0.012495906, 0.012487332, 0.007376783, 0.017029505, 0.013675709, 0.011184441, 0.01332946, 0.010835607, 0.013286256, 0.0133606, 0.012275715, 0.01652475, 0.011604474, 0.011591961, 0.011555212, 0.0102913715, 0.01112916, 0.01468659, 0.01389485, 0.012332171, 0.010429936, 0.014374508, 0.012911542, 0.010977404, 0.012710728]\n",
      "2022-02-25 14:46:05,245 : INFO : merging changes from 1204 documents into a model of 3204 documents\n",
      "2022-02-25 14:46:05,250 : INFO : topic #77 (0.007): 0.001*\"implic\" + 0.001*\"favor\" + 0.001*\"adapt\" + 0.001*\"polygon\" + 0.001*\"stage\" + 0.001*\"situat\" + 0.001*\"respons\" + 0.001*\"industri\" + 0.001*\"regress\" + 0.001*\"drive\"\n",
      "2022-02-25 14:46:05,251 : INFO : topic #15 (0.010): 0.068*\"comput\" + 0.060*\"system\" + 0.055*\"-\" + 0.047*\"program\" + 0.045*\"pictur\" + 0.041*\"format\" + 0.040*\"autom\" + 0.033*\"descript\" + 0.030*\"logic\" + 0.025*\"label\"\n",
      "2022-02-25 14:46:05,252 : INFO : topic #86 (0.017): 0.235*\"problem\" + 0.073*\"program\" + 0.062*\",\" + 0.037*\"solut\" + 0.033*\"solv\" + 0.029*\"comput\" + 0.022*\"heurist\" + 0.021*\"techniqu\" + 0.021*\"-\" + 0.018*\"paper\"\n",
      "2022-02-25 14:46:05,253 : INFO : topic #78 (0.017): 0.612*\"method\" + 0.044*\"reduct\" + 0.041*\"gener\" + 0.028*\"'\" + 0.025*\"matrix\" + 0.024*\"comput\" + 0.021*\"applic\" + 0.021*\"vector\" + 0.019*\"illustr\" + 0.015*\"evalu\"\n",
      "2022-02-25 14:46:05,254 : INFO : topic #17 (0.041): 0.342*\"(\" + 0.332*\")\" + 0.222*\"algorithm\" + 0.037*\"function\" + 0.016*\"interpol\" + 0.008*\"-\" + 0.008*\"matrix\" + 0.006*\"bessel\" + 0.006*\"real\" + 0.004*\"chebyshev\"\n",
      "2022-02-25 14:46:05,254 : INFO : topic diff=0.251579, rho=0.253169\n",
      "2022-02-25 14:46:05,263 : INFO : PROGRESS: pass 14, at document #2000/3204\n",
      "2022-02-25 14:46:05,934 : INFO : optimized alpha [0.0122971535, 0.012906807, 0.010432279, 0.013905322, 0.011670019, 0.01085156, 0.012043719, 0.016460922, 0.01071869, 0.013813488, 0.011348718, 0.01120793, 0.011112524, 0.012280525, 0.012951013, 0.01010605, 0.011675725, 0.042697854, 0.013138533, 0.01272572, 0.010197792, 0.011921875, 0.012301976, 0.012056522, 0.012062129, 0.012147562, 0.012884941, 0.011271388, 0.010802007, 0.011510369, 0.012180621, 0.011606967, 0.01189068, 0.01190778, 0.0139187155, 0.012254027, 0.012542342, 0.013843661, 0.01193264, 0.011357171, 0.012508962, 0.010827529, 0.011534858, 0.014119841, 0.011256495, 0.012002207, 0.011684159, 0.0110288765, 0.012236165, 0.014731711, 0.0125280935, 0.01189585, 0.013673152, 0.012175496, 0.011803859, 0.013577157, 0.011420533, 0.011519362, 0.015808383, 0.012709241, 0.011793255, 0.012020877, 0.013552715, 0.012050645, 0.011648324, 0.011755635, 0.011924934, 0.012951908, 0.013716195, 0.0112248985, 0.01085385, 0.015853235, 0.014013141, 0.011195214, 0.012002191, 0.012535849, 0.012532415, 0.007340173, 0.017374933, 0.013741925, 0.01115864, 0.013388343, 0.010848301, 0.013344119, 0.013376045, 0.012411664, 0.016684579, 0.011649375, 0.011664246, 0.011585181, 0.010312684, 0.0111478735, 0.014697267, 0.0139803495, 0.0123999305, 0.01042067, 0.014522863, 0.012871782, 0.010995137, 0.012747691]\n",
      "2022-02-25 14:46:05,939 : INFO : merging changes from 2000 documents into a model of 3204 documents\n",
      "2022-02-25 14:46:05,946 : INFO : topic #77 (0.007): 0.001*\"implic\" + 0.001*\"favor\" + 0.001*\"adapt\" + 0.001*\"polygon\" + 0.001*\"stage\" + 0.001*\"situat\" + 0.001*\"respons\" + 0.001*\"industri\" + 0.001*\"regress\" + 0.001*\"drive\"\n",
      "2022-02-25 14:46:05,946 : INFO : topic #15 (0.010): 0.069*\"comput\" + 0.058*\"system\" + 0.056*\"-\" + 0.050*\"program\" + 0.045*\"format\" + 0.038*\"pictur\" + 0.036*\"autom\" + 0.035*\"descript\" + 0.031*\"logic\" + 0.026*\"process\"\n",
      "2022-02-25 14:46:05,947 : INFO : topic #86 (0.017): 0.238*\"problem\" + 0.073*\"program\" + 0.061*\",\" + 0.039*\"solut\" + 0.034*\"solv\" + 0.030*\"comput\" + 0.021*\"techniqu\" + 0.021*\"-\" + 0.019*\"heurist\" + 0.018*\"paper\"\n",
      "2022-02-25 14:46:05,948 : INFO : topic #78 (0.017): 0.611*\"method\" + 0.042*\"reduct\" + 0.039*\"gener\" + 0.028*\"'\" + 0.025*\"matrix\" + 0.025*\"comput\" + 0.022*\"applic\" + 0.020*\"vector\" + 0.018*\"evalu\" + 0.017*\"illustr\"\n",
      "2022-02-25 14:46:05,949 : INFO : topic #17 (0.043): 0.340*\"(\" + 0.333*\")\" + 0.225*\"algorithm\" + 0.036*\"function\" + 0.015*\"interpol\" + 0.008*\"-\" + 0.007*\"matrix\" + 0.007*\"bessel\" + 0.006*\"real\" + 0.004*\"chebyshev\"\n",
      "2022-02-25 14:46:05,949 : INFO : topic diff=0.224597, rho=0.245426\n",
      "2022-02-25 14:46:06,717 : INFO : -6.441 per-word bound, 86.9 perplexity estimate based on a held-out corpus of 1204 documents with 49783 words\n",
      "2022-02-25 14:46:06,718 : INFO : PROGRESS: pass 14, at document #3204/3204\n",
      "2022-02-25 14:46:07,343 : INFO : optimized alpha [0.012412819, 0.013105637, 0.010508378, 0.014194024, 0.011800028, 0.010929738, 0.012169494, 0.016367313, 0.010788507, 0.014100356, 0.011474607, 0.01130587, 0.011223276, 0.012399046, 0.013101875, 0.010148993, 0.011771617, 0.043669038, 0.013195828, 0.012845319, 0.010222066, 0.012069508, 0.012454308, 0.012190414, 0.012140909, 0.012278385, 0.013086429, 0.01137515, 0.010883305, 0.0116574755, 0.012297078, 0.011706649, 0.012077912, 0.01195933, 0.014128212, 0.0123547735, 0.012759988, 0.014094972, 0.0120245395, 0.011489136, 0.01265765, 0.01090182, 0.011661241, 0.014256648, 0.011386264, 0.01207246, 0.011822757, 0.0111170625, 0.012438436, 0.015008655, 0.012708576, 0.012065545, 0.013902696, 0.012333195, 0.011929433, 0.013703949, 0.01146086, 0.011638165, 0.016008476, 0.012833732, 0.011899682, 0.012201017, 0.013841226, 0.012164839, 0.0117542185, 0.011871368, 0.01209895, 0.013157471, 0.013890984, 0.011332408, 0.010964613, 0.016146533, 0.014130442, 0.01127116, 0.0120811, 0.01267269, 0.01266795, 0.0072943475, 0.017849643, 0.013929008, 0.011281526, 0.013595436, 0.01091615, 0.013495953, 0.013547552, 0.012446671, 0.017156878, 0.011721777, 0.011734004, 0.01168812, 0.010378327, 0.011242405, 0.014924836, 0.014220925, 0.012547002, 0.010508687, 0.014878361, 0.013052313, 0.011090906, 0.012917706]\n",
      "2022-02-25 14:46:07,348 : INFO : merging changes from 1204 documents into a model of 3204 documents\n",
      "2022-02-25 14:46:07,354 : INFO : topic #77 (0.007): 0.001*\"implic\" + 0.001*\"favor\" + 0.001*\"adapt\" + 0.001*\"polygon\" + 0.001*\"stage\" + 0.001*\"situat\" + 0.001*\"respons\" + 0.001*\"industri\" + 0.001*\"regress\" + 0.001*\"drive\"\n",
      "2022-02-25 14:46:07,355 : INFO : topic #15 (0.010): 0.068*\"comput\" + 0.058*\"system\" + 0.057*\"-\" + 0.048*\"program\" + 0.042*\"pictur\" + 0.042*\"autom\" + 0.041*\"format\" + 0.035*\"logic\" + 0.034*\"descript\" + 0.024*\"applic\"\n",
      "2022-02-25 14:46:07,356 : INFO : topic #86 (0.017): 0.237*\"problem\" + 0.073*\"program\" + 0.062*\",\" + 0.038*\"solut\" + 0.033*\"solv\" + 0.030*\"comput\" + 0.022*\"heurist\" + 0.022*\"techniqu\" + 0.020*\"-\" + 0.019*\"paper\"\n",
      "2022-02-25 14:46:07,357 : INFO : topic #78 (0.018): 0.624*\"method\" + 0.043*\"reduct\" + 0.039*\"gener\" + 0.025*\"'\" + 0.024*\"comput\" + 0.024*\"matrix\" + 0.021*\"applic\" + 0.021*\"vector\" + 0.018*\"illustr\" + 0.015*\"evalu\"\n",
      "2022-02-25 14:46:07,357 : INFO : topic #17 (0.044): 0.344*\"(\" + 0.334*\")\" + 0.221*\"algorithm\" + 0.037*\"function\" + 0.016*\"interpol\" + 0.008*\"-\" + 0.007*\"matrix\" + 0.006*\"bessel\" + 0.005*\"real\" + 0.004*\"f2\"\n",
      "2022-02-25 14:46:07,359 : INFO : topic diff=0.229607, rho=0.245426\n",
      "2022-02-25 14:46:07,367 : INFO : PROGRESS: pass 15, at document #2000/3204\n",
      "2022-02-25 14:46:08,045 : INFO : optimized alpha [0.01249266, 0.013181525, 0.010507977, 0.014224131, 0.011790032, 0.010942719, 0.012183977, 0.016821055, 0.010788194, 0.01421206, 0.011471171, 0.011297588, 0.01124815, 0.012483039, 0.013111855, 0.010205112, 0.011781015, 0.045539256, 0.013320667, 0.0129843755, 0.010251502, 0.012083029, 0.012521327, 0.012189745, 0.012155601, 0.012306534, 0.013104949, 0.011421451, 0.010874654, 0.0117049655, 0.012408783, 0.011741259, 0.012112056, 0.012071286, 0.014179089, 0.012382809, 0.012754773, 0.014115126, 0.012119959, 0.011488996, 0.012716871, 0.010933406, 0.011663764, 0.014360699, 0.011408044, 0.012092728, 0.011825044, 0.011219436, 0.012442648, 0.015052165, 0.012718984, 0.012076933, 0.014044208, 0.01233514, 0.011947715, 0.013902885, 0.011551744, 0.011681186, 0.016268928, 0.012930602, 0.011897283, 0.012195842, 0.0138636315, 0.0122010885, 0.011790649, 0.011931586, 0.012171725, 0.013153387, 0.014064077, 0.011308627, 0.010987604, 0.016254954, 0.014304279, 0.01132726, 0.01215976, 0.012712945, 0.0127179595, 0.0072598853, 0.018195957, 0.01398833, 0.011256272, 0.01364924, 0.010928671, 0.013550653, 0.013560552, 0.012578572, 0.017327543, 0.011765701, 0.011808922, 0.0117173605, 0.010399217, 0.011260654, 0.014923491, 0.014304086, 0.012616112, 0.010504737, 0.015034758, 0.013013027, 0.011108215, 0.012950485]\n",
      "2022-02-25 14:46:08,050 : INFO : merging changes from 2000 documents into a model of 3204 documents\n",
      "2022-02-25 14:46:08,056 : INFO : topic #77 (0.007): 0.001*\"implic\" + 0.001*\"favor\" + 0.001*\"adapt\" + 0.001*\"polygon\" + 0.001*\"stage\" + 0.001*\"situat\" + 0.001*\"respons\" + 0.001*\"industri\" + 0.001*\"regress\" + 0.001*\"drive\"\n",
      "2022-02-25 14:46:08,057 : INFO : topic #15 (0.010): 0.069*\"comput\" + 0.058*\"-\" + 0.057*\"system\" + 0.050*\"program\" + 0.044*\"format\" + 0.037*\"autom\" + 0.036*\"logic\" + 0.036*\"descript\" + 0.035*\"pictur\" + 0.026*\"process\"\n",
      "2022-02-25 14:46:08,058 : INFO : topic #86 (0.017): 0.240*\"problem\" + 0.073*\"program\" + 0.061*\",\" + 0.039*\"solut\" + 0.034*\"solv\" + 0.031*\"comput\" + 0.021*\"techniqu\" + 0.020*\"-\" + 0.019*\"heurist\" + 0.018*\"paper\"\n",
      "2022-02-25 14:46:08,058 : INFO : topic #78 (0.018): 0.624*\"method\" + 0.041*\"reduct\" + 0.038*\"gener\" + 0.025*\"'\" + 0.024*\"comput\" + 0.024*\"matrix\" + 0.022*\"applic\" + 0.020*\"vector\" + 0.018*\"evalu\" + 0.017*\"illustr\"\n",
      "2022-02-25 14:46:08,059 : INFO : topic #17 (0.046): 0.343*\"(\" + 0.335*\")\" + 0.223*\"algorithm\" + 0.036*\"function\" + 0.015*\"interpol\" + 0.008*\"-\" + 0.007*\"matrix\" + 0.007*\"bessel\" + 0.005*\"real\" + 0.004*\"f2\"\n",
      "2022-02-25 14:46:08,060 : INFO : topic diff=0.206333, rho=0.238352\n",
      "2022-02-25 14:46:08,824 : INFO : -6.434 per-word bound, 86.4 perplexity estimate based on a held-out corpus of 1204 documents with 49783 words\n",
      "2022-02-25 14:46:08,824 : INFO : PROGRESS: pass 15, at document #3204/3204\n",
      "2022-02-25 14:46:09,424 : INFO : optimized alpha [0.012615666, 0.013376821, 0.0105865365, 0.01451128, 0.011919601, 0.011021369, 0.012304572, 0.016721454, 0.010856479, 0.014512019, 0.011598893, 0.011391135, 0.011367709, 0.01259645, 0.013262018, 0.010255138, 0.011877082, 0.04645057, 0.013370759, 0.013101185, 0.0102753695, 0.012227583, 0.012680696, 0.012328105, 0.012227723, 0.012436972, 0.013302718, 0.011522998, 0.010954157, 0.011851459, 0.012525144, 0.011836351, 0.012288761, 0.012118836, 0.014387394, 0.012478736, 0.012965986, 0.014370525, 0.012209559, 0.011611343, 0.012865092, 0.011008201, 0.011792079, 0.014494161, 0.011541905, 0.012161402, 0.011972443, 0.011305586, 0.01263873, 0.015315439, 0.012893374, 0.012238655, 0.014281526, 0.012489502, 0.012080145, 0.014026359, 0.01159319, 0.01180443, 0.016477244, 0.013057583, 0.012001422, 0.012374956, 0.014153325, 0.012320134, 0.011894132, 0.012044722, 0.012342865, 0.013347117, 0.014235474, 0.011413778, 0.011096014, 0.016530372, 0.014412697, 0.011394665, 0.012231879, 0.012846756, 0.012853168, 0.007216643, 0.018679768, 0.014177262, 0.011376544, 0.013846929, 0.0109949885, 0.013704738, 0.013728451, 0.012612137, 0.017821733, 0.01184106, 0.011879252, 0.011815743, 0.010465415, 0.011353101, 0.01514355, 0.014532097, 0.012757761, 0.010599338, 0.0153964665, 0.0131949745, 0.011199685, 0.013119693]\n",
      "2022-02-25 14:46:09,430 : INFO : merging changes from 1204 documents into a model of 3204 documents\n",
      "2022-02-25 14:46:09,436 : INFO : topic #77 (0.007): 0.001*\"implic\" + 0.001*\"favor\" + 0.001*\"adapt\" + 0.001*\"polygon\" + 0.001*\"stage\" + 0.001*\"situat\" + 0.001*\"respons\" + 0.001*\"industri\" + 0.001*\"regress\" + 0.001*\"drive\"\n",
      "2022-02-25 14:46:09,437 : INFO : topic #15 (0.010): 0.069*\"comput\" + 0.059*\"-\" + 0.057*\"system\" + 0.048*\"program\" + 0.042*\"autom\" + 0.041*\"format\" + 0.041*\"logic\" + 0.039*\"pictur\" + 0.035*\"descript\" + 0.024*\"applic\"\n",
      "2022-02-25 14:46:09,437 : INFO : topic #86 (0.018): 0.239*\"problem\" + 0.072*\"program\" + 0.063*\",\" + 0.039*\"solut\" + 0.034*\"solv\" + 0.030*\"comput\" + 0.022*\"heurist\" + 0.022*\"techniqu\" + 0.020*\"-\" + 0.019*\"paper\"\n",
      "2022-02-25 14:46:09,438 : INFO : topic #78 (0.019): 0.636*\"method\" + 0.043*\"reduct\" + 0.038*\"gener\" + 0.024*\"comput\" + 0.023*\"'\" + 0.022*\"matrix\" + 0.022*\"applic\" + 0.021*\"vector\" + 0.018*\"illustr\" + 0.015*\"evalu\"\n",
      "2022-02-25 14:46:09,439 : INFO : topic #17 (0.046): 0.346*\"(\" + 0.335*\")\" + 0.221*\"algorithm\" + 0.037*\"function\" + 0.016*\"interpol\" + 0.009*\"-\" + 0.007*\"matrix\" + 0.006*\"bessel\" + 0.005*\"real\" + 0.004*\"f2\"\n",
      "2022-02-25 14:46:09,439 : INFO : topic diff=0.210862, rho=0.238352\n",
      "2022-02-25 14:46:09,446 : INFO : PROGRESS: pass 16, at document #2000/3204\n",
      "2022-02-25 14:46:10,094 : INFO : optimized alpha [0.012689544, 0.013449337, 0.010585013, 0.014546157, 0.011911078, 0.011043229, 0.012318621, 0.017172407, 0.010857606, 0.014624663, 0.0115966415, 0.011383126, 0.011389162, 0.012675823, 0.013266813, 0.010314993, 0.011887664, 0.04834427, 0.013491759, 0.01323346, 0.010303124, 0.012241912, 0.012747674, 0.012327197, 0.012240813, 0.01247298, 0.013321778, 0.011570985, 0.010945823, 0.01190051, 0.012637789, 0.01186464, 0.012326049, 0.012228769, 0.014441579, 0.012506101, 0.012963034, 0.014389186, 0.01230462, 0.011616488, 0.012922906, 0.011037817, 0.011797108, 0.014594301, 0.011564303, 0.012181342, 0.011977131, 0.0114114545, 0.012643639, 0.0153534105, 0.012897029, 0.012249372, 0.014435647, 0.012492583, 0.012103536, 0.014226023, 0.011681059, 0.011851933, 0.016740471, 0.013160398, 0.011997675, 0.012369305, 0.014175528, 0.012359908, 0.011932459, 0.012109265, 0.01241409, 0.013337814, 0.01441292, 0.0113919275, 0.011117069, 0.016634004, 0.014583816, 0.011449618, 0.012307566, 0.012885907, 0.012901964, 0.0071841055, 0.019042162, 0.014239837, 0.011350456, 0.013897476, 0.011011158, 0.013764604, 0.013740719, 0.012740249, 0.017980466, 0.011886815, 0.011959697, 0.011847001, 0.010485929, 0.011370917, 0.0151413735, 0.014611403, 0.012820853, 0.010595485, 0.0155503275, 0.013156084, 0.011216607, 0.013158943]\n",
      "2022-02-25 14:46:10,099 : INFO : merging changes from 2000 documents into a model of 3204 documents\n",
      "2022-02-25 14:46:10,105 : INFO : topic #77 (0.007): 0.001*\"implic\" + 0.001*\"favor\" + 0.001*\"adapt\" + 0.001*\"polygon\" + 0.001*\"stage\" + 0.001*\"situat\" + 0.001*\"respons\" + 0.001*\"industri\" + 0.001*\"regress\" + 0.001*\"drive\"\n",
      "2022-02-25 14:46:10,106 : INFO : topic #20 (0.010): 0.205*\",\" + 0.048*\"comput\" + 0.028*\"system\" + 0.027*\"report\" + 0.022*\"result\" + 0.021*\"interfer\" + 0.021*\"paper\" + 0.016*\"interest\" + 0.016*\"present\" + 0.014*\"problem\"\n",
      "2022-02-25 14:46:10,107 : INFO : topic #86 (0.018): 0.243*\"problem\" + 0.072*\"program\" + 0.062*\",\" + 0.040*\"solut\" + 0.034*\"solv\" + 0.031*\"comput\" + 0.022*\"techniqu\" + 0.020*\"-\" + 0.020*\"heurist\" + 0.019*\"present\"\n",
      "2022-02-25 14:46:10,107 : INFO : topic #78 (0.019): 0.635*\"method\" + 0.041*\"reduct\" + 0.037*\"gener\" + 0.025*\"comput\" + 0.023*\"matrix\" + 0.023*\"'\" + 0.022*\"applic\" + 0.020*\"vector\" + 0.018*\"evalu\" + 0.017*\"illustr\"\n",
      "2022-02-25 14:46:10,108 : INFO : topic #17 (0.048): 0.344*\"(\" + 0.336*\")\" + 0.223*\"algorithm\" + 0.035*\"function\" + 0.015*\"interpol\" + 0.009*\"-\" + 0.007*\"bessel\" + 0.006*\"matrix\" + 0.005*\"real\" + 0.004*\"f2\"\n",
      "2022-02-25 14:46:10,109 : INFO : topic diff=0.189988, rho=0.231857\n",
      "2022-02-25 14:46:10,858 : INFO : -6.428 per-word bound, 86.1 perplexity estimate based on a held-out corpus of 1204 documents with 49783 words\n",
      "2022-02-25 14:46:10,858 : INFO : PROGRESS: pass 16, at document #3204/3204\n",
      "2022-02-25 14:46:11,446 : INFO : optimized alpha [0.012814912, 0.013641411, 0.01066201, 0.014832091, 0.012042764, 0.011118062, 0.012439148, 0.017060308, 0.01092451, 0.014921429, 0.01172181, 0.01147475, 0.011504178, 0.0127942115, 0.0134165585, 0.01036787, 0.01197713, 0.04921912, 0.013542923, 0.0133451475, 0.010334644, 0.012386025, 0.0128992405, 0.012458012, 0.0123185245, 0.012600809, 0.013523949, 0.011672621, 0.011023727, 0.012044387, 0.012751756, 0.011966983, 0.01250698, 0.012272519, 0.01464619, 0.012607239, 0.013170821, 0.01464056, 0.012394481, 0.01175446, 0.013063218, 0.0111196805, 0.011920594, 0.0147246495, 0.011697826, 0.012243839, 0.012128701, 0.011493512, 0.012846063, 0.015618544, 0.013073159, 0.012412951, 0.014675452, 0.012646457, 0.01223346, 0.0143491775, 0.011725838, 0.011977381, 0.016950838, 0.013277101, 0.012102007, 0.012554726, 0.014464138, 0.012471769, 0.012033745, 0.012222444, 0.012587369, 0.01353057, 0.014592566, 0.011497182, 0.0112341065, 0.016930511, 0.014697664, 0.01152218, 0.012378015, 0.013016963, 0.013039495, 0.007143197, 0.01952823, 0.014430866, 0.011466064, 0.014099803, 0.011073967, 0.01391017, 0.013902698, 0.012777381, 0.01846904, 0.0119628105, 0.012030677, 0.011943234, 0.010550754, 0.011463631, 0.015354287, 0.0148384515, 0.0129646715, 0.010684012, 0.015921576, 0.013324257, 0.011308397, 0.013325113]\n",
      "2022-02-25 14:46:11,452 : INFO : merging changes from 1204 documents into a model of 3204 documents\n",
      "2022-02-25 14:46:11,458 : INFO : topic #77 (0.007): 0.001*\"implic\" + 0.001*\"favor\" + 0.001*\"adapt\" + 0.001*\"polygon\" + 0.001*\"stage\" + 0.001*\"situat\" + 0.001*\"respons\" + 0.001*\"industri\" + 0.001*\"regress\" + 0.001*\"drive\"\n",
      "2022-02-25 14:46:11,459 : INFO : topic #15 (0.010): 0.069*\"comput\" + 0.060*\"-\" + 0.056*\"system\" + 0.048*\"program\" + 0.045*\"logic\" + 0.043*\"autom\" + 0.041*\"format\" + 0.038*\"pictur\" + 0.036*\"descript\" + 0.025*\"process\"\n",
      "2022-02-25 14:46:11,460 : INFO : topic #86 (0.018): 0.241*\"problem\" + 0.071*\"program\" + 0.063*\",\" + 0.039*\"solut\" + 0.034*\"solv\" + 0.030*\"comput\" + 0.022*\"heurist\" + 0.022*\"techniqu\" + 0.020*\"-\" + 0.020*\"paper\"\n",
      "2022-02-25 14:46:11,460 : INFO : topic #78 (0.020): 0.645*\"method\" + 0.043*\"reduct\" + 0.037*\"gener\" + 0.024*\"comput\" + 0.022*\"applic\" + 0.021*\"matrix\" + 0.021*\"'\" + 0.020*\"vector\" + 0.018*\"illustr\" + 0.015*\"evalu\"\n",
      "2022-02-25 14:46:11,461 : INFO : topic #17 (0.049): 0.348*\"(\" + 0.337*\")\" + 0.220*\"algorithm\" + 0.036*\"function\" + 0.016*\"interpol\" + 0.009*\"-\" + 0.006*\"bessel\" + 0.006*\"matrix\" + 0.004*\"real\" + 0.004*\"f2\"\n",
      "2022-02-25 14:46:11,462 : INFO : topic diff=0.194497, rho=0.231857\n",
      "2022-02-25 14:46:11,470 : INFO : PROGRESS: pass 17, at document #2000/3204\n",
      "2022-02-25 14:46:12,128 : INFO : optimized alpha [0.012894593, 0.013713811, 0.010658197, 0.014871772, 0.01203287, 0.011140732, 0.012451319, 0.017500944, 0.010924533, 0.015030047, 0.01172075, 0.011466987, 0.011529031, 0.0128793195, 0.013422481, 0.010430254, 0.0119874915, 0.051136736, 0.013663386, 0.013480049, 0.0103620505, 0.012401162, 0.012966275, 0.012456919, 0.012331457, 0.012634432, 0.013543468, 0.011718271, 0.0110157, 0.012096327, 0.012865553, 0.011998738, 0.0125432005, 0.012381942, 0.014698778, 0.012629672, 0.013167187, 0.014664516, 0.012490652, 0.011757886, 0.0131197, 0.011152551, 0.011929403, 0.0148228565, 0.011719561, 0.012262159, 0.012134318, 0.011604273, 0.012848704, 0.015656518, 0.013076201, 0.012427331, 0.014839123, 0.012650558, 0.012257569, 0.014546485, 0.011817556, 0.012025205, 0.017207557, 0.013382634, 0.012101074, 0.012549984, 0.014484589, 0.012514995, 0.012071242, 0.0122856945, 0.012664246, 0.0135223, 0.01476959, 0.01147452, 0.011254626, 0.01703329, 0.014864567, 0.011577429, 0.012452323, 0.0130551215, 0.01309007, 0.007112394, 0.01989626, 0.014493429, 0.011440489, 0.014150375, 0.011096156, 0.013965467, 0.013915912, 0.012910497, 0.018632645, 0.012010422, 0.012111017, 0.0119738225, 0.010570926, 0.011481037, 0.015349564, 0.014917369, 0.013029326, 0.010677802, 0.01607665, 0.013285841, 0.011326254, 0.013366241]\n",
      "2022-02-25 14:46:12,135 : INFO : merging changes from 2000 documents into a model of 3204 documents\n",
      "2022-02-25 14:46:12,140 : INFO : topic #77 (0.007): 0.001*\"implic\" + 0.001*\"favor\" + 0.001*\"adapt\" + 0.001*\"polygon\" + 0.001*\"stage\" + 0.001*\"situat\" + 0.001*\"respons\" + 0.001*\"industri\" + 0.001*\"regress\" + 0.001*\"drive\"\n",
      "2022-02-25 14:46:12,141 : INFO : topic #20 (0.010): 0.208*\",\" + 0.048*\"comput\" + 0.028*\"report\" + 0.028*\"system\" + 0.022*\"result\" + 0.021*\"paper\" + 0.021*\"interfer\" + 0.017*\"interest\" + 0.016*\"present\" + 0.014*\"process\"\n",
      "2022-02-25 14:46:12,142 : INFO : topic #86 (0.019): 0.245*\"problem\" + 0.071*\"program\" + 0.062*\",\" + 0.041*\"solut\" + 0.034*\"solv\" + 0.031*\"comput\" + 0.022*\"techniqu\" + 0.020*\"-\" + 0.020*\"heurist\" + 0.019*\"present\"\n",
      "2022-02-25 14:46:12,142 : INFO : topic #78 (0.020): 0.645*\"method\" + 0.041*\"reduct\" + 0.036*\"gener\" + 0.025*\"comput\" + 0.022*\"applic\" + 0.022*\"matrix\" + 0.020*\"'\" + 0.019*\"vector\" + 0.018*\"evalu\" + 0.017*\"illustr\"\n",
      "2022-02-25 14:46:12,143 : INFO : topic #17 (0.051): 0.346*\"(\" + 0.337*\")\" + 0.223*\"algorithm\" + 0.035*\"function\" + 0.015*\"interpol\" + 0.009*\"-\" + 0.007*\"bessel\" + 0.006*\"matrix\" + 0.004*\"real\" + 0.004*\"f2\"\n",
      "2022-02-25 14:46:12,144 : INFO : topic diff=0.175766, rho=0.225865\n",
      "2022-02-25 14:46:12,910 : INFO : -6.422 per-word bound, 85.7 perplexity estimate based on a held-out corpus of 1204 documents with 49783 words\n",
      "2022-02-25 14:46:12,910 : INFO : PROGRESS: pass 17, at document #3204/3204\n",
      "2022-02-25 14:46:13,540 : INFO : optimized alpha [0.013015113, 0.013902868, 0.010729691, 0.015154109, 0.01216656, 0.011216239, 0.0125695765, 0.017403452, 0.010990178, 0.01532935, 0.011841371, 0.011556848, 0.01164634, 0.012990548, 0.013567039, 0.010478064, 0.01208414, 0.051971477, 0.013713007, 0.013594446, 0.010391105, 0.0125426585, 0.013120199, 0.012590047, 0.012407695, 0.012762211, 0.013745037, 0.011822341, 0.011092143, 0.012244557, 0.012977192, 0.01210128, 0.0127260955, 0.012431388, 0.014897116, 0.012721655, 0.013369156, 0.014923329, 0.012580858, 0.011886737, 0.013267434, 0.011230705, 0.012052851, 0.01494765, 0.011853007, 0.0123304995, 0.012283226, 0.011693335, 0.013038318, 0.015911622, 0.013246885, 0.012581097, 0.0150734, 0.012808936, 0.012396725, 0.014669463, 0.011863466, 0.012152917, 0.017420283, 0.0135150235, 0.01220572, 0.012727644, 0.014777746, 0.012629448, 0.012170465, 0.0124013405, 0.01284467, 0.01370405, 0.014943246, 0.011582164, 0.011369596, 0.017322348, 0.014983938, 0.011646283, 0.012518868, 0.013183636, 0.013222578, 0.0070735994, 0.020410353, 0.014684026, 0.011553923, 0.014346601, 0.011166077, 0.014113558, 0.01407495, 0.012946313, 0.019126412, 0.01208263, 0.012182721, 0.012070513, 0.0106344875, 0.011576282, 0.015558636, 0.015138122, 0.01317558, 0.010768715, 0.016451912, 0.013448404, 0.011414155, 0.013529613]\n",
      "2022-02-25 14:46:13,545 : INFO : merging changes from 1204 documents into a model of 3204 documents\n",
      "2022-02-25 14:46:13,551 : INFO : topic #77 (0.007): 0.001*\"implic\" + 0.001*\"favor\" + 0.001*\"adapt\" + 0.001*\"polygon\" + 0.001*\"stage\" + 0.001*\"situat\" + 0.001*\"respons\" + 0.001*\"industri\" + 0.001*\"regress\" + 0.001*\"drive\"\n",
      "2022-02-25 14:46:13,552 : INFO : topic #20 (0.010): 0.208*\",\" + 0.047*\"comput\" + 0.029*\"system\" + 0.028*\"report\" + 0.027*\"interfer\" + 0.024*\"result\" + 0.021*\"paper\" + 0.015*\"present\" + 0.015*\"interest\" + 0.014*\"process\"\n",
      "2022-02-25 14:46:13,553 : INFO : topic #86 (0.019): 0.243*\"problem\" + 0.070*\"program\" + 0.063*\",\" + 0.040*\"solut\" + 0.034*\"solv\" + 0.031*\"comput\" + 0.022*\"heurist\" + 0.022*\"techniqu\" + 0.020*\"paper\" + 0.020*\"present\"\n",
      "2022-02-25 14:46:13,553 : INFO : topic #78 (0.020): 0.654*\"method\" + 0.042*\"reduct\" + 0.036*\"gener\" + 0.024*\"comput\" + 0.022*\"applic\" + 0.020*\"matrix\" + 0.020*\"vector\" + 0.018*\"'\" + 0.018*\"illustr\" + 0.015*\"evalu\"\n",
      "2022-02-25 14:46:13,554 : INFO : topic #17 (0.052): 0.350*\"(\" + 0.339*\")\" + 0.219*\"algorithm\" + 0.036*\"function\" + 0.016*\"interpol\" + 0.009*\"-\" + 0.006*\"bessel\" + 0.005*\"matrix\" + 0.004*\"f2\" + 0.004*\"real\"\n",
      "2022-02-25 14:46:13,555 : INFO : topic diff=0.179326, rho=0.225865\n",
      "2022-02-25 14:46:13,563 : INFO : PROGRESS: pass 18, at document #2000/3204\n",
      "2022-02-25 14:46:14,241 : INFO : optimized alpha [0.013100605, 0.0139721455, 0.010728466, 0.015190292, 0.012157958, 0.011238551, 0.012582747, 0.017842155, 0.010991562, 0.015437365, 0.011836245, 0.011551823, 0.011671834, 0.013075668, 0.013572563, 0.010539386, 0.012095614, 0.053870168, 0.013831525, 0.013722938, 0.010420477, 0.01255997, 0.013188855, 0.012588755, 0.012420495, 0.012795041, 0.013769751, 0.011869681, 0.011084414, 0.012298043, 0.013095037, 0.012128282, 0.0127639985, 0.012540482, 0.014948203, 0.012745096, 0.01336635, 0.014940828, 0.012674085, 0.011888598, 0.013324163, 0.011266754, 0.012062675, 0.015045682, 0.011877981, 0.012348544, 0.012289748, 0.011809115, 0.013040288, 0.015953204, 0.013252245, 0.012597698, 0.015255355, 0.012812544, 0.012418745, 0.014869475, 0.0119563, 0.01219976, 0.017678242, 0.013614498, 0.012207522, 0.012722459, 0.0147948405, 0.012673172, 0.012205811, 0.012466112, 0.012931615, 0.013696971, 0.0151232155, 0.011565137, 0.011389608, 0.017426273, 0.015150204, 0.011699265, 0.012594681, 0.013220853, 0.013273522, 0.0070443815, 0.020772766, 0.014746453, 0.011526263, 0.01439884, 0.011191623, 0.014170762, 0.014089097, 0.013085922, 0.019290766, 0.0121280495, 0.012264444, 0.012100494, 0.010654337, 0.011592062, 0.0155412955, 0.015213466, 0.013240291, 0.010763849, 0.016610002, 0.013407446, 0.011431661, 0.013571111]\n",
      "2022-02-25 14:46:14,246 : INFO : merging changes from 2000 documents into a model of 3204 documents\n",
      "2022-02-25 14:46:14,252 : INFO : topic #77 (0.007): 0.001*\"implic\" + 0.001*\"favor\" + 0.001*\"adapt\" + 0.001*\"polygon\" + 0.001*\"stage\" + 0.001*\"situat\" + 0.001*\"respons\" + 0.001*\"industri\" + 0.001*\"regress\" + 0.001*\"drive\"\n",
      "2022-02-25 14:46:14,253 : INFO : topic #20 (0.010): 0.211*\",\" + 0.048*\"comput\" + 0.030*\"report\" + 0.028*\"system\" + 0.023*\"result\" + 0.021*\"interfer\" + 0.021*\"paper\" + 0.017*\"interest\" + 0.016*\"present\" + 0.014*\"prepar\"\n",
      "2022-02-25 14:46:14,254 : INFO : topic #86 (0.019): 0.246*\"problem\" + 0.070*\"program\" + 0.063*\",\" + 0.041*\"solut\" + 0.034*\"solv\" + 0.032*\"comput\" + 0.022*\"techniqu\" + 0.020*\"present\" + 0.020*\"-\" + 0.020*\"heurist\"\n",
      "2022-02-25 14:46:14,255 : INFO : topic #78 (0.021): 0.655*\"method\" + 0.041*\"reduct\" + 0.035*\"gener\" + 0.024*\"comput\" + 0.023*\"applic\" + 0.020*\"matrix\" + 0.019*\"vector\" + 0.018*\"'\" + 0.018*\"evalu\" + 0.017*\"illustr\"\n",
      "2022-02-25 14:46:14,255 : INFO : topic #17 (0.054): 0.348*\"(\" + 0.339*\")\" + 0.221*\"algorithm\" + 0.035*\"function\" + 0.015*\"interpol\" + 0.009*\"-\" + 0.007*\"bessel\" + 0.004*\"matrix\" + 0.004*\"f2\" + 0.004*\"coeffici\"\n",
      "2022-02-25 14:46:14,256 : INFO : topic diff=0.162826, rho=0.220316\n",
      "2022-02-25 14:46:14,996 : INFO : -6.417 per-word bound, 85.4 perplexity estimate based on a held-out corpus of 1204 documents with 49783 words\n",
      "2022-02-25 14:46:14,997 : INFO : PROGRESS: pass 18, at document #3204/3204\n",
      "2022-02-25 14:46:15,583 : INFO : optimized alpha [0.013223697, 0.0141583495, 0.010802646, 0.015471904, 0.012289349, 0.011316836, 0.012698876, 0.017735519, 0.011058032, 0.015736597, 0.011956916, 0.011640047, 0.011789305, 0.013191948, 0.013729765, 0.010594089, 0.012192755, 0.054644115, 0.013879722, 0.0138350865, 0.010452935, 0.012701397, 0.0133379605, 0.012717207, 0.012495345, 0.012920561, 0.013965769, 0.011969667, 0.011159477, 0.012443974, 0.013204479, 0.012224546, 0.012946674, 0.012590962, 0.015146133, 0.012844667, 0.013565328, 0.015187944, 0.012762433, 0.012010824, 0.013476952, 0.011351816, 0.01218619, 0.015170684, 0.012011345, 0.012415637, 0.012438524, 0.011896428, 0.013229368, 0.016201701, 0.013420122, 0.012758299, 0.015492604, 0.012965928, 0.012557777, 0.014992418, 0.012003266, 0.012323117, 0.017883671, 0.013744582, 0.0123057645, 0.012901957, 0.015084501, 0.012783327, 0.012300942, 0.012579699, 0.0131168505, 0.013873183, 0.015293938, 0.011672921, 0.0115026375, 0.01771446, 0.015255758, 0.0117624365, 0.012664424, 0.013347008, 0.013403668, 0.0070075006, 0.021285588, 0.0149340425, 0.0116398195, 0.014594538, 0.01126023, 0.014318952, 0.014247949, 0.013122885, 0.019800574, 0.012201044, 0.0123323295, 0.012204373, 0.01071671, 0.011683428, 0.015744142, 0.015430959, 0.013386545, 0.010861159, 0.016977191, 0.013567137, 0.011517957, 0.013734337]\n",
      "2022-02-25 14:46:15,589 : INFO : merging changes from 1204 documents into a model of 3204 documents\n",
      "2022-02-25 14:46:15,595 : INFO : topic #77 (0.007): 0.001*\"implic\" + 0.001*\"favor\" + 0.001*\"adapt\" + 0.001*\"polygon\" + 0.001*\"stage\" + 0.001*\"situat\" + 0.001*\"respons\" + 0.001*\"industri\" + 0.001*\"regress\" + 0.001*\"drive\"\n",
      "2022-02-25 14:46:15,595 : INFO : topic #20 (0.010): 0.211*\",\" + 0.047*\"comput\" + 0.030*\"report\" + 0.028*\"system\" + 0.026*\"interfer\" + 0.024*\"result\" + 0.021*\"paper\" + 0.015*\"present\" + 0.015*\"interest\" + 0.014*\"markov\"\n",
      "2022-02-25 14:46:15,596 : INFO : topic #86 (0.020): 0.245*\"problem\" + 0.070*\"program\" + 0.063*\",\" + 0.041*\"solut\" + 0.034*\"solv\" + 0.031*\"comput\" + 0.023*\"heurist\" + 0.022*\"techniqu\" + 0.021*\"paper\" + 0.021*\"present\"\n",
      "2022-02-25 14:46:15,597 : INFO : topic #78 (0.021): 0.663*\"method\" + 0.042*\"reduct\" + 0.036*\"gener\" + 0.024*\"comput\" + 0.023*\"applic\" + 0.020*\"vector\" + 0.018*\"matrix\" + 0.018*\"illustr\" + 0.017*\"'\" + 0.015*\"evalu\"\n",
      "2022-02-25 14:46:15,598 : INFO : topic #17 (0.055): 0.351*\"(\" + 0.340*\")\" + 0.219*\"algorithm\" + 0.035*\"function\" + 0.016*\"interpol\" + 0.010*\"-\" + 0.006*\"bessel\" + 0.004*\"matrix\" + 0.004*\"f2\" + 0.003*\"chebyshev\"\n",
      "2022-02-25 14:46:15,599 : INFO : topic diff=0.165836, rho=0.220316\n",
      "2022-02-25 14:46:15,606 : INFO : PROGRESS: pass 19, at document #2000/3204\n",
      "2022-02-25 14:46:16,227 : INFO : optimized alpha [0.013316278, 0.014227707, 0.010802675, 0.015506283, 0.012280713, 0.011341134, 0.012711709, 0.018156966, 0.011060714, 0.015847381, 0.011951707, 0.011633917, 0.01181677, 0.0132842045, 0.013736369, 0.010656741, 0.012204001, 0.05654057, 0.013997861, 0.013967829, 0.010480778, 0.012716737, 0.0134112565, 0.012718497, 0.012508008, 0.012953987, 0.013987959, 0.012016118, 0.011152015, 0.012500404, 0.013329249, 0.012255025, 0.012984895, 0.012697091, 0.0151973665, 0.012870402, 0.013563345, 0.015205757, 0.012855585, 0.012013769, 0.013535448, 0.011388449, 0.012194306, 0.01526535, 0.012035667, 0.012437572, 0.012444544, 0.012010704, 0.013230677, 0.01624693, 0.013424964, 0.012778406, 0.01567297, 0.012973362, 0.012580506, 0.015180625, 0.012095978, 0.0123703405, 0.018146684, 0.013842502, 0.012307533, 0.012899054, 0.015101564, 0.012826272, 0.012336891, 0.012641992, 0.013202433, 0.013865705, 0.015470319, 0.0116587365, 0.011524647, 0.017815715, 0.015418144, 0.011819652, 0.012740407, 0.013384777, 0.013452129, 0.0069797137, 0.021644045, 0.014990319, 0.011613886, 0.014646924, 0.011284167, 0.014374904, 0.014258365, 0.013263437, 0.019954769, 0.012247005, 0.012410083, 0.01223369, 0.010737412, 0.011700149, 0.015726496, 0.015502812, 0.013451394, 0.010855141, 0.017134806, 0.0135252075, 0.011532595, 0.0137746865]\n",
      "2022-02-25 14:46:16,232 : INFO : merging changes from 2000 documents into a model of 3204 documents\n",
      "2022-02-25 14:46:16,238 : INFO : topic #77 (0.007): 0.001*\"implic\" + 0.001*\"favor\" + 0.001*\"adapt\" + 0.001*\"polygon\" + 0.001*\"stage\" + 0.001*\"situat\" + 0.001*\"respons\" + 0.001*\"industri\" + 0.001*\"regress\" + 0.001*\"drive\"\n",
      "2022-02-25 14:46:16,239 : INFO : topic #20 (0.010): 0.214*\",\" + 0.048*\"comput\" + 0.032*\"report\" + 0.027*\"system\" + 0.023*\"result\" + 0.021*\"interfer\" + 0.021*\"paper\" + 0.017*\"interest\" + 0.016*\"present\" + 0.014*\"prepar\"\n",
      "2022-02-25 14:46:16,240 : INFO : topic #86 (0.020): 0.248*\"problem\" + 0.070*\"program\" + 0.063*\",\" + 0.042*\"solut\" + 0.035*\"solv\" + 0.032*\"comput\" + 0.022*\"techniqu\" + 0.020*\"present\" + 0.020*\"heurist\" + 0.020*\"paper\"\n",
      "2022-02-25 14:46:16,241 : INFO : topic #78 (0.022): 0.664*\"method\" + 0.041*\"reduct\" + 0.035*\"gener\" + 0.025*\"comput\" + 0.023*\"applic\" + 0.019*\"vector\" + 0.018*\"matrix\" + 0.017*\"evalu\" + 0.017*\"illustr\" + 0.016*\"'\"\n",
      "2022-02-25 14:46:16,242 : INFO : topic #17 (0.057): 0.349*\"(\" + 0.340*\")\" + 0.222*\"algorithm\" + 0.035*\"function\" + 0.015*\"interpol\" + 0.010*\"-\" + 0.007*\"bessel\" + 0.004*\"f2\" + 0.004*\"coeffici\" + 0.004*\"chebyshev\"\n",
      "2022-02-25 14:46:16,242 : INFO : topic diff=0.151400, rho=0.215156\n",
      "2022-02-25 14:46:16,969 : INFO : -6.411 per-word bound, 85.1 perplexity estimate based on a held-out corpus of 1204 documents with 49783 words\n",
      "2022-02-25 14:46:16,970 : INFO : PROGRESS: pass 19, at document #3204/3204\n",
      "2022-02-25 14:46:17,536 : INFO : optimized alpha [0.013437234, 0.014408725, 0.010871689, 0.015795747, 0.012414457, 0.01141601, 0.012825884, 0.018042035, 0.011131981, 0.016149562, 0.012068212, 0.011720627, 0.011936658, 0.0133984685, 0.013881246, 0.010714177, 0.012297305, 0.057282116, 0.014042186, 0.014080315, 0.010514618, 0.012853633, 0.013570048, 0.012847173, 0.012576992, 0.013072761, 0.014186295, 0.012114373, 0.011225792, 0.012646435, 0.0134366695, 0.012351824, 0.013162845, 0.012748548, 0.015392284, 0.012963469, 0.013757118, 0.015449639, 0.012939864, 0.012138328, 0.013683433, 0.011476094, 0.012315794, 0.015390647, 0.012164822, 0.0125012435, 0.012595526, 0.012102881, 0.013414671, 0.016500957, 0.01358544, 0.012936738, 0.015921926, 0.013129036, 0.012719719, 0.015298213, 0.012139675, 0.012498317, 0.018348234, 0.013970458, 0.012399637, 0.013071327, 0.015390779, 0.012932197, 0.01242815, 0.012753632, 0.013390292, 0.014039127, 0.015641062, 0.0117647555, 0.0116400225, 0.018096898, 0.0155350035, 0.011885843, 0.012808748, 0.0135087455, 0.01357765, 0.0069445763, 0.022174256, 0.015177724, 0.011723416, 0.01484487, 0.011349539, 0.014523209, 0.01440952, 0.013301498, 0.020463005, 0.012316466, 0.012481094, 0.012344679, 0.01079869, 0.011789968, 0.015934534, 0.015722817, 0.01359293, 0.010948923, 0.017499821, 0.0136846835, 0.011615334, 0.013942895]\n",
      "2022-02-25 14:46:17,541 : INFO : merging changes from 1204 documents into a model of 3204 documents\n",
      "2022-02-25 14:46:17,547 : INFO : topic #77 (0.007): 0.001*\"implic\" + 0.001*\"favor\" + 0.001*\"adapt\" + 0.001*\"polygon\" + 0.001*\"stage\" + 0.001*\"situat\" + 0.001*\"respons\" + 0.001*\"industri\" + 0.001*\"regress\" + 0.001*\"drive\"\n",
      "2022-02-25 14:46:17,548 : INFO : topic #20 (0.011): 0.214*\",\" + 0.046*\"comput\" + 0.031*\"report\" + 0.028*\"system\" + 0.026*\"interfer\" + 0.024*\"result\" + 0.021*\"paper\" + 0.015*\"interest\" + 0.015*\"present\" + 0.014*\"markov\"\n",
      "2022-02-25 14:46:17,549 : INFO : topic #86 (0.020): 0.246*\"problem\" + 0.069*\"program\" + 0.064*\",\" + 0.041*\"solut\" + 0.034*\"solv\" + 0.031*\"comput\" + 0.023*\"heurist\" + 0.022*\"techniqu\" + 0.021*\"present\" + 0.021*\"paper\"\n",
      "2022-02-25 14:46:17,550 : INFO : topic #78 (0.022): 0.672*\"method\" + 0.042*\"reduct\" + 0.035*\"gener\" + 0.024*\"comput\" + 0.023*\"applic\" + 0.020*\"vector\" + 0.017*\"illustr\" + 0.016*\"matrix\" + 0.015*\"evalu\" + 0.015*\"'\"\n",
      "2022-02-25 14:46:17,550 : INFO : topic #17 (0.057): 0.352*\"(\" + 0.341*\")\" + 0.219*\"algorithm\" + 0.035*\"function\" + 0.015*\"interpol\" + 0.010*\"-\" + 0.006*\"bessel\" + 0.004*\"f2\" + 0.003*\"chebyshev\" + 0.003*\"coeffici\"\n",
      "2022-02-25 14:46:17,551 : INFO : topic diff=0.154236, rho=0.215156\n"
     ]
    },
    {
     "data": {
      "text/plain": [
       "[(0, 0.0056246445),\n",
       " (1, 0.0060312976),\n",
       " (2, 0.004550742),\n",
       " (3, 0.006611886),\n",
       " (4, 0.005196524),\n",
       " (5, 0.0047785873),\n",
       " (6, 0.0053687417),\n",
       " (7, 0.007552152),\n",
       " (8, 0.004659697),\n",
       " (9, 0.006759988),\n",
       " (10, 0.0050515905),\n",
       " (11, 0.004906096),\n",
       " (12, 0.0049965237),\n",
       " (13, 0.005608418),\n",
       " (14, 0.005810502),\n",
       " (15, 0.00448481),\n",
       " (16, 0.005147486),\n",
       " (17, 0.02397752),\n",
       " (18, 0.005877869),\n",
       " (19, 0.0058938297),\n",
       " (20, 0.42298234),\n",
       " (21, 0.005380357),\n",
       " (22, 0.005680239),\n",
       " (23, 0.005377653),\n",
       " (24, 0.005264559),\n",
       " (25, 0.0054720812),\n",
       " (26, 0.0059381914),\n",
       " (27, 0.0050709127),\n",
       " (28, 0.0046989648),\n",
       " (29, 0.005293627),\n",
       " (30, 0.0056244084),\n",
       " (31, 0.0051703067),\n",
       " (32, 0.005509789),\n",
       " (33, 0.00533637),\n",
       " (34, 0.0064430023),\n",
       " (35, 0.005426333),\n",
       " (36, 0.0057585435),\n",
       " (37, 0.0064670104),\n",
       " (38, 0.005416452),\n",
       " (39, 0.0050809397),\n",
       " (40, 0.0057277),\n",
       " (41, 0.0048037376),\n",
       " (42, 0.005155225),\n",
       " (43, 0.006442317),\n",
       " (44, 0.00509203),\n",
       " (45, 0.0052328515),\n",
       " (46, 0.0052723167),\n",
       " (47, 0.005066103),\n",
       " (48, 0.0056152),\n",
       " (49, 0.006907078),\n",
       " (50, 0.0056866817),\n",
       " (51, 0.005415144),\n",
       " (52, 0.006664703),\n",
       " (53, 0.005495637),\n",
       " (54, 0.0053243022),\n",
       " (55, 0.006403625),\n",
       " (56, 0.005081504),\n",
       " (57, 0.005231627),\n",
       " (58, 0.0076803225),\n",
       " (59, 0.0058478448),\n",
       " (60, 0.005190321),\n",
       " (61, 0.0054714805),\n",
       " (62, 0.006442372),\n",
       " (63, 0.005413243),\n",
       " (64, 0.0052022557),\n",
       " (65, 0.005338498),\n",
       " (66, 0.0056049954),\n",
       " (67, 0.005876589),\n",
       " (68, 0.006547137),\n",
       " (69, 0.004924568),\n",
       " (70, 0.004872356),\n",
       " (71, 0.007575117),\n",
       " (72, 0.0065027424),\n",
       " (73, 0.0049752533),\n",
       " (74, 0.0053615686),\n",
       " (75, 0.005654578),\n",
       " (76, 0.005683421),\n",
       " (77, 0.0029069057),\n",
       " (78, 0.009281844),\n",
       " (79, 0.00635319),\n",
       " (80, 0.0049072634),\n",
       " (81, 0.006213862),\n",
       " (82, 0.004750764),\n",
       " (83, 0.0060792193),\n",
       " (84, 0.00603163),\n",
       " (85, 0.0055678273),\n",
       " (86, 0.008565538),\n",
       " (87, 0.0051555065),\n",
       " (88, 0.0052244174),\n",
       " (89, 0.0051673157),\n",
       " (90, 0.0045201858),\n",
       " (91, 0.004935121),\n",
       " (92, 0.006669981),\n",
       " (93, 0.0065813586),\n",
       " (94, 0.0056898165),\n",
       " (95, 0.0045830715),\n",
       " (96, 0.0073251887),\n",
       " (97, 0.005728224),\n",
       " (98, 0.004862022),\n",
       " (99, 0.0058363075)]"
      ]
     },
     "execution_count": 85,
     "metadata": {},
     "output_type": "execute_result"
    }
   ],
   "source": [
    "##### Function check\n",
    "lda = LdaRetrievalModel(doc_repr_2)\n",
    "lda.train_model()\n",
    "\n",
    "# you can now get an LDA vector for a given query in the following way:\n",
    "lda.vectorize_query(\"report\")\n",
    "#####"
   ]
  },
  {
   "cell_type": "markdown",
   "metadata": {
    "cell_id": "00137-b82100c4-8bc6-4c0b-a37d-3f8eed7a4106",
    "deepnote_cell_height": 52.390625,
    "deepnote_cell_type": "markdown",
    "deletable": false,
    "editable": false,
    "nbgrader": {
     "cell_type": "markdown",
     "checksum": "32d83b6ea79ca3ddb789a7f8805a1b25",
     "grade": false,
     "grade_id": "cell-0e24b727d5908c0e",
     "locked": true,
     "points": 5,
     "schema_version": 3,
     "solution": false,
     "task": true
    }
   },
   "source": [
    "\\#### Please do not change this. This cell is used for grading."
   ]
  },
  {
   "cell_type": "markdown",
   "metadata": {
    "cell_id": "00138-9da9ac44-4973-497c-ae61-6ae44d57702c",
    "deepnote_cell_height": 98.1875,
    "deepnote_cell_type": "markdown",
    "deletable": false,
    "editable": false,
    "nbgrader": {
     "cell_type": "markdown",
     "checksum": "114a934f0b9ce696e6cf09d3b8da6a3d",
     "grade": false,
     "grade_id": "cell-b1bffcb970b18aeb",
     "locked": true,
     "schema_version": 3,
     "solution": false,
     "task": false
    }
   },
   "source": [
    "---\n",
    "Now we can use the `DenseRetrievalModel` class to obtain an LDA search function.\n",
    "You can test your LDA model in the following cell: Try finding queries which are lexically different to documents, but semantically similar - does LDA work well for these queries?!"
   ]
  },
  {
   "cell_type": "code",
   "execution_count": 86,
   "metadata": {
    "cell_id": "00139-74e10836-ea8e-40f0-99d4-f5422f0f88e6",
    "deepnote_cell_height": 303,
    "deepnote_cell_type": "code",
    "deepnote_to_be_reexecuted": false,
    "execution_millis": 4419,
    "execution_start": 1645186665847,
    "source_hash": "76222337"
   },
   "outputs": [
    {
     "data": {
      "application/vnd.jupyter.widget-view+json": {
       "model_id": "274f1e60d42f445990587f7bf6208c8f",
       "version_major": 2,
       "version_minor": 0
      },
      "text/plain": [
       "Text(value='', description='Search Bar')"
      ]
     },
     "metadata": {},
     "output_type": "display_data"
    }
   ],
   "source": [
    "drm_lda = DenseRetrievalRanker(lda, jenson_shannon_sim)\n",
    "\n",
    "# test your LDA model\n",
    "search_fn = drm_lda.search\n",
    "\n",
    "text = widgets.Text(description=\"Search Bar\", width=200)\n",
    "display(text)\n",
    "\n",
    "\n",
    "text.on_submit(handle_submit_2)"
   ]
  },
  {
   "cell_type": "markdown",
   "metadata": {
    "cell_id": "00140-3dcd44fb-190f-4b30-a761-4fbdb85b38fe",
    "deepnote_cell_height": 405.375,
    "deepnote_cell_type": "markdown",
    "deletable": false,
    "editable": false,
    "nbgrader": {
     "cell_type": "markdown",
     "checksum": "9d7f15863b655119b45f4d89354e5661",
     "grade": false,
     "grade_id": "cell-190cd0854b2791cc",
     "locked": true,
     "schema_version": 3,
     "solution": false,
     "task": false
    }
   },
   "source": [
    "## Section 8: Word2Vec/Doc2Vec (20 points) <a class=\"anchor\" id=\"2vec\"></a>\n",
    "\n",
    "[Back to Part 2](#part2)\n",
    "\n",
    "We will implement two other methods here, the Word2Vec model and the Doc2Vec model, also using `gensim`. Word2Vec creates representations of words, not documents, so the word level vectors need to be aggregated to obtain a representation for the document. Here, we will simply take the mean of the vectors.\n",
    "\n",
    "\n",
    "A drawback of these models is that they need a lot of training data. Our dataset is tiny, so in addition to using a model trained on the data, we will also use a pre-trained model for Word2Vec (this will be automatically downloaded).\n",
    "\n",
    "*Note*:\n",
    "1. The code in vectorize_documents / vectorize_query should return gensim-like vectors i.e `[(dim, val), .. (dim, val)]`.\n",
    "2. For Word2Vec: You should also handle the following two cases: (a) A word in the query is not present in the vocabulary of the model and (b) none of the words in the query are present in the model - you can return 0 scores for all documents in this case. For either of these, you can check if a `word` is present in the vocab by using `word in self.model`\n"
   ]
  },
  {
   "cell_type": "code",
   "execution_count": 87,
   "metadata": {
    "cell_id": "00141-4813dd67-6ab9-4a66-909c-c9ffb52e292c",
    "collapsed": true,
    "deepnote_cell_height": 1767.796875,
    "deepnote_cell_type": "code",
    "deepnote_output_heights": [
     null,
     611
    ],
    "deepnote_to_be_reexecuted": false,
    "deletable": false,
    "execution_millis": 5958,
    "execution_start": 1645186670275,
    "is_output_hidden": true,
    "jupyter": {
     "outputs_hidden": true
    },
    "nbgrader": {
     "cell_type": "code",
     "checksum": "83ab733608ed14c29c09b36b4e1b6daa",
     "grade": false,
     "grade_id": "cell-2b73759f9baf688f",
     "locked": false,
     "schema_version": 3,
     "solution": true,
     "task": false
    },
    "source_hash": "69fb62df",
    "tags": []
   },
   "outputs": [
    {
     "name": "stderr",
     "output_type": "stream",
     "text": [
      "2022-02-25 14:46:19,366 : INFO : adding document #0 to Dictionary(0 unique tokens: [])\n",
      "2022-02-25 14:46:19,483 : INFO : built Dictionary(5937 unique tokens: ['-', 'algebra', 'intern', 'languag', 'preliminari']...) from 3204 documents (total 115969 corpus positions)\n",
      "2022-02-25 14:46:19,489 : INFO : discarding 4740 tokens: [('repeat', 8), ('glossari', 7), ('inspect', 8), ('uncol', 2), ('rung', 9), ('secant', 2), ('.', 1603), ('acceler', 6), ('diverg', 3), ('induc', 9)]...\n",
      "2022-02-25 14:46:19,489 : INFO : keeping 1197 tokens which were in no less than 10 and no more than 1602 (=50.0%) documents\n",
      "2022-02-25 14:46:19,492 : INFO : resulting dictionary: Dictionary(1197 unique tokens: ['-', 'algebra', 'intern', 'languag', 'preliminari']...)\n",
      "2022-02-25 14:46:19,560 : INFO : collecting all words and their counts\n",
      "2022-02-25 14:46:19,561 : INFO : PROGRESS: at sentence #0, processed 0 words, keeping 0 word types\n",
      "2022-02-25 14:46:19,577 : INFO : collected 5937 word types from a corpus of 115969 raw words and 3204 sentences\n",
      "2022-02-25 14:46:19,578 : INFO : Loading a fresh vocabulary\n",
      "2022-02-25 14:46:19,586 : INFO : effective_min_count=1 retains 5937 unique words (100% of original 5937, drops 0)\n",
      "2022-02-25 14:46:19,587 : INFO : effective_min_count=1 leaves 115969 word corpus (100% of original 115969, drops 0)\n",
      "2022-02-25 14:46:19,601 : INFO : deleting the raw counts dictionary of 5937 items\n",
      "2022-02-25 14:46:19,601 : INFO : sample=0.001 downsamples 40 most-common words\n",
      "2022-02-25 14:46:19,602 : INFO : downsampling leaves estimated 92346 word corpus (79.6% of prior 115969)\n",
      "2022-02-25 14:46:19,614 : INFO : estimated required memory for 5937 words and 100 dimensions: 7718100 bytes\n",
      "2022-02-25 14:46:19,615 : INFO : resetting layer weights\n",
      "2022-02-25 14:46:20,549 : INFO : training model with 3 workers on 5937 vocabulary and 100 features, using sg=0 hs=0 sample=0.001 negative=5 window=5\n",
      "2022-02-25 14:46:20,602 : INFO : worker thread finished; awaiting finish of 2 more threads\n",
      "2022-02-25 14:46:20,604 : INFO : worker thread finished; awaiting finish of 1 more threads\n",
      "2022-02-25 14:46:20,606 : INFO : worker thread finished; awaiting finish of 0 more threads\n",
      "2022-02-25 14:46:20,607 : INFO : EPOCH - 1 : training on 115969 raw words (92241 effective words) took 0.0s, 1949173 effective words/s\n",
      "2022-02-25 14:46:20,657 : INFO : worker thread finished; awaiting finish of 2 more threads\n",
      "2022-02-25 14:46:20,662 : INFO : worker thread finished; awaiting finish of 1 more threads\n",
      "2022-02-25 14:46:20,663 : INFO : worker thread finished; awaiting finish of 0 more threads\n",
      "2022-02-25 14:46:20,664 : INFO : EPOCH - 2 : training on 115969 raw words (92242 effective words) took 0.0s, 1895109 effective words/s\n",
      "2022-02-25 14:46:20,710 : INFO : worker thread finished; awaiting finish of 2 more threads\n",
      "2022-02-25 14:46:20,714 : INFO : worker thread finished; awaiting finish of 1 more threads\n",
      "2022-02-25 14:46:20,716 : INFO : worker thread finished; awaiting finish of 0 more threads\n",
      "2022-02-25 14:46:20,717 : INFO : EPOCH - 3 : training on 115969 raw words (92356 effective words) took 0.0s, 1957295 effective words/s\n",
      "2022-02-25 14:46:20,764 : INFO : worker thread finished; awaiting finish of 2 more threads\n",
      "2022-02-25 14:46:20,768 : INFO : worker thread finished; awaiting finish of 1 more threads\n",
      "2022-02-25 14:46:20,770 : INFO : worker thread finished; awaiting finish of 0 more threads\n",
      "2022-02-25 14:46:20,770 : INFO : EPOCH - 4 : training on 115969 raw words (92198 effective words) took 0.0s, 1956304 effective words/s\n",
      "2022-02-25 14:46:20,816 : INFO : worker thread finished; awaiting finish of 2 more threads\n",
      "2022-02-25 14:46:20,821 : INFO : worker thread finished; awaiting finish of 1 more threads\n",
      "2022-02-25 14:46:20,822 : INFO : worker thread finished; awaiting finish of 0 more threads\n",
      "2022-02-25 14:46:20,823 : INFO : EPOCH - 5 : training on 115969 raw words (92336 effective words) took 0.0s, 1925156 effective words/s\n",
      "2022-02-25 14:46:20,824 : INFO : training on a 579845 raw words (461373 effective words) took 0.3s, 1682773 effective words/s\n"
     ]
    },
    {
     "data": {
      "text/plain": [
       "[(0, -0.699065625667572),\n",
       " (1, 0.0610676147043705),\n",
       " (2, 0.08278316259384155),\n",
       " (3, -0.7230174541473389),\n",
       " (4, -0.3043418228626251),\n",
       " (5, -0.253997802734375),\n",
       " (6, -0.09012751281261444),\n",
       " (7, 0.437306672334671),\n",
       " (8, -0.19662833213806152),\n",
       " (9, -0.19689656794071198),\n",
       " (10, -0.02618543989956379),\n",
       " (11, -0.2919824421405792),\n",
       " (12, 0.43702971935272217),\n",
       " (13, -0.4173314571380615),\n",
       " (14, -0.4167734980583191),\n",
       " (15, -0.8443769216537476),\n",
       " (16, -0.11867734044790268),\n",
       " (17, 0.08934473991394043),\n",
       " (18, -0.5022311210632324),\n",
       " (19, -0.27028369903564453),\n",
       " (20, -0.34456750750541687),\n",
       " (21, -0.563223123550415),\n",
       " (22, 0.5804855823516846),\n",
       " (23, 0.03659578040242195),\n",
       " (24, -0.480805903673172),\n",
       " (25, 1.2051619291305542),\n",
       " (26, 0.43317580223083496),\n",
       " (27, -0.1983174979686737),\n",
       " (28, -0.12748044729232788),\n",
       " (29, -0.18617220222949982),\n",
       " (30, -0.04382026568055153),\n",
       " (31, 0.40223273634910583),\n",
       " (32, -0.20213444530963898),\n",
       " (33, 0.3415542244911194),\n",
       " (34, 0.9396005272865295),\n",
       " (35, 0.7318869233131409),\n",
       " (36, -0.12176242470741272),\n",
       " (37, 0.7968319058418274),\n",
       " (38, 0.45099252462387085),\n",
       " (39, -0.3660256266593933),\n",
       " (40, -0.2062552124261856),\n",
       " (41, -0.5619736909866333),\n",
       " (42, -0.22477124631404877),\n",
       " (43, 0.2042965590953827),\n",
       " (44, -0.32682734727859497),\n",
       " (45, -0.1933017522096634),\n",
       " (46, -0.10008258372545242),\n",
       " (47, -0.4773682951927185),\n",
       " (48, 0.21500875055789948),\n",
       " (49, 0.5676324963569641),\n",
       " (50, 0.003202293301001191),\n",
       " (51, -1.2123262882232666),\n",
       " (52, 0.374747633934021),\n",
       " (53, -0.652289092540741),\n",
       " (54, -0.4444137215614319),\n",
       " (55, 0.21829695999622345),\n",
       " (56, 0.6256408095359802),\n",
       " (57, 0.11750435084104538),\n",
       " (58, -0.16524630784988403),\n",
       " (59, 0.15682412683963776),\n",
       " (60, -0.0997968465089798),\n",
       " (61, -0.17228329181671143),\n",
       " (62, -0.2812327742576599),\n",
       " (63, 0.017259782180190086),\n",
       " (64, -0.6495190858840942),\n",
       " (65, 0.06548823416233063),\n",
       " (66, 0.5684553384780884),\n",
       " (67, 0.19993546605110168),\n",
       " (68, 0.4020942449569702),\n",
       " (69, -0.3540564775466919),\n",
       " (70, -0.25015127658843994),\n",
       " (71, -0.3860098421573639),\n",
       " (72, -0.13761842250823975),\n",
       " (73, 0.17595915496349335),\n",
       " (74, 0.46443629264831543),\n",
       " (75, 0.5749220848083496),\n",
       " (76, 0.32266107201576233),\n",
       " (77, 0.45930030941963196),\n",
       " (78, -0.49714022874832153),\n",
       " (79, -0.34164491295814514),\n",
       " (80, -0.04529435187578201),\n",
       " (81, -0.3630508780479431),\n",
       " (82, -0.3736353814601898),\n",
       " (83, -0.39785581827163696),\n",
       " (84, 0.30883559584617615),\n",
       " (85, -0.2869810163974762),\n",
       " (86, -0.678828239440918),\n",
       " (87, 0.26804444193840027),\n",
       " (88, -0.49414706230163574),\n",
       " (89, -0.9823699593544006),\n",
       " (90, -0.5253386497497559),\n",
       " (91, -0.8259758949279785),\n",
       " (92, 0.053220734000205994),\n",
       " (93, 0.4662039875984192),\n",
       " (94, 0.09380143880844116),\n",
       " (95, 0.7529208660125732),\n",
       " (96, -0.11054292321205139),\n",
       " (97, 0.1120356023311615),\n",
       " (98, -0.44247129559516907),\n",
       " (99, 0.7783932089805603)]"
      ]
     },
     "execution_count": 87,
     "metadata": {},
     "output_type": "execute_result"
    }
   ],
   "source": [
    "# TODO: Implement this! (10 points)\n",
    "class W2VRetrievalModel(VectorSpaceRetrievalModel):\n",
    "    def __init__(self, doc_repr):\n",
    "        super().__init__(doc_repr)\n",
    "\n",
    "        # the dimensionality of the vectors\n",
    "        self.size = 100\n",
    "        self.min_count = 1\n",
    "\n",
    "    def train_model(self):\n",
    "        \"\"\"\n",
    "        Trains the W2V model\n",
    "        \"\"\"\n",
    "        # YOUR CODE HERE\n",
    "        self.model = Word2Vec(\n",
    "            sentences=self.documents, size=self.size, min_count=self.min_count\n",
    "        )\n",
    "\n",
    "    def vectorize_documents(self):\n",
    "        \"\"\"\n",
    "        Returns a doc_id -> vector dictionary\n",
    "        \"\"\"\n",
    "        # YOUR CODE HERE\n",
    "        vectors = {}\n",
    "        for (doc_id, doc) in self.doc_repr:\n",
    "            # initializations for this document\n",
    "            doc_vector = np.zeros(self.size)\n",
    "            n_words = 0\n",
    "            for word in doc:\n",
    "                n_words += 1\n",
    "                # check that current word in doc in our model (needed for pretrained)\n",
    "                try:\n",
    "                    word_vector = self.model.wv[word]\n",
    "                except KeyError:\n",
    "                    # don't count this word\n",
    "                    n_words -= 1\n",
    "                    continue\n",
    "                doc_vector += word_vector\n",
    "            if n_words > 0:\n",
    "                # aggregate by taking the mean over the found words\n",
    "                doc_vector = doc_vector / n_words\n",
    "            # convert to weird gensim format that is desired\n",
    "            doc_vector = [(i, el) for i, el in enumerate(doc_vector)]\n",
    "            # and save to our dictionary\n",
    "            vectors[doc_id] = doc_vector\n",
    "\n",
    "        return vectors\n",
    "\n",
    "    def vectorize_query(self, query):\n",
    "        \"\"\"\n",
    "        Vectorizes the query using the W2V model\n",
    "        \"\"\"\n",
    "        # YOUR CODE HERE\n",
    "        query = process_text(query, **config_2)\n",
    "        # initialize query vector\n",
    "        query_vec = np.zeros(self.size)\n",
    "        # handle valid queries (i.e. processing hasn't made it empty)\n",
    "        if len(query) > 0:\n",
    "            n_words = 0\n",
    "            for word in query:\n",
    "                n_words += 1\n",
    "                # check that current word in query in our vocab\n",
    "                try:\n",
    "                    word_vector = self.model.wv[word]\n",
    "                except KeyError:\n",
    "                    # don't count this word\n",
    "                    n_words -= 1\n",
    "                    continue\n",
    "                query_vec += word_vector\n",
    "            if n_words > 0:\n",
    "                # aggregate by taking the mean over the found words\n",
    "                query_vec = query_vec / n_words\n",
    "        # convert to weird gensim format that is desired\n",
    "        query_vec = [(i, el) for i, el in enumerate(query_vec)]\n",
    "        return query_vec\n",
    "\n",
    "\n",
    "class W2VPretrainedRetrievalModel(W2VRetrievalModel):\n",
    "    def __init__(self, doc_repr):\n",
    "        super().__init__(doc_repr)\n",
    "        self.model_name = \"word2vec-google-news-300\"\n",
    "        self.size = 300\n",
    "\n",
    "    def train_model(self):\n",
    "        \"\"\"\n",
    "        Loads the pretrained model\n",
    "        \"\"\"\n",
    "        self.model = g_downloader.load(self.model_name)\n",
    "\n",
    "\n",
    "w2v = W2VRetrievalModel(doc_repr_2)\n",
    "w2v.train_model()\n",
    "\n",
    "# you can now get a W2V vector for a given query in the following way:\n",
    "w2v.vectorize_query(\"report\")"
   ]
  },
  {
   "cell_type": "code",
   "execution_count": 88,
   "metadata": {
    "cell_id": "00142-4fd5a03c-b76f-4fd4-b70f-2670bd4416e5",
    "deepnote_cell_height": 117,
    "deepnote_cell_type": "code",
    "deepnote_to_be_reexecuted": false,
    "deletable": false,
    "editable": false,
    "execution_millis": 11300785,
    "execution_start": 1645186676074,
    "lines_to_next_cell": 2,
    "nbgrader": {
     "cell_type": "code",
     "checksum": "f92b5c5a8c6c4b80652b94223209ab0b",
     "grade": true,
     "grade_id": "cell-b31c0f8d214b8bdf",
     "locked": true,
     "points": 0,
     "schema_version": 3,
     "solution": false,
     "task": false
    },
    "source_hash": "3f3d7257"
   },
   "outputs": [],
   "source": [
    "assert len(w2v.vectorize_query(\"report\")) == 100\n",
    "assert len(w2v.vectorize_query(\"this is a sentence that is not mellifluous\")) == 100"
   ]
  },
  {
   "cell_type": "markdown",
   "metadata": {
    "cell_id": "00143-dca6cd62-6d5c-4c14-8cc4-7299f1f8390e",
    "deepnote_cell_height": 52.390625,
    "deepnote_cell_type": "markdown",
    "deletable": false,
    "editable": false,
    "nbgrader": {
     "cell_type": "markdown",
     "checksum": "8dfaabebcb06f308a7ca61fdc5d369e7",
     "grade": false,
     "grade_id": "cell-c2614fa067386384",
     "locked": true,
     "points": 8,
     "schema_version": 3,
     "solution": false,
     "task": true
    }
   },
   "source": [
    "\\#### Please do not change this. This cell is used for grading."
   ]
  },
  {
   "cell_type": "code",
   "execution_count": 89,
   "metadata": {
    "cell_id": "00144-7801f559-0e0a-405d-84bf-a02dd1269f5a",
    "collapsed": true,
    "deepnote_cell_height": 304.9375,
    "deepnote_cell_type": "code",
    "deepnote_output_heights": [
     null,
     40.375
    ],
    "deepnote_to_be_reexecuted": false,
    "execution_millis": 611,
    "execution_start": 1645186676087,
    "jupyter": {
     "outputs_hidden": true
    },
    "source_hash": "8ab4bf3a",
    "tags": []
   },
   "outputs": [
    {
     "name": "stderr",
     "output_type": "stream",
     "text": [
      "2022-02-25 14:46:20,882 : INFO : adding document #0 to Dictionary(0 unique tokens: [])\n",
      "2022-02-25 14:46:20,995 : INFO : built Dictionary(5937 unique tokens: ['-', 'algebra', 'intern', 'languag', 'preliminari']...) from 3204 documents (total 115969 corpus positions)\n",
      "2022-02-25 14:46:21,001 : INFO : discarding 4740 tokens: [('repeat', 8), ('glossari', 7), ('inspect', 8), ('uncol', 2), ('rung', 9), ('secant', 2), ('.', 1603), ('acceler', 6), ('diverg', 3), ('induc', 9)]...\n",
      "2022-02-25 14:46:21,002 : INFO : keeping 1197 tokens which were in no less than 10 and no more than 1602 (=50.0%) documents\n",
      "2022-02-25 14:46:21,005 : INFO : resulting dictionary: Dictionary(1197 unique tokens: ['-', 'algebra', 'intern', 'languag', 'preliminari']...)\n",
      "2022-02-25 14:46:21,135 : INFO : loading projection weights from /Users/velizarshulev/gensim-data/word2vec-google-news-300/word2vec-google-news-300.gz\n",
      "2022-02-25 14:46:59,909 : INFO : loaded (3000000, 300) matrix from /Users/velizarshulev/gensim-data/word2vec-google-news-300/word2vec-google-news-300.gz\n",
      "/Users/velizarshulev/opt/miniconda3/envs/ir1labs/lib/python3.6/site-packages/ipykernel_launcher.py:64: DeprecationWarning: Call to deprecated `wv` (Attribute will be removed in 4.0.0, use self instead).\n"
     ]
    },
    {
     "data": {
      "text/plain": [
       "[(0, -0.142578125),\n",
       " (1, -0.1640625),\n",
       " (2, -0.09033203125),\n",
       " (3, -0.1123046875),\n",
       " (4, 0.10009765625),\n",
       " (5, -0.041259765625),\n",
       " (6, 0.048828125),\n",
       " (7, -0.13671875),\n",
       " (8, 0.1962890625),\n",
       " (9, -0.134765625),\n",
       " (10, -0.017578125),\n",
       " (11, 0.0322265625),\n",
       " (12, 0.09521484375),\n",
       " (13, -0.10595703125),\n",
       " (14, -0.169921875),\n",
       " (15, 0.041015625),\n",
       " (16, -0.263671875),\n",
       " (17, -0.006317138671875),\n",
       " (18, -0.177734375),\n",
       " (19, -0.240234375),\n",
       " (20, 0.3515625),\n",
       " (21, -0.01220703125),\n",
       " (22, -0.162109375),\n",
       " (23, -0.12060546875),\n",
       " (24, 0.043212890625),\n",
       " (25, 0.10986328125),\n",
       " (26, 0.052490234375),\n",
       " (27, 0.1787109375),\n",
       " (28, -0.1455078125),\n",
       " (29, 0.1376953125),\n",
       " (30, -0.08203125),\n",
       " (31, -0.283203125),\n",
       " (32, -0.10888671875),\n",
       " (33, -0.2890625),\n",
       " (34, 0.072265625),\n",
       " (35, -0.04736328125),\n",
       " (36, 0.040283203125),\n",
       " (37, 0.06787109375),\n",
       " (38, 0.11669921875),\n",
       " (39, 0.00083160400390625),\n",
       " (40, 0.068359375),\n",
       " (41, 0.1201171875),\n",
       " (42, -0.08837890625),\n",
       " (43, 0.337890625),\n",
       " (44, -0.044677734375),\n",
       " (45, -0.0301513671875),\n",
       " (46, 0.0076904296875),\n",
       " (47, -0.0211181640625),\n",
       " (48, -0.25390625),\n",
       " (49, 0.1494140625),\n",
       " (50, 0.3984375),\n",
       " (51, 0.0216064453125),\n",
       " (52, -0.023193359375),\n",
       " (53, 0.00634765625),\n",
       " (54, 0.00823974609375),\n",
       " (55, -0.1689453125),\n",
       " (56, 0.037353515625),\n",
       " (57, -0.0634765625),\n",
       " (58, 0.1171875),\n",
       " (59, -0.1484375),\n",
       " (60, -0.07861328125),\n",
       " (61, 0.369140625),\n",
       " (62, -0.224609375),\n",
       " (63, 0.173828125),\n",
       " (64, 0.01385498046875),\n",
       " (65, 0.1875),\n",
       " (66, -0.10107421875),\n",
       " (67, 0.037841796875),\n",
       " (68, 0.0021209716796875),\n",
       " (69, -0.05126953125),\n",
       " (70, 0.09619140625),\n",
       " (71, -0.05712890625),\n",
       " (72, 0.10595703125),\n",
       " (73, -0.02099609375),\n",
       " (74, 0.1611328125),\n",
       " (75, 0.09765625),\n",
       " (76, 0.038330078125),\n",
       " (77, 0.2197265625),\n",
       " (78, 0.1064453125),\n",
       " (79, 0.0859375),\n",
       " (80, 0.1796875),\n",
       " (81, -0.0830078125),\n",
       " (82, -0.033203125),\n",
       " (83, 0.041015625),\n",
       " (84, -0.06494140625),\n",
       " (85, 0.0198974609375),\n",
       " (86, 0.1337890625),\n",
       " (87, -0.09765625),\n",
       " (88, -0.193359375),\n",
       " (89, -0.2353515625),\n",
       " (90, 0.1904296875),\n",
       " (91, 0.0024871826171875),\n",
       " (92, -0.0157470703125),\n",
       " (93, 0.0322265625),\n",
       " (94, -0.2197265625),\n",
       " (95, -0.09130859375),\n",
       " (96, 0.021240234375),\n",
       " (97, 0.158203125),\n",
       " (98, 0.298828125),\n",
       " (99, -0.328125),\n",
       " (100, 0.057373046875),\n",
       " (101, -0.04638671875),\n",
       " (102, 0.11328125),\n",
       " (103, -0.1015625),\n",
       " (104, 0.1806640625),\n",
       " (105, -0.025146484375),\n",
       " (106, -0.166015625),\n",
       " (107, -0.09619140625),\n",
       " (108, 0.018798828125),\n",
       " (109, -0.1943359375),\n",
       " (110, 0.1494140625),\n",
       " (111, -0.056640625),\n",
       " (112, -0.10693359375),\n",
       " (113, -0.150390625),\n",
       " (114, -0.17578125),\n",
       " (115, 0.11279296875),\n",
       " (116, 0.04931640625),\n",
       " (117, 0.2197265625),\n",
       " (118, 0.318359375),\n",
       " (119, 0.1572265625),\n",
       " (120, -0.29296875),\n",
       " (121, 0.10498046875),\n",
       " (122, -0.296875),\n",
       " (123, -0.013427734375),\n",
       " (124, 0.0908203125),\n",
       " (125, 0.0125732421875),\n",
       " (126, -0.051513671875),\n",
       " (127, -0.12890625),\n",
       " (128, 0.01446533203125),\n",
       " (129, 0.12060546875),\n",
       " (130, -0.10107421875),\n",
       " (131, -0.111328125),\n",
       " (132, 0.06396484375),\n",
       " (133, -0.052978515625),\n",
       " (134, -0.043212890625),\n",
       " (135, -0.012939453125),\n",
       " (136, -0.027587890625),\n",
       " (137, -0.09716796875),\n",
       " (138, -0.2021484375),\n",
       " (139, 0.123046875),\n",
       " (140, -0.04248046875),\n",
       " (141, 0.173828125),\n",
       " (142, -0.013671875),\n",
       " (143, 0.1015625),\n",
       " (144, -0.00093841552734375),\n",
       " (145, -0.03564453125),\n",
       " (146, 0.30078125),\n",
       " (147, -0.068359375),\n",
       " (148, -0.05615234375),\n",
       " (149, 0.03759765625),\n",
       " (150, 0.06591796875),\n",
       " (151, 0.040283203125),\n",
       " (152, 0.01190185546875),\n",
       " (153, 0.09619140625),\n",
       " (154, 0.3671875),\n",
       " (155, -0.279296875),\n",
       " (156, -0.052001953125),\n",
       " (157, -0.10693359375),\n",
       " (158, -0.134765625),\n",
       " (159, -0.046142578125),\n",
       " (160, 0.25),\n",
       " (161, 0.00567626953125),\n",
       " (162, -0.014404296875),\n",
       " (163, -0.031005859375),\n",
       " (164, -0.060302734375),\n",
       " (165, 0.10595703125),\n",
       " (166, 0.37890625),\n",
       " (167, 0.058837890625),\n",
       " (168, 0.123046875),\n",
       " (169, -0.115234375),\n",
       " (170, 0.1494140625),\n",
       " (171, -0.1640625),\n",
       " (172, -0.2333984375),\n",
       " (173, -0.07763671875),\n",
       " (174, 0.0267333984375),\n",
       " (175, -0.0211181640625),\n",
       " (176, 0.1943359375),\n",
       " (177, -0.05615234375),\n",
       " (178, -0.006439208984375),\n",
       " (179, -0.169921875),\n",
       " (180, -0.11865234375),\n",
       " (181, -0.0673828125),\n",
       " (182, -0.06884765625),\n",
       " (183, -0.0869140625),\n",
       " (184, -0.1015625),\n",
       " (185, 0.01416015625),\n",
       " (186, -0.201171875),\n",
       " (187, 0.09814453125),\n",
       " (188, -0.01025390625),\n",
       " (189, 0.1875),\n",
       " (190, 0.1962890625),\n",
       " (191, -0.220703125),\n",
       " (192, -0.1962890625),\n",
       " (193, -0.07373046875),\n",
       " (194, 0.06640625),\n",
       " (195, -0.1337890625),\n",
       " (196, 0.18359375),\n",
       " (197, -0.2001953125),\n",
       " (198, 0.1982421875),\n",
       " (199, 0.05029296875),\n",
       " (200, 0.0299072265625),\n",
       " (201, 0.0177001953125),\n",
       " (202, -0.193359375),\n",
       " (203, -0.09619140625),\n",
       " (204, -0.1025390625),\n",
       " (205, 0.212890625),\n",
       " (206, -0.0299072265625),\n",
       " (207, 0.1435546875),\n",
       " (208, 0.041015625),\n",
       " (209, -0.2119140625),\n",
       " (210, 0.2080078125),\n",
       " (211, 0.1376953125),\n",
       " (212, -0.0196533203125),\n",
       " (213, 0.01495361328125),\n",
       " (214, -0.09765625),\n",
       " (215, 0.2431640625),\n",
       " (216, 0.080078125),\n",
       " (217, 0.08251953125),\n",
       " (218, 0.0986328125),\n",
       " (219, 0.056884765625),\n",
       " (220, 0.04248046875),\n",
       " (221, 0.06884765625),\n",
       " (222, -0.035400390625),\n",
       " (223, -0.076171875),\n",
       " (224, -0.00016117095947265625),\n",
       " (225, -0.0751953125),\n",
       " (226, 0.224609375),\n",
       " (227, 0.1513671875),\n",
       " (228, 0.1005859375),\n",
       " (229, 0.10986328125),\n",
       " (230, 0.0238037109375),\n",
       " (231, 0.08837890625),\n",
       " (232, 0.061767578125),\n",
       " (233, -0.10791015625),\n",
       " (234, 0.062255859375),\n",
       " (235, 0.0034332275390625),\n",
       " (236, 0.08056640625),\n",
       " (237, 0.10693359375),\n",
       " (238, 0.0888671875),\n",
       " (239, -0.2373046875),\n",
       " (240, 0.06494140625),\n",
       " (241, 0.01019287109375),\n",
       " (242, -0.08837890625),\n",
       " (243, -0.33203125),\n",
       " (244, 0.004669189453125),\n",
       " (245, 0.212890625),\n",
       " (246, 0.0859375),\n",
       " (247, 0.0203857421875),\n",
       " (248, 0.045654296875),\n",
       " (249, 0.1484375),\n",
       " (250, 0.1181640625),\n",
       " (251, 0.0556640625),\n",
       " (252, -0.1728515625),\n",
       " (253, -0.125),\n",
       " (254, -0.025390625),\n",
       " (255, -0.318359375),\n",
       " (256, 0.0311279296875),\n",
       " (257, 0.0859375),\n",
       " (258, -0.0419921875),\n",
       " (259, 0.15625),\n",
       " (260, 0.1611328125),\n",
       " (261, 0.1982421875),\n",
       " (262, -0.10009765625),\n",
       " (263, 0.203125),\n",
       " (264, 0.12890625),\n",
       " (265, 0.2333984375),\n",
       " (266, -0.267578125),\n",
       " (267, 0.05517578125),\n",
       " (268, 0.048828125),\n",
       " (269, 0.072265625),\n",
       " (270, 0.244140625),\n",
       " (271, 0.244140625),\n",
       " (272, 0.056884765625),\n",
       " (273, -0.0546875),\n",
       " (274, -0.03369140625),\n",
       " (275, -0.12060546875),\n",
       " (276, 0.034912109375),\n",
       " (277, -0.1455078125),\n",
       " (278, 0.08740234375),\n",
       " (279, -0.0830078125),\n",
       " (280, 0.0172119140625),\n",
       " (281, 0.1435546875),\n",
       " (282, -0.12255859375),\n",
       " (283, 0.1796875),\n",
       " (284, 0.130859375),\n",
       " (285, -0.1650390625),\n",
       " (286, 0.01275634765625),\n",
       " (287, 0.16015625),\n",
       " (288, -0.0311279296875),\n",
       " (289, 0.08203125),\n",
       " (290, 0.173828125),\n",
       " (291, -0.16796875),\n",
       " (292, 0.130859375),\n",
       " (293, 0.08544921875),\n",
       " (294, -0.2109375),\n",
       " (295, -0.130859375),\n",
       " (296, -0.0289306640625),\n",
       " (297, -0.10546875),\n",
       " (298, 0.08447265625),\n",
       " (299, -0.1416015625)]"
      ]
     },
     "execution_count": 89,
     "metadata": {},
     "output_type": "execute_result"
    }
   ],
   "source": [
    "w2v_pretrained = W2VPretrainedRetrievalModel(doc_repr_2)\n",
    "w2v_pretrained.train_model()\n",
    "\n",
    "# you can now get an W2V vector for a given query in the following way:\n",
    "w2v_pretrained.vectorize_query(\"report\")"
   ]
  },
  {
   "cell_type": "code",
   "execution_count": 90,
   "metadata": {
    "cell_id": "00145-65d4934b-cf4d-414e-8525-dff2c72b8313",
    "deepnote_cell_height": 198.1875,
    "deepnote_cell_type": "code",
    "deepnote_to_be_reexecuted": false,
    "deletable": false,
    "editable": false,
    "execution_millis": 1303,
    "execution_start": 1645186676707,
    "nbgrader": {
     "cell_type": "code",
     "checksum": "0822845afb5eafe5ddb1ffeaa4f4942a",
     "grade": true,
     "grade_id": "cell-1b1466f8ce516f42",
     "locked": true,
     "points": 2,
     "schema_version": 3,
     "solution": false,
     "task": false
    },
    "source_hash": "d4727a64"
   },
   "outputs": [
    {
     "name": "stdout",
     "output_type": "stream",
     "text": [
      "300\n"
     ]
    },
    {
     "name": "stderr",
     "output_type": "stream",
     "text": [
      "/Users/velizarshulev/opt/miniconda3/envs/ir1labs/lib/python3.6/site-packages/ipykernel_launcher.py:64: DeprecationWarning: Call to deprecated `wv` (Attribute will be removed in 4.0.0, use self instead).\n"
     ]
    }
   ],
   "source": [
    "##### Function check\n",
    "\n",
    "print(len(w2v_pretrained.vectorize_query(\"report\")))\n",
    "#####"
   ]
  },
  {
   "cell_type": "code",
   "execution_count": 91,
   "metadata": {
    "cell_id": "00146-c209a2da-8745-4211-89bc-c716df8bb9ce",
    "deepnote_cell_height": 303,
    "deepnote_cell_type": "code",
    "deepnote_to_be_reexecuted": false,
    "execution_millis": 1086,
    "execution_start": 1645187351976,
    "source_hash": "8865e3e5"
   },
   "outputs": [
    {
     "data": {
      "application/vnd.jupyter.widget-view+json": {
       "model_id": "55df32da871b46188a578808f9e653f1",
       "version_major": 2,
       "version_minor": 0
      },
      "text/plain": [
       "Text(value='', description='Search Bar')"
      ]
     },
     "metadata": {},
     "output_type": "display_data"
    }
   ],
   "source": [
    "drm_w2v = DenseRetrievalRanker(w2v, cosine_sim)\n",
    "\n",
    "# test your LDA model\n",
    "search_fn = drm_w2v.search\n",
    "\n",
    "text = widgets.Text(description=\"Search Bar\", width=200)\n",
    "display(text)\n",
    "\n",
    "\n",
    "text.on_submit(handle_submit_2)"
   ]
  },
  {
   "cell_type": "code",
   "execution_count": 92,
   "metadata": {
    "cell_id": "00147-e85d21fc-9447-411a-8131-fda7837fdf00",
    "deepnote_cell_height": 306.1875,
    "deepnote_cell_type": "code",
    "deepnote_to_be_reexecuted": false,
    "execution_millis": 174,
    "execution_start": 1645187355913,
    "source_hash": "8fd1ee96"
   },
   "outputs": [
    {
     "name": "stderr",
     "output_type": "stream",
     "text": [
      "/Users/velizarshulev/opt/miniconda3/envs/ir1labs/lib/python3.6/site-packages/ipykernel_launcher.py:33: DeprecationWarning: Call to deprecated `wv` (Attribute will be removed in 4.0.0, use self instead).\n"
     ]
    },
    {
     "data": {
      "application/vnd.jupyter.widget-view+json": {
       "model_id": "6bf94f8f43e74af6b6781a19b805331b",
       "version_major": 2,
       "version_minor": 0
      },
      "text/plain": [
       "Text(value='', description='Search Bar')"
      ]
     },
     "metadata": {},
     "output_type": "display_data"
    }
   ],
   "source": [
    "drm_w2v_pretrained = DenseRetrievalRanker(w2v_pretrained, cosine_sim)\n",
    "\n",
    "# test your LDA model\n",
    "search_fn = drm_w2v_pretrained.search\n",
    "\n",
    "text = widgets.Text(description=\"Search Bar\", width=200)\n",
    "display(text)\n",
    "\n",
    "\n",
    "text.on_submit(handle_submit_2)"
   ]
  },
  {
   "cell_type": "markdown",
   "metadata": {
    "cell_id": "00148-18690d99-32f6-4368-8791-fa8a660313c5",
    "deepnote_cell_height": 91,
    "deepnote_cell_type": "markdown",
    "deletable": false,
    "editable": false,
    "nbgrader": {
     "cell_type": "markdown",
     "checksum": "51b778984fd60757974f51047c61eb15",
     "grade": false,
     "grade_id": "cell-b92f701cbc706108",
     "locked": true,
     "schema_version": 3,
     "solution": false,
     "task": false
    }
   },
   "source": [
    "**Implementation (10 points):**\n",
    "For Doc2Vec, you will need to create a list of `TaggedDocument` instead of using the `self.corpus` or `self.documents` variable. Use the document id as the 'tag'.\n"
   ]
  },
  {
   "cell_type": "code",
   "execution_count": 93,
   "metadata": {
    "cell_id": "00149-f7ea4b9a-161d-4405-9440-ab008f8bc0ac",
    "deepnote_cell_height": 2261,
    "deepnote_cell_type": "code",
    "deepnote_output_heights": [
     null,
     611
    ],
    "deepnote_to_be_reexecuted": false,
    "deletable": false,
    "execution_millis": 33704,
    "execution_start": 1645187360265,
    "nbgrader": {
     "cell_type": "code",
     "checksum": "1f60fdeb97febb7f4a6fd5bf109aac20",
     "grade": false,
     "grade_id": "cell-680facdcc98a19ab",
     "locked": false,
     "schema_version": 3,
     "solution": true,
     "task": false
    },
    "source_hash": "ad328353",
    "tags": []
   },
   "outputs": [
    {
     "name": "stderr",
     "output_type": "stream",
     "text": [
      "2022-02-25 14:47:01,538 : INFO : adding document #0 to Dictionary(0 unique tokens: [])\n",
      "2022-02-25 14:47:01,760 : INFO : built Dictionary(5937 unique tokens: ['-', 'algebra', 'intern', 'languag', 'preliminari']...) from 3204 documents (total 115969 corpus positions)\n",
      "2022-02-25 14:47:01,766 : INFO : discarding 4740 tokens: [('repeat', 8), ('glossari', 7), ('inspect', 8), ('uncol', 2), ('rung', 9), ('secant', 2), ('.', 1603), ('acceler', 6), ('diverg', 3), ('induc', 9)]...\n",
      "2022-02-25 14:47:01,767 : INFO : keeping 1197 tokens which were in no less than 10 and no more than 1602 (=50.0%) documents\n",
      "2022-02-25 14:47:01,772 : INFO : resulting dictionary: Dictionary(1197 unique tokens: ['-', 'algebra', 'intern', 'languag', 'preliminari']...)\n",
      "2022-02-25 14:47:01,839 : INFO : collecting all words and their counts\n",
      "2022-02-25 14:47:01,840 : INFO : PROGRESS: at example #0, processed 0 words (0/s), 0 word types, 0 tags\n",
      "2022-02-25 14:47:01,863 : INFO : collected 5937 word types and 3204 unique tags from a corpus of 3204 examples and 115969 words\n",
      "2022-02-25 14:47:01,863 : INFO : Loading a fresh vocabulary\n",
      "2022-02-25 14:47:01,874 : INFO : effective_min_count=1 retains 5937 unique words (100% of original 5937, drops 0)\n",
      "2022-02-25 14:47:01,874 : INFO : effective_min_count=1 leaves 115969 word corpus (100% of original 115969, drops 0)\n",
      "2022-02-25 14:47:01,890 : INFO : deleting the raw counts dictionary of 5937 items\n",
      "2022-02-25 14:47:01,891 : INFO : sample=0.001 downsamples 40 most-common words\n",
      "2022-02-25 14:47:01,891 : INFO : downsampling leaves estimated 92346 word corpus (79.6% of prior 115969)\n",
      "2022-02-25 14:47:01,902 : INFO : estimated required memory for 5937 words and 100 dimensions: 9640500 bytes\n",
      "2022-02-25 14:47:01,903 : INFO : resetting layer weights\n",
      "2022-02-25 14:47:03,310 : INFO : training model with 3 workers on 5937 vocabulary and 100 features, using sg=0 hs=0 sample=0.001 negative=5 window=5\n",
      "2022-02-25 14:47:03,515 : INFO : worker thread finished; awaiting finish of 2 more threads\n",
      "2022-02-25 14:47:03,525 : INFO : worker thread finished; awaiting finish of 1 more threads\n",
      "2022-02-25 14:47:03,529 : INFO : worker thread finished; awaiting finish of 0 more threads\n",
      "2022-02-25 14:47:03,530 : INFO : EPOCH - 1 : training on 115969 raw words (95600 effective words) took 0.2s, 448142 effective words/s\n",
      "2022-02-25 14:47:03,733 : INFO : worker thread finished; awaiting finish of 2 more threads\n",
      "2022-02-25 14:47:03,738 : INFO : worker thread finished; awaiting finish of 1 more threads\n",
      "2022-02-25 14:47:03,742 : INFO : worker thread finished; awaiting finish of 0 more threads\n",
      "2022-02-25 14:47:03,743 : INFO : EPOCH - 2 : training on 115969 raw words (95379 effective words) took 0.2s, 456163 effective words/s\n",
      "2022-02-25 14:47:03,947 : INFO : worker thread finished; awaiting finish of 2 more threads\n",
      "2022-02-25 14:47:03,949 : INFO : worker thread finished; awaiting finish of 1 more threads\n",
      "2022-02-25 14:47:03,955 : INFO : worker thread finished; awaiting finish of 0 more threads\n",
      "2022-02-25 14:47:03,956 : INFO : EPOCH - 3 : training on 115969 raw words (95600 effective words) took 0.2s, 457292 effective words/s\n",
      "2022-02-25 14:47:04,154 : INFO : worker thread finished; awaiting finish of 2 more threads\n",
      "2022-02-25 14:47:04,160 : INFO : worker thread finished; awaiting finish of 1 more threads\n",
      "2022-02-25 14:47:04,166 : INFO : worker thread finished; awaiting finish of 0 more threads\n",
      "2022-02-25 14:47:04,167 : INFO : EPOCH - 4 : training on 115969 raw words (95552 effective words) took 0.2s, 461253 effective words/s\n",
      "2022-02-25 14:47:04,372 : INFO : worker thread finished; awaiting finish of 2 more threads\n",
      "2022-02-25 14:47:04,376 : INFO : worker thread finished; awaiting finish of 1 more threads\n",
      "2022-02-25 14:47:04,383 : INFO : worker thread finished; awaiting finish of 0 more threads\n",
      "2022-02-25 14:47:04,384 : INFO : EPOCH - 5 : training on 115969 raw words (95528 effective words) took 0.2s, 457390 effective words/s\n",
      "2022-02-25 14:47:04,592 : INFO : worker thread finished; awaiting finish of 2 more threads\n",
      "2022-02-25 14:47:04,595 : INFO : worker thread finished; awaiting finish of 1 more threads\n",
      "2022-02-25 14:47:04,599 : INFO : worker thread finished; awaiting finish of 0 more threads\n",
      "2022-02-25 14:47:04,599 : INFO : EPOCH - 6 : training on 115969 raw words (95566 effective words) took 0.2s, 456129 effective words/s\n",
      "2022-02-25 14:47:04,798 : INFO : worker thread finished; awaiting finish of 2 more threads\n",
      "2022-02-25 14:47:04,805 : INFO : worker thread finished; awaiting finish of 1 more threads\n",
      "2022-02-25 14:47:04,808 : INFO : worker thread finished; awaiting finish of 0 more threads\n",
      "2022-02-25 14:47:04,809 : INFO : EPOCH - 7 : training on 115969 raw words (95497 effective words) took 0.2s, 465673 effective words/s\n",
      "2022-02-25 14:47:05,013 : INFO : worker thread finished; awaiting finish of 2 more threads\n",
      "2022-02-25 14:47:05,019 : INFO : worker thread finished; awaiting finish of 1 more threads\n",
      "2022-02-25 14:47:05,025 : INFO : worker thread finished; awaiting finish of 0 more threads\n",
      "2022-02-25 14:47:05,026 : INFO : EPOCH - 8 : training on 115969 raw words (95566 effective words) took 0.2s, 448650 effective words/s\n",
      "2022-02-25 14:47:05,230 : INFO : worker thread finished; awaiting finish of 2 more threads\n",
      "2022-02-25 14:47:05,232 : INFO : worker thread finished; awaiting finish of 1 more threads\n",
      "2022-02-25 14:47:05,240 : INFO : worker thread finished; awaiting finish of 0 more threads\n",
      "2022-02-25 14:47:05,241 : INFO : EPOCH - 9 : training on 115969 raw words (95599 effective words) took 0.2s, 452582 effective words/s\n",
      "2022-02-25 14:47:05,433 : INFO : worker thread finished; awaiting finish of 2 more threads\n",
      "2022-02-25 14:47:05,446 : INFO : worker thread finished; awaiting finish of 1 more threads\n",
      "2022-02-25 14:47:05,450 : INFO : worker thread finished; awaiting finish of 0 more threads\n",
      "2022-02-25 14:47:05,450 : INFO : EPOCH - 10 : training on 115969 raw words (95449 effective words) took 0.2s, 464757 effective words/s\n",
      "2022-02-25 14:47:05,650 : INFO : worker thread finished; awaiting finish of 2 more threads\n",
      "2022-02-25 14:47:05,657 : INFO : worker thread finished; awaiting finish of 1 more threads\n",
      "2022-02-25 14:47:05,662 : INFO : worker thread finished; awaiting finish of 0 more threads\n",
      "2022-02-25 14:47:05,663 : INFO : EPOCH - 11 : training on 115969 raw words (95649 effective words) took 0.2s, 458294 effective words/s\n",
      "2022-02-25 14:47:05,858 : INFO : worker thread finished; awaiting finish of 2 more threads\n",
      "2022-02-25 14:47:05,867 : INFO : worker thread finished; awaiting finish of 1 more threads\n",
      "2022-02-25 14:47:05,873 : INFO : worker thread finished; awaiting finish of 0 more threads\n",
      "2022-02-25 14:47:05,873 : INFO : EPOCH - 12 : training on 115969 raw words (95602 effective words) took 0.2s, 463310 effective words/s\n",
      "2022-02-25 14:47:06,074 : INFO : worker thread finished; awaiting finish of 2 more threads\n",
      "2022-02-25 14:47:06,082 : INFO : worker thread finished; awaiting finish of 1 more threads\n",
      "2022-02-25 14:47:06,090 : INFO : worker thread finished; awaiting finish of 0 more threads\n",
      "2022-02-25 14:47:06,091 : INFO : EPOCH - 13 : training on 115969 raw words (95786 effective words) took 0.2s, 448759 effective words/s\n",
      "2022-02-25 14:47:06,291 : INFO : worker thread finished; awaiting finish of 2 more threads\n",
      "2022-02-25 14:47:06,292 : INFO : worker thread finished; awaiting finish of 1 more threads\n",
      "2022-02-25 14:47:06,304 : INFO : worker thread finished; awaiting finish of 0 more threads\n",
      "2022-02-25 14:47:06,305 : INFO : EPOCH - 14 : training on 115969 raw words (95578 effective words) took 0.2s, 452176 effective words/s\n",
      "2022-02-25 14:47:06,506 : INFO : worker thread finished; awaiting finish of 2 more threads\n",
      "2022-02-25 14:47:06,511 : INFO : worker thread finished; awaiting finish of 1 more threads\n",
      "2022-02-25 14:47:06,521 : INFO : worker thread finished; awaiting finish of 0 more threads\n",
      "2022-02-25 14:47:06,521 : INFO : EPOCH - 15 : training on 115969 raw words (95605 effective words) took 0.2s, 453093 effective words/s\n",
      "2022-02-25 14:47:06,723 : INFO : worker thread finished; awaiting finish of 2 more threads\n",
      "2022-02-25 14:47:06,730 : INFO : worker thread finished; awaiting finish of 1 more threads\n",
      "2022-02-25 14:47:06,738 : INFO : worker thread finished; awaiting finish of 0 more threads\n",
      "2022-02-25 14:47:06,739 : INFO : EPOCH - 16 : training on 115969 raw words (95605 effective words) took 0.2s, 450424 effective words/s\n",
      "2022-02-25 14:47:06,937 : INFO : worker thread finished; awaiting finish of 2 more threads\n",
      "2022-02-25 14:47:06,939 : INFO : worker thread finished; awaiting finish of 1 more threads\n",
      "2022-02-25 14:47:06,950 : INFO : worker thread finished; awaiting finish of 0 more threads\n",
      "2022-02-25 14:47:06,950 : INFO : EPOCH - 17 : training on 115969 raw words (95515 effective words) took 0.2s, 460082 effective words/s\n",
      "2022-02-25 14:47:07,150 : INFO : worker thread finished; awaiting finish of 2 more threads\n",
      "2022-02-25 14:47:07,151 : INFO : worker thread finished; awaiting finish of 1 more threads\n",
      "2022-02-25 14:47:07,163 : INFO : worker thread finished; awaiting finish of 0 more threads\n",
      "2022-02-25 14:47:07,164 : INFO : EPOCH - 18 : training on 115969 raw words (95585 effective words) took 0.2s, 461258 effective words/s\n",
      "2022-02-25 14:47:07,361 : INFO : worker thread finished; awaiting finish of 2 more threads\n",
      "2022-02-25 14:47:07,370 : INFO : worker thread finished; awaiting finish of 1 more threads\n",
      "2022-02-25 14:47:07,377 : INFO : worker thread finished; awaiting finish of 0 more threads\n",
      "2022-02-25 14:47:07,378 : INFO : EPOCH - 19 : training on 115969 raw words (95540 effective words) took 0.2s, 459906 effective words/s\n",
      "2022-02-25 14:47:07,580 : INFO : worker thread finished; awaiting finish of 2 more threads\n",
      "2022-02-25 14:47:07,584 : INFO : worker thread finished; awaiting finish of 1 more threads\n",
      "2022-02-25 14:47:07,590 : INFO : worker thread finished; awaiting finish of 0 more threads\n",
      "2022-02-25 14:47:07,590 : INFO : EPOCH - 20 : training on 115969 raw words (95560 effective words) took 0.2s, 458433 effective words/s\n",
      "2022-02-25 14:47:07,591 : INFO : training on a 2319380 raw words (1911361 effective words) took 4.3s, 446602 effective words/s\n"
     ]
    },
    {
     "data": {
      "text/plain": [
       "[(0, -0.049635906),\n",
       " (1, 0.04264903),\n",
       " (2, 0.023854937),\n",
       " (3, -0.07670649),\n",
       " (4, -0.037809722),\n",
       " (5, -0.08319698),\n",
       " (6, 0.031955402),\n",
       " (7, 0.06392084),\n",
       " (8, -0.011239686),\n",
       " (9, -0.014160048),\n",
       " (10, 0.0024577307),\n",
       " (11, -0.042606972),\n",
       " (12, 0.070458174),\n",
       " (13, -0.04954226),\n",
       " (14, -0.08660768),\n",
       " (15, -0.08942668),\n",
       " (16, 0.036411077),\n",
       " (17, 0.015162383),\n",
       " (18, -0.07897025),\n",
       " (19, 0.008693038),\n",
       " (20, 0.027831687),\n",
       " (21, -0.032285802),\n",
       " (22, 0.019715402),\n",
       " (23, -0.06876645),\n",
       " (24, -0.052214414),\n",
       " (25, 0.078698315),\n",
       " (26, 0.040824186),\n",
       " (27, -0.03380188),\n",
       " (28, -0.0012304814),\n",
       " (29, -0.0366502),\n",
       " (30, -0.043999843),\n",
       " (31, 0.045434065),\n",
       " (32, 0.03859676),\n",
       " (33, 0.017743306),\n",
       " (34, 0.07958022),\n",
       " (35, 0.09964806),\n",
       " (36, 0.008365807),\n",
       " (37, 0.021897603),\n",
       " (38, 0.06624605),\n",
       " (39, -0.04671158),\n",
       " (40, -0.01602938),\n",
       " (41, -0.03676588),\n",
       " (42, -0.0027430716),\n",
       " (43, 0.024753748),\n",
       " (44, -0.082174),\n",
       " (45, -0.035766233),\n",
       " (46, -0.004088791),\n",
       " (47, -0.079862356),\n",
       " (48, 0.00069284625),\n",
       " (49, 0.10051576),\n",
       " (50, -0.02211867),\n",
       " (51, -0.0701115),\n",
       " (52, 0.030642837),\n",
       " (53, -0.05729196),\n",
       " (54, -0.09728039),\n",
       " (55, 0.041163012),\n",
       " (56, 0.012238243),\n",
       " (57, -0.006810061),\n",
       " (58, -0.0031261167),\n",
       " (59, -0.064487815),\n",
       " (60, 0.014639077),\n",
       " (61, 0.06464474),\n",
       " (62, -0.064247824),\n",
       " (63, -0.016814502),\n",
       " (64, -0.04082844),\n",
       " (65, -0.09003375),\n",
       " (66, 0.059076507),\n",
       " (67, 0.06737356),\n",
       " (68, -0.0059218584),\n",
       " (69, -0.017783362),\n",
       " (70, -0.004879974),\n",
       " (71, 0.009423595),\n",
       " (72, -0.0030298478),\n",
       " (73, -0.002955137),\n",
       " (74, 0.07592891),\n",
       " (75, 0.018288394),\n",
       " (76, 0.044952977),\n",
       " (77, 0.06993001),\n",
       " (78, -0.045434132),\n",
       " (79, -0.13042079),\n",
       " (80, -0.02399952),\n",
       " (81, 0.01611861),\n",
       " (82, -0.0669489),\n",
       " (83, -0.030707806),\n",
       " (84, 0.010273689),\n",
       " (85, 1.8146337e-05),\n",
       " (86, -0.043228786),\n",
       " (87, 0.040505674),\n",
       " (88, -0.054481644),\n",
       " (89, -0.06835665),\n",
       " (90, -0.07629601),\n",
       " (91, -0.08610073),\n",
       " (92, 0.015527741),\n",
       " (93, -0.0043365546),\n",
       " (94, 0.023747629),\n",
       " (95, 0.0071352804),\n",
       " (96, 0.045157153),\n",
       " (97, -0.023566375),\n",
       " (98, 0.041473977),\n",
       " (99, 0.07500622)]"
      ]
     },
     "execution_count": 93,
     "metadata": {},
     "output_type": "execute_result"
    }
   ],
   "source": [
    "# TODO: Implement this! (10 points)\n",
    "class D2VRetrievalModel(VectorSpaceRetrievalModel):\n",
    "    def __init__(self, doc_repr):\n",
    "        super().__init__(doc_repr)\n",
    "\n",
    "        self.vector_size = 100\n",
    "        self.min_count = 1\n",
    "        self.epochs = 20\n",
    "\n",
    "        # YOUR CODE HERE\n",
    "        self.tagged_documents = [\n",
    "            TaggedDocument(doc, [doc_id]) for doc_id, doc in self.doc_repr\n",
    "        ]\n",
    "\n",
    "    def train_model(self):\n",
    "        # YOUR CODE HERE\n",
    "        self.model = Doc2Vec(\n",
    "            documents=self.tagged_documents,\n",
    "            vector_size=self.vector_size,\n",
    "            epochs=self.epochs,\n",
    "            min_count=self.min_count,\n",
    "        )\n",
    "\n",
    "    def vectorize_documents(self):\n",
    "        \"\"\"\n",
    "        Returns a doc_id -> vector dictionary\n",
    "        \"\"\"\n",
    "        # YOUR CODE HERE\n",
    "        vectors = {}\n",
    "        for (doc_id, doc) in self.doc_repr:\n",
    "            doc_vec = self.model.docvecs[doc_id]\n",
    "            # convert to weird gensim format\n",
    "            doc_vec = [(i, el) for i, el in enumerate(doc_vec)]\n",
    "            # store\n",
    "            vectors[doc_id] = doc_vec\n",
    "        return vectors\n",
    "\n",
    "    def vectorize_query(self, query):\n",
    "        # YOUR CODE HERE\n",
    "        query = process_text(query, **config_2)\n",
    "        query_vec = self.model.infer_vector(query)\n",
    "        # conver to weird gensim format\n",
    "        query_vec = [(i, el) for i, el in enumerate(query_vec)]\n",
    "        return query_vec\n",
    "\n",
    "\n",
    "d2v = D2VRetrievalModel(doc_repr_2)\n",
    "d2v.train_model()\n",
    "\n",
    "\n",
    "# # you can now get an LSI vector for a given query in the following way:\n",
    "d2v.vectorize_query(\"report\")"
   ]
  },
  {
   "cell_type": "code",
   "execution_count": 94,
   "metadata": {
    "cell_id": "00150-51d38d3e-9d84-4728-935b-b2266a0f7700",
    "deepnote_cell_height": 81,
    "deepnote_cell_type": "code",
    "deepnote_to_be_reexecuted": false,
    "deletable": false,
    "editable": false,
    "execution_millis": 13,
    "execution_start": 1645187446843,
    "nbgrader": {
     "cell_type": "code",
     "checksum": "e83a363a9d4f136efbdde1426a83925e",
     "grade": true,
     "grade_id": "cell-5e2c5e0c9a2e8cb5",
     "locked": true,
     "points": 0,
     "schema_version": 3,
     "solution": false,
     "task": false
    },
    "source_hash": "28110d30"
   },
   "outputs": [],
   "source": [
    "#### Please do not change this. This cell is used for grading."
   ]
  },
  {
   "cell_type": "markdown",
   "metadata": {
    "cell_id": "00151-fb85191e-b51e-42ca-812f-693c5a17802d",
    "deepnote_cell_height": 52.390625,
    "deepnote_cell_type": "markdown",
    "deletable": false,
    "editable": false,
    "nbgrader": {
     "cell_type": "markdown",
     "checksum": "5bb46bf6b9be1e0ca66f0b0bc6260ecb",
     "grade": false,
     "grade_id": "cell-8a49d414f798a595",
     "locked": true,
     "points": 10,
     "schema_version": 3,
     "solution": false,
     "task": true
    }
   },
   "source": [
    "\\#### Please do not change this. This cell is used for grading."
   ]
  },
  {
   "cell_type": "code",
   "execution_count": 95,
   "metadata": {
    "cell_id": "00152-f0e8290b-0789-4c20-965c-0a941de12a6d",
    "deepnote_cell_height": 303,
    "deepnote_cell_type": "code",
    "deepnote_to_be_reexecuted": false,
    "execution_millis": 302,
    "execution_start": 1645187449617,
    "source_hash": "2beb5e63"
   },
   "outputs": [
    {
     "data": {
      "application/vnd.jupyter.widget-view+json": {
       "model_id": "ea4af58dd9f3425394deae755f3d0279",
       "version_major": 2,
       "version_minor": 0
      },
      "text/plain": [
       "Text(value='', description='Search Bar')"
      ]
     },
     "metadata": {},
     "output_type": "display_data"
    }
   ],
   "source": [
    "drm_d2v = DenseRetrievalRanker(d2v, cosine_sim)\n",
    "\n",
    "# test your LDA model\n",
    "search_fn = drm_d2v.search\n",
    "\n",
    "text = widgets.Text(description=\"Search Bar\", width=200)\n",
    "display(text)\n",
    "\n",
    "\n",
    "text.on_submit(handle_submit_2)"
   ]
  },
  {
   "cell_type": "markdown",
   "metadata": {
    "cell_id": "00153-7795ce30-661e-4988-b26a-e3ed09ce3615",
    "deepnote_cell_height": 168.171875,
    "deepnote_cell_type": "markdown",
    "deletable": false,
    "editable": false,
    "nbgrader": {
     "cell_type": "markdown",
     "checksum": "363ec36c1d03d9f9e1c2045a6e193c14",
     "grade": false,
     "grade_id": "cell-3529ae29eece7b97",
     "locked": true,
     "schema_version": 3,
     "solution": false,
     "task": false
    }
   },
   "source": [
    "---\n",
    "## Section 9: Re-ranking (10 points) <a class=\"anchor\" id=\"reranking\"></a>\n",
    "\n",
    "[Back to Part 2](#part2)\n",
    "\n",
    "To motivate the re-ranking perspective (i.e retrieve with lexical method + rerank with a semantic method), let's search using semantic methods and compare it to BM25's performance, along with their runtime:\n"
   ]
  },
  {
   "cell_type": "code",
   "execution_count": 96,
   "metadata": {
    "cell_id": "00154-4c11daad-82ca-4156-9d9b-7d9457aaf21b",
    "deepnote_cell_height": 567.875,
    "deepnote_cell_type": "code",
    "deepnote_to_be_reexecuted": false,
    "deletable": false,
    "editable": false,
    "execution_millis": 22802,
    "execution_start": 1645187474568,
    "nbgrader": {
     "cell_type": "code",
     "checksum": "5755f70e3eb28abc65d14d80125338af",
     "grade": false,
     "grade_id": "cell-f8f43bf5ae383128",
     "locked": true,
     "schema_version": 3,
     "solution": false,
     "task": false
    },
    "source_hash": "3fb54859"
   },
   "outputs": [
    {
     "name": "stdout",
     "output_type": "stream",
     "text": [
      "BM25: \n",
      "1.3 ms ± 32.5 µs per loop (mean ± std. dev. of 7 runs, 1000 loops each)\n",
      "LSI: \n",
      "503 ms ± 5.61 ms per loop (mean ± std. dev. of 7 runs, 1 loop each)\n",
      "LDA: \n",
      "160 ms ± 1.56 ms per loop (mean ± std. dev. of 7 runs, 10 loops each)\n",
      "W2V: \n",
      "505 ms ± 43.5 ms per loop (mean ± std. dev. of 7 runs, 1 loop each)\n",
      "W2V(Pretrained): \n"
     ]
    },
    {
     "name": "stderr",
     "output_type": "stream",
     "text": [
      "/Users/velizarshulev/opt/miniconda3/envs/ir1labs/lib/python3.6/site-packages/ipykernel_launcher.py:64: DeprecationWarning: Call to deprecated `wv` (Attribute will be removed in 4.0.0, use self instead).\n"
     ]
    },
    {
     "name": "stdout",
     "output_type": "stream",
     "text": [
      "1.38 s ± 6.33 ms per loop (mean ± std. dev. of 7 runs, 1 loop each)\n",
      "D2V:\n",
      "2.45 s ± 11.4 ms per loop (mean ± std. dev. of 7 runs, 1 loop each)\n"
     ]
    }
   ],
   "source": [
    "query = \"algebraic functions\"\n",
    "print(\"BM25: \")\n",
    "%timeit bm25_search(query, 2)\n",
    "print(\"LSI: \")\n",
    "%timeit drm_lsi.search(query)\n",
    "print(\"LDA: \")\n",
    "%timeit drm_lda.search(query)\n",
    "print(\"W2V: \")\n",
    "%timeit drm_w2v.search(query)\n",
    "print(\"W2V(Pretrained): \")\n",
    "%timeit drm_w2v_pretrained.search(query)\n",
    "print(\"D2V:\")\n",
    "%timeit drm_d2v.search(query)"
   ]
  },
  {
   "cell_type": "markdown",
   "metadata": {
    "cell_id": "00155-48f43fee-cf35-4878-adef-f41c0c70d38b",
    "deepnote_cell_height": 165.375,
    "deepnote_cell_type": "markdown",
    "deletable": false,
    "editable": false,
    "nbgrader": {
     "cell_type": "markdown",
     "checksum": "ae398da0a8c23c95bcbb0023b7ec6f34",
     "grade": false,
     "grade_id": "cell-db5ff09f97841af7",
     "locked": true,
     "schema_version": 3,
     "solution": false,
     "task": false
    }
   },
   "source": [
    "---\n",
    "\n",
    "**Implementation (10 points):**\n",
    "Re-ranking involves retrieving a small set of documents using simple but fast methods like BM25 and then re-ranking them with the aid of semantic methods such as LDA or LSI. Implement the following class, which takes in an `initial_retrieval_fn` - the initial retrieval function and `vsrm` - an instance of the `VectorSpaceRetrievalModel` class (i.e LSI/LDA) as input. The search function should first retrieve an initial list of K documents, and then these documents are re-ranked using a semantic method. This not only makes retrieval faster, but semantic methods perform poorly when used in isolation, as you will find out."
   ]
  },
  {
   "cell_type": "code",
   "execution_count": 97,
   "metadata": {
    "cell_id": "00156-e15452e3-f043-4451-be79-5e3c6e3f889e",
    "deepnote_cell_height": 639,
    "deepnote_cell_type": "code",
    "deepnote_to_be_reexecuted": false,
    "deletable": false,
    "execution_millis": 0,
    "execution_start": 1645189040776,
    "nbgrader": {
     "cell_type": "code",
     "checksum": "63b6b05a676a2ae3f08d8bed1bc59428",
     "grade": false,
     "grade_id": "cell-5bf47600d1a0c507",
     "locked": false,
     "schema_version": 3,
     "solution": true,
     "task": false
    },
    "source_hash": "fa2995d"
   },
   "outputs": [],
   "source": [
    "# TODO: Implement this! (10 points)\n",
    "class DenseRerankingModel:\n",
    "    def __init__(self, initial_retrieval_fn, vsrm, similarity_fn):\n",
    "        \"\"\"\n",
    "        initial_retrieval_fn: takes in a query and returns a list of [(doc_id, score)] (sorted)\n",
    "        vsrm: instance of `VectorSpaceRetrievalModel`\n",
    "        similarity_fn: function instance that takes in two vectors\n",
    "                        and returns a similarity score e.g cosine_sim defined earlier\n",
    "        \"\"\"\n",
    "        self.ret = initial_retrieval_fn\n",
    "        self.vsrm = vsrm\n",
    "        self.similarity_fn = similarity_fn\n",
    "        self.vectorized_documents = vsrm.vectorize_documents()\n",
    "\n",
    "        assert len(self.vectorized_documents) == len(doc_repr_2)\n",
    "\n",
    "    def search(self, query, K=50):\n",
    "        \"\"\"\n",
    "        First, retrieve the top K results using the retrieval function\n",
    "        Then, re-rank the results using the VSRM instance\n",
    "        \"\"\"\n",
    "        # YOUR CODE HERE\n",
    "        top_k = self.ret(query)[:K]\n",
    "        results = {}\n",
    "        query_vector = self.vsrm.vectorize_query(query)\n",
    "        for doc_id, _score in top_k:\n",
    "            doc_vector = self.vectorized_documents[doc_id]\n",
    "            new_score = self.similarity_fn(doc_vector, query_vector)\n",
    "            results[doc_id] = new_score\n",
    "        # convert results to list and sort descending\n",
    "        results = sorted(list(results.items()), key=lambda x: -x[1])\n",
    "        return results"
   ]
  },
  {
   "cell_type": "code",
   "execution_count": 98,
   "metadata": {
    "cell_id": "00157-3538784a-efa2-4b36-b167-d05248360ac1",
    "deepnote_cell_height": 225,
    "deepnote_cell_type": "code",
    "deepnote_to_be_reexecuted": false,
    "deletable": false,
    "editable": false,
    "execution_millis": 5334,
    "execution_start": 1645189060550,
    "nbgrader": {
     "cell_type": "code",
     "checksum": "334ab5af96976265cace682ab82a7387",
     "grade": true,
     "grade_id": "cell-52c6d18a4c0b4882",
     "locked": true,
     "points": 0,
     "schema_version": 3,
     "solution": false,
     "task": false
    },
    "source_hash": "f5babc28"
   },
   "outputs": [
    {
     "name": "stderr",
     "output_type": "stream",
     "text": [
      "/Users/velizarshulev/opt/miniconda3/envs/ir1labs/lib/python3.6/site-packages/ipykernel_launcher.py:33: DeprecationWarning: Call to deprecated `wv` (Attribute will be removed in 4.0.0, use self instead).\n"
     ]
    }
   ],
   "source": [
    "##### Function check\n",
    "bm25_search_2 = partial(bm25_search, index_set=2)\n",
    "lsi_rerank = DenseRerankingModel(bm25_search_2, lsi, cosine_sim)\n",
    "lda_rerank = DenseRerankingModel(bm25_search_2, lda, jenson_shannon_sim)\n",
    "w2v_rerank = DenseRerankingModel(bm25_search_2, w2v, cosine_sim)\n",
    "w2v_pretrained_rerank = DenseRerankingModel(bm25_search_2, w2v_pretrained, cosine_sim)\n",
    "d2v_rerank = DenseRerankingModel(bm25_search_2, d2v, cosine_sim)\n",
    "\n",
    "#####"
   ]
  },
  {
   "cell_type": "markdown",
   "metadata": {
    "cell_id": "00158-5fbe0f74-4068-4e6e-9f3b-854b724106d7",
    "deepnote_cell_height": 52.390625,
    "deepnote_cell_type": "markdown",
    "deletable": false,
    "editable": false,
    "nbgrader": {
     "cell_type": "markdown",
     "checksum": "bd904253f45f84e63bab3a69729058fc",
     "grade": false,
     "grade_id": "cell-93215dfe6bcf7cff",
     "locked": true,
     "points": 10,
     "schema_version": 3,
     "solution": false,
     "task": true
    }
   },
   "source": [
    "\\#### Please do not change this. This cell is used for grading."
   ]
  },
  {
   "cell_type": "markdown",
   "metadata": {
    "cell_id": "00159-f5e855d2-5764-440e-a8e4-10860c9a9ac3",
    "deepnote_cell_height": 55,
    "deepnote_cell_type": "markdown",
    "deletable": false,
    "editable": false,
    "nbgrader": {
     "cell_type": "markdown",
     "checksum": "b592e60292bfe3d9ef2930a354c4077a",
     "grade": false,
     "grade_id": "cell-aa694ff55fa91e7d",
     "locked": true,
     "schema_version": 3,
     "solution": false,
     "task": false
    }
   },
   "source": [
    "---\n",
    "Now, let us time the new search functions:"
   ]
  },
  {
   "cell_type": "code",
   "execution_count": 99,
   "metadata": {
    "cell_id": "00160-933196c3-9483-4ca6-a4a6-ca24aad69936",
    "deepnote_cell_height": 530.0625,
    "deepnote_cell_type": "code",
    "deepnote_to_be_reexecuted": false,
    "deletable": false,
    "editable": false,
    "execution_millis": 38436,
    "execution_start": 1645189086450,
    "nbgrader": {
     "cell_type": "code",
     "checksum": "338c7e3528cba266a865a061287c0e38",
     "grade": false,
     "grade_id": "cell-5edbd481562ad91f",
     "locked": true,
     "schema_version": 3,
     "solution": false,
     "task": false
    },
    "source_hash": "bfac7774"
   },
   "outputs": [
    {
     "name": "stdout",
     "output_type": "stream",
     "text": [
      "BM25: \n",
      "1.27 ms ± 16.5 µs per loop (mean ± std. dev. of 7 runs, 1000 loops each)\n",
      "LSI: \n",
      "9.11 ms ± 91.3 µs per loop (mean ± std. dev. of 7 runs, 100 loops each)\n",
      "LDA: \n",
      "4.17 ms ± 49.5 µs per loop (mean ± std. dev. of 7 runs, 100 loops each)\n",
      "W2V: \n",
      "9.44 ms ± 761 µs per loop (mean ± std. dev. of 7 runs, 100 loops each)\n",
      "W2V(Pretrained): \n"
     ]
    },
    {
     "name": "stderr",
     "output_type": "stream",
     "text": [
      "/Users/velizarshulev/opt/miniconda3/envs/ir1labs/lib/python3.6/site-packages/ipykernel_launcher.py:64: DeprecationWarning: Call to deprecated `wv` (Attribute will be removed in 4.0.0, use self instead).\n"
     ]
    },
    {
     "name": "stdout",
     "output_type": "stream",
     "text": [
      "29.1 ms ± 2.49 ms per loop (mean ± std. dev. of 7 runs, 10 loops each)\n",
      "D2V:\n",
      "43.6 ms ± 1.94 ms per loop (mean ± std. dev. of 7 runs, 10 loops each)\n"
     ]
    }
   ],
   "source": [
    "query = \"algebraic functions\"\n",
    "print(\"BM25: \")\n",
    "%timeit bm25_search(query, 2)\n",
    "print(\"LSI: \")\n",
    "%timeit lsi_rerank.search(query)\n",
    "print(\"LDA: \")\n",
    "%timeit lda_rerank.search(query)\n",
    "print(\"W2V: \")\n",
    "%timeit w2v_rerank.search(query)\n",
    "print(\"W2V(Pretrained): \")\n",
    "%timeit w2v_pretrained_rerank.search(query)\n",
    "print(\"D2V:\")\n",
    "%timeit d2v_rerank.search(query)"
   ]
  },
  {
   "cell_type": "markdown",
   "metadata": {
    "cell_id": "00161-7e54209c-2f42-4a49-bab8-78710df71f6b",
    "deepnote_cell_height": 55,
    "deepnote_cell_type": "markdown",
    "deletable": false,
    "editable": false,
    "nbgrader": {
     "cell_type": "markdown",
     "checksum": "c45c5e3f015b2de89d9d39ae3766368b",
     "grade": false,
     "grade_id": "cell-85c50f2ab9eec301",
     "locked": true,
     "schema_version": 3,
     "solution": false,
     "task": false
    }
   },
   "source": [
    "---\n",
    "As you can see, it is much faster (but BM25 is still orders of magnitude faster)."
   ]
  },
  {
   "cell_type": "markdown",
   "metadata": {
    "cell_id": "00162-b811d517-f3b2-45f1-9dac-88d1fe08cfda",
    "deepnote_cell_height": 311.375,
    "deepnote_cell_type": "markdown",
    "deletable": false,
    "editable": false,
    "nbgrader": {
     "cell_type": "markdown",
     "checksum": "1e2f3388e3807659f303fe31a75a010e",
     "grade": false,
     "grade_id": "cell-5071bb99b2af61cb",
     "locked": true,
     "schema_version": 3,
     "solution": false,
     "task": false
    }
   },
   "source": [
    "---\n",
    "## Section 10: Evaluation & Analysis (30 points) <a class=\"anchor\" id=\"reranking_eval\"></a>\n",
    "\n",
    "[Back to Part 2](#part2)\n",
    "\n",
    "[Previously](#evaluation) we have implemented some evaluation metrics and used them for measuring the ranking performance of term-based IR algorithms. In this section, we will do the same for semantic methods, both with and without re-ranking.\n",
    "\n",
    "### Section 10.1: Plot (10 points)\n",
    "\n",
    "First, gather the results. The results should consider the index set, the different search functions and different metrics. Plot the results in bar charts, per metric, with clear labels.\n",
    "\n",
    "Then, gather only the re-ranking models, and plot and compare them with the results obtained in part 1 (only index set 2)."
   ]
  },
  {
   "cell_type": "code",
   "execution_count": 100,
   "metadata": {
    "cell_id": "00163-2e475730-a0ad-40ed-b4cf-04ccd10e3e34",
    "deepnote_cell_height": 297,
    "deepnote_cell_type": "code",
    "deepnote_to_be_reexecuted": false,
    "deletable": false,
    "editable": false,
    "execution_millis": 5,
    "execution_start": 1645189150648,
    "nbgrader": {
     "cell_type": "code",
     "checksum": "4fe81520ac6413a803838913fd64de03",
     "grade": false,
     "grade_id": "cell-b672fe6dfae0b1ce",
     "locked": true,
     "schema_version": 3,
     "solution": false,
     "task": false
    },
    "source_hash": "c2b8785a"
   },
   "outputs": [],
   "source": [
    "list_of_sem_search_fns = [\n",
    "    (\"lda\", drm_lda.search),\n",
    "    (\"lsi\", drm_lsi.search),\n",
    "    (\"w2v\", drm_w2v.search),\n",
    "    (\"w2v_pretrained\", drm_w2v_pretrained.search),\n",
    "    (\"d2v\", drm_d2v.search),\n",
    "    (\"lsi_rr\", lsi_rerank.search),\n",
    "    (\"lda_rr\", lda_rerank.search),\n",
    "    (\"w2v_rr\", w2v_rerank.search),\n",
    "    (\"w2v_pretrained_rr\", w2v_pretrained_rerank.search),\n",
    "    (\"d2v_rr\", d2v_rerank.search),\n",
    "]"
   ]
  },
  {
   "cell_type": "code",
   "execution_count": 102,
   "metadata": {
    "cell_id": "00164-ba70f9d6-5fd4-4ccc-9243-56081705849b",
    "deepnote_cell_height": 2368.78125,
    "deepnote_cell_type": "code",
    "deepnote_output_heights": [
     472.390625,
     472.390625
    ],
    "deepnote_to_be_reexecuted": false,
    "deletable": false,
    "execution_millis": 699543,
    "execution_start": 1645197094542,
    "nbgrader": {
     "cell_type": "code",
     "checksum": "54707c4afac084299aeefa047259b4a9",
     "grade": true,
     "grade_id": "cell-7dd8273b0f5a3c22",
     "locked": false,
     "points": 10,
     "schema_version": 3,
     "solution": true,
     "task": false
    },
    "source_hash": "7b8cce53"
   },
   "outputs": [
    {
     "name": "stdout",
     "output_type": "stream",
     "text": [
      "\n",
      "Vanilla\n",
      "\tlda\n",
      "{'ERR': 0.058327716,\n",
      " 'MAP': 0.036662117,\n",
      " 'Precision@1': 0.0,\n",
      " 'Precision@10': 0.051923078,\n",
      " 'Precision@5': 0.034615386,\n",
      " 'Recall@1': 0.0,\n",
      " 'Recall@10': 0.04683178,\n",
      " 'Recall@5': 0.0117325}\n",
      "\tlsi\n",
      "{'ERR': 0.12317339,\n",
      " 'MAP': 0.063502476,\n",
      " 'Precision@1': 0.115384616,\n",
      " 'Precision@10': 0.078846164,\n",
      " 'Precision@5': 0.08846155,\n",
      " 'Recall@1': 0.015510531,\n",
      " 'Recall@10': 0.057239242,\n",
      " 'Recall@5': 0.03464716}\n",
      "\tw2v\n",
      "{'ERR': 0.04560759,\n",
      " 'MAP': 0.01765618,\n",
      " 'Precision@1': 0.03846154,\n",
      " 'Precision@10': 0.017307691,\n",
      " 'Precision@5': 0.026923077,\n",
      " 'Recall@1': 0.0037087912,\n",
      " 'Recall@10': 0.028445432,\n",
      " 'Recall@5': 0.008594313}\n"
     ]
    },
    {
     "name": "stderr",
     "output_type": "stream",
     "text": [
      "/Users/velizarshulev/opt/miniconda3/envs/ir1labs/lib/python3.6/site-packages/ipykernel_launcher.py:64: DeprecationWarning: Call to deprecated `wv` (Attribute will be removed in 4.0.0, use self instead).\n"
     ]
    },
    {
     "name": "stdout",
     "output_type": "stream",
     "text": [
      "\tw2v_pretrained\n",
      "{'ERR': 0.22888106,\n",
      " 'MAP': 0.13215353,\n",
      " 'Precision@1': 0.30769232,\n",
      " 'Precision@10': 0.1326923,\n",
      " 'Precision@5': 0.17307693,\n",
      " 'Recall@1': 0.048749086,\n",
      " 'Recall@10': 0.14604688,\n",
      " 'Recall@5': 0.10601156}\n",
      "\td2v\n",
      "{'ERR': 0.08733455,\n",
      " 'MAP': 0.038862307,\n",
      " 'Precision@1': 0.07692308,\n",
      " 'Precision@10': 0.050000004,\n",
      " 'Precision@5': 0.057692308,\n",
      " 'Recall@1': 0.0046578143,\n",
      " 'Recall@10': 0.03632309,\n",
      " 'Recall@5': 0.026949314}\n",
      "\n",
      "Reranked\n",
      "\tlsi\n",
      "{'ERR': 0.2177499,\n",
      " 'MAP': 0.13069652,\n",
      " 'Precision@1': 0.1923077,\n",
      " 'Precision@10': 0.18076923,\n",
      " 'Precision@5': 0.19230771,\n",
      " 'Recall@1': 0.033948842,\n",
      " 'Recall@10': 0.26622698,\n",
      " 'Recall@5': 0.15364788}\n",
      "\tlda\n",
      "{'ERR': 0.22857174,\n",
      " 'MAP': 0.11946889,\n",
      " 'Precision@1': 0.21153846,\n",
      " 'Precision@10': 0.18269232,\n",
      " 'Precision@5': 0.18076922,\n",
      " 'Recall@1': 0.027013343,\n",
      " 'Recall@10': 0.32572582,\n",
      " 'Recall@5': 0.17297217}\n",
      "\tw2v\n",
      "{'ERR': 0.1680555,\n",
      " 'MAP': 0.10762218,\n",
      " 'Precision@1': 0.115384616,\n",
      " 'Precision@10': 0.15384616,\n",
      " 'Precision@5': 0.13461539,\n",
      " 'Recall@1': 0.012104676,\n",
      " 'Recall@10': 0.24169336,\n",
      " 'Recall@5': 0.09689161}\n",
      "\tw2v_pretrained\n",
      "{'ERR': 0.2839876,\n",
      " 'MAP': 0.17797674,\n",
      " 'Precision@1': 0.34615386,\n",
      " 'Precision@10': 0.20769231,\n",
      " 'Precision@5': 0.23076923,\n",
      " 'Recall@1': 0.08440109,\n",
      " 'Recall@10': 0.3412429,\n",
      " 'Recall@5': 0.20217164}\n",
      "\td2v\n",
      "{'ERR': 0.22806787,\n",
      " 'MAP': 0.1245836,\n",
      " 'Precision@1': 0.1923077,\n",
      " 'Precision@10': 0.19423078,\n",
      " 'Precision@5': 0.20384614,\n",
      " 'Recall@1': 0.025565717,\n",
      " 'Recall@10': 0.32000324,\n",
      " 'Recall@5': 0.1565992}\n"
     ]
    },
    {
     "data": {
      "image/png": "[encoded data removed]",
      "text/plain": [
       "<Figure size 1008x576 with 8 Axes>"
      ]
     },
     "metadata": {
      "needs_background": "light"
     },
     "output_type": "display_data"
    },
    {
     "data": {
      "image/png": "[encoded data removed]",
      "text/plain": [
       "<Figure size 1008x504 with 8 Axes>"
      ]
     },
     "metadata": {
      "needs_background": "light"
     },
     "output_type": "display_data"
    }
   ],
   "source": [
    "# # YOUR CODE HERE\n",
    "# takes roughly 10 mins to run\n",
    "from pprint import pprint\n",
    "fig, axes = plt.subplots(2, 4, figsize=(14, 8), sharey=False)\n",
    "axes = axes.flatten()\n",
    "\n",
    "# need this to make side by side bars\n",
    "N = len(list_of_sem_search_fns) // 2\n",
    "method_loc = np.arange(N)\n",
    "bar_width = 0.25\n",
    "\n",
    "vanilla_search_fns = list_of_sem_search_fns[:N]\n",
    "reranked_search_fns = list_of_sem_search_fns[N:]\n",
    "\n",
    "search_fns_map = {\"Vanilla\": vanilla_search_fns, \"Reranked\": reranked_search_fns}\n",
    "\n",
    "for j, mode in enumerate([\"Vanilla\", \"Reranked\"]):\n",
    "    results = {}\n",
    "    print(f\"\\n{mode}\")\n",
    "    \n",
    "    for search_alg, search_fn in search_fns_map[mode]:\n",
    "        # remove _rr from reranked algo's so that the labels match\n",
    "        search_alg = search_alg.replace(\"_rr\", \"\")\n",
    "        results[search_alg] = evaluate_search_fn(search_fn, list_of_metrics)\n",
    "        print(f\"\\t{search_alg}\")\n",
    "        pprint(results[search_alg])\n",
    "\n",
    "    for i, (metric_name, _metric_fn) in enumerate(list_of_metrics):\n",
    "        metric_results = {k: v[metric_name] for k, v in results.items()}\n",
    "\n",
    "        labels = list(metric_results.keys())\n",
    "        values = [metric_results[label] for label in labels]\n",
    "\n",
    "        axes[i].grid(True, which=\"major\", axis=\"y\", alpha=0.35)\n",
    "        if i % 4 == 0:\n",
    "            axes[i].set_ylabel(\"Average Metric Value\")\n",
    "        if j == 0:\n",
    "            axes[i].bar(method_loc, values, bar_width, label=f\"{mode}\")\n",
    "        else:\n",
    "            axes[i].bar(method_loc + bar_width, values, bar_width, label=f\"{mode}\")\n",
    "            axes[i].set_xticks(method_loc + bar_width / 2)\n",
    "            axes[i].set_xticklabels(labels, rotation=30, ha=\"right\")\n",
    "            axes[i].set_title(metric_name)\n",
    "            if i == 7:\n",
    "                axes[i].legend()\n",
    "\n",
    "\n",
    "fig.suptitle(\"Comparison of different Semantic IR algorithms across various Metrics\")\n",
    "fig.tight_layout(rect=[0, 0.03, 1, 0.95])\n",
    "plt.show()\n",
    "\n",
    "\n",
    "# 2nd Plot: Compare semantic search with reranking to models from part 1\n",
    "\n",
    "fig, axes = plt.subplots(2, 4, figsize=(14, 7), sharey=False)\n",
    "axes = axes.flatten()\n",
    "\n",
    "list_of_rerank_sem_search_fns = [\n",
    "    (\"lsi_rr\", lsi_rerank.search),\n",
    "    (\"lda_rr\", lda_rerank.search),\n",
    "    (\"w2v_rr\", w2v_rerank.search),\n",
    "    (\"w2v_pretrained_rr\", w2v_pretrained_rerank.search),\n",
    "    (\"d2v_rr\", d2v_rerank.search),\n",
    "]\n",
    "\n",
    "N = len(list_of_rerank_sem_search_fns + list_of_search_fns)\n",
    "method_loc = np.arange(N)\n",
    "\n",
    "results = {}\n",
    "\n",
    "for i, (search_alg, search_fn) in enumerate(reranked_search_fns + list_of_search_fns):\n",
    "    if i >= len(list_of_rerank_sem_search_fns):\n",
    "        results[search_alg] = evaluate_search_fn(\n",
    "            search_fn, list_of_metrics, index_set=2\n",
    "        )\n",
    "    else:\n",
    "        results[search_alg] = evaluate_search_fn(search_fn, list_of_metrics)\n",
    "\n",
    "for i, (metric_name, _metric_fn) in enumerate(list_of_metrics):\n",
    "    metric_results = {k: v[metric_name] for k, v in results.items()}\n",
    "\n",
    "    labels = list(metric_results.keys())\n",
    "    values = [metric_results[label] for label in labels]\n",
    "\n",
    "    axes[i].grid(True, which=\"major\", axis=\"y\", alpha=0.35)\n",
    "    if i % 4 == 0:\n",
    "        axes[i].set_ylabel(\"Average Metric Value\")\n",
    "    axes[i].bar(method_loc, values, bar_width)\n",
    "    axes[i].set_xticks(method_loc)\n",
    "    axes[i].set_xticklabels(labels, rotation=45)\n",
    "    axes[i].set_title(metric_name)\n",
    "\n",
    "fig.suptitle(\"Comparison between semantic and term-based ranking algorithms\")\n",
    "fig.tight_layout(rect=[0, 0.03, 1, 0.95])\n",
    "plt.show()"
   ]
  },
  {
   "cell_type": "markdown",
   "metadata": {
    "cell_id": "00165-821599fc-9264-4123-a542-2b0354dde4f7",
    "deepnote_cell_height": 145.1875,
    "deepnote_cell_type": "markdown",
    "deletable": false,
    "editable": false,
    "nbgrader": {
     "cell_type": "markdown",
     "checksum": "a8a3b6189bdde66704c694d85e38d049",
     "grade": false,
     "grade_id": "cell-deb2ef3daa306e82",
     "locked": true,
     "schema_version": 3,
     "solution": false,
     "task": false
    }
   },
   "source": [
    "### Section 10.2: Summary (20 points)\n",
    "\n",
    "Your summary should compare methods from Part 1 and Part 2 (only for index set 2). State what you expected to see in the results, followed by either supporting evidence *or* justify why the results did not support your expectations. Consider the availability of data, scalability, domain/type of data, etc."
   ]
  },
  {
   "cell_type": "markdown",
   "metadata": {
    "cell_id": "00166-930e721d-9166-4296-ad5c-4c4449f6c99e",
    "deepnote_cell_height": 52.390625,
    "deepnote_cell_type": "markdown",
    "deletable": false,
    "nbgrader": {
     "cell_type": "markdown",
     "checksum": "ff97c43837d10bff6aaffa75e1492887",
     "grade": true,
     "grade_id": "cell-ec5dd7d9cf59dd86",
     "locked": false,
     "points": 20,
     "schema_version": 3,
     "solution": true,
     "task": false
    }
   },
   "source": [
    "Our main observation after running all experiments is that term-based models outperform semantic models in nearly all metrics with the exception of Recall@10. The findings are somewhat surprising since we would have expected semantic models would be better at capturing relevance without the explicit need for exact term matching between query and relevant documents - word embeddings should be good at capturing synonymy between words. This hypothesis may somewhat be confirmed by the performance of semantic models with regards to Recall@10 - because we are not just looking for identical terms but also terms with a similar meaning we are able to retrieve much more of the relevant documents. Semantic models should therefore be suitable for tasks such as legal research where a lawyer would want to find all relevant information in a corpus of legal documents.\n",
    "\n",
    "There may be various reaasons why semantic models perform poorly in all other metrics compared to term-based models. One explanation could be that in the case of pretrained word embeddings representations may have been learned from a different domain and therefore meanings to do not match our current domain or otherwise some words may be missing altogether. Another possible explanation for the poorer performance is that semantic models may be more suitable for a large corpus where enough documents are present in order to learn good representation. In our case the corpus is fairly small and therefore the word representations not very meaningful.\n",
    "\n",
    "It is important to note that reranking is clearly the better approach and outperforms purely semantic models. This might be again due to the fact that most of the work in retrieving documents is already being done by term-based models which we established perform better in the case of this specific corpus."
   ]
  }
 ],
 "metadata": {
  "deepnote": {},
  "deepnote_execution_queue": [],
  "deepnote_notebook_id": "13b77af2-2689-4e0d-949d-ce0f01912b71",
  "kernelspec": {
   "display_name": "Python 3",
   "language": "python",
   "name": "python3"
  },
  "language_info": {
   "codemirror_mode": {
    "name": "ipython",
    "version": 3
   },
   "file_extension": ".py",
   "mimetype": "text/x-python",
   "name": "python",
   "nbconvert_exporter": "python",
   "pygments_lexer": "ipython3",
   "version": "3.6.5"
  },
  "toc": {
   "base_numbering": 1,
   "nav_menu": {},
   "number_sections": true,
   "sideBar": true,
   "skip_h1_title": false,
   "title_cell": "Table of Contents",
   "title_sidebar": "Contents",
   "toc_cell": false,
   "toc_position": {},
   "toc_section_display": true,
   "toc_window_display": false
  },
  "toc-autonumbering": false
 },
 "nbformat": 4,
 "nbformat_minor": 4
}
