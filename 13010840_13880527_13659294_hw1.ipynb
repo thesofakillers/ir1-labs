{
 "cells": [
  {
   "cell_type": "markdown",
   "metadata": {
    "cell_id": "2506602b-e699-4ea6-9aa5-4cb13cc4f3c0",
    "deepnote_cell_height": 824,
    "deepnote_cell_type": "markdown",
    "deletable": false,
    "editable": false,
    "nbgrader": {
     "cell_type": "markdown",
     "checksum": "1bba455de8bc2825ca70469169bbadaa",
     "grade": false,
     "grade_id": "cell-c9cd9e550239e812",
     "locked": true,
     "schema_version": 3,
     "solution": false,
     "task": false
    }
   },
   "source": [
    "# Homework 1 (Total Points: 250) <a class=\"anchor\" id=\"top\"></a>\n",
    "\n",
    "\n",
    "**Submission instructions**:\n",
    "- The cells with the `# YOUR CODE HERE` denote that these sections are graded and you need to add your implementation.\n",
    "- For Part 1: You can use the `nltk`, `NumPy`, and `matplotlib` libraries here. Other libraries, e.g., `gensim` or `scikit-learn`, may not be used. For Part 2: `gensim` is allowed in addition to the imported libraries in the next code cell\n",
    "- Please use Python 3.6.5 and `pip install -r requirements.txt` to avoid version issues.\n",
    "- The notebook you submit has to have the student ids, separated by underscores (E.g., `12341234_12341234_12341234_hw1.ipynb`).\n",
    "- This will be parsed by a regexp, **so please double check your filename**.\n",
    "- Only one member of each group has to submit the file (**please do not compress the .ipynb file when you will submit it**) to canvas.\n",
    "- **Make sure to check that your notebook runs before submission**. A quick way to do this is to restart the kernel and run all the cells.\n",
    "- Do not change the number of arugments in the given functions.\n",
    "- **Please do not delete/add new cells**. Removing cells **will** lead to grade deduction.\n",
    "- Note, that you are not allowed to use Google Colab.\n",
    "\n",
    "\n",
    "**Learning Goals**:\n",
    "- [Part 1, Term-based matching](#part1) (165 points):\n",
    "    - Learn how to load a dataset and process it.\n",
    "    - Learn how to implement several standard IR methods (TF-IDF, BM25, QL) and understand their weaknesses & strengths.\n",
    "    - Learn how to evaluate IR methods.\n",
    "- [Part 2, Semantic-based matching](#part2) (85 points):\n",
    "    - Learn how to implement vector-space retrieval methods (LSI, LDA).\n",
    "    - Learn how to use LSI and LDA for re-ranking.\n",
    "\n",
    "\n",
    "**Resources**:\n",
    "- **Part 1**: Sections 2.3, 4.1, 4.2, 4.3, 5.3, 5.6, 5.7, 6.2, 7, 8 of [Search Engines: Information Retrieval in Practice](https://ciir.cs.umass.edu/downloads/SEIRiP.pdf)\n",
    "- **Part 2**: [LSI - Chapter 18](https://nlp.stanford.edu/IR-book/pdf/18lsi.pdf) from [Introduction to Information Retrieval](https://nlp.stanford.edu/IR-book/) book and the [original LDA paper](https://jmlr.org/papers/volume3/blei03a/blei03a.pdf)"
   ]
  },
  {
   "cell_type": "code",
   "execution_count": 1,
   "metadata": {
    "cell_id": "00001-e743cc22-6da0-404e-8b14-8521799dfd06",
    "deepnote_cell_height": 477,
    "deepnote_cell_type": "code",
    "deepnote_to_be_reexecuted": false,
    "deletable": false,
    "editable": false,
    "execution_millis": 4063,
    "execution_start": 1645186524256,
    "nbgrader": {
     "cell_type": "code",
     "checksum": "c55bfe94ff1f564dd595547e516c4c6e",
     "grade": false,
     "grade_id": "cell-f5357fabdb9660e3",
     "locked": true,
     "schema_version": 3,
     "solution": false,
     "task": false
    },
    "source_hash": "33e174b2"
   },
   "outputs": [],
   "source": [
    "# imports\n",
    "# TODO: Ensure that no additional library is imported in the notebook.\n",
    "# TODO: Only the standard library and the following libraries are allowed:\n",
    "# TODO: You can also use unlisted classes from these libraries or standard libraries (such as defaultdict, Counter, ...).\n",
    "\n",
    "import os\n",
    "import zipfile\n",
    "from functools import partial\n",
    "\n",
    "import nltk\n",
    "import requests\n",
    "import numpy as np\n",
    "from tqdm import tqdm\n",
    "\n",
    "import matplotlib.pyplot as plt\n",
    "from matplotlib.pyplot import cm\n",
    "\n",
    "from ipywidgets import widgets\n",
    "from IPython.display import display, HTML\n",
    "\n",
    "# from IPython.html import widgets\n",
    "from collections import namedtuple\n",
    "\n",
    "%matplotlib inline"
   ]
  },
  {
   "cell_type": "markdown",
   "metadata": {
    "cell_id": "00002-8e715841-7edb-4d33-8595-6680b7d47ad7",
    "deepnote_cell_height": 412.390625,
    "deepnote_cell_type": "markdown",
    "deletable": false,
    "editable": false,
    "nbgrader": {
     "cell_type": "markdown",
     "checksum": "c8328f758ca5b69f76eee03dbbdd4715",
     "grade": false,
     "grade_id": "cell-7428e12ed184408b",
     "locked": true,
     "schema_version": 3,
     "solution": false,
     "task": false
    }
   },
   "source": [
    "\n",
    "# Part 1: Term-based Matching (165 points) <a class=\"anchor\" id=\"part1\"></a>\n",
    "\n",
    "[Back to top](#top)\n",
    "\n",
    "In the first part, we will learn the basics of IR from loading and preprocessing the material, to implementing some well known search algorithms, to evaluating the ranking performance of the implemented algorithms. We will be using the CACM dataset throughout the assignment. The CACM dataset is a collection of titles and abstracts from the journal CACM (Communication of the ACM).\n",
    "\n",
    "Table of contents:\n",
    "- [Section 1: Text Processing](#text_processing) (5 points)\n",
    "- [Section 2: Indexing](#indexing) (10 points)\n",
    "- [Section 3: Ranking](#ranking) (80 points)\n",
    "- [Section 4: Evaluation](#evaluation) (40 points)\n",
    "- [Section 5: Analysis](#analysis) (30 points)\n"
   ]
  },
  {
   "cell_type": "markdown",
   "metadata": {
    "cell_id": "00003-584ac16f-6a3d-441f-a49b-132e6d063b8d",
    "deepnote_cell_height": 412.390625,
    "deepnote_cell_type": "markdown",
    "deletable": false,
    "editable": false,
    "nbgrader": {
     "cell_type": "markdown",
     "checksum": "4e3f938065183dc743aa8254b96b4f5e",
     "grade": false,
     "grade_id": "cell-4b24825cf4ae55ec",
     "locked": true,
     "schema_version": 3,
     "solution": false,
     "task": false
    }
   },
   "source": [
    "---\n",
    "## Section 1: Text Processing (5 points)<a class=\"anchor\" id=\"text_processing\"></a>\n",
    "\n",
    "[Back to Part 1](#part1)\n",
    "\n",
    "In this section, we will load the dataset and learn how to clean up the data to make it usable for an IR system.\n",
    "First, go through the implementation of the following functions:\n",
    "- `read_cacm_docs`: Reads in the CACM documents.\n",
    "- `read_queries`: Reads in the CACM queries.\n",
    "- `load_stopwords`: Loads the stopwords.\n",
    "\n",
    "The points of this section are earned for the following implementations:\n",
    "- `tokenize` (3 points): Tokenizes the input text.\n",
    "- `stem_token` (2 points): Stems the given token.\n",
    "\n",
    "We are using the [CACM dataset](http://ir.dcs.gla.ac.uk/resources/test_collections/cacm/), which is a small, classic IR dataset, composed of a collection of titles and abstracts from the journal CACM. It comes with relevance judgements for queries, so we can evaluate our IR system.\n"
   ]
  },
  {
   "cell_type": "markdown",
   "metadata": {
    "cell_id": "00004-f5f9096a-743b-4587-85d1-fc5628227046",
    "deepnote_cell_height": 109,
    "deepnote_cell_type": "markdown",
    "deletable": false,
    "editable": false,
    "nbgrader": {
     "cell_type": "markdown",
     "checksum": "0155d897c7016389d73d160921947a6f",
     "grade": false,
     "grade_id": "cell-45651364e7af6d5a",
     "locked": true,
     "schema_version": 3,
     "solution": false,
     "task": false
    }
   },
   "source": [
    "---\n",
    "### 1.1 Read the CACM documents\n",
    "\n",
    "\n",
    "The following cell downloads the dataset and unzips it to a local directory."
   ]
  },
  {
   "cell_type": "code",
   "execution_count": 2,
   "metadata": {
    "cell_id": "00005-2240a6e7-e312-4d7a-842b-04b160e1f27e",
    "deepnote_cell_height": 549,
    "deepnote_cell_type": "code",
    "deepnote_to_be_reexecuted": false,
    "deletable": false,
    "editable": false,
    "execution_millis": 161,
    "execution_start": 1645186528335,
    "nbgrader": {
     "cell_type": "code",
     "checksum": "4d43c9ad6e77cc01ce4cef0c34824930",
     "grade": false,
     "grade_id": "cell-bbc3030bb3fe7e02",
     "locked": true,
     "schema_version": 3,
     "solution": false,
     "task": false
    },
    "source_hash": "2753ab21"
   },
   "outputs": [],
   "source": [
    "def download_dataset():\n",
    "    folder_path = os.environ.get(\"IR1_DATA_PATH\")\n",
    "    if not folder_path:\n",
    "        folder_path = \"./datasets/\"\n",
    "    os.makedirs(folder_path, exist_ok=True)\n",
    "\n",
    "    file_location = os.path.join(folder_path, \"cacm.zip\")\n",
    "\n",
    "    # download file if it doesn't exist\n",
    "    if not os.path.exists(file_location):\n",
    "\n",
    "        url = \"https://surfdrive.surf.nl/files/index.php/s/M0FGJpX2p8wDwxR/download\"\n",
    "\n",
    "        with open(file_location, \"wb\") as handle:\n",
    "            print(f\"Downloading file from {url} to {file_location}\")\n",
    "            response = requests.get(url, stream=True)\n",
    "            for data in tqdm(response.iter_content()):\n",
    "                handle.write(data)\n",
    "            print(\"Finished downloading file\")\n",
    "\n",
    "    if not os.path.exists(os.path.join(folder_path, \"train.txt\")):\n",
    "\n",
    "        # unzip file\n",
    "        with zipfile.ZipFile(file_location, \"r\") as zip_ref:\n",
    "            zip_ref.extractall(folder_path)\n",
    "\n",
    "\n",
    "download_dataset()"
   ]
  },
  {
   "cell_type": "markdown",
   "metadata": {
    "cell_id": "00006-c429df2f-f87d-4f2b-9acd-506a563a27ba",
    "deepnote_cell_height": 73,
    "deepnote_cell_type": "markdown",
    "deletable": false,
    "editable": false,
    "nbgrader": {
     "cell_type": "markdown",
     "checksum": "31609b0d61d0c74cbd69bc43e47c23be",
     "grade": false,
     "grade_id": "cell-a7dd9a9bf98ede05",
     "locked": true,
     "schema_version": 3,
     "solution": false,
     "task": false
    }
   },
   "source": [
    "---\n",
    "\n",
    "You can see a brief description of each file in the dataset by looking at the README file:"
   ]
  },
  {
   "cell_type": "code",
   "execution_count": 3,
   "metadata": {
    "cell_id": "00007-95c07c75-3366-4db7-b32e-1d9903085e53",
    "deepnote_cell_height": 487,
    "deepnote_cell_type": "code",
    "deepnote_to_be_reexecuted": false,
    "deletable": false,
    "editable": false,
    "execution_millis": 27,
    "execution_start": 1645186528514,
    "nbgrader": {
     "cell_type": "code",
     "checksum": "cb3c9a2b8b2bf4fd5b7446b0c4c00f43",
     "grade": false,
     "grade_id": "cell-9b6ff1a17124711f",
     "locked": true,
     "schema_version": 3,
     "solution": false,
     "task": false
    },
    "source_hash": "4c0f03ad"
   },
   "outputs": [
    {
     "name": "stdout",
     "output_type": "stream",
     "text": [
      "Files in this directory with sizes:\n",
      "          0 Jun 19 21:01 README\n",
      "\n",
      "    2187734 Jun 19 20:55 cacm.all              text of documents\n",
      "        626 Jun 19 20:58 cite.info             key to citation info\n",
      "                                                (the X sections in cacm.all)\n",
      "       2668 Jun 19 20:55 common_words           stop words used by smart\n",
      "       2194 Jun 19 20:55 make_coll*             shell script to make collection\n",
      "       1557 Jun 19 20:55 make_coll_term*        ditto (both useless without\n",
      "                                                smart system)\n",
      "       9948 Jun 19 20:55 qrels.text             relation giving\n",
      "                                                    qid did 0 0\n",
      "                                                to indicate dument did is\n",
      "                                                relevant to query qid\n",
      "      13689 Jun 19 20:55 query.text             Original text of the query\n",
      "\n"
     ]
    }
   ],
   "source": [
    "##### Read the README file\n",
    "with open(\"./datasets/README\", \"r\") as file:\n",
    "    readme = file.read()\n",
    "    print(readme)\n",
    "#####"
   ]
  },
  {
   "cell_type": "markdown",
   "metadata": {
    "cell_id": "00008-c7944957-2e0e-4d0f-be8e-5b5b0a07c4e0",
    "deepnote_cell_height": 180,
    "deepnote_cell_type": "markdown",
    "deletable": false,
    "editable": false,
    "nbgrader": {
     "cell_type": "markdown",
     "checksum": "6e2712c4c4632bf7486a532f7f18074d",
     "grade": false,
     "grade_id": "cell-73351431869fda76",
     "locked": true,
     "schema_version": 3,
     "solution": false,
     "task": false
    }
   },
   "source": [
    "---\n",
    "We are interested in 4 files:\n",
    "- `cacm.all` : Contains the text for all documents. Note that some documents do not have abstracts available\n",
    "- `query.text` : The text of all queries\n",
    "- `qrels.text` : The relevance judgements\n",
    "- `common_words` : A list of common words. This may be used as a collection of stopwords"
   ]
  },
  {
   "cell_type": "code",
   "execution_count": 4,
   "metadata": {
    "cell_id": "00009-e25d351e-8873-4762-a7b4-b03b83e9e5bb",
    "deepnote_cell_height": 845,
    "deepnote_cell_type": "code",
    "deepnote_to_be_reexecuted": false,
    "deletable": false,
    "editable": false,
    "execution_millis": 26,
    "execution_start": 1645186528538,
    "nbgrader": {
     "cell_type": "code",
     "checksum": "f1162c15177eb4ffe466531d03cff4a2",
     "grade": false,
     "grade_id": "cell-b44dd14079f278ca",
     "locked": true,
     "schema_version": 3,
     "solution": false,
     "task": false
    },
    "source_hash": "febb8f7d"
   },
   "outputs": [
    {
     "name": "stdout",
     "output_type": "stream",
     "text": [
      ".I 1\n",
      ".T\n",
      "Preliminary Report-International Algebraic Language\n",
      ".B\n",
      "CACM December, 1958\n",
      ".A\n",
      "Perlis, A. J.\n",
      "Samelson,K.\n",
      ".N\n",
      "CA581203 JB March 22, 1978  8:28 PM\n",
      ".X\n",
      "100\t5\t1\n",
      "123\t5\t1\n",
      "164\t5\t1\n",
      "1\t5\t1\n",
      "1\t5\t1\n",
      "1\t5\t1\n",
      "205\t5\t1\n",
      "210\t5\t1\n",
      "214\t5\t1\n",
      "1982\t5\t1\n",
      "398\t5\t1\n",
      "642\t5\t1\n",
      "669\t5\t1\n",
      "1\t6\t1\n",
      "1\t6\t1\n",
      "1\t6\t1\n",
      "1\t6\t1\n",
      "1\t6\t1\n",
      "1\t6\t1\n",
      "1\t6\t1\n",
      "1\t6\t1\n",
      "1\t6\t1\n",
      "1\t6\t1\n",
      "165\t6\t1\n",
      "196\t6\t1\n",
      "196\t6\t1\n",
      "1273\t6\t1\n",
      "1883\t6\t1\n",
      "324\t6\t1\n",
      "43\t6\t1\n",
      "53\t6\t1\n",
      "91\t6\t1\n",
      "410\t6\t1\n",
      "3184\t6\t1\n",
      "\n"
     ]
    }
   ],
   "source": [
    "##### The first 45 lines of the CACM dataset forms the first record\n",
    "# We are interested only in 3 fields.\n",
    "# 1. the '.I' field, which is the document id\n",
    "# 2. the '.T' field (the title) and\n",
    "# 3. the '.W' field (the abstract, which may be absent)\n",
    "with open(\"./datasets/cacm.all\", \"r\") as file:\n",
    "    cacm_all = \"\".join(file.readlines()[:45])\n",
    "    print(cacm_all)\n",
    "#####"
   ]
  },
  {
   "cell_type": "markdown",
   "metadata": {
    "cell_id": "00010-d7f469bf-422b-4c8f-b6c8-a7fd61a967cb",
    "deepnote_cell_height": 75.796875,
    "deepnote_cell_type": "markdown",
    "deletable": false,
    "editable": false,
    "nbgrader": {
     "cell_type": "markdown",
     "checksum": "250b413baccd8efb186bb46a34ae0060",
     "grade": false,
     "grade_id": "cell-c4bf2e263ec553d8",
     "locked": true,
     "schema_version": 3,
     "solution": false,
     "task": false
    }
   },
   "source": [
    "---\n",
    "\n",
    "The following function reads the `cacm.all` file. Note that each document has a variable number of lines. The `.I` field denotes a new document:"
   ]
  },
  {
   "cell_type": "code",
   "execution_count": 5,
   "metadata": {
    "cell_id": "00011-d8ec70b0-a73d-4fdc-a8a5-9f3fb8f3ba22",
    "deepnote_cell_height": 1017,
    "deepnote_cell_type": "code",
    "deepnote_to_be_reexecuted": false,
    "deletable": false,
    "editable": false,
    "execution_millis": 0,
    "execution_start": 1645186528613,
    "nbgrader": {
     "cell_type": "code",
     "checksum": "57d757e6a7a6938740dc899022b4f291",
     "grade": false,
     "grade_id": "cell-b736116eb419c624",
     "locked": true,
     "schema_version": 3,
     "solution": false,
     "task": false
    },
    "source_hash": "fa1cfb4d"
   },
   "outputs": [],
   "source": [
    "def read_cacm_docs(root_folder=\"./datasets/\"):\n",
    "    \"\"\"\n",
    "    Reads in the CACM documents. The dataset is assumed to be in the folder \"./datasets/\" by default\n",
    "    Returns: A list of 2-tuples: (doc_id, document), where 'document' is a single string created by\n",
    "        appending the title and abstract (separated by a \"\\n\").\n",
    "        In case the record doesn't have an abstract, the document is composed only by the title\n",
    "    \"\"\"\n",
    "    with open(os.path.join(root_folder, \"cacm.all\")) as reader:\n",
    "        lines = reader.readlines()\n",
    "\n",
    "    doc_id, title, abstract = None, None, None\n",
    "\n",
    "    docs = []\n",
    "    line_idx = 0\n",
    "    while line_idx < len(lines):\n",
    "        line = lines[line_idx]\n",
    "        if line.startswith(\".I\"):\n",
    "            if doc_id is not None:\n",
    "                docs.append((doc_id, title, abstract))\n",
    "                doc_id, title, abstract = None, None, None\n",
    "\n",
    "            doc_id = line.split()[-1]\n",
    "            line_idx += 1\n",
    "        elif line.startswith(\".T\"):\n",
    "            # start at next line\n",
    "            line_idx += 1\n",
    "            temp_lines = []\n",
    "            # read till next '.'\n",
    "            while not lines[line_idx].startswith(\".\"):\n",
    "                temp_lines.append(lines[line_idx].strip(\"\\n\"))\n",
    "                line_idx += 1\n",
    "            title = \"\\n\".join(temp_lines).strip(\"\\n\")\n",
    "        elif line.startswith(\".W\"):\n",
    "            # start at next line\n",
    "            line_idx += 1\n",
    "            temp_lines = []\n",
    "            # read till next '.'\n",
    "            while not lines[line_idx].startswith(\".\"):\n",
    "                temp_lines.append(lines[line_idx].strip(\"\\n\"))\n",
    "                line_idx += 1\n",
    "            abstract = \"\\n\".join(temp_lines).strip(\"\\n\")\n",
    "        else:\n",
    "            line_idx += 1\n",
    "\n",
    "    docs.append((doc_id, title, abstract))\n",
    "\n",
    "    p_docs = []\n",
    "    for (did, t, a) in docs:\n",
    "        if a is None:\n",
    "            a = \"\"\n",
    "        p_docs.append((did, t + \"\\n\" + a))\n",
    "    return p_docs"
   ]
  },
  {
   "cell_type": "code",
   "execution_count": 6,
   "metadata": {
    "cell_id": "00012-13ff3a4b-46f3-4ca8-bc11-8b0c7a9e7c37",
    "deepnote_cell_height": 243,
    "deepnote_cell_type": "code",
    "deepnote_to_be_reexecuted": false,
    "deletable": false,
    "editable": false,
    "execution_millis": 278,
    "execution_start": 1645186528614,
    "nbgrader": {
     "cell_type": "code",
     "checksum": "2f81930fcd89670b6e20e2255e1f2369",
     "grade": false,
     "grade_id": "cell-a1c43818e0d3fd79",
     "locked": true,
     "schema_version": 3,
     "solution": false,
     "task": false
    },
    "source_hash": "2097c72a"
   },
   "outputs": [],
   "source": [
    "##### Function check\n",
    "docs = read_cacm_docs()\n",
    "\n",
    "assert isinstance(docs, list)\n",
    "assert len(docs) == 3204, \"There should be exactly 3204 documents\"\n",
    "\n",
    "unzipped_docs = list(zip(*docs))\n",
    "assert np.sum(np.array(list(map(int, unzipped_docs[0])))) == 5134410\n",
    "\n",
    "#####"
   ]
  },
  {
   "cell_type": "markdown",
   "metadata": {
    "cell_id": "00013-1ff4fce0-2fe6-4b49-b16d-b5c203b29a47",
    "deepnote_cell_height": 102,
    "deepnote_cell_type": "markdown",
    "deletable": false,
    "editable": false,
    "nbgrader": {
     "cell_type": "markdown",
     "checksum": "25fd3cfaf2137c56002b850699b3c9d3",
     "grade": false,
     "grade_id": "cell-5ed2ddc91f73c60e",
     "locked": true,
     "schema_version": 3,
     "solution": false,
     "task": false
    }
   },
   "source": [
    "---\n",
    "### 1.2 Read the CACM queries\n",
    "\n",
    "Next, let us read the queries. They are formatted similarly:"
   ]
  },
  {
   "cell_type": "code",
   "execution_count": 7,
   "metadata": {
    "cell_id": "00014-0bdc1ebf-91a6-4e65-8ced-22256899c96d",
    "deepnote_cell_height": 484.8125,
    "deepnote_cell_type": "code",
    "deepnote_to_be_reexecuted": false,
    "deletable": false,
    "editable": false,
    "execution_millis": 705,
    "execution_start": 1645186528932,
    "nbgrader": {
     "cell_type": "code",
     "checksum": "5d26c0908e758acb9968b84056b1060a",
     "grade": false,
     "grade_id": "cell-5c7e8e7c4fc2757f",
     "locked": true,
     "schema_version": 3,
     "solution": false,
     "task": false
    },
    "source_hash": "77367602"
   },
   "outputs": [
    {
     "name": "stdout",
     "output_type": "stream",
     "text": [
      ".I 1\n",
      ".W\n",
      " What articles exist which deal with TSS (Time Sharing System), an\n",
      "operating system for IBM computers?\n",
      ".N\n",
      " 1. Richard Alexander, Comp Serv, Langmuir Lab (TSS)\n",
      " \n",
      ".I 2\n",
      ".W\n",
      " I am interested in articles written either by Prieve or Udo Pooch\n",
      ".A\n",
      "Prieve, B.\n",
      "Pooch, U.\n",
      ".N\n",
      " 2. Richard Alexander, Comp Serv, Langmuir Lab (author = Pooch or Prieve)\n"
     ]
    }
   ],
   "source": [
    "##### The first 15 lines of 'query.text' has 2 queries\n",
    "# We are interested only in 2 fields.\n",
    "# 1. the '.I' - the query id\n",
    "# 2. the '.W' - the query\n",
    "!head -15 ./datasets/query.text\n",
    "#####"
   ]
  },
  {
   "cell_type": "markdown",
   "metadata": {
    "cell_id": "00015-eceaa8fc-26fc-4d4d-b03e-7eb44f7e89f3",
    "deepnote_cell_height": 73,
    "deepnote_cell_type": "markdown",
    "deletable": false,
    "editable": false,
    "nbgrader": {
     "cell_type": "markdown",
     "checksum": "8f19f311a660f30e3f86cb0f7037d54a",
     "grade": false,
     "grade_id": "cell-88e293507d2dcef6",
     "locked": true,
     "schema_version": 3,
     "solution": false,
     "task": false
    }
   },
   "source": [
    "---\n",
    "\n",
    "The following function reads the `query.text` file:"
   ]
  },
  {
   "cell_type": "code",
   "execution_count": 8,
   "metadata": {
    "cell_id": "00016-2445d62c-60c0-4d48-a540-37dbb0d76726",
    "deepnote_cell_height": 711,
    "deepnote_cell_type": "code",
    "deepnote_to_be_reexecuted": false,
    "deletable": false,
    "editable": false,
    "execution_millis": 26,
    "execution_start": 1645186529390,
    "nbgrader": {
     "cell_type": "code",
     "checksum": "e3fbb193211007672849487f5cff1664",
     "grade": false,
     "grade_id": "cell-433e3ad5d0e2572a",
     "locked": true,
     "schema_version": 3,
     "solution": false,
     "task": false
    },
    "source_hash": "2d5784f8"
   },
   "outputs": [],
   "source": [
    "def read_queries(root_folder=\"./datasets/\"):\n",
    "    \"\"\"\n",
    "    Reads in the CACM queries. The dataset is assumed to be in the folder \"./datasets/\" by default\n",
    "    Returns: A list of 2-tuples: (query_id, query)\n",
    "    \"\"\"\n",
    "    with open(os.path.join(root_folder, \"query.text\")) as reader:\n",
    "        lines = reader.readlines()\n",
    "\n",
    "    query_id, query = None, None\n",
    "\n",
    "    queries = []\n",
    "    line_idx = 0\n",
    "    while line_idx < len(lines):\n",
    "        line = lines[line_idx]\n",
    "        if line.startswith(\".I\"):\n",
    "            if query_id is not None:\n",
    "                queries.append((query_id, query))\n",
    "                query_id, query = None, None\n",
    "\n",
    "            query_id = line.split()[-1]\n",
    "            line_idx += 1\n",
    "        elif line.startswith(\".W\"):\n",
    "            # start at next line\n",
    "            line_idx += 1\n",
    "            temp_lines = []\n",
    "            # read till next '.'\n",
    "            while not lines[line_idx].startswith(\".\"):\n",
    "                temp_lines.append(lines[line_idx].strip(\"\\n\"))\n",
    "                line_idx += 1\n",
    "            query = \"\\n\".join(temp_lines).strip(\"\\n\")\n",
    "        else:\n",
    "            line_idx += 1\n",
    "\n",
    "    queries.append((query_id, query))\n",
    "    return queries"
   ]
  },
  {
   "cell_type": "code",
   "execution_count": 9,
   "metadata": {
    "cell_id": "00017-dc95abe6-036f-4502-89fe-db249a8bbfc4",
    "deepnote_cell_height": 243,
    "deepnote_cell_type": "code",
    "deepnote_to_be_reexecuted": false,
    "deletable": false,
    "editable": false,
    "execution_millis": 12,
    "execution_start": 1645186529424,
    "nbgrader": {
     "cell_type": "code",
     "checksum": "a897b9771b54f447be3418d7246fc4a0",
     "grade": false,
     "grade_id": "cell-6ec540abce66c598",
     "locked": true,
     "schema_version": 3,
     "solution": false,
     "task": false
    },
    "source_hash": "1e048f3c"
   },
   "outputs": [],
   "source": [
    "##### Function check\n",
    "queries = read_queries()\n",
    "\n",
    "assert isinstance(queries, list)\n",
    "assert len(queries) == 64 and all(\n",
    "    [q[1] is not None for q in queries]\n",
    "), \"There should be exactly 64 queries\"\n",
    "\n",
    "unzipped_queries = list(zip(*queries))\n",
    "assert np.sum(np.array(list(map(int, unzipped_queries[0])))) == 2080\n",
    "\n",
    "#####"
   ]
  },
  {
   "cell_type": "markdown",
   "metadata": {
    "cell_id": "00018-9cf3ea3e-f138-4fe8-b91b-c92620441832",
    "deepnote_cell_height": 101.390625,
    "deepnote_cell_type": "markdown",
    "deletable": false,
    "editable": false,
    "nbgrader": {
     "cell_type": "markdown",
     "checksum": "a300c41912ac63b239070b4c15c9f5c5",
     "grade": false,
     "grade_id": "cell-1c31569491d7b782",
     "locked": true,
     "schema_version": 3,
     "solution": false,
     "task": false
    }
   },
   "source": [
    "---\n",
    "### 1.3 Read the stop words\n",
    "\n",
    "We use the common words stored in `common_words`:"
   ]
  },
  {
   "cell_type": "code",
   "execution_count": 10,
   "metadata": {
    "cell_id": "00019-4761ff11-d8b4-4f7b-acbf-6d600cfb2ae6",
    "deepnote_cell_height": 329.875,
    "deepnote_cell_type": "code",
    "deepnote_to_be_reexecuted": false,
    "deletable": false,
    "editable": false,
    "execution_millis": 507,
    "execution_start": 1645186529451,
    "nbgrader": {
     "cell_type": "code",
     "checksum": "1ad6f5bae6a792504c1c8513ae5751ad",
     "grade": false,
     "grade_id": "cell-34bdb63461418a96",
     "locked": true,
     "schema_version": 3,
     "solution": false,
     "task": false
    },
    "source_hash": "dcdd806"
   },
   "outputs": [
    {
     "name": "stdout",
     "output_type": "stream",
     "text": [
      "a\n",
      "about\n",
      "above\n",
      "accordingly\n",
      "across\n",
      "after\n",
      "afterwards\n",
      "again\n",
      "against\n",
      "all\n"
     ]
    }
   ],
   "source": [
    "##### Read the stop words file\n",
    "!head ./datasets/common_words\n",
    "##### Read the README file"
   ]
  },
  {
   "cell_type": "markdown",
   "metadata": {
    "cell_id": "00020-069760f9-d798-4ad6-acfa-e7454a3c3a46",
    "deepnote_cell_height": 73,
    "deepnote_cell_type": "markdown",
    "deletable": false,
    "editable": false,
    "nbgrader": {
     "cell_type": "markdown",
     "checksum": "6d0fe612e770213b6397c2179b07a966",
     "grade": false,
     "grade_id": "cell-4744bde0338895d8",
     "locked": true,
     "schema_version": 3,
     "solution": false,
     "task": false
    }
   },
   "source": [
    "---\n",
    "\n",
    "The following function reads the `common_words` file (For better coverage, we try to keep them in lowercase):"
   ]
  },
  {
   "cell_type": "code",
   "execution_count": 11,
   "metadata": {
    "cell_id": "00021-51bc2922-72bf-4550-a4fb-c1867fa0e652",
    "deepnote_cell_height": 243,
    "deepnote_cell_type": "code",
    "deepnote_to_be_reexecuted": false,
    "deletable": false,
    "editable": false,
    "execution_millis": 9,
    "execution_start": 1645186529974,
    "nbgrader": {
     "cell_type": "code",
     "checksum": "9409713fd26eb0c33587e190638997c4",
     "grade": false,
     "grade_id": "cell-7357aa40f64e5bcb",
     "locked": true,
     "schema_version": 3,
     "solution": false,
     "task": false
    },
    "source_hash": "51ba1eb9"
   },
   "outputs": [],
   "source": [
    "def load_stopwords(root_folder=\"./datasets/\"):\n",
    "    \"\"\"\n",
    "    Loads the stopwords. The dataset is assumed to be in the folder \"./datasets/\" by default\n",
    "    Output: A set of stopwords\n",
    "    \"\"\"\n",
    "    with open(os.path.join(root_folder, \"common_words\")) as reader:\n",
    "        lines = reader.readlines()\n",
    "    stopwords = set([l.strip().lower() for l in lines])\n",
    "    return stopwords"
   ]
  },
  {
   "cell_type": "code",
   "execution_count": 12,
   "metadata": {
    "cell_id": "00022-dda7ebba-cd50-496a-94a3-6c8873e6ba02",
    "deepnote_cell_height": 243,
    "deepnote_cell_type": "code",
    "deepnote_to_be_reexecuted": false,
    "deletable": false,
    "editable": false,
    "execution_millis": 13,
    "execution_start": 1645186529993,
    "lines_to_next_cell": 2,
    "nbgrader": {
     "cell_type": "code",
     "checksum": "f1c8153c3c38133bc2db6e7b076ad470",
     "grade": false,
     "grade_id": "cell-2ca3ac162004de97",
     "locked": true,
     "schema_version": 3,
     "solution": false,
     "task": false
    },
    "source_hash": "9447931d"
   },
   "outputs": [],
   "source": [
    "##### Function check\n",
    "stopwords = load_stopwords()\n",
    "\n",
    "assert isinstance(stopwords, set)\n",
    "assert len(stopwords) == 428, \"There should be exactly 428 stop words\"\n",
    "\n",
    "assert np.sum(np.array(list(map(len, stopwords)))) == 2234\n",
    "\n",
    "#####"
   ]
  },
  {
   "cell_type": "markdown",
   "metadata": {
    "cell_id": "00023-02a21236-0c4b-4910-9573-63f1698beaf3",
    "deepnote_cell_height": 145,
    "deepnote_cell_type": "markdown",
    "deletable": false,
    "editable": false,
    "nbgrader": {
     "cell_type": "markdown",
     "checksum": "92c1191e9e7291dcf0d70dc67b907a65",
     "grade": false,
     "grade_id": "cell-134b72872f4300cb",
     "locked": true,
     "schema_version": 3,
     "solution": false,
     "task": false
    }
   },
   "source": [
    "---\n",
    "### 1.4 Tokenization (3 points)\n",
    "\n",
    "We can now write some basic text processing functions.\n",
    "A first step is to tokenize the text.\n",
    "\n",
    "**Note**: Use the  `WordPunctTokenizer` available in the `nltk` library:"
   ]
  },
  {
   "cell_type": "code",
   "execution_count": 13,
   "metadata": {
    "cell_id": "00024-20a3377b-ad24-430a-82d5-e091938ed1fd",
    "deepnote_cell_height": 261,
    "deepnote_cell_type": "code",
    "deepnote_to_be_reexecuted": false,
    "deletable": false,
    "execution_millis": 11,
    "execution_start": 1645186530014,
    "nbgrader": {
     "cell_type": "code",
     "checksum": "3f5564d3c75bf22fbf832b3a9b938f37",
     "grade": false,
     "grade_id": "cell-322be4c9499bdc4b",
     "locked": false,
     "schema_version": 3,
     "solution": true,
     "task": false
    },
    "source_hash": "bd78cb4e"
   },
   "outputs": [],
   "source": [
    "# TODO: Implement this! (4 points)\n",
    "def tokenize(text):\n",
    "    \"\"\"\n",
    "    Tokenizes the input text. Use the WordPunctTokenizer\n",
    "    Input: text - a string\n",
    "    Output: a list of tokens\n",
    "    \"\"\"\n",
    "    # YOUR CODE HERE\n",
    "\n",
    "    tk = nltk.WordPunctTokenizer()\n",
    "    return tk.tokenize(text)"
   ]
  },
  {
   "cell_type": "code",
   "execution_count": 14,
   "metadata": {
    "cell_id": "00025-0c49633e-d8dd-4c28-ac8d-9576e19b544d",
    "deepnote_cell_height": 274.1875,
    "deepnote_cell_type": "code",
    "deepnote_to_be_reexecuted": false,
    "deletable": false,
    "editable": false,
    "execution_millis": 54,
    "execution_start": 1645186530041,
    "nbgrader": {
     "cell_type": "code",
     "checksum": "e15af22c4d8ae0a3f9dac43bef7097ec",
     "grade": true,
     "grade_id": "cell-7fbf48bf7541a622",
     "locked": true,
     "points": 3,
     "schema_version": 3,
     "solution": false,
     "task": false
    },
    "source_hash": "f61c33ef"
   },
   "outputs": [
    {
     "name": "stdout",
     "output_type": "stream",
     "text": [
      "['the', 'quick', 'brown', 'fox', 'jumps', 'over', 'the', 'lazy', 'dog']\n"
     ]
    }
   ],
   "source": [
    "##### Function check\n",
    "text = \"the quick brown fox jumps over the lazy dog\"\n",
    "tokens = tokenize(text)\n",
    "\n",
    "assert isinstance(tokens, list)\n",
    "assert len(tokens) == 9\n",
    "\n",
    "print(tokens)\n",
    "# output: ['the', 'quick', 'brown', 'fox', 'jumps', 'over', 'the', 'lazy', 'dog']\n",
    "#####"
   ]
  },
  {
   "cell_type": "markdown",
   "metadata": {
    "cell_id": "00026-a6caa299-880e-4184-b7bd-5732cfcf3e9c",
    "deepnote_cell_height": 109,
    "deepnote_cell_type": "markdown",
    "deletable": false,
    "editable": false,
    "nbgrader": {
     "cell_type": "markdown",
     "checksum": "34210618bff4cb47aad2f03cb4b9854c",
     "grade": false,
     "grade_id": "cell-fd1b98ae61b697ca",
     "locked": true,
     "schema_version": 3,
     "solution": false,
     "task": false
    }
   },
   "source": [
    "---\n",
    "### 1.5 Stemming (2 points)\n",
    "\n",
    "Write a function to stem tokens.\n",
    "Again, you can use the nltk library for this:"
   ]
  },
  {
   "cell_type": "code",
   "execution_count": 15,
   "metadata": {
    "cell_id": "00027-57678786-6fcf-4e83-b285-1e3a44cb6ecb",
    "deepnote_cell_height": 225,
    "deepnote_cell_type": "code",
    "deepnote_to_be_reexecuted": false,
    "deletable": false,
    "execution_millis": 0,
    "execution_start": 1645186530093,
    "nbgrader": {
     "cell_type": "code",
     "checksum": "1c4a6aa979d66158c7b6b992af43293a",
     "grade": false,
     "grade_id": "cell-e3f6c8e3f874b28d",
     "locked": false,
     "schema_version": 3,
     "solution": true,
     "task": false
    },
    "source_hash": "e2a034fd"
   },
   "outputs": [],
   "source": [
    "# TODO: Implement this! (3 points)\n",
    "def stem_token(token):\n",
    "    \"\"\"\n",
    "    Stems the given token using the PorterStemmer from the nltk library\n",
    "    Input: a single token\n",
    "    Output: the stem of the token\n",
    "    \"\"\"\n",
    "    stemmer = nltk.stem.PorterStemmer()\n",
    "    return stemmer.stem(token)"
   ]
  },
  {
   "cell_type": "code",
   "execution_count": 16,
   "metadata": {
    "cell_id": "00028-4d95bdd0-4345-4198-aa73-21d2d2ec2b85",
    "deepnote_cell_height": 153,
    "deepnote_cell_type": "code",
    "deepnote_to_be_reexecuted": false,
    "deletable": false,
    "editable": false,
    "execution_millis": 0,
    "execution_start": 1645186530094,
    "nbgrader": {
     "cell_type": "code",
     "checksum": "9363b4f09b556d424d9c895d4ab57b1c",
     "grade": true,
     "grade_id": "cell-cd6863e6ee6ed205",
     "locked": true,
     "points": 2,
     "schema_version": 3,
     "solution": false,
     "task": false
    },
    "source_hash": "3fc993b6"
   },
   "outputs": [],
   "source": [
    "##### Function check\n",
    "\n",
    "assert stem_token(\"owned\") == \"own\"\n",
    "assert stem_token(\"itemization\") == \"item\"\n",
    "#####"
   ]
  },
  {
   "cell_type": "markdown",
   "metadata": {
    "cell_id": "00029-e536d93c-8362-48e7-bfc2-906702746aef",
    "deepnote_cell_height": 123.796875,
    "deepnote_cell_type": "markdown",
    "deletable": false,
    "editable": false,
    "nbgrader": {
     "cell_type": "markdown",
     "checksum": "0b311d014146da6afa1d39542fab9869",
     "grade": false,
     "grade_id": "cell-47c9f90498699110",
     "locked": true,
     "schema_version": 3,
     "solution": false,
     "task": false
    }
   },
   "source": [
    "---\n",
    "### 1.6 Summary\n",
    "\n",
    "The following function puts it all together. Given an input string, this functions tokenizes and processes it according to the flags that you set."
   ]
  },
  {
   "cell_type": "code",
   "execution_count": 17,
   "metadata": {
    "cell_id": "00030-31b7404f-596c-4622-9100-0bc4ab089ea7",
    "deepnote_cell_height": 333,
    "deepnote_cell_type": "code",
    "deepnote_to_be_reexecuted": false,
    "deletable": false,
    "editable": false,
    "execution_millis": 0,
    "execution_start": 1645186530137,
    "lines_to_next_cell": 2,
    "nbgrader": {
     "cell_type": "code",
     "checksum": "2ff2d215ee8e0039c5a91fd3de12e6bd",
     "grade": false,
     "grade_id": "cell-dd0d3f46b30801da",
     "locked": true,
     "schema_version": 3,
     "solution": false,
     "task": false
    },
    "source_hash": "c4811d1d"
   },
   "outputs": [],
   "source": [
    "#### Putting it all together\n",
    "def process_text(text, stem=False, remove_stopwords=False, lowercase_text=False):\n",
    "\n",
    "    tokens = []\n",
    "    for token in tokenize(text):\n",
    "        if remove_stopwords and token.lower() in stopwords:\n",
    "            continue\n",
    "        if stem:\n",
    "            token = stem_token(token)\n",
    "        if lowercase_text:\n",
    "            token = token.lower()\n",
    "        tokens.append(token)\n",
    "\n",
    "    return tokens\n",
    "\n",
    "\n",
    "####"
   ]
  },
  {
   "cell_type": "markdown",
   "metadata": {
    "cell_id": "00031-9539610f-160b-4b6d-a351-9bd434d6c9ea",
    "deepnote_cell_height": 91,
    "deepnote_cell_type": "markdown",
    "deletable": false,
    "editable": false,
    "nbgrader": {
     "cell_type": "markdown",
     "checksum": "02d433b18eb43654fa4306a7bf55b190",
     "grade": false,
     "grade_id": "cell-8d885bfd2edd43ae",
     "locked": true,
     "schema_version": 3,
     "solution": false,
     "task": false
    }
   },
   "source": [
    "---\n",
    "\n",
    "Let's create two sets of preprocessed documents.\n",
    "We can process the documents and queries according to these two configurations:"
   ]
  },
  {
   "cell_type": "code",
   "execution_count": 18,
   "metadata": {
    "cell_id": "00032-c5510010-2967-4ace-b12f-1e9e8118e3b4",
    "deepnote_cell_height": 513,
    "deepnote_cell_type": "code",
    "deepnote_to_be_reexecuted": false,
    "deletable": false,
    "editable": false,
    "execution_millis": 7882,
    "execution_start": 1645186530149,
    "nbgrader": {
     "cell_type": "code",
     "checksum": "dbe4ca667be6842fdcf512fbcad50c7f",
     "grade": false,
     "grade_id": "cell-d427365ee0fb21d8",
     "locked": true,
     "schema_version": 3,
     "solution": false,
     "task": false
    },
    "source_hash": "f953b790"
   },
   "outputs": [],
   "source": [
    "# In this configuration:\n",
    "# Don't preprocess the text, except to tokenize\n",
    "config_1 = {\"stem\": False, \"remove_stopwords\": False, \"lowercase_text\": True}\n",
    "\n",
    "\n",
    "# In this configuration:\n",
    "# Preprocess the text, stem and remove stopwords\n",
    "config_2 = {\n",
    "    \"stem\": True,\n",
    "    \"remove_stopwords\": True,\n",
    "    \"lowercase_text\": True,\n",
    "}\n",
    "\n",
    "####\n",
    "doc_repr_1 = []\n",
    "doc_repr_2 = []\n",
    "for (doc_id, document) in docs:\n",
    "    doc_repr_1.append((doc_id, process_text(document, **config_1)))\n",
    "    doc_repr_2.append((doc_id, process_text(document, **config_2)))\n",
    "\n",
    "####"
   ]
  },
  {
   "cell_type": "markdown",
   "metadata": {
    "cell_id": "00033-f33e20e5-c218-4e92-9c23-845b4e42997e",
    "deepnote_cell_height": 415,
    "deepnote_cell_type": "markdown",
    "deletable": false,
    "editable": false,
    "nbgrader": {
     "cell_type": "markdown",
     "checksum": "b60589aac19e80941d860d9b3f1e9a16",
     "grade": false,
     "grade_id": "cell-b1c102db61ae7495",
     "locked": true,
     "schema_version": 3,
     "solution": false,
     "task": false
    }
   },
   "source": [
    "---\n",
    "\n",
    "## Section 2: Indexing (10 points)<a class=\"anchor\" id=\"indexing\"></a>\n",
    "\n",
    "[Back to Part 1](#part1)\n",
    "\n",
    "\n",
    "\n",
    "A retrieval function usually takes in a query document pair, and scores a query against a document.  Our document set is quite small - just a few thousand documents. However, consider a web-scale dataset with a few million documents. In such a scenario, it would become infeasible to score every query and document pair. In such a case, we can build an inverted index. From Wikipedia:\n",
    "\n",
    "> ... , an inverted index (also referred to as a postings file or inverted file) is a database index storing a mapping from content, such as words or numbers, to its locations in a table, .... The purpose of an inverted index is to allow fast full-text searches, at a cost of increased processing when a document is added to the database. ...\n",
    "\n",
    "\n",
    "Consider a simple inverted index, which maps from word to document. This can improve the performance of a retrieval system significantly. In this assignment, we consider a *simple* inverted index, which maps a word to a set of documents. In practice, however, more complex indices might be used.\n"
   ]
  },
  {
   "cell_type": "markdown",
   "metadata": {
    "cell_id": "00034-e0be6b84-2eca-463d-9411-0a876fee2070",
    "deepnote_cell_height": 181.59375,
    "deepnote_cell_type": "markdown",
    "deletable": false,
    "editable": false,
    "nbgrader": {
     "cell_type": "markdown",
     "checksum": "710fd943f45523ac36fcb887cc0d4d39",
     "grade": false,
     "grade_id": "cell-fa373192c1b7bb95",
     "locked": true,
     "schema_version": 3,
     "solution": false,
     "task": false
    }
   },
   "source": [
    "### 2.1 Term Frequency-index (10 points)\n",
    "In this assignment, we will be using an index created in memory since our dataset is tiny. To get started, build a simple index that maps each `token` to a list of `(doc_id, count)` where `count` is the count of the `token` in `doc_id`.\n",
    "For consistency, build this index using a python dictionary.\n",
    "\n",
    "Now, implement a function to build an index:"
   ]
  },
  {
   "cell_type": "code",
   "execution_count": 19,
   "metadata": {
    "cell_id": "00035-e27ae026-b063-450a-8cb5-6336175b5cb0",
    "deepnote_cell_height": 495,
    "deepnote_cell_type": "code",
    "deepnote_to_be_reexecuted": false,
    "deletable": false,
    "execution_millis": 8,
    "execution_start": 1645186538048,
    "nbgrader": {
     "cell_type": "code",
     "checksum": "d4e8c6b658c469379d5fe511de05b536",
     "grade": false,
     "grade_id": "cell-077599b87e953209",
     "locked": false,
     "schema_version": 3,
     "solution": true,
     "task": false
    },
    "source_hash": "b7da36f"
   },
   "outputs": [],
   "source": [
    "# need defaultdict to handle cases when queried word is missing from our documents\n",
    "# https://piazza.com/class/kyiksrdfk0b6te?cid=38\n",
    "# https://piazza.com/class/kyiksrdfk0b6te?cid=39\n",
    "from collections import defaultdict\n",
    "\n",
    "# TODO: Implement this! (10 points)\n",
    "def build_tf_index(documents):\n",
    "    \"\"\"\n",
    "    Build an inverted index (with counts).\n",
    "    The output is a dictionary which takes in a token and\n",
    "    returns a list of (doc_id, count)\n",
    "    where 'count' is the count of the 'token' in 'doc_id'\n",
    "\n",
    "    Input: a list of documents - (doc_id, tokens)\n",
    "    Output: An inverted index implemented within a pyhton dictionary:\n",
    "        [token] -> [(doc_id, token_count)]\n",
    "    \"\"\"\n",
    "    # YOUR CODE HERE\n",
    "    tf_index = defaultdict(list)\n",
    "    for doc_id, tokens in documents:\n",
    "        tokens_set = set(tokens)\n",
    "        for token in tokens_set:\n",
    "            tf_index[token].append((doc_id, tokens.count(token)))\n",
    "    return tf_index"
   ]
  },
  {
   "cell_type": "markdown",
   "metadata": {
    "cell_id": "00036-4124a1b7-00df-4a57-861c-2e9cd705ce17",
    "deepnote_cell_height": 55,
    "deepnote_cell_type": "markdown",
    "deletable": false,
    "editable": false,
    "nbgrader": {
     "cell_type": "markdown",
     "checksum": "15e7041b4323d2a290322de538ff7670",
     "grade": false,
     "grade_id": "cell-093aebfa504f96f2",
     "locked": true,
     "schema_version": 3,
     "solution": false,
     "task": false
    }
   },
   "source": [
    "---\n",
    "Now we can build indexed documents and preprocess the queries based on the two configurations:"
   ]
  },
  {
   "cell_type": "code",
   "execution_count": 20,
   "metadata": {
    "cell_id": "00037-db077994-3c24-4f9b-a642-d416e54c8d1e",
    "deepnote_cell_height": 531,
    "deepnote_cell_type": "code",
    "deepnote_to_be_reexecuted": false,
    "deletable": false,
    "editable": false,
    "execution_millis": 845,
    "execution_start": 1645186538116,
    "lines_to_next_cell": 2,
    "nbgrader": {
     "cell_type": "code",
     "checksum": "e27540c1d8d77a3779a05f557f3f40c6",
     "grade": false,
     "grade_id": "cell-b2ff1676348b90a8",
     "locked": true,
     "schema_version": 3,
     "solution": false,
     "task": false
    },
    "source_hash": "2d1fa9f3"
   },
   "outputs": [],
   "source": [
    "#### Indexed documents based on the two configs\n",
    "\n",
    "# Create the 2 indices\n",
    "tf_index_1 = build_tf_index(doc_repr_1)\n",
    "tf_index_2 = build_tf_index(doc_repr_2)\n",
    "\n",
    "# This function returns the tf_index of the corresponding config\n",
    "def get_index(index_set):\n",
    "    assert index_set in {1, 2}\n",
    "    return {1: tf_index_1, 2: tf_index_2}[index_set]\n",
    "\n",
    "\n",
    "####\n",
    "#### Preprocessed query based on the two configs\n",
    "\n",
    "# This function preprocesses the text given the index set, according to the specified config\n",
    "def preprocess_query(text, index_set):\n",
    "    assert index_set in {1, 2}\n",
    "    if index_set == 1:\n",
    "        return process_text(text, **config_1)\n",
    "    elif index_set == 2:\n",
    "        return process_text(text, **config_2)\n",
    "\n",
    "\n",
    "####"
   ]
  },
  {
   "cell_type": "code",
   "execution_count": 21,
   "metadata": {
    "cell_id": "00038-fb5a08f4-5f40-4923-a62b-02af9b853e1f",
    "deepnote_cell_height": 298.375,
    "deepnote_cell_type": "code",
    "deepnote_to_be_reexecuted": false,
    "deletable": false,
    "editable": false,
    "execution_millis": 11244305,
    "execution_start": 1645186538979,
    "nbgrader": {
     "cell_type": "code",
     "checksum": "f0cbc8703e1248cd6edf03f9019b69db",
     "grade": true,
     "grade_id": "cell-fc7c7232d5d2ee46",
     "locked": true,
     "points": 5,
     "schema_version": 3,
     "solution": false,
     "task": false
    },
    "source_hash": "2220f2b7"
   },
   "outputs": [
    {
     "name": "stdout",
     "output_type": "stream",
     "text": [
      "sample tf index for computer: [('4', 1), ('7', 1), ('10', 1), ('13', 1), ('19', 1), ('22', 1), ('23', 1), ('37', 1), ('40', 3), ('41', 1)]\n",
      "sample tf index for examples: [('111', 1), ('320', 1), ('644', 1), ('691', 1), ('727', 1), ('848', 1), ('892', 1), ('893', 1), ('1049', 1), ('1051', 1)]\n"
     ]
    }
   ],
   "source": [
    "##### Function check\n",
    "\n",
    "assert isinstance(tf_index_1, dict)\n",
    "\n",
    "assert isinstance(tf_index_1[\"computer\"], list)\n",
    "print(\"sample tf index for computer:\", tf_index_1[\"computer\"][:10])\n",
    "\n",
    "assert isinstance(tf_index_1[\"examples\"], list)\n",
    "print(\"sample tf index for examples:\", tf_index_1[\"examples\"][:10])\n",
    "####"
   ]
  },
  {
   "cell_type": "code",
   "execution_count": 22,
   "metadata": {
    "cell_id": "00039-0f63d80d-3d2c-4ed8-b1a3-ef57df6a812d",
    "deepnote_cell_height": 298.375,
    "deepnote_cell_type": "code",
    "deepnote_to_be_reexecuted": false,
    "deletable": false,
    "editable": false,
    "execution_millis": 11244324,
    "execution_start": 1645186539032,
    "nbgrader": {
     "cell_type": "code",
     "checksum": "d49b8ac36815d9a5cb4bed838ab53a50",
     "grade": true,
     "grade_id": "cell-ff06bd11204db250",
     "locked": true,
     "points": 5,
     "schema_version": 3,
     "solution": false,
     "task": false
    },
    "source_hash": "cfcc3871"
   },
   "outputs": [
    {
     "name": "stdout",
     "output_type": "stream",
     "text": [
      "sample tf index for computer: [('4', 1), ('7', 1), ('10', 1), ('13', 1), ('19', 1), ('22', 1), ('23', 1), ('37', 1), ('40', 3), ('41', 1)]\n",
      "sample tf index for examples: []\n"
     ]
    }
   ],
   "source": [
    "##### Function check\n",
    "\n",
    "assert isinstance(tf_index_2, dict)\n",
    "\n",
    "assert isinstance(tf_index_2[\"computer\"], list)\n",
    "print(\"sample tf index for computer:\", tf_index_1[\"computer\"][:10])\n",
    "\n",
    "assert isinstance(tf_index_2[\"examples\"], list)\n",
    "print(\"sample tf index for examples:\", tf_index_2[\"examples\"][:10])\n",
    "####"
   ]
  },
  {
   "cell_type": "markdown",
   "metadata": {
    "cell_id": "00040-06978f59-9c49-41bf-86fa-2ce4ff5666a1",
    "deepnote_cell_height": 493.59375,
    "deepnote_cell_type": "markdown",
    "deletable": false,
    "editable": false,
    "nbgrader": {
     "cell_type": "markdown",
     "checksum": "880b2ef3ca405f2af6e0667d2dc7a600",
     "grade": false,
     "grade_id": "cell-89eba71f04310291",
     "locked": true,
     "schema_version": 3,
     "solution": false,
     "task": false
    }
   },
   "source": [
    "\n",
    "---\n",
    "## Section 3: Ranking  (80 points) <a class=\"anchor\" id=\"ranking\"></a>\n",
    "\n",
    "[Back to Part 1](#part1)\n",
    "\n",
    "Now that we have cleaned and processed our dataset, we can start building simple IR systems.\n",
    "\n",
    "For now, we consider *simple* IR systems, which involve computing scores from the tokens present in the document/query. More advanced methods are covered in later assignments.\n",
    "\n",
    "We will implement the following methods in this section:\n",
    "- [Section 3.1: Bag of Words](#bow) (10 points)\n",
    "- [Section 3.2: TF-IDF](#tfidf) (15 points)\n",
    "- [Section 3.3: Query Likelihood Model](#qlm) (35 points)\n",
    "- [Section 3.4: BM25](#bm25) (20 points)\n",
    "\n",
    "*All search functions should be able to handle multiple words queries.*\n",
    "\n",
    "**Scoring policy:**\n",
    "Your implementations in this section are scored based on the expected performance of your ranking functions.\n",
    "You will get a full mark if your implementation meets the expected performance (measured by some evaluation metric).\n",
    "Otherwise, you may get partial credit.\n",
    "For example, if your *Bag of words* ranking function has 60% of expected performance, you will get 6 out of 10."
   ]
  },
  {
   "cell_type": "markdown",
   "metadata": {
    "cell_id": "00041-95b4f50b-25e3-4bfc-853e-458b38aa6f80",
    "deepnote_cell_height": 250.375,
    "deepnote_cell_type": "markdown",
    "deletable": false,
    "editable": false,
    "nbgrader": {
     "cell_type": "markdown",
     "checksum": "6c74e5061917358300c6e8085ec07864",
     "grade": false,
     "grade_id": "cell-3daf70a60e393adf",
     "locked": true,
     "schema_version": 3,
     "solution": false,
     "task": false
    }
   },
   "source": [
    "---\n",
    "\n",
    "### Section 3.1: Bag of Words (10 points)<a class=\"anchor\" id=\"bow\"></a>\n",
    "\n",
    "Probably the simplest IR model is the Bag of Words (BOW) model.\n",
    "Implement a function that scores and ranks all the documents against a query using this model.\n",
    "\n",
    "- For consistency, you should use the count of the token and **not** the binary indicator.\n",
    "- Use `float` type for the scores (even though the scores are integers in this case).\n",
    "- No normalization of the scores is necessary, as the ordering is what we are interested in.\n",
    "- If two documents have the same score, they can have any ordering: you are not required to disambiguate.\n"
   ]
  },
  {
   "cell_type": "code",
   "execution_count": 23,
   "metadata": {
    "cell_id": "00042-78747ee0-9c14-474c-ab83-0bb691fe4f4f",
    "deepnote_cell_height": 513,
    "deepnote_cell_type": "code",
    "deepnote_to_be_reexecuted": false,
    "deletable": false,
    "execution_millis": 11244305,
    "execution_start": 1645186539076,
    "nbgrader": {
     "cell_type": "code",
     "checksum": "fee4640e22bfc4f05eb958a675ef40e7",
     "grade": false,
     "grade_id": "cell-de9cf0459c4b9324",
     "locked": false,
     "schema_version": 3,
     "solution": true,
     "task": false
    },
    "source_hash": "15c8e32"
   },
   "outputs": [],
   "source": [
    "# TODO: Implement this! (10 points)\n",
    "def bow_search(query, index_set):\n",
    "    \"\"\"\n",
    "    Perform a search over all documents with the given query.\n",
    "    Note: You have to use the `get_index` function created in the previous cells\n",
    "    Input:\n",
    "        query - a (unprocessed) query\n",
    "        index_set - the index to use\n",
    "    Output: a list of (document_id, score),\n",
    "        sorted in descending relevance to the given query.\n",
    "    \"\"\"\n",
    "    index = get_index(index_set)\n",
    "    processed_query = preprocess_query(query, index_set)\n",
    "\n",
    "    # YOUR CODE HERE\n",
    "    # total count per document\n",
    "    documents = defaultdict(float)\n",
    "    for token in processed_query:\n",
    "        for document_id, token_count in index[token]:\n",
    "            # aggregate counts of this token across all documents\n",
    "            documents[document_id] += token_count\n",
    "    # convert documents to list and sort descending\n",
    "    documents = sorted(list(documents.items()), key=lambda x: x[1], reverse=True)\n",
    "    return documents"
   ]
  },
  {
   "cell_type": "code",
   "execution_count": 24,
   "metadata": {
    "cell_id": "00043-a779ed03-89a7-4a9b-8bf4-e356d3146ecd",
    "deepnote_cell_height": 225,
    "deepnote_cell_type": "code",
    "deepnote_to_be_reexecuted": false,
    "deletable": false,
    "editable": false,
    "execution_millis": 11244335,
    "execution_start": 1645186539129,
    "nbgrader": {
     "cell_type": "code",
     "checksum": "613524fbbf02b1d122c6611a71fbf11b",
     "grade": true,
     "grade_id": "cell-9f6aceae6dd9125f",
     "locked": true,
     "points": 2,
     "schema_version": 3,
     "solution": false,
     "task": false
    },
    "source_hash": "a4e9855b"
   },
   "outputs": [],
   "source": [
    "#### Function check\n",
    "\n",
    "test_bow = bow_search(\"how to implement bag of words search\", index_set=1)[:5]\n",
    "assert isinstance(test_bow, list)\n",
    "assert len(test_bow[0]) == 2\n",
    "assert isinstance(test_bow[0][0], str)\n",
    "assert isinstance(test_bow[0][1], float)\n",
    "\n",
    "####"
   ]
  },
  {
   "cell_type": "code",
   "execution_count": 25,
   "metadata": {
    "cell_id": "00044-8c0e39e0-03a8-42d9-88c0-9811823ca925",
    "deepnote_cell_height": 393.125,
    "deepnote_cell_type": "code",
    "deepnote_to_be_reexecuted": false,
    "deletable": false,
    "editable": false,
    "execution_millis": 11244410,
    "execution_start": 1645186539130,
    "lines_to_next_cell": 2,
    "nbgrader": {
     "cell_type": "code",
     "checksum": "9af20897659edb62fe77598483590500",
     "grade": true,
     "grade_id": "cell-4eed3abf233d9b58",
     "locked": true,
     "points": 2,
     "schema_version": 3,
     "solution": false,
     "task": false
    },
    "source_hash": "f3e133b9"
   },
   "outputs": [
    {
     "name": "stdout",
     "output_type": "stream",
     "text": [
      "BOW Results:\n",
      "Rank 0(1.3e+01): On Computing The Fast Fourier Transform\\nCooley an...\n",
      "Rank 1(1.2e+01): Variable Length Tree Structures Having Minimum Ave...\n",
      "Rank 2(1.1e+01): A Modular Computer Sharing System\\nAn alternative ...\n",
      "Rank 3(1e+01): PEEKABIT, Computer Offspring of Punched\\nCard PEEK...\n",
      "Rank 4(9.0): Computer Simulation-Discussion of the\\nTechnique a...\n"
     ]
    }
   ],
   "source": [
    "docs_by_id = dict(docs)\n",
    "\n",
    "\n",
    "def print_results(docs, len_limit=50):\n",
    "    for i, (doc_id, score) in enumerate(docs):\n",
    "        doc_content = (\n",
    "            docs_by_id[doc_id].strip().replace(\"\\n\", \"\\\\n\")[:len_limit] + \"...\"\n",
    "        )\n",
    "        print(f\"Rank {i}({score:.2}): {doc_content}\")\n",
    "\n",
    "\n",
    "test_bow_2 = bow_search(\"computer search word\", index_set=2)[:5]\n",
    "print(f\"BOW Results:\")\n",
    "print_results(test_bow_2)"
   ]
  },
  {
   "cell_type": "code",
   "execution_count": 26,
   "metadata": {
    "cell_id": "00045-c576132c-ae55-4ef4-bf93-365a98921a28",
    "deepnote_cell_height": 285.125,
    "deepnote_cell_type": "code",
    "deepnote_to_be_reexecuted": false,
    "deletable": false,
    "editable": false,
    "execution_millis": 2,
    "execution_start": 1645186539173,
    "lines_to_next_cell": 2,
    "nbgrader": {
     "cell_type": "code",
     "checksum": "3c9c8b16c8e7d1032f101e9da8a6e845",
     "grade": true,
     "grade_id": "cell-4d65a2d7090c466c",
     "locked": true,
     "points": 3,
     "schema_version": 3,
     "solution": false,
     "task": false
    },
    "source_hash": "76a29ddf"
   },
   "outputs": [
    {
     "name": "stdout",
     "output_type": "stream",
     "text": [
      "BOW Results:\n",
      "Rank 0(9.0): CURRICULUM 68 -- Recommendations for Academic\\nPro...\n",
      "Rank 1(9.0): Variable Length Tree Structures Having Minimum Ave...\n",
      "Rank 2(7.0): Computer Formulation of the Equations of Motion Us...\n",
      "Rank 3(7.0): The Effects of Multiplexing on a Computer-Communic...\n",
      "Rank 4(6.0): Optimizing Bit-time Computer Simulation\\nA major c...\n"
     ]
    }
   ],
   "source": [
    "test_bow_1 = bow_search(\"computer search word\", index_set=1)[:5]\n",
    "print(f\"BOW Results:\")\n",
    "print_results(test_bow_1)"
   ]
  },
  {
   "cell_type": "code",
   "execution_count": 27,
   "metadata": {
    "cell_id": "00046-5b571ae5-b918-4fbb-ad83-5d5d6669c906",
    "deepnote_cell_height": 168.375,
    "deepnote_cell_type": "code",
    "deepnote_to_be_reexecuted": false,
    "deletable": false,
    "editable": false,
    "execution_millis": 2,
    "execution_start": 1645186539174,
    "nbgrader": {
     "cell_type": "code",
     "checksum": "b7e593847aa4202ae45ec061fb18ad73",
     "grade": true,
     "grade_id": "cell-dedf36ab5853ce20",
     "locked": true,
     "points": 3,
     "schema_version": 3,
     "solution": false,
     "task": false
    },
    "source_hash": "b05098cf"
   },
   "outputs": [
    {
     "name": "stdout",
     "output_type": "stream",
     "text": [
      "top-5 docs for index1: ('1771', '1936', '1543', '2535', '678')\n",
      "top-5 docs for index2: ('1525', '1936', '1844', '1700', '1366')\n"
     ]
    }
   ],
   "source": [
    "print(\"top-5 docs for index1:\", list(zip(*test_bow_1[:5]))[0])\n",
    "print(\"top-5 docs for index2:\", list(zip(*test_bow_2[:5]))[0])"
   ]
  },
  {
   "cell_type": "markdown",
   "metadata": {
    "cell_id": "00047-9898438b-a142-41ea-936e-02202738220e",
    "deepnote_cell_height": 235,
    "deepnote_cell_type": "markdown",
    "deletable": false,
    "editable": false,
    "nbgrader": {
     "cell_type": "markdown",
     "checksum": "b04352ee0716dfdf094b8cdb6f32e984",
     "grade": false,
     "grade_id": "cell-a5c09c79ac1f2871",
     "locked": true,
     "schema_version": 3,
     "solution": false,
     "task": false
    }
   },
   "source": [
    "\n",
    "---\n",
    "\n",
    "### Section 3.2: TF-IDF (15 points) <a class=\"anchor\" id=\"tfidf\"></a>\n",
    "\n",
    "Before we implement the tf-idf scoring functions, let's first write a function to compute the document frequencies of all words.\n",
    "\n",
    "#### 3.2.1 Document frequency (5 points)\n",
    "Compute the document frequencies of all tokens in the collection.\n",
    "Your code should return a dictionary with tokens as its keys and the number of documents containing the token as values.\n",
    "For consistency, the values should have `int` type."
   ]
  },
  {
   "cell_type": "code",
   "execution_count": 28,
   "metadata": {
    "cell_id": "00048-7d15cfba-6fc3-46f2-8fc4-e2ea33b6f8ab",
    "deepnote_cell_height": 333,
    "deepnote_cell_type": "code",
    "deepnote_to_be_reexecuted": false,
    "deletable": false,
    "execution_millis": 11244452,
    "execution_start": 1645186539217,
    "nbgrader": {
     "cell_type": "code",
     "checksum": "5c53263cf4c0b0ffcaae08b91fc364cc",
     "grade": false,
     "grade_id": "cell-9a2369f32e864b8a",
     "locked": false,
     "schema_version": 3,
     "solution": true,
     "task": false
    },
    "source_hash": "da17c69a"
   },
   "outputs": [],
   "source": [
    "# TODO: Implement this! (5 points)\n",
    "def compute_df(documents):\n",
    "    \"\"\"\n",
    "    Compute the document frequency of all terms in the vocabulary\n",
    "    Input: A list of documents\n",
    "    Output: A dictionary with {token: document frequency (int)}\n",
    "    \"\"\"\n",
    "    # YOUR CODE HERE\n",
    "    df_dict = defaultdict(int)\n",
    "    for document in documents:\n",
    "        # we only count a token once per document, so work on the set of unique doc tokens\n",
    "        unique_doc_tokens = set(document)\n",
    "        for token in unique_doc_tokens:\n",
    "            df_dict[token] += 1\n",
    "    return df_dict"
   ]
  },
  {
   "cell_type": "code",
   "execution_count": 29,
   "metadata": {
    "cell_id": "00049-d09fb33d-2d8c-4b8b-aab7-f458f87425f7",
    "deepnote_cell_height": 297,
    "deepnote_cell_type": "code",
    "deepnote_to_be_reexecuted": false,
    "deletable": false,
    "editable": false,
    "execution_millis": 94,
    "execution_start": 1645186539218,
    "lines_to_next_cell": 2,
    "nbgrader": {
     "cell_type": "code",
     "checksum": "154985511d7925c5793a1f97dea81880",
     "grade": false,
     "grade_id": "cell-4c3bddd0b73ac90e",
     "locked": true,
     "schema_version": 3,
     "solution": false,
     "task": false
    },
    "source_hash": "46458dbe"
   },
   "outputs": [],
   "source": [
    "#### Compute df based on the two configs\n",
    "\n",
    "# get the document frequencies of each document\n",
    "df_1 = compute_df([d[1] for d in doc_repr_1])\n",
    "df_2 = compute_df([d[1] for d in doc_repr_2])\n",
    "\n",
    "\n",
    "def get_df(index_set):\n",
    "    assert index_set in {1, 2}\n",
    "    return {1: df_1, 2: df_2}[index_set]\n",
    "\n",
    "\n",
    "####"
   ]
  },
  {
   "cell_type": "code",
   "execution_count": 30,
   "metadata": {
    "cell_id": "00050-0d714f0a-0f10-4e51-be4f-9dc1c0905ca9",
    "deepnote_cell_height": 204.375,
    "deepnote_cell_type": "code",
    "deepnote_to_be_reexecuted": false,
    "deletable": false,
    "editable": false,
    "execution_millis": 422,
    "execution_start": 1645186539327,
    "nbgrader": {
     "cell_type": "code",
     "checksum": "110cc180068cf3f77c682ee3de2a117c",
     "grade": true,
     "grade_id": "cell-79e8a6db1e5fc46f",
     "locked": true,
     "points": 5,
     "schema_version": 3,
     "solution": false,
     "task": false
    },
    "source_hash": "43b9edf4"
   },
   "outputs": [
    {
     "name": "stdout",
     "output_type": "stream",
     "text": [
      "597\n",
      "11\n"
     ]
    }
   ],
   "source": [
    "#### Function check\n",
    "\n",
    "print(df_1[\"computer\"])\n",
    "print(df_2[\"computer\"])\n",
    "####"
   ]
  },
  {
   "cell_type": "markdown",
   "metadata": {
    "cell_id": "00051-7d6233d2-d8c7-4fc4-8207-4bedbd2085af",
    "deepnote_cell_height": 271,
    "deepnote_cell_type": "markdown",
    "deletable": false,
    "editable": false,
    "nbgrader": {
     "cell_type": "markdown",
     "checksum": "d0d577668fa51b80aeab6e67209ae73b",
     "grade": false,
     "grade_id": "cell-52f6acc487e1b96d",
     "locked": true,
     "schema_version": 3,
     "solution": false,
     "task": false
    }
   },
   "source": [
    "---\n",
    "#### 3.2.2 TF-IDF search (10 points)\n",
    "Next, implement a function that computes a tf-idf score, given a query.\n",
    "Use the following formulas for TF and IDF:\n",
    "\n",
    "$$ TF=\\log (1 + f_{d,t}) $$\n",
    "\n",
    "$$ IDF=\\log (\\frac{N}{n_t})$$\n",
    "\n",
    "where $f_{d,t}$ is the frequency of token $t$ in document $d$, $N$ is the number of total documents and $n_t$ is the number of documents containing token $t$.\n",
    "\n",
    "**Note:** your implementation will be auto-graded assuming you have used the above formulas.\n"
   ]
  },
  {
   "cell_type": "code",
   "execution_count": 31,
   "metadata": {
    "cell_id": "00052-d1b23bf4-b5f4-4a82-8df2-d8772e42b73a",
    "deepnote_cell_height": 567,
    "deepnote_cell_type": "code",
    "deepnote_to_be_reexecuted": false,
    "deletable": false,
    "execution_millis": 20,
    "execution_start": 1645186539352,
    "nbgrader": {
     "cell_type": "code",
     "checksum": "3534c44b4a3419ca1db98eebe7115dc1",
     "grade": false,
     "grade_id": "cell-2fb5ba34b2994cd9",
     "locked": false,
     "schema_version": 3,
     "solution": true,
     "task": false
    },
    "source_hash": "1d6e90cb"
   },
   "outputs": [],
   "source": [
    "# TODO: Implement this! (10 points)\n",
    "def tfidf_search(query, index_set):\n",
    "    \"\"\"\n",
    "    Perform a search over all documents with the given query using tf-idf.\n",
    "    Note #1: You have to use the `get_index` (and the `get_df`) function\n",
    "    created in the previous cells\n",
    "    Input:\n",
    "        query - a (unprocessed) query\n",
    "        index_set - the index to use\n",
    "    Output: a list of (document_id, score),\n",
    "        sorted in descending relevance to the given query\n",
    "    \"\"\"\n",
    "    index = get_index(index_set)\n",
    "    df = get_df(index_set)\n",
    "    processed_query = preprocess_query(query, index_set)\n",
    "\n",
    "    N = len(docs)\n",
    "    # YOUR CODE HERE\n",
    "    documents = defaultdict(float)\n",
    "    for token in processed_query:\n",
    "        for document_id, token_count in index[token]:\n",
    "            tf = np.log(1 + token_count)\n",
    "            idf = np.log(N / df[token])\n",
    "            tf_idf = tf * idf\n",
    "            documents[document_id] += tf_idf\n",
    "    # convert documents to list and sort descending\n",
    "    documents = sorted(list(documents.items()), key=lambda x: x[1], reverse=True)\n",
    "    return documents"
   ]
  },
  {
   "cell_type": "code",
   "execution_count": 32,
   "metadata": {
    "cell_id": "00053-487c5ebc-c09b-46d0-9f43-38c4f74264e7",
    "deepnote_cell_height": 225,
    "deepnote_cell_type": "code",
    "deepnote_to_be_reexecuted": false,
    "deletable": false,
    "editable": false,
    "execution_millis": 80,
    "execution_start": 1645186539384,
    "nbgrader": {
     "cell_type": "code",
     "checksum": "7b66a514663d898694b09a23a597312b",
     "grade": true,
     "grade_id": "cell-bc68aeeacf42beb3",
     "locked": true,
     "points": 2,
     "schema_version": 3,
     "solution": false,
     "task": false
    },
    "source_hash": "4907bb8a"
   },
   "outputs": [],
   "source": [
    "#### Function check\n",
    "test_tfidf = tfidf_search(\"how to implement tf idf search\", index_set=1)[:5]\n",
    "assert isinstance(test_tfidf, list)\n",
    "assert len(test_tfidf[0]) == 2\n",
    "assert isinstance(test_tfidf[0][0], str)\n",
    "assert isinstance(test_tfidf[0][1], float)\n",
    "\n",
    "####"
   ]
  },
  {
   "cell_type": "code",
   "execution_count": 33,
   "metadata": {
    "cell_id": "00054-ca226c89-ef3a-464d-aeed-2750ea928db4",
    "deepnote_cell_height": 285.125,
    "deepnote_cell_type": "code",
    "deepnote_to_be_reexecuted": false,
    "deletable": false,
    "editable": false,
    "execution_millis": 222,
    "execution_start": 1645186539544,
    "lines_to_next_cell": 2,
    "nbgrader": {
     "cell_type": "code",
     "checksum": "98fb1326cf4bf7983ae237ca8a9105f9",
     "grade": true,
     "grade_id": "cell-c7702fa8179fadb9",
     "locked": true,
     "points": 2,
     "schema_version": 3,
     "solution": false,
     "task": false
    },
    "source_hash": "fddf59b1"
   },
   "outputs": [
    {
     "name": "stdout",
     "output_type": "stream",
     "text": [
      "TFIDF Results:\n",
      "Rank 0(1.3e+01): PEEKABIT, Computer Offspring of Punched\\nCard PEEK...\n",
      "Rank 1(9.8): Variable Length Tree Structures Having Minimum Ave...\n",
      "Rank 2(8.2): A Stochastic Approach to the Grammatical Coding of...\n",
      "Rank 3(8.1): Full Table Quadratic Searching for Scatter Storage...\n",
      "Rank 4(7.6): Use of Tree Structures for Processing Files\\nIn da...\n"
     ]
    }
   ],
   "source": [
    "test_tfidf_2 = tfidf_search(\"computer word search\", index_set=2)[:5]\n",
    "print(f\"TFIDF Results:\")\n",
    "print_results(test_tfidf_2)"
   ]
  },
  {
   "cell_type": "code",
   "execution_count": 34,
   "metadata": {
    "cell_id": "00055-861246a7-b33f-43ef-8ffc-16cd768e3e3e",
    "deepnote_cell_height": 285.125,
    "deepnote_cell_type": "code",
    "deepnote_to_be_reexecuted": false,
    "deletable": false,
    "editable": false,
    "execution_millis": 179,
    "execution_start": 1645186539589,
    "lines_to_next_cell": 2,
    "nbgrader": {
     "cell_type": "code",
     "checksum": "733b5b67be5e53989f5b763ce5e52ee9",
     "grade": true,
     "grade_id": "cell-3284f50ac29abbaa",
     "locked": true,
     "points": 3,
     "schema_version": 3,
     "solution": false,
     "task": false
    },
    "source_hash": "83683be1"
   },
   "outputs": [
    {
     "name": "stdout",
     "output_type": "stream",
     "text": [
      "TFIDF Results:\n",
      "Rank 0(9.4): Variable Length Tree Structures Having Minimum Ave...\n",
      "Rank 1(7.4): On the Feasibility of Voice Input to\\nan On-line C...\n",
      "Rank 2(7.3): Median Split Trees: A Fast Lookup Technique for Fr...\n",
      "Rank 3(7.0): Execution Time Requirements for Encipherment Progr...\n",
      "Rank 4(7.0): Storage and Search Properties of a Tree-Organized ...\n"
     ]
    }
   ],
   "source": [
    "test_tfidf_1 = tfidf_search(\"computer word search\", index_set=1)[:5]\n",
    "print(f\"TFIDF Results:\")\n",
    "print_results(test_tfidf_1)"
   ]
  },
  {
   "cell_type": "code",
   "execution_count": 35,
   "metadata": {
    "cell_id": "00056-3513c3fe-3e9f-4b8c-aa0f-3f4a6d19816c",
    "deepnote_cell_height": 280.75,
    "deepnote_cell_type": "code",
    "deepnote_to_be_reexecuted": false,
    "deletable": false,
    "editable": false,
    "execution_millis": 1,
    "execution_start": 1645186539634,
    "lines_to_next_cell": 2,
    "nbgrader": {
     "cell_type": "code",
     "checksum": "e0edb37a5ae807a2de85d578c87ccb78",
     "grade": true,
     "grade_id": "cell-d908c80a3155354b",
     "locked": true,
     "points": 3,
     "schema_version": 3,
     "solution": false,
     "task": false
    },
    "source_hash": "9b7bb168"
   },
   "outputs": [
    {
     "name": "stdout",
     "output_type": "stream",
     "text": [
      "top-5 docs for index1 with BOW search: ('1771', '1936', '1543', '2535', '678')\n",
      "top-5 docs for index2 with BOW search: ('1525', '1936', '1844', '1700', '1366')\n",
      "top-5 docs for index1 with TF-IDF search: ('1936', '2054', '3041', '2620', '944')\n",
      "top-5 docs for index2 with TF-IDF search: ('1700', '1936', '1235', '2018', '849')\n"
     ]
    }
   ],
   "source": [
    "print(\"top-5 docs for index1 with BOW search:\", list(zip(*test_bow_1[:5]))[0])\n",
    "print(\"top-5 docs for index2 with BOW search:\", list(zip(*test_bow_2[:5]))[0])\n",
    "print(\"top-5 docs for index1 with TF-IDF search:\", list(zip(*test_tfidf_1[:5]))[0])\n",
    "print(\"top-5 docs for index2 with TF-IDF search:\", list(zip(*test_tfidf_2[:5]))[0])"
   ]
  },
  {
   "cell_type": "markdown",
   "metadata": {
    "cell_id": "00057-685f4747-06a6-4177-91cd-2efd41bed6dc",
    "deepnote_cell_height": 235,
    "deepnote_cell_type": "markdown",
    "deletable": false,
    "editable": false,
    "nbgrader": {
     "cell_type": "markdown",
     "checksum": "cdffc83f0eaea937cf64a212e7e9af8d",
     "grade": false,
     "grade_id": "cell-f5d923459ba21733",
     "locked": true,
     "schema_version": 3,
     "solution": false,
     "task": false
    }
   },
   "source": [
    "---\n",
    "\n",
    "### Section 3.3: Query Likelihood Model (35 points) <a class=\"anchor\" id=\"qlm\"></a>\n",
    "\n",
    "In this section, you will implement a simple query likelihood model.\n",
    "\n",
    "\n",
    "#### 3.3.1 Naive QL (15 points)\n",
    "\n",
    "First, let us implement a naive version of a QL model, assuming a multinomial unigram language model (with a uniform prior over the documents).\n",
    "\n"
   ]
  },
  {
   "cell_type": "code",
   "execution_count": 36,
   "metadata": {
    "cell_id": "00058-cda44e40-05f4-4632-a263-b4e4b00947bd",
    "deepnote_cell_height": 351,
    "deepnote_cell_type": "code",
    "deepnote_to_be_reexecuted": false,
    "deletable": false,
    "editable": false,
    "execution_millis": 127,
    "execution_start": 1645186539642,
    "lines_to_next_cell": 2,
    "nbgrader": {
     "cell_type": "code",
     "checksum": "b7ae2b7d818b428b4638c1c9206d2aca",
     "grade": false,
     "grade_id": "cell-98505778f7b68e7f",
     "locked": true,
     "schema_version": 3,
     "solution": false,
     "task": false
    },
    "source_hash": "41faad84"
   },
   "outputs": [],
   "source": [
    "#### Document length for normalization\n",
    "\n",
    "\n",
    "def doc_lengths(documents):\n",
    "    doc_lengths = {doc_id: len(doc) for (doc_id, doc) in documents}\n",
    "    return doc_lengths\n",
    "\n",
    "\n",
    "doc_lengths_1 = doc_lengths(doc_repr_1)\n",
    "doc_lengths_2 = doc_lengths(doc_repr_2)\n",
    "\n",
    "\n",
    "def get_doc_lengths(index_set):\n",
    "    assert index_set in {1, 2}\n",
    "    return {1: doc_lengths_1, 2: doc_lengths_2}[index_set]\n",
    "\n",
    "\n",
    "####"
   ]
  },
  {
   "cell_type": "code",
   "execution_count": 37,
   "metadata": {
    "cell_id": "00059-746be962-92e6-47b2-bf24-e3d86dedd92e",
    "deepnote_cell_height": 567,
    "deepnote_cell_type": "code",
    "deepnote_to_be_reexecuted": false,
    "deletable": false,
    "execution_millis": 0,
    "execution_start": 1645186539698,
    "nbgrader": {
     "cell_type": "code",
     "checksum": "cedd08303a914243fefdb6b876977ca1",
     "grade": false,
     "grade_id": "cell-8bcf2b804d636c2e",
     "locked": false,
     "schema_version": 3,
     "solution": true,
     "task": false
    },
    "source_hash": "a861316b"
   },
   "outputs": [],
   "source": [
    "# TODO: Implement this! (15 points)\n",
    "def naive_ql_search(query, index_set):\n",
    "    \"\"\"\n",
    "    Perform a search over all documents with the given query using a naive QL model.\n",
    "    Note #1: You have to use the `get_index` (and get_doc_lengths) function\n",
    "        created in the previous cells\n",
    "    Input:\n",
    "        query - a (unprocessed) query\n",
    "        index_set - the index to use\n",
    "    Output: a list of (document_id, score), sorted in descending relevance\n",
    "        to the given query\n",
    "    \"\"\"\n",
    "    index = get_index(index_set)\n",
    "    doc_lengths = get_doc_lengths(index_set)\n",
    "    processed_query = preprocess_query(query, index_set)\n",
    "    # YOUR CODE HERE\n",
    "    results = {}\n",
    "    \n",
    "    for token in processed_query:\n",
    "        # convert to dictionary for fast lookup\n",
    "        token_counts = dict(index[token])\n",
    "        for doc_id in doc_lengths.keys():\n",
    "            if doc_id not in token_counts:\n",
    "                # because token count is 0\n",
    "                p_qD = 0\n",
    "            else:\n",
    "                # otherwise we're able to get the tok count and proceed with computation\n",
    "                token_count = token_counts[doc_id]\n",
    "                p_qD = token_count / doc_lengths[doc_id]\n",
    "            if doc_id not in results:\n",
    "                results[doc_id] = p_qD\n",
    "            else:\n",
    "                results[doc_id] *= p_qD\n",
    "    results = sorted(list(results.items()), key=lambda x: x[1], reverse=True)\n",
    "    return results"
   ]
  },
  {
   "cell_type": "code",
   "execution_count": 38,
   "metadata": {
    "cell_id": "00060-7b8590ee-afcd-44ee-b551-3938924f8c30",
    "deepnote_cell_height": 285.125,
    "deepnote_cell_type": "code",
    "deepnote_to_be_reexecuted": false,
    "deletable": false,
    "editable": false,
    "execution_millis": 0,
    "execution_start": 1645186539699,
    "nbgrader": {
     "cell_type": "code",
     "checksum": "b550d15bdad28354c336020a00c33d56",
     "grade": true,
     "grade_id": "cell-5a83ac12ecde8578",
     "locked": true,
     "points": 3,
     "schema_version": 3,
     "solution": false,
     "task": false
    },
    "source_hash": "54190022"
   },
   "outputs": [
    {
     "name": "stdout",
     "output_type": "stream",
     "text": [
      "Naive QL Results:\n",
      "Rank 0(0.2): A Report Writer For COBOL...\n",
      "Rank 1(0.2): A CRT Report Generating System...\n",
      "Rank 2(0.17): Preliminary Report-International Algebraic Languag...\n",
      "Rank 3(0.17): Supplement to the ALGOL 60 Report...\n",
      "Rank 4(0.14): ALGOL Sub-Committee Report - Extensions...\n"
     ]
    }
   ],
   "source": [
    "#### Function check\n",
    "test_naiveql = naive_ql_search(\"report\", index_set=1)[:5]\n",
    "print(f\"Naive QL Results:\")\n",
    "print_results(test_naiveql)\n",
    "####"
   ]
  },
  {
   "cell_type": "code",
   "execution_count": 39,
   "metadata": {
    "cell_id": "00061-82ac6743-087a-40be-8e13-c83e9cc51509",
    "deepnote_cell_height": 81,
    "deepnote_cell_type": "code",
    "deepnote_to_be_reexecuted": false,
    "deletable": false,
    "editable": false,
    "execution_millis": 30,
    "execution_start": 1645186539742,
    "nbgrader": {
     "cell_type": "code",
     "checksum": "799df1d81c63fe90edbb6c218fc707fb",
     "grade": true,
     "grade_id": "cell-80f4bf2137f997bb",
     "locked": true,
     "points": 2,
     "schema_version": 3,
     "solution": false,
     "task": false
    },
    "source_hash": "28110d30"
   },
   "outputs": [],
   "source": [
    "#### Please do not change this. This cell is used for grading."
   ]
  },
  {
   "cell_type": "code",
   "execution_count": 40,
   "metadata": {
    "cell_id": "00062-17e1b311-2247-4c85-9402-b644f1f66b12",
    "deepnote_cell_height": 81,
    "deepnote_cell_type": "code",
    "deepnote_to_be_reexecuted": false,
    "deletable": false,
    "editable": false,
    "execution_millis": 11244764,
    "execution_start": 1645186539743,
    "nbgrader": {
     "cell_type": "code",
     "checksum": "875a4a517d27e20625d41783cebec118",
     "grade": true,
     "grade_id": "cell-5ce2993458a8ce51",
     "locked": true,
     "points": 3,
     "schema_version": 3,
     "solution": false,
     "task": false
    },
    "source_hash": "28110d30"
   },
   "outputs": [],
   "source": [
    "#### Please do not change this. This cell is used for grading."
   ]
  },
  {
   "cell_type": "code",
   "execution_count": 41,
   "metadata": {
    "cell_id": "00063-21abc448-96e9-40fc-82a7-478035610266",
    "deepnote_cell_height": 81,
    "deepnote_cell_type": "code",
    "deepnote_to_be_reexecuted": false,
    "deletable": false,
    "editable": false,
    "execution_millis": 11244759,
    "execution_start": 1645186539750,
    "nbgrader": {
     "cell_type": "code",
     "checksum": "d5c4e1c3852e71a46f32825b122f1b71",
     "grade": true,
     "grade_id": "cell-7753bdb54e292f3d",
     "locked": true,
     "points": 3,
     "schema_version": 3,
     "solution": false,
     "task": false
    },
    "source_hash": "28110d30"
   },
   "outputs": [],
   "source": [
    "#### Please do not change this. This cell is used for grading."
   ]
  },
  {
   "cell_type": "code",
   "execution_count": 42,
   "metadata": {
    "cell_id": "00064-47b977bf-c1c9-4960-8ecc-f146211b3336",
    "deepnote_cell_height": 81,
    "deepnote_cell_type": "code",
    "deepnote_to_be_reexecuted": false,
    "deletable": false,
    "editable": false,
    "execution_millis": 11244752,
    "execution_start": 1645186539809,
    "nbgrader": {
     "cell_type": "code",
     "checksum": "c4d4332d4356e89ce0240f6b80e1899a",
     "grade": true,
     "grade_id": "cell-54e476e2f96e64bb",
     "locked": true,
     "points": 4,
     "schema_version": 3,
     "solution": false,
     "task": false
    },
    "source_hash": "28110d30"
   },
   "outputs": [],
   "source": [
    "#### Please do not change this. This cell is used for grading."
   ]
  },
  {
   "cell_type": "markdown",
   "metadata": {
    "cell_id": "00065-1a6eeeea-9611-4e55-bf52-1adfe9cd668f",
    "deepnote_cell_height": 156.59375,
    "deepnote_cell_type": "markdown",
    "deletable": false,
    "editable": false,
    "nbgrader": {
     "cell_type": "markdown",
     "checksum": "8d739dc91a22bd48897f603885f95a74",
     "grade": false,
     "grade_id": "cell-5414dfd69dab8b94",
     "locked": true,
     "schema_version": 3,
     "solution": false,
     "task": false
    }
   },
   "source": [
    "---\n",
    "#### 3.3.2 QL (20 points)\n",
    "Now, let's implement a QL model that handles the issues with the naive version. In particular, you will implement a QL model with Jelinek-Mercer Smoothing. That means an interpolated score is computed per word - one term is the same as the previous naive version, and the second term comes from a unigram language model. In addition, you should accumulate the scores by summing the **log** (smoothed) probability which leads to better numerical stability."
   ]
  },
  {
   "cell_type": "code",
   "execution_count": 43,
   "metadata": {
    "cell_id": "00066-3fb59861-7bc5-497f-951b-c221eb02258c",
    "deepnote_cell_height": 1125,
    "deepnote_cell_type": "code",
    "deepnote_to_be_reexecuted": false,
    "deletable": false,
    "execution_millis": 11244761,
    "execution_start": 1645186539809,
    "nbgrader": {
     "cell_type": "code",
     "checksum": "b8c6abf937ad333e628f1db891f2e29e",
     "grade": false,
     "grade_id": "cell-bb1f506409771257",
     "locked": false,
     "schema_version": 3,
     "solution": true,
     "task": false
    },
    "source_hash": "2f2ddee4"
   },
   "outputs": [],
   "source": [
    "# TODO: Implement this! (20 points)\n",
    "\n",
    "\n",
    "def ql_search(query, index_set):\n",
    "    \"\"\"\n",
    "    Perform a search over all documents with the given query using a QL model\n",
    "    with Jelinek-Mercer Smoothing (set smoothing=0.1).\n",
    "\n",
    "    Note #1: You have to use the `get_index` (and get_doc_lengths) function\n",
    "        created in the previous cells\n",
    "    Note #2: You might have to create some variables beforehand and\n",
    "        use them in this function\n",
    "\n",
    "    Input:\n",
    "        query - a (unprocessed) query\n",
    "        index_set - the index to use\n",
    "    Output: a list of (document_id, score), sorted in descending relevance\n",
    "        to the given query\n",
    "    \"\"\"\n",
    "    index = get_index(index_set)\n",
    "    doc_lengths = get_doc_lengths(index_set)\n",
    "    processed_query = preprocess_query(query, index_set)\n",
    "\n",
    "    # YOUR CODE HERE\n",
    "    # total number of words in the collection\n",
    "    C = sum(list(doc_lengths.values()))\n",
    "    # \"(set smoothing=0.1)\"\n",
    "    lambd = 0.1\n",
    "    results = {}\n",
    "    for token in processed_query:\n",
    "        # skip tokens not in docs\n",
    "        if not index[token]:\n",
    "            continue\n",
    "        # mapping from to doc_id to count for this token\n",
    "        doc_to_count = {}\n",
    "        # total count of token across the collection\n",
    "        total_tok_count = 0\n",
    "        for doc, tok_count in index[token]:\n",
    "            doc_to_count[doc] = tok_count\n",
    "            total_tok_count += tok_count\n",
    "\n",
    "        # check each document in our collection, to catch token counts of 0\n",
    "        for document_id, doc_length in doc_lengths.items():\n",
    "            if document_id in doc_to_count:\n",
    "                token_count = doc_to_count[document_id]\n",
    "            else:\n",
    "                token_count = 0\n",
    "            # page 257 of Croft et al.\n",
    "            p_qD = np.log(\n",
    "                (1 - lambd) * token_count / doc_lengths[document_id]\n",
    "                + lambd * total_tok_count / C\n",
    "            )\n",
    "            if document_id not in results:\n",
    "                results[document_id] = p_qD\n",
    "            else:\n",
    "                results[document_id] += p_qD\n",
    "\n",
    "    # convert documents to list and sort descending\n",
    "    results = sorted(list(results.items()), key=lambda x: x[1], reverse=True)\n",
    "    return results"
   ]
  },
  {
   "cell_type": "code",
   "execution_count": 44,
   "metadata": {
    "cell_id": "00067-490d8cb9-33a4-47fc-9c15-ad1b4c455132",
    "deepnote_cell_height": 422.0625,
    "deepnote_cell_type": "code",
    "deepnote_to_be_reexecuted": false,
    "deletable": false,
    "editable": false,
    "execution_millis": 121,
    "execution_start": 1645186539852,
    "is_code_hidden": false,
    "nbgrader": {
     "cell_type": "code",
     "checksum": "0b12a7f3355193a257fd9f5f69a66562",
     "grade": true,
     "grade_id": "cell-850e9d6369bcec32",
     "locked": true,
     "points": 4,
     "schema_version": 3,
     "solution": false,
     "task": false
    },
    "source_hash": "4e5f7dd8"
   },
   "outputs": [
    {
     "name": "stdout",
     "output_type": "stream",
     "text": [
      "Rank 0(-1.7): A Report Writer For COBOL...\n",
      "Rank 1(-1.7): A CRT Report Generating System...\n",
      "Rank 2(-1.9): Preliminary Report-International Algebraic Languag...\n",
      "Rank 3(-1.9): Supplement to the ALGOL 60 Report...\n",
      "Rank 4(-2.1): ALGOL Sub-Committee Report - Extensions...\n",
      "\n",
      "Rank 0(-1.7e+01): A Report Writer For COBOL...\n",
      "Rank 1(-1.7e+01): A CRT Report Generating System...\n",
      "Rank 2(-1.9e+01): Preliminary Report-International Algebraic Languag...\n",
      "Rank 3(-1.9e+01): Supplement to the ALGOL 60 Report...\n",
      "Rank 4(-2.1e+01): ALGOL Sub-Committee Report - Extensions...\n"
     ]
    }
   ],
   "source": [
    "#### Function check\n",
    "test_ql_results = ql_search(\"report\", index_set=1)[:5]\n",
    "print_results(test_ql_results)\n",
    "print()\n",
    "test_ql_results_long = ql_search(\"report \" * 10, index_set=1)[:5]\n",
    "print_results(test_ql_results_long)\n",
    "####"
   ]
  },
  {
   "cell_type": "code",
   "execution_count": 45,
   "metadata": {
    "cell_id": "00068-095393c5-8e5b-4aef-9720-cfe9fae3b7c5",
    "deepnote_cell_height": 81,
    "deepnote_cell_type": "code",
    "deepnote_to_be_reexecuted": false,
    "deletable": false,
    "editable": false,
    "execution_millis": 11244810,
    "execution_start": 1645186540003,
    "nbgrader": {
     "cell_type": "code",
     "checksum": "e40be645140389c115849856145f5b59",
     "grade": true,
     "grade_id": "cell-958cdcf6fd6899b7",
     "locked": true,
     "points": 3,
     "schema_version": 3,
     "solution": false,
     "task": false
    },
    "source_hash": "28110d30"
   },
   "outputs": [],
   "source": [
    "#### Please do not change this. This cell is used for grading."
   ]
  },
  {
   "cell_type": "code",
   "execution_count": 46,
   "metadata": {
    "cell_id": "00069-4cd600e6-d694-4c40-ab70-28deb209cf19",
    "deepnote_cell_height": 81,
    "deepnote_cell_type": "code",
    "deepnote_to_be_reexecuted": false,
    "deletable": false,
    "editable": false,
    "execution_millis": 11244823,
    "execution_start": 1645186540042,
    "nbgrader": {
     "cell_type": "code",
     "checksum": "41d4aff001df17e7963ba79b45810b30",
     "grade": true,
     "grade_id": "cell-384dc23a0c251f6e",
     "locked": true,
     "points": 4,
     "schema_version": 3,
     "solution": false,
     "task": false
    },
    "source_hash": "28110d30"
   },
   "outputs": [],
   "source": [
    "#### Please do not change this. This cell is used for grading."
   ]
  },
  {
   "cell_type": "code",
   "execution_count": 47,
   "metadata": {
    "cell_id": "00070-952cb008-6963-4ca8-89f4-302b5a3ff74f",
    "deepnote_cell_height": 81,
    "deepnote_cell_type": "code",
    "deepnote_to_be_reexecuted": false,
    "deletable": false,
    "editable": false,
    "execution_millis": 11244838,
    "execution_start": 1645186540086,
    "nbgrader": {
     "cell_type": "code",
     "checksum": "893e8c5a073abc8ebb763d267b91bc02",
     "grade": true,
     "grade_id": "cell-7218966cba5097cc",
     "locked": true,
     "points": 4,
     "schema_version": 3,
     "solution": false,
     "task": false
    },
    "source_hash": "28110d30"
   },
   "outputs": [],
   "source": [
    "#### Please do not change this. This cell is used for grading."
   ]
  },
  {
   "cell_type": "code",
   "execution_count": 48,
   "metadata": {
    "cell_id": "00071-6752fe8b-7f1e-4fbc-a1c8-8a5f9876a4c4",
    "deepnote_cell_height": 81,
    "deepnote_cell_type": "code",
    "deepnote_to_be_reexecuted": false,
    "deletable": false,
    "editable": false,
    "execution_millis": 11244853,
    "execution_start": 1645186540123,
    "nbgrader": {
     "cell_type": "code",
     "checksum": "f99cb6f8b1f5830aaed8f06712ff846e",
     "grade": true,
     "grade_id": "cell-481ab073259ae53f",
     "locked": true,
     "points": 5,
     "schema_version": 3,
     "solution": false,
     "task": false
    },
    "source_hash": "28110d30"
   },
   "outputs": [],
   "source": [
    "#### Please do not change this. This cell is used for grading."
   ]
  },
  {
   "cell_type": "markdown",
   "metadata": {
    "cell_id": "00072-927d2e01-1b15-4854-a903-2a2472ecb63b",
    "deepnote_cell_height": 127,
    "deepnote_cell_type": "markdown",
    "deletable": false,
    "editable": false,
    "nbgrader": {
     "cell_type": "markdown",
     "checksum": "c02f14705d679579b1aa9f78f54779d5",
     "grade": false,
     "grade_id": "cell-f44088bfdac1dc90",
     "locked": true,
     "schema_version": 3,
     "solution": false,
     "task": false
    }
   },
   "source": [
    "---\n",
    "\n",
    "### Section 3.4: BM25 (20 points) <a class=\"anchor\" id=\"bm25\"></a>\n",
    "\n",
    "In this section, we will implement the BM25 scoring function.\n"
   ]
  },
  {
   "cell_type": "code",
   "execution_count": 49,
   "metadata": {
    "cell_id": "00073-22161fa2-0c00-4c01-af51-4968d6b78880",
    "deepnote_cell_height": 801,
    "deepnote_cell_type": "code",
    "deepnote_to_be_reexecuted": false,
    "deletable": false,
    "execution_millis": 11244861,
    "execution_start": 1645186540177,
    "nbgrader": {
     "cell_type": "code",
     "checksum": "e57efe06ea92af1c83784a42eb3d86e0",
     "grade": false,
     "grade_id": "cell-15640fc9b5d00a3c",
     "locked": false,
     "schema_version": 3,
     "solution": true,
     "task": false
    },
    "source_hash": "991aa048"
   },
   "outputs": [],
   "source": [
    "# TODO: Implement this! (20 points)\n",
    "def bm25_search(query, index_set):\n",
    "    \"\"\"\n",
    "    Perform a search over all documents with the given query using BM25.\n",
    "    Use k_1 = 1.5 and b = 0.75\n",
    "    Note #1: You have to use the `get_index` (and `get_doc_lengths`) function\n",
    "    created in the previous cells\n",
    "    Note #2: You might have to create some variables beforehand\n",
    "    and use them in this function\n",
    "    Input:\n",
    "        query - a (unprocessed) query\n",
    "        index_set - the index to use\n",
    "    Output: a list of (document_id, score), sorted in descending\n",
    "        relevance to the given query\n",
    "    \"\"\"\n",
    "\n",
    "    index = get_index(index_set)\n",
    "    df = get_df(index_set)\n",
    "    doc_lengths = get_doc_lengths(index_set)\n",
    "    processed_query = preprocess_query(query, index_set)\n",
    "\n",
    "    # YOUR CODE HERE\n",
    "    # hard coded values\n",
    "    k_1 = 1.5\n",
    "    b = 0.75\n",
    "    # initialize our result\n",
    "    documents = defaultdict(float)\n",
    "    # average doc length and number of docs\n",
    "    ave_dl = np.mean([value for _key, value in doc_lengths.items()])\n",
    "    N = len(docs)\n",
    "    for token in processed_query:\n",
    "        for document_id, token_count in index[token]:\n",
    "            idf = np.log(N / df[token])\n",
    "            second_term = (token_count * (k_1 + 1)) / (\n",
    "                token_count + k_1 * (1 - b + b * (doc_lengths[document_id] / ave_dl))\n",
    "            )\n",
    "            documents[document_id] += idf * second_term\n",
    "    # convert documents to list and sort descending\n",
    "    documents = sorted(list(documents.items()), key=lambda x: x[1], reverse=True)\n",
    "    return documents"
   ]
  },
  {
   "cell_type": "code",
   "execution_count": 50,
   "metadata": {
    "cell_id": "00074-99930c5d-a5f8-4ead-b1d4-1bb2ada8b11b",
    "deepnote_cell_height": 246.9375,
    "deepnote_cell_type": "code",
    "deepnote_to_be_reexecuted": false,
    "deletable": false,
    "editable": false,
    "execution_millis": 11244850,
    "execution_start": 1645186540178,
    "nbgrader": {
     "cell_type": "code",
     "checksum": "4be9de5d4e94637960d83725422bea6c",
     "grade": true,
     "grade_id": "cell-d10536bca72c74b1",
     "locked": true,
     "points": 3,
     "schema_version": 3,
     "solution": false,
     "task": false
    },
    "source_hash": "e0c314c5"
   },
   "outputs": [
    {
     "name": "stdout",
     "output_type": "stream",
     "text": [
      "Rank 0(6.7): A Report Writer For COBOL...\n",
      "Rank 1(6.7): A CRT Report Generating System...\n",
      "Rank 2(6.6): Preliminary Report-International Algebraic Languag...\n",
      "Rank 3(6.6): Supplement to the ALGOL 60 Report...\n",
      "Rank 4(6.5): ALGOL Sub-Committee Report - Extensions...\n"
     ]
    }
   ],
   "source": [
    "#### Function check\n",
    "test_bm25_results = bm25_search(\"report\", index_set=1)[:5]\n",
    "print_results(test_bm25_results)\n",
    "####"
   ]
  },
  {
   "cell_type": "code",
   "execution_count": 51,
   "metadata": {
    "cell_id": "00075-42c49004-74c6-4354-a713-ab682c96123e",
    "deepnote_cell_height": 81,
    "deepnote_cell_type": "code",
    "deepnote_to_be_reexecuted": false,
    "deletable": false,
    "editable": false,
    "execution_millis": 11244838,
    "execution_start": 1645186540222,
    "nbgrader": {
     "cell_type": "code",
     "checksum": "31b550d6a46ae4f8ede88788799ac2b9",
     "grade": true,
     "grade_id": "cell-60f6ec5052712d79",
     "locked": true,
     "points": 5,
     "schema_version": 3,
     "solution": false,
     "task": false
    },
    "source_hash": "28110d30"
   },
   "outputs": [],
   "source": [
    "#### Please do not change this. This cell is used for grading."
   ]
  },
  {
   "cell_type": "code",
   "execution_count": 52,
   "metadata": {
    "cell_id": "00076-dda1edfe-5234-4b37-8700-30b331b5b71e",
    "deepnote_cell_height": 81,
    "deepnote_cell_type": "code",
    "deepnote_to_be_reexecuted": false,
    "deletable": false,
    "editable": false,
    "execution_millis": 11244835,
    "execution_start": 1645186540223,
    "nbgrader": {
     "cell_type": "code",
     "checksum": "3da2ec16bfe781916e71755d65aa2983",
     "grade": true,
     "grade_id": "cell-5d17524043a5abcc",
     "locked": true,
     "points": 5,
     "schema_version": 3,
     "solution": false,
     "task": false
    },
    "source_hash": "28110d30"
   },
   "outputs": [],
   "source": [
    "#### Please do not change this. This cell is used for grading."
   ]
  },
  {
   "cell_type": "code",
   "execution_count": 53,
   "metadata": {
    "cell_id": "00077-eb67834d-52f9-4385-a9cd-0ad481099542",
    "deepnote_cell_height": 81,
    "deepnote_cell_type": "code",
    "deepnote_to_be_reexecuted": false,
    "deletable": false,
    "editable": false,
    "execution_millis": 11244835,
    "execution_start": 1645186540265,
    "nbgrader": {
     "cell_type": "code",
     "checksum": "e7b563d54fa84c20909c0ae107010541",
     "grade": true,
     "grade_id": "cell-ff8e704eda1184e3",
     "locked": true,
     "points": 3,
     "schema_version": 3,
     "solution": false,
     "task": false
    },
    "source_hash": "28110d30"
   },
   "outputs": [],
   "source": [
    "#### Please do not change this. This cell is used for grading."
   ]
  },
  {
   "cell_type": "code",
   "execution_count": 54,
   "metadata": {
    "cell_id": "00078-4c9ec504-f3a1-44c6-b797-e96bf38a6d46",
    "deepnote_cell_height": 81,
    "deepnote_cell_type": "code",
    "deepnote_to_be_reexecuted": false,
    "deletable": false,
    "editable": false,
    "execution_millis": 11244839,
    "execution_start": 1645186540266,
    "nbgrader": {
     "cell_type": "code",
     "checksum": "b013f90974b396630a8831d6f1d7e5f7",
     "grade": true,
     "grade_id": "cell-a52310500a2543cb",
     "locked": true,
     "points": 4,
     "schema_version": 3,
     "solution": false,
     "task": false
    },
    "source_hash": "28110d30"
   },
   "outputs": [],
   "source": [
    "#### Please do not change this. This cell is used for grading."
   ]
  },
  {
   "cell_type": "markdown",
   "metadata": {
    "cell_id": "00079-f0652d37-3014-4fc5-a239-c6d5371c8167",
    "deepnote_cell_height": 127,
    "deepnote_cell_type": "markdown",
    "deletable": false,
    "editable": false,
    "nbgrader": {
     "cell_type": "markdown",
     "checksum": "8fcf67cb7d5e8b26cb9bf1f0aa42c847",
     "grade": false,
     "grade_id": "cell-8b2b412c81d62f2d",
     "locked": true,
     "schema_version": 3,
     "solution": false,
     "task": false
    }
   },
   "source": [
    "\n",
    "---\n",
    "\n",
    "### 3.5. Test Your Functions\n",
    "\n",
    "The widget below allows you to play with the search functions you've written so far. Use this to test your search functions and ensure that they work as expected."
   ]
  },
  {
   "cell_type": "code",
   "execution_count": 55,
   "metadata": {
    "cell_id": "00080-8469bb45-c42f-461c-b1dd-6fcd1ef23d8b",
    "deepnote_cell_height": 693,
    "deepnote_cell_type": "code",
    "deepnote_to_be_reexecuted": false,
    "deletable": false,
    "editable": false,
    "execution_millis": 11244825,
    "execution_start": 1645186540266,
    "lines_to_next_cell": 2,
    "nbgrader": {
     "cell_type": "code",
     "checksum": "dfeb204b390acc0794dbdcac92b0cf2c",
     "grade": false,
     "grade_id": "cell-c9c2bb76354e8d97",
     "locked": true,
     "schema_version": 3,
     "solution": false,
     "task": false
    },
    "source_hash": "ff5eb03a"
   },
   "outputs": [],
   "source": [
    "#### Highlighter function\n",
    "# class for results\n",
    "ResultRow = namedtuple(\"ResultRow\", [\"doc_id\", \"snippet\", \"score\"])\n",
    "# doc_id -> doc\n",
    "docs_by_id = dict((d[0], d[1]) for d in docs)\n",
    "\n",
    "\n",
    "def highlight_text(document, query, tol=17):\n",
    "    import re\n",
    "\n",
    "    tokens = tokenize(query)\n",
    "    regex = \"|\".join(f\"(\\\\b{t}\\\\b)\" for t in tokens)\n",
    "    regex = re.compile(regex, flags=re.IGNORECASE)\n",
    "    output = \"\"\n",
    "    i = 0\n",
    "    for m in regex.finditer(document):\n",
    "        start_idx = max(0, m.start() - tol)\n",
    "        end_idx = min(len(document), m.end() + tol)\n",
    "        output += \"\".join(\n",
    "            [\n",
    "                \"...\",\n",
    "                document[start_idx : m.start()],\n",
    "                \"<strong>\",\n",
    "                document[m.start() : m.end()],\n",
    "                \"</strong>\",\n",
    "                document[m.end() : end_idx],\n",
    "                \"...\",\n",
    "            ]\n",
    "        )\n",
    "    return output.replace(\"\\n\", \" \")\n",
    "\n",
    "\n",
    "def make_results(query, search_fn, index_set):\n",
    "    results = []\n",
    "    for doc_id, score in search_fn(query, index_set):\n",
    "        highlight = highlight_text(docs_by_id[doc_id], query)\n",
    "        if len(highlight.strip()) == 0:\n",
    "            highlight = docs_by_id[doc_id]\n",
    "        results.append(ResultRow(doc_id, highlight, score))\n",
    "    return results\n",
    "\n",
    "\n",
    "####"
   ]
  },
  {
   "cell_type": "code",
   "execution_count": 56,
   "metadata": {
    "cell_id": "00081-0f79ea92-6b27-476d-838a-7353712fe308",
    "deepnote_cell_height": 753,
    "deepnote_cell_type": "code",
    "deepnote_to_be_reexecuted": false,
    "execution_millis": 11244922,
    "execution_start": 1645186540312,
    "source_hash": "52b13204"
   },
   "outputs": [
    {
     "data": {
      "application/vnd.jupyter.widget-view+json": {
       "model_id": "2a0d9c2071cd40f4b4b2a5ee49c39b4c",
       "version_major": 2,
       "version_minor": 0
      },
      "text/plain": [
       "Text(value='', description='Search Bar')"
      ]
     },
     "metadata": {},
     "output_type": "display_data"
    }
   ],
   "source": [
    "# TODO: Set this to the function you want to test!\n",
    "SEARCH_FN_NAME = \"bm25\"\n",
    "# this function should take in a query (string)\n",
    "# and return a sorted list of (doc_id, score)\n",
    "# with the most relevant document in the first position\n",
    "search_fn_dict = {\n",
    "    \"bow\": bow_search,\n",
    "    \"tfidf\": tfidf_search,\n",
    "    \"naive_ql\": naive_ql_search,\n",
    "    \"ql\": ql_search,\n",
    "    \"bm25\": bm25_search,\n",
    "}\n",
    "\n",
    "search_fn = search_fn_dict[SEARCH_FN_NAME]\n",
    "index_set = 1\n",
    "\n",
    "text = widgets.Text(description=\"Search Bar\", width=200)\n",
    "display(text)\n",
    "\n",
    "\n",
    "def handle_submit(sender):\n",
    "    print(f\"Searching for: '{sender.value}'\")\n",
    "\n",
    "    results = make_results(sender.value, search_fn, index_set)\n",
    "\n",
    "    # display only the top 5\n",
    "    results = results[:5]\n",
    "\n",
    "    body = \"\"\n",
    "    for idx, r in enumerate(results):\n",
    "        body += f\"<li>Document #{r.doc_id}({r.score}): {r.snippet}</li>\"\n",
    "    display(HTML(f\"<ul>{body}</ul>\"))\n",
    "\n",
    "\n",
    "text.on_submit(handle_submit)"
   ]
  },
  {
   "cell_type": "markdown",
   "metadata": {
    "cell_id": "00082-cd38c091-8362-48a6-b6f6-e2c167049828",
    "deepnote_cell_height": 331.140625,
    "deepnote_cell_type": "markdown",
    "deletable": false,
    "editable": false,
    "nbgrader": {
     "cell_type": "markdown",
     "checksum": "019b1ff878dc6339dd068e2d48d19904",
     "grade": false,
     "grade_id": "cell-8d46fe8e4f3d8cdb",
     "locked": true,
     "schema_version": 3,
     "solution": false,
     "task": false
    }
   },
   "source": [
    "---\n",
    "\n",
    "## Section 4: Evaluation (40 points) <a class=\"anchor\" id=\"evaluation\"></a>\n",
    "\n",
    "[Back to Part 1](#part1)\n",
    "\n",
    "In order to analyze the effectiveness of retrieval algorithms, we first have to learn how to evaluate such a system. In particular, we will work with offline evaluation metrics. These metrics are computed on a dataset with known relevance judgements.\n",
    "\n",
    "Implement the following evaluation metrics.\n",
    "\n",
    "1. Precision (7 points)\n",
    "2. Recall (7 points)\n",
    "3. Mean Average Precision (13 points)\n",
    "4. Expected Reciprocal Rank (13 points)"
   ]
  },
  {
   "cell_type": "markdown",
   "metadata": {
    "cell_id": "00083-dfad5784-4ddc-451d-9394-08c63666f402",
    "deepnote_cell_height": 123.796875,
    "deepnote_cell_type": "markdown",
    "deletable": false,
    "editable": false,
    "nbgrader": {
     "cell_type": "markdown",
     "checksum": "e46f54c7f81d88bbc950b0fae14c4ca5",
     "grade": false,
     "grade_id": "cell-3419fd3bc663d7cc",
     "locked": true,
     "schema_version": 3,
     "solution": false,
     "task": false
    }
   },
   "source": [
    "---\n",
    "### 4.1 Read relevance labels\n",
    "\n",
    "Let's take a look at the `qrels.text` file, which contains the ground truth relevance scores. The relevance labels for CACM are binary - either 0 or 1.\n"
   ]
  },
  {
   "cell_type": "code",
   "execution_count": 57,
   "metadata": {
    "cell_id": "00084-1316ed27-3c82-43e0-9359-b9e3a9d64256",
    "deepnote_cell_height": 293.875,
    "deepnote_cell_type": "code",
    "deepnote_to_be_reexecuted": false,
    "deletable": false,
    "editable": false,
    "execution_millis": 380,
    "execution_start": 1645186540313,
    "nbgrader": {
     "cell_type": "code",
     "checksum": "6c11025f5a222796f2882c73c1634799",
     "grade": false,
     "grade_id": "cell-6b738366059dde9e",
     "locked": true,
     "schema_version": 3,
     "solution": false,
     "task": false
    },
    "source_hash": "4ba3f3db"
   },
   "outputs": [
    {
     "name": "stdout",
     "output_type": "stream",
     "text": [
      "01 1410  0 0\n",
      "01 1572  0 0\n",
      "01 1605  0 0\n",
      "01 2020  0 0\n",
      "01 2358  0 0\n",
      "02 2434  0 0\n",
      "02 2863  0 0\n",
      "02 3078  0 0\n",
      "03 1134  0 0\n",
      "03 1613  0 0\n"
     ]
    }
   ],
   "source": [
    "!head ./datasets/qrels.text"
   ]
  },
  {
   "cell_type": "markdown",
   "metadata": {
    "cell_id": "00085-d6878bd5-2637-4397-a653-79961f1e8bde",
    "deepnote_cell_height": 73,
    "deepnote_cell_type": "markdown",
    "deletable": false,
    "editable": false,
    "nbgrader": {
     "cell_type": "markdown",
     "checksum": "7ce95245c1597183320d7254afde5c8e",
     "grade": false,
     "grade_id": "cell-10e16bff2753ffbb",
     "locked": true,
     "schema_version": 3,
     "solution": false,
     "task": false
    }
   },
   "source": [
    "---\n",
    "\n",
    "The first column is the query_id and the second column is the document_id. We can safely ignore the 3rd and 4th columns."
   ]
  },
  {
   "cell_type": "code",
   "execution_count": 58,
   "metadata": {
    "cell_id": "00086-5ab2237b-8b49-4a73-9063-9fc776502761",
    "deepnote_cell_height": 333,
    "deepnote_cell_type": "code",
    "deepnote_to_be_reexecuted": false,
    "deletable": false,
    "execution_millis": 0,
    "execution_start": 1645186540745,
    "nbgrader": {
     "cell_type": "code",
     "checksum": "000c6d59dce08dba0ba1e8d691dbbc2e",
     "grade": false,
     "grade_id": "cell-ee5253a4ef602fce",
     "locked": false,
     "schema_version": 3,
     "solution": true,
     "task": false
    },
    "source_hash": "c9cbc0ff"
   },
   "outputs": [],
   "source": [
    "# https://piazza.com/class/kyiksrdfk0b6te?cid=40_f1\n",
    "def read_qrels(root_folder=\"./datasets/\"):\n",
    "    \"\"\"\n",
    "    Reads the qrels.text file.\n",
    "    Output: A dictionary: query_id -> [list of relevant documents]\n",
    "    \"\"\"\n",
    "    with open(os.path.join(root_folder, \"qrels.text\")) as reader:\n",
    "        lines = reader.readlines()\n",
    "\n",
    "    from collections import defaultdict\n",
    "\n",
    "    relevant_docs = defaultdict(set)\n",
    "    for line in lines:\n",
    "        query_id, doc_id, _, _ = line.split()\n",
    "        relevant_docs[str(int(query_id))].add(doc_id)\n",
    "    return relevant_docs"
   ]
  },
  {
   "cell_type": "code",
   "execution_count": 59,
   "metadata": {
    "cell_id": "00087-b2ca4d34-5c5f-4392-85ed-a178aeee2e30",
    "deepnote_cell_height": 243,
    "deepnote_cell_type": "code",
    "deepnote_to_be_reexecuted": false,
    "deletable": false,
    "editable": false,
    "execution_millis": 59,
    "execution_start": 1645186540746,
    "nbgrader": {
     "cell_type": "code",
     "checksum": "d60caeba85c2a97d2211184a5ae91fd1",
     "grade": false,
     "grade_id": "cell-72215605fbe24f65",
     "locked": true,
     "schema_version": 3,
     "solution": false,
     "task": false
    },
    "source_hash": "23ca292a"
   },
   "outputs": [],
   "source": [
    "#### Function check\n",
    "qrels = read_qrels()\n",
    "\n",
    "assert len(qrels) == 52, \"There should be 52 queries with relevance judgements\"\n",
    "assert (\n",
    "    sum(len(j) for j in qrels.values()) == 796\n",
    "), \"There should be a total of 796 Relevance Judgements\"\n",
    "\n",
    "assert np.min(np.array([len(j) for j in qrels.values()])) == 1\n",
    "assert np.max(np.array([len(j) for j in qrels.values()])) == 51\n",
    "\n",
    "####"
   ]
  },
  {
   "cell_type": "markdown",
   "metadata": {
    "cell_id": "00088-14f1066c-7068-49a9-910c-c81e820e1a63",
    "deepnote_cell_height": 73,
    "deepnote_cell_type": "markdown",
    "deletable": false,
    "editable": false,
    "nbgrader": {
     "cell_type": "markdown",
     "checksum": "6c9e7428a52e291a2cdf92a379730d4c",
     "grade": false,
     "grade_id": "cell-176a6fb2939d0420",
     "locked": true,
     "schema_version": 3,
     "solution": false,
     "task": false
    }
   },
   "source": [
    "---\n",
    "**Note:** For a given query `query_id`, you can assume that documents *not* in `qrels[query_id]` are not relevant to `query_id`.\n"
   ]
  },
  {
   "cell_type": "markdown",
   "metadata": {
    "cell_id": "00089-e42c5a24-37db-4b0f-9db5-56563253fb35",
    "deepnote_cell_height": 101.390625,
    "deepnote_cell_type": "markdown",
    "deletable": false,
    "editable": false,
    "nbgrader": {
     "cell_type": "markdown",
     "checksum": "b26a818c7b4f7ad490e00b35ea0edd69",
     "grade": false,
     "grade_id": "cell-bd8341b72cdd89bb",
     "locked": true,
     "schema_version": 3,
     "solution": false,
     "task": false
    }
   },
   "source": [
    "---\n",
    "### 4.2 Precision (7 points)\n",
    "Implement the `precision@k` metric:"
   ]
  },
  {
   "cell_type": "code",
   "execution_count": 60,
   "metadata": {
    "cell_id": "00090-10b53f18-7e8d-43d4-b563-680628c40545",
    "deepnote_cell_height": 333,
    "deepnote_cell_type": "code",
    "deepnote_to_be_reexecuted": false,
    "deletable": false,
    "execution_millis": 0,
    "execution_start": 1645186540806,
    "nbgrader": {
     "cell_type": "code",
     "checksum": "43dea1979ebdec24ffcfeff71c670433",
     "grade": false,
     "grade_id": "cell-494bd0cce108ed67",
     "locked": false,
     "schema_version": 3,
     "solution": true,
     "task": false
    },
    "source_hash": "b26a2b3c"
   },
   "outputs": [],
   "source": [
    "# TODO: Implement this! (7 points)\n",
    "def precision_k(results, relevant_docs, k):\n",
    "    \"\"\"\n",
    "    Compute Precision@K\n",
    "    Input:\n",
    "        results: A sorted list of 2-tuples (document_id, score),\n",
    "                with the most relevant document in the first position\n",
    "        relevant_docs: A set of relevant documents.\n",
    "        k: the cut-off\n",
    "    Output: Precision@K\n",
    "    \"\"\"\n",
    "    if k > len(results):\n",
    "        k = len(results)\n",
    "    # YOUR CODE HERE\n",
    "    return np.mean([doc_id in relevant_docs for doc_id, _score in results[:k]])"
   ]
  },
  {
   "cell_type": "code",
   "execution_count": 61,
   "metadata": {
    "cell_id": "00091-fa6b1685-64b1-424e-af93-8f763660db0f",
    "deepnote_cell_height": 296.5625,
    "deepnote_cell_type": "code",
    "deepnote_to_be_reexecuted": false,
    "deletable": false,
    "editable": false,
    "execution_millis": 320,
    "execution_start": 1645186540809,
    "nbgrader": {
     "cell_type": "code",
     "checksum": "9222e35582b1840ffb60fd02fb0b60c3",
     "grade": true,
     "grade_id": "cell-e7ff0d91c319ca64",
     "locked": true,
     "points": 7,
     "schema_version": 3,
     "solution": false,
     "task": false
    },
    "source_hash": "1417a891"
   },
   "outputs": [
    {
     "name": "stdout",
     "output_type": "stream",
     "text": [
      "query: What articles exist which deal with TSS (Time Sharing System), an\n",
      "operating system for IBM computers?\n",
      "precision@10 = 0.2\n"
     ]
    }
   ],
   "source": [
    "#### Function check\n",
    "qid = queries[0][0]\n",
    "qtext = queries[0][1]\n",
    "print(f\"query:{qtext}\")\n",
    "results = bm25_search(qtext, 2)\n",
    "precision = precision_k(results, qrels[qid], 10)\n",
    "print(f\"precision@10 = {precision}\")\n",
    "####"
   ]
  },
  {
   "cell_type": "markdown",
   "metadata": {
    "cell_id": "00092-573df961-c83e-4116-af98-2954707eb21e",
    "deepnote_cell_height": 101.390625,
    "deepnote_cell_type": "markdown",
    "deletable": false,
    "editable": false,
    "nbgrader": {
     "cell_type": "markdown",
     "checksum": "8fd3b3998197c7097a40348500affb68",
     "grade": false,
     "grade_id": "cell-afd95f865bc7191e",
     "locked": true,
     "schema_version": 3,
     "solution": false,
     "task": false
    }
   },
   "source": [
    "---\n",
    "### 4.3 Recall (7 points)\n",
    "Implement the `recall@k` metric:"
   ]
  },
  {
   "cell_type": "code",
   "execution_count": 62,
   "metadata": {
    "cell_id": "00093-73affea1-1e53-4344-8a1f-55a1c3a18966",
    "deepnote_cell_height": 495,
    "deepnote_cell_type": "code",
    "deepnote_to_be_reexecuted": false,
    "deletable": false,
    "execution_millis": 1,
    "execution_start": 1645186541031,
    "nbgrader": {
     "cell_type": "code",
     "checksum": "b2020e5741ae03b3fe35817ed8f4ccaa",
     "grade": false,
     "grade_id": "cell-c323fc8c3f8a7cf8",
     "locked": false,
     "schema_version": 3,
     "solution": true,
     "task": false
    },
    "source_hash": "7a605edf"
   },
   "outputs": [],
   "source": [
    "# TODO: Implement this! (7 points)\n",
    "def recall_k(results, relevant_docs, k):\n",
    "    \"\"\"\n",
    "    Compute Recall@K\n",
    "    Input:\n",
    "        results: A sorted list of 2-tuples (document_id, score),\n",
    "            with the most relevant document in the first position\n",
    "        relevant_docs: A set of relevant documents.\n",
    "        k: the cut-off\n",
    "    Output: Recall@K\n",
    "    \"\"\"\n",
    "    # YOUR CODE HERE\n",
    "    tp = 0.0\n",
    "    fn = 0.0\n",
    "    for i, (doc_id, _score) in enumerate(results, 1):\n",
    "        if doc_id in relevant_docs:\n",
    "            if i <= k:\n",
    "                tp += 1\n",
    "            else:\n",
    "                fn += 1\n",
    "    try:\n",
    "        return tp / (tp + fn)\n",
    "    except ZeroDivisionError:\n",
    "        return 0.0"
   ]
  },
  {
   "cell_type": "code",
   "execution_count": 63,
   "metadata": {
    "cell_id": "00094-bf429fa0-2840-4cae-bab1-cb99f0a3d3d3",
    "deepnote_cell_height": 258.375,
    "deepnote_cell_type": "code",
    "deepnote_to_be_reexecuted": false,
    "deletable": false,
    "editable": false,
    "execution_millis": 98,
    "execution_start": 1645186541033,
    "nbgrader": {
     "cell_type": "code",
     "checksum": "56b6e0b8522f8b2dffbfb3206b2efa84",
     "grade": true,
     "grade_id": "cell-b25172161aef165c",
     "locked": true,
     "points": 7,
     "schema_version": 3,
     "solution": false,
     "task": false
    },
    "source_hash": "a5ebd603"
   },
   "outputs": [
    {
     "name": "stdout",
     "output_type": "stream",
     "text": [
      "query: SETL, Very High Level Languages\n",
      "recall@10 = 0.3157894736842105\n"
     ]
    }
   ],
   "source": [
    "#### Function check\n",
    "qid = queries[10][0]\n",
    "qtext = queries[10][1]\n",
    "print(f\"query:{qtext}\")\n",
    "results = bm25_search(qtext, 2)\n",
    "recall = recall_k(results, qrels[qid], 10)\n",
    "print(f\"recall@10 = {recall}\")\n",
    "####"
   ]
  },
  {
   "cell_type": "markdown",
   "metadata": {
    "cell_id": "00095-1445fa1d-3d88-4eb1-9592-5a6cba32701b",
    "deepnote_cell_height": 101.390625,
    "deepnote_cell_type": "markdown",
    "deletable": false,
    "editable": false,
    "nbgrader": {
     "cell_type": "markdown",
     "checksum": "b3d3c7bd1cd977cd07ef5df7d3fbf159",
     "grade": false,
     "grade_id": "cell-77fd2e7a39a74739",
     "locked": true,
     "schema_version": 3,
     "solution": false,
     "task": false
    }
   },
   "source": [
    "---\n",
    "### 4.4 Mean Average Precision (13 points)\n",
    "Implement the `map` metric:"
   ]
  },
  {
   "cell_type": "code",
   "execution_count": 64,
   "metadata": {
    "cell_id": "00096-6935fc09-3410-4008-ab25-df992be775e4",
    "deepnote_cell_height": 387,
    "deepnote_cell_type": "code",
    "deepnote_to_be_reexecuted": false,
    "deletable": false,
    "execution_millis": 1,
    "execution_start": 1645186541058,
    "nbgrader": {
     "cell_type": "code",
     "checksum": "aae2c62f2ffd76f5b6c004e9519b9f14",
     "grade": false,
     "grade_id": "cell-e50925fa9093a30d",
     "locked": false,
     "schema_version": 3,
     "solution": true,
     "task": false
    },
    "source_hash": "9a3733da"
   },
   "outputs": [],
   "source": [
    "# TODO: Implement this! (12 points)\n",
    "def average_precision(results, relevant_docs):\n",
    "    \"\"\"\n",
    "    Compute Average Precision (for a single query - the results are\n",
    "    averaged across queries to get MAP in the next few cells)\n",
    "    Hint: You can use the recall_k and precision_k functions here!\n",
    "    Input:\n",
    "        results: A sorted list of 2-tuples (document_id, score), with the most\n",
    "                relevant document in the first position\n",
    "        relevant_docs: A set of relevant documents.\n",
    "    Output: Average Precision\n",
    "    \"\"\"\n",
    "    # YOUR CODE HERE\n",
    "    relevances = np.array(\n",
    "        [doc_id in relevant_docs for doc_id, _score in results]\n",
    "    ).astype(np.float_)\n",
    "\n",
    "    last_relevance = np.argmax(relevances[::-1]) + 1\n",
    "    # dont need to check beyond last relevance\n",
    "    results = results[: -last_relevance + 1]\n",
    "    # can now get precisions\n",
    "    N = len(results)\n",
    "    precisions = np.array(\n",
    "        [precision_k(results, relevant_docs, n) for n in range(1, N + 1)]\n",
    "    )\n",
    "    relevances = relevances[: -last_relevance + 1]\n",
    "    ave_p = np.sum((precisions * relevances)) / len(relevant_docs)\n",
    "    return ave_p"
   ]
  },
  {
   "cell_type": "code",
   "execution_count": 65,
   "metadata": {
    "cell_id": "00097-d194398d-53a0-4cd3-a940-4d78e7ce289a",
    "deepnote_cell_height": 278.5625,
    "deepnote_cell_type": "code",
    "deepnote_to_be_reexecuted": false,
    "deletable": false,
    "editable": false,
    "execution_millis": 1266,
    "execution_start": 1645186541145,
    "nbgrader": {
     "cell_type": "code",
     "checksum": "3b00e147c2fa146fa59f179b7c9cab75",
     "grade": true,
     "grade_id": "cell-8a1f7ec98571e58b",
     "locked": true,
     "points": 13,
     "schema_version": 3,
     "solution": false,
     "task": false
    },
    "source_hash": "501861e7"
   },
   "outputs": [
    {
     "name": "stdout",
     "output_type": "stream",
     "text": [
      "query: computational complexity, intractability, class-complete reductions,\n",
      "algorithms and efficiency\n",
      "MAP = 0.1724040411055945\n"
     ]
    }
   ],
   "source": [
    "#### Function check\n",
    "qid = queries[20][0]\n",
    "qtext = queries[20][1]\n",
    "print(f\"query:{qtext}\")\n",
    "results = bm25_search(qtext, 2)\n",
    "mean_ap = average_precision(results, qrels[qid])\n",
    "print(f\"MAP = {mean_ap}\")\n",
    "####"
   ]
  },
  {
   "cell_type": "markdown",
   "metadata": {
    "cell_id": "00098-ff07922a-b997-4d0a-b0b2-16a258d55e09",
    "deepnote_cell_height": 101.390625,
    "deepnote_cell_type": "markdown",
    "deletable": false,
    "editable": false,
    "nbgrader": {
     "cell_type": "markdown",
     "checksum": "36f85f45ef52d9467ba9a717d6d99ff2",
     "grade": false,
     "grade_id": "cell-1da18f0fe6f6d7be",
     "locked": true,
     "schema_version": 3,
     "solution": false,
     "task": false
    }
   },
   "source": [
    "---\n",
    "### 4.5 Expected Reciprocal Rank (13 points)\n",
    "Implement the `err` metric:"
   ]
  },
  {
   "cell_type": "code",
   "execution_count": 66,
   "metadata": {
    "cell_id": "00099-6f85eb2c-52dd-4893-9795-701a871bbb68",
    "deepnote_cell_height": 459,
    "deepnote_cell_type": "code",
    "deepnote_to_be_reexecuted": false,
    "deletable": false,
    "execution_millis": 39,
    "execution_start": 1645186542452,
    "nbgrader": {
     "cell_type": "code",
     "checksum": "9ac94db728e23ea1f5dc0d509473c6fb",
     "grade": false,
     "grade_id": "cell-64262889f9b267ea",
     "locked": false,
     "schema_version": 3,
     "solution": true,
     "task": false
    },
    "source_hash": "337046c"
   },
   "outputs": [],
   "source": [
    "# TODO: Implement this! (12 points)\n",
    "def err(results, relevant_docs):\n",
    "    \"\"\"\n",
    "    Compute the expected reciprocal rank.\n",
    "    Hint: https://dl.acm.org/doi/pdf/10.1145/1645953.1646033?download=true\n",
    "    Input:\n",
    "        results: A sorted list of 2-tuples (document_id, score), with the most\n",
    "            relevant document in the first position\n",
    "        relevant_docs: A set of relevant documents.\n",
    "    Output: ERR (float)\n",
    "\n",
    "    \"\"\"\n",
    "    # YOUR CODE HERE\n",
    "    exp_rec_rank = 0\n",
    "    p = 1\n",
    "    for rank, (doc_id, score) in enumerate(results, 1):\n",
    "        grade = 1 if doc_id in relevant_docs else 0\n",
    "        relevance_prob = (2**grade - 1) / 2\n",
    "        exp_rec_rank += p * (relevance_prob / rank)\n",
    "        p *= 1 - relevance_prob\n",
    "    return exp_rec_rank"
   ]
  },
  {
   "cell_type": "code",
   "execution_count": 67,
   "metadata": {
    "cell_id": "00100-d301d6c2-210d-4182-8817-b2c392d7d10e",
    "deepnote_cell_height": 359.3125,
    "deepnote_cell_type": "code",
    "deepnote_to_be_reexecuted": false,
    "deletable": false,
    "editable": false,
    "execution_millis": 223,
    "execution_start": 1645186542501,
    "nbgrader": {
     "cell_type": "code",
     "checksum": "b7d201de0990b69d5f38704668665d87",
     "grade": true,
     "grade_id": "cell-071e3970ff1afae4",
     "locked": true,
     "points": 13,
     "schema_version": 3,
     "solution": false,
     "task": false
    },
    "source_hash": "c244fd0a"
   },
   "outputs": [
    {
     "name": "stdout",
     "output_type": "stream",
     "text": [
      "qPuery: I'd like to find articles describing the use of singular value decomposition\n",
      "in digital image processing.  Applications include finding approximations\n",
      "to the original image and restoring images that are subject to noise. An\n",
      "article on the subject is H.C. Andrews and C.L. Patterson \"Outer product\n",
      "expansions and their uses in digital image processing\", American Mathematical\n",
      "Monthly, vol. 82.\n",
      "ERR = 0.625\n"
     ]
    }
   ],
   "source": [
    "#### Function check\n",
    "qid = queries[30][0]\n",
    "qtext = queries[30][1]\n",
    "print(f\"qPuery:{qtext}\")\n",
    "results = bm25_search(qtext, 2)\n",
    "ERR = err(results, qrels[qid])\n",
    "print(f\"ERR = {ERR}\")\n",
    "####"
   ]
  },
  {
   "cell_type": "markdown",
   "metadata": {
    "cell_id": "00101-5c45197a-8f43-4e13-b24d-0ef1ad533eef",
    "deepnote_cell_height": 101.390625,
    "deepnote_cell_type": "markdown",
    "deletable": false,
    "editable": false,
    "nbgrader": {
     "cell_type": "markdown",
     "checksum": "5bd94caf77cfa5f34675df758d91002d",
     "grade": false,
     "grade_id": "cell-43709a765f353946",
     "locked": true,
     "schema_version": 3,
     "solution": false,
     "task": false
    }
   },
   "source": [
    "---\n",
    "### 4.6 Evaluate Search Functions\n",
    "\n",
    "Let's define some metrics@k using [partial functions](https://docs.python.org/3/library/functools.html#functools.partial)"
   ]
  },
  {
   "cell_type": "code",
   "execution_count": 68,
   "metadata": {
    "cell_id": "00102-442bc886-57e2-4c21-b7ad-b01e86ff2f2b",
    "deepnote_cell_height": 423,
    "deepnote_cell_type": "code",
    "deepnote_to_be_reexecuted": false,
    "deletable": false,
    "editable": false,
    "execution_millis": 1,
    "execution_start": 1645186542781,
    "nbgrader": {
     "cell_type": "code",
     "checksum": "49ccc158e5fb7340ace55e90eeb9d62a",
     "grade": false,
     "grade_id": "cell-dab560e18e340da8",
     "locked": true,
     "schema_version": 3,
     "solution": false,
     "task": false
    },
    "source_hash": "984c969a"
   },
   "outputs": [],
   "source": [
    "#### metrics@k functions\n",
    "\n",
    "recall_at_1 = partial(recall_k, k=1)\n",
    "recall_at_5 = partial(recall_k, k=5)\n",
    "recall_at_10 = partial(recall_k, k=10)\n",
    "precision_at_1 = partial(precision_k, k=1)\n",
    "precision_at_5 = partial(precision_k, k=5)\n",
    "precision_at_10 = partial(precision_k, k=10)\n",
    "\n",
    "\n",
    "list_of_metrics = [\n",
    "    (\"ERR\", err),\n",
    "    (\"MAP\", average_precision),\n",
    "    (\"Recall@1\", recall_at_1),\n",
    "    (\"Recall@5\", recall_at_5),\n",
    "    (\"Recall@10\", recall_at_10),\n",
    "    (\"Precision@1\", precision_at_1),\n",
    "    (\"Precision@5\", precision_at_5),\n",
    "    (\"Precision@10\", precision_at_10),\n",
    "]"
   ]
  },
  {
   "cell_type": "markdown",
   "metadata": {
    "cell_id": "00103-62e2b5c1-7f8b-4b73-8459-45dac6ed6b05",
    "deepnote_cell_height": 91,
    "deepnote_cell_type": "markdown",
    "deletable": false,
    "editable": false,
    "nbgrader": {
     "cell_type": "markdown",
     "checksum": "fb541002c03221b453b8936290020ea5",
     "grade": false,
     "grade_id": "cell-580a2bdc66d03b47",
     "locked": true,
     "schema_version": 3,
     "solution": false,
     "task": false
    }
   },
   "source": [
    "---\n",
    "\n",
    "The following function evaluates a `search_fn` using the `metric_fn`. Note that the final number is averaged over all the queries"
   ]
  },
  {
   "cell_type": "code",
   "execution_count": 69,
   "metadata": {
    "cell_id": "00104-cc282062-26b4-45c1-8dfa-9b8ca0fc9ed5",
    "deepnote_cell_height": 783,
    "deepnote_cell_type": "code",
    "deepnote_to_be_reexecuted": false,
    "execution_millis": 1,
    "execution_start": 1645186542825,
    "lines_to_next_cell": 2,
    "source_hash": "647a95c2"
   },
   "outputs": [],
   "source": [
    "#### Evaluate a search function\n",
    "\n",
    "list_of_search_fns = [\n",
    "    (\"BOW\", bow_search),\n",
    "    (\"TF-IDF\", tfidf_search),\n",
    "    (\"NaiveQL\", naive_ql_search),\n",
    "    (\"QL\", ql_search),\n",
    "    (\"BM25\", bm25_search),\n",
    "]\n",
    "\n",
    "\n",
    "def evaluate_search_fn(search_fn, metric_fns, index_set=None):\n",
    "    # build a dict query_id -> query\n",
    "    queries_by_id = dict((q[0], q[1]) for q in queries)\n",
    "\n",
    "    metrics = {}\n",
    "    for metric, metric_fn in metric_fns:\n",
    "        metrics[metric] = np.zeros(len(qrels), dtype=np.float32)\n",
    "\n",
    "    # original version\n",
    "    for i, (query_id, relevant_docs) in enumerate(qrels.items()):\n",
    "        query = queries_by_id[query_id]\n",
    "        if index_set:\n",
    "            results = search_fn(query, index_set)\n",
    "        else:\n",
    "            results = search_fn(query)\n",
    "\n",
    "        for metric, metric_fn in metric_fns:\n",
    "            metrics[metric][i] = metric_fn(results, relevant_docs)\n",
    "\n",
    "    final_dict = {}\n",
    "    for metric, metric_vals in metrics.items():\n",
    "        final_dict[metric] = metric_vals.mean()\n",
    "\n",
    "    # fast version for debugging plot\n",
    "    # final_dict = {}\n",
    "    # for metric, metric_vals in metrics.items():\n",
    "    #     final_dict[metric] = metric_vals.mean() + 0.5\n",
    "\n",
    "    return final_dict\n",
    "\n",
    "\n",
    "####"
   ]
  },
  {
   "cell_type": "markdown",
   "metadata": {
    "cell_id": "00105-ba71254a-76a2-4a05-a0a0-148bcf0d753f",
    "deepnote_cell_height": 411.59375,
    "deepnote_cell_type": "markdown",
    "deletable": false,
    "editable": false,
    "nbgrader": {
     "cell_type": "markdown",
     "checksum": "6ea67534f74a8f81e1f504794f641709",
     "grade": false,
     "grade_id": "cell-b156d83a0649cbb4",
     "locked": true,
     "schema_version": 3,
     "solution": false,
     "task": false
    }
   },
   "source": [
    "## Section 5: Analysis (30 points) <a class=\"anchor\" id=\"analysis\"></a>\n",
    "\n",
    "[Back to Part 1](#part1)\n",
    "\n",
    "In the final section of Part1, we will compare the different term-based IR algorithms and different preprocessing configurations and analyze their advantages and disadvantages.\n",
    "\n",
    "### Section 5.1: Plot (20 points)\n",
    "\n",
    "First, gather the results. The results should consider the index set, the different search functions and different metrics. Plot the results in bar charts, per metric, with clear labels.\n",
    "\n",
    "**Rubric:**\n",
    "- Each Metric is plotted: 7 points\n",
    "- Each Method is plotted: 7 points\n",
    "- Clear titles, x label, y labels and legends (if applicable): 6 points"
   ]
  },
  {
   "cell_type": "code",
   "execution_count": 70,
   "metadata": {
    "cell_id": "00106-7e245371-4141-4e15-a142-53d98c682cb7",
    "deepnote_cell_height": 729,
    "deepnote_cell_type": "code",
    "deepnote_output_heights": [
     470.984375
    ],
    "deepnote_to_be_reexecuted": false,
    "deletable": false,
    "execution_millis": 0,
    "execution_start": 1645186542869,
    "nbgrader": {
     "cell_type": "code",
     "checksum": "7e2588a925d13ddf588abe8311dc9cfc",
     "grade": true,
     "grade_id": "cell-46fda42a25863a04",
     "locked": false,
     "points": 20,
     "schema_version": 3,
     "solution": true,
     "task": false
    },
    "source_hash": "1e18f015"
   },
   "outputs": [
    {
     "name": "stdout",
     "output_type": "stream",
     "text": [
      "\n",
      "index set 1:\n",
      "\tBOW\n",
      "{'ERR': 0.055224963,\n",
      " 'MAP': 0.03090453,\n",
      " 'Precision@1': 0.03846154,\n",
      " 'Precision@10': 0.028846154,\n",
      " 'Precision@5': 0.034615386,\n",
      " 'Recall@1': 0.0030982906,\n",
      " 'Recall@10': 0.046087656,\n",
      " 'Recall@5': 0.037126765}\n",
      "\tTF-IDF\n",
      "{'ERR': 0.30517504,\n",
      " 'MAP': 0.17810398,\n",
      " 'Precision@1': 0.3846154,\n",
      " 'Precision@10': 0.17500001,\n",
      " 'Precision@5': 0.21153846,\n",
      " 'Recall@1': 0.07476607,\n",
      " 'Recall@10': 0.22000195,\n",
      " 'Recall@5': 0.1473746}\n",
      "\tNaiveQL\n",
      "{'ERR': 0.02187399,\n",
      " 'MAP': 0.007967688,\n",
      " 'Precision@1': 0.03846154,\n",
      " 'Precision@10': 0.0076923077,\n",
      " 'Precision@5': 0.015384615,\n",
      " 'Recall@1': 0.0037774725,\n",
      " 'Recall@10': 0.008585164,\n",
      " 'Recall@5': 0.008585164}\n",
      "\tQL\n",
      "{'ERR': 0.30951288,\n",
      " 'MAP': 0.16616207,\n",
      " 'Precision@1': 0.34615386,\n",
      " 'Precision@10': 0.19423078,\n",
      " 'Precision@5': 0.25384614,\n",
      " 'Recall@1': 0.046651527,\n",
      " 'Recall@10': 0.21684042,\n",
      " 'Recall@5': 0.17031717}\n",
      "\tBM25\n",
      "{'ERR': 0.37286478,\n",
      " 'MAP': 0.22088145,\n",
      " 'Precision@1': 0.44230768,\n",
      " 'Precision@10': 0.24038464,\n",
      " 'Precision@5': 0.2846154,\n",
      " 'Recall@1': 0.066907376,\n",
      " 'Recall@10': 0.30646548,\n",
      " 'Recall@5': 0.20312355}\n",
      "\n",
      "index set 2:\n",
      "\tBOW\n",
      "{'ERR': 0.11996831,\n",
      " 'MAP': 0.0657566,\n",
      " 'Precision@1': 0.07692308,\n",
      " 'Precision@10': 0.07307692,\n",
      " 'Precision@5': 0.080769226,\n",
      " 'Recall@1': 0.010193701,\n",
      " 'Recall@10': 0.08793031,\n",
      " 'Recall@5': 0.048788056}\n",
      "\tTF-IDF\n",
      "{'ERR': 0.4148428,\n",
      " 'MAP': 0.25480694,\n",
      " 'Precision@1': 0.53846157,\n",
      " 'Precision@10': 0.25,\n",
      " 'Precision@5': 0.33846155,\n",
      " 'Recall@1': 0.10014636,\n",
      " 'Recall@10': 0.29629084,\n",
      " 'Recall@5': 0.23532662}\n",
      "\tNaiveQL\n",
      "{'ERR': 0.06400872,\n",
      " 'MAP': 0.019428182,\n",
      " 'Precision@1': 0.115384616,\n",
      " 'Precision@10': 0.025000002,\n",
      " 'Precision@5': 0.042307694,\n",
      " 'Recall@1': 0.009656762,\n",
      " 'Recall@10': 0.022477273,\n",
      " 'Recall@5': 0.01766958}\n",
      "\tQL\n",
      "{'ERR': 0.40624025,\n",
      " 'MAP': 0.24890317,\n",
      " 'Precision@1': 0.5192308,\n",
      " 'Precision@10': 0.29807693,\n",
      " 'Precision@5': 0.3692308,\n",
      " 'Recall@1': 0.07068591,\n",
      " 'Recall@10': 0.3002048,\n",
      " 'Recall@5': 0.21136688}\n",
      "\tBM25\n",
      "{'ERR': 0.426171,\n",
      " 'MAP': 0.3003765,\n",
      " 'Precision@1': 0.5192308,\n",
      " 'Precision@10': 0.31923077,\n",
      " 'Precision@5': 0.40384614,\n",
      " 'Recall@1': 0.110182874,\n",
      " 'Recall@10': 0.34614927,\n",
      " 'Recall@5': 0.25962994}\n"
     ]
    },
    {
     "data": {
      "image/png": "[encoded data removed]",
      "text/plain": [
       "<Figure size 1008x504 with 8 Axes>"
      ]
     },
     "metadata": {
      "needs_background": "light"
     },
     "output_type": "display_data"
    }
   ],
   "source": [
    "from pprint import pprint\n",
    "# YOUR CODE HERE\n",
    "# takes roughly 5 mins to run\n",
    "fig, axes = plt.subplots(2, 4, figsize=(14, 7), sharey=False)\n",
    "axes = axes.flatten()\n",
    "\n",
    "# need this to make side by side bars\n",
    "N = len(list_of_search_fns)\n",
    "method_loc = np.arange(N)\n",
    "bar_width = 0.25\n",
    "\n",
    "for j, (index_set) in enumerate([1, 2]):\n",
    "    print(f\"\\nindex set {index_set}:\")\n",
    "    results = {}\n",
    "\n",
    "    for search_alg, search_fn in list_of_search_fns:\n",
    "        results[search_alg] = evaluate_search_fn(\n",
    "            search_fn, list_of_metrics, index_set=index_set\n",
    "        )\n",
    "        print(f\"\\t{search_alg}\")\n",
    "        pprint(results[search_alg])\n",
    "\n",
    "    for i, (metric_name, _metric_fn) in enumerate(list_of_metrics):\n",
    "        metric_results = {k: v[metric_name] for k, v in results.items()}\n",
    "        labels = list(metric_results.keys())\n",
    "        values = [metric_results[label] for label in labels]\n",
    "\n",
    "        axes[i].grid(True, which=\"major\", axis=\"y\", alpha=0.35)\n",
    "        if i % 4 == 0:\n",
    "            axes[i].set_ylabel(\"Average Metric Value\")\n",
    "        if j == 0:\n",
    "            axes[i].bar(method_loc, values, bar_width, label=f\"index set {index_set}\")\n",
    "        else:\n",
    "            axes[i].bar(\n",
    "                method_loc + bar_width,\n",
    "                values,\n",
    "                bar_width,\n",
    "                label=f\"index set {index_set}\",\n",
    "            )\n",
    "            axes[i].set_xticks(method_loc + bar_width / 2)\n",
    "            axes[i].set_xticklabels(labels)\n",
    "            axes[i].set_title(metric_name)\n",
    "            if i == 7:\n",
    "                axes[i].legend()\n",
    "\n",
    "fig.suptitle(\"Comparison of different term-based IR algorithms across various Metrics\")\n",
    "fig.tight_layout(rect=[0, 0.03, 1, 0.95])\n",
    "plt.show()"
   ]
  },
  {
   "cell_type": "markdown",
   "metadata": {
    "cell_id": "00107-1573dd7e-069e-42e6-9991-2e09c5ca522c",
    "deepnote_cell_height": 146.140625,
    "deepnote_cell_type": "markdown",
    "deletable": false,
    "editable": false,
    "nbgrader": {
     "cell_type": "markdown",
     "checksum": "e88c444a0acf4e398c65e289169b75f7",
     "grade": false,
     "grade_id": "cell-8aabe3bcf265deb0",
     "locked": true,
     "points": 10,
     "schema_version": 3,
     "solution": false,
     "task": true
    }
   },
   "source": [
    "---\n",
    "### Section 5.2: Summary (10 points)\n",
    "Write a summary of what you observe in the results.\n",
    "Your summary should compare results across the 2 indices and the methods being used. State what you expected to see in the results, followed by either supporting evidence *or* justify why the results did not support your expectations."
   ]
  },
  {
   "cell_type": "markdown",
   "metadata": {
    "cell_id": "00108-6173a881-f376-4ab8-afa5-feefc85830a5",
    "deepnote_cell_height": 52.390625,
    "deepnote_cell_type": "markdown"
   },
   "source": [
    "1. Regardless of the algorithm used results are universally better across all\n",
    "   the metrics when using preprocessing - in particular stemming and stop-word\n",
    "   removal. This is in line with expectations based on large body of existing\n",
    "   literature in the field of Information retrieval.\n",
    "2. BOW performs much worse than expected. Intuitively while not a great method\n",
    "   word count for each token in the query should indicate relative importance of\n",
    "   terms in a document. We demonstrate empirically, however, that token count\n",
    "   alone is a very poor predictor of a document's relevance to a query.\n",
    "3. The NaiveQL model does not work because of the naive unigram language model\n",
    "   assumption - it's unlikely that any single document would contain all query\n",
    "   terms and therefore the probability for most documents given a search query\n",
    "   will be zero resulting in a random subset of documents being returned for\n",
    "   each query.\n",
    "4. The QL model solves the 0 probability issues of the naïve model and in fact\n",
    "   comes close to being the best performing model which confirms that a\n",
    "   probabilistic approach based on likelihood works well.\n",
    "5. TODO explain why BM25 performs best or is close to being the best for all\n",
    "   metrics.\n",
    "6. TODO maybe finally we can compare TF-IDF, QL, BM25 across the different\n",
    "   metrics and highlight which ones are better given different scenarios. Also\n",
    "   which ones are better when we're not using preprocessing.\n",
    "\n",
    "## Notes Giulio\n",
    "\n",
    "- \"This is in line with expectations based on large body of existing literature\n",
    "  in the field of Information retrieval.\"\n",
    "  - i think we should also try to justify it in our words, for e.g. stemming\n",
    "    collapses index size, or stop-word removal allows models to \"focus\" on more\n",
    "    relevant words, or something else.\n",
    "- I think in our discussion we should also speak about what methods do better in\n",
    "  precision or in recall at different k's, as this is relevant to the type of\n",
    "  information retrieval one is after -- remember we had some discussion about\n",
    "  this in one of the lectures so I imagine they're expecting some discussion\n",
    "  about this here."
   ]
  },
  {
   "cell_type": "markdown",
   "metadata": {
    "cell_id": "00109-6235ead6-3d31-4a02-b36d-704dfc8e6efb",
    "deepnote_cell_height": 679.140625,
    "deepnote_cell_type": "markdown",
    "deletable": false,
    "editable": false,
    "nbgrader": {
     "cell_type": "markdown",
     "checksum": "b3eb77be74eecca205fc7b47316d1627",
     "grade": false,
     "grade_id": "cell-bb60dd5c092d0f2e",
     "locked": true,
     "schema_version": 3,
     "solution": false,
     "task": false
    }
   },
   "source": [
    "---\n",
    "---\n",
    "# Part 2: Semantic-based Matching (85 points) <a class=\"anchor\" id=\"part2\"></a>\n",
    "\n",
    "[Back to top](#top)\n",
    "\n",
    "We will now experiment with methods that go beyond lexical methods like TF-IDF, which operate at the word level and are high dimensional and sparse, and look at methods which constructs low dimensional dense representations of queries and documents.\n",
    "\n",
    "Since these low-dimensional methods have a higher time complexity, they are typically used in conjunction with methods like BM-25. That is, instead of searching through potentially million documents to find matches using low dimensional vectors, a list of K documents are retrieved using BM25, and then **re-ranked** using the other method. This is the method that is going to be applied in the following exercises.\n",
    "\n",
    "LSI/LDA takes documents that are similar on a semantic level - for instance, if they are describing the same topic - and projects them into nearby vectors, despite having low lexical overlap.\n",
    "\n",
    "In this assignment, you will use `gensim` to create LSI/LDA models and use them in re-ranking.\n",
    "\n",
    "**Note**: The following exercises only uses `doc_repr_2` and `config_2`\n",
    "\n",
    "Table of contents:\n",
    "- [Section 6: LSI](#lsi) (15 points)\n",
    "- [Section 7: LDA](#lda) (10 points)\n",
    "- [Section 8: Word2Vec/Doc2Vec](#2vec) (20 points)\n",
    "- [Section 8: Re-ranking](#reranking) (10 points)\n",
    "- [Section 9: Re-ranking Evaluation](#reranking_eval) (30 points)"
   ]
  },
  {
   "cell_type": "markdown",
   "metadata": {
    "cell_id": "00110-5bcb1bc8-cec9-41c8-af84-5814c41bcace",
    "deepnote_cell_height": 204.59375,
    "deepnote_cell_type": "markdown",
    "deletable": false,
    "editable": false,
    "nbgrader": {
     "cell_type": "markdown",
     "checksum": "f7c7b2cab82f576ed0acf836ca57171c",
     "grade": false,
     "grade_id": "cell-6b2c81e7a8abd180",
     "locked": true,
     "schema_version": 3,
     "solution": false,
     "task": false
    }
   },
   "source": [
    "---\n",
    "## Section 6: Latent Semantic Indexing (LSI) (15 points) <a class=\"anchor\" id=\"lsi\"></a>\n",
    "\n",
    "[Back to Part 2](#part2)\n",
    "\n",
    "LSI is one of the methods to embed the queries and documents into vectors. It is based on a method similar to Principal Component Analysis (PCA) for obtaining a dense concept matrix out of the sparse term-document matrix.\n",
    "\n",
    "See [wikipedia](https://en.wikipedia.org/wiki/Latent_semantic_analysis), particularly [#Mathematics_of_LSI](https://en.wikipedia.org/wiki/Latent_semantic_analysis#Mathematics_of_LSI)."
   ]
  },
  {
   "cell_type": "code",
   "execution_count": 71,
   "metadata": {
    "cell_id": "00111-09fa8f16-3577-43a0-902e-8a9dffdf4d2a",
    "deepnote_cell_height": 189,
    "deepnote_cell_type": "code",
    "deepnote_to_be_reexecuted": false,
    "deletable": false,
    "editable": false,
    "execution_millis": 735,
    "execution_start": 1645186542920,
    "nbgrader": {
     "cell_type": "code",
     "checksum": "c17ee75319cb517e2bf48ec3d9efc329",
     "grade": false,
     "grade_id": "cell-59913daee47f680d",
     "locked": true,
     "schema_version": 3,
     "solution": false,
     "task": false
    },
    "source_hash": "a97e055a"
   },
   "outputs": [],
   "source": [
    "from gensim.corpora import Dictionary\n",
    "from gensim.models import LdaModel, LsiModel, Word2Vec\n",
    "from gensim.models.doc2vec import Doc2Vec, TaggedDocument\n",
    "from gensim import downloader as g_downloader\n",
    "\n",
    "# gensim uses logging, so set it up\n",
    "import logging\n",
    "\n",
    "logging.basicConfig(\n",
    "    format=\"%(asctime)s : %(levelname)s : %(message)s\", level=logging.INFO\n",
    ")"
   ]
  },
  {
   "cell_type": "markdown",
   "metadata": {
    "cell_id": "00112-b7a2dfe3-d382-44dd-a7a6-e2f4a6feee5c",
    "deepnote_cell_height": 235.875,
    "deepnote_cell_type": "markdown",
    "deletable": false,
    "editable": false,
    "nbgrader": {
     "cell_type": "markdown",
     "checksum": "5fce140c546759b54a9fc060901ae77c",
     "grade": false,
     "grade_id": "cell-3644faff4976598a",
     "locked": true,
     "schema_version": 3,
     "solution": false,
     "task": false
    }
   },
   "source": [
    "---\n",
    "### Section 6.1: Cosine Similarity (5 points)<a class=\"anchor\" id=\"cosing_sim\"></a>\n",
    "Before we begin, let us first define our method of similarity for the LSI model, the cosine similarity:\n",
    "\n",
    "$$\\text{similarity} = \\cos(\\theta) = {\\mathbf{A} \\cdot \\mathbf{B} \\over \\|\\mathbf{A}\\| \\|\\mathbf{B}\\|} = \\frac{ \\sum\\limits_{i=1}^{n}{A_i  B_i} }{ \\sqrt{\\sum\\limits_{i=1}^{n}{A_i^2}}  \\sqrt{\\sum\\limits_{i=1}^{n}{B_i^2}} }$$\n",
    "\n",
    "Since we are using gensim, the types of vectors returned by their classes are of the form defined below (they are not just simple vectors):"
   ]
  },
  {
   "cell_type": "code",
   "execution_count": 72,
   "metadata": {
    "cell_id": "00113-b48d2608-3784-4f64-9344-fe76553f9aaf",
    "deepnote_cell_height": 135,
    "deepnote_cell_type": "code",
    "deepnote_to_be_reexecuted": false,
    "deletable": false,
    "editable": false,
    "execution_millis": 16,
    "execution_start": 1645186543665,
    "nbgrader": {
     "cell_type": "code",
     "checksum": "4e340e1a1d546f430c018fd0760e707a",
     "grade": false,
     "grade_id": "cell-3995a50f951314d5",
     "locked": true,
     "schema_version": 3,
     "solution": false,
     "task": false
    },
    "source_hash": "214da9c9"
   },
   "outputs": [],
   "source": [
    "# 1, 2, 3 are either latent dimensions (LSI), or topics (LDA)\n",
    "# The second value in each tuple is a number (LSI) or a probability (LDA)\n",
    "example_vec_1 = [(1, 0.2), (2, 0.3), (3, 0.4)]\n",
    "example_vec_2 = [(1, 0.2), (2, 0.7), (3, 0.4)]"
   ]
  },
  {
   "cell_type": "markdown",
   "metadata": {
    "cell_id": "00114-5b3ead96-66da-40ac-9080-3669fc2631f3",
    "deepnote_cell_height": 75.796875,
    "deepnote_cell_type": "markdown",
    "deletable": false,
    "editable": false,
    "nbgrader": {
     "cell_type": "markdown",
     "checksum": "20832fd4f579f49ae204b0efee02edd1",
     "grade": false,
     "grade_id": "cell-5e54d581858dc8f7",
     "locked": true,
     "schema_version": 3,
     "solution": false,
     "task": false
    }
   },
   "source": [
    "---\n",
    "**Implementation (2+3 points):**\n",
    "Now, implement the `dot product` operation on these types of vectors and using this operator, implement the `cosine similarity` (don't forget: two functions to implement!):"
   ]
  },
  {
   "cell_type": "code",
   "execution_count": 73,
   "metadata": {
    "cell_id": "00115-d8dc29b5-3912-471e-90a3-6a9db763c917",
    "deepnote_cell_height": 531,
    "deepnote_cell_type": "code",
    "deepnote_to_be_reexecuted": false,
    "deletable": false,
    "execution_millis": 10,
    "execution_start": 1645186543706,
    "nbgrader": {
     "cell_type": "code",
     "checksum": "06a712ee75fc213a21c5f0067fd8fe28",
     "grade": false,
     "grade_id": "cell-0e8189f5f93de33f",
     "locked": false,
     "schema_version": 3,
     "solution": true,
     "task": false
    },
    "source_hash": "f02e6495"
   },
   "outputs": [],
   "source": [
    "# TODO: Implement this! (2 points)\n",
    "def dot(vec_1, vec_2):\n",
    "    \"\"\"\n",
    "    vec_1 and vec_2 are of the form: [(int, float), (int, float), ...]\n",
    "    Return the dot product of two such vectors, computed only on the floats\n",
    "    You can assume that the lengths of the vectors are the same, and the dimensions are aligned\n",
    "        i.e you won't get: vec_1 = [(1, 0.2)] ; vec_2 = [(2, 0.3)]\n",
    "                            (dimensions are unaligned and lengths are different)\n",
    "    \"\"\"\n",
    "    # YOUR CODE HERE\n",
    "    return np.dot([x[1] for x in vec_1], [y[1] for y in vec_2])\n",
    "\n",
    "\n",
    "# TODO: Implement this! (3 points)\n",
    "def cosine_sim(vec_1, vec_2):\n",
    "\n",
    "    # YOUR CODE HERE\n",
    "    # check for empty or 0-vectored vectors\n",
    "    if np.all([el == 0 for dim, el in vec_1]) or np.all([el == 0 for dim, el in vec_2]):\n",
    "        return 0\n",
    "    \n",
    "    # # Adding a custom function to compute the modulus\n",
    "    def mod(\n",
    "        vec,\n",
    "    ):\n",
    "        # Note: This still assumes that the vector is in the form :\n",
    "        # [(int, float), (int, float), ...]\n",
    "        return np.sqrt(sum(x[1] ** 2 for x in vec))\n",
    "    \n",
    "    # actually compute similarity\n",
    "    return dot(vec_1, vec_2) / (mod(vec_1) * mod(vec_2))"
   ]
  },
  {
   "cell_type": "code",
   "execution_count": 74,
   "metadata": {
    "cell_id": "00116-d4733e51-dfd0-4e9c-9240-9382dd06a589",
    "deepnote_cell_height": 224.5625,
    "deepnote_cell_type": "code",
    "deepnote_to_be_reexecuted": false,
    "deletable": false,
    "editable": false,
    "execution_millis": 11246808,
    "execution_start": 1645186543759,
    "nbgrader": {
     "cell_type": "code",
     "checksum": "d22a4a7325ba7815a808390388f534a1",
     "grade": true,
     "grade_id": "cell-b25d04ed6b79fd35",
     "locked": true,
     "points": 2,
     "schema_version": 3,
     "solution": false,
     "task": false
    },
    "source_hash": "f54a94bb"
   },
   "outputs": [
    {
     "name": "stdout",
     "output_type": "stream",
     "text": [
      "vectors: ([(1, 0.2), (2, 0.3), (3, 0.4)], [(1, 0.2), (2, 0.7), (3, 0.4)])\n",
      "dot product = 0.41000000000000003\n",
      "cosine similarity = 0.9165587597202866\n"
     ]
    }
   ],
   "source": [
    "##### Function check\n",
    "print(f\"vectors: {(example_vec_1,example_vec_2)}\")\n",
    "print(f\"dot product = {dot(example_vec_1,example_vec_2)}\")\n",
    "print(f\"cosine similarity = {cosine_sim(example_vec_1,example_vec_2)}\")\n",
    "#####"
   ]
  },
  {
   "cell_type": "code",
   "execution_count": 75,
   "metadata": {
    "cell_id": "00117-1b58cb35-2d08-4e28-8f2b-6de011617cf4",
    "deepnote_cell_height": 81,
    "deepnote_cell_type": "code",
    "deepnote_to_be_reexecuted": false,
    "deletable": false,
    "editable": false,
    "execution_millis": 11246825,
    "execution_start": 1645186543833,
    "nbgrader": {
     "cell_type": "code",
     "checksum": "0744131724ce76b1b3f163b4bae5f700",
     "grade": true,
     "grade_id": "cell-ae3c4466866ace77",
     "locked": true,
     "points": 3,
     "schema_version": 3,
     "solution": false,
     "task": false
    },
    "source_hash": "28110d30"
   },
   "outputs": [],
   "source": [
    "#### Please do not change this. This cell is used for grading."
   ]
  },
  {
   "cell_type": "markdown",
   "metadata": {
    "cell_id": "00118-a369a32d-5d88-4db7-b799-15d230e97a18",
    "deepnote_cell_height": 123.796875,
    "deepnote_cell_type": "markdown",
    "deletable": false,
    "editable": false,
    "nbgrader": {
     "cell_type": "markdown",
     "checksum": "9b123f599f9ea372d14676e23f1c6a52",
     "grade": false,
     "grade_id": "cell-4b2534067c44fcdf",
     "locked": true,
     "schema_version": 3,
     "solution": false,
     "task": false
    }
   },
   "source": [
    "---\n",
    "### Section 6.2: LSI Retrieval (10 points)<a class=\"anchor\" id=\"lsi_retrieval\"></a>\n",
    "LSI retrieval is simply ranking the documents based on their cosine similarity to the query vector.\n",
    "First, let's write a parent class for vector-based retrieval models:"
   ]
  },
  {
   "cell_type": "code",
   "execution_count": 76,
   "metadata": {
    "cell_id": "00119-814ff936-077e-4cc4-993b-e4228ac65973",
    "deepnote_cell_height": 1017,
    "deepnote_cell_type": "code",
    "deepnote_to_be_reexecuted": false,
    "deletable": false,
    "editable": false,
    "execution_millis": 11246845,
    "execution_start": 1645186543834,
    "nbgrader": {
     "cell_type": "code",
     "checksum": "ecc111d58182570e2252b8ef5d6b02af",
     "grade": false,
     "grade_id": "cell-937936cea18711ee",
     "locked": true,
     "schema_version": 3,
     "solution": false,
     "task": false
    },
    "source_hash": "c421a787"
   },
   "outputs": [],
   "source": [
    "class VectorSpaceRetrievalModel:\n",
    "    \"\"\"\n",
    "    Parent class for Dense Vector Retrieval models\n",
    "    \"\"\"\n",
    "\n",
    "    def __init__(self, doc_repr):\n",
    "        \"\"\"\n",
    "        document_collection:\n",
    "            [\n",
    "                (doc_id_1, [token 1, token 2, ...]),\n",
    "                (doc_id_2, [token 1, token 2, ....])\n",
    "                ...\n",
    "            ]\n",
    "\n",
    "        \"\"\"\n",
    "        self.doc_repr = doc_repr\n",
    "        self.documents = [_[1] for _ in self.doc_repr]\n",
    "\n",
    "        # construct a dictionary\n",
    "        self.dictionary = Dictionary(self.documents)\n",
    "        # Filter out words that occur less than 20 documents, or more than 50% of the documents.\n",
    "        self.dictionary.filter_extremes(no_below=10)\n",
    "        self.corpus = [self.dictionary.doc2bow(doc) for doc in self.documents]\n",
    "\n",
    "        # Make a index to word dictionary.\n",
    "        temp = self.dictionary[0]  # This is only to \"load\" the dictionary.\n",
    "        self.id2word = self.dictionary.id2token\n",
    "\n",
    "        # this is set by the train_model function\n",
    "        self.model = None\n",
    "\n",
    "    def vectorize_documents(self):\n",
    "        \"\"\"\n",
    "        Returns a doc_id -> vector dictionary\n",
    "        \"\"\"\n",
    "        vectors = {}\n",
    "        for (doc_id, _), cc in zip(self.doc_repr, self.corpus):\n",
    "            vectors[doc_id] = self.model[cc]\n",
    "        return vectors\n",
    "\n",
    "    def vectorize_query(self, query):\n",
    "        # Note the use of config_2 here!\n",
    "        query = process_text(query, **config_2)\n",
    "        query_vector = self.dictionary.doc2bow(query)\n",
    "        return self.model[query_vector]\n",
    "\n",
    "    def train_model(self):\n",
    "        \"\"\"\n",
    "        Trains a model and sets the 'self.model' variable.\n",
    "        Make sure to use the variables created in the __init__ method.\n",
    "        e.g the variables which may be useful: {corpus, dictionary, id2word}\n",
    "        \"\"\"\n",
    "        raise NotImplementedError()"
   ]
  },
  {
   "cell_type": "markdown",
   "metadata": {
    "cell_id": "00120-41460ee2-1ba5-4e9b-8779-fc6d4bfda152",
    "deepnote_cell_height": 181,
    "deepnote_cell_type": "markdown",
    "deletable": false,
    "editable": false,
    "nbgrader": {
     "cell_type": "markdown",
     "checksum": "ff161eefd9b81b768cd6361bc1a502b0",
     "grade": false,
     "grade_id": "cell-704a18c2f80cd60c",
     "locked": true,
     "schema_version": 3,
     "solution": false,
     "task": false
    }
   },
   "source": [
    "---\n",
    "**Implementation (5 points):**\n",
    "Implement the `train_model` method in the following class (note that this is only one line of code in `gensim`!). Ensure that the parameters defined in the `__init__` method are not changed, and are *used in the `train_method` function*. Normally, the hyperaparameter space will be searched using grid search / other methods - in this assignment we have provided the hyperparameters for you.\n",
    "\n",
    "The last two lines of code train an LSI model on the list of documents which have been stemmed, lower-cased and have stopwords removed."
   ]
  },
  {
   "cell_type": "code",
   "execution_count": 77,
   "metadata": {
    "cell_id": "00121-9056c69d-5f3f-4d7d-bdd1-1593996f65a1",
    "deepnote_cell_height": 333,
    "deepnote_cell_type": "code",
    "deepnote_to_be_reexecuted": false,
    "deletable": false,
    "execution_millis": 0,
    "execution_start": 1645186543877,
    "nbgrader": {
     "cell_type": "code",
     "checksum": "0e90eedc27c248bc1ae050518a46a46c",
     "grade": false,
     "grade_id": "cell-307682c9089f15d6",
     "locked": false,
     "schema_version": 3,
     "solution": true,
     "task": false
    },
    "source_hash": "bab726fa"
   },
   "outputs": [],
   "source": [
    "# TODO: Implement this! (5 points)\n",
    "class LsiRetrievalModel(VectorSpaceRetrievalModel):\n",
    "    def __init__(self, doc_repr):\n",
    "        super().__init__(doc_repr)\n",
    "\n",
    "        self.num_topics = 100\n",
    "        self.chunksize = 2000\n",
    "\n",
    "    def train_model(self):\n",
    "        self.model = LsiModel(\n",
    "            corpus=self.corpus,\n",
    "            id2word=self.id2word,\n",
    "            num_topics=self.num_topics,\n",
    "            chunksize=self.chunksize,\n",
    "        )"
   ]
  },
  {
   "cell_type": "code",
   "execution_count": 78,
   "metadata": {
    "cell_id": "00122-3bd0788f-3ce1-4afe-8344-6361027be847",
    "deepnote_cell_height": 1451,
    "deepnote_cell_type": "code",
    "deepnote_output_heights": [
     null,
     611
    ],
    "deepnote_to_be_reexecuted": false,
    "deletable": false,
    "editable": false,
    "execution_millis": 2220,
    "execution_start": 1645186543878,
    "nbgrader": {
     "cell_type": "code",
     "checksum": "00399cfe13d60cb4beed1271e36004b0",
     "grade": true,
     "grade_id": "cell-5ce512650c1b2dfb",
     "locked": true,
     "points": 0,
     "schema_version": 3,
     "solution": false,
     "task": false
    },
    "source_hash": "31499d4f",
    "tags": []
   },
   "outputs": [
    {
     "name": "stderr",
     "output_type": "stream",
     "text": [
      "2022-02-22 12:31:53,657 : INFO : adding document #0 to Dictionary(0 unique tokens: [])\n",
      "2022-02-22 12:31:53,827 : INFO : built Dictionary(5937 unique tokens: ['-', 'algebra', 'intern', 'languag', 'preliminari']...) from 3204 documents (total 115969 corpus positions)\n",
      "2022-02-22 12:31:53,843 : INFO : discarding 4740 tokens: [('repeat', 8), ('glossari', 7), ('inspect', 8), ('uncol', 2), ('rung', 9), ('secant', 2), ('.', 1603), ('acceler', 6), ('diverg', 3), ('induc', 9)]...\n",
      "2022-02-22 12:31:53,844 : INFO : keeping 1197 tokens which were in no less than 10 and no more than 1602 (=50.0%) documents\n",
      "2022-02-22 12:31:53,848 : INFO : resulting dictionary: Dictionary(1197 unique tokens: ['-', 'algebra', 'intern', 'languag', 'preliminari']...)\n",
      "2022-02-22 12:31:53,961 : INFO : using serial LSI version on this node\n",
      "2022-02-22 12:31:53,966 : INFO : updating model with new documents\n",
      "2022-02-22 12:31:53,967 : INFO : preparing a new chunk of documents\n",
      "2022-02-22 12:31:53,984 : INFO : using 100 extra samples and 2 power iterations\n",
      "2022-02-22 12:31:53,986 : INFO : 1st phase: constructing (1197, 200) action matrix\n",
      "2022-02-22 12:31:54,011 : INFO : orthonormalizing (1197, 200) action matrix\n",
      "2022-02-22 12:31:54,088 : INFO : 2nd phase: running dense svd on (200, 2000) matrix\n",
      "2022-02-22 12:31:54,148 : INFO : computing the final decomposition\n",
      "2022-02-22 12:31:54,149 : INFO : keeping 100 factors (discarding 13.436% of energy spectrum)\n",
      "2022-02-22 12:31:54,155 : INFO : processed documents up to #2000\n",
      "2022-02-22 12:31:54,158 : INFO : topic #0(152.127): 0.741*\",\" + 0.342*\"-\" + 0.211*\"system\" + 0.204*\"program\" + 0.192*\"comput\" + 0.146*\"(\" + 0.127*\"languag\" + 0.108*\")\" + 0.084*\"gener\" + 0.083*\"data\"\n",
      "2022-02-22 12:31:54,159 : INFO : topic #1(60.600): -0.607*\"(\" + -0.434*\")\" + -0.366*\"algorithm\" + -0.300*\"-\" + 0.237*\",\" + 0.213*\"system\" + 0.132*\"comput\" + -0.096*\"[\" + 0.093*\"program\" + -0.084*\"])\"\n",
      "2022-02-22 12:31:54,161 : INFO : topic #2(57.438): -0.744*\"-\" + 0.452*\",\" + -0.263*\"system\" + 0.214*\"(\" + 0.166*\")\" + -0.107*\"time\" + -0.105*\"program\" + 0.094*\"algorithm\" + -0.068*\"comput\" + -0.067*\"share\"\n",
      "2022-02-22 12:31:54,162 : INFO : topic #3(48.370): 0.483*\"system\" + 0.375*\"program\" + 0.367*\"comput\" + -0.363*\"-\" + -0.308*\",\" + 0.212*\"(\" + 0.168*\")\" + 0.147*\"algorithm\" + -0.144*\"languag\" + 0.119*\"time\"\n",
      "2022-02-22 12:31:54,163 : INFO : topic #4(45.710): 0.489*\"comput\" + -0.475*\"languag\" + -0.428*\"program\" + 0.238*\"method\" + 0.141*\"problem\" + -0.121*\"system\" + -0.109*\")\" + 0.107*\"equat\" + 0.100*\"algorithm\" + -0.099*\"(\"\n",
      "2022-02-22 12:31:54,165 : INFO : preparing a new chunk of documents\n",
      "2022-02-22 12:31:54,178 : INFO : using 100 extra samples and 2 power iterations\n",
      "2022-02-22 12:31:54,178 : INFO : 1st phase: constructing (1197, 200) action matrix\n",
      "2022-02-22 12:31:54,194 : INFO : orthonormalizing (1197, 200) action matrix\n",
      "2022-02-22 12:31:54,270 : INFO : 2nd phase: running dense svd on (200, 1204) matrix\n",
      "2022-02-22 12:31:54,311 : INFO : computing the final decomposition\n",
      "2022-02-22 12:31:54,312 : INFO : keeping 100 factors (discarding 14.033% of energy spectrum)\n",
      "2022-02-22 12:31:54,315 : INFO : merging projections: (1197, 100) + (1197, 100)\n",
      "2022-02-22 12:31:54,345 : INFO : keeping 100 factors (discarding 8.164% of energy spectrum)\n",
      "2022-02-22 12:31:54,350 : INFO : processed documents up to #3204\n",
      "2022-02-22 12:31:54,352 : INFO : topic #0(225.136): 0.759*\",\" + 0.337*\"-\" + 0.196*\"system\" + 0.186*\"program\" + 0.166*\"comput\" + 0.139*\"(\" + 0.103*\")\" + 0.103*\"algorithm\" + 0.099*\"languag\" + 0.087*\"time\"\n",
      "2022-02-22 12:31:54,354 : INFO : topic #1(87.805): 0.613*\"-\" + -0.399*\",\" + 0.399*\"(\" + 0.326*\"algorithm\" + 0.293*\")\" + -0.129*\"system\" + -0.107*\"program\" + 0.085*\"method\" + 0.077*\"time\" + 0.062*\"1\"\n",
      "2022-02-22 12:31:54,355 : INFO : topic #2(81.909): 0.550*\"-\" + -0.434*\"(\" + 0.355*\"system\" + -0.321*\")\" + -0.291*\",\" + -0.266*\"algorithm\" + 0.146*\"program\" + 0.123*\"comput\" + 0.078*\"time\" + -0.064*\"[\"\n",
      "2022-02-22 12:31:54,357 : INFO : topic #3(72.432): -0.693*\"program\" + 0.339*\",\" + 0.279*\"-\" + -0.251*\"(\" + -0.221*\"system\" + -0.214*\"languag\" + -0.204*\")\" + -0.160*\"comput\" + -0.099*\"data\" + -0.056*\"execut\"\n",
      "2022-02-22 12:31:54,359 : INFO : topic #4(68.523): -0.673*\"system\" + 0.453*\"program\" + 0.254*\"languag\" + 0.212*\"-\" + -0.179*\"comput\" + -0.165*\"(\" + -0.121*\")\" + -0.115*\"model\" + 0.101*\",\" + -0.098*\"algorithm\"\n"
     ]
    },
    {
     "data": {
      "text/plain": [
       "[(0, 0.015215431279324306),\n",
       " (1, -0.01627771717955789),\n",
       " (2, -0.00017000631990410787),\n",
       " (3, -0.0018194188436224008),\n",
       " (4, -0.009426299467609946),\n",
       " (5, -0.004677635131677748),\n",
       " (6, 0.027113129469274067),\n",
       " (7, 0.016728147455937672),\n",
       " (8, -0.03184285968482571),\n",
       " (9, -0.000619801199153577),\n",
       " (10, 0.0022211919957250484),\n",
       " (11, -0.017523101602963498),\n",
       " (12, -0.0002671839403177289),\n",
       " (13, 0.0017371634920102406),\n",
       " (14, 0.0042259272652534555),\n",
       " (15, 0.005340341311064062),\n",
       " (16, 0.005406386542471983),\n",
       " (17, 0.002292638956327118),\n",
       " (18, -0.017600434781387824),\n",
       " (19, 0.020741111086152085),\n",
       " (20, -0.009735378145288753),\n",
       " (21, -0.013612220780536454),\n",
       " (22, 0.047599859169224185),\n",
       " (23, 0.026491083833822034),\n",
       " (24, -0.011881721169789737),\n",
       " (25, -0.009828502856717785),\n",
       " (26, 0.008414665002214123),\n",
       " (27, 0.07260963326389606),\n",
       " (28, -0.06304650356508885),\n",
       " (29, 0.031336818015427405),\n",
       " (30, 0.04690806518637086),\n",
       " (31, 0.04828767500525158),\n",
       " (32, -0.07204757700665447),\n",
       " (33, 0.04371560195561412),\n",
       " (34, -0.024945520637713194),\n",
       " (35, 0.062344318484906035),\n",
       " (36, 0.041093914043526934),\n",
       " (37, -0.00954428286994247),\n",
       " (38, -0.0625616269676014),\n",
       " (39, 0.028450359107314475),\n",
       " (40, -0.05132247597846144),\n",
       " (41, -0.03182909049266301),\n",
       " (42, 0.018267497912275978),\n",
       " (43, 0.01380884709106625),\n",
       " (44, 0.01737419802334924),\n",
       " (45, 0.059681737072012145),\n",
       " (46, -0.012526251412942623),\n",
       " (47, 0.012453168318278992),\n",
       " (48, 0.012500097622108328),\n",
       " (49, 0.029387698404242397),\n",
       " (50, 0.011731262637448135),\n",
       " (51, 0.04939367530768737),\n",
       " (52, -0.009462814540706991),\n",
       " (53, 0.0051113379429687305),\n",
       " (54, 0.03641336401410973),\n",
       " (55, 0.029590071091896368),\n",
       " (56, -0.008462059255804961),\n",
       " (57, -0.014044105305784392),\n",
       " (58, -0.008964532331042),\n",
       " (59, 0.03331495258771256),\n",
       " (60, -0.02008727727630069),\n",
       " (61, -0.05015074304099702),\n",
       " (62, -0.010951808176197246),\n",
       " (63, 0.000234192274692957),\n",
       " (64, 0.061152509300505226),\n",
       " (65, 0.04986819523096787),\n",
       " (66, 0.004103044691021046),\n",
       " (67, -0.05982132715881204),\n",
       " (68, 0.01369782136250812),\n",
       " (69, -0.025650643818537308),\n",
       " (70, -0.0601021709941078),\n",
       " (71, -0.021710032759985308),\n",
       " (72, 0.031914191174208274),\n",
       " (73, -0.07846342561802855),\n",
       " (74, -0.03752577590399674),\n",
       " (75, 0.031107568340806257),\n",
       " (76, 0.026620654442742482),\n",
       " (77, 0.020176287876537857),\n",
       " (78, 0.03563694545237929),\n",
       " (79, -0.028281913321524632),\n",
       " (80, -0.007805222139677714),\n",
       " (81, -0.019207662770887448),\n",
       " (82, 0.058261328089094636),\n",
       " (83, 0.0426968795456724),\n",
       " (84, -0.04271970544236721),\n",
       " (85, 0.015115638725645978),\n",
       " (86, 0.019448375884648216),\n",
       " (87, 0.0017815556217985929),\n",
       " (88, -0.06046481854572668),\n",
       " (89, -0.07305173338080342),\n",
       " (90, -0.07227697591316973),\n",
       " (91, 0.021949040711683448),\n",
       " (92, 0.020570027392478114),\n",
       " (93, -0.05209350460266643),\n",
       " (94, 0.02667869330915253),\n",
       " (95, -0.04101129988010958),\n",
       " (96, -0.0015260830764491917),\n",
       " (97, 0.009930990126004628),\n",
       " (98, 0.0031142677738926275),\n",
       " (99, 0.016895740734779632)]"
      ]
     },
     "execution_count": 78,
     "metadata": {},
     "output_type": "execute_result"
    }
   ],
   "source": [
    "##### Function check\n",
    "lsi = LsiRetrievalModel(doc_repr_2)\n",
    "lsi.train_model()\n",
    "\n",
    "# you can now get an LSI vector for a given query in the following way:\n",
    "lsi.vectorize_query(\"report\")\n",
    "#####"
   ]
  },
  {
   "cell_type": "markdown",
   "metadata": {
    "cell_id": "00123-e372e3ee-50ec-4225-ab44-bb4d14ac8190",
    "deepnote_cell_height": 52.390625,
    "deepnote_cell_type": "markdown",
    "deletable": false,
    "editable": false,
    "nbgrader": {
     "cell_type": "markdown",
     "checksum": "7116bb9f576c5bb04934e1d59c51d729",
     "grade": false,
     "grade_id": "cell-4c5eeb557b4fca2f",
     "locked": true,
     "points": 5,
     "schema_version": 3,
     "solution": false,
     "task": true
    }
   },
   "source": [
    "\\#### Please do not change this. This cell is used for grading."
   ]
  },
  {
   "cell_type": "markdown",
   "metadata": {
    "cell_id": "00124-d9fd321a-609f-4da5-8d2d-584c9ed530d3",
    "deepnote_cell_height": 73,
    "deepnote_cell_type": "markdown",
    "deletable": false,
    "editable": false,
    "nbgrader": {
     "cell_type": "markdown",
     "checksum": "26e2ff3c413745e633d99f66c041d6b1",
     "grade": false,
     "grade_id": "cell-c4e50296cd17a555",
     "locked": true,
     "schema_version": 3,
     "solution": false,
     "task": false
    }
   },
   "source": [
    "---\n",
    "**Implementation (5 points):**\n",
    " Next, implement a basic ranking class for vector space retrieval (used for all semantic methods):"
   ]
  },
  {
   "cell_type": "code",
   "execution_count": 79,
   "metadata": {
    "cell_id": "00125-826a2865-fd5c-4886-96fd-21c5894bcd77",
    "deepnote_cell_height": 765,
    "deepnote_cell_type": "code",
    "deepnote_to_be_reexecuted": false,
    "deletable": false,
    "execution_millis": 1,
    "execution_start": 1645186546165,
    "nbgrader": {
     "cell_type": "code",
     "checksum": "1a8389d2f0635c3405e2b0b27ed9f327",
     "grade": false,
     "grade_id": "cell-250515d288e80cdc",
     "locked": false,
     "schema_version": 3,
     "solution": true,
     "task": false
    },
    "source_hash": "eb69cddb"
   },
   "outputs": [],
   "source": [
    "# TODO: Implement this! (5 points)\n",
    "class DenseRetrievalRanker:\n",
    "    def __init__(self, vsrm, similarity_fn):\n",
    "        \"\"\"\n",
    "        vsrm: instance of `VectorSpaceRetrievalModel`\n",
    "        similarity_fn: function instance that takes in two vectors\n",
    "                        and returns a similarity score e.g cosine_sim defined earlier\n",
    "        \"\"\"\n",
    "        self.vsrm = vsrm\n",
    "        self.vectorized_documents = self.vsrm.vectorize_documents()\n",
    "        self.similarity_fn = similarity_fn\n",
    "\n",
    "    def _compute_sim(self, query_vector):\n",
    "        \"\"\"\n",
    "        Compute the similarity of `query_vector` to documents in\n",
    "        `self.vectorized_documents` using `self.similarity_fn`\n",
    "        Returns a list of (doc_id, score) tuples\n",
    "        \"\"\"\n",
    "        result = []\n",
    "        for doc_id, doc in self.vectorized_documents.items():\n",
    "            result.append((doc_id, self.similarity_fn(query_vector, doc)))\n",
    "        return result\n",
    "\n",
    "    def search(self, query):\n",
    "        scores = self._compute_sim(self.vsrm.vectorize_query(query))\n",
    "        scores.sort(key=lambda _: -_[1])\n",
    "        return scores"
   ]
  },
  {
   "cell_type": "code",
   "execution_count": 80,
   "metadata": {
    "cell_id": "00126-61a00dcc-2fd6-4dc9-9bdd-24f69e74576b",
    "deepnote_cell_height": 248.9375,
    "deepnote_cell_type": "code",
    "deepnote_output_heights": [
     97.9375
    ],
    "deepnote_to_be_reexecuted": false,
    "deletable": false,
    "editable": false,
    "execution_millis": 2654,
    "execution_start": 1645186546166,
    "nbgrader": {
     "cell_type": "code",
     "checksum": "f237dd1ef6c1783c06797f4b514421f5",
     "grade": true,
     "grade_id": "cell-b73068b3e77a8e31",
     "locked": true,
     "points": 0,
     "schema_version": 3,
     "solution": false,
     "task": false
    },
    "source_hash": "d95413f2"
   },
   "outputs": [
    {
     "data": {
      "text/plain": [
       "[('599', 0.8008762357931529),\n",
       " ('947', 0.5918924511959113),\n",
       " ('53', 0.5087074197369398),\n",
       " ('1339', 0.45610219513960676),\n",
       " ('3160', 0.4394712194940453)]"
      ]
     },
     "execution_count": 80,
     "metadata": {},
     "output_type": "execute_result"
    }
   ],
   "source": [
    "##### Function check\n",
    "drm_lsi = DenseRetrievalRanker(lsi, cosine_sim)\n",
    "drm_lsi.search(\"report\")[:5]\n",
    "#####"
   ]
  },
  {
   "cell_type": "markdown",
   "metadata": {
    "cell_id": "00127-61d1bfa7-3b4f-4bae-9849-3abf43008fb7",
    "deepnote_cell_height": 52.390625,
    "deepnote_cell_type": "markdown",
    "deletable": false,
    "editable": false,
    "nbgrader": {
     "cell_type": "markdown",
     "checksum": "5b3f19fdcaa585d263706d5a26038799",
     "grade": false,
     "grade_id": "cell-034c755a6502b868",
     "locked": true,
     "points": 5,
     "schema_version": 3,
     "solution": false,
     "task": true
    }
   },
   "source": [
    "\\#### Please do not change this. This cell is used for grading."
   ]
  },
  {
   "cell_type": "markdown",
   "metadata": {
    "cell_id": "00128-76ede674-a982-4ad0-abe7-680c64dc6488",
    "deepnote_cell_height": 75.796875,
    "deepnote_cell_type": "markdown",
    "deletable": false,
    "editable": false,
    "nbgrader": {
     "cell_type": "markdown",
     "checksum": "dcafef6e037033c46304b914f7c78bdf",
     "grade": false,
     "grade_id": "cell-d1df23f497d5ed6b",
     "locked": true,
     "schema_version": 3,
     "solution": false,
     "task": false
    }
   },
   "source": [
    "---\n",
    "Now, you can test your LSI model in the following cell: try finding queries which are lexically different to documents, but semantically similar - does LSI work well for these queries?!"
   ]
  },
  {
   "cell_type": "code",
   "execution_count": 81,
   "metadata": {
    "cell_id": "00129-e8052686-38ce-490b-8725-f62afa5b6285",
    "deepnote_cell_height": 663,
    "deepnote_cell_type": "code",
    "deepnote_to_be_reexecuted": false,
    "deletable": false,
    "editable": false,
    "execution_millis": 45,
    "execution_start": 1645186548831,
    "nbgrader": {
     "cell_type": "code",
     "checksum": "11734bc7674377b340ad51297a8e8bb5",
     "grade": false,
     "grade_id": "cell-efd1d08dfc04ec3e",
     "locked": true,
     "schema_version": 3,
     "solution": false,
     "task": false
    },
    "source_hash": "15e4943e"
   },
   "outputs": [
    {
     "data": {
      "application/vnd.jupyter.widget-view+json": {
       "model_id": "59d4a080fba84f5b90cf1fef924af40b",
       "version_major": 2,
       "version_minor": 0
      },
      "text/plain": [
       "Text(value='', description='Search Bar')"
      ]
     },
     "metadata": {},
     "output_type": "display_data"
    }
   ],
   "source": [
    "# test your LSI model\n",
    "search_fn = drm_lsi.search\n",
    "\n",
    "text = widgets.Text(description=\"Search Bar\", width=200)\n",
    "display(text)\n",
    "\n",
    "\n",
    "def make_results_2(query, search_fn):\n",
    "    results = []\n",
    "    for doc_id, score in search_fn(query):\n",
    "        highlight = highlight_text(docs_by_id[doc_id], query)\n",
    "        if len(highlight.strip()) == 0:\n",
    "            highlight = docs_by_id[doc_id]\n",
    "        results.append(ResultRow(doc_id, highlight, score))\n",
    "    return results\n",
    "\n",
    "\n",
    "def handle_submit_2(sender):\n",
    "    print(f\"Searching for: '{sender.value}' (SEARCH FN: {search_fn})\")\n",
    "\n",
    "    results = make_results_2(sender.value, search_fn)\n",
    "\n",
    "    # display only the top 5\n",
    "    results = results[:5]\n",
    "\n",
    "    body = \"\"\n",
    "    for idx, r in enumerate(results):\n",
    "        body += f\"<li>Document #{r.doc_id}({r.score}): {r.snippet}</li>\"\n",
    "    display(HTML(f\"<ul>{body}</ul>\"))\n",
    "\n",
    "\n",
    "text.on_submit(handle_submit_2)"
   ]
  },
  {
   "cell_type": "markdown",
   "metadata": {
    "cell_id": "00130-70ac6c5f-a513-4253-abde-f31df522d92d",
    "deepnote_cell_height": 190.59375,
    "deepnote_cell_type": "markdown",
    "deletable": false,
    "editable": false,
    "nbgrader": {
     "cell_type": "markdown",
     "checksum": "d074ce1ca48384cdda78742741c938be",
     "grade": false,
     "grade_id": "cell-3a86cef264d8f6cf",
     "locked": true,
     "schema_version": 3,
     "solution": false,
     "task": false
    }
   },
   "source": [
    "---\n",
    "## Section 7: Latent Dirichlet Allocation (LDA) (10 points) <a class=\"anchor\" id=\"lda\"></a>\n",
    "\n",
    "[Back to Part 2](#part2)\n",
    "\n",
    "The specifics of LDA is out of the scope of this assignment, but we will use the `gensim` implementation to perform search using LDA over our small document collection. The key thing to remember is that LDA, unlike LSI, outputs a topic **distribution**, not a vector. With that in mind, let's first define a similarity measure.\n"
   ]
  },
  {
   "cell_type": "markdown",
   "metadata": {
    "cell_id": "00131-ec0e884b-e164-4ba8-9ed6-c767c87825c3",
    "deepnote_cell_height": 182.59375,
    "deepnote_cell_type": "markdown",
    "deletable": false,
    "editable": false,
    "nbgrader": {
     "cell_type": "markdown",
     "checksum": "db01092373b18f0c9dfed1bb17db4ad9",
     "grade": false,
     "grade_id": "cell-6b78ad22c2d60ba7",
     "locked": true,
     "schema_version": 3,
     "solution": false,
     "task": false
    }
   },
   "source": [
    "---\n",
    "### Section 7.1: Jenson-Shannon divergence (5 points) <a class=\"anchor\" id=\"js_sim\"></a>\n",
    "\n",
    "The Jenson-Shannon divergence is a symmetric and finite measure on two probability distributions (unlike the KL, which is neither). For identical distributions, the JSD is equal to 0, and since our code uses 0 as irrelevant and higher scores as relevant, we use `(1 - JSD)` as the score or 'similarity' in our setup\n",
    "\n",
    "**Note**: the JSD is bounded to \\[0,1\\] only if we use log base 2. So please ensure that you're using `np.log2` instead of `np.log`"
   ]
  },
  {
   "cell_type": "code",
   "execution_count": 82,
   "metadata": {
    "cell_id": "00132-ccb9488f-e93e-484d-891a-5260b0b3ba46",
    "deepnote_cell_height": 783,
    "deepnote_cell_type": "code",
    "deepnote_to_be_reexecuted": false,
    "deletable": false,
    "execution_millis": 14,
    "execution_start": 1645186548888,
    "nbgrader": {
     "cell_type": "code",
     "checksum": "a579e6cd7a24a3516bc9a84528b392d3",
     "grade": false,
     "grade_id": "cell-d2376a85a4841e98",
     "locked": false,
     "schema_version": 3,
     "solution": true,
     "task": false
    },
    "source_hash": "887f6708"
   },
   "outputs": [],
   "source": [
    "## TODO: Implement this! (5 points)\n",
    "def jenson_shannon_divergence(vec_1, vec_2, assert_prob=False):\n",
    "    \"\"\"\n",
    "    Computes the Jensen-Shannon divergence between two probability distributions.\n",
    "    NOTE: DO NOT RETURN 1 - JSD here, that is handled by the next function which is already implemented!\n",
    "    The inputs are *gensim* vectors - same as the vectors for the cosine_sim function\n",
    "    assert_prob is a flag that checks if the inputs are proper probability distributions\n",
    "        i.e they sum to 1 and are positive - use this to check your inputs if needed.\n",
    "            (This is optional to implement, but recommended -\n",
    "            you can the default to False to save a few ms off the runtime)\n",
    "    \"\"\"\n",
    "\n",
    "    # --------- Define a custom KL divergence function --------\n",
    "    def KL(a, b):\n",
    "        a = np.asarray(a, dtype=np.float)\n",
    "        b = np.asarray(b, dtype=np.float)\n",
    "\n",
    "        return np.sum(np.where(a != 0, a * np.log2(a / b), 0))\n",
    "\n",
    "    # ---------------------------------------------------------\n",
    "\n",
    "    vec_1_probs = np.array([x[1] for x in vec_1])  # extracting the probabily values\n",
    "    vec_2_probs = np.array([y[1] for y in vec_2])  # extracting the probabily values\n",
    "\n",
    "    # if flag=True, assert that the inputs are proper probability distributions\n",
    "    if assert_prob:\n",
    "        assert np.sum(vec_1_probs) == 1 and all(\n",
    "            vec_1_probs > 0\n",
    "        ), \"Values of vector1 must sum to 1 and be positive\"\n",
    "        assert np.sum(vec_2_probs) == 1 and all(\n",
    "            vec_2_probs > 0\n",
    "        ), \"Values of vector2 must sum to 1 and be positive\"\n",
    "\n",
    "    # If inputs are valid, compute divergence\n",
    "    m = 0.5 * (vec_1_probs + vec_2_probs)\n",
    "    return 0.5 * KL(vec_1_probs, m) + 0.5 * KL(vec_2_probs, m)\n",
    "\n",
    "\n",
    "def jenson_shannon_sim(vec_1, vec_2, assert_prob=False):\n",
    "    return 1 - jenson_shannon_divergence(vec_1, vec_2)"
   ]
  },
  {
   "cell_type": "code",
   "execution_count": 83,
   "metadata": {
    "cell_id": "00133-062a3052-2e16-413b-bac4-d476558e3866",
    "deepnote_cell_height": 190.1875,
    "deepnote_cell_type": "code",
    "deepnote_output_heights": [
     21.1875
    ],
    "deepnote_to_be_reexecuted": false,
    "deletable": false,
    "editable": false,
    "execution_millis": 70,
    "execution_start": 1645186548917,
    "nbgrader": {
     "cell_type": "code",
     "checksum": "ab340aa941c9fb5c89b3fd0a9139e246",
     "grade": true,
     "grade_id": "cell-487c6d2933f38053",
     "locked": true,
     "points": 5,
     "schema_version": 3,
     "solution": false,
     "task": false
    },
    "source_hash": "74ec8119"
   },
   "outputs": [
    {
     "data": {
      "text/plain": [
       "0.9251064410358459"
      ]
     },
     "execution_count": 83,
     "metadata": {},
     "output_type": "execute_result"
    }
   ],
   "source": [
    "##### Function check\n",
    "vec_1 = [(1, 0.3), (2, 0.4), (3, 0.3)]\n",
    "vec_2 = [(1, 0.1), (2, 0.7), (3, 0.2)]\n",
    "jenson_shannon_sim(vec_1, vec_2, assert_prob=True)\n",
    "#####"
   ]
  },
  {
   "cell_type": "markdown",
   "metadata": {
    "cell_id": "00134-b1b00101-4499-4c42-a48c-f90f9f37d7e9",
    "deepnote_cell_height": 227.375,
    "deepnote_cell_type": "markdown",
    "deletable": false,
    "editable": false,
    "nbgrader": {
     "cell_type": "markdown",
     "checksum": "0a1583a5f23e3390038331cce67f5d8e",
     "grade": false,
     "grade_id": "cell-4535cc67a50b80fa",
     "locked": true,
     "schema_version": 3,
     "solution": false,
     "task": false
    }
   },
   "source": [
    "---\n",
    "### Section 7.2: LDA retrieval (5 points) <a class=\"anchor\" id=\"lda_ret\"></a>\n",
    "\n",
    "Implement the `train_model` method in the following class (note that this is only one line of code in `gensim`!). Ensure that the parameters defined in the `__init__` method are not changed, and are *used in the `train_method` function*. You do not need to set this. Normally, the hyperaparameter space will be searched using grid search / other methods. Note that training the LDA model might take some time\n",
    "\n",
    "The last two lines of code train an LDA model on the list of documents which have been stemmed, lower-cased and have stopwords removed."
   ]
  },
  {
   "cell_type": "code",
   "execution_count": 84,
   "metadata": {
    "cell_id": "00135-c9620a32-0d75-44b0-9b91-6223cae5d6d9",
    "deepnote_cell_height": 603,
    "deepnote_cell_type": "code",
    "deepnote_to_be_reexecuted": false,
    "deletable": false,
    "execution_millis": 1,
    "execution_start": 1645186548985,
    "nbgrader": {
     "cell_type": "code",
     "checksum": "27de8e4fa85536bb396b73bfc51b3f50",
     "grade": false,
     "grade_id": "cell-021a48dff4a8bb91",
     "locked": false,
     "schema_version": 3,
     "solution": true,
     "task": false
    },
    "source_hash": "a2398658"
   },
   "outputs": [],
   "source": [
    "# TODO: Implement this! (5 points)\n",
    "class LdaRetrievalModel(VectorSpaceRetrievalModel):\n",
    "    def __init__(self, doc_repr):\n",
    "        super().__init__(doc_repr)\n",
    "\n",
    "        # use these parameters in the train_model method\n",
    "        self.num_topics = 100\n",
    "        self.chunksize = 2000\n",
    "        self.passes = 20\n",
    "        self.iterations = 400\n",
    "        self.eval_every = 10\n",
    "        # this is need to get full vectors\n",
    "        self.minimum_probability = 0.0\n",
    "        self.alpha = \"auto\"\n",
    "        self.eta = \"auto\"\n",
    "\n",
    "    def train_model(self):\n",
    "        # YOUR CODE HERE\n",
    "        self.model = LdaModel(\n",
    "            corpus=self.corpus,\n",
    "            id2word=self.id2word,\n",
    "            num_topics=self.num_topics,\n",
    "            chunksize=self.chunksize,\n",
    "            passes=self.passes,\n",
    "            iterations=self.iterations,\n",
    "            eval_every=self.eval_every,\n",
    "            minimum_probability=self.minimum_probability,\n",
    "            alpha=self.alpha,\n",
    "            eta=self.eta,\n",
    "        )"
   ]
  },
  {
   "cell_type": "code",
   "execution_count": 85,
   "metadata": {
    "cell_id": "00136-7336885c-d6be-4e5e-8515-a71905b8c1df",
    "deepnote_cell_height": 219.796875,
    "deepnote_cell_type": "code",
    "deepnote_output_heights": [
     null,
     611
    ],
    "deepnote_to_be_reexecuted": false,
    "deletable": false,
    "editable": false,
    "execution_millis": 116845,
    "execution_start": 1645186548986,
    "is_output_hidden": true,
    "nbgrader": {
     "cell_type": "code",
     "checksum": "be70fcb8098d0b6ce64cd2a10e6a05b7",
     "grade": true,
     "grade_id": "cell-86750b715f0345fd",
     "locked": true,
     "points": 0,
     "schema_version": 3,
     "solution": false,
     "task": false
    },
    "source_hash": "25223581",
    "tags": []
   },
   "outputs": [
    {
     "name": "stderr",
     "output_type": "stream",
     "text": [
      "2022-02-22 12:31:56,045 : INFO : adding document #0 to Dictionary(0 unique tokens: [])\n",
      "2022-02-22 12:31:56,234 : INFO : built Dictionary(5937 unique tokens: ['-', 'algebra', 'intern', 'languag', 'preliminari']...) from 3204 documents (total 115969 corpus positions)\n",
      "2022-02-22 12:31:56,240 : INFO : discarding 4740 tokens: [('repeat', 8), ('glossari', 7), ('inspect', 8), ('uncol', 2), ('rung', 9), ('secant', 2), ('.', 1603), ('acceler', 6), ('diverg', 3), ('induc', 9)]...\n",
      "2022-02-22 12:31:56,242 : INFO : keeping 1197 tokens which were in no less than 10 and no more than 1602 (=50.0%) documents\n",
      "2022-02-22 12:31:56,246 : INFO : resulting dictionary: Dictionary(1197 unique tokens: ['-', 'algebra', 'intern', 'languag', 'preliminari']...)\n",
      "2022-02-22 12:31:56,336 : INFO : using autotuned alpha, starting with [0.01, 0.01, 0.01, 0.01, 0.01, 0.01, 0.01, 0.01, 0.01, 0.01, 0.01, 0.01, 0.01, 0.01, 0.01, 0.01, 0.01, 0.01, 0.01, 0.01, 0.01, 0.01, 0.01, 0.01, 0.01, 0.01, 0.01, 0.01, 0.01, 0.01, 0.01, 0.01, 0.01, 0.01, 0.01, 0.01, 0.01, 0.01, 0.01, 0.01, 0.01, 0.01, 0.01, 0.01, 0.01, 0.01, 0.01, 0.01, 0.01, 0.01, 0.01, 0.01, 0.01, 0.01, 0.01, 0.01, 0.01, 0.01, 0.01, 0.01, 0.01, 0.01, 0.01, 0.01, 0.01, 0.01, 0.01, 0.01, 0.01, 0.01, 0.01, 0.01, 0.01, 0.01, 0.01, 0.01, 0.01, 0.01, 0.01, 0.01, 0.01, 0.01, 0.01, 0.01, 0.01, 0.01, 0.01, 0.01, 0.01, 0.01, 0.01, 0.01, 0.01, 0.01, 0.01, 0.01, 0.01, 0.01, 0.01, 0.01]\n",
      "2022-02-22 12:31:56,337 : INFO : using serial LDA version on this node\n",
      "2022-02-22 12:31:56,357 : INFO : running online (multi-pass) LDA training, 100 topics, 20 passes over the supplied corpus of 3204 documents, updating model once every 2000 documents, evaluating perplexity every 3204 documents, iterating 400x with a convergence threshold of 0.001000\n",
      "2022-02-22 12:31:56,358 : INFO : PROGRESS: pass 0, at document #2000/3204\n",
      "2022-02-22 12:31:57,931 : INFO : optimized alpha [0.009802951, 0.0098438375, 0.009859789, 0.009830219, 0.009864984, 0.009792328, 0.009802602, 0.009797974, 0.009813697, 0.009797938, 0.009854793, 0.00984445, 0.009808333, 0.009772037, 0.009771941, 0.009797628, 0.0098541705, 0.009818426, 0.009846023, 0.0098343855, 0.009871103, 0.009803328, 0.009782246, 0.009854522, 0.009808324, 0.009829082, 0.009833956, 0.0098133, 0.00987088, 0.009954123, 0.009807943, 0.009823402, 0.009802854, 0.009828706, 0.009911715, 0.009917872, 0.009802885, 0.009818511, 0.009881277, 0.0097770365, 0.009937313, 0.009844483, 0.009798094, 0.009787458, 0.009855084, 0.009891234, 0.009834005, 0.009818157, 0.009823359, 0.009886428, 0.009880297, 0.009792507, 0.009808475, 0.009869716, 0.009777146, 0.009813194, 0.009870486, 0.009782256, 0.009865103, 0.009870468, 0.009823552, 0.009833785, 0.009807827, 0.009782457, 0.009839826, 0.0098448675, 0.009797919, 0.009802799, 0.009828679, 0.009777079, 0.009912569, 0.009823329, 0.0099019185, 0.009766695, 0.009766871, 0.009865198, 0.009828684, 0.009797762, 0.009808267, 0.0097719915, 0.009823317, 0.009771962, 0.009808442, 0.009828809, 0.009813555, 0.009766724, 0.009962154, 0.009818289, 0.009802774, 0.0097824205, 0.009808286, 0.009977854, 0.009828388, 0.009782176, 0.009900224, 0.009802628, 0.009787299, 0.009808197, 0.009818868, 0.009849451]\n",
      "2022-02-22 12:31:57,937 : INFO : merging changes from 2000 documents into a model of 3204 documents\n",
      "2022-02-22 12:31:57,945 : INFO : topic #22 (0.010): 0.074*\"numer\" + 0.046*\"problem\" + 0.037*\"integr\" + 0.028*\"fourier\" + 0.028*\"formula\" + 0.028*\"analysi\" + 0.028*\"method\" + 0.028*\"boundari\" + 0.018*\"linear\" + 0.018*\"ordinari\"\n",
      "2022-02-22 12:31:57,946 : INFO : topic #51 (0.010): 0.041*\"(\" + 0.041*\")\" + 0.039*\"gener\" + 0.033*\"matric\" + 0.033*\"algorithm\" + 0.033*\",\" + 0.032*\"procedur\" + 0.028*\"present\" + 0.027*\"machin\" + 0.022*\"network\"\n",
      "2022-02-22 12:31:57,947 : INFO : topic #35 (0.010): 0.088*\",\" + 0.030*\"comput\" + 0.022*\"-\" + 0.019*\"system\" + 0.019*\"program\" + 0.018*\"(\" + 0.014*\")\" + 0.010*\"inform\" + 0.010*\"process\" + 0.009*\"input\"\n",
      "2022-02-22 12:31:57,948 : INFO : topic #40 (0.010): 0.049*\",\" + 0.036*\"-\" + 0.031*\"program\" + 0.031*\"(\" + 0.025*\"comput\" + 0.019*\"algorithm\" + 0.017*\")\" + 0.016*\"system\" + 0.013*\"method\" + 0.010*\"function\"\n",
      "2022-02-22 12:31:57,949 : INFO : topic #91 (0.010): 0.056*\"-\" + 0.041*\",\" + 0.027*\"algorithm\" + 0.025*\"program\" + 0.024*\"system\" + 0.021*\"(\" + 0.020*\"comput\" + 0.018*\"problem\" + 0.017*\"time\" + 0.012*\")\"\n",
      "2022-02-22 12:31:57,950 : INFO : topic diff=82.478180, rho=1.000000\n",
      "2022-02-22 12:31:58,858 : INFO : -7.297 per-word bound, 157.2 perplexity estimate based on a held-out corpus of 1204 documents with 49783 words\n",
      "2022-02-22 12:31:58,859 : INFO : PROGRESS: pass 0, at document #3204/3204\n",
      "2022-02-22 12:31:59,573 : INFO : optimized alpha [0.0097684525, 0.009777665, 0.010035686, 0.010165841, 0.010006519, 0.0097681815, 0.009931211, 0.0099162, 0.010051059, 0.009992035, 0.010085152, 0.010260312, 0.009909252, 0.009977377, 0.009805587, 0.009832472, 0.010166988, 0.009925181, 0.009715334, 0.0101593025, 0.010444977, 0.010004561, 0.00992833, 0.009889274, 0.009874507, 0.009970932, 0.009945716, 0.010166763, 0.010229165, 0.010368441, 0.009785116, 0.01001479, 0.009895812, 0.009816934, 0.009964578, 0.010169406, 0.009960884, 0.009959608, 0.010261809, 0.009805861, 0.009953803, 0.009767654, 0.009869704, 0.0097345915, 0.01002843, 0.010135275, 0.009903786, 0.00975939, 0.009852598, 0.010207405, 0.009766881, 0.009710856, 0.0100218775, 0.009850558, 0.010115402, 0.009824982, 0.010154844, 0.00968911, 0.010108018, 0.010190642, 0.009977155, 0.009880498, 0.009766201, 0.009853103, 0.010048691, 0.0104029095, 0.009774499, 0.010172659, 0.00986396, 0.009928338, 0.010211733, 0.0098113185, 0.009925727, 0.009748315, 0.009691755, 0.01007323, 0.009929121, 0.010096188, 0.00998544, 0.010273984, 0.0098876925, 0.009801494, 0.0100384075, 0.009857606, 0.009885771, 0.009782737, 0.010049466, 0.010005892, 0.009726325, 0.009959081, 0.010027289, 0.010210174, 0.009792271, 0.009973631, 0.009993497, 0.009848372, 0.009857247, 0.009960469, 0.009973323, 0.010015005]\n",
      "2022-02-22 12:31:59,582 : INFO : merging changes from 1204 documents into a model of 3204 documents\n",
      "2022-02-22 12:31:59,589 : INFO : topic #51 (0.010): 0.076*\"matric\" + 0.056*\"network\" + 0.043*\"gener\" + 0.042*\"vector\" + 0.040*\")\" + 0.039*\"algorithm\" + 0.035*\"topolog\" + 0.035*\"(\" + 0.031*\"present\" + 0.029*\"order\"\n",
      "2022-02-22 12:31:59,590 : INFO : topic #57 (0.010): 0.100*\"seri\" + 0.073*\"float\" + 0.065*\"-\" + 0.064*\"point\" + 0.048*\"impli\" + 0.035*\"variabl\" + 0.034*\"cobol\" + 0.033*\"arithmet\" + 0.032*\"chebyshev\" + 0.031*\"oper\"\n",
      "2022-02-22 12:31:59,593 : INFO : topic #29 (0.010): 0.087*\",\" + 0.041*\"languag\" + 0.028*\"program\" + 0.021*\"-\" + 0.015*\"comput\" + 0.012*\"develop\" + 0.011*\"induct\" + 0.011*\"paper\" + 0.011*\"present\" + 0.010*\";\"\n",
      "2022-02-22 12:31:59,594 : INFO : topic #65 (0.010): 0.103*\",\" + 0.067*\"comput\" + 0.033*\"scienc\" + 0.024*\"-\" + 0.021*\"program\" + 0.014*\"educ\" + 0.013*\"proof\" + 0.013*\"univers\" + 0.012*\";\" + 0.012*\"cours\"\n",
      "2022-02-22 12:31:59,596 : INFO : topic #20 (0.010): 0.101*\",\" + 0.061*\"system\" + 0.020*\"implement\" + 0.020*\"structur\" + 0.019*\"program\" + 0.019*\"oper\" + 0.018*\"inform\" + 0.017*\"data\" + 0.014*\"design\" + 0.013*\"user\"\n",
      "2022-02-22 12:31:59,597 : INFO : topic diff=0.736169, rho=0.707107\n",
      "2022-02-22 12:31:59,607 : INFO : PROGRESS: pass 1, at document #2000/3204\n",
      "2022-02-22 12:32:00,482 : INFO : optimized alpha [0.009679766, 0.009738551, 0.010072391, 0.010053926, 0.009896344, 0.009796027, 0.010851708, 0.009880033, 0.009980136, 0.010044821, 0.010179206, 0.010198559, 0.009934395, 0.010058977, 0.009770484, 0.009723914, 0.010098357, 0.009894269, 0.0096258065, 0.0101345675, 0.010433622, 0.009907585, 0.01004842, 0.009837597, 0.009778423, 0.009885975, 0.009847659, 0.010095619, 0.010124279, 0.010352798, 0.009829577, 0.009931642, 0.00982758, 0.009806503, 0.009879784, 0.010143534, 0.009946878, 0.009943476, 0.010219577, 0.00979658, 0.009855952, 0.009836186, 0.009781656, 0.00965445, 0.009996581, 0.010098301, 0.009878502, 0.009782827, 0.009800913, 0.01011995, 0.009681533, 0.009729395, 0.009943554, 0.0098049585, 0.010133158, 0.009795407, 0.010056809, 0.0098558795, 0.010062701, 0.010146887, 0.009902232, 0.009834017, 0.009858705, 0.009759734, 0.009986306, 0.010470019, 0.009690898, 0.0101684695, 0.0098729655, 0.00983302, 0.01012681, 0.009826039, 0.009847633, 0.009717097, 0.009759643, 0.009980455, 0.009852828, 0.010133323, 0.00992618, 0.010220855, 0.010003011, 0.009703877, 0.009954232, 0.009806299, 0.009813333, 0.009778853, 0.010108755, 0.009956914, 0.009753293, 0.010035781, 0.009935248, 0.01011686, 0.009791898, 0.009938063, 0.009894442, 0.009859953, 0.009902476, 0.009895999, 0.009885548, 0.009925903]\n",
      "2022-02-22 12:32:00,488 : INFO : merging changes from 2000 documents into a model of 3204 documents\n",
      "2022-02-22 12:32:00,494 : INFO : topic #18 (0.010): 0.086*\"algorithm\" + 0.064*\"merg\" + 0.062*\"(\" + 0.056*\",\" + 0.034*\")\" + 0.029*\"path\" + 0.025*\"techniqu\" + 0.022*\"[\" + 0.022*\"polyphas\" + 0.021*\"comput\"\n",
      "2022-02-22 12:32:00,495 : INFO : topic #0 (0.010): 0.055*\",\" + 0.044*\"storag\" + 0.031*\"hierarchi\" + 0.030*\"size\" + 0.026*\"space\" + 0.024*\"allow\" + 0.024*\"syntax\" + 0.023*\"free\" + 0.023*\"list\" + 0.022*\"-\"\n",
      "2022-02-22 12:32:00,496 : INFO : topic #20 (0.010): 0.103*\",\" + 0.065*\"system\" + 0.020*\"implement\" + 0.019*\"structur\" + 0.019*\"inform\" + 0.019*\"program\" + 0.019*\"oper\" + 0.017*\"data\" + 0.014*\"process\" + 0.013*\"design\"\n",
      "2022-02-22 12:32:00,497 : INFO : topic #65 (0.010): 0.099*\",\" + 0.079*\"comput\" + 0.034*\"scienc\" + 0.027*\"program\" + 0.024*\"-\" + 0.020*\"univers\" + 0.015*\"educ\" + 0.012*\"cours\" + 0.011*\";\" + 0.010*\"languag\"\n",
      "2022-02-22 12:32:00,498 : INFO : topic #6 (0.011): 0.224*\"algorithm\" + 0.222*\"(\" + 0.177*\")\" + 0.058*\"[\" + 0.043*\"])\" + 0.031*\"integr\" + 0.023*\"fit\" + 0.019*\"squar\" + 0.015*\"matrix\" + 0.014*\"polynomi\"\n",
      "2022-02-22 12:32:00,499 : INFO : topic diff=0.305434, rho=0.526900\n",
      "2022-02-22 12:32:01,491 : INFO : -6.910 per-word bound, 120.3 perplexity estimate based on a held-out corpus of 1204 documents with 49783 words\n",
      "2022-02-22 12:32:01,491 : INFO : PROGRESS: pass 1, at document #3204/3204\n",
      "2022-02-22 12:32:02,286 : INFO : optimized alpha [0.009760819, 0.00972757, 0.010167003, 0.010279818, 0.010050593, 0.009887607, 0.011445296, 0.009986134, 0.010170762, 0.010274474, 0.010319808, 0.010537048, 0.010089454, 0.010323472, 0.010008185, 0.0098126745, 0.010355083, 0.0099959355, 0.009583314, 0.010406561, 0.010833995, 0.010088613, 0.010254408, 0.009869275, 0.009860226, 0.0099968985, 0.009962852, 0.010308539, 0.010280313, 0.010620274, 0.009971552, 0.010079567, 0.009962685, 0.0098253675, 0.009867329, 0.010286575, 0.010117899, 0.0100666275, 0.010461496, 0.00993128, 0.009852985, 0.009854786, 0.009884292, 0.009730357, 0.010148535, 0.01019467, 0.009940504, 0.00979743, 0.009841426, 0.01030229, 0.009668471, 0.009775136, 0.010107401, 0.009819145, 0.010523626, 0.009866642, 0.0102605615, 0.009881484, 0.010306757, 0.010387868, 0.010087776, 0.009869529, 0.009871942, 0.009882822, 0.010124256, 0.010873115, 0.009711301, 0.010466112, 0.009921685, 0.009951719, 0.010300216, 0.009870301, 0.009893275, 0.009800929, 0.009808866, 0.010139657, 0.009963595, 0.010421217, 0.010085272, 0.010698165, 0.010063135, 0.009827347, 0.010192923, 0.009850613, 0.009837452, 0.009938163, 0.010109429, 0.010220407, 0.00981963, 0.010359117, 0.01014737, 0.010299472, 0.00982318, 0.010156833, 0.009973729, 0.010047298, 0.009945393, 0.010026764, 0.01000515, 0.010045104]\n",
      "2022-02-22 12:32:02,291 : INFO : merging changes from 1204 documents into a model of 3204 documents\n",
      "2022-02-22 12:32:02,297 : INFO : topic #18 (0.010): 0.104*\"algorithm\" + 0.077*\"merg\" + 0.070*\"path\" + 0.065*\",\" + 0.054*\"(\" + 0.030*\")\" + 0.028*\"restrict\" + 0.028*\"comput\" + 0.026*\"number\" + 0.025*\"^\"\n",
      "2022-02-22 12:32:02,298 : INFO : topic #50 (0.010): 0.088*\"(\" + 0.084*\"-\" + 0.058*\",\" + 0.045*\")\" + 0.035*\"instruct\" + 0.034*\"fit\" + 0.034*\"),\" + 0.022*\"optim\" + 0.022*\"larg\" + 0.019*\"pack\"\n",
      "2022-02-22 12:32:02,299 : INFO : topic #20 (0.011): 0.106*\",\" + 0.077*\"system\" + 0.026*\"implement\" + 0.025*\"inform\" + 0.024*\"oper\" + 0.022*\"structur\" + 0.019*\"design\" + 0.017*\"program\" + 0.015*\"data\" + 0.014*\"user\"\n",
      "2022-02-22 12:32:02,300 : INFO : topic #65 (0.011): 0.103*\",\" + 0.087*\"comput\" + 0.041*\"scienc\" + 0.026*\"program\" + 0.023*\"-\" + 0.021*\"educ\" + 0.017*\"cours\" + 0.016*\"univers\" + 0.012*\":\" + 0.012*\"student\"\n",
      "2022-02-22 12:32:02,301 : INFO : topic #6 (0.011): 0.240*\"algorithm\" + 0.237*\"(\" + 0.206*\")\" + 0.063*\"[\" + 0.024*\"integr\" + 0.019*\"])\" + 0.018*\"fit\" + 0.017*\"squar\" + 0.013*\"linear\" + 0.013*\"program\"\n",
      "2022-02-22 12:32:02,302 : INFO : topic diff=0.424205, rho=0.526900\n",
      "2022-02-22 12:32:02,312 : INFO : PROGRESS: pass 2, at document #2000/3204\n",
      "2022-02-22 12:32:03,198 : INFO : optimized alpha [0.009708934, 0.009704028, 0.010247212, 0.010203464, 0.009974547, 0.009956266, 0.012577556, 0.00998037, 0.01015725, 0.010370601, 0.010412929, 0.01050076, 0.0101633165, 0.0104189, 0.010038285, 0.009727517, 0.010284335, 0.009987442, 0.00952379, 0.010404288, 0.010819211, 0.010018819, 0.010445927, 0.009871635, 0.009797666, 0.009927092, 0.009893347, 0.010256099, 0.010167995, 0.010608563, 0.010123688, 0.010032048, 0.009916193, 0.0098633915, 0.00979788, 0.0102801565, 0.010137857, 0.010106378, 0.01044888, 0.009961874, 0.0097744735, 0.009997379, 0.009823443, 0.00968369, 0.010155842, 0.010185924, 0.009972588, 0.009848768, 0.00981814, 0.010226503, 0.009630188, 0.009828607, 0.010051996, 0.0097803585, 0.010594697, 0.009880482, 0.010182183, 0.010082675, 0.010308019, 0.010366437, 0.010056047, 0.009843369, 0.010001308, 0.009819468, 0.010090212, 0.010995808, 0.009660497, 0.010488744, 0.009977043, 0.009895936, 0.01022903, 0.009969669, 0.009828251, 0.009829022, 0.009963906, 0.010073942, 0.009934314, 0.01046159, 0.010046445, 0.010631722, 0.010156037, 0.0097463, 0.010142689, 0.009822819, 0.009808024, 0.010005948, 0.010183728, 0.010193421, 0.009855046, 0.010522959, 0.01007637, 0.010225695, 0.0098300455, 0.010180854, 0.0099112345, 0.01008448, 0.009985524, 0.010004944, 0.009937345, 0.009980988]\n",
      "2022-02-22 12:32:03,204 : INFO : merging changes from 2000 documents into a model of 3204 documents\n",
      "2022-02-22 12:32:03,211 : INFO : topic #18 (0.010): 0.102*\"merg\" + 0.088*\"algorithm\" + 0.065*\"path\" + 0.055*\",\" + 0.046*\"(\" + 0.031*\"techniqu\" + 0.028*\"comput\" + 0.026*\")\" + 0.025*\"number\" + 0.023*\"polyphas\"\n",
      "2022-02-22 12:32:03,211 : INFO : topic #50 (0.010): 0.086*\"(\" + 0.081*\"-\" + 0.060*\",\" + 0.042*\")\" + 0.031*\"fit\" + 0.029*\"instruct\" + 0.029*\"),\" + 0.022*\"larg\" + 0.021*\"sort\" + 0.019*\"optim\"\n",
      "2022-02-22 12:32:03,214 : INFO : topic #20 (0.011): 0.108*\",\" + 0.080*\"system\" + 0.025*\"inform\" + 0.025*\"oper\" + 0.024*\"implement\" + 0.021*\"structur\" + 0.018*\"design\" + 0.017*\"program\" + 0.015*\"data\" + 0.014*\"process\"\n",
      "2022-02-22 12:32:03,215 : INFO : topic #65 (0.011): 0.100*\",\" + 0.099*\"comput\" + 0.039*\"scienc\" + 0.030*\"program\" + 0.022*\"-\" + 0.022*\"univers\" + 0.020*\"educ\" + 0.016*\"cours\" + 0.014*\"report\" + 0.011*\";\"\n",
      "2022-02-22 12:32:03,216 : INFO : topic #6 (0.013): 0.248*\"(\" + 0.241*\"algorithm\" + 0.204*\")\" + 0.058*\"[\" + 0.038*\"])\" + 0.027*\"integr\" + 0.018*\"squar\" + 0.017*\"polynomi\" + 0.016*\"fit\" + 0.012*\"matrix\"\n",
      "2022-02-22 12:32:03,217 : INFO : topic diff=0.392616, rho=0.466151\n",
      "2022-02-22 12:32:04,231 : INFO : -6.787 per-word bound, 110.4 perplexity estimate based on a held-out corpus of 1204 documents with 49783 words\n",
      "2022-02-22 12:32:04,232 : INFO : PROGRESS: pass 2, at document #3204/3204\n",
      "2022-02-22 12:32:05,074 : INFO : optimized alpha [0.0098274145, 0.009696228, 0.0103344545, 0.010433421, 0.010131602, 0.010056517, 0.013241332, 0.010086401, 0.010342788, 0.0106205335, 0.010545804, 0.010801039, 0.010317087, 0.010672385, 0.010266767, 0.00983385, 0.010513263, 0.010062468, 0.009522924, 0.010652202, 0.01112966, 0.010179971, 0.010670551, 0.00997073, 0.009932726, 0.010037569, 0.010003954, 0.010482383, 0.010299031, 0.010885915, 0.010368955, 0.010167874, 0.010075114, 0.009884243, 0.009793382, 0.01039908, 0.01029818, 0.010251328, 0.010677379, 0.010108343, 0.009762863, 0.010020475, 0.009937983, 0.009804708, 0.010299245, 0.010283425, 0.010074967, 0.009912032, 0.009866646, 0.010380766, 0.00964765, 0.009899936, 0.010202105, 0.00981737, 0.010948746, 0.009998079, 0.010383654, 0.01011882, 0.010566683, 0.010630712, 0.010276531, 0.0098756, 0.010008311, 0.009952372, 0.010193002, 0.011305309, 0.009699138, 0.010739092, 0.010035871, 0.010021241, 0.01040347, 0.010016093, 0.009862283, 0.01002728, 0.010049007, 0.01027116, 0.010048504, 0.010785115, 0.010191924, 0.011064529, 0.010204425, 0.009871745, 0.0104076555, 0.009874538, 0.009849848, 0.010186703, 0.010224455, 0.010449073, 0.009944488, 0.010951634, 0.010277227, 0.010424519, 0.00991216, 0.010376591, 0.010025227, 0.010314506, 0.010027281, 0.010109429, 0.010071205, 0.010099044]\n",
      "2022-02-22 12:32:05,080 : INFO : merging changes from 1204 documents into a model of 3204 documents\n",
      "2022-02-22 12:32:05,087 : INFO : topic #18 (0.010): 0.104*\"algorithm\" + 0.097*\"path\" + 0.093*\"merg\" + 0.062*\",\" + 0.038*\"comput\" + 0.037*\"(\" + 0.029*\"restrict\" + 0.028*\"number\" + 0.028*\"techniqu\" + 0.026*\"composit\"\n",
      "2022-02-22 12:32:05,088 : INFO : topic #50 (0.010): 0.102*\"-\" + 0.093*\"(\" + 0.063*\",\" + 0.047*\"fit\" + 0.042*\"),\" + 0.040*\")\" + 0.033*\"instruct\" + 0.024*\"optim\" + 0.023*\"larg\" + 0.020*\"pack\"\n",
      "2022-02-22 12:32:05,089 : INFO : topic #20 (0.011): 0.107*\",\" + 0.088*\"system\" + 0.030*\"inform\" + 0.029*\"oper\" + 0.028*\"implement\" + 0.024*\"design\" + 0.024*\"structur\" + 0.015*\"user\" + 0.014*\"program\" + 0.013*\"data\"\n",
      "2022-02-22 12:32:05,092 : INFO : topic #65 (0.011): 0.104*\"comput\" + 0.100*\",\" + 0.047*\"scienc\" + 0.027*\"program\" + 0.025*\"educ\" + 0.021*\"-\" + 0.020*\"cours\" + 0.019*\"univers\" + 0.015*\"report\" + 0.013*\":\"\n",
      "2022-02-22 12:32:05,093 : INFO : topic #6 (0.013): 0.258*\"algorithm\" + 0.249*\"(\" + 0.219*\")\" + 0.062*\"[\" + 0.024*\"integr\" + 0.022*\"])\" + 0.016*\"squar\" + 0.015*\"polynomi\" + 0.014*\"fit\" + 0.010*\"function\"\n",
      "2022-02-22 12:32:05,094 : INFO : topic diff=0.523238, rho=0.466151\n",
      "2022-02-22 12:32:05,103 : INFO : PROGRESS: pass 3, at document #2000/3204\n",
      "2022-02-22 12:32:06,189 : INFO : optimized alpha [0.009795169, 0.0096827345, 0.010456082, 0.010380312, 0.010071036, 0.010133767, 0.014340537, 0.01010712, 0.010345032, 0.010752603, 0.0106215775, 0.010776905, 0.010403884, 0.010767702, 0.010310247, 0.009765805, 0.010456323, 0.010057425, 0.009483457, 0.0106597245, 0.011130042, 0.010133696, 0.010888072, 0.010028344, 0.009901414, 0.009989778, 0.009950065, 0.010451096, 0.010202555, 0.0108845895, 0.010636844, 0.010122528, 0.010060092, 0.009951194, 0.009741368, 0.010408598, 0.010344075, 0.010300272, 0.01068251, 0.010161438, 0.009705054, 0.010200226, 0.009893795, 0.00980187, 0.010336427, 0.010293031, 0.010144962, 0.009971549, 0.0098548485, 0.010323107, 0.009624716, 0.009946558, 0.010166882, 0.009823022, 0.011043838, 0.01002325, 0.010322567, 0.010322482, 0.0105973305, 0.010629612, 0.010274621, 0.00986766, 0.010148431, 0.009907596, 0.010166753, 0.011433322, 0.009664918, 0.010757684, 0.010095247, 0.009989898, 0.010356238, 0.010162377, 0.009813598, 0.010206156, 0.010253544, 0.010221392, 0.010047717, 0.010860937, 0.010160559, 0.010989132, 0.010280388, 0.009815436, 0.01037756, 0.009858708, 0.00984322, 0.010293297, 0.01030564, 0.010424639, 0.009989519, 0.011132853, 0.010218182, 0.010374114, 0.00993745, 0.010421633, 0.009977544, 0.010373168, 0.010112769, 0.0101069715, 0.010020589, 0.010060725]\n",
      "2022-02-22 12:32:06,196 : INFO : merging changes from 2000 documents into a model of 3204 documents\n",
      "2022-02-22 12:32:06,206 : INFO : topic #18 (0.009): 0.112*\"merg\" + 0.091*\"algorithm\" + 0.085*\"path\" + 0.055*\",\" + 0.040*\"techniqu\" + 0.037*\"comput\" + 0.030*\"(\" + 0.028*\"number\" + 0.027*\"effici\" + 0.025*\"polyphas\"\n",
      "2022-02-22 12:32:06,207 : INFO : topic #50 (0.010): 0.097*\"-\" + 0.090*\"(\" + 0.065*\",\" + 0.049*\"fit\" + 0.038*\"),\" + 0.038*\")\" + 0.028*\"instruct\" + 0.023*\"larg\" + 0.021*\"optim\" + 0.020*\"read\"\n",
      "2022-02-22 12:32:06,209 : INFO : topic #20 (0.011): 0.109*\",\" + 0.090*\"system\" + 0.031*\"inform\" + 0.029*\"oper\" + 0.026*\"implement\" + 0.022*\"design\" + 0.022*\"structur\" + 0.014*\"user\" + 0.013*\"program\" + 0.013*\"process\"\n",
      "2022-02-22 12:32:06,211 : INFO : topic #65 (0.011): 0.113*\"comput\" + 0.097*\",\" + 0.044*\"scienc\" + 0.030*\"program\" + 0.024*\"univers\" + 0.024*\"educ\" + 0.021*\"-\" + 0.020*\"cours\" + 0.017*\"report\" + 0.012*\":\"\n",
      "2022-02-22 12:32:06,214 : INFO : topic #6 (0.014): 0.257*\"algorithm\" + 0.254*\"(\" + 0.215*\")\" + 0.056*\"[\" + 0.034*\"])\" + 0.027*\"integr\" + 0.017*\"polynomi\" + 0.016*\"squar\" + 0.014*\"fit\" + 0.010*\"function\"\n",
      "2022-02-22 12:32:06,216 : INFO : topic diff=0.531035, rho=0.422502\n",
      "2022-02-22 12:32:07,457 : INFO : -6.703 per-word bound, 104.2 perplexity estimate based on a held-out corpus of 1204 documents with 49783 words\n",
      "2022-02-22 12:32:07,458 : INFO : PROGRESS: pass 3, at document #3204/3204\n",
      "2022-02-22 12:32:08,481 : INFO : optimized alpha [0.00991712, 0.009687465, 0.0105639985, 0.010587346, 0.010232224, 0.010231906, 0.014914157, 0.010221634, 0.010521853, 0.011005266, 0.010764933, 0.01105692, 0.010562603, 0.011023496, 0.010516151, 0.0098598, 0.010672908, 0.010111767, 0.009514676, 0.010887247, 0.011431854, 0.010269947, 0.011086737, 0.010165077, 0.0100423815, 0.0100941425, 0.010061912, 0.01070665, 0.010337003, 0.011166732, 0.010957688, 0.0102609405, 0.010215861, 0.010012392, 0.009753266, 0.01049455, 0.0105088465, 0.010454388, 0.010906804, 0.010312871, 0.009710669, 0.010226783, 0.010005499, 0.009922718, 0.010474681, 0.01039636, 0.010270626, 0.010053672, 0.0099171745, 0.010475021, 0.0096656745, 0.010025436, 0.010318378, 0.00988865, 0.0113838, 0.010137478, 0.010513924, 0.010353599, 0.0108614145, 0.010891457, 0.010509447, 0.009925538, 0.0101502435, 0.010028903, 0.010263878, 0.011689775, 0.009714837, 0.011002205, 0.0101914555, 0.010129202, 0.010504609, 0.010232037, 0.009845754, 0.010533621, 0.010369349, 0.0103981905, 0.010169781, 0.011209772, 0.010300306, 0.011370363, 0.010305614, 0.009930102, 0.010639399, 0.009924134, 0.009878424, 0.010476688, 0.010331637, 0.0106886765, 0.0100850705, 0.011582684, 0.010416329, 0.010589076, 0.010022761, 0.010608219, 0.010135046, 0.010591782, 0.010160999, 0.010220118, 0.01016419, 0.010200612]\n",
      "2022-02-22 12:32:08,489 : INFO : merging changes from 1204 documents into a model of 3204 documents\n",
      "2022-02-22 12:32:08,496 : INFO : topic #18 (0.010): 0.103*\"algorithm\" + 0.102*\"path\" + 0.097*\"merg\" + 0.058*\",\" + 0.045*\"comput\" + 0.037*\"effici\" + 0.036*\"techniqu\" + 0.032*\"number\" + 0.031*\"faster\" + 0.030*\"composit\"\n",
      "2022-02-22 12:32:08,497 : INFO : topic #1 (0.010): 0.162*\"-\" + 0.109*\"dimension\" + 0.072*\"rotat\" + 0.058*\"complement\" + 0.048*\"short\" + 0.036*\"wave\" + 0.034*\"comput\" + 0.032*\"label\" + 0.031*\"surfac\" + 0.025*\"gener\"\n",
      "2022-02-22 12:32:08,499 : INFO : topic #89 (0.012): 0.330*\"data\" + 0.082*\"process\" + 0.037*\"string\" + 0.036*\"system\" + 0.029*\"relat\" + 0.024*\"structur\" + 0.023*\"retriev\" + 0.022*\"modul\" + 0.020*\"inform\" + 0.014*\"implement\"\n",
      "2022-02-22 12:32:08,500 : INFO : topic #65 (0.012): 0.116*\"comput\" + 0.098*\",\" + 0.051*\"scienc\" + 0.028*\"educ\" + 0.027*\"program\" + 0.023*\"cours\" + 0.021*\"univers\" + 0.020*\"-\" + 0.017*\"report\" + 0.014*\":\"\n",
      "2022-02-22 12:32:08,503 : INFO : topic #6 (0.015): 0.279*\"algorithm\" + 0.251*\"(\" + 0.220*\")\" + 0.062*\"[\" + 0.025*\"integr\" + 0.022*\"])\" + 0.014*\"polynomi\" + 0.013*\"squar\" + 0.012*\"fit\" + 0.010*\"function\"\n",
      "2022-02-22 12:32:08,505 : INFO : topic diff=0.646406, rho=0.422502\n",
      "2022-02-22 12:32:08,512 : INFO : PROGRESS: pass 4, at document #2000/3204\n",
      "2022-02-22 12:32:09,829 : INFO : optimized alpha [0.009900877, 0.009680094, 0.010724594, 0.010535215, 0.010194088, 0.010311516, 0.015929414, 0.01024471, 0.010549965, 0.011147396, 0.010847561, 0.011045407, 0.010661617, 0.011121968, 0.01056788, 0.009803625, 0.010631503, 0.010113631, 0.009490687, 0.01090136, 0.011440951, 0.010237167, 0.011306305, 0.010240193, 0.010031009, 0.010054362, 0.010012493, 0.010680106, 0.010254609, 0.01117451, 0.011283896, 0.010243205, 0.010207476, 0.0101118535, 0.009718671, 0.010512057, 0.010556826, 0.0105176885, 0.010927315, 0.010371692, 0.009663221, 0.010400605, 0.009968911, 0.009929636, 0.01051513, 0.010433952, 0.010377979, 0.010132572, 0.0099224225, 0.0104319295, 0.0096605765, 0.010072609, 0.01029167, 0.009923399, 0.011479509, 0.010160575, 0.010456655, 0.010558204, 0.010888247, 0.010897313, 0.0105206845, 0.009930419, 0.010322948, 0.009993608, 0.0102459835, 0.011829078, 0.009693782, 0.011030671, 0.010260385, 0.0101178745, 0.0104648825, 0.010386528, 0.009802313, 0.010813964, 0.010596047, 0.010357475, 0.010178929, 0.01129169, 0.010269014, 0.011291975, 0.01037014, 0.009882406, 0.010624236, 0.009921843, 0.0098886, 0.010583789, 0.010425562, 0.010682937, 0.0101365475, 0.011782156, 0.0103689395, 0.010543346, 0.010059944, 0.010655445, 0.010110541, 0.010661796, 0.010254474, 0.010217767, 0.010123206, 0.010181164]\n",
      "2022-02-22 12:32:09,840 : INFO : merging changes from 2000 documents into a model of 3204 documents\n",
      "2022-02-22 12:32:09,847 : INFO : topic #18 (0.009): 0.112*\"merg\" + 0.093*\"algorithm\" + 0.092*\"path\" + 0.052*\",\" + 0.048*\"techniqu\" + 0.042*\"comput\" + 0.037*\"effici\" + 0.031*\"number\" + 0.029*\"faster\" + 0.026*\"polyphas\"\n",
      "2022-02-22 12:32:09,847 : INFO : topic #1 (0.010): 0.167*\"-\" + 0.120*\"dimension\" + 0.064*\"rotat\" + 0.043*\"complement\" + 0.042*\"wave\" + 0.040*\"short\" + 0.034*\"comput\" + 0.032*\"usa\" + 0.028*\"gener\" + 0.026*\"label\"\n",
      "2022-02-22 12:32:09,849 : INFO : topic #89 (0.012): 0.330*\"data\" + 0.092*\"process\" + 0.038*\"string\" + 0.038*\"system\" + 0.024*\"relat\" + 0.023*\"retriev\" + 0.023*\"inform\" + 0.022*\"structur\" + 0.016*\"modul\" + 0.015*\"intern\"\n",
      "2022-02-22 12:32:09,855 : INFO : topic #65 (0.012): 0.123*\"comput\" + 0.095*\",\" + 0.047*\"scienc\" + 0.030*\"program\" + 0.027*\"educ\" + 0.026*\"univers\" + 0.022*\"cours\" + 0.020*\"report\" + 0.019*\"-\" + 0.013*\"committe\"\n",
      "2022-02-22 12:32:09,856 : INFO : topic #6 (0.016): 0.275*\"algorithm\" + 0.255*\"(\" + 0.220*\")\" + 0.053*\"[\" + 0.029*\"integr\" + 0.029*\"])\" + 0.016*\"polynomi\" + 0.014*\"squar\" + 0.012*\"fit\" + 0.009*\"function\"\n",
      "2022-02-22 12:32:09,858 : INFO : topic diff=0.627523, rho=0.389191\n",
      "2022-02-22 12:32:11,148 : INFO : -6.641 per-word bound, 99.8 perplexity estimate based on a held-out corpus of 1204 documents with 49783 words\n",
      "2022-02-22 12:32:11,149 : INFO : PROGRESS: pass 4, at document #3204/3204\n",
      "2022-02-22 12:32:12,156 : INFO : optimized alpha [0.010033561, 0.009688818, 0.010837828, 0.0107453, 0.01035034, 0.010412178, 0.016441863, 0.010350816, 0.010717871, 0.011394841, 0.010969964, 0.011299807, 0.010822902, 0.011375779, 0.010759813, 0.009894408, 0.010850215, 0.0101612415, 0.009526793, 0.011113398, 0.011719906, 0.010390406, 0.011513232, 0.0103973225, 0.010165232, 0.010151247, 0.010122984, 0.010925673, 0.010406625, 0.011475378, 0.011640466, 0.010371778, 0.010368814, 0.010171287, 0.00974702, 0.010591796, 0.010703261, 0.010674475, 0.011125708, 0.01050898, 0.009695286, 0.010440889, 0.01008893, 0.010054697, 0.010657464, 0.010553688, 0.01050817, 0.01023149, 0.009999935, 0.0105629945, 0.009711846, 0.010165332, 0.01042582, 0.010006909, 0.0118107, 0.010273228, 0.010648103, 0.010592226, 0.011149391, 0.011156497, 0.010767212, 0.010016529, 0.010330094, 0.010125955, 0.0103396, 0.012064725, 0.009743899, 0.011284016, 0.010356157, 0.010260617, 0.010619903, 0.010470547, 0.009842714, 0.011253506, 0.010723191, 0.010521871, 0.0103123225, 0.011675431, 0.010399014, 0.011645838, 0.010386605, 0.009992162, 0.010872584, 0.009992636, 0.00993791, 0.010754596, 0.010456158, 0.010940233, 0.010234988, 0.012242532, 0.010556499, 0.010750261, 0.010152126, 0.01082908, 0.010280277, 0.010900575, 0.010308677, 0.010326109, 0.010273197, 0.010341305]\n",
      "2022-02-22 12:32:12,164 : INFO : merging changes from 1204 documents into a model of 3204 documents\n",
      "2022-02-22 12:32:12,175 : INFO : topic #18 (0.010): 0.104*\"path\" + 0.103*\"algorithm\" + 0.099*\"merg\" + 0.054*\",\" + 0.049*\"comput\" + 0.046*\"effici\" + 0.045*\"techniqu\" + 0.036*\"faster\" + 0.034*\"number\" + 0.031*\"composit\"\n",
      "2022-02-22 12:32:12,178 : INFO : topic #40 (0.010): 0.068*\",\" + 0.040*\"program\" + 0.036*\"method\" + 0.032*\"convent\" + 0.030*\"proof\" + 0.028*\"-\" + 0.028*\"correct\" + 0.023*\"simplifi\" + 0.023*\"test\" + 0.022*\"frequenc\"\n",
      "2022-02-22 12:32:12,179 : INFO : topic #65 (0.012): 0.126*\"comput\" + 0.095*\",\" + 0.053*\"scienc\" + 0.030*\"educ\" + 0.027*\"program\" + 0.025*\"cours\" + 0.023*\"univers\" + 0.019*\"report\" + 0.019*\"-\" + 0.014*\":\"\n",
      "2022-02-22 12:32:12,180 : INFO : topic #89 (0.012): 0.351*\"data\" + 0.082*\"process\" + 0.035*\"string\" + 0.034*\"system\" + 0.028*\"structur\" + 0.027*\"relat\" + 0.022*\"retriev\" + 0.021*\"inform\" + 0.021*\"modul\" + 0.013*\"infer\"\n",
      "2022-02-22 12:32:12,181 : INFO : topic #6 (0.016): 0.296*\"algorithm\" + 0.251*\"(\" + 0.220*\")\" + 0.061*\"[\" + 0.028*\"integr\" + 0.019*\"])\" + 0.014*\"polynomi\" + 0.011*\"squar\" + 0.011*\"fit\" + 0.009*\"e2\"\n",
      "2022-02-22 12:32:12,182 : INFO : topic diff=0.697427, rho=0.389191\n",
      "2022-02-22 12:32:12,192 : INFO : PROGRESS: pass 5, at document #2000/3204\n",
      "2022-02-22 12:32:13,383 : INFO : optimized alpha [0.01002549, 0.009686542, 0.011003446, 0.010713125, 0.010314209, 0.010494479, 0.01739299, 0.010383644, 0.01074751, 0.011549572, 0.011063424, 0.011297788, 0.010923831, 0.011482261, 0.010819385, 0.009844423, 0.010808247, 0.010156226, 0.009514083, 0.011145794, 0.011731077, 0.010363149, 0.011734659, 0.010492144, 0.010161884, 0.010120152, 0.010084616, 0.010921282, 0.010337365, 0.011495146, 0.012003523, 0.010364567, 0.010375468, 0.0102611715, 0.009722996, 0.01061826, 0.01073636, 0.010741357, 0.011164471, 0.0105772, 0.009659429, 0.010618457, 0.010056606, 0.010071935, 0.010701045, 0.010598433, 0.010634414, 0.010327955, 0.010006972, 0.010524856, 0.009713108, 0.010229838, 0.010396874, 0.010052346, 0.011905926, 0.0103155, 0.0106034735, 0.010787808, 0.011191419, 0.011158281, 0.010792005, 0.010028548, 0.010554246, 0.010105789, 0.010325054, 0.012197691, 0.009735642, 0.011315339, 0.010434068, 0.010264622, 0.010590277, 0.010631634, 0.0098014865, 0.011571389, 0.010960725, 0.010487138, 0.010333746, 0.011771753, 0.010373497, 0.011569001, 0.01043781, 0.009951554, 0.010860769, 0.010010868, 0.009964313, 0.0108688865, 0.010534969, 0.010937169, 0.010290654, 0.01244792, 0.010515256, 0.0107143475, 0.010210958, 0.010876738, 0.010277418, 0.0109714735, 0.010402314, 0.010322049, 0.010244024, 0.010337789]\n",
      "2022-02-22 12:32:13,391 : INFO : merging changes from 2000 documents into a model of 3204 documents\n",
      "2022-02-22 12:32:13,398 : INFO : topic #18 (0.010): 0.110*\"merg\" + 0.095*\"path\" + 0.094*\"algorithm\" + 0.057*\"techniqu\" + 0.049*\",\" + 0.046*\"comput\" + 0.045*\"effici\" + 0.033*\"faster\" + 0.033*\"number\" + 0.027*\"polyphas\"\n",
      "2022-02-22 12:32:13,398 : INFO : topic #40 (0.010): 0.067*\",\" + 0.042*\"program\" + 0.034*\"convent\" + 0.033*\"method\" + 0.028*\"-\" + 0.024*\"comput\" + 0.022*\"proof\" + 0.022*\"correct\" + 0.022*\"law\" + 0.022*\"test\"\n",
      "2022-02-22 12:32:13,399 : INFO : topic #65 (0.012): 0.132*\"comput\" + 0.092*\",\" + 0.050*\"scienc\" + 0.030*\"program\" + 0.029*\"educ\" + 0.027*\"univers\" + 0.024*\"cours\" + 0.021*\"report\" + 0.018*\"-\" + 0.014*\"committe\"\n",
      "2022-02-22 12:32:13,403 : INFO : topic #89 (0.012): 0.350*\"data\" + 0.091*\"process\" + 0.036*\"string\" + 0.036*\"system\" + 0.026*\"structur\" + 0.023*\"relat\" + 0.023*\"inform\" + 0.022*\"retriev\" + 0.016*\"modul\" + 0.015*\"intern\"\n",
      "2022-02-22 12:32:13,404 : INFO : topic #6 (0.017): 0.291*\"algorithm\" + 0.254*\"(\" + 0.225*\")\" + 0.048*\"[\" + 0.032*\"integr\" + 0.020*\"])\" + 0.017*\"polynomi\" + 0.013*\"squar\" + 0.011*\"fit\" + 0.010*\"function\"\n",
      "2022-02-22 12:32:13,405 : INFO : topic diff=0.639769, rho=0.362690\n",
      "2022-02-22 12:32:14,645 : INFO : -6.601 per-word bound, 97.1 perplexity estimate based on a held-out corpus of 1204 documents with 49783 words\n",
      "2022-02-22 12:32:14,646 : INFO : PROGRESS: pass 5, at document #3204/3204\n",
      "2022-02-22 12:32:15,681 : INFO : optimized alpha [0.010159386, 0.009695671, 0.011125826, 0.010911222, 0.010467244, 0.0106012365, 0.0178896, 0.010489198, 0.010918394, 0.01179447, 0.011184895, 0.011517109, 0.011078979, 0.011732964, 0.010996931, 0.009938808, 0.011014191, 0.010210649, 0.009554394, 0.0113489255, 0.012002162, 0.010510278, 0.011933201, 0.010684781, 0.010297396, 0.010214474, 0.010185514, 0.011156686, 0.010511955, 0.011780309, 0.012398615, 0.010488328, 0.010533474, 0.010316449, 0.009771259, 0.0107062245, 0.010896764, 0.01088888, 0.0113579845, 0.010712525, 0.009708093, 0.010655056, 0.010175443, 0.010198502, 0.010851268, 0.010704244, 0.010769659, 0.010433063, 0.010079968, 0.010661059, 0.009776428, 0.010335298, 0.010542068, 0.010155013, 0.012228075, 0.010436898, 0.010783534, 0.010831298, 0.011452232, 0.011382885, 0.011035082, 0.010133613, 0.01055913, 0.010245536, 0.010397425, 0.012419877, 0.009783061, 0.011565032, 0.010539356, 0.010405123, 0.010758731, 0.01071926, 0.009858028, 0.012109498, 0.011086008, 0.010654362, 0.010462272, 0.012170713, 0.010517913, 0.011907614, 0.010447041, 0.010060761, 0.011105261, 0.01008979, 0.010034938, 0.011029568, 0.010550527, 0.011200209, 0.010398589, 0.012911154, 0.010704483, 0.010909251, 0.010297351, 0.011033625, 0.01045909, 0.011214159, 0.010462146, 0.01041749, 0.010391216, 0.010488568]\n",
      "2022-02-22 12:32:15,689 : INFO : merging changes from 1204 documents into a model of 3204 documents\n",
      "2022-02-22 12:32:15,697 : INFO : topic #18 (0.010): 0.104*\"path\" + 0.103*\"algorithm\" + 0.098*\"merg\" + 0.057*\"techniqu\" + 0.056*\"effici\" + 0.051*\"comput\" + 0.051*\",\" + 0.038*\"faster\" + 0.034*\"number\" + 0.031*\"composit\"\n",
      "2022-02-22 12:32:15,697 : INFO : topic #1 (0.010): 0.193*\"-\" + 0.120*\"dimension\" + 0.079*\"rotat\" + 0.063*\"complement\" + 0.052*\"short\" + 0.047*\"label\" + 0.040*\"wave\" + 0.030*\"comput\" + 0.027*\"gener\" + 0.022*\"half\"\n",
      "2022-02-22 12:32:15,698 : INFO : topic #65 (0.012): 0.133*\"comput\" + 0.092*\",\" + 0.055*\"scienc\" + 0.031*\"educ\" + 0.027*\"program\" + 0.026*\"cours\" + 0.024*\"univers\" + 0.020*\"report\" + 0.018*\"-\" + 0.015*\":\"\n",
      "2022-02-22 12:32:15,699 : INFO : topic #89 (0.013): 0.370*\"data\" + 0.081*\"process\" + 0.033*\"system\" + 0.032*\"structur\" + 0.031*\"string\" + 0.025*\"relat\" + 0.021*\"inform\" + 0.021*\"modul\" + 0.020*\"retriev\" + 0.014*\"infer\"\n",
      "2022-02-22 12:32:15,700 : INFO : topic #6 (0.018): 0.314*\"algorithm\" + 0.248*\"(\" + 0.223*\")\" + 0.054*\"[\" + 0.029*\"integr\" + 0.014*\"])\" + 0.014*\"polynomi\" + 0.011*\"fit\" + 0.010*\"squar\" + 0.010*\"e2\"\n",
      "2022-02-22 12:32:15,701 : INFO : topic diff=0.670416, rho=0.362690\n",
      "2022-02-22 12:32:15,709 : INFO : PROGRESS: pass 6, at document #2000/3204\n",
      "2022-02-22 12:32:16,901 : INFO : optimized alpha [0.01015503, 0.009699442, 0.01129532, 0.010876199, 0.010432783, 0.010682807, 0.01879513, 0.010525607, 0.010951527, 0.011945883, 0.011290734, 0.011512041, 0.011176534, 0.0118315015, 0.011062253, 0.00989221, 0.010977371, 0.010211861, 0.009554611, 0.011384636, 0.012027685, 0.010491384, 0.012151552, 0.010791162, 0.010301003, 0.010185502, 0.010154984, 0.011154992, 0.010451663, 0.011801523, 0.0127993785, 0.010493998, 0.010542972, 0.010414083, 0.009771418, 0.010736995, 0.010935022, 0.010955687, 0.011395917, 0.010780533, 0.009676839, 0.010829773, 0.01014851, 0.010221543, 0.010912938, 0.010750269, 0.010906563, 0.010540666, 0.010086846, 0.01063242, 0.009788066, 0.010408711, 0.010523586, 0.010222329, 0.012325595, 0.0104820775, 0.010748282, 0.011019819, 0.011502524, 0.01139909, 0.011062997, 0.010148367, 0.010813547, 0.010229807, 0.0103896, 0.012552252, 0.00977763, 0.011603196, 0.010622233, 0.010422781, 0.010743292, 0.010878502, 0.009825076, 0.012466351, 0.011331436, 0.010622893, 0.010487738, 0.012271147, 0.010498971, 0.011830092, 0.010492158, 0.010029553, 0.011105975, 0.010121048, 0.010065442, 0.011138079, 0.0106270155, 0.011207161, 0.010456498, 0.013116946, 0.010662873, 0.010870763, 0.010365333, 0.01108395, 0.010461122, 0.011290315, 0.010556413, 0.010417333, 0.010363382, 0.010493857]\n",
      "2022-02-22 12:32:16,908 : INFO : merging changes from 2000 documents into a model of 3204 documents\n",
      "2022-02-22 12:32:16,914 : INFO : topic #18 (0.010): 0.107*\"merg\" + 0.096*\"path\" + 0.095*\"algorithm\" + 0.068*\"techniqu\" + 0.054*\"effici\" + 0.048*\"comput\" + 0.046*\",\" + 0.033*\"faster\" + 0.033*\"number\" + 0.029*\"polyphas\"\n",
      "2022-02-22 12:32:16,914 : INFO : topic #1 (0.010): 0.195*\"-\" + 0.126*\"dimension\" + 0.072*\"rotat\" + 0.049*\"complement\" + 0.044*\"wave\" + 0.043*\"short\" + 0.038*\"label\" + 0.032*\"usa\" + 0.030*\"comput\" + 0.029*\"gener\"\n",
      "2022-02-22 12:32:16,915 : INFO : topic #30 (0.013): 0.433*\"program\" + 0.100*\"languag\" + 0.056*\"automat\" + 0.039*\",\" + 0.029*\"-\" + 0.025*\"sourc\" + 0.023*\"written\" + 0.023*\"effici\" + 0.021*\"discuss\" + 0.018*\"form\"\n",
      "2022-02-22 12:32:16,916 : INFO : topic #89 (0.013): 0.368*\"data\" + 0.090*\"process\" + 0.035*\"system\" + 0.030*\"structur\" + 0.030*\"string\" + 0.022*\"relat\" + 0.022*\"inform\" + 0.019*\"retriev\" + 0.016*\"modul\" + 0.015*\"intern\"\n",
      "2022-02-22 12:32:16,917 : INFO : topic #6 (0.019): 0.304*\"algorithm\" + 0.253*\"(\" + 0.231*\")\" + 0.041*\"[\" + 0.033*\"integr\" + 0.016*\"polynomi\" + 0.014*\"])\" + 0.013*\"squar\" + 0.011*\"fit\" + 0.010*\"function\"\n",
      "2022-02-22 12:32:16,918 : INFO : topic diff=0.595568, rho=0.340958\n",
      "2022-02-22 12:32:17,905 : INFO : -6.569 per-word bound, 94.9 perplexity estimate based on a held-out corpus of 1204 documents with 49783 words\n",
      "2022-02-22 12:32:17,906 : INFO : PROGRESS: pass 6, at document #3204/3204\n",
      "2022-02-22 12:32:18,756 : INFO : optimized alpha [0.01029069, 0.009719994, 0.011407392, 0.0110769775, 0.010580875, 0.010783716, 0.019266821, 0.010625461, 0.01111685, 0.012193233, 0.011418511, 0.01172713, 0.011343023, 0.012080891, 0.011240192, 0.009981775, 0.011176071, 0.010263663, 0.00960674, 0.01157451, 0.012289793, 0.010633811, 0.012315863, 0.01098107, 0.010438385, 0.010280951, 0.010250701, 0.011385697, 0.010632437, 0.012077227, 0.0132399965, 0.010617141, 0.010692937, 0.010465816, 0.009839913, 0.010817189, 0.011121715, 0.011101731, 0.01159306, 0.010923987, 0.009737412, 0.01087257, 0.010272731, 0.010344335, 0.011064881, 0.01086581, 0.011041084, 0.010655033, 0.010167551, 0.01075544, 0.009856634, 0.010514319, 0.010655314, 0.0103542805, 0.012641456, 0.010594086, 0.010922257, 0.0110660205, 0.011754743, 0.011632572, 0.011313841, 0.010250706, 0.010831528, 0.010371114, 0.010452385, 0.012785052, 0.00983403, 0.011857556, 0.010737021, 0.010565038, 0.010915511, 0.010957622, 0.009895924, 0.013021482, 0.011459107, 0.010790573, 0.010627551, 0.012670342, 0.010641861, 0.012163408, 0.0105011435, 0.010133106, 0.011345468, 0.010207411, 0.010146837, 0.0112810405, 0.010638714, 0.011458234, 0.010567638, 0.0135521665, 0.010857536, 0.0110558355, 0.010452898, 0.011226452, 0.010657738, 0.011525456, 0.01061562, 0.0105196275, 0.010517727, 0.010651942]\n",
      "2022-02-22 12:32:18,762 : INFO : merging changes from 1204 documents into a model of 3204 documents\n",
      "2022-02-22 12:32:18,769 : INFO : topic #18 (0.010): 0.105*\"path\" + 0.102*\"algorithm\" + 0.096*\"merg\" + 0.066*\"effici\" + 0.065*\"techniqu\" + 0.051*\"comput\" + 0.046*\",\" + 0.037*\"faster\" + 0.035*\"number\" + 0.030*\"relat\"\n",
      "2022-02-22 12:32:18,770 : INFO : topic #40 (0.010): 0.074*\",\" + 0.054*\"proof\" + 0.043*\"method\" + 0.039*\"program\" + 0.038*\"convent\" + 0.030*\"correct\" + 0.026*\"-\" + 0.024*\"simplifi\" + 0.024*\"frequenc\" + 0.023*\"test\"\n",
      "2022-02-22 12:32:18,770 : INFO : topic #30 (0.013): 0.465*\"program\" + 0.091*\"languag\" + 0.051*\"automat\" + 0.039*\",\" + 0.027*\"-\" + 0.025*\"sourc\" + 0.022*\"written\" + 0.021*\"effici\" + 0.019*\"discuss\" + 0.018*\"form\"\n",
      "2022-02-22 12:32:18,771 : INFO : topic #89 (0.014): 0.389*\"data\" + 0.081*\"process\" + 0.037*\"structur\" + 0.032*\"system\" + 0.023*\"relat\" + 0.022*\"string\" + 0.021*\"modul\" + 0.020*\"inform\" + 0.017*\"retriev\" + 0.014*\"infer\"\n",
      "2022-02-22 12:32:18,772 : INFO : topic #6 (0.019): 0.322*\"algorithm\" + 0.249*\"(\" + 0.228*\")\" + 0.047*\"[\" + 0.031*\"integr\" + 0.014*\"polynomi\" + 0.010*\"squar\" + 0.010*\"fit\" + 0.010*\"])\" + 0.010*\"e2\"\n",
      "2022-02-22 12:32:18,773 : INFO : topic diff=0.607145, rho=0.340958\n",
      "2022-02-22 12:32:18,783 : INFO : PROGRESS: pass 7, at document #2000/3204\n",
      "2022-02-22 12:32:19,792 : INFO : optimized alpha [0.01029292, 0.009725875, 0.011579321, 0.011046407, 0.010551276, 0.0108632995, 0.020192895, 0.010670484, 0.011149823, 0.012346351, 0.011521434, 0.011732768, 0.011436097, 0.012178359, 0.011298451, 0.009949319, 0.011145655, 0.010270399, 0.009618268, 0.011604026, 0.012320982, 0.010629283, 0.012520387, 0.011097022, 0.010450043, 0.010252022, 0.010222037, 0.011382852, 0.010576371, 0.012095945, 0.013664742, 0.010629312, 0.010713679, 0.010566005, 0.0098420475, 0.01084675, 0.01117582, 0.011168841, 0.011637934, 0.010997434, 0.009716295, 0.011050829, 0.01025199, 0.010371123, 0.011123525, 0.010920022, 0.01119048, 0.010763181, 0.010175987, 0.010724787, 0.009872761, 0.010584361, 0.010642866, 0.010436972, 0.0127479285, 0.01064043, 0.010888214, 0.011256031, 0.011801657, 0.011648807, 0.011348371, 0.010274642, 0.011110672, 0.01035923, 0.010448862, 0.012902981, 0.00982772, 0.011894609, 0.010810938, 0.010588386, 0.010909141, 0.011115806, 0.009865256, 0.013398831, 0.01171714, 0.010760164, 0.0106601175, 0.012777248, 0.010628764, 0.012086942, 0.010544578, 0.010103684, 0.011354103, 0.010263734, 0.010179405, 0.011384678, 0.010705013, 0.011463514, 0.010627733, 0.013745949, 0.010831241, 0.011027558, 0.010531378, 0.011268684, 0.010660643, 0.011612445, 0.010712588, 0.010524581, 0.010494333, 0.010666985]\n",
      "2022-02-22 12:32:19,798 : INFO : merging changes from 2000 documents into a model of 3204 documents\n",
      "2022-02-22 12:32:19,803 : INFO : topic #18 (0.010): 0.103*\"merg\" + 0.096*\"path\" + 0.094*\"algorithm\" + 0.076*\"techniqu\" + 0.065*\"effici\" + 0.051*\"comput\" + 0.042*\",\" + 0.034*\"number\" + 0.033*\"faster\" + 0.032*\"gener\"\n",
      "2022-02-22 12:32:19,804 : INFO : topic #40 (0.010): 0.073*\",\" + 0.043*\"proof\" + 0.040*\"method\" + 0.039*\"convent\" + 0.038*\"program\" + 0.026*\"-\" + 0.026*\"correct\" + 0.024*\"frequenc\" + 0.024*\"simplifi\" + 0.023*\"test\"\n",
      "2022-02-22 12:32:19,805 : INFO : topic #30 (0.014): 0.466*\"program\" + 0.090*\"languag\" + 0.057*\"automat\" + 0.039*\",\" + 0.027*\"-\" + 0.025*\"sourc\" + 0.023*\"written\" + 0.021*\"effici\" + 0.021*\"discuss\" + 0.017*\"form\"\n",
      "2022-02-22 12:32:19,806 : INFO : topic #89 (0.014): 0.388*\"data\" + 0.089*\"process\" + 0.035*\"structur\" + 0.033*\"system\" + 0.021*\"inform\" + 0.021*\"relat\" + 0.021*\"string\" + 0.017*\"retriev\" + 0.017*\"modul\" + 0.016*\"intern\"\n",
      "2022-02-22 12:32:19,807 : INFO : topic #6 (0.020): 0.312*\"algorithm\" + 0.255*\"(\" + 0.235*\")\" + 0.035*\"[\" + 0.035*\"integr\" + 0.015*\"polynomi\" + 0.012*\"squar\" + 0.011*\"fit\" + 0.010*\"function\" + 0.009*\"])\"\n",
      "2022-02-22 12:32:19,808 : INFO : topic diff=0.531039, rho=0.322715\n",
      "2022-02-22 12:32:20,916 : INFO : -6.543 per-word bound, 93.3 perplexity estimate based on a held-out corpus of 1204 documents with 49783 words\n",
      "2022-02-22 12:32:20,917 : INFO : PROGRESS: pass 7, at document #3204/3204\n",
      "2022-02-22 12:32:21,787 : INFO : optimized alpha [0.010422414, 0.009751254, 0.0117071355, 0.011235628, 0.010698417, 0.010962162, 0.020644067, 0.010774342, 0.011313762, 0.012600725, 0.011655714, 0.011941937, 0.011613871, 0.012430916, 0.011468696, 0.010042766, 0.011344647, 0.01032005, 0.009673325, 0.011801456, 0.012586137, 0.010768041, 0.012663152, 0.011285262, 0.010589673, 0.010343313, 0.010319017, 0.011604107, 0.010757726, 0.0123575805, 0.0141504565, 0.010743857, 0.010865545, 0.010617677, 0.009923491, 0.010941118, 0.011387745, 0.011308169, 0.0118359765, 0.01115212, 0.009787501, 0.011099475, 0.010370636, 0.010482737, 0.011259746, 0.011030045, 0.011340011, 0.010880813, 0.010255867, 0.010839395, 0.0099490015, 0.01068779, 0.010783002, 0.010579835, 0.013055988, 0.010761497, 0.011063212, 0.011301761, 0.012047021, 0.011875801, 0.011592462, 0.010383181, 0.011116487, 0.010499714, 0.010514652, 0.01313667, 0.009905672, 0.012142004, 0.010929147, 0.01072425, 0.011082652, 0.011211504, 0.00994636, 0.014016891, 0.011847586, 0.010914394, 0.010790802, 0.013175044, 0.01076217, 0.0124071855, 0.010559045, 0.010202492, 0.011596215, 0.010351548, 0.010265354, 0.011527067, 0.010716324, 0.011713758, 0.010759346, 0.014173366, 0.011008604, 0.011204513, 0.010626071, 0.011401623, 0.010851885, 0.011863599, 0.010777266, 0.010613581, 0.010647462, 0.010812311]\n",
      "2022-02-22 12:32:21,793 : INFO : merging changes from 1204 documents into a model of 3204 documents\n",
      "2022-02-22 12:32:21,799 : INFO : topic #18 (0.010): 0.104*\"path\" + 0.101*\"algorithm\" + 0.095*\"merg\" + 0.075*\"effici\" + 0.072*\"techniqu\" + 0.053*\"comput\" + 0.042*\",\" + 0.037*\"relat\" + 0.037*\"faster\" + 0.034*\"number\"\n",
      "2022-02-22 12:32:21,805 : INFO : topic #1 (0.010): 0.219*\"-\" + 0.117*\"dimension\" + 0.080*\"rotat\" + 0.062*\"complement\" + 0.054*\"label\" + 0.052*\"short\" + 0.040*\"wave\" + 0.036*\"half\" + 0.026*\"comput\" + 0.023*\"gener\"\n",
      "2022-02-22 12:32:21,806 : INFO : topic #89 (0.014): 0.404*\"data\" + 0.080*\"process\" + 0.043*\"structur\" + 0.030*\"system\" + 0.021*\"modul\" + 0.021*\"relat\" + 0.019*\"inform\" + 0.015*\"string\" + 0.015*\"retriev\" + 0.014*\"infer\"\n",
      "2022-02-22 12:32:21,810 : INFO : topic #30 (0.014): 0.496*\"program\" + 0.082*\"languag\" + 0.052*\"automat\" + 0.038*\",\" + 0.025*\"-\" + 0.025*\"sourc\" + 0.023*\"written\" + 0.020*\"effici\" + 0.020*\"discuss\" + 0.016*\"form\"\n",
      "2022-02-22 12:32:21,812 : INFO : topic #6 (0.021): 0.327*\"algorithm\" + 0.252*\"(\" + 0.231*\")\" + 0.042*\"[\" + 0.033*\"integr\" + 0.013*\"polynomi\" + 0.010*\"squar\" + 0.010*\"fit\" + 0.010*\"function\" + 0.010*\"e2\"\n",
      "2022-02-22 12:32:21,815 : INFO : topic diff=0.534836, rho=0.322715\n",
      "2022-02-22 12:32:21,827 : INFO : PROGRESS: pass 8, at document #2000/3204\n",
      "2022-02-22 12:32:22,812 : INFO : optimized alpha [0.010425957, 0.00975745, 0.011894988, 0.0112005295, 0.010681468, 0.011040166, 0.021610497, 0.010817373, 0.011343145, 0.012752107, 0.011763555, 0.011954032, 0.01170679, 0.012523963, 0.011525942, 0.010016691, 0.0113182375, 0.010341391, 0.009695082, 0.011830977, 0.0126344375, 0.01076848, 0.012860877, 0.011407379, 0.010600556, 0.0103208665, 0.010293524, 0.011611104, 0.010708654, 0.012379947, 0.014586643, 0.010760411, 0.010885093, 0.010741765, 0.009930351, 0.010979718, 0.011458438, 0.011375856, 0.011885734, 0.01121894, 0.009767727, 0.011269794, 0.010350814, 0.0105114775, 0.011326412, 0.011088784, 0.011489721, 0.010988121, 0.010268849, 0.010815329, 0.009975444, 0.010758277, 0.010777533, 0.010667437, 0.013163439, 0.010804129, 0.011035298, 0.011481802, 0.012096545, 0.011894032, 0.011624514, 0.010409161, 0.011413515, 0.010489714, 0.01051337, 0.013245512, 0.009907496, 0.012181996, 0.011011886, 0.010749618, 0.011074258, 0.01137988, 0.0099220835, 0.014408726, 0.012100664, 0.0108849965, 0.01082345, 0.013284622, 0.010754461, 0.012333533, 0.01059756, 0.010177747, 0.011612227, 0.010418347, 0.010304595, 0.011630176, 0.010785054, 0.011728383, 0.010816668, 0.014371286, 0.010991339, 0.011176952, 0.01069974, 0.011447134, 0.0108607095, 0.011950321, 0.010873704, 0.010616839, 0.010629657, 0.010826481]\n",
      "2022-02-22 12:32:22,818 : INFO : merging changes from 2000 documents into a model of 3204 documents\n",
      "2022-02-22 12:32:22,827 : INFO : topic #18 (0.010): 0.100*\"merg\" + 0.095*\"path\" + 0.094*\"algorithm\" + 0.086*\"techniqu\" + 0.073*\"effici\" + 0.050*\"comput\" + 0.039*\",\" + 0.034*\"relat\" + 0.034*\"number\" + 0.032*\"faster\"\n",
      "2022-02-22 12:32:22,828 : INFO : topic #40 (0.010): 0.075*\",\" + 0.053*\"proof\" + 0.043*\"method\" + 0.042*\"convent\" + 0.037*\"program\" + 0.027*\"correct\" + 0.026*\"-\" + 0.024*\"frequenc\" + 0.024*\"simplifi\" + 0.023*\"law\"\n",
      "2022-02-22 12:32:22,830 : INFO : topic #73 (0.014): 0.467*\"(\" + 0.452*\")\" + 0.024*\"corrigendum\" + 0.015*\"employ\" + 0.010*\"symbol\" + 0.009*\"manipul\" + 0.008*\"procedur\" + 0.004*\"algorithm\" + 0.002*\"decomposit\" + 0.000*\"method\"\n",
      "2022-02-22 12:32:22,831 : INFO : topic #30 (0.015): 0.495*\"program\" + 0.081*\"languag\" + 0.058*\"automat\" + 0.038*\",\" + 0.026*\"-\" + 0.025*\"written\" + 0.024*\"sourc\" + 0.021*\"discuss\" + 0.020*\"effici\" + 0.016*\"form\"\n",
      "2022-02-22 12:32:22,833 : INFO : topic #6 (0.022): 0.318*\"algorithm\" + 0.258*\"(\" + 0.239*\")\" + 0.036*\"integr\" + 0.031*\"[\" + 0.014*\"polynomi\" + 0.012*\"squar\" + 0.010*\"function\" + 0.010*\"fit\" + 0.009*\"e2\"\n",
      "2022-02-22 12:32:22,834 : INFO : topic diff=0.464514, rho=0.307119\n",
      "2022-02-22 12:32:23,912 : INFO : -6.525 per-word bound, 92.1 perplexity estimate based on a held-out corpus of 1204 documents with 49783 words\n",
      "2022-02-22 12:32:23,912 : INFO : PROGRESS: pass 8, at document #3204/3204\n",
      "2022-02-22 12:32:25,244 : INFO : optimized alpha [0.010555575, 0.009789719, 0.012023316, 0.011396894, 0.01082005, 0.011134792, 0.022053411, 0.010916869, 0.011497782, 0.012998046, 0.011931882, 0.012164685, 0.011871761, 0.012771209, 0.011692427, 0.010108975, 0.011521155, 0.010397106, 0.009755477, 0.012020851, 0.012893916, 0.010907143, 0.013000391, 0.011588858, 0.010753738, 0.010424581, 0.010389323, 0.011824304, 0.010902127, 0.012632469, 0.015109201, 0.010864707, 0.011033879, 0.010801711, 0.010021385, 0.0110700745, 0.011666087, 0.0115182735, 0.012079492, 0.011364712, 0.009843695, 0.011318282, 0.010475241, 0.010621182, 0.011451175, 0.011194233, 0.011633503, 0.011117701, 0.010348169, 0.010928146, 0.0100486595, 0.010873857, 0.01091488, 0.010818598, 0.013465152, 0.010920273, 0.011217655, 0.011530452, 0.012330126, 0.012109719, 0.011872296, 0.0105212, 0.011419448, 0.010627282, 0.010581951, 0.013474087, 0.009979759, 0.012423847, 0.0111392345, 0.010899319, 0.011255333, 0.011471001, 0.01001529, 0.015068797, 0.012234349, 0.011027393, 0.010957312, 0.013689342, 0.010888163, 0.012649052, 0.010611704, 0.010272581, 0.011860805, 0.010513075, 0.010394849, 0.011763783, 0.010787682, 0.011978804, 0.010965259, 0.014803747, 0.0111588575, 0.011341234, 0.010809493, 0.011574672, 0.011056071, 0.012205671, 0.01094095, 0.010696824, 0.010801481, 0.010979939]\n",
      "2022-02-22 12:32:25,309 : INFO : merging changes from 1204 documents into a model of 3204 documents\n",
      "2022-02-22 12:32:25,358 : INFO : topic #18 (0.010): 0.102*\"path\" + 0.099*\"algorithm\" + 0.092*\"merg\" + 0.082*\"effici\" + 0.081*\"techniqu\" + 0.052*\"comput\" + 0.040*\"relat\" + 0.038*\",\" + 0.038*\"faster\" + 0.035*\"number\"\n",
      "2022-02-22 12:32:25,362 : INFO : topic #40 (0.010): 0.078*\",\" + 0.074*\"proof\" + 0.049*\"method\" + 0.044*\"convent\" + 0.036*\"program\" + 0.035*\"correct\" + 0.025*\"simplifi\" + 0.025*\"-\" + 0.024*\"frequenc\" + 0.023*\"law\"\n",
      "2022-02-22 12:32:25,363 : INFO : topic #73 (0.015): 0.469*\"(\" + 0.451*\")\" + 0.028*\"corrigendum\" + 0.017*\"employ\" + 0.008*\"manipul\" + 0.008*\"symbol\" + 0.006*\"procedur\" + 0.003*\"algorithm\" + 0.002*\"decomposit\" + 0.000*\"method\"\n",
      "2022-02-22 12:32:25,367 : INFO : topic #30 (0.015): 0.521*\"program\" + 0.075*\"languag\" + 0.053*\"automat\" + 0.037*\",\" + 0.024*\"sourc\" + 0.024*\"-\" + 0.024*\"written\" + 0.020*\"discuss\" + 0.018*\"effici\" + 0.016*\"form\"\n",
      "2022-02-22 12:32:25,371 : INFO : topic #6 (0.022): 0.333*\"algorithm\" + 0.255*\"(\" + 0.235*\")\" + 0.035*\"[\" + 0.034*\"integr\" + 0.012*\"polynomi\" + 0.011*\"function\" + 0.010*\"e2\" + 0.010*\"squar\" + 0.009*\"fit\"\n",
      "2022-02-22 12:32:25,376 : INFO : topic diff=0.466475, rho=0.307119\n",
      "2022-02-22 12:32:25,389 : INFO : PROGRESS: pass 9, at document #2000/3204\n",
      "2022-02-22 12:32:26,507 : INFO : optimized alpha [0.010568133, 0.009800506, 0.012209383, 0.01137264, 0.010808359, 0.011213197, 0.022991484, 0.010974373, 0.011530842, 0.013148438, 0.012050055, 0.012175468, 0.011973553, 0.01286595, 0.011747155, 0.010088735, 0.011496627, 0.010414827, 0.009783917, 0.012043277, 0.0129413325, 0.01091372, 0.013199893, 0.0117069995, 0.010759046, 0.010403223, 0.010366593, 0.011830235, 0.010859139, 0.012656672, 0.015571365, 0.010883805, 0.011057203, 0.010924908, 0.010031107, 0.011112205, 0.011735614, 0.011583312, 0.012137638, 0.011437225, 0.009826501, 0.01148839, 0.010457664, 0.010655016, 0.011515428, 0.011249174, 0.0117908325, 0.011229601, 0.010360812, 0.010903546, 0.010075732, 0.010948098, 0.010909416, 0.010920493, 0.013575867, 0.010966099, 0.011195173, 0.011703313, 0.012382462, 0.012139135, 0.011903825, 0.010546134, 0.011740232, 0.010618968, 0.010585802, 0.013578598, 0.009987661, 0.01246681, 0.011223858, 0.010923401, 0.011245086, 0.011639474, 0.01000107, 0.015458707, 0.012503133, 0.011000627, 0.010994942, 0.0137898745, 0.010887033, 0.01257418, 0.010650678, 0.010249083, 0.011878555, 0.01059602, 0.010432637, 0.011866689, 0.010855623, 0.012012862, 0.011021685, 0.014997746, 0.011145075, 0.0113109825, 0.010886805, 0.011611477, 0.011076846, 0.0122978715, 0.011040476, 0.01070177, 0.010785478, 0.010996449]\n",
      "2022-02-22 12:32:26,514 : INFO : merging changes from 2000 documents into a model of 3204 documents\n",
      "2022-02-22 12:32:26,520 : INFO : topic #18 (0.010): 0.096*\"merg\" + 0.095*\"techniqu\" + 0.093*\"path\" + 0.091*\"algorithm\" + 0.080*\"effici\" + 0.053*\"comput\" + 0.038*\"relat\" + 0.036*\",\" + 0.035*\"number\" + 0.033*\"faster\"\n",
      "2022-02-22 12:32:26,520 : INFO : topic #1 (0.010): 0.224*\"-\" + 0.120*\"dimension\" + 0.075*\"rotat\" + 0.051*\"complement\" + 0.048*\"short\" + 0.046*\"label\" + 0.043*\"half\" + 0.043*\"wave\" + 0.030*\"usa\" + 0.024*\"comput\"\n",
      "2022-02-22 12:32:26,521 : INFO : topic #73 (0.015): 0.473*\"(\" + 0.456*\")\" + 0.024*\"corrigendum\" + 0.015*\"employ\" + 0.008*\"manipul\" + 0.007*\"symbol\" + 0.006*\"procedur\" + 0.003*\"algorithm\" + 0.002*\"decomposit\" + 0.000*\"method\"\n",
      "2022-02-22 12:32:26,522 : INFO : topic #30 (0.016): 0.518*\"program\" + 0.074*\"languag\" + 0.058*\"automat\" + 0.037*\",\" + 0.025*\"written\" + 0.025*\"-\" + 0.024*\"sourc\" + 0.021*\"discuss\" + 0.018*\"effici\" + 0.015*\"form\"\n",
      "2022-02-22 12:32:26,523 : INFO : topic #6 (0.023): 0.324*\"algorithm\" + 0.261*\"(\" + 0.244*\")\" + 0.035*\"integr\" + 0.025*\"[\" + 0.013*\"polynomi\" + 0.011*\"function\" + 0.011*\"squar\" + 0.010*\"e2\" + 0.009*\"fit\"\n",
      "2022-02-22 12:32:26,524 : INFO : topic diff=0.403122, rho=0.293585\n",
      "2022-02-22 12:32:27,505 : INFO : -6.508 per-word bound, 91.0 perplexity estimate based on a held-out corpus of 1204 documents with 49783 words\n",
      "2022-02-22 12:32:27,506 : INFO : PROGRESS: pass 9, at document #3204/3204\n",
      "2022-02-22 12:32:28,448 : INFO : optimized alpha [0.010693122, 0.009831898, 0.012350503, 0.011565438, 0.010947294, 0.01130965, 0.023472225, 0.011072825, 0.011680136, 0.013390108, 0.0122304605, 0.012385097, 0.012127056, 0.013105636, 0.011910727, 0.010175297, 0.011689919, 0.010473788, 0.009849314, 0.012229736, 0.013195956, 0.01105544, 0.013330392, 0.011882707, 0.010906993, 0.010510926, 0.0104615595, 0.012027392, 0.0110380445, 0.012913999, 0.0161032, 0.010994893, 0.011203525, 0.010984726, 0.010116453, 0.01120471, 0.011959958, 0.0117121255, 0.012330927, 0.011591828, 0.009909449, 0.011537086, 0.010590462, 0.010765934, 0.011655654, 0.011350704, 0.011949951, 0.01137097, 0.010439839, 0.011023069, 0.010161137, 0.011059502, 0.011041906, 0.011093558, 0.013878977, 0.011083343, 0.011379561, 0.011740674, 0.012614843, 0.012353928, 0.012150062, 0.010659262, 0.011746166, 0.010756747, 0.010649455, 0.013792983, 0.010069684, 0.0127041815, 0.011357601, 0.011067991, 0.011428418, 0.0117267845, 0.010090968, 0.016106775, 0.012643499, 0.01114871, 0.011126764, 0.014172208, 0.011018613, 0.0128861945, 0.010661969, 0.010338002, 0.012125525, 0.010689769, 0.010527284, 0.011992455, 0.010866379, 0.0122617725, 0.011173255, 0.01543624, 0.011298447, 0.011475044, 0.0109897815, 0.011737245, 0.011274168, 0.012558275, 0.011107608, 0.010778869, 0.010951441, 0.011152793]\n",
      "2022-02-22 12:32:28,454 : INFO : merging changes from 1204 documents into a model of 3204 documents\n",
      "2022-02-22 12:32:28,461 : INFO : topic #18 (0.010): 0.100*\"path\" + 0.096*\"algorithm\" + 0.089*\"merg\" + 0.088*\"effici\" + 0.088*\"techniqu\" + 0.054*\"comput\" + 0.045*\"relat\" + 0.038*\"faster\" + 0.036*\"number\" + 0.035*\",\"\n",
      "2022-02-22 12:32:28,462 : INFO : topic #1 (0.010): 0.235*\"-\" + 0.113*\"dimension\" + 0.079*\"rotat\" + 0.061*\"complement\" + 0.058*\"label\" + 0.055*\"short\" + 0.047*\"half\" + 0.039*\"wave\" + 0.026*\"long\" + 0.024*\"exampl\"\n",
      "2022-02-22 12:32:28,463 : INFO : topic #73 (0.016): 0.474*\"(\" + 0.454*\")\" + 0.027*\"corrigendum\" + 0.017*\"employ\" + 0.007*\"manipul\" + 0.006*\"symbol\" + 0.005*\"procedur\" + 0.002*\"algorithm\" + 0.001*\"decomposit\" + 0.000*\"method\"\n",
      "2022-02-22 12:32:28,463 : INFO : topic #30 (0.016): 0.542*\"program\" + 0.069*\"languag\" + 0.054*\"automat\" + 0.036*\",\" + 0.024*\"written\" + 0.023*\"sourc\" + 0.023*\"-\" + 0.020*\"discuss\" + 0.017*\"effici\" + 0.015*\"form\"\n",
      "2022-02-22 12:32:28,464 : INFO : topic #6 (0.023): 0.340*\"algorithm\" + 0.257*\"(\" + 0.239*\")\" + 0.033*\"integr\" + 0.029*\"[\" + 0.012*\"polynomi\" + 0.011*\"function\" + 0.010*\"e2\" + 0.009*\"squar\" + 0.009*\"linear\"\n",
      "2022-02-22 12:32:28,465 : INFO : topic diff=0.406123, rho=0.293585\n",
      "2022-02-22 12:32:28,477 : INFO : PROGRESS: pass 10, at document #2000/3204\n",
      "2022-02-22 12:32:29,988 : INFO : optimized alpha [0.0107035255, 0.009845509, 0.012531982, 0.0115429545, 0.010938914, 0.011387115, 0.024430089, 0.011134715, 0.011711822, 0.013539865, 0.012365796, 0.012392964, 0.012224053, 0.013195105, 0.011963278, 0.010157487, 0.011667231, 0.010494214, 0.009882485, 0.012250811, 0.01325231, 0.011069366, 0.013526478, 0.011999018, 0.0109132845, 0.010493416, 0.010441373, 0.01203757, 0.010997655, 0.012932467, 0.016581507, 0.01101171, 0.011227362, 0.011110471, 0.010133057, 0.011255094, 0.012048719, 0.011781501, 0.012388382, 0.011666638, 0.009893091, 0.01170746, 0.010573361, 0.010798535, 0.011721068, 0.011410254, 0.012118671, 0.01148925, 0.0104581015, 0.011005693, 0.010190252, 0.011132815, 0.011045956, 0.011211268, 0.013991375, 0.0111306375, 0.011362145, 0.011911971, 0.012671791, 0.012381674, 0.012176099, 0.010686236, 0.012092896, 0.010751528, 0.010653499, 0.01389954, 0.010076018, 0.01275376, 0.0114428075, 0.011087833, 0.011417839, 0.011897484, 0.010080312, 0.016507551, 0.0129251145, 0.01112265, 0.011169298, 0.014264144, 0.011020492, 0.012813697, 0.010698393, 0.010315606, 0.0121467095, 0.010786784, 0.01057123, 0.012090414, 0.010933716, 0.012297194, 0.011227465, 0.015624645, 0.011283195, 0.011448806, 0.0110599045, 0.011769316, 0.011300022, 0.012647161, 0.011202537, 0.010783845, 0.010937089, 0.011169951]\n",
      "2022-02-22 12:32:29,999 : INFO : merging changes from 2000 documents into a model of 3204 documents\n",
      "2022-02-22 12:32:30,013 : INFO : topic #40 (0.010): 0.078*\",\" + 0.068*\"proof\" + 0.048*\"convent\" + 0.047*\"method\" + 0.034*\"program\" + 0.033*\"correct\" + 0.025*\"simplifi\" + 0.025*\"frequenc\" + 0.024*\"law\" + 0.024*\"-\"\n",
      "2022-02-22 12:32:30,020 : INFO : topic #1 (0.010): 0.231*\"-\" + 0.118*\"dimension\" + 0.075*\"rotat\" + 0.052*\"complement\" + 0.049*\"short\" + 0.049*\"label\" + 0.048*\"half\" + 0.043*\"wave\" + 0.030*\"usa\" + 0.023*\"exampl\"\n",
      "2022-02-22 12:32:30,027 : INFO : topic #73 (0.017): 0.476*\"(\" + 0.459*\")\" + 0.023*\"corrigendum\" + 0.015*\"employ\" + 0.007*\"manipul\" + 0.005*\"symbol\" + 0.005*\"procedur\" + 0.002*\"algorithm\" + 0.001*\"decomposit\" + 0.000*\"method\"\n",
      "2022-02-22 12:32:30,031 : INFO : topic #30 (0.017): 0.539*\"program\" + 0.068*\"languag\" + 0.059*\"automat\" + 0.036*\",\" + 0.026*\"written\" + 0.023*\"sourc\" + 0.023*\"-\" + 0.022*\"discuss\" + 0.017*\"effici\" + 0.014*\"form\"\n",
      "2022-02-22 12:32:30,035 : INFO : topic #6 (0.024): 0.330*\"algorithm\" + 0.263*\"(\" + 0.247*\")\" + 0.035*\"integr\" + 0.021*\"[\" + 0.012*\"polynomi\" + 0.011*\"function\" + 0.010*\"e2\" + 0.010*\"squar\" + 0.009*\"fit\"\n",
      "2022-02-22 12:32:30,046 : INFO : topic diff=0.351911, rho=0.281696\n",
      "2022-02-22 12:32:31,186 : INFO : -6.494 per-word bound, 90.1 perplexity estimate based on a held-out corpus of 1204 documents with 49783 words\n",
      "2022-02-22 12:32:31,186 : INFO : PROGRESS: pass 10, at document #3204/3204\n",
      "2022-02-22 12:32:32,086 : INFO : optimized alpha [0.0108244475, 0.0098761795, 0.012677033, 0.011735462, 0.011076043, 0.011477525, 0.024867693, 0.011229813, 0.011853622, 0.013775069, 0.012570267, 0.012611007, 0.01237853, 0.01343124, 0.012127293, 0.010250754, 0.011865557, 0.010548864, 0.009950382, 0.012422688, 0.013512701, 0.011206605, 0.013648856, 0.012172509, 0.011059211, 0.010607615, 0.010533302, 0.012240216, 0.011173606, 0.013179682, 0.017134715, 0.0111244265, 0.0113691045, 0.011170367, 0.010222759, 0.011355317, 0.012281663, 0.01191161, 0.012586083, 0.011819214, 0.009985053, 0.011764688, 0.01070938, 0.010910938, 0.011862599, 0.0115163885, 0.012278856, 0.011639821, 0.010532114, 0.011113561, 0.010275376, 0.011245717, 0.011174267, 0.011398178, 0.014280526, 0.011241378, 0.011549029, 0.011947163, 0.012903618, 0.012590322, 0.012415843, 0.010805767, 0.012098671, 0.010884942, 0.010712711, 0.014113905, 0.010155408, 0.012990559, 0.0115724355, 0.011233058, 0.011588526, 0.011978493, 0.010169687, 0.017192835, 0.013048273, 0.011258114, 0.011291698, 0.014628605, 0.011155638, 0.01311729, 0.010709674, 0.0104015535, 0.012389978, 0.010892581, 0.010670254, 0.012211894, 0.01095195, 0.012542502, 0.0113769565, 0.016059482, 0.011434315, 0.01160772, 0.011169858, 0.011893754, 0.01149716, 0.012913396, 0.01126976, 0.010863526, 0.011105673, 0.01133726]\n",
      "2022-02-22 12:32:32,092 : INFO : merging changes from 1204 documents into a model of 3204 documents\n",
      "2022-02-22 12:32:32,100 : INFO : topic #1 (0.010): 0.241*\"-\" + 0.111*\"dimension\" + 0.079*\"rotat\" + 0.061*\"complement\" + 0.059*\"label\" + 0.056*\"short\" + 0.051*\"half\" + 0.039*\"wave\" + 0.028*\"long\" + 0.024*\"exampl\"\n",
      "2022-02-22 12:32:32,101 : INFO : topic #18 (0.010): 0.099*\"path\" + 0.093*\"effici\" + 0.093*\"techniqu\" + 0.091*\"algorithm\" + 0.088*\"merg\" + 0.055*\"comput\" + 0.048*\"relat\" + 0.037*\"faster\" + 0.036*\"number\" + 0.033*\",\"\n",
      "2022-02-22 12:32:32,103 : INFO : topic #30 (0.017): 0.560*\"program\" + 0.064*\"languag\" + 0.054*\"automat\" + 0.035*\",\" + 0.025*\"written\" + 0.023*\"sourc\" + 0.021*\"-\" + 0.021*\"discuss\" + 0.016*\"effici\" + 0.014*\"form\"\n",
      "2022-02-22 12:32:32,104 : INFO : topic #73 (0.017): 0.478*\"(\" + 0.456*\")\" + 0.027*\"corrigendum\" + 0.017*\"employ\" + 0.006*\"manipul\" + 0.004*\"procedur\" + 0.004*\"symbol\" + 0.002*\"algorithm\" + 0.001*\"decomposit\" + 0.000*\"method\"\n",
      "2022-02-22 12:32:32,106 : INFO : topic #6 (0.025): 0.344*\"algorithm\" + 0.258*\"(\" + 0.245*\")\" + 0.033*\"integr\" + 0.023*\"[\" + 0.012*\"function\" + 0.011*\"polynomi\" + 0.010*\"e2\" + 0.008*\"squar\" + 0.008*\"linear\"\n",
      "2022-02-22 12:32:32,108 : INFO : topic diff=0.356855, rho=0.281696\n",
      "2022-02-22 12:32:32,115 : INFO : PROGRESS: pass 11, at document #2000/3204\n",
      "2022-02-22 12:32:33,159 : INFO : optimized alpha [0.0108431745, 0.009892416, 0.0128630325, 0.011713029, 0.0110677015, 0.011554287, 0.025838733, 0.011297554, 0.011890481, 0.013930127, 0.012705634, 0.012622873, 0.01247606, 0.013523058, 0.012181189, 0.010237856, 0.011844456, 0.010571788, 0.009984006, 0.012437511, 0.013562766, 0.011227434, 0.013836534, 0.012285711, 0.011066536, 0.010597925, 0.010512575, 0.012254322, 0.011130927, 0.013198316, 0.017614037, 0.011133088, 0.011393501, 0.0112882, 0.0102374675, 0.011407188, 0.012379386, 0.011975563, 0.012641352, 0.011893247, 0.009974812, 0.011930877, 0.01069261, 0.010942435, 0.011935824, 0.011577295, 0.012459072, 0.011769223, 0.010551363, 0.011099863, 0.010303649, 0.011321402, 0.011173399, 0.01152083, 0.014387121, 0.011290204, 0.011533106, 0.0121157225, 0.0129616605, 0.012618235, 0.012443494, 0.01083617, 0.012447369, 0.010878173, 0.010718474, 0.014220879, 0.010165818, 0.013041357, 0.011659814, 0.011245875, 0.011577843, 0.012141979, 0.010162273, 0.01759565, 0.01333614, 0.011246567, 0.011329703, 0.014704489, 0.011161854, 0.01304695, 0.010748241, 0.010381595, 0.012416185, 0.010994414, 0.010718695, 0.012307013, 0.011026202, 0.012581049, 0.01142918, 0.016238095, 0.0114208255, 0.011578797, 0.0112438705, 0.011924668, 0.011526353, 0.01301161, 0.01136665, 0.01086854, 0.011095866, 0.011356555]\n",
      "2022-02-22 12:32:33,164 : INFO : merging changes from 2000 documents into a model of 3204 documents\n",
      "2022-02-22 12:32:33,173 : INFO : topic #40 (0.010): 0.080*\",\" + 0.073*\"proof\" + 0.050*\"convent\" + 0.049*\"method\" + 0.036*\"correct\" + 0.033*\"program\" + 0.027*\"simplifi\" + 0.025*\"frequenc\" + 0.024*\"law\" + 0.024*\"techniqu\"\n",
      "2022-02-22 12:32:33,174 : INFO : topic #1 (0.010): 0.240*\"-\" + 0.117*\"dimension\" + 0.075*\"rotat\" + 0.052*\"complement\" + 0.051*\"half\" + 0.051*\"label\" + 0.050*\"short\" + 0.042*\"wave\" + 0.030*\"usa\" + 0.025*\"long\"\n",
      "2022-02-22 12:32:33,176 : INFO : topic #30 (0.018): 0.556*\"program\" + 0.062*\"languag\" + 0.059*\"automat\" + 0.035*\",\" + 0.027*\"written\" + 0.023*\"sourc\" + 0.022*\"discuss\" + 0.022*\"-\" + 0.016*\"effici\" + 0.014*\"comput\"\n",
      "2022-02-22 12:32:33,177 : INFO : topic #73 (0.018): 0.480*\"(\" + 0.460*\")\" + 0.023*\"corrigendum\" + 0.014*\"employ\" + 0.005*\"manipul\" + 0.004*\"procedur\" + 0.004*\"symbol\" + 0.001*\"algorithm\" + 0.001*\"decomposit\" + 0.000*\"method\"\n",
      "2022-02-22 12:32:33,179 : INFO : topic #6 (0.026): 0.333*\"algorithm\" + 0.264*\"(\" + 0.252*\")\" + 0.035*\"integr\" + 0.017*\"[\" + 0.012*\"polynomi\" + 0.012*\"function\" + 0.010*\"e2\" + 0.009*\"squar\" + 0.008*\"invers\"\n",
      "2022-02-22 12:32:33,181 : INFO : topic diff=0.309509, rho=0.271143\n",
      "2022-02-22 12:32:34,275 : INFO : -6.483 per-word bound, 89.5 perplexity estimate based on a held-out corpus of 1204 documents with 49783 words\n",
      "2022-02-22 12:32:34,276 : INFO : PROGRESS: pass 11, at document #3204/3204\n",
      "2022-02-22 12:32:35,061 : INFO : optimized alpha [0.0109727075, 0.009922388, 0.013009339, 0.011908196, 0.011208358, 0.011649565, 0.02627476, 0.011389538, 0.012028084, 0.014153126, 0.012942764, 0.012829549, 0.012631821, 0.01375326, 0.01234338, 0.010337547, 0.012037379, 0.010632132, 0.010052118, 0.012604504, 0.013820094, 0.011365693, 0.013951207, 0.012449051, 0.011220857, 0.010716048, 0.010601808, 0.012459916, 0.011304415, 0.013445225, 0.018181555, 0.011242388, 0.011533766, 0.011343249, 0.010329094, 0.011507018, 0.012615787, 0.012101779, 0.01282969, 0.012041564, 0.010064087, 0.011980155, 0.010831865, 0.01105395, 0.012073398, 0.011680128, 0.012623472, 0.011937035, 0.010627882, 0.011207117, 0.010393269, 0.011438532, 0.011300483, 0.011708635, 0.014672668, 0.0114128655, 0.01171224, 0.012151672, 0.013190713, 0.0128212795, 0.012683026, 0.010952226, 0.012450043, 0.011007675, 0.010788133, 0.014422934, 0.010240536, 0.013275137, 0.011788281, 0.01138195, 0.011750765, 0.012222493, 0.010251294, 0.018280204, 0.013457627, 0.01138565, 0.011448486, 0.015071394, 0.011298125, 0.013346041, 0.010757046, 0.010465019, 0.012659303, 0.011087099, 0.010822046, 0.012424624, 0.01104137, 0.012817696, 0.011577044, 0.01666619, 0.011572633, 0.011746247, 0.011358113, 0.0120454095, 0.011721181, 0.013263345, 0.011431554, 0.010945867, 0.011272362, 0.011532249]\n",
      "2022-02-22 12:32:35,067 : INFO : merging changes from 1204 documents into a model of 3204 documents\n",
      "2022-02-22 12:32:35,074 : INFO : topic #1 (0.010): 0.249*\"-\" + 0.111*\"dimension\" + 0.079*\"rotat\" + 0.061*\"complement\" + 0.060*\"label\" + 0.056*\"short\" + 0.054*\"half\" + 0.039*\"wave\" + 0.030*\"long\" + 0.024*\"exampl\"\n",
      "2022-02-22 12:32:35,076 : INFO : topic #40 (0.010): 0.089*\"proof\" + 0.083*\",\" + 0.053*\"method\" + 0.049*\"convent\" + 0.044*\"correct\" + 0.033*\"program\" + 0.027*\"simplifi\" + 0.024*\"frequenc\" + 0.024*\"techniqu\" + 0.023*\"law\"\n",
      "2022-02-22 12:32:35,077 : INFO : topic #30 (0.018): 0.575*\"program\" + 0.058*\"languag\" + 0.055*\"automat\" + 0.034*\",\" + 0.026*\"written\" + 0.023*\"sourc\" + 0.021*\"discuss\" + 0.020*\"-\" + 0.014*\"effici\" + 0.013*\"form\"\n",
      "2022-02-22 12:32:35,078 : INFO : topic #73 (0.018): 0.482*\"(\" + 0.457*\")\" + 0.026*\"corrigendum\" + 0.016*\"employ\" + 0.005*\"manipul\" + 0.003*\"procedur\" + 0.003*\"symbol\" + 0.001*\"algorithm\" + 0.001*\"decomposit\" + 0.000*\"method\"\n",
      "2022-02-22 12:32:35,079 : INFO : topic #6 (0.026): 0.347*\"algorithm\" + 0.260*\"(\" + 0.248*\")\" + 0.033*\"integr\" + 0.018*\"[\" + 0.012*\"function\" + 0.011*\"polynomi\" + 0.010*\"e2\" + 0.009*\"linear\" + 0.008*\"squar\"\n",
      "2022-02-22 12:32:35,080 : INFO : topic diff=0.316291, rho=0.271143\n",
      "2022-02-22 12:32:35,090 : INFO : PROGRESS: pass 12, at document #2000/3204\n",
      "2022-02-22 12:32:35,997 : INFO : optimized alpha [0.010995082, 0.009939769, 0.013196809, 0.011891987, 0.011207407, 0.01172423, 0.027220747, 0.011461457, 0.012060495, 0.014306402, 0.013069858, 0.012838669, 0.012730188, 0.013843951, 0.012397105, 0.010327819, 0.012014638, 0.010658837, 0.010092785, 0.012616831, 0.013882486, 0.011393107, 0.014132823, 0.01256102, 0.01122906, 0.010710829, 0.010583337, 0.012472837, 0.011274404, 0.013469472, 0.018675687, 0.011250708, 0.011558733, 0.011462537, 0.010350177, 0.011557488, 0.012719307, 0.01216545, 0.012886425, 0.012115007, 0.010054253, 0.012142644, 0.010812466, 0.011088781, 0.012155836, 0.01174553, 0.012820405, 0.01207618, 0.010646688, 0.011193928, 0.010420786, 0.011518123, 0.011295014, 0.011847013, 0.014779576, 0.011463205, 0.011696172, 0.012314805, 0.013251637, 0.012852808, 0.012705561, 0.010984523, 0.012797929, 0.011005245, 0.010796796, 0.01452865, 0.010253411, 0.013320231, 0.011878042, 0.01139716, 0.011736764, 0.012384083, 0.010244212, 0.018684657, 0.013748677, 0.011369768, 0.011485302, 0.015149499, 0.011306928, 0.013279462, 0.010797642, 0.010450031, 0.012683862, 0.011192367, 0.010871992, 0.012517204, 0.011118066, 0.012859397, 0.011633597, 0.016839894, 0.011557679, 0.011722425, 0.011428586, 0.012075309, 0.011753628, 0.013360414, 0.011522993, 0.010953839, 0.011266751, 0.011553551]\n",
      "2022-02-22 12:32:36,003 : INFO : merging changes from 2000 documents into a model of 3204 documents\n",
      "2022-02-22 12:32:36,009 : INFO : topic #1 (0.010): 0.249*\"-\" + 0.117*\"dimension\" + 0.075*\"rotat\" + 0.054*\"half\" + 0.052*\"label\" + 0.052*\"complement\" + 0.051*\"short\" + 0.042*\"wave\" + 0.030*\"usa\" + 0.026*\"long\"\n",
      "2022-02-22 12:32:36,010 : INFO : topic #40 (0.010): 0.082*\",\" + 0.078*\"proof\" + 0.051*\"convent\" + 0.050*\"method\" + 0.040*\"correct\" + 0.032*\"program\" + 0.027*\"simplifi\" + 0.025*\"frequenc\" + 0.025*\"techniqu\" + 0.025*\"law\"\n",
      "2022-02-22 12:32:36,012 : INFO : topic #30 (0.019): 0.571*\"program\" + 0.059*\"automat\" + 0.057*\"languag\" + 0.033*\",\" + 0.027*\"written\" + 0.023*\"sourc\" + 0.022*\"discuss\" + 0.021*\"-\" + 0.014*\"effici\" + 0.014*\"comput\"\n",
      "2022-02-22 12:32:36,014 : INFO : topic #73 (0.019): 0.483*\"(\" + 0.461*\")\" + 0.023*\"corrigendum\" + 0.014*\"employ\" + 0.005*\"manipul\" + 0.003*\"procedur\" + 0.002*\"symbol\" + 0.001*\"algorithm\" + 0.001*\"decomposit\" + 0.000*\"method\"\n",
      "2022-02-22 12:32:36,015 : INFO : topic #6 (0.027): 0.335*\"algorithm\" + 0.266*\"(\" + 0.255*\")\" + 0.035*\"integr\" + 0.013*\"[\" + 0.012*\"function\" + 0.011*\"polynomi\" + 0.010*\"e2\" + 0.009*\"squar\" + 0.008*\"invers\"\n",
      "2022-02-22 12:32:36,017 : INFO : topic diff=0.275361, rho=0.261694\n",
      "2022-02-22 12:32:37,000 : INFO : -6.473 per-word bound, 88.8 perplexity estimate based on a held-out corpus of 1204 documents with 49783 words\n",
      "2022-02-22 12:32:37,000 : INFO : PROGRESS: pass 12, at document #3204/3204\n",
      "2022-02-22 12:32:37,749 : INFO : optimized alpha [0.011126045, 0.009973443, 0.013356203, 0.012108393, 0.0113469, 0.011816691, 0.027696472, 0.011553273, 0.012194386, 0.014530305, 0.01335118, 0.013043146, 0.012879188, 0.014068766, 0.012557772, 0.0104249045, 0.012205378, 0.010719841, 0.010158998, 0.012796134, 0.0141342385, 0.011530211, 0.014249649, 0.012706517, 0.011384423, 0.0108329, 0.010667776, 0.012676234, 0.011445942, 0.013707923, 0.019250188, 0.011364429, 0.011695298, 0.011523029, 0.010441604, 0.011657147, 0.012973383, 0.012290752, 0.013073023, 0.012267301, 0.010145508, 0.012195155, 0.010948093, 0.011197243, 0.012289874, 0.011840311, 0.012989288, 0.012263702, 0.01072345, 0.011298297, 0.010508045, 0.011629575, 0.011413699, 0.012038633, 0.015062293, 0.011585159, 0.011870729, 0.012346223, 0.013487151, 0.013053727, 0.012937022, 0.011099871, 0.012794742, 0.011131247, 0.010862283, 0.014728671, 0.010328345, 0.013557285, 0.012018565, 0.011539591, 0.01191049, 0.012461863, 0.010330847, 0.019383566, 0.013865774, 0.011512662, 0.011603418, 0.0154999, 0.011447014, 0.013571973, 0.010811148, 0.01053349, 0.012930022, 0.0113019, 0.0109748915, 0.01263409, 0.011127912, 0.013093653, 0.011780201, 0.017265316, 0.011707973, 0.011882973, 0.011539611, 0.012195366, 0.011949294, 0.013616032, 0.01158585, 0.011031423, 0.0114438515, 0.011727572]\n",
      "2022-02-22 12:32:37,755 : INFO : merging changes from 1204 documents into a model of 3204 documents\n",
      "2022-02-22 12:32:37,762 : INFO : topic #1 (0.010): 0.258*\"-\" + 0.110*\"dimension\" + 0.079*\"rotat\" + 0.063*\"label\" + 0.061*\"complement\" + 0.057*\"half\" + 0.056*\"short\" + 0.039*\"wave\" + 0.030*\"long\" + 0.024*\"exampl\"\n",
      "2022-02-22 12:32:37,763 : INFO : topic #40 (0.010): 0.094*\"proof\" + 0.084*\",\" + 0.053*\"method\" + 0.050*\"convent\" + 0.046*\"correct\" + 0.031*\"program\" + 0.027*\"simplifi\" + 0.025*\"techniqu\" + 0.025*\"frequenc\" + 0.023*\"law\"\n",
      "2022-02-22 12:32:37,763 : INFO : topic #30 (0.019): 0.589*\"program\" + 0.055*\"automat\" + 0.052*\"languag\" + 0.033*\",\" + 0.026*\"written\" + 0.023*\"sourc\" + 0.021*\"discuss\" + 0.019*\"-\" + 0.013*\"comput\" + 0.013*\"effici\"\n",
      "2022-02-22 12:32:37,764 : INFO : topic #73 (0.019): 0.484*\"(\" + 0.458*\")\" + 0.026*\"corrigendum\" + 0.016*\"employ\" + 0.004*\"manipul\" + 0.002*\"procedur\" + 0.002*\"symbol\" + 0.001*\"algorithm\" + 0.001*\"decomposit\" + 0.000*\"method\"\n",
      "2022-02-22 12:32:37,765 : INFO : topic #6 (0.028): 0.349*\"algorithm\" + 0.263*\"(\" + 0.251*\")\" + 0.033*\"integr\" + 0.014*\"[\" + 0.011*\"function\" + 0.010*\"e2\" + 0.009*\"polynomi\" + 0.009*\"linear\" + 0.008*\"squar\"\n",
      "2022-02-22 12:32:37,766 : INFO : topic diff=0.282718, rho=0.261694\n",
      "2022-02-22 12:32:37,774 : INFO : PROGRESS: pass 13, at document #2000/3204\n",
      "2022-02-22 12:32:38,693 : INFO : optimized alpha [0.011149064, 0.0099919215, 0.013537094, 0.012100956, 0.011344261, 0.011890983, 0.028659055, 0.0116264485, 0.012228869, 0.014680186, 0.013480497, 0.013049681, 0.012983475, 0.014160358, 0.0126145845, 0.010416819, 0.012182654, 0.010745968, 0.01020517, 0.012812538, 0.01419811, 0.011556732, 0.014432958, 0.012819136, 0.011396391, 0.0108360285, 0.010650052, 0.012691345, 0.011416301, 0.013725282, 0.019747375, 0.011381172, 0.011722327, 0.011668686, 0.010467466, 0.011715226, 0.013077633, 0.012352727, 0.013131227, 0.012338772, 0.010136033, 0.01236364, 0.010930396, 0.0112311, 0.012372026, 0.011905533, 0.013188261, 0.012423414, 0.01074187, 0.0112899495, 0.010544308, 0.011716162, 0.011409789, 0.012180704, 0.015167823, 0.0116400225, 0.011857682, 0.012509031, 0.013545776, 0.013082183, 0.012954831, 0.011134015, 0.013143825, 0.011128762, 0.010873693, 0.014825806, 0.010344897, 0.013607265, 0.012109274, 0.011562809, 0.011904004, 0.012625016, 0.010328013, 0.019782033, 0.01415341, 0.011504305, 0.011639183, 0.015564736, 0.011458197, 0.013509061, 0.010852329, 0.010520469, 0.012956317, 0.011417782, 0.011026248, 0.012724394, 0.011202694, 0.01313021, 0.01183808, 0.017436612, 0.011694624, 0.011859513, 0.011615556, 0.01221974, 0.011983445, 0.01370863, 0.011675151, 0.011039358, 0.011437777, 0.011747768]\n",
      "2022-02-22 12:32:38,699 : INFO : merging changes from 2000 documents into a model of 3204 documents\n",
      "2022-02-22 12:32:38,706 : INFO : topic #1 (0.010): 0.256*\"-\" + 0.117*\"dimension\" + 0.075*\"rotat\" + 0.057*\"half\" + 0.055*\"label\" + 0.053*\"complement\" + 0.052*\"short\" + 0.042*\"wave\" + 0.029*\"usa\" + 0.027*\"long\"\n",
      "2022-02-22 12:32:38,707 : INFO : topic #40 (0.010): 0.084*\",\" + 0.082*\"proof\" + 0.052*\"convent\" + 0.051*\"method\" + 0.042*\"correct\" + 0.030*\"program\" + 0.027*\"simplifi\" + 0.026*\"techniqu\" + 0.025*\"law\" + 0.025*\"frequenc\"\n",
      "2022-02-22 12:32:38,707 : INFO : topic #30 (0.020): 0.585*\"program\" + 0.060*\"automat\" + 0.052*\"languag\" + 0.032*\",\" + 0.028*\"written\" + 0.023*\"sourc\" + 0.022*\"discuss\" + 0.020*\"-\" + 0.015*\"comput\" + 0.013*\"effici\"\n",
      "2022-02-22 12:32:38,708 : INFO : topic #73 (0.020): 0.485*\"(\" + 0.462*\")\" + 0.022*\"corrigendum\" + 0.014*\"employ\" + 0.004*\"manipul\" + 0.002*\"procedur\" + 0.002*\"symbol\" + 0.001*\"algorithm\" + 0.001*\"decomposit\" + 0.000*\"method\"\n",
      "2022-02-22 12:32:38,709 : INFO : topic #6 (0.029): 0.340*\"algorithm\" + 0.269*\"(\" + 0.259*\")\" + 0.034*\"integr\" + 0.010*\"[\" + 0.010*\"function\" + 0.010*\"e2\" + 0.008*\"invers\" + 0.008*\"polynomi\" + 0.007*\"squar\"\n",
      "2022-02-22 12:32:38,710 : INFO : topic diff=0.247791, rho=0.253169\n",
      "2022-02-22 12:32:39,723 : INFO : -6.463 per-word bound, 88.2 perplexity estimate based on a held-out corpus of 1204 documents with 49783 words\n",
      "2022-02-22 12:32:39,724 : INFO : PROGRESS: pass 13, at document #3204/3204\n",
      "2022-02-22 12:32:40,463 : INFO : optimized alpha [0.011281571, 0.010024876, 0.013698305, 0.012317988, 0.011480447, 0.01198092, 0.029047811, 0.011715793, 0.012367248, 0.01490244, 0.013772346, 0.013249523, 0.013134254, 0.014383283, 0.012771461, 0.010511517, 0.012371595, 0.010807796, 0.010271811, 0.012990442, 0.0144357905, 0.011692981, 0.014539901, 0.012969161, 0.011560216, 0.010964336, 0.01073239, 0.0128929755, 0.011590996, 0.013949825, 0.02034916, 0.011496854, 0.011862981, 0.011736746, 0.01055655, 0.011819819, 0.013344287, 0.012472292, 0.013313652, 0.01248752, 0.010229278, 0.012413969, 0.011062771, 0.011336842, 0.012500105, 0.012002862, 0.013367512, 0.012610099, 0.010812112, 0.011386857, 0.010636115, 0.01183701, 0.011523077, 0.012394531, 0.015438535, 0.011756455, 0.012030749, 0.012544009, 0.01377942, 0.013278763, 0.013192469, 0.0112488335, 0.013126767, 0.011249255, 0.010939876, 0.015021139, 0.010420051, 0.013842248, 0.012243935, 0.01171644, 0.012076282, 0.012702966, 0.01041027, 0.020474778, 0.014272337, 0.011646166, 0.011756848, 0.015902534, 0.011604664, 0.013795685, 0.010868008, 0.0105996365, 0.013197771, 0.011519709, 0.011128914, 0.012838141, 0.011226537, 0.013359713, 0.011991125, 0.017867178, 0.011841225, 0.012016253, 0.011728658, 0.012328964, 0.01217759, 0.013962699, 0.011736153, 0.011121968, 0.011615837, 0.011927972]\n",
      "2022-02-22 12:32:40,469 : INFO : merging changes from 1204 documents into a model of 3204 documents\n",
      "2022-02-22 12:32:40,475 : INFO : topic #1 (0.010): 0.264*\"-\" + 0.110*\"dimension\" + 0.079*\"rotat\" + 0.065*\"label\" + 0.061*\"complement\" + 0.061*\"half\" + 0.057*\"short\" + 0.040*\"wave\" + 0.031*\"long\" + 0.022*\"exampl\"\n",
      "2022-02-22 12:32:40,476 : INFO : topic #40 (0.010): 0.098*\"proof\" + 0.086*\",\" + 0.054*\"method\" + 0.051*\"convent\" + 0.048*\"correct\" + 0.030*\"program\" + 0.028*\"simplifi\" + 0.026*\"techniqu\" + 0.024*\"frequenc\" + 0.024*\"law\"\n",
      "2022-02-22 12:32:40,477 : INFO : topic #30 (0.020): 0.602*\"program\" + 0.055*\"automat\" + 0.048*\"languag\" + 0.031*\",\" + 0.027*\"written\" + 0.023*\"sourc\" + 0.021*\"discuss\" + 0.018*\"-\" + 0.014*\"comput\" + 0.012*\"effici\"\n",
      "2022-02-22 12:32:40,478 : INFO : topic #73 (0.020): 0.486*\"(\" + 0.459*\")\" + 0.026*\"corrigendum\" + 0.016*\"employ\" + 0.004*\"manipul\" + 0.002*\"procedur\" + 0.001*\"symbol\" + 0.001*\"algorithm\" + 0.000*\"decomposit\" + 0.000*\"method\"\n",
      "2022-02-22 12:32:40,479 : INFO : topic #6 (0.029): 0.353*\"algorithm\" + 0.266*\"(\" + 0.256*\")\" + 0.033*\"integr\" + 0.010*\"e2\" + 0.010*\"[\" + 0.010*\"function\" + 0.009*\"linear\" + 0.007*\"polynomi\" + 0.007*\"invers\"\n",
      "2022-02-22 12:32:40,480 : INFO : topic diff=0.255232, rho=0.253169\n",
      "2022-02-22 12:32:40,488 : INFO : PROGRESS: pass 14, at document #2000/3204\n",
      "2022-02-22 12:32:41,338 : INFO : optimized alpha [0.011306622, 0.010044404, 0.013882995, 0.012308357, 0.011490438, 0.012053507, 0.03002891, 0.01179605, 0.0124006905, 0.01505104, 0.013899024, 0.013256891, 0.013237832, 0.014472366, 0.012828286, 0.010506294, 0.012353411, 0.010837476, 0.010319502, 0.013012441, 0.014499172, 0.011717209, 0.0147179505, 0.0130841695, 0.011571489, 0.010965898, 0.010716678, 0.012910303, 0.011568756, 0.013966018, 0.020849435, 0.011511658, 0.011889129, 0.011882783, 0.010577865, 0.011879607, 0.013457762, 0.012535757, 0.013375056, 0.012560244, 0.010225125, 0.012584005, 0.011043959, 0.011373962, 0.012578808, 0.012066542, 0.013577084, 0.012770658, 0.0108315265, 0.011375982, 0.010672848, 0.011920211, 0.011517724, 0.012535972, 0.015539101, 0.011809966, 0.012023491, 0.012700573, 0.013841096, 0.013304351, 0.013215377, 0.011284818, 0.013477326, 0.011246759, 0.010953903, 0.015112072, 0.010432403, 0.013892002, 0.012334158, 0.011741633, 0.012071012, 0.012864784, 0.010408953, 0.020881373, 0.014553379, 0.011639251, 0.011790198, 0.015966201, 0.011615266, 0.013732795, 0.010909766, 0.010588461, 0.013225762, 0.011639094, 0.011185931, 0.012926387, 0.011302407, 0.013396264, 0.012048868, 0.018034054, 0.01183231, 0.011991529, 0.01180433, 0.012355719, 0.012211946, 0.014054547, 0.011823544, 0.0111312065, 0.011615127, 0.01194871]\n",
      "2022-02-22 12:32:41,345 : INFO : merging changes from 2000 documents into a model of 3204 documents\n",
      "2022-02-22 12:32:41,352 : INFO : topic #1 (0.010): 0.262*\"-\" + 0.116*\"dimension\" + 0.076*\"rotat\" + 0.061*\"half\" + 0.057*\"label\" + 0.053*\"short\" + 0.053*\"complement\" + 0.043*\"wave\" + 0.029*\"usa\" + 0.027*\"long\"\n",
      "2022-02-22 12:32:41,352 : INFO : topic #40 (0.010): 0.086*\"proof\" + 0.085*\",\" + 0.053*\"convent\" + 0.052*\"method\" + 0.044*\"correct\" + 0.029*\"program\" + 0.028*\"simplifi\" + 0.027*\"techniqu\" + 0.025*\"law\" + 0.024*\"frequenc\"\n",
      "2022-02-22 12:32:41,354 : INFO : topic #30 (0.021): 0.598*\"program\" + 0.060*\"automat\" + 0.047*\"languag\" + 0.031*\",\" + 0.028*\"written\" + 0.023*\"sourc\" + 0.022*\"discuss\" + 0.019*\"-\" + 0.015*\"comput\" + 0.012*\"effici\"\n",
      "2022-02-22 12:32:41,356 : INFO : topic #73 (0.021): 0.487*\"(\" + 0.462*\")\" + 0.022*\"corrigendum\" + 0.014*\"employ\" + 0.004*\"manipul\" + 0.001*\"procedur\" + 0.001*\"symbol\" + 0.000*\"algorithm\" + 0.000*\"decomposit\" + 0.000*\"method\"\n",
      "2022-02-22 12:32:41,357 : INFO : topic #6 (0.030): 0.344*\"algorithm\" + 0.270*\"(\" + 0.262*\")\" + 0.034*\"integr\" + 0.010*\"e2\" + 0.008*\"invers\" + 0.008*\"function\" + 0.008*\"[\" + 0.007*\"linear\" + 0.007*\"ellipt\"\n",
      "2022-02-22 12:32:41,358 : INFO : topic diff=0.224824, rho=0.245426\n",
      "2022-02-22 12:32:42,264 : INFO : -6.456 per-word bound, 87.8 perplexity estimate based on a held-out corpus of 1204 documents with 49783 words\n",
      "2022-02-22 12:32:42,264 : INFO : PROGRESS: pass 14, at document #3204/3204\n",
      "2022-02-22 12:32:42,983 : INFO : optimized alpha [0.011438583, 0.010078802, 0.014057563, 0.012531409, 0.011628343, 0.012138709, 0.030389152, 0.011887922, 0.012533357, 0.015271764, 0.0141958, 0.013460735, 0.013385313, 0.014690884, 0.012981713, 0.010598799, 0.012533343, 0.01089339, 0.010392995, 0.013205448, 0.014732386, 0.011850438, 0.014815591, 0.013236302, 0.011739119, 0.0111026745, 0.010794897, 0.0131132575, 0.011739761, 0.014203464, 0.021445552, 0.011629332, 0.012019422, 0.011948684, 0.010662714, 0.011984265, 0.0137319015, 0.0126550365, 0.0135563575, 0.012705706, 0.010322478, 0.012642753, 0.0111778965, 0.011479576, 0.012706572, 0.012159006, 0.013758573, 0.012969711, 0.010897918, 0.0114730075, 0.010764784, 0.012040744, 0.0116284, 0.012756838, 0.015807858, 0.011921233, 0.012192966, 0.012736591, 0.014070335, 0.013488655, 0.013451369, 0.011403874, 0.013463296, 0.01136684, 0.011018549, 0.0153092835, 0.010505834, 0.014125473, 0.012475926, 0.011897025, 0.012242132, 0.012935055, 0.010493594, 0.021592109, 0.014671464, 0.011789868, 0.011905175, 0.016298288, 0.011760919, 0.014011107, 0.0109297, 0.010670139, 0.013465641, 0.0117505, 0.011286309, 0.013039902, 0.0113210175, 0.01362422, 0.012198697, 0.018473985, 0.011975641, 0.012144758, 0.011917201, 0.0124649005, 0.012402439, 0.0143102, 0.011882862, 0.011209653, 0.011796695, 0.012137621]\n",
      "2022-02-22 12:32:42,990 : INFO : merging changes from 1204 documents into a model of 3204 documents\n",
      "2022-02-22 12:32:42,995 : INFO : topic #1 (0.010): 0.270*\"-\" + 0.110*\"dimension\" + 0.079*\"rotat\" + 0.066*\"label\" + 0.065*\"half\" + 0.061*\"complement\" + 0.057*\"short\" + 0.040*\"wave\" + 0.031*\"long\" + 0.021*\"usa\"\n",
      "2022-02-22 12:32:42,996 : INFO : topic #40 (0.010): 0.102*\"proof\" + 0.088*\",\" + 0.054*\"method\" + 0.052*\"convent\" + 0.050*\"correct\" + 0.030*\"simplifi\" + 0.029*\"program\" + 0.027*\"techniqu\" + 0.024*\"law\" + 0.023*\"frequenc\"\n",
      "2022-02-22 12:32:42,997 : INFO : topic #30 (0.021): 0.613*\"program\" + 0.056*\"automat\" + 0.043*\"languag\" + 0.030*\",\" + 0.027*\"written\" + 0.023*\"sourc\" + 0.022*\"discuss\" + 0.018*\"-\" + 0.014*\"comput\" + 0.011*\"includ\"\n",
      "2022-02-22 12:32:42,998 : INFO : topic #73 (0.022): 0.488*\"(\" + 0.460*\")\" + 0.025*\"corrigendum\" + 0.015*\"employ\" + 0.004*\"manipul\" + 0.001*\"procedur\" + 0.001*\"symbol\" + 0.000*\"algorithm\" + 0.000*\"decomposit\" + 0.000*\"method\"\n",
      "2022-02-22 12:32:42,999 : INFO : topic #6 (0.030): 0.356*\"algorithm\" + 0.268*\"(\" + 0.259*\")\" + 0.033*\"integr\" + 0.010*\"e2\" + 0.009*\"linear\" + 0.007*\"[\" + 0.007*\"function\" + 0.007*\"invers\" + 0.007*\"fit\"\n",
      "2022-02-22 12:32:43,000 : INFO : topic diff=0.231906, rho=0.245426\n",
      "2022-02-22 12:32:43,010 : INFO : PROGRESS: pass 15, at document #2000/3204\n",
      "2022-02-22 12:32:43,847 : INFO : optimized alpha [0.011462905, 0.010101735, 0.014239654, 0.012519584, 0.011643458, 0.012216969, 0.03137144, 0.011967957, 0.012565943, 0.015413853, 0.014320006, 0.013465637, 0.013485161, 0.014777599, 0.013038619, 0.010593754, 0.012519538, 0.010927788, 0.010444694, 0.013227929, 0.014800707, 0.011878145, 0.014994006, 0.013349107, 0.011752539, 0.011107975, 0.0107784625, 0.013137353, 0.0117246825, 0.014228641, 0.02194827, 0.01164091, 0.012043332, 0.012095174, 0.010686126, 0.012047098, 0.0138529865, 0.012717058, 0.013609483, 0.012778263, 0.0103184255, 0.012814605, 0.011163358, 0.011517179, 0.012783703, 0.012218395, 0.013974202, 0.013132868, 0.010919611, 0.011463953, 0.010803325, 0.012125134, 0.011626018, 0.012903833, 0.015905604, 0.011974983, 0.012185448, 0.012893381, 0.014138537, 0.0135212485, 0.013479202, 0.011440309, 0.013809315, 0.011365593, 0.011035071, 0.015399643, 0.010518017, 0.0141784325, 0.012573227, 0.011935447, 0.012232096, 0.013101984, 0.010494936, 0.021986127, 0.01496021, 0.011787026, 0.011937646, 0.016360931, 0.01177525, 0.013949954, 0.010970742, 0.0106606595, 0.01349216, 0.011870721, 0.011342122, 0.013127815, 0.011394002, 0.013654297, 0.012256414, 0.018643228, 0.011966724, 0.012120388, 0.011987009, 0.012486562, 0.012441529, 0.014404827, 0.0119671235, 0.011218775, 0.011799617, 0.012163142]\n",
      "2022-02-22 12:32:43,852 : INFO : merging changes from 2000 documents into a model of 3204 documents\n",
      "2022-02-22 12:32:43,859 : INFO : topic #1 (0.010): 0.269*\"-\" + 0.116*\"dimension\" + 0.075*\"rotat\" + 0.067*\"half\" + 0.059*\"label\" + 0.053*\"short\" + 0.053*\"complement\" + 0.042*\"wave\" + 0.029*\"usa\" + 0.027*\"long\"\n",
      "2022-02-22 12:32:43,860 : INFO : topic #40 (0.010): 0.090*\"proof\" + 0.087*\",\" + 0.054*\"convent\" + 0.052*\"method\" + 0.045*\"correct\" + 0.030*\"simplifi\" + 0.029*\"techniqu\" + 0.028*\"program\" + 0.025*\"law\" + 0.024*\"frequenc\"\n",
      "2022-02-22 12:32:43,861 : INFO : topic #73 (0.022): 0.489*\"(\" + 0.463*\")\" + 0.022*\"corrigendum\" + 0.013*\"employ\" + 0.004*\"manipul\" + 0.001*\"procedur\" + 0.001*\"symbol\" + 0.000*\"algorithm\" + 0.000*\"decomposit\" + 0.000*\"method\"\n",
      "2022-02-22 12:32:43,862 : INFO : topic #30 (0.022): 0.609*\"program\" + 0.060*\"automat\" + 0.042*\"languag\" + 0.029*\",\" + 0.029*\"written\" + 0.023*\"sourc\" + 0.022*\"discuss\" + 0.018*\"-\" + 0.016*\"comput\" + 0.012*\"includ\"\n",
      "2022-02-22 12:32:43,863 : INFO : topic #6 (0.031): 0.347*\"algorithm\" + 0.273*\"(\" + 0.265*\")\" + 0.034*\"integr\" + 0.010*\"e2\" + 0.008*\"invers\" + 0.008*\"linear\" + 0.007*\"ellipt\" + 0.007*\"fit\" + 0.006*\"function\"\n",
      "2022-02-22 12:32:43,864 : INFO : topic diff=0.205816, rho=0.238352\n",
      "2022-02-22 12:32:44,855 : INFO : -6.449 per-word bound, 87.4 perplexity estimate based on a held-out corpus of 1204 documents with 49783 words\n",
      "2022-02-22 12:32:44,855 : INFO : PROGRESS: pass 15, at document #3204/3204\n",
      "2022-02-22 12:32:45,589 : INFO : optimized alpha [0.0115944315, 0.010137497, 0.014413519, 0.012741341, 0.011778566, 0.012302574, 0.031743586, 0.0120672695, 0.012700873, 0.01563366, 0.01462206, 0.013665743, 0.013632314, 0.015003704, 0.013191474, 0.010684327, 0.012698438, 0.010989041, 0.010516551, 0.013417398, 0.01504174, 0.012013356, 0.01508863, 0.01350088, 0.011912384, 0.011257436, 0.010857157, 0.013334101, 0.011897136, 0.014444782, 0.022585576, 0.011765494, 0.01217565, 0.012161596, 0.010769147, 0.01215677, 0.014140538, 0.012838742, 0.013790016, 0.012920761, 0.010415802, 0.012876454, 0.0112945605, 0.011622845, 0.012911398, 0.012308761, 0.014158188, 0.013336814, 0.010988918, 0.011558933, 0.010897674, 0.012247886, 0.011736582, 0.013127091, 0.016166558, 0.012081438, 0.012354123, 0.0129253445, 0.014372276, 0.013712873, 0.013713983, 0.011559187, 0.01378731, 0.011480871, 0.011100538, 0.015589824, 0.010587771, 0.014402267, 0.012722206, 0.012102073, 0.01240422, 0.01316487, 0.010584018, 0.022675535, 0.01508654, 0.011937028, 0.012050207, 0.01669085, 0.011920391, 0.014220588, 0.010992587, 0.010742707, 0.013728099, 0.011991513, 0.011449347, 0.013236117, 0.011412146, 0.01388383, 0.012408109, 0.019082107, 0.012104717, 0.012268102, 0.012109349, 0.012593397, 0.01262875, 0.014665404, 0.012024951, 0.011297745, 0.0119779045, 0.012346246]\n",
      "2022-02-22 12:32:45,595 : INFO : merging changes from 1204 documents into a model of 3204 documents\n",
      "2022-02-22 12:32:45,601 : INFO : topic #1 (0.010): 0.276*\"-\" + 0.109*\"dimension\" + 0.079*\"rotat\" + 0.069*\"half\" + 0.067*\"label\" + 0.060*\"complement\" + 0.057*\"short\" + 0.039*\"wave\" + 0.032*\"long\" + 0.021*\"usa\"\n",
      "2022-02-22 12:32:45,602 : INFO : topic #40 (0.010): 0.104*\"proof\" + 0.089*\",\" + 0.054*\"method\" + 0.052*\"convent\" + 0.051*\"correct\" + 0.031*\"simplifi\" + 0.028*\"techniqu\" + 0.027*\"program\" + 0.024*\"law\" + 0.023*\"allow\"\n",
      "2022-02-22 12:32:45,603 : INFO : topic #30 (0.023): 0.624*\"program\" + 0.056*\"automat\" + 0.039*\"languag\" + 0.029*\",\" + 0.027*\"written\" + 0.023*\"sourc\" + 0.022*\"discuss\" + 0.017*\"-\" + 0.015*\"comput\" + 0.012*\"includ\"\n",
      "2022-02-22 12:32:45,604 : INFO : topic #73 (0.023): 0.489*\"(\" + 0.460*\")\" + 0.025*\"corrigendum\" + 0.014*\"employ\" + 0.003*\"manipul\" + 0.001*\"procedur\" + 0.000*\"symbol\" + 0.000*\"algorithm\" + 0.000*\"decomposit\" + 0.000*\"method\"\n",
      "2022-02-22 12:32:45,605 : INFO : topic #6 (0.032): 0.358*\"algorithm\" + 0.271*\"(\" + 0.261*\")\" + 0.033*\"integr\" + 0.010*\"linear\" + 0.010*\"e2\" + 0.007*\"invers\" + 0.006*\"fit\" + 0.006*\"ellipt\" + 0.006*\"function\"\n",
      "2022-02-22 12:32:45,606 : INFO : topic diff=0.212132, rho=0.238352\n",
      "2022-02-22 12:32:45,615 : INFO : PROGRESS: pass 16, at document #2000/3204\n",
      "2022-02-22 12:32:46,610 : INFO : optimized alpha [0.011617987, 0.010161316, 0.0145931775, 0.012730389, 0.01179319, 0.012379364, 0.032705124, 0.012150019, 0.012734046, 0.015782202, 0.014752377, 0.013674721, 0.013731924, 0.015091754, 0.013248514, 0.010681927, 0.01268592, 0.01102283, 0.01057205, 0.013441926, 0.015110204, 0.012043052, 0.015264186, 0.013617911, 0.011922394, 0.011262306, 0.010842565, 0.013357129, 0.011884638, 0.014468753, 0.023098543, 0.0117794, 0.01219743, 0.012307295, 0.01079208, 0.012216954, 0.014269436, 0.012899395, 0.013841643, 0.012993222, 0.010414267, 0.013050286, 0.011277528, 0.01166228, 0.012999062, 0.012368422, 0.014381817, 0.013507259, 0.011010284, 0.011552884, 0.010936643, 0.012333519, 0.011736985, 0.013275314, 0.016263518, 0.012135407, 0.012349198, 0.013079491, 0.014438428, 0.013736285, 0.0137405405, 0.011600145, 0.014138657, 0.0114768725, 0.011116867, 0.015679918, 0.010601026, 0.0144517915, 0.012820703, 0.0121562155, 0.012396914, 0.013326218, 0.010585345, 0.02306128, 0.0153746065, 0.011938126, 0.012081932, 0.016748754, 0.011935556, 0.014157817, 0.011035561, 0.010734825, 0.013756362, 0.012109937, 0.01151071, 0.013323881, 0.011486397, 0.013918955, 0.012468743, 0.019242762, 0.012094394, 0.012242623, 0.012184737, 0.012614546, 0.012671, 0.01476124, 0.01210626, 0.011304133, 0.0119886855, 0.012369389]\n",
      "2022-02-22 12:32:46,617 : INFO : merging changes from 2000 documents into a model of 3204 documents\n",
      "2022-02-22 12:32:46,628 : INFO : topic #1 (0.010): 0.274*\"-\" + 0.115*\"dimension\" + 0.075*\"rotat\" + 0.072*\"half\" + 0.059*\"label\" + 0.053*\"short\" + 0.052*\"complement\" + 0.042*\"wave\" + 0.029*\"long\" + 0.029*\"usa\"\n",
      "2022-02-22 12:32:46,629 : INFO : topic #40 (0.010): 0.093*\"proof\" + 0.089*\",\" + 0.055*\"convent\" + 0.052*\"method\" + 0.047*\"correct\" + 0.031*\"simplifi\" + 0.030*\"techniqu\" + 0.027*\"program\" + 0.025*\"law\" + 0.023*\"frequenc\"\n",
      "2022-02-22 12:32:46,631 : INFO : topic #73 (0.023): 0.490*\"(\" + 0.463*\")\" + 0.022*\"corrigendum\" + 0.013*\"employ\" + 0.003*\"manipul\" + 0.001*\"procedur\" + 0.000*\"symbol\" + 0.000*\"algorithm\" + 0.000*\"decomposit\" + 0.000*\"method\"\n",
      "2022-02-22 12:32:46,631 : INFO : topic #30 (0.023): 0.619*\"program\" + 0.060*\"automat\" + 0.038*\"languag\" + 0.029*\"written\" + 0.028*\",\" + 0.023*\"sourc\" + 0.023*\"discuss\" + 0.017*\"-\" + 0.016*\"comput\" + 0.012*\"includ\"\n",
      "2022-02-22 12:32:46,633 : INFO : topic #6 (0.033): 0.349*\"algorithm\" + 0.275*\"(\" + 0.267*\")\" + 0.033*\"integr\" + 0.010*\"e2\" + 0.009*\"linear\" + 0.008*\"invers\" + 0.007*\"ellipt\" + 0.007*\"fit\" + 0.005*\"orthogon\"\n",
      "2022-02-22 12:32:46,634 : INFO : topic diff=0.189728, rho=0.231857\n",
      "2022-02-22 12:32:47,817 : INFO : -6.443 per-word bound, 87.0 perplexity estimate based on a held-out corpus of 1204 documents with 49783 words\n",
      "2022-02-22 12:32:47,818 : INFO : PROGRESS: pass 16, at document #3204/3204\n",
      "2022-02-22 12:32:48,610 : INFO : optimized alpha [0.011747118, 0.01019839, 0.014769344, 0.01295607, 0.011923504, 0.012460609, 0.03312908, 0.012249576, 0.012861428, 0.015991757, 0.015057225, 0.013879277, 0.013870686, 0.015314103, 0.013398444, 0.010774827, 0.012863988, 0.0110850185, 0.010646505, 0.013625517, 0.015356474, 0.012180303, 0.015356034, 0.013766836, 0.012079389, 0.011411552, 0.010917559, 0.0135556925, 0.012047175, 0.014692408, 0.023752581, 0.011899269, 0.0123201525, 0.012371822, 0.010875533, 0.012329233, 0.0145738255, 0.013018638, 0.014018929, 0.013132952, 0.010511734, 0.01311516, 0.011408413, 0.011765785, 0.013124249, 0.012456822, 0.014565631, 0.013713641, 0.011080285, 0.011641437, 0.011035565, 0.012451481, 0.011847704, 0.013516264, 0.016520046, 0.012241974, 0.012524388, 0.0131126, 0.014668534, 0.013921883, 0.013974276, 0.011718937, 0.014108695, 0.011587672, 0.011183177, 0.015872484, 0.010669334, 0.014677383, 0.012959533, 0.012322472, 0.012556947, 0.01339752, 0.01067267, 0.023713326, 0.015512122, 0.012089951, 0.012192224, 0.017073752, 0.012078001, 0.014429366, 0.011059156, 0.010815242, 0.013988707, 0.0122353975, 0.01162709, 0.013427212, 0.011510793, 0.014136672, 0.0126223825, 0.019680804, 0.012236641, 0.012389955, 0.012314131, 0.012721648, 0.01285762, 0.015021161, 0.012162706, 0.011383716, 0.012173297, 0.0125447055]\n",
      "2022-02-22 12:32:48,617 : INFO : merging changes from 1204 documents into a model of 3204 documents\n",
      "2022-02-22 12:32:48,623 : INFO : topic #1 (0.010): 0.280*\"-\" + 0.109*\"dimension\" + 0.078*\"rotat\" + 0.073*\"half\" + 0.068*\"label\" + 0.060*\"complement\" + 0.057*\"short\" + 0.039*\"wave\" + 0.033*\"long\" + 0.021*\"usa\"\n",
      "2022-02-22 12:32:48,624 : INFO : topic #40 (0.011): 0.107*\"proof\" + 0.091*\",\" + 0.054*\"method\" + 0.054*\"convent\" + 0.053*\"correct\" + 0.032*\"simplifi\" + 0.029*\"techniqu\" + 0.026*\"program\" + 0.025*\"allow\" + 0.024*\"law\"\n",
      "2022-02-22 12:32:48,625 : INFO : topic #73 (0.024): 0.491*\"(\" + 0.460*\")\" + 0.025*\"corrigendum\" + 0.014*\"employ\" + 0.003*\"manipul\" + 0.001*\"procedur\" + 0.000*\"symbol\" + 0.000*\"algorithm\" + 0.000*\"decomposit\" + 0.000*\"method\"\n",
      "2022-02-22 12:32:48,627 : INFO : topic #30 (0.024): 0.633*\"program\" + 0.056*\"automat\" + 0.036*\"languag\" + 0.028*\"written\" + 0.027*\",\" + 0.023*\"sourc\" + 0.022*\"discuss\" + 0.016*\"-\" + 0.015*\"comput\" + 0.012*\"includ\"\n",
      "2022-02-22 12:32:48,628 : INFO : topic #6 (0.033): 0.360*\"algorithm\" + 0.273*\"(\" + 0.264*\")\" + 0.032*\"integr\" + 0.011*\"linear\" + 0.010*\"e2\" + 0.007*\"invers\" + 0.006*\"fit\" + 0.006*\"ellipt\" + 0.004*\"function\"\n",
      "2022-02-22 12:32:48,629 : INFO : topic diff=0.195547, rho=0.231857\n",
      "2022-02-22 12:32:48,637 : INFO : PROGRESS: pass 17, at document #2000/3204\n",
      "2022-02-22 12:32:49,603 : INFO : optimized alpha [0.01177138, 0.010224206, 0.014950111, 0.012947431, 0.011943085, 0.012536006, 0.034129485, 0.012330873, 0.012895332, 0.016141372, 0.015183571, 0.013893812, 0.013965378, 0.015401825, 0.013454202, 0.010770045, 0.0128526455, 0.0111157065, 0.010699881, 0.013649078, 0.015419332, 0.012206455, 0.01552201, 0.013885119, 0.012094351, 0.011419913, 0.010903519, 0.013576195, 0.012035938, 0.0147152245, 0.024273429, 0.011911441, 0.012342783, 0.012518284, 0.010896783, 0.01238826, 0.014707356, 0.013078091, 0.014072415, 0.013203937, 0.010509027, 0.013291156, 0.011392854, 0.011809728, 0.01319693, 0.012519593, 0.014795831, 0.013888548, 0.011101305, 0.011636965, 0.011075044, 0.012535562, 0.011846703, 0.013665833, 0.016620044, 0.012293492, 0.012521944, 0.01326288, 0.014741215, 0.013955591, 0.0140073765, 0.011757677, 0.014454354, 0.011587681, 0.011198059, 0.0159623, 0.010681203, 0.014728583, 0.013057878, 0.012383754, 0.012555112, 0.013564319, 0.010672798, 0.024089793, 0.01580338, 0.012089336, 0.012226035, 0.017127173, 0.012095339, 0.014369835, 0.011102696, 0.01081009, 0.014017249, 0.012360387, 0.011684606, 0.013513316, 0.011590238, 0.01417198, 0.012683119, 0.019844033, 0.012226304, 0.012366243, 0.012389526, 0.012742318, 0.012897284, 0.015114787, 0.012246698, 0.011392675, 0.012183337, 0.012566964]\n",
      "2022-02-22 12:32:49,610 : INFO : merging changes from 2000 documents into a model of 3204 documents\n",
      "2022-02-22 12:32:49,617 : INFO : topic #1 (0.010): 0.278*\"-\" + 0.114*\"dimension\" + 0.076*\"half\" + 0.074*\"rotat\" + 0.061*\"label\" + 0.053*\"short\" + 0.052*\"complement\" + 0.042*\"wave\" + 0.030*\"long\" + 0.029*\"usa\"\n",
      "2022-02-22 12:32:49,618 : INFO : topic #40 (0.011): 0.095*\"proof\" + 0.090*\",\" + 0.056*\"convent\" + 0.052*\"method\" + 0.048*\"correct\" + 0.032*\"simplifi\" + 0.030*\"techniqu\" + 0.026*\"program\" + 0.025*\"law\" + 0.024*\"allow\"\n",
      "2022-02-22 12:32:49,621 : INFO : topic #73 (0.024): 0.492*\"(\" + 0.463*\")\" + 0.022*\"corrigendum\" + 0.012*\"employ\" + 0.003*\"manipul\" + 0.000*\"procedur\" + 0.000*\"symbol\" + 0.000*\"algorithm\" + 0.000*\"decomposit\" + 0.000*\"method\"\n",
      "2022-02-22 12:32:49,623 : INFO : topic #30 (0.024): 0.628*\"program\" + 0.061*\"automat\" + 0.034*\"languag\" + 0.029*\"written\" + 0.027*\",\" + 0.023*\"sourc\" + 0.023*\"discuss\" + 0.017*\"comput\" + 0.016*\"-\" + 0.012*\"includ\"\n",
      "2022-02-22 12:32:49,624 : INFO : topic #6 (0.034): 0.351*\"algorithm\" + 0.276*\"(\" + 0.268*\")\" + 0.034*\"integr\" + 0.010*\"e2\" + 0.009*\"linear\" + 0.008*\"invers\" + 0.007*\"ellipt\" + 0.007*\"fit\" + 0.005*\"orthogon\"\n",
      "2022-02-22 12:32:49,625 : INFO : topic diff=0.176270, rho=0.225865\n",
      "2022-02-22 12:32:50,619 : INFO : -6.438 per-word bound, 86.7 perplexity estimate based on a held-out corpus of 1204 documents with 49783 words\n",
      "2022-02-22 12:32:50,620 : INFO : PROGRESS: pass 17, at document #3204/3204\n",
      "2022-02-22 12:32:51,357 : INFO : optimized alpha [0.011900451, 0.010260656, 0.015137225, 0.013157557, 0.012077858, 0.0126179, 0.03458295, 0.012433191, 0.013025281, 0.016350266, 0.015485725, 0.014100381, 0.014106822, 0.015620651, 0.013601456, 0.010861246, 0.013025266, 0.011178767, 0.010776949, 0.013840095, 0.015650181, 0.012348224, 0.015614256, 0.014039265, 0.012253349, 0.011577635, 0.010977144, 0.013771475, 0.012204921, 0.014941138, 0.024939446, 0.012035889, 0.012465586, 0.012581093, 0.010974564, 0.012500807, 0.015015147, 0.013195075, 0.014252071, 0.013343596, 0.0106067145, 0.013359141, 0.011521419, 0.011913554, 0.013322345, 0.012606236, 0.014982372, 0.014097525, 0.011172067, 0.011732679, 0.011178453, 0.012656013, 0.011957599, 0.013917346, 0.016866313, 0.012398072, 0.012694232, 0.013294707, 0.014965206, 0.014135456, 0.014232569, 0.011874339, 0.014422225, 0.011698548, 0.011269512, 0.016157473, 0.01075624, 0.014950846, 0.013201627, 0.012556922, 0.012719528, 0.013631121, 0.010764528, 0.024734512, 0.01593446, 0.012243136, 0.012334285, 0.01744128, 0.012235334, 0.014639917, 0.01112593, 0.010891025, 0.014243581, 0.012495203, 0.011803407, 0.013611978, 0.011614014, 0.01438906, 0.012836632, 0.020277748, 0.012368221, 0.012510927, 0.012514297, 0.012849784, 0.013076148, 0.015383033, 0.012301855, 0.011470747, 0.012362827, 0.012746664]\n",
      "2022-02-22 12:32:51,364 : INFO : merging changes from 1204 documents into a model of 3204 documents\n",
      "2022-02-22 12:32:51,370 : INFO : topic #1 (0.010): 0.283*\"-\" + 0.108*\"dimension\" + 0.077*\"rotat\" + 0.076*\"half\" + 0.069*\"label\" + 0.059*\"complement\" + 0.057*\"short\" + 0.039*\"wave\" + 0.034*\"long\" + 0.021*\"usa\"\n",
      "2022-02-22 12:32:51,371 : INFO : topic #40 (0.011): 0.108*\"proof\" + 0.092*\",\" + 0.054*\"convent\" + 0.054*\"method\" + 0.054*\"correct\" + 0.033*\"simplifi\" + 0.030*\"techniqu\" + 0.027*\"allow\" + 0.025*\"program\" + 0.024*\"law\"\n",
      "2022-02-22 12:32:51,372 : INFO : topic #73 (0.025): 0.492*\"(\" + 0.460*\")\" + 0.025*\"corrigendum\" + 0.013*\"employ\" + 0.002*\"manipul\" + 0.000*\"procedur\" + 0.000*\"symbol\" + 0.000*\"algorithm\" + 0.000*\"decomposit\" + 0.000*\"method\"\n",
      "2022-02-22 12:32:51,374 : INFO : topic #30 (0.025): 0.641*\"program\" + 0.057*\"automat\" + 0.032*\"languag\" + 0.028*\"written\" + 0.026*\",\" + 0.022*\"sourc\" + 0.022*\"discuss\" + 0.016*\"comput\" + 0.015*\"-\" + 0.012*\"execut\"\n",
      "2022-02-22 12:32:51,374 : INFO : topic #6 (0.035): 0.363*\"algorithm\" + 0.274*\"(\" + 0.265*\")\" + 0.032*\"integr\" + 0.010*\"linear\" + 0.010*\"e2\" + 0.007*\"invers\" + 0.006*\"fit\" + 0.006*\"ellipt\" + 0.004*\"orthogon\"\n",
      "2022-02-22 12:32:51,375 : INFO : topic diff=0.181678, rho=0.225865\n",
      "2022-02-22 12:32:51,383 : INFO : PROGRESS: pass 18, at document #2000/3204\n",
      "2022-02-22 12:32:52,291 : INFO : optimized alpha [0.0119241085, 0.0102861645, 0.015310966, 0.013146833, 0.012098191, 0.012692021, 0.03556915, 0.01251869, 0.013058407, 0.016490266, 0.015610037, 0.014115612, 0.014196737, 0.015709868, 0.013656017, 0.010860148, 0.013010863, 0.011210234, 0.010835407, 0.013864323, 0.01572374, 0.012373619, 0.01578812, 0.014155736, 0.012264954, 0.011591841, 0.010963578, 0.013792458, 0.012198941, 0.014959401, 0.025468053, 0.012048982, 0.0124903945, 0.012728443, 0.010996691, 0.012561606, 0.015155055, 0.013253388, 0.014304238, 0.013417607, 0.010605199, 0.013533043, 0.011503434, 0.011959322, 0.013404115, 0.012667952, 0.0152193615, 0.0142801525, 0.01119277, 0.011732312, 0.011222148, 0.01273733, 0.011960574, 0.014073007, 0.016965901, 0.012447277, 0.0126913795, 0.013444302, 0.015041108, 0.014166569, 0.014269132, 0.0119109675, 0.0147703765, 0.011698526, 0.011289224, 0.01624551, 0.010765595, 0.015000537, 0.013298435, 0.012628008, 0.01271593, 0.013797292, 0.010765838, 0.025115052, 0.016223794, 0.01224223, 0.012366054, 0.017490417, 0.012256144, 0.014580337, 0.011168857, 0.010887305, 0.014273987, 0.012620058, 0.011870392, 0.013695126, 0.01169341, 0.014424621, 0.012898918, 0.020439314, 0.012360579, 0.012491685, 0.012589756, 0.012867184, 0.013117599, 0.015479791, 0.012385872, 0.011480896, 0.012373565, 0.012768063]\n",
      "2022-02-22 12:32:52,298 : INFO : merging changes from 2000 documents into a model of 3204 documents\n",
      "2022-02-22 12:32:52,306 : INFO : topic #1 (0.010): 0.281*\"-\" + 0.113*\"dimension\" + 0.079*\"half\" + 0.074*\"rotat\" + 0.062*\"label\" + 0.053*\"short\" + 0.052*\"complement\" + 0.041*\"wave\" + 0.031*\"long\" + 0.028*\"usa\"\n",
      "2022-02-22 12:32:52,307 : INFO : topic #40 (0.011): 0.097*\"proof\" + 0.091*\",\" + 0.057*\"convent\" + 0.052*\"method\" + 0.049*\"correct\" + 0.034*\"simplifi\" + 0.031*\"techniqu\" + 0.026*\"allow\" + 0.025*\"law\" + 0.025*\"program\"\n",
      "2022-02-22 12:32:52,307 : INFO : topic #73 (0.025): 0.493*\"(\" + 0.463*\")\" + 0.022*\"corrigendum\" + 0.012*\"employ\" + 0.002*\"manipul\" + 0.000*\"procedur\" + 0.000*\"symbol\" + 0.000*\"algorithm\" + 0.000*\"decomposit\" + 0.000*\"method\"\n",
      "2022-02-22 12:32:52,309 : INFO : topic #30 (0.025): 0.637*\"program\" + 0.061*\"automat\" + 0.031*\"languag\" + 0.029*\"written\" + 0.026*\",\" + 0.023*\"discuss\" + 0.023*\"sourc\" + 0.017*\"comput\" + 0.015*\"-\" + 0.012*\"includ\"\n",
      "2022-02-22 12:32:52,309 : INFO : topic #6 (0.036): 0.354*\"algorithm\" + 0.277*\"(\" + 0.269*\")\" + 0.033*\"integr\" + 0.010*\"e2\" + 0.009*\"linear\" + 0.008*\"invers\" + 0.007*\"ellipt\" + 0.006*\"fit\" + 0.005*\"orthogon\"\n",
      "2022-02-22 12:32:52,310 : INFO : topic diff=0.164742, rho=0.220316\n",
      "2022-02-22 12:32:53,399 : INFO : -6.433 per-word bound, 86.4 perplexity estimate based on a held-out corpus of 1204 documents with 49783 words\n",
      "2022-02-22 12:32:53,400 : INFO : PROGRESS: pass 18, at document #3204/3204\n",
      "2022-02-22 12:32:54,148 : INFO : optimized alpha [0.012051055, 0.010322026, 0.015497933, 0.013351556, 0.01223522, 0.012769959, 0.0359828, 0.01261915, 0.0131861335, 0.016689619, 0.0159125, 0.014321832, 0.01434882, 0.015931077, 0.013798264, 0.010953708, 0.013180712, 0.011270073, 0.0109210545, 0.014052447, 0.015957432, 0.01250849, 0.015880715, 0.014309986, 0.012419243, 0.011747312, 0.011037962, 0.013984887, 0.0123699475, 0.015182074, 0.026150713, 0.012171261, 0.012611024, 0.012787297, 0.011073099, 0.012674616, 0.01545817, 0.013368284, 0.01448378, 0.013557264, 0.010705054, 0.013601645, 0.011627718, 0.01206572, 0.013522434, 0.012755227, 0.015417197, 0.014491956, 0.011258178, 0.011828549, 0.011332153, 0.012853339, 0.01206957, 0.014330264, 0.01720833, 0.012554553, 0.0128657, 0.013474898, 0.015273031, 0.014346205, 0.014488648, 0.012027849, 0.014736025, 0.011809651, 0.0113594495, 0.016440375, 0.010843282, 0.015222328, 0.01343986, 0.012815125, 0.01287539, 0.013864809, 0.010853999, 0.025746683, 0.016351482, 0.012391335, 0.012474655, 0.017806575, 0.012393861, 0.014846541, 0.011189726, 0.010964847, 0.014499901, 0.012762009, 0.011993866, 0.013789315, 0.011718826, 0.014635933, 0.013052308, 0.0208688, 0.01250685, 0.012633956, 0.012714726, 0.012970377, 0.0133012235, 0.015765117, 0.012439809, 0.011557575, 0.012564053, 0.012952294]\n",
      "2022-02-22 12:32:54,153 : INFO : merging changes from 1204 documents into a model of 3204 documents\n",
      "2022-02-22 12:32:54,160 : INFO : topic #1 (0.010): 0.286*\"-\" + 0.108*\"dimension\" + 0.078*\"half\" + 0.077*\"rotat\" + 0.070*\"label\" + 0.059*\"complement\" + 0.056*\"short\" + 0.039*\"wave\" + 0.035*\"long\" + 0.021*\"usa\"\n",
      "2022-02-22 12:32:54,161 : INFO : topic #40 (0.011): 0.110*\"proof\" + 0.093*\",\" + 0.055*\"convent\" + 0.054*\"correct\" + 0.054*\"method\" + 0.034*\"simplifi\" + 0.031*\"techniqu\" + 0.029*\"allow\" + 0.024*\"program\" + 0.024*\"law\"\n",
      "2022-02-22 12:32:54,163 : INFO : topic #73 (0.026): 0.494*\"(\" + 0.461*\")\" + 0.025*\"corrigendum\" + 0.011*\"employ\" + 0.002*\"manipul\" + 0.000*\"procedur\" + 0.000*\"symbol\" + 0.000*\"algorithm\" + 0.000*\"decomposit\" + 0.000*\"method\"\n",
      "2022-02-22 12:32:54,164 : INFO : topic #30 (0.026): 0.649*\"program\" + 0.057*\"automat\" + 0.029*\"languag\" + 0.028*\"written\" + 0.025*\",\" + 0.023*\"sourc\" + 0.023*\"discuss\" + 0.016*\"comput\" + 0.014*\"-\" + 0.013*\"execut\"\n",
      "2022-02-22 12:32:54,165 : INFO : topic #6 (0.036): 0.363*\"algorithm\" + 0.275*\"(\" + 0.266*\")\" + 0.032*\"integr\" + 0.011*\"linear\" + 0.010*\"e2\" + 0.007*\"invers\" + 0.006*\"fit\" + 0.006*\"ellipt\" + 0.004*\"orthogon\"\n",
      "2022-02-22 12:32:54,167 : INFO : topic diff=0.169658, rho=0.220316\n",
      "2022-02-22 12:32:54,175 : INFO : PROGRESS: pass 19, at document #2000/3204\n",
      "2022-02-22 12:32:55,020 : INFO : optimized alpha [0.0120741315, 0.010346128, 0.015669717, 0.013338852, 0.01225235, 0.012842882, 0.03695848, 0.01270609, 0.01321854, 0.01682388, 0.016038176, 0.014334631, 0.014440342, 0.016018402, 0.013851707, 0.010952661, 0.013169009, 0.011302324, 0.0109809665, 0.014074135, 0.016041456, 0.012533215, 0.016054088, 0.014424781, 0.012433001, 0.0117622595, 0.011023646, 0.014005011, 0.012364954, 0.015204358, 0.026689505, 0.012185334, 0.012635288, 0.012931494, 0.011097276, 0.012737086, 0.015599683, 0.013426998, 0.014536306, 0.01362997, 0.01070697, 0.013779506, 0.0116073955, 0.012113268, 0.013598488, 0.012814524, 0.015654597, 0.01467466, 0.011281048, 0.011828208, 0.011377518, 0.012933365, 0.012072413, 0.014487703, 0.017305681, 0.012605624, 0.012865179, 0.013625345, 0.015345521, 0.0143811405, 0.014525542, 0.012068924, 0.015082115, 0.01180955, 0.0113789085, 0.016521277, 0.010853653, 0.015270527, 0.013537998, 0.0128946295, 0.01287154, 0.014033524, 0.010856492, 0.02612279, 0.01663903, 0.012390145, 0.012508513, 0.017853383, 0.012414096, 0.014786844, 0.011233277, 0.0109613305, 0.014527479, 0.012890937, 0.012066247, 0.013871114, 0.011802103, 0.014667132, 0.013114791, 0.021030968, 0.012499058, 0.012614869, 0.012793066, 0.012990311, 0.013338776, 0.015868358, 0.012521208, 0.011568865, 0.012573997, 0.01298268]\n",
      "2022-02-22 12:32:55,026 : INFO : merging changes from 2000 documents into a model of 3204 documents\n",
      "2022-02-22 12:32:55,033 : INFO : topic #1 (0.010): 0.283*\"-\" + 0.113*\"dimension\" + 0.081*\"half\" + 0.074*\"rotat\" + 0.063*\"label\" + 0.053*\"short\" + 0.052*\"complement\" + 0.041*\"wave\" + 0.032*\"long\" + 0.028*\"usa\"\n",
      "2022-02-22 12:32:55,033 : INFO : topic #40 (0.011): 0.099*\"proof\" + 0.093*\",\" + 0.058*\"convent\" + 0.052*\"method\" + 0.050*\"correct\" + 0.035*\"simplifi\" + 0.032*\"techniqu\" + 0.028*\"allow\" + 0.025*\"law\" + 0.024*\"program\"\n",
      "2022-02-22 12:32:55,037 : INFO : topic #73 (0.026): 0.495*\"(\" + 0.463*\")\" + 0.023*\"corrigendum\" + 0.010*\"employ\" + 0.002*\"manipul\" + 0.000*\"procedur\" + 0.000*\"symbol\" + 0.000*\"algorithm\" + 0.000*\"decomposit\" + 0.000*\"method\"\n",
      "2022-02-22 12:32:55,039 : INFO : topic #30 (0.027): 0.645*\"program\" + 0.061*\"automat\" + 0.030*\"written\" + 0.027*\"languag\" + 0.024*\",\" + 0.023*\"discuss\" + 0.023*\"sourc\" + 0.017*\"comput\" + 0.015*\"-\" + 0.013*\"includ\"\n",
      "2022-02-22 12:32:55,040 : INFO : topic #6 (0.037): 0.354*\"algorithm\" + 0.278*\"(\" + 0.270*\")\" + 0.033*\"integr\" + 0.010*\"e2\" + 0.009*\"linear\" + 0.008*\"invers\" + 0.007*\"ellipt\" + 0.006*\"fit\" + 0.005*\"orthogon\"\n",
      "2022-02-22 12:32:55,041 : INFO : topic diff=0.154635, rho=0.215156\n",
      "2022-02-22 12:32:56,022 : INFO : -6.427 per-word bound, 86.1 perplexity estimate based on a held-out corpus of 1204 documents with 49783 words\n",
      "2022-02-22 12:32:56,023 : INFO : PROGRESS: pass 19, at document #3204/3204\n",
      "2022-02-22 12:32:56,752 : INFO : optimized alpha [0.012199106, 0.01038145, 0.015859438, 0.0135383345, 0.0123895565, 0.012919327, 0.03735707, 0.012809374, 0.01335131, 0.017026061, 0.016338281, 0.0145328045, 0.014587436, 0.016236527, 0.013994096, 0.011042766, 0.013345779, 0.011359159, 0.011069197, 0.0142646395, 0.01627796, 0.012670477, 0.01615005, 0.014576696, 0.012585063, 0.011932644, 0.0110948365, 0.014192157, 0.012533604, 0.01542949, 0.027374918, 0.012310099, 0.012760765, 0.012991116, 0.011174439, 0.012843656, 0.015912123, 0.013542334, 0.014713163, 0.013767409, 0.010801422, 0.013853704, 0.011735944, 0.012226632, 0.013724689, 0.0128956335, 0.015863985, 0.01488167, 0.011343317, 0.011920781, 0.011496166, 0.013045111, 0.012179627, 0.014753696, 0.017553845, 0.0127088, 0.013034708, 0.013657203, 0.015569064, 0.014558103, 0.014749944, 0.012186157, 0.015042954, 0.011920959, 0.011447954, 0.01671015, 0.010928102, 0.015494739, 0.013682102, 0.013086625, 0.013035528, 0.014101721, 0.0109470785, 0.026745703, 0.016757326, 0.012541444, 0.012615339, 0.018171813, 0.012554201, 0.015062695, 0.011259923, 0.011037598, 0.014737399, 0.013037864, 0.012192227, 0.013965979, 0.011824759, 0.014875568, 0.013263634, 0.021463979, 0.012643041, 0.01275942, 0.012922864, 0.013084701, 0.013522452, 0.016148156, 0.012574044, 0.011644249, 0.012762199, 0.013169254]\n",
      "2022-02-22 12:32:56,759 : INFO : merging changes from 1204 documents into a model of 3204 documents\n",
      "2022-02-22 12:32:56,767 : INFO : topic #1 (0.010): 0.288*\"-\" + 0.107*\"dimension\" + 0.080*\"half\" + 0.077*\"rotat\" + 0.071*\"label\" + 0.059*\"complement\" + 0.056*\"short\" + 0.039*\"wave\" + 0.035*\"long\" + 0.021*\"usa\"\n",
      "2022-02-22 12:32:56,769 : INFO : topic #40 (0.011): 0.110*\"proof\" + 0.095*\",\" + 0.056*\"convent\" + 0.055*\"correct\" + 0.054*\"method\" + 0.036*\"simplifi\" + 0.031*\"techniqu\" + 0.030*\"allow\" + 0.024*\"law\" + 0.023*\"program\"\n",
      "2022-02-22 12:32:56,771 : INFO : topic #73 (0.027): 0.496*\"(\" + 0.461*\")\" + 0.025*\"corrigendum\" + 0.010*\"employ\" + 0.001*\"manipul\" + 0.000*\"procedur\" + 0.000*\"symbol\" + 0.000*\"algorithm\" + 0.000*\"decomposit\" + 0.000*\"method\"\n",
      "2022-02-22 12:32:56,772 : INFO : topic #30 (0.027): 0.657*\"program\" + 0.057*\"automat\" + 0.029*\"written\" + 0.025*\"languag\" + 0.024*\",\" + 0.023*\"discuss\" + 0.023*\"sourc\" + 0.017*\"comput\" + 0.014*\"-\" + 0.013*\"execut\"\n",
      "2022-02-22 12:32:56,774 : INFO : topic #6 (0.037): 0.364*\"algorithm\" + 0.276*\"(\" + 0.267*\")\" + 0.032*\"integr\" + 0.011*\"linear\" + 0.010*\"e2\" + 0.007*\"invers\" + 0.006*\"fit\" + 0.006*\"ellipt\" + 0.004*\"orthogon\"\n",
      "2022-02-22 12:32:56,775 : INFO : topic diff=0.159021, rho=0.215156\n"
     ]
    },
    {
     "data": {
      "text/plain": [
       "[(0, 0.0050747315),\n",
       " (1, 0.004318601),\n",
       " (2, 0.006597401),\n",
       " (3, 0.0056318403),\n",
       " (4, 0.0051539578),\n",
       " (5, 0.005374338),\n",
       " (6, 0.015540246),\n",
       " (7, 0.0053285984),\n",
       " (8, 0.0055540395),\n",
       " (9, 0.007082707),\n",
       " (10, 0.006796596),\n",
       " (11, 0.006045532),\n",
       " (12, 0.006068258),\n",
       " (13, 0.006754267),\n",
       " (14, 0.0058214334),\n",
       " (15, 0.0045937034),\n",
       " (16, 0.0055517387),\n",
       " (17, 0.0047253203),\n",
       " (18, 0.0046046986),\n",
       " (19, 0.005933977),\n",
       " (20, 0.0067715026),\n",
       " (21, 0.0052708182),\n",
       " (22, 0.0067182933),\n",
       " (23, 0.0060637905),\n",
       " (24, 0.005235287),\n",
       " (25, 0.0049638855),\n",
       " (26, 0.004615364),\n",
       " (27, 0.005903825),\n",
       " (28, 0.0052138804),\n",
       " (29, 0.006418546),\n",
       " (30, 0.01138775),\n",
       " (31, 0.0051209037),\n",
       " (32, 0.0053083776),\n",
       " (33, 0.005404202),\n",
       " (34, 0.0046484787),\n",
       " (35, 0.00534286),\n",
       " (36, 0.0066193175),\n",
       " (37, 0.0056335037),\n",
       " (38, 0.0061205593),\n",
       " (39, 0.0057271332),\n",
       " (40, 0.0044933064),\n",
       " (41, 0.42174733),\n",
       " (42, 0.00488206),\n",
       " (43, 0.005086182),\n",
       " (44, 0.005709362),\n",
       " (45, 0.005364482),\n",
       " (46, 0.006599292),\n",
       " (47, 0.006190657),\n",
       " (48, 0.00471873),\n",
       " (49, 0.0049589504),\n",
       " (50, 0.004782314),\n",
       " (51, 0.005426663),\n",
       " (52, 0.0050666286),\n",
       " (53, 0.006137421),\n",
       " (54, 0.007302261),\n",
       " (55, 0.00528676),\n",
       " (56, 0.0054223356),\n",
       " (57, 0.0056812884),\n",
       " (58, 0.0064766076),\n",
       " (59, 0.006056056),\n",
       " (60, 0.0061358605),\n",
       " (61, 0.005069345),\n",
       " (62, 0.00625775),\n",
       " (63, 0.0049590245),\n",
       " (64, 0.0047622584),\n",
       " (65, 0.00695129),\n",
       " (66, 0.004546004),\n",
       " (67, 0.006445689),\n",
       " (68, 0.005691646),\n",
       " (69, 0.005443933),\n",
       " (70, 0.005422677),\n",
       " (71, 0.005866205),\n",
       " (72, 0.0045538982),\n",
       " (73, 0.011126001),\n",
       " (74, 0.0069709155),\n",
       " (75, 0.0052171415),\n",
       " (76, 0.005247881),\n",
       " (77, 0.0075593307),\n",
       " (78, 0.0052224486),\n",
       " (79, 0.0062659625),\n",
       " (80, 0.004684039),\n",
       " (81, 0.004591554),\n",
       " (82, 0.006130642),\n",
       " (83, 0.0054236483),\n",
       " (84, 0.00507187),\n",
       " (85, 0.005809737),\n",
       " (86, 0.004919006),\n",
       " (87, 0.006188119),\n",
       " (88, 0.005517567),\n",
       " (89, 0.008928846),\n",
       " (90, 0.0052594054),\n",
       " (91, 0.005307818),\n",
       " (92, 0.0053758095),\n",
       " (93, 0.0054431325),\n",
       " (94, 0.005625233),\n",
       " (95, 0.006717505),\n",
       " (96, 0.005230703),\n",
       " (97, 0.0048439153),\n",
       " (98, 0.005308974),\n",
       " (99, 0.0054783057)]"
      ]
     },
     "execution_count": 85,
     "metadata": {},
     "output_type": "execute_result"
    }
   ],
   "source": [
    "##### Function check\n",
    "lda = LdaRetrievalModel(doc_repr_2)\n",
    "lda.train_model()\n",
    "\n",
    "# you can now get an LDA vector for a given query in the following way:\n",
    "lda.vectorize_query(\"report\")\n",
    "#####"
   ]
  },
  {
   "cell_type": "markdown",
   "metadata": {
    "cell_id": "00137-b82100c4-8bc6-4c0b-a37d-3f8eed7a4106",
    "deepnote_cell_height": 52.390625,
    "deepnote_cell_type": "markdown",
    "deletable": false,
    "editable": false,
    "nbgrader": {
     "cell_type": "markdown",
     "checksum": "32d83b6ea79ca3ddb789a7f8805a1b25",
     "grade": false,
     "grade_id": "cell-0e24b727d5908c0e",
     "locked": true,
     "points": 5,
     "schema_version": 3,
     "solution": false,
     "task": true
    }
   },
   "source": [
    "\\#### Please do not change this. This cell is used for grading."
   ]
  },
  {
   "cell_type": "markdown",
   "metadata": {
    "cell_id": "00138-9da9ac44-4973-497c-ae61-6ae44d57702c",
    "deepnote_cell_height": 98.1875,
    "deepnote_cell_type": "markdown",
    "deletable": false,
    "editable": false,
    "nbgrader": {
     "cell_type": "markdown",
     "checksum": "114a934f0b9ce696e6cf09d3b8da6a3d",
     "grade": false,
     "grade_id": "cell-b1bffcb970b18aeb",
     "locked": true,
     "schema_version": 3,
     "solution": false,
     "task": false
    }
   },
   "source": [
    "---\n",
    "Now we can use the `DenseRetrievalModel` class to obtain an LDA search function.\n",
    "You can test your LDA model in the following cell: Try finding queries which are lexically different to documents, but semantically similar - does LDA work well for these queries?!"
   ]
  },
  {
   "cell_type": "code",
   "execution_count": 86,
   "metadata": {
    "cell_id": "00139-74e10836-ea8e-40f0-99d4-f5422f0f88e6",
    "deepnote_cell_height": 303,
    "deepnote_cell_type": "code",
    "deepnote_to_be_reexecuted": false,
    "execution_millis": 4419,
    "execution_start": 1645186665847,
    "source_hash": "76222337"
   },
   "outputs": [
    {
     "data": {
      "application/vnd.jupyter.widget-view+json": {
       "model_id": "a85834c6f3a846dab7a32d77fc549de6",
       "version_major": 2,
       "version_minor": 0
      },
      "text/plain": [
       "Text(value='', description='Search Bar')"
      ]
     },
     "metadata": {},
     "output_type": "display_data"
    }
   ],
   "source": [
    "drm_lda = DenseRetrievalRanker(lda, jenson_shannon_sim)\n",
    "\n",
    "# test your LDA model\n",
    "search_fn = drm_lda.search\n",
    "\n",
    "text = widgets.Text(description=\"Search Bar\", width=200)\n",
    "display(text)\n",
    "\n",
    "\n",
    "text.on_submit(handle_submit_2)"
   ]
  },
  {
   "cell_type": "markdown",
   "metadata": {
    "cell_id": "00140-3dcd44fb-190f-4b30-a761-4fbdb85b38fe",
    "deepnote_cell_height": 405.375,
    "deepnote_cell_type": "markdown",
    "deletable": false,
    "editable": false,
    "nbgrader": {
     "cell_type": "markdown",
     "checksum": "9d7f15863b655119b45f4d89354e5661",
     "grade": false,
     "grade_id": "cell-190cd0854b2791cc",
     "locked": true,
     "schema_version": 3,
     "solution": false,
     "task": false
    }
   },
   "source": [
    "## Section 8: Word2Vec/Doc2Vec (20 points) <a class=\"anchor\" id=\"2vec\"></a>\n",
    "\n",
    "[Back to Part 2](#part2)\n",
    "\n",
    "We will implement two other methods here, the Word2Vec model and the Doc2Vec model, also using `gensim`. Word2Vec creates representations of words, not documents, so the word level vectors need to be aggregated to obtain a representation for the document. Here, we will simply take the mean of the vectors.\n",
    "\n",
    "\n",
    "A drawback of these models is that they need a lot of training data. Our dataset is tiny, so in addition to using a model trained on the data, we will also use a pre-trained model for Word2Vec (this will be automatically downloaded).\n",
    "\n",
    "*Note*:\n",
    "1. The code in vectorize_documents / vectorize_query should return gensim-like vectors i.e `[(dim, val), .. (dim, val)]`.\n",
    "2. For Word2Vec: You should also handle the following two cases: (a) A word in the query is not present in the vocabulary of the model and (b) none of the words in the query are present in the model - you can return 0 scores for all documents in this case. For either of these, you can check if a `word` is present in the vocab by using `word in self.model`\n"
   ]
  },
  {
   "cell_type": "code",
   "execution_count": 87,
   "metadata": {
    "cell_id": "00141-4813dd67-6ab9-4a66-909c-c9ffb52e292c",
    "deepnote_cell_height": 1767.796875,
    "deepnote_cell_type": "code",
    "deepnote_output_heights": [
     null,
     611
    ],
    "deepnote_to_be_reexecuted": false,
    "deletable": false,
    "execution_millis": 5958,
    "execution_start": 1645186670275,
    "is_output_hidden": true,
    "nbgrader": {
     "cell_type": "code",
     "checksum": "83ab733608ed14c29c09b36b4e1b6daa",
     "grade": false,
     "grade_id": "cell-2b73759f9baf688f",
     "locked": false,
     "schema_version": 3,
     "solution": true,
     "task": false
    },
    "source_hash": "69fb62df",
    "tags": []
   },
   "outputs": [
    {
     "name": "stderr",
     "output_type": "stream",
     "text": [
      "2022-02-22 12:32:59,265 : INFO : adding document #0 to Dictionary(0 unique tokens: [])\n",
      "2022-02-22 12:32:59,434 : INFO : built Dictionary(5937 unique tokens: ['-', 'algebra', 'intern', 'languag', 'preliminari']...) from 3204 documents (total 115969 corpus positions)\n",
      "2022-02-22 12:32:59,441 : INFO : discarding 4740 tokens: [('repeat', 8), ('glossari', 7), ('inspect', 8), ('uncol', 2), ('rung', 9), ('secant', 2), ('.', 1603), ('acceler', 6), ('diverg', 3), ('induc', 9)]...\n",
      "2022-02-22 12:32:59,441 : INFO : keeping 1197 tokens which were in no less than 10 and no more than 1602 (=50.0%) documents\n",
      "2022-02-22 12:32:59,444 : INFO : resulting dictionary: Dictionary(1197 unique tokens: ['-', 'algebra', 'intern', 'languag', 'preliminari']...)\n",
      "2022-02-22 12:32:59,551 : INFO : collecting all words and their counts\n",
      "2022-02-22 12:32:59,556 : INFO : PROGRESS: at sentence #0, processed 0 words, keeping 0 word types\n",
      "2022-02-22 12:32:59,580 : INFO : collected 5937 word types from a corpus of 115969 raw words and 3204 sentences\n",
      "2022-02-22 12:32:59,581 : INFO : Loading a fresh vocabulary\n",
      "2022-02-22 12:32:59,599 : INFO : effective_min_count=1 retains 5937 unique words (100% of original 5937, drops 0)\n",
      "2022-02-22 12:32:59,603 : INFO : effective_min_count=1 leaves 115969 word corpus (100% of original 115969, drops 0)\n",
      "2022-02-22 12:32:59,628 : INFO : deleting the raw counts dictionary of 5937 items\n",
      "2022-02-22 12:32:59,630 : INFO : sample=0.001 downsamples 40 most-common words\n",
      "2022-02-22 12:32:59,631 : INFO : downsampling leaves estimated 92346 word corpus (79.6% of prior 115969)\n",
      "2022-02-22 12:32:59,647 : INFO : estimated required memory for 5937 words and 100 dimensions: 7718100 bytes\n",
      "2022-02-22 12:32:59,647 : INFO : resetting layer weights\n",
      "2022-02-22 12:33:00,853 : INFO : training model with 3 workers on 5937 vocabulary and 100 features, using sg=0 hs=0 sample=0.001 negative=5 window=5\n",
      "2022-02-22 12:33:00,962 : INFO : worker thread finished; awaiting finish of 2 more threads\n",
      "2022-02-22 12:33:00,964 : INFO : worker thread finished; awaiting finish of 1 more threads\n",
      "2022-02-22 12:33:00,965 : INFO : worker thread finished; awaiting finish of 0 more threads\n",
      "2022-02-22 12:33:00,966 : INFO : EPOCH - 1 : training on 115969 raw words (92241 effective words) took 0.1s, 857646 effective words/s\n",
      "2022-02-22 12:33:01,083 : INFO : worker thread finished; awaiting finish of 2 more threads\n",
      "2022-02-22 12:33:01,086 : INFO : worker thread finished; awaiting finish of 1 more threads\n",
      "2022-02-22 12:33:01,091 : INFO : worker thread finished; awaiting finish of 0 more threads\n",
      "2022-02-22 12:33:01,091 : INFO : EPOCH - 2 : training on 115969 raw words (92368 effective words) took 0.1s, 825157 effective words/s\n",
      "2022-02-22 12:33:01,174 : INFO : worker thread finished; awaiting finish of 2 more threads\n",
      "2022-02-22 12:33:01,181 : INFO : worker thread finished; awaiting finish of 1 more threads\n",
      "2022-02-22 12:33:01,184 : INFO : worker thread finished; awaiting finish of 0 more threads\n",
      "2022-02-22 12:33:01,184 : INFO : EPOCH - 3 : training on 115969 raw words (92475 effective words) took 0.1s, 1064642 effective words/s\n",
      "2022-02-22 12:33:01,257 : INFO : worker thread finished; awaiting finish of 2 more threads\n",
      "2022-02-22 12:33:01,265 : INFO : worker thread finished; awaiting finish of 1 more threads\n",
      "2022-02-22 12:33:01,267 : INFO : worker thread finished; awaiting finish of 0 more threads\n",
      "2022-02-22 12:33:01,268 : INFO : EPOCH - 4 : training on 115969 raw words (92227 effective words) took 0.1s, 1225735 effective words/s\n",
      "2022-02-22 12:33:01,345 : INFO : worker thread finished; awaiting finish of 2 more threads\n",
      "2022-02-22 12:33:01,353 : INFO : worker thread finished; awaiting finish of 1 more threads\n",
      "2022-02-22 12:33:01,354 : INFO : worker thread finished; awaiting finish of 0 more threads\n",
      "2022-02-22 12:33:01,354 : INFO : EPOCH - 5 : training on 115969 raw words (92431 effective words) took 0.1s, 1213193 effective words/s\n",
      "2022-02-22 12:33:01,355 : INFO : training on a 579845 raw words (461742 effective words) took 0.5s, 920038 effective words/s\n"
     ]
    },
    {
     "data": {
      "text/plain": [
       "[(0, -0.11021657288074493),\n",
       " (1, 0.026966191828250885),\n",
       " (2, -0.6802055835723877),\n",
       " (3, 0.5754237771034241),\n",
       " (4, -0.32289937138557434),\n",
       " (5, 0.10935883969068527),\n",
       " (6, 0.021497836336493492),\n",
       " (7, -0.3839980959892273),\n",
       " (8, 0.17030277848243713),\n",
       " (9, 0.5549067854881287),\n",
       " (10, -1.0882022380828857),\n",
       " (11, -0.04344264045357704),\n",
       " (12, -0.11787860840559006),\n",
       " (13, 0.7100328207015991),\n",
       " (14, 0.2460591346025467),\n",
       " (15, 0.5026874542236328),\n",
       " (16, -0.165673166513443),\n",
       " (17, -0.49092963337898254),\n",
       " (18, 0.30836454033851624),\n",
       " (19, -0.5211198925971985),\n",
       " (20, 0.22350963950157166),\n",
       " (21, -0.4393680989742279),\n",
       " (22, 0.5499747395515442),\n",
       " (23, 0.39373859763145447),\n",
       " (24, -0.2881433367729187),\n",
       " (25, 0.986541748046875),\n",
       " (26, -0.6219393610954285),\n",
       " (27, -0.33899247646331787),\n",
       " (28, -0.12172621488571167),\n",
       " (29, -0.4978460371494293),\n",
       " (30, 0.7548407316207886),\n",
       " (31, 0.35666772723197937),\n",
       " (32, 0.892312228679657),\n",
       " (33, 0.16689926385879517),\n",
       " (34, -0.2920832633972168),\n",
       " (35, -0.18793316185474396),\n",
       " (36, -0.033506665378808975),\n",
       " (37, 0.8161453008651733),\n",
       " (38, -0.17312388122081757),\n",
       " (39, 0.3362428545951843),\n",
       " (40, 0.4139939248561859),\n",
       " (41, 0.4576898515224457),\n",
       " (42, -0.25856900215148926),\n",
       " (43, 0.06395158171653748),\n",
       " (44, -0.37381038069725037),\n",
       " (45, -0.0490153506398201),\n",
       " (46, 0.06537603586912155),\n",
       " (47, 0.07097875326871872),\n",
       " (48, -0.014764535240828991),\n",
       " (49, -0.41958126425743103),\n",
       " (50, 0.4117720425128937),\n",
       " (51, 0.09563785046339035),\n",
       " (52, -0.13341954350471497),\n",
       " (53, 0.12305636703968048),\n",
       " (54, -0.5752239227294922),\n",
       " (55, -0.6024175882339478),\n",
       " (56, -0.03030909225344658),\n",
       " (57, -0.3503152132034302),\n",
       " (58, 0.8737125396728516),\n",
       " (59, 0.32109230756759644),\n",
       " (60, -0.28515657782554626),\n",
       " (61, -0.7238015532493591),\n",
       " (62, -0.3042110502719879),\n",
       " (63, 0.09924887120723724),\n",
       " (64, -0.27875587344169617),\n",
       " (65, -0.3143286108970642),\n",
       " (66, -0.48114368319511414),\n",
       " (67, 0.5633222460746765),\n",
       " (68, -0.31740444898605347),\n",
       " (69, -0.13717134296894073),\n",
       " (70, 0.47004175186157227),\n",
       " (71, -0.5153260827064514),\n",
       " (72, -0.23542192578315735),\n",
       " (73, 0.13645637035369873),\n",
       " (74, 0.31294047832489014),\n",
       " (75, 0.2868802845478058),\n",
       " (76, -0.23905250430107117),\n",
       " (77, 0.024002620950341225),\n",
       " (78, 0.7934824228286743),\n",
       " (79, -0.15109646320343018),\n",
       " (80, 0.42220765352249146),\n",
       " (81, 0.09841889888048172),\n",
       " (82, 0.2818194329738617),\n",
       " (83, 0.322215735912323),\n",
       " (84, 0.1395653635263443),\n",
       " (85, -0.32914531230926514),\n",
       " (86, -0.31300413608551025),\n",
       " (87, -0.2474605143070221),\n",
       " (88, 0.016513418406248093),\n",
       " (89, -0.01976330392062664),\n",
       " (90, -0.17367789149284363),\n",
       " (91, 0.9682675004005432),\n",
       " (92, 0.41991594433784485),\n",
       " (93, -1.066712498664856),\n",
       " (94, -0.0768347904086113),\n",
       " (95, -0.3491191267967224),\n",
       " (96, -0.14630118012428284),\n",
       " (97, -0.6598126292228699),\n",
       " (98, 1.1288020610809326),\n",
       " (99, -0.6275432705879211)]"
      ]
     },
     "execution_count": 87,
     "metadata": {},
     "output_type": "execute_result"
    }
   ],
   "source": [
    "# TODO: Implement this! (10 points)\n",
    "class W2VRetrievalModel(VectorSpaceRetrievalModel):\n",
    "    def __init__(self, doc_repr):\n",
    "        super().__init__(doc_repr)\n",
    "\n",
    "        # the dimensionality of the vectors\n",
    "        self.size = 100\n",
    "        self.min_count = 1\n",
    "\n",
    "    def train_model(self):\n",
    "        \"\"\"\n",
    "        Trains the W2V model\n",
    "        \"\"\"\n",
    "        # YOUR CODE HERE\n",
    "        self.model = Word2Vec(\n",
    "            sentences=self.documents, size=self.size, min_count=self.min_count\n",
    "        )\n",
    "\n",
    "    def vectorize_documents(self):\n",
    "        \"\"\"\n",
    "        Returns a doc_id -> vector dictionary\n",
    "        \"\"\"\n",
    "        # YOUR CODE HERE\n",
    "        vectors = {}\n",
    "        for (doc_id, doc) in self.doc_repr:\n",
    "            # initializations for this document\n",
    "            doc_vector = np.zeros(self.size)\n",
    "            n_words = 0\n",
    "            for word in doc:\n",
    "                n_words += 1\n",
    "                # check that current word in doc in our model (needed for pretrained)\n",
    "                try:\n",
    "                    doc_vector += self.model.wv[word]\n",
    "                except KeyError:\n",
    "                    # don't count this word\n",
    "                    n_words -= 1\n",
    "                    continue\n",
    "            if n_words > 0:\n",
    "                # aggregate by taking the mean over the found words\n",
    "                doc_vector = doc_vector / n_words\n",
    "            # convert to weird gensim format that is desired\n",
    "            doc_vector = [(i, el) for i, el in enumerate(doc_vector)]\n",
    "            # and save to our dictionary\n",
    "            vectors[doc_id] = doc_vector\n",
    "\n",
    "        return vectors\n",
    "\n",
    "    def vectorize_query(self, query):\n",
    "        \"\"\"\n",
    "        Vectorizes the query using the W2V model\n",
    "        \"\"\"\n",
    "        # YOUR CODE HERE\n",
    "        query = process_text(query, **config_2)\n",
    "        # initialize query vector\n",
    "        query_vec = np.zeros(self.size)\n",
    "        # handle valid queries (i.e. processing hasn't made it empty)\n",
    "        if len(query) > 0:\n",
    "            n_words = 0\n",
    "            for word in query:\n",
    "                n_words += 1\n",
    "                # check that current word in query in our vocab\n",
    "                try:\n",
    "                    query_vec += self.model.wv[word]\n",
    "                except KeyError:\n",
    "                    # don't count this word\n",
    "                    n_words -= 1\n",
    "                    continue\n",
    "                if n_words > 0:\n",
    "                    # aggregate by taking the mean over the found words\n",
    "                    query_vec = query_vec / n_words\n",
    "        # convert to weird gensim format that is desired\n",
    "        query_vec = [(i, el) for i, el in enumerate(query_vec)]\n",
    "        return query_vec\n",
    "\n",
    "\n",
    "class W2VPretrainedRetrievalModel(W2VRetrievalModel):\n",
    "    def __init__(self, doc_repr):\n",
    "        super().__init__(doc_repr)\n",
    "        self.model_name = \"word2vec-google-news-300\"\n",
    "        self.size = 300\n",
    "\n",
    "    def train_model(self):\n",
    "        \"\"\"\n",
    "        Loads the pretrained model\n",
    "        \"\"\"\n",
    "        self.model = g_downloader.load(self.model_name)\n",
    "\n",
    "\n",
    "w2v = W2VRetrievalModel(doc_repr_2)\n",
    "w2v.train_model()\n",
    "\n",
    "# you can now get a W2V vector for a given query in the following way:\n",
    "w2v.vectorize_query(\"report\")"
   ]
  },
  {
   "cell_type": "code",
   "execution_count": 88,
   "metadata": {
    "cell_id": "00142-4fd5a03c-b76f-4fd4-b70f-2670bd4416e5",
    "deepnote_cell_height": 117,
    "deepnote_cell_type": "code",
    "deepnote_to_be_reexecuted": false,
    "deletable": false,
    "editable": false,
    "execution_millis": 11300785,
    "execution_start": 1645186676074,
    "lines_to_next_cell": 2,
    "nbgrader": {
     "cell_type": "code",
     "checksum": "f92b5c5a8c6c4b80652b94223209ab0b",
     "grade": true,
     "grade_id": "cell-b31c0f8d214b8bdf",
     "locked": true,
     "points": 0,
     "schema_version": 3,
     "solution": false,
     "task": false
    },
    "source_hash": "3f3d7257"
   },
   "outputs": [],
   "source": [
    "assert len(w2v.vectorize_query(\"report\")) == 100\n",
    "assert len(w2v.vectorize_query(\"this is a sentence that is not mellifluous\")) == 100"
   ]
  },
  {
   "cell_type": "markdown",
   "metadata": {
    "cell_id": "00143-dca6cd62-6d5c-4c14-8cc4-7299f1f8390e",
    "deepnote_cell_height": 52.390625,
    "deepnote_cell_type": "markdown",
    "deletable": false,
    "editable": false,
    "nbgrader": {
     "cell_type": "markdown",
     "checksum": "8dfaabebcb06f308a7ca61fdc5d369e7",
     "grade": false,
     "grade_id": "cell-c2614fa067386384",
     "locked": true,
     "points": 8,
     "schema_version": 3,
     "solution": false,
     "task": true
    }
   },
   "source": [
    "\\#### Please do not change this. This cell is used for grading."
   ]
  },
  {
   "cell_type": "code",
   "execution_count": 89,
   "metadata": {
    "cell_id": "00144-7801f559-0e0a-405d-84bf-a02dd1269f5a",
    "deepnote_cell_height": 304.9375,
    "deepnote_cell_type": "code",
    "deepnote_output_heights": [
     null,
     40.375
    ],
    "deepnote_to_be_reexecuted": false,
    "execution_millis": 611,
    "execution_start": 1645186676087,
    "source_hash": "8ab4bf3a",
    "tags": []
   },
   "outputs": [
    {
     "name": "stderr",
     "output_type": "stream",
     "text": [
      "2022-02-22 12:33:01,380 : INFO : adding document #0 to Dictionary(0 unique tokens: [])\n",
      "2022-02-22 12:33:01,540 : INFO : built Dictionary(5937 unique tokens: ['-', 'algebra', 'intern', 'languag', 'preliminari']...) from 3204 documents (total 115969 corpus positions)\n",
      "2022-02-22 12:33:01,551 : INFO : discarding 4740 tokens: [('repeat', 8), ('glossari', 7), ('inspect', 8), ('uncol', 2), ('rung', 9), ('secant', 2), ('.', 1603), ('acceler', 6), ('diverg', 3), ('induc', 9)]...\n",
      "2022-02-22 12:33:01,558 : INFO : keeping 1197 tokens which were in no less than 10 and no more than 1602 (=50.0%) documents\n",
      "2022-02-22 12:33:01,563 : INFO : resulting dictionary: Dictionary(1197 unique tokens: ['-', 'algebra', 'intern', 'languag', 'preliminari']...)\n",
      "2022-02-22 12:33:01,853 : INFO : loading projection weights from /Users/thesofakillers/gensim-data/word2vec-google-news-300/word2vec-google-news-300.gz\n",
      "2022-02-22 12:33:57,233 : INFO : loaded (3000000, 300) matrix from /Users/thesofakillers/gensim-data/word2vec-google-news-300/word2vec-google-news-300.gz\n",
      "/Users/thesofakillers/miniconda3/envs/ir1/lib/python3.6/site-packages/ipykernel_launcher.py:63: DeprecationWarning: Call to deprecated `wv` (Attribute will be removed in 4.0.0, use self instead).\n"
     ]
    },
    {
     "data": {
      "text/plain": [
       "[(0, -0.142578125),\n",
       " (1, -0.1640625),\n",
       " (2, -0.09033203125),\n",
       " (3, -0.1123046875),\n",
       " (4, 0.10009765625),\n",
       " (5, -0.041259765625),\n",
       " (6, 0.048828125),\n",
       " (7, -0.13671875),\n",
       " (8, 0.1962890625),\n",
       " (9, -0.134765625),\n",
       " (10, -0.017578125),\n",
       " (11, 0.0322265625),\n",
       " (12, 0.09521484375),\n",
       " (13, -0.10595703125),\n",
       " (14, -0.169921875),\n",
       " (15, 0.041015625),\n",
       " (16, -0.263671875),\n",
       " (17, -0.006317138671875),\n",
       " (18, -0.177734375),\n",
       " (19, -0.240234375),\n",
       " (20, 0.3515625),\n",
       " (21, -0.01220703125),\n",
       " (22, -0.162109375),\n",
       " (23, -0.12060546875),\n",
       " (24, 0.043212890625),\n",
       " (25, 0.10986328125),\n",
       " (26, 0.052490234375),\n",
       " (27, 0.1787109375),\n",
       " (28, -0.1455078125),\n",
       " (29, 0.1376953125),\n",
       " (30, -0.08203125),\n",
       " (31, -0.283203125),\n",
       " (32, -0.10888671875),\n",
       " (33, -0.2890625),\n",
       " (34, 0.072265625),\n",
       " (35, -0.04736328125),\n",
       " (36, 0.040283203125),\n",
       " (37, 0.06787109375),\n",
       " (38, 0.11669921875),\n",
       " (39, 0.00083160400390625),\n",
       " (40, 0.068359375),\n",
       " (41, 0.1201171875),\n",
       " (42, -0.08837890625),\n",
       " (43, 0.337890625),\n",
       " (44, -0.044677734375),\n",
       " (45, -0.0301513671875),\n",
       " (46, 0.0076904296875),\n",
       " (47, -0.0211181640625),\n",
       " (48, -0.25390625),\n",
       " (49, 0.1494140625),\n",
       " (50, 0.3984375),\n",
       " (51, 0.0216064453125),\n",
       " (52, -0.023193359375),\n",
       " (53, 0.00634765625),\n",
       " (54, 0.00823974609375),\n",
       " (55, -0.1689453125),\n",
       " (56, 0.037353515625),\n",
       " (57, -0.0634765625),\n",
       " (58, 0.1171875),\n",
       " (59, -0.1484375),\n",
       " (60, -0.07861328125),\n",
       " (61, 0.369140625),\n",
       " (62, -0.224609375),\n",
       " (63, 0.173828125),\n",
       " (64, 0.01385498046875),\n",
       " (65, 0.1875),\n",
       " (66, -0.10107421875),\n",
       " (67, 0.037841796875),\n",
       " (68, 0.0021209716796875),\n",
       " (69, -0.05126953125),\n",
       " (70, 0.09619140625),\n",
       " (71, -0.05712890625),\n",
       " (72, 0.10595703125),\n",
       " (73, -0.02099609375),\n",
       " (74, 0.1611328125),\n",
       " (75, 0.09765625),\n",
       " (76, 0.038330078125),\n",
       " (77, 0.2197265625),\n",
       " (78, 0.1064453125),\n",
       " (79, 0.0859375),\n",
       " (80, 0.1796875),\n",
       " (81, -0.0830078125),\n",
       " (82, -0.033203125),\n",
       " (83, 0.041015625),\n",
       " (84, -0.06494140625),\n",
       " (85, 0.0198974609375),\n",
       " (86, 0.1337890625),\n",
       " (87, -0.09765625),\n",
       " (88, -0.193359375),\n",
       " (89, -0.2353515625),\n",
       " (90, 0.1904296875),\n",
       " (91, 0.0024871826171875),\n",
       " (92, -0.0157470703125),\n",
       " (93, 0.0322265625),\n",
       " (94, -0.2197265625),\n",
       " (95, -0.09130859375),\n",
       " (96, 0.021240234375),\n",
       " (97, 0.158203125),\n",
       " (98, 0.298828125),\n",
       " (99, -0.328125),\n",
       " (100, 0.057373046875),\n",
       " (101, -0.04638671875),\n",
       " (102, 0.11328125),\n",
       " (103, -0.1015625),\n",
       " (104, 0.1806640625),\n",
       " (105, -0.025146484375),\n",
       " (106, -0.166015625),\n",
       " (107, -0.09619140625),\n",
       " (108, 0.018798828125),\n",
       " (109, -0.1943359375),\n",
       " (110, 0.1494140625),\n",
       " (111, -0.056640625),\n",
       " (112, -0.10693359375),\n",
       " (113, -0.150390625),\n",
       " (114, -0.17578125),\n",
       " (115, 0.11279296875),\n",
       " (116, 0.04931640625),\n",
       " (117, 0.2197265625),\n",
       " (118, 0.318359375),\n",
       " (119, 0.1572265625),\n",
       " (120, -0.29296875),\n",
       " (121, 0.10498046875),\n",
       " (122, -0.296875),\n",
       " (123, -0.013427734375),\n",
       " (124, 0.0908203125),\n",
       " (125, 0.0125732421875),\n",
       " (126, -0.051513671875),\n",
       " (127, -0.12890625),\n",
       " (128, 0.01446533203125),\n",
       " (129, 0.12060546875),\n",
       " (130, -0.10107421875),\n",
       " (131, -0.111328125),\n",
       " (132, 0.06396484375),\n",
       " (133, -0.052978515625),\n",
       " (134, -0.043212890625),\n",
       " (135, -0.012939453125),\n",
       " (136, -0.027587890625),\n",
       " (137, -0.09716796875),\n",
       " (138, -0.2021484375),\n",
       " (139, 0.123046875),\n",
       " (140, -0.04248046875),\n",
       " (141, 0.173828125),\n",
       " (142, -0.013671875),\n",
       " (143, 0.1015625),\n",
       " (144, -0.00093841552734375),\n",
       " (145, -0.03564453125),\n",
       " (146, 0.30078125),\n",
       " (147, -0.068359375),\n",
       " (148, -0.05615234375),\n",
       " (149, 0.03759765625),\n",
       " (150, 0.06591796875),\n",
       " (151, 0.040283203125),\n",
       " (152, 0.01190185546875),\n",
       " (153, 0.09619140625),\n",
       " (154, 0.3671875),\n",
       " (155, -0.279296875),\n",
       " (156, -0.052001953125),\n",
       " (157, -0.10693359375),\n",
       " (158, -0.134765625),\n",
       " (159, -0.046142578125),\n",
       " (160, 0.25),\n",
       " (161, 0.00567626953125),\n",
       " (162, -0.014404296875),\n",
       " (163, -0.031005859375),\n",
       " (164, -0.060302734375),\n",
       " (165, 0.10595703125),\n",
       " (166, 0.37890625),\n",
       " (167, 0.058837890625),\n",
       " (168, 0.123046875),\n",
       " (169, -0.115234375),\n",
       " (170, 0.1494140625),\n",
       " (171, -0.1640625),\n",
       " (172, -0.2333984375),\n",
       " (173, -0.07763671875),\n",
       " (174, 0.0267333984375),\n",
       " (175, -0.0211181640625),\n",
       " (176, 0.1943359375),\n",
       " (177, -0.05615234375),\n",
       " (178, -0.006439208984375),\n",
       " (179, -0.169921875),\n",
       " (180, -0.11865234375),\n",
       " (181, -0.0673828125),\n",
       " (182, -0.06884765625),\n",
       " (183, -0.0869140625),\n",
       " (184, -0.1015625),\n",
       " (185, 0.01416015625),\n",
       " (186, -0.201171875),\n",
       " (187, 0.09814453125),\n",
       " (188, -0.01025390625),\n",
       " (189, 0.1875),\n",
       " (190, 0.1962890625),\n",
       " (191, -0.220703125),\n",
       " (192, -0.1962890625),\n",
       " (193, -0.07373046875),\n",
       " (194, 0.06640625),\n",
       " (195, -0.1337890625),\n",
       " (196, 0.18359375),\n",
       " (197, -0.2001953125),\n",
       " (198, 0.1982421875),\n",
       " (199, 0.05029296875),\n",
       " (200, 0.0299072265625),\n",
       " (201, 0.0177001953125),\n",
       " (202, -0.193359375),\n",
       " (203, -0.09619140625),\n",
       " (204, -0.1025390625),\n",
       " (205, 0.212890625),\n",
       " (206, -0.0299072265625),\n",
       " (207, 0.1435546875),\n",
       " (208, 0.041015625),\n",
       " (209, -0.2119140625),\n",
       " (210, 0.2080078125),\n",
       " (211, 0.1376953125),\n",
       " (212, -0.0196533203125),\n",
       " (213, 0.01495361328125),\n",
       " (214, -0.09765625),\n",
       " (215, 0.2431640625),\n",
       " (216, 0.080078125),\n",
       " (217, 0.08251953125),\n",
       " (218, 0.0986328125),\n",
       " (219, 0.056884765625),\n",
       " (220, 0.04248046875),\n",
       " (221, 0.06884765625),\n",
       " (222, -0.035400390625),\n",
       " (223, -0.076171875),\n",
       " (224, -0.00016117095947265625),\n",
       " (225, -0.0751953125),\n",
       " (226, 0.224609375),\n",
       " (227, 0.1513671875),\n",
       " (228, 0.1005859375),\n",
       " (229, 0.10986328125),\n",
       " (230, 0.0238037109375),\n",
       " (231, 0.08837890625),\n",
       " (232, 0.061767578125),\n",
       " (233, -0.10791015625),\n",
       " (234, 0.062255859375),\n",
       " (235, 0.0034332275390625),\n",
       " (236, 0.08056640625),\n",
       " (237, 0.10693359375),\n",
       " (238, 0.0888671875),\n",
       " (239, -0.2373046875),\n",
       " (240, 0.06494140625),\n",
       " (241, 0.01019287109375),\n",
       " (242, -0.08837890625),\n",
       " (243, -0.33203125),\n",
       " (244, 0.004669189453125),\n",
       " (245, 0.212890625),\n",
       " (246, 0.0859375),\n",
       " (247, 0.0203857421875),\n",
       " (248, 0.045654296875),\n",
       " (249, 0.1484375),\n",
       " (250, 0.1181640625),\n",
       " (251, 0.0556640625),\n",
       " (252, -0.1728515625),\n",
       " (253, -0.125),\n",
       " (254, -0.025390625),\n",
       " (255, -0.318359375),\n",
       " (256, 0.0311279296875),\n",
       " (257, 0.0859375),\n",
       " (258, -0.0419921875),\n",
       " (259, 0.15625),\n",
       " (260, 0.1611328125),\n",
       " (261, 0.1982421875),\n",
       " (262, -0.10009765625),\n",
       " (263, 0.203125),\n",
       " (264, 0.12890625),\n",
       " (265, 0.2333984375),\n",
       " (266, -0.267578125),\n",
       " (267, 0.05517578125),\n",
       " (268, 0.048828125),\n",
       " (269, 0.072265625),\n",
       " (270, 0.244140625),\n",
       " (271, 0.244140625),\n",
       " (272, 0.056884765625),\n",
       " (273, -0.0546875),\n",
       " (274, -0.03369140625),\n",
       " (275, -0.12060546875),\n",
       " (276, 0.034912109375),\n",
       " (277, -0.1455078125),\n",
       " (278, 0.08740234375),\n",
       " (279, -0.0830078125),\n",
       " (280, 0.0172119140625),\n",
       " (281, 0.1435546875),\n",
       " (282, -0.12255859375),\n",
       " (283, 0.1796875),\n",
       " (284, 0.130859375),\n",
       " (285, -0.1650390625),\n",
       " (286, 0.01275634765625),\n",
       " (287, 0.16015625),\n",
       " (288, -0.0311279296875),\n",
       " (289, 0.08203125),\n",
       " (290, 0.173828125),\n",
       " (291, -0.16796875),\n",
       " (292, 0.130859375),\n",
       " (293, 0.08544921875),\n",
       " (294, -0.2109375),\n",
       " (295, -0.130859375),\n",
       " (296, -0.0289306640625),\n",
       " (297, -0.10546875),\n",
       " (298, 0.08447265625),\n",
       " (299, -0.1416015625)]"
      ]
     },
     "execution_count": 89,
     "metadata": {},
     "output_type": "execute_result"
    }
   ],
   "source": [
    "w2v_pretrained = W2VPretrainedRetrievalModel(doc_repr_2)\n",
    "w2v_pretrained.train_model()\n",
    "\n",
    "# you can now get an W2V vector for a given query in the following way:\n",
    "w2v_pretrained.vectorize_query(\"report\")"
   ]
  },
  {
   "cell_type": "code",
   "execution_count": 90,
   "metadata": {
    "cell_id": "00145-65d4934b-cf4d-414e-8525-dff2c72b8313",
    "deepnote_cell_height": 198.1875,
    "deepnote_cell_type": "code",
    "deepnote_to_be_reexecuted": false,
    "deletable": false,
    "editable": false,
    "execution_millis": 1303,
    "execution_start": 1645186676707,
    "nbgrader": {
     "cell_type": "code",
     "checksum": "0822845afb5eafe5ddb1ffeaa4f4942a",
     "grade": true,
     "grade_id": "cell-1b1466f8ce516f42",
     "locked": true,
     "points": 2,
     "schema_version": 3,
     "solution": false,
     "task": false
    },
    "source_hash": "d4727a64"
   },
   "outputs": [
    {
     "name": "stdout",
     "output_type": "stream",
     "text": [
      "300\n"
     ]
    },
    {
     "name": "stderr",
     "output_type": "stream",
     "text": [
      "/Users/thesofakillers/miniconda3/envs/ir1/lib/python3.6/site-packages/ipykernel_launcher.py:63: DeprecationWarning: Call to deprecated `wv` (Attribute will be removed in 4.0.0, use self instead).\n"
     ]
    }
   ],
   "source": [
    "##### Function check\n",
    "\n",
    "print(len(w2v_pretrained.vectorize_query(\"report\")))\n",
    "#####"
   ]
  },
  {
   "cell_type": "code",
   "execution_count": 91,
   "metadata": {
    "cell_id": "00146-c209a2da-8745-4211-89bc-c716df8bb9ce",
    "deepnote_cell_height": 303,
    "deepnote_cell_type": "code",
    "deepnote_to_be_reexecuted": false,
    "execution_millis": 1086,
    "execution_start": 1645187351976,
    "source_hash": "8865e3e5"
   },
   "outputs": [
    {
     "data": {
      "application/vnd.jupyter.widget-view+json": {
       "model_id": "36cdd9a9cec64c44b16c7cf04d14a694",
       "version_major": 2,
       "version_minor": 0
      },
      "text/plain": [
       "Text(value='', description='Search Bar')"
      ]
     },
     "metadata": {},
     "output_type": "display_data"
    }
   ],
   "source": [
    "drm_w2v = DenseRetrievalRanker(w2v, cosine_sim)\n",
    "\n",
    "# test your LDA model\n",
    "search_fn = drm_w2v.search\n",
    "\n",
    "text = widgets.Text(description=\"Search Bar\", width=200)\n",
    "display(text)\n",
    "\n",
    "\n",
    "text.on_submit(handle_submit_2)"
   ]
  },
  {
   "cell_type": "code",
   "execution_count": 92,
   "metadata": {
    "cell_id": "00147-e85d21fc-9447-411a-8131-fda7837fdf00",
    "deepnote_cell_height": 306.1875,
    "deepnote_cell_type": "code",
    "deepnote_to_be_reexecuted": false,
    "execution_millis": 174,
    "execution_start": 1645187355913,
    "source_hash": "8fd1ee96"
   },
   "outputs": [
    {
     "name": "stderr",
     "output_type": "stream",
     "text": [
      "/Users/thesofakillers/miniconda3/envs/ir1/lib/python3.6/site-packages/ipykernel_launcher.py:33: DeprecationWarning: Call to deprecated `wv` (Attribute will be removed in 4.0.0, use self instead).\n"
     ]
    },
    {
     "data": {
      "application/vnd.jupyter.widget-view+json": {
       "model_id": "a6688a4d523243f287aaccb52e2fb4af",
       "version_major": 2,
       "version_minor": 0
      },
      "text/plain": [
       "Text(value='', description='Search Bar')"
      ]
     },
     "metadata": {},
     "output_type": "display_data"
    }
   ],
   "source": [
    "drm_w2v_pretrained = DenseRetrievalRanker(w2v_pretrained, cosine_sim)\n",
    "\n",
    "# test your LDA model\n",
    "search_fn = drm_w2v_pretrained.search\n",
    "\n",
    "text = widgets.Text(description=\"Search Bar\", width=200)\n",
    "display(text)\n",
    "\n",
    "\n",
    "text.on_submit(handle_submit_2)"
   ]
  },
  {
   "cell_type": "markdown",
   "metadata": {
    "cell_id": "00148-18690d99-32f6-4368-8791-fa8a660313c5",
    "deepnote_cell_height": 91,
    "deepnote_cell_type": "markdown",
    "deletable": false,
    "editable": false,
    "nbgrader": {
     "cell_type": "markdown",
     "checksum": "51b778984fd60757974f51047c61eb15",
     "grade": false,
     "grade_id": "cell-b92f701cbc706108",
     "locked": true,
     "schema_version": 3,
     "solution": false,
     "task": false
    }
   },
   "source": [
    "**Implementation (10 points):**\n",
    "For Doc2Vec, you will need to create a list of `TaggedDocument` instead of using the `self.corpus` or `self.documents` variable. Use the document id as the 'tag'.\n"
   ]
  },
  {
   "cell_type": "code",
   "execution_count": 93,
   "metadata": {
    "cell_id": "00149-f7ea4b9a-161d-4405-9440-ab008f8bc0ac",
    "deepnote_cell_height": 2261,
    "deepnote_cell_type": "code",
    "deepnote_output_heights": [
     null,
     611
    ],
    "deepnote_to_be_reexecuted": false,
    "deletable": false,
    "execution_millis": 33704,
    "execution_start": 1645187360265,
    "nbgrader": {
     "cell_type": "code",
     "checksum": "1f60fdeb97febb7f4a6fd5bf109aac20",
     "grade": false,
     "grade_id": "cell-680facdcc98a19ab",
     "locked": false,
     "schema_version": 3,
     "solution": true,
     "task": false
    },
    "source_hash": "ad328353",
    "tags": []
   },
   "outputs": [
    {
     "name": "stderr",
     "output_type": "stream",
     "text": [
      "2022-02-22 12:34:01,237 : INFO : adding document #0 to Dictionary(0 unique tokens: [])\n",
      "2022-02-22 12:34:01,384 : INFO : built Dictionary(5937 unique tokens: ['-', 'algebra', 'intern', 'languag', 'preliminari']...) from 3204 documents (total 115969 corpus positions)\n",
      "2022-02-22 12:34:01,392 : INFO : discarding 4740 tokens: [('repeat', 8), ('glossari', 7), ('inspect', 8), ('uncol', 2), ('rung', 9), ('secant', 2), ('.', 1603), ('acceler', 6), ('diverg', 3), ('induc', 9)]...\n",
      "2022-02-22 12:34:01,392 : INFO : keeping 1197 tokens which were in no less than 10 and no more than 1602 (=50.0%) documents\n",
      "2022-02-22 12:34:01,395 : INFO : resulting dictionary: Dictionary(1197 unique tokens: ['-', 'algebra', 'intern', 'languag', 'preliminari']...)\n",
      "2022-02-22 12:34:01,489 : INFO : collecting all words and their counts\n",
      "2022-02-22 12:34:01,490 : INFO : PROGRESS: at example #0, processed 0 words (0/s), 0 word types, 0 tags\n",
      "2022-02-22 12:34:01,513 : INFO : collected 5937 word types and 3204 unique tags from a corpus of 3204 examples and 115969 words\n",
      "2022-02-22 12:34:01,514 : INFO : Loading a fresh vocabulary\n",
      "2022-02-22 12:34:01,523 : INFO : effective_min_count=1 retains 5937 unique words (100% of original 5937, drops 0)\n",
      "2022-02-22 12:34:01,524 : INFO : effective_min_count=1 leaves 115969 word corpus (100% of original 115969, drops 0)\n",
      "2022-02-22 12:34:01,538 : INFO : deleting the raw counts dictionary of 5937 items\n",
      "2022-02-22 12:34:01,539 : INFO : sample=0.001 downsamples 40 most-common words\n",
      "2022-02-22 12:34:01,539 : INFO : downsampling leaves estimated 92346 word corpus (79.6% of prior 115969)\n",
      "2022-02-22 12:34:01,550 : INFO : estimated required memory for 5937 words and 100 dimensions: 9640500 bytes\n",
      "2022-02-22 12:34:01,551 : INFO : resetting layer weights\n",
      "2022-02-22 12:34:03,641 : INFO : training model with 3 workers on 5937 vocabulary and 100 features, using sg=0 hs=0 sample=0.001 negative=5 window=5\n",
      "2022-02-22 12:34:03,912 : INFO : worker thread finished; awaiting finish of 2 more threads\n",
      "2022-02-22 12:34:03,928 : INFO : worker thread finished; awaiting finish of 1 more threads\n",
      "2022-02-22 12:34:03,929 : INFO : worker thread finished; awaiting finish of 0 more threads\n",
      "2022-02-22 12:34:03,929 : INFO : EPOCH - 1 : training on 115969 raw words (95586 effective words) took 0.3s, 347191 effective words/s\n",
      "2022-02-22 12:34:04,232 : INFO : worker thread finished; awaiting finish of 2 more threads\n",
      "2022-02-22 12:34:04,233 : INFO : worker thread finished; awaiting finish of 1 more threads\n",
      "2022-02-22 12:34:04,245 : INFO : worker thread finished; awaiting finish of 0 more threads\n",
      "2022-02-22 12:34:04,246 : INFO : EPOCH - 2 : training on 115969 raw words (95553 effective words) took 0.3s, 310602 effective words/s\n",
      "2022-02-22 12:34:04,510 : INFO : worker thread finished; awaiting finish of 2 more threads\n",
      "2022-02-22 12:34:04,528 : INFO : worker thread finished; awaiting finish of 1 more threads\n",
      "2022-02-22 12:34:04,533 : INFO : worker thread finished; awaiting finish of 0 more threads\n",
      "2022-02-22 12:34:04,533 : INFO : EPOCH - 3 : training on 115969 raw words (95420 effective words) took 0.3s, 338170 effective words/s\n",
      "2022-02-22 12:34:04,808 : INFO : worker thread finished; awaiting finish of 2 more threads\n",
      "2022-02-22 12:34:04,824 : INFO : worker thread finished; awaiting finish of 1 more threads\n",
      "2022-02-22 12:34:04,825 : INFO : worker thread finished; awaiting finish of 0 more threads\n",
      "2022-02-22 12:34:04,826 : INFO : EPOCH - 4 : training on 115969 raw words (95496 effective words) took 0.3s, 331833 effective words/s\n",
      "2022-02-22 12:34:05,092 : INFO : worker thread finished; awaiting finish of 2 more threads\n",
      "2022-02-22 12:34:05,111 : INFO : worker thread finished; awaiting finish of 1 more threads\n",
      "2022-02-22 12:34:05,116 : INFO : worker thread finished; awaiting finish of 0 more threads\n",
      "2022-02-22 12:34:05,116 : INFO : EPOCH - 5 : training on 115969 raw words (95690 effective words) took 0.3s, 336524 effective words/s\n",
      "2022-02-22 12:34:05,376 : INFO : worker thread finished; awaiting finish of 2 more threads\n",
      "2022-02-22 12:34:05,395 : INFO : worker thread finished; awaiting finish of 1 more threads\n",
      "2022-02-22 12:34:05,397 : INFO : worker thread finished; awaiting finish of 0 more threads\n",
      "2022-02-22 12:34:05,397 : INFO : EPOCH - 6 : training on 115969 raw words (95432 effective words) took 0.3s, 351755 effective words/s\n",
      "2022-02-22 12:34:05,677 : INFO : worker thread finished; awaiting finish of 2 more threads\n",
      "2022-02-22 12:34:05,698 : INFO : worker thread finished; awaiting finish of 1 more threads\n",
      "2022-02-22 12:34:05,701 : INFO : worker thread finished; awaiting finish of 0 more threads\n",
      "2022-02-22 12:34:05,701 : INFO : EPOCH - 7 : training on 115969 raw words (95699 effective words) took 0.3s, 320444 effective words/s\n",
      "2022-02-22 12:34:05,973 : INFO : worker thread finished; awaiting finish of 2 more threads\n",
      "2022-02-22 12:34:05,988 : INFO : worker thread finished; awaiting finish of 1 more threads\n",
      "2022-02-22 12:34:05,994 : INFO : worker thread finished; awaiting finish of 0 more threads\n",
      "2022-02-22 12:34:05,994 : INFO : EPOCH - 8 : training on 115969 raw words (95620 effective words) took 0.3s, 333148 effective words/s\n",
      "2022-02-22 12:34:06,246 : INFO : worker thread finished; awaiting finish of 2 more threads\n",
      "2022-02-22 12:34:06,264 : INFO : worker thread finished; awaiting finish of 1 more threads\n",
      "2022-02-22 12:34:06,268 : INFO : worker thread finished; awaiting finish of 0 more threads\n",
      "2022-02-22 12:34:06,269 : INFO : EPOCH - 9 : training on 115969 raw words (95408 effective words) took 0.3s, 353802 effective words/s\n",
      "2022-02-22 12:34:06,517 : INFO : worker thread finished; awaiting finish of 2 more threads\n",
      "2022-02-22 12:34:06,524 : INFO : worker thread finished; awaiting finish of 1 more threads\n",
      "2022-02-22 12:34:06,532 : INFO : worker thread finished; awaiting finish of 0 more threads\n",
      "2022-02-22 12:34:06,533 : INFO : EPOCH - 10 : training on 115969 raw words (95446 effective words) took 0.3s, 367296 effective words/s\n",
      "2022-02-22 12:34:06,865 : INFO : worker thread finished; awaiting finish of 2 more threads\n",
      "2022-02-22 12:34:06,876 : INFO : worker thread finished; awaiting finish of 1 more threads\n",
      "2022-02-22 12:34:06,891 : INFO : worker thread finished; awaiting finish of 0 more threads\n",
      "2022-02-22 12:34:06,892 : INFO : EPOCH - 11 : training on 115969 raw words (95474 effective words) took 0.4s, 268658 effective words/s\n",
      "2022-02-22 12:34:07,171 : INFO : worker thread finished; awaiting finish of 2 more threads\n",
      "2022-02-22 12:34:07,173 : INFO : worker thread finished; awaiting finish of 1 more threads\n",
      "2022-02-22 12:34:07,182 : INFO : worker thread finished; awaiting finish of 0 more threads\n",
      "2022-02-22 12:34:07,182 : INFO : EPOCH - 12 : training on 115969 raw words (95483 effective words) took 0.3s, 334969 effective words/s\n",
      "2022-02-22 12:34:07,439 : INFO : worker thread finished; awaiting finish of 2 more threads\n",
      "2022-02-22 12:34:07,462 : INFO : worker thread finished; awaiting finish of 1 more threads\n",
      "2022-02-22 12:34:07,467 : INFO : worker thread finished; awaiting finish of 0 more threads\n",
      "2022-02-22 12:34:07,468 : INFO : EPOCH - 13 : training on 115969 raw words (95604 effective words) took 0.3s, 340975 effective words/s\n",
      "2022-02-22 12:34:07,763 : INFO : worker thread finished; awaiting finish of 2 more threads\n",
      "2022-02-22 12:34:07,773 : INFO : worker thread finished; awaiting finish of 1 more threads\n",
      "2022-02-22 12:34:07,776 : INFO : worker thread finished; awaiting finish of 0 more threads\n",
      "2022-02-22 12:34:07,777 : INFO : EPOCH - 14 : training on 115969 raw words (95468 effective words) took 0.3s, 315953 effective words/s\n",
      "2022-02-22 12:34:08,049 : INFO : worker thread finished; awaiting finish of 2 more threads\n",
      "2022-02-22 12:34:08,051 : INFO : worker thread finished; awaiting finish of 1 more threads\n",
      "2022-02-22 12:34:08,083 : INFO : worker thread finished; awaiting finish of 0 more threads\n",
      "2022-02-22 12:34:08,084 : INFO : EPOCH - 15 : training on 115969 raw words (95569 effective words) took 0.3s, 318071 effective words/s\n",
      "2022-02-22 12:34:08,359 : INFO : worker thread finished; awaiting finish of 2 more threads\n",
      "2022-02-22 12:34:08,366 : INFO : worker thread finished; awaiting finish of 1 more threads\n",
      "2022-02-22 12:34:08,372 : INFO : worker thread finished; awaiting finish of 0 more threads\n",
      "2022-02-22 12:34:08,373 : INFO : EPOCH - 16 : training on 115969 raw words (95596 effective words) took 0.3s, 363294 effective words/s\n",
      "2022-02-22 12:34:08,654 : INFO : worker thread finished; awaiting finish of 2 more threads\n",
      "2022-02-22 12:34:08,656 : INFO : worker thread finished; awaiting finish of 1 more threads\n",
      "2022-02-22 12:34:08,668 : INFO : worker thread finished; awaiting finish of 0 more threads\n",
      "2022-02-22 12:34:08,668 : INFO : EPOCH - 17 : training on 115969 raw words (95603 effective words) took 0.3s, 329342 effective words/s\n",
      "2022-02-22 12:34:08,947 : INFO : worker thread finished; awaiting finish of 2 more threads\n",
      "2022-02-22 12:34:08,964 : INFO : worker thread finished; awaiting finish of 1 more threads\n",
      "2022-02-22 12:34:08,970 : INFO : worker thread finished; awaiting finish of 0 more threads\n",
      "2022-02-22 12:34:08,971 : INFO : EPOCH - 18 : training on 115969 raw words (95505 effective words) took 0.3s, 323821 effective words/s\n",
      "2022-02-22 12:34:09,289 : INFO : worker thread finished; awaiting finish of 2 more threads\n",
      "2022-02-22 12:34:09,290 : INFO : worker thread finished; awaiting finish of 1 more threads\n",
      "2022-02-22 12:34:09,295 : INFO : worker thread finished; awaiting finish of 0 more threads\n",
      "2022-02-22 12:34:09,295 : INFO : EPOCH - 19 : training on 115969 raw words (95560 effective words) took 0.3s, 302038 effective words/s\n",
      "2022-02-22 12:34:09,575 : INFO : worker thread finished; awaiting finish of 2 more threads\n",
      "2022-02-22 12:34:09,595 : INFO : worker thread finished; awaiting finish of 1 more threads\n",
      "2022-02-22 12:34:09,602 : INFO : worker thread finished; awaiting finish of 0 more threads\n",
      "2022-02-22 12:34:09,603 : INFO : EPOCH - 20 : training on 115969 raw words (95471 effective words) took 0.3s, 315953 effective words/s\n",
      "2022-02-22 12:34:09,603 : INFO : training on a 2319380 raw words (1910683 effective words) took 6.0s, 320474 effective words/s\n"
     ]
    },
    {
     "data": {
      "text/plain": [
       "[(0, 0.026192753),\n",
       " (1, 0.042926904),\n",
       " (2, -0.089044906),\n",
       " (3, 0.03628177),\n",
       " (4, -0.058218744),\n",
       " (5, -0.009154893),\n",
       " (6, -0.017868286),\n",
       " (7, 0.000829608),\n",
       " (8, 0.00438058),\n",
       " (9, 0.09034053),\n",
       " (10, -0.08992932),\n",
       " (11, 0.045459047),\n",
       " (12, 0.040549386),\n",
       " (13, 0.016289873),\n",
       " (14, 0.09002317),\n",
       " (15, -0.005612788),\n",
       " (16, -0.07354652),\n",
       " (17, -0.043771215),\n",
       " (18, 0.011002578),\n",
       " (19, -0.018126322),\n",
       " (20, 0.044131186),\n",
       " (21, -0.04882714),\n",
       " (22, 0.053044863),\n",
       " (23, 0.038864505),\n",
       " (24, -0.0213963),\n",
       " (25, 0.10269629),\n",
       " (26, -0.005104359),\n",
       " (27, -0.06809292),\n",
       " (28, 0.023408284),\n",
       " (29, -0.033372067),\n",
       " (30, 0.05959126),\n",
       " (31, 0.0029032829),\n",
       " (32, 0.04899444),\n",
       " (33, -0.07198373),\n",
       " (34, -0.07986708),\n",
       " (35, -0.015462216),\n",
       " (36, -0.041668225),\n",
       " (37, 0.14852735),\n",
       " (38, -0.028002655),\n",
       " (39, 0.10200314),\n",
       " (40, 0.059506845),\n",
       " (41, 0.04112066),\n",
       " (42, 0.07506873),\n",
       " (43, 0.03798211),\n",
       " (44, 0.016227262),\n",
       " (45, -0.0025544805),\n",
       " (46, 0.010229343),\n",
       " (47, -0.07345756),\n",
       " (48, -0.015502786),\n",
       " (49, -0.019132348),\n",
       " (50, 0.10877821),\n",
       " (51, -0.04993819),\n",
       " (52, -0.044637315),\n",
       " (53, 0.0552307),\n",
       " (54, -0.07162166),\n",
       " (55, -0.023117011),\n",
       " (56, -0.0142336795),\n",
       " (57, 0.014705459),\n",
       " (58, 0.0827846),\n",
       " (59, -0.012082033),\n",
       " (60, -0.019174844),\n",
       " (61, -0.08988977),\n",
       " (62, -0.01966977),\n",
       " (63, -0.013962329),\n",
       " (64, -0.040229913),\n",
       " (65, -0.0293079),\n",
       " (66, -0.08202656),\n",
       " (67, 0.012973703),\n",
       " (68, 0.008686116),\n",
       " (69, -0.028273176),\n",
       " (70, 0.045892682),\n",
       " (71, -0.020914609),\n",
       " (72, -0.0314192),\n",
       " (73, 0.012877388),\n",
       " (74, 0.056195293),\n",
       " (75, 0.06947877),\n",
       " (76, -0.015866978),\n",
       " (77, -0.015031669),\n",
       " (78, 0.0713596),\n",
       " (79, 0.0041639307),\n",
       " (80, 0.011080145),\n",
       " (81, 0.026769051),\n",
       " (82, 0.03191077),\n",
       " (83, 0.012355196),\n",
       " (84, -0.021626163),\n",
       " (85, -0.07336331),\n",
       " (86, -0.07479662),\n",
       " (87, 0.02016045),\n",
       " (88, 0.012772401),\n",
       " (89, -0.028115889),\n",
       " (90, 0.02642277),\n",
       " (91, 0.1242377),\n",
       " (92, -0.012638706),\n",
       " (93, -0.07578988),\n",
       " (94, 0.05572056),\n",
       " (95, -0.00012906648),\n",
       " (96, -0.04989871),\n",
       " (97, -0.05927694),\n",
       " (98, 0.06410758),\n",
       " (99, -0.0871511)]"
      ]
     },
     "execution_count": 93,
     "metadata": {},
     "output_type": "execute_result"
    }
   ],
   "source": [
    "# TODO: Implement this! (10 points)\n",
    "class D2VRetrievalModel(VectorSpaceRetrievalModel):\n",
    "    def __init__(self, doc_repr):\n",
    "        super().__init__(doc_repr)\n",
    "\n",
    "        self.vector_size = 100\n",
    "        self.min_count = 1\n",
    "        self.epochs = 20\n",
    "\n",
    "        # YOUR CODE HERE\n",
    "        self.tagged_documents = [\n",
    "            TaggedDocument(doc, [doc_id]) for doc_id, doc in self.doc_repr\n",
    "        ]\n",
    "\n",
    "    def train_model(self):\n",
    "        # YOUR CODE HERE\n",
    "        self.model = Doc2Vec(\n",
    "            documents=self.tagged_documents,\n",
    "            vector_size=self.vector_size,\n",
    "            epochs=self.epochs,\n",
    "            min_count=self.min_count,\n",
    "        )\n",
    "\n",
    "    def vectorize_documents(self):\n",
    "        \"\"\"\n",
    "        Returns a doc_id -> vector dictionary\n",
    "        \"\"\"\n",
    "        # YOUR CODE HERE\n",
    "        vectors = {}\n",
    "        for (doc_id, doc) in self.doc_repr:\n",
    "            doc_vec = self.model.docvecs[doc_id]\n",
    "            # conver to weird gensim format\n",
    "            doc_vec = [(i, el) for i, el in enumerate(doc_vec)]\n",
    "            # store\n",
    "            vectors[doc_id] = doc_vec\n",
    "        return vectors\n",
    "\n",
    "    def vectorize_query(self, query):\n",
    "        # YOUR CODE HERE\n",
    "        query = process_text(query, **config_2)\n",
    "        query_vec = self.model.infer_vector(query)\n",
    "        # conver to weird gensim format\n",
    "        query_vec = [(i, el) for i, el in enumerate(query_vec)]\n",
    "        return query_vec\n",
    "\n",
    "\n",
    "d2v = D2VRetrievalModel(doc_repr_2)\n",
    "d2v.train_model()\n",
    "\n",
    "\n",
    "# # you can now get an LSI vector for a given query in the following way:\n",
    "d2v.vectorize_query(\"report\")"
   ]
  },
  {
   "cell_type": "code",
   "execution_count": 94,
   "metadata": {
    "cell_id": "00150-51d38d3e-9d84-4728-935b-b2266a0f7700",
    "deepnote_cell_height": 81,
    "deepnote_cell_type": "code",
    "deepnote_to_be_reexecuted": false,
    "deletable": false,
    "editable": false,
    "execution_millis": 13,
    "execution_start": 1645187446843,
    "nbgrader": {
     "cell_type": "code",
     "checksum": "e83a363a9d4f136efbdde1426a83925e",
     "grade": true,
     "grade_id": "cell-5e2c5e0c9a2e8cb5",
     "locked": true,
     "points": 0,
     "schema_version": 3,
     "solution": false,
     "task": false
    },
    "source_hash": "28110d30"
   },
   "outputs": [],
   "source": [
    "#### Please do not change this. This cell is used for grading."
   ]
  },
  {
   "cell_type": "markdown",
   "metadata": {
    "cell_id": "00151-fb85191e-b51e-42ca-812f-693c5a17802d",
    "deepnote_cell_height": 52.390625,
    "deepnote_cell_type": "markdown",
    "deletable": false,
    "editable": false,
    "nbgrader": {
     "cell_type": "markdown",
     "checksum": "5bb46bf6b9be1e0ca66f0b0bc6260ecb",
     "grade": false,
     "grade_id": "cell-8a49d414f798a595",
     "locked": true,
     "points": 10,
     "schema_version": 3,
     "solution": false,
     "task": true
    }
   },
   "source": [
    "\\#### Please do not change this. This cell is used for grading."
   ]
  },
  {
   "cell_type": "code",
   "execution_count": 95,
   "metadata": {
    "cell_id": "00152-f0e8290b-0789-4c20-965c-0a941de12a6d",
    "deepnote_cell_height": 303,
    "deepnote_cell_type": "code",
    "deepnote_to_be_reexecuted": false,
    "execution_millis": 302,
    "execution_start": 1645187449617,
    "source_hash": "2beb5e63"
   },
   "outputs": [
    {
     "data": {
      "application/vnd.jupyter.widget-view+json": {
       "model_id": "bab38b96cb4a49aebfc459592bf8adf5",
       "version_major": 2,
       "version_minor": 0
      },
      "text/plain": [
       "Text(value='', description='Search Bar')"
      ]
     },
     "metadata": {},
     "output_type": "display_data"
    }
   ],
   "source": [
    "drm_d2v = DenseRetrievalRanker(d2v, cosine_sim)\n",
    "\n",
    "# test your LDA model\n",
    "search_fn = drm_d2v.search\n",
    "\n",
    "text = widgets.Text(description=\"Search Bar\", width=200)\n",
    "display(text)\n",
    "\n",
    "\n",
    "text.on_submit(handle_submit_2)"
   ]
  },
  {
   "cell_type": "markdown",
   "metadata": {
    "cell_id": "00153-7795ce30-661e-4988-b26a-e3ed09ce3615",
    "deepnote_cell_height": 168.171875,
    "deepnote_cell_type": "markdown",
    "deletable": false,
    "editable": false,
    "nbgrader": {
     "cell_type": "markdown",
     "checksum": "363ec36c1d03d9f9e1c2045a6e193c14",
     "grade": false,
     "grade_id": "cell-3529ae29eece7b97",
     "locked": true,
     "schema_version": 3,
     "solution": false,
     "task": false
    }
   },
   "source": [
    "---\n",
    "## Section 9: Re-ranking (10 points) <a class=\"anchor\" id=\"reranking\"></a>\n",
    "\n",
    "[Back to Part 2](#part2)\n",
    "\n",
    "To motivate the re-ranking perspective (i.e retrieve with lexical method + rerank with a semantic method), let's search using semantic methods and compare it to BM25's performance, along with their runtime:\n"
   ]
  },
  {
   "cell_type": "code",
   "execution_count": 96,
   "metadata": {
    "cell_id": "00154-4c11daad-82ca-4156-9d9b-7d9457aaf21b",
    "deepnote_cell_height": 567.875,
    "deepnote_cell_type": "code",
    "deepnote_to_be_reexecuted": false,
    "deletable": false,
    "editable": false,
    "execution_millis": 22802,
    "execution_start": 1645187474568,
    "nbgrader": {
     "cell_type": "code",
     "checksum": "5755f70e3eb28abc65d14d80125338af",
     "grade": false,
     "grade_id": "cell-f8f43bf5ae383128",
     "locked": true,
     "schema_version": 3,
     "solution": false,
     "task": false
    },
    "source_hash": "3fb54859"
   },
   "outputs": [
    {
     "name": "stdout",
     "output_type": "stream",
     "text": [
      "BM25: \n",
      "1.56 ms ± 54.9 µs per loop (mean ± std. dev. of 7 runs, 1000 loops each)\n",
      "LSI: \n",
      "682 ms ± 8.94 ms per loop (mean ± std. dev. of 7 runs, 1 loop each)\n",
      "LDA: \n",
      "218 ms ± 20.9 ms per loop (mean ± std. dev. of 7 runs, 1 loop each)\n",
      "W2V: \n",
      "723 ms ± 21.2 ms per loop (mean ± std. dev. of 7 runs, 1 loop each)\n",
      "W2V(Pretrained): \n"
     ]
    },
    {
     "name": "stderr",
     "output_type": "stream",
     "text": [
      "/Users/thesofakillers/miniconda3/envs/ir1/lib/python3.6/site-packages/ipykernel_launcher.py:63: DeprecationWarning: Call to deprecated `wv` (Attribute will be removed in 4.0.0, use self instead).\n"
     ]
    },
    {
     "name": "stdout",
     "output_type": "stream",
     "text": [
      "2.08 s ± 50.4 ms per loop (mean ± std. dev. of 7 runs, 1 loop each)\n",
      "D2V:\n",
      "3.37 s ± 367 ms per loop (mean ± std. dev. of 7 runs, 1 loop each)\n"
     ]
    }
   ],
   "source": [
    "query = \"algebraic functions\"\n",
    "print(\"BM25: \")\n",
    "%timeit bm25_search(query, 2)\n",
    "print(\"LSI: \")\n",
    "%timeit drm_lsi.search(query)\n",
    "print(\"LDA: \")\n",
    "%timeit drm_lda.search(query)\n",
    "print(\"W2V: \")\n",
    "%timeit drm_w2v.search(query)\n",
    "print(\"W2V(Pretrained): \")\n",
    "%timeit drm_w2v_pretrained.search(query)\n",
    "print(\"D2V:\")\n",
    "%timeit drm_d2v.search(query)"
   ]
  },
  {
   "cell_type": "markdown",
   "metadata": {
    "cell_id": "00155-48f43fee-cf35-4878-adef-f41c0c70d38b",
    "deepnote_cell_height": 165.375,
    "deepnote_cell_type": "markdown",
    "deletable": false,
    "editable": false,
    "nbgrader": {
     "cell_type": "markdown",
     "checksum": "ae398da0a8c23c95bcbb0023b7ec6f34",
     "grade": false,
     "grade_id": "cell-db5ff09f97841af7",
     "locked": true,
     "schema_version": 3,
     "solution": false,
     "task": false
    }
   },
   "source": [
    "---\n",
    "\n",
    "**Implementation (10 points):**\n",
    "Re-ranking involves retrieving a small set of documents using simple but fast methods like BM25 and then re-ranking them with the aid of semantic methods such as LDA or LSI. Implement the following class, which takes in an `initial_retrieval_fn` - the initial retrieval function and `vsrm` - an instance of the `VectorSpaceRetrievalModel` class (i.e LSI/LDA) as input. The search function should first retrieve an initial list of K documents, and then these documents are re-ranked using a semantic method. This not only makes retrieval faster, but semantic methods perform poorly when used in isolation, as you will find out."
   ]
  },
  {
   "cell_type": "code",
   "execution_count": 97,
   "metadata": {
    "cell_id": "00156-e15452e3-f043-4451-be79-5e3c6e3f889e",
    "deepnote_cell_height": 639,
    "deepnote_cell_type": "code",
    "deepnote_to_be_reexecuted": false,
    "deletable": false,
    "execution_millis": 0,
    "execution_start": 1645189040776,
    "nbgrader": {
     "cell_type": "code",
     "checksum": "63b6b05a676a2ae3f08d8bed1bc59428",
     "grade": false,
     "grade_id": "cell-5bf47600d1a0c507",
     "locked": false,
     "schema_version": 3,
     "solution": true,
     "task": false
    },
    "source_hash": "fa2995d"
   },
   "outputs": [],
   "source": [
    "# TODO: Implement this! (10 points)\n",
    "class DenseRerankingModel:\n",
    "    def __init__(self, initial_retrieval_fn, vsrm, similarity_fn):\n",
    "        \"\"\"\n",
    "        initial_retrieval_fn: takes in a query and returns a list of [(doc_id, score)] (sorted)\n",
    "        vsrm: instance of `VectorSpaceRetrievalModel`\n",
    "        similarity_fn: function instance that takes in two vectors\n",
    "                        and returns a similarity score e.g cosine_sim defined earlier\n",
    "        \"\"\"\n",
    "        self.ret = initial_retrieval_fn\n",
    "        self.vsrm = vsrm\n",
    "        self.similarity_fn = similarity_fn\n",
    "        self.vectorized_documents = vsrm.vectorize_documents()\n",
    "\n",
    "        assert len(self.vectorized_documents) == len(doc_repr_2)\n",
    "\n",
    "    def search(self, query, K=50):\n",
    "        \"\"\"\n",
    "        First, retrieve the top K results using the retrieval function\n",
    "        Then, re-rank the results using the VSRM instance\n",
    "        \"\"\"\n",
    "        # YOUR CODE HERE\n",
    "        top_k = self.ret(query)[:K]\n",
    "        results = {}\n",
    "        for doc_id, _score in top_k:\n",
    "            doc_vector = self.vectorized_documents[doc_id]\n",
    "            query_vector = self.vsrm.vectorize_query(query)\n",
    "            new_score = self.similarity_fn(doc_vector, query_vector)\n",
    "            results[doc_id] = new_score\n",
    "        # convert results to list and sort descending\n",
    "        results = sorted(list(results.items()), key=lambda x: x[1], reverse=True)\n",
    "        return results"
   ]
  },
  {
   "cell_type": "code",
   "execution_count": 98,
   "metadata": {
    "cell_id": "00157-3538784a-efa2-4b36-b167-d05248360ac1",
    "deepnote_cell_height": 225,
    "deepnote_cell_type": "code",
    "deepnote_to_be_reexecuted": false,
    "deletable": false,
    "editable": false,
    "execution_millis": 5334,
    "execution_start": 1645189060550,
    "nbgrader": {
     "cell_type": "code",
     "checksum": "334ab5af96976265cace682ab82a7387",
     "grade": true,
     "grade_id": "cell-52c6d18a4c0b4882",
     "locked": true,
     "points": 0,
     "schema_version": 3,
     "solution": false,
     "task": false
    },
    "source_hash": "f5babc28"
   },
   "outputs": [
    {
     "name": "stderr",
     "output_type": "stream",
     "text": [
      "/Users/thesofakillers/miniconda3/envs/ir1/lib/python3.6/site-packages/ipykernel_launcher.py:33: DeprecationWarning: Call to deprecated `wv` (Attribute will be removed in 4.0.0, use self instead).\n"
     ]
    }
   ],
   "source": [
    "##### Function check\n",
    "bm25_search_2 = partial(bm25_search, index_set=2)\n",
    "lsi_rerank = DenseRerankingModel(bm25_search_2, lsi, cosine_sim)\n",
    "lda_rerank = DenseRerankingModel(bm25_search_2, lda, jenson_shannon_sim)\n",
    "w2v_rerank = DenseRerankingModel(bm25_search_2, w2v, cosine_sim)\n",
    "w2v_pretrained_rerank = DenseRerankingModel(bm25_search_2, w2v_pretrained, cosine_sim)\n",
    "d2v_rerank = DenseRerankingModel(bm25_search_2, d2v, cosine_sim)\n",
    "\n",
    "#####"
   ]
  },
  {
   "cell_type": "markdown",
   "metadata": {
    "cell_id": "00158-5fbe0f74-4068-4e6e-9f3b-854b724106d7",
    "deepnote_cell_height": 52.390625,
    "deepnote_cell_type": "markdown",
    "deletable": false,
    "editable": false,
    "nbgrader": {
     "cell_type": "markdown",
     "checksum": "bd904253f45f84e63bab3a69729058fc",
     "grade": false,
     "grade_id": "cell-93215dfe6bcf7cff",
     "locked": true,
     "points": 10,
     "schema_version": 3,
     "solution": false,
     "task": true
    }
   },
   "source": [
    "\\#### Please do not change this. This cell is used for grading."
   ]
  },
  {
   "cell_type": "markdown",
   "metadata": {
    "cell_id": "00159-f5e855d2-5764-440e-a8e4-10860c9a9ac3",
    "deepnote_cell_height": 55,
    "deepnote_cell_type": "markdown",
    "deletable": false,
    "editable": false,
    "nbgrader": {
     "cell_type": "markdown",
     "checksum": "b592e60292bfe3d9ef2930a354c4077a",
     "grade": false,
     "grade_id": "cell-aa694ff55fa91e7d",
     "locked": true,
     "schema_version": 3,
     "solution": false,
     "task": false
    }
   },
   "source": [
    "---\n",
    "Now, let us time the new search functions:"
   ]
  },
  {
   "cell_type": "code",
   "execution_count": 99,
   "metadata": {
    "cell_id": "00160-933196c3-9483-4ca6-a4a6-ca24aad69936",
    "deepnote_cell_height": 530.0625,
    "deepnote_cell_type": "code",
    "deepnote_to_be_reexecuted": false,
    "deletable": false,
    "editable": false,
    "execution_millis": 38436,
    "execution_start": 1645189086450,
    "nbgrader": {
     "cell_type": "code",
     "checksum": "338c7e3528cba266a865a061287c0e38",
     "grade": false,
     "grade_id": "cell-5edbd481562ad91f",
     "locked": true,
     "schema_version": 3,
     "solution": false,
     "task": false
    },
    "source_hash": "bfac7774"
   },
   "outputs": [
    {
     "name": "stdout",
     "output_type": "stream",
     "text": [
      "BM25: \n",
      "1.54 ms ± 9.29 µs per loop (mean ± std. dev. of 7 runs, 1000 loops each)\n",
      "LSI: \n",
      "27.9 ms ± 342 µs per loop (mean ± std. dev. of 7 runs, 10 loops each)\n",
      "LDA: \n",
      "26.6 ms ± 341 µs per loop (mean ± std. dev. of 7 runs, 10 loops each)\n",
      "W2V: \n",
      "17.9 ms ± 312 µs per loop (mean ± std. dev. of 7 runs, 100 loops each)\n",
      "W2V(Pretrained): \n"
     ]
    },
    {
     "name": "stderr",
     "output_type": "stream",
     "text": [
      "/Users/thesofakillers/miniconda3/envs/ir1/lib/python3.6/site-packages/ipykernel_launcher.py:63: DeprecationWarning: Call to deprecated `wv` (Attribute will be removed in 4.0.0, use self instead).\n"
     ]
    },
    {
     "name": "stdout",
     "output_type": "stream",
     "text": [
      "38.8 ms ± 494 µs per loop (mean ± std. dev. of 7 runs, 10 loops each)\n",
      "D2V:\n",
      "109 ms ± 291 µs per loop (mean ± std. dev. of 7 runs, 10 loops each)\n"
     ]
    }
   ],
   "source": [
    "query = \"algebraic functions\"\n",
    "print(\"BM25: \")\n",
    "%timeit bm25_search(query, 2)\n",
    "print(\"LSI: \")\n",
    "%timeit lsi_rerank.search(query)\n",
    "print(\"LDA: \")\n",
    "%timeit lda_rerank.search(query)\n",
    "print(\"W2V: \")\n",
    "%timeit w2v_rerank.search(query)\n",
    "print(\"W2V(Pretrained): \")\n",
    "%timeit w2v_pretrained_rerank.search(query)\n",
    "print(\"D2V:\")\n",
    "%timeit d2v_rerank.search(query)"
   ]
  },
  {
   "cell_type": "markdown",
   "metadata": {
    "cell_id": "00161-7e54209c-2f42-4a49-bab8-78710df71f6b",
    "deepnote_cell_height": 55,
    "deepnote_cell_type": "markdown",
    "deletable": false,
    "editable": false,
    "nbgrader": {
     "cell_type": "markdown",
     "checksum": "c45c5e3f015b2de89d9d39ae3766368b",
     "grade": false,
     "grade_id": "cell-85c50f2ab9eec301",
     "locked": true,
     "schema_version": 3,
     "solution": false,
     "task": false
    }
   },
   "source": [
    "---\n",
    "As you can see, it is much faster (but BM25 is still orders of magnitude faster)."
   ]
  },
  {
   "cell_type": "markdown",
   "metadata": {
    "cell_id": "00162-b811d517-f3b2-45f1-9dac-88d1fe08cfda",
    "deepnote_cell_height": 311.375,
    "deepnote_cell_type": "markdown",
    "deletable": false,
    "editable": false,
    "nbgrader": {
     "cell_type": "markdown",
     "checksum": "1e2f3388e3807659f303fe31a75a010e",
     "grade": false,
     "grade_id": "cell-5071bb99b2af61cb",
     "locked": true,
     "schema_version": 3,
     "solution": false,
     "task": false
    }
   },
   "source": [
    "---\n",
    "## Section 10: Evaluation & Analysis (30 points) <a class=\"anchor\" id=\"reranking_eval\"></a>\n",
    "\n",
    "[Back to Part 2](#part2)\n",
    "\n",
    "[Previously](#evaluation) we have implemented some evaluation metrics and used them for measuring the ranking performance of term-based IR algorithms. In this section, we will do the same for semantic methods, both with and without re-ranking.\n",
    "\n",
    "### Section 10.1: Plot (10 points)\n",
    "\n",
    "First, gather the results. The results should consider the index set, the different search functions and different metrics. Plot the results in bar charts, per metric, with clear labels.\n",
    "\n",
    "Then, gather only the re-ranking models, and plot and compare them with the results obtained in part 1 (only index set 2)."
   ]
  },
  {
   "cell_type": "code",
   "execution_count": 100,
   "metadata": {
    "cell_id": "00163-2e475730-a0ad-40ed-b4cf-04ccd10e3e34",
    "deepnote_cell_height": 297,
    "deepnote_cell_type": "code",
    "deepnote_to_be_reexecuted": false,
    "deletable": false,
    "editable": false,
    "execution_millis": 5,
    "execution_start": 1645189150648,
    "nbgrader": {
     "cell_type": "code",
     "checksum": "4fe81520ac6413a803838913fd64de03",
     "grade": false,
     "grade_id": "cell-b672fe6dfae0b1ce",
     "locked": true,
     "schema_version": 3,
     "solution": false,
     "task": false
    },
    "source_hash": "c2b8785a"
   },
   "outputs": [],
   "source": [
    "list_of_sem_search_fns = [\n",
    "    (\"lda\", drm_lda.search),\n",
    "    (\"lsi\", drm_lsi.search),\n",
    "    (\"w2v\", drm_w2v.search),\n",
    "    (\"w2v_pretrained\", drm_w2v_pretrained.search),\n",
    "    (\"d2v\", drm_d2v.search),\n",
    "    (\"lsi_rr\", lsi_rerank.search),\n",
    "    (\"lda_rr\", lda_rerank.search),\n",
    "    (\"w2v_rr\", w2v_rerank.search),\n",
    "    (\"w2v_pretrained_rr\", w2v_pretrained_rerank.search),\n",
    "    (\"d2v_rr\", d2v_rerank.search),\n",
    "]"
   ]
  },
  {
   "cell_type": "code",
   "execution_count": 101,
   "metadata": {
    "cell_id": "00164-ba70f9d6-5fd4-4ccc-9243-56081705849b",
    "deepnote_cell_height": 2368.78125,
    "deepnote_cell_type": "code",
    "deepnote_output_heights": [
     472.390625,
     472.390625
    ],
    "deepnote_to_be_reexecuted": false,
    "deletable": false,
    "execution_millis": 699543,
    "execution_start": 1645197094542,
    "nbgrader": {
     "cell_type": "code",
     "checksum": "54707c4afac084299aeefa047259b4a9",
     "grade": true,
     "grade_id": "cell-7dd8273b0f5a3c22",
     "locked": false,
     "points": 10,
     "schema_version": 3,
     "solution": true,
     "task": false
    },
    "source_hash": "7b8cce53"
   },
   "outputs": [
    {
     "name": "stdout",
     "output_type": "stream",
     "text": [
      "\n",
      "Vanilla\n",
      "\tlda\n",
      "{'ERR': 0.07622392,\n",
      " 'MAP': 0.037867453,\n",
      " 'Precision@1': 0.03846154,\n",
      " 'Precision@10': 0.057692308,\n",
      " 'Precision@5': 0.053846158,\n",
      " 'Recall@1': 0.0011128918,\n",
      " 'Recall@10': 0.044752702,\n",
      " 'Recall@5': 0.016941637}\n",
      "\tlsi\n",
      "{'ERR': 0.124106765,\n",
      " 'MAP': 0.06353492,\n",
      " 'Precision@1': 0.115384616,\n",
      " 'Precision@10': 0.078846164,\n",
      " 'Precision@5': 0.08846155,\n",
      " 'Recall@1': 0.015510531,\n",
      " 'Recall@10': 0.057239242,\n",
      " 'Recall@5': 0.03464716}\n",
      "\tw2v\n",
      "{'ERR': 0.0112870075,\n",
      " 'MAP': 0.009517511,\n",
      " 'Precision@1': 0.0,\n",
      " 'Precision@10': 0.0038461538,\n",
      " 'Precision@5': 0.0,\n",
      " 'Recall@1': 0.0,\n",
      " 'Recall@10': 0.0027472528,\n",
      " 'Recall@5': 0.0}\n"
     ]
    },
    {
     "name": "stderr",
     "output_type": "stream",
     "text": [
      "/Users/thesofakillers/miniconda3/envs/ir1/lib/python3.6/site-packages/ipykernel_launcher.py:63: DeprecationWarning: Call to deprecated `wv` (Attribute will be removed in 4.0.0, use self instead).\n"
     ]
    },
    {
     "name": "stdout",
     "output_type": "stream",
     "text": [
      "\tw2v_pretrained\n",
      "{'ERR': 0.054419413,\n",
      " 'MAP': 0.03211335,\n",
      " 'Precision@1': 0.01923077,\n",
      " 'Precision@10': 0.03846154,\n",
      " 'Precision@5': 0.046153847,\n",
      " 'Recall@1': 0.0006203474,\n",
      " 'Recall@10': 0.02390376,\n",
      " 'Recall@5': 0.01720492}\n",
      "\td2v\n",
      "{'ERR': 0.076302014,\n",
      " 'MAP': 0.037808746,\n",
      " 'Precision@1': 0.0,\n",
      " 'Precision@10': 0.05769231,\n",
      " 'Precision@5': 0.057692308,\n",
      " 'Recall@1': 0.0,\n",
      " 'Recall@10': 0.049927868,\n",
      " 'Recall@5': 0.032635458}\n",
      "\n",
      "Reranked\n",
      "\tlsi\n",
      "{'ERR': 0.21969517,\n",
      " 'MAP': 0.1162707,\n",
      " 'Precision@1': 0.1923077,\n",
      " 'Precision@10': 0.18076923,\n",
      " 'Precision@5': 0.19230771,\n",
      " 'Recall@1': 0.033948842,\n",
      " 'Recall@10': 0.26622698,\n",
      " 'Recall@5': 0.15364788}\n",
      "\tlda\n",
      "{'ERR': 0.23234764,\n",
      " 'MAP': 0.11384019,\n",
      " 'Precision@1': 0.1923077,\n",
      " 'Precision@10': 0.1923077,\n",
      " 'Precision@5': 0.22692308,\n",
      " 'Recall@1': 0.032226183,\n",
      " 'Recall@10': 0.31153107,\n",
      " 'Recall@5': 0.18481627}\n",
      "\tw2v\n",
      "{'ERR': 0.14684997,\n",
      " 'MAP': 0.08139937,\n",
      " 'Precision@1': 0.07692308,\n",
      " 'Precision@10': 0.10961538,\n",
      " 'Precision@5': 0.10769231,\n",
      " 'Recall@1': 0.008098266,\n",
      " 'Recall@10': 0.19460909,\n",
      " 'Recall@5': 0.08810588}\n",
      "\tw2v_pretrained\n",
      "{'ERR': 0.16118278,\n",
      " 'MAP': 0.09908687,\n",
      " 'Precision@1': 0.09615385,\n",
      " 'Precision@10': 0.15,\n",
      " 'Precision@5': 0.14615384,\n",
      " 'Recall@1': 0.0070565995,\n",
      " 'Recall@10': 0.20512038,\n",
      " 'Recall@5': 0.10120458}\n",
      "\td2v\n",
      "{'ERR': 0.25213426,\n",
      " 'MAP': 0.115863055,\n",
      " 'Precision@1': 0.25,\n",
      " 'Precision@10': 0.2096154,\n",
      " 'Precision@5': 0.21153845,\n",
      " 'Recall@1': 0.049612306,\n",
      " 'Recall@10': 0.30988362,\n",
      " 'Recall@5': 0.15720868}\n"
     ]
    },
    {
     "data": {
      "image/png": "[encoded data removed]",
      "text/plain": [
       "<Figure size 1008x576 with 8 Axes>"
      ]
     },
     "metadata": {
      "needs_background": "light"
     },
     "output_type": "display_data"
    }
   ],
   "source": [
    "# # YOUR CODE HERE\n",
    "# takes roughly 10 mins to run\n",
    "fig, axes = plt.subplots(2, 4, figsize=(14, 8), sharey=False)\n",
    "axes = axes.flatten()\n",
    "\n",
    "# need this to make side by side bars\n",
    "N = len(list_of_sem_search_fns) // 2\n",
    "method_loc = np.arange(N)\n",
    "bar_width = 0.25\n",
    "\n",
    "vanilla_search_fns = list_of_sem_search_fns[:N]\n",
    "reranked_search_fns = list_of_sem_search_fns[N:]\n",
    "\n",
    "search_fns_map = {\"Vanilla\": vanilla_search_fns, \"Reranked\": reranked_search_fns}\n",
    "\n",
    "for j, mode in enumerate([\"Vanilla\", \"Reranked\"]):\n",
    "    results = {}\n",
    "    print(f\"\\n{mode}\")\n",
    "    \n",
    "    for search_alg, search_fn in search_fns_map[mode]:\n",
    "        # remove _rr from reranked algo's so that the labels match\n",
    "        search_alg = search_alg.replace(\"_rr\", \"\")\n",
    "        results[search_alg] = evaluate_search_fn(search_fn, list_of_metrics)\n",
    "        print(f\"\\t{search_alg}\")\n",
    "        pprint(results[search_alg])\n",
    "\n",
    "    for i, (metric_name, _metric_fn) in enumerate(list_of_metrics):\n",
    "        metric_results = {k: v[metric_name] for k, v in results.items()}\n",
    "\n",
    "        labels = list(metric_results.keys())\n",
    "        values = [metric_results[label] for label in labels]\n",
    "\n",
    "        axes[i].grid(True, which=\"major\", axis=\"y\", alpha=0.35)\n",
    "        if i % 4 == 0:\n",
    "            axes[i].set_ylabel(\"Average Metric Value\")\n",
    "        if j == 0:\n",
    "            axes[i].bar(method_loc, values, bar_width, label=f\"{mode}\")\n",
    "        else:\n",
    "            axes[i].bar(method_loc + bar_width, values, bar_width, label=f\"{mode}\")\n",
    "            axes[i].set_xticks(method_loc + bar_width / 2)\n",
    "            axes[i].set_xticklabels(labels, rotation=30, ha=\"right\")\n",
    "            axes[i].set_title(metric_name)\n",
    "            if i == 7:\n",
    "                axes[i].legend()\n",
    "\n",
    "\n",
    "fig.suptitle(\"Comparison of different Semantic IR algorithms across various Metrics\")\n",
    "fig.tight_layout(rect=[0, 0.03, 1, 0.95])\n",
    "plt.show()\n",
    "\n",
    "\n",
    "# #2nd Plot: Compare semantic search with reranking to models from part 1,\n",
    "# commented out as it is extra work: uncomment and rerun to see (will take time)\n",
    "\n",
    "# fig, axes = plt.subplots(2, 4, figsize=(14, 7), sharey=False)\n",
    "# axes = axes.flatten()\n",
    "\n",
    "# list_of_rerank_sem_search_fns = [\n",
    "#     (\"lsi_rr\", lsi_rerank.search),\n",
    "#     (\"lda_rr\", lda_rerank.search),\n",
    "#     (\"w2v_rr\", w2v_rerank.search),\n",
    "#     # (\"w2v_pretrained_rr\", w2v_pretrained_rerank.search),\n",
    "#     (\"d2v_rr\", d2v_rerank.search),\n",
    "# ]\n",
    "\n",
    "# N = len(list_of_rerank_sem_search_fns + list_of_search_fns)\n",
    "# method_loc = np.arange(N)\n",
    "\n",
    "# results = {}\n",
    "\n",
    "# for i, (search_alg, search_fn) in enumerate(reranked_search_fns + list_of_search_fns):\n",
    "#     if i >= len(list_of_rerank_sem_search_fns):\n",
    "#         results[search_alg] = evaluate_search_fn(\n",
    "#             search_fn, list_of_metrics, index_set=2\n",
    "#         )\n",
    "#     else:\n",
    "#         results[search_alg] = evaluate_search_fn(search_fn, list_of_metrics)\n",
    "\n",
    "# for i, (metric_name, _metric_fn) in enumerate(list_of_metrics):\n",
    "#     metric_results = {k: v[metric_name] for k, v in results.items()}\n",
    "\n",
    "#     labels = list(metric_results.keys())\n",
    "#     values = [metric_results[label] for label in labels]\n",
    "\n",
    "#     axes[i].grid(True, which=\"major\", axis=\"y\", alpha=0.35)\n",
    "#     if i % 4 == 0:\n",
    "#         axes[i].set_ylabel(\"Average Metric Value\")\n",
    "#     axes[i].bar(method_loc, values, bar_width)\n",
    "#     axes[i].set_xticks(method_loc)\n",
    "#     axes[i].set_xticklabels(labels, rotation=45)\n",
    "#     axes[i].set_title(metric_name)\n",
    "\n",
    "# fig.suptitle(\"Comparison between semantic and term-based ranking algorithms\")\n",
    "# fig.tight_layout(rect=[0, 0.03, 1, 0.95])\n",
    "# plt.show()"
   ]
  },
  {
   "cell_type": "markdown",
   "metadata": {
    "cell_id": "00165-821599fc-9264-4123-a542-2b0354dde4f7",
    "deepnote_cell_height": 145.1875,
    "deepnote_cell_type": "markdown",
    "deletable": false,
    "editable": false,
    "nbgrader": {
     "cell_type": "markdown",
     "checksum": "a8a3b6189bdde66704c694d85e38d049",
     "grade": false,
     "grade_id": "cell-deb2ef3daa306e82",
     "locked": true,
     "schema_version": 3,
     "solution": false,
     "task": false
    }
   },
   "source": [
    "### Section 10.2: Summary (20 points)\n",
    "\n",
    "Your summary should compare methods from Part 1 and Part 2 (only for index set 2). State what you expected to see in the results, followed by either supporting evidence *or* justify why the results did not support your expectations. Consider the availability of data, scalability, domain/type of data, etc."
   ]
  },
  {
   "cell_type": "markdown",
   "metadata": {
    "cell_id": "00166-930e721d-9166-4296-ad5c-4c4449f6c99e",
    "deepnote_cell_height": 52.390625,
    "deepnote_cell_type": "markdown",
    "deletable": false,
    "nbgrader": {
     "cell_type": "markdown",
     "checksum": "ff97c43837d10bff6aaffa75e1492887",
     "grade": true,
     "grade_id": "cell-ec5dd7d9cf59dd86",
     "locked": false,
     "points": 20,
     "schema_version": 3,
     "solution": true,
     "task": false
    }
   },
   "source": [
    "1. In general term-based models perform better than semantic ones. This is\n",
    "   somewhat surprising - we would expect that semantic models would be better at\n",
    "   capturing relevance without the need for relevant documents to contain the\n",
    "   exact tokens in the query.\n",
    "   - TODO why do semantic models perform worse?? ->some ideas:\n",
    "     1. pretrained models have been trained on a corpus from a different domain\n",
    "        therefore representations are not as good for current domain.\n",
    "     2. semantic models might be better for much larger corpus with more\n",
    "        documents where words occur more frequently in similar contexts.\n",
    "2. Reranking clearly works better. This might be due to the fact that we first\n",
    "   use term-based models and as discussed in 1. we know that term-based models\n",
    "   perform better in the first place.\n",
    "3. W2V performs very poorly - likely because the corpus is too small for\n",
    "   meaningful representations to be generated for words.\n",
    "4. LSI and LDA perform better than any of the word or document representation\n",
    "   models. Again could be because those methods use SVD for word representation\n",
    "   instead of learning based on data and should therefore be better for a\n",
    "   smaller corpus.\n",
    "\n",
    "## Notes Giulio\n",
    "\n",
    "- Maybe also add the even the pretrained w2v isn't that great, probably because\n",
    "  often words from our documents weren't found in the model, perhaps due to\n",
    "  different preprocessing pipelines or due to lack of finetuning on our end\n",
    "- ngl i dont know much about lda and lsi so hard for me to make other comments\n",
    "  here"
   ]
  }
 ],
 "metadata": {
  "deepnote": {},
  "deepnote_execution_queue": [],
  "deepnote_notebook_id": "13b77af2-2689-4e0d-949d-ce0f01912b71",
  "kernelspec": {
   "display_name": "Python 3",
   "language": "python",
   "name": "python3"
  },
  "language_info": {
   "codemirror_mode": {
    "name": "ipython",
    "version": 3
   },
   "file_extension": ".py",
   "mimetype": "text/x-python",
   "name": "python",
   "nbconvert_exporter": "python",
   "pygments_lexer": "ipython3",
   "version": "3.6.5"
  },
  "toc": {
   "base_numbering": 1,
   "nav_menu": {},
   "number_sections": true,
   "sideBar": true,
   "skip_h1_title": false,
   "title_cell": "Table of Contents",
   "title_sidebar": "Contents",
   "toc_cell": false,
   "toc_position": {},
   "toc_section_display": true,
   "toc_window_display": false
  },
  "toc-autonumbering": false
 },
 "nbformat": 4,
 "nbformat_minor": 4
}
