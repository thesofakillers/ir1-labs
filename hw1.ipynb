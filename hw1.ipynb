{
 "cells": [
  {
   "cell_type": "markdown",
   "metadata": {
    "deletable": false,
    "editable": false,
    "nbgrader": {
     "cell_type": "markdown",
     "checksum": "1bba455de8bc2825ca70469169bbadaa",
     "grade": false,
     "grade_id": "cell-c9cd9e550239e812",
     "locked": true,
     "schema_version": 3,
     "solution": false,
     "task": false
    }
   },
   "source": [
    "# Homework 1 (Total Points: 250) <a class=\"anchor\" id=\"top\"></a>\n",
    "\n",
    "\n",
    "**Submission instructions**:\n",
    "- The cells with the `# YOUR CODE HERE` denote that these sections are graded and you need to add your implementation.\n",
    "- For Part 1: You can use the `nltk`, `NumPy`, and `matplotlib` libraries here. Other libraries, e.g., `gensim` or `scikit-learn`, may not be used. For Part 2: `gensim` is allowed in addition to the imported libraries in the next code cell\n",
    "- Please use Python 3.6.5 and `pip install -r requirements.txt` to avoid version issues.\n",
    "- The notebook you submit has to have the student ids, separated by underscores (E.g., `12341234_12341234_12341234_hw1.ipynb`).\n",
    "- This will be parsed by a regexp, **so please double check your filename**.\n",
    "- Only one member of each group has to submit the file (**please do not compress the .ipynb file when you will submit it**) to canvas.\n",
    "- **Make sure to check that your notebook runs before submission**. A quick way to do this is to restart the kernel and run all the cells.  \n",
    "- Do not change the number of arugments in the given functions.\n",
    "- **Please do not delete/add new cells**. Removing cells **will** lead to grade deduction. \n",
    "- Note, that you are not allowed to use Google Colab.\n",
    "\n",
    "\n",
    "**Learning Goals**:\n",
    "- [Part 1, Term-based matching](#part1) (165 points):\n",
    "    - Learn how to load a dataset and process it.\n",
    "    - Learn how to implement several standard IR methods (TF-IDF, BM25, QL) and understand their weaknesses & strengths.\n",
    "    - Learn how to evaluate IR methods.\n",
    "- [Part 2, Semantic-based matching](#part2) (85 points):\n",
    "    - Learn how to implement vector-space retrieval methods (LSI, LDA).\n",
    "    - Learn how to use LSI and LDA for re-ranking.\n",
    "\n",
    "    \n",
    "**Resources**: \n",
    "- **Part 1**: Sections 2.3, 4.1, 4.2, 4.3, 5.3, 5.6, 5.7, 6.2, 7, 8 of [Search Engines: Information Retrieval in Practice](https://ciir.cs.umass.edu/downloads/SEIRiP.pdf)\n",
    "- **Part 2**: [LSI - Chapter 18](https://nlp.stanford.edu/IR-book/pdf/18lsi.pdf) from [Introduction to Information Retrieval](https://nlp.stanford.edu/IR-book/) book and the [original LDA paper](https://jmlr.org/papers/volume3/blei03a/blei03a.pdf)"
   ]
  },
  {
   "cell_type": "code",
   "execution_count": 31,
   "metadata": {
    "deletable": false,
    "editable": false,
    "nbgrader": {
     "cell_type": "code",
     "checksum": "c55bfe94ff1f564dd595547e516c4c6e",
     "grade": false,
     "grade_id": "cell-f5357fabdb9660e3",
     "locked": true,
     "schema_version": 3,
     "solution": false,
     "task": false
    }
   },
   "outputs": [],
   "source": [
    "# imports \n",
    "# TODO: Ensure that no additional library is imported in the notebook. \n",
    "# TODO: Only the standard library and the following libraries are allowed:\n",
    "# TODO: You can also use unlisted classes from these libraries or standard libraries (such as defaultdict, Counter, ...).\n",
    "\n",
    "import os\n",
    "import zipfile\n",
    "from functools import partial\n",
    "\n",
    "import nltk\n",
    "import requests\n",
    "import numpy as np\n",
    "from tqdm import tqdm\n",
    "\n",
    "import matplotlib.pyplot as plt\n",
    "from matplotlib.pyplot import cm\n",
    "\n",
    "from ipywidgets import widgets\n",
    "from IPython.display import display, HTML\n",
    "#from IPython.html import widgets\n",
    "from collections import namedtuple\n",
    "\n",
    "%matplotlib inline"
   ]
  },
  {
   "cell_type": "markdown",
   "metadata": {
    "deletable": false,
    "editable": false,
    "nbgrader": {
     "cell_type": "markdown",
     "checksum": "c8328f758ca5b69f76eee03dbbdd4715",
     "grade": false,
     "grade_id": "cell-7428e12ed184408b",
     "locked": true,
     "schema_version": 3,
     "solution": false,
     "task": false
    }
   },
   "source": [
    "\n",
    "# Part 1: Term-based Matching (165 points) <a class=\"anchor\" id=\"part1\"></a>\n",
    "\n",
    "[Back to top](#top)\n",
    "\n",
    "In the first part, we will learn the basics of IR from loading and preprocessing the material, to implementing some well known search algorithms, to evaluating the ranking performance of the implemented algorithms. We will be using the CACM dataset throughout the assignment. The CACM dataset is a collection of titles and abstracts from the journal CACM (Communication of the ACM).\n",
    "\n",
    "Table of contents:\n",
    "- [Section 1: Text Processing](#text_processing) (5 points)\n",
    "- [Section 2: Indexing](#indexing) (10 points)\n",
    "- [Section 3: Ranking](#ranking) (80 points)\n",
    "- [Section 4: Evaluation](#evaluation) (40 points)\n",
    "- [Section 5: Analysis](#analysis) (30 points)\n"
   ]
  },
  {
   "cell_type": "markdown",
   "metadata": {
    "deletable": false,
    "editable": false,
    "nbgrader": {
     "cell_type": "markdown",
     "checksum": "4e3f938065183dc743aa8254b96b4f5e",
     "grade": false,
     "grade_id": "cell-4b24825cf4ae55ec",
     "locked": true,
     "schema_version": 3,
     "solution": false,
     "task": false
    }
   },
   "source": [
    "---\n",
    "## Section 1: Text Processing (5 points)<a class=\"anchor\" id=\"text_processing\"></a>\n",
    "\n",
    "[Back to Part 1](#part1)\n",
    "\n",
    "In this section, we will load the dataset and learn how to clean up the data to make it usable for an IR system. \n",
    "First, go through the implementation of the following functions:\n",
    "- `read_cacm_docs`: Reads in the CACM documents.\n",
    "- `read_queries`: Reads in the CACM queries.\n",
    "- `load_stopwords`: Loads the stopwords.\n",
    "\n",
    "The points of this section are earned for the following implementations:\n",
    "- `tokenize` (3 points): Tokenizes the input text.\n",
    "- `stem_token` (2 points): Stems the given token. \n",
    "\n",
    "We are using the [CACM dataset](http://ir.dcs.gla.ac.uk/resources/test_collections/cacm/), which is a small, classic IR dataset, composed of a collection of titles and abstracts from the journal CACM. It comes with relevance judgements for queries, so we can evaluate our IR system. \n"
   ]
  },
  {
   "cell_type": "markdown",
   "metadata": {
    "deletable": false,
    "editable": false,
    "nbgrader": {
     "cell_type": "markdown",
     "checksum": "0155d897c7016389d73d160921947a6f",
     "grade": false,
     "grade_id": "cell-45651364e7af6d5a",
     "locked": true,
     "schema_version": 3,
     "solution": false,
     "task": false
    }
   },
   "source": [
    "---\n",
    "### 1.1 Read the CACM documents\n",
    "\n",
    "\n",
    "The following cell downloads the dataset and unzips it to a local directory."
   ]
  },
  {
   "cell_type": "code",
   "execution_count": 3,
   "metadata": {
    "deletable": false,
    "editable": false,
    "nbgrader": {
     "cell_type": "code",
     "checksum": "4d43c9ad6e77cc01ce4cef0c34824930",
     "grade": false,
     "grade_id": "cell-bbc3030bb3fe7e02",
     "locked": true,
     "schema_version": 3,
     "solution": false,
     "task": false
    }
   },
   "outputs": [],
   "source": [
    "def download_dataset():\n",
    "    folder_path = os.environ.get(\"IR1_DATA_PATH\")\n",
    "    if not folder_path:\n",
    "        folder_path = \"./datasets/\"\n",
    "    os.makedirs(folder_path, exist_ok=True)\n",
    "    \n",
    "    file_location = os.path.join(folder_path, \"cacm.zip\")\n",
    "    \n",
    "    # download file if it doesn't exist\n",
    "    if not os.path.exists(file_location):\n",
    "        \n",
    "        url = \"https://surfdrive.surf.nl/files/index.php/s/M0FGJpX2p8wDwxR/download\"\n",
    "\n",
    "        with open(file_location, \"wb\") as handle:\n",
    "            print(f\"Downloading file from {url} to {file_location}\")\n",
    "            response = requests.get(url, stream=True)\n",
    "            for data in tqdm(response.iter_content()):\n",
    "                handle.write(data)\n",
    "            print(\"Finished downloading file\")\n",
    "    \n",
    "    if not os.path.exists(os.path.join(folder_path, \"train.txt\")):\n",
    "        \n",
    "        # unzip file\n",
    "        with zipfile.ZipFile(file_location, 'r') as zip_ref:\n",
    "            zip_ref.extractall(folder_path)\n",
    "        \n",
    "download_dataset()"
   ]
  },
  {
   "cell_type": "markdown",
   "metadata": {
    "deletable": false,
    "editable": false,
    "nbgrader": {
     "cell_type": "markdown",
     "checksum": "31609b0d61d0c74cbd69bc43e47c23be",
     "grade": false,
     "grade_id": "cell-a7dd9a9bf98ede05",
     "locked": true,
     "schema_version": 3,
     "solution": false,
     "task": false
    }
   },
   "source": [
    "---\n",
    "\n",
    "You can see a brief description of each file in the dataset by looking at the README file:"
   ]
  },
  {
   "cell_type": "code",
   "execution_count": 4,
   "metadata": {
    "deletable": false,
    "editable": false,
    "nbgrader": {
     "cell_type": "code",
     "checksum": "cb3c9a2b8b2bf4fd5b7446b0c4c00f43",
     "grade": false,
     "grade_id": "cell-9b6ff1a17124711f",
     "locked": true,
     "schema_version": 3,
     "solution": false,
     "task": false
    }
   },
   "outputs": [
    {
     "name": "stdout",
     "output_type": "stream",
     "text": [
      "Files in this directory with sizes:\n",
      "          0 Jun 19 21:01 README\n",
      "\n",
      "    2187734 Jun 19 20:55 cacm.all              text of documents\n",
      "        626 Jun 19 20:58 cite.info             key to citation info\n",
      "                                                (the X sections in cacm.all)\n",
      "       2668 Jun 19 20:55 common_words           stop words used by smart\n",
      "       2194 Jun 19 20:55 make_coll*             shell script to make collection\n",
      "       1557 Jun 19 20:55 make_coll_term*        ditto (both useless without\n",
      "                                                smart system)\n",
      "       9948 Jun 19 20:55 qrels.text             relation giving\n",
      "                                                    qid did 0 0\n",
      "                                                to indicate dument did is\n",
      "                                                relevant to query qid\n",
      "      13689 Jun 19 20:55 query.text             Original text of the query\n",
      "\n"
     ]
    }
   ],
   "source": [
    "##### Read the README file \n",
    "with open (\"./datasets/README\",\"r\") as file:\n",
    "    readme = file.read()\n",
    "    print(readme)\n",
    "#####"
   ]
  },
  {
   "cell_type": "markdown",
   "metadata": {
    "deletable": false,
    "editable": false,
    "nbgrader": {
     "cell_type": "markdown",
     "checksum": "6e2712c4c4632bf7486a532f7f18074d",
     "grade": false,
     "grade_id": "cell-73351431869fda76",
     "locked": true,
     "schema_version": 3,
     "solution": false,
     "task": false
    }
   },
   "source": [
    "---\n",
    "We are interested in 4 files:\n",
    "- `cacm.all` : Contains the text for all documents. Note that some documents do not have abstracts available\n",
    "- `query.text` : The text of all queries\n",
    "- `qrels.text` : The relevance judgements\n",
    "- `common_words` : A list of common words. This may be used as a collection of stopwords"
   ]
  },
  {
   "cell_type": "code",
   "execution_count": 5,
   "metadata": {
    "deletable": false,
    "editable": false,
    "nbgrader": {
     "cell_type": "code",
     "checksum": "f1162c15177eb4ffe466531d03cff4a2",
     "grade": false,
     "grade_id": "cell-b44dd14079f278ca",
     "locked": true,
     "schema_version": 3,
     "solution": false,
     "task": false
    }
   },
   "outputs": [
    {
     "name": "stdout",
     "output_type": "stream",
     "text": [
      ".I 1\n",
      ".T\n",
      "Preliminary Report-International Algebraic Language\n",
      ".B\n",
      "CACM December, 1958\n",
      ".A\n",
      "Perlis, A. J.\n",
      "Samelson,K.\n",
      ".N\n",
      "CA581203 JB March 22, 1978  8:28 PM\n",
      ".X\n",
      "100\t5\t1\n",
      "123\t5\t1\n",
      "164\t5\t1\n",
      "1\t5\t1\n",
      "1\t5\t1\n",
      "1\t5\t1\n",
      "205\t5\t1\n",
      "210\t5\t1\n",
      "214\t5\t1\n",
      "1982\t5\t1\n",
      "398\t5\t1\n",
      "642\t5\t1\n",
      "669\t5\t1\n",
      "1\t6\t1\n",
      "1\t6\t1\n",
      "1\t6\t1\n",
      "1\t6\t1\n",
      "1\t6\t1\n",
      "1\t6\t1\n",
      "1\t6\t1\n",
      "1\t6\t1\n",
      "1\t6\t1\n",
      "1\t6\t1\n",
      "165\t6\t1\n",
      "196\t6\t1\n",
      "196\t6\t1\n",
      "1273\t6\t1\n",
      "1883\t6\t1\n",
      "324\t6\t1\n",
      "43\t6\t1\n",
      "53\t6\t1\n",
      "91\t6\t1\n",
      "410\t6\t1\n",
      "3184\t6\t1\n",
      "\n"
     ]
    }
   ],
   "source": [
    "##### The first 45 lines of the CACM dataset forms the first record\n",
    "# We are interested only in 3 fields. \n",
    "# 1. the '.I' field, which is the document id\n",
    "# 2. the '.T' field (the title) and\n",
    "# 3. the '.W' field (the abstract, which may be absent)\n",
    "with open (\"./datasets/cacm.all\",\"r\") as file:\n",
    "    cacm_all = \"\".join(file.readlines()[:45])\n",
    "    print(cacm_all)\n",
    "#####"
   ]
  },
  {
   "cell_type": "markdown",
   "metadata": {
    "deletable": false,
    "editable": false,
    "nbgrader": {
     "cell_type": "markdown",
     "checksum": "250b413baccd8efb186bb46a34ae0060",
     "grade": false,
     "grade_id": "cell-c4bf2e263ec553d8",
     "locked": true,
     "schema_version": 3,
     "solution": false,
     "task": false
    }
   },
   "source": [
    "---\n",
    "\n",
    "The following function reads the `cacm.all` file. Note that each document has a variable number of lines. The `.I` field denotes a new document:"
   ]
  },
  {
   "cell_type": "code",
   "execution_count": 6,
   "metadata": {
    "deletable": false,
    "editable": false,
    "nbgrader": {
     "cell_type": "code",
     "checksum": "57d757e6a7a6938740dc899022b4f291",
     "grade": false,
     "grade_id": "cell-b736116eb419c624",
     "locked": true,
     "schema_version": 3,
     "solution": false,
     "task": false
    }
   },
   "outputs": [],
   "source": [
    "def read_cacm_docs(root_folder = \"./datasets/\"):\n",
    "    \"\"\"\n",
    "        Reads in the CACM documents. The dataset is assumed to be in the folder \"./datasets/\" by default\n",
    "        Returns: A list of 2-tuples: (doc_id, document), where 'document' is a single string created by \n",
    "            appending the title and abstract (separated by a \"\\n\"). \n",
    "            In case the record doesn't have an abstract, the document is composed only by the title\n",
    "    \"\"\"\n",
    "    with open(os.path.join(root_folder, \"cacm.all\")) as reader:\n",
    "        lines = reader.readlines()\n",
    "    \n",
    "    doc_id, title, abstract = None, None, None\n",
    "    \n",
    "    docs = []\n",
    "    line_idx = 0\n",
    "    while line_idx < len(lines):\n",
    "        line = lines[line_idx]\n",
    "        if line.startswith(\".I\"):\n",
    "            if doc_id is not None:\n",
    "                docs.append((doc_id, title, abstract))\n",
    "                doc_id, title, abstract = None, None, None\n",
    "            \n",
    "            doc_id = line.split()[-1]\n",
    "            line_idx += 1\n",
    "        elif line.startswith(\".T\"):\n",
    "            # start at next line\n",
    "            line_idx += 1\n",
    "            temp_lines = []\n",
    "            # read till next '.'\n",
    "            while not lines[line_idx].startswith(\".\"):\n",
    "                temp_lines.append(lines[line_idx].strip(\"\\n\"))\n",
    "                line_idx += 1\n",
    "            title = \"\\n\".join(temp_lines).strip(\"\\n\")\n",
    "        elif line.startswith(\".W\"):\n",
    "            # start at next line\n",
    "            line_idx += 1\n",
    "            temp_lines = []\n",
    "            # read till next '.'\n",
    "            while not lines[line_idx].startswith(\".\"):\n",
    "                temp_lines.append(lines[line_idx].strip(\"\\n\"))\n",
    "                line_idx += 1\n",
    "            abstract = \"\\n\".join(temp_lines).strip(\"\\n\")\n",
    "        else:\n",
    "            line_idx += 1\n",
    "    \n",
    "    docs.append((doc_id, title, abstract))\n",
    "    \n",
    "    p_docs = []\n",
    "    for (did, t, a) in docs:\n",
    "        if a is None:\n",
    "            a = \"\"\n",
    "        p_docs.append((did, t + \"\\n\" + a))\n",
    "    return p_docs\n"
   ]
  },
  {
   "cell_type": "code",
   "execution_count": 7,
   "metadata": {
    "deletable": false,
    "editable": false,
    "nbgrader": {
     "cell_type": "code",
     "checksum": "2f81930fcd89670b6e20e2255e1f2369",
     "grade": false,
     "grade_id": "cell-a1c43818e0d3fd79",
     "locked": true,
     "schema_version": 3,
     "solution": false,
     "task": false
    }
   },
   "outputs": [],
   "source": [
    "##### Function check\n",
    "docs = read_cacm_docs()\n",
    "\n",
    "assert isinstance(docs, list)\n",
    "assert len(docs) == 3204, \"There should be exactly 3204 documents\"\n",
    "\n",
    "unzipped_docs = list(zip(*docs))\n",
    "assert np.sum(np.array(list(map(int,unzipped_docs[0])))) == 5134410\n",
    "\n",
    "##### "
   ]
  },
  {
   "cell_type": "markdown",
   "metadata": {
    "deletable": false,
    "editable": false,
    "nbgrader": {
     "cell_type": "markdown",
     "checksum": "25fd3cfaf2137c56002b850699b3c9d3",
     "grade": false,
     "grade_id": "cell-5ed2ddc91f73c60e",
     "locked": true,
     "schema_version": 3,
     "solution": false,
     "task": false
    }
   },
   "source": [
    "---\n",
    "### 1.2 Read the CACM queries\n",
    "\n",
    "Next, let us read the queries. They are formatted similarly:"
   ]
  },
  {
   "cell_type": "code",
   "execution_count": 8,
   "metadata": {
    "deletable": false,
    "editable": false,
    "nbgrader": {
     "cell_type": "code",
     "checksum": "5d26c0908e758acb9968b84056b1060a",
     "grade": false,
     "grade_id": "cell-5c7e8e7c4fc2757f",
     "locked": true,
     "schema_version": 3,
     "solution": false,
     "task": false
    }
   },
   "outputs": [
    {
     "name": "stdout",
     "output_type": "stream",
     "text": [
      ".I 1\n",
      ".W\n",
      " What articles exist which deal with TSS (Time Sharing System), an\n",
      "operating system for IBM computers?\n",
      ".N\n",
      " 1. Richard Alexander, Comp Serv, Langmuir Lab (TSS)\n",
      " \n",
      ".I 2\n",
      ".W\n",
      " I am interested in articles written either by Prieve or Udo Pooch\n",
      ".A\n",
      "Prieve, B.\n",
      "Pooch, U.\n",
      ".N\n",
      " 2. Richard Alexander, Comp Serv, Langmuir Lab (author = Pooch or Prieve)\n"
     ]
    }
   ],
   "source": [
    "##### The first 15 lines of 'query.text' has 2 queries\n",
    "# We are interested only in 2 fields. \n",
    "# 1. the '.I' - the query id\n",
    "# 2. the '.W' - the query\n",
    "!head -15 ./datasets/query.text\n",
    "#####"
   ]
  },
  {
   "cell_type": "markdown",
   "metadata": {
    "deletable": false,
    "editable": false,
    "nbgrader": {
     "cell_type": "markdown",
     "checksum": "8f19f311a660f30e3f86cb0f7037d54a",
     "grade": false,
     "grade_id": "cell-88e293507d2dcef6",
     "locked": true,
     "schema_version": 3,
     "solution": false,
     "task": false
    }
   },
   "source": [
    "---\n",
    "\n",
    "The following function reads the `query.text` file:"
   ]
  },
  {
   "cell_type": "code",
   "execution_count": 9,
   "metadata": {
    "deletable": false,
    "editable": false,
    "nbgrader": {
     "cell_type": "code",
     "checksum": "e3fbb193211007672849487f5cff1664",
     "grade": false,
     "grade_id": "cell-433e3ad5d0e2572a",
     "locked": true,
     "schema_version": 3,
     "solution": false,
     "task": false
    }
   },
   "outputs": [],
   "source": [
    "def read_queries(root_folder = \"./datasets/\"):\n",
    "    \"\"\"\n",
    "        Reads in the CACM queries. The dataset is assumed to be in the folder \"./datasets/\" by default\n",
    "        Returns: A list of 2-tuples: (query_id, query)\n",
    "    \"\"\"\n",
    "    with open(os.path.join(root_folder, \"query.text\")) as reader:\n",
    "        lines = reader.readlines()\n",
    "    \n",
    "    query_id, query = None, None\n",
    "    \n",
    "    queries = []\n",
    "    line_idx = 0\n",
    "    while line_idx < len(lines):\n",
    "        line = lines[line_idx]\n",
    "        if line.startswith(\".I\"):\n",
    "            if query_id is not None:\n",
    "                queries.append((query_id, query))\n",
    "                query_id, query = None, None\n",
    "    \n",
    "            query_id = line.split()[-1]\n",
    "            line_idx += 1\n",
    "        elif line.startswith(\".W\"):\n",
    "            # start at next line\n",
    "            line_idx += 1\n",
    "            temp_lines = []\n",
    "            # read till next '.'\n",
    "            while not lines[line_idx].startswith(\".\"):\n",
    "                temp_lines.append(lines[line_idx].strip(\"\\n\"))\n",
    "                line_idx += 1\n",
    "            query = \"\\n\".join(temp_lines).strip(\"\\n\")\n",
    "        else:\n",
    "            line_idx += 1\n",
    "    \n",
    "    queries.append((query_id, query))\n",
    "    return queries\n"
   ]
  },
  {
   "cell_type": "code",
   "execution_count": 10,
   "metadata": {
    "deletable": false,
    "editable": false,
    "nbgrader": {
     "cell_type": "code",
     "checksum": "a897b9771b54f447be3418d7246fc4a0",
     "grade": false,
     "grade_id": "cell-6ec540abce66c598",
     "locked": true,
     "schema_version": 3,
     "solution": false,
     "task": false
    }
   },
   "outputs": [],
   "source": [
    "##### Function check\n",
    "queries = read_queries()\n",
    "\n",
    "assert isinstance(queries, list)\n",
    "assert len(queries) == 64 and all([q[1] is not None for q in queries]), \"There should be exactly 64 queries\"\n",
    "\n",
    "unzipped_queries = list(zip(*queries))\n",
    "assert np.sum(np.array(list(map(int,unzipped_queries[0])))) == 2080\n",
    "\n",
    "##### "
   ]
  },
  {
   "cell_type": "markdown",
   "metadata": {
    "deletable": false,
    "editable": false,
    "nbgrader": {
     "cell_type": "markdown",
     "checksum": "a300c41912ac63b239070b4c15c9f5c5",
     "grade": false,
     "grade_id": "cell-1c31569491d7b782",
     "locked": true,
     "schema_version": 3,
     "solution": false,
     "task": false
    }
   },
   "source": [
    "---\n",
    "### 1.3 Read the stop words\n",
    "\n",
    "We use the common words stored in `common_words`:"
   ]
  },
  {
   "cell_type": "code",
   "execution_count": 11,
   "metadata": {
    "deletable": false,
    "editable": false,
    "nbgrader": {
     "cell_type": "code",
     "checksum": "1ad6f5bae6a792504c1c8513ae5751ad",
     "grade": false,
     "grade_id": "cell-34bdb63461418a96",
     "locked": true,
     "schema_version": 3,
     "solution": false,
     "task": false
    }
   },
   "outputs": [
    {
     "name": "stdout",
     "output_type": "stream",
     "text": [
      "a\n",
      "about\n",
      "above\n",
      "accordingly\n",
      "across\n",
      "after\n",
      "afterwards\n",
      "again\n",
      "against\n",
      "all\n"
     ]
    }
   ],
   "source": [
    "##### Read the stop words file \n",
    "!head ./datasets/common_words\n",
    "##### Read the README file "
   ]
  },
  {
   "cell_type": "markdown",
   "metadata": {
    "deletable": false,
    "editable": false,
    "nbgrader": {
     "cell_type": "markdown",
     "checksum": "6d0fe612e770213b6397c2179b07a966",
     "grade": false,
     "grade_id": "cell-4744bde0338895d8",
     "locked": true,
     "schema_version": 3,
     "solution": false,
     "task": false
    }
   },
   "source": [
    "---\n",
    "\n",
    "The following function reads the `common_words` file (For better coverage, we try to keep them in lowercase):"
   ]
  },
  {
   "cell_type": "code",
   "execution_count": 12,
   "metadata": {
    "deletable": false,
    "editable": false,
    "nbgrader": {
     "cell_type": "code",
     "checksum": "9409713fd26eb0c33587e190638997c4",
     "grade": false,
     "grade_id": "cell-7357aa40f64e5bcb",
     "locked": true,
     "schema_version": 3,
     "solution": false,
     "task": false
    }
   },
   "outputs": [],
   "source": [
    "def load_stopwords(root_folder = \"./datasets/\"):\n",
    "    \"\"\"\n",
    "        Loads the stopwords. The dataset is assumed to be in the folder \"./datasets/\" by default\n",
    "        Output: A set of stopwords\n",
    "    \"\"\"\n",
    "    with open(os.path.join(root_folder, \"common_words\")) as reader:\n",
    "        lines = reader.readlines()\n",
    "    stopwords = set([l.strip().lower() for l in lines])\n",
    "    return stopwords\n"
   ]
  },
  {
   "cell_type": "code",
   "execution_count": 13,
   "metadata": {
    "deletable": false,
    "editable": false,
    "nbgrader": {
     "cell_type": "code",
     "checksum": "f1c8153c3c38133bc2db6e7b076ad470",
     "grade": false,
     "grade_id": "cell-2ca3ac162004de97",
     "locked": true,
     "schema_version": 3,
     "solution": false,
     "task": false
    }
   },
   "outputs": [],
   "source": [
    "##### Function check\n",
    "stopwords = load_stopwords()\n",
    "\n",
    "assert isinstance(stopwords, set)\n",
    "assert len(stopwords) == 428, \"There should be exactly 428 stop words\"\n",
    "\n",
    "assert np.sum(np.array(list(map(len,stopwords)))) == 2234\n",
    "\n",
    "##### \n"
   ]
  },
  {
   "cell_type": "markdown",
   "metadata": {
    "deletable": false,
    "editable": false,
    "nbgrader": {
     "cell_type": "markdown",
     "checksum": "92c1191e9e7291dcf0d70dc67b907a65",
     "grade": false,
     "grade_id": "cell-134b72872f4300cb",
     "locked": true,
     "schema_version": 3,
     "solution": false,
     "task": false
    }
   },
   "source": [
    "---\n",
    "### 1.4 Tokenization (3 points)\n",
    "\n",
    "We can now write some basic text processing functions. \n",
    "A first step is to tokenize the text. \n",
    "\n",
    "**Note**: Use the  `WordPunctTokenizer` available in the `nltk` library:"
   ]
  },
  {
   "cell_type": "code",
   "execution_count": 14,
   "metadata": {
    "deletable": false,
    "nbgrader": {
     "cell_type": "code",
     "checksum": "3f5564d3c75bf22fbf832b3a9b938f37",
     "grade": false,
     "grade_id": "cell-322be4c9499bdc4b",
     "locked": false,
     "schema_version": 3,
     "solution": true,
     "task": false
    }
   },
   "outputs": [],
   "source": [
    "# TODO: Implement this! (4 points)\n",
    "def tokenize(text):\n",
    "    \"\"\"\n",
    "        Tokenizes the input text. Use the WordPunctTokenizer\n",
    "        Input: text - a string\n",
    "        Output: a list of tokens\n",
    "    \"\"\"\n",
    "    # YOUR CODE HERE\n",
    "    \n",
    "    tk = nltk.WordPunctTokenizer()\n",
    "    return tk.tokenize(text)"
   ]
  },
  {
   "cell_type": "code",
   "execution_count": 15,
   "metadata": {
    "deletable": false,
    "editable": false,
    "nbgrader": {
     "cell_type": "code",
     "checksum": "e15af22c4d8ae0a3f9dac43bef7097ec",
     "grade": true,
     "grade_id": "cell-7fbf48bf7541a622",
     "locked": true,
     "points": 3,
     "schema_version": 3,
     "solution": false,
     "task": false
    }
   },
   "outputs": [
    {
     "name": "stdout",
     "output_type": "stream",
     "text": [
      "['the', 'quick', 'brown', 'fox', 'jumps', 'over', 'the', 'lazy', 'dog']\n"
     ]
    }
   ],
   "source": [
    "##### Function check\n",
    "text = \"the quick brown fox jumps over the lazy dog\"\n",
    "tokens = tokenize(text)\n",
    "\n",
    "assert isinstance(tokens, list)\n",
    "assert len(tokens) == 9\n",
    "\n",
    "print(tokens)\n",
    "# output: ['the', 'quick', 'brown', 'fox', 'jumps', 'over', 'the', 'lazy', 'dog']\n",
    "#####"
   ]
  },
  {
   "cell_type": "markdown",
   "metadata": {
    "deletable": false,
    "editable": false,
    "nbgrader": {
     "cell_type": "markdown",
     "checksum": "34210618bff4cb47aad2f03cb4b9854c",
     "grade": false,
     "grade_id": "cell-fd1b98ae61b697ca",
     "locked": true,
     "schema_version": 3,
     "solution": false,
     "task": false
    }
   },
   "source": [
    "---\n",
    "### 1.5 Stemming (2 points)\n",
    "\n",
    "Write a function to stem tokens. \n",
    "Again, you can use the nltk library for this:"
   ]
  },
  {
   "cell_type": "code",
   "execution_count": 16,
   "metadata": {
    "deletable": false,
    "nbgrader": {
     "cell_type": "code",
     "checksum": "1c4a6aa979d66158c7b6b992af43293a",
     "grade": false,
     "grade_id": "cell-e3f6c8e3f874b28d",
     "locked": false,
     "schema_version": 3,
     "solution": true,
     "task": false
    }
   },
   "outputs": [],
   "source": [
    "# TODO: Implement this! (3 points)\n",
    "def stem_token(token):\n",
    "    \"\"\"\n",
    "        Stems the given token using the PorterStemmer from the nltk library\n",
    "        Input: a single token\n",
    "        Output: the stem of the token\n",
    "    \"\"\"\n",
    "    stemmer = nltk.stem.PorterStemmer()\n",
    "    return stemmer.stem(token)"
   ]
  },
  {
   "cell_type": "code",
   "execution_count": 17,
   "metadata": {
    "deletable": false,
    "editable": false,
    "nbgrader": {
     "cell_type": "code",
     "checksum": "9363b4f09b556d424d9c895d4ab57b1c",
     "grade": true,
     "grade_id": "cell-cd6863e6ee6ed205",
     "locked": true,
     "points": 2,
     "schema_version": 3,
     "solution": false,
     "task": false
    }
   },
   "outputs": [],
   "source": [
    "##### Function check\n",
    "\n",
    "assert stem_token('owned') == 'own'\n",
    "assert stem_token('itemization') == 'item'\n",
    "#####"
   ]
  },
  {
   "cell_type": "markdown",
   "metadata": {
    "deletable": false,
    "editable": false,
    "nbgrader": {
     "cell_type": "markdown",
     "checksum": "0b311d014146da6afa1d39542fab9869",
     "grade": false,
     "grade_id": "cell-47c9f90498699110",
     "locked": true,
     "schema_version": 3,
     "solution": false,
     "task": false
    }
   },
   "source": [
    "---\n",
    "### 1.6 Summary\n",
    "\n",
    "The following function puts it all together. Given an input string, this functions tokenizes and processes it according to the flags that you set."
   ]
  },
  {
   "cell_type": "code",
   "execution_count": 18,
   "metadata": {
    "deletable": false,
    "editable": false,
    "nbgrader": {
     "cell_type": "code",
     "checksum": "2ff2d215ee8e0039c5a91fd3de12e6bd",
     "grade": false,
     "grade_id": "cell-dd0d3f46b30801da",
     "locked": true,
     "schema_version": 3,
     "solution": false,
     "task": false
    }
   },
   "outputs": [],
   "source": [
    "#### Putting it all together\n",
    "def process_text(text, stem=False, remove_stopwords=False, lowercase_text=False):\n",
    "    \n",
    "    tokens = []\n",
    "    for token in tokenize(text):\n",
    "        if remove_stopwords and token.lower() in stopwords:\n",
    "            continue\n",
    "        if stem:\n",
    "            token = stem_token(token)\n",
    "        if lowercase_text:\n",
    "            token = token.lower()\n",
    "        tokens.append(token)\n",
    "\n",
    "    return tokens\n",
    "#### "
   ]
  },
  {
   "cell_type": "markdown",
   "metadata": {
    "deletable": false,
    "editable": false,
    "nbgrader": {
     "cell_type": "markdown",
     "checksum": "02d433b18eb43654fa4306a7bf55b190",
     "grade": false,
     "grade_id": "cell-8d885bfd2edd43ae",
     "locked": true,
     "schema_version": 3,
     "solution": false,
     "task": false
    }
   },
   "source": [
    "---\n",
    "\n",
    "Let's create two sets of preprocessed documents.\n",
    "We can process the documents and queries according to these two configurations:"
   ]
  },
  {
   "cell_type": "code",
   "execution_count": 19,
   "metadata": {
    "deletable": false,
    "editable": false,
    "nbgrader": {
     "cell_type": "code",
     "checksum": "dbe4ca667be6842fdcf512fbcad50c7f",
     "grade": false,
     "grade_id": "cell-d427365ee0fb21d8",
     "locked": true,
     "schema_version": 3,
     "solution": false,
     "task": false
    }
   },
   "outputs": [],
   "source": [
    "# In this configuration:\n",
    "# Don't preprocess the text, except to tokenize \n",
    "config_1 = {\n",
    "  \"stem\": False,\n",
    "  \"remove_stopwords\" : False,\n",
    "  \"lowercase_text\": True\n",
    "} \n",
    "\n",
    "\n",
    "# In this configuration:\n",
    "# Preprocess the text, stem and remove stopwords\n",
    "config_2 = {\n",
    "  \"stem\": True,\n",
    "  \"remove_stopwords\" : True,\n",
    "  \"lowercase_text\": True, \n",
    "} \n",
    "\n",
    "####\n",
    "doc_repr_1 = []\n",
    "doc_repr_2 = []\n",
    "for (doc_id, document) in docs:\n",
    "    doc_repr_1.append((doc_id, process_text(document, **config_1)))\n",
    "    doc_repr_2.append((doc_id, process_text(document, **config_2)))\n",
    "\n",
    "####"
   ]
  },
  {
   "cell_type": "markdown",
   "metadata": {
    "deletable": false,
    "editable": false,
    "nbgrader": {
     "cell_type": "markdown",
     "checksum": "b60589aac19e80941d860d9b3f1e9a16",
     "grade": false,
     "grade_id": "cell-b1c102db61ae7495",
     "locked": true,
     "schema_version": 3,
     "solution": false,
     "task": false
    }
   },
   "source": [
    "--- \n",
    "\n",
    "## Section 2: Indexing (10 points)<a class=\"anchor\" id=\"indexing\"></a>\n",
    "\n",
    "[Back to Part 1](#part1)\n",
    "\n",
    "\n",
    "\n",
    "A retrieval function usually takes in a query document pair, and scores a query against a document.  Our document set is quite small - just a few thousand documents. However, consider a web-scale dataset with a few million documents. In such a scenario, it would become infeasible to score every query and document pair. In such a case, we can build an inverted index. From Wikipedia:\n",
    "\n",
    "> ... , an inverted index (also referred to as a postings file or inverted file) is a database index storing a mapping from content, such as words or numbers, to its locations in a table, .... The purpose of an inverted index is to allow fast full-text searches, at a cost of increased processing when a document is added to the database. ...\n",
    "\n",
    "\n",
    "Consider a simple inverted index, which maps from word to document. This can improve the performance of a retrieval system significantly. In this assignment, we consider a *simple* inverted index, which maps a word to a set of documents. In practice, however, more complex indices might be used.  \n"
   ]
  },
  {
   "cell_type": "markdown",
   "metadata": {
    "deletable": false,
    "editable": false,
    "nbgrader": {
     "cell_type": "markdown",
     "checksum": "710fd943f45523ac36fcb887cc0d4d39",
     "grade": false,
     "grade_id": "cell-fa373192c1b7bb95",
     "locked": true,
     "schema_version": 3,
     "solution": false,
     "task": false
    }
   },
   "source": [
    "### 2.1 Term Frequency-index (10 points)\n",
    "In this assignment, we will be using an index created in memory since our dataset is tiny. To get started, build a simple index that maps each `token` to a list of `(doc_id, count)` where `count` is the count of the `token` in `doc_id`.\n",
    "For consistency, build this index using a python dictionary.\n",
    "    \n",
    "Now, implement a function to build an index:"
   ]
  },
  {
   "cell_type": "code",
   "execution_count": 20,
   "metadata": {
    "deletable": false,
    "nbgrader": {
     "cell_type": "code",
     "checksum": "d4e8c6b658c469379d5fe511de05b536",
     "grade": false,
     "grade_id": "cell-077599b87e953209",
     "locked": false,
     "schema_version": 3,
     "solution": true,
     "task": false
    }
   },
   "outputs": [],
   "source": [
    "# need defaultdict to handle cases when queried word is missing from our documents\n",
    "# https://piazza.com/class/kyiksrdfk0b6te?cid=38\n",
    "# https://piazza.com/class/kyiksrdfk0b6te?cid=39\n",
    "from collections import defaultdict\n",
    "\n",
    "# TODO: Implement this! (10 points)\n",
    "def build_tf_index(documents):\n",
    "    \"\"\"\n",
    "    Build an inverted index (with counts). \n",
    "    The output is a dictionary which takes in a token and \n",
    "    returns a list of (doc_id, count) \n",
    "    where 'count' is the count of the 'token' in 'doc_id'\n",
    "    \n",
    "    Input: a list of documents - (doc_id, tokens)\n",
    "    Output: An inverted index implemented within a pyhton dictionary: \n",
    "        [token] -> [(doc_id, token_count)]\n",
    "    \"\"\"\n",
    "    # YOUR CODE HERE\n",
    "    tf_index = defaultdict(list)\n",
    "    for doc_id, tokens in documents:\n",
    "        tokens_set = set(tokens)\n",
    "        for token in tokens_set:\n",
    "            tf_index[token].append((doc_id, tokens.count(token)))\n",
    "    return tf_index"
   ]
  },
  {
   "cell_type": "markdown",
   "metadata": {
    "deletable": false,
    "editable": false,
    "nbgrader": {
     "cell_type": "markdown",
     "checksum": "15e7041b4323d2a290322de538ff7670",
     "grade": false,
     "grade_id": "cell-093aebfa504f96f2",
     "locked": true,
     "schema_version": 3,
     "solution": false,
     "task": false
    }
   },
   "source": [
    "---\n",
    "Now we can build indexed documents and preprocess the queries based on the two configurations:"
   ]
  },
  {
   "cell_type": "code",
   "execution_count": 20,
   "metadata": {
    "deletable": false,
    "editable": false,
    "nbgrader": {
     "cell_type": "code",
     "checksum": "e27540c1d8d77a3779a05f557f3f40c6",
     "grade": false,
     "grade_id": "cell-b2ff1676348b90a8",
     "locked": true,
     "schema_version": 3,
     "solution": false,
     "task": false
    }
   },
   "outputs": [],
   "source": [
    "#### Indexed documents based on the two configs\n",
    "\n",
    "# Create the 2 indices\n",
    "tf_index_1 = build_tf_index(doc_repr_1)\n",
    "tf_index_2 = build_tf_index(doc_repr_2)\n",
    "\n",
    "# This function returns the tf_index of the corresponding config\n",
    "def get_index(index_set):\n",
    "    assert index_set in {1, 2}\n",
    "    return {\n",
    "        1: tf_index_1,\n",
    "        2: tf_index_2\n",
    "    }[index_set]\n",
    "\n",
    "####\n",
    "#### Preprocessed query based on the two configs\n",
    "\n",
    "# This function preprocesses the text given the index set, according to the specified config\n",
    "def preprocess_query(text, index_set):\n",
    "    assert index_set in {1, 2}\n",
    "    if index_set == 1:\n",
    "        return process_text(text, **config_1)\n",
    "    elif index_set == 2:\n",
    "        return process_text(text, **config_2)\n",
    "\n",
    "#### "
   ]
  },
  {
   "cell_type": "code",
   "execution_count": 21,
   "metadata": {
    "deletable": false,
    "editable": false,
    "nbgrader": {
     "cell_type": "code",
     "checksum": "f0cbc8703e1248cd6edf03f9019b69db",
     "grade": true,
     "grade_id": "cell-fc7c7232d5d2ee46",
     "locked": true,
     "points": 5,
     "schema_version": 3,
     "solution": false,
     "task": false
    }
   },
   "outputs": [
    {
     "name": "stdout",
     "output_type": "stream",
     "text": [
      "sample tf index for computer: [('4', 1), ('7', 1), ('10', 1), ('13', 1), ('19', 1), ('22', 1), ('23', 1), ('37', 1), ('40', 3), ('41', 1)]\n",
      "sample tf index for examples: [('111', 1), ('320', 1), ('644', 1), ('691', 1), ('727', 1), ('848', 1), ('892', 1), ('893', 1), ('1049', 1), ('1051', 1)]\n"
     ]
    }
   ],
   "source": [
    "##### Function check\n",
    "\n",
    "assert isinstance(tf_index_1, dict)\n",
    "\n",
    "assert isinstance(tf_index_1['computer'], list)\n",
    "print('sample tf index for computer:', tf_index_1['computer'][:10])\n",
    "\n",
    "assert isinstance(tf_index_1['examples'], list)\n",
    "print('sample tf index for examples:', tf_index_1['examples'][:10])\n",
    "#### "
   ]
  },
  {
   "cell_type": "code",
   "execution_count": 22,
   "metadata": {
    "deletable": false,
    "editable": false,
    "nbgrader": {
     "cell_type": "code",
     "checksum": "d49b8ac36815d9a5cb4bed838ab53a50",
     "grade": true,
     "grade_id": "cell-ff06bd11204db250",
     "locked": true,
     "points": 5,
     "schema_version": 3,
     "solution": false,
     "task": false
    }
   },
   "outputs": [
    {
     "name": "stdout",
     "output_type": "stream",
     "text": [
      "sample tf index for computer: [('4', 1), ('7', 1), ('10', 1), ('13', 1), ('19', 1), ('22', 1), ('23', 1), ('37', 1), ('40', 3), ('41', 1)]\n",
      "sample tf index for examples: []\n"
     ]
    }
   ],
   "source": [
    "##### Function check\n",
    "\n",
    "assert isinstance(tf_index_2, dict)\n",
    "\n",
    "assert isinstance(tf_index_2['computer'], list)\n",
    "print('sample tf index for computer:', tf_index_1['computer'][:10])\n",
    "\n",
    "assert isinstance(tf_index_2['examples'], list)\n",
    "print('sample tf index for examples:', tf_index_2['examples'][:10])\n",
    "#### "
   ]
  },
  {
   "cell_type": "markdown",
   "metadata": {
    "deletable": false,
    "editable": false,
    "nbgrader": {
     "cell_type": "markdown",
     "checksum": "880b2ef3ca405f2af6e0667d2dc7a600",
     "grade": false,
     "grade_id": "cell-89eba71f04310291",
     "locked": true,
     "schema_version": 3,
     "solution": false,
     "task": false
    }
   },
   "source": [
    "\n",
    "---\n",
    "## Section 3: Ranking  (80 points) <a class=\"anchor\" id=\"ranking\"></a>\n",
    "\n",
    "[Back to Part 1](#part1)\n",
    "\n",
    "Now that we have cleaned and processed our dataset, we can start building simple IR systems. \n",
    "\n",
    "For now, we consider *simple* IR systems, which involve computing scores from the tokens present in the document/query. More advanced methods are covered in later assignments.\n",
    "\n",
    "We will implement the following methods in this section:\n",
    "- [Section 3.1: Bag of Words](#bow) (10 points)\n",
    "- [Section 3.2: TF-IDF](#tfidf) (15 points)\n",
    "- [Section 3.3: Query Likelihood Model](#qlm) (35 points)\n",
    "- [Section 3.4: BM25](#bm25) (20 points)\n",
    "\n",
    "*All search functions should be able to handle multiple words queries.*\n",
    "\n",
    "**Scoring policy:**\n",
    "Your implementations in this section are scored based on the expected performance of your ranking functions.\n",
    "You will get a full mark if your implementation meets the expected performance (measured by some evaluation metric).\n",
    "Otherwise, you may get partial credit.\n",
    "For example, if your *Bag of words* ranking function has 60% of expected performance, you will get 6 out of 10."
   ]
  },
  {
   "cell_type": "markdown",
   "metadata": {
    "deletable": false,
    "editable": false,
    "nbgrader": {
     "cell_type": "markdown",
     "checksum": "6c74e5061917358300c6e8085ec07864",
     "grade": false,
     "grade_id": "cell-3daf70a60e393adf",
     "locked": true,
     "schema_version": 3,
     "solution": false,
     "task": false
    }
   },
   "source": [
    "--- \n",
    "\n",
    "### Section 3.1: Bag of Words (10 points)<a class=\"anchor\" id=\"bow\"></a>\n",
    "\n",
    "Probably the simplest IR model is the Bag of Words (BOW) model.\n",
    "Implement a function that scores and ranks all the documents against a query using this model.   \n",
    "\n",
    "- For consistency, you should use the count of the token and **not** the binary indicator.\n",
    "- Use `float` type for the scores (even though the scores are integers in this case).\n",
    "- No normalization of the scores is necessary, as the ordering is what we are interested in.\n",
    "- If two documents have the same score, they can have any ordering: you are not required to disambiguate.\n"
   ]
  },
  {
   "cell_type": "code",
   "execution_count": 23,
   "metadata": {
    "deletable": false,
    "nbgrader": {
     "cell_type": "code",
     "checksum": "fee4640e22bfc4f05eb958a675ef40e7",
     "grade": false,
     "grade_id": "cell-de9cf0459c4b9324",
     "locked": false,
     "schema_version": 3,
     "solution": true,
     "task": false
    }
   },
   "outputs": [],
   "source": [
    "# TODO: Implement this! (10 points)\n",
    "def bow_search(query, index_set):\n",
    "    \"\"\"\n",
    "    Perform a search over all documents with the given query.\n",
    "    Note: You have to use the `get_index` function created in the previous cells\n",
    "    Input:\n",
    "        query - a (unprocessed) query\n",
    "        index_set - the index to use\n",
    "    Output: a list of (document_id, score),\n",
    "        sorted in descending relevance to the given query.\n",
    "    \"\"\"\n",
    "    index = get_index(index_set)\n",
    "    processed_query = preprocess_query(query, index_set)\n",
    "\n",
    "    # YOUR CODE HERE\n",
    "    # total count per document\n",
    "    documents = defaultdict(float)\n",
    "    # we take a set of processed_query to avoid double counting repeated words in query\n",
    "    for token in set(processed_query):\n",
    "        for document in index[token]:\n",
    "            # aggregate counts of this token across all documents\n",
    "            documents[document[0]] += document[1]\n",
    "    # convert documents to list and sort descending\n",
    "    documents = sorted(list(documents.items()), key=lambda x: x[1], reverse=True)\n",
    "    return documents"
   ]
  },
  {
   "cell_type": "code",
   "execution_count": 24,
   "metadata": {
    "deletable": false,
    "editable": false,
    "nbgrader": {
     "cell_type": "code",
     "checksum": "613524fbbf02b1d122c6611a71fbf11b",
     "grade": true,
     "grade_id": "cell-9f6aceae6dd9125f",
     "locked": true,
     "points": 2,
     "schema_version": 3,
     "solution": false,
     "task": false
    }
   },
   "outputs": [],
   "source": [
    "#### Function check\n",
    "\n",
    "test_bow = bow_search(\"how to implement bag of words search\", index_set=1)[:5]\n",
    "assert isinstance(test_bow, list)\n",
    "assert len(test_bow[0]) == 2\n",
    "assert isinstance(test_bow[0][0], str)\n",
    "assert isinstance(test_bow[0][1], float)\n",
    "\n",
    "#### "
   ]
  },
  {
   "cell_type": "code",
   "execution_count": 25,
   "metadata": {
    "deletable": false,
    "editable": false,
    "nbgrader": {
     "cell_type": "code",
     "checksum": "9af20897659edb62fe77598483590500",
     "grade": true,
     "grade_id": "cell-4eed3abf233d9b58",
     "locked": true,
     "points": 2,
     "schema_version": 3,
     "solution": false,
     "task": false
    }
   },
   "outputs": [
    {
     "name": "stdout",
     "output_type": "stream",
     "text": [
      "BOW Results:\n",
      "Rank 0(1.3e+01): On Computing The Fast Fourier Transform\\nCooley an...\n",
      "Rank 1(1.2e+01): Variable Length Tree Structures Having Minimum Ave...\n",
      "Rank 2(1.1e+01): A Modular Computer Sharing System\\nAn alternative ...\n",
      "Rank 3(1e+01): PEEKABIT, Computer Offspring of Punched\\nCard PEEK...\n",
      "Rank 4(9.0): Computer Simulation-Discussion of the\\nTechnique a...\n"
     ]
    }
   ],
   "source": [
    "\n",
    "docs_by_id = dict(docs)\n",
    "def print_results(docs, len_limit=50):    \n",
    "    for i, (doc_id, score) in enumerate(docs):\n",
    "        doc_content = docs_by_id[doc_id].strip().replace(\"\\n\", \"\\\\n\")[:len_limit] + \"...\"\n",
    "        print(f\"Rank {i}({score:.2}): {doc_content}\")\n",
    "\n",
    "test_bow_2 = bow_search(\"computer search word\", index_set=2)[:5]\n",
    "print(f\"BOW Results:\")\n",
    "print_results(test_bow_2)\n"
   ]
  },
  {
   "cell_type": "code",
   "execution_count": 26,
   "metadata": {
    "deletable": false,
    "editable": false,
    "nbgrader": {
     "cell_type": "code",
     "checksum": "3c9c8b16c8e7d1032f101e9da8a6e845",
     "grade": true,
     "grade_id": "cell-4d65a2d7090c466c",
     "locked": true,
     "points": 3,
     "schema_version": 3,
     "solution": false,
     "task": false
    }
   },
   "outputs": [
    {
     "name": "stdout",
     "output_type": "stream",
     "text": [
      "BOW Results:\n",
      "Rank 0(9.0): CURRICULUM 68 -- Recommendations for Academic\\nPro...\n",
      "Rank 1(9.0): Variable Length Tree Structures Having Minimum Ave...\n",
      "Rank 2(7.0): Computer Formulation of the Equations of Motion Us...\n",
      "Rank 3(7.0): The Effects of Multiplexing on a Computer-Communic...\n",
      "Rank 4(6.0): Optimizing Bit-time Computer Simulation\\nA major c...\n"
     ]
    }
   ],
   "source": [
    "\n",
    "test_bow_1 = bow_search(\"computer search word\", index_set=1)[:5]\n",
    "print(f\"BOW Results:\")\n",
    "print_results(test_bow_1)\n"
   ]
  },
  {
   "cell_type": "code",
   "execution_count": 27,
   "metadata": {
    "deletable": false,
    "editable": false,
    "nbgrader": {
     "cell_type": "code",
     "checksum": "b7e593847aa4202ae45ec061fb18ad73",
     "grade": true,
     "grade_id": "cell-dedf36ab5853ce20",
     "locked": true,
     "points": 3,
     "schema_version": 3,
     "solution": false,
     "task": false
    }
   },
   "outputs": [
    {
     "name": "stdout",
     "output_type": "stream",
     "text": [
      "top-5 docs for index1: ('1771', '1936', '1543', '2535', '678')\n",
      "top-5 docs for index2: ('1525', '1936', '1844', '1700', '1366')\n"
     ]
    }
   ],
   "source": [
    "print('top-5 docs for index1:', list(zip(*test_bow_1[:5]))[0])\n",
    "print('top-5 docs for index2:', list(zip(*test_bow_2[:5]))[0])\n"
   ]
  },
  {
   "cell_type": "markdown",
   "metadata": {
    "deletable": false,
    "editable": false,
    "nbgrader": {
     "cell_type": "markdown",
     "checksum": "b04352ee0716dfdf094b8cdb6f32e984",
     "grade": false,
     "grade_id": "cell-a5c09c79ac1f2871",
     "locked": true,
     "schema_version": 3,
     "solution": false,
     "task": false
    }
   },
   "source": [
    "\n",
    "---\n",
    "\n",
    "### Section 3.2: TF-IDF (15 points) <a class=\"anchor\" id=\"tfidf\"></a>\n",
    "\n",
    "Before we implement the tf-idf scoring functions, let's first write a function to compute the document frequencies of all words.  \n",
    "\n",
    "#### 3.2.1 Document frequency (5 points)\n",
    "Compute the document frequencies of all tokens in the collection. \n",
    "Your code should return a dictionary with tokens as its keys and the number of documents containing the token as values.\n",
    "For consistency, the values should have `int` type."
   ]
  },
  {
   "cell_type": "code",
   "execution_count": 28,
   "metadata": {
    "deletable": false,
    "nbgrader": {
     "cell_type": "code",
     "checksum": "5c53263cf4c0b0ffcaae08b91fc364cc",
     "grade": false,
     "grade_id": "cell-9a2369f32e864b8a",
     "locked": false,
     "schema_version": 3,
     "solution": true,
     "task": false
    }
   },
   "outputs": [],
   "source": [
    "# TODO: Implement this! (5 points)\n",
    "def compute_df(documents):\n",
    "    \"\"\"\n",
    "    Compute the document frequency of all terms in the vocabulary\n",
    "    Input: A list of documents\n",
    "    Output: A dictionary with {token: document frequency (int)}\n",
    "    \"\"\"\n",
    "    # YOUR CODE HERE\n",
    "    df_dict = defaultdict(int)\n",
    "    for document in documents:\n",
    "        # we only count a token once per document, so work on the set of unique doc tokens\n",
    "        unique_doc_tokens = set(document)\n",
    "        for token in unique_doc_tokens:\n",
    "            df_dict[token] += 1\n",
    "    return df_dict"
   ]
  },
  {
   "cell_type": "code",
   "execution_count": 29,
   "metadata": {
    "deletable": false,
    "editable": false,
    "nbgrader": {
     "cell_type": "code",
     "checksum": "154985511d7925c5793a1f97dea81880",
     "grade": false,
     "grade_id": "cell-4c3bddd0b73ac90e",
     "locked": true,
     "schema_version": 3,
     "solution": false,
     "task": false
    }
   },
   "outputs": [],
   "source": [
    "#### Compute df based on the two configs\n",
    "\n",
    "# get the document frequencies of each document\n",
    "df_1 = compute_df([d[1] for d in doc_repr_1])\n",
    "df_2 = compute_df([d[1] for d in doc_repr_2])\n",
    "\n",
    "def get_df(index_set):\n",
    "    assert index_set in {1, 2}\n",
    "    return {\n",
    "        1: df_1,\n",
    "        2: df_2\n",
    "    }[index_set]\n",
    "####"
   ]
  },
  {
   "cell_type": "code",
   "execution_count": 30,
   "metadata": {
    "deletable": false,
    "editable": false,
    "nbgrader": {
     "cell_type": "code",
     "checksum": "110cc180068cf3f77c682ee3de2a117c",
     "grade": true,
     "grade_id": "cell-79e8a6db1e5fc46f",
     "locked": true,
     "points": 5,
     "schema_version": 3,
     "solution": false,
     "task": false
    }
   },
   "outputs": [
    {
     "name": "stdout",
     "output_type": "stream",
     "text": [
      "597\n",
      "11\n"
     ]
    }
   ],
   "source": [
    "#### Function check\n",
    "\n",
    "print(df_1['computer'])\n",
    "print(df_2['computer'])\n",
    "####"
   ]
  },
  {
   "cell_type": "markdown",
   "metadata": {
    "deletable": false,
    "editable": false,
    "nbgrader": {
     "cell_type": "markdown",
     "checksum": "d0d577668fa51b80aeab6e67209ae73b",
     "grade": false,
     "grade_id": "cell-52f6acc487e1b96d",
     "locked": true,
     "schema_version": 3,
     "solution": false,
     "task": false
    }
   },
   "source": [
    "---\n",
    "#### 3.2.2 TF-IDF search (10 points)\n",
    "Next, implement a function that computes a tf-idf score, given a query.\n",
    "Use the following formulas for TF and IDF:\n",
    "\n",
    "$$ TF=\\log (1 + f_{d,t}) $$\n",
    "\n",
    "$$ IDF=\\log (\\frac{N}{n_t})$$\n",
    "\n",
    "where $f_{d,t}$ is the frequency of token $t$ in document $d$, $N$ is the number of total documents and $n_t$ is the number of documents containing token $t$.\n",
    "\n",
    "**Note:** your implementation will be auto-graded assuming you have used the above formulas.\n"
   ]
  },
  {
   "cell_type": "code",
   "execution_count": 31,
   "metadata": {
    "deletable": false,
    "nbgrader": {
     "cell_type": "code",
     "checksum": "3534c44b4a3419ca1db98eebe7115dc1",
     "grade": false,
     "grade_id": "cell-2fb5ba34b2994cd9",
     "locked": false,
     "schema_version": 3,
     "solution": true,
     "task": false
    }
   },
   "outputs": [],
   "source": [
    "# TODO: Implement this! (10 points)\n",
    "def tfidf_search(query, index_set):\n",
    "    \"\"\"\n",
    "    Perform a search over all documents with the given query using tf-idf.\n",
    "    Note #1: You have to use the `get_index` (and the `get_df`) function \n",
    "    created in the previous cells\n",
    "    Input:\n",
    "        query - a (unprocessed) query\n",
    "        index_set - the index to use\n",
    "    Output: a list of (document_id, score), \n",
    "        sorted in descending relevance to the given query\n",
    "    \"\"\"\n",
    "    index = get_index(index_set)\n",
    "    df = get_df(index_set)\n",
    "    processed_query = preprocess_query(query, index_set)\n",
    "\n",
    "    N = len(docs)\n",
    "    # YOUR CODE HERE\n",
    "    documents = defaultdict(float)\n",
    "    for token in set(processed_query):\n",
    "        for document_id, token_count in index[token]:\n",
    "            tf = np.log(1 + token_count)\n",
    "            idf = np.log(N/df[token])\n",
    "            tf_idf = tf*idf\n",
    "            documents[document_id] += tf_idf\n",
    "    # convert documents to list and sort descending\n",
    "    documents = sorted(list(documents.items()), key=lambda x: x[1], reverse=True)\n",
    "    return documents"
   ]
  },
  {
   "cell_type": "code",
   "execution_count": 32,
   "metadata": {
    "deletable": false,
    "editable": false,
    "nbgrader": {
     "cell_type": "code",
     "checksum": "7b66a514663d898694b09a23a597312b",
     "grade": true,
     "grade_id": "cell-bc68aeeacf42beb3",
     "locked": true,
     "points": 2,
     "schema_version": 3,
     "solution": false,
     "task": false
    }
   },
   "outputs": [],
   "source": [
    "\n",
    "#### Function check\n",
    "test_tfidf = tfidf_search(\"how to implement tf idf search\", index_set=1)[:5]\n",
    "assert isinstance(test_tfidf, list)\n",
    "assert len(test_tfidf[0]) == 2\n",
    "assert isinstance(test_tfidf[0][0], str)\n",
    "assert isinstance(test_tfidf[0][1], float)\n",
    "\n",
    "####"
   ]
  },
  {
   "cell_type": "code",
   "execution_count": 33,
   "metadata": {
    "deletable": false,
    "editable": false,
    "nbgrader": {
     "cell_type": "code",
     "checksum": "98fb1326cf4bf7983ae237ca8a9105f9",
     "grade": true,
     "grade_id": "cell-c7702fa8179fadb9",
     "locked": true,
     "points": 2,
     "schema_version": 3,
     "solution": false,
     "task": false
    }
   },
   "outputs": [
    {
     "name": "stdout",
     "output_type": "stream",
     "text": [
      "TFIDF Results:\n",
      "Rank 0(1.3e+01): PEEKABIT, Computer Offspring of Punched\\nCard PEEK...\n",
      "Rank 1(9.8): Variable Length Tree Structures Having Minimum Ave...\n",
      "Rank 2(8.2): A Stochastic Approach to the Grammatical Coding of...\n",
      "Rank 3(8.1): Full Table Quadratic Searching for Scatter Storage...\n",
      "Rank 4(7.6): Use of Tree Structures for Processing Files\\nIn da...\n"
     ]
    }
   ],
   "source": [
    "\n",
    "test_tfidf_2 = tfidf_search(\"computer word search\", index_set=2)[:5]\n",
    "print(f\"TFIDF Results:\")\n",
    "print_results(test_tfidf_2)\n"
   ]
  },
  {
   "cell_type": "code",
   "execution_count": 34,
   "metadata": {
    "deletable": false,
    "editable": false,
    "nbgrader": {
     "cell_type": "code",
     "checksum": "733b5b67be5e53989f5b763ce5e52ee9",
     "grade": true,
     "grade_id": "cell-3284f50ac29abbaa",
     "locked": true,
     "points": 3,
     "schema_version": 3,
     "solution": false,
     "task": false
    }
   },
   "outputs": [
    {
     "name": "stdout",
     "output_type": "stream",
     "text": [
      "TFIDF Results:\n",
      "Rank 0(9.4): Variable Length Tree Structures Having Minimum Ave...\n",
      "Rank 1(7.4): On the Feasibility of Voice Input to\\nan On-line C...\n",
      "Rank 2(7.3): Median Split Trees: A Fast Lookup Technique for Fr...\n",
      "Rank 3(7.0): Execution Time Requirements for Encipherment Progr...\n",
      "Rank 4(7.0): Storage and Search Properties of a Tree-Organized ...\n"
     ]
    }
   ],
   "source": [
    "\n",
    "test_tfidf_1 = tfidf_search(\"computer word search\", index_set=1)[:5]\n",
    "print(f\"TFIDF Results:\")\n",
    "print_results(test_tfidf_1)\n"
   ]
  },
  {
   "cell_type": "code",
   "execution_count": 35,
   "metadata": {
    "deletable": false,
    "editable": false,
    "nbgrader": {
     "cell_type": "code",
     "checksum": "e0edb37a5ae807a2de85d578c87ccb78",
     "grade": true,
     "grade_id": "cell-d908c80a3155354b",
     "locked": true,
     "points": 3,
     "schema_version": 3,
     "solution": false,
     "task": false
    }
   },
   "outputs": [
    {
     "name": "stdout",
     "output_type": "stream",
     "text": [
      "top-5 docs for index1 with BOW search: ('1771', '1936', '1543', '2535', '678')\n",
      "top-5 docs for index2 with BOW search: ('1525', '1936', '1844', '1700', '1366')\n",
      "top-5 docs for index1 with TF-IDF search: ('1936', '2054', '3041', '2620', '944')\n",
      "top-5 docs for index2 with TF-IDF search: ('1700', '1936', '1235', '2018', '849')\n"
     ]
    }
   ],
   "source": [
    "\n",
    "print('top-5 docs for index1 with BOW search:', list(zip(*test_bow_1[:5]))[0])\n",
    "print('top-5 docs for index2 with BOW search:', list(zip(*test_bow_2[:5]))[0])\n",
    "print('top-5 docs for index1 with TF-IDF search:', list(zip(*test_tfidf_1[:5]))[0])\n",
    "print('top-5 docs for index2 with TF-IDF search:', list(zip(*test_tfidf_2[:5]))[0])\n",
    "\n"
   ]
  },
  {
   "cell_type": "markdown",
   "metadata": {
    "deletable": false,
    "editable": false,
    "nbgrader": {
     "cell_type": "markdown",
     "checksum": "cdffc83f0eaea937cf64a212e7e9af8d",
     "grade": false,
     "grade_id": "cell-f5d923459ba21733",
     "locked": true,
     "schema_version": 3,
     "solution": false,
     "task": false
    }
   },
   "source": [
    "--- \n",
    "\n",
    "### Section 3.3: Query Likelihood Model (35 points) <a class=\"anchor\" id=\"qlm\"></a>\n",
    "\n",
    "In this section, you will implement a simple query likelihood model. \n",
    "\n",
    "\n",
    "#### 3.3.1 Naive QL (15 points)\n",
    "\n",
    "First, let us implement a naive version of a QL model, assuming a multinomial unigram language model (with a uniform prior over the documents). \n",
    "\n"
   ]
  },
  {
   "cell_type": "code",
   "execution_count": 36,
   "metadata": {
    "deletable": false,
    "editable": false,
    "nbgrader": {
     "cell_type": "code",
     "checksum": "b7ae2b7d818b428b4638c1c9206d2aca",
     "grade": false,
     "grade_id": "cell-98505778f7b68e7f",
     "locked": true,
     "schema_version": 3,
     "solution": false,
     "task": false
    }
   },
   "outputs": [],
   "source": [
    "#### Document length for normalization\n",
    "\n",
    "def doc_lengths(documents):\n",
    "    doc_lengths = {doc_id:len(doc) for (doc_id, doc) in documents}\n",
    "    return doc_lengths\n",
    "\n",
    "doc_lengths_1 = doc_lengths(doc_repr_1)\n",
    "doc_lengths_2 = doc_lengths(doc_repr_2)\n",
    "\n",
    "def get_doc_lengths(index_set):\n",
    "    assert index_set in {1, 2}\n",
    "    return {\n",
    "        1: doc_lengths_1,\n",
    "        2: doc_lengths_2\n",
    "    }[index_set]\n",
    "####"
   ]
  },
  {
   "cell_type": "code",
   "execution_count": 37,
   "metadata": {
    "deletable": false,
    "nbgrader": {
     "cell_type": "code",
     "checksum": "cedd08303a914243fefdb6b876977ca1",
     "grade": false,
     "grade_id": "cell-8bcf2b804d636c2e",
     "locked": false,
     "schema_version": 3,
     "solution": true,
     "task": false
    }
   },
   "outputs": [],
   "source": [
    "# TODO: Implement this! (15 points)\n",
    "def naive_ql_search(query, index_set):\n",
    "    \"\"\"\n",
    "    Perform a search over all documents with the given query using a naive QL model.\n",
    "    Note #1: You have to use the `get_index` (and get_doc_lengths) function\n",
    "        created in the previous cells\n",
    "    Input:\n",
    "        query - a (unprocessed) query\n",
    "        index_set - the index to use\n",
    "    Output: a list of (document_id, score), sorted in descending relevance\n",
    "        to the given query\n",
    "    \"\"\"\n",
    "    index = get_index(index_set)\n",
    "    doc_lengths = get_doc_lengths(index_set)\n",
    "    processed_query = preprocess_query(query, index_set)\n",
    "    # YOUR CODE HERE\n",
    "    documents = {}\n",
    "    for token in set(processed_query):\n",
    "        for document_id, token_count in index[token]:\n",
    "            # page 255 of Croft et al.\n",
    "            p_qD = token_count / doc_lengths[document_id]\n",
    "            if document_id not in documents:\n",
    "                documents[document_id] = p_qD\n",
    "            else:\n",
    "                documents[document_id] *= p_qD\n",
    "    # convert documents to list and sort descending\n",
    "    documents = sorted(list(documents.items()), key=lambda x: x[1], reverse=True)\n",
    "    return documents"
   ]
  },
  {
   "cell_type": "code",
   "execution_count": 38,
   "metadata": {
    "deletable": false,
    "editable": false,
    "nbgrader": {
     "cell_type": "code",
     "checksum": "b550d15bdad28354c336020a00c33d56",
     "grade": true,
     "grade_id": "cell-5a83ac12ecde8578",
     "locked": true,
     "points": 3,
     "schema_version": 3,
     "solution": false,
     "task": false
    }
   },
   "outputs": [
    {
     "name": "stdout",
     "output_type": "stream",
     "text": [
      "Naive QL Results:\n",
      "Rank 0(0.2): A Report Writer For COBOL...\n",
      "Rank 1(0.2): A CRT Report Generating System...\n",
      "Rank 2(0.17): Preliminary Report-International Algebraic Languag...\n",
      "Rank 3(0.17): Supplement to the ALGOL 60 Report...\n",
      "Rank 4(0.14): ALGOL Sub-Committee Report - Extensions...\n"
     ]
    }
   ],
   "source": [
    "#### Function check\n",
    "test_naiveql = naive_ql_search(\"report\", index_set=1)[:5]\n",
    "print(f\"Naive QL Results:\")\n",
    "print_results(test_naiveql)\n",
    "####"
   ]
  },
  {
   "cell_type": "code",
   "execution_count": 39,
   "metadata": {
    "deletable": false,
    "editable": false,
    "nbgrader": {
     "cell_type": "code",
     "checksum": "799df1d81c63fe90edbb6c218fc707fb",
     "grade": true,
     "grade_id": "cell-80f4bf2137f997bb",
     "locked": true,
     "points": 2,
     "schema_version": 3,
     "solution": false,
     "task": false
    }
   },
   "outputs": [],
   "source": [
    "#### Please do not change this. This cell is used for grading."
   ]
  },
  {
   "cell_type": "code",
   "execution_count": 40,
   "metadata": {
    "deletable": false,
    "editable": false,
    "nbgrader": {
     "cell_type": "code",
     "checksum": "875a4a517d27e20625d41783cebec118",
     "grade": true,
     "grade_id": "cell-5ce2993458a8ce51",
     "locked": true,
     "points": 3,
     "schema_version": 3,
     "solution": false,
     "task": false
    }
   },
   "outputs": [],
   "source": [
    "#### Please do not change this. This cell is used for grading."
   ]
  },
  {
   "cell_type": "code",
   "execution_count": 41,
   "metadata": {
    "deletable": false,
    "editable": false,
    "nbgrader": {
     "cell_type": "code",
     "checksum": "d5c4e1c3852e71a46f32825b122f1b71",
     "grade": true,
     "grade_id": "cell-7753bdb54e292f3d",
     "locked": true,
     "points": 3,
     "schema_version": 3,
     "solution": false,
     "task": false
    }
   },
   "outputs": [],
   "source": [
    "#### Please do not change this. This cell is used for grading."
   ]
  },
  {
   "cell_type": "code",
   "execution_count": 42,
   "metadata": {
    "deletable": false,
    "editable": false,
    "nbgrader": {
     "cell_type": "code",
     "checksum": "c4d4332d4356e89ce0240f6b80e1899a",
     "grade": true,
     "grade_id": "cell-54e476e2f96e64bb",
     "locked": true,
     "points": 4,
     "schema_version": 3,
     "solution": false,
     "task": false
    }
   },
   "outputs": [],
   "source": [
    "#### Please do not change this. This cell is used for grading."
   ]
  },
  {
   "cell_type": "markdown",
   "metadata": {
    "deletable": false,
    "editable": false,
    "nbgrader": {
     "cell_type": "markdown",
     "checksum": "8d739dc91a22bd48897f603885f95a74",
     "grade": false,
     "grade_id": "cell-5414dfd69dab8b94",
     "locked": true,
     "schema_version": 3,
     "solution": false,
     "task": false
    }
   },
   "source": [
    "---\n",
    "#### 3.3.2 QL (20 points)\n",
    "Now, let's implement a QL model that handles the issues with the naive version. In particular, you will implement a QL model with Jelinek-Mercer Smoothing. That means an interpolated score is computed per word - one term is the same as the previous naive version, and the second term comes from a unigram language model. In addition, you should accumulate the scores by summing the **log** (smoothed) probability which leads to better numerical stability."
   ]
  },
  {
   "cell_type": "code",
   "execution_count": 43,
   "metadata": {
    "deletable": false,
    "nbgrader": {
     "cell_type": "code",
     "checksum": "b8c6abf937ad333e628f1db891f2e29e",
     "grade": false,
     "grade_id": "cell-bb1f506409771257",
     "locked": false,
     "schema_version": 3,
     "solution": true,
     "task": false
    }
   },
   "outputs": [],
   "source": [
    "# TODO: Implement this! (20 points)\n",
    "\n",
    "def ql_search(query, index_set):\n",
    "    \"\"\"\n",
    "    Perform a search over all documents with the given query using a QL model\n",
    "    with Jelinek-Mercer Smoothing (set smoothing=0.1).\n",
    "\n",
    "    Note #1: You have to use the `get_index` (and get_doc_lengths) function\n",
    "        created in the previous cells\n",
    "    Note #2: You might have to create some variables beforehand and\n",
    "        use them in this function\n",
    "\n",
    "    Input:\n",
    "        query - a (unprocessed) query\n",
    "        index_set - the index to use\n",
    "    Output: a list of (document_id, score), sorted in descending relevance\n",
    "        to the given query\n",
    "    \"\"\"\n",
    "    index = get_index(index_set)\n",
    "    doc_lengths = get_doc_lengths(index_set)\n",
    "    processed_query = preprocess_query(query, index_set)\n",
    "    # YOUR CODE HERE\n",
    "\n",
    "    # total number of words in the collection\n",
    "    C = np.sum([length for _doc, length in doc_lengths.items()])\n",
    "    # count of word occurences across collection for each word in index\n",
    "    coll_index = {\n",
    "        token: np.sum([tok_count for _doc_id, tok_count in doc_counts])\n",
    "        for token, doc_counts in index.items()\n",
    "    }\n",
    "    # \"(set smoothing=0.1)\"\n",
    "    lambd = 0.1\n",
    "    documents = {}\n",
    "    for token in processed_query:\n",
    "        for document_id, token_count in index[token]:\n",
    "            # page 257 of Croft et al.\n",
    "            p_qD = np.log(\n",
    "                (1 - lambd) * token_count / doc_lengths[document_id]\n",
    "                + lambd * coll_index[token] / C\n",
    "            )\n",
    "            if document_id not in documents:\n",
    "                documents[document_id] = p_qD\n",
    "            else:\n",
    "                documents[document_id] += p_qD\n",
    "    # convert documents to list and sort descending\n",
    "    documents = sorted(list(documents.items()), key=lambda x: x[1], reverse=True)\n",
    "    return documents"
   ]
  },
  {
   "cell_type": "code",
   "execution_count": 44,
   "metadata": {
    "deletable": false,
    "editable": false,
    "nbgrader": {
     "cell_type": "code",
     "checksum": "0b12a7f3355193a257fd9f5f69a66562",
     "grade": true,
     "grade_id": "cell-850e9d6369bcec32",
     "locked": true,
     "points": 4,
     "schema_version": 3,
     "solution": false,
     "task": false
    }
   },
   "outputs": [
    {
     "name": "stdout",
     "output_type": "stream",
     "text": [
      "Rank 0(-1.7): A Report Writer For COBOL...\n",
      "Rank 1(-1.7): A CRT Report Generating System...\n",
      "Rank 2(-1.9): Preliminary Report-International Algebraic Languag...\n",
      "Rank 3(-1.9): Supplement to the ALGOL 60 Report...\n",
      "Rank 4(-2.1): ALGOL Sub-Committee Report - Extensions...\n",
      "\n",
      "Rank 0(-1.7e+01): A Report Writer For COBOL...\n",
      "Rank 1(-1.7e+01): A CRT Report Generating System...\n",
      "Rank 2(-1.9e+01): Preliminary Report-International Algebraic Languag...\n",
      "Rank 3(-1.9e+01): Supplement to the ALGOL 60 Report...\n",
      "Rank 4(-2.1e+01): ALGOL Sub-Committee Report - Extensions...\n"
     ]
    }
   ],
   "source": [
    "#### Function check\n",
    "test_ql_results = ql_search(\"report\", index_set=1)[:5]\n",
    "print_results(test_ql_results)\n",
    "print()\n",
    "test_ql_results_long = ql_search(\"report \" * 10, index_set=1)[:5]\n",
    "print_results(test_ql_results_long)\n",
    "####"
   ]
  },
  {
   "cell_type": "code",
   "execution_count": 45,
   "metadata": {
    "deletable": false,
    "editable": false,
    "nbgrader": {
     "cell_type": "code",
     "checksum": "e40be645140389c115849856145f5b59",
     "grade": true,
     "grade_id": "cell-958cdcf6fd6899b7",
     "locked": true,
     "points": 3,
     "schema_version": 3,
     "solution": false,
     "task": false
    }
   },
   "outputs": [],
   "source": [
    "#### Please do not change this. This cell is used for grading."
   ]
  },
  {
   "cell_type": "code",
   "execution_count": 46,
   "metadata": {
    "deletable": false,
    "editable": false,
    "nbgrader": {
     "cell_type": "code",
     "checksum": "41d4aff001df17e7963ba79b45810b30",
     "grade": true,
     "grade_id": "cell-384dc23a0c251f6e",
     "locked": true,
     "points": 4,
     "schema_version": 3,
     "solution": false,
     "task": false
    }
   },
   "outputs": [],
   "source": [
    "#### Please do not change this. This cell is used for grading."
   ]
  },
  {
   "cell_type": "code",
   "execution_count": 47,
   "metadata": {
    "deletable": false,
    "editable": false,
    "nbgrader": {
     "cell_type": "code",
     "checksum": "893e8c5a073abc8ebb763d267b91bc02",
     "grade": true,
     "grade_id": "cell-7218966cba5097cc",
     "locked": true,
     "points": 4,
     "schema_version": 3,
     "solution": false,
     "task": false
    }
   },
   "outputs": [],
   "source": [
    "#### Please do not change this. This cell is used for grading."
   ]
  },
  {
   "cell_type": "code",
   "execution_count": 48,
   "metadata": {
    "deletable": false,
    "editable": false,
    "nbgrader": {
     "cell_type": "code",
     "checksum": "f99cb6f8b1f5830aaed8f06712ff846e",
     "grade": true,
     "grade_id": "cell-481ab073259ae53f",
     "locked": true,
     "points": 5,
     "schema_version": 3,
     "solution": false,
     "task": false
    }
   },
   "outputs": [],
   "source": [
    "#### Please do not change this. This cell is used for grading."
   ]
  },
  {
   "cell_type": "markdown",
   "metadata": {
    "deletable": false,
    "editable": false,
    "nbgrader": {
     "cell_type": "markdown",
     "checksum": "c02f14705d679579b1aa9f78f54779d5",
     "grade": false,
     "grade_id": "cell-f44088bfdac1dc90",
     "locked": true,
     "schema_version": 3,
     "solution": false,
     "task": false
    }
   },
   "source": [
    "--- \n",
    "\n",
    "### Section 3.4: BM25 (20 points) <a class=\"anchor\" id=\"bm25\"></a>\n",
    "\n",
    "In this section, we will implement the BM25 scoring function. \n"
   ]
  },
  {
   "cell_type": "code",
   "execution_count": null,
   "metadata": {
    "deletable": false,
    "nbgrader": {
     "cell_type": "code",
     "checksum": "e57efe06ea92af1c83784a42eb3d86e0",
     "grade": false,
     "grade_id": "cell-15640fc9b5d00a3c",
     "locked": false,
     "schema_version": 3,
     "solution": true,
     "task": false
    }
   },
   "outputs": [],
   "source": [
    "# TODO: Implement this! (20 points)\n",
    "def bm25_search(query, index_set):\n",
    "    \"\"\"\n",
    "    Perform a search over all documents with the given query using BM25.\n",
    "    Use k_1 = 1.5 and b = 0.75\n",
    "    Note #1: You have to use the `get_index` (and `get_doc_lengths`) function\n",
    "    created in the previous cells\n",
    "    Note #2: You might have to create some variables beforehand\n",
    "    and use them in this function\n",
    "\n",
    "    Input:\n",
    "        query - a (unprocessed) query\n",
    "        index_set - the index to use\n",
    "    Output: a list of (document_id, score), sorted in descending\n",
    "        relevance to the given query\n",
    "    \"\"\"\n",
    "\n",
    "    index = get_index(index_set)\n",
    "    df = get_df(index_set)\n",
    "    doc_lengths = get_doc_lengths(index_set)\n",
    "    processed_query = preprocess_query(query, index_set)\n",
    "\n",
    "    # YOUR CODE HERE\n",
    "    raise NotImplementedError()"
   ]
  },
  {
   "cell_type": "code",
   "execution_count": null,
   "metadata": {
    "deletable": false,
    "editable": false,
    "nbgrader": {
     "cell_type": "code",
     "checksum": "4be9de5d4e94637960d83725422bea6c",
     "grade": true,
     "grade_id": "cell-d10536bca72c74b1",
     "locked": true,
     "points": 3,
     "schema_version": 3,
     "solution": false,
     "task": false
    }
   },
   "outputs": [],
   "source": [
    "#### Function check\n",
    "test_bm25_results = bm25_search(\"report\", index_set=1)[:5]\n",
    "print_results(test_bm25_results)\n",
    "####"
   ]
  },
  {
   "cell_type": "code",
   "execution_count": null,
   "metadata": {
    "deletable": false,
    "editable": false,
    "nbgrader": {
     "cell_type": "code",
     "checksum": "31b550d6a46ae4f8ede88788799ac2b9",
     "grade": true,
     "grade_id": "cell-60f6ec5052712d79",
     "locked": true,
     "points": 5,
     "schema_version": 3,
     "solution": false,
     "task": false
    }
   },
   "outputs": [],
   "source": [
    "#### Please do not change this. This cell is used for grading."
   ]
  },
  {
   "cell_type": "code",
   "execution_count": null,
   "metadata": {
    "deletable": false,
    "editable": false,
    "nbgrader": {
     "cell_type": "code",
     "checksum": "3da2ec16bfe781916e71755d65aa2983",
     "grade": true,
     "grade_id": "cell-5d17524043a5abcc",
     "locked": true,
     "points": 5,
     "schema_version": 3,
     "solution": false,
     "task": false
    }
   },
   "outputs": [],
   "source": [
    "#### Please do not change this. This cell is used for grading."
   ]
  },
  {
   "cell_type": "code",
   "execution_count": null,
   "metadata": {
    "deletable": false,
    "editable": false,
    "nbgrader": {
     "cell_type": "code",
     "checksum": "e7b563d54fa84c20909c0ae107010541",
     "grade": true,
     "grade_id": "cell-ff8e704eda1184e3",
     "locked": true,
     "points": 3,
     "schema_version": 3,
     "solution": false,
     "task": false
    }
   },
   "outputs": [],
   "source": [
    "#### Please do not change this. This cell is used for grading."
   ]
  },
  {
   "cell_type": "code",
   "execution_count": null,
   "metadata": {
    "deletable": false,
    "editable": false,
    "nbgrader": {
     "cell_type": "code",
     "checksum": "b013f90974b396630a8831d6f1d7e5f7",
     "grade": true,
     "grade_id": "cell-a52310500a2543cb",
     "locked": true,
     "points": 4,
     "schema_version": 3,
     "solution": false,
     "task": false
    }
   },
   "outputs": [],
   "source": [
    "#### Please do not change this. This cell is used for grading."
   ]
  },
  {
   "cell_type": "markdown",
   "metadata": {
    "deletable": false,
    "editable": false,
    "nbgrader": {
     "cell_type": "markdown",
     "checksum": "8fcf67cb7d5e8b26cb9bf1f0aa42c847",
     "grade": false,
     "grade_id": "cell-8b2b412c81d62f2d",
     "locked": true,
     "schema_version": 3,
     "solution": false,
     "task": false
    }
   },
   "source": [
    "\n",
    "---\n",
    "\n",
    "### 3.5. Test Your Functions\n",
    "\n",
    "The widget below allows you to play with the search functions you've written so far. Use this to test your search functions and ensure that they work as expected."
   ]
  },
  {
   "cell_type": "code",
   "execution_count": null,
   "metadata": {
    "deletable": false,
    "editable": false,
    "nbgrader": {
     "cell_type": "code",
     "checksum": "dfeb204b390acc0794dbdcac92b0cf2c",
     "grade": false,
     "grade_id": "cell-c9c2bb76354e8d97",
     "locked": true,
     "schema_version": 3,
     "solution": false,
     "task": false
    }
   },
   "outputs": [],
   "source": [
    "#### Highlighter function\n",
    "# class for results\n",
    "ResultRow = namedtuple(\"ResultRow\", [\"doc_id\", \"snippet\", \"score\"])\n",
    "# doc_id -> doc\n",
    "docs_by_id = dict((d[0], d[1]) for d in docs)\n",
    "\n",
    "def highlight_text(document, query, tol=17):\n",
    "    import re\n",
    "    tokens = tokenize(query)\n",
    "    regex = \"|\".join(f\"(\\\\b{t}\\\\b)\" for t in tokens)\n",
    "    regex = re.compile(regex, flags=re.IGNORECASE)\n",
    "    output = \"\"\n",
    "    i = 0\n",
    "    for m in regex.finditer(document):\n",
    "        start_idx = max(0, m.start() - tol)\n",
    "        end_idx = min(len(document), m.end() + tol)\n",
    "        output += \"\".join([\"...\",\n",
    "                        document[start_idx:m.start()],\n",
    "                        \"<strong>\",\n",
    "                        document[m.start():m.end()],\n",
    "                        \"</strong>\",\n",
    "                        document[m.end():end_idx],\n",
    "                        \"...\"])\n",
    "    return output.replace(\"\\n\", \" \")\n",
    "\n",
    "\n",
    "def make_results(query, search_fn, index_set):\n",
    "    results = []\n",
    "    for doc_id, score in search_fn(query, index_set):\n",
    "        highlight = highlight_text(docs_by_id[doc_id], query)\n",
    "        if len(highlight.strip()) == 0:\n",
    "            highlight = docs_by_id[doc_id]\n",
    "        results.append(ResultRow(doc_id, highlight, score))\n",
    "    return results\n",
    "####"
   ]
  },
  {
   "cell_type": "code",
   "execution_count": null,
   "metadata": {},
   "outputs": [],
   "source": [
    "# TODO: Set this to the function you want to test!\n",
    "# this function should take in a query (string)\n",
    "# and return a sorted list of (doc_id, score) \n",
    "# with the most relevant document in the first position\n",
    "search_fn = bm25_search\n",
    "index_set = 1\n",
    "\n",
    "text = widgets.Text(description=\"Search Bar\", width=200)\n",
    "display(text)\n",
    "\n",
    "def handle_submit(sender):\n",
    "    print(f\"Searching for: '{sender.value}'\")\n",
    "    \n",
    "    results = make_results(sender.value, search_fn, index_set)\n",
    "    \n",
    "    # display only the top 5\n",
    "    results = results[:5]\n",
    "    \n",
    "    body = \"\"\n",
    "    for idx, r in enumerate(results):\n",
    "        body += f\"<li>Document #{r.doc_id}({r.score}): {r.snippet}</li>\"\n",
    "    display(HTML(f\"<ul>{body}</ul>\"))\n",
    "    \n",
    "\n",
    "text.on_submit(handle_submit)"
   ]
  },
  {
   "cell_type": "markdown",
   "metadata": {
    "deletable": false,
    "editable": false,
    "nbgrader": {
     "cell_type": "markdown",
     "checksum": "019b1ff878dc6339dd068e2d48d19904",
     "grade": false,
     "grade_id": "cell-8d46fe8e4f3d8cdb",
     "locked": true,
     "schema_version": 3,
     "solution": false,
     "task": false
    }
   },
   "source": [
    "---\n",
    "\n",
    "## Section 4: Evaluation (40 points) <a class=\"anchor\" id=\"evaluation\"></a>\n",
    "\n",
    "[Back to Part 1](#part1)\n",
    "\n",
    "In order to analyze the effectiveness of retrieval algorithms, we first have to learn how to evaluate such a system. In particular, we will work with offline evaluation metrics. These metrics are computed on a dataset with known relevance judgements.\n",
    "\n",
    "Implement the following evaluation metrics. \n",
    "\n",
    "1. Precision (7 points)\n",
    "2. Recall (7 points)\n",
    "3. Mean Average Precision (13 points)\n",
    "4. Expected Reciprocal Rank (13 points)"
   ]
  },
  {
   "cell_type": "markdown",
   "metadata": {
    "deletable": false,
    "editable": false,
    "nbgrader": {
     "cell_type": "markdown",
     "checksum": "e46f54c7f81d88bbc950b0fae14c4ca5",
     "grade": false,
     "grade_id": "cell-3419fd3bc663d7cc",
     "locked": true,
     "schema_version": 3,
     "solution": false,
     "task": false
    }
   },
   "source": [
    "---\n",
    "### 4.1 Read relevance labels\n",
    "\n",
    "Let's take a look at the `qrels.text` file, which contains the ground truth relevance scores. The relevance labels for CACM are binary - either 0 or 1. \n"
   ]
  },
  {
   "cell_type": "code",
   "execution_count": null,
   "metadata": {
    "deletable": false,
    "editable": false,
    "nbgrader": {
     "cell_type": "code",
     "checksum": "6c11025f5a222796f2882c73c1634799",
     "grade": false,
     "grade_id": "cell-6b738366059dde9e",
     "locked": true,
     "schema_version": 3,
     "solution": false,
     "task": false
    }
   },
   "outputs": [],
   "source": [
    "!head ./datasets/qrels.text"
   ]
  },
  {
   "cell_type": "markdown",
   "metadata": {
    "deletable": false,
    "editable": false,
    "nbgrader": {
     "cell_type": "markdown",
     "checksum": "7ce95245c1597183320d7254afde5c8e",
     "grade": false,
     "grade_id": "cell-10e16bff2753ffbb",
     "locked": true,
     "schema_version": 3,
     "solution": false,
     "task": false
    }
   },
   "source": [
    "---\n",
    "\n",
    "The first column is the query_id and the second column is the document_id. We can safely ignore the 3rd and 4th columns."
   ]
  },
  {
   "cell_type": "code",
   "execution_count": null,
   "metadata": {
    "deletable": false,
    "nbgrader": {
     "cell_type": "code",
     "checksum": "000c6d59dce08dba0ba1e8d691dbbc2e",
     "grade": false,
     "grade_id": "cell-ee5253a4ef602fce",
     "locked": false,
     "schema_version": 3,
     "solution": true,
     "task": false
    }
   },
   "outputs": [],
   "source": [
    "# YOUR CODE HERE\n",
    "raise NotImplementedError()"
   ]
  },
  {
   "cell_type": "code",
   "execution_count": null,
   "metadata": {
    "deletable": false,
    "editable": false,
    "nbgrader": {
     "cell_type": "code",
     "checksum": "d60caeba85c2a97d2211184a5ae91fd1",
     "grade": false,
     "grade_id": "cell-72215605fbe24f65",
     "locked": true,
     "schema_version": 3,
     "solution": false,
     "task": false
    }
   },
   "outputs": [],
   "source": [
    "#### Function check\n",
    "qrels = read_qrels()\n",
    "\n",
    "assert len(qrels) == 52, \"There should be 52 queries with relevance judgements\"\n",
    "assert sum(len(j) for j in qrels.values()) == 796, \"There should be a total of 796 Relevance Judgements\"\n",
    "\n",
    "assert np.min(np.array([len(j) for j in qrels.values()])) == 1\n",
    "assert np.max(np.array([len(j) for j in qrels.values()])) == 51\n",
    "\n",
    "####"
   ]
  },
  {
   "cell_type": "markdown",
   "metadata": {
    "deletable": false,
    "editable": false,
    "nbgrader": {
     "cell_type": "markdown",
     "checksum": "6c9e7428a52e291a2cdf92a379730d4c",
     "grade": false,
     "grade_id": "cell-176a6fb2939d0420",
     "locked": true,
     "schema_version": 3,
     "solution": false,
     "task": false
    }
   },
   "source": [
    "---\n",
    "**Note:** For a given query `query_id`, you can assume that documents *not* in `qrels[query_id]` are not relevant to `query_id`. \n"
   ]
  },
  {
   "cell_type": "markdown",
   "metadata": {
    "deletable": false,
    "editable": false,
    "nbgrader": {
     "cell_type": "markdown",
     "checksum": "b26a818c7b4f7ad490e00b35ea0edd69",
     "grade": false,
     "grade_id": "cell-bd8341b72cdd89bb",
     "locked": true,
     "schema_version": 3,
     "solution": false,
     "task": false
    }
   },
   "source": [
    "---\n",
    "### 4.2 Precision (7 points)\n",
    "Implement the `precision@k` metric:"
   ]
  },
  {
   "cell_type": "code",
   "execution_count": 51,
   "metadata": {
    "deletable": false,
    "nbgrader": {
     "cell_type": "code",
     "checksum": "43dea1979ebdec24ffcfeff71c670433",
     "grade": false,
     "grade_id": "cell-494bd0cce108ed67",
     "locked": false,
     "schema_version": 3,
     "solution": true,
     "task": false
    }
   },
   "outputs": [],
   "source": [
    "# TODO: Implement this! (7 points)\n",
    "def precision_k(results, relevant_docs, k):\n",
    "    \"\"\"\n",
    "    Compute Precision@K\n",
    "    Input:\n",
    "        results: A sorted list of 2-tuples (document_id, score),\n",
    "                with the most relevant document in the first position\n",
    "        relevant_docs: A set of relevant documents.\n",
    "        k: the cut-off\n",
    "    Output: Precision@K\n",
    "    \"\"\"\n",
    "    if k > len(results):\n",
    "        k = len(results)\n",
    "    # YOUR CODE HERE\n",
    "    return np.mean([int(doc_id in relevant_docs) for doc_id in results[:k]])"
   ]
  },
  {
   "cell_type": "code",
   "execution_count": 52,
   "metadata": {
    "deletable": false,
    "editable": false,
    "nbgrader": {
     "cell_type": "code",
     "checksum": "9222e35582b1840ffb60fd02fb0b60c3",
     "grade": true,
     "grade_id": "cell-e7ff0d91c319ca64",
     "locked": true,
     "points": 7,
     "schema_version": 3,
     "solution": false,
     "task": false
    }
   },
   "outputs": [
    {
     "name": "stdout",
     "output_type": "stream",
     "text": [
      "query: What articles exist which deal with TSS (Time Sharing System), an\n",
      "operating system for IBM computers?\n"
     ]
    },
    {
     "ename": "NameError",
     "evalue": "name 'bm25_search' is not defined",
     "output_type": "error",
     "traceback": [
      "\u001b[0;31m---------------------------------------------------------------------------\u001b[0m",
      "\u001b[0;31mNameError\u001b[0m                                 Traceback (most recent call last)",
      "\u001b[0;32m<ipython-input-52-29483957a305>\u001b[0m in \u001b[0;36m<module>\u001b[0;34m\u001b[0m\n\u001b[1;32m      3\u001b[0m \u001b[0mqtext\u001b[0m \u001b[0;34m=\u001b[0m \u001b[0mqueries\u001b[0m\u001b[0;34m[\u001b[0m\u001b[0;36m0\u001b[0m\u001b[0;34m]\u001b[0m\u001b[0;34m[\u001b[0m\u001b[0;36m1\u001b[0m\u001b[0;34m]\u001b[0m\u001b[0;34m\u001b[0m\u001b[0m\n\u001b[1;32m      4\u001b[0m \u001b[0mprint\u001b[0m\u001b[0;34m(\u001b[0m\u001b[0;34mf'query:{qtext}'\u001b[0m\u001b[0;34m)\u001b[0m\u001b[0;34m\u001b[0m\u001b[0m\n\u001b[0;32m----> 5\u001b[0;31m \u001b[0mresults\u001b[0m \u001b[0;34m=\u001b[0m \u001b[0mbm25_search\u001b[0m\u001b[0;34m(\u001b[0m\u001b[0mqtext\u001b[0m\u001b[0;34m,\u001b[0m \u001b[0;36m2\u001b[0m\u001b[0;34m)\u001b[0m\u001b[0;34m\u001b[0m\u001b[0m\n\u001b[0m\u001b[1;32m      6\u001b[0m \u001b[0mprecision\u001b[0m \u001b[0;34m=\u001b[0m \u001b[0mprecision_k\u001b[0m\u001b[0;34m(\u001b[0m\u001b[0mresults\u001b[0m\u001b[0;34m,\u001b[0m \u001b[0mqrels\u001b[0m\u001b[0;34m[\u001b[0m\u001b[0mqid\u001b[0m\u001b[0;34m]\u001b[0m\u001b[0;34m,\u001b[0m \u001b[0;36m10\u001b[0m\u001b[0;34m)\u001b[0m\u001b[0;34m\u001b[0m\u001b[0m\n\u001b[1;32m      7\u001b[0m \u001b[0mprint\u001b[0m\u001b[0;34m(\u001b[0m\u001b[0;34mf'precision@10 = {precision}'\u001b[0m\u001b[0;34m)\u001b[0m\u001b[0;34m\u001b[0m\u001b[0m\n",
      "\u001b[0;31mNameError\u001b[0m: name 'bm25_search' is not defined"
     ]
    }
   ],
   "source": [
    "\n",
    "#### Function check\n",
    "qid = queries[0][0]\n",
    "qtext = queries[0][1]\n",
    "print(f'query:{qtext}')\n",
    "results = bm25_search(qtext, 2)\n",
    "precision = precision_k(results, qrels[qid], 10)\n",
    "print(f'precision@10 = {precision}')\n",
    "####"
   ]
  },
  {
   "cell_type": "markdown",
   "metadata": {
    "deletable": false,
    "editable": false,
    "nbgrader": {
     "cell_type": "markdown",
     "checksum": "8fd3b3998197c7097a40348500affb68",
     "grade": false,
     "grade_id": "cell-afd95f865bc7191e",
     "locked": true,
     "schema_version": 3,
     "solution": false,
     "task": false
    }
   },
   "source": [
    "---\n",
    "### 4.3 Recall (7 points)\n",
    "Implement the `recall@k` metric:"
   ]
  },
  {
   "cell_type": "code",
   "execution_count": 54,
   "metadata": {
    "deletable": false,
    "nbgrader": {
     "cell_type": "code",
     "checksum": "b2020e5741ae03b3fe35817ed8f4ccaa",
     "grade": false,
     "grade_id": "cell-c323fc8c3f8a7cf8",
     "locked": false,
     "schema_version": 3,
     "solution": true,
     "task": false
    }
   },
   "outputs": [],
   "source": [
    "# TODO: Implement this! (7 points)\n",
    "def recall_k(results, relevant_docs, k):\n",
    "    \"\"\"\n",
    "    Compute Recall@K\n",
    "    Input:\n",
    "        results: A sorted list of 2-tuples (document_id, score),\n",
    "            with the most relevant document in the first position\n",
    "        relevant_docs: A set of relevant documents.\n",
    "        k: the cut-off\n",
    "    Output: Recall@K\n",
    "    \"\"\"\n",
    "    # YOUR CODE HERE\n",
    "    tp = 0.0\n",
    "    fn = 0.0\n",
    "    for i, (doc_id, _score) in enumerate(results, 1):\n",
    "        if doc_id in relevant_docs:\n",
    "            if i <= k:\n",
    "                tp += 1\n",
    "            else:\n",
    "                fn += 1\n",
    "    return tp / (tp + fn)"
   ]
  },
  {
   "cell_type": "code",
   "execution_count": null,
   "metadata": {
    "deletable": false,
    "editable": false,
    "nbgrader": {
     "cell_type": "code",
     "checksum": "56b6e0b8522f8b2dffbfb3206b2efa84",
     "grade": true,
     "grade_id": "cell-b25172161aef165c",
     "locked": true,
     "points": 7,
     "schema_version": 3,
     "solution": false,
     "task": false
    }
   },
   "outputs": [],
   "source": [
    "#### Function check\n",
    "qid = queries[10][0]\n",
    "qtext = queries[10][1]\n",
    "print(f'query:{qtext}')\n",
    "results = bm25_search(qtext, 2)\n",
    "recall = recall_k(results, qrels[qid], 10)\n",
    "print(f'recall@10 = {recall}')\n",
    "####"
   ]
  },
  {
   "cell_type": "markdown",
   "metadata": {
    "deletable": false,
    "editable": false,
    "nbgrader": {
     "cell_type": "markdown",
     "checksum": "b3d3c7bd1cd977cd07ef5df7d3fbf159",
     "grade": false,
     "grade_id": "cell-77fd2e7a39a74739",
     "locked": true,
     "schema_version": 3,
     "solution": false,
     "task": false
    }
   },
   "source": [
    "---\n",
    "### 4.4 Mean Average Precision (13 points)\n",
    "Implement the `map` metric:"
   ]
  },
  {
   "cell_type": "code",
   "execution_count": 56,
   "metadata": {
    "deletable": false,
    "nbgrader": {
     "cell_type": "code",
     "checksum": "aae2c62f2ffd76f5b6c004e9519b9f14",
     "grade": false,
     "grade_id": "cell-e50925fa9093a30d",
     "locked": false,
     "schema_version": 3,
     "solution": true,
     "task": false
    }
   },
   "outputs": [],
   "source": [
    "# TODO: Implement this! (12 points)\n",
    "def average_precision(results, relevant_docs):\n",
    "    \"\"\"\n",
    "    Compute Average Precision (for a single query - the results are\n",
    "    averaged across queries to get MAP in the next few cells)\n",
    "    Hint: You can use the recall_k and precision_k functions here!\n",
    "    Input:\n",
    "        results: A sorted list of 2-tuples (document_id, score), with the most\n",
    "                relevant document in the first position\n",
    "        relevant_docs: A set of relevant documents.\n",
    "    Output: Average Precision\n",
    "    \"\"\"\n",
    "    # YOUR CODE HERE\n",
    "    # page 314 Croft et al.\n",
    "    return np.mean([precision_k(results, relevant_docs, k+1) for k in len(results)])"
   ]
  },
  {
   "cell_type": "code",
   "execution_count": null,
   "metadata": {
    "deletable": false,
    "editable": false,
    "nbgrader": {
     "cell_type": "code",
     "checksum": "3b00e147c2fa146fa59f179b7c9cab75",
     "grade": true,
     "grade_id": "cell-8a1f7ec98571e58b",
     "locked": true,
     "points": 13,
     "schema_version": 3,
     "solution": false,
     "task": false
    }
   },
   "outputs": [],
   "source": [
    "#### Function check\n",
    "qid = queries[20][0]\n",
    "qtext = queries[20][1]\n",
    "print(f'query:{qtext}')\n",
    "results = bm25_search(qtext, 2)\n",
    "mean_ap = average_precision(results, qrels[qid])\n",
    "print(f'MAP = {mean_ap}')\n",
    "####"
   ]
  },
  {
   "cell_type": "markdown",
   "metadata": {
    "deletable": false,
    "editable": false,
    "nbgrader": {
     "cell_type": "markdown",
     "checksum": "36f85f45ef52d9467ba9a717d6d99ff2",
     "grade": false,
     "grade_id": "cell-1da18f0fe6f6d7be",
     "locked": true,
     "schema_version": 3,
     "solution": false,
     "task": false
    }
   },
   "source": [
    "---\n",
    "### 4.5 Expected Reciprocal Rank (13 points)\n",
    "Implement the `err` metric:"
   ]
  },
  {
   "cell_type": "code",
   "execution_count": null,
   "metadata": {
    "deletable": false,
    "nbgrader": {
     "cell_type": "code",
     "checksum": "9ac94db728e23ea1f5dc0d509473c6fb",
     "grade": false,
     "grade_id": "cell-64262889f9b267ea",
     "locked": false,
     "schema_version": 3,
     "solution": true,
     "task": false
    }
   },
   "outputs": [],
   "source": [
    "# TODO: Implement this! (12 points)\n",
    "def err(results, relevant_docs):\n",
    "    \"\"\"\n",
    "        Compute the expected reciprocal rank.\n",
    "        Hint: https://dl.acm.org/doi/pdf/10.1145/1645953.1646033?download=true\n",
    "        Input: \n",
    "            results: A sorted list of 2-tuples (document_id, score), with the most \n",
    "                    relevant document in the first position\n",
    "            relevant_docs: A set of relevant documents. \n",
    "        Output: ERR\n",
    "        \n",
    "    \"\"\"\n",
    "    # YOUR CODE HERE\n",
    "    raise NotImplementedError()"
   ]
  },
  {
   "cell_type": "code",
   "execution_count": null,
   "metadata": {
    "deletable": false,
    "editable": false,
    "nbgrader": {
     "cell_type": "code",
     "checksum": "b7d201de0990b69d5f38704668665d87",
     "grade": true,
     "grade_id": "cell-071e3970ff1afae4",
     "locked": true,
     "points": 13,
     "schema_version": 3,
     "solution": false,
     "task": false
    }
   },
   "outputs": [],
   "source": [
    "#### Function check\n",
    "qid = queries[30][0]\n",
    "qtext = queries[30][1]\n",
    "print(f'query:{qtext}')\n",
    "results = bm25_search(qtext, 2)\n",
    "ERR = err(results, qrels[qid])\n",
    "print(f'ERR = {ERR}')\n",
    "####"
   ]
  },
  {
   "cell_type": "markdown",
   "metadata": {
    "deletable": false,
    "editable": false,
    "nbgrader": {
     "cell_type": "markdown",
     "checksum": "5bd94caf77cfa5f34675df758d91002d",
     "grade": false,
     "grade_id": "cell-43709a765f353946",
     "locked": true,
     "schema_version": 3,
     "solution": false,
     "task": false
    }
   },
   "source": [
    "---\n",
    "### 4.6 Evaluate Search Functions\n",
    "\n",
    "Let's define some metrics@k using [partial functions](https://docs.python.org/3/library/functools.html#functools.partial)"
   ]
  },
  {
   "cell_type": "code",
   "execution_count": null,
   "metadata": {
    "deletable": false,
    "editable": false,
    "nbgrader": {
     "cell_type": "code",
     "checksum": "49ccc158e5fb7340ace55e90eeb9d62a",
     "grade": false,
     "grade_id": "cell-dab560e18e340da8",
     "locked": true,
     "schema_version": 3,
     "solution": false,
     "task": false
    }
   },
   "outputs": [],
   "source": [
    "#### metrics@k functions\n",
    "\n",
    "recall_at_1 = partial(recall_k, k=1)\n",
    "recall_at_5 = partial(recall_k, k=5)\n",
    "recall_at_10 = partial(recall_k, k=10)\n",
    "precision_at_1 = partial(precision_k, k=1)\n",
    "precision_at_5 = partial(precision_k, k=5)\n",
    "precision_at_10 = partial(precision_k, k=10)\n",
    "\n",
    "\n",
    "list_of_metrics = [\n",
    "    (\"ERR\", err),\n",
    "    (\"MAP\", average_precision),\n",
    "    (\"Recall@1\",recall_at_1),\n",
    "    (\"Recall@5\", recall_at_5),\n",
    "    (\"Recall@10\", recall_at_10),\n",
    "    (\"Precision@1\", precision_at_1),\n",
    "    (\"Precision@5\", precision_at_5),\n",
    "    (\"Precision@10\", precision_at_10)]\n",
    "####"
   ]
  },
  {
   "cell_type": "markdown",
   "metadata": {
    "deletable": false,
    "editable": false,
    "nbgrader": {
     "cell_type": "markdown",
     "checksum": "fb541002c03221b453b8936290020ea5",
     "grade": false,
     "grade_id": "cell-580a2bdc66d03b47",
     "locked": true,
     "schema_version": 3,
     "solution": false,
     "task": false
    }
   },
   "source": [
    "---\n",
    "\n",
    "The following function evaluates a `search_fn` using the `metric_fn`. Note that the final number is averaged over all the queries"
   ]
  },
  {
   "cell_type": "code",
   "execution_count": null,
   "metadata": {},
   "outputs": [],
   "source": [
    "#### Evaluate a search function\n",
    "\n",
    "list_of_search_fns = [\n",
    "    (\"BOW\", bow_search),\n",
    "    (\"TF-IDF\", tfidf_search),\n",
    "    (\"NaiveQL\", naive_ql_search),\n",
    "    (\"QL\", ql_search),\n",
    "    (\"BM25\", bm25_search)\n",
    "]\n",
    "\n",
    "def evaluate_search_fn(search_fn, metric_fns, index_set=None):\n",
    "    # build a dict query_id -> query \n",
    "    queries_by_id = dict((q[0], q[1]) for q in queries)\n",
    "    \n",
    "    metrics = {}\n",
    "    for metric, metric_fn in metric_fns:\n",
    "        metrics[metric] = np.zeros(len(qrels), dtype=np.float32)\n",
    "    \n",
    "    for i, (query_id, relevant_docs) in enumerate(qrels.items()):\n",
    "        query = queries_by_id[query_id]\n",
    "        if index_set:\n",
    "            results = search_fn(query, index_set)\n",
    "        else:\n",
    "            results = search_fn(query)\n",
    "        \n",
    "        for metric, metric_fn in metric_fns:\n",
    "            metrics[metric][i] = metric_fn(results, relevant_docs)\n",
    "\n",
    "    \n",
    "    \n",
    "    final_dict = {}\n",
    "    for metric, metric_vals in metrics.items():\n",
    "        final_dict[metric] = metric_vals.mean()\n",
    "    \n",
    "    return final_dict\n",
    "####"
   ]
  },
  {
   "cell_type": "markdown",
   "metadata": {
    "deletable": false,
    "editable": false,
    "nbgrader": {
     "cell_type": "markdown",
     "checksum": "6ea67534f74a8f81e1f504794f641709",
     "grade": false,
     "grade_id": "cell-b156d83a0649cbb4",
     "locked": true,
     "schema_version": 3,
     "solution": false,
     "task": false
    }
   },
   "source": [
    "## Section 5: Analysis (30 points) <a class=\"anchor\" id=\"analysis\"></a>\n",
    "\n",
    "[Back to Part 1](#part1)\n",
    "\n",
    "In the final section of Part1, we will compare the different term-based IR algorithms and different preprocessing configurations and analyze their advantages and disadvantages.\n",
    "\n",
    "### Section 5.1: Plot (20 points)\n",
    "\n",
    "First, gather the results. The results should consider the index set, the different search functions and different metrics. Plot the results in bar charts, per metric, with clear labels.\n",
    "\n",
    "**Rubric:**\n",
    "- Each Metric is plotted: 7 points\n",
    "- Each Method is plotted: 7 points\n",
    "- Clear titles, x label, y labels and legends (if applicable): 6 points"
   ]
  },
  {
   "cell_type": "code",
   "execution_count": null,
   "metadata": {
    "deletable": false,
    "nbgrader": {
     "cell_type": "code",
     "checksum": "7e2588a925d13ddf588abe8311dc9cfc",
     "grade": true,
     "grade_id": "cell-46fda42a25863a04",
     "locked": false,
     "points": 20,
     "schema_version": 3,
     "solution": true,
     "task": false
    }
   },
   "outputs": [],
   "source": [
    "# YOUR CODE HERE\n",
    "raise NotImplementedError()"
   ]
  },
  {
   "cell_type": "markdown",
   "metadata": {
    "deletable": false,
    "editable": false,
    "nbgrader": {
     "cell_type": "markdown",
     "checksum": "e88c444a0acf4e398c65e289169b75f7",
     "grade": false,
     "grade_id": "cell-8aabe3bcf265deb0",
     "locked": true,
     "points": 10,
     "schema_version": 3,
     "solution": false,
     "task": true
    }
   },
   "source": [
    "---\n",
    "### Section 5.2: Summary (10 points)\n",
    "Write a summary of what you observe in the results.\n",
    "Your summary should compare results across the 2 indices and the methods being used. State what you expected to see in the results, followed by either supporting evidence *or* justify why the results did not support your expectations.      "
   ]
  },
  {
   "cell_type": "markdown",
   "metadata": {},
   "source": [
    "Write your answer here!"
   ]
  },
  {
   "cell_type": "markdown",
   "metadata": {
    "deletable": false,
    "editable": false,
    "nbgrader": {
     "cell_type": "markdown",
     "checksum": "b3eb77be74eecca205fc7b47316d1627",
     "grade": false,
     "grade_id": "cell-bb60dd5c092d0f2e",
     "locked": true,
     "schema_version": 3,
     "solution": false,
     "task": false
    }
   },
   "source": [
    "---\n",
    "---\n",
    "# Part 2: Semantic-based Matching (85 points) <a class=\"anchor\" id=\"part2\"></a>\n",
    "\n",
    "[Back to top](#top)\n",
    "\n",
    "We will now experiment with methods that go beyond lexical methods like TF-IDF, which operate at the word level and are high dimensional and sparse, and look at methods which constructs low dimensional dense representations of queries and documents. \n",
    "\n",
    "Since these low-dimensional methods have a higher time complexity, they are typically used in conjunction with methods like BM-25. That is, instead of searching through potentially million documents to find matches using low dimensional vectors, a list of K documents are retrieved using BM25, and then **re-ranked** using the other method. This is the method that is going to be applied in the following exercises. \n",
    "\n",
    "LSI/LDA takes documents that are similar on a semantic level - for instance, if they are describing the same topic - and projects them into nearby vectors, despite having low lexical overlap.\n",
    "\n",
    "In this assignment, you will use `gensim` to create LSI/LDA models and use them in re-ranking. \n",
    "\n",
    "**Note**: The following exercises only uses `doc_repr_2` and `config_2`\n",
    "\n",
    "Table of contents:\n",
    "- [Section 6: LSI](#lsi) (15 points)\n",
    "- [Section 7: LDA](#lda) (10 points)\n",
    "- [Section 8: Word2Vec/Doc2Vec](#2vec) (20 points)\n",
    "- [Section 8: Re-ranking](#reranking) (10 points)\n",
    "- [Section 9: Re-ranking Evaluation](#reranking_eval) (30 points)"
   ]
  },
  {
   "cell_type": "markdown",
   "metadata": {
    "deletable": false,
    "editable": false,
    "nbgrader": {
     "cell_type": "markdown",
     "checksum": "f7c7b2cab82f576ed0acf836ca57171c",
     "grade": false,
     "grade_id": "cell-6b2c81e7a8abd180",
     "locked": true,
     "schema_version": 3,
     "solution": false,
     "task": false
    }
   },
   "source": [
    "---\n",
    "## Section 6: Latent Semantic Indexing (LSI) (15 points) <a class=\"anchor\" id=\"lsi\"></a>\n",
    "\n",
    "[Back to Part 2](#part2)\n",
    "\n",
    "LSI is one of the methods to embed the queries and documents into vectors. It is based on a method similar to Principal Component Analysis (PCA) for obtaining a dense concept matrix out of the sparse term-document matrix.\n",
    "\n",
    "See [wikipedia](https://en.wikipedia.org/wiki/Latent_semantic_analysis), particularly [#Mathematics_of_LSI](https://en.wikipedia.org/wiki/Latent_semantic_analysis#Mathematics_of_LSI)."
   ]
  },
  {
   "cell_type": "code",
   "execution_count": 21,
   "metadata": {
    "deletable": false,
    "editable": false,
    "nbgrader": {
     "cell_type": "code",
     "checksum": "c17ee75319cb517e2bf48ec3d9efc329",
     "grade": false,
     "grade_id": "cell-59913daee47f680d",
     "locked": true,
     "schema_version": 3,
     "solution": false,
     "task": false
    }
   },
   "outputs": [],
   "source": [
    "from gensim.corpora import Dictionary\n",
    "from gensim.models import LdaModel, LsiModel, Word2Vec\n",
    "from gensim.models.doc2vec import Doc2Vec, TaggedDocument\n",
    "from gensim import downloader as g_downloader\n",
    "# gensim uses logging, so set it up \n",
    "import logging\n",
    "logging.basicConfig(format='%(asctime)s : %(levelname)s : %(message)s', level=logging.INFO)"
   ]
  },
  {
   "cell_type": "markdown",
   "metadata": {
    "deletable": false,
    "editable": false,
    "nbgrader": {
     "cell_type": "markdown",
     "checksum": "5fce140c546759b54a9fc060901ae77c",
     "grade": false,
     "grade_id": "cell-3644faff4976598a",
     "locked": true,
     "schema_version": 3,
     "solution": false,
     "task": false
    }
   },
   "source": [
    "---\n",
    "### Section 6.1: Cosine Similarity (5 points)<a class=\"anchor\" id=\"cosing_sim\"></a>\n",
    "Before we begin, let us first define our method of similarity for the LSI model, the cosine similarity:\n",
    "\n",
    "$$\\text{similarity} = \\cos(\\theta) = {\\mathbf{A} \\cdot \\mathbf{B} \\over \\|\\mathbf{A}\\| \\|\\mathbf{B}\\|} = \\frac{ \\sum\\limits_{i=1}^{n}{A_i  B_i} }{ \\sqrt{\\sum\\limits_{i=1}^{n}{A_i^2}}  \\sqrt{\\sum\\limits_{i=1}^{n}{B_i^2}} }$$\n",
    "\n",
    "Since we are using gensim, the types of vectors returned by their classes are of the form defined below (they are not just simple vectors):"
   ]
  },
  {
   "cell_type": "code",
   "execution_count": 22,
   "metadata": {
    "deletable": false,
    "editable": false,
    "nbgrader": {
     "cell_type": "code",
     "checksum": "4e340e1a1d546f430c018fd0760e707a",
     "grade": false,
     "grade_id": "cell-3995a50f951314d5",
     "locked": true,
     "schema_version": 3,
     "solution": false,
     "task": false
    }
   },
   "outputs": [],
   "source": [
    "# 1, 2, 3 are either latent dimensions (LSI), or topics (LDA)\n",
    "# The second value in each tuple is a number (LSI) or a probability (LDA)  \n",
    "example_vec_1 = [(1, 0.2), (2, 0.3), (3, 0.4)]\n",
    "example_vec_2 = [(1, 0.2), (2, 0.7), (3, 0.4)]"
   ]
  },
  {
   "cell_type": "markdown",
   "metadata": {
    "deletable": false,
    "editable": false,
    "nbgrader": {
     "cell_type": "markdown",
     "checksum": "20832fd4f579f49ae204b0efee02edd1",
     "grade": false,
     "grade_id": "cell-5e54d581858dc8f7",
     "locked": true,
     "schema_version": 3,
     "solution": false,
     "task": false
    }
   },
   "source": [
    "---\n",
    "**Implementation (2+3 points):**\n",
    "Now, implement the `dot product` operation on these types of vectors and using this operator, implement the `cosine similarity` (don't forget: two functions to implement!):"
   ]
  },
  {
   "cell_type": "code",
   "execution_count": 23,
   "metadata": {
    "deletable": false,
    "nbgrader": {
     "cell_type": "code",
     "checksum": "06a712ee75fc213a21c5f0067fd8fe28",
     "grade": false,
     "grade_id": "cell-0e8189f5f93de33f",
     "locked": false,
     "schema_version": 3,
     "solution": true,
     "task": false
    }
   },
   "outputs": [],
   "source": [
    "# TODO: Implement this! (2 points)\n",
    "def dot(vec_1, vec_2):\n",
    "    \"\"\"\n",
    "    vec_1 and vec_2 are of the form: [(int, float), (int, float), ...]\n",
    "    Return the dot product of two such vectors, computed only on the floats\n",
    "    You can assume that the lengths of the vectors are the same, and the dimensions are aligned\n",
    "        i.e you won't get: vec_1 = [(1, 0.2)] ; vec_2 = [(2, 0.3)]\n",
    "                            (dimensions are unaligned and lengths are different)\n",
    "    \"\"\"\n",
    "    # YOUR CODE HERE\n",
    "    return np.dot([x[1] for x in vec_1], [y[1] for y in vec_2])\n",
    "\n",
    "\n",
    "# TODO: Implement this! (3 points)\n",
    "def cosine_sim(vec_1, vec_2):\n",
    "    # YOUR CODE HERE\n",
    "\n",
    "    # Adding a custom function to compute the modulus\n",
    "    def mod(\n",
    "        vec,\n",
    "    ):  # Note: This still assumes that the vector is in the form : [(int, float), (int, float), ...]\n",
    "        return np.sqrt(sum(x[1] ** 2 for x in vec))\n",
    "\n",
    "    return dot(vec_1, vec_2) / (mod(vec_1) * mod(vec_2))"
   ]
  },
  {
   "cell_type": "code",
   "execution_count": 24,
   "metadata": {
    "deletable": false,
    "editable": false,
    "nbgrader": {
     "cell_type": "code",
     "checksum": "d22a4a7325ba7815a808390388f534a1",
     "grade": true,
     "grade_id": "cell-b25d04ed6b79fd35",
     "locked": true,
     "points": 2,
     "schema_version": 3,
     "solution": false,
     "task": false
    }
   },
   "outputs": [
    {
     "name": "stdout",
     "output_type": "stream",
     "text": [
      "vectors: ([(1, 0.2), (2, 0.3), (3, 0.4)], [(1, 0.2), (2, 0.7), (3, 0.4)])\n",
      "dot product = 0.41000000000000003\n",
      "cosine similarity = 0.9165587597202866\n"
     ]
    }
   ],
   "source": [
    "##### Function check\n",
    "print(f'vectors: {(example_vec_1,example_vec_2)}')\n",
    "print(f'dot product = {dot(example_vec_1,example_vec_2)}')\n",
    "print(f'cosine similarity = {cosine_sim(example_vec_1,example_vec_2)}')\n",
    "##### "
   ]
  },
  {
   "cell_type": "code",
   "execution_count": 25,
   "metadata": {
    "deletable": false,
    "editable": false,
    "nbgrader": {
     "cell_type": "code",
     "checksum": "0744131724ce76b1b3f163b4bae5f700",
     "grade": true,
     "grade_id": "cell-ae3c4466866ace77",
     "locked": true,
     "points": 3,
     "schema_version": 3,
     "solution": false,
     "task": false
    }
   },
   "outputs": [],
   "source": [
    "#### Please do not change this. This cell is used for grading."
   ]
  },
  {
   "cell_type": "markdown",
   "metadata": {
    "deletable": false,
    "editable": false,
    "nbgrader": {
     "cell_type": "markdown",
     "checksum": "9b123f599f9ea372d14676e23f1c6a52",
     "grade": false,
     "grade_id": "cell-4b2534067c44fcdf",
     "locked": true,
     "schema_version": 3,
     "solution": false,
     "task": false
    }
   },
   "source": [
    "---\n",
    "### Section 6.2: LSI Retrieval (10 points)<a class=\"anchor\" id=\"lsi_retrieval\"></a>\n",
    "LSI retrieval is simply ranking the documents based on their cosine similarity to the query vector.\n",
    "First, let's write a parent class for vector-based retrieval models:"
   ]
  },
  {
   "cell_type": "code",
   "execution_count": 26,
   "metadata": {
    "deletable": false,
    "editable": false,
    "nbgrader": {
     "cell_type": "code",
     "checksum": "ecc111d58182570e2252b8ef5d6b02af",
     "grade": false,
     "grade_id": "cell-937936cea18711ee",
     "locked": true,
     "schema_version": 3,
     "solution": false,
     "task": false
    }
   },
   "outputs": [],
   "source": [
    "class VectorSpaceRetrievalModel:\n",
    "    \"\"\"\n",
    "        Parent class for Dense Vector Retrieval models\n",
    "    \"\"\"\n",
    "    def __init__(self, doc_repr):\n",
    "        \"\"\"\n",
    "            document_collection: \n",
    "                [\n",
    "                    (doc_id_1, [token 1, token 2, ...]), \n",
    "                    (doc_id_2, [token 1, token 2, ....]) \n",
    "                    ...\n",
    "                ]\n",
    "\n",
    "        \"\"\"\n",
    "        self.doc_repr = doc_repr\n",
    "        self.documents = [_[1] for _ in self.doc_repr]\n",
    "        \n",
    "        # construct a dictionary\n",
    "        self.dictionary = Dictionary(self.documents)\n",
    "        # Filter out words that occur less than 20 documents, or more than 50% of the documents.\n",
    "        self.dictionary.filter_extremes(no_below=10)\n",
    "        self.corpus = [self.dictionary.doc2bow(doc) for doc in self.documents]\n",
    "    \n",
    "        # Make a index to word dictionary.\n",
    "        temp = self.dictionary[0]  # This is only to \"load\" the dictionary.\n",
    "        self.id2word = self.dictionary.id2token\n",
    "        \n",
    "        # this is set by the train_model function\n",
    "        self.model = None\n",
    "        \n",
    "        \n",
    "    def vectorize_documents(self):\n",
    "        \"\"\"\n",
    "            Returns a doc_id -> vector dictionary\n",
    "        \"\"\"\n",
    "        vectors = {}\n",
    "        for (doc_id, _), cc in zip(self.doc_repr, self.corpus):\n",
    "            vectors[doc_id] = self.model[cc]\n",
    "        return vectors\n",
    "\n",
    "    def vectorize_query(self, query):\n",
    "        # Note the use of config_2 here!\n",
    "        query = process_text(query, **config_2)\n",
    "        query_vector = self.dictionary.doc2bow(query)\n",
    "        return self.model[query_vector]\n",
    "    \n",
    "    def train_model(self):\n",
    "        \"\"\"\n",
    "            Trains a model and sets the 'self.model' variable. \n",
    "            Make sure to use the variables created in the __init__ method.\n",
    "            e.g the variables which may be useful: {corpus, dictionary, id2word}\n",
    "        \"\"\"\n",
    "        raise NotImplementedError()"
   ]
  },
  {
   "cell_type": "markdown",
   "metadata": {
    "deletable": false,
    "editable": false,
    "nbgrader": {
     "cell_type": "markdown",
     "checksum": "ff161eefd9b81b768cd6361bc1a502b0",
     "grade": false,
     "grade_id": "cell-704a18c2f80cd60c",
     "locked": true,
     "schema_version": 3,
     "solution": false,
     "task": false
    }
   },
   "source": [
    "---\n",
    "**Implementation (5 points):**\n",
    "Implement the `train_model` method in the following class (note that this is only one line of code in `gensim`!). Ensure that the parameters defined in the `__init__` method are not changed, and are *used in the `train_method` function*. Normally, the hyperaparameter space will be searched using grid search / other methods - in this assignment we have provided the hyperparameters for you.\n",
    "\n",
    "The last two lines of code train an LSI model on the list of documents which have been stemmed, lower-cased and have stopwords removed. "
   ]
  },
  {
   "cell_type": "code",
   "execution_count": 27,
   "metadata": {
    "deletable": false,
    "nbgrader": {
     "cell_type": "code",
     "checksum": "0e90eedc27c248bc1ae050518a46a46c",
     "grade": false,
     "grade_id": "cell-307682c9089f15d6",
     "locked": false,
     "schema_version": 3,
     "solution": true,
     "task": false
    }
   },
   "outputs": [],
   "source": [
    "# TODO: Implement this! (5 points)\n",
    "class LsiRetrievalModel(VectorSpaceRetrievalModel):\n",
    "    def __init__(self, doc_repr):\n",
    "        super().__init__(doc_repr)\n",
    "\n",
    "        self.num_topics = 100\n",
    "        self.chunksize = 2000\n",
    "\n",
    "    def train_model(self):\n",
    "        self.model = LsiModel(\n",
    "            corpus=self.corpus,\n",
    "            id2word=self.id2word,\n",
    "            num_topics=self.num_topics,\n",
    "            chunksize=self.chunksize,\n",
    "        )"
   ]
  },
  {
   "cell_type": "code",
   "execution_count": 35,
   "metadata": {},
   "outputs": [
    {
     "name": "stderr",
     "output_type": "stream",
     "text": [
      "2022-02-15 11:25:51,244 : INFO : adding document #0 to Dictionary(0 unique tokens: [])\n",
      "2022-02-15 11:25:51,760 : INFO : built Dictionary(5937 unique tokens: ['-', 'algebra', 'intern', 'languag', 'preliminari']...) from 3204 documents (total 115969 corpus positions)\n",
      "2022-02-15 11:25:51,770 : INFO : discarding 4740 tokens: [('repeat', 8), ('glossari', 7), ('inspect', 8), ('uncol', 2), ('rung', 9), ('secant', 2), ('.', 1603), ('acceler', 6), ('diverg', 3), ('induc', 9)]...\n",
      "2022-02-15 11:25:51,789 : INFO : keeping 1197 tokens which were in no less than 10 and no more than 1602 (=50.0%) documents\n",
      "2022-02-15 11:25:51,793 : INFO : resulting dictionary: Dictionary(1197 unique tokens: ['-', 'algebra', 'intern', 'languag', 'preliminari']...)\n",
      "2022-02-15 11:25:51,875 : INFO : using serial LSI version on this node\n",
      "2022-02-15 11:25:51,876 : INFO : updating model with new documents\n",
      "2022-02-15 11:25:51,877 : INFO : preparing a new chunk of documents\n",
      "2022-02-15 11:25:51,890 : INFO : using 100 extra samples and 2 power iterations\n",
      "2022-02-15 11:25:51,892 : INFO : 1st phase: constructing (1197, 200) action matrix\n",
      "2022-02-15 11:25:51,908 : INFO : orthonormalizing (1197, 200) action matrix\n",
      "2022-02-15 11:25:51,958 : INFO : 2nd phase: running dense svd on (200, 2000) matrix\n",
      "2022-02-15 11:25:52,011 : INFO : computing the final decomposition\n",
      "2022-02-15 11:25:52,012 : INFO : keeping 100 factors (discarding 13.435% of energy spectrum)\n",
      "2022-02-15 11:25:52,016 : INFO : processed documents up to #2000\n",
      "2022-02-15 11:25:52,017 : INFO : topic #0(152.127): 0.741*\",\" + 0.342*\"-\" + 0.211*\"system\" + 0.204*\"program\" + 0.192*\"comput\" + 0.146*\"(\" + 0.127*\"languag\" + 0.108*\")\" + 0.084*\"gener\" + 0.083*\"data\"\n",
      "2022-02-15 11:25:52,018 : INFO : topic #1(60.600): 0.607*\"(\" + 0.434*\")\" + 0.366*\"algorithm\" + 0.300*\"-\" + -0.237*\",\" + -0.213*\"system\" + -0.132*\"comput\" + 0.096*\"[\" + -0.093*\"program\" + 0.084*\"])\"\n",
      "2022-02-15 11:25:52,022 : INFO : topic #2(57.438): 0.744*\"-\" + -0.452*\",\" + 0.263*\"system\" + -0.214*\"(\" + -0.166*\")\" + 0.107*\"time\" + 0.105*\"program\" + -0.094*\"algorithm\" + 0.068*\"comput\" + 0.067*\"share\"\n",
      "2022-02-15 11:25:52,024 : INFO : topic #3(48.370): -0.483*\"system\" + -0.375*\"program\" + -0.367*\"comput\" + 0.363*\"-\" + 0.308*\",\" + -0.212*\"(\" + -0.168*\")\" + -0.147*\"algorithm\" + 0.144*\"languag\" + -0.119*\"time\"\n",
      "2022-02-15 11:25:52,025 : INFO : topic #4(45.710): 0.489*\"comput\" + -0.475*\"languag\" + -0.428*\"program\" + 0.238*\"method\" + 0.141*\"problem\" + -0.121*\"system\" + -0.109*\")\" + 0.107*\"equat\" + 0.100*\"algorithm\" + -0.099*\"(\"\n",
      "2022-02-15 11:25:52,026 : INFO : preparing a new chunk of documents\n",
      "2022-02-15 11:25:52,051 : INFO : using 100 extra samples and 2 power iterations\n",
      "2022-02-15 11:25:52,052 : INFO : 1st phase: constructing (1197, 200) action matrix\n",
      "2022-02-15 11:25:52,066 : INFO : orthonormalizing (1197, 200) action matrix\n",
      "2022-02-15 11:25:52,139 : INFO : 2nd phase: running dense svd on (200, 1204) matrix\n",
      "2022-02-15 11:25:52,195 : INFO : computing the final decomposition\n",
      "2022-02-15 11:25:52,197 : INFO : keeping 100 factors (discarding 14.018% of energy spectrum)\n",
      "2022-02-15 11:25:52,201 : INFO : merging projections: (1197, 100) + (1197, 100)\n",
      "2022-02-15 11:25:52,231 : INFO : keeping 100 factors (discarding 8.165% of energy spectrum)\n",
      "2022-02-15 11:25:52,237 : INFO : processed documents up to #3204\n",
      "2022-02-15 11:25:52,238 : INFO : topic #0(225.136): 0.759*\",\" + 0.337*\"-\" + 0.196*\"system\" + 0.186*\"program\" + 0.166*\"comput\" + 0.139*\"(\" + 0.103*\")\" + 0.103*\"algorithm\" + 0.099*\"languag\" + 0.087*\"time\"\n",
      "2022-02-15 11:25:52,239 : INFO : topic #1(87.805): 0.613*\"-\" + -0.399*\",\" + 0.399*\"(\" + 0.326*\"algorithm\" + 0.293*\")\" + -0.129*\"system\" + -0.107*\"program\" + 0.085*\"method\" + 0.077*\"time\" + 0.062*\"1\"\n",
      "2022-02-15 11:25:52,243 : INFO : topic #2(81.909): 0.550*\"-\" + -0.434*\"(\" + 0.355*\"system\" + -0.321*\")\" + -0.291*\",\" + -0.266*\"algorithm\" + 0.146*\"program\" + 0.123*\"comput\" + 0.078*\"time\" + -0.064*\"[\"\n",
      "2022-02-15 11:25:52,246 : INFO : topic #3(72.432): -0.693*\"program\" + 0.339*\",\" + 0.279*\"-\" + -0.251*\"(\" + -0.221*\"system\" + -0.214*\"languag\" + -0.204*\")\" + -0.160*\"comput\" + -0.099*\"data\" + -0.056*\"execut\"\n",
      "2022-02-15 11:25:52,247 : INFO : topic #4(68.523): -0.673*\"system\" + 0.453*\"program\" + 0.254*\"languag\" + 0.212*\"-\" + -0.179*\"comput\" + -0.165*\"(\" + -0.121*\")\" + -0.115*\"model\" + 0.101*\",\" + -0.098*\"algorithm\"\n"
     ]
    },
    {
     "name": "stdout",
     "output_type": "stream",
     "text": [
      "Initial query: hello | After processing: ['hello'] | vector = []\n",
      "[]\n"
     ]
    }
   ],
   "source": [
    "##### Function check\n",
    "lsi = LsiRetrievalModel(doc_repr_2)\n",
    "lsi.train_model()\n",
    "\n",
    "# Note the use of config_2 here!\n",
    "query = \"hello\"\n",
    "query_processed = process_text(query, **config_2)\n",
    "query_vector = lsi.dictionary.doc2bow(query_processed)\n",
    "print(f\"Initial query: {query} | After processing: {query_processed} | vector = {query_vector}\")\n",
    "print(lsi.model[query_vector])\n",
    "\n"
   ]
  },
  {
   "cell_type": "code",
   "execution_count": 56,
   "metadata": {
    "deletable": false,
    "editable": false,
    "nbgrader": {
     "cell_type": "code",
     "checksum": "00399cfe13d60cb4beed1271e36004b0",
     "grade": true,
     "grade_id": "cell-5ce512650c1b2dfb",
     "locked": true,
     "points": 0,
     "schema_version": 3,
     "solution": false,
     "task": false
    }
   },
   "outputs": [
    {
     "name": "stderr",
     "output_type": "stream",
     "text": [
      "2022-02-15 10:48:34,801 : INFO : adding document #0 to Dictionary(0 unique tokens: [])\n",
      "2022-02-15 10:48:34,970 : INFO : built Dictionary(5937 unique tokens: ['-', 'algebra', 'intern', 'languag', 'preliminari']...) from 3204 documents (total 115969 corpus positions)\n",
      "2022-02-15 10:48:34,978 : INFO : discarding 4740 tokens: [('repeat', 8), ('glossari', 7), ('inspect', 8), ('uncol', 2), ('rung', 9), ('secant', 2), ('.', 1603), ('acceler', 6), ('diverg', 3), ('induc', 9)]...\n",
      "2022-02-15 10:48:34,978 : INFO : keeping 1197 tokens which were in no less than 10 and no more than 1602 (=50.0%) documents\n",
      "2022-02-15 10:48:34,984 : INFO : resulting dictionary: Dictionary(1197 unique tokens: ['-', 'algebra', 'intern', 'languag', 'preliminari']...)\n",
      "2022-02-15 10:48:35,067 : INFO : using serial LSI version on this node\n",
      "2022-02-15 10:48:35,067 : INFO : updating model with new documents\n",
      "2022-02-15 10:48:35,068 : INFO : preparing a new chunk of documents\n",
      "2022-02-15 10:48:35,086 : INFO : using 100 extra samples and 2 power iterations\n",
      "2022-02-15 10:48:35,090 : INFO : 1st phase: constructing (1197, 200) action matrix\n",
      "2022-02-15 10:48:35,115 : INFO : orthonormalizing (1197, 200) action matrix\n",
      "2022-02-15 10:48:35,162 : INFO : 2nd phase: running dense svd on (200, 2000) matrix\n",
      "2022-02-15 10:48:35,214 : INFO : computing the final decomposition\n",
      "2022-02-15 10:48:35,215 : INFO : keeping 100 factors (discarding 13.446% of energy spectrum)\n",
      "2022-02-15 10:48:35,223 : INFO : processed documents up to #2000\n",
      "2022-02-15 10:48:35,225 : INFO : topic #0(152.127): 0.741*\",\" + 0.342*\"-\" + 0.211*\"system\" + 0.204*\"program\" + 0.192*\"comput\" + 0.146*\"(\" + 0.127*\"languag\" + 0.108*\")\" + 0.084*\"gener\" + 0.083*\"data\"\n",
      "2022-02-15 10:48:35,227 : INFO : topic #1(60.600): 0.607*\"(\" + 0.434*\")\" + 0.366*\"algorithm\" + 0.300*\"-\" + -0.237*\",\" + -0.213*\"system\" + -0.132*\"comput\" + 0.096*\"[\" + -0.093*\"program\" + 0.084*\"])\"\n",
      "2022-02-15 10:48:35,228 : INFO : topic #2(57.438): 0.744*\"-\" + -0.452*\",\" + 0.263*\"system\" + -0.214*\"(\" + -0.166*\")\" + 0.107*\"time\" + 0.105*\"program\" + -0.094*\"algorithm\" + 0.068*\"comput\" + 0.067*\"share\"\n",
      "2022-02-15 10:48:35,231 : INFO : topic #3(48.370): -0.483*\"system\" + -0.375*\"program\" + -0.367*\"comput\" + 0.363*\"-\" + 0.308*\",\" + -0.212*\"(\" + -0.168*\")\" + -0.147*\"algorithm\" + 0.144*\"languag\" + -0.119*\"time\"\n",
      "2022-02-15 10:48:35,233 : INFO : topic #4(45.710): -0.489*\"comput\" + 0.475*\"languag\" + 0.428*\"program\" + -0.238*\"method\" + -0.141*\"problem\" + 0.121*\"system\" + 0.109*\")\" + -0.107*\"equat\" + -0.100*\"algorithm\" + 0.099*\"(\"\n",
      "2022-02-15 10:48:35,234 : INFO : preparing a new chunk of documents\n",
      "2022-02-15 10:48:35,258 : INFO : using 100 extra samples and 2 power iterations\n",
      "2022-02-15 10:48:35,260 : INFO : 1st phase: constructing (1197, 200) action matrix\n",
      "2022-02-15 10:48:35,280 : INFO : orthonormalizing (1197, 200) action matrix\n",
      "2022-02-15 10:48:35,349 : INFO : 2nd phase: running dense svd on (200, 1204) matrix\n",
      "2022-02-15 10:48:35,394 : INFO : computing the final decomposition\n",
      "2022-02-15 10:48:35,395 : INFO : keeping 100 factors (discarding 14.002% of energy spectrum)\n",
      "2022-02-15 10:48:35,405 : INFO : merging projections: (1197, 100) + (1197, 100)\n",
      "2022-02-15 10:48:35,434 : INFO : keeping 100 factors (discarding 8.176% of energy spectrum)\n",
      "2022-02-15 10:48:35,444 : INFO : processed documents up to #3204\n",
      "2022-02-15 10:48:35,445 : INFO : topic #0(225.136): 0.759*\",\" + 0.337*\"-\" + 0.196*\"system\" + 0.186*\"program\" + 0.166*\"comput\" + 0.139*\"(\" + 0.103*\")\" + 0.103*\"algorithm\" + 0.099*\"languag\" + 0.087*\"time\"\n",
      "2022-02-15 10:48:35,450 : INFO : topic #1(87.805): 0.613*\"-\" + -0.399*\",\" + 0.399*\"(\" + 0.326*\"algorithm\" + 0.293*\")\" + -0.129*\"system\" + -0.107*\"program\" + 0.085*\"method\" + 0.077*\"time\" + 0.062*\"1\"\n",
      "2022-02-15 10:48:35,454 : INFO : topic #2(81.909): 0.550*\"-\" + -0.434*\"(\" + 0.355*\"system\" + -0.321*\")\" + -0.291*\",\" + -0.266*\"algorithm\" + 0.146*\"program\" + 0.123*\"comput\" + 0.078*\"time\" + -0.064*\"[\"\n",
      "2022-02-15 10:48:35,455 : INFO : topic #3(72.433): -0.693*\"program\" + 0.339*\",\" + 0.279*\"-\" + -0.251*\"(\" + -0.221*\"system\" + -0.214*\"languag\" + -0.204*\")\" + -0.160*\"comput\" + -0.099*\"data\" + -0.056*\"execut\"\n",
      "2022-02-15 10:48:35,462 : INFO : topic #4(68.522): -0.673*\"system\" + 0.453*\"program\" + 0.254*\"languag\" + 0.212*\"-\" + -0.179*\"comput\" + -0.165*\"(\" + -0.121*\")\" + -0.115*\"model\" + 0.101*\",\" + -0.098*\"algorithm\"\n"
     ]
    },
    {
     "data": {
      "text/plain": [
       "[(0, 0.015215605070165865),\n",
       " (1, -0.016255766978734317),\n",
       " (2, -0.00018645031177055545),\n",
       " (3, -0.0018331283555530764),\n",
       " (4, -0.00938403823040099),\n",
       " (5, -0.004732715993229101),\n",
       " (6, 0.026899959844571077),\n",
       " (7, 0.016795181239987595),\n",
       " (8, -0.0319648476277222),\n",
       " (9, -0.0006351662514865984),\n",
       " (10, 0.002261587069228697),\n",
       " (11, -0.017391169395496585),\n",
       " (12, -1.2693318055253394e-05),\n",
       " (13, 0.0014988657181824808),\n",
       " (14, 0.005014940251068999),\n",
       " (15, 0.005509661427796935),\n",
       " (16, 0.005532444403658825),\n",
       " (17, 0.0018507477894534885),\n",
       " (18, -0.01673541438601271),\n",
       " (19, 0.01956108689757126),\n",
       " (20, -0.0091365258850328),\n",
       " (21, -0.01458256919913467),\n",
       " (22, 0.04674872240434533),\n",
       " (23, 0.0256458213137163),\n",
       " (24, -0.010438007141979387),\n",
       " (25, -0.010799916131852922),\n",
       " (26, 0.004900768148607562),\n",
       " (27, 0.0756470728644816),\n",
       " (28, -0.06571745729734724),\n",
       " (29, 0.032134755004776076),\n",
       " (30, 0.040929262114662426),\n",
       " (31, 0.048294895076440976),\n",
       " (32, -0.07179507324141568),\n",
       " (33, 0.04544694935522398),\n",
       " (34, -0.02074015874519887),\n",
       " (35, 0.06619048267511725),\n",
       " (36, 0.043269730969206416),\n",
       " (37, -0.008502789820978953),\n",
       " (38, -0.0580341542153454),\n",
       " (39, 0.02311152891056307),\n",
       " (40, -0.04320407749511783),\n",
       " (41, -0.032301117593753446),\n",
       " (42, 0.027310003223718307),\n",
       " (43, 0.005653067349483704),\n",
       " (44, 0.016516620550100204),\n",
       " (45, 0.05542034209565597),\n",
       " (46, -0.012080523500970497),\n",
       " (47, 0.015057851199680361),\n",
       " (48, 0.01778087179762145),\n",
       " (49, 0.03092344999592513),\n",
       " (50, 0.015605013147705264),\n",
       " (51, 0.04783307786973355),\n",
       " (52, -0.013672821640367209),\n",
       " (53, 0.008191732068689953),\n",
       " (54, 0.034944940295790095),\n",
       " (55, 0.02659893183017466),\n",
       " (56, -0.013847282967330347),\n",
       " (57, -0.00974931383958411),\n",
       " (58, -0.02230019563441412),\n",
       " (59, 0.043126254778690844),\n",
       " (60, -0.0007930476102202301),\n",
       " (61, 0.042104168935605035),\n",
       " (62, 0.03744058870971905),\n",
       " (63, -0.03182040907631578),\n",
       " (64, 0.03974189029853484),\n",
       " (65, 0.045935437409903995),\n",
       " (66, -0.006548201000638562),\n",
       " (67, -0.03486085384444311),\n",
       " (68, 0.051524198180294044),\n",
       " (69, -0.044102108516971),\n",
       " (70, -0.06147569850912892),\n",
       " (71, -0.018861250853231024),\n",
       " (72, 0.011851544761375019),\n",
       " (73, 0.09264169995793817),\n",
       " (74, -0.024735346466268578),\n",
       " (75, 0.04787143789032411),\n",
       " (76, 0.024338321193344333),\n",
       " (77, 0.014104847405686266),\n",
       " (78, 0.03761698254413783),\n",
       " (79, 0.01375307967507522),\n",
       " (80, -0.025347610516999408),\n",
       " (81, -0.009711969570604715),\n",
       " (82, 0.06919683994189339),\n",
       " (83, 0.004402454138872922),\n",
       " (84, -0.04379429655261517),\n",
       " (85, 0.014864754495884619),\n",
       " (86, 0.014063950699830826),\n",
       " (87, -0.04342572861656382),\n",
       " (88, -0.05551622588241427),\n",
       " (89, -0.08866996967007704),\n",
       " (90, -0.015836512985109866),\n",
       " (91, 0.04364300397455093),\n",
       " (92, 0.015557749483930242),\n",
       " (93, 0.04505354739302374),\n",
       " (94, 0.013497989007110398),\n",
       " (95, -0.05338092702191753),\n",
       " (96, -0.01241904974872014),\n",
       " (97, 0.004327801532101985),\n",
       " (98, 0.004345740938457784),\n",
       " (99, -0.02960303454253579)]"
      ]
     },
     "execution_count": 56,
     "metadata": {},
     "output_type": "execute_result"
    }
   ],
   "source": [
    "##### Function check\n",
    "lsi = LsiRetrievalModel(doc_repr_2)\n",
    "lsi.train_model()\n",
    "\n",
    "# you can now get an LSI vector for a given query in the following way:\n",
    "lsi.vectorize_query(\"report\")\n",
    "##### "
   ]
  },
  {
   "cell_type": "markdown",
   "metadata": {
    "deletable": false,
    "editable": false,
    "nbgrader": {
     "cell_type": "markdown",
     "checksum": "7116bb9f576c5bb04934e1d59c51d729",
     "grade": false,
     "grade_id": "cell-4c5eeb557b4fca2f",
     "locked": true,
     "points": 5,
     "schema_version": 3,
     "solution": false,
     "task": true
    }
   },
   "source": [
    "\\#### Please do not change this. This cell is used for grading."
   ]
  },
  {
   "cell_type": "markdown",
   "metadata": {
    "deletable": false,
    "editable": false,
    "nbgrader": {
     "cell_type": "markdown",
     "checksum": "26e2ff3c413745e633d99f66c041d6b1",
     "grade": false,
     "grade_id": "cell-c4e50296cd17a555",
     "locked": true,
     "schema_version": 3,
     "solution": false,
     "task": false
    }
   },
   "source": [
    "---\n",
    "**Implementation (5 points):**\n",
    " Next, implement a basic ranking class for vector space retrieval (used for all semantic methods): "
   ]
  },
  {
   "cell_type": "code",
   "execution_count": 59,
   "metadata": {
    "deletable": false,
    "nbgrader": {
     "cell_type": "code",
     "checksum": "1a8389d2f0635c3405e2b0b27ed9f327",
     "grade": false,
     "grade_id": "cell-250515d288e80cdc",
     "locked": false,
     "schema_version": 3,
     "solution": true,
     "task": false
    }
   },
   "outputs": [],
   "source": [
    "# TODO: Implement this! (5 points)\n",
    "class DenseRetrievalRanker:\n",
    "    def __init__(self, vsrm, similarity_fn):\n",
    "        \"\"\"\n",
    "        vsrm: instance of `VectorSpaceRetrievalModel`\n",
    "        similarity_fn: function instance that takes in two vectors\n",
    "                        and returns a similarity score e.g cosine_sim defined earlier\n",
    "        \"\"\"\n",
    "        self.vsrm = vsrm\n",
    "        self.vectorized_documents = self.vsrm.vectorize_documents()\n",
    "        self.similarity_fn = similarity_fn\n",
    "\n",
    "    def _compute_sim(self, query_vector):\n",
    "        \"\"\"\n",
    "        Compute the similarity of `query_vector` to documents in\n",
    "        `self.vectorized_documents` using `self.similarity_fn`\n",
    "        Returns a list of (doc_id, score) tuples\n",
    "        \"\"\"\n",
    "        result = []\n",
    "        for doc_id, doc in self.vectorized_documents.items():\n",
    "            # check if doc isn't empty (happens with doc_id = 235 for example\n",
    "            if len(doc) > 0:\n",
    "                result.append((doc_id, self.similarity_fn(query_vector, doc)))\n",
    "            # else:\n",
    "            #     result.append((doc_id, 0))\n",
    "        return result\n",
    "\n",
    "    def search(self, query):\n",
    "        scores = self._compute_sim(self.vsrm.vectorize_query(query))\n",
    "        scores.sort(key=lambda _: -_[1])\n",
    "        return scores"
   ]
  },
  {
   "cell_type": "code",
   "execution_count": 60,
   "metadata": {
    "deletable": false,
    "editable": false,
    "nbgrader": {
     "cell_type": "code",
     "checksum": "f237dd1ef6c1783c06797f4b514421f5",
     "grade": true,
     "grade_id": "cell-b73068b3e77a8e31",
     "locked": true,
     "points": 0,
     "schema_version": 3,
     "solution": false,
     "task": false
    }
   },
   "outputs": [
    {
     "data": {
      "text/plain": [
       "[('599', 0.7932288124479986),\n",
       " ('947', 0.5844977563731929),\n",
       " ('53', 0.4952399398131121),\n",
       " ('1339', 0.44948493013996577),\n",
       " ('3160', 0.4488245789998792)]"
      ]
     },
     "execution_count": 60,
     "metadata": {},
     "output_type": "execute_result"
    }
   ],
   "source": [
    "##### Function check\n",
    "drm_lsi = DenseRetrievalRanker(lsi, cosine_sim)\n",
    "drm_lsi.search(\"report\")[:5]\n",
    "##### "
   ]
  },
  {
   "cell_type": "markdown",
   "metadata": {
    "deletable": false,
    "editable": false,
    "nbgrader": {
     "cell_type": "markdown",
     "checksum": "5b3f19fdcaa585d263706d5a26038799",
     "grade": false,
     "grade_id": "cell-034c755a6502b868",
     "locked": true,
     "points": 5,
     "schema_version": 3,
     "solution": false,
     "task": true
    }
   },
   "source": [
    "\\#### Please do not change this. This cell is used for grading."
   ]
  },
  {
   "cell_type": "markdown",
   "metadata": {
    "deletable": false,
    "editable": false,
    "nbgrader": {
     "cell_type": "markdown",
     "checksum": "dcafef6e037033c46304b914f7c78bdf",
     "grade": false,
     "grade_id": "cell-d1df23f497d5ed6b",
     "locked": true,
     "schema_version": 3,
     "solution": false,
     "task": false
    }
   },
   "source": [
    "---\n",
    "Now, you can test your LSI model in the following cell: try finding queries which are lexically different to documents, but semantically similar - does LSI work well for these queries?!"
   ]
  },
  {
   "cell_type": "code",
   "execution_count": 61,
   "metadata": {
    "deletable": false,
    "editable": false,
    "nbgrader": {
     "cell_type": "code",
     "checksum": "11734bc7674377b340ad51297a8e8bb5",
     "grade": false,
     "grade_id": "cell-efd1d08dfc04ec3e",
     "locked": true,
     "schema_version": 3,
     "solution": false,
     "task": false
    }
   },
   "outputs": [
    {
     "data": {
      "application/vnd.jupyter.widget-view+json": {
       "model_id": "d6b1cb8a6bc9467d8fedbb2d446e9871",
       "version_major": 2,
       "version_minor": 0
      },
      "text/plain": [
       "Text(value='', description='Search Bar')"
      ]
     },
     "metadata": {},
     "output_type": "display_data"
    }
   ],
   "source": [
    "# test your LSI model\n",
    "search_fn = drm_lsi.search\n",
    "\n",
    "text = widgets.Text(description=\"Search Bar\", width=200)\n",
    "display(text)\n",
    "\n",
    "def make_results_2(query, search_fn):\n",
    "    results = []\n",
    "    for doc_id, score in search_fn(query):\n",
    "        highlight = highlight_text(docs_by_id[doc_id], query)\n",
    "        if len(highlight.strip()) == 0:\n",
    "            highlight = docs_by_id[doc_id]\n",
    "        results.append(ResultRow(doc_id, highlight, score))\n",
    "    return results\n",
    "\n",
    "def handle_submit_2(sender):\n",
    "    print(f\"Searching for: '{sender.value}' (SEARCH FN: {search_fn})\")\n",
    "    \n",
    "    results = make_results_2(sender.value, search_fn)\n",
    "    \n",
    "    # display only the top 5\n",
    "    results = results[:5]\n",
    "    \n",
    "    body = \"\"\n",
    "    for idx, r in enumerate(results):\n",
    "        body += f\"<li>Document #{r.doc_id}({r.score}): {r.snippet}</li>\"\n",
    "    display(HTML(f\"<ul>{body}</ul>\"))\n",
    "    \n",
    "\n",
    "text.on_submit(handle_submit_2)"
   ]
  },
  {
   "cell_type": "markdown",
   "metadata": {
    "deletable": false,
    "editable": false,
    "nbgrader": {
     "cell_type": "markdown",
     "checksum": "d074ce1ca48384cdda78742741c938be",
     "grade": false,
     "grade_id": "cell-3a86cef264d8f6cf",
     "locked": true,
     "schema_version": 3,
     "solution": false,
     "task": false
    }
   },
   "source": [
    "---\n",
    "## Section 7: Latent Dirichlet Allocation (LDA) (10 points) <a class=\"anchor\" id=\"lda\"></a>\n",
    "\n",
    "[Back to Part 2](#part2)\n",
    "\n",
    "The specifics of LDA is out of the scope of this assignment, but we will use the `gensim` implementation to perform search using LDA over our small document collection. The key thing to remember is that LDA, unlike LSI, outputs a topic **distribution**, not a vector. With that in mind, let's first define a similarity measure.\n"
   ]
  },
  {
   "cell_type": "markdown",
   "metadata": {
    "deletable": false,
    "editable": false,
    "nbgrader": {
     "cell_type": "markdown",
     "checksum": "db01092373b18f0c9dfed1bb17db4ad9",
     "grade": false,
     "grade_id": "cell-6b78ad22c2d60ba7",
     "locked": true,
     "schema_version": 3,
     "solution": false,
     "task": false
    }
   },
   "source": [
    "---\n",
    "### Section 7.1: Jenson-Shannon divergence (5 points) <a class=\"anchor\" id=\"js_sim\"></a>\n",
    "\n",
    "The Jenson-Shannon divergence is a symmetric and finite measure on two probability distributions (unlike the KL, which is neither). For identical distributions, the JSD is equal to 0, and since our code uses 0 as irrelevant and higher scores as relevant, we use `(1 - JSD)` as the score or 'similarity' in our setup\n",
    "\n",
    "**Note**: the JSD is bounded to \\[0,1\\] only if we use log base 2. So please ensure that you're using `np.log2` instead of `np.log`"
   ]
  },
  {
   "cell_type": "code",
   "execution_count": 38,
   "metadata": {
    "deletable": false,
    "nbgrader": {
     "cell_type": "code",
     "checksum": "a579e6cd7a24a3516bc9a84528b392d3",
     "grade": false,
     "grade_id": "cell-d2376a85a4841e98",
     "locked": false,
     "schema_version": 3,
     "solution": true,
     "task": false
    }
   },
   "outputs": [],
   "source": [
    "## TODO: Implement this! (5 points)\n",
    "def jenson_shannon_divergence(vec_1, vec_2, assert_prob=False):\n",
    "    \"\"\"\n",
    "    Computes the Jensen-Shannon divergence between two probability distributions.\n",
    "    NOTE: DO NOT RETURN 1 - JSD here, that is handled by the next function which is already implemented!\n",
    "    The inputs are *gensim* vectors - same as the vectors for the cosine_sim function\n",
    "    assert_prob is a flag that checks if the inputs are proper probability distributions\n",
    "        i.e they sum to 1 and are positive - use this to check your inputs if needed.\n",
    "            (This is optional to implement, but recommended -\n",
    "            you can the default to False to save a few ms off the runtime)\n",
    "    \"\"\"\n",
    "    \n",
    "    # --------- Define a custom KL divergence function --------\n",
    "    def KL(a, b):\n",
    "        a = np.asarray(a, dtype=np.float)\n",
    "        b = np.asarray(b, dtype=np.float)\n",
    "\n",
    "        return np.sum(np.where(a != 0, a * np.log2(a / b), 0))log2(\n",
    "    # ---------------------------------------------------------\n",
    "\n",
    "    vec_1_probs = np.array([x[1] for x in vec_1])  # extracting the probabily values\n",
    "    vec_2_probs = np.array([y[1] for y in vec_2])  # extracting the probabily values\n",
    "\n",
    "    # if flag=True, assert that the inputs are proper probability distributions\n",
    "    if assert_prob:\n",
    "        assert np.sum(vec_1_probs) == 1 and all(\n",
    "            vec_1_probs > 0\n",
    "        ), \"Values of vector1 must sum to 1 and be positive\"\n",
    "        assert np.sum(vec_2_probs) == 1 and all(\n",
    "            vec_2_probs > 0\n",
    "        ), \"Values of vector2 must sum to 1 and be positive\"\n",
    "    \n",
    "    # If inputs are valid, compute divergence\n",
    "    m = 0.5 * (vec_1_probs + vec_2_probs)\n",
    "    return 0.5 * KL(vec_1_probs, m) + 0.5 * KL(vec_2_probs, m)\n",
    "\n",
    "def jenson_shannon_sim(vec_1, vec_2, assert_prob=False):\n",
    "    return 1 - jenson_shannon_divergence(vec_1, vec_2)"
   ]
  },
  {
   "cell_type": "code",
   "execution_count": 50,
   "metadata": {
    "deletable": false,
    "editable": false,
    "nbgrader": {
     "cell_type": "code",
     "checksum": "ab340aa941c9fb5c89b3fd0a9139e246",
     "grade": true,
     "grade_id": "cell-487c6d2933f38053",
     "locked": true,
     "points": 5,
     "schema_version": 3,
     "solution": false,
     "task": false
    }
   },
   "outputs": [
    {
     "data": {
      "text/plain": [
       "0.9251064410358459"
      ]
     },
     "execution_count": 50,
     "metadata": {},
     "output_type": "execute_result"
    }
   ],
   "source": [
    "##### Function check\n",
    "vec_1 = [(1, 0.3), (2, 0.4), (3, 0.3)]\n",
    "vec_2 = [(1, 0.1), (2, 0.7), (3, 0.2)]\n",
    "jenson_shannon_sim(vec_1, vec_2, assert_prob=True)\n",
    "##### "
   ]
  },
  {
   "cell_type": "markdown",
   "metadata": {
    "deletable": false,
    "editable": false,
    "nbgrader": {
     "cell_type": "markdown",
     "checksum": "0a1583a5f23e3390038331cce67f5d8e",
     "grade": false,
     "grade_id": "cell-4535cc67a50b80fa",
     "locked": true,
     "schema_version": 3,
     "solution": false,
     "task": false
    }
   },
   "source": [
    "---\n",
    "### Section 7.2: LDA retrieval (5 points) <a class=\"anchor\" id=\"lda_ret\"></a>\n",
    "\n",
    "Implement the `train_model` method in the following class (note that this is only one line of code in `gensim`!). Ensure that the parameters defined in the `__init__` method are not changed, and are *used in the `train_method` function*. You do not need to set this. Normally, the hyperaparameter space will be searched using grid search / other methods. Note that training the LDA model might take some time\n",
    "\n",
    "The last two lines of code train an LDA model on the list of documents which have been stemmed, lower-cased and have stopwords removed. "
   ]
  },
  {
   "cell_type": "code",
   "execution_count": 64,
   "metadata": {
    "deletable": false,
    "nbgrader": {
     "cell_type": "code",
     "checksum": "27de8e4fa85536bb396b73bfc51b3f50",
     "grade": false,
     "grade_id": "cell-021a48dff4a8bb91",
     "locked": false,
     "schema_version": 3,
     "solution": true,
     "task": false
    }
   },
   "outputs": [],
   "source": [
    "# TODO: Implement this! (5 points)\n",
    "class LdaRetrievalModel(VectorSpaceRetrievalModel):\n",
    "    def __init__(self, doc_repr):\n",
    "        super().__init__(doc_repr)\n",
    "\n",
    "        # use these parameters in the train_model method\n",
    "        self.num_topics = 100\n",
    "        self.chunksize = 2000\n",
    "        self.passes = 20\n",
    "        self.iterations = 400\n",
    "        self.eval_every = 10\n",
    "        # this is need to get full vectors\n",
    "        self.minimum_probability = 0.0\n",
    "        self.alpha = \"auto\"\n",
    "        self.eta = \"auto\"\n",
    "\n",
    "    def train_model(self):\n",
    "        # YOUR CODE HERE\n",
    "        self.model = LdaModel(\n",
    "            corpus=self.corpus,\n",
    "            id2word=self.id2word,\n",
    "            num_topics=self.num_topics,\n",
    "            chunksize=self.chunksize,\n",
    "            passes=self.passes,\n",
    "            iterations=self.iterations,\n",
    "            eval_every=self.eval_every,\n",
    "            minimum_probability=self.minimum_probability,\n",
    "            alpha=self.alpha,\n",
    "            eta=self.eta,\n",
    "        )"
   ]
  },
  {
   "cell_type": "code",
   "execution_count": 65,
   "metadata": {
    "deletable": false,
    "editable": false,
    "nbgrader": {
     "cell_type": "code",
     "checksum": "be70fcb8098d0b6ce64cd2a10e6a05b7",
     "grade": true,
     "grade_id": "cell-86750b715f0345fd",
     "locked": true,
     "points": 0,
     "schema_version": 3,
     "solution": false,
     "task": false
    }
   },
   "outputs": [
    {
     "name": "stderr",
     "output_type": "stream",
     "text": [
      "2022-02-15 10:50:23,332 : INFO : adding document #0 to Dictionary(0 unique tokens: [])\n",
      "2022-02-15 10:50:23,477 : INFO : built Dictionary(5937 unique tokens: ['-', 'algebra', 'intern', 'languag', 'preliminari']...) from 3204 documents (total 115969 corpus positions)\n",
      "2022-02-15 10:50:23,484 : INFO : discarding 4740 tokens: [('repeat', 8), ('glossari', 7), ('inspect', 8), ('uncol', 2), ('rung', 9), ('secant', 2), ('.', 1603), ('acceler', 6), ('diverg', 3), ('induc', 9)]...\n",
      "2022-02-15 10:50:23,485 : INFO : keeping 1197 tokens which were in no less than 10 and no more than 1602 (=50.0%) documents\n",
      "2022-02-15 10:50:23,489 : INFO : resulting dictionary: Dictionary(1197 unique tokens: ['-', 'algebra', 'intern', 'languag', 'preliminari']...)\n",
      "2022-02-15 10:50:23,593 : INFO : using autotuned alpha, starting with [0.01, 0.01, 0.01, 0.01, 0.01, 0.01, 0.01, 0.01, 0.01, 0.01, 0.01, 0.01, 0.01, 0.01, 0.01, 0.01, 0.01, 0.01, 0.01, 0.01, 0.01, 0.01, 0.01, 0.01, 0.01, 0.01, 0.01, 0.01, 0.01, 0.01, 0.01, 0.01, 0.01, 0.01, 0.01, 0.01, 0.01, 0.01, 0.01, 0.01, 0.01, 0.01, 0.01, 0.01, 0.01, 0.01, 0.01, 0.01, 0.01, 0.01, 0.01, 0.01, 0.01, 0.01, 0.01, 0.01, 0.01, 0.01, 0.01, 0.01, 0.01, 0.01, 0.01, 0.01, 0.01, 0.01, 0.01, 0.01, 0.01, 0.01, 0.01, 0.01, 0.01, 0.01, 0.01, 0.01, 0.01, 0.01, 0.01, 0.01, 0.01, 0.01, 0.01, 0.01, 0.01, 0.01, 0.01, 0.01, 0.01, 0.01, 0.01, 0.01, 0.01, 0.01, 0.01, 0.01, 0.01, 0.01, 0.01, 0.01]\n",
      "2022-02-15 10:50:23,594 : INFO : using serial LDA version on this node\n",
      "2022-02-15 10:50:23,608 : INFO : running online (multi-pass) LDA training, 100 topics, 20 passes over the supplied corpus of 3204 documents, updating model once every 2000 documents, evaluating perplexity every 3204 documents, iterating 400x with a convergence threshold of 0.001000\n",
      "2022-02-15 10:50:23,609 : INFO : PROGRESS: pass 0, at document #2000/3204\n",
      "2022-02-15 10:50:25,387 : INFO : optimized alpha [0.009834478, 0.0098289205, 0.009820626, 0.009819044, 0.009860915, 0.009788007, 0.009944567, 0.009777833, 0.009839639, 0.00982446, 0.009824267, 0.009866286, 0.009911842, 0.009782169, 0.009875926, 0.009824095, 0.00991279, 0.009803397, 0.009819162, 0.009850719, 0.009850173, 0.009798491, 0.00981397, 0.009854563, 0.009918841, 0.009772546, 0.009793084, 0.009824658, 0.009777671, 0.009860276, 0.009793306, 0.009777833, 0.009808831, 0.009798608, 0.009824329, 0.009772657, 0.009803777, 0.009876371, 0.009788224, 0.009870135, 0.009829264, 0.00981405, 0.009835116, 0.00979846, 0.009793236, 0.009792777, 0.009757089, 0.009880365, 0.009917765, 0.009793109, 0.009788225, 0.009803448, 0.009855835, 0.009829895, 0.009793199, 0.009813844, 0.009813815, 0.009787984, 0.010096026, 0.0097933635, 0.009787997, 0.009829469, 0.0098087685, 0.009860551, 0.009772487, 0.009839351, 0.009845262, 0.009866611, 0.009772656, 0.009835102, 0.009824249, 0.009803549, 0.00982947, 0.009782968, 0.009777694, 0.00989749, 0.009854941, 0.009912438, 0.009882005, 0.00981936, 0.009864974, 0.009886988, 0.009798552, 0.009824509, 0.009804333, 0.0098905135, 0.009798436, 0.009871196, 0.00979867, 0.009803541, 0.00977759, 0.009865567, 0.009772618, 0.009839437, 0.009860541, 0.009798469, 0.009834629, 0.009803852, 0.009850161, 0.009782945]\n",
      "2022-02-15 10:50:25,393 : INFO : merging changes from 2000 documents into a model of 3204 documents\n",
      "2022-02-15 10:50:25,403 : INFO : topic #49 (0.010): 0.061*\"method\" + 0.055*\"-\" + 0.046*\"fit\" + 0.040*\"curv\" + 0.040*\"gener\" + 0.035*\"(\" + 0.034*\"algorithm\" + 0.020*\"input\" + 0.020*\"matrix\" + 0.020*\"discuss\"\n",
      "2022-02-15 10:50:25,404 : INFO : topic #86 (0.010): 0.044*\"-\" + 0.035*\",\" + 0.031*\"algorithm\" + 0.026*\"model\" + 0.022*\"grammar\" + 0.022*\"\"\" + 0.022*\"structur\" + 0.022*\"data\" + 0.018*\"time\" + 0.018*\"control\"\n",
      "2022-02-15 10:50:25,405 : INFO : topic #6 (0.010): 0.074*\",\" + 0.036*\"-\" + 0.027*\"system\" + 0.021*\"languag\" + 0.016*\"program\" + 0.015*\"comput\" + 0.013*\"input\" + 0.012*\"(\" + 0.011*\"code\" + 0.009*\"process\"\n",
      "2022-02-15 10:50:25,406 : INFO : topic #48 (0.010): 0.063*\",\" + 0.030*\"-\" + 0.020*\"algorithm\" + 0.019*\"system\" + 0.019*\"data\" + 0.018*\"(\" + 0.015*\"program\" + 0.014*\"control\" + 0.013*\"oper\" + 0.012*\"paper\"\n",
      "2022-02-15 10:50:25,407 : INFO : topic #58 (0.010): 0.087*\",\" + 0.045*\"-\" + 0.024*\"program\" + 0.022*\"comput\" + 0.016*\"system\" + 0.010*\"time\" + 0.008*\"method\" + 0.008*\"(\" + 0.008*\"gener\" + 0.008*\"algorithm\"\n",
      "2022-02-15 10:50:25,409 : INFO : topic diff=82.693893, rho=1.000000\n",
      "2022-02-15 10:50:26,540 : INFO : -7.290 per-word bound, 156.5 perplexity estimate based on a held-out corpus of 1204 documents with 49783 words\n",
      "2022-02-15 10:50:26,540 : INFO : PROGRESS: pass 0, at document #3204/3204\n",
      "2022-02-15 10:50:27,451 : INFO : optimized alpha [0.00988096, 0.0097526, 0.0099163, 0.009936262, 0.010009355, 0.009740815, 0.010341864, 0.009952966, 0.009887312, 0.01003189, 0.009859616, 0.01002679, 0.00985646, 0.009741069, 0.010041481, 0.009853826, 0.009948333, 0.010013515, 0.01000862, 0.009993229, 0.00990848, 0.010073708, 0.0097613465, 0.009835618, 0.010098483, 0.009928987, 0.009828445, 0.009831106, 0.009713124, 0.009937176, 0.009822762, 0.010046963, 0.010050972, 0.009904907, 0.009889265, 0.009936455, 0.009857935, 0.010143793, 0.010472249, 0.010104243, 0.01001291, 0.0105584515, 0.010031136, 0.010015385, 0.009822568, 0.010102744, 0.009495997, 0.0099321315, 0.010191457, 0.00989126, 0.009911643, 0.009843184, 0.00986208, 0.009948282, 0.009769563, 0.009971115, 0.010066763, 0.009722882, 0.010454497, 0.009939216, 0.009752978, 0.010094386, 0.010180519, 0.010009039, 0.00979585, 0.010126932, 0.009988386, 0.01033909, 0.010146306, 0.010157418, 0.010030133, 0.009892032, 0.009858692, 0.009928818, 0.009753586, 0.010105983, 0.009990299, 0.009899003, 0.010252165, 0.0101969335, 0.009857472, 0.009880556, 0.009968482, 0.009900562, 0.009716365, 0.009872346, 0.010034479, 0.010033113, 0.009640659, 0.009780318, 0.009643102, 0.010008152, 0.010105485, 0.009943725, 0.009925732, 0.00986837, 0.010095595, 0.010323706, 0.010163585, 0.0098713515]\n",
      "2022-02-15 10:50:27,459 : INFO : merging changes from 1204 documents into a model of 3204 documents\n",
      "2022-02-15 10:50:27,466 : INFO : topic #46 (0.009): 0.001*\"implic\" + 0.001*\"favor\" + 0.001*\"adapt\" + 0.001*\"polygon\" + 0.001*\"stage\" + 0.001*\"situat\" + 0.001*\"respons\" + 0.001*\"industri\" + 0.001*\"regress\" + 0.001*\"drive\"\n",
      "2022-02-15 10:50:27,469 : INFO : topic #88 (0.010): 0.064*\")\" + 0.061*\"(\" + 0.050*\"construct\" + 0.045*\",\" + 0.031*\"branch\" + 0.025*\"processor\" + 0.022*\"program\" + 0.021*\"-\" + 0.020*\"weak\" + 0.019*\"method\"\n",
      "2022-02-15 10:50:27,470 : INFO : topic #38 (0.010): 0.180*\"]\" + 0.038*\"statement\" + 0.034*\"locat\" + 0.026*\"close\" + 0.026*\")\" + 0.025*\"(\" + 0.023*\"link\" + 0.022*\"previou\" + 0.021*\"\"\" + 0.021*\"activ\"\n",
      "2022-02-15 10:50:27,472 : INFO : topic #58 (0.010): 0.098*\",\" + 0.048*\"-\" + 0.026*\"program\" + 0.017*\"comput\" + 0.012*\"system\" + 0.011*\"design\" + 0.010*\"time\" + 0.010*\"rule\" + 0.007*\"method\" + 0.007*\"algorithm\"\n",
      "2022-02-15 10:50:27,474 : INFO : topic #41 (0.011): 0.065*\"algorithm\" + 0.064*\"tree\" + 0.042*\",\" + 0.041*\"search\" + 0.040*\"graph\" + 0.038*\"tabl\" + 0.037*\"(\" + 0.035*\")\" + 0.035*\"decis\" + 0.025*\"bound\"\n",
      "2022-02-15 10:50:27,477 : INFO : topic diff=0.740000, rho=0.707107\n",
      "2022-02-15 10:50:27,488 : INFO : PROGRESS: pass 1, at document #2000/3204\n",
      "2022-02-15 10:50:28,555 : INFO : optimized alpha [0.009898286, 0.0098310355, 0.009983973, 0.009862228, 0.009913149, 0.009668302, 0.010355493, 0.009920375, 0.009880457, 0.010001772, 0.009763986, 0.009976132, 0.009826667, 0.009886341, 0.009986652, 0.009782036, 0.009904377, 0.0099584535, 0.0098983925, 0.009985988, 0.009904018, 0.01000973, 0.009688785, 0.010109252, 0.010027542, 0.00995266, 0.009942619, 0.009788856, 0.009764568, 0.009876717, 0.00973543, 0.010202908, 0.009960956, 0.009910777, 0.009814125, 0.009914828, 0.009823077, 0.010038607, 0.010432116, 0.010096849, 0.009926445, 0.010517225, 0.0099935755, 0.009974119, 0.009776947, 0.010053908, 0.009348161, 0.01010036, 0.01016413, 0.009991722, 0.009909349, 0.009830899, 0.00976155, 0.0098639615, 0.009748361, 0.009909042, 0.010011428, 0.00965589, 0.010386964, 0.009883708, 0.009820816, 0.010027414, 0.010128131, 0.009950029, 0.010238614, 0.010200585, 0.010037443, 0.010262579, 0.010152882, 0.010215921, 0.009961799, 0.009871651, 0.009794479, 0.009976339, 0.009784137, 0.010066854, 0.00996038, 0.009781248, 0.010210046, 0.010095226, 0.009859445, 0.009829893, 0.009856467, 0.009835352, 0.00969356, 0.009818886, 0.009961088, 0.009974044, 0.009529624, 0.00976659, 0.009770764, 0.009959903, 0.010123811, 0.010012289, 0.009839149, 0.009852961, 0.010039611, 0.010287177, 0.010081727, 0.009824758]\n",
      "2022-02-15 10:50:28,564 : INFO : merging changes from 2000 documents into a model of 3204 documents\n",
      "2022-02-15 10:50:28,573 : INFO : topic #46 (0.009): 0.001*\"implic\" + 0.001*\"favor\" + 0.001*\"adapt\" + 0.001*\"polygon\" + 0.001*\"stage\" + 0.001*\"situat\" + 0.001*\"respons\" + 0.001*\"industri\" + 0.001*\"regress\" + 0.001*\"drive\"\n",
      "2022-02-15 10:50:28,574 : INFO : topic #88 (0.010): 0.061*\")\" + 0.061*\"(\" + 0.056*\"construct\" + 0.049*\",\" + 0.035*\"processor\" + 0.023*\"-\" + 0.021*\"program\" + 0.019*\"method\" + 0.017*\"word\" + 0.017*\"branch\"\n",
      "2022-02-15 10:50:28,577 : INFO : topic #58 (0.010): 0.106*\",\" + 0.048*\"-\" + 0.027*\"program\" + 0.019*\"comput\" + 0.012*\"system\" + 0.011*\"design\" + 0.010*\"rule\" + 0.010*\"time\" + 0.007*\"refer\" + 0.007*\"inform\"\n",
      "2022-02-15 10:50:28,580 : INFO : topic #38 (0.010): 0.124*\"]\" + 0.065*\"statement\" + 0.028*\"locat\" + 0.025*\"(\" + 0.025*\"close\" + 0.024*\"link\" + 0.023*\")\" + 0.021*\"activ\" + 0.021*\"\"\" + 0.020*\",\"\n",
      "2022-02-15 10:50:28,584 : INFO : topic #41 (0.011): 0.061*\"algorithm\" + 0.059*\"tree\" + 0.043*\",\" + 0.041*\"search\" + 0.041*\"tabl\" + 0.038*\"graph\" + 0.036*\"(\" + 0.035*\")\" + 0.034*\"decis\" + 0.023*\"bound\"\n",
      "2022-02-15 10:50:28,591 : INFO : topic diff=0.308735, rho=0.526900\n",
      "2022-02-15 10:50:29,774 : INFO : -6.905 per-word bound, 119.8 perplexity estimate based on a held-out corpus of 1204 documents with 49783 words\n",
      "2022-02-15 10:50:29,775 : INFO : PROGRESS: pass 1, at document #3204/3204\n",
      "2022-02-15 10:50:30,688 : INFO : optimized alpha [0.00999015, 0.009884235, 0.010099461, 0.009963374, 0.009988918, 0.009748116, 0.010643105, 0.010064368, 0.009973953, 0.010210487, 0.009788217, 0.010069267, 0.009845142, 0.009928897, 0.010091996, 0.00983233, 0.009976442, 0.010173088, 0.010022625, 0.0101100225, 0.009982395, 0.010211868, 0.009700647, 0.01008193, 0.010139032, 0.010104486, 0.010143897, 0.009834598, 0.009812729, 0.010001032, 0.009850012, 0.01057328, 0.010173618, 0.010065103, 0.009876751, 0.010107621, 0.0098861065, 0.010189352, 0.010985352, 0.01028938, 0.010156641, 0.011112042, 0.010091064, 0.010207474, 0.0099295685, 0.010370951, 0.00917093, 0.010118619, 0.010282342, 0.010169528, 0.010049899, 0.009878314, 0.009786365, 0.009913111, 0.009836934, 0.010039401, 0.010308142, 0.009684047, 0.0104362285, 0.010040723, 0.009877812, 0.010261608, 0.010481222, 0.01011936, 0.010736898, 0.010416636, 0.010197175, 0.010502222, 0.01049421, 0.010560477, 0.010155495, 0.009937773, 0.009913623, 0.010195573, 0.009810563, 0.010154846, 0.010114839, 0.009779351, 0.0104578445, 0.010437666, 0.009854687, 0.00982278, 0.00999658, 0.009896993, 0.009739546, 0.0098294495, 0.010155626, 0.010086322, 0.009459603, 0.009833715, 0.009737307, 0.010142229, 0.010519165, 0.010163586, 0.009932889, 0.009953434, 0.010329165, 0.0107220365, 0.0103173, 0.009973942]\n",
      "2022-02-15 10:50:30,694 : INFO : merging changes from 1204 documents into a model of 3204 documents\n",
      "2022-02-15 10:50:30,702 : INFO : topic #46 (0.009): 0.001*\"implic\" + 0.001*\"favor\" + 0.001*\"adapt\" + 0.001*\"polygon\" + 0.001*\"stage\" + 0.001*\"situat\" + 0.001*\"respons\" + 0.001*\"industri\" + 0.001*\"regress\" + 0.001*\"drive\"\n",
      "2022-02-15 10:50:30,703 : INFO : topic #88 (0.009): 0.082*\"(\" + 0.079*\")\" + 0.075*\"construct\" + 0.051*\"branch\" + 0.046*\",\" + 0.026*\"weak\" + 0.026*\"processor\" + 0.024*\"method\" + 0.024*\"program\" + 0.023*\".)\"\n",
      "2022-02-15 10:50:30,704 : INFO : topic #97 (0.011): 0.075*\"distribut\" + 0.072*\"model\" + 0.052*\",\" + 0.036*\"work\" + 0.035*\"system\" + 0.032*\"comput\" + 0.028*\"page\" + 0.025*\"set\" + 0.020*\"time\" + 0.019*\"access\"\n",
      "2022-02-15 10:50:30,705 : INFO : topic #38 (0.011): 0.201*\"]\" + 0.055*\"statement\" + 0.041*\"locat\" + 0.029*\"link\" + 0.028*\"previou\" + 0.028*\"close\" + 0.022*\")\" + 0.022*\"cell\" + 0.020*\"(\" + 0.019*\"activ\"\n",
      "2022-02-15 10:50:30,707 : INFO : topic #41 (0.011): 0.081*\"tree\" + 0.065*\"algorithm\" + 0.050*\"search\" + 0.050*\"tabl\" + 0.048*\",\" + 0.042*\"graph\" + 0.040*\"decis\" + 0.029*\"(\" + 0.027*\")\" + 0.026*\"bound\"\n",
      "2022-02-15 10:50:30,708 : INFO : topic diff=0.410610, rho=0.526900\n",
      "2022-02-15 10:50:30,724 : INFO : PROGRESS: pass 2, at document #2000/3204\n",
      "2022-02-15 10:50:31,788 : INFO : optimized alpha [0.010031075, 0.010025568, 0.010269222, 0.009919614, 0.009910203, 0.009728699, 0.010675367, 0.010037433, 0.010029188, 0.010194501, 0.009717975, 0.010039384, 0.0098663885, 0.01006787, 0.01005821, 0.009793404, 0.009983016, 0.010141826, 0.009940176, 0.010119983, 0.010027821, 0.010175312, 0.009688901, 0.01026579, 0.010076596, 0.0101292245, 0.010316805, 0.009803161, 0.009920854, 0.009997339, 0.009798867, 0.0107774, 0.010104637, 0.01012641, 0.009863406, 0.010101436, 0.009895693, 0.010103674, 0.010962021, 0.010285647, 0.010078431, 0.011071751, 0.010091657, 0.010180824, 0.009944527, 0.010328933, 0.009050082, 0.010266111, 0.010265076, 0.010288942, 0.010094616, 0.009893564, 0.009707304, 0.0098686535, 0.009874078, 0.010014978, 0.0102850245, 0.009660724, 0.010377829, 0.010002675, 0.010000308, 0.010217316, 0.01046759, 0.010092848, 0.011615851, 0.010460454, 0.010273235, 0.010434876, 0.010528491, 0.010667919, 0.010132107, 0.009950942, 0.00988296, 0.010250898, 0.009889034, 0.010127763, 0.010128366, 0.009690745, 0.010435565, 0.010377761, 0.009834046, 0.009810275, 0.009916832, 0.009849889, 0.0097363405, 0.009809565, 0.010118437, 0.010048738, 0.009402295, 0.009845245, 0.01002643, 0.010141419, 0.0105958255, 0.010251753, 0.009890154, 0.010019082, 0.010295928, 0.010721783, 0.010252812, 0.009953408]\n",
      "2022-02-15 10:50:31,794 : INFO : merging changes from 2000 documents into a model of 3204 documents\n",
      "2022-02-15 10:50:31,803 : INFO : topic #46 (0.009): 0.001*\"implic\" + 0.001*\"favor\" + 0.001*\"adapt\" + 0.001*\"polygon\" + 0.001*\"stage\" + 0.001*\"situat\" + 0.001*\"respons\" + 0.001*\"industri\" + 0.001*\"regress\" + 0.001*\"drive\"\n",
      "2022-02-15 10:50:31,804 : INFO : topic #88 (0.009): 0.092*\"construct\" + 0.074*\"(\" + 0.068*\")\" + 0.046*\",\" + 0.037*\"processor\" + 0.035*\"branch\" + 0.024*\".)\" + 0.022*\"program\" + 0.021*\"method\" + 0.021*\"-\"\n",
      "2022-02-15 10:50:31,806 : INFO : topic #38 (0.011): 0.150*\"]\" + 0.085*\"statement\" + 0.035*\"locat\" + 0.032*\"link\" + 0.026*\"close\" + 0.022*\"previou\" + 0.020*\"(\" + 0.019*\"activ\" + 0.019*\"time\" + 0.019*\")\"\n",
      "2022-02-15 10:50:31,808 : INFO : topic #41 (0.011): 0.077*\"tree\" + 0.061*\"algorithm\" + 0.053*\"tabl\" + 0.051*\"search\" + 0.048*\",\" + 0.041*\"graph\" + 0.041*\"decis\" + 0.028*\"(\" + 0.026*\")\" + 0.024*\"bound\"\n",
      "2022-02-15 10:50:31,809 : INFO : topic #64 (0.012): 0.279*\"(\" + 0.259*\")\" + 0.240*\"algorithm\" + 0.034*\"[\" + 0.022*\"permut\" + 0.018*\"plot\" + 0.016*\"order\" + 0.014*\"g6\" + 0.013*\"gener\" + 0.013*\"-\"\n",
      "2022-02-15 10:50:31,810 : INFO : topic diff=0.390232, rho=0.466151\n",
      "2022-02-15 10:50:32,975 : INFO : -6.791 per-word bound, 110.7 perplexity estimate based on a held-out corpus of 1204 documents with 49783 words\n",
      "2022-02-15 10:50:32,976 : INFO : PROGRESS: pass 2, at document #3204/3204\n",
      "2022-02-15 10:50:33,937 : INFO : optimized alpha [0.010128004, 0.0101065785, 0.010386717, 0.009998202, 0.0099943075, 0.0098649375, 0.01093771, 0.0101816105, 0.010162842, 0.010401054, 0.009768172, 0.010146371, 0.009914366, 0.010112099, 0.010156065, 0.009854596, 0.010094368, 0.010349255, 0.010051201, 0.010230389, 0.0101008965, 0.010403132, 0.0097309565, 0.010227936, 0.0102117425, 0.010272062, 0.010516593, 0.009875583, 0.009955342, 0.010171263, 0.009947374, 0.011139947, 0.010290311, 0.010299493, 0.009962381, 0.010285434, 0.009952017, 0.010245928, 0.011480541, 0.010480836, 0.010347295, 0.011638769, 0.0101702735, 0.01041324, 0.010134687, 0.010621552, 0.008904387, 0.010292929, 0.010365781, 0.010438773, 0.010274628, 0.009974668, 0.00975413, 0.009928654, 0.009987605, 0.010138576, 0.010620122, 0.009679373, 0.010414239, 0.010146171, 0.0101234475, 0.010442552, 0.010781562, 0.010276061, 0.012379753, 0.010636301, 0.010439268, 0.010627761, 0.010828265, 0.011030459, 0.010384431, 0.01001761, 0.010035951, 0.010494983, 0.009943157, 0.010234229, 0.010281905, 0.009722419, 0.0106609, 0.010709593, 0.009854447, 0.0098250955, 0.010049532, 0.009917249, 0.009850134, 0.009855069, 0.010279876, 0.010176719, 0.009392283, 0.00995146, 0.010005005, 0.010331577, 0.010975486, 0.010405657, 0.0099895615, 0.01013918, 0.010599958, 0.011124808, 0.010442681, 0.010109791]\n",
      "2022-02-15 10:50:33,944 : INFO : merging changes from 1204 documents into a model of 3204 documents\n",
      "2022-02-15 10:50:33,952 : INFO : topic #46 (0.009): 0.001*\"implic\" + 0.001*\"favor\" + 0.001*\"adapt\" + 0.001*\"polygon\" + 0.001*\"stage\" + 0.001*\"situat\" + 0.001*\"respons\" + 0.001*\"industri\" + 0.001*\"regress\" + 0.001*\"drive\"\n",
      "2022-02-15 10:50:33,954 : INFO : topic #88 (0.009): 0.116*\"construct\" + 0.083*\"(\" + 0.073*\")\" + 0.058*\"branch\" + 0.045*\",\" + 0.031*\".)\" + 0.029*\"weak\" + 0.026*\"processor\" + 0.026*\"method\" + 0.023*\"program\"\n",
      "2022-02-15 10:50:33,957 : INFO : topic #38 (0.011): 0.212*\"]\" + 0.068*\"statement\" + 0.044*\"locat\" + 0.033*\"previou\" + 0.031*\"link\" + 0.028*\"close\" + 0.026*\"cell\" + 0.026*\"interpol\" + 0.020*\"[\" + 0.020*\"open\"\n",
      "2022-02-15 10:50:33,959 : INFO : topic #41 (0.012): 0.092*\"tree\" + 0.064*\"algorithm\" + 0.057*\"tabl\" + 0.057*\"search\" + 0.052*\",\" + 0.046*\"graph\" + 0.043*\"decis\" + 0.026*\"bound\" + 0.023*\"averag\" + 0.022*\"(\"\n",
      "2022-02-15 10:50:33,961 : INFO : topic #64 (0.012): 0.297*\"(\" + 0.273*\")\" + 0.232*\"algorithm\" + 0.042*\"[\" + 0.023*\"plot\" + 0.015*\"order\" + 0.014*\"-\" + 0.013*\"permut\" + 0.012*\"gener\" + 0.011*\"g6\"\n",
      "2022-02-15 10:50:33,964 : INFO : topic diff=0.511666, rho=0.466151\n",
      "2022-02-15 10:50:33,972 : INFO : PROGRESS: pass 3, at document #2000/3204\n",
      "2022-02-15 10:50:34,926 : INFO : optimized alpha [0.010180225, 0.01023617, 0.010629508, 0.009971955, 0.009926231, 0.009876326, 0.010981758, 0.010178444, 0.010227979, 0.010383122, 0.009714503, 0.010125984, 0.009948999, 0.01025211, 0.010154, 0.009837043, 0.010132565, 0.010332775, 0.009996574, 0.010254813, 0.010161799, 0.0103837475, 0.009725363, 0.010302067, 0.010170496, 0.010302781, 0.01070473, 0.009866772, 0.010071141, 0.0102127865, 0.00993678, 0.011368832, 0.010244363, 0.010389758, 0.009982635, 0.010283194, 0.009961285, 0.010175018, 0.011469689, 0.010496177, 0.010285061, 0.011611836, 0.010208386, 0.010398466, 0.010155865, 0.010596401, 0.008802215, 0.010434543, 0.0103592165, 0.010567663, 0.010349592, 0.010018288, 0.009694777, 0.00991687, 0.010031848, 0.010135619, 0.010613999, 0.009661807, 0.0103696445, 0.010126389, 0.01025901, 0.01041414, 0.010766272, 0.010273364, 0.013493857, 0.01068177, 0.010519303, 0.010581738, 0.010864223, 0.011191598, 0.010363521, 0.010053446, 0.010054732, 0.010562109, 0.010038201, 0.010220677, 0.010302375, 0.009665316, 0.010650192, 0.010656169, 0.009847127, 0.009827472, 0.009990256, 0.009896689, 0.009859694, 0.0098463325, 0.010271869, 0.010170875, 0.009354712, 0.009980777, 0.010405415, 0.010369512, 0.011076271, 0.010523009, 0.009972497, 0.010243965, 0.0105804065, 0.011123013, 0.010407913, 0.010107785]\n",
      "2022-02-15 10:50:34,932 : INFO : merging changes from 2000 documents into a model of 3204 documents\n",
      "2022-02-15 10:50:34,939 : INFO : topic #46 (0.009): 0.001*\"implic\" + 0.001*\"favor\" + 0.001*\"adapt\" + 0.001*\"polygon\" + 0.001*\"stage\" + 0.001*\"situat\" + 0.001*\"respons\" + 0.001*\"industri\" + 0.001*\"regress\" + 0.001*\"drive\"\n",
      "2022-02-15 10:50:34,941 : INFO : topic #88 (0.009): 0.124*\"construct\" + 0.075*\"(\" + 0.063*\")\" + 0.045*\",\" + 0.044*\"branch\" + 0.036*\"processor\" + 0.032*\".)\" + 0.026*\"alphabet\" + 0.024*\"method\" + 0.022*\"word\"\n",
      "2022-02-15 10:50:34,941 : INFO : topic #38 (0.011): 0.168*\"]\" + 0.095*\"statement\" + 0.041*\"locat\" + 0.033*\"link\" + 0.032*\"interpol\" + 0.027*\"previou\" + 0.027*\"close\" + 0.023*\"cell\" + 0.021*\"open\" + 0.020*\"activ\"\n",
      "2022-02-15 10:50:34,943 : INFO : topic #41 (0.012): 0.088*\"tree\" + 0.061*\"tabl\" + 0.061*\"algorithm\" + 0.057*\"search\" + 0.052*\",\" + 0.045*\"graph\" + 0.043*\"decis\" + 0.024*\"bound\" + 0.022*\"(\" + 0.021*\"time\"\n",
      "2022-02-15 10:50:34,945 : INFO : topic #64 (0.013): 0.312*\"(\" + 0.292*\")\" + 0.230*\"algorithm\" + 0.027*\"[\" + 0.014*\"plot\" + 0.013*\"permut\" + 0.012*\"order\" + 0.012*\"-\" + 0.011*\"g6\" + 0.010*\"gener\"\n",
      "2022-02-15 10:50:34,947 : INFO : topic diff=0.526443, rho=0.422502\n",
      "2022-02-15 10:50:35,999 : INFO : -6.707 per-word bound, 104.4 perplexity estimate based on a held-out corpus of 1204 documents with 49783 words\n",
      "2022-02-15 10:50:36,000 : INFO : PROGRESS: pass 3, at document #3204/3204\n",
      "2022-02-15 10:50:36,917 : INFO : optimized alpha [0.010271787, 0.010301786, 0.010731704, 0.010043919, 0.0100248745, 0.010014905, 0.011230726, 0.01031003, 0.010364063, 0.010572298, 0.009761276, 0.010238174, 0.010021007, 0.010302013, 0.010275779, 0.009900288, 0.010244946, 0.01053729, 0.010119455, 0.010381188, 0.010235322, 0.010610825, 0.009767796, 0.010286823, 0.010304965, 0.010436622, 0.010891536, 0.009957753, 0.010108811, 0.010412102, 0.010107659, 0.01171864, 0.010439268, 0.010566465, 0.010137055, 0.010447624, 0.010023552, 0.010323127, 0.011945704, 0.0107041905, 0.01054656, 0.012146952, 0.010301866, 0.010629864, 0.010358561, 0.010872809, 0.008678388, 0.01046892, 0.010458592, 0.010700096, 0.010554368, 0.010120454, 0.009755743, 0.009986139, 0.010163541, 0.010277043, 0.0109504685, 0.009676556, 0.010440939, 0.010264434, 0.0103813745, 0.0106054405, 0.011036296, 0.010466821, 0.014446554, 0.010826867, 0.010685755, 0.010723817, 0.01116737, 0.011549322, 0.010617486, 0.010135602, 0.010237173, 0.010809014, 0.010097679, 0.010347043, 0.01042794, 0.009712888, 0.010848821, 0.010950244, 0.009901561, 0.009862822, 0.010128969, 0.009969123, 0.009991632, 0.009898916, 0.010390002, 0.010291317, 0.009377392, 0.010105838, 0.010406237, 0.010554427, 0.011437158, 0.010659452, 0.010081281, 0.010378231, 0.010886693, 0.01148879, 0.010577743, 0.010279292]\n",
      "2022-02-15 10:50:36,926 : INFO : merging changes from 1204 documents into a model of 3204 documents\n",
      "2022-02-15 10:50:36,935 : INFO : topic #46 (0.009): 0.001*\"implic\" + 0.001*\"favor\" + 0.001*\"adapt\" + 0.001*\"polygon\" + 0.001*\"stage\" + 0.001*\"situat\" + 0.001*\"respons\" + 0.001*\"industri\" + 0.001*\"regress\" + 0.001*\"drive\"\n",
      "2022-02-15 10:50:36,938 : INFO : topic #88 (0.009): 0.156*\"construct\" + 0.079*\"(\" + 0.064*\")\" + 0.058*\"branch\" + 0.045*\",\" + 0.034*\".)\" + 0.029*\"method\" + 0.028*\"weak\" + 0.026*\"processor\" + 0.025*\"alphabet\"\n",
      "2022-02-15 10:50:36,939 : INFO : topic #38 (0.012): 0.223*\"]\" + 0.082*\"statement\" + 0.044*\"locat\" + 0.037*\"interpol\" + 0.036*\"previou\" + 0.030*\"cell\" + 0.030*\"link\" + 0.027*\"[\" + 0.026*\"close\" + 0.022*\"open\"\n",
      "2022-02-15 10:50:36,941 : INFO : topic #41 (0.012): 0.099*\"tree\" + 0.063*\"algorithm\" + 0.060*\"search\" + 0.060*\"tabl\" + 0.055*\",\" + 0.050*\"graph\" + 0.043*\"decis\" + 0.026*\"bound\" + 0.025*\"averag\" + 0.024*\"time\"\n",
      "2022-02-15 10:50:36,946 : INFO : topic #64 (0.014): 0.325*\"(\" + 0.298*\")\" + 0.221*\"algorithm\" + 0.035*\"[\" + 0.020*\"plot\" + 0.013*\"-\" + 0.011*\"order\" + 0.009*\"g6\" + 0.009*\"gener\" + 0.009*\"permut\"\n",
      "2022-02-15 10:50:36,955 : INFO : topic diff=0.635091, rho=0.422502\n",
      "2022-02-15 10:50:36,966 : INFO : PROGRESS: pass 4, at document #2000/3204\n",
      "2022-02-15 10:50:37,916 : INFO : optimized alpha [0.010322127, 0.0104364315, 0.010991966, 0.010020359, 0.009970737, 0.010036911, 0.011281406, 0.010325177, 0.010438341, 0.01056934, 0.009711278, 0.010229464, 0.010063063, 0.010436321, 0.010279809, 0.009882886, 0.010286185, 0.010529136, 0.010075207, 0.010424172, 0.010331787, 0.010605957, 0.00977676, 0.010329338, 0.010276968, 0.010468635, 0.011072156, 0.009965526, 0.010230436, 0.010472373, 0.010114949, 0.011920412, 0.010402043, 0.010662405, 0.010187347, 0.010455161, 0.010044346, 0.010259701, 0.011942101, 0.010744379, 0.010499546, 0.012113299, 0.010351551, 0.010625066, 0.010409431, 0.0108516505, 0.008589939, 0.010600605, 0.010456678, 0.010826318, 0.010631547, 0.010164791, 0.009703992, 0.01000524, 0.010218229, 0.010283985, 0.010974224, 0.00965781, 0.010402815, 0.0102538755, 0.010523729, 0.010594871, 0.011020077, 0.010496529, 0.015744412, 0.010872775, 0.010759567, 0.010687684, 0.0112139555, 0.01171787, 0.0106027, 0.010190677, 0.010273841, 0.010901949, 0.010180197, 0.010354802, 0.0104569895, 0.009673086, 0.010844348, 0.010904702, 0.009905008, 0.009898587, 0.010078236, 0.009968466, 0.0100079505, 0.009916715, 0.010376457, 0.01029395, 0.009356972, 0.010124826, 0.010821939, 0.010611614, 0.011560778, 0.010776817, 0.01007954, 0.010481616, 0.010874613, 0.011506242, 0.010555365, 0.01028082]\n",
      "2022-02-15 10:50:37,922 : INFO : merging changes from 2000 documents into a model of 3204 documents\n",
      "2022-02-15 10:50:37,929 : INFO : topic #46 (0.009): 0.001*\"implic\" + 0.001*\"favor\" + 0.001*\"adapt\" + 0.001*\"polygon\" + 0.001*\"stage\" + 0.001*\"situat\" + 0.001*\"respons\" + 0.001*\"industri\" + 0.001*\"regress\" + 0.001*\"drive\"\n",
      "2022-02-15 10:50:37,930 : INFO : topic #88 (0.009): 0.156*\"construct\" + 0.074*\"(\" + 0.058*\")\" + 0.046*\"branch\" + 0.044*\",\" + 0.034*\"processor\" + 0.034*\".)\" + 0.029*\"alphabet\" + 0.028*\"method\" + 0.025*\"smaller\"\n",
      "2022-02-15 10:50:37,934 : INFO : topic #38 (0.012): 0.181*\"]\" + 0.107*\"statement\" + 0.044*\"interpol\" + 0.042*\"locat\" + 0.033*\"link\" + 0.029*\"previou\" + 0.027*\"cell\" + 0.025*\"close\" + 0.024*\"[\" + 0.023*\"open\"\n",
      "2022-02-15 10:50:37,939 : INFO : topic #41 (0.012): 0.096*\"tree\" + 0.063*\"tabl\" + 0.060*\"search\" + 0.060*\"algorithm\" + 0.054*\",\" + 0.049*\"graph\" + 0.043*\"decis\" + 0.025*\"bound\" + 0.023*\"time\" + 0.022*\"averag\"\n",
      "2022-02-15 10:50:37,941 : INFO : topic #64 (0.016): 0.333*\"(\" + 0.310*\")\" + 0.222*\"algorithm\" + 0.023*\"[\" + 0.013*\"plot\" + 0.012*\"-\" + 0.010*\"g6\" + 0.010*\"order\" + 0.009*\"permut\" + 0.008*\"procedur\"\n",
      "2022-02-15 10:50:37,943 : INFO : topic diff=0.619474, rho=0.389191\n",
      "2022-02-15 10:50:39,023 : INFO : -6.647 per-word bound, 100.2 perplexity estimate based on a held-out corpus of 1204 documents with 49783 words\n",
      "2022-02-15 10:50:39,023 : INFO : PROGRESS: pass 4, at document #3204/3204\n",
      "2022-02-15 10:50:39,965 : INFO : optimized alpha [0.010406889, 0.010499721, 0.011092154, 0.010097293, 0.010088777, 0.010169061, 0.01151018, 0.010460722, 0.010554207, 0.010773138, 0.009777838, 0.010357079, 0.010146298, 0.010481726, 0.010396165, 0.0099387085, 0.010400338, 0.01072984, 0.010199521, 0.010541524, 0.010416377, 0.010814204, 0.009832453, 0.01034309, 0.010435751, 0.0105959065, 0.01126381, 0.010050113, 0.010274573, 0.010668841, 0.010296991, 0.012239158, 0.0106039755, 0.010819857, 0.0103510935, 0.010607916, 0.010112114, 0.010400732, 0.012372888, 0.010951857, 0.010767875, 0.012621025, 0.01042447, 0.010854691, 0.0106186895, 0.011106291, 0.008482303, 0.010638514, 0.010531895, 0.010938254, 0.010846805, 0.010276007, 0.00976137, 0.010085935, 0.01035374, 0.010425367, 0.01131991, 0.009675777, 0.010486522, 0.010362078, 0.010646695, 0.010783265, 0.011275789, 0.010701098, 0.016967079, 0.011014289, 0.010900031, 0.010812646, 0.011505649, 0.012056073, 0.01088525, 0.010273441, 0.010480639, 0.011140108, 0.010254857, 0.010502684, 0.010580351, 0.009730683, 0.0110468455, 0.011168563, 0.009991237, 0.009954168, 0.010210287, 0.01004254, 0.010175785, 0.009988414, 0.010476112, 0.010419296, 0.009421593, 0.010264181, 0.010821118, 0.010794022, 0.011924177, 0.0109100435, 0.01019712, 0.010612898, 0.011175971, 0.011846548, 0.010733811, 0.010436938]\n",
      "2022-02-15 10:50:39,974 : INFO : merging changes from 1204 documents into a model of 3204 documents\n",
      "2022-02-15 10:50:39,983 : INFO : topic #46 (0.008): 0.001*\"implic\" + 0.001*\"favor\" + 0.001*\"adapt\" + 0.001*\"polygon\" + 0.001*\"stage\" + 0.001*\"situat\" + 0.001*\"respons\" + 0.001*\"industri\" + 0.001*\"regress\" + 0.001*\"drive\"\n",
      "2022-02-15 10:50:39,986 : INFO : topic #88 (0.009): 0.204*\"construct\" + 0.071*\"(\" + 0.055*\"branch\" + 0.054*\")\" + 0.044*\",\" + 0.034*\".)\" + 0.034*\"method\" + 0.027*\"weak\" + 0.027*\"alphabet\" + 0.026*\"processor\"\n",
      "2022-02-15 10:50:39,990 : INFO : topic #38 (0.012): 0.233*\"]\" + 0.093*\"statement\" + 0.046*\"interpol\" + 0.045*\"locat\" + 0.038*\"previou\" + 0.036*\"[\" + 0.033*\"cell\" + 0.030*\"link\" + 0.024*\"open\" + 0.023*\"close\"\n",
      "2022-02-15 10:50:39,993 : INFO : topic #41 (0.013): 0.103*\"tree\" + 0.063*\"search\" + 0.062*\"algorithm\" + 0.061*\"tabl\" + 0.057*\",\" + 0.053*\"graph\" + 0.042*\"decis\" + 0.026*\"bound\" + 0.026*\"time\" + 0.025*\"averag\"\n",
      "2022-02-15 10:50:39,995 : INFO : topic #64 (0.017): 0.342*\"(\" + 0.314*\")\" + 0.212*\"algorithm\" + 0.030*\"[\" + 0.017*\"plot\" + 0.013*\"-\" + 0.009*\"order\" + 0.009*\"g6\" + 0.008*\"procedur\" + 0.007*\"gener\"\n",
      "2022-02-15 10:50:39,996 : INFO : topic diff=0.682418, rho=0.389191\n",
      "2022-02-15 10:50:40,008 : INFO : PROGRESS: pass 5, at document #2000/3204\n",
      "2022-02-15 10:50:40,961 : INFO : optimized alpha [0.010463645, 0.0106323585, 0.011366593, 0.010083185, 0.010051482, 0.010195089, 0.011569612, 0.010484177, 0.010621975, 0.010777366, 0.009742839, 0.010358358, 0.010193231, 0.010617842, 0.010413211, 0.00993767, 0.01045042, 0.010727177, 0.010167596, 0.010583722, 0.010524242, 0.010818418, 0.009846635, 0.010390827, 0.010414938, 0.010633225, 0.011432924, 0.010063234, 0.0103966445, 0.010744508, 0.0103311455, 0.01243031, 0.010574055, 0.010919872, 0.010453001, 0.010614502, 0.0101374565, 0.010339688, 0.012365475, 0.0110025825, 0.0107279625, 0.012588449, 0.010484541, 0.010856825, 0.010675306, 0.011095, 0.008404413, 0.010768451, 0.01054611, 0.011057128, 0.010940405, 0.010328635, 0.009721227, 0.010124347, 0.010417983, 0.010433496, 0.011364822, 0.009659424, 0.01045934, 0.010363627, 0.01077713, 0.010768663, 0.011258968, 0.010745928, 0.018456494, 0.011052898, 0.010971068, 0.010783045, 0.011558303, 0.012233381, 0.010865509, 0.01033654, 0.010529476, 0.011239167, 0.010349356, 0.010515374, 0.010615227, 0.009706906, 0.011059924, 0.011134276, 0.010003794, 0.01000623, 0.010174063, 0.010057048, 0.010208898, 0.010010943, 0.010471357, 0.010431299, 0.009415131, 0.010289086, 0.011240991, 0.010855043, 0.01204205, 0.01102444, 0.010210351, 0.010715858, 0.011174652, 0.0118561415, 0.010718109, 0.0104589285]\n",
      "2022-02-15 10:50:40,966 : INFO : merging changes from 2000 documents into a model of 3204 documents\n",
      "2022-02-15 10:50:40,973 : INFO : topic #46 (0.008): 0.001*\"implic\" + 0.001*\"favor\" + 0.001*\"adapt\" + 0.001*\"polygon\" + 0.001*\"stage\" + 0.001*\"situat\" + 0.001*\"respons\" + 0.001*\"industri\" + 0.001*\"regress\" + 0.001*\"drive\"\n",
      "2022-02-15 10:50:40,974 : INFO : topic #88 (0.009): 0.196*\"construct\" + 0.068*\"(\" + 0.050*\")\" + 0.045*\"branch\" + 0.044*\",\" + 0.034*\"processor\" + 0.033*\".)\" + 0.031*\"method\" + 0.031*\"alphabet\" + 0.026*\"smaller\"\n",
      "2022-02-15 10:50:40,976 : INFO : topic #31 (0.012): 0.159*\"function\" + 0.130*\"set\" + 0.094*\"equat\" + 0.061*\"solut\" + 0.052*\"differenti\" + 0.048*\",\" + 0.047*\"method\" + 0.039*\"valu\" + 0.036*\"order\" + 0.032*\"find\"\n",
      "2022-02-15 10:50:40,977 : INFO : topic #41 (0.013): 0.100*\"tree\" + 0.064*\"tabl\" + 0.063*\"search\" + 0.060*\"algorithm\" + 0.056*\",\" + 0.052*\"graph\" + 0.041*\"decis\" + 0.025*\"bound\" + 0.025*\"time\" + 0.023*\"averag\"\n",
      "2022-02-15 10:50:40,979 : INFO : topic #64 (0.018): 0.347*\"(\" + 0.323*\")\" + 0.214*\"algorithm\" + 0.020*\"[\" + 0.012*\"plot\" + 0.012*\"-\" + 0.010*\"g6\" + 0.007*\"order\" + 0.007*\"procedur\" + 0.007*\"fourier\"\n",
      "2022-02-15 10:50:40,981 : INFO : topic diff=0.627024, rho=0.362690\n",
      "2022-02-15 10:50:42,039 : INFO : -6.608 per-word bound, 97.5 perplexity estimate based on a held-out corpus of 1204 documents with 49783 words\n",
      "2022-02-15 10:50:42,039 : INFO : PROGRESS: pass 5, at document #3204/3204\n",
      "2022-02-15 10:50:42,882 : INFO : optimized alpha [0.010558756, 0.010687524, 0.01147992, 0.010158713, 0.010174953, 0.010334786, 0.011789221, 0.010614751, 0.010740418, 0.010982773, 0.009802936, 0.010503727, 0.010289949, 0.010665996, 0.010519364, 0.009996503, 0.010560942, 0.010932692, 0.010290782, 0.010710123, 0.010615972, 0.011024448, 0.009902132, 0.010413844, 0.010567473, 0.010745992, 0.011613426, 0.010151909, 0.010440515, 0.010949681, 0.01054329, 0.012733323, 0.010787056, 0.011101404, 0.010648868, 0.010764525, 0.010213528, 0.010472246, 0.012772256, 0.011234814, 0.010971962, 0.0130743245, 0.010559411, 0.011086855, 0.010876229, 0.011342252, 0.008309302, 0.010806603, 0.010623242, 0.011161765, 0.011180569, 0.010442396, 0.009790575, 0.010209365, 0.010557883, 0.010578994, 0.01170864, 0.009674351, 0.01055126, 0.010487282, 0.010901932, 0.010942624, 0.011493406, 0.010955803, 0.019910652, 0.011182452, 0.011116448, 0.010907165, 0.011838355, 0.012571263, 0.011149918, 0.010407974, 0.01074088, 0.011478374, 0.010425433, 0.01067061, 0.0107407225, 0.009785246, 0.011250776, 0.011380055, 0.010100145, 0.010079654, 0.010301211, 0.010141967, 0.010379465, 0.010096765, 0.010549156, 0.010552301, 0.009501676, 0.010435718, 0.011293034, 0.011019936, 0.01240363, 0.011152683, 0.010342767, 0.010842091, 0.01149117, 0.012193427, 0.010892617, 0.010624974]\n",
      "2022-02-15 10:50:42,889 : INFO : merging changes from 1204 documents into a model of 3204 documents\n",
      "2022-02-15 10:50:42,896 : INFO : topic #46 (0.008): 0.001*\"implic\" + 0.001*\"favor\" + 0.001*\"adapt\" + 0.001*\"polygon\" + 0.001*\"stage\" + 0.001*\"situat\" + 0.001*\"respons\" + 0.001*\"industri\" + 0.001*\"regress\" + 0.001*\"drive\"\n",
      "2022-02-15 10:50:42,897 : INFO : topic #88 (0.010): 0.246*\"construct\" + 0.064*\"(\" + 0.053*\"branch\" + 0.046*\")\" + 0.044*\",\" + 0.035*\"method\" + 0.034*\".)\" + 0.028*\"alphabet\" + 0.028*\"processor\" + 0.024*\"weak\"\n",
      "2022-02-15 10:50:42,898 : INFO : topic #38 (0.013): 0.240*\"]\" + 0.101*\"statement\" + 0.051*\"interpol\" + 0.047*\"locat\" + 0.046*\"[\" + 0.039*\"previou\" + 0.034*\"cell\" + 0.030*\"link\" + 0.025*\"open\" + 0.019*\"allow\"\n",
      "2022-02-15 10:50:42,899 : INFO : topic #41 (0.013): 0.107*\"tree\" + 0.066*\"search\" + 0.061*\"algorithm\" + 0.061*\"tabl\" + 0.058*\",\" + 0.056*\"graph\" + 0.039*\"decis\" + 0.027*\"time\" + 0.027*\"bound\" + 0.025*\"averag\"\n",
      "2022-02-15 10:50:42,903 : INFO : topic #64 (0.020): 0.356*\"(\" + 0.328*\")\" + 0.204*\"algorithm\" + 0.023*\"[\" + 0.016*\"plot\" + 0.013*\"-\" + 0.008*\"g6\" + 0.007*\"procedur\" + 0.006*\"order\" + 0.006*\"fourier\"\n",
      "2022-02-15 10:50:42,905 : INFO : topic diff=0.649980, rho=0.362690\n",
      "2022-02-15 10:50:42,918 : INFO : PROGRESS: pass 6, at document #2000/3204\n",
      "2022-02-15 10:50:44,060 : INFO : optimized alpha [0.010621543, 0.010815442, 0.0117541095, 0.010149367, 0.010148571, 0.010369822, 0.011846843, 0.010642163, 0.010808124, 0.010987781, 0.009770848, 0.010521028, 0.010338007, 0.010802676, 0.010541006, 0.009996104, 0.01061207, 0.010929238, 0.010265994, 0.010755461, 0.010731307, 0.0110294055, 0.009919385, 0.010455772, 0.010547531, 0.010781194, 0.01178675, 0.01017325, 0.010562047, 0.011028519, 0.0106035955, 0.012924429, 0.010767018, 0.011211565, 0.010776761, 0.010772202, 0.010241279, 0.01041493, 0.012766151, 0.011287737, 0.010944155, 0.013038494, 0.010622018, 0.0110934125, 0.010942222, 0.011328205, 0.008239838, 0.010933877, 0.010636985, 0.011278513, 0.011293749, 0.010510103, 0.009756954, 0.0102617275, 0.010625881, 0.010600826, 0.011769455, 0.0096633425, 0.010529778, 0.010488691, 0.011024136, 0.0109358765, 0.0114821475, 0.011011065, 0.02159327, 0.01121302, 0.011181639, 0.010898306, 0.011901108, 0.012768802, 0.011148543, 0.010480403, 0.010803064, 0.011573885, 0.0105223805, 0.010702639, 0.010781022, 0.009773551, 0.011264547, 0.011355996, 0.010113878, 0.010148067, 0.010276017, 0.010169853, 0.010413895, 0.010125176, 0.010543343, 0.010569086, 0.0095006805, 0.010480415, 0.011724916, 0.011085031, 0.0125169195, 0.011265111, 0.010355094, 0.0109435115, 0.011505627, 0.01220857, 0.010886606, 0.010647085]\n",
      "2022-02-15 10:50:44,085 : INFO : merging changes from 2000 documents into a model of 3204 documents\n",
      "2022-02-15 10:50:44,092 : INFO : topic #46 (0.008): 0.001*\"implic\" + 0.001*\"favor\" + 0.001*\"adapt\" + 0.001*\"polygon\" + 0.001*\"stage\" + 0.001*\"situat\" + 0.001*\"respons\" + 0.001*\"industri\" + 0.001*\"regress\" + 0.001*\"drive\"\n",
      "2022-02-15 10:50:44,093 : INFO : topic #88 (0.010): 0.231*\"construct\" + 0.063*\"(\" + 0.044*\"branch\" + 0.043*\")\" + 0.043*\",\" + 0.035*\"processor\" + 0.034*\".)\" + 0.032*\"method\" + 0.031*\"alphabet\" + 0.026*\"smaller\"\n",
      "2022-02-15 10:50:44,095 : INFO : topic #31 (0.013): 0.167*\"function\" + 0.136*\"set\" + 0.095*\"equat\" + 0.066*\"solut\" + 0.052*\"differenti\" + 0.051*\",\" + 0.042*\"valu\" + 0.039*\"method\" + 0.036*\"find\" + 0.032*\"order\"\n",
      "2022-02-15 10:50:44,098 : INFO : topic #41 (0.013): 0.104*\"tree\" + 0.066*\"search\" + 0.063*\"tabl\" + 0.059*\"algorithm\" + 0.058*\",\" + 0.055*\"graph\" + 0.038*\"decis\" + 0.026*\"time\" + 0.025*\"bound\" + 0.023*\"averag\"\n",
      "2022-02-15 10:50:44,100 : INFO : topic #64 (0.022): 0.359*\"(\" + 0.334*\")\" + 0.208*\"algorithm\" + 0.016*\"[\" + 0.012*\"-\" + 0.012*\"plot\" + 0.009*\"g6\" + 0.007*\"procedur\" + 0.006*\"fourier\" + 0.005*\"order\"\n",
      "2022-02-15 10:50:44,104 : INFO : topic diff=0.578958, rho=0.340958\n",
      "2022-02-15 10:50:46,741 : INFO : -6.575 per-word bound, 95.4 perplexity estimate based on a held-out corpus of 1204 documents with 49783 words\n",
      "2022-02-15 10:50:46,745 : INFO : PROGRESS: pass 6, at document #3204/3204\n",
      "2022-02-15 10:50:49,797 : INFO : optimized alpha [0.010711547, 0.010867001, 0.0118704215, 0.010218272, 0.010280383, 0.010502369, 0.012045589, 0.010778027, 0.010923327, 0.011186283, 0.0098451665, 0.010677413, 0.010441471, 0.01084447, 0.010653629, 0.010046418, 0.010725926, 0.011140338, 0.010388828, 0.0108785825, 0.010826916, 0.011215978, 0.009980642, 0.010483694, 0.010689222, 0.010884792, 0.011961428, 0.010260232, 0.010606083, 0.011224098, 0.010824058, 0.013221828, 0.010976102, 0.011403498, 0.010988472, 0.010914407, 0.010328068, 0.010537777, 0.013156664, 0.011518865, 0.011173548, 0.013491706, 0.010692791, 0.011315746, 0.0111397635, 0.011563615, 0.008154692, 0.010978659, 0.010716232, 0.011380419, 0.011542734, 0.010626778, 0.009842615, 0.010359769, 0.010761595, 0.01074486, 0.01213406, 0.009683933, 0.010635147, 0.010602996, 0.01112643, 0.011119825, 0.011718137, 0.011230395, 0.023240587, 0.01134217, 0.011329088, 0.011022487, 0.012178944, 0.013094396, 0.011462096, 0.010553892, 0.011047913, 0.011802318, 0.01060308, 0.010844083, 0.010915384, 0.009848035, 0.011458888, 0.011586795, 0.0102168545, 0.01024372, 0.01039953, 0.010259076, 0.0105850585, 0.010209447, 0.010605279, 0.010680708, 0.009604471, 0.010628539, 0.011810404, 0.011238442, 0.012879368, 0.011395997, 0.010489706, 0.0110629685, 0.011831939, 0.01253861, 0.011045994, 0.010801827]\n",
      "2022-02-15 10:50:49,869 : INFO : merging changes from 1204 documents into a model of 3204 documents\n",
      "2022-02-15 10:50:49,935 : INFO : topic #46 (0.008): 0.001*\"implic\" + 0.001*\"favor\" + 0.001*\"adapt\" + 0.001*\"polygon\" + 0.001*\"stage\" + 0.001*\"situat\" + 0.001*\"respons\" + 0.001*\"industri\" + 0.001*\"regress\" + 0.001*\"drive\"\n",
      "2022-02-15 10:50:49,945 : INFO : topic #88 (0.010): 0.282*\"construct\" + 0.057*\"(\" + 0.050*\"branch\" + 0.043*\",\" + 0.038*\")\" + 0.035*\"method\" + 0.034*\".)\" + 0.030*\"processor\" + 0.028*\"alphabet\" + 0.025*\"interrupt\"\n",
      "2022-02-15 10:50:49,954 : INFO : topic #31 (0.013): 0.171*\"function\" + 0.137*\"set\" + 0.094*\"equat\" + 0.067*\"solut\" + 0.054*\",\" + 0.049*\"differenti\" + 0.046*\"valu\" + 0.041*\"find\" + 0.033*\"method\" + 0.031*\"order\"\n",
      "2022-02-15 10:50:49,963 : INFO : topic #41 (0.013): 0.110*\"tree\" + 0.069*\"search\" + 0.061*\"algorithm\" + 0.060*\",\" + 0.059*\"tabl\" + 0.058*\"graph\" + 0.034*\"decis\" + 0.029*\"time\" + 0.027*\"bound\" + 0.024*\"averag\"\n",
      "2022-02-15 10:50:49,979 : INFO : topic #64 (0.023): 0.368*\"(\" + 0.339*\")\" + 0.199*\"algorithm\" + 0.016*\"[\" + 0.016*\"plot\" + 0.013*\"-\" + 0.008*\"g6\" + 0.007*\"procedur\" + 0.005*\"fourier\" + 0.005*\"order\"\n",
      "2022-02-15 10:50:49,991 : INFO : topic diff=0.585125, rho=0.340958\n",
      "2022-02-15 10:50:50,010 : INFO : PROGRESS: pass 7, at document #2000/3204\n",
      "2022-02-15 10:50:51,474 : INFO : optimized alpha [0.010769761, 0.010993, 0.012147789, 0.010213253, 0.0102637205, 0.010544031, 0.012111778, 0.010798711, 0.010986074, 0.011199466, 0.009818543, 0.010705845, 0.010494148, 0.010970139, 0.010686408, 0.010046602, 0.010783356, 0.011143427, 0.010375511, 0.010935814, 0.010947814, 0.011221897, 0.01000228, 0.010525655, 0.0106787495, 0.010921784, 0.012130047, 0.010284147, 0.010725952, 0.01130094, 0.010895135, 0.013403306, 0.010959722, 0.011514243, 0.011143487, 0.010923271, 0.010351355, 0.010490644, 0.013151955, 0.011581597, 0.011145983, 0.0134423375, 0.010766757, 0.011320965, 0.011207713, 0.01155099, 0.008092074, 0.011105813, 0.010731373, 0.011493949, 0.011678913, 0.010701691, 0.009815987, 0.010421572, 0.01082812, 0.0107705975, 0.012202446, 0.009672789, 0.010621867, 0.010602673, 0.011245157, 0.011120028, 0.011702328, 0.011308305, 0.025091248, 0.011376693, 0.011383725, 0.011021337, 0.01224178, 0.0132998545, 0.011475691, 0.010635174, 0.011131531, 0.011891291, 0.010699279, 0.010879703, 0.010955422, 0.009838955, 0.0114824595, 0.0115626855, 0.010241604, 0.010319152, 0.010377341, 0.010294229, 0.010620941, 0.010241704, 0.01060211, 0.010707149, 0.009612881, 0.010674347, 0.012243705, 0.011292939, 0.01300136, 0.011503508, 0.010504674, 0.011159884, 0.0118534835, 0.012563209, 0.011038139, 0.010826068]\n",
      "2022-02-15 10:50:51,481 : INFO : merging changes from 2000 documents into a model of 3204 documents\n",
      "2022-02-15 10:50:51,489 : INFO : topic #46 (0.008): 0.001*\"implic\" + 0.001*\"favor\" + 0.001*\"adapt\" + 0.001*\"polygon\" + 0.001*\"stage\" + 0.001*\"situat\" + 0.001*\"respons\" + 0.001*\"industri\" + 0.001*\"regress\" + 0.001*\"drive\"\n",
      "2022-02-15 10:50:51,490 : INFO : topic #88 (0.010): 0.268*\"construct\" + 0.057*\"(\" + 0.043*\",\" + 0.043*\"branch\" + 0.036*\"processor\" + 0.036*\")\" + 0.034*\".)\" + 0.033*\"method\" + 0.030*\"alphabet\" + 0.027*\"interrupt\"\n",
      "2022-02-15 10:50:51,491 : INFO : topic #31 (0.013): 0.174*\"function\" + 0.141*\"set\" + 0.096*\"equat\" + 0.068*\"solut\" + 0.054*\",\" + 0.051*\"differenti\" + 0.044*\"valu\" + 0.039*\"find\" + 0.032*\"method\" + 0.029*\"order\"\n",
      "2022-02-15 10:50:51,494 : INFO : topic #41 (0.013): 0.108*\"tree\" + 0.070*\"search\" + 0.060*\"tabl\" + 0.059*\",\" + 0.059*\"algorithm\" + 0.058*\"graph\" + 0.033*\"decis\" + 0.028*\"time\" + 0.025*\"bound\" + 0.023*\"averag\"\n",
      "2022-02-15 10:50:51,498 : INFO : topic #64 (0.025): 0.368*\"(\" + 0.343*\")\" + 0.204*\"algorithm\" + 0.012*\"-\" + 0.012*\"plot\" + 0.012*\"[\" + 0.009*\"g6\" + 0.006*\"procedur\" + 0.006*\"fourier\" + 0.004*\"lexicograph\"\n",
      "2022-02-15 10:50:51,503 : INFO : topic diff=0.513816, rho=0.322715\n",
      "2022-02-15 10:50:52,614 : INFO : -6.553 per-word bound, 93.9 perplexity estimate based on a held-out corpus of 1204 documents with 49783 words\n",
      "2022-02-15 10:50:52,614 : INFO : PROGRESS: pass 7, at document #3204/3204\n",
      "2022-02-15 10:50:53,513 : INFO : optimized alpha [0.010861312, 0.011050454, 0.01226753, 0.01028475, 0.010403756, 0.010690671, 0.012302102, 0.010931325, 0.011104804, 0.011401834, 0.009908432, 0.010890502, 0.010598556, 0.01101244, 0.010799737, 0.010108513, 0.0109009035, 0.011354734, 0.010498372, 0.011073996, 0.01104164, 0.0114033595, 0.0100716725, 0.010566831, 0.010805416, 0.011032279, 0.012293698, 0.010364369, 0.010773184, 0.011491538, 0.011124698, 0.013707929, 0.01118078, 0.0116888555, 0.011371326, 0.011059149, 0.010445443, 0.01060516, 0.013518084, 0.011806552, 0.011365965, 0.013847682, 0.010845738, 0.011540371, 0.0113971345, 0.011773453, 0.008015083, 0.011141952, 0.010807126, 0.011584608, 0.011950613, 0.010824444, 0.0099112755, 0.010537522, 0.010966458, 0.010922638, 0.012569308, 0.009690598, 0.010728496, 0.010706181, 0.011351346, 0.011296149, 0.0119158225, 0.011534584, 0.026907243, 0.011499937, 0.011515313, 0.011158002, 0.012518911, 0.01363333, 0.011784749, 0.010722378, 0.0113796685, 0.0121170925, 0.010775933, 0.01102375, 0.01109272, 0.009923454, 0.0116747655, 0.011777573, 0.010345517, 0.010441056, 0.010503689, 0.010382164, 0.010793347, 0.010319369, 0.010667299, 0.010819534, 0.009714657, 0.010815928, 0.012335782, 0.011439548, 0.0133697, 0.011625131, 0.010641961, 0.011273709, 0.012181679, 0.012894986, 0.011202474, 0.01099149]\n",
      "2022-02-15 10:50:53,519 : INFO : merging changes from 1204 documents into a model of 3204 documents\n",
      "2022-02-15 10:50:53,533 : INFO : topic #46 (0.008): 0.001*\"implic\" + 0.001*\"favor\" + 0.001*\"adapt\" + 0.001*\"polygon\" + 0.001*\"stage\" + 0.001*\"situat\" + 0.001*\"respons\" + 0.001*\"industri\" + 0.001*\"regress\" + 0.001*\"drive\"\n",
      "2022-02-15 10:50:53,534 : INFO : topic #57 (0.010): 0.146*\"remov\" + 0.128*\"chain\" + 0.092*\"discret\" + 0.070*\"revers\" + 0.067*\"transfer\" + 0.062*\"slow\" + 0.045*\"list\" + 0.042*\"fortran\" + 0.041*\"caus\" + 0.036*\"intend\"\n",
      "2022-02-15 10:50:53,535 : INFO : topic #69 (0.014): 0.175*\"languag\" + 0.104*\",\" + 0.043*\"program\" + 0.029*\"\"\" + 0.022*\"-\" + 0.021*\"concept\" + 0.020*\"abstract\" + 0.018*\"formal\" + 0.018*\"paper\" + 0.015*\":\"\n",
      "2022-02-15 10:50:53,536 : INFO : topic #41 (0.014): 0.114*\"tree\" + 0.073*\"search\" + 0.062*\"graph\" + 0.062*\",\" + 0.061*\"algorithm\" + 0.052*\"tabl\" + 0.030*\"time\" + 0.028*\"bound\" + 0.027*\"decis\" + 0.025*\"averag\"\n",
      "2022-02-15 10:50:53,538 : INFO : topic #64 (0.027): 0.376*\"(\" + 0.347*\")\" + 0.196*\"algorithm\" + 0.015*\"plot\" + 0.013*\"-\" + 0.011*\"[\" + 0.008*\"g6\" + 0.006*\"procedur\" + 0.005*\"fourier\" + 0.003*\"arbitrari\"\n",
      "2022-02-15 10:50:53,539 : INFO : topic diff=0.514741, rho=0.322715\n",
      "2022-02-15 10:50:53,552 : INFO : PROGRESS: pass 8, at document #2000/3204\n",
      "2022-02-15 10:50:54,575 : INFO : optimized alpha [0.010924, 0.011170155, 0.012541518, 0.01028035, 0.010395839, 0.010735383, 0.012371029, 0.010954335, 0.011166688, 0.011413819, 0.009887998, 0.010935905, 0.010650703, 0.011135092, 0.010829417, 0.010118472, 0.01096285, 0.01135689, 0.01049219, 0.011140863, 0.011171683, 0.01141377, 0.010092663, 0.010605705, 0.010798676, 0.011069393, 0.012469905, 0.010392295, 0.01089353, 0.011579348, 0.011201171, 0.013891337, 0.011172794, 0.011800791, 0.011539059, 0.011072571, 0.010467862, 0.010563788, 0.013508928, 0.011876999, 0.011343905, 0.013784043, 0.010927008, 0.011553366, 0.011465522, 0.011765702, 0.007958157, 0.0112625975, 0.0108235665, 0.011697446, 0.012104094, 0.010903032, 0.009890682, 0.010608331, 0.011035275, 0.010950347, 0.012651013, 0.00968237, 0.010716038, 0.010704333, 0.011469074, 0.011297559, 0.011901635, 0.011634148, 0.02892913, 0.011531213, 0.011576463, 0.011158566, 0.012582009, 0.013839125, 0.011810835, 0.010805579, 0.011478887, 0.012207753, 0.010870197, 0.011062841, 0.011130972, 0.009912021, 0.011704066, 0.011759075, 0.01038042, 0.0105167255, 0.010487343, 0.010427238, 0.010827377, 0.010353647, 0.010664812, 0.01084828, 0.00972875, 0.010859659, 0.012758879, 0.011496994, 0.013484235, 0.011730292, 0.010662745, 0.011365069, 0.012200547, 0.012924658, 0.011198058, 0.011021098]\n",
      "2022-02-15 10:50:54,581 : INFO : merging changes from 2000 documents into a model of 3204 documents\n",
      "2022-02-15 10:50:54,589 : INFO : topic #46 (0.008): 0.001*\"implic\" + 0.001*\"favor\" + 0.001*\"adapt\" + 0.001*\"polygon\" + 0.001*\"stage\" + 0.001*\"situat\" + 0.001*\"respons\" + 0.001*\"industri\" + 0.001*\"regress\" + 0.001*\"drive\"\n",
      "2022-02-15 10:50:54,589 : INFO : topic #57 (0.010): 0.133*\"chain\" + 0.124*\"remov\" + 0.083*\"discret\" + 0.077*\"slow\" + 0.068*\"transfer\" + 0.061*\"revers\" + 0.052*\"list\" + 0.051*\"fortran\" + 0.033*\"caus\" + 0.033*\"intend\"\n",
      "2022-02-15 10:50:54,590 : INFO : topic #69 (0.014): 0.182*\"languag\" + 0.103*\",\" + 0.042*\"program\" + 0.029*\"\"\" + 0.023*\"-\" + 0.020*\"concept\" + 0.018*\"formal\" + 0.018*\"abstract\" + 0.016*\"paper\" + 0.016*\"notat\"\n",
      "2022-02-15 10:50:54,592 : INFO : topic #31 (0.014): 0.179*\"function\" + 0.145*\"set\" + 0.096*\"equat\" + 0.071*\"solut\" + 0.056*\",\" + 0.050*\"differenti\" + 0.046*\"valu\" + 0.041*\"find\" + 0.027*\"method\" + 0.026*\"order\"\n",
      "2022-02-15 10:50:54,593 : INFO : topic #64 (0.029): 0.375*\"(\" + 0.348*\")\" + 0.202*\"algorithm\" + 0.013*\"-\" + 0.012*\"plot\" + 0.009*\"g6\" + 0.008*\"[\" + 0.005*\"procedur\" + 0.005*\"fourier\" + 0.004*\"lexicograph\"\n",
      "2022-02-15 10:50:54,595 : INFO : topic diff=0.449256, rho=0.307119\n",
      "2022-02-15 10:50:55,630 : INFO : -6.531 per-word bound, 92.5 perplexity estimate based on a held-out corpus of 1204 documents with 49783 words\n",
      "2022-02-15 10:50:55,631 : INFO : PROGRESS: pass 8, at document #3204/3204\n",
      "2022-02-15 10:50:56,465 : INFO : optimized alpha [0.011011747, 0.011233429, 0.012645753, 0.010354463, 0.010543923, 0.010890183, 0.012563843, 0.011092883, 0.011286349, 0.0116206035, 0.010002557, 0.011142468, 0.010748125, 0.01117807, 0.010946596, 0.010185836, 0.011089889, 0.0115576945, 0.01062105, 0.011305323, 0.011272704, 0.011582375, 0.010169717, 0.010661729, 0.010917503, 0.011172483, 0.012639774, 0.010474576, 0.010930034, 0.011766194, 0.011454729, 0.014193623, 0.01140053, 0.011978063, 0.011763086, 0.011205863, 0.010560925, 0.010673822, 0.013859979, 0.012115226, 0.011546906, 0.014151473, 0.011011082, 0.011779674, 0.0116479285, 0.011982867, 0.007887947, 0.011293905, 0.010899146, 0.011784045, 0.012389746, 0.011029255, 0.009984781, 0.010727967, 0.011173908, 0.011102091, 0.013025017, 0.009705117, 0.010832324, 0.010817472, 0.011573602, 0.011472723, 0.012100942, 0.0118832905, 0.030873785, 0.011646568, 0.0116997985, 0.011295656, 0.012862982, 0.014160117, 0.012132418, 0.010897446, 0.01171953, 0.012419488, 0.010949053, 0.011201401, 0.011265799, 0.009995808, 0.011895246, 0.011962872, 0.010493475, 0.010644689, 0.010608712, 0.010508887, 0.010993466, 0.010430837, 0.0107304165, 0.010950608, 0.009836458, 0.010992828, 0.012857734, 0.011640761, 0.013849687, 0.011855762, 0.010805403, 0.011465343, 0.012531635, 0.013259656, 0.011356049, 0.011188767]\n",
      "2022-02-15 10:50:56,472 : INFO : merging changes from 1204 documents into a model of 3204 documents\n",
      "2022-02-15 10:50:56,481 : INFO : topic #46 (0.008): 0.001*\"implic\" + 0.001*\"favor\" + 0.001*\"adapt\" + 0.001*\"polygon\" + 0.001*\"stage\" + 0.001*\"situat\" + 0.001*\"respons\" + 0.001*\"industri\" + 0.001*\"regress\" + 0.001*\"drive\"\n",
      "2022-02-15 10:50:56,482 : INFO : topic #57 (0.010): 0.147*\"remov\" + 0.130*\"chain\" + 0.097*\"discret\" + 0.074*\"transfer\" + 0.070*\"revers\" + 0.065*\"slow\" + 0.047*\"list\" + 0.042*\"fortran\" + 0.041*\"caus\" + 0.036*\"intend\"\n",
      "2022-02-15 10:50:56,482 : INFO : topic #69 (0.014): 0.180*\"languag\" + 0.105*\",\" + 0.045*\"program\" + 0.028*\"\"\" + 0.021*\"-\" + 0.021*\"concept\" + 0.020*\"abstract\" + 0.018*\"paper\" + 0.018*\"formal\" + 0.015*\":\"\n",
      "2022-02-15 10:50:56,483 : INFO : topic #31 (0.014): 0.182*\"function\" + 0.146*\"set\" + 0.095*\"equat\" + 0.072*\"solut\" + 0.058*\",\" + 0.049*\"valu\" + 0.047*\"differenti\" + 0.045*\"find\" + 0.029*\"end\" + 0.025*\"order\"\n",
      "2022-02-15 10:50:56,484 : INFO : topic #64 (0.031): 0.382*\"(\" + 0.352*\")\" + 0.195*\"algorithm\" + 0.015*\"plot\" + 0.013*\"-\" + 0.008*\"[\" + 0.008*\"g6\" + 0.005*\"fourier\" + 0.004*\"procedur\" + 0.003*\"arbitrari\"\n",
      "2022-02-15 10:50:56,485 : INFO : topic diff=0.449306, rho=0.307119\n",
      "2022-02-15 10:50:56,497 : INFO : PROGRESS: pass 9, at document #2000/3204\n",
      "2022-02-15 10:50:57,404 : INFO : optimized alpha [0.011073808, 0.011345921, 0.012917111, 0.010352191, 0.010536073, 0.010931412, 0.012626131, 0.011119819, 0.01135594, 0.011636637, 0.010005281, 0.011203964, 0.010806374, 0.011301566, 0.01097349, 0.010201765, 0.011156189, 0.011560804, 0.010621327, 0.011364457, 0.011395336, 0.0115885325, 0.010197558, 0.0107088685, 0.010919207, 0.011209906, 0.012807265, 0.010500084, 0.011048025, 0.011866565, 0.0115298005, 0.01436506, 0.011393557, 0.012105627, 0.011942245, 0.011221977, 0.010582633, 0.010632849, 0.013856876, 0.012184379, 0.011524954, 0.014087509, 0.011101058, 0.01179479, 0.01172032, 0.011976316, 0.007835826, 0.011412235, 0.010926606, 0.011894826, 0.0125697255, 0.011105049, 0.009971142, 0.01080909, 0.011246759, 0.011135026, 0.013119978, 0.009697979, 0.010828462, 0.010820601, 0.011687452, 0.011480443, 0.01208669, 0.012005833, 0.03301648, 0.011676743, 0.011756941, 0.011297793, 0.012932286, 0.014371033, 0.012166742, 0.010981089, 0.011825682, 0.01249927, 0.011041765, 0.011253945, 0.011304155, 0.0099865915, 0.011931843, 0.011946157, 0.010525498, 0.010722475, 0.010597751, 0.01056181, 0.011029085, 0.010467075, 0.010730126, 0.0109799905, 0.009854309, 0.011042983, 0.013279509, 0.011699406, 0.013961359, 0.01196251, 0.01083474, 0.011541794, 0.0125516765, 0.0132944705, 0.01135325, 0.011215294]\n",
      "2022-02-15 10:50:57,411 : INFO : merging changes from 2000 documents into a model of 3204 documents\n",
      "2022-02-15 10:50:57,419 : INFO : topic #46 (0.008): 0.001*\"implic\" + 0.001*\"favor\" + 0.001*\"adapt\" + 0.001*\"polygon\" + 0.001*\"stage\" + 0.001*\"situat\" + 0.001*\"respons\" + 0.001*\"industri\" + 0.001*\"regress\" + 0.001*\"drive\"\n",
      "2022-02-15 10:50:57,420 : INFO : topic #57 (0.010): 0.135*\"chain\" + 0.126*\"remov\" + 0.087*\"discret\" + 0.080*\"slow\" + 0.074*\"transfer\" + 0.061*\"revers\" + 0.053*\"list\" + 0.050*\"fortran\" + 0.034*\"caus\" + 0.034*\"intend\"\n",
      "2022-02-15 10:50:57,422 : INFO : topic #69 (0.014): 0.187*\"languag\" + 0.104*\",\" + 0.045*\"program\" + 0.028*\"\"\" + 0.023*\"-\" + 0.021*\"concept\" + 0.018*\"formal\" + 0.018*\"abstract\" + 0.017*\"paper\" + 0.016*\"notat\"\n",
      "2022-02-15 10:50:57,423 : INFO : topic #31 (0.014): 0.184*\"function\" + 0.149*\"set\" + 0.097*\"equat\" + 0.074*\"solut\" + 0.059*\",\" + 0.049*\"differenti\" + 0.048*\"valu\" + 0.043*\"find\" + 0.024*\"end\" + 0.024*\"method\"\n",
      "2022-02-15 10:50:57,437 : INFO : topic #64 (0.033): 0.380*\"(\" + 0.353*\")\" + 0.199*\"algorithm\" + 0.013*\"-\" + 0.012*\"plot\" + 0.008*\"g6\" + 0.006*\"[\" + 0.005*\"fourier\" + 0.004*\"procedur\" + 0.004*\"lexicograph\"\n",
      "2022-02-15 10:50:57,440 : INFO : topic diff=0.390818, rho=0.293585\n",
      "2022-02-15 10:50:58,449 : INFO : -6.513 per-word bound, 91.3 perplexity estimate based on a held-out corpus of 1204 documents with 49783 words\n",
      "2022-02-15 10:50:58,450 : INFO : PROGRESS: pass 9, at document #3204/3204\n",
      "2022-02-15 10:50:59,292 : INFO : optimized alpha [0.011155595, 0.011400888, 0.013029095, 0.010428903, 0.01070254, 0.011086478, 0.012800087, 0.011258973, 0.011479644, 0.01184545, 0.010135656, 0.01143218, 0.010913543, 0.011336967, 0.011078347, 0.010284345, 0.011278755, 0.01175788, 0.0107482495, 0.011534633, 0.0114867855, 0.011745623, 0.010284351, 0.010773448, 0.0110285, 0.011317427, 0.0129775, 0.010579503, 0.011088172, 0.0120563265, 0.011779507, 0.014680056, 0.011614342, 0.012274038, 0.012172239, 0.011353332, 0.010680217, 0.010736383, 0.01418423, 0.012430446, 0.011732575, 0.014429916, 0.011187412, 0.012014134, 0.011899585, 0.012189295, 0.0077713495, 0.011444812, 0.011004949, 0.011972084, 0.012864319, 0.0112268245, 0.010069333, 0.010929836, 0.011380533, 0.011295116, 0.013486349, 0.009720543, 0.010954036, 0.010927122, 0.011784928, 0.011655365, 0.012291054, 0.012272304, 0.035055384, 0.011793663, 0.011884591, 0.011441198, 0.013202182, 0.01469498, 0.012489749, 0.011077579, 0.012068584, 0.012707307, 0.011117528, 0.011398979, 0.011439753, 0.010072401, 0.012116716, 0.012145958, 0.010634599, 0.010851369, 0.010722517, 0.0106403995, 0.011192397, 0.010538909, 0.010793585, 0.011084042, 0.0099702, 0.011168766, 0.0133756045, 0.011832285, 0.014311336, 0.012083264, 0.010967173, 0.011635398, 0.0128775425, 0.013620726, 0.011502982, 0.011382852]\n",
      "2022-02-15 10:50:59,301 : INFO : merging changes from 1204 documents into a model of 3204 documents\n",
      "2022-02-15 10:50:59,308 : INFO : topic #46 (0.008): 0.001*\"implic\" + 0.001*\"favor\" + 0.001*\"adapt\" + 0.001*\"polygon\" + 0.001*\"stage\" + 0.001*\"situat\" + 0.001*\"respons\" + 0.001*\"industri\" + 0.001*\"regress\" + 0.001*\"drive\"\n",
      "2022-02-15 10:50:59,309 : INFO : topic #57 (0.010): 0.146*\"remov\" + 0.130*\"chain\" + 0.099*\"discret\" + 0.077*\"transfer\" + 0.070*\"revers\" + 0.067*\"slow\" + 0.047*\"list\" + 0.044*\"caus\" + 0.042*\"fortran\" + 0.036*\"intend\"\n",
      "2022-02-15 10:50:59,312 : INFO : topic #31 (0.015): 0.186*\"function\" + 0.149*\"set\" + 0.095*\"equat\" + 0.074*\"solut\" + 0.061*\",\" + 0.051*\"valu\" + 0.046*\"differenti\" + 0.046*\"find\" + 0.029*\"end\" + 0.022*\"order\"\n",
      "2022-02-15 10:50:59,315 : INFO : topic #69 (0.015): 0.184*\"languag\" + 0.106*\",\" + 0.047*\"program\" + 0.026*\"\"\" + 0.021*\"concept\" + 0.021*\"-\" + 0.020*\"abstract\" + 0.019*\"paper\" + 0.018*\"formal\" + 0.015*\":\"\n",
      "2022-02-15 10:50:59,318 : INFO : topic #64 (0.035): 0.387*\"(\" + 0.355*\")\" + 0.193*\"algorithm\" + 0.014*\"plot\" + 0.014*\"-\" + 0.007*\"g6\" + 0.005*\"[\" + 0.005*\"fourier\" + 0.003*\"procedur\" + 0.003*\"arbitrari\"\n",
      "2022-02-15 10:50:59,320 : INFO : topic diff=0.393006, rho=0.293585\n",
      "2022-02-15 10:50:59,332 : INFO : PROGRESS: pass 10, at document #2000/3204\n",
      "2022-02-15 10:51:00,218 : INFO : optimized alpha [0.011214251, 0.011505228, 0.0132988645, 0.0104314685, 0.010705159, 0.01113077, 0.012856383, 0.01128318, 0.011546963, 0.011861929, 0.010145339, 0.011507661, 0.010969991, 0.011458408, 0.011102813, 0.010308675, 0.011344531, 0.011761895, 0.010749995, 0.0115931155, 0.011605848, 0.011757978, 0.010309911, 0.010817642, 0.011039758, 0.011355189, 0.013149715, 0.010602801, 0.0112027135, 0.012158769, 0.0118517615, 0.0148527585, 0.011611699, 0.012404936, 0.012371824, 0.011372002, 0.010701278, 0.010701878, 0.01418125, 0.012498546, 0.011712335, 0.0143639175, 0.011276356, 0.012027936, 0.011977815, 0.012183966, 0.007723338, 0.011562937, 0.011031677, 0.012084535, 0.01306026, 0.011311264, 0.010062078, 0.01101624, 0.011452677, 0.011321877, 0.013596712, 0.009715792, 0.0109517975, 0.010933352, 0.011897047, 0.011664036, 0.012280101, 0.0124004325, 0.037334602, 0.011824429, 0.011939751, 0.011444786, 0.013270302, 0.014917512, 0.01252693, 0.011160279, 0.012174853, 0.012787764, 0.011210598, 0.011457857, 0.011481549, 0.010066668, 0.012155178, 0.012130927, 0.010676063, 0.010928148, 0.01071347, 0.010696244, 0.011231276, 0.010575626, 0.010795304, 0.01112038, 0.009990191, 0.011212454, 0.013785483, 0.011895597, 0.014416625, 0.012184983, 0.011000066, 0.011711044, 0.012898904, 0.01365471, 0.011501723, 0.011411363]\n",
      "2022-02-15 10:51:00,225 : INFO : merging changes from 2000 documents into a model of 3204 documents\n",
      "2022-02-15 10:51:00,232 : INFO : topic #46 (0.008): 0.001*\"implic\" + 0.001*\"favor\" + 0.001*\"adapt\" + 0.001*\"polygon\" + 0.001*\"stage\" + 0.001*\"situat\" + 0.001*\"respons\" + 0.001*\"industri\" + 0.001*\"regress\" + 0.001*\"drive\"\n",
      "2022-02-15 10:51:00,233 : INFO : topic #57 (0.010): 0.135*\"chain\" + 0.126*\"remov\" + 0.089*\"discret\" + 0.080*\"slow\" + 0.076*\"transfer\" + 0.062*\"revers\" + 0.053*\"list\" + 0.050*\"fortran\" + 0.037*\"caus\" + 0.034*\"link\"\n",
      "2022-02-15 10:51:00,234 : INFO : topic #31 (0.015): 0.188*\"function\" + 0.152*\"set\" + 0.096*\"equat\" + 0.075*\"solut\" + 0.063*\",\" + 0.049*\"valu\" + 0.047*\"differenti\" + 0.045*\"find\" + 0.024*\"end\" + 0.021*\"method\"\n",
      "2022-02-15 10:51:00,238 : INFO : topic #69 (0.015): 0.191*\"languag\" + 0.105*\",\" + 0.047*\"program\" + 0.026*\"\"\" + 0.022*\"-\" + 0.021*\"concept\" + 0.018*\"abstract\" + 0.018*\"formal\" + 0.017*\"paper\" + 0.016*\"notat\"\n",
      "2022-02-15 10:51:00,242 : INFO : topic #64 (0.037): 0.385*\"(\" + 0.355*\")\" + 0.198*\"algorithm\" + 0.013*\"-\" + 0.012*\"plot\" + 0.008*\"g6\" + 0.005*\"fourier\" + 0.004*\"[\" + 0.004*\"lexicograph\" + 0.004*\"c6\"\n",
      "2022-02-15 10:51:00,247 : INFO : topic diff=0.341885, rho=0.281696\n",
      "2022-02-15 10:51:01,265 : INFO : -6.497 per-word bound, 90.4 perplexity estimate based on a held-out corpus of 1204 documents with 49783 words\n",
      "2022-02-15 10:51:01,265 : INFO : PROGRESS: pass 10, at document #3204/3204\n",
      "2022-02-15 10:51:02,086 : INFO : optimized alpha [0.011298656, 0.011558066, 0.013409369, 0.010515574, 0.010866798, 0.011291563, 0.013018928, 0.011417903, 0.011672079, 0.012078869, 0.0102980845, 0.011771413, 0.011066086, 0.011492162, 0.011201564, 0.010398327, 0.011463169, 0.011950461, 0.0108729405, 0.011749901, 0.011699463, 0.011918422, 0.010396386, 0.010877561, 0.011148208, 0.01145921, 0.013314633, 0.010682107, 0.011241136, 0.012340323, 0.012095512, 0.0151603585, 0.011840025, 0.012585864, 0.012617071, 0.011501845, 0.010803245, 0.010802191, 0.014496778, 0.012738367, 0.0119221555, 0.01469334, 0.011362357, 0.012243946, 0.012165943, 0.012399233, 0.0076637743, 0.011594048, 0.011112676, 0.012164579, 0.013349295, 0.011442318, 0.010164306, 0.011138422, 0.011587641, 0.011479828, 0.013956671, 0.0097427135, 0.011078774, 0.011034005, 0.011988236, 0.01183648, 0.012475457, 0.012676037, 0.03948019, 0.011934735, 0.01205762, 0.011578317, 0.013551859, 0.015234683, 0.012855128, 0.011261473, 0.012431866, 0.012986701, 0.011283604, 0.011598464, 0.011610269, 0.010152109, 0.012328841, 0.0123246955, 0.010786673, 0.011063444, 0.010841728, 0.010774664, 0.011392411, 0.010652624, 0.01085943, 0.011213233, 0.010107113, 0.011328892, 0.013872632, 0.012026957, 0.014765625, 0.012307387, 0.011136243, 0.011801437, 0.013223501, 0.013986019, 0.011652133, 0.011573959]\n",
      "2022-02-15 10:51:02,092 : INFO : merging changes from 1204 documents into a model of 3204 documents\n",
      "2022-02-15 10:51:02,100 : INFO : topic #46 (0.008): 0.001*\"implic\" + 0.001*\"favor\" + 0.001*\"adapt\" + 0.001*\"polygon\" + 0.001*\"stage\" + 0.001*\"situat\" + 0.001*\"respons\" + 0.001*\"industri\" + 0.001*\"regress\" + 0.001*\"drive\"\n",
      "2022-02-15 10:51:02,101 : INFO : topic #57 (0.010): 0.145*\"remov\" + 0.129*\"chain\" + 0.100*\"discret\" + 0.078*\"transfer\" + 0.069*\"revers\" + 0.067*\"slow\" + 0.047*\"list\" + 0.045*\"caus\" + 0.044*\"link\" + 0.041*\"fortran\"\n",
      "2022-02-15 10:51:02,102 : INFO : topic #31 (0.015): 0.189*\"function\" + 0.152*\"set\" + 0.094*\"equat\" + 0.075*\"solut\" + 0.064*\",\" + 0.053*\"valu\" + 0.047*\"find\" + 0.045*\"differenti\" + 0.029*\"end\" + 0.020*\"order\"\n",
      "2022-02-15 10:51:02,105 : INFO : topic #69 (0.015): 0.187*\"languag\" + 0.107*\",\" + 0.049*\"program\" + 0.025*\"\"\" + 0.021*\"concept\" + 0.021*\"-\" + 0.020*\"abstract\" + 0.019*\"paper\" + 0.018*\"formal\" + 0.015*\":\"\n",
      "2022-02-15 10:51:02,107 : INFO : topic #64 (0.039): 0.390*\"(\" + 0.356*\")\" + 0.193*\"algorithm\" + 0.014*\"plot\" + 0.014*\"-\" + 0.007*\"g6\" + 0.005*\"fourier\" + 0.004*\"[\" + 0.003*\"arbitrari\" + 0.003*\"lexicograph\"\n",
      "2022-02-15 10:51:02,108 : INFO : topic diff=0.345963, rho=0.281696\n",
      "2022-02-15 10:51:02,123 : INFO : PROGRESS: pass 11, at document #2000/3204\n",
      "2022-02-15 10:51:03,057 : INFO : optimized alpha [0.011357206, 0.011662741, 0.013674396, 0.010526821, 0.010876403, 0.011337369, 0.013076991, 0.011444379, 0.011732588, 0.012099101, 0.010314217, 0.011858966, 0.011132975, 0.011605696, 0.011228389, 0.010423407, 0.011536298, 0.011953834, 0.010876092, 0.011799931, 0.0118201515, 0.011930117, 0.010424072, 0.010919132, 0.011159192, 0.011497413, 0.013488424, 0.010712162, 0.011360268, 0.012443327, 0.012168512, 0.015338839, 0.011841419, 0.012718689, 0.012825427, 0.011524485, 0.010826682, 0.010769213, 0.014492088, 0.012809059, 0.0119034825, 0.014633468, 0.011462982, 0.012254911, 0.012240059, 0.012394964, 0.007619314, 0.011709018, 0.011138758, 0.012274061, 0.013552608, 0.011529058, 0.010155948, 0.01122863, 0.011667153, 0.011507045, 0.0140766855, 0.009742713, 0.011084207, 0.01104162, 0.012102194, 0.011847726, 0.012464255, 0.012828893, 0.041865613, 0.0119629735, 0.012111138, 0.011588102, 0.013622627, 0.015452898, 0.012896889, 0.011348035, 0.012548625, 0.013068057, 0.011378772, 0.011657277, 0.011650805, 0.010150977, 0.012364191, 0.012309565, 0.010829791, 0.011142574, 0.010835863, 0.010831955, 0.01142832, 0.010688364, 0.010864448, 0.011242415, 0.0101264035, 0.011374356, 0.01428237, 0.012091592, 0.014870964, 0.012411283, 0.011175691, 0.0118749, 0.013244422, 0.014025043, 0.011655546, 0.011602897]\n",
      "2022-02-15 10:51:03,066 : INFO : merging changes from 2000 documents into a model of 3204 documents\n",
      "2022-02-15 10:51:03,078 : INFO : topic #46 (0.008): 0.001*\"implic\" + 0.001*\"favor\" + 0.001*\"adapt\" + 0.001*\"polygon\" + 0.001*\"stage\" + 0.001*\"situat\" + 0.001*\"respons\" + 0.001*\"industri\" + 0.001*\"regress\" + 0.001*\"drive\"\n",
      "2022-02-15 10:51:03,079 : INFO : topic #57 (0.010): 0.134*\"chain\" + 0.125*\"remov\" + 0.091*\"discret\" + 0.080*\"slow\" + 0.079*\"transfer\" + 0.061*\"revers\" + 0.052*\"list\" + 0.049*\"fortran\" + 0.048*\"link\" + 0.038*\"caus\"\n",
      "2022-02-15 10:51:03,080 : INFO : topic #31 (0.015): 0.192*\"function\" + 0.155*\"set\" + 0.095*\"equat\" + 0.075*\"solut\" + 0.066*\",\" + 0.051*\"valu\" + 0.047*\"differenti\" + 0.046*\"find\" + 0.024*\"end\" + 0.018*\"method\"\n",
      "2022-02-15 10:51:03,081 : INFO : topic #69 (0.015): 0.193*\"languag\" + 0.106*\",\" + 0.048*\"program\" + 0.025*\"\"\" + 0.022*\"-\" + 0.021*\"concept\" + 0.018*\"paper\" + 0.018*\"abstract\" + 0.018*\"formal\" + 0.016*\"notat\"\n",
      "2022-02-15 10:51:03,082 : INFO : topic #64 (0.042): 0.388*\"(\" + 0.356*\")\" + 0.198*\"algorithm\" + 0.014*\"-\" + 0.011*\"plot\" + 0.008*\"g6\" + 0.005*\"fourier\" + 0.003*\"lexicograph\" + 0.003*\"c6\" + 0.003*\"[\"\n",
      "2022-02-15 10:51:03,084 : INFO : topic diff=0.301815, rho=0.271143\n",
      "2022-02-15 10:51:04,068 : INFO : -6.484 per-word bound, 89.5 perplexity estimate based on a held-out corpus of 1204 documents with 49783 words\n",
      "2022-02-15 10:51:04,069 : INFO : PROGRESS: pass 11, at document #3204/3204\n",
      "2022-02-15 10:51:04,852 : INFO : optimized alpha [0.0114364335, 0.01171627, 0.013783715, 0.010613236, 0.011046158, 0.011506763, 0.013240896, 0.011575234, 0.011862028, 0.012313485, 0.010491078, 0.012153284, 0.011223707, 0.011630217, 0.0113294255, 0.010517547, 0.011651585, 0.01214004, 0.010995457, 0.011965751, 0.0119106695, 0.012077898, 0.010505711, 0.010982213, 0.011267009, 0.011600942, 0.0136454785, 0.010789118, 0.011397137, 0.012623135, 0.012412448, 0.015660483, 0.0120616155, 0.012877456, 0.013083691, 0.011658362, 0.010928099, 0.010871642, 0.014796903, 0.013043352, 0.012096958, 0.01495788, 0.011551531, 0.012470913, 0.012417728, 0.012610157, 0.007564007, 0.011744245, 0.011214912, 0.012348627, 0.013845808, 0.011658983, 0.010257549, 0.011357592, 0.011806187, 0.011660644, 0.014443747, 0.009771466, 0.011210089, 0.011149308, 0.012190348, 0.012015507, 0.01265983, 0.013126346, 0.04407563, 0.012064645, 0.01223105, 0.0117284, 0.013894936, 0.015760325, 0.013225193, 0.011446141, 0.012817807, 0.013264685, 0.011451949, 0.011799269, 0.011781123, 0.0102340225, 0.012535933, 0.012497984, 0.01093966, 0.011279304, 0.010955584, 0.010907965, 0.01158255, 0.010760602, 0.010921901, 0.011337641, 0.010249125, 0.011489966, 0.014354441, 0.012221875, 0.015216437, 0.012529863, 0.011313188, 0.011962464, 0.013559587, 0.014359349, 0.011801743, 0.011771567]\n",
      "2022-02-15 10:51:04,863 : INFO : merging changes from 1204 documents into a model of 3204 documents\n",
      "2022-02-15 10:51:04,874 : INFO : topic #46 (0.008): 0.001*\"implic\" + 0.001*\"favor\" + 0.001*\"adapt\" + 0.001*\"polygon\" + 0.001*\"stage\" + 0.001*\"situat\" + 0.001*\"respons\" + 0.001*\"industri\" + 0.001*\"regress\" + 0.001*\"drive\"\n",
      "2022-02-15 10:51:04,883 : INFO : topic #57 (0.010): 0.143*\"remov\" + 0.128*\"chain\" + 0.100*\"discret\" + 0.080*\"transfer\" + 0.068*\"revers\" + 0.067*\"slow\" + 0.060*\"link\" + 0.048*\"list\" + 0.046*\"caus\" + 0.039*\"fortran\"\n",
      "2022-02-15 10:51:04,886 : INFO : topic #31 (0.016): 0.192*\"function\" + 0.155*\"set\" + 0.093*\"equat\" + 0.075*\"solut\" + 0.067*\",\" + 0.055*\"valu\" + 0.048*\"find\" + 0.045*\"differenti\" + 0.029*\"end\" + 0.016*\"order\"\n",
      "2022-02-15 10:51:04,891 : INFO : topic #69 (0.016): 0.190*\"languag\" + 0.108*\",\" + 0.050*\"program\" + 0.024*\"\"\" + 0.022*\"concept\" + 0.020*\"-\" + 0.020*\"abstract\" + 0.020*\"paper\" + 0.018*\"formal\" + 0.015*\":\"\n",
      "2022-02-15 10:51:04,895 : INFO : topic #64 (0.044): 0.393*\"(\" + 0.356*\")\" + 0.193*\"algorithm\" + 0.014*\"-\" + 0.014*\"plot\" + 0.007*\"g6\" + 0.004*\"fourier\" + 0.003*\"[\" + 0.003*\"lexicograph\" + 0.003*\"c6\"\n",
      "2022-02-15 10:51:04,901 : INFO : topic diff=0.306776, rho=0.271143\n",
      "2022-02-15 10:51:04,909 : INFO : PROGRESS: pass 12, at document #2000/3204\n",
      "2022-02-15 10:51:05,801 : INFO : optimized alpha [0.011492013, 0.011816871, 0.01404452, 0.010622917, 0.011065329, 0.011549493, 0.013295344, 0.011603888, 0.01192711, 0.0123373335, 0.010520156, 0.01224655, 0.01128888, 0.011739482, 0.01135259, 0.010543367, 0.011724536, 0.012147535, 0.010997077, 0.012015401, 0.012040992, 0.012089074, 0.010534106, 0.0110256905, 0.011288221, 0.011639609, 0.013821054, 0.01082133, 0.011513468, 0.012728575, 0.012484731, 0.015820146, 0.012057476, 0.0130106155, 0.013301426, 0.011683388, 0.010952394, 0.010841427, 0.014798491, 0.013116735, 0.012078232, 0.014899858, 0.011651397, 0.012484186, 0.012488085, 0.012605293, 0.007522649, 0.011859565, 0.011238985, 0.012455444, 0.014069445, 0.0117466, 0.010252235, 0.01144405, 0.011886729, 0.011692949, 0.014565957, 0.009771998, 0.011219737, 0.011159648, 0.0123015735, 0.012024469, 0.0126484055, 0.013281586, 0.046557657, 0.012098551, 0.012286229, 0.011740953, 0.013964874, 0.015974523, 0.013264607, 0.011527539, 0.012945307, 0.013338344, 0.011552298, 0.011864338, 0.011822021, 0.010233148, 0.012571672, 0.012482829, 0.010984476, 0.011362332, 0.010945499, 0.010966672, 0.011615695, 0.010795515, 0.010927218, 0.011372088, 0.010269094, 0.011540177, 0.014754949, 0.012289525, 0.015320061, 0.012632802, 0.011352892, 0.012037217, 0.013580195, 0.014405395, 0.011804863, 0.011802466]\n",
      "2022-02-15 10:51:05,808 : INFO : merging changes from 2000 documents into a model of 3204 documents\n",
      "2022-02-15 10:51:05,816 : INFO : topic #46 (0.008): 0.001*\"implic\" + 0.001*\"favor\" + 0.001*\"adapt\" + 0.001*\"polygon\" + 0.001*\"stage\" + 0.001*\"situat\" + 0.001*\"respons\" + 0.001*\"industri\" + 0.001*\"regress\" + 0.001*\"drive\"\n",
      "2022-02-15 10:51:05,816 : INFO : topic #57 (0.010): 0.133*\"chain\" + 0.125*\"remov\" + 0.092*\"discret\" + 0.079*\"slow\" + 0.078*\"transfer\" + 0.062*\"link\" + 0.061*\"revers\" + 0.053*\"list\" + 0.047*\"fortran\" + 0.038*\"caus\"\n",
      "2022-02-15 10:51:05,817 : INFO : topic #31 (0.016): 0.195*\"function\" + 0.159*\"set\" + 0.093*\"equat\" + 0.075*\"solut\" + 0.069*\",\" + 0.053*\"valu\" + 0.047*\"find\" + 0.046*\"differenti\" + 0.024*\"end\" + 0.015*\"partial\"\n",
      "2022-02-15 10:51:05,819 : INFO : topic #69 (0.016): 0.195*\"languag\" + 0.107*\",\" + 0.049*\"program\" + 0.024*\"\"\" + 0.022*\"-\" + 0.021*\"concept\" + 0.018*\"paper\" + 0.018*\"abstract\" + 0.018*\"formal\" + 0.016*\"notat\"\n",
      "2022-02-15 10:51:05,820 : INFO : topic #64 (0.047): 0.390*\"(\" + 0.356*\")\" + 0.198*\"algorithm\" + 0.014*\"-\" + 0.011*\"plot\" + 0.008*\"g6\" + 0.005*\"fourier\" + 0.003*\"lexicograph\" + 0.003*\"c6\" + 0.002*\"arbitrari\"\n",
      "2022-02-15 10:51:05,822 : INFO : topic diff=0.269459, rho=0.261694\n",
      "2022-02-15 10:51:06,780 : INFO : -6.471 per-word bound, 88.7 perplexity estimate based on a held-out corpus of 1204 documents with 49783 words\n",
      "2022-02-15 10:51:06,781 : INFO : PROGRESS: pass 12, at document #3204/3204\n",
      "2022-02-15 10:51:07,547 : INFO : optimized alpha [0.011574028, 0.011868647, 0.014143501, 0.010711647, 0.011233581, 0.011717375, 0.013460929, 0.011728782, 0.01205581, 0.01254692, 0.010714034, 0.012555874, 0.011382029, 0.011763044, 0.011458361, 0.010641904, 0.01183414, 0.012326547, 0.011106033, 0.012169189, 0.012133994, 0.012230298, 0.010615874, 0.011087076, 0.011390759, 0.01174031, 0.013979912, 0.01089384, 0.01154895, 0.01290983, 0.012726768, 0.016139017, 0.012283256, 0.01318248, 0.013570221, 0.011816303, 0.011058321, 0.01094359, 0.0151005415, 0.0133488905, 0.012277646, 0.015216897, 0.011745006, 0.01269798, 0.012664135, 0.012818109, 0.007471052, 0.011901247, 0.011320419, 0.012530339, 0.014358165, 0.011875667, 0.010357924, 0.011579732, 0.0120196575, 0.0118452655, 0.014940687, 0.009800313, 0.0113448035, 0.011262034, 0.012386969, 0.012188069, 0.012836279, 0.013586907, 0.048752803, 0.012192128, 0.0124028595, 0.011885412, 0.014228531, 0.016283238, 0.013605298, 0.011622868, 0.013215867, 0.01352717, 0.011620723, 0.012010615, 0.011948999, 0.010318453, 0.012750045, 0.012666424, 0.011091432, 0.011503198, 0.01106443, 0.011040567, 0.011763445, 0.010868147, 0.01098324, 0.011464778, 0.010388704, 0.011650138, 0.014748162, 0.012413654, 0.015655985, 0.012747966, 0.011501811, 0.012119558, 0.013892553, 0.014746263, 0.011947262, 0.011967112]\n",
      "2022-02-15 10:51:07,553 : INFO : merging changes from 1204 documents into a model of 3204 documents\n",
      "2022-02-15 10:51:07,561 : INFO : topic #46 (0.007): 0.001*\"implic\" + 0.001*\"favor\" + 0.001*\"adapt\" + 0.001*\"polygon\" + 0.001*\"stage\" + 0.001*\"situat\" + 0.001*\"respons\" + 0.001*\"industri\" + 0.001*\"regress\" + 0.001*\"drive\"\n",
      "2022-02-15 10:51:07,562 : INFO : topic #57 (0.010): 0.141*\"remov\" + 0.127*\"chain\" + 0.098*\"discret\" + 0.079*\"transfer\" + 0.073*\"link\" + 0.067*\"slow\" + 0.067*\"revers\" + 0.051*\"list\" + 0.046*\"caus\" + 0.037*\"fortran\"\n",
      "2022-02-15 10:51:07,563 : INFO : topic #31 (0.016): 0.193*\"function\" + 0.159*\"set\" + 0.091*\"equat\" + 0.074*\"solut\" + 0.070*\",\" + 0.056*\"valu\" + 0.050*\"find\" + 0.044*\"differenti\" + 0.029*\"end\" + 0.017*\"satisfi\"\n",
      "2022-02-15 10:51:07,565 : INFO : topic #69 (0.016): 0.191*\"languag\" + 0.109*\",\" + 0.051*\"program\" + 0.023*\"\"\" + 0.022*\"concept\" + 0.020*\"abstract\" + 0.020*\"paper\" + 0.020*\"-\" + 0.018*\"formal\" + 0.015*\":\"\n",
      "2022-02-15 10:51:07,565 : INFO : topic #64 (0.049): 0.395*\"(\" + 0.356*\")\" + 0.194*\"algorithm\" + 0.014*\"-\" + 0.014*\"plot\" + 0.007*\"g6\" + 0.004*\"fourier\" + 0.003*\"lexicograph\" + 0.003*\"c6\" + 0.002*\"arbitrari\"\n",
      "2022-02-15 10:51:07,567 : INFO : topic diff=0.275361, rho=0.261694\n",
      "2022-02-15 10:51:07,578 : INFO : PROGRESS: pass 13, at document #2000/3204\n",
      "2022-02-15 10:51:08,433 : INFO : optimized alpha [0.011631255, 0.01196397, 0.014405762, 0.010725236, 0.01126196, 0.011763197, 0.013513772, 0.011759582, 0.012116158, 0.012574443, 0.010748833, 0.012654914, 0.011451496, 0.011869864, 0.011492658, 0.010669805, 0.011902328, 0.0123334, 0.011110468, 0.012209523, 0.012263228, 0.012239475, 0.010644968, 0.011135226, 0.0114055835, 0.011780995, 0.014155741, 0.010923954, 0.011661264, 0.013019493, 0.012792021, 0.016299015, 0.0122831315, 0.013311191, 0.013790892, 0.011846526, 0.011083422, 0.010914479, 0.015100556, 0.013425109, 0.01225732, 0.015160627, 0.011865168, 0.012708535, 0.012737331, 0.012815934, 0.007432419, 0.012015552, 0.011348306, 0.012634748, 0.014584526, 0.01196282, 0.010351476, 0.011673058, 0.012098257, 0.01188549, 0.01506717, 0.0098050255, 0.011352677, 0.011273679, 0.012500432, 0.012196523, 0.012824682, 0.0137500465, 0.051271267, 0.012220581, 0.01245993, 0.011903555, 0.014296025, 0.016495725, 0.013656089, 0.011705409, 0.013349081, 0.013596885, 0.011717465, 0.01207872, 0.01199337, 0.010319089, 0.01279107, 0.012652815, 0.011135106, 0.011588767, 0.011060244, 0.011097917, 0.011799958, 0.01090503, 0.010988811, 0.011498418, 0.010408046, 0.011694609, 0.015147838, 0.012479631, 0.01575618, 0.012850135, 0.011541842, 0.012191002, 0.013911225, 0.014785903, 0.011953194, 0.01199843]\n",
      "2022-02-15 10:51:08,439 : INFO : merging changes from 2000 documents into a model of 3204 documents\n",
      "2022-02-15 10:51:08,446 : INFO : topic #46 (0.007): 0.001*\"implic\" + 0.001*\"favor\" + 0.001*\"adapt\" + 0.001*\"polygon\" + 0.001*\"stage\" + 0.001*\"situat\" + 0.001*\"respons\" + 0.001*\"industri\" + 0.001*\"regress\" + 0.001*\"drive\"\n",
      "2022-02-15 10:51:08,447 : INFO : topic #57 (0.010): 0.131*\"chain\" + 0.124*\"remov\" + 0.090*\"discret\" + 0.079*\"transfer\" + 0.079*\"slow\" + 0.073*\"link\" + 0.060*\"revers\" + 0.055*\"list\" + 0.045*\"fortran\" + 0.039*\"caus\"\n",
      "2022-02-15 10:51:08,448 : INFO : topic #31 (0.016): 0.196*\"function\" + 0.162*\"set\" + 0.092*\"equat\" + 0.074*\"solut\" + 0.072*\",\" + 0.055*\"valu\" + 0.048*\"find\" + 0.045*\"differenti\" + 0.024*\"end\" + 0.016*\"satisfi\"\n",
      "2022-02-15 10:51:08,450 : INFO : topic #69 (0.016): 0.196*\"languag\" + 0.108*\",\" + 0.050*\"program\" + 0.023*\"\"\" + 0.021*\"-\" + 0.021*\"concept\" + 0.019*\"paper\" + 0.018*\"abstract\" + 0.018*\"formal\" + 0.016*\"notat\"\n",
      "2022-02-15 10:51:08,452 : INFO : topic #64 (0.051): 0.392*\"(\" + 0.356*\")\" + 0.198*\"algorithm\" + 0.014*\"-\" + 0.011*\"plot\" + 0.008*\"g6\" + 0.004*\"fourier\" + 0.003*\"lexicograph\" + 0.003*\"c6\" + 0.002*\"arbitrari\"\n",
      "2022-02-15 10:51:08,454 : INFO : topic diff=0.243180, rho=0.253169\n",
      "2022-02-15 10:51:09,351 : INFO : -6.461 per-word bound, 88.1 perplexity estimate based on a held-out corpus of 1204 documents with 49783 words\n",
      "2022-02-15 10:51:09,352 : INFO : PROGRESS: pass 13, at document #3204/3204\n",
      "2022-02-15 10:51:10,067 : INFO : optimized alpha [0.01171361, 0.0120141925, 0.014498023, 0.010825259, 0.011431532, 0.011934963, 0.013675586, 0.01189139, 0.012241778, 0.01278765, 0.010968877, 0.012987976, 0.011544728, 0.011887563, 0.0115959095, 0.01077041, 0.01201176, 0.012508371, 0.011228534, 0.012359676, 0.012353599, 0.012379847, 0.010726948, 0.01119741, 0.01151526, 0.011881623, 0.014310576, 0.010996972, 0.011695495, 0.013197066, 0.013029718, 0.016605439, 0.012496647, 0.013470813, 0.014070749, 0.011978756, 0.011186757, 0.011016523, 0.015400238, 0.013655563, 0.012454952, 0.015471084, 0.011976655, 0.012912494, 0.012903967, 0.013026849, 0.007384096, 0.012063465, 0.011427735, 0.012712734, 0.014872229, 0.012088817, 0.0104611935, 0.011800661, 0.01223311, 0.012036832, 0.015444088, 0.009834964, 0.011477125, 0.011373563, 0.01258074, 0.012366622, 0.0129945185, 0.014060871, 0.05347431, 0.012309245, 0.012581555, 0.012044672, 0.014563644, 0.016788507, 0.0139953885, 0.011810613, 0.013629857, 0.013772793, 0.011788902, 0.012221674, 0.012122376, 0.010411023, 0.01296818, 0.012834837, 0.011244118, 0.011733879, 0.011173938, 0.011172214, 0.011949216, 0.010982837, 0.011045962, 0.011591232, 0.0105248615, 0.011796827, 0.015080153, 0.012600694, 0.016086271, 0.012964968, 0.011692416, 0.012271109, 0.0142212445, 0.015118251, 0.012087213, 0.012161963]\n",
      "2022-02-15 10:51:10,074 : INFO : merging changes from 1204 documents into a model of 3204 documents\n",
      "2022-02-15 10:51:10,081 : INFO : topic #46 (0.007): 0.001*\"implic\" + 0.001*\"favor\" + 0.001*\"adapt\" + 0.001*\"polygon\" + 0.001*\"stage\" + 0.001*\"situat\" + 0.001*\"respons\" + 0.001*\"industri\" + 0.001*\"regress\" + 0.001*\"drive\"\n",
      "2022-02-15 10:51:10,082 : INFO : topic #57 (0.010): 0.140*\"remov\" + 0.126*\"chain\" + 0.097*\"discret\" + 0.083*\"link\" + 0.080*\"transfer\" + 0.067*\"slow\" + 0.067*\"revers\" + 0.052*\"list\" + 0.046*\"caus\" + 0.036*\"fortran\"\n",
      "2022-02-15 10:51:10,083 : INFO : topic #31 (0.017): 0.195*\"function\" + 0.163*\"set\" + 0.091*\"equat\" + 0.074*\"solut\" + 0.073*\",\" + 0.057*\"valu\" + 0.050*\"find\" + 0.043*\"differenti\" + 0.029*\"end\" + 0.016*\"satisfi\"\n",
      "2022-02-15 10:51:10,085 : INFO : topic #69 (0.017): 0.193*\"languag\" + 0.110*\",\" + 0.051*\"program\" + 0.022*\"concept\" + 0.021*\"\"\" + 0.020*\"paper\" + 0.020*\"abstract\" + 0.020*\"-\" + 0.018*\"formal\" + 0.015*\":\"\n",
      "2022-02-15 10:51:10,087 : INFO : topic #64 (0.053): 0.397*\"(\" + 0.355*\")\" + 0.194*\"algorithm\" + 0.014*\"-\" + 0.014*\"plot\" + 0.007*\"g6\" + 0.004*\"fourier\" + 0.003*\"lexicograph\" + 0.003*\"c6\" + 0.002*\"arbitrari\"\n",
      "2022-02-15 10:51:10,088 : INFO : topic diff=0.249355, rho=0.253169\n",
      "2022-02-15 10:51:10,101 : INFO : PROGRESS: pass 14, at document #2000/3204\n",
      "2022-02-15 10:51:10,902 : INFO : optimized alpha [0.011771017, 0.012109025, 0.0147567615, 0.010841211, 0.011464613, 0.01197655, 0.013728738, 0.011922744, 0.012305194, 0.01282494, 0.011005069, 0.013097695, 0.01161555, 0.011989199, 0.011630867, 0.010798997, 0.012075493, 0.012513113, 0.011231418, 0.012401819, 0.012483419, 0.012388635, 0.010764689, 0.011245893, 0.011531166, 0.011919914, 0.014491912, 0.011025087, 0.011806921, 0.013301228, 0.013094596, 0.016753506, 0.012492704, 0.013605324, 0.014301673, 0.012005163, 0.011211269, 0.010985701, 0.015400665, 0.013734696, 0.012432981, 0.015414619, 0.012103679, 0.012920596, 0.012976906, 0.013025595, 0.0073478715, 0.012184493, 0.0114565035, 0.012816522, 0.015099639, 0.0121756205, 0.010453584, 0.011890706, 0.012309927, 0.012074488, 0.015578824, 0.009841154, 0.011489052, 0.011387799, 0.012690365, 0.012379074, 0.012986091, 0.014230419, 0.05603324, 0.012338636, 0.012640324, 0.012065265, 0.014632345, 0.016993247, 0.014048995, 0.011895782, 0.01377247, 0.013840599, 0.0118937865, 0.012288282, 0.012164129, 0.010413034, 0.013012725, 0.012821124, 0.011286771, 0.011819092, 0.011168459, 0.01123245, 0.011983193, 0.01102166, 0.011054491, 0.011624127, 0.010543625, 0.011844601, 0.01546918, 0.012665146, 0.016185239, 0.013064964, 0.011732776, 0.012341012, 0.014238056, 0.0151536325, 0.012091391, 0.0121922875]\n",
      "2022-02-15 10:51:10,907 : INFO : merging changes from 2000 documents into a model of 3204 documents\n",
      "2022-02-15 10:51:10,914 : INFO : topic #46 (0.007): 0.001*\"implic\" + 0.001*\"favor\" + 0.001*\"adapt\" + 0.001*\"polygon\" + 0.001*\"stage\" + 0.001*\"situat\" + 0.001*\"respons\" + 0.001*\"industri\" + 0.001*\"regress\" + 0.001*\"drive\"\n",
      "2022-02-15 10:51:10,915 : INFO : topic #57 (0.010): 0.132*\"chain\" + 0.125*\"remov\" + 0.090*\"discret\" + 0.082*\"link\" + 0.081*\"transfer\" + 0.080*\"slow\" + 0.061*\"revers\" + 0.055*\"list\" + 0.039*\"caus\" + 0.039*\"fortran\"\n",
      "2022-02-15 10:51:10,916 : INFO : topic #31 (0.017): 0.199*\"function\" + 0.166*\"set\" + 0.091*\"equat\" + 0.075*\",\" + 0.074*\"solut\" + 0.055*\"valu\" + 0.049*\"find\" + 0.044*\"differenti\" + 0.025*\"end\" + 0.016*\"partial\"\n",
      "2022-02-15 10:51:10,917 : INFO : topic #69 (0.017): 0.198*\"languag\" + 0.109*\",\" + 0.050*\"program\" + 0.021*\"concept\" + 0.021*\"-\" + 0.020*\"\"\" + 0.019*\"paper\" + 0.018*\"abstract\" + 0.018*\"formal\" + 0.016*\"notat\"\n",
      "2022-02-15 10:51:10,919 : INFO : topic #64 (0.056): 0.394*\"(\" + 0.355*\")\" + 0.199*\"algorithm\" + 0.014*\"-\" + 0.011*\"plot\" + 0.008*\"g6\" + 0.004*\"fourier\" + 0.003*\"lexicograph\" + 0.003*\"c6\" + 0.002*\"arbitrari\"\n",
      "2022-02-15 10:51:10,921 : INFO : topic diff=0.221473, rho=0.245426\n",
      "2022-02-15 10:51:11,832 : INFO : -6.453 per-word bound, 87.6 perplexity estimate based on a held-out corpus of 1204 documents with 49783 words\n",
      "2022-02-15 10:51:11,833 : INFO : PROGRESS: pass 14, at document #3204/3204\n",
      "2022-02-15 10:51:12,521 : INFO : optimized alpha [0.011848991, 0.012157826, 0.014845567, 0.010941209, 0.01164522, 0.012142539, 0.013881353, 0.012046749, 0.012440461, 0.013031606, 0.011242416, 0.013453017, 0.011708978, 0.012006335, 0.011736462, 0.010906196, 0.012187375, 0.012684431, 0.011337616, 0.012538418, 0.012576399, 0.01252329, 0.010849117, 0.011311161, 0.011631288, 0.012018217, 0.014643053, 0.011100978, 0.011837581, 0.013477976, 0.013328394, 0.01706139, 0.012707324, 0.013772615, 0.014578586, 0.012134427, 0.011316964, 0.011094567, 0.015694888, 0.013972267, 0.012621373, 0.01571905, 0.0122201, 0.013125821, 0.013145338, 0.013229646, 0.007302454, 0.012240922, 0.011536425, 0.012889819, 0.0153834075, 0.012298789, 0.010567365, 0.0120228585, 0.01244937, 0.012220143, 0.015952138, 0.009874666, 0.011615525, 0.011483096, 0.012768475, 0.012545717, 0.01315754, 0.014561993, 0.058192726, 0.012420209, 0.0127670355, 0.01220833, 0.0148983, 0.017288018, 0.014401988, 0.011998558, 0.0140527785, 0.014012711, 0.011963323, 0.012428253, 0.012300339, 0.010513584, 0.013186188, 0.013004461, 0.011393328, 0.011973314, 0.0112841, 0.011304948, 0.012136529, 0.011095377, 0.011110451, 0.0117195435, 0.010657908, 0.011937116, 0.015380425, 0.012785988, 0.016513197, 0.013176959, 0.011872939, 0.012419109, 0.014537353, 0.015481086, 0.01222992, 0.012347468]\n",
      "2022-02-15 10:51:12,527 : INFO : merging changes from 1204 documents into a model of 3204 documents\n",
      "2022-02-15 10:51:12,534 : INFO : topic #46 (0.007): 0.001*\"implic\" + 0.001*\"favor\" + 0.001*\"adapt\" + 0.001*\"polygon\" + 0.001*\"stage\" + 0.001*\"situat\" + 0.001*\"respons\" + 0.001*\"industri\" + 0.001*\"regress\" + 0.001*\"drive\"\n",
      "2022-02-15 10:51:12,535 : INFO : topic #57 (0.010): 0.139*\"remov\" + 0.126*\"chain\" + 0.099*\"discret\" + 0.092*\"link\" + 0.081*\"transfer\" + 0.068*\"slow\" + 0.067*\"revers\" + 0.053*\"list\" + 0.046*\"caus\" + 0.034*\"intend\"\n",
      "2022-02-15 10:51:12,536 : INFO : topic #31 (0.017): 0.196*\"function\" + 0.166*\"set\" + 0.090*\"equat\" + 0.075*\",\" + 0.074*\"solut\" + 0.058*\"valu\" + 0.051*\"find\" + 0.043*\"differenti\" + 0.029*\"end\" + 0.016*\"satisfi\"\n",
      "2022-02-15 10:51:12,538 : INFO : topic #69 (0.017): 0.194*\"languag\" + 0.111*\",\" + 0.051*\"program\" + 0.022*\"concept\" + 0.021*\"paper\" + 0.020*\"abstract\" + 0.020*\"-\" + 0.019*\"\"\" + 0.018*\"formal\" + 0.015*\":\"\n",
      "2022-02-15 10:51:12,540 : INFO : topic #64 (0.058): 0.397*\"(\" + 0.354*\")\" + 0.195*\"algorithm\" + 0.014*\"-\" + 0.014*\"plot\" + 0.007*\"g6\" + 0.004*\"fourier\" + 0.003*\"lexicograph\" + 0.003*\"c6\" + 0.002*\"arbitrari\"\n",
      "2022-02-15 10:51:12,542 : INFO : topic diff=0.226950, rho=0.245426\n",
      "2022-02-15 10:51:12,554 : INFO : PROGRESS: pass 15, at document #2000/3204\n",
      "2022-02-15 10:51:13,314 : INFO : optimized alpha [0.011906664, 0.012249398, 0.015104681, 0.010960709, 0.011685644, 0.012182977, 0.013931506, 0.012077344, 0.01250246, 0.013070649, 0.011285363, 0.013575294, 0.011777013, 0.012103099, 0.011766415, 0.010935419, 0.01224832, 0.012687132, 0.0113418205, 0.012580927, 0.012712854, 0.01253023, 0.010892559, 0.011358683, 0.011646867, 0.012055705, 0.014821848, 0.011123252, 0.0119483555, 0.01358493, 0.01338824, 0.017214298, 0.012702736, 0.013901526, 0.014811173, 0.012160185, 0.011346388, 0.011069984, 0.015691971, 0.014057658, 0.0126008885, 0.015660537, 0.0123613095, 0.01313622, 0.013211826, 0.013226231, 0.0072683855, 0.012368564, 0.011564734, 0.01299312, 0.015613894, 0.012383871, 0.01056494, 0.012125676, 0.012521578, 0.012255345, 0.016093506, 0.009881066, 0.011625685, 0.011499812, 0.012876042, 0.012553045, 0.0131521085, 0.014741973, 0.06080099, 0.012441633, 0.012824513, 0.012223853, 0.014968322, 0.01748512, 0.014462018, 0.0120777385, 0.014199736, 0.014080485, 0.01207487, 0.01249944, 0.012344026, 0.010520608, 0.013227911, 0.012990647, 0.011439112, 0.012065528, 0.011276036, 0.011373493, 0.012169522, 0.011133478, 0.011116451, 0.011758847, 0.010676175, 0.011978212, 0.01576453, 0.012849027, 0.016609164, 0.013274975, 0.011918011, 0.012487619, 0.014552482, 0.015516192, 0.012239794, 0.012378362]\n",
      "2022-02-15 10:51:13,320 : INFO : merging changes from 2000 documents into a model of 3204 documents\n",
      "2022-02-15 10:51:13,327 : INFO : topic #46 (0.007): 0.001*\"implic\" + 0.001*\"favor\" + 0.001*\"adapt\" + 0.001*\"polygon\" + 0.001*\"stage\" + 0.001*\"situat\" + 0.001*\"respons\" + 0.001*\"industri\" + 0.001*\"regress\" + 0.001*\"drive\"\n",
      "2022-02-15 10:51:13,328 : INFO : topic #57 (0.010): 0.132*\"chain\" + 0.125*\"remov\" + 0.093*\"discret\" + 0.090*\"link\" + 0.082*\"transfer\" + 0.081*\"slow\" + 0.061*\"revers\" + 0.055*\"list\" + 0.040*\"caus\" + 0.033*\"intend\"\n",
      "2022-02-15 10:51:13,329 : INFO : topic #31 (0.017): 0.199*\"function\" + 0.168*\"set\" + 0.090*\"equat\" + 0.077*\",\" + 0.073*\"solut\" + 0.056*\"valu\" + 0.050*\"find\" + 0.044*\"differenti\" + 0.025*\"end\" + 0.016*\"partial\"\n",
      "2022-02-15 10:51:13,331 : INFO : topic #69 (0.017): 0.198*\"languag\" + 0.110*\",\" + 0.050*\"program\" + 0.021*\"concept\" + 0.021*\"-\" + 0.020*\"paper\" + 0.019*\"abstract\" + 0.018*\"formal\" + 0.018*\"\"\" + 0.016*\"notat\"\n",
      "2022-02-15 10:51:13,333 : INFO : topic #64 (0.061): 0.394*\"(\" + 0.354*\")\" + 0.200*\"algorithm\" + 0.014*\"-\" + 0.011*\"plot\" + 0.008*\"g6\" + 0.004*\"fourier\" + 0.003*\"lexicograph\" + 0.003*\"c6\" + 0.002*\"arbitrari\"\n",
      "2022-02-15 10:51:13,334 : INFO : topic diff=0.203172, rho=0.238352\n",
      "2022-02-15 10:51:14,193 : INFO : -6.444 per-word bound, 87.1 perplexity estimate based on a held-out corpus of 1204 documents with 49783 words\n",
      "2022-02-15 10:51:14,194 : INFO : PROGRESS: pass 15, at document #3204/3204\n",
      "2022-02-15 10:51:14,860 : INFO : optimized alpha [0.011989963, 0.012296912, 0.015190234, 0.011058643, 0.011872703, 0.0123508405, 0.014086584, 0.012203612, 0.01263502, 0.013286868, 0.011538149, 0.013945421, 0.011868399, 0.012122089, 0.011872156, 0.011038264, 0.01235783, 0.012850006, 0.011452502, 0.012719715, 0.012795974, 0.012659491, 0.010975178, 0.0114224395, 0.011754208, 0.012159042, 0.014966538, 0.011195255, 0.011978073, 0.013753009, 0.013628933, 0.017527651, 0.01291355, 0.0140599925, 0.015097043, 0.01228191, 0.011449869, 0.011178851, 0.015981114, 0.01428596, 0.012788191, 0.015962712, 0.012485399, 0.013337747, 0.013374294, 0.01342908, 0.0072255665, 0.01243072, 0.011649858, 0.013064544, 0.01588171, 0.012509347, 0.010672174, 0.012262561, 0.012655744, 0.01239568, 0.016466394, 0.009912102, 0.011744938, 0.011593069, 0.012952138, 0.012718971, 0.0133095505, 0.015092078, 0.06289382, 0.012521489, 0.012951142, 0.012366558, 0.015224063, 0.01777174, 0.014814874, 0.0121758785, 0.01449398, 0.014246243, 0.012145017, 0.012644114, 0.012472623, 0.010616963, 0.013400804, 0.013173004, 0.011545719, 0.012226638, 0.011387031, 0.011446566, 0.012319961, 0.011214511, 0.011173577, 0.011856998, 0.010790224, 0.01206635, 0.015671292, 0.0129724005, 0.016935335, 0.013384341, 0.012057883, 0.012563874, 0.014861955, 0.015845368, 0.012390192, 0.012525595]\n",
      "2022-02-15 10:51:14,866 : INFO : merging changes from 1204 documents into a model of 3204 documents\n",
      "2022-02-15 10:51:14,872 : INFO : topic #46 (0.007): 0.001*\"implic\" + 0.001*\"favor\" + 0.001*\"adapt\" + 0.001*\"polygon\" + 0.001*\"stage\" + 0.001*\"situat\" + 0.001*\"respons\" + 0.001*\"industri\" + 0.001*\"regress\" + 0.001*\"drive\"\n",
      "2022-02-15 10:51:14,873 : INFO : topic #57 (0.010): 0.139*\"remov\" + 0.127*\"chain\" + 0.098*\"link\" + 0.098*\"discret\" + 0.081*\"transfer\" + 0.069*\"slow\" + 0.067*\"revers\" + 0.055*\"list\" + 0.046*\"caus\" + 0.034*\"intend\"\n",
      "2022-02-15 10:51:14,876 : INFO : topic #31 (0.018): 0.196*\"function\" + 0.168*\"set\" + 0.090*\"equat\" + 0.077*\",\" + 0.073*\"solut\" + 0.058*\"valu\" + 0.052*\"find\" + 0.042*\"differenti\" + 0.028*\"end\" + 0.017*\"satisfi\"\n",
      "2022-02-15 10:51:14,878 : INFO : topic #69 (0.018): 0.194*\"languag\" + 0.112*\",\" + 0.051*\"program\" + 0.022*\"concept\" + 0.021*\"paper\" + 0.020*\"abstract\" + 0.019*\"-\" + 0.019*\"formal\" + 0.016*\"\"\" + 0.015*\"defin\"\n",
      "2022-02-15 10:51:14,879 : INFO : topic #64 (0.063): 0.398*\"(\" + 0.354*\")\" + 0.196*\"algorithm\" + 0.015*\"-\" + 0.014*\"plot\" + 0.007*\"g6\" + 0.004*\"fourier\" + 0.003*\"lexicograph\" + 0.003*\"c6\" + 0.002*\"arbitrari\"\n",
      "2022-02-15 10:51:14,880 : INFO : topic diff=0.207591, rho=0.238352\n",
      "2022-02-15 10:51:14,892 : INFO : PROGRESS: pass 16, at document #2000/3204\n",
      "2022-02-15 10:51:15,637 : INFO : optimized alpha [0.012046555, 0.0123853935, 0.01544822, 0.01107902, 0.011913458, 0.012394431, 0.014135558, 0.012233466, 0.012692747, 0.013323087, 0.011590523, 0.014069175, 0.011940662, 0.012214283, 0.011901469, 0.011069421, 0.012416118, 0.0128537975, 0.011457956, 0.012761128, 0.012930348, 0.01266619, 0.011020342, 0.011466421, 0.011769498, 0.012197169, 0.015144589, 0.011215853, 0.01208692, 0.013854885, 0.013688611, 0.017677052, 0.012908379, 0.014188385, 0.015347463, 0.012311348, 0.011478659, 0.011158862, 0.01597874, 0.014369334, 0.012770608, 0.015904037, 0.012635, 0.013344216, 0.013446961, 0.0134251, 0.0071934224, 0.012564945, 0.01168306, 0.013169041, 0.01610802, 0.012591388, 0.0106723225, 0.012360805, 0.01272791, 0.012434268, 0.016608763, 0.009921005, 0.011758956, 0.01160812, 0.01306078, 0.012725797, 0.013304037, 0.01527542, 0.065466024, 0.012542643, 0.013005892, 0.012381588, 0.015293745, 0.017969968, 0.014874354, 0.0122521985, 0.014638937, 0.014310768, 0.012253341, 0.012718358, 0.012513841, 0.010623879, 0.013446067, 0.013162085, 0.011591885, 0.012324344, 0.011377809, 0.011519224, 0.012352029, 0.011251889, 0.011181054, 0.011894108, 0.010807994, 0.012110855, 0.016047204, 0.013035609, 0.017032282, 0.01348204, 0.012103293, 0.012633998, 0.014875361, 0.01588202, 0.012396685, 0.012555648]\n",
      "2022-02-15 10:51:15,643 : INFO : merging changes from 2000 documents into a model of 3204 documents\n",
      "2022-02-15 10:51:15,650 : INFO : topic #46 (0.007): 0.001*\"implic\" + 0.001*\"favor\" + 0.001*\"adapt\" + 0.001*\"polygon\" + 0.001*\"stage\" + 0.001*\"situat\" + 0.001*\"respons\" + 0.001*\"industri\" + 0.001*\"regress\" + 0.001*\"drive\"\n",
      "2022-02-15 10:51:15,651 : INFO : topic #57 (0.010): 0.132*\"chain\" + 0.125*\"remov\" + 0.098*\"link\" + 0.092*\"discret\" + 0.082*\"transfer\" + 0.081*\"slow\" + 0.061*\"revers\" + 0.057*\"list\" + 0.041*\"caus\" + 0.033*\"intend\"\n",
      "2022-02-15 10:51:15,651 : INFO : topic #31 (0.018): 0.199*\"function\" + 0.171*\"set\" + 0.089*\"equat\" + 0.078*\",\" + 0.073*\"solut\" + 0.057*\"valu\" + 0.051*\"find\" + 0.043*\"differenti\" + 0.025*\"end\" + 0.016*\"partial\"\n",
      "2022-02-15 10:51:15,653 : INFO : topic #69 (0.018): 0.198*\"languag\" + 0.112*\",\" + 0.050*\"program\" + 0.022*\"concept\" + 0.020*\"-\" + 0.020*\"paper\" + 0.019*\"abstract\" + 0.019*\"formal\" + 0.016*\"notat\" + 0.016*\"\"\"\n",
      "2022-02-15 10:51:15,654 : INFO : topic #64 (0.065): 0.394*\"(\" + 0.354*\")\" + 0.201*\"algorithm\" + 0.014*\"-\" + 0.011*\"plot\" + 0.008*\"g6\" + 0.004*\"fourier\" + 0.003*\"lexicograph\" + 0.003*\"c6\" + 0.002*\"arbitrari\"\n",
      "2022-02-15 10:51:15,656 : INFO : topic diff=0.187046, rho=0.231857\n",
      "2022-02-15 10:51:16,507 : INFO : -6.437 per-word bound, 86.6 perplexity estimate based on a held-out corpus of 1204 documents with 49783 words\n",
      "2022-02-15 10:51:16,508 : INFO : PROGRESS: pass 16, at document #3204/3204\n",
      "2022-02-15 10:51:17,191 : INFO : optimized alpha [0.01212811, 0.012431729, 0.015521576, 0.011179288, 0.012104853, 0.012557038, 0.014293242, 0.0123573, 0.012827679, 0.013546392, 0.01184798, 0.014449449, 0.012034812, 0.012235066, 0.012002865, 0.011178783, 0.012523449, 0.013018635, 0.011559817, 0.012897224, 0.013016362, 0.012790421, 0.0111055765, 0.01152651, 0.011872438, 0.012300782, 0.015294919, 0.011290753, 0.012111059, 0.014025365, 0.013920651, 0.017978981, 0.013123304, 0.014341014, 0.015651658, 0.012433, 0.011584607, 0.011263457, 0.016260032, 0.014596926, 0.012961973, 0.016207376, 0.012759268, 0.013544921, 0.013611532, 0.013624346, 0.007152936, 0.012635131, 0.011773303, 0.013238706, 0.016365893, 0.012714443, 0.010785834, 0.01249766, 0.012861959, 0.012574335, 0.016994521, 0.009953493, 0.0118759805, 0.011695016, 0.013135003, 0.012891145, 0.013460981, 0.015618032, 0.06745799, 0.012618489, 0.013127583, 0.012521683, 0.015554305, 0.018273197, 0.015227136, 0.012348316, 0.014935954, 0.014484384, 0.012328895, 0.012857974, 0.012649783, 0.010724568, 0.013621218, 0.013353758, 0.0116941845, 0.012495029, 0.011480004, 0.011588397, 0.012499753, 0.011324689, 0.011237125, 0.011990343, 0.0109199025, 0.012192428, 0.015946604, 0.013159083, 0.01735392, 0.013588934, 0.01224767, 0.012706141, 0.015175063, 0.016213309, 0.012541937, 0.012700149]\n",
      "2022-02-15 10:51:17,198 : INFO : merging changes from 1204 documents into a model of 3204 documents\n",
      "2022-02-15 10:51:17,204 : INFO : topic #46 (0.007): 0.001*\"implic\" + 0.001*\"favor\" + 0.001*\"adapt\" + 0.001*\"polygon\" + 0.001*\"stage\" + 0.001*\"situat\" + 0.001*\"respons\" + 0.001*\"industri\" + 0.001*\"regress\" + 0.001*\"drive\"\n",
      "2022-02-15 10:51:17,205 : INFO : topic #57 (0.010): 0.139*\"remov\" + 0.127*\"chain\" + 0.103*\"link\" + 0.097*\"discret\" + 0.083*\"transfer\" + 0.070*\"slow\" + 0.066*\"revers\" + 0.056*\"list\" + 0.047*\"caus\" + 0.034*\"intend\"\n",
      "2022-02-15 10:51:17,206 : INFO : topic #31 (0.018): 0.197*\"function\" + 0.170*\"set\" + 0.089*\"equat\" + 0.078*\",\" + 0.073*\"solut\" + 0.059*\"valu\" + 0.052*\"find\" + 0.042*\"differenti\" + 0.028*\"end\" + 0.016*\"satisfi\"\n",
      "2022-02-15 10:51:17,208 : INFO : topic #69 (0.018): 0.195*\"languag\" + 0.113*\",\" + 0.051*\"program\" + 0.022*\"concept\" + 0.022*\"paper\" + 0.020*\"abstract\" + 0.019*\"-\" + 0.019*\"formal\" + 0.016*\"defin\" + 0.015*\":\"\n",
      "2022-02-15 10:51:17,209 : INFO : topic #64 (0.067): 0.398*\"(\" + 0.353*\")\" + 0.198*\"algorithm\" + 0.015*\"-\" + 0.014*\"plot\" + 0.007*\"g6\" + 0.004*\"fourier\" + 0.003*\"lexicograph\" + 0.003*\"c6\" + 0.002*\"arbitrari\"\n",
      "2022-02-15 10:51:17,210 : INFO : topic diff=0.191242, rho=0.231857\n",
      "2022-02-15 10:51:17,224 : INFO : PROGRESS: pass 17, at document #2000/3204\n",
      "2022-02-15 10:51:17,970 : INFO : optimized alpha [0.012183736, 0.012518739, 0.015776748, 0.011199261, 0.0121431295, 0.012600976, 0.014344363, 0.012385076, 0.012890018, 0.013582815, 0.011908451, 0.014581254, 0.012107185, 0.012328508, 0.012033006, 0.011213101, 0.0125792185, 0.013020499, 0.011565175, 0.01293473, 0.013148788, 0.012798391, 0.011149933, 0.011569723, 0.011890137, 0.012336761, 0.015474159, 0.011316215, 0.012216761, 0.014125505, 0.013980284, 0.01812342, 0.013117488, 0.014465744, 0.015913248, 0.012464577, 0.011614141, 0.011242694, 0.01625271, 0.014683355, 0.012944189, 0.01615212, 0.012930422, 0.013552216, 0.013687369, 0.013619894, 0.007122532, 0.012767438, 0.011807252, 0.01333699, 0.016593553, 0.012796464, 0.010789547, 0.012601491, 0.012932732, 0.012613429, 0.017134162, 0.009964775, 0.011892406, 0.011709803, 0.013241879, 0.0129004195, 0.013456891, 0.015795944, 0.070027545, 0.012636488, 0.013181297, 0.012541945, 0.015621979, 0.018470706, 0.015287772, 0.012427448, 0.015085615, 0.014550681, 0.012441135, 0.01292645, 0.012694452, 0.010734992, 0.013671569, 0.013345508, 0.011738147, 0.012596964, 0.011473627, 0.011657205, 0.012531012, 0.011361435, 0.011244745, 0.012030865, 0.010939659, 0.012236144, 0.016320037, 0.013219548, 0.017448112, 0.013684921, 0.012293499, 0.012775063, 0.015185081, 0.016253348, 0.012546642, 0.012730854]\n",
      "2022-02-15 10:51:17,976 : INFO : merging changes from 2000 documents into a model of 3204 documents\n",
      "2022-02-15 10:51:17,983 : INFO : topic #46 (0.007): 0.001*\"implic\" + 0.001*\"favor\" + 0.001*\"adapt\" + 0.001*\"polygon\" + 0.001*\"stage\" + 0.001*\"situat\" + 0.001*\"respons\" + 0.001*\"industri\" + 0.001*\"regress\" + 0.001*\"drive\"\n",
      "2022-02-15 10:51:17,984 : INFO : topic #57 (0.010): 0.131*\"chain\" + 0.125*\"remov\" + 0.106*\"link\" + 0.091*\"discret\" + 0.083*\"transfer\" + 0.081*\"slow\" + 0.061*\"revers\" + 0.058*\"list\" + 0.042*\"caus\" + 0.033*\"intend\"\n",
      "2022-02-15 10:51:17,984 : INFO : topic #31 (0.018): 0.200*\"function\" + 0.173*\"set\" + 0.089*\"equat\" + 0.079*\",\" + 0.073*\"solut\" + 0.058*\"valu\" + 0.051*\"find\" + 0.043*\"differenti\" + 0.025*\"end\" + 0.016*\"partial\"\n",
      "2022-02-15 10:51:17,986 : INFO : topic #69 (0.018): 0.198*\"languag\" + 0.113*\",\" + 0.050*\"program\" + 0.022*\"concept\" + 0.021*\"paper\" + 0.020*\"-\" + 0.019*\"abstract\" + 0.019*\"formal\" + 0.016*\"notat\" + 0.015*\"defin\"\n",
      "2022-02-15 10:51:17,987 : INFO : topic #64 (0.070): 0.395*\"(\" + 0.353*\")\" + 0.202*\"algorithm\" + 0.014*\"-\" + 0.011*\"plot\" + 0.008*\"g6\" + 0.004*\"fourier\" + 0.003*\"lexicograph\" + 0.003*\"c6\" + 0.002*\"arbitrari\"\n",
      "2022-02-15 10:51:17,989 : INFO : topic diff=0.173225, rho=0.225865\n",
      "2022-02-15 10:51:18,826 : INFO : -6.431 per-word bound, 86.3 perplexity estimate based on a held-out corpus of 1204 documents with 49783 words\n",
      "2022-02-15 10:51:18,827 : INFO : PROGRESS: pass 17, at document #3204/3204\n",
      "2022-02-15 10:51:19,470 : INFO : optimized alpha [0.012263641, 0.012563982, 0.015847288, 0.011304006, 0.012334381, 0.012761029, 0.014502043, 0.012504298, 0.013022622, 0.01382117, 0.012164141, 0.0149751, 0.012199542, 0.012348735, 0.012137025, 0.011324766, 0.012682101, 0.013180059, 0.011673869, 0.013070692, 0.01323527, 0.012920309, 0.011231445, 0.011626514, 0.01199115, 0.012440757, 0.015615543, 0.011387591, 0.012244744, 0.014293268, 0.014211861, 0.01842441, 0.013326717, 0.014615679, 0.016218608, 0.012588698, 0.011720411, 0.011347495, 0.01652345, 0.014904992, 0.013134845, 0.016447773, 0.013069713, 0.013757386, 0.01384658, 0.013820976, 0.007084153, 0.01284315, 0.011900259, 0.013405045, 0.016847732, 0.012917247, 0.010905151, 0.01273607, 0.013066805, 0.012753373, 0.017520435, 0.009998665, 0.012007292, 0.011795062, 0.013314367, 0.013063031, 0.013616143, 0.016151983, 0.071916685, 0.0127085475, 0.013298155, 0.012681972, 0.015870135, 0.018766284, 0.015655216, 0.012526359, 0.015391484, 0.014718496, 0.012517314, 0.013073509, 0.01282807, 0.010835872, 0.0138387205, 0.013539028, 0.011840781, 0.012770158, 0.0115825385, 0.01172493, 0.012678571, 0.011441437, 0.011299845, 0.01213452, 0.011053644, 0.012313762, 0.01621852, 0.01334321, 0.017762229, 0.013787006, 0.012433261, 0.012845685, 0.015483982, 0.016587157, 0.012686994, 0.012870459]\n",
      "2022-02-15 10:51:19,476 : INFO : merging changes from 1204 documents into a model of 3204 documents\n",
      "2022-02-15 10:51:19,483 : INFO : topic #46 (0.007): 0.001*\"implic\" + 0.001*\"favor\" + 0.001*\"adapt\" + 0.001*\"polygon\" + 0.001*\"stage\" + 0.001*\"situat\" + 0.001*\"respons\" + 0.001*\"industri\" + 0.001*\"regress\" + 0.001*\"drive\"\n",
      "2022-02-15 10:51:19,484 : INFO : topic #57 (0.010): 0.138*\"remov\" + 0.126*\"chain\" + 0.111*\"link\" + 0.096*\"discret\" + 0.084*\"transfer\" + 0.070*\"slow\" + 0.066*\"revers\" + 0.057*\"list\" + 0.047*\"caus\" + 0.034*\"intend\"\n",
      "2022-02-15 10:51:19,485 : INFO : topic #31 (0.018): 0.198*\"function\" + 0.172*\"set\" + 0.089*\"equat\" + 0.079*\",\" + 0.073*\"solut\" + 0.059*\"valu\" + 0.053*\"find\" + 0.042*\"differenti\" + 0.028*\"end\" + 0.017*\"satisfi\"\n",
      "2022-02-15 10:51:19,486 : INFO : topic #69 (0.019): 0.195*\"languag\" + 0.114*\",\" + 0.051*\"program\" + 0.022*\"concept\" + 0.022*\"paper\" + 0.021*\"abstract\" + 0.019*\"-\" + 0.019*\"formal\" + 0.016*\"defin\" + 0.015*\":\"\n",
      "2022-02-15 10:51:19,487 : INFO : topic #64 (0.072): 0.398*\"(\" + 0.352*\")\" + 0.199*\"algorithm\" + 0.015*\"-\" + 0.014*\"plot\" + 0.007*\"g6\" + 0.004*\"fourier\" + 0.003*\"lexicograph\" + 0.003*\"c6\" + 0.002*\"arbitrari\"\n",
      "2022-02-15 10:51:19,489 : INFO : topic diff=0.176958, rho=0.225865\n",
      "2022-02-15 10:51:19,503 : INFO : PROGRESS: pass 18, at document #2000/3204\n",
      "2022-02-15 10:51:20,227 : INFO : optimized alpha [0.0123183485, 0.012649636, 0.016101625, 0.011322336, 0.012374361, 0.012799748, 0.014550438, 0.012534189, 0.013079499, 0.01386548, 0.012230063, 0.015115292, 0.012272091, 0.012440693, 0.012169291, 0.011357125, 0.012742456, 0.013183028, 0.011680401, 0.013108781, 0.013367338, 0.012928073, 0.011275048, 0.011670339, 0.012007229, 0.012480163, 0.015794335, 0.011415191, 0.012351496, 0.014391793, 0.0142699275, 0.01857408, 0.013320345, 0.014738485, 0.016486453, 0.012618223, 0.011750688, 0.011328453, 0.016515145, 0.014991218, 0.013118338, 0.016392164, 0.013249673, 0.013768525, 0.013917867, 0.013819084, 0.007055331, 0.012975095, 0.011940177, 0.013501786, 0.017075025, 0.013000727, 0.010908702, 0.01284269, 0.013137761, 0.012791589, 0.017661069, 0.010008851, 0.01202596, 0.011809649, 0.013419598, 0.01307184, 0.013613362, 0.01634266, 0.074469715, 0.0127250515, 0.013346382, 0.012700294, 0.015934262, 0.01896305, 0.015715394, 0.012607016, 0.015542661, 0.0147881145, 0.0126307085, 0.013143651, 0.01287184, 0.010844843, 0.013888002, 0.013530397, 0.011883916, 0.012866364, 0.011571171, 0.011797846, 0.01270764, 0.0114775915, 0.011308851, 0.012175652, 0.01107413, 0.012356759, 0.016586117, 0.013404052, 0.017855741, 0.0138829425, 0.012480916, 0.012913518, 0.015494203, 0.016623199, 0.012691431, 0.012899017]\n",
      "2022-02-15 10:51:20,234 : INFO : merging changes from 2000 documents into a model of 3204 documents\n",
      "2022-02-15 10:51:20,240 : INFO : topic #46 (0.007): 0.001*\"implic\" + 0.001*\"favor\" + 0.001*\"adapt\" + 0.001*\"polygon\" + 0.001*\"stage\" + 0.001*\"situat\" + 0.001*\"respons\" + 0.001*\"industri\" + 0.001*\"regress\" + 0.001*\"drive\"\n",
      "2022-02-15 10:51:20,241 : INFO : topic #57 (0.010): 0.131*\"chain\" + 0.125*\"remov\" + 0.114*\"link\" + 0.090*\"discret\" + 0.084*\"transfer\" + 0.081*\"slow\" + 0.061*\"revers\" + 0.058*\"list\" + 0.043*\"caus\" + 0.031*\"intend\"\n",
      "2022-02-15 10:51:20,242 : INFO : topic #31 (0.019): 0.201*\"function\" + 0.174*\"set\" + 0.090*\"equat\" + 0.080*\",\" + 0.073*\"solut\" + 0.058*\"valu\" + 0.052*\"find\" + 0.043*\"differenti\" + 0.024*\"end\" + 0.016*\"partial\"\n",
      "2022-02-15 10:51:20,243 : INFO : topic #69 (0.019): 0.199*\"languag\" + 0.114*\",\" + 0.050*\"program\" + 0.022*\"concept\" + 0.021*\"paper\" + 0.020*\"-\" + 0.019*\"abstract\" + 0.019*\"formal\" + 0.016*\"notat\" + 0.016*\"defin\"\n",
      "2022-02-15 10:51:20,245 : INFO : topic #64 (0.074): 0.395*\"(\" + 0.351*\")\" + 0.203*\"algorithm\" + 0.015*\"-\" + 0.011*\"plot\" + 0.008*\"g6\" + 0.004*\"fourier\" + 0.003*\"lexicograph\" + 0.003*\"c6\" + 0.002*\"arbitrari\"\n",
      "2022-02-15 10:51:20,247 : INFO : topic diff=0.161257, rho=0.220316\n",
      "2022-02-15 10:51:21,061 : INFO : -6.426 per-word bound, 86.0 perplexity estimate based on a held-out corpus of 1204 documents with 49783 words\n",
      "2022-02-15 10:51:21,062 : INFO : PROGRESS: pass 18, at document #3204/3204\n",
      "2022-02-15 10:51:21,681 : INFO : optimized alpha [0.012399054, 0.012693878, 0.016172487, 0.0114294905, 0.01257013, 0.012964462, 0.014694567, 0.01265366, 0.013212264, 0.014111382, 0.012495412, 0.015517753, 0.0123695815, 0.012460424, 0.012275988, 0.011471113, 0.012853026, 0.013342457, 0.011785083, 0.013242515, 0.013459311, 0.01304544, 0.011355103, 0.011726088, 0.012106545, 0.0125822965, 0.015941612, 0.01149159, 0.012383243, 0.01455971, 0.014498647, 0.018881127, 0.013524194, 0.014891233, 0.01679605, 0.012737875, 0.01185511, 0.011433565, 0.01677879, 0.015223637, 0.013308486, 0.01668046, 0.0133992145, 0.013973324, 0.014074564, 0.014017175, 0.0070188614, 0.013051524, 0.012035943, 0.013568355, 0.017338373, 0.013119374, 0.011024435, 0.01297744, 0.013271997, 0.012929257, 0.018047975, 0.010042274, 0.012138845, 0.011893426, 0.013490465, 0.013234325, 0.013769992, 0.016700475, 0.076215155, 0.012795889, 0.013461178, 0.012840487, 0.016181916, 0.019250922, 0.016086416, 0.012704128, 0.01585211, 0.014953118, 0.012705303, 0.013285925, 0.013003287, 0.01094201, 0.014049933, 0.013723473, 0.011991277, 0.013051604, 0.011678195, 0.011868569, 0.012848206, 0.011554073, 0.011358901, 0.012279733, 0.011190269, 0.012435197, 0.016483711, 0.013528042, 0.018165823, 0.01398291, 0.0126185035, 0.012982723, 0.015798217, 0.016953563, 0.012834126, 0.013033864]\n",
      "2022-02-15 10:51:21,687 : INFO : merging changes from 1204 documents into a model of 3204 documents\n",
      "2022-02-15 10:51:21,694 : INFO : topic #46 (0.007): 0.001*\"implic\" + 0.001*\"favor\" + 0.001*\"adapt\" + 0.001*\"polygon\" + 0.001*\"stage\" + 0.001*\"situat\" + 0.001*\"respons\" + 0.001*\"industri\" + 0.001*\"regress\" + 0.001*\"drive\"\n",
      "2022-02-15 10:51:21,695 : INFO : topic #57 (0.010): 0.138*\"remov\" + 0.126*\"chain\" + 0.117*\"link\" + 0.095*\"discret\" + 0.085*\"transfer\" + 0.070*\"slow\" + 0.065*\"revers\" + 0.057*\"list\" + 0.048*\"caus\" + 0.033*\"intend\"\n",
      "2022-02-15 10:51:21,697 : INFO : topic #31 (0.019): 0.198*\"function\" + 0.173*\"set\" + 0.089*\"equat\" + 0.080*\",\" + 0.073*\"solut\" + 0.060*\"valu\" + 0.053*\"find\" + 0.042*\"differenti\" + 0.027*\"end\" + 0.017*\"satisfi\"\n",
      "2022-02-15 10:51:21,698 : INFO : topic #69 (0.019): 0.196*\"languag\" + 0.115*\",\" + 0.051*\"program\" + 0.022*\"concept\" + 0.022*\"paper\" + 0.021*\"abstract\" + 0.019*\"formal\" + 0.019*\"-\" + 0.016*\"defin\" + 0.015*\":\"\n",
      "2022-02-15 10:51:21,700 : INFO : topic #64 (0.076): 0.398*\"(\" + 0.351*\")\" + 0.200*\"algorithm\" + 0.015*\"-\" + 0.014*\"plot\" + 0.007*\"g6\" + 0.004*\"fourier\" + 0.003*\"lexicograph\" + 0.003*\"c6\" + 0.002*\"arbitrari\"\n",
      "2022-02-15 10:51:21,701 : INFO : topic diff=0.164692, rho=0.220316\n",
      "2022-02-15 10:51:21,712 : INFO : PROGRESS: pass 19, at document #2000/3204\n",
      "2022-02-15 10:51:22,436 : INFO : optimized alpha [0.012454253, 0.012778267, 0.016422696, 0.0114511475, 0.01261316, 0.0130036045, 0.014748524, 0.012688405, 0.013269548, 0.014157438, 0.012560106, 0.015671501, 0.012441035, 0.012553734, 0.012306334, 0.01150407, 0.012912364, 0.013342176, 0.011792763, 0.013278273, 0.013592581, 0.013051596, 0.01140045, 0.0117680235, 0.012122361, 0.012622374, 0.016120028, 0.011520009, 0.012485829, 0.014659868, 0.014553686, 0.01902605, 0.013518765, 0.01501712, 0.017073967, 0.012769525, 0.011886137, 0.011417452, 0.01677129, 0.015309751, 0.013291743, 0.016624639, 0.013585318, 0.01398054, 0.014149084, 0.014014722, 0.006991474, 0.013184682, 0.012075212, 0.0136636915, 0.017565489, 0.013201596, 0.011032598, 0.013084132, 0.013341656, 0.01296524, 0.018189918, 0.010052511, 0.012162469, 0.011910416, 0.013594164, 0.013242645, 0.01376702, 0.016893182, 0.07874027, 0.01281091, 0.013508571, 0.012859676, 0.016244268, 0.019436516, 0.01614424, 0.012782198, 0.016008258, 0.01502148, 0.012824013, 0.013353401, 0.0130462, 0.010953187, 0.014105785, 0.013718826, 0.012034957, 0.013152178, 0.011670802, 0.011939089, 0.0128765525, 0.011589647, 0.0113704335, 0.01232415, 0.011211492, 0.0124788685, 0.016842395, 0.013589236, 0.018254902, 0.014077329, 0.012663837, 0.013050915, 0.015808614, 0.016993107, 0.012839712, 0.013067389]\n",
      "2022-02-15 10:51:22,443 : INFO : merging changes from 2000 documents into a model of 3204 documents\n",
      "2022-02-15 10:51:22,451 : INFO : topic #46 (0.007): 0.001*\"implic\" + 0.001*\"favor\" + 0.001*\"adapt\" + 0.001*\"polygon\" + 0.001*\"stage\" + 0.001*\"situat\" + 0.001*\"respons\" + 0.001*\"industri\" + 0.001*\"regress\" + 0.001*\"drive\"\n",
      "2022-02-15 10:51:22,452 : INFO : topic #57 (0.010): 0.131*\"chain\" + 0.125*\"remov\" + 0.120*\"link\" + 0.090*\"discret\" + 0.085*\"transfer\" + 0.082*\"slow\" + 0.061*\"revers\" + 0.057*\"list\" + 0.043*\"caus\" + 0.031*\"intend\"\n",
      "2022-02-15 10:51:22,454 : INFO : topic #31 (0.019): 0.200*\"function\" + 0.176*\"set\" + 0.090*\"equat\" + 0.081*\",\" + 0.073*\"solut\" + 0.059*\"valu\" + 0.052*\"find\" + 0.043*\"differenti\" + 0.023*\"end\" + 0.016*\"partial\"\n",
      "2022-02-15 10:51:22,456 : INFO : topic #69 (0.019): 0.200*\"languag\" + 0.115*\",\" + 0.049*\"program\" + 0.022*\"concept\" + 0.021*\"paper\" + 0.020*\"-\" + 0.019*\"abstract\" + 0.019*\"formal\" + 0.016*\"notat\" + 0.016*\"defin\"\n",
      "2022-02-15 10:51:22,459 : INFO : topic #64 (0.079): 0.395*\"(\" + 0.351*\")\" + 0.204*\"algorithm\" + 0.015*\"-\" + 0.012*\"plot\" + 0.008*\"g6\" + 0.004*\"fourier\" + 0.003*\"lexicograph\" + 0.003*\"c6\" + 0.002*\"arbitrari\"\n",
      "2022-02-15 10:51:22,461 : INFO : topic diff=0.150570, rho=0.215156\n",
      "2022-02-15 10:51:23,282 : INFO : -6.420 per-word bound, 85.6 perplexity estimate based on a held-out corpus of 1204 documents with 49783 words\n",
      "2022-02-15 10:51:23,283 : INFO : PROGRESS: pass 19, at document #3204/3204\n",
      "2022-02-15 10:51:23,891 : INFO : optimized alpha [0.012533548, 0.012821556, 0.01649082, 0.011554582, 0.012813686, 0.013165965, 0.014898504, 0.012799157, 0.013402598, 0.014408571, 0.01282425, 0.016094247, 0.0125368545, 0.012575202, 0.012420061, 0.011616331, 0.013018765, 0.013496788, 0.011904153, 0.013407458, 0.013689905, 0.01316467, 0.01147912, 0.011822789, 0.012224429, 0.012727322, 0.016258752, 0.011597198, 0.012514538, 0.014836027, 0.014782338, 0.019329045, 0.013724808, 0.015164689, 0.01737564, 0.012884967, 0.011993168, 0.011525044, 0.01703419, 0.015542, 0.013479205, 0.016908953, 0.013740288, 0.014180023, 0.014303353, 0.014207494, 0.0069567477, 0.013261845, 0.012178058, 0.013728872, 0.017819172, 0.013322939, 0.011146533, 0.013223936, 0.013480966, 0.013100746, 0.018574346, 0.010085496, 0.012278003, 0.0119906645, 0.013663509, 0.013405142, 0.013921168, 0.017261915, 0.08035069, 0.012880604, 0.013626412, 0.012999927, 0.016477091, 0.019724194, 0.01651323, 0.012879899, 0.016324362, 0.015186492, 0.012897077, 0.013498345, 0.013175618, 0.011042861, 0.014273006, 0.013916481, 0.012140614, 0.013349656, 0.011778162, 0.012006389, 0.013017275, 0.011669, 0.011419759, 0.012435397, 0.0113258725, 0.012555882, 0.016739178, 0.013708737, 0.01855786, 0.0141727915, 0.012806232, 0.013114162, 0.016106604, 0.017326348, 0.01298487, 0.013200038]\n",
      "2022-02-15 10:51:23,898 : INFO : merging changes from 1204 documents into a model of 3204 documents\n",
      "2022-02-15 10:51:23,905 : INFO : topic #46 (0.007): 0.001*\"implic\" + 0.001*\"favor\" + 0.001*\"adapt\" + 0.001*\"polygon\" + 0.001*\"stage\" + 0.001*\"situat\" + 0.001*\"respons\" + 0.001*\"industri\" + 0.001*\"regress\" + 0.001*\"drive\"\n",
      "2022-02-15 10:51:23,905 : INFO : topic #57 (0.010): 0.137*\"remov\" + 0.126*\"chain\" + 0.121*\"link\" + 0.094*\"discret\" + 0.086*\"transfer\" + 0.070*\"slow\" + 0.065*\"revers\" + 0.056*\"list\" + 0.048*\"caus\" + 0.032*\"intend\"\n",
      "2022-02-15 10:51:23,906 : INFO : topic #31 (0.019): 0.198*\"function\" + 0.175*\"set\" + 0.089*\"equat\" + 0.080*\",\" + 0.073*\"solut\" + 0.060*\"valu\" + 0.054*\"find\" + 0.042*\"differenti\" + 0.026*\"end\" + 0.017*\"assum\"\n",
      "2022-02-15 10:51:23,908 : INFO : topic #69 (0.020): 0.197*\"languag\" + 0.117*\",\" + 0.050*\"program\" + 0.023*\"paper\" + 0.022*\"concept\" + 0.021*\"abstract\" + 0.019*\"formal\" + 0.019*\"-\" + 0.016*\"defin\" + 0.015*\"discuss\"\n",
      "2022-02-15 10:51:23,910 : INFO : topic #64 (0.080): 0.397*\"(\" + 0.350*\")\" + 0.201*\"algorithm\" + 0.016*\"-\" + 0.014*\"plot\" + 0.007*\"g6\" + 0.004*\"fourier\" + 0.003*\"lexicograph\" + 0.003*\"c6\" + 0.002*\"arbitrari\"\n",
      "2022-02-15 10:51:23,911 : INFO : topic diff=0.153753, rho=0.215156\n"
     ]
    },
    {
     "data": {
      "text/plain": [
       "[(0, 0.0051433514),\n",
       " (1, 0.0052615404),\n",
       " (2, 0.0067672846),\n",
       " (3, 0.004741616),\n",
       " (4, 0.005258311),\n",
       " (5, 0.005402874),\n",
       " (6, 0.006113851),\n",
       " (7, 0.0052523483),\n",
       " (8, 0.0054999804),\n",
       " (9, 0.0059127985),\n",
       " (10, 0.005262646),\n",
       " (11, 0.006604544),\n",
       " (12, 0.0051447083),\n",
       " (13, 0.005160445),\n",
       " (14, 0.00509678),\n",
       " (15, 0.004766956),\n",
       " (16, 0.005342468),\n",
       " (17, 0.005538633),\n",
       " (18, 0.0048850686),\n",
       " (19, 0.005501975),\n",
       " (20, 0.005617882),\n",
       " (21, 0.005402343),\n",
       " (22, 0.004710649),\n",
       " (23, 0.0048516793),\n",
       " (24, 0.005016499),\n",
       " (25, 0.00522287),\n",
       " (26, 0.0066720513),\n",
       " (27, 0.0047591045),\n",
       " (28, 0.00513555),\n",
       " (29, 0.006088212),\n",
       " (30, 0.0060661803),\n",
       " (31, 0.007931997),\n",
       " (32, 0.005632205),\n",
       " (33, 0.0062230844),\n",
       " (34, 0.0071303854),\n",
       " (35, 0.005287562),\n",
       " (36, 0.0049215974),\n",
       " (37, 0.004729495),\n",
       " (38, 0.006990265),\n",
       " (39, 0.00637792),\n",
       " (40, 0.0055314177),\n",
       " (41, 0.006938872),\n",
       " (42, 0.0056385575),\n",
       " (43, 0.00581901),\n",
       " (44, 0.0058696205),\n",
       " (45, 0.0058302833),\n",
       " (46, 0.002854818),\n",
       " (47, 0.0054422203),\n",
       " (48, 0.00499747),\n",
       " (49, 0.0056338725),\n",
       " (50, 0.0073123956),\n",
       " (51, 0.0054672915),\n",
       " (52, 0.0045741666),\n",
       " (53, 0.0054266634),\n",
       " (54, 0.0055321404),\n",
       " (55, 0.005376111),\n",
       " (56, 0.007622294),\n",
       " (57, 0.0041387524),\n",
       " (58, 0.005038484),\n",
       " (59, 0.00492057),\n",
       " (60, 0.00560705),\n",
       " (61, 0.005501025),\n",
       " (62, 0.0057127844),\n",
       " (63, 0.007083716),\n",
       " (64, 0.032973252),\n",
       " (65, 0.0052857716),\n",
       " (66, 0.005591826),\n",
       " (67, 0.0053347377),\n",
       " (68, 0.0067616506),\n",
       " (69, 0.008094153),\n",
       " (70, 0.0067764805),\n",
       " (71, 0.0052854824),\n",
       " (72, 0.0066989753),\n",
       " (73, 0.0062320316),\n",
       " (74, 0.0052925316),\n",
       " (75, 0.41590205),\n",
       " (76, 0.0054068356),\n",
       " (77, 0.0045316233),\n",
       " (78, 0.005857167),\n",
       " (79, 0.005710861),\n",
       " (80, 0.0049821045),\n",
       " (81, 0.005478255),\n",
       " (82, 0.0048333663),\n",
       " (83, 0.004927023),\n",
       " (84, 0.005341857),\n",
       " (85, 0.0047885696),\n",
       " (86, 0.0046862895),\n",
       " (87, 0.0051030735),\n",
       " (88, 0.0046477616),\n",
       " (89, 0.0051525165),\n",
       " (90, 0.0068692025),\n",
       " (91, 0.00562561),\n",
       " (92, 0.0076155285),\n",
       " (93, 0.0058160424),\n",
       " (94, 0.0052552517),\n",
       " (95, 0.005381616),\n",
       " (96, 0.0066096145),\n",
       " (97, 0.007110157),\n",
       " (98, 0.005328559),\n",
       " (99, 0.0054168566)]"
      ]
     },
     "execution_count": 65,
     "metadata": {},
     "output_type": "execute_result"
    }
   ],
   "source": [
    "##### Function check\n",
    "lda = LdaRetrievalModel(doc_repr_2)\n",
    "lda.train_model()\n",
    "\n",
    "# you can now get an LDA vector for a given query in the following way:\n",
    "lda.vectorize_query(\"report\")\n",
    "##### "
   ]
  },
  {
   "cell_type": "markdown",
   "metadata": {
    "deletable": false,
    "editable": false,
    "nbgrader": {
     "cell_type": "markdown",
     "checksum": "32d83b6ea79ca3ddb789a7f8805a1b25",
     "grade": false,
     "grade_id": "cell-0e24b727d5908c0e",
     "locked": true,
     "points": 5,
     "schema_version": 3,
     "solution": false,
     "task": true
    }
   },
   "source": [
    "\\#### Please do not change this. This cell is used for grading."
   ]
  },
  {
   "cell_type": "markdown",
   "metadata": {
    "deletable": false,
    "editable": false,
    "nbgrader": {
     "cell_type": "markdown",
     "checksum": "114a934f0b9ce696e6cf09d3b8da6a3d",
     "grade": false,
     "grade_id": "cell-b1bffcb970b18aeb",
     "locked": true,
     "schema_version": 3,
     "solution": false,
     "task": false
    }
   },
   "source": [
    "---\n",
    "Now we can use the `DenseRetrievalModel` class to obtain an LDA search function.\n",
    "You can test your LDA model in the following cell: Try finding queries which are lexically different to documents, but semantically similar - does LDA work well for these queries?!"
   ]
  },
  {
   "cell_type": "code",
   "execution_count": 66,
   "metadata": {},
   "outputs": [
    {
     "data": {
      "application/vnd.jupyter.widget-view+json": {
       "model_id": "5440ad2fcd3e4151ad75c949303487b4",
       "version_major": 2,
       "version_minor": 0
      },
      "text/plain": [
       "Text(value='', description='Search Bar')"
      ]
     },
     "metadata": {},
     "output_type": "display_data"
    }
   ],
   "source": [
    "drm_lda = DenseRetrievalRanker(lda, jenson_shannon_sim)\n",
    "\n",
    "# test your LDA model\n",
    "search_fn = drm_lda.search\n",
    "\n",
    "text = widgets.Text(description=\"Search Bar\", width=200)\n",
    "display(text)\n",
    "\n",
    "\n",
    "text.on_submit(handle_submit_2)"
   ]
  },
  {
   "cell_type": "markdown",
   "metadata": {
    "deletable": false,
    "editable": false,
    "nbgrader": {
     "cell_type": "markdown",
     "checksum": "9d7f15863b655119b45f4d89354e5661",
     "grade": false,
     "grade_id": "cell-190cd0854b2791cc",
     "locked": true,
     "schema_version": 3,
     "solution": false,
     "task": false
    }
   },
   "source": [
    "## Section 8: Word2Vec/Doc2Vec (20 points) <a class=\"anchor\" id=\"2vec\"></a>\n",
    "\n",
    "[Back to Part 2](#part2)\n",
    "\n",
    "We will implement two other methods here, the Word2Vec model and the Doc2Vec model, also using `gensim`. Word2Vec creates representations of words, not documents, so the word level vectors need to be aggregated to obtain a representation for the document. Here, we will simply take the mean of the vectors. \n",
    "\n",
    "\n",
    "A drawback of these models is that they need a lot of training data. Our dataset is tiny, so in addition to using a model trained on the data, we will also use a pre-trained model for Word2Vec (this will be automatically downloaded).     \n",
    "\n",
    "*Note*:\n",
    "1. The code in vectorize_documents / vectorize_query should return gensim-like vectors i.e `[(dim, val), .. (dim, val)]`. \n",
    "2. For Word2Vec: You should also handle the following two cases: (a) A word in the query is not present in the vocabulary of the model and (b) none of the words in the query are present in the model - you can return 0 scores for all documents in this case. For either of these, you can check if a `word` is present in the vocab by using `word in self.model`\n"
   ]
  },
  {
   "cell_type": "code",
   "execution_count": 57,
   "metadata": {
    "deletable": false,
    "nbgrader": {
     "cell_type": "code",
     "checksum": "83ab733608ed14c29c09b36b4e1b6daa",
     "grade": false,
     "grade_id": "cell-2b73759f9baf688f",
     "locked": false,
     "schema_version": 3,
     "solution": true,
     "task": false
    }
   },
   "outputs": [
    {
     "name": "stderr",
     "output_type": "stream",
     "text": [
      "2022-02-15 12:29:22,211 : INFO : adding document #0 to Dictionary(0 unique tokens: [])\n",
      "2022-02-15 12:29:22,411 : INFO : built Dictionary(5937 unique tokens: ['-', 'algebra', 'intern', 'languag', 'preliminari']...) from 3204 documents (total 115969 corpus positions)\n",
      "2022-02-15 12:29:22,447 : INFO : discarding 4740 tokens: [('repeat', 8), ('glossari', 7), ('inspect', 8), ('uncol', 2), ('rung', 9), ('secant', 2), ('.', 1603), ('acceler', 6), ('diverg', 3), ('induc', 9)]...\n",
      "2022-02-15 12:29:22,455 : INFO : keeping 1197 tokens which were in no less than 10 and no more than 1602 (=50.0%) documents\n",
      "2022-02-15 12:29:22,459 : INFO : resulting dictionary: Dictionary(1197 unique tokens: ['-', 'algebra', 'intern', 'languag', 'preliminari']...)\n",
      "2022-02-15 12:29:22,552 : INFO : collecting all words and their counts\n",
      "2022-02-15 12:29:22,553 : INFO : PROGRESS: at sentence #0, processed 0 words, keeping 0 word types\n",
      "2022-02-15 12:29:22,569 : INFO : collected 5937 word types from a corpus of 115969 raw words and 3204 sentences\n",
      "2022-02-15 12:29:22,570 : INFO : Loading a fresh vocabulary\n",
      "2022-02-15 12:29:22,584 : INFO : effective_min_count=1 retains 5937 unique words (100% of original 5937, drops 0)\n",
      "2022-02-15 12:29:22,585 : INFO : effective_min_count=1 leaves 115969 word corpus (100% of original 115969, drops 0)\n",
      "2022-02-15 12:29:22,607 : INFO : deleting the raw counts dictionary of 5937 items\n",
      "2022-02-15 12:29:22,608 : INFO : sample=0.001 downsamples 40 most-common words\n",
      "2022-02-15 12:29:22,608 : INFO : downsampling leaves estimated 92346 word corpus (79.6% of prior 115969)\n",
      "2022-02-15 12:29:22,627 : INFO : estimated required memory for 5937 words and 100 dimensions: 7718100 bytes\n",
      "2022-02-15 12:29:22,628 : INFO : resetting layer weights\n",
      "2022-02-15 12:29:23,843 : INFO : training model with 3 workers on 5937 vocabulary and 100 features, using sg=0 hs=0 sample=0.001 negative=5 window=5\n",
      "2022-02-15 12:29:23,932 : INFO : worker thread finished; awaiting finish of 2 more threads\n",
      "2022-02-15 12:29:23,958 : INFO : worker thread finished; awaiting finish of 1 more threads\n",
      "2022-02-15 12:29:23,959 : INFO : worker thread finished; awaiting finish of 0 more threads\n",
      "2022-02-15 12:29:23,961 : INFO : EPOCH - 1 : training on 115969 raw words (92373 effective words) took 0.1s, 1446787 effective words/s\n",
      "2022-02-15 12:29:24,063 : INFO : worker thread finished; awaiting finish of 2 more threads\n",
      "2022-02-15 12:29:24,064 : INFO : worker thread finished; awaiting finish of 1 more threads\n",
      "2022-02-15 12:29:24,068 : INFO : worker thread finished; awaiting finish of 0 more threads\n",
      "2022-02-15 12:29:24,069 : INFO : EPOCH - 2 : training on 115969 raw words (92477 effective words) took 0.1s, 973167 effective words/s\n",
      "2022-02-15 12:29:24,165 : INFO : worker thread finished; awaiting finish of 2 more threads\n",
      "2022-02-15 12:29:24,175 : INFO : worker thread finished; awaiting finish of 1 more threads\n",
      "2022-02-15 12:29:24,177 : INFO : worker thread finished; awaiting finish of 0 more threads\n",
      "2022-02-15 12:29:24,178 : INFO : EPOCH - 3 : training on 115969 raw words (92441 effective words) took 0.1s, 1025390 effective words/s\n",
      "2022-02-15 12:29:24,270 : INFO : worker thread finished; awaiting finish of 2 more threads\n",
      "2022-02-15 12:29:24,275 : INFO : worker thread finished; awaiting finish of 1 more threads\n",
      "2022-02-15 12:29:24,277 : INFO : worker thread finished; awaiting finish of 0 more threads\n",
      "2022-02-15 12:29:24,278 : INFO : EPOCH - 4 : training on 115969 raw words (92268 effective words) took 0.1s, 1033990 effective words/s\n",
      "2022-02-15 12:29:24,374 : INFO : worker thread finished; awaiting finish of 2 more threads\n",
      "2022-02-15 12:29:24,382 : INFO : worker thread finished; awaiting finish of 1 more threads\n",
      "2022-02-15 12:29:24,383 : INFO : worker thread finished; awaiting finish of 0 more threads\n",
      "2022-02-15 12:29:24,383 : INFO : EPOCH - 5 : training on 115969 raw words (92457 effective words) took 0.1s, 936339 effective words/s\n",
      "2022-02-15 12:29:24,384 : INFO : training on a 579845 raw words (462016 effective words) took 0.5s, 854261 effective words/s\n",
      "2022-02-15 12:29:24,386 : WARNING : Effective 'alpha' higher than previous training cycles\n",
      "2022-02-15 12:29:24,386 : INFO : training model with 3 workers on 5937 vocabulary and 100 features, using sg=0 hs=0 sample=0.001 negative=5 window=5\n",
      "2022-02-15 12:29:24,498 : INFO : worker thread finished; awaiting finish of 2 more threads\n",
      "2022-02-15 12:29:24,499 : INFO : worker thread finished; awaiting finish of 1 more threads\n",
      "2022-02-15 12:29:24,501 : INFO : worker thread finished; awaiting finish of 0 more threads\n",
      "2022-02-15 12:29:24,503 : INFO : EPOCH - 1 : training on 115969 raw words (92431 effective words) took 0.1s, 1129937 effective words/s\n",
      "2022-02-15 12:29:24,603 : INFO : worker thread finished; awaiting finish of 2 more threads\n",
      "2022-02-15 12:29:24,611 : INFO : worker thread finished; awaiting finish of 1 more threads\n",
      "2022-02-15 12:29:24,618 : INFO : worker thread finished; awaiting finish of 0 more threads\n",
      "2022-02-15 12:29:24,619 : INFO : EPOCH - 2 : training on 115969 raw words (92183 effective words) took 0.1s, 1026255 effective words/s\n",
      "2022-02-15 12:29:24,719 : INFO : worker thread finished; awaiting finish of 2 more threads\n",
      "2022-02-15 12:29:24,721 : INFO : worker thread finished; awaiting finish of 1 more threads\n",
      "2022-02-15 12:29:24,725 : INFO : worker thread finished; awaiting finish of 0 more threads\n",
      "2022-02-15 12:29:24,727 : INFO : EPOCH - 3 : training on 115969 raw words (92233 effective words) took 0.1s, 956861 effective words/s\n",
      "2022-02-15 12:29:24,840 : INFO : worker thread finished; awaiting finish of 2 more threads\n",
      "2022-02-15 12:29:24,846 : INFO : worker thread finished; awaiting finish of 1 more threads\n",
      "2022-02-15 12:29:24,849 : INFO : worker thread finished; awaiting finish of 0 more threads\n",
      "2022-02-15 12:29:24,851 : INFO : EPOCH - 4 : training on 115969 raw words (92148 effective words) took 0.1s, 795933 effective words/s\n",
      "2022-02-15 12:29:24,963 : INFO : worker thread finished; awaiting finish of 2 more threads\n",
      "2022-02-15 12:29:24,971 : INFO : worker thread finished; awaiting finish of 1 more threads\n",
      "2022-02-15 12:29:24,973 : INFO : worker thread finished; awaiting finish of 0 more threads\n",
      "2022-02-15 12:29:24,978 : INFO : EPOCH - 5 : training on 115969 raw words (92421 effective words) took 0.1s, 769213 effective words/s\n",
      "2022-02-15 12:29:24,981 : INFO : training on a 579845 raw words (461416 effective words) took 0.6s, 777835 effective words/s\n"
     ]
    },
    {
     "ename": "NotImplementedError",
     "evalue": "",
     "output_type": "error",
     "traceback": [
      "\u001b[0;31m---------------------------------------------------------------------------\u001b[0m",
      "\u001b[0;31mNotImplementedError\u001b[0m                       Traceback (most recent call last)",
      "\u001b[0;32m<ipython-input-57-6132cd8d08fc>\u001b[0m in \u001b[0;36m<module>\u001b[0;34m\u001b[0m\n\u001b[1;32m     48\u001b[0m \u001b[0;34m\u001b[0m\u001b[0m\n\u001b[1;32m     49\u001b[0m \u001b[0;31m# you can now get a W2V vector for a given query in the following way:\u001b[0m\u001b[0;34m\u001b[0m\u001b[0;34m\u001b[0m\u001b[0m\n\u001b[0;32m---> 50\u001b[0;31m \u001b[0mw2v\u001b[0m\u001b[0;34m.\u001b[0m\u001b[0mvectorize_query\u001b[0m\u001b[0;34m(\u001b[0m\u001b[0;34m\"report\"\u001b[0m\u001b[0;34m)\u001b[0m\u001b[0;34m\u001b[0m\u001b[0m\n\u001b[0m",
      "\u001b[0;32m<ipython-input-57-6132cd8d08fc>\u001b[0m in \u001b[0;36mvectorize_query\u001b[0;34m(self, query)\u001b[0m\n\u001b[1;32m     29\u001b[0m         \u001b[0mquery\u001b[0m \u001b[0;34m=\u001b[0m \u001b[0mprocess_text\u001b[0m\u001b[0;34m(\u001b[0m\u001b[0mquery\u001b[0m\u001b[0;34m,\u001b[0m \u001b[0;34m**\u001b[0m\u001b[0mconfig_2\u001b[0m\u001b[0;34m)\u001b[0m\u001b[0;34m\u001b[0m\u001b[0m\n\u001b[1;32m     30\u001b[0m         \u001b[0;31m# YOUR CODE HERE\u001b[0m\u001b[0;34m\u001b[0m\u001b[0;34m\u001b[0m\u001b[0m\n\u001b[0;32m---> 31\u001b[0;31m         \u001b[0;32mraise\u001b[0m \u001b[0mNotImplementedError\u001b[0m\u001b[0;34m(\u001b[0m\u001b[0;34m)\u001b[0m\u001b[0;34m\u001b[0m\u001b[0m\n\u001b[0m\u001b[1;32m     32\u001b[0m \u001b[0;34m\u001b[0m\u001b[0m\n\u001b[1;32m     33\u001b[0m \u001b[0;34m\u001b[0m\u001b[0m\n",
      "\u001b[0;31mNotImplementedError\u001b[0m: "
     ]
    }
   ],
   "source": [
    "# TODO: Implement this! (10 points)\n",
    "class W2VRetrievalModel(VectorSpaceRetrievalModel):\n",
    "    def __init__(self, doc_repr):\n",
    "        super().__init__(doc_repr)\n",
    "        \n",
    "        # the dimensionality of the vectors\n",
    "        self.size = 100 \n",
    "        self.min_count = 1\n",
    "    \n",
    "    def train_model(self):\n",
    "        \"\"\"\n",
    "        Trains the W2V model\n",
    "        \"\"\"\n",
    "        # YOUR CODE HERE\n",
    "        self.model = Word2Vec(self.documents, size=self.size, min_count=self.min_count)\n",
    "        self.model.train(self.documents, epochs=self.model.epochs, total_examples=self.model.corpus_count)\n",
    "        \n",
    "    def vectorize_documents(self):\n",
    "        \"\"\"\n",
    "            Returns a doc_id -> vector dictionary\n",
    "        \"\"\"\n",
    "        # YOUR CODE HERE\n",
    "        raise NotImplementedError()\n",
    "\n",
    "    def vectorize_query(self, query):\n",
    "        \"\"\"\n",
    "        Vectorizes the query using the W2V model\n",
    "        \"\"\"\n",
    "        query = process_text(query, **config_2)\n",
    "        # YOUR CODE HERE\n",
    "        raise NotImplementedError()\n",
    "    \n",
    "    \n",
    "class W2VPretrainedRetrievalModel(W2VRetrievalModel):\n",
    "    def __init__(self, doc_repr):\n",
    "        super().__init__(doc_repr)\n",
    "        self.model_name = \"word2vec-google-news-300\"\n",
    "        self.size = 300\n",
    "    \n",
    "    def train_model(self):\n",
    "        \"\"\"\n",
    "        Loads the pretrained model\n",
    "        \"\"\"\n",
    "        self.model = g_downloader.load(self.model_name)\n",
    "\n",
    "w2v = W2VRetrievalModel(doc_repr_2)\n",
    "w2v.train_model()\n",
    "\n",
    "# you can now get a W2V vector for a given query in the following way:\n",
    "w2v.vectorize_query(\"report\")"
   ]
  },
  {
   "cell_type": "code",
   "execution_count": null,
   "metadata": {
    "deletable": false,
    "editable": false,
    "nbgrader": {
     "cell_type": "code",
     "checksum": "f92b5c5a8c6c4b80652b94223209ab0b",
     "grade": true,
     "grade_id": "cell-b31c0f8d214b8bdf",
     "locked": true,
     "points": 0,
     "schema_version": 3,
     "solution": false,
     "task": false
    }
   },
   "outputs": [],
   "source": [
    "assert len(w2v.vectorize_query(\"report\")) == 100\n",
    "assert len(w2v.vectorize_query(\"this is a sentence that is not mellifluous\")) == 100\n"
   ]
  },
  {
   "cell_type": "markdown",
   "metadata": {
    "deletable": false,
    "editable": false,
    "nbgrader": {
     "cell_type": "markdown",
     "checksum": "8dfaabebcb06f308a7ca61fdc5d369e7",
     "grade": false,
     "grade_id": "cell-c2614fa067386384",
     "locked": true,
     "points": 8,
     "schema_version": 3,
     "solution": false,
     "task": true
    }
   },
   "source": [
    "\\#### Please do not change this. This cell is used for grading."
   ]
  },
  {
   "cell_type": "code",
   "execution_count": null,
   "metadata": {},
   "outputs": [],
   "source": [
    "w2v_pretrained = W2VPretrainedRetrievalModel(doc_repr_2)\n",
    "w2v_pretrained.train_model()\n",
    "\n",
    "# you can now get an W2V vector for a given query in the following way:\n",
    "w2v_pretrained.vectorize_query(\"report\")"
   ]
  },
  {
   "cell_type": "code",
   "execution_count": null,
   "metadata": {
    "deletable": false,
    "editable": false,
    "nbgrader": {
     "cell_type": "code",
     "checksum": "0822845afb5eafe5ddb1ffeaa4f4942a",
     "grade": true,
     "grade_id": "cell-1b1466f8ce516f42",
     "locked": true,
     "points": 2,
     "schema_version": 3,
     "solution": false,
     "task": false
    }
   },
   "outputs": [],
   "source": [
    "##### Function check\n",
    "\n",
    "print(len(w2v_pretrained.vectorize_query(\"report\")))\n",
    "#####"
   ]
  },
  {
   "cell_type": "code",
   "execution_count": null,
   "metadata": {},
   "outputs": [],
   "source": [
    "drm_w2v = DenseRetrievalRanker(w2v, cosine_sim)\n",
    "\n",
    "# test your LDA model\n",
    "search_fn = drm_w2v.search\n",
    "\n",
    "text = widgets.Text(description=\"Search Bar\", width=200)\n",
    "display(text)\n",
    "\n",
    "\n",
    "text.on_submit(handle_submit_2)"
   ]
  },
  {
   "cell_type": "code",
   "execution_count": null,
   "metadata": {},
   "outputs": [],
   "source": [
    "drm_w2v_pretrained = DenseRetrievalRanker(w2v_pretrained, cosine_sim)\n",
    "\n",
    "# test your LDA model\n",
    "search_fn = drm_w2v_pretrained.search\n",
    "\n",
    "text = widgets.Text(description=\"Search Bar\", width=200)\n",
    "display(text)\n",
    "\n",
    "\n",
    "text.on_submit(handle_submit_2)"
   ]
  },
  {
   "cell_type": "markdown",
   "metadata": {
    "deletable": false,
    "editable": false,
    "nbgrader": {
     "cell_type": "markdown",
     "checksum": "51b778984fd60757974f51047c61eb15",
     "grade": false,
     "grade_id": "cell-b92f701cbc706108",
     "locked": true,
     "schema_version": 3,
     "solution": false,
     "task": false
    }
   },
   "source": [
    "**Implementation (10 points):**\n",
    "For Doc2Vec, you will need to create a list of `TaggedDocument` instead of using the `self.corpus` or `self.documents` variable. Use the document id as the 'tag'.\n",
    "  "
   ]
  },
  {
   "cell_type": "code",
   "execution_count": null,
   "metadata": {
    "deletable": false,
    "nbgrader": {
     "cell_type": "code",
     "checksum": "1f60fdeb97febb7f4a6fd5bf109aac20",
     "grade": false,
     "grade_id": "cell-680facdcc98a19ab",
     "locked": false,
     "schema_version": 3,
     "solution": true,
     "task": false
    }
   },
   "outputs": [],
   "source": [
    "# TODO: Implement this! (10 points)\n",
    "class D2VRetrievalModel(VectorSpaceRetrievalModel):\n",
    "    def __init__(self, doc_repr):\n",
    "        super().__init__(doc_repr)\n",
    "        \n",
    "        self.vector_size= 100\n",
    "        self.min_count = 1\n",
    "        self.epochs = 20\n",
    "        \n",
    "        # YOUR CODE HERE\n",
    "        raise NotImplementedError()\n",
    "        \n",
    "    def train_model(self):\n",
    "        # YOUR CODE HERE\n",
    "        raise NotImplementedError()\n",
    "    \n",
    "    def vectorize_documents(self):\n",
    "        \"\"\"\n",
    "            Returns a doc_id -> vector dictionary\n",
    "        \"\"\"\n",
    "        # YOUR CODE HERE\n",
    "        raise NotImplementedError()\n",
    "\n",
    "    def vectorize_query(self, query):\n",
    "        # YOUR CODE HERE\n",
    "        raise NotImplementedError()\n",
    "        \n",
    "d2v = D2VRetrievalModel(doc_repr_2)\n",
    "d2v.train_model()\n",
    "\n",
    "\n",
    "# # you can now get an LSI vector for a given query in the following way:\n",
    "d2v.vectorize_query(\"report\")"
   ]
  },
  {
   "cell_type": "code",
   "execution_count": null,
   "metadata": {
    "deletable": false,
    "editable": false,
    "nbgrader": {
     "cell_type": "code",
     "checksum": "e83a363a9d4f136efbdde1426a83925e",
     "grade": true,
     "grade_id": "cell-5e2c5e0c9a2e8cb5",
     "locked": true,
     "points": 0,
     "schema_version": 3,
     "solution": false,
     "task": false
    }
   },
   "outputs": [],
   "source": [
    "#### Please do not change this. This cell is used for grading."
   ]
  },
  {
   "cell_type": "markdown",
   "metadata": {
    "deletable": false,
    "editable": false,
    "nbgrader": {
     "cell_type": "markdown",
     "checksum": "5bb46bf6b9be1e0ca66f0b0bc6260ecb",
     "grade": false,
     "grade_id": "cell-8a49d414f798a595",
     "locked": true,
     "points": 10,
     "schema_version": 3,
     "solution": false,
     "task": true
    }
   },
   "source": [
    "\\#### Please do not change this. This cell is used for grading."
   ]
  },
  {
   "cell_type": "code",
   "execution_count": null,
   "metadata": {},
   "outputs": [],
   "source": [
    "drm_d2v = DenseRetrievalRanker(d2v, cosine_sim)\n",
    "\n",
    "# test your LDA model\n",
    "search_fn = drm_d2v.search\n",
    "\n",
    "text = widgets.Text(description=\"Search Bar\", width=200)\n",
    "display(text)\n",
    "\n",
    "\n",
    "text.on_submit(handle_submit_2)"
   ]
  },
  {
   "cell_type": "markdown",
   "metadata": {
    "deletable": false,
    "editable": false,
    "nbgrader": {
     "cell_type": "markdown",
     "checksum": "363ec36c1d03d9f9e1c2045a6e193c14",
     "grade": false,
     "grade_id": "cell-3529ae29eece7b97",
     "locked": true,
     "schema_version": 3,
     "solution": false,
     "task": false
    }
   },
   "source": [
    "---\n",
    "## Section 9: Re-ranking (10 points) <a class=\"anchor\" id=\"reranking\"></a>\n",
    "\n",
    "[Back to Part 2](#part2)\n",
    "\n",
    "To motivate the re-ranking perspective (i.e retrieve with lexical method + rerank with a semantic method), let's search using semantic methods and compare it to BM25's performance, along with their runtime:\n"
   ]
  },
  {
   "cell_type": "code",
   "execution_count": null,
   "metadata": {
    "deletable": false,
    "editable": false,
    "nbgrader": {
     "cell_type": "code",
     "checksum": "5755f70e3eb28abc65d14d80125338af",
     "grade": false,
     "grade_id": "cell-f8f43bf5ae383128",
     "locked": true,
     "schema_version": 3,
     "solution": false,
     "task": false
    }
   },
   "outputs": [],
   "source": [
    "query = \"algebraic functions\"\n",
    "print(\"BM25: \")\n",
    "%timeit bm25_search(query, 2)\n",
    "print(\"LSI: \")\n",
    "%timeit drm_lsi.search(query)\n",
    "print(\"LDA: \")\n",
    "%timeit drm_lda.search(query)\n",
    "print(\"W2V: \")\n",
    "%timeit drm_w2v.search(query)\n",
    "print(\"W2V(Pretrained): \")\n",
    "%timeit drm_w2v_pretrained.search(query)\n",
    "print(\"D2V:\")\n",
    "%timeit drm_d2v.search(query)"
   ]
  },
  {
   "cell_type": "markdown",
   "metadata": {
    "deletable": false,
    "editable": false,
    "nbgrader": {
     "cell_type": "markdown",
     "checksum": "ae398da0a8c23c95bcbb0023b7ec6f34",
     "grade": false,
     "grade_id": "cell-db5ff09f97841af7",
     "locked": true,
     "schema_version": 3,
     "solution": false,
     "task": false
    }
   },
   "source": [
    "---\n",
    "\n",
    "**Implementation (10 points):**\n",
    "Re-ranking involves retrieving a small set of documents using simple but fast methods like BM25 and then re-ranking them with the aid of semantic methods such as LDA or LSI. Implement the following class, which takes in an `initial_retrieval_fn` - the initial retrieval function and `vsrm` - an instance of the `VectorSpaceRetrievalModel` class (i.e LSI/LDA) as input. The search function should first retrieve an initial list of K documents, and then these documents are re-ranked using a semantic method. This not only makes retrieval faster, but semantic methods perform poorly when used in isolation, as you will find out."
   ]
  },
  {
   "cell_type": "code",
   "execution_count": null,
   "metadata": {
    "deletable": false,
    "nbgrader": {
     "cell_type": "code",
     "checksum": "63b6b05a676a2ae3f08d8bed1bc59428",
     "grade": false,
     "grade_id": "cell-5bf47600d1a0c507",
     "locked": false,
     "schema_version": 3,
     "solution": true,
     "task": false
    }
   },
   "outputs": [],
   "source": [
    "# TODO: Implement this! (10 points)\n",
    "class DenseRerankingModel:\n",
    "    def __init__(self, initial_retrieval_fn, vsrm, similarity_fn):\n",
    "        \"\"\"\n",
    "            initial_retrieval_fn: takes in a query and returns a list of [(doc_id, score)] (sorted)\n",
    "            vsrm: instance of `VectorSpaceRetrievalModel`\n",
    "            similarity_fn: function instance that takes in two vectors \n",
    "                            and returns a similarity score e.g cosine_sim defined earlier\n",
    "        \"\"\"\n",
    "        self.ret = initial_retrieval_fn\n",
    "        self.vsrm = vsrm\n",
    "        self.similarity_fn = similarity_fn\n",
    "        self.vectorized_documents = vsrm.vectorize_documents()\n",
    "        \n",
    "        assert len(self.vectorized_documents) == len(doc_repr_2)\n",
    "    \n",
    "    def search(self, query, K=50):\n",
    "        \"\"\"\n",
    "            First, retrieve the top K results using the retrieval function\n",
    "            Then, re-rank the results using the VSRM instance\n",
    "        \"\"\"\n",
    "        # YOUR CODE HERE\n",
    "        raise NotImplementedError()"
   ]
  },
  {
   "cell_type": "code",
   "execution_count": null,
   "metadata": {
    "deletable": false,
    "editable": false,
    "nbgrader": {
     "cell_type": "code",
     "checksum": "334ab5af96976265cace682ab82a7387",
     "grade": true,
     "grade_id": "cell-52c6d18a4c0b4882",
     "locked": true,
     "points": 0,
     "schema_version": 3,
     "solution": false,
     "task": false
    }
   },
   "outputs": [],
   "source": [
    "##### Function check\n",
    "bm25_search_2 = partial(bm25_search, index_set=2)\n",
    "lsi_rerank = DenseRerankingModel(bm25_search_2, lsi, cosine_sim)\n",
    "lda_rerank = DenseRerankingModel(bm25_search_2, lda, jenson_shannon_sim)\n",
    "w2v_rerank = DenseRerankingModel(bm25_search_2, w2v, cosine_sim)\n",
    "w2v_pretrained_rerank = DenseRerankingModel(bm25_search_2, w2v_pretrained, cosine_sim)\n",
    "d2v_rerank = DenseRerankingModel(bm25_search_2, d2v, cosine_sim)\n",
    "\n",
    "##### "
   ]
  },
  {
   "cell_type": "markdown",
   "metadata": {
    "deletable": false,
    "editable": false,
    "nbgrader": {
     "cell_type": "markdown",
     "checksum": "bd904253f45f84e63bab3a69729058fc",
     "grade": false,
     "grade_id": "cell-93215dfe6bcf7cff",
     "locked": true,
     "points": 10,
     "schema_version": 3,
     "solution": false,
     "task": true
    }
   },
   "source": [
    "\\#### Please do not change this. This cell is used for grading."
   ]
  },
  {
   "cell_type": "markdown",
   "metadata": {
    "deletable": false,
    "editable": false,
    "nbgrader": {
     "cell_type": "markdown",
     "checksum": "b592e60292bfe3d9ef2930a354c4077a",
     "grade": false,
     "grade_id": "cell-aa694ff55fa91e7d",
     "locked": true,
     "schema_version": 3,
     "solution": false,
     "task": false
    }
   },
   "source": [
    "---\n",
    "Now, let us time the new search functions:"
   ]
  },
  {
   "cell_type": "code",
   "execution_count": null,
   "metadata": {
    "deletable": false,
    "editable": false,
    "nbgrader": {
     "cell_type": "code",
     "checksum": "338c7e3528cba266a865a061287c0e38",
     "grade": false,
     "grade_id": "cell-5edbd481562ad91f",
     "locked": true,
     "schema_version": 3,
     "solution": false,
     "task": false
    }
   },
   "outputs": [],
   "source": [
    "query = \"algebraic functions\"\n",
    "print(\"BM25: \")\n",
    "%timeit bm25_search(query, 2)\n",
    "print(\"LSI: \")\n",
    "%timeit lsi_rerank.search(query)\n",
    "print(\"LDA: \")\n",
    "%timeit lda_rerank.search(query)\n",
    "print(\"W2V: \")\n",
    "%timeit w2v_rerank.search(query)\n",
    "print(\"W2V(Pretrained): \")\n",
    "%timeit w2v_pretrained_rerank.search(query)\n",
    "print(\"D2V:\")\n",
    "%timeit d2v_rerank.search(query)"
   ]
  },
  {
   "cell_type": "markdown",
   "metadata": {
    "deletable": false,
    "editable": false,
    "nbgrader": {
     "cell_type": "markdown",
     "checksum": "c45c5e3f015b2de89d9d39ae3766368b",
     "grade": false,
     "grade_id": "cell-85c50f2ab9eec301",
     "locked": true,
     "schema_version": 3,
     "solution": false,
     "task": false
    }
   },
   "source": [
    "---\n",
    "As you can see, it is much faster (but BM25 is still orders of magnitude faster)."
   ]
  },
  {
   "cell_type": "markdown",
   "metadata": {
    "deletable": false,
    "editable": false,
    "nbgrader": {
     "cell_type": "markdown",
     "checksum": "1e2f3388e3807659f303fe31a75a010e",
     "grade": false,
     "grade_id": "cell-5071bb99b2af61cb",
     "locked": true,
     "schema_version": 3,
     "solution": false,
     "task": false
    }
   },
   "source": [
    "---\n",
    "## Section 10: Evaluation & Analysis (30 points) <a class=\"anchor\" id=\"reranking_eval\"></a>\n",
    "\n",
    "[Back to Part 2](#part2)\n",
    "\n",
    "[Previously](#evaluation) we have implemented some evaluation metrics and used them for measuring the ranking performance of term-based IR algorithms. In this section, we will do the same for semantic methods, both with and without re-ranking.\n",
    "\n",
    "### Section 10.1: Plot (10 points)\n",
    "\n",
    "First, gather the results. The results should consider the index set, the different search functions and different metrics. Plot the results in bar charts, per metric, with clear labels.\n",
    "\n",
    "Then, gather only the re-ranking models, and plot and compare them with the results obtained in part 1 (only index set 2)."
   ]
  },
  {
   "cell_type": "code",
   "execution_count": null,
   "metadata": {
    "deletable": false,
    "editable": false,
    "nbgrader": {
     "cell_type": "code",
     "checksum": "4fe81520ac6413a803838913fd64de03",
     "grade": false,
     "grade_id": "cell-b672fe6dfae0b1ce",
     "locked": true,
     "schema_version": 3,
     "solution": false,
     "task": false
    }
   },
   "outputs": [],
   "source": [
    "list_of_sem_search_fns = [\n",
    "    (\"lda\", drm_lda.search),\n",
    "    (\"lsi\", drm_lsi.search),\n",
    "    (\"w2v\", drm_w2v.search),\n",
    "    (\"w2v_pretrained\", drm_w2v_pretrained.search),\n",
    "    (\"d2v\", drm_d2v.search),\n",
    "    (\"lsi_rr\", lsi_rerank.search),\n",
    "    (\"lda_rr\", lda_rerank.search),\n",
    "    (\"w2v_rr\", w2v_rerank.search),\n",
    "    (\"w2v_pretrained_rr\", w2v_pretrained_rerank.search),\n",
    "    (\"d2v_rr\", d2v_rerank.search),\n",
    "    \n",
    "]"
   ]
  },
  {
   "cell_type": "code",
   "execution_count": null,
   "metadata": {
    "deletable": false,
    "nbgrader": {
     "cell_type": "code",
     "checksum": "54707c4afac084299aeefa047259b4a9",
     "grade": true,
     "grade_id": "cell-7dd8273b0f5a3c22",
     "locked": false,
     "points": 10,
     "schema_version": 3,
     "solution": true,
     "task": false
    }
   },
   "outputs": [],
   "source": [
    "# YOUR CODE HERE\n",
    "raise NotImplementedError()"
   ]
  },
  {
   "cell_type": "markdown",
   "metadata": {
    "deletable": false,
    "editable": false,
    "nbgrader": {
     "cell_type": "markdown",
     "checksum": "a8a3b6189bdde66704c694d85e38d049",
     "grade": false,
     "grade_id": "cell-deb2ef3daa306e82",
     "locked": true,
     "schema_version": 3,
     "solution": false,
     "task": false
    }
   },
   "source": [
    "### Section 10.2: Summary (20 points)\n",
    "\n",
    "Your summary should compare methods from Part 1 and Part 2 (only for index set 2). State what you expected to see in the results, followed by either supporting evidence *or* justify why the results did not support your expectations. Consider the availability of data, scalability, domain/type of data, etc."
   ]
  },
  {
   "cell_type": "markdown",
   "metadata": {
    "deletable": false,
    "nbgrader": {
     "cell_type": "markdown",
     "checksum": "ff97c43837d10bff6aaffa75e1492887",
     "grade": true,
     "grade_id": "cell-ec5dd7d9cf59dd86",
     "locked": false,
     "points": 20,
     "schema_version": 3,
     "solution": true,
     "task": false
    }
   },
   "source": [
    "YOUR ANSWER HERE"
   ]
  }
 ],
 "metadata": {
  "kernelspec": {
   "display_name": "Python 3",
   "language": "python",
   "name": "python3"
  },
  "language_info": {
   "codemirror_mode": {
    "name": "ipython",
    "version": 3
   },
   "file_extension": ".py",
   "mimetype": "text/x-python",
   "name": "python",
   "nbconvert_exporter": "python",
   "pygments_lexer": "ipython3",
   "version": "3.6.5"
  },
  "toc": {
   "base_numbering": 1,
   "nav_menu": {},
   "number_sections": true,
   "sideBar": true,
   "skip_h1_title": false,
   "title_cell": "Table of Contents",
   "title_sidebar": "Contents",
   "toc_cell": false,
   "toc_position": {},
   "toc_section_display": true,
   "toc_window_display": false
  },
  "toc-autonumbering": false
 },
 "nbformat": 4,
 "nbformat_minor": 4
}
