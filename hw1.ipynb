{
 "cells": [
  {
   "cell_type": "markdown",
   "metadata": {
    "deletable": false,
    "editable": false,
    "nbgrader": {
     "cell_type": "markdown",
     "checksum": "1bba455de8bc2825ca70469169bbadaa",
     "grade": false,
     "grade_id": "cell-c9cd9e550239e812",
     "locked": true,
     "schema_version": 3,
     "solution": false,
     "task": false
    }
   },
   "source": [
    "# Homework 1 (Total Points: 250) <a class=\"anchor\" id=\"top\"></a>\n",
    "\n",
    "\n",
    "**Submission instructions**:\n",
    "- The cells with the `# YOUR CODE HERE` denote that these sections are graded and you need to add your implementation.\n",
    "- For Part 1: You can use the `nltk`, `NumPy`, and `matplotlib` libraries here. Other libraries, e.g., `gensim` or `scikit-learn`, may not be used. For Part 2: `gensim` is allowed in addition to the imported libraries in the next code cell\n",
    "- Please use Python 3.6.5 and `pip install -r requirements.txt` to avoid version issues.\n",
    "- The notebook you submit has to have the student ids, separated by underscores (E.g., `12341234_12341234_12341234_hw1.ipynb`).\n",
    "- This will be parsed by a regexp, **so please double check your filename**.\n",
    "- Only one member of each group has to submit the file (**please do not compress the .ipynb file when you will submit it**) to canvas.\n",
    "- **Make sure to check that your notebook runs before submission**. A quick way to do this is to restart the kernel and run all the cells.  \n",
    "- Do not change the number of arugments in the given functions.\n",
    "- **Please do not delete/add new cells**. Removing cells **will** lead to grade deduction. \n",
    "- Note, that you are not allowed to use Google Colab.\n",
    "\n",
    "\n",
    "**Learning Goals**:\n",
    "- [Part 1, Term-based matching](#part1) (165 points):\n",
    "    - Learn how to load a dataset and process it.\n",
    "    - Learn how to implement several standard IR methods (TF-IDF, BM25, QL) and understand their weaknesses & strengths.\n",
    "    - Learn how to evaluate IR methods.\n",
    "- [Part 2, Semantic-based matching](#part2) (85 points):\n",
    "    - Learn how to implement vector-space retrieval methods (LSI, LDA).\n",
    "    - Learn how to use LSI and LDA for re-ranking.\n",
    "\n",
    "    \n",
    "**Resources**: \n",
    "- **Part 1**: Sections 2.3, 4.1, 4.2, 4.3, 5.3, 5.6, 5.7, 6.2, 7, 8 of [Search Engines: Information Retrieval in Practice](https://ciir.cs.umass.edu/downloads/SEIRiP.pdf)\n",
    "- **Part 2**: [LSI - Chapter 18](https://nlp.stanford.edu/IR-book/pdf/18lsi.pdf) from [Introduction to Information Retrieval](https://nlp.stanford.edu/IR-book/) book and the [original LDA paper](https://jmlr.org/papers/volume3/blei03a/blei03a.pdf)"
   ]
  },
  {
   "cell_type": "code",
   "execution_count": 1,
   "metadata": {
    "deletable": false,
    "editable": false,
    "nbgrader": {
     "cell_type": "code",
     "checksum": "c55bfe94ff1f564dd595547e516c4c6e",
     "grade": false,
     "grade_id": "cell-f5357fabdb9660e3",
     "locked": true,
     "schema_version": 3,
     "solution": false,
     "task": false
    }
   },
   "outputs": [],
   "source": [
    "# imports \n",
    "# TODO: Ensure that no additional library is imported in the notebook. \n",
    "# TODO: Only the standard library and the following libraries are allowed:\n",
    "# TODO: You can also use unlisted classes from these libraries or standard libraries (such as defaultdict, Counter, ...).\n",
    "\n",
    "import os\n",
    "import zipfile\n",
    "from functools import partial\n",
    "\n",
    "import nltk\n",
    "import requests\n",
    "import numpy as np\n",
    "from tqdm import tqdm\n",
    "\n",
    "import matplotlib.pyplot as plt\n",
    "from matplotlib.pyplot import cm\n",
    "\n",
    "from ipywidgets import widgets\n",
    "from IPython.display import display, HTML\n",
    "#from IPython.html import widgets\n",
    "from collections import namedtuple\n",
    "\n",
    "%matplotlib inline"
   ]
  },
  {
   "cell_type": "markdown",
   "metadata": {
    "deletable": false,
    "editable": false,
    "nbgrader": {
     "cell_type": "markdown",
     "checksum": "c8328f758ca5b69f76eee03dbbdd4715",
     "grade": false,
     "grade_id": "cell-7428e12ed184408b",
     "locked": true,
     "schema_version": 3,
     "solution": false,
     "task": false
    }
   },
   "source": [
    "\n",
    "# Part 1: Term-based Matching (165 points) <a class=\"anchor\" id=\"part1\"></a>\n",
    "\n",
    "[Back to top](#top)\n",
    "\n",
    "In the first part, we will learn the basics of IR from loading and preprocessing the material, to implementing some well known search algorithms, to evaluating the ranking performance of the implemented algorithms. We will be using the CACM dataset throughout the assignment. The CACM dataset is a collection of titles and abstracts from the journal CACM (Communication of the ACM).\n",
    "\n",
    "Table of contents:\n",
    "- [Section 1: Text Processing](#text_processing) (5 points)\n",
    "- [Section 2: Indexing](#indexing) (10 points)\n",
    "- [Section 3: Ranking](#ranking) (80 points)\n",
    "- [Section 4: Evaluation](#evaluation) (40 points)\n",
    "- [Section 5: Analysis](#analysis) (30 points)\n"
   ]
  },
  {
   "cell_type": "markdown",
   "metadata": {
    "deletable": false,
    "editable": false,
    "nbgrader": {
     "cell_type": "markdown",
     "checksum": "4e3f938065183dc743aa8254b96b4f5e",
     "grade": false,
     "grade_id": "cell-4b24825cf4ae55ec",
     "locked": true,
     "schema_version": 3,
     "solution": false,
     "task": false
    }
   },
   "source": [
    "---\n",
    "## Section 1: Text Processing (5 points)<a class=\"anchor\" id=\"text_processing\"></a>\n",
    "\n",
    "[Back to Part 1](#part1)\n",
    "\n",
    "In this section, we will load the dataset and learn how to clean up the data to make it usable for an IR system. \n",
    "First, go through the implementation of the following functions:\n",
    "- `read_cacm_docs`: Reads in the CACM documents.\n",
    "- `read_queries`: Reads in the CACM queries.\n",
    "- `load_stopwords`: Loads the stopwords.\n",
    "\n",
    "The points of this section are earned for the following implementations:\n",
    "- `tokenize` (3 points): Tokenizes the input text.\n",
    "- `stem_token` (2 points): Stems the given token. \n",
    "\n",
    "We are using the [CACM dataset](http://ir.dcs.gla.ac.uk/resources/test_collections/cacm/), which is a small, classic IR dataset, composed of a collection of titles and abstracts from the journal CACM. It comes with relevance judgements for queries, so we can evaluate our IR system. \n"
   ]
  },
  {
   "cell_type": "markdown",
   "metadata": {
    "deletable": false,
    "editable": false,
    "nbgrader": {
     "cell_type": "markdown",
     "checksum": "0155d897c7016389d73d160921947a6f",
     "grade": false,
     "grade_id": "cell-45651364e7af6d5a",
     "locked": true,
     "schema_version": 3,
     "solution": false,
     "task": false
    }
   },
   "source": [
    "---\n",
    "### 1.1 Read the CACM documents\n",
    "\n",
    "\n",
    "The following cell downloads the dataset and unzips it to a local directory."
   ]
  },
  {
   "cell_type": "code",
   "execution_count": 2,
   "metadata": {
    "deletable": false,
    "editable": false,
    "nbgrader": {
     "cell_type": "code",
     "checksum": "4d43c9ad6e77cc01ce4cef0c34824930",
     "grade": false,
     "grade_id": "cell-bbc3030bb3fe7e02",
     "locked": true,
     "schema_version": 3,
     "solution": false,
     "task": false
    }
   },
   "outputs": [],
   "source": [
    "def download_dataset():\n",
    "    folder_path = os.environ.get(\"IR1_DATA_PATH\")\n",
    "    if not folder_path:\n",
    "        folder_path = \"./datasets/\"\n",
    "    os.makedirs(folder_path, exist_ok=True)\n",
    "    \n",
    "    file_location = os.path.join(folder_path, \"cacm.zip\")\n",
    "    \n",
    "    # download file if it doesn't exist\n",
    "    if not os.path.exists(file_location):\n",
    "        \n",
    "        url = \"https://surfdrive.surf.nl/files/index.php/s/M0FGJpX2p8wDwxR/download\"\n",
    "\n",
    "        with open(file_location, \"wb\") as handle:\n",
    "            print(f\"Downloading file from {url} to {file_location}\")\n",
    "            response = requests.get(url, stream=True)\n",
    "            for data in tqdm(response.iter_content()):\n",
    "                handle.write(data)\n",
    "            print(\"Finished downloading file\")\n",
    "    \n",
    "    if not os.path.exists(os.path.join(folder_path, \"train.txt\")):\n",
    "        \n",
    "        # unzip file\n",
    "        with zipfile.ZipFile(file_location, 'r') as zip_ref:\n",
    "            zip_ref.extractall(folder_path)\n",
    "        \n",
    "download_dataset()"
   ]
  },
  {
   "cell_type": "markdown",
   "metadata": {
    "deletable": false,
    "editable": false,
    "nbgrader": {
     "cell_type": "markdown",
     "checksum": "31609b0d61d0c74cbd69bc43e47c23be",
     "grade": false,
     "grade_id": "cell-a7dd9a9bf98ede05",
     "locked": true,
     "schema_version": 3,
     "solution": false,
     "task": false
    }
   },
   "source": [
    "---\n",
    "\n",
    "You can see a brief description of each file in the dataset by looking at the README file:"
   ]
  },
  {
   "cell_type": "code",
   "execution_count": 3,
   "metadata": {
    "deletable": false,
    "editable": false,
    "nbgrader": {
     "cell_type": "code",
     "checksum": "cb3c9a2b8b2bf4fd5b7446b0c4c00f43",
     "grade": false,
     "grade_id": "cell-9b6ff1a17124711f",
     "locked": true,
     "schema_version": 3,
     "solution": false,
     "task": false
    }
   },
   "outputs": [
    {
     "name": "stdout",
     "output_type": "stream",
     "text": [
      "Files in this directory with sizes:\n",
      "          0 Jun 19 21:01 README\n",
      "\n",
      "    2187734 Jun 19 20:55 cacm.all              text of documents\n",
      "        626 Jun 19 20:58 cite.info             key to citation info\n",
      "                                                (the X sections in cacm.all)\n",
      "       2668 Jun 19 20:55 common_words           stop words used by smart\n",
      "       2194 Jun 19 20:55 make_coll*             shell script to make collection\n",
      "       1557 Jun 19 20:55 make_coll_term*        ditto (both useless without\n",
      "                                                smart system)\n",
      "       9948 Jun 19 20:55 qrels.text             relation giving\n",
      "                                                    qid did 0 0\n",
      "                                                to indicate dument did is\n",
      "                                                relevant to query qid\n",
      "      13689 Jun 19 20:55 query.text             Original text of the query\n",
      "\n"
     ]
    }
   ],
   "source": [
    "##### Read the README file \n",
    "with open (\"./datasets/README\",\"r\") as file:\n",
    "    readme = file.read()\n",
    "    print(readme)\n",
    "#####"
   ]
  },
  {
   "cell_type": "markdown",
   "metadata": {
    "deletable": false,
    "editable": false,
    "nbgrader": {
     "cell_type": "markdown",
     "checksum": "6e2712c4c4632bf7486a532f7f18074d",
     "grade": false,
     "grade_id": "cell-73351431869fda76",
     "locked": true,
     "schema_version": 3,
     "solution": false,
     "task": false
    }
   },
   "source": [
    "---\n",
    "We are interested in 4 files:\n",
    "- `cacm.all` : Contains the text for all documents. Note that some documents do not have abstracts available\n",
    "- `query.text` : The text of all queries\n",
    "- `qrels.text` : The relevance judgements\n",
    "- `common_words` : A list of common words. This may be used as a collection of stopwords"
   ]
  },
  {
   "cell_type": "code",
   "execution_count": 4,
   "metadata": {
    "deletable": false,
    "editable": false,
    "nbgrader": {
     "cell_type": "code",
     "checksum": "f1162c15177eb4ffe466531d03cff4a2",
     "grade": false,
     "grade_id": "cell-b44dd14079f278ca",
     "locked": true,
     "schema_version": 3,
     "solution": false,
     "task": false
    }
   },
   "outputs": [
    {
     "name": "stdout",
     "output_type": "stream",
     "text": [
      ".I 1\n",
      ".T\n",
      "Preliminary Report-International Algebraic Language\n",
      ".B\n",
      "CACM December, 1958\n",
      ".A\n",
      "Perlis, A. J.\n",
      "Samelson,K.\n",
      ".N\n",
      "CA581203 JB March 22, 1978  8:28 PM\n",
      ".X\n",
      "100\t5\t1\n",
      "123\t5\t1\n",
      "164\t5\t1\n",
      "1\t5\t1\n",
      "1\t5\t1\n",
      "1\t5\t1\n",
      "205\t5\t1\n",
      "210\t5\t1\n",
      "214\t5\t1\n",
      "1982\t5\t1\n",
      "398\t5\t1\n",
      "642\t5\t1\n",
      "669\t5\t1\n",
      "1\t6\t1\n",
      "1\t6\t1\n",
      "1\t6\t1\n",
      "1\t6\t1\n",
      "1\t6\t1\n",
      "1\t6\t1\n",
      "1\t6\t1\n",
      "1\t6\t1\n",
      "1\t6\t1\n",
      "1\t6\t1\n",
      "165\t6\t1\n",
      "196\t6\t1\n",
      "196\t6\t1\n",
      "1273\t6\t1\n",
      "1883\t6\t1\n",
      "324\t6\t1\n",
      "43\t6\t1\n",
      "53\t6\t1\n",
      "91\t6\t1\n",
      "410\t6\t1\n",
      "3184\t6\t1\n",
      "\n"
     ]
    }
   ],
   "source": [
    "##### The first 45 lines of the CACM dataset forms the first record\n",
    "# We are interested only in 3 fields. \n",
    "# 1. the '.I' field, which is the document id\n",
    "# 2. the '.T' field (the title) and\n",
    "# 3. the '.W' field (the abstract, which may be absent)\n",
    "with open (\"./datasets/cacm.all\",\"r\") as file:\n",
    "    cacm_all = \"\".join(file.readlines()[:45])\n",
    "    print(cacm_all)\n",
    "#####"
   ]
  },
  {
   "cell_type": "markdown",
   "metadata": {
    "deletable": false,
    "editable": false,
    "nbgrader": {
     "cell_type": "markdown",
     "checksum": "250b413baccd8efb186bb46a34ae0060",
     "grade": false,
     "grade_id": "cell-c4bf2e263ec553d8",
     "locked": true,
     "schema_version": 3,
     "solution": false,
     "task": false
    }
   },
   "source": [
    "---\n",
    "\n",
    "The following function reads the `cacm.all` file. Note that each document has a variable number of lines. The `.I` field denotes a new document:"
   ]
  },
  {
   "cell_type": "code",
   "execution_count": 5,
   "metadata": {
    "deletable": false,
    "editable": false,
    "nbgrader": {
     "cell_type": "code",
     "checksum": "57d757e6a7a6938740dc899022b4f291",
     "grade": false,
     "grade_id": "cell-b736116eb419c624",
     "locked": true,
     "schema_version": 3,
     "solution": false,
     "task": false
    }
   },
   "outputs": [],
   "source": [
    "def read_cacm_docs(root_folder = \"./datasets/\"):\n",
    "    \"\"\"\n",
    "        Reads in the CACM documents. The dataset is assumed to be in the folder \"./datasets/\" by default\n",
    "        Returns: A list of 2-tuples: (doc_id, document), where 'document' is a single string created by \n",
    "            appending the title and abstract (separated by a \"\\n\"). \n",
    "            In case the record doesn't have an abstract, the document is composed only by the title\n",
    "    \"\"\"\n",
    "    with open(os.path.join(root_folder, \"cacm.all\")) as reader:\n",
    "        lines = reader.readlines()\n",
    "    \n",
    "    doc_id, title, abstract = None, None, None\n",
    "    \n",
    "    docs = []\n",
    "    line_idx = 0\n",
    "    while line_idx < len(lines):\n",
    "        line = lines[line_idx]\n",
    "        if line.startswith(\".I\"):\n",
    "            if doc_id is not None:\n",
    "                docs.append((doc_id, title, abstract))\n",
    "                doc_id, title, abstract = None, None, None\n",
    "            \n",
    "            doc_id = line.split()[-1]\n",
    "            line_idx += 1\n",
    "        elif line.startswith(\".T\"):\n",
    "            # start at next line\n",
    "            line_idx += 1\n",
    "            temp_lines = []\n",
    "            # read till next '.'\n",
    "            while not lines[line_idx].startswith(\".\"):\n",
    "                temp_lines.append(lines[line_idx].strip(\"\\n\"))\n",
    "                line_idx += 1\n",
    "            title = \"\\n\".join(temp_lines).strip(\"\\n\")\n",
    "        elif line.startswith(\".W\"):\n",
    "            # start at next line\n",
    "            line_idx += 1\n",
    "            temp_lines = []\n",
    "            # read till next '.'\n",
    "            while not lines[line_idx].startswith(\".\"):\n",
    "                temp_lines.append(lines[line_idx].strip(\"\\n\"))\n",
    "                line_idx += 1\n",
    "            abstract = \"\\n\".join(temp_lines).strip(\"\\n\")\n",
    "        else:\n",
    "            line_idx += 1\n",
    "    \n",
    "    docs.append((doc_id, title, abstract))\n",
    "    \n",
    "    p_docs = []\n",
    "    for (did, t, a) in docs:\n",
    "        if a is None:\n",
    "            a = \"\"\n",
    "        p_docs.append((did, t + \"\\n\" + a))\n",
    "    return p_docs\n"
   ]
  },
  {
   "cell_type": "code",
   "execution_count": 6,
   "metadata": {
    "deletable": false,
    "editable": false,
    "nbgrader": {
     "cell_type": "code",
     "checksum": "2f81930fcd89670b6e20e2255e1f2369",
     "grade": false,
     "grade_id": "cell-a1c43818e0d3fd79",
     "locked": true,
     "schema_version": 3,
     "solution": false,
     "task": false
    }
   },
   "outputs": [],
   "source": [
    "##### Function check\n",
    "docs = read_cacm_docs()\n",
    "\n",
    "assert isinstance(docs, list)\n",
    "assert len(docs) == 3204, \"There should be exactly 3204 documents\"\n",
    "\n",
    "unzipped_docs = list(zip(*docs))\n",
    "assert np.sum(np.array(list(map(int,unzipped_docs[0])))) == 5134410\n",
    "\n",
    "##### "
   ]
  },
  {
   "cell_type": "markdown",
   "metadata": {
    "deletable": false,
    "editable": false,
    "nbgrader": {
     "cell_type": "markdown",
     "checksum": "25fd3cfaf2137c56002b850699b3c9d3",
     "grade": false,
     "grade_id": "cell-5ed2ddc91f73c60e",
     "locked": true,
     "schema_version": 3,
     "solution": false,
     "task": false
    }
   },
   "source": [
    "---\n",
    "### 1.2 Read the CACM queries\n",
    "\n",
    "Next, let us read the queries. They are formatted similarly:"
   ]
  },
  {
   "cell_type": "code",
   "execution_count": 7,
   "metadata": {
    "deletable": false,
    "editable": false,
    "nbgrader": {
     "cell_type": "code",
     "checksum": "5d26c0908e758acb9968b84056b1060a",
     "grade": false,
     "grade_id": "cell-5c7e8e7c4fc2757f",
     "locked": true,
     "schema_version": 3,
     "solution": false,
     "task": false
    }
   },
   "outputs": [
    {
     "name": "stdout",
     "output_type": "stream",
     "text": [
      ".I 1\n",
      ".W\n",
      " What articles exist which deal with TSS (Time Sharing System), an\n",
      "operating system for IBM computers?\n",
      ".N\n",
      " 1. Richard Alexander, Comp Serv, Langmuir Lab (TSS)\n",
      " \n",
      ".I 2\n",
      ".W\n",
      " I am interested in articles written either by Prieve or Udo Pooch\n",
      ".A\n",
      "Prieve, B.\n",
      "Pooch, U.\n",
      ".N\n",
      " 2. Richard Alexander, Comp Serv, Langmuir Lab (author = Pooch or Prieve)\n"
     ]
    }
   ],
   "source": [
    "##### The first 15 lines of 'query.text' has 2 queries\n",
    "# We are interested only in 2 fields. \n",
    "# 1. the '.I' - the query id\n",
    "# 2. the '.W' - the query\n",
    "!head -15 ./datasets/query.text\n",
    "#####"
   ]
  },
  {
   "cell_type": "markdown",
   "metadata": {
    "deletable": false,
    "editable": false,
    "nbgrader": {
     "cell_type": "markdown",
     "checksum": "8f19f311a660f30e3f86cb0f7037d54a",
     "grade": false,
     "grade_id": "cell-88e293507d2dcef6",
     "locked": true,
     "schema_version": 3,
     "solution": false,
     "task": false
    }
   },
   "source": [
    "---\n",
    "\n",
    "The following function reads the `query.text` file:"
   ]
  },
  {
   "cell_type": "code",
   "execution_count": 8,
   "metadata": {
    "deletable": false,
    "editable": false,
    "nbgrader": {
     "cell_type": "code",
     "checksum": "e3fbb193211007672849487f5cff1664",
     "grade": false,
     "grade_id": "cell-433e3ad5d0e2572a",
     "locked": true,
     "schema_version": 3,
     "solution": false,
     "task": false
    }
   },
   "outputs": [],
   "source": [
    "def read_queries(root_folder = \"./datasets/\"):\n",
    "    \"\"\"\n",
    "        Reads in the CACM queries. The dataset is assumed to be in the folder \"./datasets/\" by default\n",
    "        Returns: A list of 2-tuples: (query_id, query)\n",
    "    \"\"\"\n",
    "    with open(os.path.join(root_folder, \"query.text\")) as reader:\n",
    "        lines = reader.readlines()\n",
    "    \n",
    "    query_id, query = None, None\n",
    "    \n",
    "    queries = []\n",
    "    line_idx = 0\n",
    "    while line_idx < len(lines):\n",
    "        line = lines[line_idx]\n",
    "        if line.startswith(\".I\"):\n",
    "            if query_id is not None:\n",
    "                queries.append((query_id, query))\n",
    "                query_id, query = None, None\n",
    "    \n",
    "            query_id = line.split()[-1]\n",
    "            line_idx += 1\n",
    "        elif line.startswith(\".W\"):\n",
    "            # start at next line\n",
    "            line_idx += 1\n",
    "            temp_lines = []\n",
    "            # read till next '.'\n",
    "            while not lines[line_idx].startswith(\".\"):\n",
    "                temp_lines.append(lines[line_idx].strip(\"\\n\"))\n",
    "                line_idx += 1\n",
    "            query = \"\\n\".join(temp_lines).strip(\"\\n\")\n",
    "        else:\n",
    "            line_idx += 1\n",
    "    \n",
    "    queries.append((query_id, query))\n",
    "    return queries\n"
   ]
  },
  {
   "cell_type": "code",
   "execution_count": 9,
   "metadata": {
    "deletable": false,
    "editable": false,
    "nbgrader": {
     "cell_type": "code",
     "checksum": "a897b9771b54f447be3418d7246fc4a0",
     "grade": false,
     "grade_id": "cell-6ec540abce66c598",
     "locked": true,
     "schema_version": 3,
     "solution": false,
     "task": false
    }
   },
   "outputs": [],
   "source": [
    "##### Function check\n",
    "queries = read_queries()\n",
    "\n",
    "assert isinstance(queries, list)\n",
    "assert len(queries) == 64 and all([q[1] is not None for q in queries]), \"There should be exactly 64 queries\"\n",
    "\n",
    "unzipped_queries = list(zip(*queries))\n",
    "assert np.sum(np.array(list(map(int,unzipped_queries[0])))) == 2080\n",
    "\n",
    "##### "
   ]
  },
  {
   "cell_type": "markdown",
   "metadata": {
    "deletable": false,
    "editable": false,
    "nbgrader": {
     "cell_type": "markdown",
     "checksum": "a300c41912ac63b239070b4c15c9f5c5",
     "grade": false,
     "grade_id": "cell-1c31569491d7b782",
     "locked": true,
     "schema_version": 3,
     "solution": false,
     "task": false
    }
   },
   "source": [
    "---\n",
    "### 1.3 Read the stop words\n",
    "\n",
    "We use the common words stored in `common_words`:"
   ]
  },
  {
   "cell_type": "code",
   "execution_count": 10,
   "metadata": {
    "deletable": false,
    "editable": false,
    "nbgrader": {
     "cell_type": "code",
     "checksum": "1ad6f5bae6a792504c1c8513ae5751ad",
     "grade": false,
     "grade_id": "cell-34bdb63461418a96",
     "locked": true,
     "schema_version": 3,
     "solution": false,
     "task": false
    }
   },
   "outputs": [
    {
     "name": "stdout",
     "output_type": "stream",
     "text": [
      "a\n",
      "about\n",
      "above\n",
      "accordingly\n",
      "across\n",
      "after\n",
      "afterwards\n",
      "again\n",
      "against\n",
      "all\n"
     ]
    }
   ],
   "source": [
    "##### Read the stop words file \n",
    "!head ./datasets/common_words\n",
    "##### Read the README file "
   ]
  },
  {
   "cell_type": "markdown",
   "metadata": {
    "deletable": false,
    "editable": false,
    "nbgrader": {
     "cell_type": "markdown",
     "checksum": "6d0fe612e770213b6397c2179b07a966",
     "grade": false,
     "grade_id": "cell-4744bde0338895d8",
     "locked": true,
     "schema_version": 3,
     "solution": false,
     "task": false
    }
   },
   "source": [
    "---\n",
    "\n",
    "The following function reads the `common_words` file (For better coverage, we try to keep them in lowercase):"
   ]
  },
  {
   "cell_type": "code",
   "execution_count": 11,
   "metadata": {
    "deletable": false,
    "editable": false,
    "nbgrader": {
     "cell_type": "code",
     "checksum": "9409713fd26eb0c33587e190638997c4",
     "grade": false,
     "grade_id": "cell-7357aa40f64e5bcb",
     "locked": true,
     "schema_version": 3,
     "solution": false,
     "task": false
    }
   },
   "outputs": [],
   "source": [
    "def load_stopwords(root_folder = \"./datasets/\"):\n",
    "    \"\"\"\n",
    "        Loads the stopwords. The dataset is assumed to be in the folder \"./datasets/\" by default\n",
    "        Output: A set of stopwords\n",
    "    \"\"\"\n",
    "    with open(os.path.join(root_folder, \"common_words\")) as reader:\n",
    "        lines = reader.readlines()\n",
    "    stopwords = set([l.strip().lower() for l in lines])\n",
    "    return stopwords\n"
   ]
  },
  {
   "cell_type": "code",
   "execution_count": 12,
   "metadata": {
    "deletable": false,
    "editable": false,
    "nbgrader": {
     "cell_type": "code",
     "checksum": "f1c8153c3c38133bc2db6e7b076ad470",
     "grade": false,
     "grade_id": "cell-2ca3ac162004de97",
     "locked": true,
     "schema_version": 3,
     "solution": false,
     "task": false
    }
   },
   "outputs": [],
   "source": [
    "##### Function check\n",
    "stopwords = load_stopwords()\n",
    "\n",
    "assert isinstance(stopwords, set)\n",
    "assert len(stopwords) == 428, \"There should be exactly 428 stop words\"\n",
    "\n",
    "assert np.sum(np.array(list(map(len,stopwords)))) == 2234\n",
    "\n",
    "##### \n"
   ]
  },
  {
   "cell_type": "markdown",
   "metadata": {
    "deletable": false,
    "editable": false,
    "nbgrader": {
     "cell_type": "markdown",
     "checksum": "92c1191e9e7291dcf0d70dc67b907a65",
     "grade": false,
     "grade_id": "cell-134b72872f4300cb",
     "locked": true,
     "schema_version": 3,
     "solution": false,
     "task": false
    }
   },
   "source": [
    "---\n",
    "### 1.4 Tokenization (3 points)\n",
    "\n",
    "We can now write some basic text processing functions. \n",
    "A first step is to tokenize the text. \n",
    "\n",
    "**Note**: Use the  `WordPunctTokenizer` available in the `nltk` library:"
   ]
  },
  {
   "cell_type": "code",
   "execution_count": 13,
   "metadata": {
    "deletable": false,
    "nbgrader": {
     "cell_type": "code",
     "checksum": "3f5564d3c75bf22fbf832b3a9b938f37",
     "grade": false,
     "grade_id": "cell-322be4c9499bdc4b",
     "locked": false,
     "schema_version": 3,
     "solution": true,
     "task": false
    }
   },
   "outputs": [],
   "source": [
    "# TODO: Implement this! (4 points)\n",
    "def tokenize(text):\n",
    "    \"\"\"\n",
    "        Tokenizes the input text. Use the WordPunctTokenizer\n",
    "        Input: text - a string\n",
    "        Output: a list of tokens\n",
    "    \"\"\"\n",
    "    # YOUR CODE HERE\n",
    "    \n",
    "    tk = nltk.WordPunctTokenizer()\n",
    "    return tk.tokenize(text)"
   ]
  },
  {
   "cell_type": "code",
   "execution_count": 14,
   "metadata": {
    "deletable": false,
    "editable": false,
    "nbgrader": {
     "cell_type": "code",
     "checksum": "e15af22c4d8ae0a3f9dac43bef7097ec",
     "grade": true,
     "grade_id": "cell-7fbf48bf7541a622",
     "locked": true,
     "points": 3,
     "schema_version": 3,
     "solution": false,
     "task": false
    }
   },
   "outputs": [
    {
     "name": "stdout",
     "output_type": "stream",
     "text": [
      "['the', 'quick', 'brown', 'fox', 'jumps', 'over', 'the', 'lazy', 'dog']\n"
     ]
    }
   ],
   "source": [
    "##### Function check\n",
    "text = \"the quick brown fox jumps over the lazy dog\"\n",
    "tokens = tokenize(text)\n",
    "\n",
    "assert isinstance(tokens, list)\n",
    "assert len(tokens) == 9\n",
    "\n",
    "print(tokens)\n",
    "# output: ['the', 'quick', 'brown', 'fox', 'jumps', 'over', 'the', 'lazy', 'dog']\n",
    "#####"
   ]
  },
  {
   "cell_type": "markdown",
   "metadata": {
    "deletable": false,
    "editable": false,
    "nbgrader": {
     "cell_type": "markdown",
     "checksum": "34210618bff4cb47aad2f03cb4b9854c",
     "grade": false,
     "grade_id": "cell-fd1b98ae61b697ca",
     "locked": true,
     "schema_version": 3,
     "solution": false,
     "task": false
    }
   },
   "source": [
    "---\n",
    "### 1.5 Stemming (2 points)\n",
    "\n",
    "Write a function to stem tokens. \n",
    "Again, you can use the nltk library for this:"
   ]
  },
  {
   "cell_type": "code",
   "execution_count": 15,
   "metadata": {
    "deletable": false,
    "nbgrader": {
     "cell_type": "code",
     "checksum": "1c4a6aa979d66158c7b6b992af43293a",
     "grade": false,
     "grade_id": "cell-e3f6c8e3f874b28d",
     "locked": false,
     "schema_version": 3,
     "solution": true,
     "task": false
    }
   },
   "outputs": [],
   "source": [
    "# TODO: Implement this! (3 points)\n",
    "def stem_token(token):\n",
    "    \"\"\"\n",
    "        Stems the given token using the PorterStemmer from the nltk library\n",
    "        Input: a single token\n",
    "        Output: the stem of the token\n",
    "    \"\"\"\n",
    "    stemmer = nltk.stem.PorterStemmer()\n",
    "    return stemmer.stem(token)"
   ]
  },
  {
   "cell_type": "code",
   "execution_count": 16,
   "metadata": {
    "deletable": false,
    "editable": false,
    "nbgrader": {
     "cell_type": "code",
     "checksum": "9363b4f09b556d424d9c895d4ab57b1c",
     "grade": true,
     "grade_id": "cell-cd6863e6ee6ed205",
     "locked": true,
     "points": 2,
     "schema_version": 3,
     "solution": false,
     "task": false
    }
   },
   "outputs": [],
   "source": [
    "##### Function check\n",
    "\n",
    "assert stem_token('owned') == 'own'\n",
    "assert stem_token('itemization') == 'item'\n",
    "#####"
   ]
  },
  {
   "cell_type": "markdown",
   "metadata": {
    "deletable": false,
    "editable": false,
    "nbgrader": {
     "cell_type": "markdown",
     "checksum": "0b311d014146da6afa1d39542fab9869",
     "grade": false,
     "grade_id": "cell-47c9f90498699110",
     "locked": true,
     "schema_version": 3,
     "solution": false,
     "task": false
    }
   },
   "source": [
    "---\n",
    "### 1.6 Summary\n",
    "\n",
    "The following function puts it all together. Given an input string, this functions tokenizes and processes it according to the flags that you set."
   ]
  },
  {
   "cell_type": "code",
   "execution_count": 17,
   "metadata": {
    "deletable": false,
    "editable": false,
    "nbgrader": {
     "cell_type": "code",
     "checksum": "2ff2d215ee8e0039c5a91fd3de12e6bd",
     "grade": false,
     "grade_id": "cell-dd0d3f46b30801da",
     "locked": true,
     "schema_version": 3,
     "solution": false,
     "task": false
    }
   },
   "outputs": [],
   "source": [
    "#### Putting it all together\n",
    "def process_text(text, stem=False, remove_stopwords=False, lowercase_text=False):\n",
    "    \n",
    "    tokens = []\n",
    "    for token in tokenize(text):\n",
    "        if remove_stopwords and token.lower() in stopwords:\n",
    "            continue\n",
    "        if stem:\n",
    "            token = stem_token(token)\n",
    "        if lowercase_text:\n",
    "            token = token.lower()\n",
    "        tokens.append(token)\n",
    "\n",
    "    return tokens\n",
    "#### "
   ]
  },
  {
   "cell_type": "markdown",
   "metadata": {
    "deletable": false,
    "editable": false,
    "nbgrader": {
     "cell_type": "markdown",
     "checksum": "02d433b18eb43654fa4306a7bf55b190",
     "grade": false,
     "grade_id": "cell-8d885bfd2edd43ae",
     "locked": true,
     "schema_version": 3,
     "solution": false,
     "task": false
    }
   },
   "source": [
    "---\n",
    "\n",
    "Let's create two sets of preprocessed documents.\n",
    "We can process the documents and queries according to these two configurations:"
   ]
  },
  {
   "cell_type": "code",
   "execution_count": 18,
   "metadata": {
    "deletable": false,
    "editable": false,
    "nbgrader": {
     "cell_type": "code",
     "checksum": "dbe4ca667be6842fdcf512fbcad50c7f",
     "grade": false,
     "grade_id": "cell-d427365ee0fb21d8",
     "locked": true,
     "schema_version": 3,
     "solution": false,
     "task": false
    }
   },
   "outputs": [],
   "source": [
    "# In this configuration:\n",
    "# Don't preprocess the text, except to tokenize \n",
    "config_1 = {\n",
    "  \"stem\": False,\n",
    "  \"remove_stopwords\" : False,\n",
    "  \"lowercase_text\": True\n",
    "} \n",
    "\n",
    "\n",
    "# In this configuration:\n",
    "# Preprocess the text, stem and remove stopwords\n",
    "config_2 = {\n",
    "  \"stem\": True,\n",
    "  \"remove_stopwords\" : True,\n",
    "  \"lowercase_text\": True, \n",
    "} \n",
    "\n",
    "####\n",
    "doc_repr_1 = []\n",
    "doc_repr_2 = []\n",
    "for (doc_id, document) in docs:\n",
    "    doc_repr_1.append((doc_id, process_text(document, **config_1)))\n",
    "    doc_repr_2.append((doc_id, process_text(document, **config_2)))\n",
    "\n",
    "####"
   ]
  },
  {
   "cell_type": "markdown",
   "metadata": {
    "deletable": false,
    "editable": false,
    "nbgrader": {
     "cell_type": "markdown",
     "checksum": "b60589aac19e80941d860d9b3f1e9a16",
     "grade": false,
     "grade_id": "cell-b1c102db61ae7495",
     "locked": true,
     "schema_version": 3,
     "solution": false,
     "task": false
    }
   },
   "source": [
    "--- \n",
    "\n",
    "## Section 2: Indexing (10 points)<a class=\"anchor\" id=\"indexing\"></a>\n",
    "\n",
    "[Back to Part 1](#part1)\n",
    "\n",
    "\n",
    "\n",
    "A retrieval function usually takes in a query document pair, and scores a query against a document.  Our document set is quite small - just a few thousand documents. However, consider a web-scale dataset with a few million documents. In such a scenario, it would become infeasible to score every query and document pair. In such a case, we can build an inverted index. From Wikipedia:\n",
    "\n",
    "> ... , an inverted index (also referred to as a postings file or inverted file) is a database index storing a mapping from content, such as words or numbers, to its locations in a table, .... The purpose of an inverted index is to allow fast full-text searches, at a cost of increased processing when a document is added to the database. ...\n",
    "\n",
    "\n",
    "Consider a simple inverted index, which maps from word to document. This can improve the performance of a retrieval system significantly. In this assignment, we consider a *simple* inverted index, which maps a word to a set of documents. In practice, however, more complex indices might be used.  \n"
   ]
  },
  {
   "cell_type": "markdown",
   "metadata": {
    "deletable": false,
    "editable": false,
    "nbgrader": {
     "cell_type": "markdown",
     "checksum": "710fd943f45523ac36fcb887cc0d4d39",
     "grade": false,
     "grade_id": "cell-fa373192c1b7bb95",
     "locked": true,
     "schema_version": 3,
     "solution": false,
     "task": false
    }
   },
   "source": [
    "### 2.1 Term Frequency-index (10 points)\n",
    "In this assignment, we will be using an index created in memory since our dataset is tiny. To get started, build a simple index that maps each `token` to a list of `(doc_id, count)` where `count` is the count of the `token` in `doc_id`.\n",
    "For consistency, build this index using a python dictionary.\n",
    "    \n",
    "Now, implement a function to build an index:"
   ]
  },
  {
   "cell_type": "code",
   "execution_count": 19,
   "metadata": {
    "deletable": false,
    "nbgrader": {
     "cell_type": "code",
     "checksum": "d4e8c6b658c469379d5fe511de05b536",
     "grade": false,
     "grade_id": "cell-077599b87e953209",
     "locked": false,
     "schema_version": 3,
     "solution": true,
     "task": false
    }
   },
   "outputs": [],
   "source": [
    "# need defaultdict to handle cases when queried word is missing from our documents\n",
    "# https://piazza.com/class/kyiksrdfk0b6te?cid=38\n",
    "# https://piazza.com/class/kyiksrdfk0b6te?cid=39\n",
    "from collections import defaultdict\n",
    "\n",
    "# TODO: Implement this! (10 points)\n",
    "def build_tf_index(documents):\n",
    "    \"\"\"\n",
    "    Build an inverted index (with counts). \n",
    "    The output is a dictionary which takes in a token and \n",
    "    returns a list of (doc_id, count) \n",
    "    where 'count' is the count of the 'token' in 'doc_id'\n",
    "    \n",
    "    Input: a list of documents - (doc_id, tokens)\n",
    "    Output: An inverted index implemented within a pyhton dictionary: \n",
    "        [token] -> [(doc_id, token_count)]\n",
    "    \"\"\"\n",
    "    # YOUR CODE HERE\n",
    "    tf_index = defaultdict(list)\n",
    "    for doc_id, tokens in documents:\n",
    "        tokens_set = set(tokens)\n",
    "        for token in tokens_set:\n",
    "            tf_index[token].append((doc_id, tokens.count(token)))\n",
    "    return tf_index"
   ]
  },
  {
   "cell_type": "markdown",
   "metadata": {
    "deletable": false,
    "editable": false,
    "nbgrader": {
     "cell_type": "markdown",
     "checksum": "15e7041b4323d2a290322de538ff7670",
     "grade": false,
     "grade_id": "cell-093aebfa504f96f2",
     "locked": true,
     "schema_version": 3,
     "solution": false,
     "task": false
    }
   },
   "source": [
    "---\n",
    "Now we can build indexed documents and preprocess the queries based on the two configurations:"
   ]
  },
  {
   "cell_type": "code",
   "execution_count": 20,
   "metadata": {
    "deletable": false,
    "editable": false,
    "nbgrader": {
     "cell_type": "code",
     "checksum": "e27540c1d8d77a3779a05f557f3f40c6",
     "grade": false,
     "grade_id": "cell-b2ff1676348b90a8",
     "locked": true,
     "schema_version": 3,
     "solution": false,
     "task": false
    }
   },
   "outputs": [],
   "source": [
    "#### Indexed documents based on the two configs\n",
    "\n",
    "# Create the 2 indices\n",
    "tf_index_1 = build_tf_index(doc_repr_1)\n",
    "tf_index_2 = build_tf_index(doc_repr_2)\n",
    "\n",
    "# This function returns the tf_index of the corresponding config\n",
    "def get_index(index_set):\n",
    "    assert index_set in {1, 2}\n",
    "    return {\n",
    "        1: tf_index_1,\n",
    "        2: tf_index_2\n",
    "    }[index_set]\n",
    "\n",
    "####\n",
    "#### Preprocessed query based on the two configs\n",
    "\n",
    "# This function preprocesses the text given the index set, according to the specified config\n",
    "def preprocess_query(text, index_set):\n",
    "    assert index_set in {1, 2}\n",
    "    if index_set == 1:\n",
    "        return process_text(text, **config_1)\n",
    "    elif index_set == 2:\n",
    "        return process_text(text, **config_2)\n",
    "\n",
    "#### "
   ]
  },
  {
   "cell_type": "code",
   "execution_count": 21,
   "metadata": {
    "deletable": false,
    "editable": false,
    "nbgrader": {
     "cell_type": "code",
     "checksum": "f0cbc8703e1248cd6edf03f9019b69db",
     "grade": true,
     "grade_id": "cell-fc7c7232d5d2ee46",
     "locked": true,
     "points": 5,
     "schema_version": 3,
     "solution": false,
     "task": false
    }
   },
   "outputs": [
    {
     "name": "stdout",
     "output_type": "stream",
     "text": [
      "sample tf index for computer: [('4', 1), ('7', 1), ('10', 1), ('13', 1), ('19', 1), ('22', 1), ('23', 1), ('37', 1), ('40', 3), ('41', 1)]\n",
      "sample tf index for examples: [('111', 1), ('320', 1), ('644', 1), ('691', 1), ('727', 1), ('848', 1), ('892', 1), ('893', 1), ('1049', 1), ('1051', 1)]\n"
     ]
    }
   ],
   "source": [
    "##### Function check\n",
    "\n",
    "assert isinstance(tf_index_1, dict)\n",
    "\n",
    "assert isinstance(tf_index_1['computer'], list)\n",
    "print('sample tf index for computer:', tf_index_1['computer'][:10])\n",
    "\n",
    "assert isinstance(tf_index_1['examples'], list)\n",
    "print('sample tf index for examples:', tf_index_1['examples'][:10])\n",
    "#### "
   ]
  },
  {
   "cell_type": "code",
   "execution_count": 22,
   "metadata": {
    "deletable": false,
    "editable": false,
    "nbgrader": {
     "cell_type": "code",
     "checksum": "d49b8ac36815d9a5cb4bed838ab53a50",
     "grade": true,
     "grade_id": "cell-ff06bd11204db250",
     "locked": true,
     "points": 5,
     "schema_version": 3,
     "solution": false,
     "task": false
    }
   },
   "outputs": [
    {
     "name": "stdout",
     "output_type": "stream",
     "text": [
      "sample tf index for computer: [('4', 1), ('7', 1), ('10', 1), ('13', 1), ('19', 1), ('22', 1), ('23', 1), ('37', 1), ('40', 3), ('41', 1)]\n",
      "sample tf index for examples: []\n"
     ]
    }
   ],
   "source": [
    "##### Function check\n",
    "\n",
    "assert isinstance(tf_index_2, dict)\n",
    "\n",
    "assert isinstance(tf_index_2['computer'], list)\n",
    "print('sample tf index for computer:', tf_index_1['computer'][:10])\n",
    "\n",
    "assert isinstance(tf_index_2['examples'], list)\n",
    "print('sample tf index for examples:', tf_index_2['examples'][:10])\n",
    "#### "
   ]
  },
  {
   "cell_type": "markdown",
   "metadata": {
    "deletable": false,
    "editable": false,
    "nbgrader": {
     "cell_type": "markdown",
     "checksum": "880b2ef3ca405f2af6e0667d2dc7a600",
     "grade": false,
     "grade_id": "cell-89eba71f04310291",
     "locked": true,
     "schema_version": 3,
     "solution": false,
     "task": false
    }
   },
   "source": [
    "\n",
    "---\n",
    "## Section 3: Ranking  (80 points) <a class=\"anchor\" id=\"ranking\"></a>\n",
    "\n",
    "[Back to Part 1](#part1)\n",
    "\n",
    "Now that we have cleaned and processed our dataset, we can start building simple IR systems. \n",
    "\n",
    "For now, we consider *simple* IR systems, which involve computing scores from the tokens present in the document/query. More advanced methods are covered in later assignments.\n",
    "\n",
    "We will implement the following methods in this section:\n",
    "- [Section 3.1: Bag of Words](#bow) (10 points)\n",
    "- [Section 3.2: TF-IDF](#tfidf) (15 points)\n",
    "- [Section 3.3: Query Likelihood Model](#qlm) (35 points)\n",
    "- [Section 3.4: BM25](#bm25) (20 points)\n",
    "\n",
    "*All search functions should be able to handle multiple words queries.*\n",
    "\n",
    "**Scoring policy:**\n",
    "Your implementations in this section are scored based on the expected performance of your ranking functions.\n",
    "You will get a full mark if your implementation meets the expected performance (measured by some evaluation metric).\n",
    "Otherwise, you may get partial credit.\n",
    "For example, if your *Bag of words* ranking function has 60% of expected performance, you will get 6 out of 10."
   ]
  },
  {
   "cell_type": "markdown",
   "metadata": {
    "deletable": false,
    "editable": false,
    "nbgrader": {
     "cell_type": "markdown",
     "checksum": "6c74e5061917358300c6e8085ec07864",
     "grade": false,
     "grade_id": "cell-3daf70a60e393adf",
     "locked": true,
     "schema_version": 3,
     "solution": false,
     "task": false
    }
   },
   "source": [
    "--- \n",
    "\n",
    "### Section 3.1: Bag of Words (10 points)<a class=\"anchor\" id=\"bow\"></a>\n",
    "\n",
    "Probably the simplest IR model is the Bag of Words (BOW) model.\n",
    "Implement a function that scores and ranks all the documents against a query using this model.   \n",
    "\n",
    "- For consistency, you should use the count of the token and **not** the binary indicator.\n",
    "- Use `float` type for the scores (even though the scores are integers in this case).\n",
    "- No normalization of the scores is necessary, as the ordering is what we are interested in.\n",
    "- If two documents have the same score, they can have any ordering: you are not required to disambiguate.\n"
   ]
  },
  {
   "cell_type": "code",
   "execution_count": 23,
   "metadata": {
    "deletable": false,
    "nbgrader": {
     "cell_type": "code",
     "checksum": "fee4640e22bfc4f05eb958a675ef40e7",
     "grade": false,
     "grade_id": "cell-de9cf0459c4b9324",
     "locked": false,
     "schema_version": 3,
     "solution": true,
     "task": false
    }
   },
   "outputs": [],
   "source": [
    "# TODO: Implement this! (10 points)\n",
    "def bow_search(query, index_set):\n",
    "    \"\"\"\n",
    "    Perform a search over all documents with the given query.\n",
    "    Note: You have to use the `get_index` function created in the previous cells\n",
    "    Input:\n",
    "        query - a (unprocessed) query\n",
    "        index_set - the index to use\n",
    "    Output: a list of (document_id, score),\n",
    "        sorted in descending relevance to the given query.\n",
    "    \"\"\"\n",
    "    index = get_index(index_set)\n",
    "    processed_query = preprocess_query(query, index_set)\n",
    "\n",
    "    # YOUR CODE HERE\n",
    "    # total count per document\n",
    "    documents = defaultdict(float)\n",
    "    # we take a set of processed_query to avoid double counting repeated words in query\n",
    "    for token in set(processed_query):\n",
    "        for document in index[token]:\n",
    "            # aggregate counts of this token across all documents\n",
    "            documents[document[0]] += document[1]\n",
    "    # convert documents to list and sort descending\n",
    "    documents = sorted(list(documents.items()), key=lambda x: x[1], reverse=True)\n",
    "    return documents"
   ]
  },
  {
   "cell_type": "code",
   "execution_count": 24,
   "metadata": {
    "deletable": false,
    "editable": false,
    "nbgrader": {
     "cell_type": "code",
     "checksum": "613524fbbf02b1d122c6611a71fbf11b",
     "grade": true,
     "grade_id": "cell-9f6aceae6dd9125f",
     "locked": true,
     "points": 2,
     "schema_version": 3,
     "solution": false,
     "task": false
    }
   },
   "outputs": [],
   "source": [
    "#### Function check\n",
    "\n",
    "test_bow = bow_search(\"how to implement bag of words search\", index_set=1)[:5]\n",
    "assert isinstance(test_bow, list)\n",
    "assert len(test_bow[0]) == 2\n",
    "assert isinstance(test_bow[0][0], str)\n",
    "assert isinstance(test_bow[0][1], float)\n",
    "\n",
    "#### "
   ]
  },
  {
   "cell_type": "code",
   "execution_count": 25,
   "metadata": {
    "deletable": false,
    "editable": false,
    "nbgrader": {
     "cell_type": "code",
     "checksum": "9af20897659edb62fe77598483590500",
     "grade": true,
     "grade_id": "cell-4eed3abf233d9b58",
     "locked": true,
     "points": 2,
     "schema_version": 3,
     "solution": false,
     "task": false
    }
   },
   "outputs": [
    {
     "name": "stdout",
     "output_type": "stream",
     "text": [
      "BOW Results:\n",
      "Rank 0(1.3e+01): On Computing The Fast Fourier Transform\\nCooley an...\n",
      "Rank 1(1.2e+01): Variable Length Tree Structures Having Minimum Ave...\n",
      "Rank 2(1.1e+01): A Modular Computer Sharing System\\nAn alternative ...\n",
      "Rank 3(1e+01): PEEKABIT, Computer Offspring of Punched\\nCard PEEK...\n",
      "Rank 4(9.0): Computer Simulation-Discussion of the\\nTechnique a...\n"
     ]
    }
   ],
   "source": [
    "\n",
    "docs_by_id = dict(docs)\n",
    "def print_results(docs, len_limit=50):    \n",
    "    for i, (doc_id, score) in enumerate(docs):\n",
    "        doc_content = docs_by_id[doc_id].strip().replace(\"\\n\", \"\\\\n\")[:len_limit] + \"...\"\n",
    "        print(f\"Rank {i}({score:.2}): {doc_content}\")\n",
    "\n",
    "test_bow_2 = bow_search(\"computer search word\", index_set=2)[:5]\n",
    "print(f\"BOW Results:\")\n",
    "print_results(test_bow_2)\n"
   ]
  },
  {
   "cell_type": "code",
   "execution_count": 26,
   "metadata": {
    "deletable": false,
    "editable": false,
    "nbgrader": {
     "cell_type": "code",
     "checksum": "3c9c8b16c8e7d1032f101e9da8a6e845",
     "grade": true,
     "grade_id": "cell-4d65a2d7090c466c",
     "locked": true,
     "points": 3,
     "schema_version": 3,
     "solution": false,
     "task": false
    }
   },
   "outputs": [
    {
     "name": "stdout",
     "output_type": "stream",
     "text": [
      "BOW Results:\n",
      "Rank 0(9.0): Variable Length Tree Structures Having Minimum Ave...\n",
      "Rank 1(9.0): CURRICULUM 68 -- Recommendations for Academic\\nPro...\n",
      "Rank 2(7.0): Computer Formulation of the Equations of Motion Us...\n",
      "Rank 3(7.0): The Effects of Multiplexing on a Computer-Communic...\n",
      "Rank 4(6.0): On the Feasibility of Voice Input to\\nan On-line C...\n"
     ]
    }
   ],
   "source": [
    "\n",
    "test_bow_1 = bow_search(\"computer search word\", index_set=1)[:5]\n",
    "print(f\"BOW Results:\")\n",
    "print_results(test_bow_1)\n"
   ]
  },
  {
   "cell_type": "code",
   "execution_count": 27,
   "metadata": {
    "deletable": false,
    "editable": false,
    "nbgrader": {
     "cell_type": "code",
     "checksum": "b7e593847aa4202ae45ec061fb18ad73",
     "grade": true,
     "grade_id": "cell-dedf36ab5853ce20",
     "locked": true,
     "points": 3,
     "schema_version": 3,
     "solution": false,
     "task": false
    }
   },
   "outputs": [
    {
     "name": "stdout",
     "output_type": "stream",
     "text": [
      "top-5 docs for index1: ('1936', '1771', '1543', '2535', '2054')\n",
      "top-5 docs for index2: ('1525', '1936', '1844', '1700', '1366')\n"
     ]
    }
   ],
   "source": [
    "print('top-5 docs for index1:', list(zip(*test_bow_1[:5]))[0])\n",
    "print('top-5 docs for index2:', list(zip(*test_bow_2[:5]))[0])\n"
   ]
  },
  {
   "cell_type": "markdown",
   "metadata": {
    "deletable": false,
    "editable": false,
    "nbgrader": {
     "cell_type": "markdown",
     "checksum": "b04352ee0716dfdf094b8cdb6f32e984",
     "grade": false,
     "grade_id": "cell-a5c09c79ac1f2871",
     "locked": true,
     "schema_version": 3,
     "solution": false,
     "task": false
    }
   },
   "source": [
    "\n",
    "---\n",
    "\n",
    "### Section 3.2: TF-IDF (15 points) <a class=\"anchor\" id=\"tfidf\"></a>\n",
    "\n",
    "Before we implement the tf-idf scoring functions, let's first write a function to compute the document frequencies of all words.  \n",
    "\n",
    "#### 3.2.1 Document frequency (5 points)\n",
    "Compute the document frequencies of all tokens in the collection. \n",
    "Your code should return a dictionary with tokens as its keys and the number of documents containing the token as values.\n",
    "For consistency, the values should have `int` type."
   ]
  },
  {
   "cell_type": "code",
   "execution_count": 28,
   "metadata": {
    "deletable": false,
    "nbgrader": {
     "cell_type": "code",
     "checksum": "5c53263cf4c0b0ffcaae08b91fc364cc",
     "grade": false,
     "grade_id": "cell-9a2369f32e864b8a",
     "locked": false,
     "schema_version": 3,
     "solution": true,
     "task": false
    }
   },
   "outputs": [],
   "source": [
    "# TODO: Implement this! (5 points)\n",
    "def compute_df(documents):\n",
    "    \"\"\"\n",
    "    Compute the document frequency of all terms in the vocabulary\n",
    "    Input: A list of documents\n",
    "    Output: A dictionary with {token: document frequency (int)}\n",
    "    \"\"\"\n",
    "    # YOUR CODE HERE\n",
    "    df_dict = defaultdict(int)\n",
    "    for document in documents:\n",
    "        # we only count a token once per document, so work on the set of unique doc tokens\n",
    "        unique_doc_tokens = set(document)\n",
    "        for token in unique_doc_tokens:\n",
    "            df_dict[token] += 1\n",
    "    return df_dict"
   ]
  },
  {
   "cell_type": "code",
   "execution_count": 29,
   "metadata": {
    "deletable": false,
    "editable": false,
    "nbgrader": {
     "cell_type": "code",
     "checksum": "154985511d7925c5793a1f97dea81880",
     "grade": false,
     "grade_id": "cell-4c3bddd0b73ac90e",
     "locked": true,
     "schema_version": 3,
     "solution": false,
     "task": false
    }
   },
   "outputs": [],
   "source": [
    "#### Compute df based on the two configs\n",
    "\n",
    "# get the document frequencies of each document\n",
    "df_1 = compute_df([d[1] for d in doc_repr_1])\n",
    "df_2 = compute_df([d[1] for d in doc_repr_2])\n",
    "\n",
    "def get_df(index_set):\n",
    "    assert index_set in {1, 2}\n",
    "    return {\n",
    "        1: df_1,\n",
    "        2: df_2\n",
    "    }[index_set]\n",
    "####"
   ]
  },
  {
   "cell_type": "code",
   "execution_count": 30,
   "metadata": {
    "deletable": false,
    "editable": false,
    "nbgrader": {
     "cell_type": "code",
     "checksum": "110cc180068cf3f77c682ee3de2a117c",
     "grade": true,
     "grade_id": "cell-79e8a6db1e5fc46f",
     "locked": true,
     "points": 5,
     "schema_version": 3,
     "solution": false,
     "task": false
    }
   },
   "outputs": [
    {
     "name": "stdout",
     "output_type": "stream",
     "text": [
      "597\n",
      "11\n"
     ]
    }
   ],
   "source": [
    "#### Function check\n",
    "\n",
    "print(df_1['computer'])\n",
    "print(df_2['computer'])\n",
    "####"
   ]
  },
  {
   "cell_type": "markdown",
   "metadata": {
    "deletable": false,
    "editable": false,
    "nbgrader": {
     "cell_type": "markdown",
     "checksum": "d0d577668fa51b80aeab6e67209ae73b",
     "grade": false,
     "grade_id": "cell-52f6acc487e1b96d",
     "locked": true,
     "schema_version": 3,
     "solution": false,
     "task": false
    }
   },
   "source": [
    "---\n",
    "#### 3.2.2 TF-IDF search (10 points)\n",
    "Next, implement a function that computes a tf-idf score, given a query.\n",
    "Use the following formulas for TF and IDF:\n",
    "\n",
    "$$ TF=\\log (1 + f_{d,t}) $$\n",
    "\n",
    "$$ IDF=\\log (\\frac{N}{n_t})$$\n",
    "\n",
    "where $f_{d,t}$ is the frequency of token $t$ in document $d$, $N$ is the number of total documents and $n_t$ is the number of documents containing token $t$.\n",
    "\n",
    "**Note:** your implementation will be auto-graded assuming you have used the above formulas.\n"
   ]
  },
  {
   "cell_type": "code",
   "execution_count": 31,
   "metadata": {
    "deletable": false,
    "nbgrader": {
     "cell_type": "code",
     "checksum": "3534c44b4a3419ca1db98eebe7115dc1",
     "grade": false,
     "grade_id": "cell-2fb5ba34b2994cd9",
     "locked": false,
     "schema_version": 3,
     "solution": true,
     "task": false
    }
   },
   "outputs": [],
   "source": [
    "# TODO: Implement this! (10 points)\n",
    "def tfidf_search(query, index_set):\n",
    "    \"\"\"\n",
    "    Perform a search over all documents with the given query using tf-idf.\n",
    "    Note #1: You have to use the `get_index` (and the `get_df`) function \n",
    "    created in the previous cells\n",
    "    Input:\n",
    "        query - a (unprocessed) query\n",
    "        index_set - the index to use\n",
    "    Output: a list of (document_id, score), \n",
    "        sorted in descending relevance to the given query\n",
    "    \"\"\"\n",
    "    index = get_index(index_set)\n",
    "    df = get_df(index_set)\n",
    "    processed_query = preprocess_query(query, index_set)\n",
    "\n",
    "    N = len(docs)\n",
    "    # YOUR CODE HERE\n",
    "    documents = defaultdict(float)\n",
    "    for token in set(processed_query):\n",
    "        for document_id, token_count in index[token]:\n",
    "            tf = np.log(1 + token_count)\n",
    "            idf = np.log(N/df[token])\n",
    "            tf_idf = tf*idf\n",
    "            documents[document_id] += tf_idf\n",
    "    # convert documents to list and sort descending\n",
    "    documents = sorted(list(documents.items()), key=lambda x: x[1], reverse=True)\n",
    "    return documents"
   ]
  },
  {
   "cell_type": "code",
   "execution_count": 32,
   "metadata": {
    "deletable": false,
    "editable": false,
    "nbgrader": {
     "cell_type": "code",
     "checksum": "7b66a514663d898694b09a23a597312b",
     "grade": true,
     "grade_id": "cell-bc68aeeacf42beb3",
     "locked": true,
     "points": 2,
     "schema_version": 3,
     "solution": false,
     "task": false
    }
   },
   "outputs": [],
   "source": [
    "\n",
    "#### Function check\n",
    "test_tfidf = tfidf_search(\"how to implement tf idf search\", index_set=1)[:5]\n",
    "assert isinstance(test_tfidf, list)\n",
    "assert len(test_tfidf[0]) == 2\n",
    "assert isinstance(test_tfidf[0][0], str)\n",
    "assert isinstance(test_tfidf[0][1], float)\n",
    "\n",
    "####"
   ]
  },
  {
   "cell_type": "code",
   "execution_count": 33,
   "metadata": {
    "deletable": false,
    "editable": false,
    "nbgrader": {
     "cell_type": "code",
     "checksum": "98fb1326cf4bf7983ae237ca8a9105f9",
     "grade": true,
     "grade_id": "cell-c7702fa8179fadb9",
     "locked": true,
     "points": 2,
     "schema_version": 3,
     "solution": false,
     "task": false
    }
   },
   "outputs": [
    {
     "name": "stdout",
     "output_type": "stream",
     "text": [
      "TFIDF Results:\n",
      "Rank 0(1.3e+01): PEEKABIT, Computer Offspring of Punched\\nCard PEEK...\n",
      "Rank 1(9.8): Variable Length Tree Structures Having Minimum Ave...\n",
      "Rank 2(8.2): A Stochastic Approach to the Grammatical Coding of...\n",
      "Rank 3(8.1): Full Table Quadratic Searching for Scatter Storage...\n",
      "Rank 4(7.6): Use of Tree Structures for Processing Files\\nIn da...\n"
     ]
    }
   ],
   "source": [
    "\n",
    "test_tfidf_2 = tfidf_search(\"computer word search\", index_set=2)[:5]\n",
    "print(f\"TFIDF Results:\")\n",
    "print_results(test_tfidf_2)\n"
   ]
  },
  {
   "cell_type": "code",
   "execution_count": 34,
   "metadata": {
    "deletable": false,
    "editable": false,
    "nbgrader": {
     "cell_type": "code",
     "checksum": "733b5b67be5e53989f5b763ce5e52ee9",
     "grade": true,
     "grade_id": "cell-3284f50ac29abbaa",
     "locked": true,
     "points": 3,
     "schema_version": 3,
     "solution": false,
     "task": false
    }
   },
   "outputs": [
    {
     "name": "stdout",
     "output_type": "stream",
     "text": [
      "TFIDF Results:\n",
      "Rank 0(9.4): Variable Length Tree Structures Having Minimum Ave...\n",
      "Rank 1(7.4): On the Feasibility of Voice Input to\\nan On-line C...\n",
      "Rank 2(7.3): Median Split Trees: A Fast Lookup Technique for Fr...\n",
      "Rank 3(7.0): Execution Time Requirements for Encipherment Progr...\n",
      "Rank 4(7.0): Storage and Search Properties of a Tree-Organized ...\n"
     ]
    }
   ],
   "source": [
    "\n",
    "test_tfidf_1 = tfidf_search(\"computer word search\", index_set=1)[:5]\n",
    "print(f\"TFIDF Results:\")\n",
    "print_results(test_tfidf_1)\n"
   ]
  },
  {
   "cell_type": "code",
   "execution_count": 35,
   "metadata": {
    "deletable": false,
    "editable": false,
    "nbgrader": {
     "cell_type": "code",
     "checksum": "e0edb37a5ae807a2de85d578c87ccb78",
     "grade": true,
     "grade_id": "cell-d908c80a3155354b",
     "locked": true,
     "points": 3,
     "schema_version": 3,
     "solution": false,
     "task": false
    }
   },
   "outputs": [
    {
     "name": "stdout",
     "output_type": "stream",
     "text": [
      "top-5 docs for index1 with BOW search: ('1936', '1771', '1543', '2535', '2054')\n",
      "top-5 docs for index2 with BOW search: ('1525', '1936', '1844', '1700', '1366')\n",
      "top-5 docs for index1 with TF-IDF search: ('1936', '2054', '3041', '2620', '944')\n",
      "top-5 docs for index2 with TF-IDF search: ('1700', '1936', '1235', '2018', '849')\n"
     ]
    }
   ],
   "source": [
    "\n",
    "print('top-5 docs for index1 with BOW search:', list(zip(*test_bow_1[:5]))[0])\n",
    "print('top-5 docs for index2 with BOW search:', list(zip(*test_bow_2[:5]))[0])\n",
    "print('top-5 docs for index1 with TF-IDF search:', list(zip(*test_tfidf_1[:5]))[0])\n",
    "print('top-5 docs for index2 with TF-IDF search:', list(zip(*test_tfidf_2[:5]))[0])\n",
    "\n"
   ]
  },
  {
   "cell_type": "markdown",
   "metadata": {
    "deletable": false,
    "editable": false,
    "nbgrader": {
     "cell_type": "markdown",
     "checksum": "cdffc83f0eaea937cf64a212e7e9af8d",
     "grade": false,
     "grade_id": "cell-f5d923459ba21733",
     "locked": true,
     "schema_version": 3,
     "solution": false,
     "task": false
    }
   },
   "source": [
    "--- \n",
    "\n",
    "### Section 3.3: Query Likelihood Model (35 points) <a class=\"anchor\" id=\"qlm\"></a>\n",
    "\n",
    "In this section, you will implement a simple query likelihood model. \n",
    "\n",
    "\n",
    "#### 3.3.1 Naive QL (15 points)\n",
    "\n",
    "First, let us implement a naive version of a QL model, assuming a multinomial unigram language model (with a uniform prior over the documents). \n",
    "\n"
   ]
  },
  {
   "cell_type": "code",
   "execution_count": 36,
   "metadata": {
    "deletable": false,
    "editable": false,
    "nbgrader": {
     "cell_type": "code",
     "checksum": "b7ae2b7d818b428b4638c1c9206d2aca",
     "grade": false,
     "grade_id": "cell-98505778f7b68e7f",
     "locked": true,
     "schema_version": 3,
     "solution": false,
     "task": false
    }
   },
   "outputs": [],
   "source": [
    "#### Document length for normalization\n",
    "\n",
    "def doc_lengths(documents):\n",
    "    doc_lengths = {doc_id:len(doc) for (doc_id, doc) in documents}\n",
    "    return doc_lengths\n",
    "\n",
    "doc_lengths_1 = doc_lengths(doc_repr_1)\n",
    "doc_lengths_2 = doc_lengths(doc_repr_2)\n",
    "\n",
    "def get_doc_lengths(index_set):\n",
    "    assert index_set in {1, 2}\n",
    "    return {\n",
    "        1: doc_lengths_1,\n",
    "        2: doc_lengths_2\n",
    "    }[index_set]\n",
    "####"
   ]
  },
  {
   "cell_type": "code",
   "execution_count": 37,
   "metadata": {
    "deletable": false,
    "nbgrader": {
     "cell_type": "code",
     "checksum": "cedd08303a914243fefdb6b876977ca1",
     "grade": false,
     "grade_id": "cell-8bcf2b804d636c2e",
     "locked": false,
     "schema_version": 3,
     "solution": true,
     "task": false
    }
   },
   "outputs": [],
   "source": [
    "# TODO: Implement this! (15 points)\n",
    "def naive_ql_search(query, index_set):\n",
    "    \"\"\"\n",
    "    Perform a search over all documents with the given query using a naive QL model.\n",
    "    Note #1: You have to use the `get_index` (and get_doc_lengths) function\n",
    "        created in the previous cells\n",
    "    Input:\n",
    "        query - a (unprocessed) query\n",
    "        index_set - the index to use\n",
    "    Output: a list of (document_id, score), sorted in descending relevance\n",
    "        to the given query\n",
    "    \"\"\"\n",
    "    index = get_index(index_set)\n",
    "    doc_lengths = get_doc_lengths(index_set)\n",
    "    processed_query = preprocess_query(query, index_set)\n",
    "    # YOUR CODE HERE\n",
    "    documents = {}\n",
    "    for token in set(processed_query):\n",
    "        for document_id, token_count in index[token]:\n",
    "            # page 255 of Croft et al.\n",
    "            p_qD = token_count / doc_lengths[document_id]\n",
    "            if document_id not in documents:\n",
    "                documents[document_id] = p_qD\n",
    "            else:\n",
    "                documents[document_id] *= p_qD\n",
    "    # convert documents to list and sort descending\n",
    "    documents = sorted(list(documents.items()), key=lambda x: x[1], reverse=True)\n",
    "    return documents"
   ]
  },
  {
   "cell_type": "code",
   "execution_count": 38,
   "metadata": {
    "deletable": false,
    "editable": false,
    "nbgrader": {
     "cell_type": "code",
     "checksum": "b550d15bdad28354c336020a00c33d56",
     "grade": true,
     "grade_id": "cell-5a83ac12ecde8578",
     "locked": true,
     "points": 3,
     "schema_version": 3,
     "solution": false,
     "task": false
    }
   },
   "outputs": [
    {
     "name": "stdout",
     "output_type": "stream",
     "text": [
      "Naive QL Results:\n",
      "Rank 0(0.2): A Report Writer For COBOL...\n",
      "Rank 1(0.2): A CRT Report Generating System...\n",
      "Rank 2(0.17): Preliminary Report-International Algebraic Languag...\n",
      "Rank 3(0.17): Supplement to the ALGOL 60 Report...\n",
      "Rank 4(0.14): ALGOL Sub-Committee Report - Extensions...\n"
     ]
    }
   ],
   "source": [
    "#### Function check\n",
    "test_naiveql = naive_ql_search(\"report\", index_set=1)[:5]\n",
    "print(f\"Naive QL Results:\")\n",
    "print_results(test_naiveql)\n",
    "####"
   ]
  },
  {
   "cell_type": "code",
   "execution_count": 39,
   "metadata": {
    "deletable": false,
    "editable": false,
    "nbgrader": {
     "cell_type": "code",
     "checksum": "799df1d81c63fe90edbb6c218fc707fb",
     "grade": true,
     "grade_id": "cell-80f4bf2137f997bb",
     "locked": true,
     "points": 2,
     "schema_version": 3,
     "solution": false,
     "task": false
    }
   },
   "outputs": [],
   "source": [
    "#### Please do not change this. This cell is used for grading."
   ]
  },
  {
   "cell_type": "code",
   "execution_count": 40,
   "metadata": {
    "deletable": false,
    "editable": false,
    "nbgrader": {
     "cell_type": "code",
     "checksum": "875a4a517d27e20625d41783cebec118",
     "grade": true,
     "grade_id": "cell-5ce2993458a8ce51",
     "locked": true,
     "points": 3,
     "schema_version": 3,
     "solution": false,
     "task": false
    }
   },
   "outputs": [],
   "source": [
    "#### Please do not change this. This cell is used for grading."
   ]
  },
  {
   "cell_type": "code",
   "execution_count": 41,
   "metadata": {
    "deletable": false,
    "editable": false,
    "nbgrader": {
     "cell_type": "code",
     "checksum": "d5c4e1c3852e71a46f32825b122f1b71",
     "grade": true,
     "grade_id": "cell-7753bdb54e292f3d",
     "locked": true,
     "points": 3,
     "schema_version": 3,
     "solution": false,
     "task": false
    }
   },
   "outputs": [],
   "source": [
    "#### Please do not change this. This cell is used for grading."
   ]
  },
  {
   "cell_type": "code",
   "execution_count": 42,
   "metadata": {
    "deletable": false,
    "editable": false,
    "nbgrader": {
     "cell_type": "code",
     "checksum": "c4d4332d4356e89ce0240f6b80e1899a",
     "grade": true,
     "grade_id": "cell-54e476e2f96e64bb",
     "locked": true,
     "points": 4,
     "schema_version": 3,
     "solution": false,
     "task": false
    }
   },
   "outputs": [],
   "source": [
    "#### Please do not change this. This cell is used for grading."
   ]
  },
  {
   "cell_type": "markdown",
   "metadata": {
    "deletable": false,
    "editable": false,
    "nbgrader": {
     "cell_type": "markdown",
     "checksum": "8d739dc91a22bd48897f603885f95a74",
     "grade": false,
     "grade_id": "cell-5414dfd69dab8b94",
     "locked": true,
     "schema_version": 3,
     "solution": false,
     "task": false
    }
   },
   "source": [
    "---\n",
    "#### 3.3.2 QL (20 points)\n",
    "Now, let's implement a QL model that handles the issues with the naive version. In particular, you will implement a QL model with Jelinek-Mercer Smoothing. That means an interpolated score is computed per word - one term is the same as the previous naive version, and the second term comes from a unigram language model. In addition, you should accumulate the scores by summing the **log** (smoothed) probability which leads to better numerical stability."
   ]
  },
  {
   "cell_type": "code",
   "execution_count": 43,
   "metadata": {
    "deletable": false,
    "nbgrader": {
     "cell_type": "code",
     "checksum": "b8c6abf937ad333e628f1db891f2e29e",
     "grade": false,
     "grade_id": "cell-bb1f506409771257",
     "locked": false,
     "schema_version": 3,
     "solution": true,
     "task": false
    }
   },
   "outputs": [],
   "source": [
    "# TODO: Implement this! (20 points)\n",
    "\n",
    "def ql_search(query, index_set):\n",
    "    \"\"\"\n",
    "    Perform a search over all documents with the given query using a QL model\n",
    "    with Jelinek-Mercer Smoothing (set smoothing=0.1).\n",
    "\n",
    "    Note #1: You have to use the `get_index` (and get_doc_lengths) function\n",
    "        created in the previous cells\n",
    "    Note #2: You might have to create some variables beforehand and\n",
    "        use them in this function\n",
    "\n",
    "    Input:\n",
    "        query - a (unprocessed) query\n",
    "        index_set - the index to use\n",
    "    Output: a list of (document_id, score), sorted in descending relevance\n",
    "        to the given query\n",
    "    \"\"\"\n",
    "    index = get_index(index_set)\n",
    "    doc_lengths = get_doc_lengths(index_set)\n",
    "    processed_query = preprocess_query(query, index_set)\n",
    "    # YOUR CODE HERE\n",
    "\n",
    "    # total number of words in the collection\n",
    "    C = np.sum([length for _doc, length in doc_lengths.items()])\n",
    "    # count of word occurences across collection for each word in index\n",
    "    coll_index = {\n",
    "        token: np.sum([tok_count for _doc_id, tok_count in doc_counts])\n",
    "        for token, doc_counts in index.items()\n",
    "    }\n",
    "    # \"(set smoothing=0.1)\"\n",
    "    lambd = 0.1\n",
    "    documents = {}\n",
    "    for token in processed_query:\n",
    "        for document_id, token_count in index[token]:\n",
    "            # page 257 of Croft et al.\n",
    "            p_qD = np.log(\n",
    "                (1 - lambd) * token_count / doc_lengths[document_id]\n",
    "                + lambd * coll_index[token] / C\n",
    "            )\n",
    "            if document_id not in documents:\n",
    "                documents[document_id] = p_qD\n",
    "            else:\n",
    "                documents[document_id] += p_qD\n",
    "    # convert documents to list and sort descending\n",
    "    documents = sorted(list(documents.items()), key=lambda x: x[1], reverse=True)\n",
    "    return documents"
   ]
  },
  {
   "cell_type": "code",
   "execution_count": 44,
   "metadata": {
    "deletable": false,
    "editable": false,
    "nbgrader": {
     "cell_type": "code",
     "checksum": "0b12a7f3355193a257fd9f5f69a66562",
     "grade": true,
     "grade_id": "cell-850e9d6369bcec32",
     "locked": true,
     "points": 4,
     "schema_version": 3,
     "solution": false,
     "task": false
    }
   },
   "outputs": [
    {
     "name": "stdout",
     "output_type": "stream",
     "text": [
      "Rank 0(-1.7): A Report Writer For COBOL...\n",
      "Rank 1(-1.7): A CRT Report Generating System...\n",
      "Rank 2(-1.9): Preliminary Report-International Algebraic Languag...\n",
      "Rank 3(-1.9): Supplement to the ALGOL 60 Report...\n",
      "Rank 4(-2.1): ALGOL Sub-Committee Report - Extensions...\n",
      "\n",
      "Rank 0(-1.7e+01): A Report Writer For COBOL...\n",
      "Rank 1(-1.7e+01): A CRT Report Generating System...\n",
      "Rank 2(-1.9e+01): Preliminary Report-International Algebraic Languag...\n",
      "Rank 3(-1.9e+01): Supplement to the ALGOL 60 Report...\n",
      "Rank 4(-2.1e+01): ALGOL Sub-Committee Report - Extensions...\n"
     ]
    }
   ],
   "source": [
    "#### Function check\n",
    "test_ql_results = ql_search(\"report\", index_set=1)[:5]\n",
    "print_results(test_ql_results)\n",
    "print()\n",
    "test_ql_results_long = ql_search(\"report \" * 10, index_set=1)[:5]\n",
    "print_results(test_ql_results_long)\n",
    "####"
   ]
  },
  {
   "cell_type": "code",
   "execution_count": 45,
   "metadata": {
    "deletable": false,
    "editable": false,
    "nbgrader": {
     "cell_type": "code",
     "checksum": "e40be645140389c115849856145f5b59",
     "grade": true,
     "grade_id": "cell-958cdcf6fd6899b7",
     "locked": true,
     "points": 3,
     "schema_version": 3,
     "solution": false,
     "task": false
    }
   },
   "outputs": [],
   "source": [
    "#### Please do not change this. This cell is used for grading."
   ]
  },
  {
   "cell_type": "code",
   "execution_count": 46,
   "metadata": {
    "deletable": false,
    "editable": false,
    "nbgrader": {
     "cell_type": "code",
     "checksum": "41d4aff001df17e7963ba79b45810b30",
     "grade": true,
     "grade_id": "cell-384dc23a0c251f6e",
     "locked": true,
     "points": 4,
     "schema_version": 3,
     "solution": false,
     "task": false
    }
   },
   "outputs": [],
   "source": [
    "#### Please do not change this. This cell is used for grading."
   ]
  },
  {
   "cell_type": "code",
   "execution_count": 47,
   "metadata": {
    "deletable": false,
    "editable": false,
    "nbgrader": {
     "cell_type": "code",
     "checksum": "893e8c5a073abc8ebb763d267b91bc02",
     "grade": true,
     "grade_id": "cell-7218966cba5097cc",
     "locked": true,
     "points": 4,
     "schema_version": 3,
     "solution": false,
     "task": false
    }
   },
   "outputs": [],
   "source": [
    "#### Please do not change this. This cell is used for grading."
   ]
  },
  {
   "cell_type": "code",
   "execution_count": 48,
   "metadata": {
    "deletable": false,
    "editable": false,
    "nbgrader": {
     "cell_type": "code",
     "checksum": "f99cb6f8b1f5830aaed8f06712ff846e",
     "grade": true,
     "grade_id": "cell-481ab073259ae53f",
     "locked": true,
     "points": 5,
     "schema_version": 3,
     "solution": false,
     "task": false
    }
   },
   "outputs": [],
   "source": [
    "#### Please do not change this. This cell is used for grading."
   ]
  },
  {
   "cell_type": "markdown",
   "metadata": {
    "deletable": false,
    "editable": false,
    "nbgrader": {
     "cell_type": "markdown",
     "checksum": "c02f14705d679579b1aa9f78f54779d5",
     "grade": false,
     "grade_id": "cell-f44088bfdac1dc90",
     "locked": true,
     "schema_version": 3,
     "solution": false,
     "task": false
    }
   },
   "source": [
    "--- \n",
    "\n",
    "### Section 3.4: BM25 (20 points) <a class=\"anchor\" id=\"bm25\"></a>\n",
    "\n",
    "In this section, we will implement the BM25 scoring function. \n"
   ]
  },
  {
   "cell_type": "code",
   "execution_count": null,
   "metadata": {
    "deletable": false,
    "nbgrader": {
     "cell_type": "code",
     "checksum": "e57efe06ea92af1c83784a42eb3d86e0",
     "grade": false,
     "grade_id": "cell-15640fc9b5d00a3c",
     "locked": false,
     "schema_version": 3,
     "solution": true,
     "task": false
    }
   },
   "outputs": [],
   "source": [
    "# TODO: Implement this! (20 points)\n",
    "def bm25_search(query, index_set):\n",
    "    \"\"\"\n",
    "    Perform a search over all documents with the given query using BM25.\n",
    "    Use k_1 = 1.5 and b = 0.75\n",
    "    Note #1: You have to use the `get_index` (and `get_doc_lengths`) function\n",
    "    created in the previous cells\n",
    "    Note #2: You might have to create some variables beforehand\n",
    "    and use them in this function\n",
    "\n",
    "    Input:\n",
    "        query - a (unprocessed) query\n",
    "        index_set - the index to use\n",
    "    Output: a list of (document_id, score), sorted in descending\n",
    "        relevance to the given query\n",
    "    \"\"\"\n",
    "\n",
    "    index = get_index(index_set)\n",
    "    df = get_df(index_set)\n",
    "    doc_lengths = get_doc_lengths(index_set)\n",
    "    processed_query = preprocess_query(query, index_set)\n",
    "\n",
    "    # YOUR CODE HERE\n",
    "    raise NotImplementedError()"
   ]
  },
  {
   "cell_type": "code",
   "execution_count": null,
   "metadata": {
    "deletable": false,
    "editable": false,
    "nbgrader": {
     "cell_type": "code",
     "checksum": "4be9de5d4e94637960d83725422bea6c",
     "grade": true,
     "grade_id": "cell-d10536bca72c74b1",
     "locked": true,
     "points": 3,
     "schema_version": 3,
     "solution": false,
     "task": false
    }
   },
   "outputs": [],
   "source": [
    "#### Function check\n",
    "test_bm25_results = bm25_search(\"report\", index_set=1)[:5]\n",
    "print_results(test_bm25_results)\n",
    "####"
   ]
  },
  {
   "cell_type": "code",
   "execution_count": null,
   "metadata": {
    "deletable": false,
    "editable": false,
    "nbgrader": {
     "cell_type": "code",
     "checksum": "31b550d6a46ae4f8ede88788799ac2b9",
     "grade": true,
     "grade_id": "cell-60f6ec5052712d79",
     "locked": true,
     "points": 5,
     "schema_version": 3,
     "solution": false,
     "task": false
    }
   },
   "outputs": [],
   "source": [
    "#### Please do not change this. This cell is used for grading."
   ]
  },
  {
   "cell_type": "code",
   "execution_count": null,
   "metadata": {
    "deletable": false,
    "editable": false,
    "nbgrader": {
     "cell_type": "code",
     "checksum": "3da2ec16bfe781916e71755d65aa2983",
     "grade": true,
     "grade_id": "cell-5d17524043a5abcc",
     "locked": true,
     "points": 5,
     "schema_version": 3,
     "solution": false,
     "task": false
    }
   },
   "outputs": [],
   "source": [
    "#### Please do not change this. This cell is used for grading."
   ]
  },
  {
   "cell_type": "code",
   "execution_count": null,
   "metadata": {
    "deletable": false,
    "editable": false,
    "nbgrader": {
     "cell_type": "code",
     "checksum": "e7b563d54fa84c20909c0ae107010541",
     "grade": true,
     "grade_id": "cell-ff8e704eda1184e3",
     "locked": true,
     "points": 3,
     "schema_version": 3,
     "solution": false,
     "task": false
    }
   },
   "outputs": [],
   "source": [
    "#### Please do not change this. This cell is used for grading."
   ]
  },
  {
   "cell_type": "code",
   "execution_count": null,
   "metadata": {
    "deletable": false,
    "editable": false,
    "nbgrader": {
     "cell_type": "code",
     "checksum": "b013f90974b396630a8831d6f1d7e5f7",
     "grade": true,
     "grade_id": "cell-a52310500a2543cb",
     "locked": true,
     "points": 4,
     "schema_version": 3,
     "solution": false,
     "task": false
    }
   },
   "outputs": [],
   "source": [
    "#### Please do not change this. This cell is used for grading."
   ]
  },
  {
   "cell_type": "markdown",
   "metadata": {
    "deletable": false,
    "editable": false,
    "nbgrader": {
     "cell_type": "markdown",
     "checksum": "8fcf67cb7d5e8b26cb9bf1f0aa42c847",
     "grade": false,
     "grade_id": "cell-8b2b412c81d62f2d",
     "locked": true,
     "schema_version": 3,
     "solution": false,
     "task": false
    }
   },
   "source": [
    "\n",
    "---\n",
    "\n",
    "### 3.5. Test Your Functions\n",
    "\n",
    "The widget below allows you to play with the search functions you've written so far. Use this to test your search functions and ensure that they work as expected."
   ]
  },
  {
   "cell_type": "code",
   "execution_count": null,
   "metadata": {
    "deletable": false,
    "editable": false,
    "nbgrader": {
     "cell_type": "code",
     "checksum": "dfeb204b390acc0794dbdcac92b0cf2c",
     "grade": false,
     "grade_id": "cell-c9c2bb76354e8d97",
     "locked": true,
     "schema_version": 3,
     "solution": false,
     "task": false
    }
   },
   "outputs": [],
   "source": [
    "#### Highlighter function\n",
    "# class for results\n",
    "ResultRow = namedtuple(\"ResultRow\", [\"doc_id\", \"snippet\", \"score\"])\n",
    "# doc_id -> doc\n",
    "docs_by_id = dict((d[0], d[1]) for d in docs)\n",
    "\n",
    "def highlight_text(document, query, tol=17):\n",
    "    import re\n",
    "    tokens = tokenize(query)\n",
    "    regex = \"|\".join(f\"(\\\\b{t}\\\\b)\" for t in tokens)\n",
    "    regex = re.compile(regex, flags=re.IGNORECASE)\n",
    "    output = \"\"\n",
    "    i = 0\n",
    "    for m in regex.finditer(document):\n",
    "        start_idx = max(0, m.start() - tol)\n",
    "        end_idx = min(len(document), m.end() + tol)\n",
    "        output += \"\".join([\"...\",\n",
    "                        document[start_idx:m.start()],\n",
    "                        \"<strong>\",\n",
    "                        document[m.start():m.end()],\n",
    "                        \"</strong>\",\n",
    "                        document[m.end():end_idx],\n",
    "                        \"...\"])\n",
    "    return output.replace(\"\\n\", \" \")\n",
    "\n",
    "\n",
    "def make_results(query, search_fn, index_set):\n",
    "    results = []\n",
    "    for doc_id, score in search_fn(query, index_set):\n",
    "        highlight = highlight_text(docs_by_id[doc_id], query)\n",
    "        if len(highlight.strip()) == 0:\n",
    "            highlight = docs_by_id[doc_id]\n",
    "        results.append(ResultRow(doc_id, highlight, score))\n",
    "    return results\n",
    "####"
   ]
  },
  {
   "cell_type": "code",
   "execution_count": null,
   "metadata": {},
   "outputs": [],
   "source": [
    "# TODO: Set this to the function you want to test!\n",
    "# this function should take in a query (string)\n",
    "# and return a sorted list of (doc_id, score) \n",
    "# with the most relevant document in the first position\n",
    "search_fn = bm25_search\n",
    "index_set = 1\n",
    "\n",
    "text = widgets.Text(description=\"Search Bar\", width=200)\n",
    "display(text)\n",
    "\n",
    "def handle_submit(sender):\n",
    "    print(f\"Searching for: '{sender.value}'\")\n",
    "    \n",
    "    results = make_results(sender.value, search_fn, index_set)\n",
    "    \n",
    "    # display only the top 5\n",
    "    results = results[:5]\n",
    "    \n",
    "    body = \"\"\n",
    "    for idx, r in enumerate(results):\n",
    "        body += f\"<li>Document #{r.doc_id}({r.score}): {r.snippet}</li>\"\n",
    "    display(HTML(f\"<ul>{body}</ul>\"))\n",
    "    \n",
    "\n",
    "text.on_submit(handle_submit)"
   ]
  },
  {
   "cell_type": "markdown",
   "metadata": {
    "deletable": false,
    "editable": false,
    "nbgrader": {
     "cell_type": "markdown",
     "checksum": "019b1ff878dc6339dd068e2d48d19904",
     "grade": false,
     "grade_id": "cell-8d46fe8e4f3d8cdb",
     "locked": true,
     "schema_version": 3,
     "solution": false,
     "task": false
    }
   },
   "source": [
    "---\n",
    "\n",
    "## Section 4: Evaluation (40 points) <a class=\"anchor\" id=\"evaluation\"></a>\n",
    "\n",
    "[Back to Part 1](#part1)\n",
    "\n",
    "In order to analyze the effectiveness of retrieval algorithms, we first have to learn how to evaluate such a system. In particular, we will work with offline evaluation metrics. These metrics are computed on a dataset with known relevance judgements.\n",
    "\n",
    "Implement the following evaluation metrics. \n",
    "\n",
    "1. Precision (7 points)\n",
    "2. Recall (7 points)\n",
    "3. Mean Average Precision (13 points)\n",
    "4. Expected Reciprocal Rank (13 points)"
   ]
  },
  {
   "cell_type": "markdown",
   "metadata": {
    "deletable": false,
    "editable": false,
    "nbgrader": {
     "cell_type": "markdown",
     "checksum": "e46f54c7f81d88bbc950b0fae14c4ca5",
     "grade": false,
     "grade_id": "cell-3419fd3bc663d7cc",
     "locked": true,
     "schema_version": 3,
     "solution": false,
     "task": false
    }
   },
   "source": [
    "---\n",
    "### 4.1 Read relevance labels\n",
    "\n",
    "Let's take a look at the `qrels.text` file, which contains the ground truth relevance scores. The relevance labels for CACM are binary - either 0 or 1. \n"
   ]
  },
  {
   "cell_type": "code",
   "execution_count": null,
   "metadata": {
    "deletable": false,
    "editable": false,
    "nbgrader": {
     "cell_type": "code",
     "checksum": "6c11025f5a222796f2882c73c1634799",
     "grade": false,
     "grade_id": "cell-6b738366059dde9e",
     "locked": true,
     "schema_version": 3,
     "solution": false,
     "task": false
    }
   },
   "outputs": [],
   "source": [
    "!head ./datasets/qrels.text"
   ]
  },
  {
   "cell_type": "markdown",
   "metadata": {
    "deletable": false,
    "editable": false,
    "nbgrader": {
     "cell_type": "markdown",
     "checksum": "7ce95245c1597183320d7254afde5c8e",
     "grade": false,
     "grade_id": "cell-10e16bff2753ffbb",
     "locked": true,
     "schema_version": 3,
     "solution": false,
     "task": false
    }
   },
   "source": [
    "---\n",
    "\n",
    "The first column is the query_id and the second column is the document_id. We can safely ignore the 3rd and 4th columns."
   ]
  },
  {
   "cell_type": "code",
   "execution_count": null,
   "metadata": {
    "deletable": false,
    "nbgrader": {
     "cell_type": "code",
     "checksum": "000c6d59dce08dba0ba1e8d691dbbc2e",
     "grade": false,
     "grade_id": "cell-ee5253a4ef602fce",
     "locked": false,
     "schema_version": 3,
     "solution": true,
     "task": false
    }
   },
   "outputs": [],
   "source": [
    "# YOUR CODE HERE\n",
    "raise NotImplementedError()"
   ]
  },
  {
   "cell_type": "code",
   "execution_count": null,
   "metadata": {
    "deletable": false,
    "editable": false,
    "nbgrader": {
     "cell_type": "code",
     "checksum": "d60caeba85c2a97d2211184a5ae91fd1",
     "grade": false,
     "grade_id": "cell-72215605fbe24f65",
     "locked": true,
     "schema_version": 3,
     "solution": false,
     "task": false
    }
   },
   "outputs": [],
   "source": [
    "#### Function check\n",
    "qrels = read_qrels()\n",
    "\n",
    "assert len(qrels) == 52, \"There should be 52 queries with relevance judgements\"\n",
    "assert sum(len(j) for j in qrels.values()) == 796, \"There should be a total of 796 Relevance Judgements\"\n",
    "\n",
    "assert np.min(np.array([len(j) for j in qrels.values()])) == 1\n",
    "assert np.max(np.array([len(j) for j in qrels.values()])) == 51\n",
    "\n",
    "####"
   ]
  },
  {
   "cell_type": "markdown",
   "metadata": {
    "deletable": false,
    "editable": false,
    "nbgrader": {
     "cell_type": "markdown",
     "checksum": "6c9e7428a52e291a2cdf92a379730d4c",
     "grade": false,
     "grade_id": "cell-176a6fb2939d0420",
     "locked": true,
     "schema_version": 3,
     "solution": false,
     "task": false
    }
   },
   "source": [
    "---\n",
    "**Note:** For a given query `query_id`, you can assume that documents *not* in `qrels[query_id]` are not relevant to `query_id`. \n"
   ]
  },
  {
   "cell_type": "markdown",
   "metadata": {
    "deletable": false,
    "editable": false,
    "nbgrader": {
     "cell_type": "markdown",
     "checksum": "b26a818c7b4f7ad490e00b35ea0edd69",
     "grade": false,
     "grade_id": "cell-bd8341b72cdd89bb",
     "locked": true,
     "schema_version": 3,
     "solution": false,
     "task": false
    }
   },
   "source": [
    "---\n",
    "### 4.2 Precision (7 points)\n",
    "Implement the `precision@k` metric:"
   ]
  },
  {
   "cell_type": "code",
   "execution_count": 51,
   "metadata": {
    "deletable": false,
    "nbgrader": {
     "cell_type": "code",
     "checksum": "43dea1979ebdec24ffcfeff71c670433",
     "grade": false,
     "grade_id": "cell-494bd0cce108ed67",
     "locked": false,
     "schema_version": 3,
     "solution": true,
     "task": false
    }
   },
   "outputs": [],
   "source": [
    "# TODO: Implement this! (7 points)\n",
    "def precision_k(results, relevant_docs, k):\n",
    "    \"\"\"\n",
    "    Compute Precision@K\n",
    "    Input:\n",
    "        results: A sorted list of 2-tuples (document_id, score),\n",
    "                with the most relevant document in the first position\n",
    "        relevant_docs: A set of relevant documents.\n",
    "        k: the cut-off\n",
    "    Output: Precision@K\n",
    "    \"\"\"\n",
    "    if k > len(results):\n",
    "        k = len(results)\n",
    "    # YOUR CODE HERE\n",
    "    return np.mean([int(doc_id in relevant_docs) for doc_id in results[:k]])"
   ]
  },
  {
   "cell_type": "code",
   "execution_count": 52,
   "metadata": {
    "deletable": false,
    "editable": false,
    "nbgrader": {
     "cell_type": "code",
     "checksum": "9222e35582b1840ffb60fd02fb0b60c3",
     "grade": true,
     "grade_id": "cell-e7ff0d91c319ca64",
     "locked": true,
     "points": 7,
     "schema_version": 3,
     "solution": false,
     "task": false
    }
   },
   "outputs": [
    {
     "name": "stdout",
     "output_type": "stream",
     "text": [
      "query: What articles exist which deal with TSS (Time Sharing System), an\n",
      "operating system for IBM computers?\n"
     ]
    },
    {
     "ename": "NameError",
     "evalue": "name 'bm25_search' is not defined",
     "output_type": "error",
     "traceback": [
      "\u001b[0;31m---------------------------------------------------------------------------\u001b[0m",
      "\u001b[0;31mNameError\u001b[0m                                 Traceback (most recent call last)",
      "\u001b[0;32m<ipython-input-52-29483957a305>\u001b[0m in \u001b[0;36m<module>\u001b[0;34m\u001b[0m\n\u001b[1;32m      3\u001b[0m \u001b[0mqtext\u001b[0m \u001b[0;34m=\u001b[0m \u001b[0mqueries\u001b[0m\u001b[0;34m[\u001b[0m\u001b[0;36m0\u001b[0m\u001b[0;34m]\u001b[0m\u001b[0;34m[\u001b[0m\u001b[0;36m1\u001b[0m\u001b[0;34m]\u001b[0m\u001b[0;34m\u001b[0m\u001b[0m\n\u001b[1;32m      4\u001b[0m \u001b[0mprint\u001b[0m\u001b[0;34m(\u001b[0m\u001b[0;34mf'query:{qtext}'\u001b[0m\u001b[0;34m)\u001b[0m\u001b[0;34m\u001b[0m\u001b[0m\n\u001b[0;32m----> 5\u001b[0;31m \u001b[0mresults\u001b[0m \u001b[0;34m=\u001b[0m \u001b[0mbm25_search\u001b[0m\u001b[0;34m(\u001b[0m\u001b[0mqtext\u001b[0m\u001b[0;34m,\u001b[0m \u001b[0;36m2\u001b[0m\u001b[0;34m)\u001b[0m\u001b[0;34m\u001b[0m\u001b[0m\n\u001b[0m\u001b[1;32m      6\u001b[0m \u001b[0mprecision\u001b[0m \u001b[0;34m=\u001b[0m \u001b[0mprecision_k\u001b[0m\u001b[0;34m(\u001b[0m\u001b[0mresults\u001b[0m\u001b[0;34m,\u001b[0m \u001b[0mqrels\u001b[0m\u001b[0;34m[\u001b[0m\u001b[0mqid\u001b[0m\u001b[0;34m]\u001b[0m\u001b[0;34m,\u001b[0m \u001b[0;36m10\u001b[0m\u001b[0;34m)\u001b[0m\u001b[0;34m\u001b[0m\u001b[0m\n\u001b[1;32m      7\u001b[0m \u001b[0mprint\u001b[0m\u001b[0;34m(\u001b[0m\u001b[0;34mf'precision@10 = {precision}'\u001b[0m\u001b[0;34m)\u001b[0m\u001b[0;34m\u001b[0m\u001b[0m\n",
      "\u001b[0;31mNameError\u001b[0m: name 'bm25_search' is not defined"
     ]
    }
   ],
   "source": [
    "\n",
    "#### Function check\n",
    "qid = queries[0][0]\n",
    "qtext = queries[0][1]\n",
    "print(f'query:{qtext}')\n",
    "results = bm25_search(qtext, 2)\n",
    "precision = precision_k(results, qrels[qid], 10)\n",
    "print(f'precision@10 = {precision}')\n",
    "####"
   ]
  },
  {
   "cell_type": "markdown",
   "metadata": {
    "deletable": false,
    "editable": false,
    "nbgrader": {
     "cell_type": "markdown",
     "checksum": "8fd3b3998197c7097a40348500affb68",
     "grade": false,
     "grade_id": "cell-afd95f865bc7191e",
     "locked": true,
     "schema_version": 3,
     "solution": false,
     "task": false
    }
   },
   "source": [
    "---\n",
    "### 4.3 Recall (7 points)\n",
    "Implement the `recall@k` metric:"
   ]
  },
  {
   "cell_type": "code",
   "execution_count": 54,
   "metadata": {
    "deletable": false,
    "nbgrader": {
     "cell_type": "code",
     "checksum": "b2020e5741ae03b3fe35817ed8f4ccaa",
     "grade": false,
     "grade_id": "cell-c323fc8c3f8a7cf8",
     "locked": false,
     "schema_version": 3,
     "solution": true,
     "task": false
    }
   },
   "outputs": [],
   "source": [
    "# TODO: Implement this! (7 points)\n",
    "def recall_k(results, relevant_docs, k):\n",
    "    \"\"\"\n",
    "    Compute Recall@K\n",
    "    Input:\n",
    "        results: A sorted list of 2-tuples (document_id, score),\n",
    "            with the most relevant document in the first position\n",
    "        relevant_docs: A set of relevant documents.\n",
    "        k: the cut-off\n",
    "    Output: Recall@K\n",
    "    \"\"\"\n",
    "    # YOUR CODE HERE\n",
    "    tp = 0.0\n",
    "    fn = 0.0\n",
    "    for i, (doc_id, _score) in enumerate(results, 1):\n",
    "        if doc_id in relevant_docs:\n",
    "            if i <= k:\n",
    "                tp += 1\n",
    "            else:\n",
    "                fn += 1\n",
    "    return tp / (tp + fn)"
   ]
  },
  {
   "cell_type": "code",
   "execution_count": null,
   "metadata": {
    "deletable": false,
    "editable": false,
    "nbgrader": {
     "cell_type": "code",
     "checksum": "56b6e0b8522f8b2dffbfb3206b2efa84",
     "grade": true,
     "grade_id": "cell-b25172161aef165c",
     "locked": true,
     "points": 7,
     "schema_version": 3,
     "solution": false,
     "task": false
    }
   },
   "outputs": [],
   "source": [
    "#### Function check\n",
    "qid = queries[10][0]\n",
    "qtext = queries[10][1]\n",
    "print(f'query:{qtext}')\n",
    "results = bm25_search(qtext, 2)\n",
    "recall = recall_k(results, qrels[qid], 10)\n",
    "print(f'recall@10 = {recall}')\n",
    "####"
   ]
  },
  {
   "cell_type": "markdown",
   "metadata": {
    "deletable": false,
    "editable": false,
    "nbgrader": {
     "cell_type": "markdown",
     "checksum": "b3d3c7bd1cd977cd07ef5df7d3fbf159",
     "grade": false,
     "grade_id": "cell-77fd2e7a39a74739",
     "locked": true,
     "schema_version": 3,
     "solution": false,
     "task": false
    }
   },
   "source": [
    "---\n",
    "### 4.4 Mean Average Precision (13 points)\n",
    "Implement the `map` metric:"
   ]
  },
  {
   "cell_type": "code",
   "execution_count": 56,
   "metadata": {
    "deletable": false,
    "nbgrader": {
     "cell_type": "code",
     "checksum": "aae2c62f2ffd76f5b6c004e9519b9f14",
     "grade": false,
     "grade_id": "cell-e50925fa9093a30d",
     "locked": false,
     "schema_version": 3,
     "solution": true,
     "task": false
    }
   },
   "outputs": [],
   "source": [
    "# TODO: Implement this! (12 points)\n",
    "def average_precision(results, relevant_docs):\n",
    "    \"\"\"\n",
    "    Compute Average Precision (for a single query - the results are\n",
    "    averaged across queries to get MAP in the next few cells)\n",
    "    Hint: You can use the recall_k and precision_k functions here!\n",
    "    Input:\n",
    "        results: A sorted list of 2-tuples (document_id, score), with the most\n",
    "                relevant document in the first position\n",
    "        relevant_docs: A set of relevant documents.\n",
    "    Output: Average Precision\n",
    "    \"\"\"\n",
    "    # YOUR CODE HERE\n",
    "    # page 314 Croft et al.\n",
    "    return np.mean([precision_k(results, relevant_docs, k+1) for k in len(results)])"
   ]
  },
  {
   "cell_type": "code",
   "execution_count": null,
   "metadata": {
    "deletable": false,
    "editable": false,
    "nbgrader": {
     "cell_type": "code",
     "checksum": "3b00e147c2fa146fa59f179b7c9cab75",
     "grade": true,
     "grade_id": "cell-8a1f7ec98571e58b",
     "locked": true,
     "points": 13,
     "schema_version": 3,
     "solution": false,
     "task": false
    }
   },
   "outputs": [],
   "source": [
    "#### Function check\n",
    "qid = queries[20][0]\n",
    "qtext = queries[20][1]\n",
    "print(f'query:{qtext}')\n",
    "results = bm25_search(qtext, 2)\n",
    "mean_ap = average_precision(results, qrels[qid])\n",
    "print(f'MAP = {mean_ap}')\n",
    "####"
   ]
  },
  {
   "cell_type": "markdown",
   "metadata": {
    "deletable": false,
    "editable": false,
    "nbgrader": {
     "cell_type": "markdown",
     "checksum": "36f85f45ef52d9467ba9a717d6d99ff2",
     "grade": false,
     "grade_id": "cell-1da18f0fe6f6d7be",
     "locked": true,
     "schema_version": 3,
     "solution": false,
     "task": false
    }
   },
   "source": [
    "---\n",
    "### 4.5 Expected Reciprocal Rank (13 points)\n",
    "Implement the `err` metric:"
   ]
  },
  {
   "cell_type": "code",
   "execution_count": null,
   "metadata": {
    "deletable": false,
    "nbgrader": {
     "cell_type": "code",
     "checksum": "9ac94db728e23ea1f5dc0d509473c6fb",
     "grade": false,
     "grade_id": "cell-64262889f9b267ea",
     "locked": false,
     "schema_version": 3,
     "solution": true,
     "task": false
    }
   },
   "outputs": [],
   "source": [
    "# TODO: Implement this! (12 points)\n",
    "def err(results, relevant_docs):\n",
    "    \"\"\"\n",
    "        Compute the expected reciprocal rank.\n",
    "        Hint: https://dl.acm.org/doi/pdf/10.1145/1645953.1646033?download=true\n",
    "        Input: \n",
    "            results: A sorted list of 2-tuples (document_id, score), with the most \n",
    "                    relevant document in the first position\n",
    "            relevant_docs: A set of relevant documents. \n",
    "        Output: ERR\n",
    "        \n",
    "    \"\"\"\n",
    "    # YOUR CODE HERE\n",
    "    raise NotImplementedError()"
   ]
  },
  {
   "cell_type": "code",
   "execution_count": null,
   "metadata": {
    "deletable": false,
    "editable": false,
    "nbgrader": {
     "cell_type": "code",
     "checksum": "b7d201de0990b69d5f38704668665d87",
     "grade": true,
     "grade_id": "cell-071e3970ff1afae4",
     "locked": true,
     "points": 13,
     "schema_version": 3,
     "solution": false,
     "task": false
    }
   },
   "outputs": [],
   "source": [
    "#### Function check\n",
    "qid = queries[30][0]\n",
    "qtext = queries[30][1]\n",
    "print(f'query:{qtext}')\n",
    "results = bm25_search(qtext, 2)\n",
    "ERR = err(results, qrels[qid])\n",
    "print(f'ERR = {ERR}')\n",
    "####"
   ]
  },
  {
   "cell_type": "markdown",
   "metadata": {
    "deletable": false,
    "editable": false,
    "nbgrader": {
     "cell_type": "markdown",
     "checksum": "5bd94caf77cfa5f34675df758d91002d",
     "grade": false,
     "grade_id": "cell-43709a765f353946",
     "locked": true,
     "schema_version": 3,
     "solution": false,
     "task": false
    }
   },
   "source": [
    "---\n",
    "### 4.6 Evaluate Search Functions\n",
    "\n",
    "Let's define some metrics@k using [partial functions](https://docs.python.org/3/library/functools.html#functools.partial)"
   ]
  },
  {
   "cell_type": "code",
   "execution_count": null,
   "metadata": {
    "deletable": false,
    "editable": false,
    "nbgrader": {
     "cell_type": "code",
     "checksum": "49ccc158e5fb7340ace55e90eeb9d62a",
     "grade": false,
     "grade_id": "cell-dab560e18e340da8",
     "locked": true,
     "schema_version": 3,
     "solution": false,
     "task": false
    }
   },
   "outputs": [],
   "source": [
    "#### metrics@k functions\n",
    "\n",
    "recall_at_1 = partial(recall_k, k=1)\n",
    "recall_at_5 = partial(recall_k, k=5)\n",
    "recall_at_10 = partial(recall_k, k=10)\n",
    "precision_at_1 = partial(precision_k, k=1)\n",
    "precision_at_5 = partial(precision_k, k=5)\n",
    "precision_at_10 = partial(precision_k, k=10)\n",
    "\n",
    "\n",
    "list_of_metrics = [\n",
    "    (\"ERR\", err),\n",
    "    (\"MAP\", average_precision),\n",
    "    (\"Recall@1\",recall_at_1),\n",
    "    (\"Recall@5\", recall_at_5),\n",
    "    (\"Recall@10\", recall_at_10),\n",
    "    (\"Precision@1\", precision_at_1),\n",
    "    (\"Precision@5\", precision_at_5),\n",
    "    (\"Precision@10\", precision_at_10)]\n",
    "####"
   ]
  },
  {
   "cell_type": "markdown",
   "metadata": {
    "deletable": false,
    "editable": false,
    "nbgrader": {
     "cell_type": "markdown",
     "checksum": "fb541002c03221b453b8936290020ea5",
     "grade": false,
     "grade_id": "cell-580a2bdc66d03b47",
     "locked": true,
     "schema_version": 3,
     "solution": false,
     "task": false
    }
   },
   "source": [
    "---\n",
    "\n",
    "The following function evaluates a `search_fn` using the `metric_fn`. Note that the final number is averaged over all the queries"
   ]
  },
  {
   "cell_type": "code",
   "execution_count": null,
   "metadata": {},
   "outputs": [],
   "source": [
    "#### Evaluate a search function\n",
    "\n",
    "list_of_search_fns = [\n",
    "    (\"BOW\", bow_search),\n",
    "    (\"TF-IDF\", tfidf_search),\n",
    "    (\"NaiveQL\", naive_ql_search),\n",
    "    (\"QL\", ql_search),\n",
    "    (\"BM25\", bm25_search)\n",
    "]\n",
    "\n",
    "def evaluate_search_fn(search_fn, metric_fns, index_set=None):\n",
    "    # build a dict query_id -> query \n",
    "    queries_by_id = dict((q[0], q[1]) for q in queries)\n",
    "    \n",
    "    metrics = {}\n",
    "    for metric, metric_fn in metric_fns:\n",
    "        metrics[metric] = np.zeros(len(qrels), dtype=np.float32)\n",
    "    \n",
    "    for i, (query_id, relevant_docs) in enumerate(qrels.items()):\n",
    "        query = queries_by_id[query_id]\n",
    "        if index_set:\n",
    "            results = search_fn(query, index_set)\n",
    "        else:\n",
    "            results = search_fn(query)\n",
    "        \n",
    "        for metric, metric_fn in metric_fns:\n",
    "            metrics[metric][i] = metric_fn(results, relevant_docs)\n",
    "\n",
    "    \n",
    "    \n",
    "    final_dict = {}\n",
    "    for metric, metric_vals in metrics.items():\n",
    "        final_dict[metric] = metric_vals.mean()\n",
    "    \n",
    "    return final_dict\n",
    "####"
   ]
  },
  {
   "cell_type": "markdown",
   "metadata": {
    "deletable": false,
    "editable": false,
    "nbgrader": {
     "cell_type": "markdown",
     "checksum": "6ea67534f74a8f81e1f504794f641709",
     "grade": false,
     "grade_id": "cell-b156d83a0649cbb4",
     "locked": true,
     "schema_version": 3,
     "solution": false,
     "task": false
    }
   },
   "source": [
    "## Section 5: Analysis (30 points) <a class=\"anchor\" id=\"analysis\"></a>\n",
    "\n",
    "[Back to Part 1](#part1)\n",
    "\n",
    "In the final section of Part1, we will compare the different term-based IR algorithms and different preprocessing configurations and analyze their advantages and disadvantages.\n",
    "\n",
    "### Section 5.1: Plot (20 points)\n",
    "\n",
    "First, gather the results. The results should consider the index set, the different search functions and different metrics. Plot the results in bar charts, per metric, with clear labels.\n",
    "\n",
    "**Rubric:**\n",
    "- Each Metric is plotted: 7 points\n",
    "- Each Method is plotted: 7 points\n",
    "- Clear titles, x label, y labels and legends (if applicable): 6 points"
   ]
  },
  {
   "cell_type": "code",
   "execution_count": null,
   "metadata": {
    "deletable": false,
    "nbgrader": {
     "cell_type": "code",
     "checksum": "7e2588a925d13ddf588abe8311dc9cfc",
     "grade": true,
     "grade_id": "cell-46fda42a25863a04",
     "locked": false,
     "points": 20,
     "schema_version": 3,
     "solution": true,
     "task": false
    }
   },
   "outputs": [],
   "source": [
    "# YOUR CODE HERE\n",
    "raise NotImplementedError()"
   ]
  },
  {
   "cell_type": "markdown",
   "metadata": {
    "deletable": false,
    "editable": false,
    "nbgrader": {
     "cell_type": "markdown",
     "checksum": "e88c444a0acf4e398c65e289169b75f7",
     "grade": false,
     "grade_id": "cell-8aabe3bcf265deb0",
     "locked": true,
     "points": 10,
     "schema_version": 3,
     "solution": false,
     "task": true
    }
   },
   "source": [
    "---\n",
    "### Section 5.2: Summary (10 points)\n",
    "Write a summary of what you observe in the results.\n",
    "Your summary should compare results across the 2 indices and the methods being used. State what you expected to see in the results, followed by either supporting evidence *or* justify why the results did not support your expectations.      "
   ]
  },
  {
   "cell_type": "markdown",
   "metadata": {},
   "source": [
    "Write your answer here!"
   ]
  },
  {
   "cell_type": "markdown",
   "metadata": {
    "deletable": false,
    "editable": false,
    "nbgrader": {
     "cell_type": "markdown",
     "checksum": "b3eb77be74eecca205fc7b47316d1627",
     "grade": false,
     "grade_id": "cell-bb60dd5c092d0f2e",
     "locked": true,
     "schema_version": 3,
     "solution": false,
     "task": false
    }
   },
   "source": [
    "---\n",
    "---\n",
    "# Part 2: Semantic-based Matching (85 points) <a class=\"anchor\" id=\"part2\"></a>\n",
    "\n",
    "[Back to top](#top)\n",
    "\n",
    "We will now experiment with methods that go beyond lexical methods like TF-IDF, which operate at the word level and are high dimensional and sparse, and look at methods which constructs low dimensional dense representations of queries and documents. \n",
    "\n",
    "Since these low-dimensional methods have a higher time complexity, they are typically used in conjunction with methods like BM-25. That is, instead of searching through potentially million documents to find matches using low dimensional vectors, a list of K documents are retrieved using BM25, and then **re-ranked** using the other method. This is the method that is going to be applied in the following exercises. \n",
    "\n",
    "LSI/LDA takes documents that are similar on a semantic level - for instance, if they are describing the same topic - and projects them into nearby vectors, despite having low lexical overlap.\n",
    "\n",
    "In this assignment, you will use `gensim` to create LSI/LDA models and use them in re-ranking. \n",
    "\n",
    "**Note**: The following exercises only uses `doc_repr_2` and `config_2`\n",
    "\n",
    "Table of contents:\n",
    "- [Section 6: LSI](#lsi) (15 points)\n",
    "- [Section 7: LDA](#lda) (10 points)\n",
    "- [Section 8: Word2Vec/Doc2Vec](#2vec) (20 points)\n",
    "- [Section 8: Re-ranking](#reranking) (10 points)\n",
    "- [Section 9: Re-ranking Evaluation](#reranking_eval) (30 points)"
   ]
  },
  {
   "cell_type": "markdown",
   "metadata": {
    "deletable": false,
    "editable": false,
    "nbgrader": {
     "cell_type": "markdown",
     "checksum": "f7c7b2cab82f576ed0acf836ca57171c",
     "grade": false,
     "grade_id": "cell-6b2c81e7a8abd180",
     "locked": true,
     "schema_version": 3,
     "solution": false,
     "task": false
    }
   },
   "source": [
    "---\n",
    "## Section 6: Latent Semantic Indexing (LSI) (15 points) <a class=\"anchor\" id=\"lsi\"></a>\n",
    "\n",
    "[Back to Part 2](#part2)\n",
    "\n",
    "LSI is one of the methods to embed the queries and documents into vectors. It is based on a method similar to Principal Component Analysis (PCA) for obtaining a dense concept matrix out of the sparse term-document matrix.\n",
    "\n",
    "See [wikipedia](https://en.wikipedia.org/wiki/Latent_semantic_analysis), particularly [#Mathematics_of_LSI](https://en.wikipedia.org/wiki/Latent_semantic_analysis#Mathematics_of_LSI)."
   ]
  },
  {
   "cell_type": "code",
   "execution_count": 49,
   "metadata": {
    "deletable": false,
    "editable": false,
    "nbgrader": {
     "cell_type": "code",
     "checksum": "c17ee75319cb517e2bf48ec3d9efc329",
     "grade": false,
     "grade_id": "cell-59913daee47f680d",
     "locked": true,
     "schema_version": 3,
     "solution": false,
     "task": false
    }
   },
   "outputs": [],
   "source": [
    "from gensim.corpora import Dictionary\n",
    "from gensim.models import LdaModel, LsiModel, Word2Vec\n",
    "from gensim.models.doc2vec import Doc2Vec, TaggedDocument\n",
    "from gensim import downloader as g_downloader\n",
    "# gensim uses logging, so set it up \n",
    "import logging\n",
    "logging.basicConfig(format='%(asctime)s : %(levelname)s : %(message)s', level=logging.INFO)"
   ]
  },
  {
   "cell_type": "markdown",
   "metadata": {
    "deletable": false,
    "editable": false,
    "nbgrader": {
     "cell_type": "markdown",
     "checksum": "5fce140c546759b54a9fc060901ae77c",
     "grade": false,
     "grade_id": "cell-3644faff4976598a",
     "locked": true,
     "schema_version": 3,
     "solution": false,
     "task": false
    }
   },
   "source": [
    "---\n",
    "### Section 6.1: Cosine Similarity (5 points)<a class=\"anchor\" id=\"cosing_sim\"></a>\n",
    "Before we begin, let us first define our method of similarity for the LSI model, the cosine similarity:\n",
    "\n",
    "$$\\text{similarity} = \\cos(\\theta) = {\\mathbf{A} \\cdot \\mathbf{B} \\over \\|\\mathbf{A}\\| \\|\\mathbf{B}\\|} = \\frac{ \\sum\\limits_{i=1}^{n}{A_i  B_i} }{ \\sqrt{\\sum\\limits_{i=1}^{n}{A_i^2}}  \\sqrt{\\sum\\limits_{i=1}^{n}{B_i^2}} }$$\n",
    "\n",
    "Since we are using gensim, the types of vectors returned by their classes are of the form defined below (they are not just simple vectors):"
   ]
  },
  {
   "cell_type": "code",
   "execution_count": 50,
   "metadata": {
    "deletable": false,
    "editable": false,
    "nbgrader": {
     "cell_type": "code",
     "checksum": "4e340e1a1d546f430c018fd0760e707a",
     "grade": false,
     "grade_id": "cell-3995a50f951314d5",
     "locked": true,
     "schema_version": 3,
     "solution": false,
     "task": false
    }
   },
   "outputs": [],
   "source": [
    "# 1, 2, 3 are either latent dimensions (LSI), or topics (LDA)\n",
    "# The second value in each tuple is a number (LSI) or a probability (LDA)  \n",
    "example_vec_1 = [(1, 0.2), (2, 0.3), (3, 0.4)]\n",
    "example_vec_2 = [(1, 0.2), (2, 0.7), (3, 0.4)]"
   ]
  },
  {
   "cell_type": "markdown",
   "metadata": {
    "deletable": false,
    "editable": false,
    "nbgrader": {
     "cell_type": "markdown",
     "checksum": "20832fd4f579f49ae204b0efee02edd1",
     "grade": false,
     "grade_id": "cell-5e54d581858dc8f7",
     "locked": true,
     "schema_version": 3,
     "solution": false,
     "task": false
    }
   },
   "source": [
    "---\n",
    "**Implementation (2+3 points):**\n",
    "Now, implement the `dot product` operation on these types of vectors and using this operator, implement the `cosine similarity` (don't forget: two functions to implement!):"
   ]
  },
  {
   "cell_type": "code",
   "execution_count": 51,
   "metadata": {
    "deletable": false,
    "nbgrader": {
     "cell_type": "code",
     "checksum": "06a712ee75fc213a21c5f0067fd8fe28",
     "grade": false,
     "grade_id": "cell-0e8189f5f93de33f",
     "locked": false,
     "schema_version": 3,
     "solution": true,
     "task": false
    }
   },
   "outputs": [],
   "source": [
    "# TODO: Implement this! (2 points)\n",
    "def dot(vec_1, vec_2):\n",
    "    \"\"\"\n",
    "    vec_1 and vec_2 are of the form: [(int, float), (int, float), ...]\n",
    "    Return the dot product of two such vectors, computed only on the floats\n",
    "    You can assume that the lengths of the vectors are the same, and the dimensions are aligned\n",
    "        i.e you won't get: vec_1 = [(1, 0.2)] ; vec_2 = [(2, 0.3)]\n",
    "                            (dimensions are unaligned and lengths are different)\n",
    "    \"\"\"\n",
    "    # YOUR CODE HERE\n",
    "    return np.dot([x[1] for x in vec_1], [y[1] for y in vec_2])\n",
    "\n",
    "\n",
    "# TODO: Implement this! (3 points)\n",
    "def cosine_sim(vec_1, vec_2):\n",
    "    # YOUR CODE HERE\n",
    "\n",
    "    # Adding a custom function to compute the modulus\n",
    "    def mod(\n",
    "        vec,\n",
    "    ):  # Note: This still assumes that the vector is in the form : [(int, float), (int, float), ...]\n",
    "        return np.sqrt(sum(x[1] ** 2 for x in vec))\n",
    "\n",
    "    return dot(vec_1, vec_2) / (mod(vec_1) * mod(vec_2))"
   ]
  },
  {
   "cell_type": "code",
   "execution_count": 52,
   "metadata": {
    "deletable": false,
    "editable": false,
    "nbgrader": {
     "cell_type": "code",
     "checksum": "d22a4a7325ba7815a808390388f534a1",
     "grade": true,
     "grade_id": "cell-b25d04ed6b79fd35",
     "locked": true,
     "points": 2,
     "schema_version": 3,
     "solution": false,
     "task": false
    }
   },
   "outputs": [
    {
     "name": "stdout",
     "output_type": "stream",
     "text": [
      "vectors: ([(1, 0.2), (2, 0.3), (3, 0.4)], [(1, 0.2), (2, 0.7), (3, 0.4)])\n",
      "dot product = 0.41000000000000003\n",
      "cosine similarity = 0.9165587597202866\n"
     ]
    }
   ],
   "source": [
    "##### Function check\n",
    "print(f'vectors: {(example_vec_1,example_vec_2)}')\n",
    "print(f'dot product = {dot(example_vec_1,example_vec_2)}')\n",
    "print(f'cosine similarity = {cosine_sim(example_vec_1,example_vec_2)}')\n",
    "##### "
   ]
  },
  {
   "cell_type": "code",
   "execution_count": 53,
   "metadata": {
    "deletable": false,
    "editable": false,
    "nbgrader": {
     "cell_type": "code",
     "checksum": "0744131724ce76b1b3f163b4bae5f700",
     "grade": true,
     "grade_id": "cell-ae3c4466866ace77",
     "locked": true,
     "points": 3,
     "schema_version": 3,
     "solution": false,
     "task": false
    }
   },
   "outputs": [],
   "source": [
    "#### Please do not change this. This cell is used for grading."
   ]
  },
  {
   "cell_type": "markdown",
   "metadata": {
    "deletable": false,
    "editable": false,
    "nbgrader": {
     "cell_type": "markdown",
     "checksum": "9b123f599f9ea372d14676e23f1c6a52",
     "grade": false,
     "grade_id": "cell-4b2534067c44fcdf",
     "locked": true,
     "schema_version": 3,
     "solution": false,
     "task": false
    }
   },
   "source": [
    "---\n",
    "### Section 6.2: LSI Retrieval (10 points)<a class=\"anchor\" id=\"lsi_retrieval\"></a>\n",
    "LSI retrieval is simply ranking the documents based on their cosine similarity to the query vector.\n",
    "First, let's write a parent class for vector-based retrieval models:"
   ]
  },
  {
   "cell_type": "code",
   "execution_count": 54,
   "metadata": {
    "deletable": false,
    "editable": false,
    "nbgrader": {
     "cell_type": "code",
     "checksum": "ecc111d58182570e2252b8ef5d6b02af",
     "grade": false,
     "grade_id": "cell-937936cea18711ee",
     "locked": true,
     "schema_version": 3,
     "solution": false,
     "task": false
    }
   },
   "outputs": [],
   "source": [
    "class VectorSpaceRetrievalModel:\n",
    "    \"\"\"\n",
    "        Parent class for Dense Vector Retrieval models\n",
    "    \"\"\"\n",
    "    def __init__(self, doc_repr):\n",
    "        \"\"\"\n",
    "            document_collection: \n",
    "                [\n",
    "                    (doc_id_1, [token 1, token 2, ...]), \n",
    "                    (doc_id_2, [token 1, token 2, ....]) \n",
    "                    ...\n",
    "                ]\n",
    "\n",
    "        \"\"\"\n",
    "        self.doc_repr = doc_repr\n",
    "        self.documents = [_[1] for _ in self.doc_repr]\n",
    "        \n",
    "        # construct a dictionary\n",
    "        self.dictionary = Dictionary(self.documents)\n",
    "        # Filter out words that occur less than 20 documents, or more than 50% of the documents.\n",
    "        self.dictionary.filter_extremes(no_below=10)\n",
    "        self.corpus = [self.dictionary.doc2bow(doc) for doc in self.documents]\n",
    "    \n",
    "        # Make a index to word dictionary.\n",
    "        temp = self.dictionary[0]  # This is only to \"load\" the dictionary.\n",
    "        self.id2word = self.dictionary.id2token\n",
    "        \n",
    "        # this is set by the train_model function\n",
    "        self.model = None\n",
    "        \n",
    "        \n",
    "    def vectorize_documents(self):\n",
    "        \"\"\"\n",
    "            Returns a doc_id -> vector dictionary\n",
    "        \"\"\"\n",
    "        vectors = {}\n",
    "        for (doc_id, _), cc in zip(self.doc_repr, self.corpus):\n",
    "            vectors[doc_id] = self.model[cc]\n",
    "        return vectors\n",
    "\n",
    "    def vectorize_query(self, query):\n",
    "        # Note the use of config_2 here!\n",
    "        query = process_text(query, **config_2)\n",
    "        query_vector = self.dictionary.doc2bow(query)\n",
    "        return self.model[query_vector]\n",
    "    \n",
    "    def train_model(self):\n",
    "        \"\"\"\n",
    "            Trains a model and sets the 'self.model' variable. \n",
    "            Make sure to use the variables created in the __init__ method.\n",
    "            e.g the variables which may be useful: {corpus, dictionary, id2word}\n",
    "        \"\"\"\n",
    "        raise NotImplementedError()"
   ]
  },
  {
   "cell_type": "markdown",
   "metadata": {
    "deletable": false,
    "editable": false,
    "nbgrader": {
     "cell_type": "markdown",
     "checksum": "ff161eefd9b81b768cd6361bc1a502b0",
     "grade": false,
     "grade_id": "cell-704a18c2f80cd60c",
     "locked": true,
     "schema_version": 3,
     "solution": false,
     "task": false
    }
   },
   "source": [
    "---\n",
    "**Implementation (5 points):**\n",
    "Implement the `train_model` method in the following class (note that this is only one line of code in `gensim`!). Ensure that the parameters defined in the `__init__` method are not changed, and are *used in the `train_method` function*. Normally, the hyperaparameter space will be searched using grid search / other methods - in this assignment we have provided the hyperparameters for you.\n",
    "\n",
    "The last two lines of code train an LSI model on the list of documents which have been stemmed, lower-cased and have stopwords removed. "
   ]
  },
  {
   "cell_type": "code",
   "execution_count": 55,
   "metadata": {
    "deletable": false,
    "nbgrader": {
     "cell_type": "code",
     "checksum": "0e90eedc27c248bc1ae050518a46a46c",
     "grade": false,
     "grade_id": "cell-307682c9089f15d6",
     "locked": false,
     "schema_version": 3,
     "solution": true,
     "task": false
    }
   },
   "outputs": [],
   "source": [
    "# TODO: Implement this! (5 points)\n",
    "class LsiRetrievalModel(VectorSpaceRetrievalModel):\n",
    "    def __init__(self, doc_repr):\n",
    "        super().__init__(doc_repr)\n",
    "\n",
    "        self.num_topics = 100\n",
    "        self.chunksize = 2000\n",
    "\n",
    "    def train_model(self):\n",
    "        self.model = LsiModel(\n",
    "            corpus=self.corpus,\n",
    "            id2word=self.id2word,\n",
    "            num_topics=self.num_topics,\n",
    "            chunksize=self.chunksize,\n",
    "        )"
   ]
  },
  {
   "cell_type": "code",
   "execution_count": 56,
   "metadata": {
    "deletable": false,
    "editable": false,
    "nbgrader": {
     "cell_type": "code",
     "checksum": "00399cfe13d60cb4beed1271e36004b0",
     "grade": true,
     "grade_id": "cell-5ce512650c1b2dfb",
     "locked": true,
     "points": 0,
     "schema_version": 3,
     "solution": false,
     "task": false
    }
   },
   "outputs": [
    {
     "name": "stderr",
     "output_type": "stream",
     "text": [
      "2022-02-14 21:54:14,741 : INFO : adding document #0 to Dictionary(0 unique tokens: [])\n",
      "2022-02-14 21:54:14,879 : INFO : built Dictionary(5937 unique tokens: ['-', 'algebra', 'intern', 'languag', 'preliminari']...) from 3204 documents (total 115969 corpus positions)\n",
      "2022-02-14 21:54:14,887 : INFO : discarding 4740 tokens: [('repeat', 8), ('glossari', 7), ('inspect', 8), ('uncol', 2), ('rung', 9), ('secant', 2), ('.', 1603), ('acceler', 6), ('diverg', 3), ('induc', 9)]...\n",
      "2022-02-14 21:54:14,889 : INFO : keeping 1197 tokens which were in no less than 10 and no more than 1602 (=50.0%) documents\n",
      "2022-02-14 21:54:14,893 : INFO : resulting dictionary: Dictionary(1197 unique tokens: ['-', 'algebra', 'intern', 'languag', 'preliminari']...)\n",
      "2022-02-14 21:54:14,993 : INFO : using serial LSI version on this node\n",
      "2022-02-14 21:54:14,994 : INFO : updating model with new documents\n",
      "2022-02-14 21:54:14,994 : INFO : preparing a new chunk of documents\n",
      "2022-02-14 21:54:15,017 : INFO : using 100 extra samples and 2 power iterations\n",
      "2022-02-14 21:54:15,019 : INFO : 1st phase: constructing (1197, 200) action matrix\n",
      "2022-02-14 21:54:15,044 : INFO : orthonormalizing (1197, 200) action matrix\n",
      "2022-02-14 21:54:15,113 : INFO : 2nd phase: running dense svd on (200, 2000) matrix\n",
      "2022-02-14 21:54:15,168 : INFO : computing the final decomposition\n",
      "2022-02-14 21:54:15,169 : INFO : keeping 100 factors (discarding 13.447% of energy spectrum)\n",
      "2022-02-14 21:54:15,182 : INFO : processed documents up to #2000\n",
      "2022-02-14 21:54:15,189 : INFO : topic #0(152.127): 0.741*\",\" + 0.342*\"-\" + 0.211*\"system\" + 0.204*\"program\" + 0.192*\"comput\" + 0.146*\"(\" + 0.127*\"languag\" + 0.108*\")\" + 0.084*\"gener\" + 0.083*\"data\"\n",
      "2022-02-14 21:54:15,190 : INFO : topic #1(60.600): -0.607*\"(\" + -0.434*\")\" + -0.366*\"algorithm\" + -0.300*\"-\" + 0.237*\",\" + 0.213*\"system\" + 0.132*\"comput\" + -0.096*\"[\" + 0.093*\"program\" + -0.084*\"])\"\n",
      "2022-02-14 21:54:15,191 : INFO : topic #2(57.438): 0.744*\"-\" + -0.452*\",\" + 0.263*\"system\" + -0.214*\"(\" + -0.166*\")\" + 0.107*\"time\" + 0.105*\"program\" + -0.094*\"algorithm\" + 0.068*\"comput\" + 0.067*\"share\"\n",
      "2022-02-14 21:54:15,193 : INFO : topic #3(48.370): -0.483*\"system\" + -0.375*\"program\" + -0.367*\"comput\" + 0.363*\"-\" + 0.308*\",\" + -0.212*\"(\" + -0.168*\")\" + -0.147*\"algorithm\" + 0.144*\"languag\" + -0.119*\"time\"\n",
      "2022-02-14 21:54:15,198 : INFO : topic #4(45.710): -0.489*\"comput\" + 0.475*\"languag\" + 0.428*\"program\" + -0.238*\"method\" + -0.141*\"problem\" + 0.121*\"system\" + 0.109*\")\" + -0.107*\"equat\" + -0.100*\"algorithm\" + 0.099*\"(\"\n",
      "2022-02-14 21:54:15,203 : INFO : preparing a new chunk of documents\n",
      "2022-02-14 21:54:15,226 : INFO : using 100 extra samples and 2 power iterations\n",
      "2022-02-14 21:54:15,227 : INFO : 1st phase: constructing (1197, 200) action matrix\n",
      "2022-02-14 21:54:15,245 : INFO : orthonormalizing (1197, 200) action matrix\n",
      "2022-02-14 21:54:15,303 : INFO : 2nd phase: running dense svd on (200, 1204) matrix\n",
      "2022-02-14 21:54:15,337 : INFO : computing the final decomposition\n",
      "2022-02-14 21:54:15,338 : INFO : keeping 100 factors (discarding 14.017% of energy spectrum)\n",
      "2022-02-14 21:54:15,340 : INFO : merging projections: (1197, 100) + (1197, 100)\n",
      "2022-02-14 21:54:15,375 : INFO : keeping 100 factors (discarding 8.149% of energy spectrum)\n",
      "2022-02-14 21:54:15,381 : INFO : processed documents up to #3204\n",
      "2022-02-14 21:54:15,383 : INFO : topic #0(225.136): 0.759*\",\" + 0.337*\"-\" + 0.196*\"system\" + 0.186*\"program\" + 0.166*\"comput\" + 0.139*\"(\" + 0.103*\")\" + 0.103*\"algorithm\" + 0.099*\"languag\" + 0.087*\"time\"\n",
      "2022-02-14 21:54:15,388 : INFO : topic #1(87.805): 0.613*\"-\" + -0.399*\",\" + 0.399*\"(\" + 0.326*\"algorithm\" + 0.293*\")\" + -0.129*\"system\" + -0.107*\"program\" + 0.085*\"method\" + 0.077*\"time\" + 0.062*\"1\"\n",
      "2022-02-14 21:54:15,390 : INFO : topic #2(81.909): 0.550*\"-\" + -0.434*\"(\" + 0.355*\"system\" + -0.321*\")\" + -0.291*\",\" + -0.266*\"algorithm\" + 0.146*\"program\" + 0.123*\"comput\" + 0.078*\"time\" + -0.064*\"[\"\n",
      "2022-02-14 21:54:15,392 : INFO : topic #3(72.433): -0.693*\"program\" + 0.339*\",\" + 0.279*\"-\" + -0.251*\"(\" + -0.221*\"system\" + -0.214*\"languag\" + -0.204*\")\" + -0.160*\"comput\" + -0.099*\"data\" + -0.056*\"execut\"\n",
      "2022-02-14 21:54:15,395 : INFO : topic #4(68.523): -0.673*\"system\" + 0.453*\"program\" + 0.254*\"languag\" + 0.212*\"-\" + -0.179*\"comput\" + -0.165*\"(\" + -0.121*\")\" + -0.115*\"model\" + 0.101*\",\" + -0.098*\"algorithm\"\n"
     ]
    },
    {
     "data": {
      "text/plain": [
       "[(0, 0.015215502553429586),\n",
       " (1, -0.01628913569744567),\n",
       " (2, -0.0001693342023236003),\n",
       " (3, -0.0018815033445828068),\n",
       " (4, -0.009456733504738416),\n",
       " (5, -0.004772045013666754),\n",
       " (6, 0.02718855213165626),\n",
       " (7, 0.016703993589171344),\n",
       " (8, -0.0316889317668988),\n",
       " (9, -0.0007233008087175353),\n",
       " (10, 0.002201841662781671),\n",
       " (11, -0.017717856369533207),\n",
       " (12, 0.00023738390525288033),\n",
       " (13, 0.002152490534335131),\n",
       " (14, 0.0043988423608281365),\n",
       " (15, 0.005214689559745538),\n",
       " (16, 0.005464091587976619),\n",
       " (17, 0.0016949651175228557),\n",
       " (18, -0.018237035203709014),\n",
       " (19, 0.019536867468336515),\n",
       " (20, -0.009368596370744688),\n",
       " (21, -0.013521599542854527),\n",
       " (22, 0.04924465028191996),\n",
       " (23, 0.02536392781851984),\n",
       " (24, -0.010132642407525061),\n",
       " (25, -0.013314276293319804),\n",
       " (26, 0.009276608292163868),\n",
       " (27, 0.07509534077392964),\n",
       " (28, -0.059212748428273974),\n",
       " (29, 0.034462048225582784),\n",
       " (30, 0.04193399418051773),\n",
       " (31, 0.0454297161811353),\n",
       " (32, -0.06914287385326534),\n",
       " (33, 0.0510843516254043),\n",
       " (34, -0.02590090340069037),\n",
       " (35, 0.06563812754153822),\n",
       " (36, 0.03724616610696458),\n",
       " (37, -0.007887389713297577),\n",
       " (38, -0.06231284192326022),\n",
       " (39, 0.02194409534508375),\n",
       " (40, -0.04219137133482775),\n",
       " (41, -0.03147533610198215),\n",
       " (42, 0.023260678116807036),\n",
       " (43, 0.015931338127128422),\n",
       " (44, 0.02277894187351984),\n",
       " (45, 0.056081920897612575),\n",
       " (46, -0.007928526672543236),\n",
       " (47, 0.002987181547928078),\n",
       " (48, 0.015540522042160165),\n",
       " (49, 0.02742814514959611),\n",
       " (50, 0.022038156642470216),\n",
       " (51, 0.049241612138102575),\n",
       " (52, -0.014280823485779665),\n",
       " (53, 0.010033297578008088),\n",
       " (54, 0.03306645036891419),\n",
       " (55, 0.03518695291545759),\n",
       " (56, -0.010145875346862777),\n",
       " (57, -0.020002480498167066),\n",
       " (58, -9.630474882343747e-05),\n",
       " (59, 0.0459190046038372),\n",
       " (60, -0.011058972667654179),\n",
       " (61, -0.04449205186802859),\n",
       " (62, 0.009675002219372624),\n",
       " (63, 0.015768264893335243),\n",
       " (64, 0.04921516847978258),\n",
       " (65, 0.04851319031455864),\n",
       " (66, 0.00425018087718113),\n",
       " (67, -0.05947152941114083),\n",
       " (68, -0.0024612001304175624),\n",
       " (69, 0.06719546444181758),\n",
       " (70, -0.042241963044907765),\n",
       " (71, -0.013430342082762038),\n",
       " (72, -0.044915830179930255),\n",
       " (73, 0.06176222734219035),\n",
       " (74, -0.08419820126226692),\n",
       " (75, 0.024948615153350607),\n",
       " (76, 0.005363706633307101),\n",
       " (77, 0.0030876209451178582),\n",
       " (78, 0.05217731807448041),\n",
       " (79, -0.008973688861754408),\n",
       " (80, 0.02865827610202968),\n",
       " (81, -0.018340739858884684),\n",
       " (82, 0.028674391691456753),\n",
       " (83, 0.06313723602910173),\n",
       " (84, -0.0430386720281124),\n",
       " (85, -0.025434858816589627),\n",
       " (86, 0.03146744895812597),\n",
       " (87, -0.022141844482099604),\n",
       " (88, -0.05607398287070505),\n",
       " (89, 0.0605077709350785),\n",
       " (90, -0.04881731580532802),\n",
       " (91, 0.02073628230869192),\n",
       " (92, 0.014020181341761532),\n",
       " (93, -0.047287791131620585),\n",
       " (94, 0.0011237715488778277),\n",
       " (95, 0.05386500066730682),\n",
       " (96, -0.008936365875733744),\n",
       " (97, -0.0008308110685711322),\n",
       " (98, -0.017432778587934607),\n",
       " (99, -0.023434656009925295)]"
      ]
     },
     "execution_count": 56,
     "metadata": {},
     "output_type": "execute_result"
    }
   ],
   "source": [
    "##### Function check\n",
    "lsi = LsiRetrievalModel(doc_repr_2)\n",
    "lsi.train_model()\n",
    "\n",
    "# you can now get an LSI vector for a given query in the following way:\n",
    "lsi.vectorize_query(\"report\")\n",
    "##### "
   ]
  },
  {
   "cell_type": "markdown",
   "metadata": {
    "deletable": false,
    "editable": false,
    "nbgrader": {
     "cell_type": "markdown",
     "checksum": "7116bb9f576c5bb04934e1d59c51d729",
     "grade": false,
     "grade_id": "cell-4c5eeb557b4fca2f",
     "locked": true,
     "points": 5,
     "schema_version": 3,
     "solution": false,
     "task": true
    }
   },
   "source": [
    "\\#### Please do not change this. This cell is used for grading."
   ]
  },
  {
   "cell_type": "markdown",
   "metadata": {
    "deletable": false,
    "editable": false,
    "nbgrader": {
     "cell_type": "markdown",
     "checksum": "26e2ff3c413745e633d99f66c041d6b1",
     "grade": false,
     "grade_id": "cell-c4e50296cd17a555",
     "locked": true,
     "schema_version": 3,
     "solution": false,
     "task": false
    }
   },
   "source": [
    "---\n",
    "**Implementation (5 points):**\n",
    " Next, implement a basic ranking class for vector space retrieval (used for all semantic methods): "
   ]
  },
  {
   "cell_type": "code",
   "execution_count": 57,
   "metadata": {
    "deletable": false,
    "nbgrader": {
     "cell_type": "code",
     "checksum": "1a8389d2f0635c3405e2b0b27ed9f327",
     "grade": false,
     "grade_id": "cell-250515d288e80cdc",
     "locked": false,
     "schema_version": 3,
     "solution": true,
     "task": false
    }
   },
   "outputs": [],
   "source": [
    "# TODO: Implement this! (5 points)\n",
    "class DenseRetrievalRanker:\n",
    "    def __init__(self, vsrm, similarity_fn):\n",
    "        \"\"\"\n",
    "        vsrm: instance of `VectorSpaceRetrievalModel`\n",
    "        similarity_fn: function instance that takes in two vectors\n",
    "                        and returns a similarity score e.g cosine_sim defined earlier\n",
    "        \"\"\"\n",
    "        self.vsrm = vsrm\n",
    "        self.vectorized_documents = self.vsrm.vectorize_documents()\n",
    "        self.similarity_fn = similarity_fn\n",
    "\n",
    "    def _compute_sim(self, query_vector):\n",
    "        \"\"\"\n",
    "        Compute the similarity of `query_vector` to documents in\n",
    "        `self.vectorized_documents` using `self.similarity_fn`\n",
    "        Returns a list of (doc_id, score) tuples\n",
    "        \"\"\"\n",
    "        result = []\n",
    "        # +++++++++ NOTE ++++++++\n",
    "        # So something goes wrong here. The thing is that the document with ID=235 is empty and\n",
    "        # consequently the dot product doesnt work (complains about shapes)\n",
    "\n",
    "        for doc_id, doc in self.vectorized_documents.items():\n",
    "            print(doc_id)\n",
    "            result.append((doc_id, self.similarity_fn(query_vector, doc)))\n",
    "\n",
    "    def search(self, query):\n",
    "        scores = self._compute_sim(self.vsrm.vectorize_query(query))\n",
    "        scores.sort(key=lambda _: -_[1])\n",
    "        return scores"
   ]
  },
  {
   "cell_type": "code",
   "execution_count": 58,
   "metadata": {
    "deletable": false,
    "editable": false,
    "nbgrader": {
     "cell_type": "code",
     "checksum": "f237dd1ef6c1783c06797f4b514421f5",
     "grade": true,
     "grade_id": "cell-b73068b3e77a8e31",
     "locked": true,
     "points": 0,
     "schema_version": 3,
     "solution": false,
     "task": false
    }
   },
   "outputs": [
    {
     "name": "stdout",
     "output_type": "stream",
     "text": [
      "1\n",
      "2\n",
      "3\n",
      "4\n",
      "5\n",
      "6\n",
      "7\n",
      "8\n",
      "9\n",
      "10\n",
      "11\n",
      "12\n",
      "13\n",
      "14\n",
      "15\n",
      "16\n",
      "17\n",
      "18\n",
      "19\n",
      "20\n",
      "21\n",
      "22\n",
      "23\n",
      "24\n",
      "25\n",
      "26\n",
      "27\n",
      "28\n",
      "29\n",
      "30\n",
      "31\n",
      "32\n",
      "33\n",
      "34\n",
      "35\n",
      "36\n",
      "37\n",
      "38\n",
      "39\n",
      "40\n",
      "41\n",
      "42\n",
      "43\n",
      "44\n",
      "45\n",
      "46\n",
      "47\n",
      "48\n",
      "49\n",
      "50\n",
      "51\n",
      "52\n",
      "53\n",
      "54\n",
      "55\n",
      "56\n",
      "57\n",
      "58\n",
      "59\n",
      "60\n",
      "61\n",
      "62\n",
      "63\n",
      "64\n",
      "65\n",
      "66\n",
      "67\n",
      "68\n",
      "69\n",
      "70\n",
      "71\n",
      "72\n",
      "73\n",
      "74\n",
      "75\n",
      "76\n",
      "77\n",
      "78\n",
      "79\n",
      "80\n",
      "81\n",
      "82\n",
      "83\n",
      "84\n",
      "85\n",
      "86\n",
      "87\n",
      "88\n",
      "89\n",
      "90\n",
      "91\n",
      "92\n",
      "93\n",
      "94\n",
      "95\n",
      "96\n",
      "97\n",
      "98\n",
      "99\n",
      "100\n",
      "101\n",
      "102\n",
      "103\n",
      "104\n",
      "105\n",
      "106\n",
      "107\n",
      "108\n",
      "109\n",
      "110\n",
      "111\n",
      "112\n",
      "113\n",
      "114\n",
      "115\n",
      "116\n",
      "117\n",
      "118\n",
      "119\n",
      "120\n",
      "121\n",
      "122\n",
      "123\n",
      "124\n",
      "125\n",
      "126\n",
      "127\n",
      "128\n",
      "129\n",
      "130\n",
      "131\n",
      "132\n",
      "133\n",
      "134\n",
      "135\n",
      "136\n",
      "137\n",
      "138\n",
      "139\n",
      "140\n",
      "141\n",
      "142\n",
      "143\n",
      "144\n",
      "145\n",
      "146\n",
      "147\n",
      "148\n",
      "149\n",
      "150\n",
      "151\n",
      "152\n",
      "153\n",
      "154\n",
      "155\n",
      "156\n",
      "157\n",
      "158\n",
      "159\n",
      "160\n",
      "161\n",
      "162\n",
      "163\n",
      "164\n",
      "165\n",
      "166\n",
      "167\n",
      "168\n",
      "169\n",
      "170\n",
      "171\n",
      "172\n",
      "173\n",
      "174\n",
      "175\n",
      "176\n",
      "177\n",
      "178\n",
      "179\n",
      "180\n",
      "181\n",
      "182\n",
      "183\n",
      "184\n",
      "185\n",
      "186\n",
      "187\n",
      "188\n",
      "189\n",
      "190\n",
      "191\n",
      "192\n",
      "193\n",
      "194\n",
      "195\n",
      "196\n",
      "197\n",
      "198\n",
      "199\n",
      "200\n",
      "201\n",
      "202\n",
      "203\n",
      "204\n",
      "205\n",
      "206\n",
      "207\n",
      "208\n",
      "209\n",
      "210\n",
      "211\n",
      "212\n",
      "213\n",
      "214\n",
      "215\n",
      "216\n",
      "217\n",
      "218\n",
      "219\n",
      "220\n",
      "221\n",
      "222\n",
      "223\n",
      "224\n",
      "225\n",
      "226\n",
      "227\n",
      "228\n",
      "229\n",
      "230\n",
      "231\n",
      "232\n",
      "233\n",
      "234\n",
      "235\n"
     ]
    },
    {
     "ename": "ValueError",
     "evalue": "shapes (100,) and (0,) not aligned: 100 (dim 0) != 0 (dim 0)",
     "output_type": "error",
     "traceback": [
      "\u001b[0;31m---------------------------------------------------------------------------\u001b[0m",
      "\u001b[0;31mValueError\u001b[0m                                Traceback (most recent call last)",
      "\u001b[0;32m<ipython-input-58-f7937a7915c7>\u001b[0m in \u001b[0;36m<module>\u001b[0;34m\u001b[0m\n\u001b[1;32m      1\u001b[0m \u001b[0;31m##### Function check\u001b[0m\u001b[0;34m\u001b[0m\u001b[0;34m\u001b[0m\u001b[0m\n\u001b[1;32m      2\u001b[0m \u001b[0mdrm_lsi\u001b[0m \u001b[0;34m=\u001b[0m \u001b[0mDenseRetrievalRanker\u001b[0m\u001b[0;34m(\u001b[0m\u001b[0mlsi\u001b[0m\u001b[0;34m,\u001b[0m \u001b[0mcosine_sim\u001b[0m\u001b[0;34m)\u001b[0m\u001b[0;34m\u001b[0m\u001b[0m\n\u001b[0;32m----> 3\u001b[0;31m \u001b[0mdrm_lsi\u001b[0m\u001b[0;34m.\u001b[0m\u001b[0msearch\u001b[0m\u001b[0;34m(\u001b[0m\u001b[0;34m\"report\"\u001b[0m\u001b[0;34m)\u001b[0m\u001b[0;34m[\u001b[0m\u001b[0;34m:\u001b[0m\u001b[0;36m5\u001b[0m\u001b[0;34m]\u001b[0m\u001b[0;34m\u001b[0m\u001b[0m\n\u001b[0m\u001b[1;32m      4\u001b[0m \u001b[0;31m#####\u001b[0m\u001b[0;34m\u001b[0m\u001b[0;34m\u001b[0m\u001b[0m\n",
      "\u001b[0;32m<ipython-input-57-8fdf2ffe6e43>\u001b[0m in \u001b[0;36msearch\u001b[0;34m(self, query)\u001b[0m\n\u001b[1;32m     27\u001b[0m \u001b[0;34m\u001b[0m\u001b[0m\n\u001b[1;32m     28\u001b[0m     \u001b[0;32mdef\u001b[0m \u001b[0msearch\u001b[0m\u001b[0;34m(\u001b[0m\u001b[0mself\u001b[0m\u001b[0;34m,\u001b[0m \u001b[0mquery\u001b[0m\u001b[0;34m)\u001b[0m\u001b[0;34m:\u001b[0m\u001b[0;34m\u001b[0m\u001b[0m\n\u001b[0;32m---> 29\u001b[0;31m         \u001b[0mscores\u001b[0m \u001b[0;34m=\u001b[0m \u001b[0mself\u001b[0m\u001b[0;34m.\u001b[0m\u001b[0m_compute_sim\u001b[0m\u001b[0;34m(\u001b[0m\u001b[0mself\u001b[0m\u001b[0;34m.\u001b[0m\u001b[0mvsrm\u001b[0m\u001b[0;34m.\u001b[0m\u001b[0mvectorize_query\u001b[0m\u001b[0;34m(\u001b[0m\u001b[0mquery\u001b[0m\u001b[0;34m)\u001b[0m\u001b[0;34m)\u001b[0m\u001b[0;34m\u001b[0m\u001b[0m\n\u001b[0m\u001b[1;32m     30\u001b[0m         \u001b[0mscores\u001b[0m\u001b[0;34m.\u001b[0m\u001b[0msort\u001b[0m\u001b[0;34m(\u001b[0m\u001b[0mkey\u001b[0m\u001b[0;34m=\u001b[0m\u001b[0;32mlambda\u001b[0m \u001b[0m_\u001b[0m\u001b[0;34m:\u001b[0m \u001b[0;34m-\u001b[0m\u001b[0m_\u001b[0m\u001b[0;34m[\u001b[0m\u001b[0;36m1\u001b[0m\u001b[0;34m]\u001b[0m\u001b[0;34m)\u001b[0m\u001b[0;34m\u001b[0m\u001b[0m\n\u001b[1;32m     31\u001b[0m         \u001b[0;32mreturn\u001b[0m \u001b[0mscores\u001b[0m\u001b[0;34m\u001b[0m\u001b[0m\n",
      "\u001b[0;32m<ipython-input-57-8fdf2ffe6e43>\u001b[0m in \u001b[0;36m_compute_sim\u001b[0;34m(self, query_vector)\u001b[0m\n\u001b[1;32m     24\u001b[0m         \u001b[0;32mfor\u001b[0m \u001b[0mdoc_id\u001b[0m\u001b[0;34m,\u001b[0m \u001b[0mdoc\u001b[0m \u001b[0;32min\u001b[0m \u001b[0mself\u001b[0m\u001b[0;34m.\u001b[0m\u001b[0mvectorized_documents\u001b[0m\u001b[0;34m.\u001b[0m\u001b[0mitems\u001b[0m\u001b[0;34m(\u001b[0m\u001b[0;34m)\u001b[0m\u001b[0;34m:\u001b[0m\u001b[0;34m\u001b[0m\u001b[0m\n\u001b[1;32m     25\u001b[0m             \u001b[0mprint\u001b[0m\u001b[0;34m(\u001b[0m\u001b[0mdoc_id\u001b[0m\u001b[0;34m)\u001b[0m\u001b[0;34m\u001b[0m\u001b[0m\n\u001b[0;32m---> 26\u001b[0;31m             \u001b[0mresult\u001b[0m\u001b[0;34m.\u001b[0m\u001b[0mappend\u001b[0m\u001b[0;34m(\u001b[0m\u001b[0;34m(\u001b[0m\u001b[0mdoc_id\u001b[0m\u001b[0;34m,\u001b[0m \u001b[0mself\u001b[0m\u001b[0;34m.\u001b[0m\u001b[0msimilarity_fn\u001b[0m\u001b[0;34m(\u001b[0m\u001b[0mquery_vector\u001b[0m\u001b[0;34m,\u001b[0m \u001b[0mdoc\u001b[0m\u001b[0;34m)\u001b[0m\u001b[0;34m)\u001b[0m\u001b[0;34m)\u001b[0m\u001b[0;34m\u001b[0m\u001b[0m\n\u001b[0m\u001b[1;32m     27\u001b[0m \u001b[0;34m\u001b[0m\u001b[0m\n\u001b[1;32m     28\u001b[0m     \u001b[0;32mdef\u001b[0m \u001b[0msearch\u001b[0m\u001b[0;34m(\u001b[0m\u001b[0mself\u001b[0m\u001b[0;34m,\u001b[0m \u001b[0mquery\u001b[0m\u001b[0;34m)\u001b[0m\u001b[0;34m:\u001b[0m\u001b[0;34m\u001b[0m\u001b[0m\n",
      "\u001b[0;32m<ipython-input-51-a1c45f9092c3>\u001b[0m in \u001b[0;36mcosine_sim\u001b[0;34m(vec_1, vec_2)\u001b[0m\n\u001b[1;32m     22\u001b[0m         \u001b[0;32mreturn\u001b[0m \u001b[0mnp\u001b[0m\u001b[0;34m.\u001b[0m\u001b[0msqrt\u001b[0m\u001b[0;34m(\u001b[0m\u001b[0msum\u001b[0m\u001b[0;34m(\u001b[0m\u001b[0mx\u001b[0m\u001b[0;34m[\u001b[0m\u001b[0;36m1\u001b[0m\u001b[0;34m]\u001b[0m \u001b[0;34m**\u001b[0m \u001b[0;36m2\u001b[0m \u001b[0;32mfor\u001b[0m \u001b[0mx\u001b[0m \u001b[0;32min\u001b[0m \u001b[0mvec\u001b[0m\u001b[0;34m)\u001b[0m\u001b[0;34m)\u001b[0m\u001b[0;34m\u001b[0m\u001b[0m\n\u001b[1;32m     23\u001b[0m \u001b[0;34m\u001b[0m\u001b[0m\n\u001b[0;32m---> 24\u001b[0;31m     \u001b[0;32mreturn\u001b[0m \u001b[0mdot\u001b[0m\u001b[0;34m(\u001b[0m\u001b[0mvec_1\u001b[0m\u001b[0;34m,\u001b[0m \u001b[0mvec_2\u001b[0m\u001b[0;34m)\u001b[0m \u001b[0;34m/\u001b[0m \u001b[0;34m(\u001b[0m\u001b[0mmod\u001b[0m\u001b[0;34m(\u001b[0m\u001b[0mvec_1\u001b[0m\u001b[0;34m)\u001b[0m \u001b[0;34m*\u001b[0m \u001b[0mmod\u001b[0m\u001b[0;34m(\u001b[0m\u001b[0mvec_2\u001b[0m\u001b[0;34m)\u001b[0m\u001b[0;34m)\u001b[0m\u001b[0;34m\u001b[0m\u001b[0m\n\u001b[0m",
      "\u001b[0;32m<ipython-input-51-a1c45f9092c3>\u001b[0m in \u001b[0;36mdot\u001b[0;34m(vec_1, vec_2)\u001b[0m\n\u001b[1;32m      9\u001b[0m     \"\"\"\n\u001b[1;32m     10\u001b[0m     \u001b[0;31m# YOUR CODE HERE\u001b[0m\u001b[0;34m\u001b[0m\u001b[0;34m\u001b[0m\u001b[0m\n\u001b[0;32m---> 11\u001b[0;31m     \u001b[0;32mreturn\u001b[0m \u001b[0mnp\u001b[0m\u001b[0;34m.\u001b[0m\u001b[0mdot\u001b[0m\u001b[0;34m(\u001b[0m\u001b[0;34m[\u001b[0m\u001b[0mx\u001b[0m\u001b[0;34m[\u001b[0m\u001b[0;36m1\u001b[0m\u001b[0;34m]\u001b[0m \u001b[0;32mfor\u001b[0m \u001b[0mx\u001b[0m \u001b[0;32min\u001b[0m \u001b[0mvec_1\u001b[0m\u001b[0;34m]\u001b[0m\u001b[0;34m,\u001b[0m \u001b[0;34m[\u001b[0m\u001b[0my\u001b[0m\u001b[0;34m[\u001b[0m\u001b[0;36m1\u001b[0m\u001b[0;34m]\u001b[0m \u001b[0;32mfor\u001b[0m \u001b[0my\u001b[0m \u001b[0;32min\u001b[0m \u001b[0mvec_2\u001b[0m\u001b[0;34m]\u001b[0m\u001b[0;34m)\u001b[0m\u001b[0;34m\u001b[0m\u001b[0m\n\u001b[0m\u001b[1;32m     12\u001b[0m \u001b[0;34m\u001b[0m\u001b[0m\n\u001b[1;32m     13\u001b[0m \u001b[0;34m\u001b[0m\u001b[0m\n",
      "\u001b[0;32m<__array_function__ internals>\u001b[0m in \u001b[0;36mdot\u001b[0;34m(*args, **kwargs)\u001b[0m\n",
      "\u001b[0;31mValueError\u001b[0m: shapes (100,) and (0,) not aligned: 100 (dim 0) != 0 (dim 0)"
     ]
    }
   ],
   "source": [
    "##### Function check\n",
    "drm_lsi = DenseRetrievalRanker(lsi, cosine_sim)\n",
    "drm_lsi.search(\"report\")[:5]\n",
    "##### "
   ]
  },
  {
   "cell_type": "markdown",
   "metadata": {
    "deletable": false,
    "editable": false,
    "nbgrader": {
     "cell_type": "markdown",
     "checksum": "5b3f19fdcaa585d263706d5a26038799",
     "grade": false,
     "grade_id": "cell-034c755a6502b868",
     "locked": true,
     "points": 5,
     "schema_version": 3,
     "solution": false,
     "task": true
    }
   },
   "source": [
    "\\#### Please do not change this. This cell is used for grading."
   ]
  },
  {
   "cell_type": "markdown",
   "metadata": {
    "deletable": false,
    "editable": false,
    "nbgrader": {
     "cell_type": "markdown",
     "checksum": "dcafef6e037033c46304b914f7c78bdf",
     "grade": false,
     "grade_id": "cell-d1df23f497d5ed6b",
     "locked": true,
     "schema_version": 3,
     "solution": false,
     "task": false
    }
   },
   "source": [
    "---\n",
    "Now, you can test your LSI model in the following cell: try finding queries which are lexically different to documents, but semantically similar - does LSI work well for these queries?!"
   ]
  },
  {
   "cell_type": "code",
   "execution_count": null,
   "metadata": {
    "deletable": false,
    "editable": false,
    "nbgrader": {
     "cell_type": "code",
     "checksum": "11734bc7674377b340ad51297a8e8bb5",
     "grade": false,
     "grade_id": "cell-efd1d08dfc04ec3e",
     "locked": true,
     "schema_version": 3,
     "solution": false,
     "task": false
    }
   },
   "outputs": [],
   "source": [
    "# test your LSI model\n",
    "search_fn = drm_lsi.search\n",
    "\n",
    "text = widgets.Text(description=\"Search Bar\", width=200)\n",
    "display(text)\n",
    "\n",
    "def make_results_2(query, search_fn):\n",
    "    results = []\n",
    "    for doc_id, score in search_fn(query):\n",
    "        highlight = highlight_text(docs_by_id[doc_id], query)\n",
    "        if len(highlight.strip()) == 0:\n",
    "            highlight = docs_by_id[doc_id]\n",
    "        results.append(ResultRow(doc_id, highlight, score))\n",
    "    return results\n",
    "\n",
    "def handle_submit_2(sender):\n",
    "    print(f\"Searching for: '{sender.value}' (SEARCH FN: {search_fn})\")\n",
    "    \n",
    "    results = make_results_2(sender.value, search_fn)\n",
    "    \n",
    "    # display only the top 5\n",
    "    results = results[:5]\n",
    "    \n",
    "    body = \"\"\n",
    "    for idx, r in enumerate(results):\n",
    "        body += f\"<li>Document #{r.doc_id}({r.score}): {r.snippet}</li>\"\n",
    "    display(HTML(f\"<ul>{body}</ul>\"))\n",
    "    \n",
    "\n",
    "text.on_submit(handle_submit_2)"
   ]
  },
  {
   "cell_type": "markdown",
   "metadata": {
    "deletable": false,
    "editable": false,
    "nbgrader": {
     "cell_type": "markdown",
     "checksum": "d074ce1ca48384cdda78742741c938be",
     "grade": false,
     "grade_id": "cell-3a86cef264d8f6cf",
     "locked": true,
     "schema_version": 3,
     "solution": false,
     "task": false
    }
   },
   "source": [
    "---\n",
    "## Section 7: Latent Dirichlet Allocation (LDA) (10 points) <a class=\"anchor\" id=\"lda\"></a>\n",
    "\n",
    "[Back to Part 2](#part2)\n",
    "\n",
    "The specifics of LDA is out of the scope of this assignment, but we will use the `gensim` implementation to perform search using LDA over our small document collection. The key thing to remember is that LDA, unlike LSI, outputs a topic **distribution**, not a vector. With that in mind, let's first define a similarity measure.\n"
   ]
  },
  {
   "cell_type": "markdown",
   "metadata": {
    "deletable": false,
    "editable": false,
    "nbgrader": {
     "cell_type": "markdown",
     "checksum": "db01092373b18f0c9dfed1bb17db4ad9",
     "grade": false,
     "grade_id": "cell-6b78ad22c2d60ba7",
     "locked": true,
     "schema_version": 3,
     "solution": false,
     "task": false
    }
   },
   "source": [
    "---\n",
    "### Section 7.1: Jenson-Shannon divergence (5 points) <a class=\"anchor\" id=\"js_sim\"></a>\n",
    "\n",
    "The Jenson-Shannon divergence is a symmetric and finite measure on two probability distributions (unlike the KL, which is neither). For identical distributions, the JSD is equal to 0, and since our code uses 0 as irrelevant and higher scores as relevant, we use `(1 - JSD)` as the score or 'similarity' in our setup\n",
    "\n",
    "**Note**: the JSD is bounded to \\[0,1\\] only if we use log base 2. So please ensure that you're using `np.log2` instead of `np.log`"
   ]
  },
  {
   "cell_type": "code",
   "execution_count": 59,
   "metadata": {
    "deletable": false,
    "nbgrader": {
     "cell_type": "code",
     "checksum": "a579e6cd7a24a3516bc9a84528b392d3",
     "grade": false,
     "grade_id": "cell-d2376a85a4841e98",
     "locked": false,
     "schema_version": 3,
     "solution": true,
     "task": false
    }
   },
   "outputs": [],
   "source": [
    "## TODO: Implement this! (5 points)\n",
    "def jenson_shannon_divergence(vec_1, vec_2, assert_prob=False):\n",
    "    \"\"\"\n",
    "    Computes the Jensen-Shannon divergence between two probability distributions.\n",
    "    NOTE: DO NOT RETURN 1 - JSD here, that is handled by the next function which is already implemented!\n",
    "    The inputs are *gensim* vectors - same as the vectors for the cosine_sim function\n",
    "    assert_prob is a flag that checks if the inputs are proper probability distributions\n",
    "        i.e they sum to 1 and are positive - use this to check your inputs if needed.\n",
    "            (This is optional to implement, but recommended -\n",
    "            you can the default to False to save a few ms off the runtime)\n",
    "    \"\"\"\n",
    "    vec_1_probs = [x[1] for x in vec_1]  # extracting the probabily values\n",
    "    vec_2_probs = [y[1] for y in vec_2]  # extracting the probabily values\n",
    "\n",
    "    # if flag=True, assert that the inputs are proper probability distributions\n",
    "    if assert_prob:\n",
    "        assert np.sum(vec_1_probs) == 1 and all(\n",
    "            vec_1_probs > 0\n",
    "        ), \"Values of vector1 must sum to 1 and be positive\"\n",
    "        assert np.sum(vec_2_probs) == 1 and all(\n",
    "            vec_2_probs > 0\n",
    "        ), \"Values of vector2 must sum to 1 and be positive\"\n",
    "\n",
    "\n",
    "def jenson_shannon_sim(vec_1, vec_2, assert_prob=False):\n",
    "    return 1 - jenson_shannon_divergence(vec_1, vec_2)"
   ]
  },
  {
   "cell_type": "code",
   "execution_count": 60,
   "metadata": {
    "deletable": false,
    "editable": false,
    "nbgrader": {
     "cell_type": "code",
     "checksum": "ab340aa941c9fb5c89b3fd0a9139e246",
     "grade": true,
     "grade_id": "cell-487c6d2933f38053",
     "locked": true,
     "points": 5,
     "schema_version": 3,
     "solution": false,
     "task": false
    }
   },
   "outputs": [
    {
     "ename": "TypeError",
     "evalue": "unsupported operand type(s) for -: 'int' and 'NoneType'",
     "output_type": "error",
     "traceback": [
      "\u001b[0;31m---------------------------------------------------------------------------\u001b[0m",
      "\u001b[0;31mTypeError\u001b[0m                                 Traceback (most recent call last)",
      "\u001b[0;32m<ipython-input-60-675fddbc141d>\u001b[0m in \u001b[0;36m<module>\u001b[0;34m\u001b[0m\n\u001b[1;32m      2\u001b[0m \u001b[0mvec_1\u001b[0m \u001b[0;34m=\u001b[0m \u001b[0;34m[\u001b[0m\u001b[0;34m(\u001b[0m\u001b[0;36m1\u001b[0m\u001b[0;34m,\u001b[0m \u001b[0;36m0.3\u001b[0m\u001b[0;34m)\u001b[0m\u001b[0;34m,\u001b[0m \u001b[0;34m(\u001b[0m\u001b[0;36m2\u001b[0m\u001b[0;34m,\u001b[0m \u001b[0;36m0.4\u001b[0m\u001b[0;34m)\u001b[0m\u001b[0;34m,\u001b[0m \u001b[0;34m(\u001b[0m\u001b[0;36m3\u001b[0m\u001b[0;34m,\u001b[0m \u001b[0;36m0.3\u001b[0m\u001b[0;34m)\u001b[0m\u001b[0;34m]\u001b[0m\u001b[0;34m\u001b[0m\u001b[0m\n\u001b[1;32m      3\u001b[0m \u001b[0mvec_2\u001b[0m \u001b[0;34m=\u001b[0m \u001b[0;34m[\u001b[0m\u001b[0;34m(\u001b[0m\u001b[0;36m1\u001b[0m\u001b[0;34m,\u001b[0m \u001b[0;36m0.1\u001b[0m\u001b[0;34m)\u001b[0m\u001b[0;34m,\u001b[0m \u001b[0;34m(\u001b[0m\u001b[0;36m2\u001b[0m\u001b[0;34m,\u001b[0m \u001b[0;36m0.7\u001b[0m\u001b[0;34m)\u001b[0m\u001b[0;34m,\u001b[0m \u001b[0;34m(\u001b[0m\u001b[0;36m3\u001b[0m\u001b[0;34m,\u001b[0m \u001b[0;36m0.2\u001b[0m\u001b[0;34m)\u001b[0m\u001b[0;34m]\u001b[0m\u001b[0;34m\u001b[0m\u001b[0m\n\u001b[0;32m----> 4\u001b[0;31m \u001b[0mjenson_shannon_sim\u001b[0m\u001b[0;34m(\u001b[0m\u001b[0mvec_1\u001b[0m\u001b[0;34m,\u001b[0m \u001b[0mvec_2\u001b[0m\u001b[0;34m,\u001b[0m \u001b[0massert_prob\u001b[0m\u001b[0;34m=\u001b[0m\u001b[0;32mTrue\u001b[0m\u001b[0;34m)\u001b[0m\u001b[0;34m\u001b[0m\u001b[0m\n\u001b[0m\u001b[1;32m      5\u001b[0m \u001b[0;31m#####\u001b[0m\u001b[0;34m\u001b[0m\u001b[0;34m\u001b[0m\u001b[0m\n",
      "\u001b[0;32m<ipython-input-59-f36fb6a8c56d>\u001b[0m in \u001b[0;36mjenson_shannon_sim\u001b[0;34m(vec_1, vec_2, assert_prob)\u001b[0m\n\u001b[1;32m     24\u001b[0m \u001b[0;34m\u001b[0m\u001b[0m\n\u001b[1;32m     25\u001b[0m \u001b[0;32mdef\u001b[0m \u001b[0mjenson_shannon_sim\u001b[0m\u001b[0;34m(\u001b[0m\u001b[0mvec_1\u001b[0m\u001b[0;34m,\u001b[0m \u001b[0mvec_2\u001b[0m\u001b[0;34m,\u001b[0m \u001b[0massert_prob\u001b[0m\u001b[0;34m=\u001b[0m\u001b[0;32mFalse\u001b[0m\u001b[0;34m)\u001b[0m\u001b[0;34m:\u001b[0m\u001b[0;34m\u001b[0m\u001b[0m\n\u001b[0;32m---> 26\u001b[0;31m     \u001b[0;32mreturn\u001b[0m \u001b[0;36m1\u001b[0m \u001b[0;34m-\u001b[0m \u001b[0mjenson_shannon_divergence\u001b[0m\u001b[0;34m(\u001b[0m\u001b[0mvec_1\u001b[0m\u001b[0;34m,\u001b[0m \u001b[0mvec_2\u001b[0m\u001b[0;34m)\u001b[0m\u001b[0;34m\u001b[0m\u001b[0m\n\u001b[0m",
      "\u001b[0;31mTypeError\u001b[0m: unsupported operand type(s) for -: 'int' and 'NoneType'"
     ]
    }
   ],
   "source": [
    "##### Function check\n",
    "vec_1 = [(1, 0.3), (2, 0.4), (3, 0.3)]\n",
    "vec_2 = [(1, 0.1), (2, 0.7), (3, 0.2)]\n",
    "jenson_shannon_sim(vec_1, vec_2, assert_prob=True)\n",
    "##### "
   ]
  },
  {
   "cell_type": "markdown",
   "metadata": {
    "deletable": false,
    "editable": false,
    "nbgrader": {
     "cell_type": "markdown",
     "checksum": "0a1583a5f23e3390038331cce67f5d8e",
     "grade": false,
     "grade_id": "cell-4535cc67a50b80fa",
     "locked": true,
     "schema_version": 3,
     "solution": false,
     "task": false
    }
   },
   "source": [
    "---\n",
    "### Section 7.2: LDA retrieval (5 points) <a class=\"anchor\" id=\"lda_ret\"></a>\n",
    "\n",
    "Implement the `train_model` method in the following class (note that this is only one line of code in `gensim`!). Ensure that the parameters defined in the `__init__` method are not changed, and are *used in the `train_method` function*. You do not need to set this. Normally, the hyperaparameter space will be searched using grid search / other methods. Note that training the LDA model might take some time\n",
    "\n",
    "The last two lines of code train an LDA model on the list of documents which have been stemmed, lower-cased and have stopwords removed. "
   ]
  },
  {
   "cell_type": "code",
   "execution_count": 61,
   "metadata": {
    "deletable": false,
    "nbgrader": {
     "cell_type": "code",
     "checksum": "27de8e4fa85536bb396b73bfc51b3f50",
     "grade": false,
     "grade_id": "cell-021a48dff4a8bb91",
     "locked": false,
     "schema_version": 3,
     "solution": true,
     "task": false
    }
   },
   "outputs": [],
   "source": [
    "# TODO: Implement this! (5 points)\n",
    "class LdaRetrievalModel(VectorSpaceRetrievalModel):\n",
    "    def __init__(self, doc_repr):\n",
    "        super().__init__(doc_repr)\n",
    "\n",
    "        # use these parameters in the train_model method\n",
    "        self.num_topics = 100\n",
    "        self.chunksize = 2000\n",
    "        self.passes = 20\n",
    "        self.iterations = 400\n",
    "        self.eval_every = 10\n",
    "        # this is need to get full vectors\n",
    "        self.minimum_probability = 0.0\n",
    "        self.alpha = \"auto\"\n",
    "        self.eta = \"auto\"\n",
    "\n",
    "    def train_model(self):\n",
    "        # YOUR CODE HERE\n",
    "        self.model = LdaModel(\n",
    "            corpus=self.corpus,\n",
    "            id2word=self.id2word,\n",
    "            num_topics=self.num_topics,\n",
    "            chunksize=self.chunksize,\n",
    "            passes=self.passes,\n",
    "            iterations=self.iterations,\n",
    "            eval_every=self.eval_every,\n",
    "            minimum_probability=self.minimum_probability,\n",
    "            alpha=self.alpha,\n",
    "            eta=self.eta,\n",
    "        )"
   ]
  },
  {
   "cell_type": "code",
   "execution_count": 62,
   "metadata": {
    "deletable": false,
    "editable": false,
    "nbgrader": {
     "cell_type": "code",
     "checksum": "be70fcb8098d0b6ce64cd2a10e6a05b7",
     "grade": true,
     "grade_id": "cell-86750b715f0345fd",
     "locked": true,
     "points": 0,
     "schema_version": 3,
     "solution": false,
     "task": false
    }
   },
   "outputs": [
    {
     "name": "stderr",
     "output_type": "stream",
     "text": [
      "2022-02-14 21:56:04,478 : INFO : adding document #0 to Dictionary(0 unique tokens: [])\n",
      "2022-02-14 21:56:04,621 : INFO : built Dictionary(5937 unique tokens: ['-', 'algebra', 'intern', 'languag', 'preliminari']...) from 3204 documents (total 115969 corpus positions)\n",
      "2022-02-14 21:56:04,630 : INFO : discarding 4740 tokens: [('repeat', 8), ('glossari', 7), ('inspect', 8), ('uncol', 2), ('rung', 9), ('secant', 2), ('.', 1603), ('acceler', 6), ('diverg', 3), ('induc', 9)]...\n",
      "2022-02-14 21:56:04,632 : INFO : keeping 1197 tokens which were in no less than 10 and no more than 1602 (=50.0%) documents\n",
      "2022-02-14 21:56:04,636 : INFO : resulting dictionary: Dictionary(1197 unique tokens: ['-', 'algebra', 'intern', 'languag', 'preliminari']...)\n",
      "2022-02-14 21:56:04,738 : INFO : using autotuned alpha, starting with [0.01, 0.01, 0.01, 0.01, 0.01, 0.01, 0.01, 0.01, 0.01, 0.01, 0.01, 0.01, 0.01, 0.01, 0.01, 0.01, 0.01, 0.01, 0.01, 0.01, 0.01, 0.01, 0.01, 0.01, 0.01, 0.01, 0.01, 0.01, 0.01, 0.01, 0.01, 0.01, 0.01, 0.01, 0.01, 0.01, 0.01, 0.01, 0.01, 0.01, 0.01, 0.01, 0.01, 0.01, 0.01, 0.01, 0.01, 0.01, 0.01, 0.01, 0.01, 0.01, 0.01, 0.01, 0.01, 0.01, 0.01, 0.01, 0.01, 0.01, 0.01, 0.01, 0.01, 0.01, 0.01, 0.01, 0.01, 0.01, 0.01, 0.01, 0.01, 0.01, 0.01, 0.01, 0.01, 0.01, 0.01, 0.01, 0.01, 0.01, 0.01, 0.01, 0.01, 0.01, 0.01, 0.01, 0.01, 0.01, 0.01, 0.01, 0.01, 0.01, 0.01, 0.01, 0.01, 0.01, 0.01, 0.01, 0.01, 0.01]\n",
      "2022-02-14 21:56:04,739 : INFO : using serial LDA version on this node\n",
      "2022-02-14 21:56:04,757 : INFO : running online (multi-pass) LDA training, 100 topics, 20 passes over the supplied corpus of 3204 documents, updating model once every 2000 documents, evaluating perplexity every 3204 documents, iterating 400x with a convergence threshold of 0.001000\n",
      "2022-02-14 21:56:04,758 : INFO : PROGRESS: pass 0, at document #2000/3204\n",
      "2022-02-14 21:56:06,492 : INFO : optimized alpha [0.009813563, 0.009840188, 0.00989235, 0.009890298, 0.0098601, 0.009824179, 0.00994321, 0.0098298155, 0.009902056, 0.009783234, 0.009830224, 0.00987028, 0.009871984, 0.009788295, 0.009844695, 0.009845472, 0.009840382, 0.009772555, 0.009793289, 0.009793347, 0.0097982595, 0.0098194415, 0.009869851, 0.0098296385, 0.009777975, 0.009824057, 0.009829574, 0.0098451255, 0.009783157, 0.009788116, 0.009809002, 0.009767506, 0.009814022, 0.009777832, 0.009808839, 0.009897074, 0.0098344665, 0.009839435, 0.010058509, 0.009871127, 0.009798373, 0.009797617, 0.00982954, 0.009824517, 0.009793329, 0.009798824, 0.00985017, 0.009819621, 0.009799255, 0.009865795, 0.009881767, 0.009772801, 0.0098036975, 0.009813741, 0.009798175, 0.009824363, 0.0099270055, 0.00982445, 0.009790955, 0.009809004, 0.0097935125, 0.009845407, 0.00978316, 0.009808974, 0.009819019, 0.009855161, 0.009772521, 0.009861402, 0.009918569, 0.009840073, 0.009844678, 0.009866784, 0.009798859, 0.009847037, 0.0097829, 0.009819761, 0.009798578, 0.009835029, 0.0097931335, 0.009959611, 0.00978803, 0.009782731, 0.0097932145, 0.009787934, 0.009855834, 0.009793608, 0.009908141, 0.009853435, 0.009855291, 0.009798247, 0.009814203, 0.009803501, 0.009793377, 0.009818951, 0.0098192645, 0.00981415, 0.00979871, 0.009793175, 0.009803908, 0.009885711]\n",
      "2022-02-14 21:56:06,499 : INFO : merging changes from 2000 documents into a model of 3204 documents\n",
      "2022-02-14 21:56:06,509 : INFO : topic #66 (0.010): 0.109*\"])\" + 0.109*\"algorithm\" + 0.109*\"(\" + 0.109*\"[\" + 0.037*\"s14\" + 0.037*\"analysi\" + 0.037*\"-\" + 0.037*\"probabl\" + 0.037*\"examin\" + 0.037*\"schedul\"\n",
      "2022-02-14 21:56:06,509 : INFO : topic #82 (0.010): 0.082*\"point\" + 0.033*\"intersect\" + 0.033*\"number\" + 0.030*\"algorithm\" + 0.030*\"(\" + 0.025*\"method\" + 0.016*\"plane\" + 0.016*\"arithmet\" + 0.016*\")\" + 0.016*\"equat\"\n",
      "2022-02-14 21:56:06,510 : INFO : topic #86 (0.010): 0.082*\",\" + 0.030*\"program\" + 0.022*\"-\" + 0.015*\"languag\" + 0.014*\"comput\" + 0.013*\"gener\" + 0.013*\"system\" + 0.012*\"method\" + 0.009*\"(\" + 0.009*\"\"\"\n",
      "2022-02-14 21:56:06,511 : INFO : topic #79 (0.010): 0.079*\",\" + 0.037*\"comput\" + 0.037*\"-\" + 0.017*\"program\" + 0.013*\"system\" + 0.012*\"algorithm\" + 0.011*\"gener\" + 0.010*\"rule\" + 0.009*\"method\" + 0.008*\"languag\"\n",
      "2022-02-14 21:56:06,513 : INFO : topic #38 (0.010): 0.060*\"-\" + 0.050*\",\" + 0.027*\"languag\" + 0.026*\"system\" + 0.023*\"comput\" + 0.019*\"method\" + 0.012*\"program\" + 0.011*\"gener\" + 0.011*\"(\" + 0.009*\"process\"\n",
      "2022-02-14 21:56:06,516 : INFO : topic diff=82.596779, rho=1.000000\n",
      "2022-02-14 21:56:07,609 : INFO : -7.285 per-word bound, 156.0 perplexity estimate based on a held-out corpus of 1204 documents with 49783 words\n",
      "2022-02-14 21:56:07,612 : INFO : PROGRESS: pass 0, at document #3204/3204\n",
      "2022-02-14 21:56:08,511 : INFO : optimized alpha [0.010257966, 0.00999501, 0.010161245, 0.009971294, 0.009734825, 0.009882569, 0.010139494, 0.009824595, 0.01006768, 0.009941902, 0.010418546, 0.0101945875, 0.01045669, 0.009800099, 0.009844136, 0.010242215, 0.009960044, 0.009759471, 0.009944507, 0.009799657, 0.009698102, 0.010186181, 0.010378814, 0.009847867, 0.009837705, 0.00978231, 0.009875772, 0.010365301, 0.009888202, 0.009659548, 0.009939389, 0.009650752, 0.010060424, 0.00982426, 0.009908135, 0.009896918, 0.009839069, 0.009915425, 0.010230453, 0.010030677, 0.009797914, 0.010158156, 0.0100527, 0.009777461, 0.009875324, 0.009975119, 0.009884366, 0.010068082, 0.010151794, 0.009841185, 0.009911569, 0.009674529, 0.010062104, 0.009783709, 0.009663042, 0.009966248, 0.010067235, 0.009900243, 0.009814116, 0.009897481, 0.009917768, 0.009951439, 0.010024733, 0.0101280715, 0.009830892, 0.009865807, 0.009632375, 0.009991916, 0.010181801, 0.009923233, 0.009832263, 0.0101306625, 0.009864078, 0.01003705, 0.0096602505, 0.01021817, 0.009957421, 0.010089419, 0.009803326, 0.010251687, 0.00977526, 0.009852442, 0.009885358, 0.00959504, 0.009915693, 0.009899849, 0.010039502, 0.010041859, 0.010245344, 0.009767242, 0.010121233, 0.009942749, 0.0099332975, 0.009847525, 0.010100973, 0.009909049, 0.010081654, 0.00969942, 0.010022965, 0.00996196]\n",
      "2022-02-14 21:56:08,517 : INFO : merging changes from 1204 documents into a model of 3204 documents\n",
      "2022-02-14 21:56:08,523 : INFO : topic #83 (0.010): 0.129*\"\"\" + 0.062*\"standard\" + 0.061*\",\" + 0.060*\"compar\" + 0.043*\"algorithm\" + 0.043*\"processor\" + 0.043*\"/\" + 0.036*\"process\" + 0.034*\"macro\" + 0.034*\"featur\"\n",
      "2022-02-14 21:56:08,524 : INFO : topic #66 (0.010): 0.185*\"algorithm\" + 0.142*\"(\" + 0.127*\"[\" + 0.097*\"probabl\" + 0.095*\"schedul\" + 0.058*\"test\" + 0.057*\"examin\" + 0.048*\"s14\" + 0.030*\"analysi\" + 0.025*\"])\"\n",
      "2022-02-14 21:56:08,524 : INFO : topic #22 (0.010): 0.065*\"tree\" + 0.056*\"-\" + 0.042*\"search\" + 0.038*\",\" + 0.036*\"node\" + 0.029*\"averag\" + 0.025*\"(\" + 0.018*\"updat\" + 0.018*\"algorithm\" + 0.018*\"structur\"\n",
      "2022-02-14 21:56:08,526 : INFO : topic #10 (0.010): 0.047*\"system\" + 0.047*\",\" + 0.032*\"model\" + 0.029*\"-\" + 0.029*\"comput\" + 0.023*\"event\" + 0.022*\"\"\" + 0.021*\"time\" + 0.020*\"set\" + 0.019*\"process\"\n",
      "2022-02-14 21:56:08,527 : INFO : topic #12 (0.010): 0.081*\",\" + 0.060*\"program\" + 0.036*\"system\" + 0.023*\"comput\" + 0.016*\"design\" + 0.016*\"problem\" + 0.015*\"time\" + 0.013*\"protect\" + 0.013*\"-\" + 0.013*\"execut\"\n",
      "2022-02-14 21:56:08,529 : INFO : topic diff=0.698853, rho=0.707107\n",
      "2022-02-14 21:56:08,541 : INFO : PROGRESS: pass 1, at document #2000/3204\n",
      "2022-02-14 21:56:09,447 : INFO : optimized alpha [0.0101957405, 0.010043637, 0.010178102, 0.009917701, 0.009712007, 0.00983066, 0.01006666, 0.009785061, 0.009999248, 0.009880922, 0.010359186, 0.0103247315, 0.010422237, 0.009771024, 0.0097721545, 0.010207702, 0.009923514, 0.0097891865, 0.009912198, 0.009793515, 0.009748147, 0.010120215, 0.010283112, 0.009771155, 0.009829336, 0.009855318, 0.009784665, 0.010253509, 0.009917607, 0.009640238, 0.009881327, 0.009664785, 0.01011332, 0.009844018, 0.009850525, 0.009808589, 0.009824816, 0.009968556, 0.010208371, 0.009922624, 0.009731953, 0.010113398, 0.009991717, 0.009746372, 0.009883457, 0.009929501, 0.009798526, 0.010001912, 0.010088522, 0.009748576, 0.00982067, 0.009603793, 0.009984911, 0.00976772, 0.009672024, 0.009915572, 0.010571128, 0.009895887, 0.009874214, 0.009813634, 0.009862531, 0.009882604, 0.010047648, 0.010047085, 0.009791026, 0.00976444, 0.010077038, 0.009941516, 0.010141651, 0.009852549, 0.009747363, 0.010047789, 0.009826499, 0.009950582, 0.00969982, 0.010262258, 0.00993019, 0.010022781, 0.009731755, 0.010237086, 0.009696635, 0.0104673365, 0.009857015, 0.0096049765, 0.009829683, 0.009829076, 0.009958597, 0.009965512, 0.01019975, 0.009826008, 0.010074934, 0.009918298, 0.009935633, 0.009838491, 0.010020356, 0.009835471, 0.010079315, 0.0097054755, 0.00998972, 0.009906039]\n",
      "2022-02-14 21:56:09,455 : INFO : merging changes from 2000 documents into a model of 3204 documents\n",
      "2022-02-14 21:56:09,461 : INFO : topic #51 (0.010): 0.131*\"display\" + 0.067*\"imag\" + 0.060*\",\" + 0.055*\"requir\" + 0.044*\"comput\" + 0.027*\"point\" + 0.023*\"gener\" + 0.021*\"techniqu\" + 0.019*\"system\" + 0.018*\"cost\"\n",
      "2022-02-14 21:56:09,462 : INFO : topic #31 (0.010): 0.168*\"compil\" + 0.112*\"gener\" + 0.110*\",\" + 0.055*\"version\" + 0.047*\"random\" + 0.038*\"-\" + 0.035*\"cdc\" + 0.032*\"satisfi\" + 0.031*\"comput\" + 0.027*\"accept\"\n",
      "2022-02-14 21:56:09,463 : INFO : topic #12 (0.010): 0.079*\",\" + 0.064*\"program\" + 0.040*\"system\" + 0.025*\"comput\" + 0.018*\"problem\" + 0.016*\"time\" + 0.015*\"design\" + 0.014*\"-\" + 0.014*\"execut\" + 0.012*\"multiprogram\"\n",
      "2022-02-14 21:56:09,464 : INFO : topic #81 (0.010): 0.243*\"algorithm\" + 0.232*\"(\" + 0.216*\")\" + 0.039*\"integr\" + 0.037*\"permut\" + 0.028*\"[\" + 0.025*\"d1\" + 0.024*\"exponenti\" + 0.023*\"gener\" + 0.022*\"partit\"\n",
      "2022-02-14 21:56:09,467 : INFO : topic #56 (0.011): 0.145*\"(\" + 0.118*\")\" + 0.113*\"algorithm\" + 0.052*\"equat\" + 0.047*\"polynomi\" + 0.035*\"solut\" + 0.033*\"squar\" + 0.031*\"[\" + 0.022*\"root\" + 0.020*\"function\"\n",
      "2022-02-14 21:56:09,469 : INFO : topic diff=0.315139, rho=0.526900\n",
      "2022-02-14 21:56:10,563 : INFO : -6.902 per-word bound, 119.6 perplexity estimate based on a held-out corpus of 1204 documents with 49783 words\n",
      "2022-02-14 21:56:10,563 : INFO : PROGRESS: pass 1, at document #3204/3204\n",
      "2022-02-14 21:56:11,446 : INFO : optimized alpha [0.010393979, 0.010216576, 0.010384505, 0.010026854, 0.009684451, 0.009853303, 0.010172357, 0.009792001, 0.010149082, 0.010003543, 0.010705372, 0.010536624, 0.010695181, 0.009864227, 0.009821701, 0.010443735, 0.010026129, 0.009879711, 0.010099838, 0.0098909065, 0.0097497245, 0.0103741335, 0.010711847, 0.0098005375, 0.010045386, 0.00988557, 0.009873067, 0.010608354, 0.010031092, 0.009639596, 0.010058561, 0.009727479, 0.010428573, 0.009996693, 0.009982028, 0.009784898, 0.009864101, 0.010050978, 0.010285271, 0.01006003, 0.009841971, 0.010625349, 0.010202523, 0.009775116, 0.010045482, 0.010047953, 0.009843473, 0.010183613, 0.010363666, 0.009750861, 0.009827454, 0.009621767, 0.010250164, 0.009808187, 0.009721581, 0.010035009, 0.010661315, 0.009969709, 0.010001061, 0.009945773, 0.009964464, 0.00997942, 0.01027313, 0.010287555, 0.009819437, 0.009788192, 0.010067247, 0.010012245, 0.010206904, 0.009920168, 0.009841115, 0.010173185, 0.009937347, 0.010092127, 0.009710831, 0.010658094, 0.01016339, 0.010154692, 0.009818969, 0.010378101, 0.0097546205, 0.011138852, 0.010043903, 0.009728743, 0.009857998, 0.009931137, 0.010034461, 0.009999864, 0.010467368, 0.009989095, 0.010342319, 0.010043965, 0.010114674, 0.009952125, 0.0102627305, 0.009920184, 0.010287211, 0.009802877, 0.010189511, 0.010012]\n",
      "2022-02-14 21:56:11,452 : INFO : merging changes from 1204 documents into a model of 3204 documents\n",
      "2022-02-14 21:56:11,460 : INFO : topic #29 (0.010): 0.070*\"code\" + 0.059*\"basic\" + 0.057*\"program\" + 0.050*\"chang\" + 0.049*\"linear\" + 0.042*\"extens\" + 0.035*\"condit\" + 0.030*\"label\" + 0.030*\",\" + 0.026*\"propos\"\n",
      "2022-02-14 21:56:11,461 : INFO : topic #51 (0.010): 0.149*\"display\" + 0.101*\"imag\" + 0.075*\"requir\" + 0.057*\",\" + 0.044*\"comput\" + 0.025*\"gener\" + 0.022*\"cost\" + 0.020*\"interact\" + 0.020*\"point\" + 0.020*\"coordin\"\n",
      "2022-02-14 21:56:11,463 : INFO : topic #22 (0.011): 0.093*\"tree\" + 0.055*\"-\" + 0.053*\"search\" + 0.043*\",\" + 0.043*\"node\" + 0.030*\"averag\" + 0.021*\"updat\" + 0.019*\"structur\" + 0.019*\"(\" + 0.016*\"time\"\n",
      "2022-02-14 21:56:11,466 : INFO : topic #10 (0.011): 0.051*\"system\" + 0.046*\",\" + 0.039*\"model\" + 0.032*\"-\" + 0.027*\"set\" + 0.026*\"comput\" + 0.026*\"event\" + 0.025*\"time\" + 0.022*\"work\" + 0.020*\"oper\"\n",
      "2022-02-14 21:56:11,467 : INFO : topic #81 (0.011): 0.258*\"algorithm\" + 0.247*\"(\" + 0.232*\")\" + 0.036*\"permut\" + 0.035*\"[\" + 0.026*\"integr\" + 0.022*\"d1\" + 0.022*\"gener\" + 0.020*\"exponenti\" + 0.018*\"partit\"\n",
      "2022-02-14 21:56:11,469 : INFO : topic diff=0.411481, rho=0.526900\n",
      "2022-02-14 21:56:11,487 : INFO : PROGRESS: pass 2, at document #2000/3204\n",
      "2022-02-14 21:56:12,509 : INFO : optimized alpha [0.010364577, 0.010345222, 0.010444552, 0.009981986, 0.009698112, 0.009816071, 0.010110804, 0.009795777, 0.010090297, 0.009961337, 0.010658717, 0.010646561, 0.010656628, 0.009929692, 0.009787412, 0.010410989, 0.010010286, 0.00999631, 0.010072342, 0.0099460855, 0.009890904, 0.010320538, 0.010635784, 0.009785838, 0.010090803, 0.010006587, 0.009826168, 0.01050973, 0.010094814, 0.009707942, 0.010051339, 0.009852046, 0.010527522, 0.010076891, 0.009945031, 0.009703329, 0.009868427, 0.010125945, 0.010250965, 0.0099720415, 0.009811781, 0.010587925, 0.010187698, 0.009778916, 0.01007528, 0.010017061, 0.009792862, 0.010145489, 0.010326666, 0.009688145, 0.009768676, 0.009575254, 0.010188871, 0.009829625, 0.009784575, 0.010002143, 0.011034094, 0.009970059, 0.0101258885, 0.009883446, 0.009951303, 0.009919234, 0.010325512, 0.010230716, 0.009811014, 0.009722214, 0.010541528, 0.009992132, 0.010179023, 0.009873152, 0.009810979, 0.010095228, 0.009918216, 0.010032227, 0.009780907, 0.010754812, 0.010158533, 0.010100384, 0.009807117, 0.010374188, 0.009709514, 0.012107759, 0.010066882, 0.009826585, 0.009798269, 0.0098996, 0.009966481, 0.009946287, 0.01046603, 0.010084445, 0.010313049, 0.010019571, 0.010158157, 0.009993053, 0.010198872, 0.009888793, 0.010276124, 0.00988671, 0.010161022, 0.009969771]\n",
      "2022-02-14 21:56:12,516 : INFO : merging changes from 2000 documents into a model of 3204 documents\n",
      "2022-02-14 21:56:12,524 : INFO : topic #51 (0.010): 0.144*\"display\" + 0.079*\"imag\" + 0.064*\"requir\" + 0.058*\",\" + 0.054*\"comput\" + 0.026*\"gener\" + 0.025*\"point\" + 0.020*\"techniqu\" + 0.019*\"interact\" + 0.019*\"cost\"\n",
      "2022-02-14 21:56:12,525 : INFO : topic #49 (0.010): 0.070*\",\" + 0.044*\"-\" + 0.036*\"comput\" + 0.032*\"multiprogram\" + 0.031*\"schedul\" + 0.029*\"tridiagon\" + 0.022*\"time\" + 0.021*\"system\" + 0.020*\"traffic\" + 0.020*\"simul\"\n",
      "2022-02-14 21:56:12,526 : INFO : topic #75 (0.011): 0.094*\"system\" + 0.057*\",\" + 0.043*\"data\" + 0.033*\"program\" + 0.030*\"-\" + 0.024*\"user\" + 0.023*\"design\" + 0.017*\"larg\" + 0.014*\"time\" + 0.014*\"organ\"\n",
      "2022-02-14 21:56:12,526 : INFO : topic #56 (0.011): 0.141*\"(\" + 0.111*\")\" + 0.100*\"algorithm\" + 0.062*\"polynomi\" + 0.053*\"equat\" + 0.050*\"squar\" + 0.038*\"solut\" + 0.034*\"root\" + 0.032*\"function\" + 0.022*\"[\"\n",
      "2022-02-14 21:56:12,527 : INFO : topic #81 (0.012): 0.273*\"(\" + 0.261*\")\" + 0.257*\"algorithm\" + 0.028*\"integr\" + 0.026*\"permut\" + 0.020*\"gener\" + 0.018*\"exponenti\" + 0.018*\"[\" + 0.017*\"order\" + 0.017*\"d1\"\n",
      "2022-02-14 21:56:12,543 : INFO : topic diff=0.376312, rho=0.466151\n",
      "2022-02-14 21:56:13,620 : INFO : -6.784 per-word bound, 110.2 perplexity estimate based on a held-out corpus of 1204 documents with 49783 words\n",
      "2022-02-14 21:56:13,621 : INFO : PROGRESS: pass 2, at document #3204/3204\n",
      "2022-02-14 21:56:14,535 : INFO : optimized alpha [0.010561695, 0.010478329, 0.010644989, 0.010075572, 0.009736119, 0.009872026, 0.010193089, 0.009826177, 0.0102556795, 0.010097913, 0.010914507, 0.010847519, 0.010875122, 0.0100517, 0.009870622, 0.0105969515, 0.010141022, 0.010064119, 0.010290928, 0.010075208, 0.009929812, 0.010547249, 0.011035457, 0.009851561, 0.01036393, 0.010056014, 0.009909087, 0.01080759, 0.010215078, 0.0097418595, 0.010244884, 0.009968552, 0.010870224, 0.010263592, 0.010054361, 0.009685671, 0.009919167, 0.010250277, 0.010303433, 0.010118256, 0.009928986, 0.011132469, 0.010355611, 0.009835896, 0.010262486, 0.010118615, 0.009872669, 0.010323251, 0.010560753, 0.009715219, 0.009780768, 0.009607953, 0.01045782, 0.00989305, 0.009866335, 0.010128516, 0.011139939, 0.0100633, 0.010309444, 0.010047536, 0.0100497445, 0.010009957, 0.010510742, 0.010469636, 0.009882972, 0.009767936, 0.010619549, 0.010082894, 0.010233085, 0.009980686, 0.00998321, 0.010202922, 0.010028565, 0.010185941, 0.009802139, 0.0111363325, 0.010403556, 0.010221749, 0.009945944, 0.010474734, 0.009792245, 0.012959478, 0.010296235, 0.010082253, 0.009801829, 0.010017772, 0.010065935, 0.009977956, 0.010709639, 0.010268551, 0.010596865, 0.01012363, 0.010361352, 0.010097651, 0.010419286, 0.009995214, 0.010445146, 0.010023108, 0.010386751, 0.010111017]\n",
      "2022-02-14 21:56:14,544 : INFO : merging changes from 1204 documents into a model of 3204 documents\n",
      "2022-02-14 21:56:14,552 : INFO : topic #51 (0.010): 0.153*\"display\" + 0.100*\"imag\" + 0.075*\"requir\" + 0.057*\",\" + 0.055*\"comput\" + 0.026*\"gener\" + 0.026*\"interact\" + 0.024*\"draw\" + 0.022*\"cost\" + 0.021*\"pictur\"\n",
      "2022-02-14 21:56:14,553 : INFO : topic #35 (0.010): 0.133*\",\" + 0.081*\"-\" + 0.035*\"grammar\" + 0.027*\"algorithm\" + 0.025*\"rotat\" + 0.020*\"(\" + 0.019*\"system\" + 0.017*\"pars\" + 0.015*\"element\" + 0.014*\"context\"\n",
      "2022-02-14 21:56:14,553 : INFO : topic #56 (0.011): 0.146*\"(\" + 0.122*\")\" + 0.097*\"algorithm\" + 0.057*\"equat\" + 0.055*\"polynomi\" + 0.050*\"squar\" + 0.042*\"solut\" + 0.036*\"function\" + 0.029*\"root\" + 0.026*\"ordinari\"\n",
      "2022-02-14 21:56:14,554 : INFO : topic #41 (0.011): 0.189*\"]\" + 0.057*\"minim\" + 0.053*\"set\" + 0.038*\",\" + 0.030*\"function\" + 0.028*\"buffer\" + 0.028*\"program\" + 0.027*\")\" + 0.027*\"(\" + 0.023*\"a1\"\n",
      "2022-02-14 21:56:14,556 : INFO : topic #81 (0.013): 0.282*\"(\" + 0.266*\"algorithm\" + 0.266*\")\" + 0.021*\"integr\" + 0.021*\"permut\" + 0.019*\"[\" + 0.019*\"gener\" + 0.017*\"d1\" + 0.016*\"exponenti\" + 0.016*\"order\"\n",
      "2022-02-14 21:56:14,560 : INFO : topic diff=0.501347, rho=0.466151\n",
      "2022-02-14 21:56:14,575 : INFO : PROGRESS: pass 3, at document #2000/3204\n",
      "2022-02-14 21:56:15,539 : INFO : optimized alpha [0.0105474675, 0.01063602, 0.010710312, 0.010039584, 0.009782446, 0.009851837, 0.0101359775, 0.009840928, 0.010206137, 0.010065881, 0.010877074, 0.010935568, 0.01083855, 0.01017147, 0.009858816, 0.010577528, 0.010152365, 0.010200765, 0.010286357, 0.01015725, 0.0101161385, 0.010517174, 0.010975553, 0.009874851, 0.0104237925, 0.010213976, 0.009884186, 0.010719892, 0.010312045, 0.009839775, 0.010276423, 0.01015671, 0.011003424, 0.010373222, 0.0100338515, 0.009633532, 0.00994479, 0.010340132, 0.0102843065, 0.010049444, 0.00990794, 0.011110124, 0.010376606, 0.00985262, 0.010312587, 0.010110237, 0.009852857, 0.010287796, 0.010541163, 0.009668487, 0.009735846, 0.009585701, 0.010413251, 0.009925448, 0.009938177, 0.010113713, 0.0114922505, 0.010067987, 0.010489524, 0.010005254, 0.010050827, 0.009934824, 0.0105555365, 0.010427383, 0.009905279, 0.0097347405, 0.011072111, 0.010071276, 0.010217508, 0.009940556, 0.00997841, 0.010148389, 0.010019807, 0.01014427, 0.009876641, 0.011247033, 0.010421686, 0.010185756, 0.009951622, 0.010493558, 0.009747796, 0.014098036, 0.010348463, 0.010188306, 0.009768897, 0.010014826, 0.01001799, 0.009952368, 0.010738451, 0.010381045, 0.010588187, 0.01011021, 0.010419623, 0.0101519, 0.010370977, 0.009996699, 0.010436425, 0.010122971, 0.010365966, 0.010091927]\n",
      "2022-02-14 21:56:15,546 : INFO : merging changes from 2000 documents into a model of 3204 documents\n",
      "2022-02-14 21:56:15,554 : INFO : topic #51 (0.010): 0.149*\"display\" + 0.082*\"imag\" + 0.064*\"requir\" + 0.063*\"comput\" + 0.058*\",\" + 0.027*\"gener\" + 0.025*\"interact\" + 0.022*\"point\" + 0.021*\"cost\" + 0.019*\"techniqu\"\n",
      "2022-02-14 21:56:15,555 : INFO : topic #35 (0.010): 0.133*\",\" + 0.084*\"-\" + 0.030*\"grammar\" + 0.024*\"rotat\" + 0.023*\"algorithm\" + 0.021*\"(\" + 0.020*\"pars\" + 0.020*\"element\" + 0.018*\"system\" + 0.013*\"context\"\n",
      "2022-02-14 21:56:15,556 : INFO : topic #75 (0.011): 0.111*\"system\" + 0.060*\",\" + 0.042*\"data\" + 0.031*\"-\" + 0.031*\"program\" + 0.029*\"design\" + 0.027*\"user\" + 0.017*\"larg\" + 0.015*\"time\" + 0.014*\"share\"\n",
      "2022-02-14 21:56:15,557 : INFO : topic #56 (0.011): 0.135*\"(\" + 0.107*\")\" + 0.093*\"algorithm\" + 0.074*\"polynomi\" + 0.062*\"squar\" + 0.052*\"equat\" + 0.041*\"function\" + 0.040*\"solut\" + 0.040*\"root\" + 0.025*\"ordinari\"\n",
      "2022-02-14 21:56:15,559 : INFO : topic #81 (0.014): 0.296*\"(\" + 0.282*\")\" + 0.261*\"algorithm\" + 0.024*\"integr\" + 0.017*\"gener\" + 0.017*\"permut\" + 0.015*\"exponenti\" + 0.015*\"order\" + 0.014*\"d1\" + 0.011*\"[\"\n",
      "2022-02-14 21:56:15,561 : INFO : topic diff=0.514684, rho=0.422502\n",
      "2022-02-14 21:56:16,611 : INFO : -6.698 per-word bound, 103.8 perplexity estimate based on a held-out corpus of 1204 documents with 49783 words\n",
      "2022-02-14 21:56:16,612 : INFO : PROGRESS: pass 3, at document #3204/3204\n",
      "2022-02-14 21:56:17,485 : INFO : optimized alpha [0.010738976, 0.010737558, 0.01089751, 0.010136042, 0.009827666, 0.009910461, 0.010222407, 0.009900702, 0.010360848, 0.010194177, 0.011099522, 0.011103522, 0.011038358, 0.010365551, 0.0099664945, 0.010762228, 0.0102753015, 0.010275782, 0.01051225, 0.010292687, 0.010174892, 0.0107135, 0.011356589, 0.009970222, 0.0107169105, 0.010272058, 0.009991752, 0.011000819, 0.010424885, 0.009894638, 0.010479247, 0.010305197, 0.011345278, 0.010555112, 0.01014795, 0.00961634, 0.010001698, 0.0104787145, 0.01036193, 0.010211682, 0.010043077, 0.011616234, 0.010540731, 0.009915248, 0.010479985, 0.0101921605, 0.0099505875, 0.010439115, 0.010729127, 0.0097116735, 0.009755358, 0.0096199745, 0.010708369, 0.0100008175, 0.010061113, 0.010232575, 0.011593423, 0.010181646, 0.010683508, 0.01016224, 0.010133764, 0.010021796, 0.010717382, 0.010650226, 0.009995557, 0.009797835, 0.011216357, 0.010186286, 0.010248936, 0.01006382, 0.0102065895, 0.01025062, 0.010127741, 0.010277471, 0.0099063385, 0.011598313, 0.010668139, 0.010300226, 0.010095912, 0.010611179, 0.009837499, 0.015119407, 0.010573834, 0.010481911, 0.0097772805, 0.010137007, 0.010126998, 0.009989242, 0.010984713, 0.010541874, 0.010852714, 0.01021948, 0.010631497, 0.010254328, 0.01057621, 0.010104461, 0.010586999, 0.010279638, 0.010591128, 0.010242507]\n",
      "2022-02-14 21:56:17,493 : INFO : merging changes from 1204 documents into a model of 3204 documents\n",
      "2022-02-14 21:56:17,500 : INFO : topic #35 (0.010): 0.140*\",\" + 0.095*\"-\" + 0.030*\"grammar\" + 0.028*\"rotat\" + 0.025*\"element\" + 0.024*\"algorithm\" + 0.020*\"pars\" + 0.019*\"(\" + 0.017*\"system\" + 0.015*\"construct\"\n",
      "2022-02-14 21:56:17,501 : INFO : topic #51 (0.010): 0.154*\"display\" + 0.099*\"imag\" + 0.074*\"requir\" + 0.062*\"comput\" + 0.057*\",\" + 0.029*\"interact\" + 0.027*\"gener\" + 0.026*\"draw\" + 0.024*\"cost\" + 0.021*\"pictur\"\n",
      "2022-02-14 21:56:17,502 : INFO : topic #56 (0.012): 0.136*\"(\" + 0.112*\")\" + 0.092*\"algorithm\" + 0.066*\"polynomi\" + 0.062*\"squar\" + 0.054*\"equat\" + 0.044*\"function\" + 0.044*\"solut\" + 0.036*\"root\" + 0.031*\"ordinari\"\n",
      "2022-02-14 21:56:17,503 : INFO : topic #75 (0.012): 0.118*\"system\" + 0.062*\",\" + 0.040*\"data\" + 0.035*\"design\" + 0.030*\"-\" + 0.027*\"user\" + 0.026*\"program\" + 0.017*\"oper\" + 0.017*\"larg\" + 0.014*\"discuss\"\n",
      "2022-02-14 21:56:17,513 : INFO : topic #81 (0.015): 0.309*\"(\" + 0.290*\")\" + 0.261*\"algorithm\" + 0.020*\"integr\" + 0.016*\"gener\" + 0.014*\"order\" + 0.014*\"d1\" + 0.013*\"exponenti\" + 0.010*\"permut\" + 0.010*\"[\"\n",
      "2022-02-14 21:56:17,514 : INFO : topic diff=0.627272, rho=0.422502\n",
      "2022-02-14 21:56:17,532 : INFO : PROGRESS: pass 4, at document #2000/3204\n",
      "2022-02-14 21:56:18,471 : INFO : optimized alpha [0.0107291695, 0.010901525, 0.010961859, 0.01010722, 0.00989785, 0.009884863, 0.010168539, 0.009924526, 0.010325044, 0.010178466, 0.011061388, 0.01118023, 0.011012463, 0.010513746, 0.009971243, 0.010753958, 0.010297594, 0.010423184, 0.010519001, 0.010388788, 0.010381004, 0.010686795, 0.011303701, 0.009999946, 0.010815209, 0.010443652, 0.009980642, 0.010930561, 0.010533445, 0.010008988, 0.010556694, 0.010520063, 0.011489105, 0.010683691, 0.010139049, 0.0095875515, 0.010027838, 0.01056385, 0.010355061, 0.010143858, 0.0100174565, 0.011585261, 0.010578133, 0.009938804, 0.010536002, 0.0101887835, 0.009957994, 0.010410063, 0.010712225, 0.009677484, 0.009728974, 0.009606265, 0.01067936, 0.010036899, 0.0101471385, 0.010230871, 0.011923989, 0.010197778, 0.010873184, 0.010136757, 0.010147013, 0.009951655, 0.010749945, 0.010620272, 0.0100261215, 0.009768105, 0.011646576, 0.010183466, 0.010239608, 0.010054426, 0.010212746, 0.010206937, 0.010133566, 0.010245093, 0.009977624, 0.011695717, 0.010687625, 0.01029129, 0.010120485, 0.010647288, 0.009820032, 0.016375206, 0.010633721, 0.010602502, 0.009758083, 0.010128296, 0.010097025, 0.009986436, 0.011016507, 0.010648361, 0.010857732, 0.010211143, 0.010707399, 0.010322585, 0.010542975, 0.010131502, 0.010588894, 0.010402424, 0.010591436, 0.010234495]\n",
      "2022-02-14 21:56:18,480 : INFO : merging changes from 2000 documents into a model of 3204 documents\n",
      "2022-02-14 21:56:18,487 : INFO : topic #51 (0.010): 0.151*\"display\" + 0.082*\"imag\" + 0.069*\"comput\" + 0.064*\"requir\" + 0.058*\",\" + 0.028*\"gener\" + 0.027*\"interact\" + 0.023*\"cost\" + 0.022*\"point\" + 0.021*\"draw\"\n",
      "2022-02-14 21:56:18,488 : INFO : topic #35 (0.010): 0.140*\",\" + 0.096*\"-\" + 0.034*\"element\" + 0.027*\"rotat\" + 0.026*\"grammar\" + 0.022*\"pars\" + 0.021*\"algorithm\" + 0.019*\"(\" + 0.016*\"system\" + 0.013*\"context\"\n",
      "2022-02-14 21:56:18,489 : INFO : topic #75 (0.012): 0.123*\"system\" + 0.063*\",\" + 0.040*\"data\" + 0.033*\"design\" + 0.031*\"-\" + 0.028*\"program\" + 0.027*\"user\" + 0.018*\"larg\" + 0.017*\"oper\" + 0.015*\"time\"\n",
      "2022-02-14 21:56:18,489 : INFO : topic #56 (0.012): 0.124*\"(\" + 0.098*\")\" + 0.089*\"algorithm\" + 0.084*\"polynomi\" + 0.071*\"squar\" + 0.050*\"equat\" + 0.047*\"function\" + 0.045*\"root\" + 0.042*\"solut\" + 0.029*\"ordinari\"\n",
      "2022-02-14 21:56:18,490 : INFO : topic #81 (0.016): 0.317*\"(\" + 0.300*\")\" + 0.254*\"algorithm\" + 0.022*\"integr\" + 0.014*\"gener\" + 0.013*\"order\" + 0.012*\"exponenti\" + 0.011*\"d1\" + 0.010*\"permut\" + 0.007*\"-\"\n",
      "2022-02-14 21:56:18,491 : INFO : topic diff=0.613400, rho=0.389191\n",
      "2022-02-14 21:56:19,540 : INFO : -6.638 per-word bound, 99.6 perplexity estimate based on a held-out corpus of 1204 documents with 49783 words\n",
      "2022-02-14 21:56:19,541 : INFO : PROGRESS: pass 4, at document #3204/3204\n",
      "2022-02-14 21:56:20,401 : INFO : optimized alpha [0.010907354, 0.010987549, 0.011143285, 0.010206878, 0.009958928, 0.009942972, 0.010272399, 0.010002867, 0.010482577, 0.010284373, 0.011264604, 0.011339734, 0.01119842, 0.010715757, 0.010090742, 0.010918489, 0.010421718, 0.010491858, 0.0107605, 0.010514323, 0.010464401, 0.010876376, 0.011668728, 0.010131297, 0.011129948, 0.010509688, 0.010080579, 0.011188932, 0.010654854, 0.010091758, 0.0107909115, 0.010698697, 0.011808191, 0.01086674, 0.010251712, 0.00957363, 0.010084089, 0.010706138, 0.010430791, 0.010307966, 0.010149463, 0.01205723, 0.010744317, 0.010003493, 0.0106983995, 0.01026819, 0.010091234, 0.010547011, 0.010890341, 0.009721634, 0.009757872, 0.009645072, 0.01098328, 0.010106766, 0.010277521, 0.010361488, 0.012010926, 0.010343066, 0.011075279, 0.010292569, 0.010237225, 0.010029585, 0.010907104, 0.010848898, 0.010122893, 0.009820834, 0.011808909, 0.01030688, 0.010279657, 0.01019864, 0.010429602, 0.010288474, 0.010250154, 0.010382138, 0.010018002, 0.012038566, 0.010917767, 0.010421271, 0.0102741495, 0.010749187, 0.0099035045, 0.017545613, 0.010868277, 0.010910113, 0.009770365, 0.010231834, 0.010201747, 0.0100344485, 0.01127513, 0.01081479, 0.011119245, 0.010312687, 0.010925955, 0.010417371, 0.010768424, 0.010241427, 0.010704513, 0.010548044, 0.010822021, 0.010418106]\n",
      "2022-02-14 21:56:20,409 : INFO : merging changes from 1204 documents into a model of 3204 documents\n",
      "2022-02-14 21:56:20,416 : INFO : topic #51 (0.010): 0.156*\"display\" + 0.097*\"imag\" + 0.072*\"requir\" + 0.068*\"comput\" + 0.057*\",\" + 0.031*\"interact\" + 0.027*\"gener\" + 0.027*\"draw\" + 0.026*\"cost\" + 0.021*\"pictur\"\n",
      "2022-02-14 21:56:20,416 : INFO : topic #35 (0.010): 0.145*\",\" + 0.104*\"-\" + 0.036*\"element\" + 0.030*\"rotat\" + 0.025*\"grammar\" + 0.022*\"algorithm\" + 0.019*\"pars\" + 0.018*\"(\" + 0.018*\"construct\" + 0.016*\"system\"\n",
      "2022-02-14 21:56:20,417 : INFO : topic #56 (0.012): 0.124*\"(\" + 0.103*\")\" + 0.086*\"algorithm\" + 0.075*\"polynomi\" + 0.072*\"squar\" + 0.052*\"equat\" + 0.050*\"function\" + 0.046*\"solut\" + 0.041*\"root\" + 0.035*\"ordinari\"\n",
      "2022-02-14 21:56:20,418 : INFO : topic #41 (0.012): 0.230*\"]\" + 0.071*\"minim\" + 0.055*\"set\" + 0.037*\"function\" + 0.031*\"buffer\" + 0.028*\"a1\" + 0.027*\"simultan\" + 0.025*\",\" + 0.023*\"program\" + 0.023*\"regress\"\n",
      "2022-02-14 21:56:20,421 : INFO : topic #81 (0.018): 0.329*\"(\" + 0.308*\")\" + 0.251*\"algorithm\" + 0.019*\"integr\" + 0.013*\"order\" + 0.013*\"gener\" + 0.011*\"exponenti\" + 0.010*\"d1\" + 0.008*\"-\" + 0.006*\"permut\"\n",
      "2022-02-14 21:56:20,424 : INFO : topic diff=0.677079, rho=0.389191\n",
      "2022-02-14 21:56:20,440 : INFO : PROGRESS: pass 5, at document #2000/3204\n",
      "2022-02-14 21:56:21,351 : INFO : optimized alpha [0.010895498, 0.011142513, 0.011211324, 0.010189604, 0.010025055, 0.009945006, 0.0102338055, 0.010047403, 0.01045642, 0.010275472, 0.011236262, 0.011419631, 0.0111693, 0.010891106, 0.010113457, 0.01092218, 0.010453945, 0.010638666, 0.010763453, 0.0106085045, 0.010682824, 0.010852522, 0.011613568, 0.010190578, 0.011250341, 0.010687243, 0.010083348, 0.01112971, 0.01077453, 0.010217974, 0.01090832, 0.0109402435, 0.011967281, 0.01099982, 0.0102547165, 0.009550173, 0.010116326, 0.010789776, 0.0104286745, 0.0102557335, 0.010129089, 0.012023195, 0.01080629, 0.010033226, 0.010752499, 0.010263544, 0.010116415, 0.010527525, 0.010877893, 0.009694363, 0.009743385, 0.00963316, 0.010961822, 0.010144458, 0.010376903, 0.010363561, 0.0123391375, 0.010367163, 0.01127561, 0.010272039, 0.010264883, 0.00996891, 0.010941232, 0.01082551, 0.010158984, 0.009802849, 0.012232082, 0.010317314, 0.010277599, 0.010197056, 0.010430478, 0.010261706, 0.010266809, 0.010370828, 0.010092416, 0.01215337, 0.010940813, 0.010424257, 0.010307938, 0.010795065, 0.009887595, 0.018956982, 0.010933564, 0.011045326, 0.009762628, 0.010227558, 0.010170331, 0.010047341, 0.011322122, 0.010912763, 0.011118305, 0.01031255, 0.011012491, 0.010485299, 0.010759726, 0.010274263, 0.010710253, 0.010683075, 0.010828959, 0.010413695]\n",
      "2022-02-14 21:56:21,358 : INFO : merging changes from 2000 documents into a model of 3204 documents\n",
      "2022-02-14 21:56:21,364 : INFO : topic #35 (0.010): 0.144*\",\" + 0.106*\"-\" + 0.045*\"element\" + 0.030*\"rotat\" + 0.022*\"grammar\" + 0.021*\"pars\" + 0.020*\"algorithm\" + 0.018*\"(\" + 0.015*\"construct\" + 0.014*\"system\"\n",
      "2022-02-14 21:56:21,365 : INFO : topic #51 (0.010): 0.153*\"display\" + 0.082*\"imag\" + 0.074*\"comput\" + 0.063*\"requir\" + 0.058*\",\" + 0.029*\"interact\" + 0.028*\"gener\" + 0.024*\"cost\" + 0.022*\"draw\" + 0.020*\"point\"\n",
      "2022-02-14 21:56:21,365 : INFO : topic #66 (0.012): 0.312*\"[\" + 0.212*\"algorithm\" + 0.210*\"])\" + 0.200*\"(\" + 0.021*\"s14\" + 0.021*\"-\" + 0.004*\"probabl\" + 0.004*\"test\" + 0.002*\"examin\" + 0.001*\"schedul\"\n",
      "2022-02-14 21:56:21,366 : INFO : topic #56 (0.012): 0.112*\"(\" + 0.092*\"polynomi\" + 0.088*\")\" + 0.083*\"algorithm\" + 0.080*\"squar\" + 0.053*\"function\" + 0.049*\"root\" + 0.049*\"equat\" + 0.043*\"solut\" + 0.034*\"ordinari\"\n",
      "2022-02-14 21:56:21,368 : INFO : topic #81 (0.019): 0.333*\"(\" + 0.316*\")\" + 0.247*\"algorithm\" + 0.021*\"integr\" + 0.012*\"order\" + 0.011*\"exponenti\" + 0.010*\"gener\" + 0.008*\"d1\" + 0.006*\"-\" + 0.005*\"permut\"\n",
      "2022-02-14 21:56:21,369 : INFO : topic diff=0.623378, rho=0.362690\n",
      "2022-02-14 21:56:22,373 : INFO : -6.597 per-word bound, 96.8 perplexity estimate based on a held-out corpus of 1204 documents with 49783 words\n",
      "2022-02-14 21:56:22,374 : INFO : PROGRESS: pass 5, at document #3204/3204\n",
      "2022-02-14 21:56:23,199 : INFO : optimized alpha [0.011059887, 0.011215233, 0.011389006, 0.010305004, 0.0100975605, 0.00999989, 0.010325313, 0.010127113, 0.010614149, 0.010362488, 0.011424048, 0.011576298, 0.011344307, 0.011111908, 0.010247138, 0.011083531, 0.010576787, 0.01070228, 0.011014675, 0.010723109, 0.010779092, 0.011037552, 0.011956259, 0.010323529, 0.011564473, 0.010761098, 0.010189638, 0.01137347, 0.010884984, 0.0103013385, 0.01115687, 0.011131858, 0.0123189315, 0.011195776, 0.0103853615, 0.009559156, 0.010169335, 0.010943034, 0.010503085, 0.010425934, 0.010262426, 0.01246325, 0.010972339, 0.010100196, 0.010911711, 0.010332098, 0.010260084, 0.010662649, 0.011042031, 0.009745353, 0.009774309, 0.0096702855, 0.011263317, 0.010216184, 0.010511762, 0.0104958415, 0.012406291, 0.010525621, 0.011480336, 0.010421624, 0.010355816, 0.010051804, 0.011082439, 0.011074443, 0.010286612, 0.009876631, 0.012394625, 0.010436548, 0.010315857, 0.010339031, 0.010666934, 0.0103636095, 0.010379452, 0.010509116, 0.010130196, 0.012499014, 0.011168405, 0.0105718775, 0.010471139, 0.0109171625, 0.009978215, 0.02031584, 0.011165396, 0.011345794, 0.009796111, 0.010331055, 0.010274995, 0.010117293, 0.011584021, 0.011072654, 0.011365648, 0.010414199, 0.011212323, 0.010593105, 0.010985631, 0.010389933, 0.010818887, 0.010823077, 0.011053342, 0.010586823]\n",
      "2022-02-14 21:56:23,207 : INFO : merging changes from 1204 documents into a model of 3204 documents\n",
      "2022-02-14 21:56:23,214 : INFO : topic #35 (0.010): 0.149*\",\" + 0.111*\"-\" + 0.048*\"element\" + 0.032*\"rotat\" + 0.021*\"construct\" + 0.020*\"grammar\" + 0.020*\"algorithm\" + 0.019*\"reduct\" + 0.018*\"(\" + 0.018*\"pars\"\n",
      "2022-02-14 21:56:23,215 : INFO : topic #51 (0.010): 0.158*\"display\" + 0.095*\"imag\" + 0.072*\"comput\" + 0.071*\"requir\" + 0.057*\",\" + 0.031*\"interact\" + 0.027*\"gener\" + 0.027*\"draw\" + 0.026*\"cost\" + 0.021*\"charact\"\n",
      "2022-02-14 21:56:23,215 : INFO : topic #41 (0.012): 0.243*\"]\" + 0.079*\"minim\" + 0.054*\"set\" + 0.042*\"function\" + 0.033*\"buffer\" + 0.030*\"simultan\" + 0.025*\"a1\" + 0.024*\"regress\" + 0.022*\"verifi\" + 0.021*\"divid\"\n",
      "2022-02-14 21:56:23,216 : INFO : topic #75 (0.012): 0.136*\"system\" + 0.067*\",\" + 0.043*\"design\" + 0.034*\"data\" + 0.030*\"-\" + 0.028*\"user\" + 0.023*\"oper\" + 0.023*\"program\" + 0.018*\"larg\" + 0.014*\"discuss\"\n",
      "2022-02-14 21:56:23,217 : INFO : topic #81 (0.020): 0.344*\"(\" + 0.322*\")\" + 0.243*\"algorithm\" + 0.018*\"integr\" + 0.012*\"order\" + 0.010*\"exponenti\" + 0.010*\"gener\" + 0.007*\"d1\" + 0.007*\"-\" + 0.004*\"partit\"\n",
      "2022-02-14 21:56:23,219 : INFO : topic diff=0.648921, rho=0.362690\n",
      "2022-02-14 21:56:23,234 : INFO : PROGRESS: pass 6, at document #2000/3204\n",
      "2022-02-14 21:56:24,165 : INFO : optimized alpha [0.011055922, 0.011354989, 0.011449273, 0.010294097, 0.01015869, 0.010012657, 0.010287619, 0.010166024, 0.010590979, 0.010361429, 0.011404472, 0.011657468, 0.011332145, 0.011293392, 0.0102824215, 0.011086587, 0.010623528, 0.0108548, 0.011012332, 0.010818068, 0.011008711, 0.0110180965, 0.011903269, 0.010392188, 0.011702441, 0.010939827, 0.010206284, 0.011327912, 0.011015554, 0.010425069, 0.011289413, 0.011379964, 0.012498021, 0.011324397, 0.010402218, 0.009548122, 0.010212396, 0.011020304, 0.010514116, 0.010388801, 0.010251834, 0.012428851, 0.01104954, 0.010139117, 0.010956913, 0.01033171, 0.010294196, 0.010644157, 0.011029764, 0.00973054, 0.009768353, 0.009668166, 0.011248685, 0.010255532, 0.010615053, 0.010512095, 0.012727887, 0.010560526, 0.011694034, 0.010407302, 0.010390998, 0.010000668, 0.011112497, 0.011060399, 0.01033124, 0.009860154, 0.0128093045, 0.010467878, 0.0103218295, 0.010360338, 0.010668358, 0.010342196, 0.010409394, 0.010498286, 0.010202637, 0.012609505, 0.011177633, 0.010578005, 0.010513369, 0.010975542, 0.009972064, 0.02183891, 0.011236134, 0.01147256, 0.009792971, 0.010332452, 0.010247445, 0.010157725, 0.011643259, 0.011165392, 0.011369263, 0.010417813, 0.011317, 0.0106484145, 0.010983938, 0.0104316445, 0.010839424, 0.010957345, 0.011071996, 0.010589332]\n",
      "2022-02-14 21:56:24,170 : INFO : merging changes from 2000 documents into a model of 3204 documents\n",
      "2022-02-14 21:56:24,177 : INFO : topic #35 (0.010): 0.148*\",\" + 0.113*\"-\" + 0.056*\"element\" + 0.031*\"rotat\" + 0.020*\"pars\" + 0.019*\"reduct\" + 0.018*\"grammar\" + 0.018*\"(\" + 0.018*\"algorithm\" + 0.018*\"construct\"\n",
      "2022-02-14 21:56:24,178 : INFO : topic #51 (0.010): 0.156*\"display\" + 0.081*\"imag\" + 0.077*\"comput\" + 0.063*\"requir\" + 0.058*\",\" + 0.029*\"interact\" + 0.028*\"gener\" + 0.024*\"cost\" + 0.022*\"draw\" + 0.021*\"charact\"\n",
      "2022-02-14 21:56:24,179 : INFO : topic #56 (0.013): 0.101*\"polynomi\" + 0.099*\"(\" + 0.090*\"squar\" + 0.078*\")\" + 0.076*\"algorithm\" + 0.056*\"function\" + 0.054*\"root\" + 0.047*\"equat\" + 0.042*\"solut\" + 0.038*\"ordinari\"\n",
      "2022-02-14 21:56:24,180 : INFO : topic #66 (0.013): 0.318*\"[\" + 0.213*\"algorithm\" + 0.205*\"])\" + 0.203*\"(\" + 0.021*\"s14\" + 0.021*\"-\" + 0.004*\"probabl\" + 0.003*\"test\" + 0.002*\"examin\" + 0.001*\"schedul\"\n",
      "2022-02-14 21:56:24,182 : INFO : topic #81 (0.022): 0.346*\"(\" + 0.328*\")\" + 0.241*\"algorithm\" + 0.019*\"integr\" + 0.012*\"order\" + 0.010*\"exponenti\" + 0.008*\"gener\" + 0.006*\"-\" + 0.005*\"d1\" + 0.004*\"lexicograph\"\n",
      "2022-02-14 21:56:24,184 : INFO : topic diff=0.577299, rho=0.340958\n",
      "2022-02-14 21:56:25,226 : INFO : -6.565 per-word bound, 94.7 perplexity estimate based on a held-out corpus of 1204 documents with 49783 words\n",
      "2022-02-14 21:56:25,226 : INFO : PROGRESS: pass 6, at document #3204/3204\n",
      "2022-02-14 21:56:26,083 : INFO : optimized alpha [0.011208727, 0.011429604, 0.011627831, 0.010412363, 0.010247701, 0.010067666, 0.010380501, 0.0102531575, 0.010759242, 0.010440981, 0.011572884, 0.011799256, 0.011498244, 0.011536974, 0.010432713, 0.011255495, 0.010755126, 0.010920316, 0.011254992, 0.01092646, 0.011105198, 0.011193791, 0.012220339, 0.010542323, 0.012021696, 0.011011884, 0.010315719, 0.011566408, 0.011129224, 0.010512433, 0.011563139, 0.011582047, 0.012858833, 0.011520592, 0.010532077, 0.009576765, 0.010262697, 0.011174972, 0.010587742, 0.010568277, 0.010381219, 0.012869409, 0.0112166, 0.010205582, 0.01112658, 0.010390953, 0.010442326, 0.010781418, 0.011169754, 0.00979598, 0.009812376, 0.009703883, 0.011546573, 0.0103117265, 0.01076091, 0.010655718, 0.012788523, 0.010720007, 0.0119291, 0.010552273, 0.010474158, 0.010090956, 0.011243042, 0.011297929, 0.010455373, 0.00993312, 0.012969499, 0.010583868, 0.010370373, 0.0105127385, 0.010887973, 0.010435862, 0.010524992, 0.010635428, 0.010249909, 0.012959975, 0.011397596, 0.010708982, 0.010683296, 0.011107131, 0.0100551285, 0.02331387, 0.0114606405, 0.0117647415, 0.009847761, 0.010433609, 0.010340904, 0.010232701, 0.011900033, 0.011320161, 0.0116212275, 0.01051419, 0.01151682, 0.010747437, 0.011221088, 0.010550283, 0.010942321, 0.011086758, 0.011295294, 0.010750985]\n",
      "2022-02-14 21:56:26,093 : INFO : merging changes from 1204 documents into a model of 3204 documents\n",
      "2022-02-14 21:56:26,099 : INFO : topic #35 (0.010): 0.154*\",\" + 0.117*\"-\" + 0.061*\"element\" + 0.033*\"rotat\" + 0.025*\"reduct\" + 0.023*\"construct\" + 0.018*\"(\" + 0.017*\"algorithm\" + 0.016*\"pars\" + 0.015*\"line\"\n",
      "2022-02-14 21:56:26,100 : INFO : topic #51 (0.010): 0.159*\"display\" + 0.093*\"imag\" + 0.076*\"comput\" + 0.069*\"requir\" + 0.057*\",\" + 0.031*\"interact\" + 0.028*\"gener\" + 0.027*\"cost\" + 0.026*\"draw\" + 0.025*\"charact\"\n",
      "2022-02-14 21:56:26,110 : INFO : topic #75 (0.013): 0.140*\"system\" + 0.068*\",\" + 0.046*\"design\" + 0.031*\"data\" + 0.030*\"-\" + 0.028*\"user\" + 0.025*\"oper\" + 0.021*\"program\" + 0.018*\"larg\" + 0.015*\"discuss\"\n",
      "2022-02-14 21:56:26,117 : INFO : topic #66 (0.013): 0.367*\"[\" + 0.208*\"algorithm\" + 0.194*\"(\" + 0.168*\"])\" + 0.022*\"s14\" + 0.020*\"-\" + 0.004*\"probabl\" + 0.003*\"test\" + 0.001*\"examin\" + 0.001*\"schedul\"\n",
      "2022-02-14 21:56:26,119 : INFO : topic #81 (0.023): 0.354*\"(\" + 0.332*\")\" + 0.238*\"algorithm\" + 0.017*\"integr\" + 0.012*\"order\" + 0.009*\"exponenti\" + 0.007*\"gener\" + 0.006*\"-\" + 0.005*\"d1\" + 0.003*\"lexicograph\"\n",
      "2022-02-14 21:56:26,128 : INFO : topic diff=0.585540, rho=0.340958\n",
      "2022-02-14 21:56:26,144 : INFO : PROGRESS: pass 7, at document #2000/3204\n",
      "2022-02-14 21:56:27,186 : INFO : optimized alpha [0.011202769, 0.011565266, 0.011688723, 0.010410454, 0.010314441, 0.010086811, 0.0103485705, 0.010298704, 0.010745598, 0.010440378, 0.011553811, 0.011874563, 0.011490111, 0.011721621, 0.010471063, 0.0112616215, 0.010799559, 0.011063139, 0.011262395, 0.01102079, 0.0113449255, 0.011172968, 0.012163642, 0.010619867, 0.0121638, 0.011197837, 0.010333228, 0.011527462, 0.01126515, 0.010634343, 0.011707141, 0.01183056, 0.013037589, 0.011651236, 0.010556458, 0.00957334, 0.010310698, 0.011248503, 0.010603808, 0.010546087, 0.010372663, 0.012836697, 0.011300999, 0.010244517, 0.011174559, 0.010394477, 0.010484574, 0.010768961, 0.011161609, 0.009787226, 0.009813838, 0.009707267, 0.011536269, 0.010347713, 0.010871913, 0.01067607, 0.0131035, 0.010764987, 0.012145445, 0.010540128, 0.010514696, 0.010048021, 0.011271565, 0.0112962695, 0.010501213, 0.009924316, 0.013381666, 0.010620685, 0.010390216, 0.0105395, 0.0108900145, 0.010420941, 0.01056033, 0.010630193, 0.010320894, 0.013088279, 0.011416462, 0.010725187, 0.010724879, 0.01117553, 0.01005443, 0.02494289, 0.011540603, 0.011891674, 0.009846939, 0.010433387, 0.01032015, 0.010289808, 0.011963342, 0.011408512, 0.011619466, 0.010521167, 0.011624174, 0.010807067, 0.011225716, 0.010595048, 0.010958393, 0.011219094, 0.011315684, 0.010749513]\n",
      "2022-02-14 21:56:27,196 : INFO : merging changes from 2000 documents into a model of 3204 documents\n",
      "2022-02-14 21:56:27,202 : INFO : topic #35 (0.010): 0.152*\",\" + 0.119*\"-\" + 0.068*\"element\" + 0.032*\"rotat\" + 0.024*\"reduct\" + 0.020*\"construct\" + 0.017*\"(\" + 0.017*\"pars\" + 0.016*\"algorithm\" + 0.016*\"dimension\"\n",
      "2022-02-14 21:56:27,203 : INFO : topic #51 (0.010): 0.157*\"display\" + 0.080*\"comput\" + 0.080*\"imag\" + 0.062*\"requir\" + 0.057*\",\" + 0.030*\"interact\" + 0.028*\"gener\" + 0.028*\"charact\" + 0.025*\"cost\" + 0.022*\"draw\"\n",
      "2022-02-14 21:56:27,205 : INFO : topic #56 (0.013): 0.108*\"polynomi\" + 0.098*\"squar\" + 0.089*\"(\" + 0.071*\"algorithm\" + 0.069*\")\" + 0.058*\"function\" + 0.058*\"root\" + 0.045*\"equat\" + 0.042*\"solut\" + 0.041*\"ordinari\"\n",
      "2022-02-14 21:56:27,206 : INFO : topic #66 (0.013): 0.322*\"[\" + 0.213*\"algorithm\" + 0.204*\"(\" + 0.202*\"])\" + 0.021*\"s14\" + 0.020*\"-\" + 0.004*\"probabl\" + 0.002*\"test\" + 0.002*\"examin\" + 0.000*\"schedul\"\n",
      "2022-02-14 21:56:27,206 : INFO : topic #81 (0.025): 0.354*\"(\" + 0.335*\")\" + 0.237*\"algorithm\" + 0.018*\"integr\" + 0.012*\"order\" + 0.009*\"exponenti\" + 0.006*\"gener\" + 0.005*\"-\" + 0.004*\"lexicograph\" + 0.003*\"d1\"\n",
      "2022-02-14 21:56:27,208 : INFO : topic diff=0.513997, rho=0.322715\n",
      "2022-02-14 21:56:28,274 : INFO : -6.540 per-word bound, 93.1 perplexity estimate based on a held-out corpus of 1204 documents with 49783 words\n",
      "2022-02-14 21:56:28,274 : INFO : PROGRESS: pass 7, at document #3204/3204\n",
      "2022-02-14 21:56:29,113 : INFO : optimized alpha [0.011348843, 0.011638769, 0.011862975, 0.010520573, 0.010404824, 0.010142112, 0.010448552, 0.010398642, 0.010921209, 0.01051923, 0.011720936, 0.012019334, 0.011655238, 0.011966337, 0.010628966, 0.011426062, 0.01093108, 0.0111249, 0.011510578, 0.0111238845, 0.01143604, 0.011343944, 0.012464957, 0.010775132, 0.012476467, 0.011274596, 0.010451626, 0.011762242, 0.011364078, 0.010725889, 0.012003205, 0.012043764, 0.013405231, 0.011848679, 0.010677694, 0.00961158, 0.010364298, 0.011396382, 0.01066535, 0.010720763, 0.0104962345, 0.013280127, 0.011469884, 0.0103134895, 0.0113398405, 0.0104596075, 0.010640485, 0.010897143, 0.011289345, 0.009850002, 0.00985082, 0.009746974, 0.011826088, 0.010404005, 0.011014207, 0.01082775, 0.013154728, 0.010949342, 0.012381668, 0.010692878, 0.01059677, 0.0101397745, 0.011402373, 0.0115457, 0.010619703, 0.009986233, 0.013540447, 0.010740008, 0.010450983, 0.0107023, 0.011118391, 0.010507616, 0.01066202, 0.010755469, 0.010371499, 0.013434825, 0.011633526, 0.010858994, 0.010901933, 0.011304167, 0.01013381, 0.02653603, 0.011756374, 0.012174128, 0.009894169, 0.010524342, 0.0104151135, 0.010366727, 0.012216739, 0.011553295, 0.011867695, 0.010610355, 0.01183442, 0.010913014, 0.011456317, 0.0107111335, 0.011068517, 0.0113514075, 0.011532839, 0.010909945]\n",
      "2022-02-14 21:56:29,119 : INFO : merging changes from 1204 documents into a model of 3204 documents\n",
      "2022-02-14 21:56:29,129 : INFO : topic #35 (0.010): 0.158*\",\" + 0.122*\"-\" + 0.071*\"element\" + 0.033*\"rotat\" + 0.027*\"reduct\" + 0.025*\"construct\" + 0.017*\"(\" + 0.017*\"dimension\" + 0.015*\"line\" + 0.015*\"algorithm\"\n",
      "2022-02-14 21:56:29,130 : INFO : topic #51 (0.010): 0.159*\"display\" + 0.091*\"imag\" + 0.079*\"comput\" + 0.068*\"requir\" + 0.057*\",\" + 0.031*\"interact\" + 0.031*\"charact\" + 0.027*\"gener\" + 0.027*\"cost\" + 0.026*\"draw\"\n",
      "2022-02-14 21:56:29,134 : INFO : topic #75 (0.013): 0.144*\"system\" + 0.070*\",\" + 0.049*\"design\" + 0.030*\"-\" + 0.029*\"data\" + 0.029*\"user\" + 0.027*\"oper\" + 0.020*\"program\" + 0.018*\"larg\" + 0.016*\"discuss\"\n",
      "2022-02-14 21:56:29,140 : INFO : topic #66 (0.014): 0.366*\"[\" + 0.211*\"algorithm\" + 0.195*\"(\" + 0.166*\"])\" + 0.021*\"s14\" + 0.020*\"-\" + 0.004*\"probabl\" + 0.002*\"test\" + 0.001*\"examin\" + 0.000*\"schedul\"\n",
      "2022-02-14 21:56:29,142 : INFO : topic #81 (0.027): 0.362*\"(\" + 0.339*\")\" + 0.232*\"algorithm\" + 0.016*\"integr\" + 0.012*\"order\" + 0.009*\"exponenti\" + 0.005*\"gener\" + 0.005*\"-\" + 0.003*\"lexicograph\" + 0.003*\"d1\"\n",
      "2022-02-14 21:56:29,145 : INFO : topic diff=0.515953, rho=0.322715\n",
      "2022-02-14 21:56:29,157 : INFO : PROGRESS: pass 8, at document #2000/3204\n",
      "2022-02-14 21:56:30,021 : INFO : optimized alpha [0.011344726, 0.011769288, 0.011924717, 0.010525313, 0.010478482, 0.010167086, 0.010423224, 0.010453662, 0.010909383, 0.010522207, 0.011707929, 0.012087724, 0.011645288, 0.012151184, 0.010673551, 0.011435089, 0.010973467, 0.011265944, 0.0115199955, 0.011219765, 0.011669022, 0.011325278, 0.012414533, 0.0108546335, 0.012623013, 0.011459686, 0.010474795, 0.011729396, 0.011498566, 0.010849906, 0.012166135, 0.012295528, 0.013607063, 0.011983621, 0.010699301, 0.00961343, 0.010429814, 0.011456242, 0.010684261, 0.010702431, 0.010487985, 0.013257059, 0.011559578, 0.010357412, 0.01139071, 0.010461808, 0.010698775, 0.010886852, 0.011286758, 0.009851252, 0.009855882, 0.009761248, 0.011818209, 0.010440338, 0.011126073, 0.010860357, 0.013458273, 0.011007154, 0.012595904, 0.01069082, 0.01063742, 0.010097681, 0.011431341, 0.011546469, 0.010666807, 0.009982962, 0.013947464, 0.0107785305, 0.010471972, 0.010735848, 0.011115932, 0.010492046, 0.010699269, 0.010743735, 0.010439755, 0.013566165, 0.011652531, 0.010874243, 0.010951366, 0.0113732265, 0.010130378, 0.028265573, 0.01183826, 0.012288745, 0.009896993, 0.010527626, 0.010398826, 0.010424811, 0.01227846, 0.011643295, 0.011868433, 0.010622124, 0.011950142, 0.010975287, 0.011466821, 0.010752333, 0.011085593, 0.01148779, 0.011565873, 0.010911515]\n",
      "2022-02-14 21:56:30,028 : INFO : merging changes from 2000 documents into a model of 3204 documents\n",
      "2022-02-14 21:56:30,036 : INFO : topic #35 (0.010): 0.156*\",\" + 0.123*\"-\" + 0.078*\"element\" + 0.032*\"rotat\" + 0.027*\"reduct\" + 0.022*\"construct\" + 0.019*\"dimension\" + 0.017*\"(\" + 0.016*\"form\" + 0.015*\"line\"\n",
      "2022-02-14 21:56:30,037 : INFO : topic #51 (0.010): 0.157*\"display\" + 0.082*\"comput\" + 0.079*\"imag\" + 0.062*\"requir\" + 0.057*\",\" + 0.037*\"charact\" + 0.029*\"interact\" + 0.027*\"gener\" + 0.025*\"cost\" + 0.022*\"draw\"\n",
      "2022-02-14 21:56:30,038 : INFO : topic #75 (0.014): 0.148*\"system\" + 0.070*\",\" + 0.048*\"design\" + 0.031*\"-\" + 0.029*\"user\" + 0.028*\"data\" + 0.027*\"oper\" + 0.022*\"program\" + 0.018*\"larg\" + 0.016*\"discuss\"\n",
      "2022-02-14 21:56:30,039 : INFO : topic #66 (0.014): 0.323*\"[\" + 0.215*\"algorithm\" + 0.206*\"(\" + 0.199*\"])\" + 0.021*\"s14\" + 0.020*\"-\" + 0.003*\"probabl\" + 0.002*\"test\" + 0.002*\"examin\" + 0.000*\"schedul\"\n",
      "2022-02-14 21:56:30,040 : INFO : topic #81 (0.028): 0.361*\"(\" + 0.341*\")\" + 0.233*\"algorithm\" + 0.017*\"integr\" + 0.011*\"order\" + 0.009*\"exponenti\" + 0.004*\"-\" + 0.004*\"gener\" + 0.004*\"lexicograph\" + 0.003*\"chebyshev\"\n",
      "2022-02-14 21:56:30,042 : INFO : topic diff=0.449737, rho=0.307119\n",
      "2022-02-14 21:56:31,059 : INFO : -6.521 per-word bound, 91.8 perplexity estimate based on a held-out corpus of 1204 documents with 49783 words\n",
      "2022-02-14 21:56:31,060 : INFO : PROGRESS: pass 8, at document #3204/3204\n",
      "2022-02-14 21:56:32,039 : INFO : optimized alpha [0.011496713, 0.011842119, 0.012101536, 0.010633639, 0.0105758505, 0.010228075, 0.010521982, 0.01055491, 0.01109541, 0.010605978, 0.011853257, 0.012229629, 0.011806958, 0.012382374, 0.010825615, 0.011593116, 0.011099748, 0.011327383, 0.011768589, 0.011321412, 0.011752279, 0.011495424, 0.012702118, 0.011018339, 0.012946541, 0.011526588, 0.0105884345, 0.0119676115, 0.011592917, 0.01094293, 0.012485759, 0.012504869, 0.013980002, 0.012186156, 0.010815703, 0.009650377, 0.01049187, 0.011601217, 0.010751701, 0.010878711, 0.010614721, 0.013698471, 0.011727867, 0.010428868, 0.011558451, 0.0105245095, 0.010870797, 0.011021115, 0.01142101, 0.009914272, 0.009899417, 0.009804606, 0.012113723, 0.010491665, 0.011259896, 0.011014582, 0.0135081215, 0.011199002, 0.012827882, 0.0108376425, 0.01072438, 0.010185948, 0.011562667, 0.011796556, 0.010785959, 0.010047774, 0.014094677, 0.01089304, 0.010546628, 0.010898016, 0.011336429, 0.0105862, 0.010802312, 0.010863972, 0.0104802055, 0.013896225, 0.01186487, 0.011005501, 0.011127445, 0.011493665, 0.0102144005, 0.029934369, 0.012049521, 0.012559524, 0.009952879, 0.010617695, 0.010487324, 0.010506554, 0.012520087, 0.01179408, 0.01212609, 0.01071046, 0.012171445, 0.0110711735, 0.011712783, 0.010874905, 0.011191281, 0.011623439, 0.011769335, 0.011062829]\n",
      "2022-02-14 21:56:32,052 : INFO : merging changes from 1204 documents into a model of 3204 documents\n",
      "2022-02-14 21:56:32,080 : INFO : topic #35 (0.010): 0.162*\",\" + 0.126*\"-\" + 0.081*\"element\" + 0.034*\"rotat\" + 0.030*\"reduct\" + 0.025*\"construct\" + 0.020*\"dimension\" + 0.015*\"(\" + 0.015*\"line\" + 0.015*\"form\"\n",
      "2022-02-14 21:56:32,083 : INFO : topic #51 (0.010): 0.160*\"display\" + 0.090*\"imag\" + 0.080*\"comput\" + 0.067*\"requir\" + 0.057*\",\" + 0.038*\"charact\" + 0.031*\"interact\" + 0.027*\"gener\" + 0.027*\"cost\" + 0.025*\"draw\"\n",
      "2022-02-14 21:56:32,094 : INFO : topic #32 (0.014): 0.182*\"problem\" + 0.120*\"solut\" + 0.068*\"-\" + 0.059*\"approxim\" + 0.042*\",\" + 0.041*\"numer\" + 0.040*\"linear\" + 0.038*\"method\" + 0.034*\"preced\" + 0.018*\"obtain\"\n",
      "2022-02-14 21:56:32,099 : INFO : topic #66 (0.014): 0.366*\"[\" + 0.212*\"algorithm\" + 0.197*\"(\" + 0.166*\"])\" + 0.021*\"s14\" + 0.020*\"-\" + 0.003*\"probabl\" + 0.002*\"test\" + 0.001*\"examin\" + 0.000*\"schedul\"\n",
      "2022-02-14 21:56:32,101 : INFO : topic #81 (0.030): 0.367*\"(\" + 0.343*\")\" + 0.229*\"algorithm\" + 0.015*\"integr\" + 0.012*\"order\" + 0.009*\"exponenti\" + 0.004*\"-\" + 0.004*\"gener\" + 0.003*\"lexicograph\" + 0.003*\"chebyshev\"\n",
      "2022-02-14 21:56:32,102 : INFO : topic diff=0.451529, rho=0.307119\n",
      "2022-02-14 21:56:32,140 : INFO : PROGRESS: pass 9, at document #2000/3204\n",
      "2022-02-14 21:56:33,171 : INFO : optimized alpha [0.01150609, 0.011975304, 0.0121643795, 0.010649119, 0.010647017, 0.010255333, 0.010501014, 0.010621992, 0.0110917725, 0.010609082, 0.011837033, 0.012295302, 0.011798901, 0.01256792, 0.010874655, 0.011608238, 0.01114209, 0.01146562, 0.011783465, 0.011417251, 0.011977561, 0.011478681, 0.01265183, 0.011109781, 0.013107616, 0.011707948, 0.010612224, 0.01193313, 0.011730011, 0.011067809, 0.012668273, 0.012749653, 0.014182845, 0.012325757, 0.010836489, 0.009652702, 0.010562899, 0.011658691, 0.0107702045, 0.010863771, 0.010605137, 0.013674644, 0.01182634, 0.010471325, 0.011610512, 0.01052708, 0.010936376, 0.01101761, 0.011430258, 0.009917266, 0.009907727, 0.009821596, 0.012104408, 0.0105237495, 0.011364736, 0.011050598, 0.013805622, 0.011267538, 0.013038834, 0.010835415, 0.010765166, 0.010144586, 0.011593847, 0.0117996065, 0.010832775, 0.010046466, 0.01449331, 0.0109381545, 0.0105779795, 0.010936365, 0.011333097, 0.010574656, 0.01084457, 0.010854283, 0.010555398, 0.014022817, 0.011892899, 0.011026591, 0.01117144, 0.011558527, 0.01021131, 0.031755082, 0.012131712, 0.01266811, 0.009952971, 0.010622575, 0.010475071, 0.010579681, 0.01257876, 0.011882457, 0.012129093, 0.010723579, 0.012284919, 0.01113939, 0.011728764, 0.010922489, 0.011211102, 0.011758951, 0.011800396, 0.011070607]\n",
      "2022-02-14 21:56:33,181 : INFO : merging changes from 2000 documents into a model of 3204 documents\n",
      "2022-02-14 21:56:33,188 : INFO : topic #35 (0.010): 0.160*\",\" + 0.127*\"-\" + 0.087*\"element\" + 0.033*\"rotat\" + 0.029*\"reduct\" + 0.023*\"construct\" + 0.022*\"dimension\" + 0.017*\"form\" + 0.015*\"analyz\" + 0.015*\"(\"\n",
      "2022-02-14 21:56:33,191 : INFO : topic #51 (0.010): 0.158*\"display\" + 0.083*\"comput\" + 0.078*\"imag\" + 0.060*\"requir\" + 0.057*\",\" + 0.045*\"charact\" + 0.029*\"interact\" + 0.027*\"gener\" + 0.025*\"cost\" + 0.022*\"draw\"\n",
      "2022-02-14 21:56:33,194 : INFO : topic #32 (0.014): 0.174*\"problem\" + 0.119*\"solut\" + 0.069*\"-\" + 0.062*\"approxim\" + 0.047*\"numer\" + 0.043*\",\" + 0.039*\"method\" + 0.038*\"linear\" + 0.030*\"preced\" + 0.018*\"obtain\"\n",
      "2022-02-14 21:56:33,198 : INFO : topic #66 (0.014): 0.325*\"[\" + 0.215*\"algorithm\" + 0.207*\"(\" + 0.197*\"])\" + 0.020*\"s14\" + 0.020*\"-\" + 0.003*\"probabl\" + 0.002*\"examin\" + 0.001*\"test\" + 0.000*\"schedul\"\n",
      "2022-02-14 21:56:33,206 : INFO : topic #81 (0.032): 0.365*\"(\" + 0.344*\")\" + 0.230*\"algorithm\" + 0.017*\"integr\" + 0.011*\"order\" + 0.009*\"exponenti\" + 0.004*\"-\" + 0.004*\"lexicograph\" + 0.003*\"gener\" + 0.003*\"chebyshev\"\n",
      "2022-02-14 21:56:33,215 : INFO : topic diff=0.392584, rho=0.293585\n",
      "2022-02-14 21:56:34,395 : INFO : -6.504 per-word bound, 90.8 perplexity estimate based on a held-out corpus of 1204 documents with 49783 words\n",
      "2022-02-14 21:56:34,396 : INFO : PROGRESS: pass 9, at document #3204/3204\n",
      "2022-02-14 21:56:35,300 : INFO : optimized alpha [0.011644323, 0.012050912, 0.01233233, 0.010766631, 0.010764337, 0.0103141945, 0.010601442, 0.010730167, 0.011255339, 0.01069243, 0.011983059, 0.012422863, 0.011946098, 0.012792691, 0.011029681, 0.011772184, 0.011263895, 0.01152408, 0.012039023, 0.011515078, 0.012068484, 0.011651446, 0.012930412, 0.01127659, 0.01343383, 0.011768663, 0.010732196, 0.012172679, 0.011826144, 0.011157204, 0.013021911, 0.012971421, 0.014558597, 0.012528075, 0.010959368, 0.00969325, 0.010632863, 0.011795662, 0.01084324, 0.011031512, 0.01072737, 0.014108983, 0.011997631, 0.01053505, 0.011775398, 0.010587608, 0.011105678, 0.011147036, 0.011576636, 0.009987809, 0.009952398, 0.0098636, 0.012394506, 0.0105655035, 0.011496534, 0.011207616, 0.01385104, 0.011461739, 0.013273695, 0.010977056, 0.010848928, 0.01024231, 0.011720489, 0.012036481, 0.010952988, 0.010116529, 0.014640547, 0.011045848, 0.010657798, 0.011103881, 0.0115467245, 0.010668136, 0.010938525, 0.010980743, 0.0105917035, 0.014372444, 0.012107355, 0.01115865, 0.011352621, 0.011680314, 0.010294888, 0.033553902, 0.012336431, 0.012931507, 0.010004599, 0.010714618, 0.010563022, 0.010679126, 0.012825321, 0.012036679, 0.012382009, 0.010811361, 0.012490598, 0.011237153, 0.0119616175, 0.011054243, 0.011323962, 0.011895377, 0.012003001, 0.011216701]\n",
      "2022-02-14 21:56:35,308 : INFO : merging changes from 1204 documents into a model of 3204 documents\n",
      "2022-02-14 21:56:35,322 : INFO : topic #35 (0.010): 0.167*\",\" + 0.126*\"-\" + 0.091*\"element\" + 0.035*\"rotat\" + 0.033*\"reduct\" + 0.025*\"construct\" + 0.022*\"dimension\" + 0.015*\"line\" + 0.014*\"augment\" + 0.014*\"form\"\n",
      "2022-02-14 21:56:35,322 : INFO : topic #51 (0.010): 0.162*\"display\" + 0.089*\"imag\" + 0.080*\"comput\" + 0.066*\"requir\" + 0.058*\",\" + 0.044*\"charact\" + 0.031*\"interact\" + 0.026*\"gener\" + 0.025*\"cost\" + 0.025*\"draw\"\n",
      "2022-02-14 21:56:35,324 : INFO : topic #32 (0.015): 0.188*\"problem\" + 0.123*\"solut\" + 0.069*\"-\" + 0.059*\"approxim\" + 0.044*\",\" + 0.040*\"numer\" + 0.040*\"linear\" + 0.036*\"method\" + 0.033*\"preced\" + 0.019*\"obtain\"\n",
      "2022-02-14 21:56:35,327 : INFO : topic #66 (0.015): 0.363*\"[\" + 0.216*\"algorithm\" + 0.198*\"(\" + 0.165*\"])\" + 0.021*\"s14\" + 0.020*\"-\" + 0.002*\"probabl\" + 0.001*\"examin\" + 0.001*\"test\" + 0.000*\"schedul\"\n",
      "2022-02-14 21:56:35,333 : INFO : topic #81 (0.034): 0.373*\"(\" + 0.347*\")\" + 0.223*\"algorithm\" + 0.015*\"integr\" + 0.012*\"order\" + 0.008*\"exponenti\" + 0.004*\"-\" + 0.003*\"gener\" + 0.003*\"lexicograph\" + 0.003*\"chebyshev\"\n",
      "2022-02-14 21:56:35,341 : INFO : topic diff=0.395767, rho=0.293585\n",
      "2022-02-14 21:56:35,358 : INFO : PROGRESS: pass 10, at document #2000/3204\n",
      "2022-02-14 21:56:36,307 : INFO : optimized alpha [0.01164503, 0.012178487, 0.012403338, 0.010781546, 0.010842372, 0.010342246, 0.010585945, 0.010807335, 0.011259554, 0.010700155, 0.011963829, 0.012484478, 0.011941571, 0.012983041, 0.011079985, 0.011788105, 0.011309523, 0.011655083, 0.012057334, 0.011611325, 0.012290402, 0.011631527, 0.012884045, 0.011357189, 0.013586858, 0.011943615, 0.010756586, 0.012143461, 0.0119559355, 0.011286453, 0.013222741, 0.013218906, 0.014773186, 0.012670834, 0.010985422, 0.009697324, 0.01071981, 0.011851104, 0.010861323, 0.011022958, 0.010719594, 0.014086468, 0.012106459, 0.010576233, 0.011828773, 0.010594981, 0.011172073, 0.011146692, 0.011582136, 0.009992414, 0.009965077, 0.009884513, 0.0123839015, 0.010590726, 0.01159977, 0.011240552, 0.014139426, 0.011529435, 0.013485683, 0.0109747, 0.010894653, 0.0102057, 0.011755429, 0.012038447, 0.010998159, 0.010115593, 0.015037903, 0.011089449, 0.01070039, 0.011150102, 0.011544343, 0.010663361, 0.0109794345, 0.010982314, 0.010669119, 0.014506891, 0.012137207, 0.011177226, 0.011399528, 0.011744698, 0.0102906935, 0.035475463, 0.012417411, 0.0130364075, 0.010010807, 0.010719504, 0.010554599, 0.010756107, 0.012884986, 0.012127239, 0.012387225, 0.010827228, 0.012609314, 0.011300052, 0.011979564, 0.011107949, 0.01134312, 0.0120288795, 0.012037487, 0.01122399]\n",
      "2022-02-14 21:56:36,312 : INFO : merging changes from 2000 documents into a model of 3204 documents\n",
      "2022-02-14 21:56:36,321 : INFO : topic #35 (0.010): 0.164*\",\" + 0.127*\"-\" + 0.095*\"element\" + 0.034*\"rotat\" + 0.032*\"reduct\" + 0.024*\"dimension\" + 0.022*\"construct\" + 0.016*\"form\" + 0.016*\"analyz\" + 0.014*\"line\"\n",
      "2022-02-14 21:56:36,322 : INFO : topic #51 (0.010): 0.160*\"display\" + 0.082*\"comput\" + 0.078*\"imag\" + 0.060*\"requir\" + 0.058*\",\" + 0.050*\"charact\" + 0.029*\"interact\" + 0.026*\"gener\" + 0.024*\"cost\" + 0.022*\"draw\"\n",
      "2022-02-14 21:56:36,323 : INFO : topic #32 (0.015): 0.180*\"problem\" + 0.122*\"solut\" + 0.069*\"-\" + 0.062*\"approxim\" + 0.046*\"numer\" + 0.044*\",\" + 0.038*\"method\" + 0.037*\"linear\" + 0.029*\"preced\" + 0.018*\"obtain\"\n",
      "2022-02-14 21:56:36,324 : INFO : topic #66 (0.015): 0.325*\"[\" + 0.218*\"algorithm\" + 0.207*\"(\" + 0.195*\"])\" + 0.020*\"-\" + 0.020*\"s14\" + 0.002*\"probabl\" + 0.002*\"examin\" + 0.001*\"test\" + 0.000*\"schedul\"\n",
      "2022-02-14 21:56:36,325 : INFO : topic #81 (0.035): 0.370*\"(\" + 0.347*\")\" + 0.226*\"algorithm\" + 0.016*\"integr\" + 0.011*\"order\" + 0.008*\"exponenti\" + 0.004*\"lexicograph\" + 0.004*\"-\" + 0.003*\"chebyshev\" + 0.002*\"gener\"\n",
      "2022-02-14 21:56:36,327 : INFO : topic diff=0.343938, rho=0.281696\n",
      "2022-02-14 21:56:37,387 : INFO : -6.489 per-word bound, 89.8 perplexity estimate based on a held-out corpus of 1204 documents with 49783 words\n",
      "2022-02-14 21:56:37,387 : INFO : PROGRESS: pass 10, at document #3204/3204\n",
      "2022-02-14 21:56:38,158 : INFO : optimized alpha [0.011789871, 0.012251093, 0.012566201, 0.01090799, 0.010963572, 0.010399214, 0.0106806345, 0.010924807, 0.011423687, 0.010780791, 0.012102211, 0.01260779, 0.012089715, 0.013205174, 0.011238112, 0.01194701, 0.0114327, 0.011708358, 0.012309167, 0.0117055895, 0.012371608, 0.011804393, 0.013154707, 0.011516688, 0.013909972, 0.012004131, 0.010875239, 0.012379149, 0.012048506, 0.0113830585, 0.013602602, 0.013431909, 0.015152855, 0.012867503, 0.011104349, 0.009736864, 0.010792339, 0.0119809555, 0.010939691, 0.011188245, 0.010837806, 0.014511663, 0.01227833, 0.010642919, 0.011982995, 0.010653689, 0.011344425, 0.011269353, 0.011718514, 0.0100655565, 0.010020353, 0.009923001, 0.012660816, 0.010626118, 0.011729973, 0.011400875, 0.014184352, 0.011734357, 0.01373968, 0.011114456, 0.010967862, 0.010309985, 0.011883488, 0.0122716855, 0.011122193, 0.010185893, 0.015174802, 0.011196248, 0.010800249, 0.011312703, 0.011771054, 0.010753871, 0.011067597, 0.011104687, 0.010711635, 0.0148562705, 0.012342702, 0.011315664, 0.011588694, 0.011859657, 0.010371573, 0.037303276, 0.012613407, 0.013290206, 0.010060969, 0.010813661, 0.010637295, 0.010854758, 0.013121875, 0.012276513, 0.012636266, 0.010912176, 0.012821139, 0.011402408, 0.012217347, 0.011246004, 0.011457539, 0.01215236, 0.012239814, 0.011365497]\n",
      "2022-02-14 21:56:38,165 : INFO : merging changes from 1204 documents into a model of 3204 documents\n",
      "2022-02-14 21:56:38,173 : INFO : topic #35 (0.010): 0.171*\",\" + 0.130*\"-\" + 0.096*\"element\" + 0.035*\"rotat\" + 0.035*\"reduct\" + 0.026*\"dimension\" + 0.024*\"construct\" + 0.015*\"augment\" + 0.014*\"form\" + 0.014*\"analyz\"\n",
      "2022-02-14 21:56:38,175 : INFO : topic #51 (0.010): 0.164*\"display\" + 0.089*\"imag\" + 0.079*\"comput\" + 0.065*\"requir\" + 0.059*\",\" + 0.048*\"charact\" + 0.032*\"interact\" + 0.025*\"draw\" + 0.025*\"cost\" + 0.024*\"line\"\n",
      "2022-02-14 21:56:38,177 : INFO : topic #32 (0.015): 0.194*\"problem\" + 0.125*\"solut\" + 0.069*\"-\" + 0.059*\"approxim\" + 0.045*\",\" + 0.040*\"numer\" + 0.039*\"linear\" + 0.035*\"method\" + 0.033*\"preced\" + 0.019*\"obtain\"\n",
      "2022-02-14 21:56:38,178 : INFO : topic #66 (0.015): 0.362*\"[\" + 0.218*\"algorithm\" + 0.199*\"(\" + 0.165*\"])\" + 0.021*\"s14\" + 0.020*\"-\" + 0.002*\"probabl\" + 0.001*\"examin\" + 0.001*\"test\" + 0.000*\"schedul\"\n",
      "2022-02-14 21:56:38,180 : INFO : topic #81 (0.037): 0.378*\"(\" + 0.350*\")\" + 0.220*\"algorithm\" + 0.015*\"integr\" + 0.011*\"order\" + 0.008*\"exponenti\" + 0.004*\"-\" + 0.003*\"lexicograph\" + 0.003*\"chebyshev\" + 0.002*\"gener\"\n",
      "2022-02-14 21:56:38,183 : INFO : topic diff=0.349248, rho=0.281696\n",
      "2022-02-14 21:56:38,198 : INFO : PROGRESS: pass 11, at document #2000/3204\n",
      "2022-02-14 21:56:39,081 : INFO : optimized alpha [0.01179031, 0.012378599, 0.012629851, 0.0109252585, 0.0110334065, 0.010428019, 0.010667324, 0.0110013215, 0.011443173, 0.010788507, 0.012083534, 0.0126674315, 0.012085153, 0.013398939, 0.011289738, 0.011962117, 0.011473688, 0.011839092, 0.012329215, 0.0117959585, 0.012588934, 0.0117879445, 0.013108372, 0.011610673, 0.014061129, 0.012181403, 0.010900159, 0.012346478, 0.0121765025, 0.01151675, 0.013809523, 0.013666258, 0.0153715005, 0.013004963, 0.011131083, 0.009746514, 0.0108828405, 0.012031365, 0.010966339, 0.011187181, 0.010834671, 0.014490474, 0.01238912, 0.010687386, 0.012032846, 0.01065826, 0.011410262, 0.011273628, 0.011725253, 0.01006885, 0.010039845, 0.009947652, 0.012650808, 0.010640757, 0.011828738, 0.011437135, 0.014472346, 0.011804546, 0.013955152, 0.011111944, 0.011012282, 0.01027484, 0.011914002, 0.012276008, 0.011164363, 0.010188027, 0.015563228, 0.011240036, 0.01085918, 0.011366513, 0.011772659, 0.0107523715, 0.011110281, 0.01109851, 0.010792796, 0.014996884, 0.012374367, 0.011336605, 0.011636917, 0.011925327, 0.010371933, 0.03926718, 0.012695172, 0.01339175, 0.0100700855, 0.01081852, 0.010638198, 0.010944361, 0.013182613, 0.012372682, 0.012638531, 0.0109262, 0.012948696, 0.011464976, 0.012237163, 0.0112994965, 0.011482261, 0.012277458, 0.012279284, 0.011383171]\n",
      "2022-02-14 21:56:39,089 : INFO : merging changes from 2000 documents into a model of 3204 documents\n",
      "2022-02-14 21:56:39,099 : INFO : topic #35 (0.010): 0.168*\",\" + 0.130*\"-\" + 0.100*\"element\" + 0.034*\"rotat\" + 0.034*\"reduct\" + 0.027*\"dimension\" + 0.022*\"construct\" + 0.017*\"form\" + 0.016*\"analyz\" + 0.014*\"augment\"\n",
      "2022-02-14 21:56:39,100 : INFO : topic #51 (0.010): 0.161*\"display\" + 0.082*\"comput\" + 0.078*\"imag\" + 0.059*\"requir\" + 0.059*\",\" + 0.054*\"charact\" + 0.029*\"interact\" + 0.024*\"gener\" + 0.024*\"cost\" + 0.022*\"draw\"\n",
      "2022-02-14 21:56:39,101 : INFO : topic #32 (0.015): 0.186*\"problem\" + 0.124*\"solut\" + 0.070*\"-\" + 0.062*\"approxim\" + 0.045*\"numer\" + 0.045*\",\" + 0.037*\"linear\" + 0.036*\"method\" + 0.029*\"preced\" + 0.018*\"obtain\"\n",
      "2022-02-14 21:56:39,109 : INFO : topic #66 (0.016): 0.325*\"[\" + 0.219*\"algorithm\" + 0.208*\"(\" + 0.193*\"])\" + 0.021*\"-\" + 0.020*\"s14\" + 0.002*\"probabl\" + 0.002*\"examin\" + 0.000*\"test\" + 0.000*\"schedul\"\n",
      "2022-02-14 21:56:39,110 : INFO : topic #81 (0.039): 0.373*\"(\" + 0.349*\")\" + 0.224*\"algorithm\" + 0.016*\"integr\" + 0.011*\"order\" + 0.008*\"exponenti\" + 0.004*\"lexicograph\" + 0.003*\"-\" + 0.003*\"chebyshev\" + 0.002*\"definit\"\n",
      "2022-02-14 21:56:39,115 : INFO : topic diff=0.304441, rho=0.271143\n",
      "2022-02-14 21:56:40,310 : INFO : -6.475 per-word bound, 88.9 perplexity estimate based on a held-out corpus of 1204 documents with 49783 words\n",
      "2022-02-14 21:56:40,311 : INFO : PROGRESS: pass 11, at document #3204/3204\n",
      "2022-02-14 21:56:41,088 : INFO : optimized alpha [0.011922901, 0.0124513, 0.012796812, 0.011048131, 0.0111586945, 0.010483309, 0.010764104, 0.0111154495, 0.011610883, 0.010864268, 0.012215089, 0.01278698, 0.012226397, 0.01362197, 0.011448839, 0.01211921, 0.011593298, 0.011892897, 0.012575141, 0.011879186, 0.012669435, 0.011958639, 0.013369012, 0.011787298, 0.014397686, 0.012239149, 0.011015266, 0.012575997, 0.012268602, 0.01160507, 0.014207569, 0.0138801085, 0.015752565, 0.013211207, 0.011244026, 0.009793923, 0.010955448, 0.012160052, 0.011042389, 0.011353053, 0.010944568, 0.014910787, 0.012556369, 0.010754503, 0.012190795, 0.010722647, 0.011580721, 0.011405541, 0.011868293, 0.010142155, 0.010104972, 0.009978343, 0.01292702, 0.010672931, 0.011957692, 0.011598372, 0.014520107, 0.012020512, 0.014191089, 0.0112451725, 0.01108331, 0.010383101, 0.012040972, 0.012500693, 0.011289895, 0.010265557, 0.01569019, 0.011346155, 0.010963507, 0.011532573, 0.011985887, 0.010842662, 0.011198214, 0.011209755, 0.010836203, 0.015346559, 0.012574544, 0.011473663, 0.011823942, 0.0120395, 0.010452812, 0.041072376, 0.012888871, 0.013639633, 0.01012576, 0.010904967, 0.010723332, 0.011042476, 0.013413499, 0.012520382, 0.012890097, 0.011008653, 0.01316105, 0.011561574, 0.01247481, 0.011454227, 0.01159852, 0.012394266, 0.012473542, 0.0115258815]\n",
      "2022-02-14 21:56:41,095 : INFO : merging changes from 1204 documents into a model of 3204 documents\n",
      "2022-02-14 21:56:41,103 : INFO : topic #35 (0.010): 0.175*\",\" + 0.131*\"-\" + 0.100*\"element\" + 0.036*\"reduct\" + 0.035*\"rotat\" + 0.028*\"dimension\" + 0.024*\"construct\" + 0.015*\"augment\" + 0.015*\"form\" + 0.014*\"analyz\"\n",
      "2022-02-14 21:56:41,104 : INFO : topic #51 (0.010): 0.166*\"display\" + 0.089*\"imag\" + 0.079*\"comput\" + 0.063*\"requir\" + 0.060*\",\" + 0.053*\"charact\" + 0.031*\"interact\" + 0.025*\"draw\" + 0.025*\"line\" + 0.025*\"cost\"\n",
      "2022-02-14 21:56:41,106 : INFO : topic #66 (0.016): 0.361*\"[\" + 0.216*\"algorithm\" + 0.200*\"(\" + 0.166*\"])\" + 0.021*\"s14\" + 0.020*\"-\" + 0.002*\"probabl\" + 0.001*\"examin\" + 0.000*\"test\" + 0.000*\"schedul\"\n",
      "2022-02-14 21:56:41,110 : INFO : topic #32 (0.016): 0.198*\"problem\" + 0.127*\"solut\" + 0.070*\"-\" + 0.059*\"approxim\" + 0.046*\",\" + 0.040*\"numer\" + 0.039*\"linear\" + 0.033*\"method\" + 0.032*\"preced\" + 0.019*\"obtain\"\n",
      "2022-02-14 21:56:41,117 : INFO : topic #81 (0.041): 0.379*\"(\" + 0.350*\")\" + 0.219*\"algorithm\" + 0.014*\"integr\" + 0.011*\"order\" + 0.008*\"exponenti\" + 0.003*\"-\" + 0.003*\"lexicograph\" + 0.003*\"chebyshev\" + 0.002*\"definit\"\n",
      "2022-02-14 21:56:41,122 : INFO : topic diff=0.310361, rho=0.271143\n",
      "2022-02-14 21:56:41,143 : INFO : PROGRESS: pass 12, at document #2000/3204\n",
      "2022-02-14 21:56:42,080 : INFO : optimized alpha [0.011927999, 0.01257401, 0.012861823, 0.011069167, 0.011226665, 0.0105114905, 0.010756991, 0.011195824, 0.011637283, 0.010873405, 0.01219862, 0.01284488, 0.012231657, 0.013812285, 0.011504893, 0.012144681, 0.01163455, 0.012020535, 0.012592017, 0.011964138, 0.012882647, 0.011948559, 0.0133263115, 0.0118774865, 0.014554823, 0.012414254, 0.011045143, 0.012548324, 0.012406392, 0.011735805, 0.014415243, 0.014103682, 0.015971424, 0.013347227, 0.011269958, 0.00980882, 0.011055242, 0.012210554, 0.011071315, 0.01135469, 0.010940097, 0.014890965, 0.012666043, 0.01079636, 0.012243804, 0.010730168, 0.011644592, 0.011408044, 0.011882481, 0.01014554, 0.0101281, 0.010007842, 0.012919305, 0.010687549, 0.012055497, 0.01164099, 0.014812125, 0.012097847, 0.014406633, 0.011242563, 0.011132487, 0.010354657, 0.012067379, 0.012500755, 0.011332223, 0.010271882, 0.016076205, 0.011391738, 0.011033862, 0.0115830945, 0.011994494, 0.010842816, 0.011236843, 0.011209699, 0.010910996, 0.015483279, 0.012604737, 0.011492258, 0.011871977, 0.012103361, 0.010451994, 0.043094184, 0.012966518, 0.013734577, 0.010138964, 0.010911249, 0.010724359, 0.011135688, 0.013470073, 0.012618858, 0.012894527, 0.011023823, 0.013295807, 0.011625495, 0.012494807, 0.011510555, 0.011620941, 0.01251307, 0.012506437, 0.011538305]\n",
      "2022-02-14 21:56:42,091 : INFO : merging changes from 2000 documents into a model of 3204 documents\n",
      "2022-02-14 21:56:42,110 : INFO : topic #35 (0.010): 0.172*\",\" + 0.131*\"-\" + 0.103*\"element\" + 0.035*\"reduct\" + 0.034*\"rotat\" + 0.031*\"dimension\" + 0.022*\"construct\" + 0.016*\"form\" + 0.016*\"analyz\" + 0.014*\"augment\"\n",
      "2022-02-14 21:56:42,117 : INFO : topic #51 (0.010): 0.163*\"display\" + 0.081*\"comput\" + 0.079*\"imag\" + 0.061*\"charact\" + 0.060*\",\" + 0.058*\"requir\" + 0.029*\"interact\" + 0.024*\"cost\" + 0.023*\"gener\" + 0.023*\"convers\"\n",
      "2022-02-14 21:56:42,125 : INFO : topic #32 (0.016): 0.190*\"problem\" + 0.126*\"solut\" + 0.070*\"-\" + 0.062*\"approxim\" + 0.046*\",\" + 0.045*\"numer\" + 0.037*\"linear\" + 0.035*\"method\" + 0.029*\"preced\" + 0.018*\"obtain\"\n",
      "2022-02-14 21:56:42,142 : INFO : topic #66 (0.016): 0.326*\"[\" + 0.218*\"algorithm\" + 0.209*\"(\" + 0.193*\"])\" + 0.021*\"-\" + 0.020*\"s14\" + 0.002*\"probabl\" + 0.002*\"examin\" + 0.000*\"test\" + 0.000*\"schedul\"\n",
      "2022-02-14 21:56:42,174 : INFO : topic #81 (0.043): 0.375*\"(\" + 0.349*\")\" + 0.223*\"algorithm\" + 0.016*\"integr\" + 0.011*\"order\" + 0.008*\"exponenti\" + 0.004*\"lexicograph\" + 0.003*\"-\" + 0.003*\"chebyshev\" + 0.002*\"definit\"\n",
      "2022-02-14 21:56:42,184 : INFO : topic diff=0.272166, rho=0.261694\n",
      "2022-02-14 21:56:43,111 : INFO : -6.465 per-word bound, 88.3 perplexity estimate based on a held-out corpus of 1204 documents with 49783 words\n",
      "2022-02-14 21:56:43,112 : INFO : PROGRESS: pass 12, at document #3204/3204\n",
      "2022-02-14 21:56:43,915 : INFO : optimized alpha [0.012051866, 0.012638757, 0.013027453, 0.011196079, 0.011353617, 0.010567581, 0.010851168, 0.011306912, 0.011808669, 0.010939969, 0.012334736, 0.012961044, 0.012371878, 0.014045697, 0.011675174, 0.012300421, 0.011748429, 0.012074966, 0.012835414, 0.01203956, 0.012962792, 0.0121253515, 0.013577836, 0.012055384, 0.014889682, 0.012466881, 0.011164308, 0.01277529, 0.012490036, 0.011821276, 0.014832165, 0.014309647, 0.016357869, 0.013542869, 0.011382286, 0.009863636, 0.011135245, 0.0123357875, 0.011150218, 0.011513979, 0.011051777, 0.01530086, 0.0128374025, 0.010863991, 0.012400441, 0.010792932, 0.011818793, 0.011534022, 0.012024519, 0.01021914, 0.010198136, 0.010046608, 0.013195441, 0.010730704, 0.012178266, 0.011813608, 0.014856333, 0.012330479, 0.014646904, 0.011374681, 0.011196606, 0.010460072, 0.012193568, 0.012731383, 0.01145442, 0.010351894, 0.01620088, 0.011499919, 0.011140205, 0.011750153, 0.01220036, 0.010925938, 0.011324732, 0.011308065, 0.01095543, 0.01582381, 0.0128084235, 0.011625718, 0.01206235, 0.012225064, 0.01053297, 0.044884004, 0.013152766, 0.013974106, 0.010195442, 0.010997803, 0.010816708, 0.011238322, 0.013689689, 0.012762607, 0.01313774, 0.011106438, 0.013512177, 0.011721847, 0.012719098, 0.011669087, 0.011741701, 0.012621058, 0.012696014, 0.011687254]\n",
      "2022-02-14 21:56:43,922 : INFO : merging changes from 1204 documents into a model of 3204 documents\n",
      "2022-02-14 21:56:43,930 : INFO : topic #35 (0.010): 0.178*\",\" + 0.132*\"-\" + 0.102*\"element\" + 0.037*\"reduct\" + 0.035*\"rotat\" + 0.032*\"dimension\" + 0.024*\"construct\" + 0.016*\"ration\" + 0.015*\"augment\" + 0.015*\"form\"\n",
      "2022-02-14 21:56:43,930 : INFO : topic #51 (0.010): 0.166*\"display\" + 0.088*\"imag\" + 0.078*\"comput\" + 0.062*\"requir\" + 0.060*\"charact\" + 0.060*\",\" + 0.030*\"interact\" + 0.025*\"draw\" + 0.025*\"line\" + 0.024*\"convers\"\n",
      "2022-02-14 21:56:43,931 : INFO : topic #66 (0.016): 0.360*\"[\" + 0.218*\"algorithm\" + 0.201*\"(\" + 0.166*\"])\" + 0.021*\"-\" + 0.021*\"s14\" + 0.002*\"probabl\" + 0.001*\"examin\" + 0.000*\"test\" + 0.000*\"schedul\"\n",
      "2022-02-14 21:56:43,932 : INFO : topic #32 (0.016): 0.201*\"problem\" + 0.128*\"solut\" + 0.070*\"-\" + 0.059*\"approxim\" + 0.046*\",\" + 0.039*\"numer\" + 0.039*\"linear\" + 0.032*\"method\" + 0.032*\"preced\" + 0.019*\"obtain\"\n",
      "2022-02-14 21:56:43,933 : INFO : topic #81 (0.045): 0.381*\"(\" + 0.351*\")\" + 0.218*\"algorithm\" + 0.014*\"integr\" + 0.011*\"order\" + 0.008*\"exponenti\" + 0.003*\"-\" + 0.003*\"lexicograph\" + 0.003*\"chebyshev\" + 0.002*\"definit\"\n",
      "2022-02-14 21:56:43,936 : INFO : topic diff=0.278456, rho=0.261694\n",
      "2022-02-14 21:56:43,950 : INFO : PROGRESS: pass 13, at document #2000/3204\n",
      "2022-02-14 21:56:44,880 : INFO : optimized alpha [0.01206136, 0.012758713, 0.013088982, 0.011217828, 0.011419785, 0.01059654, 0.010845749, 0.011392606, 0.011840145, 0.010949091, 0.012324967, 0.013019047, 0.01237525, 0.014243578, 0.011733946, 0.012321806, 0.011787038, 0.012202876, 0.012849265, 0.012131703, 0.01317237, 0.012110376, 0.01353688, 0.012144979, 0.015039637, 0.01263856, 0.0111933295, 0.012749078, 0.012628083, 0.011947813, 0.015050477, 0.014531556, 0.016572997, 0.013677601, 0.011408951, 0.00988088, 0.011241352, 0.012384862, 0.011179977, 0.011516694, 0.0110502085, 0.015276623, 0.012942893, 0.010906331, 0.0124550015, 0.010804648, 0.011882373, 0.011540703, 0.012035117, 0.010225187, 0.010227323, 0.010078141, 0.013188187, 0.010745274, 0.012272222, 0.011857786, 0.015149178, 0.012411895, 0.0148645295, 0.01137487, 0.011247535, 0.010433876, 0.012226937, 0.012725615, 0.011498452, 0.010360816, 0.016584976, 0.011548765, 0.01121883, 0.011800667, 0.01220652, 0.010929097, 0.011368218, 0.011302346, 0.011028514, 0.015967133, 0.012843845, 0.011651048, 0.012111772, 0.012285615, 0.010532349, 0.04689682, 0.013231572, 0.014064468, 0.010207195, 0.011011, 0.010820633, 0.011336628, 0.0137424795, 0.012855491, 0.01313769, 0.011125558, 0.013647473, 0.011781213, 0.01273779, 0.011725283, 0.011769348, 0.012735586, 0.012735629, 0.011700557]\n",
      "2022-02-14 21:56:44,891 : INFO : merging changes from 2000 documents into a model of 3204 documents\n",
      "2022-02-14 21:56:44,900 : INFO : topic #35 (0.010): 0.175*\",\" + 0.133*\"-\" + 0.104*\"element\" + 0.036*\"reduct\" + 0.035*\"dimension\" + 0.034*\"rotat\" + 0.022*\"construct\" + 0.016*\"form\" + 0.016*\"analyz\" + 0.015*\"ration\"\n",
      "2022-02-14 21:56:44,904 : INFO : topic #51 (0.010): 0.163*\"display\" + 0.080*\"comput\" + 0.078*\"imag\" + 0.069*\"charact\" + 0.060*\",\" + 0.057*\"requir\" + 0.028*\"interact\" + 0.023*\"cost\" + 0.023*\"convers\" + 0.022*\"draw\"\n",
      "2022-02-14 21:56:44,909 : INFO : topic #32 (0.017): 0.194*\"problem\" + 0.127*\"solut\" + 0.071*\"-\" + 0.062*\"approxim\" + 0.047*\",\" + 0.045*\"numer\" + 0.038*\"linear\" + 0.034*\"method\" + 0.029*\"preced\" + 0.018*\"obtain\"\n",
      "2022-02-14 21:56:44,914 : INFO : topic #66 (0.017): 0.326*\"[\" + 0.219*\"algorithm\" + 0.209*\"(\" + 0.191*\"])\" + 0.021*\"-\" + 0.020*\"s14\" + 0.002*\"probabl\" + 0.002*\"examin\" + 0.000*\"test\" + 0.000*\"schedul\"\n",
      "2022-02-14 21:56:44,916 : INFO : topic #81 (0.047): 0.376*\"(\" + 0.350*\")\" + 0.222*\"algorithm\" + 0.015*\"integr\" + 0.011*\"order\" + 0.008*\"exponenti\" + 0.004*\"lexicograph\" + 0.003*\"chebyshev\" + 0.003*\"-\" + 0.002*\"definit\"\n",
      "2022-02-14 21:56:44,922 : INFO : topic diff=0.245453, rho=0.253169\n",
      "2022-02-14 21:56:45,903 : INFO : -6.455 per-word bound, 87.7 perplexity estimate based on a held-out corpus of 1204 documents with 49783 words\n",
      "2022-02-14 21:56:45,903 : INFO : PROGRESS: pass 13, at document #3204/3204\n",
      "2022-02-14 21:56:46,604 : INFO : optimized alpha [0.012197587, 0.012824052, 0.0132508, 0.011351322, 0.01155093, 0.010651225, 0.010935216, 0.011510611, 0.012015411, 0.011013998, 0.012463083, 0.013134934, 0.012509356, 0.014475823, 0.011910582, 0.0124739185, 0.011898101, 0.012255443, 0.013093289, 0.012212556, 0.013241221, 0.012283075, 0.0137857795, 0.012314164, 0.015379394, 0.012691657, 0.0113213295, 0.012971087, 0.012706452, 0.012038325, 0.015465179, 0.0147449905, 0.01697225, 0.0138747655, 0.011518484, 0.009942736, 0.011319139, 0.012504364, 0.011259239, 0.011677183, 0.011168361, 0.015673343, 0.01311584, 0.010972247, 0.012607972, 0.010870493, 0.012057867, 0.011668462, 0.012168633, 0.010294783, 0.010299949, 0.010124569, 0.013456327, 0.010789821, 0.012396955, 0.012031791, 0.015193172, 0.012643137, 0.015112692, 0.011503779, 0.01130756, 0.010538895, 0.012344814, 0.01295148, 0.01162254, 0.010438832, 0.016700424, 0.011659106, 0.01133207, 0.01197409, 0.01241591, 0.011012575, 0.011453798, 0.0114006195, 0.011069326, 0.016302593, 0.013048721, 0.011783763, 0.012298193, 0.012401698, 0.010611326, 0.04861653, 0.013422062, 0.0142961815, 0.010264525, 0.011093021, 0.010910724, 0.011441428, 0.013963207, 0.012995649, 0.013370352, 0.01120839, 0.013865266, 0.01187748, 0.012968255, 0.011882839, 0.011892102, 0.012840572, 0.012918215, 0.011848562]\n",
      "2022-02-14 21:56:46,610 : INFO : merging changes from 1204 documents into a model of 3204 documents\n",
      "2022-02-14 21:56:46,619 : INFO : topic #35 (0.010): 0.181*\",\" + 0.134*\"-\" + 0.104*\"element\" + 0.039*\"reduct\" + 0.035*\"rotat\" + 0.035*\"dimension\" + 0.024*\"construct\" + 0.017*\"ration\" + 0.015*\"augment\" + 0.014*\"analyz\"\n",
      "2022-02-14 21:56:46,620 : INFO : topic #51 (0.010): 0.165*\"display\" + 0.087*\"imag\" + 0.079*\"comput\" + 0.068*\"charact\" + 0.061*\"requir\" + 0.061*\",\" + 0.029*\"interact\" + 0.026*\"line\" + 0.025*\"draw\" + 0.025*\"convers\"\n",
      "2022-02-14 21:56:46,621 : INFO : topic #66 (0.017): 0.359*\"[\" + 0.217*\"algorithm\" + 0.202*\"(\" + 0.166*\"])\" + 0.021*\"-\" + 0.021*\"s14\" + 0.002*\"probabl\" + 0.001*\"examin\" + 0.000*\"test\" + 0.000*\"schedul\"\n",
      "2022-02-14 21:56:46,623 : INFO : topic #32 (0.017): 0.205*\"problem\" + 0.128*\"solut\" + 0.071*\"-\" + 0.059*\"approxim\" + 0.047*\",\" + 0.040*\"linear\" + 0.039*\"numer\" + 0.032*\"method\" + 0.032*\"preced\" + 0.019*\"obtain\"\n",
      "2022-02-14 21:56:46,625 : INFO : topic #81 (0.049): 0.382*\"(\" + 0.351*\")\" + 0.217*\"algorithm\" + 0.014*\"integr\" + 0.011*\"order\" + 0.008*\"exponenti\" + 0.003*\"lexicograph\" + 0.003*\"-\" + 0.003*\"chebyshev\" + 0.002*\"definit\"\n",
      "2022-02-14 21:56:46,627 : INFO : topic diff=0.251865, rho=0.253169\n",
      "2022-02-14 21:56:46,639 : INFO : PROGRESS: pass 14, at document #2000/3204\n",
      "2022-02-14 21:56:47,516 : INFO : optimized alpha [0.012208191, 0.012944734, 0.01331073, 0.011377972, 0.011614105, 0.010678343, 0.010928713, 0.011593159, 0.012051659, 0.011027235, 0.012453454, 0.013188265, 0.012517228, 0.014672713, 0.011970751, 0.012494519, 0.011935728, 0.012380783, 0.013109075, 0.012299767, 0.013449065, 0.012268032, 0.013746476, 0.012400311, 0.015533752, 0.012863396, 0.011353634, 0.012951152, 0.012846496, 0.01216247, 0.015686616, 0.014976356, 0.017190155, 0.014015242, 0.011547291, 0.009962131, 0.011427355, 0.012550649, 0.011289751, 0.011680929, 0.011166753, 0.015648812, 0.013219054, 0.011017753, 0.012662598, 0.010882086, 0.012121274, 0.011674838, 0.012184864, 0.010304626, 0.010329758, 0.010158037, 0.013449583, 0.010802975, 0.0124857845, 0.012079043, 0.015479749, 0.012725639, 0.015329279, 0.011506591, 0.011357349, 0.010517333, 0.012377327, 0.012948208, 0.011665406, 0.010450208, 0.01707885, 0.011711118, 0.011416078, 0.012027582, 0.012421308, 0.011014432, 0.011494888, 0.011397965, 0.011146299, 0.016438425, 0.0130842915, 0.011811291, 0.012346071, 0.01246226, 0.010613486, 0.050645813, 0.013495509, 0.014380492, 0.010278773, 0.0111059835, 0.010913301, 0.0115406085, 0.014008937, 0.013088001, 0.013375924, 0.011227141, 0.014004745, 0.011936873, 0.012988904, 0.011938924, 0.011910139, 0.012959039, 0.012953265, 0.011861272]\n",
      "2022-02-14 21:56:47,521 : INFO : merging changes from 2000 documents into a model of 3204 documents\n",
      "2022-02-14 21:56:47,529 : INFO : topic #35 (0.010): 0.177*\",\" + 0.134*\"-\" + 0.105*\"element\" + 0.038*\"dimension\" + 0.038*\"reduct\" + 0.034*\"rotat\" + 0.022*\"construct\" + 0.016*\"ration\" + 0.016*\"analyz\" + 0.015*\"perform\"\n",
      "2022-02-14 21:56:47,531 : INFO : topic #51 (0.010): 0.162*\"display\" + 0.081*\"comput\" + 0.078*\"imag\" + 0.076*\"charact\" + 0.061*\",\" + 0.057*\"requir\" + 0.027*\"interact\" + 0.024*\"convers\" + 0.023*\"line\" + 0.022*\"cost\"\n",
      "2022-02-14 21:56:47,532 : INFO : topic #66 (0.017): 0.327*\"[\" + 0.218*\"algorithm\" + 0.210*\"(\" + 0.191*\"])\" + 0.021*\"-\" + 0.020*\"s14\" + 0.002*\"examin\" + 0.001*\"probabl\" + 0.000*\"test\" + 0.000*\"schedul\"\n",
      "2022-02-14 21:56:47,532 : INFO : topic #32 (0.017): 0.198*\"problem\" + 0.127*\"solut\" + 0.072*\"-\" + 0.062*\"approxim\" + 0.047*\",\" + 0.044*\"numer\" + 0.038*\"linear\" + 0.033*\"method\" + 0.029*\"preced\" + 0.019*\"comput\"\n",
      "2022-02-14 21:56:47,534 : INFO : topic #81 (0.051): 0.378*\"(\" + 0.350*\")\" + 0.221*\"algorithm\" + 0.015*\"integr\" + 0.011*\"order\" + 0.008*\"exponenti\" + 0.004*\"lexicograph\" + 0.003*\"chebyshev\" + 0.002*\"-\" + 0.002*\"definit\"\n",
      "2022-02-14 21:56:47,535 : INFO : topic diff=0.223323, rho=0.245426\n",
      "2022-02-14 21:56:48,529 : INFO : -6.446 per-word bound, 87.2 perplexity estimate based on a held-out corpus of 1204 documents with 49783 words\n",
      "2022-02-14 21:56:48,530 : INFO : PROGRESS: pass 14, at document #3204/3204\n",
      "2022-02-14 21:56:49,215 : INFO : optimized alpha [0.0123388255, 0.013008076, 0.01346903, 0.011506235, 0.011751922, 0.010731787, 0.011018359, 0.011708607, 0.012221014, 0.011090676, 0.012583261, 0.013301355, 0.012645731, 0.014906944, 0.0121514285, 0.012643295, 0.012044239, 0.012431617, 0.013348745, 0.012375987, 0.01351253, 0.012439544, 0.013990394, 0.012576448, 0.015875759, 0.012914459, 0.011481192, 0.013163358, 0.012925028, 0.012250605, 0.016128272, 0.015185723, 0.017588805, 0.014222766, 0.011656719, 0.010020536, 0.011514706, 0.012664825, 0.011371819, 0.011838089, 0.011284561, 0.016039455, 0.013393785, 0.01108207, 0.012809631, 0.010946432, 0.01229591, 0.011806919, 0.012327828, 0.010370525, 0.010407066, 0.0102034025, 0.013710216, 0.010844442, 0.012607559, 0.012259554, 0.015517464, 0.01296112, 0.015569888, 0.0116325915, 0.011415891, 0.010619993, 0.012494931, 0.013169873, 0.011784229, 0.010526457, 0.017188942, 0.011816473, 0.011529125, 0.012200133, 0.0126215825, 0.011093736, 0.0115760295, 0.011498642, 0.011188266, 0.016782688, 0.013282568, 0.011945996, 0.012531373, 0.012583327, 0.010690674, 0.052320518, 0.013679265, 0.01460479, 0.010345414, 0.011188373, 0.011005856, 0.011642966, 0.014222407, 0.013230202, 0.0136123225, 0.011310326, 0.0142301135, 0.012030776, 0.013212496, 0.012108055, 0.012027572, 0.013058569, 0.013132007, 0.012006082]\n",
      "2022-02-14 21:56:49,222 : INFO : merging changes from 1204 documents into a model of 3204 documents\n",
      "2022-02-14 21:56:49,229 : INFO : topic #35 (0.010): 0.182*\",\" + 0.135*\"-\" + 0.105*\"element\" + 0.040*\"reduct\" + 0.037*\"dimension\" + 0.035*\"rotat\" + 0.024*\"construct\" + 0.017*\"ration\" + 0.015*\"maximum\" + 0.015*\"perform\"\n",
      "2022-02-14 21:56:49,230 : INFO : topic #51 (0.010): 0.164*\"display\" + 0.086*\"imag\" + 0.080*\"comput\" + 0.073*\"charact\" + 0.061*\",\" + 0.061*\"requir\" + 0.029*\"interact\" + 0.027*\"convers\" + 0.026*\"line\" + 0.025*\"draw\"\n",
      "2022-02-14 21:56:49,231 : INFO : topic #66 (0.017): 0.359*\"[\" + 0.216*\"algorithm\" + 0.203*\"(\" + 0.167*\"])\" + 0.021*\"-\" + 0.021*\"s14\" + 0.001*\"examin\" + 0.001*\"probabl\" + 0.000*\"test\" + 0.000*\"schedul\"\n",
      "2022-02-14 21:56:49,231 : INFO : topic #32 (0.018): 0.207*\"problem\" + 0.129*\"solut\" + 0.072*\"-\" + 0.059*\"approxim\" + 0.048*\",\" + 0.040*\"linear\" + 0.039*\"numer\" + 0.032*\"method\" + 0.031*\"preced\" + 0.019*\"obtain\"\n",
      "2022-02-14 21:56:49,232 : INFO : topic #81 (0.052): 0.384*\"(\" + 0.352*\")\" + 0.216*\"algorithm\" + 0.014*\"integr\" + 0.011*\"order\" + 0.007*\"exponenti\" + 0.003*\"lexicograph\" + 0.003*\"chebyshev\" + 0.002*\"-\" + 0.002*\"definit\"\n",
      "2022-02-14 21:56:49,233 : INFO : topic diff=0.229627, rho=0.245426\n",
      "2022-02-14 21:56:49,247 : INFO : PROGRESS: pass 15, at document #2000/3204\n",
      "2022-02-14 21:56:50,086 : INFO : optimized alpha [0.012350619, 0.013124892, 0.013530706, 0.011530764, 0.011820651, 0.010758456, 0.011016077, 0.011802111, 0.012256161, 0.0111024715, 0.0125783235, 0.013356607, 0.012654917, 0.015104747, 0.012213035, 0.012666201, 0.012082383, 0.012554603, 0.013361671, 0.012461472, 0.013717223, 0.012422934, 0.013945943, 0.012671392, 0.01603841, 0.013083373, 0.011514007, 0.013139928, 0.0130609935, 0.012379852, 0.016359016, 0.0154179735, 0.017801173, 0.014360774, 0.011686213, 0.010040802, 0.011622376, 0.012710014, 0.011403069, 0.011839977, 0.011282894, 0.016010888, 0.01349639, 0.011133294, 0.012862828, 0.010957933, 0.012359222, 0.011815842, 0.012340524, 0.010377819, 0.01043753, 0.010236262, 0.013702451, 0.010860207, 0.012699044, 0.012303978, 0.015796155, 0.013041632, 0.015791116, 0.011635184, 0.011466151, 0.010599074, 0.012535629, 0.01316259, 0.011828906, 0.0105377, 0.017563978, 0.01187013, 0.011618441, 0.01225223, 0.01262622, 0.011098413, 0.0116190305, 0.011498847, 0.01126238, 0.016927594, 0.013320064, 0.01196982, 0.012579326, 0.012641066, 0.010694177, 0.054362535, 0.013754106, 0.01468511, 0.010358243, 0.011201181, 0.011008445, 0.011743154, 0.014264761, 0.013322123, 0.013615246, 0.011328724, 0.014368737, 0.012088855, 0.01323667, 0.012162798, 0.012053754, 0.013171738, 0.01316895, 0.01202253]\n",
      "2022-02-14 21:56:50,095 : INFO : merging changes from 2000 documents into a model of 3204 documents\n",
      "2022-02-14 21:56:50,105 : INFO : topic #35 (0.010): 0.179*\",\" + 0.136*\"-\" + 0.107*\"element\" + 0.040*\"dimension\" + 0.038*\"reduct\" + 0.034*\"rotat\" + 0.022*\"construct\" + 0.016*\"ration\" + 0.016*\"analyz\" + 0.016*\"perform\"\n",
      "2022-02-14 21:56:50,106 : INFO : topic #51 (0.010): 0.161*\"display\" + 0.082*\"comput\" + 0.080*\"charact\" + 0.077*\"imag\" + 0.061*\",\" + 0.056*\"requir\" + 0.027*\"interact\" + 0.025*\"convers\" + 0.024*\"line\" + 0.023*\"draw\"\n",
      "2022-02-14 21:56:50,107 : INFO : topic #66 (0.018): 0.327*\"[\" + 0.218*\"algorithm\" + 0.211*\"(\" + 0.191*\"])\" + 0.021*\"-\" + 0.020*\"s14\" + 0.002*\"examin\" + 0.001*\"probabl\" + 0.000*\"test\" + 0.000*\"schedul\"\n",
      "2022-02-14 21:56:50,108 : INFO : topic #32 (0.018): 0.200*\"problem\" + 0.128*\"solut\" + 0.072*\"-\" + 0.062*\"approxim\" + 0.048*\",\" + 0.044*\"numer\" + 0.038*\"linear\" + 0.033*\"method\" + 0.029*\"preced\" + 0.019*\"comput\"\n",
      "2022-02-14 21:56:50,111 : INFO : topic #81 (0.054): 0.379*\"(\" + 0.351*\")\" + 0.220*\"algorithm\" + 0.015*\"integr\" + 0.011*\"order\" + 0.008*\"exponenti\" + 0.004*\"lexicograph\" + 0.003*\"chebyshev\" + 0.002*\"-\" + 0.002*\"definit\"\n",
      "2022-02-14 21:56:50,112 : INFO : topic diff=0.204695, rho=0.238352\n",
      "2022-02-14 21:56:51,227 : INFO : -6.439 per-word bound, 86.7 perplexity estimate based on a held-out corpus of 1204 documents with 49783 words\n",
      "2022-02-14 21:56:51,228 : INFO : PROGRESS: pass 15, at document #3204/3204\n",
      "2022-02-14 21:56:52,018 : INFO : optimized alpha [0.012481124, 0.013178523, 0.013688539, 0.011661061, 0.011967556, 0.010810734, 0.011108185, 0.0119127985, 0.012417533, 0.011160143, 0.012705382, 0.013467148, 0.012783244, 0.015338335, 0.012395499, 0.012814523, 0.012190924, 0.012603839, 0.013602565, 0.012538305, 0.013786436, 0.012591058, 0.014185251, 0.012844562, 0.016379993, 0.013132534, 0.0116412565, 0.013350764, 0.013142457, 0.012465713, 0.016806072, 0.015632413, 0.018191814, 0.0145617165, 0.0117933415, 0.010101987, 0.0117077045, 0.012819152, 0.011485577, 0.011989265, 0.011398196, 0.016395727, 0.013670342, 0.011196132, 0.013009361, 0.011025289, 0.012525876, 0.011945254, 0.012478114, 0.010446422, 0.0105131725, 0.010282703, 0.013958767, 0.010905198, 0.012820601, 0.012483859, 0.015830973, 0.013276335, 0.016033946, 0.011753886, 0.011521032, 0.010705881, 0.012658156, 0.013390908, 0.011949963, 0.010616481, 0.01766897, 0.011973197, 0.01173845, 0.012428997, 0.012822904, 0.011187056, 0.011700666, 0.011597384, 0.011301023, 0.017267479, 0.013517421, 0.012101743, 0.01276376, 0.01275195, 0.010769725, 0.056000877, 0.0139343245, 0.014905298, 0.010429639, 0.011279558, 0.011094614, 0.011852606, 0.014468441, 0.013461269, 0.013847496, 0.011414575, 0.014590374, 0.012180608, 0.013466978, 0.012336221, 0.01216869, 0.013274026, 0.013344266, 0.012164404]\n",
      "2022-02-14 21:56:52,028 : INFO : merging changes from 1204 documents into a model of 3204 documents\n",
      "2022-02-14 21:56:52,038 : INFO : topic #35 (0.010): 0.183*\",\" + 0.137*\"-\" + 0.105*\"element\" + 0.040*\"reduct\" + 0.039*\"dimension\" + 0.034*\"rotat\" + 0.024*\"construct\" + 0.018*\"ration\" + 0.017*\"maximum\" + 0.015*\"perform\"\n",
      "2022-02-14 21:56:52,039 : INFO : topic #51 (0.010): 0.163*\"display\" + 0.086*\"imag\" + 0.081*\"comput\" + 0.077*\"charact\" + 0.062*\",\" + 0.060*\"requir\" + 0.028*\"interact\" + 0.028*\"convers\" + 0.027*\"line\" + 0.025*\"draw\"\n",
      "2022-02-14 21:56:52,041 : INFO : topic #66 (0.018): 0.359*\"[\" + 0.215*\"algorithm\" + 0.204*\"(\" + 0.167*\"])\" + 0.021*\"-\" + 0.021*\"s14\" + 0.001*\"examin\" + 0.001*\"probabl\" + 0.000*\"test\" + 0.000*\"schedul\"\n",
      "2022-02-14 21:56:52,042 : INFO : topic #32 (0.018): 0.210*\"problem\" + 0.130*\"solut\" + 0.073*\"-\" + 0.060*\"approxim\" + 0.049*\",\" + 0.040*\"linear\" + 0.038*\"numer\" + 0.032*\"method\" + 0.031*\"preced\" + 0.019*\"comput\"\n",
      "2022-02-14 21:56:52,044 : INFO : topic #81 (0.056): 0.385*\"(\" + 0.352*\")\" + 0.216*\"algorithm\" + 0.014*\"integr\" + 0.011*\"order\" + 0.007*\"exponenti\" + 0.003*\"lexicograph\" + 0.003*\"chebyshev\" + 0.002*\"-\" + 0.002*\"definit\"\n",
      "2022-02-14 21:56:52,049 : INFO : topic diff=0.210674, rho=0.238352\n",
      "2022-02-14 21:56:52,058 : INFO : PROGRESS: pass 16, at document #2000/3204\n",
      "2022-02-14 21:56:52,977 : INFO : optimized alpha [0.012492551, 0.013293244, 0.013751907, 0.011686235, 0.012037603, 0.010838262, 0.011107274, 0.012000563, 0.012461828, 0.01117191, 0.012697524, 0.013521187, 0.0127920965, 0.015535515, 0.012458497, 0.012838177, 0.0122282365, 0.012724705, 0.013614261, 0.012625081, 0.013989918, 0.01257736, 0.014137537, 0.012943813, 0.016541664, 0.013298873, 0.011670528, 0.013331773, 0.013282332, 0.012591456, 0.017040482, 0.015865723, 0.018409315, 0.014697385, 0.011823528, 0.010124302, 0.011816317, 0.012857409, 0.011516195, 0.011993669, 0.011403054, 0.01636898, 0.013775684, 0.011246427, 0.013070333, 0.011039276, 0.012589175, 0.011953817, 0.0124917645, 0.010456168, 0.010545483, 0.010318625, 0.013946775, 0.010919595, 0.012911803, 0.012532862, 0.016104177, 0.013358119, 0.016256323, 0.011752228, 0.011568998, 0.010690425, 0.012697921, 0.013382964, 0.011992168, 0.010628801, 0.018042933, 0.012024336, 0.011827579, 0.012481199, 0.012831269, 0.011187808, 0.011745579, 0.011593535, 0.011376384, 0.017409148, 0.013558378, 0.012130558, 0.012808887, 0.0128069455, 0.010775803, 0.05803347, 0.014010613, 0.014983525, 0.010441072, 0.011293482, 0.011092043, 0.01195935, 0.014512743, 0.013552819, 0.0138559155, 0.011433962, 0.014733446, 0.012240336, 0.013486724, 0.012392486, 0.0121884905, 0.013388243, 0.01338156, 0.01217744]\n",
      "2022-02-14 21:56:52,985 : INFO : merging changes from 2000 documents into a model of 3204 documents\n",
      "2022-02-14 21:56:52,994 : INFO : topic #35 (0.010): 0.180*\",\" + 0.138*\"-\" + 0.107*\"element\" + 0.042*\"dimension\" + 0.039*\"reduct\" + 0.034*\"rotat\" + 0.022*\"construct\" + 0.017*\"maximum\" + 0.016*\"ration\" + 0.016*\"perform\"\n",
      "2022-02-14 21:56:52,995 : INFO : topic #51 (0.010): 0.160*\"display\" + 0.084*\"charact\" + 0.082*\"comput\" + 0.077*\"imag\" + 0.061*\",\" + 0.056*\"requir\" + 0.027*\"convers\" + 0.026*\"interact\" + 0.024*\"line\" + 0.022*\"draw\"\n",
      "2022-02-14 21:56:52,995 : INFO : topic #66 (0.018): 0.328*\"[\" + 0.218*\"algorithm\" + 0.211*\"(\" + 0.190*\"])\" + 0.021*\"-\" + 0.020*\"s14\" + 0.002*\"examin\" + 0.001*\"probabl\" + 0.000*\"test\" + 0.000*\"schedul\"\n",
      "2022-02-14 21:56:52,996 : INFO : topic #32 (0.018): 0.202*\"problem\" + 0.129*\"solut\" + 0.073*\"-\" + 0.062*\"approxim\" + 0.049*\",\" + 0.043*\"numer\" + 0.039*\"linear\" + 0.033*\"method\" + 0.029*\"preced\" + 0.019*\"comput\"\n",
      "2022-02-14 21:56:52,997 : INFO : topic #81 (0.058): 0.381*\"(\" + 0.351*\")\" + 0.220*\"algorithm\" + 0.015*\"integr\" + 0.011*\"order\" + 0.008*\"exponenti\" + 0.004*\"lexicograph\" + 0.003*\"chebyshev\" + 0.002*\"-\" + 0.002*\"definit\"\n",
      "2022-02-14 21:56:52,999 : INFO : topic diff=0.189006, rho=0.231857\n",
      "2022-02-14 21:56:53,977 : INFO : -6.432 per-word bound, 86.4 perplexity estimate based on a held-out corpus of 1204 documents with 49783 words\n",
      "2022-02-14 21:56:53,978 : INFO : PROGRESS: pass 16, at document #3204/3204\n",
      "2022-02-14 21:56:54,617 : INFO : optimized alpha [0.01262303, 0.01335568, 0.013906767, 0.011814092, 0.012195834, 0.010889491, 0.011197528, 0.012111379, 0.012625268, 0.011226265, 0.01282701, 0.013626698, 0.012915402, 0.015771573, 0.01263816, 0.012983718, 0.01233458, 0.012772475, 0.013854085, 0.012697602, 0.014056641, 0.0127423415, 0.01436712, 0.013116686, 0.016882924, 0.013346197, 0.011788572, 0.013549354, 0.013359033, 0.012680141, 0.017496493, 0.016085526, 0.018810486, 0.014897731, 0.011930831, 0.010184237, 0.011904271, 0.012964294, 0.011599274, 0.012144863, 0.011516081, 0.016745385, 0.013938581, 0.011312248, 0.013216558, 0.0111052515, 0.012757854, 0.0120761385, 0.012631573, 0.010521359, 0.010629837, 0.0103680715, 0.014204387, 0.010963776, 0.0130283665, 0.0127195725, 0.0161425, 0.013592296, 0.016495261, 0.011866286, 0.011627179, 0.010793056, 0.012820438, 0.013607636, 0.012110813, 0.010708073, 0.018142981, 0.012127632, 0.011942968, 0.012657459, 0.013032264, 0.011270363, 0.011823259, 0.0116878785, 0.011416284, 0.017744854, 0.013757542, 0.012264737, 0.012990233, 0.0129278675, 0.010849825, 0.059571605, 0.014190276, 0.015199869, 0.010513092, 0.011370261, 0.011182928, 0.012071213, 0.014715642, 0.013694308, 0.014084438, 0.011515832, 0.014957283, 0.012332508, 0.013703045, 0.012558289, 0.012296388, 0.013485542, 0.013556209, 0.012314277]\n",
      "2022-02-14 21:56:54,623 : INFO : merging changes from 1204 documents into a model of 3204 documents\n",
      "2022-02-14 21:56:54,631 : INFO : topic #35 (0.010): 0.184*\",\" + 0.139*\"-\" + 0.106*\"element\" + 0.041*\"reduct\" + 0.040*\"dimension\" + 0.034*\"rotat\" + 0.024*\"construct\" + 0.018*\"maximum\" + 0.018*\"ration\" + 0.016*\"perform\"\n",
      "2022-02-14 21:56:54,633 : INFO : topic #51 (0.010): 0.162*\"display\" + 0.085*\"imag\" + 0.081*\"charact\" + 0.081*\"comput\" + 0.062*\",\" + 0.059*\"requir\" + 0.028*\"convers\" + 0.028*\"interact\" + 0.028*\"line\" + 0.025*\"draw\"\n",
      "2022-02-14 21:56:54,635 : INFO : topic #66 (0.018): 0.358*\"[\" + 0.216*\"algorithm\" + 0.204*\"(\" + 0.168*\"])\" + 0.021*\"-\" + 0.020*\"s14\" + 0.001*\"examin\" + 0.001*\"probabl\" + 0.000*\"test\" + 0.000*\"schedul\"\n",
      "2022-02-14 21:56:54,638 : INFO : topic #32 (0.019): 0.211*\"problem\" + 0.131*\"solut\" + 0.073*\"-\" + 0.060*\"approxim\" + 0.050*\",\" + 0.041*\"linear\" + 0.038*\"numer\" + 0.032*\"method\" + 0.031*\"preced\" + 0.019*\"comput\"\n",
      "2022-02-14 21:56:54,640 : INFO : topic #81 (0.060): 0.386*\"(\" + 0.352*\")\" + 0.215*\"algorithm\" + 0.014*\"integr\" + 0.011*\"order\" + 0.007*\"exponenti\" + 0.003*\"lexicograph\" + 0.003*\"chebyshev\" + 0.002*\"-\" + 0.002*\"definit\"\n",
      "2022-02-14 21:56:54,641 : INFO : topic diff=0.194394, rho=0.231857\n",
      "2022-02-14 21:56:54,656 : INFO : PROGRESS: pass 17, at document #2000/3204\n",
      "2022-02-14 21:56:55,425 : INFO : optimized alpha [0.012631151, 0.013471577, 0.013971916, 0.011841295, 0.012270041, 0.010917862, 0.011197973, 0.012201881, 0.0126699265, 0.011238028, 0.012817761, 0.013676559, 0.012918075, 0.015973605, 0.012695443, 0.013006613, 0.012371128, 0.012891374, 0.013864643, 0.012782922, 0.014259114, 0.012732937, 0.014319537, 0.013218779, 0.01704937, 0.013513175, 0.011817142, 0.013528392, 0.013496769, 0.012805456, 0.01773666, 0.01632187, 0.01903129, 0.015036199, 0.011964424, 0.010205063, 0.012017929, 0.013003228, 0.01163196, 0.012155724, 0.011522107, 0.016714884, 0.01405148, 0.011360378, 0.01327622, 0.011121629, 0.01282266, 0.012084404, 0.01264901, 0.010533439, 0.010660304, 0.01040104, 0.014194682, 0.010976869, 0.0131179355, 0.012771649, 0.016415885, 0.013675372, 0.01671518, 0.011864592, 0.011674317, 0.010776738, 0.012863631, 0.01360526, 0.012153491, 0.01072386, 0.01851196, 0.01217646, 0.012032027, 0.012715534, 0.013044296, 0.011273784, 0.011866037, 0.011684212, 0.011492957, 0.017889692, 0.013801893, 0.0122899655, 0.013034084, 0.01298473, 0.010857115, 0.061626684, 0.014261656, 0.015274422, 0.010525567, 0.011384019, 0.011180509, 0.012175017, 0.014756899, 0.013787234, 0.014091874, 0.011533589, 0.015101501, 0.012393938, 0.013721774, 0.012610387, 0.012318487, 0.013599394, 0.013587793, 0.012329666]\n",
      "2022-02-14 21:56:55,457 : INFO : merging changes from 2000 documents into a model of 3204 documents\n",
      "2022-02-14 21:56:55,467 : INFO : topic #35 (0.010): 0.181*\",\" + 0.140*\"-\" + 0.107*\"element\" + 0.043*\"dimension\" + 0.040*\"reduct\" + 0.033*\"rotat\" + 0.023*\"construct\" + 0.018*\"maximum\" + 0.017*\"ration\" + 0.016*\"perform\"\n",
      "2022-02-14 21:56:55,469 : INFO : topic #51 (0.010): 0.159*\"display\" + 0.088*\"charact\" + 0.082*\"comput\" + 0.077*\"imag\" + 0.062*\",\" + 0.056*\"requir\" + 0.027*\"convers\" + 0.025*\"line\" + 0.025*\"interact\" + 0.022*\"draw\"\n",
      "2022-02-14 21:56:55,473 : INFO : topic #66 (0.019): 0.328*\"[\" + 0.218*\"algorithm\" + 0.211*\"(\" + 0.190*\"])\" + 0.021*\"-\" + 0.020*\"s14\" + 0.002*\"examin\" + 0.000*\"probabl\" + 0.000*\"test\" + 0.000*\"schedul\"\n",
      "2022-02-14 21:56:55,480 : INFO : topic #32 (0.019): 0.205*\"problem\" + 0.130*\"solut\" + 0.074*\"-\" + 0.062*\"approxim\" + 0.050*\",\" + 0.043*\"numer\" + 0.039*\"linear\" + 0.033*\"method\" + 0.028*\"preced\" + 0.019*\"comput\"\n",
      "2022-02-14 21:56:55,485 : INFO : topic #81 (0.062): 0.382*\"(\" + 0.351*\")\" + 0.219*\"algorithm\" + 0.015*\"integr\" + 0.011*\"order\" + 0.007*\"exponenti\" + 0.004*\"lexicograph\" + 0.003*\"chebyshev\" + 0.002*\"-\" + 0.002*\"definit\"\n",
      "2022-02-14 21:56:55,503 : INFO : topic diff=0.175471, rho=0.225865\n",
      "2022-02-14 21:56:56,470 : INFO : -6.425 per-word bound, 86.0 perplexity estimate based on a held-out corpus of 1204 documents with 49783 words\n",
      "2022-02-14 21:56:56,471 : INFO : PROGRESS: pass 17, at document #3204/3204\n",
      "2022-02-14 21:56:57,147 : INFO : optimized alpha [0.01275925, 0.0135298455, 0.014124061, 0.011964676, 0.012432882, 0.01097017, 0.011292899, 0.01230834, 0.012835544, 0.011291391, 0.012949707, 0.013777269, 0.013039062, 0.01620944, 0.012874896, 0.0131520545, 0.012475471, 0.012937784, 0.014098434, 0.012853805, 0.014328951, 0.012895077, 0.014542572, 0.013396696, 0.01739371, 0.013558815, 0.0119397165, 0.013747661, 0.013571504, 0.01289217, 0.018198628, 0.016550273, 0.01944341, 0.015236029, 0.012069711, 0.010267696, 0.012104083, 0.013110473, 0.011713415, 0.012304352, 0.011637373, 0.017089605, 0.01421416, 0.011416307, 0.013417312, 0.011190568, 0.012988678, 0.012204468, 0.012786348, 0.0106013995, 0.010741098, 0.010445619, 0.014445936, 0.011020314, 0.013229694, 0.012958146, 0.01645459, 0.0139145, 0.016953534, 0.011976531, 0.0117246285, 0.0108836, 0.012991127, 0.013821419, 0.012269965, 0.010799619, 0.018607281, 0.01227319, 0.012147653, 0.012889227, 0.013252086, 0.011354821, 0.0119399475, 0.011781122, 0.011534084, 0.018235167, 0.014000675, 0.012426394, 0.013212499, 0.013108379, 0.010929711, 0.0631243, 0.01443554, 0.015487224, 0.010590271, 0.011463598, 0.011263338, 0.012287113, 0.014953572, 0.013931258, 0.014319578, 0.0116139185, 0.015336223, 0.012484146, 0.013940026, 0.012783163, 0.012426638, 0.013691967, 0.013756978, 0.012461797]\n",
      "2022-02-14 21:56:57,154 : INFO : merging changes from 1204 documents into a model of 3204 documents\n",
      "2022-02-14 21:56:57,162 : INFO : topic #35 (0.010): 0.185*\",\" + 0.141*\"-\" + 0.106*\"element\" + 0.042*\"reduct\" + 0.041*\"dimension\" + 0.034*\"rotat\" + 0.024*\"construct\" + 0.019*\"maximum\" + 0.018*\"ration\" + 0.016*\"perform\"\n",
      "2022-02-14 21:56:57,163 : INFO : topic #51 (0.010): 0.162*\"display\" + 0.085*\"charact\" + 0.085*\"imag\" + 0.081*\"comput\" + 0.062*\",\" + 0.059*\"requir\" + 0.028*\"line\" + 0.028*\"convers\" + 0.026*\"interact\" + 0.025*\"draw\"\n",
      "2022-02-14 21:56:57,164 : INFO : topic #66 (0.019): 0.358*\"[\" + 0.216*\"algorithm\" + 0.204*\"(\" + 0.168*\"])\" + 0.021*\"-\" + 0.020*\"s14\" + 0.001*\"examin\" + 0.000*\"probabl\" + 0.000*\"test\" + 0.000*\"schedul\"\n",
      "2022-02-14 21:56:57,167 : INFO : topic #32 (0.019): 0.214*\"problem\" + 0.131*\"solut\" + 0.074*\"-\" + 0.060*\"approxim\" + 0.051*\",\" + 0.042*\"linear\" + 0.037*\"numer\" + 0.032*\"method\" + 0.031*\"preced\" + 0.019*\"comput\"\n",
      "2022-02-14 21:56:57,168 : INFO : topic #81 (0.063): 0.387*\"(\" + 0.352*\")\" + 0.215*\"algorithm\" + 0.014*\"integr\" + 0.011*\"order\" + 0.007*\"exponenti\" + 0.003*\"lexicograph\" + 0.003*\"chebyshev\" + 0.002*\"-\" + 0.001*\"definit\"\n",
      "2022-02-14 21:56:57,170 : INFO : topic diff=0.180337, rho=0.225865\n",
      "2022-02-14 21:56:57,181 : INFO : PROGRESS: pass 18, at document #2000/3204\n",
      "2022-02-14 21:56:58,012 : INFO : optimized alpha [0.012772744, 0.013645442, 0.014181485, 0.011992552, 0.012503015, 0.01099692, 0.011297078, 0.012394709, 0.012882024, 0.011304386, 0.012943407, 0.013826187, 0.013051848, 0.016412951, 0.012932282, 0.01318451, 0.012511317, 0.013054856, 0.014109514, 0.012930527, 0.014530688, 0.012882625, 0.014495231, 0.013500245, 0.01755569, 0.013720603, 0.011967603, 0.013727818, 0.013707259, 0.0130184945, 0.018446784, 0.016793547, 0.019661186, 0.015374056, 0.012102633, 0.010288195, 0.012212183, 0.013148622, 0.011746832, 0.012317479, 0.01164315, 0.017060986, 0.0143284025, 0.011469949, 0.0134802135, 0.011205491, 0.013052142, 0.012213826, 0.012804682, 0.010614481, 0.010772209, 0.01048386, 0.014438527, 0.011033392, 0.01331775, 0.013008896, 0.016721187, 0.013997374, 0.017174829, 0.011974771, 0.011774928, 0.010871196, 0.013030514, 0.013816755, 0.012314468, 0.010816339, 0.018973513, 0.012321077, 0.012235335, 0.0129446415, 0.013263333, 0.011362061, 0.011981975, 0.011785492, 0.011606962, 0.018373126, 0.014039091, 0.012453742, 0.013256632, 0.013166987, 0.0109381545, 0.065128, 0.014511719, 0.0155616505, 0.010606179, 0.01147969, 0.011263586, 0.0123907775, 0.014995124, 0.014021041, 0.0143260155, 0.011632683, 0.01547837, 0.012543143, 0.013959201, 0.012836886, 0.012449603, 0.013804062, 0.013795171, 0.012475301]\n",
      "2022-02-14 21:56:58,019 : INFO : merging changes from 2000 documents into a model of 3204 documents\n",
      "2022-02-14 21:56:58,027 : INFO : topic #35 (0.010): 0.182*\",\" + 0.142*\"-\" + 0.107*\"element\" + 0.044*\"dimension\" + 0.041*\"reduct\" + 0.033*\"rotat\" + 0.023*\"construct\" + 0.018*\"maximum\" + 0.017*\"perform\" + 0.017*\"ration\"\n",
      "2022-02-14 21:56:58,028 : INFO : topic #51 (0.010): 0.159*\"display\" + 0.091*\"charact\" + 0.082*\"comput\" + 0.076*\"imag\" + 0.062*\",\" + 0.056*\"requir\" + 0.027*\"convers\" + 0.025*\"line\" + 0.025*\"interact\" + 0.022*\"draw\"\n",
      "2022-02-14 21:56:58,029 : INFO : topic #66 (0.019): 0.328*\"[\" + 0.218*\"algorithm\" + 0.211*\"(\" + 0.190*\"])\" + 0.021*\"-\" + 0.020*\"s14\" + 0.002*\"examin\" + 0.000*\"probabl\" + 0.000*\"test\" + 0.000*\"schedul\"\n",
      "2022-02-14 21:56:58,030 : INFO : topic #32 (0.020): 0.206*\"problem\" + 0.131*\"solut\" + 0.074*\"-\" + 0.062*\"approxim\" + 0.051*\",\" + 0.042*\"numer\" + 0.040*\"linear\" + 0.033*\"method\" + 0.028*\"preced\" + 0.019*\"comput\"\n",
      "2022-02-14 21:56:58,031 : INFO : topic #81 (0.065): 0.382*\"(\" + 0.351*\")\" + 0.219*\"algorithm\" + 0.015*\"integr\" + 0.011*\"order\" + 0.007*\"exponenti\" + 0.004*\"lexicograph\" + 0.003*\"chebyshev\" + 0.002*\"-\" + 0.001*\"definit\"\n",
      "2022-02-14 21:56:58,033 : INFO : topic diff=0.163488, rho=0.220316\n",
      "2022-02-14 21:56:58,905 : INFO : -6.420 per-word bound, 85.6 perplexity estimate based on a held-out corpus of 1204 documents with 49783 words\n",
      "2022-02-14 21:56:58,906 : INFO : PROGRESS: pass 18, at document #3204/3204\n",
      "2022-02-14 21:56:59,520 : INFO : optimized alpha [0.01290343, 0.013702218, 0.014331038, 0.012116068, 0.012670391, 0.011050316, 0.011392386, 0.0125038335, 0.013045175, 0.011358899, 0.0130635, 0.013924941, 0.01317563, 0.0166486, 0.013121059, 0.013332356, 0.012613796, 0.01309998, 0.014340106, 0.013004757, 0.014600998, 0.013044518, 0.014714735, 0.013675763, 0.017906556, 0.013764574, 0.01208588, 0.013943975, 0.013785178, 0.013103319, 0.018914925, 0.017033782, 0.020069785, 0.015576499, 0.01220604, 0.010349708, 0.012298889, 0.013251492, 0.01183113, 0.012463693, 0.01175641, 0.017427953, 0.014483133, 0.011526917, 0.013623805, 0.01127115, 0.0132180955, 0.012336305, 0.012934983, 0.0106851095, 0.010853582, 0.010529542, 0.014694235, 0.011078143, 0.013429779, 0.01319524, 0.016757347, 0.014239012, 0.017396953, 0.012080312, 0.011830866, 0.010974222, 0.013160589, 0.0140274465, 0.012424368, 0.010890719, 0.019067895, 0.012416033, 0.012349003, 0.013113395, 0.013468349, 0.011450082, 0.012054466, 0.01188077, 0.011651424, 0.01872216, 0.014235008, 0.0125901345, 0.013434827, 0.013283603, 0.011009472, 0.06654444, 0.014685464, 0.015771132, 0.010671684, 0.011553597, 0.011342832, 0.012496388, 0.0151831545, 0.014162524, 0.014550595, 0.011715793, 0.015718652, 0.012631625, 0.01417176, 0.013011919, 0.012560394, 0.013897157, 0.013961526, 0.012605188]\n",
      "2022-02-14 21:56:59,526 : INFO : merging changes from 1204 documents into a model of 3204 documents\n",
      "2022-02-14 21:56:59,534 : INFO : topic #35 (0.010): 0.186*\",\" + 0.142*\"-\" + 0.106*\"element\" + 0.043*\"reduct\" + 0.042*\"dimension\" + 0.034*\"rotat\" + 0.024*\"construct\" + 0.019*\"maximum\" + 0.018*\"ration\" + 0.016*\"perform\"\n",
      "2022-02-14 21:56:59,535 : INFO : topic #51 (0.011): 0.162*\"display\" + 0.087*\"charact\" + 0.084*\"imag\" + 0.081*\"comput\" + 0.062*\",\" + 0.059*\"requir\" + 0.029*\"line\" + 0.028*\"convers\" + 0.026*\"interact\" + 0.025*\"draw\"\n",
      "2022-02-14 21:56:59,536 : INFO : topic #66 (0.019): 0.356*\"[\" + 0.218*\"algorithm\" + 0.204*\"(\" + 0.168*\"])\" + 0.021*\"-\" + 0.020*\"s14\" + 0.001*\"examin\" + 0.000*\"probabl\" + 0.000*\"test\" + 0.000*\"schedul\"\n",
      "2022-02-14 21:56:59,537 : INFO : topic #32 (0.020): 0.215*\"problem\" + 0.132*\"solut\" + 0.075*\"-\" + 0.060*\"approxim\" + 0.052*\",\" + 0.042*\"linear\" + 0.036*\"numer\" + 0.032*\"method\" + 0.031*\"preced\" + 0.019*\"comput\"\n",
      "2022-02-14 21:56:59,538 : INFO : topic #81 (0.067): 0.387*\"(\" + 0.353*\")\" + 0.215*\"algorithm\" + 0.014*\"integr\" + 0.011*\"order\" + 0.007*\"exponenti\" + 0.003*\"lexicograph\" + 0.003*\"chebyshev\" + 0.002*\"-\" + 0.001*\"definit\"\n",
      "2022-02-14 21:56:59,539 : INFO : topic diff=0.167916, rho=0.220316\n",
      "2022-02-14 21:56:59,553 : INFO : PROGRESS: pass 19, at document #2000/3204\n",
      "2022-02-14 21:57:00,310 : INFO : optimized alpha [0.012915195, 0.0138131175, 0.014388964, 0.012143339, 0.01274202, 0.011076722, 0.011396517, 0.012597088, 0.013092015, 0.011370621, 0.01305867, 0.013972978, 0.013185183, 0.016850168, 0.0131786065, 0.013356806, 0.012648972, 0.013216778, 0.014348632, 0.013081664, 0.014802104, 0.013030535, 0.01466589, 0.013780808, 0.018067924, 0.013928739, 0.012113118, 0.013925225, 0.013923538, 0.013230821, 0.019171363, 0.017284276, 0.020297667, 0.015717553, 0.012240957, 0.010372163, 0.012409556, 0.0132903755, 0.011865277, 0.012474991, 0.0117645245, 0.017397571, 0.014600318, 0.011582231, 0.013686941, 0.011287151, 0.013280307, 0.01234667, 0.012954303, 0.010701522, 0.010885339, 0.010568372, 0.014689032, 0.011092381, 0.013517843, 0.013247622, 0.017019251, 0.014324815, 0.01761964, 0.012075953, 0.011880373, 0.010964417, 0.013203412, 0.014019032, 0.012468005, 0.01090839, 0.019431598, 0.012465829, 0.012435415, 0.013169131, 0.01348454, 0.011457238, 0.012094499, 0.011887672, 0.011724463, 0.018863445, 0.014273792, 0.012616738, 0.013477827, 0.013342641, 0.0110178655, 0.06853821, 0.014760188, 0.01584385, 0.010686234, 0.01156822, 0.011340726, 0.012604019, 0.01522352, 0.014255352, 0.014557688, 0.011738037, 0.01586386, 0.012692371, 0.014196114, 0.01306308, 0.012585566, 0.0140061155, 0.013997218, 0.012619652]\n",
      "2022-02-14 21:57:00,317 : INFO : merging changes from 2000 documents into a model of 3204 documents\n",
      "2022-02-14 21:57:00,324 : INFO : topic #35 (0.010): 0.183*\",\" + 0.143*\"-\" + 0.108*\"element\" + 0.045*\"dimension\" + 0.041*\"reduct\" + 0.033*\"rotat\" + 0.023*\"construct\" + 0.019*\"maximum\" + 0.017*\"perform\" + 0.017*\"ration\"\n",
      "2022-02-14 21:57:00,327 : INFO : topic #51 (0.011): 0.159*\"display\" + 0.094*\"charact\" + 0.082*\"comput\" + 0.076*\"imag\" + 0.062*\",\" + 0.056*\"requir\" + 0.027*\"line\" + 0.026*\"convers\" + 0.025*\"interact\" + 0.022*\"draw\"\n",
      "2022-02-14 21:57:00,328 : INFO : topic #66 (0.019): 0.328*\"[\" + 0.220*\"algorithm\" + 0.211*\"(\" + 0.189*\"])\" + 0.021*\"-\" + 0.020*\"s14\" + 0.002*\"examin\" + 0.000*\"probabl\" + 0.000*\"test\" + 0.000*\"schedul\"\n",
      "2022-02-14 21:57:00,329 : INFO : topic #32 (0.020): 0.208*\"problem\" + 0.131*\"solut\" + 0.075*\"-\" + 0.062*\"approxim\" + 0.052*\",\" + 0.041*\"numer\" + 0.040*\"linear\" + 0.033*\"method\" + 0.028*\"preced\" + 0.019*\"comput\"\n",
      "2022-02-14 21:57:00,332 : INFO : topic #81 (0.069): 0.383*\"(\" + 0.351*\")\" + 0.219*\"algorithm\" + 0.015*\"integr\" + 0.011*\"order\" + 0.007*\"exponenti\" + 0.004*\"lexicograph\" + 0.003*\"chebyshev\" + 0.002*\"-\" + 0.001*\"definit\"\n",
      "2022-02-14 21:57:00,334 : INFO : topic diff=0.152907, rho=0.215156\n",
      "2022-02-14 21:57:01,223 : INFO : -6.415 per-word bound, 85.3 perplexity estimate based on a held-out corpus of 1204 documents with 49783 words\n",
      "2022-02-14 21:57:01,224 : INFO : PROGRESS: pass 19, at document #3204/3204\n",
      "2022-02-14 21:57:01,835 : INFO : optimized alpha [0.013036783, 0.013870984, 0.014533573, 0.012264933, 0.012918531, 0.011131192, 0.011486166, 0.012706621, 0.013250534, 0.011424274, 0.013181442, 0.0140699325, 0.013306936, 0.017091902, 0.013376887, 0.013502385, 0.0127474265, 0.013260721, 0.014576261, 0.013152018, 0.014872829, 0.013185222, 0.014876679, 0.01396161, 0.018425632, 0.013968692, 0.012227329, 0.014140856, 0.014002142, 0.013311475, 0.019645898, 0.017530387, 0.020703143, 0.015917143, 0.01234264, 0.010436377, 0.012494623, 0.013393853, 0.01194387, 0.0126190055, 0.011878052, 0.017757107, 0.014755146, 0.011650686, 0.013828235, 0.011351722, 0.013446276, 0.012471597, 0.013082451, 0.0107670985, 0.010961428, 0.010611372, 0.014941637, 0.011138407, 0.0136254225, 0.013429221, 0.01704995, 0.014566539, 0.017844621, 0.012184048, 0.011941666, 0.011069724, 0.013331353, 0.01422934, 0.012576026, 0.0109815635, 0.019517906, 0.012563641, 0.012551694, 0.013338013, 0.013706503, 0.011543757, 0.012163538, 0.011985635, 0.011768017, 0.019212373, 0.014464501, 0.012748779, 0.0136535335, 0.013457291, 0.011089931, 0.06987882, 0.014931255, 0.016050214, 0.010748717, 0.011638785, 0.011426871, 0.012716859, 0.015414137, 0.01439697, 0.01477405, 0.011817639, 0.016104305, 0.01277464, 0.014410932, 0.013238242, 0.012689915, 0.014097273, 0.014166123, 0.012745177]\n",
      "2022-02-14 21:57:01,841 : INFO : merging changes from 1204 documents into a model of 3204 documents\n",
      "2022-02-14 21:57:01,849 : INFO : topic #35 (0.010): 0.187*\",\" + 0.144*\"-\" + 0.106*\"element\" + 0.043*\"reduct\" + 0.043*\"dimension\" + 0.034*\"rotat\" + 0.024*\"construct\" + 0.020*\"maximum\" + 0.018*\"ration\" + 0.017*\"perform\"\n",
      "2022-02-14 21:57:01,849 : INFO : topic #51 (0.011): 0.162*\"display\" + 0.090*\"charact\" + 0.084*\"imag\" + 0.081*\"comput\" + 0.063*\",\" + 0.059*\"requir\" + 0.030*\"line\" + 0.027*\"convers\" + 0.026*\"interact\" + 0.025*\"draw\"\n",
      "2022-02-14 21:57:01,851 : INFO : topic #30 (0.020): 0.489*\"method\" + 0.074*\"key\" + 0.029*\",\" + 0.026*\"present\" + 0.026*\"effici\" + 0.024*\"applic\" + 0.024*\"requir\" + 0.020*\"propos\" + 0.018*\"compar\" + 0.016*\"discuss\"\n",
      "2022-02-14 21:57:01,852 : INFO : topic #32 (0.021): 0.217*\"problem\" + 0.132*\"solut\" + 0.075*\"-\" + 0.060*\"approxim\" + 0.052*\",\" + 0.042*\"linear\" + 0.036*\"numer\" + 0.031*\"method\" + 0.031*\"preced\" + 0.019*\"comput\"\n",
      "2022-02-14 21:57:01,854 : INFO : topic #81 (0.070): 0.388*\"(\" + 0.352*\")\" + 0.215*\"algorithm\" + 0.014*\"integr\" + 0.011*\"order\" + 0.007*\"exponenti\" + 0.003*\"lexicograph\" + 0.003*\"chebyshev\" + 0.002*\"-\" + 0.001*\"definit\"\n",
      "2022-02-14 21:57:01,855 : INFO : topic diff=0.157156, rho=0.215156\n"
     ]
    },
    {
     "data": {
      "text/plain": [
       "[(0, 0.0054001855),\n",
       " (1, 0.005745734),\n",
       " (2, 0.006020196),\n",
       " (3, 0.0050804648),\n",
       " (4, 0.005351202),\n",
       " (5, 0.0046108384),\n",
       " (6, 0.0047578784),\n",
       " (7, 0.0052634235),\n",
       " (8, 0.0054887272),\n",
       " (9, 0.004732241),\n",
       " (10, 0.0054601072),\n",
       " (11, 0.0058281436),\n",
       " (12, 0.00551209),\n",
       " (13, 0.0070799245),\n",
       " (14, 0.0055410657),\n",
       " (15, 0.0055930503),\n",
       " (16, 0.005280326),\n",
       " (17, 0.0054929466),\n",
       " (18, 0.0060378783),\n",
       " (19, 0.005447919),\n",
       " (20, 0.0061607254),\n",
       " (21, 0.005461673),\n",
       " (22, 0.00616232),\n",
       " (23, 0.005783274),\n",
       " (24, 0.0076323915),\n",
       " (25, 0.005786207),\n",
       " (26, 0.005064888),\n",
       " (27, 0.005857522),\n",
       " (28, 0.005800063),\n",
       " (29, 0.0055139703),\n",
       " (30, 0.0081378585),\n",
       " (31, 0.007261557),\n",
       " (32, 0.008575797),\n",
       " (33, 0.006593308),\n",
       " (34, 0.0051126527),\n",
       " (35, 0.004323027),\n",
       " (36, 0.005175608),\n",
       " (37, 0.0055480935),\n",
       " (38, 0.0049474714),\n",
       " (39, 0.005227131),\n",
       " (40, 0.004920208),\n",
       " (41, 0.00735547),\n",
       " (42, 0.006111977),\n",
       " (43, 0.004826027),\n",
       " (44, 0.005728026),\n",
       " (45, 0.004702188),\n",
       " (46, 0.0055698087),\n",
       " (47, 0.00516607),\n",
       " (48, 0.0054191025),\n",
       " (49, 0.0044600214),\n",
       " (50, 0.004540518),\n",
       " (51, 0.004395515),\n",
       " (52, 0.006189227),\n",
       " (53, 0.004613827),\n",
       " (54, 0.0056440155),\n",
       " (55, 0.0055627436),\n",
       " (56, 0.007062547),\n",
       " (57, 0.0060338513),\n",
       " (58, 0.007391721),\n",
       " (59, 0.00504696),\n",
       " (60, 0.0049465583),\n",
       " (61, 0.004585377),\n",
       " (62, 0.005522204),\n",
       " (63, 0.0058941743),\n",
       " (64, 0.0052093277),\n",
       " (65, 0.0045488584),\n",
       " (66, 0.00808484),\n",
       " (67, 0.0052041975),\n",
       " (68, 0.0051992484),\n",
       " (69, 0.0055249627),\n",
       " (70, 0.005677602),\n",
       " (71, 0.004781734),\n",
       " (72, 0.0050384635),\n",
       " (73, 0.41918772),\n",
       " (74, 0.0048746285),\n",
       " (75, 0.007958281),\n",
       " (76, 0.0059915846),\n",
       " (77, 0.0052808863),\n",
       " (78, 0.0056556603),\n",
       " (79, 0.005574371),\n",
       " (80, 0.004593747),\n",
       " (81, 0.02894568),\n",
       " (82, 0.0061849267),\n",
       " (83, 0.006648429),\n",
       " (84, 0.004452407),\n",
       " (85, 0.004821097),\n",
       " (86, 0.0047333166),\n",
       " (87, 0.0052676643),\n",
       " (88, 0.0063849497),\n",
       " (89, 0.0059636114),\n",
       " (90, 0.0061198077),\n",
       " (91, 0.0048951833),\n",
       " (92, 0.0066708354),\n",
       " (93, 0.005291599),\n",
       " (94, 0.0059693945),\n",
       " (95, 0.0054836352),\n",
       " (96, 0.0052565034),\n",
       " (97, 0.005839469),\n",
       " (98, 0.0058679883),\n",
       " (99, 0.0052793943)]"
      ]
     },
     "execution_count": 62,
     "metadata": {},
     "output_type": "execute_result"
    }
   ],
   "source": [
    "##### Function check\n",
    "lda = LdaRetrievalModel(doc_repr_2)\n",
    "lda.train_model()\n",
    "\n",
    "# you can now get an LDA vector for a given query in the following way:\n",
    "lda.vectorize_query(\"report\")\n",
    "##### "
   ]
  },
  {
   "cell_type": "markdown",
   "metadata": {
    "deletable": false,
    "editable": false,
    "nbgrader": {
     "cell_type": "markdown",
     "checksum": "32d83b6ea79ca3ddb789a7f8805a1b25",
     "grade": false,
     "grade_id": "cell-0e24b727d5908c0e",
     "locked": true,
     "points": 5,
     "schema_version": 3,
     "solution": false,
     "task": true
    }
   },
   "source": [
    "\\#### Please do not change this. This cell is used for grading."
   ]
  },
  {
   "cell_type": "markdown",
   "metadata": {
    "deletable": false,
    "editable": false,
    "nbgrader": {
     "cell_type": "markdown",
     "checksum": "114a934f0b9ce696e6cf09d3b8da6a3d",
     "grade": false,
     "grade_id": "cell-b1bffcb970b18aeb",
     "locked": true,
     "schema_version": 3,
     "solution": false,
     "task": false
    }
   },
   "source": [
    "---\n",
    "Now we can use the `DenseRetrievalModel` class to obtain an LDA search function.\n",
    "You can test your LDA model in the following cell: Try finding queries which are lexically different to documents, but semantically similar - does LDA work well for these queries?!"
   ]
  },
  {
   "cell_type": "code",
   "execution_count": 63,
   "metadata": {},
   "outputs": [
    {
     "data": {
      "application/vnd.jupyter.widget-view+json": {
       "model_id": "9417fb2efdbc48cfa8d3ad4142871cd8",
       "version_major": 2,
       "version_minor": 0
      },
      "text/plain": [
       "Text(value='', description='Search Bar')"
      ]
     },
     "metadata": {},
     "output_type": "display_data"
    },
    {
     "ename": "NameError",
     "evalue": "name 'handle_submit_2' is not defined",
     "output_type": "error",
     "traceback": [
      "\u001b[0;31m---------------------------------------------------------------------------\u001b[0m",
      "\u001b[0;31mNameError\u001b[0m                                 Traceback (most recent call last)",
      "\u001b[0;32m<ipython-input-63-be086182ffe9>\u001b[0m in \u001b[0;36m<module>\u001b[0;34m\u001b[0m\n\u001b[1;32m      8\u001b[0m \u001b[0;34m\u001b[0m\u001b[0m\n\u001b[1;32m      9\u001b[0m \u001b[0;34m\u001b[0m\u001b[0m\n\u001b[0;32m---> 10\u001b[0;31m \u001b[0mtext\u001b[0m\u001b[0;34m.\u001b[0m\u001b[0mon_submit\u001b[0m\u001b[0;34m(\u001b[0m\u001b[0mhandle_submit_2\u001b[0m\u001b[0;34m)\u001b[0m\u001b[0;34m\u001b[0m\u001b[0m\n\u001b[0m",
      "\u001b[0;31mNameError\u001b[0m: name 'handle_submit_2' is not defined"
     ]
    }
   ],
   "source": [
    "drm_lda = DenseRetrievalRanker(lda, jenson_shannon_sim)\n",
    "\n",
    "# test your LDA model\n",
    "search_fn = drm_lda.search\n",
    "\n",
    "text = widgets.Text(description=\"Search Bar\", width=200)\n",
    "display(text)\n",
    "\n",
    "\n",
    "text.on_submit(handle_submit_2)"
   ]
  },
  {
   "cell_type": "markdown",
   "metadata": {
    "deletable": false,
    "editable": false,
    "nbgrader": {
     "cell_type": "markdown",
     "checksum": "9d7f15863b655119b45f4d89354e5661",
     "grade": false,
     "grade_id": "cell-190cd0854b2791cc",
     "locked": true,
     "schema_version": 3,
     "solution": false,
     "task": false
    }
   },
   "source": [
    "## Section 8: Word2Vec/Doc2Vec (20 points) <a class=\"anchor\" id=\"2vec\"></a>\n",
    "\n",
    "[Back to Part 2](#part2)\n",
    "\n",
    "We will implement two other methods here, the Word2Vec model and the Doc2Vec model, also using `gensim`. Word2Vec creates representations of words, not documents, so the word level vectors need to be aggregated to obtain a representation for the document. Here, we will simply take the mean of the vectors. \n",
    "\n",
    "\n",
    "A drawback of these models is that they need a lot of training data. Our dataset is tiny, so in addition to using a model trained on the data, we will also use a pre-trained model for Word2Vec (this will be automatically downloaded).     \n",
    "\n",
    "*Note*:\n",
    "1. The code in vectorize_documents / vectorize_query should return gensim-like vectors i.e `[(dim, val), .. (dim, val)]`. \n",
    "2. For Word2Vec: You should also handle the following two cases: (a) A word in the query is not present in the vocabulary of the model and (b) none of the words in the query are present in the model - you can return 0 scores for all documents in this case. For either of these, you can check if a `word` is present in the vocab by using `word in self.model`\n"
   ]
  },
  {
   "cell_type": "code",
   "execution_count": null,
   "metadata": {
    "deletable": false,
    "nbgrader": {
     "cell_type": "code",
     "checksum": "83ab733608ed14c29c09b36b4e1b6daa",
     "grade": false,
     "grade_id": "cell-2b73759f9baf688f",
     "locked": false,
     "schema_version": 3,
     "solution": true,
     "task": false
    }
   },
   "outputs": [],
   "source": [
    "# TODO: Implement this! (10 points)\n",
    "class W2VRetrievalModel(VectorSpaceRetrievalModel):\n",
    "    def __init__(self, doc_repr):\n",
    "        super().__init__(doc_repr)\n",
    "        \n",
    "        # the dimensionality of the vectors\n",
    "        self.size = 100 \n",
    "        self.min_count = 1\n",
    "    \n",
    "    def train_model(self):\n",
    "        \"\"\"\n",
    "        Trains the W2V model\n",
    "        \"\"\"\n",
    "        # YOUR CODE HERE\n",
    "        raise NotImplementedError()\n",
    "        \n",
    "    def vectorize_documents(self):\n",
    "        \"\"\"\n",
    "            Returns a doc_id -> vector dictionary\n",
    "        \"\"\"\n",
    "        # YOUR CODE HERE\n",
    "        raise NotImplementedError()\n",
    "\n",
    "    def vectorize_query(self, query):\n",
    "        \"\"\"\n",
    "        Vectorizes the query using the W2V model\n",
    "        \"\"\"\n",
    "        query = process_text(query, **config_2)\n",
    "        # YOUR CODE HERE\n",
    "        raise NotImplementedError()\n",
    "    \n",
    "    \n",
    "class W2VPretrainedRetrievalModel(W2VRetrievalModel):\n",
    "    def __init__(self, doc_repr):\n",
    "        super().__init__(doc_repr)\n",
    "        self.model_name = \"word2vec-google-news-300\"\n",
    "        self.size = 300\n",
    "    \n",
    "    def train_model(self):\n",
    "        \"\"\"\n",
    "        Loads the pretrained model\n",
    "        \"\"\"\n",
    "        self.model = g_downloader.load(self.model_name)\n",
    "\n",
    "w2v = W2VRetrievalModel(doc_repr_2)\n",
    "w2v.train_model()\n",
    "\n",
    "# you can now get a W2V vector for a given query in the following way:\n",
    "w2v.vectorize_query(\"report\")"
   ]
  },
  {
   "cell_type": "code",
   "execution_count": null,
   "metadata": {
    "deletable": false,
    "editable": false,
    "nbgrader": {
     "cell_type": "code",
     "checksum": "f92b5c5a8c6c4b80652b94223209ab0b",
     "grade": true,
     "grade_id": "cell-b31c0f8d214b8bdf",
     "locked": true,
     "points": 0,
     "schema_version": 3,
     "solution": false,
     "task": false
    }
   },
   "outputs": [],
   "source": [
    "assert len(w2v.vectorize_query(\"report\")) == 100\n",
    "assert len(w2v.vectorize_query(\"this is a sentence that is not mellifluous\")) == 100\n"
   ]
  },
  {
   "cell_type": "markdown",
   "metadata": {
    "deletable": false,
    "editable": false,
    "nbgrader": {
     "cell_type": "markdown",
     "checksum": "8dfaabebcb06f308a7ca61fdc5d369e7",
     "grade": false,
     "grade_id": "cell-c2614fa067386384",
     "locked": true,
     "points": 8,
     "schema_version": 3,
     "solution": false,
     "task": true
    }
   },
   "source": [
    "\\#### Please do not change this. This cell is used for grading."
   ]
  },
  {
   "cell_type": "code",
   "execution_count": null,
   "metadata": {},
   "outputs": [],
   "source": [
    "w2v_pretrained = W2VPretrainedRetrievalModel(doc_repr_2)\n",
    "w2v_pretrained.train_model()\n",
    "\n",
    "# you can now get an W2V vector for a given query in the following way:\n",
    "w2v_pretrained.vectorize_query(\"report\")"
   ]
  },
  {
   "cell_type": "code",
   "execution_count": null,
   "metadata": {
    "deletable": false,
    "editable": false,
    "nbgrader": {
     "cell_type": "code",
     "checksum": "0822845afb5eafe5ddb1ffeaa4f4942a",
     "grade": true,
     "grade_id": "cell-1b1466f8ce516f42",
     "locked": true,
     "points": 2,
     "schema_version": 3,
     "solution": false,
     "task": false
    }
   },
   "outputs": [],
   "source": [
    "##### Function check\n",
    "\n",
    "print(len(w2v_pretrained.vectorize_query(\"report\")))\n",
    "#####"
   ]
  },
  {
   "cell_type": "code",
   "execution_count": null,
   "metadata": {},
   "outputs": [],
   "source": [
    "drm_w2v = DenseRetrievalRanker(w2v, cosine_sim)\n",
    "\n",
    "# test your LDA model\n",
    "search_fn = drm_w2v.search\n",
    "\n",
    "text = widgets.Text(description=\"Search Bar\", width=200)\n",
    "display(text)\n",
    "\n",
    "\n",
    "text.on_submit(handle_submit_2)"
   ]
  },
  {
   "cell_type": "code",
   "execution_count": null,
   "metadata": {},
   "outputs": [],
   "source": [
    "drm_w2v_pretrained = DenseRetrievalRanker(w2v_pretrained, cosine_sim)\n",
    "\n",
    "# test your LDA model\n",
    "search_fn = drm_w2v_pretrained.search\n",
    "\n",
    "text = widgets.Text(description=\"Search Bar\", width=200)\n",
    "display(text)\n",
    "\n",
    "\n",
    "text.on_submit(handle_submit_2)"
   ]
  },
  {
   "cell_type": "markdown",
   "metadata": {
    "deletable": false,
    "editable": false,
    "nbgrader": {
     "cell_type": "markdown",
     "checksum": "51b778984fd60757974f51047c61eb15",
     "grade": false,
     "grade_id": "cell-b92f701cbc706108",
     "locked": true,
     "schema_version": 3,
     "solution": false,
     "task": false
    }
   },
   "source": [
    "**Implementation (10 points):**\n",
    "For Doc2Vec, you will need to create a list of `TaggedDocument` instead of using the `self.corpus` or `self.documents` variable. Use the document id as the 'tag'.\n",
    "  "
   ]
  },
  {
   "cell_type": "code",
   "execution_count": null,
   "metadata": {
    "deletable": false,
    "nbgrader": {
     "cell_type": "code",
     "checksum": "1f60fdeb97febb7f4a6fd5bf109aac20",
     "grade": false,
     "grade_id": "cell-680facdcc98a19ab",
     "locked": false,
     "schema_version": 3,
     "solution": true,
     "task": false
    }
   },
   "outputs": [],
   "source": [
    "# TODO: Implement this! (10 points)\n",
    "class D2VRetrievalModel(VectorSpaceRetrievalModel):\n",
    "    def __init__(self, doc_repr):\n",
    "        super().__init__(doc_repr)\n",
    "        \n",
    "        self.vector_size= 100\n",
    "        self.min_count = 1\n",
    "        self.epochs = 20\n",
    "        \n",
    "        # YOUR CODE HERE\n",
    "        raise NotImplementedError()\n",
    "        \n",
    "    def train_model(self):\n",
    "        # YOUR CODE HERE\n",
    "        raise NotImplementedError()\n",
    "    \n",
    "    def vectorize_documents(self):\n",
    "        \"\"\"\n",
    "            Returns a doc_id -> vector dictionary\n",
    "        \"\"\"\n",
    "        # YOUR CODE HERE\n",
    "        raise NotImplementedError()\n",
    "\n",
    "    def vectorize_query(self, query):\n",
    "        # YOUR CODE HERE\n",
    "        raise NotImplementedError()\n",
    "        \n",
    "d2v = D2VRetrievalModel(doc_repr_2)\n",
    "d2v.train_model()\n",
    "\n",
    "\n",
    "# # you can now get an LSI vector for a given query in the following way:\n",
    "d2v.vectorize_query(\"report\")"
   ]
  },
  {
   "cell_type": "code",
   "execution_count": null,
   "metadata": {
    "deletable": false,
    "editable": false,
    "nbgrader": {
     "cell_type": "code",
     "checksum": "e83a363a9d4f136efbdde1426a83925e",
     "grade": true,
     "grade_id": "cell-5e2c5e0c9a2e8cb5",
     "locked": true,
     "points": 0,
     "schema_version": 3,
     "solution": false,
     "task": false
    }
   },
   "outputs": [],
   "source": [
    "#### Please do not change this. This cell is used for grading."
   ]
  },
  {
   "cell_type": "markdown",
   "metadata": {
    "deletable": false,
    "editable": false,
    "nbgrader": {
     "cell_type": "markdown",
     "checksum": "5bb46bf6b9be1e0ca66f0b0bc6260ecb",
     "grade": false,
     "grade_id": "cell-8a49d414f798a595",
     "locked": true,
     "points": 10,
     "schema_version": 3,
     "solution": false,
     "task": true
    }
   },
   "source": [
    "\\#### Please do not change this. This cell is used for grading."
   ]
  },
  {
   "cell_type": "code",
   "execution_count": null,
   "metadata": {},
   "outputs": [],
   "source": [
    "drm_d2v = DenseRetrievalRanker(d2v, cosine_sim)\n",
    "\n",
    "# test your LDA model\n",
    "search_fn = drm_d2v.search\n",
    "\n",
    "text = widgets.Text(description=\"Search Bar\", width=200)\n",
    "display(text)\n",
    "\n",
    "\n",
    "text.on_submit(handle_submit_2)"
   ]
  },
  {
   "cell_type": "markdown",
   "metadata": {
    "deletable": false,
    "editable": false,
    "nbgrader": {
     "cell_type": "markdown",
     "checksum": "363ec36c1d03d9f9e1c2045a6e193c14",
     "grade": false,
     "grade_id": "cell-3529ae29eece7b97",
     "locked": true,
     "schema_version": 3,
     "solution": false,
     "task": false
    }
   },
   "source": [
    "---\n",
    "## Section 9: Re-ranking (10 points) <a class=\"anchor\" id=\"reranking\"></a>\n",
    "\n",
    "[Back to Part 2](#part2)\n",
    "\n",
    "To motivate the re-ranking perspective (i.e retrieve with lexical method + rerank with a semantic method), let's search using semantic methods and compare it to BM25's performance, along with their runtime:\n"
   ]
  },
  {
   "cell_type": "code",
   "execution_count": null,
   "metadata": {
    "deletable": false,
    "editable": false,
    "nbgrader": {
     "cell_type": "code",
     "checksum": "5755f70e3eb28abc65d14d80125338af",
     "grade": false,
     "grade_id": "cell-f8f43bf5ae383128",
     "locked": true,
     "schema_version": 3,
     "solution": false,
     "task": false
    }
   },
   "outputs": [],
   "source": [
    "query = \"algebraic functions\"\n",
    "print(\"BM25: \")\n",
    "%timeit bm25_search(query, 2)\n",
    "print(\"LSI: \")\n",
    "%timeit drm_lsi.search(query)\n",
    "print(\"LDA: \")\n",
    "%timeit drm_lda.search(query)\n",
    "print(\"W2V: \")\n",
    "%timeit drm_w2v.search(query)\n",
    "print(\"W2V(Pretrained): \")\n",
    "%timeit drm_w2v_pretrained.search(query)\n",
    "print(\"D2V:\")\n",
    "%timeit drm_d2v.search(query)"
   ]
  },
  {
   "cell_type": "markdown",
   "metadata": {
    "deletable": false,
    "editable": false,
    "nbgrader": {
     "cell_type": "markdown",
     "checksum": "ae398da0a8c23c95bcbb0023b7ec6f34",
     "grade": false,
     "grade_id": "cell-db5ff09f97841af7",
     "locked": true,
     "schema_version": 3,
     "solution": false,
     "task": false
    }
   },
   "source": [
    "---\n",
    "\n",
    "**Implementation (10 points):**\n",
    "Re-ranking involves retrieving a small set of documents using simple but fast methods like BM25 and then re-ranking them with the aid of semantic methods such as LDA or LSI. Implement the following class, which takes in an `initial_retrieval_fn` - the initial retrieval function and `vsrm` - an instance of the `VectorSpaceRetrievalModel` class (i.e LSI/LDA) as input. The search function should first retrieve an initial list of K documents, and then these documents are re-ranked using a semantic method. This not only makes retrieval faster, but semantic methods perform poorly when used in isolation, as you will find out."
   ]
  },
  {
   "cell_type": "code",
   "execution_count": null,
   "metadata": {
    "deletable": false,
    "nbgrader": {
     "cell_type": "code",
     "checksum": "63b6b05a676a2ae3f08d8bed1bc59428",
     "grade": false,
     "grade_id": "cell-5bf47600d1a0c507",
     "locked": false,
     "schema_version": 3,
     "solution": true,
     "task": false
    }
   },
   "outputs": [],
   "source": [
    "# TODO: Implement this! (10 points)\n",
    "class DenseRerankingModel:\n",
    "    def __init__(self, initial_retrieval_fn, vsrm, similarity_fn):\n",
    "        \"\"\"\n",
    "            initial_retrieval_fn: takes in a query and returns a list of [(doc_id, score)] (sorted)\n",
    "            vsrm: instance of `VectorSpaceRetrievalModel`\n",
    "            similarity_fn: function instance that takes in two vectors \n",
    "                            and returns a similarity score e.g cosine_sim defined earlier\n",
    "        \"\"\"\n",
    "        self.ret = initial_retrieval_fn\n",
    "        self.vsrm = vsrm\n",
    "        self.similarity_fn = similarity_fn\n",
    "        self.vectorized_documents = vsrm.vectorize_documents()\n",
    "        \n",
    "        assert len(self.vectorized_documents) == len(doc_repr_2)\n",
    "    \n",
    "    def search(self, query, K=50):\n",
    "        \"\"\"\n",
    "            First, retrieve the top K results using the retrieval function\n",
    "            Then, re-rank the results using the VSRM instance\n",
    "        \"\"\"\n",
    "        # YOUR CODE HERE\n",
    "        raise NotImplementedError()"
   ]
  },
  {
   "cell_type": "code",
   "execution_count": null,
   "metadata": {
    "deletable": false,
    "editable": false,
    "nbgrader": {
     "cell_type": "code",
     "checksum": "334ab5af96976265cace682ab82a7387",
     "grade": true,
     "grade_id": "cell-52c6d18a4c0b4882",
     "locked": true,
     "points": 0,
     "schema_version": 3,
     "solution": false,
     "task": false
    }
   },
   "outputs": [],
   "source": [
    "##### Function check\n",
    "bm25_search_2 = partial(bm25_search, index_set=2)\n",
    "lsi_rerank = DenseRerankingModel(bm25_search_2, lsi, cosine_sim)\n",
    "lda_rerank = DenseRerankingModel(bm25_search_2, lda, jenson_shannon_sim)\n",
    "w2v_rerank = DenseRerankingModel(bm25_search_2, w2v, cosine_sim)\n",
    "w2v_pretrained_rerank = DenseRerankingModel(bm25_search_2, w2v_pretrained, cosine_sim)\n",
    "d2v_rerank = DenseRerankingModel(bm25_search_2, d2v, cosine_sim)\n",
    "\n",
    "##### "
   ]
  },
  {
   "cell_type": "markdown",
   "metadata": {
    "deletable": false,
    "editable": false,
    "nbgrader": {
     "cell_type": "markdown",
     "checksum": "bd904253f45f84e63bab3a69729058fc",
     "grade": false,
     "grade_id": "cell-93215dfe6bcf7cff",
     "locked": true,
     "points": 10,
     "schema_version": 3,
     "solution": false,
     "task": true
    }
   },
   "source": [
    "\\#### Please do not change this. This cell is used for grading."
   ]
  },
  {
   "cell_type": "markdown",
   "metadata": {
    "deletable": false,
    "editable": false,
    "nbgrader": {
     "cell_type": "markdown",
     "checksum": "b592e60292bfe3d9ef2930a354c4077a",
     "grade": false,
     "grade_id": "cell-aa694ff55fa91e7d",
     "locked": true,
     "schema_version": 3,
     "solution": false,
     "task": false
    }
   },
   "source": [
    "---\n",
    "Now, let us time the new search functions:"
   ]
  },
  {
   "cell_type": "code",
   "execution_count": null,
   "metadata": {
    "deletable": false,
    "editable": false,
    "nbgrader": {
     "cell_type": "code",
     "checksum": "338c7e3528cba266a865a061287c0e38",
     "grade": false,
     "grade_id": "cell-5edbd481562ad91f",
     "locked": true,
     "schema_version": 3,
     "solution": false,
     "task": false
    }
   },
   "outputs": [],
   "source": [
    "query = \"algebraic functions\"\n",
    "print(\"BM25: \")\n",
    "%timeit bm25_search(query, 2)\n",
    "print(\"LSI: \")\n",
    "%timeit lsi_rerank.search(query)\n",
    "print(\"LDA: \")\n",
    "%timeit lda_rerank.search(query)\n",
    "print(\"W2V: \")\n",
    "%timeit w2v_rerank.search(query)\n",
    "print(\"W2V(Pretrained): \")\n",
    "%timeit w2v_pretrained_rerank.search(query)\n",
    "print(\"D2V:\")\n",
    "%timeit d2v_rerank.search(query)"
   ]
  },
  {
   "cell_type": "markdown",
   "metadata": {
    "deletable": false,
    "editable": false,
    "nbgrader": {
     "cell_type": "markdown",
     "checksum": "c45c5e3f015b2de89d9d39ae3766368b",
     "grade": false,
     "grade_id": "cell-85c50f2ab9eec301",
     "locked": true,
     "schema_version": 3,
     "solution": false,
     "task": false
    }
   },
   "source": [
    "---\n",
    "As you can see, it is much faster (but BM25 is still orders of magnitude faster)."
   ]
  },
  {
   "cell_type": "markdown",
   "metadata": {
    "deletable": false,
    "editable": false,
    "nbgrader": {
     "cell_type": "markdown",
     "checksum": "1e2f3388e3807659f303fe31a75a010e",
     "grade": false,
     "grade_id": "cell-5071bb99b2af61cb",
     "locked": true,
     "schema_version": 3,
     "solution": false,
     "task": false
    }
   },
   "source": [
    "---\n",
    "## Section 10: Evaluation & Analysis (30 points) <a class=\"anchor\" id=\"reranking_eval\"></a>\n",
    "\n",
    "[Back to Part 2](#part2)\n",
    "\n",
    "[Previously](#evaluation) we have implemented some evaluation metrics and used them for measuring the ranking performance of term-based IR algorithms. In this section, we will do the same for semantic methods, both with and without re-ranking.\n",
    "\n",
    "### Section 10.1: Plot (10 points)\n",
    "\n",
    "First, gather the results. The results should consider the index set, the different search functions and different metrics. Plot the results in bar charts, per metric, with clear labels.\n",
    "\n",
    "Then, gather only the re-ranking models, and plot and compare them with the results obtained in part 1 (only index set 2)."
   ]
  },
  {
   "cell_type": "code",
   "execution_count": null,
   "metadata": {
    "deletable": false,
    "editable": false,
    "nbgrader": {
     "cell_type": "code",
     "checksum": "4fe81520ac6413a803838913fd64de03",
     "grade": false,
     "grade_id": "cell-b672fe6dfae0b1ce",
     "locked": true,
     "schema_version": 3,
     "solution": false,
     "task": false
    }
   },
   "outputs": [],
   "source": [
    "list_of_sem_search_fns = [\n",
    "    (\"lda\", drm_lda.search),\n",
    "    (\"lsi\", drm_lsi.search),\n",
    "    (\"w2v\", drm_w2v.search),\n",
    "    (\"w2v_pretrained\", drm_w2v_pretrained.search),\n",
    "    (\"d2v\", drm_d2v.search),\n",
    "    (\"lsi_rr\", lsi_rerank.search),\n",
    "    (\"lda_rr\", lda_rerank.search),\n",
    "    (\"w2v_rr\", w2v_rerank.search),\n",
    "    (\"w2v_pretrained_rr\", w2v_pretrained_rerank.search),\n",
    "    (\"d2v_rr\", d2v_rerank.search),\n",
    "    \n",
    "]"
   ]
  },
  {
   "cell_type": "code",
   "execution_count": null,
   "metadata": {
    "deletable": false,
    "nbgrader": {
     "cell_type": "code",
     "checksum": "54707c4afac084299aeefa047259b4a9",
     "grade": true,
     "grade_id": "cell-7dd8273b0f5a3c22",
     "locked": false,
     "points": 10,
     "schema_version": 3,
     "solution": true,
     "task": false
    }
   },
   "outputs": [],
   "source": [
    "# YOUR CODE HERE\n",
    "raise NotImplementedError()"
   ]
  },
  {
   "cell_type": "markdown",
   "metadata": {
    "deletable": false,
    "editable": false,
    "nbgrader": {
     "cell_type": "markdown",
     "checksum": "a8a3b6189bdde66704c694d85e38d049",
     "grade": false,
     "grade_id": "cell-deb2ef3daa306e82",
     "locked": true,
     "schema_version": 3,
     "solution": false,
     "task": false
    }
   },
   "source": [
    "### Section 10.2: Summary (20 points)\n",
    "\n",
    "Your summary should compare methods from Part 1 and Part 2 (only for index set 2). State what you expected to see in the results, followed by either supporting evidence *or* justify why the results did not support your expectations. Consider the availability of data, scalability, domain/type of data, etc."
   ]
  },
  {
   "cell_type": "markdown",
   "metadata": {
    "deletable": false,
    "nbgrader": {
     "cell_type": "markdown",
     "checksum": "ff97c43837d10bff6aaffa75e1492887",
     "grade": true,
     "grade_id": "cell-ec5dd7d9cf59dd86",
     "locked": false,
     "points": 20,
     "schema_version": 3,
     "solution": true,
     "task": false
    }
   },
   "source": [
    "YOUR ANSWER HERE"
   ]
  }
 ],
 "metadata": {
  "kernelspec": {
   "display_name": "Python 3",
   "language": "python",
   "name": "python3"
  },
  "language_info": {
   "codemirror_mode": {
    "name": "ipython",
    "version": 3
   },
   "file_extension": ".py",
   "mimetype": "text/x-python",
   "name": "python",
   "nbconvert_exporter": "python",
   "pygments_lexer": "ipython3",
   "version": "3.6.5"
  },
  "toc": {
   "base_numbering": 1,
   "nav_menu": {},
   "number_sections": true,
   "sideBar": true,
   "skip_h1_title": false,
   "title_cell": "Table of Contents",
   "title_sidebar": "Contents",
   "toc_cell": false,
   "toc_position": {},
   "toc_section_display": true,
   "toc_window_display": false
  },
  "toc-autonumbering": false
 },
 "nbformat": 4,
 "nbformat_minor": 4
}
