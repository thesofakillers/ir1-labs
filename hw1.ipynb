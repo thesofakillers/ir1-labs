{
 "cells": [
  {
   "cell_type": "markdown",
   "metadata": {
    "deletable": false,
    "editable": false,
    "nbgrader": {
     "cell_type": "markdown",
     "checksum": "1bba455de8bc2825ca70469169bbadaa",
     "grade": false,
     "grade_id": "cell-c9cd9e550239e812",
     "locked": true,
     "schema_version": 3,
     "solution": false,
     "task": false
    }
   },
   "source": [
    "# Homework 1 (Total Points: 250) <a class=\"anchor\" id=\"top\"></a>\n",
    "\n",
    "\n",
    "**Submission instructions**:\n",
    "- The cells with the `# YOUR CODE HERE` denote that these sections are graded and you need to add your implementation.\n",
    "- For Part 1: You can use the `nltk`, `NumPy`, and `matplotlib` libraries here. Other libraries, e.g., `gensim` or `scikit-learn`, may not be used. For Part 2: `gensim` is allowed in addition to the imported libraries in the next code cell\n",
    "- Please use Python 3.6.5 and `pip install -r requirements.txt` to avoid version issues.\n",
    "- The notebook you submit has to have the student ids, separated by underscores (E.g., `12341234_12341234_12341234_hw1.ipynb`).\n",
    "- This will be parsed by a regexp, **so please double check your filename**.\n",
    "- Only one member of each group has to submit the file (**please do not compress the .ipynb file when you will submit it**) to canvas.\n",
    "- **Make sure to check that your notebook runs before submission**. A quick way to do this is to restart the kernel and run all the cells.  \n",
    "- Do not change the number of arugments in the given functions.\n",
    "- **Please do not delete/add new cells**. Removing cells **will** lead to grade deduction. \n",
    "- Note, that you are not allowed to use Google Colab.\n",
    "\n",
    "\n",
    "**Learning Goals**:\n",
    "- [Part 1, Term-based matching](#part1) (165 points):\n",
    "    - Learn how to load a dataset and process it.\n",
    "    - Learn how to implement several standard IR methods (TF-IDF, BM25, QL) and understand their weaknesses & strengths.\n",
    "    - Learn how to evaluate IR methods.\n",
    "- [Part 2, Semantic-based matching](#part2) (85 points):\n",
    "    - Learn how to implement vector-space retrieval methods (LSI, LDA).\n",
    "    - Learn how to use LSI and LDA for re-ranking.\n",
    "\n",
    "    \n",
    "**Resources**: \n",
    "- **Part 1**: Sections 2.3, 4.1, 4.2, 4.3, 5.3, 5.6, 5.7, 6.2, 7, 8 of [Search Engines: Information Retrieval in Practice](https://ciir.cs.umass.edu/downloads/SEIRiP.pdf)\n",
    "- **Part 2**: [LSI - Chapter 18](https://nlp.stanford.edu/IR-book/pdf/18lsi.pdf) from [Introduction to Information Retrieval](https://nlp.stanford.edu/IR-book/) book and the [original LDA paper](https://jmlr.org/papers/volume3/blei03a/blei03a.pdf)"
   ]
  },
  {
   "cell_type": "code",
   "execution_count": 1,
   "metadata": {
    "deletable": false,
    "editable": false,
    "nbgrader": {
     "cell_type": "code",
     "checksum": "c55bfe94ff1f564dd595547e516c4c6e",
     "grade": false,
     "grade_id": "cell-f5357fabdb9660e3",
     "locked": true,
     "schema_version": 3,
     "solution": false,
     "task": false
    }
   },
   "outputs": [],
   "source": [
    "# imports \n",
    "# TODO: Ensure that no additional library is imported in the notebook. \n",
    "# TODO: Only the standard library and the following libraries are allowed:\n",
    "# TODO: You can also use unlisted classes from these libraries or standard libraries (such as defaultdict, Counter, ...).\n",
    "\n",
    "import os\n",
    "import zipfile\n",
    "from functools import partial\n",
    "\n",
    "import nltk\n",
    "import requests\n",
    "import numpy as np\n",
    "from tqdm import tqdm\n",
    "\n",
    "import matplotlib.pyplot as plt\n",
    "from matplotlib.pyplot import cm\n",
    "\n",
    "from ipywidgets import widgets\n",
    "from IPython.display import display, HTML\n",
    "#from IPython.html import widgets\n",
    "from collections import namedtuple\n",
    "\n",
    "%matplotlib inline"
   ]
  },
  {
   "cell_type": "markdown",
   "metadata": {
    "deletable": false,
    "editable": false,
    "nbgrader": {
     "cell_type": "markdown",
     "checksum": "c8328f758ca5b69f76eee03dbbdd4715",
     "grade": false,
     "grade_id": "cell-7428e12ed184408b",
     "locked": true,
     "schema_version": 3,
     "solution": false,
     "task": false
    }
   },
   "source": [
    "\n",
    "# Part 1: Term-based Matching (165 points) <a class=\"anchor\" id=\"part1\"></a>\n",
    "\n",
    "[Back to top](#top)\n",
    "\n",
    "In the first part, we will learn the basics of IR from loading and preprocessing the material, to implementing some well known search algorithms, to evaluating the ranking performance of the implemented algorithms. We will be using the CACM dataset throughout the assignment. The CACM dataset is a collection of titles and abstracts from the journal CACM (Communication of the ACM).\n",
    "\n",
    "Table of contents:\n",
    "- [Section 1: Text Processing](#text_processing) (5 points)\n",
    "- [Section 2: Indexing](#indexing) (10 points)\n",
    "- [Section 3: Ranking](#ranking) (80 points)\n",
    "- [Section 4: Evaluation](#evaluation) (40 points)\n",
    "- [Section 5: Analysis](#analysis) (30 points)\n"
   ]
  },
  {
   "cell_type": "markdown",
   "metadata": {
    "deletable": false,
    "editable": false,
    "nbgrader": {
     "cell_type": "markdown",
     "checksum": "4e3f938065183dc743aa8254b96b4f5e",
     "grade": false,
     "grade_id": "cell-4b24825cf4ae55ec",
     "locked": true,
     "schema_version": 3,
     "solution": false,
     "task": false
    }
   },
   "source": [
    "---\n",
    "## Section 1: Text Processing (5 points)<a class=\"anchor\" id=\"text_processing\"></a>\n",
    "\n",
    "[Back to Part 1](#part1)\n",
    "\n",
    "In this section, we will load the dataset and learn how to clean up the data to make it usable for an IR system. \n",
    "First, go through the implementation of the following functions:\n",
    "- `read_cacm_docs`: Reads in the CACM documents.\n",
    "- `read_queries`: Reads in the CACM queries.\n",
    "- `load_stopwords`: Loads the stopwords.\n",
    "\n",
    "The points of this section are earned for the following implementations:\n",
    "- `tokenize` (3 points): Tokenizes the input text.\n",
    "- `stem_token` (2 points): Stems the given token. \n",
    "\n",
    "We are using the [CACM dataset](http://ir.dcs.gla.ac.uk/resources/test_collections/cacm/), which is a small, classic IR dataset, composed of a collection of titles and abstracts from the journal CACM. It comes with relevance judgements for queries, so we can evaluate our IR system. \n"
   ]
  },
  {
   "cell_type": "markdown",
   "metadata": {
    "deletable": false,
    "editable": false,
    "nbgrader": {
     "cell_type": "markdown",
     "checksum": "0155d897c7016389d73d160921947a6f",
     "grade": false,
     "grade_id": "cell-45651364e7af6d5a",
     "locked": true,
     "schema_version": 3,
     "solution": false,
     "task": false
    }
   },
   "source": [
    "---\n",
    "### 1.1 Read the CACM documents\n",
    "\n",
    "\n",
    "The following cell downloads the dataset and unzips it to a local directory."
   ]
  },
  {
   "cell_type": "code",
   "execution_count": 2,
   "metadata": {
    "deletable": false,
    "editable": false,
    "nbgrader": {
     "cell_type": "code",
     "checksum": "4d43c9ad6e77cc01ce4cef0c34824930",
     "grade": false,
     "grade_id": "cell-bbc3030bb3fe7e02",
     "locked": true,
     "schema_version": 3,
     "solution": false,
     "task": false
    }
   },
   "outputs": [],
   "source": [
    "def download_dataset():\n",
    "    folder_path = os.environ.get(\"IR1_DATA_PATH\")\n",
    "    if not folder_path:\n",
    "        folder_path = \"./datasets/\"\n",
    "    os.makedirs(folder_path, exist_ok=True)\n",
    "    \n",
    "    file_location = os.path.join(folder_path, \"cacm.zip\")\n",
    "    \n",
    "    # download file if it doesn't exist\n",
    "    if not os.path.exists(file_location):\n",
    "        \n",
    "        url = \"https://surfdrive.surf.nl/files/index.php/s/M0FGJpX2p8wDwxR/download\"\n",
    "\n",
    "        with open(file_location, \"wb\") as handle:\n",
    "            print(f\"Downloading file from {url} to {file_location}\")\n",
    "            response = requests.get(url, stream=True)\n",
    "            for data in tqdm(response.iter_content()):\n",
    "                handle.write(data)\n",
    "            print(\"Finished downloading file\")\n",
    "    \n",
    "    if not os.path.exists(os.path.join(folder_path, \"train.txt\")):\n",
    "        \n",
    "        # unzip file\n",
    "        with zipfile.ZipFile(file_location, 'r') as zip_ref:\n",
    "            zip_ref.extractall(folder_path)\n",
    "        \n",
    "download_dataset()"
   ]
  },
  {
   "cell_type": "markdown",
   "metadata": {
    "deletable": false,
    "editable": false,
    "nbgrader": {
     "cell_type": "markdown",
     "checksum": "31609b0d61d0c74cbd69bc43e47c23be",
     "grade": false,
     "grade_id": "cell-a7dd9a9bf98ede05",
     "locked": true,
     "schema_version": 3,
     "solution": false,
     "task": false
    }
   },
   "source": [
    "---\n",
    "\n",
    "You can see a brief description of each file in the dataset by looking at the README file:"
   ]
  },
  {
   "cell_type": "code",
   "execution_count": 3,
   "metadata": {
    "deletable": false,
    "editable": false,
    "nbgrader": {
     "cell_type": "code",
     "checksum": "cb3c9a2b8b2bf4fd5b7446b0c4c00f43",
     "grade": false,
     "grade_id": "cell-9b6ff1a17124711f",
     "locked": true,
     "schema_version": 3,
     "solution": false,
     "task": false
    }
   },
   "outputs": [
    {
     "name": "stdout",
     "output_type": "stream",
     "text": [
      "Files in this directory with sizes:\n",
      "          0 Jun 19 21:01 README\n",
      "\n",
      "    2187734 Jun 19 20:55 cacm.all              text of documents\n",
      "        626 Jun 19 20:58 cite.info             key to citation info\n",
      "                                                (the X sections in cacm.all)\n",
      "       2668 Jun 19 20:55 common_words           stop words used by smart\n",
      "       2194 Jun 19 20:55 make_coll*             shell script to make collection\n",
      "       1557 Jun 19 20:55 make_coll_term*        ditto (both useless without\n",
      "                                                smart system)\n",
      "       9948 Jun 19 20:55 qrels.text             relation giving\n",
      "                                                    qid did 0 0\n",
      "                                                to indicate dument did is\n",
      "                                                relevant to query qid\n",
      "      13689 Jun 19 20:55 query.text             Original text of the query\n",
      "\n"
     ]
    }
   ],
   "source": [
    "##### Read the README file \n",
    "with open (\"./datasets/README\",\"r\") as file:\n",
    "    readme = file.read()\n",
    "    print(readme)\n",
    "#####"
   ]
  },
  {
   "cell_type": "markdown",
   "metadata": {
    "deletable": false,
    "editable": false,
    "nbgrader": {
     "cell_type": "markdown",
     "checksum": "6e2712c4c4632bf7486a532f7f18074d",
     "grade": false,
     "grade_id": "cell-73351431869fda76",
     "locked": true,
     "schema_version": 3,
     "solution": false,
     "task": false
    }
   },
   "source": [
    "---\n",
    "We are interested in 4 files:\n",
    "- `cacm.all` : Contains the text for all documents. Note that some documents do not have abstracts available\n",
    "- `query.text` : The text of all queries\n",
    "- `qrels.text` : The relevance judgements\n",
    "- `common_words` : A list of common words. This may be used as a collection of stopwords"
   ]
  },
  {
   "cell_type": "code",
   "execution_count": 4,
   "metadata": {
    "deletable": false,
    "editable": false,
    "nbgrader": {
     "cell_type": "code",
     "checksum": "f1162c15177eb4ffe466531d03cff4a2",
     "grade": false,
     "grade_id": "cell-b44dd14079f278ca",
     "locked": true,
     "schema_version": 3,
     "solution": false,
     "task": false
    }
   },
   "outputs": [
    {
     "name": "stdout",
     "output_type": "stream",
     "text": [
      ".I 1\n",
      ".T\n",
      "Preliminary Report-International Algebraic Language\n",
      ".B\n",
      "CACM December, 1958\n",
      ".A\n",
      "Perlis, A. J.\n",
      "Samelson,K.\n",
      ".N\n",
      "CA581203 JB March 22, 1978  8:28 PM\n",
      ".X\n",
      "100\t5\t1\n",
      "123\t5\t1\n",
      "164\t5\t1\n",
      "1\t5\t1\n",
      "1\t5\t1\n",
      "1\t5\t1\n",
      "205\t5\t1\n",
      "210\t5\t1\n",
      "214\t5\t1\n",
      "1982\t5\t1\n",
      "398\t5\t1\n",
      "642\t5\t1\n",
      "669\t5\t1\n",
      "1\t6\t1\n",
      "1\t6\t1\n",
      "1\t6\t1\n",
      "1\t6\t1\n",
      "1\t6\t1\n",
      "1\t6\t1\n",
      "1\t6\t1\n",
      "1\t6\t1\n",
      "1\t6\t1\n",
      "1\t6\t1\n",
      "165\t6\t1\n",
      "196\t6\t1\n",
      "196\t6\t1\n",
      "1273\t6\t1\n",
      "1883\t6\t1\n",
      "324\t6\t1\n",
      "43\t6\t1\n",
      "53\t6\t1\n",
      "91\t6\t1\n",
      "410\t6\t1\n",
      "3184\t6\t1\n",
      "\n"
     ]
    }
   ],
   "source": [
    "##### The first 45 lines of the CACM dataset forms the first record\n",
    "# We are interested only in 3 fields. \n",
    "# 1. the '.I' field, which is the document id\n",
    "# 2. the '.T' field (the title) and\n",
    "# 3. the '.W' field (the abstract, which may be absent)\n",
    "with open (\"./datasets/cacm.all\",\"r\") as file:\n",
    "    cacm_all = \"\".join(file.readlines()[:45])\n",
    "    print(cacm_all)\n",
    "#####"
   ]
  },
  {
   "cell_type": "markdown",
   "metadata": {
    "deletable": false,
    "editable": false,
    "nbgrader": {
     "cell_type": "markdown",
     "checksum": "250b413baccd8efb186bb46a34ae0060",
     "grade": false,
     "grade_id": "cell-c4bf2e263ec553d8",
     "locked": true,
     "schema_version": 3,
     "solution": false,
     "task": false
    }
   },
   "source": [
    "---\n",
    "\n",
    "The following function reads the `cacm.all` file. Note that each document has a variable number of lines. The `.I` field denotes a new document:"
   ]
  },
  {
   "cell_type": "code",
   "execution_count": 5,
   "metadata": {
    "deletable": false,
    "editable": false,
    "nbgrader": {
     "cell_type": "code",
     "checksum": "57d757e6a7a6938740dc899022b4f291",
     "grade": false,
     "grade_id": "cell-b736116eb419c624",
     "locked": true,
     "schema_version": 3,
     "solution": false,
     "task": false
    }
   },
   "outputs": [],
   "source": [
    "def read_cacm_docs(root_folder = \"./datasets/\"):\n",
    "    \"\"\"\n",
    "        Reads in the CACM documents. The dataset is assumed to be in the folder \"./datasets/\" by default\n",
    "        Returns: A list of 2-tuples: (doc_id, document), where 'document' is a single string created by \n",
    "            appending the title and abstract (separated by a \"\\n\"). \n",
    "            In case the record doesn't have an abstract, the document is composed only by the title\n",
    "    \"\"\"\n",
    "    with open(os.path.join(root_folder, \"cacm.all\")) as reader:\n",
    "        lines = reader.readlines()\n",
    "    \n",
    "    doc_id, title, abstract = None, None, None\n",
    "    \n",
    "    docs = []\n",
    "    line_idx = 0\n",
    "    while line_idx < len(lines):\n",
    "        line = lines[line_idx]\n",
    "        if line.startswith(\".I\"):\n",
    "            if doc_id is not None:\n",
    "                docs.append((doc_id, title, abstract))\n",
    "                doc_id, title, abstract = None, None, None\n",
    "            \n",
    "            doc_id = line.split()[-1]\n",
    "            line_idx += 1\n",
    "        elif line.startswith(\".T\"):\n",
    "            # start at next line\n",
    "            line_idx += 1\n",
    "            temp_lines = []\n",
    "            # read till next '.'\n",
    "            while not lines[line_idx].startswith(\".\"):\n",
    "                temp_lines.append(lines[line_idx].strip(\"\\n\"))\n",
    "                line_idx += 1\n",
    "            title = \"\\n\".join(temp_lines).strip(\"\\n\")\n",
    "        elif line.startswith(\".W\"):\n",
    "            # start at next line\n",
    "            line_idx += 1\n",
    "            temp_lines = []\n",
    "            # read till next '.'\n",
    "            while not lines[line_idx].startswith(\".\"):\n",
    "                temp_lines.append(lines[line_idx].strip(\"\\n\"))\n",
    "                line_idx += 1\n",
    "            abstract = \"\\n\".join(temp_lines).strip(\"\\n\")\n",
    "        else:\n",
    "            line_idx += 1\n",
    "    \n",
    "    docs.append((doc_id, title, abstract))\n",
    "    \n",
    "    p_docs = []\n",
    "    for (did, t, a) in docs:\n",
    "        if a is None:\n",
    "            a = \"\"\n",
    "        p_docs.append((did, t + \"\\n\" + a))\n",
    "    return p_docs\n"
   ]
  },
  {
   "cell_type": "code",
   "execution_count": 6,
   "metadata": {
    "deletable": false,
    "editable": false,
    "nbgrader": {
     "cell_type": "code",
     "checksum": "2f81930fcd89670b6e20e2255e1f2369",
     "grade": false,
     "grade_id": "cell-a1c43818e0d3fd79",
     "locked": true,
     "schema_version": 3,
     "solution": false,
     "task": false
    }
   },
   "outputs": [],
   "source": [
    "##### Function check\n",
    "docs = read_cacm_docs()\n",
    "\n",
    "assert isinstance(docs, list)\n",
    "assert len(docs) == 3204, \"There should be exactly 3204 documents\"\n",
    "\n",
    "unzipped_docs = list(zip(*docs))\n",
    "assert np.sum(np.array(list(map(int,unzipped_docs[0])))) == 5134410\n",
    "\n",
    "##### "
   ]
  },
  {
   "cell_type": "markdown",
   "metadata": {
    "deletable": false,
    "editable": false,
    "nbgrader": {
     "cell_type": "markdown",
     "checksum": "25fd3cfaf2137c56002b850699b3c9d3",
     "grade": false,
     "grade_id": "cell-5ed2ddc91f73c60e",
     "locked": true,
     "schema_version": 3,
     "solution": false,
     "task": false
    }
   },
   "source": [
    "---\n",
    "### 1.2 Read the CACM queries\n",
    "\n",
    "Next, let us read the queries. They are formatted similarly:"
   ]
  },
  {
   "cell_type": "code",
   "execution_count": 7,
   "metadata": {
    "deletable": false,
    "editable": false,
    "nbgrader": {
     "cell_type": "code",
     "checksum": "5d26c0908e758acb9968b84056b1060a",
     "grade": false,
     "grade_id": "cell-5c7e8e7c4fc2757f",
     "locked": true,
     "schema_version": 3,
     "solution": false,
     "task": false
    }
   },
   "outputs": [
    {
     "name": "stdout",
     "output_type": "stream",
     "text": [
      ".I 1\n",
      ".W\n",
      " What articles exist which deal with TSS (Time Sharing System), an\n",
      "operating system for IBM computers?\n",
      ".N\n",
      " 1. Richard Alexander, Comp Serv, Langmuir Lab (TSS)\n",
      " \n",
      ".I 2\n",
      ".W\n",
      " I am interested in articles written either by Prieve or Udo Pooch\n",
      ".A\n",
      "Prieve, B.\n",
      "Pooch, U.\n",
      ".N\n",
      " 2. Richard Alexander, Comp Serv, Langmuir Lab (author = Pooch or Prieve)\n"
     ]
    }
   ],
   "source": [
    "##### The first 15 lines of 'query.text' has 2 queries\n",
    "# We are interested only in 2 fields. \n",
    "# 1. the '.I' - the query id\n",
    "# 2. the '.W' - the query\n",
    "!head -15 ./datasets/query.text\n",
    "#####"
   ]
  },
  {
   "cell_type": "markdown",
   "metadata": {
    "deletable": false,
    "editable": false,
    "nbgrader": {
     "cell_type": "markdown",
     "checksum": "8f19f311a660f30e3f86cb0f7037d54a",
     "grade": false,
     "grade_id": "cell-88e293507d2dcef6",
     "locked": true,
     "schema_version": 3,
     "solution": false,
     "task": false
    }
   },
   "source": [
    "---\n",
    "\n",
    "The following function reads the `query.text` file:"
   ]
  },
  {
   "cell_type": "code",
   "execution_count": 8,
   "metadata": {
    "deletable": false,
    "editable": false,
    "nbgrader": {
     "cell_type": "code",
     "checksum": "e3fbb193211007672849487f5cff1664",
     "grade": false,
     "grade_id": "cell-433e3ad5d0e2572a",
     "locked": true,
     "schema_version": 3,
     "solution": false,
     "task": false
    }
   },
   "outputs": [],
   "source": [
    "def read_queries(root_folder = \"./datasets/\"):\n",
    "    \"\"\"\n",
    "        Reads in the CACM queries. The dataset is assumed to be in the folder \"./datasets/\" by default\n",
    "        Returns: A list of 2-tuples: (query_id, query)\n",
    "    \"\"\"\n",
    "    with open(os.path.join(root_folder, \"query.text\")) as reader:\n",
    "        lines = reader.readlines()\n",
    "    \n",
    "    query_id, query = None, None\n",
    "    \n",
    "    queries = []\n",
    "    line_idx = 0\n",
    "    while line_idx < len(lines):\n",
    "        line = lines[line_idx]\n",
    "        if line.startswith(\".I\"):\n",
    "            if query_id is not None:\n",
    "                queries.append((query_id, query))\n",
    "                query_id, query = None, None\n",
    "    \n",
    "            query_id = line.split()[-1]\n",
    "            line_idx += 1\n",
    "        elif line.startswith(\".W\"):\n",
    "            # start at next line\n",
    "            line_idx += 1\n",
    "            temp_lines = []\n",
    "            # read till next '.'\n",
    "            while not lines[line_idx].startswith(\".\"):\n",
    "                temp_lines.append(lines[line_idx].strip(\"\\n\"))\n",
    "                line_idx += 1\n",
    "            query = \"\\n\".join(temp_lines).strip(\"\\n\")\n",
    "        else:\n",
    "            line_idx += 1\n",
    "    \n",
    "    queries.append((query_id, query))\n",
    "    return queries\n"
   ]
  },
  {
   "cell_type": "code",
   "execution_count": 9,
   "metadata": {
    "deletable": false,
    "editable": false,
    "nbgrader": {
     "cell_type": "code",
     "checksum": "a897b9771b54f447be3418d7246fc4a0",
     "grade": false,
     "grade_id": "cell-6ec540abce66c598",
     "locked": true,
     "schema_version": 3,
     "solution": false,
     "task": false
    }
   },
   "outputs": [],
   "source": [
    "##### Function check\n",
    "queries = read_queries()\n",
    "\n",
    "assert isinstance(queries, list)\n",
    "assert len(queries) == 64 and all([q[1] is not None for q in queries]), \"There should be exactly 64 queries\"\n",
    "\n",
    "unzipped_queries = list(zip(*queries))\n",
    "assert np.sum(np.array(list(map(int,unzipped_queries[0])))) == 2080\n",
    "\n",
    "##### "
   ]
  },
  {
   "cell_type": "markdown",
   "metadata": {
    "deletable": false,
    "editable": false,
    "nbgrader": {
     "cell_type": "markdown",
     "checksum": "a300c41912ac63b239070b4c15c9f5c5",
     "grade": false,
     "grade_id": "cell-1c31569491d7b782",
     "locked": true,
     "schema_version": 3,
     "solution": false,
     "task": false
    }
   },
   "source": [
    "---\n",
    "### 1.3 Read the stop words\n",
    "\n",
    "We use the common words stored in `common_words`:"
   ]
  },
  {
   "cell_type": "code",
   "execution_count": 10,
   "metadata": {
    "deletable": false,
    "editable": false,
    "nbgrader": {
     "cell_type": "code",
     "checksum": "1ad6f5bae6a792504c1c8513ae5751ad",
     "grade": false,
     "grade_id": "cell-34bdb63461418a96",
     "locked": true,
     "schema_version": 3,
     "solution": false,
     "task": false
    }
   },
   "outputs": [
    {
     "name": "stdout",
     "output_type": "stream",
     "text": [
      "a\n",
      "about\n",
      "above\n",
      "accordingly\n",
      "across\n",
      "after\n",
      "afterwards\n",
      "again\n",
      "against\n",
      "all\n"
     ]
    }
   ],
   "source": [
    "##### Read the stop words file \n",
    "!head ./datasets/common_words\n",
    "##### Read the README file "
   ]
  },
  {
   "cell_type": "markdown",
   "metadata": {
    "deletable": false,
    "editable": false,
    "nbgrader": {
     "cell_type": "markdown",
     "checksum": "6d0fe612e770213b6397c2179b07a966",
     "grade": false,
     "grade_id": "cell-4744bde0338895d8",
     "locked": true,
     "schema_version": 3,
     "solution": false,
     "task": false
    }
   },
   "source": [
    "---\n",
    "\n",
    "The following function reads the `common_words` file (For better coverage, we try to keep them in lowercase):"
   ]
  },
  {
   "cell_type": "code",
   "execution_count": 11,
   "metadata": {
    "deletable": false,
    "editable": false,
    "nbgrader": {
     "cell_type": "code",
     "checksum": "9409713fd26eb0c33587e190638997c4",
     "grade": false,
     "grade_id": "cell-7357aa40f64e5bcb",
     "locked": true,
     "schema_version": 3,
     "solution": false,
     "task": false
    }
   },
   "outputs": [],
   "source": [
    "def load_stopwords(root_folder = \"./datasets/\"):\n",
    "    \"\"\"\n",
    "        Loads the stopwords. The dataset is assumed to be in the folder \"./datasets/\" by default\n",
    "        Output: A set of stopwords\n",
    "    \"\"\"\n",
    "    with open(os.path.join(root_folder, \"common_words\")) as reader:\n",
    "        lines = reader.readlines()\n",
    "    stopwords = set([l.strip().lower() for l in lines])\n",
    "    return stopwords\n"
   ]
  },
  {
   "cell_type": "code",
   "execution_count": 12,
   "metadata": {
    "deletable": false,
    "editable": false,
    "nbgrader": {
     "cell_type": "code",
     "checksum": "f1c8153c3c38133bc2db6e7b076ad470",
     "grade": false,
     "grade_id": "cell-2ca3ac162004de97",
     "locked": true,
     "schema_version": 3,
     "solution": false,
     "task": false
    }
   },
   "outputs": [],
   "source": [
    "##### Function check\n",
    "stopwords = load_stopwords()\n",
    "\n",
    "assert isinstance(stopwords, set)\n",
    "assert len(stopwords) == 428, \"There should be exactly 428 stop words\"\n",
    "\n",
    "assert np.sum(np.array(list(map(len,stopwords)))) == 2234\n",
    "\n",
    "##### \n"
   ]
  },
  {
   "cell_type": "markdown",
   "metadata": {
    "deletable": false,
    "editable": false,
    "nbgrader": {
     "cell_type": "markdown",
     "checksum": "92c1191e9e7291dcf0d70dc67b907a65",
     "grade": false,
     "grade_id": "cell-134b72872f4300cb",
     "locked": true,
     "schema_version": 3,
     "solution": false,
     "task": false
    }
   },
   "source": [
    "---\n",
    "### 1.4 Tokenization (3 points)\n",
    "\n",
    "We can now write some basic text processing functions. \n",
    "A first step is to tokenize the text. \n",
    "\n",
    "**Note**: Use the  `WordPunctTokenizer` available in the `nltk` library:"
   ]
  },
  {
   "cell_type": "code",
   "execution_count": 13,
   "metadata": {
    "deletable": false,
    "nbgrader": {
     "cell_type": "code",
     "checksum": "3f5564d3c75bf22fbf832b3a9b938f37",
     "grade": false,
     "grade_id": "cell-322be4c9499bdc4b",
     "locked": false,
     "schema_version": 3,
     "solution": true,
     "task": false
    }
   },
   "outputs": [],
   "source": [
    "# TODO: Implement this! (4 points)\n",
    "def tokenize(text):\n",
    "    \"\"\"\n",
    "        Tokenizes the input text. Use the WordPunctTokenizer\n",
    "        Input: text - a string\n",
    "        Output: a list of tokens\n",
    "    \"\"\"\n",
    "    # YOUR CODE HERE\n",
    "    \n",
    "    tk = nltk.WordPunctTokenizer()\n",
    "    return tk.tokenize(text)"
   ]
  },
  {
   "cell_type": "code",
   "execution_count": 14,
   "metadata": {
    "deletable": false,
    "editable": false,
    "nbgrader": {
     "cell_type": "code",
     "checksum": "e15af22c4d8ae0a3f9dac43bef7097ec",
     "grade": true,
     "grade_id": "cell-7fbf48bf7541a622",
     "locked": true,
     "points": 3,
     "schema_version": 3,
     "solution": false,
     "task": false
    }
   },
   "outputs": [
    {
     "name": "stdout",
     "output_type": "stream",
     "text": [
      "['the', 'quick', 'brown', 'fox', 'jumps', 'over', 'the', 'lazy', 'dog']\n"
     ]
    }
   ],
   "source": [
    "##### Function check\n",
    "text = \"the quick brown fox jumps over the lazy dog\"\n",
    "tokens = tokenize(text)\n",
    "\n",
    "assert isinstance(tokens, list)\n",
    "assert len(tokens) == 9\n",
    "\n",
    "print(tokens)\n",
    "# output: ['the', 'quick', 'brown', 'fox', 'jumps', 'over', 'the', 'lazy', 'dog']\n",
    "#####"
   ]
  },
  {
   "cell_type": "markdown",
   "metadata": {
    "deletable": false,
    "editable": false,
    "nbgrader": {
     "cell_type": "markdown",
     "checksum": "34210618bff4cb47aad2f03cb4b9854c",
     "grade": false,
     "grade_id": "cell-fd1b98ae61b697ca",
     "locked": true,
     "schema_version": 3,
     "solution": false,
     "task": false
    }
   },
   "source": [
    "---\n",
    "### 1.5 Stemming (2 points)\n",
    "\n",
    "Write a function to stem tokens. \n",
    "Again, you can use the nltk library for this:"
   ]
  },
  {
   "cell_type": "code",
   "execution_count": 15,
   "metadata": {
    "deletable": false,
    "nbgrader": {
     "cell_type": "code",
     "checksum": "1c4a6aa979d66158c7b6b992af43293a",
     "grade": false,
     "grade_id": "cell-e3f6c8e3f874b28d",
     "locked": false,
     "schema_version": 3,
     "solution": true,
     "task": false
    }
   },
   "outputs": [],
   "source": [
    "# TODO: Implement this! (3 points)\n",
    "def stem_token(token):\n",
    "    \"\"\"\n",
    "        Stems the given token using the PorterStemmer from the nltk library\n",
    "        Input: a single token\n",
    "        Output: the stem of the token\n",
    "    \"\"\"\n",
    "    stemmer = nltk.stem.PorterStemmer()\n",
    "    return stemmer.stem(token)"
   ]
  },
  {
   "cell_type": "code",
   "execution_count": 16,
   "metadata": {
    "deletable": false,
    "editable": false,
    "nbgrader": {
     "cell_type": "code",
     "checksum": "9363b4f09b556d424d9c895d4ab57b1c",
     "grade": true,
     "grade_id": "cell-cd6863e6ee6ed205",
     "locked": true,
     "points": 2,
     "schema_version": 3,
     "solution": false,
     "task": false
    }
   },
   "outputs": [],
   "source": [
    "##### Function check\n",
    "\n",
    "assert stem_token('owned') == 'own'\n",
    "assert stem_token('itemization') == 'item'\n",
    "#####"
   ]
  },
  {
   "cell_type": "markdown",
   "metadata": {
    "deletable": false,
    "editable": false,
    "nbgrader": {
     "cell_type": "markdown",
     "checksum": "0b311d014146da6afa1d39542fab9869",
     "grade": false,
     "grade_id": "cell-47c9f90498699110",
     "locked": true,
     "schema_version": 3,
     "solution": false,
     "task": false
    }
   },
   "source": [
    "---\n",
    "### 1.6 Summary\n",
    "\n",
    "The following function puts it all together. Given an input string, this functions tokenizes and processes it according to the flags that you set."
   ]
  },
  {
   "cell_type": "code",
   "execution_count": 17,
   "metadata": {
    "deletable": false,
    "editable": false,
    "nbgrader": {
     "cell_type": "code",
     "checksum": "2ff2d215ee8e0039c5a91fd3de12e6bd",
     "grade": false,
     "grade_id": "cell-dd0d3f46b30801da",
     "locked": true,
     "schema_version": 3,
     "solution": false,
     "task": false
    }
   },
   "outputs": [],
   "source": [
    "#### Putting it all together\n",
    "def process_text(text, stem=False, remove_stopwords=False, lowercase_text=False):\n",
    "    \n",
    "    tokens = []\n",
    "    for token in tokenize(text):\n",
    "        if remove_stopwords and token.lower() in stopwords:\n",
    "            continue\n",
    "        if stem:\n",
    "            token = stem_token(token)\n",
    "        if lowercase_text:\n",
    "            token = token.lower()\n",
    "        tokens.append(token)\n",
    "\n",
    "    return tokens\n",
    "#### "
   ]
  },
  {
   "cell_type": "markdown",
   "metadata": {
    "deletable": false,
    "editable": false,
    "nbgrader": {
     "cell_type": "markdown",
     "checksum": "02d433b18eb43654fa4306a7bf55b190",
     "grade": false,
     "grade_id": "cell-8d885bfd2edd43ae",
     "locked": true,
     "schema_version": 3,
     "solution": false,
     "task": false
    }
   },
   "source": [
    "---\n",
    "\n",
    "Let's create two sets of preprocessed documents.\n",
    "We can process the documents and queries according to these two configurations:"
   ]
  },
  {
   "cell_type": "code",
   "execution_count": 18,
   "metadata": {
    "deletable": false,
    "editable": false,
    "nbgrader": {
     "cell_type": "code",
     "checksum": "dbe4ca667be6842fdcf512fbcad50c7f",
     "grade": false,
     "grade_id": "cell-d427365ee0fb21d8",
     "locked": true,
     "schema_version": 3,
     "solution": false,
     "task": false
    }
   },
   "outputs": [],
   "source": [
    "# In this configuration:\n",
    "# Don't preprocess the text, except to tokenize \n",
    "config_1 = {\n",
    "  \"stem\": False,\n",
    "  \"remove_stopwords\" : False,\n",
    "  \"lowercase_text\": True\n",
    "} \n",
    "\n",
    "\n",
    "# In this configuration:\n",
    "# Preprocess the text, stem and remove stopwords\n",
    "config_2 = {\n",
    "  \"stem\": True,\n",
    "  \"remove_stopwords\" : True,\n",
    "  \"lowercase_text\": True, \n",
    "} \n",
    "\n",
    "####\n",
    "doc_repr_1 = []\n",
    "doc_repr_2 = []\n",
    "for (doc_id, document) in docs:\n",
    "    doc_repr_1.append((doc_id, process_text(document, **config_1)))\n",
    "    doc_repr_2.append((doc_id, process_text(document, **config_2)))\n",
    "\n",
    "####"
   ]
  },
  {
   "cell_type": "markdown",
   "metadata": {
    "deletable": false,
    "editable": false,
    "nbgrader": {
     "cell_type": "markdown",
     "checksum": "b60589aac19e80941d860d9b3f1e9a16",
     "grade": false,
     "grade_id": "cell-b1c102db61ae7495",
     "locked": true,
     "schema_version": 3,
     "solution": false,
     "task": false
    }
   },
   "source": [
    "--- \n",
    "\n",
    "## Section 2: Indexing (10 points)<a class=\"anchor\" id=\"indexing\"></a>\n",
    "\n",
    "[Back to Part 1](#part1)\n",
    "\n",
    "\n",
    "\n",
    "A retrieval function usually takes in a query document pair, and scores a query against a document.  Our document set is quite small - just a few thousand documents. However, consider a web-scale dataset with a few million documents. In such a scenario, it would become infeasible to score every query and document pair. In such a case, we can build an inverted index. From Wikipedia:\n",
    "\n",
    "> ... , an inverted index (also referred to as a postings file or inverted file) is a database index storing a mapping from content, such as words or numbers, to its locations in a table, .... The purpose of an inverted index is to allow fast full-text searches, at a cost of increased processing when a document is added to the database. ...\n",
    "\n",
    "\n",
    "Consider a simple inverted index, which maps from word to document. This can improve the performance of a retrieval system significantly. In this assignment, we consider a *simple* inverted index, which maps a word to a set of documents. In practice, however, more complex indices might be used.  \n"
   ]
  },
  {
   "cell_type": "markdown",
   "metadata": {
    "deletable": false,
    "editable": false,
    "nbgrader": {
     "cell_type": "markdown",
     "checksum": "710fd943f45523ac36fcb887cc0d4d39",
     "grade": false,
     "grade_id": "cell-fa373192c1b7bb95",
     "locked": true,
     "schema_version": 3,
     "solution": false,
     "task": false
    }
   },
   "source": [
    "### 2.1 Term Frequency-index (10 points)\n",
    "In this assignment, we will be using an index created in memory since our dataset is tiny. To get started, build a simple index that maps each `token` to a list of `(doc_id, count)` where `count` is the count of the `token` in `doc_id`.\n",
    "For consistency, build this index using a python dictionary.\n",
    "    \n",
    "Now, implement a function to build an index:"
   ]
  },
  {
   "cell_type": "code",
   "execution_count": 1,
   "metadata": {
    "deletable": false,
    "nbgrader": {
     "cell_type": "code",
     "checksum": "d4e8c6b658c469379d5fe511de05b536",
     "grade": false,
     "grade_id": "cell-077599b87e953209",
     "locked": false,
     "schema_version": 3,
     "solution": true,
     "task": false
    }
   },
   "outputs": [],
   "source": [
    "# need defaultdict to handle cases when queried word is missing from our documents\n",
    "# https://piazza.com/class/kyiksrdfk0b6te?cid=38\n",
    "# https://piazza.com/class/kyiksrdfk0b6te?cid=39\n",
    "from collections import defaultdict\n",
    "\n",
    "# TODO: Implement this! (10 points)\n",
    "def build_tf_index(documents):\n",
    "    \"\"\"\n",
    "    Build an inverted index (with counts). \n",
    "    The output is a dictionary which takes in a token and \n",
    "    returns a list of (doc_id, count) \n",
    "    where 'count' is the count of the 'token' in 'doc_id'\n",
    "    \n",
    "    Input: a list of documents - (doc_id, tokens)\n",
    "    Output: An inverted index implemented within a pyhton dictionary: \n",
    "        [token] -> [(doc_id, token_count)]\n",
    "    \"\"\"\n",
    "    # YOUR CODE HERE\n",
    "    tf_index = defaultdict(list)\n",
    "    for doc_id, tokens in documents:\n",
    "        tokens_set = set(tokens)\n",
    "        for token in tokens_set:\n",
    "            tf_index[token].append((doc_id, tokens.count(token)))\n",
    "    return tf_index"
   ]
  },
  {
   "cell_type": "markdown",
   "metadata": {
    "deletable": false,
    "editable": false,
    "nbgrader": {
     "cell_type": "markdown",
     "checksum": "15e7041b4323d2a290322de538ff7670",
     "grade": false,
     "grade_id": "cell-093aebfa504f96f2",
     "locked": true,
     "schema_version": 3,
     "solution": false,
     "task": false
    }
   },
   "source": [
    "---\n",
    "Now we can build indexed documents and preprocess the queries based on the two configurations:"
   ]
  },
  {
   "cell_type": "code",
   "execution_count": 20,
   "metadata": {
    "deletable": false,
    "editable": false,
    "nbgrader": {
     "cell_type": "code",
     "checksum": "e27540c1d8d77a3779a05f557f3f40c6",
     "grade": false,
     "grade_id": "cell-b2ff1676348b90a8",
     "locked": true,
     "schema_version": 3,
     "solution": false,
     "task": false
    }
   },
   "outputs": [],
   "source": [
    "#### Indexed documents based on the two configs\n",
    "\n",
    "# Create the 2 indices\n",
    "tf_index_1 = build_tf_index(doc_repr_1)\n",
    "tf_index_2 = build_tf_index(doc_repr_2)\n",
    "\n",
    "# This function returns the tf_index of the corresponding config\n",
    "def get_index(index_set):\n",
    "    assert index_set in {1, 2}\n",
    "    return {\n",
    "        1: tf_index_1,\n",
    "        2: tf_index_2\n",
    "    }[index_set]\n",
    "\n",
    "####\n",
    "#### Preprocessed query based on the two configs\n",
    "\n",
    "# This function preprocesses the text given the index set, according to the specified config\n",
    "def preprocess_query(text, index_set):\n",
    "    assert index_set in {1, 2}\n",
    "    if index_set == 1:\n",
    "        return process_text(text, **config_1)\n",
    "    elif index_set == 2:\n",
    "        return process_text(text, **config_2)\n",
    "\n",
    "#### "
   ]
  },
  {
   "cell_type": "code",
   "execution_count": 21,
   "metadata": {
    "deletable": false,
    "editable": false,
    "nbgrader": {
     "cell_type": "code",
     "checksum": "f0cbc8703e1248cd6edf03f9019b69db",
     "grade": true,
     "grade_id": "cell-fc7c7232d5d2ee46",
     "locked": true,
     "points": 5,
     "schema_version": 3,
     "solution": false,
     "task": false
    }
   },
   "outputs": [
    {
     "name": "stdout",
     "output_type": "stream",
     "text": [
      "sample tf index for computer: [('4', 1), ('7', 1), ('10', 1), ('13', 1), ('19', 1), ('22', 1), ('23', 1), ('37', 1), ('40', 3), ('41', 1)]\n",
      "sample tf index for examples: [('111', 1), ('320', 1), ('644', 1), ('691', 1), ('727', 1), ('848', 1), ('892', 1), ('893', 1), ('1049', 1), ('1051', 1)]\n"
     ]
    }
   ],
   "source": [
    "##### Function check\n",
    "\n",
    "assert isinstance(tf_index_1, dict)\n",
    "\n",
    "assert isinstance(tf_index_1['computer'], list)\n",
    "print('sample tf index for computer:', tf_index_1['computer'][:10])\n",
    "\n",
    "assert isinstance(tf_index_1['examples'], list)\n",
    "print('sample tf index for examples:', tf_index_1['examples'][:10])\n",
    "#### "
   ]
  },
  {
   "cell_type": "code",
   "execution_count": 22,
   "metadata": {
    "deletable": false,
    "editable": false,
    "nbgrader": {
     "cell_type": "code",
     "checksum": "d49b8ac36815d9a5cb4bed838ab53a50",
     "grade": true,
     "grade_id": "cell-ff06bd11204db250",
     "locked": true,
     "points": 5,
     "schema_version": 3,
     "solution": false,
     "task": false
    }
   },
   "outputs": [
    {
     "name": "stdout",
     "output_type": "stream",
     "text": [
      "sample tf index for computer: [('4', 1), ('7', 1), ('10', 1), ('13', 1), ('19', 1), ('22', 1), ('23', 1), ('37', 1), ('40', 3), ('41', 1)]\n",
      "sample tf index for examples: []\n"
     ]
    }
   ],
   "source": [
    "##### Function check\n",
    "\n",
    "assert isinstance(tf_index_2, dict)\n",
    "\n",
    "assert isinstance(tf_index_2['computer'], list)\n",
    "print('sample tf index for computer:', tf_index_1['computer'][:10])\n",
    "\n",
    "assert isinstance(tf_index_2['examples'], list)\n",
    "print('sample tf index for examples:', tf_index_2['examples'][:10])\n",
    "#### "
   ]
  },
  {
   "cell_type": "markdown",
   "metadata": {
    "deletable": false,
    "editable": false,
    "nbgrader": {
     "cell_type": "markdown",
     "checksum": "880b2ef3ca405f2af6e0667d2dc7a600",
     "grade": false,
     "grade_id": "cell-89eba71f04310291",
     "locked": true,
     "schema_version": 3,
     "solution": false,
     "task": false
    }
   },
   "source": [
    "\n",
    "---\n",
    "## Section 3: Ranking  (80 points) <a class=\"anchor\" id=\"ranking\"></a>\n",
    "\n",
    "[Back to Part 1](#part1)\n",
    "\n",
    "Now that we have cleaned and processed our dataset, we can start building simple IR systems. \n",
    "\n",
    "For now, we consider *simple* IR systems, which involve computing scores from the tokens present in the document/query. More advanced methods are covered in later assignments.\n",
    "\n",
    "We will implement the following methods in this section:\n",
    "- [Section 3.1: Bag of Words](#bow) (10 points)\n",
    "- [Section 3.2: TF-IDF](#tfidf) (15 points)\n",
    "- [Section 3.3: Query Likelihood Model](#qlm) (35 points)\n",
    "- [Section 3.4: BM25](#bm25) (20 points)\n",
    "\n",
    "*All search functions should be able to handle multiple words queries.*\n",
    "\n",
    "**Scoring policy:**\n",
    "Your implementations in this section are scored based on the expected performance of your ranking functions.\n",
    "You will get a full mark if your implementation meets the expected performance (measured by some evaluation metric).\n",
    "Otherwise, you may get partial credit.\n",
    "For example, if your *Bag of words* ranking function has 60% of expected performance, you will get 6 out of 10."
   ]
  },
  {
   "cell_type": "markdown",
   "metadata": {
    "deletable": false,
    "editable": false,
    "nbgrader": {
     "cell_type": "markdown",
     "checksum": "6c74e5061917358300c6e8085ec07864",
     "grade": false,
     "grade_id": "cell-3daf70a60e393adf",
     "locked": true,
     "schema_version": 3,
     "solution": false,
     "task": false
    }
   },
   "source": [
    "--- \n",
    "\n",
    "### Section 3.1: Bag of Words (10 points)<a class=\"anchor\" id=\"bow\"></a>\n",
    "\n",
    "Probably the simplest IR model is the Bag of Words (BOW) model.\n",
    "Implement a function that scores and ranks all the documents against a query using this model.   \n",
    "\n",
    "- For consistency, you should use the count of the token and **not** the binary indicator.\n",
    "- Use `float` type for the scores (even though the scores are integers in this case).\n",
    "- No normalization of the scores is necessary, as the ordering is what we are interested in.\n",
    "- If two documents have the same score, they can have any ordering: you are not required to disambiguate.\n"
   ]
  },
  {
   "cell_type": "code",
   "execution_count": 23,
   "metadata": {
    "deletable": false,
    "nbgrader": {
     "cell_type": "code",
     "checksum": "fee4640e22bfc4f05eb958a675ef40e7",
     "grade": false,
     "grade_id": "cell-de9cf0459c4b9324",
     "locked": false,
     "schema_version": 3,
     "solution": true,
     "task": false
    }
   },
   "outputs": [],
   "source": [
    "# TODO: Implement this! (10 points)\n",
    "def bow_search(query, index_set):\n",
    "    \"\"\"\n",
    "    Perform a search over all documents with the given query.\n",
    "    Note: You have to use the `get_index` function created in the previous cells\n",
    "    Input:\n",
    "        query - a (unprocessed) query\n",
    "        index_set - the index to use\n",
    "    Output: a list of (document_id, score),\n",
    "        sorted in descending relevance to the given query.\n",
    "    \"\"\"\n",
    "    index = get_index(index_set)\n",
    "    processed_query = preprocess_query(query, index_set)\n",
    "\n",
    "    # YOUR CODE HERE\n",
    "    # total count per document\n",
    "    documents = defaultdict(float)\n",
    "    for token in processed_query:\n",
    "        for document in index[token]:\n",
    "            # aggregate counts of this token across all documents\n",
    "            documents[document[0]] += document[1]\n",
    "    # convert documents to list and sort descending\n",
    "    documents = sorted(list(documents.items()), key=lambda x: x[1], reverse=True)\n",
    "    return documents"
   ]
  },
  {
   "cell_type": "code",
   "execution_count": 24,
   "metadata": {
    "deletable": false,
    "editable": false,
    "nbgrader": {
     "cell_type": "code",
     "checksum": "613524fbbf02b1d122c6611a71fbf11b",
     "grade": true,
     "grade_id": "cell-9f6aceae6dd9125f",
     "locked": true,
     "points": 2,
     "schema_version": 3,
     "solution": false,
     "task": false
    }
   },
   "outputs": [],
   "source": [
    "#### Function check\n",
    "\n",
    "test_bow = bow_search(\"how to implement bag of words search\", index_set=1)[:5]\n",
    "assert isinstance(test_bow, list)\n",
    "assert len(test_bow[0]) == 2\n",
    "assert isinstance(test_bow[0][0], str)\n",
    "assert isinstance(test_bow[0][1], float)\n",
    "\n",
    "#### "
   ]
  },
  {
   "cell_type": "code",
   "execution_count": 25,
   "metadata": {
    "deletable": false,
    "editable": false,
    "nbgrader": {
     "cell_type": "code",
     "checksum": "9af20897659edb62fe77598483590500",
     "grade": true,
     "grade_id": "cell-4eed3abf233d9b58",
     "locked": true,
     "points": 2,
     "schema_version": 3,
     "solution": false,
     "task": false
    }
   },
   "outputs": [
    {
     "name": "stdout",
     "output_type": "stream",
     "text": [
      "BOW Results:\n",
      "Rank 0(1.3e+01): On Computing The Fast Fourier Transform\\nCooley an...\n",
      "Rank 1(1.2e+01): Variable Length Tree Structures Having Minimum Ave...\n",
      "Rank 2(1.1e+01): A Modular Computer Sharing System\\nAn alternative ...\n",
      "Rank 3(1e+01): PEEKABIT, Computer Offspring of Punched\\nCard PEEK...\n",
      "Rank 4(9.0): Computer Simulation-Discussion of the\\nTechnique a...\n"
     ]
    }
   ],
   "source": [
    "\n",
    "docs_by_id = dict(docs)\n",
    "def print_results(docs, len_limit=50):    \n",
    "    for i, (doc_id, score) in enumerate(docs):\n",
    "        doc_content = docs_by_id[doc_id].strip().replace(\"\\n\", \"\\\\n\")[:len_limit] + \"...\"\n",
    "        print(f\"Rank {i}({score:.2}): {doc_content}\")\n",
    "\n",
    "test_bow_2 = bow_search(\"computer search word\", index_set=2)[:5]\n",
    "print(f\"BOW Results:\")\n",
    "print_results(test_bow_2)\n"
   ]
  },
  {
   "cell_type": "code",
   "execution_count": 26,
   "metadata": {
    "deletable": false,
    "editable": false,
    "nbgrader": {
     "cell_type": "code",
     "checksum": "3c9c8b16c8e7d1032f101e9da8a6e845",
     "grade": true,
     "grade_id": "cell-4d65a2d7090c466c",
     "locked": true,
     "points": 3,
     "schema_version": 3,
     "solution": false,
     "task": false
    }
   },
   "outputs": [
    {
     "name": "stdout",
     "output_type": "stream",
     "text": [
      "BOW Results:\n",
      "Rank 0(9.0): CURRICULUM 68 -- Recommendations for Academic\\nPro...\n",
      "Rank 1(9.0): Variable Length Tree Structures Having Minimum Ave...\n",
      "Rank 2(7.0): Computer Formulation of the Equations of Motion Us...\n",
      "Rank 3(7.0): The Effects of Multiplexing on a Computer-Communic...\n",
      "Rank 4(6.0): Optimizing Bit-time Computer Simulation\\nA major c...\n"
     ]
    }
   ],
   "source": [
    "\n",
    "test_bow_1 = bow_search(\"computer search word\", index_set=1)[:5]\n",
    "print(f\"BOW Results:\")\n",
    "print_results(test_bow_1)\n"
   ]
  },
  {
   "cell_type": "code",
   "execution_count": 27,
   "metadata": {
    "deletable": false,
    "editable": false,
    "nbgrader": {
     "cell_type": "code",
     "checksum": "b7e593847aa4202ae45ec061fb18ad73",
     "grade": true,
     "grade_id": "cell-dedf36ab5853ce20",
     "locked": true,
     "points": 3,
     "schema_version": 3,
     "solution": false,
     "task": false
    }
   },
   "outputs": [
    {
     "name": "stdout",
     "output_type": "stream",
     "text": [
      "top-5 docs for index1: ('1771', '1936', '1543', '2535', '678')\n",
      "top-5 docs for index2: ('1525', '1936', '1844', '1700', '1366')\n"
     ]
    }
   ],
   "source": [
    "print('top-5 docs for index1:', list(zip(*test_bow_1[:5]))[0])\n",
    "print('top-5 docs for index2:', list(zip(*test_bow_2[:5]))[0])\n"
   ]
  },
  {
   "cell_type": "markdown",
   "metadata": {
    "deletable": false,
    "editable": false,
    "nbgrader": {
     "cell_type": "markdown",
     "checksum": "b04352ee0716dfdf094b8cdb6f32e984",
     "grade": false,
     "grade_id": "cell-a5c09c79ac1f2871",
     "locked": true,
     "schema_version": 3,
     "solution": false,
     "task": false
    }
   },
   "source": [
    "\n",
    "---\n",
    "\n",
    "### Section 3.2: TF-IDF (15 points) <a class=\"anchor\" id=\"tfidf\"></a>\n",
    "\n",
    "Before we implement the tf-idf scoring functions, let's first write a function to compute the document frequencies of all words.  \n",
    "\n",
    "#### 3.2.1 Document frequency (5 points)\n",
    "Compute the document frequencies of all tokens in the collection. \n",
    "Your code should return a dictionary with tokens as its keys and the number of documents containing the token as values.\n",
    "For consistency, the values should have `int` type."
   ]
  },
  {
   "cell_type": "code",
   "execution_count": 28,
   "metadata": {
    "deletable": false,
    "nbgrader": {
     "cell_type": "code",
     "checksum": "5c53263cf4c0b0ffcaae08b91fc364cc",
     "grade": false,
     "grade_id": "cell-9a2369f32e864b8a",
     "locked": false,
     "schema_version": 3,
     "solution": true,
     "task": false
    }
   },
   "outputs": [],
   "source": [
    "# TODO: Implement this! (5 points)\n",
    "def compute_df(documents):\n",
    "    \"\"\"\n",
    "    Compute the document frequency of all terms in the vocabulary\n",
    "    Input: A list of documents\n",
    "    Output: A dictionary with {token: document frequency (int)}\n",
    "    \"\"\"\n",
    "    # YOUR CODE HERE\n",
    "    df_dict = defaultdict(int)\n",
    "    for document in documents:\n",
    "        # we only count a token once per document, so work on the set of unique doc tokens\n",
    "        unique_doc_tokens = set(document)\n",
    "        for token in unique_doc_tokens:\n",
    "            df_dict[token] += 1\n",
    "    return df_dict"
   ]
  },
  {
   "cell_type": "code",
   "execution_count": 29,
   "metadata": {
    "deletable": false,
    "editable": false,
    "nbgrader": {
     "cell_type": "code",
     "checksum": "154985511d7925c5793a1f97dea81880",
     "grade": false,
     "grade_id": "cell-4c3bddd0b73ac90e",
     "locked": true,
     "schema_version": 3,
     "solution": false,
     "task": false
    }
   },
   "outputs": [],
   "source": [
    "#### Compute df based on the two configs\n",
    "\n",
    "# get the document frequencies of each document\n",
    "df_1 = compute_df([d[1] for d in doc_repr_1])\n",
    "df_2 = compute_df([d[1] for d in doc_repr_2])\n",
    "\n",
    "def get_df(index_set):\n",
    "    assert index_set in {1, 2}\n",
    "    return {\n",
    "        1: df_1,\n",
    "        2: df_2\n",
    "    }[index_set]\n",
    "####"
   ]
  },
  {
   "cell_type": "code",
   "execution_count": 30,
   "metadata": {
    "deletable": false,
    "editable": false,
    "nbgrader": {
     "cell_type": "code",
     "checksum": "110cc180068cf3f77c682ee3de2a117c",
     "grade": true,
     "grade_id": "cell-79e8a6db1e5fc46f",
     "locked": true,
     "points": 5,
     "schema_version": 3,
     "solution": false,
     "task": false
    }
   },
   "outputs": [
    {
     "name": "stdout",
     "output_type": "stream",
     "text": [
      "597\n",
      "11\n"
     ]
    }
   ],
   "source": [
    "#### Function check\n",
    "\n",
    "print(df_1['computer'])\n",
    "print(df_2['computer'])\n",
    "####"
   ]
  },
  {
   "cell_type": "markdown",
   "metadata": {
    "deletable": false,
    "editable": false,
    "nbgrader": {
     "cell_type": "markdown",
     "checksum": "d0d577668fa51b80aeab6e67209ae73b",
     "grade": false,
     "grade_id": "cell-52f6acc487e1b96d",
     "locked": true,
     "schema_version": 3,
     "solution": false,
     "task": false
    }
   },
   "source": [
    "---\n",
    "#### 3.2.2 TF-IDF search (10 points)\n",
    "Next, implement a function that computes a tf-idf score, given a query.\n",
    "Use the following formulas for TF and IDF:\n",
    "\n",
    "$$ TF=\\log (1 + f_{d,t}) $$\n",
    "\n",
    "$$ IDF=\\log (\\frac{N}{n_t})$$\n",
    "\n",
    "where $f_{d,t}$ is the frequency of token $t$ in document $d$, $N$ is the number of total documents and $n_t$ is the number of documents containing token $t$.\n",
    "\n",
    "**Note:** your implementation will be auto-graded assuming you have used the above formulas.\n"
   ]
  },
  {
   "cell_type": "code",
   "execution_count": null,
   "metadata": {
    "deletable": false,
    "nbgrader": {
     "cell_type": "code",
     "checksum": "3534c44b4a3419ca1db98eebe7115dc1",
     "grade": false,
     "grade_id": "cell-2fb5ba34b2994cd9",
     "locked": false,
     "schema_version": 3,
     "solution": true,
     "task": false
    }
   },
   "outputs": [],
   "source": [
    "# TODO: Implement this! (10 points)\n",
    "def tfidf_search(query, index_set):\n",
    "    \"\"\"\n",
    "        Perform a search over all documents with the given query using tf-idf. \n",
    "        Note #1: You have to use the `get_index` (and the `get_df`) function created in the previous cells\n",
    "        Input: \n",
    "            query - a (unprocessed) query\n",
    "            index_set - the index to use\n",
    "        Output: a list of (document_id, score), sorted in descending relevance to the given query \n",
    "    \"\"\"\n",
    "    index = get_index(index_set)\n",
    "    df = get_df(index_set)\n",
    "    processed_query = preprocess_query(query, index_set)\n",
    "    \n",
    "    N = len(docs)\n",
    "    # YOUR CODE HERE\n",
    "    raise NotImplementedError()"
   ]
  },
  {
   "cell_type": "code",
   "execution_count": null,
   "metadata": {
    "deletable": false,
    "editable": false,
    "nbgrader": {
     "cell_type": "code",
     "checksum": "7b66a514663d898694b09a23a597312b",
     "grade": true,
     "grade_id": "cell-bc68aeeacf42beb3",
     "locked": true,
     "points": 2,
     "schema_version": 3,
     "solution": false,
     "task": false
    }
   },
   "outputs": [],
   "source": [
    "\n",
    "#### Function check\n",
    "test_tfidf = tfidf_search(\"how to implement tf idf search\", index_set=1)[:5]\n",
    "assert isinstance(test_tfidf, list)\n",
    "assert len(test_tfidf[0]) == 2\n",
    "assert isinstance(test_tfidf[0][0], str)\n",
    "assert isinstance(test_tfidf[0][1], float)\n",
    "\n",
    "####"
   ]
  },
  {
   "cell_type": "code",
   "execution_count": null,
   "metadata": {
    "deletable": false,
    "editable": false,
    "nbgrader": {
     "cell_type": "code",
     "checksum": "98fb1326cf4bf7983ae237ca8a9105f9",
     "grade": true,
     "grade_id": "cell-c7702fa8179fadb9",
     "locked": true,
     "points": 2,
     "schema_version": 3,
     "solution": false,
     "task": false
    }
   },
   "outputs": [],
   "source": [
    "\n",
    "test_tfidf_2 = tfidf_search(\"computer word search\", index_set=2)[:5]\n",
    "print(f\"TFIDF Results:\")\n",
    "print_results(test_tfidf_2)\n"
   ]
  },
  {
   "cell_type": "code",
   "execution_count": null,
   "metadata": {
    "deletable": false,
    "editable": false,
    "nbgrader": {
     "cell_type": "code",
     "checksum": "733b5b67be5e53989f5b763ce5e52ee9",
     "grade": true,
     "grade_id": "cell-3284f50ac29abbaa",
     "locked": true,
     "points": 3,
     "schema_version": 3,
     "solution": false,
     "task": false
    }
   },
   "outputs": [],
   "source": [
    "\n",
    "test_tfidf_1 = tfidf_search(\"computer word search\", index_set=1)[:5]\n",
    "print(f\"TFIDF Results:\")\n",
    "print_results(test_tfidf_1)\n"
   ]
  },
  {
   "cell_type": "code",
   "execution_count": null,
   "metadata": {
    "deletable": false,
    "editable": false,
    "nbgrader": {
     "cell_type": "code",
     "checksum": "e0edb37a5ae807a2de85d578c87ccb78",
     "grade": true,
     "grade_id": "cell-d908c80a3155354b",
     "locked": true,
     "points": 3,
     "schema_version": 3,
     "solution": false,
     "task": false
    }
   },
   "outputs": [],
   "source": [
    "\n",
    "print('top-5 docs for index1 with BOW search:', list(zip(*test_bow_1[:5]))[0])\n",
    "print('top-5 docs for index2 with BOW search:', list(zip(*test_bow_2[:5]))[0])\n",
    "print('top-5 docs for index1 with TF-IDF search:', list(zip(*test_tfidf_1[:5]))[0])\n",
    "print('top-5 docs for index2 with TF-IDF search:', list(zip(*test_tfidf_2[:5]))[0])\n",
    "\n"
   ]
  },
  {
   "cell_type": "markdown",
   "metadata": {
    "deletable": false,
    "editable": false,
    "nbgrader": {
     "cell_type": "markdown",
     "checksum": "cdffc83f0eaea937cf64a212e7e9af8d",
     "grade": false,
     "grade_id": "cell-f5d923459ba21733",
     "locked": true,
     "schema_version": 3,
     "solution": false,
     "task": false
    }
   },
   "source": [
    "--- \n",
    "\n",
    "### Section 3.3: Query Likelihood Model (35 points) <a class=\"anchor\" id=\"qlm\"></a>\n",
    "\n",
    "In this section, you will implement a simple query likelihood model. \n",
    "\n",
    "\n",
    "#### 3.3.1 Naive QL (15 points)\n",
    "\n",
    "First, let us implement a naive version of a QL model, assuming a multinomial unigram language model (with a uniform prior over the documents). \n",
    "\n"
   ]
  },
  {
   "cell_type": "code",
   "execution_count": null,
   "metadata": {
    "deletable": false,
    "editable": false,
    "nbgrader": {
     "cell_type": "code",
     "checksum": "b7ae2b7d818b428b4638c1c9206d2aca",
     "grade": false,
     "grade_id": "cell-98505778f7b68e7f",
     "locked": true,
     "schema_version": 3,
     "solution": false,
     "task": false
    }
   },
   "outputs": [],
   "source": [
    "#### Document length for normalization\n",
    "\n",
    "def doc_lengths(documents):\n",
    "    doc_lengths = {doc_id:len(doc) for (doc_id, doc) in documents}\n",
    "    return doc_lengths\n",
    "\n",
    "doc_lengths_1 = doc_lengths(doc_repr_1)\n",
    "doc_lengths_2 = doc_lengths(doc_repr_2)\n",
    "\n",
    "def get_doc_lengths(index_set):\n",
    "    assert index_set in {1, 2}\n",
    "    return {\n",
    "        1: doc_lengths_1,\n",
    "        2: doc_lengths_2\n",
    "    }[index_set]\n",
    "####"
   ]
  },
  {
   "cell_type": "code",
   "execution_count": null,
   "metadata": {
    "deletable": false,
    "nbgrader": {
     "cell_type": "code",
     "checksum": "cedd08303a914243fefdb6b876977ca1",
     "grade": false,
     "grade_id": "cell-8bcf2b804d636c2e",
     "locked": false,
     "schema_version": 3,
     "solution": true,
     "task": false
    }
   },
   "outputs": [],
   "source": [
    "# TODO: Implement this! (15 points)\n",
    "def naive_ql_search(query, index_set):\n",
    "    \"\"\"\n",
    "        Perform a search over all documents with the given query using a naive QL model. \n",
    "        Note #1: You have to use the `get_index` (and get_doc_lengths) function created in the previous cells\n",
    "        Input: \n",
    "            query - a (unprocessed) query\n",
    "            index_set - the index to use\n",
    "        Output: a list of (document_id, score), sorted in descending relevance to the given query \n",
    "    \"\"\"\n",
    "    index = get_index(index_set)\n",
    "    doc_lengths = get_doc_lengths(index_set)\n",
    "    processed_query = preprocess_query(query, index_set)\n",
    "    # YOUR CODE HERE\n",
    "    raise NotImplementedError()"
   ]
  },
  {
   "cell_type": "code",
   "execution_count": null,
   "metadata": {
    "deletable": false,
    "editable": false,
    "nbgrader": {
     "cell_type": "code",
     "checksum": "b550d15bdad28354c336020a00c33d56",
     "grade": true,
     "grade_id": "cell-5a83ac12ecde8578",
     "locked": true,
     "points": 3,
     "schema_version": 3,
     "solution": false,
     "task": false
    }
   },
   "outputs": [],
   "source": [
    "#### Function check\n",
    "test_naiveql = naive_ql_search(\"report\", index_set=1)[:5]\n",
    "print(f\"Naive QL Results:\")\n",
    "print_results(test_naiveql)\n",
    "####"
   ]
  },
  {
   "cell_type": "code",
   "execution_count": null,
   "metadata": {
    "deletable": false,
    "editable": false,
    "nbgrader": {
     "cell_type": "code",
     "checksum": "799df1d81c63fe90edbb6c218fc707fb",
     "grade": true,
     "grade_id": "cell-80f4bf2137f997bb",
     "locked": true,
     "points": 2,
     "schema_version": 3,
     "solution": false,
     "task": false
    }
   },
   "outputs": [],
   "source": [
    "#### Please do not change this. This cell is used for grading."
   ]
  },
  {
   "cell_type": "code",
   "execution_count": null,
   "metadata": {
    "deletable": false,
    "editable": false,
    "nbgrader": {
     "cell_type": "code",
     "checksum": "875a4a517d27e20625d41783cebec118",
     "grade": true,
     "grade_id": "cell-5ce2993458a8ce51",
     "locked": true,
     "points": 3,
     "schema_version": 3,
     "solution": false,
     "task": false
    }
   },
   "outputs": [],
   "source": [
    "#### Please do not change this. This cell is used for grading."
   ]
  },
  {
   "cell_type": "code",
   "execution_count": null,
   "metadata": {
    "deletable": false,
    "editable": false,
    "nbgrader": {
     "cell_type": "code",
     "checksum": "d5c4e1c3852e71a46f32825b122f1b71",
     "grade": true,
     "grade_id": "cell-7753bdb54e292f3d",
     "locked": true,
     "points": 3,
     "schema_version": 3,
     "solution": false,
     "task": false
    }
   },
   "outputs": [],
   "source": [
    "#### Please do not change this. This cell is used for grading."
   ]
  },
  {
   "cell_type": "code",
   "execution_count": null,
   "metadata": {
    "deletable": false,
    "editable": false,
    "nbgrader": {
     "cell_type": "code",
     "checksum": "c4d4332d4356e89ce0240f6b80e1899a",
     "grade": true,
     "grade_id": "cell-54e476e2f96e64bb",
     "locked": true,
     "points": 4,
     "schema_version": 3,
     "solution": false,
     "task": false
    }
   },
   "outputs": [],
   "source": [
    "#### Please do not change this. This cell is used for grading."
   ]
  },
  {
   "cell_type": "markdown",
   "metadata": {
    "deletable": false,
    "editable": false,
    "nbgrader": {
     "cell_type": "markdown",
     "checksum": "8d739dc91a22bd48897f603885f95a74",
     "grade": false,
     "grade_id": "cell-5414dfd69dab8b94",
     "locked": true,
     "schema_version": 3,
     "solution": false,
     "task": false
    }
   },
   "source": [
    "---\n",
    "#### 3.3.2 QL (20 points)\n",
    "Now, let's implement a QL model that handles the issues with the naive version. In particular, you will implement a QL model with Jelinek-Mercer Smoothing. That means an interpolated score is computed per word - one term is the same as the previous naive version, and the second term comes from a unigram language model. In addition, you should accumulate the scores by summing the **log** (smoothed) probability which leads to better numerical stability."
   ]
  },
  {
   "cell_type": "code",
   "execution_count": null,
   "metadata": {
    "deletable": false,
    "nbgrader": {
     "cell_type": "code",
     "checksum": "b8c6abf937ad333e628f1db891f2e29e",
     "grade": false,
     "grade_id": "cell-bb1f506409771257",
     "locked": false,
     "schema_version": 3,
     "solution": true,
     "task": false
    }
   },
   "outputs": [],
   "source": [
    "# TODO: Implement this! (20 points)\n",
    "\n",
    "# YOUR CODE HERE\n",
    "raise NotImplementedError()\n",
    "\n",
    "def ql_search(query, index_set):\n",
    "    \"\"\"\n",
    "        Perform a search over all documents with the given query using a QL model \n",
    "        with Jelinek-Mercer Smoothing (set smoothing=0.1). \n",
    "        \n",
    "        \n",
    "        Note #1: You have to use the `get_index` (and get_doc_lengths) function created in the previous cells\n",
    "        Note #2: You might have to create some variables beforehand and use them in this function\n",
    "        \n",
    "        \n",
    "        Input: \n",
    "            query - a (unprocessed) query\n",
    "            index_set - the index to use\n",
    "        Output: a list of (document_id, score), sorted in descending relevance to the given query \n",
    "    \"\"\"\n",
    "    index = get_index(index_set)\n",
    "    doc_lengths = get_doc_lengths(index_set)\n",
    "    processed_query = preprocess_query(query, index_set)\n",
    "    \n",
    "    # YOUR CODE HERE\n",
    "    raise NotImplementedError()\n",
    "    "
   ]
  },
  {
   "cell_type": "code",
   "execution_count": null,
   "metadata": {
    "deletable": false,
    "editable": false,
    "nbgrader": {
     "cell_type": "code",
     "checksum": "0b12a7f3355193a257fd9f5f69a66562",
     "grade": true,
     "grade_id": "cell-850e9d6369bcec32",
     "locked": true,
     "points": 4,
     "schema_version": 3,
     "solution": false,
     "task": false
    }
   },
   "outputs": [],
   "source": [
    "#### Function check\n",
    "test_ql_results = ql_search(\"report\", index_set=1)[:5]\n",
    "print_results(test_ql_results)\n",
    "print()\n",
    "test_ql_results_long = ql_search(\"report \" * 10, index_set=1)[:5]\n",
    "print_results(test_ql_results_long)\n",
    "####"
   ]
  },
  {
   "cell_type": "code",
   "execution_count": null,
   "metadata": {
    "deletable": false,
    "editable": false,
    "nbgrader": {
     "cell_type": "code",
     "checksum": "e40be645140389c115849856145f5b59",
     "grade": true,
     "grade_id": "cell-958cdcf6fd6899b7",
     "locked": true,
     "points": 3,
     "schema_version": 3,
     "solution": false,
     "task": false
    }
   },
   "outputs": [],
   "source": [
    "#### Please do not change this. This cell is used for grading."
   ]
  },
  {
   "cell_type": "code",
   "execution_count": null,
   "metadata": {
    "deletable": false,
    "editable": false,
    "nbgrader": {
     "cell_type": "code",
     "checksum": "41d4aff001df17e7963ba79b45810b30",
     "grade": true,
     "grade_id": "cell-384dc23a0c251f6e",
     "locked": true,
     "points": 4,
     "schema_version": 3,
     "solution": false,
     "task": false
    }
   },
   "outputs": [],
   "source": [
    "#### Please do not change this. This cell is used for grading."
   ]
  },
  {
   "cell_type": "code",
   "execution_count": null,
   "metadata": {
    "deletable": false,
    "editable": false,
    "nbgrader": {
     "cell_type": "code",
     "checksum": "893e8c5a073abc8ebb763d267b91bc02",
     "grade": true,
     "grade_id": "cell-7218966cba5097cc",
     "locked": true,
     "points": 4,
     "schema_version": 3,
     "solution": false,
     "task": false
    }
   },
   "outputs": [],
   "source": [
    "#### Please do not change this. This cell is used for grading."
   ]
  },
  {
   "cell_type": "code",
   "execution_count": null,
   "metadata": {
    "deletable": false,
    "editable": false,
    "nbgrader": {
     "cell_type": "code",
     "checksum": "f99cb6f8b1f5830aaed8f06712ff846e",
     "grade": true,
     "grade_id": "cell-481ab073259ae53f",
     "locked": true,
     "points": 5,
     "schema_version": 3,
     "solution": false,
     "task": false
    }
   },
   "outputs": [],
   "source": [
    "#### Please do not change this. This cell is used for grading."
   ]
  },
  {
   "cell_type": "markdown",
   "metadata": {
    "deletable": false,
    "editable": false,
    "nbgrader": {
     "cell_type": "markdown",
     "checksum": "c02f14705d679579b1aa9f78f54779d5",
     "grade": false,
     "grade_id": "cell-f44088bfdac1dc90",
     "locked": true,
     "schema_version": 3,
     "solution": false,
     "task": false
    }
   },
   "source": [
    "--- \n",
    "\n",
    "### Section 3.4: BM25 (20 points) <a class=\"anchor\" id=\"bm25\"></a>\n",
    "\n",
    "In this section, we will implement the BM25 scoring function. \n"
   ]
  },
  {
   "cell_type": "code",
   "execution_count": null,
   "metadata": {
    "deletable": false,
    "nbgrader": {
     "cell_type": "code",
     "checksum": "e57efe06ea92af1c83784a42eb3d86e0",
     "grade": false,
     "grade_id": "cell-15640fc9b5d00a3c",
     "locked": false,
     "schema_version": 3,
     "solution": true,
     "task": false
    }
   },
   "outputs": [],
   "source": [
    "# TODO: Implement this! (20 points)\n",
    "def bm25_search(query, index_set):\n",
    "    \"\"\"\n",
    "        Perform a search over all documents with the given query using BM25. Use k_1 = 1.5 and b = 0.75\n",
    "        Note #1: You have to use the `get_index` (and `get_doc_lengths`) function created in the previous cells\n",
    "        Note #2: You might have to create some variables beforehand and use them in this function\n",
    "        \n",
    "        Input: \n",
    "            query - a (unprocessed) query\n",
    "            index_set - the index to use\n",
    "        Output: a list of (document_id, score), sorted in descending relevance to the given query \n",
    "    \"\"\"\n",
    "    \n",
    "    index = get_index(index_set)\n",
    "    df = get_df(index_set)\n",
    "    doc_lengths = get_doc_lengths(index_set)\n",
    "    processed_query = preprocess_query(query, index_set)\n",
    "    \n",
    "    # YOUR CODE HERE\n",
    "    raise NotImplementedError()"
   ]
  },
  {
   "cell_type": "code",
   "execution_count": null,
   "metadata": {
    "deletable": false,
    "editable": false,
    "nbgrader": {
     "cell_type": "code",
     "checksum": "4be9de5d4e94637960d83725422bea6c",
     "grade": true,
     "grade_id": "cell-d10536bca72c74b1",
     "locked": true,
     "points": 3,
     "schema_version": 3,
     "solution": false,
     "task": false
    }
   },
   "outputs": [],
   "source": [
    "#### Function check\n",
    "test_bm25_results = bm25_search(\"report\", index_set=1)[:5]\n",
    "print_results(test_bm25_results)\n",
    "####"
   ]
  },
  {
   "cell_type": "code",
   "execution_count": null,
   "metadata": {
    "deletable": false,
    "editable": false,
    "nbgrader": {
     "cell_type": "code",
     "checksum": "31b550d6a46ae4f8ede88788799ac2b9",
     "grade": true,
     "grade_id": "cell-60f6ec5052712d79",
     "locked": true,
     "points": 5,
     "schema_version": 3,
     "solution": false,
     "task": false
    }
   },
   "outputs": [],
   "source": [
    "#### Please do not change this. This cell is used for grading."
   ]
  },
  {
   "cell_type": "code",
   "execution_count": null,
   "metadata": {
    "deletable": false,
    "editable": false,
    "nbgrader": {
     "cell_type": "code",
     "checksum": "3da2ec16bfe781916e71755d65aa2983",
     "grade": true,
     "grade_id": "cell-5d17524043a5abcc",
     "locked": true,
     "points": 5,
     "schema_version": 3,
     "solution": false,
     "task": false
    }
   },
   "outputs": [],
   "source": [
    "#### Please do not change this. This cell is used for grading."
   ]
  },
  {
   "cell_type": "code",
   "execution_count": null,
   "metadata": {
    "deletable": false,
    "editable": false,
    "nbgrader": {
     "cell_type": "code",
     "checksum": "e7b563d54fa84c20909c0ae107010541",
     "grade": true,
     "grade_id": "cell-ff8e704eda1184e3",
     "locked": true,
     "points": 3,
     "schema_version": 3,
     "solution": false,
     "task": false
    }
   },
   "outputs": [],
   "source": [
    "#### Please do not change this. This cell is used for grading."
   ]
  },
  {
   "cell_type": "code",
   "execution_count": null,
   "metadata": {
    "deletable": false,
    "editable": false,
    "nbgrader": {
     "cell_type": "code",
     "checksum": "b013f90974b396630a8831d6f1d7e5f7",
     "grade": true,
     "grade_id": "cell-a52310500a2543cb",
     "locked": true,
     "points": 4,
     "schema_version": 3,
     "solution": false,
     "task": false
    }
   },
   "outputs": [],
   "source": [
    "#### Please do not change this. This cell is used for grading."
   ]
  },
  {
   "cell_type": "markdown",
   "metadata": {
    "deletable": false,
    "editable": false,
    "nbgrader": {
     "cell_type": "markdown",
     "checksum": "8fcf67cb7d5e8b26cb9bf1f0aa42c847",
     "grade": false,
     "grade_id": "cell-8b2b412c81d62f2d",
     "locked": true,
     "schema_version": 3,
     "solution": false,
     "task": false
    }
   },
   "source": [
    "\n",
    "---\n",
    "\n",
    "### 3.5. Test Your Functions\n",
    "\n",
    "The widget below allows you to play with the search functions you've written so far. Use this to test your search functions and ensure that they work as expected."
   ]
  },
  {
   "cell_type": "code",
   "execution_count": null,
   "metadata": {
    "deletable": false,
    "editable": false,
    "nbgrader": {
     "cell_type": "code",
     "checksum": "dfeb204b390acc0794dbdcac92b0cf2c",
     "grade": false,
     "grade_id": "cell-c9c2bb76354e8d97",
     "locked": true,
     "schema_version": 3,
     "solution": false,
     "task": false
    }
   },
   "outputs": [],
   "source": [
    "#### Highlighter function\n",
    "# class for results\n",
    "ResultRow = namedtuple(\"ResultRow\", [\"doc_id\", \"snippet\", \"score\"])\n",
    "# doc_id -> doc\n",
    "docs_by_id = dict((d[0], d[1]) for d in docs)\n",
    "\n",
    "def highlight_text(document, query, tol=17):\n",
    "    import re\n",
    "    tokens = tokenize(query)\n",
    "    regex = \"|\".join(f\"(\\\\b{t}\\\\b)\" for t in tokens)\n",
    "    regex = re.compile(regex, flags=re.IGNORECASE)\n",
    "    output = \"\"\n",
    "    i = 0\n",
    "    for m in regex.finditer(document):\n",
    "        start_idx = max(0, m.start() - tol)\n",
    "        end_idx = min(len(document), m.end() + tol)\n",
    "        output += \"\".join([\"...\",\n",
    "                        document[start_idx:m.start()],\n",
    "                        \"<strong>\",\n",
    "                        document[m.start():m.end()],\n",
    "                        \"</strong>\",\n",
    "                        document[m.end():end_idx],\n",
    "                        \"...\"])\n",
    "    return output.replace(\"\\n\", \" \")\n",
    "\n",
    "\n",
    "def make_results(query, search_fn, index_set):\n",
    "    results = []\n",
    "    for doc_id, score in search_fn(query, index_set):\n",
    "        highlight = highlight_text(docs_by_id[doc_id], query)\n",
    "        if len(highlight.strip()) == 0:\n",
    "            highlight = docs_by_id[doc_id]\n",
    "        results.append(ResultRow(doc_id, highlight, score))\n",
    "    return results\n",
    "####"
   ]
  },
  {
   "cell_type": "code",
   "execution_count": null,
   "metadata": {},
   "outputs": [],
   "source": [
    "# TODO: Set this to the function you want to test!\n",
    "# this function should take in a query (string)\n",
    "# and return a sorted list of (doc_id, score) \n",
    "# with the most relevant document in the first position\n",
    "search_fn = bm25_search\n",
    "index_set = 1\n",
    "\n",
    "text = widgets.Text(description=\"Search Bar\", width=200)\n",
    "display(text)\n",
    "\n",
    "def handle_submit(sender):\n",
    "    print(f\"Searching for: '{sender.value}'\")\n",
    "    \n",
    "    results = make_results(sender.value, search_fn, index_set)\n",
    "    \n",
    "    # display only the top 5\n",
    "    results = results[:5]\n",
    "    \n",
    "    body = \"\"\n",
    "    for idx, r in enumerate(results):\n",
    "        body += f\"<li>Document #{r.doc_id}({r.score}): {r.snippet}</li>\"\n",
    "    display(HTML(f\"<ul>{body}</ul>\"))\n",
    "    \n",
    "\n",
    "text.on_submit(handle_submit)"
   ]
  },
  {
   "cell_type": "markdown",
   "metadata": {
    "deletable": false,
    "editable": false,
    "nbgrader": {
     "cell_type": "markdown",
     "checksum": "019b1ff878dc6339dd068e2d48d19904",
     "grade": false,
     "grade_id": "cell-8d46fe8e4f3d8cdb",
     "locked": true,
     "schema_version": 3,
     "solution": false,
     "task": false
    }
   },
   "source": [
    "---\n",
    "\n",
    "## Section 4: Evaluation (40 points) <a class=\"anchor\" id=\"evaluation\"></a>\n",
    "\n",
    "[Back to Part 1](#part1)\n",
    "\n",
    "In order to analyze the effectiveness of retrieval algorithms, we first have to learn how to evaluate such a system. In particular, we will work with offline evaluation metrics. These metrics are computed on a dataset with known relevance judgements.\n",
    "\n",
    "Implement the following evaluation metrics. \n",
    "\n",
    "1. Precision (7 points)\n",
    "2. Recall (7 points)\n",
    "3. Mean Average Precision (13 points)\n",
    "4. Expected Reciprocal Rank (13 points)"
   ]
  },
  {
   "cell_type": "markdown",
   "metadata": {
    "deletable": false,
    "editable": false,
    "nbgrader": {
     "cell_type": "markdown",
     "checksum": "e46f54c7f81d88bbc950b0fae14c4ca5",
     "grade": false,
     "grade_id": "cell-3419fd3bc663d7cc",
     "locked": true,
     "schema_version": 3,
     "solution": false,
     "task": false
    }
   },
   "source": [
    "---\n",
    "### 4.1 Read relevance labels\n",
    "\n",
    "Let's take a look at the `qrels.text` file, which contains the ground truth relevance scores. The relevance labels for CACM are binary - either 0 or 1. \n"
   ]
  },
  {
   "cell_type": "code",
   "execution_count": null,
   "metadata": {
    "deletable": false,
    "editable": false,
    "nbgrader": {
     "cell_type": "code",
     "checksum": "6c11025f5a222796f2882c73c1634799",
     "grade": false,
     "grade_id": "cell-6b738366059dde9e",
     "locked": true,
     "schema_version": 3,
     "solution": false,
     "task": false
    }
   },
   "outputs": [],
   "source": [
    "!head ./datasets/qrels.text"
   ]
  },
  {
   "cell_type": "markdown",
   "metadata": {
    "deletable": false,
    "editable": false,
    "nbgrader": {
     "cell_type": "markdown",
     "checksum": "7ce95245c1597183320d7254afde5c8e",
     "grade": false,
     "grade_id": "cell-10e16bff2753ffbb",
     "locked": true,
     "schema_version": 3,
     "solution": false,
     "task": false
    }
   },
   "source": [
    "---\n",
    "\n",
    "The first column is the query_id and the second column is the document_id. We can safely ignore the 3rd and 4th columns."
   ]
  },
  {
   "cell_type": "code",
   "execution_count": null,
   "metadata": {
    "deletable": false,
    "nbgrader": {
     "cell_type": "code",
     "checksum": "000c6d59dce08dba0ba1e8d691dbbc2e",
     "grade": false,
     "grade_id": "cell-ee5253a4ef602fce",
     "locked": false,
     "schema_version": 3,
     "solution": true,
     "task": false
    }
   },
   "outputs": [],
   "source": [
    "# YOUR CODE HERE\n",
    "raise NotImplementedError()"
   ]
  },
  {
   "cell_type": "code",
   "execution_count": null,
   "metadata": {
    "deletable": false,
    "editable": false,
    "nbgrader": {
     "cell_type": "code",
     "checksum": "d60caeba85c2a97d2211184a5ae91fd1",
     "grade": false,
     "grade_id": "cell-72215605fbe24f65",
     "locked": true,
     "schema_version": 3,
     "solution": false,
     "task": false
    }
   },
   "outputs": [],
   "source": [
    "#### Function check\n",
    "qrels = read_qrels()\n",
    "\n",
    "assert len(qrels) == 52, \"There should be 52 queries with relevance judgements\"\n",
    "assert sum(len(j) for j in qrels.values()) == 796, \"There should be a total of 796 Relevance Judgements\"\n",
    "\n",
    "assert np.min(np.array([len(j) for j in qrels.values()])) == 1\n",
    "assert np.max(np.array([len(j) for j in qrels.values()])) == 51\n",
    "\n",
    "####"
   ]
  },
  {
   "cell_type": "markdown",
   "metadata": {
    "deletable": false,
    "editable": false,
    "nbgrader": {
     "cell_type": "markdown",
     "checksum": "6c9e7428a52e291a2cdf92a379730d4c",
     "grade": false,
     "grade_id": "cell-176a6fb2939d0420",
     "locked": true,
     "schema_version": 3,
     "solution": false,
     "task": false
    }
   },
   "source": [
    "---\n",
    "**Note:** For a given query `query_id`, you can assume that documents *not* in `qrels[query_id]` are not relevant to `query_id`. \n"
   ]
  },
  {
   "cell_type": "markdown",
   "metadata": {
    "deletable": false,
    "editable": false,
    "nbgrader": {
     "cell_type": "markdown",
     "checksum": "b26a818c7b4f7ad490e00b35ea0edd69",
     "grade": false,
     "grade_id": "cell-bd8341b72cdd89bb",
     "locked": true,
     "schema_version": 3,
     "solution": false,
     "task": false
    }
   },
   "source": [
    "---\n",
    "### 4.2 Precision (7 points)\n",
    "Implement the `precision@k` metric:"
   ]
  },
  {
   "cell_type": "code",
   "execution_count": null,
   "metadata": {
    "deletable": false,
    "nbgrader": {
     "cell_type": "code",
     "checksum": "43dea1979ebdec24ffcfeff71c670433",
     "grade": false,
     "grade_id": "cell-494bd0cce108ed67",
     "locked": false,
     "schema_version": 3,
     "solution": true,
     "task": false
    }
   },
   "outputs": [],
   "source": [
    "# TODO: Implement this! (7 points)\n",
    "def precision_k(results, relevant_docs, k):\n",
    "    \"\"\"\n",
    "        Compute Precision@K\n",
    "        Input: \n",
    "            results: A sorted list of 2-tuples (document_id, score), \n",
    "                    with the most relevant document in the first position\n",
    "            relevant_docs: A set of relevant documents. \n",
    "            k: the cut-off\n",
    "        Output: Precision@K\n",
    "    \"\"\"\n",
    "    if k > len(results):\n",
    "        k = len(results)\n",
    "    # YOUR CODE HERE\n",
    "    raise NotImplementedError()"
   ]
  },
  {
   "cell_type": "code",
   "execution_count": null,
   "metadata": {
    "deletable": false,
    "editable": false,
    "nbgrader": {
     "cell_type": "code",
     "checksum": "9222e35582b1840ffb60fd02fb0b60c3",
     "grade": true,
     "grade_id": "cell-e7ff0d91c319ca64",
     "locked": true,
     "points": 7,
     "schema_version": 3,
     "solution": false,
     "task": false
    }
   },
   "outputs": [],
   "source": [
    "\n",
    "#### Function check\n",
    "qid = queries[0][0]\n",
    "qtext = queries[0][1]\n",
    "print(f'query:{qtext}')\n",
    "results = bm25_search(qtext, 2)\n",
    "precision = precision_k(results, qrels[qid], 10)\n",
    "print(f'precision@10 = {precision}')\n",
    "####"
   ]
  },
  {
   "cell_type": "markdown",
   "metadata": {
    "deletable": false,
    "editable": false,
    "nbgrader": {
     "cell_type": "markdown",
     "checksum": "8fd3b3998197c7097a40348500affb68",
     "grade": false,
     "grade_id": "cell-afd95f865bc7191e",
     "locked": true,
     "schema_version": 3,
     "solution": false,
     "task": false
    }
   },
   "source": [
    "---\n",
    "### 4.3 Recall (7 points)\n",
    "Implement the `recall@k` metric:"
   ]
  },
  {
   "cell_type": "code",
   "execution_count": null,
   "metadata": {
    "deletable": false,
    "nbgrader": {
     "cell_type": "code",
     "checksum": "b2020e5741ae03b3fe35817ed8f4ccaa",
     "grade": false,
     "grade_id": "cell-c323fc8c3f8a7cf8",
     "locked": false,
     "schema_version": 3,
     "solution": true,
     "task": false
    }
   },
   "outputs": [],
   "source": [
    "# TODO: Implement this! (7 points)\n",
    "def recall_k(results, relevant_docs, k):\n",
    "    \"\"\"\n",
    "        Compute Recall@K\n",
    "        Input: \n",
    "            results: A sorted list of 2-tuples (document_id, score), with the most relevant document in the first position\n",
    "            relevant_docs: A set of relevant documents. \n",
    "            k: the cut-off\n",
    "        Output: Recall@K\n",
    "    \"\"\"\n",
    "    # YOUR CODE HERE\n",
    "    raise NotImplementedError()"
   ]
  },
  {
   "cell_type": "code",
   "execution_count": null,
   "metadata": {
    "deletable": false,
    "editable": false,
    "nbgrader": {
     "cell_type": "code",
     "checksum": "56b6e0b8522f8b2dffbfb3206b2efa84",
     "grade": true,
     "grade_id": "cell-b25172161aef165c",
     "locked": true,
     "points": 7,
     "schema_version": 3,
     "solution": false,
     "task": false
    }
   },
   "outputs": [],
   "source": [
    "#### Function check\n",
    "qid = queries[10][0]\n",
    "qtext = queries[10][1]\n",
    "print(f'query:{qtext}')\n",
    "results = bm25_search(qtext, 2)\n",
    "recall = recall_k(results, qrels[qid], 10)\n",
    "print(f'recall@10 = {recall}')\n",
    "####"
   ]
  },
  {
   "cell_type": "markdown",
   "metadata": {
    "deletable": false,
    "editable": false,
    "nbgrader": {
     "cell_type": "markdown",
     "checksum": "b3d3c7bd1cd977cd07ef5df7d3fbf159",
     "grade": false,
     "grade_id": "cell-77fd2e7a39a74739",
     "locked": true,
     "schema_version": 3,
     "solution": false,
     "task": false
    }
   },
   "source": [
    "---\n",
    "### 4.4 Mean Average Precision (13 points)\n",
    "Implement the `map` metric:"
   ]
  },
  {
   "cell_type": "code",
   "execution_count": null,
   "metadata": {
    "deletable": false,
    "nbgrader": {
     "cell_type": "code",
     "checksum": "aae2c62f2ffd76f5b6c004e9519b9f14",
     "grade": false,
     "grade_id": "cell-e50925fa9093a30d",
     "locked": false,
     "schema_version": 3,
     "solution": true,
     "task": false
    }
   },
   "outputs": [],
   "source": [
    "# TODO: Implement this! (12 points)\n",
    "def average_precision(results, relevant_docs):\n",
    "    \"\"\"\n",
    "        Compute Average Precision (for a single query - the results are \n",
    "        averaged across queries to get MAP in the next few cells)\n",
    "        Hint: You can use the recall_k and precision_k functions here!\n",
    "        Input: \n",
    "            results: A sorted list of 2-tuples (document_id, score), with the most \n",
    "                    relevant document in the first position\n",
    "            relevant_docs: A set of relevant documents. \n",
    "        Output: Average Precision\n",
    "    \"\"\"\n",
    "    # YOUR CODE HERE\n",
    "    raise NotImplementedError()\n"
   ]
  },
  {
   "cell_type": "code",
   "execution_count": null,
   "metadata": {
    "deletable": false,
    "editable": false,
    "nbgrader": {
     "cell_type": "code",
     "checksum": "3b00e147c2fa146fa59f179b7c9cab75",
     "grade": true,
     "grade_id": "cell-8a1f7ec98571e58b",
     "locked": true,
     "points": 13,
     "schema_version": 3,
     "solution": false,
     "task": false
    }
   },
   "outputs": [],
   "source": [
    "#### Function check\n",
    "qid = queries[20][0]\n",
    "qtext = queries[20][1]\n",
    "print(f'query:{qtext}')\n",
    "results = bm25_search(qtext, 2)\n",
    "mean_ap = average_precision(results, qrels[qid])\n",
    "print(f'MAP = {mean_ap}')\n",
    "####"
   ]
  },
  {
   "cell_type": "markdown",
   "metadata": {
    "deletable": false,
    "editable": false,
    "nbgrader": {
     "cell_type": "markdown",
     "checksum": "36f85f45ef52d9467ba9a717d6d99ff2",
     "grade": false,
     "grade_id": "cell-1da18f0fe6f6d7be",
     "locked": true,
     "schema_version": 3,
     "solution": false,
     "task": false
    }
   },
   "source": [
    "---\n",
    "### 4.5 Expected Reciprocal Rank (13 points)\n",
    "Implement the `err` metric:"
   ]
  },
  {
   "cell_type": "code",
   "execution_count": null,
   "metadata": {
    "deletable": false,
    "nbgrader": {
     "cell_type": "code",
     "checksum": "9ac94db728e23ea1f5dc0d509473c6fb",
     "grade": false,
     "grade_id": "cell-64262889f9b267ea",
     "locked": false,
     "schema_version": 3,
     "solution": true,
     "task": false
    }
   },
   "outputs": [],
   "source": [
    "# TODO: Implement this! (12 points)\n",
    "def err(results, relevant_docs):\n",
    "    \"\"\"\n",
    "        Compute the expected reciprocal rank.\n",
    "        Hint: https://dl.acm.org/doi/pdf/10.1145/1645953.1646033?download=true\n",
    "        Input: \n",
    "            results: A sorted list of 2-tuples (document_id, score), with the most \n",
    "                    relevant document in the first position\n",
    "            relevant_docs: A set of relevant documents. \n",
    "        Output: ERR\n",
    "        \n",
    "    \"\"\"\n",
    "    # YOUR CODE HERE\n",
    "    raise NotImplementedError()"
   ]
  },
  {
   "cell_type": "code",
   "execution_count": null,
   "metadata": {
    "deletable": false,
    "editable": false,
    "nbgrader": {
     "cell_type": "code",
     "checksum": "b7d201de0990b69d5f38704668665d87",
     "grade": true,
     "grade_id": "cell-071e3970ff1afae4",
     "locked": true,
     "points": 13,
     "schema_version": 3,
     "solution": false,
     "task": false
    }
   },
   "outputs": [],
   "source": [
    "#### Function check\n",
    "qid = queries[30][0]\n",
    "qtext = queries[30][1]\n",
    "print(f'query:{qtext}')\n",
    "results = bm25_search(qtext, 2)\n",
    "ERR = err(results, qrels[qid])\n",
    "print(f'ERR = {ERR}')\n",
    "####"
   ]
  },
  {
   "cell_type": "markdown",
   "metadata": {
    "deletable": false,
    "editable": false,
    "nbgrader": {
     "cell_type": "markdown",
     "checksum": "5bd94caf77cfa5f34675df758d91002d",
     "grade": false,
     "grade_id": "cell-43709a765f353946",
     "locked": true,
     "schema_version": 3,
     "solution": false,
     "task": false
    }
   },
   "source": [
    "---\n",
    "### 4.6 Evaluate Search Functions\n",
    "\n",
    "Let's define some metrics@k using [partial functions](https://docs.python.org/3/library/functools.html#functools.partial)"
   ]
  },
  {
   "cell_type": "code",
   "execution_count": null,
   "metadata": {
    "deletable": false,
    "editable": false,
    "nbgrader": {
     "cell_type": "code",
     "checksum": "49ccc158e5fb7340ace55e90eeb9d62a",
     "grade": false,
     "grade_id": "cell-dab560e18e340da8",
     "locked": true,
     "schema_version": 3,
     "solution": false,
     "task": false
    }
   },
   "outputs": [],
   "source": [
    "#### metrics@k functions\n",
    "\n",
    "recall_at_1 = partial(recall_k, k=1)\n",
    "recall_at_5 = partial(recall_k, k=5)\n",
    "recall_at_10 = partial(recall_k, k=10)\n",
    "precision_at_1 = partial(precision_k, k=1)\n",
    "precision_at_5 = partial(precision_k, k=5)\n",
    "precision_at_10 = partial(precision_k, k=10)\n",
    "\n",
    "\n",
    "list_of_metrics = [\n",
    "    (\"ERR\", err),\n",
    "    (\"MAP\", average_precision),\n",
    "    (\"Recall@1\",recall_at_1),\n",
    "    (\"Recall@5\", recall_at_5),\n",
    "    (\"Recall@10\", recall_at_10),\n",
    "    (\"Precision@1\", precision_at_1),\n",
    "    (\"Precision@5\", precision_at_5),\n",
    "    (\"Precision@10\", precision_at_10)]\n",
    "####"
   ]
  },
  {
   "cell_type": "markdown",
   "metadata": {
    "deletable": false,
    "editable": false,
    "nbgrader": {
     "cell_type": "markdown",
     "checksum": "fb541002c03221b453b8936290020ea5",
     "grade": false,
     "grade_id": "cell-580a2bdc66d03b47",
     "locked": true,
     "schema_version": 3,
     "solution": false,
     "task": false
    }
   },
   "source": [
    "---\n",
    "\n",
    "The following function evaluates a `search_fn` using the `metric_fn`. Note that the final number is averaged over all the queries"
   ]
  },
  {
   "cell_type": "code",
   "execution_count": null,
   "metadata": {},
   "outputs": [],
   "source": [
    "#### Evaluate a search function\n",
    "\n",
    "list_of_search_fns = [\n",
    "    (\"BOW\", bow_search),\n",
    "    (\"TF-IDF\", tfidf_search),\n",
    "    (\"NaiveQL\", naive_ql_search),\n",
    "    (\"QL\", ql_search),\n",
    "    (\"BM25\", bm25_search)\n",
    "]\n",
    "\n",
    "def evaluate_search_fn(search_fn, metric_fns, index_set=None):\n",
    "    # build a dict query_id -> query \n",
    "    queries_by_id = dict((q[0], q[1]) for q in queries)\n",
    "    \n",
    "    metrics = {}\n",
    "    for metric, metric_fn in metric_fns:\n",
    "        metrics[metric] = np.zeros(len(qrels), dtype=np.float32)\n",
    "    \n",
    "    for i, (query_id, relevant_docs) in enumerate(qrels.items()):\n",
    "        query = queries_by_id[query_id]\n",
    "        if index_set:\n",
    "            results = search_fn(query, index_set)\n",
    "        else:\n",
    "            results = search_fn(query)\n",
    "        \n",
    "        for metric, metric_fn in metric_fns:\n",
    "            metrics[metric][i] = metric_fn(results, relevant_docs)\n",
    "\n",
    "    \n",
    "    \n",
    "    final_dict = {}\n",
    "    for metric, metric_vals in metrics.items():\n",
    "        final_dict[metric] = metric_vals.mean()\n",
    "    \n",
    "    return final_dict\n",
    "####"
   ]
  },
  {
   "cell_type": "markdown",
   "metadata": {
    "deletable": false,
    "editable": false,
    "nbgrader": {
     "cell_type": "markdown",
     "checksum": "6ea67534f74a8f81e1f504794f641709",
     "grade": false,
     "grade_id": "cell-b156d83a0649cbb4",
     "locked": true,
     "schema_version": 3,
     "solution": false,
     "task": false
    }
   },
   "source": [
    "## Section 5: Analysis (30 points) <a class=\"anchor\" id=\"analysis\"></a>\n",
    "\n",
    "[Back to Part 1](#part1)\n",
    "\n",
    "In the final section of Part1, we will compare the different term-based IR algorithms and different preprocessing configurations and analyze their advantages and disadvantages.\n",
    "\n",
    "### Section 5.1: Plot (20 points)\n",
    "\n",
    "First, gather the results. The results should consider the index set, the different search functions and different metrics. Plot the results in bar charts, per metric, with clear labels.\n",
    "\n",
    "**Rubric:**\n",
    "- Each Metric is plotted: 7 points\n",
    "- Each Method is plotted: 7 points\n",
    "- Clear titles, x label, y labels and legends (if applicable): 6 points"
   ]
  },
  {
   "cell_type": "code",
   "execution_count": null,
   "metadata": {
    "deletable": false,
    "nbgrader": {
     "cell_type": "code",
     "checksum": "7e2588a925d13ddf588abe8311dc9cfc",
     "grade": true,
     "grade_id": "cell-46fda42a25863a04",
     "locked": false,
     "points": 20,
     "schema_version": 3,
     "solution": true,
     "task": false
    }
   },
   "outputs": [],
   "source": [
    "# YOUR CODE HERE\n",
    "raise NotImplementedError()"
   ]
  },
  {
   "cell_type": "markdown",
   "metadata": {
    "deletable": false,
    "editable": false,
    "nbgrader": {
     "cell_type": "markdown",
     "checksum": "e88c444a0acf4e398c65e289169b75f7",
     "grade": false,
     "grade_id": "cell-8aabe3bcf265deb0",
     "locked": true,
     "points": 10,
     "schema_version": 3,
     "solution": false,
     "task": true
    }
   },
   "source": [
    "---\n",
    "### Section 5.2: Summary (10 points)\n",
    "Write a summary of what you observe in the results.\n",
    "Your summary should compare results across the 2 indices and the methods being used. State what you expected to see in the results, followed by either supporting evidence *or* justify why the results did not support your expectations.      "
   ]
  },
  {
   "cell_type": "markdown",
   "metadata": {},
   "source": [
    "Write your answer here!"
   ]
  },
  {
   "cell_type": "markdown",
   "metadata": {
    "deletable": false,
    "editable": false,
    "nbgrader": {
     "cell_type": "markdown",
     "checksum": "b3eb77be74eecca205fc7b47316d1627",
     "grade": false,
     "grade_id": "cell-bb60dd5c092d0f2e",
     "locked": true,
     "schema_version": 3,
     "solution": false,
     "task": false
    }
   },
   "source": [
    "---\n",
    "---\n",
    "# Part 2: Semantic-based Matching (85 points) <a class=\"anchor\" id=\"part2\"></a>\n",
    "\n",
    "[Back to top](#top)\n",
    "\n",
    "We will now experiment with methods that go beyond lexical methods like TF-IDF, which operate at the word level and are high dimensional and sparse, and look at methods which constructs low dimensional dense representations of queries and documents. \n",
    "\n",
    "Since these low-dimensional methods have a higher time complexity, they are typically used in conjunction with methods like BM-25. That is, instead of searching through potentially million documents to find matches using low dimensional vectors, a list of K documents are retrieved using BM25, and then **re-ranked** using the other method. This is the method that is going to be applied in the following exercises. \n",
    "\n",
    "LSI/LDA takes documents that are similar on a semantic level - for instance, if they are describing the same topic - and projects them into nearby vectors, despite having low lexical overlap.\n",
    "\n",
    "In this assignment, you will use `gensim` to create LSI/LDA models and use them in re-ranking. \n",
    "\n",
    "**Note**: The following exercises only uses `doc_repr_2` and `config_2`\n",
    "\n",
    "Table of contents:\n",
    "- [Section 6: LSI](#lsi) (15 points)\n",
    "- [Section 7: LDA](#lda) (10 points)\n",
    "- [Section 8: Word2Vec/Doc2Vec](#2vec) (20 points)\n",
    "- [Section 8: Re-ranking](#reranking) (10 points)\n",
    "- [Section 9: Re-ranking Evaluation](#reranking_eval) (30 points)"
   ]
  },
  {
   "cell_type": "markdown",
   "metadata": {
    "deletable": false,
    "editable": false,
    "nbgrader": {
     "cell_type": "markdown",
     "checksum": "f7c7b2cab82f576ed0acf836ca57171c",
     "grade": false,
     "grade_id": "cell-6b2c81e7a8abd180",
     "locked": true,
     "schema_version": 3,
     "solution": false,
     "task": false
    }
   },
   "source": [
    "---\n",
    "## Section 6: Latent Semantic Indexing (LSI) (15 points) <a class=\"anchor\" id=\"lsi\"></a>\n",
    "\n",
    "[Back to Part 2](#part2)\n",
    "\n",
    "LSI is one of the methods to embed the queries and documents into vectors. It is based on a method similar to Principal Component Analysis (PCA) for obtaining a dense concept matrix out of the sparse term-document matrix.\n",
    "\n",
    "See [wikipedia](https://en.wikipedia.org/wiki/Latent_semantic_analysis), particularly [#Mathematics_of_LSI](https://en.wikipedia.org/wiki/Latent_semantic_analysis#Mathematics_of_LSI)."
   ]
  },
  {
   "cell_type": "code",
   "execution_count": 23,
   "metadata": {
    "deletable": false,
    "editable": false,
    "nbgrader": {
     "cell_type": "code",
     "checksum": "c17ee75319cb517e2bf48ec3d9efc329",
     "grade": false,
     "grade_id": "cell-59913daee47f680d",
     "locked": true,
     "schema_version": 3,
     "solution": false,
     "task": false
    }
   },
   "outputs": [],
   "source": [
    "from gensim.corpora import Dictionary\n",
    "from gensim.models import LdaModel, LsiModel, Word2Vec\n",
    "from gensim.models.doc2vec import Doc2Vec, TaggedDocument\n",
    "from gensim import downloader as g_downloader\n",
    "# gensim uses logging, so set it up \n",
    "import logging\n",
    "logging.basicConfig(format='%(asctime)s : %(levelname)s : %(message)s', level=logging.INFO)"
   ]
  },
  {
   "cell_type": "markdown",
   "metadata": {
    "deletable": false,
    "editable": false,
    "nbgrader": {
     "cell_type": "markdown",
     "checksum": "5fce140c546759b54a9fc060901ae77c",
     "grade": false,
     "grade_id": "cell-3644faff4976598a",
     "locked": true,
     "schema_version": 3,
     "solution": false,
     "task": false
    }
   },
   "source": [
    "---\n",
    "### Section 6.1: Cosine Similarity (5 points)<a class=\"anchor\" id=\"cosing_sim\"></a>\n",
    "Before we begin, let us first define our method of similarity for the LSI model, the cosine similarity:\n",
    "\n",
    "$$\\text{similarity} = \\cos(\\theta) = {\\mathbf{A} \\cdot \\mathbf{B} \\over \\|\\mathbf{A}\\| \\|\\mathbf{B}\\|} = \\frac{ \\sum\\limits_{i=1}^{n}{A_i  B_i} }{ \\sqrt{\\sum\\limits_{i=1}^{n}{A_i^2}}  \\sqrt{\\sum\\limits_{i=1}^{n}{B_i^2}} }$$\n",
    "\n",
    "Since we are using gensim, the types of vectors returned by their classes are of the form defined below (they are not just simple vectors):"
   ]
  },
  {
   "cell_type": "code",
   "execution_count": 24,
   "metadata": {
    "deletable": false,
    "editable": false,
    "nbgrader": {
     "cell_type": "code",
     "checksum": "4e340e1a1d546f430c018fd0760e707a",
     "grade": false,
     "grade_id": "cell-3995a50f951314d5",
     "locked": true,
     "schema_version": 3,
     "solution": false,
     "task": false
    }
   },
   "outputs": [],
   "source": [
    "# 1, 2, 3 are either latent dimensions (LSI), or topics (LDA)\n",
    "# The second value in each tuple is a number (LSI) or a probability (LDA)  \n",
    "example_vec_1 = [(1, 0.2), (2, 0.3), (3, 0.4)]\n",
    "example_vec_2 = [(1, 0.2), (2, 0.7), (3, 0.4)]"
   ]
  },
  {
   "cell_type": "markdown",
   "metadata": {
    "deletable": false,
    "editable": false,
    "nbgrader": {
     "cell_type": "markdown",
     "checksum": "20832fd4f579f49ae204b0efee02edd1",
     "grade": false,
     "grade_id": "cell-5e54d581858dc8f7",
     "locked": true,
     "schema_version": 3,
     "solution": false,
     "task": false
    }
   },
   "source": [
    "---\n",
    "**Implementation (2+3 points):**\n",
    "Now, implement the `dot product` operation on these types of vectors and using this operator, implement the `cosine similarity` (don't forget: two functions to implement!):"
   ]
  },
  {
   "cell_type": "code",
   "execution_count": 25,
   "metadata": {
    "deletable": false,
    "nbgrader": {
     "cell_type": "code",
     "checksum": "06a712ee75fc213a21c5f0067fd8fe28",
     "grade": false,
     "grade_id": "cell-0e8189f5f93de33f",
     "locked": false,
     "schema_version": 3,
     "solution": true,
     "task": false
    }
   },
   "outputs": [],
   "source": [
    "# TODO: Implement this! (2 points)\n",
    "def dot(vec_1,vec_2): \n",
    "    \"\"\"\n",
    "        vec_1 and vec_2 are of the form: [(int, float), (int, float), ...]\n",
    "        Return the dot product of two such vectors, computed only on the floats\n",
    "        You can assume that the lengths of the vectors are the same, and the dimensions are aligned \n",
    "            i.e you won't get: vec_1 = [(1, 0.2)] ; vec_2 = [(2, 0.3)] \n",
    "                                (dimensions are unaligned and lengths are different)\n",
    "    \"\"\"\n",
    "    # YOUR CODE HERE\n",
    "    return np.dot([x[1] for x in vec_1], [y[1] for y in vec_2])\n",
    "    \n",
    "# TODO: Implement this! (3 points)\n",
    "def cosine_sim(vec_1, vec_2):\n",
    "    # YOUR CODE HERE\n",
    "    \n",
    "    # Adding a custom function to compute the modulus\n",
    "    def mod(vec): # Note: This still assumes that the vector is in the form : [(int, float), (int, float), ...]\n",
    "        return np.sqrt(sum(x[1]**2 for x in vec))\n",
    "\n",
    "    return dot(vec_1, vec_2)/(mod(vec_1) * mod(vec_2))"
   ]
  },
  {
   "cell_type": "code",
   "execution_count": 26,
   "metadata": {
    "deletable": false,
    "editable": false,
    "nbgrader": {
     "cell_type": "code",
     "checksum": "d22a4a7325ba7815a808390388f534a1",
     "grade": true,
     "grade_id": "cell-b25d04ed6b79fd35",
     "locked": true,
     "points": 2,
     "schema_version": 3,
     "solution": false,
     "task": false
    }
   },
   "outputs": [
    {
     "name": "stdout",
     "output_type": "stream",
     "text": [
      "vectors: ([(1, 0.2), (2, 0.3), (3, 0.4)], [(1, 0.2), (2, 0.7), (3, 0.4)])\n",
      "dot product = 0.41000000000000003\n",
      "cosine similarity = 0.9165587597202866\n"
     ]
    }
   ],
   "source": [
    "##### Function check\n",
    "print(f'vectors: {(example_vec_1,example_vec_2)}')\n",
    "print(f'dot product = {dot(example_vec_1,example_vec_2)}')\n",
    "print(f'cosine similarity = {cosine_sim(example_vec_1,example_vec_2)}')\n",
    "##### "
   ]
  },
  {
   "cell_type": "code",
   "execution_count": 69,
   "metadata": {
    "deletable": false,
    "editable": false,
    "nbgrader": {
     "cell_type": "code",
     "checksum": "0744131724ce76b1b3f163b4bae5f700",
     "grade": true,
     "grade_id": "cell-ae3c4466866ace77",
     "locked": true,
     "points": 3,
     "schema_version": 3,
     "solution": false,
     "task": false
    }
   },
   "outputs": [],
   "source": [
    "#### Please do not change this. This cell is used for grading."
   ]
  },
  {
   "cell_type": "markdown",
   "metadata": {
    "deletable": false,
    "editable": false,
    "nbgrader": {
     "cell_type": "markdown",
     "checksum": "9b123f599f9ea372d14676e23f1c6a52",
     "grade": false,
     "grade_id": "cell-4b2534067c44fcdf",
     "locked": true,
     "schema_version": 3,
     "solution": false,
     "task": false
    }
   },
   "source": [
    "---\n",
    "### Section 6.2: LSI Retrieval (10 points)<a class=\"anchor\" id=\"lsi_retrieval\"></a>\n",
    "LSI retrieval is simply ranking the documents based on their cosine similarity to the query vector.\n",
    "First, let's write a parent class for vector-based retrieval models:"
   ]
  },
  {
   "cell_type": "code",
   "execution_count": 27,
   "metadata": {
    "deletable": false,
    "editable": false,
    "nbgrader": {
     "cell_type": "code",
     "checksum": "ecc111d58182570e2252b8ef5d6b02af",
     "grade": false,
     "grade_id": "cell-937936cea18711ee",
     "locked": true,
     "schema_version": 3,
     "solution": false,
     "task": false
    }
   },
   "outputs": [],
   "source": [
    "class VectorSpaceRetrievalModel:\n",
    "    \"\"\"\n",
    "        Parent class for Dense Vector Retrieval models\n",
    "    \"\"\"\n",
    "    def __init__(self, doc_repr):\n",
    "        \"\"\"\n",
    "            document_collection: \n",
    "                [\n",
    "                    (doc_id_1, [token 1, token 2, ...]), \n",
    "                    (doc_id_2, [token 1, token 2, ....]) \n",
    "                    ...\n",
    "                ]\n",
    "\n",
    "        \"\"\"\n",
    "        self.doc_repr = doc_repr\n",
    "        self.documents = [_[1] for _ in self.doc_repr]\n",
    "        \n",
    "        # construct a dictionary\n",
    "        self.dictionary = Dictionary(self.documents)\n",
    "        # Filter out words that occur less than 20 documents, or more than 50% of the documents.\n",
    "        self.dictionary.filter_extremes(no_below=10)\n",
    "        self.corpus = [self.dictionary.doc2bow(doc) for doc in self.documents]\n",
    "    \n",
    "        # Make a index to word dictionary.\n",
    "        temp = self.dictionary[0]  # This is only to \"load\" the dictionary.\n",
    "        self.id2word = self.dictionary.id2token\n",
    "        \n",
    "        # this is set by the train_model function\n",
    "        self.model = None\n",
    "        \n",
    "        \n",
    "    def vectorize_documents(self):\n",
    "        \"\"\"\n",
    "            Returns a doc_id -> vector dictionary\n",
    "        \"\"\"\n",
    "        vectors = {}\n",
    "        for (doc_id, _), cc in zip(self.doc_repr, self.corpus):\n",
    "            vectors[doc_id] = self.model[cc]\n",
    "        return vectors\n",
    "\n",
    "    def vectorize_query(self, query):\n",
    "        # Note the use of config_2 here!\n",
    "        query = process_text(query, **config_2)\n",
    "        query_vector = self.dictionary.doc2bow(query)\n",
    "        return self.model[query_vector]\n",
    "    \n",
    "    def train_model(self):\n",
    "        \"\"\"\n",
    "            Trains a model and sets the 'self.model' variable. \n",
    "            Make sure to use the variables created in the __init__ method.\n",
    "            e.g the variables which may be useful: {corpus, dictionary, id2word}\n",
    "        \"\"\"\n",
    "        raise NotImplementedError()"
   ]
  },
  {
   "cell_type": "markdown",
   "metadata": {
    "deletable": false,
    "editable": false,
    "nbgrader": {
     "cell_type": "markdown",
     "checksum": "ff161eefd9b81b768cd6361bc1a502b0",
     "grade": false,
     "grade_id": "cell-704a18c2f80cd60c",
     "locked": true,
     "schema_version": 3,
     "solution": false,
     "task": false
    }
   },
   "source": [
    "---\n",
    "**Implementation (5 points):**\n",
    "Implement the `train_model` method in the following class (note that this is only one line of code in `gensim`!). Ensure that the parameters defined in the `__init__` method are not changed, and are *used in the `train_method` function*. Normally, the hyperaparameter space will be searched using grid search / other methods - in this assignment we have provided the hyperparameters for you.\n",
    "\n",
    "The last two lines of code train an LSI model on the list of documents which have been stemmed, lower-cased and have stopwords removed. "
   ]
  },
  {
   "cell_type": "code",
   "execution_count": 28,
   "metadata": {
    "deletable": false,
    "nbgrader": {
     "cell_type": "code",
     "checksum": "0e90eedc27c248bc1ae050518a46a46c",
     "grade": false,
     "grade_id": "cell-307682c9089f15d6",
     "locked": false,
     "schema_version": 3,
     "solution": true,
     "task": false
    }
   },
   "outputs": [],
   "source": [
    "# TODO: Implement this! (5 points)\n",
    "class LsiRetrievalModel(VectorSpaceRetrievalModel):\n",
    "    def __init__(self, doc_repr):\n",
    "        super().__init__(doc_repr)\n",
    "        \n",
    "        self.num_topics = 100\n",
    "        self.chunksize = 2000\n",
    "    \n",
    "    def train_model(self):\n",
    "        # YOUR CODE HERE\n",
    "        self.model = LsiModel(corpus = self.corpus, id2word = self.id2word, num_topics = self.num_topics, chunksize = self.chunksize)"
   ]
  },
  {
   "cell_type": "code",
   "execution_count": 29,
   "metadata": {
    "collapsed": true,
    "deletable": false,
    "editable": false,
    "jupyter": {
     "outputs_hidden": true
    },
    "nbgrader": {
     "cell_type": "code",
     "checksum": "00399cfe13d60cb4beed1271e36004b0",
     "grade": true,
     "grade_id": "cell-5ce512650c1b2dfb",
     "locked": true,
     "points": 0,
     "schema_version": 3,
     "solution": false,
     "task": false
    },
    "tags": []
   },
   "outputs": [
    {
     "name": "stderr",
     "output_type": "stream",
     "text": [
      "2022-02-14 19:04:51,444 : INFO : adding document #0 to Dictionary(0 unique tokens: [])\n",
      "2022-02-14 19:04:52,033 : INFO : built Dictionary(5937 unique tokens: ['-', 'algebra', 'intern', 'languag', 'preliminari']...) from 3204 documents (total 115969 corpus positions)\n",
      "2022-02-14 19:04:52,046 : INFO : discarding 4740 tokens: [('repeat', 8), ('glossari', 7), ('inspect', 8), ('uncol', 2), ('rung', 9), ('secant', 2), ('.', 1603), ('acceler', 6), ('diverg', 3), ('induc', 9)]...\n",
      "2022-02-14 19:04:52,046 : INFO : keeping 1197 tokens which were in no less than 10 and no more than 1602 (=50.0%) documents\n",
      "2022-02-14 19:04:52,070 : INFO : resulting dictionary: Dictionary(1197 unique tokens: ['-', 'algebra', 'intern', 'languag', 'preliminari']...)\n",
      "2022-02-14 19:04:52,233 : INFO : using serial LSI version on this node\n",
      "2022-02-14 19:04:52,234 : INFO : updating model with new documents\n",
      "2022-02-14 19:04:52,235 : INFO : preparing a new chunk of documents\n",
      "2022-02-14 19:04:52,300 : INFO : using 100 extra samples and 2 power iterations\n",
      "2022-02-14 19:04:52,311 : INFO : 1st phase: constructing (1197, 200) action matrix\n",
      "2022-02-14 19:04:52,393 : INFO : orthonormalizing (1197, 200) action matrix\n",
      "2022-02-14 19:04:52,641 : INFO : 2nd phase: running dense svd on (200, 2000) matrix\n",
      "2022-02-14 19:04:52,792 : INFO : computing the final decomposition\n",
      "2022-02-14 19:04:52,793 : INFO : keeping 100 factors (discarding 13.447% of energy spectrum)\n",
      "2022-02-14 19:04:52,845 : INFO : processed documents up to #2000\n",
      "2022-02-14 19:04:52,860 : INFO : topic #0(152.127): 0.741*\",\" + 0.342*\"-\" + 0.211*\"system\" + 0.204*\"program\" + 0.192*\"comput\" + 0.146*\"(\" + 0.127*\"languag\" + 0.108*\")\" + 0.084*\"gener\" + 0.083*\"data\"\n",
      "2022-02-14 19:04:52,864 : INFO : topic #1(60.600): -0.607*\"(\" + -0.434*\")\" + -0.366*\"algorithm\" + -0.300*\"-\" + 0.237*\",\" + 0.213*\"system\" + 0.132*\"comput\" + -0.096*\"[\" + 0.093*\"program\" + -0.084*\"])\"\n",
      "2022-02-14 19:04:52,868 : INFO : topic #2(57.438): -0.744*\"-\" + 0.452*\",\" + -0.263*\"system\" + 0.214*\"(\" + 0.166*\")\" + -0.107*\"time\" + -0.105*\"program\" + 0.094*\"algorithm\" + -0.068*\"comput\" + -0.067*\"share\"\n",
      "2022-02-14 19:04:52,869 : INFO : topic #3(48.370): 0.483*\"system\" + 0.375*\"program\" + 0.367*\"comput\" + -0.363*\"-\" + -0.308*\",\" + 0.212*\"(\" + 0.168*\")\" + 0.147*\"algorithm\" + -0.144*\"languag\" + 0.119*\"time\"\n",
      "2022-02-14 19:04:52,873 : INFO : topic #4(45.710): -0.489*\"comput\" + 0.475*\"languag\" + 0.428*\"program\" + -0.238*\"method\" + -0.141*\"problem\" + 0.121*\"system\" + 0.109*\")\" + -0.107*\"equat\" + -0.100*\"algorithm\" + 0.099*\"(\"\n",
      "2022-02-14 19:04:52,874 : INFO : preparing a new chunk of documents\n",
      "2022-02-14 19:04:52,894 : INFO : using 100 extra samples and 2 power iterations\n",
      "2022-02-14 19:04:52,896 : INFO : 1st phase: constructing (1197, 200) action matrix\n",
      "2022-02-14 19:04:52,915 : INFO : orthonormalizing (1197, 200) action matrix\n",
      "2022-02-14 19:04:53,100 : INFO : 2nd phase: running dense svd on (200, 1204) matrix\n",
      "2022-02-14 19:04:53,186 : INFO : computing the final decomposition\n",
      "2022-02-14 19:04:53,187 : INFO : keeping 100 factors (discarding 14.020% of energy spectrum)\n",
      "2022-02-14 19:04:53,201 : INFO : merging projections: (1197, 100) + (1197, 100)\n",
      "2022-02-14 19:04:53,318 : INFO : keeping 100 factors (discarding 8.166% of energy spectrum)\n",
      "2022-02-14 19:04:53,358 : INFO : processed documents up to #3204\n",
      "2022-02-14 19:04:53,360 : INFO : topic #0(225.136): 0.759*\",\" + 0.337*\"-\" + 0.196*\"system\" + 0.186*\"program\" + 0.166*\"comput\" + 0.139*\"(\" + 0.103*\")\" + 0.103*\"algorithm\" + 0.099*\"languag\" + 0.087*\"time\"\n",
      "2022-02-14 19:04:53,362 : INFO : topic #1(87.805): 0.613*\"-\" + -0.399*\",\" + 0.399*\"(\" + 0.326*\"algorithm\" + 0.293*\")\" + -0.129*\"system\" + -0.107*\"program\" + 0.085*\"method\" + 0.077*\"time\" + 0.062*\"1\"\n",
      "2022-02-14 19:04:53,370 : INFO : topic #2(81.909): 0.550*\"-\" + -0.434*\"(\" + 0.355*\"system\" + -0.321*\")\" + -0.291*\",\" + -0.266*\"algorithm\" + 0.146*\"program\" + 0.123*\"comput\" + 0.078*\"time\" + -0.064*\"[\"\n",
      "2022-02-14 19:04:53,371 : INFO : topic #3(72.433): -0.693*\"program\" + 0.339*\",\" + 0.279*\"-\" + -0.251*\"(\" + -0.221*\"system\" + -0.214*\"languag\" + -0.204*\")\" + -0.160*\"comput\" + -0.099*\"data\" + -0.056*\"execut\"\n",
      "2022-02-14 19:04:53,374 : INFO : topic #4(68.523): -0.673*\"system\" + 0.453*\"program\" + 0.254*\"languag\" + 0.212*\"-\" + -0.179*\"comput\" + -0.165*\"(\" + -0.121*\")\" + -0.115*\"model\" + 0.101*\",\" + -0.098*\"algorithm\"\n"
     ]
    },
    {
     "data": {
      "text/plain": [
       "[(0, 0.01521577931454359),\n",
       " (1, -0.01626275461308258),\n",
       " (2, -0.0001690532308202498),\n",
       " (3, -0.001854342624730197),\n",
       " (4, -0.009421083100801586),\n",
       " (5, -0.004770592682909104),\n",
       " (6, 0.027152115936075395),\n",
       " (7, 0.016674664161440977),\n",
       " (8, -0.03186113721439203),\n",
       " (9, -0.0006731480907632495),\n",
       " (10, 0.0021122807525159135),\n",
       " (11, -0.01758458969291987),\n",
       " (12, -5.399052018212509e-05),\n",
       " (13, 0.001259678664674367),\n",
       " (14, 0.004304424653450803),\n",
       " (15, 0.005304916276149901),\n",
       " (16, 0.005273195148738719),\n",
       " (17, 0.0025658791738457087),\n",
       " (18, -0.01731787010391677),\n",
       " (19, 0.018968443274529668),\n",
       " (20, -0.012077939711226233),\n",
       " (21, -0.013957466821957474),\n",
       " (22, 0.04718189970289058),\n",
       " (23, 0.025461211459789933),\n",
       " (24, -0.01177046136988252),\n",
       " (25, -0.008730355534278414),\n",
       " (26, 0.004589952985862978),\n",
       " (27, 0.07647654197017854),\n",
       " (28, -0.06139892376715448),\n",
       " (29, 0.03285929894263727),\n",
       " (30, 0.04050565420417829),\n",
       " (31, 0.04693188123414037),\n",
       " (32, -0.07516461347123614),\n",
       " (33, 0.045293073173536556),\n",
       " (34, -0.02545736637072635),\n",
       " (35, 0.06477149506945985),\n",
       " (36, 0.03630924913958581),\n",
       " (37, -0.0042527246461257),\n",
       " (38, -0.06175466561809831),\n",
       " (39, 0.02809307342214027),\n",
       " (40, -0.0443065199802645),\n",
       " (41, -0.036702732139649405),\n",
       " (42, 0.015247130827081401),\n",
       " (43, 0.02550912026231335),\n",
       " (44, 0.020381810181705654),\n",
       " (45, -0.05455899045736163),\n",
       " (46, -0.0076964915959759055),\n",
       " (47, 0.010547765085509286),\n",
       " (48, 0.011538985985975341),\n",
       " (49, 0.0331661770104843),\n",
       " (50, 0.019015018944648784),\n",
       " (51, 0.04781306819328383),\n",
       " (52, -0.006953558148391171),\n",
       " (53, 0.007261404690405825),\n",
       " (54, 0.04368824096887257),\n",
       " (55, 0.02088015770886023),\n",
       " (56, 0.0009386984591730901),\n",
       " (57, -0.011894852483514115),\n",
       " (58, -0.014741142400229848),\n",
       " (59, 0.039609855579583325),\n",
       " (60, -0.01139991355288137),\n",
       " (61, -0.04494028132289533),\n",
       " (62, 0.017053736924788534),\n",
       " (63, 0.0006133207147102429),\n",
       " (64, 0.05508059656593709),\n",
       " (65, 0.06705894467287318),\n",
       " (66, 0.0046497596617890175),\n",
       " (67, -0.058404844978640534),\n",
       " (68, -0.00947641931991363),\n",
       " (69, 0.03877836250584784),\n",
       " (70, -0.0553228088258307),\n",
       " (71, -0.018259565209105592),\n",
       " (72, 0.0859726202671733),\n",
       " (73, -0.05171756585877325),\n",
       " (74, -0.04659436761590616),\n",
       " (75, 0.00222804650849652),\n",
       " (76, 0.017225096915985366),\n",
       " (77, 0.018811017692597135),\n",
       " (78, 0.04007695673885386),\n",
       " (79, 0.03989554768211089),\n",
       " (80, 0.004052289566967172),\n",
       " (81, -0.027506097702667535),\n",
       " (82, 0.05850309508995676),\n",
       " (83, 0.02667537608859223),\n",
       " (84, 0.012365344025542875),\n",
       " (85, -0.023907928971709964),\n",
       " (86, -0.04707003912000772),\n",
       " (87, -0.04695157818853449),\n",
       " (88, 0.056524247328858065),\n",
       " (89, 0.06616663938213951),\n",
       " (90, -0.01669426860705741),\n",
       " (91, 0.03886658595577212),\n",
       " (92, -0.04327902012029193),\n",
       " (93, -0.009900368999563952),\n",
       " (94, -0.0456954119234953),\n",
       " (95, -0.0029035554364957618),\n",
       " (96, -0.03583138166987613),\n",
       " (97, 0.011073289724240844),\n",
       " (98, -0.005819567529219464),\n",
       " (99, 0.030188713182318767)]"
      ]
     },
     "execution_count": 29,
     "metadata": {},
     "output_type": "execute_result"
    }
   ],
   "source": [
    "##### Function check\n",
    "lsi = LsiRetrievalModel(doc_repr_2)\n",
    "lsi.train_model()\n",
    "\n",
    "# you can now get an LSI vector for a given query in the following way:\n",
    "lsi.vectorize_query(\"report\")\n",
    "##### "
   ]
  },
  {
   "cell_type": "markdown",
   "metadata": {
    "deletable": false,
    "editable": false,
    "nbgrader": {
     "cell_type": "markdown",
     "checksum": "7116bb9f576c5bb04934e1d59c51d729",
     "grade": false,
     "grade_id": "cell-4c5eeb557b4fca2f",
     "locked": true,
     "points": 5,
     "schema_version": 3,
     "solution": false,
     "task": true
    }
   },
   "source": [
    "\\#### Please do not change this. This cell is used for grading."
   ]
  },
  {
   "cell_type": "markdown",
   "metadata": {
    "deletable": false,
    "editable": false,
    "nbgrader": {
     "cell_type": "markdown",
     "checksum": "26e2ff3c413745e633d99f66c041d6b1",
     "grade": false,
     "grade_id": "cell-c4e50296cd17a555",
     "locked": true,
     "schema_version": 3,
     "solution": false,
     "task": false
    },
    "tags": []
   },
   "source": [
    "---\n",
    "**Implementation (5 points):**\n",
    " Next, implement a basic ranking class for vector space retrieval (used for all semantic methods): "
   ]
  },
  {
   "cell_type": "code",
   "execution_count": 30,
   "metadata": {
    "deletable": false,
    "nbgrader": {
     "cell_type": "code",
     "checksum": "1a8389d2f0635c3405e2b0b27ed9f327",
     "grade": false,
     "grade_id": "cell-250515d288e80cdc",
     "locked": false,
     "schema_version": 3,
     "solution": true,
     "task": false
    }
   },
   "outputs": [],
   "source": [
    "# TODO: Implement this! (5 points)\n",
    "class DenseRetrievalRanker:\n",
    "    def __init__(self, vsrm, similarity_fn):\n",
    "        \"\"\"\n",
    "            vsrm: instance of `VectorSpaceRetrievalModel`\n",
    "            similarity_fn: function instance that takes in two vectors \n",
    "                            and returns a similarity score e.g cosine_sim defined earlier\n",
    "        \"\"\"\n",
    "        self.vsrm = vsrm \n",
    "        self.vectorized_documents = self.vsrm.vectorize_documents()\n",
    "        self.similarity_fn = similarity_fn\n",
    "    \n",
    "    def _compute_sim(self, query_vector):\n",
    "        \"\"\"\n",
    "            Compute the similarity of `query_vector` to documents in \n",
    "            `self.vectorized_documents` using `self.similarity_fn`\n",
    "            Returns a list of (doc_id, score) tuples\n",
    "        \"\"\"\n",
    "        result = []\n",
    "        # +++++++++ NOTE ++++++++\n",
    "        # So something goes wrong here. The thing is that the document with ID=235 is empty and\n",
    "        # consequently the dot product doesnt work (complains about shapes)\n",
    "        \n",
    "        for doc_id, doc in self.vectorized_documents.items():\n",
    "            print(doc_id)\n",
    "            result.append((doc_id, self.similarity_fn(query_vector, doc)))\n",
    "    \n",
    "    def search(self, query):\n",
    "        scores = self._compute_sim(self.vsrm.vectorize_query(query))\n",
    "        scores.sort(key=lambda _:-_[1])\n",
    "        return scores "
   ]
  },
  {
   "cell_type": "code",
   "execution_count": 31,
   "metadata": {
    "deletable": false,
    "editable": false,
    "nbgrader": {
     "cell_type": "code",
     "checksum": "f237dd1ef6c1783c06797f4b514421f5",
     "grade": true,
     "grade_id": "cell-b73068b3e77a8e31",
     "locked": true,
     "points": 0,
     "schema_version": 3,
     "solution": false,
     "task": false
    }
   },
   "outputs": [
    {
     "name": "stdout",
     "output_type": "stream",
     "text": [
      "1\n",
      "2\n",
      "3\n",
      "4\n",
      "5\n",
      "6\n",
      "7\n",
      "8\n",
      "9\n",
      "10\n",
      "11\n",
      "12\n",
      "13\n",
      "14\n",
      "15\n",
      "16\n",
      "17\n",
      "18\n",
      "19\n",
      "20\n",
      "21\n",
      "22\n",
      "23\n",
      "24\n",
      "25\n",
      "26\n",
      "27\n",
      "28\n",
      "29\n",
      "30\n",
      "31\n",
      "32\n",
      "33\n",
      "34\n",
      "35\n",
      "36\n",
      "37\n",
      "38\n",
      "39\n",
      "40\n",
      "41\n",
      "42\n",
      "43\n",
      "44\n",
      "45\n",
      "46\n",
      "47\n",
      "48\n",
      "49\n",
      "50\n",
      "51\n",
      "52\n",
      "53\n",
      "54\n",
      "55\n",
      "56\n",
      "57\n",
      "58\n",
      "59\n",
      "60\n",
      "61\n",
      "62\n",
      "63\n",
      "64\n",
      "65\n",
      "66\n",
      "67\n",
      "68\n",
      "69\n",
      "70\n",
      "71\n",
      "72\n",
      "73\n",
      "74\n",
      "75\n",
      "76\n",
      "77\n",
      "78\n",
      "79\n",
      "80\n",
      "81\n",
      "82\n",
      "83\n",
      "84\n",
      "85\n",
      "86\n",
      "87\n",
      "88\n",
      "89\n",
      "90\n",
      "91\n",
      "92\n",
      "93\n",
      "94\n",
      "95\n",
      "96\n",
      "97\n",
      "98\n",
      "99\n",
      "100\n",
      "101\n",
      "102\n",
      "103\n",
      "104\n",
      "105\n",
      "106\n",
      "107\n",
      "108\n",
      "109\n",
      "110\n",
      "111\n",
      "112\n",
      "113\n",
      "114\n",
      "115\n",
      "116\n",
      "117\n",
      "118\n",
      "119\n",
      "120\n",
      "121\n",
      "122\n",
      "123\n",
      "124\n",
      "125\n",
      "126\n",
      "127\n",
      "128\n",
      "129\n",
      "130\n",
      "131\n",
      "132\n",
      "133\n",
      "134\n",
      "135\n",
      "136\n",
      "137\n",
      "138\n",
      "139\n",
      "140\n",
      "141\n",
      "142\n",
      "143\n",
      "144\n",
      "145\n",
      "146\n",
      "147\n",
      "148\n",
      "149\n",
      "150\n",
      "151\n",
      "152\n",
      "153\n",
      "154\n",
      "155\n",
      "156\n",
      "157\n",
      "158\n",
      "159\n",
      "160\n",
      "161\n",
      "162\n",
      "163\n",
      "164\n",
      "165\n",
      "166\n",
      "167\n",
      "168\n",
      "169\n",
      "170\n",
      "171\n",
      "172\n",
      "173\n",
      "174\n",
      "175\n",
      "176\n",
      "177\n",
      "178\n",
      "179\n",
      "180\n",
      "181\n",
      "182\n",
      "183\n",
      "184\n",
      "185\n",
      "186\n",
      "187\n",
      "188\n",
      "189\n",
      "190\n",
      "191\n",
      "192\n",
      "193\n",
      "194\n",
      "195\n",
      "196\n",
      "197\n",
      "198\n",
      "199\n",
      "200\n",
      "201\n",
      "202\n",
      "203\n",
      "204\n",
      "205\n",
      "206\n",
      "207\n",
      "208\n",
      "209\n",
      "210\n",
      "211\n",
      "212\n",
      "213\n",
      "214\n",
      "215\n",
      "216\n",
      "217\n",
      "218\n",
      "219\n",
      "220\n",
      "221\n",
      "222\n",
      "223\n",
      "224\n",
      "225\n",
      "226\n",
      "227\n",
      "228\n",
      "229\n",
      "230\n",
      "231\n",
      "232\n",
      "233\n",
      "234\n",
      "235\n"
     ]
    },
    {
     "ename": "ValueError",
     "evalue": "shapes (100,) and (0,) not aligned: 100 (dim 0) != 0 (dim 0)",
     "output_type": "error",
     "traceback": [
      "\u001b[0;31m---------------------------------------------------------------------------\u001b[0m",
      "\u001b[0;31mValueError\u001b[0m                                Traceback (most recent call last)",
      "\u001b[0;32m<ipython-input-31-f7937a7915c7>\u001b[0m in \u001b[0;36m<module>\u001b[0;34m\u001b[0m\n\u001b[1;32m      1\u001b[0m \u001b[0;31m##### Function check\u001b[0m\u001b[0;34m\u001b[0m\u001b[0;34m\u001b[0m\u001b[0m\n\u001b[1;32m      2\u001b[0m \u001b[0mdrm_lsi\u001b[0m \u001b[0;34m=\u001b[0m \u001b[0mDenseRetrievalRanker\u001b[0m\u001b[0;34m(\u001b[0m\u001b[0mlsi\u001b[0m\u001b[0;34m,\u001b[0m \u001b[0mcosine_sim\u001b[0m\u001b[0;34m)\u001b[0m\u001b[0;34m\u001b[0m\u001b[0m\n\u001b[0;32m----> 3\u001b[0;31m \u001b[0mdrm_lsi\u001b[0m\u001b[0;34m.\u001b[0m\u001b[0msearch\u001b[0m\u001b[0;34m(\u001b[0m\u001b[0;34m\"report\"\u001b[0m\u001b[0;34m)\u001b[0m\u001b[0;34m[\u001b[0m\u001b[0;34m:\u001b[0m\u001b[0;36m5\u001b[0m\u001b[0;34m]\u001b[0m\u001b[0;34m\u001b[0m\u001b[0m\n\u001b[0m\u001b[1;32m      4\u001b[0m \u001b[0;31m#####\u001b[0m\u001b[0;34m\u001b[0m\u001b[0;34m\u001b[0m\u001b[0m\n",
      "\u001b[0;32m<ipython-input-30-7683c147427a>\u001b[0m in \u001b[0;36msearch\u001b[0;34m(self, query)\u001b[0m\n\u001b[1;32m     27\u001b[0m \u001b[0;34m\u001b[0m\u001b[0m\n\u001b[1;32m     28\u001b[0m     \u001b[0;32mdef\u001b[0m \u001b[0msearch\u001b[0m\u001b[0;34m(\u001b[0m\u001b[0mself\u001b[0m\u001b[0;34m,\u001b[0m \u001b[0mquery\u001b[0m\u001b[0;34m)\u001b[0m\u001b[0;34m:\u001b[0m\u001b[0;34m\u001b[0m\u001b[0m\n\u001b[0;32m---> 29\u001b[0;31m         \u001b[0mscores\u001b[0m \u001b[0;34m=\u001b[0m \u001b[0mself\u001b[0m\u001b[0;34m.\u001b[0m\u001b[0m_compute_sim\u001b[0m\u001b[0;34m(\u001b[0m\u001b[0mself\u001b[0m\u001b[0;34m.\u001b[0m\u001b[0mvsrm\u001b[0m\u001b[0;34m.\u001b[0m\u001b[0mvectorize_query\u001b[0m\u001b[0;34m(\u001b[0m\u001b[0mquery\u001b[0m\u001b[0;34m)\u001b[0m\u001b[0;34m)\u001b[0m\u001b[0;34m\u001b[0m\u001b[0m\n\u001b[0m\u001b[1;32m     30\u001b[0m         \u001b[0mscores\u001b[0m\u001b[0;34m.\u001b[0m\u001b[0msort\u001b[0m\u001b[0;34m(\u001b[0m\u001b[0mkey\u001b[0m\u001b[0;34m=\u001b[0m\u001b[0;32mlambda\u001b[0m \u001b[0m_\u001b[0m\u001b[0;34m:\u001b[0m\u001b[0;34m-\u001b[0m\u001b[0m_\u001b[0m\u001b[0;34m[\u001b[0m\u001b[0;36m1\u001b[0m\u001b[0;34m]\u001b[0m\u001b[0;34m)\u001b[0m\u001b[0;34m\u001b[0m\u001b[0m\n\u001b[1;32m     31\u001b[0m         \u001b[0;32mreturn\u001b[0m \u001b[0mscores\u001b[0m\u001b[0;34m\u001b[0m\u001b[0m\n",
      "\u001b[0;32m<ipython-input-30-7683c147427a>\u001b[0m in \u001b[0;36m_compute_sim\u001b[0;34m(self, query_vector)\u001b[0m\n\u001b[1;32m     24\u001b[0m         \u001b[0;32mfor\u001b[0m \u001b[0mdoc_id\u001b[0m\u001b[0;34m,\u001b[0m \u001b[0mdoc\u001b[0m \u001b[0;32min\u001b[0m \u001b[0mself\u001b[0m\u001b[0;34m.\u001b[0m\u001b[0mvectorized_documents\u001b[0m\u001b[0;34m.\u001b[0m\u001b[0mitems\u001b[0m\u001b[0;34m(\u001b[0m\u001b[0;34m)\u001b[0m\u001b[0;34m:\u001b[0m\u001b[0;34m\u001b[0m\u001b[0m\n\u001b[1;32m     25\u001b[0m             \u001b[0mprint\u001b[0m\u001b[0;34m(\u001b[0m\u001b[0mdoc_id\u001b[0m\u001b[0;34m)\u001b[0m\u001b[0;34m\u001b[0m\u001b[0m\n\u001b[0;32m---> 26\u001b[0;31m             \u001b[0mresult\u001b[0m\u001b[0;34m.\u001b[0m\u001b[0mappend\u001b[0m\u001b[0;34m(\u001b[0m\u001b[0;34m(\u001b[0m\u001b[0mdoc_id\u001b[0m\u001b[0;34m,\u001b[0m \u001b[0mself\u001b[0m\u001b[0;34m.\u001b[0m\u001b[0msimilarity_fn\u001b[0m\u001b[0;34m(\u001b[0m\u001b[0mquery_vector\u001b[0m\u001b[0;34m,\u001b[0m \u001b[0mdoc\u001b[0m\u001b[0;34m)\u001b[0m\u001b[0;34m)\u001b[0m\u001b[0;34m)\u001b[0m\u001b[0;34m\u001b[0m\u001b[0m\n\u001b[0m\u001b[1;32m     27\u001b[0m \u001b[0;34m\u001b[0m\u001b[0m\n\u001b[1;32m     28\u001b[0m     \u001b[0;32mdef\u001b[0m \u001b[0msearch\u001b[0m\u001b[0;34m(\u001b[0m\u001b[0mself\u001b[0m\u001b[0;34m,\u001b[0m \u001b[0mquery\u001b[0m\u001b[0;34m)\u001b[0m\u001b[0;34m:\u001b[0m\u001b[0;34m\u001b[0m\u001b[0m\n",
      "\u001b[0;32m<ipython-input-25-1d3e2ee44a1c>\u001b[0m in \u001b[0;36mcosine_sim\u001b[0;34m(vec_1, vec_2)\u001b[0m\n\u001b[1;32m     19\u001b[0m         \u001b[0;32mreturn\u001b[0m \u001b[0mnp\u001b[0m\u001b[0;34m.\u001b[0m\u001b[0msqrt\u001b[0m\u001b[0;34m(\u001b[0m\u001b[0msum\u001b[0m\u001b[0;34m(\u001b[0m\u001b[0mx\u001b[0m\u001b[0;34m[\u001b[0m\u001b[0;36m1\u001b[0m\u001b[0;34m]\u001b[0m\u001b[0;34m**\u001b[0m\u001b[0;36m2\u001b[0m \u001b[0;32mfor\u001b[0m \u001b[0mx\u001b[0m \u001b[0;32min\u001b[0m \u001b[0mvec\u001b[0m\u001b[0;34m)\u001b[0m\u001b[0;34m)\u001b[0m\u001b[0;34m\u001b[0m\u001b[0m\n\u001b[1;32m     20\u001b[0m \u001b[0;34m\u001b[0m\u001b[0m\n\u001b[0;32m---> 21\u001b[0;31m     \u001b[0;32mreturn\u001b[0m \u001b[0mdot\u001b[0m\u001b[0;34m(\u001b[0m\u001b[0mvec_1\u001b[0m\u001b[0;34m,\u001b[0m \u001b[0mvec_2\u001b[0m\u001b[0;34m)\u001b[0m\u001b[0;34m/\u001b[0m\u001b[0;34m(\u001b[0m\u001b[0mmod\u001b[0m\u001b[0;34m(\u001b[0m\u001b[0mvec_1\u001b[0m\u001b[0;34m)\u001b[0m \u001b[0;34m*\u001b[0m \u001b[0mmod\u001b[0m\u001b[0;34m(\u001b[0m\u001b[0mvec_2\u001b[0m\u001b[0;34m)\u001b[0m\u001b[0;34m)\u001b[0m\u001b[0;34m\u001b[0m\u001b[0m\n\u001b[0m",
      "\u001b[0;32m<ipython-input-25-1d3e2ee44a1c>\u001b[0m in \u001b[0;36mdot\u001b[0;34m(vec_1, vec_2)\u001b[0m\n\u001b[1;32m      9\u001b[0m     \"\"\"\n\u001b[1;32m     10\u001b[0m     \u001b[0;31m# YOUR CODE HERE\u001b[0m\u001b[0;34m\u001b[0m\u001b[0;34m\u001b[0m\u001b[0m\n\u001b[0;32m---> 11\u001b[0;31m     \u001b[0;32mreturn\u001b[0m \u001b[0mnp\u001b[0m\u001b[0;34m.\u001b[0m\u001b[0mdot\u001b[0m\u001b[0;34m(\u001b[0m\u001b[0;34m[\u001b[0m\u001b[0mx\u001b[0m\u001b[0;34m[\u001b[0m\u001b[0;36m1\u001b[0m\u001b[0;34m]\u001b[0m \u001b[0;32mfor\u001b[0m \u001b[0mx\u001b[0m \u001b[0;32min\u001b[0m \u001b[0mvec_1\u001b[0m\u001b[0;34m]\u001b[0m\u001b[0;34m,\u001b[0m \u001b[0;34m[\u001b[0m\u001b[0my\u001b[0m\u001b[0;34m[\u001b[0m\u001b[0;36m1\u001b[0m\u001b[0;34m]\u001b[0m \u001b[0;32mfor\u001b[0m \u001b[0my\u001b[0m \u001b[0;32min\u001b[0m \u001b[0mvec_2\u001b[0m\u001b[0;34m]\u001b[0m\u001b[0;34m)\u001b[0m\u001b[0;34m\u001b[0m\u001b[0m\n\u001b[0m\u001b[1;32m     12\u001b[0m \u001b[0;34m\u001b[0m\u001b[0m\n\u001b[1;32m     13\u001b[0m \u001b[0;31m# TODO: Implement this! (3 points)\u001b[0m\u001b[0;34m\u001b[0m\u001b[0;34m\u001b[0m\u001b[0m\n",
      "\u001b[0;32m<__array_function__ internals>\u001b[0m in \u001b[0;36mdot\u001b[0;34m(*args, **kwargs)\u001b[0m\n",
      "\u001b[0;31mValueError\u001b[0m: shapes (100,) and (0,) not aligned: 100 (dim 0) != 0 (dim 0)"
     ]
    }
   ],
   "source": [
    "##### Function check\n",
    "drm_lsi = DenseRetrievalRanker(lsi, cosine_sim)\n",
    "drm_lsi.search(\"report\")[:5]\n",
    "##### "
   ]
  },
  {
   "cell_type": "markdown",
   "metadata": {
    "deletable": false,
    "editable": false,
    "nbgrader": {
     "cell_type": "markdown",
     "checksum": "5b3f19fdcaa585d263706d5a26038799",
     "grade": false,
     "grade_id": "cell-034c755a6502b868",
     "locked": true,
     "points": 5,
     "schema_version": 3,
     "solution": false,
     "task": true
    }
   },
   "source": [
    "\\#### Please do not change this. This cell is used for grading."
   ]
  },
  {
   "cell_type": "markdown",
   "metadata": {
    "deletable": false,
    "editable": false,
    "nbgrader": {
     "cell_type": "markdown",
     "checksum": "dcafef6e037033c46304b914f7c78bdf",
     "grade": false,
     "grade_id": "cell-d1df23f497d5ed6b",
     "locked": true,
     "schema_version": 3,
     "solution": false,
     "task": false
    }
   },
   "source": [
    "---\n",
    "Now, you can test your LSI model in the following cell: try finding queries which are lexically different to documents, but semantically similar - does LSI work well for these queries?!"
   ]
  },
  {
   "cell_type": "code",
   "execution_count": null,
   "metadata": {
    "deletable": false,
    "editable": false,
    "nbgrader": {
     "cell_type": "code",
     "checksum": "11734bc7674377b340ad51297a8e8bb5",
     "grade": false,
     "grade_id": "cell-efd1d08dfc04ec3e",
     "locked": true,
     "schema_version": 3,
     "solution": false,
     "task": false
    }
   },
   "outputs": [],
   "source": [
    "# test your LSI model\n",
    "search_fn = drm_lsi.search\n",
    "\n",
    "text = widgets.Text(description=\"Search Bar\", width=200)\n",
    "display(text)\n",
    "\n",
    "def make_results_2(query, search_fn):\n",
    "    results = []\n",
    "    for doc_id, score in search_fn(query):\n",
    "        highlight = highlight_text(docs_by_id[doc_id], query)\n",
    "        if len(highlight.strip()) == 0:\n",
    "            highlight = docs_by_id[doc_id]\n",
    "        results.append(ResultRow(doc_id, highlight, score))\n",
    "    return results\n",
    "\n",
    "def handle_submit_2(sender):\n",
    "    print(f\"Searching for: '{sender.value}' (SEARCH FN: {search_fn})\")\n",
    "    \n",
    "    results = make_results_2(sender.value, search_fn)\n",
    "    \n",
    "    # display only the top 5\n",
    "    results = results[:5]\n",
    "    \n",
    "    body = \"\"\n",
    "    for idx, r in enumerate(results):\n",
    "        body += f\"<li>Document #{r.doc_id}({r.score}): {r.snippet}</li>\"\n",
    "    display(HTML(f\"<ul>{body}</ul>\"))\n",
    "    \n",
    "\n",
    "text.on_submit(handle_submit_2)"
   ]
  },
  {
   "cell_type": "markdown",
   "metadata": {
    "deletable": false,
    "editable": false,
    "nbgrader": {
     "cell_type": "markdown",
     "checksum": "d074ce1ca48384cdda78742741c938be",
     "grade": false,
     "grade_id": "cell-3a86cef264d8f6cf",
     "locked": true,
     "schema_version": 3,
     "solution": false,
     "task": false
    }
   },
   "source": [
    "---\n",
    "## Section 7: Latent Dirichlet Allocation (LDA) (10 points) <a class=\"anchor\" id=\"lda\"></a>\n",
    "\n",
    "[Back to Part 2](#part2)\n",
    "\n",
    "The specifics of LDA is out of the scope of this assignment, but we will use the `gensim` implementation to perform search using LDA over our small document collection. The key thing to remember is that LDA, unlike LSI, outputs a topic **distribution**, not a vector. With that in mind, let's first define a similarity measure.\n"
   ]
  },
  {
   "cell_type": "markdown",
   "metadata": {
    "deletable": false,
    "editable": false,
    "nbgrader": {
     "cell_type": "markdown",
     "checksum": "db01092373b18f0c9dfed1bb17db4ad9",
     "grade": false,
     "grade_id": "cell-6b78ad22c2d60ba7",
     "locked": true,
     "schema_version": 3,
     "solution": false,
     "task": false
    }
   },
   "source": [
    "---\n",
    "### Section 7.1: Jenson-Shannon divergence (5 points) <a class=\"anchor\" id=\"js_sim\"></a>\n",
    "\n",
    "The Jenson-Shannon divergence is a symmetric and finite measure on two probability distributions (unlike the KL, which is neither). For identical distributions, the JSD is equal to 0, and since our code uses 0 as irrelevant and higher scores as relevant, we use `(1 - JSD)` as the score or 'similarity' in our setup\n",
    "\n",
    "**Note**: the JSD is bounded to \\[0,1\\] only if we use log base 2. So please ensure that you're using `np.log2` instead of `np.log`"
   ]
  },
  {
   "cell_type": "code",
   "execution_count": null,
   "metadata": {
    "deletable": false,
    "nbgrader": {
     "cell_type": "code",
     "checksum": "a579e6cd7a24a3516bc9a84528b392d3",
     "grade": false,
     "grade_id": "cell-d2376a85a4841e98",
     "locked": false,
     "schema_version": 3,
     "solution": true,
     "task": false
    }
   },
   "outputs": [],
   "source": [
    "## TODO: Implement this! (5 points)\n",
    "def jenson_shannon_divergence(vec_1, vec_2, assert_prob=False):\n",
    "    \"\"\"\n",
    "        Computes the Jensen-Shannon divergence between two probability distributions. \n",
    "        NOTE: DO NOT RETURN 1 - JSD here, that is handled by the next function which is already implemented! \n",
    "        The inputs are *gensim* vectors - same as the vectors for the cosine_sim function\n",
    "        assert_prob is a flag that checks if the inputs are proper probability distributions \n",
    "            i.e they sum to 1 and are positive - use this to check your inputs if needed. \n",
    "                (This is optional to implement, but recommended - \n",
    "                you can the default to False to save a few ms off the runtime)\n",
    "    \"\"\"\n",
    "    vec_1_probs = [x[1] for x in vec_1] # extracting the probabily values\n",
    "    vec_2_probs = [y[1] for y in vec_2] # extracting the probabily values\n",
    "    \n",
    "    # if flag=True, assert that the inputs are proper probability distributions\n",
    "    if assert_prob:\n",
    "        assert np.sum(vec_1_probs) == 1 and all(vec_1_probs > 0), \"Values of vector1 must sum to 1 and be positive\"\n",
    "        assert np.sum(vec_2_probs) == 1 and all(vec_2_probs > 0), \"Values of vector2 must sum to 1 and be positive\"\n",
    "    \n",
    "    \n",
    "\n",
    "def jenson_shannon_sim(vec_1, vec_2, assert_prob=False):\n",
    "    return 1 - jenson_shannon_divergence(vec_1, vec_2)\n",
    "\n"
   ]
  },
  {
   "cell_type": "code",
   "execution_count": null,
   "metadata": {
    "deletable": false,
    "editable": false,
    "nbgrader": {
     "cell_type": "code",
     "checksum": "ab340aa941c9fb5c89b3fd0a9139e246",
     "grade": true,
     "grade_id": "cell-487c6d2933f38053",
     "locked": true,
     "points": 5,
     "schema_version": 3,
     "solution": false,
     "task": false
    }
   },
   "outputs": [],
   "source": [
    "##### Function check\n",
    "vec_1 = [(1, 0.3), (2, 0.4), (3, 0.3)]\n",
    "vec_2 = [(1, 0.1), (2, 0.7), (3, 0.2)]\n",
    "jenson_shannon_sim(vec_1, vec_2, assert_prob=True)\n",
    "##### "
   ]
  },
  {
   "cell_type": "markdown",
   "metadata": {
    "deletable": false,
    "editable": false,
    "nbgrader": {
     "cell_type": "markdown",
     "checksum": "0a1583a5f23e3390038331cce67f5d8e",
     "grade": false,
     "grade_id": "cell-4535cc67a50b80fa",
     "locked": true,
     "schema_version": 3,
     "solution": false,
     "task": false
    }
   },
   "source": [
    "---\n",
    "### Section 7.2: LDA retrieval (5 points) <a class=\"anchor\" id=\"lda_ret\"></a>\n",
    "\n",
    "Implement the `train_model` method in the following class (note that this is only one line of code in `gensim`!). Ensure that the parameters defined in the `__init__` method are not changed, and are *used in the `train_method` function*. You do not need to set this. Normally, the hyperaparameter space will be searched using grid search / other methods. Note that training the LDA model might take some time\n",
    "\n",
    "The last two lines of code train an LDA model on the list of documents which have been stemmed, lower-cased and have stopwords removed. "
   ]
  },
  {
   "cell_type": "code",
   "execution_count": 62,
   "metadata": {
    "deletable": false,
    "nbgrader": {
     "cell_type": "code",
     "checksum": "27de8e4fa85536bb396b73bfc51b3f50",
     "grade": false,
     "grade_id": "cell-021a48dff4a8bb91",
     "locked": false,
     "schema_version": 3,
     "solution": true,
     "task": false
    }
   },
   "outputs": [],
   "source": [
    "# TODO: Implement this! (5 points)\n",
    "class LdaRetrievalModel(VectorSpaceRetrievalModel):\n",
    "    def __init__(self, doc_repr):\n",
    "        super().__init__(doc_repr)\n",
    "        \n",
    "        # use these parameters in the train_model method\n",
    "        self.num_topics = 100\n",
    "        self.chunksize = 2000\n",
    "        self.passes = 20\n",
    "        self.iterations = 400\n",
    "        self.eval_every = 10\n",
    "        # this is need to get full vectors\n",
    "        self.minimum_probability=0.0\n",
    "        self.alpha='auto'\n",
    "        self.eta='auto'\n",
    "\n",
    "    \n",
    "    def train_model(self):\n",
    "        # YOUR CODE HERE\n",
    "        self.model = LdaModel(corpus = self.corpus, id2word = self.id2word, \n",
    "                              num_topics = self.num_topics, chunksize = self.chunksize, passes = self.passes,\n",
    "                              iterations = self.iterations, eval_every = self.eval_every,\n",
    "                              minimum_probability = self.minimum_probability, alpha = self.alpha, eta = self.eta)"
   ]
  },
  {
   "cell_type": "code",
   "execution_count": 63,
   "metadata": {
    "collapsed": true,
    "deletable": false,
    "editable": false,
    "jupyter": {
     "outputs_hidden": true
    },
    "nbgrader": {
     "cell_type": "code",
     "checksum": "be70fcb8098d0b6ce64cd2a10e6a05b7",
     "grade": true,
     "grade_id": "cell-86750b715f0345fd",
     "locked": true,
     "points": 0,
     "schema_version": 3,
     "solution": false,
     "task": false
    },
    "tags": []
   },
   "outputs": [
    {
     "name": "stderr",
     "output_type": "stream",
     "text": [
      "2022-02-14 19:42:20,920 : INFO : adding document #0 to Dictionary(0 unique tokens: [])\n",
      "2022-02-14 19:42:21,450 : INFO : built Dictionary(5937 unique tokens: ['-', 'algebra', 'intern', 'languag', 'preliminari']...) from 3204 documents (total 115969 corpus positions)\n",
      "2022-02-14 19:42:21,470 : INFO : discarding 4740 tokens: [('repeat', 8), ('glossari', 7), ('inspect', 8), ('uncol', 2), ('rung', 9), ('secant', 2), ('.', 1603), ('acceler', 6), ('diverg', 3), ('induc', 9)]...\n",
      "2022-02-14 19:42:21,472 : INFO : keeping 1197 tokens which were in no less than 10 and no more than 1602 (=50.0%) documents\n",
      "2022-02-14 19:42:21,478 : INFO : resulting dictionary: Dictionary(1197 unique tokens: ['-', 'algebra', 'intern', 'languag', 'preliminari']...)\n",
      "2022-02-14 19:42:21,632 : INFO : using autotuned alpha, starting with [0.01, 0.01, 0.01, 0.01, 0.01, 0.01, 0.01, 0.01, 0.01, 0.01, 0.01, 0.01, 0.01, 0.01, 0.01, 0.01, 0.01, 0.01, 0.01, 0.01, 0.01, 0.01, 0.01, 0.01, 0.01, 0.01, 0.01, 0.01, 0.01, 0.01, 0.01, 0.01, 0.01, 0.01, 0.01, 0.01, 0.01, 0.01, 0.01, 0.01, 0.01, 0.01, 0.01, 0.01, 0.01, 0.01, 0.01, 0.01, 0.01, 0.01, 0.01, 0.01, 0.01, 0.01, 0.01, 0.01, 0.01, 0.01, 0.01, 0.01, 0.01, 0.01, 0.01, 0.01, 0.01, 0.01, 0.01, 0.01, 0.01, 0.01, 0.01, 0.01, 0.01, 0.01, 0.01, 0.01, 0.01, 0.01, 0.01, 0.01, 0.01, 0.01, 0.01, 0.01, 0.01, 0.01, 0.01, 0.01, 0.01, 0.01, 0.01, 0.01, 0.01, 0.01, 0.01, 0.01, 0.01, 0.01, 0.01, 0.01]\n",
      "2022-02-14 19:42:21,634 : INFO : using serial LDA version on this node\n",
      "2022-02-14 19:42:21,667 : INFO : running online (multi-pass) LDA training, 100 topics, 20 passes over the supplied corpus of 3204 documents, updating model once every 2000 documents, evaluating perplexity every 3204 documents, iterating 400x with a convergence threshold of 0.001000\n",
      "2022-02-14 19:42:21,668 : INFO : PROGRESS: pass 0, at document #2000/3204\n",
      "2022-02-14 19:42:23,617 : INFO : optimized alpha [0.009821888, 0.0097923055, 0.009802374, 0.009771759, 0.009844584, 0.009956506, 0.009808118, 0.009880675, 0.009834013, 0.009813167, 0.009838849, 0.009782214, 0.009792536, 0.009776797, 0.009789056, 0.009771641, 0.009818278, 0.009813221, 0.009761498, 0.009802931, 0.009802507, 0.009818027, 0.010100718, 0.009839174, 0.009823556, 0.009787207, 0.009916805, 0.009834435, 0.009818517, 0.009932931, 0.009839339, 0.009832323, 0.009870306, 0.009787413, 0.009787242, 0.0097873695, 0.009807487, 0.009813229, 0.009813053, 0.009818339, 0.009833945, 0.00977706, 0.009802564, 0.009854688, 0.009844513, 0.009818375, 0.00981841, 0.009880375, 0.009892074, 0.009896257, 0.0097924145, 0.009849419, 0.009823455, 0.009797616, 0.010058445, 0.009812969, 0.009843479, 0.0098181395, 0.00983363, 0.009833765, 0.009813576, 0.009818106, 0.0098079, 0.009771794, 0.009959187, 0.009812884, 0.009782127, 0.009826663, 0.009792469, 0.0098183425, 0.009787186, 0.009787095, 0.009761452, 0.009776851, 0.009920674, 0.00981272, 0.009875578, 0.009844626, 0.009818468, 0.009823002, 0.009859863, 0.009766647, 0.009849833, 0.009897005, 0.0098182885, 0.009792499, 0.009885897, 0.009817805, 0.009818512, 0.009787394, 0.009776929, 0.00990211, 0.009859949, 0.009807777, 0.0097977985, 0.0098445015, 0.009818141, 0.009792488, 0.00982859, 0.009792425]\n",
      "2022-02-14 19:42:23,621 : INFO : merging changes from 2000 documents into a model of 3204 documents\n",
      "2022-02-14 19:42:23,662 : INFO : topic #18 (0.010): 0.089*\"charact\" + 0.089*\"system\" + 0.089*\"input\" + 0.053*\"output\" + 0.053*\",\" + 0.053*\"graphic\" + 0.036*\"display\" + 0.036*\"scope\" + 0.036*\"comput\" + 0.018*\"oper\"\n",
      "2022-02-14 19:42:23,665 : INFO : topic #72 (0.010): 0.109*\"format\" + 0.073*\"specif\" + 0.073*\"fortran\" + 0.037*\"convers\" + 0.037*\"output\" + 0.037*\"input\" + 0.037*\"type\" + 0.037*\"programm\" + 0.037*\"/\" + 0.037*\"discuss\"\n",
      "2022-02-14 19:42:23,666 : INFO : topic #5 (0.010): 0.070*\"algorithm\" + 0.066*\"(\" + 0.053*\")\" + 0.031*\"-\" + 0.026*\",\" + 0.016*\"number\" + 0.014*\"function\" + 0.013*\"machin\" + 0.013*\"[\" + 0.012*\"present\"\n",
      "2022-02-14 19:42:23,671 : INFO : topic #54 (0.010): 0.078*\",\" + 0.030*\"program\" + 0.027*\"-\" + 0.025*\"(\" + 0.023*\"comput\" + 0.019*\"system\" + 0.017*\")\" + 0.011*\"languag\" + 0.010*\";\" + 0.010*\"problem\"\n",
      "2022-02-14 19:42:23,674 : INFO : topic #22 (0.010): 0.093*\",\" + 0.033*\"system\" + 0.029*\"-\" + 0.015*\"program\" + 0.015*\"languag\" + 0.014*\"data\" + 0.014*\"comput\" + 0.012*\"process\" + 0.010*\"(\" + 0.009*\"oper\"\n",
      "2022-02-14 19:42:23,680 : INFO : topic diff=83.027939, rho=1.000000\n",
      "2022-02-14 19:42:24,869 : INFO : -7.271 per-word bound, 154.4 perplexity estimate based on a held-out corpus of 1204 documents with 49783 words\n",
      "2022-02-14 19:42:24,870 : INFO : PROGRESS: pass 0, at document #3204/3204\n",
      "2022-02-14 19:42:25,919 : INFO : optimized alpha [0.009739407, 0.009703794, 0.009673112, 0.009748933, 0.009939583, 0.010179128, 0.009919729, 0.010047126, 0.009999322, 0.010148427, 0.009861648, 0.009736138, 0.009896895, 0.009741247, 0.009989598, 0.00973582, 0.010249215, 0.0098189125, 0.0097848615, 0.010056061, 0.009825528, 0.009882164, 0.010694224, 0.010081847, 0.009900692, 0.009710774, 0.009981493, 0.010248777, 0.0098780235, 0.010160191, 0.010171954, 0.009866494, 0.009959215, 0.010091652, 0.01003813, 0.009833424, 0.009824853, 0.009925357, 0.00989401, 0.009847471, 0.009851348, 0.010046539, 0.009930393, 0.01010865, 0.010129391, 0.009842072, 0.009984199, 0.009944755, 0.010069796, 0.0103486255, 0.009932408, 0.009873032, 0.009747245, 0.00989726, 0.010579594, 0.009818148, 0.009988452, 0.009871031, 0.009808425, 0.010072784, 0.00995551, 0.009788473, 0.0099194795, 0.010003027, 0.010108589, 0.00987643, 0.009729951, 0.009866286, 0.009881023, 0.010054082, 0.009832016, 0.009738739, 0.009685467, 0.009765344, 0.009918223, 0.009717845, 0.010083065, 0.009731319, 0.010030277, 0.00995676, 0.010097087, 0.009956891, 0.009987209, 0.010123916, 0.010088747, 0.00989113, 0.010199484, 0.009968268, 0.010037041, 0.009986208, 0.009864667, 0.010513215, 0.009972045, 0.009724793, 0.009909987, 0.009951827, 0.00993474, 0.010026202, 0.009869327, 0.009997331]\n",
      "2022-02-14 19:42:25,925 : INFO : merging changes from 1204 documents into a model of 3204 documents\n",
      "2022-02-14 19:42:25,936 : INFO : topic #1 (0.010): 0.109*\"algorithm\" + 0.081*\"express\" + 0.066*\"'\" + 0.056*\"arithmet\" + 0.048*\",\" + 0.047*\"(\" + 0.043*\"minim\" + 0.036*\"accumul\" + 0.031*\")\" + 0.030*\"frequenc\"\n",
      "2022-02-14 19:42:25,948 : INFO : topic #25 (0.010): 0.100*\"control\" + 0.074*\"practic\" + 0.073*\"manag\" + 0.052*\"theoret\" + 0.036*\"govern\" + 0.025*\"data\" + 0.025*\",\" + 0.024*\"paper\" + 0.023*\"bound\" + 0.023*\"rang\"\n",
      "2022-02-14 19:42:25,952 : INFO : topic #91 (0.011): 0.063*\",\" + 0.030*\"-\" + 0.022*\"tree\" + 0.020*\"time\" + 0.019*\"(\" + 0.017*\"search\" + 0.017*\")\" + 0.017*\"optim\" + 0.016*\"node\" + 0.016*\"program\"\n",
      "2022-02-14 19:42:25,971 : INFO : topic #54 (0.011): 0.088*\",\" + 0.031*\"program\" + 0.024*\"comput\" + 0.022*\"-\" + 0.021*\"(\" + 0.020*\"system\" + 0.016*\";\" + 0.014*\")\" + 0.011*\"paper\" + 0.010*\"problem\"\n",
      "2022-02-14 19:42:25,972 : INFO : topic #22 (0.011): 0.104*\",\" + 0.039*\"system\" + 0.027*\"-\" + 0.021*\"data\" + 0.014*\"design\" + 0.013*\"languag\" + 0.013*\"program\" + 0.012*\"process\" + 0.011*\"comput\" + 0.011*\"oper\"\n",
      "2022-02-14 19:42:25,974 : INFO : topic diff=0.741162, rho=0.707107\n",
      "2022-02-14 19:42:25,984 : INFO : PROGRESS: pass 1, at document #2000/3204\n",
      "2022-02-14 19:42:27,116 : INFO : optimized alpha [0.009675113, 0.009722813, 0.009785732, 0.009699642, 0.009906153, 0.010164942, 0.00997066, 0.0099794, 0.0099455975, 0.010231882, 0.009866044, 0.009732036, 0.009879073, 0.00979132, 0.009908847, 0.010017077, 0.010162195, 0.009739943, 0.0099166725, 0.009954992, 0.00977477, 0.009827416, 0.01067112, 0.010077368, 0.00984381, 0.0096647665, 0.009912585, 0.010187601, 0.009858481, 0.0100987805, 0.010166664, 0.009862088, 0.009864245, 0.010051758, 0.009998757, 0.0097746905, 0.0105525125, 0.009865178, 0.009820857, 0.009814882, 0.009806014, 0.010017672, 0.0099118175, 0.010050072, 0.010016195, 0.009828249, 0.009957494, 0.009982972, 0.010025382, 0.010263077, 0.009916604, 0.009809136, 0.009709278, 0.009882413, 0.010549669, 0.0098539665, 0.010358347, 0.009853874, 0.0097926995, 0.010130458, 0.009977659, 0.009676071, 0.009946292, 0.010030035, 0.0100374445, 0.009861359, 0.009738797, 0.009812101, 0.009839715, 0.010052546, 0.009856124, 0.010002196, 0.00970628, 0.009756954, 0.009900717, 0.00975194, 0.009974166, 0.009822101, 0.009981374, 0.009900385, 0.010017278, 0.009939838, 0.009899364, 0.01004134, 0.010065525, 0.009839079, 0.010120029, 0.009975262, 0.009958606, 0.009956585, 0.010044218, 0.010392456, 0.0099215945, 0.009650345, 0.009931723, 0.009966977, 0.009860658, 0.010051637, 0.009805157, 0.009943339]\n",
      "2022-02-14 19:42:27,122 : INFO : merging changes from 2000 documents into a model of 3204 documents\n",
      "2022-02-14 19:42:27,130 : INFO : topic #25 (0.010): 0.115*\"control\" + 0.047*\"manag\" + 0.045*\"data\" + 0.043*\"practic\" + 0.031*\"govern\" + 0.028*\"theoret\" + 0.027*\"paper\" + 0.026*\"commun\" + 0.024*\",\" + 0.022*\"iii\"\n",
      "2022-02-14 19:42:27,131 : INFO : topic #61 (0.010): 0.058*\"gener\" + 0.040*\"tree\" + 0.039*\"/\" + 0.035*\"restrict\" + 0.023*\"algorithm\" + 0.022*\",\" + 0.020*\"compil\" + 0.020*\"cpu\" + 0.019*\"grammar\" + 0.018*\"decis\"\n",
      "2022-02-14 19:42:27,132 : INFO : topic #54 (0.011): 0.092*\",\" + 0.033*\"program\" + 0.025*\"-\" + 0.023*\"comput\" + 0.022*\"(\" + 0.021*\"system\" + 0.016*\";\" + 0.015*\")\" + 0.010*\"problem\" + 0.010*\"paper\"\n",
      "2022-02-14 19:42:27,133 : INFO : topic #36 (0.011): 0.241*\"(\" + 0.221*\")\" + 0.211*\"algorithm\" + 0.034*\"matrix\" + 0.033*\"function\" + 0.032*\"[\" + 0.031*\"polynomi\" + 0.020*\"])\" + 0.019*\"interpol\" + 0.013*\"solut\"\n",
      "2022-02-14 19:42:27,134 : INFO : topic #22 (0.011): 0.108*\",\" + 0.041*\"system\" + 0.028*\"-\" + 0.022*\"data\" + 0.015*\"languag\" + 0.013*\"program\" + 0.013*\"process\" + 0.012*\"design\" + 0.012*\"oper\" + 0.012*\"comput\"\n",
      "2022-02-14 19:42:27,135 : INFO : topic diff=0.314573, rho=0.526900\n",
      "2022-02-14 19:42:28,379 : INFO : -6.894 per-word bound, 118.9 perplexity estimate based on a held-out corpus of 1204 documents with 49783 words\n",
      "2022-02-14 19:42:28,380 : INFO : PROGRESS: pass 1, at document #3204/3204\n",
      "2022-02-14 19:42:29,443 : INFO : optimized alpha [0.009761167, 0.00978522, 0.009834669, 0.009866271, 0.010026081, 0.010447517, 0.01011091, 0.010077103, 0.010091018, 0.010549118, 0.009963191, 0.009774664, 0.010044679, 0.009861444, 0.010080756, 0.010247439, 0.010489488, 0.00977729, 0.010034045, 0.010175933, 0.009798058, 0.009993773, 0.010982848, 0.01027683, 0.009959253, 0.009766436, 0.010010162, 0.010469839, 0.009912507, 0.010159802, 0.010412936, 0.010024115, 0.00987475, 0.010352411, 0.010306647, 0.009845093, 0.011013396, 0.010019995, 0.0099084815, 0.009886036, 0.009825221, 0.0101934485, 0.010112683, 0.010236304, 0.010180342, 0.009934582, 0.0102141425, 0.010057699, 0.010126636, 0.010579239, 0.0100429, 0.009850899, 0.009726342, 0.010080485, 0.010748024, 0.009910781, 0.010472423, 0.009951628, 0.009879743, 0.010314024, 0.010141367, 0.009701307, 0.010117558, 0.010331228, 0.010063669, 0.0099308435, 0.00981105, 0.009913046, 0.0099635245, 0.010319013, 0.009976653, 0.01005525, 0.009849432, 0.00987544, 0.009944879, 0.009697142, 0.010066905, 0.009792079, 0.010189332, 0.010110045, 0.010231011, 0.010161271, 0.010015645, 0.010112283, 0.010358678, 0.009965819, 0.010323854, 0.010193602, 0.010180112, 0.010172187, 0.010232269, 0.010712399, 0.0099836085, 0.009700588, 0.010099325, 0.010163415, 0.00999645, 0.010333184, 0.009854855, 0.010194012]\n",
      "2022-02-14 19:42:29,452 : INFO : merging changes from 1204 documents into a model of 3204 documents\n",
      "2022-02-14 19:42:29,493 : INFO : topic #61 (0.010): 0.067*\"restrict\" + 0.061*\"gener\" + 0.060*\"tree\" + 0.057*\"/\" + 0.054*\"cpu\" + 0.024*\"insert\" + 0.021*\"condit\" + 0.020*\"compil\" + 0.019*\",\" + 0.018*\"direct\"\n",
      "2022-02-14 19:42:29,498 : INFO : topic #93 (0.010): 0.075*\"program\" + 0.056*\"consum\" + 0.049*\"correct\" + 0.047*\"flexibl\" + 0.047*\"pdp\" + 0.046*\"debug\" + 0.030*\"packag\" + 0.027*\",\" + 0.025*\"techniqu\" + 0.023*\"difficult\"\n",
      "2022-02-14 19:42:29,500 : INFO : topic #91 (0.011): 0.076*\",\" + 0.034*\"-\" + 0.028*\"tree\" + 0.024*\"time\" + 0.024*\"optim\" + 0.021*\"node\" + 0.020*\"search\" + 0.019*\"averag\" + 0.016*\"(\" + 0.015*\"program\"\n",
      "2022-02-14 19:42:29,501 : INFO : topic #22 (0.011): 0.114*\",\" + 0.047*\"system\" + 0.027*\"-\" + 0.025*\"data\" + 0.019*\"design\" + 0.013*\"languag\" + 0.013*\"oper\" + 0.013*\"user\" + 0.013*\"process\" + 0.012*\"program\"\n",
      "2022-02-14 19:42:29,502 : INFO : topic #36 (0.011): 0.273*\"(\" + 0.257*\")\" + 0.210*\"algorithm\" + 0.033*\"function\" + 0.031*\"[\" + 0.026*\"matrix\" + 0.022*\"polynomi\" + 0.014*\"solut\" + 0.014*\"order\" + 0.012*\"interpol\"\n",
      "2022-02-14 19:42:29,504 : INFO : topic diff=0.437145, rho=0.526900\n",
      "2022-02-14 19:42:29,521 : INFO : PROGRESS: pass 2, at document #2000/3204\n",
      "2022-02-14 19:42:30,517 : INFO : optimized alpha [0.0097653875, 0.009864186, 0.0099858465, 0.009868434, 0.010010563, 0.010414444, 0.010193805, 0.010015503, 0.010076379, 0.010676429, 0.010016487, 0.009816069, 0.0100895455, 0.00992902, 0.010011175, 0.010618835, 0.010418637, 0.009721331, 0.010182614, 0.010106626, 0.009766536, 0.009968226, 0.010969521, 0.010281129, 0.009914012, 0.009733206, 0.009961651, 0.010422732, 0.009891545, 0.010142869, 0.010415877, 0.010052115, 0.009803216, 0.010357875, 0.010297401, 0.009829012, 0.011997833, 0.009987646, 0.009865666, 0.0098697115, 0.009796121, 0.010190835, 0.010130487, 0.010210177, 0.010087554, 0.009948439, 0.010219224, 0.010165141, 0.010115926, 0.010512415, 0.010071118, 0.00980783, 0.00973353, 0.010144684, 0.010719854, 0.009982543, 0.010946361, 0.009971963, 0.009947419, 0.0103934435, 0.010210495, 0.009619083, 0.010157013, 0.010381707, 0.010002899, 0.009938609, 0.009893878, 0.009881935, 0.009955253, 0.0103589855, 0.010030573, 0.010373107, 0.009908765, 0.009886321, 0.009953368, 0.00975571, 0.009969841, 0.009921536, 0.010192615, 0.010077415, 0.010173432, 0.010163778, 0.0099504525, 0.0100337155, 0.010354883, 0.009933865, 0.01028889, 0.010253162, 0.010130744, 0.010223603, 0.0104895905, 0.010604369, 0.00994485, 0.009673147, 0.010148747, 0.010243442, 0.009933699, 0.010385104, 0.009820761, 0.010201664]\n",
      "2022-02-14 19:42:30,523 : INFO : merging changes from 2000 documents into a model of 3204 documents\n",
      "2022-02-14 19:42:30,532 : INFO : topic #61 (0.010): 0.066*\"gener\" + 0.059*\"restrict\" + 0.049*\"/\" + 0.047*\"tree\" + 0.035*\"cpu\" + 0.025*\"compil\" + 0.023*\"direct\" + 0.022*\",\" + 0.021*\"grammar\" + 0.017*\"insert\"\n",
      "2022-02-14 19:42:30,533 : INFO : topic #93 (0.010): 0.084*\"program\" + 0.074*\"debug\" + 0.047*\"flexibl\" + 0.036*\"consum\" + 0.034*\"correct\" + 0.033*\"packag\" + 0.032*\"techniqu\" + 0.030*\",\" + 0.029*\"pdp\" + 0.024*\"tape\"\n",
      "2022-02-14 19:42:30,534 : INFO : topic #56 (0.011): 0.174*\"algorithm\" + 0.164*\"[\" + 0.149*\"(\" + 0.133*\"])\" + 0.047*\"permut\" + 0.021*\"gener\" + 0.020*\"normal\" + 0.019*\"g6\" + 0.017*\"-\" + 0.016*\")\"\n",
      "2022-02-14 19:42:30,535 : INFO : topic #22 (0.011): 0.118*\",\" + 0.048*\"system\" + 0.028*\"-\" + 0.025*\"data\" + 0.017*\"design\" + 0.014*\"process\" + 0.014*\"languag\" + 0.014*\"oper\" + 0.013*\"user\" + 0.012*\"program\"\n",
      "2022-02-14 19:42:30,536 : INFO : topic #36 (0.012): 0.291*\"(\" + 0.280*\")\" + 0.218*\"algorithm\" + 0.030*\"function\" + 0.024*\"polynomi\" + 0.022*\"matrix\" + 0.018*\"[\" + 0.011*\"interpol\" + 0.010*\"order\" + 0.009*\"solut\"\n",
      "2022-02-14 19:42:30,538 : INFO : topic diff=0.395671, rho=0.466151\n",
      "2022-02-14 19:42:31,717 : INFO : -6.773 per-word bound, 109.4 perplexity estimate based on a held-out corpus of 1204 documents with 49783 words\n",
      "2022-02-14 19:42:31,718 : INFO : PROGRESS: pass 2, at document #3204/3204\n",
      "2022-02-14 19:42:32,664 : INFO : optimized alpha [0.0099235, 0.009996125, 0.010094176, 0.010090478, 0.010121342, 0.010749412, 0.010330406, 0.010102971, 0.010221536, 0.011000364, 0.010142021, 0.009893168, 0.010248881, 0.010021993, 0.010148749, 0.010917016, 0.0106962165, 0.009790396, 0.010329862, 0.0103277415, 0.009830614, 0.01016696, 0.01118362, 0.010442702, 0.010028614, 0.009881172, 0.010076074, 0.010679391, 0.009959741, 0.010193683, 0.010664762, 0.010215611, 0.0097991675, 0.010652495, 0.01061087, 0.009907387, 0.012713234, 0.01016089, 0.009974962, 0.009956804, 0.009814601, 0.0103594065, 0.010357181, 0.010432594, 0.0102497935, 0.010085767, 0.010509162, 0.010258622, 0.010222014, 0.01080369, 0.010206826, 0.00983857, 0.009806951, 0.010381753, 0.010836491, 0.010032575, 0.0110649755, 0.010082461, 0.010078715, 0.010499932, 0.010388564, 0.009681168, 0.010305673, 0.010668867, 0.0100475075, 0.010035504, 0.010019586, 0.00999549, 0.010089127, 0.010634599, 0.010161012, 0.010432901, 0.010105376, 0.010007556, 0.010013025, 0.009742722, 0.01003766, 0.009913799, 0.010402356, 0.010280503, 0.010392449, 0.010373744, 0.010081847, 0.01011768, 0.010654845, 0.010054816, 0.010474732, 0.010512495, 0.010356584, 0.010472511, 0.01069388, 0.01087839, 0.010012536, 0.00974922, 0.01032601, 0.010491924, 0.010066663, 0.010658148, 0.0098737795, 0.010430172]\n",
      "2022-02-14 19:42:32,671 : INFO : merging changes from 1204 documents into a model of 3204 documents\n",
      "2022-02-14 19:42:32,693 : INFO : topic #61 (0.010): 0.081*\"restrict\" + 0.067*\"gener\" + 0.061*\"/\" + 0.060*\"tree\" + 0.060*\"cpu\" + 0.026*\"direct\" + 0.024*\"compil\" + 0.024*\"aspect\" + 0.022*\"insert\" + 0.020*\",\"\n",
      "2022-02-14 19:42:32,719 : INFO : topic #75 (0.010): 0.172*\"translat\" + 0.100*\"write\" + 0.057*\"syntax\" + 0.056*\"section\" + 0.046*\"s22\" + 0.043*\"(\" + 0.042*\"wave\" + 0.041*\"polynomi\" + 0.038*\"squar\" + 0.035*\"orthogon\"\n",
      "2022-02-14 19:42:32,743 : INFO : topic #56 (0.011): 0.181*\"algorithm\" + 0.158*\"[\" + 0.139*\"(\" + 0.091*\"])\" + 0.071*\"permut\" + 0.028*\"normal\" + 0.021*\"count\" + 0.021*\"g6\" + 0.020*\"gener\" + 0.018*\")\"\n",
      "2022-02-14 19:42:32,744 : INFO : topic #22 (0.011): 0.120*\",\" + 0.052*\"system\" + 0.026*\"-\" + 0.026*\"data\" + 0.023*\"design\" + 0.016*\"user\" + 0.014*\"oper\" + 0.014*\"process\" + 0.013*\"base\" + 0.012*\"languag\"\n",
      "2022-02-14 19:42:32,747 : INFO : topic #36 (0.013): 0.313*\"(\" + 0.302*\")\" + 0.209*\"algorithm\" + 0.029*\"function\" + 0.018*\"polynomi\" + 0.018*\"[\" + 0.016*\"matrix\" + 0.011*\"order\" + 0.008*\"interpol\" + 0.008*\"find\"\n",
      "2022-02-14 19:42:32,748 : INFO : topic diff=0.531479, rho=0.466151\n",
      "2022-02-14 19:42:32,758 : INFO : PROGRESS: pass 3, at document #2000/3204\n",
      "2022-02-14 19:42:33,730 : INFO : optimized alpha [0.009982192, 0.010101854, 0.0102542825, 0.010138295, 0.010118235, 0.010720452, 0.010427968, 0.010056775, 0.010242787, 0.011123245, 0.010216398, 0.009948262, 0.010308907, 0.010089834, 0.010094572, 0.01131713, 0.0106295105, 0.009751297, 0.010475023, 0.010281058, 0.009829903, 0.010172978, 0.011165247, 0.0104326615, 0.009985629, 0.009869515, 0.010060387, 0.0106415, 0.009949921, 0.010194612, 0.010677143, 0.010244793, 0.00974556, 0.010668922, 0.010615545, 0.009906101, 0.013857125, 0.010146083, 0.009947084, 0.009967867, 0.009798286, 0.010358509, 0.0104028685, 0.0104273, 0.010169999, 0.010110914, 0.010524918, 0.010409668, 0.0102408035, 0.01074966, 0.010260389, 0.009809535, 0.009859852, 0.010506131, 0.010808679, 0.010145237, 0.011574622, 0.010128876, 0.010189452, 0.01059018, 0.010468923, 0.009629045, 0.01034766, 0.010717621, 0.00999835, 0.010053355, 0.010146517, 0.009995098, 0.010092123, 0.010673843, 0.010225044, 0.01073059, 0.010192995, 0.010025751, 0.010025647, 0.009817511, 0.009960246, 0.010047027, 0.010410878, 0.010260619, 0.010338865, 0.010394559, 0.010031567, 0.010049979, 0.010687404, 0.010055865, 0.01045111, 0.0105901295, 0.010330238, 0.010549413, 0.010962923, 0.010773683, 0.009993414, 0.009735505, 0.010392347, 0.010598168, 0.010011998, 0.010708284, 0.009871454, 0.010460216]\n",
      "2022-02-14 19:42:33,738 : INFO : merging changes from 2000 documents into a model of 3204 documents\n",
      "2022-02-14 19:42:33,745 : INFO : topic #61 (0.010): 0.076*\"restrict\" + 0.075*\"gener\" + 0.053*\"/\" + 0.049*\"tree\" + 0.041*\"cpu\" + 0.031*\"direct\" + 0.027*\"compil\" + 0.022*\"aspect\" + 0.021*\",\" + 0.021*\"grammar\"\n",
      "2022-02-14 19:42:33,761 : INFO : topic #32 (0.010): 0.058*\",\" + 0.057*\"system\" + 0.035*\"oper\" + 0.027*\"model\" + 0.023*\"perform\" + 0.022*\"page\" + 0.022*\"number\" + 0.020*\"inform\" + 0.018*\"mathemat\" + 0.017*\"-\"\n",
      "2022-02-14 19:42:33,776 : INFO : topic #15 (0.011): 0.391*\"method\" + 0.099*\"squar\" + 0.097*\"note\" + 0.088*\"seri\" + 0.055*\"-\" + 0.051*\"'\" + 0.036*\"nonlinear\" + 0.024*\"solv\" + 0.024*\"gener\" + 0.023*\"equat\"\n",
      "2022-02-14 19:42:33,777 : INFO : topic #56 (0.012): 0.179*\"algorithm\" + 0.176*\"[\" + 0.151*\"(\" + 0.144*\"])\" + 0.047*\"permut\" + 0.021*\"gener\" + 0.020*\"normal\" + 0.018*\"g6\" + 0.016*\"-\" + 0.015*\"s14\"\n",
      "2022-02-14 19:42:33,779 : INFO : topic #36 (0.014): 0.321*\"(\" + 0.314*\")\" + 0.212*\"algorithm\" + 0.027*\"function\" + 0.018*\"polynomi\" + 0.016*\"matrix\" + 0.010*\"[\" + 0.009*\"order\" + 0.008*\"interpol\" + 0.006*\"find\"\n",
      "2022-02-14 19:42:33,780 : INFO : topic diff=0.531399, rho=0.422502\n",
      "2022-02-14 19:42:35,294 : INFO : -6.695 per-word bound, 103.6 perplexity estimate based on a held-out corpus of 1204 documents with 49783 words\n",
      "2022-02-14 19:42:35,295 : INFO : PROGRESS: pass 3, at document #3204/3204\n",
      "2022-02-14 19:42:36,356 : INFO : optimized alpha [0.010212537, 0.010247288, 0.010348662, 0.010349664, 0.0102266, 0.011068002, 0.010556257, 0.010147556, 0.010382342, 0.011439024, 0.010377962, 0.010021988, 0.010501852, 0.010188672, 0.010227576, 0.011666958, 0.010880501, 0.009825474, 0.010631177, 0.010483589, 0.009930499, 0.010415967, 0.011384887, 0.010579983, 0.010090507, 0.010043462, 0.010186541, 0.010869391, 0.010026702, 0.010248787, 0.010916883, 0.010401521, 0.009744215, 0.010966913, 0.010938553, 0.009988312, 0.014699119, 0.010304537, 0.010054238, 0.010047575, 0.0098162815, 0.010512536, 0.010644265, 0.010635054, 0.010332833, 0.010275599, 0.010825728, 0.0105125755, 0.010355964, 0.011028875, 0.010402428, 0.009863147, 0.009968823, 0.0107733505, 0.010915232, 0.010207981, 0.01164212, 0.010233382, 0.010362954, 0.010705309, 0.010668968, 0.009703524, 0.010494239, 0.011012694, 0.010082949, 0.010170217, 0.010264531, 0.010141279, 0.010235747, 0.010927486, 0.010332978, 0.010774628, 0.0104378695, 0.010136544, 0.010091354, 0.009840683, 0.010005354, 0.010067579, 0.010621575, 0.01045755, 0.010550595, 0.010601766, 0.010158757, 0.010159423, 0.010971826, 0.010162713, 0.010650679, 0.010896243, 0.01057037, 0.01079741, 0.011146244, 0.011009258, 0.010091126, 0.009812287, 0.01057293, 0.010865341, 0.010140753, 0.010955904, 0.009934529, 0.01065494]\n",
      "2022-02-14 19:42:36,363 : INFO : merging changes from 1204 documents into a model of 3204 documents\n",
      "2022-02-14 19:42:36,371 : INFO : topic #61 (0.010): 0.097*\"restrict\" + 0.070*\"gener\" + 0.063*\"/\" + 0.061*\"cpu\" + 0.057*\"tree\" + 0.034*\"direct\" + 0.030*\"aspect\" + 0.026*\"compil\" + 0.021*\"insert\" + 0.019*\"present\"\n",
      "2022-02-14 19:42:36,383 : INFO : topic #32 (0.010): 0.064*\"system\" + 0.059*\",\" + 0.043*\"oper\" + 0.031*\"model\" + 0.029*\"perform\" + 0.026*\"page\" + 0.025*\"number\" + 0.021*\"mathemat\" + 0.020*\"memori\" + 0.018*\"inform\"\n",
      "2022-02-14 19:42:36,385 : INFO : topic #56 (0.012): 0.184*\"algorithm\" + 0.167*\"[\" + 0.142*\"(\" + 0.107*\"])\" + 0.069*\"permut\" + 0.024*\"normal\" + 0.021*\"gener\" + 0.020*\"g6\" + 0.018*\"count\" + 0.015*\"s14\"\n",
      "2022-02-14 19:42:36,387 : INFO : topic #15 (0.012): 0.452*\"method\" + 0.091*\"note\" + 0.080*\"squar\" + 0.077*\"seri\" + 0.055*\"'\" + 0.051*\"-\" + 0.036*\"nonlinear\" + 0.024*\"solv\" + 0.024*\"gener\" + 0.018*\"comput\"\n",
      "2022-02-14 19:42:36,401 : INFO : topic #36 (0.015): 0.336*\"(\" + 0.326*\")\" + 0.204*\"algorithm\" + 0.026*\"function\" + 0.015*\"polynomi\" + 0.012*\"matrix\" + 0.010*\"order\" + 0.009*\"[\" + 0.007*\"find\" + 0.006*\"interpol\"\n",
      "2022-02-14 19:42:36,402 : INFO : topic diff=0.646820, rho=0.422502\n",
      "2022-02-14 19:42:36,412 : INFO : PROGRESS: pass 4, at document #2000/3204\n",
      "2022-02-14 19:42:37,406 : INFO : optimized alpha [0.010308497, 0.010365734, 0.010500179, 0.0104417335, 0.010233888, 0.011048818, 0.010649127, 0.01010762, 0.010422025, 0.01156626, 0.010471239, 0.010097126, 0.010575362, 0.010263312, 0.010185798, 0.012100558, 0.01082582, 0.009801859, 0.01076877, 0.010447769, 0.009935907, 0.010432442, 0.011364318, 0.010558041, 0.010051336, 0.010051652, 0.010192021, 0.010837237, 0.010016193, 0.010264529, 0.010933457, 0.0104260305, 0.009706577, 0.010997365, 0.0109534, 0.009997276, 0.015965706, 0.010300628, 0.010042517, 0.010066127, 0.00980638, 0.010515386, 0.010712699, 0.010635547, 0.01026122, 0.010320434, 0.010848912, 0.010668151, 0.010389572, 0.010978753, 0.010462061, 0.009843228, 0.010041421, 0.010921204, 0.010900868, 0.010318913, 0.01215608, 0.010296504, 0.010474049, 0.010799517, 0.010768278, 0.009665985, 0.010543002, 0.011071395, 0.010060296, 0.010192554, 0.0103950165, 0.010150474, 0.010250223, 0.0109732635, 0.010402462, 0.01105931, 0.010524818, 0.010161396, 0.010139181, 0.009941087, 0.009941927, 0.010201494, 0.010632645, 0.010442397, 0.010514629, 0.010642899, 0.010124574, 0.0101036765, 0.011015498, 0.010185711, 0.010640501, 0.010984205, 0.010552859, 0.010906191, 0.01142028, 0.010904958, 0.010083791, 0.009815671, 0.01065486, 0.010983142, 0.0101065, 0.011001277, 0.009933006, 0.010690419]\n",
      "2022-02-14 19:42:37,414 : INFO : merging changes from 2000 documents into a model of 3204 documents\n",
      "2022-02-14 19:42:37,424 : INFO : topic #61 (0.010): 0.090*\"restrict\" + 0.077*\"gener\" + 0.056*\"/\" + 0.046*\"tree\" + 0.044*\"cpu\" + 0.038*\"direct\" + 0.030*\"aspect\" + 0.025*\"compil\" + 0.020*\",\" + 0.019*\"grammar\"\n",
      "2022-02-14 19:42:37,425 : INFO : topic #32 (0.010): 0.059*\"system\" + 0.059*\",\" + 0.044*\"oper\" + 0.027*\"perform\" + 0.026*\"number\" + 0.025*\"model\" + 0.024*\"page\" + 0.019*\"inform\" + 0.019*\"mathemat\" + 0.017*\"memori\"\n",
      "2022-02-14 19:42:37,426 : INFO : topic #15 (0.012): 0.441*\"method\" + 0.095*\"note\" + 0.092*\"squar\" + 0.083*\"seri\" + 0.051*\"'\" + 0.050*\"-\" + 0.033*\"nonlinear\" + 0.024*\"gener\" + 0.021*\"solv\" + 0.021*\"comput\"\n",
      "2022-02-14 19:42:37,428 : INFO : topic #56 (0.012): 0.181*\"algorithm\" + 0.180*\"[\" + 0.154*\"(\" + 0.149*\"])\" + 0.047*\"permut\" + 0.021*\"gener\" + 0.018*\"normal\" + 0.018*\"g6\" + 0.017*\"function\" + 0.015*\"-\"\n",
      "2022-02-14 19:42:37,429 : INFO : topic #36 (0.016): 0.338*\"(\" + 0.332*\")\" + 0.207*\"algorithm\" + 0.025*\"function\" + 0.015*\"polynomi\" + 0.013*\"matrix\" + 0.009*\"order\" + 0.007*\"interpol\" + 0.006*\"find\" + 0.006*\"[\"\n",
      "2022-02-14 19:42:37,431 : INFO : topic diff=0.621289, rho=0.389191\n",
      "2022-02-14 19:42:38,898 : INFO : -6.638 per-word bound, 99.6 perplexity estimate based on a held-out corpus of 1204 documents with 49783 words\n",
      "2022-02-14 19:42:38,899 : INFO : PROGRESS: pass 4, at document #3204/3204\n",
      "2022-02-14 19:42:39,933 : INFO : optimized alpha [0.01057522, 0.010520973, 0.0105937775, 0.010656285, 0.010331275, 0.011383139, 0.0107647, 0.0101923365, 0.010534476, 0.011870727, 0.010686923, 0.010178545, 0.010782668, 0.01037151, 0.010312839, 0.012496979, 0.011056333, 0.009874493, 0.010889322, 0.01064642, 0.010029586, 0.010673044, 0.011534578, 0.010684479, 0.010158675, 0.010236561, 0.0103391195, 0.011063853, 0.010081195, 0.01036247, 0.011157281, 0.010575158, 0.009723018, 0.011295072, 0.011263957, 0.010103038, 0.016917005, 0.010454893, 0.010148642, 0.010137001, 0.009840149, 0.010672315, 0.010935299, 0.010836297, 0.010459559, 0.010500557, 0.011162982, 0.010777, 0.010530389, 0.011246815, 0.01063482, 0.009929025, 0.0101653645, 0.01120125, 0.011014273, 0.010369951, 0.012209221, 0.010410175, 0.01064913, 0.010930428, 0.010965657, 0.009757607, 0.010679111, 0.01134822, 0.010162333, 0.010307649, 0.010507595, 0.010312659, 0.010380474, 0.011214142, 0.010485562, 0.011093969, 0.010767952, 0.010270753, 0.010223473, 0.009965636, 0.0100078415, 0.010233028, 0.010849667, 0.010629194, 0.010722234, 0.010853369, 0.010259485, 0.010228949, 0.011307303, 0.010291742, 0.0108262785, 0.0112866, 0.010770211, 0.011163458, 0.011601618, 0.0111132935, 0.010188004, 0.009903283, 0.01082994, 0.01127408, 0.010226341, 0.0112290755, 0.009991921, 0.010889186]\n",
      "2022-02-14 19:42:39,942 : INFO : merging changes from 1204 documents into a model of 3204 documents\n",
      "2022-02-14 19:42:39,950 : INFO : topic #32 (0.010): 0.064*\"system\" + 0.059*\",\" + 0.052*\"oper\" + 0.033*\"perform\" + 0.031*\"number\" + 0.029*\"model\" + 0.026*\"page\" + 0.022*\"memori\" + 0.021*\"mathemat\" + 0.018*\"transfer\"\n",
      "2022-02-14 19:42:39,966 : INFO : topic #61 (0.010): 0.106*\"restrict\" + 0.071*\"gener\" + 0.064*\"/\" + 0.061*\"cpu\" + 0.054*\"tree\" + 0.040*\"direct\" + 0.036*\"aspect\" + 0.024*\"compil\" + 0.019*\"insert\" + 0.019*\"present\"\n",
      "2022-02-14 19:42:39,978 : INFO : topic #56 (0.012): 0.187*\"algorithm\" + 0.169*\"[\" + 0.146*\"(\" + 0.117*\"])\" + 0.068*\"permut\" + 0.021*\"gener\" + 0.020*\"normal\" + 0.020*\"g6\" + 0.017*\"function\" + 0.016*\"a1\"\n",
      "2022-02-14 19:42:39,985 : INFO : topic #15 (0.012): 0.493*\"method\" + 0.088*\"note\" + 0.074*\"squar\" + 0.073*\"seri\" + 0.055*\"'\" + 0.049*\"-\" + 0.031*\"nonlinear\" + 0.024*\"gener\" + 0.020*\"solv\" + 0.019*\"comput\"\n",
      "2022-02-14 19:42:39,986 : INFO : topic #36 (0.017): 0.350*\"(\" + 0.340*\")\" + 0.199*\"algorithm\" + 0.025*\"function\" + 0.013*\"polynomi\" + 0.010*\"matrix\" + 0.009*\"order\" + 0.006*\"find\" + 0.005*\"interpol\" + 0.004*\"[\"\n",
      "2022-02-14 19:42:39,988 : INFO : topic diff=0.687749, rho=0.389191\n",
      "2022-02-14 19:42:39,998 : INFO : PROGRESS: pass 5, at document #2000/3204\n",
      "2022-02-14 19:42:41,465 : INFO : optimized alpha [0.010688565, 0.01065187, 0.010736779, 0.010762074, 0.010344032, 0.011364594, 0.0108758, 0.01015386, 0.010587059, 0.011990117, 0.0107978815, 0.010267997, 0.010862955, 0.0104961265, 0.010270213, 0.012936798, 0.011012167, 0.009858543, 0.011023135, 0.010627616, 0.01003488, 0.01068927, 0.011525707, 0.010664032, 0.010120543, 0.0102547025, 0.010355376, 0.011028542, 0.010071974, 0.010385018, 0.011177879, 0.01060161, 0.009694746, 0.011323962, 0.011277971, 0.010115337, 0.018351594, 0.010466276, 0.010141563, 0.010169637, 0.009842621, 0.01067272, 0.01100301, 0.010841843, 0.010395786, 0.010547943, 0.011190853, 0.0109458985, 0.0105810035, 0.011198109, 0.010698178, 0.009912722, 0.010246589, 0.011372019, 0.011005101, 0.010485953, 0.012717889, 0.010488413, 0.010771021, 0.01102494, 0.011076977, 0.009726649, 0.010728535, 0.011408367, 0.010154589, 0.010339659, 0.01064803, 0.0103301, 0.010397673, 0.011247852, 0.01055477, 0.011368936, 0.010854904, 0.010295935, 0.010272324, 0.01005851, 0.009957246, 0.010361112, 0.010860952, 0.010621995, 0.010703443, 0.010905106, 0.010235029, 0.010184706, 0.011340531, 0.010328424, 0.01082405, 0.011388964, 0.010770406, 0.011296457, 0.011859328, 0.011021632, 0.010198192, 0.009908633, 0.010918544, 0.01140146, 0.010201985, 0.011272653, 0.009994773, 0.010939574]\n",
      "2022-02-14 19:42:41,470 : INFO : merging changes from 2000 documents into a model of 3204 documents\n",
      "2022-02-14 19:42:41,491 : INFO : topic #61 (0.010): 0.099*\"restrict\" + 0.078*\"gener\" + 0.057*\"/\" + 0.046*\"cpu\" + 0.046*\"tree\" + 0.043*\"direct\" + 0.034*\"aspect\" + 0.023*\"compil\" + 0.019*\"linguist\" + 0.019*\",\"\n",
      "2022-02-14 19:42:41,494 : INFO : topic #32 (0.010): 0.060*\"system\" + 0.059*\",\" + 0.050*\"oper\" + 0.031*\"number\" + 0.030*\"perform\" + 0.024*\"page\" + 0.023*\"model\" + 0.020*\"mathemat\" + 0.019*\"memori\" + 0.018*\"transfer\"\n",
      "2022-02-14 19:42:41,495 : INFO : topic #56 (0.013): 0.185*\"algorithm\" + 0.181*\"[\" + 0.156*\"(\" + 0.152*\"])\" + 0.048*\"permut\" + 0.021*\"gener\" + 0.020*\"function\" + 0.017*\"g6\" + 0.016*\"normal\" + 0.015*\"-\"\n",
      "2022-02-14 19:42:41,496 : INFO : topic #15 (0.013): 0.478*\"method\" + 0.092*\"note\" + 0.086*\"squar\" + 0.079*\"seri\" + 0.050*\"'\" + 0.048*\"-\" + 0.029*\"nonlinear\" + 0.023*\"gener\" + 0.021*\"comput\" + 0.018*\"solv\"\n",
      "2022-02-14 19:42:41,498 : INFO : topic #36 (0.018): 0.351*\"(\" + 0.344*\")\" + 0.201*\"algorithm\" + 0.023*\"function\" + 0.013*\"polynomi\" + 0.009*\"matrix\" + 0.008*\"order\" + 0.006*\"interpol\" + 0.005*\"find\" + 0.005*\"e4\"\n",
      "2022-02-14 19:42:41,499 : INFO : topic diff=0.625375, rho=0.362690\n",
      "2022-02-14 19:42:42,769 : INFO : -6.597 per-word bound, 96.8 perplexity estimate based on a held-out corpus of 1204 documents with 49783 words\n",
      "2022-02-14 19:42:42,770 : INFO : PROGRESS: pass 5, at document #3204/3204\n",
      "2022-02-14 19:42:44,270 : INFO : optimized alpha [0.010981872, 0.0108172735, 0.010830571, 0.010994324, 0.010441872, 0.011678804, 0.01100377, 0.010236915, 0.01069251, 0.01228681, 0.011061471, 0.010347405, 0.011075256, 0.010619492, 0.010405479, 0.0133707775, 0.011236248, 0.009930159, 0.0111459205, 0.010827739, 0.010132192, 0.010930023, 0.011703617, 0.010763453, 0.010218602, 0.010454059, 0.010487483, 0.011259073, 0.010139571, 0.010480308, 0.011395788, 0.010748268, 0.009717325, 0.011603027, 0.011579518, 0.010211718, 0.019426793, 0.010614659, 0.0102505945, 0.0102455355, 0.009877993, 0.010823685, 0.011220063, 0.01104117, 0.010585577, 0.010727383, 0.01149967, 0.0110509815, 0.0107198795, 0.01146502, 0.010890199, 0.010002684, 0.010372294, 0.011656444, 0.011128736, 0.010546108, 0.0127584385, 0.0106077995, 0.010942452, 0.011160952, 0.011276853, 0.009813086, 0.010856606, 0.011667334, 0.010269321, 0.010453888, 0.010756636, 0.010492366, 0.010535934, 0.011475546, 0.010629449, 0.011402496, 0.011121118, 0.010404982, 0.010360923, 0.010093538, 0.0100227995, 0.010396304, 0.0110757435, 0.01080125, 0.010912422, 0.011107108, 0.0103681665, 0.010302395, 0.011610724, 0.010440665, 0.010992437, 0.0116630895, 0.010975434, 0.011558116, 0.012033239, 0.011231395, 0.010311653, 0.010006218, 0.011073358, 0.011710155, 0.0103208525, 0.011497882, 0.010059546, 0.011116915]\n",
      "2022-02-14 19:42:44,276 : INFO : merging changes from 1204 documents into a model of 3204 documents\n",
      "2022-02-14 19:42:44,282 : INFO : topic #32 (0.010): 0.062*\"system\" + 0.060*\",\" + 0.060*\"oper\" + 0.035*\"perform\" + 0.033*\"number\" + 0.027*\"page\" + 0.025*\"model\" + 0.023*\"memori\" + 0.022*\"mathemat\" + 0.020*\"transfer\"\n",
      "2022-02-14 19:42:44,284 : INFO : topic #61 (0.010): 0.112*\"restrict\" + 0.072*\"gener\" + 0.064*\"/\" + 0.062*\"cpu\" + 0.047*\"tree\" + 0.044*\"direct\" + 0.041*\"aspect\" + 0.022*\"compil\" + 0.021*\"model\" + 0.021*\"linguist\"\n",
      "2022-02-14 19:42:44,285 : INFO : topic #56 (0.013): 0.195*\"algorithm\" + 0.168*\"[\" + 0.149*\"(\" + 0.123*\"])\" + 0.067*\"permut\" + 0.021*\"gener\" + 0.020*\"g6\" + 0.019*\"function\" + 0.017*\"a1\" + 0.017*\"normal\"\n",
      "2022-02-14 19:42:44,289 : INFO : topic #15 (0.013): 0.524*\"method\" + 0.085*\"note\" + 0.071*\"squar\" + 0.070*\"seri\" + 0.053*\"'\" + 0.048*\"-\" + 0.027*\"nonlinear\" + 0.023*\"gener\" + 0.020*\"comput\" + 0.017*\"solv\"\n",
      "2022-02-14 19:42:44,291 : INFO : topic #36 (0.019): 0.362*\"(\" + 0.351*\")\" + 0.191*\"algorithm\" + 0.024*\"function\" + 0.012*\"polynomi\" + 0.009*\"order\" + 0.006*\"matrix\" + 0.006*\"find\" + 0.005*\"interpol\" + 0.004*\"e4\"\n",
      "2022-02-14 19:42:44,301 : INFO : topic diff=0.651057, rho=0.362690\n",
      "2022-02-14 19:42:44,316 : INFO : PROGRESS: pass 6, at document #2000/3204\n",
      "2022-02-14 19:42:45,267 : INFO : optimized alpha [0.011104847, 0.010942027, 0.010970482, 0.011111546, 0.010455911, 0.011661068, 0.011120769, 0.010210149, 0.010751545, 0.012423007, 0.011185816, 0.010439676, 0.011160565, 0.010756308, 0.010368955, 0.013831151, 0.011193529, 0.009924242, 0.01127514, 0.010809239, 0.010142611, 0.010955482, 0.011702921, 0.010748213, 0.010188391, 0.010474082, 0.01049915, 0.011226484, 0.010136648, 0.010503691, 0.011418274, 0.010776731, 0.00969857, 0.01164288, 0.0115949735, 0.010234012, 0.021031452, 0.01063068, 0.010251166, 0.01028026, 0.009886165, 0.010829308, 0.011289446, 0.011038199, 0.0105229765, 0.010773687, 0.011528382, 0.011233271, 0.010776906, 0.011431174, 0.010961038, 0.009999682, 0.010463535, 0.01183832, 0.011127827, 0.010670839, 0.013242756, 0.010685634, 0.01106966, 0.011260151, 0.011396127, 0.009794505, 0.010907042, 0.011723374, 0.010270951, 0.010485929, 0.0108979475, 0.010519278, 0.010555662, 0.011510422, 0.010706085, 0.011664304, 0.011216254, 0.01043238, 0.010414459, 0.010181945, 0.00998828, 0.010521606, 0.01109882, 0.0107994275, 0.010907054, 0.011170758, 0.010348736, 0.010260959, 0.011650748, 0.010486092, 0.010995678, 0.011759812, 0.010978569, 0.011700586, 0.012283061, 0.011142505, 0.010333811, 0.0100200195, 0.011159224, 0.0118496185, 0.010305153, 0.011540261, 0.010073073, 0.011173725]\n",
      "2022-02-14 19:42:45,272 : INFO : merging changes from 2000 documents into a model of 3204 documents\n",
      "2022-02-14 19:42:45,296 : INFO : topic #32 (0.010): 0.061*\",\" + 0.058*\"oper\" + 0.057*\"system\" + 0.033*\"number\" + 0.032*\"perform\" + 0.025*\"page\" + 0.021*\"mathemat\" + 0.020*\"memori\" + 0.020*\"transfer\" + 0.020*\"model\"\n",
      "2022-02-14 19:42:45,297 : INFO : topic #61 (0.010): 0.104*\"restrict\" + 0.079*\"gener\" + 0.058*\"/\" + 0.049*\"direct\" + 0.047*\"cpu\" + 0.040*\"tree\" + 0.039*\"aspect\" + 0.022*\"compil\" + 0.021*\"linguist\" + 0.020*\"input\"\n",
      "2022-02-14 19:42:45,298 : INFO : topic #56 (0.013): 0.189*\"algorithm\" + 0.181*\"[\" + 0.158*\"(\" + 0.154*\"])\" + 0.049*\"permut\" + 0.021*\"function\" + 0.021*\"gener\" + 0.017*\"g6\" + 0.015*\"a1\" + 0.015*\"s14\"\n",
      "2022-02-14 19:42:45,299 : INFO : topic #15 (0.014): 0.507*\"method\" + 0.089*\"note\" + 0.082*\"squar\" + 0.076*\"seri\" + 0.050*\"'\" + 0.047*\"-\" + 0.025*\"nonlinear\" + 0.022*\"comput\" + 0.022*\"gener\" + 0.015*\"solv\"\n",
      "2022-02-14 19:42:45,300 : INFO : topic #36 (0.021): 0.360*\"(\" + 0.353*\")\" + 0.194*\"algorithm\" + 0.023*\"function\" + 0.013*\"polynomi\" + 0.008*\"order\" + 0.006*\"interpol\" + 0.005*\"e4\" + 0.005*\"find\" + 0.005*\"matrix\"\n",
      "2022-02-14 19:42:45,301 : INFO : topic diff=0.573760, rho=0.340958\n",
      "2022-02-14 19:42:46,406 : INFO : -6.568 per-word bound, 94.9 perplexity estimate based on a held-out corpus of 1204 documents with 49783 words\n",
      "2022-02-14 19:42:46,406 : INFO : PROGRESS: pass 6, at document #3204/3204\n",
      "2022-02-14 19:42:47,320 : INFO : optimized alpha [0.011419215, 0.011102445, 0.011065009, 0.011349491, 0.0105547365, 0.011955134, 0.0112548685, 0.010283276, 0.010860584, 0.012714475, 0.011474295, 0.010520752, 0.011382155, 0.010885244, 0.0105063645, 0.014278627, 0.011419571, 0.010006599, 0.011394465, 0.011005529, 0.010237904, 0.0111885, 0.011885292, 0.01084882, 0.010281591, 0.010687834, 0.01063346, 0.011452206, 0.010203953, 0.010594245, 0.011632474, 0.010912848, 0.00973753, 0.011922865, 0.011896825, 0.010337197, 0.022263888, 0.010783812, 0.010354646, 0.010355154, 0.009931471, 0.010975733, 0.011512483, 0.011237399, 0.010709137, 0.010938267, 0.011844027, 0.011348322, 0.010917946, 0.011701893, 0.011153315, 0.010099467, 0.010597756, 0.012135453, 0.011264435, 0.0107363835, 0.013271959, 0.010807992, 0.011245099, 0.011398567, 0.011567118, 0.009879374, 0.011028494, 0.011963951, 0.010397608, 0.010606033, 0.011006755, 0.010685344, 0.010686988, 0.011720822, 0.010776616, 0.011690649, 0.0114714615, 0.010541723, 0.010510347, 0.010217787, 0.010056666, 0.010560404, 0.01130338, 0.010979077, 0.011115385, 0.011359985, 0.010478263, 0.010369758, 0.011915542, 0.010604466, 0.011171376, 0.012035609, 0.011170502, 0.011964793, 0.012444169, 0.011351216, 0.010432606, 0.010112734, 0.011318829, 0.012150151, 0.010417977, 0.011758083, 0.010140574, 0.011354871]\n",
      "2022-02-14 19:42:47,327 : INFO : merging changes from 1204 documents into a model of 3204 documents\n",
      "2022-02-14 19:42:47,338 : INFO : topic #32 (0.010): 0.066*\"oper\" + 0.061*\",\" + 0.060*\"system\" + 0.037*\"perform\" + 0.036*\"number\" + 0.027*\"page\" + 0.025*\"memori\" + 0.023*\"mathemat\" + 0.022*\"transfer\" + 0.021*\"model\"\n",
      "2022-02-14 19:42:47,339 : INFO : topic #61 (0.010): 0.116*\"restrict\" + 0.073*\"gener\" + 0.064*\"/\" + 0.062*\"cpu\" + 0.049*\"direct\" + 0.047*\"aspect\" + 0.037*\"tree\" + 0.024*\"model\" + 0.023*\"linguist\" + 0.022*\"compil\"\n",
      "2022-02-14 19:42:47,340 : INFO : topic #56 (0.013): 0.200*\"algorithm\" + 0.165*\"[\" + 0.151*\"(\" + 0.128*\"])\" + 0.067*\"permut\" + 0.020*\"gener\" + 0.020*\"function\" + 0.020*\"g6\" + 0.018*\"a1\" + 0.016*\"modifi\"\n",
      "2022-02-14 19:42:47,346 : INFO : topic #15 (0.014): 0.546*\"method\" + 0.083*\"note\" + 0.068*\"squar\" + 0.068*\"seri\" + 0.053*\"'\" + 0.046*\"-\" + 0.023*\"nonlinear\" + 0.022*\"gener\" + 0.020*\"comput\" + 0.015*\"solv\"\n",
      "2022-02-14 19:42:47,356 : INFO : topic #36 (0.022): 0.370*\"(\" + 0.358*\")\" + 0.187*\"algorithm\" + 0.023*\"function\" + 0.011*\"polynomi\" + 0.008*\"order\" + 0.005*\"find\" + 0.004*\"interpol\" + 0.004*\"e4\" + 0.004*\"matrix\"\n",
      "2022-02-14 19:42:47,365 : INFO : topic diff=0.581744, rho=0.340958\n",
      "2022-02-14 19:42:47,381 : INFO : PROGRESS: pass 7, at document #2000/3204\n",
      "2022-02-14 19:42:48,320 : INFO : optimized alpha [0.011538978, 0.011232896, 0.011200891, 0.011470894, 0.010568271, 0.011936452, 0.011374409, 0.010265241, 0.0109239, 0.012848779, 0.0116104055, 0.010614367, 0.011468837, 0.011020139, 0.010473336, 0.014748467, 0.011379882, 0.010004646, 0.011516479, 0.010990753, 0.010251334, 0.011210036, 0.01190763, 0.010836431, 0.010253376, 0.010709505, 0.010659923, 0.011418335, 0.010206623, 0.010623662, 0.011656989, 0.010941576, 0.009735011, 0.011959635, 0.0119195245, 0.010373608, 0.024017094, 0.010804095, 0.010360304, 0.010386736, 0.009944689, 0.01096305, 0.011583768, 0.0112394225, 0.010647485, 0.010980277, 0.011867759, 0.011536733, 0.010982817, 0.011679586, 0.011229595, 0.010100046, 0.010688438, 0.0123229, 0.011261751, 0.010871461, 0.013744883, 0.0108841555, 0.011385186, 0.011504427, 0.011690783, 0.00986686, 0.011069457, 0.012028081, 0.010402555, 0.0106382845, 0.011138867, 0.01070533, 0.010702168, 0.011753353, 0.010860498, 0.011946939, 0.011567567, 0.010561062, 0.010564994, 0.010305706, 0.010031221, 0.010680424, 0.011317272, 0.010978667, 0.01111484, 0.01142597, 0.010461513, 0.010335927, 0.011960401, 0.010659801, 0.01117579, 0.012135299, 0.01117835, 0.01212678, 0.012697767, 0.0112736905, 0.010452145, 0.010131004, 0.011411647, 0.012291937, 0.010415091, 0.011799573, 0.010160468, 0.011414197]\n",
      "2022-02-14 19:42:48,326 : INFO : merging changes from 2000 documents into a model of 3204 documents\n",
      "2022-02-14 19:42:48,334 : INFO : topic #32 (0.010): 0.064*\"oper\" + 0.062*\",\" + 0.055*\"system\" + 0.036*\"number\" + 0.034*\"perform\" + 0.026*\"page\" + 0.022*\"transfer\" + 0.022*\"memori\" + 0.022*\"mathemat\" + 0.017*\"partit\"\n",
      "2022-02-14 19:42:48,335 : INFO : topic #61 (0.010): 0.108*\"restrict\" + 0.076*\"gener\" + 0.058*\"direct\" + 0.057*\"/\" + 0.048*\"cpu\" + 0.044*\"aspect\" + 0.034*\"tree\" + 0.023*\"linguist\" + 0.021*\"compil\" + 0.021*\"input\"\n",
      "2022-02-14 19:42:48,337 : INFO : topic #56 (0.014): 0.194*\"algorithm\" + 0.178*\"[\" + 0.159*\"(\" + 0.155*\"])\" + 0.049*\"permut\" + 0.021*\"function\" + 0.020*\"gener\" + 0.018*\"g6\" + 0.016*\"a1\" + 0.015*\"s14\"\n",
      "2022-02-14 19:42:48,338 : INFO : topic #15 (0.015): 0.527*\"method\" + 0.087*\"note\" + 0.078*\"squar\" + 0.073*\"seri\" + 0.052*\"'\" + 0.046*\"-\" + 0.022*\"comput\" + 0.022*\"nonlinear\" + 0.021*\"gener\" + 0.015*\"root\"\n",
      "2022-02-14 19:42:48,341 : INFO : topic #36 (0.024): 0.368*\"(\" + 0.359*\")\" + 0.191*\"algorithm\" + 0.022*\"function\" + 0.012*\"polynomi\" + 0.007*\"order\" + 0.005*\"interpol\" + 0.005*\"e4\" + 0.004*\"find\" + 0.004*\"evalu\"\n",
      "2022-02-14 19:42:48,342 : INFO : topic diff=0.506139, rho=0.322715\n",
      "2022-02-14 19:42:49,471 : INFO : -6.544 per-word bound, 93.3 perplexity estimate based on a held-out corpus of 1204 documents with 49783 words\n",
      "2022-02-14 19:42:49,472 : INFO : PROGRESS: pass 7, at document #3204/3204\n",
      "2022-02-14 19:42:50,625 : INFO : optimized alpha [0.0118628675, 0.011401371, 0.011293448, 0.011715571, 0.010674169, 0.012222757, 0.011524051, 0.010332507, 0.011027806, 0.013129741, 0.011933987, 0.010691484, 0.011687914, 0.011151985, 0.0106046125, 0.01521903, 0.011599306, 0.010096939, 0.011627003, 0.011178691, 0.010342434, 0.011439835, 0.01209527, 0.010929684, 0.010353626, 0.010934862, 0.010802607, 0.011631411, 0.010287634, 0.010707205, 0.01186871, 0.011071582, 0.009780666, 0.012238739, 0.012216799, 0.010486178, 0.0253052, 0.010962073, 0.010459153, 0.010463841, 0.009996336, 0.011091087, 0.011794877, 0.0114242025, 0.01082545, 0.011137727, 0.01216921, 0.011646125, 0.011120616, 0.011945917, 0.011429083, 0.0101981815, 0.010816806, 0.01262751, 0.011401594, 0.010930561, 0.013763908, 0.011000901, 0.011574671, 0.0116426665, 0.011867125, 0.009963973, 0.011176306, 0.012252562, 0.010534845, 0.01075866, 0.0112423645, 0.010861238, 0.010830491, 0.011951725, 0.010936382, 0.011966904, 0.011825829, 0.010679678, 0.010665151, 0.010339754, 0.010096797, 0.010725551, 0.011528491, 0.011156544, 0.0113205, 0.011607306, 0.010588186, 0.010451186, 0.012192169, 0.010778564, 0.011349939, 0.012404481, 0.011359101, 0.012391573, 0.012840878, 0.011482586, 0.010546503, 0.010225016, 0.011558037, 0.012602973, 0.010534065, 0.012033862, 0.01023328, 0.011599938]\n",
      "2022-02-14 19:42:50,632 : INFO : merging changes from 1204 documents into a model of 3204 documents\n",
      "2022-02-14 19:42:50,645 : INFO : topic #32 (0.010): 0.070*\"oper\" + 0.062*\",\" + 0.058*\"system\" + 0.040*\"number\" + 0.037*\"perform\" + 0.027*\"memori\" + 0.027*\"page\" + 0.025*\"partit\" + 0.023*\"mathemat\" + 0.022*\"transfer\"\n",
      "2022-02-14 19:42:50,652 : INFO : topic #40 (0.010): 0.068*\"handl\" + 0.064*\"boundari\" + 0.063*\",\" + 0.045*\"discret\" + 0.039*\"examin\" + 0.037*\"simul\" + 0.033*\"approxim\" + 0.033*\"flow\" + 0.031*\"-\" + 0.029*\"problem\"\n",
      "2022-02-14 19:42:50,653 : INFO : topic #56 (0.014): 0.204*\"algorithm\" + 0.162*\"[\" + 0.153*\"(\" + 0.131*\"])\" + 0.067*\"permut\" + 0.021*\"function\" + 0.020*\"gener\" + 0.020*\"g6\" + 0.019*\"a1\" + 0.017*\"modifi\"\n",
      "2022-02-14 19:42:50,659 : INFO : topic #15 (0.015): 0.563*\"method\" + 0.081*\"note\" + 0.066*\"squar\" + 0.066*\"seri\" + 0.053*\"'\" + 0.046*\"-\" + 0.021*\"comput\" + 0.021*\"gener\" + 0.018*\"nonlinear\" + 0.014*\"solv\"\n",
      "2022-02-14 19:42:50,660 : INFO : topic #36 (0.025): 0.375*\"(\" + 0.363*\")\" + 0.184*\"algorithm\" + 0.022*\"function\" + 0.011*\"polynomi\" + 0.008*\"order\" + 0.005*\"find\" + 0.004*\"interpol\" + 0.004*\"e4\" + 0.003*\"evalu\"\n",
      "2022-02-14 19:42:50,663 : INFO : topic diff=0.507418, rho=0.322715\n",
      "2022-02-14 19:42:50,677 : INFO : PROGRESS: pass 8, at document #2000/3204\n",
      "2022-02-14 19:42:51,628 : INFO : optimized alpha [0.012002146, 0.011530733, 0.011420897, 0.011839719, 0.010690512, 0.012201322, 0.011646377, 0.010317517, 0.011092001, 0.013260758, 0.01209133, 0.010776669, 0.011777961, 0.011288972, 0.010571445, 0.015697438, 0.0115658, 0.010104654, 0.011746321, 0.011172449, 0.010355461, 0.011461362, 0.012120055, 0.010921603, 0.010335027, 0.010963248, 0.010837803, 0.0115999095, 0.010293717, 0.010747296, 0.011891532, 0.011102387, 0.009780333, 0.01227082, 0.012240759, 0.010529188, 0.027178116, 0.010981216, 0.010464754, 0.010499159, 0.010012531, 0.011080692, 0.011872008, 0.011423807, 0.010771198, 0.011179478, 0.01219231, 0.011841226, 0.011189771, 0.011928687, 0.011507215, 0.010197335, 0.010905669, 0.012821326, 0.011404273, 0.01106085, 0.014227118, 0.011077396, 0.011715242, 0.011748101, 0.011988137, 0.009955314, 0.0112139275, 0.01232286, 0.010545971, 0.010791077, 0.011378488, 0.0108849695, 0.0108499825, 0.011989614, 0.011022104, 0.012215107, 0.0119197015, 0.010703085, 0.010722562, 0.01042119, 0.010073176, 0.010846035, 0.011542841, 0.011153928, 0.01132626, 0.011670297, 0.010580384, 0.010422311, 0.012232478, 0.010838243, 0.011366109, 0.012492197, 0.011367798, 0.012565545, 0.013093071, 0.011407954, 0.010571864, 0.010245827, 0.011647142, 0.012743666, 0.010539453, 0.012078445, 0.010254173, 0.011669027]\n",
      "2022-02-14 19:42:51,637 : INFO : merging changes from 2000 documents into a model of 3204 documents\n",
      "2022-02-14 19:42:51,643 : INFO : topic #32 (0.010): 0.068*\"oper\" + 0.063*\",\" + 0.053*\"system\" + 0.040*\"number\" + 0.034*\"perform\" + 0.025*\"page\" + 0.024*\"memori\" + 0.023*\"transfer\" + 0.022*\"mathemat\" + 0.022*\"partit\"\n",
      "2022-02-14 19:42:51,645 : INFO : topic #61 (0.010): 0.109*\"restrict\" + 0.073*\"gener\" + 0.068*\"direct\" + 0.056*\"/\" + 0.050*\"aspect\" + 0.049*\"cpu\" + 0.029*\"tree\" + 0.024*\"linguist\" + 0.022*\"model\" + 0.022*\"input\"\n",
      "2022-02-14 19:42:51,646 : INFO : topic #56 (0.014): 0.196*\"algorithm\" + 0.176*\"[\" + 0.161*\"(\" + 0.156*\"])\" + 0.050*\"permut\" + 0.022*\"function\" + 0.020*\"gener\" + 0.018*\"g6\" + 0.016*\"a1\" + 0.015*\"s14\"\n",
      "2022-02-14 19:42:51,648 : INFO : topic #15 (0.016): 0.543*\"method\" + 0.084*\"note\" + 0.077*\"squar\" + 0.071*\"seri\" + 0.052*\"'\" + 0.046*\"-\" + 0.023*\"comput\" + 0.020*\"gener\" + 0.018*\"nonlinear\" + 0.015*\"root\"\n",
      "2022-02-14 19:42:51,649 : INFO : topic #36 (0.027): 0.372*\"(\" + 0.363*\")\" + 0.188*\"algorithm\" + 0.022*\"function\" + 0.011*\"polynomi\" + 0.007*\"order\" + 0.005*\"interpol\" + 0.005*\"e4\" + 0.004*\"find\" + 0.004*\"evalu\"\n",
      "2022-02-14 19:42:51,650 : INFO : topic diff=0.439149, rho=0.307119\n",
      "2022-02-14 19:42:52,848 : INFO : -6.526 per-word bound, 92.1 perplexity estimate based on a held-out corpus of 1204 documents with 49783 words\n",
      "2022-02-14 19:42:52,849 : INFO : PROGRESS: pass 8, at document #3204/3204\n",
      "2022-02-14 19:42:53,755 : INFO : optimized alpha [0.012334076, 0.011695935, 0.011509178, 0.012082811, 0.010789506, 0.012471816, 0.011790256, 0.010384972, 0.011194506, 0.013542808, 0.012445026, 0.010853284, 0.011995611, 0.011421263, 0.010711161, 0.016180972, 0.011783078, 0.01019851, 0.011858033, 0.011350489, 0.010450938, 0.011686121, 0.012319553, 0.011014063, 0.010439238, 0.011183929, 0.010983393, 0.011805022, 0.010374316, 0.0108330725, 0.012095475, 0.011224401, 0.0098370835, 0.012534458, 0.012534709, 0.010656212, 0.028459394, 0.011127518, 0.010562385, 0.010573183, 0.01006228, 0.011206503, 0.0120757, 0.011607555, 0.010947837, 0.011345168, 0.012493662, 0.011939605, 0.011322193, 0.012176529, 0.011720225, 0.010294267, 0.01103734, 0.013131297, 0.011544577, 0.0111283325, 0.0142441355, 0.011192289, 0.011915806, 0.011886779, 0.012157884, 0.010058808, 0.0113222245, 0.012548748, 0.01068404, 0.010912167, 0.01148326, 0.011048595, 0.01097043, 0.012171195, 0.011100304, 0.0122355, 0.012178979, 0.010817077, 0.010835157, 0.010459073, 0.010144201, 0.010897143, 0.01174043, 0.011327932, 0.011521596, 0.011844833, 0.010704882, 0.01053841, 0.012462473, 0.010971735, 0.011536621, 0.012762138, 0.011532836, 0.0128419595, 0.0132295415, 0.0116086295, 0.01067059, 0.010341363, 0.011790604, 0.01306288, 0.010659132, 0.012313754, 0.010329457, 0.011847911]\n",
      "2022-02-14 19:42:53,760 : INFO : merging changes from 1204 documents into a model of 3204 documents\n",
      "2022-02-14 19:42:53,769 : INFO : topic #32 (0.010): 0.073*\"oper\" + 0.064*\",\" + 0.055*\"system\" + 0.042*\"number\" + 0.038*\"perform\" + 0.029*\"memori\" + 0.029*\"partit\" + 0.026*\"page\" + 0.023*\"mathemat\" + 0.023*\"transfer\"\n",
      "2022-02-14 19:42:53,776 : INFO : topic #61 (0.010): 0.120*\"restrict\" + 0.070*\"direct\" + 0.067*\"gener\" + 0.061*\"cpu\" + 0.059*\"/\" + 0.057*\"aspect\" + 0.028*\"tree\" + 0.027*\"model\" + 0.025*\"linguist\" + 0.021*\"input\"\n",
      "2022-02-14 19:42:53,778 : INFO : topic #56 (0.014): 0.209*\"algorithm\" + 0.161*\"[\" + 0.154*\"(\" + 0.133*\"])\" + 0.067*\"permut\" + 0.021*\"function\" + 0.020*\"g6\" + 0.019*\"gener\" + 0.019*\"a1\" + 0.017*\"modifi\"\n",
      "2022-02-14 19:42:53,784 : INFO : topic #15 (0.016): 0.574*\"method\" + 0.079*\"note\" + 0.065*\"squar\" + 0.064*\"seri\" + 0.054*\"'\" + 0.045*\"-\" + 0.022*\"comput\" + 0.020*\"gener\" + 0.016*\"nonlinear\" + 0.014*\"solv\"\n",
      "2022-02-14 19:42:53,785 : INFO : topic #36 (0.028): 0.379*\"(\" + 0.367*\")\" + 0.180*\"algorithm\" + 0.022*\"function\" + 0.011*\"polynomi\" + 0.008*\"order\" + 0.005*\"find\" + 0.004*\"interpol\" + 0.004*\"e4\" + 0.003*\"evalu\"\n",
      "2022-02-14 19:42:53,786 : INFO : topic diff=0.439730, rho=0.307119\n",
      "2022-02-14 19:42:53,796 : INFO : PROGRESS: pass 9, at document #2000/3204\n",
      "2022-02-14 19:42:54,737 : INFO : optimized alpha [0.012474624, 0.011829768, 0.011632415, 0.012215265, 0.010805349, 0.012451645, 0.011908561, 0.010374194, 0.011259731, 0.013681067, 0.012618525, 0.010937231, 0.012085868, 0.011557406, 0.01068242, 0.016654711, 0.0117552895, 0.010206159, 0.011975173, 0.011353945, 0.010465141, 0.011716355, 0.012353966, 0.011008292, 0.010419993, 0.011215468, 0.011017053, 0.011777534, 0.010380454, 0.010871817, 0.012116851, 0.011253959, 0.0098474175, 0.012571743, 0.0125545785, 0.010716355, 0.030441957, 0.011152344, 0.01056795, 0.010605789, 0.010076711, 0.011198193, 0.012153404, 0.011610095, 0.010897046, 0.011393499, 0.012519925, 0.012141709, 0.01138551, 0.012162346, 0.011810836, 0.010296683, 0.011124828, 0.013332058, 0.011555602, 0.01125448, 0.014701141, 0.0112661775, 0.012055697, 0.011993855, 0.012280493, 0.01005507, 0.011356765, 0.01261046, 0.010696191, 0.010948124, 0.011615185, 0.011069375, 0.01098915, 0.012214447, 0.011194473, 0.012475007, 0.012270943, 0.010847523, 0.010898552, 0.01053475, 0.010123618, 0.011015305, 0.011764038, 0.011324979, 0.011536785, 0.0119105615, 0.010691028, 0.010512342, 0.012509718, 0.011035675, 0.011555319, 0.012857411, 0.011554542, 0.013018836, 0.013473334, 0.011543466, 0.01070769, 0.010366012, 0.011879999, 0.013205184, 0.010669051, 0.012361387, 0.010363492, 0.011915954]\n",
      "2022-02-14 19:42:54,744 : INFO : merging changes from 2000 documents into a model of 3204 documents\n",
      "2022-02-14 19:42:54,750 : INFO : topic #32 (0.010): 0.071*\"oper\" + 0.065*\",\" + 0.050*\"system\" + 0.041*\"number\" + 0.035*\"perform\" + 0.026*\"memori\" + 0.026*\"partit\" + 0.025*\"page\" + 0.023*\"transfer\" + 0.022*\"mathemat\"\n",
      "2022-02-14 19:42:54,751 : INFO : topic #40 (0.010): 0.073*\"handl\" + 0.066*\"boundari\" + 0.059*\",\" + 0.041*\"discret\" + 0.040*\"flow\" + 0.039*\"examin\" + 0.038*\"simul\" + 0.032*\"-\" + 0.032*\"approxim\" + 0.031*\"problem\"\n",
      "2022-02-14 19:42:54,752 : INFO : topic #56 (0.015): 0.201*\"algorithm\" + 0.175*\"[\" + 0.161*\"(\" + 0.156*\"])\" + 0.051*\"permut\" + 0.022*\"function\" + 0.020*\"gener\" + 0.018*\"g6\" + 0.017*\"a1\" + 0.015*\"s14\"\n",
      "2022-02-14 19:42:54,753 : INFO : topic #15 (0.017): 0.553*\"method\" + 0.083*\"note\" + 0.076*\"squar\" + 0.069*\"seri\" + 0.053*\"'\" + 0.045*\"-\" + 0.023*\"comput\" + 0.019*\"gener\" + 0.016*\"nonlinear\" + 0.015*\"root\"\n",
      "2022-02-14 19:42:54,754 : INFO : topic #36 (0.030): 0.376*\"(\" + 0.368*\")\" + 0.184*\"algorithm\" + 0.022*\"function\" + 0.011*\"polynomi\" + 0.007*\"order\" + 0.005*\"interpol\" + 0.005*\"e4\" + 0.004*\"find\" + 0.003*\"evalu\"\n",
      "2022-02-14 19:42:54,755 : INFO : topic diff=0.379499, rho=0.293585\n",
      "2022-02-14 19:42:55,853 : INFO : -6.508 per-word bound, 91.0 perplexity estimate based on a held-out corpus of 1204 documents with 49783 words\n",
      "2022-02-14 19:42:55,854 : INFO : PROGRESS: pass 9, at document #3204/3204\n",
      "2022-02-14 19:42:56,720 : INFO : optimized alpha [0.012818586, 0.011986603, 0.011716957, 0.012451828, 0.010914069, 0.012714094, 0.012050359, 0.010439506, 0.011358332, 0.013958532, 0.013003721, 0.011019032, 0.012296872, 0.011693356, 0.010812011, 0.01715591, 0.011965348, 0.010301745, 0.012085528, 0.01153437, 0.010557301, 0.011939969, 0.012553202, 0.011108342, 0.010520538, 0.011434984, 0.0111603765, 0.0119699435, 0.010471016, 0.010959878, 0.012311102, 0.011371657, 0.009909597, 0.012821297, 0.0128372125, 0.01084963, 0.031759195, 0.011301714, 0.010662138, 0.010684959, 0.010132286, 0.011311305, 0.012359571, 0.011796459, 0.0110782385, 0.011556526, 0.012803895, 0.012241774, 0.011507706, 0.012405291, 0.012034826, 0.01040028, 0.011260133, 0.013664889, 0.011685224, 0.011319089, 0.01470909, 0.011390783, 0.0122649465, 0.012133369, 0.012453527, 0.01016714, 0.011452832, 0.012829152, 0.010842756, 0.011067615, 0.011721526, 0.011227294, 0.011113527, 0.012395853, 0.011280584, 0.012489942, 0.012529044, 0.0109627405, 0.0110152885, 0.010571187, 0.010209732, 0.011069639, 0.011955118, 0.011495954, 0.011731519, 0.012085052, 0.010811219, 0.0106270015, 0.012738741, 0.011164519, 0.011728619, 0.013113571, 0.01171681, 0.013297682, 0.013604122, 0.0117401285, 0.0108002275, 0.010465816, 0.012018385, 0.013510627, 0.0107870605, 0.012604725, 0.010436131, 0.012080122]\n",
      "2022-02-14 19:42:56,727 : INFO : merging changes from 1204 documents into a model of 3204 documents\n",
      "2022-02-14 19:42:56,739 : INFO : topic #32 (0.010): 0.076*\"oper\" + 0.066*\",\" + 0.052*\"system\" + 0.043*\"number\" + 0.039*\"perform\" + 0.032*\"partit\" + 0.031*\"memori\" + 0.026*\"page\" + 0.024*\"transfer\" + 0.022*\"mathemat\"\n",
      "2022-02-14 19:42:56,740 : INFO : topic #40 (0.010): 0.074*\"handl\" + 0.067*\"boundari\" + 0.060*\",\" + 0.049*\"flow\" + 0.045*\"discret\" + 0.039*\"examin\" + 0.035*\"simul\" + 0.033*\"approxim\" + 0.030*\"-\" + 0.028*\"problem\"\n",
      "2022-02-14 19:42:56,741 : INFO : topic #56 (0.015): 0.210*\"algorithm\" + 0.160*\"[\" + 0.155*\"(\" + 0.134*\"])\" + 0.067*\"permut\" + 0.022*\"function\" + 0.020*\"a1\" + 0.020*\"g6\" + 0.019*\"gener\" + 0.017*\"modifi\"\n",
      "2022-02-14 19:42:56,741 : INFO : topic #15 (0.017): 0.582*\"method\" + 0.078*\"note\" + 0.065*\"squar\" + 0.063*\"seri\" + 0.054*\"'\" + 0.045*\"-\" + 0.022*\"comput\" + 0.019*\"gener\" + 0.014*\"nonlinear\" + 0.013*\"solv\"\n",
      "2022-02-14 19:42:56,743 : INFO : topic #36 (0.032): 0.382*\"(\" + 0.371*\")\" + 0.177*\"algorithm\" + 0.022*\"function\" + 0.010*\"polynomi\" + 0.007*\"order\" + 0.004*\"find\" + 0.004*\"interpol\" + 0.004*\"e4\" + 0.003*\"evalu\"\n",
      "2022-02-14 19:42:56,744 : INFO : topic diff=0.381634, rho=0.293585\n",
      "2022-02-14 19:42:56,752 : INFO : PROGRESS: pass 10, at document #2000/3204\n",
      "2022-02-14 19:42:57,699 : INFO : optimized alpha [0.0129609015, 0.012120181, 0.011844821, 0.012580527, 0.010930975, 0.01269516, 0.012173761, 0.010432567, 0.011432638, 0.0140923085, 0.013186514, 0.011102034, 0.012384049, 0.01182909, 0.010784327, 0.017646808, 0.011942871, 0.010313655, 0.012204363, 0.01154057, 0.010569667, 0.011976885, 0.012593275, 0.011107731, 0.010505173, 0.011477688, 0.011194351, 0.011941186, 0.010478609, 0.011002161, 0.012333028, 0.011405073, 0.009926967, 0.0128637, 0.012855049, 0.010917017, 0.033824317, 0.011330337, 0.010675182, 0.010716621, 0.010149429, 0.011303439, 0.01243618, 0.011796774, 0.011036649, 0.011604671, 0.012826219, 0.01244268, 0.011573835, 0.012388804, 0.012120722, 0.010402682, 0.011344928, 0.013863384, 0.011700833, 0.011447975, 0.015158885, 0.011465503, 0.012406275, 0.012238907, 0.012583163, 0.010170768, 0.011486332, 0.012888277, 0.010861995, 0.011103868, 0.011849737, 0.011253384, 0.011133092, 0.012438965, 0.011375119, 0.012725176, 0.012615934, 0.010995277, 0.011081338, 0.010647597, 0.0101931095, 0.011185887, 0.011974018, 0.011491047, 0.011750678, 0.012150125, 0.010796373, 0.010603561, 0.012789272, 0.011232669, 0.01174633, 0.013209029, 0.011739091, 0.013479683, 0.013846284, 0.011671799, 0.010834749, 0.010494132, 0.012110074, 0.013654593, 0.0107981535, 0.012649988, 0.010475059, 0.012142345]\n",
      "2022-02-14 19:42:57,705 : INFO : merging changes from 2000 documents into a model of 3204 documents\n",
      "2022-02-14 19:42:57,711 : INFO : topic #32 (0.010): 0.075*\"oper\" + 0.067*\",\" + 0.048*\"system\" + 0.042*\"number\" + 0.036*\"perform\" + 0.029*\"partit\" + 0.027*\"memori\" + 0.025*\"page\" + 0.023*\"transfer\" + 0.022*\"mathemat\"\n",
      "2022-02-14 19:42:57,712 : INFO : topic #40 (0.010): 0.076*\"handl\" + 0.067*\"boundari\" + 0.058*\",\" + 0.047*\"flow\" + 0.042*\"discret\" + 0.039*\"examin\" + 0.036*\"simul\" + 0.032*\"-\" + 0.031*\"approxim\" + 0.031*\"problem\"\n",
      "2022-02-14 19:42:57,713 : INFO : topic #56 (0.015): 0.203*\"algorithm\" + 0.174*\"[\" + 0.162*\"(\" + 0.156*\"])\" + 0.051*\"permut\" + 0.023*\"function\" + 0.019*\"gener\" + 0.018*\"g6\" + 0.018*\"a1\" + 0.014*\"s14\"\n",
      "2022-02-14 19:42:57,714 : INFO : topic #15 (0.018): 0.562*\"method\" + 0.081*\"note\" + 0.075*\"squar\" + 0.068*\"seri\" + 0.053*\"'\" + 0.045*\"-\" + 0.024*\"comput\" + 0.018*\"gener\" + 0.015*\"root\" + 0.014*\"nonlinear\"\n",
      "2022-02-14 19:42:57,716 : INFO : topic #36 (0.034): 0.379*\"(\" + 0.371*\")\" + 0.181*\"algorithm\" + 0.021*\"function\" + 0.011*\"polynomi\" + 0.007*\"order\" + 0.005*\"interpol\" + 0.004*\"e4\" + 0.004*\"find\" + 0.003*\"jacobi\"\n",
      "2022-02-14 19:42:57,717 : INFO : topic diff=0.329665, rho=0.281696\n",
      "2022-02-14 19:42:58,750 : INFO : -6.495 per-word bound, 90.2 perplexity estimate based on a held-out corpus of 1204 documents with 49783 words\n",
      "2022-02-14 19:42:58,750 : INFO : PROGRESS: pass 10, at document #3204/3204\n",
      "2022-02-14 19:42:59,605 : INFO : optimized alpha [0.013311763, 0.012286335, 0.011926133, 0.012825755, 0.011023245, 0.012941357, 0.012316844, 0.010495924, 0.011530532, 0.01438246, 0.013576644, 0.011181013, 0.012595015, 0.011963434, 0.010909811, 0.018158853, 0.012146766, 0.010408654, 0.012310852, 0.011718332, 0.0106613785, 0.012197239, 0.012795747, 0.0112072835, 0.010604968, 0.0116967885, 0.011335863, 0.012127733, 0.010561369, 0.011092625, 0.0125215985, 0.011518976, 0.009991934, 0.0131125, 0.013124428, 0.011056544, 0.03516093, 0.011485807, 0.010768848, 0.010798205, 0.010205711, 0.011418254, 0.012630776, 0.01198324, 0.011217498, 0.011760045, 0.013102989, 0.012547525, 0.01169754, 0.012627923, 0.01234742, 0.010505518, 0.011470763, 0.014203383, 0.011829162, 0.011515302, 0.015172786, 0.011586131, 0.012618868, 0.012379702, 0.012760044, 0.01028171, 0.01157384, 0.013106637, 0.011011808, 0.011219519, 0.011955175, 0.011409025, 0.011261335, 0.012609041, 0.011468859, 0.012738056, 0.012867723, 0.0111145945, 0.011217856, 0.010690166, 0.0102838045, 0.011243257, 0.012159486, 0.011654123, 0.011939821, 0.012325131, 0.010910166, 0.01071458, 0.013014951, 0.011368012, 0.011914476, 0.013461651, 0.011890887, 0.013752554, 0.013981651, 0.011870621, 0.010937058, 0.010603142, 0.012243993, 0.013973171, 0.010922567, 0.012889871, 0.010545348, 0.012307135]\n",
      "2022-02-14 19:42:59,613 : INFO : merging changes from 1204 documents into a model of 3204 documents\n",
      "2022-02-14 19:42:59,626 : INFO : topic #32 (0.010): 0.078*\"oper\" + 0.067*\",\" + 0.051*\"system\" + 0.043*\"number\" + 0.039*\"perform\" + 0.033*\"partit\" + 0.032*\"memori\" + 0.026*\"page\" + 0.024*\"transfer\" + 0.022*\"mathemat\"\n",
      "2022-02-14 19:42:59,634 : INFO : topic #40 (0.010): 0.076*\"handl\" + 0.068*\"boundari\" + 0.059*\",\" + 0.055*\"flow\" + 0.045*\"discret\" + 0.039*\"examin\" + 0.034*\"simul\" + 0.033*\"approxim\" + 0.030*\"-\" + 0.028*\"problem\"\n",
      "2022-02-14 19:42:59,635 : INFO : topic #56 (0.015): 0.215*\"algorithm\" + 0.159*\"[\" + 0.155*\"(\" + 0.135*\"])\" + 0.066*\"permut\" + 0.022*\"function\" + 0.020*\"a1\" + 0.019*\"g6\" + 0.019*\"gener\" + 0.017*\"modifi\"\n",
      "2022-02-14 19:42:59,638 : INFO : topic #15 (0.018): 0.590*\"method\" + 0.077*\"note\" + 0.064*\"squar\" + 0.062*\"seri\" + 0.054*\"'\" + 0.044*\"-\" + 0.023*\"comput\" + 0.018*\"gener\" + 0.013*\"solv\" + 0.012*\"root\"\n",
      "2022-02-14 19:42:59,643 : INFO : topic #36 (0.035): 0.385*\"(\" + 0.374*\")\" + 0.174*\"algorithm\" + 0.022*\"function\" + 0.010*\"polynomi\" + 0.007*\"order\" + 0.004*\"find\" + 0.004*\"interpol\" + 0.004*\"e4\" + 0.003*\"jacobi\"\n",
      "2022-02-14 19:42:59,645 : INFO : topic diff=0.333396, rho=0.281696\n",
      "2022-02-14 19:42:59,665 : INFO : PROGRESS: pass 11, at document #2000/3204\n",
      "2022-02-14 19:43:00,524 : INFO : optimized alpha [0.0134561, 0.012419948, 0.012049054, 0.012954671, 0.011038254, 0.012920214, 0.012445427, 0.010488224, 0.011604323, 0.014520248, 0.0137655195, 0.011267864, 0.01268114, 0.012097445, 0.010886082, 0.018643603, 0.012127704, 0.010424562, 0.0124248555, 0.011720707, 0.010677792, 0.012230772, 0.0128376, 0.0112053435, 0.010590312, 0.011736027, 0.011370197, 0.012104407, 0.010568925, 0.01113824, 0.012547588, 0.011551363, 0.010007577, 0.013159898, 0.0131423315, 0.011139957, 0.037313443, 0.011516453, 0.010783099, 0.010827539, 0.010225416, 0.0114122825, 0.012710052, 0.011994683, 0.011176858, 0.0118113775, 0.0131251495, 0.012747733, 0.0117665315, 0.012616047, 0.012437306, 0.010509348, 0.011553156, 0.0144099435, 0.011842596, 0.01164712, 0.015620509, 0.011660243, 0.012753403, 0.012482289, 0.012886368, 0.010285262, 0.011609632, 0.013170559, 0.01104384, 0.011256138, 0.012081761, 0.011434011, 0.011281733, 0.012647013, 0.011560811, 0.012966187, 0.012953381, 0.0111505715, 0.01128654, 0.010764538, 0.010269406, 0.011359541, 0.012180668, 0.011649077, 0.011957975, 0.012391426, 0.010895908, 0.010699386, 0.013068729, 0.011437263, 0.011936221, 0.01355031, 0.011910572, 0.013945733, 0.014224514, 0.011807361, 0.010979495, 0.010630561, 0.01234141, 0.014121267, 0.0109376935, 0.012931323, 0.010583268, 0.012368985]\n",
      "2022-02-14 19:43:00,531 : INFO : merging changes from 2000 documents into a model of 3204 documents\n",
      "2022-02-14 19:43:00,538 : INFO : topic #32 (0.010): 0.076*\"oper\" + 0.069*\",\" + 0.046*\"system\" + 0.043*\"number\" + 0.036*\"perform\" + 0.030*\"partit\" + 0.028*\"memori\" + 0.024*\"page\" + 0.024*\"transfer\" + 0.022*\"mathemat\"\n",
      "2022-02-14 19:43:00,540 : INFO : topic #40 (0.010): 0.078*\"handl\" + 0.069*\"boundari\" + 0.057*\",\" + 0.052*\"flow\" + 0.042*\"discret\" + 0.039*\"examin\" + 0.036*\"simul\" + 0.031*\"-\" + 0.031*\"problem\" + 0.031*\"approxim\"\n",
      "2022-02-14 19:43:00,542 : INFO : topic #56 (0.016): 0.208*\"algorithm\" + 0.172*\"[\" + 0.162*\"(\" + 0.155*\"])\" + 0.051*\"permut\" + 0.023*\"function\" + 0.019*\"gener\" + 0.018*\"a1\" + 0.018*\"g6\" + 0.014*\"s14\"\n",
      "2022-02-14 19:43:00,543 : INFO : topic #15 (0.019): 0.570*\"method\" + 0.080*\"note\" + 0.074*\"squar\" + 0.066*\"seri\" + 0.053*\"'\" + 0.044*\"-\" + 0.024*\"comput\" + 0.017*\"gener\" + 0.015*\"root\" + 0.013*\"solv\"\n",
      "2022-02-14 19:43:00,544 : INFO : topic #36 (0.037): 0.382*\"(\" + 0.373*\")\" + 0.179*\"algorithm\" + 0.021*\"function\" + 0.011*\"polynomi\" + 0.007*\"order\" + 0.005*\"interpol\" + 0.004*\"e4\" + 0.004*\"find\" + 0.003*\"jacobi\"\n",
      "2022-02-14 19:43:00,546 : INFO : topic diff=0.288897, rho=0.271143\n",
      "2022-02-14 19:43:01,545 : INFO : -6.484 per-word bound, 89.5 perplexity estimate based on a held-out corpus of 1204 documents with 49783 words\n",
      "2022-02-14 19:43:01,545 : INFO : PROGRESS: pass 11, at document #3204/3204\n",
      "2022-02-14 19:43:02,387 : INFO : optimized alpha [0.013811378, 0.012584484, 0.012127475, 0.013194757, 0.01112541, 0.013154296, 0.012606891, 0.010552249, 0.011701865, 0.014797487, 0.014176874, 0.011339039, 0.012886926, 0.0122278435, 0.011010396, 0.019166933, 0.012320563, 0.010519143, 0.012533466, 0.011890956, 0.010764407, 0.012451234, 0.013040603, 0.011304542, 0.01068486, 0.011957948, 0.011515556, 0.012288584, 0.0106517, 0.011238765, 0.01273682, 0.011664531, 0.010077531, 0.013408645, 0.01339928, 0.011293332, 0.038634002, 0.011667668, 0.01087399, 0.010896861, 0.010277855, 0.011528874, 0.012902422, 0.012167956, 0.011342523, 0.011973194, 0.01339559, 0.012863517, 0.011891956, 0.01285493, 0.012658876, 0.010613994, 0.01168327, 0.014744789, 0.011967148, 0.011722446, 0.015626023, 0.011782685, 0.012960961, 0.012616101, 0.013055623, 0.010393075, 0.011691892, 0.013383185, 0.011197116, 0.011370928, 0.012189257, 0.011595447, 0.011406282, 0.012806508, 0.011659446, 0.012977241, 0.013202412, 0.011271438, 0.0114271585, 0.010810603, 0.010362175, 0.011414821, 0.012369509, 0.011804921, 0.012147632, 0.012561686, 0.011026412, 0.010816935, 0.013288728, 0.011563663, 0.0121079255, 0.013797016, 0.012060675, 0.014222719, 0.014358219, 0.011995168, 0.011078798, 0.010738899, 0.012471301, 0.014444007, 0.011061011, 0.013177125, 0.010651453, 0.012532005]\n",
      "2022-02-14 19:43:02,395 : INFO : merging changes from 1204 documents into a model of 3204 documents\n",
      "2022-02-14 19:43:02,405 : INFO : topic #32 (0.010): 0.080*\"oper\" + 0.069*\",\" + 0.048*\"system\" + 0.044*\"number\" + 0.039*\"perform\" + 0.036*\"partit\" + 0.032*\"memori\" + 0.025*\"page\" + 0.025*\"transfer\" + 0.022*\"mathemat\"\n",
      "2022-02-14 19:43:02,408 : INFO : topic #40 (0.010): 0.078*\"handl\" + 0.070*\"boundari\" + 0.059*\"flow\" + 0.057*\",\" + 0.045*\"discret\" + 0.039*\"examin\" + 0.033*\"simul\" + 0.032*\"approxim\" + 0.030*\"-\" + 0.028*\"problem\"\n",
      "2022-02-14 19:43:02,408 : INFO : topic #56 (0.016): 0.217*\"algorithm\" + 0.158*\"[\" + 0.155*\"(\" + 0.136*\"])\" + 0.066*\"permut\" + 0.022*\"function\" + 0.021*\"a1\" + 0.019*\"g6\" + 0.019*\"gener\" + 0.018*\"modifi\"\n",
      "2022-02-14 19:43:02,420 : INFO : topic #15 (0.019): 0.597*\"method\" + 0.076*\"note\" + 0.064*\"squar\" + 0.061*\"seri\" + 0.054*\"'\" + 0.044*\"-\" + 0.023*\"comput\" + 0.017*\"gener\" + 0.012*\"root\" + 0.012*\"solv\"\n",
      "2022-02-14 19:43:02,426 : INFO : topic #36 (0.039): 0.387*\"(\" + 0.376*\")\" + 0.174*\"algorithm\" + 0.021*\"function\" + 0.010*\"polynomi\" + 0.007*\"order\" + 0.004*\"find\" + 0.004*\"interpol\" + 0.004*\"e4\" + 0.002*\"jacobi\"\n",
      "2022-02-14 19:43:02,430 : INFO : topic diff=0.294427, rho=0.271143\n",
      "2022-02-14 19:43:02,442 : INFO : PROGRESS: pass 12, at document #2000/3204\n",
      "2022-02-14 19:43:03,284 : INFO : optimized alpha [0.0139470035, 0.0127134845, 0.01225222, 0.013325801, 0.011140139, 0.013132843, 0.012742557, 0.010546563, 0.011778352, 0.014937558, 0.014374087, 0.011422258, 0.012972204, 0.012360434, 0.010985965, 0.019667475, 0.012306388, 0.010534664, 0.012646309, 0.01189286, 0.01078053, 0.012484856, 0.013079212, 0.011302806, 0.01067505, 0.011995485, 0.011548717, 0.012267066, 0.010660591, 0.011283171, 0.012759933, 0.011695975, 0.010096972, 0.013462803, 0.013419191, 0.011382065, 0.040855795, 0.011700305, 0.010889414, 0.010929837, 0.010301306, 0.011521622, 0.012979374, 0.012177088, 0.011307326, 0.012021254, 0.013416007, 0.013068646, 0.011965336, 0.012840746, 0.012751217, 0.010620557, 0.011765047, 0.014944048, 0.011981821, 0.011848141, 0.016066194, 0.011854879, 0.013100899, 0.012722793, 0.013183925, 0.010400558, 0.011725301, 0.013443054, 0.011229519, 0.011407948, 0.012314568, 0.011626988, 0.011427524, 0.012843138, 0.011752129, 0.0132006, 0.013285399, 0.011304862, 0.0115001295, 0.010884518, 0.010349782, 0.011529817, 0.012392833, 0.011796665, 0.012166341, 0.01262599, 0.011013979, 0.010805114, 0.013336939, 0.011635523, 0.012128718, 0.0138828615, 0.0120812105, 0.014427399, 0.014604348, 0.01193192, 0.011120096, 0.010769757, 0.012567912, 0.014588699, 0.011078527, 0.01321841, 0.010689852, 0.012591967]\n",
      "2022-02-14 19:43:03,291 : INFO : merging changes from 2000 documents into a model of 3204 documents\n",
      "2022-02-14 19:43:03,298 : INFO : topic #32 (0.010): 0.078*\"oper\" + 0.070*\",\" + 0.045*\"system\" + 0.043*\"number\" + 0.036*\"perform\" + 0.032*\"partit\" + 0.029*\"memori\" + 0.024*\"transfer\" + 0.024*\"page\" + 0.022*\"rate\"\n",
      "2022-02-14 19:43:03,299 : INFO : topic #76 (0.010): 0.073*\",\" + 0.068*\"set\" + 0.052*\"method\" + 0.044*\":\" + 0.035*\"condit\" + 0.032*\";\" + 0.030*\"circuit\" + 0.028*\"reveal\" + 0.027*\"\"\" + 0.026*\"cluster\"\n",
      "2022-02-14 19:43:03,300 : INFO : topic #56 (0.016): 0.209*\"algorithm\" + 0.172*\"[\" + 0.162*\"(\" + 0.155*\"])\" + 0.051*\"permut\" + 0.023*\"function\" + 0.019*\"gener\" + 0.018*\"a1\" + 0.018*\"g6\" + 0.014*\"s14\"\n",
      "2022-02-14 19:43:03,301 : INFO : topic #15 (0.020): 0.577*\"method\" + 0.079*\"note\" + 0.073*\"squar\" + 0.065*\"seri\" + 0.053*\"'\" + 0.044*\"-\" + 0.025*\"comput\" + 0.016*\"gener\" + 0.015*\"root\" + 0.012*\"solv\"\n",
      "2022-02-14 19:43:03,302 : INFO : topic #36 (0.041): 0.383*\"(\" + 0.375*\")\" + 0.179*\"algorithm\" + 0.021*\"function\" + 0.010*\"polynomi\" + 0.007*\"order\" + 0.005*\"interpol\" + 0.004*\"e4\" + 0.004*\"find\" + 0.003*\"jacobi\"\n",
      "2022-02-14 19:43:03,303 : INFO : topic diff=0.256688, rho=0.261694\n",
      "2022-02-14 19:43:04,287 : INFO : -6.474 per-word bound, 88.9 perplexity estimate based on a held-out corpus of 1204 documents with 49783 words\n",
      "2022-02-14 19:43:04,289 : INFO : PROGRESS: pass 12, at document #3204/3204\n",
      "2022-02-14 19:43:05,484 : INFO : optimized alpha [0.014297928, 0.012882189, 0.012328009, 0.013561178, 0.011229874, 0.013361357, 0.012902942, 0.010609019, 0.011873103, 0.015202517, 0.014817542, 0.01148385, 0.013173288, 0.012492585, 0.011102197, 0.020194286, 0.012497111, 0.010626762, 0.012751725, 0.012056218, 0.010871939, 0.012700347, 0.0132920435, 0.011399392, 0.010767117, 0.012220586, 0.011700517, 0.012446573, 0.010745808, 0.01138598, 0.012938867, 0.011806094, 0.010162876, 0.0137149, 0.013667527, 0.0115419, 0.042172484, 0.011852848, 0.010980247, 0.011004368, 0.010352397, 0.011637594, 0.013175625, 0.012340655, 0.011478621, 0.012179018, 0.013695395, 0.013186624, 0.012090146, 0.013074026, 0.012970993, 0.010727096, 0.011889309, 0.0152774155, 0.012105839, 0.011923642, 0.01606728, 0.011976647, 0.013309628, 0.012858429, 0.013357754, 0.01050777, 0.011802781, 0.013650547, 0.011383935, 0.011517203, 0.012424307, 0.011789399, 0.0115514025, 0.012995571, 0.0118504735, 0.01320995, 0.013529249, 0.011417641, 0.011639842, 0.010929223, 0.010440104, 0.01159578, 0.012577138, 0.011948499, 0.0123569025, 0.01279751, 0.011143544, 0.010919591, 0.013545956, 0.011761142, 0.01228827, 0.0141332755, 0.0122274775, 0.014709085, 0.014733582, 0.012112271, 0.011226509, 0.010877601, 0.012697055, 0.014912751, 0.011196177, 0.013456033, 0.010749158, 0.012750849]\n",
      "2022-02-14 19:43:05,493 : INFO : merging changes from 1204 documents into a model of 3204 documents\n",
      "2022-02-14 19:43:05,502 : INFO : topic #32 (0.010): 0.081*\"oper\" + 0.071*\",\" + 0.046*\"system\" + 0.044*\"number\" + 0.039*\"perform\" + 0.037*\"partit\" + 0.031*\"memori\" + 0.025*\"transfer\" + 0.025*\"page\" + 0.022*\"mathemat\"\n",
      "2022-02-14 19:43:05,503 : INFO : topic #40 (0.010): 0.079*\"handl\" + 0.070*\"boundari\" + 0.063*\"flow\" + 0.056*\",\" + 0.045*\"discret\" + 0.040*\"examin\" + 0.033*\"simul\" + 0.031*\"approxim\" + 0.029*\"-\" + 0.029*\"problem\"\n",
      "2022-02-14 19:43:05,515 : INFO : topic #56 (0.016): 0.220*\"algorithm\" + 0.158*\"[\" + 0.154*\"(\" + 0.136*\"])\" + 0.065*\"permut\" + 0.022*\"function\" + 0.021*\"a1\" + 0.019*\"g6\" + 0.018*\"gener\" + 0.018*\"modifi\"\n",
      "2022-02-14 19:43:05,520 : INFO : topic #15 (0.020): 0.601*\"method\" + 0.076*\"note\" + 0.064*\"squar\" + 0.061*\"seri\" + 0.054*\"'\" + 0.044*\"-\" + 0.024*\"comput\" + 0.016*\"gener\" + 0.012*\"root\" + 0.011*\"solv\"\n",
      "2022-02-14 19:43:05,522 : INFO : topic #36 (0.042): 0.388*\"(\" + 0.377*\")\" + 0.173*\"algorithm\" + 0.021*\"function\" + 0.010*\"polynomi\" + 0.007*\"order\" + 0.004*\"find\" + 0.004*\"interpol\" + 0.004*\"e4\" + 0.002*\"jacobi\"\n",
      "2022-02-14 19:43:05,531 : INFO : topic diff=0.262722, rho=0.261694\n",
      "2022-02-14 19:43:05,543 : INFO : PROGRESS: pass 13, at document #2000/3204\n",
      "2022-02-14 19:43:06,582 : INFO : optimized alpha [0.014430461, 0.01301337, 0.012446918, 0.01368941, 0.011245781, 0.013336241, 0.013037555, 0.010603866, 0.011949346, 0.015344968, 0.015014098, 0.011571143, 0.013261268, 0.012622468, 0.0110813575, 0.020701049, 0.012482819, 0.010642009, 0.012862049, 0.012062367, 0.010887675, 0.012732483, 0.01334792, 0.011399342, 0.010756412, 0.012258087, 0.011734071, 0.012423672, 0.010757371, 0.011432217, 0.012967686, 0.01183671, 0.010181963, 0.013768773, 0.013685934, 0.011637416, 0.044459537, 0.011884426, 0.010995329, 0.011038014, 0.010375511, 0.011632086, 0.013250382, 0.012347655, 0.011441059, 0.012222536, 0.013722797, 0.013383401, 0.012163299, 0.0130610615, 0.0130626, 0.0107348515, 0.011975235, 0.015481178, 0.01212009, 0.012043625, 0.016506564, 0.012048586, 0.013446784, 0.012967609, 0.013485152, 0.010511061, 0.011830986, 0.013706726, 0.011419625, 0.011553244, 0.012548546, 0.011822783, 0.011569077, 0.013027737, 0.011945523, 0.013430678, 0.013611494, 0.011457406, 0.0117125325, 0.011002845, 0.010430905, 0.011712711, 0.012597795, 0.011941752, 0.01238405, 0.012860027, 0.011127081, 0.010912277, 0.013597718, 0.011835758, 0.012312969, 0.014220096, 0.01224569, 0.014920174, 0.0149775855, 0.012050483, 0.011266815, 0.010908987, 0.012793005, 0.015063761, 0.011213211, 0.013504094, 0.010786711, 0.012807506]\n",
      "2022-02-14 19:43:06,589 : INFO : merging changes from 2000 documents into a model of 3204 documents\n",
      "2022-02-14 19:43:06,598 : INFO : topic #32 (0.010): 0.079*\"oper\" + 0.072*\",\" + 0.044*\"number\" + 0.043*\"system\" + 0.036*\"perform\" + 0.034*\"partit\" + 0.028*\"memori\" + 0.025*\"transfer\" + 0.024*\"page\" + 0.023*\"rate\"\n",
      "2022-02-14 19:43:06,614 : INFO : topic #76 (0.010): 0.073*\",\" + 0.070*\"set\" + 0.053*\"method\" + 0.044*\":\" + 0.036*\"condit\" + 0.032*\"circuit\" + 0.031*\";\" + 0.028*\"reveal\" + 0.027*\"cluster\" + 0.026*\"mainten\"\n",
      "2022-02-14 19:43:06,615 : INFO : topic #56 (0.017): 0.211*\"algorithm\" + 0.171*\"[\" + 0.161*\"(\" + 0.155*\"])\" + 0.052*\"permut\" + 0.023*\"function\" + 0.019*\"gener\" + 0.018*\"a1\" + 0.018*\"g6\" + 0.014*\"s14\"\n",
      "2022-02-14 19:43:06,616 : INFO : topic #15 (0.021): 0.582*\"method\" + 0.079*\"note\" + 0.072*\"squar\" + 0.065*\"seri\" + 0.054*\"'\" + 0.043*\"-\" + 0.025*\"comput\" + 0.016*\"root\" + 0.015*\"gener\" + 0.011*\"nonlinear\"\n",
      "2022-02-14 19:43:06,618 : INFO : topic #36 (0.044): 0.385*\"(\" + 0.376*\")\" + 0.178*\"algorithm\" + 0.020*\"function\" + 0.010*\"polynomi\" + 0.007*\"order\" + 0.005*\"interpol\" + 0.004*\"e4\" + 0.004*\"find\" + 0.003*\"jacobi\"\n",
      "2022-02-14 19:43:06,619 : INFO : topic diff=0.230706, rho=0.253169\n",
      "2022-02-14 19:43:07,572 : INFO : -6.464 per-word bound, 88.3 perplexity estimate based on a held-out corpus of 1204 documents with 49783 words\n",
      "2022-02-14 19:43:07,572 : INFO : PROGRESS: pass 13, at document #3204/3204\n",
      "2022-02-14 19:43:08,361 : INFO : optimized alpha [0.014777572, 0.013178384, 0.012515088, 0.013917447, 0.011333289, 0.013562627, 0.0132108675, 0.010664907, 0.012049197, 0.015611391, 0.015465751, 0.011630984, 0.013460885, 0.012753952, 0.011194713, 0.021252932, 0.012674498, 0.010731835, 0.012964578, 0.01222711, 0.010979143, 0.012946282, 0.013550606, 0.011493574, 0.010848484, 0.012481568, 0.011884965, 0.01260431, 0.010849666, 0.0115301525, 0.0131453145, 0.011944107, 0.010250584, 0.014021747, 0.013929201, 0.011803764, 0.045724906, 0.01203606, 0.011083894, 0.011113021, 0.010427584, 0.011745248, 0.013448083, 0.012515312, 0.01160355, 0.012374153, 0.013991378, 0.013506625, 0.012285052, 0.013286639, 0.013275418, 0.01083884, 0.01210153, 0.015803669, 0.01224881, 0.012124496, 0.01650682, 0.012167419, 0.013654191, 0.013102634, 0.013649348, 0.010620089, 0.011906469, 0.013915388, 0.011578001, 0.011662182, 0.012658011, 0.011986565, 0.011697338, 0.013173778, 0.012041304, 0.0134356795, 0.013850768, 0.01157222, 0.011863945, 0.011046303, 0.01053011, 0.011779175, 0.012791279, 0.012090033, 0.012573137, 0.013022258, 0.011265408, 0.011023974, 0.013808025, 0.011960898, 0.012474077, 0.014465666, 0.012388492, 0.01522591, 0.015096341, 0.012223857, 0.011368272, 0.011016515, 0.012924201, 0.01539293, 0.01133987, 0.013742591, 0.010846791, 0.012973442]\n",
      "2022-02-14 19:43:08,370 : INFO : merging changes from 1204 documents into a model of 3204 documents\n",
      "2022-02-14 19:43:08,382 : INFO : topic #32 (0.010): 0.083*\"oper\" + 0.072*\",\" + 0.045*\"system\" + 0.044*\"number\" + 0.039*\"perform\" + 0.038*\"partit\" + 0.030*\"memori\" + 0.026*\"transfer\" + 0.025*\"page\" + 0.022*\"rate\"\n",
      "2022-02-14 19:43:08,386 : INFO : topic #40 (0.010): 0.080*\"handl\" + 0.071*\"boundari\" + 0.067*\"flow\" + 0.055*\",\" + 0.045*\"discret\" + 0.040*\"examin\" + 0.033*\"simul\" + 0.030*\"approxim\" + 0.029*\"-\" + 0.029*\"problem\"\n",
      "2022-02-14 19:43:08,387 : INFO : topic #56 (0.017): 0.222*\"algorithm\" + 0.158*\"[\" + 0.154*\"(\" + 0.136*\"])\" + 0.065*\"permut\" + 0.022*\"function\" + 0.021*\"a1\" + 0.019*\"g6\" + 0.018*\"gener\" + 0.018*\"modifi\"\n",
      "2022-02-14 19:43:08,388 : INFO : topic #15 (0.021): 0.606*\"method\" + 0.075*\"note\" + 0.063*\"squar\" + 0.060*\"seri\" + 0.054*\"'\" + 0.043*\"-\" + 0.024*\"comput\" + 0.015*\"gener\" + 0.013*\"root\" + 0.010*\"solv\"\n",
      "2022-02-14 19:43:08,393 : INFO : topic #36 (0.046): 0.390*\"(\" + 0.379*\")\" + 0.172*\"algorithm\" + 0.020*\"function\" + 0.010*\"polynomi\" + 0.007*\"order\" + 0.004*\"find\" + 0.004*\"e4\" + 0.004*\"interpol\" + 0.002*\"jacobi\"\n",
      "2022-02-14 19:43:08,394 : INFO : topic diff=0.237248, rho=0.253169\n",
      "2022-02-14 19:43:08,405 : INFO : PROGRESS: pass 14, at document #2000/3204\n",
      "2022-02-14 19:43:09,228 : INFO : optimized alpha [0.014912748, 0.013303859, 0.012633143, 0.014043102, 0.011348974, 0.013545677, 0.013346255, 0.010661526, 0.012135619, 0.015750682, 0.015675152, 0.011716445, 0.013548368, 0.012881406, 0.011175876, 0.021769004, 0.012663136, 0.010750725, 0.01307585, 0.012232773, 0.010995959, 0.012981828, 0.013604767, 0.011493708, 0.010838215, 0.012522209, 0.011917538, 0.0125894295, 0.010858367, 0.011572538, 0.013171365, 0.011974004, 0.0102732, 0.014075355, 0.013956598, 0.011907582, 0.048056915, 0.012074027, 0.01110009, 0.011147355, 0.010450368, 0.0117399255, 0.013520911, 0.012518689, 0.011569545, 0.012416444, 0.014018837, 0.013705561, 0.012362636, 0.013274809, 0.013368132, 0.01085042, 0.012185662, 0.016004525, 0.012262624, 0.012242083, 0.01693566, 0.012236305, 0.013792111, 0.013211228, 0.013772589, 0.010627193, 0.011931243, 0.013968072, 0.011618384, 0.0117002055, 0.012781454, 0.012020329, 0.011721644, 0.0132017685, 0.012138838, 0.01365421, 0.013930732, 0.011612422, 0.011933504, 0.011121095, 0.010527756, 0.011893828, 0.012814081, 0.01208474, 0.012599188, 0.01308955, 0.011253393, 0.011018208, 0.013863179, 0.01203531, 0.0124994535, 0.014548279, 0.012407622, 0.015455048, 0.015338603, 0.012160447, 0.011410452, 0.011041662, 0.013019722, 0.015545032, 0.011357753, 0.013790528, 0.010890283, 0.013026917]\n",
      "2022-02-14 19:43:09,234 : INFO : merging changes from 2000 documents into a model of 3204 documents\n",
      "2022-02-14 19:43:09,240 : INFO : topic #32 (0.010): 0.080*\"oper\" + 0.073*\",\" + 0.044*\"number\" + 0.043*\"system\" + 0.037*\"perform\" + 0.034*\"partit\" + 0.027*\"memori\" + 0.025*\"transfer\" + 0.024*\"page\" + 0.023*\"rate\"\n",
      "2022-02-14 19:43:09,241 : INFO : topic #40 (0.010): 0.081*\"handl\" + 0.070*\"boundari\" + 0.064*\"flow\" + 0.054*\",\" + 0.042*\"discret\" + 0.041*\"examin\" + 0.035*\"simul\" + 0.031*\"problem\" + 0.030*\"-\" + 0.028*\"approxim\"\n",
      "2022-02-14 19:43:09,242 : INFO : topic #56 (0.017): 0.214*\"algorithm\" + 0.170*\"[\" + 0.161*\"(\" + 0.154*\"])\" + 0.052*\"permut\" + 0.023*\"function\" + 0.019*\"a1\" + 0.019*\"gener\" + 0.018*\"g6\" + 0.014*\"modifi\"\n",
      "2022-02-14 19:43:09,243 : INFO : topic #15 (0.022): 0.588*\"method\" + 0.078*\"note\" + 0.072*\"squar\" + 0.064*\"seri\" + 0.054*\"'\" + 0.043*\"-\" + 0.025*\"comput\" + 0.016*\"root\" + 0.014*\"gener\" + 0.010*\"solv\"\n",
      "2022-02-14 19:43:09,245 : INFO : topic #36 (0.048): 0.386*\"(\" + 0.377*\")\" + 0.177*\"algorithm\" + 0.020*\"function\" + 0.010*\"polynomi\" + 0.007*\"order\" + 0.005*\"interpol\" + 0.004*\"e4\" + 0.004*\"find\" + 0.003*\"jacobi\"\n",
      "2022-02-14 19:43:09,246 : INFO : topic diff=0.209657, rho=0.245426\n",
      "2022-02-14 19:43:10,214 : INFO : -6.457 per-word bound, 87.8 perplexity estimate based on a held-out corpus of 1204 documents with 49783 words\n",
      "2022-02-14 19:43:10,215 : INFO : PROGRESS: pass 14, at document #3204/3204\n",
      "2022-02-14 19:43:11,002 : INFO : optimized alpha [0.015262466, 0.013465401, 0.012696694, 0.014272821, 0.011441468, 0.0137676075, 0.013535413, 0.01072349, 0.0122330105, 0.016025202, 0.016138645, 0.01177234, 0.01374962, 0.013009848, 0.011288923, 0.022324914, 0.012845595, 0.01083628, 0.013175731, 0.0123991035, 0.011087636, 0.013196892, 0.013806468, 0.011588146, 0.010932595, 0.012739346, 0.01207269, 0.012768846, 0.010948575, 0.011675397, 0.013342574, 0.012078922, 0.0103381695, 0.014329644, 0.014192484, 0.012075706, 0.049288224, 0.0122298505, 0.011186623, 0.011220632, 0.010505582, 0.011857727, 0.013711923, 0.012680219, 0.011730839, 0.012567352, 0.014291375, 0.013828373, 0.012486668, 0.013493245, 0.013587993, 0.01094983, 0.012309256, 0.01632625, 0.012390985, 0.012318269, 0.01692827, 0.01235992, 0.014004038, 0.013343178, 0.013938969, 0.010735928, 0.012007498, 0.014169599, 0.011773636, 0.011806626, 0.012888208, 0.012185549, 0.011844702, 0.013344531, 0.012232216, 0.013657806, 0.014165768, 0.011729416, 0.012086833, 0.01116343, 0.010626806, 0.011953529, 0.013001185, 0.012229773, 0.012795029, 0.01324829, 0.011391059, 0.011138715, 0.014066417, 0.012157665, 0.012657176, 0.014783343, 0.012542154, 0.015744591, 0.015453553, 0.012335064, 0.01151197, 0.011146814, 0.013139863, 0.01587033, 0.011481635, 0.014030353, 0.010955652, 0.013194633]\n",
      "2022-02-14 19:43:11,008 : INFO : merging changes from 1204 documents into a model of 3204 documents\n",
      "2022-02-14 19:43:11,019 : INFO : topic #32 (0.010): 0.083*\"oper\" + 0.074*\",\" + 0.045*\"number\" + 0.044*\"system\" + 0.039*\"perform\" + 0.038*\"partit\" + 0.029*\"memori\" + 0.026*\"transfer\" + 0.025*\"page\" + 0.023*\"rate\"\n",
      "2022-02-14 19:43:11,020 : INFO : topic #40 (0.011): 0.080*\"handl\" + 0.071*\"boundari\" + 0.070*\"flow\" + 0.054*\",\" + 0.045*\"discret\" + 0.041*\"examin\" + 0.032*\"simul\" + 0.029*\"approxim\" + 0.029*\"-\" + 0.029*\"problem\"\n",
      "2022-02-14 19:43:11,021 : INFO : topic #56 (0.017): 0.222*\"algorithm\" + 0.158*\"[\" + 0.154*\"(\" + 0.137*\"])\" + 0.065*\"permut\" + 0.023*\"function\" + 0.021*\"a1\" + 0.019*\"g6\" + 0.018*\"modifi\" + 0.018*\"gener\"\n",
      "2022-02-14 19:43:11,026 : INFO : topic #15 (0.022): 0.612*\"method\" + 0.074*\"note\" + 0.063*\"squar\" + 0.060*\"seri\" + 0.055*\"'\" + 0.042*\"-\" + 0.024*\"comput\" + 0.014*\"gener\" + 0.013*\"root\" + 0.009*\"solv\"\n",
      "2022-02-14 19:43:11,029 : INFO : topic #36 (0.049): 0.391*\"(\" + 0.380*\")\" + 0.171*\"algorithm\" + 0.020*\"function\" + 0.010*\"polynomi\" + 0.007*\"order\" + 0.004*\"find\" + 0.004*\"e4\" + 0.004*\"interpol\" + 0.002*\"jacobi\"\n",
      "2022-02-14 19:43:11,031 : INFO : topic diff=0.215997, rho=0.245426\n",
      "2022-02-14 19:43:11,046 : INFO : PROGRESS: pass 15, at document #2000/3204\n",
      "2022-02-14 19:43:11,877 : INFO : optimized alpha [0.015398671, 0.013585383, 0.012815588, 0.014399429, 0.0114568835, 0.013746965, 0.013670193, 0.010720537, 0.012316222, 0.016167415, 0.016353607, 0.011854757, 0.013833425, 0.01313507, 0.011267903, 0.022852907, 0.012840186, 0.010856148, 0.013283262, 0.012404295, 0.011102793, 0.013231055, 0.013862508, 0.011588411, 0.010922713, 0.012776981, 0.012107163, 0.012753901, 0.010959792, 0.011718259, 0.013364502, 0.012108115, 0.010357916, 0.014386574, 0.014216825, 0.012186348, 0.0516549, 0.012266759, 0.011199841, 0.011256988, 0.010533066, 0.011852538, 0.013781297, 0.012680166, 0.011695909, 0.012608495, 0.014322316, 0.0140246935, 0.012564167, 0.013480904, 0.013681881, 0.01096249, 0.012396123, 0.01652616, 0.012410446, 0.012429198, 0.017357068, 0.012427313, 0.014141258, 0.013460904, 0.014061598, 0.010749213, 0.012033338, 0.014220654, 0.011812921, 0.011845191, 0.013007958, 0.012221175, 0.0118684, 0.013371639, 0.012330781, 0.013871112, 0.014243611, 0.011771433, 0.012160707, 0.011235487, 0.01062322, 0.012070313, 0.0130261285, 0.012225878, 0.012818511, 0.013315612, 0.011383274, 0.011142442, 0.014119891, 0.012233468, 0.012675593, 0.014865468, 0.012560704, 0.01597319, 0.015694367, 0.012274477, 0.011556011, 0.011176736, 0.013233529, 0.016023336, 0.01149901, 0.014083276, 0.010999601, 0.013249846]\n",
      "2022-02-14 19:43:11,884 : INFO : merging changes from 2000 documents into a model of 3204 documents\n",
      "2022-02-14 19:43:11,893 : INFO : topic #32 (0.010): 0.080*\"oper\" + 0.075*\",\" + 0.044*\"number\" + 0.042*\"system\" + 0.037*\"perform\" + 0.035*\"partit\" + 0.026*\"memori\" + 0.026*\"transfer\" + 0.024*\"page\" + 0.023*\"rate\"\n",
      "2022-02-14 19:43:11,895 : INFO : topic #40 (0.011): 0.081*\"handl\" + 0.070*\"boundari\" + 0.068*\"flow\" + 0.054*\",\" + 0.042*\"discret\" + 0.042*\"examin\" + 0.034*\"simul\" + 0.031*\"problem\" + 0.030*\"-\" + 0.028*\"approxim\"\n",
      "2022-02-14 19:43:11,896 : INFO : topic #56 (0.017): 0.213*\"algorithm\" + 0.170*\"[\" + 0.161*\"(\" + 0.154*\"])\" + 0.052*\"permut\" + 0.023*\"function\" + 0.019*\"a1\" + 0.019*\"gener\" + 0.018*\"g6\" + 0.014*\"modifi\"\n",
      "2022-02-14 19:43:11,897 : INFO : topic #15 (0.023): 0.594*\"method\" + 0.077*\"note\" + 0.071*\"squar\" + 0.063*\"seri\" + 0.054*\"'\" + 0.042*\"-\" + 0.025*\"comput\" + 0.017*\"root\" + 0.014*\"gener\" + 0.009*\"solv\"\n",
      "2022-02-14 19:43:11,898 : INFO : topic #36 (0.052): 0.387*\"(\" + 0.378*\")\" + 0.176*\"algorithm\" + 0.019*\"function\" + 0.010*\"polynomi\" + 0.007*\"order\" + 0.004*\"interpol\" + 0.004*\"e4\" + 0.004*\"find\" + 0.003*\"jacobi\"\n",
      "2022-02-14 19:43:11,899 : INFO : topic diff=0.192415, rho=0.238352\n",
      "2022-02-14 19:43:12,802 : INFO : -6.450 per-word bound, 87.4 perplexity estimate based on a held-out corpus of 1204 documents with 49783 words\n",
      "2022-02-14 19:43:12,803 : INFO : PROGRESS: pass 15, at document #3204/3204\n",
      "2022-02-14 19:43:13,543 : INFO : optimized alpha [0.015745223, 0.013746277, 0.012877309, 0.014628285, 0.0115519995, 0.013964762, 0.013866993, 0.010781263, 0.0124138575, 0.016427988, 0.016829519, 0.011909297, 0.014031069, 0.013260698, 0.011378588, 0.023412803, 0.013026775, 0.0109442, 0.013383339, 0.012564882, 0.011201378, 0.01344253, 0.0140662845, 0.01167857, 0.011015141, 0.012990582, 0.012259351, 0.012929774, 0.011045878, 0.011816598, 0.013526945, 0.01221077, 0.01041942, 0.014639575, 0.014451451, 0.012356581, 0.052853942, 0.012429377, 0.011284535, 0.011326433, 0.0105871055, 0.011972564, 0.013968749, 0.012838413, 0.011846965, 0.012753888, 0.014596433, 0.014133422, 0.012690594, 0.013689956, 0.013898204, 0.0110642435, 0.0125221275, 0.016840706, 0.012538725, 0.012505875, 0.017349299, 0.012550876, 0.014352422, 0.013592629, 0.014221866, 0.010857875, 0.012107975, 0.014418273, 0.011962869, 0.0119493, 0.013112235, 0.012388185, 0.011986578, 0.013511344, 0.012431702, 0.013873426, 0.014474743, 0.011890626, 0.012316105, 0.011276761, 0.010726585, 0.012130733, 0.013209692, 0.01236795, 0.013013478, 0.013465872, 0.011522819, 0.011256019, 0.014313749, 0.012362973, 0.012835292, 0.0150963785, 0.012694968, 0.016290996, 0.015802575, 0.012448049, 0.011659975, 0.011284127, 0.013358919, 0.01634804, 0.011631769, 0.014319178, 0.011065734, 0.013406413]\n",
      "2022-02-14 19:43:13,551 : INFO : merging changes from 1204 documents into a model of 3204 documents\n",
      "2022-02-14 19:43:13,566 : INFO : topic #32 (0.010): 0.083*\"oper\" + 0.076*\",\" + 0.045*\"number\" + 0.044*\"system\" + 0.039*\"perform\" + 0.039*\"partit\" + 0.027*\"memori\" + 0.027*\"transfer\" + 0.025*\"page\" + 0.023*\"rate\"\n",
      "2022-02-14 19:43:13,567 : INFO : topic #40 (0.011): 0.080*\"handl\" + 0.074*\"flow\" + 0.071*\"boundari\" + 0.054*\",\" + 0.045*\"discret\" + 0.042*\"examin\" + 0.032*\"simul\" + 0.029*\"-\" + 0.029*\"approxim\" + 0.029*\"problem\"\n",
      "2022-02-14 19:43:13,568 : INFO : topic #56 (0.017): 0.221*\"algorithm\" + 0.158*\"[\" + 0.155*\"(\" + 0.137*\"])\" + 0.064*\"permut\" + 0.023*\"function\" + 0.021*\"a1\" + 0.019*\"g6\" + 0.019*\"modifi\" + 0.018*\"gener\"\n",
      "2022-02-14 19:43:13,576 : INFO : topic #15 (0.023): 0.616*\"method\" + 0.074*\"note\" + 0.063*\"squar\" + 0.059*\"seri\" + 0.055*\"'\" + 0.042*\"-\" + 0.024*\"comput\" + 0.014*\"gener\" + 0.014*\"root\" + 0.008*\"solv\"\n",
      "2022-02-14 19:43:13,583 : INFO : topic #36 (0.053): 0.392*\"(\" + 0.381*\")\" + 0.171*\"algorithm\" + 0.019*\"function\" + 0.010*\"polynomi\" + 0.007*\"order\" + 0.004*\"find\" + 0.004*\"e4\" + 0.003*\"interpol\" + 0.002*\"jacobi\"\n",
      "2022-02-14 19:43:13,584 : INFO : topic diff=0.198260, rho=0.238352\n",
      "2022-02-14 19:43:13,601 : INFO : PROGRESS: pass 16, at document #2000/3204\n",
      "2022-02-14 19:43:14,509 : INFO : optimized alpha [0.01588252, 0.013873712, 0.012992603, 0.01475433, 0.01156713, 0.013940603, 0.014006171, 0.010776095, 0.012495604, 0.016573172, 0.01705409, 0.011993066, 0.014116303, 0.0133838495, 0.01135809, 0.023945073, 0.013019539, 0.010966241, 0.013493577, 0.012568173, 0.011218838, 0.013470758, 0.014124156, 0.011679005, 0.01101199, 0.013026897, 0.012297143, 0.012914764, 0.011055616, 0.011862735, 0.013551374, 0.012239381, 0.010442536, 0.014687814, 0.014474505, 0.012465509, 0.05524662, 0.012475426, 0.011300221, 0.011359451, 0.010616636, 0.011967456, 0.014036452, 0.012841105, 0.011814048, 0.01279399, 0.01462401, 0.014323968, 0.012765135, 0.013678788, 0.013993398, 0.0110817775, 0.012604486, 0.017043773, 0.012553267, 0.0126163615, 0.01777449, 0.012619815, 0.0144857885, 0.0137098795, 0.01434232, 0.010873377, 0.012130649, 0.014467839, 0.012002594, 0.01198565, 0.013229971, 0.01242419, 0.012008301, 0.013540922, 0.0125300065, 0.014083516, 0.014550585, 0.011928944, 0.012394211, 0.011350124, 0.010724369, 0.0122441985, 0.013236702, 0.01236395, 0.013035964, 0.013534841, 0.011516366, 0.011260967, 0.014365848, 0.01243733, 0.012856011, 0.0151816625, 0.012712991, 0.016527079, 0.016043976, 0.012394525, 0.011701764, 0.01131075, 0.013452409, 0.016500238, 0.011652728, 0.0143753635, 0.011108881, 0.013460264]\n",
      "2022-02-14 19:43:14,517 : INFO : merging changes from 2000 documents into a model of 3204 documents\n",
      "2022-02-14 19:43:14,536 : INFO : topic #32 (0.010): 0.080*\"oper\" + 0.076*\",\" + 0.044*\"number\" + 0.042*\"system\" + 0.037*\"perform\" + 0.035*\"partit\" + 0.026*\"transfer\" + 0.025*\"memori\" + 0.024*\"page\" + 0.023*\"rate\"\n",
      "2022-02-14 19:43:14,542 : INFO : topic #40 (0.011): 0.081*\"handl\" + 0.072*\"flow\" + 0.071*\"boundari\" + 0.053*\",\" + 0.042*\"discret\" + 0.042*\"examin\" + 0.034*\"simul\" + 0.031*\"problem\" + 0.030*\"-\" + 0.027*\"approxim\"\n",
      "2022-02-14 19:43:14,544 : INFO : topic #56 (0.018): 0.213*\"algorithm\" + 0.170*\"[\" + 0.161*\"(\" + 0.154*\"])\" + 0.052*\"permut\" + 0.023*\"function\" + 0.019*\"a1\" + 0.019*\"gener\" + 0.018*\"g6\" + 0.015*\"modifi\"\n",
      "2022-02-14 19:43:14,549 : INFO : topic #15 (0.024): 0.599*\"method\" + 0.077*\"note\" + 0.070*\"squar\" + 0.063*\"seri\" + 0.055*\"'\" + 0.042*\"-\" + 0.026*\"comput\" + 0.017*\"root\" + 0.013*\"gener\" + 0.008*\"solv\"\n",
      "2022-02-14 19:43:14,550 : INFO : topic #36 (0.055): 0.388*\"(\" + 0.379*\")\" + 0.176*\"algorithm\" + 0.019*\"function\" + 0.010*\"polynomi\" + 0.007*\"order\" + 0.004*\"e4\" + 0.004*\"interpol\" + 0.004*\"find\" + 0.003*\"jacobi\"\n",
      "2022-02-14 19:43:14,551 : INFO : topic diff=0.177530, rho=0.231857\n",
      "2022-02-14 19:43:15,520 : INFO : -6.444 per-word bound, 87.0 perplexity estimate based on a held-out corpus of 1204 documents with 49783 words\n",
      "2022-02-14 19:43:15,521 : INFO : PROGRESS: pass 16, at document #3204/3204\n",
      "2022-02-14 19:43:16,302 : INFO : optimized alpha [0.016232219, 0.014031595, 0.013055202, 0.014982461, 0.011658117, 0.014151838, 0.0142054465, 0.010837791, 0.012591186, 0.016832802, 0.017533194, 0.0120509295, 0.014307927, 0.013506854, 0.011468741, 0.02451345, 0.013197719, 0.011054674, 0.013591355, 0.012730646, 0.011313359, 0.013678789, 0.014327433, 0.011771971, 0.011102581, 0.013247195, 0.0124466745, 0.013087456, 0.011142075, 0.011968424, 0.013710821, 0.01234234, 0.010513031, 0.01493695, 0.01470243, 0.012640285, 0.056351874, 0.012632877, 0.011387559, 0.011429651, 0.010671644, 0.012087466, 0.014220554, 0.013001481, 0.01197143, 0.012931598, 0.014888631, 0.014424456, 0.012886655, 0.013889563, 0.014206527, 0.011188062, 0.012737837, 0.01736465, 0.012681499, 0.0126936175, 0.017762952, 0.012743439, 0.014693644, 0.013838836, 0.014505132, 0.010982028, 0.012203784, 0.014661943, 0.012147629, 0.012087659, 0.01333447, 0.012593022, 0.0121288495, 0.013677868, 0.012621559, 0.014087361, 0.01477524, 0.012045844, 0.012566288, 0.011390437, 0.010827806, 0.012310084, 0.013427427, 0.012505742, 0.013227744, 0.013682216, 0.011653374, 0.011383364, 0.014561759, 0.012576231, 0.013007787, 0.015411676, 0.012852097, 0.016838556, 0.01614886, 0.012550195, 0.011801433, 0.011420463, 0.013577806, 0.016821442, 0.011778552, 0.014604838, 0.011173628, 0.013621737]\n",
      "2022-02-14 19:43:16,317 : INFO : merging changes from 1204 documents into a model of 3204 documents\n",
      "2022-02-14 19:43:16,325 : INFO : topic #32 (0.011): 0.083*\"oper\" + 0.077*\",\" + 0.045*\"number\" + 0.043*\"system\" + 0.039*\"partit\" + 0.039*\"perform\" + 0.027*\"transfer\" + 0.027*\"memori\" + 0.025*\"page\" + 0.023*\"rate\"\n",
      "2022-02-14 19:43:16,334 : INFO : topic #40 (0.011): 0.080*\"handl\" + 0.077*\"flow\" + 0.071*\"boundari\" + 0.053*\",\" + 0.045*\"discret\" + 0.042*\"examin\" + 0.032*\"simul\" + 0.029*\"-\" + 0.028*\"approxim\" + 0.028*\"problem\"\n",
      "2022-02-14 19:43:16,336 : INFO : topic #56 (0.018): 0.222*\"algorithm\" + 0.158*\"[\" + 0.154*\"(\" + 0.137*\"])\" + 0.064*\"permut\" + 0.023*\"function\" + 0.021*\"a1\" + 0.019*\"g6\" + 0.019*\"modifi\" + 0.018*\"gener\"\n",
      "2022-02-14 19:43:16,337 : INFO : topic #15 (0.025): 0.620*\"method\" + 0.074*\"note\" + 0.062*\"squar\" + 0.059*\"seri\" + 0.055*\"'\" + 0.042*\"-\" + 0.025*\"comput\" + 0.014*\"root\" + 0.013*\"gener\" + 0.008*\"solv\"\n",
      "2022-02-14 19:43:16,339 : INFO : topic #36 (0.056): 0.392*\"(\" + 0.381*\")\" + 0.171*\"algorithm\" + 0.019*\"function\" + 0.010*\"polynomi\" + 0.007*\"order\" + 0.004*\"find\" + 0.004*\"e4\" + 0.003*\"interpol\" + 0.002*\"jacobi\"\n",
      "2022-02-14 19:43:16,340 : INFO : topic diff=0.182817, rho=0.231857\n",
      "2022-02-14 19:43:16,350 : INFO : PROGRESS: pass 17, at document #2000/3204\n",
      "2022-02-14 19:43:17,298 : INFO : optimized alpha [0.01636704, 0.0141507, 0.013170123, 0.015109669, 0.01167298, 0.014125901, 0.014349121, 0.010832977, 0.012668657, 0.01697731, 0.017761767, 0.012133332, 0.014396189, 0.013628103, 0.011448727, 0.025052445, 0.013191707, 0.011077574, 0.013698209, 0.012734986, 0.011334356, 0.013709011, 0.014383872, 0.0117724985, 0.011099586, 0.013285212, 0.012483592, 0.013070924, 0.011151689, 0.012013714, 0.013732949, 0.012371737, 0.010538214, 0.014991905, 0.014730917, 0.012754726, 0.058747977, 0.012682179, 0.011401687, 0.011463446, 0.010705541, 0.012082415, 0.014283451, 0.013005295, 0.011938891, 0.012975178, 0.014907808, 0.014622553, 0.012958403, 0.013879555, 0.01429667, 0.011206478, 0.012820179, 0.017563166, 0.012700011, 0.012808071, 0.018180734, 0.012809647, 0.014824899, 0.013960473, 0.014621969, 0.010999573, 0.012224774, 0.014708444, 0.012185018, 0.012124615, 0.01344888, 0.012629438, 0.012154184, 0.013703629, 0.012719626, 0.014294465, 0.014850867, 0.012083346, 0.012640206, 0.011462572, 0.01083181, 0.012424602, 0.013451944, 0.012501648, 0.013258415, 0.013748214, 0.011648229, 0.011388075, 0.014610747, 0.012650648, 0.013032365, 0.015493252, 0.0128739765, 0.01709183, 0.016385589, 0.012496205, 0.011843768, 0.011450397, 0.013672742, 0.016978813, 0.011797592, 0.014661034, 0.011216039, 0.013672788]\n",
      "2022-02-14 19:43:17,306 : INFO : merging changes from 2000 documents into a model of 3204 documents\n",
      "2022-02-14 19:43:17,316 : INFO : topic #32 (0.011): 0.081*\"oper\" + 0.078*\",\" + 0.044*\"number\" + 0.041*\"system\" + 0.037*\"perform\" + 0.036*\"partit\" + 0.026*\"transfer\" + 0.024*\"memori\" + 0.024*\"page\" + 0.023*\"rate\"\n",
      "2022-02-14 19:43:17,318 : INFO : topic #40 (0.011): 0.081*\"handl\" + 0.076*\"flow\" + 0.071*\"boundari\" + 0.052*\",\" + 0.042*\"examin\" + 0.042*\"discret\" + 0.034*\"simul\" + 0.030*\"problem\" + 0.030*\"-\" + 0.027*\"approxim\"\n",
      "2022-02-14 19:43:17,318 : INFO : topic #56 (0.018): 0.214*\"algorithm\" + 0.170*\"[\" + 0.161*\"(\" + 0.154*\"])\" + 0.052*\"permut\" + 0.023*\"function\" + 0.019*\"a1\" + 0.018*\"gener\" + 0.018*\"g6\" + 0.015*\"modifi\"\n",
      "2022-02-14 19:43:17,319 : INFO : topic #15 (0.025): 0.603*\"method\" + 0.076*\"note\" + 0.070*\"squar\" + 0.062*\"seri\" + 0.055*\"'\" + 0.042*\"-\" + 0.026*\"comput\" + 0.017*\"root\" + 0.012*\"gener\" + 0.008*\"solv\"\n",
      "2022-02-14 19:43:17,336 : INFO : topic #36 (0.059): 0.388*\"(\" + 0.379*\")\" + 0.176*\"algorithm\" + 0.018*\"function\" + 0.010*\"polynomi\" + 0.007*\"order\" + 0.004*\"e4\" + 0.004*\"interpol\" + 0.004*\"find\" + 0.003*\"jacobi\"\n",
      "2022-02-14 19:43:17,361 : INFO : topic diff=0.164882, rho=0.225865\n",
      "2022-02-14 19:43:18,343 : INFO : -6.438 per-word bound, 86.7 perplexity estimate based on a held-out corpus of 1204 documents with 49783 words\n",
      "2022-02-14 19:43:18,344 : INFO : PROGRESS: pass 17, at document #3204/3204\n",
      "2022-02-14 19:43:19,107 : INFO : optimized alpha [0.016716968, 0.014305686, 0.0132286865, 0.015343115, 0.011762288, 0.014330995, 0.014553938, 0.010893625, 0.012762312, 0.017242573, 0.018264314, 0.012189999, 0.014584747, 0.013746154, 0.011557372, 0.025633484, 0.013366934, 0.011168506, 0.013793868, 0.012892248, 0.011429294, 0.013911292, 0.014600704, 0.011868201, 0.011188531, 0.013507498, 0.0126353055, 0.013235644, 0.011232302, 0.012112914, 0.013894799, 0.012472745, 0.010605365, 0.015240248, 0.014958094, 0.012934298, 0.059783135, 0.012839482, 0.011485243, 0.011532296, 0.01076556, 0.012193388, 0.014464489, 0.0131604485, 0.012098052, 0.013110319, 0.015179865, 0.014717689, 0.013087432, 0.014084267, 0.014509459, 0.011319339, 0.0129440315, 0.017870516, 0.012837969, 0.012885949, 0.018155195, 0.012935888, 0.015026876, 0.014092084, 0.014779016, 0.011106297, 0.012294204, 0.014896457, 0.0123369545, 0.012226941, 0.0135461185, 0.012802693, 0.012277136, 0.0138354525, 0.012816385, 0.014294461, 0.015069361, 0.012207222, 0.0128122475, 0.011502002, 0.010935451, 0.012488942, 0.013632044, 0.012638524, 0.013457323, 0.01389033, 0.011785176, 0.011508257, 0.014806154, 0.012780219, 0.013183993, 0.01572263, 0.013013015, 0.01741357, 0.016487198, 0.012661047, 0.011943732, 0.011558174, 0.013795735, 0.017300002, 0.011923408, 0.014887112, 0.0112879835, 0.013823634]\n",
      "2022-02-14 19:43:19,113 : INFO : merging changes from 1204 documents into a model of 3204 documents\n",
      "2022-02-14 19:43:19,122 : INFO : topic #32 (0.011): 0.083*\"oper\" + 0.079*\",\" + 0.045*\"number\" + 0.043*\"system\" + 0.040*\"partit\" + 0.039*\"perform\" + 0.027*\"transfer\" + 0.025*\"memori\" + 0.025*\"page\" + 0.023*\"rate\"\n",
      "2022-02-14 19:43:19,126 : INFO : topic #40 (0.011): 0.081*\"flow\" + 0.080*\"handl\" + 0.071*\"boundari\" + 0.052*\",\" + 0.044*\"discret\" + 0.042*\"examin\" + 0.032*\"simul\" + 0.029*\"-\" + 0.028*\"approxim\" + 0.028*\"problem\"\n",
      "2022-02-14 19:43:19,142 : INFO : topic #10 (0.018): 0.358*\"problem\" + 0.076*\"solut\" + 0.065*\"solv\" + 0.052*\"-\" + 0.048*\"instruct\" + 0.038*\"comput\" + 0.034*\"time\" + 0.028*\",\" + 0.026*\"program\" + 0.024*\"algorithm\"\n",
      "2022-02-14 19:43:19,149 : INFO : topic #15 (0.026): 0.625*\"method\" + 0.073*\"note\" + 0.062*\"squar\" + 0.058*\"seri\" + 0.055*\"'\" + 0.041*\"-\" + 0.025*\"comput\" + 0.014*\"root\" + 0.013*\"gener\" + 0.007*\"sum\"\n",
      "2022-02-14 19:43:19,151 : INFO : topic #36 (0.060): 0.393*\"(\" + 0.382*\")\" + 0.171*\"algorithm\" + 0.018*\"function\" + 0.009*\"polynomi\" + 0.007*\"order\" + 0.004*\"find\" + 0.004*\"e4\" + 0.003*\"interpol\" + 0.002*\"jacobi\"\n",
      "2022-02-14 19:43:19,168 : INFO : topic diff=0.169595, rho=0.225865\n",
      "2022-02-14 19:43:19,183 : INFO : PROGRESS: pass 18, at document #2000/3204\n",
      "2022-02-14 19:43:20,164 : INFO : optimized alpha [0.016851068, 0.014422994, 0.0133433165, 0.015469977, 0.011776948, 0.014309722, 0.014700673, 0.010890368, 0.012839861, 0.017384477, 0.018493028, 0.012268421, 0.014671312, 0.013865632, 0.011539065, 0.026187656, 0.013362138, 0.011190984, 0.013899091, 0.01289476, 0.011448675, 0.013941979, 0.014668856, 0.011868782, 0.0111857075, 0.01354275, 0.012675549, 0.013220587, 0.011243027, 0.012157477, 0.013917786, 0.012500264, 0.010630218, 0.015293606, 0.014987054, 0.013054356, 0.062200405, 0.012883424, 0.0115004415, 0.011566819, 0.010801338, 0.012188465, 0.0145275835, 0.01316095, 0.012069894, 0.013152945, 0.01519263, 0.014916912, 0.013159326, 0.014073838, 0.014601057, 0.011337321, 0.01302791, 0.018070512, 0.01286025, 0.0129973395, 0.018567743, 0.013006652, 0.015157865, 0.014211926, 0.014897225, 0.0111258915, 0.012316339, 0.0149400495, 0.012374881, 0.01226721, 0.013660327, 0.012838103, 0.012301872, 0.01386213, 0.012912966, 0.01449883, 0.015144885, 0.012245294, 0.012886321, 0.011571715, 0.010942993, 0.012607233, 0.013657237, 0.012631581, 0.013483943, 0.013955055, 0.011782574, 0.011514069, 0.0148522, 0.012857566, 0.013209324, 0.015804073, 0.01303145, 0.017667165, 0.016726755, 0.012607891, 0.011991935, 0.011590107, 0.0138906455, 0.017455103, 0.011943319, 0.014945032, 0.011332196, 0.013876608]\n",
      "2022-02-14 19:43:20,170 : INFO : merging changes from 2000 documents into a model of 3204 documents\n",
      "2022-02-14 19:43:20,178 : INFO : topic #32 (0.011): 0.081*\"oper\" + 0.079*\",\" + 0.045*\"number\" + 0.041*\"system\" + 0.038*\"perform\" + 0.036*\"partit\" + 0.026*\"transfer\" + 0.024*\"page\" + 0.024*\"rate\" + 0.023*\"memori\"\n",
      "2022-02-14 19:43:20,179 : INFO : topic #40 (0.011): 0.080*\"handl\" + 0.080*\"flow\" + 0.070*\"boundari\" + 0.052*\",\" + 0.043*\"examin\" + 0.042*\"discret\" + 0.034*\"simul\" + 0.030*\"-\" + 0.029*\"problem\" + 0.027*\"approxim\"\n",
      "2022-02-14 19:43:20,180 : INFO : topic #56 (0.019): 0.214*\"algorithm\" + 0.169*\"[\" + 0.161*\"(\" + 0.154*\"])\" + 0.052*\"permut\" + 0.024*\"function\" + 0.019*\"a1\" + 0.019*\"gener\" + 0.018*\"g6\" + 0.015*\"modifi\"\n",
      "2022-02-14 19:43:20,182 : INFO : topic #15 (0.026): 0.608*\"method\" + 0.076*\"note\" + 0.070*\"squar\" + 0.062*\"seri\" + 0.055*\"'\" + 0.041*\"-\" + 0.026*\"comput\" + 0.017*\"root\" + 0.012*\"gener\" + 0.007*\"sum\"\n",
      "2022-02-14 19:43:20,185 : INFO : topic #36 (0.062): 0.389*\"(\" + 0.380*\")\" + 0.176*\"algorithm\" + 0.018*\"function\" + 0.010*\"polynomi\" + 0.007*\"order\" + 0.004*\"e4\" + 0.004*\"find\" + 0.004*\"interpol\" + 0.003*\"jacobi\"\n",
      "2022-02-14 19:43:20,186 : INFO : topic diff=0.153796, rho=0.220316\n",
      "2022-02-14 19:43:21,221 : INFO : -6.432 per-word bound, 86.3 perplexity estimate based on a held-out corpus of 1204 documents with 49783 words\n",
      "2022-02-14 19:43:21,222 : INFO : PROGRESS: pass 18, at document #3204/3204\n",
      "2022-02-14 19:43:21,951 : INFO : optimized alpha [0.017195296, 0.014570047, 0.013400415, 0.0157089, 0.011864692, 0.014511635, 0.014921872, 0.010954032, 0.0129317455, 0.0176493, 0.018999398, 0.012323979, 0.014859734, 0.013981413, 0.011650086, 0.026767502, 0.0135395, 0.011284479, 0.01399274, 0.013056527, 0.011539865, 0.014149054, 0.014882796, 0.011956266, 0.011273112, 0.013759725, 0.012822569, 0.013377726, 0.011326388, 0.0122572305, 0.014069313, 0.012599474, 0.010700079, 0.01554151, 0.015213684, 0.013229353, 0.06312604, 0.01303119, 0.0115867555, 0.011636488, 0.010858306, 0.012304213, 0.014705778, 0.013311162, 0.012219783, 0.013285785, 0.015458427, 0.015015235, 0.013283792, 0.014277999, 0.014813685, 0.011450427, 0.013152083, 0.018377652, 0.012995914, 0.013075875, 0.018538969, 0.013130772, 0.015356931, 0.01434636, 0.015062716, 0.0112409955, 0.012386855, 0.015124946, 0.01253142, 0.012367711, 0.0137605425, 0.013004045, 0.012420518, 0.013989038, 0.013007824, 0.014500419, 0.015360183, 0.012367177, 0.013058419, 0.011610312, 0.011050936, 0.01267005, 0.0138346, 0.01276851, 0.013687574, 0.014092151, 0.011923853, 0.011630148, 0.01503643, 0.012987266, 0.013360978, 0.016033113, 0.013175438, 0.017986298, 0.0168314, 0.012762898, 0.012092367, 0.011698178, 0.014021598, 0.017779665, 0.012071437, 0.015165201, 0.011396599, 0.014027495]\n",
      "2022-02-14 19:43:21,956 : INFO : merging changes from 1204 documents into a model of 3204 documents\n",
      "2022-02-14 19:43:21,962 : INFO : topic #32 (0.011): 0.083*\"oper\" + 0.080*\",\" + 0.045*\"number\" + 0.042*\"system\" + 0.040*\"perform\" + 0.040*\"partit\" + 0.027*\"transfer\" + 0.025*\"memori\" + 0.025*\"page\" + 0.023*\"rate\"\n",
      "2022-02-14 19:43:21,963 : INFO : topic #40 (0.011): 0.084*\"flow\" + 0.080*\"handl\" + 0.071*\"boundari\" + 0.052*\",\" + 0.044*\"discret\" + 0.042*\"examin\" + 0.032*\"simul\" + 0.029*\"-\" + 0.028*\"approxim\" + 0.027*\"problem\"\n",
      "2022-02-14 19:43:21,964 : INFO : topic #10 (0.019): 0.362*\"problem\" + 0.077*\"solut\" + 0.066*\"solv\" + 0.052*\"-\" + 0.048*\"instruct\" + 0.038*\"comput\" + 0.033*\"time\" + 0.028*\",\" + 0.025*\"program\" + 0.023*\"algorithm\"\n",
      "2022-02-14 19:43:21,965 : INFO : topic #15 (0.027): 0.629*\"method\" + 0.073*\"note\" + 0.062*\"squar\" + 0.058*\"seri\" + 0.055*\"'\" + 0.041*\"-\" + 0.025*\"comput\" + 0.014*\"root\" + 0.012*\"gener\" + 0.007*\"sum\"\n",
      "2022-02-14 19:43:21,966 : INFO : topic #36 (0.063): 0.393*\"(\" + 0.382*\")\" + 0.171*\"algorithm\" + 0.018*\"function\" + 0.009*\"polynomi\" + 0.007*\"order\" + 0.004*\"find\" + 0.004*\"e4\" + 0.003*\"interpol\" + 0.002*\"jacobi\"\n",
      "2022-02-14 19:43:21,967 : INFO : topic diff=0.158136, rho=0.220316\n",
      "2022-02-14 19:43:21,975 : INFO : PROGRESS: pass 19, at document #2000/3204\n",
      "2022-02-14 19:43:23,094 : INFO : optimized alpha [0.017334623, 0.014690299, 0.013514873, 0.01584052, 0.011879133, 0.014488626, 0.0150717925, 0.010948647, 0.013010932, 0.01779462, 0.019236386, 0.012402661, 0.014951034, 0.0140992245, 0.011632132, 0.027317205, 0.013534362, 0.011309066, 0.014102369, 0.013060041, 0.011557658, 0.014178629, 0.014944557, 0.01195695, 0.011269221, 0.0137893455, 0.012861943, 0.013364105, 0.011335768, 0.012302292, 0.014085507, 0.012626515, 0.010724563, 0.0155965965, 0.015241435, 0.013359366, 0.06554475, 0.01307981, 0.011599204, 0.011667988, 0.0108924005, 0.0122993365, 0.014762789, 0.013312888, 0.01218791, 0.013333299, 0.015473232, 0.015207585, 0.013354519, 0.014268679, 0.014905229, 0.011475469, 0.013237501, 0.018579168, 0.0130176535, 0.0131871365, 0.018952405, 0.013200397, 0.0154843815, 0.014467701, 0.015179373, 0.0112589365, 0.012407415, 0.015168966, 0.012567096, 0.012407255, 0.013873166, 0.013039955, 0.012446097, 0.014016678, 0.013105845, 0.014703812, 0.015434056, 0.012404484, 0.013131215, 0.011680255, 0.011058272, 0.012785422, 0.01385897, 0.012762921, 0.013716207, 0.014155693, 0.011923694, 0.011637049, 0.015081333, 0.013064766, 0.013387097, 0.016109321, 0.013196197, 0.018244177, 0.017072171, 0.012718999, 0.01213582, 0.011725697, 0.014116501, 0.017942205, 0.012092133, 0.015224904, 0.011438886, 0.014082403]\n",
      "2022-02-14 19:43:23,100 : INFO : merging changes from 2000 documents into a model of 3204 documents\n",
      "2022-02-14 19:43:23,117 : INFO : topic #32 (0.011): 0.081*\"oper\" + 0.081*\",\" + 0.044*\"number\" + 0.041*\"system\" + 0.039*\"perform\" + 0.037*\"partit\" + 0.026*\"transfer\" + 0.024*\"page\" + 0.024*\"rate\" + 0.023*\"memori\"\n",
      "2022-02-14 19:43:23,131 : INFO : topic #40 (0.011): 0.082*\"flow\" + 0.080*\"handl\" + 0.070*\"boundari\" + 0.051*\",\" + 0.043*\"examin\" + 0.042*\"discret\" + 0.034*\"simul\" + 0.030*\"-\" + 0.029*\"problem\" + 0.026*\"approxim\"\n",
      "2022-02-14 19:43:23,149 : INFO : topic #10 (0.019): 0.359*\"problem\" + 0.077*\"solut\" + 0.066*\"solv\" + 0.051*\"-\" + 0.049*\"instruct\" + 0.038*\"comput\" + 0.033*\"time\" + 0.029*\",\" + 0.025*\"program\" + 0.022*\"algorithm\"\n",
      "2022-02-14 19:43:23,152 : INFO : topic #15 (0.027): 0.613*\"method\" + 0.076*\"note\" + 0.069*\"squar\" + 0.061*\"seri\" + 0.055*\"'\" + 0.041*\"-\" + 0.026*\"comput\" + 0.018*\"root\" + 0.011*\"gener\" + 0.007*\"sum\"\n",
      "2022-02-14 19:43:23,166 : INFO : topic #36 (0.066): 0.389*\"(\" + 0.381*\")\" + 0.176*\"algorithm\" + 0.018*\"function\" + 0.009*\"polynomi\" + 0.007*\"order\" + 0.004*\"e4\" + 0.004*\"find\" + 0.003*\"interpol\" + 0.003*\"jacobi\"\n",
      "2022-02-14 19:43:23,184 : INFO : topic diff=0.144150, rho=0.215156\n",
      "2022-02-14 19:43:25,063 : INFO : -6.427 per-word bound, 86.0 perplexity estimate based on a held-out corpus of 1204 documents with 49783 words\n",
      "2022-02-14 19:43:25,066 : INFO : PROGRESS: pass 19, at document #3204/3204\n",
      "2022-02-14 19:43:26,079 : INFO : optimized alpha [0.017682632, 0.014840154, 0.013570609, 0.016076727, 0.011969741, 0.014687517, 0.015298756, 0.011011313, 0.013103453, 0.01805275, 0.019750107, 0.012452571, 0.015139451, 0.014212864, 0.011743465, 0.02790532, 0.013716436, 0.011390888, 0.014196684, 0.013212324, 0.011649422, 0.014380404, 0.015150459, 0.01205159, 0.011355205, 0.014006183, 0.013004524, 0.013518812, 0.011415714, 0.012404862, 0.0142397145, 0.012724051, 0.010793311, 0.015841406, 0.015465009, 0.013537028, 0.066404454, 0.013225414, 0.011681999, 0.011732323, 0.010948391, 0.012408779, 0.01493836, 0.013463164, 0.012337644, 0.013466428, 0.015741441, 0.015303627, 0.013476965, 0.0144725535, 0.015107034, 0.011593034, 0.013362055, 0.018883087, 0.013158423, 0.013266402, 0.018920349, 0.013324891, 0.015686138, 0.014602378, 0.015342296, 0.011372296, 0.012472244, 0.0153537365, 0.012728291, 0.012508285, 0.013966534, 0.013203588, 0.012562847, 0.014146516, 0.013196601, 0.014704298, 0.015649108, 0.0125221955, 0.013301092, 0.011718079, 0.01116253, 0.0128491195, 0.01403637, 0.012897692, 0.01391487, 0.0142955985, 0.012058632, 0.011757609, 0.015262775, 0.013190066, 0.013541243, 0.016335119, 0.013335602, 0.018573808, 0.017167775, 0.012866855, 0.012238935, 0.011834114, 0.014245316, 0.01827705, 0.012218307, 0.01543396, 0.011506216, 0.014235861]\n",
      "2022-02-14 19:43:26,088 : INFO : merging changes from 1204 documents into a model of 3204 documents\n",
      "2022-02-14 19:43:26,102 : INFO : topic #32 (0.011): 0.083*\"oper\" + 0.081*\",\" + 0.045*\"number\" + 0.042*\"system\" + 0.041*\"partit\" + 0.041*\"perform\" + 0.027*\"transfer\" + 0.025*\"page\" + 0.024*\"memori\" + 0.023*\"rate\"\n",
      "2022-02-14 19:43:26,103 : INFO : topic #7 (0.011): 0.056*\"loop\" + 0.051*\"program\" + 0.043*\",\" + 0.043*\"principl\" + 0.040*\"induct\" + 0.037*\"comput\" + 0.034*\"modif\" + 0.027*\"express\" + 0.025*\"invari\" + 0.024*\"-\"\n",
      "2022-02-14 19:43:26,104 : INFO : topic #10 (0.020): 0.366*\"problem\" + 0.078*\"solut\" + 0.067*\"solv\" + 0.052*\"-\" + 0.047*\"instruct\" + 0.037*\"comput\" + 0.033*\"time\" + 0.028*\",\" + 0.024*\"program\" + 0.023*\"algorithm\"\n",
      "2022-02-14 19:43:26,105 : INFO : topic #15 (0.028): 0.633*\"method\" + 0.073*\"note\" + 0.062*\"squar\" + 0.058*\"seri\" + 0.055*\"'\" + 0.040*\"-\" + 0.025*\"comput\" + 0.015*\"root\" + 0.012*\"gener\" + 0.007*\"sum\"\n",
      "2022-02-14 19:43:26,106 : INFO : topic #36 (0.066): 0.394*\"(\" + 0.383*\")\" + 0.171*\"algorithm\" + 0.017*\"function\" + 0.009*\"polynomi\" + 0.007*\"order\" + 0.004*\"find\" + 0.004*\"e4\" + 0.003*\"interpol\" + 0.002*\"jacobi\"\n",
      "2022-02-14 19:43:26,115 : INFO : topic diff=0.148027, rho=0.215156\n"
     ]
    },
    {
     "data": {
      "text/plain": [
       "[(0, 0.0072261565),\n",
       " (1, 0.0060645537),\n",
       " (2, 0.0055457433),\n",
       " (3, 0.00656989),\n",
       " (4, 0.0048915353),\n",
       " (5, 0.006002177),\n",
       " (6, 0.006251965),\n",
       " (7, 0.0044998657),\n",
       " (8, 0.0053548366),\n",
       " (9, 0.007377408),\n",
       " (10, 0.008071047),\n",
       " (11, 0.0050888476),\n",
       " (12, 0.006186864),\n",
       " (13, 0.0058082067),\n",
       " (14, 0.004799066),\n",
       " (15, 0.011403744),\n",
       " (16, 0.0056053367),\n",
       " (17, 0.004654982),\n",
       " (18, 0.0058015944),\n",
       " (19, 0.0053993273),\n",
       " (20, 0.0047606346),\n",
       " (21, 0.005876673),\n",
       " (22, 0.006191362),\n",
       " (23, 0.0049249837),\n",
       " (24, 0.0046404004),\n",
       " (25, 0.005723744),\n",
       " (26, 0.005314408),\n",
       " (27, 0.005524576),\n",
       " (28, 0.0046651275),\n",
       " (29, 0.0050693513),\n",
       " (30, 0.005819179),\n",
       " (31, 0.0051997905),\n",
       " (32, 0.0044107772),\n",
       " (33, 0.006473724),\n",
       " (34, 0.006319906),\n",
       " (35, 0.0055320202),\n",
       " (36, 0.02713674),\n",
       " (37, 0.005404677),\n",
       " (38, 0.004773947),\n",
       " (39, 0.0047945124),\n",
       " (40, 0.004474152),\n",
       " (41, 0.005070952),\n",
       " (42, 0.0061046863),\n",
       " (43, 0.005501835),\n",
       " (44, 0.005041882),\n",
       " (45, 0.0055031693),\n",
       " (46, 0.0064328723),\n",
       " (47, 0.006253956),\n",
       " (48, 0.005507475),\n",
       " (49, 0.0059143305),\n",
       " (50, 0.0061736163),\n",
       " (51, 0.0047375904),\n",
       " (52, 0.005460516),\n",
       " (53, 0.007716732),\n",
       " (54, 0.0053773),\n",
       " (55, 0.005421427),\n",
       " (56, 0.0077319597),\n",
       " (57, 0.005445329),\n",
       " (58, 0.006410272),\n",
       " (59, 0.0059673847),\n",
       " (60, 0.006269758),\n",
       " (61, 0.0046473844),\n",
       " (62, 0.0050968872),\n",
       " (63, 0.0062744333),\n",
       " (64, 0.005201523),\n",
       " (65, 0.005111616),\n",
       " (66, 0.0057075415),\n",
       " (67, 0.0053957575),\n",
       " (68, 0.005133913),\n",
       " (69, 0.0057810927),\n",
       " (70, 0.0053929016),\n",
       " (71, 0.4146639),\n",
       " (72, 0.0063951397),\n",
       " (73, 0.0051173004),\n",
       " (74, 0.005435603),\n",
       " (75, 0.0047886916),\n",
       " (76, 0.0045616617),\n",
       " (77, 0.0052509005),\n",
       " (78, 0.005736081),\n",
       " (79, 0.0052707503),\n",
       " (80, 0.005686429),\n",
       " (81, 0.0058420165),\n",
       " (82, 0.0049278615),\n",
       " (83, 0.004804846),\n",
       " (84, 0.0062372615),\n",
       " (85, 0.0053902315),\n",
       " (86, 0.0055337427),\n",
       " (87, 0.0066754837),\n",
       " (88, 0.005449706),\n",
       " (89, 0.007590343),\n",
       " (90, 0.0070157554),\n",
       " (91, 0.0052581485),\n",
       " (92, 0.0050015436),\n",
       " (93, 0.00483611),\n",
       " (94, 0.0058214683),\n",
       " (95, 0.0074690706),\n",
       " (96, 0.0049931137),\n",
       " (97, 0.0063072173),\n",
       " (98, 0.0047021117),\n",
       " (99, 0.0058176043)]"
      ]
     },
     "execution_count": 63,
     "metadata": {},
     "output_type": "execute_result"
    }
   ],
   "source": [
    "##### Function check\n",
    "lda = LdaRetrievalModel(doc_repr_2)\n",
    "lda.train_model()\n",
    "\n",
    "# you can now get an LDA vector for a given query in the following way:\n",
    "lda.vectorize_query(\"report\")\n",
    "##### "
   ]
  },
  {
   "cell_type": "markdown",
   "metadata": {
    "deletable": false,
    "editable": false,
    "nbgrader": {
     "cell_type": "markdown",
     "checksum": "32d83b6ea79ca3ddb789a7f8805a1b25",
     "grade": false,
     "grade_id": "cell-0e24b727d5908c0e",
     "locked": true,
     "points": 5,
     "schema_version": 3,
     "solution": false,
     "task": true
    }
   },
   "source": [
    "\\#### Please do not change this. This cell is used for grading."
   ]
  },
  {
   "cell_type": "markdown",
   "metadata": {
    "deletable": false,
    "editable": false,
    "nbgrader": {
     "cell_type": "markdown",
     "checksum": "114a934f0b9ce696e6cf09d3b8da6a3d",
     "grade": false,
     "grade_id": "cell-b1bffcb970b18aeb",
     "locked": true,
     "schema_version": 3,
     "solution": false,
     "task": false
    }
   },
   "source": [
    "---\n",
    "Now we can use the `DenseRetrievalModel` class to obtain an LDA search function.\n",
    "You can test your LDA model in the following cell: Try finding queries which are lexically different to documents, but semantically similar - does LDA work well for these queries?!"
   ]
  },
  {
   "cell_type": "code",
   "execution_count": null,
   "metadata": {},
   "outputs": [],
   "source": [
    "drm_lda = DenseRetrievalRanker(lda, jenson_shannon_sim)\n",
    "\n",
    "# test your LDA model\n",
    "search_fn = drm_lda.search\n",
    "\n",
    "text = widgets.Text(description=\"Search Bar\", width=200)\n",
    "display(text)\n",
    "\n",
    "\n",
    "text.on_submit(handle_submit_2)"
   ]
  },
  {
   "cell_type": "markdown",
   "metadata": {
    "deletable": false,
    "editable": false,
    "nbgrader": {
     "cell_type": "markdown",
     "checksum": "9d7f15863b655119b45f4d89354e5661",
     "grade": false,
     "grade_id": "cell-190cd0854b2791cc",
     "locked": true,
     "schema_version": 3,
     "solution": false,
     "task": false
    }
   },
   "source": [
    "## Section 8: Word2Vec/Doc2Vec (20 points) <a class=\"anchor\" id=\"2vec\"></a>\n",
    "\n",
    "[Back to Part 2](#part2)\n",
    "\n",
    "We will implement two other methods here, the Word2Vec model and the Doc2Vec model, also using `gensim`. Word2Vec creates representations of words, not documents, so the word level vectors need to be aggregated to obtain a representation for the document. Here, we will simply take the mean of the vectors. \n",
    "\n",
    "\n",
    "A drawback of these models is that they need a lot of training data. Our dataset is tiny, so in addition to using a model trained on the data, we will also use a pre-trained model for Word2Vec (this will be automatically downloaded).     \n",
    "\n",
    "*Note*:\n",
    "1. The code in vectorize_documents / vectorize_query should return gensim-like vectors i.e `[(dim, val), .. (dim, val)]`. \n",
    "2. For Word2Vec: You should also handle the following two cases: (a) A word in the query is not present in the vocabulary of the model and (b) none of the words in the query are present in the model - you can return 0 scores for all documents in this case. For either of these, you can check if a `word` is present in the vocab by using `word in self.model`\n"
   ]
  },
  {
   "cell_type": "code",
   "execution_count": null,
   "metadata": {
    "deletable": false,
    "nbgrader": {
     "cell_type": "code",
     "checksum": "83ab733608ed14c29c09b36b4e1b6daa",
     "grade": false,
     "grade_id": "cell-2b73759f9baf688f",
     "locked": false,
     "schema_version": 3,
     "solution": true,
     "task": false
    }
   },
   "outputs": [],
   "source": [
    "# TODO: Implement this! (10 points)\n",
    "class W2VRetrievalModel(VectorSpaceRetrievalModel):\n",
    "    def __init__(self, doc_repr):\n",
    "        super().__init__(doc_repr)\n",
    "        \n",
    "        # the dimensionality of the vectors\n",
    "        self.size = 100 \n",
    "        self.min_count = 1\n",
    "    \n",
    "    def train_model(self):\n",
    "        \"\"\"\n",
    "        Trains the W2V model\n",
    "        \"\"\"\n",
    "        # YOUR CODE HERE\n",
    "        raise NotImplementedError()\n",
    "        \n",
    "    def vectorize_documents(self):\n",
    "        \"\"\"\n",
    "            Returns a doc_id -> vector dictionary\n",
    "        \"\"\"\n",
    "        # YOUR CODE HERE\n",
    "        raise NotImplementedError()\n",
    "\n",
    "    def vectorize_query(self, query):\n",
    "        \"\"\"\n",
    "        Vectorizes the query using the W2V model\n",
    "        \"\"\"\n",
    "        query = process_text(query, **config_2)\n",
    "        # YOUR CODE HERE\n",
    "        raise NotImplementedError()\n",
    "    \n",
    "    \n",
    "class W2VPretrainedRetrievalModel(W2VRetrievalModel):\n",
    "    def __init__(self, doc_repr):\n",
    "        super().__init__(doc_repr)\n",
    "        self.model_name = \"word2vec-google-news-300\"\n",
    "        self.size = 300\n",
    "    \n",
    "    def train_model(self):\n",
    "        \"\"\"\n",
    "        Loads the pretrained model\n",
    "        \"\"\"\n",
    "        self.model = g_downloader.load(self.model_name)\n",
    "\n",
    "w2v = W2VRetrievalModel(doc_repr_2)\n",
    "w2v.train_model()\n",
    "\n",
    "# you can now get a W2V vector for a given query in the following way:\n",
    "w2v.vectorize_query(\"report\")"
   ]
  },
  {
   "cell_type": "code",
   "execution_count": null,
   "metadata": {
    "deletable": false,
    "editable": false,
    "nbgrader": {
     "cell_type": "code",
     "checksum": "f92b5c5a8c6c4b80652b94223209ab0b",
     "grade": true,
     "grade_id": "cell-b31c0f8d214b8bdf",
     "locked": true,
     "points": 0,
     "schema_version": 3,
     "solution": false,
     "task": false
    }
   },
   "outputs": [],
   "source": [
    "assert len(w2v.vectorize_query(\"report\")) == 100\n",
    "assert len(w2v.vectorize_query(\"this is a sentence that is not mellifluous\")) == 100\n"
   ]
  },
  {
   "cell_type": "markdown",
   "metadata": {
    "deletable": false,
    "editable": false,
    "nbgrader": {
     "cell_type": "markdown",
     "checksum": "8dfaabebcb06f308a7ca61fdc5d369e7",
     "grade": false,
     "grade_id": "cell-c2614fa067386384",
     "locked": true,
     "points": 8,
     "schema_version": 3,
     "solution": false,
     "task": true
    }
   },
   "source": [
    "\\#### Please do not change this. This cell is used for grading."
   ]
  },
  {
   "cell_type": "code",
   "execution_count": null,
   "metadata": {},
   "outputs": [],
   "source": [
    "w2v_pretrained = W2VPretrainedRetrievalModel(doc_repr_2)\n",
    "w2v_pretrained.train_model()\n",
    "\n",
    "# you can now get an W2V vector for a given query in the following way:\n",
    "w2v_pretrained.vectorize_query(\"report\")"
   ]
  },
  {
   "cell_type": "code",
   "execution_count": null,
   "metadata": {
    "deletable": false,
    "editable": false,
    "nbgrader": {
     "cell_type": "code",
     "checksum": "0822845afb5eafe5ddb1ffeaa4f4942a",
     "grade": true,
     "grade_id": "cell-1b1466f8ce516f42",
     "locked": true,
     "points": 2,
     "schema_version": 3,
     "solution": false,
     "task": false
    }
   },
   "outputs": [],
   "source": [
    "##### Function check\n",
    "\n",
    "print(len(w2v_pretrained.vectorize_query(\"report\")))\n",
    "#####"
   ]
  },
  {
   "cell_type": "code",
   "execution_count": null,
   "metadata": {},
   "outputs": [],
   "source": [
    "drm_w2v = DenseRetrievalRanker(w2v, cosine_sim)\n",
    "\n",
    "# test your LDA model\n",
    "search_fn = drm_w2v.search\n",
    "\n",
    "text = widgets.Text(description=\"Search Bar\", width=200)\n",
    "display(text)\n",
    "\n",
    "\n",
    "text.on_submit(handle_submit_2)"
   ]
  },
  {
   "cell_type": "code",
   "execution_count": null,
   "metadata": {},
   "outputs": [],
   "source": [
    "drm_w2v_pretrained = DenseRetrievalRanker(w2v_pretrained, cosine_sim)\n",
    "\n",
    "# test your LDA model\n",
    "search_fn = drm_w2v_pretrained.search\n",
    "\n",
    "text = widgets.Text(description=\"Search Bar\", width=200)\n",
    "display(text)\n",
    "\n",
    "\n",
    "text.on_submit(handle_submit_2)"
   ]
  },
  {
   "cell_type": "markdown",
   "metadata": {
    "deletable": false,
    "editable": false,
    "nbgrader": {
     "cell_type": "markdown",
     "checksum": "51b778984fd60757974f51047c61eb15",
     "grade": false,
     "grade_id": "cell-b92f701cbc706108",
     "locked": true,
     "schema_version": 3,
     "solution": false,
     "task": false
    }
   },
   "source": [
    "**Implementation (10 points):**\n",
    "For Doc2Vec, you will need to create a list of `TaggedDocument` instead of using the `self.corpus` or `self.documents` variable. Use the document id as the 'tag'.\n",
    "  "
   ]
  },
  {
   "cell_type": "code",
   "execution_count": null,
   "metadata": {
    "deletable": false,
    "nbgrader": {
     "cell_type": "code",
     "checksum": "1f60fdeb97febb7f4a6fd5bf109aac20",
     "grade": false,
     "grade_id": "cell-680facdcc98a19ab",
     "locked": false,
     "schema_version": 3,
     "solution": true,
     "task": false
    }
   },
   "outputs": [],
   "source": [
    "# TODO: Implement this! (10 points)\n",
    "class D2VRetrievalModel(VectorSpaceRetrievalModel):\n",
    "    def __init__(self, doc_repr):\n",
    "        super().__init__(doc_repr)\n",
    "        \n",
    "        self.vector_size= 100\n",
    "        self.min_count = 1\n",
    "        self.epochs = 20\n",
    "        \n",
    "        # YOUR CODE HERE\n",
    "        raise NotImplementedError()\n",
    "        \n",
    "    def train_model(self):\n",
    "        # YOUR CODE HERE\n",
    "        raise NotImplementedError()\n",
    "    \n",
    "    def vectorize_documents(self):\n",
    "        \"\"\"\n",
    "            Returns a doc_id -> vector dictionary\n",
    "        \"\"\"\n",
    "        # YOUR CODE HERE\n",
    "        raise NotImplementedError()\n",
    "\n",
    "    def vectorize_query(self, query):\n",
    "        # YOUR CODE HERE\n",
    "        raise NotImplementedError()\n",
    "        \n",
    "d2v = D2VRetrievalModel(doc_repr_2)\n",
    "d2v.train_model()\n",
    "\n",
    "\n",
    "# # you can now get an LSI vector for a given query in the following way:\n",
    "d2v.vectorize_query(\"report\")"
   ]
  },
  {
   "cell_type": "code",
   "execution_count": null,
   "metadata": {
    "deletable": false,
    "editable": false,
    "nbgrader": {
     "cell_type": "code",
     "checksum": "e83a363a9d4f136efbdde1426a83925e",
     "grade": true,
     "grade_id": "cell-5e2c5e0c9a2e8cb5",
     "locked": true,
     "points": 0,
     "schema_version": 3,
     "solution": false,
     "task": false
    }
   },
   "outputs": [],
   "source": [
    "#### Please do not change this. This cell is used for grading."
   ]
  },
  {
   "cell_type": "markdown",
   "metadata": {
    "deletable": false,
    "editable": false,
    "nbgrader": {
     "cell_type": "markdown",
     "checksum": "5bb46bf6b9be1e0ca66f0b0bc6260ecb",
     "grade": false,
     "grade_id": "cell-8a49d414f798a595",
     "locked": true,
     "points": 10,
     "schema_version": 3,
     "solution": false,
     "task": true
    }
   },
   "source": [
    "\\#### Please do not change this. This cell is used for grading."
   ]
  },
  {
   "cell_type": "code",
   "execution_count": null,
   "metadata": {},
   "outputs": [],
   "source": [
    "drm_d2v = DenseRetrievalRanker(d2v, cosine_sim)\n",
    "\n",
    "# test your LDA model\n",
    "search_fn = drm_d2v.search\n",
    "\n",
    "text = widgets.Text(description=\"Search Bar\", width=200)\n",
    "display(text)\n",
    "\n",
    "\n",
    "text.on_submit(handle_submit_2)"
   ]
  },
  {
   "cell_type": "markdown",
   "metadata": {
    "deletable": false,
    "editable": false,
    "nbgrader": {
     "cell_type": "markdown",
     "checksum": "363ec36c1d03d9f9e1c2045a6e193c14",
     "grade": false,
     "grade_id": "cell-3529ae29eece7b97",
     "locked": true,
     "schema_version": 3,
     "solution": false,
     "task": false
    }
   },
   "source": [
    "---\n",
    "## Section 9: Re-ranking (10 points) <a class=\"anchor\" id=\"reranking\"></a>\n",
    "\n",
    "[Back to Part 2](#part2)\n",
    "\n",
    "To motivate the re-ranking perspective (i.e retrieve with lexical method + rerank with a semantic method), let's search using semantic methods and compare it to BM25's performance, along with their runtime:\n"
   ]
  },
  {
   "cell_type": "code",
   "execution_count": null,
   "metadata": {
    "deletable": false,
    "editable": false,
    "nbgrader": {
     "cell_type": "code",
     "checksum": "5755f70e3eb28abc65d14d80125338af",
     "grade": false,
     "grade_id": "cell-f8f43bf5ae383128",
     "locked": true,
     "schema_version": 3,
     "solution": false,
     "task": false
    }
   },
   "outputs": [],
   "source": [
    "query = \"algebraic functions\"\n",
    "print(\"BM25: \")\n",
    "%timeit bm25_search(query, 2)\n",
    "print(\"LSI: \")\n",
    "%timeit drm_lsi.search(query)\n",
    "print(\"LDA: \")\n",
    "%timeit drm_lda.search(query)\n",
    "print(\"W2V: \")\n",
    "%timeit drm_w2v.search(query)\n",
    "print(\"W2V(Pretrained): \")\n",
    "%timeit drm_w2v_pretrained.search(query)\n",
    "print(\"D2V:\")\n",
    "%timeit drm_d2v.search(query)"
   ]
  },
  {
   "cell_type": "markdown",
   "metadata": {
    "deletable": false,
    "editable": false,
    "nbgrader": {
     "cell_type": "markdown",
     "checksum": "ae398da0a8c23c95bcbb0023b7ec6f34",
     "grade": false,
     "grade_id": "cell-db5ff09f97841af7",
     "locked": true,
     "schema_version": 3,
     "solution": false,
     "task": false
    }
   },
   "source": [
    "---\n",
    "\n",
    "**Implementation (10 points):**\n",
    "Re-ranking involves retrieving a small set of documents using simple but fast methods like BM25 and then re-ranking them with the aid of semantic methods such as LDA or LSI. Implement the following class, which takes in an `initial_retrieval_fn` - the initial retrieval function and `vsrm` - an instance of the `VectorSpaceRetrievalModel` class (i.e LSI/LDA) as input. The search function should first retrieve an initial list of K documents, and then these documents are re-ranked using a semantic method. This not only makes retrieval faster, but semantic methods perform poorly when used in isolation, as you will find out."
   ]
  },
  {
   "cell_type": "code",
   "execution_count": null,
   "metadata": {
    "deletable": false,
    "nbgrader": {
     "cell_type": "code",
     "checksum": "63b6b05a676a2ae3f08d8bed1bc59428",
     "grade": false,
     "grade_id": "cell-5bf47600d1a0c507",
     "locked": false,
     "schema_version": 3,
     "solution": true,
     "task": false
    }
   },
   "outputs": [],
   "source": [
    "# TODO: Implement this! (10 points)\n",
    "class DenseRerankingModel:\n",
    "    def __init__(self, initial_retrieval_fn, vsrm, similarity_fn):\n",
    "        \"\"\"\n",
    "            initial_retrieval_fn: takes in a query and returns a list of [(doc_id, score)] (sorted)\n",
    "            vsrm: instance of `VectorSpaceRetrievalModel`\n",
    "            similarity_fn: function instance that takes in two vectors \n",
    "                            and returns a similarity score e.g cosine_sim defined earlier\n",
    "        \"\"\"\n",
    "        self.ret = initial_retrieval_fn\n",
    "        self.vsrm = vsrm\n",
    "        self.similarity_fn = similarity_fn\n",
    "        self.vectorized_documents = vsrm.vectorize_documents()\n",
    "        \n",
    "        assert len(self.vectorized_documents) == len(doc_repr_2)\n",
    "    \n",
    "    def search(self, query, K=50):\n",
    "        \"\"\"\n",
    "            First, retrieve the top K results using the retrieval function\n",
    "            Then, re-rank the results using the VSRM instance\n",
    "        \"\"\"\n",
    "        # YOUR CODE HERE\n",
    "        raise NotImplementedError()"
   ]
  },
  {
   "cell_type": "code",
   "execution_count": null,
   "metadata": {
    "deletable": false,
    "editable": false,
    "nbgrader": {
     "cell_type": "code",
     "checksum": "334ab5af96976265cace682ab82a7387",
     "grade": true,
     "grade_id": "cell-52c6d18a4c0b4882",
     "locked": true,
     "points": 0,
     "schema_version": 3,
     "solution": false,
     "task": false
    }
   },
   "outputs": [],
   "source": [
    "##### Function check\n",
    "bm25_search_2 = partial(bm25_search, index_set=2)\n",
    "lsi_rerank = DenseRerankingModel(bm25_search_2, lsi, cosine_sim)\n",
    "lda_rerank = DenseRerankingModel(bm25_search_2, lda, jenson_shannon_sim)\n",
    "w2v_rerank = DenseRerankingModel(bm25_search_2, w2v, cosine_sim)\n",
    "w2v_pretrained_rerank = DenseRerankingModel(bm25_search_2, w2v_pretrained, cosine_sim)\n",
    "d2v_rerank = DenseRerankingModel(bm25_search_2, d2v, cosine_sim)\n",
    "\n",
    "##### "
   ]
  },
  {
   "cell_type": "markdown",
   "metadata": {
    "deletable": false,
    "editable": false,
    "nbgrader": {
     "cell_type": "markdown",
     "checksum": "bd904253f45f84e63bab3a69729058fc",
     "grade": false,
     "grade_id": "cell-93215dfe6bcf7cff",
     "locked": true,
     "points": 10,
     "schema_version": 3,
     "solution": false,
     "task": true
    }
   },
   "source": [
    "\\#### Please do not change this. This cell is used for grading."
   ]
  },
  {
   "cell_type": "markdown",
   "metadata": {
    "deletable": false,
    "editable": false,
    "nbgrader": {
     "cell_type": "markdown",
     "checksum": "b592e60292bfe3d9ef2930a354c4077a",
     "grade": false,
     "grade_id": "cell-aa694ff55fa91e7d",
     "locked": true,
     "schema_version": 3,
     "solution": false,
     "task": false
    }
   },
   "source": [
    "---\n",
    "Now, let us time the new search functions:"
   ]
  },
  {
   "cell_type": "code",
   "execution_count": null,
   "metadata": {
    "deletable": false,
    "editable": false,
    "nbgrader": {
     "cell_type": "code",
     "checksum": "338c7e3528cba266a865a061287c0e38",
     "grade": false,
     "grade_id": "cell-5edbd481562ad91f",
     "locked": true,
     "schema_version": 3,
     "solution": false,
     "task": false
    }
   },
   "outputs": [],
   "source": [
    "query = \"algebraic functions\"\n",
    "print(\"BM25: \")\n",
    "%timeit bm25_search(query, 2)\n",
    "print(\"LSI: \")\n",
    "%timeit lsi_rerank.search(query)\n",
    "print(\"LDA: \")\n",
    "%timeit lda_rerank.search(query)\n",
    "print(\"W2V: \")\n",
    "%timeit w2v_rerank.search(query)\n",
    "print(\"W2V(Pretrained): \")\n",
    "%timeit w2v_pretrained_rerank.search(query)\n",
    "print(\"D2V:\")\n",
    "%timeit d2v_rerank.search(query)"
   ]
  },
  {
   "cell_type": "markdown",
   "metadata": {
    "deletable": false,
    "editable": false,
    "nbgrader": {
     "cell_type": "markdown",
     "checksum": "c45c5e3f015b2de89d9d39ae3766368b",
     "grade": false,
     "grade_id": "cell-85c50f2ab9eec301",
     "locked": true,
     "schema_version": 3,
     "solution": false,
     "task": false
    }
   },
   "source": [
    "---\n",
    "As you can see, it is much faster (but BM25 is still orders of magnitude faster)."
   ]
  },
  {
   "cell_type": "markdown",
   "metadata": {
    "deletable": false,
    "editable": false,
    "nbgrader": {
     "cell_type": "markdown",
     "checksum": "1e2f3388e3807659f303fe31a75a010e",
     "grade": false,
     "grade_id": "cell-5071bb99b2af61cb",
     "locked": true,
     "schema_version": 3,
     "solution": false,
     "task": false
    }
   },
   "source": [
    "---\n",
    "## Section 10: Evaluation & Analysis (30 points) <a class=\"anchor\" id=\"reranking_eval\"></a>\n",
    "\n",
    "[Back to Part 2](#part2)\n",
    "\n",
    "[Previously](#evaluation) we have implemented some evaluation metrics and used them for measuring the ranking performance of term-based IR algorithms. In this section, we will do the same for semantic methods, both with and without re-ranking.\n",
    "\n",
    "### Section 10.1: Plot (10 points)\n",
    "\n",
    "First, gather the results. The results should consider the index set, the different search functions and different metrics. Plot the results in bar charts, per metric, with clear labels.\n",
    "\n",
    "Then, gather only the re-ranking models, and plot and compare them with the results obtained in part 1 (only index set 2)."
   ]
  },
  {
   "cell_type": "code",
   "execution_count": null,
   "metadata": {
    "deletable": false,
    "editable": false,
    "nbgrader": {
     "cell_type": "code",
     "checksum": "4fe81520ac6413a803838913fd64de03",
     "grade": false,
     "grade_id": "cell-b672fe6dfae0b1ce",
     "locked": true,
     "schema_version": 3,
     "solution": false,
     "task": false
    }
   },
   "outputs": [],
   "source": [
    "list_of_sem_search_fns = [\n",
    "    (\"lda\", drm_lda.search),\n",
    "    (\"lsi\", drm_lsi.search),\n",
    "    (\"w2v\", drm_w2v.search),\n",
    "    (\"w2v_pretrained\", drm_w2v_pretrained.search),\n",
    "    (\"d2v\", drm_d2v.search),\n",
    "    (\"lsi_rr\", lsi_rerank.search),\n",
    "    (\"lda_rr\", lda_rerank.search),\n",
    "    (\"w2v_rr\", w2v_rerank.search),\n",
    "    (\"w2v_pretrained_rr\", w2v_pretrained_rerank.search),\n",
    "    (\"d2v_rr\", d2v_rerank.search),\n",
    "    \n",
    "]"
   ]
  },
  {
   "cell_type": "code",
   "execution_count": null,
   "metadata": {
    "deletable": false,
    "nbgrader": {
     "cell_type": "code",
     "checksum": "54707c4afac084299aeefa047259b4a9",
     "grade": true,
     "grade_id": "cell-7dd8273b0f5a3c22",
     "locked": false,
     "points": 10,
     "schema_version": 3,
     "solution": true,
     "task": false
    }
   },
   "outputs": [],
   "source": [
    "# YOUR CODE HERE\n",
    "raise NotImplementedError()"
   ]
  },
  {
   "cell_type": "markdown",
   "metadata": {
    "deletable": false,
    "editable": false,
    "nbgrader": {
     "cell_type": "markdown",
     "checksum": "a8a3b6189bdde66704c694d85e38d049",
     "grade": false,
     "grade_id": "cell-deb2ef3daa306e82",
     "locked": true,
     "schema_version": 3,
     "solution": false,
     "task": false
    }
   },
   "source": [
    "### Section 10.2: Summary (20 points)\n",
    "\n",
    "Your summary should compare methods from Part 1 and Part 2 (only for index set 2). State what you expected to see in the results, followed by either supporting evidence *or* justify why the results did not support your expectations. Consider the availability of data, scalability, domain/type of data, etc."
   ]
  },
  {
   "cell_type": "markdown",
   "metadata": {
    "deletable": false,
    "nbgrader": {
     "cell_type": "markdown",
     "checksum": "ff97c43837d10bff6aaffa75e1492887",
     "grade": true,
     "grade_id": "cell-ec5dd7d9cf59dd86",
     "locked": false,
     "points": 20,
     "schema_version": 3,
     "solution": true,
     "task": false
    }
   },
   "source": [
    "YOUR ANSWER HERE"
   ]
  }
 ],
 "metadata": {
  "kernelspec": {
   "display_name": "Python 3",
   "language": "python",
   "name": "python3"
  },
  "language_info": {
   "codemirror_mode": {
    "name": "ipython",
    "version": 3
   },
   "file_extension": ".py",
   "mimetype": "text/x-python",
   "name": "python",
   "nbconvert_exporter": "python",
   "pygments_lexer": "ipython3",
   "version": "3.6.5"
  },
  "toc": {
   "base_numbering": 1,
   "nav_menu": {},
   "number_sections": true,
   "sideBar": true,
   "skip_h1_title": false,
   "title_cell": "Table of Contents",
   "title_sidebar": "Contents",
   "toc_cell": false,
   "toc_position": {},
   "toc_section_display": true,
   "toc_window_display": false
  },
  "toc-showmarkdowntxt": false
 },
 "nbformat": 4,
 "nbformat_minor": 4
}
