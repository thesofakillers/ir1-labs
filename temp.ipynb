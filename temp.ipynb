{
 "cells": [
  {
   "cell_type": "markdown",
   "metadata": {
    "deletable": false,
    "editable": false,
    "nbgrader": {
     "cell_type": "markdown",
     "checksum": "1bba455de8bc2825ca70469169bbadaa",
     "grade": false,
     "grade_id": "cell-c9cd9e550239e812",
     "locked": true,
     "schema_version": 3,
     "solution": false,
     "task": false
    }
   },
   "source": [
    "# Homework 1 (Total Points: 250) <a class=\"anchor\" id=\"top\"></a>\n",
    "\n",
    "\n",
    "**Submission instructions**:\n",
    "- The cells with the `# YOUR CODE HERE` denote that these sections are graded and you need to add your implementation.\n",
    "- For Part 1: You can use the `nltk`, `NumPy`, and `matplotlib` libraries here. Other libraries, e.g., `gensim` or `scikit-learn`, may not be used. For Part 2: `gensim` is allowed in addition to the imported libraries in the next code cell\n",
    "- Please use Python 3.6.5 and `pip install -r requirements.txt` to avoid version issues.\n",
    "- The notebook you submit has to have the student ids, separated by underscores (E.g., `12341234_12341234_12341234_hw1.ipynb`).\n",
    "- This will be parsed by a regexp, **so please double check your filename**.\n",
    "- Only one member of each group has to submit the file (**please do not compress the .ipynb file when you will submit it**) to canvas.\n",
    "- **Make sure to check that your notebook runs before submission**. A quick way to do this is to restart the kernel and run all the cells.  \n",
    "- Do not change the number of arugments in the given functions.\n",
    "- **Please do not delete/add new cells**. Removing cells **will** lead to grade deduction. \n",
    "- Note, that you are not allowed to use Google Colab.\n",
    "\n",
    "\n",
    "**Learning Goals**:\n",
    "- [Part 1, Term-based matching](#part1) (165 points):\n",
    "    - Learn how to load a dataset and process it.\n",
    "    - Learn how to implement several standard IR methods (TF-IDF, BM25, QL) and understand their weaknesses & strengths.\n",
    "    - Learn how to evaluate IR methods.\n",
    "- [Part 2, Semantic-based matching](#part2) (85 points):\n",
    "    - Learn how to implement vector-space retrieval methods (LSI, LDA).\n",
    "    - Learn how to use LSI and LDA for re-ranking.\n",
    "\n",
    "    \n",
    "**Resources**: \n",
    "- **Part 1**: Sections 2.3, 4.1, 4.2, 4.3, 5.3, 5.6, 5.7, 6.2, 7, 8 of [Search Engines: Information Retrieval in Practice](https://ciir.cs.umass.edu/downloads/SEIRiP.pdf)\n",
    "- **Part 2**: [LSI - Chapter 18](https://nlp.stanford.edu/IR-book/pdf/18lsi.pdf) from [Introduction to Information Retrieval](https://nlp.stanford.edu/IR-book/) book and the [original LDA paper](https://jmlr.org/papers/volume3/blei03a/blei03a.pdf)"
   ]
  },
  {
   "cell_type": "code",
   "execution_count": 1,
   "metadata": {
    "deletable": false,
    "editable": false,
    "nbgrader": {
     "cell_type": "code",
     "checksum": "c55bfe94ff1f564dd595547e516c4c6e",
     "grade": false,
     "grade_id": "cell-f5357fabdb9660e3",
     "locked": true,
     "schema_version": 3,
     "solution": false,
     "task": false
    }
   },
   "outputs": [],
   "source": [
    "# imports \n",
    "# TODO: Ensure that no additional library is imported in the notebook. \n",
    "# TODO: Only the standard library and the following libraries are allowed:\n",
    "# TODO: You can also use unlisted classes from these libraries or standard libraries (such as defaultdict, Counter, ...).\n",
    "\n",
    "import os\n",
    "import zipfile\n",
    "from functools import partial\n",
    "\n",
    "import nltk\n",
    "import requests\n",
    "import numpy as np\n",
    "from tqdm import tqdm\n",
    "\n",
    "import matplotlib.pyplot as plt\n",
    "from matplotlib.pyplot import cm\n",
    "\n",
    "from ipywidgets import widgets\n",
    "from IPython.display import display, HTML\n",
    "#from IPython.html import widgets\n",
    "from collections import namedtuple\n",
    "\n",
    "%matplotlib inline"
   ]
  },
  {
   "cell_type": "markdown",
   "metadata": {
    "deletable": false,
    "editable": false,
    "nbgrader": {
     "cell_type": "markdown",
     "checksum": "c8328f758ca5b69f76eee03dbbdd4715",
     "grade": false,
     "grade_id": "cell-7428e12ed184408b",
     "locked": true,
     "schema_version": 3,
     "solution": false,
     "task": false
    }
   },
   "source": [
    "\n",
    "# Part 1: Term-based Matching (165 points) <a class=\"anchor\" id=\"part1\"></a>\n",
    "\n",
    "[Back to top](#top)\n",
    "\n",
    "In the first part, we will learn the basics of IR from loading and preprocessing the material, to implementing some well known search algorithms, to evaluating the ranking performance of the implemented algorithms. We will be using the CACM dataset throughout the assignment. The CACM dataset is a collection of titles and abstracts from the journal CACM (Communication of the ACM).\n",
    "\n",
    "Table of contents:\n",
    "- [Section 1: Text Processing](#text_processing) (5 points)\n",
    "- [Section 2: Indexing](#indexing) (10 points)\n",
    "- [Section 3: Ranking](#ranking) (80 points)\n",
    "- [Section 4: Evaluation](#evaluation) (40 points)\n",
    "- [Section 5: Analysis](#analysis) (30 points)\n"
   ]
  },
  {
   "cell_type": "markdown",
   "metadata": {
    "deletable": false,
    "editable": false,
    "nbgrader": {
     "cell_type": "markdown",
     "checksum": "4e3f938065183dc743aa8254b96b4f5e",
     "grade": false,
     "grade_id": "cell-4b24825cf4ae55ec",
     "locked": true,
     "schema_version": 3,
     "solution": false,
     "task": false
    }
   },
   "source": [
    "---\n",
    "## Section 1: Text Processing (5 points)<a class=\"anchor\" id=\"text_processing\"></a>\n",
    "\n",
    "[Back to Part 1](#part1)\n",
    "\n",
    "In this section, we will load the dataset and learn how to clean up the data to make it usable for an IR system. \n",
    "First, go through the implementation of the following functions:\n",
    "- `read_cacm_docs`: Reads in the CACM documents.\n",
    "- `read_queries`: Reads in the CACM queries.\n",
    "- `load_stopwords`: Loads the stopwords.\n",
    "\n",
    "The points of this section are earned for the following implementations:\n",
    "- `tokenize` (3 points): Tokenizes the input text.\n",
    "- `stem_token` (2 points): Stems the given token. \n",
    "\n",
    "We are using the [CACM dataset](http://ir.dcs.gla.ac.uk/resources/test_collections/cacm/), which is a small, classic IR dataset, composed of a collection of titles and abstracts from the journal CACM. It comes with relevance judgements for queries, so we can evaluate our IR system. \n"
   ]
  },
  {
   "cell_type": "markdown",
   "metadata": {
    "deletable": false,
    "editable": false,
    "nbgrader": {
     "cell_type": "markdown",
     "checksum": "0155d897c7016389d73d160921947a6f",
     "grade": false,
     "grade_id": "cell-45651364e7af6d5a",
     "locked": true,
     "schema_version": 3,
     "solution": false,
     "task": false
    }
   },
   "source": [
    "---\n",
    "### 1.1 Read the CACM documents\n",
    "\n",
    "\n",
    "The following cell downloads the dataset and unzips it to a local directory."
   ]
  },
  {
   "cell_type": "code",
   "execution_count": 2,
   "metadata": {
    "deletable": false,
    "editable": false,
    "nbgrader": {
     "cell_type": "code",
     "checksum": "4d43c9ad6e77cc01ce4cef0c34824930",
     "grade": false,
     "grade_id": "cell-bbc3030bb3fe7e02",
     "locked": true,
     "schema_version": 3,
     "solution": false,
     "task": false
    }
   },
   "outputs": [],
   "source": [
    "def download_dataset():\n",
    "    folder_path = os.environ.get(\"IR1_DATA_PATH\")\n",
    "    if not folder_path:\n",
    "        folder_path = \"./datasets/\"\n",
    "    os.makedirs(folder_path, exist_ok=True)\n",
    "    \n",
    "    file_location = os.path.join(folder_path, \"cacm.zip\")\n",
    "    \n",
    "    # download file if it doesn't exist\n",
    "    if not os.path.exists(file_location):\n",
    "        \n",
    "        url = \"https://surfdrive.surf.nl/files/index.php/s/M0FGJpX2p8wDwxR/download\"\n",
    "\n",
    "        with open(file_location, \"wb\") as handle:\n",
    "            print(f\"Downloading file from {url} to {file_location}\")\n",
    "            response = requests.get(url, stream=True)\n",
    "            for data in tqdm(response.iter_content()):\n",
    "                handle.write(data)\n",
    "            print(\"Finished downloading file\")\n",
    "    \n",
    "    if not os.path.exists(os.path.join(folder_path, \"train.txt\")):\n",
    "        \n",
    "        # unzip file\n",
    "        with zipfile.ZipFile(file_location, 'r') as zip_ref:\n",
    "            zip_ref.extractall(folder_path)\n",
    "        \n",
    "download_dataset()"
   ]
  },
  {
   "cell_type": "markdown",
   "metadata": {
    "deletable": false,
    "editable": false,
    "nbgrader": {
     "cell_type": "markdown",
     "checksum": "31609b0d61d0c74cbd69bc43e47c23be",
     "grade": false,
     "grade_id": "cell-a7dd9a9bf98ede05",
     "locked": true,
     "schema_version": 3,
     "solution": false,
     "task": false
    }
   },
   "source": [
    "---\n",
    "\n",
    "You can see a brief description of each file in the dataset by looking at the README file:"
   ]
  },
  {
   "cell_type": "code",
   "execution_count": 3,
   "metadata": {
    "deletable": false,
    "editable": false,
    "nbgrader": {
     "cell_type": "code",
     "checksum": "cb3c9a2b8b2bf4fd5b7446b0c4c00f43",
     "grade": false,
     "grade_id": "cell-9b6ff1a17124711f",
     "locked": true,
     "schema_version": 3,
     "solution": false,
     "task": false
    }
   },
   "outputs": [
    {
     "name": "stdout",
     "output_type": "stream",
     "text": [
      "Files in this directory with sizes:\n",
      "          0 Jun 19 21:01 README\n",
      "\n",
      "    2187734 Jun 19 20:55 cacm.all              text of documents\n",
      "        626 Jun 19 20:58 cite.info             key to citation info\n",
      "                                                (the X sections in cacm.all)\n",
      "       2668 Jun 19 20:55 common_words           stop words used by smart\n",
      "       2194 Jun 19 20:55 make_coll*             shell script to make collection\n",
      "       1557 Jun 19 20:55 make_coll_term*        ditto (both useless without\n",
      "                                                smart system)\n",
      "       9948 Jun 19 20:55 qrels.text             relation giving\n",
      "                                                    qid did 0 0\n",
      "                                                to indicate dument did is\n",
      "                                                relevant to query qid\n",
      "      13689 Jun 19 20:55 query.text             Original text of the query\n",
      "\n"
     ]
    }
   ],
   "source": [
    "##### Read the README file \n",
    "with open (\"./datasets/README\",\"r\") as file:\n",
    "    readme = file.read()\n",
    "    print(readme)\n",
    "#####"
   ]
  },
  {
   "cell_type": "markdown",
   "metadata": {
    "deletable": false,
    "editable": false,
    "nbgrader": {
     "cell_type": "markdown",
     "checksum": "6e2712c4c4632bf7486a532f7f18074d",
     "grade": false,
     "grade_id": "cell-73351431869fda76",
     "locked": true,
     "schema_version": 3,
     "solution": false,
     "task": false
    }
   },
   "source": [
    "---\n",
    "We are interested in 4 files:\n",
    "- `cacm.all` : Contains the text for all documents. Note that some documents do not have abstracts available\n",
    "- `query.text` : The text of all queries\n",
    "- `qrels.text` : The relevance judgements\n",
    "- `common_words` : A list of common words. This may be used as a collection of stopwords"
   ]
  },
  {
   "cell_type": "code",
   "execution_count": 4,
   "metadata": {
    "deletable": false,
    "editable": false,
    "nbgrader": {
     "cell_type": "code",
     "checksum": "f1162c15177eb4ffe466531d03cff4a2",
     "grade": false,
     "grade_id": "cell-b44dd14079f278ca",
     "locked": true,
     "schema_version": 3,
     "solution": false,
     "task": false
    }
   },
   "outputs": [
    {
     "name": "stdout",
     "output_type": "stream",
     "text": [
      ".I 1\n",
      ".T\n",
      "Preliminary Report-International Algebraic Language\n",
      ".B\n",
      "CACM December, 1958\n",
      ".A\n",
      "Perlis, A. J.\n",
      "Samelson,K.\n",
      ".N\n",
      "CA581203 JB March 22, 1978  8:28 PM\n",
      ".X\n",
      "100\t5\t1\n",
      "123\t5\t1\n",
      "164\t5\t1\n",
      "1\t5\t1\n",
      "1\t5\t1\n",
      "1\t5\t1\n",
      "205\t5\t1\n",
      "210\t5\t1\n",
      "214\t5\t1\n",
      "1982\t5\t1\n",
      "398\t5\t1\n",
      "642\t5\t1\n",
      "669\t5\t1\n",
      "1\t6\t1\n",
      "1\t6\t1\n",
      "1\t6\t1\n",
      "1\t6\t1\n",
      "1\t6\t1\n",
      "1\t6\t1\n",
      "1\t6\t1\n",
      "1\t6\t1\n",
      "1\t6\t1\n",
      "1\t6\t1\n",
      "165\t6\t1\n",
      "196\t6\t1\n",
      "196\t6\t1\n",
      "1273\t6\t1\n",
      "1883\t6\t1\n",
      "324\t6\t1\n",
      "43\t6\t1\n",
      "53\t6\t1\n",
      "91\t6\t1\n",
      "410\t6\t1\n",
      "3184\t6\t1\n",
      "\n"
     ]
    }
   ],
   "source": [
    "##### The first 45 lines of the CACM dataset forms the first record\n",
    "# We are interested only in 3 fields. \n",
    "# 1. the '.I' field, which is the document id\n",
    "# 2. the '.T' field (the title) and\n",
    "# 3. the '.W' field (the abstract, which may be absent)\n",
    "with open (\"./datasets/cacm.all\",\"r\") as file:\n",
    "    cacm_all = \"\".join(file.readlines()[:45])\n",
    "    print(cacm_all)\n",
    "#####"
   ]
  },
  {
   "cell_type": "markdown",
   "metadata": {
    "deletable": false,
    "editable": false,
    "nbgrader": {
     "cell_type": "markdown",
     "checksum": "250b413baccd8efb186bb46a34ae0060",
     "grade": false,
     "grade_id": "cell-c4bf2e263ec553d8",
     "locked": true,
     "schema_version": 3,
     "solution": false,
     "task": false
    }
   },
   "source": [
    "---\n",
    "\n",
    "The following function reads the `cacm.all` file. Note that each document has a variable number of lines. The `.I` field denotes a new document:"
   ]
  },
  {
   "cell_type": "code",
   "execution_count": 5,
   "metadata": {
    "deletable": false,
    "editable": false,
    "nbgrader": {
     "cell_type": "code",
     "checksum": "57d757e6a7a6938740dc899022b4f291",
     "grade": false,
     "grade_id": "cell-b736116eb419c624",
     "locked": true,
     "schema_version": 3,
     "solution": false,
     "task": false
    }
   },
   "outputs": [],
   "source": [
    "def read_cacm_docs(root_folder = \"./datasets/\"):\n",
    "    \"\"\"\n",
    "        Reads in the CACM documents. The dataset is assumed to be in the folder \"./datasets/\" by default\n",
    "        Returns: A list of 2-tuples: (doc_id, document), where 'document' is a single string created by \n",
    "            appending the title and abstract (separated by a \"\\n\"). \n",
    "            In case the record doesn't have an abstract, the document is composed only by the title\n",
    "    \"\"\"\n",
    "    with open(os.path.join(root_folder, \"cacm.all\")) as reader:\n",
    "        lines = reader.readlines()\n",
    "    \n",
    "    doc_id, title, abstract = None, None, None\n",
    "    \n",
    "    docs = []\n",
    "    line_idx = 0\n",
    "    while line_idx < len(lines):\n",
    "        line = lines[line_idx]\n",
    "        if line.startswith(\".I\"):\n",
    "            if doc_id is not None:\n",
    "                docs.append((doc_id, title, abstract))\n",
    "                doc_id, title, abstract = None, None, None\n",
    "            \n",
    "            doc_id = line.split()[-1]\n",
    "            line_idx += 1\n",
    "        elif line.startswith(\".T\"):\n",
    "            # start at next line\n",
    "            line_idx += 1\n",
    "            temp_lines = []\n",
    "            # read till next '.'\n",
    "            while not lines[line_idx].startswith(\".\"):\n",
    "                temp_lines.append(lines[line_idx].strip(\"\\n\"))\n",
    "                line_idx += 1\n",
    "            title = \"\\n\".join(temp_lines).strip(\"\\n\")\n",
    "        elif line.startswith(\".W\"):\n",
    "            # start at next line\n",
    "            line_idx += 1\n",
    "            temp_lines = []\n",
    "            # read till next '.'\n",
    "            while not lines[line_idx].startswith(\".\"):\n",
    "                temp_lines.append(lines[line_idx].strip(\"\\n\"))\n",
    "                line_idx += 1\n",
    "            abstract = \"\\n\".join(temp_lines).strip(\"\\n\")\n",
    "        else:\n",
    "            line_idx += 1\n",
    "    \n",
    "    docs.append((doc_id, title, abstract))\n",
    "    \n",
    "    p_docs = []\n",
    "    for (did, t, a) in docs:\n",
    "        if a is None:\n",
    "            a = \"\"\n",
    "        p_docs.append((did, t + \"\\n\" + a))\n",
    "    return p_docs\n"
   ]
  },
  {
   "cell_type": "code",
   "execution_count": 6,
   "metadata": {
    "deletable": false,
    "editable": false,
    "nbgrader": {
     "cell_type": "code",
     "checksum": "2f81930fcd89670b6e20e2255e1f2369",
     "grade": false,
     "grade_id": "cell-a1c43818e0d3fd79",
     "locked": true,
     "schema_version": 3,
     "solution": false,
     "task": false
    }
   },
   "outputs": [],
   "source": [
    "##### Function check\n",
    "docs = read_cacm_docs()\n",
    "\n",
    "assert isinstance(docs, list)\n",
    "assert len(docs) == 3204, \"There should be exactly 3204 documents\"\n",
    "\n",
    "unzipped_docs = list(zip(*docs))\n",
    "assert np.sum(np.array(list(map(int,unzipped_docs[0])))) == 5134410\n",
    "\n",
    "##### "
   ]
  },
  {
   "cell_type": "markdown",
   "metadata": {
    "deletable": false,
    "editable": false,
    "nbgrader": {
     "cell_type": "markdown",
     "checksum": "25fd3cfaf2137c56002b850699b3c9d3",
     "grade": false,
     "grade_id": "cell-5ed2ddc91f73c60e",
     "locked": true,
     "schema_version": 3,
     "solution": false,
     "task": false
    }
   },
   "source": [
    "---\n",
    "### 1.2 Read the CACM queries\n",
    "\n",
    "Next, let us read the queries. They are formatted similarly:"
   ]
  },
  {
   "cell_type": "code",
   "execution_count": 7,
   "metadata": {
    "deletable": false,
    "editable": false,
    "nbgrader": {
     "cell_type": "code",
     "checksum": "5d26c0908e758acb9968b84056b1060a",
     "grade": false,
     "grade_id": "cell-5c7e8e7c4fc2757f",
     "locked": true,
     "schema_version": 3,
     "solution": false,
     "task": false
    }
   },
   "outputs": [
    {
     "name": "stdout",
     "output_type": "stream",
     "text": [
      ".I 1\n",
      ".W\n",
      " What articles exist which deal with TSS (Time Sharing System), an\n",
      "operating system for IBM computers?\n",
      ".N\n",
      " 1. Richard Alexander, Comp Serv, Langmuir Lab (TSS)\n",
      " \n",
      ".I 2\n",
      ".W\n",
      " I am interested in articles written either by Prieve or Udo Pooch\n",
      ".A\n",
      "Prieve, B.\n",
      "Pooch, U.\n",
      ".N\n",
      " 2. Richard Alexander, Comp Serv, Langmuir Lab (author = Pooch or Prieve)\n"
     ]
    }
   ],
   "source": [
    "##### The first 15 lines of 'query.text' has 2 queries\n",
    "# We are interested only in 2 fields. \n",
    "# 1. the '.I' - the query id\n",
    "# 2. the '.W' - the query\n",
    "!head -15 ./datasets/query.text\n",
    "#####"
   ]
  },
  {
   "cell_type": "markdown",
   "metadata": {
    "deletable": false,
    "editable": false,
    "nbgrader": {
     "cell_type": "markdown",
     "checksum": "8f19f311a660f30e3f86cb0f7037d54a",
     "grade": false,
     "grade_id": "cell-88e293507d2dcef6",
     "locked": true,
     "schema_version": 3,
     "solution": false,
     "task": false
    }
   },
   "source": [
    "---\n",
    "\n",
    "The following function reads the `query.text` file:"
   ]
  },
  {
   "cell_type": "code",
   "execution_count": 8,
   "metadata": {
    "deletable": false,
    "editable": false,
    "nbgrader": {
     "cell_type": "code",
     "checksum": "e3fbb193211007672849487f5cff1664",
     "grade": false,
     "grade_id": "cell-433e3ad5d0e2572a",
     "locked": true,
     "schema_version": 3,
     "solution": false,
     "task": false
    }
   },
   "outputs": [],
   "source": [
    "def read_queries(root_folder = \"./datasets/\"):\n",
    "    \"\"\"\n",
    "        Reads in the CACM queries. The dataset is assumed to be in the folder \"./datasets/\" by default\n",
    "        Returns: A list of 2-tuples: (query_id, query)\n",
    "    \"\"\"\n",
    "    with open(os.path.join(root_folder, \"query.text\")) as reader:\n",
    "        lines = reader.readlines()\n",
    "    \n",
    "    query_id, query = None, None\n",
    "    \n",
    "    queries = []\n",
    "    line_idx = 0\n",
    "    while line_idx < len(lines):\n",
    "        line = lines[line_idx]\n",
    "        if line.startswith(\".I\"):\n",
    "            if query_id is not None:\n",
    "                queries.append((query_id, query))\n",
    "                query_id, query = None, None\n",
    "    \n",
    "            query_id = line.split()[-1]\n",
    "            line_idx += 1\n",
    "        elif line.startswith(\".W\"):\n",
    "            # start at next line\n",
    "            line_idx += 1\n",
    "            temp_lines = []\n",
    "            # read till next '.'\n",
    "            while not lines[line_idx].startswith(\".\"):\n",
    "                temp_lines.append(lines[line_idx].strip(\"\\n\"))\n",
    "                line_idx += 1\n",
    "            query = \"\\n\".join(temp_lines).strip(\"\\n\")\n",
    "        else:\n",
    "            line_idx += 1\n",
    "    \n",
    "    queries.append((query_id, query))\n",
    "    return queries\n"
   ]
  },
  {
   "cell_type": "code",
   "execution_count": 9,
   "metadata": {
    "deletable": false,
    "editable": false,
    "nbgrader": {
     "cell_type": "code",
     "checksum": "a897b9771b54f447be3418d7246fc4a0",
     "grade": false,
     "grade_id": "cell-6ec540abce66c598",
     "locked": true,
     "schema_version": 3,
     "solution": false,
     "task": false
    }
   },
   "outputs": [],
   "source": [
    "##### Function check\n",
    "queries = read_queries()\n",
    "\n",
    "assert isinstance(queries, list)\n",
    "assert len(queries) == 64 and all([q[1] is not None for q in queries]), \"There should be exactly 64 queries\"\n",
    "\n",
    "unzipped_queries = list(zip(*queries))\n",
    "assert np.sum(np.array(list(map(int,unzipped_queries[0])))) == 2080\n",
    "\n",
    "##### "
   ]
  },
  {
   "cell_type": "markdown",
   "metadata": {
    "deletable": false,
    "editable": false,
    "nbgrader": {
     "cell_type": "markdown",
     "checksum": "a300c41912ac63b239070b4c15c9f5c5",
     "grade": false,
     "grade_id": "cell-1c31569491d7b782",
     "locked": true,
     "schema_version": 3,
     "solution": false,
     "task": false
    }
   },
   "source": [
    "---\n",
    "### 1.3 Read the stop words\n",
    "\n",
    "We use the common words stored in `common_words`:"
   ]
  },
  {
   "cell_type": "code",
   "execution_count": 10,
   "metadata": {
    "deletable": false,
    "editable": false,
    "nbgrader": {
     "cell_type": "code",
     "checksum": "1ad6f5bae6a792504c1c8513ae5751ad",
     "grade": false,
     "grade_id": "cell-34bdb63461418a96",
     "locked": true,
     "schema_version": 3,
     "solution": false,
     "task": false
    }
   },
   "outputs": [
    {
     "name": "stdout",
     "output_type": "stream",
     "text": [
      "a\n",
      "about\n",
      "above\n",
      "accordingly\n",
      "across\n",
      "after\n",
      "afterwards\n",
      "again\n",
      "against\n",
      "all\n"
     ]
    }
   ],
   "source": [
    "##### Read the stop words file \n",
    "!head ./datasets/common_words\n",
    "##### Read the README file "
   ]
  },
  {
   "cell_type": "markdown",
   "metadata": {
    "deletable": false,
    "editable": false,
    "nbgrader": {
     "cell_type": "markdown",
     "checksum": "6d0fe612e770213b6397c2179b07a966",
     "grade": false,
     "grade_id": "cell-4744bde0338895d8",
     "locked": true,
     "schema_version": 3,
     "solution": false,
     "task": false
    }
   },
   "source": [
    "---\n",
    "\n",
    "The following function reads the `common_words` file (For better coverage, we try to keep them in lowercase):"
   ]
  },
  {
   "cell_type": "code",
   "execution_count": 11,
   "metadata": {
    "deletable": false,
    "editable": false,
    "nbgrader": {
     "cell_type": "code",
     "checksum": "9409713fd26eb0c33587e190638997c4",
     "grade": false,
     "grade_id": "cell-7357aa40f64e5bcb",
     "locked": true,
     "schema_version": 3,
     "solution": false,
     "task": false
    }
   },
   "outputs": [],
   "source": [
    "def load_stopwords(root_folder = \"./datasets/\"):\n",
    "    \"\"\"\n",
    "        Loads the stopwords. The dataset is assumed to be in the folder \"./datasets/\" by default\n",
    "        Output: A set of stopwords\n",
    "    \"\"\"\n",
    "    with open(os.path.join(root_folder, \"common_words\")) as reader:\n",
    "        lines = reader.readlines()\n",
    "    stopwords = set([l.strip().lower() for l in lines])\n",
    "    return stopwords\n"
   ]
  },
  {
   "cell_type": "code",
   "execution_count": 12,
   "metadata": {
    "deletable": false,
    "editable": false,
    "nbgrader": {
     "cell_type": "code",
     "checksum": "f1c8153c3c38133bc2db6e7b076ad470",
     "grade": false,
     "grade_id": "cell-2ca3ac162004de97",
     "locked": true,
     "schema_version": 3,
     "solution": false,
     "task": false
    }
   },
   "outputs": [],
   "source": [
    "##### Function check\n",
    "stopwords = load_stopwords()\n",
    "\n",
    "assert isinstance(stopwords, set)\n",
    "assert len(stopwords) == 428, \"There should be exactly 428 stop words\"\n",
    "\n",
    "assert np.sum(np.array(list(map(len,stopwords)))) == 2234\n",
    "\n",
    "##### \n"
   ]
  },
  {
   "cell_type": "markdown",
   "metadata": {
    "deletable": false,
    "editable": false,
    "nbgrader": {
     "cell_type": "markdown",
     "checksum": "92c1191e9e7291dcf0d70dc67b907a65",
     "grade": false,
     "grade_id": "cell-134b72872f4300cb",
     "locked": true,
     "schema_version": 3,
     "solution": false,
     "task": false
    }
   },
   "source": [
    "---\n",
    "### 1.4 Tokenization (3 points)\n",
    "\n",
    "We can now write some basic text processing functions. \n",
    "A first step is to tokenize the text. \n",
    "\n",
    "**Note**: Use the  `WordPunctTokenizer` available in the `nltk` library:"
   ]
  },
  {
   "cell_type": "code",
   "execution_count": 13,
   "metadata": {
    "deletable": false,
    "nbgrader": {
     "cell_type": "code",
     "checksum": "3f5564d3c75bf22fbf832b3a9b938f37",
     "grade": false,
     "grade_id": "cell-322be4c9499bdc4b",
     "locked": false,
     "schema_version": 3,
     "solution": true,
     "task": false
    }
   },
   "outputs": [],
   "source": [
    "# TODO: Implement this! (4 points)\n",
    "def tokenize(text):\n",
    "    \"\"\"\n",
    "    Tokenizes the input text. Use the WordPunctTokenizer\n",
    "    Input: text - a string\n",
    "    Output: a list of tokens\n",
    "    \"\"\"\n",
    "    # YOUR CODE HERE\n",
    "\n",
    "    tk = nltk.WordPunctTokenizer()\n",
    "    return tk.tokenize(text)"
   ]
  },
  {
   "cell_type": "code",
   "execution_count": 14,
   "metadata": {
    "deletable": false,
    "editable": false,
    "nbgrader": {
     "cell_type": "code",
     "checksum": "e15af22c4d8ae0a3f9dac43bef7097ec",
     "grade": true,
     "grade_id": "cell-7fbf48bf7541a622",
     "locked": true,
     "points": 3,
     "schema_version": 3,
     "solution": false,
     "task": false
    }
   },
   "outputs": [
    {
     "name": "stdout",
     "output_type": "stream",
     "text": [
      "['the', 'quick', 'brown', 'fox', 'jumps', 'over', 'the', 'lazy', 'dog']\n"
     ]
    }
   ],
   "source": [
    "##### Function check\n",
    "text = \"the quick brown fox jumps over the lazy dog\"\n",
    "tokens = tokenize(text)\n",
    "\n",
    "assert isinstance(tokens, list)\n",
    "assert len(tokens) == 9\n",
    "\n",
    "print(tokens)\n",
    "# output: ['the', 'quick', 'brown', 'fox', 'jumps', 'over', 'the', 'lazy', 'dog']\n",
    "#####"
   ]
  },
  {
   "cell_type": "markdown",
   "metadata": {
    "deletable": false,
    "editable": false,
    "nbgrader": {
     "cell_type": "markdown",
     "checksum": "34210618bff4cb47aad2f03cb4b9854c",
     "grade": false,
     "grade_id": "cell-fd1b98ae61b697ca",
     "locked": true,
     "schema_version": 3,
     "solution": false,
     "task": false
    }
   },
   "source": [
    "---\n",
    "### 1.5 Stemming (2 points)\n",
    "\n",
    "Write a function to stem tokens. \n",
    "Again, you can use the nltk library for this:"
   ]
  },
  {
   "cell_type": "code",
   "execution_count": 15,
   "metadata": {
    "deletable": false,
    "nbgrader": {
     "cell_type": "code",
     "checksum": "1c4a6aa979d66158c7b6b992af43293a",
     "grade": false,
     "grade_id": "cell-e3f6c8e3f874b28d",
     "locked": false,
     "schema_version": 3,
     "solution": true,
     "task": false
    }
   },
   "outputs": [],
   "source": [
    "# TODO: Implement this! (3 points)\n",
    "def stem_token(token):\n",
    "    \"\"\"\n",
    "    Stems the given token using the PorterStemmer from the nltk library\n",
    "    Input: a single token\n",
    "    Output: the stem of the token\n",
    "    \"\"\"\n",
    "    stemmer = nltk.stem.PorterStemmer()\n",
    "    return stemmer.stem(token)"
   ]
  },
  {
   "cell_type": "code",
   "execution_count": 16,
   "metadata": {
    "deletable": false,
    "editable": false,
    "nbgrader": {
     "cell_type": "code",
     "checksum": "9363b4f09b556d424d9c895d4ab57b1c",
     "grade": true,
     "grade_id": "cell-cd6863e6ee6ed205",
     "locked": true,
     "points": 2,
     "schema_version": 3,
     "solution": false,
     "task": false
    }
   },
   "outputs": [],
   "source": [
    "##### Function check\n",
    "\n",
    "assert stem_token('owned') == 'own'\n",
    "assert stem_token('itemization') == 'item'\n",
    "#####"
   ]
  },
  {
   "cell_type": "markdown",
   "metadata": {
    "deletable": false,
    "editable": false,
    "nbgrader": {
     "cell_type": "markdown",
     "checksum": "0b311d014146da6afa1d39542fab9869",
     "grade": false,
     "grade_id": "cell-47c9f90498699110",
     "locked": true,
     "schema_version": 3,
     "solution": false,
     "task": false
    }
   },
   "source": [
    "---\n",
    "### 1.6 Summary\n",
    "\n",
    "The following function puts it all together. Given an input string, this functions tokenizes and processes it according to the flags that you set."
   ]
  },
  {
   "cell_type": "code",
   "execution_count": 17,
   "metadata": {
    "deletable": false,
    "editable": false,
    "nbgrader": {
     "cell_type": "code",
     "checksum": "2ff2d215ee8e0039c5a91fd3de12e6bd",
     "grade": false,
     "grade_id": "cell-dd0d3f46b30801da",
     "locked": true,
     "schema_version": 3,
     "solution": false,
     "task": false
    }
   },
   "outputs": [],
   "source": [
    "#### Putting it all together\n",
    "def process_text(text, stem=False, remove_stopwords=False, lowercase_text=False):\n",
    "    \n",
    "    tokens = []\n",
    "    for token in tokenize(text):\n",
    "        if remove_stopwords and token.lower() in stopwords:\n",
    "            continue\n",
    "        if stem:\n",
    "            token = stem_token(token)\n",
    "        if lowercase_text:\n",
    "            token = token.lower()\n",
    "        tokens.append(token)\n",
    "\n",
    "    return tokens\n",
    "#### "
   ]
  },
  {
   "cell_type": "markdown",
   "metadata": {
    "deletable": false,
    "editable": false,
    "nbgrader": {
     "cell_type": "markdown",
     "checksum": "02d433b18eb43654fa4306a7bf55b190",
     "grade": false,
     "grade_id": "cell-8d885bfd2edd43ae",
     "locked": true,
     "schema_version": 3,
     "solution": false,
     "task": false
    }
   },
   "source": [
    "---\n",
    "\n",
    "Let's create two sets of preprocessed documents.\n",
    "We can process the documents and queries according to these two configurations:"
   ]
  },
  {
   "cell_type": "code",
   "execution_count": 18,
   "metadata": {
    "deletable": false,
    "editable": false,
    "nbgrader": {
     "cell_type": "code",
     "checksum": "dbe4ca667be6842fdcf512fbcad50c7f",
     "grade": false,
     "grade_id": "cell-d427365ee0fb21d8",
     "locked": true,
     "schema_version": 3,
     "solution": false,
     "task": false
    }
   },
   "outputs": [],
   "source": [
    "# In this configuration:\n",
    "# Don't preprocess the text, except to tokenize \n",
    "config_1 = {\n",
    "  \"stem\": False,\n",
    "  \"remove_stopwords\" : False,\n",
    "  \"lowercase_text\": True\n",
    "} \n",
    "\n",
    "\n",
    "# In this configuration:\n",
    "# Preprocess the text, stem and remove stopwords\n",
    "config_2 = {\n",
    "  \"stem\": True,\n",
    "  \"remove_stopwords\" : True,\n",
    "  \"lowercase_text\": True, \n",
    "} \n",
    "\n",
    "####\n",
    "doc_repr_1 = []\n",
    "doc_repr_2 = []\n",
    "for (doc_id, document) in docs:\n",
    "    doc_repr_1.append((doc_id, process_text(document, **config_1)))\n",
    "    doc_repr_2.append((doc_id, process_text(document, **config_2)))\n",
    "\n",
    "####"
   ]
  },
  {
   "cell_type": "markdown",
   "metadata": {
    "deletable": false,
    "editable": false,
    "nbgrader": {
     "cell_type": "markdown",
     "checksum": "b60589aac19e80941d860d9b3f1e9a16",
     "grade": false,
     "grade_id": "cell-b1c102db61ae7495",
     "locked": true,
     "schema_version": 3,
     "solution": false,
     "task": false
    }
   },
   "source": [
    "--- \n",
    "\n",
    "## Section 2: Indexing (10 points)<a class=\"anchor\" id=\"indexing\"></a>\n",
    "\n",
    "[Back to Part 1](#part1)\n",
    "\n",
    "\n",
    "\n",
    "A retrieval function usually takes in a query document pair, and scores a query against a document.  Our document set is quite small - just a few thousand documents. However, consider a web-scale dataset with a few million documents. In such a scenario, it would become infeasible to score every query and document pair. In such a case, we can build an inverted index. From Wikipedia:\n",
    "\n",
    "> ... , an inverted index (also referred to as a postings file or inverted file) is a database index storing a mapping from content, such as words or numbers, to its locations in a table, .... The purpose of an inverted index is to allow fast full-text searches, at a cost of increased processing when a document is added to the database. ...\n",
    "\n",
    "\n",
    "Consider a simple inverted index, which maps from word to document. This can improve the performance of a retrieval system significantly. In this assignment, we consider a *simple* inverted index, which maps a word to a set of documents. In practice, however, more complex indices might be used.  \n"
   ]
  },
  {
   "cell_type": "markdown",
   "metadata": {
    "deletable": false,
    "editable": false,
    "nbgrader": {
     "cell_type": "markdown",
     "checksum": "710fd943f45523ac36fcb887cc0d4d39",
     "grade": false,
     "grade_id": "cell-fa373192c1b7bb95",
     "locked": true,
     "schema_version": 3,
     "solution": false,
     "task": false
    }
   },
   "source": [
    "### 2.1 Term Frequency-index (10 points)\n",
    "In this assignment, we will be using an index created in memory since our dataset is tiny. To get started, build a simple index that maps each `token` to a list of `(doc_id, count)` where `count` is the count of the `token` in `doc_id`.\n",
    "For consistency, build this index using a python dictionary.\n",
    "    \n",
    "Now, implement a function to build an index:"
   ]
  },
  {
   "cell_type": "code",
   "execution_count": 19,
   "metadata": {
    "deletable": false,
    "nbgrader": {
     "cell_type": "code",
     "checksum": "d4e8c6b658c469379d5fe511de05b536",
     "grade": false,
     "grade_id": "cell-077599b87e953209",
     "locked": false,
     "schema_version": 3,
     "solution": true,
     "task": false
    }
   },
   "outputs": [],
   "source": [
    "# need defaultdict to handle cases when queried word is missing from our documents\n",
    "# https://piazza.com/class/kyiksrdfk0b6te?cid=38\n",
    "# https://piazza.com/class/kyiksrdfk0b6te?cid=39\n",
    "from collections import defaultdict\n",
    "\n",
    "# TODO: Implement this! (10 points)\n",
    "def build_tf_index(documents):\n",
    "    \"\"\"\n",
    "    Build an inverted index (with counts).\n",
    "    The output is a dictionary which takes in a token and\n",
    "    returns a list of (doc_id, count)\n",
    "    where 'count' is the count of the 'token' in 'doc_id'\n",
    "\n",
    "    Input: a list of documents - (doc_id, tokens)\n",
    "    Output: An inverted index implemented within a pyhton dictionary:\n",
    "        [token] -> [(doc_id, token_count)]\n",
    "    \"\"\"\n",
    "    # YOUR CODE HERE\n",
    "    tf_index = defaultdict(list)\n",
    "    for doc_id, tokens in documents:\n",
    "        tokens_set = set(tokens)\n",
    "        for token in tokens_set:\n",
    "            tf_index[token].append((doc_id, tokens.count(token)))\n",
    "    return tf_index"
   ]
  },
  {
   "cell_type": "markdown",
   "metadata": {
    "deletable": false,
    "editable": false,
    "nbgrader": {
     "cell_type": "markdown",
     "checksum": "15e7041b4323d2a290322de538ff7670",
     "grade": false,
     "grade_id": "cell-093aebfa504f96f2",
     "locked": true,
     "schema_version": 3,
     "solution": false,
     "task": false
    }
   },
   "source": [
    "---\n",
    "Now we can build indexed documents and preprocess the queries based on the two configurations:"
   ]
  },
  {
   "cell_type": "code",
   "execution_count": 20,
   "metadata": {
    "deletable": false,
    "editable": false,
    "nbgrader": {
     "cell_type": "code",
     "checksum": "e27540c1d8d77a3779a05f557f3f40c6",
     "grade": false,
     "grade_id": "cell-b2ff1676348b90a8",
     "locked": true,
     "schema_version": 3,
     "solution": false,
     "task": false
    }
   },
   "outputs": [],
   "source": [
    "#### Indexed documents based on the two configs\n",
    "\n",
    "# Create the 2 indices\n",
    "tf_index_1 = build_tf_index(doc_repr_1)\n",
    "tf_index_2 = build_tf_index(doc_repr_2)\n",
    "\n",
    "# This function returns the tf_index of the corresponding config\n",
    "def get_index(index_set):\n",
    "    assert index_set in {1, 2}\n",
    "    return {\n",
    "        1: tf_index_1,\n",
    "        2: tf_index_2\n",
    "    }[index_set]\n",
    "\n",
    "####\n",
    "#### Preprocessed query based on the two configs\n",
    "\n",
    "# This function preprocesses the text given the index set, according to the specified config\n",
    "def preprocess_query(text, index_set):\n",
    "    assert index_set in {1, 2}\n",
    "    if index_set == 1:\n",
    "        return process_text(text, **config_1)\n",
    "    elif index_set == 2:\n",
    "        return process_text(text, **config_2)\n",
    "\n",
    "#### "
   ]
  },
  {
   "cell_type": "code",
   "execution_count": 21,
   "metadata": {
    "deletable": false,
    "editable": false,
    "nbgrader": {
     "cell_type": "code",
     "checksum": "f0cbc8703e1248cd6edf03f9019b69db",
     "grade": true,
     "grade_id": "cell-fc7c7232d5d2ee46",
     "locked": true,
     "points": 5,
     "schema_version": 3,
     "solution": false,
     "task": false
    }
   },
   "outputs": [
    {
     "name": "stdout",
     "output_type": "stream",
     "text": [
      "sample tf index for computer: [('4', 1), ('7', 1), ('10', 1), ('13', 1), ('19', 1), ('22', 1), ('23', 1), ('37', 1), ('40', 3), ('41', 1)]\n",
      "sample tf index for examples: [('111', 1), ('320', 1), ('644', 1), ('691', 1), ('727', 1), ('848', 1), ('892', 1), ('893', 1), ('1049', 1), ('1051', 1)]\n"
     ]
    }
   ],
   "source": [
    "##### Function check\n",
    "\n",
    "assert isinstance(tf_index_1, dict)\n",
    "\n",
    "assert isinstance(tf_index_1['computer'], list)\n",
    "print('sample tf index for computer:', tf_index_1['computer'][:10])\n",
    "\n",
    "assert isinstance(tf_index_1['examples'], list)\n",
    "print('sample tf index for examples:', tf_index_1['examples'][:10])\n",
    "#### "
   ]
  },
  {
   "cell_type": "code",
   "execution_count": 22,
   "metadata": {
    "deletable": false,
    "editable": false,
    "nbgrader": {
     "cell_type": "code",
     "checksum": "d49b8ac36815d9a5cb4bed838ab53a50",
     "grade": true,
     "grade_id": "cell-ff06bd11204db250",
     "locked": true,
     "points": 5,
     "schema_version": 3,
     "solution": false,
     "task": false
    }
   },
   "outputs": [
    {
     "name": "stdout",
     "output_type": "stream",
     "text": [
      "sample tf index for computer: [('4', 1), ('7', 1), ('10', 1), ('13', 1), ('19', 1), ('22', 1), ('23', 1), ('37', 1), ('40', 3), ('41', 1)]\n",
      "sample tf index for examples: []\n"
     ]
    }
   ],
   "source": [
    "##### Function check\n",
    "\n",
    "assert isinstance(tf_index_2, dict)\n",
    "\n",
    "assert isinstance(tf_index_2['computer'], list)\n",
    "print('sample tf index for computer:', tf_index_1['computer'][:10])\n",
    "\n",
    "assert isinstance(tf_index_2['examples'], list)\n",
    "print('sample tf index for examples:', tf_index_2['examples'][:10])\n",
    "#### "
   ]
  },
  {
   "cell_type": "markdown",
   "metadata": {
    "deletable": false,
    "editable": false,
    "nbgrader": {
     "cell_type": "markdown",
     "checksum": "880b2ef3ca405f2af6e0667d2dc7a600",
     "grade": false,
     "grade_id": "cell-89eba71f04310291",
     "locked": true,
     "schema_version": 3,
     "solution": false,
     "task": false
    }
   },
   "source": [
    "\n",
    "---\n",
    "## Section 3: Ranking  (80 points) <a class=\"anchor\" id=\"ranking\"></a>\n",
    "\n",
    "[Back to Part 1](#part1)\n",
    "\n",
    "Now that we have cleaned and processed our dataset, we can start building simple IR systems. \n",
    "\n",
    "For now, we consider *simple* IR systems, which involve computing scores from the tokens present in the document/query. More advanced methods are covered in later assignments.\n",
    "\n",
    "We will implement the following methods in this section:\n",
    "- [Section 3.1: Bag of Words](#bow) (10 points)\n",
    "- [Section 3.2: TF-IDF](#tfidf) (15 points)\n",
    "- [Section 3.3: Query Likelihood Model](#qlm) (35 points)\n",
    "- [Section 3.4: BM25](#bm25) (20 points)\n",
    "\n",
    "*All search functions should be able to handle multiple words queries.*\n",
    "\n",
    "**Scoring policy:**\n",
    "Your implementations in this section are scored based on the expected performance of your ranking functions.\n",
    "You will get a full mark if your implementation meets the expected performance (measured by some evaluation metric).\n",
    "Otherwise, you may get partial credit.\n",
    "For example, if your *Bag of words* ranking function has 60% of expected performance, you will get 6 out of 10."
   ]
  },
  {
   "cell_type": "markdown",
   "metadata": {
    "deletable": false,
    "editable": false,
    "nbgrader": {
     "cell_type": "markdown",
     "checksum": "6c74e5061917358300c6e8085ec07864",
     "grade": false,
     "grade_id": "cell-3daf70a60e393adf",
     "locked": true,
     "schema_version": 3,
     "solution": false,
     "task": false
    }
   },
   "source": [
    "--- \n",
    "\n",
    "### Section 3.1: Bag of Words (10 points)<a class=\"anchor\" id=\"bow\"></a>\n",
    "\n",
    "Probably the simplest IR model is the Bag of Words (BOW) model.\n",
    "Implement a function that scores and ranks all the documents against a query using this model.   \n",
    "\n",
    "- For consistency, you should use the count of the token and **not** the binary indicator.\n",
    "- Use `float` type for the scores (even though the scores are integers in this case).\n",
    "- No normalization of the scores is necessary, as the ordering is what we are interested in.\n",
    "- If two documents have the same score, they can have any ordering: you are not required to disambiguate.\n"
   ]
  },
  {
   "cell_type": "code",
   "execution_count": 23,
   "metadata": {
    "deletable": false,
    "nbgrader": {
     "cell_type": "code",
     "checksum": "fee4640e22bfc4f05eb958a675ef40e7",
     "grade": false,
     "grade_id": "cell-de9cf0459c4b9324",
     "locked": false,
     "schema_version": 3,
     "solution": true,
     "task": false
    }
   },
   "outputs": [],
   "source": [
    "# TODO: Implement this! (10 points)\n",
    "def bow_search(query, index_set):\n",
    "    \"\"\"\n",
    "    Perform a search over all documents with the given query.\n",
    "    Note: You have to use the `get_index` function created in the previous cells\n",
    "    Input:\n",
    "        query - a (unprocessed) query\n",
    "        index_set - the index to use\n",
    "    Output: a list of (document_id, score),\n",
    "        sorted in descending relevance to the given query.\n",
    "    \"\"\"\n",
    "    index = get_index(index_set)\n",
    "    processed_query = preprocess_query(query, index_set)\n",
    "\n",
    "    # YOUR CODE HERE\n",
    "    # total count per document\n",
    "    documents = defaultdict(float)\n",
    "    for token in processed_query:\n",
    "        for document_id, token_count in index[token]:\n",
    "            # aggregate counts of this token across all documents\n",
    "            documents[document_id] += token_count\n",
    "    # convert documents to list and sort descending\n",
    "    documents = sorted(list(documents.items()), key=lambda x: x[1], reverse=True)\n",
    "    return documents"
   ]
  },
  {
   "cell_type": "code",
   "execution_count": 24,
   "metadata": {
    "deletable": false,
    "editable": false,
    "nbgrader": {
     "cell_type": "code",
     "checksum": "613524fbbf02b1d122c6611a71fbf11b",
     "grade": true,
     "grade_id": "cell-9f6aceae6dd9125f",
     "locked": true,
     "points": 2,
     "schema_version": 3,
     "solution": false,
     "task": false
    }
   },
   "outputs": [],
   "source": [
    "#### Function check\n",
    "\n",
    "test_bow = bow_search(\"how to implement bag of words search\", index_set=1)[:5]\n",
    "assert isinstance(test_bow, list)\n",
    "assert len(test_bow[0]) == 2\n",
    "assert isinstance(test_bow[0][0], str)\n",
    "assert isinstance(test_bow[0][1], float)\n",
    "\n",
    "#### "
   ]
  },
  {
   "cell_type": "code",
   "execution_count": 25,
   "metadata": {
    "deletable": false,
    "editable": false,
    "nbgrader": {
     "cell_type": "code",
     "checksum": "9af20897659edb62fe77598483590500",
     "grade": true,
     "grade_id": "cell-4eed3abf233d9b58",
     "locked": true,
     "points": 2,
     "schema_version": 3,
     "solution": false,
     "task": false
    }
   },
   "outputs": [
    {
     "name": "stdout",
     "output_type": "stream",
     "text": [
      "BOW Results:\n",
      "Rank 0(1.3e+01): On Computing The Fast Fourier Transform\\nCooley an...\n",
      "Rank 1(1.2e+01): Variable Length Tree Structures Having Minimum Ave...\n",
      "Rank 2(1.1e+01): A Modular Computer Sharing System\\nAn alternative ...\n",
      "Rank 3(1e+01): PEEKABIT, Computer Offspring of Punched\\nCard PEEK...\n",
      "Rank 4(9.0): Computer Simulation-Discussion of the\\nTechnique a...\n"
     ]
    }
   ],
   "source": [
    "\n",
    "docs_by_id = dict(docs)\n",
    "def print_results(docs, len_limit=50):    \n",
    "    for i, (doc_id, score) in enumerate(docs):\n",
    "        doc_content = docs_by_id[doc_id].strip().replace(\"\\n\", \"\\\\n\")[:len_limit] + \"...\"\n",
    "        print(f\"Rank {i}({score:.2}): {doc_content}\")\n",
    "\n",
    "test_bow_2 = bow_search(\"computer search word\", index_set=2)[:5]\n",
    "print(f\"BOW Results:\")\n",
    "print_results(test_bow_2)\n"
   ]
  },
  {
   "cell_type": "code",
   "execution_count": 26,
   "metadata": {
    "deletable": false,
    "editable": false,
    "nbgrader": {
     "cell_type": "code",
     "checksum": "3c9c8b16c8e7d1032f101e9da8a6e845",
     "grade": true,
     "grade_id": "cell-4d65a2d7090c466c",
     "locked": true,
     "points": 3,
     "schema_version": 3,
     "solution": false,
     "task": false
    }
   },
   "outputs": [
    {
     "name": "stdout",
     "output_type": "stream",
     "text": [
      "BOW Results:\n",
      "Rank 0(9.0): CURRICULUM 68 -- Recommendations for Academic\\nPro...\n",
      "Rank 1(9.0): Variable Length Tree Structures Having Minimum Ave...\n",
      "Rank 2(7.0): Computer Formulation of the Equations of Motion Us...\n",
      "Rank 3(7.0): The Effects of Multiplexing on a Computer-Communic...\n",
      "Rank 4(6.0): Optimizing Bit-time Computer Simulation\\nA major c...\n"
     ]
    }
   ],
   "source": [
    "\n",
    "test_bow_1 = bow_search(\"computer search word\", index_set=1)[:5]\n",
    "print(f\"BOW Results:\")\n",
    "print_results(test_bow_1)\n"
   ]
  },
  {
   "cell_type": "code",
   "execution_count": 27,
   "metadata": {
    "deletable": false,
    "editable": false,
    "nbgrader": {
     "cell_type": "code",
     "checksum": "b7e593847aa4202ae45ec061fb18ad73",
     "grade": true,
     "grade_id": "cell-dedf36ab5853ce20",
     "locked": true,
     "points": 3,
     "schema_version": 3,
     "solution": false,
     "task": false
    }
   },
   "outputs": [
    {
     "name": "stdout",
     "output_type": "stream",
     "text": [
      "top-5 docs for index1: ('1771', '1936', '1543', '2535', '678')\n",
      "top-5 docs for index2: ('1525', '1936', '1844', '1700', '1366')\n"
     ]
    }
   ],
   "source": [
    "print('top-5 docs for index1:', list(zip(*test_bow_1[:5]))[0])\n",
    "print('top-5 docs for index2:', list(zip(*test_bow_2[:5]))[0])\n"
   ]
  },
  {
   "cell_type": "markdown",
   "metadata": {
    "deletable": false,
    "editable": false,
    "nbgrader": {
     "cell_type": "markdown",
     "checksum": "b04352ee0716dfdf094b8cdb6f32e984",
     "grade": false,
     "grade_id": "cell-a5c09c79ac1f2871",
     "locked": true,
     "schema_version": 3,
     "solution": false,
     "task": false
    }
   },
   "source": [
    "\n",
    "---\n",
    "\n",
    "### Section 3.2: TF-IDF (15 points) <a class=\"anchor\" id=\"tfidf\"></a>\n",
    "\n",
    "Before we implement the tf-idf scoring functions, let's first write a function to compute the document frequencies of all words.  \n",
    "\n",
    "#### 3.2.1 Document frequency (5 points)\n",
    "Compute the document frequencies of all tokens in the collection. \n",
    "Your code should return a dictionary with tokens as its keys and the number of documents containing the token as values.\n",
    "For consistency, the values should have `int` type."
   ]
  },
  {
   "cell_type": "code",
   "execution_count": 28,
   "metadata": {
    "deletable": false,
    "nbgrader": {
     "cell_type": "code",
     "checksum": "5c53263cf4c0b0ffcaae08b91fc364cc",
     "grade": false,
     "grade_id": "cell-9a2369f32e864b8a",
     "locked": false,
     "schema_version": 3,
     "solution": true,
     "task": false
    }
   },
   "outputs": [],
   "source": [
    "# TODO: Implement this! (5 points)\n",
    "def compute_df(documents):\n",
    "    \"\"\"\n",
    "    Compute the document frequency of all terms in the vocabulary\n",
    "    Input: A list of documents\n",
    "    Output: A dictionary with {token: document frequency (int)}\n",
    "    \"\"\"\n",
    "    # YOUR CODE HERE\n",
    "    df_dict = defaultdict(int)\n",
    "    for document in documents:\n",
    "        # we only count a token once per document, so work on the set of unique doc tokens\n",
    "        unique_doc_tokens = set(document)\n",
    "        for token in unique_doc_tokens:\n",
    "            df_dict[token] += 1\n",
    "    return df_dict"
   ]
  },
  {
   "cell_type": "code",
   "execution_count": 29,
   "metadata": {
    "deletable": false,
    "editable": false,
    "nbgrader": {
     "cell_type": "code",
     "checksum": "154985511d7925c5793a1f97dea81880",
     "grade": false,
     "grade_id": "cell-4c3bddd0b73ac90e",
     "locked": true,
     "schema_version": 3,
     "solution": false,
     "task": false
    }
   },
   "outputs": [],
   "source": [
    "#### Compute df based on the two configs\n",
    "\n",
    "# get the document frequencies of each document\n",
    "df_1 = compute_df([d[1] for d in doc_repr_1])\n",
    "df_2 = compute_df([d[1] for d in doc_repr_2])\n",
    "\n",
    "def get_df(index_set):\n",
    "    assert index_set in {1, 2}\n",
    "    return {\n",
    "        1: df_1,\n",
    "        2: df_2\n",
    "    }[index_set]\n",
    "####"
   ]
  },
  {
   "cell_type": "code",
   "execution_count": 30,
   "metadata": {
    "deletable": false,
    "editable": false,
    "nbgrader": {
     "cell_type": "code",
     "checksum": "110cc180068cf3f77c682ee3de2a117c",
     "grade": true,
     "grade_id": "cell-79e8a6db1e5fc46f",
     "locked": true,
     "points": 5,
     "schema_version": 3,
     "solution": false,
     "task": false
    }
   },
   "outputs": [
    {
     "name": "stdout",
     "output_type": "stream",
     "text": [
      "597\n",
      "11\n"
     ]
    }
   ],
   "source": [
    "#### Function check\n",
    "\n",
    "print(df_1['computer'])\n",
    "print(df_2['computer'])\n",
    "####"
   ]
  },
  {
   "cell_type": "markdown",
   "metadata": {
    "deletable": false,
    "editable": false,
    "nbgrader": {
     "cell_type": "markdown",
     "checksum": "d0d577668fa51b80aeab6e67209ae73b",
     "grade": false,
     "grade_id": "cell-52f6acc487e1b96d",
     "locked": true,
     "schema_version": 3,
     "solution": false,
     "task": false
    }
   },
   "source": [
    "---\n",
    "#### 3.2.2 TF-IDF search (10 points)\n",
    "Next, implement a function that computes a tf-idf score, given a query.\n",
    "Use the following formulas for TF and IDF:\n",
    "\n",
    "$$ TF=\\log (1 + f_{d,t}) $$\n",
    "\n",
    "$$ IDF=\\log (\\frac{N}{n_t})$$\n",
    "\n",
    "where $f_{d,t}$ is the frequency of token $t$ in document $d$, $N$ is the number of total documents and $n_t$ is the number of documents containing token $t$.\n",
    "\n",
    "**Note:** your implementation will be auto-graded assuming you have used the above formulas.\n"
   ]
  },
  {
   "cell_type": "code",
   "execution_count": 31,
   "metadata": {
    "deletable": false,
    "nbgrader": {
     "cell_type": "code",
     "checksum": "3534c44b4a3419ca1db98eebe7115dc1",
     "grade": false,
     "grade_id": "cell-2fb5ba34b2994cd9",
     "locked": false,
     "schema_version": 3,
     "solution": true,
     "task": false
    }
   },
   "outputs": [],
   "source": [
    "# TODO: Implement this! (10 points)\n",
    "def tfidf_search(query, index_set):\n",
    "    \"\"\"\n",
    "    Perform a search over all documents with the given query using tf-idf.\n",
    "    Note #1: You have to use the `get_index` (and the `get_df`) function\n",
    "    created in the previous cells\n",
    "    Input:\n",
    "        query - a (unprocessed) query\n",
    "        index_set - the index to use\n",
    "    Output: a list of (document_id, score),\n",
    "        sorted in descending relevance to the given query\n",
    "    \"\"\"\n",
    "    index = get_index(index_set)\n",
    "    df = get_df(index_set)\n",
    "    processed_query = preprocess_query(query, index_set)\n",
    "\n",
    "    N = len(docs)\n",
    "    # YOUR CODE HERE\n",
    "    documents = defaultdict(float)\n",
    "    for token in processed_query:\n",
    "        for document_id, token_count in index[token]:\n",
    "            tf = np.log(1 + token_count)\n",
    "            idf = np.log(N / df[token])\n",
    "            tf_idf = tf * idf\n",
    "            documents[document_id] += tf_idf\n",
    "    # convert documents to list and sort descending\n",
    "    documents = sorted(list(documents.items()), key=lambda x: x[1], reverse=True)\n",
    "    return documents"
   ]
  },
  {
   "cell_type": "code",
   "execution_count": 32,
   "metadata": {
    "deletable": false,
    "editable": false,
    "nbgrader": {
     "cell_type": "code",
     "checksum": "7b66a514663d898694b09a23a597312b",
     "grade": true,
     "grade_id": "cell-bc68aeeacf42beb3",
     "locked": true,
     "points": 2,
     "schema_version": 3,
     "solution": false,
     "task": false
    }
   },
   "outputs": [],
   "source": [
    "\n",
    "#### Function check\n",
    "test_tfidf = tfidf_search(\"how to implement tf idf search\", index_set=1)[:5]\n",
    "assert isinstance(test_tfidf, list)\n",
    "assert len(test_tfidf[0]) == 2\n",
    "assert isinstance(test_tfidf[0][0], str)\n",
    "assert isinstance(test_tfidf[0][1], float)\n",
    "\n",
    "####"
   ]
  },
  {
   "cell_type": "code",
   "execution_count": 33,
   "metadata": {
    "deletable": false,
    "editable": false,
    "nbgrader": {
     "cell_type": "code",
     "checksum": "98fb1326cf4bf7983ae237ca8a9105f9",
     "grade": true,
     "grade_id": "cell-c7702fa8179fadb9",
     "locked": true,
     "points": 2,
     "schema_version": 3,
     "solution": false,
     "task": false
    }
   },
   "outputs": [
    {
     "name": "stdout",
     "output_type": "stream",
     "text": [
      "TFIDF Results:\n",
      "Rank 0(1.3e+01): PEEKABIT, Computer Offspring of Punched\\nCard PEEK...\n",
      "Rank 1(9.8): Variable Length Tree Structures Having Minimum Ave...\n",
      "Rank 2(8.2): A Stochastic Approach to the Grammatical Coding of...\n",
      "Rank 3(8.1): Full Table Quadratic Searching for Scatter Storage...\n",
      "Rank 4(7.6): Use of Tree Structures for Processing Files\\nIn da...\n"
     ]
    }
   ],
   "source": [
    "\n",
    "test_tfidf_2 = tfidf_search(\"computer word search\", index_set=2)[:5]\n",
    "print(f\"TFIDF Results:\")\n",
    "print_results(test_tfidf_2)\n"
   ]
  },
  {
   "cell_type": "code",
   "execution_count": 34,
   "metadata": {
    "deletable": false,
    "editable": false,
    "nbgrader": {
     "cell_type": "code",
     "checksum": "733b5b67be5e53989f5b763ce5e52ee9",
     "grade": true,
     "grade_id": "cell-3284f50ac29abbaa",
     "locked": true,
     "points": 3,
     "schema_version": 3,
     "solution": false,
     "task": false
    }
   },
   "outputs": [
    {
     "name": "stdout",
     "output_type": "stream",
     "text": [
      "TFIDF Results:\n",
      "Rank 0(9.4): Variable Length Tree Structures Having Minimum Ave...\n",
      "Rank 1(7.4): On the Feasibility of Voice Input to\\nan On-line C...\n",
      "Rank 2(7.3): Median Split Trees: A Fast Lookup Technique for Fr...\n",
      "Rank 3(7.0): Execution Time Requirements for Encipherment Progr...\n",
      "Rank 4(7.0): Storage and Search Properties of a Tree-Organized ...\n"
     ]
    }
   ],
   "source": [
    "\n",
    "test_tfidf_1 = tfidf_search(\"computer word search\", index_set=1)[:5]\n",
    "print(f\"TFIDF Results:\")\n",
    "print_results(test_tfidf_1)\n"
   ]
  },
  {
   "cell_type": "code",
   "execution_count": 35,
   "metadata": {
    "deletable": false,
    "editable": false,
    "nbgrader": {
     "cell_type": "code",
     "checksum": "e0edb37a5ae807a2de85d578c87ccb78",
     "grade": true,
     "grade_id": "cell-d908c80a3155354b",
     "locked": true,
     "points": 3,
     "schema_version": 3,
     "solution": false,
     "task": false
    }
   },
   "outputs": [
    {
     "name": "stdout",
     "output_type": "stream",
     "text": [
      "top-5 docs for index1 with BOW search: ('1771', '1936', '1543', '2535', '678')\n",
      "top-5 docs for index2 with BOW search: ('1525', '1936', '1844', '1700', '1366')\n",
      "top-5 docs for index1 with TF-IDF search: ('1936', '2054', '3041', '2620', '944')\n",
      "top-5 docs for index2 with TF-IDF search: ('1700', '1936', '1235', '2018', '849')\n"
     ]
    }
   ],
   "source": [
    "\n",
    "print('top-5 docs for index1 with BOW search:', list(zip(*test_bow_1[:5]))[0])\n",
    "print('top-5 docs for index2 with BOW search:', list(zip(*test_bow_2[:5]))[0])\n",
    "print('top-5 docs for index1 with TF-IDF search:', list(zip(*test_tfidf_1[:5]))[0])\n",
    "print('top-5 docs for index2 with TF-IDF search:', list(zip(*test_tfidf_2[:5]))[0])\n",
    "\n"
   ]
  },
  {
   "cell_type": "markdown",
   "metadata": {
    "deletable": false,
    "editable": false,
    "nbgrader": {
     "cell_type": "markdown",
     "checksum": "cdffc83f0eaea937cf64a212e7e9af8d",
     "grade": false,
     "grade_id": "cell-f5d923459ba21733",
     "locked": true,
     "schema_version": 3,
     "solution": false,
     "task": false
    }
   },
   "source": [
    "--- \n",
    "\n",
    "### Section 3.3: Query Likelihood Model (35 points) <a class=\"anchor\" id=\"qlm\"></a>\n",
    "\n",
    "In this section, you will implement a simple query likelihood model. \n",
    "\n",
    "\n",
    "#### 3.3.1 Naive QL (15 points)\n",
    "\n",
    "First, let us implement a naive version of a QL model, assuming a multinomial unigram language model (with a uniform prior over the documents). \n",
    "\n"
   ]
  },
  {
   "cell_type": "code",
   "execution_count": 36,
   "metadata": {
    "deletable": false,
    "editable": false,
    "nbgrader": {
     "cell_type": "code",
     "checksum": "b7ae2b7d818b428b4638c1c9206d2aca",
     "grade": false,
     "grade_id": "cell-98505778f7b68e7f",
     "locked": true,
     "schema_version": 3,
     "solution": false,
     "task": false
    }
   },
   "outputs": [],
   "source": [
    "#### Document length for normalization\n",
    "\n",
    "def doc_lengths(documents):\n",
    "    doc_lengths = {doc_id:len(doc) for (doc_id, doc) in documents}\n",
    "    return doc_lengths\n",
    "\n",
    "doc_lengths_1 = doc_lengths(doc_repr_1)\n",
    "doc_lengths_2 = doc_lengths(doc_repr_2)\n",
    "\n",
    "def get_doc_lengths(index_set):\n",
    "    assert index_set in {1, 2}\n",
    "    return {\n",
    "        1: doc_lengths_1,\n",
    "        2: doc_lengths_2\n",
    "    }[index_set]\n",
    "####"
   ]
  },
  {
   "cell_type": "code",
   "execution_count": 37,
   "metadata": {
    "deletable": false,
    "nbgrader": {
     "cell_type": "code",
     "checksum": "cedd08303a914243fefdb6b876977ca1",
     "grade": false,
     "grade_id": "cell-8bcf2b804d636c2e",
     "locked": false,
     "schema_version": 3,
     "solution": true,
     "task": false
    }
   },
   "outputs": [],
   "source": [
    "# TODO: Implement this! (15 points)\n",
    "def naive_ql_search(query, index_set):\n",
    "    \"\"\"\n",
    "    Perform a search over all documents with the given query using a naive QL model.\n",
    "    Note #1: You have to use the `get_index` (and get_doc_lengths) function\n",
    "        created in the previous cells\n",
    "    Input:\n",
    "        query - a (unprocessed) query\n",
    "        index_set - the index to use\n",
    "    Output: a list of (document_id, score), sorted in descending relevance\n",
    "        to the given query\n",
    "    \"\"\"\n",
    "    index = get_index(index_set)\n",
    "    doc_lengths = get_doc_lengths(index_set)\n",
    "    processed_query = preprocess_query(query, index_set)\n",
    "    # YOUR CODE HERE\n",
    "    results = {}\n",
    "    \n",
    "    for token in processed_query:\n",
    "        # convert to dictionary for fast lookup\n",
    "        token_counts = dict(index[token])\n",
    "        for doc_id in doc_lengths.keys():\n",
    "            if doc_id not in token_counts:\n",
    "                # because token count is 0\n",
    "                p_qD = 0\n",
    "            else:\n",
    "                # otherwise we're able to get the tok count and proceed with computation\n",
    "                token_count = token_counts[doc_id]\n",
    "                p_qD = token_count / doc_lengths[doc_id]\n",
    "            if doc_id not in results:\n",
    "                results[doc_id] = p_qD\n",
    "            else:\n",
    "                results[doc_id] *= p_qD\n",
    "    results = sorted(list(results.items()), key=lambda x: x[1], reverse=True)\n",
    "    return results"
   ]
  },
  {
   "cell_type": "code",
   "execution_count": 38,
   "metadata": {
    "deletable": false,
    "editable": false,
    "nbgrader": {
     "cell_type": "code",
     "checksum": "b550d15bdad28354c336020a00c33d56",
     "grade": true,
     "grade_id": "cell-5a83ac12ecde8578",
     "locked": true,
     "points": 3,
     "schema_version": 3,
     "solution": false,
     "task": false
    }
   },
   "outputs": [
    {
     "name": "stdout",
     "output_type": "stream",
     "text": [
      "Naive QL Results:\n",
      "Rank 0(0.2): A Report Writer For COBOL...\n",
      "Rank 1(0.2): A CRT Report Generating System...\n",
      "Rank 2(0.17): Preliminary Report-International Algebraic Languag...\n",
      "Rank 3(0.17): Supplement to the ALGOL 60 Report...\n",
      "Rank 4(0.14): ALGOL Sub-Committee Report - Extensions...\n"
     ]
    }
   ],
   "source": [
    "#### Function check\n",
    "test_naiveql = naive_ql_search(\"report\", index_set=1)[:5]\n",
    "print(f\"Naive QL Results:\")\n",
    "print_results(test_naiveql)\n",
    "####"
   ]
  },
  {
   "cell_type": "code",
   "execution_count": 39,
   "metadata": {
    "deletable": false,
    "editable": false,
    "nbgrader": {
     "cell_type": "code",
     "checksum": "799df1d81c63fe90edbb6c218fc707fb",
     "grade": true,
     "grade_id": "cell-80f4bf2137f997bb",
     "locked": true,
     "points": 2,
     "schema_version": 3,
     "solution": false,
     "task": false
    }
   },
   "outputs": [],
   "source": [
    "#### Please do not change this. This cell is used for grading."
   ]
  },
  {
   "cell_type": "code",
   "execution_count": 40,
   "metadata": {
    "deletable": false,
    "editable": false,
    "nbgrader": {
     "cell_type": "code",
     "checksum": "875a4a517d27e20625d41783cebec118",
     "grade": true,
     "grade_id": "cell-5ce2993458a8ce51",
     "locked": true,
     "points": 3,
     "schema_version": 3,
     "solution": false,
     "task": false
    }
   },
   "outputs": [],
   "source": [
    "#### Please do not change this. This cell is used for grading."
   ]
  },
  {
   "cell_type": "code",
   "execution_count": 41,
   "metadata": {
    "deletable": false,
    "editable": false,
    "nbgrader": {
     "cell_type": "code",
     "checksum": "d5c4e1c3852e71a46f32825b122f1b71",
     "grade": true,
     "grade_id": "cell-7753bdb54e292f3d",
     "locked": true,
     "points": 3,
     "schema_version": 3,
     "solution": false,
     "task": false
    }
   },
   "outputs": [],
   "source": [
    "#### Please do not change this. This cell is used for grading."
   ]
  },
  {
   "cell_type": "code",
   "execution_count": 42,
   "metadata": {
    "deletable": false,
    "editable": false,
    "nbgrader": {
     "cell_type": "code",
     "checksum": "c4d4332d4356e89ce0240f6b80e1899a",
     "grade": true,
     "grade_id": "cell-54e476e2f96e64bb",
     "locked": true,
     "points": 4,
     "schema_version": 3,
     "solution": false,
     "task": false
    }
   },
   "outputs": [],
   "source": [
    "#### Please do not change this. This cell is used for grading."
   ]
  },
  {
   "cell_type": "markdown",
   "metadata": {
    "deletable": false,
    "editable": false,
    "nbgrader": {
     "cell_type": "markdown",
     "checksum": "8d739dc91a22bd48897f603885f95a74",
     "grade": false,
     "grade_id": "cell-5414dfd69dab8b94",
     "locked": true,
     "schema_version": 3,
     "solution": false,
     "task": false
    }
   },
   "source": [
    "---\n",
    "#### 3.3.2 QL (20 points)\n",
    "Now, let's implement a QL model that handles the issues with the naive version. In particular, you will implement a QL model with Jelinek-Mercer Smoothing. That means an interpolated score is computed per word - one term is the same as the previous naive version, and the second term comes from a unigram language model. In addition, you should accumulate the scores by summing the **log** (smoothed) probability which leads to better numerical stability."
   ]
  },
  {
   "cell_type": "code",
   "execution_count": 43,
   "metadata": {
    "deletable": false,
    "nbgrader": {
     "cell_type": "code",
     "checksum": "b8c6abf937ad333e628f1db891f2e29e",
     "grade": false,
     "grade_id": "cell-bb1f506409771257",
     "locked": false,
     "schema_version": 3,
     "solution": true,
     "task": false
    }
   },
   "outputs": [],
   "source": [
    "# TODO: Implement this! (20 points)\n",
    "\n",
    "\n",
    "def ql_search(query, index_set):\n",
    "    \"\"\"\n",
    "    Perform a search over all documents with the given query using a QL model\n",
    "    with Jelinek-Mercer Smoothing (set smoothing=0.1).\n",
    "\n",
    "    Note #1: You have to use the `get_index` (and get_doc_lengths) function\n",
    "        created in the previous cells\n",
    "    Note #2: You might have to create some variables beforehand and\n",
    "        use them in this function\n",
    "\n",
    "    Input:\n",
    "        query - a (unprocessed) query\n",
    "        index_set - the index to use\n",
    "    Output: a list of (document_id, score), sorted in descending relevance\n",
    "        to the given query\n",
    "    \"\"\"\n",
    "    index = get_index(index_set)\n",
    "    doc_lengths = get_doc_lengths(index_set)\n",
    "    processed_query = preprocess_query(query, index_set)\n",
    "\n",
    "    # YOUR CODE HERE\n",
    "    # total number of words in the collection\n",
    "    C = sum(list(doc_lengths.values()))\n",
    "    # \"(set smoothing=0.1)\"\n",
    "    lambd = 0.1\n",
    "    results = {}\n",
    "    for token in processed_query:\n",
    "        # skip tokens not in docs\n",
    "        if not index[token]:\n",
    "            continue\n",
    "        # mapping from to doc_id to count for this token\n",
    "        doc_to_count = {}\n",
    "        # total count of token across the collection\n",
    "        total_tok_count = 0\n",
    "        for doc, tok_count in index[token]:\n",
    "            doc_to_count[doc] = tok_count\n",
    "            total_tok_count += tok_count\n",
    "\n",
    "        # check each document in our collection, to catch token counts of 0\n",
    "        for document_id, doc_length in doc_lengths.items():\n",
    "            if document_id in doc_to_count:\n",
    "                token_count = doc_to_count[document_id]\n",
    "            else:\n",
    "                token_count = 0\n",
    "            # page 257 of Croft et al.\n",
    "            p_qD = np.log(\n",
    "                (1 - lambd) * token_count / doc_lengths[document_id]\n",
    "                + lambd * total_tok_count / C\n",
    "            )\n",
    "            if document_id not in results:\n",
    "                results[document_id] = p_qD\n",
    "            else:\n",
    "                results[document_id] += p_qD\n",
    "\n",
    "    # convert documents to list and sort descending\n",
    "    results = sorted(list(results.items()), key=lambda x: x[1], reverse=True)\n",
    "    return results"
   ]
  },
  {
   "cell_type": "code",
   "execution_count": 44,
   "metadata": {
    "deletable": false,
    "editable": false,
    "nbgrader": {
     "cell_type": "code",
     "checksum": "0b12a7f3355193a257fd9f5f69a66562",
     "grade": true,
     "grade_id": "cell-850e9d6369bcec32",
     "locked": true,
     "points": 4,
     "schema_version": 3,
     "solution": false,
     "task": false
    }
   },
   "outputs": [
    {
     "name": "stdout",
     "output_type": "stream",
     "text": [
      "Rank 0(-1.7): A Report Writer For COBOL...\n",
      "Rank 1(-1.7): A CRT Report Generating System...\n",
      "Rank 2(-1.9): Preliminary Report-International Algebraic Languag...\n",
      "Rank 3(-1.9): Supplement to the ALGOL 60 Report...\n",
      "Rank 4(-2.1): ALGOL Sub-Committee Report - Extensions...\n",
      "\n",
      "Rank 0(-1.7e+01): A Report Writer For COBOL...\n",
      "Rank 1(-1.7e+01): A CRT Report Generating System...\n",
      "Rank 2(-1.9e+01): Preliminary Report-International Algebraic Languag...\n",
      "Rank 3(-1.9e+01): Supplement to the ALGOL 60 Report...\n",
      "Rank 4(-2.1e+01): ALGOL Sub-Committee Report - Extensions...\n"
     ]
    }
   ],
   "source": [
    "#### Function check\n",
    "test_ql_results = ql_search(\"report\", index_set=1)[:5]\n",
    "print_results(test_ql_results)\n",
    "print()\n",
    "test_ql_results_long = ql_search(\"report \" * 10, index_set=1)[:5]\n",
    "print_results(test_ql_results_long)\n",
    "####"
   ]
  },
  {
   "cell_type": "code",
   "execution_count": 45,
   "metadata": {
    "deletable": false,
    "editable": false,
    "nbgrader": {
     "cell_type": "code",
     "checksum": "e40be645140389c115849856145f5b59",
     "grade": true,
     "grade_id": "cell-958cdcf6fd6899b7",
     "locked": true,
     "points": 3,
     "schema_version": 3,
     "solution": false,
     "task": false
    }
   },
   "outputs": [],
   "source": [
    "#### Please do not change this. This cell is used for grading."
   ]
  },
  {
   "cell_type": "code",
   "execution_count": 46,
   "metadata": {
    "deletable": false,
    "editable": false,
    "nbgrader": {
     "cell_type": "code",
     "checksum": "41d4aff001df17e7963ba79b45810b30",
     "grade": true,
     "grade_id": "cell-384dc23a0c251f6e",
     "locked": true,
     "points": 4,
     "schema_version": 3,
     "solution": false,
     "task": false
    }
   },
   "outputs": [],
   "source": [
    "#### Please do not change this. This cell is used for grading."
   ]
  },
  {
   "cell_type": "code",
   "execution_count": 47,
   "metadata": {
    "deletable": false,
    "editable": false,
    "nbgrader": {
     "cell_type": "code",
     "checksum": "893e8c5a073abc8ebb763d267b91bc02",
     "grade": true,
     "grade_id": "cell-7218966cba5097cc",
     "locked": true,
     "points": 4,
     "schema_version": 3,
     "solution": false,
     "task": false
    }
   },
   "outputs": [],
   "source": [
    "#### Please do not change this. This cell is used for grading."
   ]
  },
  {
   "cell_type": "code",
   "execution_count": 48,
   "metadata": {
    "deletable": false,
    "editable": false,
    "nbgrader": {
     "cell_type": "code",
     "checksum": "f99cb6f8b1f5830aaed8f06712ff846e",
     "grade": true,
     "grade_id": "cell-481ab073259ae53f",
     "locked": true,
     "points": 5,
     "schema_version": 3,
     "solution": false,
     "task": false
    }
   },
   "outputs": [],
   "source": [
    "#### Please do not change this. This cell is used for grading."
   ]
  },
  {
   "cell_type": "markdown",
   "metadata": {
    "deletable": false,
    "editable": false,
    "nbgrader": {
     "cell_type": "markdown",
     "checksum": "c02f14705d679579b1aa9f78f54779d5",
     "grade": false,
     "grade_id": "cell-f44088bfdac1dc90",
     "locked": true,
     "schema_version": 3,
     "solution": false,
     "task": false
    }
   },
   "source": [
    "--- \n",
    "\n",
    "### Section 3.4: BM25 (20 points) <a class=\"anchor\" id=\"bm25\"></a>\n",
    "\n",
    "In this section, we will implement the BM25 scoring function. \n"
   ]
  },
  {
   "cell_type": "code",
   "execution_count": 49,
   "metadata": {
    "deletable": false,
    "nbgrader": {
     "cell_type": "code",
     "checksum": "e57efe06ea92af1c83784a42eb3d86e0",
     "grade": false,
     "grade_id": "cell-15640fc9b5d00a3c",
     "locked": false,
     "schema_version": 3,
     "solution": true,
     "task": false
    }
   },
   "outputs": [],
   "source": [
    "# TODO: Implement this! (20 points)\n",
    "def bm25_search(query, index_set):\n",
    "    \"\"\"\n",
    "    Perform a search over all documents with the given query using BM25.\n",
    "    Use k_1 = 1.5 and b = 0.75\n",
    "    Note #1: You have to use the `get_index` (and `get_doc_lengths`) function\n",
    "    created in the previous cells\n",
    "    Note #2: You might have to create some variables beforehand\n",
    "    and use them in this function\n",
    "    Input:\n",
    "        query - a (unprocessed) query\n",
    "        index_set - the index to use\n",
    "    Output: a list of (document_id, score), sorted in descending\n",
    "        relevance to the given query\n",
    "    \"\"\"\n",
    "\n",
    "    index = get_index(index_set)\n",
    "    df = get_df(index_set)\n",
    "    doc_lengths = get_doc_lengths(index_set)\n",
    "    processed_query = preprocess_query(query, index_set)\n",
    "\n",
    "    # YOUR CODE HERE\n",
    "    # hard coded values\n",
    "    k_1 = 1.5\n",
    "    b = 0.75\n",
    "    # initialize our result\n",
    "    documents = defaultdict(float)\n",
    "    # average doc length and number of docs\n",
    "    ave_dl = np.mean([value for _key, value in doc_lengths.items()])\n",
    "    N = len(docs)\n",
    "    for token in processed_query:\n",
    "        for document_id, token_count in index[token]:\n",
    "            idf = np.log(N / df[token])\n",
    "            second_term = (token_count * (k_1 + 1)) / (\n",
    "                token_count + k_1 * (1 - b + b * (doc_lengths[document_id] / ave_dl))\n",
    "            )\n",
    "            documents[document_id] += idf * second_term\n",
    "    # convert documents to list and sort descending\n",
    "    documents = sorted(list(documents.items()), key=lambda x: x[1], reverse=True)\n",
    "    return documents"
   ]
  },
  {
   "cell_type": "code",
   "execution_count": 50,
   "metadata": {
    "deletable": false,
    "editable": false,
    "nbgrader": {
     "cell_type": "code",
     "checksum": "4be9de5d4e94637960d83725422bea6c",
     "grade": true,
     "grade_id": "cell-d10536bca72c74b1",
     "locked": true,
     "points": 3,
     "schema_version": 3,
     "solution": false,
     "task": false
    }
   },
   "outputs": [
    {
     "name": "stdout",
     "output_type": "stream",
     "text": [
      "Rank 0(6.7): A Report Writer For COBOL...\n",
      "Rank 1(6.7): A CRT Report Generating System...\n",
      "Rank 2(6.6): Preliminary Report-International Algebraic Languag...\n",
      "Rank 3(6.6): Supplement to the ALGOL 60 Report...\n",
      "Rank 4(6.5): ALGOL Sub-Committee Report - Extensions...\n"
     ]
    }
   ],
   "source": [
    "#### Function check\n",
    "test_bm25_results = bm25_search(\"report\", index_set=1)[:5]\n",
    "print_results(test_bm25_results)\n",
    "####"
   ]
  },
  {
   "cell_type": "code",
   "execution_count": 51,
   "metadata": {
    "deletable": false,
    "editable": false,
    "nbgrader": {
     "cell_type": "code",
     "checksum": "31b550d6a46ae4f8ede88788799ac2b9",
     "grade": true,
     "grade_id": "cell-60f6ec5052712d79",
     "locked": true,
     "points": 5,
     "schema_version": 3,
     "solution": false,
     "task": false
    }
   },
   "outputs": [],
   "source": [
    "#### Please do not change this. This cell is used for grading."
   ]
  },
  {
   "cell_type": "code",
   "execution_count": 52,
   "metadata": {
    "deletable": false,
    "editable": false,
    "nbgrader": {
     "cell_type": "code",
     "checksum": "3da2ec16bfe781916e71755d65aa2983",
     "grade": true,
     "grade_id": "cell-5d17524043a5abcc",
     "locked": true,
     "points": 5,
     "schema_version": 3,
     "solution": false,
     "task": false
    }
   },
   "outputs": [],
   "source": [
    "#### Please do not change this. This cell is used for grading."
   ]
  },
  {
   "cell_type": "code",
   "execution_count": 53,
   "metadata": {
    "deletable": false,
    "editable": false,
    "nbgrader": {
     "cell_type": "code",
     "checksum": "e7b563d54fa84c20909c0ae107010541",
     "grade": true,
     "grade_id": "cell-ff8e704eda1184e3",
     "locked": true,
     "points": 3,
     "schema_version": 3,
     "solution": false,
     "task": false
    }
   },
   "outputs": [],
   "source": [
    "#### Please do not change this. This cell is used for grading."
   ]
  },
  {
   "cell_type": "code",
   "execution_count": 54,
   "metadata": {
    "deletable": false,
    "editable": false,
    "nbgrader": {
     "cell_type": "code",
     "checksum": "b013f90974b396630a8831d6f1d7e5f7",
     "grade": true,
     "grade_id": "cell-a52310500a2543cb",
     "locked": true,
     "points": 4,
     "schema_version": 3,
     "solution": false,
     "task": false
    }
   },
   "outputs": [],
   "source": [
    "#### Please do not change this. This cell is used for grading."
   ]
  },
  {
   "cell_type": "markdown",
   "metadata": {
    "deletable": false,
    "editable": false,
    "nbgrader": {
     "cell_type": "markdown",
     "checksum": "8fcf67cb7d5e8b26cb9bf1f0aa42c847",
     "grade": false,
     "grade_id": "cell-8b2b412c81d62f2d",
     "locked": true,
     "schema_version": 3,
     "solution": false,
     "task": false
    }
   },
   "source": [
    "\n",
    "---\n",
    "\n",
    "### 3.5. Test Your Functions\n",
    "\n",
    "The widget below allows you to play with the search functions you've written so far. Use this to test your search functions and ensure that they work as expected."
   ]
  },
  {
   "cell_type": "code",
   "execution_count": 55,
   "metadata": {
    "deletable": false,
    "editable": false,
    "nbgrader": {
     "cell_type": "code",
     "checksum": "dfeb204b390acc0794dbdcac92b0cf2c",
     "grade": false,
     "grade_id": "cell-c9c2bb76354e8d97",
     "locked": true,
     "schema_version": 3,
     "solution": false,
     "task": false
    }
   },
   "outputs": [],
   "source": [
    "#### Highlighter function\n",
    "# class for results\n",
    "ResultRow = namedtuple(\"ResultRow\", [\"doc_id\", \"snippet\", \"score\"])\n",
    "# doc_id -> doc\n",
    "docs_by_id = dict((d[0], d[1]) for d in docs)\n",
    "\n",
    "def highlight_text(document, query, tol=17):\n",
    "    import re\n",
    "    tokens = tokenize(query)\n",
    "    regex = \"|\".join(f\"(\\\\b{t}\\\\b)\" for t in tokens)\n",
    "    regex = re.compile(regex, flags=re.IGNORECASE)\n",
    "    output = \"\"\n",
    "    i = 0\n",
    "    for m in regex.finditer(document):\n",
    "        start_idx = max(0, m.start() - tol)\n",
    "        end_idx = min(len(document), m.end() + tol)\n",
    "        output += \"\".join([\"...\",\n",
    "                        document[start_idx:m.start()],\n",
    "                        \"<strong>\",\n",
    "                        document[m.start():m.end()],\n",
    "                        \"</strong>\",\n",
    "                        document[m.end():end_idx],\n",
    "                        \"...\"])\n",
    "    return output.replace(\"\\n\", \" \")\n",
    "\n",
    "\n",
    "def make_results(query, search_fn, index_set):\n",
    "    results = []\n",
    "    for doc_id, score in search_fn(query, index_set):\n",
    "        highlight = highlight_text(docs_by_id[doc_id], query)\n",
    "        if len(highlight.strip()) == 0:\n",
    "            highlight = docs_by_id[doc_id]\n",
    "        results.append(ResultRow(doc_id, highlight, score))\n",
    "    return results\n",
    "####"
   ]
  },
  {
   "cell_type": "code",
   "execution_count": 56,
   "metadata": {},
   "outputs": [
    {
     "data": {
      "application/vnd.jupyter.widget-view+json": {
       "model_id": "8d436bd26ead47ff9bddd967d4ada92c",
       "version_major": 2,
       "version_minor": 0
      },
      "text/plain": [
       "Text(value='', description='Search Bar')"
      ]
     },
     "metadata": {},
     "output_type": "display_data"
    }
   ],
   "source": [
    "# TODO: Set this to the function you want to test!\n",
    "SEARCH_FN_NAME = \"bm25\"\n",
    "# this function should take in a query (string)\n",
    "# and return a sorted list of (doc_id, score)\n",
    "# with the most relevant document in the first position\n",
    "search_fn_dict = {\n",
    "    \"bow\": bow_search,\n",
    "    \"tfidf\": tfidf_search,\n",
    "    \"naive_ql\": naive_ql_search,\n",
    "    \"ql\": ql_search,\n",
    "    \"bm25\": bm25_search,\n",
    "}\n",
    "\n",
    "search_fn = search_fn_dict[SEARCH_FN_NAME]\n",
    "index_set = 1\n",
    "\n",
    "text = widgets.Text(description=\"Search Bar\", width=200)\n",
    "display(text)\n",
    "\n",
    "\n",
    "def handle_submit(sender):\n",
    "    print(f\"Searching for: '{sender.value}'\")\n",
    "\n",
    "    results = make_results(sender.value, search_fn, index_set)\n",
    "\n",
    "    # display only the top 5\n",
    "    results = results[:5]\n",
    "\n",
    "    body = \"\"\n",
    "    for idx, r in enumerate(results):\n",
    "        body += f\"<li>Document #{r.doc_id}({r.score}): {r.snippet}</li>\"\n",
    "    display(HTML(f\"<ul>{body}</ul>\"))\n",
    "\n",
    "\n",
    "text.on_submit(handle_submit)"
   ]
  },
  {
   "cell_type": "markdown",
   "metadata": {
    "deletable": false,
    "editable": false,
    "nbgrader": {
     "cell_type": "markdown",
     "checksum": "019b1ff878dc6339dd068e2d48d19904",
     "grade": false,
     "grade_id": "cell-8d46fe8e4f3d8cdb",
     "locked": true,
     "schema_version": 3,
     "solution": false,
     "task": false
    }
   },
   "source": [
    "---\n",
    "\n",
    "## Section 4: Evaluation (40 points) <a class=\"anchor\" id=\"evaluation\"></a>\n",
    "\n",
    "[Back to Part 1](#part1)\n",
    "\n",
    "In order to analyze the effectiveness of retrieval algorithms, we first have to learn how to evaluate such a system. In particular, we will work with offline evaluation metrics. These metrics are computed on a dataset with known relevance judgements.\n",
    "\n",
    "Implement the following evaluation metrics. \n",
    "\n",
    "1. Precision (7 points)\n",
    "2. Recall (7 points)\n",
    "3. Mean Average Precision (13 points)\n",
    "4. Expected Reciprocal Rank (13 points)"
   ]
  },
  {
   "cell_type": "markdown",
   "metadata": {
    "deletable": false,
    "editable": false,
    "nbgrader": {
     "cell_type": "markdown",
     "checksum": "e46f54c7f81d88bbc950b0fae14c4ca5",
     "grade": false,
     "grade_id": "cell-3419fd3bc663d7cc",
     "locked": true,
     "schema_version": 3,
     "solution": false,
     "task": false
    }
   },
   "source": [
    "---\n",
    "### 4.1 Read relevance labels\n",
    "\n",
    "Let's take a look at the `qrels.text` file, which contains the ground truth relevance scores. The relevance labels for CACM are binary - either 0 or 1. \n"
   ]
  },
  {
   "cell_type": "code",
   "execution_count": 57,
   "metadata": {
    "deletable": false,
    "editable": false,
    "nbgrader": {
     "cell_type": "code",
     "checksum": "6c11025f5a222796f2882c73c1634799",
     "grade": false,
     "grade_id": "cell-6b738366059dde9e",
     "locked": true,
     "schema_version": 3,
     "solution": false,
     "task": false
    }
   },
   "outputs": [
    {
     "name": "stdout",
     "output_type": "stream",
     "text": [
      "01 1410  0 0\n",
      "01 1572  0 0\n",
      "01 1605  0 0\n",
      "01 2020  0 0\n",
      "01 2358  0 0\n",
      "02 2434  0 0\n",
      "02 2863  0 0\n",
      "02 3078  0 0\n",
      "03 1134  0 0\n",
      "03 1613  0 0\n"
     ]
    }
   ],
   "source": [
    "!head ./datasets/qrels.text"
   ]
  },
  {
   "cell_type": "markdown",
   "metadata": {
    "deletable": false,
    "editable": false,
    "nbgrader": {
     "cell_type": "markdown",
     "checksum": "7ce95245c1597183320d7254afde5c8e",
     "grade": false,
     "grade_id": "cell-10e16bff2753ffbb",
     "locked": true,
     "schema_version": 3,
     "solution": false,
     "task": false
    }
   },
   "source": [
    "---\n",
    "\n",
    "The first column is the query_id and the second column is the document_id. We can safely ignore the 3rd and 4th columns."
   ]
  },
  {
   "cell_type": "code",
   "execution_count": 58,
   "metadata": {
    "deletable": false,
    "nbgrader": {
     "cell_type": "code",
     "checksum": "000c6d59dce08dba0ba1e8d691dbbc2e",
     "grade": false,
     "grade_id": "cell-ee5253a4ef602fce",
     "locked": false,
     "schema_version": 3,
     "solution": true,
     "task": false
    }
   },
   "outputs": [],
   "source": [
    "# https://piazza.com/class/kyiksrdfk0b6te?cid=40_f1\n",
    "def read_qrels(root_folder=\"./datasets/\"):\n",
    "    \"\"\"\n",
    "    Reads the qrels.text file.\n",
    "    Output: A dictionary: query_id -> [list of relevant documents]\n",
    "    \"\"\"\n",
    "    with open(os.path.join(root_folder, \"qrels.text\")) as reader:\n",
    "        lines = reader.readlines()\n",
    "\n",
    "    from collections import defaultdict\n",
    "\n",
    "    relevant_docs = defaultdict(set)\n",
    "    for line in lines:\n",
    "        query_id, doc_id, _, _ = line.split()\n",
    "        relevant_docs[str(int(query_id))].add(doc_id)\n",
    "    return relevant_docs"
   ]
  },
  {
   "cell_type": "code",
   "execution_count": 59,
   "metadata": {
    "deletable": false,
    "editable": false,
    "nbgrader": {
     "cell_type": "code",
     "checksum": "d60caeba85c2a97d2211184a5ae91fd1",
     "grade": false,
     "grade_id": "cell-72215605fbe24f65",
     "locked": true,
     "schema_version": 3,
     "solution": false,
     "task": false
    }
   },
   "outputs": [],
   "source": [
    "#### Function check\n",
    "qrels = read_qrels()\n",
    "\n",
    "assert len(qrels) == 52, \"There should be 52 queries with relevance judgements\"\n",
    "assert sum(len(j) for j in qrels.values()) == 796, \"There should be a total of 796 Relevance Judgements\"\n",
    "\n",
    "assert np.min(np.array([len(j) for j in qrels.values()])) == 1\n",
    "assert np.max(np.array([len(j) for j in qrels.values()])) == 51\n",
    "\n",
    "####"
   ]
  },
  {
   "cell_type": "markdown",
   "metadata": {
    "deletable": false,
    "editable": false,
    "nbgrader": {
     "cell_type": "markdown",
     "checksum": "6c9e7428a52e291a2cdf92a379730d4c",
     "grade": false,
     "grade_id": "cell-176a6fb2939d0420",
     "locked": true,
     "schema_version": 3,
     "solution": false,
     "task": false
    }
   },
   "source": [
    "---\n",
    "**Note:** For a given query `query_id`, you can assume that documents *not* in `qrels[query_id]` are not relevant to `query_id`. \n"
   ]
  },
  {
   "cell_type": "markdown",
   "metadata": {
    "deletable": false,
    "editable": false,
    "nbgrader": {
     "cell_type": "markdown",
     "checksum": "b26a818c7b4f7ad490e00b35ea0edd69",
     "grade": false,
     "grade_id": "cell-bd8341b72cdd89bb",
     "locked": true,
     "schema_version": 3,
     "solution": false,
     "task": false
    }
   },
   "source": [
    "---\n",
    "### 4.2 Precision (7 points)\n",
    "Implement the `precision@k` metric:"
   ]
  },
  {
   "cell_type": "code",
   "execution_count": 60,
   "metadata": {
    "deletable": false,
    "nbgrader": {
     "cell_type": "code",
     "checksum": "43dea1979ebdec24ffcfeff71c670433",
     "grade": false,
     "grade_id": "cell-494bd0cce108ed67",
     "locked": false,
     "schema_version": 3,
     "solution": true,
     "task": false
    }
   },
   "outputs": [],
   "source": [
    "# TODO: Implement this! (7 points)\n",
    "def precision_k(results, relevant_docs, k):\n",
    "    \"\"\"\n",
    "    Compute Precision@K\n",
    "    Input:\n",
    "        results: A sorted list of 2-tuples (document_id, score),\n",
    "                with the most relevant document in the first position\n",
    "        relevant_docs: A set of relevant documents.\n",
    "        k: the cut-off\n",
    "    Output: Precision@K\n",
    "    \"\"\"\n",
    "    if k > len(results):\n",
    "        k = len(results)\n",
    "    # YOUR CODE HERE\n",
    "    return np.mean([doc_id in relevant_docs for doc_id, _score in results[:k]])"
   ]
  },
  {
   "cell_type": "code",
   "execution_count": 61,
   "metadata": {
    "deletable": false,
    "editable": false,
    "nbgrader": {
     "cell_type": "code",
     "checksum": "9222e35582b1840ffb60fd02fb0b60c3",
     "grade": true,
     "grade_id": "cell-e7ff0d91c319ca64",
     "locked": true,
     "points": 7,
     "schema_version": 3,
     "solution": false,
     "task": false
    }
   },
   "outputs": [
    {
     "name": "stdout",
     "output_type": "stream",
     "text": [
      "query: What articles exist which deal with TSS (Time Sharing System), an\n",
      "operating system for IBM computers?\n",
      "precision@10 = 0.2\n"
     ]
    }
   ],
   "source": [
    "\n",
    "#### Function check\n",
    "qid = queries[0][0]\n",
    "qtext = queries[0][1]\n",
    "print(f'query:{qtext}')\n",
    "results = bm25_search(qtext, 2)\n",
    "precision = precision_k(results, qrels[qid], 10)\n",
    "print(f'precision@10 = {precision}')\n",
    "####"
   ]
  },
  {
   "cell_type": "markdown",
   "metadata": {
    "deletable": false,
    "editable": false,
    "nbgrader": {
     "cell_type": "markdown",
     "checksum": "8fd3b3998197c7097a40348500affb68",
     "grade": false,
     "grade_id": "cell-afd95f865bc7191e",
     "locked": true,
     "schema_version": 3,
     "solution": false,
     "task": false
    }
   },
   "source": [
    "---\n",
    "### 4.3 Recall (7 points)\n",
    "Implement the `recall@k` metric:"
   ]
  },
  {
   "cell_type": "code",
   "execution_count": 62,
   "metadata": {
    "deletable": false,
    "nbgrader": {
     "cell_type": "code",
     "checksum": "b2020e5741ae03b3fe35817ed8f4ccaa",
     "grade": false,
     "grade_id": "cell-c323fc8c3f8a7cf8",
     "locked": false,
     "schema_version": 3,
     "solution": true,
     "task": false
    }
   },
   "outputs": [],
   "source": [
    "# TODO: Implement this! (7 points)\n",
    "def recall_k(results, relevant_docs, k):\n",
    "    \"\"\"\n",
    "    Compute Recall@K\n",
    "    Input:\n",
    "        results: A sorted list of 2-tuples (document_id, score),\n",
    "            with the most relevant document in the first position\n",
    "        relevant_docs: A set of relevant documents.\n",
    "        k: the cut-off\n",
    "    Output: Recall@K\n",
    "    \"\"\"\n",
    "    # YOUR CODE HERE\n",
    "    tp = 0.0\n",
    "    fn = 0.0\n",
    "    for i, (doc_id, _score) in enumerate(results, 1):\n",
    "        if doc_id in relevant_docs:\n",
    "            if i <= k:\n",
    "                tp += 1\n",
    "            else:\n",
    "                fn += 1\n",
    "    try:\n",
    "        return tp / (tp + fn)\n",
    "    except ZeroDivisionError:\n",
    "        return 0.0"
   ]
  },
  {
   "cell_type": "code",
   "execution_count": 63,
   "metadata": {
    "deletable": false,
    "editable": false,
    "nbgrader": {
     "cell_type": "code",
     "checksum": "56b6e0b8522f8b2dffbfb3206b2efa84",
     "grade": true,
     "grade_id": "cell-b25172161aef165c",
     "locked": true,
     "points": 7,
     "schema_version": 3,
     "solution": false,
     "task": false
    }
   },
   "outputs": [
    {
     "name": "stdout",
     "output_type": "stream",
     "text": [
      "query: SETL, Very High Level Languages\n",
      "recall@10 = 0.3157894736842105\n"
     ]
    }
   ],
   "source": [
    "#### Function check\n",
    "qid = queries[10][0]\n",
    "qtext = queries[10][1]\n",
    "print(f'query:{qtext}')\n",
    "results = bm25_search(qtext, 2)\n",
    "recall = recall_k(results, qrels[qid], 10)\n",
    "print(f'recall@10 = {recall}')\n",
    "####"
   ]
  },
  {
   "cell_type": "markdown",
   "metadata": {
    "deletable": false,
    "editable": false,
    "nbgrader": {
     "cell_type": "markdown",
     "checksum": "b3d3c7bd1cd977cd07ef5df7d3fbf159",
     "grade": false,
     "grade_id": "cell-77fd2e7a39a74739",
     "locked": true,
     "schema_version": 3,
     "solution": false,
     "task": false
    }
   },
   "source": [
    "---\n",
    "### 4.4 Mean Average Precision (13 points)\n",
    "Implement the `map` metric:"
   ]
  },
  {
   "cell_type": "code",
   "execution_count": 64,
   "metadata": {
    "deletable": false,
    "nbgrader": {
     "cell_type": "code",
     "checksum": "aae2c62f2ffd76f5b6c004e9519b9f14",
     "grade": false,
     "grade_id": "cell-e50925fa9093a30d",
     "locked": false,
     "schema_version": 3,
     "solution": true,
     "task": false
    }
   },
   "outputs": [],
   "source": [
    "# TODO: Implement this! (12 points)\n",
    "def average_precision(results, relevant_docs):\n",
    "    \"\"\"\n",
    "    Compute Average Precision (for a single query - the results are\n",
    "    averaged across queries to get MAP in the next few cells)\n",
    "    Hint: You can use the recall_k and precision_k functions here!\n",
    "    Input:\n",
    "        results: A sorted list of 2-tuples (document_id, score), with the most\n",
    "                relevant document in the first position\n",
    "        relevant_docs: A set of relevant documents.\n",
    "    Output: Average Precision\n",
    "    \"\"\"\n",
    "    n_rel_docs = len(relevant_docs)\n",
    "    n_true_pos = 0\n",
    "    \n",
    "    precisions = np.zeros(n_rel_docs)\n",
    "    N = len(results)\n",
    "    for k, (doc_id, _score) in enumerate(results, 1):\n",
    "        if n_true_pos == n_rel_docs:\n",
    "            # we can stop early because we found all the relevant docs\n",
    "            break\n",
    "        if doc_id in relevant_docs:\n",
    "            precisions[n_true_pos] = precision_k(results, relevant_docs, k)\n",
    "            n_true_pos += 1\n",
    "    # compute the average precision\n",
    "    return np.mean(precisions)"
   ]
  },
  {
   "cell_type": "code",
   "execution_count": 65,
   "metadata": {
    "deletable": false,
    "editable": false,
    "nbgrader": {
     "cell_type": "code",
     "checksum": "3b00e147c2fa146fa59f179b7c9cab75",
     "grade": true,
     "grade_id": "cell-8a1f7ec98571e58b",
     "locked": true,
     "points": 13,
     "schema_version": 3,
     "solution": false,
     "task": false
    }
   },
   "outputs": [
    {
     "name": "stdout",
     "output_type": "stream",
     "text": [
      "query: computational complexity, intractability, class-complete reductions,\n",
      "algorithms and efficiency\n",
      "MAP = 0.1724040411055945\n"
     ]
    }
   ],
   "source": [
    "#### Function check\n",
    "qid = queries[20][0]\n",
    "qtext = queries[20][1]\n",
    "print(f'query:{qtext}')\n",
    "results = bm25_search(qtext, 2)\n",
    "mean_ap = average_precision(results, qrels[qid])\n",
    "print(f'MAP = {mean_ap}')\n",
    "####"
   ]
  },
  {
   "cell_type": "markdown",
   "metadata": {
    "deletable": false,
    "editable": false,
    "nbgrader": {
     "cell_type": "markdown",
     "checksum": "36f85f45ef52d9467ba9a717d6d99ff2",
     "grade": false,
     "grade_id": "cell-1da18f0fe6f6d7be",
     "locked": true,
     "schema_version": 3,
     "solution": false,
     "task": false
    }
   },
   "source": [
    "---\n",
    "### 4.5 Expected Reciprocal Rank (13 points)\n",
    "Implement the `err` metric:"
   ]
  },
  {
   "cell_type": "code",
   "execution_count": 66,
   "metadata": {
    "deletable": false,
    "nbgrader": {
     "cell_type": "code",
     "checksum": "9ac94db728e23ea1f5dc0d509473c6fb",
     "grade": false,
     "grade_id": "cell-64262889f9b267ea",
     "locked": false,
     "schema_version": 3,
     "solution": true,
     "task": false
    }
   },
   "outputs": [],
   "source": [
    "# TODO: Implement this! (12 points)\n",
    "def err(results, relevant_docs):\n",
    "    \"\"\"\n",
    "    Compute the expected reciprocal rank.\n",
    "    Hint: https://dl.acm.org/doi/pdf/10.1145/1645953.1646033?download=true\n",
    "    Input:\n",
    "        results: A sorted list of 2-tuples (document_id, score), with the most\n",
    "            relevant document in the first position\n",
    "        relevant_docs: A set of relevant documents.\n",
    "    Output: ERR (float)\n",
    "\n",
    "    \"\"\"\n",
    "    # YOUR CODE HERE\n",
    "    exp_rec_rank = 0\n",
    "    p = 1\n",
    "    for rank, (doc_id, score) in enumerate(results, 1):\n",
    "        grade = 1 if doc_id in relevant_docs else 0\n",
    "        relevance_prob = (2**grade - 1) / 2\n",
    "        exp_rec_rank += p * (relevance_prob / rank)\n",
    "        p *= 1 - relevance_prob\n",
    "    return exp_rec_rank"
   ]
  },
  {
   "cell_type": "code",
   "execution_count": 67,
   "metadata": {
    "deletable": false,
    "editable": false,
    "nbgrader": {
     "cell_type": "code",
     "checksum": "b7d201de0990b69d5f38704668665d87",
     "grade": true,
     "grade_id": "cell-071e3970ff1afae4",
     "locked": true,
     "points": 13,
     "schema_version": 3,
     "solution": false,
     "task": false
    }
   },
   "outputs": [
    {
     "name": "stdout",
     "output_type": "stream",
     "text": [
      "query: I'd like to find articles describing the use of singular value decomposition\n",
      "in digital image processing.  Applications include finding approximations\n",
      "to the original image and restoring images that are subject to noise. An\n",
      "article on the subject is H.C. Andrews and C.L. Patterson \"Outer product\n",
      "expansions and their uses in digital image processing\", American Mathematical\n",
      "Monthly, vol. 82.\n",
      "ERR = 0.625\n"
     ]
    }
   ],
   "source": [
    "#### Function check\n",
    "qid = queries[30][0]\n",
    "qtext = queries[30][1]\n",
    "print(f'query:{qtext}')\n",
    "results = bm25_search(qtext, 2)\n",
    "ERR = err(results, qrels[qid])\n",
    "print(f'ERR = {ERR}')\n",
    "####"
   ]
  },
  {
   "cell_type": "markdown",
   "metadata": {
    "deletable": false,
    "editable": false,
    "nbgrader": {
     "cell_type": "markdown",
     "checksum": "5bd94caf77cfa5f34675df758d91002d",
     "grade": false,
     "grade_id": "cell-43709a765f353946",
     "locked": true,
     "schema_version": 3,
     "solution": false,
     "task": false
    }
   },
   "source": [
    "---\n",
    "### 4.6 Evaluate Search Functions\n",
    "\n",
    "Let's define some metrics@k using [partial functions](https://docs.python.org/3/library/functools.html#functools.partial)"
   ]
  },
  {
   "cell_type": "code",
   "execution_count": 68,
   "metadata": {
    "deletable": false,
    "editable": false,
    "nbgrader": {
     "cell_type": "code",
     "checksum": "49ccc158e5fb7340ace55e90eeb9d62a",
     "grade": false,
     "grade_id": "cell-dab560e18e340da8",
     "locked": true,
     "schema_version": 3,
     "solution": false,
     "task": false
    }
   },
   "outputs": [],
   "source": [
    "#### metrics@k functions\n",
    "\n",
    "recall_at_1 = partial(recall_k, k=1)\n",
    "recall_at_5 = partial(recall_k, k=5)\n",
    "recall_at_10 = partial(recall_k, k=10)\n",
    "precision_at_1 = partial(precision_k, k=1)\n",
    "precision_at_5 = partial(precision_k, k=5)\n",
    "precision_at_10 = partial(precision_k, k=10)\n",
    "\n",
    "\n",
    "list_of_metrics = [\n",
    "    (\"ERR\", err),\n",
    "    (\"MAP\", average_precision),\n",
    "    (\"Recall@1\",recall_at_1),\n",
    "    (\"Recall@5\", recall_at_5),\n",
    "    (\"Recall@10\", recall_at_10),\n",
    "    (\"Precision@1\", precision_at_1),\n",
    "    (\"Precision@5\", precision_at_5),\n",
    "    (\"Precision@10\", precision_at_10)]\n",
    "####"
   ]
  },
  {
   "cell_type": "markdown",
   "metadata": {
    "deletable": false,
    "editable": false,
    "nbgrader": {
     "cell_type": "markdown",
     "checksum": "fb541002c03221b453b8936290020ea5",
     "grade": false,
     "grade_id": "cell-580a2bdc66d03b47",
     "locked": true,
     "schema_version": 3,
     "solution": false,
     "task": false
    }
   },
   "source": [
    "---\n",
    "\n",
    "The following function evaluates a `search_fn` using the `metric_fn`. Note that the final number is averaged over all the queries"
   ]
  },
  {
   "cell_type": "code",
   "execution_count": 69,
   "metadata": {},
   "outputs": [],
   "source": [
    "#### Evaluate a search function\n",
    "\n",
    "list_of_search_fns = [\n",
    "    (\"BOW\", bow_search),\n",
    "    (\"TF-IDF\", tfidf_search),\n",
    "    (\"NaiveQL\", naive_ql_search),\n",
    "    (\"QL\", ql_search),\n",
    "    (\"BM25\", bm25_search)\n",
    "]\n",
    "\n",
    "def evaluate_search_fn(search_fn, metric_fns, index_set=None):\n",
    "    # build a dict query_id -> query \n",
    "    queries_by_id = dict((q[0], q[1]) for q in queries)\n",
    "    \n",
    "    metrics = {}\n",
    "    for metric, metric_fn in metric_fns:\n",
    "        metrics[metric] = np.zeros(len(qrels), dtype=np.float32)\n",
    "    \n",
    "    for i, (query_id, relevant_docs) in enumerate(qrels.items()):\n",
    "        query = queries_by_id[query_id]\n",
    "        if index_set:\n",
    "            results = search_fn(query, index_set)\n",
    "        else:\n",
    "            results = search_fn(query)\n",
    "        \n",
    "        for metric, metric_fn in metric_fns:\n",
    "            metrics[metric][i] = metric_fn(results, relevant_docs)\n",
    "\n",
    "    \n",
    "    \n",
    "    final_dict = {}\n",
    "    for metric, metric_vals in metrics.items():\n",
    "        final_dict[metric] = metric_vals.mean()\n",
    "    \n",
    "    return final_dict\n",
    "####"
   ]
  },
  {
   "cell_type": "markdown",
   "metadata": {
    "deletable": false,
    "editable": false,
    "nbgrader": {
     "cell_type": "markdown",
     "checksum": "6ea67534f74a8f81e1f504794f641709",
     "grade": false,
     "grade_id": "cell-b156d83a0649cbb4",
     "locked": true,
     "schema_version": 3,
     "solution": false,
     "task": false
    }
   },
   "source": [
    "## Section 5: Analysis (30 points) <a class=\"anchor\" id=\"analysis\"></a>\n",
    "\n",
    "[Back to Part 1](#part1)\n",
    "\n",
    "In the final section of Part1, we will compare the different term-based IR algorithms and different preprocessing configurations and analyze their advantages and disadvantages.\n",
    "\n",
    "### Section 5.1: Plot (20 points)\n",
    "\n",
    "First, gather the results. The results should consider the index set, the different search functions and different metrics. Plot the results in bar charts, per metric, with clear labels.\n",
    "\n",
    "**Rubric:**\n",
    "- Each Metric is plotted: 7 points\n",
    "- Each Method is plotted: 7 points\n",
    "- Clear titles, x label, y labels and legends (if applicable): 6 points"
   ]
  },
  {
   "cell_type": "code",
   "execution_count": 70,
   "metadata": {
    "deletable": false,
    "nbgrader": {
     "cell_type": "code",
     "checksum": "7e2588a925d13ddf588abe8311dc9cfc",
     "grade": true,
     "grade_id": "cell-46fda42a25863a04",
     "locked": false,
     "points": 20,
     "schema_version": 3,
     "solution": true,
     "task": false
    }
   },
   "outputs": [
    {
     "name": "stdout",
     "output_type": "stream",
     "text": [
      "\n",
      "index set 1:\n",
      "\tBOW\n",
      "{'ERR': 0.055224963,\n",
      " 'MAP': 0.031061875,\n",
      " 'Precision@1': 0.03846154,\n",
      " 'Precision@10': 0.028846154,\n",
      " 'Precision@5': 0.034615386,\n",
      " 'Recall@1': 0.0030982906,\n",
      " 'Recall@10': 0.046087656,\n",
      " 'Recall@5': 0.037126765}\n",
      "\tTF-IDF\n",
      "{'ERR': 0.30517504,\n",
      " 'MAP': 0.17810398,\n",
      " 'Precision@1': 0.3846154,\n",
      " 'Precision@10': 0.17500001,\n",
      " 'Precision@5': 0.21153846,\n",
      " 'Recall@1': 0.07476607,\n",
      " 'Recall@10': 0.22000195,\n",
      " 'Recall@5': 0.1473746}\n",
      "\tNaiveQL\n",
      "{'ERR': 0.02187399,\n",
      " 'MAP': 0.007967688,\n",
      " 'Precision@1': 0.03846154,\n",
      " 'Precision@10': 0.0076923077,\n",
      " 'Precision@5': 0.015384615,\n",
      " 'Recall@1': 0.0037774725,\n",
      " 'Recall@10': 0.008585164,\n",
      " 'Recall@5': 0.008585164}\n",
      "\tQL\n",
      "{'ERR': 0.30951288,\n",
      " 'MAP': 0.16616207,\n",
      " 'Precision@1': 0.34615386,\n",
      " 'Precision@10': 0.19423078,\n",
      " 'Precision@5': 0.25384614,\n",
      " 'Recall@1': 0.046651527,\n",
      " 'Recall@10': 0.21684042,\n",
      " 'Recall@5': 0.17031717}\n",
      "\tBM25\n",
      "{'ERR': 0.37286478,\n",
      " 'MAP': 0.22088145,\n",
      " 'Precision@1': 0.44230768,\n",
      " 'Precision@10': 0.24038464,\n",
      " 'Precision@5': 0.2846154,\n",
      " 'Recall@1': 0.066907376,\n",
      " 'Recall@10': 0.30646548,\n",
      " 'Recall@5': 0.20312355}\n",
      "\n",
      "index set 2:\n",
      "\tBOW\n",
      "{'ERR': 0.11996831,\n",
      " 'MAP': 0.06623642,\n",
      " 'Precision@1': 0.07692308,\n",
      " 'Precision@10': 0.07307692,\n",
      " 'Precision@5': 0.080769226,\n",
      " 'Recall@1': 0.010193701,\n",
      " 'Recall@10': 0.08793031,\n",
      " 'Recall@5': 0.048788056}\n",
      "\tTF-IDF\n",
      "{'ERR': 0.4148428,\n",
      " 'MAP': 0.25480694,\n",
      " 'Precision@1': 0.53846157,\n",
      " 'Precision@10': 0.25,\n",
      " 'Precision@5': 0.33846155,\n",
      " 'Recall@1': 0.10014636,\n",
      " 'Recall@10': 0.29629084,\n",
      " 'Recall@5': 0.23532662}\n",
      "\tNaiveQL\n",
      "{'ERR': 0.06400872,\n",
      " 'MAP': 0.019428182,\n",
      " 'Precision@1': 0.115384616,\n",
      " 'Precision@10': 0.025000002,\n",
      " 'Precision@5': 0.042307694,\n",
      " 'Recall@1': 0.009656762,\n",
      " 'Recall@10': 0.022477273,\n",
      " 'Recall@5': 0.01766958}\n",
      "\tQL\n",
      "{'ERR': 0.40624025,\n",
      " 'MAP': 0.24890317,\n",
      " 'Precision@1': 0.5192308,\n",
      " 'Precision@10': 0.29807693,\n",
      " 'Precision@5': 0.3692308,\n",
      " 'Recall@1': 0.07068591,\n",
      " 'Recall@10': 0.3002048,\n",
      " 'Recall@5': 0.21136688}\n",
      "\tBM25\n",
      "{'ERR': 0.426171,\n",
      " 'MAP': 0.3003765,\n",
      " 'Precision@1': 0.5192308,\n",
      " 'Precision@10': 0.31923077,\n",
      " 'Precision@5': 0.40384614,\n",
      " 'Recall@1': 0.110182874,\n",
      " 'Recall@10': 0.34614927,\n",
      " 'Recall@5': 0.25962994}\n"
     ]
    },
    {
     "data": {
      "image/png": "[encoded data removed]",
      "text/plain": [
       "<Figure size 1008x504 with 8 Axes>"
      ]
     },
     "metadata": {
      "needs_background": "light"
     },
     "output_type": "display_data"
    }
   ],
   "source": [
    "from pprint import pprint\n",
    "# YOUR CODE HERE\n",
    "# takes roughly 30 secs to run\n",
    "fig, axes = plt.subplots(2, 4, figsize=(14, 7), sharey=False)\n",
    "axes = axes.flatten()\n",
    "\n",
    "# need this to make side by side bars\n",
    "N = len(list_of_search_fns)\n",
    "method_loc = np.arange(N)\n",
    "bar_width = 0.25\n",
    "\n",
    "for j, (index_set) in enumerate([1, 2]):\n",
    "    print(f\"\\nindex set {index_set}:\")\n",
    "    results = {}\n",
    "\n",
    "    for search_alg, search_fn in list_of_search_fns:\n",
    "        results[search_alg] = evaluate_search_fn(\n",
    "            search_fn, list_of_metrics, index_set=index_set\n",
    "        )\n",
    "        print(f\"\\t{search_alg}\")\n",
    "        pprint(results[search_alg])\n",
    "\n",
    "    for i, (metric_name, _metric_fn) in enumerate(list_of_metrics):\n",
    "        metric_results = {k: v[metric_name] for k, v in results.items()}\n",
    "        labels = list(metric_results.keys())\n",
    "        values = [metric_results[label] for label in labels]\n",
    "\n",
    "        axes[i].grid(True, which=\"major\", axis=\"y\", alpha=0.35)\n",
    "        if i % 4 == 0:\n",
    "            axes[i].set_ylabel(\"Average Metric Value\")\n",
    "        if j == 0:\n",
    "            axes[i].bar(method_loc, values, bar_width, label=f\"index set {index_set}\")\n",
    "        else:\n",
    "            axes[i].bar(\n",
    "                method_loc + bar_width,\n",
    "                values,\n",
    "                bar_width,\n",
    "                label=f\"index set {index_set}\",\n",
    "            )\n",
    "            axes[i].set_xticks(method_loc + bar_width / 2)\n",
    "            axes[i].set_xticklabels(labels)\n",
    "            axes[i].set_title(metric_name)\n",
    "            if i == 7:\n",
    "                axes[i].legend()\n",
    "\n",
    "fig.suptitle(\"Comparison of different term-based IR algorithms across various Metrics\")\n",
    "fig.tight_layout(rect=[0, 0.03, 1, 0.95])\n",
    "plt.show()"
   ]
  },
  {
   "cell_type": "markdown",
   "metadata": {
    "deletable": false,
    "editable": false,
    "nbgrader": {
     "cell_type": "markdown",
     "checksum": "e88c444a0acf4e398c65e289169b75f7",
     "grade": false,
     "grade_id": "cell-8aabe3bcf265deb0",
     "locked": true,
     "points": 10,
     "schema_version": 3,
     "solution": false,
     "task": true
    }
   },
   "source": [
    "---\n",
    "### Section 5.2: Summary (10 points)\n",
    "Write a summary of what you observe in the results.\n",
    "Your summary should compare results across the 2 indices and the methods being used. State what you expected to see in the results, followed by either supporting evidence *or* justify why the results did not support your expectations.      "
   ]
  },
  {
   "cell_type": "markdown",
   "metadata": {},
   "source": [
    "Regardless of the algorithm used results are universally better across all the metrics when using preprocessing - in particular stemming and stop-word removal. This is in line with expectations based on a large body of existing literature in the field of Information retrieval. A likely explanation for the better performance is that stemming collapses index size which increases the likelihood that a query term will be found in a document. Similarly stop word-removal allows models to focus on more relevant words and could be seen as a way of denoising the documents and queries in order to improve performance.\n",
    "\n",
    "In terms of performace it appears that both vector space and lexical models share similar performance across metrics so the choice of what model to use would be largely task dependent and determined by which metric we want to optimise for. For example TF-IDF has better Precision@1 compared to QL which makes it more suitable for tasks such as question answering where a user is looking for a specific highly relevant document but does not care about retrieving the entire body of relevant information. QL on the otherhand outperforms TF-IDF in Precision@5 and Precision@10 which would make it a more suitable choice for example for displaying the first page of results of a search engine.\n",
    "\n",
    "It is worth pointing out that the naive implementations of both vector space and lexical models - BOW and NaiveQL have very poor performance. In the case of BOW that is somewhat surprising because intuitively it seems reasonable to assume that counting the occurence of each query token in the target documents should provide some basic indication of relevance. We demonstrate empirically, however, that token count alone is a very poor prediction of a document's relevance to a query. The poor performance of NaiveQL on the other hand is not surprising given a common problem that naive language models suffer from - namely that unseen words result in zero probability causing the entire product of probabilities to be zero. This is a pervasive problem in NLP due to the sparsity of natural lanugage. For both vector space and lexical models are significantly improved by TF-IDF and QL respectively.\n",
    "\n",
    "Finally, we see that the empirically derived approach of BM25 is almost universally better than any of the other models with the notable exception of Precision@1 where TF-IDF is marginally better."
   ]
  },
  {
   "cell_type": "markdown",
   "metadata": {
    "deletable": false,
    "editable": false,
    "nbgrader": {
     "cell_type": "markdown",
     "checksum": "b3eb77be74eecca205fc7b47316d1627",
     "grade": false,
     "grade_id": "cell-bb60dd5c092d0f2e",
     "locked": true,
     "schema_version": 3,
     "solution": false,
     "task": false
    }
   },
   "source": [
    "---\n",
    "---\n",
    "# Part 2: Semantic-based Matching (85 points) <a class=\"anchor\" id=\"part2\"></a>\n",
    "\n",
    "[Back to top](#top)\n",
    "\n",
    "We will now experiment with methods that go beyond lexical methods like TF-IDF, which operate at the word level and are high dimensional and sparse, and look at methods which constructs low dimensional dense representations of queries and documents. \n",
    "\n",
    "Since these low-dimensional methods have a higher time complexity, they are typically used in conjunction with methods like BM-25. That is, instead of searching through potentially million documents to find matches using low dimensional vectors, a list of K documents are retrieved using BM25, and then **re-ranked** using the other method. This is the method that is going to be applied in the following exercises. \n",
    "\n",
    "LSI/LDA takes documents that are similar on a semantic level - for instance, if they are describing the same topic - and projects them into nearby vectors, despite having low lexical overlap.\n",
    "\n",
    "In this assignment, you will use `gensim` to create LSI/LDA models and use them in re-ranking. \n",
    "\n",
    "**Note**: The following exercises only uses `doc_repr_2` and `config_2`\n",
    "\n",
    "Table of contents:\n",
    "- [Section 6: LSI](#lsi) (15 points)\n",
    "- [Section 7: LDA](#lda) (10 points)\n",
    "- [Section 8: Word2Vec/Doc2Vec](#2vec) (20 points)\n",
    "- [Section 8: Re-ranking](#reranking) (10 points)\n",
    "- [Section 9: Re-ranking Evaluation](#reranking_eval) (30 points)"
   ]
  },
  {
   "cell_type": "markdown",
   "metadata": {
    "deletable": false,
    "editable": false,
    "nbgrader": {
     "cell_type": "markdown",
     "checksum": "f7c7b2cab82f576ed0acf836ca57171c",
     "grade": false,
     "grade_id": "cell-6b2c81e7a8abd180",
     "locked": true,
     "schema_version": 3,
     "solution": false,
     "task": false
    }
   },
   "source": [
    "---\n",
    "## Section 6: Latent Semantic Indexing (LSI) (15 points) <a class=\"anchor\" id=\"lsi\"></a>\n",
    "\n",
    "[Back to Part 2](#part2)\n",
    "\n",
    "LSI is one of the methods to embed the queries and documents into vectors. It is based on a method similar to Principal Component Analysis (PCA) for obtaining a dense concept matrix out of the sparse term-document matrix.\n",
    "\n",
    "See [wikipedia](https://en.wikipedia.org/wiki/Latent_semantic_analysis), particularly [#Mathematics_of_LSI](https://en.wikipedia.org/wiki/Latent_semantic_analysis#Mathematics_of_LSI)."
   ]
  },
  {
   "cell_type": "code",
   "execution_count": 71,
   "metadata": {
    "deletable": false,
    "editable": false,
    "nbgrader": {
     "cell_type": "code",
     "checksum": "c17ee75319cb517e2bf48ec3d9efc329",
     "grade": false,
     "grade_id": "cell-59913daee47f680d",
     "locked": true,
     "schema_version": 3,
     "solution": false,
     "task": false
    }
   },
   "outputs": [],
   "source": [
    "from gensim.corpora import Dictionary\n",
    "from gensim.models import LdaModel, LsiModel, Word2Vec\n",
    "from gensim.models.doc2vec import Doc2Vec, TaggedDocument\n",
    "from gensim import downloader as g_downloader\n",
    "# gensim uses logging, so set it up \n",
    "import logging\n",
    "logging.basicConfig(format='%(asctime)s : %(levelname)s : %(message)s', level=logging.INFO)"
   ]
  },
  {
   "cell_type": "markdown",
   "metadata": {
    "deletable": false,
    "editable": false,
    "nbgrader": {
     "cell_type": "markdown",
     "checksum": "5fce140c546759b54a9fc060901ae77c",
     "grade": false,
     "grade_id": "cell-3644faff4976598a",
     "locked": true,
     "schema_version": 3,
     "solution": false,
     "task": false
    }
   },
   "source": [
    "---\n",
    "### Section 6.1: Cosine Similarity (5 points)<a class=\"anchor\" id=\"cosing_sim\"></a>\n",
    "Before we begin, let us first define our method of similarity for the LSI model, the cosine similarity:\n",
    "\n",
    "$$\\text{similarity} = \\cos(\\theta) = {\\mathbf{A} \\cdot \\mathbf{B} \\over \\|\\mathbf{A}\\| \\|\\mathbf{B}\\|} = \\frac{ \\sum\\limits_{i=1}^{n}{A_i  B_i} }{ \\sqrt{\\sum\\limits_{i=1}^{n}{A_i^2}}  \\sqrt{\\sum\\limits_{i=1}^{n}{B_i^2}} }$$\n",
    "\n",
    "Since we are using gensim, the types of vectors returned by their classes are of the form defined below (they are not just simple vectors):"
   ]
  },
  {
   "cell_type": "code",
   "execution_count": 72,
   "metadata": {
    "deletable": false,
    "editable": false,
    "nbgrader": {
     "cell_type": "code",
     "checksum": "4e340e1a1d546f430c018fd0760e707a",
     "grade": false,
     "grade_id": "cell-3995a50f951314d5",
     "locked": true,
     "schema_version": 3,
     "solution": false,
     "task": false
    }
   },
   "outputs": [],
   "source": [
    "# 1, 2, 3 are either latent dimensions (LSI), or topics (LDA)\n",
    "# The second value in each tuple is a number (LSI) or a probability (LDA)  \n",
    "example_vec_1 = [(1, 0.2), (2, 0.3), (3, 0.4)]\n",
    "example_vec_2 = [(1, 0.2), (2, 0.7), (3, 0.4)]"
   ]
  },
  {
   "cell_type": "markdown",
   "metadata": {
    "deletable": false,
    "editable": false,
    "nbgrader": {
     "cell_type": "markdown",
     "checksum": "20832fd4f579f49ae204b0efee02edd1",
     "grade": false,
     "grade_id": "cell-5e54d581858dc8f7",
     "locked": true,
     "schema_version": 3,
     "solution": false,
     "task": false
    }
   },
   "source": [
    "---\n",
    "**Implementation (2+3 points):**\n",
    "Now, implement the `dot product` operation on these types of vectors and using this operator, implement the `cosine similarity` (don't forget: two functions to implement!):"
   ]
  },
  {
   "cell_type": "code",
   "execution_count": 73,
   "metadata": {
    "deletable": false,
    "nbgrader": {
     "cell_type": "code",
     "checksum": "06a712ee75fc213a21c5f0067fd8fe28",
     "grade": false,
     "grade_id": "cell-0e8189f5f93de33f",
     "locked": false,
     "schema_version": 3,
     "solution": true,
     "task": false
    }
   },
   "outputs": [],
   "source": [
    "# TODO: Implement this! (2 points)\n",
    "def dot(vec_1, vec_2):\n",
    "    \"\"\"\n",
    "    vec_1 and vec_2 are of the form: [(int, float), (int, float), ...]\n",
    "    Return the dot product of two such vectors, computed only on the floats\n",
    "    You can assume that the lengths of the vectors are the same, and the dimensions are aligned\n",
    "        i.e you won't get: vec_1 = [(1, 0.2)] ; vec_2 = [(2, 0.3)]\n",
    "                            (dimensions are unaligned and lengths are different)\n",
    "    \"\"\"\n",
    "    # YOUR CODE HERE\n",
    "    return np.dot([x[1] for x in vec_1], [y[1] for y in vec_2])\n",
    "\n",
    "\n",
    "# TODO: Implement this! (3 points)\n",
    "def cosine_sim(vec_1, vec_2):\n",
    "\n",
    "    # YOUR CODE HERE\n",
    "    # check for empty or 0-vectored vectors\n",
    "    if all([el == 0 for dim, el in vec_1]) or all([el == 0 for dim, el in vec_2]):\n",
    "        return 0\n",
    "    \n",
    "    # # Adding a custom function to compute the modulus\n",
    "    def mod(\n",
    "        vec,\n",
    "    ):\n",
    "        # Note: This still assumes that the vector is in the form :\n",
    "        # [(int, float), (int, float), ...]\n",
    "        return np.sqrt(sum(x[1] ** 2 for x in vec))\n",
    "    \n",
    "    # actually compute similarity\n",
    "    return dot(vec_1, vec_2) / (mod(vec_1) * mod(vec_2))"
   ]
  },
  {
   "cell_type": "code",
   "execution_count": 74,
   "metadata": {
    "deletable": false,
    "editable": false,
    "nbgrader": {
     "cell_type": "code",
     "checksum": "d22a4a7325ba7815a808390388f534a1",
     "grade": true,
     "grade_id": "cell-b25d04ed6b79fd35",
     "locked": true,
     "points": 2,
     "schema_version": 3,
     "solution": false,
     "task": false
    }
   },
   "outputs": [
    {
     "name": "stdout",
     "output_type": "stream",
     "text": [
      "vectors: ([(1, 0.2), (2, 0.3), (3, 0.4)], [(1, 0.2), (2, 0.7), (3, 0.4)])\n",
      "dot product = 0.41000000000000003\n",
      "cosine similarity = 0.9165587597202866\n"
     ]
    }
   ],
   "source": [
    "##### Function check\n",
    "print(f'vectors: {(example_vec_1,example_vec_2)}')\n",
    "print(f'dot product = {dot(example_vec_1,example_vec_2)}')\n",
    "print(f'cosine similarity = {cosine_sim(example_vec_1,example_vec_2)}')\n",
    "##### "
   ]
  },
  {
   "cell_type": "code",
   "execution_count": 75,
   "metadata": {
    "deletable": false,
    "editable": false,
    "nbgrader": {
     "cell_type": "code",
     "checksum": "0744131724ce76b1b3f163b4bae5f700",
     "grade": true,
     "grade_id": "cell-ae3c4466866ace77",
     "locked": true,
     "points": 3,
     "schema_version": 3,
     "solution": false,
     "task": false
    }
   },
   "outputs": [],
   "source": [
    "#### Please do not change this. This cell is used for grading."
   ]
  },
  {
   "cell_type": "markdown",
   "metadata": {
    "deletable": false,
    "editable": false,
    "nbgrader": {
     "cell_type": "markdown",
     "checksum": "9b123f599f9ea372d14676e23f1c6a52",
     "grade": false,
     "grade_id": "cell-4b2534067c44fcdf",
     "locked": true,
     "schema_version": 3,
     "solution": false,
     "task": false
    }
   },
   "source": [
    "---\n",
    "### Section 6.2: LSI Retrieval (10 points)<a class=\"anchor\" id=\"lsi_retrieval\"></a>\n",
    "LSI retrieval is simply ranking the documents based on their cosine similarity to the query vector.\n",
    "First, let's write a parent class for vector-based retrieval models:"
   ]
  },
  {
   "cell_type": "code",
   "execution_count": 76,
   "metadata": {
    "deletable": false,
    "editable": false,
    "nbgrader": {
     "cell_type": "code",
     "checksum": "ecc111d58182570e2252b8ef5d6b02af",
     "grade": false,
     "grade_id": "cell-937936cea18711ee",
     "locked": true,
     "schema_version": 3,
     "solution": false,
     "task": false
    }
   },
   "outputs": [],
   "source": [
    "class VectorSpaceRetrievalModel:\n",
    "    \"\"\"\n",
    "        Parent class for Dense Vector Retrieval models\n",
    "    \"\"\"\n",
    "    def __init__(self, doc_repr):\n",
    "        \"\"\"\n",
    "            document_collection: \n",
    "                [\n",
    "                    (doc_id_1, [token 1, token 2, ...]), \n",
    "                    (doc_id_2, [token 1, token 2, ....]) \n",
    "                    ...\n",
    "                ]\n",
    "\n",
    "        \"\"\"\n",
    "        self.doc_repr = doc_repr\n",
    "        self.documents = [_[1] for _ in self.doc_repr]\n",
    "        \n",
    "        # construct a dictionary\n",
    "        self.dictionary = Dictionary(self.documents)\n",
    "        # Filter out words that occur less than 20 documents, or more than 50% of the documents.\n",
    "        self.dictionary.filter_extremes(no_below=10)\n",
    "        self.corpus = [self.dictionary.doc2bow(doc) for doc in self.documents]\n",
    "    \n",
    "        # Make a index to word dictionary.\n",
    "        temp = self.dictionary[0]  # This is only to \"load\" the dictionary.\n",
    "        self.id2word = self.dictionary.id2token\n",
    "        \n",
    "        # this is set by the train_model function\n",
    "        self.model = None\n",
    "        \n",
    "        \n",
    "    def vectorize_documents(self):\n",
    "        \"\"\"\n",
    "            Returns a doc_id -> vector dictionary\n",
    "        \"\"\"\n",
    "        vectors = {}\n",
    "        for (doc_id, _), cc in zip(self.doc_repr, self.corpus):\n",
    "            vectors[doc_id] = self.model[cc]\n",
    "        return vectors\n",
    "\n",
    "    def vectorize_query(self, query):\n",
    "        # Note the use of config_2 here!\n",
    "        query = process_text(query, **config_2)\n",
    "        query_vector = self.dictionary.doc2bow(query)\n",
    "        return self.model[query_vector]\n",
    "    \n",
    "    def train_model(self):\n",
    "        \"\"\"\n",
    "            Trains a model and sets the 'self.model' variable. \n",
    "            Make sure to use the variables created in the __init__ method.\n",
    "            e.g the variables which may be useful: {corpus, dictionary, id2word}\n",
    "        \"\"\"\n",
    "        raise NotImplementedError()"
   ]
  },
  {
   "cell_type": "markdown",
   "metadata": {
    "deletable": false,
    "editable": false,
    "nbgrader": {
     "cell_type": "markdown",
     "checksum": "ff161eefd9b81b768cd6361bc1a502b0",
     "grade": false,
     "grade_id": "cell-704a18c2f80cd60c",
     "locked": true,
     "schema_version": 3,
     "solution": false,
     "task": false
    }
   },
   "source": [
    "---\n",
    "**Implementation (5 points):**\n",
    "Implement the `train_model` method in the following class (note that this is only one line of code in `gensim`!). Ensure that the parameters defined in the `__init__` method are not changed, and are *used in the `train_method` function*. Normally, the hyperaparameter space will be searched using grid search / other methods - in this assignment we have provided the hyperparameters for you.\n",
    "\n",
    "The last two lines of code train an LSI model on the list of documents which have been stemmed, lower-cased and have stopwords removed. "
   ]
  },
  {
   "cell_type": "code",
   "execution_count": 77,
   "metadata": {
    "deletable": false,
    "nbgrader": {
     "cell_type": "code",
     "checksum": "0e90eedc27c248bc1ae050518a46a46c",
     "grade": false,
     "grade_id": "cell-307682c9089f15d6",
     "locked": false,
     "schema_version": 3,
     "solution": true,
     "task": false
    }
   },
   "outputs": [],
   "source": [
    "# TODO: Implement this! (5 points)\n",
    "class LsiRetrievalModel(VectorSpaceRetrievalModel):\n",
    "    def __init__(self, doc_repr):\n",
    "        super().__init__(doc_repr)\n",
    "\n",
    "        self.num_topics = 100\n",
    "        self.chunksize = 2000\n",
    "\n",
    "    def train_model(self):\n",
    "        self.model = LsiModel(\n",
    "            corpus=self.corpus,\n",
    "            id2word=self.id2word,\n",
    "            num_topics=self.num_topics,\n",
    "            chunksize=self.chunksize,\n",
    "        )"
   ]
  },
  {
   "cell_type": "code",
   "execution_count": 78,
   "metadata": {
    "deletable": false,
    "editable": false,
    "nbgrader": {
     "cell_type": "code",
     "checksum": "00399cfe13d60cb4beed1271e36004b0",
     "grade": true,
     "grade_id": "cell-5ce512650c1b2dfb",
     "locked": true,
     "points": 0,
     "schema_version": 3,
     "solution": false,
     "task": false
    }
   },
   "outputs": [
    {
     "name": "stderr",
     "output_type": "stream",
     "text": [
      "2022-02-28 16:05:48,605 : INFO : adding document #0 to Dictionary(0 unique tokens: [])\n",
      "2022-02-28 16:05:48,754 : INFO : built Dictionary(5937 unique tokens: ['-', 'algebra', 'intern', 'languag', 'preliminari']...) from 3204 documents (total 115969 corpus positions)\n",
      "2022-02-28 16:05:48,763 : INFO : discarding 4740 tokens: [('repeat', 8), ('glossari', 7), ('inspect', 8), ('uncol', 2), ('rung', 9), ('secant', 2), ('.', 1603), ('acceler', 6), ('diverg', 3), ('induc', 9)]...\n",
      "2022-02-28 16:05:48,764 : INFO : keeping 1197 tokens which were in no less than 10 and no more than 1602 (=50.0%) documents\n",
      "2022-02-28 16:05:48,768 : INFO : resulting dictionary: Dictionary(1197 unique tokens: ['-', 'algebra', 'intern', 'languag', 'preliminari']...)\n",
      "2022-02-28 16:05:48,893 : INFO : using serial LSI version on this node\n",
      "2022-02-28 16:05:48,894 : INFO : updating model with new documents\n",
      "2022-02-28 16:05:48,895 : INFO : preparing a new chunk of documents\n",
      "2022-02-28 16:05:48,914 : INFO : using 100 extra samples and 2 power iterations\n",
      "2022-02-28 16:05:48,916 : INFO : 1st phase: constructing (1197, 200) action matrix\n",
      "2022-02-28 16:05:48,942 : INFO : orthonormalizing (1197, 200) action matrix\n",
      "2022-02-28 16:05:49,026 : INFO : 2nd phase: running dense svd on (200, 2000) matrix\n",
      "2022-02-28 16:05:49,093 : INFO : computing the final decomposition\n",
      "2022-02-28 16:05:49,093 : INFO : keeping 100 factors (discarding 13.437% of energy spectrum)\n",
      "2022-02-28 16:05:49,097 : INFO : processed documents up to #2000\n",
      "2022-02-28 16:05:49,100 : INFO : topic #0(152.127): 0.741*\",\" + 0.342*\"-\" + 0.211*\"system\" + 0.204*\"program\" + 0.192*\"comput\" + 0.146*\"(\" + 0.127*\"languag\" + 0.108*\")\" + 0.084*\"gener\" + 0.083*\"data\"\n",
      "2022-02-28 16:05:49,102 : INFO : topic #1(60.600): -0.607*\"(\" + -0.434*\")\" + -0.366*\"algorithm\" + -0.300*\"-\" + 0.237*\",\" + 0.213*\"system\" + 0.132*\"comput\" + -0.096*\"[\" + 0.093*\"program\" + -0.084*\"])\"\n",
      "2022-02-28 16:05:49,104 : INFO : topic #2(57.438): -0.744*\"-\" + 0.452*\",\" + -0.263*\"system\" + 0.214*\"(\" + 0.166*\")\" + -0.107*\"time\" + -0.105*\"program\" + 0.094*\"algorithm\" + -0.068*\"comput\" + -0.067*\"share\"\n",
      "2022-02-28 16:05:49,106 : INFO : topic #3(48.370): -0.483*\"system\" + -0.375*\"program\" + -0.367*\"comput\" + 0.363*\"-\" + 0.308*\",\" + -0.212*\"(\" + -0.168*\")\" + -0.147*\"algorithm\" + 0.144*\"languag\" + -0.119*\"time\"\n",
      "2022-02-28 16:05:49,109 : INFO : topic #4(45.710): -0.489*\"comput\" + 0.475*\"languag\" + 0.428*\"program\" + -0.238*\"method\" + -0.141*\"problem\" + 0.121*\"system\" + 0.109*\")\" + -0.107*\"equat\" + -0.100*\"algorithm\" + 0.099*\"(\"\n",
      "2022-02-28 16:05:49,110 : INFO : preparing a new chunk of documents\n",
      "2022-02-28 16:05:49,125 : INFO : using 100 extra samples and 2 power iterations\n",
      "2022-02-28 16:05:49,126 : INFO : 1st phase: constructing (1197, 200) action matrix\n",
      "2022-02-28 16:05:49,139 : INFO : orthonormalizing (1197, 200) action matrix\n",
      "2022-02-28 16:05:49,216 : INFO : 2nd phase: running dense svd on (200, 1204) matrix\n",
      "2022-02-28 16:05:49,262 : INFO : computing the final decomposition\n",
      "2022-02-28 16:05:49,263 : INFO : keeping 100 factors (discarding 14.034% of energy spectrum)\n",
      "2022-02-28 16:05:49,266 : INFO : merging projections: (1197, 100) + (1197, 100)\n",
      "2022-02-28 16:05:49,293 : INFO : keeping 100 factors (discarding 8.162% of energy spectrum)\n",
      "2022-02-28 16:05:49,298 : INFO : processed documents up to #3204\n",
      "2022-02-28 16:05:49,299 : INFO : topic #0(225.136): 0.759*\",\" + 0.337*\"-\" + 0.196*\"system\" + 0.186*\"program\" + 0.166*\"comput\" + 0.139*\"(\" + 0.103*\")\" + 0.103*\"algorithm\" + 0.099*\"languag\" + 0.087*\"time\"\n",
      "2022-02-28 16:05:49,301 : INFO : topic #1(87.805): 0.613*\"-\" + -0.399*\",\" + 0.399*\"(\" + 0.326*\"algorithm\" + 0.293*\")\" + -0.129*\"system\" + -0.107*\"program\" + 0.085*\"method\" + 0.077*\"time\" + 0.062*\"1\"\n",
      "2022-02-28 16:05:49,302 : INFO : topic #2(81.909): 0.550*\"-\" + -0.434*\"(\" + 0.355*\"system\" + -0.321*\")\" + -0.291*\",\" + -0.266*\"algorithm\" + 0.146*\"program\" + 0.123*\"comput\" + 0.078*\"time\" + -0.064*\"[\"\n",
      "2022-02-28 16:05:49,304 : INFO : topic #3(72.433): -0.693*\"program\" + 0.339*\",\" + 0.279*\"-\" + -0.251*\"(\" + -0.221*\"system\" + -0.214*\"languag\" + -0.204*\")\" + -0.160*\"comput\" + -0.099*\"data\" + -0.056*\"execut\"\n",
      "2022-02-28 16:05:49,304 : INFO : topic #4(68.523): -0.673*\"system\" + 0.453*\"program\" + 0.254*\"languag\" + 0.212*\"-\" + -0.179*\"comput\" + -0.165*\"(\" + -0.121*\")\" + -0.115*\"model\" + 0.101*\",\" + -0.098*\"algorithm\"\n"
     ]
    },
    {
     "data": {
      "text/plain": [
       "[(0, 0.015213152131490819),\n",
       " (1, -0.016263334427049907),\n",
       " (2, -0.00023517526677166228),\n",
       " (3, -0.0018312346285098775),\n",
       " (4, -0.00944356432050232),\n",
       " (5, -0.004730247317805268),\n",
       " (6, 0.027138042929007424),\n",
       " (7, 0.016834476448062533),\n",
       " (8, -0.03169147436011023),\n",
       " (9, -0.0008346146130768662),\n",
       " (10, 0.0022807101029925277),\n",
       " (11, -0.017626380695962125),\n",
       " (12, -1.739680804376323e-05),\n",
       " (13, 0.0008739208278798535),\n",
       " (14, 0.004141534834922887),\n",
       " (15, 0.0050525349401537),\n",
       " (16, 0.005373768916266684),\n",
       " (17, 0.002087709079587989),\n",
       " (18, -0.018075119564643166),\n",
       " (19, 0.020263459345077783),\n",
       " (20, -0.007803620445623334),\n",
       " (21, -0.01407487920858029),\n",
       " (22, 0.048312756038474514),\n",
       " (23, 0.024706021702256945),\n",
       " (24, -0.009382900677818998),\n",
       " (25, -0.009714460304885202),\n",
       " (26, 0.005618653565323622),\n",
       " (27, 0.07323963216756074),\n",
       " (28, -0.06447995501212274),\n",
       " (29, 0.03135881890206441),\n",
       " (30, 0.04315265478070462),\n",
       " (31, 0.048347211938637974),\n",
       " (32, -0.07093362631875375),\n",
       " (33, 0.05088847462920148),\n",
       " (34, -0.02147471057076937),\n",
       " (35, 0.061792532797959085),\n",
       " (36, 0.045200226940018774),\n",
       " (37, -0.005992151857934125),\n",
       " (38, -0.06112599495557127),\n",
       " (39, 0.024672950995105726),\n",
       " (40, -0.04414146967661947),\n",
       " (41, -0.03164900476091026),\n",
       " (42, 0.019830510066526898),\n",
       " (43, 0.008887669056671606),\n",
       " (44, 0.013283413605440223),\n",
       " (45, 0.059194043812995076),\n",
       " (46, -0.01190278529020754),\n",
       " (47, 0.008202220787404624),\n",
       " (48, 0.013414204287702071),\n",
       " (49, 0.030265547334756174),\n",
       " (50, 0.011168302864345472),\n",
       " (51, 0.05483289172847643),\n",
       " (52, -0.009020754069016429),\n",
       " (53, 0.0035377634581254674),\n",
       " (54, 0.040515193381835624),\n",
       " (55, -0.014176328269144025),\n",
       " (56, 0.015388382117522116),\n",
       " (57, -0.0240964714700263),\n",
       " (58, -0.011787092874705824),\n",
       " (59, 0.05138637508184974),\n",
       " (60, -0.010632559269404603),\n",
       " (61, 0.03721606922884975),\n",
       " (62, -0.023240735962958458),\n",
       " (63, 0.006555521639838684),\n",
       " (64, 0.04838002192347592),\n",
       " (65, 0.06307914055117957),\n",
       " (66, 0.02884159202965039),\n",
       " (67, -0.01124943883119893),\n",
       " (68, -0.05000646640978574),\n",
       " (69, -0.04124417190908696),\n",
       " (70, -0.04392321328451337),\n",
       " (71, -0.010862764839948344),\n",
       " (72, 0.048062114491907185),\n",
       " (73, -0.08481819418269448),\n",
       " (74, -0.03027469307637613),\n",
       " (75, 0.03276546398525495),\n",
       " (76, 0.0165736748005727),\n",
       " (77, 0.011692804006511114),\n",
       " (78, 0.056277998727255904),\n",
       " (79, 0.020444221543750748),\n",
       " (80, -0.030961637438684048),\n",
       " (81, -0.010061647149546207),\n",
       " (82, 0.057475192735211934),\n",
       " (83, -0.024063891259975944),\n",
       " (84, -0.04573734511420979),\n",
       " (85, 0.03547291728793347),\n",
       " (86, -0.023060161353784213),\n",
       " (87, -0.009797000793154424),\n",
       " (88, -0.05555041626668367),\n",
       " (89, 0.053347402076463095),\n",
       " (90, -0.021760969603547665),\n",
       " (91, -0.015035076717370036),\n",
       " (92, -0.07641323458890847),\n",
       " (93, 0.05735477340007541),\n",
       " (94, -0.05142594837972342),\n",
       " (95, -0.004215907135892833),\n",
       " (96, -0.0007183061357815754),\n",
       " (97, 0.013900662056791958),\n",
       " (98, -0.010158929527052761),\n",
       " (99, -0.010013102747707784)]"
      ]
     },
     "execution_count": 78,
     "metadata": {},
     "output_type": "execute_result"
    }
   ],
   "source": [
    "##### Function check\n",
    "lsi = LsiRetrievalModel(doc_repr_2)\n",
    "lsi.train_model()\n",
    "\n",
    "# you can now get an LSI vector for a given query in the following way:\n",
    "lsi.vectorize_query(\"report\")\n",
    "##### "
   ]
  },
  {
   "cell_type": "markdown",
   "metadata": {
    "deletable": false,
    "editable": false,
    "nbgrader": {
     "cell_type": "markdown",
     "checksum": "7116bb9f576c5bb04934e1d59c51d729",
     "grade": false,
     "grade_id": "cell-4c5eeb557b4fca2f",
     "locked": true,
     "points": 5,
     "schema_version": 3,
     "solution": false,
     "task": true
    }
   },
   "source": [
    "\\#### Please do not change this. This cell is used for grading."
   ]
  },
  {
   "cell_type": "markdown",
   "metadata": {
    "deletable": false,
    "editable": false,
    "nbgrader": {
     "cell_type": "markdown",
     "checksum": "26e2ff3c413745e633d99f66c041d6b1",
     "grade": false,
     "grade_id": "cell-c4e50296cd17a555",
     "locked": true,
     "schema_version": 3,
     "solution": false,
     "task": false
    }
   },
   "source": [
    "---\n",
    "**Implementation (5 points):**\n",
    " Next, implement a basic ranking class for vector space retrieval (used for all semantic methods): "
   ]
  },
  {
   "cell_type": "code",
   "execution_count": 79,
   "metadata": {
    "deletable": false,
    "nbgrader": {
     "cell_type": "code",
     "checksum": "1a8389d2f0635c3405e2b0b27ed9f327",
     "grade": false,
     "grade_id": "cell-250515d288e80cdc",
     "locked": false,
     "schema_version": 3,
     "solution": true,
     "task": false
    }
   },
   "outputs": [],
   "source": [
    "# TODO: Implement this! (5 points)\n",
    "class DenseRetrievalRanker:\n",
    "    def __init__(self, vsrm, similarity_fn):\n",
    "        \"\"\"\n",
    "        vsrm: instance of `VectorSpaceRetrievalModel`\n",
    "        similarity_fn: function instance that takes in two vectors\n",
    "                        and returns a similarity score e.g cosine_sim defined earlier\n",
    "        \"\"\"\n",
    "        self.vsrm = vsrm\n",
    "        self.vectorized_documents = self.vsrm.vectorize_documents()\n",
    "        self.similarity_fn = similarity_fn\n",
    "\n",
    "    def _compute_sim(self, query_vector):\n",
    "        \"\"\"\n",
    "        Compute the similarity of `query_vector` to documents in\n",
    "        `self.vectorized_documents` using `self.similarity_fn`\n",
    "        Returns a list of (doc_id, score) tuples\n",
    "        \"\"\"\n",
    "        result = [\n",
    "            (doc_id, self.similarity_fn(query_vector, doc))\n",
    "            for doc_id, doc in self.vectorized_documents.items()\n",
    "        ]\n",
    "        return result\n",
    "\n",
    "    def search(self, query):\n",
    "        scores = self._compute_sim(self.vsrm.vectorize_query(query))\n",
    "        scores.sort(key=lambda _: -_[1])\n",
    "        return scores"
   ]
  },
  {
   "cell_type": "code",
   "execution_count": 80,
   "metadata": {
    "deletable": false,
    "editable": false,
    "nbgrader": {
     "cell_type": "code",
     "checksum": "f237dd1ef6c1783c06797f4b514421f5",
     "grade": true,
     "grade_id": "cell-b73068b3e77a8e31",
     "locked": true,
     "points": 0,
     "schema_version": 3,
     "solution": false,
     "task": false
    }
   },
   "outputs": [
    {
     "data": {
      "text/plain": [
       "[('599', 0.7929801950534754),\n",
       " ('947', 0.589583079071556),\n",
       " ('53', 0.49859815417966324),\n",
       " ('3160', 0.4483595737472605),\n",
       " ('1339', 0.4477671983038703)]"
      ]
     },
     "execution_count": 80,
     "metadata": {},
     "output_type": "execute_result"
    }
   ],
   "source": [
    "##### Function check\n",
    "drm_lsi = DenseRetrievalRanker(lsi, cosine_sim)\n",
    "drm_lsi.search(\"report\")[:5]\n",
    "##### "
   ]
  },
  {
   "cell_type": "markdown",
   "metadata": {
    "deletable": false,
    "editable": false,
    "nbgrader": {
     "cell_type": "markdown",
     "checksum": "5b3f19fdcaa585d263706d5a26038799",
     "grade": false,
     "grade_id": "cell-034c755a6502b868",
     "locked": true,
     "points": 5,
     "schema_version": 3,
     "solution": false,
     "task": true
    }
   },
   "source": [
    "\\#### Please do not change this. This cell is used for grading."
   ]
  },
  {
   "cell_type": "markdown",
   "metadata": {
    "deletable": false,
    "editable": false,
    "nbgrader": {
     "cell_type": "markdown",
     "checksum": "dcafef6e037033c46304b914f7c78bdf",
     "grade": false,
     "grade_id": "cell-d1df23f497d5ed6b",
     "locked": true,
     "schema_version": 3,
     "solution": false,
     "task": false
    }
   },
   "source": [
    "---\n",
    "Now, you can test your LSI model in the following cell: try finding queries which are lexically different to documents, but semantically similar - does LSI work well for these queries?!"
   ]
  },
  {
   "cell_type": "code",
   "execution_count": 81,
   "metadata": {
    "deletable": false,
    "editable": false,
    "nbgrader": {
     "cell_type": "code",
     "checksum": "11734bc7674377b340ad51297a8e8bb5",
     "grade": false,
     "grade_id": "cell-efd1d08dfc04ec3e",
     "locked": true,
     "schema_version": 3,
     "solution": false,
     "task": false
    }
   },
   "outputs": [
    {
     "data": {
      "application/vnd.jupyter.widget-view+json": {
       "model_id": "b24215d4b6964a9a87e8d9cd959bdc11",
       "version_major": 2,
       "version_minor": 0
      },
      "text/plain": [
       "Text(value='', description='Search Bar')"
      ]
     },
     "metadata": {},
     "output_type": "display_data"
    }
   ],
   "source": [
    "# test your LSI model\n",
    "search_fn = drm_lsi.search\n",
    "\n",
    "text = widgets.Text(description=\"Search Bar\", width=200)\n",
    "display(text)\n",
    "\n",
    "def make_results_2(query, search_fn):\n",
    "    results = []\n",
    "    for doc_id, score in search_fn(query):\n",
    "        highlight = highlight_text(docs_by_id[doc_id], query)\n",
    "        if len(highlight.strip()) == 0:\n",
    "            highlight = docs_by_id[doc_id]\n",
    "        results.append(ResultRow(doc_id, highlight, score))\n",
    "    return results\n",
    "\n",
    "def handle_submit_2(sender):\n",
    "    print(f\"Searching for: '{sender.value}' (SEARCH FN: {search_fn})\")\n",
    "    \n",
    "    results = make_results_2(sender.value, search_fn)\n",
    "    \n",
    "    # display only the top 5\n",
    "    results = results[:5]\n",
    "    \n",
    "    body = \"\"\n",
    "    for idx, r in enumerate(results):\n",
    "        body += f\"<li>Document #{r.doc_id}({r.score}): {r.snippet}</li>\"\n",
    "    display(HTML(f\"<ul>{body}</ul>\"))\n",
    "    \n",
    "\n",
    "text.on_submit(handle_submit_2)"
   ]
  },
  {
   "cell_type": "markdown",
   "metadata": {
    "deletable": false,
    "editable": false,
    "nbgrader": {
     "cell_type": "markdown",
     "checksum": "d074ce1ca48384cdda78742741c938be",
     "grade": false,
     "grade_id": "cell-3a86cef264d8f6cf",
     "locked": true,
     "schema_version": 3,
     "solution": false,
     "task": false
    }
   },
   "source": [
    "---\n",
    "## Section 7: Latent Dirichlet Allocation (LDA) (10 points) <a class=\"anchor\" id=\"lda\"></a>\n",
    "\n",
    "[Back to Part 2](#part2)\n",
    "\n",
    "The specifics of LDA is out of the scope of this assignment, but we will use the `gensim` implementation to perform search using LDA over our small document collection. The key thing to remember is that LDA, unlike LSI, outputs a topic **distribution**, not a vector. With that in mind, let's first define a similarity measure.\n"
   ]
  },
  {
   "cell_type": "markdown",
   "metadata": {
    "deletable": false,
    "editable": false,
    "nbgrader": {
     "cell_type": "markdown",
     "checksum": "db01092373b18f0c9dfed1bb17db4ad9",
     "grade": false,
     "grade_id": "cell-6b78ad22c2d60ba7",
     "locked": true,
     "schema_version": 3,
     "solution": false,
     "task": false
    }
   },
   "source": [
    "---\n",
    "### Section 7.1: Jenson-Shannon divergence (5 points) <a class=\"anchor\" id=\"js_sim\"></a>\n",
    "\n",
    "The Jenson-Shannon divergence is a symmetric and finite measure on two probability distributions (unlike the KL, which is neither). For identical distributions, the JSD is equal to 0, and since our code uses 0 as irrelevant and higher scores as relevant, we use `(1 - JSD)` as the score or 'similarity' in our setup\n",
    "\n",
    "**Note**: the JSD is bounded to \\[0,1\\] only if we use log base 2. So please ensure that you're using `np.log2` instead of `np.log`"
   ]
  },
  {
   "cell_type": "code",
   "execution_count": 82,
   "metadata": {
    "deletable": false,
    "nbgrader": {
     "cell_type": "code",
     "checksum": "a579e6cd7a24a3516bc9a84528b392d3",
     "grade": false,
     "grade_id": "cell-d2376a85a4841e98",
     "locked": false,
     "schema_version": 3,
     "solution": true,
     "task": false
    }
   },
   "outputs": [],
   "source": [
    "## TODO: Implement this! (5 points)\n",
    "def jenson_shannon_divergence(vec_1, vec_2, assert_prob=False):\n",
    "    \"\"\"\n",
    "    Computes the Jensen-Shannon divergence between two probability distributions.\n",
    "    NOTE: DO NOT RETURN 1 - JSD here, that is handled by the next function which is already implemented!\n",
    "    The inputs are *gensim* vectors - same as the vectors for the cosine_sim function\n",
    "    assert_prob is a flag that checks if the inputs are proper probability distributions\n",
    "        i.e they sum to 1 and are positive - use this to check your inputs if needed.\n",
    "            (This is optional to implement, but recommended -\n",
    "            you can the default to False to save a few ms off the runtime)\n",
    "    \"\"\"\n",
    "\n",
    "    # --------- Define a custom KL divergence function --------\n",
    "    def KL(a, b):\n",
    "        a = np.asarray(a, dtype=np.float)\n",
    "        b = np.asarray(b, dtype=np.float)\n",
    "\n",
    "        return np.sum(np.where(a != 0, a * np.log2(a / b), 0))\n",
    "\n",
    "    # ---------------------------------------------------------\n",
    "\n",
    "    vec_1_probs = np.array([x[1] for x in vec_1])  # extracting the probabily values\n",
    "    vec_2_probs = np.array([y[1] for y in vec_2])  # extracting the probabily values\n",
    "\n",
    "    # if flag=True, assert that the inputs are proper probability distributions\n",
    "    if assert_prob:\n",
    "        assert np.sum(vec_1_probs) == 1 and all(\n",
    "            vec_1_probs > 0\n",
    "        ), \"Values of vector1 must sum to 1 and be positive\"\n",
    "        assert np.sum(vec_2_probs) == 1 and all(\n",
    "            vec_2_probs > 0\n",
    "        ), \"Values of vector2 must sum to 1 and be positive\"\n",
    "\n",
    "    # If inputs are valid, compute divergence\n",
    "    m = 0.5 * (vec_1_probs + vec_2_probs)\n",
    "    return 0.5 * KL(vec_1_probs, m) + 0.5 * KL(vec_2_probs, m)\n",
    "\n",
    "\n",
    "def jenson_shannon_sim(vec_1, vec_2, assert_prob=False):\n",
    "    return 1 - jenson_shannon_divergence(vec_1, vec_2)"
   ]
  },
  {
   "cell_type": "code",
   "execution_count": 83,
   "metadata": {
    "deletable": false,
    "editable": false,
    "nbgrader": {
     "cell_type": "code",
     "checksum": "ab340aa941c9fb5c89b3fd0a9139e246",
     "grade": true,
     "grade_id": "cell-487c6d2933f38053",
     "locked": true,
     "points": 5,
     "schema_version": 3,
     "solution": false,
     "task": false
    }
   },
   "outputs": [
    {
     "data": {
      "text/plain": [
       "0.9251064410358459"
      ]
     },
     "execution_count": 83,
     "metadata": {},
     "output_type": "execute_result"
    }
   ],
   "source": [
    "##### Function check\n",
    "vec_1 = [(1, 0.3), (2, 0.4), (3, 0.3)]\n",
    "vec_2 = [(1, 0.1), (2, 0.7), (3, 0.2)]\n",
    "jenson_shannon_sim(vec_1, vec_2, assert_prob=True)\n",
    "##### "
   ]
  },
  {
   "cell_type": "markdown",
   "metadata": {
    "deletable": false,
    "editable": false,
    "nbgrader": {
     "cell_type": "markdown",
     "checksum": "0a1583a5f23e3390038331cce67f5d8e",
     "grade": false,
     "grade_id": "cell-4535cc67a50b80fa",
     "locked": true,
     "schema_version": 3,
     "solution": false,
     "task": false
    }
   },
   "source": [
    "---\n",
    "### Section 7.2: LDA retrieval (5 points) <a class=\"anchor\" id=\"lda_ret\"></a>\n",
    "\n",
    "Implement the `train_model` method in the following class (note that this is only one line of code in `gensim`!). Ensure that the parameters defined in the `__init__` method are not changed, and are *used in the `train_method` function*. You do not need to set this. Normally, the hyperaparameter space will be searched using grid search / other methods. Note that training the LDA model might take some time\n",
    "\n",
    "The last two lines of code train an LDA model on the list of documents which have been stemmed, lower-cased and have stopwords removed. "
   ]
  },
  {
   "cell_type": "code",
   "execution_count": 84,
   "metadata": {
    "deletable": false,
    "nbgrader": {
     "cell_type": "code",
     "checksum": "27de8e4fa85536bb396b73bfc51b3f50",
     "grade": false,
     "grade_id": "cell-021a48dff4a8bb91",
     "locked": false,
     "schema_version": 3,
     "solution": true,
     "task": false
    }
   },
   "outputs": [],
   "source": [
    "# TODO: Implement this! (5 points)\n",
    "class LdaRetrievalModel(VectorSpaceRetrievalModel):\n",
    "    def __init__(self, doc_repr):\n",
    "        super().__init__(doc_repr)\n",
    "\n",
    "        # use these parameters in the train_model method\n",
    "        self.num_topics = 100\n",
    "        self.chunksize = 2000\n",
    "        self.passes = 20\n",
    "        self.iterations = 400\n",
    "        self.eval_every = 10\n",
    "        # this is need to get full vectors\n",
    "        self.minimum_probability = 0.0\n",
    "        self.alpha = \"auto\"\n",
    "        self.eta = \"auto\"\n",
    "\n",
    "    def train_model(self):\n",
    "        # YOUR CODE HERE\n",
    "        self.model = LdaModel(\n",
    "            corpus=self.corpus,\n",
    "            id2word=self.id2word,\n",
    "            num_topics=self.num_topics,\n",
    "            chunksize=self.chunksize,\n",
    "            passes=self.passes,\n",
    "            iterations=self.iterations,\n",
    "            eval_every=self.eval_every,\n",
    "            minimum_probability=self.minimum_probability,\n",
    "            alpha=self.alpha,\n",
    "            eta=self.eta,\n",
    "        )"
   ]
  },
  {
   "cell_type": "code",
   "execution_count": 85,
   "metadata": {
    "deletable": false,
    "editable": false,
    "nbgrader": {
     "cell_type": "code",
     "checksum": "be70fcb8098d0b6ce64cd2a10e6a05b7",
     "grade": true,
     "grade_id": "cell-86750b715f0345fd",
     "locked": true,
     "points": 0,
     "schema_version": 3,
     "solution": false,
     "task": false
    }
   },
   "outputs": [
    {
     "name": "stderr",
     "output_type": "stream",
     "text": [
      "2022-02-28 16:05:50,723 : INFO : adding document #0 to Dictionary(0 unique tokens: [])\n",
      "2022-02-28 16:05:50,865 : INFO : built Dictionary(5937 unique tokens: ['-', 'algebra', 'intern', 'languag', 'preliminari']...) from 3204 documents (total 115969 corpus positions)\n",
      "2022-02-28 16:05:50,876 : INFO : discarding 4740 tokens: [('repeat', 8), ('glossari', 7), ('inspect', 8), ('uncol', 2), ('rung', 9), ('secant', 2), ('.', 1603), ('acceler', 6), ('diverg', 3), ('induc', 9)]...\n",
      "2022-02-28 16:05:50,877 : INFO : keeping 1197 tokens which were in no less than 10 and no more than 1602 (=50.0%) documents\n",
      "2022-02-28 16:05:50,883 : INFO : resulting dictionary: Dictionary(1197 unique tokens: ['-', 'algebra', 'intern', 'languag', 'preliminari']...)\n",
      "2022-02-28 16:05:50,968 : INFO : using autotuned alpha, starting with [0.01, 0.01, 0.01, 0.01, 0.01, 0.01, 0.01, 0.01, 0.01, 0.01, 0.01, 0.01, 0.01, 0.01, 0.01, 0.01, 0.01, 0.01, 0.01, 0.01, 0.01, 0.01, 0.01, 0.01, 0.01, 0.01, 0.01, 0.01, 0.01, 0.01, 0.01, 0.01, 0.01, 0.01, 0.01, 0.01, 0.01, 0.01, 0.01, 0.01, 0.01, 0.01, 0.01, 0.01, 0.01, 0.01, 0.01, 0.01, 0.01, 0.01, 0.01, 0.01, 0.01, 0.01, 0.01, 0.01, 0.01, 0.01, 0.01, 0.01, 0.01, 0.01, 0.01, 0.01, 0.01, 0.01, 0.01, 0.01, 0.01, 0.01, 0.01, 0.01, 0.01, 0.01, 0.01, 0.01, 0.01, 0.01, 0.01, 0.01, 0.01, 0.01, 0.01, 0.01, 0.01, 0.01, 0.01, 0.01, 0.01, 0.01, 0.01, 0.01, 0.01, 0.01, 0.01, 0.01, 0.01, 0.01, 0.01, 0.01]\n",
      "2022-02-28 16:05:50,969 : INFO : using serial LDA version on this node\n",
      "2022-02-28 16:05:50,982 : INFO : running online (multi-pass) LDA training, 100 topics, 20 passes over the supplied corpus of 3204 documents, updating model once every 2000 documents, evaluating perplexity every 3204 documents, iterating 400x with a convergence threshold of 0.001000\n",
      "2022-02-28 16:05:50,983 : INFO : PROGRESS: pass 0, at document #2000/3204\n",
      "2022-02-28 16:05:52,461 : INFO : optimized alpha [0.009797925, 0.009876119, 0.0097774435, 0.00979281, 0.009879737, 0.009787542, 0.00976181, 0.009818634, 0.009792718, 0.009818945, 0.0097823255, 0.009787389, 0.009808725, 0.009860283, 0.00977735, 0.009798168, 0.009840305, 0.009787722, 0.009885615, 0.00979842, 0.0098139625, 0.009869788, 0.009802517, 0.009839257, 0.009928008, 0.00983407, 0.009782339, 0.009803221, 0.009845103, 0.00979271, 0.009798067, 0.009855357, 0.009824192, 0.009797926, 0.009792682, 0.009844176, 0.009818777, 0.009813665, 0.009859735, 0.009992581, 0.00981854, 0.009767022, 0.00977724, 0.009792646, 0.00977229, 0.009798281, 0.009787395, 0.009777422, 0.009772337, 0.009787714, 0.009787697, 0.0098084, 0.009808027, 0.009834496, 0.009844906, 0.009865719, 0.009782454, 0.009808382, 0.010053295, 0.009829476, 0.009917902, 0.009756689, 0.009787587, 0.009808204, 0.009875716, 0.0098914, 0.009798073, 0.009817156, 0.009828429, 0.009886524, 0.009854737, 0.009792924, 0.00976187, 0.00980739, 0.010006962, 0.0098606, 0.009892378, 0.009803161, 0.009854846, 0.009854068, 0.009824063, 0.009839271, 0.009870258, 0.009777395, 0.010072224, 0.009777397, 0.0097670425, 0.009964957, 0.009792736, 0.009792871, 0.009823687, 0.00986569, 0.009839235, 0.0098188855, 0.00986952, 0.009850329, 0.009787706, 0.009787812, 0.009865123, 0.009864729]\n",
      "2022-02-28 16:05:52,466 : INFO : merging changes from 2000 documents into a model of 3204 documents\n",
      "2022-02-28 16:05:52,473 : INFO : topic #6 (0.010): 0.139*\"call\" + 0.070*\"test\" + 0.070*\"algol\" + 0.070*\"understand\" + 0.070*\"60\" + 0.070*\"differ\" + 0.000*\"polygon\" + 0.000*\"stage\" + 0.000*\"adapt\" + 0.000*\"simpson\"\n",
      "2022-02-28 16:05:52,474 : INFO : topic #85 (0.010): 0.061*\"comput\" + 0.061*\",\" + 0.037*\"-\" + 0.024*\"numer\" + 0.024*\"process\" + 0.024*\"formul\" + 0.018*\"techniqu\" + 0.018*\"problem\" + 0.018*\"system\" + 0.018*\"motion\"\n",
      "2022-02-28 16:05:52,475 : INFO : topic #87 (0.010): 0.046*\",\" + 0.043*\"program\" + 0.040*\"-\" + 0.035*\"comput\" + 0.017*\"\"\" + 0.017*\"languag\" + 0.012*\"time\" + 0.012*\"(\" + 0.011*\"present\" + 0.010*\"assembl\"\n",
      "2022-02-28 16:05:52,476 : INFO : topic #84 (0.010): 0.066*\",\" + 0.035*\"-\" + 0.025*\"(\" + 0.023*\"algorithm\" + 0.018*\"comput\" + 0.013*\")\" + 0.012*\"search\" + 0.012*\"'\" + 0.011*\"system\" + 0.010*\"[\"\n",
      "2022-02-28 16:05:52,477 : INFO : topic #58 (0.010): 0.066*\",\" + 0.038*\"-\" + 0.035*\"system\" + 0.026*\"program\" + 0.023*\"comput\" + 0.012*\"languag\" + 0.011*\"(\" + 0.010*\"oper\" + 0.009*\")\" + 0.009*\"gener\"\n",
      "2022-02-28 16:05:52,478 : INFO : topic diff=83.120445, rho=1.000000\n",
      "2022-02-28 16:05:53,710 : INFO : -7.280 per-word bound, 155.4 perplexity estimate based on a held-out corpus of 1204 documents with 49783 words\n",
      "2022-02-28 16:05:53,711 : INFO : PROGRESS: pass 0, at document #3204/3204\n",
      "2022-02-28 16:05:54,700 : INFO : optimized alpha [0.010067726, 0.010335319, 0.009935833, 0.009897674, 0.009878387, 0.00978653, 0.009626982, 0.010124835, 0.009874264, 0.009872381, 0.009683062, 0.009734495, 0.009974124, 0.0100504765, 0.009614, 0.009909839, 0.010133465, 0.009858544, 0.009878412, 0.010085735, 0.010075472, 0.0100944005, 0.009990121, 0.009968568, 0.010274256, 0.009827313, 0.009659694, 0.009937153, 0.010207147, 0.009826458, 0.010123643, 0.009884562, 0.009918912, 0.009978988, 0.009722587, 0.009873391, 0.009883047, 0.009978159, 0.009775489, 0.010139264, 0.009807324, 0.009969662, 0.009723736, 0.009657737, 0.00991231, 0.00998078, 0.009796925, 0.009813021, 0.009970794, 0.009882254, 0.009834348, 0.009914651, 0.009789154, 0.009852087, 0.010171716, 0.010061837, 0.009863616, 0.010042763, 0.010483283, 0.010138276, 0.01030064, 0.009495458, 0.009840009, 0.009866498, 0.010023073, 0.010134694, 0.010144363, 0.01019929, 0.009826492, 0.009921393, 0.009936661, 0.009881785, 0.009806768, 0.009895066, 0.010442417, 0.01007489, 0.010244702, 0.010102362, 0.009949317, 0.010131009, 0.010088637, 0.010057034, 0.009993882, 0.009829989, 0.010427517, 0.009842397, 0.009813998, 0.010366817, 0.009927167, 0.009915851, 0.009952456, 0.01000233, 0.009992101, 0.009942505, 0.009991614, 0.010041352, 0.009945691, 0.00995224, 0.009894502, 0.009840229]\n",
      "2022-02-28 16:05:54,706 : INFO : merging changes from 1204 documents into a model of 3204 documents\n",
      "2022-02-28 16:05:54,712 : INFO : topic #61 (0.009): 0.001*\"implic\" + 0.001*\"favor\" + 0.001*\"adapt\" + 0.001*\"polygon\" + 0.001*\"stage\" + 0.001*\"situat\" + 0.001*\"respons\" + 0.001*\"industri\" + 0.001*\"regress\" + 0.001*\"drive\"\n",
      "2022-02-28 16:05:54,713 : INFO : topic #14 (0.010): 0.090*\"convert\" + 0.065*\"translat\" + 0.061*\"constraint\" + 0.061*\",\" + 0.048*\"fortran\" + 0.032*\"intern\" + 0.032*\"program\" + 0.031*\"comput\" + 0.030*\"object\" + 0.028*\"languag\"\n",
      "2022-02-28 16:05:54,714 : INFO : topic #58 (0.010): 0.073*\",\" + 0.043*\"system\" + 0.031*\"-\" + 0.026*\"program\" + 0.020*\"comput\" + 0.012*\"design\" + 0.011*\"/\" + 0.010*\"oper\" + 0.010*\"implement\" + 0.010*\"languag\"\n",
      "2022-02-28 16:05:54,715 : INFO : topic #84 (0.010): 0.076*\",\" + 0.055*\"tree\" + 0.034*\"search\" + 0.033*\"-\" + 0.030*\"algorithm\" + 0.020*\"(\" + 0.016*\"list\" + 0.016*\"node\" + 0.016*\"structur\" + 0.014*\"averag\"\n",
      "2022-02-28 16:05:54,716 : INFO : topic #74 (0.010): 0.083*\",\" + 0.048*\"-\" + 0.027*\"comput\" + 0.026*\"program\" + 0.023*\"languag\" + 0.019*\"system\" + 0.019*\";\" + 0.015*\"data\" + 0.011*\"develop\" + 0.009*\"time\"\n",
      "2022-02-28 16:05:54,717 : INFO : topic diff=0.773002, rho=0.707107\n",
      "2022-02-28 16:05:54,726 : INFO : PROGRESS: pass 1, at document #2000/3204\n",
      "2022-02-28 16:05:55,817 : INFO : optimized alpha [0.010001058, 0.010238903, 0.00991477, 0.009837274, 0.0100360885, 0.009868709, 0.009660532, 0.010087518, 0.009875118, 0.0098030595, 0.01029326, 0.009940755, 0.010049123, 0.009969256, 0.009694623, 0.009903045, 0.010775676, 0.009817674, 0.009808349, 0.010013915, 0.010023818, 0.010003801, 0.010026402, 0.009896814, 0.010226482, 0.009871519, 0.009722826, 0.009862865, 0.010124928, 0.009751826, 0.01011864, 0.009807093, 0.009880262, 0.009903865, 0.009756344, 0.009822055, 0.009957687, 0.009991858, 0.009697407, 0.010055853, 0.009738851, 0.009939423, 0.009813984, 0.009797205, 0.00989142, 0.009895165, 0.009951824, 0.009802019, 0.009945792, 0.009902161, 0.009775501, 0.009849165, 0.009864644, 0.0097670555, 0.010309203, 0.009996684, 0.0098800305, 0.010028096, 0.010466208, 0.0100687, 0.010241601, 0.009347771, 0.009961907, 0.009888541, 0.009942317, 0.010105887, 0.010126878, 0.010127125, 0.009793855, 0.009856402, 0.009862925, 0.0098569235, 0.009799828, 0.009941195, 0.010434739, 0.0100471135, 0.010211566, 0.010051517, 0.009933679, 0.010085659, 0.010032635, 0.009996529, 0.009918927, 0.009771281, 0.010303518, 0.009786173, 0.009828448, 0.010329018, 0.009966704, 0.010032381, 0.009854214, 0.009976346, 0.009887732, 0.0099002365, 0.010054928, 0.009990046, 0.009919302, 0.009885782, 0.009803294, 0.0098030595]\n",
      "2022-02-28 16:05:55,824 : INFO : merging changes from 2000 documents into a model of 3204 documents\n",
      "2022-02-28 16:05:55,830 : INFO : topic #61 (0.009): 0.001*\"implic\" + 0.001*\"favor\" + 0.001*\"adapt\" + 0.001*\"polygon\" + 0.001*\"stage\" + 0.001*\"situat\" + 0.001*\"respons\" + 0.001*\"industri\" + 0.001*\"regress\" + 0.001*\"drive\"\n",
      "2022-02-28 16:05:55,831 : INFO : topic #6 (0.010): 0.235*\"differ\" + 0.196*\"call\" + 0.192*\"test\" + 0.128*\"understand\" + 0.118*\"60\" + 0.035*\"algol\" + 0.000*\"stage\" + 0.000*\"polygon\" + 0.000*\"simpson\" + 0.000*\"adapt\"\n",
      "2022-02-28 16:05:55,833 : INFO : topic #58 (0.010): 0.074*\",\" + 0.048*\"system\" + 0.035*\"-\" + 0.028*\"program\" + 0.021*\"comput\" + 0.012*\"oper\" + 0.011*\"design\" + 0.010*\"languag\" + 0.010*\"user\" + 0.010*\"/\"\n",
      "2022-02-28 16:05:55,835 : INFO : topic #74 (0.010): 0.086*\",\" + 0.052*\"-\" + 0.029*\"comput\" + 0.027*\"program\" + 0.026*\"languag\" + 0.021*\"system\" + 0.018*\";\" + 0.014*\"data\" + 0.012*\"develop\" + 0.010*\"time\"\n",
      "2022-02-28 16:05:55,837 : INFO : topic #16 (0.011): 0.248*\")\" + 0.247*\"(\" + 0.182*\"algorithm\" + 0.019*\"corrigendum\" + 0.019*\"interpol\" + 0.016*\"polynomi\" + 0.016*\"bound\" + 0.013*\"linear\" + 0.013*\"-\" + 0.011*\"zero\"\n",
      "2022-02-28 16:05:55,838 : INFO : topic diff=0.318184, rho=0.526900\n",
      "2022-02-28 16:05:57,174 : INFO : -6.898 per-word bound, 119.3 perplexity estimate based on a held-out corpus of 1204 documents with 49783 words\n",
      "2022-02-28 16:05:57,175 : INFO : PROGRESS: pass 1, at document #3204/3204\n",
      "2022-02-28 16:05:58,375 : INFO : optimized alpha [0.0102434335, 0.010559792, 0.010077612, 0.010007666, 0.010142184, 0.009972539, 0.009747136, 0.010394644, 0.009989387, 0.00983576, 0.010379333, 0.0099881, 0.010203027, 0.010089435, 0.009714154, 0.010030832, 0.011457073, 0.009919336, 0.00980552, 0.010237944, 0.010247686, 0.0102562085, 0.010268649, 0.010003222, 0.0104002915, 0.009967797, 0.00974681, 0.009976461, 0.01029399, 0.009864904, 0.010533582, 0.009796071, 0.010021572, 0.010158045, 0.009901797, 0.009880432, 0.010115136, 0.010208476, 0.009683137, 0.01016116, 0.009750853, 0.010223458, 0.010017801, 0.009806381, 0.010070799, 0.010009779, 0.010149568, 0.009917053, 0.010125215, 0.0101318145, 0.00984228, 0.009976951, 0.009894537, 0.009795841, 0.010569843, 0.010045251, 0.010123766, 0.010230392, 0.010632085, 0.01039577, 0.0104391705, 0.009170684, 0.010132474, 0.010054909, 0.010066377, 0.010306464, 0.010419058, 0.01039781, 0.009842151, 0.00989316, 0.009969033, 0.010003131, 0.0099548455, 0.010054914, 0.010639113, 0.010193604, 0.010449584, 0.010406012, 0.010127751, 0.010356932, 0.01020012, 0.010217264, 0.009980684, 0.009877281, 0.010547315, 0.009931145, 0.009929721, 0.010544734, 0.01011063, 0.010238408, 0.009899003, 0.010096203, 0.009967026, 0.010063642, 0.010122442, 0.010088344, 0.010165198, 0.010180026, 0.009858368, 0.009809124]\n",
      "2022-02-28 16:05:58,383 : INFO : merging changes from 1204 documents into a model of 3204 documents\n",
      "2022-02-28 16:05:58,393 : INFO : topic #61 (0.009): 0.001*\"implic\" + 0.001*\"favor\" + 0.001*\"adapt\" + 0.001*\"polygon\" + 0.001*\"stage\" + 0.001*\"situat\" + 0.001*\"respons\" + 0.001*\"industri\" + 0.001*\"regress\" + 0.001*\"drive\"\n",
      "2022-02-28 16:05:58,395 : INFO : topic #38 (0.010): 0.088*\"garbag\" + 0.061*\"algorithm\" + 0.044*\"collect\" + 0.036*\"find\" + 0.034*\",\" + 0.025*\"grow\" + 0.022*\"function\" + 0.019*\"-\" + 0.019*\"free\" + 0.017*\"effort\"\n",
      "2022-02-28 16:05:58,396 : INFO : topic #58 (0.011): 0.075*\",\" + 0.053*\"system\" + 0.033*\"-\" + 0.027*\"program\" + 0.018*\"comput\" + 0.015*\"design\" + 0.013*\"/\" + 0.013*\"oper\" + 0.013*\"user\" + 0.012*\"implement\"\n",
      "2022-02-28 16:05:58,396 : INFO : topic #74 (0.011): 0.091*\",\" + 0.045*\"-\" + 0.030*\"comput\" + 0.027*\"program\" + 0.027*\"languag\" + 0.021*\";\" + 0.021*\"system\" + 0.015*\"data\" + 0.012*\"develop\" + 0.011*\":\"\n",
      "2022-02-28 16:05:58,400 : INFO : topic #16 (0.011): 0.262*\")\" + 0.260*\"(\" + 0.182*\"algorithm\" + 0.029*\"corrigendum\" + 0.023*\"bound\" + 0.020*\"interpol\" + 0.016*\"program\" + 0.013*\"linear\" + 0.013*\"-\" + 0.013*\"polynomi\"\n",
      "2022-02-28 16:05:58,400 : INFO : topic diff=0.419141, rho=0.526900\n",
      "2022-02-28 16:05:58,411 : INFO : PROGRESS: pass 2, at document #2000/3204\n",
      "2022-02-28 16:05:59,629 : INFO : optimized alpha [0.010196989, 0.01049576, 0.010122305, 0.00998183, 0.010321404, 0.010138914, 0.009872899, 0.010377908, 0.010053388, 0.009804308, 0.011016449, 0.0101660965, 0.010300836, 0.010037348, 0.009907173, 0.0100623835, 0.0123386625, 0.009913962, 0.009771661, 0.010191958, 0.010237042, 0.010193207, 0.010347287, 0.009968695, 0.010364453, 0.010044509, 0.009862747, 0.009930102, 0.010233094, 0.009820266, 0.0105268005, 0.0097421985, 0.010010838, 0.010103645, 0.010024313, 0.009843187, 0.0102497395, 0.010255454, 0.009633271, 0.010097895, 0.00972939, 0.010220304, 0.010160736, 0.009972521, 0.010049, 0.009941976, 0.010363262, 0.009949233, 0.010116456, 0.01020284, 0.009805397, 0.009940264, 0.009999524, 0.0097464565, 0.010740057, 0.009996389, 0.010153052, 0.010237842, 0.010621066, 0.010357774, 0.010393231, 0.009050077, 0.010346098, 0.010125812, 0.010004919, 0.01031587, 0.010427668, 0.010355813, 0.009881227, 0.00985625, 0.0099163605, 0.010039643, 0.009978293, 0.010097406, 0.010625688, 0.0101707755, 0.0104303155, 0.010371629, 0.010160073, 0.010370457, 0.01017138, 0.010181506, 0.009911574, 0.009869963, 0.010445875, 0.009900041, 0.009965922, 0.010514498, 0.010182946, 0.010382893, 0.009831086, 0.010097192, 0.0098838955, 0.010056317, 0.010171039, 0.010041021, 0.01018026, 0.010125374, 0.009784566, 0.009810242]\n",
      "2022-02-28 16:05:59,637 : INFO : merging changes from 2000 documents into a model of 3204 documents\n",
      "2022-02-28 16:05:59,644 : INFO : topic #61 (0.009): 0.001*\"implic\" + 0.001*\"favor\" + 0.001*\"adapt\" + 0.001*\"polygon\" + 0.001*\"stage\" + 0.001*\"situat\" + 0.001*\"respons\" + 0.001*\"industri\" + 0.001*\"regress\" + 0.001*\"drive\"\n",
      "2022-02-28 16:05:59,645 : INFO : topic #38 (0.010): 0.074*\"garbag\" + 0.055*\"algorithm\" + 0.044*\"find\" + 0.041*\"collect\" + 0.035*\",\" + 0.025*\"function\" + 0.020*\"storag\" + 0.019*\"chain\" + 0.019*\"grow\" + 0.018*\"free\"\n",
      "2022-02-28 16:05:59,646 : INFO : topic #54 (0.011): 0.066*\"languag\" + 0.064*\"program\" + 0.057*\",\" + 0.055*\"compil\" + 0.041*\"statement\" + 0.024*\"execut\" + 0.017*\"code\" + 0.017*\"/\" + 0.015*\"-\" + 0.014*\"instruct\"\n",
      "2022-02-28 16:05:59,647 : INFO : topic #10 (0.011): 0.204*\"algorithm\" + 0.201*\"[\" + 0.179*\"])\" + 0.171*\"(\" + 0.058*\"matrix\" + 0.028*\"root\" + 0.026*\"symmetr\" + 0.026*\"invers\" + 0.022*\"polynomi\" + 0.022*\"-\"\n",
      "2022-02-28 16:05:59,651 : INFO : topic #16 (0.012): 0.287*\")\" + 0.283*\"(\" + 0.205*\"algorithm\" + 0.017*\"corrigendum\" + 0.016*\"interpol\" + 0.015*\"polynomi\" + 0.014*\"bound\" + 0.012*\"-\" + 0.010*\"zero\" + 0.009*\"program\"\n",
      "2022-02-28 16:05:59,654 : INFO : topic diff=0.382041, rho=0.466151\n",
      "2022-02-28 16:06:00,920 : INFO : -6.782 per-word bound, 110.1 perplexity estimate based on a held-out corpus of 1204 documents with 49783 words\n",
      "2022-02-28 16:06:00,921 : INFO : PROGRESS: pass 2, at document #3204/3204\n",
      "2022-02-28 16:06:01,812 : INFO : optimized alpha [0.010421947, 0.010774855, 0.010307001, 0.010169026, 0.0104596745, 0.010265642, 0.010037476, 0.010674745, 0.010182487, 0.009827073, 0.01111139, 0.010246182, 0.010445582, 0.0101644145, 0.0099845, 0.010207161, 0.013198852, 0.010024053, 0.009797975, 0.010411868, 0.010478199, 0.010454753, 0.010604668, 0.010087433, 0.010490641, 0.010153273, 0.00993733, 0.010042931, 0.010376, 0.00994803, 0.010935901, 0.009742919, 0.01015222, 0.010371114, 0.010173001, 0.009911505, 0.010437721, 0.010505291, 0.009668705, 0.010227694, 0.009753084, 0.010515412, 0.010430125, 0.0100181205, 0.010220702, 0.010048414, 0.010583772, 0.010129686, 0.01029642, 0.010509179, 0.009869547, 0.010077665, 0.01003703, 0.009785264, 0.010969639, 0.01003292, 0.010461978, 0.0104188, 0.010768308, 0.010648092, 0.010561143, 0.008904651, 0.010550476, 0.01030194, 0.01016359, 0.01054727, 0.010693889, 0.010585872, 0.009955406, 0.009909649, 0.010038551, 0.010205127, 0.010147378, 0.010233789, 0.010808216, 0.010289409, 0.010614145, 0.010756561, 0.010396627, 0.01064699, 0.010324623, 0.010390781, 0.009987282, 0.009980253, 0.010696524, 0.010052603, 0.010071545, 0.010690161, 0.010358777, 0.010591278, 0.009872678, 0.010215735, 0.009967197, 0.01023362, 0.010258548, 0.010124772, 0.010440265, 0.0104527, 0.009862114, 0.009840048]\n",
      "2022-02-28 16:06:01,817 : INFO : merging changes from 1204 documents into a model of 3204 documents\n",
      "2022-02-28 16:06:01,823 : INFO : topic #61 (0.009): 0.001*\"implic\" + 0.001*\"favor\" + 0.001*\"adapt\" + 0.001*\"polygon\" + 0.001*\"stage\" + 0.001*\"situat\" + 0.001*\"respons\" + 0.001*\"industri\" + 0.001*\"regress\" + 0.001*\"drive\"\n",
      "2022-02-28 16:06:01,824 : INFO : topic #38 (0.010): 0.096*\"garbag\" + 0.068*\"collect\" + 0.061*\"algorithm\" + 0.053*\"find\" + 0.033*\",\" + 0.027*\"grow\" + 0.021*\"free\" + 0.021*\"avoid\" + 0.021*\"lisp\" + 0.020*\"storag\"\n",
      "2022-02-28 16:06:01,825 : INFO : topic #54 (0.011): 0.078*\"program\" + 0.070*\"languag\" + 0.056*\"compil\" + 0.055*\",\" + 0.043*\"statement\" + 0.031*\"execut\" + 0.019*\"code\" + 0.018*\"level\" + 0.015*\"/\" + 0.014*\"-\"\n",
      "2022-02-28 16:06:01,826 : INFO : topic #10 (0.011): 0.216*\"[\" + 0.206*\"algorithm\" + 0.164*\"(\" + 0.137*\"])\" + 0.073*\"matrix\" + 0.034*\"symmetr\" + 0.031*\"root\" + 0.023*\"-\" + 0.021*\"polynomi\" + 0.021*\"invers\"\n",
      "2022-02-28 16:06:01,827 : INFO : topic #16 (0.013): 0.291*\"(\" + 0.290*\")\" + 0.200*\"algorithm\" + 0.023*\"corrigendum\" + 0.017*\"interpol\" + 0.016*\"bound\" + 0.013*\"program\" + 0.012*\"polynomi\" + 0.012*\"-\" + 0.010*\"zero\"\n",
      "2022-02-28 16:06:01,828 : INFO : topic diff=0.508483, rho=0.466151\n",
      "2022-02-28 16:06:01,838 : INFO : PROGRESS: pass 3, at document #2000/3204\n",
      "2022-02-28 16:06:02,804 : INFO : optimized alpha [0.010391668, 0.010728057, 0.010386799, 0.010155446, 0.010656258, 0.010436133, 0.0102402065, 0.010668332, 0.010303385, 0.009808456, 0.011724208, 0.010427069, 0.010543634, 0.010128177, 0.010202866, 0.0102462815, 0.014213669, 0.010040694, 0.009793626, 0.010382039, 0.010500844, 0.010417607, 0.010688926, 0.010082028, 0.010469579, 0.010240551, 0.010045692, 0.010009791, 0.010323127, 0.009924397, 0.010927947, 0.009711012, 0.0101486575, 0.010326194, 0.010308948, 0.009887108, 0.01061418, 0.010546757, 0.00964376, 0.010174854, 0.009739236, 0.010516945, 0.010594447, 0.010183438, 0.010202418, 0.009985522, 0.0108081, 0.010184136, 0.0103072515, 0.010635318, 0.009835134, 0.010057131, 0.010165228, 0.00975896, 0.011156589, 0.010022556, 0.010513122, 0.010447104, 0.010769687, 0.010613336, 0.010514405, 0.008802748, 0.010786618, 0.010383935, 0.010127297, 0.010574768, 0.010713456, 0.0105619775, 0.0100421775, 0.009892112, 0.009993182, 0.010239954, 0.010176788, 0.010302473, 0.010795167, 0.010273013, 0.010625402, 0.010721276, 0.010449015, 0.01067783, 0.01030696, 0.0103660235, 0.009930183, 0.009990796, 0.010614334, 0.010036772, 0.01011742, 0.010666581, 0.0104418425, 0.010745992, 0.009825729, 0.010240579, 0.009910313, 0.010245849, 0.010311472, 0.010082856, 0.010476644, 0.010421955, 0.009815584, 0.0098756375]\n",
      "2022-02-28 16:06:02,811 : INFO : merging changes from 2000 documents into a model of 3204 documents\n",
      "2022-02-28 16:06:02,819 : INFO : topic #61 (0.009): 0.001*\"implic\" + 0.001*\"favor\" + 0.001*\"adapt\" + 0.001*\"polygon\" + 0.001*\"stage\" + 0.001*\"situat\" + 0.001*\"respons\" + 0.001*\"industri\" + 0.001*\"regress\" + 0.001*\"drive\"\n",
      "2022-02-28 16:06:02,820 : INFO : topic #38 (0.010): 0.080*\"garbag\" + 0.061*\"collect\" + 0.059*\"find\" + 0.056*\"algorithm\" + 0.034*\",\" + 0.028*\"lisp\" + 0.023*\"storag\" + 0.021*\"function\" + 0.021*\"free\" + 0.021*\"grow\"\n",
      "2022-02-28 16:06:02,821 : INFO : topic #54 (0.011): 0.077*\"languag\" + 0.076*\"program\" + 0.063*\"compil\" + 0.056*\",\" + 0.047*\"statement\" + 0.027*\"execut\" + 0.017*\"code\" + 0.016*\"-\" + 0.015*\"instruct\" + 0.015*\"/\"\n",
      "2022-02-28 16:06:02,822 : INFO : topic #10 (0.012): 0.213*\"[\" + 0.200*\"algorithm\" + 0.180*\"])\" + 0.173*\"(\" + 0.060*\"matrix\" + 0.029*\"root\" + 0.025*\"invers\" + 0.024*\"symmetr\" + 0.021*\"-\" + 0.021*\"polynomi\"\n",
      "2022-02-28 16:06:02,823 : INFO : topic #16 (0.014): 0.303*\")\" + 0.301*\"(\" + 0.211*\"algorithm\" + 0.015*\"corrigendum\" + 0.015*\"interpol\" + 0.014*\"polynomi\" + 0.011*\"-\" + 0.011*\"bound\" + 0.009*\"function\" + 0.009*\"zero\"\n",
      "2022-02-28 16:06:02,823 : INFO : topic diff=0.515193, rho=0.422502\n",
      "2022-02-28 16:06:04,120 : INFO : -6.696 per-word bound, 103.7 perplexity estimate based on a held-out corpus of 1204 documents with 49783 words\n",
      "2022-02-28 16:06:04,121 : INFO : PROGRESS: pass 3, at document #3204/3204\n",
      "2022-02-28 16:06:05,150 : INFO : optimized alpha [0.0106126, 0.011014811, 0.010556071, 0.010355494, 0.010834729, 0.010562096, 0.010405154, 0.010976271, 0.0104684625, 0.009847819, 0.0117838755, 0.010491578, 0.010679214, 0.010269702, 0.010290075, 0.010400396, 0.015222805, 0.010173338, 0.009828944, 0.010572392, 0.010775601, 0.010658018, 0.01092208, 0.010215494, 0.010611218, 0.010361113, 0.0101023195, 0.010113028, 0.010461152, 0.010055335, 0.011346757, 0.009734146, 0.010281304, 0.010586827, 0.010466122, 0.009957021, 0.010797641, 0.010791358, 0.009701035, 0.010308025, 0.00977571, 0.010781692, 0.010865862, 0.010231071, 0.01036661, 0.010086732, 0.011029778, 0.010378435, 0.010479431, 0.010980163, 0.009894391, 0.010207703, 0.01022758, 0.009802348, 0.011391143, 0.01008176, 0.010835397, 0.010623805, 0.010896184, 0.010876653, 0.010671719, 0.008679259, 0.010993296, 0.010556323, 0.010308695, 0.0108059095, 0.010965741, 0.010795291, 0.010130879, 0.009944998, 0.0101121515, 0.010427861, 0.010342314, 0.0104633365, 0.010950302, 0.010417812, 0.010812415, 0.011089306, 0.010673863, 0.01097818, 0.010450338, 0.010576188, 0.0100175375, 0.010109095, 0.010862998, 0.01017267, 0.010238881, 0.010819535, 0.010628667, 0.010960078, 0.0098927235, 0.0103414655, 0.009990701, 0.010422272, 0.010405714, 0.010152451, 0.010719926, 0.010735334, 0.009918464, 0.009931367]\n",
      "2022-02-28 16:06:05,159 : INFO : merging changes from 1204 documents into a model of 3204 documents\n",
      "2022-02-28 16:06:05,165 : INFO : topic #61 (0.009): 0.001*\"implic\" + 0.001*\"favor\" + 0.001*\"adapt\" + 0.001*\"polygon\" + 0.001*\"stage\" + 0.001*\"situat\" + 0.001*\"respons\" + 0.001*\"industri\" + 0.001*\"regress\" + 0.001*\"drive\"\n",
      "2022-02-28 16:06:05,166 : INFO : topic #38 (0.010): 0.095*\"garbag\" + 0.076*\"collect\" + 0.072*\"find\" + 0.063*\"algorithm\" + 0.033*\",\" + 0.028*\"grow\" + 0.027*\"lisp\" + 0.024*\"avoid\" + 0.023*\"storag\" + 0.022*\"free\"\n",
      "2022-02-28 16:06:05,166 : INFO : topic #54 (0.011): 0.086*\"program\" + 0.078*\"languag\" + 0.063*\"compil\" + 0.055*\",\" + 0.046*\"statement\" + 0.033*\"execut\" + 0.020*\"code\" + 0.018*\"level\" + 0.015*\"-\" + 0.015*\"higher\"\n",
      "2022-02-28 16:06:05,169 : INFO : topic #10 (0.012): 0.229*\"[\" + 0.200*\"algorithm\" + 0.167*\"(\" + 0.147*\"])\" + 0.066*\"matrix\" + 0.032*\"root\" + 0.031*\"symmetr\" + 0.021*\"-\" + 0.021*\"invers\" + 0.021*\"polynomi\"\n",
      "2022-02-28 16:06:05,170 : INFO : topic #16 (0.015): 0.306*\"(\" + 0.303*\")\" + 0.207*\"algorithm\" + 0.021*\"corrigendum\" + 0.016*\"interpol\" + 0.013*\"bound\" + 0.012*\"program\" + 0.011*\"polynomi\" + 0.011*\"-\" + 0.009*\"complex\"\n",
      "2022-02-28 16:06:05,171 : INFO : topic diff=0.626159, rho=0.422502\n",
      "2022-02-28 16:06:05,181 : INFO : PROGRESS: pass 4, at document #2000/3204\n",
      "2022-02-28 16:06:06,256 : INFO : optimized alpha [0.010585548, 0.010975748, 0.01067976, 0.010354098, 0.011038401, 0.010754584, 0.0106324805, 0.010978914, 0.010605725, 0.009841417, 0.012343446, 0.01066489, 0.010791034, 0.010258422, 0.010521529, 0.010432155, 0.01632297, 0.010194593, 0.009845198, 0.010541791, 0.010810082, 0.010632809, 0.011006025, 0.010218429, 0.010604249, 0.010448257, 0.010193318, 0.010080859, 0.010420772, 0.010049109, 0.01135549, 0.009717642, 0.01028801, 0.010549687, 0.010617574, 0.009939126, 0.011019994, 0.010830556, 0.009686493, 0.010259441, 0.009769761, 0.010777171, 0.011032562, 0.010399525, 0.010349298, 0.010031515, 0.011273341, 0.0104692625, 0.010505269, 0.01111912, 0.009871389, 0.010190447, 0.01038122, 0.009792817, 0.011566433, 0.010090758, 0.010910558, 0.010676595, 0.010908242, 0.010857776, 0.010626228, 0.008591146, 0.011235705, 0.010654965, 0.010296864, 0.010836628, 0.010999487, 0.010778116, 0.010237491, 0.009927897, 0.010078444, 0.010471746, 0.010377179, 0.0105268, 0.010946536, 0.010410446, 0.010841362, 0.011061812, 0.010729965, 0.011026449, 0.010439956, 0.010564599, 0.009973638, 0.010128791, 0.0107962275, 0.010171896, 0.010291321, 0.010810275, 0.010736552, 0.011132083, 0.009860313, 0.010374895, 0.009986213, 0.010445119, 0.010466943, 0.010118805, 0.010771349, 0.010718932, 0.0098956525, 0.009974506]\n",
      "2022-02-28 16:06:06,264 : INFO : merging changes from 2000 documents into a model of 3204 documents\n",
      "2022-02-28 16:06:06,273 : INFO : topic #61 (0.009): 0.001*\"implic\" + 0.001*\"favor\" + 0.001*\"adapt\" + 0.001*\"polygon\" + 0.001*\"stage\" + 0.001*\"situat\" + 0.001*\"respons\" + 0.001*\"industri\" + 0.001*\"regress\" + 0.001*\"drive\"\n",
      "2022-02-28 16:06:06,274 : INFO : topic #38 (0.010): 0.081*\"garbag\" + 0.076*\"find\" + 0.068*\"collect\" + 0.058*\"algorithm\" + 0.035*\"lisp\" + 0.034*\",\" + 0.025*\"storag\" + 0.022*\"grow\" + 0.022*\"free\" + 0.021*\"attempt\"\n",
      "2022-02-28 16:06:06,277 : INFO : topic #54 (0.012): 0.084*\"program\" + 0.083*\"languag\" + 0.068*\"compil\" + 0.056*\",\" + 0.051*\"statement\" + 0.029*\"execut\" + 0.018*\"code\" + 0.016*\"instruct\" + 0.016*\"-\" + 0.014*\"level\"\n",
      "2022-02-28 16:06:06,279 : INFO : topic #10 (0.012): 0.224*\"[\" + 0.197*\"algorithm\" + 0.185*\"])\" + 0.176*\"(\" + 0.053*\"matrix\" + 0.029*\"root\" + 0.025*\"invers\" + 0.023*\"symmetr\" + 0.020*\"-\" + 0.019*\"polynomi\"\n",
      "2022-02-28 16:06:06,283 : INFO : topic #16 (0.016): 0.311*\"(\" + 0.311*\")\" + 0.215*\"algorithm\" + 0.015*\"interpol\" + 0.014*\"corrigendum\" + 0.013*\"polynomi\" + 0.011*\"-\" + 0.010*\"function\" + 0.009*\"bound\" + 0.008*\"program\"\n",
      "2022-02-28 16:06:06,287 : INFO : topic diff=0.607861, rho=0.389191\n",
      "2022-02-28 16:06:07,507 : INFO : -6.643 per-word bound, 100.0 perplexity estimate based on a held-out corpus of 1204 documents with 49783 words\n",
      "2022-02-28 16:06:07,507 : INFO : PROGRESS: pass 4, at document #3204/3204\n",
      "2022-02-28 16:06:08,319 : INFO : optimized alpha [0.010801707, 0.01124725, 0.010830054, 0.01054049, 0.011233217, 0.010877708, 0.010796249, 0.011278597, 0.010769455, 0.009881922, 0.012352062, 0.010734026, 0.010923572, 0.010410253, 0.010625034, 0.010582165, 0.017520797, 0.010321259, 0.0098977545, 0.010725548, 0.011075003, 0.010881377, 0.01123097, 0.010349084, 0.010756819, 0.010576977, 0.010242089, 0.010177009, 0.01054559, 0.010180727, 0.0117737595, 0.009762429, 0.010414549, 0.01079683, 0.01077383, 0.01001736, 0.011215906, 0.011059232, 0.009762248, 0.010386678, 0.009807528, 0.011024614, 0.011305631, 0.0104427, 0.0105186775, 0.010129071, 0.011488001, 0.010695283, 0.010689641, 0.011478346, 0.009949559, 0.010343676, 0.010471779, 0.009836979, 0.011800994, 0.010165849, 0.011263295, 0.010854931, 0.011025657, 0.011114584, 0.010783245, 0.008483857, 0.011454394, 0.010805047, 0.010516624, 0.011066607, 0.011238978, 0.0109885745, 0.010332572, 0.010000401, 0.010198889, 0.010650237, 0.010544621, 0.010686601, 0.011105343, 0.010531279, 0.011044017, 0.011422462, 0.010929364, 0.011319394, 0.010576488, 0.010770766, 0.0100781685, 0.010235398, 0.0110282395, 0.010304814, 0.010420902, 0.010959413, 0.010949101, 0.0113608735, 0.009932859, 0.010468499, 0.010074343, 0.010626169, 0.010550769, 0.010193946, 0.011026797, 0.011026864, 0.01001742, 0.010061975]\n",
      "2022-02-28 16:06:08,325 : INFO : merging changes from 1204 documents into a model of 3204 documents\n",
      "2022-02-28 16:06:08,331 : INFO : topic #61 (0.008): 0.001*\"implic\" + 0.001*\"favor\" + 0.001*\"adapt\" + 0.001*\"polygon\" + 0.001*\"stage\" + 0.001*\"situat\" + 0.001*\"respons\" + 0.001*\"industri\" + 0.001*\"regress\" + 0.001*\"drive\"\n",
      "2022-02-28 16:06:08,332 : INFO : topic #38 (0.010): 0.093*\"garbag\" + 0.086*\"find\" + 0.080*\"collect\" + 0.065*\"algorithm\" + 0.033*\"lisp\" + 0.032*\",\" + 0.028*\"grow\" + 0.027*\"avoid\" + 0.025*\"storag\" + 0.024*\"attempt\"\n",
      "2022-02-28 16:06:08,332 : INFO : topic #54 (0.012): 0.094*\"program\" + 0.083*\"languag\" + 0.068*\"compil\" + 0.054*\",\" + 0.049*\"statement\" + 0.034*\"execut\" + 0.018*\"code\" + 0.018*\"level\" + 0.015*\"instruct\" + 0.015*\"higher\"\n",
      "2022-02-28 16:06:08,333 : INFO : topic #10 (0.012): 0.236*\"[\" + 0.197*\"algorithm\" + 0.172*\"(\" + 0.158*\"])\" + 0.057*\"matrix\" + 0.032*\"root\" + 0.027*\"symmetr\" + 0.021*\"invers\" + 0.021*\"-\" + 0.020*\"polynomi\"\n",
      "2022-02-28 16:06:08,334 : INFO : topic #16 (0.018): 0.315*\"(\" + 0.310*\")\" + 0.212*\"algorithm\" + 0.019*\"corrigendum\" + 0.015*\"interpol\" + 0.011*\"bound\" + 0.011*\"-\" + 0.011*\"program\" + 0.011*\"polynomi\" + 0.009*\"complex\"\n",
      "2022-02-28 16:06:08,335 : INFO : topic diff=0.670774, rho=0.389191\n",
      "2022-02-28 16:06:08,344 : INFO : PROGRESS: pass 5, at document #2000/3204\n",
      "2022-02-28 16:06:09,334 : INFO : optimized alpha [0.010783299, 0.011208908, 0.010962674, 0.010542393, 0.011422935, 0.011066261, 0.011020969, 0.011272862, 0.01091669, 0.009903821, 0.01285972, 0.010909428, 0.011043014, 0.010410894, 0.010849319, 0.010619306, 0.018797824, 0.010357991, 0.00993877, 0.010698211, 0.011124641, 0.010870195, 0.01130941, 0.010362987, 0.010765815, 0.010668534, 0.010329687, 0.010158512, 0.010513911, 0.010180348, 0.011789289, 0.009765824, 0.010426432, 0.010768522, 0.010932729, 0.010004886, 0.011460486, 0.011092984, 0.009765166, 0.010341557, 0.009819004, 0.011018949, 0.011471926, 0.010600049, 0.010503851, 0.0100800535, 0.011747328, 0.010801862, 0.010721161, 0.011638707, 0.009937819, 0.010334779, 0.010628535, 0.009828836, 0.011971272, 0.010185746, 0.011342801, 0.010906135, 0.011043108, 0.011107591, 0.010744603, 0.008406311, 0.011688073, 0.010909768, 0.010525655, 0.011104332, 0.011269582, 0.010989551, 0.010444414, 0.009990596, 0.010174955, 0.010704378, 0.010590267, 0.010745912, 0.011111731, 0.010522539, 0.01108264, 0.011399903, 0.010979426, 0.011371621, 0.010564709, 0.010763023, 0.01004128, 0.010253994, 0.010968719, 0.010304009, 0.0104794735, 0.010952547, 0.0110664135, 0.01153865, 0.009917897, 0.010503939, 0.010089075, 0.010647017, 0.010616036, 0.0101633025, 0.0110941725, 0.01101938, 0.010011014, 0.010117381]\n",
      "2022-02-28 16:06:09,341 : INFO : merging changes from 2000 documents into a model of 3204 documents\n",
      "2022-02-28 16:06:09,347 : INFO : topic #61 (0.008): 0.001*\"implic\" + 0.001*\"favor\" + 0.001*\"adapt\" + 0.001*\"polygon\" + 0.001*\"stage\" + 0.001*\"situat\" + 0.001*\"respons\" + 0.001*\"industri\" + 0.001*\"regress\" + 0.001*\"drive\"\n",
      "2022-02-28 16:06:09,348 : INFO : topic #38 (0.010): 0.086*\"find\" + 0.081*\"garbag\" + 0.071*\"collect\" + 0.063*\"algorithm\" + 0.040*\"lisp\" + 0.033*\",\" + 0.027*\"storag\" + 0.027*\"compact\" + 0.025*\"attempt\" + 0.023*\"grow\"\n",
      "2022-02-28 16:06:09,349 : INFO : topic #54 (0.012): 0.091*\"program\" + 0.087*\"languag\" + 0.073*\"compil\" + 0.055*\",\" + 0.053*\"statement\" + 0.031*\"execut\" + 0.017*\"instruct\" + 0.017*\"code\" + 0.016*\"-\" + 0.015*\"sourc\"\n",
      "2022-02-28 16:06:09,351 : INFO : topic #10 (0.013): 0.232*\"[\" + 0.201*\"algorithm\" + 0.190*\"])\" + 0.183*\"(\" + 0.042*\"matrix\" + 0.029*\"root\" + 0.020*\"polynomi\" + 0.019*\"symmetr\" + 0.019*\"invers\" + 0.019*\"-\"\n",
      "2022-02-28 16:06:09,352 : INFO : topic #16 (0.019): 0.318*\"(\" + 0.316*\")\" + 0.218*\"algorithm\" + 0.014*\"interpol\" + 0.014*\"corrigendum\" + 0.012*\"polynomi\" + 0.010*\"-\" + 0.010*\"function\" + 0.008*\"complex\" + 0.008*\"bound\"\n",
      "2022-02-28 16:06:09,354 : INFO : topic diff=0.613643, rho=0.362690\n",
      "2022-02-28 16:06:10,317 : INFO : -6.601 per-word bound, 97.0 perplexity estimate based on a held-out corpus of 1204 documents with 49783 words\n",
      "2022-02-28 16:06:10,318 : INFO : PROGRESS: pass 5, at document #3204/3204\n",
      "2022-02-28 16:06:11,112 : INFO : optimized alpha [0.01099388, 0.011462113, 0.011110532, 0.010733924, 0.011620893, 0.011184649, 0.011191575, 0.011550147, 0.011097255, 0.009945222, 0.012798955, 0.010986382, 0.011163938, 0.010557041, 0.010949018, 0.010789375, 0.0201183, 0.010496157, 0.0100092525, 0.010890696, 0.011393099, 0.01110508, 0.011515127, 0.010507804, 0.010919407, 0.010792613, 0.010384518, 0.0102645, 0.010644245, 0.0103133125, 0.012182405, 0.009823333, 0.010551703, 0.0110119525, 0.011076377, 0.010081665, 0.011680276, 0.011312446, 0.009848399, 0.010458103, 0.0098609235, 0.011249362, 0.011721313, 0.010646061, 0.010660138, 0.010178235, 0.011978494, 0.011049055, 0.010911179, 0.01201146, 0.010023609, 0.010497886, 0.010732347, 0.009864816, 0.0121930055, 0.010272077, 0.011682936, 0.011094017, 0.011160291, 0.011350463, 0.010885747, 0.008311516, 0.0119127715, 0.011063974, 0.01079775, 0.011324951, 0.011509518, 0.011191316, 0.010539714, 0.01006828, 0.010294387, 0.010888905, 0.010754392, 0.0108930515, 0.011274714, 0.01063292, 0.011297511, 0.011749733, 0.011154107, 0.0116533125, 0.0106930155, 0.010957541, 0.010136735, 0.010363521, 0.011190749, 0.01042276, 0.010614049, 0.011106152, 0.011287542, 0.011762364, 0.009995481, 0.010588619, 0.0101842, 0.010820682, 0.010710595, 0.010234319, 0.01135318, 0.011324826, 0.010153085, 0.010211843]\n",
      "2022-02-28 16:06:11,118 : INFO : merging changes from 1204 documents into a model of 3204 documents\n",
      "2022-02-28 16:06:11,124 : INFO : topic #61 (0.008): 0.001*\"implic\" + 0.001*\"favor\" + 0.001*\"adapt\" + 0.001*\"polygon\" + 0.001*\"stage\" + 0.001*\"situat\" + 0.001*\"respons\" + 0.001*\"industri\" + 0.001*\"regress\" + 0.001*\"drive\"\n",
      "2022-02-28 16:06:11,125 : INFO : topic #40 (0.010): 0.072*\"block\" + 0.057*\"processor\" + 0.049*\",\" + 0.048*\"speed\" + 0.042*\"construct\" + 0.036*\"subroutin\" + 0.034*\"step\" + 0.033*\"correspond\" + 0.028*\"transfer\" + 0.028*\"parser\"\n",
      "2022-02-28 16:06:11,125 : INFO : topic #30 (0.012): 0.178*\"]\" + 0.117*\"[\" + 0.108*\"linear\" + 0.097*\"solut\" + 0.073*\"problem\" + 0.039*\"-\" + 0.031*\"equat\" + 0.024*\"boundari\" + 0.024*\"exact\" + 0.020*\"1\"\n",
      "2022-02-28 16:06:11,126 : INFO : topic #10 (0.013): 0.239*\"[\" + 0.201*\"algorithm\" + 0.179*\"(\" + 0.169*\"])\" + 0.045*\"matrix\" + 0.033*\"root\" + 0.022*\"symmetr\" + 0.021*\"polynomi\" + 0.019*\"-\" + 0.017*\"invers\"\n",
      "2022-02-28 16:06:11,127 : INFO : topic #16 (0.020): 0.322*\"(\" + 0.314*\")\" + 0.215*\"algorithm\" + 0.018*\"corrigendum\" + 0.014*\"interpol\" + 0.010*\"complex\" + 0.010*\"-\" + 0.010*\"program\" + 0.010*\"function\" + 0.010*\"bound\"\n",
      "2022-02-28 16:06:11,128 : INFO : topic diff=0.638682, rho=0.362690\n",
      "2022-02-28 16:06:11,138 : INFO : PROGRESS: pass 6, at document #2000/3204\n",
      "2022-02-28 16:06:12,025 : INFO : optimized alpha [0.010981181, 0.011436305, 0.011250339, 0.0107424, 0.011804556, 0.011363128, 0.011417216, 0.011551071, 0.0112586245, 0.009966452, 0.013261368, 0.011151845, 0.011281285, 0.0105628045, 0.011177315, 0.010824044, 0.021507638, 0.010536113, 0.010067122, 0.010867926, 0.01145889, 0.0111029055, 0.011594952, 0.010533308, 0.010933338, 0.01088687, 0.010464147, 0.0102507705, 0.01061265, 0.010316357, 0.012196343, 0.009823654, 0.010566475, 0.010987657, 0.011237588, 0.010077299, 0.011954137, 0.011345477, 0.009851466, 0.0104285, 0.009882478, 0.011242827, 0.0118881455, 0.01079786, 0.010643966, 0.010136137, 0.012238663, 0.011178691, 0.010944241, 0.012183374, 0.010019777, 0.010503508, 0.010883882, 0.009861431, 0.012351293, 0.010310657, 0.011763156, 0.011159167, 0.011182677, 0.011344757, 0.010849319, 0.008242352, 0.012160087, 0.01116548, 0.010821666, 0.011359943, 0.01153551, 0.011187672, 0.010658699, 0.010068149, 0.01027366, 0.010949226, 0.010802804, 0.0109452205, 0.011296047, 0.0106375255, 0.01134111, 0.011725616, 0.01120297, 0.011715546, 0.010692836, 0.010955087, 0.010107744, 0.010379309, 0.011141286, 0.010429118, 0.01067305, 0.011103258, 0.011402705, 0.011956402, 0.009981864, 0.010624246, 0.010208676, 0.010849091, 0.01077795, 0.010209749, 0.0114239855, 0.011321493, 0.010162675, 0.010281872]\n",
      "2022-02-28 16:06:12,030 : INFO : merging changes from 2000 documents into a model of 3204 documents\n",
      "2022-02-28 16:06:12,037 : INFO : topic #61 (0.008): 0.001*\"implic\" + 0.001*\"favor\" + 0.001*\"adapt\" + 0.001*\"polygon\" + 0.001*\"stage\" + 0.001*\"situat\" + 0.001*\"respons\" + 0.001*\"industri\" + 0.001*\"regress\" + 0.001*\"drive\"\n",
      "2022-02-28 16:06:12,038 : INFO : topic #53 (0.010): 0.142*\"-\" + 0.078*\"question\" + 0.061*\"answer\" + 0.029*\"larg\" + 0.029*\"driven\" + 0.027*\"system\" + 0.026*\"dimension\" + 0.023*\",\" + 0.021*\"english\" + 0.020*\"gener\"\n",
      "2022-02-28 16:06:12,038 : INFO : topic #54 (0.012): 0.096*\"program\" + 0.088*\"languag\" + 0.078*\"compil\" + 0.055*\",\" + 0.054*\"statement\" + 0.031*\"execut\" + 0.018*\"instruct\" + 0.016*\"sourc\" + 0.016*\"-\" + 0.016*\"code\"\n",
      "2022-02-28 16:06:12,039 : INFO : topic #10 (0.013): 0.237*\"[\" + 0.203*\"algorithm\" + 0.197*\"])\" + 0.188*\"(\" + 0.032*\"matrix\" + 0.029*\"root\" + 0.020*\"polynomi\" + 0.018*\"-\" + 0.016*\"symmetr\" + 0.014*\"invers\"\n",
      "2022-02-28 16:06:12,040 : INFO : topic #16 (0.022): 0.324*\"(\" + 0.318*\")\" + 0.220*\"algorithm\" + 0.013*\"corrigendum\" + 0.013*\"interpol\" + 0.010*\"polynomi\" + 0.010*\"function\" + 0.010*\"-\" + 0.010*\"complex\" + 0.007*\"zero\"\n",
      "2022-02-28 16:06:12,041 : INFO : topic diff=0.565699, rho=0.340958\n",
      "2022-02-28 16:06:13,039 : INFO : -6.566 per-word bound, 94.8 perplexity estimate based on a held-out corpus of 1204 documents with 49783 words\n",
      "2022-02-28 16:06:13,039 : INFO : PROGRESS: pass 6, at document #3204/3204\n",
      "2022-02-28 16:06:13,836 : INFO : optimized alpha [0.011184749, 0.011684148, 0.0113969045, 0.01092768, 0.011992934, 0.011474754, 0.011576189, 0.011816058, 0.011465901, 0.010020098, 0.013160221, 0.011226963, 0.011405187, 0.01070458, 0.011264418, 0.010988698, 0.022974757, 0.010676264, 0.01014244, 0.011056928, 0.01174251, 0.011330027, 0.011780782, 0.010682721, 0.0110853305, 0.011022963, 0.010521812, 0.010357144, 0.010730268, 0.010460016, 0.01257462, 0.009878427, 0.010700221, 0.011219792, 0.011380064, 0.010150325, 0.01219466, 0.011560924, 0.009950043, 0.01053624, 0.009928123, 0.0114654945, 0.012140255, 0.010837464, 0.010795247, 0.010232372, 0.012466292, 0.011453985, 0.011118862, 0.012547639, 0.010118328, 0.010655584, 0.011009426, 0.009890484, 0.012576777, 0.010407326, 0.01209022, 0.01133157, 0.01130015, 0.011569813, 0.010995933, 0.0081574945, 0.01236432, 0.011308768, 0.011091659, 0.0115700895, 0.01176758, 0.011379435, 0.0107487105, 0.010147738, 0.010387013, 0.011121683, 0.01096177, 0.011081555, 0.011457281, 0.010757402, 0.011555493, 0.012057471, 0.011362453, 0.012012, 0.010808387, 0.011152579, 0.0102014225, 0.01049203, 0.011374429, 0.010541846, 0.01080981, 0.011261837, 0.0116137555, 0.012180194, 0.010064232, 0.010701469, 0.010307592, 0.011017028, 0.010867354, 0.010277545, 0.011668566, 0.011626801, 0.010326939, 0.010391813]\n",
      "2022-02-28 16:06:13,841 : INFO : merging changes from 1204 documents into a model of 3204 documents\n",
      "2022-02-28 16:06:13,847 : INFO : topic #61 (0.008): 0.001*\"implic\" + 0.001*\"favor\" + 0.001*\"adapt\" + 0.001*\"polygon\" + 0.001*\"stage\" + 0.001*\"situat\" + 0.001*\"respons\" + 0.001*\"industri\" + 0.001*\"regress\" + 0.001*\"drive\"\n",
      "2022-02-28 16:06:13,849 : INFO : topic #53 (0.010): 0.151*\"-\" + 0.080*\"question\" + 0.064*\"answer\" + 0.039*\"driven\" + 0.029*\"system\" + 0.029*\"larg\" + 0.023*\"applic\" + 0.023*\"dimension\" + 0.022*\",\" + 0.021*\"dimens\"\n",
      "2022-02-28 16:06:13,849 : INFO : topic #54 (0.013): 0.104*\"program\" + 0.086*\"languag\" + 0.079*\"compil\" + 0.054*\",\" + 0.052*\"statement\" + 0.036*\"execut\" + 0.018*\"sourc\" + 0.018*\"level\" + 0.016*\"instruct\" + 0.016*\"code\"\n",
      "2022-02-28 16:06:13,850 : INFO : topic #10 (0.013): 0.237*\"[\" + 0.207*\"algorithm\" + 0.185*\"(\" + 0.178*\"])\" + 0.035*\"matrix\" + 0.033*\"root\" + 0.022*\"polynomi\" + 0.019*\"-\" + 0.018*\"symmetr\" + 0.015*\"m1\"\n",
      "2022-02-28 16:06:13,851 : INFO : topic #16 (0.023): 0.327*\"(\" + 0.317*\")\" + 0.217*\"algorithm\" + 0.017*\"corrigendum\" + 0.014*\"interpol\" + 0.011*\"complex\" + 0.010*\"-\" + 0.009*\"function\" + 0.009*\"bound\" + 0.009*\"program\"\n",
      "2022-02-28 16:06:13,852 : INFO : topic diff=0.571905, rho=0.340958\n",
      "2022-02-28 16:06:13,861 : INFO : PROGRESS: pass 7, at document #2000/3204\n",
      "2022-02-28 16:06:14,723 : INFO : optimized alpha [0.011179128, 0.011662094, 0.011551571, 0.0109403785, 0.012167709, 0.011640883, 0.011801863, 0.01181366, 0.011641641, 0.010053723, 0.013614146, 0.011389327, 0.011521293, 0.0107116625, 0.011488537, 0.011033849, 0.024496915, 0.01071943, 0.010207658, 0.011032787, 0.011814184, 0.011334283, 0.011851002, 0.01071366, 0.011100234, 0.011109579, 0.010601415, 0.010357718, 0.010709273, 0.010477804, 0.0125914635, 0.009888891, 0.010717679, 0.011197417, 0.01153508, 0.010151658, 0.012492727, 0.011597247, 0.009957986, 0.010505066, 0.009953943, 0.011458318, 0.012302681, 0.01098476, 0.010779635, 0.0101946145, 0.012736672, 0.011591591, 0.011153486, 0.012739937, 0.0101230685, 0.010662402, 0.011156855, 0.009892865, 0.012741008, 0.010457749, 0.012165777, 0.011402712, 0.01133079, 0.0115653025, 0.0109685585, 0.008095155, 0.01261195, 0.011398495, 0.011124116, 0.011604614, 0.011799044, 0.011377158, 0.010873161, 0.010151267, 0.010372603, 0.0111843785, 0.011011204, 0.011140171, 0.011480957, 0.010758347, 0.011603921, 0.012036119, 0.011410617, 0.012083975, 0.010810047, 0.011153184, 0.010172622, 0.010513802, 0.011330067, 0.0105564445, 0.010874762, 0.01127522, 0.011736949, 0.01237726, 0.010056649, 0.01073394, 0.01033934, 0.011047286, 0.010938716, 0.010259906, 0.011735516, 0.011634889, 0.010354237, 0.01046384]\n",
      "2022-02-28 16:06:14,729 : INFO : merging changes from 2000 documents into a model of 3204 documents\n",
      "2022-02-28 16:06:14,735 : INFO : topic #61 (0.008): 0.001*\"implic\" + 0.001*\"favor\" + 0.001*\"adapt\" + 0.001*\"polygon\" + 0.001*\"stage\" + 0.001*\"situat\" + 0.001*\"respons\" + 0.001*\"industri\" + 0.001*\"regress\" + 0.001*\"drive\"\n",
      "2022-02-28 16:06:14,736 : INFO : topic #53 (0.010): 0.150*\"-\" + 0.084*\"question\" + 0.063*\"answer\" + 0.030*\"larg\" + 0.030*\"driven\" + 0.026*\"dimension\" + 0.026*\"system\" + 0.023*\"applic\" + 0.023*\"english\" + 0.022*\",\"\n",
      "2022-02-28 16:06:14,737 : INFO : topic #46 (0.013): 0.243*\"matrix\" + 0.203*\"note\" + 0.177*\"matric\" + 0.119*\"comment\" + 0.081*\"ii\" + 0.024*\"empir\" + 0.020*\"algorithm\" + 0.019*\"date\" + 0.019*\"bound\" + 0.016*\"number\"\n",
      "2022-02-28 16:06:14,737 : INFO : topic #10 (0.014): 0.237*\"[\" + 0.208*\"algorithm\" + 0.202*\"])\" + 0.192*\"(\" + 0.030*\"root\" + 0.025*\"matrix\" + 0.021*\"polynomi\" + 0.018*\"-\" + 0.014*\"symmetr\" + 0.012*\"f1\"\n",
      "2022-02-28 16:06:14,738 : INFO : topic #16 (0.024): 0.329*\"(\" + 0.320*\")\" + 0.222*\"algorithm\" + 0.013*\"corrigendum\" + 0.013*\"interpol\" + 0.011*\"complex\" + 0.010*\"polynomi\" + 0.009*\"-\" + 0.009*\"function\" + 0.007*\"zero\"\n",
      "2022-02-28 16:06:14,739 : INFO : topic diff=0.498237, rho=0.322715\n",
      "2022-02-28 16:06:15,728 : INFO : -6.541 per-word bound, 93.1 perplexity estimate based on a held-out corpus of 1204 documents with 49783 words\n",
      "2022-02-28 16:06:15,728 : INFO : PROGRESS: pass 7, at document #3204/3204\n",
      "2022-02-28 16:06:16,542 : INFO : optimized alpha [0.011368002, 0.011902904, 0.011685308, 0.011114965, 0.012348159, 0.011740573, 0.01195682, 0.012080973, 0.011856507, 0.010115896, 0.013508436, 0.011463028, 0.011645537, 0.010861853, 0.011567457, 0.011208999, 0.026082493, 0.010856381, 0.010287636, 0.011216594, 0.01209772, 0.011567457, 0.012038393, 0.010859448, 0.0112577835, 0.011251555, 0.010656161, 0.010462159, 0.01082459, 0.010618073, 0.012943648, 0.00994956, 0.01085127, 0.01141715, 0.011664745, 0.010218796, 0.012761595, 0.011797506, 0.010049456, 0.010613739, 0.010016524, 0.011665644, 0.012545422, 0.011024877, 0.010935812, 0.010289432, 0.012972202, 0.011898657, 0.011329726, 0.0131116, 0.010228245, 0.010813616, 0.011282573, 0.009915829, 0.012943359, 0.0105696935, 0.012488294, 0.011573928, 0.011446063, 0.011774832, 0.0111116795, 0.008018414, 0.012790631, 0.011532452, 0.011411824, 0.011809176, 0.012021706, 0.011548179, 0.010973311, 0.010232953, 0.010483692, 0.011361708, 0.011175065, 0.011276322, 0.011644585, 0.010884397, 0.01181888, 0.012346228, 0.011566098, 0.012370168, 0.010920475, 0.0113301845, 0.010270457, 0.010638483, 0.0115536265, 0.010672476, 0.011011324, 0.01143293, 0.011952316, 0.01261895, 0.010138137, 0.010822275, 0.010428169, 0.011228676, 0.011032659, 0.010327734, 0.011979944, 0.011951085, 0.0105425, 0.01058012]\n",
      "2022-02-28 16:06:16,547 : INFO : merging changes from 1204 documents into a model of 3204 documents\n",
      "2022-02-28 16:06:16,554 : INFO : topic #61 (0.008): 0.001*\"implic\" + 0.001*\"favor\" + 0.001*\"adapt\" + 0.001*\"polygon\" + 0.001*\"stage\" + 0.001*\"situat\" + 0.001*\"respons\" + 0.001*\"industri\" + 0.001*\"regress\" + 0.001*\"drive\"\n",
      "2022-02-28 16:06:16,554 : INFO : topic #53 (0.010): 0.158*\"-\" + 0.085*\"question\" + 0.065*\"answer\" + 0.039*\"driven\" + 0.030*\"larg\" + 0.027*\"system\" + 0.027*\"applic\" + 0.022*\"dimension\" + 0.022*\"dimens\" + 0.022*\"english\"\n",
      "2022-02-28 16:06:16,555 : INFO : topic #49 (0.013): 0.273*\"data\" + 0.144*\"structur\" + 0.121*\"process\" + 0.074*\"system\" + 0.050*\"organ\" + 0.045*\"inform\" + 0.041*\"mechan\" + 0.020*\"approach\" + 0.015*\"concept\" + 0.014*\"program\"\n",
      "2022-02-28 16:06:16,556 : INFO : topic #10 (0.014): 0.236*\"[\" + 0.210*\"algorithm\" + 0.189*\"(\" + 0.185*\"])\" + 0.034*\"root\" + 0.026*\"matrix\" + 0.022*\"polynomi\" + 0.019*\"-\" + 0.017*\"symmetr\" + 0.015*\"m1\"\n",
      "2022-02-28 16:06:16,557 : INFO : topic #16 (0.026): 0.333*\"(\" + 0.320*\")\" + 0.218*\"algorithm\" + 0.016*\"corrigendum\" + 0.013*\"interpol\" + 0.012*\"complex\" + 0.010*\"-\" + 0.008*\"polynomi\" + 0.008*\"bound\" + 0.008*\"function\"\n",
      "2022-02-28 16:06:16,558 : INFO : topic diff=0.499564, rho=0.322715\n",
      "2022-02-28 16:06:16,567 : INFO : PROGRESS: pass 8, at document #2000/3204\n",
      "2022-02-28 16:06:17,487 : INFO : optimized alpha [0.011367376, 0.011886215, 0.011845591, 0.0111317905, 0.012515177, 0.011902768, 0.012177972, 0.01208298, 0.0120395925, 0.010149934, 0.013952032, 0.0116248615, 0.01176092, 0.010864988, 0.011783007, 0.011258812, 0.027695362, 0.010899327, 0.010356641, 0.011192894, 0.012169682, 0.011572319, 0.012110992, 0.010890603, 0.011278725, 0.011339953, 0.010727722, 0.010466089, 0.010808063, 0.010639775, 0.012961623, 0.009959988, 0.010869468, 0.011400059, 0.011814453, 0.010220475, 0.013069408, 0.011833529, 0.010058763, 0.0105858985, 0.010044641, 0.011659809, 0.012711885, 0.011168566, 0.010917199, 0.010253813, 0.013233813, 0.012053596, 0.0113625135, 0.013312418, 0.010235995, 0.010828213, 0.011428422, 0.009920408, 0.0131097175, 0.010618038, 0.012561616, 0.011649079, 0.01147731, 0.011771574, 0.0110854395, 0.007961733, 0.013027645, 0.011622042, 0.011454109, 0.011845278, 0.012050991, 0.01155272, 0.011098386, 0.010246123, 0.010474898, 0.0114215985, 0.011225602, 0.011335828, 0.011672513, 0.010888658, 0.011874028, 0.012316105, 0.011615591, 0.012449882, 0.010927253, 0.0113355955, 0.010254366, 0.010662555, 0.011519065, 0.0106897075, 0.011075251, 0.011441939, 0.012074504, 0.01281983, 0.0101343375, 0.01086529, 0.0104635935, 0.011258823, 0.011109643, 0.010313004, 0.012052722, 0.011958867, 0.01057802, 0.010654144]\n",
      "2022-02-28 16:06:17,493 : INFO : merging changes from 2000 documents into a model of 3204 documents\n",
      "2022-02-28 16:06:17,500 : INFO : topic #61 (0.008): 0.001*\"implic\" + 0.001*\"favor\" + 0.001*\"adapt\" + 0.001*\"polygon\" + 0.001*\"stage\" + 0.001*\"situat\" + 0.001*\"respons\" + 0.001*\"industri\" + 0.001*\"regress\" + 0.001*\"drive\"\n",
      "2022-02-28 16:06:17,501 : INFO : topic #53 (0.010): 0.157*\"-\" + 0.089*\"question\" + 0.065*\"answer\" + 0.032*\"larg\" + 0.031*\"driven\" + 0.026*\"applic\" + 0.025*\"dimension\" + 0.024*\"system\" + 0.024*\"english\" + 0.020*\",\"\n",
      "2022-02-28 16:06:17,502 : INFO : topic #49 (0.013): 0.273*\"data\" + 0.133*\"process\" + 0.133*\"structur\" + 0.076*\"system\" + 0.049*\"organ\" + 0.048*\"inform\" + 0.041*\"mechan\" + 0.018*\"approach\" + 0.015*\"concept\" + 0.014*\"program\"\n",
      "2022-02-28 16:06:17,503 : INFO : topic #10 (0.014): 0.236*\"[\" + 0.211*\"algorithm\" + 0.204*\"])\" + 0.195*\"(\" + 0.030*\"root\" + 0.022*\"polynomi\" + 0.020*\"matrix\" + 0.018*\"-\" + 0.013*\"symmetr\" + 0.012*\"f1\"\n",
      "2022-02-28 16:06:17,504 : INFO : topic #16 (0.028): 0.334*\"(\" + 0.323*\")\" + 0.222*\"algorithm\" + 0.013*\"corrigendum\" + 0.012*\"interpol\" + 0.012*\"complex\" + 0.009*\"polynomi\" + 0.009*\"-\" + 0.007*\"function\" + 0.007*\"zero\"\n",
      "2022-02-28 16:06:17,505 : INFO : topic diff=0.432577, rho=0.307119\n",
      "2022-02-28 16:06:18,527 : INFO : -6.523 per-word bound, 92.0 perplexity estimate based on a held-out corpus of 1204 documents with 49783 words\n",
      "2022-02-28 16:06:18,527 : INFO : PROGRESS: pass 8, at document #3204/3204\n",
      "2022-02-28 16:06:19,436 : INFO : optimized alpha [0.011543379, 0.012124547, 0.011973773, 0.011305566, 0.012685578, 0.012003863, 0.012332813, 0.012341236, 0.012253615, 0.010217461, 0.0138386255, 0.011697614, 0.011876957, 0.011028951, 0.011869665, 0.011441708, 0.029380366, 0.011039346, 0.010438679, 0.011361067, 0.012448057, 0.011803274, 0.012288245, 0.011030749, 0.011436081, 0.01148508, 0.010777317, 0.010571791, 0.010910511, 0.01079084, 0.0132899, 0.010020884, 0.0109978225, 0.011623472, 0.011944683, 0.010287704, 0.013331039, 0.012038424, 0.010156934, 0.010698484, 0.010099602, 0.011847557, 0.01296616, 0.011209239, 0.011067313, 0.010342377, 0.0134545155, 0.012378085, 0.011540867, 0.013700004, 0.010350182, 0.0109820105, 0.011563438, 0.0099531915, 0.013307644, 0.010731112, 0.012865078, 0.011822854, 0.011602994, 0.011976493, 0.011225927, 0.007891741, 0.013222632, 0.011735593, 0.01176012, 0.012045429, 0.012274886, 0.011728991, 0.011202754, 0.010329918, 0.010581598, 0.011610003, 0.011388914, 0.011460772, 0.011838867, 0.011018206, 0.012084376, 0.012615943, 0.011762067, 0.0127336895, 0.011038927, 0.011508693, 0.010361571, 0.010790502, 0.011737448, 0.010803902, 0.011217798, 0.01159944, 0.012291797, 0.013056932, 0.010210138, 0.010950117, 0.010548821, 0.011433378, 0.011202339, 0.010372954, 0.012292044, 0.0122776665, 0.010776142, 0.010779469]\n",
      "2022-02-28 16:06:19,443 : INFO : merging changes from 1204 documents into a model of 3204 documents\n",
      "2022-02-28 16:06:19,450 : INFO : topic #61 (0.008): 0.001*\"implic\" + 0.001*\"favor\" + 0.001*\"adapt\" + 0.001*\"polygon\" + 0.001*\"stage\" + 0.001*\"situat\" + 0.001*\"respons\" + 0.001*\"industri\" + 0.001*\"regress\" + 0.001*\"drive\"\n",
      "2022-02-28 16:06:19,450 : INFO : topic #53 (0.010): 0.163*\"-\" + 0.090*\"question\" + 0.067*\"answer\" + 0.039*\"driven\" + 0.031*\"larg\" + 0.030*\"applic\" + 0.025*\"system\" + 0.022*\"english\" + 0.022*\"dimension\" + 0.022*\"dimens\"\n",
      "2022-02-28 16:06:19,452 : INFO : topic #49 (0.014): 0.284*\"data\" + 0.149*\"structur\" + 0.123*\"process\" + 0.075*\"system\" + 0.048*\"organ\" + 0.045*\"inform\" + 0.041*\"mechan\" + 0.019*\"approach\" + 0.015*\"concept\" + 0.013*\"program\"\n",
      "2022-02-28 16:06:19,454 : INFO : topic #10 (0.014): 0.234*\"[\" + 0.213*\"algorithm\" + 0.192*\"(\" + 0.188*\"])\" + 0.034*\"root\" + 0.023*\"polynomi\" + 0.022*\"matrix\" + 0.019*\"-\" + 0.016*\"m1\" + 0.015*\"symmetr\"\n",
      "2022-02-28 16:06:19,455 : INFO : topic #16 (0.029): 0.337*\"(\" + 0.322*\")\" + 0.218*\"algorithm\" + 0.016*\"corrigendum\" + 0.013*\"complex\" + 0.013*\"interpol\" + 0.009*\"-\" + 0.008*\"polynomi\" + 0.007*\"bound\" + 0.007*\"zero\"\n",
      "2022-02-28 16:06:19,455 : INFO : topic diff=0.433210, rho=0.307119\n",
      "2022-02-28 16:06:19,467 : INFO : PROGRESS: pass 9, at document #2000/3204\n",
      "2022-02-28 16:06:20,535 : INFO : optimized alpha [0.011535511, 0.012107438, 0.0121365115, 0.011319704, 0.012847583, 0.012166408, 0.012548474, 0.0123473685, 0.012437272, 0.0102518145, 0.0142610995, 0.011854441, 0.011986738, 0.011034821, 0.012083021, 0.011490968, 0.031059101, 0.011088727, 0.010506885, 0.011339648, 0.012524158, 0.011824456, 0.012352501, 0.011067006, 0.011462787, 0.011570341, 0.010849639, 0.010575657, 0.010894975, 0.010819364, 0.013305335, 0.010041621, 0.011021757, 0.0116112605, 0.012086245, 0.010289729, 0.013643922, 0.012068912, 0.010170463, 0.010675164, 0.01012691, 0.011839656, 0.013139185, 0.011348339, 0.01105079, 0.010308683, 0.013714125, 0.012552606, 0.011577057, 0.013895887, 0.0103622, 0.010997369, 0.011706569, 0.009959649, 0.0134669775, 0.010788818, 0.012934734, 0.011902115, 0.011636511, 0.011974469, 0.011209154, 0.007839839, 0.013467436, 0.011815196, 0.011813698, 0.012081447, 0.012305865, 0.011743265, 0.01132714, 0.010339704, 0.010573311, 0.0116707515, 0.011445626, 0.011516347, 0.011876005, 0.011033633, 0.012133348, 0.012581473, 0.011809609, 0.012815447, 0.011040601, 0.011521908, 0.010349329, 0.010811951, 0.011701619, 0.010826842, 0.011282658, 0.011614717, 0.012415292, 0.013256328, 0.010208336, 0.010993405, 0.0105969785, 0.011461958, 0.0112849055, 0.01036863, 0.012367057, 0.012294192, 0.010832336, 0.01086356]\n",
      "2022-02-28 16:06:20,542 : INFO : merging changes from 2000 documents into a model of 3204 documents\n",
      "2022-02-28 16:06:20,549 : INFO : topic #61 (0.008): 0.001*\"implic\" + 0.001*\"favor\" + 0.001*\"adapt\" + 0.001*\"polygon\" + 0.001*\"stage\" + 0.001*\"situat\" + 0.001*\"respons\" + 0.001*\"industri\" + 0.001*\"regress\" + 0.001*\"drive\"\n",
      "2022-02-28 16:06:20,552 : INFO : topic #53 (0.010): 0.161*\"-\" + 0.094*\"question\" + 0.066*\"answer\" + 0.033*\"larg\" + 0.031*\"driven\" + 0.029*\"applic\" + 0.024*\"english\" + 0.023*\"dimension\" + 0.023*\"system\" + 0.020*\"gener\"\n",
      "2022-02-28 16:06:20,552 : INFO : topic #49 (0.014): 0.283*\"data\" + 0.139*\"structur\" + 0.134*\"process\" + 0.076*\"system\" + 0.048*\"organ\" + 0.047*\"inform\" + 0.040*\"mechan\" + 0.017*\"approach\" + 0.015*\"concept\" + 0.013*\"program\"\n",
      "2022-02-28 16:06:20,553 : INFO : topic #10 (0.014): 0.234*\"[\" + 0.213*\"algorithm\" + 0.205*\"])\" + 0.198*\"(\" + 0.031*\"root\" + 0.022*\"polynomi\" + 0.018*\"-\" + 0.017*\"matrix\" + 0.013*\"symmetr\" + 0.012*\"f1\"\n",
      "2022-02-28 16:06:20,554 : INFO : topic #16 (0.031): 0.337*\"(\" + 0.325*\")\" + 0.222*\"algorithm\" + 0.012*\"corrigendum\" + 0.012*\"complex\" + 0.012*\"interpol\" + 0.009*\"polynomi\" + 0.009*\"-\" + 0.007*\"zero\" + 0.006*\"exponenti\"\n",
      "2022-02-28 16:06:20,555 : INFO : topic diff=0.374800, rho=0.293585\n",
      "2022-02-28 16:06:21,991 : INFO : -6.508 per-word bound, 91.0 perplexity estimate based on a held-out corpus of 1204 documents with 49783 words\n",
      "2022-02-28 16:06:21,991 : INFO : PROGRESS: pass 9, at document #3204/3204\n",
      "2022-02-28 16:06:22,862 : INFO : optimized alpha [0.011705457, 0.01234119, 0.012256853, 0.0114848595, 0.013015223, 0.01226924, 0.012703742, 0.012607106, 0.012654143, 0.010326928, 0.014147559, 0.011926707, 0.012098428, 0.011206801, 0.012162659, 0.011681958, 0.032832187, 0.011221213, 0.010588451, 0.011507664, 0.0128015755, 0.012051278, 0.012523725, 0.011202237, 0.0116317365, 0.011707551, 0.010897267, 0.010682803, 0.01099394, 0.010975959, 0.013614571, 0.010097962, 0.011145665, 0.01183333, 0.012217539, 0.01035721, 0.013915413, 0.012264256, 0.010267651, 0.010781093, 0.010192456, 0.012015283, 0.013389473, 0.011389712, 0.011198396, 0.010401888, 0.013927751, 0.012923615, 0.011752468, 0.014310784, 0.010482593, 0.011151396, 0.011839606, 0.009991639, 0.013651511, 0.010900587, 0.013242556, 0.012067191, 0.011760617, 0.012181554, 0.011344765, 0.007775552, 0.013645864, 0.011930333, 0.012130182, 0.012278086, 0.012531689, 0.01191642, 0.011430261, 0.010420542, 0.010676262, 0.011855932, 0.01160901, 0.011648006, 0.012036707, 0.011161348, 0.012342868, 0.012869335, 0.011950984, 0.013104131, 0.011145688, 0.011689177, 0.010465473, 0.010930101, 0.011912774, 0.010942282, 0.011431375, 0.011769646, 0.01263522, 0.013502711, 0.010291558, 0.01109687, 0.010676457, 0.01163334, 0.0113796815, 0.0104241315, 0.012611328, 0.012607671, 0.0110592805, 0.010984575]\n",
      "2022-02-28 16:06:22,869 : INFO : merging changes from 1204 documents into a model of 3204 documents\n",
      "2022-02-28 16:06:22,875 : INFO : topic #61 (0.008): 0.001*\"implic\" + 0.001*\"favor\" + 0.001*\"adapt\" + 0.001*\"polygon\" + 0.001*\"stage\" + 0.001*\"situat\" + 0.001*\"respons\" + 0.001*\"industri\" + 0.001*\"regress\" + 0.001*\"drive\"\n",
      "2022-02-28 16:06:22,877 : INFO : topic #53 (0.010): 0.166*\"-\" + 0.095*\"question\" + 0.068*\"answer\" + 0.039*\"driven\" + 0.032*\"applic\" + 0.032*\"larg\" + 0.024*\"system\" + 0.023*\"english\" + 0.022*\"dimens\" + 0.021*\"dimension\"\n",
      "2022-02-28 16:06:22,878 : INFO : topic #10 (0.014): 0.232*\"[\" + 0.214*\"algorithm\" + 0.195*\"(\" + 0.190*\"])\" + 0.035*\"root\" + 0.023*\"polynomi\" + 0.019*\"matrix\" + 0.019*\"-\" + 0.017*\"m1\" + 0.014*\"f1\"\n",
      "2022-02-28 16:06:22,880 : INFO : topic #49 (0.014): 0.293*\"data\" + 0.155*\"structur\" + 0.124*\"process\" + 0.074*\"system\" + 0.047*\"organ\" + 0.045*\"inform\" + 0.039*\"mechan\" + 0.018*\"approach\" + 0.015*\"concept\" + 0.013*\"paper\"\n",
      "2022-02-28 16:06:22,881 : INFO : topic #16 (0.033): 0.339*\"(\" + 0.324*\")\" + 0.219*\"algorithm\" + 0.015*\"corrigendum\" + 0.013*\"complex\" + 0.012*\"interpol\" + 0.009*\"-\" + 0.008*\"polynomi\" + 0.007*\"zero\" + 0.007*\"bound\"\n",
      "2022-02-28 16:06:22,883 : INFO : topic diff=0.377424, rho=0.293585\n",
      "2022-02-28 16:06:22,890 : INFO : PROGRESS: pass 10, at document #2000/3204\n",
      "2022-02-28 16:06:23,891 : INFO : optimized alpha [0.0116991615, 0.012325438, 0.012431019, 0.01149654, 0.013169219, 0.012427435, 0.0129163535, 0.012615551, 0.012842538, 0.01036026, 0.014564534, 0.012080811, 0.0122100115, 0.011207248, 0.01236239, 0.01173411, 0.034623295, 0.011276837, 0.010654554, 0.011488295, 0.012882139, 0.012072753, 0.0125820525, 0.011238685, 0.011652244, 0.011788362, 0.010970465, 0.0106926495, 0.01098387, 0.011004819, 0.013627754, 0.010119761, 0.011165549, 0.011825708, 0.012360203, 0.010360956, 0.014242017, 0.012294933, 0.010288033, 0.010758804, 0.010227681, 0.0120072765, 0.013559862, 0.0115264375, 0.011183809, 0.010375738, 0.014184042, 0.013114861, 0.011792083, 0.014520413, 0.010507421, 0.01117074, 0.0119805075, 0.009997006, 0.013804376, 0.010964216, 0.013308845, 0.012145493, 0.011809953, 0.012189341, 0.011325282, 0.007727724, 0.013872145, 0.012009079, 0.012191367, 0.0123157725, 0.0125591, 0.011931459, 0.011557628, 0.010428731, 0.010672963, 0.011919468, 0.011671785, 0.011703286, 0.012084453, 0.011179365, 0.012391356, 0.012830776, 0.011996745, 0.013184472, 0.011152173, 0.01170661, 0.010456659, 0.010953841, 0.011879197, 0.010969021, 0.011494036, 0.011787477, 0.012749676, 0.013697497, 0.010291524, 0.011145162, 0.010727693, 0.011660516, 0.011459695, 0.010421922, 0.012683374, 0.012629219, 0.011118015, 0.011072321]\n",
      "2022-02-28 16:06:23,898 : INFO : merging changes from 2000 documents into a model of 3204 documents\n",
      "2022-02-28 16:06:23,906 : INFO : topic #61 (0.008): 0.001*\"implic\" + 0.001*\"favor\" + 0.001*\"adapt\" + 0.001*\"polygon\" + 0.001*\"stage\" + 0.001*\"situat\" + 0.001*\"respons\" + 0.001*\"industri\" + 0.001*\"regress\" + 0.001*\"drive\"\n",
      "2022-02-28 16:06:23,906 : INFO : topic #53 (0.010): 0.164*\"-\" + 0.099*\"question\" + 0.068*\"answer\" + 0.034*\"larg\" + 0.032*\"driven\" + 0.031*\"applic\" + 0.025*\"english\" + 0.022*\"system\" + 0.022*\"dimension\" + 0.020*\"dimens\"\n",
      "2022-02-28 16:06:23,908 : INFO : topic #49 (0.015): 0.292*\"data\" + 0.144*\"structur\" + 0.135*\"process\" + 0.076*\"system\" + 0.047*\"organ\" + 0.047*\"inform\" + 0.038*\"mechan\" + 0.016*\"approach\" + 0.015*\"concept\" + 0.012*\"program\"\n",
      "2022-02-28 16:06:23,909 : INFO : topic #10 (0.015): 0.233*\"[\" + 0.214*\"algorithm\" + 0.206*\"])\" + 0.199*\"(\" + 0.031*\"root\" + 0.022*\"polynomi\" + 0.018*\"-\" + 0.016*\"matrix\" + 0.012*\"m1\" + 0.012*\"f1\"\n",
      "2022-02-28 16:06:23,910 : INFO : topic #16 (0.035): 0.339*\"(\" + 0.326*\")\" + 0.222*\"algorithm\" + 0.013*\"complex\" + 0.012*\"corrigendum\" + 0.012*\"interpol\" + 0.009*\"polynomi\" + 0.009*\"-\" + 0.007*\"zero\" + 0.006*\"exponenti\"\n",
      "2022-02-28 16:06:23,911 : INFO : topic diff=0.326289, rho=0.281696\n",
      "2022-02-28 16:06:24,927 : INFO : -6.496 per-word bound, 90.3 perplexity estimate based on a held-out corpus of 1204 documents with 49783 words\n",
      "2022-02-28 16:06:24,927 : INFO : PROGRESS: pass 10, at document #3204/3204\n",
      "2022-02-28 16:06:25,764 : INFO : optimized alpha [0.011858422, 0.012561269, 0.012547047, 0.011662042, 0.013331567, 0.01252932, 0.013072531, 0.012868477, 0.01305688, 0.010449846, 0.0144542325, 0.012152821, 0.012323626, 0.011384748, 0.012438555, 0.011933459, 0.03642144, 0.011405178, 0.010740848, 0.011648349, 0.013150091, 0.012304724, 0.012744992, 0.011374937, 0.01181618, 0.01192405, 0.011016338, 0.010796391, 0.011090234, 0.011159319, 0.013925802, 0.01018632, 0.011285591, 0.012049967, 0.012501491, 0.010431229, 0.014517389, 0.012493125, 0.010384534, 0.010871512, 0.010300777, 0.012171832, 0.013810275, 0.011571327, 0.01131882, 0.010470936, 0.014397796, 0.013490817, 0.011962263, 0.014930066, 0.01062657, 0.011328008, 0.012117519, 0.010028368, 0.013999414, 0.01108283, 0.013615583, 0.012319815, 0.011938673, 0.012390496, 0.011475512, 0.007668325, 0.01405131, 0.012117568, 0.012510499, 0.012518312, 0.012775652, 0.012102126, 0.011665265, 0.010502132, 0.010777669, 0.012107893, 0.011835637, 0.011830793, 0.012248777, 0.011303041, 0.012597847, 0.013104762, 0.012136418, 0.0134633295, 0.011267047, 0.011868732, 0.01056668, 0.011075932, 0.012098061, 0.011085894, 0.011632715, 0.011934722, 0.012975854, 0.013953666, 0.01037216, 0.011232067, 0.010807045, 0.011821174, 0.011548559, 0.0104783075, 0.012930266, 0.0129383365, 0.011355251, 0.011207732]\n",
      "2022-02-28 16:06:25,773 : INFO : merging changes from 1204 documents into a model of 3204 documents\n",
      "2022-02-28 16:06:25,779 : INFO : topic #61 (0.008): 0.001*\"implic\" + 0.001*\"favor\" + 0.001*\"adapt\" + 0.001*\"polygon\" + 0.001*\"stage\" + 0.001*\"situat\" + 0.001*\"respons\" + 0.001*\"industri\" + 0.001*\"regress\" + 0.001*\"drive\"\n",
      "2022-02-28 16:06:25,782 : INFO : topic #53 (0.010): 0.169*\"-\" + 0.099*\"question\" + 0.069*\"answer\" + 0.039*\"driven\" + 0.034*\"applic\" + 0.033*\"larg\" + 0.023*\"english\" + 0.023*\"system\" + 0.022*\"dimens\" + 0.020*\"dimension\"\n",
      "2022-02-28 16:06:25,783 : INFO : topic #36 (0.015): 0.246*\"function\" + 0.100*\"approxim\" + 0.077*\"variabl\" + 0.045*\",\" + 0.040*\"routin\" + 0.033*\"method\" + 0.031*\"polynomi\" + 0.030*\"multipl\" + 0.025*\"ration\" + 0.023*\"modifi\"\n",
      "2022-02-28 16:06:25,785 : INFO : topic #49 (0.015): 0.302*\"data\" + 0.159*\"structur\" + 0.125*\"process\" + 0.073*\"system\" + 0.046*\"organ\" + 0.044*\"inform\" + 0.037*\"mechan\" + 0.017*\"approach\" + 0.015*\"concept\" + 0.013*\"paper\"\n",
      "2022-02-28 16:06:25,786 : INFO : topic #16 (0.036): 0.341*\"(\" + 0.325*\")\" + 0.219*\"algorithm\" + 0.015*\"corrigendum\" + 0.014*\"complex\" + 0.012*\"interpol\" + 0.009*\"-\" + 0.008*\"polynomi\" + 0.007*\"zero\" + 0.006*\"bound\"\n",
      "2022-02-28 16:06:25,787 : INFO : topic diff=0.330734, rho=0.281696\n",
      "2022-02-28 16:06:25,795 : INFO : PROGRESS: pass 11, at document #2000/3204\n",
      "2022-02-28 16:06:26,675 : INFO : optimized alpha [0.011856861, 0.012548474, 0.012720692, 0.0116840685, 0.013483551, 0.0126870265, 0.01327917, 0.012879085, 0.01324675, 0.01048077, 0.014858909, 0.012304682, 0.012428796, 0.011386229, 0.012633828, 0.011985298, 0.038268816, 0.0114576025, 0.010803669, 0.011635622, 0.013229602, 0.012333159, 0.012806488, 0.011410097, 0.011837316, 0.0119992625, 0.011091955, 0.010804519, 0.011080696, 0.011188528, 0.013931346, 0.010207635, 0.011312503, 0.012043378, 0.012645679, 0.010436622, 0.014836652, 0.0125205945, 0.010404279, 0.010854556, 0.010337875, 0.012163796, 0.013980353, 0.011704531, 0.011306106, 0.010448752, 0.014651355, 0.013688017, 0.012005265, 0.015137718, 0.010662157, 0.011351051, 0.012259931, 0.010035458, 0.014148308, 0.011144584, 0.013673138, 0.012397365, 0.011996376, 0.012388981, 0.011456504, 0.0076240245, 0.014274983, 0.012192498, 0.012584385, 0.012554342, 0.012796305, 0.012116296, 0.011794159, 0.010513224, 0.010774592, 0.012174202, 0.0118996175, 0.0118795335, 0.012299932, 0.011329744, 0.012649605, 0.013067821, 0.012183956, 0.013536979, 0.01127486, 0.011890248, 0.010563976, 0.011100397, 0.012064744, 0.011110227, 0.0117107965, 0.011956631, 0.013095876, 0.014146229, 0.010375205, 0.011285224, 0.010862751, 0.011847184, 0.011627883, 0.010472328, 0.013006624, 0.012959544, 0.011424224, 0.011297657]\n",
      "2022-02-28 16:06:26,686 : INFO : merging changes from 2000 documents into a model of 3204 documents\n",
      "2022-02-28 16:06:26,694 : INFO : topic #61 (0.008): 0.001*\"implic\" + 0.001*\"favor\" + 0.001*\"adapt\" + 0.001*\"polygon\" + 0.001*\"stage\" + 0.001*\"situat\" + 0.001*\"respons\" + 0.001*\"industri\" + 0.001*\"regress\" + 0.001*\"drive\"\n",
      "2022-02-28 16:06:26,695 : INFO : topic #53 (0.010): 0.167*\"-\" + 0.102*\"question\" + 0.068*\"answer\" + 0.035*\"larg\" + 0.033*\"applic\" + 0.032*\"driven\" + 0.025*\"english\" + 0.022*\"system\" + 0.022*\"dimension\" + 0.021*\"dimens\"\n",
      "2022-02-28 16:06:26,699 : INFO : topic #10 (0.015): 0.232*\"[\" + 0.216*\"algorithm\" + 0.206*\"])\" + 0.201*\"(\" + 0.032*\"root\" + 0.021*\"polynomi\" + 0.018*\"-\" + 0.015*\"matrix\" + 0.012*\"m1\" + 0.012*\"f1\"\n",
      "2022-02-28 16:06:26,702 : INFO : topic #49 (0.015): 0.302*\"data\" + 0.148*\"structur\" + 0.135*\"process\" + 0.075*\"system\" + 0.046*\"organ\" + 0.046*\"inform\" + 0.035*\"mechan\" + 0.016*\"approach\" + 0.016*\"concept\" + 0.012*\"paper\"\n",
      "2022-02-28 16:06:26,704 : INFO : topic #16 (0.038): 0.341*\"(\" + 0.327*\")\" + 0.223*\"algorithm\" + 0.013*\"complex\" + 0.012*\"corrigendum\" + 0.012*\"interpol\" + 0.009*\"polynomi\" + 0.008*\"-\" + 0.007*\"zero\" + 0.006*\"exponenti\"\n",
      "2022-02-28 16:06:26,705 : INFO : topic diff=0.286899, rho=0.271143\n",
      "2022-02-28 16:06:27,807 : INFO : -6.484 per-word bound, 89.5 perplexity estimate based on a held-out corpus of 1204 documents with 49783 words\n",
      "2022-02-28 16:06:27,807 : INFO : PROGRESS: pass 11, at document #3204/3204\n",
      "2022-02-28 16:06:28,733 : INFO : optimized alpha [0.012011571, 0.012784114, 0.01282995, 0.011850371, 0.013635049, 0.012788087, 0.013430555, 0.013137713, 0.013458848, 0.010565421, 0.014744878, 0.012373861, 0.012533111, 0.011561544, 0.012709675, 0.012185111, 0.04008495, 0.011584923, 0.010889809, 0.011788535, 0.013500982, 0.012568033, 0.012967667, 0.011542471, 0.011999486, 0.012133746, 0.011133735, 0.010905277, 0.011176427, 0.011338895, 0.014222108, 0.0102676535, 0.0114315925, 0.0122648515, 0.012788542, 0.010502562, 0.015099802, 0.012713585, 0.010495615, 0.010968956, 0.010413511, 0.012320849, 0.014225015, 0.0117449155, 0.0114474585, 0.010548331, 0.014862446, 0.014075834, 0.012178979, 0.015542558, 0.010794848, 0.01151182, 0.01239567, 0.010063916, 0.014338026, 0.011262405, 0.013973251, 0.012575399, 0.012118542, 0.012584872, 0.011610407, 0.0075688553, 0.014448856, 0.012297639, 0.01291854, 0.012751709, 0.013010112, 0.012282221, 0.011906399, 0.010591633, 0.010878687, 0.01235507, 0.012064314, 0.012011373, 0.012465417, 0.011449869, 0.012853668, 0.013340794, 0.012316816, 0.013812808, 0.01139656, 0.012056041, 0.010678009, 0.011218956, 0.012280516, 0.011218686, 0.011864057, 0.012107846, 0.0133138755, 0.014403146, 0.010458254, 0.011374724, 0.010944555, 0.012000664, 0.0117192, 0.01052723, 0.013253777, 0.013256502, 0.011674984, 0.011431884]\n",
      "2022-02-28 16:06:28,742 : INFO : merging changes from 1204 documents into a model of 3204 documents\n",
      "2022-02-28 16:06:28,749 : INFO : topic #61 (0.008): 0.001*\"implic\" + 0.001*\"favor\" + 0.001*\"adapt\" + 0.001*\"polygon\" + 0.001*\"stage\" + 0.001*\"situat\" + 0.001*\"respons\" + 0.001*\"industri\" + 0.001*\"regress\" + 0.001*\"drive\"\n",
      "2022-02-28 16:06:28,751 : INFO : topic #53 (0.010): 0.169*\"-\" + 0.103*\"question\" + 0.070*\"answer\" + 0.040*\"driven\" + 0.035*\"applic\" + 0.034*\"larg\" + 0.024*\"english\" + 0.023*\"dimens\" + 0.022*\"system\" + 0.020*\"gener\"\n",
      "2022-02-28 16:06:28,752 : INFO : topic #36 (0.015): 0.254*\"function\" + 0.100*\"approxim\" + 0.078*\"variabl\" + 0.044*\",\" + 0.041*\"routin\" + 0.033*\"method\" + 0.032*\"polynomi\" + 0.030*\"multipl\" + 0.025*\"ration\" + 0.023*\"modifi\"\n",
      "2022-02-28 16:06:28,753 : INFO : topic #49 (0.016): 0.313*\"data\" + 0.161*\"structur\" + 0.125*\"process\" + 0.073*\"system\" + 0.045*\"organ\" + 0.044*\"inform\" + 0.034*\"mechan\" + 0.016*\"approach\" + 0.016*\"concept\" + 0.013*\"paper\"\n",
      "2022-02-28 16:06:28,754 : INFO : topic #16 (0.040): 0.344*\"(\" + 0.327*\")\" + 0.219*\"algorithm\" + 0.015*\"corrigendum\" + 0.014*\"complex\" + 0.012*\"interpol\" + 0.009*\"-\" + 0.008*\"polynomi\" + 0.007*\"zero\" + 0.006*\"exponenti\"\n",
      "2022-02-28 16:06:28,755 : INFO : topic diff=0.293173, rho=0.271143\n",
      "2022-02-28 16:06:28,763 : INFO : PROGRESS: pass 12, at document #2000/3204\n",
      "2022-02-28 16:06:29,670 : INFO : optimized alpha [0.0120145725, 0.012767333, 0.013008507, 0.0118668, 0.013781738, 0.012940638, 0.013633388, 0.013145253, 0.013650542, 0.0105969235, 0.0151401665, 0.012523869, 0.012634051, 0.011559528, 0.012911099, 0.012241462, 0.042014826, 0.01164046, 0.010950994, 0.0117744515, 0.013577855, 0.0126031935, 0.013027292, 0.011578066, 0.012019736, 0.012206922, 0.011208965, 0.01091611, 0.011171826, 0.011369955, 0.014222271, 0.010293997, 0.011460756, 0.012254445, 0.012937937, 0.010508088, 0.015425769, 0.01273809, 0.010516256, 0.010958367, 0.0104483105, 0.012312831, 0.014389519, 0.0118749915, 0.0114350235, 0.010528402, 0.015111768, 0.014279539, 0.0122268405, 0.015752634, 0.010833597, 0.011543042, 0.012535023, 0.010068613, 0.014489067, 0.01132545, 0.014028097, 0.012658941, 0.012176393, 0.012587903, 0.011594783, 0.007527621, 0.014670392, 0.012380243, 0.012993133, 0.01278959, 0.013034589, 0.012295732, 0.012041749, 0.010603969, 0.010875799, 0.012421066, 0.012126363, 0.012064933, 0.012521549, 0.011477303, 0.01290689, 0.013301759, 0.012364455, 0.013887384, 0.011414624, 0.012081447, 0.010674018, 0.011244167, 0.012245797, 0.011248236, 0.011940106, 0.012127297, 0.013429175, 0.014607004, 0.01046412, 0.011435641, 0.011003162, 0.012022517, 0.011799516, 0.010524662, 0.013325785, 0.013282767, 0.011741825, 0.011525619]\n",
      "2022-02-28 16:06:29,677 : INFO : merging changes from 2000 documents into a model of 3204 documents\n",
      "2022-02-28 16:06:29,683 : INFO : topic #61 (0.008): 0.001*\"implic\" + 0.001*\"favor\" + 0.001*\"adapt\" + 0.001*\"polygon\" + 0.001*\"stage\" + 0.001*\"situat\" + 0.001*\"respons\" + 0.001*\"industri\" + 0.001*\"regress\" + 0.001*\"drive\"\n",
      "2022-02-28 16:06:29,684 : INFO : topic #53 (0.010): 0.166*\"-\" + 0.107*\"question\" + 0.070*\"answer\" + 0.035*\"larg\" + 0.034*\"applic\" + 0.033*\"driven\" + 0.026*\"english\" + 0.022*\"dimens\" + 0.021*\"system\" + 0.020*\"dimension\"\n",
      "2022-02-28 16:06:29,685 : INFO : topic #36 (0.015): 0.254*\"function\" + 0.097*\"approxim\" + 0.074*\"variabl\" + 0.043*\",\" + 0.041*\"routin\" + 0.036*\"polynomi\" + 0.036*\"method\" + 0.028*\"multipl\" + 0.025*\"ration\" + 0.022*\"modifi\"\n",
      "2022-02-28 16:06:29,686 : INFO : topic #49 (0.016): 0.311*\"data\" + 0.152*\"structur\" + 0.134*\"process\" + 0.074*\"system\" + 0.046*\"inform\" + 0.045*\"organ\" + 0.032*\"mechan\" + 0.016*\"concept\" + 0.015*\"approach\" + 0.012*\"paper\"\n",
      "2022-02-28 16:06:29,687 : INFO : topic #16 (0.042): 0.343*\"(\" + 0.328*\")\" + 0.223*\"algorithm\" + 0.014*\"complex\" + 0.012*\"corrigendum\" + 0.012*\"interpol\" + 0.009*\"polynomi\" + 0.008*\"-\" + 0.007*\"zero\" + 0.006*\"exponenti\"\n",
      "2022-02-28 16:06:29,688 : INFO : topic diff=0.255339, rho=0.261694\n",
      "2022-02-28 16:06:30,715 : INFO : -6.472 per-word bound, 88.8 perplexity estimate based on a held-out corpus of 1204 documents with 49783 words\n",
      "2022-02-28 16:06:30,716 : INFO : PROGRESS: pass 12, at document #3204/3204\n",
      "2022-02-28 16:06:31,437 : INFO : optimized alpha [0.012167954, 0.01300325, 0.013114247, 0.012026401, 0.013935041, 0.013038468, 0.013780559, 0.013407024, 0.013866909, 0.010679254, 0.015019252, 0.012590503, 0.012732656, 0.01172806, 0.01298118, 0.012447559, 0.043872803, 0.011766992, 0.011029993, 0.011923414, 0.013844144, 0.012833123, 0.013181368, 0.011709469, 0.012183233, 0.012337841, 0.011249465, 0.011014198, 0.011260079, 0.011519045, 0.014512796, 0.010354715, 0.011579229, 0.012484318, 0.013085437, 0.010572373, 0.015693733, 0.012920822, 0.010616533, 0.011069736, 0.010519626, 0.012465673, 0.014632091, 0.0119112, 0.011572697, 0.010627678, 0.015317403, 0.014676972, 0.012401622, 0.016173646, 0.010965358, 0.011705029, 0.01266981, 0.010096644, 0.014667396, 0.011450086, 0.014322278, 0.012838334, 0.012300818, 0.012776233, 0.011734531, 0.0074761473, 0.014839269, 0.012482407, 0.013331518, 0.012979513, 0.013246096, 0.012454753, 0.012161275, 0.010684923, 0.010979524, 0.012611204, 0.0122817345, 0.012188072, 0.012693952, 0.01159171, 0.01311197, 0.013571551, 0.012493773, 0.014154689, 0.011535648, 0.012251074, 0.010789733, 0.011369409, 0.012451029, 0.011356188, 0.012092255, 0.012277396, 0.013648172, 0.014858736, 0.010544945, 0.011520134, 0.011077886, 0.012177267, 0.011890816, 0.010585223, 0.013573575, 0.013577042, 0.011990829, 0.0116716055]\n",
      "2022-02-28 16:06:31,442 : INFO : merging changes from 1204 documents into a model of 3204 documents\n",
      "2022-02-28 16:06:31,449 : INFO : topic #61 (0.007): 0.001*\"implic\" + 0.001*\"favor\" + 0.001*\"adapt\" + 0.001*\"polygon\" + 0.001*\"stage\" + 0.001*\"situat\" + 0.001*\"respons\" + 0.001*\"industri\" + 0.001*\"regress\" + 0.001*\"drive\"\n",
      "2022-02-28 16:06:31,450 : INFO : topic #53 (0.010): 0.169*\"-\" + 0.107*\"question\" + 0.072*\"answer\" + 0.040*\"driven\" + 0.036*\"applic\" + 0.034*\"larg\" + 0.024*\"english\" + 0.023*\"dimens\" + 0.022*\"system\" + 0.020*\"gener\"\n",
      "2022-02-28 16:06:31,450 : INFO : topic #36 (0.016): 0.261*\"function\" + 0.099*\"approxim\" + 0.079*\"variabl\" + 0.043*\",\" + 0.041*\"routin\" + 0.033*\"method\" + 0.032*\"polynomi\" + 0.029*\"multipl\" + 0.025*\"ration\" + 0.022*\"modifi\"\n",
      "2022-02-28 16:06:31,451 : INFO : topic #49 (0.016): 0.320*\"data\" + 0.164*\"structur\" + 0.125*\"process\" + 0.072*\"system\" + 0.045*\"organ\" + 0.044*\"inform\" + 0.032*\"mechan\" + 0.016*\"concept\" + 0.016*\"approach\" + 0.013*\"paper\"\n",
      "2022-02-28 16:06:31,452 : INFO : topic #16 (0.044): 0.345*\"(\" + 0.327*\")\" + 0.221*\"algorithm\" + 0.015*\"corrigendum\" + 0.015*\"complex\" + 0.012*\"interpol\" + 0.008*\"-\" + 0.008*\"polynomi\" + 0.007*\"zero\" + 0.006*\"exponenti\"\n",
      "2022-02-28 16:06:31,453 : INFO : topic diff=0.261691, rho=0.261694\n",
      "2022-02-28 16:06:31,462 : INFO : PROGRESS: pass 13, at document #2000/3204\n",
      "2022-02-28 16:06:32,261 : INFO : optimized alpha [0.012175342, 0.012987648, 0.013297969, 0.012048181, 0.014078616, 0.01318958, 0.013979957, 0.013420144, 0.014060785, 0.010715466, 0.015403941, 0.012737372, 0.012841123, 0.011728674, 0.0131691685, 0.012503729, 0.04588561, 0.011821104, 0.011089767, 0.011909521, 0.013934652, 0.012871606, 0.013249348, 0.0117485225, 0.012205795, 0.012407619, 0.011324409, 0.011024832, 0.011257283, 0.011549103, 0.0145133585, 0.010381827, 0.011609073, 0.012470154, 0.013236883, 0.010576712, 0.016024856, 0.012945904, 0.010639313, 0.011058083, 0.010553656, 0.012462421, 0.014793211, 0.012036937, 0.01156487, 0.01061122, 0.015564767, 0.01487815, 0.01244958, 0.016396653, 0.011008566, 0.011739662, 0.012804727, 0.010099083, 0.014822734, 0.011511668, 0.014374599, 0.012923004, 0.012358743, 0.012783647, 0.011717668, 0.0074376264, 0.015049547, 0.012556579, 0.01341208, 0.013016016, 0.0132742915, 0.0124643985, 0.012298597, 0.0106943445, 0.010978211, 0.012680141, 0.012346732, 0.012237216, 0.012754967, 0.01161988, 0.013165022, 0.013534034, 0.0125401225, 0.014226744, 0.011556138, 0.012286429, 0.010785801, 0.011393836, 0.012416609, 0.011390759, 0.012167924, 0.012300873, 0.013765899, 0.0150554655, 0.010552208, 0.011576737, 0.011139338, 0.012198268, 0.01197079, 0.010581703, 0.013650089, 0.013592738, 0.012061826, 0.0117632365]\n",
      "2022-02-28 16:06:32,267 : INFO : merging changes from 2000 documents into a model of 3204 documents\n",
      "2022-02-28 16:06:32,273 : INFO : topic #61 (0.007): 0.001*\"implic\" + 0.001*\"favor\" + 0.001*\"adapt\" + 0.001*\"polygon\" + 0.001*\"stage\" + 0.001*\"situat\" + 0.001*\"respons\" + 0.001*\"industri\" + 0.001*\"regress\" + 0.001*\"drive\"\n",
      "2022-02-28 16:06:32,274 : INFO : topic #53 (0.010): 0.165*\"-\" + 0.110*\"question\" + 0.072*\"answer\" + 0.036*\"larg\" + 0.034*\"applic\" + 0.034*\"driven\" + 0.026*\"english\" + 0.023*\"dimens\" + 0.020*\"system\" + 0.020*\"base\"\n",
      "2022-02-28 16:06:32,276 : INFO : topic #36 (0.016): 0.262*\"function\" + 0.096*\"approxim\" + 0.076*\"variabl\" + 0.043*\"routin\" + 0.042*\",\" + 0.036*\"method\" + 0.036*\"polynomi\" + 0.028*\"multipl\" + 0.025*\"ration\" + 0.021*\"modifi\"\n",
      "2022-02-28 16:06:32,277 : INFO : topic #49 (0.016): 0.318*\"data\" + 0.154*\"structur\" + 0.134*\"process\" + 0.074*\"system\" + 0.045*\"inform\" + 0.045*\"organ\" + 0.030*\"mechan\" + 0.016*\"concept\" + 0.015*\"approach\" + 0.013*\"paper\"\n",
      "2022-02-28 16:06:32,278 : INFO : topic #16 (0.046): 0.344*\"(\" + 0.329*\")\" + 0.224*\"algorithm\" + 0.014*\"complex\" + 0.012*\"corrigendum\" + 0.011*\"interpol\" + 0.009*\"polynomi\" + 0.008*\"-\" + 0.007*\"zero\" + 0.006*\"exponenti\"\n",
      "2022-02-28 16:06:32,279 : INFO : topic diff=0.229110, rho=0.253169\n",
      "2022-02-28 16:06:33,312 : INFO : -6.464 per-word bound, 88.3 perplexity estimate based on a held-out corpus of 1204 documents with 49783 words\n",
      "2022-02-28 16:06:33,313 : INFO : PROGRESS: pass 13, at document #3204/3204\n",
      "2022-02-28 16:06:34,018 : INFO : optimized alpha [0.012327683, 0.013213039, 0.013392138, 0.012206718, 0.014231088, 0.013290033, 0.014123194, 0.013679732, 0.014278832, 0.010800268, 0.015293079, 0.012798925, 0.012934238, 0.011890858, 0.013231054, 0.01271619, 0.047736153, 0.011949603, 0.011164401, 0.012054921, 0.014199623, 0.01310251, 0.013405279, 0.011881679, 0.012362998, 0.012535392, 0.0113662, 0.011118212, 0.011353049, 0.011704467, 0.014795023, 0.0104431845, 0.011724676, 0.012703267, 0.0133863725, 0.010637235, 0.0163015, 0.013130013, 0.010737198, 0.011171432, 0.010627686, 0.012606358, 0.015046575, 0.012079323, 0.011701724, 0.010715027, 0.015765328, 0.015288915, 0.01262053, 0.01682787, 0.011139706, 0.011900622, 0.0129414555, 0.010126691, 0.014996695, 0.011633391, 0.01466341, 0.013101279, 0.0124881435, 0.012967685, 0.011869231, 0.007389415, 0.015207421, 0.012661404, 0.013752573, 0.013199049, 0.013489759, 0.01262491, 0.012422836, 0.0107756015, 0.011084027, 0.012869082, 0.012503817, 0.012357211, 0.01292091, 0.011738805, 0.0133770155, 0.013801048, 0.012671617, 0.014495144, 0.011676698, 0.01245489, 0.010903307, 0.011523322, 0.012630293, 0.011507962, 0.012321784, 0.012444722, 0.013983603, 0.015302405, 0.0106332945, 0.011671411, 0.011212073, 0.012344243, 0.01206478, 0.010645408, 0.013896034, 0.013890479, 0.012304554, 0.011913419]\n",
      "2022-02-28 16:06:34,024 : INFO : merging changes from 1204 documents into a model of 3204 documents\n",
      "2022-02-28 16:06:34,030 : INFO : topic #61 (0.007): 0.001*\"implic\" + 0.001*\"favor\" + 0.001*\"adapt\" + 0.001*\"polygon\" + 0.001*\"stage\" + 0.001*\"situat\" + 0.001*\"respons\" + 0.001*\"industri\" + 0.001*\"regress\" + 0.001*\"drive\"\n",
      "2022-02-28 16:06:34,031 : INFO : topic #53 (0.010): 0.167*\"-\" + 0.111*\"question\" + 0.073*\"answer\" + 0.041*\"driven\" + 0.037*\"applic\" + 0.034*\"larg\" + 0.025*\"english\" + 0.024*\"dimens\" + 0.021*\"system\" + 0.020*\"gener\"\n",
      "2022-02-28 16:06:34,032 : INFO : topic #36 (0.016): 0.267*\"function\" + 0.099*\"approxim\" + 0.081*\"variabl\" + 0.042*\"routin\" + 0.042*\",\" + 0.033*\"method\" + 0.031*\"polynomi\" + 0.028*\"multipl\" + 0.025*\"ration\" + 0.022*\"'\"\n",
      "2022-02-28 16:06:34,033 : INFO : topic #49 (0.017): 0.325*\"data\" + 0.166*\"structur\" + 0.125*\"process\" + 0.071*\"system\" + 0.044*\"organ\" + 0.043*\"inform\" + 0.030*\"mechan\" + 0.016*\"concept\" + 0.015*\"approach\" + 0.013*\"paper\"\n",
      "2022-02-28 16:06:34,033 : INFO : topic #16 (0.048): 0.347*\"(\" + 0.328*\")\" + 0.221*\"algorithm\" + 0.015*\"complex\" + 0.015*\"corrigendum\" + 0.012*\"interpol\" + 0.008*\"-\" + 0.008*\"polynomi\" + 0.007*\"zero\" + 0.006*\"exponenti\"\n",
      "2022-02-28 16:06:34,034 : INFO : topic diff=0.235854, rho=0.253169\n",
      "2022-02-28 16:06:34,044 : INFO : PROGRESS: pass 14, at document #2000/3204\n",
      "2022-02-28 16:06:34,931 : INFO : optimized alpha [0.012339236, 0.013205272, 0.013579492, 0.012226201, 0.01437535, 0.013439949, 0.014321156, 0.013696689, 0.014468071, 0.010831694, 0.015671788, 0.012944462, 0.013037268, 0.01189556, 0.013414197, 0.012773753, 0.04982427, 0.012003892, 0.011224244, 0.012042686, 0.014296685, 0.013144343, 0.01346163, 0.011918234, 0.012387847, 0.012605089, 0.011439537, 0.011127311, 0.011349129, 0.0117364, 0.014790515, 0.01046984, 0.011753786, 0.012690106, 0.013536833, 0.01064175, 0.016642451, 0.013154098, 0.010758126, 0.011165633, 0.0106597, 0.012603073, 0.015210148, 0.01220551, 0.011699762, 0.010713658, 0.01601482, 0.0154895, 0.012667109, 0.017060002, 0.011184566, 0.011932737, 0.013078628, 0.010129524, 0.015145216, 0.011697862, 0.014713481, 0.013185596, 0.012554187, 0.0129777575, 0.011857115, 0.0073533016, 0.015408741, 0.012737128, 0.013834005, 0.013234282, 0.013521568, 0.012637158, 0.012563843, 0.01078491, 0.0110841505, 0.012936317, 0.012570276, 0.012408147, 0.012980292, 0.011769173, 0.013428433, 0.013759764, 0.012719862, 0.014568437, 0.011692351, 0.0124938795, 0.010903493, 0.011548466, 0.012594465, 0.011544511, 0.012398701, 0.012464412, 0.014095381, 0.015499707, 0.01064445, 0.011733982, 0.011280494, 0.012367561, 0.012147444, 0.010646277, 0.013973751, 0.0139061725, 0.012379763, 0.012013391]\n",
      "2022-02-28 16:06:34,940 : INFO : merging changes from 2000 documents into a model of 3204 documents\n",
      "2022-02-28 16:06:34,948 : INFO : topic #61 (0.007): 0.001*\"implic\" + 0.001*\"favor\" + 0.001*\"adapt\" + 0.001*\"polygon\" + 0.001*\"stage\" + 0.001*\"situat\" + 0.001*\"respons\" + 0.001*\"industri\" + 0.001*\"regress\" + 0.001*\"drive\"\n",
      "2022-02-28 16:06:34,949 : INFO : topic #53 (0.010): 0.164*\"-\" + 0.114*\"question\" + 0.073*\"answer\" + 0.034*\"applic\" + 0.034*\"larg\" + 0.034*\"driven\" + 0.027*\"english\" + 0.024*\"dimens\" + 0.020*\"base\" + 0.020*\"system\"\n",
      "2022-02-28 16:06:34,951 : INFO : topic #36 (0.017): 0.268*\"function\" + 0.096*\"approxim\" + 0.078*\"variabl\" + 0.043*\"routin\" + 0.041*\",\" + 0.036*\"method\" + 0.036*\"polynomi\" + 0.027*\"multipl\" + 0.025*\"ration\" + 0.021*\"modifi\"\n",
      "2022-02-28 16:06:34,953 : INFO : topic #49 (0.017): 0.324*\"data\" + 0.157*\"structur\" + 0.133*\"process\" + 0.073*\"system\" + 0.045*\"inform\" + 0.044*\"organ\" + 0.028*\"mechan\" + 0.016*\"concept\" + 0.014*\"approach\" + 0.013*\"paper\"\n",
      "2022-02-28 16:06:34,956 : INFO : topic #16 (0.050): 0.346*\"(\" + 0.329*\")\" + 0.224*\"algorithm\" + 0.014*\"complex\" + 0.012*\"corrigendum\" + 0.011*\"interpol\" + 0.009*\"polynomi\" + 0.008*\"-\" + 0.007*\"zero\" + 0.006*\"exponenti\"\n",
      "2022-02-28 16:06:34,957 : INFO : topic diff=0.207486, rho=0.245426\n",
      "2022-02-28 16:06:36,010 : INFO : -6.456 per-word bound, 87.8 perplexity estimate based on a held-out corpus of 1204 documents with 49783 words\n",
      "2022-02-28 16:06:36,011 : INFO : PROGRESS: pass 14, at document #3204/3204\n",
      "2022-02-28 16:06:36,777 : INFO : optimized alpha [0.012485728, 0.013440044, 0.013665299, 0.012378861, 0.01451833, 0.013537599, 0.014460663, 0.01397164, 0.014676103, 0.010907886, 0.01555094, 0.013001272, 0.013144015, 0.012049344, 0.013473833, 0.012977041, 0.05166508, 0.012124729, 0.011299378, 0.012189834, 0.014566495, 0.013371237, 0.013614059, 0.012050876, 0.012549408, 0.012732489, 0.01148019, 0.011218563, 0.011447446, 0.011893349, 0.015069746, 0.0105362935, 0.011871651, 0.012916397, 0.013691273, 0.010703132, 0.016914433, 0.0133370375, 0.010853813, 0.011274133, 0.010738571, 0.012746372, 0.015462282, 0.012251468, 0.011833615, 0.010837271, 0.016213816, 0.015904605, 0.012839687, 0.017484479, 0.011308388, 0.01209781, 0.013214893, 0.010156797, 0.015318251, 0.011821779, 0.014997321, 0.013368361, 0.012688614, 0.013150013, 0.012003, 0.0073079844, 0.015559214, 0.012834238, 0.014177034, 0.01340807, 0.0137328105, 0.012802009, 0.012690384, 0.010864369, 0.011187603, 0.013129673, 0.012734212, 0.01252544, 0.013142831, 0.011885384, 0.013647482, 0.014016039, 0.012845729, 0.0148264505, 0.011810228, 0.012671873, 0.011025111, 0.011675146, 0.012803956, 0.011659098, 0.012549387, 0.0126076415, 0.014317755, 0.015764337, 0.010719352, 0.011828839, 0.011346782, 0.012512801, 0.012239082, 0.0107129635, 0.014209674, 0.014196225, 0.012616562, 0.012168019]\n",
      "2022-02-28 16:06:36,785 : INFO : merging changes from 1204 documents into a model of 3204 documents\n",
      "2022-02-28 16:06:36,792 : INFO : topic #61 (0.007): 0.001*\"implic\" + 0.001*\"favor\" + 0.001*\"adapt\" + 0.001*\"polygon\" + 0.001*\"stage\" + 0.001*\"situat\" + 0.001*\"respons\" + 0.001*\"industri\" + 0.001*\"regress\" + 0.001*\"drive\"\n",
      "2022-02-28 16:06:36,793 : INFO : topic #53 (0.010): 0.166*\"-\" + 0.114*\"question\" + 0.075*\"answer\" + 0.042*\"driven\" + 0.037*\"applic\" + 0.033*\"larg\" + 0.025*\"english\" + 0.025*\"dimens\" + 0.020*\"system\" + 0.020*\"gener\"\n",
      "2022-02-28 16:06:36,794 : INFO : topic #36 (0.017): 0.273*\"function\" + 0.099*\"approxim\" + 0.082*\"variabl\" + 0.042*\"routin\" + 0.041*\",\" + 0.033*\"method\" + 0.031*\"polynomi\" + 0.027*\"multipl\" + 0.025*\"ration\" + 0.022*\"modifi\"\n",
      "2022-02-28 16:06:36,795 : INFO : topic #49 (0.017): 0.332*\"data\" + 0.168*\"structur\" + 0.125*\"process\" + 0.070*\"system\" + 0.044*\"organ\" + 0.043*\"inform\" + 0.029*\"mechan\" + 0.016*\"concept\" + 0.014*\"approach\" + 0.013*\"paper\"\n",
      "2022-02-28 16:06:36,796 : INFO : topic #16 (0.052): 0.348*\"(\" + 0.329*\")\" + 0.222*\"algorithm\" + 0.015*\"complex\" + 0.014*\"corrigendum\" + 0.012*\"interpol\" + 0.008*\"polynomi\" + 0.008*\"-\" + 0.007*\"zero\" + 0.006*\"exponenti\"\n",
      "2022-02-28 16:06:36,797 : INFO : topic diff=0.214078, rho=0.245426\n",
      "2022-02-28 16:06:36,806 : INFO : PROGRESS: pass 15, at document #2000/3204\n",
      "2022-02-28 16:06:37,730 : INFO : optimized alpha [0.012501296, 0.013428274, 0.013853304, 0.012399161, 0.0146564655, 0.013684963, 0.014655767, 0.013990542, 0.014860948, 0.010942614, 0.015929626, 0.013144159, 0.013246691, 0.012055095, 0.013652435, 0.013031426, 0.053797662, 0.012180699, 0.011360757, 0.012176244, 0.014668149, 0.013411595, 0.0136755165, 0.012083567, 0.012576402, 0.012800675, 0.011556201, 0.011227538, 0.011445092, 0.011924357, 0.015058623, 0.010565031, 0.011898648, 0.012907414, 0.013844166, 0.010707831, 0.017253304, 0.013361757, 0.010876899, 0.0112671545, 0.010768705, 0.01274458, 0.01562677, 0.012376813, 0.011832975, 0.010855357, 0.016475359, 0.016121926, 0.012886498, 0.01771801, 0.011357585, 0.012130402, 0.013349737, 0.010155115, 0.015464095, 0.011883396, 0.015045251, 0.013452502, 0.012750141, 0.013164213, 0.01199531, 0.007274016, 0.015751783, 0.012916196, 0.014268129, 0.013440621, 0.013763386, 0.012816671, 0.012829212, 0.010876237, 0.011187792, 0.013198386, 0.0128021175, 0.012572308, 0.013202392, 0.0119164465, 0.013699004, 0.01397462, 0.012897453, 0.014897601, 0.011826855, 0.012721898, 0.011026557, 0.011702398, 0.01277137, 0.011697569, 0.012627744, 0.012629828, 0.0144289, 0.015958842, 0.010735559, 0.011897333, 0.0114152515, 0.012536881, 0.012321585, 0.0107128145, 0.014292086, 0.014211981, 0.01269001, 0.0122777885]\n",
      "2022-02-28 16:06:37,737 : INFO : merging changes from 2000 documents into a model of 3204 documents\n",
      "2022-02-28 16:06:37,745 : INFO : topic #61 (0.007): 0.001*\"implic\" + 0.001*\"favor\" + 0.001*\"adapt\" + 0.001*\"polygon\" + 0.001*\"stage\" + 0.001*\"situat\" + 0.001*\"respons\" + 0.001*\"industri\" + 0.001*\"regress\" + 0.001*\"drive\"\n",
      "2022-02-28 16:06:37,745 : INFO : topic #53 (0.010): 0.161*\"-\" + 0.118*\"question\" + 0.075*\"answer\" + 0.035*\"driven\" + 0.035*\"applic\" + 0.032*\"larg\" + 0.027*\"english\" + 0.024*\"dimens\" + 0.020*\"base\" + 0.020*\"gener\"\n",
      "2022-02-28 16:06:37,747 : INFO : topic #36 (0.017): 0.275*\"function\" + 0.096*\"approxim\" + 0.079*\"variabl\" + 0.044*\"routin\" + 0.040*\",\" + 0.036*\"method\" + 0.034*\"polynomi\" + 0.025*\"ration\" + 0.025*\"multipl\" + 0.021*\"modifi\"\n",
      "2022-02-28 16:06:37,750 : INFO : topic #49 (0.018): 0.330*\"data\" + 0.159*\"structur\" + 0.133*\"process\" + 0.071*\"system\" + 0.044*\"inform\" + 0.044*\"organ\" + 0.027*\"mechan\" + 0.017*\"concept\" + 0.013*\"approach\" + 0.013*\"paper\"\n",
      "2022-02-28 16:06:37,751 : INFO : topic #16 (0.054): 0.347*\"(\" + 0.330*\")\" + 0.225*\"algorithm\" + 0.014*\"complex\" + 0.012*\"corrigendum\" + 0.011*\"interpol\" + 0.009*\"polynomi\" + 0.008*\"-\" + 0.007*\"zero\" + 0.006*\"exponenti\"\n",
      "2022-02-28 16:06:37,752 : INFO : topic diff=0.189567, rho=0.238352\n",
      "2022-02-28 16:06:38,661 : INFO : -6.450 per-word bound, 87.4 perplexity estimate based on a held-out corpus of 1204 documents with 49783 words\n",
      "2022-02-28 16:06:38,661 : INFO : PROGRESS: pass 15, at document #3204/3204\n",
      "2022-02-28 16:06:39,420 : INFO : optimized alpha [0.012664661, 0.013650742, 0.013942031, 0.0125610065, 0.014799131, 0.013785398, 0.01479765, 0.014261452, 0.015071153, 0.011017155, 0.015808625, 0.013201706, 0.013340367, 0.01221562, 0.013709967, 0.013244216, 0.055584002, 0.0122990105, 0.011438782, 0.012322797, 0.014934327, 0.013637482, 0.013822113, 0.0122111365, 0.012739931, 0.012925397, 0.011595819, 0.011321346, 0.0115390355, 0.012083117, 0.015335837, 0.010630131, 0.012018745, 0.0131272515, 0.013998215, 0.01077011, 0.01751386, 0.0135412095, 0.010974863, 0.01137343, 0.010848125, 0.012884913, 0.015871583, 0.012421374, 0.011966466, 0.010987425, 0.016669875, 0.016548479, 0.013053342, 0.018153358, 0.011488, 0.012309492, 0.013493544, 0.010186142, 0.01563331, 0.012004859, 0.015324563, 0.013629341, 0.012881892, 0.013338355, 0.012143151, 0.007231289, 0.01589854, 0.013013621, 0.014608433, 0.013613742, 0.013973573, 0.012975664, 0.012963244, 0.010953973, 0.011291353, 0.013391016, 0.012965524, 0.012679582, 0.013364368, 0.01203265, 0.0139061045, 0.014231704, 0.01302064, 0.015157494, 0.011944644, 0.012901849, 0.011147917, 0.011833467, 0.012982044, 0.011809755, 0.012780582, 0.01278288, 0.014659304, 0.01621936, 0.010815274, 0.011994941, 0.011482258, 0.012686666, 0.0124161, 0.0107738115, 0.014532487, 0.014497818, 0.012928735, 0.012436982]\n",
      "2022-02-28 16:06:39,426 : INFO : merging changes from 1204 documents into a model of 3204 documents\n",
      "2022-02-28 16:06:39,433 : INFO : topic #61 (0.007): 0.001*\"implic\" + 0.001*\"favor\" + 0.001*\"adapt\" + 0.001*\"polygon\" + 0.001*\"stage\" + 0.001*\"situat\" + 0.001*\"respons\" + 0.001*\"industri\" + 0.001*\"regress\" + 0.001*\"drive\"\n",
      "2022-02-28 16:06:39,434 : INFO : topic #53 (0.010): 0.163*\"-\" + 0.118*\"question\" + 0.076*\"answer\" + 0.042*\"driven\" + 0.038*\"applic\" + 0.031*\"larg\" + 0.026*\"english\" + 0.025*\"dimens\" + 0.020*\"base\" + 0.020*\"system\"\n",
      "2022-02-28 16:06:39,435 : INFO : topic #36 (0.018): 0.280*\"function\" + 0.099*\"approxim\" + 0.084*\"variabl\" + 0.043*\"routin\" + 0.040*\",\" + 0.033*\"method\" + 0.030*\"polynomi\" + 0.025*\"ration\" + 0.024*\"multipl\" + 0.022*\"modifi\"\n",
      "2022-02-28 16:06:39,437 : INFO : topic #49 (0.018): 0.338*\"data\" + 0.170*\"structur\" + 0.124*\"process\" + 0.069*\"system\" + 0.043*\"organ\" + 0.042*\"inform\" + 0.028*\"mechan\" + 0.017*\"concept\" + 0.013*\"approach\" + 0.013*\"paper\"\n",
      "2022-02-28 16:06:39,438 : INFO : topic #16 (0.056): 0.348*\"(\" + 0.330*\")\" + 0.223*\"algorithm\" + 0.015*\"complex\" + 0.014*\"corrigendum\" + 0.012*\"interpol\" + 0.008*\"polynomi\" + 0.008*\"-\" + 0.007*\"zero\" + 0.006*\"exponenti\"\n",
      "2022-02-28 16:06:39,439 : INFO : topic diff=0.196089, rho=0.238352\n",
      "2022-02-28 16:06:39,446 : INFO : PROGRESS: pass 16, at document #2000/3204\n",
      "2022-02-28 16:06:40,202 : INFO : optimized alpha [0.012678163, 0.013641709, 0.014134029, 0.012586381, 0.014938416, 0.0139320325, 0.014990104, 0.0142823225, 0.015253481, 0.011051285, 0.016184175, 0.013342173, 0.013438097, 0.012219481, 0.013889111, 0.013298598, 0.057731334, 0.0123553015, 0.01149899, 0.012312202, 0.015040982, 0.0136859035, 0.013883795, 0.012245824, 0.012761617, 0.012989174, 0.011670495, 0.011331508, 0.011536857, 0.012113216, 0.015327225, 0.010659598, 0.012049297, 0.013113069, 0.014148871, 0.010776201, 0.017844588, 0.013568178, 0.011000011, 0.011370669, 0.010882679, 0.012887495, 0.016033385, 0.012544639, 0.011967075, 0.0110190585, 0.016932273, 0.016763764, 0.0130974455, 0.018394388, 0.01153882, 0.012342498, 0.013626307, 0.010183739, 0.015776593, 0.012070893, 0.015370498, 0.01371808, 0.012943787, 0.013345751, 0.012145431, 0.0071992413, 0.016091844, 0.01308795, 0.014700702, 0.013643669, 0.014004543, 0.012991264, 0.01310005, 0.010964445, 0.01129287, 0.013461254, 0.013034991, 0.012729849, 0.013427333, 0.0120616015, 0.013961013, 0.014195055, 0.013069732, 0.015233573, 0.011960841, 0.012952136, 0.011147938, 0.011861439, 0.012949498, 0.011848791, 0.012857341, 0.012804268, 0.014768283, 0.016416784, 0.010833757, 0.012062083, 0.011549477, 0.012708531, 0.012497072, 0.010777672, 0.01461628, 0.014513654, 0.013003542, 0.012546489]\n",
      "2022-02-28 16:06:40,208 : INFO : merging changes from 2000 documents into a model of 3204 documents\n",
      "2022-02-28 16:06:40,218 : INFO : topic #61 (0.007): 0.001*\"implic\" + 0.001*\"favor\" + 0.001*\"adapt\" + 0.001*\"polygon\" + 0.001*\"stage\" + 0.001*\"situat\" + 0.001*\"respons\" + 0.001*\"industri\" + 0.001*\"regress\" + 0.001*\"drive\"\n",
      "2022-02-28 16:06:40,219 : INFO : topic #53 (0.010): 0.158*\"-\" + 0.122*\"question\" + 0.076*\"answer\" + 0.036*\"driven\" + 0.035*\"applic\" + 0.030*\"larg\" + 0.028*\"english\" + 0.025*\"dimens\" + 0.021*\"base\" + 0.019*\"gener\"\n",
      "2022-02-28 16:06:40,221 : INFO : topic #36 (0.018): 0.281*\"function\" + 0.097*\"approxim\" + 0.080*\"variabl\" + 0.044*\"routin\" + 0.040*\",\" + 0.036*\"method\" + 0.033*\"polynomi\" + 0.025*\"ration\" + 0.022*\"multipl\" + 0.021*\"modifi\"\n",
      "2022-02-28 16:06:40,222 : INFO : topic #49 (0.018): 0.336*\"data\" + 0.161*\"structur\" + 0.132*\"process\" + 0.070*\"system\" + 0.043*\"organ\" + 0.043*\"inform\" + 0.027*\"mechan\" + 0.017*\"concept\" + 0.013*\"paper\" + 0.013*\"approach\"\n",
      "2022-02-28 16:06:40,223 : INFO : topic #16 (0.058): 0.348*\"(\" + 0.331*\")\" + 0.225*\"algorithm\" + 0.015*\"complex\" + 0.012*\"corrigendum\" + 0.011*\"interpol\" + 0.009*\"polynomi\" + 0.008*\"-\" + 0.006*\"zero\" + 0.006*\"exponenti\"\n",
      "2022-02-28 16:06:40,226 : INFO : topic diff=0.174772, rho=0.231857\n",
      "2022-02-28 16:06:41,334 : INFO : -6.442 per-word bound, 87.0 perplexity estimate based on a held-out corpus of 1204 documents with 49783 words\n",
      "2022-02-28 16:06:41,335 : INFO : PROGRESS: pass 16, at document #3204/3204\n",
      "2022-02-28 16:06:42,101 : INFO : optimized alpha [0.012838691, 0.01386322, 0.014212136, 0.012745411, 0.015078059, 0.014032786, 0.015131635, 0.0145637095, 0.015465931, 0.011124327, 0.016059734, 0.013397926, 0.013540127, 0.012377087, 0.013944611, 0.013500428, 0.05943592, 0.012466504, 0.011573148, 0.012453601, 0.015315664, 0.013908475, 0.01403019, 0.012373316, 0.012922282, 0.013111426, 0.011709151, 0.011421302, 0.011624425, 0.012271602, 0.015596958, 0.010737896, 0.012169452, 0.013326793, 0.014299979, 0.010839335, 0.018117776, 0.013739149, 0.011093994, 0.011479232, 0.010962604, 0.013025141, 0.016277503, 0.012587871, 0.012098038, 0.011168163, 0.017122434, 0.017211927, 0.013261308, 0.018837666, 0.011675783, 0.012523501, 0.013769971, 0.010214368, 0.01593595, 0.012194745, 0.015645603, 0.01389983, 0.013080725, 0.013522138, 0.012295315, 0.0071588443, 0.01624099, 0.013185807, 0.015044244, 0.013808362, 0.014211259, 0.013152259, 0.013234048, 0.011044994, 0.011398784, 0.01365607, 0.013205555, 0.012839876, 0.013581169, 0.012177871, 0.014167539, 0.014453555, 0.013192962, 0.015486705, 0.012074001, 0.013146891, 0.011264866, 0.011994652, 0.013149065, 0.011958744, 0.0130074015, 0.012949528, 0.015012685, 0.016685925, 0.010907723, 0.012155351, 0.011612784, 0.012862845, 0.012591968, 0.010843817, 0.014856016, 0.014798395, 0.01323948, 0.01270314]\n",
      "2022-02-28 16:06:42,107 : INFO : merging changes from 1204 documents into a model of 3204 documents\n",
      "2022-02-28 16:06:42,114 : INFO : topic #61 (0.007): 0.001*\"implic\" + 0.001*\"favor\" + 0.001*\"adapt\" + 0.001*\"polygon\" + 0.001*\"stage\" + 0.001*\"situat\" + 0.001*\"respons\" + 0.001*\"industri\" + 0.001*\"regress\" + 0.001*\"drive\"\n",
      "2022-02-28 16:06:42,114 : INFO : topic #53 (0.010): 0.160*\"-\" + 0.122*\"question\" + 0.078*\"answer\" + 0.043*\"driven\" + 0.037*\"applic\" + 0.029*\"larg\" + 0.027*\"english\" + 0.026*\"dimens\" + 0.020*\"base\" + 0.020*\"system\"\n",
      "2022-02-28 16:06:42,116 : INFO : topic #36 (0.018): 0.286*\"function\" + 0.099*\"approxim\" + 0.085*\"variabl\" + 0.043*\"routin\" + 0.040*\",\" + 0.033*\"method\" + 0.029*\"polynomi\" + 0.025*\"ration\" + 0.022*\"multipl\" + 0.022*\"modifi\"\n",
      "2022-02-28 16:06:42,118 : INFO : topic #49 (0.019): 0.344*\"data\" + 0.172*\"structur\" + 0.124*\"process\" + 0.067*\"system\" + 0.043*\"organ\" + 0.041*\"inform\" + 0.028*\"mechan\" + 0.017*\"concept\" + 0.014*\"paper\" + 0.013*\"approach\"\n",
      "2022-02-28 16:06:42,119 : INFO : topic #16 (0.059): 0.349*\"(\" + 0.331*\")\" + 0.223*\"algorithm\" + 0.016*\"complex\" + 0.014*\"corrigendum\" + 0.012*\"interpol\" + 0.008*\"polynomi\" + 0.008*\"-\" + 0.007*\"zero\" + 0.006*\"exponenti\"\n",
      "2022-02-28 16:06:42,120 : INFO : topic diff=0.180720, rho=0.231857\n",
      "2022-02-28 16:06:42,128 : INFO : PROGRESS: pass 17, at document #2000/3204\n",
      "2022-02-28 16:06:42,949 : INFO : optimized alpha [0.012851622, 0.013853598, 0.014404996, 0.012772986, 0.0152150765, 0.014180434, 0.015321652, 0.014588089, 0.0156476, 0.011159116, 0.016419504, 0.013537698, 0.01364228, 0.012383346, 0.014116451, 0.013553405, 0.061590075, 0.012521743, 0.011634927, 0.0124402465, 0.015423692, 0.013953911, 0.014090602, 0.01241006, 0.012947726, 0.013171025, 0.011787862, 0.011432631, 0.011619782, 0.012303588, 0.015590844, 0.010766926, 0.0121979145, 0.01331226, 0.014450148, 0.010845528, 0.018446494, 0.013760556, 0.011116128, 0.01147783, 0.010991596, 0.013029046, 0.016436802, 0.012706346, 0.012099876, 0.011215526, 0.01738601, 0.017427279, 0.013304303, 0.019084554, 0.011724282, 0.01255409, 0.0138992015, 0.010214722, 0.016087862, 0.012258231, 0.015691396, 0.013994655, 0.0131505355, 0.013532041, 0.012297317, 0.007128531, 0.016429748, 0.01325132, 0.015137702, 0.013839001, 0.014242656, 0.013165705, 0.013373484, 0.011059094, 0.011400277, 0.013724818, 0.01327358, 0.01288918, 0.013645846, 0.012207598, 0.014229059, 0.014414907, 0.013242581, 0.015557337, 0.012093935, 0.013212402, 0.01126224, 0.012023256, 0.013116603, 0.011998355, 0.013082716, 0.012971853, 0.015124698, 0.016877025, 0.010929663, 0.012226965, 0.011684104, 0.012888419, 0.012672946, 0.010849087, 0.014937881, 0.014816128, 0.013317244, 0.012815428]\n",
      "2022-02-28 16:06:42,994 : INFO : merging changes from 2000 documents into a model of 3204 documents\n",
      "2022-02-28 16:06:43,003 : INFO : topic #61 (0.007): 0.001*\"implic\" + 0.001*\"favor\" + 0.001*\"adapt\" + 0.001*\"polygon\" + 0.001*\"stage\" + 0.001*\"situat\" + 0.001*\"respons\" + 0.001*\"industri\" + 0.001*\"regress\" + 0.001*\"drive\"\n",
      "2022-02-28 16:06:43,006 : INFO : topic #53 (0.010): 0.155*\"-\" + 0.126*\"question\" + 0.078*\"answer\" + 0.037*\"driven\" + 0.035*\"applic\" + 0.029*\"larg\" + 0.028*\"english\" + 0.025*\"dimens\" + 0.021*\"base\" + 0.019*\"gener\"\n",
      "2022-02-28 16:06:43,008 : INFO : topic #36 (0.018): 0.287*\"function\" + 0.097*\"approxim\" + 0.082*\"variabl\" + 0.045*\"routin\" + 0.040*\",\" + 0.034*\"method\" + 0.032*\"polynomi\" + 0.025*\"ration\" + 0.021*\"modifi\" + 0.020*\"multipl\"\n",
      "2022-02-28 16:06:43,009 : INFO : topic #49 (0.019): 0.342*\"data\" + 0.164*\"structur\" + 0.131*\"process\" + 0.068*\"system\" + 0.043*\"organ\" + 0.042*\"inform\" + 0.026*\"mechan\" + 0.017*\"concept\" + 0.014*\"paper\" + 0.012*\"approach\"\n",
      "2022-02-28 16:06:43,010 : INFO : topic #16 (0.062): 0.349*\"(\" + 0.332*\")\" + 0.225*\"algorithm\" + 0.015*\"complex\" + 0.012*\"corrigendum\" + 0.011*\"interpol\" + 0.009*\"polynomi\" + 0.007*\"-\" + 0.006*\"zero\" + 0.006*\"exponenti\"\n",
      "2022-02-28 16:06:43,011 : INFO : topic diff=0.162053, rho=0.225865\n",
      "2022-02-28 16:06:43,998 : INFO : -6.437 per-word bound, 86.6 perplexity estimate based on a held-out corpus of 1204 documents with 49783 words\n",
      "2022-02-28 16:06:43,998 : INFO : PROGRESS: pass 17, at document #3204/3204\n",
      "2022-02-28 16:06:44,688 : INFO : optimized alpha [0.013007004, 0.014079671, 0.01448902, 0.012931773, 0.01535183, 0.014278805, 0.015460127, 0.014868825, 0.01585673, 0.011237081, 0.016295215, 0.013594309, 0.013742214, 0.0125406915, 0.014164787, 0.01375474, 0.06327262, 0.012630893, 0.011707629, 0.012581456, 0.0157072, 0.014170745, 0.014237011, 0.012537656, 0.013100917, 0.013288525, 0.011823416, 0.011520762, 0.011710196, 0.012459383, 0.015865192, 0.010843889, 0.012318202, 0.013510206, 0.014603876, 0.010907546, 0.018719068, 0.013931242, 0.0112083955, 0.011584449, 0.011076255, 0.013164217, 0.016677327, 0.012748389, 0.012233074, 0.011377336, 0.017572109, 0.017881267, 0.013467899, 0.0195325, 0.011863483, 0.012730105, 0.014040265, 0.010245006, 0.016240897, 0.012377615, 0.01596263, 0.014170871, 0.013275097, 0.013702919, 0.012444668, 0.0070902375, 0.0165757, 0.013349768, 0.015478966, 0.0140008805, 0.014456911, 0.013323949, 0.013507618, 0.011142305, 0.011499976, 0.013909091, 0.013446417, 0.012992257, 0.013802333, 0.01233324, 0.014437861, 0.0146721555, 0.013365962, 0.015809877, 0.012207313, 0.013419469, 0.011381367, 0.012154235, 0.013327938, 0.012103946, 0.013237768, 0.013119538, 0.015368853, 0.017139183, 0.011006377, 0.012323174, 0.0117483, 0.013037701, 0.012768334, 0.010918204, 0.015177115, 0.0151026575, 0.013550631, 0.012981716]\n",
      "2022-02-28 16:06:44,694 : INFO : merging changes from 1204 documents into a model of 3204 documents\n",
      "2022-02-28 16:06:44,701 : INFO : topic #61 (0.007): 0.001*\"implic\" + 0.001*\"favor\" + 0.001*\"adapt\" + 0.001*\"polygon\" + 0.001*\"stage\" + 0.001*\"situat\" + 0.001*\"respons\" + 0.001*\"industri\" + 0.001*\"regress\" + 0.001*\"drive\"\n",
      "2022-02-28 16:06:44,701 : INFO : topic #53 (0.010): 0.157*\"-\" + 0.126*\"question\" + 0.079*\"answer\" + 0.044*\"driven\" + 0.037*\"applic\" + 0.028*\"larg\" + 0.027*\"english\" + 0.026*\"dimens\" + 0.021*\"base\" + 0.019*\"system\"\n",
      "2022-02-28 16:06:44,702 : INFO : topic #36 (0.019): 0.291*\"function\" + 0.099*\"approxim\" + 0.086*\"variabl\" + 0.044*\"routin\" + 0.040*\",\" + 0.032*\"method\" + 0.028*\"polynomi\" + 0.025*\"ration\" + 0.021*\"modifi\" + 0.021*\"'\"\n",
      "2022-02-28 16:06:44,703 : INFO : topic #49 (0.020): 0.350*\"data\" + 0.174*\"structur\" + 0.123*\"process\" + 0.066*\"system\" + 0.042*\"organ\" + 0.040*\"inform\" + 0.026*\"mechan\" + 0.017*\"concept\" + 0.014*\"paper\" + 0.012*\"approach\"\n",
      "2022-02-28 16:06:44,704 : INFO : topic #16 (0.063): 0.350*\"(\" + 0.332*\")\" + 0.223*\"algorithm\" + 0.016*\"complex\" + 0.014*\"corrigendum\" + 0.012*\"interpol\" + 0.008*\"polynomi\" + 0.008*\"-\" + 0.007*\"zero\" + 0.006*\"exponenti\"\n",
      "2022-02-28 16:06:44,705 : INFO : topic diff=0.167548, rho=0.225865\n",
      "2022-02-28 16:06:44,713 : INFO : PROGRESS: pass 18, at document #2000/3204\n",
      "2022-02-28 16:06:45,490 : INFO : optimized alpha [0.013017958, 0.014072618, 0.01467817, 0.012962793, 0.0154868625, 0.014424441, 0.015649538, 0.014898359, 0.016037965, 0.011272544, 0.016648827, 0.0137350345, 0.013842821, 0.012549262, 0.014326533, 0.013806367, 0.06541789, 0.012686508, 0.011773533, 0.012569594, 0.015818395, 0.014216477, 0.014291423, 0.012570844, 0.013124194, 0.0133470595, 0.011900909, 0.011531959, 0.0117083695, 0.01249055, 0.015854493, 0.010877241, 0.012344671, 0.013490785, 0.014753706, 0.010914983, 0.019052144, 0.013958118, 0.011230135, 0.011584359, 0.011102283, 0.013169366, 0.016832355, 0.012865105, 0.012238743, 0.011437519, 0.017831182, 0.018096473, 0.013508373, 0.019778809, 0.011913651, 0.01276404, 0.01417081, 0.010244567, 0.016390547, 0.012437217, 0.016006641, 0.014264082, 0.013342193, 0.013721572, 0.012454775, 0.0070614996, 0.016762039, 0.01341857, 0.015566737, 0.014029136, 0.014487103, 0.01333982, 0.013646816, 0.011157447, 0.011501475, 0.013973323, 0.01351892, 0.0130392425, 0.013867432, 0.012362294, 0.014502754, 0.014634859, 0.013417554, 0.015882246, 0.012226878, 0.013488154, 0.01138252, 0.01218486, 0.013295422, 0.012142808, 0.013311709, 0.0131471, 0.015487399, 0.017329644, 0.011030401, 0.01239912, 0.011817197, 0.013061151, 0.012849405, 0.010921087, 0.01526211, 0.015115589, 0.013631341, 0.013092447]\n",
      "2022-02-28 16:06:45,497 : INFO : merging changes from 2000 documents into a model of 3204 documents\n",
      "2022-02-28 16:06:45,505 : INFO : topic #61 (0.007): 0.001*\"implic\" + 0.001*\"favor\" + 0.001*\"adapt\" + 0.001*\"polygon\" + 0.001*\"stage\" + 0.001*\"situat\" + 0.001*\"respons\" + 0.001*\"industri\" + 0.001*\"regress\" + 0.001*\"drive\"\n",
      "2022-02-28 16:06:45,506 : INFO : topic #53 (0.010): 0.153*\"-\" + 0.129*\"question\" + 0.079*\"answer\" + 0.037*\"driven\" + 0.035*\"applic\" + 0.029*\"english\" + 0.026*\"larg\" + 0.026*\"dimens\" + 0.022*\"base\" + 0.019*\"gener\"\n",
      "2022-02-28 16:06:45,507 : INFO : topic #36 (0.019): 0.293*\"function\" + 0.096*\"approxim\" + 0.084*\"variabl\" + 0.045*\"routin\" + 0.039*\",\" + 0.033*\"method\" + 0.031*\"polynomi\" + 0.025*\"ration\" + 0.021*\"modifi\" + 0.020*\"boolean\"\n",
      "2022-02-28 16:06:45,508 : INFO : topic #49 (0.020): 0.348*\"data\" + 0.166*\"structur\" + 0.129*\"process\" + 0.067*\"system\" + 0.042*\"organ\" + 0.042*\"inform\" + 0.025*\"mechan\" + 0.017*\"concept\" + 0.014*\"paper\" + 0.011*\"approach\"\n",
      "2022-02-28 16:06:45,508 : INFO : topic #16 (0.065): 0.349*\"(\" + 0.333*\")\" + 0.226*\"algorithm\" + 0.015*\"complex\" + 0.012*\"corrigendum\" + 0.011*\"interpol\" + 0.009*\"polynomi\" + 0.007*\"-\" + 0.006*\"zero\" + 0.006*\"exponenti\"\n",
      "2022-02-28 16:06:45,509 : INFO : topic diff=0.151406, rho=0.220316\n",
      "2022-02-28 16:06:46,594 : INFO : -6.431 per-word bound, 86.3 perplexity estimate based on a held-out corpus of 1204 documents with 49783 words\n",
      "2022-02-28 16:06:46,594 : INFO : PROGRESS: pass 18, at document #3204/3204\n",
      "2022-02-28 16:06:47,229 : INFO : optimized alpha [0.01317321, 0.014290309, 0.014759989, 0.013121495, 0.015620955, 0.014517969, 0.015785068, 0.015184128, 0.016240906, 0.011344984, 0.01652138, 0.013790044, 0.013933084, 0.012706487, 0.014375885, 0.014004805, 0.06697483, 0.0127913905, 0.011844847, 0.012710794, 0.016102113, 0.014433062, 0.014435231, 0.012694016, 0.013282208, 0.013462467, 0.011937866, 0.011618567, 0.011792882, 0.012644024, 0.016124994, 0.010968897, 0.012467471, 0.0136881415, 0.014904788, 0.010979928, 0.01932403, 0.014128711, 0.011320815, 0.011684891, 0.011185527, 0.013302218, 0.017081663, 0.012906012, 0.0123764565, 0.011620646, 0.018013302, 0.018579539, 0.013669397, 0.020220662, 0.0120551465, 0.012947016, 0.014311909, 0.010274509, 0.01654055, 0.012554694, 0.016274186, 0.014434931, 0.013482144, 0.013884676, 0.012602131, 0.0070251133, 0.016907984, 0.013505328, 0.015914476, 0.014188385, 0.014690213, 0.0134954695, 0.0137786595, 0.011235046, 0.011601567, 0.014157437, 0.0136917075, 0.013142798, 0.014026544, 0.012483647, 0.014708726, 0.014885812, 0.013541279, 0.016125496, 0.012345018, 0.0137054855, 0.011497566, 0.012311461, 0.013491271, 0.012251073, 0.013469374, 0.013302225, 0.015746, 0.017588302, 0.011109811, 0.012495839, 0.011884461, 0.01321523, 0.012945353, 0.010995102, 0.0154982135, 0.015390474, 0.01385735, 0.013256445]\n",
      "2022-02-28 16:06:47,235 : INFO : merging changes from 1204 documents into a model of 3204 documents\n",
      "2022-02-28 16:06:47,241 : INFO : topic #61 (0.007): 0.001*\"implic\" + 0.001*\"favor\" + 0.001*\"adapt\" + 0.001*\"polygon\" + 0.001*\"stage\" + 0.001*\"situat\" + 0.001*\"respons\" + 0.001*\"industri\" + 0.001*\"regress\" + 0.001*\"drive\"\n",
      "2022-02-28 16:06:47,242 : INFO : topic #53 (0.010): 0.154*\"-\" + 0.129*\"question\" + 0.080*\"answer\" + 0.044*\"driven\" + 0.035*\"applic\" + 0.028*\"english\" + 0.027*\"dimens\" + 0.025*\"larg\" + 0.022*\"base\" + 0.019*\"system\"\n",
      "2022-02-28 16:06:47,243 : INFO : topic #36 (0.019): 0.296*\"function\" + 0.099*\"approxim\" + 0.088*\"variabl\" + 0.044*\"routin\" + 0.039*\",\" + 0.031*\"method\" + 0.028*\"polynomi\" + 0.025*\"ration\" + 0.021*\"modifi\" + 0.021*\"'\"\n",
      "2022-02-28 16:06:47,244 : INFO : topic #49 (0.020): 0.356*\"data\" + 0.175*\"structur\" + 0.122*\"process\" + 0.065*\"system\" + 0.042*\"organ\" + 0.040*\"inform\" + 0.025*\"mechan\" + 0.017*\"concept\" + 0.014*\"paper\" + 0.011*\"approach\"\n",
      "2022-02-28 16:06:47,244 : INFO : topic #16 (0.067): 0.350*\"(\" + 0.333*\")\" + 0.224*\"algorithm\" + 0.016*\"complex\" + 0.014*\"corrigendum\" + 0.012*\"interpol\" + 0.009*\"polynomi\" + 0.007*\"-\" + 0.007*\"zero\" + 0.006*\"exponenti\"\n",
      "2022-02-28 16:06:47,245 : INFO : topic diff=0.156378, rho=0.220316\n",
      "2022-02-28 16:06:47,256 : INFO : PROGRESS: pass 19, at document #2000/3204\n",
      "2022-02-28 16:06:47,980 : INFO : optimized alpha [0.013189457, 0.014287306, 0.0149487, 0.013150355, 0.015754037, 0.014660153, 0.015972339, 0.015217025, 0.01642004, 0.011379895, 0.016867355, 0.013927375, 0.014029152, 0.0127104875, 0.014521567, 0.014055145, 0.06910981, 0.012844736, 0.011908474, 0.012697596, 0.016221905, 0.01447909, 0.014490142, 0.012730642, 0.013307717, 0.013512635, 0.012021892, 0.01163087, 0.011792552, 0.012674397, 0.016118504, 0.011002865, 0.012493369, 0.013668571, 0.015054379, 0.010988593, 0.01966355, 0.014154759, 0.011344589, 0.011687344, 0.011212325, 0.013307172, 0.01722893, 0.013019691, 0.012385822, 0.011693593, 0.018271789, 0.018796664, 0.013708875, 0.020466588, 0.0121082505, 0.012980018, 0.014440716, 0.010274397, 0.016690008, 0.012611967, 0.016316462, 0.014526641, 0.013551069, 0.013901161, 0.012613275, 0.0069978037, 0.017093811, 0.013578931, 0.01600709, 0.014217411, 0.014717767, 0.013512185, 0.013917696, 0.011249995, 0.011604282, 0.014223424, 0.013762924, 0.0131904045, 0.014093432, 0.012513429, 0.014772268, 0.014851364, 0.013593393, 0.016196104, 0.012364127, 0.013771453, 0.01149988, 0.012341453, 0.013460262, 0.0122892335, 0.013547876, 0.013327568, 0.015862675, 0.01778014, 0.011135893, 0.012576084, 0.011957499, 0.013236583, 0.013026604, 0.011002846, 0.015581468, 0.015403651, 0.013941001, 0.013360025]\n",
      "2022-02-28 16:06:47,986 : INFO : merging changes from 2000 documents into a model of 3204 documents\n",
      "2022-02-28 16:06:47,992 : INFO : topic #61 (0.007): 0.001*\"implic\" + 0.001*\"favor\" + 0.001*\"adapt\" + 0.001*\"polygon\" + 0.001*\"stage\" + 0.001*\"situat\" + 0.001*\"respons\" + 0.001*\"industri\" + 0.001*\"regress\" + 0.001*\"drive\"\n",
      "2022-02-28 16:06:47,993 : INFO : topic #53 (0.010): 0.150*\"-\" + 0.133*\"question\" + 0.080*\"answer\" + 0.038*\"driven\" + 0.033*\"applic\" + 0.030*\"english\" + 0.026*\"dimens\" + 0.024*\"larg\" + 0.022*\"base\" + 0.019*\"gener\"\n",
      "2022-02-28 16:06:47,994 : INFO : topic #36 (0.020): 0.297*\"function\" + 0.096*\"approxim\" + 0.085*\"variabl\" + 0.045*\"routin\" + 0.039*\",\" + 0.032*\"method\" + 0.030*\"polynomi\" + 0.025*\"ration\" + 0.021*\"modifi\" + 0.020*\"boolean\"\n",
      "2022-02-28 16:06:47,995 : INFO : topic #49 (0.020): 0.354*\"data\" + 0.167*\"structur\" + 0.129*\"process\" + 0.067*\"system\" + 0.042*\"organ\" + 0.041*\"inform\" + 0.024*\"mechan\" + 0.017*\"concept\" + 0.014*\"paper\" + 0.011*\"approach\"\n",
      "2022-02-28 16:06:47,996 : INFO : topic #16 (0.069): 0.350*\"(\" + 0.334*\")\" + 0.227*\"algorithm\" + 0.015*\"complex\" + 0.012*\"corrigendum\" + 0.011*\"interpol\" + 0.009*\"polynomi\" + 0.007*\"-\" + 0.006*\"zero\" + 0.006*\"exponenti\"\n",
      "2022-02-28 16:06:47,997 : INFO : topic diff=0.141941, rho=0.215156\n",
      "2022-02-28 16:06:48,950 : INFO : -6.427 per-word bound, 86.1 perplexity estimate based on a held-out corpus of 1204 documents with 49783 words\n",
      "2022-02-28 16:06:48,951 : INFO : PROGRESS: pass 19, at document #3204/3204\n",
      "2022-02-28 16:06:49,594 : INFO : optimized alpha [0.013349571, 0.014509842, 0.015031109, 0.013306746, 0.015885629, 0.014751644, 0.016110761, 0.015497549, 0.016613977, 0.011453142, 0.01674009, 0.013985865, 0.01412257, 0.012865424, 0.014572073, 0.014248412, 0.07056612, 0.0129455235, 0.011980639, 0.01283889, 0.016494228, 0.0146931065, 0.014631596, 0.012856381, 0.013458652, 0.0136260865, 0.012055911, 0.011713944, 0.011879913, 0.012825655, 0.016385421, 0.011095117, 0.012605248, 0.013863184, 0.015208316, 0.011054481, 0.019945208, 0.014320247, 0.011435816, 0.01178838, 0.011296239, 0.013437881, 0.017462557, 0.013059533, 0.012521453, 0.01189817, 0.018450025, 0.01928972, 0.013869929, 0.020909408, 0.012250013, 0.013163037, 0.014584666, 0.010304038, 0.016849287, 0.012729876, 0.016580572, 0.014700216, 0.013689045, 0.0140644, 0.012760804, 0.00696315, 0.017242959, 0.013666552, 0.016350063, 0.014374239, 0.0149154095, 0.013665426, 0.014052308, 0.011326317, 0.011711077, 0.014407573, 0.01394066, 0.013296941, 0.014257943, 0.012637404, 0.014972744, 0.015098975, 0.013715099, 0.016436283, 0.012480373, 0.014001485, 0.011613152, 0.012466116, 0.013665435, 0.012393478, 0.01370577, 0.013470779, 0.016133117, 0.01803207, 0.011220017, 0.012675761, 0.012021378, 0.013383635, 0.013120843, 0.0110736685, 0.015814666, 0.015686272, 0.014167284, 0.013526603]\n",
      "2022-02-28 16:06:49,601 : INFO : merging changes from 1204 documents into a model of 3204 documents\n",
      "2022-02-28 16:06:49,607 : INFO : topic #61 (0.007): 0.001*\"implic\" + 0.001*\"favor\" + 0.001*\"adapt\" + 0.001*\"polygon\" + 0.001*\"stage\" + 0.001*\"situat\" + 0.001*\"respons\" + 0.001*\"industri\" + 0.001*\"regress\" + 0.001*\"drive\"\n",
      "2022-02-28 16:06:49,608 : INFO : topic #53 (0.010): 0.151*\"-\" + 0.133*\"question\" + 0.082*\"answer\" + 0.045*\"driven\" + 0.034*\"applic\" + 0.028*\"english\" + 0.028*\"dimens\" + 0.023*\"base\" + 0.023*\"larg\" + 0.019*\"system\"\n",
      "2022-02-28 16:06:49,608 : INFO : topic #36 (0.020): 0.301*\"function\" + 0.099*\"approxim\" + 0.088*\"variabl\" + 0.044*\"routin\" + 0.039*\",\" + 0.030*\"method\" + 0.027*\"polynomi\" + 0.025*\"ration\" + 0.021*\"modifi\" + 0.021*\"'\"\n",
      "2022-02-28 16:06:49,609 : INFO : topic #49 (0.021): 0.361*\"data\" + 0.177*\"structur\" + 0.121*\"process\" + 0.065*\"system\" + 0.041*\"organ\" + 0.039*\"inform\" + 0.023*\"mechan\" + 0.017*\"concept\" + 0.015*\"paper\" + 0.011*\"approach\"\n",
      "2022-02-28 16:06:49,610 : INFO : topic #16 (0.071): 0.351*\"(\" + 0.334*\")\" + 0.224*\"algorithm\" + 0.016*\"complex\" + 0.014*\"corrigendum\" + 0.012*\"interpol\" + 0.009*\"polynomi\" + 0.007*\"-\" + 0.007*\"zero\" + 0.006*\"exponenti\"\n",
      "2022-02-28 16:06:49,612 : INFO : topic diff=0.146540, rho=0.215156\n"
     ]
    },
    {
     "data": {
      "text/plain": [
       "[(0, 0.0054468946),\n",
       " (1, 0.0059203086),\n",
       " (2, 0.0061329957),\n",
       " (3, 0.005429421),\n",
       " (4, 0.0064816573),\n",
       " (5, 0.0060189688),\n",
       " (6, 0.006573516),\n",
       " (7, 0.0063233133),\n",
       " (8, 0.006778838),\n",
       " (9, 0.0046731136),\n",
       " (10, 0.0068302946),\n",
       " (11, 0.005706515),\n",
       " (12, 0.005762294),\n",
       " (13, 0.005249353),\n",
       " (14, 0.0059457),\n",
       " (15, 0.00581364),\n",
       " (16, 0.028792402),\n",
       " (17, 0.005282035),\n",
       " (18, 0.0048883427),\n",
       " (19, 0.0052385265),\n",
       " (20, 0.006729978),\n",
       " (21, 0.005995084),\n",
       " (22, 0.005969987),\n",
       " (23, 0.005245663),\n",
       " (24, 0.005491402),\n",
       " (25, 0.0055597187),\n",
       " (26, 0.0049190554),\n",
       " (27, 0.004779526),\n",
       " (28, 0.0048472444),\n",
       " (29, 0.005233126),\n",
       " (30, 0.006685583),\n",
       " (31, 0.004527032),\n",
       " (32, 0.005143196),\n",
       " (33, 0.005656459),\n",
       " (34, 0.0062053),\n",
       " (35, 0.0045104516),\n",
       " (36, 0.0081380475),\n",
       " (37, 0.0058429497),\n",
       " (38, 0.004666044),\n",
       " (39, 0.0048098974),\n",
       " (40, 0.0046090935),\n",
       " (41, 0.005482927),\n",
       " (42, 0.007125076),\n",
       " (43, 0.0053285533),\n",
       " (44, 0.0051090056),\n",
       " (45, 0.0048546935),\n",
       " (46, 0.007527983),\n",
       " (47, 0.007870596),\n",
       " (48, 0.0056592114),\n",
       " (49, 0.008531461),\n",
       " (50, 0.41301546),\n",
       " (51, 0.005370785),\n",
       " (52, 0.0059508383),\n",
       " (53, 0.004204256),\n",
       " (54, 0.0068748496),\n",
       " (55, 0.0051940465),\n",
       " (56, 0.006765208),\n",
       " (57, 0.005997985),\n",
       " (58, 0.005585407),\n",
       " (59, 0.0057385596),\n",
       " (60, 0.005206666),\n",
       " (61, 0.002841106),\n",
       " (62, 0.007035475),\n",
       " (63, 0.005576229),\n",
       " (64, 0.006671156),\n",
       " (65, 0.00586498),\n",
       " (66, 0.0060857884),\n",
       " (67, 0.0055757696),\n",
       " (68, 0.0057336255),\n",
       " (69, 0.004621366),\n",
       " (70, 0.004778356),\n",
       " (71, 0.0058785807),\n",
       " (72, 0.005688071),\n",
       " (73, 0.0054254206),\n",
       " (74, 0.005817529),\n",
       " (75, 0.005156316),\n",
       " (76, 0.006109182),\n",
       " (77, 0.0061606867),\n",
       " (78, 0.005596037),\n",
       " (79, 0.006706335),\n",
       " (80, 0.005092244),\n",
       " (81, 0.0057128887),\n",
       " (82, 0.0047384007),\n",
       " (83, 0.005086427),\n",
       " (84, 0.0055757733),\n",
       " (85, 0.0050567896),\n",
       " (86, 0.0055922307),\n",
       " (87, 0.00549635),\n",
       " (88, 0.0065826373),\n",
       " (89, 0.007357449),\n",
       " (90, 0.004577994),\n",
       " (91, 0.0051719667),\n",
       " (92, 0.004904965),\n",
       " (93, 0.0054607936),\n",
       " (94, 0.005353569),\n",
       " (95, 0.0045182803),\n",
       " (96, 0.006452703),\n",
       " (97, 0.0064003156),\n",
       " (98, 0.005780538),\n",
       " (99, 0.005519127)]"
      ]
     },
     "execution_count": 85,
     "metadata": {},
     "output_type": "execute_result"
    }
   ],
   "source": [
    "##### Function check\n",
    "lda = LdaRetrievalModel(doc_repr_2)\n",
    "lda.train_model()\n",
    "\n",
    "# you can now get an LDA vector for a given query in the following way:\n",
    "lda.vectorize_query(\"report\")\n",
    "##### "
   ]
  },
  {
   "cell_type": "markdown",
   "metadata": {
    "deletable": false,
    "editable": false,
    "nbgrader": {
     "cell_type": "markdown",
     "checksum": "32d83b6ea79ca3ddb789a7f8805a1b25",
     "grade": false,
     "grade_id": "cell-0e24b727d5908c0e",
     "locked": true,
     "points": 5,
     "schema_version": 3,
     "solution": false,
     "task": true
    }
   },
   "source": [
    "\\#### Please do not change this. This cell is used for grading."
   ]
  },
  {
   "cell_type": "markdown",
   "metadata": {
    "deletable": false,
    "editable": false,
    "nbgrader": {
     "cell_type": "markdown",
     "checksum": "114a934f0b9ce696e6cf09d3b8da6a3d",
     "grade": false,
     "grade_id": "cell-b1bffcb970b18aeb",
     "locked": true,
     "schema_version": 3,
     "solution": false,
     "task": false
    }
   },
   "source": [
    "---\n",
    "Now we can use the `DenseRetrievalModel` class to obtain an LDA search function.\n",
    "You can test your LDA model in the following cell: Try finding queries which are lexically different to documents, but semantically similar - does LDA work well for these queries?!"
   ]
  },
  {
   "cell_type": "code",
   "execution_count": 86,
   "metadata": {},
   "outputs": [
    {
     "data": {
      "application/vnd.jupyter.widget-view+json": {
       "model_id": "c8b5a1b82dc24188813a389a8be5c81b",
       "version_major": 2,
       "version_minor": 0
      },
      "text/plain": [
       "Text(value='', description='Search Bar')"
      ]
     },
     "metadata": {},
     "output_type": "display_data"
    }
   ],
   "source": [
    "drm_lda = DenseRetrievalRanker(lda, jenson_shannon_sim)\n",
    "\n",
    "# test your LDA model\n",
    "search_fn = drm_lda.search\n",
    "\n",
    "text = widgets.Text(description=\"Search Bar\", width=200)\n",
    "display(text)\n",
    "\n",
    "\n",
    "text.on_submit(handle_submit_2)"
   ]
  },
  {
   "cell_type": "markdown",
   "metadata": {
    "deletable": false,
    "editable": false,
    "nbgrader": {
     "cell_type": "markdown",
     "checksum": "9d7f15863b655119b45f4d89354e5661",
     "grade": false,
     "grade_id": "cell-190cd0854b2791cc",
     "locked": true,
     "schema_version": 3,
     "solution": false,
     "task": false
    }
   },
   "source": [
    "## Section 8: Word2Vec/Doc2Vec (20 points) <a class=\"anchor\" id=\"2vec\"></a>\n",
    "\n",
    "[Back to Part 2](#part2)\n",
    "\n",
    "We will implement two other methods here, the Word2Vec model and the Doc2Vec model, also using `gensim`. Word2Vec creates representations of words, not documents, so the word level vectors need to be aggregated to obtain a representation for the document. Here, we will simply take the mean of the vectors. \n",
    "\n",
    "\n",
    "A drawback of these models is that they need a lot of training data. Our dataset is tiny, so in addition to using a model trained on the data, we will also use a pre-trained model for Word2Vec (this will be automatically downloaded).     \n",
    "\n",
    "*Note*:\n",
    "1. The code in vectorize_documents / vectorize_query should return gensim-like vectors i.e `[(dim, val), .. (dim, val)]`. \n",
    "2. For Word2Vec: You should also handle the following two cases: (a) A word in the query is not present in the vocabulary of the model and (b) none of the words in the query are present in the model - you can return 0 scores for all documents in this case. For either of these, you can check if a `word` is present in the vocab by using `word in self.model`\n"
   ]
  },
  {
   "cell_type": "code",
   "execution_count": 87,
   "metadata": {
    "deletable": false,
    "nbgrader": {
     "cell_type": "code",
     "checksum": "83ab733608ed14c29c09b36b4e1b6daa",
     "grade": false,
     "grade_id": "cell-2b73759f9baf688f",
     "locked": false,
     "schema_version": 3,
     "solution": true,
     "task": false
    }
   },
   "outputs": [
    {
     "name": "stderr",
     "output_type": "stream",
     "text": [
      "2022-02-28 16:06:51,877 : INFO : adding document #0 to Dictionary(0 unique tokens: [])\n",
      "2022-02-28 16:06:52,059 : INFO : built Dictionary(5937 unique tokens: ['-', 'algebra', 'intern', 'languag', 'preliminari']...) from 3204 documents (total 115969 corpus positions)\n",
      "2022-02-28 16:06:52,068 : INFO : discarding 4740 tokens: [('repeat', 8), ('glossari', 7), ('inspect', 8), ('uncol', 2), ('rung', 9), ('secant', 2), ('.', 1603), ('acceler', 6), ('diverg', 3), ('induc', 9)]...\n",
      "2022-02-28 16:06:52,068 : INFO : keeping 1197 tokens which were in no less than 10 and no more than 1602 (=50.0%) documents\n",
      "2022-02-28 16:06:52,072 : INFO : resulting dictionary: Dictionary(1197 unique tokens: ['-', 'algebra', 'intern', 'languag', 'preliminari']...)\n",
      "2022-02-28 16:06:52,162 : INFO : collecting all words and their counts\n",
      "2022-02-28 16:06:52,163 : INFO : PROGRESS: at sentence #0, processed 0 words, keeping 0 word types\n",
      "2022-02-28 16:06:52,184 : INFO : collected 5937 word types from a corpus of 115969 raw words and 3204 sentences\n",
      "2022-02-28 16:06:52,187 : INFO : Loading a fresh vocabulary\n",
      "2022-02-28 16:06:52,199 : INFO : effective_min_count=1 retains 5937 unique words (100% of original 5937, drops 0)\n",
      "2022-02-28 16:06:52,200 : INFO : effective_min_count=1 leaves 115969 word corpus (100% of original 115969, drops 0)\n",
      "2022-02-28 16:06:52,219 : INFO : deleting the raw counts dictionary of 5937 items\n",
      "2022-02-28 16:06:52,219 : INFO : sample=0.001 downsamples 40 most-common words\n",
      "2022-02-28 16:06:52,220 : INFO : downsampling leaves estimated 92346 word corpus (79.6% of prior 115969)\n",
      "2022-02-28 16:06:52,233 : INFO : estimated required memory for 5937 words and 100 dimensions: 7718100 bytes\n",
      "2022-02-28 16:06:52,234 : INFO : resetting layer weights\n",
      "2022-02-28 16:06:53,526 : INFO : training model with 3 workers on 5937 vocabulary and 100 features, using sg=0 hs=0 sample=0.001 negative=5 window=5\n",
      "2022-02-28 16:06:53,607 : INFO : worker thread finished; awaiting finish of 2 more threads\n",
      "2022-02-28 16:06:53,613 : INFO : worker thread finished; awaiting finish of 1 more threads\n",
      "2022-02-28 16:06:53,614 : INFO : worker thread finished; awaiting finish of 0 more threads\n",
      "2022-02-28 16:06:53,615 : INFO : EPOCH - 1 : training on 115969 raw words (92259 effective words) took 0.1s, 1201451 effective words/s\n",
      "2022-02-28 16:06:53,697 : INFO : worker thread finished; awaiting finish of 2 more threads\n",
      "2022-02-28 16:06:53,700 : INFO : worker thread finished; awaiting finish of 1 more threads\n",
      "2022-02-28 16:06:53,702 : INFO : worker thread finished; awaiting finish of 0 more threads\n",
      "2022-02-28 16:06:53,703 : INFO : EPOCH - 2 : training on 115969 raw words (92274 effective words) took 0.1s, 1148004 effective words/s\n",
      "2022-02-28 16:06:53,794 : INFO : worker thread finished; awaiting finish of 2 more threads\n",
      "2022-02-28 16:06:53,795 : INFO : worker thread finished; awaiting finish of 1 more threads\n",
      "2022-02-28 16:06:53,799 : INFO : worker thread finished; awaiting finish of 0 more threads\n",
      "2022-02-28 16:06:53,800 : INFO : EPOCH - 3 : training on 115969 raw words (92297 effective words) took 0.1s, 1027080 effective words/s\n",
      "2022-02-28 16:06:53,895 : INFO : worker thread finished; awaiting finish of 2 more threads\n",
      "2022-02-28 16:06:53,899 : INFO : worker thread finished; awaiting finish of 1 more threads\n",
      "2022-02-28 16:06:53,906 : INFO : worker thread finished; awaiting finish of 0 more threads\n",
      "2022-02-28 16:06:53,907 : INFO : EPOCH - 4 : training on 115969 raw words (92365 effective words) took 0.1s, 931857 effective words/s\n",
      "2022-02-28 16:06:54,005 : INFO : worker thread finished; awaiting finish of 2 more threads\n",
      "2022-02-28 16:06:54,013 : INFO : worker thread finished; awaiting finish of 1 more threads\n",
      "2022-02-28 16:06:54,023 : INFO : worker thread finished; awaiting finish of 0 more threads\n",
      "2022-02-28 16:06:54,024 : INFO : EPOCH - 5 : training on 115969 raw words (92193 effective words) took 0.1s, 833762 effective words/s\n",
      "2022-02-28 16:06:54,024 : INFO : training on a 579845 raw words (461388 effective words) took 0.5s, 928774 effective words/s\n"
     ]
    },
    {
     "data": {
      "text/plain": [
       "[(0, -0.4142029583454132),\n",
       " (1, 0.28526511788368225),\n",
       " (2, 0.8642717003822327),\n",
       " (3, -0.6668459177017212),\n",
       " (4, -0.04138992354273796),\n",
       " (5, 0.27527037262916565),\n",
       " (6, 0.364151269197464),\n",
       " (7, -0.556779682636261),\n",
       " (8, 0.13571695983409882),\n",
       " (9, 0.27846020460128784),\n",
       " (10, 0.48363080620765686),\n",
       " (11, -0.5324410200119019),\n",
       " (12, 0.8183668851852417),\n",
       " (13, -0.4641457498073578),\n",
       " (14, -0.1552993506193161),\n",
       " (15, -0.21027685701847076),\n",
       " (16, 0.4204370081424713),\n",
       " (17, 0.5785729885101318),\n",
       " (18, -0.7660531997680664),\n",
       " (19, 0.014141137711703777),\n",
       " (20, -0.21309122443199158),\n",
       " (21, -0.47860947251319885),\n",
       " (22, 0.135328009724617),\n",
       " (23, -0.40109893679618835),\n",
       " (24, 0.5913196206092834),\n",
       " (25, -0.34034082293510437),\n",
       " (26, 0.38986027240753174),\n",
       " (27, 0.582226574420929),\n",
       " (28, -0.06454683095216751),\n",
       " (29, 0.8768698573112488),\n",
       " (30, -0.7129101157188416),\n",
       " (31, 0.237588033080101),\n",
       " (32, -0.4593559205532074),\n",
       " (33, -0.617252767086029),\n",
       " (34, -0.3331409990787506),\n",
       " (35, 0.10253038257360458),\n",
       " (36, 0.4929816722869873),\n",
       " (37, -0.49251165986061096),\n",
       " (38, 0.451017826795578),\n",
       " (39, -0.5252232551574707),\n",
       " (40, -0.617604672908783),\n",
       " (41, -0.49735012650489807),\n",
       " (42, 0.2233789563179016),\n",
       " (43, -0.28061965107917786),\n",
       " (44, -0.3458114564418793),\n",
       " (45, 0.6217343807220459),\n",
       " (46, 0.2748204171657562),\n",
       " (47, -0.14537020027637482),\n",
       " (48, 0.40784552693367004),\n",
       " (49, 0.14892460405826569),\n",
       " (50, 0.3502918481826782),\n",
       " (51, 0.2527998387813568),\n",
       " (52, -0.13867957890033722),\n",
       " (53, -0.008027756586670876),\n",
       " (54, 0.4916044771671295),\n",
       " (55, 1.2089858055114746),\n",
       " (56, -0.06584357470273972),\n",
       " (57, 0.43992486596107483),\n",
       " (58, -0.20771296322345734),\n",
       " (59, -0.6588189005851746),\n",
       " (60, 0.25523635745048523),\n",
       " (61, 0.006020242813974619),\n",
       " (62, 0.21189503371715546),\n",
       " (63, -0.42840489745140076),\n",
       " (64, -0.23386730253696442),\n",
       " (65, -0.13423152267932892),\n",
       " (66, -0.16417677700519562),\n",
       " (67, 0.030314123257994652),\n",
       " (68, -0.5937581062316895),\n",
       " (69, 0.02812422253191471),\n",
       " (70, 0.16765104234218597),\n",
       " (71, 0.16338780522346497),\n",
       " (72, -0.11888621747493744),\n",
       " (73, 0.5587247610092163),\n",
       " (74, 0.37141871452331543),\n",
       " (75, 0.23535534739494324),\n",
       " (76, -0.38028421998023987),\n",
       " (77, -0.7900651693344116),\n",
       " (78, 0.05952666327357292),\n",
       " (79, 0.17170770466327667),\n",
       " (80, 0.2577236294746399),\n",
       " (81, -0.11473340541124344),\n",
       " (82, -0.1102539449930191),\n",
       " (83, 0.5687664151191711),\n",
       " (84, 0.013961300253868103),\n",
       " (85, -0.11526186764240265),\n",
       " (86, 0.5537792444229126),\n",
       " (87, -0.16170695424079895),\n",
       " (88, -0.5122559666633606),\n",
       " (89, -0.4161629378795624),\n",
       " (90, 0.12302850186824799),\n",
       " (91, 1.057847499847412),\n",
       " (92, -0.47514286637306213),\n",
       " (93, 0.29884573817253113),\n",
       " (94, 0.3542357087135315),\n",
       " (95, 0.19066505134105682),\n",
       " (96, 0.17308127880096436),\n",
       " (97, 0.52239990234375),\n",
       " (98, 0.2540789842605591),\n",
       " (99, 0.602243959903717)]"
      ]
     },
     "execution_count": 87,
     "metadata": {},
     "output_type": "execute_result"
    }
   ],
   "source": [
    "# TODO: Implement this! (10 points)\n",
    "class W2VRetrievalModel(VectorSpaceRetrievalModel):\n",
    "    def __init__(self, doc_repr):\n",
    "        super().__init__(doc_repr)\n",
    "\n",
    "        # the dimensionality of the vectors\n",
    "        self.size = 100\n",
    "        self.min_count = 1\n",
    "\n",
    "    def train_model(self):\n",
    "        \"\"\"\n",
    "        Trains the W2V model\n",
    "        \"\"\"\n",
    "        # YOUR CODE HERE\n",
    "        self.model = Word2Vec(\n",
    "            sentences=self.documents, size=self.size, min_count=self.min_count\n",
    "        )\n",
    "\n",
    "    def vectorize_documents(self):\n",
    "        \"\"\"\n",
    "        Returns a doc_id -> vector dictionary\n",
    "        \"\"\"\n",
    "        # YOUR CODE HERE\n",
    "        vectors = {}\n",
    "        for (doc_id, doc) in self.doc_repr:\n",
    "            # initializations for this document\n",
    "            doc_vector = np.zeros(self.size)\n",
    "            n_words = 0\n",
    "            for word in doc:\n",
    "                n_words += 1\n",
    "                # check that current word in doc in our model (needed for pretrained)\n",
    "                try:\n",
    "                    word_vector = self.model.wv[word]\n",
    "                except KeyError:\n",
    "                    # don't count this word\n",
    "                    n_words -= 1\n",
    "                    continue\n",
    "                doc_vector += word_vector\n",
    "            if n_words > 0:\n",
    "                # aggregate by taking the mean over the found words\n",
    "                doc_vector = doc_vector / n_words\n",
    "            # convert to weird gensim format that is desired\n",
    "            doc_vector = [(i, el) for i, el in enumerate(doc_vector)]\n",
    "            # and save to our dictionary\n",
    "            vectors[doc_id] = doc_vector\n",
    "\n",
    "        return vectors\n",
    "\n",
    "    def vectorize_query(self, query):\n",
    "        \"\"\"\n",
    "        Vectorizes the query using the W2V model\n",
    "        \"\"\"\n",
    "        # YOUR CODE HERE\n",
    "        query = process_text(query, **config_2)\n",
    "        # initialize query vector\n",
    "        query_vec = np.zeros(self.size)\n",
    "        # handle valid queries (i.e. processing hasn't made it empty)\n",
    "        if len(query) > 0:\n",
    "            n_words = 0\n",
    "            for word in query:\n",
    "                n_words += 1\n",
    "                # check that current word in query in our vocab\n",
    "                try:\n",
    "                    word_vector = self.model.wv[word]\n",
    "                except KeyError:\n",
    "                    # don't count this word\n",
    "                    n_words -= 1\n",
    "                    continue\n",
    "                query_vec += word_vector\n",
    "            if n_words > 0:\n",
    "                # aggregate by taking the mean over the found words\n",
    "                query_vec = query_vec / n_words\n",
    "        # convert to weird gensim format that is desired\n",
    "        query_vec = [(i, el) for i, el in enumerate(query_vec)]\n",
    "        return query_vec\n",
    "\n",
    "\n",
    "class W2VPretrainedRetrievalModel(W2VRetrievalModel):\n",
    "    def __init__(self, doc_repr):\n",
    "        super().__init__(doc_repr)\n",
    "        self.model_name = \"word2vec-google-news-300\"\n",
    "        self.size = 300\n",
    "\n",
    "    def train_model(self):\n",
    "        \"\"\"\n",
    "        Loads the pretrained model\n",
    "        \"\"\"\n",
    "        self.model = g_downloader.load(self.model_name)\n",
    "\n",
    "\n",
    "w2v = W2VRetrievalModel(doc_repr_2)\n",
    "w2v.train_model()\n",
    "\n",
    "# you can now get a W2V vector for a given query in the following way:\n",
    "w2v.vectorize_query(\"report\")"
   ]
  },
  {
   "cell_type": "code",
   "execution_count": 88,
   "metadata": {
    "deletable": false,
    "editable": false,
    "nbgrader": {
     "cell_type": "code",
     "checksum": "f92b5c5a8c6c4b80652b94223209ab0b",
     "grade": true,
     "grade_id": "cell-b31c0f8d214b8bdf",
     "locked": true,
     "points": 0,
     "schema_version": 3,
     "solution": false,
     "task": false
    }
   },
   "outputs": [],
   "source": [
    "assert len(w2v.vectorize_query(\"report\")) == 100\n",
    "assert len(w2v.vectorize_query(\"this is a sentence that is not mellifluous\")) == 100\n"
   ]
  },
  {
   "cell_type": "markdown",
   "metadata": {
    "deletable": false,
    "editable": false,
    "nbgrader": {
     "cell_type": "markdown",
     "checksum": "8dfaabebcb06f308a7ca61fdc5d369e7",
     "grade": false,
     "grade_id": "cell-c2614fa067386384",
     "locked": true,
     "points": 8,
     "schema_version": 3,
     "solution": false,
     "task": true
    }
   },
   "source": [
    "\\#### Please do not change this. This cell is used for grading."
   ]
  },
  {
   "cell_type": "code",
   "execution_count": 89,
   "metadata": {},
   "outputs": [
    {
     "name": "stderr",
     "output_type": "stream",
     "text": [
      "2022-02-28 16:06:54,056 : INFO : adding document #0 to Dictionary(0 unique tokens: [])\n",
      "2022-02-28 16:06:54,210 : INFO : built Dictionary(5937 unique tokens: ['-', 'algebra', 'intern', 'languag', 'preliminari']...) from 3204 documents (total 115969 corpus positions)\n",
      "2022-02-28 16:06:54,217 : INFO : discarding 4740 tokens: [('repeat', 8), ('glossari', 7), ('inspect', 8), ('uncol', 2), ('rung', 9), ('secant', 2), ('.', 1603), ('acceler', 6), ('diverg', 3), ('induc', 9)]...\n",
      "2022-02-28 16:06:54,218 : INFO : keeping 1197 tokens which were in no less than 10 and no more than 1602 (=50.0%) documents\n",
      "2022-02-28 16:06:54,224 : INFO : resulting dictionary: Dictionary(1197 unique tokens: ['-', 'algebra', 'intern', 'languag', 'preliminari']...)\n",
      "2022-02-28 16:06:54,636 : INFO : loading projection weights from /Users/thesofakillers/gensim-data/word2vec-google-news-300/word2vec-google-news-300.gz\n",
      "2022-02-28 16:07:43,372 : INFO : loaded (3000000, 300) matrix from /Users/thesofakillers/gensim-data/word2vec-google-news-300/word2vec-google-news-300.gz\n",
      "/Users/thesofakillers/miniconda3/envs/ir1/lib/python3.6/site-packages/ipykernel_launcher.py:64: DeprecationWarning: Call to deprecated `wv` (Attribute will be removed in 4.0.0, use self instead).\n"
     ]
    },
    {
     "data": {
      "text/plain": [
       "[(0, -0.142578125),\n",
       " (1, -0.1640625),\n",
       " (2, -0.09033203125),\n",
       " (3, -0.1123046875),\n",
       " (4, 0.10009765625),\n",
       " (5, -0.041259765625),\n",
       " (6, 0.048828125),\n",
       " (7, -0.13671875),\n",
       " (8, 0.1962890625),\n",
       " (9, -0.134765625),\n",
       " (10, -0.017578125),\n",
       " (11, 0.0322265625),\n",
       " (12, 0.09521484375),\n",
       " (13, -0.10595703125),\n",
       " (14, -0.169921875),\n",
       " (15, 0.041015625),\n",
       " (16, -0.263671875),\n",
       " (17, -0.006317138671875),\n",
       " (18, -0.177734375),\n",
       " (19, -0.240234375),\n",
       " (20, 0.3515625),\n",
       " (21, -0.01220703125),\n",
       " (22, -0.162109375),\n",
       " (23, -0.12060546875),\n",
       " (24, 0.043212890625),\n",
       " (25, 0.10986328125),\n",
       " (26, 0.052490234375),\n",
       " (27, 0.1787109375),\n",
       " (28, -0.1455078125),\n",
       " (29, 0.1376953125),\n",
       " (30, -0.08203125),\n",
       " (31, -0.283203125),\n",
       " (32, -0.10888671875),\n",
       " (33, -0.2890625),\n",
       " (34, 0.072265625),\n",
       " (35, -0.04736328125),\n",
       " (36, 0.040283203125),\n",
       " (37, 0.06787109375),\n",
       " (38, 0.11669921875),\n",
       " (39, 0.00083160400390625),\n",
       " (40, 0.068359375),\n",
       " (41, 0.1201171875),\n",
       " (42, -0.08837890625),\n",
       " (43, 0.337890625),\n",
       " (44, -0.044677734375),\n",
       " (45, -0.0301513671875),\n",
       " (46, 0.0076904296875),\n",
       " (47, -0.0211181640625),\n",
       " (48, -0.25390625),\n",
       " (49, 0.1494140625),\n",
       " (50, 0.3984375),\n",
       " (51, 0.0216064453125),\n",
       " (52, -0.023193359375),\n",
       " (53, 0.00634765625),\n",
       " (54, 0.00823974609375),\n",
       " (55, -0.1689453125),\n",
       " (56, 0.037353515625),\n",
       " (57, -0.0634765625),\n",
       " (58, 0.1171875),\n",
       " (59, -0.1484375),\n",
       " (60, -0.07861328125),\n",
       " (61, 0.369140625),\n",
       " (62, -0.224609375),\n",
       " (63, 0.173828125),\n",
       " (64, 0.01385498046875),\n",
       " (65, 0.1875),\n",
       " (66, -0.10107421875),\n",
       " (67, 0.037841796875),\n",
       " (68, 0.0021209716796875),\n",
       " (69, -0.05126953125),\n",
       " (70, 0.09619140625),\n",
       " (71, -0.05712890625),\n",
       " (72, 0.10595703125),\n",
       " (73, -0.02099609375),\n",
       " (74, 0.1611328125),\n",
       " (75, 0.09765625),\n",
       " (76, 0.038330078125),\n",
       " (77, 0.2197265625),\n",
       " (78, 0.1064453125),\n",
       " (79, 0.0859375),\n",
       " (80, 0.1796875),\n",
       " (81, -0.0830078125),\n",
       " (82, -0.033203125),\n",
       " (83, 0.041015625),\n",
       " (84, -0.06494140625),\n",
       " (85, 0.0198974609375),\n",
       " (86, 0.1337890625),\n",
       " (87, -0.09765625),\n",
       " (88, -0.193359375),\n",
       " (89, -0.2353515625),\n",
       " (90, 0.1904296875),\n",
       " (91, 0.0024871826171875),\n",
       " (92, -0.0157470703125),\n",
       " (93, 0.0322265625),\n",
       " (94, -0.2197265625),\n",
       " (95, -0.09130859375),\n",
       " (96, 0.021240234375),\n",
       " (97, 0.158203125),\n",
       " (98, 0.298828125),\n",
       " (99, -0.328125),\n",
       " (100, 0.057373046875),\n",
       " (101, -0.04638671875),\n",
       " (102, 0.11328125),\n",
       " (103, -0.1015625),\n",
       " (104, 0.1806640625),\n",
       " (105, -0.025146484375),\n",
       " (106, -0.166015625),\n",
       " (107, -0.09619140625),\n",
       " (108, 0.018798828125),\n",
       " (109, -0.1943359375),\n",
       " (110, 0.1494140625),\n",
       " (111, -0.056640625),\n",
       " (112, -0.10693359375),\n",
       " (113, -0.150390625),\n",
       " (114, -0.17578125),\n",
       " (115, 0.11279296875),\n",
       " (116, 0.04931640625),\n",
       " (117, 0.2197265625),\n",
       " (118, 0.318359375),\n",
       " (119, 0.1572265625),\n",
       " (120, -0.29296875),\n",
       " (121, 0.10498046875),\n",
       " (122, -0.296875),\n",
       " (123, -0.013427734375),\n",
       " (124, 0.0908203125),\n",
       " (125, 0.0125732421875),\n",
       " (126, -0.051513671875),\n",
       " (127, -0.12890625),\n",
       " (128, 0.01446533203125),\n",
       " (129, 0.12060546875),\n",
       " (130, -0.10107421875),\n",
       " (131, -0.111328125),\n",
       " (132, 0.06396484375),\n",
       " (133, -0.052978515625),\n",
       " (134, -0.043212890625),\n",
       " (135, -0.012939453125),\n",
       " (136, -0.027587890625),\n",
       " (137, -0.09716796875),\n",
       " (138, -0.2021484375),\n",
       " (139, 0.123046875),\n",
       " (140, -0.04248046875),\n",
       " (141, 0.173828125),\n",
       " (142, -0.013671875),\n",
       " (143, 0.1015625),\n",
       " (144, -0.00093841552734375),\n",
       " (145, -0.03564453125),\n",
       " (146, 0.30078125),\n",
       " (147, -0.068359375),\n",
       " (148, -0.05615234375),\n",
       " (149, 0.03759765625),\n",
       " (150, 0.06591796875),\n",
       " (151, 0.040283203125),\n",
       " (152, 0.01190185546875),\n",
       " (153, 0.09619140625),\n",
       " (154, 0.3671875),\n",
       " (155, -0.279296875),\n",
       " (156, -0.052001953125),\n",
       " (157, -0.10693359375),\n",
       " (158, -0.134765625),\n",
       " (159, -0.046142578125),\n",
       " (160, 0.25),\n",
       " (161, 0.00567626953125),\n",
       " (162, -0.014404296875),\n",
       " (163, -0.031005859375),\n",
       " (164, -0.060302734375),\n",
       " (165, 0.10595703125),\n",
       " (166, 0.37890625),\n",
       " (167, 0.058837890625),\n",
       " (168, 0.123046875),\n",
       " (169, -0.115234375),\n",
       " (170, 0.1494140625),\n",
       " (171, -0.1640625),\n",
       " (172, -0.2333984375),\n",
       " (173, -0.07763671875),\n",
       " (174, 0.0267333984375),\n",
       " (175, -0.0211181640625),\n",
       " (176, 0.1943359375),\n",
       " (177, -0.05615234375),\n",
       " (178, -0.006439208984375),\n",
       " (179, -0.169921875),\n",
       " (180, -0.11865234375),\n",
       " (181, -0.0673828125),\n",
       " (182, -0.06884765625),\n",
       " (183, -0.0869140625),\n",
       " (184, -0.1015625),\n",
       " (185, 0.01416015625),\n",
       " (186, -0.201171875),\n",
       " (187, 0.09814453125),\n",
       " (188, -0.01025390625),\n",
       " (189, 0.1875),\n",
       " (190, 0.1962890625),\n",
       " (191, -0.220703125),\n",
       " (192, -0.1962890625),\n",
       " (193, -0.07373046875),\n",
       " (194, 0.06640625),\n",
       " (195, -0.1337890625),\n",
       " (196, 0.18359375),\n",
       " (197, -0.2001953125),\n",
       " (198, 0.1982421875),\n",
       " (199, 0.05029296875),\n",
       " (200, 0.0299072265625),\n",
       " (201, 0.0177001953125),\n",
       " (202, -0.193359375),\n",
       " (203, -0.09619140625),\n",
       " (204, -0.1025390625),\n",
       " (205, 0.212890625),\n",
       " (206, -0.0299072265625),\n",
       " (207, 0.1435546875),\n",
       " (208, 0.041015625),\n",
       " (209, -0.2119140625),\n",
       " (210, 0.2080078125),\n",
       " (211, 0.1376953125),\n",
       " (212, -0.0196533203125),\n",
       " (213, 0.01495361328125),\n",
       " (214, -0.09765625),\n",
       " (215, 0.2431640625),\n",
       " (216, 0.080078125),\n",
       " (217, 0.08251953125),\n",
       " (218, 0.0986328125),\n",
       " (219, 0.056884765625),\n",
       " (220, 0.04248046875),\n",
       " (221, 0.06884765625),\n",
       " (222, -0.035400390625),\n",
       " (223, -0.076171875),\n",
       " (224, -0.00016117095947265625),\n",
       " (225, -0.0751953125),\n",
       " (226, 0.224609375),\n",
       " (227, 0.1513671875),\n",
       " (228, 0.1005859375),\n",
       " (229, 0.10986328125),\n",
       " (230, 0.0238037109375),\n",
       " (231, 0.08837890625),\n",
       " (232, 0.061767578125),\n",
       " (233, -0.10791015625),\n",
       " (234, 0.062255859375),\n",
       " (235, 0.0034332275390625),\n",
       " (236, 0.08056640625),\n",
       " (237, 0.10693359375),\n",
       " (238, 0.0888671875),\n",
       " (239, -0.2373046875),\n",
       " (240, 0.06494140625),\n",
       " (241, 0.01019287109375),\n",
       " (242, -0.08837890625),\n",
       " (243, -0.33203125),\n",
       " (244, 0.004669189453125),\n",
       " (245, 0.212890625),\n",
       " (246, 0.0859375),\n",
       " (247, 0.0203857421875),\n",
       " (248, 0.045654296875),\n",
       " (249, 0.1484375),\n",
       " (250, 0.1181640625),\n",
       " (251, 0.0556640625),\n",
       " (252, -0.1728515625),\n",
       " (253, -0.125),\n",
       " (254, -0.025390625),\n",
       " (255, -0.318359375),\n",
       " (256, 0.0311279296875),\n",
       " (257, 0.0859375),\n",
       " (258, -0.0419921875),\n",
       " (259, 0.15625),\n",
       " (260, 0.1611328125),\n",
       " (261, 0.1982421875),\n",
       " (262, -0.10009765625),\n",
       " (263, 0.203125),\n",
       " (264, 0.12890625),\n",
       " (265, 0.2333984375),\n",
       " (266, -0.267578125),\n",
       " (267, 0.05517578125),\n",
       " (268, 0.048828125),\n",
       " (269, 0.072265625),\n",
       " (270, 0.244140625),\n",
       " (271, 0.244140625),\n",
       " (272, 0.056884765625),\n",
       " (273, -0.0546875),\n",
       " (274, -0.03369140625),\n",
       " (275, -0.12060546875),\n",
       " (276, 0.034912109375),\n",
       " (277, -0.1455078125),\n",
       " (278, 0.08740234375),\n",
       " (279, -0.0830078125),\n",
       " (280, 0.0172119140625),\n",
       " (281, 0.1435546875),\n",
       " (282, -0.12255859375),\n",
       " (283, 0.1796875),\n",
       " (284, 0.130859375),\n",
       " (285, -0.1650390625),\n",
       " (286, 0.01275634765625),\n",
       " (287, 0.16015625),\n",
       " (288, -0.0311279296875),\n",
       " (289, 0.08203125),\n",
       " (290, 0.173828125),\n",
       " (291, -0.16796875),\n",
       " (292, 0.130859375),\n",
       " (293, 0.08544921875),\n",
       " (294, -0.2109375),\n",
       " (295, -0.130859375),\n",
       " (296, -0.0289306640625),\n",
       " (297, -0.10546875),\n",
       " (298, 0.08447265625),\n",
       " (299, -0.1416015625)]"
      ]
     },
     "execution_count": 89,
     "metadata": {},
     "output_type": "execute_result"
    }
   ],
   "source": [
    "w2v_pretrained = W2VPretrainedRetrievalModel(doc_repr_2)\n",
    "w2v_pretrained.train_model()\n",
    "\n",
    "# you can now get an W2V vector for a given query in the following way:\n",
    "w2v_pretrained.vectorize_query(\"report\")"
   ]
  },
  {
   "cell_type": "code",
   "execution_count": 90,
   "metadata": {
    "deletable": false,
    "editable": false,
    "nbgrader": {
     "cell_type": "code",
     "checksum": "0822845afb5eafe5ddb1ffeaa4f4942a",
     "grade": true,
     "grade_id": "cell-1b1466f8ce516f42",
     "locked": true,
     "points": 2,
     "schema_version": 3,
     "solution": false,
     "task": false
    }
   },
   "outputs": [
    {
     "name": "stdout",
     "output_type": "stream",
     "text": [
      "300\n"
     ]
    },
    {
     "name": "stderr",
     "output_type": "stream",
     "text": [
      "/Users/thesofakillers/miniconda3/envs/ir1/lib/python3.6/site-packages/ipykernel_launcher.py:64: DeprecationWarning: Call to deprecated `wv` (Attribute will be removed in 4.0.0, use self instead).\n"
     ]
    }
   ],
   "source": [
    "##### Function check\n",
    "\n",
    "print(len(w2v_pretrained.vectorize_query(\"report\")))\n",
    "#####"
   ]
  },
  {
   "cell_type": "code",
   "execution_count": 91,
   "metadata": {},
   "outputs": [
    {
     "data": {
      "application/vnd.jupyter.widget-view+json": {
       "model_id": "a5977a315a2d40339ab2c511ddeefb51",
       "version_major": 2,
       "version_minor": 0
      },
      "text/plain": [
       "Text(value='', description='Search Bar')"
      ]
     },
     "metadata": {},
     "output_type": "display_data"
    }
   ],
   "source": [
    "drm_w2v = DenseRetrievalRanker(w2v, cosine_sim)\n",
    "\n",
    "# test your LDA model\n",
    "search_fn = drm_w2v.search\n",
    "\n",
    "text = widgets.Text(description=\"Search Bar\", width=200)\n",
    "display(text)\n",
    "\n",
    "\n",
    "text.on_submit(handle_submit_2)"
   ]
  },
  {
   "cell_type": "code",
   "execution_count": 92,
   "metadata": {},
   "outputs": [
    {
     "name": "stderr",
     "output_type": "stream",
     "text": [
      "/Users/thesofakillers/miniconda3/envs/ir1/lib/python3.6/site-packages/ipykernel_launcher.py:33: DeprecationWarning: Call to deprecated `wv` (Attribute will be removed in 4.0.0, use self instead).\n"
     ]
    },
    {
     "data": {
      "application/vnd.jupyter.widget-view+json": {
       "model_id": "775769e7ebe74a439efb91b679f88cd6",
       "version_major": 2,
       "version_minor": 0
      },
      "text/plain": [
       "Text(value='', description='Search Bar')"
      ]
     },
     "metadata": {},
     "output_type": "display_data"
    }
   ],
   "source": [
    "drm_w2v_pretrained = DenseRetrievalRanker(w2v_pretrained, cosine_sim)\n",
    "\n",
    "# test your LDA model\n",
    "search_fn = drm_w2v_pretrained.search\n",
    "\n",
    "text = widgets.Text(description=\"Search Bar\", width=200)\n",
    "display(text)\n",
    "\n",
    "\n",
    "text.on_submit(handle_submit_2)"
   ]
  },
  {
   "cell_type": "markdown",
   "metadata": {
    "deletable": false,
    "editable": false,
    "nbgrader": {
     "cell_type": "markdown",
     "checksum": "51b778984fd60757974f51047c61eb15",
     "grade": false,
     "grade_id": "cell-b92f701cbc706108",
     "locked": true,
     "schema_version": 3,
     "solution": false,
     "task": false
    }
   },
   "source": [
    "**Implementation (10 points):**\n",
    "For Doc2Vec, you will need to create a list of `TaggedDocument` instead of using the `self.corpus` or `self.documents` variable. Use the document id as the 'tag'.\n",
    "  "
   ]
  },
  {
   "cell_type": "code",
   "execution_count": 93,
   "metadata": {
    "deletable": false,
    "nbgrader": {
     "cell_type": "code",
     "checksum": "1f60fdeb97febb7f4a6fd5bf109aac20",
     "grade": false,
     "grade_id": "cell-680facdcc98a19ab",
     "locked": false,
     "schema_version": 3,
     "solution": true,
     "task": false
    }
   },
   "outputs": [
    {
     "name": "stderr",
     "output_type": "stream",
     "text": [
      "2022-02-28 16:07:46,571 : INFO : adding document #0 to Dictionary(0 unique tokens: [])\n",
      "2022-02-28 16:07:46,735 : INFO : built Dictionary(5937 unique tokens: ['-', 'algebra', 'intern', 'languag', 'preliminari']...) from 3204 documents (total 115969 corpus positions)\n",
      "2022-02-28 16:07:46,743 : INFO : discarding 4740 tokens: [('repeat', 8), ('glossari', 7), ('inspect', 8), ('uncol', 2), ('rung', 9), ('secant', 2), ('.', 1603), ('acceler', 6), ('diverg', 3), ('induc', 9)]...\n",
      "2022-02-28 16:07:46,743 : INFO : keeping 1197 tokens which were in no less than 10 and no more than 1602 (=50.0%) documents\n",
      "2022-02-28 16:07:46,749 : INFO : resulting dictionary: Dictionary(1197 unique tokens: ['-', 'algebra', 'intern', 'languag', 'preliminari']...)\n",
      "2022-02-28 16:07:46,869 : INFO : collecting all words and their counts\n",
      "2022-02-28 16:07:46,870 : INFO : PROGRESS: at example #0, processed 0 words (0/s), 0 word types, 0 tags\n",
      "2022-02-28 16:07:46,902 : INFO : collected 5937 word types and 3204 unique tags from a corpus of 3204 examples and 115969 words\n",
      "2022-02-28 16:07:46,903 : INFO : Loading a fresh vocabulary\n",
      "2022-02-28 16:07:46,919 : INFO : effective_min_count=1 retains 5937 unique words (100% of original 5937, drops 0)\n",
      "2022-02-28 16:07:46,920 : INFO : effective_min_count=1 leaves 115969 word corpus (100% of original 115969, drops 0)\n",
      "2022-02-28 16:07:46,968 : INFO : deleting the raw counts dictionary of 5937 items\n",
      "2022-02-28 16:07:46,969 : INFO : sample=0.001 downsamples 40 most-common words\n",
      "2022-02-28 16:07:46,971 : INFO : downsampling leaves estimated 92346 word corpus (79.6% of prior 115969)\n",
      "2022-02-28 16:07:46,991 : INFO : estimated required memory for 5937 words and 100 dimensions: 9640500 bytes\n",
      "2022-02-28 16:07:46,992 : INFO : resetting layer weights\n",
      "2022-02-28 16:07:49,367 : INFO : training model with 3 workers on 5937 vocabulary and 100 features, using sg=0 hs=0 sample=0.001 negative=5 window=5\n",
      "2022-02-28 16:07:49,702 : INFO : worker thread finished; awaiting finish of 2 more threads\n",
      "2022-02-28 16:07:49,719 : INFO : worker thread finished; awaiting finish of 1 more threads\n",
      "2022-02-28 16:07:49,723 : INFO : worker thread finished; awaiting finish of 0 more threads\n",
      "2022-02-28 16:07:49,725 : INFO : EPOCH - 1 : training on 115969 raw words (95470 effective words) took 0.3s, 279425 effective words/s\n",
      "2022-02-28 16:07:50,075 : INFO : worker thread finished; awaiting finish of 2 more threads\n",
      "2022-02-28 16:07:50,084 : INFO : worker thread finished; awaiting finish of 1 more threads\n",
      "2022-02-28 16:07:50,095 : INFO : worker thread finished; awaiting finish of 0 more threads\n",
      "2022-02-28 16:07:50,096 : INFO : EPOCH - 2 : training on 115969 raw words (95552 effective words) took 0.4s, 267510 effective words/s\n",
      "2022-02-28 16:07:50,577 : INFO : worker thread finished; awaiting finish of 2 more threads\n",
      "2022-02-28 16:07:50,587 : INFO : worker thread finished; awaiting finish of 1 more threads\n",
      "2022-02-28 16:07:50,602 : INFO : worker thread finished; awaiting finish of 0 more threads\n",
      "2022-02-28 16:07:50,603 : INFO : EPOCH - 3 : training on 115969 raw words (95588 effective words) took 0.5s, 190479 effective words/s\n",
      "2022-02-28 16:07:50,987 : INFO : worker thread finished; awaiting finish of 2 more threads\n",
      "2022-02-28 16:07:51,012 : INFO : worker thread finished; awaiting finish of 1 more threads\n",
      "2022-02-28 16:07:51,028 : INFO : worker thread finished; awaiting finish of 0 more threads\n",
      "2022-02-28 16:07:51,029 : INFO : EPOCH - 4 : training on 115969 raw words (95549 effective words) took 0.4s, 230052 effective words/s\n",
      "2022-02-28 16:07:51,325 : INFO : worker thread finished; awaiting finish of 2 more threads\n",
      "2022-02-28 16:07:51,333 : INFO : worker thread finished; awaiting finish of 1 more threads\n",
      "2022-02-28 16:07:51,336 : INFO : worker thread finished; awaiting finish of 0 more threads\n",
      "2022-02-28 16:07:51,337 : INFO : EPOCH - 5 : training on 115969 raw words (95485 effective words) took 0.3s, 314969 effective words/s\n",
      "2022-02-28 16:07:51,670 : INFO : worker thread finished; awaiting finish of 2 more threads\n",
      "2022-02-28 16:07:51,693 : INFO : worker thread finished; awaiting finish of 1 more threads\n",
      "2022-02-28 16:07:51,698 : INFO : worker thread finished; awaiting finish of 0 more threads\n",
      "2022-02-28 16:07:51,699 : INFO : EPOCH - 6 : training on 115969 raw words (95469 effective words) took 0.4s, 267678 effective words/s\n",
      "2022-02-28 16:07:51,997 : INFO : worker thread finished; awaiting finish of 2 more threads\n",
      "2022-02-28 16:07:52,002 : INFO : worker thread finished; awaiting finish of 1 more threads\n",
      "2022-02-28 16:07:52,012 : INFO : worker thread finished; awaiting finish of 0 more threads\n",
      "2022-02-28 16:07:52,014 : INFO : EPOCH - 7 : training on 115969 raw words (95431 effective words) took 0.3s, 306675 effective words/s\n",
      "2022-02-28 16:07:52,409 : INFO : worker thread finished; awaiting finish of 2 more threads\n",
      "2022-02-28 16:07:52,418 : INFO : worker thread finished; awaiting finish of 1 more threads\n",
      "2022-02-28 16:07:52,421 : INFO : worker thread finished; awaiting finish of 0 more threads\n",
      "2022-02-28 16:07:52,422 : INFO : EPOCH - 8 : training on 115969 raw words (95693 effective words) took 0.4s, 238141 effective words/s\n",
      "2022-02-28 16:07:52,740 : INFO : worker thread finished; awaiting finish of 2 more threads\n",
      "2022-02-28 16:07:52,743 : INFO : worker thread finished; awaiting finish of 1 more threads\n",
      "2022-02-28 16:07:52,752 : INFO : worker thread finished; awaiting finish of 0 more threads\n",
      "2022-02-28 16:07:52,753 : INFO : EPOCH - 9 : training on 115969 raw words (95484 effective words) took 0.3s, 291757 effective words/s\n",
      "2022-02-28 16:07:53,045 : INFO : worker thread finished; awaiting finish of 2 more threads\n",
      "2022-02-28 16:07:53,068 : INFO : worker thread finished; awaiting finish of 1 more threads\n",
      "2022-02-28 16:07:53,083 : INFO : worker thread finished; awaiting finish of 0 more threads\n",
      "2022-02-28 16:07:53,084 : INFO : EPOCH - 10 : training on 115969 raw words (95449 effective words) took 0.3s, 293924 effective words/s\n",
      "2022-02-28 16:07:53,368 : INFO : worker thread finished; awaiting finish of 2 more threads\n",
      "2022-02-28 16:07:53,375 : INFO : worker thread finished; awaiting finish of 1 more threads\n",
      "2022-02-28 16:07:53,378 : INFO : worker thread finished; awaiting finish of 0 more threads\n",
      "2022-02-28 16:07:53,379 : INFO : EPOCH - 11 : training on 115969 raw words (95427 effective words) took 0.3s, 331569 effective words/s\n",
      "2022-02-28 16:07:53,660 : INFO : worker thread finished; awaiting finish of 2 more threads\n",
      "2022-02-28 16:07:53,661 : INFO : worker thread finished; awaiting finish of 1 more threads\n",
      "2022-02-28 16:07:53,666 : INFO : worker thread finished; awaiting finish of 0 more threads\n",
      "2022-02-28 16:07:53,666 : INFO : EPOCH - 12 : training on 115969 raw words (95564 effective words) took 0.3s, 338518 effective words/s\n",
      "2022-02-28 16:07:53,946 : INFO : worker thread finished; awaiting finish of 2 more threads\n",
      "2022-02-28 16:07:53,950 : INFO : worker thread finished; awaiting finish of 1 more threads\n",
      "2022-02-28 16:07:53,958 : INFO : worker thread finished; awaiting finish of 0 more threads\n",
      "2022-02-28 16:07:53,959 : INFO : EPOCH - 13 : training on 115969 raw words (95451 effective words) took 0.3s, 330920 effective words/s\n",
      "2022-02-28 16:07:54,241 : INFO : worker thread finished; awaiting finish of 2 more threads\n",
      "2022-02-28 16:07:54,253 : INFO : worker thread finished; awaiting finish of 1 more threads\n",
      "2022-02-28 16:07:54,256 : INFO : worker thread finished; awaiting finish of 0 more threads\n",
      "2022-02-28 16:07:54,256 : INFO : EPOCH - 14 : training on 115969 raw words (95501 effective words) took 0.3s, 327801 effective words/s\n",
      "2022-02-28 16:07:54,628 : INFO : worker thread finished; awaiting finish of 2 more threads\n",
      "2022-02-28 16:07:54,672 : INFO : worker thread finished; awaiting finish of 1 more threads\n",
      "2022-02-28 16:07:54,676 : INFO : worker thread finished; awaiting finish of 0 more threads\n",
      "2022-02-28 16:07:54,677 : INFO : EPOCH - 15 : training on 115969 raw words (95542 effective words) took 0.4s, 232688 effective words/s\n",
      "2022-02-28 16:07:55,044 : INFO : worker thread finished; awaiting finish of 2 more threads\n",
      "2022-02-28 16:07:55,044 : INFO : worker thread finished; awaiting finish of 1 more threads\n",
      "2022-02-28 16:07:55,059 : INFO : worker thread finished; awaiting finish of 0 more threads\n",
      "2022-02-28 16:07:55,059 : INFO : EPOCH - 16 : training on 115969 raw words (95529 effective words) took 0.4s, 255453 effective words/s\n",
      "2022-02-28 16:07:55,342 : INFO : worker thread finished; awaiting finish of 2 more threads\n",
      "2022-02-28 16:07:55,350 : INFO : worker thread finished; awaiting finish of 1 more threads\n",
      "2022-02-28 16:07:55,355 : INFO : worker thread finished; awaiting finish of 0 more threads\n",
      "2022-02-28 16:07:55,356 : INFO : EPOCH - 17 : training on 115969 raw words (95469 effective words) took 0.3s, 327491 effective words/s\n",
      "2022-02-28 16:07:55,678 : INFO : worker thread finished; awaiting finish of 2 more threads\n",
      "2022-02-28 16:07:55,680 : INFO : worker thread finished; awaiting finish of 1 more threads\n",
      "2022-02-28 16:07:55,687 : INFO : worker thread finished; awaiting finish of 0 more threads\n",
      "2022-02-28 16:07:55,687 : INFO : EPOCH - 18 : training on 115969 raw words (95551 effective words) took 0.3s, 293092 effective words/s\n",
      "2022-02-28 16:07:56,098 : INFO : worker thread finished; awaiting finish of 2 more threads\n",
      "2022-02-28 16:07:56,108 : INFO : worker thread finished; awaiting finish of 1 more threads\n",
      "2022-02-28 16:07:56,120 : INFO : worker thread finished; awaiting finish of 0 more threads\n",
      "2022-02-28 16:07:56,122 : INFO : EPOCH - 19 : training on 115969 raw words (95414 effective words) took 0.4s, 223105 effective words/s\n",
      "2022-02-28 16:07:56,493 : INFO : worker thread finished; awaiting finish of 2 more threads\n",
      "2022-02-28 16:07:56,503 : INFO : worker thread finished; awaiting finish of 1 more threads\n",
      "2022-02-28 16:07:56,509 : INFO : worker thread finished; awaiting finish of 0 more threads\n",
      "2022-02-28 16:07:56,510 : INFO : EPOCH - 20 : training on 115969 raw words (95607 effective words) took 0.4s, 250477 effective words/s\n",
      "2022-02-28 16:07:56,510 : INFO : training on a 2319380 raw words (1910225 effective words) took 7.1s, 267448 effective words/s\n"
     ]
    },
    {
     "data": {
      "text/plain": [
       "[(0, -0.0070561753),\n",
       " (1, 0.042105578),\n",
       " (2, 0.023024926),\n",
       " (3, -0.03247511),\n",
       " (4, 0.009688283),\n",
       " (5, -0.03135012),\n",
       " (6, 0.03317833),\n",
       " (7, -0.058093973),\n",
       " (8, 0.019127363),\n",
       " (9, -0.032982223),\n",
       " (10, 0.06973073),\n",
       " (11, -0.013027598),\n",
       " (12, 0.07921021),\n",
       " (13, -0.08504758),\n",
       " (14, 0.040346697),\n",
       " (15, -0.06673964),\n",
       " (16, 0.10438893),\n",
       " (17, 0.03467879),\n",
       " (18, -0.10767978),\n",
       " (19, 0.03196124),\n",
       " (20, 0.005050666),\n",
       " (21, -0.06507991),\n",
       " (22, 0.027683057),\n",
       " (23, -0.034591384),\n",
       " (24, -0.043162856),\n",
       " (25, -0.079493865),\n",
       " (26, 0.0059082876),\n",
       " (27, 0.043330934),\n",
       " (28, 0.009177539),\n",
       " (29, 0.076371916),\n",
       " (30, -0.075006604),\n",
       " (31, 0.027748002),\n",
       " (32, -0.043025594),\n",
       " (33, -0.079194814),\n",
       " (34, -0.082278304),\n",
       " (35, -0.023427317),\n",
       " (36, 0.017498108),\n",
       " (37, -0.03933613),\n",
       " (38, 0.04194707),\n",
       " (39, -0.03957841),\n",
       " (40, -0.06312882),\n",
       " (41, -0.055663735),\n",
       " (42, 0.011463613),\n",
       " (43, -0.042223763),\n",
       " (44, 0.015132719),\n",
       " (45, -0.0077521876),\n",
       " (46, 0.11159097),\n",
       " (47, 0.023942528),\n",
       " (48, 0.0029228989),\n",
       " (49, -0.00507773),\n",
       " (50, 0.04781544),\n",
       " (51, 0.0029238448),\n",
       " (52, -0.012549072),\n",
       " (53, -0.01256215),\n",
       " (54, 0.080430195),\n",
       " (55, 0.08948459),\n",
       " (56, -0.01302531),\n",
       " (57, 0.048513196),\n",
       " (58, -0.017827574),\n",
       " (59, -0.089873426),\n",
       " (60, 0.02452878),\n",
       " (61, -0.0010019293),\n",
       " (62, 0.061145782),\n",
       " (63, -0.038524013),\n",
       " (64, -0.027194675),\n",
       " (65, -0.026615737),\n",
       " (66, -0.04075752),\n",
       " (67, 0.04466213),\n",
       " (68, 0.025654119),\n",
       " (69, 0.040174637),\n",
       " (70, 0.044873245),\n",
       " (71, 0.11417611),\n",
       " (72, 0.01711519),\n",
       " (73, 0.08294964),\n",
       " (74, 0.07087236),\n",
       " (75, 0.059896596),\n",
       " (76, -0.096465185),\n",
       " (77, -0.016175255),\n",
       " (78, -0.032479662),\n",
       " (79, 0.020735791),\n",
       " (80, 0.012552286),\n",
       " (81, -0.057736643),\n",
       " (82, -0.035477545),\n",
       " (83, 0.09953129),\n",
       " (84, 0.039439272),\n",
       " (85, 0.0027350085),\n",
       " (86, 0.045931257),\n",
       " (87, 0.02755406),\n",
       " (88, -0.10147486),\n",
       " (89, -0.09118379),\n",
       " (90, 0.020052524),\n",
       " (91, 0.10386439),\n",
       " (92, -0.094268695),\n",
       " (93, 0.002547358),\n",
       " (94, 0.06305995),\n",
       " (95, 0.024543433),\n",
       " (96, -0.0015363211),\n",
       " (97, 0.010281946),\n",
       " (98, 0.12285838),\n",
       " (99, -0.0004368232)]"
      ]
     },
     "execution_count": 93,
     "metadata": {},
     "output_type": "execute_result"
    }
   ],
   "source": [
    "# TODO: Implement this! (10 points)\n",
    "class D2VRetrievalModel(VectorSpaceRetrievalModel):\n",
    "    def __init__(self, doc_repr):\n",
    "        super().__init__(doc_repr)\n",
    "\n",
    "        self.vector_size = 100\n",
    "        self.min_count = 1\n",
    "        self.epochs = 20\n",
    "\n",
    "        # YOUR CODE HERE\n",
    "        self.tagged_documents = [\n",
    "            TaggedDocument(doc, [doc_id]) for doc_id, doc in self.doc_repr\n",
    "        ]\n",
    "\n",
    "    def train_model(self):\n",
    "        # YOUR CODE HERE\n",
    "        self.model = Doc2Vec(\n",
    "            documents=self.tagged_documents,\n",
    "            vector_size=self.vector_size,\n",
    "            epochs=self.epochs,\n",
    "            min_count=self.min_count,\n",
    "        )\n",
    "\n",
    "    def vectorize_documents(self):\n",
    "        \"\"\"\n",
    "        Returns a doc_id -> vector dictionary\n",
    "        \"\"\"\n",
    "        # YOUR CODE HERE\n",
    "        vectors = {}\n",
    "        for (doc_id, doc) in self.doc_repr:\n",
    "            doc_vec = self.model.docvecs[doc_id]\n",
    "            # convert to weird gensim format\n",
    "            doc_vec = [(i, el) for i, el in enumerate(doc_vec)]\n",
    "            # store\n",
    "            vectors[doc_id] = doc_vec\n",
    "        return vectors\n",
    "\n",
    "    def vectorize_query(self, query):\n",
    "        # YOUR CODE HERE\n",
    "        query = process_text(query, **config_2)\n",
    "        query_vec = self.model.infer_vector(query)\n",
    "        # conver to weird gensim format\n",
    "        query_vec = [(i, el) for i, el in enumerate(query_vec)]\n",
    "        return query_vec\n",
    "\n",
    "\n",
    "d2v = D2VRetrievalModel(doc_repr_2)\n",
    "d2v.train_model()\n",
    "\n",
    "\n",
    "# # you can now get an LSI vector for a given query in the following way:\n",
    "d2v.vectorize_query(\"report\")"
   ]
  },
  {
   "cell_type": "code",
   "execution_count": 94,
   "metadata": {
    "deletable": false,
    "editable": false,
    "nbgrader": {
     "cell_type": "code",
     "checksum": "e83a363a9d4f136efbdde1426a83925e",
     "grade": true,
     "grade_id": "cell-5e2c5e0c9a2e8cb5",
     "locked": true,
     "points": 0,
     "schema_version": 3,
     "solution": false,
     "task": false
    }
   },
   "outputs": [],
   "source": [
    "#### Please do not change this. This cell is used for grading."
   ]
  },
  {
   "cell_type": "markdown",
   "metadata": {
    "deletable": false,
    "editable": false,
    "nbgrader": {
     "cell_type": "markdown",
     "checksum": "5bb46bf6b9be1e0ca66f0b0bc6260ecb",
     "grade": false,
     "grade_id": "cell-8a49d414f798a595",
     "locked": true,
     "points": 10,
     "schema_version": 3,
     "solution": false,
     "task": true
    }
   },
   "source": [
    "\\#### Please do not change this. This cell is used for grading."
   ]
  },
  {
   "cell_type": "code",
   "execution_count": 95,
   "metadata": {},
   "outputs": [
    {
     "data": {
      "application/vnd.jupyter.widget-view+json": {
       "model_id": "20bfd58735a641fd9ea920faf803a05a",
       "version_major": 2,
       "version_minor": 0
      },
      "text/plain": [
       "Text(value='', description='Search Bar')"
      ]
     },
     "metadata": {},
     "output_type": "display_data"
    }
   ],
   "source": [
    "drm_d2v = DenseRetrievalRanker(d2v, cosine_sim)\n",
    "\n",
    "# test your LDA model\n",
    "search_fn = drm_d2v.search\n",
    "\n",
    "text = widgets.Text(description=\"Search Bar\", width=200)\n",
    "display(text)\n",
    "\n",
    "\n",
    "text.on_submit(handle_submit_2)"
   ]
  },
  {
   "cell_type": "markdown",
   "metadata": {
    "deletable": false,
    "editable": false,
    "nbgrader": {
     "cell_type": "markdown",
     "checksum": "363ec36c1d03d9f9e1c2045a6e193c14",
     "grade": false,
     "grade_id": "cell-3529ae29eece7b97",
     "locked": true,
     "schema_version": 3,
     "solution": false,
     "task": false
    }
   },
   "source": [
    "---\n",
    "## Section 9: Re-ranking (10 points) <a class=\"anchor\" id=\"reranking\"></a>\n",
    "\n",
    "[Back to Part 2](#part2)\n",
    "\n",
    "To motivate the re-ranking perspective (i.e retrieve with lexical method + rerank with a semantic method), let's search using semantic methods and compare it to BM25's performance, along with their runtime:\n"
   ]
  },
  {
   "cell_type": "code",
   "execution_count": 96,
   "metadata": {
    "deletable": false,
    "editable": false,
    "nbgrader": {
     "cell_type": "code",
     "checksum": "5755f70e3eb28abc65d14d80125338af",
     "grade": false,
     "grade_id": "cell-f8f43bf5ae383128",
     "locked": true,
     "schema_version": 3,
     "solution": false,
     "task": false
    }
   },
   "outputs": [
    {
     "name": "stdout",
     "output_type": "stream",
     "text": [
      "BM25: \n",
      "1.67 ms ± 179 µs per loop (mean ± std. dev. of 7 runs, 100 loops each)\n",
      "LSI: \n",
      "575 ms ± 48 ms per loop (mean ± std. dev. of 7 runs, 1 loop each)\n",
      "LDA: \n",
      "188 ms ± 3.67 ms per loop (mean ± std. dev. of 7 runs, 1 loop each)\n",
      "W2V: \n",
      "606 ms ± 42.8 ms per loop (mean ± std. dev. of 7 runs, 1 loop each)\n",
      "W2V(Pretrained): \n"
     ]
    },
    {
     "name": "stderr",
     "output_type": "stream",
     "text": [
      "/Users/thesofakillers/miniconda3/envs/ir1/lib/python3.6/site-packages/ipykernel_launcher.py:64: DeprecationWarning: Call to deprecated `wv` (Attribute will be removed in 4.0.0, use self instead).\n"
     ]
    },
    {
     "name": "stdout",
     "output_type": "stream",
     "text": [
      "1.7 s ± 83.6 ms per loop (mean ± std. dev. of 7 runs, 1 loop each)\n",
      "D2V:\n",
      "2.9 s ± 34.2 ms per loop (mean ± std. dev. of 7 runs, 1 loop each)\n"
     ]
    }
   ],
   "source": [
    "query = \"algebraic functions\"\n",
    "print(\"BM25: \")\n",
    "%timeit bm25_search(query, 2)\n",
    "print(\"LSI: \")\n",
    "%timeit drm_lsi.search(query)\n",
    "print(\"LDA: \")\n",
    "%timeit drm_lda.search(query)\n",
    "print(\"W2V: \")\n",
    "%timeit drm_w2v.search(query)\n",
    "print(\"W2V(Pretrained): \")\n",
    "%timeit drm_w2v_pretrained.search(query)\n",
    "print(\"D2V:\")\n",
    "%timeit drm_d2v.search(query)"
   ]
  },
  {
   "cell_type": "markdown",
   "metadata": {
    "deletable": false,
    "editable": false,
    "nbgrader": {
     "cell_type": "markdown",
     "checksum": "ae398da0a8c23c95bcbb0023b7ec6f34",
     "grade": false,
     "grade_id": "cell-db5ff09f97841af7",
     "locked": true,
     "schema_version": 3,
     "solution": false,
     "task": false
    }
   },
   "source": [
    "---\n",
    "\n",
    "**Implementation (10 points):**\n",
    "Re-ranking involves retrieving a small set of documents using simple but fast methods like BM25 and then re-ranking them with the aid of semantic methods such as LDA or LSI. Implement the following class, which takes in an `initial_retrieval_fn` - the initial retrieval function and `vsrm` - an instance of the `VectorSpaceRetrievalModel` class (i.e LSI/LDA) as input. The search function should first retrieve an initial list of K documents, and then these documents are re-ranked using a semantic method. This not only makes retrieval faster, but semantic methods perform poorly when used in isolation, as you will find out."
   ]
  },
  {
   "cell_type": "code",
   "execution_count": 97,
   "metadata": {
    "deletable": false,
    "nbgrader": {
     "cell_type": "code",
     "checksum": "63b6b05a676a2ae3f08d8bed1bc59428",
     "grade": false,
     "grade_id": "cell-5bf47600d1a0c507",
     "locked": false,
     "schema_version": 3,
     "solution": true,
     "task": false
    }
   },
   "outputs": [],
   "source": [
    "# TODO: Implement this! (10 points)\n",
    "class DenseRerankingModel:\n",
    "    def __init__(self, initial_retrieval_fn, vsrm, similarity_fn):\n",
    "        \"\"\"\n",
    "        initial_retrieval_fn: takes in a query and returns a list of [(doc_id, score)] (sorted)\n",
    "        vsrm: instance of `VectorSpaceRetrievalModel`\n",
    "        similarity_fn: function instance that takes in two vectors\n",
    "                        and returns a similarity score e.g cosine_sim defined earlier\n",
    "        \"\"\"\n",
    "        self.ret = initial_retrieval_fn\n",
    "        self.vsrm = vsrm\n",
    "        self.similarity_fn = similarity_fn\n",
    "        self.vectorized_documents = vsrm.vectorize_documents()\n",
    "\n",
    "        assert len(self.vectorized_documents) == len(doc_repr_2)\n",
    "\n",
    "    def search(self, query, K=50):\n",
    "        \"\"\"\n",
    "        First, retrieve the top K results using the retrieval function\n",
    "        Then, re-rank the results using the VSRM instance\n",
    "        \"\"\"\n",
    "        # YOUR CODE HERE\n",
    "        top_k = self.ret(query)[:K]\n",
    "        results = {}\n",
    "        query_vector = self.vsrm.vectorize_query(query)\n",
    "        for doc_id, _score in top_k:\n",
    "            doc_vector = self.vectorized_documents[doc_id]\n",
    "            new_score = self.similarity_fn(doc_vector, query_vector)\n",
    "            results[doc_id] = new_score\n",
    "        # convert results to list and sort descending\n",
    "        results = sorted(list(results.items()), key=lambda x: -x[1])\n",
    "        return results"
   ]
  },
  {
   "cell_type": "code",
   "execution_count": 98,
   "metadata": {
    "deletable": false,
    "editable": false,
    "nbgrader": {
     "cell_type": "code",
     "checksum": "334ab5af96976265cace682ab82a7387",
     "grade": true,
     "grade_id": "cell-52c6d18a4c0b4882",
     "locked": true,
     "points": 0,
     "schema_version": 3,
     "solution": false,
     "task": false
    }
   },
   "outputs": [
    {
     "name": "stderr",
     "output_type": "stream",
     "text": [
      "/Users/thesofakillers/miniconda3/envs/ir1/lib/python3.6/site-packages/ipykernel_launcher.py:33: DeprecationWarning: Call to deprecated `wv` (Attribute will be removed in 4.0.0, use self instead).\n"
     ]
    }
   ],
   "source": [
    "##### Function check\n",
    "bm25_search_2 = partial(bm25_search, index_set=2)\n",
    "lsi_rerank = DenseRerankingModel(bm25_search_2, lsi, cosine_sim)\n",
    "lda_rerank = DenseRerankingModel(bm25_search_2, lda, jenson_shannon_sim)\n",
    "w2v_rerank = DenseRerankingModel(bm25_search_2, w2v, cosine_sim)\n",
    "w2v_pretrained_rerank = DenseRerankingModel(bm25_search_2, w2v_pretrained, cosine_sim)\n",
    "d2v_rerank = DenseRerankingModel(bm25_search_2, d2v, cosine_sim)\n",
    "\n",
    "##### "
   ]
  },
  {
   "cell_type": "markdown",
   "metadata": {
    "deletable": false,
    "editable": false,
    "nbgrader": {
     "cell_type": "markdown",
     "checksum": "bd904253f45f84e63bab3a69729058fc",
     "grade": false,
     "grade_id": "cell-93215dfe6bcf7cff",
     "locked": true,
     "points": 10,
     "schema_version": 3,
     "solution": false,
     "task": true
    }
   },
   "source": [
    "\\#### Please do not change this. This cell is used for grading."
   ]
  },
  {
   "cell_type": "markdown",
   "metadata": {
    "deletable": false,
    "editable": false,
    "nbgrader": {
     "cell_type": "markdown",
     "checksum": "b592e60292bfe3d9ef2930a354c4077a",
     "grade": false,
     "grade_id": "cell-aa694ff55fa91e7d",
     "locked": true,
     "schema_version": 3,
     "solution": false,
     "task": false
    }
   },
   "source": [
    "---\n",
    "Now, let us time the new search functions:"
   ]
  },
  {
   "cell_type": "code",
   "execution_count": 99,
   "metadata": {
    "deletable": false,
    "editable": false,
    "nbgrader": {
     "cell_type": "code",
     "checksum": "338c7e3528cba266a865a061287c0e38",
     "grade": false,
     "grade_id": "cell-5edbd481562ad91f",
     "locked": true,
     "schema_version": 3,
     "solution": false,
     "task": false
    }
   },
   "outputs": [
    {
     "name": "stdout",
     "output_type": "stream",
     "text": [
      "BM25: \n",
      "1.57 ms ± 103 µs per loop (mean ± std. dev. of 7 runs, 100 loops each)\n",
      "LSI: \n",
      "12.3 ms ± 583 µs per loop (mean ± std. dev. of 7 runs, 100 loops each)\n",
      "LDA: \n",
      "5.19 ms ± 350 µs per loop (mean ± std. dev. of 7 runs, 100 loops each)\n",
      "W2V: \n",
      "10.4 ms ± 160 µs per loop (mean ± std. dev. of 7 runs, 100 loops each)\n",
      "W2V(Pretrained): \n"
     ]
    },
    {
     "name": "stderr",
     "output_type": "stream",
     "text": [
      "/Users/thesofakillers/miniconda3/envs/ir1/lib/python3.6/site-packages/ipykernel_launcher.py:64: DeprecationWarning: Call to deprecated `wv` (Attribute will be removed in 4.0.0, use self instead).\n"
     ]
    },
    {
     "name": "stdout",
     "output_type": "stream",
     "text": [
      "27.2 ms ± 692 µs per loop (mean ± std. dev. of 7 runs, 10 loops each)\n",
      "D2V:\n",
      "55.4 ms ± 5.21 ms per loop (mean ± std. dev. of 7 runs, 10 loops each)\n"
     ]
    }
   ],
   "source": [
    "query = \"algebraic functions\"\n",
    "print(\"BM25: \")\n",
    "%timeit bm25_search(query, 2)\n",
    "print(\"LSI: \")\n",
    "%timeit lsi_rerank.search(query)\n",
    "print(\"LDA: \")\n",
    "%timeit lda_rerank.search(query)\n",
    "print(\"W2V: \")\n",
    "%timeit w2v_rerank.search(query)\n",
    "print(\"W2V(Pretrained): \")\n",
    "%timeit w2v_pretrained_rerank.search(query)\n",
    "print(\"D2V:\")\n",
    "%timeit d2v_rerank.search(query)"
   ]
  },
  {
   "cell_type": "markdown",
   "metadata": {
    "deletable": false,
    "editable": false,
    "nbgrader": {
     "cell_type": "markdown",
     "checksum": "c45c5e3f015b2de89d9d39ae3766368b",
     "grade": false,
     "grade_id": "cell-85c50f2ab9eec301",
     "locked": true,
     "schema_version": 3,
     "solution": false,
     "task": false
    }
   },
   "source": [
    "---\n",
    "As you can see, it is much faster (but BM25 is still orders of magnitude faster)."
   ]
  },
  {
   "cell_type": "markdown",
   "metadata": {
    "deletable": false,
    "editable": false,
    "nbgrader": {
     "cell_type": "markdown",
     "checksum": "1e2f3388e3807659f303fe31a75a010e",
     "grade": false,
     "grade_id": "cell-5071bb99b2af61cb",
     "locked": true,
     "schema_version": 3,
     "solution": false,
     "task": false
    }
   },
   "source": [
    "---\n",
    "## Section 10: Evaluation & Analysis (30 points) <a class=\"anchor\" id=\"reranking_eval\"></a>\n",
    "\n",
    "[Back to Part 2](#part2)\n",
    "\n",
    "[Previously](#evaluation) we have implemented some evaluation metrics and used them for measuring the ranking performance of term-based IR algorithms. In this section, we will do the same for semantic methods, both with and without re-ranking.\n",
    "\n",
    "### Section 10.1: Plot (10 points)\n",
    "\n",
    "First, gather the results. The results should consider the index set, the different search functions and different metrics. Plot the results in bar charts, per metric, with clear labels.\n",
    "\n",
    "Then, gather only the re-ranking models, and plot and compare them with the results obtained in part 1 (only index set 2)."
   ]
  },
  {
   "cell_type": "code",
   "execution_count": 100,
   "metadata": {
    "deletable": false,
    "editable": false,
    "nbgrader": {
     "cell_type": "code",
     "checksum": "4fe81520ac6413a803838913fd64de03",
     "grade": false,
     "grade_id": "cell-b672fe6dfae0b1ce",
     "locked": true,
     "schema_version": 3,
     "solution": false,
     "task": false
    }
   },
   "outputs": [],
   "source": [
    "list_of_sem_search_fns = [\n",
    "    (\"lda\", drm_lda.search),\n",
    "    (\"lsi\", drm_lsi.search),\n",
    "    (\"w2v\", drm_w2v.search),\n",
    "    (\"w2v_pretrained\", drm_w2v_pretrained.search),\n",
    "    (\"d2v\", drm_d2v.search),\n",
    "    (\"lsi_rr\", lsi_rerank.search),\n",
    "    (\"lda_rr\", lda_rerank.search),\n",
    "    (\"w2v_rr\", w2v_rerank.search),\n",
    "    (\"w2v_pretrained_rr\", w2v_pretrained_rerank.search),\n",
    "    (\"d2v_rr\", d2v_rerank.search),\n",
    "    \n",
    "]"
   ]
  },
  {
   "cell_type": "code",
   "execution_count": 101,
   "metadata": {
    "deletable": false,
    "nbgrader": {
     "cell_type": "code",
     "checksum": "54707c4afac084299aeefa047259b4a9",
     "grade": true,
     "grade_id": "cell-7dd8273b0f5a3c22",
     "locked": false,
     "points": 10,
     "schema_version": 3,
     "solution": true,
     "task": false
    }
   },
   "outputs": [
    {
     "name": "stdout",
     "output_type": "stream",
     "text": [
      "\n",
      "Vanilla\n",
      "\tlda\n",
      "{'ERR': 0.07851375,\n",
      " 'MAP': 0.03731777,\n",
      " 'Precision@1': 0.03846154,\n",
      " 'Precision@10': 0.048076928,\n",
      " 'Precision@5': 0.06153846,\n",
      " 'Recall@1': 0.0020716074,\n",
      " 'Recall@10': 0.033573635,\n",
      " 'Recall@5': 0.018635252}\n",
      "\tlsi\n",
      "{'ERR': 0.1255464,\n",
      " 'MAP': 0.06371126,\n",
      " 'Precision@1': 0.115384616,\n",
      " 'Precision@10': 0.07692308,\n",
      " 'Precision@5': 0.08846155,\n",
      " 'Recall@1': 0.015510531,\n",
      " 'Recall@10': 0.056277707,\n",
      " 'Recall@5': 0.03464716}\n",
      "\tw2v\n",
      "{'ERR': 0.02984273,\n",
      " 'MAP': 0.012637282,\n",
      " 'Precision@1': 0.0,\n",
      " 'Precision@10': 0.015384615,\n",
      " 'Precision@5': 0.015384615,\n",
      " 'Recall@1': 0.0,\n",
      " 'Recall@10': 0.011263133,\n",
      " 'Recall@5': 0.004224204}\n"
     ]
    },
    {
     "name": "stderr",
     "output_type": "stream",
     "text": [
      "/Users/thesofakillers/miniconda3/envs/ir1/lib/python3.6/site-packages/ipykernel_launcher.py:64: DeprecationWarning: Call to deprecated `wv` (Attribute will be removed in 4.0.0, use self instead).\n"
     ]
    },
    {
     "name": "stdout",
     "output_type": "stream",
     "text": [
      "\tw2v_pretrained\n",
      "{'ERR': 0.22888106,\n",
      " 'MAP': 0.13215353,\n",
      " 'Precision@1': 0.30769232,\n",
      " 'Precision@10': 0.1326923,\n",
      " 'Precision@5': 0.17307693,\n",
      " 'Recall@1': 0.048749086,\n",
      " 'Recall@10': 0.14604688,\n",
      " 'Recall@5': 0.10601156}\n",
      "\td2v\n",
      "{'ERR': 0.09199921,\n",
      " 'MAP': 0.042595055,\n",
      " 'Precision@1': 0.03846154,\n",
      " 'Precision@10': 0.07307692,\n",
      " 'Precision@5': 0.08846153,\n",
      " 'Recall@1': 0.0018650531,\n",
      " 'Recall@10': 0.054365132,\n",
      " 'Recall@5': 0.035226498}\n",
      "\n",
      "Reranked\n",
      "\tlsi\n",
      "{'ERR': 0.21895108,\n",
      " 'MAP': 0.13010487,\n",
      " 'Precision@1': 0.1923077,\n",
      " 'Precision@10': 0.18076923,\n",
      " 'Precision@5': 0.18846154,\n",
      " 'Recall@1': 0.033948842,\n",
      " 'Recall@10': 0.26622698,\n",
      " 'Recall@5': 0.15227427}\n",
      "\tlda\n",
      "{'ERR': 0.21938394,\n",
      " 'MAP': 0.120300874,\n",
      " 'Precision@1': 0.15384616,\n",
      " 'Precision@10': 0.19615385,\n",
      " 'Precision@5': 0.19999999,\n",
      " 'Recall@1': 0.0139181055,\n",
      " 'Recall@10': 0.27369648,\n",
      " 'Recall@5': 0.1271342}\n",
      "\tw2v\n",
      "{'ERR': 0.18159269,\n",
      " 'MAP': 0.10620987,\n",
      " 'Precision@1': 0.09615385,\n",
      " 'Precision@10': 0.16153845,\n",
      " 'Precision@5': 0.17307693,\n",
      " 'Recall@1': 0.009421285,\n",
      " 'Recall@10': 0.24874234,\n",
      " 'Recall@5': 0.1271862}\n",
      "\tw2v_pretrained\n",
      "{'ERR': 0.2839876,\n",
      " 'MAP': 0.17797674,\n",
      " 'Precision@1': 0.34615386,\n",
      " 'Precision@10': 0.20769231,\n",
      " 'Precision@5': 0.23076923,\n",
      " 'Recall@1': 0.08440109,\n",
      " 'Recall@10': 0.3412429,\n",
      " 'Recall@5': 0.20217164}\n",
      "\td2v\n",
      "{'ERR': 0.22897771,\n",
      " 'MAP': 0.12669827,\n",
      " 'Precision@1': 0.1923077,\n",
      " 'Precision@10': 0.20192307,\n",
      " 'Precision@5': 0.19615385,\n",
      " 'Recall@1': 0.030409254,\n",
      " 'Recall@10': 0.3165248,\n",
      " 'Recall@5': 0.14472327}\n"
     ]
    },
    {
     "data": {
      "image/png": "[encoded data removed]",
      "text/plain": [
       "<Figure size 1008x576 with 8 Axes>"
      ]
     },
     "metadata": {
      "needs_background": "light"
     },
     "output_type": "display_data"
    },
    {
     "data": {
      "image/png": "[encoded data removed]",
      "text/plain": [
       "<Figure size 1008x504 with 8 Axes>"
      ]
     },
     "metadata": {
      "needs_background": "light"
     },
     "output_type": "display_data"
    }
   ],
   "source": [
    "# # YOUR CODE HERE\n",
    "# takes roughly 7 mins to run\n",
    "from pprint import pprint\n",
    "\n",
    "fig, axes = plt.subplots(2, 4, figsize=(14, 8), sharey=False)\n",
    "axes = axes.flatten()\n",
    "\n",
    "# need this to make side by side bars\n",
    "N = len(list_of_sem_search_fns) // 2\n",
    "method_loc = np.arange(N)\n",
    "bar_width = 0.25\n",
    "\n",
    "vanilla_search_fns = list_of_sem_search_fns[:N]\n",
    "reranked_search_fns = list_of_sem_search_fns[N:]\n",
    "\n",
    "search_fns_map = {\"Vanilla\": vanilla_search_fns, \"Reranked\": reranked_search_fns}\n",
    "\n",
    "for j, mode in enumerate([\"Vanilla\", \"Reranked\"]):\n",
    "    results = {}\n",
    "    print(f\"\\n{mode}\")\n",
    "\n",
    "    for search_alg, search_fn in search_fns_map[mode]:\n",
    "        # remove _rr from reranked algo's so that the labels match\n",
    "        search_alg = search_alg.replace(\"_rr\", \"\")\n",
    "        results[search_alg] = evaluate_search_fn(search_fn, list_of_metrics)\n",
    "        print(f\"\\t{search_alg}\")\n",
    "        pprint(results[search_alg])\n",
    "\n",
    "    for i, (metric_name, _metric_fn) in enumerate(list_of_metrics):\n",
    "        metric_results = {k: v[metric_name] for k, v in results.items()}\n",
    "\n",
    "        labels = list(metric_results.keys())\n",
    "        values = [metric_results[label] for label in labels]\n",
    "\n",
    "        axes[i].grid(True, which=\"major\", axis=\"y\", alpha=0.35)\n",
    "        if i % 4 == 0:\n",
    "            axes[i].set_ylabel(\"Average Metric Value\")\n",
    "        if j == 0:\n",
    "            axes[i].bar(method_loc, values, bar_width, label=f\"{mode}\")\n",
    "        else:\n",
    "            axes[i].bar(method_loc + bar_width, values, bar_width, label=f\"{mode}\")\n",
    "            axes[i].set_xticks(method_loc + bar_width / 2)\n",
    "            axes[i].set_xticklabels(labels, rotation=30, ha=\"right\")\n",
    "            axes[i].set_title(metric_name)\n",
    "            if i == 7:\n",
    "                axes[i].legend()\n",
    "\n",
    "\n",
    "fig.suptitle(\"Comparison of different Semantic IR algorithms across various Metrics\")\n",
    "fig.tight_layout(rect=[0, 0.03, 1, 0.95])\n",
    "plt.show()\n",
    "\n",
    "\n",
    "# 2nd Plot: Compare semantic search with reranking to models from part 1\n",
    "\n",
    "fig, axes = plt.subplots(2, 4, figsize=(14, 7), sharey=False)\n",
    "axes = axes.flatten()\n",
    "\n",
    "list_of_rerank_sem_search_fns = [\n",
    "    (\"lsi_rr\", lsi_rerank.search),\n",
    "    (\"lda_rr\", lda_rerank.search),\n",
    "    (\"w2v_rr\", w2v_rerank.search),\n",
    "    (\"w2v_pretrained_rr\", w2v_pretrained_rerank.search),\n",
    "    (\"d2v_rr\", d2v_rerank.search),\n",
    "]\n",
    "\n",
    "N = len(list_of_rerank_sem_search_fns + list_of_search_fns)\n",
    "method_loc = np.arange(N)\n",
    "\n",
    "results = {}\n",
    "\n",
    "for i, (search_alg, search_fn) in enumerate(reranked_search_fns + list_of_search_fns):\n",
    "    if i >= len(list_of_rerank_sem_search_fns):\n",
    "        results[search_alg] = evaluate_search_fn(\n",
    "            search_fn, list_of_metrics, index_set=2\n",
    "        )\n",
    "    else:\n",
    "        results[search_alg] = evaluate_search_fn(search_fn, list_of_metrics)\n",
    "\n",
    "for i, (metric_name, _metric_fn) in enumerate(list_of_metrics):\n",
    "    metric_results = {k: v[metric_name] for k, v in results.items()}\n",
    "\n",
    "    labels = list(metric_results.keys())\n",
    "    values = [metric_results[label] for label in labels]\n",
    "\n",
    "    axes[i].grid(True, which=\"major\", axis=\"y\", alpha=0.35)\n",
    "    if i % 4 == 0:\n",
    "        axes[i].set_ylabel(\"Average Metric Value\")\n",
    "    axes[i].bar(method_loc, values, bar_width)\n",
    "    axes[i].set_xticks(method_loc)\n",
    "    axes[i].set_xticklabels(labels, rotation=45)\n",
    "    axes[i].set_title(metric_name)\n",
    "\n",
    "fig.suptitle(\"Comparison between semantic and term-based ranking algorithms\")\n",
    "fig.tight_layout(rect=[0, 0.03, 1, 0.95])\n",
    "plt.show()"
   ]
  },
  {
   "cell_type": "markdown",
   "metadata": {
    "deletable": false,
    "editable": false,
    "nbgrader": {
     "cell_type": "markdown",
     "checksum": "a8a3b6189bdde66704c694d85e38d049",
     "grade": false,
     "grade_id": "cell-deb2ef3daa306e82",
     "locked": true,
     "schema_version": 3,
     "solution": false,
     "task": false
    }
   },
   "source": [
    "### Section 10.2: Summary (20 points)\n",
    "\n",
    "Your summary should compare methods from Part 1 and Part 2 (only for index set 2). State what you expected to see in the results, followed by either supporting evidence *or* justify why the results did not support your expectations. Consider the availability of data, scalability, domain/type of data, etc."
   ]
  },
  {
   "cell_type": "markdown",
   "metadata": {
    "deletable": false,
    "nbgrader": {
     "cell_type": "markdown",
     "checksum": "ff97c43837d10bff6aaffa75e1492887",
     "grade": true,
     "grade_id": "cell-ec5dd7d9cf59dd86",
     "locked": false,
     "points": 20,
     "schema_version": 3,
     "solution": true,
     "task": false
    }
   },
   "source": [
    "Our main observation after running all experiments is that term-based models outperform semantic models in nearly all metrics with the exception of Recall@10. The findings are somewhat surprising since we would have expected semantic models would be better at capturing relevance without the explicit need for exact term matching between query and relevant documents - word embeddings should be good at capturing synonymy between words. This hypothesis may somewhat be confirmed by the performance of semantic models with regards to Recall@10 - because we are not just looking for identical terms but also terms with a similar meaning we are able to retrieve much more of the relevant documents. Semantic models should therefore be suitable for tasks such as legal research where a lawyer would want to find all relevant information in a corpus of legal documents.\n",
    "\n",
    "There may be various reaasons why semantic models perform poorly in all other metrics compared to term-based models. One explanation could be that in the case of pretrained word embeddings representations may have been learned from a different domain and therefore meanings to do not match our current domain or otherwise some words may be missing altogether. Another possible explanation for the poorer performance is that semantic models may be more suitable for a large corpus where enough documents are present in order to learn good representation. In our case the corpus is fairly small and therefore the word representations not very meaningful.\n",
    "\n",
    "It is important to note that reranking is clearly the better approach and outperforms purely semantic models. This might be again due to the fact that most of the work in retrieving documents is already being done by term-based models which we established perform better in the case of this specific corpus."
   ]
  }
 ],
 "metadata": {
  "kernelspec": {
   "display_name": "Python 3",
   "language": "python",
   "name": "python3"
  },
  "language_info": {
   "codemirror_mode": {
    "name": "ipython",
    "version": 3
   },
   "file_extension": ".py",
   "mimetype": "text/x-python",
   "name": "python",
   "nbconvert_exporter": "python",
   "pygments_lexer": "ipython3",
   "version": "3.6.5"
  },
  "toc": {
   "base_numbering": 1,
   "nav_menu": {},
   "number_sections": true,
   "sideBar": true,
   "skip_h1_title": false,
   "title_cell": "Table of Contents",
   "title_sidebar": "Contents",
   "toc_cell": false,
   "toc_position": {},
   "toc_section_display": true,
   "toc_window_display": false
  }
 },
 "nbformat": 4,
 "nbformat_minor": 4
}
