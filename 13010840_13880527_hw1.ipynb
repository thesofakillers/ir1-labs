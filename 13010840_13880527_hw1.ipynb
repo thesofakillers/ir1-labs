{
 "cells": [
  {
   "cell_type": "markdown",
   "metadata": {
    "deletable": false,
    "editable": false,
    "nbgrader": {
     "cell_type": "markdown",
     "checksum": "1bba455de8bc2825ca70469169bbadaa",
     "grade": false,
     "grade_id": "cell-c9cd9e550239e812",
     "locked": true,
     "schema_version": 3,
     "solution": false,
     "task": false
    }
   },
   "source": [
    "# Homework 1 (Total Points: 250) <a class=\"anchor\" id=\"top\"></a>\n",
    "\n",
    "\n",
    "**Submission instructions**:\n",
    "- The cells with the `# YOUR CODE HERE` denote that these sections are graded and you need to add your implementation.\n",
    "- For Part 1: You can use the `nltk`, `NumPy`, and `matplotlib` libraries here. Other libraries, e.g., `gensim` or `scikit-learn`, may not be used. For Part 2: `gensim` is allowed in addition to the imported libraries in the next code cell\n",
    "- Please use Python 3.6.5 and `pip install -r requirements.txt` to avoid version issues.\n",
    "- The notebook you submit has to have the student ids, separated by underscores (E.g., `12341234_12341234_12341234_hw1.ipynb`).\n",
    "- This will be parsed by a regexp, **so please double check your filename**.\n",
    "- Only one member of each group has to submit the file (**please do not compress the .ipynb file when you will submit it**) to canvas.\n",
    "- **Make sure to check that your notebook runs before submission**. A quick way to do this is to restart the kernel and run all the cells.  \n",
    "- Do not change the number of arugments in the given functions.\n",
    "- **Please do not delete/add new cells**. Removing cells **will** lead to grade deduction. \n",
    "- Note, that you are not allowed to use Google Colab.\n",
    "\n",
    "\n",
    "**Learning Goals**:\n",
    "- [Part 1, Term-based matching](#part1) (165 points):\n",
    "    - Learn how to load a dataset and process it.\n",
    "    - Learn how to implement several standard IR methods (TF-IDF, BM25, QL) and understand their weaknesses & strengths.\n",
    "    - Learn how to evaluate IR methods.\n",
    "- [Part 2, Semantic-based matching](#part2) (85 points):\n",
    "    - Learn how to implement vector-space retrieval methods (LSI, LDA).\n",
    "    - Learn how to use LSI and LDA for re-ranking.\n",
    "\n",
    "    \n",
    "**Resources**: \n",
    "- **Part 1**: Sections 2.3, 4.1, 4.2, 4.3, 5.3, 5.6, 5.7, 6.2, 7, 8 of [Search Engines: Information Retrieval in Practice](https://ciir.cs.umass.edu/downloads/SEIRiP.pdf)\n",
    "- **Part 2**: [LSI - Chapter 18](https://nlp.stanford.edu/IR-book/pdf/18lsi.pdf) from [Introduction to Information Retrieval](https://nlp.stanford.edu/IR-book/) book and the [original LDA paper](https://jmlr.org/papers/volume3/blei03a/blei03a.pdf)"
   ]
  },
  {
   "cell_type": "code",
   "execution_count": 1,
   "metadata": {
    "deletable": false,
    "editable": false,
    "nbgrader": {
     "cell_type": "code",
     "checksum": "c55bfe94ff1f564dd595547e516c4c6e",
     "grade": false,
     "grade_id": "cell-f5357fabdb9660e3",
     "locked": true,
     "schema_version": 3,
     "solution": false,
     "task": false
    }
   },
   "outputs": [],
   "source": [
    "# imports \n",
    "# TODO: Ensure that no additional library is imported in the notebook. \n",
    "# TODO: Only the standard library and the following libraries are allowed:\n",
    "# TODO: You can also use unlisted classes from these libraries or standard libraries (such as defaultdict, Counter, ...).\n",
    "\n",
    "import os\n",
    "import zipfile\n",
    "from functools import partial\n",
    "\n",
    "import nltk\n",
    "import requests\n",
    "import numpy as np\n",
    "from tqdm import tqdm\n",
    "\n",
    "import matplotlib.pyplot as plt\n",
    "from matplotlib.pyplot import cm\n",
    "\n",
    "from ipywidgets import widgets\n",
    "from IPython.display import display, HTML\n",
    "#from IPython.html import widgets\n",
    "from collections import namedtuple\n",
    "\n",
    "%matplotlib inline"
   ]
  },
  {
   "cell_type": "markdown",
   "metadata": {
    "deletable": false,
    "editable": false,
    "nbgrader": {
     "cell_type": "markdown",
     "checksum": "c8328f758ca5b69f76eee03dbbdd4715",
     "grade": false,
     "grade_id": "cell-7428e12ed184408b",
     "locked": true,
     "schema_version": 3,
     "solution": false,
     "task": false
    }
   },
   "source": [
    "\n",
    "# Part 1: Term-based Matching (165 points) <a class=\"anchor\" id=\"part1\"></a>\n",
    "\n",
    "[Back to top](#top)\n",
    "\n",
    "In the first part, we will learn the basics of IR from loading and preprocessing the material, to implementing some well known search algorithms, to evaluating the ranking performance of the implemented algorithms. We will be using the CACM dataset throughout the assignment. The CACM dataset is a collection of titles and abstracts from the journal CACM (Communication of the ACM).\n",
    "\n",
    "Table of contents:\n",
    "- [Section 1: Text Processing](#text_processing) (5 points)\n",
    "- [Section 2: Indexing](#indexing) (10 points)\n",
    "- [Section 3: Ranking](#ranking) (80 points)\n",
    "- [Section 4: Evaluation](#evaluation) (40 points)\n",
    "- [Section 5: Analysis](#analysis) (30 points)\n"
   ]
  },
  {
   "cell_type": "markdown",
   "metadata": {
    "deletable": false,
    "editable": false,
    "nbgrader": {
     "cell_type": "markdown",
     "checksum": "4e3f938065183dc743aa8254b96b4f5e",
     "grade": false,
     "grade_id": "cell-4b24825cf4ae55ec",
     "locked": true,
     "schema_version": 3,
     "solution": false,
     "task": false
    }
   },
   "source": [
    "---\n",
    "## Section 1: Text Processing (5 points)<a class=\"anchor\" id=\"text_processing\"></a>\n",
    "\n",
    "[Back to Part 1](#part1)\n",
    "\n",
    "In this section, we will load the dataset and learn how to clean up the data to make it usable for an IR system. \n",
    "First, go through the implementation of the following functions:\n",
    "- `read_cacm_docs`: Reads in the CACM documents.\n",
    "- `read_queries`: Reads in the CACM queries.\n",
    "- `load_stopwords`: Loads the stopwords.\n",
    "\n",
    "The points of this section are earned for the following implementations:\n",
    "- `tokenize` (3 points): Tokenizes the input text.\n",
    "- `stem_token` (2 points): Stems the given token. \n",
    "\n",
    "We are using the [CACM dataset](http://ir.dcs.gla.ac.uk/resources/test_collections/cacm/), which is a small, classic IR dataset, composed of a collection of titles and abstracts from the journal CACM. It comes with relevance judgements for queries, so we can evaluate our IR system. \n"
   ]
  },
  {
   "cell_type": "markdown",
   "metadata": {
    "deletable": false,
    "editable": false,
    "nbgrader": {
     "cell_type": "markdown",
     "checksum": "0155d897c7016389d73d160921947a6f",
     "grade": false,
     "grade_id": "cell-45651364e7af6d5a",
     "locked": true,
     "schema_version": 3,
     "solution": false,
     "task": false
    }
   },
   "source": [
    "---\n",
    "### 1.1 Read the CACM documents\n",
    "\n",
    "\n",
    "The following cell downloads the dataset and unzips it to a local directory."
   ]
  },
  {
   "cell_type": "code",
   "execution_count": 2,
   "metadata": {
    "deletable": false,
    "editable": false,
    "nbgrader": {
     "cell_type": "code",
     "checksum": "4d43c9ad6e77cc01ce4cef0c34824930",
     "grade": false,
     "grade_id": "cell-bbc3030bb3fe7e02",
     "locked": true,
     "schema_version": 3,
     "solution": false,
     "task": false
    }
   },
   "outputs": [],
   "source": [
    "def download_dataset():\n",
    "    folder_path = os.environ.get(\"IR1_DATA_PATH\")\n",
    "    if not folder_path:\n",
    "        folder_path = \"./datasets/\"\n",
    "    os.makedirs(folder_path, exist_ok=True)\n",
    "    \n",
    "    file_location = os.path.join(folder_path, \"cacm.zip\")\n",
    "    \n",
    "    # download file if it doesn't exist\n",
    "    if not os.path.exists(file_location):\n",
    "        \n",
    "        url = \"https://surfdrive.surf.nl/files/index.php/s/M0FGJpX2p8wDwxR/download\"\n",
    "\n",
    "        with open(file_location, \"wb\") as handle:\n",
    "            print(f\"Downloading file from {url} to {file_location}\")\n",
    "            response = requests.get(url, stream=True)\n",
    "            for data in tqdm(response.iter_content()):\n",
    "                handle.write(data)\n",
    "            print(\"Finished downloading file\")\n",
    "    \n",
    "    if not os.path.exists(os.path.join(folder_path, \"train.txt\")):\n",
    "        \n",
    "        # unzip file\n",
    "        with zipfile.ZipFile(file_location, 'r') as zip_ref:\n",
    "            zip_ref.extractall(folder_path)\n",
    "        \n",
    "download_dataset()"
   ]
  },
  {
   "cell_type": "markdown",
   "metadata": {
    "deletable": false,
    "editable": false,
    "nbgrader": {
     "cell_type": "markdown",
     "checksum": "31609b0d61d0c74cbd69bc43e47c23be",
     "grade": false,
     "grade_id": "cell-a7dd9a9bf98ede05",
     "locked": true,
     "schema_version": 3,
     "solution": false,
     "task": false
    }
   },
   "source": [
    "---\n",
    "\n",
    "You can see a brief description of each file in the dataset by looking at the README file:"
   ]
  },
  {
   "cell_type": "code",
   "execution_count": 3,
   "metadata": {
    "deletable": false,
    "editable": false,
    "nbgrader": {
     "cell_type": "code",
     "checksum": "cb3c9a2b8b2bf4fd5b7446b0c4c00f43",
     "grade": false,
     "grade_id": "cell-9b6ff1a17124711f",
     "locked": true,
     "schema_version": 3,
     "solution": false,
     "task": false
    }
   },
   "outputs": [
    {
     "name": "stdout",
     "output_type": "stream",
     "text": [
      "Files in this directory with sizes:\n",
      "          0 Jun 19 21:01 README\n",
      "\n",
      "    2187734 Jun 19 20:55 cacm.all              text of documents\n",
      "        626 Jun 19 20:58 cite.info             key to citation info\n",
      "                                                (the X sections in cacm.all)\n",
      "       2668 Jun 19 20:55 common_words           stop words used by smart\n",
      "       2194 Jun 19 20:55 make_coll*             shell script to make collection\n",
      "       1557 Jun 19 20:55 make_coll_term*        ditto (both useless without\n",
      "                                                smart system)\n",
      "       9948 Jun 19 20:55 qrels.text             relation giving\n",
      "                                                    qid did 0 0\n",
      "                                                to indicate dument did is\n",
      "                                                relevant to query qid\n",
      "      13689 Jun 19 20:55 query.text             Original text of the query\n",
      "\n"
     ]
    }
   ],
   "source": [
    "##### Read the README file \n",
    "with open (\"./datasets/README\",\"r\") as file:\n",
    "    readme = file.read()\n",
    "    print(readme)\n",
    "#####"
   ]
  },
  {
   "cell_type": "markdown",
   "metadata": {
    "deletable": false,
    "editable": false,
    "nbgrader": {
     "cell_type": "markdown",
     "checksum": "6e2712c4c4632bf7486a532f7f18074d",
     "grade": false,
     "grade_id": "cell-73351431869fda76",
     "locked": true,
     "schema_version": 3,
     "solution": false,
     "task": false
    }
   },
   "source": [
    "---\n",
    "We are interested in 4 files:\n",
    "- `cacm.all` : Contains the text for all documents. Note that some documents do not have abstracts available\n",
    "- `query.text` : The text of all queries\n",
    "- `qrels.text` : The relevance judgements\n",
    "- `common_words` : A list of common words. This may be used as a collection of stopwords"
   ]
  },
  {
   "cell_type": "code",
   "execution_count": 4,
   "metadata": {
    "deletable": false,
    "editable": false,
    "nbgrader": {
     "cell_type": "code",
     "checksum": "f1162c15177eb4ffe466531d03cff4a2",
     "grade": false,
     "grade_id": "cell-b44dd14079f278ca",
     "locked": true,
     "schema_version": 3,
     "solution": false,
     "task": false
    }
   },
   "outputs": [
    {
     "name": "stdout",
     "output_type": "stream",
     "text": [
      ".I 1\n",
      ".T\n",
      "Preliminary Report-International Algebraic Language\n",
      ".B\n",
      "CACM December, 1958\n",
      ".A\n",
      "Perlis, A. J.\n",
      "Samelson,K.\n",
      ".N\n",
      "CA581203 JB March 22, 1978  8:28 PM\n",
      ".X\n",
      "100\t5\t1\n",
      "123\t5\t1\n",
      "164\t5\t1\n",
      "1\t5\t1\n",
      "1\t5\t1\n",
      "1\t5\t1\n",
      "205\t5\t1\n",
      "210\t5\t1\n",
      "214\t5\t1\n",
      "1982\t5\t1\n",
      "398\t5\t1\n",
      "642\t5\t1\n",
      "669\t5\t1\n",
      "1\t6\t1\n",
      "1\t6\t1\n",
      "1\t6\t1\n",
      "1\t6\t1\n",
      "1\t6\t1\n",
      "1\t6\t1\n",
      "1\t6\t1\n",
      "1\t6\t1\n",
      "1\t6\t1\n",
      "1\t6\t1\n",
      "165\t6\t1\n",
      "196\t6\t1\n",
      "196\t6\t1\n",
      "1273\t6\t1\n",
      "1883\t6\t1\n",
      "324\t6\t1\n",
      "43\t6\t1\n",
      "53\t6\t1\n",
      "91\t6\t1\n",
      "410\t6\t1\n",
      "3184\t6\t1\n",
      "\n"
     ]
    }
   ],
   "source": [
    "##### The first 45 lines of the CACM dataset forms the first record\n",
    "# We are interested only in 3 fields. \n",
    "# 1. the '.I' field, which is the document id\n",
    "# 2. the '.T' field (the title) and\n",
    "# 3. the '.W' field (the abstract, which may be absent)\n",
    "with open (\"./datasets/cacm.all\",\"r\") as file:\n",
    "    cacm_all = \"\".join(file.readlines()[:45])\n",
    "    print(cacm_all)\n",
    "#####"
   ]
  },
  {
   "cell_type": "markdown",
   "metadata": {
    "deletable": false,
    "editable": false,
    "nbgrader": {
     "cell_type": "markdown",
     "checksum": "250b413baccd8efb186bb46a34ae0060",
     "grade": false,
     "grade_id": "cell-c4bf2e263ec553d8",
     "locked": true,
     "schema_version": 3,
     "solution": false,
     "task": false
    }
   },
   "source": [
    "---\n",
    "\n",
    "The following function reads the `cacm.all` file. Note that each document has a variable number of lines. The `.I` field denotes a new document:"
   ]
  },
  {
   "cell_type": "code",
   "execution_count": 5,
   "metadata": {
    "deletable": false,
    "editable": false,
    "nbgrader": {
     "cell_type": "code",
     "checksum": "57d757e6a7a6938740dc899022b4f291",
     "grade": false,
     "grade_id": "cell-b736116eb419c624",
     "locked": true,
     "schema_version": 3,
     "solution": false,
     "task": false
    }
   },
   "outputs": [],
   "source": [
    "def read_cacm_docs(root_folder = \"./datasets/\"):\n",
    "    \"\"\"\n",
    "        Reads in the CACM documents. The dataset is assumed to be in the folder \"./datasets/\" by default\n",
    "        Returns: A list of 2-tuples: (doc_id, document), where 'document' is a single string created by \n",
    "            appending the title and abstract (separated by a \"\\n\"). \n",
    "            In case the record doesn't have an abstract, the document is composed only by the title\n",
    "    \"\"\"\n",
    "    with open(os.path.join(root_folder, \"cacm.all\")) as reader:\n",
    "        lines = reader.readlines()\n",
    "    \n",
    "    doc_id, title, abstract = None, None, None\n",
    "    \n",
    "    docs = []\n",
    "    line_idx = 0\n",
    "    while line_idx < len(lines):\n",
    "        line = lines[line_idx]\n",
    "        if line.startswith(\".I\"):\n",
    "            if doc_id is not None:\n",
    "                docs.append((doc_id, title, abstract))\n",
    "                doc_id, title, abstract = None, None, None\n",
    "            \n",
    "            doc_id = line.split()[-1]\n",
    "            line_idx += 1\n",
    "        elif line.startswith(\".T\"):\n",
    "            # start at next line\n",
    "            line_idx += 1\n",
    "            temp_lines = []\n",
    "            # read till next '.'\n",
    "            while not lines[line_idx].startswith(\".\"):\n",
    "                temp_lines.append(lines[line_idx].strip(\"\\n\"))\n",
    "                line_idx += 1\n",
    "            title = \"\\n\".join(temp_lines).strip(\"\\n\")\n",
    "        elif line.startswith(\".W\"):\n",
    "            # start at next line\n",
    "            line_idx += 1\n",
    "            temp_lines = []\n",
    "            # read till next '.'\n",
    "            while not lines[line_idx].startswith(\".\"):\n",
    "                temp_lines.append(lines[line_idx].strip(\"\\n\"))\n",
    "                line_idx += 1\n",
    "            abstract = \"\\n\".join(temp_lines).strip(\"\\n\")\n",
    "        else:\n",
    "            line_idx += 1\n",
    "    \n",
    "    docs.append((doc_id, title, abstract))\n",
    "    \n",
    "    p_docs = []\n",
    "    for (did, t, a) in docs:\n",
    "        if a is None:\n",
    "            a = \"\"\n",
    "        p_docs.append((did, t + \"\\n\" + a))\n",
    "    return p_docs\n"
   ]
  },
  {
   "cell_type": "code",
   "execution_count": 6,
   "metadata": {
    "deletable": false,
    "editable": false,
    "nbgrader": {
     "cell_type": "code",
     "checksum": "2f81930fcd89670b6e20e2255e1f2369",
     "grade": false,
     "grade_id": "cell-a1c43818e0d3fd79",
     "locked": true,
     "schema_version": 3,
     "solution": false,
     "task": false
    }
   },
   "outputs": [],
   "source": [
    "##### Function check\n",
    "docs = read_cacm_docs()\n",
    "\n",
    "assert isinstance(docs, list)\n",
    "assert len(docs) == 3204, \"There should be exactly 3204 documents\"\n",
    "\n",
    "unzipped_docs = list(zip(*docs))\n",
    "assert np.sum(np.array(list(map(int,unzipped_docs[0])))) == 5134410\n",
    "\n",
    "##### "
   ]
  },
  {
   "cell_type": "markdown",
   "metadata": {
    "deletable": false,
    "editable": false,
    "nbgrader": {
     "cell_type": "markdown",
     "checksum": "25fd3cfaf2137c56002b850699b3c9d3",
     "grade": false,
     "grade_id": "cell-5ed2ddc91f73c60e",
     "locked": true,
     "schema_version": 3,
     "solution": false,
     "task": false
    }
   },
   "source": [
    "---\n",
    "### 1.2 Read the CACM queries\n",
    "\n",
    "Next, let us read the queries. They are formatted similarly:"
   ]
  },
  {
   "cell_type": "code",
   "execution_count": 7,
   "metadata": {
    "deletable": false,
    "editable": false,
    "nbgrader": {
     "cell_type": "code",
     "checksum": "5d26c0908e758acb9968b84056b1060a",
     "grade": false,
     "grade_id": "cell-5c7e8e7c4fc2757f",
     "locked": true,
     "schema_version": 3,
     "solution": false,
     "task": false
    }
   },
   "outputs": [
    {
     "name": "stdout",
     "output_type": "stream",
     "text": [
      ".I 1\n",
      ".W\n",
      " What articles exist which deal with TSS (Time Sharing System), an\n",
      "operating system for IBM computers?\n",
      ".N\n",
      " 1. Richard Alexander, Comp Serv, Langmuir Lab (TSS)\n",
      " \n",
      ".I 2\n",
      ".W\n",
      " I am interested in articles written either by Prieve or Udo Pooch\n",
      ".A\n",
      "Prieve, B.\n",
      "Pooch, U.\n",
      ".N\n",
      " 2. Richard Alexander, Comp Serv, Langmuir Lab (author = Pooch or Prieve)\n"
     ]
    }
   ],
   "source": [
    "##### The first 15 lines of 'query.text' has 2 queries\n",
    "# We are interested only in 2 fields. \n",
    "# 1. the '.I' - the query id\n",
    "# 2. the '.W' - the query\n",
    "!head -15 ./datasets/query.text\n",
    "#####"
   ]
  },
  {
   "cell_type": "markdown",
   "metadata": {
    "deletable": false,
    "editable": false,
    "nbgrader": {
     "cell_type": "markdown",
     "checksum": "8f19f311a660f30e3f86cb0f7037d54a",
     "grade": false,
     "grade_id": "cell-88e293507d2dcef6",
     "locked": true,
     "schema_version": 3,
     "solution": false,
     "task": false
    }
   },
   "source": [
    "---\n",
    "\n",
    "The following function reads the `query.text` file:"
   ]
  },
  {
   "cell_type": "code",
   "execution_count": 8,
   "metadata": {
    "deletable": false,
    "editable": false,
    "nbgrader": {
     "cell_type": "code",
     "checksum": "e3fbb193211007672849487f5cff1664",
     "grade": false,
     "grade_id": "cell-433e3ad5d0e2572a",
     "locked": true,
     "schema_version": 3,
     "solution": false,
     "task": false
    }
   },
   "outputs": [],
   "source": [
    "def read_queries(root_folder = \"./datasets/\"):\n",
    "    \"\"\"\n",
    "        Reads in the CACM queries. The dataset is assumed to be in the folder \"./datasets/\" by default\n",
    "        Returns: A list of 2-tuples: (query_id, query)\n",
    "    \"\"\"\n",
    "    with open(os.path.join(root_folder, \"query.text\")) as reader:\n",
    "        lines = reader.readlines()\n",
    "    \n",
    "    query_id, query = None, None\n",
    "    \n",
    "    queries = []\n",
    "    line_idx = 0\n",
    "    while line_idx < len(lines):\n",
    "        line = lines[line_idx]\n",
    "        if line.startswith(\".I\"):\n",
    "            if query_id is not None:\n",
    "                queries.append((query_id, query))\n",
    "                query_id, query = None, None\n",
    "    \n",
    "            query_id = line.split()[-1]\n",
    "            line_idx += 1\n",
    "        elif line.startswith(\".W\"):\n",
    "            # start at next line\n",
    "            line_idx += 1\n",
    "            temp_lines = []\n",
    "            # read till next '.'\n",
    "            while not lines[line_idx].startswith(\".\"):\n",
    "                temp_lines.append(lines[line_idx].strip(\"\\n\"))\n",
    "                line_idx += 1\n",
    "            query = \"\\n\".join(temp_lines).strip(\"\\n\")\n",
    "        else:\n",
    "            line_idx += 1\n",
    "    \n",
    "    queries.append((query_id, query))\n",
    "    return queries\n"
   ]
  },
  {
   "cell_type": "code",
   "execution_count": 9,
   "metadata": {
    "deletable": false,
    "editable": false,
    "nbgrader": {
     "cell_type": "code",
     "checksum": "a897b9771b54f447be3418d7246fc4a0",
     "grade": false,
     "grade_id": "cell-6ec540abce66c598",
     "locked": true,
     "schema_version": 3,
     "solution": false,
     "task": false
    }
   },
   "outputs": [],
   "source": [
    "##### Function check\n",
    "queries = read_queries()\n",
    "\n",
    "assert isinstance(queries, list)\n",
    "assert len(queries) == 64 and all([q[1] is not None for q in queries]), \"There should be exactly 64 queries\"\n",
    "\n",
    "unzipped_queries = list(zip(*queries))\n",
    "assert np.sum(np.array(list(map(int,unzipped_queries[0])))) == 2080\n",
    "\n",
    "##### "
   ]
  },
  {
   "cell_type": "markdown",
   "metadata": {
    "deletable": false,
    "editable": false,
    "nbgrader": {
     "cell_type": "markdown",
     "checksum": "a300c41912ac63b239070b4c15c9f5c5",
     "grade": false,
     "grade_id": "cell-1c31569491d7b782",
     "locked": true,
     "schema_version": 3,
     "solution": false,
     "task": false
    }
   },
   "source": [
    "---\n",
    "### 1.3 Read the stop words\n",
    "\n",
    "We use the common words stored in `common_words`:"
   ]
  },
  {
   "cell_type": "code",
   "execution_count": 10,
   "metadata": {
    "deletable": false,
    "editable": false,
    "nbgrader": {
     "cell_type": "code",
     "checksum": "1ad6f5bae6a792504c1c8513ae5751ad",
     "grade": false,
     "grade_id": "cell-34bdb63461418a96",
     "locked": true,
     "schema_version": 3,
     "solution": false,
     "task": false
    }
   },
   "outputs": [
    {
     "name": "stdout",
     "output_type": "stream",
     "text": [
      "a\n",
      "about\n",
      "above\n",
      "accordingly\n",
      "across\n",
      "after\n",
      "afterwards\n",
      "again\n",
      "against\n",
      "all\n"
     ]
    }
   ],
   "source": [
    "##### Read the stop words file \n",
    "!head ./datasets/common_words\n",
    "##### Read the README file "
   ]
  },
  {
   "cell_type": "markdown",
   "metadata": {
    "deletable": false,
    "editable": false,
    "nbgrader": {
     "cell_type": "markdown",
     "checksum": "6d0fe612e770213b6397c2179b07a966",
     "grade": false,
     "grade_id": "cell-4744bde0338895d8",
     "locked": true,
     "schema_version": 3,
     "solution": false,
     "task": false
    }
   },
   "source": [
    "---\n",
    "\n",
    "The following function reads the `common_words` file (For better coverage, we try to keep them in lowercase):"
   ]
  },
  {
   "cell_type": "code",
   "execution_count": 11,
   "metadata": {
    "deletable": false,
    "editable": false,
    "nbgrader": {
     "cell_type": "code",
     "checksum": "9409713fd26eb0c33587e190638997c4",
     "grade": false,
     "grade_id": "cell-7357aa40f64e5bcb",
     "locked": true,
     "schema_version": 3,
     "solution": false,
     "task": false
    }
   },
   "outputs": [],
   "source": [
    "def load_stopwords(root_folder = \"./datasets/\"):\n",
    "    \"\"\"\n",
    "        Loads the stopwords. The dataset is assumed to be in the folder \"./datasets/\" by default\n",
    "        Output: A set of stopwords\n",
    "    \"\"\"\n",
    "    with open(os.path.join(root_folder, \"common_words\")) as reader:\n",
    "        lines = reader.readlines()\n",
    "    stopwords = set([l.strip().lower() for l in lines])\n",
    "    return stopwords\n"
   ]
  },
  {
   "cell_type": "code",
   "execution_count": 12,
   "metadata": {
    "deletable": false,
    "editable": false,
    "nbgrader": {
     "cell_type": "code",
     "checksum": "f1c8153c3c38133bc2db6e7b076ad470",
     "grade": false,
     "grade_id": "cell-2ca3ac162004de97",
     "locked": true,
     "schema_version": 3,
     "solution": false,
     "task": false
    }
   },
   "outputs": [],
   "source": [
    "##### Function check\n",
    "stopwords = load_stopwords()\n",
    "\n",
    "assert isinstance(stopwords, set)\n",
    "assert len(stopwords) == 428, \"There should be exactly 428 stop words\"\n",
    "\n",
    "assert np.sum(np.array(list(map(len,stopwords)))) == 2234\n",
    "\n",
    "##### \n"
   ]
  },
  {
   "cell_type": "markdown",
   "metadata": {
    "deletable": false,
    "editable": false,
    "nbgrader": {
     "cell_type": "markdown",
     "checksum": "92c1191e9e7291dcf0d70dc67b907a65",
     "grade": false,
     "grade_id": "cell-134b72872f4300cb",
     "locked": true,
     "schema_version": 3,
     "solution": false,
     "task": false
    }
   },
   "source": [
    "---\n",
    "### 1.4 Tokenization (3 points)\n",
    "\n",
    "We can now write some basic text processing functions. \n",
    "A first step is to tokenize the text. \n",
    "\n",
    "**Note**: Use the  `WordPunctTokenizer` available in the `nltk` library:"
   ]
  },
  {
   "cell_type": "code",
   "execution_count": 13,
   "metadata": {
    "deletable": false,
    "nbgrader": {
     "cell_type": "code",
     "checksum": "3f5564d3c75bf22fbf832b3a9b938f37",
     "grade": false,
     "grade_id": "cell-322be4c9499bdc4b",
     "locked": false,
     "schema_version": 3,
     "solution": true,
     "task": false
    }
   },
   "outputs": [],
   "source": [
    "# TODO: Implement this! (4 points)\n",
    "def tokenize(text):\n",
    "    \"\"\"\n",
    "    Tokenizes the input text. Use the WordPunctTokenizer\n",
    "    Input: text - a string\n",
    "    Output: a list of tokens\n",
    "    \"\"\"\n",
    "    # YOUR CODE HERE\n",
    "\n",
    "    tk = nltk.WordPunctTokenizer()\n",
    "    return tk.tokenize(text)"
   ]
  },
  {
   "cell_type": "code",
   "execution_count": 14,
   "metadata": {
    "deletable": false,
    "editable": false,
    "nbgrader": {
     "cell_type": "code",
     "checksum": "e15af22c4d8ae0a3f9dac43bef7097ec",
     "grade": true,
     "grade_id": "cell-7fbf48bf7541a622",
     "locked": true,
     "points": 3,
     "schema_version": 3,
     "solution": false,
     "task": false
    }
   },
   "outputs": [
    {
     "name": "stdout",
     "output_type": "stream",
     "text": [
      "['the', 'quick', 'brown', 'fox', 'jumps', 'over', 'the', 'lazy', 'dog']\n"
     ]
    }
   ],
   "source": [
    "##### Function check\n",
    "text = \"the quick brown fox jumps over the lazy dog\"\n",
    "tokens = tokenize(text)\n",
    "\n",
    "assert isinstance(tokens, list)\n",
    "assert len(tokens) == 9\n",
    "\n",
    "print(tokens)\n",
    "# output: ['the', 'quick', 'brown', 'fox', 'jumps', 'over', 'the', 'lazy', 'dog']\n",
    "#####"
   ]
  },
  {
   "cell_type": "markdown",
   "metadata": {
    "deletable": false,
    "editable": false,
    "nbgrader": {
     "cell_type": "markdown",
     "checksum": "34210618bff4cb47aad2f03cb4b9854c",
     "grade": false,
     "grade_id": "cell-fd1b98ae61b697ca",
     "locked": true,
     "schema_version": 3,
     "solution": false,
     "task": false
    }
   },
   "source": [
    "---\n",
    "### 1.5 Stemming (2 points)\n",
    "\n",
    "Write a function to stem tokens. \n",
    "Again, you can use the nltk library for this:"
   ]
  },
  {
   "cell_type": "code",
   "execution_count": 15,
   "metadata": {
    "deletable": false,
    "nbgrader": {
     "cell_type": "code",
     "checksum": "1c4a6aa979d66158c7b6b992af43293a",
     "grade": false,
     "grade_id": "cell-e3f6c8e3f874b28d",
     "locked": false,
     "schema_version": 3,
     "solution": true,
     "task": false
    }
   },
   "outputs": [],
   "source": [
    "# TODO: Implement this! (3 points)\n",
    "def stem_token(token):\n",
    "    \"\"\"\n",
    "    Stems the given token using the PorterStemmer from the nltk library\n",
    "    Input: a single token\n",
    "    Output: the stem of the token\n",
    "    \"\"\"\n",
    "    stemmer = nltk.stem.PorterStemmer()\n",
    "    return stemmer.stem(token)"
   ]
  },
  {
   "cell_type": "code",
   "execution_count": 16,
   "metadata": {
    "deletable": false,
    "editable": false,
    "nbgrader": {
     "cell_type": "code",
     "checksum": "9363b4f09b556d424d9c895d4ab57b1c",
     "grade": true,
     "grade_id": "cell-cd6863e6ee6ed205",
     "locked": true,
     "points": 2,
     "schema_version": 3,
     "solution": false,
     "task": false
    }
   },
   "outputs": [],
   "source": [
    "##### Function check\n",
    "\n",
    "assert stem_token('owned') == 'own'\n",
    "assert stem_token('itemization') == 'item'\n",
    "#####"
   ]
  },
  {
   "cell_type": "markdown",
   "metadata": {
    "deletable": false,
    "editable": false,
    "nbgrader": {
     "cell_type": "markdown",
     "checksum": "0b311d014146da6afa1d39542fab9869",
     "grade": false,
     "grade_id": "cell-47c9f90498699110",
     "locked": true,
     "schema_version": 3,
     "solution": false,
     "task": false
    }
   },
   "source": [
    "---\n",
    "### 1.6 Summary\n",
    "\n",
    "The following function puts it all together. Given an input string, this functions tokenizes and processes it according to the flags that you set."
   ]
  },
  {
   "cell_type": "code",
   "execution_count": 17,
   "metadata": {
    "deletable": false,
    "editable": false,
    "nbgrader": {
     "cell_type": "code",
     "checksum": "2ff2d215ee8e0039c5a91fd3de12e6bd",
     "grade": false,
     "grade_id": "cell-dd0d3f46b30801da",
     "locked": true,
     "schema_version": 3,
     "solution": false,
     "task": false
    }
   },
   "outputs": [],
   "source": [
    "#### Putting it all together\n",
    "def process_text(text, stem=False, remove_stopwords=False, lowercase_text=False):\n",
    "    \n",
    "    tokens = []\n",
    "    for token in tokenize(text):\n",
    "        if remove_stopwords and token.lower() in stopwords:\n",
    "            continue\n",
    "        if stem:\n",
    "            token = stem_token(token)\n",
    "        if lowercase_text:\n",
    "            token = token.lower()\n",
    "        tokens.append(token)\n",
    "\n",
    "    return tokens\n",
    "#### "
   ]
  },
  {
   "cell_type": "markdown",
   "metadata": {
    "deletable": false,
    "editable": false,
    "nbgrader": {
     "cell_type": "markdown",
     "checksum": "02d433b18eb43654fa4306a7bf55b190",
     "grade": false,
     "grade_id": "cell-8d885bfd2edd43ae",
     "locked": true,
     "schema_version": 3,
     "solution": false,
     "task": false
    }
   },
   "source": [
    "---\n",
    "\n",
    "Let's create two sets of preprocessed documents.\n",
    "We can process the documents and queries according to these two configurations:"
   ]
  },
  {
   "cell_type": "code",
   "execution_count": 18,
   "metadata": {
    "deletable": false,
    "editable": false,
    "nbgrader": {
     "cell_type": "code",
     "checksum": "dbe4ca667be6842fdcf512fbcad50c7f",
     "grade": false,
     "grade_id": "cell-d427365ee0fb21d8",
     "locked": true,
     "schema_version": 3,
     "solution": false,
     "task": false
    }
   },
   "outputs": [],
   "source": [
    "# In this configuration:\n",
    "# Don't preprocess the text, except to tokenize \n",
    "config_1 = {\n",
    "  \"stem\": False,\n",
    "  \"remove_stopwords\" : False,\n",
    "  \"lowercase_text\": True\n",
    "} \n",
    "\n",
    "\n",
    "# In this configuration:\n",
    "# Preprocess the text, stem and remove stopwords\n",
    "config_2 = {\n",
    "  \"stem\": True,\n",
    "  \"remove_stopwords\" : True,\n",
    "  \"lowercase_text\": True, \n",
    "} \n",
    "\n",
    "####\n",
    "doc_repr_1 = []\n",
    "doc_repr_2 = []\n",
    "for (doc_id, document) in docs:\n",
    "    doc_repr_1.append((doc_id, process_text(document, **config_1)))\n",
    "    doc_repr_2.append((doc_id, process_text(document, **config_2)))\n",
    "\n",
    "####"
   ]
  },
  {
   "cell_type": "markdown",
   "metadata": {
    "deletable": false,
    "editable": false,
    "nbgrader": {
     "cell_type": "markdown",
     "checksum": "b60589aac19e80941d860d9b3f1e9a16",
     "grade": false,
     "grade_id": "cell-b1c102db61ae7495",
     "locked": true,
     "schema_version": 3,
     "solution": false,
     "task": false
    }
   },
   "source": [
    "--- \n",
    "\n",
    "## Section 2: Indexing (10 points)<a class=\"anchor\" id=\"indexing\"></a>\n",
    "\n",
    "[Back to Part 1](#part1)\n",
    "\n",
    "\n",
    "\n",
    "A retrieval function usually takes in a query document pair, and scores a query against a document.  Our document set is quite small - just a few thousand documents. However, consider a web-scale dataset with a few million documents. In such a scenario, it would become infeasible to score every query and document pair. In such a case, we can build an inverted index. From Wikipedia:\n",
    "\n",
    "> ... , an inverted index (also referred to as a postings file or inverted file) is a database index storing a mapping from content, such as words or numbers, to its locations in a table, .... The purpose of an inverted index is to allow fast full-text searches, at a cost of increased processing when a document is added to the database. ...\n",
    "\n",
    "\n",
    "Consider a simple inverted index, which maps from word to document. This can improve the performance of a retrieval system significantly. In this assignment, we consider a *simple* inverted index, which maps a word to a set of documents. In practice, however, more complex indices might be used.  \n"
   ]
  },
  {
   "cell_type": "markdown",
   "metadata": {
    "deletable": false,
    "editable": false,
    "nbgrader": {
     "cell_type": "markdown",
     "checksum": "710fd943f45523ac36fcb887cc0d4d39",
     "grade": false,
     "grade_id": "cell-fa373192c1b7bb95",
     "locked": true,
     "schema_version": 3,
     "solution": false,
     "task": false
    }
   },
   "source": [
    "### 2.1 Term Frequency-index (10 points)\n",
    "In this assignment, we will be using an index created in memory since our dataset is tiny. To get started, build a simple index that maps each `token` to a list of `(doc_id, count)` where `count` is the count of the `token` in `doc_id`.\n",
    "For consistency, build this index using a python dictionary.\n",
    "    \n",
    "Now, implement a function to build an index:"
   ]
  },
  {
   "cell_type": "code",
   "execution_count": 19,
   "metadata": {
    "deletable": false,
    "nbgrader": {
     "cell_type": "code",
     "checksum": "d4e8c6b658c469379d5fe511de05b536",
     "grade": false,
     "grade_id": "cell-077599b87e953209",
     "locked": false,
     "schema_version": 3,
     "solution": true,
     "task": false
    }
   },
   "outputs": [],
   "source": [
    "# need defaultdict to handle cases when queried word is missing from our documents\n",
    "# https://piazza.com/class/kyiksrdfk0b6te?cid=38\n",
    "# https://piazza.com/class/kyiksrdfk0b6te?cid=39\n",
    "from collections import defaultdict\n",
    "\n",
    "# TODO: Implement this! (10 points)\n",
    "def build_tf_index(documents):\n",
    "    \"\"\"\n",
    "    Build an inverted index (with counts).\n",
    "    The output is a dictionary which takes in a token and\n",
    "    returns a list of (doc_id, count)\n",
    "    where 'count' is the count of the 'token' in 'doc_id'\n",
    "\n",
    "    Input: a list of documents - (doc_id, tokens)\n",
    "    Output: An inverted index implemented within a pyhton dictionary:\n",
    "        [token] -> [(doc_id, token_count)]\n",
    "    \"\"\"\n",
    "    # YOUR CODE HERE\n",
    "    tf_index = defaultdict(list)\n",
    "    for doc_id, tokens in documents:\n",
    "        tokens_set = set(tokens)\n",
    "        for token in tokens_set:\n",
    "            tf_index[token].append((doc_id, tokens.count(token)))\n",
    "    return tf_index"
   ]
  },
  {
   "cell_type": "markdown",
   "metadata": {
    "deletable": false,
    "editable": false,
    "nbgrader": {
     "cell_type": "markdown",
     "checksum": "15e7041b4323d2a290322de538ff7670",
     "grade": false,
     "grade_id": "cell-093aebfa504f96f2",
     "locked": true,
     "schema_version": 3,
     "solution": false,
     "task": false
    }
   },
   "source": [
    "---\n",
    "Now we can build indexed documents and preprocess the queries based on the two configurations:"
   ]
  },
  {
   "cell_type": "code",
   "execution_count": 20,
   "metadata": {
    "deletable": false,
    "editable": false,
    "nbgrader": {
     "cell_type": "code",
     "checksum": "e27540c1d8d77a3779a05f557f3f40c6",
     "grade": false,
     "grade_id": "cell-b2ff1676348b90a8",
     "locked": true,
     "schema_version": 3,
     "solution": false,
     "task": false
    }
   },
   "outputs": [],
   "source": [
    "#### Indexed documents based on the two configs\n",
    "\n",
    "# Create the 2 indices\n",
    "tf_index_1 = build_tf_index(doc_repr_1)\n",
    "tf_index_2 = build_tf_index(doc_repr_2)\n",
    "\n",
    "# This function returns the tf_index of the corresponding config\n",
    "def get_index(index_set):\n",
    "    assert index_set in {1, 2}\n",
    "    return {\n",
    "        1: tf_index_1,\n",
    "        2: tf_index_2\n",
    "    }[index_set]\n",
    "\n",
    "####\n",
    "#### Preprocessed query based on the two configs\n",
    "\n",
    "# This function preprocesses the text given the index set, according to the specified config\n",
    "def preprocess_query(text, index_set):\n",
    "    assert index_set in {1, 2}\n",
    "    if index_set == 1:\n",
    "        return process_text(text, **config_1)\n",
    "    elif index_set == 2:\n",
    "        return process_text(text, **config_2)\n",
    "\n",
    "#### "
   ]
  },
  {
   "cell_type": "code",
   "execution_count": 21,
   "metadata": {
    "deletable": false,
    "editable": false,
    "nbgrader": {
     "cell_type": "code",
     "checksum": "f0cbc8703e1248cd6edf03f9019b69db",
     "grade": true,
     "grade_id": "cell-fc7c7232d5d2ee46",
     "locked": true,
     "points": 5,
     "schema_version": 3,
     "solution": false,
     "task": false
    }
   },
   "outputs": [
    {
     "name": "stdout",
     "output_type": "stream",
     "text": [
      "sample tf index for computer: [('4', 1), ('7', 1), ('10', 1), ('13', 1), ('19', 1), ('22', 1), ('23', 1), ('37', 1), ('40', 3), ('41', 1)]\n",
      "sample tf index for examples: [('111', 1), ('320', 1), ('644', 1), ('691', 1), ('727', 1), ('848', 1), ('892', 1), ('893', 1), ('1049', 1), ('1051', 1)]\n"
     ]
    }
   ],
   "source": [
    "##### Function check\n",
    "\n",
    "assert isinstance(tf_index_1, dict)\n",
    "\n",
    "assert isinstance(tf_index_1['computer'], list)\n",
    "print('sample tf index for computer:', tf_index_1['computer'][:10])\n",
    "\n",
    "assert isinstance(tf_index_1['examples'], list)\n",
    "print('sample tf index for examples:', tf_index_1['examples'][:10])\n",
    "#### "
   ]
  },
  {
   "cell_type": "code",
   "execution_count": 22,
   "metadata": {
    "deletable": false,
    "editable": false,
    "nbgrader": {
     "cell_type": "code",
     "checksum": "d49b8ac36815d9a5cb4bed838ab53a50",
     "grade": true,
     "grade_id": "cell-ff06bd11204db250",
     "locked": true,
     "points": 5,
     "schema_version": 3,
     "solution": false,
     "task": false
    }
   },
   "outputs": [
    {
     "name": "stdout",
     "output_type": "stream",
     "text": [
      "sample tf index for computer: [('4', 1), ('7', 1), ('10', 1), ('13', 1), ('19', 1), ('22', 1), ('23', 1), ('37', 1), ('40', 3), ('41', 1)]\n",
      "sample tf index for examples: []\n"
     ]
    }
   ],
   "source": [
    "##### Function check\n",
    "\n",
    "assert isinstance(tf_index_2, dict)\n",
    "\n",
    "assert isinstance(tf_index_2['computer'], list)\n",
    "print('sample tf index for computer:', tf_index_1['computer'][:10])\n",
    "\n",
    "assert isinstance(tf_index_2['examples'], list)\n",
    "print('sample tf index for examples:', tf_index_2['examples'][:10])\n",
    "#### "
   ]
  },
  {
   "cell_type": "markdown",
   "metadata": {
    "deletable": false,
    "editable": false,
    "nbgrader": {
     "cell_type": "markdown",
     "checksum": "880b2ef3ca405f2af6e0667d2dc7a600",
     "grade": false,
     "grade_id": "cell-89eba71f04310291",
     "locked": true,
     "schema_version": 3,
     "solution": false,
     "task": false
    }
   },
   "source": [
    "\n",
    "---\n",
    "## Section 3: Ranking  (80 points) <a class=\"anchor\" id=\"ranking\"></a>\n",
    "\n",
    "[Back to Part 1](#part1)\n",
    "\n",
    "Now that we have cleaned and processed our dataset, we can start building simple IR systems. \n",
    "\n",
    "For now, we consider *simple* IR systems, which involve computing scores from the tokens present in the document/query. More advanced methods are covered in later assignments.\n",
    "\n",
    "We will implement the following methods in this section:\n",
    "- [Section 3.1: Bag of Words](#bow) (10 points)\n",
    "- [Section 3.2: TF-IDF](#tfidf) (15 points)\n",
    "- [Section 3.3: Query Likelihood Model](#qlm) (35 points)\n",
    "- [Section 3.4: BM25](#bm25) (20 points)\n",
    "\n",
    "*All search functions should be able to handle multiple words queries.*\n",
    "\n",
    "**Scoring policy:**\n",
    "Your implementations in this section are scored based on the expected performance of your ranking functions.\n",
    "You will get a full mark if your implementation meets the expected performance (measured by some evaluation metric).\n",
    "Otherwise, you may get partial credit.\n",
    "For example, if your *Bag of words* ranking function has 60% of expected performance, you will get 6 out of 10."
   ]
  },
  {
   "cell_type": "markdown",
   "metadata": {
    "deletable": false,
    "editable": false,
    "nbgrader": {
     "cell_type": "markdown",
     "checksum": "6c74e5061917358300c6e8085ec07864",
     "grade": false,
     "grade_id": "cell-3daf70a60e393adf",
     "locked": true,
     "schema_version": 3,
     "solution": false,
     "task": false
    }
   },
   "source": [
    "--- \n",
    "\n",
    "### Section 3.1: Bag of Words (10 points)<a class=\"anchor\" id=\"bow\"></a>\n",
    "\n",
    "Probably the simplest IR model is the Bag of Words (BOW) model.\n",
    "Implement a function that scores and ranks all the documents against a query using this model.   \n",
    "\n",
    "- For consistency, you should use the count of the token and **not** the binary indicator.\n",
    "- Use `float` type for the scores (even though the scores are integers in this case).\n",
    "- No normalization of the scores is necessary, as the ordering is what we are interested in.\n",
    "- If two documents have the same score, they can have any ordering: you are not required to disambiguate.\n"
   ]
  },
  {
   "cell_type": "code",
   "execution_count": 23,
   "metadata": {
    "deletable": false,
    "nbgrader": {
     "cell_type": "code",
     "checksum": "fee4640e22bfc4f05eb958a675ef40e7",
     "grade": false,
     "grade_id": "cell-de9cf0459c4b9324",
     "locked": false,
     "schema_version": 3,
     "solution": true,
     "task": false
    }
   },
   "outputs": [],
   "source": [
    "# TODO: Implement this! (10 points)\n",
    "def bow_search(query, index_set):\n",
    "    \"\"\"\n",
    "    Perform a search over all documents with the given query.\n",
    "    Note: You have to use the `get_index` function created in the previous cells\n",
    "    Input:\n",
    "        query - a (unprocessed) query\n",
    "        index_set - the index to use\n",
    "    Output: a list of (document_id, score),\n",
    "        sorted in descending relevance to the given query.\n",
    "    \"\"\"\n",
    "    index = get_index(index_set)\n",
    "    processed_query = preprocess_query(query, index_set)\n",
    "\n",
    "    # YOUR CODE HERE\n",
    "    # total count per document\n",
    "    documents = defaultdict(float)\n",
    "    for token in processed_query:\n",
    "        for document_id, token_count in index[token]:\n",
    "            # aggregate counts of this token across all documents\n",
    "            documents[document_id] += token_count\n",
    "    # convert documents to list and sort descending\n",
    "    documents = sorted(list(documents.items()), key=lambda x: x[1], reverse=True)\n",
    "    return documents"
   ]
  },
  {
   "cell_type": "code",
   "execution_count": 24,
   "metadata": {
    "deletable": false,
    "editable": false,
    "nbgrader": {
     "cell_type": "code",
     "checksum": "613524fbbf02b1d122c6611a71fbf11b",
     "grade": true,
     "grade_id": "cell-9f6aceae6dd9125f",
     "locked": true,
     "points": 2,
     "schema_version": 3,
     "solution": false,
     "task": false
    }
   },
   "outputs": [],
   "source": [
    "#### Function check\n",
    "\n",
    "test_bow = bow_search(\"how to implement bag of words search\", index_set=1)[:5]\n",
    "assert isinstance(test_bow, list)\n",
    "assert len(test_bow[0]) == 2\n",
    "assert isinstance(test_bow[0][0], str)\n",
    "assert isinstance(test_bow[0][1], float)\n",
    "\n",
    "#### "
   ]
  },
  {
   "cell_type": "code",
   "execution_count": 25,
   "metadata": {
    "deletable": false,
    "editable": false,
    "nbgrader": {
     "cell_type": "code",
     "checksum": "9af20897659edb62fe77598483590500",
     "grade": true,
     "grade_id": "cell-4eed3abf233d9b58",
     "locked": true,
     "points": 2,
     "schema_version": 3,
     "solution": false,
     "task": false
    }
   },
   "outputs": [
    {
     "name": "stdout",
     "output_type": "stream",
     "text": [
      "BOW Results:\n",
      "Rank 0(1.3e+01): On Computing The Fast Fourier Transform\\nCooley an...\n",
      "Rank 1(1.2e+01): Variable Length Tree Structures Having Minimum Ave...\n",
      "Rank 2(1.1e+01): A Modular Computer Sharing System\\nAn alternative ...\n",
      "Rank 3(1e+01): PEEKABIT, Computer Offspring of Punched\\nCard PEEK...\n",
      "Rank 4(9.0): Computer Simulation-Discussion of the\\nTechnique a...\n"
     ]
    }
   ],
   "source": [
    "\n",
    "docs_by_id = dict(docs)\n",
    "def print_results(docs, len_limit=50):    \n",
    "    for i, (doc_id, score) in enumerate(docs):\n",
    "        doc_content = docs_by_id[doc_id].strip().replace(\"\\n\", \"\\\\n\")[:len_limit] + \"...\"\n",
    "        print(f\"Rank {i}({score:.2}): {doc_content}\")\n",
    "\n",
    "test_bow_2 = bow_search(\"computer search word\", index_set=2)[:5]\n",
    "print(f\"BOW Results:\")\n",
    "print_results(test_bow_2)\n"
   ]
  },
  {
   "cell_type": "code",
   "execution_count": 26,
   "metadata": {
    "deletable": false,
    "editable": false,
    "nbgrader": {
     "cell_type": "code",
     "checksum": "3c9c8b16c8e7d1032f101e9da8a6e845",
     "grade": true,
     "grade_id": "cell-4d65a2d7090c466c",
     "locked": true,
     "points": 3,
     "schema_version": 3,
     "solution": false,
     "task": false
    }
   },
   "outputs": [
    {
     "name": "stdout",
     "output_type": "stream",
     "text": [
      "BOW Results:\n",
      "Rank 0(9.0): CURRICULUM 68 -- Recommendations for Academic\\nPro...\n",
      "Rank 1(9.0): Variable Length Tree Structures Having Minimum Ave...\n",
      "Rank 2(7.0): Computer Formulation of the Equations of Motion Us...\n",
      "Rank 3(7.0): The Effects of Multiplexing on a Computer-Communic...\n",
      "Rank 4(6.0): Optimizing Bit-time Computer Simulation\\nA major c...\n"
     ]
    }
   ],
   "source": [
    "\n",
    "test_bow_1 = bow_search(\"computer search word\", index_set=1)[:5]\n",
    "print(f\"BOW Results:\")\n",
    "print_results(test_bow_1)\n"
   ]
  },
  {
   "cell_type": "code",
   "execution_count": 27,
   "metadata": {
    "deletable": false,
    "editable": false,
    "nbgrader": {
     "cell_type": "code",
     "checksum": "b7e593847aa4202ae45ec061fb18ad73",
     "grade": true,
     "grade_id": "cell-dedf36ab5853ce20",
     "locked": true,
     "points": 3,
     "schema_version": 3,
     "solution": false,
     "task": false
    }
   },
   "outputs": [
    {
     "name": "stdout",
     "output_type": "stream",
     "text": [
      "top-5 docs for index1: ('1771', '1936', '1543', '2535', '678')\n",
      "top-5 docs for index2: ('1525', '1936', '1844', '1700', '1366')\n"
     ]
    }
   ],
   "source": [
    "print('top-5 docs for index1:', list(zip(*test_bow_1[:5]))[0])\n",
    "print('top-5 docs for index2:', list(zip(*test_bow_2[:5]))[0])\n"
   ]
  },
  {
   "cell_type": "markdown",
   "metadata": {
    "deletable": false,
    "editable": false,
    "nbgrader": {
     "cell_type": "markdown",
     "checksum": "b04352ee0716dfdf094b8cdb6f32e984",
     "grade": false,
     "grade_id": "cell-a5c09c79ac1f2871",
     "locked": true,
     "schema_version": 3,
     "solution": false,
     "task": false
    }
   },
   "source": [
    "\n",
    "---\n",
    "\n",
    "### Section 3.2: TF-IDF (15 points) <a class=\"anchor\" id=\"tfidf\"></a>\n",
    "\n",
    "Before we implement the tf-idf scoring functions, let's first write a function to compute the document frequencies of all words.  \n",
    "\n",
    "#### 3.2.1 Document frequency (5 points)\n",
    "Compute the document frequencies of all tokens in the collection. \n",
    "Your code should return a dictionary with tokens as its keys and the number of documents containing the token as values.\n",
    "For consistency, the values should have `int` type."
   ]
  },
  {
   "cell_type": "code",
   "execution_count": 28,
   "metadata": {
    "deletable": false,
    "nbgrader": {
     "cell_type": "code",
     "checksum": "5c53263cf4c0b0ffcaae08b91fc364cc",
     "grade": false,
     "grade_id": "cell-9a2369f32e864b8a",
     "locked": false,
     "schema_version": 3,
     "solution": true,
     "task": false
    }
   },
   "outputs": [],
   "source": [
    "# TODO: Implement this! (5 points)\n",
    "def compute_df(documents):\n",
    "    \"\"\"\n",
    "    Compute the document frequency of all terms in the vocabulary\n",
    "    Input: A list of documents\n",
    "    Output: A dictionary with {token: document frequency (int)}\n",
    "    \"\"\"\n",
    "    # YOUR CODE HERE\n",
    "    df_dict = defaultdict(int)\n",
    "    for document in documents:\n",
    "        # we only count a token once per document, so work on the set of unique doc tokens\n",
    "        unique_doc_tokens = set(document)\n",
    "        for token in unique_doc_tokens:\n",
    "            df_dict[token] += 1\n",
    "    return df_dict"
   ]
  },
  {
   "cell_type": "code",
   "execution_count": 29,
   "metadata": {
    "deletable": false,
    "editable": false,
    "nbgrader": {
     "cell_type": "code",
     "checksum": "154985511d7925c5793a1f97dea81880",
     "grade": false,
     "grade_id": "cell-4c3bddd0b73ac90e",
     "locked": true,
     "schema_version": 3,
     "solution": false,
     "task": false
    }
   },
   "outputs": [],
   "source": [
    "#### Compute df based on the two configs\n",
    "\n",
    "# get the document frequencies of each document\n",
    "df_1 = compute_df([d[1] for d in doc_repr_1])\n",
    "df_2 = compute_df([d[1] for d in doc_repr_2])\n",
    "\n",
    "def get_df(index_set):\n",
    "    assert index_set in {1, 2}\n",
    "    return {\n",
    "        1: df_1,\n",
    "        2: df_2\n",
    "    }[index_set]\n",
    "####"
   ]
  },
  {
   "cell_type": "code",
   "execution_count": 30,
   "metadata": {
    "deletable": false,
    "editable": false,
    "nbgrader": {
     "cell_type": "code",
     "checksum": "110cc180068cf3f77c682ee3de2a117c",
     "grade": true,
     "grade_id": "cell-79e8a6db1e5fc46f",
     "locked": true,
     "points": 5,
     "schema_version": 3,
     "solution": false,
     "task": false
    }
   },
   "outputs": [
    {
     "name": "stdout",
     "output_type": "stream",
     "text": [
      "597\n",
      "11\n"
     ]
    }
   ],
   "source": [
    "#### Function check\n",
    "\n",
    "print(df_1['computer'])\n",
    "print(df_2['computer'])\n",
    "####"
   ]
  },
  {
   "cell_type": "markdown",
   "metadata": {
    "deletable": false,
    "editable": false,
    "nbgrader": {
     "cell_type": "markdown",
     "checksum": "d0d577668fa51b80aeab6e67209ae73b",
     "grade": false,
     "grade_id": "cell-52f6acc487e1b96d",
     "locked": true,
     "schema_version": 3,
     "solution": false,
     "task": false
    }
   },
   "source": [
    "---\n",
    "#### 3.2.2 TF-IDF search (10 points)\n",
    "Next, implement a function that computes a tf-idf score, given a query.\n",
    "Use the following formulas for TF and IDF:\n",
    "\n",
    "$$ TF=\\log (1 + f_{d,t}) $$\n",
    "\n",
    "$$ IDF=\\log (\\frac{N}{n_t})$$\n",
    "\n",
    "where $f_{d,t}$ is the frequency of token $t$ in document $d$, $N$ is the number of total documents and $n_t$ is the number of documents containing token $t$.\n",
    "\n",
    "**Note:** your implementation will be auto-graded assuming you have used the above formulas.\n"
   ]
  },
  {
   "cell_type": "code",
   "execution_count": 31,
   "metadata": {
    "deletable": false,
    "nbgrader": {
     "cell_type": "code",
     "checksum": "3534c44b4a3419ca1db98eebe7115dc1",
     "grade": false,
     "grade_id": "cell-2fb5ba34b2994cd9",
     "locked": false,
     "schema_version": 3,
     "solution": true,
     "task": false
    }
   },
   "outputs": [],
   "source": [
    "# TODO: Implement this! (10 points)\n",
    "def tfidf_search(query, index_set):\n",
    "    \"\"\"\n",
    "    Perform a search over all documents with the given query using tf-idf.\n",
    "    Note #1: You have to use the `get_index` (and the `get_df`) function\n",
    "    created in the previous cells\n",
    "    Input:\n",
    "        query - a (unprocessed) query\n",
    "        index_set - the index to use\n",
    "    Output: a list of (document_id, score),\n",
    "        sorted in descending relevance to the given query\n",
    "    \"\"\"\n",
    "    index = get_index(index_set)\n",
    "    df = get_df(index_set)\n",
    "    processed_query = preprocess_query(query, index_set)\n",
    "\n",
    "    N = len(docs)\n",
    "    # YOUR CODE HERE\n",
    "    documents = defaultdict(float)\n",
    "    for token in processed_query:\n",
    "        for document_id, token_count in index[token]:\n",
    "            tf = np.log(1 + token_count)\n",
    "            idf = np.log(N / df[token])\n",
    "            tf_idf = tf * idf\n",
    "            documents[document_id] += tf_idf\n",
    "    # convert documents to list and sort descending\n",
    "    documents = sorted(list(documents.items()), key=lambda x: x[1], reverse=True)\n",
    "    return documents"
   ]
  },
  {
   "cell_type": "code",
   "execution_count": 32,
   "metadata": {
    "deletable": false,
    "editable": false,
    "nbgrader": {
     "cell_type": "code",
     "checksum": "7b66a514663d898694b09a23a597312b",
     "grade": true,
     "grade_id": "cell-bc68aeeacf42beb3",
     "locked": true,
     "points": 2,
     "schema_version": 3,
     "solution": false,
     "task": false
    }
   },
   "outputs": [],
   "source": [
    "\n",
    "#### Function check\n",
    "test_tfidf = tfidf_search(\"how to implement tf idf search\", index_set=1)[:5]\n",
    "assert isinstance(test_tfidf, list)\n",
    "assert len(test_tfidf[0]) == 2\n",
    "assert isinstance(test_tfidf[0][0], str)\n",
    "assert isinstance(test_tfidf[0][1], float)\n",
    "\n",
    "####"
   ]
  },
  {
   "cell_type": "code",
   "execution_count": 33,
   "metadata": {
    "deletable": false,
    "editable": false,
    "nbgrader": {
     "cell_type": "code",
     "checksum": "98fb1326cf4bf7983ae237ca8a9105f9",
     "grade": true,
     "grade_id": "cell-c7702fa8179fadb9",
     "locked": true,
     "points": 2,
     "schema_version": 3,
     "solution": false,
     "task": false
    }
   },
   "outputs": [
    {
     "name": "stdout",
     "output_type": "stream",
     "text": [
      "TFIDF Results:\n",
      "Rank 0(1.3e+01): PEEKABIT, Computer Offspring of Punched\\nCard PEEK...\n",
      "Rank 1(9.8): Variable Length Tree Structures Having Minimum Ave...\n",
      "Rank 2(8.2): A Stochastic Approach to the Grammatical Coding of...\n",
      "Rank 3(8.1): Full Table Quadratic Searching for Scatter Storage...\n",
      "Rank 4(7.6): Use of Tree Structures for Processing Files\\nIn da...\n"
     ]
    }
   ],
   "source": [
    "\n",
    "test_tfidf_2 = tfidf_search(\"computer word search\", index_set=2)[:5]\n",
    "print(f\"TFIDF Results:\")\n",
    "print_results(test_tfidf_2)\n"
   ]
  },
  {
   "cell_type": "code",
   "execution_count": 34,
   "metadata": {
    "deletable": false,
    "editable": false,
    "nbgrader": {
     "cell_type": "code",
     "checksum": "733b5b67be5e53989f5b763ce5e52ee9",
     "grade": true,
     "grade_id": "cell-3284f50ac29abbaa",
     "locked": true,
     "points": 3,
     "schema_version": 3,
     "solution": false,
     "task": false
    }
   },
   "outputs": [
    {
     "name": "stdout",
     "output_type": "stream",
     "text": [
      "TFIDF Results:\n",
      "Rank 0(9.4): Variable Length Tree Structures Having Minimum Ave...\n",
      "Rank 1(7.4): On the Feasibility of Voice Input to\\nan On-line C...\n",
      "Rank 2(7.3): Median Split Trees: A Fast Lookup Technique for Fr...\n",
      "Rank 3(7.0): Execution Time Requirements for Encipherment Progr...\n",
      "Rank 4(7.0): Storage and Search Properties of a Tree-Organized ...\n"
     ]
    }
   ],
   "source": [
    "\n",
    "test_tfidf_1 = tfidf_search(\"computer word search\", index_set=1)[:5]\n",
    "print(f\"TFIDF Results:\")\n",
    "print_results(test_tfidf_1)\n"
   ]
  },
  {
   "cell_type": "code",
   "execution_count": 35,
   "metadata": {
    "deletable": false,
    "editable": false,
    "nbgrader": {
     "cell_type": "code",
     "checksum": "e0edb37a5ae807a2de85d578c87ccb78",
     "grade": true,
     "grade_id": "cell-d908c80a3155354b",
     "locked": true,
     "points": 3,
     "schema_version": 3,
     "solution": false,
     "task": false
    }
   },
   "outputs": [
    {
     "name": "stdout",
     "output_type": "stream",
     "text": [
      "top-5 docs for index1 with BOW search: ('1771', '1936', '1543', '2535', '678')\n",
      "top-5 docs for index2 with BOW search: ('1525', '1936', '1844', '1700', '1366')\n",
      "top-5 docs for index1 with TF-IDF search: ('1936', '2054', '3041', '2620', '944')\n",
      "top-5 docs for index2 with TF-IDF search: ('1700', '1936', '1235', '2018', '849')\n"
     ]
    }
   ],
   "source": [
    "\n",
    "print('top-5 docs for index1 with BOW search:', list(zip(*test_bow_1[:5]))[0])\n",
    "print('top-5 docs for index2 with BOW search:', list(zip(*test_bow_2[:5]))[0])\n",
    "print('top-5 docs for index1 with TF-IDF search:', list(zip(*test_tfidf_1[:5]))[0])\n",
    "print('top-5 docs for index2 with TF-IDF search:', list(zip(*test_tfidf_2[:5]))[0])\n",
    "\n"
   ]
  },
  {
   "cell_type": "markdown",
   "metadata": {
    "deletable": false,
    "editable": false,
    "nbgrader": {
     "cell_type": "markdown",
     "checksum": "cdffc83f0eaea937cf64a212e7e9af8d",
     "grade": false,
     "grade_id": "cell-f5d923459ba21733",
     "locked": true,
     "schema_version": 3,
     "solution": false,
     "task": false
    }
   },
   "source": [
    "--- \n",
    "\n",
    "### Section 3.3: Query Likelihood Model (35 points) <a class=\"anchor\" id=\"qlm\"></a>\n",
    "\n",
    "In this section, you will implement a simple query likelihood model. \n",
    "\n",
    "\n",
    "#### 3.3.1 Naive QL (15 points)\n",
    "\n",
    "First, let us implement a naive version of a QL model, assuming a multinomial unigram language model (with a uniform prior over the documents). \n",
    "\n"
   ]
  },
  {
   "cell_type": "code",
   "execution_count": 36,
   "metadata": {
    "deletable": false,
    "editable": false,
    "nbgrader": {
     "cell_type": "code",
     "checksum": "b7ae2b7d818b428b4638c1c9206d2aca",
     "grade": false,
     "grade_id": "cell-98505778f7b68e7f",
     "locked": true,
     "schema_version": 3,
     "solution": false,
     "task": false
    }
   },
   "outputs": [],
   "source": [
    "#### Document length for normalization\n",
    "\n",
    "def doc_lengths(documents):\n",
    "    doc_lengths = {doc_id:len(doc) for (doc_id, doc) in documents}\n",
    "    return doc_lengths\n",
    "\n",
    "doc_lengths_1 = doc_lengths(doc_repr_1)\n",
    "doc_lengths_2 = doc_lengths(doc_repr_2)\n",
    "\n",
    "def get_doc_lengths(index_set):\n",
    "    assert index_set in {1, 2}\n",
    "    return {\n",
    "        1: doc_lengths_1,\n",
    "        2: doc_lengths_2\n",
    "    }[index_set]\n",
    "####"
   ]
  },
  {
   "cell_type": "code",
   "execution_count": 37,
   "metadata": {
    "deletable": false,
    "nbgrader": {
     "cell_type": "code",
     "checksum": "cedd08303a914243fefdb6b876977ca1",
     "grade": false,
     "grade_id": "cell-8bcf2b804d636c2e",
     "locked": false,
     "schema_version": 3,
     "solution": true,
     "task": false
    }
   },
   "outputs": [],
   "source": [
    "# TODO: Implement this! (15 points)\n",
    "def naive_ql_search(query, index_set):\n",
    "    \"\"\"\n",
    "    Perform a search over all documents with the given query using a naive QL model.\n",
    "    Note #1: You have to use the `get_index` (and get_doc_lengths) function\n",
    "        created in the previous cells\n",
    "    Input:\n",
    "        query - a (unprocessed) query\n",
    "        index_set - the index to use\n",
    "    Output: a list of (document_id, score), sorted in descending relevance\n",
    "        to the given query\n",
    "    \"\"\"\n",
    "    index = get_index(index_set)\n",
    "    doc_lengths = get_doc_lengths(index_set)\n",
    "    processed_query = preprocess_query(query, index_set)\n",
    "    # YOUR CODE HERE\n",
    "    results = {}\n",
    "    \n",
    "    for token in processed_query:\n",
    "        # convert to dictionary for fast lookup\n",
    "        token_counts = dict(index[token])\n",
    "        for doc_id in doc_lengths.keys():\n",
    "            if doc_id not in token_counts:\n",
    "                # because token count is 0\n",
    "                p_qD = 0\n",
    "            else:\n",
    "                # otherwise we're able to get the tok count and proceed with computation\n",
    "                token_count = token_counts[doc_id]\n",
    "                p_qD = token_count / doc_lengths[doc_id]\n",
    "            if doc_id not in results:\n",
    "                results[doc_id] = p_qD\n",
    "            else:\n",
    "                results[doc_id] *= p_qD\n",
    "    results = sorted(list(results.items()), key=lambda x: x[1], reverse=True)\n",
    "    return results"
   ]
  },
  {
   "cell_type": "code",
   "execution_count": 38,
   "metadata": {
    "deletable": false,
    "editable": false,
    "nbgrader": {
     "cell_type": "code",
     "checksum": "b550d15bdad28354c336020a00c33d56",
     "grade": true,
     "grade_id": "cell-5a83ac12ecde8578",
     "locked": true,
     "points": 3,
     "schema_version": 3,
     "solution": false,
     "task": false
    }
   },
   "outputs": [
    {
     "name": "stdout",
     "output_type": "stream",
     "text": [
      "Naive QL Results:\n",
      "Rank 0(0.2): A Report Writer For COBOL...\n",
      "Rank 1(0.2): A CRT Report Generating System...\n",
      "Rank 2(0.17): Preliminary Report-International Algebraic Languag...\n",
      "Rank 3(0.17): Supplement to the ALGOL 60 Report...\n",
      "Rank 4(0.14): ALGOL Sub-Committee Report - Extensions...\n"
     ]
    }
   ],
   "source": [
    "#### Function check\n",
    "test_naiveql = naive_ql_search(\"report\", index_set=1)[:5]\n",
    "print(f\"Naive QL Results:\")\n",
    "print_results(test_naiveql)\n",
    "####"
   ]
  },
  {
   "cell_type": "code",
   "execution_count": 39,
   "metadata": {
    "deletable": false,
    "editable": false,
    "nbgrader": {
     "cell_type": "code",
     "checksum": "799df1d81c63fe90edbb6c218fc707fb",
     "grade": true,
     "grade_id": "cell-80f4bf2137f997bb",
     "locked": true,
     "points": 2,
     "schema_version": 3,
     "solution": false,
     "task": false
    }
   },
   "outputs": [],
   "source": [
    "#### Please do not change this. This cell is used for grading."
   ]
  },
  {
   "cell_type": "code",
   "execution_count": 40,
   "metadata": {
    "deletable": false,
    "editable": false,
    "nbgrader": {
     "cell_type": "code",
     "checksum": "875a4a517d27e20625d41783cebec118",
     "grade": true,
     "grade_id": "cell-5ce2993458a8ce51",
     "locked": true,
     "points": 3,
     "schema_version": 3,
     "solution": false,
     "task": false
    }
   },
   "outputs": [],
   "source": [
    "#### Please do not change this. This cell is used for grading."
   ]
  },
  {
   "cell_type": "code",
   "execution_count": 41,
   "metadata": {
    "deletable": false,
    "editable": false,
    "nbgrader": {
     "cell_type": "code",
     "checksum": "d5c4e1c3852e71a46f32825b122f1b71",
     "grade": true,
     "grade_id": "cell-7753bdb54e292f3d",
     "locked": true,
     "points": 3,
     "schema_version": 3,
     "solution": false,
     "task": false
    }
   },
   "outputs": [],
   "source": [
    "#### Please do not change this. This cell is used for grading."
   ]
  },
  {
   "cell_type": "code",
   "execution_count": 42,
   "metadata": {
    "deletable": false,
    "editable": false,
    "nbgrader": {
     "cell_type": "code",
     "checksum": "c4d4332d4356e89ce0240f6b80e1899a",
     "grade": true,
     "grade_id": "cell-54e476e2f96e64bb",
     "locked": true,
     "points": 4,
     "schema_version": 3,
     "solution": false,
     "task": false
    }
   },
   "outputs": [],
   "source": [
    "#### Please do not change this. This cell is used for grading."
   ]
  },
  {
   "cell_type": "markdown",
   "metadata": {
    "deletable": false,
    "editable": false,
    "nbgrader": {
     "cell_type": "markdown",
     "checksum": "8d739dc91a22bd48897f603885f95a74",
     "grade": false,
     "grade_id": "cell-5414dfd69dab8b94",
     "locked": true,
     "schema_version": 3,
     "solution": false,
     "task": false
    }
   },
   "source": [
    "---\n",
    "#### 3.3.2 QL (20 points)\n",
    "Now, let's implement a QL model that handles the issues with the naive version. In particular, you will implement a QL model with Jelinek-Mercer Smoothing. That means an interpolated score is computed per word - one term is the same as the previous naive version, and the second term comes from a unigram language model. In addition, you should accumulate the scores by summing the **log** (smoothed) probability which leads to better numerical stability."
   ]
  },
  {
   "cell_type": "code",
   "execution_count": 43,
   "metadata": {
    "deletable": false,
    "nbgrader": {
     "cell_type": "code",
     "checksum": "b8c6abf937ad333e628f1db891f2e29e",
     "grade": false,
     "grade_id": "cell-bb1f506409771257",
     "locked": false,
     "schema_version": 3,
     "solution": true,
     "task": false
    }
   },
   "outputs": [],
   "source": [
    "# TODO: Implement this! (20 points)\n",
    "\n",
    "\n",
    "def ql_search(query, index_set):\n",
    "    \"\"\"\n",
    "    Perform a search over all documents with the given query using a QL model\n",
    "    with Jelinek-Mercer Smoothing (set smoothing=0.1).\n",
    "\n",
    "    Note #1: You have to use the `get_index` (and get_doc_lengths) function\n",
    "        created in the previous cells\n",
    "    Note #2: You might have to create some variables beforehand and\n",
    "        use them in this function\n",
    "\n",
    "    Input:\n",
    "        query - a (unprocessed) query\n",
    "        index_set - the index to use\n",
    "    Output: a list of (document_id, score), sorted in descending relevance\n",
    "        to the given query\n",
    "    \"\"\"\n",
    "    index = get_index(index_set)\n",
    "    doc_lengths = get_doc_lengths(index_set)\n",
    "    processed_query = preprocess_query(query, index_set)\n",
    "\n",
    "    # YOUR CODE HERE\n",
    "    # total number of words in the collection\n",
    "    C = sum(list(doc_lengths.values()))\n",
    "    # \"(set smoothing=0.1)\"\n",
    "    lambd = 0.1\n",
    "    results = {}\n",
    "    for token in processed_query:\n",
    "        # skip tokens not in docs\n",
    "        if not index[token]:\n",
    "            continue\n",
    "        # mapping from to doc_id to count for this token\n",
    "        doc_to_count = {}\n",
    "        # total count of token across the collection\n",
    "        total_tok_count = 0\n",
    "        for doc, tok_count in index[token]:\n",
    "            doc_to_count[doc] = tok_count\n",
    "            total_tok_count += tok_count\n",
    "\n",
    "        # check each document in our collection, to catch token counts of 0\n",
    "        for document_id, doc_length in doc_lengths.items():\n",
    "            if document_id in doc_to_count:\n",
    "                token_count = doc_to_count[document_id]\n",
    "            else:\n",
    "                token_count = 0\n",
    "            # page 257 of Croft et al.\n",
    "            p_qD = np.log(\n",
    "                (1 - lambd) * token_count / doc_lengths[document_id]\n",
    "                + lambd * total_tok_count / C\n",
    "            )\n",
    "            if document_id not in results:\n",
    "                results[document_id] = p_qD\n",
    "            else:\n",
    "                results[document_id] += p_qD\n",
    "\n",
    "    # convert documents to list and sort descending\n",
    "    results = sorted(list(results.items()), key=lambda x: x[1], reverse=True)\n",
    "    return results"
   ]
  },
  {
   "cell_type": "code",
   "execution_count": 44,
   "metadata": {
    "deletable": false,
    "editable": false,
    "nbgrader": {
     "cell_type": "code",
     "checksum": "0b12a7f3355193a257fd9f5f69a66562",
     "grade": true,
     "grade_id": "cell-850e9d6369bcec32",
     "locked": true,
     "points": 4,
     "schema_version": 3,
     "solution": false,
     "task": false
    }
   },
   "outputs": [
    {
     "name": "stdout",
     "output_type": "stream",
     "text": [
      "Rank 0(-1.7): A Report Writer For COBOL...\n",
      "Rank 1(-1.7): A CRT Report Generating System...\n",
      "Rank 2(-1.9): Preliminary Report-International Algebraic Languag...\n",
      "Rank 3(-1.9): Supplement to the ALGOL 60 Report...\n",
      "Rank 4(-2.1): ALGOL Sub-Committee Report - Extensions...\n",
      "\n",
      "Rank 0(-1.7e+01): A Report Writer For COBOL...\n",
      "Rank 1(-1.7e+01): A CRT Report Generating System...\n",
      "Rank 2(-1.9e+01): Preliminary Report-International Algebraic Languag...\n",
      "Rank 3(-1.9e+01): Supplement to the ALGOL 60 Report...\n",
      "Rank 4(-2.1e+01): ALGOL Sub-Committee Report - Extensions...\n"
     ]
    }
   ],
   "source": [
    "#### Function check\n",
    "test_ql_results = ql_search(\"report\", index_set=1)[:5]\n",
    "print_results(test_ql_results)\n",
    "print()\n",
    "test_ql_results_long = ql_search(\"report \" * 10, index_set=1)[:5]\n",
    "print_results(test_ql_results_long)\n",
    "####"
   ]
  },
  {
   "cell_type": "code",
   "execution_count": 45,
   "metadata": {
    "deletable": false,
    "editable": false,
    "nbgrader": {
     "cell_type": "code",
     "checksum": "e40be645140389c115849856145f5b59",
     "grade": true,
     "grade_id": "cell-958cdcf6fd6899b7",
     "locked": true,
     "points": 3,
     "schema_version": 3,
     "solution": false,
     "task": false
    }
   },
   "outputs": [],
   "source": [
    "#### Please do not change this. This cell is used for grading."
   ]
  },
  {
   "cell_type": "code",
   "execution_count": 46,
   "metadata": {
    "deletable": false,
    "editable": false,
    "nbgrader": {
     "cell_type": "code",
     "checksum": "41d4aff001df17e7963ba79b45810b30",
     "grade": true,
     "grade_id": "cell-384dc23a0c251f6e",
     "locked": true,
     "points": 4,
     "schema_version": 3,
     "solution": false,
     "task": false
    }
   },
   "outputs": [],
   "source": [
    "#### Please do not change this. This cell is used for grading."
   ]
  },
  {
   "cell_type": "code",
   "execution_count": 47,
   "metadata": {
    "deletable": false,
    "editable": false,
    "nbgrader": {
     "cell_type": "code",
     "checksum": "893e8c5a073abc8ebb763d267b91bc02",
     "grade": true,
     "grade_id": "cell-7218966cba5097cc",
     "locked": true,
     "points": 4,
     "schema_version": 3,
     "solution": false,
     "task": false
    }
   },
   "outputs": [],
   "source": [
    "#### Please do not change this. This cell is used for grading."
   ]
  },
  {
   "cell_type": "code",
   "execution_count": 48,
   "metadata": {
    "deletable": false,
    "editable": false,
    "nbgrader": {
     "cell_type": "code",
     "checksum": "f99cb6f8b1f5830aaed8f06712ff846e",
     "grade": true,
     "grade_id": "cell-481ab073259ae53f",
     "locked": true,
     "points": 5,
     "schema_version": 3,
     "solution": false,
     "task": false
    }
   },
   "outputs": [],
   "source": [
    "#### Please do not change this. This cell is used for grading."
   ]
  },
  {
   "cell_type": "markdown",
   "metadata": {
    "deletable": false,
    "editable": false,
    "nbgrader": {
     "cell_type": "markdown",
     "checksum": "c02f14705d679579b1aa9f78f54779d5",
     "grade": false,
     "grade_id": "cell-f44088bfdac1dc90",
     "locked": true,
     "schema_version": 3,
     "solution": false,
     "task": false
    }
   },
   "source": [
    "--- \n",
    "\n",
    "### Section 3.4: BM25 (20 points) <a class=\"anchor\" id=\"bm25\"></a>\n",
    "\n",
    "In this section, we will implement the BM25 scoring function. \n"
   ]
  },
  {
   "cell_type": "code",
   "execution_count": 49,
   "metadata": {
    "deletable": false,
    "nbgrader": {
     "cell_type": "code",
     "checksum": "e57efe06ea92af1c83784a42eb3d86e0",
     "grade": false,
     "grade_id": "cell-15640fc9b5d00a3c",
     "locked": false,
     "schema_version": 3,
     "solution": true,
     "task": false
    }
   },
   "outputs": [],
   "source": [
    "# TODO: Implement this! (20 points)\n",
    "def bm25_search(query, index_set):\n",
    "    \"\"\"\n",
    "    Perform a search over all documents with the given query using BM25.\n",
    "    Use k_1 = 1.5 and b = 0.75\n",
    "    Note #1: You have to use the `get_index` (and `get_doc_lengths`) function\n",
    "    created in the previous cells\n",
    "    Note #2: You might have to create some variables beforehand\n",
    "    and use them in this function\n",
    "    Input:\n",
    "        query - a (unprocessed) query\n",
    "        index_set - the index to use\n",
    "    Output: a list of (document_id, score), sorted in descending\n",
    "        relevance to the given query\n",
    "    \"\"\"\n",
    "\n",
    "    index = get_index(index_set)\n",
    "    df = get_df(index_set)\n",
    "    doc_lengths = get_doc_lengths(index_set)\n",
    "    processed_query = preprocess_query(query, index_set)\n",
    "\n",
    "    # YOUR CODE HERE\n",
    "    # hard coded values\n",
    "    k_1 = 1.5\n",
    "    b = 0.75\n",
    "    # initialize our result\n",
    "    documents = defaultdict(float)\n",
    "    # average doc length and number of docs\n",
    "    ave_dl = np.mean([value for _key, value in doc_lengths.items()])\n",
    "    N = len(docs)\n",
    "    for token in processed_query:\n",
    "        for document_id, token_count in index[token]:\n",
    "            idf = np.log(N / df[token])\n",
    "            second_term = (token_count * (k_1 + 1)) / (\n",
    "                token_count + k_1 * (1 - b + b * (doc_lengths[document_id] / ave_dl))\n",
    "            )\n",
    "            documents[document_id] += idf * second_term\n",
    "    # convert documents to list and sort descending\n",
    "    documents = sorted(list(documents.items()), key=lambda x: x[1], reverse=True)\n",
    "    return documents"
   ]
  },
  {
   "cell_type": "code",
   "execution_count": 50,
   "metadata": {
    "deletable": false,
    "editable": false,
    "nbgrader": {
     "cell_type": "code",
     "checksum": "4be9de5d4e94637960d83725422bea6c",
     "grade": true,
     "grade_id": "cell-d10536bca72c74b1",
     "locked": true,
     "points": 3,
     "schema_version": 3,
     "solution": false,
     "task": false
    }
   },
   "outputs": [
    {
     "name": "stdout",
     "output_type": "stream",
     "text": [
      "Rank 0(6.7): A Report Writer For COBOL...\n",
      "Rank 1(6.7): A CRT Report Generating System...\n",
      "Rank 2(6.6): Preliminary Report-International Algebraic Languag...\n",
      "Rank 3(6.6): Supplement to the ALGOL 60 Report...\n",
      "Rank 4(6.5): ALGOL Sub-Committee Report - Extensions...\n"
     ]
    }
   ],
   "source": [
    "#### Function check\n",
    "test_bm25_results = bm25_search(\"report\", index_set=1)[:5]\n",
    "print_results(test_bm25_results)\n",
    "####"
   ]
  },
  {
   "cell_type": "code",
   "execution_count": 51,
   "metadata": {
    "deletable": false,
    "editable": false,
    "nbgrader": {
     "cell_type": "code",
     "checksum": "31b550d6a46ae4f8ede88788799ac2b9",
     "grade": true,
     "grade_id": "cell-60f6ec5052712d79",
     "locked": true,
     "points": 5,
     "schema_version": 3,
     "solution": false,
     "task": false
    }
   },
   "outputs": [],
   "source": [
    "#### Please do not change this. This cell is used for grading."
   ]
  },
  {
   "cell_type": "code",
   "execution_count": 52,
   "metadata": {
    "deletable": false,
    "editable": false,
    "nbgrader": {
     "cell_type": "code",
     "checksum": "3da2ec16bfe781916e71755d65aa2983",
     "grade": true,
     "grade_id": "cell-5d17524043a5abcc",
     "locked": true,
     "points": 5,
     "schema_version": 3,
     "solution": false,
     "task": false
    }
   },
   "outputs": [],
   "source": [
    "#### Please do not change this. This cell is used for grading."
   ]
  },
  {
   "cell_type": "code",
   "execution_count": 53,
   "metadata": {
    "deletable": false,
    "editable": false,
    "nbgrader": {
     "cell_type": "code",
     "checksum": "e7b563d54fa84c20909c0ae107010541",
     "grade": true,
     "grade_id": "cell-ff8e704eda1184e3",
     "locked": true,
     "points": 3,
     "schema_version": 3,
     "solution": false,
     "task": false
    }
   },
   "outputs": [],
   "source": [
    "#### Please do not change this. This cell is used for grading."
   ]
  },
  {
   "cell_type": "code",
   "execution_count": 54,
   "metadata": {
    "deletable": false,
    "editable": false,
    "nbgrader": {
     "cell_type": "code",
     "checksum": "b013f90974b396630a8831d6f1d7e5f7",
     "grade": true,
     "grade_id": "cell-a52310500a2543cb",
     "locked": true,
     "points": 4,
     "schema_version": 3,
     "solution": false,
     "task": false
    }
   },
   "outputs": [],
   "source": [
    "#### Please do not change this. This cell is used for grading."
   ]
  },
  {
   "cell_type": "markdown",
   "metadata": {
    "deletable": false,
    "editable": false,
    "nbgrader": {
     "cell_type": "markdown",
     "checksum": "8fcf67cb7d5e8b26cb9bf1f0aa42c847",
     "grade": false,
     "grade_id": "cell-8b2b412c81d62f2d",
     "locked": true,
     "schema_version": 3,
     "solution": false,
     "task": false
    }
   },
   "source": [
    "\n",
    "---\n",
    "\n",
    "### 3.5. Test Your Functions\n",
    "\n",
    "The widget below allows you to play with the search functions you've written so far. Use this to test your search functions and ensure that they work as expected."
   ]
  },
  {
   "cell_type": "code",
   "execution_count": 55,
   "metadata": {
    "deletable": false,
    "editable": false,
    "nbgrader": {
     "cell_type": "code",
     "checksum": "dfeb204b390acc0794dbdcac92b0cf2c",
     "grade": false,
     "grade_id": "cell-c9c2bb76354e8d97",
     "locked": true,
     "schema_version": 3,
     "solution": false,
     "task": false
    }
   },
   "outputs": [],
   "source": [
    "#### Highlighter function\n",
    "# class for results\n",
    "ResultRow = namedtuple(\"ResultRow\", [\"doc_id\", \"snippet\", \"score\"])\n",
    "# doc_id -> doc\n",
    "docs_by_id = dict((d[0], d[1]) for d in docs)\n",
    "\n",
    "def highlight_text(document, query, tol=17):\n",
    "    import re\n",
    "    tokens = tokenize(query)\n",
    "    regex = \"|\".join(f\"(\\\\b{t}\\\\b)\" for t in tokens)\n",
    "    regex = re.compile(regex, flags=re.IGNORECASE)\n",
    "    output = \"\"\n",
    "    i = 0\n",
    "    for m in regex.finditer(document):\n",
    "        start_idx = max(0, m.start() - tol)\n",
    "        end_idx = min(len(document), m.end() + tol)\n",
    "        output += \"\".join([\"...\",\n",
    "                        document[start_idx:m.start()],\n",
    "                        \"<strong>\",\n",
    "                        document[m.start():m.end()],\n",
    "                        \"</strong>\",\n",
    "                        document[m.end():end_idx],\n",
    "                        \"...\"])\n",
    "    return output.replace(\"\\n\", \" \")\n",
    "\n",
    "\n",
    "def make_results(query, search_fn, index_set):\n",
    "    results = []\n",
    "    for doc_id, score in search_fn(query, index_set):\n",
    "        highlight = highlight_text(docs_by_id[doc_id], query)\n",
    "        if len(highlight.strip()) == 0:\n",
    "            highlight = docs_by_id[doc_id]\n",
    "        results.append(ResultRow(doc_id, highlight, score))\n",
    "    return results\n",
    "####"
   ]
  },
  {
   "cell_type": "code",
   "execution_count": 56,
   "metadata": {},
   "outputs": [
    {
     "data": {
      "application/vnd.jupyter.widget-view+json": {
       "model_id": "40d2c74ecdd44ad2a625a46a05ea4844",
       "version_major": 2,
       "version_minor": 0
      },
      "text/plain": [
       "Text(value='', description='Search Bar')"
      ]
     },
     "metadata": {},
     "output_type": "display_data"
    }
   ],
   "source": [
    "# TODO: Set this to the function you want to test!\n",
    "# this function should take in a query (string)\n",
    "# and return a sorted list of (doc_id, score) \n",
    "# with the most relevant document in the first position\n",
    "search_fn = bm25_search\n",
    "index_set = 1\n",
    "\n",
    "text = widgets.Text(description=\"Search Bar\", width=200)\n",
    "display(text)\n",
    "\n",
    "def handle_submit(sender):\n",
    "    print(f\"Searching for: '{sender.value}'\")\n",
    "    \n",
    "    results = make_results(sender.value, search_fn, index_set)\n",
    "    \n",
    "    # display only the top 5\n",
    "    results = results[:5]\n",
    "    \n",
    "    body = \"\"\n",
    "    for idx, r in enumerate(results):\n",
    "        body += f\"<li>Document #{r.doc_id}({r.score}): {r.snippet}</li>\"\n",
    "    display(HTML(f\"<ul>{body}</ul>\"))\n",
    "    \n",
    "\n",
    "text.on_submit(handle_submit)"
   ]
  },
  {
   "cell_type": "markdown",
   "metadata": {
    "deletable": false,
    "editable": false,
    "nbgrader": {
     "cell_type": "markdown",
     "checksum": "019b1ff878dc6339dd068e2d48d19904",
     "grade": false,
     "grade_id": "cell-8d46fe8e4f3d8cdb",
     "locked": true,
     "schema_version": 3,
     "solution": false,
     "task": false
    }
   },
   "source": [
    "---\n",
    "\n",
    "## Section 4: Evaluation (40 points) <a class=\"anchor\" id=\"evaluation\"></a>\n",
    "\n",
    "[Back to Part 1](#part1)\n",
    "\n",
    "In order to analyze the effectiveness of retrieval algorithms, we first have to learn how to evaluate such a system. In particular, we will work with offline evaluation metrics. These metrics are computed on a dataset with known relevance judgements.\n",
    "\n",
    "Implement the following evaluation metrics. \n",
    "\n",
    "1. Precision (7 points)\n",
    "2. Recall (7 points)\n",
    "3. Mean Average Precision (13 points)\n",
    "4. Expected Reciprocal Rank (13 points)"
   ]
  },
  {
   "cell_type": "markdown",
   "metadata": {
    "deletable": false,
    "editable": false,
    "nbgrader": {
     "cell_type": "markdown",
     "checksum": "e46f54c7f81d88bbc950b0fae14c4ca5",
     "grade": false,
     "grade_id": "cell-3419fd3bc663d7cc",
     "locked": true,
     "schema_version": 3,
     "solution": false,
     "task": false
    }
   },
   "source": [
    "---\n",
    "### 4.1 Read relevance labels\n",
    "\n",
    "Let's take a look at the `qrels.text` file, which contains the ground truth relevance scores. The relevance labels for CACM are binary - either 0 or 1. \n"
   ]
  },
  {
   "cell_type": "code",
   "execution_count": 57,
   "metadata": {
    "deletable": false,
    "editable": false,
    "nbgrader": {
     "cell_type": "code",
     "checksum": "6c11025f5a222796f2882c73c1634799",
     "grade": false,
     "grade_id": "cell-6b738366059dde9e",
     "locked": true,
     "schema_version": 3,
     "solution": false,
     "task": false
    }
   },
   "outputs": [
    {
     "name": "stdout",
     "output_type": "stream",
     "text": [
      "01 1410  0 0\n",
      "01 1572  0 0\n",
      "01 1605  0 0\n",
      "01 2020  0 0\n",
      "01 2358  0 0\n",
      "02 2434  0 0\n",
      "02 2863  0 0\n",
      "02 3078  0 0\n",
      "03 1134  0 0\n",
      "03 1613  0 0\n"
     ]
    }
   ],
   "source": [
    "!head ./datasets/qrels.text"
   ]
  },
  {
   "cell_type": "markdown",
   "metadata": {
    "deletable": false,
    "editable": false,
    "nbgrader": {
     "cell_type": "markdown",
     "checksum": "7ce95245c1597183320d7254afde5c8e",
     "grade": false,
     "grade_id": "cell-10e16bff2753ffbb",
     "locked": true,
     "schema_version": 3,
     "solution": false,
     "task": false
    }
   },
   "source": [
    "---\n",
    "\n",
    "The first column is the query_id and the second column is the document_id. We can safely ignore the 3rd and 4th columns."
   ]
  },
  {
   "cell_type": "code",
   "execution_count": 58,
   "metadata": {
    "deletable": false,
    "nbgrader": {
     "cell_type": "code",
     "checksum": "000c6d59dce08dba0ba1e8d691dbbc2e",
     "grade": false,
     "grade_id": "cell-ee5253a4ef602fce",
     "locked": false,
     "schema_version": 3,
     "solution": true,
     "task": false
    }
   },
   "outputs": [],
   "source": [
    "# YOUR CODE HERE\n",
    "# https://piazza.com/class/kyiksrdfk0b6te?cid=40_f1\n",
    "def read_qrels(root_folder=\"./datasets/\"):\n",
    "    \"\"\"\n",
    "    Reads the qrels.text file.\n",
    "    Output: A dictionary: query_id -> [list of relevant documents]\n",
    "    \"\"\"\n",
    "    with open(os.path.join(root_folder, \"qrels.text\")) as reader:\n",
    "        lines = reader.readlines()\n",
    "\n",
    "    from collections import defaultdict\n",
    "\n",
    "    relevant_docs = defaultdict(set)\n",
    "    for line in lines:\n",
    "        query_id, doc_id, _, _ = line.split()\n",
    "        relevant_docs[str(int(query_id))].add(doc_id)\n",
    "    return relevant_docs"
   ]
  },
  {
   "cell_type": "code",
   "execution_count": 59,
   "metadata": {
    "deletable": false,
    "editable": false,
    "nbgrader": {
     "cell_type": "code",
     "checksum": "d60caeba85c2a97d2211184a5ae91fd1",
     "grade": false,
     "grade_id": "cell-72215605fbe24f65",
     "locked": true,
     "schema_version": 3,
     "solution": false,
     "task": false
    }
   },
   "outputs": [],
   "source": [
    "#### Function check\n",
    "qrels = read_qrels()\n",
    "\n",
    "assert len(qrels) == 52, \"There should be 52 queries with relevance judgements\"\n",
    "assert sum(len(j) for j in qrels.values()) == 796, \"There should be a total of 796 Relevance Judgements\"\n",
    "\n",
    "assert np.min(np.array([len(j) for j in qrels.values()])) == 1\n",
    "assert np.max(np.array([len(j) for j in qrels.values()])) == 51\n",
    "\n",
    "####"
   ]
  },
  {
   "cell_type": "markdown",
   "metadata": {
    "deletable": false,
    "editable": false,
    "nbgrader": {
     "cell_type": "markdown",
     "checksum": "6c9e7428a52e291a2cdf92a379730d4c",
     "grade": false,
     "grade_id": "cell-176a6fb2939d0420",
     "locked": true,
     "schema_version": 3,
     "solution": false,
     "task": false
    }
   },
   "source": [
    "---\n",
    "**Note:** For a given query `query_id`, you can assume that documents *not* in `qrels[query_id]` are not relevant to `query_id`. \n"
   ]
  },
  {
   "cell_type": "markdown",
   "metadata": {
    "deletable": false,
    "editable": false,
    "nbgrader": {
     "cell_type": "markdown",
     "checksum": "b26a818c7b4f7ad490e00b35ea0edd69",
     "grade": false,
     "grade_id": "cell-bd8341b72cdd89bb",
     "locked": true,
     "schema_version": 3,
     "solution": false,
     "task": false
    }
   },
   "source": [
    "---\n",
    "### 4.2 Precision (7 points)\n",
    "Implement the `precision@k` metric:"
   ]
  },
  {
   "cell_type": "code",
   "execution_count": 60,
   "metadata": {
    "deletable": false,
    "nbgrader": {
     "cell_type": "code",
     "checksum": "43dea1979ebdec24ffcfeff71c670433",
     "grade": false,
     "grade_id": "cell-494bd0cce108ed67",
     "locked": false,
     "schema_version": 3,
     "solution": true,
     "task": false
    }
   },
   "outputs": [],
   "source": [
    "# TODO: Implement this! (7 points)\n",
    "def precision_k(results, relevant_docs, k):\n",
    "    \"\"\"\n",
    "    Compute Precision@K\n",
    "    Input:\n",
    "        results: A sorted list of 2-tuples (document_id, score),\n",
    "                with the most relevant document in the first position\n",
    "        relevant_docs: A set of relevant documents.\n",
    "        k: the cut-off\n",
    "    Output: Precision@K\n",
    "    \"\"\"\n",
    "    if k > len(results):\n",
    "        k = len(results)\n",
    "    # YOUR CODE HERE\n",
    "    return np.mean([doc_id in relevant_docs for doc_id, _score in results[:k]])"
   ]
  },
  {
   "cell_type": "code",
   "execution_count": 61,
   "metadata": {
    "deletable": false,
    "editable": false,
    "nbgrader": {
     "cell_type": "code",
     "checksum": "9222e35582b1840ffb60fd02fb0b60c3",
     "grade": true,
     "grade_id": "cell-e7ff0d91c319ca64",
     "locked": true,
     "points": 7,
     "schema_version": 3,
     "solution": false,
     "task": false
    }
   },
   "outputs": [
    {
     "name": "stdout",
     "output_type": "stream",
     "text": [
      "query: What articles exist which deal with TSS (Time Sharing System), an\n",
      "operating system for IBM computers?\n",
      "precision@10 = 0.2\n"
     ]
    }
   ],
   "source": [
    "\n",
    "#### Function check\n",
    "qid = queries[0][0]\n",
    "qtext = queries[0][1]\n",
    "print(f'query:{qtext}')\n",
    "results = bm25_search(qtext, 2)\n",
    "precision = precision_k(results, qrels[qid], 10)\n",
    "print(f'precision@10 = {precision}')\n",
    "####"
   ]
  },
  {
   "cell_type": "markdown",
   "metadata": {
    "deletable": false,
    "editable": false,
    "nbgrader": {
     "cell_type": "markdown",
     "checksum": "8fd3b3998197c7097a40348500affb68",
     "grade": false,
     "grade_id": "cell-afd95f865bc7191e",
     "locked": true,
     "schema_version": 3,
     "solution": false,
     "task": false
    }
   },
   "source": [
    "---\n",
    "### 4.3 Recall (7 points)\n",
    "Implement the `recall@k` metric:"
   ]
  },
  {
   "cell_type": "code",
   "execution_count": 62,
   "metadata": {
    "deletable": false,
    "nbgrader": {
     "cell_type": "code",
     "checksum": "b2020e5741ae03b3fe35817ed8f4ccaa",
     "grade": false,
     "grade_id": "cell-c323fc8c3f8a7cf8",
     "locked": false,
     "schema_version": 3,
     "solution": true,
     "task": false
    }
   },
   "outputs": [],
   "source": [
    "# TODO: Implement this! (7 points)\n",
    "def recall_k(results, relevant_docs, k):\n",
    "    \"\"\"\n",
    "    Compute Recall@K\n",
    "    Input:\n",
    "        results: A sorted list of 2-tuples (document_id, score),\n",
    "            with the most relevant document in the first position\n",
    "        relevant_docs: A set of relevant documents.\n",
    "        k: the cut-off\n",
    "    Output: Recall@K\n",
    "    \"\"\"\n",
    "    # YOUR CODE HERE\n",
    "    tp = 0.0\n",
    "    fn = 0.0\n",
    "    for i, (doc_id, _score) in enumerate(results, 1):\n",
    "        if doc_id in relevant_docs:\n",
    "            if i <= k:\n",
    "                tp += 1\n",
    "            else:\n",
    "                fn += 1\n",
    "    try:\n",
    "        return tp / (tp + fn)\n",
    "    except ZeroDivisionError:\n",
    "        return 0.0"
   ]
  },
  {
   "cell_type": "code",
   "execution_count": 63,
   "metadata": {
    "deletable": false,
    "editable": false,
    "nbgrader": {
     "cell_type": "code",
     "checksum": "56b6e0b8522f8b2dffbfb3206b2efa84",
     "grade": true,
     "grade_id": "cell-b25172161aef165c",
     "locked": true,
     "points": 7,
     "schema_version": 3,
     "solution": false,
     "task": false
    }
   },
   "outputs": [
    {
     "name": "stdout",
     "output_type": "stream",
     "text": [
      "query: SETL, Very High Level Languages\n",
      "recall@10 = 0.3157894736842105\n"
     ]
    }
   ],
   "source": [
    "#### Function check\n",
    "qid = queries[10][0]\n",
    "qtext = queries[10][1]\n",
    "print(f'query:{qtext}')\n",
    "results = bm25_search(qtext, 2)\n",
    "recall = recall_k(results, qrels[qid], 10)\n",
    "print(f'recall@10 = {recall}')\n",
    "####"
   ]
  },
  {
   "cell_type": "markdown",
   "metadata": {
    "deletable": false,
    "editable": false,
    "nbgrader": {
     "cell_type": "markdown",
     "checksum": "b3d3c7bd1cd977cd07ef5df7d3fbf159",
     "grade": false,
     "grade_id": "cell-77fd2e7a39a74739",
     "locked": true,
     "schema_version": 3,
     "solution": false,
     "task": false
    }
   },
   "source": [
    "---\n",
    "### 4.4 Mean Average Precision (13 points)\n",
    "Implement the `map` metric:"
   ]
  },
  {
   "cell_type": "code",
   "execution_count": 64,
   "metadata": {
    "deletable": false,
    "nbgrader": {
     "cell_type": "code",
     "checksum": "aae2c62f2ffd76f5b6c004e9519b9f14",
     "grade": false,
     "grade_id": "cell-e50925fa9093a30d",
     "locked": false,
     "schema_version": 3,
     "solution": true,
     "task": false
    }
   },
   "outputs": [],
   "source": [
    "# TODO: Implement this! (12 points)\n",
    "def average_precision(results, relevant_docs):\n",
    "    \"\"\"\n",
    "    Compute Average Precision (for a single query - the results are\n",
    "    averaged across queries to get MAP in the next few cells)\n",
    "    Hint: You can use the recall_k and precision_k functions here!\n",
    "    Input:\n",
    "        results: A sorted list of 2-tuples (document_id, score), with the most\n",
    "                relevant document in the first position\n",
    "        relevant_docs: A set of relevant documents.\n",
    "    Output: Average Precision\n",
    "    \"\"\"\n",
    "    n_rel_docs = len(relevant_docs)\n",
    "    n_true_pos = 0\n",
    "    \n",
    "    precisions = np.zeros(n_rel_docs)\n",
    "    N = len(results)\n",
    "    for k, (doc_id, _score) in enumerate(results, 1):\n",
    "        if n_true_pos == n_rel_docs:\n",
    "            # we can stop early because we found all the relevant docs\n",
    "            break\n",
    "        if doc_id in relevant_docs:\n",
    "            precisions[n_true_pos] = precision_k(results, relevant_docs, k)\n",
    "            n_true_pos += 1\n",
    "    # compute the average precision\n",
    "    return np.mean(precisions)"
   ]
  },
  {
   "cell_type": "code",
   "execution_count": 65,
   "metadata": {
    "deletable": false,
    "editable": false,
    "nbgrader": {
     "cell_type": "code",
     "checksum": "3b00e147c2fa146fa59f179b7c9cab75",
     "grade": true,
     "grade_id": "cell-8a1f7ec98571e58b",
     "locked": true,
     "points": 13,
     "schema_version": 3,
     "solution": false,
     "task": false
    }
   },
   "outputs": [
    {
     "name": "stdout",
     "output_type": "stream",
     "text": [
      "query: computational complexity, intractability, class-complete reductions,\n",
      "algorithms and efficiency\n",
      "MAP = 0.1724040411055945\n"
     ]
    }
   ],
   "source": [
    "#### Function check\n",
    "qid = queries[20][0]\n",
    "qtext = queries[20][1]\n",
    "print(f'query:{qtext}')\n",
    "results = bm25_search(qtext, 2)\n",
    "mean_ap = average_precision(results, qrels[qid])\n",
    "print(f'MAP = {mean_ap}')\n",
    "####"
   ]
  },
  {
   "cell_type": "markdown",
   "metadata": {
    "deletable": false,
    "editable": false,
    "nbgrader": {
     "cell_type": "markdown",
     "checksum": "36f85f45ef52d9467ba9a717d6d99ff2",
     "grade": false,
     "grade_id": "cell-1da18f0fe6f6d7be",
     "locked": true,
     "schema_version": 3,
     "solution": false,
     "task": false
    }
   },
   "source": [
    "---\n",
    "### 4.5 Expected Reciprocal Rank (13 points)\n",
    "Implement the `err` metric:"
   ]
  },
  {
   "cell_type": "code",
   "execution_count": 66,
   "metadata": {
    "deletable": false,
    "nbgrader": {
     "cell_type": "code",
     "checksum": "9ac94db728e23ea1f5dc0d509473c6fb",
     "grade": false,
     "grade_id": "cell-64262889f9b267ea",
     "locked": false,
     "schema_version": 3,
     "solution": true,
     "task": false
    }
   },
   "outputs": [],
   "source": [
    "# TODO: Implement this! (12 points)\n",
    "def err(results, relevant_docs):\n",
    "    \"\"\"\n",
    "    Compute the expected reciprocal rank.\n",
    "    Hint: https://dl.acm.org/doi/pdf/10.1145/1645953.1646033?download=true\n",
    "    Input:\n",
    "        results: A sorted list of 2-tuples (document_id, score), with the most\n",
    "            relevant document in the first position\n",
    "        relevant_docs: A set of relevant documents.\n",
    "    Output: ERR (float)\n",
    "\n",
    "    \"\"\"\n",
    "    # YOUR CODE HERE\n",
    "    exp_rec_rank = 0\n",
    "    p = 1\n",
    "    for rank, (doc_id, score) in enumerate(results, 1):\n",
    "        grade = 1 if doc_id in relevant_docs else 0\n",
    "        relevance_prob = (2**grade - 1) / 2\n",
    "        exp_rec_rank += p * (relevance_prob / rank)\n",
    "        p *= 1 - relevance_prob\n",
    "    return exp_rec_rank"
   ]
  },
  {
   "cell_type": "code",
   "execution_count": 67,
   "metadata": {
    "deletable": false,
    "editable": false,
    "nbgrader": {
     "cell_type": "code",
     "checksum": "b7d201de0990b69d5f38704668665d87",
     "grade": true,
     "grade_id": "cell-071e3970ff1afae4",
     "locked": true,
     "points": 13,
     "schema_version": 3,
     "solution": false,
     "task": false
    }
   },
   "outputs": [
    {
     "name": "stdout",
     "output_type": "stream",
     "text": [
      "query: I'd like to find articles describing the use of singular value decomposition\n",
      "in digital image processing.  Applications include finding approximations\n",
      "to the original image and restoring images that are subject to noise. An\n",
      "article on the subject is H.C. Andrews and C.L. Patterson \"Outer product\n",
      "expansions and their uses in digital image processing\", American Mathematical\n",
      "Monthly, vol. 82.\n",
      "ERR = 0.625\n"
     ]
    }
   ],
   "source": [
    "#### Function check\n",
    "qid = queries[30][0]\n",
    "qtext = queries[30][1]\n",
    "print(f'query:{qtext}')\n",
    "results = bm25_search(qtext, 2)\n",
    "ERR = err(results, qrels[qid])\n",
    "print(f'ERR = {ERR}')\n",
    "####"
   ]
  },
  {
   "cell_type": "markdown",
   "metadata": {
    "deletable": false,
    "editable": false,
    "nbgrader": {
     "cell_type": "markdown",
     "checksum": "5bd94caf77cfa5f34675df758d91002d",
     "grade": false,
     "grade_id": "cell-43709a765f353946",
     "locked": true,
     "schema_version": 3,
     "solution": false,
     "task": false
    }
   },
   "source": [
    "---\n",
    "### 4.6 Evaluate Search Functions\n",
    "\n",
    "Let's define some metrics@k using [partial functions](https://docs.python.org/3/library/functools.html#functools.partial)"
   ]
  },
  {
   "cell_type": "code",
   "execution_count": 68,
   "metadata": {
    "deletable": false,
    "editable": false,
    "nbgrader": {
     "cell_type": "code",
     "checksum": "49ccc158e5fb7340ace55e90eeb9d62a",
     "grade": false,
     "grade_id": "cell-dab560e18e340da8",
     "locked": true,
     "schema_version": 3,
     "solution": false,
     "task": false
    }
   },
   "outputs": [],
   "source": [
    "#### metrics@k functions\n",
    "\n",
    "recall_at_1 = partial(recall_k, k=1)\n",
    "recall_at_5 = partial(recall_k, k=5)\n",
    "recall_at_10 = partial(recall_k, k=10)\n",
    "precision_at_1 = partial(precision_k, k=1)\n",
    "precision_at_5 = partial(precision_k, k=5)\n",
    "precision_at_10 = partial(precision_k, k=10)\n",
    "\n",
    "\n",
    "list_of_metrics = [\n",
    "    (\"ERR\", err),\n",
    "    (\"MAP\", average_precision),\n",
    "    (\"Recall@1\",recall_at_1),\n",
    "    (\"Recall@5\", recall_at_5),\n",
    "    (\"Recall@10\", recall_at_10),\n",
    "    (\"Precision@1\", precision_at_1),\n",
    "    (\"Precision@5\", precision_at_5),\n",
    "    (\"Precision@10\", precision_at_10)]\n",
    "####"
   ]
  },
  {
   "cell_type": "markdown",
   "metadata": {
    "deletable": false,
    "editable": false,
    "nbgrader": {
     "cell_type": "markdown",
     "checksum": "fb541002c03221b453b8936290020ea5",
     "grade": false,
     "grade_id": "cell-580a2bdc66d03b47",
     "locked": true,
     "schema_version": 3,
     "solution": false,
     "task": false
    }
   },
   "source": [
    "---\n",
    "\n",
    "The following function evaluates a `search_fn` using the `metric_fn`. Note that the final number is averaged over all the queries"
   ]
  },
  {
   "cell_type": "code",
   "execution_count": 69,
   "metadata": {},
   "outputs": [],
   "source": [
    "#### Evaluate a search function\n",
    "\n",
    "list_of_search_fns = [\n",
    "    (\"BOW\", bow_search),\n",
    "    (\"TF-IDF\", tfidf_search),\n",
    "    (\"NaiveQL\", naive_ql_search),\n",
    "    (\"QL\", ql_search),\n",
    "    (\"BM25\", bm25_search)\n",
    "]\n",
    "\n",
    "def evaluate_search_fn(search_fn, metric_fns, index_set=None):\n",
    "    # build a dict query_id -> query \n",
    "    queries_by_id = dict((q[0], q[1]) for q in queries)\n",
    "    \n",
    "    metrics = {}\n",
    "    for metric, metric_fn in metric_fns:\n",
    "        metrics[metric] = np.zeros(len(qrels), dtype=np.float32)\n",
    "    \n",
    "    for i, (query_id, relevant_docs) in enumerate(qrels.items()):\n",
    "        query = queries_by_id[query_id]\n",
    "        if index_set:\n",
    "            results = search_fn(query, index_set)\n",
    "        else:\n",
    "            results = search_fn(query)\n",
    "        \n",
    "        for metric, metric_fn in metric_fns:\n",
    "            metrics[metric][i] = metric_fn(results, relevant_docs)\n",
    "\n",
    "    \n",
    "    \n",
    "    final_dict = {}\n",
    "    for metric, metric_vals in metrics.items():\n",
    "        final_dict[metric] = metric_vals.mean()\n",
    "    \n",
    "    return final_dict\n",
    "####"
   ]
  },
  {
   "cell_type": "markdown",
   "metadata": {
    "deletable": false,
    "editable": false,
    "nbgrader": {
     "cell_type": "markdown",
     "checksum": "6ea67534f74a8f81e1f504794f641709",
     "grade": false,
     "grade_id": "cell-b156d83a0649cbb4",
     "locked": true,
     "schema_version": 3,
     "solution": false,
     "task": false
    }
   },
   "source": [
    "## Section 5: Analysis (30 points) <a class=\"anchor\" id=\"analysis\"></a>\n",
    "\n",
    "[Back to Part 1](#part1)\n",
    "\n",
    "In the final section of Part1, we will compare the different term-based IR algorithms and different preprocessing configurations and analyze their advantages and disadvantages.\n",
    "\n",
    "### Section 5.1: Plot (20 points)\n",
    "\n",
    "First, gather the results. The results should consider the index set, the different search functions and different metrics. Plot the results in bar charts, per metric, with clear labels.\n",
    "\n",
    "**Rubric:**\n",
    "- Each Metric is plotted: 7 points\n",
    "- Each Method is plotted: 7 points\n",
    "- Clear titles, x label, y labels and legends (if applicable): 6 points"
   ]
  },
  {
   "cell_type": "code",
   "execution_count": 70,
   "metadata": {
    "deletable": false,
    "nbgrader": {
     "cell_type": "code",
     "checksum": "7e2588a925d13ddf588abe8311dc9cfc",
     "grade": true,
     "grade_id": "cell-46fda42a25863a04",
     "locked": false,
     "points": 20,
     "schema_version": 3,
     "solution": true,
     "task": false
    }
   },
   "outputs": [
    {
     "name": "stdout",
     "output_type": "stream",
     "text": [
      "\n",
      "index set 1:\n",
      "\tBOW\n",
      "{'ERR': 0.055224963,\n",
      " 'MAP': 0.031061875,\n",
      " 'Precision@1': 0.03846154,\n",
      " 'Precision@10': 0.028846154,\n",
      " 'Precision@5': 0.034615386,\n",
      " 'Recall@1': 0.0030982906,\n",
      " 'Recall@10': 0.046087656,\n",
      " 'Recall@5': 0.037126765}\n",
      "\tTF-IDF\n",
      "{'ERR': 0.30517504,\n",
      " 'MAP': 0.17810398,\n",
      " 'Precision@1': 0.3846154,\n",
      " 'Precision@10': 0.17500001,\n",
      " 'Precision@5': 0.21153846,\n",
      " 'Recall@1': 0.07476607,\n",
      " 'Recall@10': 0.22000195,\n",
      " 'Recall@5': 0.1473746}\n",
      "\tNaiveQL\n",
      "{'ERR': 0.02187399,\n",
      " 'MAP': 0.007967688,\n",
      " 'Precision@1': 0.03846154,\n",
      " 'Precision@10': 0.0076923077,\n",
      " 'Precision@5': 0.015384615,\n",
      " 'Recall@1': 0.0037774725,\n",
      " 'Recall@10': 0.008585164,\n",
      " 'Recall@5': 0.008585164}\n",
      "\tQL\n",
      "{'ERR': 0.30951288,\n",
      " 'MAP': 0.16616207,\n",
      " 'Precision@1': 0.34615386,\n",
      " 'Precision@10': 0.19423078,\n",
      " 'Precision@5': 0.25384614,\n",
      " 'Recall@1': 0.046651527,\n",
      " 'Recall@10': 0.21684042,\n",
      " 'Recall@5': 0.17031717}\n",
      "\tBM25\n",
      "{'ERR': 0.37286478,\n",
      " 'MAP': 0.22088145,\n",
      " 'Precision@1': 0.44230768,\n",
      " 'Precision@10': 0.24038464,\n",
      " 'Precision@5': 0.2846154,\n",
      " 'Recall@1': 0.066907376,\n",
      " 'Recall@10': 0.30646548,\n",
      " 'Recall@5': 0.20312355}\n",
      "\n",
      "index set 2:\n",
      "\tBOW\n",
      "{'ERR': 0.11996831,\n",
      " 'MAP': 0.06623642,\n",
      " 'Precision@1': 0.07692308,\n",
      " 'Precision@10': 0.07307692,\n",
      " 'Precision@5': 0.080769226,\n",
      " 'Recall@1': 0.010193701,\n",
      " 'Recall@10': 0.08793031,\n",
      " 'Recall@5': 0.048788056}\n",
      "\tTF-IDF\n",
      "{'ERR': 0.4148428,\n",
      " 'MAP': 0.25480694,\n",
      " 'Precision@1': 0.53846157,\n",
      " 'Precision@10': 0.25,\n",
      " 'Precision@5': 0.33846155,\n",
      " 'Recall@1': 0.10014636,\n",
      " 'Recall@10': 0.29629084,\n",
      " 'Recall@5': 0.23532662}\n",
      "\tNaiveQL\n",
      "{'ERR': 0.06400872,\n",
      " 'MAP': 0.019428182,\n",
      " 'Precision@1': 0.115384616,\n",
      " 'Precision@10': 0.025000002,\n",
      " 'Precision@5': 0.042307694,\n",
      " 'Recall@1': 0.009656762,\n",
      " 'Recall@10': 0.022477273,\n",
      " 'Recall@5': 0.01766958}\n",
      "\tQL\n",
      "{'ERR': 0.40624025,\n",
      " 'MAP': 0.24890317,\n",
      " 'Precision@1': 0.5192308,\n",
      " 'Precision@10': 0.29807693,\n",
      " 'Precision@5': 0.3692308,\n",
      " 'Recall@1': 0.07068591,\n",
      " 'Recall@10': 0.3002048,\n",
      " 'Recall@5': 0.21136688}\n",
      "\tBM25\n",
      "{'ERR': 0.426171,\n",
      " 'MAP': 0.3003765,\n",
      " 'Precision@1': 0.5192308,\n",
      " 'Precision@10': 0.31923077,\n",
      " 'Precision@5': 0.40384614,\n",
      " 'Recall@1': 0.110182874,\n",
      " 'Recall@10': 0.34614927,\n",
      " 'Recall@5': 0.25962994}\n"
     ]
    },
    {
     "data": {
      "image/png": "[encoded data removed]",
      "text/plain": [
       "<Figure size 1008x504 with 8 Axes>"
      ]
     },
     "metadata": {
      "needs_background": "light"
     },
     "output_type": "display_data"
    }
   ],
   "source": [
    "# YOUR CODE HERE\n",
    "from pprint import pprint\n",
    "# takes roughly 30 secs to run\n",
    "fig, axes = plt.subplots(2, 4, figsize=(14, 7), sharey=False)\n",
    "axes = axes.flatten()\n",
    "\n",
    "# need this to make side by side bars\n",
    "N = len(list_of_search_fns)\n",
    "method_loc = np.arange(N)\n",
    "bar_width = 0.25\n",
    "\n",
    "for j, (index_set) in enumerate([1, 2]):\n",
    "    print(f\"\\nindex set {index_set}:\")\n",
    "    results = {}\n",
    "\n",
    "    for search_alg, search_fn in list_of_search_fns:\n",
    "        results[search_alg] = evaluate_search_fn(\n",
    "            search_fn, list_of_metrics, index_set=index_set\n",
    "        )\n",
    "        print(f\"\\t{search_alg}\")\n",
    "        pprint(results[search_alg])\n",
    "\n",
    "    for i, (metric_name, _metric_fn) in enumerate(list_of_metrics):\n",
    "        metric_results = {k: v[metric_name] for k, v in results.items()}\n",
    "        labels = list(metric_results.keys())\n",
    "        values = [metric_results[label] for label in labels]\n",
    "\n",
    "        axes[i].grid(True, which=\"major\", axis=\"y\", alpha=0.35)\n",
    "        if i % 4 == 0:\n",
    "            axes[i].set_ylabel(\"Average Metric Value\")\n",
    "        if j == 0:\n",
    "            axes[i].bar(method_loc, values, bar_width, label=f\"index set {index_set}\")\n",
    "        else:\n",
    "            axes[i].bar(\n",
    "                method_loc + bar_width,\n",
    "                values,\n",
    "                bar_width,\n",
    "                label=f\"index set {index_set}\",\n",
    "            )\n",
    "            axes[i].set_xticks(method_loc + bar_width / 2)\n",
    "            axes[i].set_xticklabels(labels)\n",
    "            axes[i].set_title(metric_name)\n",
    "            if i == 7:\n",
    "                axes[i].legend()\n",
    "\n",
    "fig.suptitle(\"Comparison of different term-based IR algorithms across various Metrics\")\n",
    "fig.tight_layout(rect=[0, 0.03, 1, 0.95])\n",
    "plt.show()"
   ]
  },
  {
   "cell_type": "markdown",
   "metadata": {
    "deletable": false,
    "editable": false,
    "nbgrader": {
     "cell_type": "markdown",
     "checksum": "e88c444a0acf4e398c65e289169b75f7",
     "grade": false,
     "grade_id": "cell-8aabe3bcf265deb0",
     "locked": true,
     "points": 10,
     "schema_version": 3,
     "solution": false,
     "task": true
    }
   },
   "source": [
    "---\n",
    "### Section 5.2: Summary (10 points)\n",
    "Write a summary of what you observe in the results.\n",
    "Your summary should compare results across the 2 indices and the methods being used. State what you expected to see in the results, followed by either supporting evidence *or* justify why the results did not support your expectations.      "
   ]
  },
  {
   "cell_type": "markdown",
   "metadata": {},
   "source": [
    "Regardless of the algorithm used results are universally better across all the metrics when using preprocessing - in particular stemming and stop-word removal. This is in line with expectations based on a large body of existing literature in the field of Information retrieval. A likely explanation for the better performance is that stemming collapses index size which increases the likelihood that a query term will be found in a document. Similarly stop word-removal allows models to focus on more relevant words and could be seen as a way of denoising the documents and queries in order to improve performance.\n",
    "\n",
    "In terms of performace it appears that both vector space and lexical models share similar performance across metrics so the choice of what model to use would be largely task dependent and determined by which metric we want to optimise for. For example TF-IDF has better Precision@1 compared to QL which makes it more suitable for tasks such as question answering where a user is looking for a specific highly relevant document but does not care about retrieving the entire body of relevant information. QL on the otherhand outperforms TF-IDF in Precision@5 and Precision@10 which would make it a more suitable choice for example for displaying the first page of results of a search engine.\n",
    "\n",
    "It is worth pointing out that the naive implementations of both vector space and lexical models - BOW and NaiveQL have very poor performance. In the case of BOW that is somewhat surprising because intuitively it seems reasonable to assume that counting the occurence of each query token in the target documents should provide some basic indication of relevance. We demonstrate empirically, however, that token count alone is a very poor prediction of a document's relevance to a query. The poor performance of NaiveQL on the other hand is not surprising given a common problem that naive language models suffer from - namely that unseen words result in zero probability causing the entire product of probabilities to be zero. This is a pervasive problem in NLP due to the sparsity of natural lanugage. For both vector space and lexical models are significantly improved by TF-IDF and QL respectively.\n",
    "\n",
    "Finally, we see that the empirically derived approach of BM25 is almost universally better than any of the other models with the notable exception of Precision@1 where TF-IDF is marginally better."
   ]
  },
  {
   "cell_type": "markdown",
   "metadata": {
    "deletable": false,
    "editable": false,
    "nbgrader": {
     "cell_type": "markdown",
     "checksum": "b3eb77be74eecca205fc7b47316d1627",
     "grade": false,
     "grade_id": "cell-bb60dd5c092d0f2e",
     "locked": true,
     "schema_version": 3,
     "solution": false,
     "task": false
    }
   },
   "source": [
    "---\n",
    "---\n",
    "# Part 2: Semantic-based Matching (85 points) <a class=\"anchor\" id=\"part2\"></a>\n",
    "\n",
    "[Back to top](#top)\n",
    "\n",
    "We will now experiment with methods that go beyond lexical methods like TF-IDF, which operate at the word level and are high dimensional and sparse, and look at methods which constructs low dimensional dense representations of queries and documents. \n",
    "\n",
    "Since these low-dimensional methods have a higher time complexity, they are typically used in conjunction with methods like BM-25. That is, instead of searching through potentially million documents to find matches using low dimensional vectors, a list of K documents are retrieved using BM25, and then **re-ranked** using the other method. This is the method that is going to be applied in the following exercises. \n",
    "\n",
    "LSI/LDA takes documents that are similar on a semantic level - for instance, if they are describing the same topic - and projects them into nearby vectors, despite having low lexical overlap.\n",
    "\n",
    "In this assignment, you will use `gensim` to create LSI/LDA models and use them in re-ranking. \n",
    "\n",
    "**Note**: The following exercises only uses `doc_repr_2` and `config_2`\n",
    "\n",
    "Table of contents:\n",
    "- [Section 6: LSI](#lsi) (15 points)\n",
    "- [Section 7: LDA](#lda) (10 points)\n",
    "- [Section 8: Word2Vec/Doc2Vec](#2vec) (20 points)\n",
    "- [Section 8: Re-ranking](#reranking) (10 points)\n",
    "- [Section 9: Re-ranking Evaluation](#reranking_eval) (30 points)"
   ]
  },
  {
   "cell_type": "markdown",
   "metadata": {
    "deletable": false,
    "editable": false,
    "nbgrader": {
     "cell_type": "markdown",
     "checksum": "f7c7b2cab82f576ed0acf836ca57171c",
     "grade": false,
     "grade_id": "cell-6b2c81e7a8abd180",
     "locked": true,
     "schema_version": 3,
     "solution": false,
     "task": false
    }
   },
   "source": [
    "---\n",
    "## Section 6: Latent Semantic Indexing (LSI) (15 points) <a class=\"anchor\" id=\"lsi\"></a>\n",
    "\n",
    "[Back to Part 2](#part2)\n",
    "\n",
    "LSI is one of the methods to embed the queries and documents into vectors. It is based on a method similar to Principal Component Analysis (PCA) for obtaining a dense concept matrix out of the sparse term-document matrix.\n",
    "\n",
    "See [wikipedia](https://en.wikipedia.org/wiki/Latent_semantic_analysis), particularly [#Mathematics_of_LSI](https://en.wikipedia.org/wiki/Latent_semantic_analysis#Mathematics_of_LSI)."
   ]
  },
  {
   "cell_type": "code",
   "execution_count": 71,
   "metadata": {
    "deletable": false,
    "editable": false,
    "nbgrader": {
     "cell_type": "code",
     "checksum": "c17ee75319cb517e2bf48ec3d9efc329",
     "grade": false,
     "grade_id": "cell-59913daee47f680d",
     "locked": true,
     "schema_version": 3,
     "solution": false,
     "task": false
    }
   },
   "outputs": [],
   "source": [
    "from gensim.corpora import Dictionary\n",
    "from gensim.models import LdaModel, LsiModel, Word2Vec\n",
    "from gensim.models.doc2vec import Doc2Vec, TaggedDocument\n",
    "from gensim import downloader as g_downloader\n",
    "# gensim uses logging, so set it up \n",
    "import logging\n",
    "logging.basicConfig(format='%(asctime)s : %(levelname)s : %(message)s', level=logging.INFO)"
   ]
  },
  {
   "cell_type": "markdown",
   "metadata": {
    "deletable": false,
    "editable": false,
    "nbgrader": {
     "cell_type": "markdown",
     "checksum": "5fce140c546759b54a9fc060901ae77c",
     "grade": false,
     "grade_id": "cell-3644faff4976598a",
     "locked": true,
     "schema_version": 3,
     "solution": false,
     "task": false
    }
   },
   "source": [
    "---\n",
    "### Section 6.1: Cosine Similarity (5 points)<a class=\"anchor\" id=\"cosing_sim\"></a>\n",
    "Before we begin, let us first define our method of similarity for the LSI model, the cosine similarity:\n",
    "\n",
    "$$\\text{similarity} = \\cos(\\theta) = {\\mathbf{A} \\cdot \\mathbf{B} \\over \\|\\mathbf{A}\\| \\|\\mathbf{B}\\|} = \\frac{ \\sum\\limits_{i=1}^{n}{A_i  B_i} }{ \\sqrt{\\sum\\limits_{i=1}^{n}{A_i^2}}  \\sqrt{\\sum\\limits_{i=1}^{n}{B_i^2}} }$$\n",
    "\n",
    "Since we are using gensim, the types of vectors returned by their classes are of the form defined below (they are not just simple vectors):"
   ]
  },
  {
   "cell_type": "code",
   "execution_count": 72,
   "metadata": {
    "deletable": false,
    "editable": false,
    "nbgrader": {
     "cell_type": "code",
     "checksum": "4e340e1a1d546f430c018fd0760e707a",
     "grade": false,
     "grade_id": "cell-3995a50f951314d5",
     "locked": true,
     "schema_version": 3,
     "solution": false,
     "task": false
    }
   },
   "outputs": [],
   "source": [
    "# 1, 2, 3 are either latent dimensions (LSI), or topics (LDA)\n",
    "# The second value in each tuple is a number (LSI) or a probability (LDA)  \n",
    "example_vec_1 = [(1, 0.2), (2, 0.3), (3, 0.4)]\n",
    "example_vec_2 = [(1, 0.2), (2, 0.7), (3, 0.4)]"
   ]
  },
  {
   "cell_type": "markdown",
   "metadata": {
    "deletable": false,
    "editable": false,
    "nbgrader": {
     "cell_type": "markdown",
     "checksum": "20832fd4f579f49ae204b0efee02edd1",
     "grade": false,
     "grade_id": "cell-5e54d581858dc8f7",
     "locked": true,
     "schema_version": 3,
     "solution": false,
     "task": false
    }
   },
   "source": [
    "---\n",
    "**Implementation (2+3 points):**\n",
    "Now, implement the `dot product` operation on these types of vectors and using this operator, implement the `cosine similarity` (don't forget: two functions to implement!):"
   ]
  },
  {
   "cell_type": "code",
   "execution_count": 73,
   "metadata": {
    "deletable": false,
    "nbgrader": {
     "cell_type": "code",
     "checksum": "06a712ee75fc213a21c5f0067fd8fe28",
     "grade": false,
     "grade_id": "cell-0e8189f5f93de33f",
     "locked": false,
     "schema_version": 3,
     "solution": true,
     "task": false
    }
   },
   "outputs": [],
   "source": [
    "# TODO: Implement this! (2 points)\n",
    "def dot(vec_1, vec_2):\n",
    "    \"\"\"\n",
    "    vec_1 and vec_2 are of the form: [(int, float), (int, float), ...]\n",
    "    Return the dot product of two such vectors, computed only on the floats\n",
    "    You can assume that the lengths of the vectors are the same, and the dimensions are aligned\n",
    "        i.e you won't get: vec_1 = [(1, 0.2)] ; vec_2 = [(2, 0.3)]\n",
    "                            (dimensions are unaligned and lengths are different)\n",
    "    \"\"\"\n",
    "    # YOUR CODE HERE\n",
    "    return np.dot([x[1] for x in vec_1], [y[1] for y in vec_2])\n",
    "\n",
    "\n",
    "# TODO: Implement this! (3 points)\n",
    "def cosine_sim(vec_1, vec_2):\n",
    "\n",
    "    # YOUR CODE HERE\n",
    "    # check for empty or 0-vectored vectors\n",
    "    if all([el == 0 for dim, el in vec_1]) or all([el == 0 for dim, el in vec_2]):\n",
    "        return 0\n",
    "    \n",
    "    # # Adding a custom function to compute the modulus\n",
    "    def mod(\n",
    "        vec,\n",
    "    ):\n",
    "        # Note: This still assumes that the vector is in the form :\n",
    "        # [(int, float), (int, float), ...]\n",
    "        return np.sqrt(sum(x[1] ** 2 for x in vec))\n",
    "    \n",
    "    # actually compute similarity\n",
    "    return dot(vec_1, vec_2) / (mod(vec_1) * mod(vec_2))"
   ]
  },
  {
   "cell_type": "code",
   "execution_count": 74,
   "metadata": {
    "deletable": false,
    "editable": false,
    "nbgrader": {
     "cell_type": "code",
     "checksum": "d22a4a7325ba7815a808390388f534a1",
     "grade": true,
     "grade_id": "cell-b25d04ed6b79fd35",
     "locked": true,
     "points": 2,
     "schema_version": 3,
     "solution": false,
     "task": false
    }
   },
   "outputs": [
    {
     "name": "stdout",
     "output_type": "stream",
     "text": [
      "vectors: ([(1, 0.2), (2, 0.3), (3, 0.4)], [(1, 0.2), (2, 0.7), (3, 0.4)])\n",
      "dot product = 0.41000000000000003\n",
      "cosine similarity = 0.9165587597202866\n"
     ]
    }
   ],
   "source": [
    "##### Function check\n",
    "print(f'vectors: {(example_vec_1,example_vec_2)}')\n",
    "print(f'dot product = {dot(example_vec_1,example_vec_2)}')\n",
    "print(f'cosine similarity = {cosine_sim(example_vec_1,example_vec_2)}')\n",
    "##### "
   ]
  },
  {
   "cell_type": "code",
   "execution_count": 75,
   "metadata": {
    "deletable": false,
    "editable": false,
    "nbgrader": {
     "cell_type": "code",
     "checksum": "0744131724ce76b1b3f163b4bae5f700",
     "grade": true,
     "grade_id": "cell-ae3c4466866ace77",
     "locked": true,
     "points": 3,
     "schema_version": 3,
     "solution": false,
     "task": false
    }
   },
   "outputs": [],
   "source": [
    "#### Please do not change this. This cell is used for grading."
   ]
  },
  {
   "cell_type": "markdown",
   "metadata": {
    "deletable": false,
    "editable": false,
    "nbgrader": {
     "cell_type": "markdown",
     "checksum": "9b123f599f9ea372d14676e23f1c6a52",
     "grade": false,
     "grade_id": "cell-4b2534067c44fcdf",
     "locked": true,
     "schema_version": 3,
     "solution": false,
     "task": false
    }
   },
   "source": [
    "---\n",
    "### Section 6.2: LSI Retrieval (10 points)<a class=\"anchor\" id=\"lsi_retrieval\"></a>\n",
    "LSI retrieval is simply ranking the documents based on their cosine similarity to the query vector.\n",
    "First, let's write a parent class for vector-based retrieval models:"
   ]
  },
  {
   "cell_type": "code",
   "execution_count": 76,
   "metadata": {
    "deletable": false,
    "editable": false,
    "nbgrader": {
     "cell_type": "code",
     "checksum": "ecc111d58182570e2252b8ef5d6b02af",
     "grade": false,
     "grade_id": "cell-937936cea18711ee",
     "locked": true,
     "schema_version": 3,
     "solution": false,
     "task": false
    }
   },
   "outputs": [],
   "source": [
    "class VectorSpaceRetrievalModel:\n",
    "    \"\"\"\n",
    "        Parent class for Dense Vector Retrieval models\n",
    "    \"\"\"\n",
    "    def __init__(self, doc_repr):\n",
    "        \"\"\"\n",
    "            document_collection: \n",
    "                [\n",
    "                    (doc_id_1, [token 1, token 2, ...]), \n",
    "                    (doc_id_2, [token 1, token 2, ....]) \n",
    "                    ...\n",
    "                ]\n",
    "\n",
    "        \"\"\"\n",
    "        self.doc_repr = doc_repr\n",
    "        self.documents = [_[1] for _ in self.doc_repr]\n",
    "        \n",
    "        # construct a dictionary\n",
    "        self.dictionary = Dictionary(self.documents)\n",
    "        # Filter out words that occur less than 20 documents, or more than 50% of the documents.\n",
    "        self.dictionary.filter_extremes(no_below=10)\n",
    "        self.corpus = [self.dictionary.doc2bow(doc) for doc in self.documents]\n",
    "    \n",
    "        # Make a index to word dictionary.\n",
    "        temp = self.dictionary[0]  # This is only to \"load\" the dictionary.\n",
    "        self.id2word = self.dictionary.id2token\n",
    "        \n",
    "        # this is set by the train_model function\n",
    "        self.model = None\n",
    "        \n",
    "        \n",
    "    def vectorize_documents(self):\n",
    "        \"\"\"\n",
    "            Returns a doc_id -> vector dictionary\n",
    "        \"\"\"\n",
    "        vectors = {}\n",
    "        for (doc_id, _), cc in zip(self.doc_repr, self.corpus):\n",
    "            vectors[doc_id] = self.model[cc]\n",
    "        return vectors\n",
    "\n",
    "    def vectorize_query(self, query):\n",
    "        # Note the use of config_2 here!\n",
    "        query = process_text(query, **config_2)\n",
    "        query_vector = self.dictionary.doc2bow(query)\n",
    "        return self.model[query_vector]\n",
    "    \n",
    "    def train_model(self):\n",
    "        \"\"\"\n",
    "            Trains a model and sets the 'self.model' variable. \n",
    "            Make sure to use the variables created in the __init__ method.\n",
    "            e.g the variables which may be useful: {corpus, dictionary, id2word}\n",
    "        \"\"\"\n",
    "        raise NotImplementedError()"
   ]
  },
  {
   "cell_type": "markdown",
   "metadata": {
    "deletable": false,
    "editable": false,
    "nbgrader": {
     "cell_type": "markdown",
     "checksum": "ff161eefd9b81b768cd6361bc1a502b0",
     "grade": false,
     "grade_id": "cell-704a18c2f80cd60c",
     "locked": true,
     "schema_version": 3,
     "solution": false,
     "task": false
    }
   },
   "source": [
    "---\n",
    "**Implementation (5 points):**\n",
    "Implement the `train_model` method in the following class (note that this is only one line of code in `gensim`!). Ensure that the parameters defined in the `__init__` method are not changed, and are *used in the `train_method` function*. Normally, the hyperaparameter space will be searched using grid search / other methods - in this assignment we have provided the hyperparameters for you.\n",
    "\n",
    "The last two lines of code train an LSI model on the list of documents which have been stemmed, lower-cased and have stopwords removed. "
   ]
  },
  {
   "cell_type": "code",
   "execution_count": 77,
   "metadata": {
    "deletable": false,
    "nbgrader": {
     "cell_type": "code",
     "checksum": "0e90eedc27c248bc1ae050518a46a46c",
     "grade": false,
     "grade_id": "cell-307682c9089f15d6",
     "locked": false,
     "schema_version": 3,
     "solution": true,
     "task": false
    }
   },
   "outputs": [],
   "source": [
    "# TODO: Implement this! (5 points)\n",
    "class LsiRetrievalModel(VectorSpaceRetrievalModel):\n",
    "    def __init__(self, doc_repr):\n",
    "        super().__init__(doc_repr)\n",
    "\n",
    "        self.num_topics = 100\n",
    "        self.chunksize = 2000\n",
    "\n",
    "    def train_model(self):\n",
    "        self.model = LsiModel(\n",
    "            corpus=self.corpus,\n",
    "            id2word=self.id2word,\n",
    "            num_topics=self.num_topics,\n",
    "            chunksize=self.chunksize,\n",
    "        )"
   ]
  },
  {
   "cell_type": "code",
   "execution_count": 78,
   "metadata": {
    "deletable": false,
    "editable": false,
    "nbgrader": {
     "cell_type": "code",
     "checksum": "00399cfe13d60cb4beed1271e36004b0",
     "grade": true,
     "grade_id": "cell-5ce512650c1b2dfb",
     "locked": true,
     "points": 0,
     "schema_version": 3,
     "solution": false,
     "task": false
    }
   },
   "outputs": [
    {
     "name": "stderr",
     "output_type": "stream",
     "text": [
      "2022-02-28 17:40:01,242 : INFO : adding document #0 to Dictionary(0 unique tokens: [])\n",
      "2022-02-28 17:40:01,438 : INFO : built Dictionary(5937 unique tokens: ['-', 'algebra', 'intern', 'languag', 'preliminari']...) from 3204 documents (total 115969 corpus positions)\n",
      "2022-02-28 17:40:01,445 : INFO : discarding 4740 tokens: [('repeat', 8), ('glossari', 7), ('inspect', 8), ('uncol', 2), ('rung', 9), ('secant', 2), ('.', 1603), ('acceler', 6), ('diverg', 3), ('induc', 9)]...\n",
      "2022-02-28 17:40:01,446 : INFO : keeping 1197 tokens which were in no less than 10 and no more than 1602 (=50.0%) documents\n",
      "2022-02-28 17:40:01,449 : INFO : resulting dictionary: Dictionary(1197 unique tokens: ['-', 'algebra', 'intern', 'languag', 'preliminari']...)\n",
      "2022-02-28 17:40:01,524 : INFO : using serial LSI version on this node\n",
      "2022-02-28 17:40:01,525 : INFO : updating model with new documents\n",
      "2022-02-28 17:40:01,525 : INFO : preparing a new chunk of documents\n",
      "2022-02-28 17:40:01,660 : INFO : using 100 extra samples and 2 power iterations\n",
      "2022-02-28 17:40:01,687 : INFO : 1st phase: constructing (1197, 200) action matrix\n",
      "2022-02-28 17:40:01,714 : INFO : orthonormalizing (1197, 200) action matrix\n",
      "2022-02-28 17:40:01,831 : INFO : 2nd phase: running dense svd on (200, 2000) matrix\n",
      "2022-02-28 17:40:02,014 : INFO : computing the final decomposition\n",
      "2022-02-28 17:40:02,015 : INFO : keeping 100 factors (discarding 13.436% of energy spectrum)\n",
      "2022-02-28 17:40:02,021 : INFO : processed documents up to #2000\n",
      "2022-02-28 17:40:02,024 : INFO : topic #0(152.127): 0.741*\",\" + 0.342*\"-\" + 0.211*\"system\" + 0.204*\"program\" + 0.192*\"comput\" + 0.146*\"(\" + 0.127*\"languag\" + 0.108*\")\" + 0.084*\"gener\" + 0.083*\"data\"\n",
      "2022-02-28 17:40:02,026 : INFO : topic #1(60.600): -0.607*\"(\" + -0.434*\")\" + -0.366*\"algorithm\" + -0.300*\"-\" + 0.237*\",\" + 0.213*\"system\" + 0.132*\"comput\" + -0.096*\"[\" + 0.093*\"program\" + -0.084*\"])\"\n",
      "2022-02-28 17:40:02,027 : INFO : topic #2(57.438): -0.744*\"-\" + 0.452*\",\" + -0.263*\"system\" + 0.214*\"(\" + 0.166*\")\" + -0.107*\"time\" + -0.105*\"program\" + 0.094*\"algorithm\" + -0.068*\"comput\" + -0.067*\"share\"\n",
      "2022-02-28 17:40:02,031 : INFO : topic #3(48.370): -0.483*\"system\" + -0.375*\"program\" + -0.367*\"comput\" + 0.363*\"-\" + 0.308*\",\" + -0.212*\"(\" + -0.168*\")\" + -0.147*\"algorithm\" + 0.144*\"languag\" + -0.119*\"time\"\n",
      "2022-02-28 17:40:02,033 : INFO : topic #4(45.710): 0.489*\"comput\" + -0.475*\"languag\" + -0.428*\"program\" + 0.238*\"method\" + 0.141*\"problem\" + -0.121*\"system\" + -0.109*\")\" + 0.107*\"equat\" + 0.100*\"algorithm\" + -0.099*\"(\"\n",
      "2022-02-28 17:40:02,035 : INFO : preparing a new chunk of documents\n",
      "2022-02-28 17:40:02,047 : INFO : using 100 extra samples and 2 power iterations\n",
      "2022-02-28 17:40:02,048 : INFO : 1st phase: constructing (1197, 200) action matrix\n",
      "2022-02-28 17:40:02,063 : INFO : orthonormalizing (1197, 200) action matrix\n",
      "2022-02-28 17:40:02,140 : INFO : 2nd phase: running dense svd on (200, 1204) matrix\n",
      "2022-02-28 17:40:02,190 : INFO : computing the final decomposition\n",
      "2022-02-28 17:40:02,191 : INFO : keeping 100 factors (discarding 14.020% of energy spectrum)\n",
      "2022-02-28 17:40:02,196 : INFO : merging projections: (1197, 100) + (1197, 100)\n",
      "2022-02-28 17:40:02,232 : INFO : keeping 100 factors (discarding 8.162% of energy spectrum)\n",
      "2022-02-28 17:40:02,238 : INFO : processed documents up to #3204\n",
      "2022-02-28 17:40:02,240 : INFO : topic #0(225.136): 0.759*\",\" + 0.337*\"-\" + 0.196*\"system\" + 0.186*\"program\" + 0.166*\"comput\" + 0.139*\"(\" + 0.103*\")\" + 0.103*\"algorithm\" + 0.099*\"languag\" + 0.087*\"time\"\n",
      "2022-02-28 17:40:02,242 : INFO : topic #1(87.805): 0.613*\"-\" + -0.399*\",\" + 0.399*\"(\" + 0.326*\"algorithm\" + 0.293*\")\" + -0.129*\"system\" + -0.107*\"program\" + 0.085*\"method\" + 0.077*\"time\" + 0.062*\"1\"\n",
      "2022-02-28 17:40:02,243 : INFO : topic #2(81.909): 0.550*\"-\" + -0.434*\"(\" + 0.355*\"system\" + -0.321*\")\" + -0.291*\",\" + -0.266*\"algorithm\" + 0.146*\"program\" + 0.123*\"comput\" + 0.078*\"time\" + -0.064*\"[\"\n",
      "2022-02-28 17:40:02,245 : INFO : topic #3(72.433): -0.693*\"program\" + 0.339*\",\" + 0.279*\"-\" + -0.251*\"(\" + -0.221*\"system\" + -0.214*\"languag\" + -0.204*\")\" + -0.160*\"comput\" + -0.099*\"data\" + -0.056*\"execut\"\n",
      "2022-02-28 17:40:02,247 : INFO : topic #4(68.523): -0.673*\"system\" + 0.453*\"program\" + 0.254*\"languag\" + 0.212*\"-\" + -0.179*\"comput\" + -0.165*\"(\" + -0.121*\")\" + -0.115*\"model\" + 0.101*\",\" + -0.098*\"algorithm\"\n"
     ]
    },
    {
     "data": {
      "text/plain": [
       "[(0, 0.015214381642652609),\n",
       " (1, -0.01626065867452892),\n",
       " (2, -0.00020242783400947024),\n",
       " (3, -0.0018004778772799548),\n",
       " (4, -0.009402238519326808),\n",
       " (5, -0.0046604807842027425),\n",
       " (6, 0.027069664578908886),\n",
       " (7, 0.01673967661701102),\n",
       " (8, -0.03185517685432336),\n",
       " (9, -0.000614744441815411),\n",
       " (10, 0.0019942225370208244),\n",
       " (11, -0.017363020872338538),\n",
       " (12, 5.8909841385637596e-06),\n",
       " (13, 0.0012444483165224831),\n",
       " (14, 0.0041505372982911905),\n",
       " (15, 0.006012863426492475),\n",
       " (16, 0.005347706078781328),\n",
       " (17, 0.0020075883686893232),\n",
       " (18, -0.01824832283177765),\n",
       " (19, 0.01945808110427804),\n",
       " (20, -0.012112545070755189),\n",
       " (21, -0.015193435241528995),\n",
       " (22, 0.0472762869748544),\n",
       " (23, 0.025786505178273272),\n",
       " (24, -0.009798474624865869),\n",
       " (25, -0.009805301680276251),\n",
       " (26, 0.008039818094211022),\n",
       " (27, 0.07753963847386765),\n",
       " (28, -0.06390534688721151),\n",
       " (29, 0.029485405202247066),\n",
       " (30, 0.04267824661014793),\n",
       " (31, 0.048525282731286486),\n",
       " (32, -0.07064895433475858),\n",
       " (33, 0.04716324293027459),\n",
       " (34, -0.02321329603108889),\n",
       " (35, 0.060222031892295906),\n",
       " (36, 0.044422321016920535),\n",
       " (37, 0.00017666930686972837),\n",
       " (38, -0.06126866982457997),\n",
       " (39, 0.02675099268267584),\n",
       " (40, -0.043394642637276284),\n",
       " (41, -0.03112755343017739),\n",
       " (42, 0.02259493366345684),\n",
       " (43, 0.014760780887380323),\n",
       " (44, 0.013427407638500923),\n",
       " (45, 0.05717269815514564),\n",
       " (46, -0.0059590782786206435),\n",
       " (47, 0.0057163738026330384),\n",
       " (48, 0.01700375975365199),\n",
       " (49, 0.033131066147779),\n",
       " (50, 0.020769354851544804),\n",
       " (51, 0.04941149222695838),\n",
       " (52, -0.007653921182715023),\n",
       " (53, -0.005052084955336838),\n",
       " (54, 0.04057122744867642),\n",
       " (55, 0.01854593202666818),\n",
       " (56, -0.01277632241616106),\n",
       " (57, -0.019016175464767682),\n",
       " (58, 0.007632421631798245),\n",
       " (59, 0.051058469046748024),\n",
       " (60, -0.007111677985292145),\n",
       " (61, 0.04959787843726073),\n",
       " (62, 0.0009124344680377437),\n",
       " (63, 0.03240468976123685),\n",
       " (64, 0.06139633997094204),\n",
       " (65, 0.018439868319673203),\n",
       " (66, 0.013351701409751289),\n",
       " (67, -0.07402748740904026),\n",
       " (68, -0.030229932312045057),\n",
       " (69, -0.03355932518214348),\n",
       " (70, -0.05533054673521386),\n",
       " (71, -0.02295293753213368),\n",
       " (72, 0.02474046891134459),\n",
       " (73, 0.04957473705934426),\n",
       " (74, 0.08569208566859826),\n",
       " (75, 0.028301662226348452),\n",
       " (76, 0.008997630101288942),\n",
       " (77, -0.01762321379999963),\n",
       " (78, 0.03427294899325465),\n",
       " (79, 0.038376527562161686),\n",
       " (80, -0.025328422941563632),\n",
       " (81, 0.0003218928846612963),\n",
       " (82, 0.04979719729569786),\n",
       " (83, 0.012200361504285558),\n",
       " (84, -0.0301977736849616),\n",
       " (85, -0.009854283034156745),\n",
       " (86, 0.0018188775931816063),\n",
       " (87, 0.03374394410145272),\n",
       " (88, -0.03677410115673149),\n",
       " (89, 0.042674101030351866),\n",
       " (90, -0.08316805414654121),\n",
       " (91, -0.07172282742916042),\n",
       " (92, -0.04459336485649648),\n",
       " (93, 0.021788524641765658),\n",
       " (94, -0.042340277482890966),\n",
       " (95, 0.0234558828915234),\n",
       " (96, 0.0007252734488383886),\n",
       " (97, 0.0033176295442469417),\n",
       " (98, -0.009459450024186678),\n",
       " (99, 0.05238596075232067)]"
      ]
     },
     "execution_count": 78,
     "metadata": {},
     "output_type": "execute_result"
    }
   ],
   "source": [
    "##### Function check\n",
    "lsi = LsiRetrievalModel(doc_repr_2)\n",
    "lsi.train_model()\n",
    "\n",
    "# you can now get an LSI vector for a given query in the following way:\n",
    "lsi.vectorize_query(\"report\")\n",
    "##### "
   ]
  },
  {
   "cell_type": "markdown",
   "metadata": {
    "deletable": false,
    "editable": false,
    "nbgrader": {
     "cell_type": "markdown",
     "checksum": "7116bb9f576c5bb04934e1d59c51d729",
     "grade": false,
     "grade_id": "cell-4c5eeb557b4fca2f",
     "locked": true,
     "points": 5,
     "schema_version": 3,
     "solution": false,
     "task": true
    }
   },
   "source": [
    "\\#### Please do not change this. This cell is used for grading."
   ]
  },
  {
   "cell_type": "markdown",
   "metadata": {
    "deletable": false,
    "editable": false,
    "nbgrader": {
     "cell_type": "markdown",
     "checksum": "26e2ff3c413745e633d99f66c041d6b1",
     "grade": false,
     "grade_id": "cell-c4e50296cd17a555",
     "locked": true,
     "schema_version": 3,
     "solution": false,
     "task": false
    }
   },
   "source": [
    "---\n",
    "**Implementation (5 points):**\n",
    " Next, implement a basic ranking class for vector space retrieval (used for all semantic methods): "
   ]
  },
  {
   "cell_type": "code",
   "execution_count": 79,
   "metadata": {
    "deletable": false,
    "nbgrader": {
     "cell_type": "code",
     "checksum": "1a8389d2f0635c3405e2b0b27ed9f327",
     "grade": false,
     "grade_id": "cell-250515d288e80cdc",
     "locked": false,
     "schema_version": 3,
     "solution": true,
     "task": false
    }
   },
   "outputs": [],
   "source": [
    "# TODO: Implement this! (5 points)\n",
    "class DenseRetrievalRanker:\n",
    "    def __init__(self, vsrm, similarity_fn):\n",
    "        \"\"\"\n",
    "        vsrm: instance of `VectorSpaceRetrievalModel`\n",
    "        similarity_fn: function instance that takes in two vectors\n",
    "                        and returns a similarity score e.g cosine_sim defined earlier\n",
    "        \"\"\"\n",
    "        self.vsrm = vsrm\n",
    "        self.vectorized_documents = self.vsrm.vectorize_documents()\n",
    "        self.similarity_fn = similarity_fn\n",
    "\n",
    "    def _compute_sim(self, query_vector):\n",
    "        \"\"\"\n",
    "        Compute the similarity of `query_vector` to documents in\n",
    "        `self.vectorized_documents` using `self.similarity_fn`\n",
    "        Returns a list of (doc_id, score) tuples\n",
    "        \"\"\"\n",
    "        # result = []\n",
    "        result = [\n",
    "            (doc_id, self.similarity_fn(query_vector, doc))\n",
    "            for doc_id, doc in self.vectorized_documents.items()\n",
    "        ]\n",
    "        return result\n",
    "\n",
    "    def search(self, query):\n",
    "        scores = self._compute_sim(self.vsrm.vectorize_query(query))\n",
    "        scores.sort(key=lambda _: -_[1])\n",
    "        return scores"
   ]
  },
  {
   "cell_type": "code",
   "execution_count": 80,
   "metadata": {
    "deletable": false,
    "editable": false,
    "nbgrader": {
     "cell_type": "code",
     "checksum": "f237dd1ef6c1783c06797f4b514421f5",
     "grade": true,
     "grade_id": "cell-b73068b3e77a8e31",
     "locked": true,
     "points": 0,
     "schema_version": 3,
     "solution": false,
     "task": false
    }
   },
   "outputs": [
    {
     "data": {
      "text/plain": [
       "[('599', 0.784798779730999),\n",
       " ('947', 0.5832447072267072),\n",
       " ('53', 0.5147011400488556),\n",
       " ('1339', 0.4494407023697154),\n",
       " ('3160', 0.4463343763874257)]"
      ]
     },
     "execution_count": 80,
     "metadata": {},
     "output_type": "execute_result"
    }
   ],
   "source": [
    "##### Function check\n",
    "drm_lsi = DenseRetrievalRanker(lsi, cosine_sim)\n",
    "drm_lsi.search(\"report\")[:5]\n",
    "##### "
   ]
  },
  {
   "cell_type": "markdown",
   "metadata": {
    "deletable": false,
    "editable": false,
    "nbgrader": {
     "cell_type": "markdown",
     "checksum": "5b3f19fdcaa585d263706d5a26038799",
     "grade": false,
     "grade_id": "cell-034c755a6502b868",
     "locked": true,
     "points": 5,
     "schema_version": 3,
     "solution": false,
     "task": true
    }
   },
   "source": [
    "\\#### Please do not change this. This cell is used for grading."
   ]
  },
  {
   "cell_type": "markdown",
   "metadata": {
    "deletable": false,
    "editable": false,
    "nbgrader": {
     "cell_type": "markdown",
     "checksum": "dcafef6e037033c46304b914f7c78bdf",
     "grade": false,
     "grade_id": "cell-d1df23f497d5ed6b",
     "locked": true,
     "schema_version": 3,
     "solution": false,
     "task": false
    }
   },
   "source": [
    "---\n",
    "Now, you can test your LSI model in the following cell: try finding queries which are lexically different to documents, but semantically similar - does LSI work well for these queries?!"
   ]
  },
  {
   "cell_type": "code",
   "execution_count": 81,
   "metadata": {
    "deletable": false,
    "editable": false,
    "nbgrader": {
     "cell_type": "code",
     "checksum": "11734bc7674377b340ad51297a8e8bb5",
     "grade": false,
     "grade_id": "cell-efd1d08dfc04ec3e",
     "locked": true,
     "schema_version": 3,
     "solution": false,
     "task": false
    }
   },
   "outputs": [
    {
     "data": {
      "application/vnd.jupyter.widget-view+json": {
       "model_id": "54831d28faa64c808aff848fb77e208e",
       "version_major": 2,
       "version_minor": 0
      },
      "text/plain": [
       "Text(value='', description='Search Bar')"
      ]
     },
     "metadata": {},
     "output_type": "display_data"
    }
   ],
   "source": [
    "# test your LSI model\n",
    "search_fn = drm_lsi.search\n",
    "\n",
    "text = widgets.Text(description=\"Search Bar\", width=200)\n",
    "display(text)\n",
    "\n",
    "def make_results_2(query, search_fn):\n",
    "    results = []\n",
    "    for doc_id, score in search_fn(query):\n",
    "        highlight = highlight_text(docs_by_id[doc_id], query)\n",
    "        if len(highlight.strip()) == 0:\n",
    "            highlight = docs_by_id[doc_id]\n",
    "        results.append(ResultRow(doc_id, highlight, score))\n",
    "    return results\n",
    "\n",
    "def handle_submit_2(sender):\n",
    "    print(f\"Searching for: '{sender.value}' (SEARCH FN: {search_fn})\")\n",
    "    \n",
    "    results = make_results_2(sender.value, search_fn)\n",
    "    \n",
    "    # display only the top 5\n",
    "    results = results[:5]\n",
    "    \n",
    "    body = \"\"\n",
    "    for idx, r in enumerate(results):\n",
    "        body += f\"<li>Document #{r.doc_id}({r.score}): {r.snippet}</li>\"\n",
    "    display(HTML(f\"<ul>{body}</ul>\"))\n",
    "    \n",
    "\n",
    "text.on_submit(handle_submit_2)"
   ]
  },
  {
   "cell_type": "markdown",
   "metadata": {
    "deletable": false,
    "editable": false,
    "nbgrader": {
     "cell_type": "markdown",
     "checksum": "d074ce1ca48384cdda78742741c938be",
     "grade": false,
     "grade_id": "cell-3a86cef264d8f6cf",
     "locked": true,
     "schema_version": 3,
     "solution": false,
     "task": false
    }
   },
   "source": [
    "---\n",
    "## Section 7: Latent Dirichlet Allocation (LDA) (10 points) <a class=\"anchor\" id=\"lda\"></a>\n",
    "\n",
    "[Back to Part 2](#part2)\n",
    "\n",
    "The specifics of LDA is out of the scope of this assignment, but we will use the `gensim` implementation to perform search using LDA over our small document collection. The key thing to remember is that LDA, unlike LSI, outputs a topic **distribution**, not a vector. With that in mind, let's first define a similarity measure.\n"
   ]
  },
  {
   "cell_type": "markdown",
   "metadata": {
    "deletable": false,
    "editable": false,
    "nbgrader": {
     "cell_type": "markdown",
     "checksum": "db01092373b18f0c9dfed1bb17db4ad9",
     "grade": false,
     "grade_id": "cell-6b78ad22c2d60ba7",
     "locked": true,
     "schema_version": 3,
     "solution": false,
     "task": false
    }
   },
   "source": [
    "---\n",
    "### Section 7.1: Jenson-Shannon divergence (5 points) <a class=\"anchor\" id=\"js_sim\"></a>\n",
    "\n",
    "The Jenson-Shannon divergence is a symmetric and finite measure on two probability distributions (unlike the KL, which is neither). For identical distributions, the JSD is equal to 0, and since our code uses 0 as irrelevant and higher scores as relevant, we use `(1 - JSD)` as the score or 'similarity' in our setup\n",
    "\n",
    "**Note**: the JSD is bounded to \\[0,1\\] only if we use log base 2. So please ensure that you're using `np.log2` instead of `np.log`"
   ]
  },
  {
   "cell_type": "code",
   "execution_count": 82,
   "metadata": {
    "deletable": false,
    "nbgrader": {
     "cell_type": "code",
     "checksum": "a579e6cd7a24a3516bc9a84528b392d3",
     "grade": false,
     "grade_id": "cell-d2376a85a4841e98",
     "locked": false,
     "schema_version": 3,
     "solution": true,
     "task": false
    }
   },
   "outputs": [],
   "source": [
    "## TODO: Implement this! (5 points)\n",
    "def jenson_shannon_divergence(vec_1, vec_2, assert_prob=False):\n",
    "    \"\"\"\n",
    "    Computes the Jensen-Shannon divergence between two probability distributions.\n",
    "    NOTE: DO NOT RETURN 1 - JSD here, that is handled by the next function which is already implemented!\n",
    "    The inputs are *gensim* vectors - same as the vectors for the cosine_sim function\n",
    "    assert_prob is a flag that checks if the inputs are proper probability distributions\n",
    "        i.e they sum to 1 and are positive - use this to check your inputs if needed.\n",
    "            (This is optional to implement, but recommended -\n",
    "            you can the default to False to save a few ms off the runtime)\n",
    "    \"\"\"\n",
    "\n",
    "    # --------- Define a custom KL divergence function --------\n",
    "    def KL(a, b):\n",
    "        a = np.asarray(a, dtype=np.float)\n",
    "        b = np.asarray(b, dtype=np.float)\n",
    "\n",
    "        return np.sum(np.where(a != 0, a * np.log2(a / b), 0))\n",
    "\n",
    "    # ---------------------------------------------------------\n",
    "\n",
    "    vec_1_probs = np.array([x[1] for x in vec_1])  # extracting the probabily values\n",
    "    vec_2_probs = np.array([y[1] for y in vec_2])  # extracting the probabily values\n",
    "\n",
    "    # if flag=True, assert that the inputs are proper probability distributions\n",
    "    if assert_prob:\n",
    "        assert np.sum(vec_1_probs) == 1 and all(\n",
    "            vec_1_probs > 0\n",
    "        ), \"Values of vector1 must sum to 1 and be positive\"\n",
    "        assert np.sum(vec_2_probs) == 1 and all(\n",
    "            vec_2_probs > 0\n",
    "        ), \"Values of vector2 must sum to 1 and be positive\"\n",
    "\n",
    "    # If inputs are valid, compute divergence\n",
    "    m = 0.5 * (vec_1_probs + vec_2_probs)\n",
    "    return 0.5 * KL(vec_1_probs, m) + 0.5 * KL(vec_2_probs, m)\n",
    "\n",
    "\n",
    "def jenson_shannon_sim(vec_1, vec_2, assert_prob=False):\n",
    "    return 1 - jenson_shannon_divergence(vec_1, vec_2)"
   ]
  },
  {
   "cell_type": "code",
   "execution_count": 83,
   "metadata": {
    "deletable": false,
    "editable": false,
    "nbgrader": {
     "cell_type": "code",
     "checksum": "ab340aa941c9fb5c89b3fd0a9139e246",
     "grade": true,
     "grade_id": "cell-487c6d2933f38053",
     "locked": true,
     "points": 5,
     "schema_version": 3,
     "solution": false,
     "task": false
    }
   },
   "outputs": [
    {
     "data": {
      "text/plain": [
       "0.9251064410358459"
      ]
     },
     "execution_count": 83,
     "metadata": {},
     "output_type": "execute_result"
    }
   ],
   "source": [
    "##### Function check\n",
    "vec_1 = [(1, 0.3), (2, 0.4), (3, 0.3)]\n",
    "vec_2 = [(1, 0.1), (2, 0.7), (3, 0.2)]\n",
    "jenson_shannon_sim(vec_1, vec_2, assert_prob=True)\n",
    "##### "
   ]
  },
  {
   "cell_type": "markdown",
   "metadata": {
    "deletable": false,
    "editable": false,
    "nbgrader": {
     "cell_type": "markdown",
     "checksum": "0a1583a5f23e3390038331cce67f5d8e",
     "grade": false,
     "grade_id": "cell-4535cc67a50b80fa",
     "locked": true,
     "schema_version": 3,
     "solution": false,
     "task": false
    }
   },
   "source": [
    "---\n",
    "### Section 7.2: LDA retrieval (5 points) <a class=\"anchor\" id=\"lda_ret\"></a>\n",
    "\n",
    "Implement the `train_model` method in the following class (note that this is only one line of code in `gensim`!). Ensure that the parameters defined in the `__init__` method are not changed, and are *used in the `train_method` function*. You do not need to set this. Normally, the hyperaparameter space will be searched using grid search / other methods. Note that training the LDA model might take some time\n",
    "\n",
    "The last two lines of code train an LDA model on the list of documents which have been stemmed, lower-cased and have stopwords removed. "
   ]
  },
  {
   "cell_type": "code",
   "execution_count": 84,
   "metadata": {
    "deletable": false,
    "nbgrader": {
     "cell_type": "code",
     "checksum": "27de8e4fa85536bb396b73bfc51b3f50",
     "grade": false,
     "grade_id": "cell-021a48dff4a8bb91",
     "locked": false,
     "schema_version": 3,
     "solution": true,
     "task": false
    }
   },
   "outputs": [],
   "source": [
    "# TODO: Implement this! (5 points)\n",
    "class LdaRetrievalModel(VectorSpaceRetrievalModel):\n",
    "    def __init__(self, doc_repr):\n",
    "        super().__init__(doc_repr)\n",
    "\n",
    "        # use these parameters in the train_model method\n",
    "        self.num_topics = 100\n",
    "        self.chunksize = 2000\n",
    "        self.passes = 20\n",
    "        self.iterations = 400\n",
    "        self.eval_every = 10\n",
    "        # this is need to get full vectors\n",
    "        self.minimum_probability = 0.0\n",
    "        self.alpha = \"auto\"\n",
    "        self.eta = \"auto\"\n",
    "\n",
    "    def train_model(self):\n",
    "        # YOUR CODE HERE\n",
    "        self.model = LdaModel(\n",
    "            corpus=self.corpus,\n",
    "            id2word=self.id2word,\n",
    "            num_topics=self.num_topics,\n",
    "            chunksize=self.chunksize,\n",
    "            passes=self.passes,\n",
    "            iterations=self.iterations,\n",
    "            eval_every=self.eval_every,\n",
    "            minimum_probability=self.minimum_probability,\n",
    "            alpha=self.alpha,\n",
    "            eta=self.eta,\n",
    "        )"
   ]
  },
  {
   "cell_type": "code",
   "execution_count": 85,
   "metadata": {
    "deletable": false,
    "editable": false,
    "nbgrader": {
     "cell_type": "code",
     "checksum": "be70fcb8098d0b6ce64cd2a10e6a05b7",
     "grade": true,
     "grade_id": "cell-86750b715f0345fd",
     "locked": true,
     "points": 0,
     "schema_version": 3,
     "solution": false,
     "task": false
    }
   },
   "outputs": [
    {
     "name": "stderr",
     "output_type": "stream",
     "text": [
      "2022-02-28 17:40:03,680 : INFO : adding document #0 to Dictionary(0 unique tokens: [])\n",
      "2022-02-28 17:40:03,848 : INFO : built Dictionary(5937 unique tokens: ['-', 'algebra', 'intern', 'languag', 'preliminari']...) from 3204 documents (total 115969 corpus positions)\n",
      "2022-02-28 17:40:03,856 : INFO : discarding 4740 tokens: [('repeat', 8), ('glossari', 7), ('inspect', 8), ('uncol', 2), ('rung', 9), ('secant', 2), ('.', 1603), ('acceler', 6), ('diverg', 3), ('induc', 9)]...\n",
      "2022-02-28 17:40:03,857 : INFO : keeping 1197 tokens which were in no less than 10 and no more than 1602 (=50.0%) documents\n",
      "2022-02-28 17:40:03,859 : INFO : resulting dictionary: Dictionary(1197 unique tokens: ['-', 'algebra', 'intern', 'languag', 'preliminari']...)\n",
      "2022-02-28 17:40:03,955 : INFO : using autotuned alpha, starting with [0.01, 0.01, 0.01, 0.01, 0.01, 0.01, 0.01, 0.01, 0.01, 0.01, 0.01, 0.01, 0.01, 0.01, 0.01, 0.01, 0.01, 0.01, 0.01, 0.01, 0.01, 0.01, 0.01, 0.01, 0.01, 0.01, 0.01, 0.01, 0.01, 0.01, 0.01, 0.01, 0.01, 0.01, 0.01, 0.01, 0.01, 0.01, 0.01, 0.01, 0.01, 0.01, 0.01, 0.01, 0.01, 0.01, 0.01, 0.01, 0.01, 0.01, 0.01, 0.01, 0.01, 0.01, 0.01, 0.01, 0.01, 0.01, 0.01, 0.01, 0.01, 0.01, 0.01, 0.01, 0.01, 0.01, 0.01, 0.01, 0.01, 0.01, 0.01, 0.01, 0.01, 0.01, 0.01, 0.01, 0.01, 0.01, 0.01, 0.01, 0.01, 0.01, 0.01, 0.01, 0.01, 0.01, 0.01, 0.01, 0.01, 0.01, 0.01, 0.01, 0.01, 0.01, 0.01, 0.01, 0.01, 0.01, 0.01, 0.01]\n",
      "2022-02-28 17:40:03,956 : INFO : using serial LDA version on this node\n",
      "2022-02-28 17:40:03,987 : INFO : running online (multi-pass) LDA training, 100 topics, 20 passes over the supplied corpus of 3204 documents, updating model once every 2000 documents, evaluating perplexity every 3204 documents, iterating 400x with a convergence threshold of 0.001000\n",
      "2022-02-28 17:40:03,988 : INFO : PROGRESS: pass 0, at document #2000/3204\n",
      "2022-02-28 17:40:05,788 : INFO : optimized alpha [0.009830429, 0.0098147355, 0.009856541, 0.009768248, 0.009830089, 0.009933125, 0.00987172, 0.009809431, 0.009882102, 0.00984043, 0.009824561, 0.009793833, 0.009810093, 0.009887722, 0.0098098945, 0.009856708, 0.009794008, 0.00982001, 0.009789044, 0.009945012, 0.009877054, 0.00998098, 0.00984573, 0.009778562, 0.009835103, 0.00982025, 0.009835174, 0.009845907, 0.00985119, 0.009867014, 0.009815021, 0.009778615, 0.009773435, 0.009835395, 0.00978876, 0.009783822, 0.009788798, 0.009794144, 0.0098097185, 0.0098252455, 0.009794136, 0.009804053, 0.009850618, 0.009819822, 0.009799279, 0.010002736, 0.009789064, 0.009799508, 0.009820309, 0.009856009, 0.00979941, 0.00990268, 0.009819879, 0.009789106, 0.009815086, 0.009845883, 0.0098509295, 0.00984033, 0.009845403, 0.009836069, 0.009840605, 0.00985651, 0.009804335, 0.009903668, 0.009804214, 0.009814618, 0.009824818, 0.009815236, 0.0097942455, 0.009845697, 0.009809629, 0.0097994255, 0.009804796, 0.009856841, 0.009793963, 0.009793911, 0.009898996, 0.009888254, 0.009882928, 0.009783696, 0.009819588, 0.00979913, 0.009830652, 0.009783718, 0.0099083455, 0.009788983, 0.009902579, 0.009773466, 0.009809947, 0.009829769, 0.00985652, 0.009809372, 0.009809844, 0.00989253, 0.00977856, 0.009794199, 0.0097890105, 0.0097940685, 0.009834627, 0.009799398]\n",
      "2022-02-28 17:40:05,793 : INFO : merging changes from 2000 documents into a model of 3204 documents\n",
      "2022-02-28 17:40:05,801 : INFO : topic #83 (0.010): 0.083*\"network\" + 0.062*\"activ\" + 0.042*\"gener\" + 0.042*\",\" + 0.031*\"matrix\" + 0.031*\")\" + 0.031*\"system\" + 0.031*\"(\" + 0.031*\"eigenvector\" + 0.021*\"obtain\"\n",
      "2022-02-28 17:40:05,802 : INFO : topic #36 (0.010): 0.066*\"list\" + 0.057*\"concept\" + 0.057*\"structur\" + 0.038*\"descript\" + 0.038*\"algorithm\" + 0.035*\"recurs\" + 0.028*\"[\" + 0.028*\"(\" + 0.028*\"definit\" + 0.028*\"])\"\n",
      "2022-02-28 17:40:05,802 : INFO : topic #84 (0.010): 0.070*\",\" + 0.030*\"comput\" + 0.024*\"system\" + 0.022*\"-\" + 0.017*\"program\" + 0.015*\"techniqu\" + 0.014*\"method\" + 0.013*\"discuss\" + 0.012*\"fortran\" + 0.011*\"tabl\"\n",
      "2022-02-28 17:40:05,803 : INFO : topic #45 (0.010): 0.059*\"-\" + 0.056*\",\" + 0.028*\"languag\" + 0.024*\"comput\" + 0.017*\"program\" + 0.017*\"system\" + 0.016*\"gener\" + 0.012*\"number\" + 0.011*\"algorithm\" + 0.010*\"(\"\n",
      "2022-02-28 17:40:05,804 : INFO : topic #21 (0.010): 0.076*\",\" + 0.033*\"(\" + 0.029*\"program\" + 0.022*\"comput\" + 0.020*\")\" + 0.017*\"-\" + 0.015*\"algorithm\" + 0.014*\"time\" + 0.012*\"method\" + 0.012*\"system\"\n",
      "2022-02-28 17:40:05,805 : INFO : topic diff=82.355545, rho=1.000000\n",
      "2022-02-28 17:40:06,666 : INFO : -7.316 per-word bound, 159.3 perplexity estimate based on a held-out corpus of 1204 documents with 49783 words\n",
      "2022-02-28 17:40:06,666 : INFO : PROGRESS: pass 0, at document #3204/3204\n",
      "2022-02-28 17:40:07,371 : INFO : optimized alpha [0.010167339, 0.010072951, 0.00992142, 0.009859633, 0.0098776985, 0.009901271, 0.009978666, 0.009779626, 0.010048488, 0.009982305, 0.00971854, 0.009793359, 0.009928135, 0.009989246, 0.01025134, 0.009964035, 0.009869498, 0.010167269, 0.009995089, 0.010154008, 0.009893931, 0.010304842, 0.010051536, 0.0098184, 0.009786906, 0.009897712, 0.009852577, 0.010005355, 0.010510025, 0.010176817, 0.009999222, 0.009942737, 0.009854513, 0.009918456, 0.010015886, 0.01001757, 0.010085503, 0.009823691, 0.009873761, 0.009896106, 0.0099410955, 0.009792092, 0.00996794, 0.009807757, 0.009840454, 0.010322309, 0.010083292, 0.009823488, 0.009926666, 0.0099031245, 0.00993565, 0.010015823, 0.010103075, 0.010016839, 0.009909569, 0.00997637, 0.009963659, 0.010071117, 0.009809092, 0.0101924, 0.009921841, 0.010035632, 0.010154964, 0.010214115, 0.009751461, 0.009872894, 0.009936315, 0.010133921, 0.009812166, 0.0099467905, 0.009940098, 0.009758733, 0.01007731, 0.010286781, 0.0097758705, 0.009857659, 0.0101018455, 0.010020225, 0.010193427, 0.009743062, 0.010036638, 0.009670438, 0.009902753, 0.009754476, 0.009973132, 0.009748398, 0.0098840585, 0.009901761, 0.009945895, 0.010015555, 0.01027822, 0.009878896, 0.010200345, 0.010123128, 0.009865965, 0.009970696, 0.010070226, 0.009788608, 0.009863741, 0.009835578]\n",
      "2022-02-28 17:40:07,377 : INFO : merging changes from 1204 documents into a model of 3204 documents\n",
      "2022-02-28 17:40:07,383 : INFO : topic #81 (0.010): 0.132*\"compress\" + 0.071*\"\"\" + 0.041*\"algorithm\" + 0.033*\"inform\" + 0.031*\"note\" + 0.031*\"-\" + 0.025*\"item\" + 0.024*\"requir\" + 0.024*\"reduc\" + 0.022*\",\"\n",
      "2022-02-28 17:40:07,384 : INFO : topic #79 (0.010): 0.122*\"map\" + 0.079*\"flow\" + 0.066*\"method\" + 0.039*\"instruct\" + 0.037*\"substitut\" + 0.036*\"oper\" + 0.036*\"program\" + 0.035*\"calculu\" + 0.031*\"analysi\" + 0.027*\").\"\n",
      "2022-02-28 17:40:07,385 : INFO : topic #21 (0.010): 0.092*\",\" + 0.029*\"program\" + 0.025*\"(\" + 0.018*\"comput\" + 0.016*\")\" + 0.015*\"method\" + 0.015*\"-\" + 0.014*\"size\" + 0.013*\"problem\" + 0.012*\"time\"\n",
      "2022-02-28 17:40:07,386 : INFO : topic #45 (0.010): 0.064*\"-\" + 0.064*\",\" + 0.037*\"languag\" + 0.019*\"program\" + 0.018*\"comput\" + 0.017*\"gener\" + 0.017*\"system\" + 0.013*\"user\" + 0.010*\"design\" + 0.010*\"abstract\"\n",
      "2022-02-28 17:40:07,387 : INFO : topic #28 (0.011): 0.085*\",\" + 0.071*\"tree\" + 0.053*\"search\" + 0.030*\"structur\" + 0.026*\"time\" + 0.023*\"cost\" + 0.022*\"-\" + 0.020*\"averag\" + 0.020*\"system\" + 0.019*\"node\"\n",
      "2022-02-28 17:40:07,388 : INFO : topic diff=0.742669, rho=0.707107\n",
      "2022-02-28 17:40:07,397 : INFO : PROGRESS: pass 1, at document #2000/3204\n",
      "2022-02-28 17:40:08,297 : INFO : optimized alpha [0.010134929, 0.0099687595, 0.009885556, 0.010077211, 0.009802608, 0.009828463, 0.00989655, 0.009858169, 0.009959127, 0.009934039, 0.009709479, 0.009881936, 0.009881098, 0.010051702, 0.010208394, 0.009964991, 0.009825437, 0.010112525, 0.009957238, 0.010103647, 0.00980559, 0.010220883, 0.009983285, 0.0098301275, 0.009814972, 0.009838363, 0.009756995, 0.009930112, 0.010414197, 0.01010348, 0.009953476, 0.009863228, 0.009800524, 0.009842482, 0.009984586, 0.010144904, 0.010176727, 0.009809605, 0.009824996, 0.009871152, 0.009909098, 0.010628555, 0.009964923, 0.009770748, 0.009745176, 0.010263215, 0.010030054, 0.009844713, 0.009890434, 0.009830043, 0.009904177, 0.009959934, 0.010119354, 0.009973399, 0.009849755, 0.009894206, 0.009900279, 0.009978091, 0.009795542, 0.010105174, 0.009843016, 0.009935918, 0.010162098, 0.010159761, 0.0097751925, 0.009829451, 0.009960367, 0.010055867, 0.009722721, 0.009899721, 0.009932374, 0.009779827, 0.010051913, 0.010292122, 0.009802092, 0.009848694, 0.010011467, 0.009975711, 0.010109411, 0.009758747, 0.01029456, 0.009627793, 0.009885442, 0.00979305, 0.009931331, 0.009787331, 0.009790839, 0.009933132, 0.0098854955, 0.010159064, 0.010202384, 0.009971704, 0.010122633, 0.010029341, 0.009866882, 0.010042774, 0.010019662, 0.009814442, 0.009860125, 0.009801061]\n",
      "2022-02-28 17:40:08,303 : INFO : merging changes from 2000 documents into a model of 3204 documents\n",
      "2022-02-28 17:40:08,310 : INFO : topic #81 (0.010): 0.081*\"note\" + 0.076*\"compress\" + 0.065*\"\"\" + 0.056*\"inform\" + 0.041*\"item\" + 0.037*\"-\" + 0.031*\"part\" + 0.024*\",\" + 0.022*\"transmiss\" + 0.022*\"requir\"\n",
      "2022-02-28 17:40:08,310 : INFO : topic #68 (0.010): 0.061*\"contour\" + 0.039*\"techniqu\" + 0.031*\"properti\" + 0.030*\"problem\" + 0.029*\"string\" + 0.027*\",\" + 0.027*\"-\" + 0.025*\"geometr\" + 0.024*\"map\" + 0.023*\"process\"\n",
      "2022-02-28 17:40:08,311 : INFO : topic #45 (0.010): 0.067*\"-\" + 0.065*\",\" + 0.044*\"languag\" + 0.021*\"comput\" + 0.020*\"program\" + 0.018*\"gener\" + 0.016*\"system\" + 0.015*\"user\" + 0.011*\"\"\" + 0.009*\"design\"\n",
      "2022-02-28 17:40:08,312 : INFO : topic #28 (0.010): 0.084*\",\" + 0.064*\"tree\" + 0.054*\"search\" + 0.029*\"structur\" + 0.025*\"time\" + 0.022*\"-\" + 0.021*\"system\" + 0.021*\"cost\" + 0.021*\"organ\" + 0.019*\"(\"\n",
      "2022-02-28 17:40:08,313 : INFO : topic #41 (0.011): 0.210*\"(\" + 0.200*\"algorithm\" + 0.119*\")\" + 0.101*\"[\" + 0.085*\"])\" + 0.059*\"integr\" + 0.027*\"normal\" + 0.014*\"random\" + 0.013*\"algol\" + 0.013*\"60\"\n",
      "2022-02-28 17:40:08,314 : INFO : topic diff=0.308560, rho=0.526900\n",
      "2022-02-28 17:40:09,298 : INFO : -6.918 per-word bound, 120.9 perplexity estimate based on a held-out corpus of 1204 documents with 49783 words\n",
      "2022-02-28 17:40:09,299 : INFO : PROGRESS: pass 1, at document #3204/3204\n",
      "2022-02-28 17:40:10,063 : INFO : optimized alpha [0.0103128115, 0.010175319, 0.00992563, 0.010204972, 0.009896741, 0.009838658, 0.009999334, 0.009927713, 0.010092304, 0.010150609, 0.00975984, 0.009995735, 0.009999797, 0.010153811, 0.010502925, 0.010049182, 0.009925841, 0.010369726, 0.010146443, 0.010210119, 0.009859864, 0.010381201, 0.010146307, 0.009895424, 0.009863505, 0.009914656, 0.009842145, 0.010018472, 0.01087099, 0.010277663, 0.010078064, 0.01006116, 0.009949128, 0.0099007385, 0.0102731995, 0.010486689, 0.010553537, 0.009924038, 0.009939335, 0.009946889, 0.010075837, 0.010967848, 0.010092043, 0.009842049, 0.009864332, 0.010461537, 0.01035429, 0.009915432, 0.01000517, 0.009893718, 0.010032312, 0.010102673, 0.010390457, 0.010117299, 0.0099859005, 0.010027928, 0.010002257, 0.010102073, 0.009892209, 0.010341656, 0.009913533, 0.0100652445, 0.010399103, 0.010324102, 0.009802775, 0.009947953, 0.010162303, 0.0103896195, 0.009811983, 0.0100072455, 0.010166799, 0.009781828, 0.010292104, 0.010592235, 0.009920543, 0.0099706985, 0.010068643, 0.01000745, 0.0102653, 0.009799472, 0.010493014, 0.009644578, 0.009965658, 0.009841535, 0.009997667, 0.009853909, 0.009789631, 0.010116478, 0.01000498, 0.010345813, 0.010518147, 0.010017993, 0.0105595, 0.010058984, 0.010023691, 0.010451039, 0.010288504, 0.009859231, 0.009895652, 0.009885747]\n",
      "2022-02-28 17:40:10,069 : INFO : merging changes from 1204 documents into a model of 3204 documents\n",
      "2022-02-28 17:40:10,075 : INFO : topic #81 (0.010): 0.115*\"note\" + 0.098*\"compress\" + 0.079*\"\"\" + 0.053*\"inform\" + 0.044*\"item\" + 0.037*\"-\" + 0.032*\"part\" + 0.029*\"reduc\" + 0.026*\"techniqu\" + 0.024*\"basi\"\n",
      "2022-02-28 17:40:10,076 : INFO : topic #10 (0.010): 0.122*\"sort\" + 0.091*\"algorithm\" + 0.088*\"record\" + 0.064*\"(\" + 0.062*\"partit\" + 0.037*\")\" + 0.036*\"object\" + 0.035*\"access\" + 0.032*\"a1\" + 0.029*\"gener\"\n",
      "2022-02-28 17:40:10,076 : INFO : topic #73 (0.011): 0.095*\"system\" + 0.066*\",\" + 0.035*\"process\" + 0.032*\"-\" + 0.024*\"time\" + 0.023*\"comput\" + 0.023*\"data\" + 0.022*\"event\" + 0.016*\"oper\" + 0.016*\"implement\"\n",
      "2022-02-28 17:40:10,077 : INFO : topic #28 (0.011): 0.095*\",\" + 0.087*\"tree\" + 0.066*\"search\" + 0.032*\"structur\" + 0.032*\"cost\" + 0.026*\"time\" + 0.022*\"averag\" + 0.022*\"-\" + 0.020*\"node\" + 0.020*\"organ\"\n",
      "2022-02-28 17:40:10,078 : INFO : topic #41 (0.011): 0.218*\"(\" + 0.214*\"algorithm\" + 0.153*\")\" + 0.111*\"[\" + 0.055*\"integr\" + 0.044*\"])\" + 0.034*\"normal\" + 0.013*\"distribut\" + 0.012*\"random\" + 0.011*\"'\"\n",
      "2022-02-28 17:40:10,079 : INFO : topic diff=0.416594, rho=0.526900\n",
      "2022-02-28 17:40:10,087 : INFO : PROGRESS: pass 2, at document #2000/3204\n",
      "2022-02-28 17:40:11,404 : INFO : optimized alpha [0.010304667, 0.01009866, 0.009941841, 0.010455449, 0.009868512, 0.009780953, 0.00995124, 0.010102462, 0.01003968, 0.010151499, 0.009820753, 0.010166232, 0.010007297, 0.010244968, 0.010476399, 0.010076246, 0.009912639, 0.010328656, 0.010125826, 0.010158358, 0.00979751, 0.010318649, 0.010193005, 0.009959491, 0.009923232, 0.009888795, 0.009782083, 0.00996472, 0.01081204, 0.010216872, 0.010042296, 0.0100109605, 0.009917172, 0.009821076, 0.010237486, 0.010665777, 0.0106670745, 0.009972058, 0.009921877, 0.009948666, 0.0100844065, 0.012088225, 0.010095651, 0.009837475, 0.009794417, 0.010407518, 0.010335022, 0.010006867, 0.009996557, 0.009837461, 0.010023008, 0.010055096, 0.010419715, 0.010066308, 0.009953816, 0.009976747, 0.009963082, 0.010044063, 0.0099289715, 0.0102647785, 0.009854144, 0.009984599, 0.010412615, 0.010272415, 0.00986809, 0.0099235745, 0.010184283, 0.0103286505, 0.009752496, 0.010001258, 0.010215497, 0.00985208, 0.010276973, 0.010611631, 0.0100273555, 0.009992278, 0.010007244, 0.009997924, 0.0102099255, 0.009839306, 0.010669074, 0.009692052, 0.009964705, 0.009903354, 0.009968124, 0.009978669, 0.009745321, 0.010147914, 0.009973064, 0.010436498, 0.010457253, 0.010144581, 0.010503819, 0.009976304, 0.010056313, 0.010608398, 0.010267233, 0.0099058915, 0.009979482, 0.009939389]\n",
      "2022-02-28 17:40:11,411 : INFO : merging changes from 2000 documents into a model of 3204 documents\n",
      "2022-02-28 17:40:11,417 : INFO : topic #81 (0.010): 0.152*\"note\" + 0.072*\"\"\" + 0.061*\"compress\" + 0.061*\"item\" + 0.058*\"inform\" + 0.042*\"-\" + 0.040*\"part\" + 0.025*\"automat\" + 0.024*\"transmiss\" + 0.024*\"techniqu\"\n",
      "2022-02-28 17:40:11,419 : INFO : topic #26 (0.010): 0.050*\"strategi\" + 0.047*\"cpu\" + 0.043*\"multiprogram\" + 0.037*\",\" + 0.035*\"model\" + 0.026*\"systemat\" + 0.026*\"comput\" + 0.025*\"time\" + 0.024*\"demand\" + 0.023*\"characterist\"\n",
      "2022-02-28 17:40:11,421 : INFO : topic #80 (0.011): 0.163*\"algorithm\" + 0.142*\"(\" + 0.093*\")\" + 0.063*\"[\" + 0.061*\"permut\" + 0.036*\"gener\" + 0.034*\"])\" + 0.033*\"order\" + 0.032*\"equat\" + 0.031*\"solut\"\n",
      "2022-02-28 17:40:11,422 : INFO : topic #28 (0.011): 0.091*\",\" + 0.080*\"tree\" + 0.068*\"search\" + 0.031*\"structur\" + 0.029*\"cost\" + 0.025*\"time\" + 0.023*\"organ\" + 0.021*\"-\" + 0.020*\"averag\" + 0.019*\"node\"\n",
      "2022-02-28 17:40:11,423 : INFO : topic #41 (0.012): 0.235*\"(\" + 0.222*\"algorithm\" + 0.146*\")\" + 0.107*\"[\" + 0.081*\"])\" + 0.051*\"integr\" + 0.021*\"normal\" + 0.011*\"-\" + 0.010*\"coeffici\" + 0.010*\"'\"\n",
      "2022-02-28 17:40:11,425 : INFO : topic diff=0.395543, rho=0.466151\n",
      "2022-02-28 17:40:12,521 : INFO : -6.793 per-word bound, 110.9 perplexity estimate based on a held-out corpus of 1204 documents with 49783 words\n",
      "2022-02-28 17:40:12,521 : INFO : PROGRESS: pass 2, at document #3204/3204\n",
      "2022-02-28 17:40:13,282 : INFO : optimized alpha [0.010470967, 0.010306014, 0.010024724, 0.010591347, 0.009983671, 0.009837985, 0.010074635, 0.0101744225, 0.01015066, 0.010428328, 0.009914888, 0.010330578, 0.010124183, 0.010371274, 0.010715672, 0.010154865, 0.010056153, 0.010586657, 0.010262868, 0.010241494, 0.009889213, 0.010469143, 0.010345751, 0.01005221, 0.0099933585, 0.009996001, 0.00988171, 0.010047552, 0.011208434, 0.01037198, 0.010168954, 0.010207234, 0.010084632, 0.009893126, 0.010496169, 0.010992711, 0.011050783, 0.010116343, 0.010058757, 0.010047501, 0.010303512, 0.012578101, 0.010240406, 0.009966537, 0.009912545, 0.010551076, 0.010635116, 0.010069064, 0.010133887, 0.009918466, 0.0101527, 0.010170486, 0.010638124, 0.0101786945, 0.010090446, 0.0101235295, 0.010085168, 0.010201909, 0.01007291, 0.010479697, 0.009914, 0.0101393135, 0.010603885, 0.010406372, 0.009900228, 0.010040696, 0.010396651, 0.01064451, 0.009847888, 0.010132405, 0.010461666, 0.00987333, 0.0104832295, 0.01089812, 0.010183215, 0.010143726, 0.010062909, 0.010023217, 0.010328515, 0.009875547, 0.010824314, 0.009767545, 0.010079087, 0.009980737, 0.01006281, 0.010052345, 0.009804077, 0.010315285, 0.010146293, 0.010622705, 0.010740835, 0.010236227, 0.010915351, 0.010004678, 0.010223286, 0.011076714, 0.010532002, 0.009969131, 0.01006534, 0.010029773]\n",
      "2022-02-28 17:40:13,288 : INFO : merging changes from 1204 documents into a model of 3204 documents\n",
      "2022-02-28 17:40:13,294 : INFO : topic #81 (0.010): 0.161*\"note\" + 0.080*\"compress\" + 0.076*\"\"\" + 0.063*\"item\" + 0.054*\"inform\" + 0.040*\"-\" + 0.036*\"part\" + 0.034*\"reduc\" + 0.028*\"basi\" + 0.028*\"techniqu\"\n",
      "2022-02-28 17:40:13,294 : INFO : topic #86 (0.010): 0.172*\"\"\" + 0.060*\"(\" + 0.055*\",\" + 0.047*\"-\" + 0.033*\"),\" + 0.028*\"run\" + 0.026*\")\" + 0.020*\"complet\" + 0.017*\"time\" + 0.014*\"author\"\n",
      "2022-02-28 17:40:13,295 : INFO : topic #95 (0.011): 0.249*\"problem\" + 0.085*\"solut\" + 0.065*\"-\" + 0.063*\"program\" + 0.034*\",\" + 0.032*\"improv\" + 0.029*\"solv\" + 0.027*\"nonlinear\" + 0.026*\"method\" + 0.023*\"paper\"\n",
      "2022-02-28 17:40:13,296 : INFO : topic #28 (0.011): 0.100*\",\" + 0.098*\"tree\" + 0.076*\"search\" + 0.038*\"cost\" + 0.033*\"structur\" + 0.025*\"time\" + 0.023*\"averag\" + 0.021*\"node\" + 0.021*\"organ\" + 0.021*\"-\"\n",
      "2022-02-28 17:40:13,297 : INFO : topic #41 (0.013): 0.240*\"(\" + 0.232*\"algorithm\" + 0.171*\")\" + 0.113*\"[\" + 0.049*\"])\" + 0.047*\"integr\" + 0.024*\"normal\" + 0.011*\"-\" + 0.011*\"'\" + 0.010*\"distribut\"\n",
      "2022-02-28 17:40:13,298 : INFO : topic diff=0.526231, rho=0.466151\n",
      "2022-02-28 17:40:13,309 : INFO : PROGRESS: pass 3, at document #2000/3204\n",
      "2022-02-28 17:40:14,216 : INFO : optimized alpha [0.010485209, 0.010248417, 0.010082474, 0.010859024, 0.009968997, 0.009801649, 0.010052896, 0.010373964, 0.010109795, 0.010455889, 0.009980829, 0.010534142, 0.010145958, 0.010482934, 0.010696539, 0.010183855, 0.010054424, 0.010562983, 0.010252668, 0.010204114, 0.009844027, 0.010423444, 0.010465137, 0.010131907, 0.01006044, 0.009974927, 0.009855398, 0.010012478, 0.011162137, 0.01033212, 0.01013848, 0.01019115, 0.010072023, 0.009824464, 0.010463784, 0.011220931, 0.011172104, 0.010196204, 0.01005771, 0.01010298, 0.010347213, 0.01386538, 0.010260484, 0.009985425, 0.009855928, 0.01051787, 0.010646734, 0.010195741, 0.010164441, 0.009887471, 0.010150524, 0.010134163, 0.010670402, 0.010143638, 0.010069684, 0.010076889, 0.010077588, 0.010157606, 0.010120775, 0.01041762, 0.009863692, 0.01007261, 0.010628508, 0.010366106, 0.009972663, 0.010020708, 0.010424083, 0.010599567, 0.009807271, 0.010156999, 0.010542679, 0.009958894, 0.010477086, 0.010927866, 0.010317521, 0.010193017, 0.010025849, 0.010028736, 0.010287384, 0.009933377, 0.010964765, 0.009831558, 0.010099594, 0.010032834, 0.010047039, 0.010198627, 0.009806966, 0.010356361, 0.01014268, 0.010695391, 0.010701466, 0.010384673, 0.010868982, 0.009951424, 0.010271647, 0.0112540675, 0.010519444, 0.010024654, 0.010187146, 0.010117347]\n",
      "2022-02-28 17:40:14,222 : INFO : merging changes from 2000 documents into a model of 3204 documents\n",
      "2022-02-28 17:40:14,228 : INFO : topic #5 (0.010): 0.177*\"-\" + 0.056*\"parser\" + 0.040*\"heurist\" + 0.038*\"algorithm\" + 0.029*\"e2\" + 0.024*\"determinist\" + 0.023*\"alloc\" + 0.022*\"version\" + 0.020*\"gener\" + 0.019*\"point\"\n",
      "2022-02-28 17:40:14,229 : INFO : topic #86 (0.010): 0.190*\"\"\" + 0.056*\"(\" + 0.052*\",\" + 0.048*\"-\" + 0.031*\"run\" + 0.030*\"),\" + 0.023*\")\" + 0.019*\"time\" + 0.016*\"complet\" + 0.013*\"author\"\n",
      "2022-02-28 17:40:14,229 : INFO : topic #95 (0.011): 0.248*\"problem\" + 0.089*\"solut\" + 0.069*\"-\" + 0.062*\"program\" + 0.034*\",\" + 0.030*\"solv\" + 0.029*\"improv\" + 0.028*\"nonlinear\" + 0.027*\"method\" + 0.022*\"techniqu\"\n",
      "2022-02-28 17:40:14,230 : INFO : topic #35 (0.011): 0.157*\"method\" + 0.076*\"variabl\" + 0.067*\"evalu\" + 0.048*\"deriv\" + 0.035*\"compar\" + 0.034*\"function\" + 0.031*\"integr\" + 0.029*\"-\" + 0.027*\"comput\" + 0.026*\",\"\n",
      "2022-02-28 17:40:14,231 : INFO : topic #41 (0.014): 0.248*\"(\" + 0.233*\"algorithm\" + 0.162*\")\" + 0.108*\"[\" + 0.077*\"])\" + 0.044*\"integr\" + 0.017*\"normal\" + 0.011*\"-\" + 0.009*\"coeffici\" + 0.009*\"'\"\n",
      "2022-02-28 17:40:14,232 : INFO : topic diff=0.543139, rho=0.422502\n",
      "2022-02-28 17:40:15,271 : INFO : -6.709 per-word bound, 104.6 perplexity estimate based on a held-out corpus of 1204 documents with 49783 words\n",
      "2022-02-28 17:40:15,271 : INFO : PROGRESS: pass 3, at document #3204/3204\n",
      "2022-02-28 17:40:16,320 : INFO : optimized alpha [0.010632899, 0.010452462, 0.010176004, 0.011000723, 0.010099048, 0.009896238, 0.0102016125, 0.010459699, 0.010229068, 0.010744207, 0.010080307, 0.010759374, 0.010256148, 0.010620129, 0.010903015, 0.010259082, 0.010213973, 0.010807061, 0.010370537, 0.01029845, 0.0099595785, 0.010560793, 0.0106076915, 0.010237454, 0.0101382295, 0.010097803, 0.00997472, 0.010109895, 0.011504624, 0.010481271, 0.01026862, 0.010370649, 0.010232397, 0.009904956, 0.010697343, 0.011564661, 0.0115453955, 0.010342222, 0.010225565, 0.010203838, 0.010588434, 0.014513853, 0.010421666, 0.010120841, 0.009995425, 0.010652409, 0.010949751, 0.010291262, 0.010300396, 0.0099932365, 0.010312107, 0.010236166, 0.01087052, 0.010250089, 0.010205148, 0.010236085, 0.010210255, 0.010334304, 0.010277119, 0.010617848, 0.009943719, 0.010235795, 0.010810765, 0.010521639, 0.010015661, 0.010127673, 0.010674078, 0.010890483, 0.00989819, 0.010305262, 0.010806723, 0.009992251, 0.010658344, 0.011195642, 0.010489043, 0.010374374, 0.010077274, 0.0100598335, 0.010391975, 0.009976911, 0.011070372, 0.009934984, 0.010200237, 0.010113669, 0.010151683, 0.010271926, 0.009951503, 0.010534832, 0.010315723, 0.010861403, 0.010996358, 0.010511228, 0.011253845, 0.009993001, 0.010427966, 0.011747263, 0.010758691, 0.010107199, 0.010301005, 0.010213761]\n",
      "2022-02-28 17:40:16,329 : INFO : merging changes from 1204 documents into a model of 3204 documents\n",
      "2022-02-28 17:40:16,340 : INFO : topic #5 (0.010): 0.182*\"-\" + 0.072*\"parser\" + 0.056*\"heurist\" + 0.039*\"algorithm\" + 0.031*\"determinist\" + 0.027*\"alloc\" + 0.025*\"e2\" + 0.024*\"version\" + 0.023*\"significantli\" + 0.023*\"gener\"\n",
      "2022-02-28 17:40:16,341 : INFO : topic #81 (0.010): 0.182*\"note\" + 0.076*\"item\" + 0.072*\"compress\" + 0.065*\"\"\" + 0.048*\"inform\" + 0.042*\"-\" + 0.039*\"reduc\" + 0.036*\"part\" + 0.034*\"basi\" + 0.030*\"techniqu\"\n",
      "2022-02-28 17:40:16,344 : INFO : topic #36 (0.012): 0.199*\"list\" + 0.175*\"structur\" + 0.069*\"definit\" + 0.065*\"defin\" + 0.052*\"function\" + 0.041*\"concept\" + 0.040*\"class\" + 0.031*\"recurs\" + 0.031*\"algorithm\" + 0.029*\"previou\"\n",
      "2022-02-28 17:40:16,345 : INFO : topic #95 (0.012): 0.278*\"problem\" + 0.093*\"solut\" + 0.065*\"-\" + 0.061*\"program\" + 0.034*\",\" + 0.032*\"solv\" + 0.029*\"improv\" + 0.026*\"nonlinear\" + 0.023*\"method\" + 0.022*\"paper\"\n",
      "2022-02-28 17:40:16,350 : INFO : topic #41 (0.015): 0.252*\"(\" + 0.242*\"algorithm\" + 0.183*\")\" + 0.112*\"[\" + 0.049*\"])\" + 0.041*\"integr\" + 0.017*\"normal\" + 0.011*\"-\" + 0.010*\"'\" + 0.008*\"coeffici\"\n",
      "2022-02-28 17:40:16,351 : INFO : topic diff=0.659250, rho=0.422502\n",
      "2022-02-28 17:40:16,363 : INFO : PROGRESS: pass 4, at document #2000/3204\n",
      "2022-02-28 17:40:17,341 : INFO : optimized alpha [0.010652016, 0.010406485, 0.010257643, 0.01125101, 0.010103209, 0.009870965, 0.0102033075, 0.0106467195, 0.010201523, 0.010782595, 0.010141335, 0.010980972, 0.01029233, 0.010728092, 0.010886464, 0.010286144, 0.010217769, 0.010791906, 0.010363179, 0.010274635, 0.009925793, 0.010526925, 0.010764404, 0.010333337, 0.01019851, 0.010088286, 0.0099525135, 0.010087927, 0.011458623, 0.010452574, 0.010246519, 0.010365099, 0.010230227, 0.009846633, 0.010678427, 0.011798273, 0.011684263, 0.010424193, 0.0102359, 0.0102835605, 0.010654741, 0.015905518, 0.010445774, 0.010165837, 0.009951, 0.010623855, 0.010966892, 0.010417605, 0.010346601, 0.0099825915, 0.0103095425, 0.010207029, 0.01090806, 0.010232171, 0.010209671, 0.01020873, 0.010221087, 0.01029065, 0.010328935, 0.01057634, 0.009905947, 0.010190033, 0.010834853, 0.010490361, 0.010104526, 0.010121261, 0.010702063, 0.0108509185, 0.009878732, 0.010351963, 0.010906553, 0.010077924, 0.010660295, 0.011245999, 0.01064901, 0.01045786, 0.010050135, 0.010075871, 0.010358522, 0.01003878, 0.011200895, 0.010004066, 0.010235248, 0.010150117, 0.010149172, 0.010418475, 0.010008642, 0.010578557, 0.0103382105, 0.010940922, 0.010966216, 0.010686691, 0.011206902, 0.009955313, 0.010478433, 0.011959466, 0.010751753, 0.010180581, 0.010434535, 0.010327241]\n",
      "2022-02-28 17:40:17,347 : INFO : merging changes from 2000 documents into a model of 3204 documents\n",
      "2022-02-28 17:40:17,353 : INFO : topic #33 (0.010): 0.057*\"altern\" + 0.038*\"model\" + 0.032*\",\" + 0.032*\"-\" + 0.030*\"rectangular\" + 0.029*\"result\" + 0.029*\"load\" + 0.026*\"determin\" + 0.024*\"time\" + 0.022*\"comput\"\n",
      "2022-02-28 17:40:17,354 : INFO : topic #68 (0.010): 0.072*\"contour\" + 0.069*\"properti\" + 0.060*\"techniqu\" + 0.038*\"topolog\" + 0.034*\"geometr\" + 0.031*\"concurr\" + 0.027*\"problem\" + 0.027*\"map\" + 0.027*\"line\" + 0.026*\"coordin\"\n",
      "2022-02-28 17:40:17,355 : INFO : topic #35 (0.012): 0.178*\"method\" + 0.078*\"variabl\" + 0.069*\"evalu\" + 0.044*\"deriv\" + 0.039*\"compar\" + 0.037*\"'\" + 0.032*\"integr\" + 0.030*\"function\" + 0.027*\"comput\" + 0.027*\",\"\n",
      "2022-02-28 17:40:17,355 : INFO : topic #95 (0.012): 0.275*\"problem\" + 0.096*\"solut\" + 0.068*\"-\" + 0.061*\"program\" + 0.034*\"solv\" + 0.033*\",\" + 0.027*\"improv\" + 0.027*\"nonlinear\" + 0.024*\"method\" + 0.021*\"techniqu\"\n",
      "2022-02-28 17:40:17,356 : INFO : topic #41 (0.016): 0.255*\"(\" + 0.241*\"algorithm\" + 0.171*\")\" + 0.109*\"[\" + 0.074*\"])\" + 0.040*\"integr\" + 0.014*\"normal\" + 0.011*\"-\" + 0.009*\"coeffici\" + 0.009*\"'\"\n",
      "2022-02-28 17:40:17,357 : INFO : topic diff=0.642584, rho=0.389191\n",
      "2022-02-28 17:40:18,396 : INFO : -6.654 per-word bound, 100.7 perplexity estimate based on a held-out corpus of 1204 documents with 49783 words\n",
      "2022-02-28 17:40:18,397 : INFO : PROGRESS: pass 4, at document #3204/3204\n",
      "2022-02-28 17:40:19,275 : INFO : optimized alpha [0.010799535, 0.0106064705, 0.010350884, 0.011385188, 0.010247422, 0.00997837, 0.010345023, 0.010742101, 0.010322316, 0.011074234, 0.0102335205, 0.011250396, 0.010411187, 0.010876402, 0.011065581, 0.010372611, 0.010389379, 0.011026659, 0.010459196, 0.010365841, 0.010046281, 0.010654451, 0.010899615, 0.010454478, 0.010267328, 0.010228964, 0.010079914, 0.010201532, 0.011764172, 0.010597997, 0.010367393, 0.010542113, 0.010389248, 0.00993461, 0.010906742, 0.012138965, 0.012040973, 0.0105800675, 0.010412235, 0.010400474, 0.010897531, 0.016607441, 0.010619317, 0.010331188, 0.010080731, 0.010745398, 0.011272596, 0.01053285, 0.010485984, 0.010106997, 0.010442915, 0.010301976, 0.011097974, 0.010334587, 0.010359035, 0.010376776, 0.010371011, 0.010458306, 0.0104810875, 0.01076267, 0.009996904, 0.010355426, 0.010983372, 0.010641958, 0.010157033, 0.010240315, 0.010974579, 0.011144319, 0.009969796, 0.010489736, 0.011179107, 0.010118625, 0.010842663, 0.011482018, 0.0108363405, 0.010660727, 0.010111584, 0.010108629, 0.010472839, 0.0100824665, 0.011272342, 0.010116065, 0.010348589, 0.010211911, 0.0102629885, 0.010492338, 0.010215002, 0.010758341, 0.010502638, 0.011112713, 0.011252932, 0.01083488, 0.0115686, 0.010030836, 0.010620177, 0.01248324, 0.010957307, 0.010286741, 0.010550006, 0.010412805]\n",
      "2022-02-28 17:40:19,280 : INFO : merging changes from 1204 documents into a model of 3204 documents\n",
      "2022-02-28 17:40:19,286 : INFO : topic #33 (0.010): 0.072*\"altern\" + 0.035*\"model\" + 0.034*\"rectangular\" + 0.034*\"result\" + 0.033*\"load\" + 0.032*\",\" + 0.031*\"-\" + 0.025*\"matric\" + 0.024*\"time\" + 0.024*\"column\"\n",
      "2022-02-28 17:40:19,287 : INFO : topic #68 (0.010): 0.082*\"properti\" + 0.078*\"contour\" + 0.061*\"techniqu\" + 0.040*\"geometr\" + 0.036*\"concurr\" + 0.034*\"topolog\" + 0.028*\"line\" + 0.027*\"map\" + 0.026*\"demonstr\" + 0.026*\"problem\"\n",
      "2022-02-28 17:40:19,288 : INFO : topic #35 (0.012): 0.197*\"method\" + 0.081*\"variabl\" + 0.060*\"evalu\" + 0.048*\"compar\" + 0.045*\"'\" + 0.041*\"deriv\" + 0.028*\",\" + 0.027*\"integr\" + 0.025*\"-\" + 0.024*\"comput\"\n",
      "2022-02-28 17:40:19,289 : INFO : topic #95 (0.012): 0.301*\"problem\" + 0.098*\"solut\" + 0.064*\"-\" + 0.060*\"program\" + 0.036*\"solv\" + 0.033*\",\" + 0.028*\"improv\" + 0.025*\"nonlinear\" + 0.022*\"method\" + 0.021*\"paper\"\n",
      "2022-02-28 17:40:19,290 : INFO : topic #41 (0.017): 0.259*\"(\" + 0.247*\"algorithm\" + 0.189*\")\" + 0.112*\"[\" + 0.050*\"])\" + 0.037*\"integr\" + 0.013*\"normal\" + 0.011*\"-\" + 0.009*\"'\" + 0.008*\"coeffici\"\n",
      "2022-02-28 17:40:19,291 : INFO : topic diff=0.708623, rho=0.389191\n",
      "2022-02-28 17:40:19,300 : INFO : PROGRESS: pass 5, at document #2000/3204\n",
      "2022-02-28 17:40:20,450 : INFO : optimized alpha [0.010830938, 0.0105684055, 0.010442995, 0.011619275, 0.010269823, 0.009962215, 0.010354071, 0.010923135, 0.010306146, 0.011112634, 0.010294521, 0.011537015, 0.010454451, 0.010985923, 0.011051597, 0.010411383, 0.010399848, 0.011013089, 0.010458333, 0.01035917, 0.01001845, 0.0106248455, 0.011061661, 0.010559829, 0.010342639, 0.010240412, 0.010079328, 0.010184834, 0.01171428, 0.010580758, 0.010361942, 0.010536333, 0.01039988, 0.009891874, 0.010895654, 0.0123862615, 0.012177964, 0.010666563, 0.010428831, 0.010503953, 0.010967026, 0.018074043, 0.0106606055, 0.010374914, 0.010044836, 0.010706929, 0.011305073, 0.010663485, 0.010538733, 0.010113623, 0.010444216, 0.010282786, 0.011122513, 0.010333301, 0.0103819, 0.010354518, 0.010390207, 0.010420919, 0.010534969, 0.010733052, 0.0099694915, 0.010316002, 0.011015527, 0.010631935, 0.010251822, 0.010238069, 0.011013234, 0.011113274, 0.009961087, 0.010537141, 0.011290808, 0.010214186, 0.010851685, 0.011534638, 0.011017262, 0.010752326, 0.010098163, 0.010137417, 0.010449646, 0.010153676, 0.01138902, 0.010188221, 0.0103832325, 0.010249997, 0.010264439, 0.010638375, 0.010292454, 0.010804676, 0.010534757, 0.011194851, 0.011245441, 0.011042274, 0.011521303, 0.0100056045, 0.010667273, 0.0127177965, 0.010957843, 0.010376259, 0.010701116, 0.010531249]\n",
      "2022-02-28 17:40:20,456 : INFO : merging changes from 2000 documents into a model of 3204 documents\n",
      "2022-02-28 17:40:20,462 : INFO : topic #33 (0.010): 0.066*\"altern\" + 0.034*\"load\" + 0.034*\"model\" + 0.033*\",\" + 0.032*\"rectangular\" + 0.032*\"result\" + 0.031*\"-\" + 0.026*\"determin\" + 0.025*\"time\" + 0.022*\"matric\"\n",
      "2022-02-28 17:40:20,463 : INFO : topic #5 (0.010): 0.195*\"-\" + 0.063*\"parser\" + 0.050*\"heurist\" + 0.035*\"algorithm\" + 0.028*\"version\" + 0.028*\"e2\" + 0.027*\"gener\" + 0.026*\"alloc\" + 0.024*\"determinist\" + 0.020*\"significantli\"\n",
      "2022-02-28 17:40:20,464 : INFO : topic #35 (0.012): 0.193*\"method\" + 0.079*\"variabl\" + 0.069*\"evalu\" + 0.045*\"'\" + 0.042*\"deriv\" + 0.041*\"compar\" + 0.032*\"integr\" + 0.028*\",\" + 0.028*\"comput\" + 0.027*\"function\"\n",
      "2022-02-28 17:40:20,466 : INFO : topic #95 (0.013): 0.298*\"problem\" + 0.099*\"solut\" + 0.067*\"-\" + 0.060*\"program\" + 0.037*\"solv\" + 0.032*\",\" + 0.026*\"improv\" + 0.026*\"nonlinear\" + 0.023*\"method\" + 0.020*\"paper\"\n",
      "2022-02-28 17:40:20,468 : INFO : topic #41 (0.018): 0.257*\"(\" + 0.247*\"algorithm\" + 0.174*\")\" + 0.111*\"[\" + 0.073*\"])\" + 0.038*\"integr\" + 0.011*\"normal\" + 0.011*\"-\" + 0.009*\"coeffici\" + 0.008*\"'\"\n",
      "2022-02-28 17:40:20,469 : INFO : topic diff=0.647277, rho=0.362690\n",
      "2022-02-28 17:40:21,653 : INFO : -6.607 per-word bound, 97.5 perplexity estimate based on a held-out corpus of 1204 documents with 49783 words\n",
      "2022-02-28 17:40:21,653 : INFO : PROGRESS: pass 5, at document #3204/3204\n",
      "2022-02-28 17:40:22,708 : INFO : optimized alpha [0.0109795155, 0.010769474, 0.010552408, 0.011744271, 0.010414914, 0.010084349, 0.010503338, 0.011024942, 0.010419736, 0.0113928225, 0.010371396, 0.011893396, 0.01059142, 0.011128628, 0.011213448, 0.010502109, 0.010561391, 0.011247882, 0.010548684, 0.010457587, 0.0101379305, 0.010767535, 0.011188056, 0.0106798, 0.010419378, 0.010379081, 0.010239253, 0.010294792, 0.011981495, 0.010717354, 0.0104693, 0.01070931, 0.010555788, 0.009989812, 0.0111207245, 0.012742446, 0.0125443265, 0.010826, 0.010598042, 0.010645588, 0.011190197, 0.0187716, 0.010849761, 0.0105338525, 0.010175924, 0.010817896, 0.011612763, 0.010784396, 0.010692072, 0.010239909, 0.01056652, 0.010368979, 0.01129789, 0.010442127, 0.010522457, 0.0105189085, 0.010546957, 0.010581614, 0.010687621, 0.01090517, 0.010061188, 0.010481199, 0.011158457, 0.010800445, 0.010316192, 0.010353025, 0.011322034, 0.011390986, 0.010049788, 0.010676378, 0.011563559, 0.010267673, 0.011023313, 0.0117790215, 0.011210828, 0.010950471, 0.010156374, 0.010171724, 0.010557154, 0.010213018, 0.0114517035, 0.010307821, 0.010524329, 0.010308126, 0.010380825, 0.010722961, 0.010534733, 0.010964259, 0.010715145, 0.01137315, 0.011541027, 0.01124113, 0.011857375, 0.010086148, 0.010800292, 0.013296043, 0.011148178, 0.010478909, 0.010831642, 0.010620607]\n",
      "2022-02-28 17:40:22,715 : INFO : merging changes from 1204 documents into a model of 3204 documents\n",
      "2022-02-28 17:40:22,721 : INFO : topic #33 (0.010): 0.079*\"altern\" + 0.036*\"result\" + 0.036*\"load\" + 0.036*\"rectangular\" + 0.033*\",\" + 0.030*\"-\" + 0.030*\"model\" + 0.025*\"matric\" + 0.025*\"column\" + 0.024*\"time\"\n",
      "2022-02-28 17:40:22,723 : INFO : topic #60 (0.010): 0.069*\"resourc\" + 0.046*\"stack\" + 0.045*\"transact\" + 0.037*\"mathemat\" + 0.030*\"procedur\" + 0.029*\"suggest\" + 0.027*\"task\" + 0.027*\"avoid\" + 0.024*\"approach\" + 0.023*\"util\"\n",
      "2022-02-28 17:40:22,724 : INFO : topic #35 (0.013): 0.212*\"method\" + 0.082*\"variabl\" + 0.061*\"evalu\" + 0.050*\"'\" + 0.050*\"compar\" + 0.039*\"deriv\" + 0.029*\",\" + 0.027*\"integr\" + 0.025*\"comput\" + 0.023*\"-\"\n",
      "2022-02-28 17:40:22,725 : INFO : topic #95 (0.013): 0.318*\"problem\" + 0.099*\"solut\" + 0.064*\"-\" + 0.059*\"program\" + 0.039*\"solv\" + 0.033*\",\" + 0.027*\"improv\" + 0.025*\"nonlinear\" + 0.021*\"method\" + 0.020*\"paper\"\n",
      "2022-02-28 17:40:22,726 : INFO : topic #41 (0.019): 0.258*\"(\" + 0.253*\"algorithm\" + 0.188*\")\" + 0.116*\"[\" + 0.052*\"])\" + 0.036*\"integr\" + 0.011*\"normal\" + 0.011*\"-\" + 0.009*\"'\" + 0.008*\"coeffici\"\n",
      "2022-02-28 17:40:22,728 : INFO : topic diff=0.671118, rho=0.362690\n",
      "2022-02-28 17:40:22,735 : INFO : PROGRESS: pass 6, at document #2000/3204\n",
      "2022-02-28 17:40:23,817 : INFO : optimized alpha [0.011018275, 0.010732705, 0.010645355, 0.011972564, 0.010432171, 0.010074276, 0.01052613, 0.0112072965, 0.010404595, 0.011437684, 0.010432848, 0.01228964, 0.010646772, 0.011234545, 0.011205764, 0.010546156, 0.010581647, 0.011243505, 0.010546363, 0.010455128, 0.010122176, 0.010746912, 0.011354138, 0.0107817, 0.010489047, 0.010394967, 0.0102453455, 0.010280935, 0.0119306715, 0.010706614, 0.010467988, 0.010703264, 0.010574455, 0.009956847, 0.011114607, 0.012985146, 0.012682571, 0.010913427, 0.0106168585, 0.010771485, 0.011266912, 0.020222742, 0.010886346, 0.0105766915, 0.010145495, 0.010778157, 0.0116556315, 0.010914372, 0.010754636, 0.010256682, 0.010567738, 0.010356692, 0.011314672, 0.010449932, 0.01055101, 0.0104991775, 0.010579181, 0.010555, 0.0107365055, 0.01087492, 0.01004606, 0.010456202, 0.011194314, 0.01079433, 0.010427352, 0.010357972, 0.011368575, 0.011361681, 0.010043631, 0.010733924, 0.01169108, 0.010376119, 0.01102943, 0.011842369, 0.011393847, 0.011048377, 0.010151472, 0.010201265, 0.010542734, 0.010285895, 0.011564398, 0.010383264, 0.010567638, 0.010344471, 0.010383942, 0.010865773, 0.010620452, 0.011018996, 0.01073958, 0.011454535, 0.011541988, 0.0114747165, 0.0118119195, 0.010071614, 0.010846454, 0.013529329, 0.0111440895, 0.010576482, 0.010983249, 0.010738736]\n",
      "2022-02-28 17:40:23,824 : INFO : merging changes from 2000 documents into a model of 3204 documents\n",
      "2022-02-28 17:40:23,832 : INFO : topic #33 (0.010): 0.073*\"altern\" + 0.037*\"load\" + 0.034*\",\" + 0.034*\"result\" + 0.034*\"rectangular\" + 0.030*\"model\" + 0.030*\"-\" + 0.027*\"determin\" + 0.027*\"yield\" + 0.025*\"time\"\n",
      "2022-02-28 17:40:23,832 : INFO : topic #60 (0.010): 0.061*\"resourc\" + 0.044*\"stack\" + 0.044*\"mathemat\" + 0.036*\"transact\" + 0.029*\"procedur\" + 0.026*\"suggest\" + 0.025*\"avoid\" + 0.023*\"comput\" + 0.023*\"task\" + 0.022*\"util\"\n",
      "2022-02-28 17:40:23,834 : INFO : topic #35 (0.013): 0.206*\"method\" + 0.080*\"variabl\" + 0.070*\"evalu\" + 0.050*\"'\" + 0.044*\"compar\" + 0.040*\"deriv\" + 0.031*\"integr\" + 0.028*\",\" + 0.028*\"comput\" + 0.024*\"-\"\n",
      "2022-02-28 17:40:23,836 : INFO : topic #95 (0.014): 0.315*\"problem\" + 0.100*\"solut\" + 0.066*\"-\" + 0.059*\"program\" + 0.041*\"solv\" + 0.032*\",\" + 0.025*\"improv\" + 0.025*\"nonlinear\" + 0.022*\"method\" + 0.020*\"paper\"\n",
      "2022-02-28 17:40:23,838 : INFO : topic #41 (0.020): 0.255*\"(\" + 0.251*\"algorithm\" + 0.171*\")\" + 0.115*\"[\" + 0.074*\"])\" + 0.038*\"integr\" + 0.011*\"-\" + 0.010*\"normal\" + 0.009*\"coeffici\" + 0.008*\"'\"\n",
      "2022-02-28 17:40:23,839 : INFO : topic diff=0.592640, rho=0.340958\n",
      "2022-02-28 17:40:24,971 : INFO : -6.576 per-word bound, 95.4 perplexity estimate based on a held-out corpus of 1204 documents with 49783 words\n",
      "2022-02-28 17:40:24,971 : INFO : PROGRESS: pass 6, at document #3204/3204\n",
      "2022-02-28 17:40:25,876 : INFO : optimized alpha [0.011165569, 0.010929884, 0.010748853, 0.012093245, 0.010593765, 0.010198823, 0.010667959, 0.011309275, 0.010521263, 0.011728772, 0.010496567, 0.012782384, 0.010788778, 0.0113762645, 0.011375437, 0.010635011, 0.010738044, 0.011476635, 0.010632155, 0.010551391, 0.010235411, 0.010906891, 0.011466694, 0.010892126, 0.010567459, 0.010532472, 0.0103945, 0.010388113, 0.012181382, 0.010830064, 0.01057579, 0.010864421, 0.010722547, 0.010058258, 0.011325368, 0.013362122, 0.013049742, 0.011064726, 0.010786615, 0.010930536, 0.011476519, 0.020727715, 0.011072376, 0.010739493, 0.010275641, 0.010892928, 0.0119703105, 0.01102251, 0.0109125525, 0.010393908, 0.0106684575, 0.0104355905, 0.0114777535, 0.01055605, 0.010684332, 0.01066711, 0.010749114, 0.010713462, 0.010887481, 0.011041411, 0.010153203, 0.010625181, 0.011336259, 0.010960519, 0.010511538, 0.010466973, 0.011694382, 0.011626471, 0.010136413, 0.010890667, 0.011989082, 0.010435289, 0.011176423, 0.012085851, 0.011584702, 0.011249835, 0.010206928, 0.010225245, 0.010671996, 0.010350724, 0.01161658, 0.010500261, 0.01070154, 0.010399592, 0.010500244, 0.010957715, 0.01088593, 0.011176733, 0.010901857, 0.011640116, 0.011831145, 0.011706527, 0.012136224, 0.0101626525, 0.0109786065, 0.01413949, 0.011327948, 0.010679492, 0.01112228, 0.010838173]\n",
      "2022-02-28 17:40:25,883 : INFO : merging changes from 1204 documents into a model of 3204 documents\n",
      "2022-02-28 17:40:25,890 : INFO : topic #33 (0.010): 0.086*\"altern\" + 0.038*\"result\" + 0.038*\"load\" + 0.037*\"rectangular\" + 0.035*\",\" + 0.030*\"-\" + 0.029*\"yield\" + 0.027*\"model\" + 0.026*\"column\" + 0.025*\"determin\"\n",
      "2022-02-28 17:40:25,891 : INFO : topic #68 (0.010): 0.095*\"properti\" + 0.079*\"contour\" + 0.076*\"techniqu\" + 0.039*\"geometr\" + 0.037*\"concurr\" + 0.037*\"topolog\" + 0.027*\"line\" + 0.027*\"demonstr\" + 0.027*\"string\" + 0.026*\"simplifi\"\n",
      "2022-02-28 17:40:25,892 : INFO : topic #35 (0.013): 0.225*\"method\" + 0.082*\"variabl\" + 0.063*\"evalu\" + 0.053*\"'\" + 0.051*\"compar\" + 0.037*\"deriv\" + 0.029*\",\" + 0.027*\"integr\" + 0.025*\"comput\" + 0.022*\"requir\"\n",
      "2022-02-28 17:40:25,894 : INFO : topic #95 (0.014): 0.332*\"problem\" + 0.100*\"solut\" + 0.063*\"-\" + 0.058*\"program\" + 0.042*\"solv\" + 0.032*\",\" + 0.025*\"improv\" + 0.024*\"nonlinear\" + 0.020*\"method\" + 0.020*\"paper\"\n",
      "2022-02-28 17:40:25,894 : INFO : topic #41 (0.021): 0.254*\"algorithm\" + 0.254*\"(\" + 0.180*\")\" + 0.123*\"[\" + 0.056*\"])\" + 0.037*\"integr\" + 0.011*\"-\" + 0.011*\"normal\" + 0.009*\"'\" + 0.008*\"coeffici\"\n",
      "2022-02-28 17:40:25,896 : INFO : topic diff=0.599904, rho=0.340958\n",
      "2022-02-28 17:40:25,904 : INFO : PROGRESS: pass 7, at document #2000/3204\n",
      "2022-02-28 17:40:26,919 : INFO : optimized alpha [0.011200456, 0.01089772, 0.010843063, 0.01230937, 0.010616751, 0.010204, 0.010694713, 0.011479111, 0.010513819, 0.011783655, 0.0105553195, 0.013363482, 0.010850036, 0.011479331, 0.011373302, 0.010671842, 0.01075867, 0.011480633, 0.010632007, 0.010559622, 0.010218843, 0.010895875, 0.011620688, 0.010993076, 0.010644231, 0.010556009, 0.010403355, 0.010375019, 0.012143506, 0.010825152, 0.010574654, 0.010863479, 0.010736569, 0.010033758, 0.0113167865, 0.0136017995, 0.013194072, 0.011156959, 0.010805807, 0.011061989, 0.011562194, 0.022062702, 0.011110161, 0.01078512, 0.01025497, 0.010857403, 0.012015557, 0.011148896, 0.010979075, 0.010418102, 0.010674926, 0.010424407, 0.011498948, 0.010566983, 0.010709568, 0.010651278, 0.01078985, 0.010689665, 0.010935542, 0.011014043, 0.010140641, 0.01061656, 0.011375714, 0.010961333, 0.010636662, 0.010471721, 0.011750577, 0.01160457, 0.010129115, 0.010948818, 0.01212471, 0.010549357, 0.01118569, 0.012157591, 0.011783555, 0.011353985, 0.010209544, 0.010260646, 0.010666964, 0.010448848, 0.011716635, 0.010573824, 0.010742709, 0.0104395095, 0.010510018, 0.011112418, 0.010981623, 0.01123592, 0.01092472, 0.01172115, 0.011844029, 0.0119481115, 0.012096407, 0.010150724, 0.011011665, 0.014381742, 0.011325217, 0.010784955, 0.011276873, 0.0109566245]\n",
      "2022-02-28 17:40:26,926 : INFO : merging changes from 2000 documents into a model of 3204 documents\n",
      "2022-02-28 17:40:26,934 : INFO : topic #33 (0.010): 0.078*\"altern\" + 0.039*\"load\" + 0.036*\"result\" + 0.035*\",\" + 0.034*\"rectangular\" + 0.031*\"yield\" + 0.030*\"-\" + 0.030*\"determin\" + 0.028*\"model\" + 0.024*\"form\"\n",
      "2022-02-28 17:40:26,935 : INFO : topic #60 (0.010): 0.065*\"resourc\" + 0.045*\"mathemat\" + 0.044*\"stack\" + 0.036*\"transact\" + 0.034*\"procedur\" + 0.030*\"avoid\" + 0.027*\"suggest\" + 0.026*\"task\" + 0.025*\"approach\" + 0.023*\"util\"\n",
      "2022-02-28 17:40:26,937 : INFO : topic #35 (0.014): 0.219*\"method\" + 0.080*\"variabl\" + 0.071*\"evalu\" + 0.052*\"'\" + 0.046*\"compar\" + 0.039*\"deriv\" + 0.031*\"integr\" + 0.029*\",\" + 0.028*\"comput\" + 0.022*\"-\"\n",
      "2022-02-28 17:40:26,938 : INFO : topic #95 (0.014): 0.328*\"problem\" + 0.101*\"solut\" + 0.066*\"-\" + 0.058*\"program\" + 0.044*\"solv\" + 0.032*\",\" + 0.025*\"nonlinear\" + 0.024*\"improv\" + 0.021*\"method\" + 0.020*\"paper\"\n",
      "2022-02-28 17:40:26,940 : INFO : topic #41 (0.022): 0.250*\"algorithm\" + 0.249*\"(\" + 0.160*\")\" + 0.125*\"[\" + 0.079*\"])\" + 0.040*\"integr\" + 0.012*\"-\" + 0.010*\"normal\" + 0.009*\"coeffici\" + 0.009*\"'\"\n",
      "2022-02-28 17:40:26,940 : INFO : topic diff=0.522815, rho=0.322715\n",
      "2022-02-28 17:40:28,068 : INFO : -6.549 per-word bound, 93.7 perplexity estimate based on a held-out corpus of 1204 documents with 49783 words\n",
      "2022-02-28 17:40:28,069 : INFO : PROGRESS: pass 7, at document #3204/3204\n",
      "2022-02-28 17:40:29,064 : INFO : optimized alpha [0.011338001, 0.011089291, 0.010950233, 0.012426798, 0.010779942, 0.010333997, 0.01083897, 0.0115971975, 0.010630884, 0.012067531, 0.01061597, 0.014020378, 0.010991512, 0.011611486, 0.011544767, 0.010762193, 0.010916757, 0.011697994, 0.0107111065, 0.010651519, 0.010332488, 0.01104585, 0.01171802, 0.011110023, 0.0107159205, 0.010693159, 0.010557314, 0.010488634, 0.012383529, 0.010945961, 0.010683153, 0.011017526, 0.01087505, 0.010125093, 0.01152144, 0.013968182, 0.013549827, 0.011310504, 0.010959472, 0.011217142, 0.011766395, 0.022434834, 0.011285064, 0.01095255, 0.010387512, 0.010972989, 0.012315899, 0.01125781, 0.011141888, 0.010565997, 0.010765298, 0.0105111245, 0.011654817, 0.010671106, 0.010839804, 0.010814769, 0.010949587, 0.010843883, 0.01107981, 0.011176169, 0.010259389, 0.010798465, 0.011514256, 0.0111260945, 0.010745138, 0.0105814, 0.012072176, 0.011858684, 0.010231448, 0.011122569, 0.012416303, 0.01059683, 0.011332094, 0.0124149965, 0.011985614, 0.011541247, 0.010260006, 0.010295037, 0.010796249, 0.010513176, 0.011765814, 0.010682506, 0.010879279, 0.010494951, 0.010623878, 0.01120552, 0.011259048, 0.011389608, 0.011085849, 0.011892308, 0.012151359, 0.012197073, 0.012404646, 0.010257025, 0.011143682, 0.014988128, 0.011497923, 0.010900415, 0.011406449, 0.011060014]\n",
      "2022-02-28 17:40:29,072 : INFO : merging changes from 1204 documents into a model of 3204 documents\n",
      "2022-02-28 17:40:29,078 : INFO : topic #33 (0.010): 0.093*\"altern\" + 0.041*\"result\" + 0.040*\"load\" + 0.038*\"rectangular\" + 0.035*\",\" + 0.032*\"yield\" + 0.029*\"-\" + 0.028*\"determin\" + 0.027*\"column\" + 0.026*\"model\"\n",
      "2022-02-28 17:40:29,079 : INFO : topic #76 (0.010): 0.113*\",\" + 0.045*\"comput\" + 0.033*\"-\" + 0.025*\"3\" + 0.021*\"success\" + 0.021*\"center\" + 0.018*\"man\" + 0.017*\"consid\" + 0.017*\"problem\" + 0.016*\"situat\"\n",
      "2022-02-28 17:40:29,080 : INFO : topic #11 (0.014): 0.345*\"(\" + 0.308*\")\" + 0.092*\"algorithm\" + 0.038*\"1\" + 0.031*\"-\" + 0.029*\"invers\" + 0.029*\"3\" + 0.026*\"complex\" + 0.016*\"number\" + 0.015*\"recurs\"\n",
      "2022-02-28 17:40:29,083 : INFO : topic #95 (0.015): 0.343*\"problem\" + 0.099*\"solut\" + 0.063*\"-\" + 0.056*\"program\" + 0.045*\"solv\" + 0.032*\",\" + 0.024*\"improv\" + 0.024*\"nonlinear\" + 0.020*\"paper\" + 0.020*\"method\"\n",
      "2022-02-28 17:40:29,085 : INFO : topic #41 (0.022): 0.254*\"algorithm\" + 0.247*\"(\" + 0.168*\")\" + 0.134*\"[\" + 0.061*\"])\" + 0.040*\"integr\" + 0.011*\"-\" + 0.010*\"normal\" + 0.009*\"'\" + 0.009*\"coeffici\"\n",
      "2022-02-28 17:40:29,086 : INFO : topic diff=0.524459, rho=0.322715\n",
      "2022-02-28 17:40:29,093 : INFO : PROGRESS: pass 8, at document #2000/3204\n",
      "2022-02-28 17:40:30,135 : INFO : optimized alpha [0.011371158, 0.011066324, 0.011042563, 0.01263789, 0.010803196, 0.010340423, 0.010876213, 0.0117647275, 0.010635284, 0.012113516, 0.010670816, 0.014915145, 0.011055261, 0.01170691, 0.01154408, 0.010800833, 0.010941192, 0.011699008, 0.010711301, 0.010661215, 0.010321523, 0.011043691, 0.01187006, 0.011210463, 0.010788023, 0.010721978, 0.010573624, 0.010482608, 0.01234998, 0.010941251, 0.010685458, 0.011011107, 0.010886558, 0.010105136, 0.01151411, 0.014220566, 0.013700791, 0.011400736, 0.010982521, 0.0113543905, 0.0118519645, 0.02341893, 0.011327762, 0.01099767, 0.010367628, 0.010939177, 0.012371144, 0.011381302, 0.011207169, 0.010592064, 0.010774993, 0.010499104, 0.011671125, 0.010689899, 0.010872212, 0.01080926, 0.010988317, 0.0108257495, 0.011129045, 0.011154823, 0.010253689, 0.0107980035, 0.011551818, 0.011124806, 0.010880555, 0.010594057, 0.012130367, 0.01183632, 0.010224536, 0.011186634, 0.012564114, 0.010714817, 0.011345927, 0.012506284, 0.012182352, 0.011648472, 0.01026934, 0.01033424, 0.010798074, 0.01061898, 0.0118563315, 0.010751501, 0.010920164, 0.010533456, 0.010631571, 0.011359988, 0.011357798, 0.011453218, 0.011119363, 0.011982404, 0.012177041, 0.0124532785, 0.012364356, 0.010253712, 0.0111751985, 0.015242194, 0.011496603, 0.011008669, 0.011555688, 0.011185981]\n",
      "2022-02-28 17:40:30,142 : INFO : merging changes from 2000 documents into a model of 3204 documents\n",
      "2022-02-28 17:40:30,149 : INFO : topic #33 (0.010): 0.086*\"altern\" + 0.041*\"load\" + 0.038*\"result\" + 0.036*\"rectangular\" + 0.036*\",\" + 0.034*\"yield\" + 0.031*\"determin\" + 0.030*\"-\" + 0.026*\"form\" + 0.025*\"model\"\n",
      "2022-02-28 17:40:30,151 : INFO : topic #76 (0.010): 0.113*\",\" + 0.049*\"comput\" + 0.034*\"-\" + 0.026*\"center\" + 0.024*\"3\" + 0.019*\"success\" + 0.017*\"man\" + 0.017*\"paper\" + 0.016*\"4\" + 0.016*\"problem\"\n",
      "2022-02-28 17:40:30,153 : INFO : topic #11 (0.015): 0.346*\"(\" + 0.315*\")\" + 0.112*\"algorithm\" + 0.033*\"1\" + 0.032*\"invers\" + 0.029*\"-\" + 0.024*\"3\" + 0.022*\"complex\" + 0.014*\"number\" + 0.012*\"matrix\"\n",
      "2022-02-28 17:40:30,154 : INFO : topic #95 (0.015): 0.340*\"problem\" + 0.100*\"solut\" + 0.065*\"-\" + 0.055*\"program\" + 0.046*\"solv\" + 0.031*\",\" + 0.024*\"nonlinear\" + 0.024*\"improv\" + 0.021*\"method\" + 0.020*\"paper\"\n",
      "2022-02-28 17:40:30,156 : INFO : topic #41 (0.023): 0.245*\"algorithm\" + 0.239*\"(\" + 0.141*\"[\" + 0.139*\")\" + 0.088*\"])\" + 0.045*\"integr\" + 0.012*\"-\" + 0.010*\"coeffici\" + 0.010*\"normal\" + 0.009*\"'\"\n",
      "2022-02-28 17:40:30,157 : INFO : topic diff=0.456142, rho=0.307119\n",
      "2022-02-28 17:40:31,285 : INFO : -6.530 per-word bound, 92.4 perplexity estimate based on a held-out corpus of 1204 documents with 49783 words\n",
      "2022-02-28 17:40:31,286 : INFO : PROGRESS: pass 8, at document #3204/3204\n",
      "2022-02-28 17:40:32,202 : INFO : optimized alpha [0.0115002245, 0.011259058, 0.011142563, 0.012746407, 0.010957469, 0.01045995, 0.011017662, 0.0118745575, 0.010758573, 0.012400899, 0.010731683, 0.01573901, 0.011191154, 0.011836671, 0.011717985, 0.010884695, 0.011087644, 0.011911233, 0.010795518, 0.010749362, 0.010438547, 0.011190569, 0.011959661, 0.01132247, 0.010859354, 0.010862075, 0.01073002, 0.0105889505, 0.012584115, 0.011057223, 0.010797738, 0.011159113, 0.0110222595, 0.010203195, 0.011710904, 0.01460709, 0.014057357, 0.011554044, 0.011138676, 0.011515487, 0.012051798, 0.02361242, 0.011493109, 0.011158868, 0.010505536, 0.011061527, 0.01268449, 0.011488437, 0.011386674, 0.010734339, 0.010856162, 0.010582412, 0.011820765, 0.010795285, 0.011005623, 0.010969143, 0.011141939, 0.010982241, 0.011267691, 0.011313539, 0.010373019, 0.010992705, 0.011690743, 0.011297479, 0.011012227, 0.010707462, 0.012471086, 0.012072138, 0.010328132, 0.011374167, 0.012844238, 0.010768143, 0.011495334, 0.012778155, 0.012383667, 0.01182589, 0.010326017, 0.010372757, 0.01092229, 0.01068581, 0.011903233, 0.010855679, 0.011054155, 0.010586718, 0.010740921, 0.011457467, 0.011647952, 0.011600887, 0.011277179, 0.012156042, 0.01249074, 0.01270129, 0.012658834, 0.010355858, 0.011313214, 0.01585835, 0.011662505, 0.011105144, 0.011691633, 0.011302058]\n",
      "2022-02-28 17:40:32,208 : INFO : merging changes from 1204 documents into a model of 3204 documents\n",
      "2022-02-28 17:40:32,214 : INFO : topic #33 (0.010): 0.099*\"altern\" + 0.043*\"result\" + 0.042*\"load\" + 0.040*\"rectangular\" + 0.036*\",\" + 0.036*\"yield\" + 0.029*\"-\" + 0.029*\"determin\" + 0.027*\"column\" + 0.027*\"form\"\n",
      "2022-02-28 17:40:32,215 : INFO : topic #68 (0.010): 0.111*\"properti\" + 0.091*\"techniqu\" + 0.077*\"contour\" + 0.038*\"geometr\" + 0.038*\"topolog\" + 0.037*\"concurr\" + 0.027*\"line\" + 0.027*\"demonstr\" + 0.026*\"present\" + 0.026*\"simplifi\"\n",
      "2022-02-28 17:40:32,217 : INFO : topic #11 (0.016): 0.359*\"(\" + 0.325*\")\" + 0.108*\"algorithm\" + 0.034*\"1\" + 0.028*\"-\" + 0.025*\"invers\" + 0.025*\"3\" + 0.020*\"complex\" + 0.013*\"number\" + 0.009*\"recurs\"\n",
      "2022-02-28 17:40:32,218 : INFO : topic #95 (0.016): 0.352*\"problem\" + 0.099*\"solut\" + 0.063*\"-\" + 0.054*\"program\" + 0.047*\"solv\" + 0.031*\",\" + 0.024*\"improv\" + 0.023*\"nonlinear\" + 0.020*\"paper\" + 0.019*\"method\"\n",
      "2022-02-28 17:40:32,219 : INFO : topic #41 (0.024): 0.246*\"algorithm\" + 0.236*\"(\" + 0.152*\"[\" + 0.148*\")\" + 0.070*\"])\" + 0.045*\"integr\" + 0.012*\"-\" + 0.010*\"'\" + 0.010*\"normal\" + 0.010*\"coeffici\"\n",
      "2022-02-28 17:40:32,220 : INFO : topic diff=0.457696, rho=0.307119\n",
      "2022-02-28 17:40:32,228 : INFO : PROGRESS: pass 9, at document #2000/3204\n",
      "2022-02-28 17:40:33,378 : INFO : optimized alpha [0.011537164, 0.011237943, 0.011238281, 0.012943909, 0.010987594, 0.010469058, 0.011054962, 0.012040473, 0.010765932, 0.0124366395, 0.010786211, 0.01677655, 0.011259004, 0.011932233, 0.011718511, 0.010918729, 0.011112466, 0.011918395, 0.010799096, 0.010760453, 0.01043106, 0.011189878, 0.012103301, 0.011417749, 0.010930505, 0.010897688, 0.010746905, 0.010583234, 0.012548865, 0.011057675, 0.010806341, 0.011147737, 0.011034724, 0.010182667, 0.011704808, 0.014857986, 0.014211226, 0.011646103, 0.011158839, 0.011657099, 0.012141081, 0.02436769, 0.011532109, 0.011210179, 0.010489354, 0.011040795, 0.012727114, 0.011607929, 0.011459339, 0.010768672, 0.010870555, 0.010572747, 0.011837869, 0.010813316, 0.011039869, 0.0109666465, 0.0111739235, 0.010970972, 0.011314905, 0.011299445, 0.010370544, 0.0110126715, 0.011730109, 0.011302459, 0.011158021, 0.010722746, 0.012534888, 0.012053149, 0.010324604, 0.011450692, 0.012989178, 0.010880687, 0.011513379, 0.012875347, 0.012591717, 0.0119621195, 0.010346064, 0.010413944, 0.010935254, 0.010791346, 0.0119904, 0.010925319, 0.011094961, 0.010624013, 0.010749838, 0.0116189215, 0.011746554, 0.011677315, 0.011312466, 0.012251646, 0.012528421, 0.0129636265, 0.012621883, 0.01036045, 0.01134328, 0.016117994, 0.011660756, 0.011217929, 0.011839762, 0.011430717]\n",
      "2022-02-28 17:40:33,388 : INFO : merging changes from 2000 documents into a model of 3204 documents\n",
      "2022-02-28 17:40:33,394 : INFO : topic #33 (0.010): 0.092*\"altern\" + 0.043*\"load\" + 0.040*\"result\" + 0.037*\"yield\" + 0.037*\"rectangular\" + 0.036*\",\" + 0.032*\"determin\" + 0.029*\"-\" + 0.029*\"form\" + 0.026*\"compar\"\n",
      "2022-02-28 17:40:33,395 : INFO : topic #68 (0.010): 0.106*\"properti\" + 0.097*\"techniqu\" + 0.074*\"contour\" + 0.044*\"topolog\" + 0.034*\"concurr\" + 0.034*\"geometr\" + 0.027*\"present\" + 0.026*\"line\" + 0.025*\"demonstr\" + 0.025*\"coordin\"\n",
      "2022-02-28 17:40:33,396 : INFO : topic #95 (0.016): 0.350*\"problem\" + 0.100*\"solut\" + 0.064*\"-\" + 0.053*\"program\" + 0.048*\"solv\" + 0.031*\",\" + 0.024*\"nonlinear\" + 0.023*\"improv\" + 0.020*\"method\" + 0.020*\"paper\"\n",
      "2022-02-28 17:40:33,397 : INFO : topic #11 (0.017): 0.358*\"(\" + 0.327*\")\" + 0.129*\"algorithm\" + 0.030*\"1\" + 0.028*\"invers\" + 0.026*\"-\" + 0.021*\"3\" + 0.017*\"complex\" + 0.012*\"number\" + 0.008*\"matrix\"\n",
      "2022-02-28 17:40:33,399 : INFO : topic #41 (0.024): 0.234*\"algorithm\" + 0.229*\"(\" + 0.160*\"[\" + 0.119*\")\" + 0.099*\"])\" + 0.050*\"integr\" + 0.014*\"-\" + 0.011*\"coeffici\" + 0.011*\"normal\" + 0.010*\"'\"\n",
      "2022-02-28 17:40:33,401 : INFO : topic diff=0.398488, rho=0.293585\n",
      "2022-02-28 17:40:34,541 : INFO : -6.514 per-word bound, 91.4 perplexity estimate based on a held-out corpus of 1204 documents with 49783 words\n",
      "2022-02-28 17:40:34,542 : INFO : PROGRESS: pass 9, at document #3204/3204\n",
      "2022-02-28 17:40:35,424 : INFO : optimized alpha [0.01167874, 0.011432354, 0.011334518, 0.013047505, 0.01113391, 0.010586875, 0.011194318, 0.012151635, 0.01088219, 0.012731152, 0.010847406, 0.01776851, 0.011395587, 0.01205431, 0.011886511, 0.010996863, 0.011259228, 0.012123606, 0.010882958, 0.010842684, 0.010546514, 0.011340041, 0.012183014, 0.011528298, 0.011006991, 0.011032916, 0.010903336, 0.010688336, 0.012778212, 0.0111639295, 0.01092524, 0.011293237, 0.011162932, 0.010284716, 0.011897747, 0.015243833, 0.0145661235, 0.011802445, 0.011309566, 0.01183578, 0.012343407, 0.024491845, 0.011694456, 0.011371394, 0.010619846, 0.011161564, 0.013038439, 0.011716701, 0.01163302, 0.010906025, 0.010956829, 0.01065576, 0.011990814, 0.010925531, 0.011176674, 0.011118239, 0.011333142, 0.011127493, 0.011445867, 0.011458191, 0.010488185, 0.01121221, 0.011866964, 0.011472082, 0.011285075, 0.010837336, 0.012892672, 0.01228433, 0.010434649, 0.011632276, 0.0132809235, 0.010926384, 0.011665969, 0.013162077, 0.012802218, 0.012145414, 0.010418635, 0.010453744, 0.011060536, 0.010855387, 0.012041148, 0.011028242, 0.011232373, 0.010672781, 0.010860554, 0.011718007, 0.012030137, 0.011828415, 0.011473309, 0.01242221, 0.012839943, 0.013214534, 0.012913342, 0.010461564, 0.01147648, 0.016745066, 0.011823655, 0.011313388, 0.011973599, 0.011542407]\n",
      "2022-02-28 17:40:35,430 : INFO : merging changes from 1204 documents into a model of 3204 documents\n",
      "2022-02-28 17:40:35,437 : INFO : topic #33 (0.010): 0.103*\"altern\" + 0.044*\"result\" + 0.043*\"load\" + 0.040*\"rectangular\" + 0.040*\"yield\" + 0.035*\",\" + 0.031*\"form\" + 0.029*\"determin\" + 0.029*\"compar\" + 0.029*\"-\"\n",
      "2022-02-28 17:40:35,438 : INFO : topic #68 (0.010): 0.114*\"properti\" + 0.100*\"techniqu\" + 0.076*\"contour\" + 0.038*\"topolog\" + 0.037*\"geometr\" + 0.036*\"concurr\" + 0.028*\"present\" + 0.028*\"demonstr\" + 0.026*\"line\" + 0.025*\"simplifi\"\n",
      "2022-02-28 17:40:35,439 : INFO : topic #95 (0.017): 0.361*\"problem\" + 0.098*\"solut\" + 0.062*\"-\" + 0.053*\"program\" + 0.049*\"solv\" + 0.031*\",\" + 0.023*\"improv\" + 0.023*\"nonlinear\" + 0.020*\"paper\" + 0.019*\"method\"\n",
      "2022-02-28 17:40:35,440 : INFO : topic #11 (0.018): 0.369*\"(\" + 0.334*\")\" + 0.123*\"algorithm\" + 0.030*\"1\" + 0.025*\"-\" + 0.022*\"invers\" + 0.021*\"3\" + 0.016*\"complex\" + 0.011*\"number\" + 0.007*\"0\"\n",
      "2022-02-28 17:40:35,441 : INFO : topic #41 (0.024): 0.233*\"algorithm\" + 0.226*\"(\" + 0.172*\"[\" + 0.131*\")\" + 0.080*\"])\" + 0.049*\"integr\" + 0.014*\"-\" + 0.011*\"'\" + 0.010*\"coeffici\" + 0.010*\"normal\"\n",
      "2022-02-28 17:40:35,443 : INFO : topic diff=0.402051, rho=0.293585\n",
      "2022-02-28 17:40:35,452 : INFO : PROGRESS: pass 10, at document #2000/3204\n",
      "2022-02-28 17:40:36,527 : INFO : optimized alpha [0.011719241, 0.0114160795, 0.0114257345, 0.013237933, 0.01116435, 0.010598529, 0.0112350155, 0.012314812, 0.010889298, 0.012767974, 0.010900282, 0.018928437, 0.011469219, 0.012150269, 0.011891695, 0.011036167, 0.0112845, 0.012133208, 0.010886652, 0.010851952, 0.010542227, 0.011340775, 0.012329374, 0.011620571, 0.011077463, 0.01106562, 0.010920879, 0.010682861, 0.012741469, 0.011164486, 0.010942812, 0.0112867905, 0.011177962, 0.010270923, 0.011889546, 0.015493972, 0.01471915, 0.011893118, 0.0113319475, 0.01198043, 0.012434885, 0.025229469, 0.011740061, 0.011425576, 0.010605632, 0.011143296, 0.0130894, 0.011837691, 0.011711297, 0.010949885, 0.01097401, 0.0106482655, 0.012012111, 0.010947589, 0.0112206405, 0.011110803, 0.011365329, 0.01111313, 0.011496135, 0.011442624, 0.010490203, 0.011230912, 0.011904835, 0.011481342, 0.011435024, 0.010856616, 0.01296409, 0.012270214, 0.010438599, 0.011706136, 0.013434961, 0.011040217, 0.011686396, 0.013263331, 0.013018406, 0.012284798, 0.010441127, 0.010499799, 0.011076146, 0.010960837, 0.012128808, 0.011094108, 0.011276353, 0.010707529, 0.01087224, 0.011881833, 0.012125488, 0.011912341, 0.011503832, 0.012516333, 0.012884445, 0.0134724835, 0.012875905, 0.010470585, 0.011508496, 0.017001458, 0.011823295, 0.011426011, 0.01212112, 0.011677263]\n",
      "2022-02-28 17:40:36,537 : INFO : merging changes from 2000 documents into a model of 3204 documents\n",
      "2022-02-28 17:40:36,544 : INFO : topic #33 (0.010): 0.095*\"altern\" + 0.043*\"load\" + 0.042*\"result\" + 0.041*\"yield\" + 0.038*\"rectangular\" + 0.035*\",\" + 0.034*\"determin\" + 0.033*\"form\" + 0.029*\"-\" + 0.029*\"compar\"\n",
      "2022-02-28 17:40:36,545 : INFO : topic #76 (0.010): 0.112*\",\" + 0.050*\"comput\" + 0.037*\"-\" + 0.028*\"center\" + 0.027*\"3\" + 0.020*\"success\" + 0.018*\"paper\" + 0.018*\"man\" + 0.017*\"commun\" + 0.017*\"control\"\n",
      "2022-02-28 17:40:36,549 : INFO : topic #95 (0.017): 0.358*\"problem\" + 0.099*\"solut\" + 0.064*\"-\" + 0.052*\"program\" + 0.050*\"solv\" + 0.031*\",\" + 0.024*\"nonlinear\" + 0.023*\"improv\" + 0.020*\"paper\" + 0.020*\"method\"\n",
      "2022-02-28 17:40:36,550 : INFO : topic #11 (0.019): 0.366*\"(\" + 0.335*\")\" + 0.138*\"algorithm\" + 0.028*\"1\" + 0.025*\"invers\" + 0.023*\"-\" + 0.019*\"3\" + 0.014*\"complex\" + 0.010*\"number\" + 0.006*\"0\"\n",
      "2022-02-28 17:40:36,551 : INFO : topic #41 (0.025): 0.224*\"algorithm\" + 0.221*\"(\" + 0.175*\"[\" + 0.108*\"])\" + 0.105*\")\" + 0.053*\"integr\" + 0.014*\"-\" + 0.012*\"coeffici\" + 0.011*\"normal\" + 0.011*\"'\"\n",
      "2022-02-28 17:40:36,554 : INFO : topic diff=0.350410, rho=0.281696\n",
      "2022-02-28 17:40:37,633 : INFO : -6.500 per-word bound, 90.5 perplexity estimate based on a held-out corpus of 1204 documents with 49783 words\n",
      "2022-02-28 17:40:37,634 : INFO : PROGRESS: pass 10, at document #3204/3204\n",
      "2022-02-28 17:40:38,624 : INFO : optimized alpha [0.011864713, 0.011599368, 0.011518678, 0.013337181, 0.011314053, 0.010720112, 0.011369967, 0.012427556, 0.011001837, 0.013061482, 0.010959418, 0.019987285, 0.0116096, 0.012265354, 0.012063033, 0.011116813, 0.011437193, 0.0123408865, 0.010972944, 0.010936712, 0.0106589515, 0.011499786, 0.0124029, 0.011732757, 0.0111616235, 0.011207039, 0.011082883, 0.010779523, 0.012954899, 0.011267333, 0.011057798, 0.011432906, 0.011299326, 0.010374554, 0.012076528, 0.015887516, 0.015076803, 0.012050125, 0.011480636, 0.012159769, 0.012625578, 0.025354696, 0.011908266, 0.011584573, 0.0107344715, 0.011270929, 0.013393555, 0.0119481515, 0.011879854, 0.011090673, 0.0110600665, 0.010731184, 0.012160094, 0.01106906, 0.011353119, 0.011254971, 0.011519771, 0.011262057, 0.011622916, 0.011604614, 0.010606525, 0.01143559, 0.012045664, 0.011648587, 0.011557898, 0.010972589, 0.013333872, 0.0124948, 0.010555039, 0.011888155, 0.013723503, 0.011089171, 0.011831359, 0.013556253, 0.013241632, 0.012465743, 0.010516368, 0.010543337, 0.011202747, 0.011027577, 0.012183278, 0.011193533, 0.011412071, 0.010754781, 0.010981925, 0.011977165, 0.012411694, 0.012067117, 0.011665204, 0.012681515, 0.013195254, 0.013717335, 0.013156223, 0.01056854, 0.01163466, 0.017616594, 0.011986556, 0.011520767, 0.012256192, 0.011787787]\n",
      "2022-02-28 17:40:38,630 : INFO : merging changes from 1204 documents into a model of 3204 documents\n",
      "2022-02-28 17:40:38,641 : INFO : topic #33 (0.010): 0.106*\"altern\" + 0.046*\"result\" + 0.044*\"load\" + 0.042*\"yield\" + 0.041*\"rectangular\" + 0.035*\"form\" + 0.035*\",\" + 0.031*\"compar\" + 0.031*\"determin\" + 0.028*\"-\"\n",
      "2022-02-28 17:40:38,642 : INFO : topic #76 (0.011): 0.112*\",\" + 0.047*\"comput\" + 0.037*\"-\" + 0.029*\"3\" + 0.024*\"center\" + 0.022*\"success\" + 0.020*\"man\" + 0.019*\"consid\" + 0.018*\"commun\" + 0.017*\"obtain\"\n",
      "2022-02-28 17:40:38,645 : INFO : topic #95 (0.018): 0.368*\"problem\" + 0.099*\"solut\" + 0.062*\"-\" + 0.051*\"program\" + 0.050*\"solv\" + 0.031*\",\" + 0.024*\"improv\" + 0.023*\"nonlinear\" + 0.020*\"paper\" + 0.018*\"method\"\n",
      "2022-02-28 17:40:38,645 : INFO : topic #11 (0.020): 0.376*\"(\" + 0.340*\")\" + 0.131*\"algorithm\" + 0.028*\"1\" + 0.023*\"-\" + 0.020*\"invers\" + 0.019*\"3\" + 0.014*\"complex\" + 0.010*\"number\" + 0.007*\"0\"\n",
      "2022-02-28 17:40:38,647 : INFO : topic #41 (0.025): 0.223*\"algorithm\" + 0.220*\"(\" + 0.185*\"[\" + 0.120*\")\" + 0.086*\"])\" + 0.052*\"integr\" + 0.014*\"-\" + 0.011*\"'\" + 0.011*\"coeffici\" + 0.010*\"normal\"\n",
      "2022-02-28 17:40:38,651 : INFO : topic diff=0.355379, rho=0.281696\n",
      "2022-02-28 17:40:38,659 : INFO : PROGRESS: pass 11, at document #2000/3204\n",
      "2022-02-28 17:40:39,633 : INFO : optimized alpha [0.011908573, 0.011584636, 0.011610564, 0.013523009, 0.011343267, 0.010738654, 0.011418681, 0.01259016, 0.011008726, 0.013095979, 0.011010835, 0.021255665, 0.011679412, 0.012360393, 0.012072551, 0.011156521, 0.011466009, 0.012352809, 0.0109796785, 0.01094435, 0.010654802, 0.011500098, 0.012545479, 0.011822426, 0.011230097, 0.011244584, 0.01110406, 0.010772919, 0.012923895, 0.01126797, 0.01108229, 0.011429461, 0.011312302, 0.010365526, 0.01207454, 0.01614153, 0.015229373, 0.012144653, 0.011508308, 0.012316091, 0.012717621, 0.026083032, 0.011958569, 0.011636909, 0.010723568, 0.011256365, 0.013441814, 0.012069202, 0.011955783, 0.0111375395, 0.011079849, 0.010724186, 0.012182155, 0.011100881, 0.011397135, 0.011253727, 0.011552223, 0.011251003, 0.011679474, 0.0115892505, 0.01060987, 0.011460921, 0.012082146, 0.011661943, 0.011705949, 0.010998701, 0.013407402, 0.012481952, 0.010563136, 0.011966147, 0.013877576, 0.011203054, 0.011846038, 0.0136673665, 0.013466411, 0.012603449, 0.01053981, 0.01059257, 0.011220881, 0.011139198, 0.012273377, 0.011257416, 0.011462335, 0.01078873, 0.010997742, 0.012133932, 0.0125041, 0.012151812, 0.01170078, 0.012777923, 0.013242442, 0.01397682, 0.013118345, 0.0105773425, 0.011668709, 0.017855398, 0.011982591, 0.011630463, 0.012401726, 0.01192412]\n",
      "2022-02-28 17:40:39,639 : INFO : merging changes from 2000 documents into a model of 3204 documents\n",
      "2022-02-28 17:40:39,646 : INFO : topic #33 (0.010): 0.098*\"altern\" + 0.044*\"yield\" + 0.044*\"result\" + 0.044*\"load\" + 0.038*\"rectangular\" + 0.035*\"form\" + 0.035*\"determin\" + 0.035*\",\" + 0.031*\"compar\" + 0.028*\"-\"\n",
      "2022-02-28 17:40:39,646 : INFO : topic #76 (0.011): 0.112*\",\" + 0.050*\"comput\" + 0.038*\"-\" + 0.029*\"center\" + 0.029*\"3\" + 0.020*\"success\" + 0.019*\"commun\" + 0.019*\"paper\" + 0.018*\"man\" + 0.018*\"control\"\n",
      "2022-02-28 17:40:39,649 : INFO : topic #95 (0.018): 0.366*\"problem\" + 0.099*\"solut\" + 0.063*\"-\" + 0.051*\"program\" + 0.051*\"solv\" + 0.031*\",\" + 0.024*\"nonlinear\" + 0.023*\"improv\" + 0.020*\"paper\" + 0.019*\"method\"\n",
      "2022-02-28 17:40:39,650 : INFO : topic #11 (0.021): 0.373*\"(\" + 0.341*\")\" + 0.143*\"algorithm\" + 0.027*\"1\" + 0.023*\"invers\" + 0.021*\"-\" + 0.017*\"3\" + 0.013*\"complex\" + 0.008*\"number\" + 0.006*\"0\"\n",
      "2022-02-28 17:40:39,652 : INFO : topic #41 (0.026): 0.217*\"(\" + 0.216*\"algorithm\" + 0.185*\"[\" + 0.113*\"])\" + 0.096*\")\" + 0.056*\"integr\" + 0.015*\"-\" + 0.012*\"coeffici\" + 0.011*\"'\" + 0.010*\"normal\"\n",
      "2022-02-28 17:40:39,654 : INFO : topic diff=0.310248, rho=0.271143\n",
      "2022-02-28 17:40:40,810 : INFO : -6.487 per-word bound, 89.7 perplexity estimate based on a held-out corpus of 1204 documents with 49783 words\n",
      "2022-02-28 17:40:40,811 : INFO : PROGRESS: pass 11, at document #3204/3204\n",
      "2022-02-28 17:40:41,714 : INFO : optimized alpha [0.012049978, 0.011768144, 0.011705864, 0.013621419, 0.011486215, 0.010856776, 0.011555097, 0.0127047375, 0.011125541, 0.013386069, 0.011070664, 0.022424834, 0.011818444, 0.012469111, 0.012247352, 0.011237247, 0.01161186, 0.012549419, 0.0110659525, 0.0110291755, 0.010775387, 0.011654608, 0.012616169, 0.011928523, 0.011319127, 0.0113820825, 0.011261822, 0.010869166, 0.01313141, 0.011362636, 0.011198932, 0.011579115, 0.011440285, 0.010466119, 0.012256338, 0.01654724, 0.015576823, 0.012294575, 0.011663232, 0.012499405, 0.0129061695, 0.02617461, 0.012122197, 0.011794144, 0.010846317, 0.011385472, 0.013742751, 0.012170709, 0.01212518, 0.011276927, 0.011165852, 0.01081936, 0.012328617, 0.011226326, 0.011533469, 0.011401399, 0.011702302, 0.011398267, 0.011802556, 0.011746621, 0.0107275965, 0.011665994, 0.012221568, 0.011824625, 0.011830369, 0.011111319, 0.01378388, 0.012692078, 0.01067626, 0.012168038, 0.014173068, 0.01125276, 0.011989539, 0.013964074, 0.013693664, 0.012779691, 0.010620023, 0.010632385, 0.011341235, 0.011208691, 0.01232037, 0.011356265, 0.011604511, 0.010834638, 0.0111042075, 0.012231371, 0.01277944, 0.012302291, 0.011855041, 0.012944058, 0.013556165, 0.014228531, 0.013388581, 0.010691769, 0.011793759, 0.018466368, 0.012138464, 0.0117247645, 0.01253274, 0.01204189]\n",
      "2022-02-28 17:40:41,720 : INFO : merging changes from 1204 documents into a model of 3204 documents\n",
      "2022-02-28 17:40:41,726 : INFO : topic #33 (0.010): 0.107*\"altern\" + 0.048*\"result\" + 0.045*\"yield\" + 0.044*\"load\" + 0.041*\"rectangular\" + 0.038*\"form\" + 0.035*\",\" + 0.034*\"compar\" + 0.032*\"determin\" + 0.028*\"appear\"\n",
      "2022-02-28 17:40:41,728 : INFO : topic #77 (0.011): 0.120*\",\" + 0.068*\"program\" + 0.044*\"system\" + 0.038*\"-\" + 0.024*\"game\" + 0.024*\"basic\" + 0.021*\"written\" + 0.021*\"languag\" + 0.020*\"user\" + 0.015*\"machin\"\n",
      "2022-02-28 17:40:41,729 : INFO : topic #95 (0.018): 0.374*\"problem\" + 0.100*\"solut\" + 0.062*\"-\" + 0.051*\"solv\" + 0.050*\"program\" + 0.031*\",\" + 0.023*\"nonlinear\" + 0.023*\"improv\" + 0.020*\"paper\" + 0.018*\"method\"\n",
      "2022-02-28 17:40:41,730 : INFO : topic #11 (0.022): 0.382*\"(\" + 0.344*\")\" + 0.135*\"algorithm\" + 0.027*\"1\" + 0.021*\"-\" + 0.019*\"invers\" + 0.017*\"3\" + 0.013*\"complex\" + 0.008*\"number\" + 0.006*\"0\"\n",
      "2022-02-28 17:40:41,731 : INFO : topic #41 (0.026): 0.216*\"algorithm\" + 0.216*\"(\" + 0.195*\"[\" + 0.113*\")\" + 0.091*\"])\" + 0.054*\"integr\" + 0.015*\"-\" + 0.011*\"'\" + 0.011*\"coeffici\" + 0.010*\"normal\"\n",
      "2022-02-28 17:40:41,731 : INFO : topic diff=0.315811, rho=0.271143\n",
      "2022-02-28 17:40:41,742 : INFO : PROGRESS: pass 12, at document #2000/3204\n",
      "2022-02-28 17:40:42,653 : INFO : optimized alpha [0.012098819, 0.011756394, 0.011801699, 0.013803147, 0.011515915, 0.010873276, 0.011596291, 0.012863816, 0.01113366, 0.013416597, 0.0111237, 0.023794578, 0.011892482, 0.01255997, 0.01226267, 0.011280406, 0.011644186, 0.012565398, 0.011075626, 0.011041192, 0.010772705, 0.011657779, 0.012752028, 0.01201896, 0.011382795, 0.011413955, 0.011283561, 0.010865764, 0.013098905, 0.011366439, 0.011227109, 0.011578569, 0.011454264, 0.010458837, 0.012252314, 0.016814142, 0.015727196, 0.012389793, 0.011689847, 0.012665986, 0.012997311, 0.026898185, 0.012175581, 0.011844831, 0.010835655, 0.011371173, 0.013786661, 0.012282594, 0.012202134, 0.0113223875, 0.011183753, 0.010811251, 0.012353006, 0.011260084, 0.0115790935, 0.011401397, 0.011736672, 0.011388801, 0.01185599, 0.011732937, 0.010736411, 0.0117039345, 0.012258467, 0.011845049, 0.011981493, 0.011135147, 0.013868584, 0.012680539, 0.010691122, 0.012251795, 0.014323676, 0.011364046, 0.012003542, 0.014086913, 0.013920391, 0.012915963, 0.010649932, 0.010684725, 0.01136175, 0.011322124, 0.012414615, 0.0114169475, 0.011656293, 0.010870714, 0.011118126, 0.012387905, 0.012870821, 0.012386282, 0.011894029, 0.013037798, 0.013613489, 0.014491961, 0.013348654, 0.010703122, 0.011825264, 0.018718679, 0.012135917, 0.011834799, 0.012681584, 0.012175151]\n",
      "2022-02-28 17:40:42,660 : INFO : merging changes from 2000 documents into a model of 3204 documents\n",
      "2022-02-28 17:40:42,667 : INFO : topic #33 (0.010): 0.099*\"altern\" + 0.046*\"yield\" + 0.046*\"result\" + 0.044*\"load\" + 0.039*\"rectangular\" + 0.038*\"form\" + 0.036*\"determin\" + 0.034*\",\" + 0.034*\"compar\" + 0.028*\"-\"\n",
      "2022-02-28 17:40:42,667 : INFO : topic #77 (0.011): 0.120*\",\" + 0.069*\"program\" + 0.046*\"system\" + 0.039*\"-\" + 0.026*\"basic\" + 0.021*\"written\" + 0.020*\"languag\" + 0.019*\"user\" + 0.018*\"game\" + 0.018*\"subroutin\"\n",
      "2022-02-28 17:40:42,669 : INFO : topic #95 (0.019): 0.372*\"problem\" + 0.101*\"solut\" + 0.063*\"-\" + 0.052*\"solv\" + 0.050*\"program\" + 0.031*\",\" + 0.024*\"nonlinear\" + 0.023*\"improv\" + 0.020*\"paper\" + 0.019*\"method\"\n",
      "2022-02-28 17:40:42,670 : INFO : topic #11 (0.024): 0.379*\"(\" + 0.344*\")\" + 0.146*\"algorithm\" + 0.026*\"1\" + 0.021*\"invers\" + 0.020*\"-\" + 0.016*\"3\" + 0.012*\"complex\" + 0.007*\"number\" + 0.006*\"0\"\n",
      "2022-02-28 17:40:42,672 : INFO : topic #41 (0.027): 0.214*\"(\" + 0.211*\"algorithm\" + 0.193*\"[\" + 0.117*\"])\" + 0.091*\")\" + 0.057*\"integr\" + 0.016*\"-\" + 0.012*\"coeffici\" + 0.011*\"'\" + 0.010*\"normal\"\n",
      "2022-02-28 17:40:42,673 : INFO : topic diff=0.276765, rho=0.261694\n",
      "2022-02-28 17:40:43,931 : INFO : -6.476 per-word bound, 89.0 perplexity estimate based on a held-out corpus of 1204 documents with 49783 words\n",
      "2022-02-28 17:40:43,933 : INFO : PROGRESS: pass 12, at document #3204/3204\n",
      "2022-02-28 17:40:44,738 : INFO : optimized alpha [0.012244608, 0.011943021, 0.011891706, 0.013897999, 0.011667864, 0.010990669, 0.011739378, 0.012972083, 0.01124248, 0.013701094, 0.011181841, 0.025039442, 0.012027881, 0.012665497, 0.012433265, 0.011361401, 0.01178629, 0.012759956, 0.011159575, 0.011128602, 0.010892454, 0.011803235, 0.012825806, 0.012129865, 0.01146684, 0.011560579, 0.011442443, 0.010954712, 0.01330119, 0.011461076, 0.011345557, 0.011726827, 0.011576437, 0.010559062, 0.01243479, 0.017214216, 0.016071863, 0.012541244, 0.011848518, 0.012845326, 0.013186945, 0.02698037, 0.012345644, 0.012000716, 0.010955137, 0.011509418, 0.014081925, 0.012383739, 0.012370127, 0.01146331, 0.011272342, 0.010908704, 0.01250926, 0.011389574, 0.011724742, 0.01154021, 0.011887918, 0.011529773, 0.011975778, 0.011886317, 0.010858107, 0.011904522, 0.012394224, 0.012003643, 0.01210772, 0.011247192, 0.014264902, 0.012893908, 0.010810697, 0.012457368, 0.014614068, 0.011414561, 0.01214064, 0.014400433, 0.014142989, 0.013093554, 0.010732624, 0.010728211, 0.011478986, 0.011396768, 0.012465411, 0.011515535, 0.011792273, 0.010915458, 0.011224197, 0.012479616, 0.013138697, 0.012541042, 0.012039247, 0.013199605, 0.0139277745, 0.014754228, 0.013615441, 0.010812199, 0.01194438, 0.019329699, 0.012292945, 0.011931494, 0.0128143905, 0.012286951]\n",
      "2022-02-28 17:40:44,744 : INFO : merging changes from 1204 documents into a model of 3204 documents\n",
      "2022-02-28 17:40:44,750 : INFO : topic #33 (0.011): 0.108*\"altern\" + 0.050*\"result\" + 0.047*\"yield\" + 0.045*\"load\" + 0.041*\"rectangular\" + 0.040*\"form\" + 0.036*\"compar\" + 0.034*\",\" + 0.033*\"determin\" + 0.029*\"appear\"\n",
      "2022-02-28 17:40:44,750 : INFO : topic #77 (0.011): 0.120*\",\" + 0.069*\"program\" + 0.044*\"system\" + 0.038*\"-\" + 0.025*\"basic\" + 0.024*\"game\" + 0.021*\"written\" + 0.020*\"user\" + 0.019*\"languag\" + 0.015*\"machin\"\n",
      "2022-02-28 17:40:44,751 : INFO : topic #95 (0.019): 0.379*\"problem\" + 0.101*\"solut\" + 0.062*\"-\" + 0.052*\"solv\" + 0.050*\"program\" + 0.031*\",\" + 0.023*\"nonlinear\" + 0.023*\"improv\" + 0.020*\"paper\" + 0.018*\"method\"\n",
      "2022-02-28 17:40:44,752 : INFO : topic #11 (0.025): 0.387*\"(\" + 0.348*\")\" + 0.138*\"algorithm\" + 0.026*\"1\" + 0.020*\"-\" + 0.018*\"invers\" + 0.016*\"3\" + 0.012*\"complex\" + 0.007*\"number\" + 0.006*\"0\"\n",
      "2022-02-28 17:40:44,753 : INFO : topic #41 (0.027): 0.213*\"(\" + 0.211*\"algorithm\" + 0.201*\"[\" + 0.108*\")\" + 0.095*\"])\" + 0.056*\"integr\" + 0.016*\"-\" + 0.012*\"'\" + 0.011*\"coeffici\" + 0.010*\"normal\"\n",
      "2022-02-28 17:40:44,755 : INFO : topic diff=0.282256, rho=0.261694\n",
      "2022-02-28 17:40:44,765 : INFO : PROGRESS: pass 13, at document #2000/3204\n",
      "2022-02-28 17:40:45,748 : INFO : optimized alpha [0.012299925, 0.011926463, 0.011983846, 0.014067252, 0.011695039, 0.011006653, 0.011788345, 0.013129642, 0.011250369, 0.013731373, 0.0112336995, 0.02650014, 0.01210007, 0.012750979, 0.012450922, 0.0114079, 0.0118190395, 0.012776543, 0.011167703, 0.011140375, 0.010892517, 0.011809143, 0.012957071, 0.012216632, 0.011533335, 0.011597308, 0.0114662405, 0.010950144, 0.013267284, 0.011469314, 0.011375826, 0.011726025, 0.011592931, 0.010560151, 0.0124335205, 0.017462011, 0.016222212, 0.012632571, 0.01187113, 0.013014051, 0.013278982, 0.027686704, 0.012400476, 0.01204839, 0.010946082, 0.011492489, 0.0141253155, 0.012496281, 0.012446672, 0.0115147885, 0.011292763, 0.010905184, 0.012539166, 0.01142809, 0.011776549, 0.011537078, 0.011925736, 0.01152772, 0.012029352, 0.011874305, 0.010877597, 0.011943935, 0.012431594, 0.012020188, 0.012262171, 0.011273197, 0.014362824, 0.012890249, 0.010829138, 0.012540566, 0.014759667, 0.01152192, 0.012160265, 0.014524083, 0.014362965, 0.01322702, 0.010763175, 0.010779417, 0.011498972, 0.011512075, 0.01255423, 0.011579062, 0.011843992, 0.010950819, 0.0112363035, 0.012639467, 0.013227521, 0.012630896, 0.012070894, 0.013290957, 0.013998633, 0.015022005, 0.013575258, 0.010825982, 0.011977938, 0.019574018, 0.012291739, 0.012037583, 0.012963578, 0.012415849]\n",
      "2022-02-28 17:40:45,755 : INFO : merging changes from 2000 documents into a model of 3204 documents\n",
      "2022-02-28 17:40:45,762 : INFO : topic #33 (0.011): 0.100*\"altern\" + 0.048*\"result\" + 0.048*\"yield\" + 0.044*\"load\" + 0.040*\"determin\" + 0.040*\"form\" + 0.039*\"rectangular\" + 0.036*\"compar\" + 0.033*\",\" + 0.028*\"evalu\"\n",
      "2022-02-28 17:40:45,763 : INFO : topic #76 (0.011): 0.112*\",\" + 0.050*\"comput\" + 0.040*\"-\" + 0.030*\"center\" + 0.030*\"3\" + 0.021*\"commun\" + 0.021*\"success\" + 0.019*\"man\" + 0.019*\"control\" + 0.019*\"paper\"\n",
      "2022-02-28 17:40:45,764 : INFO : topic #95 (0.020): 0.377*\"problem\" + 0.102*\"solut\" + 0.063*\"-\" + 0.053*\"solv\" + 0.050*\"program\" + 0.030*\",\" + 0.024*\"nonlinear\" + 0.022*\"improv\" + 0.019*\"paper\" + 0.019*\"method\"\n",
      "2022-02-28 17:40:45,766 : INFO : topic #11 (0.027): 0.384*\"(\" + 0.348*\")\" + 0.147*\"algorithm\" + 0.025*\"1\" + 0.019*\"invers\" + 0.019*\"-\" + 0.015*\"3\" + 0.011*\"complex\" + 0.006*\"number\" + 0.005*\"0\"\n",
      "2022-02-28 17:40:45,767 : INFO : topic #41 (0.028): 0.212*\"(\" + 0.207*\"algorithm\" + 0.198*\"[\" + 0.119*\"])\" + 0.088*\")\" + 0.059*\"integr\" + 0.017*\"-\" + 0.012*\"coeffici\" + 0.011*\"'\" + 0.010*\"normal\"\n",
      "2022-02-28 17:40:45,768 : INFO : topic diff=0.248178, rho=0.253169\n",
      "2022-02-28 17:40:46,788 : INFO : -6.469 per-word bound, 88.6 perplexity estimate based on a held-out corpus of 1204 documents with 49783 words\n",
      "2022-02-28 17:40:46,789 : INFO : PROGRESS: pass 13, at document #3204/3204\n",
      "2022-02-28 17:40:47,607 : INFO : optimized alpha [0.012452802, 0.012113912, 0.012074028, 0.014158932, 0.011838707, 0.0111236, 0.011938201, 0.013234729, 0.0113613475, 0.014013645, 0.011290342, 0.027864529, 0.012237266, 0.0128619615, 0.012620245, 0.011491617, 0.011957784, 0.012969456, 0.011251954, 0.011230404, 0.0110116815, 0.011958805, 0.013022987, 0.012324651, 0.011615212, 0.01173805, 0.011614321, 0.01104153, 0.0134647945, 0.011564116, 0.011489014, 0.011878234, 0.011709753, 0.01066461, 0.012622338, 0.017875517, 0.0165713, 0.012775143, 0.012026206, 0.013200829, 0.013470046, 0.027754895, 0.01256942, 0.012200722, 0.011069564, 0.011625027, 0.014421373, 0.012594685, 0.012613582, 0.01165253, 0.011388696, 0.011000267, 0.012699614, 0.011561739, 0.011918912, 0.011667602, 0.012080977, 0.011667782, 0.012143643, 0.012026558, 0.010994091, 0.012145599, 0.012566732, 0.012185333, 0.0123929195, 0.01137773, 0.014749608, 0.013096405, 0.010948111, 0.0127423685, 0.015060908, 0.011573336, 0.012299238, 0.014833359, 0.014593339, 0.013403443, 0.010841571, 0.0108172, 0.011620791, 0.011582158, 0.012603508, 0.011677548, 0.011984247, 0.010994525, 0.011337444, 0.012728332, 0.013488302, 0.012798053, 0.012217801, 0.013448861, 0.014323374, 0.015289029, 0.013830522, 0.010941693, 0.01209657, 0.020201448, 0.01245795, 0.0121342, 0.013098468, 0.012524668]\n",
      "2022-02-28 17:40:47,612 : INFO : merging changes from 1204 documents into a model of 3204 documents\n",
      "2022-02-28 17:40:47,620 : INFO : topic #33 (0.011): 0.109*\"altern\" + 0.052*\"result\" + 0.048*\"yield\" + 0.044*\"load\" + 0.042*\"form\" + 0.041*\"rectangular\" + 0.040*\"compar\" + 0.036*\"determin\" + 0.033*\",\" + 0.029*\"appear\"\n",
      "2022-02-28 17:40:47,621 : INFO : topic #76 (0.011): 0.112*\",\" + 0.048*\"comput\" + 0.040*\"-\" + 0.031*\"3\" + 0.026*\"center\" + 0.022*\"success\" + 0.022*\"commun\" + 0.021*\"man\" + 0.020*\"consid\" + 0.019*\"control\"\n",
      "2022-02-28 17:40:47,622 : INFO : topic #95 (0.020): 0.385*\"problem\" + 0.102*\"solut\" + 0.061*\"-\" + 0.053*\"solv\" + 0.049*\"program\" + 0.030*\",\" + 0.023*\"nonlinear\" + 0.023*\"improv\" + 0.019*\"paper\" + 0.018*\"linear\"\n",
      "2022-02-28 17:40:47,622 : INFO : topic #41 (0.028): 0.210*\"(\" + 0.208*\"algorithm\" + 0.207*\"[\" + 0.103*\")\" + 0.098*\"])\" + 0.058*\"integr\" + 0.016*\"-\" + 0.012*\"'\" + 0.012*\"coeffici\" + 0.010*\"g5\"\n",
      "2022-02-28 17:40:47,623 : INFO : topic #11 (0.028): 0.392*\"(\" + 0.352*\")\" + 0.140*\"algorithm\" + 0.026*\"1\" + 0.019*\"-\" + 0.015*\"invers\" + 0.015*\"3\" + 0.012*\"complex\" + 0.006*\"number\" + 0.006*\"0\"\n",
      "2022-02-28 17:40:47,624 : INFO : topic diff=0.253785, rho=0.253169\n",
      "2022-02-28 17:40:47,633 : INFO : PROGRESS: pass 14, at document #2000/3204\n",
      "2022-02-28 17:40:48,509 : INFO : optimized alpha [0.012517463, 0.012100152, 0.0121613275, 0.0143231945, 0.011865016, 0.011145985, 0.011987318, 0.01338938, 0.011373281, 0.014045462, 0.011341122, 0.029383628, 0.012310714, 0.012953589, 0.012634034, 0.011538524, 0.011989601, 0.012986682, 0.011261431, 0.011239121, 0.011010333, 0.011965896, 0.013150021, 0.012409527, 0.011681637, 0.011778118, 0.011640179, 0.011040012, 0.013432836, 0.01157229, 0.011521371, 0.011882991, 0.011727243, 0.010673561, 0.012637621, 0.018134737, 0.016720032, 0.0128644435, 0.012049471, 0.013365543, 0.0135598965, 0.028454456, 0.012627363, 0.012248592, 0.011059333, 0.011612802, 0.014464398, 0.012709648, 0.012689832, 0.011709866, 0.011405847, 0.010998325, 0.012730039, 0.011599185, 0.011970842, 0.011662985, 0.012120594, 0.011662749, 0.012197391, 0.012014584, 0.011014419, 0.012195731, 0.012599959, 0.012201125, 0.012550887, 0.011405909, 0.014848278, 0.013090471, 0.010966064, 0.012826739, 0.015203365, 0.0116785895, 0.012315187, 0.014961647, 0.014826614, 0.013531012, 0.010874176, 0.010874086, 0.011645918, 0.011708025, 0.012693509, 0.011736768, 0.012034651, 0.01102927, 0.011349332, 0.012882226, 0.013571431, 0.012892148, 0.012250055, 0.013543008, 0.014393538, 0.015561681, 0.013793592, 0.010959156, 0.012129274, 0.020442812, 0.01245643, 0.012242639, 0.013249837, 0.012654193]\n",
      "2022-02-28 17:40:48,516 : INFO : merging changes from 2000 documents into a model of 3204 documents\n",
      "2022-02-28 17:40:48,525 : INFO : topic #33 (0.011): 0.100*\"altern\" + 0.050*\"result\" + 0.049*\"yield\" + 0.045*\"determin\" + 0.044*\"load\" + 0.043*\"form\" + 0.040*\"rectangular\" + 0.039*\"compar\" + 0.035*\"evalu\" + 0.032*\",\"\n",
      "2022-02-28 17:40:48,526 : INFO : topic #76 (0.011): 0.112*\",\" + 0.050*\"comput\" + 0.041*\"-\" + 0.030*\"center\" + 0.030*\"3\" + 0.023*\"commun\" + 0.021*\"success\" + 0.020*\"control\" + 0.020*\"man\" + 0.019*\"paper\"\n",
      "2022-02-28 17:40:48,527 : INFO : topic #95 (0.020): 0.383*\"problem\" + 0.103*\"solut\" + 0.062*\"-\" + 0.054*\"solv\" + 0.049*\"program\" + 0.030*\",\" + 0.024*\"nonlinear\" + 0.023*\"improv\" + 0.019*\"paper\" + 0.018*\"method\"\n",
      "2022-02-28 17:40:48,528 : INFO : topic #41 (0.028): 0.210*\"(\" + 0.205*\"algorithm\" + 0.202*\"[\" + 0.121*\"])\" + 0.084*\")\" + 0.060*\"integr\" + 0.017*\"-\" + 0.012*\"coeffici\" + 0.011*\"'\" + 0.010*\"normal\"\n",
      "2022-02-28 17:40:48,528 : INFO : topic #11 (0.029): 0.389*\"(\" + 0.352*\")\" + 0.148*\"algorithm\" + 0.025*\"1\" + 0.018*\"-\" + 0.015*\"invers\" + 0.014*\"3\" + 0.011*\"complex\" + 0.006*\"number\" + 0.005*\"0\"\n",
      "2022-02-28 17:40:48,529 : INFO : topic diff=0.224218, rho=0.245426\n",
      "2022-02-28 17:40:49,600 : INFO : -6.461 per-word bound, 88.1 perplexity estimate based on a held-out corpus of 1204 documents with 49783 words\n",
      "2022-02-28 17:40:49,603 : INFO : PROGRESS: pass 14, at document #3204/3204\n",
      "2022-02-28 17:40:50,391 : INFO : optimized alpha [0.012672393, 0.012283828, 0.01225191, 0.014409118, 0.012020203, 0.011265021, 0.012136574, 0.013491628, 0.011484138, 0.014326013, 0.011396428, 0.0310118, 0.012450006, 0.013056577, 0.012794643, 0.011617862, 0.012127778, 0.013173064, 0.011343704, 0.011324769, 0.011131362, 0.01211496, 0.013216629, 0.012512489, 0.0117615415, 0.011920782, 0.011785256, 0.011127127, 0.01362612, 0.0116649885, 0.011641521, 0.012041677, 0.011841419, 0.010782256, 0.012825141, 0.018562073, 0.017070772, 0.013009119, 0.012198825, 0.0135544455, 0.013747203, 0.028507447, 0.012795453, 0.012397726, 0.011177832, 0.011752178, 0.014758738, 0.012808184, 0.012858537, 0.0118518965, 0.011499653, 0.011093546, 0.012887157, 0.011734733, 0.01212493, 0.011788302, 0.01228248, 0.011799782, 0.0123115685, 0.012161059, 0.011128384, 0.012396367, 0.012729433, 0.012352742, 0.012686358, 0.01151513, 0.015259321, 0.013289824, 0.011086908, 0.013030322, 0.015509596, 0.011728586, 0.012453616, 0.015282657, 0.01505604, 0.013706602, 0.010957466, 0.010913261, 0.011769954, 0.011780939, 0.012738746, 0.011835389, 0.012171929, 0.011072035, 0.01144822, 0.012965991, 0.0138255535, 0.013058625, 0.012388782, 0.013700165, 0.014719998, 0.015837237, 0.01403811, 0.01106793, 0.012245221, 0.021075236, 0.012614088, 0.012336826, 0.013378895, 0.012765394]\n",
      "2022-02-28 17:40:50,399 : INFO : merging changes from 1204 documents into a model of 3204 documents\n",
      "2022-02-28 17:40:50,406 : INFO : topic #33 (0.011): 0.109*\"altern\" + 0.054*\"result\" + 0.049*\"yield\" + 0.045*\"form\" + 0.044*\"load\" + 0.042*\"compar\" + 0.041*\"rectangular\" + 0.040*\"determin\" + 0.034*\"evalu\" + 0.032*\",\"\n",
      "2022-02-28 17:40:50,408 : INFO : topic #77 (0.011): 0.121*\",\" + 0.071*\"program\" + 0.044*\"system\" + 0.037*\"-\" + 0.026*\"basic\" + 0.024*\"game\" + 0.021*\"written\" + 0.020*\"user\" + 0.017*\"languag\" + 0.015*\"provid\"\n",
      "2022-02-28 17:40:50,409 : INFO : topic #95 (0.021): 0.390*\"problem\" + 0.103*\"solut\" + 0.061*\"-\" + 0.054*\"solv\" + 0.048*\"program\" + 0.030*\",\" + 0.024*\"nonlinear\" + 0.023*\"improv\" + 0.019*\"paper\" + 0.019*\"linear\"\n",
      "2022-02-28 17:40:50,410 : INFO : topic #41 (0.029): 0.214*\"[\" + 0.207*\"algorithm\" + 0.206*\"(\" + 0.102*\"])\" + 0.092*\")\" + 0.060*\"integr\" + 0.017*\"-\" + 0.012*\"'\" + 0.012*\"coeffici\" + 0.010*\"g5\"\n",
      "2022-02-28 17:40:50,410 : INFO : topic #11 (0.031): 0.396*\"(\" + 0.356*\")\" + 0.141*\"algorithm\" + 0.025*\"1\" + 0.018*\"-\" + 0.014*\"3\" + 0.012*\"invers\" + 0.010*\"complex\" + 0.005*\"0\" + 0.005*\"number\"\n",
      "2022-02-28 17:40:50,412 : INFO : topic diff=0.230015, rho=0.245426\n",
      "2022-02-28 17:40:50,422 : INFO : PROGRESS: pass 15, at document #2000/3204\n",
      "2022-02-28 17:40:51,349 : INFO : optimized alpha [0.012738716, 0.012268434, 0.012339042, 0.014570481, 0.012048567, 0.011282808, 0.012187491, 0.013645267, 0.01149716, 0.01435607, 0.011447584, 0.032631878, 0.0125189265, 0.013143084, 0.012815533, 0.011669426, 0.012161624, 0.013187864, 0.01135449, 0.011338953, 0.011129959, 0.0121230185, 0.013341376, 0.012595646, 0.011825248, 0.01196842, 0.011813185, 0.011125787, 0.0135945035, 0.011674506, 0.011678656, 0.012047429, 0.011859857, 0.010790987, 0.012853414, 0.018831197, 0.017224163, 0.01309652, 0.012222797, 0.01372179, 0.01383833, 0.029204458, 0.012850325, 0.012447278, 0.011171775, 0.01174152, 0.014801568, 0.012924089, 0.0129361665, 0.011910758, 0.0115192495, 0.011094445, 0.012918229, 0.01177406, 0.012178473, 0.011792199, 0.012325374, 0.011794685, 0.012364144, 0.012146245, 0.011149571, 0.012448006, 0.012760273, 0.012367912, 0.0128555605, 0.011542672, 0.015362269, 0.013288258, 0.011109667, 0.013115949, 0.015651261, 0.011830513, 0.0124765085, 0.015412084, 0.015285145, 0.013833513, 0.010989407, 0.01097047, 0.011791615, 0.011903282, 0.01282695, 0.01189336, 0.012219649, 0.011106212, 0.011461231, 0.013120433, 0.013908224, 0.013161643, 0.012420102, 0.01379395, 0.014792883, 0.016109519, 0.0140027255, 0.011084958, 0.01227718, 0.021311194, 0.01261234, 0.012438791, 0.0135245975, 0.012897276]\n",
      "2022-02-28 17:40:51,355 : INFO : merging changes from 2000 documents into a model of 3204 documents\n",
      "2022-02-28 17:40:51,361 : INFO : topic #33 (0.011): 0.101*\"altern\" + 0.053*\"result\" + 0.050*\"yield\" + 0.049*\"determin\" + 0.044*\"load\" + 0.044*\"form\" + 0.041*\"compar\" + 0.041*\"evalu\" + 0.040*\"rectangular\" + 0.031*\",\"\n",
      "2022-02-28 17:40:51,362 : INFO : topic #76 (0.011): 0.112*\",\" + 0.050*\"comput\" + 0.042*\"-\" + 0.030*\"center\" + 0.030*\"3\" + 0.024*\"commun\" + 0.021*\"control\" + 0.020*\"success\" + 0.020*\"man\" + 0.019*\"paper\"\n",
      "2022-02-28 17:40:51,363 : INFO : topic #95 (0.021): 0.388*\"problem\" + 0.103*\"solut\" + 0.062*\"-\" + 0.055*\"solv\" + 0.048*\"program\" + 0.030*\",\" + 0.024*\"nonlinear\" + 0.022*\"improv\" + 0.019*\"paper\" + 0.018*\"method\"\n",
      "2022-02-28 17:40:51,364 : INFO : topic #41 (0.029): 0.208*\"[\" + 0.207*\"(\" + 0.205*\"algorithm\" + 0.125*\"])\" + 0.075*\")\" + 0.062*\"integr\" + 0.017*\"-\" + 0.013*\"coeffici\" + 0.012*\"'\" + 0.010*\"normal\"\n",
      "2022-02-28 17:40:51,367 : INFO : topic #11 (0.033): 0.394*\"(\" + 0.357*\")\" + 0.149*\"algorithm\" + 0.024*\"1\" + 0.017*\"-\" + 0.014*\"3\" + 0.012*\"invers\" + 0.009*\"complex\" + 0.005*\"0\" + 0.005*\"number\"\n",
      "2022-02-28 17:40:51,368 : INFO : topic diff=0.204074, rho=0.238352\n",
      "2022-02-28 17:40:52,441 : INFO : -6.455 per-word bound, 87.7 perplexity estimate based on a held-out corpus of 1204 documents with 49783 words\n",
      "2022-02-28 17:40:52,441 : INFO : PROGRESS: pass 15, at document #3204/3204\n",
      "2022-02-28 17:40:53,178 : INFO : optimized alpha [0.012893274, 0.012443782, 0.012430109, 0.014656723, 0.01219597, 0.011397219, 0.012348659, 0.013747556, 0.011608041, 0.014629416, 0.011503928, 0.034398723, 0.012657909, 0.013241046, 0.0129729975, 0.011753961, 0.0123042865, 0.013370722, 0.011435101, 0.011422868, 0.011248568, 0.0122739645, 0.0134088155, 0.01269632, 0.011903352, 0.012113172, 0.011960204, 0.011213303, 0.013792033, 0.011776981, 0.011798724, 0.012205414, 0.01197634, 0.010895354, 0.013042596, 0.019258209, 0.017573498, 0.013235672, 0.012378918, 0.013915897, 0.014022204, 0.029243827, 0.013012703, 0.012590991, 0.011292309, 0.01186871, 0.015091716, 0.013017718, 0.0131044155, 0.012052494, 0.011611088, 0.01119434, 0.01307482, 0.011911674, 0.012332176, 0.011919588, 0.012484257, 0.011931274, 0.012473477, 0.01228983, 0.011263429, 0.012635438, 0.012884594, 0.012526514, 0.012993301, 0.011651945, 0.015780102, 0.013483962, 0.011239187, 0.013321539, 0.015950529, 0.011879166, 0.012612112, 0.015735805, 0.0155259045, 0.014016692, 0.011073171, 0.011013203, 0.011910721, 0.011979071, 0.012871002, 0.011989846, 0.012356635, 0.011148127, 0.011558072, 0.013209735, 0.01415875, 0.013338107, 0.01256589, 0.013950641, 0.015154044, 0.016390732, 0.014239861, 0.011198226, 0.01239068, 0.021961428, 0.012771871, 0.012525753, 0.013648041, 0.013011076]\n",
      "2022-02-28 17:40:53,185 : INFO : merging changes from 1204 documents into a model of 3204 documents\n",
      "2022-02-28 17:40:53,191 : INFO : topic #33 (0.011): 0.109*\"altern\" + 0.057*\"result\" + 0.050*\"yield\" + 0.046*\"form\" + 0.044*\"load\" + 0.044*\"compar\" + 0.043*\"determin\" + 0.041*\"rectangular\" + 0.039*\"evalu\" + 0.031*\"appear\"\n",
      "2022-02-28 17:40:53,191 : INFO : topic #76 (0.011): 0.111*\",\" + 0.048*\"comput\" + 0.042*\"-\" + 0.031*\"3\" + 0.027*\"center\" + 0.024*\"commun\" + 0.022*\"success\" + 0.021*\"man\" + 0.020*\"control\" + 0.020*\"consid\"\n",
      "2022-02-28 17:40:53,193 : INFO : topic #95 (0.022): 0.395*\"problem\" + 0.103*\"solut\" + 0.060*\"-\" + 0.055*\"solv\" + 0.048*\"program\" + 0.030*\",\" + 0.024*\"nonlinear\" + 0.023*\"improv\" + 0.019*\"paper\" + 0.019*\"linear\"\n",
      "2022-02-28 17:40:53,194 : INFO : topic #41 (0.029): 0.221*\"[\" + 0.207*\"algorithm\" + 0.202*\"(\" + 0.106*\"])\" + 0.081*\")\" + 0.062*\"integr\" + 0.017*\"-\" + 0.012*\"'\" + 0.012*\"coeffici\" + 0.010*\"g5\"\n",
      "2022-02-28 17:40:53,195 : INFO : topic #11 (0.034): 0.400*\"(\" + 0.361*\")\" + 0.141*\"algorithm\" + 0.025*\"1\" + 0.017*\"-\" + 0.014*\"3\" + 0.010*\"invers\" + 0.009*\"complex\" + 0.005*\"0\" + 0.005*\"strongli\"\n",
      "2022-02-28 17:40:53,196 : INFO : topic diff=0.209722, rho=0.238352\n",
      "2022-02-28 17:40:53,206 : INFO : PROGRESS: pass 16, at document #2000/3204\n",
      "2022-02-28 17:40:54,151 : INFO : optimized alpha [0.012958224, 0.012429786, 0.012524506, 0.014813737, 0.012226408, 0.011418605, 0.012401128, 0.013898802, 0.011624874, 0.014659616, 0.011555563, 0.036218137, 0.012728419, 0.013329174, 0.012988685, 0.011801834, 0.012337274, 0.013383217, 0.011445828, 0.0114381565, 0.011247133, 0.01228463, 0.013532963, 0.01277791, 0.011968645, 0.012162576, 0.011990144, 0.011212167, 0.01375742, 0.011785013, 0.011832327, 0.012213591, 0.011994344, 0.010911485, 0.013077422, 0.019526294, 0.017735723, 0.013322887, 0.01239929, 0.014074739, 0.014109828, 0.029924057, 0.013066306, 0.012639405, 0.011286376, 0.011856852, 0.015132637, 0.0131317, 0.013180433, 0.012111566, 0.011628999, 0.011195302, 0.01310503, 0.011951494, 0.01238597, 0.01191634, 0.012520225, 0.011928962, 0.012527901, 0.012276677, 0.0112907, 0.012687234, 0.012913243, 0.01253964, 0.013163516, 0.011684362, 0.0158894, 0.013488346, 0.011269147, 0.013406974, 0.01609147, 0.011982162, 0.012631431, 0.015885126, 0.015749237, 0.01414146, 0.011101968, 0.01107332, 0.011934669, 0.012103687, 0.0129620945, 0.012049487, 0.012407595, 0.011181833, 0.011570882, 0.013364999, 0.014237821, 0.01344556, 0.01259789, 0.0140426, 0.015233206, 0.016668433, 0.014204391, 0.011220153, 0.012427656, 0.022204855, 0.012769902, 0.012625976, 0.013797935, 0.01314235]\n",
      "2022-02-28 17:40:54,157 : INFO : merging changes from 2000 documents into a model of 3204 documents\n",
      "2022-02-28 17:40:54,163 : INFO : topic #33 (0.011): 0.102*\"altern\" + 0.055*\"result\" + 0.051*\"yield\" + 0.051*\"determin\" + 0.046*\"form\" + 0.045*\"evalu\" + 0.045*\"load\" + 0.043*\"compar\" + 0.040*\"rectangular\" + 0.030*\",\"\n",
      "2022-02-28 17:40:54,164 : INFO : topic #77 (0.011): 0.121*\",\" + 0.072*\"program\" + 0.045*\"system\" + 0.038*\"-\" + 0.029*\"basic\" + 0.021*\"written\" + 0.019*\"user\" + 0.019*\"game\" + 0.018*\"subroutin\" + 0.016*\"languag\"\n",
      "2022-02-28 17:40:54,166 : INFO : topic #95 (0.022): 0.392*\"problem\" + 0.104*\"solut\" + 0.061*\"-\" + 0.055*\"solv\" + 0.048*\"program\" + 0.030*\",\" + 0.024*\"nonlinear\" + 0.023*\"improv\" + 0.019*\"paper\" + 0.018*\"linear\"\n",
      "2022-02-28 17:40:54,167 : INFO : topic #41 (0.030): 0.215*\"[\" + 0.204*\"algorithm\" + 0.203*\"(\" + 0.128*\"])\" + 0.064*\")\" + 0.064*\"integr\" + 0.018*\"-\" + 0.013*\"coeffici\" + 0.012*\"'\" + 0.010*\"normal\"\n",
      "2022-02-28 17:40:54,169 : INFO : topic #11 (0.036): 0.397*\"(\" + 0.362*\")\" + 0.149*\"algorithm\" + 0.024*\"1\" + 0.017*\"-\" + 0.013*\"3\" + 0.010*\"invers\" + 0.008*\"complex\" + 0.005*\"0\" + 0.004*\"number\"\n",
      "2022-02-28 17:40:54,169 : INFO : topic diff=0.187085, rho=0.231857\n",
      "2022-02-28 17:40:55,143 : INFO : -6.449 per-word bound, 87.4 perplexity estimate based on a held-out corpus of 1204 documents with 49783 words\n",
      "2022-02-28 17:40:55,144 : INFO : PROGRESS: pass 16, at document #3204/3204\n",
      "2022-02-28 17:40:55,945 : INFO : optimized alpha [0.013117678, 0.012604416, 0.012611236, 0.014894729, 0.01237113, 0.011533133, 0.01256214, 0.01400128, 0.0117381485, 0.014931873, 0.01161076, 0.038089376, 0.012864823, 0.013422426, 0.0131433355, 0.011884644, 0.012474951, 0.013568077, 0.011524892, 0.011524902, 0.011365689, 0.012440081, 0.013598614, 0.012881379, 0.0120473495, 0.012316647, 0.012134581, 0.011293621, 0.013953973, 0.011878588, 0.011966096, 0.012361717, 0.012106288, 0.011020202, 0.013263481, 0.01995315, 0.018073978, 0.013461904, 0.01255501, 0.014276937, 0.014290498, 0.029957052, 0.013230885, 0.012780408, 0.0114046885, 0.01198623, 0.015418935, 0.01322824, 0.013348348, 0.012255591, 0.01171903, 0.011297661, 0.013258726, 0.012091202, 0.01253467, 0.012043595, 0.012681135, 0.012065345, 0.012635054, 0.012415196, 0.011406815, 0.0128718065, 0.013032682, 0.01270031, 0.013313832, 0.011793846, 0.016323743, 0.013680692, 0.0113986265, 0.013607031, 0.016396312, 0.012034229, 0.012766946, 0.01623378, 0.015974449, 0.014321553, 0.011179741, 0.011110804, 0.01205863, 0.012182295, 0.013010107, 0.012146344, 0.012546869, 0.011223022, 0.0116658835, 0.013452066, 0.014482234, 0.013621821, 0.012741042, 0.014201716, 0.015594816, 0.016958795, 0.0144373905, 0.011342323, 0.012538911, 0.022856468, 0.012928938, 0.012715896, 0.013924062, 0.0132537605]\n",
      "2022-02-28 17:40:55,952 : INFO : merging changes from 1204 documents into a model of 3204 documents\n",
      "2022-02-28 17:40:55,960 : INFO : topic #33 (0.011): 0.109*\"altern\" + 0.060*\"result\" + 0.051*\"yield\" + 0.047*\"form\" + 0.046*\"determin\" + 0.045*\"load\" + 0.044*\"compar\" + 0.044*\"evalu\" + 0.041*\"rectangular\" + 0.032*\"appear\"\n",
      "2022-02-28 17:40:55,961 : INFO : topic #77 (0.011): 0.122*\",\" + 0.072*\"program\" + 0.043*\"system\" + 0.037*\"-\" + 0.027*\"basic\" + 0.024*\"game\" + 0.021*\"written\" + 0.020*\"user\" + 0.016*\"provid\" + 0.016*\"subroutin\"\n",
      "2022-02-28 17:40:55,961 : INFO : topic #95 (0.023): 0.400*\"problem\" + 0.104*\"solut\" + 0.060*\"-\" + 0.055*\"solv\" + 0.046*\"program\" + 0.030*\",\" + 0.024*\"nonlinear\" + 0.023*\"improv\" + 0.019*\"linear\" + 0.019*\"paper\"\n",
      "2022-02-28 17:40:55,962 : INFO : topic #41 (0.030): 0.229*\"[\" + 0.206*\"algorithm\" + 0.198*\"(\" + 0.110*\"])\" + 0.070*\")\" + 0.064*\"integr\" + 0.017*\"-\" + 0.013*\"'\" + 0.013*\"coeffici\" + 0.011*\"g5\"\n",
      "2022-02-28 17:40:55,963 : INFO : topic #11 (0.038): 0.403*\"(\" + 0.364*\")\" + 0.143*\"algorithm\" + 0.024*\"1\" + 0.016*\"-\" + 0.013*\"3\" + 0.008*\"invers\" + 0.007*\"complex\" + 0.005*\"strongli\" + 0.005*\"0\"\n",
      "2022-02-28 17:40:55,964 : INFO : topic diff=0.192633, rho=0.231857\n",
      "2022-02-28 17:40:55,973 : INFO : PROGRESS: pass 17, at document #2000/3204\n",
      "2022-02-28 17:40:56,747 : INFO : optimized alpha [0.013187315, 0.012588868, 0.012699817, 0.015049348, 0.0123994, 0.011561993, 0.012614997, 0.014151962, 0.011757299, 0.014962197, 0.011660254, 0.03998899, 0.012932504, 0.013505987, 0.013167492, 0.011935759, 0.0125085795, 0.013586057, 0.011535567, 0.011538723, 0.011365525, 0.01245316, 0.013720792, 0.012964434, 0.012110158, 0.012367842, 0.012162418, 0.011290119, 0.013921221, 0.011891984, 0.01200169, 0.012368094, 0.012122539, 0.011039713, 0.013297285, 0.02021124, 0.01822704, 0.01354912, 0.012574706, 0.014438736, 0.014378009, 0.030642742, 0.013283267, 0.012827731, 0.011403966, 0.0119854845, 0.015456389, 0.013339009, 0.01342439, 0.0123149445, 0.011739305, 0.011303799, 0.013289628, 0.01213424, 0.012590201, 0.012040348, 0.012720472, 0.012062944, 0.012685587, 0.012399343, 0.01143223, 0.012925311, 0.013059205, 0.012715807, 0.013485265, 0.01182159, 0.016435832, 0.013684506, 0.011431788, 0.013690802, 0.016534736, 0.012134214, 0.012790099, 0.016382823, 0.016200976, 0.014444316, 0.011214405, 0.011175054, 0.012090357, 0.012306489, 0.013099704, 0.012199382, 0.012595316, 0.01125627, 0.011681175, 0.013608209, 0.014559478, 0.013733652, 0.012770831, 0.014295146, 0.015685933, 0.017236663, 0.014400208, 0.011365034, 0.012578027, 0.023089275, 0.012926744, 0.012817359, 0.014065527, 0.013383141]\n",
      "2022-02-28 17:40:56,754 : INFO : merging changes from 2000 documents into a model of 3204 documents\n",
      "2022-02-28 17:40:56,761 : INFO : topic #33 (0.011): 0.102*\"altern\" + 0.058*\"result\" + 0.054*\"determin\" + 0.052*\"yield\" + 0.051*\"evalu\" + 0.048*\"form\" + 0.045*\"load\" + 0.043*\"compar\" + 0.040*\"rectangular\" + 0.030*\"appear\"\n",
      "2022-02-28 17:40:56,762 : INFO : topic #77 (0.011): 0.121*\",\" + 0.073*\"program\" + 0.045*\"system\" + 0.038*\"-\" + 0.030*\"basic\" + 0.021*\"written\" + 0.019*\"user\" + 0.019*\"subroutin\" + 0.019*\"game\" + 0.016*\"oper\"\n",
      "2022-02-28 17:40:56,763 : INFO : topic #95 (0.023): 0.397*\"problem\" + 0.105*\"solut\" + 0.060*\"-\" + 0.056*\"solv\" + 0.047*\"program\" + 0.029*\",\" + 0.024*\"nonlinear\" + 0.022*\"improv\" + 0.019*\"paper\" + 0.018*\"linear\"\n",
      "2022-02-28 17:40:56,765 : INFO : topic #41 (0.031): 0.220*\"[\" + 0.204*\"algorithm\" + 0.200*\"(\" + 0.131*\"])\" + 0.066*\"integr\" + 0.055*\")\" + 0.018*\"-\" + 0.014*\"coeffici\" + 0.012*\"'\" + 0.010*\"normal\"\n",
      "2022-02-28 17:40:56,766 : INFO : topic #11 (0.040): 0.400*\"(\" + 0.365*\")\" + 0.150*\"algorithm\" + 0.023*\"1\" + 0.016*\"-\" + 0.012*\"3\" + 0.008*\"invers\" + 0.006*\"complex\" + 0.004*\"0\" + 0.004*\"strongli\"\n",
      "2022-02-28 17:40:56,767 : INFO : topic diff=0.172943, rho=0.225865\n",
      "2022-02-28 17:40:57,679 : INFO : -6.443 per-word bound, 87.0 perplexity estimate based on a held-out corpus of 1204 documents with 49783 words\n",
      "2022-02-28 17:40:57,680 : INFO : PROGRESS: pass 17, at document #3204/3204\n",
      "2022-02-28 17:40:58,393 : INFO : optimized alpha [0.013351759, 0.012762993, 0.012787253, 0.015130973, 0.01254642, 0.011678967, 0.012780649, 0.0142521355, 0.011873071, 0.01522808, 0.011714396, 0.041927557, 0.013068964, 0.013599872, 0.013324553, 0.01201925, 0.012641571, 0.01376787, 0.011615373, 0.0116261095, 0.011486282, 0.012608511, 0.013787433, 0.013063455, 0.012185051, 0.012517159, 0.012309126, 0.01137015, 0.014109121, 0.0119838845, 0.012144618, 0.012513701, 0.012237006, 0.011146512, 0.013480412, 0.020634534, 0.018561035, 0.013690747, 0.01273023, 0.014643592, 0.014555733, 0.030663887, 0.013447693, 0.0129638985, 0.011522377, 0.012119439, 0.015741996, 0.01343605, 0.013589658, 0.012458984, 0.011827762, 0.011402203, 0.013440731, 0.0122784935, 0.012741196, 0.012167724, 0.012876372, 0.01219469, 0.012800305, 0.0125354035, 0.011544173, 0.013107155, 0.01318142, 0.012871466, 0.013635758, 0.011929124, 0.01686873, 0.013881477, 0.011569886, 0.013893235, 0.016833063, 0.01218968, 0.012925507, 0.016741812, 0.016431907, 0.014618735, 0.011292891, 0.011211832, 0.012214442, 0.012383346, 0.013149021, 0.012298987, 0.012734618, 0.011296754, 0.011772243, 0.013688138, 0.014795243, 0.013917578, 0.012909148, 0.014451447, 0.01605719, 0.01753021, 0.014629383, 0.011496016, 0.012687269, 0.023759874, 0.013087915, 0.012905384, 0.014186562, 0.013494848]\n",
      "2022-02-28 17:40:58,400 : INFO : merging changes from 1204 documents into a model of 3204 documents\n",
      "2022-02-28 17:40:58,406 : INFO : topic #33 (0.011): 0.110*\"altern\" + 0.062*\"result\" + 0.052*\"yield\" + 0.049*\"form\" + 0.048*\"evalu\" + 0.048*\"determin\" + 0.045*\"compar\" + 0.045*\"load\" + 0.041*\"rectangular\" + 0.032*\"appear\"\n",
      "2022-02-28 17:40:58,408 : INFO : topic #77 (0.011): 0.122*\",\" + 0.072*\"program\" + 0.043*\"system\" + 0.037*\"-\" + 0.028*\"basic\" + 0.024*\"game\" + 0.021*\"written\" + 0.020*\"user\" + 0.016*\"subroutin\" + 0.016*\"provid\"\n",
      "2022-02-28 17:40:58,409 : INFO : topic #95 (0.024): 0.405*\"problem\" + 0.105*\"solut\" + 0.059*\"-\" + 0.056*\"solv\" + 0.045*\"program\" + 0.029*\",\" + 0.024*\"nonlinear\" + 0.023*\"improv\" + 0.020*\"linear\" + 0.019*\"paper\"\n",
      "2022-02-28 17:40:58,411 : INFO : topic #41 (0.031): 0.236*\"[\" + 0.205*\"algorithm\" + 0.195*\"(\" + 0.114*\"])\" + 0.066*\"integr\" + 0.061*\")\" + 0.017*\"-\" + 0.013*\"coeffici\" + 0.013*\"'\" + 0.011*\"g5\"\n",
      "2022-02-28 17:40:58,412 : INFO : topic #11 (0.042): 0.406*\"(\" + 0.367*\")\" + 0.144*\"algorithm\" + 0.023*\"1\" + 0.016*\"-\" + 0.012*\"3\" + 0.007*\"invers\" + 0.006*\"complex\" + 0.005*\"strongli\" + 0.004*\"0\"\n",
      "2022-02-28 17:40:58,413 : INFO : topic diff=0.178156, rho=0.225865\n",
      "2022-02-28 17:40:58,422 : INFO : PROGRESS: pass 18, at document #2000/3204\n",
      "2022-02-28 17:40:59,206 : INFO : optimized alpha [0.013426114, 0.012747357, 0.012880261, 0.015283394, 0.012573995, 0.011704687, 0.012835259, 0.014402362, 0.011894443, 0.015255247, 0.011764436, 0.043934952, 0.013135447, 0.013680512, 0.013345037, 0.012072206, 0.012674465, 0.013785101, 0.011624737, 0.011639792, 0.011486046, 0.012622479, 0.013906252, 0.0131451925, 0.012245524, 0.01256035, 0.012338965, 0.011366932, 0.0140750725, 0.011998444, 0.012179451, 0.012521102, 0.012255624, 0.011168085, 0.01351616, 0.020900505, 0.018717289, 0.013778005, 0.012752115, 0.0148102455, 0.014640006, 0.031342078, 0.013500386, 0.013010264, 0.0115216365, 0.012119999, 0.015776016, 0.013552584, 0.013662866, 0.01252137, 0.011847753, 0.011407012, 0.013470832, 0.012321983, 0.012797069, 0.012167134, 0.012916256, 0.012190876, 0.012851382, 0.012519777, 0.011572927, 0.013156556, 0.013207411, 0.0128878355, 0.013805581, 0.0119577, 0.016976273, 0.013889459, 0.011607458, 0.013980127, 0.016974704, 0.012292279, 0.012946687, 0.016899882, 0.0166547, 0.014739665, 0.011322033, 0.011272615, 0.012248265, 0.012510003, 0.013231398, 0.012355196, 0.012786372, 0.011329627, 0.011786034, 0.013840727, 0.014870786, 0.014033907, 0.012941157, 0.014543306, 0.01616004, 0.017810173, 0.014592177, 0.011520786, 0.012722872, 0.02399754, 0.013086936, 0.013008176, 0.014324574, 0.013626987]\n",
      "2022-02-28 17:40:59,214 : INFO : merging changes from 2000 documents into a model of 3204 documents\n",
      "2022-02-28 17:40:59,220 : INFO : topic #33 (0.011): 0.103*\"altern\" + 0.060*\"result\" + 0.056*\"determin\" + 0.055*\"evalu\" + 0.053*\"yield\" + 0.049*\"form\" + 0.045*\"load\" + 0.045*\"compar\" + 0.040*\"rectangular\" + 0.031*\"appear\"\n",
      "2022-02-28 17:40:59,221 : INFO : topic #77 (0.011): 0.122*\",\" + 0.073*\"program\" + 0.045*\"system\" + 0.038*\"-\" + 0.030*\"basic\" + 0.021*\"written\" + 0.019*\"user\" + 0.019*\"subroutin\" + 0.019*\"game\" + 0.016*\"oper\"\n",
      "2022-02-28 17:40:59,222 : INFO : topic #95 (0.024): 0.402*\"problem\" + 0.105*\"solut\" + 0.060*\"-\" + 0.056*\"solv\" + 0.045*\"program\" + 0.029*\",\" + 0.024*\"nonlinear\" + 0.023*\"improv\" + 0.018*\"paper\" + 0.018*\"linear\"\n",
      "2022-02-28 17:40:59,223 : INFO : topic #41 (0.031): 0.226*\"[\" + 0.203*\"algorithm\" + 0.197*\"(\" + 0.133*\"])\" + 0.067*\"integr\" + 0.048*\")\" + 0.018*\"-\" + 0.014*\"coeffici\" + 0.012*\"'\" + 0.010*\"normal\"\n",
      "2022-02-28 17:40:59,224 : INFO : topic #11 (0.044): 0.403*\"(\" + 0.367*\")\" + 0.151*\"algorithm\" + 0.023*\"1\" + 0.015*\"-\" + 0.012*\"3\" + 0.007*\"invers\" + 0.005*\"complex\" + 0.004*\"strongli\" + 0.003*\"0\"\n",
      "2022-02-28 17:40:59,225 : INFO : topic diff=0.160678, rho=0.220316\n",
      "2022-02-28 17:41:00,198 : INFO : -6.436 per-word bound, 86.6 perplexity estimate based on a held-out corpus of 1204 documents with 49783 words\n",
      "2022-02-28 17:41:00,202 : INFO : PROGRESS: pass 18, at document #3204/3204\n",
      "2022-02-28 17:41:01,023 : INFO : optimized alpha [0.013588337, 0.012916444, 0.012970827, 0.015362935, 0.012725683, 0.011824099, 0.012996219, 0.014505582, 0.01201052, 0.0155177545, 0.011817603, 0.045913402, 0.013272052, 0.0137751335, 0.013504594, 0.012154242, 0.012809938, 0.013971857, 0.0117032025, 0.011725723, 0.011602694, 0.012780184, 0.013968756, 0.013244749, 0.012319052, 0.012712104, 0.012485732, 0.011445628, 0.014262507, 0.012095487, 0.01231352, 0.012659804, 0.012372528, 0.011275178, 0.013696595, 0.021331273, 0.01905072, 0.013914733, 0.0129052475, 0.015026405, 0.014817616, 0.03135274, 0.013659772, 0.013148889, 0.011640221, 0.012251806, 0.016058246, 0.013652669, 0.013830629, 0.01266328, 0.011932512, 0.011512188, 0.013624473, 0.012466314, 0.012957661, 0.012294636, 0.013069843, 0.012327197, 0.012964161, 0.012658233, 0.011683032, 0.013335885, 0.013325161, 0.01305068, 0.013958764, 0.0120656, 0.017395373, 0.014081007, 0.011743538, 0.014174875, 0.017269764, 0.012348842, 0.013084713, 0.017260244, 0.016879331, 0.014916865, 0.011397095, 0.011308719, 0.012372606, 0.012587522, 0.013279744, 0.012448508, 0.012921124, 0.011369487, 0.0118799135, 0.013923836, 0.015103619, 0.014223063, 0.013074903, 0.01469698, 0.016526252, 0.018103708, 0.014815104, 0.01164983, 0.012832502, 0.02467429, 0.013250377, 0.01309444, 0.014443233, 0.013731559]\n",
      "2022-02-28 17:41:01,030 : INFO : merging changes from 1204 documents into a model of 3204 documents\n",
      "2022-02-28 17:41:01,040 : INFO : topic #33 (0.011): 0.110*\"altern\" + 0.064*\"result\" + 0.052*\"yield\" + 0.052*\"evalu\" + 0.050*\"determin\" + 0.050*\"form\" + 0.046*\"compar\" + 0.045*\"load\" + 0.041*\"rectangular\" + 0.032*\"appear\"\n",
      "2022-02-28 17:41:01,041 : INFO : topic #77 (0.011): 0.122*\",\" + 0.073*\"program\" + 0.043*\"system\" + 0.037*\"-\" + 0.028*\"basic\" + 0.024*\"game\" + 0.021*\"written\" + 0.020*\"user\" + 0.016*\"subroutin\" + 0.016*\"provid\"\n",
      "2022-02-28 17:41:01,042 : INFO : topic #95 (0.025): 0.409*\"problem\" + 0.105*\"solut\" + 0.058*\"-\" + 0.057*\"solv\" + 0.044*\"program\" + 0.029*\",\" + 0.024*\"nonlinear\" + 0.023*\"improv\" + 0.020*\"linear\" + 0.018*\"paper\"\n",
      "2022-02-28 17:41:01,044 : INFO : topic #41 (0.031): 0.240*\"[\" + 0.204*\"algorithm\" + 0.192*\"(\" + 0.116*\"])\" + 0.068*\"integr\" + 0.054*\")\" + 0.017*\"-\" + 0.014*\"coeffici\" + 0.013*\"'\" + 0.011*\"g5\"\n",
      "2022-02-28 17:41:01,045 : INFO : topic #11 (0.046): 0.408*\"(\" + 0.369*\")\" + 0.145*\"algorithm\" + 0.023*\"1\" + 0.015*\"-\" + 0.012*\"3\" + 0.006*\"invers\" + 0.005*\"complex\" + 0.005*\"strongli\" + 0.003*\"0\"\n",
      "2022-02-28 17:41:01,047 : INFO : topic diff=0.165373, rho=0.220316\n",
      "2022-02-28 17:41:01,056 : INFO : PROGRESS: pass 19, at document #2000/3204\n",
      "2022-02-28 17:41:01,825 : INFO : optimized alpha [0.013667344, 0.012902164, 0.01306538, 0.015513272, 0.012756707, 0.011851832, 0.013048353, 0.014653978, 0.012031522, 0.015546881, 0.011866954, 0.04800909, 0.013337355, 0.013853128, 0.013524479, 0.012207712, 0.012840794, 0.013988391, 0.011713809, 0.011743058, 0.011602406, 0.012796484, 0.014092013, 0.013323834, 0.012379956, 0.0127612995, 0.012514891, 0.011443891, 0.014228715, 0.01210725, 0.012351634, 0.012666923, 0.012390763, 0.011302398, 0.013732867, 0.02160585, 0.019200055, 0.014002122, 0.012929313, 0.015194829, 0.01489878, 0.03203071, 0.01371291, 0.0131943505, 0.011639428, 0.0122576095, 0.016088974, 0.013773631, 0.013904056, 0.01272603, 0.011952233, 0.01152436, 0.013655321, 0.012511659, 0.013016661, 0.01229133, 0.013107415, 0.012330009, 0.013013001, 0.012642804, 0.01171123, 0.013389999, 0.013350658, 0.013066512, 0.014130061, 0.01209761, 0.01750778, 0.014093002, 0.011790487, 0.014263315, 0.01740906, 0.012450099, 0.013103954, 0.017423833, 0.017105566, 0.015036083, 0.011424579, 0.011366228, 0.0124072, 0.012712657, 0.013365265, 0.012501145, 0.01297472, 0.011402008, 0.011892233, 0.014067118, 0.015177545, 0.014345538, 0.013109033, 0.014788897, 0.016625075, 0.018383984, 0.014777909, 0.011676637, 0.012870255, 0.024906341, 0.013249103, 0.013194411, 0.014579498, 0.013869447]\n",
      "2022-02-28 17:41:01,830 : INFO : merging changes from 2000 documents into a model of 3204 documents\n",
      "2022-02-28 17:41:01,837 : INFO : topic #33 (0.011): 0.103*\"altern\" + 0.062*\"result\" + 0.059*\"evalu\" + 0.058*\"determin\" + 0.053*\"yield\" + 0.050*\"form\" + 0.045*\"compar\" + 0.045*\"load\" + 0.040*\"rectangular\" + 0.031*\"appear\"\n",
      "2022-02-28 17:41:01,838 : INFO : topic #77 (0.011): 0.122*\",\" + 0.073*\"program\" + 0.045*\"system\" + 0.037*\"-\" + 0.030*\"basic\" + 0.022*\"written\" + 0.020*\"user\" + 0.019*\"subroutin\" + 0.019*\"game\" + 0.016*\"oper\"\n",
      "2022-02-28 17:41:01,839 : INFO : topic #95 (0.025): 0.406*\"problem\" + 0.105*\"solut\" + 0.059*\"-\" + 0.057*\"solv\" + 0.045*\"program\" + 0.029*\",\" + 0.024*\"nonlinear\" + 0.023*\"improv\" + 0.019*\"linear\" + 0.018*\"paper\"\n",
      "2022-02-28 17:41:01,841 : INFO : topic #41 (0.032): 0.229*\"[\" + 0.202*\"algorithm\" + 0.195*\"(\" + 0.135*\"])\" + 0.069*\"integr\" + 0.044*\")\" + 0.017*\"-\" + 0.015*\"coeffici\" + 0.012*\"'\" + 0.011*\"normal\"\n",
      "2022-02-28 17:41:01,842 : INFO : topic #11 (0.048): 0.405*\"(\" + 0.369*\")\" + 0.152*\"algorithm\" + 0.022*\"1\" + 0.015*\"-\" + 0.011*\"3\" + 0.007*\"invers\" + 0.004*\"complex\" + 0.004*\"strongli\" + 0.003*\"0\"\n",
      "2022-02-28 17:41:01,842 : INFO : topic diff=0.150110, rho=0.215156\n",
      "2022-02-28 17:41:02,871 : INFO : -6.431 per-word bound, 86.3 perplexity estimate based on a held-out corpus of 1204 documents with 49783 words\n",
      "2022-02-28 17:41:02,872 : INFO : PROGRESS: pass 19, at document #3204/3204\n",
      "2022-02-28 17:41:03,689 : INFO : optimized alpha [0.013834818, 0.013073393, 0.013152117, 0.015590874, 0.012904041, 0.011971618, 0.013204889, 0.014757751, 0.012143691, 0.015806334, 0.01191923, 0.050081767, 0.013474284, 0.013943577, 0.013672025, 0.012288346, 0.012971926, 0.014172548, 0.011791027, 0.011829725, 0.011719337, 0.012956646, 0.0141531145, 0.013424035, 0.01244999, 0.012910994, 0.012659641, 0.011521339, 0.014415872, 0.012202748, 0.012486033, 0.012805799, 0.012505899, 0.011411954, 0.013913233, 0.02203286, 0.01952618, 0.014136692, 0.013082539, 0.015408738, 0.0150737045, 0.03203078, 0.013877287, 0.013333251, 0.011756213, 0.012396316, 0.01636222, 0.013874333, 0.014067037, 0.01286368, 0.012031331, 0.011627912, 0.0138164805, 0.01265171, 0.013177463, 0.012416825, 0.0132588055, 0.012466582, 0.013126324, 0.012776881, 0.011823787, 0.013564645, 0.013468934, 0.013231773, 0.014286034, 0.012203829, 0.017947337, 0.014289667, 0.011928911, 0.014460833, 0.017716637, 0.0125033, 0.013237507, 0.017794969, 0.0173302, 0.015205307, 0.0115046315, 0.0114058545, 0.012527437, 0.0127931, 0.013415058, 0.012597399, 0.013109806, 0.011441278, 0.011982493, 0.014143385, 0.0154076405, 0.014535051, 0.013243019, 0.014945422, 0.01699876, 0.018677592, 0.014997602, 0.011808103, 0.012978139, 0.025584929, 0.013414999, 0.013279086, 0.014693372, 0.013974583]\n",
      "2022-02-28 17:41:03,696 : INFO : merging changes from 1204 documents into a model of 3204 documents\n",
      "2022-02-28 17:41:03,701 : INFO : topic #33 (0.011): 0.110*\"altern\" + 0.065*\"result\" + 0.057*\"evalu\" + 0.053*\"determin\" + 0.052*\"yield\" + 0.050*\"form\" + 0.048*\"compar\" + 0.045*\"load\" + 0.041*\"rectangular\" + 0.033*\"appear\"\n",
      "2022-02-28 17:41:03,703 : INFO : topic #77 (0.011): 0.123*\",\" + 0.073*\"program\" + 0.044*\"system\" + 0.037*\"-\" + 0.028*\"basic\" + 0.024*\"game\" + 0.021*\"written\" + 0.021*\"user\" + 0.017*\"provid\" + 0.017*\"subroutin\"\n",
      "2022-02-28 17:41:03,705 : INFO : topic #95 (0.026): 0.413*\"problem\" + 0.105*\"solut\" + 0.058*\"-\" + 0.058*\"solv\" + 0.043*\"program\" + 0.029*\",\" + 0.024*\"nonlinear\" + 0.023*\"improv\" + 0.020*\"linear\" + 0.018*\"paper\"\n",
      "2022-02-28 17:41:03,705 : INFO : topic #41 (0.032): 0.245*\"[\" + 0.203*\"algorithm\" + 0.190*\"(\" + 0.118*\"])\" + 0.070*\"integr\" + 0.048*\")\" + 0.017*\"-\" + 0.014*\"coeffici\" + 0.013*\"'\" + 0.011*\"g5\"\n",
      "2022-02-28 17:41:03,706 : INFO : topic #11 (0.050): 0.410*\"(\" + 0.371*\")\" + 0.146*\"algorithm\" + 0.022*\"1\" + 0.014*\"-\" + 0.011*\"3\" + 0.006*\"invers\" + 0.005*\"strongli\" + 0.004*\"complex\" + 0.003*\"0\"\n",
      "2022-02-28 17:41:03,707 : INFO : topic diff=0.154355, rho=0.215156\n"
     ]
    },
    {
     "data": {
      "text/plain": [
       "[(0, 0.00568928),\n",
       " (1, 0.00537616),\n",
       " (2, 0.005408534),\n",
       " (3, 0.0064114216),\n",
       " (4, 0.0053065177),\n",
       " (5, 0.004923078),\n",
       " (6, 0.005430235),\n",
       " (7, 0.006068817),\n",
       " (8, 0.0049938397),\n",
       " (9, 0.0065000253),\n",
       " (10, 0.004901535),\n",
       " (11, 0.020595081),\n",
       " (12, 0.005541018),\n",
       " (13, 0.005734005),\n",
       " (14, 0.005622335),\n",
       " (15, 0.005053326),\n",
       " (16, 0.0053344336),\n",
       " (17, 0.005828165),\n",
       " (18, 0.004848814),\n",
       " (19, 0.004864727),\n",
       " (20, 0.0048193326),\n",
       " (21, 0.0053281505),\n",
       " (22, 0.005820173),\n",
       " (23, 0.0055203545),\n",
       " (24, 0.0051197987),\n",
       " (25, 0.005309377),\n",
       " (26, 0.005206013),\n",
       " (27, 0.0047379103),\n",
       " (28, 0.0059282267),\n",
       " (29, 0.0050181258),\n",
       " (30, 0.0051346207),\n",
       " (31, 0.005266118),\n",
       " (32, 0.0051427903),\n",
       " (33, 0.004692928),\n",
       " (34, 0.0057215267),\n",
       " (35, 0.009060554),\n",
       " (36, 0.008029734),\n",
       " (37, 0.0058134194),\n",
       " (38, 0.0053799213),\n",
       " (39, 0.006336522),\n",
       " (40, 0.0061987466),\n",
       " (41, 0.0131719895),\n",
       " (42, 0.0057067447),\n",
       " (43, 0.005483021),\n",
       " (44, 0.0048344973),\n",
       " (45, 0.0050977264),\n",
       " (46, 0.0067286217),\n",
       " (47, 0.0057055303),\n",
       " (48, 0.0057847756),\n",
       " (49, 0.0052899197),\n",
       " (50, 0.004947634),\n",
       " (51, 0.41600642),\n",
       " (52, 0.005681739),\n",
       " (53, 0.0052027516),\n",
       " (54, 0.0054189567),\n",
       " (55, 0.00510616),\n",
       " (56, 0.005452407),\n",
       " (57, 0.0051266216),\n",
       " (58, 0.005397927),\n",
       " (59, 0.005254226),\n",
       " (60, 0.0048622857),\n",
       " (61, 0.0055781775),\n",
       " (62, 0.005538818),\n",
       " (63, 0.0054412903),\n",
       " (64, 0.005874833),\n",
       " (65, 0.00501857),\n",
       " (66, 0.007380468),\n",
       " (67, 0.0058763274),\n",
       " (68, 0.004905516),\n",
       " (69, 0.005946716),\n",
       " (70, 0.0072855973),\n",
       " (71, 0.005141721),\n",
       " (72, 0.0054436484),\n",
       " (73, 0.0073178094),\n",
       " (74, 0.007126683),\n",
       " (75, 0.0062528653),\n",
       " (76, 0.0047310395),\n",
       " (77, 0.00469042),\n",
       " (78, 0.005151647),\n",
       " (79, 0.0052608955),\n",
       " (80, 0.0055166627),\n",
       " (81, 0.0051804176),\n",
       " (82, 0.005391134),\n",
       " (83, 0.004704987),\n",
       " (84, 0.0049275504),\n",
       " (85, 0.005816172),\n",
       " (86, 0.0063360706),\n",
       " (87, 0.005977236),\n",
       " (88, 0.0054459153),\n",
       " (89, 0.0061459932),\n",
       " (90, 0.0069903857),\n",
       " (91, 0.00768077),\n",
       " (92, 0.006167451),\n",
       " (93, 0.004855836),\n",
       " (94, 0.005336989),\n",
       " (95, 0.0105212685),\n",
       " (96, 0.005516638),\n",
       " (97, 0.005460747),\n",
       " (98, 0.0060423426),\n",
       " (99, 0.0057467557)]"
      ]
     },
     "execution_count": 85,
     "metadata": {},
     "output_type": "execute_result"
    }
   ],
   "source": [
    "##### Function check\n",
    "lda = LdaRetrievalModel(doc_repr_2)\n",
    "lda.train_model()\n",
    "\n",
    "# you can now get an LDA vector for a given query in the following way:\n",
    "lda.vectorize_query(\"report\")\n",
    "##### "
   ]
  },
  {
   "cell_type": "markdown",
   "metadata": {
    "deletable": false,
    "editable": false,
    "nbgrader": {
     "cell_type": "markdown",
     "checksum": "32d83b6ea79ca3ddb789a7f8805a1b25",
     "grade": false,
     "grade_id": "cell-0e24b727d5908c0e",
     "locked": true,
     "points": 5,
     "schema_version": 3,
     "solution": false,
     "task": true
    }
   },
   "source": [
    "\\#### Please do not change this. This cell is used for grading."
   ]
  },
  {
   "cell_type": "markdown",
   "metadata": {
    "deletable": false,
    "editable": false,
    "nbgrader": {
     "cell_type": "markdown",
     "checksum": "114a934f0b9ce696e6cf09d3b8da6a3d",
     "grade": false,
     "grade_id": "cell-b1bffcb970b18aeb",
     "locked": true,
     "schema_version": 3,
     "solution": false,
     "task": false
    }
   },
   "source": [
    "---\n",
    "Now we can use the `DenseRetrievalModel` class to obtain an LDA search function.\n",
    "You can test your LDA model in the following cell: Try finding queries which are lexically different to documents, but semantically similar - does LDA work well for these queries?!"
   ]
  },
  {
   "cell_type": "code",
   "execution_count": 86,
   "metadata": {},
   "outputs": [
    {
     "data": {
      "application/vnd.jupyter.widget-view+json": {
       "model_id": "d177676cc48a488da4e7b50f0774c6c6",
       "version_major": 2,
       "version_minor": 0
      },
      "text/plain": [
       "Text(value='', description='Search Bar')"
      ]
     },
     "metadata": {},
     "output_type": "display_data"
    }
   ],
   "source": [
    "drm_lda = DenseRetrievalRanker(lda, jenson_shannon_sim)\n",
    "\n",
    "# test your LDA model\n",
    "search_fn = drm_lda.search\n",
    "\n",
    "text = widgets.Text(description=\"Search Bar\", width=200)\n",
    "display(text)\n",
    "\n",
    "\n",
    "text.on_submit(handle_submit_2)"
   ]
  },
  {
   "cell_type": "markdown",
   "metadata": {
    "deletable": false,
    "editable": false,
    "nbgrader": {
     "cell_type": "markdown",
     "checksum": "9d7f15863b655119b45f4d89354e5661",
     "grade": false,
     "grade_id": "cell-190cd0854b2791cc",
     "locked": true,
     "schema_version": 3,
     "solution": false,
     "task": false
    }
   },
   "source": [
    "## Section 8: Word2Vec/Doc2Vec (20 points) <a class=\"anchor\" id=\"2vec\"></a>\n",
    "\n",
    "[Back to Part 2](#part2)\n",
    "\n",
    "We will implement two other methods here, the Word2Vec model and the Doc2Vec model, also using `gensim`. Word2Vec creates representations of words, not documents, so the word level vectors need to be aggregated to obtain a representation for the document. Here, we will simply take the mean of the vectors. \n",
    "\n",
    "\n",
    "A drawback of these models is that they need a lot of training data. Our dataset is tiny, so in addition to using a model trained on the data, we will also use a pre-trained model for Word2Vec (this will be automatically downloaded).     \n",
    "\n",
    "*Note*:\n",
    "1. The code in vectorize_documents / vectorize_query should return gensim-like vectors i.e `[(dim, val), .. (dim, val)]`. \n",
    "2. For Word2Vec: You should also handle the following two cases: (a) A word in the query is not present in the vocabulary of the model and (b) none of the words in the query are present in the model - you can return 0 scores for all documents in this case. For either of these, you can check if a `word` is present in the vocab by using `word in self.model`\n"
   ]
  },
  {
   "cell_type": "code",
   "execution_count": 87,
   "metadata": {
    "deletable": false,
    "nbgrader": {
     "cell_type": "code",
     "checksum": "83ab733608ed14c29c09b36b4e1b6daa",
     "grade": false,
     "grade_id": "cell-2b73759f9baf688f",
     "locked": false,
     "schema_version": 3,
     "solution": true,
     "task": false
    }
   },
   "outputs": [
    {
     "name": "stderr",
     "output_type": "stream",
     "text": [
      "2022-02-28 17:41:06,118 : INFO : adding document #0 to Dictionary(0 unique tokens: [])\n",
      "2022-02-28 17:41:06,325 : INFO : built Dictionary(5937 unique tokens: ['-', 'algebra', 'intern', 'languag', 'preliminari']...) from 3204 documents (total 115969 corpus positions)\n",
      "2022-02-28 17:41:06,335 : INFO : discarding 4740 tokens: [('repeat', 8), ('glossari', 7), ('inspect', 8), ('uncol', 2), ('rung', 9), ('secant', 2), ('.', 1603), ('acceler', 6), ('diverg', 3), ('induc', 9)]...\n",
      "2022-02-28 17:41:06,335 : INFO : keeping 1197 tokens which were in no less than 10 and no more than 1602 (=50.0%) documents\n",
      "2022-02-28 17:41:06,338 : INFO : resulting dictionary: Dictionary(1197 unique tokens: ['-', 'algebra', 'intern', 'languag', 'preliminari']...)\n",
      "2022-02-28 17:41:06,444 : INFO : collecting all words and their counts\n",
      "2022-02-28 17:41:06,445 : INFO : PROGRESS: at sentence #0, processed 0 words, keeping 0 word types\n",
      "2022-02-28 17:41:06,468 : INFO : collected 5937 word types from a corpus of 115969 raw words and 3204 sentences\n",
      "2022-02-28 17:41:06,469 : INFO : Loading a fresh vocabulary\n",
      "2022-02-28 17:41:06,481 : INFO : effective_min_count=1 retains 5937 unique words (100% of original 5937, drops 0)\n",
      "2022-02-28 17:41:06,482 : INFO : effective_min_count=1 leaves 115969 word corpus (100% of original 115969, drops 0)\n",
      "2022-02-28 17:41:06,503 : INFO : deleting the raw counts dictionary of 5937 items\n",
      "2022-02-28 17:41:06,504 : INFO : sample=0.001 downsamples 40 most-common words\n",
      "2022-02-28 17:41:06,505 : INFO : downsampling leaves estimated 92346 word corpus (79.6% of prior 115969)\n",
      "2022-02-28 17:41:06,521 : INFO : estimated required memory for 5937 words and 100 dimensions: 7718100 bytes\n",
      "2022-02-28 17:41:06,522 : INFO : resetting layer weights\n",
      "2022-02-28 17:41:07,915 : INFO : training model with 3 workers on 5937 vocabulary and 100 features, using sg=0 hs=0 sample=0.001 negative=5 window=5\n",
      "2022-02-28 17:41:08,002 : INFO : worker thread finished; awaiting finish of 2 more threads\n",
      "2022-02-28 17:41:08,003 : INFO : worker thread finished; awaiting finish of 1 more threads\n",
      "2022-02-28 17:41:08,003 : INFO : worker thread finished; awaiting finish of 0 more threads\n",
      "2022-02-28 17:41:08,007 : INFO : EPOCH - 1 : training on 115969 raw words (92241 effective words) took 0.1s, 1075352 effective words/s\n",
      "2022-02-28 17:41:08,106 : INFO : worker thread finished; awaiting finish of 2 more threads\n",
      "2022-02-28 17:41:08,109 : INFO : worker thread finished; awaiting finish of 1 more threads\n",
      "2022-02-28 17:41:08,113 : INFO : worker thread finished; awaiting finish of 0 more threads\n",
      "2022-02-28 17:41:08,117 : INFO : EPOCH - 2 : training on 115969 raw words (92328 effective words) took 0.1s, 990803 effective words/s\n",
      "2022-02-28 17:41:08,222 : INFO : worker thread finished; awaiting finish of 2 more threads\n",
      "2022-02-28 17:41:08,226 : INFO : worker thread finished; awaiting finish of 1 more threads\n",
      "2022-02-28 17:41:08,237 : INFO : worker thread finished; awaiting finish of 0 more threads\n",
      "2022-02-28 17:41:08,237 : INFO : EPOCH - 3 : training on 115969 raw words (92269 effective words) took 0.1s, 800643 effective words/s\n",
      "2022-02-28 17:41:08,337 : INFO : worker thread finished; awaiting finish of 2 more threads\n",
      "2022-02-28 17:41:08,340 : INFO : worker thread finished; awaiting finish of 1 more threads\n",
      "2022-02-28 17:41:08,342 : INFO : worker thread finished; awaiting finish of 0 more threads\n",
      "2022-02-28 17:41:08,343 : INFO : EPOCH - 4 : training on 115969 raw words (92345 effective words) took 0.1s, 974561 effective words/s\n",
      "2022-02-28 17:41:08,446 : INFO : worker thread finished; awaiting finish of 2 more threads\n",
      "2022-02-28 17:41:08,447 : INFO : worker thread finished; awaiting finish of 1 more threads\n",
      "2022-02-28 17:41:08,449 : INFO : worker thread finished; awaiting finish of 0 more threads\n",
      "2022-02-28 17:41:08,451 : INFO : EPOCH - 5 : training on 115969 raw words (92278 effective words) took 0.1s, 924051 effective words/s\n",
      "2022-02-28 17:41:08,452 : INFO : training on a 579845 raw words (461461 effective words) took 0.5s, 864412 effective words/s\n"
     ]
    },
    {
     "data": {
      "text/plain": [
       "[(0, -0.4130803942680359),\n",
       " (1, -0.04370195046067238),\n",
       " (2, 0.5310227274894714),\n",
       " (3, 0.11962969601154327),\n",
       " (4, -0.24574081599712372),\n",
       " (5, 0.11442896723747253),\n",
       " (6, 0.3123413622379303),\n",
       " (7, 0.5887165069580078),\n",
       " (8, -0.15065234899520874),\n",
       " (9, 0.1848924458026886),\n",
       " (10, 0.13310690224170685),\n",
       " (11, 0.44211897253990173),\n",
       " (12, 0.08949688822031021),\n",
       " (13, -0.4728907346725464),\n",
       " (14, 0.21679559350013733),\n",
       " (15, 0.6682514548301697),\n",
       " (16, -0.078089140355587),\n",
       " (17, -0.030476385727524757),\n",
       " (18, -0.709477424621582),\n",
       " (19, 0.8445408940315247),\n",
       " (20, 0.3348974883556366),\n",
       " (21, 0.1448664665222168),\n",
       " (22, 0.6852458119392395),\n",
       " (23, 0.37410715222358704),\n",
       " (24, 0.6639059782028198),\n",
       " (25, -0.09310611337423325),\n",
       " (26, 0.07410731911659241),\n",
       " (27, 0.5242944359779358),\n",
       " (28, 0.10815753787755966),\n",
       " (29, -0.8607361912727356),\n",
       " (30, -0.06467153131961823),\n",
       " (31, -0.821696400642395),\n",
       " (32, 0.5987021923065186),\n",
       " (33, 0.04020616412162781),\n",
       " (34, -0.6489777565002441),\n",
       " (35, -0.29626673460006714),\n",
       " (36, -0.28633061051368713),\n",
       " (37, 0.21934571862220764),\n",
       " (38, -0.18446938693523407),\n",
       " (39, -0.3367310166358948),\n",
       " (40, 0.13035999238491058),\n",
       " (41, 0.28241199254989624),\n",
       " (42, 0.8469192385673523),\n",
       " (43, 0.26201730966567993),\n",
       " (44, 0.20900775492191315),\n",
       " (45, 0.11010527610778809),\n",
       " (46, 0.1120610386133194),\n",
       " (47, -0.7121595740318298),\n",
       " (48, -0.22092629969120026),\n",
       " (49, 0.6204832792282104),\n",
       " (50, -0.08716283738613129),\n",
       " (51, 0.2517734169960022),\n",
       " (52, -0.041854482144117355),\n",
       " (53, -0.8345215916633606),\n",
       " (54, 0.49970898032188416),\n",
       " (55, 0.7805057764053345),\n",
       " (56, -0.03743235766887665),\n",
       " (57, 0.027205687016248703),\n",
       " (58, -0.08726868033409119),\n",
       " (59, 0.7512038350105286),\n",
       " (60, -0.5225052833557129),\n",
       " (61, -0.06003035604953766),\n",
       " (62, 0.05393630266189575),\n",
       " (63, 0.09209613502025604),\n",
       " (64, -0.3399270176887512),\n",
       " (65, -0.22164438664913177),\n",
       " (66, -0.3256482779979706),\n",
       " (67, 0.4272310137748718),\n",
       " (68, 0.3078659772872925),\n",
       " (69, 0.38445356488227844),\n",
       " (70, 0.3206895887851715),\n",
       " (71, 0.45657262206077576),\n",
       " (72, 0.15628023445606232),\n",
       " (73, 0.6143189072608948),\n",
       " (74, 0.22525985538959503),\n",
       " (75, 0.4370398223400116),\n",
       " (76, -0.1331409215927124),\n",
       " (77, 0.9049800634384155),\n",
       " (78, -0.5534368753433228),\n",
       " (79, 1.1966336965560913),\n",
       " (80, -0.5472496151924133),\n",
       " (81, -0.3561084270477295),\n",
       " (82, -0.3995397686958313),\n",
       " (83, 0.12245529890060425),\n",
       " (84, -0.12245072424411774),\n",
       " (85, 0.1506229192018509),\n",
       " (86, -0.38847339153289795),\n",
       " (87, -0.1632106751203537),\n",
       " (88, -0.3144988417625427),\n",
       " (89, 0.7433385848999023),\n",
       " (90, -0.17135103046894073),\n",
       " (91, 0.21326880156993866),\n",
       " (92, 1.1363186836242676),\n",
       " (93, -0.048785265535116196),\n",
       " (94, 0.27048712968826294),\n",
       " (95, -0.3530149757862091),\n",
       " (96, 0.6930434703826904),\n",
       " (97, -0.4787421226501465),\n",
       " (98, -0.23241713643074036),\n",
       " (99, -0.0386168509721756)]"
      ]
     },
     "execution_count": 87,
     "metadata": {},
     "output_type": "execute_result"
    }
   ],
   "source": [
    "# TODO: Implement this! (10 points)\n",
    "class W2VRetrievalModel(VectorSpaceRetrievalModel):\n",
    "    def __init__(self, doc_repr):\n",
    "        super().__init__(doc_repr)\n",
    "\n",
    "        # the dimensionality of the vectors\n",
    "        self.size = 100\n",
    "        self.min_count = 1\n",
    "\n",
    "    def train_model(self):\n",
    "        \"\"\"\n",
    "        Trains the W2V model\n",
    "        \"\"\"\n",
    "        # YOUR CODE HERE\n",
    "        self.model = Word2Vec(\n",
    "            sentences=self.documents, size=self.size, min_count=self.min_count\n",
    "        )\n",
    "\n",
    "    def vectorize_documents(self):\n",
    "        \"\"\"\n",
    "        Returns a doc_id -> vector dictionary\n",
    "        \"\"\"\n",
    "        # YOUR CODE HERE\n",
    "        vectors = {}\n",
    "        for (doc_id, doc) in self.doc_repr:\n",
    "            # initializations for this document\n",
    "            doc_vector = np.zeros(self.size)\n",
    "            n_words = 0\n",
    "            for word in doc:\n",
    "                n_words += 1\n",
    "                # check that current word in doc in our model (needed for pretrained)\n",
    "                try:\n",
    "                    word_vector = self.model.wv[word]\n",
    "                except KeyError:\n",
    "                    # don't count this word\n",
    "                    n_words -= 1\n",
    "                    continue\n",
    "                doc_vector += word_vector\n",
    "            if n_words > 0:\n",
    "                # aggregate by taking the mean over the found words\n",
    "                doc_vector = doc_vector / n_words\n",
    "            # convert to weird gensim format that is desired\n",
    "            doc_vector = [(i, el) for i, el in enumerate(doc_vector)]\n",
    "            # and save to our dictionary\n",
    "            vectors[doc_id] = doc_vector\n",
    "\n",
    "        return vectors\n",
    "\n",
    "    def vectorize_query(self, query):\n",
    "        \"\"\"\n",
    "        Vectorizes the query using the W2V model\n",
    "        \"\"\"\n",
    "        # YOUR CODE HERE\n",
    "        query = process_text(query, **config_2)\n",
    "        # initialize query vector\n",
    "        query_vec = np.zeros(self.size)\n",
    "        # handle valid queries (i.e. processing hasn't made it empty)\n",
    "        if len(query) > 0:\n",
    "            n_words = 0\n",
    "            for word in query:\n",
    "                n_words += 1\n",
    "                # check that current word in query in our vocab\n",
    "                try:\n",
    "                    word_vector = self.model.wv[word]\n",
    "                except KeyError:\n",
    "                    # don't count this word\n",
    "                    n_words -= 1\n",
    "                    continue\n",
    "                query_vec += word_vector\n",
    "            if n_words > 0:\n",
    "                # aggregate by taking the mean over the found words\n",
    "                query_vec = query_vec / n_words\n",
    "        # convert to weird gensim format that is desired\n",
    "        query_vec = [(i, el) for i, el in enumerate(query_vec)]\n",
    "        return query_vec\n",
    "\n",
    "\n",
    "class W2VPretrainedRetrievalModel(W2VRetrievalModel):\n",
    "    def __init__(self, doc_repr):\n",
    "        super().__init__(doc_repr)\n",
    "        self.model_name = \"word2vec-google-news-300\"\n",
    "        self.size = 300\n",
    "\n",
    "    def train_model(self):\n",
    "        \"\"\"\n",
    "        Loads the pretrained model\n",
    "        \"\"\"\n",
    "        self.model = g_downloader.load(self.model_name)\n",
    "\n",
    "\n",
    "w2v = W2VRetrievalModel(doc_repr_2)\n",
    "w2v.train_model()\n",
    "\n",
    "# you can now get a W2V vector for a given query in the following way:\n",
    "w2v.vectorize_query(\"report\")"
   ]
  },
  {
   "cell_type": "code",
   "execution_count": 88,
   "metadata": {
    "deletable": false,
    "editable": false,
    "nbgrader": {
     "cell_type": "code",
     "checksum": "f92b5c5a8c6c4b80652b94223209ab0b",
     "grade": true,
     "grade_id": "cell-b31c0f8d214b8bdf",
     "locked": true,
     "points": 0,
     "schema_version": 3,
     "solution": false,
     "task": false
    }
   },
   "outputs": [],
   "source": [
    "assert len(w2v.vectorize_query(\"report\")) == 100\n",
    "assert len(w2v.vectorize_query(\"this is a sentence that is not mellifluous\")) == 100\n"
   ]
  },
  {
   "cell_type": "markdown",
   "metadata": {
    "deletable": false,
    "editable": false,
    "nbgrader": {
     "cell_type": "markdown",
     "checksum": "8dfaabebcb06f308a7ca61fdc5d369e7",
     "grade": false,
     "grade_id": "cell-c2614fa067386384",
     "locked": true,
     "points": 8,
     "schema_version": 3,
     "solution": false,
     "task": true
    }
   },
   "source": [
    "\\#### Please do not change this. This cell is used for grading."
   ]
  },
  {
   "cell_type": "code",
   "execution_count": 89,
   "metadata": {},
   "outputs": [
    {
     "name": "stderr",
     "output_type": "stream",
     "text": [
      "2022-02-28 17:41:08,482 : INFO : adding document #0 to Dictionary(0 unique tokens: [])\n",
      "2022-02-28 17:41:08,640 : INFO : built Dictionary(5937 unique tokens: ['-', 'algebra', 'intern', 'languag', 'preliminari']...) from 3204 documents (total 115969 corpus positions)\n",
      "2022-02-28 17:41:08,651 : INFO : discarding 4740 tokens: [('repeat', 8), ('glossari', 7), ('inspect', 8), ('uncol', 2), ('rung', 9), ('secant', 2), ('.', 1603), ('acceler', 6), ('diverg', 3), ('induc', 9)]...\n",
      "2022-02-28 17:41:08,652 : INFO : keeping 1197 tokens which were in no less than 10 and no more than 1602 (=50.0%) documents\n",
      "2022-02-28 17:41:08,657 : INFO : resulting dictionary: Dictionary(1197 unique tokens: ['-', 'algebra', 'intern', 'languag', 'preliminari']...)\n",
      "2022-02-28 17:41:09,117 : INFO : loading projection weights from /Users/thesofakillers/gensim-data/word2vec-google-news-300/word2vec-google-news-300.gz\n",
      "2022-02-28 17:42:01,164 : INFO : loaded (3000000, 300) matrix from /Users/thesofakillers/gensim-data/word2vec-google-news-300/word2vec-google-news-300.gz\n",
      "/Users/thesofakillers/miniconda3/envs/ir1/lib/python3.6/site-packages/ipykernel_launcher.py:64: DeprecationWarning: Call to deprecated `wv` (Attribute will be removed in 4.0.0, use self instead).\n"
     ]
    },
    {
     "data": {
      "text/plain": [
       "[(0, -0.142578125),\n",
       " (1, -0.1640625),\n",
       " (2, -0.09033203125),\n",
       " (3, -0.1123046875),\n",
       " (4, 0.10009765625),\n",
       " (5, -0.041259765625),\n",
       " (6, 0.048828125),\n",
       " (7, -0.13671875),\n",
       " (8, 0.1962890625),\n",
       " (9, -0.134765625),\n",
       " (10, -0.017578125),\n",
       " (11, 0.0322265625),\n",
       " (12, 0.09521484375),\n",
       " (13, -0.10595703125),\n",
       " (14, -0.169921875),\n",
       " (15, 0.041015625),\n",
       " (16, -0.263671875),\n",
       " (17, -0.006317138671875),\n",
       " (18, -0.177734375),\n",
       " (19, -0.240234375),\n",
       " (20, 0.3515625),\n",
       " (21, -0.01220703125),\n",
       " (22, -0.162109375),\n",
       " (23, -0.12060546875),\n",
       " (24, 0.043212890625),\n",
       " (25, 0.10986328125),\n",
       " (26, 0.052490234375),\n",
       " (27, 0.1787109375),\n",
       " (28, -0.1455078125),\n",
       " (29, 0.1376953125),\n",
       " (30, -0.08203125),\n",
       " (31, -0.283203125),\n",
       " (32, -0.10888671875),\n",
       " (33, -0.2890625),\n",
       " (34, 0.072265625),\n",
       " (35, -0.04736328125),\n",
       " (36, 0.040283203125),\n",
       " (37, 0.06787109375),\n",
       " (38, 0.11669921875),\n",
       " (39, 0.00083160400390625),\n",
       " (40, 0.068359375),\n",
       " (41, 0.1201171875),\n",
       " (42, -0.08837890625),\n",
       " (43, 0.337890625),\n",
       " (44, -0.044677734375),\n",
       " (45, -0.0301513671875),\n",
       " (46, 0.0076904296875),\n",
       " (47, -0.0211181640625),\n",
       " (48, -0.25390625),\n",
       " (49, 0.1494140625),\n",
       " (50, 0.3984375),\n",
       " (51, 0.0216064453125),\n",
       " (52, -0.023193359375),\n",
       " (53, 0.00634765625),\n",
       " (54, 0.00823974609375),\n",
       " (55, -0.1689453125),\n",
       " (56, 0.037353515625),\n",
       " (57, -0.0634765625),\n",
       " (58, 0.1171875),\n",
       " (59, -0.1484375),\n",
       " (60, -0.07861328125),\n",
       " (61, 0.369140625),\n",
       " (62, -0.224609375),\n",
       " (63, 0.173828125),\n",
       " (64, 0.01385498046875),\n",
       " (65, 0.1875),\n",
       " (66, -0.10107421875),\n",
       " (67, 0.037841796875),\n",
       " (68, 0.0021209716796875),\n",
       " (69, -0.05126953125),\n",
       " (70, 0.09619140625),\n",
       " (71, -0.05712890625),\n",
       " (72, 0.10595703125),\n",
       " (73, -0.02099609375),\n",
       " (74, 0.1611328125),\n",
       " (75, 0.09765625),\n",
       " (76, 0.038330078125),\n",
       " (77, 0.2197265625),\n",
       " (78, 0.1064453125),\n",
       " (79, 0.0859375),\n",
       " (80, 0.1796875),\n",
       " (81, -0.0830078125),\n",
       " (82, -0.033203125),\n",
       " (83, 0.041015625),\n",
       " (84, -0.06494140625),\n",
       " (85, 0.0198974609375),\n",
       " (86, 0.1337890625),\n",
       " (87, -0.09765625),\n",
       " (88, -0.193359375),\n",
       " (89, -0.2353515625),\n",
       " (90, 0.1904296875),\n",
       " (91, 0.0024871826171875),\n",
       " (92, -0.0157470703125),\n",
       " (93, 0.0322265625),\n",
       " (94, -0.2197265625),\n",
       " (95, -0.09130859375),\n",
       " (96, 0.021240234375),\n",
       " (97, 0.158203125),\n",
       " (98, 0.298828125),\n",
       " (99, -0.328125),\n",
       " (100, 0.057373046875),\n",
       " (101, -0.04638671875),\n",
       " (102, 0.11328125),\n",
       " (103, -0.1015625),\n",
       " (104, 0.1806640625),\n",
       " (105, -0.025146484375),\n",
       " (106, -0.166015625),\n",
       " (107, -0.09619140625),\n",
       " (108, 0.018798828125),\n",
       " (109, -0.1943359375),\n",
       " (110, 0.1494140625),\n",
       " (111, -0.056640625),\n",
       " (112, -0.10693359375),\n",
       " (113, -0.150390625),\n",
       " (114, -0.17578125),\n",
       " (115, 0.11279296875),\n",
       " (116, 0.04931640625),\n",
       " (117, 0.2197265625),\n",
       " (118, 0.318359375),\n",
       " (119, 0.1572265625),\n",
       " (120, -0.29296875),\n",
       " (121, 0.10498046875),\n",
       " (122, -0.296875),\n",
       " (123, -0.013427734375),\n",
       " (124, 0.0908203125),\n",
       " (125, 0.0125732421875),\n",
       " (126, -0.051513671875),\n",
       " (127, -0.12890625),\n",
       " (128, 0.01446533203125),\n",
       " (129, 0.12060546875),\n",
       " (130, -0.10107421875),\n",
       " (131, -0.111328125),\n",
       " (132, 0.06396484375),\n",
       " (133, -0.052978515625),\n",
       " (134, -0.043212890625),\n",
       " (135, -0.012939453125),\n",
       " (136, -0.027587890625),\n",
       " (137, -0.09716796875),\n",
       " (138, -0.2021484375),\n",
       " (139, 0.123046875),\n",
       " (140, -0.04248046875),\n",
       " (141, 0.173828125),\n",
       " (142, -0.013671875),\n",
       " (143, 0.1015625),\n",
       " (144, -0.00093841552734375),\n",
       " (145, -0.03564453125),\n",
       " (146, 0.30078125),\n",
       " (147, -0.068359375),\n",
       " (148, -0.05615234375),\n",
       " (149, 0.03759765625),\n",
       " (150, 0.06591796875),\n",
       " (151, 0.040283203125),\n",
       " (152, 0.01190185546875),\n",
       " (153, 0.09619140625),\n",
       " (154, 0.3671875),\n",
       " (155, -0.279296875),\n",
       " (156, -0.052001953125),\n",
       " (157, -0.10693359375),\n",
       " (158, -0.134765625),\n",
       " (159, -0.046142578125),\n",
       " (160, 0.25),\n",
       " (161, 0.00567626953125),\n",
       " (162, -0.014404296875),\n",
       " (163, -0.031005859375),\n",
       " (164, -0.060302734375),\n",
       " (165, 0.10595703125),\n",
       " (166, 0.37890625),\n",
       " (167, 0.058837890625),\n",
       " (168, 0.123046875),\n",
       " (169, -0.115234375),\n",
       " (170, 0.1494140625),\n",
       " (171, -0.1640625),\n",
       " (172, -0.2333984375),\n",
       " (173, -0.07763671875),\n",
       " (174, 0.0267333984375),\n",
       " (175, -0.0211181640625),\n",
       " (176, 0.1943359375),\n",
       " (177, -0.05615234375),\n",
       " (178, -0.006439208984375),\n",
       " (179, -0.169921875),\n",
       " (180, -0.11865234375),\n",
       " (181, -0.0673828125),\n",
       " (182, -0.06884765625),\n",
       " (183, -0.0869140625),\n",
       " (184, -0.1015625),\n",
       " (185, 0.01416015625),\n",
       " (186, -0.201171875),\n",
       " (187, 0.09814453125),\n",
       " (188, -0.01025390625),\n",
       " (189, 0.1875),\n",
       " (190, 0.1962890625),\n",
       " (191, -0.220703125),\n",
       " (192, -0.1962890625),\n",
       " (193, -0.07373046875),\n",
       " (194, 0.06640625),\n",
       " (195, -0.1337890625),\n",
       " (196, 0.18359375),\n",
       " (197, -0.2001953125),\n",
       " (198, 0.1982421875),\n",
       " (199, 0.05029296875),\n",
       " (200, 0.0299072265625),\n",
       " (201, 0.0177001953125),\n",
       " (202, -0.193359375),\n",
       " (203, -0.09619140625),\n",
       " (204, -0.1025390625),\n",
       " (205, 0.212890625),\n",
       " (206, -0.0299072265625),\n",
       " (207, 0.1435546875),\n",
       " (208, 0.041015625),\n",
       " (209, -0.2119140625),\n",
       " (210, 0.2080078125),\n",
       " (211, 0.1376953125),\n",
       " (212, -0.0196533203125),\n",
       " (213, 0.01495361328125),\n",
       " (214, -0.09765625),\n",
       " (215, 0.2431640625),\n",
       " (216, 0.080078125),\n",
       " (217, 0.08251953125),\n",
       " (218, 0.0986328125),\n",
       " (219, 0.056884765625),\n",
       " (220, 0.04248046875),\n",
       " (221, 0.06884765625),\n",
       " (222, -0.035400390625),\n",
       " (223, -0.076171875),\n",
       " (224, -0.00016117095947265625),\n",
       " (225, -0.0751953125),\n",
       " (226, 0.224609375),\n",
       " (227, 0.1513671875),\n",
       " (228, 0.1005859375),\n",
       " (229, 0.10986328125),\n",
       " (230, 0.0238037109375),\n",
       " (231, 0.08837890625),\n",
       " (232, 0.061767578125),\n",
       " (233, -0.10791015625),\n",
       " (234, 0.062255859375),\n",
       " (235, 0.0034332275390625),\n",
       " (236, 0.08056640625),\n",
       " (237, 0.10693359375),\n",
       " (238, 0.0888671875),\n",
       " (239, -0.2373046875),\n",
       " (240, 0.06494140625),\n",
       " (241, 0.01019287109375),\n",
       " (242, -0.08837890625),\n",
       " (243, -0.33203125),\n",
       " (244, 0.004669189453125),\n",
       " (245, 0.212890625),\n",
       " (246, 0.0859375),\n",
       " (247, 0.0203857421875),\n",
       " (248, 0.045654296875),\n",
       " (249, 0.1484375),\n",
       " (250, 0.1181640625),\n",
       " (251, 0.0556640625),\n",
       " (252, -0.1728515625),\n",
       " (253, -0.125),\n",
       " (254, -0.025390625),\n",
       " (255, -0.318359375),\n",
       " (256, 0.0311279296875),\n",
       " (257, 0.0859375),\n",
       " (258, -0.0419921875),\n",
       " (259, 0.15625),\n",
       " (260, 0.1611328125),\n",
       " (261, 0.1982421875),\n",
       " (262, -0.10009765625),\n",
       " (263, 0.203125),\n",
       " (264, 0.12890625),\n",
       " (265, 0.2333984375),\n",
       " (266, -0.267578125),\n",
       " (267, 0.05517578125),\n",
       " (268, 0.048828125),\n",
       " (269, 0.072265625),\n",
       " (270, 0.244140625),\n",
       " (271, 0.244140625),\n",
       " (272, 0.056884765625),\n",
       " (273, -0.0546875),\n",
       " (274, -0.03369140625),\n",
       " (275, -0.12060546875),\n",
       " (276, 0.034912109375),\n",
       " (277, -0.1455078125),\n",
       " (278, 0.08740234375),\n",
       " (279, -0.0830078125),\n",
       " (280, 0.0172119140625),\n",
       " (281, 0.1435546875),\n",
       " (282, -0.12255859375),\n",
       " (283, 0.1796875),\n",
       " (284, 0.130859375),\n",
       " (285, -0.1650390625),\n",
       " (286, 0.01275634765625),\n",
       " (287, 0.16015625),\n",
       " (288, -0.0311279296875),\n",
       " (289, 0.08203125),\n",
       " (290, 0.173828125),\n",
       " (291, -0.16796875),\n",
       " (292, 0.130859375),\n",
       " (293, 0.08544921875),\n",
       " (294, -0.2109375),\n",
       " (295, -0.130859375),\n",
       " (296, -0.0289306640625),\n",
       " (297, -0.10546875),\n",
       " (298, 0.08447265625),\n",
       " (299, -0.1416015625)]"
      ]
     },
     "execution_count": 89,
     "metadata": {},
     "output_type": "execute_result"
    }
   ],
   "source": [
    "w2v_pretrained = W2VPretrainedRetrievalModel(doc_repr_2)\n",
    "w2v_pretrained.train_model()\n",
    "\n",
    "# you can now get an W2V vector for a given query in the following way:\n",
    "w2v_pretrained.vectorize_query(\"report\")"
   ]
  },
  {
   "cell_type": "code",
   "execution_count": 90,
   "metadata": {
    "deletable": false,
    "editable": false,
    "nbgrader": {
     "cell_type": "code",
     "checksum": "0822845afb5eafe5ddb1ffeaa4f4942a",
     "grade": true,
     "grade_id": "cell-1b1466f8ce516f42",
     "locked": true,
     "points": 2,
     "schema_version": 3,
     "solution": false,
     "task": false
    }
   },
   "outputs": [
    {
     "name": "stdout",
     "output_type": "stream",
     "text": [
      "300\n"
     ]
    },
    {
     "name": "stderr",
     "output_type": "stream",
     "text": [
      "/Users/thesofakillers/miniconda3/envs/ir1/lib/python3.6/site-packages/ipykernel_launcher.py:64: DeprecationWarning: Call to deprecated `wv` (Attribute will be removed in 4.0.0, use self instead).\n"
     ]
    }
   ],
   "source": [
    "##### Function check\n",
    "\n",
    "print(len(w2v_pretrained.vectorize_query(\"report\")))\n",
    "#####"
   ]
  },
  {
   "cell_type": "code",
   "execution_count": 91,
   "metadata": {},
   "outputs": [
    {
     "data": {
      "application/vnd.jupyter.widget-view+json": {
       "model_id": "8a8c1acee6d949f1adab6ac11ee9cfeb",
       "version_major": 2,
       "version_minor": 0
      },
      "text/plain": [
       "Text(value='', description='Search Bar')"
      ]
     },
     "metadata": {},
     "output_type": "display_data"
    }
   ],
   "source": [
    "drm_w2v = DenseRetrievalRanker(w2v, cosine_sim)\n",
    "\n",
    "# test your LDA model\n",
    "search_fn = drm_w2v.search\n",
    "\n",
    "text = widgets.Text(description=\"Search Bar\", width=200)\n",
    "display(text)\n",
    "\n",
    "\n",
    "text.on_submit(handle_submit_2)"
   ]
  },
  {
   "cell_type": "code",
   "execution_count": 92,
   "metadata": {},
   "outputs": [
    {
     "name": "stderr",
     "output_type": "stream",
     "text": [
      "/Users/thesofakillers/miniconda3/envs/ir1/lib/python3.6/site-packages/ipykernel_launcher.py:33: DeprecationWarning: Call to deprecated `wv` (Attribute will be removed in 4.0.0, use self instead).\n"
     ]
    },
    {
     "data": {
      "application/vnd.jupyter.widget-view+json": {
       "model_id": "3318d3fe0e4f40f68904cdcf44e9c9f2",
       "version_major": 2,
       "version_minor": 0
      },
      "text/plain": [
       "Text(value='', description='Search Bar')"
      ]
     },
     "metadata": {},
     "output_type": "display_data"
    }
   ],
   "source": [
    "drm_w2v_pretrained = DenseRetrievalRanker(w2v_pretrained, cosine_sim)\n",
    "\n",
    "# test your LDA model\n",
    "search_fn = drm_w2v_pretrained.search\n",
    "\n",
    "text = widgets.Text(description=\"Search Bar\", width=200)\n",
    "display(text)\n",
    "\n",
    "\n",
    "text.on_submit(handle_submit_2)"
   ]
  },
  {
   "cell_type": "markdown",
   "metadata": {
    "deletable": false,
    "editable": false,
    "nbgrader": {
     "cell_type": "markdown",
     "checksum": "51b778984fd60757974f51047c61eb15",
     "grade": false,
     "grade_id": "cell-b92f701cbc706108",
     "locked": true,
     "schema_version": 3,
     "solution": false,
     "task": false
    }
   },
   "source": [
    "**Implementation (10 points):**\n",
    "For Doc2Vec, you will need to create a list of `TaggedDocument` instead of using the `self.corpus` or `self.documents` variable. Use the document id as the 'tag'.\n",
    "  "
   ]
  },
  {
   "cell_type": "code",
   "execution_count": 93,
   "metadata": {
    "deletable": false,
    "nbgrader": {
     "cell_type": "code",
     "checksum": "1f60fdeb97febb7f4a6fd5bf109aac20",
     "grade": false,
     "grade_id": "cell-680facdcc98a19ab",
     "locked": false,
     "schema_version": 3,
     "solution": true,
     "task": false
    }
   },
   "outputs": [
    {
     "name": "stderr",
     "output_type": "stream",
     "text": [
      "2022-02-28 17:42:04,495 : INFO : adding document #0 to Dictionary(0 unique tokens: [])\n",
      "2022-02-28 17:42:04,639 : INFO : built Dictionary(5937 unique tokens: ['-', 'algebra', 'intern', 'languag', 'preliminari']...) from 3204 documents (total 115969 corpus positions)\n",
      "2022-02-28 17:42:04,646 : INFO : discarding 4740 tokens: [('repeat', 8), ('glossari', 7), ('inspect', 8), ('uncol', 2), ('rung', 9), ('secant', 2), ('.', 1603), ('acceler', 6), ('diverg', 3), ('induc', 9)]...\n",
      "2022-02-28 17:42:04,647 : INFO : keeping 1197 tokens which were in no less than 10 and no more than 1602 (=50.0%) documents\n",
      "2022-02-28 17:42:04,650 : INFO : resulting dictionary: Dictionary(1197 unique tokens: ['-', 'algebra', 'intern', 'languag', 'preliminari']...)\n",
      "2022-02-28 17:42:04,727 : INFO : collecting all words and their counts\n",
      "2022-02-28 17:42:04,728 : INFO : PROGRESS: at example #0, processed 0 words (0/s), 0 word types, 0 tags\n",
      "2022-02-28 17:42:04,752 : INFO : collected 5937 word types and 3204 unique tags from a corpus of 3204 examples and 115969 words\n",
      "2022-02-28 17:42:04,752 : INFO : Loading a fresh vocabulary\n",
      "2022-02-28 17:42:04,762 : INFO : effective_min_count=1 retains 5937 unique words (100% of original 5937, drops 0)\n",
      "2022-02-28 17:42:04,762 : INFO : effective_min_count=1 leaves 115969 word corpus (100% of original 115969, drops 0)\n",
      "2022-02-28 17:42:04,776 : INFO : deleting the raw counts dictionary of 5937 items\n",
      "2022-02-28 17:42:04,777 : INFO : sample=0.001 downsamples 40 most-common words\n",
      "2022-02-28 17:42:04,777 : INFO : downsampling leaves estimated 92346 word corpus (79.6% of prior 115969)\n",
      "2022-02-28 17:42:04,786 : INFO : estimated required memory for 5937 words and 100 dimensions: 9640500 bytes\n",
      "2022-02-28 17:42:04,787 : INFO : resetting layer weights\n",
      "2022-02-28 17:42:06,568 : INFO : training model with 3 workers on 5937 vocabulary and 100 features, using sg=0 hs=0 sample=0.001 negative=5 window=5\n",
      "2022-02-28 17:42:06,874 : INFO : worker thread finished; awaiting finish of 2 more threads\n",
      "2022-02-28 17:42:06,889 : INFO : worker thread finished; awaiting finish of 1 more threads\n",
      "2022-02-28 17:42:06,890 : INFO : worker thread finished; awaiting finish of 0 more threads\n",
      "2022-02-28 17:42:06,891 : INFO : EPOCH - 1 : training on 115969 raw words (95558 effective words) took 0.3s, 308097 effective words/s\n",
      "2022-02-28 17:42:07,127 : INFO : worker thread finished; awaiting finish of 2 more threads\n",
      "2022-02-28 17:42:07,141 : INFO : worker thread finished; awaiting finish of 1 more threads\n",
      "2022-02-28 17:42:07,159 : INFO : worker thread finished; awaiting finish of 0 more threads\n",
      "2022-02-28 17:42:07,163 : INFO : EPOCH - 2 : training on 115969 raw words (95486 effective words) took 0.3s, 357912 effective words/s\n",
      "2022-02-28 17:42:07,440 : INFO : worker thread finished; awaiting finish of 2 more threads\n",
      "2022-02-28 17:42:07,455 : INFO : worker thread finished; awaiting finish of 1 more threads\n",
      "2022-02-28 17:42:07,473 : INFO : worker thread finished; awaiting finish of 0 more threads\n",
      "2022-02-28 17:42:07,478 : INFO : EPOCH - 3 : training on 115969 raw words (95569 effective words) took 0.3s, 312371 effective words/s\n",
      "2022-02-28 17:42:08,226 : INFO : worker thread finished; awaiting finish of 2 more threads\n",
      "2022-02-28 17:42:08,240 : INFO : worker thread finished; awaiting finish of 1 more threads\n",
      "2022-02-28 17:42:08,280 : INFO : worker thread finished; awaiting finish of 0 more threads\n",
      "2022-02-28 17:42:08,281 : INFO : EPOCH - 4 : training on 115969 raw words (95570 effective words) took 0.8s, 121448 effective words/s\n",
      "2022-02-28 17:42:08,694 : INFO : worker thread finished; awaiting finish of 2 more threads\n",
      "2022-02-28 17:42:08,710 : INFO : worker thread finished; awaiting finish of 1 more threads\n",
      "2022-02-28 17:42:08,719 : INFO : worker thread finished; awaiting finish of 0 more threads\n",
      "2022-02-28 17:42:08,720 : INFO : EPOCH - 5 : training on 115969 raw words (95740 effective words) took 0.4s, 222833 effective words/s\n",
      "2022-02-28 17:42:09,077 : INFO : worker thread finished; awaiting finish of 2 more threads\n",
      "2022-02-28 17:42:09,086 : INFO : worker thread finished; awaiting finish of 1 more threads\n",
      "2022-02-28 17:42:09,090 : INFO : worker thread finished; awaiting finish of 0 more threads\n",
      "2022-02-28 17:42:09,091 : INFO : EPOCH - 6 : training on 115969 raw words (95377 effective words) took 0.4s, 260704 effective words/s\n",
      "2022-02-28 17:42:09,413 : INFO : worker thread finished; awaiting finish of 2 more threads\n",
      "2022-02-28 17:42:09,421 : INFO : worker thread finished; awaiting finish of 1 more threads\n",
      "2022-02-28 17:42:09,435 : INFO : worker thread finished; awaiting finish of 0 more threads\n",
      "2022-02-28 17:42:09,436 : INFO : EPOCH - 7 : training on 115969 raw words (95652 effective words) took 0.3s, 282058 effective words/s\n",
      "2022-02-28 17:42:09,691 : INFO : worker thread finished; awaiting finish of 2 more threads\n",
      "2022-02-28 17:42:09,693 : INFO : worker thread finished; awaiting finish of 1 more threads\n",
      "2022-02-28 17:42:09,698 : INFO : worker thread finished; awaiting finish of 0 more threads\n",
      "2022-02-28 17:42:09,699 : INFO : EPOCH - 8 : training on 115969 raw words (95531 effective words) took 0.3s, 369414 effective words/s\n",
      "2022-02-28 17:42:09,940 : INFO : worker thread finished; awaiting finish of 2 more threads\n",
      "2022-02-28 17:42:09,947 : INFO : worker thread finished; awaiting finish of 1 more threads\n",
      "2022-02-28 17:42:09,957 : INFO : worker thread finished; awaiting finish of 0 more threads\n",
      "2022-02-28 17:42:09,957 : INFO : EPOCH - 9 : training on 115969 raw words (95550 effective words) took 0.3s, 376077 effective words/s\n",
      "2022-02-28 17:42:10,211 : INFO : worker thread finished; awaiting finish of 2 more threads\n",
      "2022-02-28 17:42:10,224 : INFO : worker thread finished; awaiting finish of 1 more threads\n",
      "2022-02-28 17:42:10,228 : INFO : worker thread finished; awaiting finish of 0 more threads\n",
      "2022-02-28 17:42:10,229 : INFO : EPOCH - 10 : training on 115969 raw words (95630 effective words) took 0.3s, 360299 effective words/s\n",
      "2022-02-28 17:42:10,491 : INFO : worker thread finished; awaiting finish of 2 more threads\n",
      "2022-02-28 17:42:10,495 : INFO : worker thread finished; awaiting finish of 1 more threads\n",
      "2022-02-28 17:42:10,496 : INFO : worker thread finished; awaiting finish of 0 more threads\n",
      "2022-02-28 17:42:10,496 : INFO : EPOCH - 11 : training on 115969 raw words (95608 effective words) took 0.3s, 364197 effective words/s\n",
      "2022-02-28 17:42:10,741 : INFO : worker thread finished; awaiting finish of 2 more threads\n",
      "2022-02-28 17:42:10,745 : INFO : worker thread finished; awaiting finish of 1 more threads\n",
      "2022-02-28 17:42:10,757 : INFO : worker thread finished; awaiting finish of 0 more threads\n",
      "2022-02-28 17:42:10,758 : INFO : EPOCH - 12 : training on 115969 raw words (95604 effective words) took 0.3s, 374028 effective words/s\n",
      "2022-02-28 17:42:11,000 : INFO : worker thread finished; awaiting finish of 2 more threads\n",
      "2022-02-28 17:42:11,017 : INFO : worker thread finished; awaiting finish of 1 more threads\n",
      "2022-02-28 17:42:11,018 : INFO : worker thread finished; awaiting finish of 0 more threads\n",
      "2022-02-28 17:42:11,018 : INFO : EPOCH - 13 : training on 115969 raw words (95600 effective words) took 0.3s, 373756 effective words/s\n",
      "2022-02-28 17:42:11,272 : INFO : worker thread finished; awaiting finish of 2 more threads\n",
      "2022-02-28 17:42:11,288 : INFO : worker thread finished; awaiting finish of 1 more threads\n",
      "2022-02-28 17:42:11,290 : INFO : worker thread finished; awaiting finish of 0 more threads\n",
      "2022-02-28 17:42:11,291 : INFO : EPOCH - 14 : training on 115969 raw words (95550 effective words) took 0.3s, 358191 effective words/s\n",
      "2022-02-28 17:42:11,539 : INFO : worker thread finished; awaiting finish of 2 more threads\n",
      "2022-02-28 17:42:11,545 : INFO : worker thread finished; awaiting finish of 1 more threads\n",
      "2022-02-28 17:42:11,570 : INFO : worker thread finished; awaiting finish of 0 more threads\n",
      "2022-02-28 17:42:11,571 : INFO : EPOCH - 15 : training on 115969 raw words (95624 effective words) took 0.3s, 347262 effective words/s\n",
      "2022-02-28 17:42:11,817 : INFO : worker thread finished; awaiting finish of 2 more threads\n",
      "2022-02-28 17:42:11,832 : INFO : worker thread finished; awaiting finish of 1 more threads\n",
      "2022-02-28 17:42:11,834 : INFO : worker thread finished; awaiting finish of 0 more threads\n",
      "2022-02-28 17:42:11,835 : INFO : EPOCH - 16 : training on 115969 raw words (95501 effective words) took 0.3s, 369265 effective words/s\n",
      "2022-02-28 17:42:12,081 : INFO : worker thread finished; awaiting finish of 2 more threads\n",
      "2022-02-28 17:42:12,102 : INFO : worker thread finished; awaiting finish of 1 more threads\n",
      "2022-02-28 17:42:12,106 : INFO : worker thread finished; awaiting finish of 0 more threads\n",
      "2022-02-28 17:42:12,107 : INFO : EPOCH - 17 : training on 115969 raw words (95568 effective words) took 0.3s, 358306 effective words/s\n",
      "2022-02-28 17:42:12,348 : INFO : worker thread finished; awaiting finish of 2 more threads\n",
      "2022-02-28 17:42:12,355 : INFO : worker thread finished; awaiting finish of 1 more threads\n",
      "2022-02-28 17:42:12,361 : INFO : worker thread finished; awaiting finish of 0 more threads\n",
      "2022-02-28 17:42:12,362 : INFO : EPOCH - 18 : training on 115969 raw words (95581 effective words) took 0.3s, 380743 effective words/s\n",
      "2022-02-28 17:42:12,607 : INFO : worker thread finished; awaiting finish of 2 more threads\n",
      "2022-02-28 17:42:12,624 : INFO : worker thread finished; awaiting finish of 1 more threads\n",
      "2022-02-28 17:42:12,625 : INFO : worker thread finished; awaiting finish of 0 more threads\n",
      "2022-02-28 17:42:12,626 : INFO : EPOCH - 19 : training on 115969 raw words (95389 effective words) took 0.3s, 369032 effective words/s\n",
      "2022-02-28 17:42:12,864 : INFO : worker thread finished; awaiting finish of 2 more threads\n",
      "2022-02-28 17:42:12,874 : INFO : worker thread finished; awaiting finish of 1 more threads\n",
      "2022-02-28 17:42:12,881 : INFO : worker thread finished; awaiting finish of 0 more threads\n",
      "2022-02-28 17:42:12,882 : INFO : EPOCH - 20 : training on 115969 raw words (95713 effective words) took 0.3s, 382499 effective words/s\n",
      "2022-02-28 17:42:12,882 : INFO : training on a 2319380 raw words (1911401 effective words) took 6.3s, 302748 effective words/s\n"
     ]
    },
    {
     "data": {
      "text/plain": [
       "[(0, -0.072924525),\n",
       " (1, 0.007950993),\n",
       " (2, 0.06112401),\n",
       " (3, -0.052709706),\n",
       " (4, -0.025388967),\n",
       " (5, -0.06908873),\n",
       " (6, 0.06547905),\n",
       " (7, 0.1047964),\n",
       " (8, -0.015347325),\n",
       " (9, -0.043152023),\n",
       " (10, 0.046053886),\n",
       " (11, 0.072059825),\n",
       " (12, -0.0031883572),\n",
       " (13, 0.049528413),\n",
       " (14, 0.003442574),\n",
       " (15, 0.03375733),\n",
       " (16, 0.00090874),\n",
       " (17, 0.034355175),\n",
       " (18, -0.032737784),\n",
       " (19, 0.05272612),\n",
       " (20, 0.002846316),\n",
       " (21, 0.0026374874),\n",
       " (22, 0.039266717),\n",
       " (23, 0.03899553),\n",
       " (24, 0.11301842),\n",
       " (25, -0.005490017),\n",
       " (26, -0.02272725),\n",
       " (27, 0.10182364),\n",
       " (28, 0.03993814),\n",
       " (29, -0.07182524),\n",
       " (30, 0.041015692),\n",
       " (31, -0.064446144),\n",
       " (32, 0.060013413),\n",
       " (33, 0.016264988),\n",
       " (34, -0.06977513),\n",
       " (35, -0.09978193),\n",
       " (36, -0.054015484),\n",
       " (37, 0.024659108),\n",
       " (38, -0.055338558),\n",
       " (39, -0.010816681),\n",
       " (40, -0.0023420628),\n",
       " (41, 0.012009295),\n",
       " (42, 0.08564809),\n",
       " (43, 0.038062844),\n",
       " (44, 0.04218464),\n",
       " (45, -0.007281876),\n",
       " (46, -0.0046838005),\n",
       " (47, -0.064032525),\n",
       " (48, 0.021674758),\n",
       " (49, 0.01438607),\n",
       " (50, -0.058735788),\n",
       " (51, 0.087113604),\n",
       " (52, 0.01589073),\n",
       " (53, -0.038518053),\n",
       " (54, 0.08382191),\n",
       " (55, 0.058609333),\n",
       " (56, -0.040728882),\n",
       " (57, -0.030268548),\n",
       " (58, -0.065742895),\n",
       " (59, 0.02596259),\n",
       " (60, -0.055754866),\n",
       " (61, -0.010628539),\n",
       " (62, -0.005768459),\n",
       " (63, 0.0756503),\n",
       " (64, -0.0032824588),\n",
       " (65, -0.054474607),\n",
       " (66, -0.04809555),\n",
       " (67, 0.04319696),\n",
       " (68, 0.057529986),\n",
       " (69, 0.06435682),\n",
       " (70, -0.0093802),\n",
       " (71, 0.064790964),\n",
       " (72, -0.00024761888),\n",
       " (73, 0.10403045),\n",
       " (74, -0.016609887),\n",
       " (75, 0.035979524),\n",
       " (76, -0.08992951),\n",
       " (77, 0.13281482),\n",
       " (78, -0.021802006),\n",
       " (79, 0.10860519),\n",
       " (80, 0.028185153),\n",
       " (81, -0.0009660941),\n",
       " (82, 0.003297143),\n",
       " (83, 0.03191571),\n",
       " (84, 0.021692097),\n",
       " (85, 0.027382681),\n",
       " (86, -0.01605477),\n",
       " (87, -0.0097098425),\n",
       " (88, -0.0403483),\n",
       " (89, 0.02709105),\n",
       " (90, 0.031156708),\n",
       " (91, 0.011133705),\n",
       " (92, 0.072425574),\n",
       " (93, 0.00043663522),\n",
       " (94, 0.12733257),\n",
       " (95, -0.067923576),\n",
       " (96, -0.016008615),\n",
       " (97, 0.04092865),\n",
       " (98, 0.011656371),\n",
       " (99, -0.052729182)]"
      ]
     },
     "execution_count": 93,
     "metadata": {},
     "output_type": "execute_result"
    }
   ],
   "source": [
    "# TODO: Implement this! (10 points)\n",
    "class D2VRetrievalModel(VectorSpaceRetrievalModel):\n",
    "    def __init__(self, doc_repr):\n",
    "        super().__init__(doc_repr)\n",
    "\n",
    "        self.vector_size = 100\n",
    "        self.min_count = 1\n",
    "        self.epochs = 20\n",
    "\n",
    "        # YOUR CODE HERE\n",
    "        self.tagged_documents = [\n",
    "            TaggedDocument(doc, [doc_id]) for doc_id, doc in self.doc_repr\n",
    "        ]\n",
    "\n",
    "    def train_model(self):\n",
    "        # YOUR CODE HERE\n",
    "        self.model = Doc2Vec(\n",
    "            documents=self.tagged_documents,\n",
    "            vector_size=self.vector_size,\n",
    "            epochs=self.epochs,\n",
    "            min_count=self.min_count,\n",
    "        )\n",
    "\n",
    "    def vectorize_documents(self):\n",
    "        \"\"\"\n",
    "        Returns a doc_id -> vector dictionary\n",
    "        \"\"\"\n",
    "        # YOUR CODE HERE\n",
    "        vectors = {}\n",
    "        for (doc_id, doc) in self.doc_repr:\n",
    "            doc_vec = self.model.docvecs[doc_id]\n",
    "            # convert to weird gensim format\n",
    "            doc_vec = [(i, el) for i, el in enumerate(doc_vec)]\n",
    "            # store\n",
    "            vectors[doc_id] = doc_vec\n",
    "        return vectors\n",
    "\n",
    "    def vectorize_query(self, query):\n",
    "        # YOUR CODE HERE\n",
    "        query = process_text(query, **config_2)\n",
    "        query_vec = self.model.infer_vector(query)\n",
    "        # conver to weird gensim format\n",
    "        query_vec = [(i, el) for i, el in enumerate(query_vec)]\n",
    "        return query_vec\n",
    "\n",
    "\n",
    "d2v = D2VRetrievalModel(doc_repr_2)\n",
    "d2v.train_model()\n",
    "\n",
    "\n",
    "# # you can now get an LSI vector for a given query in the following way:\n",
    "d2v.vectorize_query(\"report\")"
   ]
  },
  {
   "cell_type": "code",
   "execution_count": 94,
   "metadata": {
    "deletable": false,
    "editable": false,
    "nbgrader": {
     "cell_type": "code",
     "checksum": "e83a363a9d4f136efbdde1426a83925e",
     "grade": true,
     "grade_id": "cell-5e2c5e0c9a2e8cb5",
     "locked": true,
     "points": 0,
     "schema_version": 3,
     "solution": false,
     "task": false
    }
   },
   "outputs": [],
   "source": [
    "#### Please do not change this. This cell is used for grading."
   ]
  },
  {
   "cell_type": "markdown",
   "metadata": {
    "deletable": false,
    "editable": false,
    "nbgrader": {
     "cell_type": "markdown",
     "checksum": "5bb46bf6b9be1e0ca66f0b0bc6260ecb",
     "grade": false,
     "grade_id": "cell-8a49d414f798a595",
     "locked": true,
     "points": 10,
     "schema_version": 3,
     "solution": false,
     "task": true
    }
   },
   "source": [
    "\\#### Please do not change this. This cell is used for grading."
   ]
  },
  {
   "cell_type": "code",
   "execution_count": 95,
   "metadata": {},
   "outputs": [
    {
     "data": {
      "application/vnd.jupyter.widget-view+json": {
       "model_id": "8680c015336547abbfa79e6107c14bb4",
       "version_major": 2,
       "version_minor": 0
      },
      "text/plain": [
       "Text(value='', description='Search Bar')"
      ]
     },
     "metadata": {},
     "output_type": "display_data"
    }
   ],
   "source": [
    "drm_d2v = DenseRetrievalRanker(d2v, cosine_sim)\n",
    "\n",
    "# test your LDA model\n",
    "search_fn = drm_d2v.search\n",
    "\n",
    "text = widgets.Text(description=\"Search Bar\", width=200)\n",
    "display(text)\n",
    "\n",
    "\n",
    "text.on_submit(handle_submit_2)"
   ]
  },
  {
   "cell_type": "markdown",
   "metadata": {
    "deletable": false,
    "editable": false,
    "nbgrader": {
     "cell_type": "markdown",
     "checksum": "363ec36c1d03d9f9e1c2045a6e193c14",
     "grade": false,
     "grade_id": "cell-3529ae29eece7b97",
     "locked": true,
     "schema_version": 3,
     "solution": false,
     "task": false
    }
   },
   "source": [
    "---\n",
    "## Section 9: Re-ranking (10 points) <a class=\"anchor\" id=\"reranking\"></a>\n",
    "\n",
    "[Back to Part 2](#part2)\n",
    "\n",
    "To motivate the re-ranking perspective (i.e retrieve with lexical method + rerank with a semantic method), let's search using semantic methods and compare it to BM25's performance, along with their runtime:\n"
   ]
  },
  {
   "cell_type": "code",
   "execution_count": 96,
   "metadata": {
    "deletable": false,
    "editable": false,
    "nbgrader": {
     "cell_type": "code",
     "checksum": "5755f70e3eb28abc65d14d80125338af",
     "grade": false,
     "grade_id": "cell-f8f43bf5ae383128",
     "locked": true,
     "schema_version": 3,
     "solution": false,
     "task": false
    }
   },
   "outputs": [
    {
     "name": "stdout",
     "output_type": "stream",
     "text": [
      "BM25: \n",
      "2.17 ms ± 462 µs per loop (mean ± std. dev. of 7 runs, 1000 loops each)\n",
      "LSI: \n",
      "565 ms ± 6.08 ms per loop (mean ± std. dev. of 7 runs, 1 loop each)\n",
      "LDA: \n",
      "185 ms ± 1.73 ms per loop (mean ± std. dev. of 7 runs, 1 loop each)\n",
      "W2V: \n",
      "580 ms ± 20.7 ms per loop (mean ± std. dev. of 7 runs, 1 loop each)\n",
      "W2V(Pretrained): \n"
     ]
    },
    {
     "name": "stderr",
     "output_type": "stream",
     "text": [
      "/Users/thesofakillers/miniconda3/envs/ir1/lib/python3.6/site-packages/ipykernel_launcher.py:64: DeprecationWarning: Call to deprecated `wv` (Attribute will be removed in 4.0.0, use self instead).\n"
     ]
    },
    {
     "name": "stdout",
     "output_type": "stream",
     "text": [
      "1.92 s ± 132 ms per loop (mean ± std. dev. of 7 runs, 1 loop each)\n",
      "D2V:\n",
      "3.11 s ± 251 ms per loop (mean ± std. dev. of 7 runs, 1 loop each)\n"
     ]
    }
   ],
   "source": [
    "query = \"algebraic functions\"\n",
    "print(\"BM25: \")\n",
    "%timeit bm25_search(query, 2)\n",
    "print(\"LSI: \")\n",
    "%timeit drm_lsi.search(query)\n",
    "print(\"LDA: \")\n",
    "%timeit drm_lda.search(query)\n",
    "print(\"W2V: \")\n",
    "%timeit drm_w2v.search(query)\n",
    "print(\"W2V(Pretrained): \")\n",
    "%timeit drm_w2v_pretrained.search(query)\n",
    "print(\"D2V:\")\n",
    "%timeit drm_d2v.search(query)"
   ]
  },
  {
   "cell_type": "markdown",
   "metadata": {
    "deletable": false,
    "editable": false,
    "nbgrader": {
     "cell_type": "markdown",
     "checksum": "ae398da0a8c23c95bcbb0023b7ec6f34",
     "grade": false,
     "grade_id": "cell-db5ff09f97841af7",
     "locked": true,
     "schema_version": 3,
     "solution": false,
     "task": false
    }
   },
   "source": [
    "---\n",
    "\n",
    "**Implementation (10 points):**\n",
    "Re-ranking involves retrieving a small set of documents using simple but fast methods like BM25 and then re-ranking them with the aid of semantic methods such as LDA or LSI. Implement the following class, which takes in an `initial_retrieval_fn` - the initial retrieval function and `vsrm` - an instance of the `VectorSpaceRetrievalModel` class (i.e LSI/LDA) as input. The search function should first retrieve an initial list of K documents, and then these documents are re-ranked using a semantic method. This not only makes retrieval faster, but semantic methods perform poorly when used in isolation, as you will find out."
   ]
  },
  {
   "cell_type": "code",
   "execution_count": 97,
   "metadata": {
    "deletable": false,
    "nbgrader": {
     "cell_type": "code",
     "checksum": "63b6b05a676a2ae3f08d8bed1bc59428",
     "grade": false,
     "grade_id": "cell-5bf47600d1a0c507",
     "locked": false,
     "schema_version": 3,
     "solution": true,
     "task": false
    }
   },
   "outputs": [],
   "source": [
    "# TODO: Implement this! (10 points)\n",
    "class DenseRerankingModel:\n",
    "    def __init__(self, initial_retrieval_fn, vsrm, similarity_fn):\n",
    "        \"\"\"\n",
    "        initial_retrieval_fn: takes in a query and returns a list of [(doc_id, score)] (sorted)\n",
    "        vsrm: instance of `VectorSpaceRetrievalModel`\n",
    "        similarity_fn: function instance that takes in two vectors\n",
    "                        and returns a similarity score e.g cosine_sim defined earlier\n",
    "        \"\"\"\n",
    "        self.ret = initial_retrieval_fn\n",
    "        self.vsrm = vsrm\n",
    "        self.similarity_fn = similarity_fn\n",
    "        self.vectorized_documents = vsrm.vectorize_documents()\n",
    "\n",
    "        assert len(self.vectorized_documents) == len(doc_repr_2)\n",
    "\n",
    "    def search(self, query, K=50):\n",
    "        \"\"\"\n",
    "        First, retrieve the top K results using the retrieval function\n",
    "        Then, re-rank the results using the VSRM instance\n",
    "        \"\"\"\n",
    "        # YOUR CODE HERE\n",
    "        top_k = self.ret(query)[:K]\n",
    "        results = {}\n",
    "        query_vector = self.vsrm.vectorize_query(query)\n",
    "        for doc_id, _score in top_k:\n",
    "            doc_vector = self.vectorized_documents[doc_id]\n",
    "            new_score = self.similarity_fn(doc_vector, query_vector)\n",
    "            results[doc_id] = new_score\n",
    "        # convert results to list and sort descending\n",
    "        results = sorted(list(results.items()), key=lambda x: -x[1])\n",
    "        return results"
   ]
  },
  {
   "cell_type": "code",
   "execution_count": 98,
   "metadata": {
    "deletable": false,
    "editable": false,
    "nbgrader": {
     "cell_type": "code",
     "checksum": "334ab5af96976265cace682ab82a7387",
     "grade": true,
     "grade_id": "cell-52c6d18a4c0b4882",
     "locked": true,
     "points": 0,
     "schema_version": 3,
     "solution": false,
     "task": false
    }
   },
   "outputs": [
    {
     "name": "stderr",
     "output_type": "stream",
     "text": [
      "/Users/thesofakillers/miniconda3/envs/ir1/lib/python3.6/site-packages/ipykernel_launcher.py:33: DeprecationWarning: Call to deprecated `wv` (Attribute will be removed in 4.0.0, use self instead).\n"
     ]
    }
   ],
   "source": [
    "##### Function check\n",
    "bm25_search_2 = partial(bm25_search, index_set=2)\n",
    "lsi_rerank = DenseRerankingModel(bm25_search_2, lsi, cosine_sim)\n",
    "lda_rerank = DenseRerankingModel(bm25_search_2, lda, jenson_shannon_sim)\n",
    "w2v_rerank = DenseRerankingModel(bm25_search_2, w2v, cosine_sim)\n",
    "w2v_pretrained_rerank = DenseRerankingModel(bm25_search_2, w2v_pretrained, cosine_sim)\n",
    "d2v_rerank = DenseRerankingModel(bm25_search_2, d2v, cosine_sim)\n",
    "\n",
    "##### "
   ]
  },
  {
   "cell_type": "markdown",
   "metadata": {
    "deletable": false,
    "editable": false,
    "nbgrader": {
     "cell_type": "markdown",
     "checksum": "bd904253f45f84e63bab3a69729058fc",
     "grade": false,
     "grade_id": "cell-93215dfe6bcf7cff",
     "locked": true,
     "points": 10,
     "schema_version": 3,
     "solution": false,
     "task": true
    }
   },
   "source": [
    "\\#### Please do not change this. This cell is used for grading."
   ]
  },
  {
   "cell_type": "markdown",
   "metadata": {
    "deletable": false,
    "editable": false,
    "nbgrader": {
     "cell_type": "markdown",
     "checksum": "b592e60292bfe3d9ef2930a354c4077a",
     "grade": false,
     "grade_id": "cell-aa694ff55fa91e7d",
     "locked": true,
     "schema_version": 3,
     "solution": false,
     "task": false
    }
   },
   "source": [
    "---\n",
    "Now, let us time the new search functions:"
   ]
  },
  {
   "cell_type": "code",
   "execution_count": 99,
   "metadata": {
    "deletable": false,
    "editable": false,
    "nbgrader": {
     "cell_type": "code",
     "checksum": "338c7e3528cba266a865a061287c0e38",
     "grade": false,
     "grade_id": "cell-5edbd481562ad91f",
     "locked": true,
     "schema_version": 3,
     "solution": false,
     "task": false
    }
   },
   "outputs": [
    {
     "name": "stdout",
     "output_type": "stream",
     "text": [
      "BM25: \n",
      "1.59 ms ± 154 µs per loop (mean ± std. dev. of 7 runs, 100 loops each)\n",
      "LSI: \n",
      "11 ms ± 360 µs per loop (mean ± std. dev. of 7 runs, 100 loops each)\n",
      "LDA: \n",
      "4.9 ms ± 58.5 µs per loop (mean ± std. dev. of 7 runs, 100 loops each)\n",
      "W2V: \n",
      "10.3 ms ± 185 µs per loop (mean ± std. dev. of 7 runs, 100 loops each)\n",
      "W2V(Pretrained): \n"
     ]
    },
    {
     "name": "stderr",
     "output_type": "stream",
     "text": [
      "/Users/thesofakillers/miniconda3/envs/ir1/lib/python3.6/site-packages/ipykernel_launcher.py:64: DeprecationWarning: Call to deprecated `wv` (Attribute will be removed in 4.0.0, use self instead).\n"
     ]
    },
    {
     "name": "stdout",
     "output_type": "stream",
     "text": [
      "26.5 ms ± 231 µs per loop (mean ± std. dev. of 7 runs, 10 loops each)\n",
      "D2V:\n",
      "47.7 ms ± 402 µs per loop (mean ± std. dev. of 7 runs, 10 loops each)\n"
     ]
    }
   ],
   "source": [
    "query = \"algebraic functions\"\n",
    "print(\"BM25: \")\n",
    "%timeit bm25_search(query, 2)\n",
    "print(\"LSI: \")\n",
    "%timeit lsi_rerank.search(query)\n",
    "print(\"LDA: \")\n",
    "%timeit lda_rerank.search(query)\n",
    "print(\"W2V: \")\n",
    "%timeit w2v_rerank.search(query)\n",
    "print(\"W2V(Pretrained): \")\n",
    "%timeit w2v_pretrained_rerank.search(query)\n",
    "print(\"D2V:\")\n",
    "%timeit d2v_rerank.search(query)"
   ]
  },
  {
   "cell_type": "markdown",
   "metadata": {
    "deletable": false,
    "editable": false,
    "nbgrader": {
     "cell_type": "markdown",
     "checksum": "c45c5e3f015b2de89d9d39ae3766368b",
     "grade": false,
     "grade_id": "cell-85c50f2ab9eec301",
     "locked": true,
     "schema_version": 3,
     "solution": false,
     "task": false
    }
   },
   "source": [
    "---\n",
    "As you can see, it is much faster (but BM25 is still orders of magnitude faster)."
   ]
  },
  {
   "cell_type": "markdown",
   "metadata": {
    "deletable": false,
    "editable": false,
    "nbgrader": {
     "cell_type": "markdown",
     "checksum": "1e2f3388e3807659f303fe31a75a010e",
     "grade": false,
     "grade_id": "cell-5071bb99b2af61cb",
     "locked": true,
     "schema_version": 3,
     "solution": false,
     "task": false
    }
   },
   "source": [
    "---\n",
    "## Section 10: Evaluation & Analysis (30 points) <a class=\"anchor\" id=\"reranking_eval\"></a>\n",
    "\n",
    "[Back to Part 2](#part2)\n",
    "\n",
    "[Previously](#evaluation) we have implemented some evaluation metrics and used them for measuring the ranking performance of term-based IR algorithms. In this section, we will do the same for semantic methods, both with and without re-ranking.\n",
    "\n",
    "### Section 10.1: Plot (10 points)\n",
    "\n",
    "First, gather the results. The results should consider the index set, the different search functions and different metrics. Plot the results in bar charts, per metric, with clear labels.\n",
    "\n",
    "Then, gather only the re-ranking models, and plot and compare them with the results obtained in part 1 (only index set 2)."
   ]
  },
  {
   "cell_type": "code",
   "execution_count": 100,
   "metadata": {
    "deletable": false,
    "editable": false,
    "nbgrader": {
     "cell_type": "code",
     "checksum": "4fe81520ac6413a803838913fd64de03",
     "grade": false,
     "grade_id": "cell-b672fe6dfae0b1ce",
     "locked": true,
     "schema_version": 3,
     "solution": false,
     "task": false
    }
   },
   "outputs": [],
   "source": [
    "list_of_sem_search_fns = [\n",
    "    (\"lda\", drm_lda.search),\n",
    "    (\"lsi\", drm_lsi.search),\n",
    "    (\"w2v\", drm_w2v.search),\n",
    "    (\"w2v_pretrained\", drm_w2v_pretrained.search),\n",
    "    (\"d2v\", drm_d2v.search),\n",
    "    (\"lsi_rr\", lsi_rerank.search),\n",
    "    (\"lda_rr\", lda_rerank.search),\n",
    "    (\"w2v_rr\", w2v_rerank.search),\n",
    "    (\"w2v_pretrained_rr\", w2v_pretrained_rerank.search),\n",
    "    (\"d2v_rr\", d2v_rerank.search),\n",
    "    \n",
    "]"
   ]
  },
  {
   "cell_type": "code",
   "execution_count": 101,
   "metadata": {
    "deletable": false,
    "nbgrader": {
     "cell_type": "code",
     "checksum": "54707c4afac084299aeefa047259b4a9",
     "grade": true,
     "grade_id": "cell-7dd8273b0f5a3c22",
     "locked": false,
     "points": 10,
     "schema_version": 3,
     "solution": true,
     "task": false
    }
   },
   "outputs": [
    {
     "name": "stdout",
     "output_type": "stream",
     "text": [
      "\n",
      "Vanilla\n",
      "\tlda\n",
      "{'ERR': 0.10462838,\n",
      " 'MAP': 0.050831635,\n",
      " 'Precision@1': 0.057692308,\n",
      " 'Precision@10': 0.06923077,\n",
      " 'Precision@5': 0.06923077,\n",
      " 'Recall@1': 0.0040865387,\n",
      " 'Recall@10': 0.07619956,\n",
      " 'Recall@5': 0.025496755}\n",
      "\tlsi\n",
      "{'ERR': 0.12324186,\n",
      " 'MAP': 0.06336349,\n",
      " 'Precision@1': 0.115384616,\n",
      " 'Precision@10': 0.075,\n",
      " 'Precision@5': 0.092307694,\n",
      " 'Recall@1': 0.015510531,\n",
      " 'Recall@10': 0.05435463,\n",
      " 'Recall@5': 0.036249723}\n",
      "\tw2v\n",
      "{'ERR': 0.028872937,\n",
      " 'MAP': 0.013594772,\n",
      " 'Precision@1': 0.0,\n",
      " 'Precision@10': 0.017307693,\n",
      " 'Precision@5': 0.01923077,\n",
      " 'Recall@1': 0.0,\n",
      " 'Recall@10': 0.010934516,\n",
      " 'Recall@5': 0.00627309}\n"
     ]
    },
    {
     "name": "stderr",
     "output_type": "stream",
     "text": [
      "/Users/thesofakillers/miniconda3/envs/ir1/lib/python3.6/site-packages/ipykernel_launcher.py:64: DeprecationWarning: Call to deprecated `wv` (Attribute will be removed in 4.0.0, use self instead).\n"
     ]
    },
    {
     "name": "stdout",
     "output_type": "stream",
     "text": [
      "\tw2v_pretrained\n",
      "{'ERR': 0.22888106,\n",
      " 'MAP': 0.13215353,\n",
      " 'Precision@1': 0.30769232,\n",
      " 'Precision@10': 0.1326923,\n",
      " 'Precision@5': 0.17307693,\n",
      " 'Recall@1': 0.048749086,\n",
      " 'Recall@10': 0.14604688,\n",
      " 'Recall@5': 0.10601156}\n",
      "\td2v\n",
      "{'ERR': 0.09146886,\n",
      " 'MAP': 0.046863332,\n",
      " 'Precision@1': 0.057692308,\n",
      " 'Precision@10': 0.063461535,\n",
      " 'Precision@5': 0.069230765,\n",
      " 'Recall@1': 0.011737699,\n",
      " 'Recall@10': 0.053874478,\n",
      " 'Recall@5': 0.0320162}\n",
      "\n",
      "Reranked\n",
      "\tlda\n",
      "{'ERR': 0.24826612,\n",
      " 'MAP': 0.14432237,\n",
      " 'Precision@1': 0.21153846,\n",
      " 'Precision@10': 0.21730772,\n",
      " 'Precision@5': 0.21153846,\n",
      " 'Recall@1': 0.02725654,\n",
      " 'Recall@10': 0.36973143,\n",
      " 'Recall@5': 0.17834057}\n",
      "\tlsi\n",
      "{'ERR': 0.21650857,\n",
      " 'MAP': 0.12941697,\n",
      " 'Precision@1': 0.1923077,\n",
      " 'Precision@10': 0.17884615,\n",
      " 'Precision@5': 0.19230771,\n",
      " 'Recall@1': 0.033948842,\n",
      " 'Recall@10': 0.26302183,\n",
      " 'Recall@5': 0.15364788}\n",
      "\tw2v\n",
      "{'ERR': 0.18155691,\n",
      " 'MAP': 0.10977774,\n",
      " 'Precision@1': 0.115384616,\n",
      " 'Precision@10': 0.1576923,\n",
      " 'Precision@5': 0.16538462,\n",
      " 'Recall@1': 0.012250364,\n",
      " 'Recall@10': 0.23402646,\n",
      " 'Recall@5': 0.12841271}\n",
      "\tw2v_pretrained\n",
      "{'ERR': 0.2839876,\n",
      " 'MAP': 0.17797674,\n",
      " 'Precision@1': 0.34615386,\n",
      " 'Precision@10': 0.20769231,\n",
      " 'Precision@5': 0.23076923,\n",
      " 'Recall@1': 0.08440109,\n",
      " 'Recall@10': 0.3412429,\n",
      " 'Recall@5': 0.20217164}\n",
      "\td2v\n",
      "{'ERR': 0.26804283,\n",
      " 'MAP': 0.12985332,\n",
      " 'Precision@1': 0.28846154,\n",
      " 'Precision@10': 0.20576924,\n",
      " 'Precision@5': 0.23846151,\n",
      " 'Recall@1': 0.03794311,\n",
      " 'Recall@10': 0.3180253,\n",
      " 'Recall@5': 0.17072445}\n"
     ]
    },
    {
     "data": {
      "image/png": "[encoded data removed]",
      "text/plain": [
       "<Figure size 1008x576 with 8 Axes>"
      ]
     },
     "metadata": {
      "needs_background": "light"
     },
     "output_type": "display_data"
    },
    {
     "data": {
      "image/png": "[encoded data removed]",
      "text/plain": [
       "<Figure size 1008x504 with 8 Axes>"
      ]
     },
     "metadata": {
      "needs_background": "light"
     },
     "output_type": "display_data"
    }
   ],
   "source": [
    "# YOUR CODE HERE\n",
    "# takes roughly 7 mins to run\n",
    "\n",
    "# redefine the list such that vanilla and reranked appear in same order\n",
    "list_of_sem_search_fns = [\n",
    "    (\"lda\", drm_lda.search),\n",
    "    (\"lsi\", drm_lsi.search),\n",
    "    (\"w2v\", drm_w2v.search),\n",
    "    (\"w2v_pretrained\", drm_w2v_pretrained.search),\n",
    "    (\"d2v\", drm_d2v.search),\n",
    "    (\"lda_rr\", lda_rerank.search),  # lda rr and lsi rr\n",
    "    (\"lsi_rr\", lsi_rerank.search),  # were not in same order as vanilla\n",
    "    (\"w2v_rr\", w2v_rerank.search),\n",
    "    (\"w2v_pretrained_rr\", w2v_pretrained_rerank.search),\n",
    "    (\"d2v_rr\", d2v_rerank.search),\n",
    "]\n",
    "\n",
    "\n",
    "from pprint import pprint\n",
    "\n",
    "fig, axes = plt.subplots(2, 4, figsize=(14, 8), sharey=False)\n",
    "axes = axes.flatten()\n",
    "\n",
    "# need this to make side by side bars\n",
    "N = len(list_of_sem_search_fns) // 2\n",
    "method_loc = np.arange(N)\n",
    "bar_width = 0.25\n",
    "\n",
    "vanilla_search_fns = list_of_sem_search_fns[:N]\n",
    "reranked_search_fns = list_of_sem_search_fns[N:]\n",
    "\n",
    "search_fns_map = {\"Vanilla\": vanilla_search_fns, \"Reranked\": reranked_search_fns}\n",
    "\n",
    "for j, mode in enumerate([\"Vanilla\", \"Reranked\"]):\n",
    "    results = {}\n",
    "    print(f\"\\n{mode}\")\n",
    "\n",
    "    for search_alg, search_fn in search_fns_map[mode]:\n",
    "        # remove _rr from reranked algo's so that the labels match\n",
    "        search_alg = search_alg.replace(\"_rr\", \"\")\n",
    "        results[search_alg] = evaluate_search_fn(search_fn, list_of_metrics)\n",
    "        print(f\"\\t{search_alg}\")\n",
    "        pprint(results[search_alg])\n",
    "\n",
    "    for i, (metric_name, _metric_fn) in enumerate(list_of_metrics):\n",
    "        metric_results = {k: v[metric_name] for k, v in results.items()}\n",
    "\n",
    "        labels = list(metric_results.keys())\n",
    "        values = [metric_results[label] for label in labels]\n",
    "\n",
    "        axes[i].grid(True, which=\"major\", axis=\"y\", alpha=0.35)\n",
    "        if i % 4 == 0:\n",
    "            axes[i].set_ylabel(\"Average Metric Value\")\n",
    "        if j == 0:\n",
    "            axes[i].bar(method_loc, values, bar_width, label=f\"{mode}\")\n",
    "        else:\n",
    "            axes[i].bar(method_loc + bar_width, values, bar_width, label=f\"{mode}\")\n",
    "            axes[i].set_xticks(method_loc + bar_width / 2)\n",
    "            axes[i].set_xticklabels(labels, rotation=30, ha=\"right\")\n",
    "            axes[i].set_title(metric_name)\n",
    "            if i == 7:\n",
    "                axes[i].legend()\n",
    "\n",
    "\n",
    "fig.suptitle(\"Comparison of different Semantic IR algorithms across various Metrics\")\n",
    "fig.tight_layout(rect=[0, 0.03, 1, 0.95])\n",
    "plt.show()\n",
    "\n",
    "\n",
    "# 2nd Plot: Compare semantic search with reranking to models from part 1\n",
    "\n",
    "fig, axes = plt.subplots(2, 4, figsize=(14, 7), sharey=False)\n",
    "axes = axes.flatten()\n",
    "\n",
    "list_of_rerank_sem_search_fns = [\n",
    "    (\"lsi_rr\", lsi_rerank.search),\n",
    "    (\"lda_rr\", lda_rerank.search),\n",
    "    (\"w2v_rr\", w2v_rerank.search),\n",
    "    (\"w2v_pretrained_rr\", w2v_pretrained_rerank.search),\n",
    "    (\"d2v_rr\", d2v_rerank.search),\n",
    "]\n",
    "\n",
    "N = len(list_of_rerank_sem_search_fns + list_of_search_fns)\n",
    "method_loc = np.arange(N)\n",
    "\n",
    "results = {}\n",
    "\n",
    "for i, (search_alg, search_fn) in enumerate(reranked_search_fns + list_of_search_fns):\n",
    "    if i >= len(list_of_rerank_sem_search_fns):\n",
    "        results[search_alg] = evaluate_search_fn(\n",
    "            search_fn, list_of_metrics, index_set=2\n",
    "        )\n",
    "    else:\n",
    "        results[search_alg] = evaluate_search_fn(search_fn, list_of_metrics)\n",
    "\n",
    "for i, (metric_name, _metric_fn) in enumerate(list_of_metrics):\n",
    "    metric_results = {k: v[metric_name] for k, v in results.items()}\n",
    "\n",
    "    labels = list(metric_results.keys())\n",
    "    values = [metric_results[label] for label in labels]\n",
    "\n",
    "    axes[i].grid(True, which=\"major\", axis=\"y\", alpha=0.35)\n",
    "    if i % 4 == 0:\n",
    "        axes[i].set_ylabel(\"Average Metric Value\")\n",
    "    axes[i].bar(method_loc, values, bar_width)\n",
    "    axes[i].set_xticks(method_loc)\n",
    "    axes[i].set_xticklabels(labels, rotation=45, ha=\"right\")\n",
    "    axes[i].set_title(metric_name)\n",
    "\n",
    "fig.suptitle(\n",
    "    \"Comparison between semantic and term-based ranking algorithms (Index Set 2)\"\n",
    ")\n",
    "fig.tight_layout(rect=[0, 0.03, 1, 0.95])\n",
    "plt.show()"
   ]
  },
  {
   "cell_type": "markdown",
   "metadata": {
    "deletable": false,
    "editable": false,
    "nbgrader": {
     "cell_type": "markdown",
     "checksum": "a8a3b6189bdde66704c694d85e38d049",
     "grade": false,
     "grade_id": "cell-deb2ef3daa306e82",
     "locked": true,
     "schema_version": 3,
     "solution": false,
     "task": false
    }
   },
   "source": [
    "### Section 10.2: Summary (20 points)\n",
    "\n",
    "Your summary should compare methods from Part 1 and Part 2 (only for index set 2). State what you expected to see in the results, followed by either supporting evidence *or* justify why the results did not support your expectations. Consider the availability of data, scalability, domain/type of data, etc."
   ]
  },
  {
   "cell_type": "markdown",
   "metadata": {
    "deletable": false,
    "nbgrader": {
     "cell_type": "markdown",
     "checksum": "ff97c43837d10bff6aaffa75e1492887",
     "grade": true,
     "grade_id": "cell-ec5dd7d9cf59dd86",
     "locked": false,
     "points": 20,
     "schema_version": 3,
     "solution": true,
     "task": false
    }
   },
   "source": [
    "Our main observation after running all experiments is that term-based models outperform semantic models in nearly all metrics with the exception of Recall@10. The findings are somewhat surprising since we would have expected semantic models would be better at capturing relevance without the explicit need for exact term matching between query and relevant documents - word embeddings should be good at capturing synonymy between words. This hypothesis may somewhat be confirmed by the performance of semantic models with regards to Recall@10 - because we are not just looking for identical terms but also terms with a similar meaning we are able to retrieve much more of the relevant documents. Semantic models should therefore be suitable for tasks such as legal research where a lawyer would want to find all relevant information in a corpus of legal documents.\n",
    "\n",
    "There may be various reaasons why semantic models perform poorly in all other metrics compared to term-based models. One explanation could be that in the case of pretrained word embeddings representations may have been learned from a different domain and therefore meanings to do not match our current domain or otherwise some words may be missing altogether. Another possible explanation for the poorer performance is that semantic models may be more suitable for a large corpus where enough documents are present in order to learn good representation. In our case the corpus is fairly small and therefore the word representations not very meaningful. This is particularly evident in the skip-gram w2v models, where using embeddings pretrained on a signficantly larger corpus provides much better results.\n",
    "\n",
    "It is important to note that reranking is clearly the better approach and outperforms purely semantic models. This might be again due to the fact that most of the work in retrieving documents is already being done by term-based models which we established perform better in the case of this specific corpus."
   ]
  }
 ],
 "metadata": {
  "kernelspec": {
   "display_name": "Python 3",
   "language": "python",
   "name": "python3"
  },
  "language_info": {
   "codemirror_mode": {
    "name": "ipython",
    "version": 3
   },
   "file_extension": ".py",
   "mimetype": "text/x-python",
   "name": "python",
   "nbconvert_exporter": "python",
   "pygments_lexer": "ipython3",
   "version": "3.6.5"
  },
  "toc": {
   "base_numbering": 1,
   "nav_menu": {},
   "number_sections": true,
   "sideBar": true,
   "skip_h1_title": false,
   "title_cell": "Table of Contents",
   "title_sidebar": "Contents",
   "toc_cell": false,
   "toc_position": {},
   "toc_section_display": true,
   "toc_window_display": false
  }
 },
 "nbformat": 4,
 "nbformat_minor": 4
}
