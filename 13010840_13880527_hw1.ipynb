{
 "cells": [
  {
   "cell_type": "markdown",
   "metadata": {
    "deletable": false,
    "editable": false,
    "nbgrader": {
     "cell_type": "markdown",
     "checksum": "1bba455de8bc2825ca70469169bbadaa",
     "grade": false,
     "grade_id": "cell-c9cd9e550239e812",
     "locked": true,
     "schema_version": 3,
     "solution": false,
     "task": false
    }
   },
   "source": [
    "# Homework 1 (Total Points: 250) <a class=\"anchor\" id=\"top\"></a>\n",
    "\n",
    "\n",
    "**Submission instructions**:\n",
    "- The cells with the `# YOUR CODE HERE` denote that these sections are graded and you need to add your implementation.\n",
    "- For Part 1: You can use the `nltk`, `NumPy`, and `matplotlib` libraries here. Other libraries, e.g., `gensim` or `scikit-learn`, may not be used. For Part 2: `gensim` is allowed in addition to the imported libraries in the next code cell\n",
    "- Please use Python 3.6.5 and `pip install -r requirements.txt` to avoid version issues.\n",
    "- The notebook you submit has to have the student ids, separated by underscores (E.g., `12341234_12341234_12341234_hw1.ipynb`).\n",
    "- This will be parsed by a regexp, **so please double check your filename**.\n",
    "- Only one member of each group has to submit the file (**please do not compress the .ipynb file when you will submit it**) to canvas.\n",
    "- **Make sure to check that your notebook runs before submission**. A quick way to do this is to restart the kernel and run all the cells.  \n",
    "- Do not change the number of arugments in the given functions.\n",
    "- **Please do not delete/add new cells**. Removing cells **will** lead to grade deduction. \n",
    "- Note, that you are not allowed to use Google Colab.\n",
    "\n",
    "\n",
    "**Learning Goals**:\n",
    "- [Part 1, Term-based matching](#part1) (165 points):\n",
    "    - Learn how to load a dataset and process it.\n",
    "    - Learn how to implement several standard IR methods (TF-IDF, BM25, QL) and understand their weaknesses & strengths.\n",
    "    - Learn how to evaluate IR methods.\n",
    "- [Part 2, Semantic-based matching](#part2) (85 points):\n",
    "    - Learn how to implement vector-space retrieval methods (LSI, LDA).\n",
    "    - Learn how to use LSI and LDA for re-ranking.\n",
    "\n",
    "    \n",
    "**Resources**: \n",
    "- **Part 1**: Sections 2.3, 4.1, 4.2, 4.3, 5.3, 5.6, 5.7, 6.2, 7, 8 of [Search Engines: Information Retrieval in Practice](https://ciir.cs.umass.edu/downloads/SEIRiP.pdf)\n",
    "- **Part 2**: [LSI - Chapter 18](https://nlp.stanford.edu/IR-book/pdf/18lsi.pdf) from [Introduction to Information Retrieval](https://nlp.stanford.edu/IR-book/) book and the [original LDA paper](https://jmlr.org/papers/volume3/blei03a/blei03a.pdf)"
   ]
  },
  {
   "cell_type": "code",
   "execution_count": 1,
   "metadata": {
    "deletable": false,
    "editable": false,
    "nbgrader": {
     "cell_type": "code",
     "checksum": "c55bfe94ff1f564dd595547e516c4c6e",
     "grade": false,
     "grade_id": "cell-f5357fabdb9660e3",
     "locked": true,
     "schema_version": 3,
     "solution": false,
     "task": false
    }
   },
   "outputs": [],
   "source": [
    "# imports \n",
    "# TODO: Ensure that no additional library is imported in the notebook. \n",
    "# TODO: Only the standard library and the following libraries are allowed:\n",
    "# TODO: You can also use unlisted classes from these libraries or standard libraries (such as defaultdict, Counter, ...).\n",
    "\n",
    "import os\n",
    "import zipfile\n",
    "from functools import partial\n",
    "\n",
    "import nltk\n",
    "import requests\n",
    "import numpy as np\n",
    "from tqdm import tqdm\n",
    "\n",
    "import matplotlib.pyplot as plt\n",
    "from matplotlib.pyplot import cm\n",
    "\n",
    "from ipywidgets import widgets\n",
    "from IPython.display import display, HTML\n",
    "#from IPython.html import widgets\n",
    "from collections import namedtuple\n",
    "\n",
    "%matplotlib inline"
   ]
  },
  {
   "cell_type": "markdown",
   "metadata": {
    "deletable": false,
    "editable": false,
    "nbgrader": {
     "cell_type": "markdown",
     "checksum": "c8328f758ca5b69f76eee03dbbdd4715",
     "grade": false,
     "grade_id": "cell-7428e12ed184408b",
     "locked": true,
     "schema_version": 3,
     "solution": false,
     "task": false
    }
   },
   "source": [
    "\n",
    "# Part 1: Term-based Matching (165 points) <a class=\"anchor\" id=\"part1\"></a>\n",
    "\n",
    "[Back to top](#top)\n",
    "\n",
    "In the first part, we will learn the basics of IR from loading and preprocessing the material, to implementing some well known search algorithms, to evaluating the ranking performance of the implemented algorithms. We will be using the CACM dataset throughout the assignment. The CACM dataset is a collection of titles and abstracts from the journal CACM (Communication of the ACM).\n",
    "\n",
    "Table of contents:\n",
    "- [Section 1: Text Processing](#text_processing) (5 points)\n",
    "- [Section 2: Indexing](#indexing) (10 points)\n",
    "- [Section 3: Ranking](#ranking) (80 points)\n",
    "- [Section 4: Evaluation](#evaluation) (40 points)\n",
    "- [Section 5: Analysis](#analysis) (30 points)\n"
   ]
  },
  {
   "cell_type": "markdown",
   "metadata": {
    "deletable": false,
    "editable": false,
    "nbgrader": {
     "cell_type": "markdown",
     "checksum": "4e3f938065183dc743aa8254b96b4f5e",
     "grade": false,
     "grade_id": "cell-4b24825cf4ae55ec",
     "locked": true,
     "schema_version": 3,
     "solution": false,
     "task": false
    }
   },
   "source": [
    "---\n",
    "## Section 1: Text Processing (5 points)<a class=\"anchor\" id=\"text_processing\"></a>\n",
    "\n",
    "[Back to Part 1](#part1)\n",
    "\n",
    "In this section, we will load the dataset and learn how to clean up the data to make it usable for an IR system. \n",
    "First, go through the implementation of the following functions:\n",
    "- `read_cacm_docs`: Reads in the CACM documents.\n",
    "- `read_queries`: Reads in the CACM queries.\n",
    "- `load_stopwords`: Loads the stopwords.\n",
    "\n",
    "The points of this section are earned for the following implementations:\n",
    "- `tokenize` (3 points): Tokenizes the input text.\n",
    "- `stem_token` (2 points): Stems the given token. \n",
    "\n",
    "We are using the [CACM dataset](http://ir.dcs.gla.ac.uk/resources/test_collections/cacm/), which is a small, classic IR dataset, composed of a collection of titles and abstracts from the journal CACM. It comes with relevance judgements for queries, so we can evaluate our IR system. \n"
   ]
  },
  {
   "cell_type": "markdown",
   "metadata": {
    "deletable": false,
    "editable": false,
    "nbgrader": {
     "cell_type": "markdown",
     "checksum": "0155d897c7016389d73d160921947a6f",
     "grade": false,
     "grade_id": "cell-45651364e7af6d5a",
     "locked": true,
     "schema_version": 3,
     "solution": false,
     "task": false
    }
   },
   "source": [
    "---\n",
    "### 1.1 Read the CACM documents\n",
    "\n",
    "\n",
    "The following cell downloads the dataset and unzips it to a local directory."
   ]
  },
  {
   "cell_type": "code",
   "execution_count": 2,
   "metadata": {
    "deletable": false,
    "editable": false,
    "nbgrader": {
     "cell_type": "code",
     "checksum": "4d43c9ad6e77cc01ce4cef0c34824930",
     "grade": false,
     "grade_id": "cell-bbc3030bb3fe7e02",
     "locked": true,
     "schema_version": 3,
     "solution": false,
     "task": false
    }
   },
   "outputs": [],
   "source": [
    "def download_dataset():\n",
    "    folder_path = os.environ.get(\"IR1_DATA_PATH\")\n",
    "    if not folder_path:\n",
    "        folder_path = \"./datasets/\"\n",
    "    os.makedirs(folder_path, exist_ok=True)\n",
    "    \n",
    "    file_location = os.path.join(folder_path, \"cacm.zip\")\n",
    "    \n",
    "    # download file if it doesn't exist\n",
    "    if not os.path.exists(file_location):\n",
    "        \n",
    "        url = \"https://surfdrive.surf.nl/files/index.php/s/M0FGJpX2p8wDwxR/download\"\n",
    "\n",
    "        with open(file_location, \"wb\") as handle:\n",
    "            print(f\"Downloading file from {url} to {file_location}\")\n",
    "            response = requests.get(url, stream=True)\n",
    "            for data in tqdm(response.iter_content()):\n",
    "                handle.write(data)\n",
    "            print(\"Finished downloading file\")\n",
    "    \n",
    "    if not os.path.exists(os.path.join(folder_path, \"train.txt\")):\n",
    "        \n",
    "        # unzip file\n",
    "        with zipfile.ZipFile(file_location, 'r') as zip_ref:\n",
    "            zip_ref.extractall(folder_path)\n",
    "        \n",
    "download_dataset()"
   ]
  },
  {
   "cell_type": "markdown",
   "metadata": {
    "deletable": false,
    "editable": false,
    "nbgrader": {
     "cell_type": "markdown",
     "checksum": "31609b0d61d0c74cbd69bc43e47c23be",
     "grade": false,
     "grade_id": "cell-a7dd9a9bf98ede05",
     "locked": true,
     "schema_version": 3,
     "solution": false,
     "task": false
    }
   },
   "source": [
    "---\n",
    "\n",
    "You can see a brief description of each file in the dataset by looking at the README file:"
   ]
  },
  {
   "cell_type": "code",
   "execution_count": 3,
   "metadata": {
    "deletable": false,
    "editable": false,
    "nbgrader": {
     "cell_type": "code",
     "checksum": "cb3c9a2b8b2bf4fd5b7446b0c4c00f43",
     "grade": false,
     "grade_id": "cell-9b6ff1a17124711f",
     "locked": true,
     "schema_version": 3,
     "solution": false,
     "task": false
    }
   },
   "outputs": [
    {
     "name": "stdout",
     "output_type": "stream",
     "text": [
      "Files in this directory with sizes:\n",
      "          0 Jun 19 21:01 README\n",
      "\n",
      "    2187734 Jun 19 20:55 cacm.all              text of documents\n",
      "        626 Jun 19 20:58 cite.info             key to citation info\n",
      "                                                (the X sections in cacm.all)\n",
      "       2668 Jun 19 20:55 common_words           stop words used by smart\n",
      "       2194 Jun 19 20:55 make_coll*             shell script to make collection\n",
      "       1557 Jun 19 20:55 make_coll_term*        ditto (both useless without\n",
      "                                                smart system)\n",
      "       9948 Jun 19 20:55 qrels.text             relation giving\n",
      "                                                    qid did 0 0\n",
      "                                                to indicate dument did is\n",
      "                                                relevant to query qid\n",
      "      13689 Jun 19 20:55 query.text             Original text of the query\n",
      "\n"
     ]
    }
   ],
   "source": [
    "##### Read the README file \n",
    "with open (\"./datasets/README\",\"r\") as file:\n",
    "    readme = file.read()\n",
    "    print(readme)\n",
    "#####"
   ]
  },
  {
   "cell_type": "markdown",
   "metadata": {
    "deletable": false,
    "editable": false,
    "nbgrader": {
     "cell_type": "markdown",
     "checksum": "6e2712c4c4632bf7486a532f7f18074d",
     "grade": false,
     "grade_id": "cell-73351431869fda76",
     "locked": true,
     "schema_version": 3,
     "solution": false,
     "task": false
    }
   },
   "source": [
    "---\n",
    "We are interested in 4 files:\n",
    "- `cacm.all` : Contains the text for all documents. Note that some documents do not have abstracts available\n",
    "- `query.text` : The text of all queries\n",
    "- `qrels.text` : The relevance judgements\n",
    "- `common_words` : A list of common words. This may be used as a collection of stopwords"
   ]
  },
  {
   "cell_type": "code",
   "execution_count": 4,
   "metadata": {
    "deletable": false,
    "editable": false,
    "nbgrader": {
     "cell_type": "code",
     "checksum": "f1162c15177eb4ffe466531d03cff4a2",
     "grade": false,
     "grade_id": "cell-b44dd14079f278ca",
     "locked": true,
     "schema_version": 3,
     "solution": false,
     "task": false
    }
   },
   "outputs": [
    {
     "name": "stdout",
     "output_type": "stream",
     "text": [
      ".I 1\n",
      ".T\n",
      "Preliminary Report-International Algebraic Language\n",
      ".B\n",
      "CACM December, 1958\n",
      ".A\n",
      "Perlis, A. J.\n",
      "Samelson,K.\n",
      ".N\n",
      "CA581203 JB March 22, 1978  8:28 PM\n",
      ".X\n",
      "100\t5\t1\n",
      "123\t5\t1\n",
      "164\t5\t1\n",
      "1\t5\t1\n",
      "1\t5\t1\n",
      "1\t5\t1\n",
      "205\t5\t1\n",
      "210\t5\t1\n",
      "214\t5\t1\n",
      "1982\t5\t1\n",
      "398\t5\t1\n",
      "642\t5\t1\n",
      "669\t5\t1\n",
      "1\t6\t1\n",
      "1\t6\t1\n",
      "1\t6\t1\n",
      "1\t6\t1\n",
      "1\t6\t1\n",
      "1\t6\t1\n",
      "1\t6\t1\n",
      "1\t6\t1\n",
      "1\t6\t1\n",
      "1\t6\t1\n",
      "165\t6\t1\n",
      "196\t6\t1\n",
      "196\t6\t1\n",
      "1273\t6\t1\n",
      "1883\t6\t1\n",
      "324\t6\t1\n",
      "43\t6\t1\n",
      "53\t6\t1\n",
      "91\t6\t1\n",
      "410\t6\t1\n",
      "3184\t6\t1\n",
      "\n"
     ]
    }
   ],
   "source": [
    "##### The first 45 lines of the CACM dataset forms the first record\n",
    "# We are interested only in 3 fields. \n",
    "# 1. the '.I' field, which is the document id\n",
    "# 2. the '.T' field (the title) and\n",
    "# 3. the '.W' field (the abstract, which may be absent)\n",
    "with open (\"./datasets/cacm.all\",\"r\") as file:\n",
    "    cacm_all = \"\".join(file.readlines()[:45])\n",
    "    print(cacm_all)\n",
    "#####"
   ]
  },
  {
   "cell_type": "markdown",
   "metadata": {
    "deletable": false,
    "editable": false,
    "nbgrader": {
     "cell_type": "markdown",
     "checksum": "250b413baccd8efb186bb46a34ae0060",
     "grade": false,
     "grade_id": "cell-c4bf2e263ec553d8",
     "locked": true,
     "schema_version": 3,
     "solution": false,
     "task": false
    }
   },
   "source": [
    "---\n",
    "\n",
    "The following function reads the `cacm.all` file. Note that each document has a variable number of lines. The `.I` field denotes a new document:"
   ]
  },
  {
   "cell_type": "code",
   "execution_count": 5,
   "metadata": {
    "deletable": false,
    "editable": false,
    "nbgrader": {
     "cell_type": "code",
     "checksum": "57d757e6a7a6938740dc899022b4f291",
     "grade": false,
     "grade_id": "cell-b736116eb419c624",
     "locked": true,
     "schema_version": 3,
     "solution": false,
     "task": false
    }
   },
   "outputs": [],
   "source": [
    "def read_cacm_docs(root_folder = \"./datasets/\"):\n",
    "    \"\"\"\n",
    "        Reads in the CACM documents. The dataset is assumed to be in the folder \"./datasets/\" by default\n",
    "        Returns: A list of 2-tuples: (doc_id, document), where 'document' is a single string created by \n",
    "            appending the title and abstract (separated by a \"\\n\"). \n",
    "            In case the record doesn't have an abstract, the document is composed only by the title\n",
    "    \"\"\"\n",
    "    with open(os.path.join(root_folder, \"cacm.all\")) as reader:\n",
    "        lines = reader.readlines()\n",
    "    \n",
    "    doc_id, title, abstract = None, None, None\n",
    "    \n",
    "    docs = []\n",
    "    line_idx = 0\n",
    "    while line_idx < len(lines):\n",
    "        line = lines[line_idx]\n",
    "        if line.startswith(\".I\"):\n",
    "            if doc_id is not None:\n",
    "                docs.append((doc_id, title, abstract))\n",
    "                doc_id, title, abstract = None, None, None\n",
    "            \n",
    "            doc_id = line.split()[-1]\n",
    "            line_idx += 1\n",
    "        elif line.startswith(\".T\"):\n",
    "            # start at next line\n",
    "            line_idx += 1\n",
    "            temp_lines = []\n",
    "            # read till next '.'\n",
    "            while not lines[line_idx].startswith(\".\"):\n",
    "                temp_lines.append(lines[line_idx].strip(\"\\n\"))\n",
    "                line_idx += 1\n",
    "            title = \"\\n\".join(temp_lines).strip(\"\\n\")\n",
    "        elif line.startswith(\".W\"):\n",
    "            # start at next line\n",
    "            line_idx += 1\n",
    "            temp_lines = []\n",
    "            # read till next '.'\n",
    "            while not lines[line_idx].startswith(\".\"):\n",
    "                temp_lines.append(lines[line_idx].strip(\"\\n\"))\n",
    "                line_idx += 1\n",
    "            abstract = \"\\n\".join(temp_lines).strip(\"\\n\")\n",
    "        else:\n",
    "            line_idx += 1\n",
    "    \n",
    "    docs.append((doc_id, title, abstract))\n",
    "    \n",
    "    p_docs = []\n",
    "    for (did, t, a) in docs:\n",
    "        if a is None:\n",
    "            a = \"\"\n",
    "        p_docs.append((did, t + \"\\n\" + a))\n",
    "    return p_docs\n"
   ]
  },
  {
   "cell_type": "code",
   "execution_count": 6,
   "metadata": {
    "deletable": false,
    "editable": false,
    "nbgrader": {
     "cell_type": "code",
     "checksum": "2f81930fcd89670b6e20e2255e1f2369",
     "grade": false,
     "grade_id": "cell-a1c43818e0d3fd79",
     "locked": true,
     "schema_version": 3,
     "solution": false,
     "task": false
    }
   },
   "outputs": [],
   "source": [
    "##### Function check\n",
    "docs = read_cacm_docs()\n",
    "\n",
    "assert isinstance(docs, list)\n",
    "assert len(docs) == 3204, \"There should be exactly 3204 documents\"\n",
    "\n",
    "unzipped_docs = list(zip(*docs))\n",
    "assert np.sum(np.array(list(map(int,unzipped_docs[0])))) == 5134410\n",
    "\n",
    "##### "
   ]
  },
  {
   "cell_type": "markdown",
   "metadata": {
    "deletable": false,
    "editable": false,
    "nbgrader": {
     "cell_type": "markdown",
     "checksum": "25fd3cfaf2137c56002b850699b3c9d3",
     "grade": false,
     "grade_id": "cell-5ed2ddc91f73c60e",
     "locked": true,
     "schema_version": 3,
     "solution": false,
     "task": false
    }
   },
   "source": [
    "---\n",
    "### 1.2 Read the CACM queries\n",
    "\n",
    "Next, let us read the queries. They are formatted similarly:"
   ]
  },
  {
   "cell_type": "code",
   "execution_count": 7,
   "metadata": {
    "deletable": false,
    "editable": false,
    "nbgrader": {
     "cell_type": "code",
     "checksum": "5d26c0908e758acb9968b84056b1060a",
     "grade": false,
     "grade_id": "cell-5c7e8e7c4fc2757f",
     "locked": true,
     "schema_version": 3,
     "solution": false,
     "task": false
    }
   },
   "outputs": [
    {
     "name": "stdout",
     "output_type": "stream",
     "text": [
      ".I 1\n",
      ".W\n",
      " What articles exist which deal with TSS (Time Sharing System), an\n",
      "operating system for IBM computers?\n",
      ".N\n",
      " 1. Richard Alexander, Comp Serv, Langmuir Lab (TSS)\n",
      " \n",
      ".I 2\n",
      ".W\n",
      " I am interested in articles written either by Prieve or Udo Pooch\n",
      ".A\n",
      "Prieve, B.\n",
      "Pooch, U.\n",
      ".N\n",
      " 2. Richard Alexander, Comp Serv, Langmuir Lab (author = Pooch or Prieve)\n"
     ]
    }
   ],
   "source": [
    "##### The first 15 lines of 'query.text' has 2 queries\n",
    "# We are interested only in 2 fields. \n",
    "# 1. the '.I' - the query id\n",
    "# 2. the '.W' - the query\n",
    "!head -15 ./datasets/query.text\n",
    "#####"
   ]
  },
  {
   "cell_type": "markdown",
   "metadata": {
    "deletable": false,
    "editable": false,
    "nbgrader": {
     "cell_type": "markdown",
     "checksum": "8f19f311a660f30e3f86cb0f7037d54a",
     "grade": false,
     "grade_id": "cell-88e293507d2dcef6",
     "locked": true,
     "schema_version": 3,
     "solution": false,
     "task": false
    }
   },
   "source": [
    "---\n",
    "\n",
    "The following function reads the `query.text` file:"
   ]
  },
  {
   "cell_type": "code",
   "execution_count": 8,
   "metadata": {
    "deletable": false,
    "editable": false,
    "nbgrader": {
     "cell_type": "code",
     "checksum": "e3fbb193211007672849487f5cff1664",
     "grade": false,
     "grade_id": "cell-433e3ad5d0e2572a",
     "locked": true,
     "schema_version": 3,
     "solution": false,
     "task": false
    }
   },
   "outputs": [],
   "source": [
    "def read_queries(root_folder = \"./datasets/\"):\n",
    "    \"\"\"\n",
    "        Reads in the CACM queries. The dataset is assumed to be in the folder \"./datasets/\" by default\n",
    "        Returns: A list of 2-tuples: (query_id, query)\n",
    "    \"\"\"\n",
    "    with open(os.path.join(root_folder, \"query.text\")) as reader:\n",
    "        lines = reader.readlines()\n",
    "    \n",
    "    query_id, query = None, None\n",
    "    \n",
    "    queries = []\n",
    "    line_idx = 0\n",
    "    while line_idx < len(lines):\n",
    "        line = lines[line_idx]\n",
    "        if line.startswith(\".I\"):\n",
    "            if query_id is not None:\n",
    "                queries.append((query_id, query))\n",
    "                query_id, query = None, None\n",
    "    \n",
    "            query_id = line.split()[-1]\n",
    "            line_idx += 1\n",
    "        elif line.startswith(\".W\"):\n",
    "            # start at next line\n",
    "            line_idx += 1\n",
    "            temp_lines = []\n",
    "            # read till next '.'\n",
    "            while not lines[line_idx].startswith(\".\"):\n",
    "                temp_lines.append(lines[line_idx].strip(\"\\n\"))\n",
    "                line_idx += 1\n",
    "            query = \"\\n\".join(temp_lines).strip(\"\\n\")\n",
    "        else:\n",
    "            line_idx += 1\n",
    "    \n",
    "    queries.append((query_id, query))\n",
    "    return queries\n"
   ]
  },
  {
   "cell_type": "code",
   "execution_count": 9,
   "metadata": {
    "deletable": false,
    "editable": false,
    "nbgrader": {
     "cell_type": "code",
     "checksum": "a897b9771b54f447be3418d7246fc4a0",
     "grade": false,
     "grade_id": "cell-6ec540abce66c598",
     "locked": true,
     "schema_version": 3,
     "solution": false,
     "task": false
    }
   },
   "outputs": [],
   "source": [
    "##### Function check\n",
    "queries = read_queries()\n",
    "\n",
    "assert isinstance(queries, list)\n",
    "assert len(queries) == 64 and all([q[1] is not None for q in queries]), \"There should be exactly 64 queries\"\n",
    "\n",
    "unzipped_queries = list(zip(*queries))\n",
    "assert np.sum(np.array(list(map(int,unzipped_queries[0])))) == 2080\n",
    "\n",
    "##### "
   ]
  },
  {
   "cell_type": "markdown",
   "metadata": {
    "deletable": false,
    "editable": false,
    "nbgrader": {
     "cell_type": "markdown",
     "checksum": "a300c41912ac63b239070b4c15c9f5c5",
     "grade": false,
     "grade_id": "cell-1c31569491d7b782",
     "locked": true,
     "schema_version": 3,
     "solution": false,
     "task": false
    }
   },
   "source": [
    "---\n",
    "### 1.3 Read the stop words\n",
    "\n",
    "We use the common words stored in `common_words`:"
   ]
  },
  {
   "cell_type": "code",
   "execution_count": 10,
   "metadata": {
    "deletable": false,
    "editable": false,
    "nbgrader": {
     "cell_type": "code",
     "checksum": "1ad6f5bae6a792504c1c8513ae5751ad",
     "grade": false,
     "grade_id": "cell-34bdb63461418a96",
     "locked": true,
     "schema_version": 3,
     "solution": false,
     "task": false
    }
   },
   "outputs": [
    {
     "name": "stdout",
     "output_type": "stream",
     "text": [
      "a\n",
      "about\n",
      "above\n",
      "accordingly\n",
      "across\n",
      "after\n",
      "afterwards\n",
      "again\n",
      "against\n",
      "all\n"
     ]
    }
   ],
   "source": [
    "##### Read the stop words file \n",
    "!head ./datasets/common_words\n",
    "##### Read the README file "
   ]
  },
  {
   "cell_type": "markdown",
   "metadata": {
    "deletable": false,
    "editable": false,
    "nbgrader": {
     "cell_type": "markdown",
     "checksum": "6d0fe612e770213b6397c2179b07a966",
     "grade": false,
     "grade_id": "cell-4744bde0338895d8",
     "locked": true,
     "schema_version": 3,
     "solution": false,
     "task": false
    }
   },
   "source": [
    "---\n",
    "\n",
    "The following function reads the `common_words` file (For better coverage, we try to keep them in lowercase):"
   ]
  },
  {
   "cell_type": "code",
   "execution_count": 11,
   "metadata": {
    "deletable": false,
    "editable": false,
    "nbgrader": {
     "cell_type": "code",
     "checksum": "9409713fd26eb0c33587e190638997c4",
     "grade": false,
     "grade_id": "cell-7357aa40f64e5bcb",
     "locked": true,
     "schema_version": 3,
     "solution": false,
     "task": false
    }
   },
   "outputs": [],
   "source": [
    "def load_stopwords(root_folder = \"./datasets/\"):\n",
    "    \"\"\"\n",
    "        Loads the stopwords. The dataset is assumed to be in the folder \"./datasets/\" by default\n",
    "        Output: A set of stopwords\n",
    "    \"\"\"\n",
    "    with open(os.path.join(root_folder, \"common_words\")) as reader:\n",
    "        lines = reader.readlines()\n",
    "    stopwords = set([l.strip().lower() for l in lines])\n",
    "    return stopwords\n"
   ]
  },
  {
   "cell_type": "code",
   "execution_count": 12,
   "metadata": {
    "deletable": false,
    "editable": false,
    "nbgrader": {
     "cell_type": "code",
     "checksum": "f1c8153c3c38133bc2db6e7b076ad470",
     "grade": false,
     "grade_id": "cell-2ca3ac162004de97",
     "locked": true,
     "schema_version": 3,
     "solution": false,
     "task": false
    }
   },
   "outputs": [],
   "source": [
    "##### Function check\n",
    "stopwords = load_stopwords()\n",
    "\n",
    "assert isinstance(stopwords, set)\n",
    "assert len(stopwords) == 428, \"There should be exactly 428 stop words\"\n",
    "\n",
    "assert np.sum(np.array(list(map(len,stopwords)))) == 2234\n",
    "\n",
    "##### \n"
   ]
  },
  {
   "cell_type": "markdown",
   "metadata": {
    "deletable": false,
    "editable": false,
    "nbgrader": {
     "cell_type": "markdown",
     "checksum": "92c1191e9e7291dcf0d70dc67b907a65",
     "grade": false,
     "grade_id": "cell-134b72872f4300cb",
     "locked": true,
     "schema_version": 3,
     "solution": false,
     "task": false
    }
   },
   "source": [
    "---\n",
    "### 1.4 Tokenization (3 points)\n",
    "\n",
    "We can now write some basic text processing functions. \n",
    "A first step is to tokenize the text. \n",
    "\n",
    "**Note**: Use the  `WordPunctTokenizer` available in the `nltk` library:"
   ]
  },
  {
   "cell_type": "code",
   "execution_count": 13,
   "metadata": {
    "deletable": false,
    "nbgrader": {
     "cell_type": "code",
     "checksum": "3f5564d3c75bf22fbf832b3a9b938f37",
     "grade": false,
     "grade_id": "cell-322be4c9499bdc4b",
     "locked": false,
     "schema_version": 3,
     "solution": true,
     "task": false
    }
   },
   "outputs": [],
   "source": [
    "# TODO: Implement this! (4 points)\n",
    "def tokenize(text):\n",
    "    \"\"\"\n",
    "    Tokenizes the input text. Use the WordPunctTokenizer\n",
    "    Input: text - a string\n",
    "    Output: a list of tokens\n",
    "    \"\"\"\n",
    "    # YOUR CODE HERE\n",
    "\n",
    "    tk = nltk.WordPunctTokenizer()\n",
    "    return tk.tokenize(text)"
   ]
  },
  {
   "cell_type": "code",
   "execution_count": 14,
   "metadata": {
    "deletable": false,
    "editable": false,
    "nbgrader": {
     "cell_type": "code",
     "checksum": "e15af22c4d8ae0a3f9dac43bef7097ec",
     "grade": true,
     "grade_id": "cell-7fbf48bf7541a622",
     "locked": true,
     "points": 3,
     "schema_version": 3,
     "solution": false,
     "task": false
    }
   },
   "outputs": [
    {
     "name": "stdout",
     "output_type": "stream",
     "text": [
      "['the', 'quick', 'brown', 'fox', 'jumps', 'over', 'the', 'lazy', 'dog']\n"
     ]
    }
   ],
   "source": [
    "##### Function check\n",
    "text = \"the quick brown fox jumps over the lazy dog\"\n",
    "tokens = tokenize(text)\n",
    "\n",
    "assert isinstance(tokens, list)\n",
    "assert len(tokens) == 9\n",
    "\n",
    "print(tokens)\n",
    "# output: ['the', 'quick', 'brown', 'fox', 'jumps', 'over', 'the', 'lazy', 'dog']\n",
    "#####"
   ]
  },
  {
   "cell_type": "markdown",
   "metadata": {
    "deletable": false,
    "editable": false,
    "nbgrader": {
     "cell_type": "markdown",
     "checksum": "34210618bff4cb47aad2f03cb4b9854c",
     "grade": false,
     "grade_id": "cell-fd1b98ae61b697ca",
     "locked": true,
     "schema_version": 3,
     "solution": false,
     "task": false
    }
   },
   "source": [
    "---\n",
    "### 1.5 Stemming (2 points)\n",
    "\n",
    "Write a function to stem tokens. \n",
    "Again, you can use the nltk library for this:"
   ]
  },
  {
   "cell_type": "code",
   "execution_count": 15,
   "metadata": {
    "deletable": false,
    "nbgrader": {
     "cell_type": "code",
     "checksum": "1c4a6aa979d66158c7b6b992af43293a",
     "grade": false,
     "grade_id": "cell-e3f6c8e3f874b28d",
     "locked": false,
     "schema_version": 3,
     "solution": true,
     "task": false
    }
   },
   "outputs": [],
   "source": [
    "# TODO: Implement this! (3 points)\n",
    "def stem_token(token):\n",
    "    \"\"\"\n",
    "    Stems the given token using the PorterStemmer from the nltk library\n",
    "    Input: a single token\n",
    "    Output: the stem of the token\n",
    "    \"\"\"\n",
    "    stemmer = nltk.stem.PorterStemmer()\n",
    "    return stemmer.stem(token)"
   ]
  },
  {
   "cell_type": "code",
   "execution_count": 16,
   "metadata": {
    "deletable": false,
    "editable": false,
    "nbgrader": {
     "cell_type": "code",
     "checksum": "9363b4f09b556d424d9c895d4ab57b1c",
     "grade": true,
     "grade_id": "cell-cd6863e6ee6ed205",
     "locked": true,
     "points": 2,
     "schema_version": 3,
     "solution": false,
     "task": false
    }
   },
   "outputs": [],
   "source": [
    "##### Function check\n",
    "\n",
    "assert stem_token('owned') == 'own'\n",
    "assert stem_token('itemization') == 'item'\n",
    "#####"
   ]
  },
  {
   "cell_type": "markdown",
   "metadata": {
    "deletable": false,
    "editable": false,
    "nbgrader": {
     "cell_type": "markdown",
     "checksum": "0b311d014146da6afa1d39542fab9869",
     "grade": false,
     "grade_id": "cell-47c9f90498699110",
     "locked": true,
     "schema_version": 3,
     "solution": false,
     "task": false
    }
   },
   "source": [
    "---\n",
    "### 1.6 Summary\n",
    "\n",
    "The following function puts it all together. Given an input string, this functions tokenizes and processes it according to the flags that you set."
   ]
  },
  {
   "cell_type": "code",
   "execution_count": 17,
   "metadata": {
    "deletable": false,
    "editable": false,
    "nbgrader": {
     "cell_type": "code",
     "checksum": "2ff2d215ee8e0039c5a91fd3de12e6bd",
     "grade": false,
     "grade_id": "cell-dd0d3f46b30801da",
     "locked": true,
     "schema_version": 3,
     "solution": false,
     "task": false
    }
   },
   "outputs": [],
   "source": [
    "#### Putting it all together\n",
    "def process_text(text, stem=False, remove_stopwords=False, lowercase_text=False):\n",
    "    \n",
    "    tokens = []\n",
    "    for token in tokenize(text):\n",
    "        if remove_stopwords and token.lower() in stopwords:\n",
    "            continue\n",
    "        if stem:\n",
    "            token = stem_token(token)\n",
    "        if lowercase_text:\n",
    "            token = token.lower()\n",
    "        tokens.append(token)\n",
    "\n",
    "    return tokens\n",
    "#### "
   ]
  },
  {
   "cell_type": "markdown",
   "metadata": {
    "deletable": false,
    "editable": false,
    "nbgrader": {
     "cell_type": "markdown",
     "checksum": "02d433b18eb43654fa4306a7bf55b190",
     "grade": false,
     "grade_id": "cell-8d885bfd2edd43ae",
     "locked": true,
     "schema_version": 3,
     "solution": false,
     "task": false
    }
   },
   "source": [
    "---\n",
    "\n",
    "Let's create two sets of preprocessed documents.\n",
    "We can process the documents and queries according to these two configurations:"
   ]
  },
  {
   "cell_type": "code",
   "execution_count": 18,
   "metadata": {
    "deletable": false,
    "editable": false,
    "nbgrader": {
     "cell_type": "code",
     "checksum": "dbe4ca667be6842fdcf512fbcad50c7f",
     "grade": false,
     "grade_id": "cell-d427365ee0fb21d8",
     "locked": true,
     "schema_version": 3,
     "solution": false,
     "task": false
    }
   },
   "outputs": [],
   "source": [
    "# In this configuration:\n",
    "# Don't preprocess the text, except to tokenize \n",
    "config_1 = {\n",
    "  \"stem\": False,\n",
    "  \"remove_stopwords\" : False,\n",
    "  \"lowercase_text\": True\n",
    "} \n",
    "\n",
    "\n",
    "# In this configuration:\n",
    "# Preprocess the text, stem and remove stopwords\n",
    "config_2 = {\n",
    "  \"stem\": True,\n",
    "  \"remove_stopwords\" : True,\n",
    "  \"lowercase_text\": True, \n",
    "} \n",
    "\n",
    "####\n",
    "doc_repr_1 = []\n",
    "doc_repr_2 = []\n",
    "for (doc_id, document) in docs:\n",
    "    doc_repr_1.append((doc_id, process_text(document, **config_1)))\n",
    "    doc_repr_2.append((doc_id, process_text(document, **config_2)))\n",
    "\n",
    "####"
   ]
  },
  {
   "cell_type": "markdown",
   "metadata": {
    "deletable": false,
    "editable": false,
    "nbgrader": {
     "cell_type": "markdown",
     "checksum": "b60589aac19e80941d860d9b3f1e9a16",
     "grade": false,
     "grade_id": "cell-b1c102db61ae7495",
     "locked": true,
     "schema_version": 3,
     "solution": false,
     "task": false
    }
   },
   "source": [
    "--- \n",
    "\n",
    "## Section 2: Indexing (10 points)<a class=\"anchor\" id=\"indexing\"></a>\n",
    "\n",
    "[Back to Part 1](#part1)\n",
    "\n",
    "\n",
    "\n",
    "A retrieval function usually takes in a query document pair, and scores a query against a document.  Our document set is quite small - just a few thousand documents. However, consider a web-scale dataset with a few million documents. In such a scenario, it would become infeasible to score every query and document pair. In such a case, we can build an inverted index. From Wikipedia:\n",
    "\n",
    "> ... , an inverted index (also referred to as a postings file or inverted file) is a database index storing a mapping from content, such as words or numbers, to its locations in a table, .... The purpose of an inverted index is to allow fast full-text searches, at a cost of increased processing when a document is added to the database. ...\n",
    "\n",
    "\n",
    "Consider a simple inverted index, which maps from word to document. This can improve the performance of a retrieval system significantly. In this assignment, we consider a *simple* inverted index, which maps a word to a set of documents. In practice, however, more complex indices might be used.  \n"
   ]
  },
  {
   "cell_type": "markdown",
   "metadata": {
    "deletable": false,
    "editable": false,
    "nbgrader": {
     "cell_type": "markdown",
     "checksum": "710fd943f45523ac36fcb887cc0d4d39",
     "grade": false,
     "grade_id": "cell-fa373192c1b7bb95",
     "locked": true,
     "schema_version": 3,
     "solution": false,
     "task": false
    }
   },
   "source": [
    "### 2.1 Term Frequency-index (10 points)\n",
    "In this assignment, we will be using an index created in memory since our dataset is tiny. To get started, build a simple index that maps each `token` to a list of `(doc_id, count)` where `count` is the count of the `token` in `doc_id`.\n",
    "For consistency, build this index using a python dictionary.\n",
    "    \n",
    "Now, implement a function to build an index:"
   ]
  },
  {
   "cell_type": "code",
   "execution_count": 19,
   "metadata": {
    "deletable": false,
    "nbgrader": {
     "cell_type": "code",
     "checksum": "d4e8c6b658c469379d5fe511de05b536",
     "grade": false,
     "grade_id": "cell-077599b87e953209",
     "locked": false,
     "schema_version": 3,
     "solution": true,
     "task": false
    }
   },
   "outputs": [],
   "source": [
    "# need defaultdict to handle cases when queried word is missing from our documents\n",
    "# https://piazza.com/class/kyiksrdfk0b6te?cid=38\n",
    "# https://piazza.com/class/kyiksrdfk0b6te?cid=39\n",
    "from collections import defaultdict\n",
    "\n",
    "# TODO: Implement this! (10 points)\n",
    "def build_tf_index(documents):\n",
    "    \"\"\"\n",
    "    Build an inverted index (with counts).\n",
    "    The output is a dictionary which takes in a token and\n",
    "    returns a list of (doc_id, count)\n",
    "    where 'count' is the count of the 'token' in 'doc_id'\n",
    "\n",
    "    Input: a list of documents - (doc_id, tokens)\n",
    "    Output: An inverted index implemented within a pyhton dictionary:\n",
    "        [token] -> [(doc_id, token_count)]\n",
    "    \"\"\"\n",
    "    # YOUR CODE HERE\n",
    "    tf_index = defaultdict(list)\n",
    "    for doc_id, tokens in documents:\n",
    "        tokens_set = set(tokens)\n",
    "        for token in tokens_set:\n",
    "            tf_index[token].append((doc_id, tokens.count(token)))\n",
    "    return tf_index"
   ]
  },
  {
   "cell_type": "markdown",
   "metadata": {
    "deletable": false,
    "editable": false,
    "nbgrader": {
     "cell_type": "markdown",
     "checksum": "15e7041b4323d2a290322de538ff7670",
     "grade": false,
     "grade_id": "cell-093aebfa504f96f2",
     "locked": true,
     "schema_version": 3,
     "solution": false,
     "task": false
    }
   },
   "source": [
    "---\n",
    "Now we can build indexed documents and preprocess the queries based on the two configurations:"
   ]
  },
  {
   "cell_type": "code",
   "execution_count": 20,
   "metadata": {
    "deletable": false,
    "editable": false,
    "nbgrader": {
     "cell_type": "code",
     "checksum": "e27540c1d8d77a3779a05f557f3f40c6",
     "grade": false,
     "grade_id": "cell-b2ff1676348b90a8",
     "locked": true,
     "schema_version": 3,
     "solution": false,
     "task": false
    }
   },
   "outputs": [],
   "source": [
    "#### Indexed documents based on the two configs\n",
    "\n",
    "# Create the 2 indices\n",
    "tf_index_1 = build_tf_index(doc_repr_1)\n",
    "tf_index_2 = build_tf_index(doc_repr_2)\n",
    "\n",
    "# This function returns the tf_index of the corresponding config\n",
    "def get_index(index_set):\n",
    "    assert index_set in {1, 2}\n",
    "    return {\n",
    "        1: tf_index_1,\n",
    "        2: tf_index_2\n",
    "    }[index_set]\n",
    "\n",
    "####\n",
    "#### Preprocessed query based on the two configs\n",
    "\n",
    "# This function preprocesses the text given the index set, according to the specified config\n",
    "def preprocess_query(text, index_set):\n",
    "    assert index_set in {1, 2}\n",
    "    if index_set == 1:\n",
    "        return process_text(text, **config_1)\n",
    "    elif index_set == 2:\n",
    "        return process_text(text, **config_2)\n",
    "\n",
    "#### "
   ]
  },
  {
   "cell_type": "code",
   "execution_count": 21,
   "metadata": {
    "deletable": false,
    "editable": false,
    "nbgrader": {
     "cell_type": "code",
     "checksum": "f0cbc8703e1248cd6edf03f9019b69db",
     "grade": true,
     "grade_id": "cell-fc7c7232d5d2ee46",
     "locked": true,
     "points": 5,
     "schema_version": 3,
     "solution": false,
     "task": false
    }
   },
   "outputs": [
    {
     "name": "stdout",
     "output_type": "stream",
     "text": [
      "sample tf index for computer: [('4', 1), ('7', 1), ('10', 1), ('13', 1), ('19', 1), ('22', 1), ('23', 1), ('37', 1), ('40', 3), ('41', 1)]\n",
      "sample tf index for examples: [('111', 1), ('320', 1), ('644', 1), ('691', 1), ('727', 1), ('848', 1), ('892', 1), ('893', 1), ('1049', 1), ('1051', 1)]\n"
     ]
    }
   ],
   "source": [
    "##### Function check\n",
    "\n",
    "assert isinstance(tf_index_1, dict)\n",
    "\n",
    "assert isinstance(tf_index_1['computer'], list)\n",
    "print('sample tf index for computer:', tf_index_1['computer'][:10])\n",
    "\n",
    "assert isinstance(tf_index_1['examples'], list)\n",
    "print('sample tf index for examples:', tf_index_1['examples'][:10])\n",
    "#### "
   ]
  },
  {
   "cell_type": "code",
   "execution_count": 22,
   "metadata": {
    "deletable": false,
    "editable": false,
    "nbgrader": {
     "cell_type": "code",
     "checksum": "d49b8ac36815d9a5cb4bed838ab53a50",
     "grade": true,
     "grade_id": "cell-ff06bd11204db250",
     "locked": true,
     "points": 5,
     "schema_version": 3,
     "solution": false,
     "task": false
    }
   },
   "outputs": [
    {
     "name": "stdout",
     "output_type": "stream",
     "text": [
      "sample tf index for computer: [('4', 1), ('7', 1), ('10', 1), ('13', 1), ('19', 1), ('22', 1), ('23', 1), ('37', 1), ('40', 3), ('41', 1)]\n",
      "sample tf index for examples: []\n"
     ]
    }
   ],
   "source": [
    "##### Function check\n",
    "\n",
    "assert isinstance(tf_index_2, dict)\n",
    "\n",
    "assert isinstance(tf_index_2['computer'], list)\n",
    "print('sample tf index for computer:', tf_index_1['computer'][:10])\n",
    "\n",
    "assert isinstance(tf_index_2['examples'], list)\n",
    "print('sample tf index for examples:', tf_index_2['examples'][:10])\n",
    "#### "
   ]
  },
  {
   "cell_type": "markdown",
   "metadata": {
    "deletable": false,
    "editable": false,
    "nbgrader": {
     "cell_type": "markdown",
     "checksum": "880b2ef3ca405f2af6e0667d2dc7a600",
     "grade": false,
     "grade_id": "cell-89eba71f04310291",
     "locked": true,
     "schema_version": 3,
     "solution": false,
     "task": false
    }
   },
   "source": [
    "\n",
    "---\n",
    "## Section 3: Ranking  (80 points) <a class=\"anchor\" id=\"ranking\"></a>\n",
    "\n",
    "[Back to Part 1](#part1)\n",
    "\n",
    "Now that we have cleaned and processed our dataset, we can start building simple IR systems. \n",
    "\n",
    "For now, we consider *simple* IR systems, which involve computing scores from the tokens present in the document/query. More advanced methods are covered in later assignments.\n",
    "\n",
    "We will implement the following methods in this section:\n",
    "- [Section 3.1: Bag of Words](#bow) (10 points)\n",
    "- [Section 3.2: TF-IDF](#tfidf) (15 points)\n",
    "- [Section 3.3: Query Likelihood Model](#qlm) (35 points)\n",
    "- [Section 3.4: BM25](#bm25) (20 points)\n",
    "\n",
    "*All search functions should be able to handle multiple words queries.*\n",
    "\n",
    "**Scoring policy:**\n",
    "Your implementations in this section are scored based on the expected performance of your ranking functions.\n",
    "You will get a full mark if your implementation meets the expected performance (measured by some evaluation metric).\n",
    "Otherwise, you may get partial credit.\n",
    "For example, if your *Bag of words* ranking function has 60% of expected performance, you will get 6 out of 10."
   ]
  },
  {
   "cell_type": "markdown",
   "metadata": {
    "deletable": false,
    "editable": false,
    "nbgrader": {
     "cell_type": "markdown",
     "checksum": "6c74e5061917358300c6e8085ec07864",
     "grade": false,
     "grade_id": "cell-3daf70a60e393adf",
     "locked": true,
     "schema_version": 3,
     "solution": false,
     "task": false
    }
   },
   "source": [
    "--- \n",
    "\n",
    "### Section 3.1: Bag of Words (10 points)<a class=\"anchor\" id=\"bow\"></a>\n",
    "\n",
    "Probably the simplest IR model is the Bag of Words (BOW) model.\n",
    "Implement a function that scores and ranks all the documents against a query using this model.   \n",
    "\n",
    "- For consistency, you should use the count of the token and **not** the binary indicator.\n",
    "- Use `float` type for the scores (even though the scores are integers in this case).\n",
    "- No normalization of the scores is necessary, as the ordering is what we are interested in.\n",
    "- If two documents have the same score, they can have any ordering: you are not required to disambiguate.\n"
   ]
  },
  {
   "cell_type": "code",
   "execution_count": 23,
   "metadata": {
    "deletable": false,
    "nbgrader": {
     "cell_type": "code",
     "checksum": "fee4640e22bfc4f05eb958a675ef40e7",
     "grade": false,
     "grade_id": "cell-de9cf0459c4b9324",
     "locked": false,
     "schema_version": 3,
     "solution": true,
     "task": false
    }
   },
   "outputs": [],
   "source": [
    "# TODO: Implement this! (10 points)\n",
    "def bow_search(query, index_set):\n",
    "    \"\"\"\n",
    "    Perform a search over all documents with the given query.\n",
    "    Note: You have to use the `get_index` function created in the previous cells\n",
    "    Input:\n",
    "        query - a (unprocessed) query\n",
    "        index_set - the index to use\n",
    "    Output: a list of (document_id, score),\n",
    "        sorted in descending relevance to the given query.\n",
    "    \"\"\"\n",
    "    index = get_index(index_set)\n",
    "    processed_query = preprocess_query(query, index_set)\n",
    "\n",
    "    # YOUR CODE HERE\n",
    "    # total count per document\n",
    "    documents = defaultdict(float)\n",
    "    for token in processed_query:\n",
    "        for document_id, token_count in index[token]:\n",
    "            # aggregate counts of this token across all documents\n",
    "            documents[document_id] += token_count\n",
    "    # convert documents to list and sort descending\n",
    "    documents = sorted(list(documents.items()), key=lambda x: x[1], reverse=True)\n",
    "    return documents"
   ]
  },
  {
   "cell_type": "code",
   "execution_count": 24,
   "metadata": {
    "deletable": false,
    "editable": false,
    "nbgrader": {
     "cell_type": "code",
     "checksum": "613524fbbf02b1d122c6611a71fbf11b",
     "grade": true,
     "grade_id": "cell-9f6aceae6dd9125f",
     "locked": true,
     "points": 2,
     "schema_version": 3,
     "solution": false,
     "task": false
    }
   },
   "outputs": [],
   "source": [
    "#### Function check\n",
    "\n",
    "test_bow = bow_search(\"how to implement bag of words search\", index_set=1)[:5]\n",
    "assert isinstance(test_bow, list)\n",
    "assert len(test_bow[0]) == 2\n",
    "assert isinstance(test_bow[0][0], str)\n",
    "assert isinstance(test_bow[0][1], float)\n",
    "\n",
    "#### "
   ]
  },
  {
   "cell_type": "code",
   "execution_count": 25,
   "metadata": {
    "deletable": false,
    "editable": false,
    "nbgrader": {
     "cell_type": "code",
     "checksum": "9af20897659edb62fe77598483590500",
     "grade": true,
     "grade_id": "cell-4eed3abf233d9b58",
     "locked": true,
     "points": 2,
     "schema_version": 3,
     "solution": false,
     "task": false
    }
   },
   "outputs": [
    {
     "name": "stdout",
     "output_type": "stream",
     "text": [
      "BOW Results:\n",
      "Rank 0(1.3e+01): On Computing The Fast Fourier Transform\\nCooley an...\n",
      "Rank 1(1.2e+01): Variable Length Tree Structures Having Minimum Ave...\n",
      "Rank 2(1.1e+01): A Modular Computer Sharing System\\nAn alternative ...\n",
      "Rank 3(1e+01): PEEKABIT, Computer Offspring of Punched\\nCard PEEK...\n",
      "Rank 4(9.0): Computer Simulation-Discussion of the\\nTechnique a...\n"
     ]
    }
   ],
   "source": [
    "\n",
    "docs_by_id = dict(docs)\n",
    "def print_results(docs, len_limit=50):    \n",
    "    for i, (doc_id, score) in enumerate(docs):\n",
    "        doc_content = docs_by_id[doc_id].strip().replace(\"\\n\", \"\\\\n\")[:len_limit] + \"...\"\n",
    "        print(f\"Rank {i}({score:.2}): {doc_content}\")\n",
    "\n",
    "test_bow_2 = bow_search(\"computer search word\", index_set=2)[:5]\n",
    "print(f\"BOW Results:\")\n",
    "print_results(test_bow_2)\n"
   ]
  },
  {
   "cell_type": "code",
   "execution_count": 26,
   "metadata": {
    "deletable": false,
    "editable": false,
    "nbgrader": {
     "cell_type": "code",
     "checksum": "3c9c8b16c8e7d1032f101e9da8a6e845",
     "grade": true,
     "grade_id": "cell-4d65a2d7090c466c",
     "locked": true,
     "points": 3,
     "schema_version": 3,
     "solution": false,
     "task": false
    }
   },
   "outputs": [
    {
     "name": "stdout",
     "output_type": "stream",
     "text": [
      "BOW Results:\n",
      "Rank 0(9.0): CURRICULUM 68 -- Recommendations for Academic\\nPro...\n",
      "Rank 1(9.0): Variable Length Tree Structures Having Minimum Ave...\n",
      "Rank 2(7.0): Computer Formulation of the Equations of Motion Us...\n",
      "Rank 3(7.0): The Effects of Multiplexing on a Computer-Communic...\n",
      "Rank 4(6.0): Optimizing Bit-time Computer Simulation\\nA major c...\n"
     ]
    }
   ],
   "source": [
    "\n",
    "test_bow_1 = bow_search(\"computer search word\", index_set=1)[:5]\n",
    "print(f\"BOW Results:\")\n",
    "print_results(test_bow_1)\n"
   ]
  },
  {
   "cell_type": "code",
   "execution_count": 27,
   "metadata": {
    "deletable": false,
    "editable": false,
    "nbgrader": {
     "cell_type": "code",
     "checksum": "b7e593847aa4202ae45ec061fb18ad73",
     "grade": true,
     "grade_id": "cell-dedf36ab5853ce20",
     "locked": true,
     "points": 3,
     "schema_version": 3,
     "solution": false,
     "task": false
    }
   },
   "outputs": [
    {
     "name": "stdout",
     "output_type": "stream",
     "text": [
      "top-5 docs for index1: ('1771', '1936', '1543', '2535', '678')\n",
      "top-5 docs for index2: ('1525', '1936', '1844', '1700', '1366')\n"
     ]
    }
   ],
   "source": [
    "print('top-5 docs for index1:', list(zip(*test_bow_1[:5]))[0])\n",
    "print('top-5 docs for index2:', list(zip(*test_bow_2[:5]))[0])\n"
   ]
  },
  {
   "cell_type": "markdown",
   "metadata": {
    "deletable": false,
    "editable": false,
    "nbgrader": {
     "cell_type": "markdown",
     "checksum": "b04352ee0716dfdf094b8cdb6f32e984",
     "grade": false,
     "grade_id": "cell-a5c09c79ac1f2871",
     "locked": true,
     "schema_version": 3,
     "solution": false,
     "task": false
    }
   },
   "source": [
    "\n",
    "---\n",
    "\n",
    "### Section 3.2: TF-IDF (15 points) <a class=\"anchor\" id=\"tfidf\"></a>\n",
    "\n",
    "Before we implement the tf-idf scoring functions, let's first write a function to compute the document frequencies of all words.  \n",
    "\n",
    "#### 3.2.1 Document frequency (5 points)\n",
    "Compute the document frequencies of all tokens in the collection. \n",
    "Your code should return a dictionary with tokens as its keys and the number of documents containing the token as values.\n",
    "For consistency, the values should have `int` type."
   ]
  },
  {
   "cell_type": "code",
   "execution_count": 28,
   "metadata": {
    "deletable": false,
    "nbgrader": {
     "cell_type": "code",
     "checksum": "5c53263cf4c0b0ffcaae08b91fc364cc",
     "grade": false,
     "grade_id": "cell-9a2369f32e864b8a",
     "locked": false,
     "schema_version": 3,
     "solution": true,
     "task": false
    }
   },
   "outputs": [],
   "source": [
    "# TODO: Implement this! (5 points)\n",
    "def compute_df(documents):\n",
    "    \"\"\"\n",
    "    Compute the document frequency of all terms in the vocabulary\n",
    "    Input: A list of documents\n",
    "    Output: A dictionary with {token: document frequency (int)}\n",
    "    \"\"\"\n",
    "    # YOUR CODE HERE\n",
    "    df_dict = defaultdict(int)\n",
    "    for document in documents:\n",
    "        # we only count a token once per document, so work on the set of unique doc tokens\n",
    "        unique_doc_tokens = set(document)\n",
    "        for token in unique_doc_tokens:\n",
    "            df_dict[token] += 1\n",
    "    return df_dict"
   ]
  },
  {
   "cell_type": "code",
   "execution_count": 29,
   "metadata": {
    "deletable": false,
    "editable": false,
    "nbgrader": {
     "cell_type": "code",
     "checksum": "154985511d7925c5793a1f97dea81880",
     "grade": false,
     "grade_id": "cell-4c3bddd0b73ac90e",
     "locked": true,
     "schema_version": 3,
     "solution": false,
     "task": false
    }
   },
   "outputs": [],
   "source": [
    "#### Compute df based on the two configs\n",
    "\n",
    "# get the document frequencies of each document\n",
    "df_1 = compute_df([d[1] for d in doc_repr_1])\n",
    "df_2 = compute_df([d[1] for d in doc_repr_2])\n",
    "\n",
    "def get_df(index_set):\n",
    "    assert index_set in {1, 2}\n",
    "    return {\n",
    "        1: df_1,\n",
    "        2: df_2\n",
    "    }[index_set]\n",
    "####"
   ]
  },
  {
   "cell_type": "code",
   "execution_count": 30,
   "metadata": {
    "deletable": false,
    "editable": false,
    "nbgrader": {
     "cell_type": "code",
     "checksum": "110cc180068cf3f77c682ee3de2a117c",
     "grade": true,
     "grade_id": "cell-79e8a6db1e5fc46f",
     "locked": true,
     "points": 5,
     "schema_version": 3,
     "solution": false,
     "task": false
    }
   },
   "outputs": [
    {
     "name": "stdout",
     "output_type": "stream",
     "text": [
      "597\n",
      "11\n"
     ]
    }
   ],
   "source": [
    "#### Function check\n",
    "\n",
    "print(df_1['computer'])\n",
    "print(df_2['computer'])\n",
    "####"
   ]
  },
  {
   "cell_type": "markdown",
   "metadata": {
    "deletable": false,
    "editable": false,
    "nbgrader": {
     "cell_type": "markdown",
     "checksum": "d0d577668fa51b80aeab6e67209ae73b",
     "grade": false,
     "grade_id": "cell-52f6acc487e1b96d",
     "locked": true,
     "schema_version": 3,
     "solution": false,
     "task": false
    }
   },
   "source": [
    "---\n",
    "#### 3.2.2 TF-IDF search (10 points)\n",
    "Next, implement a function that computes a tf-idf score, given a query.\n",
    "Use the following formulas for TF and IDF:\n",
    "\n",
    "$$ TF=\\log (1 + f_{d,t}) $$\n",
    "\n",
    "$$ IDF=\\log (\\frac{N}{n_t})$$\n",
    "\n",
    "where $f_{d,t}$ is the frequency of token $t$ in document $d$, $N$ is the number of total documents and $n_t$ is the number of documents containing token $t$.\n",
    "\n",
    "**Note:** your implementation will be auto-graded assuming you have used the above formulas.\n"
   ]
  },
  {
   "cell_type": "code",
   "execution_count": 31,
   "metadata": {
    "deletable": false,
    "nbgrader": {
     "cell_type": "code",
     "checksum": "3534c44b4a3419ca1db98eebe7115dc1",
     "grade": false,
     "grade_id": "cell-2fb5ba34b2994cd9",
     "locked": false,
     "schema_version": 3,
     "solution": true,
     "task": false
    }
   },
   "outputs": [],
   "source": [
    "# TODO: Implement this! (10 points)\n",
    "def tfidf_search(query, index_set):\n",
    "    \"\"\"\n",
    "    Perform a search over all documents with the given query using tf-idf.\n",
    "    Note #1: You have to use the `get_index` (and the `get_df`) function\n",
    "    created in the previous cells\n",
    "    Input:\n",
    "        query - a (unprocessed) query\n",
    "        index_set - the index to use\n",
    "    Output: a list of (document_id, score),\n",
    "        sorted in descending relevance to the given query\n",
    "    \"\"\"\n",
    "    index = get_index(index_set)\n",
    "    df = get_df(index_set)\n",
    "    processed_query = preprocess_query(query, index_set)\n",
    "\n",
    "    N = len(docs)\n",
    "    # YOUR CODE HERE\n",
    "    documents = defaultdict(float)\n",
    "    for token in processed_query:\n",
    "        for document_id, token_count in index[token]:\n",
    "            tf = np.log(1 + token_count)\n",
    "            idf = np.log(N / df[token])\n",
    "            tf_idf = tf * idf\n",
    "            documents[document_id] += tf_idf\n",
    "    # convert documents to list and sort descending\n",
    "    documents = sorted(list(documents.items()), key=lambda x: x[1], reverse=True)\n",
    "    return documents"
   ]
  },
  {
   "cell_type": "code",
   "execution_count": 32,
   "metadata": {
    "deletable": false,
    "editable": false,
    "nbgrader": {
     "cell_type": "code",
     "checksum": "7b66a514663d898694b09a23a597312b",
     "grade": true,
     "grade_id": "cell-bc68aeeacf42beb3",
     "locked": true,
     "points": 2,
     "schema_version": 3,
     "solution": false,
     "task": false
    }
   },
   "outputs": [],
   "source": [
    "\n",
    "#### Function check\n",
    "test_tfidf = tfidf_search(\"how to implement tf idf search\", index_set=1)[:5]\n",
    "assert isinstance(test_tfidf, list)\n",
    "assert len(test_tfidf[0]) == 2\n",
    "assert isinstance(test_tfidf[0][0], str)\n",
    "assert isinstance(test_tfidf[0][1], float)\n",
    "\n",
    "####"
   ]
  },
  {
   "cell_type": "code",
   "execution_count": 33,
   "metadata": {
    "deletable": false,
    "editable": false,
    "nbgrader": {
     "cell_type": "code",
     "checksum": "98fb1326cf4bf7983ae237ca8a9105f9",
     "grade": true,
     "grade_id": "cell-c7702fa8179fadb9",
     "locked": true,
     "points": 2,
     "schema_version": 3,
     "solution": false,
     "task": false
    }
   },
   "outputs": [
    {
     "name": "stdout",
     "output_type": "stream",
     "text": [
      "TFIDF Results:\n",
      "Rank 0(1.3e+01): PEEKABIT, Computer Offspring of Punched\\nCard PEEK...\n",
      "Rank 1(9.8): Variable Length Tree Structures Having Minimum Ave...\n",
      "Rank 2(8.2): A Stochastic Approach to the Grammatical Coding of...\n",
      "Rank 3(8.1): Full Table Quadratic Searching for Scatter Storage...\n",
      "Rank 4(7.6): Use of Tree Structures for Processing Files\\nIn da...\n"
     ]
    }
   ],
   "source": [
    "\n",
    "test_tfidf_2 = tfidf_search(\"computer word search\", index_set=2)[:5]\n",
    "print(f\"TFIDF Results:\")\n",
    "print_results(test_tfidf_2)\n"
   ]
  },
  {
   "cell_type": "code",
   "execution_count": 34,
   "metadata": {
    "deletable": false,
    "editable": false,
    "nbgrader": {
     "cell_type": "code",
     "checksum": "733b5b67be5e53989f5b763ce5e52ee9",
     "grade": true,
     "grade_id": "cell-3284f50ac29abbaa",
     "locked": true,
     "points": 3,
     "schema_version": 3,
     "solution": false,
     "task": false
    }
   },
   "outputs": [
    {
     "name": "stdout",
     "output_type": "stream",
     "text": [
      "TFIDF Results:\n",
      "Rank 0(9.4): Variable Length Tree Structures Having Minimum Ave...\n",
      "Rank 1(7.4): On the Feasibility of Voice Input to\\nan On-line C...\n",
      "Rank 2(7.3): Median Split Trees: A Fast Lookup Technique for Fr...\n",
      "Rank 3(7.0): Execution Time Requirements for Encipherment Progr...\n",
      "Rank 4(7.0): Storage and Search Properties of a Tree-Organized ...\n"
     ]
    }
   ],
   "source": [
    "\n",
    "test_tfidf_1 = tfidf_search(\"computer word search\", index_set=1)[:5]\n",
    "print(f\"TFIDF Results:\")\n",
    "print_results(test_tfidf_1)\n"
   ]
  },
  {
   "cell_type": "code",
   "execution_count": 35,
   "metadata": {
    "deletable": false,
    "editable": false,
    "nbgrader": {
     "cell_type": "code",
     "checksum": "e0edb37a5ae807a2de85d578c87ccb78",
     "grade": true,
     "grade_id": "cell-d908c80a3155354b",
     "locked": true,
     "points": 3,
     "schema_version": 3,
     "solution": false,
     "task": false
    }
   },
   "outputs": [
    {
     "name": "stdout",
     "output_type": "stream",
     "text": [
      "top-5 docs for index1 with BOW search: ('1771', '1936', '1543', '2535', '678')\n",
      "top-5 docs for index2 with BOW search: ('1525', '1936', '1844', '1700', '1366')\n",
      "top-5 docs for index1 with TF-IDF search: ('1936', '2054', '3041', '2620', '944')\n",
      "top-5 docs for index2 with TF-IDF search: ('1700', '1936', '1235', '2018', '849')\n"
     ]
    }
   ],
   "source": [
    "\n",
    "print('top-5 docs for index1 with BOW search:', list(zip(*test_bow_1[:5]))[0])\n",
    "print('top-5 docs for index2 with BOW search:', list(zip(*test_bow_2[:5]))[0])\n",
    "print('top-5 docs for index1 with TF-IDF search:', list(zip(*test_tfidf_1[:5]))[0])\n",
    "print('top-5 docs for index2 with TF-IDF search:', list(zip(*test_tfidf_2[:5]))[0])\n",
    "\n"
   ]
  },
  {
   "cell_type": "markdown",
   "metadata": {
    "deletable": false,
    "editable": false,
    "nbgrader": {
     "cell_type": "markdown",
     "checksum": "cdffc83f0eaea937cf64a212e7e9af8d",
     "grade": false,
     "grade_id": "cell-f5d923459ba21733",
     "locked": true,
     "schema_version": 3,
     "solution": false,
     "task": false
    }
   },
   "source": [
    "--- \n",
    "\n",
    "### Section 3.3: Query Likelihood Model (35 points) <a class=\"anchor\" id=\"qlm\"></a>\n",
    "\n",
    "In this section, you will implement a simple query likelihood model. \n",
    "\n",
    "\n",
    "#### 3.3.1 Naive QL (15 points)\n",
    "\n",
    "First, let us implement a naive version of a QL model, assuming a multinomial unigram language model (with a uniform prior over the documents). \n",
    "\n"
   ]
  },
  {
   "cell_type": "code",
   "execution_count": 36,
   "metadata": {
    "deletable": false,
    "editable": false,
    "nbgrader": {
     "cell_type": "code",
     "checksum": "b7ae2b7d818b428b4638c1c9206d2aca",
     "grade": false,
     "grade_id": "cell-98505778f7b68e7f",
     "locked": true,
     "schema_version": 3,
     "solution": false,
     "task": false
    }
   },
   "outputs": [],
   "source": [
    "#### Document length for normalization\n",
    "\n",
    "def doc_lengths(documents):\n",
    "    doc_lengths = {doc_id:len(doc) for (doc_id, doc) in documents}\n",
    "    return doc_lengths\n",
    "\n",
    "doc_lengths_1 = doc_lengths(doc_repr_1)\n",
    "doc_lengths_2 = doc_lengths(doc_repr_2)\n",
    "\n",
    "def get_doc_lengths(index_set):\n",
    "    assert index_set in {1, 2}\n",
    "    return {\n",
    "        1: doc_lengths_1,\n",
    "        2: doc_lengths_2\n",
    "    }[index_set]\n",
    "####"
   ]
  },
  {
   "cell_type": "code",
   "execution_count": 37,
   "metadata": {
    "deletable": false,
    "nbgrader": {
     "cell_type": "code",
     "checksum": "cedd08303a914243fefdb6b876977ca1",
     "grade": false,
     "grade_id": "cell-8bcf2b804d636c2e",
     "locked": false,
     "schema_version": 3,
     "solution": true,
     "task": false
    }
   },
   "outputs": [],
   "source": [
    "# TODO: Implement this! (15 points)\n",
    "def naive_ql_search(query, index_set):\n",
    "    \"\"\"\n",
    "    Perform a search over all documents with the given query using a naive QL model.\n",
    "    Note #1: You have to use the `get_index` (and get_doc_lengths) function\n",
    "        created in the previous cells\n",
    "    Input:\n",
    "        query - a (unprocessed) query\n",
    "        index_set - the index to use\n",
    "    Output: a list of (document_id, score), sorted in descending relevance\n",
    "        to the given query\n",
    "    \"\"\"\n",
    "    index = get_index(index_set)\n",
    "    doc_lengths = get_doc_lengths(index_set)\n",
    "    processed_query = preprocess_query(query, index_set)\n",
    "    # YOUR CODE HERE\n",
    "    results = {}\n",
    "    \n",
    "    for token in processed_query:\n",
    "        # convert to dictionary for fast lookup\n",
    "        token_counts = dict(index[token])\n",
    "        for doc_id in doc_lengths.keys():\n",
    "            if doc_id not in token_counts:\n",
    "                # because token count is 0\n",
    "                p_qD = 0\n",
    "            else:\n",
    "                # otherwise we're able to get the tok count and proceed with computation\n",
    "                token_count = token_counts[doc_id]\n",
    "                p_qD = token_count / doc_lengths[doc_id]\n",
    "            if doc_id not in results:\n",
    "                results[doc_id] = p_qD\n",
    "            else:\n",
    "                results[doc_id] *= p_qD\n",
    "    results = sorted(list(results.items()), key=lambda x: x[1], reverse=True)\n",
    "    return results"
   ]
  },
  {
   "cell_type": "code",
   "execution_count": 38,
   "metadata": {
    "deletable": false,
    "editable": false,
    "nbgrader": {
     "cell_type": "code",
     "checksum": "b550d15bdad28354c336020a00c33d56",
     "grade": true,
     "grade_id": "cell-5a83ac12ecde8578",
     "locked": true,
     "points": 3,
     "schema_version": 3,
     "solution": false,
     "task": false
    }
   },
   "outputs": [
    {
     "name": "stdout",
     "output_type": "stream",
     "text": [
      "Naive QL Results:\n",
      "Rank 0(0.2): A Report Writer For COBOL...\n",
      "Rank 1(0.2): A CRT Report Generating System...\n",
      "Rank 2(0.17): Preliminary Report-International Algebraic Languag...\n",
      "Rank 3(0.17): Supplement to the ALGOL 60 Report...\n",
      "Rank 4(0.14): ALGOL Sub-Committee Report - Extensions...\n"
     ]
    }
   ],
   "source": [
    "#### Function check\n",
    "test_naiveql = naive_ql_search(\"report\", index_set=1)[:5]\n",
    "print(f\"Naive QL Results:\")\n",
    "print_results(test_naiveql)\n",
    "####"
   ]
  },
  {
   "cell_type": "code",
   "execution_count": 39,
   "metadata": {
    "deletable": false,
    "editable": false,
    "nbgrader": {
     "cell_type": "code",
     "checksum": "799df1d81c63fe90edbb6c218fc707fb",
     "grade": true,
     "grade_id": "cell-80f4bf2137f997bb",
     "locked": true,
     "points": 2,
     "schema_version": 3,
     "solution": false,
     "task": false
    }
   },
   "outputs": [],
   "source": [
    "#### Please do not change this. This cell is used for grading."
   ]
  },
  {
   "cell_type": "code",
   "execution_count": 40,
   "metadata": {
    "deletable": false,
    "editable": false,
    "nbgrader": {
     "cell_type": "code",
     "checksum": "875a4a517d27e20625d41783cebec118",
     "grade": true,
     "grade_id": "cell-5ce2993458a8ce51",
     "locked": true,
     "points": 3,
     "schema_version": 3,
     "solution": false,
     "task": false
    }
   },
   "outputs": [],
   "source": [
    "#### Please do not change this. This cell is used for grading."
   ]
  },
  {
   "cell_type": "code",
   "execution_count": 41,
   "metadata": {
    "deletable": false,
    "editable": false,
    "nbgrader": {
     "cell_type": "code",
     "checksum": "d5c4e1c3852e71a46f32825b122f1b71",
     "grade": true,
     "grade_id": "cell-7753bdb54e292f3d",
     "locked": true,
     "points": 3,
     "schema_version": 3,
     "solution": false,
     "task": false
    }
   },
   "outputs": [],
   "source": [
    "#### Please do not change this. This cell is used for grading."
   ]
  },
  {
   "cell_type": "code",
   "execution_count": 42,
   "metadata": {
    "deletable": false,
    "editable": false,
    "nbgrader": {
     "cell_type": "code",
     "checksum": "c4d4332d4356e89ce0240f6b80e1899a",
     "grade": true,
     "grade_id": "cell-54e476e2f96e64bb",
     "locked": true,
     "points": 4,
     "schema_version": 3,
     "solution": false,
     "task": false
    }
   },
   "outputs": [],
   "source": [
    "#### Please do not change this. This cell is used for grading."
   ]
  },
  {
   "cell_type": "markdown",
   "metadata": {
    "deletable": false,
    "editable": false,
    "nbgrader": {
     "cell_type": "markdown",
     "checksum": "8d739dc91a22bd48897f603885f95a74",
     "grade": false,
     "grade_id": "cell-5414dfd69dab8b94",
     "locked": true,
     "schema_version": 3,
     "solution": false,
     "task": false
    }
   },
   "source": [
    "---\n",
    "#### 3.3.2 QL (20 points)\n",
    "Now, let's implement a QL model that handles the issues with the naive version. In particular, you will implement a QL model with Jelinek-Mercer Smoothing. That means an interpolated score is computed per word - one term is the same as the previous naive version, and the second term comes from a unigram language model. In addition, you should accumulate the scores by summing the **log** (smoothed) probability which leads to better numerical stability."
   ]
  },
  {
   "cell_type": "code",
   "execution_count": 43,
   "metadata": {
    "deletable": false,
    "nbgrader": {
     "cell_type": "code",
     "checksum": "b8c6abf937ad333e628f1db891f2e29e",
     "grade": false,
     "grade_id": "cell-bb1f506409771257",
     "locked": false,
     "schema_version": 3,
     "solution": true,
     "task": false
    }
   },
   "outputs": [],
   "source": [
    "# TODO: Implement this! (20 points)\n",
    "\n",
    "\n",
    "def ql_search(query, index_set):\n",
    "    \"\"\"\n",
    "    Perform a search over all documents with the given query using a QL model\n",
    "    with Jelinek-Mercer Smoothing (set smoothing=0.1).\n",
    "\n",
    "    Note #1: You have to use the `get_index` (and get_doc_lengths) function\n",
    "        created in the previous cells\n",
    "    Note #2: You might have to create some variables beforehand and\n",
    "        use them in this function\n",
    "\n",
    "    Input:\n",
    "        query - a (unprocessed) query\n",
    "        index_set - the index to use\n",
    "    Output: a list of (document_id, score), sorted in descending relevance\n",
    "        to the given query\n",
    "    \"\"\"\n",
    "    index = get_index(index_set)\n",
    "    doc_lengths = get_doc_lengths(index_set)\n",
    "    processed_query = preprocess_query(query, index_set)\n",
    "\n",
    "    # YOUR CODE HERE\n",
    "    # total number of words in the collection\n",
    "    C = sum(list(doc_lengths.values()))\n",
    "    # \"(set smoothing=0.1)\"\n",
    "    lambd = 0.1\n",
    "    results = {}\n",
    "    for token in processed_query:\n",
    "        # skip tokens not in docs\n",
    "        if not index[token]:\n",
    "            continue\n",
    "        # mapping from to doc_id to count for this token\n",
    "        doc_to_count = {}\n",
    "        # total count of token across the collection\n",
    "        total_tok_count = 0\n",
    "        for doc, tok_count in index[token]:\n",
    "            doc_to_count[doc] = tok_count\n",
    "            total_tok_count += tok_count\n",
    "\n",
    "        # check each document in our collection, to catch token counts of 0\n",
    "        for document_id, doc_length in doc_lengths.items():\n",
    "            if document_id in doc_to_count:\n",
    "                token_count = doc_to_count[document_id]\n",
    "            else:\n",
    "                token_count = 0\n",
    "            # page 257 of Croft et al.\n",
    "            p_qD = np.log(\n",
    "                (1 - lambd) * token_count / doc_lengths[document_id]\n",
    "                + lambd * total_tok_count / C\n",
    "            )\n",
    "            if document_id not in results:\n",
    "                results[document_id] = p_qD\n",
    "            else:\n",
    "                results[document_id] += p_qD\n",
    "\n",
    "    # convert documents to list and sort descending\n",
    "    results = sorted(list(results.items()), key=lambda x: x[1], reverse=True)\n",
    "    return results"
   ]
  },
  {
   "cell_type": "code",
   "execution_count": 44,
   "metadata": {
    "deletable": false,
    "editable": false,
    "nbgrader": {
     "cell_type": "code",
     "checksum": "0b12a7f3355193a257fd9f5f69a66562",
     "grade": true,
     "grade_id": "cell-850e9d6369bcec32",
     "locked": true,
     "points": 4,
     "schema_version": 3,
     "solution": false,
     "task": false
    }
   },
   "outputs": [
    {
     "name": "stdout",
     "output_type": "stream",
     "text": [
      "Rank 0(-1.7): A Report Writer For COBOL...\n",
      "Rank 1(-1.7): A CRT Report Generating System...\n",
      "Rank 2(-1.9): Preliminary Report-International Algebraic Languag...\n",
      "Rank 3(-1.9): Supplement to the ALGOL 60 Report...\n",
      "Rank 4(-2.1): ALGOL Sub-Committee Report - Extensions...\n",
      "\n",
      "Rank 0(-1.7e+01): A Report Writer For COBOL...\n",
      "Rank 1(-1.7e+01): A CRT Report Generating System...\n",
      "Rank 2(-1.9e+01): Preliminary Report-International Algebraic Languag...\n",
      "Rank 3(-1.9e+01): Supplement to the ALGOL 60 Report...\n",
      "Rank 4(-2.1e+01): ALGOL Sub-Committee Report - Extensions...\n"
     ]
    }
   ],
   "source": [
    "#### Function check\n",
    "test_ql_results = ql_search(\"report\", index_set=1)[:5]\n",
    "print_results(test_ql_results)\n",
    "print()\n",
    "test_ql_results_long = ql_search(\"report \" * 10, index_set=1)[:5]\n",
    "print_results(test_ql_results_long)\n",
    "####"
   ]
  },
  {
   "cell_type": "code",
   "execution_count": 45,
   "metadata": {
    "deletable": false,
    "editable": false,
    "nbgrader": {
     "cell_type": "code",
     "checksum": "e40be645140389c115849856145f5b59",
     "grade": true,
     "grade_id": "cell-958cdcf6fd6899b7",
     "locked": true,
     "points": 3,
     "schema_version": 3,
     "solution": false,
     "task": false
    }
   },
   "outputs": [],
   "source": [
    "#### Please do not change this. This cell is used for grading."
   ]
  },
  {
   "cell_type": "code",
   "execution_count": 46,
   "metadata": {
    "deletable": false,
    "editable": false,
    "nbgrader": {
     "cell_type": "code",
     "checksum": "41d4aff001df17e7963ba79b45810b30",
     "grade": true,
     "grade_id": "cell-384dc23a0c251f6e",
     "locked": true,
     "points": 4,
     "schema_version": 3,
     "solution": false,
     "task": false
    }
   },
   "outputs": [],
   "source": [
    "#### Please do not change this. This cell is used for grading."
   ]
  },
  {
   "cell_type": "code",
   "execution_count": 47,
   "metadata": {
    "deletable": false,
    "editable": false,
    "nbgrader": {
     "cell_type": "code",
     "checksum": "893e8c5a073abc8ebb763d267b91bc02",
     "grade": true,
     "grade_id": "cell-7218966cba5097cc",
     "locked": true,
     "points": 4,
     "schema_version": 3,
     "solution": false,
     "task": false
    }
   },
   "outputs": [],
   "source": [
    "#### Please do not change this. This cell is used for grading."
   ]
  },
  {
   "cell_type": "code",
   "execution_count": 48,
   "metadata": {
    "deletable": false,
    "editable": false,
    "nbgrader": {
     "cell_type": "code",
     "checksum": "f99cb6f8b1f5830aaed8f06712ff846e",
     "grade": true,
     "grade_id": "cell-481ab073259ae53f",
     "locked": true,
     "points": 5,
     "schema_version": 3,
     "solution": false,
     "task": false
    }
   },
   "outputs": [],
   "source": [
    "#### Please do not change this. This cell is used for grading."
   ]
  },
  {
   "cell_type": "markdown",
   "metadata": {
    "deletable": false,
    "editable": false,
    "nbgrader": {
     "cell_type": "markdown",
     "checksum": "c02f14705d679579b1aa9f78f54779d5",
     "grade": false,
     "grade_id": "cell-f44088bfdac1dc90",
     "locked": true,
     "schema_version": 3,
     "solution": false,
     "task": false
    }
   },
   "source": [
    "--- \n",
    "\n",
    "### Section 3.4: BM25 (20 points) <a class=\"anchor\" id=\"bm25\"></a>\n",
    "\n",
    "In this section, we will implement the BM25 scoring function. \n"
   ]
  },
  {
   "cell_type": "code",
   "execution_count": 49,
   "metadata": {
    "deletable": false,
    "nbgrader": {
     "cell_type": "code",
     "checksum": "e57efe06ea92af1c83784a42eb3d86e0",
     "grade": false,
     "grade_id": "cell-15640fc9b5d00a3c",
     "locked": false,
     "schema_version": 3,
     "solution": true,
     "task": false
    }
   },
   "outputs": [],
   "source": [
    "# TODO: Implement this! (20 points)\n",
    "def bm25_search(query, index_set):\n",
    "    \"\"\"\n",
    "    Perform a search over all documents with the given query using BM25.\n",
    "    Use k_1 = 1.5 and b = 0.75\n",
    "    Note #1: You have to use the `get_index` (and `get_doc_lengths`) function\n",
    "    created in the previous cells\n",
    "    Note #2: You might have to create some variables beforehand\n",
    "    and use them in this function\n",
    "    Input:\n",
    "        query - a (unprocessed) query\n",
    "        index_set - the index to use\n",
    "    Output: a list of (document_id, score), sorted in descending\n",
    "        relevance to the given query\n",
    "    \"\"\"\n",
    "\n",
    "    index = get_index(index_set)\n",
    "    df = get_df(index_set)\n",
    "    doc_lengths = get_doc_lengths(index_set)\n",
    "    processed_query = preprocess_query(query, index_set)\n",
    "\n",
    "    # YOUR CODE HERE\n",
    "    # hard coded values\n",
    "    k_1 = 1.5\n",
    "    b = 0.75\n",
    "    # initialize our result\n",
    "    documents = defaultdict(float)\n",
    "    # average doc length and number of docs\n",
    "    ave_dl = np.mean([value for _key, value in doc_lengths.items()])\n",
    "    N = len(docs)\n",
    "    for token in processed_query:\n",
    "        for document_id, token_count in index[token]:\n",
    "            idf = np.log(N / df[token])\n",
    "            second_term = (token_count * (k_1 + 1)) / (\n",
    "                token_count + k_1 * (1 - b + b * (doc_lengths[document_id] / ave_dl))\n",
    "            )\n",
    "            documents[document_id] += idf * second_term\n",
    "    # convert documents to list and sort descending\n",
    "    documents = sorted(list(documents.items()), key=lambda x: x[1], reverse=True)\n",
    "    return documents"
   ]
  },
  {
   "cell_type": "code",
   "execution_count": 50,
   "metadata": {
    "deletable": false,
    "editable": false,
    "nbgrader": {
     "cell_type": "code",
     "checksum": "4be9de5d4e94637960d83725422bea6c",
     "grade": true,
     "grade_id": "cell-d10536bca72c74b1",
     "locked": true,
     "points": 3,
     "schema_version": 3,
     "solution": false,
     "task": false
    }
   },
   "outputs": [
    {
     "name": "stdout",
     "output_type": "stream",
     "text": [
      "Rank 0(6.7): A Report Writer For COBOL...\n",
      "Rank 1(6.7): A CRT Report Generating System...\n",
      "Rank 2(6.6): Preliminary Report-International Algebraic Languag...\n",
      "Rank 3(6.6): Supplement to the ALGOL 60 Report...\n",
      "Rank 4(6.5): ALGOL Sub-Committee Report - Extensions...\n"
     ]
    }
   ],
   "source": [
    "#### Function check\n",
    "test_bm25_results = bm25_search(\"report\", index_set=1)[:5]\n",
    "print_results(test_bm25_results)\n",
    "####"
   ]
  },
  {
   "cell_type": "code",
   "execution_count": 51,
   "metadata": {
    "deletable": false,
    "editable": false,
    "nbgrader": {
     "cell_type": "code",
     "checksum": "31b550d6a46ae4f8ede88788799ac2b9",
     "grade": true,
     "grade_id": "cell-60f6ec5052712d79",
     "locked": true,
     "points": 5,
     "schema_version": 3,
     "solution": false,
     "task": false
    }
   },
   "outputs": [],
   "source": [
    "#### Please do not change this. This cell is used for grading."
   ]
  },
  {
   "cell_type": "code",
   "execution_count": 52,
   "metadata": {
    "deletable": false,
    "editable": false,
    "nbgrader": {
     "cell_type": "code",
     "checksum": "3da2ec16bfe781916e71755d65aa2983",
     "grade": true,
     "grade_id": "cell-5d17524043a5abcc",
     "locked": true,
     "points": 5,
     "schema_version": 3,
     "solution": false,
     "task": false
    }
   },
   "outputs": [],
   "source": [
    "#### Please do not change this. This cell is used for grading."
   ]
  },
  {
   "cell_type": "code",
   "execution_count": 53,
   "metadata": {
    "deletable": false,
    "editable": false,
    "nbgrader": {
     "cell_type": "code",
     "checksum": "e7b563d54fa84c20909c0ae107010541",
     "grade": true,
     "grade_id": "cell-ff8e704eda1184e3",
     "locked": true,
     "points": 3,
     "schema_version": 3,
     "solution": false,
     "task": false
    }
   },
   "outputs": [],
   "source": [
    "#### Please do not change this. This cell is used for grading."
   ]
  },
  {
   "cell_type": "code",
   "execution_count": 54,
   "metadata": {
    "deletable": false,
    "editable": false,
    "nbgrader": {
     "cell_type": "code",
     "checksum": "b013f90974b396630a8831d6f1d7e5f7",
     "grade": true,
     "grade_id": "cell-a52310500a2543cb",
     "locked": true,
     "points": 4,
     "schema_version": 3,
     "solution": false,
     "task": false
    }
   },
   "outputs": [],
   "source": [
    "#### Please do not change this. This cell is used for grading."
   ]
  },
  {
   "cell_type": "markdown",
   "metadata": {
    "deletable": false,
    "editable": false,
    "nbgrader": {
     "cell_type": "markdown",
     "checksum": "8fcf67cb7d5e8b26cb9bf1f0aa42c847",
     "grade": false,
     "grade_id": "cell-8b2b412c81d62f2d",
     "locked": true,
     "schema_version": 3,
     "solution": false,
     "task": false
    }
   },
   "source": [
    "\n",
    "---\n",
    "\n",
    "### 3.5. Test Your Functions\n",
    "\n",
    "The widget below allows you to play with the search functions you've written so far. Use this to test your search functions and ensure that they work as expected."
   ]
  },
  {
   "cell_type": "code",
   "execution_count": 55,
   "metadata": {
    "deletable": false,
    "editable": false,
    "nbgrader": {
     "cell_type": "code",
     "checksum": "dfeb204b390acc0794dbdcac92b0cf2c",
     "grade": false,
     "grade_id": "cell-c9c2bb76354e8d97",
     "locked": true,
     "schema_version": 3,
     "solution": false,
     "task": false
    }
   },
   "outputs": [],
   "source": [
    "#### Highlighter function\n",
    "# class for results\n",
    "ResultRow = namedtuple(\"ResultRow\", [\"doc_id\", \"snippet\", \"score\"])\n",
    "# doc_id -> doc\n",
    "docs_by_id = dict((d[0], d[1]) for d in docs)\n",
    "\n",
    "def highlight_text(document, query, tol=17):\n",
    "    import re\n",
    "    tokens = tokenize(query)\n",
    "    regex = \"|\".join(f\"(\\\\b{t}\\\\b)\" for t in tokens)\n",
    "    regex = re.compile(regex, flags=re.IGNORECASE)\n",
    "    output = \"\"\n",
    "    i = 0\n",
    "    for m in regex.finditer(document):\n",
    "        start_idx = max(0, m.start() - tol)\n",
    "        end_idx = min(len(document), m.end() + tol)\n",
    "        output += \"\".join([\"...\",\n",
    "                        document[start_idx:m.start()],\n",
    "                        \"<strong>\",\n",
    "                        document[m.start():m.end()],\n",
    "                        \"</strong>\",\n",
    "                        document[m.end():end_idx],\n",
    "                        \"...\"])\n",
    "    return output.replace(\"\\n\", \" \")\n",
    "\n",
    "\n",
    "def make_results(query, search_fn, index_set):\n",
    "    results = []\n",
    "    for doc_id, score in search_fn(query, index_set):\n",
    "        highlight = highlight_text(docs_by_id[doc_id], query)\n",
    "        if len(highlight.strip()) == 0:\n",
    "            highlight = docs_by_id[doc_id]\n",
    "        results.append(ResultRow(doc_id, highlight, score))\n",
    "    return results\n",
    "####"
   ]
  },
  {
   "cell_type": "code",
   "execution_count": 56,
   "metadata": {},
   "outputs": [
    {
     "data": {
      "application/vnd.jupyter.widget-view+json": {
       "model_id": "9645ef0bcb314e70a50624421c91ed2e",
       "version_major": 2,
       "version_minor": 0
      },
      "text/plain": [
       "Text(value='', description='Search Bar')"
      ]
     },
     "metadata": {},
     "output_type": "display_data"
    }
   ],
   "source": [
    "# TODO: Set this to the function you want to test!\n",
    "# this function should take in a query (string)\n",
    "# and return a sorted list of (doc_id, score) \n",
    "# with the most relevant document in the first position\n",
    "search_fn = bm25_search\n",
    "index_set = 1\n",
    "\n",
    "text = widgets.Text(description=\"Search Bar\", width=200)\n",
    "display(text)\n",
    "\n",
    "def handle_submit(sender):\n",
    "    print(f\"Searching for: '{sender.value}'\")\n",
    "    \n",
    "    results = make_results(sender.value, search_fn, index_set)\n",
    "    \n",
    "    # display only the top 5\n",
    "    results = results[:5]\n",
    "    \n",
    "    body = \"\"\n",
    "    for idx, r in enumerate(results):\n",
    "        body += f\"<li>Document #{r.doc_id}({r.score}): {r.snippet}</li>\"\n",
    "    display(HTML(f\"<ul>{body}</ul>\"))\n",
    "    \n",
    "\n",
    "text.on_submit(handle_submit)"
   ]
  },
  {
   "cell_type": "markdown",
   "metadata": {
    "deletable": false,
    "editable": false,
    "nbgrader": {
     "cell_type": "markdown",
     "checksum": "019b1ff878dc6339dd068e2d48d19904",
     "grade": false,
     "grade_id": "cell-8d46fe8e4f3d8cdb",
     "locked": true,
     "schema_version": 3,
     "solution": false,
     "task": false
    }
   },
   "source": [
    "---\n",
    "\n",
    "## Section 4: Evaluation (40 points) <a class=\"anchor\" id=\"evaluation\"></a>\n",
    "\n",
    "[Back to Part 1](#part1)\n",
    "\n",
    "In order to analyze the effectiveness of retrieval algorithms, we first have to learn how to evaluate such a system. In particular, we will work with offline evaluation metrics. These metrics are computed on a dataset with known relevance judgements.\n",
    "\n",
    "Implement the following evaluation metrics. \n",
    "\n",
    "1. Precision (7 points)\n",
    "2. Recall (7 points)\n",
    "3. Mean Average Precision (13 points)\n",
    "4. Expected Reciprocal Rank (13 points)"
   ]
  },
  {
   "cell_type": "markdown",
   "metadata": {
    "deletable": false,
    "editable": false,
    "nbgrader": {
     "cell_type": "markdown",
     "checksum": "e46f54c7f81d88bbc950b0fae14c4ca5",
     "grade": false,
     "grade_id": "cell-3419fd3bc663d7cc",
     "locked": true,
     "schema_version": 3,
     "solution": false,
     "task": false
    }
   },
   "source": [
    "---\n",
    "### 4.1 Read relevance labels\n",
    "\n",
    "Let's take a look at the `qrels.text` file, which contains the ground truth relevance scores. The relevance labels for CACM are binary - either 0 or 1. \n"
   ]
  },
  {
   "cell_type": "code",
   "execution_count": 57,
   "metadata": {
    "deletable": false,
    "editable": false,
    "nbgrader": {
     "cell_type": "code",
     "checksum": "6c11025f5a222796f2882c73c1634799",
     "grade": false,
     "grade_id": "cell-6b738366059dde9e",
     "locked": true,
     "schema_version": 3,
     "solution": false,
     "task": false
    }
   },
   "outputs": [
    {
     "name": "stdout",
     "output_type": "stream",
     "text": [
      "01 1410  0 0\n",
      "01 1572  0 0\n",
      "01 1605  0 0\n",
      "01 2020  0 0\n",
      "01 2358  0 0\n",
      "02 2434  0 0\n",
      "02 2863  0 0\n",
      "02 3078  0 0\n",
      "03 1134  0 0\n",
      "03 1613  0 0\n"
     ]
    }
   ],
   "source": [
    "!head ./datasets/qrels.text"
   ]
  },
  {
   "cell_type": "markdown",
   "metadata": {
    "deletable": false,
    "editable": false,
    "nbgrader": {
     "cell_type": "markdown",
     "checksum": "7ce95245c1597183320d7254afde5c8e",
     "grade": false,
     "grade_id": "cell-10e16bff2753ffbb",
     "locked": true,
     "schema_version": 3,
     "solution": false,
     "task": false
    }
   },
   "source": [
    "---\n",
    "\n",
    "The first column is the query_id and the second column is the document_id. We can safely ignore the 3rd and 4th columns."
   ]
  },
  {
   "cell_type": "code",
   "execution_count": 58,
   "metadata": {
    "deletable": false,
    "nbgrader": {
     "cell_type": "code",
     "checksum": "000c6d59dce08dba0ba1e8d691dbbc2e",
     "grade": false,
     "grade_id": "cell-ee5253a4ef602fce",
     "locked": false,
     "schema_version": 3,
     "solution": true,
     "task": false
    }
   },
   "outputs": [],
   "source": [
    "# YOUR CODE HERE\n",
    "# https://piazza.com/class/kyiksrdfk0b6te?cid=40_f1\n",
    "def read_qrels(root_folder=\"./datasets/\"):\n",
    "    \"\"\"\n",
    "    Reads the qrels.text file.\n",
    "    Output: A dictionary: query_id -> [list of relevant documents]\n",
    "    \"\"\"\n",
    "    with open(os.path.join(root_folder, \"qrels.text\")) as reader:\n",
    "        lines = reader.readlines()\n",
    "\n",
    "    from collections import defaultdict\n",
    "\n",
    "    relevant_docs = defaultdict(set)\n",
    "    for line in lines:\n",
    "        query_id, doc_id, _, _ = line.split()\n",
    "        relevant_docs[str(int(query_id))].add(doc_id)\n",
    "    return relevant_docs"
   ]
  },
  {
   "cell_type": "code",
   "execution_count": 59,
   "metadata": {
    "deletable": false,
    "editable": false,
    "nbgrader": {
     "cell_type": "code",
     "checksum": "d60caeba85c2a97d2211184a5ae91fd1",
     "grade": false,
     "grade_id": "cell-72215605fbe24f65",
     "locked": true,
     "schema_version": 3,
     "solution": false,
     "task": false
    }
   },
   "outputs": [],
   "source": [
    "#### Function check\n",
    "qrels = read_qrels()\n",
    "\n",
    "assert len(qrels) == 52, \"There should be 52 queries with relevance judgements\"\n",
    "assert sum(len(j) for j in qrels.values()) == 796, \"There should be a total of 796 Relevance Judgements\"\n",
    "\n",
    "assert np.min(np.array([len(j) for j in qrels.values()])) == 1\n",
    "assert np.max(np.array([len(j) for j in qrels.values()])) == 51\n",
    "\n",
    "####"
   ]
  },
  {
   "cell_type": "markdown",
   "metadata": {
    "deletable": false,
    "editable": false,
    "nbgrader": {
     "cell_type": "markdown",
     "checksum": "6c9e7428a52e291a2cdf92a379730d4c",
     "grade": false,
     "grade_id": "cell-176a6fb2939d0420",
     "locked": true,
     "schema_version": 3,
     "solution": false,
     "task": false
    }
   },
   "source": [
    "---\n",
    "**Note:** For a given query `query_id`, you can assume that documents *not* in `qrels[query_id]` are not relevant to `query_id`. \n"
   ]
  },
  {
   "cell_type": "markdown",
   "metadata": {
    "deletable": false,
    "editable": false,
    "nbgrader": {
     "cell_type": "markdown",
     "checksum": "b26a818c7b4f7ad490e00b35ea0edd69",
     "grade": false,
     "grade_id": "cell-bd8341b72cdd89bb",
     "locked": true,
     "schema_version": 3,
     "solution": false,
     "task": false
    }
   },
   "source": [
    "---\n",
    "### 4.2 Precision (7 points)\n",
    "Implement the `precision@k` metric:"
   ]
  },
  {
   "cell_type": "code",
   "execution_count": 60,
   "metadata": {
    "deletable": false,
    "nbgrader": {
     "cell_type": "code",
     "checksum": "43dea1979ebdec24ffcfeff71c670433",
     "grade": false,
     "grade_id": "cell-494bd0cce108ed67",
     "locked": false,
     "schema_version": 3,
     "solution": true,
     "task": false
    }
   },
   "outputs": [],
   "source": [
    "# TODO: Implement this! (7 points)\n",
    "def precision_k(results, relevant_docs, k):\n",
    "    \"\"\"\n",
    "    Compute Precision@K\n",
    "    Input:\n",
    "        results: A sorted list of 2-tuples (document_id, score),\n",
    "                with the most relevant document in the first position\n",
    "        relevant_docs: A set of relevant documents.\n",
    "        k: the cut-off\n",
    "    Output: Precision@K\n",
    "    \"\"\"\n",
    "    if k > len(results):\n",
    "        k = len(results)\n",
    "    # YOUR CODE HERE\n",
    "    return np.mean([doc_id in relevant_docs for doc_id, _score in results[:k]])"
   ]
  },
  {
   "cell_type": "code",
   "execution_count": 61,
   "metadata": {
    "deletable": false,
    "editable": false,
    "nbgrader": {
     "cell_type": "code",
     "checksum": "9222e35582b1840ffb60fd02fb0b60c3",
     "grade": true,
     "grade_id": "cell-e7ff0d91c319ca64",
     "locked": true,
     "points": 7,
     "schema_version": 3,
     "solution": false,
     "task": false
    }
   },
   "outputs": [
    {
     "name": "stdout",
     "output_type": "stream",
     "text": [
      "query: What articles exist which deal with TSS (Time Sharing System), an\n",
      "operating system for IBM computers?\n",
      "precision@10 = 0.2\n"
     ]
    }
   ],
   "source": [
    "\n",
    "#### Function check\n",
    "qid = queries[0][0]\n",
    "qtext = queries[0][1]\n",
    "print(f'query:{qtext}')\n",
    "results = bm25_search(qtext, 2)\n",
    "precision = precision_k(results, qrels[qid], 10)\n",
    "print(f'precision@10 = {precision}')\n",
    "####"
   ]
  },
  {
   "cell_type": "markdown",
   "metadata": {
    "deletable": false,
    "editable": false,
    "nbgrader": {
     "cell_type": "markdown",
     "checksum": "8fd3b3998197c7097a40348500affb68",
     "grade": false,
     "grade_id": "cell-afd95f865bc7191e",
     "locked": true,
     "schema_version": 3,
     "solution": false,
     "task": false
    }
   },
   "source": [
    "---\n",
    "### 4.3 Recall (7 points)\n",
    "Implement the `recall@k` metric:"
   ]
  },
  {
   "cell_type": "code",
   "execution_count": 62,
   "metadata": {
    "deletable": false,
    "nbgrader": {
     "cell_type": "code",
     "checksum": "b2020e5741ae03b3fe35817ed8f4ccaa",
     "grade": false,
     "grade_id": "cell-c323fc8c3f8a7cf8",
     "locked": false,
     "schema_version": 3,
     "solution": true,
     "task": false
    }
   },
   "outputs": [],
   "source": [
    "# TODO: Implement this! (7 points)\n",
    "def recall_k(results, relevant_docs, k):\n",
    "    \"\"\"\n",
    "    Compute Recall@K\n",
    "    Input:\n",
    "        results: A sorted list of 2-tuples (document_id, score),\n",
    "            with the most relevant document in the first position\n",
    "        relevant_docs: A set of relevant documents.\n",
    "        k: the cut-off\n",
    "    Output: Recall@K\n",
    "    \"\"\"\n",
    "    # YOUR CODE HERE\n",
    "    tp = 0.0\n",
    "    fn = 0.0\n",
    "    for i, (doc_id, _score) in enumerate(results, 1):\n",
    "        if doc_id in relevant_docs:\n",
    "            if i <= k:\n",
    "                tp += 1\n",
    "            else:\n",
    "                fn += 1\n",
    "    try:\n",
    "        return tp / (tp + fn)\n",
    "    except ZeroDivisionError:\n",
    "        return 0.0"
   ]
  },
  {
   "cell_type": "code",
   "execution_count": 63,
   "metadata": {
    "deletable": false,
    "editable": false,
    "nbgrader": {
     "cell_type": "code",
     "checksum": "56b6e0b8522f8b2dffbfb3206b2efa84",
     "grade": true,
     "grade_id": "cell-b25172161aef165c",
     "locked": true,
     "points": 7,
     "schema_version": 3,
     "solution": false,
     "task": false
    }
   },
   "outputs": [
    {
     "name": "stdout",
     "output_type": "stream",
     "text": [
      "query: SETL, Very High Level Languages\n",
      "recall@10 = 0.3157894736842105\n"
     ]
    }
   ],
   "source": [
    "#### Function check\n",
    "qid = queries[10][0]\n",
    "qtext = queries[10][1]\n",
    "print(f'query:{qtext}')\n",
    "results = bm25_search(qtext, 2)\n",
    "recall = recall_k(results, qrels[qid], 10)\n",
    "print(f'recall@10 = {recall}')\n",
    "####"
   ]
  },
  {
   "cell_type": "markdown",
   "metadata": {
    "deletable": false,
    "editable": false,
    "nbgrader": {
     "cell_type": "markdown",
     "checksum": "b3d3c7bd1cd977cd07ef5df7d3fbf159",
     "grade": false,
     "grade_id": "cell-77fd2e7a39a74739",
     "locked": true,
     "schema_version": 3,
     "solution": false,
     "task": false
    }
   },
   "source": [
    "---\n",
    "### 4.4 Mean Average Precision (13 points)\n",
    "Implement the `map` metric:"
   ]
  },
  {
   "cell_type": "code",
   "execution_count": 64,
   "metadata": {
    "deletable": false,
    "nbgrader": {
     "cell_type": "code",
     "checksum": "aae2c62f2ffd76f5b6c004e9519b9f14",
     "grade": false,
     "grade_id": "cell-e50925fa9093a30d",
     "locked": false,
     "schema_version": 3,
     "solution": true,
     "task": false
    }
   },
   "outputs": [],
   "source": [
    "# TODO: Implement this! (12 points)\n",
    "def average_precision(results, relevant_docs):\n",
    "    \"\"\"\n",
    "    Compute Average Precision (for a single query - the results are\n",
    "    averaged across queries to get MAP in the next few cells)\n",
    "    Hint: You can use the recall_k and precision_k functions here!\n",
    "    Input:\n",
    "        results: A sorted list of 2-tuples (document_id, score), with the most\n",
    "                relevant document in the first position\n",
    "        relevant_docs: A set of relevant documents.\n",
    "    Output: Average Precision\n",
    "    \"\"\"\n",
    "    n_rel_docs = len(relevant_docs)\n",
    "    n_true_pos = 0\n",
    "    \n",
    "    precisions = np.zeros(n_rel_docs)\n",
    "    N = len(results)\n",
    "    for k, (doc_id, _score) in enumerate(results, 1):\n",
    "        if n_true_pos == n_rel_docs:\n",
    "            # we can stop early because we found all the relevant docs\n",
    "            break\n",
    "        if doc_id in relevant_docs:\n",
    "            precisions[n_true_pos] = precision_k(results, relevant_docs, k)\n",
    "            n_true_pos += 1\n",
    "    # compute the average precision\n",
    "    return np.mean(precisions)"
   ]
  },
  {
   "cell_type": "code",
   "execution_count": 65,
   "metadata": {
    "deletable": false,
    "editable": false,
    "nbgrader": {
     "cell_type": "code",
     "checksum": "3b00e147c2fa146fa59f179b7c9cab75",
     "grade": true,
     "grade_id": "cell-8a1f7ec98571e58b",
     "locked": true,
     "points": 13,
     "schema_version": 3,
     "solution": false,
     "task": false
    }
   },
   "outputs": [
    {
     "name": "stdout",
     "output_type": "stream",
     "text": [
      "query: computational complexity, intractability, class-complete reductions,\n",
      "algorithms and efficiency\n",
      "MAP = 0.1724040411055945\n"
     ]
    }
   ],
   "source": [
    "#### Function check\n",
    "qid = queries[20][0]\n",
    "qtext = queries[20][1]\n",
    "print(f'query:{qtext}')\n",
    "results = bm25_search(qtext, 2)\n",
    "mean_ap = average_precision(results, qrels[qid])\n",
    "print(f'MAP = {mean_ap}')\n",
    "####"
   ]
  },
  {
   "cell_type": "markdown",
   "metadata": {
    "deletable": false,
    "editable": false,
    "nbgrader": {
     "cell_type": "markdown",
     "checksum": "36f85f45ef52d9467ba9a717d6d99ff2",
     "grade": false,
     "grade_id": "cell-1da18f0fe6f6d7be",
     "locked": true,
     "schema_version": 3,
     "solution": false,
     "task": false
    }
   },
   "source": [
    "---\n",
    "### 4.5 Expected Reciprocal Rank (13 points)\n",
    "Implement the `err` metric:"
   ]
  },
  {
   "cell_type": "code",
   "execution_count": 66,
   "metadata": {
    "deletable": false,
    "nbgrader": {
     "cell_type": "code",
     "checksum": "9ac94db728e23ea1f5dc0d509473c6fb",
     "grade": false,
     "grade_id": "cell-64262889f9b267ea",
     "locked": false,
     "schema_version": 3,
     "solution": true,
     "task": false
    }
   },
   "outputs": [],
   "source": [
    "# TODO: Implement this! (12 points)\n",
    "def err(results, relevant_docs):\n",
    "    \"\"\"\n",
    "    Compute the expected reciprocal rank.\n",
    "    Hint: https://dl.acm.org/doi/pdf/10.1145/1645953.1646033?download=true\n",
    "    Input:\n",
    "        results: A sorted list of 2-tuples (document_id, score), with the most\n",
    "            relevant document in the first position\n",
    "        relevant_docs: A set of relevant documents.\n",
    "    Output: ERR (float)\n",
    "\n",
    "    \"\"\"\n",
    "    # YOUR CODE HERE\n",
    "    exp_rec_rank = 0\n",
    "    p = 1\n",
    "    for rank, (doc_id, score) in enumerate(results, 1):\n",
    "        grade = 1 if doc_id in relevant_docs else 0\n",
    "        relevance_prob = (2**grade - 1) / 2\n",
    "        exp_rec_rank += p * (relevance_prob / rank)\n",
    "        p *= 1 - relevance_prob\n",
    "    return exp_rec_rank"
   ]
  },
  {
   "cell_type": "code",
   "execution_count": 67,
   "metadata": {
    "deletable": false,
    "editable": false,
    "nbgrader": {
     "cell_type": "code",
     "checksum": "b7d201de0990b69d5f38704668665d87",
     "grade": true,
     "grade_id": "cell-071e3970ff1afae4",
     "locked": true,
     "points": 13,
     "schema_version": 3,
     "solution": false,
     "task": false
    }
   },
   "outputs": [
    {
     "name": "stdout",
     "output_type": "stream",
     "text": [
      "query: I'd like to find articles describing the use of singular value decomposition\n",
      "in digital image processing.  Applications include finding approximations\n",
      "to the original image and restoring images that are subject to noise. An\n",
      "article on the subject is H.C. Andrews and C.L. Patterson \"Outer product\n",
      "expansions and their uses in digital image processing\", American Mathematical\n",
      "Monthly, vol. 82.\n",
      "ERR = 0.625\n"
     ]
    }
   ],
   "source": [
    "#### Function check\n",
    "qid = queries[30][0]\n",
    "qtext = queries[30][1]\n",
    "print(f'query:{qtext}')\n",
    "results = bm25_search(qtext, 2)\n",
    "ERR = err(results, qrels[qid])\n",
    "print(f'ERR = {ERR}')\n",
    "####"
   ]
  },
  {
   "cell_type": "markdown",
   "metadata": {
    "deletable": false,
    "editable": false,
    "nbgrader": {
     "cell_type": "markdown",
     "checksum": "5bd94caf77cfa5f34675df758d91002d",
     "grade": false,
     "grade_id": "cell-43709a765f353946",
     "locked": true,
     "schema_version": 3,
     "solution": false,
     "task": false
    }
   },
   "source": [
    "---\n",
    "### 4.6 Evaluate Search Functions\n",
    "\n",
    "Let's define some metrics@k using [partial functions](https://docs.python.org/3/library/functools.html#functools.partial)"
   ]
  },
  {
   "cell_type": "code",
   "execution_count": 68,
   "metadata": {
    "deletable": false,
    "editable": false,
    "nbgrader": {
     "cell_type": "code",
     "checksum": "49ccc158e5fb7340ace55e90eeb9d62a",
     "grade": false,
     "grade_id": "cell-dab560e18e340da8",
     "locked": true,
     "schema_version": 3,
     "solution": false,
     "task": false
    }
   },
   "outputs": [],
   "source": [
    "#### metrics@k functions\n",
    "\n",
    "recall_at_1 = partial(recall_k, k=1)\n",
    "recall_at_5 = partial(recall_k, k=5)\n",
    "recall_at_10 = partial(recall_k, k=10)\n",
    "precision_at_1 = partial(precision_k, k=1)\n",
    "precision_at_5 = partial(precision_k, k=5)\n",
    "precision_at_10 = partial(precision_k, k=10)\n",
    "\n",
    "\n",
    "list_of_metrics = [\n",
    "    (\"ERR\", err),\n",
    "    (\"MAP\", average_precision),\n",
    "    (\"Recall@1\",recall_at_1),\n",
    "    (\"Recall@5\", recall_at_5),\n",
    "    (\"Recall@10\", recall_at_10),\n",
    "    (\"Precision@1\", precision_at_1),\n",
    "    (\"Precision@5\", precision_at_5),\n",
    "    (\"Precision@10\", precision_at_10)]\n",
    "####"
   ]
  },
  {
   "cell_type": "markdown",
   "metadata": {
    "deletable": false,
    "editable": false,
    "nbgrader": {
     "cell_type": "markdown",
     "checksum": "fb541002c03221b453b8936290020ea5",
     "grade": false,
     "grade_id": "cell-580a2bdc66d03b47",
     "locked": true,
     "schema_version": 3,
     "solution": false,
     "task": false
    }
   },
   "source": [
    "---\n",
    "\n",
    "The following function evaluates a `search_fn` using the `metric_fn`. Note that the final number is averaged over all the queries"
   ]
  },
  {
   "cell_type": "code",
   "execution_count": 69,
   "metadata": {},
   "outputs": [],
   "source": [
    "#### Evaluate a search function\n",
    "\n",
    "list_of_search_fns = [\n",
    "    (\"BOW\", bow_search),\n",
    "    (\"TF-IDF\", tfidf_search),\n",
    "    (\"NaiveQL\", naive_ql_search),\n",
    "    (\"QL\", ql_search),\n",
    "    (\"BM25\", bm25_search)\n",
    "]\n",
    "\n",
    "def evaluate_search_fn(search_fn, metric_fns, index_set=None):\n",
    "    # build a dict query_id -> query \n",
    "    queries_by_id = dict((q[0], q[1]) for q in queries)\n",
    "    \n",
    "    metrics = {}\n",
    "    for metric, metric_fn in metric_fns:\n",
    "        metrics[metric] = np.zeros(len(qrels), dtype=np.float32)\n",
    "    \n",
    "    for i, (query_id, relevant_docs) in enumerate(qrels.items()):\n",
    "        query = queries_by_id[query_id]\n",
    "        if index_set:\n",
    "            results = search_fn(query, index_set)\n",
    "        else:\n",
    "            results = search_fn(query)\n",
    "        \n",
    "        for metric, metric_fn in metric_fns:\n",
    "            metrics[metric][i] = metric_fn(results, relevant_docs)\n",
    "\n",
    "    \n",
    "    \n",
    "    final_dict = {}\n",
    "    for metric, metric_vals in metrics.items():\n",
    "        final_dict[metric] = metric_vals.mean()\n",
    "    \n",
    "    return final_dict\n",
    "####"
   ]
  },
  {
   "cell_type": "markdown",
   "metadata": {
    "deletable": false,
    "editable": false,
    "nbgrader": {
     "cell_type": "markdown",
     "checksum": "6ea67534f74a8f81e1f504794f641709",
     "grade": false,
     "grade_id": "cell-b156d83a0649cbb4",
     "locked": true,
     "schema_version": 3,
     "solution": false,
     "task": false
    }
   },
   "source": [
    "## Section 5: Analysis (30 points) <a class=\"anchor\" id=\"analysis\"></a>\n",
    "\n",
    "[Back to Part 1](#part1)\n",
    "\n",
    "In the final section of Part1, we will compare the different term-based IR algorithms and different preprocessing configurations and analyze their advantages and disadvantages.\n",
    "\n",
    "### Section 5.1: Plot (20 points)\n",
    "\n",
    "First, gather the results. The results should consider the index set, the different search functions and different metrics. Plot the results in bar charts, per metric, with clear labels.\n",
    "\n",
    "**Rubric:**\n",
    "- Each Metric is plotted: 7 points\n",
    "- Each Method is plotted: 7 points\n",
    "- Clear titles, x label, y labels and legends (if applicable): 6 points"
   ]
  },
  {
   "cell_type": "code",
   "execution_count": 70,
   "metadata": {
    "deletable": false,
    "nbgrader": {
     "cell_type": "code",
     "checksum": "7e2588a925d13ddf588abe8311dc9cfc",
     "grade": true,
     "grade_id": "cell-46fda42a25863a04",
     "locked": false,
     "points": 20,
     "schema_version": 3,
     "solution": true,
     "task": false
    }
   },
   "outputs": [
    {
     "name": "stdout",
     "output_type": "stream",
     "text": [
      "\n",
      "index set 1:\n",
      "\tBOW\n",
      "{'ERR': 0.055224963,\n",
      " 'MAP': 0.031061875,\n",
      " 'Precision@1': 0.03846154,\n",
      " 'Precision@10': 0.028846154,\n",
      " 'Precision@5': 0.034615386,\n",
      " 'Recall@1': 0.0030982906,\n",
      " 'Recall@10': 0.046087656,\n",
      " 'Recall@5': 0.037126765}\n",
      "\tTF-IDF\n",
      "{'ERR': 0.30517504,\n",
      " 'MAP': 0.17810398,\n",
      " 'Precision@1': 0.3846154,\n",
      " 'Precision@10': 0.17500001,\n",
      " 'Precision@5': 0.21153846,\n",
      " 'Recall@1': 0.07476607,\n",
      " 'Recall@10': 0.22000195,\n",
      " 'Recall@5': 0.1473746}\n",
      "\tNaiveQL\n",
      "{'ERR': 0.02187399,\n",
      " 'MAP': 0.007967688,\n",
      " 'Precision@1': 0.03846154,\n",
      " 'Precision@10': 0.0076923077,\n",
      " 'Precision@5': 0.015384615,\n",
      " 'Recall@1': 0.0037774725,\n",
      " 'Recall@10': 0.008585164,\n",
      " 'Recall@5': 0.008585164}\n",
      "\tQL\n",
      "{'ERR': 0.30951288,\n",
      " 'MAP': 0.16616207,\n",
      " 'Precision@1': 0.34615386,\n",
      " 'Precision@10': 0.19423078,\n",
      " 'Precision@5': 0.25384614,\n",
      " 'Recall@1': 0.046651527,\n",
      " 'Recall@10': 0.21684042,\n",
      " 'Recall@5': 0.17031717}\n",
      "\tBM25\n",
      "{'ERR': 0.37286478,\n",
      " 'MAP': 0.22088145,\n",
      " 'Precision@1': 0.44230768,\n",
      " 'Precision@10': 0.24038464,\n",
      " 'Precision@5': 0.2846154,\n",
      " 'Recall@1': 0.066907376,\n",
      " 'Recall@10': 0.30646548,\n",
      " 'Recall@5': 0.20312355}\n",
      "\n",
      "index set 2:\n",
      "\tBOW\n",
      "{'ERR': 0.11996831,\n",
      " 'MAP': 0.06623642,\n",
      " 'Precision@1': 0.07692308,\n",
      " 'Precision@10': 0.07307692,\n",
      " 'Precision@5': 0.080769226,\n",
      " 'Recall@1': 0.010193701,\n",
      " 'Recall@10': 0.08793031,\n",
      " 'Recall@5': 0.048788056}\n",
      "\tTF-IDF\n",
      "{'ERR': 0.4148428,\n",
      " 'MAP': 0.25480694,\n",
      " 'Precision@1': 0.53846157,\n",
      " 'Precision@10': 0.25,\n",
      " 'Precision@5': 0.33846155,\n",
      " 'Recall@1': 0.10014636,\n",
      " 'Recall@10': 0.29629084,\n",
      " 'Recall@5': 0.23532662}\n",
      "\tNaiveQL\n",
      "{'ERR': 0.06400872,\n",
      " 'MAP': 0.019428182,\n",
      " 'Precision@1': 0.115384616,\n",
      " 'Precision@10': 0.025000002,\n",
      " 'Precision@5': 0.042307694,\n",
      " 'Recall@1': 0.009656762,\n",
      " 'Recall@10': 0.022477273,\n",
      " 'Recall@5': 0.01766958}\n",
      "\tQL\n",
      "{'ERR': 0.40624025,\n",
      " 'MAP': 0.24890317,\n",
      " 'Precision@1': 0.5192308,\n",
      " 'Precision@10': 0.29807693,\n",
      " 'Precision@5': 0.3692308,\n",
      " 'Recall@1': 0.07068591,\n",
      " 'Recall@10': 0.3002048,\n",
      " 'Recall@5': 0.21136688}\n",
      "\tBM25\n",
      "{'ERR': 0.426171,\n",
      " 'MAP': 0.3003765,\n",
      " 'Precision@1': 0.5192308,\n",
      " 'Precision@10': 0.31923077,\n",
      " 'Precision@5': 0.40384614,\n",
      " 'Recall@1': 0.110182874,\n",
      " 'Recall@10': 0.34614927,\n",
      " 'Recall@5': 0.25962994}\n"
     ]
    },
    {
     "data": {
      "image/png": "[encoded data removed]",
      "text/plain": [
       "<Figure size 1008x504 with 8 Axes>"
      ]
     },
     "metadata": {
      "needs_background": "light"
     },
     "output_type": "display_data"
    }
   ],
   "source": [
    "# YOUR CODE HERE\n",
    "from pprint import pprint\n",
    "# takes roughly 30 secs to run\n",
    "fig, axes = plt.subplots(2, 4, figsize=(14, 7), sharey=False)\n",
    "axes = axes.flatten()\n",
    "\n",
    "# need this to make side by side bars\n",
    "N = len(list_of_search_fns)\n",
    "method_loc = np.arange(N)\n",
    "bar_width = 0.25\n",
    "\n",
    "for j, (index_set) in enumerate([1, 2]):\n",
    "    print(f\"\\nindex set {index_set}:\")\n",
    "    results = {}\n",
    "\n",
    "    for search_alg, search_fn in list_of_search_fns:\n",
    "        results[search_alg] = evaluate_search_fn(\n",
    "            search_fn, list_of_metrics, index_set=index_set\n",
    "        )\n",
    "        print(f\"\\t{search_alg}\")\n",
    "        pprint(results[search_alg])\n",
    "\n",
    "    for i, (metric_name, _metric_fn) in enumerate(list_of_metrics):\n",
    "        metric_results = {k: v[metric_name] for k, v in results.items()}\n",
    "        labels = list(metric_results.keys())\n",
    "        values = [metric_results[label] for label in labels]\n",
    "\n",
    "        axes[i].grid(True, which=\"major\", axis=\"y\", alpha=0.35)\n",
    "        if i % 4 == 0:\n",
    "            axes[i].set_ylabel(\"Average Metric Value\")\n",
    "        if j == 0:\n",
    "            axes[i].bar(method_loc, values, bar_width, label=f\"index set {index_set}\")\n",
    "        else:\n",
    "            axes[i].bar(\n",
    "                method_loc + bar_width,\n",
    "                values,\n",
    "                bar_width,\n",
    "                label=f\"index set {index_set}\",\n",
    "            )\n",
    "            axes[i].set_xticks(method_loc + bar_width / 2)\n",
    "            axes[i].set_xticklabels(labels)\n",
    "            axes[i].set_title(metric_name)\n",
    "            if i == 7:\n",
    "                axes[i].legend()\n",
    "\n",
    "fig.suptitle(\"Comparison of different term-based IR algorithms across various Metrics\")\n",
    "fig.tight_layout(rect=[0, 0.03, 1, 0.95])\n",
    "plt.show()"
   ]
  },
  {
   "cell_type": "markdown",
   "metadata": {
    "deletable": false,
    "editable": false,
    "nbgrader": {
     "cell_type": "markdown",
     "checksum": "e88c444a0acf4e398c65e289169b75f7",
     "grade": false,
     "grade_id": "cell-8aabe3bcf265deb0",
     "locked": true,
     "points": 10,
     "schema_version": 3,
     "solution": false,
     "task": true
    }
   },
   "source": [
    "---\n",
    "### Section 5.2: Summary (10 points)\n",
    "Write a summary of what you observe in the results.\n",
    "Your summary should compare results across the 2 indices and the methods being used. State what you expected to see in the results, followed by either supporting evidence *or* justify why the results did not support your expectations.      "
   ]
  },
  {
   "cell_type": "markdown",
   "metadata": {},
   "source": [
    "Regardless of the algorithm used results are universally better across all the metrics when using preprocessing - in particular stemming and stop-word removal. This is in line with expectations based on a large body of existing literature in the field of Information retrieval. A likely explanation for the better performance is that stemming collapses index size which increases the likelihood that a query term will be found in a document. Similarly stop word-removal allows models to focus on more relevant words and could be seen as a way of denoising the documents and queries in order to improve performance.\n",
    "\n",
    "In terms of performace it appears that both vector space and lexical models share similar performance across metrics so the choice of what model to use would be largely task dependent and determined by which metric we want to optimise for. For example TF-IDF has better Precision@1 compared to QL which makes it more suitable for tasks such as question answering where a user is looking for a specific highly relevant document but does not care about retrieving the entire body of relevant information. QL on the otherhand outperforms TF-IDF in Precision@5 and Precision@10 which would make it a more suitable choice for example for displaying the first page of results of a search engine.\n",
    "\n",
    "It is worth pointing out that the naive implementations of both vector space and lexical models - BOW and NaiveQL have very poor performance. In the case of BOW that is somewhat surprising because intuitively it seems reasonable to assume that counting the occurence of each query token in the target documents should provide some basic indication of relevance. We demonstrate empirically, however, that token count alone is a very poor prediction of a document's relevance to a query. The poor performance of NaiveQL on the other hand is not surprising given a common problem that naive language models suffer from - namely that unseen words result in zero probability causing the entire product of probabilities to be zero. This is a pervasive problem in NLP due to the sparsity of natural lanugage. For both vector space and lexical models are significantly improved by TF-IDF and QL respectively.\n",
    "\n",
    "Finally, we see that the empirically derived approach of BM25 is almost universally better than any of the other models with the notable exception of Precision@1 where TF-IDF is marginally better."
   ]
  },
  {
   "cell_type": "markdown",
   "metadata": {
    "deletable": false,
    "editable": false,
    "nbgrader": {
     "cell_type": "markdown",
     "checksum": "b3eb77be74eecca205fc7b47316d1627",
     "grade": false,
     "grade_id": "cell-bb60dd5c092d0f2e",
     "locked": true,
     "schema_version": 3,
     "solution": false,
     "task": false
    }
   },
   "source": [
    "---\n",
    "---\n",
    "# Part 2: Semantic-based Matching (85 points) <a class=\"anchor\" id=\"part2\"></a>\n",
    "\n",
    "[Back to top](#top)\n",
    "\n",
    "We will now experiment with methods that go beyond lexical methods like TF-IDF, which operate at the word level and are high dimensional and sparse, and look at methods which constructs low dimensional dense representations of queries and documents. \n",
    "\n",
    "Since these low-dimensional methods have a higher time complexity, they are typically used in conjunction with methods like BM-25. That is, instead of searching through potentially million documents to find matches using low dimensional vectors, a list of K documents are retrieved using BM25, and then **re-ranked** using the other method. This is the method that is going to be applied in the following exercises. \n",
    "\n",
    "LSI/LDA takes documents that are similar on a semantic level - for instance, if they are describing the same topic - and projects them into nearby vectors, despite having low lexical overlap.\n",
    "\n",
    "In this assignment, you will use `gensim` to create LSI/LDA models and use them in re-ranking. \n",
    "\n",
    "**Note**: The following exercises only uses `doc_repr_2` and `config_2`\n",
    "\n",
    "Table of contents:\n",
    "- [Section 6: LSI](#lsi) (15 points)\n",
    "- [Section 7: LDA](#lda) (10 points)\n",
    "- [Section 8: Word2Vec/Doc2Vec](#2vec) (20 points)\n",
    "- [Section 8: Re-ranking](#reranking) (10 points)\n",
    "- [Section 9: Re-ranking Evaluation](#reranking_eval) (30 points)"
   ]
  },
  {
   "cell_type": "markdown",
   "metadata": {
    "deletable": false,
    "editable": false,
    "nbgrader": {
     "cell_type": "markdown",
     "checksum": "f7c7b2cab82f576ed0acf836ca57171c",
     "grade": false,
     "grade_id": "cell-6b2c81e7a8abd180",
     "locked": true,
     "schema_version": 3,
     "solution": false,
     "task": false
    }
   },
   "source": [
    "---\n",
    "## Section 6: Latent Semantic Indexing (LSI) (15 points) <a class=\"anchor\" id=\"lsi\"></a>\n",
    "\n",
    "[Back to Part 2](#part2)\n",
    "\n",
    "LSI is one of the methods to embed the queries and documents into vectors. It is based on a method similar to Principal Component Analysis (PCA) for obtaining a dense concept matrix out of the sparse term-document matrix.\n",
    "\n",
    "See [wikipedia](https://en.wikipedia.org/wiki/Latent_semantic_analysis), particularly [#Mathematics_of_LSI](https://en.wikipedia.org/wiki/Latent_semantic_analysis#Mathematics_of_LSI)."
   ]
  },
  {
   "cell_type": "code",
   "execution_count": 71,
   "metadata": {
    "deletable": false,
    "editable": false,
    "nbgrader": {
     "cell_type": "code",
     "checksum": "c17ee75319cb517e2bf48ec3d9efc329",
     "grade": false,
     "grade_id": "cell-59913daee47f680d",
     "locked": true,
     "schema_version": 3,
     "solution": false,
     "task": false
    }
   },
   "outputs": [],
   "source": [
    "from gensim.corpora import Dictionary\n",
    "from gensim.models import LdaModel, LsiModel, Word2Vec\n",
    "from gensim.models.doc2vec import Doc2Vec, TaggedDocument\n",
    "from gensim import downloader as g_downloader\n",
    "# gensim uses logging, so set it up \n",
    "import logging\n",
    "logging.basicConfig(format='%(asctime)s : %(levelname)s : %(message)s', level=logging.INFO)"
   ]
  },
  {
   "cell_type": "markdown",
   "metadata": {
    "deletable": false,
    "editable": false,
    "nbgrader": {
     "cell_type": "markdown",
     "checksum": "5fce140c546759b54a9fc060901ae77c",
     "grade": false,
     "grade_id": "cell-3644faff4976598a",
     "locked": true,
     "schema_version": 3,
     "solution": false,
     "task": false
    }
   },
   "source": [
    "---\n",
    "### Section 6.1: Cosine Similarity (5 points)<a class=\"anchor\" id=\"cosing_sim\"></a>\n",
    "Before we begin, let us first define our method of similarity for the LSI model, the cosine similarity:\n",
    "\n",
    "$$\\text{similarity} = \\cos(\\theta) = {\\mathbf{A} \\cdot \\mathbf{B} \\over \\|\\mathbf{A}\\| \\|\\mathbf{B}\\|} = \\frac{ \\sum\\limits_{i=1}^{n}{A_i  B_i} }{ \\sqrt{\\sum\\limits_{i=1}^{n}{A_i^2}}  \\sqrt{\\sum\\limits_{i=1}^{n}{B_i^2}} }$$\n",
    "\n",
    "Since we are using gensim, the types of vectors returned by their classes are of the form defined below (they are not just simple vectors):"
   ]
  },
  {
   "cell_type": "code",
   "execution_count": 72,
   "metadata": {
    "deletable": false,
    "editable": false,
    "nbgrader": {
     "cell_type": "code",
     "checksum": "4e340e1a1d546f430c018fd0760e707a",
     "grade": false,
     "grade_id": "cell-3995a50f951314d5",
     "locked": true,
     "schema_version": 3,
     "solution": false,
     "task": false
    }
   },
   "outputs": [],
   "source": [
    "# 1, 2, 3 are either latent dimensions (LSI), or topics (LDA)\n",
    "# The second value in each tuple is a number (LSI) or a probability (LDA)  \n",
    "example_vec_1 = [(1, 0.2), (2, 0.3), (3, 0.4)]\n",
    "example_vec_2 = [(1, 0.2), (2, 0.7), (3, 0.4)]"
   ]
  },
  {
   "cell_type": "markdown",
   "metadata": {
    "deletable": false,
    "editable": false,
    "nbgrader": {
     "cell_type": "markdown",
     "checksum": "20832fd4f579f49ae204b0efee02edd1",
     "grade": false,
     "grade_id": "cell-5e54d581858dc8f7",
     "locked": true,
     "schema_version": 3,
     "solution": false,
     "task": false
    }
   },
   "source": [
    "---\n",
    "**Implementation (2+3 points):**\n",
    "Now, implement the `dot product` operation on these types of vectors and using this operator, implement the `cosine similarity` (don't forget: two functions to implement!):"
   ]
  },
  {
   "cell_type": "code",
   "execution_count": 73,
   "metadata": {
    "deletable": false,
    "nbgrader": {
     "cell_type": "code",
     "checksum": "06a712ee75fc213a21c5f0067fd8fe28",
     "grade": false,
     "grade_id": "cell-0e8189f5f93de33f",
     "locked": false,
     "schema_version": 3,
     "solution": true,
     "task": false
    }
   },
   "outputs": [],
   "source": [
    "# TODO: Implement this! (2 points)\n",
    "def dot(vec_1, vec_2):\n",
    "    \"\"\"\n",
    "    vec_1 and vec_2 are of the form: [(int, float), (int, float), ...]\n",
    "    Return the dot product of two such vectors, computed only on the floats\n",
    "    You can assume that the lengths of the vectors are the same, and the dimensions are aligned\n",
    "        i.e you won't get: vec_1 = [(1, 0.2)] ; vec_2 = [(2, 0.3)]\n",
    "                            (dimensions are unaligned and lengths are different)\n",
    "    \"\"\"\n",
    "    # YOUR CODE HERE\n",
    "    return np.dot([x[1] for x in vec_1], [y[1] for y in vec_2])\n",
    "\n",
    "\n",
    "# TODO: Implement this! (3 points)\n",
    "def cosine_sim(vec_1, vec_2):\n",
    "\n",
    "    # YOUR CODE HERE\n",
    "    # check for empty or 0-vectored vectors\n",
    "    if all([el == 0 for dim, el in vec_1]) or all([el == 0 for dim, el in vec_2]):\n",
    "        return 0\n",
    "    \n",
    "    # # Adding a custom function to compute the modulus\n",
    "    def mod(\n",
    "        vec,\n",
    "    ):\n",
    "        # Note: This still assumes that the vector is in the form :\n",
    "        # [(int, float), (int, float), ...]\n",
    "        return np.sqrt(sum(x[1] ** 2 for x in vec))\n",
    "    \n",
    "    # actually compute similarity\n",
    "    return dot(vec_1, vec_2) / (mod(vec_1) * mod(vec_2))"
   ]
  },
  {
   "cell_type": "code",
   "execution_count": 74,
   "metadata": {
    "deletable": false,
    "editable": false,
    "nbgrader": {
     "cell_type": "code",
     "checksum": "d22a4a7325ba7815a808390388f534a1",
     "grade": true,
     "grade_id": "cell-b25d04ed6b79fd35",
     "locked": true,
     "points": 2,
     "schema_version": 3,
     "solution": false,
     "task": false
    }
   },
   "outputs": [
    {
     "name": "stdout",
     "output_type": "stream",
     "text": [
      "vectors: ([(1, 0.2), (2, 0.3), (3, 0.4)], [(1, 0.2), (2, 0.7), (3, 0.4)])\n",
      "dot product = 0.41000000000000003\n",
      "cosine similarity = 0.9165587597202866\n"
     ]
    }
   ],
   "source": [
    "##### Function check\n",
    "print(f'vectors: {(example_vec_1,example_vec_2)}')\n",
    "print(f'dot product = {dot(example_vec_1,example_vec_2)}')\n",
    "print(f'cosine similarity = {cosine_sim(example_vec_1,example_vec_2)}')\n",
    "##### "
   ]
  },
  {
   "cell_type": "code",
   "execution_count": 75,
   "metadata": {
    "deletable": false,
    "editable": false,
    "nbgrader": {
     "cell_type": "code",
     "checksum": "0744131724ce76b1b3f163b4bae5f700",
     "grade": true,
     "grade_id": "cell-ae3c4466866ace77",
     "locked": true,
     "points": 3,
     "schema_version": 3,
     "solution": false,
     "task": false
    }
   },
   "outputs": [],
   "source": [
    "#### Please do not change this. This cell is used for grading."
   ]
  },
  {
   "cell_type": "markdown",
   "metadata": {
    "deletable": false,
    "editable": false,
    "nbgrader": {
     "cell_type": "markdown",
     "checksum": "9b123f599f9ea372d14676e23f1c6a52",
     "grade": false,
     "grade_id": "cell-4b2534067c44fcdf",
     "locked": true,
     "schema_version": 3,
     "solution": false,
     "task": false
    }
   },
   "source": [
    "---\n",
    "### Section 6.2: LSI Retrieval (10 points)<a class=\"anchor\" id=\"lsi_retrieval\"></a>\n",
    "LSI retrieval is simply ranking the documents based on their cosine similarity to the query vector.\n",
    "First, let's write a parent class for vector-based retrieval models:"
   ]
  },
  {
   "cell_type": "code",
   "execution_count": 76,
   "metadata": {
    "deletable": false,
    "editable": false,
    "nbgrader": {
     "cell_type": "code",
     "checksum": "ecc111d58182570e2252b8ef5d6b02af",
     "grade": false,
     "grade_id": "cell-937936cea18711ee",
     "locked": true,
     "schema_version": 3,
     "solution": false,
     "task": false
    }
   },
   "outputs": [],
   "source": [
    "class VectorSpaceRetrievalModel:\n",
    "    \"\"\"\n",
    "        Parent class for Dense Vector Retrieval models\n",
    "    \"\"\"\n",
    "    def __init__(self, doc_repr):\n",
    "        \"\"\"\n",
    "            document_collection: \n",
    "                [\n",
    "                    (doc_id_1, [token 1, token 2, ...]), \n",
    "                    (doc_id_2, [token 1, token 2, ....]) \n",
    "                    ...\n",
    "                ]\n",
    "\n",
    "        \"\"\"\n",
    "        self.doc_repr = doc_repr\n",
    "        self.documents = [_[1] for _ in self.doc_repr]\n",
    "        \n",
    "        # construct a dictionary\n",
    "        self.dictionary = Dictionary(self.documents)\n",
    "        # Filter out words that occur less than 20 documents, or more than 50% of the documents.\n",
    "        self.dictionary.filter_extremes(no_below=10)\n",
    "        self.corpus = [self.dictionary.doc2bow(doc) for doc in self.documents]\n",
    "    \n",
    "        # Make a index to word dictionary.\n",
    "        temp = self.dictionary[0]  # This is only to \"load\" the dictionary.\n",
    "        self.id2word = self.dictionary.id2token\n",
    "        \n",
    "        # this is set by the train_model function\n",
    "        self.model = None\n",
    "        \n",
    "        \n",
    "    def vectorize_documents(self):\n",
    "        \"\"\"\n",
    "            Returns a doc_id -> vector dictionary\n",
    "        \"\"\"\n",
    "        vectors = {}\n",
    "        for (doc_id, _), cc in zip(self.doc_repr, self.corpus):\n",
    "            vectors[doc_id] = self.model[cc]\n",
    "        return vectors\n",
    "\n",
    "    def vectorize_query(self, query):\n",
    "        # Note the use of config_2 here!\n",
    "        query = process_text(query, **config_2)\n",
    "        query_vector = self.dictionary.doc2bow(query)\n",
    "        return self.model[query_vector]\n",
    "    \n",
    "    def train_model(self):\n",
    "        \"\"\"\n",
    "            Trains a model and sets the 'self.model' variable. \n",
    "            Make sure to use the variables created in the __init__ method.\n",
    "            e.g the variables which may be useful: {corpus, dictionary, id2word}\n",
    "        \"\"\"\n",
    "        raise NotImplementedError()"
   ]
  },
  {
   "cell_type": "markdown",
   "metadata": {
    "deletable": false,
    "editable": false,
    "nbgrader": {
     "cell_type": "markdown",
     "checksum": "ff161eefd9b81b768cd6361bc1a502b0",
     "grade": false,
     "grade_id": "cell-704a18c2f80cd60c",
     "locked": true,
     "schema_version": 3,
     "solution": false,
     "task": false
    }
   },
   "source": [
    "---\n",
    "**Implementation (5 points):**\n",
    "Implement the `train_model` method in the following class (note that this is only one line of code in `gensim`!). Ensure that the parameters defined in the `__init__` method are not changed, and are *used in the `train_method` function*. Normally, the hyperaparameter space will be searched using grid search / other methods - in this assignment we have provided the hyperparameters for you.\n",
    "\n",
    "The last two lines of code train an LSI model on the list of documents which have been stemmed, lower-cased and have stopwords removed. "
   ]
  },
  {
   "cell_type": "code",
   "execution_count": 77,
   "metadata": {
    "deletable": false,
    "nbgrader": {
     "cell_type": "code",
     "checksum": "0e90eedc27c248bc1ae050518a46a46c",
     "grade": false,
     "grade_id": "cell-307682c9089f15d6",
     "locked": false,
     "schema_version": 3,
     "solution": true,
     "task": false
    }
   },
   "outputs": [],
   "source": [
    "# TODO: Implement this! (5 points)\n",
    "class LsiRetrievalModel(VectorSpaceRetrievalModel):\n",
    "    def __init__(self, doc_repr):\n",
    "        super().__init__(doc_repr)\n",
    "\n",
    "        self.num_topics = 100\n",
    "        self.chunksize = 2000\n",
    "\n",
    "    def train_model(self):\n",
    "        self.model = LsiModel(\n",
    "            corpus=self.corpus,\n",
    "            id2word=self.id2word,\n",
    "            num_topics=self.num_topics,\n",
    "            chunksize=self.chunksize,\n",
    "        )"
   ]
  },
  {
   "cell_type": "code",
   "execution_count": 78,
   "metadata": {
    "deletable": false,
    "editable": false,
    "nbgrader": {
     "cell_type": "code",
     "checksum": "00399cfe13d60cb4beed1271e36004b0",
     "grade": true,
     "grade_id": "cell-5ce512650c1b2dfb",
     "locked": true,
     "points": 0,
     "schema_version": 3,
     "solution": false,
     "task": false
    }
   },
   "outputs": [
    {
     "name": "stderr",
     "output_type": "stream",
     "text": [
      "2022-02-28 17:52:59,971 : INFO : adding document #0 to Dictionary(0 unique tokens: [])\n",
      "2022-02-28 17:53:00,156 : INFO : built Dictionary(5937 unique tokens: ['-', 'algebra', 'intern', 'languag', 'preliminari']...) from 3204 documents (total 115969 corpus positions)\n",
      "2022-02-28 17:53:00,174 : INFO : discarding 4740 tokens: [('repeat', 8), ('glossari', 7), ('inspect', 8), ('uncol', 2), ('rung', 9), ('secant', 2), ('.', 1603), ('acceler', 6), ('diverg', 3), ('induc', 9)]...\n",
      "2022-02-28 17:53:00,175 : INFO : keeping 1197 tokens which were in no less than 10 and no more than 1602 (=50.0%) documents\n",
      "2022-02-28 17:53:00,180 : INFO : resulting dictionary: Dictionary(1197 unique tokens: ['-', 'algebra', 'intern', 'languag', 'preliminari']...)\n",
      "2022-02-28 17:53:00,301 : INFO : using serial LSI version on this node\n",
      "2022-02-28 17:53:00,304 : INFO : updating model with new documents\n",
      "2022-02-28 17:53:00,313 : INFO : preparing a new chunk of documents\n",
      "2022-02-28 17:53:00,338 : INFO : using 100 extra samples and 2 power iterations\n",
      "2022-02-28 17:53:00,339 : INFO : 1st phase: constructing (1197, 200) action matrix\n",
      "2022-02-28 17:53:00,362 : INFO : orthonormalizing (1197, 200) action matrix\n",
      "2022-02-28 17:53:00,432 : INFO : 2nd phase: running dense svd on (200, 2000) matrix\n",
      "2022-02-28 17:53:00,517 : INFO : computing the final decomposition\n",
      "2022-02-28 17:53:00,518 : INFO : keeping 100 factors (discarding 13.433% of energy spectrum)\n",
      "2022-02-28 17:53:00,523 : INFO : processed documents up to #2000\n",
      "2022-02-28 17:53:00,525 : INFO : topic #0(152.127): 0.741*\",\" + 0.342*\"-\" + 0.211*\"system\" + 0.204*\"program\" + 0.192*\"comput\" + 0.146*\"(\" + 0.127*\"languag\" + 0.108*\")\" + 0.084*\"gener\" + 0.083*\"data\"\n",
      "2022-02-28 17:53:00,526 : INFO : topic #1(60.600): 0.607*\"(\" + 0.434*\")\" + 0.366*\"algorithm\" + 0.300*\"-\" + -0.237*\",\" + -0.213*\"system\" + -0.132*\"comput\" + 0.096*\"[\" + -0.093*\"program\" + 0.084*\"])\"\n",
      "2022-02-28 17:53:00,527 : INFO : topic #2(57.438): 0.744*\"-\" + -0.452*\",\" + 0.263*\"system\" + -0.214*\"(\" + -0.166*\")\" + 0.107*\"time\" + 0.105*\"program\" + -0.094*\"algorithm\" + 0.068*\"comput\" + 0.067*\"share\"\n",
      "2022-02-28 17:53:00,529 : INFO : topic #3(48.370): -0.483*\"system\" + -0.375*\"program\" + -0.367*\"comput\" + 0.363*\"-\" + 0.308*\",\" + -0.212*\"(\" + -0.168*\")\" + -0.147*\"algorithm\" + 0.144*\"languag\" + -0.119*\"time\"\n",
      "2022-02-28 17:53:00,530 : INFO : topic #4(45.710): 0.489*\"comput\" + -0.475*\"languag\" + -0.428*\"program\" + 0.238*\"method\" + 0.141*\"problem\" + -0.121*\"system\" + -0.109*\")\" + 0.107*\"equat\" + 0.100*\"algorithm\" + -0.099*\"(\"\n",
      "2022-02-28 17:53:00,531 : INFO : preparing a new chunk of documents\n",
      "2022-02-28 17:53:00,546 : INFO : using 100 extra samples and 2 power iterations\n",
      "2022-02-28 17:53:00,548 : INFO : 1st phase: constructing (1197, 200) action matrix\n",
      "2022-02-28 17:53:00,563 : INFO : orthonormalizing (1197, 200) action matrix\n",
      "2022-02-28 17:53:00,642 : INFO : 2nd phase: running dense svd on (200, 1204) matrix\n",
      "2022-02-28 17:53:00,682 : INFO : computing the final decomposition\n",
      "2022-02-28 17:53:00,683 : INFO : keeping 100 factors (discarding 14.004% of energy spectrum)\n",
      "2022-02-28 17:53:00,688 : INFO : merging projections: (1197, 100) + (1197, 100)\n",
      "2022-02-28 17:53:00,722 : INFO : keeping 100 factors (discarding 8.155% of energy spectrum)\n",
      "2022-02-28 17:53:00,727 : INFO : processed documents up to #3204\n",
      "2022-02-28 17:53:00,729 : INFO : topic #0(225.136): 0.759*\",\" + 0.337*\"-\" + 0.196*\"system\" + 0.186*\"program\" + 0.166*\"comput\" + 0.139*\"(\" + 0.103*\")\" + 0.103*\"algorithm\" + 0.099*\"languag\" + 0.087*\"time\"\n",
      "2022-02-28 17:53:00,730 : INFO : topic #1(87.805): 0.613*\"-\" + -0.399*\",\" + 0.399*\"(\" + 0.326*\"algorithm\" + 0.293*\")\" + -0.129*\"system\" + -0.107*\"program\" + 0.085*\"method\" + 0.077*\"time\" + 0.062*\"1\"\n",
      "2022-02-28 17:53:00,733 : INFO : topic #2(81.909): 0.550*\"-\" + -0.434*\"(\" + 0.355*\"system\" + -0.321*\")\" + -0.291*\",\" + -0.266*\"algorithm\" + 0.146*\"program\" + 0.123*\"comput\" + 0.078*\"time\" + -0.064*\"[\"\n",
      "2022-02-28 17:53:00,736 : INFO : topic #3(72.433): -0.693*\"program\" + 0.339*\",\" + 0.279*\"-\" + -0.251*\"(\" + -0.221*\"system\" + -0.214*\"languag\" + -0.204*\")\" + -0.160*\"comput\" + -0.099*\"data\" + -0.056*\"execut\"\n",
      "2022-02-28 17:53:00,737 : INFO : topic #4(68.522): -0.673*\"system\" + 0.453*\"program\" + 0.254*\"languag\" + 0.212*\"-\" + -0.179*\"comput\" + -0.165*\"(\" + -0.121*\")\" + -0.115*\"model\" + 0.101*\",\" + -0.098*\"algorithm\"\n"
     ]
    },
    {
     "data": {
      "text/plain": [
       "[(0, 0.015213039464340808),\n",
       " (1, -0.01626359537423515),\n",
       " (2, -0.00022897957056215073),\n",
       " (3, -0.0018104327735307454),\n",
       " (4, -0.009347130859347453),\n",
       " (5, -0.0046133596149968955),\n",
       " (6, 0.027063734508624537),\n",
       " (7, 0.016653229434756993),\n",
       " (8, -0.03203282787646926),\n",
       " (9, -0.0008485093050037921),\n",
       " (10, 0.002069566479057512),\n",
       " (11, -0.017564524305655905),\n",
       " (12, 0.00023438845941818783),\n",
       " (13, 0.0019525069077055155),\n",
       " (14, 0.0042367502650579696),\n",
       " (15, 0.005406072378172158),\n",
       " (16, 0.005889430621335791),\n",
       " (17, 0.0014823812466038776),\n",
       " (18, -0.018964382403164056),\n",
       " (19, 0.02120192713553111),\n",
       " (20, -0.007122024626933334),\n",
       " (21, -0.014386682635246872),\n",
       " (22, 0.047810398817731456),\n",
       " (23, 0.024902226295718904),\n",
       " (24, -0.0083832196084315),\n",
       " (25, -0.011934151649282625),\n",
       " (26, 0.002796117614285738),\n",
       " (27, 0.07755629994099131),\n",
       " (28, -0.0613912810942539),\n",
       " (29, 0.034166239570121285),\n",
       " (30, 0.044562564806110844),\n",
       " (31, 0.045701359089547706),\n",
       " (32, -0.06931682525714931),\n",
       " (33, 0.043650979364697064),\n",
       " (34, -0.03042393695986652),\n",
       " (35, 0.0644585368838152),\n",
       " (36, 0.03994699697025987),\n",
       " (37, -0.006941027498405504),\n",
       " (38, -0.057394208531120885),\n",
       " (39, 0.029874865787445165),\n",
       " (40, -0.049751552140980995),\n",
       " (41, -0.032590442103566875),\n",
       " (42, 0.02041168950464853),\n",
       " (43, 0.020015785748892404),\n",
       " (44, 0.015223210914270924),\n",
       " (45, -0.055437763067067214),\n",
       " (46, -0.00813762670303297),\n",
       " (47, 0.011473620323838007),\n",
       " (48, -0.008932906954322632),\n",
       " (49, 0.03135586294029192),\n",
       " (50, 0.007444927848376229),\n",
       " (51, 0.053355542339800555),\n",
       " (52, -0.0008506120607199921),\n",
       " (53, 0.008778346027619371),\n",
       " (54, 0.04108402913723995),\n",
       " (55, 0.02348694425367151),\n",
       " (56, -0.010647598630585939),\n",
       " (57, -0.024021433408707205),\n",
       " (58, 0.013773095277635757),\n",
       " (59, 0.047416292231800966),\n",
       " (60, -0.008279508929878873),\n",
       " (61, 0.0523245198167734),\n",
       " (62, -0.004641380259015892),\n",
       " (63, 0.06106159854886262),\n",
       " (64, -0.0035907104658130726),\n",
       " (65, 0.04762767488363551),\n",
       " (66, 0.017604620305135998),\n",
       " (67, -0.05831473437842883),\n",
       " (68, -0.016618759461426637),\n",
       " (69, -0.053992299767436754),\n",
       " (70, 0.0458419247934273),\n",
       " (71, -0.0271651747370033),\n",
       " (72, 0.048146670920000155),\n",
       " (73, -0.07494716814741316),\n",
       " (74, -0.036553022844235),\n",
       " (75, 0.04366237641644985),\n",
       " (76, -0.004556254110758582),\n",
       " (77, 0.007126231548499094),\n",
       " (78, 0.04465924731754932),\n",
       " (79, 0.02365730115431315),\n",
       " (80, 0.030748180629883614),\n",
       " (81, -0.008092422039031037),\n",
       " (82, 0.02382260037970431),\n",
       " (83, 0.03139779858253203),\n",
       " (84, -0.05469589334189975),\n",
       " (85, -0.018797251326680225),\n",
       " (86, -0.031051813197838937),\n",
       " (87, 0.031460737987313386),\n",
       " (88, -0.054150654575573706),\n",
       " (89, -0.0744524209895407),\n",
       " (90, -0.036525946903999594),\n",
       " (91, 0.01737694436135085),\n",
       " (92, -0.020995251410106927),\n",
       " (93, 0.019310258570032865),\n",
       " (94, -0.06082647651732721),\n",
       " (95, 0.02355300725015288),\n",
       " (96, 0.00462324280025617),\n",
       " (97, 0.006864456694579994),\n",
       " (98, -0.025815879094294704),\n",
       " (99, -0.021429364956204663)]"
      ]
     },
     "execution_count": 78,
     "metadata": {},
     "output_type": "execute_result"
    }
   ],
   "source": [
    "##### Function check\n",
    "lsi = LsiRetrievalModel(doc_repr_2)\n",
    "lsi.train_model()\n",
    "\n",
    "# you can now get an LSI vector for a given query in the following way:\n",
    "lsi.vectorize_query(\"report\")\n",
    "##### "
   ]
  },
  {
   "cell_type": "markdown",
   "metadata": {
    "deletable": false,
    "editable": false,
    "nbgrader": {
     "cell_type": "markdown",
     "checksum": "7116bb9f576c5bb04934e1d59c51d729",
     "grade": false,
     "grade_id": "cell-4c5eeb557b4fca2f",
     "locked": true,
     "points": 5,
     "schema_version": 3,
     "solution": false,
     "task": true
    }
   },
   "source": [
    "\\#### Please do not change this. This cell is used for grading."
   ]
  },
  {
   "cell_type": "markdown",
   "metadata": {
    "deletable": false,
    "editable": false,
    "nbgrader": {
     "cell_type": "markdown",
     "checksum": "26e2ff3c413745e633d99f66c041d6b1",
     "grade": false,
     "grade_id": "cell-c4e50296cd17a555",
     "locked": true,
     "schema_version": 3,
     "solution": false,
     "task": false
    }
   },
   "source": [
    "---\n",
    "**Implementation (5 points):**\n",
    " Next, implement a basic ranking class for vector space retrieval (used for all semantic methods): "
   ]
  },
  {
   "cell_type": "code",
   "execution_count": 79,
   "metadata": {
    "deletable": false,
    "nbgrader": {
     "cell_type": "code",
     "checksum": "1a8389d2f0635c3405e2b0b27ed9f327",
     "grade": false,
     "grade_id": "cell-250515d288e80cdc",
     "locked": false,
     "schema_version": 3,
     "solution": true,
     "task": false
    }
   },
   "outputs": [],
   "source": [
    "# TODO: Implement this! (5 points)\n",
    "class DenseRetrievalRanker:\n",
    "    def __init__(self, vsrm, similarity_fn):\n",
    "        \"\"\"\n",
    "        vsrm: instance of `VectorSpaceRetrievalModel`\n",
    "        similarity_fn: function instance that takes in two vectors\n",
    "                        and returns a similarity score e.g cosine_sim defined earlier\n",
    "        \"\"\"\n",
    "        self.vsrm = vsrm\n",
    "        self.vectorized_documents = self.vsrm.vectorize_documents()\n",
    "        self.similarity_fn = similarity_fn\n",
    "\n",
    "    def _compute_sim(self, query_vector):\n",
    "        \"\"\"\n",
    "        Compute the similarity of `query_vector` to documents in\n",
    "        `self.vectorized_documents` using `self.similarity_fn`\n",
    "        Returns a list of (doc_id, score) tuples\n",
    "        \"\"\"\n",
    "        # result = []\n",
    "        result = [\n",
    "            (doc_id, self.similarity_fn(query_vector, doc))\n",
    "            for doc_id, doc in self.vectorized_documents.items()\n",
    "        ]\n",
    "        return result\n",
    "\n",
    "    def search(self, query):\n",
    "        scores = self._compute_sim(self.vsrm.vectorize_query(query))\n",
    "        scores.sort(key=lambda _: -_[1])\n",
    "        return scores"
   ]
  },
  {
   "cell_type": "code",
   "execution_count": 80,
   "metadata": {
    "deletable": false,
    "editable": false,
    "nbgrader": {
     "cell_type": "code",
     "checksum": "f237dd1ef6c1783c06797f4b514421f5",
     "grade": true,
     "grade_id": "cell-b73068b3e77a8e31",
     "locked": true,
     "points": 0,
     "schema_version": 3,
     "solution": false,
     "task": false
    }
   },
   "outputs": [
    {
     "data": {
      "text/plain": [
       "[('599', 0.7847097368514849),\n",
       " ('947', 0.5785028230507483),\n",
       " ('53', 0.49228592076123806),\n",
       " ('1339', 0.457894978941519),\n",
       " ('3160', 0.44608504234075813)]"
      ]
     },
     "execution_count": 80,
     "metadata": {},
     "output_type": "execute_result"
    }
   ],
   "source": [
    "##### Function check\n",
    "drm_lsi = DenseRetrievalRanker(lsi, cosine_sim)\n",
    "drm_lsi.search(\"report\")[:5]\n",
    "##### "
   ]
  },
  {
   "cell_type": "markdown",
   "metadata": {
    "deletable": false,
    "editable": false,
    "nbgrader": {
     "cell_type": "markdown",
     "checksum": "5b3f19fdcaa585d263706d5a26038799",
     "grade": false,
     "grade_id": "cell-034c755a6502b868",
     "locked": true,
     "points": 5,
     "schema_version": 3,
     "solution": false,
     "task": true
    }
   },
   "source": [
    "\\#### Please do not change this. This cell is used for grading."
   ]
  },
  {
   "cell_type": "markdown",
   "metadata": {
    "deletable": false,
    "editable": false,
    "nbgrader": {
     "cell_type": "markdown",
     "checksum": "dcafef6e037033c46304b914f7c78bdf",
     "grade": false,
     "grade_id": "cell-d1df23f497d5ed6b",
     "locked": true,
     "schema_version": 3,
     "solution": false,
     "task": false
    }
   },
   "source": [
    "---\n",
    "Now, you can test your LSI model in the following cell: try finding queries which are lexically different to documents, but semantically similar - does LSI work well for these queries?!"
   ]
  },
  {
   "cell_type": "code",
   "execution_count": 81,
   "metadata": {
    "deletable": false,
    "editable": false,
    "nbgrader": {
     "cell_type": "code",
     "checksum": "11734bc7674377b340ad51297a8e8bb5",
     "grade": false,
     "grade_id": "cell-efd1d08dfc04ec3e",
     "locked": true,
     "schema_version": 3,
     "solution": false,
     "task": false
    }
   },
   "outputs": [
    {
     "data": {
      "application/vnd.jupyter.widget-view+json": {
       "model_id": "2c1fd67703d145fd9d741316b128bb8f",
       "version_major": 2,
       "version_minor": 0
      },
      "text/plain": [
       "Text(value='', description='Search Bar')"
      ]
     },
     "metadata": {},
     "output_type": "display_data"
    }
   ],
   "source": [
    "# test your LSI model\n",
    "search_fn = drm_lsi.search\n",
    "\n",
    "text = widgets.Text(description=\"Search Bar\", width=200)\n",
    "display(text)\n",
    "\n",
    "def make_results_2(query, search_fn):\n",
    "    results = []\n",
    "    for doc_id, score in search_fn(query):\n",
    "        highlight = highlight_text(docs_by_id[doc_id], query)\n",
    "        if len(highlight.strip()) == 0:\n",
    "            highlight = docs_by_id[doc_id]\n",
    "        results.append(ResultRow(doc_id, highlight, score))\n",
    "    return results\n",
    "\n",
    "def handle_submit_2(sender):\n",
    "    print(f\"Searching for: '{sender.value}' (SEARCH FN: {search_fn})\")\n",
    "    \n",
    "    results = make_results_2(sender.value, search_fn)\n",
    "    \n",
    "    # display only the top 5\n",
    "    results = results[:5]\n",
    "    \n",
    "    body = \"\"\n",
    "    for idx, r in enumerate(results):\n",
    "        body += f\"<li>Document #{r.doc_id}({r.score}): {r.snippet}</li>\"\n",
    "    display(HTML(f\"<ul>{body}</ul>\"))\n",
    "    \n",
    "\n",
    "text.on_submit(handle_submit_2)"
   ]
  },
  {
   "cell_type": "markdown",
   "metadata": {
    "deletable": false,
    "editable": false,
    "nbgrader": {
     "cell_type": "markdown",
     "checksum": "d074ce1ca48384cdda78742741c938be",
     "grade": false,
     "grade_id": "cell-3a86cef264d8f6cf",
     "locked": true,
     "schema_version": 3,
     "solution": false,
     "task": false
    }
   },
   "source": [
    "---\n",
    "## Section 7: Latent Dirichlet Allocation (LDA) (10 points) <a class=\"anchor\" id=\"lda\"></a>\n",
    "\n",
    "[Back to Part 2](#part2)\n",
    "\n",
    "The specifics of LDA is out of the scope of this assignment, but we will use the `gensim` implementation to perform search using LDA over our small document collection. The key thing to remember is that LDA, unlike LSI, outputs a topic **distribution**, not a vector. With that in mind, let's first define a similarity measure.\n"
   ]
  },
  {
   "cell_type": "markdown",
   "metadata": {
    "deletable": false,
    "editable": false,
    "nbgrader": {
     "cell_type": "markdown",
     "checksum": "db01092373b18f0c9dfed1bb17db4ad9",
     "grade": false,
     "grade_id": "cell-6b78ad22c2d60ba7",
     "locked": true,
     "schema_version": 3,
     "solution": false,
     "task": false
    }
   },
   "source": [
    "---\n",
    "### Section 7.1: Jenson-Shannon divergence (5 points) <a class=\"anchor\" id=\"js_sim\"></a>\n",
    "\n",
    "The Jenson-Shannon divergence is a symmetric and finite measure on two probability distributions (unlike the KL, which is neither). For identical distributions, the JSD is equal to 0, and since our code uses 0 as irrelevant and higher scores as relevant, we use `(1 - JSD)` as the score or 'similarity' in our setup\n",
    "\n",
    "**Note**: the JSD is bounded to \\[0,1\\] only if we use log base 2. So please ensure that you're using `np.log2` instead of `np.log`"
   ]
  },
  {
   "cell_type": "code",
   "execution_count": 82,
   "metadata": {
    "deletable": false,
    "nbgrader": {
     "cell_type": "code",
     "checksum": "a579e6cd7a24a3516bc9a84528b392d3",
     "grade": false,
     "grade_id": "cell-d2376a85a4841e98",
     "locked": false,
     "schema_version": 3,
     "solution": true,
     "task": false
    }
   },
   "outputs": [],
   "source": [
    "## TODO: Implement this! (5 points)\n",
    "def jenson_shannon_divergence(vec_1, vec_2, assert_prob=False):\n",
    "    \"\"\"\n",
    "    Computes the Jensen-Shannon divergence between two probability distributions.\n",
    "    NOTE: DO NOT RETURN 1 - JSD here, that is handled by the next function which is already implemented!\n",
    "    The inputs are *gensim* vectors - same as the vectors for the cosine_sim function\n",
    "    assert_prob is a flag that checks if the inputs are proper probability distributions\n",
    "        i.e they sum to 1 and are positive - use this to check your inputs if needed.\n",
    "            (This is optional to implement, but recommended -\n",
    "            you can the default to False to save a few ms off the runtime)\n",
    "    \"\"\"\n",
    "\n",
    "    # --------- Define a custom KL divergence function --------\n",
    "    def KL(a, b):\n",
    "        a = np.asarray(a, dtype=np.float)\n",
    "        b = np.asarray(b, dtype=np.float)\n",
    "\n",
    "        return np.sum(np.where(a != 0, a * np.log2(a / b), 0))\n",
    "\n",
    "    # ---------------------------------------------------------\n",
    "\n",
    "    vec_1_probs = np.array([x[1] for x in vec_1])  # extracting the probabily values\n",
    "    vec_2_probs = np.array([y[1] for y in vec_2])  # extracting the probabily values\n",
    "\n",
    "    # if flag=True, assert that the inputs are proper probability distributions\n",
    "    if assert_prob:\n",
    "        assert np.sum(vec_1_probs) == 1 and all(\n",
    "            vec_1_probs > 0\n",
    "        ), \"Values of vector1 must sum to 1 and be positive\"\n",
    "        assert np.sum(vec_2_probs) == 1 and all(\n",
    "            vec_2_probs > 0\n",
    "        ), \"Values of vector2 must sum to 1 and be positive\"\n",
    "\n",
    "    # If inputs are valid, compute divergence\n",
    "    m = 0.5 * (vec_1_probs + vec_2_probs)\n",
    "    return 0.5 * KL(vec_1_probs, m) + 0.5 * KL(vec_2_probs, m)\n",
    "\n",
    "\n",
    "def jenson_shannon_sim(vec_1, vec_2, assert_prob=False):\n",
    "    return 1 - jenson_shannon_divergence(vec_1, vec_2)"
   ]
  },
  {
   "cell_type": "code",
   "execution_count": 83,
   "metadata": {
    "deletable": false,
    "editable": false,
    "nbgrader": {
     "cell_type": "code",
     "checksum": "ab340aa941c9fb5c89b3fd0a9139e246",
     "grade": true,
     "grade_id": "cell-487c6d2933f38053",
     "locked": true,
     "points": 5,
     "schema_version": 3,
     "solution": false,
     "task": false
    }
   },
   "outputs": [
    {
     "data": {
      "text/plain": [
       "0.9251064410358459"
      ]
     },
     "execution_count": 83,
     "metadata": {},
     "output_type": "execute_result"
    }
   ],
   "source": [
    "##### Function check\n",
    "vec_1 = [(1, 0.3), (2, 0.4), (3, 0.3)]\n",
    "vec_2 = [(1, 0.1), (2, 0.7), (3, 0.2)]\n",
    "jenson_shannon_sim(vec_1, vec_2, assert_prob=True)\n",
    "##### "
   ]
  },
  {
   "cell_type": "markdown",
   "metadata": {
    "deletable": false,
    "editable": false,
    "nbgrader": {
     "cell_type": "markdown",
     "checksum": "0a1583a5f23e3390038331cce67f5d8e",
     "grade": false,
     "grade_id": "cell-4535cc67a50b80fa",
     "locked": true,
     "schema_version": 3,
     "solution": false,
     "task": false
    }
   },
   "source": [
    "---\n",
    "### Section 7.2: LDA retrieval (5 points) <a class=\"anchor\" id=\"lda_ret\"></a>\n",
    "\n",
    "Implement the `train_model` method in the following class (note that this is only one line of code in `gensim`!). Ensure that the parameters defined in the `__init__` method are not changed, and are *used in the `train_method` function*. You do not need to set this. Normally, the hyperaparameter space will be searched using grid search / other methods. Note that training the LDA model might take some time\n",
    "\n",
    "The last two lines of code train an LDA model on the list of documents which have been stemmed, lower-cased and have stopwords removed. "
   ]
  },
  {
   "cell_type": "code",
   "execution_count": 84,
   "metadata": {
    "deletable": false,
    "nbgrader": {
     "cell_type": "code",
     "checksum": "27de8e4fa85536bb396b73bfc51b3f50",
     "grade": false,
     "grade_id": "cell-021a48dff4a8bb91",
     "locked": false,
     "schema_version": 3,
     "solution": true,
     "task": false
    }
   },
   "outputs": [],
   "source": [
    "# TODO: Implement this! (5 points)\n",
    "class LdaRetrievalModel(VectorSpaceRetrievalModel):\n",
    "    def __init__(self, doc_repr):\n",
    "        super().__init__(doc_repr)\n",
    "\n",
    "        # use these parameters in the train_model method\n",
    "        self.num_topics = 100\n",
    "        self.chunksize = 2000\n",
    "        self.passes = 20\n",
    "        self.iterations = 400\n",
    "        self.eval_every = 10\n",
    "        # this is need to get full vectors\n",
    "        self.minimum_probability = 0.0\n",
    "        self.alpha = \"auto\"\n",
    "        self.eta = \"auto\"\n",
    "\n",
    "    def train_model(self):\n",
    "        # YOUR CODE HERE\n",
    "        self.model = LdaModel(\n",
    "            corpus=self.corpus,\n",
    "            id2word=self.id2word,\n",
    "            num_topics=self.num_topics,\n",
    "            chunksize=self.chunksize,\n",
    "            passes=self.passes,\n",
    "            iterations=self.iterations,\n",
    "            eval_every=self.eval_every,\n",
    "            minimum_probability=self.minimum_probability,\n",
    "            alpha=self.alpha,\n",
    "            eta=self.eta,\n",
    "        )"
   ]
  },
  {
   "cell_type": "code",
   "execution_count": 85,
   "metadata": {
    "deletable": false,
    "editable": false,
    "nbgrader": {
     "cell_type": "code",
     "checksum": "be70fcb8098d0b6ce64cd2a10e6a05b7",
     "grade": true,
     "grade_id": "cell-86750b715f0345fd",
     "locked": true,
     "points": 0,
     "schema_version": 3,
     "solution": false,
     "task": false
    }
   },
   "outputs": [
    {
     "name": "stderr",
     "output_type": "stream",
     "text": [
      "2022-02-28 17:53:02,308 : INFO : adding document #0 to Dictionary(0 unique tokens: [])\n",
      "2022-02-28 17:53:02,468 : INFO : built Dictionary(5937 unique tokens: ['-', 'algebra', 'intern', 'languag', 'preliminari']...) from 3204 documents (total 115969 corpus positions)\n",
      "2022-02-28 17:53:02,475 : INFO : discarding 4740 tokens: [('repeat', 8), ('glossari', 7), ('inspect', 8), ('uncol', 2), ('rung', 9), ('secant', 2), ('.', 1603), ('acceler', 6), ('diverg', 3), ('induc', 9)]...\n",
      "2022-02-28 17:53:02,476 : INFO : keeping 1197 tokens which were in no less than 10 and no more than 1602 (=50.0%) documents\n",
      "2022-02-28 17:53:02,481 : INFO : resulting dictionary: Dictionary(1197 unique tokens: ['-', 'algebra', 'intern', 'languag', 'preliminari']...)\n",
      "2022-02-28 17:53:02,560 : INFO : using autotuned alpha, starting with [0.01, 0.01, 0.01, 0.01, 0.01, 0.01, 0.01, 0.01, 0.01, 0.01, 0.01, 0.01, 0.01, 0.01, 0.01, 0.01, 0.01, 0.01, 0.01, 0.01, 0.01, 0.01, 0.01, 0.01, 0.01, 0.01, 0.01, 0.01, 0.01, 0.01, 0.01, 0.01, 0.01, 0.01, 0.01, 0.01, 0.01, 0.01, 0.01, 0.01, 0.01, 0.01, 0.01, 0.01, 0.01, 0.01, 0.01, 0.01, 0.01, 0.01, 0.01, 0.01, 0.01, 0.01, 0.01, 0.01, 0.01, 0.01, 0.01, 0.01, 0.01, 0.01, 0.01, 0.01, 0.01, 0.01, 0.01, 0.01, 0.01, 0.01, 0.01, 0.01, 0.01, 0.01, 0.01, 0.01, 0.01, 0.01, 0.01, 0.01, 0.01, 0.01, 0.01, 0.01, 0.01, 0.01, 0.01, 0.01, 0.01, 0.01, 0.01, 0.01, 0.01, 0.01, 0.01, 0.01, 0.01, 0.01, 0.01, 0.01]\n",
      "2022-02-28 17:53:02,561 : INFO : using serial LDA version on this node\n",
      "2022-02-28 17:53:02,575 : INFO : running online (multi-pass) LDA training, 100 topics, 20 passes over the supplied corpus of 3204 documents, updating model once every 2000 documents, evaluating perplexity every 3204 documents, iterating 400x with a convergence threshold of 0.001000\n",
      "2022-02-28 17:53:02,579 : INFO : PROGRESS: pass 0, at document #2000/3204\n",
      "2022-02-28 17:53:04,256 : INFO : optimized alpha [0.0097842375, 0.009930018, 0.009805035, 0.0098517565, 0.009862143, 0.009810013, 0.009825978, 0.009810131, 0.009789352, 0.009799489, 0.009810411, 0.009773871, 0.009861562, 0.009872477, 0.009794543, 0.009784047, 0.009789443, 0.0097994525, 0.00980492, 0.009815378, 0.009825415, 0.009774008, 0.009908688, 0.009763645, 0.009811102, 0.009903469, 0.009820808, 0.009799663, 0.009820736, 0.009830932, 0.009846482, 0.009809979, 0.009893096, 0.009840823, 0.009779169, 0.0099444445, 0.009794541, 0.009953233, 0.009871993, 0.009867189, 0.009810326, 0.009951667, 0.009841471, 0.009990283, 0.009851257, 0.009810005, 0.009825773, 0.00982523, 0.009799693, 0.0097894175, 0.009794586, 0.009784269, 0.009784341, 0.009825807, 0.009784485, 0.009768768, 0.009815425, 0.010013487, 0.009784185, 0.009877806, 0.00988769, 0.009904146, 0.00986214, 0.009877713, 0.009835374, 0.009788663, 0.009886651, 0.009856396, 0.009826118, 0.009841094, 0.009774028, 0.009799663, 0.009799629, 0.009784463, 0.009768687, 0.009836624, 0.009794511, 0.0098049035, 0.009851928, 0.009815657, 0.009810126, 0.009851947, 0.009835866, 0.009836298, 0.009784075, 0.009794624, 0.009846433, 0.00982618, 0.009779067, 0.009799719, 0.009815047, 0.0097833285, 0.00986697, 0.009836695, 0.009794665, 0.0098410845, 0.010008111, 0.00979978, 0.009830604, 0.00982039]\n",
      "2022-02-28 17:53:04,261 : INFO : merging changes from 2000 documents into a model of 3204 documents\n",
      "2022-02-28 17:53:04,268 : INFO : topic #16 (0.010): 0.054*\",\" + 0.032*\"-\" + 0.030*\"program\" + 0.029*\"oper\" + 0.029*\"\"\" + 0.024*\"comput\" + 0.021*\"subroutin\" + 0.021*\"process\" + 0.016*\"record\" + 0.016*\"properti\"\n",
      "2022-02-28 17:53:04,269 : INFO : topic #88 (0.010): 0.045*\"alloc\" + 0.045*\"storag\" + 0.045*\"system\" + 0.045*\"-\" + 0.034*\"charact\" + 0.034*\"provid\" + 0.034*\"facil\" + 0.028*\"(\" + 0.022*\"hardwar\" + 0.022*\"american\"\n",
      "2022-02-28 17:53:04,270 : INFO : topic #41 (0.010): 0.062*\",\" + 0.032*\"program\" + 0.019*\"(\" + 0.017*\"gener\" + 0.017*\"method\" + 0.015*\"languag\" + 0.015*\"memori\" + 0.014*\"algorithm\" + 0.014*\"process\" + 0.014*\"-\"\n",
      "2022-02-28 17:53:04,271 : INFO : topic #43 (0.010): 0.059*\",\" + 0.035*\"algorithm\" + 0.035*\"(\" + 0.024*\"comput\" + 0.021*\"-\" + 0.020*\"[\" + 0.019*\"])\" + 0.015*\"method\" + 0.015*\"gener\" + 0.015*\")\"\n",
      "2022-02-28 17:53:04,272 : INFO : topic #96 (0.010): 0.065*\",\" + 0.047*\"-\" + 0.023*\"system\" + 0.021*\"(\" + 0.017*\"data\" + 0.014*\"process\" + 0.014*\"comput\" + 0.013*\")\" + 0.013*\"time\" + 0.013*\"program\"\n",
      "2022-02-28 17:53:04,273 : INFO : topic diff=82.261978, rho=1.000000\n",
      "2022-02-28 17:53:05,587 : INFO : -7.310 per-word bound, 158.7 perplexity estimate based on a held-out corpus of 1204 documents with 49783 words\n",
      "2022-02-28 17:53:05,588 : INFO : PROGRESS: pass 0, at document #3204/3204\n",
      "2022-02-28 17:53:06,598 : INFO : optimized alpha [0.00970794, 0.01023458, 0.009911215, 0.009940483, 0.009980829, 0.009933221, 0.010127899, 0.010098523, 0.009683384, 0.010028347, 0.010094447, 0.009809205, 0.009884069, 0.010265639, 0.009776784, 0.009783573, 0.009847635, 0.009740663, 0.009991602, 0.009956755, 0.009800849, 0.009785322, 0.010213418, 0.0097856335, 0.0101047885, 0.010236954, 0.010014794, 0.009729056, 0.010027093, 0.00988975, 0.009982117, 0.009922329, 0.010036261, 0.010070567, 0.010012976, 0.010092604, 0.010034547, 0.010177738, 0.009859753, 0.010009263, 0.010068594, 0.010155314, 0.010261587, 0.009926588, 0.010034846, 0.009874852, 0.009866941, 0.009771843, 0.0098173935, 0.009841445, 0.009957764, 0.009936608, 0.009914029, 0.009931877, 0.009896493, 0.009894604, 0.009940018, 0.010350476, 0.009795989, 0.010292518, 0.009839197, 0.010136887, 0.010117786, 0.010210567, 0.009953098, 0.009899786, 0.009849091, 0.009831839, 0.009945265, 0.009787354, 0.009668595, 0.010074854, 0.009659025, 0.009920382, 0.009761683, 0.010200398, 0.009800652, 0.009992072, 0.009828753, 0.010057361, 0.010009769, 0.009935522, 0.010145299, 0.010084744, 0.009730337, 0.010123744, 0.010183984, 0.0099817095, 0.009796462, 0.00996449, 0.009937522, 0.009934347, 0.010009622, 0.010157221, 0.00992266, 0.009834872, 0.0104363365, 0.010041178, 0.009888769, 0.009808836]\n",
      "2022-02-28 17:53:06,604 : INFO : merging changes from 1204 documents into a model of 3204 documents\n",
      "2022-02-28 17:53:06,612 : INFO : topic #72 (0.010): 0.053*\"map\" + 0.043*\"\"\" + 0.043*\"connect\" + 0.030*\"chain\" + 0.030*\"algorithm\" + 0.028*\"compil\" + 0.027*\"method\" + 0.026*\"problem\" + 0.026*\"algol\" + 0.024*\"time\"\n",
      "2022-02-28 17:53:06,613 : INFO : topic #8 (0.010): 0.107*\"link\" + 0.044*\"list\" + 0.043*\"structur\" + 0.043*\"faster\" + 0.040*\"constrain\" + 0.040*\"low\" + 0.035*\",\" + 0.033*\"(\" + 0.030*\"algorithm\" + 0.025*\"-\"\n",
      "2022-02-28 17:53:06,615 : INFO : topic #59 (0.010): 0.067*\",\" + 0.027*\"program\" + 0.025*\"local\" + 0.024*\"-\" + 0.023*\"languag\" + 0.019*\"comput\" + 0.017*\"system\" + 0.016*\"driven\" + 0.014*\"human\" + 0.014*\"process\"\n",
      "2022-02-28 17:53:06,616 : INFO : topic #57 (0.010): 0.075*\",\" + 0.052*\"-\" + 0.024*\"system\" + 0.020*\"(\" + 0.017*\")\" + 0.015*\"program\" + 0.011*\"pars\" + 0.011*\"algorithm\" + 0.010*\"languag\" + 0.010*\"time\"\n",
      "2022-02-28 17:53:06,618 : INFO : topic #96 (0.010): 0.071*\",\" + 0.051*\"-\" + 0.028*\"data\" + 0.027*\"system\" + 0.015*\"(\" + 0.014*\"time\" + 0.013*\"structur\" + 0.013*\"base\" + 0.013*\"process\" + 0.012*\"model\"\n",
      "2022-02-28 17:53:06,619 : INFO : topic diff=0.766414, rho=0.707107\n",
      "2022-02-28 17:53:06,627 : INFO : PROGRESS: pass 1, at document #2000/3204\n",
      "2022-02-28 17:53:07,748 : INFO : optimized alpha [0.009669615, 0.010190694, 0.0098986905, 0.009914606, 0.009946741, 0.010015367, 0.010115512, 0.010052982, 0.009619877, 0.010261851, 0.010114532, 0.010021914, 0.009842891, 0.010190275, 0.0097506195, 0.009832173, 0.009851428, 0.009772608, 0.009916026, 0.009874426, 0.00985799, 0.00984769, 0.010205329, 0.009887775, 0.01000531, 0.010214461, 0.009938937, 0.0097474195, 0.010082434, 0.009854194, 0.010035256, 0.009946804, 0.009941835, 0.010104185, 0.009979427, 0.010026268, 0.01004082, 0.01027639, 0.009767009, 0.010017569, 0.0100373775, 0.010079993, 0.010153205, 0.009829395, 0.009982984, 0.009826006, 0.009786919, 0.010089354, 0.009813748, 0.009795523, 0.009925718, 0.009936685, 0.010017157, 0.009861015, 0.009817982, 0.009875765, 0.009855678, 0.010299146, 0.009771922, 0.01025201, 0.009825953, 0.010105967, 0.010067417, 0.010130773, 0.009860482, 0.009860584, 0.009798418, 0.0097838575, 0.009850393, 0.009829213, 0.009587374, 0.00998934, 0.009683185, 0.009947894, 0.0103556, 0.010182146, 0.009860425, 0.009969731, 0.009795239, 0.010024009, 0.009934218, 0.009909999, 0.010020505, 0.010053158, 0.009771377, 0.010023671, 0.010156071, 0.009910003, 0.0098064765, 0.009932185, 0.010033283, 0.0100133605, 0.009915939, 0.010089906, 0.009917494, 0.009815712, 0.010349216, 0.009940696, 0.009807685, 0.009758946]\n",
      "2022-02-28 17:53:07,758 : INFO : merging changes from 2000 documents into a model of 3204 documents\n",
      "2022-02-28 17:53:07,767 : INFO : topic #70 (0.010): 0.100*\"data\" + 0.082*\"eigenvalu\" + 0.078*\"constant\" + 0.051*\"string\" + 0.033*\"declar\" + 0.025*\"direct\" + 0.024*\"unknown\" + 0.023*\",\" + 0.022*\"resolv\" + 0.021*\"-\"\n",
      "2022-02-28 17:53:07,768 : INFO : topic #0 (0.010): 0.065*\"chebyshev\" + 0.053*\"algorithm\" + 0.047*\"stabl\" + 0.045*\"sort\" + 0.044*\"gaussian\" + 0.042*\"simultan\" + 0.042*\"decomposit\" + 0.031*\"(\" + 0.031*\"'\" + 0.028*\"row\"\n",
      "2022-02-28 17:53:07,772 : INFO : topic #37 (0.010): 0.106*\"(\" + 0.087*\"algorithm\" + 0.074*\"[\" + 0.062*\")\" + 0.037*\"])\" + 0.032*\"]\" + 0.025*\"queri\" + 0.023*\"function\" + 0.023*\",\" + 0.016*\"s14\"\n",
      "2022-02-28 17:53:07,774 : INFO : topic #74 (0.010): 0.290*\")\" + 0.278*\"(\" + 0.257*\"algorithm\" + 0.036*\"path\" + 0.027*\"seri\" + 0.020*\"bessel\" + 0.019*\"5\" + 0.017*\"critic\" + 0.016*\"40\" + 0.010*\",\"\n",
      "2022-02-28 17:53:07,776 : INFO : topic #96 (0.010): 0.075*\",\" + 0.050*\"-\" + 0.028*\"data\" + 0.028*\"system\" + 0.017*\"process\" + 0.015*\"time\" + 0.014*\"inform\" + 0.013*\"structur\" + 0.013*\"(\" + 0.013*\"\"\"\n",
      "2022-02-28 17:53:07,780 : INFO : topic diff=0.319091, rho=0.526900\n",
      "2022-02-28 17:53:09,035 : INFO : -6.905 per-word bound, 119.9 perplexity estimate based on a held-out corpus of 1204 documents with 49783 words\n",
      "2022-02-28 17:53:09,035 : INFO : PROGRESS: pass 1, at document #3204/3204\n",
      "2022-02-28 17:53:10,098 : INFO : optimized alpha [0.0096849855, 0.010309419, 0.010008747, 0.0100295935, 0.010036194, 0.010169077, 0.010338988, 0.010346009, 0.009627645, 0.010492002, 0.0104505485, 0.010435566, 0.0098608425, 0.010418854, 0.009869889, 0.010006943, 0.010000183, 0.00981755, 0.01010851, 0.010028629, 0.009896995, 0.010013643, 0.010466226, 0.010081743, 0.010270504, 0.010396584, 0.010167515, 0.009813902, 0.01025438, 0.009960277, 0.010109336, 0.010034258, 0.010044528, 0.010311632, 0.010203884, 0.010203909, 0.010385763, 0.010570808, 0.009840083, 0.010115011, 0.010244239, 0.010205251, 0.010389363, 0.009795991, 0.010160764, 0.009910427, 0.00987185, 0.01008937, 0.009958573, 0.009926035, 0.010123689, 0.010125029, 0.010196976, 0.0099716345, 0.009954432, 0.010056978, 0.009953616, 0.010413345, 0.009877079, 0.010565698, 0.009867009, 0.01024768, 0.010231664, 0.01030448, 0.009966445, 0.010000721, 0.0097827045, 0.009790098, 0.009944049, 0.0098561905, 0.0095917955, 0.0103378305, 0.009673347, 0.010112162, 0.010975906, 0.010448882, 0.009856395, 0.010118293, 0.009842207, 0.010236502, 0.010118928, 0.010012527, 0.010101971, 0.010247268, 0.009874967, 0.010293915, 0.01051926, 0.01001322, 0.009946417, 0.010108443, 0.010136104, 0.010205202, 0.010088831, 0.010267888, 0.010100842, 0.0098345475, 0.010584771, 0.010143841, 0.009887378, 0.009739481]\n",
      "2022-02-28 17:53:10,112 : INFO : merging changes from 1204 documents into a model of 3204 documents\n",
      "2022-02-28 17:53:10,120 : INFO : topic #70 (0.010): 0.139*\"constant\" + 0.101*\"data\" + 0.079*\"eigenvalu\" + 0.070*\"string\" + 0.041*\"direct\" + 0.029*\"unknown\" + 0.028*\"resolv\" + 0.024*\"declar\" + 0.024*\"resid\" + 0.023*\"oper\"\n",
      "2022-02-28 17:53:10,125 : INFO : topic #8 (0.010): 0.152*\"link\" + 0.062*\"list\" + 0.060*\"low\" + 0.050*\"faster\" + 0.038*\"structur\" + 0.035*\"^\" + 0.034*\",\" + 0.032*\"constrain\" + 0.031*\"-\" + 0.028*\"lisp\"\n",
      "2022-02-28 17:53:10,128 : INFO : topic #37 (0.011): 0.108*\"(\" + 0.107*\"[\" + 0.105*\"]\" + 0.094*\"algorithm\" + 0.083*\")\" + 0.042*\"queri\" + 0.024*\"function\" + 0.016*\"])\" + 0.016*\",\" + 0.016*\"spline\"\n",
      "2022-02-28 17:53:10,131 : INFO : topic #96 (0.011): 0.079*\",\" + 0.053*\"-\" + 0.034*\"data\" + 0.031*\"system\" + 0.017*\"base\" + 0.015*\"process\" + 0.014*\"structur\" + 0.014*\"time\" + 0.014*\"model\" + 0.014*\"perform\"\n",
      "2022-02-28 17:53:10,132 : INFO : topic #74 (0.011): 0.312*\"(\" + 0.308*\")\" + 0.258*\"algorithm\" + 0.034*\"path\" + 0.018*\"5\" + 0.015*\"seri\" + 0.011*\"critic\" + 0.010*\"40\" + 0.009*\"bessel\" + 0.007*\",\"\n",
      "2022-02-28 17:53:10,138 : INFO : topic diff=0.451117, rho=0.526900\n",
      "2022-02-28 17:53:10,161 : INFO : PROGRESS: pass 2, at document #2000/3204\n",
      "2022-02-28 17:53:11,239 : INFO : optimized alpha [0.00966868, 0.010285145, 0.01000232, 0.010016156, 0.010023073, 0.010280002, 0.010368384, 0.010314978, 0.009598626, 0.010692183, 0.010521955, 0.010696264, 0.009810056, 0.010357809, 0.009935026, 0.010100834, 0.010085379, 0.009857466, 0.010069135, 0.009974445, 0.0100012915, 0.010186738, 0.0105088195, 0.010250108, 0.01018739, 0.010387955, 0.010112957, 0.009869755, 0.010329213, 0.009940675, 0.010225552, 0.010093354, 0.009962134, 0.010344619, 0.0102179125, 0.01015415, 0.010463704, 0.010611067, 0.009806331, 0.010179875, 0.010220033, 0.010146303, 0.010301713, 0.009728161, 0.010135556, 0.009884405, 0.009816347, 0.010512719, 0.009975669, 0.009906349, 0.010141936, 0.010147689, 0.010367166, 0.009925935, 0.009910995, 0.010053342, 0.009880079, 0.0103629315, 0.00989517, 0.010514049, 0.009921402, 0.010234338, 0.010195832, 0.010245459, 0.009901995, 0.009991579, 0.009786431, 0.009749467, 0.009866214, 0.00996168, 0.009552126, 0.010294302, 0.0097369645, 0.010164414, 0.01207272, 0.010470154, 0.00997775, 0.010121723, 0.009890816, 0.010231894, 0.010065665, 0.010023226, 0.010015498, 0.0102541335, 0.00996429, 0.010212686, 0.010492878, 0.009974297, 0.009985067, 0.0101123275, 0.01026773, 0.010320407, 0.010019815, 0.010224554, 0.010123489, 0.009849026, 0.010495795, 0.010075695, 0.0098449, 0.009725507]\n",
      "2022-02-28 17:53:11,245 : INFO : merging changes from 2000 documents into a model of 3204 documents\n",
      "2022-02-28 17:53:11,251 : INFO : topic #70 (0.010): 0.114*\"constant\" + 0.086*\"data\" + 0.077*\"string\" + 0.072*\"eigenvalu\" + 0.042*\"calcul\" + 0.038*\"direct\" + 0.034*\"declar\" + 0.026*\"unknown\" + 0.024*\"resolv\" + 0.021*\",\"\n",
      "2022-02-28 17:53:11,252 : INFO : topic #8 (0.010): 0.139*\"link\" + 0.068*\"list\" + 0.052*\"low\" + 0.040*\"lisp\" + 0.038*\"faster\" + 0.037*\"^\" + 0.037*\"structur\" + 0.036*\",\" + 0.035*\"-\" + 0.034*\"write\"\n",
      "2022-02-28 17:53:11,253 : INFO : topic #9 (0.011): 0.138*\"equat\" + 0.117*\"(\" + 0.104*\"solut\" + 0.092*\")\" + 0.062*\"differenti\" + 0.045*\"-\" + 0.040*\"linear\" + 0.038*\"algorithm\" + 0.038*\"method\" + 0.036*\"numer\"\n",
      "2022-02-28 17:53:11,254 : INFO : topic #11 (0.011): 0.203*\"function\" + 0.103*\"order\" + 0.090*\"set\" + 0.070*\"find\" + 0.049*\"integ\" + 0.048*\"algorithm\" + 0.036*\"(\" + 0.031*\"minim\" + 0.030*\"kind\" + 0.029*\"partial\"\n",
      "2022-02-28 17:53:11,254 : INFO : topic #74 (0.012): 0.331*\")\" + 0.331*\"(\" + 0.256*\"algorithm\" + 0.019*\"path\" + 0.010*\"bessel\" + 0.010*\"seri\" + 0.009*\"5\" + 0.008*\"40\" + 0.008*\"critic\" + 0.005*\",\"\n",
      "2022-02-28 17:53:11,255 : INFO : topic diff=0.421636, rho=0.466151\n",
      "2022-02-28 17:53:12,301 : INFO : -6.786 per-word bound, 110.4 perplexity estimate based on a held-out corpus of 1204 documents with 49783 words\n",
      "2022-02-28 17:53:12,302 : INFO : PROGRESS: pass 2, at document #3204/3204\n",
      "2022-02-28 17:53:13,379 : INFO : optimized alpha [0.00972525, 0.010382197, 0.010100345, 0.010126458, 0.010115119, 0.010448783, 0.010576803, 0.010630889, 0.009622477, 0.0109267365, 0.010879516, 0.011193106, 0.009827874, 0.010545422, 0.010142371, 0.010387178, 0.010257071, 0.0099476045, 0.010256496, 0.010131472, 0.010090008, 0.010377894, 0.0107426625, 0.010498782, 0.010433019, 0.010541669, 0.010332704, 0.009974899, 0.010466138, 0.010050928, 0.010310577, 0.010210039, 0.010085729, 0.010541795, 0.010426668, 0.010352309, 0.010857792, 0.010884121, 0.009964344, 0.01028645, 0.010408491, 0.010301824, 0.010496214, 0.0097403135, 0.010278304, 0.009994768, 0.009930971, 0.010469414, 0.010155559, 0.010053611, 0.010349612, 0.010331488, 0.010547206, 0.010032518, 0.010059635, 0.010254085, 0.009979533, 0.01041565, 0.010023705, 0.010791019, 0.010008589, 0.010364442, 0.01034618, 0.010416402, 0.010019961, 0.010120344, 0.009824221, 0.009779852, 0.009950152, 0.010031747, 0.00958798, 0.010656708, 0.009816377, 0.010338608, 0.013002915, 0.010721929, 0.009984997, 0.010285654, 0.010022649, 0.010397562, 0.010269997, 0.010141887, 0.01007735, 0.010398479, 0.010083131, 0.010438389, 0.010861683, 0.010078296, 0.010121406, 0.010312672, 0.010397775, 0.010523664, 0.010209564, 0.010362883, 0.0103108315, 0.009882036, 0.010697899, 0.010257238, 0.009943593, 0.00972946]\n",
      "2022-02-28 17:53:13,387 : INFO : merging changes from 1204 documents into a model of 3204 documents\n",
      "2022-02-28 17:53:13,403 : INFO : topic #8 (0.010): 0.159*\"link\" + 0.075*\"list\" + 0.068*\"low\" + 0.049*\"faster\" + 0.044*\"^\" + 0.038*\"lisp\" + 0.038*\"structur\" + 0.036*\",\" + 0.034*\"-\" + 0.032*\"constrain\"\n",
      "2022-02-28 17:53:13,409 : INFO : topic #70 (0.010): 0.147*\"constant\" + 0.081*\"string\" + 0.076*\"data\" + 0.070*\"eigenvalu\" + 0.053*\"direct\" + 0.034*\"calcul\" + 0.032*\"consid\" + 0.030*\"resolv\" + 0.030*\"unknown\" + 0.027*\"resid\"\n",
      "2022-02-28 17:53:13,411 : INFO : topic #9 (0.011): 0.151*\"equat\" + 0.116*\"(\" + 0.112*\"solut\" + 0.094*\")\" + 0.065*\"differenti\" + 0.044*\"-\" + 0.041*\"corrigendum\" + 0.041*\"linear\" + 0.036*\"method\" + 0.035*\"algorithm\"\n",
      "2022-02-28 17:53:13,418 : INFO : topic #11 (0.011): 0.201*\"function\" + 0.125*\"order\" + 0.101*\"set\" + 0.081*\"find\" + 0.046*\"integ\" + 0.045*\"algorithm\" + 0.037*\"minim\" + 0.032*\"complet\" + 0.031*\"partial\" + 0.030*\"(\"\n",
      "2022-02-28 17:53:13,423 : INFO : topic #74 (0.013): 0.348*\"(\" + 0.336*\")\" + 0.248*\"algorithm\" + 0.021*\"path\" + 0.009*\"5\" + 0.007*\"40\" + 0.006*\"bessel\" + 0.006*\"seri\" + 0.005*\"critic\" + 0.004*\",\"\n",
      "2022-02-28 17:53:13,425 : INFO : topic diff=0.567130, rho=0.466151\n",
      "2022-02-28 17:53:13,443 : INFO : PROGRESS: pass 3, at document #2000/3204\n",
      "2022-02-28 17:53:14,513 : INFO : optimized alpha [0.009721566, 0.010362744, 0.010103232, 0.010127421, 0.010114495, 0.010565638, 0.010641268, 0.010617748, 0.009609942, 0.011106573, 0.010987079, 0.011485033, 0.009800472, 0.010498334, 0.0102508785, 0.010529739, 0.010363112, 0.009994575, 0.01024608, 0.01010798, 0.010208858, 0.010575118, 0.010805557, 0.010678319, 0.010373781, 0.010551385, 0.010290545, 0.010051074, 0.010536314, 0.010046165, 0.010447679, 0.010276764, 0.010024595, 0.010570752, 0.0104428455, 0.010343654, 0.010959196, 0.010900022, 0.009952516, 0.010378593, 0.010392145, 0.010250245, 0.01041832, 0.009693681, 0.010287808, 0.009977835, 0.009898059, 0.0108939605, 0.010228465, 0.010050273, 0.010384913, 0.010364506, 0.010714919, 0.010000112, 0.010049957, 0.010260425, 0.00993069, 0.0103759235, 0.010076091, 0.010746316, 0.010096663, 0.010361061, 0.010331169, 0.0103712315, 0.009966329, 0.010125033, 0.00983906, 0.009756928, 0.00989788, 0.010179516, 0.009575864, 0.010640629, 0.009912337, 0.010398949, 0.01428977, 0.010762902, 0.010136673, 0.010305551, 0.010142053, 0.010410524, 0.010225008, 0.010168834, 0.010009523, 0.010413126, 0.010183819, 0.010365674, 0.010861733, 0.010056483, 0.0101691885, 0.010347903, 0.010540082, 0.01065756, 0.01016138, 0.010339141, 0.010334963, 0.0098982025, 0.0106209405, 0.010199167, 0.009937386, 0.009734907]\n",
      "2022-02-28 17:53:14,520 : INFO : merging changes from 2000 documents into a model of 3204 documents\n",
      "2022-02-28 17:53:14,527 : INFO : topic #70 (0.010): 0.122*\"constant\" + 0.077*\"calcul\" + 0.077*\"string\" + 0.065*\"eigenvalu\" + 0.065*\"data\" + 0.048*\"direct\" + 0.033*\"declar\" + 0.029*\"unknown\" + 0.026*\"consid\" + 0.026*\"resolv\"\n",
      "2022-02-28 17:53:14,528 : INFO : topic #8 (0.010): 0.149*\"link\" + 0.080*\"list\" + 0.057*\"low\" + 0.048*\"lisp\" + 0.041*\"^\" + 0.039*\"faster\" + 0.037*\",\" + 0.037*\"structur\" + 0.036*\"-\" + 0.033*\"write\"\n",
      "2022-02-28 17:53:14,529 : INFO : topic #9 (0.011): 0.164*\"equat\" + 0.122*\"solut\" + 0.099*\"(\" + 0.076*\")\" + 0.066*\"differenti\" + 0.046*\"-\" + 0.045*\"numer\" + 0.041*\"method\" + 0.036*\"linear\" + 0.031*\"algorithm\"\n",
      "2022-02-28 17:53:14,531 : INFO : topic #11 (0.011): 0.233*\"function\" + 0.107*\"order\" + 0.102*\"set\" + 0.075*\"find\" + 0.049*\"integ\" + 0.039*\"algorithm\" + 0.033*\"minim\" + 0.030*\"complet\" + 0.029*\"partial\" + 0.029*\"kind\"\n",
      "2022-02-28 17:53:14,533 : INFO : topic #74 (0.014): 0.354*\"(\" + 0.347*\")\" + 0.243*\"algorithm\" + 0.015*\"path\" + 0.008*\"bessel\" + 0.006*\"40\" + 0.006*\"seri\" + 0.005*\"5\" + 0.005*\"critic\" + 0.003*\",\"\n",
      "2022-02-28 17:53:14,534 : INFO : topic diff=0.571670, rho=0.422502\n",
      "2022-02-28 17:53:15,595 : INFO : -6.701 per-word bound, 104.0 perplexity estimate based on a held-out corpus of 1204 documents with 49783 words\n",
      "2022-02-28 17:53:15,596 : INFO : PROGRESS: pass 3, at document #3204/3204\n",
      "2022-02-28 17:53:16,436 : INFO : optimized alpha [0.009770364, 0.010455162, 0.01019996, 0.010246338, 0.010216874, 0.010723636, 0.0108594075, 0.010928391, 0.009656456, 0.011333083, 0.011335219, 0.011973178, 0.009828484, 0.010673717, 0.010506929, 0.010881141, 0.010542196, 0.010150729, 0.010439162, 0.010287281, 0.010296464, 0.010754134, 0.011008749, 0.010941448, 0.010621362, 0.010687843, 0.010517094, 0.010175221, 0.010668603, 0.010161297, 0.010553883, 0.010397489, 0.010148382, 0.010743836, 0.010634062, 0.010532232, 0.01136171, 0.011143823, 0.010157351, 0.010508748, 0.010571759, 0.010410708, 0.0105925, 0.009730836, 0.010421841, 0.010100014, 0.010034597, 0.010828993, 0.010440048, 0.010199059, 0.010593748, 0.010561922, 0.010909397, 0.010094359, 0.010196361, 0.010469661, 0.010043157, 0.010417641, 0.010243217, 0.01100815, 0.01019743, 0.010491112, 0.010468676, 0.010542553, 0.010077802, 0.0102679925, 0.009888297, 0.009796189, 0.009985633, 0.010249641, 0.009619561, 0.011017472, 0.010050871, 0.010591447, 0.015458712, 0.010998257, 0.010153082, 0.010448348, 0.010298725, 0.010576566, 0.010401441, 0.010277084, 0.010088428, 0.010551904, 0.010302601, 0.010575979, 0.011234539, 0.010176609, 0.010322131, 0.010535123, 0.010665515, 0.010866515, 0.010381911, 0.010450884, 0.010521133, 0.009928968, 0.010828646, 0.0103656, 0.010045473, 0.009746571]\n",
      "2022-02-28 17:53:16,442 : INFO : merging changes from 1204 documents into a model of 3204 documents\n",
      "2022-02-28 17:53:16,447 : INFO : topic #70 (0.010): 0.147*\"constant\" + 0.078*\"string\" + 0.069*\"direct\" + 0.066*\"eigenvalu\" + 0.065*\"calcul\" + 0.052*\"data\" + 0.038*\"consid\" + 0.031*\"unknown\" + 0.030*\"resolv\" + 0.027*\"resid\"\n",
      "2022-02-28 17:53:16,448 : INFO : topic #8 (0.010): 0.158*\"link\" + 0.083*\"list\" + 0.075*\"low\" + 0.050*\"^\" + 0.049*\"lisp\" + 0.046*\"faster\" + 0.037*\"structur\" + 0.036*\",\" + 0.034*\"-\" + 0.030*\"constrain\"\n",
      "2022-02-28 17:53:16,449 : INFO : topic #10 (0.011): 0.188*\"languag\" + 0.086*\",\" + 0.027*\":\" + 0.025*\"polygon\" + 0.024*\"design\" + 0.023*\"comput\" + 0.022*\"-\" + 0.020*\"paper\" + 0.019*\"packag\" + 0.019*\"issu\"\n",
      "2022-02-28 17:53:16,449 : INFO : topic #11 (0.012): 0.226*\"function\" + 0.128*\"order\" + 0.107*\"set\" + 0.083*\"find\" + 0.044*\"integ\" + 0.038*\"minim\" + 0.038*\"algorithm\" + 0.033*\"complet\" + 0.031*\"partial\" + 0.026*\"kind\"\n",
      "2022-02-28 17:53:16,450 : INFO : topic #74 (0.015): 0.367*\"(\" + 0.349*\")\" + 0.235*\"algorithm\" + 0.016*\"path\" + 0.006*\"40\" + 0.006*\"bessel\" + 0.005*\"5\" + 0.004*\"seri\" + 0.004*\"critic\" + 0.003*\",\"\n",
      "2022-02-28 17:53:16,451 : INFO : topic diff=0.691330, rho=0.422502\n",
      "2022-02-28 17:53:16,460 : INFO : PROGRESS: pass 4, at document #2000/3204\n",
      "2022-02-28 17:53:17,311 : INFO : optimized alpha [0.009781102, 0.010447958, 0.010218795, 0.010267475, 0.010240761, 0.010834378, 0.010946638, 0.010913863, 0.009664604, 0.011514733, 0.011438943, 0.012268469, 0.009818133, 0.010640279, 0.010636466, 0.011044137, 0.01065113, 0.010211702, 0.010455315, 0.010272977, 0.010415134, 0.010962502, 0.011070864, 0.011137519, 0.010592361, 0.010707062, 0.010493168, 0.010251811, 0.0107419165, 0.010185032, 0.010698391, 0.010477572, 0.010098372, 0.010780707, 0.010652479, 0.010531655, 0.011463465, 0.011159289, 0.0101654325, 0.010623322, 0.010564373, 0.010366983, 0.010516229, 0.009698965, 0.010434769, 0.010086413, 0.010008107, 0.011252341, 0.010539969, 0.01020767, 0.010633962, 0.010598064, 0.011076996, 0.010078922, 0.010203078, 0.010476532, 0.01000445, 0.010400926, 0.010305454, 0.010969301, 0.010299397, 0.010506714, 0.010458731, 0.010502501, 0.010032794, 0.010280126, 0.009929775, 0.009774299, 0.009951948, 0.010407647, 0.009635624, 0.010999213, 0.010159839, 0.010651026, 0.016966231, 0.011061437, 0.010310635, 0.010478842, 0.010459061, 0.010596527, 0.010371702, 0.010316188, 0.0100528225, 0.010567399, 0.010414433, 0.010516363, 0.011251266, 0.010172606, 0.010386182, 0.010575347, 0.0108294, 0.010989036, 0.010348433, 0.010437515, 0.01054896, 0.009968194, 0.010765439, 0.010325868, 0.010051728, 0.009764159]\n",
      "2022-02-28 17:53:17,317 : INFO : merging changes from 2000 documents into a model of 3204 documents\n",
      "2022-02-28 17:53:17,323 : INFO : topic #8 (0.010): 0.150*\"link\" + 0.088*\"list\" + 0.065*\"low\" + 0.053*\"lisp\" + 0.046*\"^\" + 0.038*\"faster\" + 0.037*\",\" + 0.036*\"structur\" + 0.036*\"-\" + 0.033*\"write\"\n",
      "2022-02-28 17:53:17,324 : INFO : topic #70 (0.010): 0.123*\"constant\" + 0.118*\"calcul\" + 0.066*\"direct\" + 0.065*\"string\" + 0.061*\"eigenvalu\" + 0.044*\"data\" + 0.032*\"consid\" + 0.030*\"unknown\" + 0.030*\"declar\" + 0.027*\"resolv\"\n",
      "2022-02-28 17:53:17,324 : INFO : topic #9 (0.012): 0.184*\"equat\" + 0.138*\"solut\" + 0.077*\"(\" + 0.071*\"differenti\" + 0.055*\")\" + 0.051*\"numer\" + 0.047*\"-\" + 0.044*\"method\" + 0.034*\"linear\" + 0.033*\"problem\"\n",
      "2022-02-28 17:53:17,325 : INFO : topic #11 (0.012): 0.252*\"function\" + 0.111*\"order\" + 0.106*\"set\" + 0.078*\"find\" + 0.047*\"integ\" + 0.034*\"minim\" + 0.033*\"algorithm\" + 0.031*\"complet\" + 0.029*\"partial\" + 0.028*\"kind\"\n",
      "2022-02-28 17:53:17,326 : INFO : topic #74 (0.017): 0.369*\"(\" + 0.356*\")\" + 0.232*\"algorithm\" + 0.012*\"path\" + 0.007*\"bessel\" + 0.006*\"40\" + 0.004*\"seri\" + 0.004*\"critic\" + 0.003*\"5\" + 0.002*\",\"\n",
      "2022-02-28 17:53:17,327 : INFO : topic diff=0.663571, rho=0.389191\n",
      "2022-02-28 17:53:18,232 : INFO : -6.640 per-word bound, 99.7 perplexity estimate based on a held-out corpus of 1204 documents with 49783 words\n",
      "2022-02-28 17:53:18,232 : INFO : PROGRESS: pass 4, at document #3204/3204\n",
      "2022-02-28 17:53:19,012 : INFO : optimized alpha [0.009845919, 0.010557879, 0.0103154015, 0.010394734, 0.010352774, 0.010984774, 0.011161556, 0.011194579, 0.009727207, 0.011733669, 0.011771219, 0.0127773, 0.009838699, 0.010827717, 0.010932786, 0.01143532, 0.010838847, 0.010383655, 0.010628351, 0.010486744, 0.010499395, 0.011136266, 0.011267498, 0.01140997, 0.010844633, 0.0108338455, 0.010735048, 0.010377024, 0.010868109, 0.010295333, 0.010810417, 0.0106132515, 0.01023341, 0.010931006, 0.010851343, 0.010714136, 0.011867621, 0.011380062, 0.010370109, 0.010750978, 0.010734944, 0.010529935, 0.010657495, 0.009744021, 0.01056627, 0.010209937, 0.010167976, 0.011186501, 0.01074796, 0.0103528155, 0.0108357025, 0.010799278, 0.011276183, 0.010176529, 0.010339092, 0.01068189, 0.010141815, 0.010436997, 0.010471216, 0.011210008, 0.0104027605, 0.010634475, 0.010569211, 0.010665447, 0.010136629, 0.010433151, 0.009991961, 0.009821212, 0.010043611, 0.010478558, 0.009682959, 0.011372193, 0.010295257, 0.010844286, 0.018245524, 0.011332438, 0.010324873, 0.010628587, 0.010642641, 0.010757913, 0.010549514, 0.010436887, 0.01013015, 0.0106995525, 0.010548093, 0.010715642, 0.011610044, 0.010294437, 0.010562027, 0.010742532, 0.010980269, 0.011208923, 0.010561023, 0.010542428, 0.0107394615, 0.010026408, 0.010937498, 0.010497737, 0.010162055, 0.009794997]\n",
      "2022-02-28 17:53:19,018 : INFO : merging changes from 1204 documents into a model of 3204 documents\n",
      "2022-02-28 17:53:19,027 : INFO : topic #8 (0.010): 0.155*\"link\" + 0.092*\"list\" + 0.081*\"low\" + 0.056*\"lisp\" + 0.052*\"^\" + 0.044*\"faster\" + 0.035*\"structur\" + 0.035*\",\" + 0.034*\"run\" + 0.033*\"-\"\n",
      "2022-02-28 17:53:19,029 : INFO : topic #70 (0.010): 0.144*\"constant\" + 0.101*\"calcul\" + 0.084*\"direct\" + 0.064*\"eigenvalu\" + 0.056*\"string\" + 0.043*\"consid\" + 0.038*\"data\" + 0.032*\"unknown\" + 0.030*\"resolv\" + 0.029*\"oper\"\n",
      "2022-02-28 17:53:19,032 : INFO : topic #36 (0.012): 0.151*\"structur\" + 0.115*\"list\" + 0.075*\"definit\" + 0.075*\",\" + 0.059*\"defin\" + 0.055*\"recurs\" + 0.052*\"concept\" + 0.045*\"process\" + 0.037*\"class\" + 0.029*\"previou\"\n",
      "2022-02-28 17:53:19,033 : INFO : topic #11 (0.013): 0.245*\"function\" + 0.131*\"order\" + 0.107*\"set\" + 0.085*\"find\" + 0.044*\"integ\" + 0.040*\"minim\" + 0.033*\"complet\" + 0.031*\"algorithm\" + 0.030*\"partial\" + 0.026*\"kind\"\n",
      "2022-02-28 17:53:19,033 : INFO : topic #74 (0.018): 0.381*\"(\" + 0.357*\")\" + 0.222*\"algorithm\" + 0.013*\"path\" + 0.005*\"bessel\" + 0.005*\"40\" + 0.003*\"critic\" + 0.003*\"5\" + 0.003*\"seri\" + 0.002*\",\"\n",
      "2022-02-28 17:53:19,034 : INFO : topic diff=0.730145, rho=0.389191\n",
      "2022-02-28 17:53:19,045 : INFO : PROGRESS: pass 5, at document #2000/3204\n",
      "2022-02-28 17:53:19,967 : INFO : optimized alpha [0.00985464, 0.010562935, 0.010331361, 0.010427742, 0.010381102, 0.011094888, 0.0112618385, 0.011185241, 0.009730088, 0.011909979, 0.011887441, 0.013080727, 0.009837404, 0.0107997395, 0.011086975, 0.011600485, 0.010951245, 0.010455735, 0.010656596, 0.010481969, 0.010620983, 0.011348699, 0.011329477, 0.011602741, 0.0108595295, 0.010859721, 0.010719066, 0.010467785, 0.010952897, 0.010327021, 0.010960677, 0.010707709, 0.010192452, 0.010969287, 0.010883735, 0.010728731, 0.011981673, 0.011381132, 0.010394019, 0.010870665, 0.010745202, 0.010490703, 0.010590535, 0.009717113, 0.0105840815, 0.010204721, 0.010161393, 0.011597867, 0.010859511, 0.0103606805, 0.0108826235, 0.010842356, 0.011441027, 0.010168115, 0.010349024, 0.010693187, 0.010109353, 0.010412945, 0.0105331065, 0.011178547, 0.010506481, 0.010652941, 0.0105562955, 0.010629822, 0.010097026, 0.010447957, 0.010036755, 0.009805334, 0.010023717, 0.010635661, 0.009717949, 0.011370609, 0.010409165, 0.010907725, 0.019911144, 0.0114012, 0.010484954, 0.01066866, 0.010826193, 0.010778238, 0.010527077, 0.010496434, 0.01011445, 0.010723698, 0.010664963, 0.01065728, 0.011633957, 0.010309635, 0.010629561, 0.0107837375, 0.011159183, 0.01133451, 0.010540283, 0.010543866, 0.010770639, 0.010065459, 0.010882271, 0.010462115, 0.010175516, 0.009826492]\n",
      "2022-02-28 17:53:19,973 : INFO : merging changes from 2000 documents into a model of 3204 documents\n",
      "2022-02-28 17:53:19,981 : INFO : topic #70 (0.010): 0.161*\"calcul\" + 0.120*\"constant\" + 0.077*\"direct\" + 0.058*\"eigenvalu\" + 0.048*\"string\" + 0.036*\"consid\" + 0.033*\"data\" + 0.030*\"unknown\" + 0.027*\"procedur\" + 0.027*\"resolv\"\n",
      "2022-02-28 17:53:19,981 : INFO : topic #43 (0.010): 0.083*\",\" + 0.039*\"comput\" + 0.035*\"mean\" + 0.023*\"standard\" + 0.022*\"analys\" + 0.020*\"pass\" + 0.019*\"bank\" + 0.019*\"variant\" + 0.018*\"govern\" + 0.017*\"wide\"\n",
      "2022-02-28 17:53:19,982 : INFO : topic #36 (0.012): 0.147*\"structur\" + 0.133*\"list\" + 0.078*\"definit\" + 0.072*\",\" + 0.063*\"recurs\" + 0.056*\"defin\" + 0.050*\"concept\" + 0.047*\"process\" + 0.035*\"class\" + 0.025*\"polici\"\n",
      "2022-02-28 17:53:19,983 : INFO : topic #11 (0.013): 0.269*\"function\" + 0.116*\"order\" + 0.104*\"set\" + 0.080*\"find\" + 0.047*\"integ\" + 0.035*\"minim\" + 0.031*\"complet\" + 0.029*\"partial\" + 0.028*\"algorithm\" + 0.027*\"kind\"\n",
      "2022-02-28 17:53:19,983 : INFO : topic #74 (0.020): 0.381*\"(\" + 0.362*\")\" + 0.221*\"algorithm\" + 0.010*\"path\" + 0.006*\"bessel\" + 0.005*\"40\" + 0.003*\"critic\" + 0.002*\"seri\" + 0.002*\"5\" + 0.002*\",\"\n",
      "2022-02-28 17:53:19,984 : INFO : topic diff=0.662444, rho=0.362690\n",
      "2022-02-28 17:53:20,910 : INFO : -6.600 per-word bound, 97.0 perplexity estimate based on a held-out corpus of 1204 documents with 49783 words\n",
      "2022-02-28 17:53:20,911 : INFO : PROGRESS: pass 5, at document #3204/3204\n",
      "2022-02-28 17:53:21,655 : INFO : optimized alpha [0.009927758, 0.010672616, 0.010434716, 0.010560244, 0.01048965, 0.0112427715, 0.011482492, 0.011454589, 0.009795193, 0.012130917, 0.012204143, 0.013606156, 0.009869488, 0.010982894, 0.011400366, 0.012012194, 0.011138451, 0.010643209, 0.010832371, 0.010709217, 0.010725315, 0.011539644, 0.01150803, 0.01187592, 0.011161331, 0.01098214, 0.0109604625, 0.010604302, 0.011074787, 0.010430722, 0.011072203, 0.010841618, 0.0103196055, 0.01110721, 0.011068022, 0.010897286, 0.012383933, 0.01158973, 0.0106064435, 0.010997051, 0.010928731, 0.010656916, 0.010730203, 0.009777983, 0.010707734, 0.010348885, 0.01032439, 0.011531121, 0.011079138, 0.010497285, 0.01106652, 0.01104861, 0.011625476, 0.010263126, 0.01048634, 0.010893479, 0.010257174, 0.010450985, 0.0107084345, 0.011409092, 0.010622449, 0.010773057, 0.010669889, 0.010780031, 0.010191804, 0.010604668, 0.010113565, 0.0098679485, 0.010125386, 0.010710843, 0.009771398, 0.0117259715, 0.010536481, 0.011093178, 0.021335863, 0.011693492, 0.010503798, 0.010828941, 0.011043114, 0.010920377, 0.010710636, 0.010619484, 0.010209023, 0.010851145, 0.010796997, 0.010835259, 0.01198974, 0.010430472, 0.010805112, 0.010941128, 0.011314134, 0.011549294, 0.010766607, 0.010638675, 0.010953556, 0.010126466, 0.011070895, 0.010623995, 0.010285487, 0.009873847]\n",
      "2022-02-28 17:53:21,661 : INFO : merging changes from 1204 documents into a model of 3204 documents\n",
      "2022-02-28 17:53:21,667 : INFO : topic #70 (0.010): 0.142*\"calcul\" + 0.141*\"constant\" + 0.091*\"direct\" + 0.062*\"eigenvalu\" + 0.046*\"consid\" + 0.037*\"string\" + 0.031*\"unknown\" + 0.030*\"resolv\" + 0.029*\"data\" + 0.028*\"oper\"\n",
      "2022-02-28 17:53:21,667 : INFO : topic #8 (0.010): 0.156*\"link\" + 0.097*\"list\" + 0.085*\"low\" + 0.063*\"lisp\" + 0.052*\"^\" + 0.041*\"faster\" + 0.038*\"run\" + 0.035*\",\" + 0.035*\"structur\" + 0.033*\"-\"\n",
      "2022-02-28 17:53:21,668 : INFO : topic #36 (0.012): 0.163*\"structur\" + 0.115*\"list\" + 0.080*\"definit\" + 0.072*\",\" + 0.061*\"defin\" + 0.057*\"recurs\" + 0.052*\"concept\" + 0.045*\"process\" + 0.035*\"class\" + 0.029*\"previou\"\n",
      "2022-02-28 17:53:21,669 : INFO : topic #11 (0.014): 0.263*\"function\" + 0.134*\"order\" + 0.102*\"set\" + 0.086*\"find\" + 0.044*\"integ\" + 0.041*\"minim\" + 0.034*\"complet\" + 0.030*\"partial\" + 0.027*\"algorithm\" + 0.025*\"kind\"\n",
      "2022-02-28 17:53:21,670 : INFO : topic #74 (0.021): 0.393*\"(\" + 0.362*\")\" + 0.213*\"algorithm\" + 0.010*\"path\" + 0.005*\"bessel\" + 0.005*\"40\" + 0.003*\"critic\" + 0.002*\"5\" + 0.001*\"seri\" + 0.001*\",\"\n",
      "2022-02-28 17:53:21,671 : INFO : topic diff=0.687283, rho=0.362690\n",
      "2022-02-28 17:53:21,679 : INFO : PROGRESS: pass 6, at document #2000/3204\n",
      "2022-02-28 17:53:22,592 : INFO : optimized alpha [0.009938128, 0.01067936, 0.010460733, 0.010595096, 0.010514755, 0.011351233, 0.011575745, 0.011446222, 0.009808484, 0.012311754, 0.012320478, 0.01390782, 0.009877626, 0.010961653, 0.011573334, 0.012184681, 0.011250938, 0.010725813, 0.010877148, 0.010712764, 0.010853917, 0.011757458, 0.01157037, 0.012064803, 0.011193087, 0.011014262, 0.010945946, 0.010697635, 0.011181929, 0.010455456, 0.011219374, 0.010936861, 0.010293612, 0.01114704, 0.011107714, 0.010918149, 0.012489218, 0.011585918, 0.010635588, 0.011114757, 0.010945395, 0.010623209, 0.010665639, 0.009761887, 0.010724633, 0.010347327, 0.010326551, 0.011925661, 0.011192707, 0.010508168, 0.0111219715, 0.011086896, 0.011802605, 0.010257269, 0.010497316, 0.010899697, 0.010238676, 0.010429525, 0.010774181, 0.011382314, 0.010735652, 0.010798103, 0.010672604, 0.010748136, 0.01015859, 0.010623804, 0.01015973, 0.009857082, 0.0101121925, 0.01087538, 0.009824912, 0.011729949, 0.010650248, 0.011158624, 0.023159979, 0.01177199, 0.010667077, 0.010872147, 0.011253836, 0.010943266, 0.010692553, 0.010679634, 0.010212087, 0.010881308, 0.010922842, 0.010779921, 0.0120143425, 0.010444883, 0.010870746, 0.010994775, 0.011504467, 0.01167048, 0.010753248, 0.010642297, 0.010991832, 0.010172399, 0.011024143, 0.010586521, 0.010303594, 0.00990916]\n",
      "2022-02-28 17:53:22,598 : INFO : merging changes from 2000 documents into a model of 3204 documents\n",
      "2022-02-28 17:53:22,606 : INFO : topic #43 (0.010): 0.086*\",\" + 0.041*\"comput\" + 0.037*\"mean\" + 0.025*\"standard\" + 0.022*\"analys\" + 0.020*\"pass\" + 0.020*\"wide\" + 0.019*\"bank\" + 0.019*\"variant\" + 0.019*\"govern\"\n",
      "2022-02-28 17:53:22,609 : INFO : topic #70 (0.010): 0.200*\"calcul\" + 0.117*\"constant\" + 0.085*\"direct\" + 0.056*\"eigenvalu\" + 0.038*\"consid\" + 0.034*\"string\" + 0.029*\"unknown\" + 0.028*\"procedur\" + 0.025*\"data\" + 0.025*\"resolv\"\n",
      "2022-02-28 17:53:22,612 : INFO : topic #36 (0.012): 0.158*\"structur\" + 0.131*\"list\" + 0.083*\"definit\" + 0.069*\",\" + 0.063*\"recurs\" + 0.058*\"defin\" + 0.051*\"concept\" + 0.047*\"process\" + 0.033*\"class\" + 0.025*\"polici\"\n",
      "2022-02-28 17:53:22,613 : INFO : topic #11 (0.014): 0.287*\"function\" + 0.120*\"order\" + 0.099*\"set\" + 0.082*\"find\" + 0.047*\"integ\" + 0.037*\"minim\" + 0.032*\"complet\" + 0.029*\"partial\" + 0.027*\"kind\" + 0.025*\"valu\"\n",
      "2022-02-28 17:53:22,615 : INFO : topic #74 (0.023): 0.391*\"(\" + 0.366*\")\" + 0.213*\"algorithm\" + 0.008*\"path\" + 0.006*\"bessel\" + 0.005*\"40\" + 0.003*\"critic\" + 0.001*\"5\" + 0.001*\",\" + 0.001*\"seri\"\n",
      "2022-02-28 17:53:22,617 : INFO : topic diff=0.605876, rho=0.340958\n",
      "2022-02-28 17:53:23,715 : INFO : -6.568 per-word bound, 94.9 perplexity estimate based on a held-out corpus of 1204 documents with 49783 words\n",
      "2022-02-28 17:53:23,716 : INFO : PROGRESS: pass 6, at document #3204/3204\n",
      "2022-02-28 17:53:24,576 : INFO : optimized alpha [0.010021781, 0.010792631, 0.010582556, 0.010717758, 0.010623716, 0.011494768, 0.01179962, 0.011703435, 0.00986768, 0.012532595, 0.012631632, 0.014425442, 0.009908641, 0.011151374, 0.011902093, 0.012605717, 0.011432516, 0.010913455, 0.011053446, 0.010947765, 0.010961799, 0.0119526265, 0.011746587, 0.012323479, 0.011533847, 0.011139874, 0.011194772, 0.010836226, 0.011300583, 0.010559783, 0.011324584, 0.011076258, 0.010423303, 0.011277654, 0.011298731, 0.011072018, 0.012892069, 0.0117843645, 0.010853478, 0.011240913, 0.01113254, 0.010781093, 0.010795057, 0.009825627, 0.01085127, 0.010484412, 0.010507983, 0.011868278, 0.011405681, 0.010640816, 0.011300096, 0.011277094, 0.011981328, 0.010347479, 0.010636656, 0.01109334, 0.01040236, 0.010463471, 0.010956307, 0.011608121, 0.010851568, 0.01091834, 0.010783511, 0.010890808, 0.010251594, 0.010778664, 0.010255893, 0.009928102, 0.010214573, 0.010939684, 0.009892274, 0.012071224, 0.010786026, 0.011328644, 0.02466723, 0.012069338, 0.01069907, 0.011027595, 0.011490996, 0.011081284, 0.010879309, 0.010811551, 0.010310731, 0.011005263, 0.011057241, 0.01094581, 0.012366439, 0.010574418, 0.011040901, 0.011131506, 0.011674096, 0.011885219, 0.010965977, 0.0107292365, 0.0111626275, 0.0102419155, 0.011203315, 0.010749367, 0.010410942, 0.009951422]\n",
      "2022-02-28 17:53:24,582 : INFO : merging changes from 1204 documents into a model of 3204 documents\n",
      "2022-02-28 17:53:24,590 : INFO : topic #43 (0.010): 0.086*\",\" + 0.043*\"comput\" + 0.038*\"mean\" + 0.027*\"standard\" + 0.026*\"wide\" + 0.024*\"analys\" + 0.021*\"govern\" + 0.021*\"rule\" + 0.020*\"topic\" + 0.020*\"extent\"\n",
      "2022-02-28 17:53:24,591 : INFO : topic #12 (0.010): 0.093*\",\" + 0.069*\"run\" + 0.048*\"materi\" + 0.043*\"vari\" + 0.042*\"number\" + 0.036*\"format\" + 0.035*\"column\" + 0.031*\"time\" + 0.028*\"68\" + 0.027*\"suitabl\"\n",
      "2022-02-28 17:53:24,594 : INFO : topic #36 (0.013): 0.174*\"structur\" + 0.113*\"list\" + 0.083*\"definit\" + 0.069*\",\" + 0.063*\"defin\" + 0.057*\"recurs\" + 0.053*\"concept\" + 0.045*\"process\" + 0.034*\"class\" + 0.030*\"previou\"\n",
      "2022-02-28 17:53:24,595 : INFO : topic #11 (0.014): 0.280*\"function\" + 0.137*\"order\" + 0.097*\"set\" + 0.087*\"find\" + 0.045*\"integ\" + 0.042*\"minim\" + 0.035*\"complet\" + 0.031*\"partial\" + 0.026*\"kind\" + 0.023*\"valu\"\n",
      "2022-02-28 17:53:24,596 : INFO : topic #74 (0.025): 0.404*\"(\" + 0.368*\")\" + 0.203*\"algorithm\" + 0.007*\"path\" + 0.005*\"bessel\" + 0.005*\"40\" + 0.002*\"critic\" + 0.001*\"5\" + 0.001*\",\" + 0.001*\"seri\"\n",
      "2022-02-28 17:53:24,597 : INFO : topic diff=0.612802, rho=0.340958\n",
      "2022-02-28 17:53:24,606 : INFO : PROGRESS: pass 7, at document #2000/3204\n",
      "2022-02-28 17:53:25,559 : INFO : optimized alpha [0.010030326, 0.010806179, 0.010620994, 0.0107685095, 0.010656451, 0.011596597, 0.011901948, 0.011698062, 0.009893516, 0.012716709, 0.01274874, 0.014731098, 0.0099219605, 0.011136043, 0.01207885, 0.012780244, 0.011553236, 0.0110062305, 0.011106584, 0.0109589975, 0.011088694, 0.012174917, 0.011805841, 0.012507502, 0.011607263, 0.011170416, 0.0111814365, 0.010923795, 0.011406969, 0.010586906, 0.011473327, 0.011169098, 0.010398608, 0.011326568, 0.01133802, 0.0110934945, 0.012989442, 0.011784011, 0.010900131, 0.0113555305, 0.011156967, 0.010752437, 0.010739513, 0.009815734, 0.010870945, 0.01048456, 0.010519759, 0.012256505, 0.01151617, 0.01065796, 0.011354624, 0.011314895, 0.012153781, 0.01034907, 0.010652173, 0.011102147, 0.01038607, 0.010444178, 0.011022394, 0.011581658, 0.010961843, 0.010944065, 0.010800188, 0.010865755, 0.01021887, 0.010800128, 0.01030833, 0.009921549, 0.0102022905, 0.011104778, 0.009951563, 0.012072896, 0.010900342, 0.01139819, 0.026619956, 0.012147513, 0.010866169, 0.011081131, 0.0117235035, 0.011102933, 0.0108669065, 0.010879482, 0.010323993, 0.011037553, 0.011193895, 0.010894788, 0.012399847, 0.010593301, 0.01110866, 0.011180848, 0.011880079, 0.0120049715, 0.010963137, 0.010740143, 0.011200594, 0.010302542, 0.0111640515, 0.010713539, 0.010428337, 0.009993625]\n",
      "2022-02-28 17:53:25,565 : INFO : merging changes from 2000 documents into a model of 3204 documents\n",
      "2022-02-28 17:53:25,571 : INFO : topic #43 (0.010): 0.088*\",\" + 0.043*\"comput\" + 0.039*\"mean\" + 0.025*\"standard\" + 0.023*\"wide\" + 0.021*\"analys\" + 0.021*\"rule\" + 0.019*\"pass\" + 0.019*\"bank\" + 0.019*\"variant\"\n",
      "2022-02-28 17:53:25,572 : INFO : topic #8 (0.010): 0.150*\"link\" + 0.127*\"list\" + 0.078*\"low\" + 0.068*\"lisp\" + 0.046*\"^\" + 0.035*\",\" + 0.035*\"run\" + 0.033*\"-\" + 0.033*\"structur\" + 0.032*\"faster\"\n",
      "2022-02-28 17:53:25,574 : INFO : topic #36 (0.013): 0.171*\"structur\" + 0.124*\"list\" + 0.085*\"definit\" + 0.066*\",\" + 0.064*\"recurs\" + 0.061*\"defin\" + 0.052*\"concept\" + 0.047*\"process\" + 0.033*\"class\" + 0.026*\"polici\"\n",
      "2022-02-28 17:53:25,575 : INFO : topic #11 (0.015): 0.302*\"function\" + 0.124*\"order\" + 0.092*\"set\" + 0.083*\"find\" + 0.048*\"integ\" + 0.038*\"minim\" + 0.033*\"complet\" + 0.029*\"partial\" + 0.027*\"kind\" + 0.025*\"valu\"\n",
      "2022-02-28 17:53:25,577 : INFO : topic #74 (0.027): 0.400*\"(\" + 0.370*\")\" + 0.204*\"algorithm\" + 0.006*\"bessel\" + 0.006*\"path\" + 0.005*\"40\" + 0.003*\"critic\" + 0.001*\"5\" + 0.001*\",\" + 0.001*\"seri\"\n",
      "2022-02-28 17:53:25,578 : INFO : topic diff=0.533815, rho=0.322715\n",
      "2022-02-28 17:53:26,577 : INFO : -6.543 per-word bound, 93.3 perplexity estimate based on a held-out corpus of 1204 documents with 49783 words\n",
      "2022-02-28 17:53:26,578 : INFO : PROGRESS: pass 7, at document #3204/3204\n",
      "2022-02-28 17:53:27,388 : INFO : optimized alpha [0.010118462, 0.010926091, 0.010748845, 0.0108974315, 0.010775104, 0.011724229, 0.012126937, 0.011948327, 0.009968711, 0.012931967, 0.013066546, 0.015238539, 0.00995205, 0.01132675, 0.012427834, 0.013219359, 0.011749199, 0.011198063, 0.0112723615, 0.011190755, 0.011209311, 0.012358811, 0.011964813, 0.012756743, 0.011944329, 0.011305518, 0.011432336, 0.0110563375, 0.011529444, 0.010695141, 0.011570174, 0.011305163, 0.0105226, 0.011460304, 0.011520969, 0.011240646, 0.013387637, 0.011977271, 0.011118382, 0.011481988, 0.011345314, 0.010909213, 0.0108546, 0.0098795835, 0.011009716, 0.0106241945, 0.010713562, 0.0121976845, 0.011720734, 0.0107847415, 0.011528212, 0.011500131, 0.012337688, 0.01042983, 0.01078239, 0.01128759, 0.010556622, 0.010471789, 0.011206067, 0.011810565, 0.011087038, 0.011058987, 0.010909116, 0.010999149, 0.010310608, 0.010956827, 0.010402886, 0.009997735, 0.010305739, 0.011168303, 0.010010412, 0.012398932, 0.011035865, 0.011554621, 0.028163968, 0.012454732, 0.010910471, 0.011247554, 0.011956175, 0.0112376325, 0.011042796, 0.0110056605, 0.010432244, 0.011173725, 0.011337196, 0.011053295, 0.012750277, 0.010728611, 0.01128057, 0.011320478, 0.012054991, 0.012214262, 0.0111820325, 0.010826174, 0.0113730375, 0.010377217, 0.011332416, 0.010875137, 0.010550637, 0.010044856]\n",
      "2022-02-28 17:53:27,394 : INFO : merging changes from 1204 documents into a model of 3204 documents\n",
      "2022-02-28 17:53:27,400 : INFO : topic #43 (0.010): 0.089*\",\" + 0.045*\"comput\" + 0.039*\"mean\" + 0.028*\"wide\" + 0.028*\"standard\" + 0.024*\"rule\" + 0.024*\"analys\" + 0.022*\"extent\" + 0.021*\"govern\" + 0.021*\"topic\"\n",
      "2022-02-28 17:53:27,401 : INFO : topic #8 (0.010): 0.153*\"link\" + 0.135*\"list\" + 0.087*\"low\" + 0.069*\"lisp\" + 0.048*\"^\" + 0.042*\"run\" + 0.035*\"faster\" + 0.034*\",\" + 0.032*\"-\" + 0.032*\"addit\"\n",
      "2022-02-28 17:53:27,401 : INFO : topic #36 (0.013): 0.187*\"structur\" + 0.105*\"list\" + 0.085*\"definit\" + 0.067*\",\" + 0.065*\"defin\" + 0.058*\"recurs\" + 0.054*\"concept\" + 0.045*\"process\" + 0.034*\"class\" + 0.031*\"previou\"\n",
      "2022-02-28 17:53:27,402 : INFO : topic #11 (0.015): 0.296*\"function\" + 0.139*\"order\" + 0.092*\"set\" + 0.088*\"find\" + 0.046*\"integ\" + 0.042*\"minim\" + 0.034*\"complet\" + 0.030*\"partial\" + 0.026*\"kind\" + 0.023*\"valu\"\n",
      "2022-02-28 17:53:27,403 : INFO : topic #74 (0.028): 0.413*\"(\" + 0.372*\")\" + 0.193*\"algorithm\" + 0.005*\"bessel\" + 0.005*\"40\" + 0.004*\"path\" + 0.002*\"critic\" + 0.001*\"5\" + 0.001*\",\" + 0.000*\"seri\"\n",
      "2022-02-28 17:53:27,404 : INFO : topic diff=0.535275, rho=0.322715\n",
      "2022-02-28 17:53:27,412 : INFO : PROGRESS: pass 8, at document #2000/3204\n",
      "2022-02-28 17:53:28,271 : INFO : optimized alpha [0.0101253465, 0.01093574, 0.010788945, 0.0109494515, 0.010809881, 0.011820232, 0.012234654, 0.0119512305, 0.010003017, 0.013114039, 0.013180806, 0.015544584, 0.009971595, 0.01132043, 0.012616713, 0.013396523, 0.011872827, 0.011300873, 0.011328336, 0.011204112, 0.011338598, 0.012584348, 0.012025116, 0.012929088, 0.012047115, 0.01133469, 0.01142366, 0.01114561, 0.011635484, 0.010724476, 0.011717253, 0.011394406, 0.0105007505, 0.01151608, 0.011565297, 0.011268, 0.013473813, 0.011974561, 0.011176278, 0.011603016, 0.011368335, 0.010879888, 0.010807097, 0.009875291, 0.011028466, 0.010632382, 0.010734232, 0.01257948, 0.011836006, 0.010797831, 0.011580257, 0.011539562, 0.0125158075, 0.01043177, 0.010805444, 0.011295533, 0.010547103, 0.010460913, 0.01126925, 0.0117897, 0.011196685, 0.011087177, 0.010928656, 0.010970168, 0.010283053, 0.010977082, 0.0104549285, 0.009994975, 0.010292631, 0.011334653, 0.01007213, 0.01239859, 0.011156185, 0.011630228, 0.0302454, 0.01254049, 0.011076922, 0.011300414, 0.012209313, 0.01125309, 0.011033923, 0.011074358, 0.010464337, 0.011214858, 0.011476151, 0.0110096475, 0.0127805, 0.010749943, 0.011352343, 0.011371189, 0.012264115, 0.01233691, 0.011180246, 0.010833506, 0.011417809, 0.010442065, 0.011296487, 0.010838931, 0.0105770305, 0.010088724]\n",
      "2022-02-28 17:53:28,277 : INFO : merging changes from 2000 documents into a model of 3204 documents\n",
      "2022-02-28 17:53:28,283 : INFO : topic #43 (0.010): 0.090*\",\" + 0.045*\"comput\" + 0.040*\"mean\" + 0.026*\"wide\" + 0.025*\"standard\" + 0.023*\"rule\" + 0.021*\"analys\" + 0.020*\"extent\" + 0.019*\"topic\" + 0.019*\"bank\"\n",
      "2022-02-28 17:53:28,284 : INFO : topic #12 (0.010): 0.100*\",\" + 0.072*\"run\" + 0.048*\"format\" + 0.048*\"materi\" + 0.043*\"number\" + 0.032*\"column\" + 0.031*\"vari\" + 0.029*\"time\" + 0.029*\"suitabl\" + 0.022*\"68\"\n",
      "2022-02-28 17:53:28,285 : INFO : topic #36 (0.013): 0.184*\"structur\" + 0.112*\"list\" + 0.087*\"definit\" + 0.065*\"recurs\" + 0.065*\",\" + 0.063*\"defin\" + 0.054*\"concept\" + 0.046*\"process\" + 0.033*\"class\" + 0.027*\"polici\"\n",
      "2022-02-28 17:53:28,286 : INFO : topic #11 (0.016): 0.317*\"function\" + 0.126*\"order\" + 0.087*\"set\" + 0.084*\"find\" + 0.049*\"integ\" + 0.038*\"minim\" + 0.033*\"complet\" + 0.029*\"partial\" + 0.027*\"kind\" + 0.025*\"valu\"\n",
      "2022-02-28 17:53:28,286 : INFO : topic #74 (0.030): 0.408*\"(\" + 0.374*\")\" + 0.196*\"algorithm\" + 0.006*\"bessel\" + 0.005*\"40\" + 0.004*\"path\" + 0.002*\"critic\" + 0.001*\"5\" + 0.001*\",\" + 0.000*\"seri\"\n",
      "2022-02-28 17:53:28,287 : INFO : topic diff=0.464395, rho=0.307119\n",
      "2022-02-28 17:53:29,450 : INFO : -6.523 per-word bound, 92.0 perplexity estimate based on a held-out corpus of 1204 documents with 49783 words\n",
      "2022-02-28 17:53:29,451 : INFO : PROGRESS: pass 8, at document #3204/3204\n",
      "2022-02-28 17:53:30,277 : INFO : optimized alpha [0.010217871, 0.011056571, 0.010920105, 0.011084492, 0.010918536, 0.01194567, 0.012474333, 0.0122051425, 0.0100907935, 0.013334789, 0.013482596, 0.01605085, 0.010000895, 0.011509926, 0.012977573, 0.01384497, 0.012065095, 0.01151766, 0.011496523, 0.011439457, 0.011462867, 0.012761273, 0.0121809915, 0.013166816, 0.012416262, 0.011473233, 0.01167473, 0.0112729445, 0.011761918, 0.010825671, 0.011812713, 0.011531001, 0.010617062, 0.011647295, 0.011738493, 0.011423837, 0.013834224, 0.0121606, 0.0113987895, 0.011733407, 0.011558607, 0.01102216, 0.010937316, 0.009947054, 0.011164884, 0.010772033, 0.010943192, 0.012529098, 0.012027458, 0.010919656, 0.01174742, 0.011721007, 0.012676797, 0.0105148405, 0.010922222, 0.011474045, 0.010727564, 0.0104936045, 0.011446209, 0.0120073715, 0.011322644, 0.011206124, 0.011053012, 0.0111153545, 0.010371335, 0.011122168, 0.010553749, 0.0100683095, 0.010384141, 0.011397764, 0.010136275, 0.012723929, 0.011286392, 0.011774704, 0.031870354, 0.012855178, 0.011141295, 0.0114780795, 0.012444783, 0.011370847, 0.011211629, 0.0111954985, 0.010571074, 0.011354281, 0.011622642, 0.011161888, 0.013124185, 0.010885565, 0.011517943, 0.011502356, 0.012429174, 0.01254812, 0.01140578, 0.010916242, 0.011592466, 0.010519076, 0.011464192, 0.010994315, 0.010694611, 0.010150884]\n",
      "2022-02-28 17:53:30,283 : INFO : merging changes from 1204 documents into a model of 3204 documents\n",
      "2022-02-28 17:53:30,289 : INFO : topic #43 (0.010): 0.091*\",\" + 0.046*\"comput\" + 0.040*\"mean\" + 0.029*\"wide\" + 0.027*\"standard\" + 0.026*\"rule\" + 0.023*\"analys\" + 0.023*\"extent\" + 0.022*\"topic\" + 0.021*\"govern\"\n",
      "2022-02-28 17:53:30,290 : INFO : topic #12 (0.010): 0.097*\",\" + 0.076*\"run\" + 0.050*\"materi\" + 0.044*\"number\" + 0.042*\"vari\" + 0.041*\"format\" + 0.036*\"column\" + 0.029*\"time\" + 0.028*\"suitabl\" + 0.028*\"68\"\n",
      "2022-02-28 17:53:30,290 : INFO : topic #36 (0.014): 0.197*\"structur\" + 0.092*\"list\" + 0.088*\"definit\" + 0.067*\"defin\" + 0.065*\",\" + 0.060*\"recurs\" + 0.056*\"concept\" + 0.045*\"process\" + 0.034*\"class\" + 0.031*\"previou\"\n",
      "2022-02-28 17:53:30,291 : INFO : topic #11 (0.016): 0.311*\"function\" + 0.141*\"order\" + 0.089*\"find\" + 0.085*\"set\" + 0.047*\"integ\" + 0.042*\"minim\" + 0.033*\"complet\" + 0.030*\"partial\" + 0.026*\"kind\" + 0.024*\"valu\"\n",
      "2022-02-28 17:53:30,292 : INFO : topic #74 (0.032): 0.421*\"(\" + 0.375*\")\" + 0.184*\"algorithm\" + 0.005*\"bessel\" + 0.005*\"40\" + 0.003*\"path\" + 0.002*\"critic\" + 0.001*\"5\" + 0.001*\",\" + 0.000*\"seri\"\n",
      "2022-02-28 17:53:30,293 : INFO : topic diff=0.465233, rho=0.307119\n",
      "2022-02-28 17:53:30,302 : INFO : PROGRESS: pass 9, at document #2000/3204\n",
      "2022-02-28 17:53:31,160 : INFO : optimized alpha [0.010226125, 0.011064205, 0.01096028, 0.011141166, 0.010947245, 0.012024197, 0.012585824, 0.012208656, 0.010138855, 0.013517412, 0.013590612, 0.016353164, 0.010020232, 0.0115033565, 0.013160156, 0.014004953, 0.012193749, 0.011630456, 0.011551908, 0.011458126, 0.011594813, 0.012988812, 0.012235364, 0.013326376, 0.012546221, 0.01150797, 0.011672038, 0.011364036, 0.011854216, 0.010854005, 0.011963983, 0.011620523, 0.010599374, 0.011706195, 0.011784324, 0.011449917, 0.013920086, 0.012159366, 0.011457531, 0.011843606, 0.011583647, 0.010993969, 0.010893577, 0.009947748, 0.011184486, 0.010779724, 0.01096892, 0.012894877, 0.012153035, 0.010933829, 0.0118042845, 0.011756912, 0.012862883, 0.010520156, 0.010942834, 0.011482942, 0.010722611, 0.010485688, 0.011518707, 0.011988304, 0.011432072, 0.011238401, 0.011076775, 0.011094044, 0.010345324, 0.011143128, 0.010608632, 0.010069003, 0.010379496, 0.011569116, 0.010200418, 0.012729206, 0.0114111565, 0.011847597, 0.03406124, 0.0129490085, 0.011309402, 0.011528713, 0.012713685, 0.011384128, 0.011204334, 0.011260145, 0.010608321, 0.011398789, 0.011757355, 0.011118317, 0.013159341, 0.010905973, 0.011592087, 0.011549449, 0.012640214, 0.012668386, 0.011404727, 0.010931811, 0.011633561, 0.010584862, 0.011427713, 0.010956131, 0.010724804, 0.01019779]\n",
      "2022-02-28 17:53:31,166 : INFO : merging changes from 2000 documents into a model of 3204 documents\n",
      "2022-02-28 17:53:31,171 : INFO : topic #43 (0.010): 0.092*\",\" + 0.045*\"comput\" + 0.040*\"mean\" + 0.026*\"wide\" + 0.025*\"rule\" + 0.025*\"standard\" + 0.021*\"extent\" + 0.021*\"analys\" + 0.020*\"topic\" + 0.019*\"data\"\n",
      "2022-02-28 17:53:31,172 : INFO : topic #12 (0.010): 0.102*\",\" + 0.074*\"run\" + 0.050*\"format\" + 0.049*\"materi\" + 0.044*\"number\" + 0.033*\"column\" + 0.031*\"vari\" + 0.029*\"suitabl\" + 0.028*\"time\" + 0.022*\"68\"\n",
      "2022-02-28 17:53:31,173 : INFO : topic #15 (0.014): 0.321*\"problem\" + 0.152*\"algorithm\" + 0.110*\"linear\" + 0.097*\"program\" + 0.090*\"solv\" + 0.042*\"comput\" + 0.034*\"reduct\" + 0.028*\"minimum\" + 0.021*\"improv\" + 0.021*\"*\"\n",
      "2022-02-28 17:53:31,174 : INFO : topic #11 (0.016): 0.330*\"function\" + 0.129*\"order\" + 0.085*\"find\" + 0.081*\"set\" + 0.050*\"integ\" + 0.038*\"minim\" + 0.032*\"complet\" + 0.029*\"partial\" + 0.027*\"kind\" + 0.026*\"valu\"\n",
      "2022-02-28 17:53:31,175 : INFO : topic #74 (0.034): 0.414*\"(\" + 0.376*\")\" + 0.189*\"algorithm\" + 0.006*\"bessel\" + 0.005*\"40\" + 0.003*\"path\" + 0.002*\"critic\" + 0.000*\",\" + 0.000*\"5\" + 0.000*\"seri\"\n",
      "2022-02-28 17:53:31,177 : INFO : topic diff=0.402773, rho=0.293585\n",
      "2022-02-28 17:53:32,223 : INFO : -6.507 per-word bound, 91.0 perplexity estimate based on a held-out corpus of 1204 documents with 49783 words\n",
      "2022-02-28 17:53:32,224 : INFO : PROGRESS: pass 9, at document #3204/3204\n",
      "2022-02-28 17:53:33,022 : INFO : optimized alpha [0.010325465, 0.011186172, 0.0110948915, 0.011282666, 0.011052033, 0.012150883, 0.01281863, 0.012455058, 0.010238579, 0.013734369, 0.013891243, 0.016859561, 0.01006356, 0.01169228, 0.013533894, 0.014453671, 0.0123980995, 0.011852499, 0.011708824, 0.011700487, 0.011731562, 0.013162849, 0.012379841, 0.013553633, 0.012936951, 0.011644627, 0.011921408, 0.011489592, 0.011978818, 0.010948924, 0.012067206, 0.011752276, 0.010722157, 0.011829861, 0.011943025, 0.011586343, 0.014288304, 0.012339162, 0.011687796, 0.011975376, 0.0117649855, 0.011134006, 0.0110138375, 0.010019529, 0.011318922, 0.010909331, 0.011193161, 0.012846123, 0.012356287, 0.011051384, 0.011971667, 0.01192958, 0.013024386, 0.010605574, 0.011060853, 0.011655511, 0.010918405, 0.010522937, 0.011701278, 0.012204747, 0.011564762, 0.011364363, 0.011210528, 0.011226073, 0.010435679, 0.011288698, 0.010698795, 0.01014236, 0.010467869, 0.011620579, 0.010262154, 0.013052023, 0.011550538, 0.011992798, 0.03574228, 0.013262792, 0.011376322, 0.011709068, 0.012965339, 0.011497702, 0.011378921, 0.011371366, 0.010716575, 0.011536252, 0.011895901, 0.011270746, 0.013507284, 0.0110396, 0.011763441, 0.0116759, 0.012802495, 0.012882243, 0.011614969, 0.011011706, 0.01179374, 0.010661547, 0.011586747, 0.011100738, 0.010840951, 0.010265224]\n",
      "2022-02-28 17:53:33,028 : INFO : merging changes from 1204 documents into a model of 3204 documents\n",
      "2022-02-28 17:53:33,042 : INFO : topic #43 (0.010): 0.092*\",\" + 0.047*\"comput\" + 0.040*\"mean\" + 0.030*\"wide\" + 0.027*\"rule\" + 0.027*\"standard\" + 0.023*\"extent\" + 0.023*\"analys\" + 0.022*\"topic\" + 0.020*\"govern\"\n",
      "2022-02-28 17:53:33,043 : INFO : topic #12 (0.010): 0.099*\",\" + 0.081*\"run\" + 0.050*\"materi\" + 0.046*\"number\" + 0.043*\"format\" + 0.042*\"vari\" + 0.036*\"column\" + 0.031*\"suitabl\" + 0.028*\"time\" + 0.027*\"68\"\n",
      "2022-02-28 17:53:33,044 : INFO : topic #15 (0.014): 0.326*\"problem\" + 0.160*\"algorithm\" + 0.112*\"linear\" + 0.095*\"program\" + 0.087*\"solv\" + 0.042*\"comput\" + 0.034*\"reduct\" + 0.028*\"minimum\" + 0.021*\"improv\" + 0.017*\"switch\"\n",
      "2022-02-28 17:53:33,044 : INFO : topic #11 (0.017): 0.322*\"function\" + 0.143*\"order\" + 0.089*\"find\" + 0.081*\"set\" + 0.047*\"integ\" + 0.041*\"minim\" + 0.033*\"complet\" + 0.030*\"partial\" + 0.026*\"kind\" + 0.024*\"valu\"\n",
      "2022-02-28 17:53:33,045 : INFO : topic #74 (0.036): 0.426*\"(\" + 0.378*\")\" + 0.178*\"algorithm\" + 0.005*\"bessel\" + 0.004*\"40\" + 0.002*\"path\" + 0.002*\"critic\" + 0.000*\",\" + 0.000*\"5\" + 0.000*\"seri\"\n",
      "2022-02-28 17:53:33,049 : INFO : topic diff=0.405495, rho=0.293585\n",
      "2022-02-28 17:53:33,061 : INFO : PROGRESS: pass 10, at document #2000/3204\n",
      "2022-02-28 17:53:33,919 : INFO : optimized alpha [0.010333561, 0.011195127, 0.011142981, 0.011342218, 0.011079835, 0.012223495, 0.012930419, 0.012459221, 0.010289567, 0.013920062, 0.014013146, 0.017170366, 0.010085494, 0.011692062, 0.013720089, 0.014615108, 0.012533803, 0.011967059, 0.011767182, 0.011719401, 0.011861579, 0.013392885, 0.012428803, 0.013708724, 0.013087073, 0.011683081, 0.0119160535, 0.011581174, 0.012088606, 0.010981085, 0.012211009, 0.011839019, 0.01070362, 0.01189521, 0.01199051, 0.011608089, 0.0143680535, 0.012335856, 0.011752519, 0.012090967, 0.011797157, 0.011108393, 0.010972064, 0.010017701, 0.011344197, 0.010918244, 0.011228442, 0.013211769, 0.012481765, 0.011063504, 0.0120367, 0.011977618, 0.013207686, 0.010612497, 0.011087041, 0.011666986, 0.010922273, 0.010523555, 0.01176456, 0.012189049, 0.011677628, 0.011395532, 0.011233464, 0.011200812, 0.010413973, 0.011318327, 0.010756478, 0.010141978, 0.010466629, 0.011787439, 0.010324422, 0.013059056, 0.011680006, 0.01206498, 0.038032148, 0.013360743, 0.011541638, 0.011761067, 0.013247395, 0.011513862, 0.011373121, 0.011440393, 0.01076172, 0.011584109, 0.012031908, 0.011233513, 0.013535772, 0.011060744, 0.011835127, 0.011721329, 0.013010626, 0.013002444, 0.011616609, 0.011025521, 0.011838167, 0.010728411, 0.011553078, 0.011063931, 0.010868584, 0.010315117]\n",
      "2022-02-28 17:53:33,925 : INFO : merging changes from 2000 documents into a model of 3204 documents\n",
      "2022-02-28 17:53:33,932 : INFO : topic #43 (0.010): 0.093*\",\" + 0.047*\"comput\" + 0.040*\"mean\" + 0.027*\"wide\" + 0.027*\"rule\" + 0.025*\"standard\" + 0.022*\"extent\" + 0.021*\"analys\" + 0.021*\"topic\" + 0.020*\"data\"\n",
      "2022-02-28 17:53:33,932 : INFO : topic #12 (0.010): 0.104*\",\" + 0.080*\"run\" + 0.051*\"format\" + 0.049*\"materi\" + 0.045*\"number\" + 0.033*\"column\" + 0.032*\"suitabl\" + 0.032*\"vari\" + 0.028*\"time\" + 0.022*\"68\"\n",
      "2022-02-28 17:53:33,934 : INFO : topic #15 (0.015): 0.333*\"problem\" + 0.150*\"algorithm\" + 0.109*\"linear\" + 0.098*\"program\" + 0.088*\"solv\" + 0.043*\"comput\" + 0.034*\"reduct\" + 0.027*\"minimum\" + 0.020*\"improv\" + 0.019*\"*\"\n",
      "2022-02-28 17:53:33,935 : INFO : topic #11 (0.017): 0.340*\"function\" + 0.131*\"order\" + 0.086*\"find\" + 0.076*\"set\" + 0.050*\"integ\" + 0.038*\"minim\" + 0.032*\"complet\" + 0.029*\"partial\" + 0.027*\"kind\" + 0.026*\"valu\"\n",
      "2022-02-28 17:53:33,936 : INFO : topic #74 (0.038): 0.419*\"(\" + 0.378*\")\" + 0.183*\"algorithm\" + 0.006*\"bessel\" + 0.005*\"40\" + 0.003*\"path\" + 0.002*\"critic\" + 0.000*\",\" + 0.000*\"5\" + 0.000*\"seri\"\n",
      "2022-02-28 17:53:33,938 : INFO : topic diff=0.350758, rho=0.281696\n",
      "2022-02-28 17:53:34,905 : INFO : -6.494 per-word bound, 90.1 perplexity estimate based on a held-out corpus of 1204 documents with 49783 words\n",
      "2022-02-28 17:53:34,905 : INFO : PROGRESS: pass 10, at document #3204/3204\n",
      "2022-02-28 17:53:35,676 : INFO : optimized alpha [0.010434697, 0.011315847, 0.011276017, 0.011482131, 0.011175974, 0.012340328, 0.013166661, 0.012696019, 0.010388598, 0.014137258, 0.014310206, 0.017677857, 0.010129958, 0.011875528, 0.014107596, 0.015085424, 0.012747546, 0.0122005185, 0.011916543, 0.011966605, 0.011994045, 0.01357087, 0.012562787, 0.013926404, 0.013503723, 0.011823785, 0.012167183, 0.011699972, 0.012206239, 0.011078137, 0.012319133, 0.011972083, 0.010835199, 0.012028633, 0.012152845, 0.011740284, 0.01472514, 0.012510227, 0.011985438, 0.0122185955, 0.011973332, 0.011251826, 0.011101514, 0.010084976, 0.011479819, 0.0110412575, 0.011460361, 0.013164476, 0.01267659, 0.011174717, 0.012201894, 0.012164781, 0.013360991, 0.010682764, 0.011203909, 0.011839813, 0.011122956, 0.010560021, 0.011928055, 0.01240212, 0.011803324, 0.011517533, 0.011373727, 0.011333988, 0.010501543, 0.01146203, 0.010853873, 0.0102226315, 0.010559672, 0.011839177, 0.0103889145, 0.013368053, 0.011817882, 0.0122055905, 0.039749105, 0.013668039, 0.011611127, 0.0119362455, 0.0135158915, 0.011621147, 0.011545259, 0.011553358, 0.010881721, 0.011722817, 0.012168756, 0.011378518, 0.013882544, 0.011197991, 0.0120015275, 0.01184374, 0.013173792, 0.013210418, 0.011826379, 0.011110713, 0.012004733, 0.010812659, 0.011707178, 0.011203906, 0.010983672, 0.010387604]\n",
      "2022-02-28 17:53:35,682 : INFO : merging changes from 1204 documents into a model of 3204 documents\n",
      "2022-02-28 17:53:35,688 : INFO : topic #43 (0.010): 0.094*\",\" + 0.048*\"comput\" + 0.040*\"mean\" + 0.030*\"wide\" + 0.028*\"rule\" + 0.027*\"standard\" + 0.024*\"extent\" + 0.022*\"analys\" + 0.022*\"topic\" + 0.021*\"data\"\n",
      "2022-02-28 17:53:35,689 : INFO : topic #12 (0.010): 0.100*\",\" + 0.087*\"run\" + 0.049*\"materi\" + 0.046*\"number\" + 0.043*\"format\" + 0.042*\"vari\" + 0.037*\"column\" + 0.033*\"suitabl\" + 0.028*\"time\" + 0.027*\"68\"\n",
      "2022-02-28 17:53:35,689 : INFO : topic #15 (0.015): 0.338*\"problem\" + 0.158*\"algorithm\" + 0.111*\"linear\" + 0.097*\"program\" + 0.086*\"solv\" + 0.044*\"comput\" + 0.034*\"reduct\" + 0.027*\"minimum\" + 0.020*\"improv\" + 0.016*\"switch\"\n",
      "2022-02-28 17:53:35,690 : INFO : topic #11 (0.018): 0.330*\"function\" + 0.145*\"order\" + 0.089*\"find\" + 0.077*\"set\" + 0.048*\"integ\" + 0.042*\"minim\" + 0.032*\"complet\" + 0.030*\"partial\" + 0.026*\"kind\" + 0.025*\"valu\"\n",
      "2022-02-28 17:53:35,691 : INFO : topic #74 (0.040): 0.430*\"(\" + 0.379*\")\" + 0.174*\"algorithm\" + 0.005*\"bessel\" + 0.004*\"40\" + 0.002*\"path\" + 0.002*\"critic\" + 0.000*\",\" + 0.000*\"5\" + 0.000*\"seri\"\n",
      "2022-02-28 17:53:35,692 : INFO : topic diff=0.354650, rho=0.281696\n",
      "2022-02-28 17:53:35,701 : INFO : PROGRESS: pass 11, at document #2000/3204\n",
      "2022-02-28 17:53:36,527 : INFO : optimized alpha [0.010444049, 0.01132609, 0.011322636, 0.011547702, 0.011207712, 0.012412512, 0.013293372, 0.012699216, 0.010446613, 0.014316865, 0.014424569, 0.017997732, 0.010154301, 0.011873265, 0.014295959, 0.015242628, 0.012888793, 0.01231542, 0.011974666, 0.011988893, 0.012122515, 0.013793013, 0.012615457, 0.014075685, 0.013670701, 0.011864143, 0.012157635, 0.011787462, 0.012316573, 0.01111093, 0.012462823, 0.012056395, 0.010820194, 0.012105199, 0.01220039, 0.011762905, 0.014799154, 0.012503316, 0.012051232, 0.0123346, 0.012007443, 0.011223872, 0.011059711, 0.010084929, 0.0115042785, 0.011051397, 0.011498653, 0.013527266, 0.012800599, 0.011184956, 0.012261514, 0.012215978, 0.013543814, 0.010691262, 0.011230779, 0.01185054, 0.011130614, 0.0105598755, 0.011994246, 0.012382844, 0.011913224, 0.011549328, 0.011405116, 0.011314249, 0.010479511, 0.011493744, 0.0109159155, 0.010228105, 0.010565805, 0.012002073, 0.010453724, 0.013376937, 0.011945852, 0.012273903, 0.04214768, 0.013759123, 0.011775838, 0.011988056, 0.013806339, 0.011633723, 0.011547106, 0.0116252005, 0.010935813, 0.011767546, 0.012307958, 0.011340892, 0.013910378, 0.011224523, 0.012074249, 0.011886204, 0.013375965, 0.013330863, 0.011832126, 0.011128887, 0.012045972, 0.010886485, 0.011680949, 0.01117139, 0.011014988, 0.010438998]\n",
      "2022-02-28 17:53:36,533 : INFO : merging changes from 2000 documents into a model of 3204 documents\n",
      "2022-02-28 17:53:36,539 : INFO : topic #43 (0.010): 0.094*\",\" + 0.048*\"comput\" + 0.040*\"mean\" + 0.027*\"wide\" + 0.027*\"rule\" + 0.025*\"standard\" + 0.022*\"extent\" + 0.021*\"data\" + 0.021*\"topic\" + 0.020*\"analys\"\n",
      "2022-02-28 17:53:36,540 : INFO : topic #12 (0.010): 0.106*\",\" + 0.087*\"run\" + 0.052*\"format\" + 0.049*\"materi\" + 0.046*\"number\" + 0.034*\"column\" + 0.033*\"suitabl\" + 0.032*\"vari\" + 0.027*\"time\" + 0.024*\"identif\"\n",
      "2022-02-28 17:53:36,541 : INFO : topic #15 (0.015): 0.344*\"problem\" + 0.148*\"algorithm\" + 0.108*\"linear\" + 0.100*\"program\" + 0.087*\"solv\" + 0.045*\"comput\" + 0.033*\"reduct\" + 0.026*\"minimum\" + 0.019*\"improv\" + 0.016*\"switch\"\n",
      "2022-02-28 17:53:36,543 : INFO : topic #11 (0.018): 0.347*\"function\" + 0.133*\"order\" + 0.086*\"find\" + 0.073*\"set\" + 0.050*\"integ\" + 0.038*\"minim\" + 0.032*\"complet\" + 0.029*\"partial\" + 0.027*\"kind\" + 0.027*\"valu\"\n",
      "2022-02-28 17:53:36,544 : INFO : topic #74 (0.042): 0.423*\"(\" + 0.379*\")\" + 0.180*\"algorithm\" + 0.006*\"bessel\" + 0.004*\"40\" + 0.002*\"critic\" + 0.002*\"path\" + 0.000*\",\" + 0.000*\"5\" + 0.000*\"seri\"\n",
      "2022-02-28 17:53:36,546 : INFO : topic diff=0.307380, rho=0.271143\n",
      "2022-02-28 17:53:37,514 : INFO : -6.483 per-word bound, 89.5 perplexity estimate based on a held-out corpus of 1204 documents with 49783 words\n",
      "2022-02-28 17:53:37,515 : INFO : PROGRESS: pass 11, at document #3204/3204\n",
      "2022-02-28 17:53:38,262 : INFO : optimized alpha [0.010542346, 0.011433047, 0.011454509, 0.01169171, 0.011308752, 0.012537119, 0.013524333, 0.012935905, 0.01054516, 0.014538054, 0.014718644, 0.018510958, 0.010197635, 0.012054547, 0.014682362, 0.015722016, 0.013129884, 0.012552296, 0.012119875, 0.012227916, 0.012256587, 0.013972114, 0.012748448, 0.014284435, 0.014127474, 0.012008967, 0.012405483, 0.0119080935, 0.012439086, 0.011205198, 0.012561858, 0.012185581, 0.010948033, 0.012245653, 0.012358298, 0.0118939895, 0.0151592465, 0.012675719, 0.012292868, 0.0124613205, 0.012178965, 0.011358107, 0.011190606, 0.010150419, 0.011641397, 0.01117595, 0.011746347, 0.013475178, 0.0129991835, 0.011292954, 0.012427641, 0.012406557, 0.013692483, 0.010766915, 0.011339187, 0.012021311, 0.011328895, 0.01059324, 0.012164287, 0.012593073, 0.012051368, 0.011670596, 0.0115442, 0.011448844, 0.010571735, 0.011638594, 0.011015488, 0.010308761, 0.010648964, 0.012048708, 0.010516257, 0.013688288, 0.012079793, 0.01241603, 0.043837845, 0.014079388, 0.011858489, 0.012166752, 0.014083134, 0.01174323, 0.011714686, 0.011734905, 0.0110549955, 0.011902362, 0.012438037, 0.011479158, 0.014250472, 0.011357992, 0.012238879, 0.012010516, 0.013537351, 0.013539444, 0.01203944, 0.01120417, 0.012213393, 0.010963235, 0.011830569, 0.01130998, 0.0111317905, 0.010511661]\n",
      "2022-02-28 17:53:38,268 : INFO : merging changes from 1204 documents into a model of 3204 documents\n",
      "2022-02-28 17:53:38,274 : INFO : topic #43 (0.010): 0.095*\",\" + 0.048*\"comput\" + 0.040*\"mean\" + 0.030*\"wide\" + 0.028*\"rule\" + 0.027*\"standard\" + 0.024*\"extent\" + 0.022*\"topic\" + 0.022*\"analys\" + 0.022*\"data\"\n",
      "2022-02-28 17:53:38,275 : INFO : topic #12 (0.010): 0.103*\",\" + 0.094*\"run\" + 0.049*\"materi\" + 0.047*\"number\" + 0.044*\"format\" + 0.043*\"vari\" + 0.038*\"column\" + 0.034*\"suitabl\" + 0.028*\"time\" + 0.027*\"68\"\n",
      "2022-02-28 17:53:38,275 : INFO : topic #15 (0.016): 0.347*\"problem\" + 0.155*\"algorithm\" + 0.111*\"linear\" + 0.099*\"program\" + 0.085*\"solv\" + 0.045*\"comput\" + 0.033*\"reduct\" + 0.026*\"minimum\" + 0.019*\"improv\" + 0.016*\"switch\"\n",
      "2022-02-28 17:53:38,276 : INFO : topic #11 (0.019): 0.338*\"function\" + 0.146*\"order\" + 0.089*\"find\" + 0.073*\"set\" + 0.048*\"integ\" + 0.041*\"minim\" + 0.032*\"complet\" + 0.029*\"partial\" + 0.026*\"kind\" + 0.025*\"valu\"\n",
      "2022-02-28 17:53:38,277 : INFO : topic #74 (0.044): 0.434*\"(\" + 0.380*\")\" + 0.170*\"algorithm\" + 0.005*\"bessel\" + 0.004*\"40\" + 0.002*\"critic\" + 0.001*\"path\" + 0.000*\",\" + 0.000*\"5\" + 0.000*\"seri\"\n",
      "2022-02-28 17:53:38,278 : INFO : topic diff=0.312449, rho=0.271143\n",
      "2022-02-28 17:53:38,287 : INFO : PROGRESS: pass 12, at document #2000/3204\n",
      "2022-02-28 17:53:39,148 : INFO : optimized alpha [0.010552904, 0.011444576, 0.011499795, 0.011766306, 0.011335178, 0.012607313, 0.0136445705, 0.012939858, 0.010605846, 0.014713884, 0.014831684, 0.018828448, 0.010224298, 0.01205514, 0.0148712285, 0.015870983, 0.013283786, 0.012677548, 0.012177949, 0.012248763, 0.012383757, 0.01419037, 0.012801295, 0.014430178, 0.01429519, 0.01204811, 0.012401645, 0.011999579, 0.012551692, 0.01123724, 0.012702403, 0.012270895, 0.010943528, 0.012331375, 0.012405995, 0.011919045, 0.015233722, 0.012672031, 0.0123629505, 0.012569679, 0.012211868, 0.011329513, 0.011156151, 0.010153409, 0.011666624, 0.011187248, 0.011786026, 0.013830452, 0.013127073, 0.0113045005, 0.012492084, 0.012457622, 0.01387338, 0.01078117, 0.011363827, 0.012031415, 0.011347679, 0.010597914, 0.012230165, 0.01258032, 0.012157155, 0.011706155, 0.011580741, 0.011429722, 0.010550641, 0.011667726, 0.011080266, 0.010312905, 0.0106551275, 0.012208085, 0.010579501, 0.013700751, 0.01220966, 0.012484155, 0.046295863, 0.014178754, 0.01203067, 0.012218461, 0.014393889, 0.011761769, 0.011713069, 0.011809493, 0.011111989, 0.011948888, 0.01257906, 0.011448827, 0.014277721, 0.011380704, 0.012306368, 0.012050215, 0.013735751, 0.013649747, 0.012042787, 0.01122515, 0.012254813, 0.011029495, 0.01181126, 0.011276947, 0.011166607, 0.010563148]\n",
      "2022-02-28 17:53:39,154 : INFO : merging changes from 2000 documents into a model of 3204 documents\n",
      "2022-02-28 17:53:39,161 : INFO : topic #43 (0.010): 0.096*\",\" + 0.049*\"comput\" + 0.040*\"mean\" + 0.027*\"rule\" + 0.027*\"wide\" + 0.025*\"standard\" + 0.022*\"extent\" + 0.022*\"data\" + 0.021*\"topic\" + 0.020*\"analys\"\n",
      "2022-02-28 17:53:39,162 : INFO : topic #12 (0.010): 0.108*\",\" + 0.093*\"run\" + 0.053*\"format\" + 0.049*\"materi\" + 0.046*\"number\" + 0.035*\"column\" + 0.035*\"suitabl\" + 0.033*\"vari\" + 0.027*\"time\" + 0.025*\"identif\"\n",
      "2022-02-28 17:53:39,163 : INFO : topic #15 (0.016): 0.353*\"problem\" + 0.147*\"algorithm\" + 0.108*\"linear\" + 0.101*\"program\" + 0.086*\"solv\" + 0.047*\"comput\" + 0.033*\"reduct\" + 0.025*\"minimum\" + 0.017*\"improv\" + 0.016*\"switch\"\n",
      "2022-02-28 17:53:39,165 : INFO : topic #11 (0.019): 0.355*\"function\" + 0.135*\"order\" + 0.086*\"find\" + 0.070*\"set\" + 0.050*\"integ\" + 0.038*\"minim\" + 0.032*\"complet\" + 0.028*\"partial\" + 0.027*\"valu\" + 0.027*\"kind\"\n",
      "2022-02-28 17:53:39,166 : INFO : topic #74 (0.046): 0.427*\"(\" + 0.380*\")\" + 0.176*\"algorithm\" + 0.006*\"bessel\" + 0.004*\"40\" + 0.002*\"critic\" + 0.001*\"path\" + 0.000*\",\" + 0.000*\"5\" + 0.000*\"seri\"\n",
      "2022-02-28 17:53:39,167 : INFO : topic diff=0.271864, rho=0.261694\n",
      "2022-02-28 17:53:40,094 : INFO : -6.474 per-word bound, 88.9 perplexity estimate based on a held-out corpus of 1204 documents with 49783 words\n",
      "2022-02-28 17:53:40,094 : INFO : PROGRESS: pass 12, at document #3204/3204\n",
      "2022-02-28 17:53:40,845 : INFO : optimized alpha [0.010653243, 0.011553686, 0.0116307745, 0.011906757, 0.011433421, 0.012734077, 0.013876965, 0.013174055, 0.010704086, 0.014926613, 0.0151203275, 0.01935199, 0.010271095, 0.012248023, 0.015256843, 0.016363557, 0.0135350805, 0.012918348, 0.012322129, 0.012482865, 0.012514358, 0.01437406, 0.012927939, 0.01463064, 0.014772138, 0.012186619, 0.012641502, 0.012119589, 0.0126681095, 0.011331438, 0.012798407, 0.012396662, 0.011075369, 0.012478945, 0.0125680305, 0.012054511, 0.015594201, 0.0128372805, 0.0125972945, 0.012701301, 0.012379179, 0.011465179, 0.011286034, 0.010217257, 0.011802933, 0.01131107, 0.012031858, 0.013779857, 0.013321302, 0.011407141, 0.0126515925, 0.012643789, 0.014017816, 0.010852521, 0.011466781, 0.012200576, 0.011544142, 0.010637743, 0.012396187, 0.012796618, 0.012286419, 0.011829461, 0.011731616, 0.011558279, 0.010640491, 0.011801297, 0.011181977, 0.01039595, 0.010738463, 0.012247331, 0.010644845, 0.014009048, 0.012342823, 0.01261713, 0.047979344, 0.014494054, 0.012115875, 0.012398232, 0.0146733485, 0.011873577, 0.011879105, 0.011921403, 0.011230557, 0.0120828, 0.012705601, 0.011586014, 0.014611734, 0.011513282, 0.012469719, 0.012171241, 0.013895642, 0.0138534745, 0.012239847, 0.011308342, 0.012420799, 0.011106574, 0.011964931, 0.01140944, 0.011285264, 0.010633845]\n",
      "2022-02-28 17:53:40,850 : INFO : merging changes from 1204 documents into a model of 3204 documents\n",
      "2022-02-28 17:53:40,857 : INFO : topic #43 (0.010): 0.096*\",\" + 0.050*\"comput\" + 0.039*\"mean\" + 0.029*\"wide\" + 0.028*\"rule\" + 0.027*\"standard\" + 0.024*\"extent\" + 0.023*\"data\" + 0.022*\"topic\" + 0.022*\"analys\"\n",
      "2022-02-28 17:53:40,857 : INFO : topic #12 (0.010): 0.106*\",\" + 0.100*\"run\" + 0.049*\"materi\" + 0.047*\"number\" + 0.046*\"format\" + 0.043*\"vari\" + 0.038*\"column\" + 0.034*\"suitabl\" + 0.027*\"68\" + 0.027*\"time\"\n",
      "2022-02-28 17:53:40,859 : INFO : topic #15 (0.016): 0.356*\"problem\" + 0.153*\"algorithm\" + 0.110*\"linear\" + 0.099*\"program\" + 0.084*\"solv\" + 0.047*\"comput\" + 0.033*\"reduct\" + 0.026*\"minimum\" + 0.017*\"improv\" + 0.016*\"switch\"\n",
      "2022-02-28 17:53:40,860 : INFO : topic #11 (0.019): 0.346*\"function\" + 0.147*\"order\" + 0.090*\"find\" + 0.070*\"set\" + 0.048*\"integ\" + 0.041*\"minim\" + 0.032*\"complet\" + 0.029*\"partial\" + 0.026*\"kind\" + 0.026*\"valu\"\n",
      "2022-02-28 17:53:40,862 : INFO : topic #74 (0.048): 0.437*\"(\" + 0.381*\")\" + 0.167*\"algorithm\" + 0.005*\"bessel\" + 0.004*\"40\" + 0.002*\"critic\" + 0.001*\"path\" + 0.000*\",\" + 0.000*\"5\" + 0.000*\"seri\"\n",
      "2022-02-28 17:53:40,863 : INFO : topic diff=0.277404, rho=0.261694\n",
      "2022-02-28 17:53:40,870 : INFO : PROGRESS: pass 13, at document #2000/3204\n",
      "2022-02-28 17:53:41,919 : INFO : optimized alpha [0.010663594, 0.0115664285, 0.011676339, 0.011981072, 0.011466698, 0.012805743, 0.013998024, 0.013177042, 0.010764771, 0.015098984, 0.015230373, 0.019659925, 0.010297371, 0.012257523, 0.0154427, 0.016506318, 0.013691503, 0.013047575, 0.012378609, 0.012500851, 0.01263734, 0.014592515, 0.012979509, 0.014771292, 0.0149613675, 0.012224678, 0.012633676, 0.012205953, 0.012781445, 0.011367051, 0.012937722, 0.012478379, 0.011070973, 0.012573732, 0.012617465, 0.012078811, 0.015669426, 0.01283516, 0.01267823, 0.0128073245, 0.012407833, 0.0114432685, 0.011252627, 0.010219151, 0.011827382, 0.011324871, 0.012076024, 0.0141266165, 0.013448241, 0.011417014, 0.012715931, 0.0126916645, 0.014205984, 0.01086668, 0.011492272, 0.012213138, 0.011561959, 0.010644164, 0.012461877, 0.012786698, 0.012389784, 0.011864128, 0.011774585, 0.011542678, 0.010621629, 0.011829583, 0.01124248, 0.010401486, 0.010747435, 0.012406529, 0.010708048, 0.014019799, 0.012470124, 0.01268512, 0.050505415, 0.0145924, 0.012286592, 0.012451498, 0.014991924, 0.011890183, 0.011880263, 0.011992733, 0.011288989, 0.0121296365, 0.012842238, 0.011559495, 0.0146366665, 0.011539716, 0.012538577, 0.012212962, 0.014090644, 0.013961162, 0.012242566, 0.011330359, 0.012459348, 0.011172788, 0.011945967, 0.011380289, 0.011322065, 0.010685579]\n",
      "2022-02-28 17:53:41,926 : INFO : merging changes from 2000 documents into a model of 3204 documents\n",
      "2022-02-28 17:53:41,932 : INFO : topic #43 (0.010): 0.096*\",\" + 0.049*\"comput\" + 0.041*\"mean\" + 0.028*\"rule\" + 0.027*\"wide\" + 0.025*\"standard\" + 0.023*\"extent\" + 0.022*\"data\" + 0.021*\"topic\" + 0.020*\"analys\"\n",
      "2022-02-28 17:53:41,934 : INFO : topic #12 (0.010): 0.111*\",\" + 0.097*\"run\" + 0.054*\"format\" + 0.049*\"materi\" + 0.047*\"number\" + 0.036*\"column\" + 0.035*\"suitabl\" + 0.033*\"vari\" + 0.027*\"time\" + 0.026*\"identif\"\n",
      "2022-02-28 17:53:41,936 : INFO : topic #15 (0.017): 0.361*\"problem\" + 0.145*\"algorithm\" + 0.108*\"linear\" + 0.102*\"program\" + 0.085*\"solv\" + 0.048*\"comput\" + 0.033*\"reduct\" + 0.025*\"minimum\" + 0.016*\"improv\" + 0.016*\"effici\"\n",
      "2022-02-28 17:53:41,937 : INFO : topic #11 (0.020): 0.361*\"function\" + 0.136*\"order\" + 0.087*\"find\" + 0.067*\"set\" + 0.050*\"integ\" + 0.038*\"minim\" + 0.031*\"complet\" + 0.027*\"valu\" + 0.027*\"kind\" + 0.027*\"partial\"\n",
      "2022-02-28 17:53:41,939 : INFO : topic #74 (0.051): 0.430*\"(\" + 0.380*\")\" + 0.174*\"algorithm\" + 0.006*\"bessel\" + 0.004*\"40\" + 0.002*\"critic\" + 0.001*\"path\" + 0.000*\",\" + 0.000*\"5\" + 0.000*\"seri\"\n",
      "2022-02-28 17:53:41,940 : INFO : topic diff=0.242947, rho=0.253169\n",
      "2022-02-28 17:53:42,916 : INFO : -6.465 per-word bound, 88.4 perplexity estimate based on a held-out corpus of 1204 documents with 49783 words\n",
      "2022-02-28 17:53:42,917 : INFO : PROGRESS: pass 13, at document #3204/3204\n",
      "2022-02-28 17:53:43,625 : INFO : optimized alpha [0.01076154, 0.011672873, 0.011811663, 0.012118387, 0.011560163, 0.012918566, 0.014235025, 0.013403685, 0.010862862, 0.015313167, 0.015520335, 0.020185985, 0.010349676, 0.012454114, 0.015834415, 0.017006192, 0.013947514, 0.013295374, 0.012519411, 0.012735723, 0.012772665, 0.01477193, 0.013091966, 0.01496711, 0.015450561, 0.012359967, 0.012868751, 0.012323014, 0.012905725, 0.011458961, 0.013036402, 0.012603677, 0.011199762, 0.01272055, 0.012775837, 0.012208556, 0.016027428, 0.012993857, 0.012919398, 0.012938537, 0.012573988, 0.011585438, 0.011391335, 0.010290227, 0.01196303, 0.011445766, 0.012325453, 0.014080519, 0.013644074, 0.011517116, 0.012871811, 0.012881902, 0.0143495295, 0.010938599, 0.011595085, 0.0123759415, 0.0117520355, 0.010683271, 0.012632104, 0.0130065, 0.012518522, 0.0119870305, 0.011932192, 0.011670609, 0.010709296, 0.011959993, 0.011351276, 0.01048036, 0.01083101, 0.012449325, 0.010773961, 0.014319618, 0.012605294, 0.012817458, 0.05214788, 0.014906352, 0.012379591, 0.012627436, 0.015283835, 0.011996764, 0.012042568, 0.012104471, 0.011409535, 0.012267978, 0.012970803, 0.011690951, 0.014965114, 0.011674019, 0.012695615, 0.0123336045, 0.014255418, 0.014157542, 0.012425031, 0.011414038, 0.012621573, 0.011245526, 0.012098568, 0.011512067, 0.011440352, 0.010758929]\n",
      "2022-02-28 17:53:43,633 : INFO : merging changes from 1204 documents into a model of 3204 documents\n",
      "2022-02-28 17:53:43,639 : INFO : topic #43 (0.010): 0.097*\",\" + 0.050*\"comput\" + 0.040*\"mean\" + 0.029*\"wide\" + 0.029*\"rule\" + 0.027*\"standard\" + 0.024*\"extent\" + 0.023*\"data\" + 0.022*\"topic\" + 0.022*\"analys\"\n",
      "2022-02-28 17:53:43,640 : INFO : topic #12 (0.010): 0.108*\",\" + 0.104*\"run\" + 0.049*\"number\" + 0.048*\"materi\" + 0.047*\"format\" + 0.042*\"vari\" + 0.038*\"column\" + 0.033*\"suitabl\" + 0.027*\"68\" + 0.027*\"time\"\n",
      "2022-02-28 17:53:43,641 : INFO : topic #15 (0.017): 0.362*\"problem\" + 0.151*\"algorithm\" + 0.110*\"linear\" + 0.100*\"program\" + 0.083*\"solv\" + 0.048*\"comput\" + 0.033*\"reduct\" + 0.025*\"minimum\" + 0.016*\"improv\" + 0.016*\"switch\"\n",
      "2022-02-28 17:53:43,641 : INFO : topic #11 (0.020): 0.352*\"function\" + 0.148*\"order\" + 0.091*\"find\" + 0.067*\"set\" + 0.048*\"integ\" + 0.041*\"minim\" + 0.032*\"complet\" + 0.028*\"partial\" + 0.026*\"valu\" + 0.026*\"kind\"\n",
      "2022-02-28 17:53:43,642 : INFO : topic #74 (0.052): 0.439*\"(\" + 0.381*\")\" + 0.166*\"algorithm\" + 0.005*\"bessel\" + 0.003*\"40\" + 0.002*\"critic\" + 0.001*\"path\" + 0.000*\",\" + 0.000*\"5\" + 0.000*\"seri\"\n",
      "2022-02-28 17:53:43,644 : INFO : topic diff=0.248182, rho=0.253169\n",
      "2022-02-28 17:53:43,651 : INFO : PROGRESS: pass 14, at document #2000/3204\n",
      "2022-02-28 17:53:44,455 : INFO : optimized alpha [0.010770402, 0.011686689, 0.01185607, 0.012191083, 0.011597087, 0.012990166, 0.014355529, 0.013404239, 0.010924899, 0.0154804615, 0.015631417, 0.020491691, 0.010380642, 0.012464482, 0.016025037, 0.017155604, 0.014103187, 0.013430321, 0.012579079, 0.01275247, 0.012894876, 0.01498913, 0.01314892, 0.015106661, 0.01565069, 0.012392378, 0.012861807, 0.012406013, 0.013028, 0.011496635, 0.013174689, 0.012685142, 0.011195409, 0.012817978, 0.012825473, 0.0122321965, 0.016097713, 0.0129931355, 0.013001531, 0.013035988, 0.012600188, 0.011562549, 0.011361588, 0.010297437, 0.011988246, 0.011459196, 0.012371082, 0.014419302, 0.013771859, 0.011528242, 0.012934551, 0.012930003, 0.014531097, 0.010956664, 0.011619956, 0.012387917, 0.011771863, 0.010691325, 0.012699249, 0.012991282, 0.012621382, 0.012022299, 0.011976977, 0.011655372, 0.010692529, 0.011986019, 0.011416049, 0.010485919, 0.010839914, 0.012605594, 0.010838489, 0.014326946, 0.012731835, 0.012883896, 0.054718174, 0.015004, 0.012547649, 0.012680746, 0.015599496, 0.012016022, 0.0120463595, 0.012178767, 0.011470927, 0.012316635, 0.013111215, 0.011663675, 0.014991675, 0.011699712, 0.012761241, 0.012374299, 0.014449115, 0.014266228, 0.012430275, 0.011438536, 0.012657383, 0.011308989, 0.012078416, 0.0114865, 0.011477668, 0.010808252]\n",
      "2022-02-28 17:53:44,461 : INFO : merging changes from 2000 documents into a model of 3204 documents\n",
      "2022-02-28 17:53:44,467 : INFO : topic #43 (0.010): 0.097*\",\" + 0.049*\"comput\" + 0.041*\"mean\" + 0.028*\"rule\" + 0.027*\"wide\" + 0.025*\"standard\" + 0.023*\"data\" + 0.022*\"extent\" + 0.021*\"bank\" + 0.021*\"topic\"\n",
      "2022-02-28 17:53:44,468 : INFO : topic #12 (0.010): 0.113*\",\" + 0.102*\"run\" + 0.054*\"format\" + 0.048*\"materi\" + 0.048*\"number\" + 0.035*\"column\" + 0.035*\"suitabl\" + 0.033*\"vari\" + 0.026*\"time\" + 0.026*\"identif\"\n",
      "2022-02-28 17:53:44,470 : INFO : topic #15 (0.017): 0.367*\"problem\" + 0.144*\"algorithm\" + 0.107*\"linear\" + 0.103*\"program\" + 0.084*\"solv\" + 0.050*\"comput\" + 0.032*\"reduct\" + 0.024*\"minimum\" + 0.016*\"effici\" + 0.015*\"improv\"\n",
      "2022-02-28 17:53:44,471 : INFO : topic #11 (0.020): 0.366*\"function\" + 0.137*\"order\" + 0.088*\"find\" + 0.064*\"set\" + 0.050*\"integ\" + 0.038*\"minim\" + 0.031*\"complet\" + 0.027*\"valu\" + 0.027*\"kind\" + 0.026*\"partial\"\n",
      "2022-02-28 17:53:44,472 : INFO : topic #74 (0.055): 0.432*\"(\" + 0.380*\")\" + 0.173*\"algorithm\" + 0.005*\"bessel\" + 0.004*\"40\" + 0.002*\"critic\" + 0.001*\"path\" + 0.000*\",\" + 0.000*\"5\" + 0.000*\"seri\"\n",
      "2022-02-28 17:53:44,473 : INFO : topic diff=0.219105, rho=0.245426\n",
      "2022-02-28 17:53:45,422 : INFO : -6.457 per-word bound, 87.8 perplexity estimate based on a held-out corpus of 1204 documents with 49783 words\n",
      "2022-02-28 17:53:45,422 : INFO : PROGRESS: pass 14, at document #3204/3204\n",
      "2022-02-28 17:53:46,089 : INFO : optimized alpha [0.010866201, 0.011793142, 0.011995756, 0.012330529, 0.01169087, 0.013108312, 0.0145975035, 0.013626585, 0.011023018, 0.01569646, 0.015920062, 0.021012655, 0.0104339095, 0.012662484, 0.01642984, 0.017659627, 0.014375906, 0.013685483, 0.012711626, 0.012985821, 0.013027211, 0.015161412, 0.0132614225, 0.015295127, 0.016156176, 0.012527259, 0.013092533, 0.01252046, 0.0131546715, 0.01158643, 0.013268047, 0.012810143, 0.011326048, 0.012966871, 0.012977883, 0.0123565635, 0.016457088, 0.0131484205, 0.013249728, 0.013169681, 0.012762911, 0.011701633, 0.011499705, 0.010371216, 0.012125967, 0.011577453, 0.012626916, 0.014374651, 0.013966785, 0.011626082, 0.013087123, 0.013113931, 0.0146648465, 0.011029247, 0.01171332, 0.012547278, 0.011960821, 0.01072755, 0.01286354, 0.013212144, 0.012747184, 0.012147524, 0.012141421, 0.011780459, 0.010780431, 0.012113579, 0.011529428, 0.010565172, 0.01092175, 0.01265451, 0.010902826, 0.0146276485, 0.012858848, 0.013023605, 0.056305096, 0.015310773, 0.012635559, 0.012855805, 0.015916912, 0.0121251345, 0.012207777, 0.012290433, 0.01159123, 0.012446967, 0.0132394275, 0.011797048, 0.015321338, 0.011828783, 0.0129149435, 0.012494748, 0.014613062, 0.014461472, 0.012614051, 0.011517948, 0.01282142, 0.011380016, 0.012235249, 0.011615385, 0.011602843, 0.010875477]\n",
      "2022-02-28 17:53:46,095 : INFO : merging changes from 1204 documents into a model of 3204 documents\n",
      "2022-02-28 17:53:46,101 : INFO : topic #43 (0.010): 0.098*\",\" + 0.049*\"comput\" + 0.040*\"mean\" + 0.029*\"rule\" + 0.029*\"wide\" + 0.027*\"standard\" + 0.024*\"extent\" + 0.022*\"data\" + 0.022*\"topic\" + 0.021*\"analys\"\n",
      "2022-02-28 17:53:46,103 : INFO : topic #12 (0.010): 0.111*\",\" + 0.108*\"run\" + 0.049*\"number\" + 0.048*\"materi\" + 0.048*\"format\" + 0.042*\"vari\" + 0.038*\"column\" + 0.034*\"suitabl\" + 0.027*\"time\" + 0.027*\"68\"\n",
      "2022-02-28 17:53:46,105 : INFO : topic #15 (0.018): 0.368*\"problem\" + 0.149*\"algorithm\" + 0.110*\"linear\" + 0.101*\"program\" + 0.082*\"solv\" + 0.050*\"comput\" + 0.032*\"reduct\" + 0.024*\"minimum\" + 0.016*\"effici\" + 0.016*\"improv\"\n",
      "2022-02-28 17:53:46,109 : INFO : topic #11 (0.021): 0.356*\"function\" + 0.149*\"order\" + 0.091*\"find\" + 0.063*\"set\" + 0.048*\"integ\" + 0.043*\"minim\" + 0.032*\"complet\" + 0.027*\"partial\" + 0.026*\"valu\" + 0.025*\"kind\"\n",
      "2022-02-28 17:53:46,110 : INFO : topic #74 (0.056): 0.441*\"(\" + 0.381*\")\" + 0.165*\"algorithm\" + 0.005*\"bessel\" + 0.003*\"40\" + 0.002*\"critic\" + 0.000*\"path\" + 0.000*\",\" + 0.000*\"5\" + 0.000*\"seri\"\n",
      "2022-02-28 17:53:46,115 : INFO : topic diff=0.224269, rho=0.245426\n",
      "2022-02-28 17:53:46,126 : INFO : PROGRESS: pass 15, at document #2000/3204\n",
      "2022-02-28 17:53:46,891 : INFO : optimized alpha [0.010876206, 0.011808145, 0.012041896, 0.012409064, 0.011731257, 0.013178436, 0.014715675, 0.013626445, 0.01107861, 0.015860865, 0.016034245, 0.021316087, 0.010465667, 0.012673715, 0.016619718, 0.017811483, 0.014527587, 0.013826435, 0.012771502, 0.013001445, 0.013148778, 0.015381131, 0.013313954, 0.015432002, 0.016360007, 0.012558862, 0.013084905, 0.01260479, 0.013273191, 0.011621966, 0.013408756, 0.012894532, 0.011324404, 0.013068668, 0.0130293965, 0.012384063, 0.016526386, 0.013146001, 0.01332836, 0.013268419, 0.0127913505, 0.011676376, 0.011469151, 0.010377221, 0.012153399, 0.011590551, 0.012681518, 0.0147179635, 0.014097354, 0.011637052, 0.013157731, 0.013166949, 0.014845283, 0.01104579, 0.0117349345, 0.012557195, 0.011985486, 0.010731948, 0.012932208, 0.013204385, 0.012849634, 0.012186378, 0.012201105, 0.011765567, 0.010765569, 0.012140387, 0.01159423, 0.010570753, 0.010931943, 0.012811219, 0.010964823, 0.014636897, 0.012981706, 0.013091683, 0.05888686, 0.015407886, 0.012802658, 0.012909278, 0.016245412, 0.012142547, 0.0122112, 0.012361772, 0.011659654, 0.012494545, 0.0133775, 0.011769028, 0.015351383, 0.011853792, 0.012977538, 0.012533051, 0.014802241, 0.014567886, 0.012623254, 0.011540741, 0.012860754, 0.011442276, 0.0122211985, 0.011590482, 0.0116392635, 0.010927707]\n",
      "2022-02-28 17:53:46,897 : INFO : merging changes from 2000 documents into a model of 3204 documents\n",
      "2022-02-28 17:53:46,903 : INFO : topic #43 (0.010): 0.099*\",\" + 0.050*\"comput\" + 0.041*\"mean\" + 0.028*\"rule\" + 0.026*\"wide\" + 0.025*\"standard\" + 0.023*\"bank\" + 0.023*\"data\" + 0.022*\"extent\" + 0.020*\"topic\"\n",
      "2022-02-28 17:53:46,904 : INFO : topic #12 (0.010): 0.115*\",\" + 0.105*\"run\" + 0.055*\"format\" + 0.048*\"number\" + 0.048*\"materi\" + 0.035*\"column\" + 0.035*\"suitabl\" + 0.033*\"vari\" + 0.026*\"time\" + 0.026*\"identif\"\n",
      "2022-02-28 17:53:46,905 : INFO : topic #15 (0.018): 0.373*\"problem\" + 0.142*\"algorithm\" + 0.107*\"linear\" + 0.103*\"program\" + 0.084*\"solv\" + 0.051*\"comput\" + 0.032*\"reduct\" + 0.023*\"minimum\" + 0.016*\"effici\" + 0.015*\"switch\"\n",
      "2022-02-28 17:53:46,905 : INFO : topic #11 (0.021): 0.370*\"function\" + 0.138*\"order\" + 0.088*\"find\" + 0.060*\"set\" + 0.050*\"integ\" + 0.040*\"minim\" + 0.031*\"complet\" + 0.027*\"valu\" + 0.026*\"kind\" + 0.025*\"partial\"\n",
      "2022-02-28 17:53:46,906 : INFO : topic #74 (0.059): 0.434*\"(\" + 0.380*\")\" + 0.171*\"algorithm\" + 0.005*\"bessel\" + 0.003*\"40\" + 0.002*\"critic\" + 0.000*\"path\" + 0.000*\",\" + 0.000*\"5\" + 0.000*\"seri\"\n",
      "2022-02-28 17:53:46,907 : INFO : topic diff=0.199537, rho=0.238352\n",
      "2022-02-28 17:53:47,778 : INFO : -6.449 per-word bound, 87.4 perplexity estimate based on a held-out corpus of 1204 documents with 49783 words\n",
      "2022-02-28 17:53:47,779 : INFO : PROGRESS: pass 15, at document #3204/3204\n",
      "2022-02-28 17:53:48,413 : INFO : optimized alpha [0.0109679, 0.011914729, 0.012181203, 0.012560751, 0.011827742, 0.013296731, 0.014942423, 0.013842133, 0.011179101, 0.016075723, 0.016312053, 0.02184856, 0.010522041, 0.012865719, 0.01701182, 0.01832005, 0.014811508, 0.0140893515, 0.012906338, 0.013228518, 0.0132756885, 0.015555686, 0.013424026, 0.015613455, 0.016863, 0.012698539, 0.013311659, 0.012716803, 0.013394516, 0.011714472, 0.013502433, 0.01301941, 0.011459188, 0.013217158, 0.01317098, 0.012503404, 0.016871076, 0.013298176, 0.013581253, 0.0134072695, 0.012950906, 0.011810317, 0.011613573, 0.010447431, 0.0122884335, 0.011706361, 0.01294185, 0.01466858, 0.014297295, 0.011732818, 0.01330727, 0.013352752, 0.014981533, 0.011116897, 0.011826303, 0.012715854, 0.012176035, 0.010769816, 0.013093421, 0.013418669, 0.012970186, 0.012311491, 0.012367633, 0.011890431, 0.010849505, 0.012262913, 0.011705304, 0.010650462, 0.011009905, 0.012858461, 0.011029828, 0.014941928, 0.013103413, 0.013223514, 0.06040304, 0.01572345, 0.012893307, 0.0130811045, 0.016570106, 0.01224933, 0.0123743275, 0.012476109, 0.011784436, 0.012624619, 0.013502908, 0.011902039, 0.015679605, 0.011977939, 0.01312824, 0.01265098, 0.014962629, 0.014765086, 0.012793572, 0.011618553, 0.0130216405, 0.011511725, 0.0123797385, 0.011716641, 0.011764284, 0.010997756]\n",
      "2022-02-28 17:53:48,419 : INFO : merging changes from 1204 documents into a model of 3204 documents\n",
      "2022-02-28 17:53:48,425 : INFO : topic #43 (0.010): 0.099*\",\" + 0.050*\"comput\" + 0.040*\"mean\" + 0.030*\"rule\" + 0.028*\"wide\" + 0.027*\"standard\" + 0.023*\"extent\" + 0.022*\"data\" + 0.021*\"topic\" + 0.021*\"analys\"\n",
      "2022-02-28 17:53:48,426 : INFO : topic #12 (0.011): 0.113*\",\" + 0.110*\"run\" + 0.050*\"number\" + 0.048*\"format\" + 0.047*\"materi\" + 0.041*\"vari\" + 0.038*\"column\" + 0.034*\"suitabl\" + 0.027*\"time\" + 0.026*\"68\"\n",
      "2022-02-28 17:53:48,427 : INFO : topic #15 (0.018): 0.373*\"problem\" + 0.147*\"algorithm\" + 0.109*\"linear\" + 0.101*\"program\" + 0.082*\"solv\" + 0.051*\"comput\" + 0.032*\"reduct\" + 0.024*\"minimum\" + 0.016*\"effici\" + 0.015*\"switch\"\n",
      "2022-02-28 17:53:48,428 : INFO : topic #11 (0.022): 0.359*\"function\" + 0.150*\"order\" + 0.091*\"find\" + 0.060*\"set\" + 0.048*\"integ\" + 0.046*\"minim\" + 0.032*\"complet\" + 0.026*\"valu\" + 0.026*\"partial\" + 0.025*\"kind\"\n",
      "2022-02-28 17:53:48,428 : INFO : topic #74 (0.060): 0.442*\"(\" + 0.381*\")\" + 0.164*\"algorithm\" + 0.005*\"bessel\" + 0.003*\"40\" + 0.002*\"critic\" + 0.000*\"path\" + 0.000*\",\" + 0.000*\"5\" + 0.000*\"seri\"\n",
      "2022-02-28 17:53:48,429 : INFO : topic diff=0.204494, rho=0.238352\n",
      "2022-02-28 17:53:48,439 : INFO : PROGRESS: pass 16, at document #2000/3204\n",
      "2022-02-28 17:53:49,209 : INFO : optimized alpha [0.010977778, 0.01192948, 0.012224903, 0.012640756, 0.011873003, 0.013365426, 0.015062051, 0.013842995, 0.011233606, 0.016239278, 0.016425723, 0.022147253, 0.010556977, 0.012879268, 0.017208843, 0.018465955, 0.014960941, 0.014229958, 0.012966451, 0.013241588, 0.013393758, 0.015780017, 0.013473967, 0.015744163, 0.017064547, 0.012733822, 0.013304966, 0.012801052, 0.013517308, 0.011756174, 0.01364092, 0.013100706, 0.011457461, 0.013327848, 0.0132213775, 0.012528882, 0.016945535, 0.013300328, 0.013662824, 0.013498012, 0.012977025, 0.011792523, 0.0115930205, 0.010455932, 0.012313754, 0.011725915, 0.012999358, 0.015006539, 0.014434058, 0.01174228, 0.013374977, 0.013404429, 0.015157619, 0.011133326, 0.011846185, 0.012726745, 0.01219837, 0.010774481, 0.013163703, 0.01340577, 0.013070817, 0.012345124, 0.012430408, 0.011880076, 0.010836461, 0.012290466, 0.011772935, 0.010658559, 0.011017482, 0.013012748, 0.011091989, 0.014947784, 0.013225834, 0.013284025, 0.063010454, 0.015818046, 0.013061123, 0.013130187, 0.01689441, 0.012267821, 0.012375956, 0.012550511, 0.011861198, 0.01267117, 0.013638848, 0.011878807, 0.015705751, 0.012005171, 0.013189495, 0.012691411, 0.015150991, 0.014872808, 0.0128007075, 0.011642342, 0.0130673945, 0.011574176, 0.0123687005, 0.011690886, 0.011802656, 0.011049048]\n",
      "2022-02-28 17:53:49,215 : INFO : merging changes from 2000 documents into a model of 3204 documents\n",
      "2022-02-28 17:53:49,221 : INFO : topic #43 (0.010): 0.099*\",\" + 0.050*\"comput\" + 0.042*\"mean\" + 0.030*\"rule\" + 0.026*\"wide\" + 0.025*\"standard\" + 0.024*\"bank\" + 0.023*\"data\" + 0.022*\"extent\" + 0.020*\"topic\"\n",
      "2022-02-28 17:53:49,222 : INFO : topic #12 (0.011): 0.117*\",\" + 0.106*\"run\" + 0.055*\"format\" + 0.049*\"number\" + 0.048*\"materi\" + 0.035*\"suitabl\" + 0.035*\"column\" + 0.033*\"vari\" + 0.026*\"time\" + 0.026*\"identif\"\n",
      "2022-02-28 17:53:49,223 : INFO : topic #15 (0.018): 0.379*\"problem\" + 0.140*\"algorithm\" + 0.107*\"linear\" + 0.103*\"program\" + 0.083*\"solv\" + 0.053*\"comput\" + 0.031*\"reduct\" + 0.022*\"minimum\" + 0.016*\"effici\" + 0.015*\"switch\"\n",
      "2022-02-28 17:53:49,225 : INFO : topic #11 (0.022): 0.372*\"function\" + 0.140*\"order\" + 0.088*\"find\" + 0.057*\"set\" + 0.050*\"integ\" + 0.042*\"minim\" + 0.031*\"complet\" + 0.028*\"valu\" + 0.026*\"kind\" + 0.025*\"partial\"\n",
      "2022-02-28 17:53:49,226 : INFO : topic #74 (0.063): 0.435*\"(\" + 0.380*\")\" + 0.170*\"algorithm\" + 0.005*\"bessel\" + 0.003*\"40\" + 0.002*\"critic\" + 0.000*\"path\" + 0.000*\",\" + 0.000*\"5\" + 0.000*\"seri\"\n",
      "2022-02-28 17:53:49,228 : INFO : topic diff=0.183120, rho=0.231857\n",
      "2022-02-28 17:53:50,091 : INFO : -6.443 per-word bound, 87.0 perplexity estimate based on a held-out corpus of 1204 documents with 49783 words\n",
      "2022-02-28 17:53:50,092 : INFO : PROGRESS: pass 16, at document #3204/3204\n",
      "2022-02-28 17:53:50,727 : INFO : optimized alpha [0.011071996, 0.012029399, 0.012364005, 0.012794808, 0.011976827, 0.013481305, 0.015288388, 0.014055122, 0.011330005, 0.016450247, 0.016715763, 0.022678846, 0.010616318, 0.013078041, 0.017601434, 0.01898995, 0.015247743, 0.0144873485, 0.013103737, 0.0134652695, 0.013518079, 0.015944846, 0.0135844415, 0.015918927, 0.01758116, 0.01286848, 0.013530697, 0.012908339, 0.013636032, 0.011846828, 0.013732363, 0.013223139, 0.011589815, 0.013473552, 0.0133628445, 0.0126458835, 0.017298918, 0.013452247, 0.0139128035, 0.013634221, 0.013138717, 0.011928555, 0.011750396, 0.010526902, 0.012443874, 0.011841778, 0.013264351, 0.014949765, 0.01463643, 0.011833858, 0.013521701, 0.013584528, 0.015287938, 0.011205205, 0.011931191, 0.01288496, 0.012381231, 0.01081813, 0.013322035, 0.013621659, 0.013188855, 0.012472778, 0.012603939, 0.012002593, 0.010922949, 0.0124106435, 0.011886458, 0.010736712, 0.0110982265, 0.013060906, 0.011155636, 0.015242815, 0.013347565, 0.013410614, 0.06444576, 0.016120736, 0.013152026, 0.013304101, 0.017226487, 0.012372526, 0.012531325, 0.012660099, 0.01199062, 0.012806056, 0.013764185, 0.0120092705, 0.016035905, 0.012126981, 0.013334866, 0.012809481, 0.0153108975, 0.015075145, 0.012970508, 0.0117164245, 0.0132279685, 0.011642164, 0.012531719, 0.011816914, 0.011934517, 0.011124091]\n",
      "2022-02-28 17:53:50,733 : INFO : merging changes from 1204 documents into a model of 3204 documents\n",
      "2022-02-28 17:53:50,739 : INFO : topic #43 (0.011): 0.100*\",\" + 0.049*\"comput\" + 0.041*\"mean\" + 0.031*\"rule\" + 0.028*\"wide\" + 0.026*\"standard\" + 0.023*\"extent\" + 0.022*\"data\" + 0.021*\"topic\" + 0.021*\"analys\"\n",
      "2022-02-28 17:53:50,740 : INFO : topic #12 (0.011): 0.115*\",\" + 0.112*\"run\" + 0.051*\"number\" + 0.048*\"format\" + 0.047*\"materi\" + 0.041*\"vari\" + 0.037*\"column\" + 0.035*\"suitabl\" + 0.026*\"time\" + 0.026*\"68\"\n",
      "2022-02-28 17:53:50,742 : INFO : topic #15 (0.019): 0.379*\"problem\" + 0.145*\"algorithm\" + 0.109*\"linear\" + 0.101*\"program\" + 0.082*\"solv\" + 0.052*\"comput\" + 0.032*\"reduct\" + 0.023*\"minimum\" + 0.016*\"effici\" + 0.015*\"switch\"\n",
      "2022-02-28 17:53:50,743 : INFO : topic #11 (0.023): 0.362*\"function\" + 0.151*\"order\" + 0.091*\"find\" + 0.056*\"set\" + 0.048*\"minim\" + 0.048*\"integ\" + 0.032*\"complet\" + 0.027*\"valu\" + 0.025*\"partial\" + 0.025*\"kind\"\n",
      "2022-02-28 17:53:50,744 : INFO : topic #74 (0.064): 0.443*\"(\" + 0.380*\")\" + 0.163*\"algorithm\" + 0.005*\"bessel\" + 0.003*\"40\" + 0.002*\"critic\" + 0.000*\"path\" + 0.000*\",\" + 0.000*\"5\" + 0.000*\"seri\"\n",
      "2022-02-28 17:53:50,745 : INFO : topic diff=0.187890, rho=0.231857\n",
      "2022-02-28 17:53:50,754 : INFO : PROGRESS: pass 17, at document #2000/3204\n",
      "2022-02-28 17:53:51,833 : INFO : optimized alpha [0.0110842455, 0.012047992, 0.0124081075, 0.012877797, 0.012023947, 0.013545677, 0.015409519, 0.014055324, 0.011380992, 0.016615042, 0.016828924, 0.02297282, 0.010650714, 0.013092409, 0.017793808, 0.019134147, 0.015403784, 0.014630888, 0.013162676, 0.0134819215, 0.013631272, 0.01616857, 0.013639648, 0.016043758, 0.017794248, 0.012904384, 0.013521826, 0.012992614, 0.01376454, 0.011887789, 0.01386727, 0.013299996, 0.01158934, 0.013582488, 0.013413678, 0.0126737105, 0.017370695, 0.013454135, 0.013995787, 0.013729712, 0.013162565, 0.011912397, 0.011729988, 0.010534197, 0.012469952, 0.011860913, 0.013326304, 0.015277522, 0.014769487, 0.011841875, 0.013592619, 0.0136303, 0.015465066, 0.011225261, 0.011950784, 0.01289246, 0.0124040535, 0.010826817, 0.013389418, 0.013612946, 0.01328932, 0.012511406, 0.012672668, 0.011989711, 0.010910377, 0.012437605, 0.011948907, 0.010744782, 0.011105768, 0.013217429, 0.01121802, 0.01524728, 0.013466625, 0.013474529, 0.06706222, 0.016213108, 0.01331627, 0.01335351, 0.01756999, 0.012390654, 0.01253124, 0.012737526, 0.012072858, 0.01284873, 0.013899655, 0.011989223, 0.016060075, 0.012153652, 0.013393359, 0.012850522, 0.01549685, 0.015175731, 0.012977204, 0.0117466245, 0.013271162, 0.0117035825, 0.012522091, 0.011789027, 0.011972026, 0.0111745]\n",
      "2022-02-28 17:53:51,840 : INFO : merging changes from 2000 documents into a model of 3204 documents\n",
      "2022-02-28 17:53:51,847 : INFO : topic #43 (0.011): 0.100*\",\" + 0.049*\"comput\" + 0.042*\"mean\" + 0.030*\"rule\" + 0.026*\"wide\" + 0.026*\"bank\" + 0.025*\"standard\" + 0.023*\"data\" + 0.022*\"extent\" + 0.020*\"topic\"\n",
      "2022-02-28 17:53:51,848 : INFO : topic #12 (0.011): 0.119*\",\" + 0.108*\"run\" + 0.055*\"format\" + 0.050*\"number\" + 0.048*\"materi\" + 0.035*\"suitabl\" + 0.035*\"column\" + 0.033*\"vari\" + 0.026*\"time\" + 0.026*\"identif\"\n",
      "2022-02-28 17:53:51,849 : INFO : topic #15 (0.019): 0.384*\"problem\" + 0.139*\"algorithm\" + 0.106*\"linear\" + 0.102*\"program\" + 0.083*\"solv\" + 0.054*\"comput\" + 0.031*\"reduct\" + 0.022*\"minimum\" + 0.017*\"effici\" + 0.015*\"switch\"\n",
      "2022-02-28 17:53:51,853 : INFO : topic #11 (0.023): 0.375*\"function\" + 0.141*\"order\" + 0.088*\"find\" + 0.053*\"set\" + 0.050*\"integ\" + 0.045*\"minim\" + 0.031*\"complet\" + 0.028*\"valu\" + 0.026*\"kind\" + 0.024*\"partial\"\n",
      "2022-02-28 17:53:51,854 : INFO : topic #74 (0.067): 0.436*\"(\" + 0.380*\")\" + 0.170*\"algorithm\" + 0.005*\"bessel\" + 0.003*\"40\" + 0.002*\"critic\" + 0.000*\"path\" + 0.000*\",\" + 0.000*\"5\" + 0.000*\"seri\"\n",
      "2022-02-28 17:53:51,855 : INFO : topic diff=0.169644, rho=0.225865\n",
      "2022-02-28 17:53:52,919 : INFO : -6.437 per-word bound, 86.7 perplexity estimate based on a held-out corpus of 1204 documents with 49783 words\n",
      "2022-02-28 17:53:52,920 : INFO : PROGRESS: pass 17, at document #3204/3204\n",
      "2022-02-28 17:53:53,694 : INFO : optimized alpha [0.011176767, 0.0121483635, 0.012549523, 0.013024599, 0.012137368, 0.013654177, 0.015644452, 0.014266836, 0.0114820395, 0.016828513, 0.017108751, 0.023507768, 0.010714971, 0.013290773, 0.01819036, 0.019659812, 0.015702557, 0.014896535, 0.013297558, 0.01370999, 0.013753259, 0.016323859, 0.013748067, 0.016215185, 0.018345028, 0.013039141, 0.013746712, 0.013105174, 0.013891347, 0.011972244, 0.013959203, 0.013420164, 0.011728183, 0.013723034, 0.013557746, 0.012791032, 0.017723244, 0.013600852, 0.014245691, 0.013860883, 0.013319064, 0.012046049, 0.011887081, 0.0106039, 0.012597808, 0.011976964, 0.01359902, 0.015219427, 0.014971591, 0.011931734, 0.013736804, 0.013810092, 0.015586537, 0.011297936, 0.012029727, 0.013047997, 0.012581804, 0.010863631, 0.013545177, 0.013825561, 0.013405103, 0.012641632, 0.012853347, 0.012112419, 0.010995299, 0.01255557, 0.012065008, 0.01082154, 0.011187171, 0.013266517, 0.0112783015, 0.015538496, 0.013583469, 0.013598858, 0.068422176, 0.016515685, 0.013407587, 0.013527152, 0.017909933, 0.012493459, 0.012683989, 0.012852433, 0.012206947, 0.012983612, 0.0140250875, 0.012121926, 0.016386524, 0.012273328, 0.013536187, 0.012968817, 0.01565649, 0.01537479, 0.013139341, 0.011821583, 0.013431571, 0.011770271, 0.012677525, 0.011912774, 0.012097164, 0.0112564685]\n",
      "2022-02-28 17:53:53,700 : INFO : merging changes from 1204 documents into a model of 3204 documents\n",
      "2022-02-28 17:53:53,707 : INFO : topic #43 (0.011): 0.101*\",\" + 0.049*\"comput\" + 0.041*\"mean\" + 0.030*\"rule\" + 0.027*\"wide\" + 0.025*\"standard\" + 0.023*\"extent\" + 0.022*\"data\" + 0.021*\"bank\" + 0.021*\"topic\"\n",
      "2022-02-28 17:53:53,708 : INFO : topic #12 (0.011): 0.117*\",\" + 0.112*\"run\" + 0.051*\"number\" + 0.049*\"format\" + 0.046*\"materi\" + 0.040*\"vari\" + 0.037*\"suitabl\" + 0.037*\"column\" + 0.026*\"time\" + 0.025*\"68\"\n",
      "2022-02-28 17:53:53,708 : INFO : topic #15 (0.020): 0.383*\"problem\" + 0.143*\"algorithm\" + 0.108*\"linear\" + 0.100*\"program\" + 0.082*\"solv\" + 0.054*\"comput\" + 0.031*\"reduct\" + 0.022*\"minimum\" + 0.017*\"effici\" + 0.015*\"switch\"\n",
      "2022-02-28 17:53:53,709 : INFO : topic #11 (0.024): 0.365*\"function\" + 0.152*\"order\" + 0.091*\"find\" + 0.052*\"set\" + 0.051*\"minim\" + 0.048*\"integ\" + 0.031*\"complet\" + 0.027*\"valu\" + 0.025*\"kind\" + 0.025*\"partial\"\n",
      "2022-02-28 17:53:53,710 : INFO : topic #74 (0.068): 0.444*\"(\" + 0.380*\")\" + 0.163*\"algorithm\" + 0.005*\"bessel\" + 0.003*\"40\" + 0.002*\"critic\" + 0.000*\"path\" + 0.000*\",\" + 0.000*\"5\" + 0.000*\"seri\"\n",
      "2022-02-28 17:53:53,711 : INFO : topic diff=0.173891, rho=0.225865\n",
      "2022-02-28 17:53:53,723 : INFO : PROGRESS: pass 18, at document #2000/3204\n",
      "2022-02-28 17:53:54,498 : INFO : optimized alpha [0.011186338, 0.012165311, 0.012594098, 0.013103329, 0.012198482, 0.0137219075, 0.015767204, 0.014267999, 0.011532164, 0.016990935, 0.017227257, 0.023802096, 0.010750056, 0.013304409, 0.01838208, 0.019808915, 0.01585662, 0.015044794, 0.013356853, 0.0137346815, 0.013864771, 0.016547052, 0.0138069205, 0.016339667, 0.018565971, 0.0130758025, 0.013737166, 0.01318664, 0.014022876, 0.012011271, 0.014093775, 0.013497183, 0.011730128, 0.013834945, 0.013609047, 0.012819709, 0.017794413, 0.013601038, 0.014334878, 0.013947175, 0.013345124, 0.012031509, 0.011865479, 0.010613529, 0.012623293, 0.011997022, 0.013663937, 0.015550685, 0.0151061, 0.011941039, 0.013808014, 0.013857858, 0.015763078, 0.011313959, 0.012049095, 0.0130536575, 0.012602452, 0.010871253, 0.013612788, 0.013816367, 0.013505495, 0.012683764, 0.0129265, 0.012099768, 0.010983144, 0.012584753, 0.0121251065, 0.010827141, 0.011197185, 0.013421017, 0.011339716, 0.015543293, 0.013702366, 0.013657104, 0.07101744, 0.016609497, 0.01357293, 0.01357539, 0.018257564, 0.012511273, 0.012687915, 0.0129285995, 0.0122906305, 0.013026858, 0.0141602475, 0.012104934, 0.016410591, 0.012299468, 0.013595063, 0.0130119035, 0.015838526, 0.0154598, 0.013151437, 0.011848748, 0.013478208, 0.011829445, 0.012669257, 0.011889424, 0.012136605, 0.011309778]\n",
      "2022-02-28 17:53:54,505 : INFO : merging changes from 2000 documents into a model of 3204 documents\n",
      "2022-02-28 17:53:54,513 : INFO : topic #43 (0.011): 0.101*\",\" + 0.049*\"comput\" + 0.043*\"mean\" + 0.029*\"rule\" + 0.027*\"bank\" + 0.026*\"wide\" + 0.024*\"standard\" + 0.023*\"data\" + 0.022*\"extent\" + 0.020*\"topic\"\n",
      "2022-02-28 17:53:54,514 : INFO : topic #12 (0.011): 0.121*\",\" + 0.108*\"run\" + 0.055*\"format\" + 0.051*\"number\" + 0.047*\"materi\" + 0.037*\"suitabl\" + 0.034*\"column\" + 0.033*\"vari\" + 0.026*\"time\" + 0.026*\"identif\"\n",
      "2022-02-28 17:53:54,515 : INFO : topic #15 (0.020): 0.388*\"problem\" + 0.138*\"algorithm\" + 0.105*\"linear\" + 0.102*\"program\" + 0.083*\"solv\" + 0.055*\"comput\" + 0.031*\"reduct\" + 0.021*\"minimum\" + 0.017*\"effici\" + 0.015*\"switch\"\n",
      "2022-02-28 17:53:54,518 : INFO : topic #11 (0.024): 0.377*\"function\" + 0.143*\"order\" + 0.088*\"find\" + 0.050*\"integ\" + 0.049*\"set\" + 0.047*\"minim\" + 0.031*\"complet\" + 0.028*\"valu\" + 0.026*\"kind\" + 0.023*\"partial\"\n",
      "2022-02-28 17:53:54,522 : INFO : topic #74 (0.071): 0.437*\"(\" + 0.380*\")\" + 0.169*\"algorithm\" + 0.005*\"bessel\" + 0.003*\"40\" + 0.002*\"critic\" + 0.000*\"path\" + 0.000*\",\" + 0.000*\"5\" + 0.000*\"seri\"\n",
      "2022-02-28 17:53:54,523 : INFO : topic diff=0.157995, rho=0.220316\n",
      "2022-02-28 17:53:55,542 : INFO : -6.431 per-word bound, 86.3 perplexity estimate based on a held-out corpus of 1204 documents with 49783 words\n",
      "2022-02-28 17:53:55,544 : INFO : PROGRESS: pass 18, at document #3204/3204\n",
      "2022-02-28 17:53:56,340 : INFO : optimized alpha [0.011279455, 0.012270781, 0.012735586, 0.01324795, 0.01231233, 0.013835947, 0.0159964, 0.014476467, 0.011637876, 0.017200988, 0.017513223, 0.024331601, 0.010811224, 0.01349511, 0.018779462, 0.020329049, 0.016161798, 0.015310809, 0.013489461, 0.0139599135, 0.013984519, 0.016705118, 0.013918488, 0.016507931, 0.019132622, 0.013217961, 0.013959005, 0.013299593, 0.0141526, 0.012094244, 0.014186359, 0.013615217, 0.011860329, 0.013970563, 0.013748194, 0.012937425, 0.018139949, 0.013747858, 0.01458493, 0.014078666, 0.013501563, 0.0121607585, 0.012028961, 0.01068205, 0.012751362, 0.012106736, 0.013957062, 0.01549418, 0.015308166, 0.012027176, 0.013952343, 0.014037566, 0.015881864, 0.011387519, 0.012128855, 0.013209037, 0.012780021, 0.010909616, 0.013766063, 0.014025869, 0.01362167, 0.012809504, 0.013105048, 0.01222487, 0.011064596, 0.012693795, 0.01223485, 0.010900576, 0.011277244, 0.013468652, 0.011398863, 0.015830876, 0.013817046, 0.013779207, 0.07226699, 0.01692119, 0.013676964, 0.013748926, 0.018629141, 0.012609899, 0.012840534, 0.013046303, 0.012424961, 0.0131619945, 0.014283343, 0.012235414, 0.016736526, 0.012419436, 0.013738052, 0.013128184, 0.015995182, 0.015655862, 0.013308616, 0.01192246, 0.013640985, 0.0118927015, 0.0128268935, 0.012011119, 0.012257428, 0.0113882525]\n",
      "2022-02-28 17:53:56,352 : INFO : merging changes from 1204 documents into a model of 3204 documents\n",
      "2022-02-28 17:53:56,361 : INFO : topic #43 (0.011): 0.103*\",\" + 0.049*\"comput\" + 0.042*\"mean\" + 0.029*\"rule\" + 0.027*\"wide\" + 0.024*\"standard\" + 0.023*\"extent\" + 0.023*\"bank\" + 0.022*\"data\" + 0.021*\"topic\"\n",
      "2022-02-28 17:53:56,364 : INFO : topic #12 (0.011): 0.119*\",\" + 0.113*\"run\" + 0.052*\"number\" + 0.049*\"format\" + 0.046*\"materi\" + 0.040*\"vari\" + 0.037*\"suitabl\" + 0.036*\"column\" + 0.026*\"time\" + 0.025*\"68\"\n",
      "2022-02-28 17:53:56,365 : INFO : topic #15 (0.020): 0.389*\"problem\" + 0.142*\"algorithm\" + 0.107*\"linear\" + 0.100*\"program\" + 0.082*\"solv\" + 0.055*\"comput\" + 0.031*\"reduct\" + 0.019*\"minimum\" + 0.017*\"effici\" + 0.015*\"switch\"\n",
      "2022-02-28 17:53:56,366 : INFO : topic #11 (0.024): 0.368*\"function\" + 0.154*\"order\" + 0.091*\"find\" + 0.052*\"minim\" + 0.048*\"integ\" + 0.048*\"set\" + 0.030*\"complet\" + 0.027*\"valu\" + 0.025*\"kind\" + 0.024*\"partial\"\n",
      "2022-02-28 17:53:56,368 : INFO : topic #74 (0.072): 0.445*\"(\" + 0.380*\")\" + 0.162*\"algorithm\" + 0.005*\"bessel\" + 0.003*\"40\" + 0.002*\"critic\" + 0.000*\"path\" + 0.000*\",\" + 0.000*\"5\" + 0.000*\"seri\"\n",
      "2022-02-28 17:53:56,368 : INFO : topic diff=0.161794, rho=0.220316\n",
      "2022-02-28 17:53:56,379 : INFO : PROGRESS: pass 19, at document #2000/3204\n",
      "2022-02-28 17:53:57,223 : INFO : optimized alpha [0.011290155, 0.01229007, 0.0127765145, 0.013328336, 0.012379194, 0.013899454, 0.016119102, 0.014478611, 0.011688431, 0.017364897, 0.01763337, 0.024623808, 0.010845827, 0.013515415, 0.018972801, 0.020467762, 0.016319223, 0.015460665, 0.013549183, 0.013982046, 0.014095999, 0.016927993, 0.013979413, 0.016630402, 0.019376324, 0.0132538695, 0.013948894, 0.013381207, 0.014288529, 0.01213783, 0.0143207265, 0.013692478, 0.01186212, 0.014082388, 0.0137910545, 0.012961349, 0.01821827, 0.013750895, 0.014678929, 0.014162115, 0.013526957, 0.012143742, 0.012011242, 0.010692831, 0.012777728, 0.012127745, 0.014023469, 0.015820904, 0.015444253, 0.0120351305, 0.014022345, 0.014082699, 0.016054561, 0.011403422, 0.012148, 0.013214331, 0.012802714, 0.010918595, 0.013835378, 0.014014664, 0.013724997, 0.012852246, 0.013185501, 0.012215075, 0.011051654, 0.012721123, 0.012299273, 0.010908584, 0.01128841, 0.01362561, 0.0114605725, 0.01583437, 0.013932862, 0.013837894, 0.07483984, 0.017014913, 0.013843538, 0.013797604, 0.018981358, 0.012630247, 0.012845496, 0.013122743, 0.01251151, 0.013202981, 0.014416769, 0.012219919, 0.016756961, 0.012446381, 0.013794362, 0.013169102, 0.01617513, 0.015740981, 0.013317341, 0.011950567, 0.013691062, 0.011952298, 0.012821286, 0.011984328, 0.012293482, 0.011440758]\n",
      "2022-02-28 17:53:57,230 : INFO : merging changes from 2000 documents into a model of 3204 documents\n",
      "2022-02-28 17:53:57,236 : INFO : topic #43 (0.011): 0.102*\",\" + 0.049*\"comput\" + 0.043*\"mean\" + 0.029*\"rule\" + 0.028*\"bank\" + 0.026*\"wide\" + 0.023*\"data\" + 0.022*\"standard\" + 0.022*\"extent\" + 0.020*\"topic\"\n",
      "2022-02-28 17:53:57,237 : INFO : topic #12 (0.011): 0.122*\",\" + 0.109*\"run\" + 0.056*\"format\" + 0.051*\"number\" + 0.047*\"materi\" + 0.037*\"suitabl\" + 0.034*\"column\" + 0.033*\"vari\" + 0.026*\"time\" + 0.025*\"identif\"\n",
      "2022-02-28 17:53:57,238 : INFO : topic #15 (0.020): 0.394*\"problem\" + 0.137*\"algorithm\" + 0.104*\"linear\" + 0.102*\"program\" + 0.083*\"solv\" + 0.057*\"comput\" + 0.031*\"reduct\" + 0.018*\"minimum\" + 0.016*\"effici\" + 0.015*\"switch\"\n",
      "2022-02-28 17:53:57,239 : INFO : topic #11 (0.025): 0.380*\"function\" + 0.144*\"order\" + 0.088*\"find\" + 0.050*\"integ\" + 0.049*\"minim\" + 0.045*\"set\" + 0.030*\"complet\" + 0.029*\"valu\" + 0.026*\"kind\" + 0.023*\"partial\"\n",
      "2022-02-28 17:53:57,241 : INFO : topic #74 (0.075): 0.438*\"(\" + 0.380*\")\" + 0.169*\"algorithm\" + 0.005*\"bessel\" + 0.003*\"40\" + 0.002*\"critic\" + 0.000*\"path\" + 0.000*\",\" + 0.000*\"5\" + 0.000*\"seri\"\n",
      "2022-02-28 17:53:57,242 : INFO : topic diff=0.147695, rho=0.215156\n",
      "2022-02-28 17:53:58,281 : INFO : -6.427 per-word bound, 86.1 perplexity estimate based on a held-out corpus of 1204 documents with 49783 words\n",
      "2022-02-28 17:53:58,287 : INFO : PROGRESS: pass 19, at document #3204/3204\n",
      "2022-02-28 17:53:59,050 : INFO : optimized alpha [0.011381812, 0.012393849, 0.012915943, 0.013470861, 0.012491332, 0.014014102, 0.016351419, 0.014684231, 0.0117925005, 0.017574567, 0.017919216, 0.02515255, 0.010907931, 0.013703531, 0.01937443, 0.02099299, 0.016633954, 0.015735408, 0.013682132, 0.01420207, 0.014216199, 0.017082922, 0.014089123, 0.016795684, 0.01995251, 0.013391539, 0.014165294, 0.013492255, 0.014413513, 0.0122193415, 0.014411419, 0.01381099, 0.011998961, 0.0142157655, 0.013925462, 0.013074838, 0.01856031, 0.013897924, 0.014924053, 0.014291537, 0.013681009, 0.012275341, 0.012174467, 0.010764124, 0.012901501, 0.012237902, 0.014317436, 0.015760135, 0.015646456, 0.012117734, 0.014161898, 0.014254826, 0.016170755, 0.011475801, 0.0122242775, 0.013367378, 0.012975629, 0.010960433, 0.013993851, 0.014223804, 0.013836687, 0.012980759, 0.01336665, 0.012344871, 0.01113179, 0.012830648, 0.012416106, 0.010980839, 0.011371228, 0.013669252, 0.011518637, 0.016118595, 0.014045493, 0.013965412, 0.075966574, 0.017317591, 0.013943101, 0.013968702, 0.019358734, 0.012727259, 0.012998189, 0.013245731, 0.0126439715, 0.013347832, 0.014537633, 0.0123527665, 0.017082576, 0.012562236, 0.013937569, 0.01328818, 0.016329, 0.01593697, 0.013469784, 0.012025207, 0.013851512, 0.012014469, 0.012981316, 0.012106225, 0.0124191, 0.011517877]\n",
      "2022-02-28 17:53:59,055 : INFO : merging changes from 1204 documents into a model of 3204 documents\n",
      "2022-02-28 17:53:59,062 : INFO : topic #43 (0.011): 0.104*\",\" + 0.049*\"comput\" + 0.042*\"mean\" + 0.030*\"rule\" + 0.027*\"wide\" + 0.023*\"bank\" + 0.023*\"extent\" + 0.022*\"data\" + 0.022*\"standard\" + 0.020*\"topic\"\n",
      "2022-02-28 17:53:59,063 : INFO : topic #12 (0.011): 0.120*\",\" + 0.114*\"run\" + 0.053*\"number\" + 0.049*\"format\" + 0.046*\"materi\" + 0.039*\"vari\" + 0.037*\"suitabl\" + 0.036*\"column\" + 0.026*\"time\" + 0.025*\").\"\n",
      "2022-02-28 17:53:59,064 : INFO : topic #15 (0.021): 0.394*\"problem\" + 0.141*\"algorithm\" + 0.106*\"linear\" + 0.101*\"program\" + 0.082*\"solv\" + 0.056*\"comput\" + 0.031*\"reduct\" + 0.016*\"effici\" + 0.016*\"minimum\" + 0.015*\"switch\"\n",
      "2022-02-28 17:53:59,066 : INFO : topic #11 (0.025): 0.371*\"function\" + 0.155*\"order\" + 0.091*\"find\" + 0.053*\"minim\" + 0.048*\"integ\" + 0.043*\"set\" + 0.030*\"complet\" + 0.028*\"valu\" + 0.025*\"kind\" + 0.024*\"partial\"\n",
      "2022-02-28 17:53:59,067 : INFO : topic #74 (0.076): 0.445*\"(\" + 0.380*\")\" + 0.162*\"algorithm\" + 0.005*\"bessel\" + 0.003*\"40\" + 0.002*\"critic\" + 0.000*\"path\" + 0.000*\",\" + 0.000*\"5\" + 0.000*\"seri\"\n",
      "2022-02-28 17:53:59,068 : INFO : topic diff=0.151475, rho=0.215156\n"
     ]
    },
    {
     "data": {
      "text/plain": [
       "[(0, 0.0046145967),\n",
       " (1, 0.0050249128),\n",
       " (2, 0.0052365884),\n",
       " (3, 0.005461572),\n",
       " (4, 0.005064436),\n",
       " (5, 0.005681821),\n",
       " (6, 0.006629454),\n",
       " (7, 0.005953516),\n",
       " (8, 0.004781104),\n",
       " (9, 0.0071253623),\n",
       " (10, 0.0072650956),\n",
       " (11, 0.010197749),\n",
       " (12, 0.004422468),\n",
       " (13, 0.005555905),\n",
       " (14, 0.007855091),\n",
       " (15, 0.008511314),\n",
       " (16, 0.006744004),\n",
       " (17, 0.006379701),\n",
       " (18, 0.0055472287),\n",
       " (19, 0.005758031),\n",
       " (20, 0.005763759),\n",
       " (21, 0.006926032),\n",
       " (22, 0.41114187),\n",
       " (23, 0.006809575),\n",
       " (24, 0.008089466),\n",
       " (25, 0.0054294122),\n",
       " (26, 0.0057431203),\n",
       " (27, 0.0054702456),\n",
       " (28, 0.005843757),\n",
       " (29, 0.004954161),\n",
       " (30, 0.005842908),\n",
       " (31, 0.0055994727),\n",
       " (32, 0.0048648105),\n",
       " (33, 0.0057635834),\n",
       " (34, 0.0056458837),\n",
       " (35, 0.00530101),\n",
       " (36, 0.0075250184),\n",
       " (37, 0.0056347186),\n",
       " (38, 0.0060507483),\n",
       " (39, 0.0057943035),\n",
       " (40, 0.005546774),\n",
       " (41, 0.0049768654),\n",
       " (42, 0.0049359673),\n",
       " (43, 0.0043641636),\n",
       " (44, 0.0052307327),\n",
       " (45, 0.004961686),\n",
       " (46, 0.005804804),\n",
       " (47, 0.006389726),\n",
       " (48, 0.0063436367),\n",
       " (49, 0.004912966),\n",
       " (50, 0.0057417434),\n",
       " (51, 0.0057794196),\n",
       " (52, 0.0065562064),\n",
       " (53, 0.0046527027),\n",
       " (54, 0.004956162),\n",
       " (55, 0.0054196166),\n",
       " (56, 0.0052607874),\n",
       " (57, 0.004443754),\n",
       " (58, 0.005673611),\n",
       " (59, 0.005766842),\n",
       " (60, 0.0056098914),\n",
       " (61, 0.005262867),\n",
       " (62, 0.0054193214),\n",
       " (63, 0.005005055),\n",
       " (64, 0.0045132283),\n",
       " (65, 0.0052020065),\n",
       " (66, 0.0050339364),\n",
       " (67, 0.0044520274),\n",
       " (68, 0.004610305),\n",
       " (69, 0.0055420073),\n",
       " (70, 0.00467007),\n",
       " (71, 0.006535059),\n",
       " (72, 0.0056945486),\n",
       " (73, 0.005662081),\n",
       " (74, 0.030799584),\n",
       " (75, 0.007021175),\n",
       " (76, 0.0056530354),\n",
       " (77, 0.005663415),\n",
       " (78, 0.0078487275),\n",
       " (79, 0.005160089),\n",
       " (80, 0.005269934),\n",
       " (81, 0.005370296),\n",
       " (82, 0.005126321),\n",
       " (83, 0.0054116915),\n",
       " (84, 0.00589408),\n",
       " (85, 0.0050082565),\n",
       " (86, 0.006925891),\n",
       " (87, 0.005093183),\n",
       " (88, 0.0056507923),\n",
       " (89, 0.005387507),\n",
       " (90, 0.0066203643),\n",
       " (91, 0.006461422),\n",
       " (92, 0.0054611354),\n",
       " (93, 0.004875452),\n",
       " (94, 0.0056159017),\n",
       " (95, 0.0048710983),\n",
       " (96, 0.005263093),\n",
       " (97, 0.0049082995),\n",
       " (98, 0.0050351503),\n",
       " (99, 0.0046697618)]"
      ]
     },
     "execution_count": 85,
     "metadata": {},
     "output_type": "execute_result"
    }
   ],
   "source": [
    "##### Function check\n",
    "lda = LdaRetrievalModel(doc_repr_2)\n",
    "lda.train_model()\n",
    "\n",
    "# you can now get an LDA vector for a given query in the following way:\n",
    "lda.vectorize_query(\"report\")\n",
    "##### "
   ]
  },
  {
   "cell_type": "markdown",
   "metadata": {
    "deletable": false,
    "editable": false,
    "nbgrader": {
     "cell_type": "markdown",
     "checksum": "32d83b6ea79ca3ddb789a7f8805a1b25",
     "grade": false,
     "grade_id": "cell-0e24b727d5908c0e",
     "locked": true,
     "points": 5,
     "schema_version": 3,
     "solution": false,
     "task": true
    }
   },
   "source": [
    "\\#### Please do not change this. This cell is used for grading."
   ]
  },
  {
   "cell_type": "markdown",
   "metadata": {
    "deletable": false,
    "editable": false,
    "nbgrader": {
     "cell_type": "markdown",
     "checksum": "114a934f0b9ce696e6cf09d3b8da6a3d",
     "grade": false,
     "grade_id": "cell-b1bffcb970b18aeb",
     "locked": true,
     "schema_version": 3,
     "solution": false,
     "task": false
    }
   },
   "source": [
    "---\n",
    "Now we can use the `DenseRetrievalModel` class to obtain an LDA search function.\n",
    "You can test your LDA model in the following cell: Try finding queries which are lexically different to documents, but semantically similar - does LDA work well for these queries?!"
   ]
  },
  {
   "cell_type": "code",
   "execution_count": 86,
   "metadata": {},
   "outputs": [
    {
     "data": {
      "application/vnd.jupyter.widget-view+json": {
       "model_id": "541a6431dd1c4361ae125809ba3a5dc1",
       "version_major": 2,
       "version_minor": 0
      },
      "text/plain": [
       "Text(value='', description='Search Bar')"
      ]
     },
     "metadata": {},
     "output_type": "display_data"
    }
   ],
   "source": [
    "drm_lda = DenseRetrievalRanker(lda, jenson_shannon_sim)\n",
    "\n",
    "# test your LDA model\n",
    "search_fn = drm_lda.search\n",
    "\n",
    "text = widgets.Text(description=\"Search Bar\", width=200)\n",
    "display(text)\n",
    "\n",
    "\n",
    "text.on_submit(handle_submit_2)"
   ]
  },
  {
   "cell_type": "markdown",
   "metadata": {
    "deletable": false,
    "editable": false,
    "nbgrader": {
     "cell_type": "markdown",
     "checksum": "9d7f15863b655119b45f4d89354e5661",
     "grade": false,
     "grade_id": "cell-190cd0854b2791cc",
     "locked": true,
     "schema_version": 3,
     "solution": false,
     "task": false
    }
   },
   "source": [
    "## Section 8: Word2Vec/Doc2Vec (20 points) <a class=\"anchor\" id=\"2vec\"></a>\n",
    "\n",
    "[Back to Part 2](#part2)\n",
    "\n",
    "We will implement two other methods here, the Word2Vec model and the Doc2Vec model, also using `gensim`. Word2Vec creates representations of words, not documents, so the word level vectors need to be aggregated to obtain a representation for the document. Here, we will simply take the mean of the vectors. \n",
    "\n",
    "\n",
    "A drawback of these models is that they need a lot of training data. Our dataset is tiny, so in addition to using a model trained on the data, we will also use a pre-trained model for Word2Vec (this will be automatically downloaded).     \n",
    "\n",
    "*Note*:\n",
    "1. The code in vectorize_documents / vectorize_query should return gensim-like vectors i.e `[(dim, val), .. (dim, val)]`. \n",
    "2. For Word2Vec: You should also handle the following two cases: (a) A word in the query is not present in the vocabulary of the model and (b) none of the words in the query are present in the model - you can return 0 scores for all documents in this case. For either of these, you can check if a `word` is present in the vocab by using `word in self.model`\n"
   ]
  },
  {
   "cell_type": "code",
   "execution_count": 87,
   "metadata": {
    "deletable": false,
    "nbgrader": {
     "cell_type": "code",
     "checksum": "83ab733608ed14c29c09b36b4e1b6daa",
     "grade": false,
     "grade_id": "cell-2b73759f9baf688f",
     "locked": false,
     "schema_version": 3,
     "solution": true,
     "task": false
    }
   },
   "outputs": [
    {
     "name": "stderr",
     "output_type": "stream",
     "text": [
      "2022-02-28 17:54:01,169 : INFO : adding document #0 to Dictionary(0 unique tokens: [])\n",
      "2022-02-28 17:54:01,347 : INFO : built Dictionary(5937 unique tokens: ['-', 'algebra', 'intern', 'languag', 'preliminari']...) from 3204 documents (total 115969 corpus positions)\n",
      "2022-02-28 17:54:01,358 : INFO : discarding 4740 tokens: [('repeat', 8), ('glossari', 7), ('inspect', 8), ('uncol', 2), ('rung', 9), ('secant', 2), ('.', 1603), ('acceler', 6), ('diverg', 3), ('induc', 9)]...\n",
      "2022-02-28 17:54:01,359 : INFO : keeping 1197 tokens which were in no less than 10 and no more than 1602 (=50.0%) documents\n",
      "2022-02-28 17:54:01,368 : INFO : resulting dictionary: Dictionary(1197 unique tokens: ['-', 'algebra', 'intern', 'languag', 'preliminari']...)\n",
      "2022-02-28 17:54:01,486 : INFO : collecting all words and their counts\n",
      "2022-02-28 17:54:01,494 : INFO : PROGRESS: at sentence #0, processed 0 words, keeping 0 word types\n",
      "2022-02-28 17:54:01,550 : INFO : collected 5937 word types from a corpus of 115969 raw words and 3204 sentences\n",
      "2022-02-28 17:54:01,555 : INFO : Loading a fresh vocabulary\n",
      "2022-02-28 17:54:01,573 : INFO : effective_min_count=1 retains 5937 unique words (100% of original 5937, drops 0)\n",
      "2022-02-28 17:54:01,575 : INFO : effective_min_count=1 leaves 115969 word corpus (100% of original 115969, drops 0)\n",
      "2022-02-28 17:54:01,600 : INFO : deleting the raw counts dictionary of 5937 items\n",
      "2022-02-28 17:54:01,601 : INFO : sample=0.001 downsamples 40 most-common words\n",
      "2022-02-28 17:54:01,602 : INFO : downsampling leaves estimated 92346 word corpus (79.6% of prior 115969)\n",
      "2022-02-28 17:54:01,619 : INFO : estimated required memory for 5937 words and 100 dimensions: 7718100 bytes\n",
      "2022-02-28 17:54:01,620 : INFO : resetting layer weights\n",
      "2022-02-28 17:54:02,932 : INFO : training model with 3 workers on 5937 vocabulary and 100 features, using sg=0 hs=0 sample=0.001 negative=5 window=5\n",
      "2022-02-28 17:54:03,021 : INFO : worker thread finished; awaiting finish of 2 more threads\n",
      "2022-02-28 17:54:03,022 : INFO : worker thread finished; awaiting finish of 1 more threads\n",
      "2022-02-28 17:54:03,023 : INFO : worker thread finished; awaiting finish of 0 more threads\n",
      "2022-02-28 17:54:03,024 : INFO : EPOCH - 1 : training on 115969 raw words (92393 effective words) took 0.1s, 1239973 effective words/s\n",
      "2022-02-28 17:54:03,133 : INFO : worker thread finished; awaiting finish of 2 more threads\n",
      "2022-02-28 17:54:03,137 : INFO : worker thread finished; awaiting finish of 1 more threads\n",
      "2022-02-28 17:54:03,140 : INFO : worker thread finished; awaiting finish of 0 more threads\n",
      "2022-02-28 17:54:03,142 : INFO : EPOCH - 2 : training on 115969 raw words (92336 effective words) took 0.1s, 832233 effective words/s\n",
      "2022-02-28 17:54:03,240 : INFO : worker thread finished; awaiting finish of 2 more threads\n",
      "2022-02-28 17:54:03,243 : INFO : worker thread finished; awaiting finish of 1 more threads\n",
      "2022-02-28 17:54:03,243 : INFO : worker thread finished; awaiting finish of 0 more threads\n",
      "2022-02-28 17:54:03,245 : INFO : EPOCH - 3 : training on 115969 raw words (92347 effective words) took 0.1s, 976034 effective words/s\n",
      "2022-02-28 17:54:03,354 : INFO : worker thread finished; awaiting finish of 2 more threads\n",
      "2022-02-28 17:54:03,356 : INFO : worker thread finished; awaiting finish of 1 more threads\n",
      "2022-02-28 17:54:03,357 : INFO : worker thread finished; awaiting finish of 0 more threads\n",
      "2022-02-28 17:54:03,358 : INFO : EPOCH - 4 : training on 115969 raw words (92202 effective words) took 0.1s, 887969 effective words/s\n",
      "2022-02-28 17:54:03,452 : INFO : worker thread finished; awaiting finish of 2 more threads\n",
      "2022-02-28 17:54:03,460 : INFO : worker thread finished; awaiting finish of 1 more threads\n",
      "2022-02-28 17:54:03,461 : INFO : worker thread finished; awaiting finish of 0 more threads\n",
      "2022-02-28 17:54:03,463 : INFO : EPOCH - 5 : training on 115969 raw words (92308 effective words) took 0.1s, 955601 effective words/s\n",
      "2022-02-28 17:54:03,463 : INFO : training on a 579845 raw words (461586 effective words) took 0.5s, 870015 effective words/s\n"
     ]
    },
    {
     "data": {
      "text/plain": [
       "[(0, 0.5031371712684631),\n",
       " (1, -0.11677616089582443),\n",
       " (2, 0.14808470010757446),\n",
       " (3, -0.23513829708099365),\n",
       " (4, -0.4726252853870392),\n",
       " (5, -0.24732880294322968),\n",
       " (6, 0.037554580718278885),\n",
       " (7, 0.11229453235864639),\n",
       " (8, -0.2695493698120117),\n",
       " (9, 1.0376330614089966),\n",
       " (10, -0.3756093382835388),\n",
       " (11, 0.239859938621521),\n",
       " (12, 0.10596268624067307),\n",
       " (13, 0.7752809524536133),\n",
       " (14, 0.02533094771206379),\n",
       " (15, 0.03415409103035927),\n",
       " (16, -0.25435972213745117),\n",
       " (17, -0.6745911836624146),\n",
       " (18, 0.08572933077812195),\n",
       " (19, 0.0008216219139285386),\n",
       " (20, 0.6604558825492859),\n",
       " (21, 0.1395808905363083),\n",
       " (22, 0.22123932838439941),\n",
       " (23, -0.04913543164730072),\n",
       " (24, 0.08422558754682541),\n",
       " (25, 0.33510011434555054),\n",
       " (26, 0.5692949295043945),\n",
       " (27, 0.8223240971565247),\n",
       " (28, -0.404717355966568),\n",
       " (29, -0.02730773761868477),\n",
       " (30, -0.5385772585868835),\n",
       " (31, 0.35748809576034546),\n",
       " (32, -0.27055034041404724),\n",
       " (33, -0.11190544068813324),\n",
       " (34, -0.2062225639820099),\n",
       " (35, -0.368902325630188),\n",
       " (36, -0.6311861276626587),\n",
       " (37, 0.2547610402107239),\n",
       " (38, -0.006405133754014969),\n",
       " (39, -0.20137956738471985),\n",
       " (40, -0.3297443985939026),\n",
       " (41, -0.26854681968688965),\n",
       " (42, -0.7817292213439941),\n",
       " (43, 0.43254876136779785),\n",
       " (44, -0.16326408088207245),\n",
       " (45, 0.16989882290363312),\n",
       " (46, 0.04831501841545105),\n",
       " (47, 0.5838033556938171),\n",
       " (48, -0.5534166693687439),\n",
       " (49, -0.4608595371246338),\n",
       " (50, 0.39995238184928894),\n",
       " (51, -0.2641149163246155),\n",
       " (52, 0.08477973937988281),\n",
       " (53, -0.14941878616809845),\n",
       " (54, 0.28317099809646606),\n",
       " (55, -0.3618510961532593),\n",
       " (56, 0.26435673236846924),\n",
       " (57, 0.5593577027320862),\n",
       " (58, 0.3871559202671051),\n",
       " (59, -0.39447829127311707),\n",
       " (60, -0.6056025624275208),\n",
       " (61, 0.4957883059978485),\n",
       " (62, -0.1739833503961563),\n",
       " (63, -0.423855185508728),\n",
       " (64, 0.4215742349624634),\n",
       " (65, 0.41517388820648193),\n",
       " (66, 0.2708446681499481),\n",
       " (67, 0.17771892249584198),\n",
       " (68, 0.24747131764888763),\n",
       " (69, 0.16058291494846344),\n",
       " (70, -0.5312020182609558),\n",
       " (71, 0.4156310260295868),\n",
       " (72, -0.6511704325675964),\n",
       " (73, -0.24586409330368042),\n",
       " (74, 0.43674540519714355),\n",
       " (75, -0.4084537923336029),\n",
       " (76, 0.2941821217536926),\n",
       " (77, 0.5081368684768677),\n",
       " (78, 0.04069919139146805),\n",
       " (79, 0.4109417200088501),\n",
       " (80, 0.0404057651758194),\n",
       " (81, 0.4754430949687958),\n",
       " (82, -0.1655823439359665),\n",
       " (83, 0.6097626686096191),\n",
       " (84, -0.135243758559227),\n",
       " (85, -0.4542215168476105),\n",
       " (86, 0.41600489616394043),\n",
       " (87, -0.32026124000549316),\n",
       " (88, -0.05526411533355713),\n",
       " (89, 0.24233479797840118),\n",
       " (90, 1.2741498947143555),\n",
       " (91, 0.5028831362724304),\n",
       " (92, -1.213006615638733),\n",
       " (93, 0.3584170341491699),\n",
       " (94, 0.9133502244949341),\n",
       " (95, 0.0030662217177450657),\n",
       " (96, 0.11640314012765884),\n",
       " (97, -0.02472555637359619),\n",
       " (98, 0.29236969351768494),\n",
       " (99, -0.2045804113149643)]"
      ]
     },
     "execution_count": 87,
     "metadata": {},
     "output_type": "execute_result"
    }
   ],
   "source": [
    "# TODO: Implement this! (10 points)\n",
    "class W2VRetrievalModel(VectorSpaceRetrievalModel):\n",
    "    def __init__(self, doc_repr):\n",
    "        super().__init__(doc_repr)\n",
    "\n",
    "        # the dimensionality of the vectors\n",
    "        self.size = 100\n",
    "        self.min_count = 1\n",
    "\n",
    "    def train_model(self):\n",
    "        \"\"\"\n",
    "        Trains the W2V model\n",
    "        \"\"\"\n",
    "        # YOUR CODE HERE\n",
    "        self.model = Word2Vec(\n",
    "            sentences=self.documents, size=self.size, min_count=self.min_count\n",
    "        )\n",
    "\n",
    "    def vectorize_documents(self):\n",
    "        \"\"\"\n",
    "        Returns a doc_id -> vector dictionary\n",
    "        \"\"\"\n",
    "        # YOUR CODE HERE\n",
    "        vectors = {}\n",
    "        for (doc_id, doc) in self.doc_repr:\n",
    "            # initializations for this document\n",
    "            doc_vector = np.zeros(self.size)\n",
    "            n_words = 0\n",
    "            for word in doc:\n",
    "                n_words += 1\n",
    "                # check that current word in doc in our model (needed for pretrained)\n",
    "                try:\n",
    "                    word_vector = self.model.wv[word]\n",
    "                except KeyError:\n",
    "                    # don't count this word\n",
    "                    n_words -= 1\n",
    "                    continue\n",
    "                doc_vector += word_vector\n",
    "            if n_words > 0:\n",
    "                # aggregate by taking the mean over the found words\n",
    "                doc_vector = doc_vector / n_words\n",
    "            # convert to weird gensim format that is desired\n",
    "            doc_vector = [(i, el) for i, el in enumerate(doc_vector)]\n",
    "            # and save to our dictionary\n",
    "            vectors[doc_id] = doc_vector\n",
    "\n",
    "        return vectors\n",
    "\n",
    "    def vectorize_query(self, query):\n",
    "        \"\"\"\n",
    "        Vectorizes the query using the W2V model\n",
    "        \"\"\"\n",
    "        # YOUR CODE HERE\n",
    "        query = process_text(query, **config_2)\n",
    "        # initialize query vector\n",
    "        query_vec = np.zeros(self.size)\n",
    "        # handle valid queries (i.e. processing hasn't made it empty)\n",
    "        if len(query) > 0:\n",
    "            n_words = 0\n",
    "            for word in query:\n",
    "                n_words += 1\n",
    "                # check that current word in query in our vocab\n",
    "                try:\n",
    "                    word_vector = self.model.wv[word]\n",
    "                except KeyError:\n",
    "                    # don't count this word\n",
    "                    n_words -= 1\n",
    "                    continue\n",
    "                query_vec += word_vector\n",
    "            if n_words > 0:\n",
    "                # aggregate by taking the mean over the found words\n",
    "                query_vec = query_vec / n_words\n",
    "        # convert to weird gensim format that is desired\n",
    "        query_vec = [(i, el) for i, el in enumerate(query_vec)]\n",
    "        return query_vec\n",
    "\n",
    "\n",
    "class W2VPretrainedRetrievalModel(W2VRetrievalModel):\n",
    "    def __init__(self, doc_repr):\n",
    "        super().__init__(doc_repr)\n",
    "        self.model_name = \"word2vec-google-news-300\"\n",
    "        self.size = 300\n",
    "\n",
    "    def train_model(self):\n",
    "        \"\"\"\n",
    "        Loads the pretrained model\n",
    "        \"\"\"\n",
    "        self.model = g_downloader.load(self.model_name)\n",
    "\n",
    "\n",
    "w2v = W2VRetrievalModel(doc_repr_2)\n",
    "w2v.train_model()\n",
    "\n",
    "# you can now get a W2V vector for a given query in the following way:\n",
    "w2v.vectorize_query(\"report\")"
   ]
  },
  {
   "cell_type": "code",
   "execution_count": 88,
   "metadata": {
    "deletable": false,
    "editable": false,
    "nbgrader": {
     "cell_type": "code",
     "checksum": "f92b5c5a8c6c4b80652b94223209ab0b",
     "grade": true,
     "grade_id": "cell-b31c0f8d214b8bdf",
     "locked": true,
     "points": 0,
     "schema_version": 3,
     "solution": false,
     "task": false
    }
   },
   "outputs": [],
   "source": [
    "assert len(w2v.vectorize_query(\"report\")) == 100\n",
    "assert len(w2v.vectorize_query(\"this is a sentence that is not mellifluous\")) == 100\n"
   ]
  },
  {
   "cell_type": "markdown",
   "metadata": {
    "deletable": false,
    "editable": false,
    "nbgrader": {
     "cell_type": "markdown",
     "checksum": "8dfaabebcb06f308a7ca61fdc5d369e7",
     "grade": false,
     "grade_id": "cell-c2614fa067386384",
     "locked": true,
     "points": 8,
     "schema_version": 3,
     "solution": false,
     "task": true
    }
   },
   "source": [
    "\\#### Please do not change this. This cell is used for grading."
   ]
  },
  {
   "cell_type": "code",
   "execution_count": 89,
   "metadata": {},
   "outputs": [
    {
     "name": "stderr",
     "output_type": "stream",
     "text": [
      "2022-02-28 17:54:03,487 : INFO : adding document #0 to Dictionary(0 unique tokens: [])\n",
      "2022-02-28 17:54:03,676 : INFO : built Dictionary(5937 unique tokens: ['-', 'algebra', 'intern', 'languag', 'preliminari']...) from 3204 documents (total 115969 corpus positions)\n",
      "2022-02-28 17:54:03,691 : INFO : discarding 4740 tokens: [('repeat', 8), ('glossari', 7), ('inspect', 8), ('uncol', 2), ('rung', 9), ('secant', 2), ('.', 1603), ('acceler', 6), ('diverg', 3), ('induc', 9)]...\n",
      "2022-02-28 17:54:03,692 : INFO : keeping 1197 tokens which were in no less than 10 and no more than 1602 (=50.0%) documents\n",
      "2022-02-28 17:54:03,696 : INFO : resulting dictionary: Dictionary(1197 unique tokens: ['-', 'algebra', 'intern', 'languag', 'preliminari']...)\n",
      "2022-02-28 17:54:03,927 : INFO : loading projection weights from /Users/thesofakillers/gensim-data/word2vec-google-news-300/word2vec-google-news-300.gz\n",
      "2022-02-28 17:54:49,510 : INFO : loaded (3000000, 300) matrix from /Users/thesofakillers/gensim-data/word2vec-google-news-300/word2vec-google-news-300.gz\n",
      "/Users/thesofakillers/miniconda3/envs/ir1/lib/python3.6/site-packages/ipykernel_launcher.py:64: DeprecationWarning: Call to deprecated `wv` (Attribute will be removed in 4.0.0, use self instead).\n"
     ]
    },
    {
     "data": {
      "text/plain": [
       "[(0, -0.142578125),\n",
       " (1, -0.1640625),\n",
       " (2, -0.09033203125),\n",
       " (3, -0.1123046875),\n",
       " (4, 0.10009765625),\n",
       " (5, -0.041259765625),\n",
       " (6, 0.048828125),\n",
       " (7, -0.13671875),\n",
       " (8, 0.1962890625),\n",
       " (9, -0.134765625),\n",
       " (10, -0.017578125),\n",
       " (11, 0.0322265625),\n",
       " (12, 0.09521484375),\n",
       " (13, -0.10595703125),\n",
       " (14, -0.169921875),\n",
       " (15, 0.041015625),\n",
       " (16, -0.263671875),\n",
       " (17, -0.006317138671875),\n",
       " (18, -0.177734375),\n",
       " (19, -0.240234375),\n",
       " (20, 0.3515625),\n",
       " (21, -0.01220703125),\n",
       " (22, -0.162109375),\n",
       " (23, -0.12060546875),\n",
       " (24, 0.043212890625),\n",
       " (25, 0.10986328125),\n",
       " (26, 0.052490234375),\n",
       " (27, 0.1787109375),\n",
       " (28, -0.1455078125),\n",
       " (29, 0.1376953125),\n",
       " (30, -0.08203125),\n",
       " (31, -0.283203125),\n",
       " (32, -0.10888671875),\n",
       " (33, -0.2890625),\n",
       " (34, 0.072265625),\n",
       " (35, -0.04736328125),\n",
       " (36, 0.040283203125),\n",
       " (37, 0.06787109375),\n",
       " (38, 0.11669921875),\n",
       " (39, 0.00083160400390625),\n",
       " (40, 0.068359375),\n",
       " (41, 0.1201171875),\n",
       " (42, -0.08837890625),\n",
       " (43, 0.337890625),\n",
       " (44, -0.044677734375),\n",
       " (45, -0.0301513671875),\n",
       " (46, 0.0076904296875),\n",
       " (47, -0.0211181640625),\n",
       " (48, -0.25390625),\n",
       " (49, 0.1494140625),\n",
       " (50, 0.3984375),\n",
       " (51, 0.0216064453125),\n",
       " (52, -0.023193359375),\n",
       " (53, 0.00634765625),\n",
       " (54, 0.00823974609375),\n",
       " (55, -0.1689453125),\n",
       " (56, 0.037353515625),\n",
       " (57, -0.0634765625),\n",
       " (58, 0.1171875),\n",
       " (59, -0.1484375),\n",
       " (60, -0.07861328125),\n",
       " (61, 0.369140625),\n",
       " (62, -0.224609375),\n",
       " (63, 0.173828125),\n",
       " (64, 0.01385498046875),\n",
       " (65, 0.1875),\n",
       " (66, -0.10107421875),\n",
       " (67, 0.037841796875),\n",
       " (68, 0.0021209716796875),\n",
       " (69, -0.05126953125),\n",
       " (70, 0.09619140625),\n",
       " (71, -0.05712890625),\n",
       " (72, 0.10595703125),\n",
       " (73, -0.02099609375),\n",
       " (74, 0.1611328125),\n",
       " (75, 0.09765625),\n",
       " (76, 0.038330078125),\n",
       " (77, 0.2197265625),\n",
       " (78, 0.1064453125),\n",
       " (79, 0.0859375),\n",
       " (80, 0.1796875),\n",
       " (81, -0.0830078125),\n",
       " (82, -0.033203125),\n",
       " (83, 0.041015625),\n",
       " (84, -0.06494140625),\n",
       " (85, 0.0198974609375),\n",
       " (86, 0.1337890625),\n",
       " (87, -0.09765625),\n",
       " (88, -0.193359375),\n",
       " (89, -0.2353515625),\n",
       " (90, 0.1904296875),\n",
       " (91, 0.0024871826171875),\n",
       " (92, -0.0157470703125),\n",
       " (93, 0.0322265625),\n",
       " (94, -0.2197265625),\n",
       " (95, -0.09130859375),\n",
       " (96, 0.021240234375),\n",
       " (97, 0.158203125),\n",
       " (98, 0.298828125),\n",
       " (99, -0.328125),\n",
       " (100, 0.057373046875),\n",
       " (101, -0.04638671875),\n",
       " (102, 0.11328125),\n",
       " (103, -0.1015625),\n",
       " (104, 0.1806640625),\n",
       " (105, -0.025146484375),\n",
       " (106, -0.166015625),\n",
       " (107, -0.09619140625),\n",
       " (108, 0.018798828125),\n",
       " (109, -0.1943359375),\n",
       " (110, 0.1494140625),\n",
       " (111, -0.056640625),\n",
       " (112, -0.10693359375),\n",
       " (113, -0.150390625),\n",
       " (114, -0.17578125),\n",
       " (115, 0.11279296875),\n",
       " (116, 0.04931640625),\n",
       " (117, 0.2197265625),\n",
       " (118, 0.318359375),\n",
       " (119, 0.1572265625),\n",
       " (120, -0.29296875),\n",
       " (121, 0.10498046875),\n",
       " (122, -0.296875),\n",
       " (123, -0.013427734375),\n",
       " (124, 0.0908203125),\n",
       " (125, 0.0125732421875),\n",
       " (126, -0.051513671875),\n",
       " (127, -0.12890625),\n",
       " (128, 0.01446533203125),\n",
       " (129, 0.12060546875),\n",
       " (130, -0.10107421875),\n",
       " (131, -0.111328125),\n",
       " (132, 0.06396484375),\n",
       " (133, -0.052978515625),\n",
       " (134, -0.043212890625),\n",
       " (135, -0.012939453125),\n",
       " (136, -0.027587890625),\n",
       " (137, -0.09716796875),\n",
       " (138, -0.2021484375),\n",
       " (139, 0.123046875),\n",
       " (140, -0.04248046875),\n",
       " (141, 0.173828125),\n",
       " (142, -0.013671875),\n",
       " (143, 0.1015625),\n",
       " (144, -0.00093841552734375),\n",
       " (145, -0.03564453125),\n",
       " (146, 0.30078125),\n",
       " (147, -0.068359375),\n",
       " (148, -0.05615234375),\n",
       " (149, 0.03759765625),\n",
       " (150, 0.06591796875),\n",
       " (151, 0.040283203125),\n",
       " (152, 0.01190185546875),\n",
       " (153, 0.09619140625),\n",
       " (154, 0.3671875),\n",
       " (155, -0.279296875),\n",
       " (156, -0.052001953125),\n",
       " (157, -0.10693359375),\n",
       " (158, -0.134765625),\n",
       " (159, -0.046142578125),\n",
       " (160, 0.25),\n",
       " (161, 0.00567626953125),\n",
       " (162, -0.014404296875),\n",
       " (163, -0.031005859375),\n",
       " (164, -0.060302734375),\n",
       " (165, 0.10595703125),\n",
       " (166, 0.37890625),\n",
       " (167, 0.058837890625),\n",
       " (168, 0.123046875),\n",
       " (169, -0.115234375),\n",
       " (170, 0.1494140625),\n",
       " (171, -0.1640625),\n",
       " (172, -0.2333984375),\n",
       " (173, -0.07763671875),\n",
       " (174, 0.0267333984375),\n",
       " (175, -0.0211181640625),\n",
       " (176, 0.1943359375),\n",
       " (177, -0.05615234375),\n",
       " (178, -0.006439208984375),\n",
       " (179, -0.169921875),\n",
       " (180, -0.11865234375),\n",
       " (181, -0.0673828125),\n",
       " (182, -0.06884765625),\n",
       " (183, -0.0869140625),\n",
       " (184, -0.1015625),\n",
       " (185, 0.01416015625),\n",
       " (186, -0.201171875),\n",
       " (187, 0.09814453125),\n",
       " (188, -0.01025390625),\n",
       " (189, 0.1875),\n",
       " (190, 0.1962890625),\n",
       " (191, -0.220703125),\n",
       " (192, -0.1962890625),\n",
       " (193, -0.07373046875),\n",
       " (194, 0.06640625),\n",
       " (195, -0.1337890625),\n",
       " (196, 0.18359375),\n",
       " (197, -0.2001953125),\n",
       " (198, 0.1982421875),\n",
       " (199, 0.05029296875),\n",
       " (200, 0.0299072265625),\n",
       " (201, 0.0177001953125),\n",
       " (202, -0.193359375),\n",
       " (203, -0.09619140625),\n",
       " (204, -0.1025390625),\n",
       " (205, 0.212890625),\n",
       " (206, -0.0299072265625),\n",
       " (207, 0.1435546875),\n",
       " (208, 0.041015625),\n",
       " (209, -0.2119140625),\n",
       " (210, 0.2080078125),\n",
       " (211, 0.1376953125),\n",
       " (212, -0.0196533203125),\n",
       " (213, 0.01495361328125),\n",
       " (214, -0.09765625),\n",
       " (215, 0.2431640625),\n",
       " (216, 0.080078125),\n",
       " (217, 0.08251953125),\n",
       " (218, 0.0986328125),\n",
       " (219, 0.056884765625),\n",
       " (220, 0.04248046875),\n",
       " (221, 0.06884765625),\n",
       " (222, -0.035400390625),\n",
       " (223, -0.076171875),\n",
       " (224, -0.00016117095947265625),\n",
       " (225, -0.0751953125),\n",
       " (226, 0.224609375),\n",
       " (227, 0.1513671875),\n",
       " (228, 0.1005859375),\n",
       " (229, 0.10986328125),\n",
       " (230, 0.0238037109375),\n",
       " (231, 0.08837890625),\n",
       " (232, 0.061767578125),\n",
       " (233, -0.10791015625),\n",
       " (234, 0.062255859375),\n",
       " (235, 0.0034332275390625),\n",
       " (236, 0.08056640625),\n",
       " (237, 0.10693359375),\n",
       " (238, 0.0888671875),\n",
       " (239, -0.2373046875),\n",
       " (240, 0.06494140625),\n",
       " (241, 0.01019287109375),\n",
       " (242, -0.08837890625),\n",
       " (243, -0.33203125),\n",
       " (244, 0.004669189453125),\n",
       " (245, 0.212890625),\n",
       " (246, 0.0859375),\n",
       " (247, 0.0203857421875),\n",
       " (248, 0.045654296875),\n",
       " (249, 0.1484375),\n",
       " (250, 0.1181640625),\n",
       " (251, 0.0556640625),\n",
       " (252, -0.1728515625),\n",
       " (253, -0.125),\n",
       " (254, -0.025390625),\n",
       " (255, -0.318359375),\n",
       " (256, 0.0311279296875),\n",
       " (257, 0.0859375),\n",
       " (258, -0.0419921875),\n",
       " (259, 0.15625),\n",
       " (260, 0.1611328125),\n",
       " (261, 0.1982421875),\n",
       " (262, -0.10009765625),\n",
       " (263, 0.203125),\n",
       " (264, 0.12890625),\n",
       " (265, 0.2333984375),\n",
       " (266, -0.267578125),\n",
       " (267, 0.05517578125),\n",
       " (268, 0.048828125),\n",
       " (269, 0.072265625),\n",
       " (270, 0.244140625),\n",
       " (271, 0.244140625),\n",
       " (272, 0.056884765625),\n",
       " (273, -0.0546875),\n",
       " (274, -0.03369140625),\n",
       " (275, -0.12060546875),\n",
       " (276, 0.034912109375),\n",
       " (277, -0.1455078125),\n",
       " (278, 0.08740234375),\n",
       " (279, -0.0830078125),\n",
       " (280, 0.0172119140625),\n",
       " (281, 0.1435546875),\n",
       " (282, -0.12255859375),\n",
       " (283, 0.1796875),\n",
       " (284, 0.130859375),\n",
       " (285, -0.1650390625),\n",
       " (286, 0.01275634765625),\n",
       " (287, 0.16015625),\n",
       " (288, -0.0311279296875),\n",
       " (289, 0.08203125),\n",
       " (290, 0.173828125),\n",
       " (291, -0.16796875),\n",
       " (292, 0.130859375),\n",
       " (293, 0.08544921875),\n",
       " (294, -0.2109375),\n",
       " (295, -0.130859375),\n",
       " (296, -0.0289306640625),\n",
       " (297, -0.10546875),\n",
       " (298, 0.08447265625),\n",
       " (299, -0.1416015625)]"
      ]
     },
     "execution_count": 89,
     "metadata": {},
     "output_type": "execute_result"
    }
   ],
   "source": [
    "w2v_pretrained = W2VPretrainedRetrievalModel(doc_repr_2)\n",
    "w2v_pretrained.train_model()\n",
    "\n",
    "# you can now get an W2V vector for a given query in the following way:\n",
    "w2v_pretrained.vectorize_query(\"report\")"
   ]
  },
  {
   "cell_type": "code",
   "execution_count": 90,
   "metadata": {
    "deletable": false,
    "editable": false,
    "nbgrader": {
     "cell_type": "code",
     "checksum": "0822845afb5eafe5ddb1ffeaa4f4942a",
     "grade": true,
     "grade_id": "cell-1b1466f8ce516f42",
     "locked": true,
     "points": 2,
     "schema_version": 3,
     "solution": false,
     "task": false
    }
   },
   "outputs": [
    {
     "name": "stdout",
     "output_type": "stream",
     "text": [
      "300\n"
     ]
    },
    {
     "name": "stderr",
     "output_type": "stream",
     "text": [
      "/Users/thesofakillers/miniconda3/envs/ir1/lib/python3.6/site-packages/ipykernel_launcher.py:64: DeprecationWarning: Call to deprecated `wv` (Attribute will be removed in 4.0.0, use self instead).\n"
     ]
    }
   ],
   "source": [
    "##### Function check\n",
    "\n",
    "print(len(w2v_pretrained.vectorize_query(\"report\")))\n",
    "#####"
   ]
  },
  {
   "cell_type": "code",
   "execution_count": 91,
   "metadata": {},
   "outputs": [
    {
     "data": {
      "application/vnd.jupyter.widget-view+json": {
       "model_id": "a29901c03fde441fb9c8b1f0ed41a819",
       "version_major": 2,
       "version_minor": 0
      },
      "text/plain": [
       "Text(value='', description='Search Bar')"
      ]
     },
     "metadata": {},
     "output_type": "display_data"
    }
   ],
   "source": [
    "drm_w2v = DenseRetrievalRanker(w2v, cosine_sim)\n",
    "\n",
    "# test your LDA model\n",
    "search_fn = drm_w2v.search\n",
    "\n",
    "text = widgets.Text(description=\"Search Bar\", width=200)\n",
    "display(text)\n",
    "\n",
    "\n",
    "text.on_submit(handle_submit_2)"
   ]
  },
  {
   "cell_type": "code",
   "execution_count": 92,
   "metadata": {},
   "outputs": [
    {
     "name": "stderr",
     "output_type": "stream",
     "text": [
      "/Users/thesofakillers/miniconda3/envs/ir1/lib/python3.6/site-packages/ipykernel_launcher.py:33: DeprecationWarning: Call to deprecated `wv` (Attribute will be removed in 4.0.0, use self instead).\n"
     ]
    },
    {
     "data": {
      "application/vnd.jupyter.widget-view+json": {
       "model_id": "3da1604114e443529793a924745eacd8",
       "version_major": 2,
       "version_minor": 0
      },
      "text/plain": [
       "Text(value='', description='Search Bar')"
      ]
     },
     "metadata": {},
     "output_type": "display_data"
    }
   ],
   "source": [
    "drm_w2v_pretrained = DenseRetrievalRanker(w2v_pretrained, cosine_sim)\n",
    "\n",
    "# test your LDA model\n",
    "search_fn = drm_w2v_pretrained.search\n",
    "\n",
    "text = widgets.Text(description=\"Search Bar\", width=200)\n",
    "display(text)\n",
    "\n",
    "\n",
    "text.on_submit(handle_submit_2)"
   ]
  },
  {
   "cell_type": "markdown",
   "metadata": {
    "deletable": false,
    "editable": false,
    "nbgrader": {
     "cell_type": "markdown",
     "checksum": "51b778984fd60757974f51047c61eb15",
     "grade": false,
     "grade_id": "cell-b92f701cbc706108",
     "locked": true,
     "schema_version": 3,
     "solution": false,
     "task": false
    }
   },
   "source": [
    "**Implementation (10 points):**\n",
    "For Doc2Vec, you will need to create a list of `TaggedDocument` instead of using the `self.corpus` or `self.documents` variable. Use the document id as the 'tag'.\n",
    "  "
   ]
  },
  {
   "cell_type": "code",
   "execution_count": 93,
   "metadata": {
    "deletable": false,
    "nbgrader": {
     "cell_type": "code",
     "checksum": "1f60fdeb97febb7f4a6fd5bf109aac20",
     "grade": false,
     "grade_id": "cell-680facdcc98a19ab",
     "locked": false,
     "schema_version": 3,
     "solution": true,
     "task": false
    }
   },
   "outputs": [
    {
     "name": "stderr",
     "output_type": "stream",
     "text": [
      "2022-02-28 17:54:52,167 : INFO : adding document #0 to Dictionary(0 unique tokens: [])\n",
      "2022-02-28 17:54:52,381 : INFO : built Dictionary(5937 unique tokens: ['-', 'algebra', 'intern', 'languag', 'preliminari']...) from 3204 documents (total 115969 corpus positions)\n",
      "2022-02-28 17:54:52,390 : INFO : discarding 4740 tokens: [('repeat', 8), ('glossari', 7), ('inspect', 8), ('uncol', 2), ('rung', 9), ('secant', 2), ('.', 1603), ('acceler', 6), ('diverg', 3), ('induc', 9)]...\n",
      "2022-02-28 17:54:52,391 : INFO : keeping 1197 tokens which were in no less than 10 and no more than 1602 (=50.0%) documents\n",
      "2022-02-28 17:54:52,410 : INFO : resulting dictionary: Dictionary(1197 unique tokens: ['-', 'algebra', 'intern', 'languag', 'preliminari']...)\n",
      "2022-02-28 17:54:52,567 : INFO : collecting all words and their counts\n",
      "2022-02-28 17:54:52,568 : INFO : PROGRESS: at example #0, processed 0 words (0/s), 0 word types, 0 tags\n",
      "2022-02-28 17:54:52,651 : INFO : collected 5937 word types and 3204 unique tags from a corpus of 3204 examples and 115969 words\n",
      "2022-02-28 17:54:52,652 : INFO : Loading a fresh vocabulary\n",
      "2022-02-28 17:54:52,675 : INFO : effective_min_count=1 retains 5937 unique words (100% of original 5937, drops 0)\n",
      "2022-02-28 17:54:52,675 : INFO : effective_min_count=1 leaves 115969 word corpus (100% of original 115969, drops 0)\n",
      "2022-02-28 17:54:52,712 : INFO : deleting the raw counts dictionary of 5937 items\n",
      "2022-02-28 17:54:52,713 : INFO : sample=0.001 downsamples 40 most-common words\n",
      "2022-02-28 17:54:52,713 : INFO : downsampling leaves estimated 92346 word corpus (79.6% of prior 115969)\n",
      "2022-02-28 17:54:52,737 : INFO : estimated required memory for 5937 words and 100 dimensions: 9640500 bytes\n",
      "2022-02-28 17:54:52,737 : INFO : resetting layer weights\n",
      "2022-02-28 17:54:54,883 : INFO : training model with 3 workers on 5937 vocabulary and 100 features, using sg=0 hs=0 sample=0.001 negative=5 window=5\n",
      "2022-02-28 17:54:55,139 : INFO : worker thread finished; awaiting finish of 2 more threads\n",
      "2022-02-28 17:54:55,150 : INFO : worker thread finished; awaiting finish of 1 more threads\n",
      "2022-02-28 17:54:55,150 : INFO : worker thread finished; awaiting finish of 0 more threads\n",
      "2022-02-28 17:54:55,151 : INFO : EPOCH - 1 : training on 115969 raw words (95569 effective words) took 0.3s, 363757 effective words/s\n",
      "2022-02-28 17:54:55,417 : INFO : worker thread finished; awaiting finish of 2 more threads\n",
      "2022-02-28 17:54:55,429 : INFO : worker thread finished; awaiting finish of 1 more threads\n",
      "2022-02-28 17:54:55,432 : INFO : worker thread finished; awaiting finish of 0 more threads\n",
      "2022-02-28 17:54:55,432 : INFO : EPOCH - 2 : training on 115969 raw words (95620 effective words) took 0.3s, 347300 effective words/s\n",
      "2022-02-28 17:54:55,686 : INFO : worker thread finished; awaiting finish of 2 more threads\n",
      "2022-02-28 17:54:55,692 : INFO : worker thread finished; awaiting finish of 1 more threads\n",
      "2022-02-28 17:54:55,699 : INFO : worker thread finished; awaiting finish of 0 more threads\n",
      "2022-02-28 17:54:55,699 : INFO : EPOCH - 3 : training on 115969 raw words (95573 effective words) took 0.3s, 364532 effective words/s\n",
      "2022-02-28 17:54:55,990 : INFO : worker thread finished; awaiting finish of 2 more threads\n",
      "2022-02-28 17:54:55,993 : INFO : worker thread finished; awaiting finish of 1 more threads\n",
      "2022-02-28 17:54:55,995 : INFO : worker thread finished; awaiting finish of 0 more threads\n",
      "2022-02-28 17:54:55,995 : INFO : EPOCH - 4 : training on 115969 raw words (95525 effective words) took 0.3s, 328968 effective words/s\n",
      "2022-02-28 17:54:56,266 : INFO : worker thread finished; awaiting finish of 2 more threads\n",
      "2022-02-28 17:54:56,272 : INFO : worker thread finished; awaiting finish of 1 more threads\n",
      "2022-02-28 17:54:56,275 : INFO : worker thread finished; awaiting finish of 0 more threads\n",
      "2022-02-28 17:54:56,276 : INFO : EPOCH - 5 : training on 115969 raw words (95447 effective words) took 0.3s, 346744 effective words/s\n",
      "2022-02-28 17:54:56,528 : INFO : worker thread finished; awaiting finish of 2 more threads\n",
      "2022-02-28 17:54:56,529 : INFO : worker thread finished; awaiting finish of 1 more threads\n",
      "2022-02-28 17:54:56,539 : INFO : worker thread finished; awaiting finish of 0 more threads\n",
      "2022-02-28 17:54:56,540 : INFO : EPOCH - 6 : training on 115969 raw words (95612 effective words) took 0.3s, 368610 effective words/s\n",
      "2022-02-28 17:54:56,803 : INFO : worker thread finished; awaiting finish of 2 more threads\n",
      "2022-02-28 17:54:56,804 : INFO : worker thread finished; awaiting finish of 1 more threads\n",
      "2022-02-28 17:54:56,808 : INFO : worker thread finished; awaiting finish of 0 more threads\n",
      "2022-02-28 17:54:56,809 : INFO : EPOCH - 7 : training on 115969 raw words (95566 effective words) took 0.3s, 361497 effective words/s\n",
      "2022-02-28 17:54:57,061 : INFO : worker thread finished; awaiting finish of 2 more threads\n",
      "2022-02-28 17:54:57,082 : INFO : worker thread finished; awaiting finish of 1 more threads\n",
      "2022-02-28 17:54:57,082 : INFO : worker thread finished; awaiting finish of 0 more threads\n",
      "2022-02-28 17:54:57,083 : INFO : EPOCH - 8 : training on 115969 raw words (95544 effective words) took 0.3s, 355858 effective words/s\n",
      "2022-02-28 17:54:57,341 : INFO : worker thread finished; awaiting finish of 2 more threads\n",
      "2022-02-28 17:54:57,351 : INFO : worker thread finished; awaiting finish of 1 more threads\n",
      "2022-02-28 17:54:57,354 : INFO : worker thread finished; awaiting finish of 0 more threads\n",
      "2022-02-28 17:54:57,355 : INFO : EPOCH - 9 : training on 115969 raw words (95589 effective words) took 0.3s, 358468 effective words/s\n",
      "2022-02-28 17:54:57,614 : INFO : worker thread finished; awaiting finish of 2 more threads\n",
      "2022-02-28 17:54:57,620 : INFO : worker thread finished; awaiting finish of 1 more threads\n",
      "2022-02-28 17:54:57,629 : INFO : worker thread finished; awaiting finish of 0 more threads\n",
      "2022-02-28 17:54:57,630 : INFO : EPOCH - 10 : training on 115969 raw words (95460 effective words) took 0.3s, 354065 effective words/s\n",
      "2022-02-28 17:54:57,892 : INFO : worker thread finished; awaiting finish of 2 more threads\n",
      "2022-02-28 17:54:57,893 : INFO : worker thread finished; awaiting finish of 1 more threads\n",
      "2022-02-28 17:54:57,897 : INFO : worker thread finished; awaiting finish of 0 more threads\n",
      "2022-02-28 17:54:57,898 : INFO : EPOCH - 11 : training on 115969 raw words (95450 effective words) took 0.3s, 362549 effective words/s\n",
      "2022-02-28 17:54:58,143 : INFO : worker thread finished; awaiting finish of 2 more threads\n",
      "2022-02-28 17:54:58,161 : INFO : worker thread finished; awaiting finish of 1 more threads\n",
      "2022-02-28 17:54:58,168 : INFO : worker thread finished; awaiting finish of 0 more threads\n",
      "2022-02-28 17:54:58,168 : INFO : EPOCH - 12 : training on 115969 raw words (95551 effective words) took 0.3s, 360368 effective words/s\n",
      "2022-02-28 17:54:58,426 : INFO : worker thread finished; awaiting finish of 2 more threads\n",
      "2022-02-28 17:54:58,431 : INFO : worker thread finished; awaiting finish of 1 more threads\n",
      "2022-02-28 17:54:58,434 : INFO : worker thread finished; awaiting finish of 0 more threads\n",
      "2022-02-28 17:54:58,435 : INFO : EPOCH - 13 : training on 115969 raw words (95603 effective words) took 0.3s, 364722 effective words/s\n",
      "2022-02-28 17:54:58,679 : INFO : worker thread finished; awaiting finish of 2 more threads\n",
      "2022-02-28 17:54:58,703 : INFO : worker thread finished; awaiting finish of 1 more threads\n",
      "2022-02-28 17:54:58,713 : INFO : worker thread finished; awaiting finish of 0 more threads\n",
      "2022-02-28 17:54:58,714 : INFO : EPOCH - 14 : training on 115969 raw words (95538 effective words) took 0.3s, 348728 effective words/s\n",
      "2022-02-28 17:54:59,034 : INFO : worker thread finished; awaiting finish of 2 more threads\n",
      "2022-02-28 17:54:59,053 : INFO : worker thread finished; awaiting finish of 1 more threads\n",
      "2022-02-28 17:54:59,059 : INFO : worker thread finished; awaiting finish of 0 more threads\n",
      "2022-02-28 17:54:59,060 : INFO : EPOCH - 15 : training on 115969 raw words (95526 effective words) took 0.3s, 286322 effective words/s\n",
      "2022-02-28 17:54:59,323 : INFO : worker thread finished; awaiting finish of 2 more threads\n",
      "2022-02-28 17:54:59,344 : INFO : worker thread finished; awaiting finish of 1 more threads\n",
      "2022-02-28 17:54:59,345 : INFO : worker thread finished; awaiting finish of 0 more threads\n",
      "2022-02-28 17:54:59,345 : INFO : EPOCH - 16 : training on 115969 raw words (95721 effective words) took 0.3s, 340263 effective words/s\n",
      "2022-02-28 17:54:59,638 : INFO : worker thread finished; awaiting finish of 2 more threads\n",
      "2022-02-28 17:54:59,638 : INFO : worker thread finished; awaiting finish of 1 more threads\n",
      "2022-02-28 17:54:59,652 : INFO : worker thread finished; awaiting finish of 0 more threads\n",
      "2022-02-28 17:54:59,653 : INFO : EPOCH - 17 : training on 115969 raw words (95537 effective words) took 0.3s, 332373 effective words/s\n",
      "2022-02-28 17:54:59,915 : INFO : worker thread finished; awaiting finish of 2 more threads\n",
      "2022-02-28 17:54:59,927 : INFO : worker thread finished; awaiting finish of 1 more threads\n",
      "2022-02-28 17:54:59,935 : INFO : worker thread finished; awaiting finish of 0 more threads\n",
      "2022-02-28 17:54:59,935 : INFO : EPOCH - 18 : training on 115969 raw words (95663 effective words) took 0.3s, 345374 effective words/s\n",
      "2022-02-28 17:55:00,187 : INFO : worker thread finished; awaiting finish of 2 more threads\n",
      "2022-02-28 17:55:00,211 : INFO : worker thread finished; awaiting finish of 1 more threads\n",
      "2022-02-28 17:55:00,219 : INFO : worker thread finished; awaiting finish of 0 more threads\n",
      "2022-02-28 17:55:00,221 : INFO : EPOCH - 19 : training on 115969 raw words (95539 effective words) took 0.3s, 340374 effective words/s\n",
      "2022-02-28 17:55:00,480 : INFO : worker thread finished; awaiting finish of 2 more threads\n",
      "2022-02-28 17:55:00,487 : INFO : worker thread finished; awaiting finish of 1 more threads\n",
      "2022-02-28 17:55:00,491 : INFO : worker thread finished; awaiting finish of 0 more threads\n",
      "2022-02-28 17:55:00,492 : INFO : EPOCH - 20 : training on 115969 raw words (95614 effective words) took 0.3s, 364138 effective words/s\n",
      "2022-02-28 17:55:00,492 : INFO : training on a 2319380 raw words (1911247 effective words) took 5.6s, 340781 effective words/s\n"
     ]
    },
    {
     "data": {
      "text/plain": [
       "[(0, 0.06430813),\n",
       " (1, -0.046863426),\n",
       " (2, 0.058851987),\n",
       " (3, -0.07687802),\n",
       " (4, -0.015105974),\n",
       " (5, -0.044761807),\n",
       " (6, 0.0066127465),\n",
       " (7, -0.0074988655),\n",
       " (8, -0.083083004),\n",
       " (9, 0.06993245),\n",
       " (10, -0.07343854),\n",
       " (11, 0.027406242),\n",
       " (12, 0.011344509),\n",
       " (13, 0.03444375),\n",
       " (14, -0.014567721),\n",
       " (15, -0.010012114),\n",
       " (16, -0.0868617),\n",
       " (17, -0.071221024),\n",
       " (18, 0.049462214),\n",
       " (19, 0.07170809),\n",
       " (20, 0.0081555685),\n",
       " (21, 0.007823359),\n",
       " (22, -0.028951148),\n",
       " (23, 0.03879241),\n",
       " (24, -0.06726216),\n",
       " (25, 0.019192664),\n",
       " (26, 0.034479547),\n",
       " (27, 0.003481624),\n",
       " (28, -0.07802081),\n",
       " (29, -0.031825386),\n",
       " (30, -0.0051662344),\n",
       " (31, 0.04059576),\n",
       " (32, -0.047688413),\n",
       " (33, -0.029636884),\n",
       " (34, -0.040860582),\n",
       " (35, -0.015750067),\n",
       " (36, -0.08066231),\n",
       " (37, 0.019394787),\n",
       " (38, 0.010814111),\n",
       " (39, -0.015673367),\n",
       " (40, -0.023960166),\n",
       " (41, 0.00073089893),\n",
       " (42, -0.08571038),\n",
       " (43, -0.04161378),\n",
       " (44, -0.020503175),\n",
       " (45, 0.016675869),\n",
       " (46, -0.038397394),\n",
       " (47, 0.08489599),\n",
       " (48, -0.088549666),\n",
       " (49, -0.006266384),\n",
       " (50, 0.00054752757),\n",
       " (51, -0.043204054),\n",
       " (52, 0.037342902),\n",
       " (53, -0.04530918),\n",
       " (54, 0.021502452),\n",
       " (55, -0.0017054038),\n",
       " (56, 0.01303297),\n",
       " (57, 0.036871955),\n",
       " (58, 0.07124232),\n",
       " (59, -0.021365011),\n",
       " (60, -0.046498913),\n",
       " (61, 0.0875721),\n",
       " (62, 0.044722978),\n",
       " (63, 0.0022033704),\n",
       " (64, 0.03684718),\n",
       " (65, -0.0067288443),\n",
       " (66, -0.015596358),\n",
       " (67, 0.08836346),\n",
       " (68, 0.02620291),\n",
       " (69, 0.001764732),\n",
       " (70, -0.058828067),\n",
       " (71, 0.020815877),\n",
       " (72, -0.09101291),\n",
       " (73, 0.00485106),\n",
       " (74, 0.07681427),\n",
       " (75, -0.082807206),\n",
       " (76, -0.0053364057),\n",
       " (77, 0.013777697),\n",
       " (78, 0.020124838),\n",
       " (79, 0.0234581),\n",
       " (80, 0.0017646175),\n",
       " (81, 0.04898242),\n",
       " (82, -0.0013421025),\n",
       " (83, 0.052130874),\n",
       " (84, -0.038633958),\n",
       " (85, -0.04829769),\n",
       " (86, 0.11084156),\n",
       " (87, -0.053829696),\n",
       " (88, -0.015717229),\n",
       " (89, 0.024592878),\n",
       " (90, 0.0824557),\n",
       " (91, 0.11160164),\n",
       " (92, -0.15415382),\n",
       " (93, 0.03004074),\n",
       " (94, 0.086790286),\n",
       " (95, -0.06264653),\n",
       " (96, 0.08749925),\n",
       " (97, -0.06991909),\n",
       " (98, 0.009476015),\n",
       " (99, -0.06349449)]"
      ]
     },
     "execution_count": 93,
     "metadata": {},
     "output_type": "execute_result"
    }
   ],
   "source": [
    "# TODO: Implement this! (10 points)\n",
    "class D2VRetrievalModel(VectorSpaceRetrievalModel):\n",
    "    def __init__(self, doc_repr):\n",
    "        super().__init__(doc_repr)\n",
    "\n",
    "        self.vector_size = 100\n",
    "        self.min_count = 1\n",
    "        self.epochs = 20\n",
    "\n",
    "        # YOUR CODE HERE\n",
    "        self.tagged_documents = [\n",
    "            TaggedDocument(doc, [doc_id]) for doc_id, doc in self.doc_repr\n",
    "        ]\n",
    "\n",
    "    def train_model(self):\n",
    "        # YOUR CODE HERE\n",
    "        self.model = Doc2Vec(\n",
    "            documents=self.tagged_documents,\n",
    "            vector_size=self.vector_size,\n",
    "            epochs=self.epochs,\n",
    "            min_count=self.min_count,\n",
    "        )\n",
    "\n",
    "    def vectorize_documents(self):\n",
    "        \"\"\"\n",
    "        Returns a doc_id -> vector dictionary\n",
    "        \"\"\"\n",
    "        # YOUR CODE HERE\n",
    "        vectors = {}\n",
    "        for (doc_id, doc) in self.doc_repr:\n",
    "            doc_vec = self.model.docvecs[doc_id]\n",
    "            # convert to weird gensim format\n",
    "            doc_vec = [(i, el) for i, el in enumerate(doc_vec)]\n",
    "            # store\n",
    "            vectors[doc_id] = doc_vec\n",
    "        return vectors\n",
    "\n",
    "    def vectorize_query(self, query):\n",
    "        # YOUR CODE HERE\n",
    "        query = process_text(query, **config_2)\n",
    "        query_vec = self.model.infer_vector(query)\n",
    "        # conver to weird gensim format\n",
    "        query_vec = [(i, el) for i, el in enumerate(query_vec)]\n",
    "        return query_vec\n",
    "\n",
    "\n",
    "d2v = D2VRetrievalModel(doc_repr_2)\n",
    "d2v.train_model()\n",
    "\n",
    "\n",
    "# # you can now get an LSI vector for a given query in the following way:\n",
    "d2v.vectorize_query(\"report\")"
   ]
  },
  {
   "cell_type": "code",
   "execution_count": 94,
   "metadata": {
    "deletable": false,
    "editable": false,
    "nbgrader": {
     "cell_type": "code",
     "checksum": "e83a363a9d4f136efbdde1426a83925e",
     "grade": true,
     "grade_id": "cell-5e2c5e0c9a2e8cb5",
     "locked": true,
     "points": 0,
     "schema_version": 3,
     "solution": false,
     "task": false
    }
   },
   "outputs": [],
   "source": [
    "#### Please do not change this. This cell is used for grading."
   ]
  },
  {
   "cell_type": "markdown",
   "metadata": {
    "deletable": false,
    "editable": false,
    "nbgrader": {
     "cell_type": "markdown",
     "checksum": "5bb46bf6b9be1e0ca66f0b0bc6260ecb",
     "grade": false,
     "grade_id": "cell-8a49d414f798a595",
     "locked": true,
     "points": 10,
     "schema_version": 3,
     "solution": false,
     "task": true
    }
   },
   "source": [
    "\\#### Please do not change this. This cell is used for grading."
   ]
  },
  {
   "cell_type": "code",
   "execution_count": 95,
   "metadata": {},
   "outputs": [
    {
     "data": {
      "application/vnd.jupyter.widget-view+json": {
       "model_id": "e8a5c979c84845b08cee4ea36f7580b9",
       "version_major": 2,
       "version_minor": 0
      },
      "text/plain": [
       "Text(value='', description='Search Bar')"
      ]
     },
     "metadata": {},
     "output_type": "display_data"
    }
   ],
   "source": [
    "drm_d2v = DenseRetrievalRanker(d2v, cosine_sim)\n",
    "\n",
    "# test your LDA model\n",
    "search_fn = drm_d2v.search\n",
    "\n",
    "text = widgets.Text(description=\"Search Bar\", width=200)\n",
    "display(text)\n",
    "\n",
    "\n",
    "text.on_submit(handle_submit_2)"
   ]
  },
  {
   "cell_type": "markdown",
   "metadata": {
    "deletable": false,
    "editable": false,
    "nbgrader": {
     "cell_type": "markdown",
     "checksum": "363ec36c1d03d9f9e1c2045a6e193c14",
     "grade": false,
     "grade_id": "cell-3529ae29eece7b97",
     "locked": true,
     "schema_version": 3,
     "solution": false,
     "task": false
    }
   },
   "source": [
    "---\n",
    "## Section 9: Re-ranking (10 points) <a class=\"anchor\" id=\"reranking\"></a>\n",
    "\n",
    "[Back to Part 2](#part2)\n",
    "\n",
    "To motivate the re-ranking perspective (i.e retrieve with lexical method + rerank with a semantic method), let's search using semantic methods and compare it to BM25's performance, along with their runtime:\n"
   ]
  },
  {
   "cell_type": "code",
   "execution_count": 96,
   "metadata": {
    "deletable": false,
    "editable": false,
    "nbgrader": {
     "cell_type": "code",
     "checksum": "5755f70e3eb28abc65d14d80125338af",
     "grade": false,
     "grade_id": "cell-f8f43bf5ae383128",
     "locked": true,
     "schema_version": 3,
     "solution": false,
     "task": false
    }
   },
   "outputs": [
    {
     "name": "stdout",
     "output_type": "stream",
     "text": [
      "BM25: \n",
      "1.5 ms ± 106 µs per loop (mean ± std. dev. of 7 runs, 1000 loops each)\n",
      "LSI: \n",
      "576 ms ± 5.32 ms per loop (mean ± std. dev. of 7 runs, 1 loop each)\n",
      "LDA: \n",
      "192 ms ± 6.89 ms per loop (mean ± std. dev. of 7 runs, 1 loop each)\n",
      "W2V: \n",
      "569 ms ± 26.8 ms per loop (mean ± std. dev. of 7 runs, 1 loop each)\n",
      "W2V(Pretrained): \n"
     ]
    },
    {
     "name": "stderr",
     "output_type": "stream",
     "text": [
      "/Users/thesofakillers/miniconda3/envs/ir1/lib/python3.6/site-packages/ipykernel_launcher.py:64: DeprecationWarning: Call to deprecated `wv` (Attribute will be removed in 4.0.0, use self instead).\n"
     ]
    },
    {
     "name": "stdout",
     "output_type": "stream",
     "text": [
      "1.6 s ± 14.6 ms per loop (mean ± std. dev. of 7 runs, 1 loop each)\n",
      "D2V:\n",
      "2.87 s ± 117 ms per loop (mean ± std. dev. of 7 runs, 1 loop each)\n"
     ]
    }
   ],
   "source": [
    "query = \"algebraic functions\"\n",
    "print(\"BM25: \")\n",
    "%timeit bm25_search(query, 2)\n",
    "print(\"LSI: \")\n",
    "%timeit drm_lsi.search(query)\n",
    "print(\"LDA: \")\n",
    "%timeit drm_lda.search(query)\n",
    "print(\"W2V: \")\n",
    "%timeit drm_w2v.search(query)\n",
    "print(\"W2V(Pretrained): \")\n",
    "%timeit drm_w2v_pretrained.search(query)\n",
    "print(\"D2V:\")\n",
    "%timeit drm_d2v.search(query)"
   ]
  },
  {
   "cell_type": "markdown",
   "metadata": {
    "deletable": false,
    "editable": false,
    "nbgrader": {
     "cell_type": "markdown",
     "checksum": "ae398da0a8c23c95bcbb0023b7ec6f34",
     "grade": false,
     "grade_id": "cell-db5ff09f97841af7",
     "locked": true,
     "schema_version": 3,
     "solution": false,
     "task": false
    }
   },
   "source": [
    "---\n",
    "\n",
    "**Implementation (10 points):**\n",
    "Re-ranking involves retrieving a small set of documents using simple but fast methods like BM25 and then re-ranking them with the aid of semantic methods such as LDA or LSI. Implement the following class, which takes in an `initial_retrieval_fn` - the initial retrieval function and `vsrm` - an instance of the `VectorSpaceRetrievalModel` class (i.e LSI/LDA) as input. The search function should first retrieve an initial list of K documents, and then these documents are re-ranked using a semantic method. This not only makes retrieval faster, but semantic methods perform poorly when used in isolation, as you will find out."
   ]
  },
  {
   "cell_type": "code",
   "execution_count": 97,
   "metadata": {
    "deletable": false,
    "nbgrader": {
     "cell_type": "code",
     "checksum": "63b6b05a676a2ae3f08d8bed1bc59428",
     "grade": false,
     "grade_id": "cell-5bf47600d1a0c507",
     "locked": false,
     "schema_version": 3,
     "solution": true,
     "task": false
    }
   },
   "outputs": [],
   "source": [
    "# TODO: Implement this! (10 points)\n",
    "class DenseRerankingModel:\n",
    "    def __init__(self, initial_retrieval_fn, vsrm, similarity_fn):\n",
    "        \"\"\"\n",
    "        initial_retrieval_fn: takes in a query and returns a list of [(doc_id, score)] (sorted)\n",
    "        vsrm: instance of `VectorSpaceRetrievalModel`\n",
    "        similarity_fn: function instance that takes in two vectors\n",
    "                        and returns a similarity score e.g cosine_sim defined earlier\n",
    "        \"\"\"\n",
    "        self.ret = initial_retrieval_fn\n",
    "        self.vsrm = vsrm\n",
    "        self.similarity_fn = similarity_fn\n",
    "        self.vectorized_documents = vsrm.vectorize_documents()\n",
    "\n",
    "        assert len(self.vectorized_documents) == len(doc_repr_2)\n",
    "\n",
    "    def search(self, query, K=50):\n",
    "        \"\"\"\n",
    "        First, retrieve the top K results using the retrieval function\n",
    "        Then, re-rank the results using the VSRM instance\n",
    "        \"\"\"\n",
    "        # YOUR CODE HERE\n",
    "        top_k = self.ret(query)[:K]\n",
    "        results = {}\n",
    "        query_vector = self.vsrm.vectorize_query(query)\n",
    "        for doc_id, _score in top_k:\n",
    "            doc_vector = self.vectorized_documents[doc_id]\n",
    "            new_score = self.similarity_fn(doc_vector, query_vector)\n",
    "            results[doc_id] = new_score\n",
    "        # convert results to list and sort descending\n",
    "        results = sorted(list(results.items()), key=lambda x: -x[1])\n",
    "        return results"
   ]
  },
  {
   "cell_type": "code",
   "execution_count": 98,
   "metadata": {
    "deletable": false,
    "editable": false,
    "nbgrader": {
     "cell_type": "code",
     "checksum": "334ab5af96976265cace682ab82a7387",
     "grade": true,
     "grade_id": "cell-52c6d18a4c0b4882",
     "locked": true,
     "points": 0,
     "schema_version": 3,
     "solution": false,
     "task": false
    }
   },
   "outputs": [
    {
     "name": "stderr",
     "output_type": "stream",
     "text": [
      "/Users/thesofakillers/miniconda3/envs/ir1/lib/python3.6/site-packages/ipykernel_launcher.py:33: DeprecationWarning: Call to deprecated `wv` (Attribute will be removed in 4.0.0, use self instead).\n"
     ]
    }
   ],
   "source": [
    "##### Function check\n",
    "bm25_search_2 = partial(bm25_search, index_set=2)\n",
    "lsi_rerank = DenseRerankingModel(bm25_search_2, lsi, cosine_sim)\n",
    "lda_rerank = DenseRerankingModel(bm25_search_2, lda, jenson_shannon_sim)\n",
    "w2v_rerank = DenseRerankingModel(bm25_search_2, w2v, cosine_sim)\n",
    "w2v_pretrained_rerank = DenseRerankingModel(bm25_search_2, w2v_pretrained, cosine_sim)\n",
    "d2v_rerank = DenseRerankingModel(bm25_search_2, d2v, cosine_sim)\n",
    "\n",
    "##### "
   ]
  },
  {
   "cell_type": "markdown",
   "metadata": {
    "deletable": false,
    "editable": false,
    "nbgrader": {
     "cell_type": "markdown",
     "checksum": "bd904253f45f84e63bab3a69729058fc",
     "grade": false,
     "grade_id": "cell-93215dfe6bcf7cff",
     "locked": true,
     "points": 10,
     "schema_version": 3,
     "solution": false,
     "task": true
    }
   },
   "source": [
    "\\#### Please do not change this. This cell is used for grading."
   ]
  },
  {
   "cell_type": "markdown",
   "metadata": {
    "deletable": false,
    "editable": false,
    "nbgrader": {
     "cell_type": "markdown",
     "checksum": "b592e60292bfe3d9ef2930a354c4077a",
     "grade": false,
     "grade_id": "cell-aa694ff55fa91e7d",
     "locked": true,
     "schema_version": 3,
     "solution": false,
     "task": false
    }
   },
   "source": [
    "---\n",
    "Now, let us time the new search functions:"
   ]
  },
  {
   "cell_type": "code",
   "execution_count": 99,
   "metadata": {
    "deletable": false,
    "editable": false,
    "nbgrader": {
     "cell_type": "code",
     "checksum": "338c7e3528cba266a865a061287c0e38",
     "grade": false,
     "grade_id": "cell-5edbd481562ad91f",
     "locked": true,
     "schema_version": 3,
     "solution": false,
     "task": false
    }
   },
   "outputs": [
    {
     "name": "stdout",
     "output_type": "stream",
     "text": [
      "BM25: \n",
      "1.46 ms ± 16.7 µs per loop (mean ± std. dev. of 7 runs, 1000 loops each)\n",
      "LSI: \n",
      "11.2 ms ± 777 µs per loop (mean ± std. dev. of 7 runs, 100 loops each)\n",
      "LDA: \n",
      "5.12 ms ± 130 µs per loop (mean ± std. dev. of 7 runs, 100 loops each)\n",
      "W2V: \n",
      "11.5 ms ± 1.02 ms per loop (mean ± std. dev. of 7 runs, 100 loops each)\n",
      "W2V(Pretrained): \n"
     ]
    },
    {
     "name": "stderr",
     "output_type": "stream",
     "text": [
      "/Users/thesofakillers/miniconda3/envs/ir1/lib/python3.6/site-packages/ipykernel_launcher.py:64: DeprecationWarning: Call to deprecated `wv` (Attribute will be removed in 4.0.0, use self instead).\n"
     ]
    },
    {
     "name": "stdout",
     "output_type": "stream",
     "text": [
      "26.8 ms ± 607 µs per loop (mean ± std. dev. of 7 runs, 10 loops each)\n",
      "D2V:\n",
      "50.3 ms ± 2.39 ms per loop (mean ± std. dev. of 7 runs, 10 loops each)\n"
     ]
    }
   ],
   "source": [
    "query = \"algebraic functions\"\n",
    "print(\"BM25: \")\n",
    "%timeit bm25_search(query, 2)\n",
    "print(\"LSI: \")\n",
    "%timeit lsi_rerank.search(query)\n",
    "print(\"LDA: \")\n",
    "%timeit lda_rerank.search(query)\n",
    "print(\"W2V: \")\n",
    "%timeit w2v_rerank.search(query)\n",
    "print(\"W2V(Pretrained): \")\n",
    "%timeit w2v_pretrained_rerank.search(query)\n",
    "print(\"D2V:\")\n",
    "%timeit d2v_rerank.search(query)"
   ]
  },
  {
   "cell_type": "markdown",
   "metadata": {
    "deletable": false,
    "editable": false,
    "nbgrader": {
     "cell_type": "markdown",
     "checksum": "c45c5e3f015b2de89d9d39ae3766368b",
     "grade": false,
     "grade_id": "cell-85c50f2ab9eec301",
     "locked": true,
     "schema_version": 3,
     "solution": false,
     "task": false
    }
   },
   "source": [
    "---\n",
    "As you can see, it is much faster (but BM25 is still orders of magnitude faster)."
   ]
  },
  {
   "cell_type": "markdown",
   "metadata": {
    "deletable": false,
    "editable": false,
    "nbgrader": {
     "cell_type": "markdown",
     "checksum": "1e2f3388e3807659f303fe31a75a010e",
     "grade": false,
     "grade_id": "cell-5071bb99b2af61cb",
     "locked": true,
     "schema_version": 3,
     "solution": false,
     "task": false
    }
   },
   "source": [
    "---\n",
    "## Section 10: Evaluation & Analysis (30 points) <a class=\"anchor\" id=\"reranking_eval\"></a>\n",
    "\n",
    "[Back to Part 2](#part2)\n",
    "\n",
    "[Previously](#evaluation) we have implemented some evaluation metrics and used them for measuring the ranking performance of term-based IR algorithms. In this section, we will do the same for semantic methods, both with and without re-ranking.\n",
    "\n",
    "### Section 10.1: Plot (10 points)\n",
    "\n",
    "First, gather the results. The results should consider the index set, the different search functions and different metrics. Plot the results in bar charts, per metric, with clear labels.\n",
    "\n",
    "Then, gather only the re-ranking models, and plot and compare them with the results obtained in part 1 (only index set 2)."
   ]
  },
  {
   "cell_type": "code",
   "execution_count": 100,
   "metadata": {
    "deletable": false,
    "editable": false,
    "nbgrader": {
     "cell_type": "code",
     "checksum": "4fe81520ac6413a803838913fd64de03",
     "grade": false,
     "grade_id": "cell-b672fe6dfae0b1ce",
     "locked": true,
     "schema_version": 3,
     "solution": false,
     "task": false
    }
   },
   "outputs": [],
   "source": [
    "list_of_sem_search_fns = [\n",
    "    (\"lda\", drm_lda.search),\n",
    "    (\"lsi\", drm_lsi.search),\n",
    "    (\"w2v\", drm_w2v.search),\n",
    "    (\"w2v_pretrained\", drm_w2v_pretrained.search),\n",
    "    (\"d2v\", drm_d2v.search),\n",
    "    (\"lsi_rr\", lsi_rerank.search),\n",
    "    (\"lda_rr\", lda_rerank.search),\n",
    "    (\"w2v_rr\", w2v_rerank.search),\n",
    "    (\"w2v_pretrained_rr\", w2v_pretrained_rerank.search),\n",
    "    (\"d2v_rr\", d2v_rerank.search),\n",
    "    \n",
    "]"
   ]
  },
  {
   "cell_type": "code",
   "execution_count": 101,
   "metadata": {
    "deletable": false,
    "nbgrader": {
     "cell_type": "code",
     "checksum": "54707c4afac084299aeefa047259b4a9",
     "grade": true,
     "grade_id": "cell-7dd8273b0f5a3c22",
     "locked": false,
     "points": 10,
     "schema_version": 3,
     "solution": true,
     "task": false
    }
   },
   "outputs": [
    {
     "name": "stdout",
     "output_type": "stream",
     "text": [
      "\n",
      "Vanilla\n",
      "\tlda\n",
      "{'ERR': 0.08231671,\n",
      " 'MAP': 0.035701428,\n",
      " 'Precision@1': 0.057692308,\n",
      " 'Precision@10': 0.044230767,\n",
      " 'Precision@5': 0.030769233,\n",
      " 'Recall@1': 0.0032535365,\n",
      " 'Recall@10': 0.033342015,\n",
      " 'Recall@5': 0.006950881}\n",
      "\tlsi\n",
      "{'ERR': 0.12296986,\n",
      " 'MAP': 0.063769184,\n",
      " 'Precision@1': 0.115384616,\n",
      " 'Precision@10': 0.078846164,\n",
      " 'Precision@5': 0.08846155,\n",
      " 'Recall@1': 0.015510531,\n",
      " 'Recall@10': 0.057239242,\n",
      " 'Recall@5': 0.03464716}\n",
      "\tw2v\n",
      "{'ERR': 0.02825736,\n",
      " 'MAP': 0.012340218,\n",
      " 'Precision@1': 0.01923077,\n",
      " 'Precision@10': 0.0134615395,\n",
      " 'Precision@5': 0.0076923077,\n",
      " 'Recall@1': 0.00096153846,\n",
      " 'Recall@10': 0.007912064,\n",
      " 'Recall@5': 0.0037087912}\n"
     ]
    },
    {
     "name": "stderr",
     "output_type": "stream",
     "text": [
      "/Users/thesofakillers/miniconda3/envs/ir1/lib/python3.6/site-packages/ipykernel_launcher.py:64: DeprecationWarning: Call to deprecated `wv` (Attribute will be removed in 4.0.0, use self instead).\n"
     ]
    },
    {
     "name": "stdout",
     "output_type": "stream",
     "text": [
      "\tw2v_pretrained\n",
      "{'ERR': 0.22888106,\n",
      " 'MAP': 0.13215353,\n",
      " 'Precision@1': 0.30769232,\n",
      " 'Precision@10': 0.1326923,\n",
      " 'Precision@5': 0.17307693,\n",
      " 'Recall@1': 0.048749086,\n",
      " 'Recall@10': 0.14604688,\n",
      " 'Recall@5': 0.10601156}\n",
      "\td2v\n",
      "{'ERR': 0.10554656,\n",
      " 'MAP': 0.049389526,\n",
      " 'Precision@1': 0.09615385,\n",
      " 'Precision@10': 0.057692304,\n",
      " 'Precision@5': 0.061538465,\n",
      " 'Recall@1': 0.007740031,\n",
      " 'Recall@10': 0.047876194,\n",
      " 'Recall@5': 0.032391246}\n",
      "\n",
      "Reranked\n",
      "\tlda\n",
      "{'ERR': 0.19775528,\n",
      " 'MAP': 0.11719558,\n",
      " 'Precision@1': 0.115384616,\n",
      " 'Precision@10': 0.18461537,\n",
      " 'Precision@5': 0.18846154,\n",
      " 'Recall@1': 0.010886487,\n",
      " 'Recall@10': 0.25813374,\n",
      " 'Recall@5': 0.14223495}\n",
      "\tlsi\n",
      "{'ERR': 0.21792959,\n",
      " 'MAP': 0.12990667,\n",
      " 'Precision@1': 0.1923077,\n",
      " 'Precision@10': 0.18076923,\n",
      " 'Precision@5': 0.19230771,\n",
      " 'Recall@1': 0.033948842,\n",
      " 'Recall@10': 0.26622698,\n",
      " 'Recall@5': 0.15364788}\n",
      "\tw2v\n",
      "{'ERR': 0.18335551,\n",
      " 'MAP': 0.107058,\n",
      " 'Precision@1': 0.13461539,\n",
      " 'Precision@10': 0.15961537,\n",
      " 'Precision@5': 0.15,\n",
      " 'Recall@1': 0.014974723,\n",
      " 'Recall@10': 0.2501486,\n",
      " 'Recall@5': 0.11298101}\n",
      "\tw2v_pretrained\n",
      "{'ERR': 0.2839876,\n",
      " 'MAP': 0.17797674,\n",
      " 'Precision@1': 0.34615386,\n",
      " 'Precision@10': 0.20769231,\n",
      " 'Precision@5': 0.23076923,\n",
      " 'Recall@1': 0.08440109,\n",
      " 'Recall@10': 0.3412429,\n",
      " 'Recall@5': 0.20217164}\n",
      "\td2v\n",
      "{'ERR': 0.23323283,\n",
      " 'MAP': 0.1256492,\n",
      " 'Precision@1': 0.21153846,\n",
      " 'Precision@10': 0.19423078,\n",
      " 'Precision@5': 0.18076922,\n",
      " 'Recall@1': 0.028916338,\n",
      " 'Recall@10': 0.30170086,\n",
      " 'Recall@5': 0.12026921}\n"
     ]
    },
    {
     "data": {
      "image/png": "[encoded data removed]",
      "text/plain": [
       "<Figure size 1008x576 with 8 Axes>"
      ]
     },
     "metadata": {
      "needs_background": "light"
     },
     "output_type": "display_data"
    },
    {
     "data": {
      "image/png": "[encoded data removed]",
      "text/plain": [
       "<Figure size 1008x504 with 8 Axes>"
      ]
     },
     "metadata": {
      "needs_background": "light"
     },
     "output_type": "display_data"
    }
   ],
   "source": [
    "# YOUR CODE HERE\n",
    "# takes roughly 7 mins to run\n",
    "\n",
    "# redefine the list such that vanilla and reranked appear in same order\n",
    "list_of_sem_search_fns = [\n",
    "    (\"lda\", drm_lda.search),\n",
    "    (\"lsi\", drm_lsi.search),\n",
    "    (\"w2v\", drm_w2v.search),\n",
    "    (\"w2v_pretrained\", drm_w2v_pretrained.search),\n",
    "    (\"d2v\", drm_d2v.search),\n",
    "    (\"lda_rr\", lda_rerank.search),  # lda rr and lsi rr\n",
    "    (\"lsi_rr\", lsi_rerank.search),  # were not in same order as vanilla\n",
    "    (\"w2v_rr\", w2v_rerank.search),\n",
    "    (\"w2v_pretrained_rr\", w2v_pretrained_rerank.search),\n",
    "    (\"d2v_rr\", d2v_rerank.search),\n",
    "]\n",
    "\n",
    "\n",
    "from pprint import pprint\n",
    "\n",
    "fig, axes = plt.subplots(2, 4, figsize=(14, 8), sharey=False)\n",
    "axes = axes.flatten()\n",
    "\n",
    "# need this to make side by side bars\n",
    "N = len(list_of_sem_search_fns) // 2\n",
    "method_loc = np.arange(N)\n",
    "bar_width = 0.25\n",
    "\n",
    "vanilla_search_fns = list_of_sem_search_fns[:N]\n",
    "reranked_search_fns = list_of_sem_search_fns[N:]\n",
    "\n",
    "search_fns_map = {\"Vanilla\": vanilla_search_fns, \"Reranked\": reranked_search_fns}\n",
    "\n",
    "for j, mode in enumerate([\"Vanilla\", \"Reranked\"]):\n",
    "    results = {}\n",
    "    print(f\"\\n{mode}\")\n",
    "\n",
    "    for search_alg, search_fn in search_fns_map[mode]:\n",
    "        # remove _rr from reranked algo's so that the labels match\n",
    "        search_alg = search_alg.replace(\"_rr\", \"\")\n",
    "        results[search_alg] = evaluate_search_fn(search_fn, list_of_metrics)\n",
    "        print(f\"\\t{search_alg}\")\n",
    "        pprint(results[search_alg])\n",
    "\n",
    "    for i, (metric_name, _metric_fn) in enumerate(list_of_metrics):\n",
    "        metric_results = {k: v[metric_name] for k, v in results.items()}\n",
    "\n",
    "        labels = list(metric_results.keys())\n",
    "        values = [metric_results[label] for label in labels]\n",
    "\n",
    "        axes[i].grid(True, which=\"major\", axis=\"y\", alpha=0.35)\n",
    "        if i % 4 == 0:\n",
    "            axes[i].set_ylabel(\"Average Metric Value\")\n",
    "        if j == 0:\n",
    "            axes[i].bar(method_loc, values, bar_width, label=f\"{mode}\")\n",
    "        else:\n",
    "            axes[i].bar(method_loc + bar_width, values, bar_width, label=f\"{mode}\")\n",
    "            axes[i].set_xticks(method_loc + bar_width / 2)\n",
    "            axes[i].set_xticklabels(labels, rotation=30, ha=\"right\")\n",
    "            axes[i].set_title(metric_name)\n",
    "            if i == 7:\n",
    "                axes[i].legend()\n",
    "\n",
    "\n",
    "fig.suptitle(\"Comparison of different Semantic IR algorithms across various Metrics\")\n",
    "fig.tight_layout(rect=[0, 0.03, 1, 0.95])\n",
    "plt.show()\n",
    "\n",
    "\n",
    "# 2nd Plot: Compare semantic search with reranking to models from part 1\n",
    "\n",
    "fig, axes = plt.subplots(2, 4, figsize=(14, 7), sharey=False)\n",
    "axes = axes.flatten()\n",
    "\n",
    "list_of_rerank_sem_search_fns = [\n",
    "    (\"lsi_rr\", lsi_rerank.search),\n",
    "    (\"lda_rr\", lda_rerank.search),\n",
    "    (\"w2v_rr\", w2v_rerank.search),\n",
    "    (\"w2v_pretrained_rr\", w2v_pretrained_rerank.search),\n",
    "    (\"d2v_rr\", d2v_rerank.search),\n",
    "]\n",
    "\n",
    "N = len(list_of_rerank_sem_search_fns + list_of_search_fns)\n",
    "method_loc = np.arange(N)\n",
    "\n",
    "results = {}\n",
    "\n",
    "for i, (search_alg, search_fn) in enumerate(reranked_search_fns + list_of_search_fns):\n",
    "    if i >= len(list_of_rerank_sem_search_fns):\n",
    "        results[search_alg] = evaluate_search_fn(\n",
    "            search_fn, list_of_metrics, index_set=2\n",
    "        )\n",
    "    else:\n",
    "        results[search_alg] = evaluate_search_fn(search_fn, list_of_metrics)\n",
    "\n",
    "for i, (metric_name, _metric_fn) in enumerate(list_of_metrics):\n",
    "    metric_results = {k: v[metric_name] for k, v in results.items()}\n",
    "\n",
    "    labels = list(metric_results.keys())\n",
    "    values = [metric_results[label] for label in labels]\n",
    "\n",
    "    axes[i].grid(True, which=\"major\", axis=\"y\", alpha=0.35)\n",
    "    if i % 4 == 0:\n",
    "        axes[i].set_ylabel(\"Average Metric Value\")\n",
    "    axes[i].bar(method_loc, values, bar_width)\n",
    "    axes[i].set_xticks(method_loc)\n",
    "    axes[i].set_xticklabels(labels, rotation=45, ha=\"right\")\n",
    "    axes[i].set_title(metric_name)\n",
    "\n",
    "fig.suptitle(\n",
    "    \"Comparison between semantic and term-based ranking algorithms (Index Set 2)\"\n",
    ")\n",
    "fig.tight_layout(rect=[0, 0.03, 1, 0.95])\n",
    "plt.show()"
   ]
  },
  {
   "cell_type": "markdown",
   "metadata": {
    "deletable": false,
    "editable": false,
    "nbgrader": {
     "cell_type": "markdown",
     "checksum": "a8a3b6189bdde66704c694d85e38d049",
     "grade": false,
     "grade_id": "cell-deb2ef3daa306e82",
     "locked": true,
     "schema_version": 3,
     "solution": false,
     "task": false
    }
   },
   "source": [
    "### Section 10.2: Summary (20 points)\n",
    "\n",
    "Your summary should compare methods from Part 1 and Part 2 (only for index set 2). State what you expected to see in the results, followed by either supporting evidence *or* justify why the results did not support your expectations. Consider the availability of data, scalability, domain/type of data, etc."
   ]
  },
  {
   "cell_type": "markdown",
   "metadata": {
    "deletable": false,
    "nbgrader": {
     "cell_type": "markdown",
     "checksum": "ff97c43837d10bff6aaffa75e1492887",
     "grade": true,
     "grade_id": "cell-ec5dd7d9cf59dd86",
     "locked": false,
     "points": 20,
     "schema_version": 3,
     "solution": true,
     "task": false
    }
   },
   "source": [
    "Our main observation after running all experiments is that term-based models outperform semantic models in nearly all metrics with the exception of Recall@10. The findings are somewhat surprising since we would have expected semantic models would be better at capturing relevance without the explicit need for exact term matching between query and relevant documents - word embeddings should be good at capturing synonymy between words. This hypothesis may somewhat be confirmed by the performance of semantic models with regards to Recall@10 - because we are not just looking for identical terms but also terms with a similar meaning we are able to retrieve much more of the relevant documents. Semantic models should therefore be suitable for tasks such as legal research where a lawyer would want to find all relevant information in a corpus of legal documents.\n",
    "\n",
    "There may be various reaasons why semantic models perform poorly in all other metrics compared to term-based models. One explanation could be that in the case of pretrained word embeddings representations may have been learned from a different domain and therefore meanings to do not match our current domain or otherwise some words may be missing altogether. Another possible explanation for the poorer performance is that semantic models may be more suitable for a large corpus where enough documents are present in order to learn good representation. In our case the corpus is fairly small and therefore the word representations not very meaningful. This is particularly evident in the skip-gram w2v models, where using embeddings pretrained on a signficantly larger corpus provides much better results.\n",
    "\n",
    "It is important to note that reranking is clearly the better approach and outperforms purely semantic models. This might be again due to the fact that most of the work in retrieving documents is already being done by term-based models which we established perform better in the case of this specific corpus."
   ]
  }
 ],
 "metadata": {
  "kernelspec": {
   "display_name": "Python 3",
   "language": "python",
   "name": "python3"
  },
  "language_info": {
   "codemirror_mode": {
    "name": "ipython",
    "version": 3
   },
   "file_extension": ".py",
   "mimetype": "text/x-python",
   "name": "python",
   "nbconvert_exporter": "python",
   "pygments_lexer": "ipython3",
   "version": "3.6.5"
  },
  "toc": {
   "base_numbering": 1,
   "nav_menu": {},
   "number_sections": true,
   "sideBar": true,
   "skip_h1_title": false,
   "title_cell": "Table of Contents",
   "title_sidebar": "Contents",
   "toc_cell": false,
   "toc_position": {},
   "toc_section_display": true,
   "toc_window_display": false
  }
 },
 "nbformat": 4,
 "nbformat_minor": 4
}
