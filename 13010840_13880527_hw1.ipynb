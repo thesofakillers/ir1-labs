{
 "cells": [
  {
   "cell_type": "markdown",
   "metadata": {
    "cell_id": "2506602b-e699-4ea6-9aa5-4cb13cc4f3c0",
    "deepnote_cell_height": 824,
    "deepnote_cell_type": "markdown",
    "deletable": false,
    "editable": false,
    "nbgrader": {
     "cell_type": "markdown",
     "checksum": "1bba455de8bc2825ca70469169bbadaa",
     "grade": false,
     "grade_id": "cell-c9cd9e550239e812",
     "locked": true,
     "schema_version": 3,
     "solution": false,
     "task": false
    }
   },
   "source": [
    "# Homework 1 (Total Points: 250) <a class=\"anchor\" id=\"top\"></a>\n",
    "\n",
    "\n",
    "**Submission instructions**:\n",
    "- The cells with the `# YOUR CODE HERE` denote that these sections are graded and you need to add your implementation.\n",
    "- For Part 1: You can use the `nltk`, `NumPy`, and `matplotlib` libraries here. Other libraries, e.g., `gensim` or `scikit-learn`, may not be used. For Part 2: `gensim` is allowed in addition to the imported libraries in the next code cell\n",
    "- Please use Python 3.6.5 and `pip install -r requirements.txt` to avoid version issues.\n",
    "- The notebook you submit has to have the student ids, separated by underscores (E.g., `12341234_12341234_12341234_hw1.ipynb`).\n",
    "- This will be parsed by a regexp, **so please double check your filename**.\n",
    "- Only one member of each group has to submit the file (**please do not compress the .ipynb file when you will submit it**) to canvas.\n",
    "- **Make sure to check that your notebook runs before submission**. A quick way to do this is to restart the kernel and run all the cells.\n",
    "- Do not change the number of arugments in the given functions.\n",
    "- **Please do not delete/add new cells**. Removing cells **will** lead to grade deduction.\n",
    "- Note, that you are not allowed to use Google Colab.\n",
    "\n",
    "\n",
    "**Learning Goals**:\n",
    "- [Part 1, Term-based matching](#part1) (165 points):\n",
    "    - Learn how to load a dataset and process it.\n",
    "    - Learn how to implement several standard IR methods (TF-IDF, BM25, QL) and understand their weaknesses & strengths.\n",
    "    - Learn how to evaluate IR methods.\n",
    "- [Part 2, Semantic-based matching](#part2) (85 points):\n",
    "    - Learn how to implement vector-space retrieval methods (LSI, LDA).\n",
    "    - Learn how to use LSI and LDA for re-ranking.\n",
    "\n",
    "\n",
    "**Resources**:\n",
    "- **Part 1**: Sections 2.3, 4.1, 4.2, 4.3, 5.3, 5.6, 5.7, 6.2, 7, 8 of [Search Engines: Information Retrieval in Practice](https://ciir.cs.umass.edu/downloads/SEIRiP.pdf)\n",
    "- **Part 2**: [LSI - Chapter 18](https://nlp.stanford.edu/IR-book/pdf/18lsi.pdf) from [Introduction to Information Retrieval](https://nlp.stanford.edu/IR-book/) book and the [original LDA paper](https://jmlr.org/papers/volume3/blei03a/blei03a.pdf)"
   ]
  },
  {
   "cell_type": "code",
   "execution_count": 1,
   "metadata": {
    "cell_id": "00001-e743cc22-6da0-404e-8b14-8521799dfd06",
    "deepnote_cell_height": 477,
    "deepnote_cell_type": "code",
    "deepnote_to_be_reexecuted": false,
    "deletable": false,
    "editable": false,
    "execution_millis": 4063,
    "execution_start": 1645186524256,
    "nbgrader": {
     "cell_type": "code",
     "checksum": "c55bfe94ff1f564dd595547e516c4c6e",
     "grade": false,
     "grade_id": "cell-f5357fabdb9660e3",
     "locked": true,
     "schema_version": 3,
     "solution": false,
     "task": false
    },
    "source_hash": "33e174b2"
   },
   "outputs": [],
   "source": [
    "# imports\n",
    "# TODO: Ensure that no additional library is imported in the notebook.\n",
    "# TODO: Only the standard library and the following libraries are allowed:\n",
    "# TODO: You can also use unlisted classes from these libraries or standard libraries (such as defaultdict, Counter, ...).\n",
    "\n",
    "import os\n",
    "import zipfile\n",
    "from functools import partial\n",
    "\n",
    "import nltk\n",
    "import requests\n",
    "import numpy as np\n",
    "from tqdm import tqdm\n",
    "\n",
    "import matplotlib.pyplot as plt\n",
    "from matplotlib.pyplot import cm\n",
    "\n",
    "from ipywidgets import widgets\n",
    "from IPython.display import display, HTML\n",
    "\n",
    "# from IPython.html import widgets\n",
    "from collections import namedtuple\n",
    "\n",
    "%matplotlib inline"
   ]
  },
  {
   "cell_type": "markdown",
   "metadata": {
    "cell_id": "00002-8e715841-7edb-4d33-8595-6680b7d47ad7",
    "deepnote_cell_height": 412.390625,
    "deepnote_cell_type": "markdown",
    "deletable": false,
    "editable": false,
    "nbgrader": {
     "cell_type": "markdown",
     "checksum": "c8328f758ca5b69f76eee03dbbdd4715",
     "grade": false,
     "grade_id": "cell-7428e12ed184408b",
     "locked": true,
     "schema_version": 3,
     "solution": false,
     "task": false
    }
   },
   "source": [
    "\n",
    "# Part 1: Term-based Matching (165 points) <a class=\"anchor\" id=\"part1\"></a>\n",
    "\n",
    "[Back to top](#top)\n",
    "\n",
    "In the first part, we will learn the basics of IR from loading and preprocessing the material, to implementing some well known search algorithms, to evaluating the ranking performance of the implemented algorithms. We will be using the CACM dataset throughout the assignment. The CACM dataset is a collection of titles and abstracts from the journal CACM (Communication of the ACM).\n",
    "\n",
    "Table of contents:\n",
    "- [Section 1: Text Processing](#text_processing) (5 points)\n",
    "- [Section 2: Indexing](#indexing) (10 points)\n",
    "- [Section 3: Ranking](#ranking) (80 points)\n",
    "- [Section 4: Evaluation](#evaluation) (40 points)\n",
    "- [Section 5: Analysis](#analysis) (30 points)\n"
   ]
  },
  {
   "cell_type": "markdown",
   "metadata": {
    "cell_id": "00003-584ac16f-6a3d-441f-a49b-132e6d063b8d",
    "deepnote_cell_height": 412.390625,
    "deepnote_cell_type": "markdown",
    "deletable": false,
    "editable": false,
    "nbgrader": {
     "cell_type": "markdown",
     "checksum": "4e3f938065183dc743aa8254b96b4f5e",
     "grade": false,
     "grade_id": "cell-4b24825cf4ae55ec",
     "locked": true,
     "schema_version": 3,
     "solution": false,
     "task": false
    }
   },
   "source": [
    "---\n",
    "## Section 1: Text Processing (5 points)<a class=\"anchor\" id=\"text_processing\"></a>\n",
    "\n",
    "[Back to Part 1](#part1)\n",
    "\n",
    "In this section, we will load the dataset and learn how to clean up the data to make it usable for an IR system.\n",
    "First, go through the implementation of the following functions:\n",
    "- `read_cacm_docs`: Reads in the CACM documents.\n",
    "- `read_queries`: Reads in the CACM queries.\n",
    "- `load_stopwords`: Loads the stopwords.\n",
    "\n",
    "The points of this section are earned for the following implementations:\n",
    "- `tokenize` (3 points): Tokenizes the input text.\n",
    "- `stem_token` (2 points): Stems the given token.\n",
    "\n",
    "We are using the [CACM dataset](http://ir.dcs.gla.ac.uk/resources/test_collections/cacm/), which is a small, classic IR dataset, composed of a collection of titles and abstracts from the journal CACM. It comes with relevance judgements for queries, so we can evaluate our IR system.\n"
   ]
  },
  {
   "cell_type": "markdown",
   "metadata": {
    "cell_id": "00004-f5f9096a-743b-4587-85d1-fc5628227046",
    "deepnote_cell_height": 109,
    "deepnote_cell_type": "markdown",
    "deletable": false,
    "editable": false,
    "nbgrader": {
     "cell_type": "markdown",
     "checksum": "0155d897c7016389d73d160921947a6f",
     "grade": false,
     "grade_id": "cell-45651364e7af6d5a",
     "locked": true,
     "schema_version": 3,
     "solution": false,
     "task": false
    }
   },
   "source": [
    "---\n",
    "### 1.1 Read the CACM documents\n",
    "\n",
    "\n",
    "The following cell downloads the dataset and unzips it to a local directory."
   ]
  },
  {
   "cell_type": "code",
   "execution_count": 2,
   "metadata": {
    "cell_id": "00005-2240a6e7-e312-4d7a-842b-04b160e1f27e",
    "deepnote_cell_height": 549,
    "deepnote_cell_type": "code",
    "deepnote_to_be_reexecuted": false,
    "deletable": false,
    "editable": false,
    "execution_millis": 161,
    "execution_start": 1645186528335,
    "nbgrader": {
     "cell_type": "code",
     "checksum": "4d43c9ad6e77cc01ce4cef0c34824930",
     "grade": false,
     "grade_id": "cell-bbc3030bb3fe7e02",
     "locked": true,
     "schema_version": 3,
     "solution": false,
     "task": false
    },
    "source_hash": "2753ab21"
   },
   "outputs": [],
   "source": [
    "def download_dataset():\n",
    "    folder_path = os.environ.get(\"IR1_DATA_PATH\")\n",
    "    if not folder_path:\n",
    "        folder_path = \"./datasets/\"\n",
    "    os.makedirs(folder_path, exist_ok=True)\n",
    "\n",
    "    file_location = os.path.join(folder_path, \"cacm.zip\")\n",
    "\n",
    "    # download file if it doesn't exist\n",
    "    if not os.path.exists(file_location):\n",
    "\n",
    "        url = \"https://surfdrive.surf.nl/files/index.php/s/M0FGJpX2p8wDwxR/download\"\n",
    "\n",
    "        with open(file_location, \"wb\") as handle:\n",
    "            print(f\"Downloading file from {url} to {file_location}\")\n",
    "            response = requests.get(url, stream=True)\n",
    "            for data in tqdm(response.iter_content()):\n",
    "                handle.write(data)\n",
    "            print(\"Finished downloading file\")\n",
    "\n",
    "    if not os.path.exists(os.path.join(folder_path, \"train.txt\")):\n",
    "\n",
    "        # unzip file\n",
    "        with zipfile.ZipFile(file_location, \"r\") as zip_ref:\n",
    "            zip_ref.extractall(folder_path)\n",
    "\n",
    "\n",
    "download_dataset()"
   ]
  },
  {
   "cell_type": "markdown",
   "metadata": {
    "cell_id": "00006-c429df2f-f87d-4f2b-9acd-506a563a27ba",
    "deepnote_cell_height": 73,
    "deepnote_cell_type": "markdown",
    "deletable": false,
    "editable": false,
    "nbgrader": {
     "cell_type": "markdown",
     "checksum": "31609b0d61d0c74cbd69bc43e47c23be",
     "grade": false,
     "grade_id": "cell-a7dd9a9bf98ede05",
     "locked": true,
     "schema_version": 3,
     "solution": false,
     "task": false
    }
   },
   "source": [
    "---\n",
    "\n",
    "You can see a brief description of each file in the dataset by looking at the README file:"
   ]
  },
  {
   "cell_type": "code",
   "execution_count": 3,
   "metadata": {
    "cell_id": "00007-95c07c75-3366-4db7-b32e-1d9903085e53",
    "deepnote_cell_height": 487,
    "deepnote_cell_type": "code",
    "deepnote_to_be_reexecuted": false,
    "deletable": false,
    "editable": false,
    "execution_millis": 27,
    "execution_start": 1645186528514,
    "nbgrader": {
     "cell_type": "code",
     "checksum": "cb3c9a2b8b2bf4fd5b7446b0c4c00f43",
     "grade": false,
     "grade_id": "cell-9b6ff1a17124711f",
     "locked": true,
     "schema_version": 3,
     "solution": false,
     "task": false
    },
    "source_hash": "4c0f03ad"
   },
   "outputs": [
    {
     "name": "stdout",
     "output_type": "stream",
     "text": [
      "Files in this directory with sizes:\n",
      "          0 Jun 19 21:01 README\n",
      "\n",
      "    2187734 Jun 19 20:55 cacm.all              text of documents\n",
      "        626 Jun 19 20:58 cite.info             key to citation info\n",
      "                                                (the X sections in cacm.all)\n",
      "       2668 Jun 19 20:55 common_words           stop words used by smart\n",
      "       2194 Jun 19 20:55 make_coll*             shell script to make collection\n",
      "       1557 Jun 19 20:55 make_coll_term*        ditto (both useless without\n",
      "                                                smart system)\n",
      "       9948 Jun 19 20:55 qrels.text             relation giving\n",
      "                                                    qid did 0 0\n",
      "                                                to indicate dument did is\n",
      "                                                relevant to query qid\n",
      "      13689 Jun 19 20:55 query.text             Original text of the query\n",
      "\n"
     ]
    }
   ],
   "source": [
    "##### Read the README file\n",
    "with open(\"./datasets/README\", \"r\") as file:\n",
    "    readme = file.read()\n",
    "    print(readme)\n",
    "#####"
   ]
  },
  {
   "cell_type": "markdown",
   "metadata": {
    "cell_id": "00008-c7944957-2e0e-4d0f-be8e-5b5b0a07c4e0",
    "deepnote_cell_height": 180,
    "deepnote_cell_type": "markdown",
    "deletable": false,
    "editable": false,
    "nbgrader": {
     "cell_type": "markdown",
     "checksum": "6e2712c4c4632bf7486a532f7f18074d",
     "grade": false,
     "grade_id": "cell-73351431869fda76",
     "locked": true,
     "schema_version": 3,
     "solution": false,
     "task": false
    }
   },
   "source": [
    "---\n",
    "We are interested in 4 files:\n",
    "- `cacm.all` : Contains the text for all documents. Note that some documents do not have abstracts available\n",
    "- `query.text` : The text of all queries\n",
    "- `qrels.text` : The relevance judgements\n",
    "- `common_words` : A list of common words. This may be used as a collection of stopwords"
   ]
  },
  {
   "cell_type": "code",
   "execution_count": 4,
   "metadata": {
    "cell_id": "00009-e25d351e-8873-4762-a7b4-b03b83e9e5bb",
    "deepnote_cell_height": 845,
    "deepnote_cell_type": "code",
    "deepnote_to_be_reexecuted": false,
    "deletable": false,
    "editable": false,
    "execution_millis": 26,
    "execution_start": 1645186528538,
    "nbgrader": {
     "cell_type": "code",
     "checksum": "f1162c15177eb4ffe466531d03cff4a2",
     "grade": false,
     "grade_id": "cell-b44dd14079f278ca",
     "locked": true,
     "schema_version": 3,
     "solution": false,
     "task": false
    },
    "source_hash": "febb8f7d"
   },
   "outputs": [
    {
     "name": "stdout",
     "output_type": "stream",
     "text": [
      ".I 1\n",
      ".T\n",
      "Preliminary Report-International Algebraic Language\n",
      ".B\n",
      "CACM December, 1958\n",
      ".A\n",
      "Perlis, A. J.\n",
      "Samelson,K.\n",
      ".N\n",
      "CA581203 JB March 22, 1978  8:28 PM\n",
      ".X\n",
      "100\t5\t1\n",
      "123\t5\t1\n",
      "164\t5\t1\n",
      "1\t5\t1\n",
      "1\t5\t1\n",
      "1\t5\t1\n",
      "205\t5\t1\n",
      "210\t5\t1\n",
      "214\t5\t1\n",
      "1982\t5\t1\n",
      "398\t5\t1\n",
      "642\t5\t1\n",
      "669\t5\t1\n",
      "1\t6\t1\n",
      "1\t6\t1\n",
      "1\t6\t1\n",
      "1\t6\t1\n",
      "1\t6\t1\n",
      "1\t6\t1\n",
      "1\t6\t1\n",
      "1\t6\t1\n",
      "1\t6\t1\n",
      "1\t6\t1\n",
      "165\t6\t1\n",
      "196\t6\t1\n",
      "196\t6\t1\n",
      "1273\t6\t1\n",
      "1883\t6\t1\n",
      "324\t6\t1\n",
      "43\t6\t1\n",
      "53\t6\t1\n",
      "91\t6\t1\n",
      "410\t6\t1\n",
      "3184\t6\t1\n",
      "\n"
     ]
    }
   ],
   "source": [
    "##### The first 45 lines of the CACM dataset forms the first record\n",
    "# We are interested only in 3 fields.\n",
    "# 1. the '.I' field, which is the document id\n",
    "# 2. the '.T' field (the title) and\n",
    "# 3. the '.W' field (the abstract, which may be absent)\n",
    "with open(\"./datasets/cacm.all\", \"r\") as file:\n",
    "    cacm_all = \"\".join(file.readlines()[:45])\n",
    "    print(cacm_all)\n",
    "#####"
   ]
  },
  {
   "cell_type": "markdown",
   "metadata": {
    "cell_id": "00010-d7f469bf-422b-4c8f-b6c8-a7fd61a967cb",
    "deepnote_cell_height": 75.796875,
    "deepnote_cell_type": "markdown",
    "deletable": false,
    "editable": false,
    "nbgrader": {
     "cell_type": "markdown",
     "checksum": "250b413baccd8efb186bb46a34ae0060",
     "grade": false,
     "grade_id": "cell-c4bf2e263ec553d8",
     "locked": true,
     "schema_version": 3,
     "solution": false,
     "task": false
    }
   },
   "source": [
    "---\n",
    "\n",
    "The following function reads the `cacm.all` file. Note that each document has a variable number of lines. The `.I` field denotes a new document:"
   ]
  },
  {
   "cell_type": "code",
   "execution_count": 5,
   "metadata": {
    "cell_id": "00011-d8ec70b0-a73d-4fdc-a8a5-9f3fb8f3ba22",
    "deepnote_cell_height": 1017,
    "deepnote_cell_type": "code",
    "deepnote_to_be_reexecuted": false,
    "deletable": false,
    "editable": false,
    "execution_millis": 0,
    "execution_start": 1645186528613,
    "nbgrader": {
     "cell_type": "code",
     "checksum": "57d757e6a7a6938740dc899022b4f291",
     "grade": false,
     "grade_id": "cell-b736116eb419c624",
     "locked": true,
     "schema_version": 3,
     "solution": false,
     "task": false
    },
    "source_hash": "fa1cfb4d"
   },
   "outputs": [],
   "source": [
    "def read_cacm_docs(root_folder=\"./datasets/\"):\n",
    "    \"\"\"\n",
    "    Reads in the CACM documents. The dataset is assumed to be in the folder \"./datasets/\" by default\n",
    "    Returns: A list of 2-tuples: (doc_id, document), where 'document' is a single string created by\n",
    "        appending the title and abstract (separated by a \"\\n\").\n",
    "        In case the record doesn't have an abstract, the document is composed only by the title\n",
    "    \"\"\"\n",
    "    with open(os.path.join(root_folder, \"cacm.all\")) as reader:\n",
    "        lines = reader.readlines()\n",
    "\n",
    "    doc_id, title, abstract = None, None, None\n",
    "\n",
    "    docs = []\n",
    "    line_idx = 0\n",
    "    while line_idx < len(lines):\n",
    "        line = lines[line_idx]\n",
    "        if line.startswith(\".I\"):\n",
    "            if doc_id is not None:\n",
    "                docs.append((doc_id, title, abstract))\n",
    "                doc_id, title, abstract = None, None, None\n",
    "\n",
    "            doc_id = line.split()[-1]\n",
    "            line_idx += 1\n",
    "        elif line.startswith(\".T\"):\n",
    "            # start at next line\n",
    "            line_idx += 1\n",
    "            temp_lines = []\n",
    "            # read till next '.'\n",
    "            while not lines[line_idx].startswith(\".\"):\n",
    "                temp_lines.append(lines[line_idx].strip(\"\\n\"))\n",
    "                line_idx += 1\n",
    "            title = \"\\n\".join(temp_lines).strip(\"\\n\")\n",
    "        elif line.startswith(\".W\"):\n",
    "            # start at next line\n",
    "            line_idx += 1\n",
    "            temp_lines = []\n",
    "            # read till next '.'\n",
    "            while not lines[line_idx].startswith(\".\"):\n",
    "                temp_lines.append(lines[line_idx].strip(\"\\n\"))\n",
    "                line_idx += 1\n",
    "            abstract = \"\\n\".join(temp_lines).strip(\"\\n\")\n",
    "        else:\n",
    "            line_idx += 1\n",
    "\n",
    "    docs.append((doc_id, title, abstract))\n",
    "\n",
    "    p_docs = []\n",
    "    for (did, t, a) in docs:\n",
    "        if a is None:\n",
    "            a = \"\"\n",
    "        p_docs.append((did, t + \"\\n\" + a))\n",
    "    return p_docs"
   ]
  },
  {
   "cell_type": "code",
   "execution_count": 6,
   "metadata": {
    "cell_id": "00012-13ff3a4b-46f3-4ca8-bc11-8b0c7a9e7c37",
    "deepnote_cell_height": 243,
    "deepnote_cell_type": "code",
    "deepnote_to_be_reexecuted": false,
    "deletable": false,
    "editable": false,
    "execution_millis": 278,
    "execution_start": 1645186528614,
    "nbgrader": {
     "cell_type": "code",
     "checksum": "2f81930fcd89670b6e20e2255e1f2369",
     "grade": false,
     "grade_id": "cell-a1c43818e0d3fd79",
     "locked": true,
     "schema_version": 3,
     "solution": false,
     "task": false
    },
    "source_hash": "2097c72a"
   },
   "outputs": [],
   "source": [
    "##### Function check\n",
    "docs = read_cacm_docs()\n",
    "\n",
    "assert isinstance(docs, list)\n",
    "assert len(docs) == 3204, \"There should be exactly 3204 documents\"\n",
    "\n",
    "unzipped_docs = list(zip(*docs))\n",
    "assert np.sum(np.array(list(map(int, unzipped_docs[0])))) == 5134410\n",
    "\n",
    "#####"
   ]
  },
  {
   "cell_type": "markdown",
   "metadata": {
    "cell_id": "00013-1ff4fce0-2fe6-4b49-b16d-b5c203b29a47",
    "deepnote_cell_height": 102,
    "deepnote_cell_type": "markdown",
    "deletable": false,
    "editable": false,
    "nbgrader": {
     "cell_type": "markdown",
     "checksum": "25fd3cfaf2137c56002b850699b3c9d3",
     "grade": false,
     "grade_id": "cell-5ed2ddc91f73c60e",
     "locked": true,
     "schema_version": 3,
     "solution": false,
     "task": false
    }
   },
   "source": [
    "---\n",
    "### 1.2 Read the CACM queries\n",
    "\n",
    "Next, let us read the queries. They are formatted similarly:"
   ]
  },
  {
   "cell_type": "code",
   "execution_count": 7,
   "metadata": {
    "cell_id": "00014-0bdc1ebf-91a6-4e65-8ced-22256899c96d",
    "deepnote_cell_height": 484.8125,
    "deepnote_cell_type": "code",
    "deepnote_to_be_reexecuted": false,
    "deletable": false,
    "editable": false,
    "execution_millis": 705,
    "execution_start": 1645186528932,
    "nbgrader": {
     "cell_type": "code",
     "checksum": "5d26c0908e758acb9968b84056b1060a",
     "grade": false,
     "grade_id": "cell-5c7e8e7c4fc2757f",
     "locked": true,
     "schema_version": 3,
     "solution": false,
     "task": false
    },
    "source_hash": "77367602"
   },
   "outputs": [
    {
     "name": "stdout",
     "output_type": "stream",
     "text": [
      ".I 1\n",
      ".W\n",
      " What articles exist which deal with TSS (Time Sharing System), an\n",
      "operating system for IBM computers?\n",
      ".N\n",
      " 1. Richard Alexander, Comp Serv, Langmuir Lab (TSS)\n",
      " \n",
      ".I 2\n",
      ".W\n",
      " I am interested in articles written either by Prieve or Udo Pooch\n",
      ".A\n",
      "Prieve, B.\n",
      "Pooch, U.\n",
      ".N\n",
      " 2. Richard Alexander, Comp Serv, Langmuir Lab (author = Pooch or Prieve)\n"
     ]
    }
   ],
   "source": [
    "##### The first 15 lines of 'query.text' has 2 queries\n",
    "# We are interested only in 2 fields.\n",
    "# 1. the '.I' - the query id\n",
    "# 2. the '.W' - the query\n",
    "!head -15 ./datasets/query.text\n",
    "#####"
   ]
  },
  {
   "cell_type": "markdown",
   "metadata": {
    "cell_id": "00015-eceaa8fc-26fc-4d4d-b03e-7eb44f7e89f3",
    "deepnote_cell_height": 73,
    "deepnote_cell_type": "markdown",
    "deletable": false,
    "editable": false,
    "nbgrader": {
     "cell_type": "markdown",
     "checksum": "8f19f311a660f30e3f86cb0f7037d54a",
     "grade": false,
     "grade_id": "cell-88e293507d2dcef6",
     "locked": true,
     "schema_version": 3,
     "solution": false,
     "task": false
    }
   },
   "source": [
    "---\n",
    "\n",
    "The following function reads the `query.text` file:"
   ]
  },
  {
   "cell_type": "code",
   "execution_count": 8,
   "metadata": {
    "cell_id": "00016-2445d62c-60c0-4d48-a540-37dbb0d76726",
    "deepnote_cell_height": 711,
    "deepnote_cell_type": "code",
    "deepnote_to_be_reexecuted": false,
    "deletable": false,
    "editable": false,
    "execution_millis": 26,
    "execution_start": 1645186529390,
    "nbgrader": {
     "cell_type": "code",
     "checksum": "e3fbb193211007672849487f5cff1664",
     "grade": false,
     "grade_id": "cell-433e3ad5d0e2572a",
     "locked": true,
     "schema_version": 3,
     "solution": false,
     "task": false
    },
    "source_hash": "2d5784f8"
   },
   "outputs": [],
   "source": [
    "def read_queries(root_folder=\"./datasets/\"):\n",
    "    \"\"\"\n",
    "    Reads in the CACM queries. The dataset is assumed to be in the folder \"./datasets/\" by default\n",
    "    Returns: A list of 2-tuples: (query_id, query)\n",
    "    \"\"\"\n",
    "    with open(os.path.join(root_folder, \"query.text\")) as reader:\n",
    "        lines = reader.readlines()\n",
    "\n",
    "    query_id, query = None, None\n",
    "\n",
    "    queries = []\n",
    "    line_idx = 0\n",
    "    while line_idx < len(lines):\n",
    "        line = lines[line_idx]\n",
    "        if line.startswith(\".I\"):\n",
    "            if query_id is not None:\n",
    "                queries.append((query_id, query))\n",
    "                query_id, query = None, None\n",
    "\n",
    "            query_id = line.split()[-1]\n",
    "            line_idx += 1\n",
    "        elif line.startswith(\".W\"):\n",
    "            # start at next line\n",
    "            line_idx += 1\n",
    "            temp_lines = []\n",
    "            # read till next '.'\n",
    "            while not lines[line_idx].startswith(\".\"):\n",
    "                temp_lines.append(lines[line_idx].strip(\"\\n\"))\n",
    "                line_idx += 1\n",
    "            query = \"\\n\".join(temp_lines).strip(\"\\n\")\n",
    "        else:\n",
    "            line_idx += 1\n",
    "\n",
    "    queries.append((query_id, query))\n",
    "    return queries"
   ]
  },
  {
   "cell_type": "code",
   "execution_count": 9,
   "metadata": {
    "cell_id": "00017-dc95abe6-036f-4502-89fe-db249a8bbfc4",
    "deepnote_cell_height": 243,
    "deepnote_cell_type": "code",
    "deepnote_to_be_reexecuted": false,
    "deletable": false,
    "editable": false,
    "execution_millis": 12,
    "execution_start": 1645186529424,
    "nbgrader": {
     "cell_type": "code",
     "checksum": "a897b9771b54f447be3418d7246fc4a0",
     "grade": false,
     "grade_id": "cell-6ec540abce66c598",
     "locked": true,
     "schema_version": 3,
     "solution": false,
     "task": false
    },
    "source_hash": "1e048f3c"
   },
   "outputs": [],
   "source": [
    "##### Function check\n",
    "queries = read_queries()\n",
    "\n",
    "assert isinstance(queries, list)\n",
    "assert len(queries) == 64 and all(\n",
    "    [q[1] is not None for q in queries]\n",
    "), \"There should be exactly 64 queries\"\n",
    "\n",
    "unzipped_queries = list(zip(*queries))\n",
    "assert np.sum(np.array(list(map(int, unzipped_queries[0])))) == 2080\n",
    "\n",
    "#####"
   ]
  },
  {
   "cell_type": "markdown",
   "metadata": {
    "cell_id": "00018-9cf3ea3e-f138-4fe8-b91b-c92620441832",
    "deepnote_cell_height": 101.390625,
    "deepnote_cell_type": "markdown",
    "deletable": false,
    "editable": false,
    "nbgrader": {
     "cell_type": "markdown",
     "checksum": "a300c41912ac63b239070b4c15c9f5c5",
     "grade": false,
     "grade_id": "cell-1c31569491d7b782",
     "locked": true,
     "schema_version": 3,
     "solution": false,
     "task": false
    }
   },
   "source": [
    "---\n",
    "### 1.3 Read the stop words\n",
    "\n",
    "We use the common words stored in `common_words`:"
   ]
  },
  {
   "cell_type": "code",
   "execution_count": 10,
   "metadata": {
    "cell_id": "00019-4761ff11-d8b4-4f7b-acbf-6d600cfb2ae6",
    "deepnote_cell_height": 329.875,
    "deepnote_cell_type": "code",
    "deepnote_to_be_reexecuted": false,
    "deletable": false,
    "editable": false,
    "execution_millis": 507,
    "execution_start": 1645186529451,
    "nbgrader": {
     "cell_type": "code",
     "checksum": "1ad6f5bae6a792504c1c8513ae5751ad",
     "grade": false,
     "grade_id": "cell-34bdb63461418a96",
     "locked": true,
     "schema_version": 3,
     "solution": false,
     "task": false
    },
    "source_hash": "dcdd806"
   },
   "outputs": [
    {
     "name": "stdout",
     "output_type": "stream",
     "text": [
      "a\n",
      "about\n",
      "above\n",
      "accordingly\n",
      "across\n",
      "after\n",
      "afterwards\n",
      "again\n",
      "against\n",
      "all\n"
     ]
    }
   ],
   "source": [
    "##### Read the stop words file\n",
    "!head ./datasets/common_words\n",
    "##### Read the README file"
   ]
  },
  {
   "cell_type": "markdown",
   "metadata": {
    "cell_id": "00020-069760f9-d798-4ad6-acfa-e7454a3c3a46",
    "deepnote_cell_height": 73,
    "deepnote_cell_type": "markdown",
    "deletable": false,
    "editable": false,
    "nbgrader": {
     "cell_type": "markdown",
     "checksum": "6d0fe612e770213b6397c2179b07a966",
     "grade": false,
     "grade_id": "cell-4744bde0338895d8",
     "locked": true,
     "schema_version": 3,
     "solution": false,
     "task": false
    }
   },
   "source": [
    "---\n",
    "\n",
    "The following function reads the `common_words` file (For better coverage, we try to keep them in lowercase):"
   ]
  },
  {
   "cell_type": "code",
   "execution_count": 11,
   "metadata": {
    "cell_id": "00021-51bc2922-72bf-4550-a4fb-c1867fa0e652",
    "deepnote_cell_height": 243,
    "deepnote_cell_type": "code",
    "deepnote_to_be_reexecuted": false,
    "deletable": false,
    "editable": false,
    "execution_millis": 9,
    "execution_start": 1645186529974,
    "nbgrader": {
     "cell_type": "code",
     "checksum": "9409713fd26eb0c33587e190638997c4",
     "grade": false,
     "grade_id": "cell-7357aa40f64e5bcb",
     "locked": true,
     "schema_version": 3,
     "solution": false,
     "task": false
    },
    "source_hash": "51ba1eb9"
   },
   "outputs": [],
   "source": [
    "def load_stopwords(root_folder=\"./datasets/\"):\n",
    "    \"\"\"\n",
    "    Loads the stopwords. The dataset is assumed to be in the folder \"./datasets/\" by default\n",
    "    Output: A set of stopwords\n",
    "    \"\"\"\n",
    "    with open(os.path.join(root_folder, \"common_words\")) as reader:\n",
    "        lines = reader.readlines()\n",
    "    stopwords = set([l.strip().lower() for l in lines])\n",
    "    return stopwords"
   ]
  },
  {
   "cell_type": "code",
   "execution_count": 12,
   "metadata": {
    "cell_id": "00022-dda7ebba-cd50-496a-94a3-6c8873e6ba02",
    "deepnote_cell_height": 243,
    "deepnote_cell_type": "code",
    "deepnote_to_be_reexecuted": false,
    "deletable": false,
    "editable": false,
    "execution_millis": 13,
    "execution_start": 1645186529993,
    "lines_to_next_cell": 2,
    "nbgrader": {
     "cell_type": "code",
     "checksum": "f1c8153c3c38133bc2db6e7b076ad470",
     "grade": false,
     "grade_id": "cell-2ca3ac162004de97",
     "locked": true,
     "schema_version": 3,
     "solution": false,
     "task": false
    },
    "source_hash": "9447931d"
   },
   "outputs": [],
   "source": [
    "##### Function check\n",
    "stopwords = load_stopwords()\n",
    "\n",
    "assert isinstance(stopwords, set)\n",
    "assert len(stopwords) == 428, \"There should be exactly 428 stop words\"\n",
    "\n",
    "assert np.sum(np.array(list(map(len, stopwords)))) == 2234\n",
    "\n",
    "#####"
   ]
  },
  {
   "cell_type": "markdown",
   "metadata": {
    "cell_id": "00023-02a21236-0c4b-4910-9573-63f1698beaf3",
    "deepnote_cell_height": 145,
    "deepnote_cell_type": "markdown",
    "deletable": false,
    "editable": false,
    "nbgrader": {
     "cell_type": "markdown",
     "checksum": "92c1191e9e7291dcf0d70dc67b907a65",
     "grade": false,
     "grade_id": "cell-134b72872f4300cb",
     "locked": true,
     "schema_version": 3,
     "solution": false,
     "task": false
    }
   },
   "source": [
    "---\n",
    "### 1.4 Tokenization (3 points)\n",
    "\n",
    "We can now write some basic text processing functions.\n",
    "A first step is to tokenize the text.\n",
    "\n",
    "**Note**: Use the  `WordPunctTokenizer` available in the `nltk` library:"
   ]
  },
  {
   "cell_type": "code",
   "execution_count": 13,
   "metadata": {
    "cell_id": "00024-20a3377b-ad24-430a-82d5-e091938ed1fd",
    "deepnote_cell_height": 261,
    "deepnote_cell_type": "code",
    "deepnote_to_be_reexecuted": false,
    "deletable": false,
    "execution_millis": 11,
    "execution_start": 1645186530014,
    "nbgrader": {
     "cell_type": "code",
     "checksum": "3f5564d3c75bf22fbf832b3a9b938f37",
     "grade": false,
     "grade_id": "cell-322be4c9499bdc4b",
     "locked": false,
     "schema_version": 3,
     "solution": true,
     "task": false
    },
    "source_hash": "bd78cb4e"
   },
   "outputs": [],
   "source": [
    "# TODO: Implement this! (4 points)\n",
    "def tokenize(text):\n",
    "    \"\"\"\n",
    "    Tokenizes the input text. Use the WordPunctTokenizer\n",
    "    Input: text - a string\n",
    "    Output: a list of tokens\n",
    "    \"\"\"\n",
    "    # YOUR CODE HERE\n",
    "\n",
    "    tk = nltk.WordPunctTokenizer()\n",
    "    return tk.tokenize(text)"
   ]
  },
  {
   "cell_type": "code",
   "execution_count": 14,
   "metadata": {
    "cell_id": "00025-0c49633e-d8dd-4c28-ac8d-9576e19b544d",
    "deepnote_cell_height": 274.1875,
    "deepnote_cell_type": "code",
    "deepnote_to_be_reexecuted": false,
    "deletable": false,
    "editable": false,
    "execution_millis": 54,
    "execution_start": 1645186530041,
    "nbgrader": {
     "cell_type": "code",
     "checksum": "e15af22c4d8ae0a3f9dac43bef7097ec",
     "grade": true,
     "grade_id": "cell-7fbf48bf7541a622",
     "locked": true,
     "points": 3,
     "schema_version": 3,
     "solution": false,
     "task": false
    },
    "source_hash": "f61c33ef"
   },
   "outputs": [
    {
     "name": "stdout",
     "output_type": "stream",
     "text": [
      "['the', 'quick', 'brown', 'fox', 'jumps', 'over', 'the', 'lazy', 'dog']\n"
     ]
    }
   ],
   "source": [
    "##### Function check\n",
    "text = \"the quick brown fox jumps over the lazy dog\"\n",
    "tokens = tokenize(text)\n",
    "\n",
    "assert isinstance(tokens, list)\n",
    "assert len(tokens) == 9\n",
    "\n",
    "print(tokens)\n",
    "# output: ['the', 'quick', 'brown', 'fox', 'jumps', 'over', 'the', 'lazy', 'dog']\n",
    "#####"
   ]
  },
  {
   "cell_type": "markdown",
   "metadata": {
    "cell_id": "00026-a6caa299-880e-4184-b7bd-5732cfcf3e9c",
    "deepnote_cell_height": 109,
    "deepnote_cell_type": "markdown",
    "deletable": false,
    "editable": false,
    "nbgrader": {
     "cell_type": "markdown",
     "checksum": "34210618bff4cb47aad2f03cb4b9854c",
     "grade": false,
     "grade_id": "cell-fd1b98ae61b697ca",
     "locked": true,
     "schema_version": 3,
     "solution": false,
     "task": false
    }
   },
   "source": [
    "---\n",
    "### 1.5 Stemming (2 points)\n",
    "\n",
    "Write a function to stem tokens.\n",
    "Again, you can use the nltk library for this:"
   ]
  },
  {
   "cell_type": "code",
   "execution_count": 15,
   "metadata": {
    "cell_id": "00027-57678786-6fcf-4e83-b285-1e3a44cb6ecb",
    "deepnote_cell_height": 225,
    "deepnote_cell_type": "code",
    "deepnote_to_be_reexecuted": false,
    "deletable": false,
    "execution_millis": 0,
    "execution_start": 1645186530093,
    "nbgrader": {
     "cell_type": "code",
     "checksum": "1c4a6aa979d66158c7b6b992af43293a",
     "grade": false,
     "grade_id": "cell-e3f6c8e3f874b28d",
     "locked": false,
     "schema_version": 3,
     "solution": true,
     "task": false
    },
    "source_hash": "e2a034fd"
   },
   "outputs": [],
   "source": [
    "# TODO: Implement this! (3 points)\n",
    "def stem_token(token):\n",
    "    \"\"\"\n",
    "    Stems the given token using the PorterStemmer from the nltk library\n",
    "    Input: a single token\n",
    "    Output: the stem of the token\n",
    "    \"\"\"\n",
    "    stemmer = nltk.stem.PorterStemmer()\n",
    "    return stemmer.stem(token)"
   ]
  },
  {
   "cell_type": "code",
   "execution_count": 16,
   "metadata": {
    "cell_id": "00028-4d95bdd0-4345-4198-aa73-21d2d2ec2b85",
    "deepnote_cell_height": 153,
    "deepnote_cell_type": "code",
    "deepnote_to_be_reexecuted": false,
    "deletable": false,
    "editable": false,
    "execution_millis": 0,
    "execution_start": 1645186530094,
    "nbgrader": {
     "cell_type": "code",
     "checksum": "9363b4f09b556d424d9c895d4ab57b1c",
     "grade": true,
     "grade_id": "cell-cd6863e6ee6ed205",
     "locked": true,
     "points": 2,
     "schema_version": 3,
     "solution": false,
     "task": false
    },
    "source_hash": "3fc993b6"
   },
   "outputs": [],
   "source": [
    "##### Function check\n",
    "\n",
    "assert stem_token(\"owned\") == \"own\"\n",
    "assert stem_token(\"itemization\") == \"item\"\n",
    "#####"
   ]
  },
  {
   "cell_type": "markdown",
   "metadata": {
    "cell_id": "00029-e536d93c-8362-48e7-bfc2-906702746aef",
    "deepnote_cell_height": 123.796875,
    "deepnote_cell_type": "markdown",
    "deletable": false,
    "editable": false,
    "nbgrader": {
     "cell_type": "markdown",
     "checksum": "0b311d014146da6afa1d39542fab9869",
     "grade": false,
     "grade_id": "cell-47c9f90498699110",
     "locked": true,
     "schema_version": 3,
     "solution": false,
     "task": false
    }
   },
   "source": [
    "---\n",
    "### 1.6 Summary\n",
    "\n",
    "The following function puts it all together. Given an input string, this functions tokenizes and processes it according to the flags that you set."
   ]
  },
  {
   "cell_type": "code",
   "execution_count": 17,
   "metadata": {
    "cell_id": "00030-31b7404f-596c-4622-9100-0bc4ab089ea7",
    "deepnote_cell_height": 333,
    "deepnote_cell_type": "code",
    "deepnote_to_be_reexecuted": false,
    "deletable": false,
    "editable": false,
    "execution_millis": 0,
    "execution_start": 1645186530137,
    "lines_to_next_cell": 2,
    "nbgrader": {
     "cell_type": "code",
     "checksum": "2ff2d215ee8e0039c5a91fd3de12e6bd",
     "grade": false,
     "grade_id": "cell-dd0d3f46b30801da",
     "locked": true,
     "schema_version": 3,
     "solution": false,
     "task": false
    },
    "source_hash": "c4811d1d"
   },
   "outputs": [],
   "source": [
    "#### Putting it all together\n",
    "def process_text(text, stem=False, remove_stopwords=False, lowercase_text=False):\n",
    "\n",
    "    tokens = []\n",
    "    for token in tokenize(text):\n",
    "        if remove_stopwords and token.lower() in stopwords:\n",
    "            continue\n",
    "        if stem:\n",
    "            token = stem_token(token)\n",
    "        if lowercase_text:\n",
    "            token = token.lower()\n",
    "        tokens.append(token)\n",
    "\n",
    "    return tokens\n",
    "\n",
    "\n",
    "####"
   ]
  },
  {
   "cell_type": "markdown",
   "metadata": {
    "cell_id": "00031-9539610f-160b-4b6d-a351-9bd434d6c9ea",
    "deepnote_cell_height": 91,
    "deepnote_cell_type": "markdown",
    "deletable": false,
    "editable": false,
    "nbgrader": {
     "cell_type": "markdown",
     "checksum": "02d433b18eb43654fa4306a7bf55b190",
     "grade": false,
     "grade_id": "cell-8d885bfd2edd43ae",
     "locked": true,
     "schema_version": 3,
     "solution": false,
     "task": false
    }
   },
   "source": [
    "---\n",
    "\n",
    "Let's create two sets of preprocessed documents.\n",
    "We can process the documents and queries according to these two configurations:"
   ]
  },
  {
   "cell_type": "code",
   "execution_count": 18,
   "metadata": {
    "cell_id": "00032-c5510010-2967-4ace-b12f-1e9e8118e3b4",
    "deepnote_cell_height": 513,
    "deepnote_cell_type": "code",
    "deepnote_to_be_reexecuted": false,
    "deletable": false,
    "editable": false,
    "execution_millis": 7882,
    "execution_start": 1645186530149,
    "nbgrader": {
     "cell_type": "code",
     "checksum": "dbe4ca667be6842fdcf512fbcad50c7f",
     "grade": false,
     "grade_id": "cell-d427365ee0fb21d8",
     "locked": true,
     "schema_version": 3,
     "solution": false,
     "task": false
    },
    "source_hash": "f953b790"
   },
   "outputs": [],
   "source": [
    "# In this configuration:\n",
    "# Don't preprocess the text, except to tokenize\n",
    "config_1 = {\"stem\": False, \"remove_stopwords\": False, \"lowercase_text\": True}\n",
    "\n",
    "\n",
    "# In this configuration:\n",
    "# Preprocess the text, stem and remove stopwords\n",
    "config_2 = {\n",
    "    \"stem\": True,\n",
    "    \"remove_stopwords\": True,\n",
    "    \"lowercase_text\": True,\n",
    "}\n",
    "\n",
    "####\n",
    "doc_repr_1 = []\n",
    "doc_repr_2 = []\n",
    "for (doc_id, document) in docs:\n",
    "    doc_repr_1.append((doc_id, process_text(document, **config_1)))\n",
    "    doc_repr_2.append((doc_id, process_text(document, **config_2)))\n",
    "\n",
    "####"
   ]
  },
  {
   "cell_type": "markdown",
   "metadata": {
    "cell_id": "00033-f33e20e5-c218-4e92-9c23-845b4e42997e",
    "deepnote_cell_height": 415,
    "deepnote_cell_type": "markdown",
    "deletable": false,
    "editable": false,
    "nbgrader": {
     "cell_type": "markdown",
     "checksum": "b60589aac19e80941d860d9b3f1e9a16",
     "grade": false,
     "grade_id": "cell-b1c102db61ae7495",
     "locked": true,
     "schema_version": 3,
     "solution": false,
     "task": false
    }
   },
   "source": [
    "---\n",
    "\n",
    "## Section 2: Indexing (10 points)<a class=\"anchor\" id=\"indexing\"></a>\n",
    "\n",
    "[Back to Part 1](#part1)\n",
    "\n",
    "\n",
    "\n",
    "A retrieval function usually takes in a query document pair, and scores a query against a document.  Our document set is quite small - just a few thousand documents. However, consider a web-scale dataset with a few million documents. In such a scenario, it would become infeasible to score every query and document pair. In such a case, we can build an inverted index. From Wikipedia:\n",
    "\n",
    "> ... , an inverted index (also referred to as a postings file or inverted file) is a database index storing a mapping from content, such as words or numbers, to its locations in a table, .... The purpose of an inverted index is to allow fast full-text searches, at a cost of increased processing when a document is added to the database. ...\n",
    "\n",
    "\n",
    "Consider a simple inverted index, which maps from word to document. This can improve the performance of a retrieval system significantly. In this assignment, we consider a *simple* inverted index, which maps a word to a set of documents. In practice, however, more complex indices might be used.\n"
   ]
  },
  {
   "cell_type": "markdown",
   "metadata": {
    "cell_id": "00034-e0be6b84-2eca-463d-9411-0a876fee2070",
    "deepnote_cell_height": 181.59375,
    "deepnote_cell_type": "markdown",
    "deletable": false,
    "editable": false,
    "nbgrader": {
     "cell_type": "markdown",
     "checksum": "710fd943f45523ac36fcb887cc0d4d39",
     "grade": false,
     "grade_id": "cell-fa373192c1b7bb95",
     "locked": true,
     "schema_version": 3,
     "solution": false,
     "task": false
    }
   },
   "source": [
    "### 2.1 Term Frequency-index (10 points)\n",
    "In this assignment, we will be using an index created in memory since our dataset is tiny. To get started, build a simple index that maps each `token` to a list of `(doc_id, count)` where `count` is the count of the `token` in `doc_id`.\n",
    "For consistency, build this index using a python dictionary.\n",
    "\n",
    "Now, implement a function to build an index:"
   ]
  },
  {
   "cell_type": "code",
   "execution_count": 19,
   "metadata": {
    "cell_id": "00035-e27ae026-b063-450a-8cb5-6336175b5cb0",
    "deepnote_cell_height": 495,
    "deepnote_cell_type": "code",
    "deepnote_to_be_reexecuted": false,
    "deletable": false,
    "execution_millis": 8,
    "execution_start": 1645186538048,
    "nbgrader": {
     "cell_type": "code",
     "checksum": "d4e8c6b658c469379d5fe511de05b536",
     "grade": false,
     "grade_id": "cell-077599b87e953209",
     "locked": false,
     "schema_version": 3,
     "solution": true,
     "task": false
    },
    "source_hash": "b7da36f"
   },
   "outputs": [],
   "source": [
    "# need defaultdict to handle cases when queried word is missing from our documents\n",
    "# https://piazza.com/class/kyiksrdfk0b6te?cid=38\n",
    "# https://piazza.com/class/kyiksrdfk0b6te?cid=39\n",
    "from collections import defaultdict\n",
    "\n",
    "# TODO: Implement this! (10 points)\n",
    "def build_tf_index(documents):\n",
    "    \"\"\"\n",
    "    Build an inverted index (with counts).\n",
    "    The output is a dictionary which takes in a token and\n",
    "    returns a list of (doc_id, count)\n",
    "    where 'count' is the count of the 'token' in 'doc_id'\n",
    "\n",
    "    Input: a list of documents - (doc_id, tokens)\n",
    "    Output: An inverted index implemented within a pyhton dictionary:\n",
    "        [token] -> [(doc_id, token_count)]\n",
    "    \"\"\"\n",
    "    # YOUR CODE HERE\n",
    "    tf_index = defaultdict(list)\n",
    "    for doc_id, tokens in documents:\n",
    "        tokens_set = set(tokens)\n",
    "        for token in tokens_set:\n",
    "            tf_index[token].append((doc_id, tokens.count(token)))\n",
    "    return tf_index"
   ]
  },
  {
   "cell_type": "markdown",
   "metadata": {
    "cell_id": "00036-4124a1b7-00df-4a57-861c-2e9cd705ce17",
    "deepnote_cell_height": 55,
    "deepnote_cell_type": "markdown",
    "deletable": false,
    "editable": false,
    "nbgrader": {
     "cell_type": "markdown",
     "checksum": "15e7041b4323d2a290322de538ff7670",
     "grade": false,
     "grade_id": "cell-093aebfa504f96f2",
     "locked": true,
     "schema_version": 3,
     "solution": false,
     "task": false
    }
   },
   "source": [
    "---\n",
    "Now we can build indexed documents and preprocess the queries based on the two configurations:"
   ]
  },
  {
   "cell_type": "code",
   "execution_count": 20,
   "metadata": {
    "cell_id": "00037-db077994-3c24-4f9b-a642-d416e54c8d1e",
    "deepnote_cell_height": 531,
    "deepnote_cell_type": "code",
    "deepnote_to_be_reexecuted": false,
    "deletable": false,
    "editable": false,
    "execution_millis": 845,
    "execution_start": 1645186538116,
    "lines_to_next_cell": 2,
    "nbgrader": {
     "cell_type": "code",
     "checksum": "e27540c1d8d77a3779a05f557f3f40c6",
     "grade": false,
     "grade_id": "cell-b2ff1676348b90a8",
     "locked": true,
     "schema_version": 3,
     "solution": false,
     "task": false
    },
    "source_hash": "2d1fa9f3"
   },
   "outputs": [],
   "source": [
    "#### Indexed documents based on the two configs\n",
    "\n",
    "# Create the 2 indices\n",
    "tf_index_1 = build_tf_index(doc_repr_1)\n",
    "tf_index_2 = build_tf_index(doc_repr_2)\n",
    "\n",
    "# This function returns the tf_index of the corresponding config\n",
    "def get_index(index_set):\n",
    "    assert index_set in {1, 2}\n",
    "    return {1: tf_index_1, 2: tf_index_2}[index_set]\n",
    "\n",
    "\n",
    "####\n",
    "#### Preprocessed query based on the two configs\n",
    "\n",
    "# This function preprocesses the text given the index set, according to the specified config\n",
    "def preprocess_query(text, index_set):\n",
    "    assert index_set in {1, 2}\n",
    "    if index_set == 1:\n",
    "        return process_text(text, **config_1)\n",
    "    elif index_set == 2:\n",
    "        return process_text(text, **config_2)\n",
    "\n",
    "\n",
    "####"
   ]
  },
  {
   "cell_type": "code",
   "execution_count": 21,
   "metadata": {
    "cell_id": "00038-fb5a08f4-5f40-4923-a62b-02af9b853e1f",
    "deepnote_cell_height": 298.375,
    "deepnote_cell_type": "code",
    "deepnote_to_be_reexecuted": false,
    "deletable": false,
    "editable": false,
    "execution_millis": 11244305,
    "execution_start": 1645186538979,
    "nbgrader": {
     "cell_type": "code",
     "checksum": "f0cbc8703e1248cd6edf03f9019b69db",
     "grade": true,
     "grade_id": "cell-fc7c7232d5d2ee46",
     "locked": true,
     "points": 5,
     "schema_version": 3,
     "solution": false,
     "task": false
    },
    "source_hash": "2220f2b7"
   },
   "outputs": [
    {
     "name": "stdout",
     "output_type": "stream",
     "text": [
      "sample tf index for computer: [('4', 1), ('7', 1), ('10', 1), ('13', 1), ('19', 1), ('22', 1), ('23', 1), ('37', 1), ('40', 3), ('41', 1)]\n",
      "sample tf index for examples: [('111', 1), ('320', 1), ('644', 1), ('691', 1), ('727', 1), ('848', 1), ('892', 1), ('893', 1), ('1049', 1), ('1051', 1)]\n"
     ]
    }
   ],
   "source": [
    "##### Function check\n",
    "\n",
    "assert isinstance(tf_index_1, dict)\n",
    "\n",
    "assert isinstance(tf_index_1[\"computer\"], list)\n",
    "print(\"sample tf index for computer:\", tf_index_1[\"computer\"][:10])\n",
    "\n",
    "assert isinstance(tf_index_1[\"examples\"], list)\n",
    "print(\"sample tf index for examples:\", tf_index_1[\"examples\"][:10])\n",
    "####"
   ]
  },
  {
   "cell_type": "code",
   "execution_count": 22,
   "metadata": {
    "cell_id": "00039-0f63d80d-3d2c-4ed8-b1a3-ef57df6a812d",
    "deepnote_cell_height": 298.375,
    "deepnote_cell_type": "code",
    "deepnote_to_be_reexecuted": false,
    "deletable": false,
    "editable": false,
    "execution_millis": 11244324,
    "execution_start": 1645186539032,
    "nbgrader": {
     "cell_type": "code",
     "checksum": "d49b8ac36815d9a5cb4bed838ab53a50",
     "grade": true,
     "grade_id": "cell-ff06bd11204db250",
     "locked": true,
     "points": 5,
     "schema_version": 3,
     "solution": false,
     "task": false
    },
    "source_hash": "cfcc3871"
   },
   "outputs": [
    {
     "name": "stdout",
     "output_type": "stream",
     "text": [
      "sample tf index for computer: [('4', 1), ('7', 1), ('10', 1), ('13', 1), ('19', 1), ('22', 1), ('23', 1), ('37', 1), ('40', 3), ('41', 1)]\n",
      "sample tf index for examples: []\n"
     ]
    }
   ],
   "source": [
    "##### Function check\n",
    "\n",
    "assert isinstance(tf_index_2, dict)\n",
    "\n",
    "assert isinstance(tf_index_2[\"computer\"], list)\n",
    "print(\"sample tf index for computer:\", tf_index_1[\"computer\"][:10])\n",
    "\n",
    "assert isinstance(tf_index_2[\"examples\"], list)\n",
    "print(\"sample tf index for examples:\", tf_index_2[\"examples\"][:10])\n",
    "####"
   ]
  },
  {
   "cell_type": "markdown",
   "metadata": {
    "cell_id": "00040-06978f59-9c49-41bf-86fa-2ce4ff5666a1",
    "deepnote_cell_height": 493.59375,
    "deepnote_cell_type": "markdown",
    "deletable": false,
    "editable": false,
    "nbgrader": {
     "cell_type": "markdown",
     "checksum": "880b2ef3ca405f2af6e0667d2dc7a600",
     "grade": false,
     "grade_id": "cell-89eba71f04310291",
     "locked": true,
     "schema_version": 3,
     "solution": false,
     "task": false
    }
   },
   "source": [
    "\n",
    "---\n",
    "## Section 3: Ranking  (80 points) <a class=\"anchor\" id=\"ranking\"></a>\n",
    "\n",
    "[Back to Part 1](#part1)\n",
    "\n",
    "Now that we have cleaned and processed our dataset, we can start building simple IR systems.\n",
    "\n",
    "For now, we consider *simple* IR systems, which involve computing scores from the tokens present in the document/query. More advanced methods are covered in later assignments.\n",
    "\n",
    "We will implement the following methods in this section:\n",
    "- [Section 3.1: Bag of Words](#bow) (10 points)\n",
    "- [Section 3.2: TF-IDF](#tfidf) (15 points)\n",
    "- [Section 3.3: Query Likelihood Model](#qlm) (35 points)\n",
    "- [Section 3.4: BM25](#bm25) (20 points)\n",
    "\n",
    "*All search functions should be able to handle multiple words queries.*\n",
    "\n",
    "**Scoring policy:**\n",
    "Your implementations in this section are scored based on the expected performance of your ranking functions.\n",
    "You will get a full mark if your implementation meets the expected performance (measured by some evaluation metric).\n",
    "Otherwise, you may get partial credit.\n",
    "For example, if your *Bag of words* ranking function has 60% of expected performance, you will get 6 out of 10."
   ]
  },
  {
   "cell_type": "markdown",
   "metadata": {
    "cell_id": "00041-95b4f50b-25e3-4bfc-853e-458b38aa6f80",
    "deepnote_cell_height": 250.375,
    "deepnote_cell_type": "markdown",
    "deletable": false,
    "editable": false,
    "nbgrader": {
     "cell_type": "markdown",
     "checksum": "6c74e5061917358300c6e8085ec07864",
     "grade": false,
     "grade_id": "cell-3daf70a60e393adf",
     "locked": true,
     "schema_version": 3,
     "solution": false,
     "task": false
    }
   },
   "source": [
    "---\n",
    "\n",
    "### Section 3.1: Bag of Words (10 points)<a class=\"anchor\" id=\"bow\"></a>\n",
    "\n",
    "Probably the simplest IR model is the Bag of Words (BOW) model.\n",
    "Implement a function that scores and ranks all the documents against a query using this model.\n",
    "\n",
    "- For consistency, you should use the count of the token and **not** the binary indicator.\n",
    "- Use `float` type for the scores (even though the scores are integers in this case).\n",
    "- No normalization of the scores is necessary, as the ordering is what we are interested in.\n",
    "- If two documents have the same score, they can have any ordering: you are not required to disambiguate.\n"
   ]
  },
  {
   "cell_type": "code",
   "execution_count": 23,
   "metadata": {
    "cell_id": "00042-78747ee0-9c14-474c-ab83-0bb691fe4f4f",
    "deepnote_cell_height": 513,
    "deepnote_cell_type": "code",
    "deepnote_to_be_reexecuted": false,
    "deletable": false,
    "execution_millis": 11244305,
    "execution_start": 1645186539076,
    "nbgrader": {
     "cell_type": "code",
     "checksum": "fee4640e22bfc4f05eb958a675ef40e7",
     "grade": false,
     "grade_id": "cell-de9cf0459c4b9324",
     "locked": false,
     "schema_version": 3,
     "solution": true,
     "task": false
    },
    "source_hash": "15c8e32"
   },
   "outputs": [],
   "source": [
    "# TODO: Implement this! (10 points)\n",
    "def bow_search(query, index_set):\n",
    "    \"\"\"\n",
    "    Perform a search over all documents with the given query.\n",
    "    Note: You have to use the `get_index` function created in the previous cells\n",
    "    Input:\n",
    "        query - a (unprocessed) query\n",
    "        index_set - the index to use\n",
    "    Output: a list of (document_id, score),\n",
    "        sorted in descending relevance to the given query.\n",
    "    \"\"\"\n",
    "    index = get_index(index_set)\n",
    "    processed_query = preprocess_query(query, index_set)\n",
    "\n",
    "    # YOUR CODE HERE\n",
    "    # total count per document\n",
    "    documents = defaultdict(float)\n",
    "    for token in processed_query:\n",
    "        for document_id, token_count in index[token]:\n",
    "            # aggregate counts of this token across all documents\n",
    "            documents[document_id] += token_count\n",
    "    # convert documents to list and sort descending\n",
    "    documents = sorted(list(documents.items()), key=lambda x: x[1], reverse=True)\n",
    "    return documents"
   ]
  },
  {
   "cell_type": "code",
   "execution_count": 24,
   "metadata": {
    "cell_id": "00043-a779ed03-89a7-4a9b-8bf4-e356d3146ecd",
    "deepnote_cell_height": 225,
    "deepnote_cell_type": "code",
    "deepnote_to_be_reexecuted": false,
    "deletable": false,
    "editable": false,
    "execution_millis": 11244335,
    "execution_start": 1645186539129,
    "nbgrader": {
     "cell_type": "code",
     "checksum": "613524fbbf02b1d122c6611a71fbf11b",
     "grade": true,
     "grade_id": "cell-9f6aceae6dd9125f",
     "locked": true,
     "points": 2,
     "schema_version": 3,
     "solution": false,
     "task": false
    },
    "source_hash": "a4e9855b"
   },
   "outputs": [],
   "source": [
    "#### Function check\n",
    "\n",
    "test_bow = bow_search(\"how to implement bag of words search\", index_set=1)[:5]\n",
    "assert isinstance(test_bow, list)\n",
    "assert len(test_bow[0]) == 2\n",
    "assert isinstance(test_bow[0][0], str)\n",
    "assert isinstance(test_bow[0][1], float)\n",
    "\n",
    "####"
   ]
  },
  {
   "cell_type": "code",
   "execution_count": 25,
   "metadata": {
    "cell_id": "00044-8c0e39e0-03a8-42d9-88c0-9811823ca925",
    "deepnote_cell_height": 393.125,
    "deepnote_cell_type": "code",
    "deepnote_to_be_reexecuted": false,
    "deletable": false,
    "editable": false,
    "execution_millis": 11244410,
    "execution_start": 1645186539130,
    "lines_to_next_cell": 2,
    "nbgrader": {
     "cell_type": "code",
     "checksum": "9af20897659edb62fe77598483590500",
     "grade": true,
     "grade_id": "cell-4eed3abf233d9b58",
     "locked": true,
     "points": 2,
     "schema_version": 3,
     "solution": false,
     "task": false
    },
    "source_hash": "f3e133b9"
   },
   "outputs": [
    {
     "name": "stdout",
     "output_type": "stream",
     "text": [
      "BOW Results:\n",
      "Rank 0(1.3e+01): On Computing The Fast Fourier Transform\\nCooley an...\n",
      "Rank 1(1.2e+01): Variable Length Tree Structures Having Minimum Ave...\n",
      "Rank 2(1.1e+01): A Modular Computer Sharing System\\nAn alternative ...\n",
      "Rank 3(1e+01): PEEKABIT, Computer Offspring of Punched\\nCard PEEK...\n",
      "Rank 4(9.0): Computer Simulation-Discussion of the\\nTechnique a...\n"
     ]
    }
   ],
   "source": [
    "docs_by_id = dict(docs)\n",
    "\n",
    "\n",
    "def print_results(docs, len_limit=50):\n",
    "    for i, (doc_id, score) in enumerate(docs):\n",
    "        doc_content = (\n",
    "            docs_by_id[doc_id].strip().replace(\"\\n\", \"\\\\n\")[:len_limit] + \"...\"\n",
    "        )\n",
    "        print(f\"Rank {i}({score:.2}): {doc_content}\")\n",
    "\n",
    "\n",
    "test_bow_2 = bow_search(\"computer search word\", index_set=2)[:5]\n",
    "print(f\"BOW Results:\")\n",
    "print_results(test_bow_2)"
   ]
  },
  {
   "cell_type": "code",
   "execution_count": 26,
   "metadata": {
    "cell_id": "00045-c576132c-ae55-4ef4-bf93-365a98921a28",
    "deepnote_cell_height": 285.125,
    "deepnote_cell_type": "code",
    "deepnote_to_be_reexecuted": false,
    "deletable": false,
    "editable": false,
    "execution_millis": 2,
    "execution_start": 1645186539173,
    "lines_to_next_cell": 2,
    "nbgrader": {
     "cell_type": "code",
     "checksum": "3c9c8b16c8e7d1032f101e9da8a6e845",
     "grade": true,
     "grade_id": "cell-4d65a2d7090c466c",
     "locked": true,
     "points": 3,
     "schema_version": 3,
     "solution": false,
     "task": false
    },
    "source_hash": "76a29ddf"
   },
   "outputs": [
    {
     "name": "stdout",
     "output_type": "stream",
     "text": [
      "BOW Results:\n",
      "Rank 0(9.0): CURRICULUM 68 -- Recommendations for Academic\\nPro...\n",
      "Rank 1(9.0): Variable Length Tree Structures Having Minimum Ave...\n",
      "Rank 2(7.0): Computer Formulation of the Equations of Motion Us...\n",
      "Rank 3(7.0): The Effects of Multiplexing on a Computer-Communic...\n",
      "Rank 4(6.0): Optimizing Bit-time Computer Simulation\\nA major c...\n"
     ]
    }
   ],
   "source": [
    "test_bow_1 = bow_search(\"computer search word\", index_set=1)[:5]\n",
    "print(f\"BOW Results:\")\n",
    "print_results(test_bow_1)"
   ]
  },
  {
   "cell_type": "code",
   "execution_count": 27,
   "metadata": {
    "cell_id": "00046-5b571ae5-b918-4fbb-ad83-5d5d6669c906",
    "deepnote_cell_height": 168.375,
    "deepnote_cell_type": "code",
    "deepnote_to_be_reexecuted": false,
    "deletable": false,
    "editable": false,
    "execution_millis": 2,
    "execution_start": 1645186539174,
    "nbgrader": {
     "cell_type": "code",
     "checksum": "b7e593847aa4202ae45ec061fb18ad73",
     "grade": true,
     "grade_id": "cell-dedf36ab5853ce20",
     "locked": true,
     "points": 3,
     "schema_version": 3,
     "solution": false,
     "task": false
    },
    "source_hash": "b05098cf"
   },
   "outputs": [
    {
     "name": "stdout",
     "output_type": "stream",
     "text": [
      "top-5 docs for index1: ('1771', '1936', '1543', '2535', '678')\n",
      "top-5 docs for index2: ('1525', '1936', '1844', '1700', '1366')\n"
     ]
    }
   ],
   "source": [
    "print(\"top-5 docs for index1:\", list(zip(*test_bow_1[:5]))[0])\n",
    "print(\"top-5 docs for index2:\", list(zip(*test_bow_2[:5]))[0])"
   ]
  },
  {
   "cell_type": "markdown",
   "metadata": {
    "cell_id": "00047-9898438b-a142-41ea-936e-02202738220e",
    "deepnote_cell_height": 235,
    "deepnote_cell_type": "markdown",
    "deletable": false,
    "editable": false,
    "nbgrader": {
     "cell_type": "markdown",
     "checksum": "b04352ee0716dfdf094b8cdb6f32e984",
     "grade": false,
     "grade_id": "cell-a5c09c79ac1f2871",
     "locked": true,
     "schema_version": 3,
     "solution": false,
     "task": false
    }
   },
   "source": [
    "\n",
    "---\n",
    "\n",
    "### Section 3.2: TF-IDF (15 points) <a class=\"anchor\" id=\"tfidf\"></a>\n",
    "\n",
    "Before we implement the tf-idf scoring functions, let's first write a function to compute the document frequencies of all words.\n",
    "\n",
    "#### 3.2.1 Document frequency (5 points)\n",
    "Compute the document frequencies of all tokens in the collection.\n",
    "Your code should return a dictionary with tokens as its keys and the number of documents containing the token as values.\n",
    "For consistency, the values should have `int` type."
   ]
  },
  {
   "cell_type": "code",
   "execution_count": 28,
   "metadata": {
    "cell_id": "00048-7d15cfba-6fc3-46f2-8fc4-e2ea33b6f8ab",
    "deepnote_cell_height": 333,
    "deepnote_cell_type": "code",
    "deepnote_to_be_reexecuted": false,
    "deletable": false,
    "execution_millis": 11244452,
    "execution_start": 1645186539217,
    "nbgrader": {
     "cell_type": "code",
     "checksum": "5c53263cf4c0b0ffcaae08b91fc364cc",
     "grade": false,
     "grade_id": "cell-9a2369f32e864b8a",
     "locked": false,
     "schema_version": 3,
     "solution": true,
     "task": false
    },
    "source_hash": "da17c69a"
   },
   "outputs": [],
   "source": [
    "# TODO: Implement this! (5 points)\n",
    "def compute_df(documents):\n",
    "    \"\"\"\n",
    "    Compute the document frequency of all terms in the vocabulary\n",
    "    Input: A list of documents\n",
    "    Output: A dictionary with {token: document frequency (int)}\n",
    "    \"\"\"\n",
    "    # YOUR CODE HERE\n",
    "    df_dict = defaultdict(int)\n",
    "    for document in documents:\n",
    "        # we only count a token once per document, so work on the set of unique doc tokens\n",
    "        unique_doc_tokens = set(document)\n",
    "        for token in unique_doc_tokens:\n",
    "            df_dict[token] += 1\n",
    "    return df_dict"
   ]
  },
  {
   "cell_type": "code",
   "execution_count": 29,
   "metadata": {
    "cell_id": "00049-d09fb33d-2d8c-4b8b-aab7-f458f87425f7",
    "deepnote_cell_height": 297,
    "deepnote_cell_type": "code",
    "deepnote_to_be_reexecuted": false,
    "deletable": false,
    "editable": false,
    "execution_millis": 94,
    "execution_start": 1645186539218,
    "lines_to_next_cell": 2,
    "nbgrader": {
     "cell_type": "code",
     "checksum": "154985511d7925c5793a1f97dea81880",
     "grade": false,
     "grade_id": "cell-4c3bddd0b73ac90e",
     "locked": true,
     "schema_version": 3,
     "solution": false,
     "task": false
    },
    "source_hash": "46458dbe"
   },
   "outputs": [],
   "source": [
    "#### Compute df based on the two configs\n",
    "\n",
    "# get the document frequencies of each document\n",
    "df_1 = compute_df([d[1] for d in doc_repr_1])\n",
    "df_2 = compute_df([d[1] for d in doc_repr_2])\n",
    "\n",
    "\n",
    "def get_df(index_set):\n",
    "    assert index_set in {1, 2}\n",
    "    return {1: df_1, 2: df_2}[index_set]\n",
    "\n",
    "\n",
    "####"
   ]
  },
  {
   "cell_type": "code",
   "execution_count": 30,
   "metadata": {
    "cell_id": "00050-0d714f0a-0f10-4e51-be4f-9dc1c0905ca9",
    "deepnote_cell_height": 204.375,
    "deepnote_cell_type": "code",
    "deepnote_to_be_reexecuted": false,
    "deletable": false,
    "editable": false,
    "execution_millis": 422,
    "execution_start": 1645186539327,
    "nbgrader": {
     "cell_type": "code",
     "checksum": "110cc180068cf3f77c682ee3de2a117c",
     "grade": true,
     "grade_id": "cell-79e8a6db1e5fc46f",
     "locked": true,
     "points": 5,
     "schema_version": 3,
     "solution": false,
     "task": false
    },
    "source_hash": "43b9edf4"
   },
   "outputs": [
    {
     "name": "stdout",
     "output_type": "stream",
     "text": [
      "597\n",
      "11\n"
     ]
    }
   ],
   "source": [
    "#### Function check\n",
    "\n",
    "print(df_1[\"computer\"])\n",
    "print(df_2[\"computer\"])\n",
    "####"
   ]
  },
  {
   "cell_type": "markdown",
   "metadata": {
    "cell_id": "00051-7d6233d2-d8c7-4fc4-8207-4bedbd2085af",
    "deepnote_cell_height": 271,
    "deepnote_cell_type": "markdown",
    "deletable": false,
    "editable": false,
    "nbgrader": {
     "cell_type": "markdown",
     "checksum": "d0d577668fa51b80aeab6e67209ae73b",
     "grade": false,
     "grade_id": "cell-52f6acc487e1b96d",
     "locked": true,
     "schema_version": 3,
     "solution": false,
     "task": false
    }
   },
   "source": [
    "---\n",
    "#### 3.2.2 TF-IDF search (10 points)\n",
    "Next, implement a function that computes a tf-idf score, given a query.\n",
    "Use the following formulas for TF and IDF:\n",
    "\n",
    "$$ TF=\\log (1 + f_{d,t}) $$\n",
    "\n",
    "$$ IDF=\\log (\\frac{N}{n_t})$$\n",
    "\n",
    "where $f_{d,t}$ is the frequency of token $t$ in document $d$, $N$ is the number of total documents and $n_t$ is the number of documents containing token $t$.\n",
    "\n",
    "**Note:** your implementation will be auto-graded assuming you have used the above formulas.\n"
   ]
  },
  {
   "cell_type": "code",
   "execution_count": 31,
   "metadata": {
    "cell_id": "00052-d1b23bf4-b5f4-4a82-8df2-d8772e42b73a",
    "deepnote_cell_height": 567,
    "deepnote_cell_type": "code",
    "deepnote_to_be_reexecuted": false,
    "deletable": false,
    "execution_millis": 20,
    "execution_start": 1645186539352,
    "nbgrader": {
     "cell_type": "code",
     "checksum": "3534c44b4a3419ca1db98eebe7115dc1",
     "grade": false,
     "grade_id": "cell-2fb5ba34b2994cd9",
     "locked": false,
     "schema_version": 3,
     "solution": true,
     "task": false
    },
    "source_hash": "1d6e90cb"
   },
   "outputs": [],
   "source": [
    "# TODO: Implement this! (10 points)\n",
    "def tfidf_search(query, index_set):\n",
    "    \"\"\"\n",
    "    Perform a search over all documents with the given query using tf-idf.\n",
    "    Note #1: You have to use the `get_index` (and the `get_df`) function\n",
    "    created in the previous cells\n",
    "    Input:\n",
    "        query - a (unprocessed) query\n",
    "        index_set - the index to use\n",
    "    Output: a list of (document_id, score),\n",
    "        sorted in descending relevance to the given query\n",
    "    \"\"\"\n",
    "    index = get_index(index_set)\n",
    "    df = get_df(index_set)\n",
    "    processed_query = preprocess_query(query, index_set)\n",
    "\n",
    "    N = len(docs)\n",
    "    # YOUR CODE HERE\n",
    "    documents = defaultdict(float)\n",
    "    for token in processed_query:\n",
    "        for document_id, token_count in index[token]:\n",
    "            tf = np.log(1 + token_count)\n",
    "            idf = np.log(N / df[token])\n",
    "            tf_idf = tf * idf\n",
    "            documents[document_id] += tf_idf\n",
    "    # convert documents to list and sort descending\n",
    "    documents = sorted(list(documents.items()), key=lambda x: x[1], reverse=True)\n",
    "    return documents"
   ]
  },
  {
   "cell_type": "code",
   "execution_count": 32,
   "metadata": {
    "cell_id": "00053-487c5ebc-c09b-46d0-9f43-38c4f74264e7",
    "deepnote_cell_height": 225,
    "deepnote_cell_type": "code",
    "deepnote_to_be_reexecuted": false,
    "deletable": false,
    "editable": false,
    "execution_millis": 80,
    "execution_start": 1645186539384,
    "nbgrader": {
     "cell_type": "code",
     "checksum": "7b66a514663d898694b09a23a597312b",
     "grade": true,
     "grade_id": "cell-bc68aeeacf42beb3",
     "locked": true,
     "points": 2,
     "schema_version": 3,
     "solution": false,
     "task": false
    },
    "source_hash": "4907bb8a"
   },
   "outputs": [],
   "source": [
    "#### Function check\n",
    "test_tfidf = tfidf_search(\"how to implement tf idf search\", index_set=1)[:5]\n",
    "assert isinstance(test_tfidf, list)\n",
    "assert len(test_tfidf[0]) == 2\n",
    "assert isinstance(test_tfidf[0][0], str)\n",
    "assert isinstance(test_tfidf[0][1], float)\n",
    "\n",
    "####"
   ]
  },
  {
   "cell_type": "code",
   "execution_count": 33,
   "metadata": {
    "cell_id": "00054-ca226c89-ef3a-464d-aeed-2750ea928db4",
    "deepnote_cell_height": 285.125,
    "deepnote_cell_type": "code",
    "deepnote_to_be_reexecuted": false,
    "deletable": false,
    "editable": false,
    "execution_millis": 222,
    "execution_start": 1645186539544,
    "lines_to_next_cell": 2,
    "nbgrader": {
     "cell_type": "code",
     "checksum": "98fb1326cf4bf7983ae237ca8a9105f9",
     "grade": true,
     "grade_id": "cell-c7702fa8179fadb9",
     "locked": true,
     "points": 2,
     "schema_version": 3,
     "solution": false,
     "task": false
    },
    "source_hash": "fddf59b1"
   },
   "outputs": [
    {
     "name": "stdout",
     "output_type": "stream",
     "text": [
      "TFIDF Results:\n",
      "Rank 0(1.3e+01): PEEKABIT, Computer Offspring of Punched\\nCard PEEK...\n",
      "Rank 1(9.8): Variable Length Tree Structures Having Minimum Ave...\n",
      "Rank 2(8.2): A Stochastic Approach to the Grammatical Coding of...\n",
      "Rank 3(8.1): Full Table Quadratic Searching for Scatter Storage...\n",
      "Rank 4(7.6): Use of Tree Structures for Processing Files\\nIn da...\n"
     ]
    }
   ],
   "source": [
    "test_tfidf_2 = tfidf_search(\"computer word search\", index_set=2)[:5]\n",
    "print(f\"TFIDF Results:\")\n",
    "print_results(test_tfidf_2)"
   ]
  },
  {
   "cell_type": "code",
   "execution_count": 34,
   "metadata": {
    "cell_id": "00055-861246a7-b33f-43ef-8ffc-16cd768e3e3e",
    "deepnote_cell_height": 285.125,
    "deepnote_cell_type": "code",
    "deepnote_to_be_reexecuted": false,
    "deletable": false,
    "editable": false,
    "execution_millis": 179,
    "execution_start": 1645186539589,
    "lines_to_next_cell": 2,
    "nbgrader": {
     "cell_type": "code",
     "checksum": "733b5b67be5e53989f5b763ce5e52ee9",
     "grade": true,
     "grade_id": "cell-3284f50ac29abbaa",
     "locked": true,
     "points": 3,
     "schema_version": 3,
     "solution": false,
     "task": false
    },
    "source_hash": "83683be1"
   },
   "outputs": [
    {
     "name": "stdout",
     "output_type": "stream",
     "text": [
      "TFIDF Results:\n",
      "Rank 0(9.4): Variable Length Tree Structures Having Minimum Ave...\n",
      "Rank 1(7.4): On the Feasibility of Voice Input to\\nan On-line C...\n",
      "Rank 2(7.3): Median Split Trees: A Fast Lookup Technique for Fr...\n",
      "Rank 3(7.0): Execution Time Requirements for Encipherment Progr...\n",
      "Rank 4(7.0): Storage and Search Properties of a Tree-Organized ...\n"
     ]
    }
   ],
   "source": [
    "test_tfidf_1 = tfidf_search(\"computer word search\", index_set=1)[:5]\n",
    "print(f\"TFIDF Results:\")\n",
    "print_results(test_tfidf_1)"
   ]
  },
  {
   "cell_type": "code",
   "execution_count": 35,
   "metadata": {
    "cell_id": "00056-3513c3fe-3e9f-4b8c-aa0f-3f4a6d19816c",
    "deepnote_cell_height": 280.75,
    "deepnote_cell_type": "code",
    "deepnote_to_be_reexecuted": false,
    "deletable": false,
    "editable": false,
    "execution_millis": 1,
    "execution_start": 1645186539634,
    "lines_to_next_cell": 2,
    "nbgrader": {
     "cell_type": "code",
     "checksum": "e0edb37a5ae807a2de85d578c87ccb78",
     "grade": true,
     "grade_id": "cell-d908c80a3155354b",
     "locked": true,
     "points": 3,
     "schema_version": 3,
     "solution": false,
     "task": false
    },
    "source_hash": "9b7bb168"
   },
   "outputs": [
    {
     "name": "stdout",
     "output_type": "stream",
     "text": [
      "top-5 docs for index1 with BOW search: ('1771', '1936', '1543', '2535', '678')\n",
      "top-5 docs for index2 with BOW search: ('1525', '1936', '1844', '1700', '1366')\n",
      "top-5 docs for index1 with TF-IDF search: ('1936', '2054', '3041', '2620', '944')\n",
      "top-5 docs for index2 with TF-IDF search: ('1700', '1936', '1235', '2018', '849')\n"
     ]
    }
   ],
   "source": [
    "print(\"top-5 docs for index1 with BOW search:\", list(zip(*test_bow_1[:5]))[0])\n",
    "print(\"top-5 docs for index2 with BOW search:\", list(zip(*test_bow_2[:5]))[0])\n",
    "print(\"top-5 docs for index1 with TF-IDF search:\", list(zip(*test_tfidf_1[:5]))[0])\n",
    "print(\"top-5 docs for index2 with TF-IDF search:\", list(zip(*test_tfidf_2[:5]))[0])"
   ]
  },
  {
   "cell_type": "markdown",
   "metadata": {
    "cell_id": "00057-685f4747-06a6-4177-91cd-2efd41bed6dc",
    "deepnote_cell_height": 235,
    "deepnote_cell_type": "markdown",
    "deletable": false,
    "editable": false,
    "nbgrader": {
     "cell_type": "markdown",
     "checksum": "cdffc83f0eaea937cf64a212e7e9af8d",
     "grade": false,
     "grade_id": "cell-f5d923459ba21733",
     "locked": true,
     "schema_version": 3,
     "solution": false,
     "task": false
    }
   },
   "source": [
    "---\n",
    "\n",
    "### Section 3.3: Query Likelihood Model (35 points) <a class=\"anchor\" id=\"qlm\"></a>\n",
    "\n",
    "In this section, you will implement a simple query likelihood model.\n",
    "\n",
    "\n",
    "#### 3.3.1 Naive QL (15 points)\n",
    "\n",
    "First, let us implement a naive version of a QL model, assuming a multinomial unigram language model (with a uniform prior over the documents).\n",
    "\n"
   ]
  },
  {
   "cell_type": "code",
   "execution_count": 36,
   "metadata": {
    "cell_id": "00058-cda44e40-05f4-4632-a263-b4e4b00947bd",
    "deepnote_cell_height": 351,
    "deepnote_cell_type": "code",
    "deepnote_to_be_reexecuted": false,
    "deletable": false,
    "editable": false,
    "execution_millis": 127,
    "execution_start": 1645186539642,
    "lines_to_next_cell": 2,
    "nbgrader": {
     "cell_type": "code",
     "checksum": "b7ae2b7d818b428b4638c1c9206d2aca",
     "grade": false,
     "grade_id": "cell-98505778f7b68e7f",
     "locked": true,
     "schema_version": 3,
     "solution": false,
     "task": false
    },
    "source_hash": "41faad84"
   },
   "outputs": [],
   "source": [
    "#### Document length for normalization\n",
    "\n",
    "\n",
    "def doc_lengths(documents):\n",
    "    doc_lengths = {doc_id: len(doc) for (doc_id, doc) in documents}\n",
    "    return doc_lengths\n",
    "\n",
    "\n",
    "doc_lengths_1 = doc_lengths(doc_repr_1)\n",
    "doc_lengths_2 = doc_lengths(doc_repr_2)\n",
    "\n",
    "\n",
    "def get_doc_lengths(index_set):\n",
    "    assert index_set in {1, 2}\n",
    "    return {1: doc_lengths_1, 2: doc_lengths_2}[index_set]\n",
    "\n",
    "\n",
    "####"
   ]
  },
  {
   "cell_type": "code",
   "execution_count": 37,
   "metadata": {
    "cell_id": "00059-746be962-92e6-47b2-bf24-e3d86dedd92e",
    "deepnote_cell_height": 567,
    "deepnote_cell_type": "code",
    "deepnote_to_be_reexecuted": false,
    "deletable": false,
    "execution_millis": 0,
    "execution_start": 1645186539698,
    "nbgrader": {
     "cell_type": "code",
     "checksum": "cedd08303a914243fefdb6b876977ca1",
     "grade": false,
     "grade_id": "cell-8bcf2b804d636c2e",
     "locked": false,
     "schema_version": 3,
     "solution": true,
     "task": false
    },
    "source_hash": "a861316b"
   },
   "outputs": [],
   "source": [
    "# TODO: Implement this! (15 points)\n",
    "def naive_ql_search(query, index_set):\n",
    "    \"\"\"\n",
    "    Perform a search over all documents with the given query using a naive QL model.\n",
    "    Note #1: You have to use the `get_index` (and get_doc_lengths) function\n",
    "        created in the previous cells\n",
    "    Input:\n",
    "        query - a (unprocessed) query\n",
    "        index_set - the index to use\n",
    "    Output: a list of (document_id, score), sorted in descending relevance\n",
    "        to the given query\n",
    "    \"\"\"\n",
    "    index = get_index(index_set)\n",
    "    doc_lengths = get_doc_lengths(index_set)\n",
    "    processed_query = preprocess_query(query, index_set)\n",
    "    # YOUR CODE HERE\n",
    "    results = {}\n",
    "    \n",
    "    for token in processed_query:\n",
    "        # convert to dictionary for fast lookup\n",
    "        token_counts = dict(index[token])\n",
    "        for doc_id in doc_lengths.keys():\n",
    "            if doc_id not in token_counts:\n",
    "                # because token count is 0\n",
    "                p_qD = 0\n",
    "            else:\n",
    "                # otherwise we're able to get the tok count and proceed with computation\n",
    "                token_count = token_counts[doc_id]\n",
    "                p_qD = token_count / doc_lengths[doc_id]\n",
    "            if doc_id not in results:\n",
    "                results[doc_id] = p_qD\n",
    "            else:\n",
    "                results[doc_id] *= p_qD\n",
    "    results = sorted(list(results.items()), key=lambda x: x[1], reverse=True)\n",
    "    return results"
   ]
  },
  {
   "cell_type": "code",
   "execution_count": 38,
   "metadata": {
    "cell_id": "00060-7b8590ee-afcd-44ee-b551-3938924f8c30",
    "deepnote_cell_height": 285.125,
    "deepnote_cell_type": "code",
    "deepnote_to_be_reexecuted": false,
    "deletable": false,
    "editable": false,
    "execution_millis": 0,
    "execution_start": 1645186539699,
    "nbgrader": {
     "cell_type": "code",
     "checksum": "b550d15bdad28354c336020a00c33d56",
     "grade": true,
     "grade_id": "cell-5a83ac12ecde8578",
     "locked": true,
     "points": 3,
     "schema_version": 3,
     "solution": false,
     "task": false
    },
    "source_hash": "54190022"
   },
   "outputs": [
    {
     "name": "stdout",
     "output_type": "stream",
     "text": [
      "Naive QL Results:\n",
      "Rank 0(0.2): A Report Writer For COBOL...\n",
      "Rank 1(0.2): A CRT Report Generating System...\n",
      "Rank 2(0.17): Preliminary Report-International Algebraic Languag...\n",
      "Rank 3(0.17): Supplement to the ALGOL 60 Report...\n",
      "Rank 4(0.14): ALGOL Sub-Committee Report - Extensions...\n"
     ]
    }
   ],
   "source": [
    "#### Function check\n",
    "test_naiveql = naive_ql_search(\"report\", index_set=1)[:5]\n",
    "print(f\"Naive QL Results:\")\n",
    "print_results(test_naiveql)\n",
    "####"
   ]
  },
  {
   "cell_type": "code",
   "execution_count": 39,
   "metadata": {
    "cell_id": "00061-82ac6743-087a-40be-8e13-c83e9cc51509",
    "deepnote_cell_height": 81,
    "deepnote_cell_type": "code",
    "deepnote_to_be_reexecuted": false,
    "deletable": false,
    "editable": false,
    "execution_millis": 30,
    "execution_start": 1645186539742,
    "nbgrader": {
     "cell_type": "code",
     "checksum": "799df1d81c63fe90edbb6c218fc707fb",
     "grade": true,
     "grade_id": "cell-80f4bf2137f997bb",
     "locked": true,
     "points": 2,
     "schema_version": 3,
     "solution": false,
     "task": false
    },
    "source_hash": "28110d30"
   },
   "outputs": [],
   "source": [
    "#### Please do not change this. This cell is used for grading."
   ]
  },
  {
   "cell_type": "code",
   "execution_count": 40,
   "metadata": {
    "cell_id": "00062-17e1b311-2247-4c85-9402-b644f1f66b12",
    "deepnote_cell_height": 81,
    "deepnote_cell_type": "code",
    "deepnote_to_be_reexecuted": false,
    "deletable": false,
    "editable": false,
    "execution_millis": 11244764,
    "execution_start": 1645186539743,
    "nbgrader": {
     "cell_type": "code",
     "checksum": "875a4a517d27e20625d41783cebec118",
     "grade": true,
     "grade_id": "cell-5ce2993458a8ce51",
     "locked": true,
     "points": 3,
     "schema_version": 3,
     "solution": false,
     "task": false
    },
    "source_hash": "28110d30"
   },
   "outputs": [],
   "source": [
    "#### Please do not change this. This cell is used for grading."
   ]
  },
  {
   "cell_type": "code",
   "execution_count": 41,
   "metadata": {
    "cell_id": "00063-21abc448-96e9-40fc-82a7-478035610266",
    "deepnote_cell_height": 81,
    "deepnote_cell_type": "code",
    "deepnote_to_be_reexecuted": false,
    "deletable": false,
    "editable": false,
    "execution_millis": 11244759,
    "execution_start": 1645186539750,
    "nbgrader": {
     "cell_type": "code",
     "checksum": "d5c4e1c3852e71a46f32825b122f1b71",
     "grade": true,
     "grade_id": "cell-7753bdb54e292f3d",
     "locked": true,
     "points": 3,
     "schema_version": 3,
     "solution": false,
     "task": false
    },
    "source_hash": "28110d30"
   },
   "outputs": [],
   "source": [
    "#### Please do not change this. This cell is used for grading."
   ]
  },
  {
   "cell_type": "code",
   "execution_count": 42,
   "metadata": {
    "cell_id": "00064-47b977bf-c1c9-4960-8ecc-f146211b3336",
    "deepnote_cell_height": 81,
    "deepnote_cell_type": "code",
    "deepnote_to_be_reexecuted": false,
    "deletable": false,
    "editable": false,
    "execution_millis": 11244752,
    "execution_start": 1645186539809,
    "nbgrader": {
     "cell_type": "code",
     "checksum": "c4d4332d4356e89ce0240f6b80e1899a",
     "grade": true,
     "grade_id": "cell-54e476e2f96e64bb",
     "locked": true,
     "points": 4,
     "schema_version": 3,
     "solution": false,
     "task": false
    },
    "source_hash": "28110d30"
   },
   "outputs": [],
   "source": [
    "#### Please do not change this. This cell is used for grading."
   ]
  },
  {
   "cell_type": "markdown",
   "metadata": {
    "cell_id": "00065-1a6eeeea-9611-4e55-bf52-1adfe9cd668f",
    "deepnote_cell_height": 156.59375,
    "deepnote_cell_type": "markdown",
    "deletable": false,
    "editable": false,
    "nbgrader": {
     "cell_type": "markdown",
     "checksum": "8d739dc91a22bd48897f603885f95a74",
     "grade": false,
     "grade_id": "cell-5414dfd69dab8b94",
     "locked": true,
     "schema_version": 3,
     "solution": false,
     "task": false
    }
   },
   "source": [
    "---\n",
    "#### 3.3.2 QL (20 points)\n",
    "Now, let's implement a QL model that handles the issues with the naive version. In particular, you will implement a QL model with Jelinek-Mercer Smoothing. That means an interpolated score is computed per word - one term is the same as the previous naive version, and the second term comes from a unigram language model. In addition, you should accumulate the scores by summing the **log** (smoothed) probability which leads to better numerical stability."
   ]
  },
  {
   "cell_type": "code",
   "execution_count": 43,
   "metadata": {
    "cell_id": "00066-3fb59861-7bc5-497f-951b-c221eb02258c",
    "deepnote_cell_height": 1125,
    "deepnote_cell_type": "code",
    "deepnote_to_be_reexecuted": false,
    "deletable": false,
    "execution_millis": 11244761,
    "execution_start": 1645186539809,
    "nbgrader": {
     "cell_type": "code",
     "checksum": "b8c6abf937ad333e628f1db891f2e29e",
     "grade": false,
     "grade_id": "cell-bb1f506409771257",
     "locked": false,
     "schema_version": 3,
     "solution": true,
     "task": false
    },
    "source_hash": "2f2ddee4"
   },
   "outputs": [],
   "source": [
    "# TODO: Implement this! (20 points)\n",
    "\n",
    "\n",
    "def ql_search(query, index_set):\n",
    "    \"\"\"\n",
    "    Perform a search over all documents with the given query using a QL model\n",
    "    with Jelinek-Mercer Smoothing (set smoothing=0.1).\n",
    "\n",
    "    Note #1: You have to use the `get_index` (and get_doc_lengths) function\n",
    "        created in the previous cells\n",
    "    Note #2: You might have to create some variables beforehand and\n",
    "        use them in this function\n",
    "\n",
    "    Input:\n",
    "        query - a (unprocessed) query\n",
    "        index_set - the index to use\n",
    "    Output: a list of (document_id, score), sorted in descending relevance\n",
    "        to the given query\n",
    "    \"\"\"\n",
    "    index = get_index(index_set)\n",
    "    doc_lengths = get_doc_lengths(index_set)\n",
    "    processed_query = preprocess_query(query, index_set)\n",
    "\n",
    "    # YOUR CODE HERE\n",
    "    # total number of words in the collection\n",
    "    C = sum(list(doc_lengths.values()))\n",
    "    # \"(set smoothing=0.1)\"\n",
    "    lambd = 0.1\n",
    "    results = {}\n",
    "    for token in processed_query:\n",
    "        # skip tokens not in docs\n",
    "        if not index[token]:\n",
    "            continue\n",
    "        # mapping from to doc_id to count for this token\n",
    "        doc_to_count = {}\n",
    "        # total count of token across the collection\n",
    "        total_tok_count = 0\n",
    "        for doc, tok_count in index[token]:\n",
    "            doc_to_count[doc] = tok_count\n",
    "            total_tok_count += tok_count\n",
    "\n",
    "        # check each document in our collection, to catch token counts of 0\n",
    "        for document_id, doc_length in doc_lengths.items():\n",
    "            if document_id in doc_to_count:\n",
    "                token_count = doc_to_count[document_id]\n",
    "            else:\n",
    "                token_count = 0\n",
    "            # page 257 of Croft et al.\n",
    "            p_qD = np.log(\n",
    "                (1 - lambd) * token_count / doc_lengths[document_id]\n",
    "                + lambd * total_tok_count / C\n",
    "            )\n",
    "            if document_id not in results:\n",
    "                results[document_id] = p_qD\n",
    "            else:\n",
    "                results[document_id] += p_qD\n",
    "\n",
    "    # convert documents to list and sort descending\n",
    "    results = sorted(list(results.items()), key=lambda x: x[1], reverse=True)\n",
    "    return results"
   ]
  },
  {
   "cell_type": "code",
   "execution_count": 44,
   "metadata": {
    "cell_id": "00067-490d8cb9-33a4-47fc-9c15-ad1b4c455132",
    "deepnote_cell_height": 422.0625,
    "deepnote_cell_type": "code",
    "deepnote_to_be_reexecuted": false,
    "deletable": false,
    "editable": false,
    "execution_millis": 121,
    "execution_start": 1645186539852,
    "is_code_hidden": false,
    "nbgrader": {
     "cell_type": "code",
     "checksum": "0b12a7f3355193a257fd9f5f69a66562",
     "grade": true,
     "grade_id": "cell-850e9d6369bcec32",
     "locked": true,
     "points": 4,
     "schema_version": 3,
     "solution": false,
     "task": false
    },
    "source_hash": "4e5f7dd8"
   },
   "outputs": [
    {
     "name": "stdout",
     "output_type": "stream",
     "text": [
      "Rank 0(-1.7): A Report Writer For COBOL...\n",
      "Rank 1(-1.7): A CRT Report Generating System...\n",
      "Rank 2(-1.9): Preliminary Report-International Algebraic Languag...\n",
      "Rank 3(-1.9): Supplement to the ALGOL 60 Report...\n",
      "Rank 4(-2.1): ALGOL Sub-Committee Report - Extensions...\n",
      "\n",
      "Rank 0(-1.7e+01): A Report Writer For COBOL...\n",
      "Rank 1(-1.7e+01): A CRT Report Generating System...\n",
      "Rank 2(-1.9e+01): Preliminary Report-International Algebraic Languag...\n",
      "Rank 3(-1.9e+01): Supplement to the ALGOL 60 Report...\n",
      "Rank 4(-2.1e+01): ALGOL Sub-Committee Report - Extensions...\n"
     ]
    }
   ],
   "source": [
    "#### Function check\n",
    "test_ql_results = ql_search(\"report\", index_set=1)[:5]\n",
    "print_results(test_ql_results)\n",
    "print()\n",
    "test_ql_results_long = ql_search(\"report \" * 10, index_set=1)[:5]\n",
    "print_results(test_ql_results_long)\n",
    "####"
   ]
  },
  {
   "cell_type": "code",
   "execution_count": 45,
   "metadata": {
    "cell_id": "00068-095393c5-8e5b-4aef-9720-cfe9fae3b7c5",
    "deepnote_cell_height": 81,
    "deepnote_cell_type": "code",
    "deepnote_to_be_reexecuted": false,
    "deletable": false,
    "editable": false,
    "execution_millis": 11244810,
    "execution_start": 1645186540003,
    "nbgrader": {
     "cell_type": "code",
     "checksum": "e40be645140389c115849856145f5b59",
     "grade": true,
     "grade_id": "cell-958cdcf6fd6899b7",
     "locked": true,
     "points": 3,
     "schema_version": 3,
     "solution": false,
     "task": false
    },
    "source_hash": "28110d30"
   },
   "outputs": [],
   "source": [
    "#### Please do not change this. This cell is used for grading."
   ]
  },
  {
   "cell_type": "code",
   "execution_count": 46,
   "metadata": {
    "cell_id": "00069-4cd600e6-d694-4c40-ab70-28deb209cf19",
    "deepnote_cell_height": 81,
    "deepnote_cell_type": "code",
    "deepnote_to_be_reexecuted": false,
    "deletable": false,
    "editable": false,
    "execution_millis": 11244823,
    "execution_start": 1645186540042,
    "nbgrader": {
     "cell_type": "code",
     "checksum": "41d4aff001df17e7963ba79b45810b30",
     "grade": true,
     "grade_id": "cell-384dc23a0c251f6e",
     "locked": true,
     "points": 4,
     "schema_version": 3,
     "solution": false,
     "task": false
    },
    "source_hash": "28110d30"
   },
   "outputs": [],
   "source": [
    "#### Please do not change this. This cell is used for grading."
   ]
  },
  {
   "cell_type": "code",
   "execution_count": 47,
   "metadata": {
    "cell_id": "00070-952cb008-6963-4ca8-89f4-302b5a3ff74f",
    "deepnote_cell_height": 81,
    "deepnote_cell_type": "code",
    "deepnote_to_be_reexecuted": false,
    "deletable": false,
    "editable": false,
    "execution_millis": 11244838,
    "execution_start": 1645186540086,
    "nbgrader": {
     "cell_type": "code",
     "checksum": "893e8c5a073abc8ebb763d267b91bc02",
     "grade": true,
     "grade_id": "cell-7218966cba5097cc",
     "locked": true,
     "points": 4,
     "schema_version": 3,
     "solution": false,
     "task": false
    },
    "source_hash": "28110d30"
   },
   "outputs": [],
   "source": [
    "#### Please do not change this. This cell is used for grading."
   ]
  },
  {
   "cell_type": "code",
   "execution_count": 48,
   "metadata": {
    "cell_id": "00071-6752fe8b-7f1e-4fbc-a1c8-8a5f9876a4c4",
    "deepnote_cell_height": 81,
    "deepnote_cell_type": "code",
    "deepnote_to_be_reexecuted": false,
    "deletable": false,
    "editable": false,
    "execution_millis": 11244853,
    "execution_start": 1645186540123,
    "nbgrader": {
     "cell_type": "code",
     "checksum": "f99cb6f8b1f5830aaed8f06712ff846e",
     "grade": true,
     "grade_id": "cell-481ab073259ae53f",
     "locked": true,
     "points": 5,
     "schema_version": 3,
     "solution": false,
     "task": false
    },
    "source_hash": "28110d30"
   },
   "outputs": [],
   "source": [
    "#### Please do not change this. This cell is used for grading."
   ]
  },
  {
   "cell_type": "markdown",
   "metadata": {
    "cell_id": "00072-927d2e01-1b15-4854-a903-2a2472ecb63b",
    "deepnote_cell_height": 127,
    "deepnote_cell_type": "markdown",
    "deletable": false,
    "editable": false,
    "nbgrader": {
     "cell_type": "markdown",
     "checksum": "c02f14705d679579b1aa9f78f54779d5",
     "grade": false,
     "grade_id": "cell-f44088bfdac1dc90",
     "locked": true,
     "schema_version": 3,
     "solution": false,
     "task": false
    }
   },
   "source": [
    "---\n",
    "\n",
    "### Section 3.4: BM25 (20 points) <a class=\"anchor\" id=\"bm25\"></a>\n",
    "\n",
    "In this section, we will implement the BM25 scoring function.\n"
   ]
  },
  {
   "cell_type": "code",
   "execution_count": 49,
   "metadata": {
    "cell_id": "00073-22161fa2-0c00-4c01-af51-4968d6b78880",
    "deepnote_cell_height": 801,
    "deepnote_cell_type": "code",
    "deepnote_to_be_reexecuted": false,
    "deletable": false,
    "execution_millis": 11244861,
    "execution_start": 1645186540177,
    "nbgrader": {
     "cell_type": "code",
     "checksum": "e57efe06ea92af1c83784a42eb3d86e0",
     "grade": false,
     "grade_id": "cell-15640fc9b5d00a3c",
     "locked": false,
     "schema_version": 3,
     "solution": true,
     "task": false
    },
    "source_hash": "991aa048"
   },
   "outputs": [],
   "source": [
    "# TODO: Implement this! (20 points)\n",
    "def bm25_search(query, index_set):\n",
    "    \"\"\"\n",
    "    Perform a search over all documents with the given query using BM25.\n",
    "    Use k_1 = 1.5 and b = 0.75\n",
    "    Note #1: You have to use the `get_index` (and `get_doc_lengths`) function\n",
    "    created in the previous cells\n",
    "    Note #2: You might have to create some variables beforehand\n",
    "    and use them in this function\n",
    "    Input:\n",
    "        query - a (unprocessed) query\n",
    "        index_set - the index to use\n",
    "    Output: a list of (document_id, score), sorted in descending\n",
    "        relevance to the given query\n",
    "    \"\"\"\n",
    "\n",
    "    index = get_index(index_set)\n",
    "    df = get_df(index_set)\n",
    "    doc_lengths = get_doc_lengths(index_set)\n",
    "    processed_query = preprocess_query(query, index_set)\n",
    "\n",
    "    # YOUR CODE HERE\n",
    "    # hard coded values\n",
    "    k_1 = 1.5\n",
    "    b = 0.75\n",
    "    # initialize our result\n",
    "    documents = defaultdict(float)\n",
    "    # average doc length and number of docs\n",
    "    ave_dl = np.mean([value for _key, value in doc_lengths.items()])\n",
    "    N = len(docs)\n",
    "    for token in processed_query:\n",
    "        for document_id, token_count in index[token]:\n",
    "            idf = np.log(N / df[token])\n",
    "            second_term = (token_count * (k_1 + 1)) / (\n",
    "                token_count + k_1 * (1 - b + b * (doc_lengths[document_id] / ave_dl))\n",
    "            )\n",
    "            documents[document_id] += idf * second_term\n",
    "    # convert documents to list and sort descending\n",
    "    documents = sorted(list(documents.items()), key=lambda x: x[1], reverse=True)\n",
    "    return documents"
   ]
  },
  {
   "cell_type": "code",
   "execution_count": 50,
   "metadata": {
    "cell_id": "00074-99930c5d-a5f8-4ead-b1d4-1bb2ada8b11b",
    "deepnote_cell_height": 246.9375,
    "deepnote_cell_type": "code",
    "deepnote_to_be_reexecuted": false,
    "deletable": false,
    "editable": false,
    "execution_millis": 11244850,
    "execution_start": 1645186540178,
    "nbgrader": {
     "cell_type": "code",
     "checksum": "4be9de5d4e94637960d83725422bea6c",
     "grade": true,
     "grade_id": "cell-d10536bca72c74b1",
     "locked": true,
     "points": 3,
     "schema_version": 3,
     "solution": false,
     "task": false
    },
    "source_hash": "e0c314c5"
   },
   "outputs": [
    {
     "name": "stdout",
     "output_type": "stream",
     "text": [
      "Rank 0(6.7): A Report Writer For COBOL...\n",
      "Rank 1(6.7): A CRT Report Generating System...\n",
      "Rank 2(6.6): Preliminary Report-International Algebraic Languag...\n",
      "Rank 3(6.6): Supplement to the ALGOL 60 Report...\n",
      "Rank 4(6.5): ALGOL Sub-Committee Report - Extensions...\n"
     ]
    }
   ],
   "source": [
    "#### Function check\n",
    "test_bm25_results = bm25_search(\"report\", index_set=1)[:5]\n",
    "print_results(test_bm25_results)\n",
    "####"
   ]
  },
  {
   "cell_type": "code",
   "execution_count": 51,
   "metadata": {
    "cell_id": "00075-42c49004-74c6-4354-a713-ab682c96123e",
    "deepnote_cell_height": 81,
    "deepnote_cell_type": "code",
    "deepnote_to_be_reexecuted": false,
    "deletable": false,
    "editable": false,
    "execution_millis": 11244838,
    "execution_start": 1645186540222,
    "nbgrader": {
     "cell_type": "code",
     "checksum": "31b550d6a46ae4f8ede88788799ac2b9",
     "grade": true,
     "grade_id": "cell-60f6ec5052712d79",
     "locked": true,
     "points": 5,
     "schema_version": 3,
     "solution": false,
     "task": false
    },
    "source_hash": "28110d30"
   },
   "outputs": [],
   "source": [
    "#### Please do not change this. This cell is used for grading."
   ]
  },
  {
   "cell_type": "code",
   "execution_count": 52,
   "metadata": {
    "cell_id": "00076-dda1edfe-5234-4b37-8700-30b331b5b71e",
    "deepnote_cell_height": 81,
    "deepnote_cell_type": "code",
    "deepnote_to_be_reexecuted": false,
    "deletable": false,
    "editable": false,
    "execution_millis": 11244835,
    "execution_start": 1645186540223,
    "nbgrader": {
     "cell_type": "code",
     "checksum": "3da2ec16bfe781916e71755d65aa2983",
     "grade": true,
     "grade_id": "cell-5d17524043a5abcc",
     "locked": true,
     "points": 5,
     "schema_version": 3,
     "solution": false,
     "task": false
    },
    "source_hash": "28110d30"
   },
   "outputs": [],
   "source": [
    "#### Please do not change this. This cell is used for grading."
   ]
  },
  {
   "cell_type": "code",
   "execution_count": 53,
   "metadata": {
    "cell_id": "00077-eb67834d-52f9-4385-a9cd-0ad481099542",
    "deepnote_cell_height": 81,
    "deepnote_cell_type": "code",
    "deepnote_to_be_reexecuted": false,
    "deletable": false,
    "editable": false,
    "execution_millis": 11244835,
    "execution_start": 1645186540265,
    "nbgrader": {
     "cell_type": "code",
     "checksum": "e7b563d54fa84c20909c0ae107010541",
     "grade": true,
     "grade_id": "cell-ff8e704eda1184e3",
     "locked": true,
     "points": 3,
     "schema_version": 3,
     "solution": false,
     "task": false
    },
    "source_hash": "28110d30"
   },
   "outputs": [],
   "source": [
    "#### Please do not change this. This cell is used for grading."
   ]
  },
  {
   "cell_type": "code",
   "execution_count": 54,
   "metadata": {
    "cell_id": "00078-4c9ec504-f3a1-44c6-b797-e96bf38a6d46",
    "deepnote_cell_height": 81,
    "deepnote_cell_type": "code",
    "deepnote_to_be_reexecuted": false,
    "deletable": false,
    "editable": false,
    "execution_millis": 11244839,
    "execution_start": 1645186540266,
    "nbgrader": {
     "cell_type": "code",
     "checksum": "b013f90974b396630a8831d6f1d7e5f7",
     "grade": true,
     "grade_id": "cell-a52310500a2543cb",
     "locked": true,
     "points": 4,
     "schema_version": 3,
     "solution": false,
     "task": false
    },
    "source_hash": "28110d30"
   },
   "outputs": [],
   "source": [
    "#### Please do not change this. This cell is used for grading."
   ]
  },
  {
   "cell_type": "markdown",
   "metadata": {
    "cell_id": "00079-f0652d37-3014-4fc5-a239-c6d5371c8167",
    "deepnote_cell_height": 127,
    "deepnote_cell_type": "markdown",
    "deletable": false,
    "editable": false,
    "nbgrader": {
     "cell_type": "markdown",
     "checksum": "8fcf67cb7d5e8b26cb9bf1f0aa42c847",
     "grade": false,
     "grade_id": "cell-8b2b412c81d62f2d",
     "locked": true,
     "schema_version": 3,
     "solution": false,
     "task": false
    }
   },
   "source": [
    "\n",
    "---\n",
    "\n",
    "### 3.5. Test Your Functions\n",
    "\n",
    "The widget below allows you to play with the search functions you've written so far. Use this to test your search functions and ensure that they work as expected."
   ]
  },
  {
   "cell_type": "code",
   "execution_count": 55,
   "metadata": {
    "cell_id": "00080-8469bb45-c42f-461c-b1dd-6fcd1ef23d8b",
    "deepnote_cell_height": 693,
    "deepnote_cell_type": "code",
    "deepnote_to_be_reexecuted": false,
    "deletable": false,
    "editable": false,
    "execution_millis": 11244825,
    "execution_start": 1645186540266,
    "lines_to_next_cell": 2,
    "nbgrader": {
     "cell_type": "code",
     "checksum": "dfeb204b390acc0794dbdcac92b0cf2c",
     "grade": false,
     "grade_id": "cell-c9c2bb76354e8d97",
     "locked": true,
     "schema_version": 3,
     "solution": false,
     "task": false
    },
    "source_hash": "ff5eb03a"
   },
   "outputs": [],
   "source": [
    "#### Highlighter function\n",
    "# class for results\n",
    "ResultRow = namedtuple(\"ResultRow\", [\"doc_id\", \"snippet\", \"score\"])\n",
    "# doc_id -> doc\n",
    "docs_by_id = dict((d[0], d[1]) for d in docs)\n",
    "\n",
    "\n",
    "def highlight_text(document, query, tol=17):\n",
    "    import re\n",
    "\n",
    "    tokens = tokenize(query)\n",
    "    regex = \"|\".join(f\"(\\\\b{t}\\\\b)\" for t in tokens)\n",
    "    regex = re.compile(regex, flags=re.IGNORECASE)\n",
    "    output = \"\"\n",
    "    i = 0\n",
    "    for m in regex.finditer(document):\n",
    "        start_idx = max(0, m.start() - tol)\n",
    "        end_idx = min(len(document), m.end() + tol)\n",
    "        output += \"\".join(\n",
    "            [\n",
    "                \"...\",\n",
    "                document[start_idx : m.start()],\n",
    "                \"<strong>\",\n",
    "                document[m.start() : m.end()],\n",
    "                \"</strong>\",\n",
    "                document[m.end() : end_idx],\n",
    "                \"...\",\n",
    "            ]\n",
    "        )\n",
    "    return output.replace(\"\\n\", \" \")\n",
    "\n",
    "\n",
    "def make_results(query, search_fn, index_set):\n",
    "    results = []\n",
    "    for doc_id, score in search_fn(query, index_set):\n",
    "        highlight = highlight_text(docs_by_id[doc_id], query)\n",
    "        if len(highlight.strip()) == 0:\n",
    "            highlight = docs_by_id[doc_id]\n",
    "        results.append(ResultRow(doc_id, highlight, score))\n",
    "    return results\n",
    "\n",
    "\n",
    "####"
   ]
  },
  {
   "cell_type": "code",
   "execution_count": 56,
   "metadata": {
    "cell_id": "00081-0f79ea92-6b27-476d-838a-7353712fe308",
    "deepnote_cell_height": 753,
    "deepnote_cell_type": "code",
    "deepnote_to_be_reexecuted": false,
    "execution_millis": 11244922,
    "execution_start": 1645186540312,
    "source_hash": "52b13204"
   },
   "outputs": [
    {
     "data": {
      "application/vnd.jupyter.widget-view+json": {
       "model_id": "a2969d81ed99475ebd8f13018b13c109",
       "version_major": 2,
       "version_minor": 0
      },
      "text/plain": [
       "Text(value='', description='Search Bar')"
      ]
     },
     "metadata": {},
     "output_type": "display_data"
    }
   ],
   "source": [
    "# TODO: Set this to the function you want to test!\n",
    "SEARCH_FN_NAME = \"bm25\"\n",
    "# this function should take in a query (string)\n",
    "# and return a sorted list of (doc_id, score)\n",
    "# with the most relevant document in the first position\n",
    "search_fn_dict = {\n",
    "    \"bow\": bow_search,\n",
    "    \"tfidf\": tfidf_search,\n",
    "    \"naive_ql\": naive_ql_search,\n",
    "    \"ql\": ql_search,\n",
    "    \"bm25\": bm25_search,\n",
    "}\n",
    "\n",
    "search_fn = search_fn_dict[SEARCH_FN_NAME]\n",
    "index_set = 1\n",
    "\n",
    "text = widgets.Text(description=\"Search Bar\", width=200)\n",
    "display(text)\n",
    "\n",
    "\n",
    "def handle_submit(sender):\n",
    "    print(f\"Searching for: '{sender.value}'\")\n",
    "\n",
    "    results = make_results(sender.value, search_fn, index_set)\n",
    "\n",
    "    # display only the top 5\n",
    "    results = results[:5]\n",
    "\n",
    "    body = \"\"\n",
    "    for idx, r in enumerate(results):\n",
    "        body += f\"<li>Document #{r.doc_id}({r.score}): {r.snippet}</li>\"\n",
    "    display(HTML(f\"<ul>{body}</ul>\"))\n",
    "\n",
    "\n",
    "text.on_submit(handle_submit)"
   ]
  },
  {
   "cell_type": "markdown",
   "metadata": {
    "cell_id": "00082-cd38c091-8362-48a6-b6f6-e2c167049828",
    "deepnote_cell_height": 331.140625,
    "deepnote_cell_type": "markdown",
    "deletable": false,
    "editable": false,
    "nbgrader": {
     "cell_type": "markdown",
     "checksum": "019b1ff878dc6339dd068e2d48d19904",
     "grade": false,
     "grade_id": "cell-8d46fe8e4f3d8cdb",
     "locked": true,
     "schema_version": 3,
     "solution": false,
     "task": false
    }
   },
   "source": [
    "---\n",
    "\n",
    "## Section 4: Evaluation (40 points) <a class=\"anchor\" id=\"evaluation\"></a>\n",
    "\n",
    "[Back to Part 1](#part1)\n",
    "\n",
    "In order to analyze the effectiveness of retrieval algorithms, we first have to learn how to evaluate such a system. In particular, we will work with offline evaluation metrics. These metrics are computed on a dataset with known relevance judgements.\n",
    "\n",
    "Implement the following evaluation metrics.\n",
    "\n",
    "1. Precision (7 points)\n",
    "2. Recall (7 points)\n",
    "3. Mean Average Precision (13 points)\n",
    "4. Expected Reciprocal Rank (13 points)"
   ]
  },
  {
   "cell_type": "markdown",
   "metadata": {
    "cell_id": "00083-dfad5784-4ddc-451d-9394-08c63666f402",
    "deepnote_cell_height": 123.796875,
    "deepnote_cell_type": "markdown",
    "deletable": false,
    "editable": false,
    "nbgrader": {
     "cell_type": "markdown",
     "checksum": "e46f54c7f81d88bbc950b0fae14c4ca5",
     "grade": false,
     "grade_id": "cell-3419fd3bc663d7cc",
     "locked": true,
     "schema_version": 3,
     "solution": false,
     "task": false
    }
   },
   "source": [
    "---\n",
    "### 4.1 Read relevance labels\n",
    "\n",
    "Let's take a look at the `qrels.text` file, which contains the ground truth relevance scores. The relevance labels for CACM are binary - either 0 or 1.\n"
   ]
  },
  {
   "cell_type": "code",
   "execution_count": 57,
   "metadata": {
    "cell_id": "00084-1316ed27-3c82-43e0-9359-b9e3a9d64256",
    "deepnote_cell_height": 293.875,
    "deepnote_cell_type": "code",
    "deepnote_to_be_reexecuted": false,
    "deletable": false,
    "editable": false,
    "execution_millis": 380,
    "execution_start": 1645186540313,
    "nbgrader": {
     "cell_type": "code",
     "checksum": "6c11025f5a222796f2882c73c1634799",
     "grade": false,
     "grade_id": "cell-6b738366059dde9e",
     "locked": true,
     "schema_version": 3,
     "solution": false,
     "task": false
    },
    "source_hash": "4ba3f3db"
   },
   "outputs": [
    {
     "name": "stdout",
     "output_type": "stream",
     "text": [
      "01 1410  0 0\n",
      "01 1572  0 0\n",
      "01 1605  0 0\n",
      "01 2020  0 0\n",
      "01 2358  0 0\n",
      "02 2434  0 0\n",
      "02 2863  0 0\n",
      "02 3078  0 0\n",
      "03 1134  0 0\n",
      "03 1613  0 0\n"
     ]
    }
   ],
   "source": [
    "!head ./datasets/qrels.text"
   ]
  },
  {
   "cell_type": "markdown",
   "metadata": {
    "cell_id": "00085-d6878bd5-2637-4397-a653-79961f1e8bde",
    "deepnote_cell_height": 73,
    "deepnote_cell_type": "markdown",
    "deletable": false,
    "editable": false,
    "nbgrader": {
     "cell_type": "markdown",
     "checksum": "7ce95245c1597183320d7254afde5c8e",
     "grade": false,
     "grade_id": "cell-10e16bff2753ffbb",
     "locked": true,
     "schema_version": 3,
     "solution": false,
     "task": false
    }
   },
   "source": [
    "---\n",
    "\n",
    "The first column is the query_id and the second column is the document_id. We can safely ignore the 3rd and 4th columns."
   ]
  },
  {
   "cell_type": "code",
   "execution_count": 58,
   "metadata": {
    "cell_id": "00086-5ab2237b-8b49-4a73-9063-9fc776502761",
    "deepnote_cell_height": 333,
    "deepnote_cell_type": "code",
    "deepnote_to_be_reexecuted": false,
    "deletable": false,
    "execution_millis": 0,
    "execution_start": 1645186540745,
    "nbgrader": {
     "cell_type": "code",
     "checksum": "000c6d59dce08dba0ba1e8d691dbbc2e",
     "grade": false,
     "grade_id": "cell-ee5253a4ef602fce",
     "locked": false,
     "schema_version": 3,
     "solution": true,
     "task": false
    },
    "source_hash": "c9cbc0ff"
   },
   "outputs": [],
   "source": [
    "# https://piazza.com/class/kyiksrdfk0b6te?cid=40_f1\n",
    "def read_qrels(root_folder=\"./datasets/\"):\n",
    "    \"\"\"\n",
    "    Reads the qrels.text file.\n",
    "    Output: A dictionary: query_id -> [list of relevant documents]\n",
    "    \"\"\"\n",
    "    with open(os.path.join(root_folder, \"qrels.text\")) as reader:\n",
    "        lines = reader.readlines()\n",
    "\n",
    "    from collections import defaultdict\n",
    "\n",
    "    relevant_docs = defaultdict(set)\n",
    "    for line in lines:\n",
    "        query_id, doc_id, _, _ = line.split()\n",
    "        relevant_docs[str(int(query_id))].add(doc_id)\n",
    "    return relevant_docs"
   ]
  },
  {
   "cell_type": "code",
   "execution_count": 59,
   "metadata": {
    "cell_id": "00087-b2ca4d34-5c5f-4392-85ed-a178aeee2e30",
    "deepnote_cell_height": 243,
    "deepnote_cell_type": "code",
    "deepnote_to_be_reexecuted": false,
    "deletable": false,
    "editable": false,
    "execution_millis": 59,
    "execution_start": 1645186540746,
    "nbgrader": {
     "cell_type": "code",
     "checksum": "d60caeba85c2a97d2211184a5ae91fd1",
     "grade": false,
     "grade_id": "cell-72215605fbe24f65",
     "locked": true,
     "schema_version": 3,
     "solution": false,
     "task": false
    },
    "source_hash": "23ca292a"
   },
   "outputs": [],
   "source": [
    "#### Function check\n",
    "qrels = read_qrels()\n",
    "\n",
    "assert len(qrels) == 52, \"There should be 52 queries with relevance judgements\"\n",
    "assert (\n",
    "    sum(len(j) for j in qrels.values()) == 796\n",
    "), \"There should be a total of 796 Relevance Judgements\"\n",
    "\n",
    "assert np.min(np.array([len(j) for j in qrels.values()])) == 1\n",
    "assert np.max(np.array([len(j) for j in qrels.values()])) == 51\n",
    "\n",
    "####"
   ]
  },
  {
   "cell_type": "markdown",
   "metadata": {
    "cell_id": "00088-14f1066c-7068-49a9-910c-c81e820e1a63",
    "deepnote_cell_height": 73,
    "deepnote_cell_type": "markdown",
    "deletable": false,
    "editable": false,
    "nbgrader": {
     "cell_type": "markdown",
     "checksum": "6c9e7428a52e291a2cdf92a379730d4c",
     "grade": false,
     "grade_id": "cell-176a6fb2939d0420",
     "locked": true,
     "schema_version": 3,
     "solution": false,
     "task": false
    }
   },
   "source": [
    "---\n",
    "**Note:** For a given query `query_id`, you can assume that documents *not* in `qrels[query_id]` are not relevant to `query_id`.\n"
   ]
  },
  {
   "cell_type": "markdown",
   "metadata": {
    "cell_id": "00089-e42c5a24-37db-4b0f-9db5-56563253fb35",
    "deepnote_cell_height": 101.390625,
    "deepnote_cell_type": "markdown",
    "deletable": false,
    "editable": false,
    "nbgrader": {
     "cell_type": "markdown",
     "checksum": "b26a818c7b4f7ad490e00b35ea0edd69",
     "grade": false,
     "grade_id": "cell-bd8341b72cdd89bb",
     "locked": true,
     "schema_version": 3,
     "solution": false,
     "task": false
    }
   },
   "source": [
    "---\n",
    "### 4.2 Precision (7 points)\n",
    "Implement the `precision@k` metric:"
   ]
  },
  {
   "cell_type": "code",
   "execution_count": 60,
   "metadata": {
    "cell_id": "00090-10b53f18-7e8d-43d4-b563-680628c40545",
    "deepnote_cell_height": 333,
    "deepnote_cell_type": "code",
    "deepnote_to_be_reexecuted": false,
    "deletable": false,
    "execution_millis": 0,
    "execution_start": 1645186540806,
    "nbgrader": {
     "cell_type": "code",
     "checksum": "43dea1979ebdec24ffcfeff71c670433",
     "grade": false,
     "grade_id": "cell-494bd0cce108ed67",
     "locked": false,
     "schema_version": 3,
     "solution": true,
     "task": false
    },
    "source_hash": "b26a2b3c"
   },
   "outputs": [],
   "source": [
    "# TODO: Implement this! (7 points)\n",
    "def precision_k(results, relevant_docs, k):\n",
    "    \"\"\"\n",
    "    Compute Precision@K\n",
    "    Input:\n",
    "        results: A sorted list of 2-tuples (document_id, score),\n",
    "                with the most relevant document in the first position\n",
    "        relevant_docs: A set of relevant documents.\n",
    "        k: the cut-off\n",
    "    Output: Precision@K\n",
    "    \"\"\"\n",
    "    if k > len(results):\n",
    "        k = len(results)\n",
    "    # YOUR CODE HERE\n",
    "    return np.mean([doc_id in relevant_docs for doc_id, _score in results[:k]])"
   ]
  },
  {
   "cell_type": "code",
   "execution_count": 61,
   "metadata": {
    "cell_id": "00091-fa6b1685-64b1-424e-af93-8f763660db0f",
    "deepnote_cell_height": 296.5625,
    "deepnote_cell_type": "code",
    "deepnote_to_be_reexecuted": false,
    "deletable": false,
    "editable": false,
    "execution_millis": 320,
    "execution_start": 1645186540809,
    "nbgrader": {
     "cell_type": "code",
     "checksum": "9222e35582b1840ffb60fd02fb0b60c3",
     "grade": true,
     "grade_id": "cell-e7ff0d91c319ca64",
     "locked": true,
     "points": 7,
     "schema_version": 3,
     "solution": false,
     "task": false
    },
    "source_hash": "1417a891"
   },
   "outputs": [
    {
     "name": "stdout",
     "output_type": "stream",
     "text": [
      "query: What articles exist which deal with TSS (Time Sharing System), an\n",
      "operating system for IBM computers?\n",
      "precision@10 = 0.2\n"
     ]
    }
   ],
   "source": [
    "#### Function check\n",
    "qid = queries[0][0]\n",
    "qtext = queries[0][1]\n",
    "print(f\"query:{qtext}\")\n",
    "results = bm25_search(qtext, 2)\n",
    "precision = precision_k(results, qrels[qid], 10)\n",
    "print(f\"precision@10 = {precision}\")\n",
    "####"
   ]
  },
  {
   "cell_type": "markdown",
   "metadata": {
    "cell_id": "00092-573df961-c83e-4116-af98-2954707eb21e",
    "deepnote_cell_height": 101.390625,
    "deepnote_cell_type": "markdown",
    "deletable": false,
    "editable": false,
    "nbgrader": {
     "cell_type": "markdown",
     "checksum": "8fd3b3998197c7097a40348500affb68",
     "grade": false,
     "grade_id": "cell-afd95f865bc7191e",
     "locked": true,
     "schema_version": 3,
     "solution": false,
     "task": false
    }
   },
   "source": [
    "---\n",
    "### 4.3 Recall (7 points)\n",
    "Implement the `recall@k` metric:"
   ]
  },
  {
   "cell_type": "code",
   "execution_count": 62,
   "metadata": {
    "cell_id": "00093-73affea1-1e53-4344-8a1f-55a1c3a18966",
    "deepnote_cell_height": 495,
    "deepnote_cell_type": "code",
    "deepnote_to_be_reexecuted": false,
    "deletable": false,
    "execution_millis": 1,
    "execution_start": 1645186541031,
    "nbgrader": {
     "cell_type": "code",
     "checksum": "b2020e5741ae03b3fe35817ed8f4ccaa",
     "grade": false,
     "grade_id": "cell-c323fc8c3f8a7cf8",
     "locked": false,
     "schema_version": 3,
     "solution": true,
     "task": false
    },
    "source_hash": "7a605edf"
   },
   "outputs": [],
   "source": [
    "# TODO: Implement this! (7 points)\n",
    "def recall_k(results, relevant_docs, k):\n",
    "    \"\"\"\n",
    "    Compute Recall@K\n",
    "    Input:\n",
    "        results: A sorted list of 2-tuples (document_id, score),\n",
    "            with the most relevant document in the first position\n",
    "        relevant_docs: A set of relevant documents.\n",
    "        k: the cut-off\n",
    "    Output: Recall@K\n",
    "    \"\"\"\n",
    "    # YOUR CODE HERE\n",
    "    tp = 0.0\n",
    "    fn = 0.0\n",
    "    for i, (doc_id, _score) in enumerate(results, 1):\n",
    "        if doc_id in relevant_docs:\n",
    "            if i <= k:\n",
    "                tp += 1\n",
    "            else:\n",
    "                fn += 1\n",
    "    try:\n",
    "        return tp / (tp + fn)\n",
    "    except ZeroDivisionError:\n",
    "        return 0.0"
   ]
  },
  {
   "cell_type": "code",
   "execution_count": 63,
   "metadata": {
    "cell_id": "00094-bf429fa0-2840-4cae-bab1-cb99f0a3d3d3",
    "deepnote_cell_height": 258.375,
    "deepnote_cell_type": "code",
    "deepnote_to_be_reexecuted": false,
    "deletable": false,
    "editable": false,
    "execution_millis": 98,
    "execution_start": 1645186541033,
    "nbgrader": {
     "cell_type": "code",
     "checksum": "56b6e0b8522f8b2dffbfb3206b2efa84",
     "grade": true,
     "grade_id": "cell-b25172161aef165c",
     "locked": true,
     "points": 7,
     "schema_version": 3,
     "solution": false,
     "task": false
    },
    "source_hash": "a5ebd603"
   },
   "outputs": [
    {
     "name": "stdout",
     "output_type": "stream",
     "text": [
      "query: SETL, Very High Level Languages\n",
      "recall@10 = 0.3157894736842105\n"
     ]
    }
   ],
   "source": [
    "#### Function check\n",
    "qid = queries[10][0]\n",
    "qtext = queries[10][1]\n",
    "print(f\"query:{qtext}\")\n",
    "results = bm25_search(qtext, 2)\n",
    "recall = recall_k(results, qrels[qid], 10)\n",
    "print(f\"recall@10 = {recall}\")\n",
    "####"
   ]
  },
  {
   "cell_type": "markdown",
   "metadata": {
    "cell_id": "00095-1445fa1d-3d88-4eb1-9592-5a6cba32701b",
    "deepnote_cell_height": 101.390625,
    "deepnote_cell_type": "markdown",
    "deletable": false,
    "editable": false,
    "nbgrader": {
     "cell_type": "markdown",
     "checksum": "b3d3c7bd1cd977cd07ef5df7d3fbf159",
     "grade": false,
     "grade_id": "cell-77fd2e7a39a74739",
     "locked": true,
     "schema_version": 3,
     "solution": false,
     "task": false
    }
   },
   "source": [
    "---\n",
    "### 4.4 Mean Average Precision (13 points)\n",
    "Implement the `map` metric:"
   ]
  },
  {
   "cell_type": "code",
   "execution_count": 64,
   "metadata": {
    "cell_id": "00096-6935fc09-3410-4008-ab25-df992be775e4",
    "deepnote_cell_height": 387,
    "deepnote_cell_type": "code",
    "deepnote_to_be_reexecuted": false,
    "deletable": false,
    "execution_millis": 1,
    "execution_start": 1645186541058,
    "nbgrader": {
     "cell_type": "code",
     "checksum": "aae2c62f2ffd76f5b6c004e9519b9f14",
     "grade": false,
     "grade_id": "cell-e50925fa9093a30d",
     "locked": false,
     "schema_version": 3,
     "solution": true,
     "task": false
    },
    "source_hash": "9a3733da"
   },
   "outputs": [],
   "source": [
    "# TODO: Implement this! (12 points)\n",
    "def average_precision(results, relevant_docs):\n",
    "    \"\"\"\n",
    "    Compute Average Precision (for a single query - the results are\n",
    "    averaged across queries to get MAP in the next few cells)\n",
    "    Hint: You can use the recall_k and precision_k functions here!\n",
    "    Input:\n",
    "        results: A sorted list of 2-tuples (document_id, score), with the most\n",
    "                relevant document in the first position\n",
    "        relevant_docs: A set of relevant documents.\n",
    "    Output: Average Precision\n",
    "    \"\"\"\n",
    "    n_rel_docs = len(relevant_docs)\n",
    "    n_true_pos = 0\n",
    "    \n",
    "    precisions = np.zeros(n_rel_docs)\n",
    "    N = len(results)\n",
    "    for k, (doc_id, _score) in enumerate(results, 1):\n",
    "        if n_true_pos == n_rel_docs:\n",
    "            # we can stop early because we found all the relevant docs\n",
    "            break\n",
    "        if doc_id in relevant_docs:\n",
    "            precisions[n_true_pos] = precision_k(results, relevant_docs, k)\n",
    "            n_true_pos += 1\n",
    "    # compute the average precision\n",
    "    return np.mean(precisions)"
   ]
  },
  {
   "cell_type": "code",
   "execution_count": 65,
   "metadata": {
    "cell_id": "00097-d194398d-53a0-4cd3-a940-4d78e7ce289a",
    "deepnote_cell_height": 278.5625,
    "deepnote_cell_type": "code",
    "deepnote_to_be_reexecuted": false,
    "deletable": false,
    "editable": false,
    "execution_millis": 1266,
    "execution_start": 1645186541145,
    "nbgrader": {
     "cell_type": "code",
     "checksum": "3b00e147c2fa146fa59f179b7c9cab75",
     "grade": true,
     "grade_id": "cell-8a1f7ec98571e58b",
     "locked": true,
     "points": 13,
     "schema_version": 3,
     "solution": false,
     "task": false
    },
    "source_hash": "501861e7"
   },
   "outputs": [
    {
     "name": "stdout",
     "output_type": "stream",
     "text": [
      "query: computational complexity, intractability, class-complete reductions,\n",
      "algorithms and efficiency\n",
      "MAP = 0.1724040411055945\n"
     ]
    }
   ],
   "source": [
    "#### Function check\n",
    "qid = queries[20][0]\n",
    "qtext = queries[20][1]\n",
    "print(f\"query:{qtext}\")\n",
    "results = bm25_search(qtext, 2)\n",
    "mean_ap = average_precision(results, qrels[qid])\n",
    "print(f\"MAP = {mean_ap}\")\n",
    "####"
   ]
  },
  {
   "cell_type": "markdown",
   "metadata": {
    "cell_id": "00098-ff07922a-b997-4d0a-b0b2-16a258d55e09",
    "deepnote_cell_height": 101.390625,
    "deepnote_cell_type": "markdown",
    "deletable": false,
    "editable": false,
    "nbgrader": {
     "cell_type": "markdown",
     "checksum": "36f85f45ef52d9467ba9a717d6d99ff2",
     "grade": false,
     "grade_id": "cell-1da18f0fe6f6d7be",
     "locked": true,
     "schema_version": 3,
     "solution": false,
     "task": false
    }
   },
   "source": [
    "---\n",
    "### 4.5 Expected Reciprocal Rank (13 points)\n",
    "Implement the `err` metric:"
   ]
  },
  {
   "cell_type": "code",
   "execution_count": 66,
   "metadata": {
    "cell_id": "00099-6f85eb2c-52dd-4893-9795-701a871bbb68",
    "deepnote_cell_height": 459,
    "deepnote_cell_type": "code",
    "deepnote_to_be_reexecuted": false,
    "deletable": false,
    "execution_millis": 39,
    "execution_start": 1645186542452,
    "nbgrader": {
     "cell_type": "code",
     "checksum": "9ac94db728e23ea1f5dc0d509473c6fb",
     "grade": false,
     "grade_id": "cell-64262889f9b267ea",
     "locked": false,
     "schema_version": 3,
     "solution": true,
     "task": false
    },
    "source_hash": "337046c"
   },
   "outputs": [],
   "source": [
    "# TODO: Implement this! (12 points)\n",
    "def err(results, relevant_docs):\n",
    "    \"\"\"\n",
    "    Compute the expected reciprocal rank.\n",
    "    Hint: https://dl.acm.org/doi/pdf/10.1145/1645953.1646033?download=true\n",
    "    Input:\n",
    "        results: A sorted list of 2-tuples (document_id, score), with the most\n",
    "            relevant document in the first position\n",
    "        relevant_docs: A set of relevant documents.\n",
    "    Output: ERR (float)\n",
    "\n",
    "    \"\"\"\n",
    "    # YOUR CODE HERE\n",
    "    exp_rec_rank = 0\n",
    "    p = 1\n",
    "    for rank, (doc_id, score) in enumerate(results, 1):\n",
    "        grade = 1 if doc_id in relevant_docs else 0\n",
    "        relevance_prob = (2**grade - 1) / 2\n",
    "        exp_rec_rank += p * (relevance_prob / rank)\n",
    "        p *= 1 - relevance_prob\n",
    "    return exp_rec_rank"
   ]
  },
  {
   "cell_type": "code",
   "execution_count": 67,
   "metadata": {
    "cell_id": "00100-d301d6c2-210d-4182-8817-b2c392d7d10e",
    "deepnote_cell_height": 359.3125,
    "deepnote_cell_type": "code",
    "deepnote_to_be_reexecuted": false,
    "deletable": false,
    "editable": false,
    "execution_millis": 223,
    "execution_start": 1645186542501,
    "nbgrader": {
     "cell_type": "code",
     "checksum": "b7d201de0990b69d5f38704668665d87",
     "grade": true,
     "grade_id": "cell-071e3970ff1afae4",
     "locked": true,
     "points": 13,
     "schema_version": 3,
     "solution": false,
     "task": false
    },
    "source_hash": "c244fd0a"
   },
   "outputs": [
    {
     "name": "stdout",
     "output_type": "stream",
     "text": [
      "qPuery: I'd like to find articles describing the use of singular value decomposition\n",
      "in digital image processing.  Applications include finding approximations\n",
      "to the original image and restoring images that are subject to noise. An\n",
      "article on the subject is H.C. Andrews and C.L. Patterson \"Outer product\n",
      "expansions and their uses in digital image processing\", American Mathematical\n",
      "Monthly, vol. 82.\n",
      "ERR = 0.625\n"
     ]
    }
   ],
   "source": [
    "#### Function check\n",
    "qid = queries[30][0]\n",
    "qtext = queries[30][1]\n",
    "print(f\"qPuery:{qtext}\")\n",
    "results = bm25_search(qtext, 2)\n",
    "ERR = err(results, qrels[qid])\n",
    "print(f\"ERR = {ERR}\")\n",
    "####"
   ]
  },
  {
   "cell_type": "markdown",
   "metadata": {
    "cell_id": "00101-5c45197a-8f43-4e13-b24d-0ef1ad533eef",
    "deepnote_cell_height": 101.390625,
    "deepnote_cell_type": "markdown",
    "deletable": false,
    "editable": false,
    "nbgrader": {
     "cell_type": "markdown",
     "checksum": "5bd94caf77cfa5f34675df758d91002d",
     "grade": false,
     "grade_id": "cell-43709a765f353946",
     "locked": true,
     "schema_version": 3,
     "solution": false,
     "task": false
    }
   },
   "source": [
    "---\n",
    "### 4.6 Evaluate Search Functions\n",
    "\n",
    "Let's define some metrics@k using [partial functions](https://docs.python.org/3/library/functools.html#functools.partial)"
   ]
  },
  {
   "cell_type": "code",
   "execution_count": 68,
   "metadata": {
    "cell_id": "00102-442bc886-57e2-4c21-b7ad-b01e86ff2f2b",
    "deepnote_cell_height": 423,
    "deepnote_cell_type": "code",
    "deepnote_to_be_reexecuted": false,
    "deletable": false,
    "editable": false,
    "execution_millis": 1,
    "execution_start": 1645186542781,
    "nbgrader": {
     "cell_type": "code",
     "checksum": "49ccc158e5fb7340ace55e90eeb9d62a",
     "grade": false,
     "grade_id": "cell-dab560e18e340da8",
     "locked": true,
     "schema_version": 3,
     "solution": false,
     "task": false
    },
    "source_hash": "984c969a"
   },
   "outputs": [],
   "source": [
    "#### metrics@k functions\n",
    "\n",
    "recall_at_1 = partial(recall_k, k=1)\n",
    "recall_at_5 = partial(recall_k, k=5)\n",
    "recall_at_10 = partial(recall_k, k=10)\n",
    "precision_at_1 = partial(precision_k, k=1)\n",
    "precision_at_5 = partial(precision_k, k=5)\n",
    "precision_at_10 = partial(precision_k, k=10)\n",
    "\n",
    "\n",
    "list_of_metrics = [\n",
    "    (\"ERR\", err),\n",
    "    (\"MAP\", average_precision),\n",
    "    (\"Recall@1\", recall_at_1),\n",
    "    (\"Recall@5\", recall_at_5),\n",
    "    (\"Recall@10\", recall_at_10),\n",
    "    (\"Precision@1\", precision_at_1),\n",
    "    (\"Precision@5\", precision_at_5),\n",
    "    (\"Precision@10\", precision_at_10),\n",
    "]"
   ]
  },
  {
   "cell_type": "markdown",
   "metadata": {
    "cell_id": "00103-62e2b5c1-7f8b-4b73-8459-45dac6ed6b05",
    "deepnote_cell_height": 91,
    "deepnote_cell_type": "markdown",
    "deletable": false,
    "editable": false,
    "nbgrader": {
     "cell_type": "markdown",
     "checksum": "fb541002c03221b453b8936290020ea5",
     "grade": false,
     "grade_id": "cell-580a2bdc66d03b47",
     "locked": true,
     "schema_version": 3,
     "solution": false,
     "task": false
    }
   },
   "source": [
    "---\n",
    "\n",
    "The following function evaluates a `search_fn` using the `metric_fn`. Note that the final number is averaged over all the queries"
   ]
  },
  {
   "cell_type": "code",
   "execution_count": 69,
   "metadata": {
    "cell_id": "00104-cc282062-26b4-45c1-8dfa-9b8ca0fc9ed5",
    "deepnote_cell_height": 783,
    "deepnote_cell_type": "code",
    "deepnote_to_be_reexecuted": false,
    "execution_millis": 1,
    "execution_start": 1645186542825,
    "lines_to_next_cell": 2,
    "source_hash": "647a95c2"
   },
   "outputs": [],
   "source": [
    "#### Evaluate a search function\n",
    "\n",
    "list_of_search_fns = [\n",
    "    (\"BOW\", bow_search),\n",
    "    (\"TF-IDF\", tfidf_search),\n",
    "    (\"NaiveQL\", naive_ql_search),\n",
    "    (\"QL\", ql_search),\n",
    "    (\"BM25\", bm25_search),\n",
    "]\n",
    "\n",
    "\n",
    "def evaluate_search_fn(search_fn, metric_fns, index_set=None):\n",
    "    # build a dict query_id -> query\n",
    "    queries_by_id = dict((q[0], q[1]) for q in queries)\n",
    "\n",
    "    metrics = {}\n",
    "    for metric, metric_fn in metric_fns:\n",
    "        metrics[metric] = np.zeros(len(qrels), dtype=np.float32)\n",
    "\n",
    "    # original version\n",
    "    for i, (query_id, relevant_docs) in enumerate(qrels.items()):\n",
    "        query = queries_by_id[query_id]\n",
    "        if index_set:\n",
    "            results = search_fn(query, index_set)\n",
    "        else:\n",
    "            results = search_fn(query)\n",
    "\n",
    "        for metric, metric_fn in metric_fns:\n",
    "            metrics[metric][i] = metric_fn(results, relevant_docs)\n",
    "\n",
    "    final_dict = {}\n",
    "    for metric, metric_vals in metrics.items():\n",
    "        final_dict[metric] = metric_vals.mean()\n",
    "\n",
    "    # fast version for debugging plot\n",
    "    # final_dict = {}\n",
    "    # for metric, metric_vals in metrics.items():\n",
    "    #     final_dict[metric] = metric_vals.mean() + 0.5\n",
    "\n",
    "    return final_dict\n",
    "\n",
    "\n",
    "####"
   ]
  },
  {
   "cell_type": "markdown",
   "metadata": {
    "cell_id": "00105-ba71254a-76a2-4a05-a0a0-148bcf0d753f",
    "deepnote_cell_height": 411.59375,
    "deepnote_cell_type": "markdown",
    "deletable": false,
    "editable": false,
    "nbgrader": {
     "cell_type": "markdown",
     "checksum": "6ea67534f74a8f81e1f504794f641709",
     "grade": false,
     "grade_id": "cell-b156d83a0649cbb4",
     "locked": true,
     "schema_version": 3,
     "solution": false,
     "task": false
    }
   },
   "source": [
    "## Section 5: Analysis (30 points) <a class=\"anchor\" id=\"analysis\"></a>\n",
    "\n",
    "[Back to Part 1](#part1)\n",
    "\n",
    "In the final section of Part1, we will compare the different term-based IR algorithms and different preprocessing configurations and analyze their advantages and disadvantages.\n",
    "\n",
    "### Section 5.1: Plot (20 points)\n",
    "\n",
    "First, gather the results. The results should consider the index set, the different search functions and different metrics. Plot the results in bar charts, per metric, with clear labels.\n",
    "\n",
    "**Rubric:**\n",
    "- Each Metric is plotted: 7 points\n",
    "- Each Method is plotted: 7 points\n",
    "- Clear titles, x label, y labels and legends (if applicable): 6 points"
   ]
  },
  {
   "cell_type": "code",
   "execution_count": 70,
   "metadata": {
    "cell_id": "00106-7e245371-4141-4e15-a142-53d98c682cb7",
    "deepnote_cell_height": 729,
    "deepnote_cell_type": "code",
    "deepnote_output_heights": [
     470.984375
    ],
    "deepnote_to_be_reexecuted": false,
    "deletable": false,
    "execution_millis": 0,
    "execution_start": 1645186542869,
    "nbgrader": {
     "cell_type": "code",
     "checksum": "7e2588a925d13ddf588abe8311dc9cfc",
     "grade": true,
     "grade_id": "cell-46fda42a25863a04",
     "locked": false,
     "points": 20,
     "schema_version": 3,
     "solution": true,
     "task": false
    },
    "source_hash": "1e18f015"
   },
   "outputs": [
    {
     "name": "stdout",
     "output_type": "stream",
     "text": [
      "\n",
      "index set 1:\n",
      "\tBOW\n",
      "{'ERR': 0.055224963,\n",
      " 'MAP': 0.031061875,\n",
      " 'Precision@1': 0.03846154,\n",
      " 'Precision@10': 0.028846154,\n",
      " 'Precision@5': 0.034615386,\n",
      " 'Recall@1': 0.0030982906,\n",
      " 'Recall@10': 0.046087656,\n",
      " 'Recall@5': 0.037126765}\n",
      "\tTF-IDF\n",
      "{'ERR': 0.30517504,\n",
      " 'MAP': 0.17810398,\n",
      " 'Precision@1': 0.3846154,\n",
      " 'Precision@10': 0.17500001,\n",
      " 'Precision@5': 0.21153846,\n",
      " 'Recall@1': 0.07476607,\n",
      " 'Recall@10': 0.22000195,\n",
      " 'Recall@5': 0.1473746}\n",
      "\tNaiveQL\n",
      "{'ERR': 0.02187399,\n",
      " 'MAP': 0.007967688,\n",
      " 'Precision@1': 0.03846154,\n",
      " 'Precision@10': 0.0076923077,\n",
      " 'Precision@5': 0.015384615,\n",
      " 'Recall@1': 0.0037774725,\n",
      " 'Recall@10': 0.008585164,\n",
      " 'Recall@5': 0.008585164}\n",
      "\tQL\n",
      "{'ERR': 0.30951288,\n",
      " 'MAP': 0.16616207,\n",
      " 'Precision@1': 0.34615386,\n",
      " 'Precision@10': 0.19423078,\n",
      " 'Precision@5': 0.25384614,\n",
      " 'Recall@1': 0.046651527,\n",
      " 'Recall@10': 0.21684042,\n",
      " 'Recall@5': 0.17031717}\n",
      "\tBM25\n",
      "{'ERR': 0.37286478,\n",
      " 'MAP': 0.22088145,\n",
      " 'Precision@1': 0.44230768,\n",
      " 'Precision@10': 0.24038464,\n",
      " 'Precision@5': 0.2846154,\n",
      " 'Recall@1': 0.066907376,\n",
      " 'Recall@10': 0.30646548,\n",
      " 'Recall@5': 0.20312355}\n",
      "\n",
      "index set 2:\n",
      "\tBOW\n",
      "{'ERR': 0.11996831,\n",
      " 'MAP': 0.06623642,\n",
      " 'Precision@1': 0.07692308,\n",
      " 'Precision@10': 0.07307692,\n",
      " 'Precision@5': 0.080769226,\n",
      " 'Recall@1': 0.010193701,\n",
      " 'Recall@10': 0.08793031,\n",
      " 'Recall@5': 0.048788056}\n",
      "\tTF-IDF\n",
      "{'ERR': 0.4148428,\n",
      " 'MAP': 0.25480694,\n",
      " 'Precision@1': 0.53846157,\n",
      " 'Precision@10': 0.25,\n",
      " 'Precision@5': 0.33846155,\n",
      " 'Recall@1': 0.10014636,\n",
      " 'Recall@10': 0.29629084,\n",
      " 'Recall@5': 0.23532662}\n",
      "\tNaiveQL\n",
      "{'ERR': 0.06400872,\n",
      " 'MAP': 0.019428182,\n",
      " 'Precision@1': 0.115384616,\n",
      " 'Precision@10': 0.025000002,\n",
      " 'Precision@5': 0.042307694,\n",
      " 'Recall@1': 0.009656762,\n",
      " 'Recall@10': 0.022477273,\n",
      " 'Recall@5': 0.01766958}\n",
      "\tQL\n",
      "{'ERR': 0.40624025,\n",
      " 'MAP': 0.24890317,\n",
      " 'Precision@1': 0.5192308,\n",
      " 'Precision@10': 0.29807693,\n",
      " 'Precision@5': 0.3692308,\n",
      " 'Recall@1': 0.07068591,\n",
      " 'Recall@10': 0.3002048,\n",
      " 'Recall@5': 0.21136688}\n",
      "\tBM25\n",
      "{'ERR': 0.426171,\n",
      " 'MAP': 0.3003765,\n",
      " 'Precision@1': 0.5192308,\n",
      " 'Precision@10': 0.31923077,\n",
      " 'Precision@5': 0.40384614,\n",
      " 'Recall@1': 0.110182874,\n",
      " 'Recall@10': 0.34614927,\n",
      " 'Recall@5': 0.25962994}\n"
     ]
    },
    {
     "data": {
      "image/png": "[encoded data removed]",
      "text/plain": [
       "<Figure size 1008x504 with 8 Axes>"
      ]
     },
     "metadata": {
      "needs_background": "light"
     },
     "output_type": "display_data"
    }
   ],
   "source": [
    "from pprint import pprint\n",
    "# YOUR CODE HERE\n",
    "# takes roughly 30 secs to run\n",
    "fig, axes = plt.subplots(2, 4, figsize=(14, 7), sharey=False)\n",
    "axes = axes.flatten()\n",
    "\n",
    "# need this to make side by side bars\n",
    "N = len(list_of_search_fns)\n",
    "method_loc = np.arange(N)\n",
    "bar_width = 0.25\n",
    "\n",
    "for j, (index_set) in enumerate([1, 2]):\n",
    "    print(f\"\\nindex set {index_set}:\")\n",
    "    results = {}\n",
    "\n",
    "    for search_alg, search_fn in list_of_search_fns:\n",
    "        results[search_alg] = evaluate_search_fn(\n",
    "            search_fn, list_of_metrics, index_set=index_set\n",
    "        )\n",
    "        print(f\"\\t{search_alg}\")\n",
    "        pprint(results[search_alg])\n",
    "\n",
    "    for i, (metric_name, _metric_fn) in enumerate(list_of_metrics):\n",
    "        metric_results = {k: v[metric_name] for k, v in results.items()}\n",
    "        labels = list(metric_results.keys())\n",
    "        values = [metric_results[label] for label in labels]\n",
    "\n",
    "        axes[i].grid(True, which=\"major\", axis=\"y\", alpha=0.35)\n",
    "        if i % 4 == 0:\n",
    "            axes[i].set_ylabel(\"Average Metric Value\")\n",
    "        if j == 0:\n",
    "            axes[i].bar(method_loc, values, bar_width, label=f\"index set {index_set}\")\n",
    "        else:\n",
    "            axes[i].bar(\n",
    "                method_loc + bar_width,\n",
    "                values,\n",
    "                bar_width,\n",
    "                label=f\"index set {index_set}\",\n",
    "            )\n",
    "            axes[i].set_xticks(method_loc + bar_width / 2)\n",
    "            axes[i].set_xticklabels(labels)\n",
    "            axes[i].set_title(metric_name)\n",
    "            if i == 7:\n",
    "                axes[i].legend()\n",
    "\n",
    "fig.suptitle(\"Comparison of different term-based IR algorithms across various Metrics\")\n",
    "fig.tight_layout(rect=[0, 0.03, 1, 0.95])\n",
    "plt.show()"
   ]
  },
  {
   "cell_type": "markdown",
   "metadata": {
    "cell_id": "00107-1573dd7e-069e-42e6-9991-2e09c5ca522c",
    "deepnote_cell_height": 146.140625,
    "deepnote_cell_type": "markdown",
    "deletable": false,
    "editable": false,
    "nbgrader": {
     "cell_type": "markdown",
     "checksum": "e88c444a0acf4e398c65e289169b75f7",
     "grade": false,
     "grade_id": "cell-8aabe3bcf265deb0",
     "locked": true,
     "points": 10,
     "schema_version": 3,
     "solution": false,
     "task": true
    }
   },
   "source": [
    "---\n",
    "### Section 5.2: Summary (10 points)\n",
    "Write a summary of what you observe in the results.\n",
    "Your summary should compare results across the 2 indices and the methods being used. State what you expected to see in the results, followed by either supporting evidence *or* justify why the results did not support your expectations."
   ]
  },
  {
   "cell_type": "markdown",
   "metadata": {
    "cell_id": "00108-6173a881-f376-4ab8-afa5-feefc85830a5",
    "deepnote_cell_height": 52.390625,
    "deepnote_cell_type": "markdown"
   },
   "source": [
    "Regardless of the algorithm used results are universally better across all the metrics when using preprocessing - in particular stemming and stop-word removal. This is in line with expectations based on a large body of existing literature in the field of Information retrieval. A likely explanation for the better performance is that stemming collapses index size which increases the likelihood that a query term will be found in a document. Similarly stop word-removal allows models to focus on more relevant words and could be seen as a way of denoising the documents and queries in order to improve performance.\n",
    "\n",
    "In terms of performace it appears that both vector space and lexical models share similar performance across metrics so the choice of what model to use would be largely task dependent and determined by which metric we want to optimise for. For example TF-IDF has better Precision@1 compared to QL which makes it more suitable for tasks such as question answering where a user is looking for a specific highly relevant document but does not care about retrieving the entire body of relevant information. QL on the otherhand outperforms TF-IDF in Precision@5 and Precision@10 which would make it a more suitable choice for example for displaying the first page of results of a search engine.\n",
    "\n",
    "It is worth pointing out that the naive implementations of both vector space and lexical models - BOW and NaiveQL have very poor performance. In the case of BOW that is somewhat surprising because intuitively it seems reasonable to assume that counting the occurence of each query token in the target documents should provide some basic indication of relevance. We demonstrate empirically, however, that token count alone is a very poor prediction of a document's relevance to a query. The poor performance of NaiveQL on the other hand is not surprising given a common problem that naive language models suffer from - namely that unseen words result in zero probability causing the entire product of probabilities to be zero. This is a pervasive problem in NLP due to the sparsity of natural lanugage. For both vector space and lexical models are significantly improved by TF-IDF and QL respectively.\n",
    "\n",
    "Finally, we see that the empirically derived approach of BM25 is almost universally better than any of the other models with the notable exception of Precision@1 where TF-IDF is marginally better.\n"
   ]
  },
  {
   "cell_type": "markdown",
   "metadata": {
    "cell_id": "00109-6235ead6-3d31-4a02-b36d-704dfc8e6efb",
    "deepnote_cell_height": 679.140625,
    "deepnote_cell_type": "markdown",
    "deletable": false,
    "editable": false,
    "nbgrader": {
     "cell_type": "markdown",
     "checksum": "b3eb77be74eecca205fc7b47316d1627",
     "grade": false,
     "grade_id": "cell-bb60dd5c092d0f2e",
     "locked": true,
     "schema_version": 3,
     "solution": false,
     "task": false
    }
   },
   "source": [
    "---\n",
    "---\n",
    "# Part 2: Semantic-based Matching (85 points) <a class=\"anchor\" id=\"part2\"></a>\n",
    "\n",
    "[Back to top](#top)\n",
    "\n",
    "We will now experiment with methods that go beyond lexical methods like TF-IDF, which operate at the word level and are high dimensional and sparse, and look at methods which constructs low dimensional dense representations of queries and documents.\n",
    "\n",
    "Since these low-dimensional methods have a higher time complexity, they are typically used in conjunction with methods like BM-25. That is, instead of searching through potentially million documents to find matches using low dimensional vectors, a list of K documents are retrieved using BM25, and then **re-ranked** using the other method. This is the method that is going to be applied in the following exercises.\n",
    "\n",
    "LSI/LDA takes documents that are similar on a semantic level - for instance, if they are describing the same topic - and projects them into nearby vectors, despite having low lexical overlap.\n",
    "\n",
    "In this assignment, you will use `gensim` to create LSI/LDA models and use them in re-ranking.\n",
    "\n",
    "**Note**: The following exercises only uses `doc_repr_2` and `config_2`\n",
    "\n",
    "Table of contents:\n",
    "- [Section 6: LSI](#lsi) (15 points)\n",
    "- [Section 7: LDA](#lda) (10 points)\n",
    "- [Section 8: Word2Vec/Doc2Vec](#2vec) (20 points)\n",
    "- [Section 8: Re-ranking](#reranking) (10 points)\n",
    "- [Section 9: Re-ranking Evaluation](#reranking_eval) (30 points)"
   ]
  },
  {
   "cell_type": "markdown",
   "metadata": {
    "cell_id": "00110-5bcb1bc8-cec9-41c8-af84-5814c41bcace",
    "deepnote_cell_height": 204.59375,
    "deepnote_cell_type": "markdown",
    "deletable": false,
    "editable": false,
    "nbgrader": {
     "cell_type": "markdown",
     "checksum": "f7c7b2cab82f576ed0acf836ca57171c",
     "grade": false,
     "grade_id": "cell-6b2c81e7a8abd180",
     "locked": true,
     "schema_version": 3,
     "solution": false,
     "task": false
    }
   },
   "source": [
    "---\n",
    "## Section 6: Latent Semantic Indexing (LSI) (15 points) <a class=\"anchor\" id=\"lsi\"></a>\n",
    "\n",
    "[Back to Part 2](#part2)\n",
    "\n",
    "LSI is one of the methods to embed the queries and documents into vectors. It is based on a method similar to Principal Component Analysis (PCA) for obtaining a dense concept matrix out of the sparse term-document matrix.\n",
    "\n",
    "See [wikipedia](https://en.wikipedia.org/wiki/Latent_semantic_analysis), particularly [#Mathematics_of_LSI](https://en.wikipedia.org/wiki/Latent_semantic_analysis#Mathematics_of_LSI)."
   ]
  },
  {
   "cell_type": "code",
   "execution_count": 71,
   "metadata": {
    "cell_id": "00111-09fa8f16-3577-43a0-902e-8a9dffdf4d2a",
    "deepnote_cell_height": 189,
    "deepnote_cell_type": "code",
    "deepnote_to_be_reexecuted": false,
    "deletable": false,
    "editable": false,
    "execution_millis": 735,
    "execution_start": 1645186542920,
    "nbgrader": {
     "cell_type": "code",
     "checksum": "c17ee75319cb517e2bf48ec3d9efc329",
     "grade": false,
     "grade_id": "cell-59913daee47f680d",
     "locked": true,
     "schema_version": 3,
     "solution": false,
     "task": false
    },
    "source_hash": "a97e055a"
   },
   "outputs": [],
   "source": [
    "from gensim.corpora import Dictionary\n",
    "from gensim.models import LdaModel, LsiModel, Word2Vec\n",
    "from gensim.models.doc2vec import Doc2Vec, TaggedDocument\n",
    "from gensim import downloader as g_downloader\n",
    "\n",
    "# gensim uses logging, so set it up\n",
    "import logging\n",
    "\n",
    "logging.basicConfig(\n",
    "    format=\"%(asctime)s : %(levelname)s : %(message)s\", level=logging.INFO\n",
    ")"
   ]
  },
  {
   "cell_type": "markdown",
   "metadata": {
    "cell_id": "00112-b7a2dfe3-d382-44dd-a7a6-e2f4a6feee5c",
    "deepnote_cell_height": 235.875,
    "deepnote_cell_type": "markdown",
    "deletable": false,
    "editable": false,
    "nbgrader": {
     "cell_type": "markdown",
     "checksum": "5fce140c546759b54a9fc060901ae77c",
     "grade": false,
     "grade_id": "cell-3644faff4976598a",
     "locked": true,
     "schema_version": 3,
     "solution": false,
     "task": false
    }
   },
   "source": [
    "---\n",
    "### Section 6.1: Cosine Similarity (5 points)<a class=\"anchor\" id=\"cosing_sim\"></a>\n",
    "Before we begin, let us first define our method of similarity for the LSI model, the cosine similarity:\n",
    "\n",
    "$$\\text{similarity} = \\cos(\\theta) = {\\mathbf{A} \\cdot \\mathbf{B} \\over \\|\\mathbf{A}\\| \\|\\mathbf{B}\\|} = \\frac{ \\sum\\limits_{i=1}^{n}{A_i  B_i} }{ \\sqrt{\\sum\\limits_{i=1}^{n}{A_i^2}}  \\sqrt{\\sum\\limits_{i=1}^{n}{B_i^2}} }$$\n",
    "\n",
    "Since we are using gensim, the types of vectors returned by their classes are of the form defined below (they are not just simple vectors):"
   ]
  },
  {
   "cell_type": "code",
   "execution_count": 72,
   "metadata": {
    "cell_id": "00113-b48d2608-3784-4f64-9344-fe76553f9aaf",
    "deepnote_cell_height": 135,
    "deepnote_cell_type": "code",
    "deepnote_to_be_reexecuted": false,
    "deletable": false,
    "editable": false,
    "execution_millis": 16,
    "execution_start": 1645186543665,
    "nbgrader": {
     "cell_type": "code",
     "checksum": "4e340e1a1d546f430c018fd0760e707a",
     "grade": false,
     "grade_id": "cell-3995a50f951314d5",
     "locked": true,
     "schema_version": 3,
     "solution": false,
     "task": false
    },
    "source_hash": "214da9c9"
   },
   "outputs": [],
   "source": [
    "# 1, 2, 3 are either latent dimensions (LSI), or topics (LDA)\n",
    "# The second value in each tuple is a number (LSI) or a probability (LDA)\n",
    "example_vec_1 = [(1, 0.2), (2, 0.3), (3, 0.4)]\n",
    "example_vec_2 = [(1, 0.2), (2, 0.7), (3, 0.4)]"
   ]
  },
  {
   "cell_type": "markdown",
   "metadata": {
    "cell_id": "00114-5b3ead96-66da-40ac-9080-3669fc2631f3",
    "deepnote_cell_height": 75.796875,
    "deepnote_cell_type": "markdown",
    "deletable": false,
    "editable": false,
    "nbgrader": {
     "cell_type": "markdown",
     "checksum": "20832fd4f579f49ae204b0efee02edd1",
     "grade": false,
     "grade_id": "cell-5e54d581858dc8f7",
     "locked": true,
     "schema_version": 3,
     "solution": false,
     "task": false
    }
   },
   "source": [
    "---\n",
    "**Implementation (2+3 points):**\n",
    "Now, implement the `dot product` operation on these types of vectors and using this operator, implement the `cosine similarity` (don't forget: two functions to implement!):"
   ]
  },
  {
   "cell_type": "code",
   "execution_count": 73,
   "metadata": {
    "cell_id": "00115-d8dc29b5-3912-471e-90a3-6a9db763c917",
    "deepnote_cell_height": 531,
    "deepnote_cell_type": "code",
    "deepnote_to_be_reexecuted": false,
    "deletable": false,
    "execution_millis": 10,
    "execution_start": 1645186543706,
    "nbgrader": {
     "cell_type": "code",
     "checksum": "06a712ee75fc213a21c5f0067fd8fe28",
     "grade": false,
     "grade_id": "cell-0e8189f5f93de33f",
     "locked": false,
     "schema_version": 3,
     "solution": true,
     "task": false
    },
    "source_hash": "f02e6495"
   },
   "outputs": [],
   "source": [
    "# TODO: Implement this! (2 points)\n",
    "def dot(vec_1, vec_2):\n",
    "    \"\"\"\n",
    "    vec_1 and vec_2 are of the form: [(int, float), (int, float), ...]\n",
    "    Return the dot product of two such vectors, computed only on the floats\n",
    "    You can assume that the lengths of the vectors are the same, and the dimensions are aligned\n",
    "        i.e you won't get: vec_1 = [(1, 0.2)] ; vec_2 = [(2, 0.3)]\n",
    "                            (dimensions are unaligned and lengths are different)\n",
    "    \"\"\"\n",
    "    # YOUR CODE HERE\n",
    "    return np.dot([x[1] for x in vec_1], [y[1] for y in vec_2])\n",
    "\n",
    "\n",
    "# TODO: Implement this! (3 points)\n",
    "def cosine_sim(vec_1, vec_2):\n",
    "\n",
    "    # YOUR CODE HERE\n",
    "    # check for empty or 0-vectored vectors\n",
    "    if all([el == 0 for dim, el in vec_1]) or all([el == 0 for dim, el in vec_2]):\n",
    "        return 0\n",
    "    \n",
    "    # # Adding a custom function to compute the modulus\n",
    "    def mod(\n",
    "        vec,\n",
    "    ):\n",
    "        # Note: This still assumes that the vector is in the form :\n",
    "        # [(int, float), (int, float), ...]\n",
    "        return np.sqrt(sum(x[1] ** 2 for x in vec))\n",
    "    \n",
    "    # actually compute similarity\n",
    "    return dot(vec_1, vec_2) / (mod(vec_1) * mod(vec_2))"
   ]
  },
  {
   "cell_type": "code",
   "execution_count": 74,
   "metadata": {
    "cell_id": "00116-d4733e51-dfd0-4e9c-9240-9382dd06a589",
    "deepnote_cell_height": 224.5625,
    "deepnote_cell_type": "code",
    "deepnote_to_be_reexecuted": false,
    "deletable": false,
    "editable": false,
    "execution_millis": 11246808,
    "execution_start": 1645186543759,
    "nbgrader": {
     "cell_type": "code",
     "checksum": "d22a4a7325ba7815a808390388f534a1",
     "grade": true,
     "grade_id": "cell-b25d04ed6b79fd35",
     "locked": true,
     "points": 2,
     "schema_version": 3,
     "solution": false,
     "task": false
    },
    "source_hash": "f54a94bb"
   },
   "outputs": [
    {
     "name": "stdout",
     "output_type": "stream",
     "text": [
      "vectors: ([(1, 0.2), (2, 0.3), (3, 0.4)], [(1, 0.2), (2, 0.7), (3, 0.4)])\n",
      "dot product = 0.41000000000000003\n",
      "cosine similarity = 0.9165587597202866\n"
     ]
    }
   ],
   "source": [
    "##### Function check\n",
    "print(f\"vectors: {(example_vec_1,example_vec_2)}\")\n",
    "print(f\"dot product = {dot(example_vec_1,example_vec_2)}\")\n",
    "print(f\"cosine similarity = {cosine_sim(example_vec_1,example_vec_2)}\")\n",
    "#####"
   ]
  },
  {
   "cell_type": "code",
   "execution_count": 75,
   "metadata": {
    "cell_id": "00117-1b58cb35-2d08-4e28-8f2b-6de011617cf4",
    "deepnote_cell_height": 81,
    "deepnote_cell_type": "code",
    "deepnote_to_be_reexecuted": false,
    "deletable": false,
    "editable": false,
    "execution_millis": 11246825,
    "execution_start": 1645186543833,
    "nbgrader": {
     "cell_type": "code",
     "checksum": "0744131724ce76b1b3f163b4bae5f700",
     "grade": true,
     "grade_id": "cell-ae3c4466866ace77",
     "locked": true,
     "points": 3,
     "schema_version": 3,
     "solution": false,
     "task": false
    },
    "source_hash": "28110d30"
   },
   "outputs": [],
   "source": [
    "#### Please do not change this. This cell is used for grading."
   ]
  },
  {
   "cell_type": "markdown",
   "metadata": {
    "cell_id": "00118-a369a32d-5d88-4db7-b799-15d230e97a18",
    "deepnote_cell_height": 123.796875,
    "deepnote_cell_type": "markdown",
    "deletable": false,
    "editable": false,
    "nbgrader": {
     "cell_type": "markdown",
     "checksum": "9b123f599f9ea372d14676e23f1c6a52",
     "grade": false,
     "grade_id": "cell-4b2534067c44fcdf",
     "locked": true,
     "schema_version": 3,
     "solution": false,
     "task": false
    }
   },
   "source": [
    "---\n",
    "### Section 6.2: LSI Retrieval (10 points)<a class=\"anchor\" id=\"lsi_retrieval\"></a>\n",
    "LSI retrieval is simply ranking the documents based on their cosine similarity to the query vector.\n",
    "First, let's write a parent class for vector-based retrieval models:"
   ]
  },
  {
   "cell_type": "code",
   "execution_count": 76,
   "metadata": {
    "cell_id": "00119-814ff936-077e-4cc4-993b-e4228ac65973",
    "deepnote_cell_height": 1017,
    "deepnote_cell_type": "code",
    "deepnote_to_be_reexecuted": false,
    "deletable": false,
    "editable": false,
    "execution_millis": 11246845,
    "execution_start": 1645186543834,
    "nbgrader": {
     "cell_type": "code",
     "checksum": "ecc111d58182570e2252b8ef5d6b02af",
     "grade": false,
     "grade_id": "cell-937936cea18711ee",
     "locked": true,
     "schema_version": 3,
     "solution": false,
     "task": false
    },
    "source_hash": "c421a787"
   },
   "outputs": [],
   "source": [
    "class VectorSpaceRetrievalModel:\n",
    "    \"\"\"\n",
    "    Parent class for Dense Vector Retrieval models\n",
    "    \"\"\"\n",
    "\n",
    "    def __init__(self, doc_repr):\n",
    "        \"\"\"\n",
    "        document_collection:\n",
    "            [\n",
    "                (doc_id_1, [token 1, token 2, ...]),\n",
    "                (doc_id_2, [token 1, token 2, ....])\n",
    "                ...\n",
    "            ]\n",
    "\n",
    "        \"\"\"\n",
    "        self.doc_repr = doc_repr\n",
    "        self.documents = [_[1] for _ in self.doc_repr]\n",
    "\n",
    "        # construct a dictionary\n",
    "        self.dictionary = Dictionary(self.documents)\n",
    "        # Filter out words that occur less than 20 documents, or more than 50% of the documents.\n",
    "        self.dictionary.filter_extremes(no_below=10)\n",
    "        self.corpus = [self.dictionary.doc2bow(doc) for doc in self.documents]\n",
    "\n",
    "        # Make a index to word dictionary.\n",
    "        temp = self.dictionary[0]  # This is only to \"load\" the dictionary.\n",
    "        self.id2word = self.dictionary.id2token\n",
    "\n",
    "        # this is set by the train_model function\n",
    "        self.model = None\n",
    "\n",
    "    def vectorize_documents(self):\n",
    "        \"\"\"\n",
    "        Returns a doc_id -> vector dictionary\n",
    "        \"\"\"\n",
    "        vectors = {}\n",
    "        for (doc_id, _), cc in zip(self.doc_repr, self.corpus):\n",
    "            vectors[doc_id] = self.model[cc]\n",
    "        return vectors\n",
    "\n",
    "    def vectorize_query(self, query):\n",
    "        # Note the use of config_2 here!\n",
    "        query = process_text(query, **config_2)\n",
    "        query_vector = self.dictionary.doc2bow(query)\n",
    "        return self.model[query_vector]\n",
    "\n",
    "    def train_model(self):\n",
    "        \"\"\"\n",
    "        Trains a model and sets the 'self.model' variable.\n",
    "        Make sure to use the variables created in the __init__ method.\n",
    "        e.g the variables which may be useful: {corpus, dictionary, id2word}\n",
    "        \"\"\"\n",
    "        raise NotImplementedError()"
   ]
  },
  {
   "cell_type": "markdown",
   "metadata": {
    "cell_id": "00120-41460ee2-1ba5-4e9b-8779-fc6d4bfda152",
    "deepnote_cell_height": 181,
    "deepnote_cell_type": "markdown",
    "deletable": false,
    "editable": false,
    "nbgrader": {
     "cell_type": "markdown",
     "checksum": "ff161eefd9b81b768cd6361bc1a502b0",
     "grade": false,
     "grade_id": "cell-704a18c2f80cd60c",
     "locked": true,
     "schema_version": 3,
     "solution": false,
     "task": false
    }
   },
   "source": [
    "---\n",
    "**Implementation (5 points):**\n",
    "Implement the `train_model` method in the following class (note that this is only one line of code in `gensim`!). Ensure that the parameters defined in the `__init__` method are not changed, and are *used in the `train_method` function*. Normally, the hyperaparameter space will be searched using grid search / other methods - in this assignment we have provided the hyperparameters for you.\n",
    "\n",
    "The last two lines of code train an LSI model on the list of documents which have been stemmed, lower-cased and have stopwords removed."
   ]
  },
  {
   "cell_type": "code",
   "execution_count": 77,
   "metadata": {
    "cell_id": "00121-9056c69d-5f3f-4d7d-bdd1-1593996f65a1",
    "deepnote_cell_height": 333,
    "deepnote_cell_type": "code",
    "deepnote_to_be_reexecuted": false,
    "deletable": false,
    "execution_millis": 0,
    "execution_start": 1645186543877,
    "nbgrader": {
     "cell_type": "code",
     "checksum": "0e90eedc27c248bc1ae050518a46a46c",
     "grade": false,
     "grade_id": "cell-307682c9089f15d6",
     "locked": false,
     "schema_version": 3,
     "solution": true,
     "task": false
    },
    "source_hash": "bab726fa"
   },
   "outputs": [],
   "source": [
    "# TODO: Implement this! (5 points)\n",
    "class LsiRetrievalModel(VectorSpaceRetrievalModel):\n",
    "    def __init__(self, doc_repr):\n",
    "        super().__init__(doc_repr)\n",
    "\n",
    "        self.num_topics = 100\n",
    "        self.chunksize = 2000\n",
    "\n",
    "    def train_model(self):\n",
    "        self.model = LsiModel(\n",
    "            corpus=self.corpus,\n",
    "            id2word=self.id2word,\n",
    "            num_topics=self.num_topics,\n",
    "            chunksize=self.chunksize,\n",
    "        )"
   ]
  },
  {
   "cell_type": "code",
   "execution_count": 78,
   "metadata": {
    "cell_id": "00122-3bd0788f-3ce1-4afe-8344-6361027be847",
    "collapsed": true,
    "deepnote_cell_height": 1451,
    "deepnote_cell_type": "code",
    "deepnote_output_heights": [
     null,
     611
    ],
    "deepnote_to_be_reexecuted": false,
    "deletable": false,
    "editable": false,
    "execution_millis": 2220,
    "execution_start": 1645186543878,
    "jupyter": {
     "outputs_hidden": true
    },
    "nbgrader": {
     "cell_type": "code",
     "checksum": "00399cfe13d60cb4beed1271e36004b0",
     "grade": true,
     "grade_id": "cell-5ce512650c1b2dfb",
     "locked": true,
     "points": 0,
     "schema_version": 3,
     "solution": false,
     "task": false
    },
    "source_hash": "31499d4f",
    "tags": []
   },
   "outputs": [
    {
     "name": "stderr",
     "output_type": "stream",
     "text": [
      "2022-02-28 17:10:21,209 : INFO : adding document #0 to Dictionary(0 unique tokens: [])\n",
      "2022-02-28 17:10:21,422 : INFO : built Dictionary(5937 unique tokens: ['-', 'algebra', 'intern', 'languag', 'preliminari']...) from 3204 documents (total 115969 corpus positions)\n",
      "2022-02-28 17:10:21,431 : INFO : discarding 4740 tokens: [('repeat', 8), ('glossari', 7), ('inspect', 8), ('uncol', 2), ('rung', 9), ('secant', 2), ('.', 1603), ('acceler', 6), ('diverg', 3), ('induc', 9)]...\n",
      "2022-02-28 17:10:21,432 : INFO : keeping 1197 tokens which were in no less than 10 and no more than 1602 (=50.0%) documents\n",
      "2022-02-28 17:10:21,436 : INFO : resulting dictionary: Dictionary(1197 unique tokens: ['-', 'algebra', 'intern', 'languag', 'preliminari']...)\n",
      "2022-02-28 17:10:21,518 : INFO : using serial LSI version on this node\n",
      "2022-02-28 17:10:21,518 : INFO : updating model with new documents\n",
      "2022-02-28 17:10:21,519 : INFO : preparing a new chunk of documents\n",
      "2022-02-28 17:10:21,532 : INFO : using 100 extra samples and 2 power iterations\n",
      "2022-02-28 17:10:21,534 : INFO : 1st phase: constructing (1197, 200) action matrix\n",
      "2022-02-28 17:10:21,552 : INFO : orthonormalizing (1197, 200) action matrix\n",
      "2022-02-28 17:10:21,627 : INFO : 2nd phase: running dense svd on (200, 2000) matrix\n",
      "2022-02-28 17:10:21,689 : INFO : computing the final decomposition\n",
      "2022-02-28 17:10:21,690 : INFO : keeping 100 factors (discarding 13.461% of energy spectrum)\n",
      "2022-02-28 17:10:21,693 : INFO : processed documents up to #2000\n",
      "2022-02-28 17:10:21,695 : INFO : topic #0(152.127): 0.741*\",\" + 0.342*\"-\" + 0.211*\"system\" + 0.204*\"program\" + 0.192*\"comput\" + 0.146*\"(\" + 0.127*\"languag\" + 0.108*\")\" + 0.084*\"gener\" + 0.083*\"data\"\n",
      "2022-02-28 17:10:21,697 : INFO : topic #1(60.600): -0.607*\"(\" + -0.434*\")\" + -0.366*\"algorithm\" + -0.300*\"-\" + 0.237*\",\" + 0.213*\"system\" + 0.132*\"comput\" + -0.096*\"[\" + 0.093*\"program\" + -0.084*\"])\"\n",
      "2022-02-28 17:10:21,698 : INFO : topic #2(57.438): -0.744*\"-\" + 0.452*\",\" + -0.263*\"system\" + 0.214*\"(\" + 0.166*\")\" + -0.107*\"time\" + -0.105*\"program\" + 0.094*\"algorithm\" + -0.068*\"comput\" + -0.067*\"share\"\n",
      "2022-02-28 17:10:21,700 : INFO : topic #3(48.370): 0.483*\"system\" + 0.375*\"program\" + 0.367*\"comput\" + -0.363*\"-\" + -0.308*\",\" + 0.212*\"(\" + 0.168*\")\" + 0.147*\"algorithm\" + -0.144*\"languag\" + 0.119*\"time\"\n",
      "2022-02-28 17:10:21,701 : INFO : topic #4(45.710): 0.489*\"comput\" + -0.475*\"languag\" + -0.428*\"program\" + 0.238*\"method\" + 0.141*\"problem\" + -0.121*\"system\" + -0.109*\")\" + 0.107*\"equat\" + 0.101*\"algorithm\" + -0.099*\"(\"\n",
      "2022-02-28 17:10:21,702 : INFO : preparing a new chunk of documents\n",
      "2022-02-28 17:10:21,714 : INFO : using 100 extra samples and 2 power iterations\n",
      "2022-02-28 17:10:21,715 : INFO : 1st phase: constructing (1197, 200) action matrix\n",
      "2022-02-28 17:10:21,726 : INFO : orthonormalizing (1197, 200) action matrix\n",
      "2022-02-28 17:10:21,808 : INFO : 2nd phase: running dense svd on (200, 1204) matrix\n",
      "2022-02-28 17:10:21,845 : INFO : computing the final decomposition\n",
      "2022-02-28 17:10:21,846 : INFO : keeping 100 factors (discarding 14.019% of energy spectrum)\n",
      "2022-02-28 17:10:21,850 : INFO : merging projections: (1197, 100) + (1197, 100)\n",
      "2022-02-28 17:10:21,878 : INFO : keeping 100 factors (discarding 8.165% of energy spectrum)\n",
      "2022-02-28 17:10:21,886 : INFO : processed documents up to #3204\n",
      "2022-02-28 17:10:21,888 : INFO : topic #0(225.136): 0.759*\",\" + 0.337*\"-\" + 0.196*\"system\" + 0.186*\"program\" + 0.166*\"comput\" + 0.139*\"(\" + 0.103*\")\" + 0.103*\"algorithm\" + 0.099*\"languag\" + 0.087*\"time\"\n",
      "2022-02-28 17:10:21,889 : INFO : topic #1(87.805): 0.613*\"-\" + -0.399*\",\" + 0.399*\"(\" + 0.326*\"algorithm\" + 0.293*\")\" + -0.129*\"system\" + -0.107*\"program\" + 0.085*\"method\" + 0.077*\"time\" + 0.062*\"1\"\n",
      "2022-02-28 17:10:21,891 : INFO : topic #2(81.909): 0.550*\"-\" + -0.434*\"(\" + 0.355*\"system\" + -0.321*\")\" + -0.291*\",\" + -0.266*\"algorithm\" + 0.146*\"program\" + 0.123*\"comput\" + 0.078*\"time\" + -0.064*\"[\"\n",
      "2022-02-28 17:10:21,892 : INFO : topic #3(72.433): -0.693*\"program\" + 0.339*\",\" + 0.279*\"-\" + -0.251*\"(\" + -0.221*\"system\" + -0.214*\"languag\" + -0.204*\")\" + -0.160*\"comput\" + -0.099*\"data\" + -0.056*\"execut\"\n",
      "2022-02-28 17:10:21,894 : INFO : topic #4(68.523): -0.673*\"system\" + 0.453*\"program\" + 0.254*\"languag\" + 0.212*\"-\" + -0.179*\"comput\" + -0.165*\"(\" + -0.121*\")\" + -0.115*\"model\" + 0.101*\",\" + -0.098*\"algorithm\"\n"
     ]
    },
    {
     "data": {
      "text/plain": [
       "[(0, 0.015215651663677237),\n",
       " (1, -0.01626599630179909),\n",
       " (2, -0.00018496404996640571),\n",
       " (3, -0.0017932372479559594),\n",
       " (4, -0.009423084205957406),\n",
       " (5, -0.004743227969404296),\n",
       " (6, 0.027137099594098962),\n",
       " (7, 0.016651042854242917),\n",
       " (8, -0.03193888380630042),\n",
       " (9, -0.0004101300220712683),\n",
       " (10, 0.0022146401923556973),\n",
       " (11, -0.017404064257970513),\n",
       " (12, 0.00032177539669762424),\n",
       " (13, 0.0015870630807148893),\n",
       " (14, 0.004209293498259513),\n",
       " (15, 0.005259959747375725),\n",
       " (16, 0.005584166994398521),\n",
       " (17, 0.0023521475900892055),\n",
       " (18, -0.017286451420968036),\n",
       " (19, 0.020290864223535696),\n",
       " (20, -0.010578554944861773),\n",
       " (21, -0.01417908861456755),\n",
       " (22, 0.04859244330718009),\n",
       " (23, 0.024199993186833902),\n",
       " (24, -0.010475419054093875),\n",
       " (25, -0.008571241404943579),\n",
       " (26, 0.005132414680264036),\n",
       " (27, 0.07701471931576025),\n",
       " (28, -0.06304991507100298),\n",
       " (29, 0.031167089980686118),\n",
       " (30, 0.04368721832932264),\n",
       " (31, 0.0416279844454323),\n",
       " (32, -0.07173006721250749),\n",
       " (33, 0.04994235056455414),\n",
       " (34, -0.02253058631991714),\n",
       " (35, 0.06475280899205449),\n",
       " (36, 0.03883943273941831),\n",
       " (37, -0.015356280261659161),\n",
       " (38, -0.06216693228276436),\n",
       " (39, 0.018074772390198772),\n",
       " (40, -0.045006304727517266),\n",
       " (41, -0.03684332423401521),\n",
       " (42, 0.017533914442336568),\n",
       " (43, 0.016626489797189187),\n",
       " (44, 0.01136436722759322),\n",
       " (45, 0.05887667647908939),\n",
       " (46, -0.013928341123176133),\n",
       " (47, 0.016321663894682162),\n",
       " (48, 0.021307625748020087),\n",
       " (49, 0.024786547834186566),\n",
       " (50, 0.013684334355436378),\n",
       " (51, 0.05184082550378151),\n",
       " (52, -0.01149001272618859),\n",
       " (53, 0.006000026810227142),\n",
       " (54, 0.041566093619048054),\n",
       " (55, -0.014063783742871528),\n",
       " (56, 0.01966839567899762),\n",
       " (57, -0.024659164272840015),\n",
       " (58, 0.00561358472456381),\n",
       " (59, 0.034245278148230834),\n",
       " (60, 0.018097830850609058),\n",
       " (61, -0.04280764519523857),\n",
       " (62, -0.01978911594889664),\n",
       " (63, 0.05001425143834241),\n",
       " (64, -0.02484114902172938),\n",
       " (65, 0.06646434196894893),\n",
       " (66, -0.014611993758351692),\n",
       " (67, -0.01015116885598425),\n",
       " (68, -0.04852629360957541),\n",
       " (69, -0.03663887870161768),\n",
       " (70, -0.04800916150765875),\n",
       " (71, 0.010029561483892209),\n",
       " (72, 0.0397008635783283),\n",
       " (73, -0.07609031442283273),\n",
       " (74, -0.055902738443653885),\n",
       " (75, 0.041494164937465446),\n",
       " (76, 0.033940066432770914),\n",
       " (77, 0.01654012145559714),\n",
       " (78, 0.027188016981054892),\n",
       " (79, 0.04549970307121039),\n",
       " (80, -0.030500408427170958),\n",
       " (81, -0.013680787884608608),\n",
       " (82, 0.05633265755513677),\n",
       " (83, -0.030937975388088172),\n",
       " (84, 0.001130994247975678),\n",
       " (85, 0.011475726446211244),\n",
       " (86, -0.022842583694557314),\n",
       " (87, 0.0162376279689054),\n",
       " (88, -0.06649123786331343),\n",
       " (89, -0.09021867577266757),\n",
       " (90, 0.010753308871251614),\n",
       " (91, 0.04271034653793337),\n",
       " (92, -0.0473570458256762),\n",
       " (93, 0.008553525795799027),\n",
       " (94, 0.024474104371465823),\n",
       " (95, -0.03382269951753758),\n",
       " (96, -0.010825005848476016),\n",
       " (97, 0.02146868819766193),\n",
       " (98, -0.019034951053639743),\n",
       " (99, -0.01668057765865389)]"
      ]
     },
     "execution_count": 78,
     "metadata": {},
     "output_type": "execute_result"
    }
   ],
   "source": [
    "##### Function check\n",
    "lsi = LsiRetrievalModel(doc_repr_2)\n",
    "lsi.train_model()\n",
    "\n",
    "# you can now get an LSI vector for a given query in the following way:\n",
    "lsi.vectorize_query(\"report\")\n",
    "#####"
   ]
  },
  {
   "cell_type": "markdown",
   "metadata": {
    "cell_id": "00123-e372e3ee-50ec-4225-ab44-bb4d14ac8190",
    "deepnote_cell_height": 52.390625,
    "deepnote_cell_type": "markdown",
    "deletable": false,
    "editable": false,
    "nbgrader": {
     "cell_type": "markdown",
     "checksum": "7116bb9f576c5bb04934e1d59c51d729",
     "grade": false,
     "grade_id": "cell-4c5eeb557b4fca2f",
     "locked": true,
     "points": 5,
     "schema_version": 3,
     "solution": false,
     "task": true
    }
   },
   "source": [
    "\\#### Please do not change this. This cell is used for grading."
   ]
  },
  {
   "cell_type": "markdown",
   "metadata": {
    "cell_id": "00124-d9fd321a-609f-4da5-8d2d-584c9ed530d3",
    "deepnote_cell_height": 73,
    "deepnote_cell_type": "markdown",
    "deletable": false,
    "editable": false,
    "nbgrader": {
     "cell_type": "markdown",
     "checksum": "26e2ff3c413745e633d99f66c041d6b1",
     "grade": false,
     "grade_id": "cell-c4e50296cd17a555",
     "locked": true,
     "schema_version": 3,
     "solution": false,
     "task": false
    }
   },
   "source": [
    "---\n",
    "**Implementation (5 points):**\n",
    " Next, implement a basic ranking class for vector space retrieval (used for all semantic methods):"
   ]
  },
  {
   "cell_type": "code",
   "execution_count": 79,
   "metadata": {
    "cell_id": "00125-826a2865-fd5c-4886-96fd-21c5894bcd77",
    "deepnote_cell_height": 765,
    "deepnote_cell_type": "code",
    "deepnote_to_be_reexecuted": false,
    "deletable": false,
    "execution_millis": 1,
    "execution_start": 1645186546165,
    "nbgrader": {
     "cell_type": "code",
     "checksum": "1a8389d2f0635c3405e2b0b27ed9f327",
     "grade": false,
     "grade_id": "cell-250515d288e80cdc",
     "locked": false,
     "schema_version": 3,
     "solution": true,
     "task": false
    },
    "source_hash": "eb69cddb"
   },
   "outputs": [],
   "source": [
    "# TODO: Implement this! (5 points)\n",
    "class DenseRetrievalRanker:\n",
    "    def __init__(self, vsrm, similarity_fn):\n",
    "        \"\"\"\n",
    "        vsrm: instance of `VectorSpaceRetrievalModel`\n",
    "        similarity_fn: function instance that takes in two vectors\n",
    "                        and returns a similarity score e.g cosine_sim defined earlier\n",
    "        \"\"\"\n",
    "        self.vsrm = vsrm\n",
    "        self.vectorized_documents = self.vsrm.vectorize_documents()\n",
    "        self.similarity_fn = similarity_fn\n",
    "\n",
    "    def _compute_sim(self, query_vector):\n",
    "        \"\"\"\n",
    "        Compute the similarity of `query_vector` to documents in\n",
    "        `self.vectorized_documents` using `self.similarity_fn`\n",
    "        Returns a list of (doc_id, score) tuples\n",
    "        \"\"\"\n",
    "        # result = []\n",
    "        result = [\n",
    "            (doc_id, self.similarity_fn(query_vector, doc))\n",
    "            for doc_id, doc in self.vectorized_documents.items()\n",
    "        ]\n",
    "        return result\n",
    "\n",
    "    def search(self, query):\n",
    "        scores = self._compute_sim(self.vsrm.vectorize_query(query))\n",
    "        scores.sort(key=lambda _: -_[1])\n",
    "        return scores"
   ]
  },
  {
   "cell_type": "code",
   "execution_count": 80,
   "metadata": {
    "cell_id": "00126-61a00dcc-2fd6-4dc9-9bdd-24f69e74576b",
    "deepnote_cell_height": 248.9375,
    "deepnote_cell_type": "code",
    "deepnote_output_heights": [
     97.9375
    ],
    "deepnote_to_be_reexecuted": false,
    "deletable": false,
    "editable": false,
    "execution_millis": 2654,
    "execution_start": 1645186546166,
    "nbgrader": {
     "cell_type": "code",
     "checksum": "f237dd1ef6c1783c06797f4b514421f5",
     "grade": true,
     "grade_id": "cell-b73068b3e77a8e31",
     "locked": true,
     "points": 0,
     "schema_version": 3,
     "solution": false,
     "task": false
    },
    "source_hash": "d95413f2"
   },
   "outputs": [
    {
     "data": {
      "text/plain": [
       "[('599', 0.7984344102435985),\n",
       " ('947', 0.5888110808222766),\n",
       " ('53', 0.5163528553209575),\n",
       " ('1339', 0.47444580741621317),\n",
       " ('3160', 0.444462056817918)]"
      ]
     },
     "execution_count": 80,
     "metadata": {},
     "output_type": "execute_result"
    }
   ],
   "source": [
    "##### Function check\n",
    "drm_lsi = DenseRetrievalRanker(lsi, cosine_sim)\n",
    "drm_lsi.search(\"report\")[:5]\n",
    "#####"
   ]
  },
  {
   "cell_type": "markdown",
   "metadata": {
    "cell_id": "00127-61d1bfa7-3b4f-4bae-9849-3abf43008fb7",
    "deepnote_cell_height": 52.390625,
    "deepnote_cell_type": "markdown",
    "deletable": false,
    "editable": false,
    "nbgrader": {
     "cell_type": "markdown",
     "checksum": "5b3f19fdcaa585d263706d5a26038799",
     "grade": false,
     "grade_id": "cell-034c755a6502b868",
     "locked": true,
     "points": 5,
     "schema_version": 3,
     "solution": false,
     "task": true
    }
   },
   "source": [
    "\\#### Please do not change this. This cell is used for grading."
   ]
  },
  {
   "cell_type": "markdown",
   "metadata": {
    "cell_id": "00128-76ede674-a982-4ad0-abe7-680c64dc6488",
    "deepnote_cell_height": 75.796875,
    "deepnote_cell_type": "markdown",
    "deletable": false,
    "editable": false,
    "nbgrader": {
     "cell_type": "markdown",
     "checksum": "dcafef6e037033c46304b914f7c78bdf",
     "grade": false,
     "grade_id": "cell-d1df23f497d5ed6b",
     "locked": true,
     "schema_version": 3,
     "solution": false,
     "task": false
    }
   },
   "source": [
    "---\n",
    "Now, you can test your LSI model in the following cell: try finding queries which are lexically different to documents, but semantically similar - does LSI work well for these queries?!"
   ]
  },
  {
   "cell_type": "code",
   "execution_count": 81,
   "metadata": {
    "cell_id": "00129-e8052686-38ce-490b-8725-f62afa5b6285",
    "deepnote_cell_height": 663,
    "deepnote_cell_type": "code",
    "deepnote_to_be_reexecuted": false,
    "deletable": false,
    "editable": false,
    "execution_millis": 45,
    "execution_start": 1645186548831,
    "nbgrader": {
     "cell_type": "code",
     "checksum": "11734bc7674377b340ad51297a8e8bb5",
     "grade": false,
     "grade_id": "cell-efd1d08dfc04ec3e",
     "locked": true,
     "schema_version": 3,
     "solution": false,
     "task": false
    },
    "source_hash": "15e4943e"
   },
   "outputs": [
    {
     "data": {
      "application/vnd.jupyter.widget-view+json": {
       "model_id": "25d5a0ba84124643b8bad5c192c75985",
       "version_major": 2,
       "version_minor": 0
      },
      "text/plain": [
       "Text(value='', description='Search Bar')"
      ]
     },
     "metadata": {},
     "output_type": "display_data"
    }
   ],
   "source": [
    "# test your LSI model\n",
    "search_fn = drm_lsi.search\n",
    "\n",
    "text = widgets.Text(description=\"Search Bar\", width=200)\n",
    "display(text)\n",
    "\n",
    "\n",
    "def make_results_2(query, search_fn):\n",
    "    results = []\n",
    "    for doc_id, score in search_fn(query):\n",
    "        highlight = highlight_text(docs_by_id[doc_id], query)\n",
    "        if len(highlight.strip()) == 0:\n",
    "            highlight = docs_by_id[doc_id]\n",
    "        results.append(ResultRow(doc_id, highlight, score))\n",
    "    return results\n",
    "\n",
    "\n",
    "def handle_submit_2(sender):\n",
    "    print(f\"Searching for: '{sender.value}' (SEARCH FN: {search_fn})\")\n",
    "\n",
    "    results = make_results_2(sender.value, search_fn)\n",
    "\n",
    "    # display only the top 5\n",
    "    results = results[:5]\n",
    "\n",
    "    body = \"\"\n",
    "    for idx, r in enumerate(results):\n",
    "        body += f\"<li>Document #{r.doc_id}({r.score}): {r.snippet}</li>\"\n",
    "    display(HTML(f\"<ul>{body}</ul>\"))\n",
    "\n",
    "\n",
    "text.on_submit(handle_submit_2)"
   ]
  },
  {
   "cell_type": "markdown",
   "metadata": {
    "cell_id": "00130-70ac6c5f-a513-4253-abde-f31df522d92d",
    "deepnote_cell_height": 190.59375,
    "deepnote_cell_type": "markdown",
    "deletable": false,
    "editable": false,
    "nbgrader": {
     "cell_type": "markdown",
     "checksum": "d074ce1ca48384cdda78742741c938be",
     "grade": false,
     "grade_id": "cell-3a86cef264d8f6cf",
     "locked": true,
     "schema_version": 3,
     "solution": false,
     "task": false
    }
   },
   "source": [
    "---\n",
    "## Section 7: Latent Dirichlet Allocation (LDA) (10 points) <a class=\"anchor\" id=\"lda\"></a>\n",
    "\n",
    "[Back to Part 2](#part2)\n",
    "\n",
    "The specifics of LDA is out of the scope of this assignment, but we will use the `gensim` implementation to perform search using LDA over our small document collection. The key thing to remember is that LDA, unlike LSI, outputs a topic **distribution**, not a vector. With that in mind, let's first define a similarity measure.\n"
   ]
  },
  {
   "cell_type": "markdown",
   "metadata": {
    "cell_id": "00131-ec0e884b-e164-4ba8-9ed6-c767c87825c3",
    "deepnote_cell_height": 182.59375,
    "deepnote_cell_type": "markdown",
    "deletable": false,
    "editable": false,
    "nbgrader": {
     "cell_type": "markdown",
     "checksum": "db01092373b18f0c9dfed1bb17db4ad9",
     "grade": false,
     "grade_id": "cell-6b78ad22c2d60ba7",
     "locked": true,
     "schema_version": 3,
     "solution": false,
     "task": false
    }
   },
   "source": [
    "---\n",
    "### Section 7.1: Jenson-Shannon divergence (5 points) <a class=\"anchor\" id=\"js_sim\"></a>\n",
    "\n",
    "The Jenson-Shannon divergence is a symmetric and finite measure on two probability distributions (unlike the KL, which is neither). For identical distributions, the JSD is equal to 0, and since our code uses 0 as irrelevant and higher scores as relevant, we use `(1 - JSD)` as the score or 'similarity' in our setup\n",
    "\n",
    "**Note**: the JSD is bounded to \\[0,1\\] only if we use log base 2. So please ensure that you're using `np.log2` instead of `np.log`"
   ]
  },
  {
   "cell_type": "code",
   "execution_count": 82,
   "metadata": {
    "cell_id": "00132-ccb9488f-e93e-484d-891a-5260b0b3ba46",
    "deepnote_cell_height": 783,
    "deepnote_cell_type": "code",
    "deepnote_to_be_reexecuted": false,
    "deletable": false,
    "execution_millis": 14,
    "execution_start": 1645186548888,
    "nbgrader": {
     "cell_type": "code",
     "checksum": "a579e6cd7a24a3516bc9a84528b392d3",
     "grade": false,
     "grade_id": "cell-d2376a85a4841e98",
     "locked": false,
     "schema_version": 3,
     "solution": true,
     "task": false
    },
    "source_hash": "887f6708"
   },
   "outputs": [],
   "source": [
    "## TODO: Implement this! (5 points)\n",
    "def jenson_shannon_divergence(vec_1, vec_2, assert_prob=False):\n",
    "    \"\"\"\n",
    "    Computes the Jensen-Shannon divergence between two probability distributions.\n",
    "    NOTE: DO NOT RETURN 1 - JSD here, that is handled by the next function which is already implemented!\n",
    "    The inputs are *gensim* vectors - same as the vectors for the cosine_sim function\n",
    "    assert_prob is a flag that checks if the inputs are proper probability distributions\n",
    "        i.e they sum to 1 and are positive - use this to check your inputs if needed.\n",
    "            (This is optional to implement, but recommended -\n",
    "            you can the default to False to save a few ms off the runtime)\n",
    "    \"\"\"\n",
    "\n",
    "    # --------- Define a custom KL divergence function --------\n",
    "    def KL(a, b):\n",
    "        a = np.asarray(a, dtype=np.float)\n",
    "        b = np.asarray(b, dtype=np.float)\n",
    "\n",
    "        return np.sum(np.where(a != 0, a * np.log2(a / b), 0))\n",
    "\n",
    "    # ---------------------------------------------------------\n",
    "\n",
    "    vec_1_probs = np.array([x[1] for x in vec_1])  # extracting the probabily values\n",
    "    vec_2_probs = np.array([y[1] for y in vec_2])  # extracting the probabily values\n",
    "\n",
    "    # if flag=True, assert that the inputs are proper probability distributions\n",
    "    if assert_prob:\n",
    "        assert np.sum(vec_1_probs) == 1 and all(\n",
    "            vec_1_probs > 0\n",
    "        ), \"Values of vector1 must sum to 1 and be positive\"\n",
    "        assert np.sum(vec_2_probs) == 1 and all(\n",
    "            vec_2_probs > 0\n",
    "        ), \"Values of vector2 must sum to 1 and be positive\"\n",
    "\n",
    "    # If inputs are valid, compute divergence\n",
    "    m = 0.5 * (vec_1_probs + vec_2_probs)\n",
    "    return 0.5 * KL(vec_1_probs, m) + 0.5 * KL(vec_2_probs, m)\n",
    "\n",
    "\n",
    "def jenson_shannon_sim(vec_1, vec_2, assert_prob=False):\n",
    "    return 1 - jenson_shannon_divergence(vec_1, vec_2)"
   ]
  },
  {
   "cell_type": "code",
   "execution_count": 83,
   "metadata": {
    "cell_id": "00133-062a3052-2e16-413b-bac4-d476558e3866",
    "deepnote_cell_height": 190.1875,
    "deepnote_cell_type": "code",
    "deepnote_output_heights": [
     21.1875
    ],
    "deepnote_to_be_reexecuted": false,
    "deletable": false,
    "editable": false,
    "execution_millis": 70,
    "execution_start": 1645186548917,
    "nbgrader": {
     "cell_type": "code",
     "checksum": "ab340aa941c9fb5c89b3fd0a9139e246",
     "grade": true,
     "grade_id": "cell-487c6d2933f38053",
     "locked": true,
     "points": 5,
     "schema_version": 3,
     "solution": false,
     "task": false
    },
    "source_hash": "74ec8119"
   },
   "outputs": [
    {
     "data": {
      "text/plain": [
       "0.9251064410358459"
      ]
     },
     "execution_count": 83,
     "metadata": {},
     "output_type": "execute_result"
    }
   ],
   "source": [
    "##### Function check\n",
    "vec_1 = [(1, 0.3), (2, 0.4), (3, 0.3)]\n",
    "vec_2 = [(1, 0.1), (2, 0.7), (3, 0.2)]\n",
    "jenson_shannon_sim(vec_1, vec_2, assert_prob=True)\n",
    "#####"
   ]
  },
  {
   "cell_type": "markdown",
   "metadata": {
    "cell_id": "00134-b1b00101-4499-4c42-a48c-f90f9f37d7e9",
    "deepnote_cell_height": 227.375,
    "deepnote_cell_type": "markdown",
    "deletable": false,
    "editable": false,
    "nbgrader": {
     "cell_type": "markdown",
     "checksum": "0a1583a5f23e3390038331cce67f5d8e",
     "grade": false,
     "grade_id": "cell-4535cc67a50b80fa",
     "locked": true,
     "schema_version": 3,
     "solution": false,
     "task": false
    }
   },
   "source": [
    "---\n",
    "### Section 7.2: LDA retrieval (5 points) <a class=\"anchor\" id=\"lda_ret\"></a>\n",
    "\n",
    "Implement the `train_model` method in the following class (note that this is only one line of code in `gensim`!). Ensure that the parameters defined in the `__init__` method are not changed, and are *used in the `train_method` function*. You do not need to set this. Normally, the hyperaparameter space will be searched using grid search / other methods. Note that training the LDA model might take some time\n",
    "\n",
    "The last two lines of code train an LDA model on the list of documents which have been stemmed, lower-cased and have stopwords removed."
   ]
  },
  {
   "cell_type": "code",
   "execution_count": 84,
   "metadata": {
    "cell_id": "00135-c9620a32-0d75-44b0-9b91-6223cae5d6d9",
    "deepnote_cell_height": 603,
    "deepnote_cell_type": "code",
    "deepnote_to_be_reexecuted": false,
    "deletable": false,
    "execution_millis": 1,
    "execution_start": 1645186548985,
    "nbgrader": {
     "cell_type": "code",
     "checksum": "27de8e4fa85536bb396b73bfc51b3f50",
     "grade": false,
     "grade_id": "cell-021a48dff4a8bb91",
     "locked": false,
     "schema_version": 3,
     "solution": true,
     "task": false
    },
    "source_hash": "a2398658"
   },
   "outputs": [],
   "source": [
    "# TODO: Implement this! (5 points)\n",
    "class LdaRetrievalModel(VectorSpaceRetrievalModel):\n",
    "    def __init__(self, doc_repr):\n",
    "        super().__init__(doc_repr)\n",
    "\n",
    "        # use these parameters in the train_model method\n",
    "        self.num_topics = 100\n",
    "        self.chunksize = 2000\n",
    "        self.passes = 20\n",
    "        self.iterations = 400\n",
    "        self.eval_every = 10\n",
    "        # this is need to get full vectors\n",
    "        self.minimum_probability = 0.0\n",
    "        self.alpha = \"auto\"\n",
    "        self.eta = \"auto\"\n",
    "\n",
    "    def train_model(self):\n",
    "        # YOUR CODE HERE\n",
    "        self.model = LdaModel(\n",
    "            corpus=self.corpus,\n",
    "            id2word=self.id2word,\n",
    "            num_topics=self.num_topics,\n",
    "            chunksize=self.chunksize,\n",
    "            passes=self.passes,\n",
    "            iterations=self.iterations,\n",
    "            eval_every=self.eval_every,\n",
    "            minimum_probability=self.minimum_probability,\n",
    "            alpha=self.alpha,\n",
    "            eta=self.eta,\n",
    "        )"
   ]
  },
  {
   "cell_type": "code",
   "execution_count": 85,
   "metadata": {
    "cell_id": "00136-7336885c-d6be-4e5e-8515-a71905b8c1df",
    "collapsed": true,
    "deepnote_cell_height": 219.796875,
    "deepnote_cell_type": "code",
    "deepnote_output_heights": [
     null,
     611
    ],
    "deepnote_to_be_reexecuted": false,
    "deletable": false,
    "editable": false,
    "execution_millis": 116845,
    "execution_start": 1645186548986,
    "is_output_hidden": true,
    "jupyter": {
     "outputs_hidden": true
    },
    "nbgrader": {
     "cell_type": "code",
     "checksum": "be70fcb8098d0b6ce64cd2a10e6a05b7",
     "grade": true,
     "grade_id": "cell-86750b715f0345fd",
     "locked": true,
     "points": 0,
     "schema_version": 3,
     "solution": false,
     "task": false
    },
    "source_hash": "25223581",
    "tags": []
   },
   "outputs": [
    {
     "name": "stderr",
     "output_type": "stream",
     "text": [
      "2022-02-28 17:10:23,263 : INFO : adding document #0 to Dictionary(0 unique tokens: [])\n",
      "2022-02-28 17:10:23,530 : INFO : built Dictionary(5937 unique tokens: ['-', 'algebra', 'intern', 'languag', 'preliminari']...) from 3204 documents (total 115969 corpus positions)\n",
      "2022-02-28 17:10:23,541 : INFO : discarding 4740 tokens: [('repeat', 8), ('glossari', 7), ('inspect', 8), ('uncol', 2), ('rung', 9), ('secant', 2), ('.', 1603), ('acceler', 6), ('diverg', 3), ('induc', 9)]...\n",
      "2022-02-28 17:10:23,543 : INFO : keeping 1197 tokens which were in no less than 10 and no more than 1602 (=50.0%) documents\n",
      "2022-02-28 17:10:23,557 : INFO : resulting dictionary: Dictionary(1197 unique tokens: ['-', 'algebra', 'intern', 'languag', 'preliminari']...)\n",
      "2022-02-28 17:10:23,650 : INFO : using autotuned alpha, starting with [0.01, 0.01, 0.01, 0.01, 0.01, 0.01, 0.01, 0.01, 0.01, 0.01, 0.01, 0.01, 0.01, 0.01, 0.01, 0.01, 0.01, 0.01, 0.01, 0.01, 0.01, 0.01, 0.01, 0.01, 0.01, 0.01, 0.01, 0.01, 0.01, 0.01, 0.01, 0.01, 0.01, 0.01, 0.01, 0.01, 0.01, 0.01, 0.01, 0.01, 0.01, 0.01, 0.01, 0.01, 0.01, 0.01, 0.01, 0.01, 0.01, 0.01, 0.01, 0.01, 0.01, 0.01, 0.01, 0.01, 0.01, 0.01, 0.01, 0.01, 0.01, 0.01, 0.01, 0.01, 0.01, 0.01, 0.01, 0.01, 0.01, 0.01, 0.01, 0.01, 0.01, 0.01, 0.01, 0.01, 0.01, 0.01, 0.01, 0.01, 0.01, 0.01, 0.01, 0.01, 0.01, 0.01, 0.01, 0.01, 0.01, 0.01, 0.01, 0.01, 0.01, 0.01, 0.01, 0.01, 0.01, 0.01, 0.01, 0.01]\n",
      "2022-02-28 17:10:23,651 : INFO : using serial LDA version on this node\n",
      "2022-02-28 17:10:23,664 : INFO : running online (multi-pass) LDA training, 100 topics, 20 passes over the supplied corpus of 3204 documents, updating model once every 2000 documents, evaluating perplexity every 3204 documents, iterating 400x with a convergence threshold of 0.001000\n",
      "2022-02-28 17:10:23,666 : INFO : PROGRESS: pass 0, at document #2000/3204\n",
      "2022-02-28 17:10:25,194 : INFO : optimized alpha [0.009852342, 0.00981028, 0.009789575, 0.009894073, 0.0098203365, 0.009789446, 0.009820616, 0.009758574, 0.009825687, 0.009820462, 0.009887842, 0.009800203, 0.009815513, 0.009871592, 0.009789668, 0.009851533, 0.009888048, 0.009820659, 0.009836324, 0.009805229, 0.009970755, 0.00983133, 0.009887648, 0.009781992, 0.00980484, 0.009856281, 0.009856499, 0.009799922, 0.009820609, 0.009789817, 0.009794693, 0.009878125, 0.009784393, 0.009887967, 0.009779151, 0.009800215, 0.009914724, 0.009820669, 0.009769005, 0.00976887, 0.009784472, 0.0098201325, 0.010037866, 0.009830942, 0.009789573, 0.009950764, 0.009794682, 0.009784333, 0.009768948, 0.0099670505, 0.009794713, 0.009810926, 0.009898417, 0.009773959, 0.009825427, 0.0098572625, 0.009825748, 0.009815353, 0.009805012, 0.009810469, 0.009789587, 0.009971811, 0.009977365, 0.009867079, 0.00983638, 0.00978948, 0.009877803, 0.009851797, 0.009805109, 0.009823513, 0.009815598, 0.009799873, 0.00982522, 0.009815469, 0.009810301, 0.009815451, 0.009794442, 0.009800421, 0.00978944, 0.009779179, 0.009898684, 0.009846672, 0.009826233, 0.009830745, 0.009794678, 0.009818196, 0.009815747, 0.009808336, 0.009815393, 0.009810631, 0.009779234, 0.009820458, 0.009784523, 0.009861471, 0.009794542, 0.009815027, 0.00979984, 0.009838626, 0.009997851, 0.009789595]\n",
      "2022-02-28 17:10:25,199 : INFO : merging changes from 2000 documents into a model of 3204 documents\n",
      "2022-02-28 17:10:25,207 : INFO : topic #39 (0.010): 0.121*\"diagram\" + 0.073*\"ordinari\" + 0.049*\"-\" + 0.049*\",\" + 0.049*\"drawn\" + 0.049*\"time\" + 0.049*\"root\" + 0.041*\"algorithm\" + 0.024*\"draw\" + 0.024*\"accur\"\n",
      "2022-02-28 17:10:25,208 : INFO : topic #7 (0.010): 0.001*\"implic\" + 0.001*\"favor\" + 0.001*\"adapt\" + 0.001*\"polygon\" + 0.001*\"stage\" + 0.001*\"situat\" + 0.001*\"respons\" + 0.001*\"industri\" + 0.001*\"regress\" + 0.001*\"drive\"\n",
      "2022-02-28 17:10:25,208 : INFO : topic #49 (0.010): 0.076*\",\" + 0.045*\"system\" + 0.030*\"program\" + 0.027*\"-\" + 0.016*\"comput\" + 0.013*\"oper\" + 0.012*\"list\" + 0.010*\"(\" + 0.010*\"time\" + 0.008*\"graphic\"\n",
      "2022-02-28 17:10:25,209 : INFO : topic #98 (0.010): 0.053*\",\" + 0.040*\"system\" + 0.038*\"-\" + 0.025*\"data\" + 0.017*\"process\" + 0.016*\"languag\" + 0.016*\"(\" + 0.014*\"program\" + 0.013*\")\" + 0.010*\"time\"\n",
      "2022-02-28 17:10:25,211 : INFO : topic #42 (0.010): 0.051*\",\" + 0.036*\"-\" + 0.026*\"algorithm\" + 0.020*\"program\" + 0.020*\"(\" + 0.017*\"comput\" + 0.015*\"system\" + 0.011*\"[\" + 0.011*\"time\" + 0.011*\"problem\"\n",
      "2022-02-28 17:10:25,212 : INFO : topic diff=82.959129, rho=1.000000\n",
      "2022-02-28 17:10:26,205 : INFO : -7.278 per-word bound, 155.2 perplexity estimate based on a held-out corpus of 1204 documents with 49783 words\n",
      "2022-02-28 17:10:26,206 : INFO : PROGRESS: pass 0, at document #3204/3204\n",
      "2022-02-28 17:10:26,998 : INFO : optimized alpha [0.010144009, 0.009992584, 0.009871218, 0.010443259, 0.009714233, 0.0097596375, 0.010215875, 0.009497117, 0.009865534, 0.009925527, 0.00996463, 0.010118314, 0.010098983, 0.009952387, 0.009936533, 0.009881418, 0.010114518, 0.010168109, 0.010155127, 0.010045167, 0.01006454, 0.009782718, 0.009946262, 0.009659046, 0.00980343, 0.009849576, 0.010263897, 0.009759018, 0.009796261, 0.010100891, 0.009834594, 0.010080053, 0.009930463, 0.010041756, 0.009720361, 0.010101449, 0.0102202315, 0.010001708, 0.010014031, 0.009686071, 0.009907316, 0.00986661, 0.010421314, 0.009807033, 0.00997073, 0.00997403, 0.009947821, 0.00979562, 0.009910307, 0.010514684, 0.009953688, 0.009928007, 0.010064673, 0.009645248, 0.009707565, 0.009952403, 0.010009744, 0.009938381, 0.010098702, 0.0099164415, 0.009923329, 0.010499769, 0.010338883, 0.009890694, 0.0100025255, 0.009934465, 0.010133068, 0.009923337, 0.009986751, 0.009970414, 0.009963914, 0.009735191, 0.009970558, 0.010345445, 0.009986578, 0.009891428, 0.009641849, 0.009849004, 0.009777703, 0.009790746, 0.009950968, 0.010079121, 0.009889601, 0.009854115, 0.009876021, 0.009706635, 0.009804243, 0.009743017, 0.009949406, 0.009975989, 0.0097383, 0.009967128, 0.010088572, 0.00983016, 0.009868447, 0.009714614, 0.009840319, 0.0098854, 0.010431606, 0.009889306]\n",
      "2022-02-28 17:10:27,004 : INFO : merging changes from 1204 documents into a model of 3204 documents\n",
      "2022-02-28 17:10:27,010 : INFO : topic #7 (0.009): 0.001*\"implic\" + 0.001*\"favor\" + 0.001*\"adapt\" + 0.001*\"polygon\" + 0.001*\"stage\" + 0.001*\"situat\" + 0.001*\"respons\" + 0.001*\"industri\" + 0.001*\"regress\" + 0.001*\"drive\"\n",
      "2022-02-28 17:10:27,011 : INFO : topic #53 (0.010): 0.076*\"usag\" + 0.075*\")\" + 0.060*\"incomplet\" + 0.058*\"tool\" + 0.057*\"program\" + 0.055*\"(\" + 0.051*\"concern\" + 0.048*\"present\" + 0.044*\"algorithm\" + 0.043*\"introduc\"\n",
      "2022-02-28 17:10:27,012 : INFO : topic #3 (0.010): 0.097*\",\" + 0.037*\"comput\" + 0.016*\"program\" + 0.015*\"-\" + 0.015*\"educ\" + 0.015*\"scienc\" + 0.013*\"network\" + 0.012*\"system\" + 0.011*\"paper\" + 0.010*\"technolog\"\n",
      "2022-02-28 17:10:27,013 : INFO : topic #61 (0.010): 0.081*\",\" + 0.043*\"-\" + 0.031*\"(\" + 0.027*\"method\" + 0.025*\")\" + 0.013*\"queri\" + 0.012*\"paper\" + 0.012*\"order\" + 0.010*\"1\" + 0.010*\"correct\"\n",
      "2022-02-28 17:10:27,014 : INFO : topic #49 (0.011): 0.088*\",\" + 0.061*\"system\" + 0.024*\"-\" + 0.024*\"program\" + 0.016*\"oper\" + 0.016*\"user\" + 0.015*\"comput\" + 0.012*\"graphic\" + 0.011*\"design\" + 0.010*\"interact\"\n",
      "2022-02-28 17:10:27,015 : INFO : topic diff=0.724555, rho=0.707107\n",
      "2022-02-28 17:10:27,023 : INFO : PROGRESS: pass 1, at document #2000/3204\n",
      "2022-02-28 17:10:27,931 : INFO : optimized alpha [0.010087789, 0.009954405, 0.009850919, 0.010394775, 0.009705039, 0.0097384015, 0.010148715, 0.009349278, 0.009761649, 0.009899263, 0.009930764, 0.010086525, 0.0102348225, 0.010067533, 0.009872991, 0.009935902, 0.010155661, 0.010102133, 0.010095096, 0.010008874, 0.009996116, 0.009717066, 0.009869786, 0.0097590815, 0.009826114, 0.00988586, 0.010195968, 0.009766741, 0.009741231, 0.010041626, 0.009843463, 0.010011781, 0.010073102, 0.009971123, 0.00968671, 0.010110706, 0.0101822745, 0.009915596, 0.00993258, 0.009681177, 0.009952555, 0.009819976, 0.010311532, 0.009741437, 0.009903435, 0.009873423, 0.009934386, 0.009747961, 0.009923689, 0.010531075, 0.009948155, 0.009827479, 0.010013031, 0.009713409, 0.009968874, 0.009857612, 0.010049452, 0.009885443, 0.010229736, 0.009837699, 0.009936714, 0.010453038, 0.010282347, 0.009786482, 0.009938443, 0.0098812645, 0.01007401, 0.00985027, 0.009893065, 0.00988246, 0.009879048, 0.009821219, 0.010298216, 0.010267104, 0.009925076, 0.009834365, 0.009845217, 0.009780138, 0.009899713, 0.009839528, 0.009882709, 0.00997525, 0.0098825395, 0.009906198, 0.009839718, 0.00965878, 0.009752245, 0.009777046, 0.009877473, 0.009909877, 0.009772313, 0.009979693, 0.010007948, 0.009782696, 0.010004542, 0.00985605, 0.009828772, 0.009818045, 0.010420775, 0.009918935]\n",
      "2022-02-28 17:10:27,937 : INFO : merging changes from 2000 documents into a model of 3204 documents\n",
      "2022-02-28 17:10:27,943 : INFO : topic #7 (0.009): 0.001*\"implic\" + 0.001*\"favor\" + 0.001*\"adapt\" + 0.001*\"polygon\" + 0.001*\"stage\" + 0.001*\"situat\" + 0.001*\"respons\" + 0.001*\"industri\" + 0.001*\"regress\" + 0.001*\"drive\"\n",
      "2022-02-28 17:10:27,944 : INFO : topic #85 (0.010): 0.067*\"code\" + 0.043*\"(\" + 0.041*\"data\" + 0.037*\")\" + 0.035*\"problem\" + 0.029*\",\" + 0.027*\"-\" + 0.024*\"comput\" + 0.024*\"inform\" + 0.023*\"principl\"\n",
      "2022-02-28 17:10:27,945 : INFO : topic #98 (0.010): 0.061*\",\" + 0.054*\"system\" + 0.035*\"data\" + 0.034*\"-\" + 0.022*\"process\" + 0.020*\"retriev\" + 0.016*\"inform\" + 0.012*\"program\" + 0.011*\"languag\" + 0.011*\"(\"\n",
      "2022-02-28 17:10:27,946 : INFO : topic #61 (0.010): 0.081*\",\" + 0.046*\"-\" + 0.032*\"(\" + 0.028*\"method\" + 0.026*\")\" + 0.012*\"paper\" + 0.011*\"correct\" + 0.010*\"order\" + 0.010*\"1\" + 0.010*\"queri\"\n",
      "2022-02-28 17:10:27,947 : INFO : topic #49 (0.011): 0.090*\",\" + 0.067*\"system\" + 0.026*\"-\" + 0.025*\"program\" + 0.017*\"oper\" + 0.016*\"user\" + 0.015*\"comput\" + 0.014*\"graphic\" + 0.011*\"time\" + 0.010*\"design\"\n",
      "2022-02-28 17:10:27,948 : INFO : topic diff=0.305156, rho=0.526900\n",
      "2022-02-28 17:10:28,961 : INFO : -6.888 per-word bound, 118.5 perplexity estimate based on a held-out corpus of 1204 documents with 49783 words\n",
      "2022-02-28 17:10:28,962 : INFO : PROGRESS: pass 1, at document #3204/3204\n",
      "2022-02-28 17:10:29,776 : INFO : optimized alpha [0.010270583, 0.010192721, 0.009986904, 0.0106898, 0.009691028, 0.00980083, 0.010565114, 0.0091719255, 0.009814719, 0.0100346785, 0.010010778, 0.010425017, 0.010599318, 0.0101841865, 0.010004707, 0.010011017, 0.010374988, 0.010390291, 0.010320956, 0.010255321, 0.010070949, 0.0097317565, 0.009883645, 0.009787022, 0.009991386, 0.0099386545, 0.010481718, 0.009790048, 0.009777844, 0.010275567, 0.009908539, 0.010131034, 0.010283515, 0.010073128, 0.009783406, 0.01042357, 0.010388772, 0.010029464, 0.010217652, 0.009746654, 0.0101766, 0.009920986, 0.010526097, 0.009761425, 0.010104969, 0.009879949, 0.0101147555, 0.009831749, 0.010210389, 0.010843925, 0.010160557, 0.009976768, 0.010177014, 0.009702013, 0.00991395, 0.0099341795, 0.0103662815, 0.010026015, 0.010505788, 0.009869102, 0.010145961, 0.010696469, 0.01046157, 0.009806896, 0.010071545, 0.010038372, 0.010318422, 0.009922547, 0.010064568, 0.009979483, 0.009989892, 0.009891138, 0.01056869, 0.010774928, 0.010136912, 0.009944643, 0.009831804, 0.009835489, 0.010038985, 0.0100802975, 0.0099447295, 0.01016757, 0.010005001, 0.009972064, 0.009944548, 0.0096502565, 0.009789585, 0.009786529, 0.010022151, 0.010086358, 0.009864889, 0.010203471, 0.0102714235, 0.00980591, 0.010194389, 0.009882197, 0.009999718, 0.009889385, 0.010547987, 0.010036976]\n",
      "2022-02-28 17:10:29,782 : INFO : merging changes from 1204 documents into a model of 3204 documents\n",
      "2022-02-28 17:10:29,787 : INFO : topic #7 (0.009): 0.001*\"implic\" + 0.001*\"favor\" + 0.001*\"adapt\" + 0.001*\"polygon\" + 0.001*\"stage\" + 0.001*\"situat\" + 0.001*\"respons\" + 0.001*\"industri\" + 0.001*\"regress\" + 0.001*\"drive\"\n",
      "2022-02-28 17:10:29,789 : INFO : topic #85 (0.010): 0.081*\"code\" + 0.060*\"data\" + 0.038*\"problem\" + 0.038*\"(\" + 0.036*\"principl\" + 0.035*\")\" + 0.028*\",\" + 0.025*\"comput\" + 0.024*\"-\" + 0.023*\"experiment\"\n",
      "2022-02-28 17:10:29,790 : INFO : topic #61 (0.011): 0.087*\",\" + 0.043*\"-\" + 0.031*\"(\" + 0.028*\"method\" + 0.025*\")\" + 0.017*\"queri\" + 0.014*\"key\" + 0.014*\"paper\" + 0.013*\"order\" + 0.013*\"shift\"\n",
      "2022-02-28 17:10:29,790 : INFO : topic #73 (0.011): 0.151*\"]\" + 0.070*\"secur\" + 0.041*\",\" + 0.041*\"time\" + 0.040*\"scan\" + 0.028*\"comput\" + 0.020*\"run\" + 0.020*\"increas\" + 0.019*\"-\" + 0.018*\"pdp\"\n",
      "2022-02-28 17:10:29,791 : INFO : topic #49 (0.011): 0.096*\",\" + 0.077*\"system\" + 0.024*\"-\" + 0.024*\"user\" + 0.020*\"program\" + 0.019*\"oper\" + 0.016*\"comput\" + 0.016*\"graphic\" + 0.015*\"interact\" + 0.014*\"design\"\n",
      "2022-02-28 17:10:29,792 : INFO : topic diff=0.405365, rho=0.526900\n",
      "2022-02-28 17:10:29,804 : INFO : PROGRESS: pass 2, at document #2000/3204\n",
      "2022-02-28 17:10:30,708 : INFO : optimized alpha [0.010244122, 0.010214418, 0.0100013055, 0.010689264, 0.009761762, 0.009819158, 0.010534722, 0.0090510845, 0.0097480845, 0.010025054, 0.009993111, 0.010424906, 0.01081014, 0.010273541, 0.009964933, 0.01007344, 0.010444276, 0.010345966, 0.010294869, 0.010269103, 0.010020916, 0.009712502, 0.009827801, 0.009908378, 0.010027012, 0.010008263, 0.010433388, 0.009857026, 0.0097698495, 0.0102551915, 0.00995857, 0.010089975, 0.0104615465, 0.010047057, 0.009813734, 0.010493158, 0.010368071, 0.009984783, 0.010171298, 0.009770121, 0.010246546, 0.009884396, 0.01042514, 0.009721608, 0.010056099, 0.009796862, 0.010144408, 0.009827334, 0.0102342805, 0.0108710155, 0.010185451, 0.009892759, 0.010142474, 0.009872513, 0.010175936, 0.009861357, 0.01046767, 0.009997744, 0.010689044, 0.009827281, 0.0101683745, 0.01064757, 0.010405307, 0.009731827, 0.010026598, 0.009993055, 0.010285611, 0.009927253, 0.009997807, 0.009902858, 0.009929693, 0.010000155, 0.011081541, 0.01072028, 0.010102443, 0.009887436, 0.010279145, 0.009801837, 0.01027422, 0.010223672, 0.009892612, 0.010079695, 0.010059683, 0.010025285, 0.009917258, 0.009671474, 0.009800578, 0.00987013, 0.010003213, 0.010046082, 0.009964607, 0.010243728, 0.010216864, 0.00979056, 0.010406431, 0.010056819, 0.010059121, 0.009856466, 0.010537708, 0.010095945]\n",
      "2022-02-28 17:10:30,713 : INFO : merging changes from 2000 documents into a model of 3204 documents\n",
      "2022-02-28 17:10:30,719 : INFO : topic #7 (0.009): 0.001*\"implic\" + 0.001*\"favor\" + 0.001*\"adapt\" + 0.001*\"polygon\" + 0.001*\"stage\" + 0.001*\"situat\" + 0.001*\"respons\" + 0.001*\"industri\" + 0.001*\"regress\" + 0.001*\"drive\"\n",
      "2022-02-28 17:10:30,720 : INFO : topic #85 (0.010): 0.129*\"code\" + 0.053*\"data\" + 0.035*\"problem\" + 0.032*\"(\" + 0.028*\",\" + 0.028*\")\" + 0.027*\"principl\" + 0.025*\"comput\" + 0.025*\"-\" + 0.024*\"experiment\"\n",
      "2022-02-28 17:10:30,721 : INFO : topic #49 (0.011): 0.097*\",\" + 0.083*\"system\" + 0.026*\"-\" + 0.023*\"user\" + 0.022*\"program\" + 0.020*\"oper\" + 0.017*\"comput\" + 0.016*\"graphic\" + 0.014*\"interact\" + 0.013*\"design\"\n",
      "2022-02-28 17:10:30,722 : INFO : topic #12 (0.011): 0.244*\"languag\" + 0.073*\"-\" + 0.057*\",\" + 0.039*\"program\" + 0.028*\"definit\" + 0.024*\"semant\" + 0.024*\"natur\" + 0.017*\"level\" + 0.017*\"grammar\" + 0.016*\"type\"\n",
      "2022-02-28 17:10:30,724 : INFO : topic #72 (0.011): 0.229*\"(\" + 0.227*\")\" + 0.209*\"algorithm\" + 0.040*\"function\" + 0.027*\"integ\" + 0.021*\"polynomi\" + 0.016*\"-\" + 0.016*\"error\" + 0.013*\"goal\" + 0.012*\"set\"\n",
      "2022-02-28 17:10:30,726 : INFO : topic diff=0.382790, rho=0.466151\n",
      "2022-02-28 17:10:31,717 : INFO : -6.776 per-word bound, 109.6 perplexity estimate based on a held-out corpus of 1204 documents with 49783 words\n",
      "2022-02-28 17:10:31,717 : INFO : PROGRESS: pass 2, at document #3204/3204\n",
      "2022-02-28 17:10:32,535 : INFO : optimized alpha [0.010402802, 0.010507998, 0.010176901, 0.01093651, 0.009810988, 0.009920832, 0.010915876, 0.008905345, 0.009807635, 0.010165021, 0.010084421, 0.0107423635, 0.011222831, 0.010400381, 0.010062847, 0.010151641, 0.010660847, 0.010604021, 0.010528793, 0.010537775, 0.010119952, 0.009791197, 0.009845809, 0.009913064, 0.010209735, 0.010078451, 0.010714074, 0.00990076, 0.009826159, 0.010468285, 0.010055242, 0.010204002, 0.010674165, 0.01016966, 0.009987937, 0.010779781, 0.010560217, 0.010109773, 0.010414578, 0.009866701, 0.010503287, 0.010036287, 0.010595696, 0.009748725, 0.010271483, 0.009820645, 0.010324623, 0.009921447, 0.01053212, 0.0111910915, 0.010407278, 0.010045192, 0.010340402, 0.009887952, 0.010155692, 0.009934096, 0.010783156, 0.010165903, 0.010992128, 0.009872057, 0.010394737, 0.010826604, 0.010556305, 0.009790594, 0.0101611065, 0.0101447385, 0.01049163, 0.010015201, 0.010174543, 0.010001131, 0.010040208, 0.010131804, 0.011553244, 0.011194365, 0.010319617, 0.009997795, 0.010332914, 0.009855828, 0.010432914, 0.010591731, 0.009972061, 0.010270907, 0.010235222, 0.01011103, 0.009995223, 0.00972954, 0.009872581, 0.009901528, 0.010147677, 0.01021507, 0.010100938, 0.0104958275, 0.010456084, 0.009900146, 0.010615544, 0.010098147, 0.01025052, 0.0099437125, 0.010654803, 0.010216266]\n",
      "2022-02-28 17:10:32,541 : INFO : merging changes from 1204 documents into a model of 3204 documents\n",
      "2022-02-28 17:10:32,547 : INFO : topic #7 (0.009): 0.001*\"implic\" + 0.001*\"favor\" + 0.001*\"adapt\" + 0.001*\"polygon\" + 0.001*\"stage\" + 0.001*\"situat\" + 0.001*\"respons\" + 0.001*\"industri\" + 0.001*\"regress\" + 0.001*\"drive\"\n",
      "2022-02-28 17:10:32,548 : INFO : topic #43 (0.010): 0.064*\"pl\" + 0.060*\"list\" + 0.055*\"program\" + 0.048*\"/\" + 0.040*\"disciplin\" + 0.039*\",\" + 0.029*\"-\" + 0.028*\"undergradu\" + 0.021*\"languag\" + 0.021*\"scienc\"\n",
      "2022-02-28 17:10:32,548 : INFO : topic #73 (0.011): 0.179*\"]\" + 0.078*\"secur\" + 0.044*\"scan\" + 0.038*\"time\" + 0.038*\",\" + 0.030*\"comput\" + 0.023*\"increas\" + 0.021*\"pdp\" + 0.020*\"run\" + 0.020*\"-\"\n",
      "2022-02-28 17:10:32,552 : INFO : topic #12 (0.011): 0.243*\"languag\" + 0.068*\"-\" + 0.060*\",\" + 0.040*\"program\" + 0.040*\"semant\" + 0.030*\"definit\" + 0.029*\"natur\" + 0.023*\"level\" + 0.019*\"type\" + 0.018*\"grammar\"\n",
      "2022-02-28 17:10:32,553 : INFO : topic #72 (0.012): 0.254*\"(\" + 0.247*\")\" + 0.213*\"algorithm\" + 0.035*\"function\" + 0.028*\"integ\" + 0.018*\"polynomi\" + 0.017*\"goal\" + 0.015*\"-\" + 0.011*\"error\" + 0.010*\"set\"\n",
      "2022-02-28 17:10:32,554 : INFO : topic diff=0.504571, rho=0.466151\n",
      "2022-02-28 17:10:32,565 : INFO : PROGRESS: pass 3, at document #2000/3204\n",
      "2022-02-28 17:10:33,436 : INFO : optimized alpha [0.010384888, 0.0105791995, 0.010213047, 0.010976344, 0.009896631, 0.009945947, 0.010891218, 0.008803245, 0.009763288, 0.010173221, 0.010083994, 0.010751, 0.011454473, 0.0104856985, 0.010046475, 0.010210569, 0.010739065, 0.010575272, 0.010516828, 0.010586312, 0.01007735, 0.009817902, 0.009803568, 0.009962686, 0.010269547, 0.010171963, 0.010683718, 0.009993533, 0.009828058, 0.010470799, 0.010122109, 0.010186685, 0.010870005, 0.010156758, 0.010076602, 0.010888141, 0.010556188, 0.010097426, 0.010386248, 0.009898595, 0.010583926, 0.010009098, 0.010511055, 0.009720483, 0.010234617, 0.009747786, 0.010352968, 0.009938753, 0.010558561, 0.011252139, 0.010457685, 0.009979766, 0.010332271, 0.010084256, 0.01042223, 0.009875881, 0.010893294, 0.010145981, 0.011179791, 0.009862847, 0.01043579, 0.010792992, 0.010509599, 0.009743147, 0.010120268, 0.0101247765, 0.010460645, 0.010056211, 0.010130759, 0.00994539, 0.009990372, 0.010268012, 0.012347162, 0.011136105, 0.010300223, 0.0099720135, 0.010812083, 0.009839105, 0.010674931, 0.010768178, 0.009938401, 0.010186168, 0.010332313, 0.010185294, 0.009994403, 0.009776254, 0.009916593, 0.010007525, 0.010160209, 0.010193236, 0.0102200275, 0.010542221, 0.010427042, 0.009917667, 0.010852202, 0.010275201, 0.010325849, 0.0099251205, 0.010670555, 0.010300258]\n",
      "2022-02-28 17:10:33,442 : INFO : merging changes from 2000 documents into a model of 3204 documents\n",
      "2022-02-28 17:10:33,448 : INFO : topic #7 (0.009): 0.001*\"implic\" + 0.001*\"favor\" + 0.001*\"adapt\" + 0.001*\"polygon\" + 0.001*\"stage\" + 0.001*\"situat\" + 0.001*\"respons\" + 0.001*\"industri\" + 0.001*\"regress\" + 0.001*\"drive\"\n",
      "2022-02-28 17:10:33,448 : INFO : topic #43 (0.010): 0.068*\"list\" + 0.056*\"program\" + 0.051*\"pl\" + 0.042*\"/\" + 0.038*\",\" + 0.029*\"-\" + 0.028*\"undergradu\" + 0.026*\"disciplin\" + 0.022*\"process\" + 0.021*\"languag\"\n",
      "2022-02-28 17:10:33,449 : INFO : topic #49 (0.011): 0.101*\",\" + 0.096*\"system\" + 0.029*\"user\" + 0.027*\"-\" + 0.023*\"oper\" + 0.019*\"program\" + 0.018*\"comput\" + 0.018*\"interact\" + 0.017*\"graphic\" + 0.016*\"design\"\n",
      "2022-02-28 17:10:33,450 : INFO : topic #12 (0.011): 0.269*\"languag\" + 0.072*\"-\" + 0.060*\",\" + 0.045*\"program\" + 0.031*\"semant\" + 0.027*\"definit\" + 0.025*\"natur\" + 0.019*\"level\" + 0.016*\"type\" + 0.015*\"grammar\"\n",
      "2022-02-28 17:10:33,451 : INFO : topic #72 (0.012): 0.276*\"(\" + 0.274*\")\" + 0.226*\"algorithm\" + 0.029*\"function\" + 0.020*\"integ\" + 0.019*\"polynomi\" + 0.013*\"-\" + 0.010*\"set\" + 0.009*\"goal\" + 0.009*\"error\"\n",
      "2022-02-28 17:10:33,452 : INFO : topic diff=0.520413, rho=0.422502\n",
      "2022-02-28 17:10:34,421 : INFO : -6.699 per-word bound, 103.9 perplexity estimate based on a held-out corpus of 1204 documents with 49783 words\n",
      "2022-02-28 17:10:34,422 : INFO : PROGRESS: pass 3, at document #3204/3204\n",
      "2022-02-28 17:10:35,227 : INFO : optimized alpha [0.010529847, 0.010846588, 0.010395613, 0.011183888, 0.009965705, 0.010070378, 0.011244157, 0.008679527, 0.009849476, 0.010308198, 0.010196456, 0.011059167, 0.011845634, 0.010608422, 0.010143047, 0.01031077, 0.010929978, 0.010815893, 0.010761208, 0.010863709, 0.010175302, 0.009941895, 0.009828631, 0.009946123, 0.010440441, 0.010264311, 0.01094936, 0.010054289, 0.009921559, 0.010654937, 0.010235, 0.0103272265, 0.01108859, 0.010294202, 0.010297036, 0.011149118, 0.010712976, 0.010218849, 0.010628035, 0.010000757, 0.010835425, 0.010186965, 0.010693186, 0.009746437, 0.010432135, 0.009774939, 0.010524816, 0.010028405, 0.010859857, 0.011568321, 0.010668649, 0.010105133, 0.010532068, 0.010093237, 0.010419377, 0.009970974, 0.011216501, 0.010299865, 0.011527988, 0.009928973, 0.010669361, 0.010936927, 0.010670069, 0.009835995, 0.010247031, 0.010295719, 0.010645327, 0.010140152, 0.010296413, 0.010038946, 0.010123634, 0.010406077, 0.01309333, 0.01156882, 0.01051805, 0.010090604, 0.01093255, 0.009917009, 0.010841796, 0.011188797, 0.010036268, 0.010364817, 0.010525908, 0.01027771, 0.0100800125, 0.009870869, 0.010013904, 0.010053273, 0.0103139635, 0.010362318, 0.010369655, 0.010826484, 0.010664964, 0.010038919, 0.011059238, 0.010366102, 0.010530061, 0.010019204, 0.01078516, 0.01042794]\n",
      "2022-02-28 17:10:35,232 : INFO : merging changes from 1204 documents into a model of 3204 documents\n",
      "2022-02-28 17:10:35,238 : INFO : topic #7 (0.009): 0.001*\"implic\" + 0.001*\"favor\" + 0.001*\"adapt\" + 0.001*\"polygon\" + 0.001*\"stage\" + 0.001*\"situat\" + 0.001*\"respons\" + 0.001*\"industri\" + 0.001*\"regress\" + 0.001*\"drive\"\n",
      "2022-02-28 17:10:35,239 : INFO : topic #45 (0.010): 0.094*\"-\" + 0.075*\",\" + 0.032*\"parser\" + 0.024*\"\"\" + 0.022*\"driven\" + 0.021*\"system\" + 0.018*\"algorithm\" + 0.016*\"time\" + 0.016*\"differ\" + 0.015*\"pars\"\n",
      "2022-02-28 17:10:35,240 : INFO : topic #49 (0.012): 0.103*\"system\" + 0.102*\",\" + 0.035*\"user\" + 0.027*\"-\" + 0.025*\"oper\" + 0.022*\"interact\" + 0.020*\"design\" + 0.019*\"comput\" + 0.018*\"graphic\" + 0.015*\"program\"\n",
      "2022-02-28 17:10:35,240 : INFO : topic #12 (0.012): 0.265*\"languag\" + 0.066*\"-\" + 0.063*\",\" + 0.046*\"program\" + 0.042*\"semant\" + 0.029*\"natur\" + 0.027*\"definit\" + 0.025*\"level\" + 0.018*\"type\" + 0.016*\"grammar\"\n",
      "2022-02-28 17:10:35,241 : INFO : topic #72 (0.013): 0.290*\"(\" + 0.281*\")\" + 0.228*\"algorithm\" + 0.025*\"function\" + 0.021*\"integ\" + 0.017*\"polynomi\" + 0.013*\"-\" + 0.011*\"goal\" + 0.008*\"complet\" + 0.008*\"set\"\n",
      "2022-02-28 17:10:35,242 : INFO : topic diff=0.632242, rho=0.422502\n",
      "2022-02-28 17:10:35,252 : INFO : PROGRESS: pass 4, at document #2000/3204\n",
      "2022-02-28 17:10:36,095 : INFO : optimized alpha [0.010523515, 0.010934928, 0.0104305735, 0.011250952, 0.010057062, 0.010118901, 0.0112335775, 0.0085912105, 0.009818892, 0.010331651, 0.010208189, 0.011084551, 0.012066934, 0.010697468, 0.010134176, 0.010365341, 0.0110149905, 0.010794109, 0.010765528, 0.010937115, 0.010144514, 0.009980125, 0.009800887, 0.010006379, 0.010509684, 0.010379201, 0.010928237, 0.010148485, 0.009929416, 0.010667067, 0.010292863, 0.010325312, 0.011285614, 0.010290122, 0.010407482, 0.01129559, 0.0107131265, 0.010233544, 0.0106107155, 0.01003221, 0.010915693, 0.01016522, 0.010616882, 0.009717937, 0.010409409, 0.009717659, 0.010554559, 0.010054497, 0.0109037245, 0.011653076, 0.010731458, 0.010049125, 0.010536103, 0.010282641, 0.010673426, 0.009925753, 0.011353489, 0.010283097, 0.011726685, 0.009936705, 0.010729253, 0.010912172, 0.010630895, 0.009800774, 0.010209596, 0.010274666, 0.010622222, 0.01020444, 0.010269765, 0.010000092, 0.010089684, 0.010551449, 0.014063452, 0.011514519, 0.010515521, 0.010082833, 0.01139447, 0.00990802, 0.011107863, 0.011402636, 0.01001166, 0.010290429, 0.010628277, 0.010356908, 0.010077654, 0.009929671, 0.010072493, 0.010179455, 0.01033324, 0.010345711, 0.010478733, 0.010880661, 0.010649112, 0.010064758, 0.011303913, 0.010551814, 0.010626022, 0.010020058, 0.010812383, 0.010514041]\n",
      "2022-02-28 17:10:36,100 : INFO : merging changes from 2000 documents into a model of 3204 documents\n",
      "2022-02-28 17:10:36,106 : INFO : topic #7 (0.009): 0.001*\"implic\" + 0.001*\"favor\" + 0.001*\"adapt\" + 0.001*\"polygon\" + 0.001*\"stage\" + 0.001*\"situat\" + 0.001*\"respons\" + 0.001*\"industri\" + 0.001*\"regress\" + 0.001*\"drive\"\n",
      "2022-02-28 17:10:36,107 : INFO : topic #45 (0.010): 0.092*\"-\" + 0.074*\",\" + 0.027*\"parser\" + 0.024*\"\"\" + 0.020*\"system\" + 0.017*\"driven\" + 0.016*\"differ\" + 0.016*\"algorithm\" + 0.015*\"pars\" + 0.015*\"gener\"\n",
      "2022-02-28 17:10:36,108 : INFO : topic #58 (0.012): 0.138*\"problem\" + 0.129*\"solut\" + 0.082*\"equat\" + 0.067*\"linear\" + 0.062*\"method\" + 0.046*\"numer\" + 0.040*\"algorithm\" + 0.034*\"solv\" + 0.034*\"-\" + 0.025*\"nonlinear\"\n",
      "2022-02-28 17:10:36,109 : INFO : topic #12 (0.012): 0.286*\"languag\" + 0.070*\"-\" + 0.064*\",\" + 0.049*\"program\" + 0.034*\"semant\" + 0.026*\"natur\" + 0.024*\"definit\" + 0.021*\"level\" + 0.016*\"type\" + 0.014*\"form\"\n",
      "2022-02-28 17:10:36,110 : INFO : topic #72 (0.014): 0.300*\"(\" + 0.294*\")\" + 0.233*\"algorithm\" + 0.023*\"function\" + 0.017*\"polynomi\" + 0.016*\"integ\" + 0.012*\"-\" + 0.008*\"set\" + 0.007*\"complet\" + 0.007*\"kind\"\n",
      "2022-02-28 17:10:36,111 : INFO : topic diff=0.615840, rho=0.389191\n",
      "2022-02-28 17:10:37,072 : INFO : -6.643 per-word bound, 100.0 perplexity estimate based on a held-out corpus of 1204 documents with 49783 words\n",
      "2022-02-28 17:10:37,072 : INFO : PROGRESS: pass 4, at document #3204/3204\n",
      "2022-02-28 17:10:37,868 : INFO : optimized alpha [0.010668449, 0.011192578, 0.010607161, 0.0114516085, 0.010127327, 0.010244277, 0.011568925, 0.008483721, 0.009915125, 0.010467078, 0.010332688, 0.011366418, 0.012458014, 0.010831649, 0.010233722, 0.010471576, 0.011210935, 0.011018493, 0.0110219205, 0.011218506, 0.0102592185, 0.010108237, 0.009825366, 0.0100047905, 0.010682251, 0.010497838, 0.011201724, 0.010224289, 0.010029303, 0.010845431, 0.01041753, 0.010472877, 0.0115081845, 0.01042808, 0.010664903, 0.011588349, 0.010862232, 0.0103496155, 0.010843159, 0.010136797, 0.01117589, 0.010337401, 0.01081056, 0.009746382, 0.010606933, 0.009763436, 0.010707454, 0.010147595, 0.011208135, 0.01196972, 0.010921202, 0.01016904, 0.010715277, 0.010286182, 0.010706354, 0.010027241, 0.011665867, 0.010432776, 0.0120868515, 0.010008138, 0.010971887, 0.011024408, 0.010801158, 0.009912963, 0.010350894, 0.010433654, 0.010786975, 0.010302121, 0.01043741, 0.010087256, 0.010216903, 0.010703404, 0.014982735, 0.011902964, 0.010732609, 0.010189962, 0.011551794, 0.009990339, 0.01128065, 0.011849181, 0.010102949, 0.0104631465, 0.010812394, 0.010449161, 0.010163862, 0.010046214, 0.010162622, 0.0102477055, 0.0104962485, 0.010496135, 0.010621137, 0.01118296, 0.010877987, 0.010210088, 0.011529776, 0.010662477, 0.010813216, 0.010123913, 0.010950748, 0.010635668]\n",
      "2022-02-28 17:10:37,874 : INFO : merging changes from 1204 documents into a model of 3204 documents\n",
      "2022-02-28 17:10:37,880 : INFO : topic #7 (0.008): 0.001*\"implic\" + 0.001*\"favor\" + 0.001*\"adapt\" + 0.001*\"polygon\" + 0.001*\"stage\" + 0.001*\"situat\" + 0.001*\"respons\" + 0.001*\"industri\" + 0.001*\"regress\" + 0.001*\"drive\"\n",
      "2022-02-28 17:10:37,881 : INFO : topic #43 (0.010): 0.072*\"pl\" + 0.062*\"list\" + 0.058*\"program\" + 0.049*\"/\" + 0.046*\"disciplin\" + 0.037*\",\" + 0.030*\"undergradu\" + 0.028*\"-\" + 0.023*\"calculu\" + 0.021*\"comput\"\n",
      "2022-02-28 17:10:37,881 : INFO : topic #58 (0.012): 0.158*\"problem\" + 0.132*\"solut\" + 0.073*\"linear\" + 0.073*\"equat\" + 0.058*\"method\" + 0.043*\"algorithm\" + 0.039*\"solv\" + 0.036*\"numer\" + 0.034*\"-\" + 0.025*\"nonlinear\"\n",
      "2022-02-28 17:10:37,882 : INFO : topic #12 (0.012): 0.282*\"languag\" + 0.066*\"-\" + 0.066*\",\" + 0.050*\"program\" + 0.043*\"semant\" + 0.029*\"natur\" + 0.027*\"level\" + 0.024*\"definit\" + 0.015*\"type\" + 0.015*\"form\"\n",
      "2022-02-28 17:10:37,884 : INFO : topic #72 (0.015): 0.310*\"(\" + 0.298*\")\" + 0.231*\"algorithm\" + 0.021*\"function\" + 0.018*\"integ\" + 0.015*\"polynomi\" + 0.012*\"-\" + 0.007*\"goal\" + 0.007*\"complet\" + 0.006*\"set\"\n",
      "2022-02-28 17:10:37,888 : INFO : topic diff=0.678372, rho=0.389191\n",
      "2022-02-28 17:10:37,901 : INFO : PROGRESS: pass 5, at document #2000/3204\n",
      "2022-02-28 17:10:38,756 : INFO : optimized alpha [0.010654493, 0.011291446, 0.01064134, 0.011539457, 0.010224387, 0.010298954, 0.011558594, 0.008406017, 0.009895987, 0.010494572, 0.010349287, 0.011411475, 0.012694246, 0.010938715, 0.010225754, 0.010528516, 0.011302768, 0.01100304, 0.01103454, 0.011290661, 0.010238268, 0.010158765, 0.009809741, 0.010078196, 0.010748862, 0.010625182, 0.011178113, 0.010314874, 0.010053237, 0.010852315, 0.0104755, 0.010472724, 0.011693401, 0.01043369, 0.01078652, 0.011779603, 0.010866104, 0.010386088, 0.010825692, 0.010175534, 0.011258784, 0.010327796, 0.0107506905, 0.009708555, 0.010586821, 0.009727427, 0.010735012, 0.010183347, 0.011253965, 0.012066073, 0.010985823, 0.010118966, 0.010736092, 0.010468927, 0.010953602, 0.0099911075, 0.011809833, 0.010430184, 0.01230234, 0.010034185, 0.011045188, 0.01100766, 0.0107720075, 0.009889409, 0.010319624, 0.010417384, 0.01076488, 0.010383357, 0.010414009, 0.010057206, 0.010185251, 0.010846732, 0.016125225, 0.01184612, 0.010737085, 0.010184794, 0.012009803, 0.009993416, 0.011553281, 0.012090387, 0.010091468, 0.010401151, 0.010922426, 0.010521729, 0.0101676285, 0.010119713, 0.010230697, 0.01039109, 0.01053479, 0.010484229, 0.010712291, 0.01123251, 0.010871807, 0.01023958, 0.011773816, 0.010869438, 0.010903307, 0.010128554, 0.010982081, 0.01071848]\n",
      "2022-02-28 17:10:38,762 : INFO : merging changes from 2000 documents into a model of 3204 documents\n",
      "2022-02-28 17:10:38,768 : INFO : topic #7 (0.008): 0.001*\"implic\" + 0.001*\"favor\" + 0.001*\"adapt\" + 0.001*\"polygon\" + 0.001*\"stage\" + 0.001*\"situat\" + 0.001*\"respons\" + 0.001*\"industri\" + 0.001*\"regress\" + 0.001*\"drive\"\n",
      "2022-02-28 17:10:38,769 : INFO : topic #43 (0.010): 0.061*\"pl\" + 0.061*\"list\" + 0.055*\"program\" + 0.045*\"/\" + 0.036*\",\" + 0.034*\"disciplin\" + 0.031*\"undergradu\" + 0.028*\"-\" + 0.024*\"calculu\" + 0.024*\"analysi\"\n",
      "2022-02-28 17:10:38,771 : INFO : topic #58 (0.012): 0.152*\"problem\" + 0.133*\"solut\" + 0.082*\"equat\" + 0.069*\"linear\" + 0.059*\"method\" + 0.046*\"numer\" + 0.037*\"algorithm\" + 0.037*\"solv\" + 0.036*\"-\" + 0.024*\"nonlinear\"\n",
      "2022-02-28 17:10:38,772 : INFO : topic #12 (0.013): 0.299*\"languag\" + 0.070*\"-\" + 0.066*\",\" + 0.053*\"program\" + 0.035*\"semant\" + 0.026*\"natur\" + 0.023*\"level\" + 0.021*\"definit\" + 0.014*\"form\" + 0.014*\"gener\"\n",
      "2022-02-28 17:10:38,774 : INFO : topic #72 (0.016): 0.315*\"(\" + 0.307*\")\" + 0.233*\"algorithm\" + 0.020*\"function\" + 0.016*\"polynomi\" + 0.014*\"integ\" + 0.011*\"-\" + 0.006*\"complet\" + 0.006*\"root\" + 0.006*\"error\"\n",
      "2022-02-28 17:10:38,775 : INFO : topic diff=0.625494, rho=0.362690\n",
      "2022-02-28 17:10:39,754 : INFO : -6.599 per-word bound, 97.0 perplexity estimate based on a held-out corpus of 1204 documents with 49783 words\n",
      "2022-02-28 17:10:39,755 : INFO : PROGRESS: pass 5, at document #3204/3204\n",
      "2022-02-28 17:10:40,548 : INFO : optimized alpha [0.010794044, 0.011563136, 0.010814337, 0.011742974, 0.010305431, 0.010438535, 0.011884148, 0.008311101, 0.00999271, 0.010631443, 0.010469599, 0.011699324, 0.013069527, 0.011081021, 0.0103194015, 0.010631364, 0.01149838, 0.011227855, 0.011290779, 0.011547558, 0.01034641, 0.010300614, 0.00984275, 0.010080116, 0.010921207, 0.010752333, 0.011440279, 0.010388916, 0.01016558, 0.011020281, 0.010592599, 0.010621239, 0.011911053, 0.010560407, 0.011051277, 0.012109012, 0.01102645, 0.0105014, 0.011041783, 0.010280032, 0.01151936, 0.010490056, 0.010952972, 0.009733461, 0.010766574, 0.009797994, 0.010882228, 0.010264641, 0.011560435, 0.012378376, 0.01116488, 0.010228824, 0.010908242, 0.010471074, 0.010999175, 0.010102057, 0.012114705, 0.010570966, 0.012669931, 0.010122801, 0.011298353, 0.011113365, 0.010922515, 0.010001211, 0.01045271, 0.010573216, 0.010919949, 0.010487666, 0.010600468, 0.010142398, 0.010301847, 0.011002764, 0.017238256, 0.012214765, 0.010958545, 0.010304332, 0.012189378, 0.010067797, 0.011747078, 0.012566645, 0.010205296, 0.010566906, 0.011112521, 0.010617924, 0.010254802, 0.010229339, 0.010327614, 0.010467151, 0.010713731, 0.010635571, 0.010862438, 0.011557556, 0.011094454, 0.010401136, 0.012001686, 0.0109726135, 0.011073253, 0.010232438, 0.011112302, 0.010839113]\n",
      "2022-02-28 17:10:40,554 : INFO : merging changes from 1204 documents into a model of 3204 documents\n",
      "2022-02-28 17:10:40,561 : INFO : topic #7 (0.008): 0.001*\"implic\" + 0.001*\"favor\" + 0.001*\"adapt\" + 0.001*\"polygon\" + 0.001*\"stage\" + 0.001*\"situat\" + 0.001*\"respons\" + 0.001*\"industri\" + 0.001*\"regress\" + 0.001*\"drive\"\n",
      "2022-02-28 17:10:40,562 : INFO : topic #43 (0.010): 0.075*\"pl\" + 0.056*\"program\" + 0.054*\"list\" + 0.051*\"disciplin\" + 0.051*\"/\" + 0.036*\",\" + 0.031*\"undergradu\" + 0.028*\"-\" + 0.026*\"calculu\" + 0.023*\"comput\"\n",
      "2022-02-28 17:10:40,563 : INFO : topic #58 (0.013): 0.169*\"problem\" + 0.135*\"solut\" + 0.074*\"linear\" + 0.073*\"equat\" + 0.054*\"method\" + 0.041*\"solv\" + 0.041*\"algorithm\" + 0.037*\"numer\" + 0.035*\"-\" + 0.025*\"nonlinear\"\n",
      "2022-02-28 17:10:40,565 : INFO : topic #12 (0.013): 0.294*\"languag\" + 0.068*\",\" + 0.065*\"-\" + 0.054*\"program\" + 0.044*\"semant\" + 0.029*\"natur\" + 0.029*\"level\" + 0.020*\"definit\" + 0.016*\"form\" + 0.014*\"gener\"\n",
      "2022-02-28 17:10:40,566 : INFO : topic #72 (0.017): 0.324*\"(\" + 0.309*\")\" + 0.230*\"algorithm\" + 0.018*\"function\" + 0.016*\"integ\" + 0.014*\"polynomi\" + 0.012*\"-\" + 0.006*\"complet\" + 0.006*\"root\" + 0.005*\"goal\"\n",
      "2022-02-28 17:10:40,567 : INFO : topic diff=0.649687, rho=0.362690\n",
      "2022-02-28 17:10:40,576 : INFO : PROGRESS: pass 6, at document #2000/3204\n",
      "2022-02-28 17:10:41,450 : INFO : optimized alpha [0.010790095, 0.011664431, 0.010848066, 0.011840209, 0.010413447, 0.010495527, 0.011872144, 0.008241825, 0.009976651, 0.010660938, 0.010497851, 0.011750778, 0.013319289, 0.0111920815, 0.010317464, 0.010685293, 0.011599126, 0.01121797, 0.011303305, 0.011621039, 0.010326974, 0.010362351, 0.009839062, 0.01015871, 0.010991428, 0.010873535, 0.011420281, 0.0104821, 0.0102074, 0.011028303, 0.010656607, 0.010630044, 0.012098591, 0.010572968, 0.011193557, 0.012336624, 0.011039217, 0.010539485, 0.011024333, 0.010318479, 0.011599311, 0.010484181, 0.010899614, 0.009702457, 0.01074147, 0.009771577, 0.010909922, 0.010303934, 0.011602357, 0.01249262, 0.011231488, 0.010182112, 0.010938734, 0.010638192, 0.011240008, 0.010076933, 0.012257992, 0.010570178, 0.012883761, 0.010152788, 0.01137485, 0.011103733, 0.010900479, 0.009982708, 0.010428656, 0.010552051, 0.010902627, 0.010582965, 0.010590486, 0.01011984, 0.010268781, 0.011148915, 0.018509232, 0.012155685, 0.010982686, 0.010311769, 0.012638336, 0.010076304, 0.012028328, 0.01283438, 0.010213919, 0.010510134, 0.011224671, 0.010690464, 0.010255141, 0.010311325, 0.010406402, 0.010616356, 0.010758985, 0.010631403, 0.010952674, 0.011601018, 0.011099038, 0.0104304105, 0.012250807, 0.011208159, 0.011164246, 0.010240541, 0.011147571, 0.010923194]\n",
      "2022-02-28 17:10:41,456 : INFO : merging changes from 2000 documents into a model of 3204 documents\n",
      "2022-02-28 17:10:41,462 : INFO : topic #7 (0.008): 0.001*\"implic\" + 0.001*\"favor\" + 0.001*\"adapt\" + 0.001*\"polygon\" + 0.001*\"stage\" + 0.001*\"situat\" + 0.001*\"respons\" + 0.001*\"industri\" + 0.001*\"regress\" + 0.001*\"drive\"\n",
      "2022-02-28 17:10:41,462 : INFO : topic #43 (0.010): 0.066*\"pl\" + 0.053*\"program\" + 0.051*\"list\" + 0.048*\"/\" + 0.039*\"disciplin\" + 0.034*\",\" + 0.032*\"undergradu\" + 0.029*\"-\" + 0.026*\"calculu\" + 0.024*\"analysi\"\n",
      "2022-02-28 17:10:41,463 : INFO : topic #58 (0.013): 0.163*\"problem\" + 0.135*\"solut\" + 0.081*\"equat\" + 0.069*\"linear\" + 0.056*\"method\" + 0.045*\"numer\" + 0.039*\"solv\" + 0.037*\"-\" + 0.036*\"algorithm\" + 0.024*\"system\"\n",
      "2022-02-28 17:10:41,464 : INFO : topic #12 (0.013): 0.311*\"languag\" + 0.068*\"-\" + 0.067*\",\" + 0.056*\"program\" + 0.036*\"semant\" + 0.026*\"natur\" + 0.025*\"level\" + 0.018*\"definit\" + 0.015*\"form\" + 0.014*\"gener\"\n",
      "2022-02-28 17:10:41,465 : INFO : topic #72 (0.019): 0.327*\"(\" + 0.315*\")\" + 0.233*\"algorithm\" + 0.017*\"function\" + 0.015*\"polynomi\" + 0.013*\"integ\" + 0.011*\"-\" + 0.006*\"complet\" + 0.005*\"root\" + 0.005*\"kind\"\n",
      "2022-02-28 17:10:41,466 : INFO : topic diff=0.581230, rho=0.340958\n",
      "2022-02-28 17:10:42,451 : INFO : -6.569 per-word bound, 94.9 perplexity estimate based on a held-out corpus of 1204 documents with 49783 words\n",
      "2022-02-28 17:10:42,452 : INFO : PROGRESS: pass 6, at document #3204/3204\n",
      "2022-02-28 17:10:43,262 : INFO : optimized alpha [0.010928688, 0.011937785, 0.011018684, 0.012047621, 0.010501686, 0.010639878, 0.012183716, 0.008156866, 0.010068509, 0.010790797, 0.010620992, 0.012012685, 0.013693103, 0.01132677, 0.010406209, 0.010776515, 0.011798538, 0.0114415735, 0.011541585, 0.011869882, 0.010432711, 0.010508792, 0.009879356, 0.010178034, 0.011167689, 0.011000038, 0.011680184, 0.010557855, 0.010319781, 0.011194121, 0.010773631, 0.010768065, 0.012309617, 0.01069013, 0.0114830965, 0.012675912, 0.011181863, 0.010666806, 0.011214204, 0.010420428, 0.011864944, 0.010647233, 0.011110656, 0.009721545, 0.010893894, 0.009852873, 0.011043495, 0.010372184, 0.011912863, 0.012785221, 0.0113985995, 0.010283526, 0.01111181, 0.010636332, 0.01128477, 0.010196635, 0.012554152, 0.010706774, 0.013253506, 0.010251346, 0.01162333, 0.011204067, 0.011058918, 0.01009168, 0.0105668325, 0.010705767, 0.011049915, 0.010684733, 0.010779822, 0.01020655, 0.010370636, 0.011322255, 0.019802725, 0.012504648, 0.011203388, 0.010436952, 0.012836823, 0.0101470025, 0.012219482, 0.013322038, 0.010333678, 0.010676466, 0.011418574, 0.010772236, 0.010340843, 0.010426911, 0.010501146, 0.010696884, 0.010950584, 0.010781231, 0.011107695, 0.011909879, 0.011320399, 0.010604772, 0.012485452, 0.011349379, 0.011332037, 0.010350694, 0.011280626, 0.011046721]\n",
      "2022-02-28 17:10:43,268 : INFO : merging changes from 1204 documents into a model of 3204 documents\n",
      "2022-02-28 17:10:43,274 : INFO : topic #7 (0.008): 0.001*\"implic\" + 0.001*\"favor\" + 0.001*\"adapt\" + 0.001*\"polygon\" + 0.001*\"stage\" + 0.001*\"situat\" + 0.001*\"respons\" + 0.001*\"industri\" + 0.001*\"regress\" + 0.001*\"drive\"\n",
      "2022-02-28 17:10:43,275 : INFO : topic #43 (0.010): 0.079*\"pl\" + 0.055*\"disciplin\" + 0.054*\"program\" + 0.053*\"/\" + 0.046*\"list\" + 0.034*\",\" + 0.032*\"undergradu\" + 0.029*\"-\" + 0.028*\"calculu\" + 0.024*\"comput\"\n",
      "2022-02-28 17:10:43,275 : INFO : topic #58 (0.013): 0.180*\"problem\" + 0.137*\"solut\" + 0.074*\"linear\" + 0.072*\"equat\" + 0.052*\"method\" + 0.043*\"solv\" + 0.039*\"algorithm\" + 0.038*\"numer\" + 0.037*\"-\" + 0.025*\"nonlinear\"\n",
      "2022-02-28 17:10:43,276 : INFO : topic #12 (0.014): 0.304*\"languag\" + 0.069*\",\" + 0.064*\"-\" + 0.057*\"program\" + 0.044*\"semant\" + 0.030*\"level\" + 0.029*\"natur\" + 0.016*\"definit\" + 0.016*\"form\" + 0.014*\"gener\"\n",
      "2022-02-28 17:10:43,278 : INFO : topic #72 (0.020): 0.336*\"(\" + 0.317*\")\" + 0.229*\"algorithm\" + 0.015*\"function\" + 0.014*\"polynomi\" + 0.013*\"integ\" + 0.011*\"-\" + 0.005*\"root\" + 0.005*\"complet\" + 0.005*\"semi\"\n",
      "2022-02-28 17:10:43,279 : INFO : topic diff=0.586386, rho=0.340958\n",
      "2022-02-28 17:10:43,288 : INFO : PROGRESS: pass 7, at document #2000/3204\n",
      "2022-02-28 17:10:44,178 : INFO : optimized alpha [0.010923088, 0.012037984, 0.011057628, 0.012150221, 0.010620417, 0.01069408, 0.012174336, 0.008094438, 0.010058461, 0.010824004, 0.01065484, 0.012070504, 0.013939752, 0.011438413, 0.010406388, 0.010826259, 0.011904264, 0.011442398, 0.011559904, 0.011931642, 0.010412833, 0.010574405, 0.009884627, 0.010264835, 0.011238086, 0.011126822, 0.011661719, 0.010645324, 0.010361303, 0.011195905, 0.010839949, 0.010779902, 0.0125003, 0.010703867, 0.011640454, 0.012917474, 0.011195782, 0.010716884, 0.011193279, 0.010462109, 0.011940471, 0.010644692, 0.011064522, 0.009691825, 0.010875136, 0.0098380055, 0.011071552, 0.010411627, 0.011964946, 0.012904769, 0.011469523, 0.010237995, 0.011142275, 0.010794873, 0.0115243215, 0.010182858, 0.012693497, 0.010709401, 0.013479564, 0.0102833295, 0.011703251, 0.011195243, 0.011048556, 0.010080869, 0.010540433, 0.010688823, 0.011033292, 0.010777761, 0.01078012, 0.010187269, 0.010348036, 0.011468197, 0.021195551, 0.012441545, 0.011223889, 0.010455938, 0.013281117, 0.010162165, 0.012498702, 0.01361146, 0.010357056, 0.0106327, 0.011527794, 0.010843377, 0.010346512, 0.010517005, 0.010578145, 0.01085409, 0.0110038305, 0.010782424, 0.011200994, 0.011955659, 0.01132014, 0.010644315, 0.0127368625, 0.011597563, 0.0114151435, 0.010356767, 0.011321658, 0.011123406]\n",
      "2022-02-28 17:10:44,184 : INFO : merging changes from 2000 documents into a model of 3204 documents\n",
      "2022-02-28 17:10:44,190 : INFO : topic #7 (0.008): 0.001*\"implic\" + 0.001*\"favor\" + 0.001*\"adapt\" + 0.001*\"polygon\" + 0.001*\"stage\" + 0.001*\"situat\" + 0.001*\"respons\" + 0.001*\"industri\" + 0.001*\"regress\" + 0.001*\"drive\"\n",
      "2022-02-28 17:10:44,191 : INFO : topic #43 (0.010): 0.070*\"pl\" + 0.052*\"program\" + 0.050*\"/\" + 0.044*\"list\" + 0.043*\"disciplin\" + 0.033*\"undergradu\" + 0.033*\",\" + 0.029*\"-\" + 0.029*\"calculu\" + 0.026*\"comput\"\n",
      "2022-02-28 17:10:44,192 : INFO : topic #79 (0.014): 0.500*\"method\" + 0.060*\"'\" + 0.044*\"condit\" + 0.041*\"iter\" + 0.029*\"suffici\" + 0.025*\"end\" + 0.023*\"occur\" + 0.019*\"consid\" + 0.018*\"degre\" + 0.018*\"class\"\n",
      "2022-02-28 17:10:44,192 : INFO : topic #12 (0.014): 0.318*\"languag\" + 0.069*\",\" + 0.067*\"-\" + 0.059*\"program\" + 0.036*\"semant\" + 0.026*\"natur\" + 0.026*\"level\" + 0.016*\"form\" + 0.015*\"definit\" + 0.014*\"gener\"\n",
      "2022-02-28 17:10:44,193 : INFO : topic #72 (0.021): 0.337*\"(\" + 0.323*\")\" + 0.231*\"algorithm\" + 0.014*\"polynomi\" + 0.013*\"function\" + 0.011*\"integ\" + 0.011*\"-\" + 0.005*\"complet\" + 0.005*\"root\" + 0.004*\"kind\"\n",
      "2022-02-28 17:10:44,194 : INFO : topic diff=0.516953, rho=0.322715\n",
      "2022-02-28 17:10:45,351 : INFO : -6.544 per-word bound, 93.3 perplexity estimate based on a held-out corpus of 1204 documents with 49783 words\n",
      "2022-02-28 17:10:45,352 : INFO : PROGRESS: pass 7, at document #3204/3204\n",
      "2022-02-28 17:10:46,176 : INFO : optimized alpha [0.011058666, 0.012320886, 0.011224001, 0.012352579, 0.010710084, 0.010849413, 0.012480802, 0.008017615, 0.010148968, 0.01094224, 0.010766729, 0.012328803, 0.01429873, 0.011566817, 0.010496828, 0.01092203, 0.012095398, 0.011653749, 0.011791899, 0.012183547, 0.010530987, 0.010725864, 0.009931531, 0.010302496, 0.0114129465, 0.011262428, 0.011895521, 0.010720183, 0.01046591, 0.011360494, 0.010954539, 0.0109264795, 0.012712963, 0.010815863, 0.011933645, 0.013268292, 0.011344341, 0.010835585, 0.011377853, 0.010562246, 0.012205787, 0.010806415, 0.011281758, 0.009716318, 0.011023791, 0.009923824, 0.011199205, 0.010474027, 0.012277757, 0.0131974565, 0.011638694, 0.010337814, 0.011311066, 0.010798196, 0.011577761, 0.010297342, 0.012975827, 0.010845603, 0.013867883, 0.010382929, 0.011936137, 0.011288093, 0.011218137, 0.010187783, 0.010683937, 0.010844244, 0.011177012, 0.010880634, 0.0109760165, 0.010278448, 0.010425789, 0.0116342595, 0.022658473, 0.012777011, 0.01143882, 0.010581281, 0.013499383, 0.010229785, 0.012688376, 0.014109546, 0.010479979, 0.010797589, 0.011716871, 0.01093012, 0.010428475, 0.010638658, 0.010679854, 0.010936183, 0.011193642, 0.010934539, 0.011352529, 0.012263466, 0.0115262745, 0.010825626, 0.012958965, 0.01176642, 0.0115879495, 0.010456552, 0.011454987, 0.011241149]\n",
      "2022-02-28 17:10:46,182 : INFO : merging changes from 1204 documents into a model of 3204 documents\n",
      "2022-02-28 17:10:46,188 : INFO : topic #7 (0.008): 0.001*\"implic\" + 0.001*\"favor\" + 0.001*\"adapt\" + 0.001*\"polygon\" + 0.001*\"stage\" + 0.001*\"situat\" + 0.001*\"respons\" + 0.001*\"industri\" + 0.001*\"regress\" + 0.001*\"drive\"\n",
      "2022-02-28 17:10:46,189 : INFO : topic #43 (0.010): 0.081*\"pl\" + 0.058*\"disciplin\" + 0.055*\"/\" + 0.053*\"program\" + 0.038*\"list\" + 0.033*\"undergradu\" + 0.032*\",\" + 0.029*\"-\" + 0.029*\"calculu\" + 0.026*\"frequenc\"\n",
      "2022-02-28 17:10:46,189 : INFO : topic #79 (0.014): 0.514*\"method\" + 0.060*\"'\" + 0.048*\"condit\" + 0.033*\"iter\" + 0.032*\"suffici\" + 0.031*\"end\" + 0.021*\"occur\" + 0.020*\"class\" + 0.020*\"consid\" + 0.017*\"gener\"\n",
      "2022-02-28 17:10:46,190 : INFO : topic #12 (0.014): 0.312*\"languag\" + 0.070*\",\" + 0.063*\"-\" + 0.060*\"program\" + 0.044*\"semant\" + 0.031*\"level\" + 0.029*\"natur\" + 0.017*\"form\" + 0.015*\"definit\" + 0.014*\"gener\"\n",
      "2022-02-28 17:10:46,191 : INFO : topic #72 (0.023): 0.344*\"(\" + 0.325*\")\" + 0.228*\"algorithm\" + 0.013*\"polynomi\" + 0.012*\"function\" + 0.011*\"-\" + 0.011*\"integ\" + 0.005*\"root\" + 0.005*\"complet\" + 0.005*\"semi\"\n",
      "2022-02-28 17:10:46,192 : INFO : topic diff=0.515392, rho=0.322715\n",
      "2022-02-28 17:10:46,199 : INFO : PROGRESS: pass 8, at document #2000/3204\n",
      "2022-02-28 17:10:47,081 : INFO : optimized alpha [0.011065242, 0.01243383, 0.011267959, 0.012460745, 0.010834348, 0.010909541, 0.012471919, 0.007960854, 0.010142786, 0.010974069, 0.010802602, 0.012400628, 0.014545394, 0.011684828, 0.010500495, 0.010971503, 0.012210063, 0.011653784, 0.011815905, 0.012245746, 0.01051863, 0.01079041, 0.009943261, 0.010398634, 0.0114837475, 0.01138983, 0.011882447, 0.010807613, 0.010507321, 0.0113689, 0.011018113, 0.010941087, 0.012891759, 0.010830815, 0.012086089, 0.013536962, 0.011360989, 0.010878628, 0.011355525, 0.010603942, 0.012281433, 0.010805385, 0.011235011, 0.009692035, 0.010998938, 0.009919136, 0.011229456, 0.010515325, 0.012334095, 0.013324665, 0.011713778, 0.010294885, 0.0113398945, 0.010951022, 0.011815307, 0.010292251, 0.013117812, 0.010846348, 0.014092096, 0.010420069, 0.012017955, 0.011278357, 0.0112149, 0.010179241, 0.01065692, 0.010831047, 0.011161032, 0.01097532, 0.010980678, 0.010258804, 0.010404671, 0.011780568, 0.024162645, 0.012716136, 0.011471851, 0.010606065, 0.013936579, 0.010247765, 0.012974421, 0.014408819, 0.01051536, 0.010760503, 0.0118273515, 0.011005305, 0.010432682, 0.010733607, 0.010758874, 0.011091507, 0.011258164, 0.010942246, 0.011459677, 0.012313682, 0.011527067, 0.010876442, 0.01320763, 0.012033746, 0.011671139, 0.010465763, 0.011496067, 0.011321712]\n",
      "2022-02-28 17:10:47,088 : INFO : merging changes from 2000 documents into a model of 3204 documents\n",
      "2022-02-28 17:10:47,094 : INFO : topic #7 (0.008): 0.001*\"implic\" + 0.001*\"favor\" + 0.001*\"adapt\" + 0.001*\"polygon\" + 0.001*\"stage\" + 0.001*\"situat\" + 0.001*\"respons\" + 0.001*\"industri\" + 0.001*\"regress\" + 0.001*\"drive\"\n",
      "2022-02-28 17:10:47,094 : INFO : topic #43 (0.010): 0.073*\"pl\" + 0.053*\"program\" + 0.052*\"/\" + 0.046*\"disciplin\" + 0.035*\"list\" + 0.034*\"undergradu\" + 0.030*\",\" + 0.030*\"calculu\" + 0.029*\"-\" + 0.027*\"comput\"\n",
      "2022-02-28 17:10:47,095 : INFO : topic #79 (0.014): 0.522*\"method\" + 0.058*\"'\" + 0.043*\"condit\" + 0.041*\"iter\" + 0.029*\"suffici\" + 0.025*\"end\" + 0.022*\"occur\" + 0.018*\"consid\" + 0.018*\"degre\" + 0.016*\"class\"\n",
      "2022-02-28 17:10:47,096 : INFO : topic #12 (0.015): 0.324*\"languag\" + 0.070*\",\" + 0.066*\"-\" + 0.062*\"program\" + 0.036*\"semant\" + 0.027*\"level\" + 0.027*\"natur\" + 0.016*\"form\" + 0.014*\"gener\" + 0.013*\"definit\"\n",
      "2022-02-28 17:10:47,097 : INFO : topic #72 (0.024): 0.344*\"(\" + 0.329*\")\" + 0.230*\"algorithm\" + 0.014*\"polynomi\" + 0.011*\"-\" + 0.010*\"function\" + 0.009*\"integ\" + 0.005*\"complet\" + 0.005*\"root\" + 0.004*\"coeffici\"\n",
      "2022-02-28 17:10:47,097 : INFO : topic diff=0.451007, rho=0.307119\n",
      "2022-02-28 17:10:48,085 : INFO : -6.523 per-word bound, 92.0 perplexity estimate based on a held-out corpus of 1204 documents with 49783 words\n",
      "2022-02-28 17:10:48,085 : INFO : PROGRESS: pass 8, at document #3204/3204\n",
      "2022-02-28 17:10:48,950 : INFO : optimized alpha [0.01120407, 0.012717863, 0.011431099, 0.012662279, 0.010922845, 0.011081491, 0.012765184, 0.007890822, 0.010235006, 0.011087633, 0.010907245, 0.012653406, 0.014898688, 0.011801807, 0.010584674, 0.0110660335, 0.012397563, 0.011857504, 0.012042957, 0.012482868, 0.01063763, 0.010949916, 0.009993705, 0.0104452185, 0.011652185, 0.011525874, 0.012098576, 0.010876535, 0.010613197, 0.011535939, 0.011145057, 0.011087732, 0.013090021, 0.010946683, 0.012396495, 0.013921961, 0.011494919, 0.011003722, 0.011527155, 0.010702762, 0.0125414515, 0.010972011, 0.011467433, 0.00971384, 0.011144593, 0.010006764, 0.011360775, 0.010575228, 0.012637797, 0.013625739, 0.011882679, 0.010390831, 0.011516782, 0.010956428, 0.011862116, 0.010404956, 0.013394618, 0.010982831, 0.014504325, 0.010526521, 0.012245994, 0.011379394, 0.0113752205, 0.010279369, 0.0108031025, 0.010988674, 0.011299253, 0.011073947, 0.0111779645, 0.010341201, 0.010474178, 0.01194037, 0.025735332, 0.013033645, 0.011700018, 0.010753822, 0.014154019, 0.010312809, 0.013166788, 0.014918742, 0.010644348, 0.010913465, 0.012021663, 0.011091251, 0.010514153, 0.010855931, 0.010856465, 0.011169806, 0.011458637, 0.011091474, 0.011626119, 0.01262192, 0.0117315035, 0.01107069, 0.013435347, 0.012214812, 0.0118404515, 0.010566986, 0.011642008, 0.01144342]\n",
      "2022-02-28 17:10:48,956 : INFO : merging changes from 1204 documents into a model of 3204 documents\n",
      "2022-02-28 17:10:48,962 : INFO : topic #7 (0.008): 0.001*\"implic\" + 0.001*\"favor\" + 0.001*\"adapt\" + 0.001*\"polygon\" + 0.001*\"stage\" + 0.001*\"situat\" + 0.001*\"respons\" + 0.001*\"industri\" + 0.001*\"regress\" + 0.001*\"drive\"\n",
      "2022-02-28 17:10:48,963 : INFO : topic #43 (0.010): 0.084*\"pl\" + 0.061*\"disciplin\" + 0.055*\"/\" + 0.054*\"program\" + 0.034*\"undergradu\" + 0.032*\"list\" + 0.031*\"calculu\" + 0.030*\",\" + 0.029*\"-\" + 0.028*\"frequenc\"\n",
      "2022-02-28 17:10:48,965 : INFO : topic #12 (0.015): 0.318*\"languag\" + 0.072*\",\" + 0.063*\"program\" + 0.062*\"-\" + 0.044*\"semant\" + 0.031*\"level\" + 0.029*\"natur\" + 0.017*\"form\" + 0.014*\"gener\" + 0.014*\"design\"\n",
      "2022-02-28 17:10:48,967 : INFO : topic #79 (0.015): 0.535*\"method\" + 0.058*\"'\" + 0.046*\"condit\" + 0.033*\"iter\" + 0.031*\"end\" + 0.031*\"suffici\" + 0.020*\"occur\" + 0.020*\"consid\" + 0.018*\"class\" + 0.016*\"degre\"\n",
      "2022-02-28 17:10:48,968 : INFO : topic #72 (0.026): 0.350*\"(\" + 0.330*\")\" + 0.228*\"algorithm\" + 0.013*\"polynomi\" + 0.011*\"-\" + 0.010*\"integ\" + 0.009*\"function\" + 0.005*\"root\" + 0.005*\"complet\" + 0.005*\"semi\"\n",
      "2022-02-28 17:10:48,969 : INFO : topic diff=0.448779, rho=0.307119\n",
      "2022-02-28 17:10:48,977 : INFO : PROGRESS: pass 9, at document #2000/3204\n",
      "2022-02-28 17:10:49,881 : INFO : optimized alpha [0.011208657, 0.012832246, 0.011481649, 0.01277612, 0.011049673, 0.011140879, 0.012758859, 0.007838875, 0.01023681, 0.011119943, 0.01094829, 0.012720189, 0.015145939, 0.011915896, 0.010588445, 0.011121969, 0.012515846, 0.011863968, 0.012063494, 0.0125495335, 0.010624287, 0.011021624, 0.010006925, 0.010545888, 0.011720304, 0.01164753, 0.012088877, 0.010961029, 0.010659369, 0.011533508, 0.011201383, 0.011101626, 0.013265545, 0.010961055, 0.012555556, 0.014202495, 0.011514328, 0.011048409, 0.011503618, 0.010747649, 0.012622979, 0.010972271, 0.011424899, 0.00969154, 0.011120595, 0.010005426, 0.011393215, 0.010626174, 0.012692853, 0.013752526, 0.011955022, 0.010347089, 0.011551, 0.011105954, 0.012096907, 0.010401698, 0.013529936, 0.010983412, 0.014727343, 0.010563855, 0.012324583, 0.01137543, 0.011371811, 0.010271342, 0.010785033, 0.010977322, 0.011292307, 0.01116879, 0.0111868065, 0.010325857, 0.010452996, 0.012087577, 0.027359115, 0.012974924, 0.011736439, 0.010785385, 0.014591223, 0.010331973, 0.013452811, 0.015233358, 0.010684645, 0.010881, 0.012133566, 0.011168812, 0.010523186, 0.010950991, 0.010932822, 0.011322166, 0.011534062, 0.0111069055, 0.011734983, 0.012670992, 0.011738467, 0.011122592, 0.013686089, 0.01248429, 0.011927509, 0.010577513, 0.011693477, 0.01151943]\n",
      "2022-02-28 17:10:49,887 : INFO : merging changes from 2000 documents into a model of 3204 documents\n",
      "2022-02-28 17:10:49,893 : INFO : topic #7 (0.008): 0.001*\"implic\" + 0.001*\"favor\" + 0.001*\"adapt\" + 0.001*\"polygon\" + 0.001*\"stage\" + 0.001*\"situat\" + 0.001*\"respons\" + 0.001*\"industri\" + 0.001*\"regress\" + 0.001*\"drive\"\n",
      "2022-02-28 17:10:49,894 : INFO : topic #43 (0.010): 0.076*\"pl\" + 0.054*\"program\" + 0.053*\"/\" + 0.049*\"disciplin\" + 0.035*\"undergradu\" + 0.031*\"calculu\" + 0.029*\"frequenc\" + 0.029*\"-\" + 0.029*\"list\" + 0.028*\",\"\n",
      "2022-02-28 17:10:49,895 : INFO : topic #12 (0.015): 0.329*\"languag\" + 0.072*\",\" + 0.065*\"-\" + 0.065*\"program\" + 0.037*\"semant\" + 0.028*\"level\" + 0.027*\"natur\" + 0.016*\"form\" + 0.014*\"gener\" + 0.013*\"design\"\n",
      "2022-02-28 17:10:49,897 : INFO : topic #79 (0.015): 0.540*\"method\" + 0.057*\"'\" + 0.041*\"condit\" + 0.041*\"iter\" + 0.027*\"suffici\" + 0.025*\"end\" + 0.021*\"occur\" + 0.019*\"consid\" + 0.017*\"degre\" + 0.016*\"class\"\n",
      "2022-02-28 17:10:49,898 : INFO : topic #72 (0.027): 0.350*\"(\" + 0.333*\")\" + 0.230*\"algorithm\" + 0.013*\"polynomi\" + 0.011*\"-\" + 0.008*\"integ\" + 0.007*\"function\" + 0.005*\"complet\" + 0.005*\"root\" + 0.005*\"coeffici\"\n",
      "2022-02-28 17:10:49,900 : INFO : topic diff=0.390818, rho=0.293585\n",
      "2022-02-28 17:10:50,889 : INFO : -6.506 per-word bound, 90.9 perplexity estimate based on a held-out corpus of 1204 documents with 49783 words\n",
      "2022-02-28 17:10:50,889 : INFO : PROGRESS: pass 9, at document #3204/3204\n",
      "2022-02-28 17:10:51,682 : INFO : optimized alpha [0.011339932, 0.013121499, 0.0116450135, 0.012971238, 0.0111401435, 0.011318266, 0.013040463, 0.0077745835, 0.010333372, 0.0112294145, 0.01105193, 0.012965471, 0.015502097, 0.0120253395, 0.010667081, 0.011210285, 0.012703565, 0.012061067, 0.012286413, 0.01279798, 0.010736562, 0.0111920675, 0.01005337, 0.010606017, 0.011883193, 0.011778791, 0.012309927, 0.01102727, 0.01075632, 0.011692116, 0.011329356, 0.011245953, 0.0134670045, 0.011070195, 0.012868731, 0.014599039, 0.011646572, 0.011169196, 0.011663713, 0.0108507555, 0.012878701, 0.011136057, 0.01165866, 0.0097156605, 0.011258379, 0.010097435, 0.011519959, 0.0106787905, 0.012976142, 0.01405944, 0.012124352, 0.010439798, 0.011724925, 0.011110649, 0.012146551, 0.010515661, 0.013789066, 0.0111177815, 0.015142858, 0.010669179, 0.012551771, 0.011464579, 0.011535137, 0.010385674, 0.010926186, 0.0111320745, 0.0114229405, 0.011271921, 0.011372301, 0.010408024, 0.01052029, 0.012244884, 0.029020913, 0.013282655, 0.011978175, 0.010931003, 0.014812255, 0.0104024075, 0.013651708, 0.015749602, 0.010819721, 0.011034127, 0.012333698, 0.011257077, 0.010607007, 0.011077166, 0.011029431, 0.011402606, 0.011748209, 0.011248365, 0.0119018955, 0.012974445, 0.011936269, 0.011321931, 0.013900035, 0.01267181, 0.012102741, 0.010682894, 0.011851803, 0.011633883]\n",
      "2022-02-28 17:10:51,688 : INFO : merging changes from 1204 documents into a model of 3204 documents\n",
      "2022-02-28 17:10:51,694 : INFO : topic #7 (0.008): 0.001*\"implic\" + 0.001*\"favor\" + 0.001*\"adapt\" + 0.001*\"polygon\" + 0.001*\"stage\" + 0.001*\"situat\" + 0.001*\"respons\" + 0.001*\"industri\" + 0.001*\"regress\" + 0.001*\"drive\"\n",
      "2022-02-28 17:10:51,695 : INFO : topic #43 (0.010): 0.086*\"pl\" + 0.063*\"disciplin\" + 0.055*\"program\" + 0.055*\"/\" + 0.034*\"undergradu\" + 0.032*\"calculu\" + 0.031*\"frequenc\" + 0.028*\"-\" + 0.027*\",\" + 0.027*\"list\"\n",
      "2022-02-28 17:10:51,696 : INFO : topic #12 (0.016): 0.322*\"languag\" + 0.073*\",\" + 0.066*\"program\" + 0.060*\"-\" + 0.044*\"semant\" + 0.031*\"level\" + 0.030*\"natur\" + 0.017*\"form\" + 0.015*\"design\" + 0.014*\"gener\"\n",
      "2022-02-28 17:10:51,696 : INFO : topic #79 (0.016): 0.551*\"method\" + 0.056*\"'\" + 0.044*\"condit\" + 0.034*\"iter\" + 0.030*\"end\" + 0.030*\"suffici\" + 0.020*\"consid\" + 0.019*\"occur\" + 0.018*\"class\" + 0.015*\"degre\"\n",
      "2022-02-28 17:10:51,697 : INFO : topic #72 (0.029): 0.357*\"(\" + 0.335*\")\" + 0.224*\"algorithm\" + 0.013*\"polynomi\" + 0.011*\"-\" + 0.009*\"integ\" + 0.006*\"function\" + 0.005*\"root\" + 0.005*\"complet\" + 0.004*\"semi\"\n",
      "2022-02-28 17:10:51,698 : INFO : topic diff=0.389914, rho=0.293585\n",
      "2022-02-28 17:10:51,708 : INFO : PROGRESS: pass 10, at document #2000/3204\n",
      "2022-02-28 17:10:52,573 : INFO : optimized alpha [0.011347624, 0.013237764, 0.01169704, 0.013088994, 0.011261899, 0.011383425, 0.0130310375, 0.007726731, 0.010336743, 0.011259041, 0.011093258, 0.013031335, 0.015744036, 0.0121394, 0.010678533, 0.011261334, 0.012809287, 0.01207015, 0.012305496, 0.012858275, 0.010726907, 0.011264581, 0.010065106, 0.010721621, 0.011948937, 0.011901919, 0.012305077, 0.0111076785, 0.010801042, 0.011689464, 0.011390121, 0.0112592215, 0.013639892, 0.011088883, 0.013016688, 0.014921656, 0.011666933, 0.011210774, 0.011644068, 0.010894225, 0.012966157, 0.011134357, 0.011621609, 0.009697825, 0.0112368, 0.010099189, 0.011549632, 0.010720815, 0.013039529, 0.01417816, 0.0121943075, 0.010401138, 0.011762617, 0.01125744, 0.012379298, 0.010514053, 0.013935874, 0.0111119645, 0.015369539, 0.010711315, 0.012634484, 0.011464296, 0.011534896, 0.010376497, 0.010908634, 0.011119284, 0.011419463, 0.011360733, 0.011383529, 0.010399436, 0.010501955, 0.01238988, 0.030728001, 0.013224131, 0.012029534, 0.010962946, 0.015252424, 0.010435889, 0.013934732, 0.016069371, 0.010863262, 0.011004198, 0.012445838, 0.011337068, 0.010618979, 0.011170878, 0.0111175645, 0.011555678, 0.011827618, 0.011260018, 0.012019453, 0.013022613, 0.011944111, 0.011370156, 0.014147538, 0.012949519, 0.012185288, 0.010697713, 0.01190656, 0.011705862]\n",
      "2022-02-28 17:10:52,579 : INFO : merging changes from 2000 documents into a model of 3204 documents\n",
      "2022-02-28 17:10:52,585 : INFO : topic #7 (0.008): 0.001*\"implic\" + 0.001*\"favor\" + 0.001*\"adapt\" + 0.001*\"polygon\" + 0.001*\"stage\" + 0.001*\"situat\" + 0.001*\"respons\" + 0.001*\"industri\" + 0.001*\"regress\" + 0.001*\"drive\"\n",
      "2022-02-28 17:10:52,586 : INFO : topic #43 (0.010): 0.079*\"pl\" + 0.054*\"program\" + 0.053*\"/\" + 0.052*\"disciplin\" + 0.035*\"undergradu\" + 0.033*\"calculu\" + 0.031*\"frequenc\" + 0.028*\"-\" + 0.027*\"comput\" + 0.027*\"analysi\"\n",
      "2022-02-28 17:10:52,588 : INFO : topic #12 (0.016): 0.333*\"languag\" + 0.073*\",\" + 0.067*\"program\" + 0.064*\"-\" + 0.037*\"semant\" + 0.028*\"level\" + 0.027*\"natur\" + 0.017*\"form\" + 0.014*\"gener\" + 0.013*\"design\"\n",
      "2022-02-28 17:10:52,589 : INFO : topic #79 (0.016): 0.556*\"method\" + 0.054*\"'\" + 0.041*\"iter\" + 0.040*\"condit\" + 0.027*\"suffici\" + 0.025*\"end\" + 0.020*\"occur\" + 0.018*\"consid\" + 0.017*\"degre\" + 0.015*\"class\"\n",
      "2022-02-28 17:10:52,590 : INFO : topic #72 (0.031): 0.356*\"(\" + 0.338*\")\" + 0.226*\"algorithm\" + 0.013*\"polynomi\" + 0.011*\"-\" + 0.007*\"integ\" + 0.005*\"function\" + 0.005*\"complet\" + 0.005*\"root\" + 0.005*\"coeffici\"\n",
      "2022-02-28 17:10:52,591 : INFO : topic diff=0.339403, rho=0.281696\n",
      "2022-02-28 17:10:53,565 : INFO : -6.492 per-word bound, 90.0 perplexity estimate based on a held-out corpus of 1204 documents with 49783 words\n",
      "2022-02-28 17:10:53,566 : INFO : PROGRESS: pass 10, at document #3204/3204\n",
      "2022-02-28 17:10:54,361 : INFO : optimized alpha [0.011477417, 0.013532802, 0.01185829, 0.013290898, 0.011351766, 0.011566551, 0.013311343, 0.007667323, 0.010425391, 0.011357043, 0.011198838, 0.013260778, 0.016092531, 0.012244931, 0.0107546495, 0.011352016, 0.012997603, 0.012261384, 0.012522152, 0.013106116, 0.010840703, 0.011432825, 0.010117314, 0.010787056, 0.012106901, 0.012037285, 0.012522633, 0.011174154, 0.010894843, 0.011829382, 0.011516658, 0.011404484, 0.013828815, 0.011194549, 0.013339305, 0.015341321, 0.011800449, 0.011338187, 0.011801837, 0.010994001, 0.013230543, 0.011293162, 0.01184337, 0.009724023, 0.01136764, 0.01019065, 0.011672313, 0.010774228, 0.013312893, 0.01448487, 0.012364326, 0.01048604, 0.011928635, 0.011261429, 0.012420104, 0.010621958, 0.014188186, 0.01124208, 0.015785784, 0.010815799, 0.012858536, 0.01155602, 0.011698614, 0.010499539, 0.011045358, 0.011269176, 0.011545874, 0.011455022, 0.011563577, 0.010481447, 0.010567261, 0.012548171, 0.032480422, 0.013526341, 0.012268162, 0.011114463, 0.015462702, 0.010501646, 0.0141340215, 0.01658902, 0.011002068, 0.011157868, 0.01264043, 0.011422391, 0.010700116, 0.011295635, 0.011213577, 0.011632988, 0.012047312, 0.01142111, 0.012198557, 0.013322086, 0.012138889, 0.011566788, 0.014358323, 0.013149887, 0.0123610245, 0.010799807, 0.012057418, 0.011819207]\n",
      "2022-02-28 17:10:54,367 : INFO : merging changes from 1204 documents into a model of 3204 documents\n",
      "2022-02-28 17:10:54,373 : INFO : topic #7 (0.008): 0.001*\"implic\" + 0.001*\"favor\" + 0.001*\"adapt\" + 0.001*\"polygon\" + 0.001*\"stage\" + 0.001*\"situat\" + 0.001*\"respons\" + 0.001*\"industri\" + 0.001*\"regress\" + 0.001*\"drive\"\n",
      "2022-02-28 17:10:54,374 : INFO : topic #43 (0.010): 0.088*\"pl\" + 0.066*\"disciplin\" + 0.056*\"program\" + 0.056*\"/\" + 0.035*\"undergradu\" + 0.033*\"calculu\" + 0.032*\"frequenc\" + 0.027*\"-\" + 0.025*\"comput\" + 0.025*\",\"\n",
      "2022-02-28 17:10:54,375 : INFO : topic #12 (0.016): 0.327*\"languag\" + 0.074*\",\" + 0.068*\"program\" + 0.060*\"-\" + 0.044*\"semant\" + 0.031*\"level\" + 0.030*\"natur\" + 0.018*\"form\" + 0.015*\"design\" + 0.015*\"gener\"\n",
      "2022-02-28 17:10:54,375 : INFO : topic #79 (0.017): 0.565*\"method\" + 0.053*\"'\" + 0.043*\"condit\" + 0.034*\"iter\" + 0.029*\"suffici\" + 0.029*\"end\" + 0.019*\"occur\" + 0.019*\"consid\" + 0.017*\"class\" + 0.015*\"degre\"\n",
      "2022-02-28 17:10:54,376 : INFO : topic #72 (0.032): 0.361*\"(\" + 0.338*\")\" + 0.222*\"algorithm\" + 0.012*\"polynomi\" + 0.011*\"-\" + 0.008*\"integ\" + 0.005*\"root\" + 0.005*\"function\" + 0.004*\"complet\" + 0.004*\"order\"\n",
      "2022-02-28 17:10:54,377 : INFO : topic diff=0.340843, rho=0.281696\n",
      "2022-02-28 17:10:54,387 : INFO : PROGRESS: pass 11, at document #2000/3204\n",
      "2022-02-28 17:10:55,228 : INFO : optimized alpha [0.011487978, 0.013651155, 0.011911819, 0.013410989, 0.011473551, 0.011631201, 0.01330267, 0.0076230206, 0.010431688, 0.011385815, 0.011242032, 0.013326001, 0.01633391, 0.012355905, 0.010767424, 0.0114047285, 0.0131039005, 0.012272995, 0.012539966, 0.013163993, 0.010832953, 0.011504714, 0.010130453, 0.010915848, 0.012170569, 0.012158946, 0.012515438, 0.011252383, 0.0109382365, 0.011829911, 0.011577167, 0.011421919, 0.014001422, 0.011221968, 0.013487303, 0.015678234, 0.011821746, 0.011384606, 0.011784195, 0.011034701, 0.01331502, 0.0112927705, 0.011806713, 0.009706227, 0.011345206, 0.010193892, 0.011701057, 0.010821059, 0.013371791, 0.01460394, 0.012437196, 0.010447785, 0.011966563, 0.011404391, 0.012654688, 0.010623397, 0.014323375, 0.011239418, 0.01601223, 0.010859616, 0.012943743, 0.011554512, 0.01170286, 0.01049784, 0.011035827, 0.011256552, 0.011544125, 0.011539867, 0.011578833, 0.010467845, 0.01054717, 0.012693108, 0.034285504, 0.013471629, 0.012334296, 0.011149776, 0.015899928, 0.010527216, 0.014422191, 0.016909791, 0.011044222, 0.011134815, 0.012752917, 0.011504968, 0.010711964, 0.011394581, 0.01129314, 0.011780914, 0.0121259, 0.011439969, 0.0123314345, 0.013371293, 0.012145943, 0.011621073, 0.014603089, 0.0134383505, 0.012442712, 0.010815684, 0.012110471, 0.011892318]\n",
      "2022-02-28 17:10:55,234 : INFO : merging changes from 2000 documents into a model of 3204 documents\n",
      "2022-02-28 17:10:55,240 : INFO : topic #7 (0.008): 0.001*\"implic\" + 0.001*\"favor\" + 0.001*\"adapt\" + 0.001*\"polygon\" + 0.001*\"stage\" + 0.001*\"situat\" + 0.001*\"respons\" + 0.001*\"industri\" + 0.001*\"regress\" + 0.001*\"drive\"\n",
      "2022-02-28 17:10:55,240 : INFO : topic #43 (0.010): 0.082*\"pl\" + 0.055*\"disciplin\" + 0.055*\"program\" + 0.054*\"/\" + 0.036*\"undergradu\" + 0.034*\"calculu\" + 0.033*\"frequenc\" + 0.027*\"-\" + 0.027*\"analysi\" + 0.026*\"comput\"\n",
      "2022-02-28 17:10:55,241 : INFO : topic #12 (0.016): 0.337*\"languag\" + 0.074*\",\" + 0.069*\"program\" + 0.063*\"-\" + 0.038*\"semant\" + 0.028*\"level\" + 0.028*\"natur\" + 0.017*\"form\" + 0.014*\"gener\" + 0.014*\"design\"\n",
      "2022-02-28 17:10:55,242 : INFO : topic #79 (0.017): 0.569*\"method\" + 0.051*\"'\" + 0.041*\"iter\" + 0.039*\"condit\" + 0.026*\"suffici\" + 0.024*\"end\" + 0.020*\"occur\" + 0.017*\"consid\" + 0.016*\"degre\" + 0.015*\"class\"\n",
      "2022-02-28 17:10:55,242 : INFO : topic #72 (0.034): 0.359*\"(\" + 0.340*\")\" + 0.225*\"algorithm\" + 0.013*\"polynomi\" + 0.011*\"-\" + 0.007*\"integ\" + 0.005*\"root\" + 0.005*\"coeffici\" + 0.005*\"complet\" + 0.004*\"order\"\n",
      "2022-02-28 17:10:55,243 : INFO : topic diff=0.297110, rho=0.271143\n",
      "2022-02-28 17:10:56,257 : INFO : -6.478 per-word bound, 89.1 perplexity estimate based on a held-out corpus of 1204 documents with 49783 words\n",
      "2022-02-28 17:10:56,258 : INFO : PROGRESS: pass 11, at document #3204/3204\n",
      "2022-02-28 17:10:57,044 : INFO : optimized alpha [0.011616744, 0.013949799, 0.0120767625, 0.013623232, 0.011560519, 0.01182022, 0.013579269, 0.0075678607, 0.010524857, 0.011483521, 0.011341955, 0.013555763, 0.0166941, 0.012449611, 0.010841311, 0.011497871, 0.01329318, 0.012461959, 0.012751143, 0.013405946, 0.010946084, 0.011686772, 0.010190442, 0.010993654, 0.012324189, 0.012295739, 0.012727312, 0.011316771, 0.011021922, 0.011965812, 0.011705271, 0.011576248, 0.01419772, 0.011332213, 0.01381396, 0.016115766, 0.011954169, 0.011508458, 0.011940159, 0.011129056, 0.013564575, 0.011439577, 0.012030845, 0.009738693, 0.011474855, 0.010289649, 0.011820237, 0.010877819, 0.013639148, 0.014904335, 0.012602696, 0.01052557, 0.0121334195, 0.011410311, 0.01270144, 0.010733032, 0.014559843, 0.011370893, 0.016426098, 0.010965945, 0.013162367, 0.011641032, 0.01186221, 0.01063186, 0.01116875, 0.011404675, 0.011656325, 0.011628583, 0.011748911, 0.010547567, 0.010613236, 0.012844183, 0.036089923, 0.013766249, 0.012565023, 0.01129731, 0.016114555, 0.010595916, 0.014625741, 0.017425437, 0.01117422, 0.011289159, 0.012951223, 0.011595381, 0.01079082, 0.011510681, 0.0113887675, 0.011852791, 0.012348901, 0.011604602, 0.012528555, 0.013664513, 0.012332857, 0.011815636, 0.014811373, 0.013664033, 0.012616605, 0.01091483, 0.012259856, 0.011999541]\n",
      "2022-02-28 17:10:57,049 : INFO : merging changes from 1204 documents into a model of 3204 documents\n",
      "2022-02-28 17:10:57,055 : INFO : topic #7 (0.008): 0.001*\"implic\" + 0.001*\"favor\" + 0.001*\"adapt\" + 0.001*\"polygon\" + 0.001*\"stage\" + 0.001*\"situat\" + 0.001*\"respons\" + 0.001*\"industri\" + 0.001*\"regress\" + 0.001*\"drive\"\n",
      "2022-02-28 17:10:57,056 : INFO : topic #43 (0.010): 0.091*\"pl\" + 0.068*\"disciplin\" + 0.056*\"program\" + 0.055*\"/\" + 0.036*\"undergradu\" + 0.034*\"frequenc\" + 0.034*\"calculu\" + 0.026*\"measur\" + 0.026*\"-\" + 0.024*\"comput\"\n",
      "2022-02-28 17:10:57,056 : INFO : topic #12 (0.017): 0.330*\"languag\" + 0.075*\",\" + 0.070*\"program\" + 0.058*\"-\" + 0.044*\"semant\" + 0.031*\"level\" + 0.030*\"natur\" + 0.018*\"form\" + 0.016*\"design\" + 0.015*\"gener\"\n",
      "2022-02-28 17:10:57,057 : INFO : topic #79 (0.017): 0.580*\"method\" + 0.050*\"'\" + 0.042*\"condit\" + 0.034*\"iter\" + 0.028*\"suffici\" + 0.028*\"end\" + 0.019*\"occur\" + 0.018*\"consid\" + 0.015*\"class\" + 0.015*\"degre\"\n",
      "2022-02-28 17:10:57,058 : INFO : topic #72 (0.036): 0.366*\"(\" + 0.341*\")\" + 0.218*\"algorithm\" + 0.012*\"polynomi\" + 0.011*\"-\" + 0.008*\"integ\" + 0.005*\"root\" + 0.005*\"order\" + 0.004*\"semi\" + 0.004*\"complet\"\n",
      "2022-02-28 17:10:57,059 : INFO : topic diff=0.300223, rho=0.271143\n",
      "2022-02-28 17:10:57,069 : INFO : PROGRESS: pass 12, at document #2000/3204\n",
      "2022-02-28 17:10:57,888 : INFO : optimized alpha [0.011626972, 0.014066771, 0.012138104, 0.013747683, 0.011683999, 0.011886003, 0.013571324, 0.007526642, 0.010532479, 0.011511563, 0.011379559, 0.013618664, 0.016928853, 0.012562736, 0.010855413, 0.011546194, 0.0134002045, 0.01247607, 0.012771185, 0.013463286, 0.01094157, 0.011756634, 0.010207464, 0.011131136, 0.012387605, 0.01241455, 0.012723054, 0.011396023, 0.01106281, 0.011960019, 0.011768643, 0.011594474, 0.014370336, 0.01136337, 0.013956876, 0.016451042, 0.0119747715, 0.011552012, 0.01192439, 0.011170166, 0.013644407, 0.011440461, 0.012000711, 0.009723409, 0.0114561375, 0.010291552, 0.011852798, 0.0109222075, 0.01369378, 0.015030123, 0.012676794, 0.010487687, 0.012171702, 0.011549879, 0.012933383, 0.010735885, 0.014697306, 0.011369738, 0.016650684, 0.011011478, 0.013243331, 0.0116429925, 0.011864489, 0.010631519, 0.011154943, 0.011396691, 0.011654774, 0.0117144035, 0.011761847, 0.010538835, 0.010601252, 0.0129910465, 0.03795046, 0.0137043875, 0.012638966, 0.011334504, 0.016549468, 0.010626559, 0.014913993, 0.017745107, 0.011218074, 0.011263598, 0.013059188, 0.0116743175, 0.010805398, 0.011605737, 0.011470963, 0.01200058, 0.0124348095, 0.011633315, 0.0126650985, 0.013709532, 0.012339231, 0.011874348, 0.015057713, 0.013958753, 0.012699266, 0.010933185, 0.012309729, 0.012067558]\n",
      "2022-02-28 17:10:57,894 : INFO : merging changes from 2000 documents into a model of 3204 documents\n",
      "2022-02-28 17:10:57,900 : INFO : topic #7 (0.008): 0.001*\"implic\" + 0.001*\"favor\" + 0.001*\"adapt\" + 0.001*\"polygon\" + 0.001*\"stage\" + 0.001*\"situat\" + 0.001*\"respons\" + 0.001*\"industri\" + 0.001*\"regress\" + 0.001*\"drive\"\n",
      "2022-02-28 17:10:57,901 : INFO : topic #43 (0.010): 0.085*\"pl\" + 0.058*\"disciplin\" + 0.055*\"program\" + 0.054*\"/\" + 0.037*\"undergradu\" + 0.035*\"frequenc\" + 0.034*\"calculu\" + 0.027*\"analysi\" + 0.026*\"-\" + 0.025*\"comput\"\n",
      "2022-02-28 17:10:57,902 : INFO : topic #12 (0.017): 0.340*\"languag\" + 0.075*\",\" + 0.070*\"program\" + 0.061*\"-\" + 0.038*\"semant\" + 0.028*\"level\" + 0.028*\"natur\" + 0.017*\"form\" + 0.015*\"design\" + 0.014*\"gener\"\n",
      "2022-02-28 17:10:57,903 : INFO : topic #79 (0.018): 0.583*\"method\" + 0.048*\"'\" + 0.041*\"iter\" + 0.038*\"condit\" + 0.025*\"suffici\" + 0.023*\"end\" + 0.019*\"occur\" + 0.016*\"consid\" + 0.016*\"degre\" + 0.014*\"present\"\n",
      "2022-02-28 17:10:57,903 : INFO : topic #72 (0.038): 0.363*\"(\" + 0.342*\")\" + 0.221*\"algorithm\" + 0.013*\"polynomi\" + 0.011*\"-\" + 0.007*\"integ\" + 0.005*\"root\" + 0.005*\"coeffici\" + 0.005*\"order\" + 0.005*\"complet\"\n",
      "2022-02-28 17:10:57,904 : INFO : topic diff=0.262914, rho=0.261694\n",
      "2022-02-28 17:10:58,845 : INFO : -6.468 per-word bound, 88.5 perplexity estimate based on a held-out corpus of 1204 documents with 49783 words\n",
      "2022-02-28 17:10:58,846 : INFO : PROGRESS: pass 12, at document #3204/3204\n",
      "2022-02-28 17:10:59,608 : INFO : optimized alpha [0.01176012, 0.014363285, 0.012301776, 0.013961288, 0.011768368, 0.012075954, 0.0138359815, 0.007475199, 0.01062551, 0.011604141, 0.011474299, 0.013837283, 0.017286314, 0.012653527, 0.010932146, 0.011641904, 0.01357917, 0.012657723, 0.012988624, 0.013702765, 0.01105655, 0.0119398, 0.010270387, 0.0112211425, 0.0125373695, 0.012550451, 0.012941167, 0.011461007, 0.011146654, 0.01209765, 0.011903667, 0.011745024, 0.014564966, 0.011470751, 0.014272852, 0.016914291, 0.012103584, 0.011680198, 0.012076287, 0.011261993, 0.013903608, 0.0115860365, 0.012235686, 0.009757522, 0.011582416, 0.010389325, 0.011971461, 0.010975101, 0.013955552, 0.015341755, 0.012832798, 0.010561252, 0.012334543, 0.011555206, 0.0129804155, 0.010842705, 0.014934956, 0.011492812, 0.017040942, 0.011114996, 0.013459999, 0.011727214, 0.012019871, 0.010773977, 0.011294212, 0.011543438, 0.011763948, 0.011803161, 0.011925188, 0.010621117, 0.0106725665, 0.013135305, 0.039811794, 0.013986188, 0.01287621, 0.011478396, 0.016754085, 0.010693476, 0.01511563, 0.018268317, 0.011362017, 0.0114091, 0.013258565, 0.011767282, 0.010886912, 0.011723775, 0.011561471, 0.012075221, 0.012656117, 0.01180177, 0.012855249, 0.014000301, 0.01252422, 0.012072365, 0.015263905, 0.014198342, 0.01286615, 0.011034534, 0.012474468, 0.012169187]\n",
      "2022-02-28 17:10:59,614 : INFO : merging changes from 1204 documents into a model of 3204 documents\n",
      "2022-02-28 17:10:59,620 : INFO : topic #7 (0.007): 0.001*\"implic\" + 0.001*\"favor\" + 0.001*\"adapt\" + 0.001*\"polygon\" + 0.001*\"stage\" + 0.001*\"situat\" + 0.001*\"respons\" + 0.001*\"industri\" + 0.001*\"regress\" + 0.001*\"drive\"\n",
      "2022-02-28 17:10:59,621 : INFO : topic #43 (0.010): 0.094*\"pl\" + 0.070*\"disciplin\" + 0.056*\"program\" + 0.055*\"/\" + 0.037*\"frequenc\" + 0.037*\"undergradu\" + 0.034*\"calculu\" + 0.027*\"measur\" + 0.026*\"-\" + 0.024*\"analysi\"\n",
      "2022-02-28 17:10:59,623 : INFO : topic #12 (0.017): 0.335*\"languag\" + 0.076*\",\" + 0.071*\"program\" + 0.057*\"-\" + 0.044*\"semant\" + 0.030*\"natur\" + 0.030*\"level\" + 0.018*\"form\" + 0.017*\"design\" + 0.014*\"gener\"\n",
      "2022-02-28 17:10:59,624 : INFO : topic #79 (0.018): 0.595*\"method\" + 0.047*\"'\" + 0.039*\"condit\" + 0.034*\"iter\" + 0.028*\"suffici\" + 0.027*\"end\" + 0.019*\"occur\" + 0.016*\"consid\" + 0.015*\"degre\" + 0.014*\"class\"\n",
      "2022-02-28 17:10:59,626 : INFO : topic #72 (0.040): 0.368*\"(\" + 0.343*\")\" + 0.217*\"algorithm\" + 0.012*\"polynomi\" + 0.011*\"-\" + 0.007*\"integ\" + 0.005*\"root\" + 0.005*\"order\" + 0.004*\"semi\" + 0.004*\"coeffici\"\n",
      "2022-02-28 17:10:59,629 : INFO : topic diff=0.267284, rho=0.261694\n",
      "2022-02-28 17:10:59,636 : INFO : PROGRESS: pass 13, at document #2000/3204\n",
      "2022-02-28 17:11:00,447 : INFO : optimized alpha [0.011777498, 0.014484392, 0.012369335, 0.014082935, 0.011889351, 0.012139909, 0.01382715, 0.0074366964, 0.01063305, 0.011633023, 0.011515419, 0.01390163, 0.017530117, 0.012765707, 0.01094887, 0.011695023, 0.013685472, 0.012671069, 0.013005789, 0.013761538, 0.011052159, 0.012015407, 0.010287212, 0.011368883, 0.012599106, 0.012666715, 0.0129462285, 0.011538487, 0.011189427, 0.012087375, 0.0119683705, 0.011767101, 0.014734295, 0.011498233, 0.014410943, 0.017263267, 0.012120489, 0.011719648, 0.012060791, 0.011303547, 0.013986247, 0.011588139, 0.012203834, 0.009744512, 0.01156423, 0.0103939455, 0.012003172, 0.011019907, 0.014008086, 0.015460293, 0.012906688, 0.010526354, 0.012374769, 0.011691761, 0.013206891, 0.010846942, 0.015063626, 0.011490223, 0.017263724, 0.011159414, 0.013538727, 0.011729452, 0.012026493, 0.010781689, 0.011289325, 0.011534024, 0.0117625585, 0.011887066, 0.01193904, 0.010616949, 0.010662683, 0.013277562, 0.041720007, 0.013922937, 0.012951357, 0.011517455, 0.017191086, 0.010723543, 0.015406173, 0.018591527, 0.011401749, 0.011384154, 0.013372382, 0.011851893, 0.010904084, 0.011818177, 0.01164034, 0.012220081, 0.0127478875, 0.011834022, 0.012995964, 0.01405033, 0.012537918, 0.012129328, 0.015514211, 0.0145017, 0.012949998, 0.0110524595, 0.012524555, 0.012238671]\n",
      "2022-02-28 17:11:00,453 : INFO : merging changes from 2000 documents into a model of 3204 documents\n",
      "2022-02-28 17:11:00,459 : INFO : topic #7 (0.007): 0.001*\"implic\" + 0.001*\"favor\" + 0.001*\"adapt\" + 0.001*\"polygon\" + 0.001*\"stage\" + 0.001*\"situat\" + 0.001*\"respons\" + 0.001*\"industri\" + 0.001*\"regress\" + 0.001*\"drive\"\n",
      "2022-02-28 17:11:00,460 : INFO : topic #43 (0.010): 0.087*\"pl\" + 0.060*\"disciplin\" + 0.055*\"program\" + 0.054*\"/\" + 0.038*\"undergradu\" + 0.037*\"frequenc\" + 0.035*\"calculu\" + 0.027*\"analysi\" + 0.026*\"-\" + 0.024*\"measur\"\n",
      "2022-02-28 17:11:00,461 : INFO : topic #12 (0.018): 0.344*\"languag\" + 0.076*\",\" + 0.071*\"program\" + 0.060*\"-\" + 0.038*\"semant\" + 0.028*\"natur\" + 0.027*\"level\" + 0.018*\"form\" + 0.015*\"design\" + 0.014*\"gener\"\n",
      "2022-02-28 17:11:00,461 : INFO : topic #79 (0.019): 0.596*\"method\" + 0.045*\"'\" + 0.041*\"iter\" + 0.036*\"condit\" + 0.025*\"suffici\" + 0.023*\"end\" + 0.020*\"occur\" + 0.016*\"degre\" + 0.015*\"consid\" + 0.014*\"present\"\n",
      "2022-02-28 17:11:00,462 : INFO : topic #72 (0.042): 0.366*\"(\" + 0.343*\")\" + 0.219*\"algorithm\" + 0.013*\"polynomi\" + 0.011*\"-\" + 0.007*\"integ\" + 0.005*\"root\" + 0.005*\"coeffici\" + 0.005*\"order\" + 0.004*\"complet\"\n",
      "2022-02-28 17:11:00,463 : INFO : topic diff=0.235188, rho=0.253169\n",
      "2022-02-28 17:11:01,549 : INFO : -6.458 per-word bound, 87.9 perplexity estimate based on a held-out corpus of 1204 documents with 49783 words\n",
      "2022-02-28 17:11:01,549 : INFO : PROGRESS: pass 13, at document #3204/3204\n",
      "2022-02-28 17:11:02,271 : INFO : optimized alpha [0.01190245, 0.014773157, 0.012532047, 0.014298223, 0.011976306, 0.012328643, 0.014092268, 0.007388525, 0.010726078, 0.011723314, 0.011610262, 0.014118561, 0.017885745, 0.012864612, 0.011030651, 0.01178584, 0.013860411, 0.01285665, 0.013215937, 0.014002063, 0.01117147, 0.0121949585, 0.01034868, 0.011463723, 0.012748042, 0.012794014, 0.013165381, 0.011601712, 0.011273543, 0.012219179, 0.012097735, 0.01191683, 0.014927566, 0.011612819, 0.01472866, 0.01774281, 0.012246272, 0.011842337, 0.0122090615, 0.011393077, 0.01425842, 0.011730335, 0.012436794, 0.009780173, 0.011685015, 0.010491603, 0.01211896, 0.011078439, 0.014261967, 0.015763642, 0.013064584, 0.010598241, 0.012539105, 0.011696537, 0.013245933, 0.01095577, 0.015277036, 0.011622441, 0.017663203, 0.01126745, 0.013750971, 0.011809214, 0.012178331, 0.010934748, 0.011427755, 0.011679682, 0.011868984, 0.011970977, 0.012096132, 0.010695061, 0.010732356, 0.013418269, 0.043581136, 0.0142045645, 0.013198254, 0.011658155, 0.017400742, 0.010791102, 0.015609385, 0.019126672, 0.011542514, 0.011526213, 0.013567659, 0.011935, 0.010990503, 0.011935805, 0.011728543, 0.012292415, 0.012986502, 0.012006424, 0.013187916, 0.014339123, 0.012713439, 0.012323584, 0.015718648, 0.014752626, 0.013113091, 0.011151387, 0.012688313, 0.012340244]\n",
      "2022-02-28 17:11:02,276 : INFO : merging changes from 1204 documents into a model of 3204 documents\n",
      "2022-02-28 17:11:02,283 : INFO : topic #7 (0.007): 0.001*\"implic\" + 0.001*\"favor\" + 0.001*\"adapt\" + 0.001*\"polygon\" + 0.001*\"stage\" + 0.001*\"situat\" + 0.001*\"respons\" + 0.001*\"industri\" + 0.001*\"regress\" + 0.001*\"drive\"\n",
      "2022-02-28 17:11:02,284 : INFO : topic #43 (0.010): 0.096*\"pl\" + 0.071*\"disciplin\" + 0.055*\"/\" + 0.055*\"program\" + 0.040*\"frequenc\" + 0.037*\"undergradu\" + 0.035*\"calculu\" + 0.028*\"measur\" + 0.025*\"-\" + 0.025*\"widespread\"\n",
      "2022-02-28 17:11:02,284 : INFO : topic #12 (0.018): 0.338*\"languag\" + 0.077*\",\" + 0.072*\"program\" + 0.056*\"-\" + 0.044*\"semant\" + 0.030*\"natur\" + 0.029*\"level\" + 0.018*\"form\" + 0.017*\"design\" + 0.014*\"gener\"\n",
      "2022-02-28 17:11:02,285 : INFO : topic #79 (0.019): 0.609*\"method\" + 0.044*\"'\" + 0.037*\"condit\" + 0.034*\"iter\" + 0.027*\"suffici\" + 0.027*\"end\" + 0.019*\"occur\" + 0.016*\"consid\" + 0.015*\"degre\" + 0.014*\"present\"\n",
      "2022-02-28 17:11:02,286 : INFO : topic #72 (0.044): 0.371*\"(\" + 0.345*\")\" + 0.213*\"algorithm\" + 0.012*\"polynomi\" + 0.012*\"-\" + 0.007*\"integ\" + 0.005*\"root\" + 0.005*\"order\" + 0.004*\"semi\" + 0.004*\"coeffici\"\n",
      "2022-02-28 17:11:02,287 : INFO : topic diff=0.240372, rho=0.253169\n",
      "2022-02-28 17:11:02,295 : INFO : PROGRESS: pass 14, at document #2000/3204\n",
      "2022-02-28 17:11:03,090 : INFO : optimized alpha [0.011917948, 0.014893276, 0.012602641, 0.014413786, 0.012096479, 0.012392389, 0.014080774, 0.0073524425, 0.010736116, 0.011751637, 0.011651964, 0.014180983, 0.018134704, 0.01297611, 0.011047095, 0.011836385, 0.0139679145, 0.012870868, 0.0132320225, 0.0140727395, 0.011167167, 0.012271833, 0.010366596, 0.011621806, 0.012811395, 0.012911171, 0.013172906, 0.011676184, 0.011318234, 0.012201574, 0.012162463, 0.0119367475, 0.015101188, 0.0116439285, 0.014863948, 0.018106269, 0.012265773, 0.011882237, 0.012195303, 0.0114351185, 0.014338653, 0.011730785, 0.012404847, 0.009768027, 0.011665911, 0.01049876, 0.012149952, 0.01112371, 0.014317766, 0.015887208, 0.013141592, 0.010570021, 0.012579657, 0.011828924, 0.0134672085, 0.010959937, 0.015406631, 0.011621243, 0.017886683, 0.011317799, 0.013832717, 0.011810227, 0.012183066, 0.010944703, 0.01142145, 0.011674617, 0.011870692, 0.012053198, 0.012107899, 0.010688644, 0.010721812, 0.013559563, 0.045561895, 0.014143362, 0.013284422, 0.011694766, 0.017840244, 0.010827275, 0.015898831, 0.019456081, 0.011582619, 0.011506074, 0.013679163, 0.012023832, 0.011007408, 0.012032727, 0.01180138, 0.012437694, 0.013076185, 0.012040616, 0.013339193, 0.014383498, 0.012724879, 0.012379029, 0.015967513, 0.015058053, 0.013193366, 0.011168983, 0.0127448775, 0.012406677]\n",
      "2022-02-28 17:11:03,097 : INFO : merging changes from 2000 documents into a model of 3204 documents\n",
      "2022-02-28 17:11:03,102 : INFO : topic #7 (0.007): 0.001*\"implic\" + 0.001*\"favor\" + 0.001*\"adapt\" + 0.001*\"polygon\" + 0.001*\"stage\" + 0.001*\"situat\" + 0.001*\"respons\" + 0.001*\"industri\" + 0.001*\"regress\" + 0.001*\"drive\"\n",
      "2022-02-28 17:11:03,104 : INFO : topic #43 (0.010): 0.090*\"pl\" + 0.061*\"disciplin\" + 0.054*\"program\" + 0.054*\"/\" + 0.040*\"frequenc\" + 0.038*\"undergradu\" + 0.036*\"calculu\" + 0.027*\"analysi\" + 0.026*\"-\" + 0.024*\"measur\"\n",
      "2022-02-28 17:11:03,105 : INFO : topic #12 (0.018): 0.347*\"languag\" + 0.077*\",\" + 0.072*\"program\" + 0.059*\"-\" + 0.038*\"semant\" + 0.028*\"natur\" + 0.026*\"level\" + 0.018*\"form\" + 0.016*\"design\" + 0.014*\"gener\"\n",
      "2022-02-28 17:11:03,105 : INFO : topic #79 (0.019): 0.608*\"method\" + 0.042*\"'\" + 0.041*\"iter\" + 0.034*\"condit\" + 0.025*\"suffici\" + 0.022*\"end\" + 0.020*\"occur\" + 0.016*\"degre\" + 0.015*\"consid\" + 0.014*\"present\"\n",
      "2022-02-28 17:11:03,106 : INFO : topic #72 (0.046): 0.369*\"(\" + 0.345*\")\" + 0.216*\"algorithm\" + 0.013*\"polynomi\" + 0.011*\"-\" + 0.006*\"integ\" + 0.005*\"root\" + 0.005*\"coeffici\" + 0.005*\"order\" + 0.004*\"complet\"\n",
      "2022-02-28 17:11:03,107 : INFO : topic diff=0.212679, rho=0.245426\n",
      "2022-02-28 17:11:03,988 : INFO : -6.450 per-word bound, 87.4 perplexity estimate based on a held-out corpus of 1204 documents with 49783 words\n",
      "2022-02-28 17:11:03,989 : INFO : PROGRESS: pass 14, at document #3204/3204\n",
      "2022-02-28 17:11:04,667 : INFO : optimized alpha [0.012050104, 0.015183972, 0.012756913, 0.014625198, 0.012183679, 0.012580142, 0.014346899, 0.007307177, 0.010833638, 0.011839879, 0.011747042, 0.014396561, 0.018492533, 0.013072483, 0.01112482, 0.011927551, 0.014139234, 0.013058021, 0.0134381475, 0.014308963, 0.011286203, 0.012445597, 0.010426739, 0.011721411, 0.012957146, 0.013038164, 0.013385189, 0.011737843, 0.011400482, 0.01233051, 0.012289021, 0.012088392, 0.015280986, 0.011760759, 0.015174762, 0.018610204, 0.012386346, 0.012004697, 0.012340276, 0.0115249045, 0.014612264, 0.01187233, 0.0126283625, 0.009805125, 0.011791208, 0.010598503, 0.012265675, 0.0111900065, 0.014567168, 0.016195856, 0.01329617, 0.010640393, 0.012743244, 0.01183323, 0.013506928, 0.011064131, 0.0156125175, 0.011745703, 0.018292231, 0.011423446, 0.014043751, 0.011893135, 0.012339275, 0.01109255, 0.011559206, 0.011821856, 0.01197473, 0.012137583, 0.012261616, 0.01076063, 0.010787839, 0.013702542, 0.047475003, 0.014425258, 0.013549624, 0.011842235, 0.018036526, 0.010900035, 0.01610074, 0.020000104, 0.0117228655, 0.011654539, 0.013870672, 0.012109689, 0.011087394, 0.012145261, 0.011889891, 0.012510466, 0.01331665, 0.012217176, 0.01353876, 0.014661864, 0.012899352, 0.012572353, 0.016170597, 0.015332867, 0.013353034, 0.01126571, 0.012897369, 0.0125057865]\n",
      "2022-02-28 17:11:04,673 : INFO : merging changes from 1204 documents into a model of 3204 documents\n",
      "2022-02-28 17:11:04,679 : INFO : topic #7 (0.007): 0.001*\"implic\" + 0.001*\"favor\" + 0.001*\"adapt\" + 0.001*\"polygon\" + 0.001*\"stage\" + 0.001*\"situat\" + 0.001*\"respons\" + 0.001*\"industri\" + 0.001*\"regress\" + 0.001*\"drive\"\n",
      "2022-02-28 17:11:04,680 : INFO : topic #43 (0.010): 0.099*\"pl\" + 0.073*\"disciplin\" + 0.056*\"/\" + 0.055*\"program\" + 0.044*\"frequenc\" + 0.037*\"undergradu\" + 0.035*\"calculu\" + 0.029*\"measur\" + 0.026*\"widespread\" + 0.025*\"-\"\n",
      "2022-02-28 17:11:04,681 : INFO : topic #35 (0.019): 0.398*\"program\" + 0.063*\",\" + 0.051*\"execut\" + 0.033*\"machin\" + 0.024*\"time\" + 0.020*\"automat\" + 0.020*\"written\" + 0.020*\"run\" + 0.016*\"discuss\" + 0.013*\"debug\"\n",
      "2022-02-28 17:11:04,682 : INFO : topic #79 (0.020): 0.620*\"method\" + 0.041*\"'\" + 0.035*\"iter\" + 0.035*\"condit\" + 0.026*\"suffici\" + 0.026*\"end\" + 0.019*\"occur\" + 0.015*\"consid\" + 0.015*\"degre\" + 0.014*\"present\"\n",
      "2022-02-28 17:11:04,682 : INFO : topic #72 (0.047): 0.373*\"(\" + 0.346*\")\" + 0.212*\"algorithm\" + 0.012*\"polynomi\" + 0.012*\"-\" + 0.007*\"integ\" + 0.005*\"root\" + 0.005*\"order\" + 0.004*\"semi\" + 0.004*\"coeffici\"\n",
      "2022-02-28 17:11:04,683 : INFO : topic diff=0.217860, rho=0.245426\n",
      "2022-02-28 17:11:04,692 : INFO : PROGRESS: pass 15, at document #2000/3204\n",
      "2022-02-28 17:11:05,468 : INFO : optimized alpha [0.012070965, 0.015301491, 0.012825912, 0.014743758, 0.012303201, 0.0126453, 0.01433626, 0.0072732433, 0.010846094, 0.01186627, 0.011787893, 0.014457209, 0.018737778, 0.013183456, 0.011142419, 0.011975612, 0.014239431, 0.013071451, 0.013453297, 0.01437935, 0.011279304, 0.012522286, 0.010443189, 0.011884376, 0.013019064, 0.013153209, 0.013393522, 0.011813647, 0.011445654, 0.012319344, 0.01235671, 0.012111983, 0.015449951, 0.011791133, 0.015307333, 0.018988682, 0.012406921, 0.012042232, 0.012328217, 0.011564736, 0.014691982, 0.011872576, 0.012594844, 0.009792573, 0.011771171, 0.01060678, 0.012295943, 0.011237157, 0.014619439, 0.016312683, 0.013369863, 0.01061207, 0.012784239, 0.011963205, 0.013726657, 0.011068257, 0.015733829, 0.011747333, 0.018507777, 0.011475457, 0.014121818, 0.01189585, 0.012349584, 0.011106096, 0.011554256, 0.011818089, 0.011977945, 0.0122182425, 0.012274409, 0.010758455, 0.0107778795, 0.013838163, 0.04951254, 0.014369326, 0.0136387255, 0.011887841, 0.018470125, 0.010936862, 0.016387472, 0.02032157, 0.011771862, 0.011641633, 0.013983244, 0.012195394, 0.011104046, 0.01223454, 0.01196987, 0.0126563255, 0.013404365, 0.012251803, 0.013692695, 0.0147096105, 0.01291023, 0.012633808, 0.016418245, 0.015646288, 0.013433125, 0.011287036, 0.012957354, 0.01257231]\n",
      "2022-02-28 17:11:05,474 : INFO : merging changes from 2000 documents into a model of 3204 documents\n",
      "2022-02-28 17:11:05,480 : INFO : topic #7 (0.007): 0.001*\"implic\" + 0.001*\"favor\" + 0.001*\"adapt\" + 0.001*\"polygon\" + 0.001*\"stage\" + 0.001*\"situat\" + 0.001*\"respons\" + 0.001*\"industri\" + 0.001*\"regress\" + 0.001*\"drive\"\n",
      "2022-02-28 17:11:05,481 : INFO : topic #43 (0.010): 0.093*\"pl\" + 0.063*\"disciplin\" + 0.054*\"program\" + 0.054*\"/\" + 0.043*\"frequenc\" + 0.039*\"undergradu\" + 0.036*\"calculu\" + 0.028*\"analysi\" + 0.025*\"measur\" + 0.025*\"-\"\n",
      "2022-02-28 17:11:05,482 : INFO : topic #35 (0.019): 0.397*\"program\" + 0.063*\",\" + 0.049*\"execut\" + 0.034*\"machin\" + 0.024*\"time\" + 0.022*\"written\" + 0.022*\"automat\" + 0.021*\"run\" + 0.017*\"discuss\" + 0.015*\"debug\"\n",
      "2022-02-28 17:11:05,483 : INFO : topic #79 (0.020): 0.620*\"method\" + 0.042*\"iter\" + 0.040*\"'\" + 0.032*\"condit\" + 0.024*\"suffici\" + 0.022*\"end\" + 0.019*\"occur\" + 0.016*\"degre\" + 0.014*\"consid\" + 0.014*\"present\"\n",
      "2022-02-28 17:11:05,483 : INFO : topic #72 (0.050): 0.370*\"(\" + 0.345*\")\" + 0.215*\"algorithm\" + 0.013*\"polynomi\" + 0.011*\"-\" + 0.006*\"integ\" + 0.005*\"root\" + 0.005*\"order\" + 0.005*\"coeffici\" + 0.004*\"complet\"\n",
      "2022-02-28 17:11:05,485 : INFO : topic diff=0.194083, rho=0.238352\n",
      "2022-02-28 17:11:06,381 : INFO : -6.443 per-word bound, 87.0 perplexity estimate based on a held-out corpus of 1204 documents with 49783 words\n",
      "2022-02-28 17:11:06,381 : INFO : PROGRESS: pass 15, at document #3204/3204\n",
      "2022-02-28 17:11:07,055 : INFO : optimized alpha [0.012200515, 0.015591236, 0.012977246, 0.014951552, 0.01238832, 0.012839851, 0.014597924, 0.0072305794, 0.010948011, 0.011954981, 0.011883325, 0.014668845, 0.019098116, 0.013280177, 0.011218541, 0.012064786, 0.014407429, 0.013260255, 0.013658417, 0.014611612, 0.011395923, 0.012695482, 0.010502127, 0.011993464, 0.013161899, 0.013280157, 0.013604739, 0.011878523, 0.011528362, 0.01244307, 0.012483075, 0.012258364, 0.015641278, 0.011905628, 0.015611467, 0.01949957, 0.012527549, 0.01215974, 0.012467737, 0.011654875, 0.014976129, 0.012011298, 0.012827149, 0.009829131, 0.011891564, 0.010708682, 0.01240929, 0.011306527, 0.014867733, 0.01662376, 0.0135161355, 0.010674744, 0.012949841, 0.011967071, 0.01376435, 0.01117471, 0.015935611, 0.011873987, 0.01890177, 0.011581124, 0.0143291205, 0.011977131, 0.01250533, 0.0112535, 0.011686933, 0.011964727, 0.012079801, 0.012305493, 0.012422706, 0.0108311325, 0.010844778, 0.013975248, 0.051407225, 0.014651804, 0.013900805, 0.012037354, 0.018671893, 0.011016803, 0.016597884, 0.02086275, 0.011921177, 0.011789512, 0.014171258, 0.012286575, 0.011182363, 0.012342206, 0.012058754, 0.012729586, 0.013654798, 0.012420464, 0.013897337, 0.014983844, 0.013076221, 0.012826445, 0.0166233, 0.015939662, 0.013589595, 0.01138175, 0.0131095415, 0.012669216]\n",
      "2022-02-28 17:11:07,061 : INFO : merging changes from 1204 documents into a model of 3204 documents\n",
      "2022-02-28 17:11:07,067 : INFO : topic #7 (0.007): 0.001*\"implic\" + 0.001*\"favor\" + 0.001*\"adapt\" + 0.001*\"polygon\" + 0.001*\"stage\" + 0.001*\"situat\" + 0.001*\"respons\" + 0.001*\"industri\" + 0.001*\"regress\" + 0.001*\"drive\"\n",
      "2022-02-28 17:11:07,068 : INFO : topic #43 (0.010): 0.101*\"pl\" + 0.074*\"disciplin\" + 0.055*\"/\" + 0.054*\"program\" + 0.047*\"frequenc\" + 0.038*\"undergradu\" + 0.036*\"calculu\" + 0.029*\"measur\" + 0.026*\"widespread\" + 0.025*\"analysi\"\n",
      "2022-02-28 17:11:07,069 : INFO : topic #35 (0.019): 0.406*\"program\" + 0.063*\",\" + 0.051*\"execut\" + 0.033*\"machin\" + 0.024*\"time\" + 0.021*\"automat\" + 0.021*\"written\" + 0.019*\"run\" + 0.016*\"discuss\" + 0.013*\"debug\"\n",
      "2022-02-28 17:11:07,069 : INFO : topic #79 (0.021): 0.631*\"method\" + 0.039*\"'\" + 0.036*\"iter\" + 0.032*\"condit\" + 0.026*\"end\" + 0.025*\"suffici\" + 0.019*\"occur\" + 0.015*\"consid\" + 0.015*\"degre\" + 0.014*\"present\"\n",
      "2022-02-28 17:11:07,070 : INFO : topic #72 (0.051): 0.375*\"(\" + 0.347*\")\" + 0.209*\"algorithm\" + 0.012*\"polynomi\" + 0.012*\"-\" + 0.007*\"integ\" + 0.005*\"order\" + 0.005*\"root\" + 0.004*\"semi\" + 0.004*\"coeffici\"\n",
      "2022-02-28 17:11:07,071 : INFO : topic diff=0.199205, rho=0.238352\n",
      "2022-02-28 17:11:07,080 : INFO : PROGRESS: pass 16, at document #2000/3204\n",
      "2022-02-28 17:11:07,829 : INFO : optimized alpha [0.012223751, 0.015725836, 0.013047784, 0.015069693, 0.012507379, 0.012904966, 0.014586447, 0.0071985773, 0.0109615065, 0.011980929, 0.011926184, 0.014729575, 0.019346824, 0.013392303, 0.011237211, 0.01211339, 0.014503964, 0.013271433, 0.013674315, 0.014675009, 0.011391832, 0.012769154, 0.010523322, 0.012161542, 0.013222504, 0.013393283, 0.013612356, 0.011952993, 0.011571371, 0.012432187, 0.012549427, 0.012279846, 0.015811307, 0.0119312005, 0.015739717, 0.01988248, 0.012546127, 0.012199314, 0.012452975, 0.011693956, 0.015057023, 0.012012783, 0.0127965, 0.009820765, 0.011874857, 0.010716809, 0.012438962, 0.011356749, 0.014916509, 0.016740054, 0.013589914, 0.010650037, 0.012988242, 0.012094821, 0.013984369, 0.0111853145, 0.016052712, 0.011876867, 0.019115994, 0.011632112, 0.014407048, 0.011978641, 0.012516658, 0.011270556, 0.011688836, 0.011959474, 0.01208309, 0.012386173, 0.012437894, 0.010826767, 0.0108341025, 0.014110323, 0.053462915, 0.014597539, 0.0139912665, 0.012084709, 0.019110456, 0.011054306, 0.016880237, 0.021197652, 0.011967695, 0.011776765, 0.014286673, 0.012373668, 0.0111988075, 0.012428462, 0.012138717, 0.012874756, 0.013745382, 0.01246288, 0.014057309, 0.015028074, 0.013088071, 0.012886505, 0.016870039, 0.01626525, 0.013668022, 0.011405364, 0.013162066, 0.012737455]\n",
      "2022-02-28 17:11:07,836 : INFO : merging changes from 2000 documents into a model of 3204 documents\n",
      "2022-02-28 17:11:07,842 : INFO : topic #7 (0.007): 0.001*\"implic\" + 0.001*\"favor\" + 0.001*\"adapt\" + 0.001*\"polygon\" + 0.001*\"stage\" + 0.001*\"situat\" + 0.001*\"respons\" + 0.001*\"industri\" + 0.001*\"regress\" + 0.001*\"drive\"\n",
      "2022-02-28 17:11:07,843 : INFO : topic #43 (0.010): 0.095*\"pl\" + 0.064*\"disciplin\" + 0.054*\"program\" + 0.053*\"/\" + 0.046*\"frequenc\" + 0.039*\"undergradu\" + 0.037*\"calculu\" + 0.029*\"analysi\" + 0.025*\"measur\" + 0.024*\"-\"\n",
      "2022-02-28 17:11:07,844 : INFO : topic #35 (0.020): 0.404*\"program\" + 0.063*\",\" + 0.049*\"execut\" + 0.034*\"machin\" + 0.024*\"time\" + 0.022*\"written\" + 0.022*\"automat\" + 0.020*\"run\" + 0.017*\"discuss\" + 0.015*\"debug\"\n",
      "2022-02-28 17:11:07,845 : INFO : topic #79 (0.021): 0.629*\"method\" + 0.043*\"iter\" + 0.038*\"'\" + 0.029*\"condit\" + 0.023*\"suffici\" + 0.022*\"end\" + 0.019*\"occur\" + 0.016*\"degre\" + 0.015*\"present\" + 0.014*\"consid\"\n",
      "2022-02-28 17:11:07,845 : INFO : topic #72 (0.053): 0.372*\"(\" + 0.346*\")\" + 0.212*\"algorithm\" + 0.012*\"polynomi\" + 0.011*\"-\" + 0.006*\"integ\" + 0.005*\"order\" + 0.005*\"root\" + 0.005*\"coeffici\" + 0.004*\"complet\"\n",
      "2022-02-28 17:11:07,846 : INFO : topic diff=0.178559, rho=0.231857\n",
      "2022-02-28 17:11:08,705 : INFO : -6.437 per-word bound, 86.6 perplexity estimate based on a held-out corpus of 1204 documents with 49783 words\n",
      "2022-02-28 17:11:08,705 : INFO : PROGRESS: pass 16, at document #3204/3204\n",
      "2022-02-28 17:11:09,374 : INFO : optimized alpha [0.012360485, 0.016015101, 0.013201466, 0.015271149, 0.012592982, 0.013096592, 0.014841182, 0.0071582426, 0.0110636065, 0.0120678665, 0.012019761, 0.014948973, 0.019706184, 0.0134945065, 0.011314038, 0.012198448, 0.014668729, 0.013449246, 0.013881361, 0.014906456, 0.011504046, 0.012939565, 0.010583172, 0.012284893, 0.013362668, 0.013517679, 0.013833396, 0.012014147, 0.011652464, 0.012553456, 0.012675798, 0.0124308625, 0.016002065, 0.012045851, 0.01603726, 0.020415956, 0.012662012, 0.0123145515, 0.012589819, 0.0117823, 0.015343388, 0.012153574, 0.013032714, 0.009856783, 0.011992971, 0.010816727, 0.012554918, 0.011424739, 0.015152325, 0.017057156, 0.013736148, 0.0107136965, 0.013148439, 0.012100619, 0.014022847, 0.01128976, 0.016253894, 0.011998766, 0.019516584, 0.011738067, 0.0146136535, 0.012063053, 0.012669643, 0.01141116, 0.011821315, 0.012105723, 0.01218295, 0.012469189, 0.012583481, 0.010904311, 0.0108997645, 0.014244526, 0.055335913, 0.014872644, 0.014261398, 0.012241126, 0.01930274, 0.011132673, 0.017083379, 0.021731474, 0.012112198, 0.01192199, 0.0144881215, 0.012460545, 0.01127558, 0.012531522, 0.012225688, 0.01294613, 0.0139981955, 0.012633668, 0.014264403, 0.015301323, 0.013251066, 0.013081208, 0.017071003, 0.016574612, 0.013818904, 0.011500452, 0.013311522, 0.012829846]\n",
      "2022-02-28 17:11:09,380 : INFO : merging changes from 1204 documents into a model of 3204 documents\n",
      "2022-02-28 17:11:09,386 : INFO : topic #7 (0.007): 0.001*\"implic\" + 0.001*\"favor\" + 0.001*\"adapt\" + 0.001*\"polygon\" + 0.001*\"stage\" + 0.001*\"situat\" + 0.001*\"respons\" + 0.001*\"industri\" + 0.001*\"regress\" + 0.001*\"drive\"\n",
      "2022-02-28 17:11:09,387 : INFO : topic #43 (0.010): 0.103*\"pl\" + 0.075*\"disciplin\" + 0.055*\"/\" + 0.053*\"program\" + 0.050*\"frequenc\" + 0.038*\"undergradu\" + 0.037*\"calculu\" + 0.029*\"measur\" + 0.027*\"widespread\" + 0.025*\"analysi\"\n",
      "2022-02-28 17:11:09,388 : INFO : topic #35 (0.020): 0.413*\"program\" + 0.063*\",\" + 0.051*\"execut\" + 0.033*\"machin\" + 0.024*\"time\" + 0.021*\"automat\" + 0.021*\"written\" + 0.019*\"run\" + 0.016*\"discuss\" + 0.013*\"debug\"\n",
      "2022-02-28 17:11:09,389 : INFO : topic #79 (0.022): 0.640*\"method\" + 0.037*\"'\" + 0.036*\"iter\" + 0.029*\"condit\" + 0.026*\"end\" + 0.024*\"suffici\" + 0.018*\"occur\" + 0.015*\"degre\" + 0.015*\"present\" + 0.014*\"consid\"\n",
      "2022-02-28 17:11:09,390 : INFO : topic #72 (0.055): 0.377*\"(\" + 0.347*\")\" + 0.207*\"algorithm\" + 0.012*\"polynomi\" + 0.012*\"-\" + 0.007*\"integ\" + 0.005*\"order\" + 0.005*\"root\" + 0.004*\"semi\" + 0.004*\"coeffici\"\n",
      "2022-02-28 17:11:09,391 : INFO : topic diff=0.183549, rho=0.231857\n",
      "2022-02-28 17:11:09,400 : INFO : PROGRESS: pass 17, at document #2000/3204\n",
      "2022-02-28 17:11:10,184 : INFO : optimized alpha [0.012381771, 0.016150951, 0.0132706845, 0.015390763, 0.012713083, 0.013160285, 0.014830671, 0.007127982, 0.011079329, 0.01209478, 0.012064591, 0.015008146, 0.019956278, 0.013604829, 0.011332465, 0.012244831, 0.0147652095, 0.013459809, 0.013897914, 0.014973142, 0.011500003, 0.013013288, 0.010602913, 0.012459703, 0.013422059, 0.0136290435, 0.0138433585, 0.012088737, 0.011696083, 0.012539974, 0.012743755, 0.012454548, 0.016169623, 0.012070925, 0.016164856, 0.020814754, 0.012684613, 0.012353339, 0.012575239, 0.011822021, 0.015425536, 0.012156266, 0.013000247, 0.009850115, 0.011972524, 0.010825946, 0.012589684, 0.011474151, 0.015199521, 0.017168947, 0.013819499, 0.010689949, 0.013185899, 0.012224971, 0.014235489, 0.011295019, 0.016368806, 0.012000199, 0.019729657, 0.011789461, 0.014691511, 0.012067534, 0.012682043, 0.011428991, 0.011824399, 0.0121030705, 0.012186264, 0.012549977, 0.012596782, 0.010902679, 0.010892124, 0.0143727325, 0.057392363, 0.014819996, 0.014354914, 0.012286114, 0.019735603, 0.011169556, 0.017369041, 0.022063201, 0.012161901, 0.011909278, 0.014601595, 0.012550481, 0.011291837, 0.012616328, 0.012305689, 0.013090766, 0.014088534, 0.012679394, 0.01442907, 0.015347315, 0.013262401, 0.013138446, 0.017316965, 0.01690557, 0.01389894, 0.0115223015, 0.013369053, 0.01289399]\n",
      "2022-02-28 17:11:10,189 : INFO : merging changes from 2000 documents into a model of 3204 documents\n",
      "2022-02-28 17:11:10,195 : INFO : topic #7 (0.007): 0.001*\"implic\" + 0.001*\"favor\" + 0.001*\"adapt\" + 0.001*\"polygon\" + 0.001*\"stage\" + 0.001*\"situat\" + 0.001*\"respons\" + 0.001*\"industri\" + 0.001*\"regress\" + 0.001*\"drive\"\n",
      "2022-02-28 17:11:10,196 : INFO : topic #43 (0.010): 0.097*\"pl\" + 0.065*\"disciplin\" + 0.053*\"/\" + 0.052*\"program\" + 0.048*\"frequenc\" + 0.039*\"undergradu\" + 0.037*\"calculu\" + 0.028*\"analysi\" + 0.025*\"measur\" + 0.024*\"widespread\"\n",
      "2022-02-28 17:11:10,197 : INFO : topic #35 (0.021): 0.411*\"program\" + 0.063*\",\" + 0.050*\"execut\" + 0.035*\"machin\" + 0.024*\"time\" + 0.022*\"written\" + 0.022*\"automat\" + 0.020*\"run\" + 0.017*\"discuss\" + 0.015*\"debug\"\n",
      "2022-02-28 17:11:10,197 : INFO : topic #79 (0.022): 0.638*\"method\" + 0.043*\"iter\" + 0.036*\"'\" + 0.026*\"condit\" + 0.022*\"end\" + 0.022*\"suffici\" + 0.019*\"occur\" + 0.016*\"degre\" + 0.015*\"present\" + 0.014*\"applic\"\n",
      "2022-02-28 17:11:10,198 : INFO : topic #72 (0.057): 0.374*\"(\" + 0.347*\")\" + 0.211*\"algorithm\" + 0.012*\"polynomi\" + 0.012*\"-\" + 0.007*\"integ\" + 0.005*\"order\" + 0.005*\"root\" + 0.005*\"coeffici\" + 0.004*\"complet\"\n",
      "2022-02-28 17:11:10,199 : INFO : topic diff=0.165437, rho=0.225865\n",
      "2022-02-28 17:11:11,258 : INFO : -6.431 per-word bound, 86.3 perplexity estimate based on a held-out corpus of 1204 documents with 49783 words\n",
      "2022-02-28 17:11:11,258 : INFO : PROGRESS: pass 17, at document #3204/3204\n",
      "2022-02-28 17:11:11,937 : INFO : optimized alpha [0.012511507, 0.016445989, 0.013421806, 0.0155949965, 0.012796835, 0.013349186, 0.015087264, 0.0070897574, 0.011179648, 0.012182424, 0.012158659, 0.015229749, 0.020307427, 0.01370745, 0.01140789, 0.012328293, 0.014932731, 0.013634778, 0.014104395, 0.015209671, 0.011608004, 0.013181095, 0.010659682, 0.012597301, 0.013559775, 0.013753593, 0.014063894, 0.012150897, 0.011780081, 0.012659048, 0.012870276, 0.012607874, 0.016353963, 0.012188033, 0.016462047, 0.021363791, 0.012798419, 0.01247355, 0.012709654, 0.011908701, 0.015711587, 0.012294615, 0.013225699, 0.0098875025, 0.012088512, 0.010936374, 0.012701192, 0.0115365675, 0.015428892, 0.01748249, 0.013963188, 0.010754557, 0.013340984, 0.012228056, 0.014269439, 0.01139979, 0.016563412, 0.012117622, 0.020118726, 0.011897947, 0.014894972, 0.012152732, 0.0128348945, 0.011584624, 0.011954507, 0.01224682, 0.012281989, 0.012633723, 0.01274455, 0.010976811, 0.010958709, 0.014504339, 0.059242126, 0.01509089, 0.014638671, 0.012449428, 0.019926075, 0.0112465, 0.017568251, 0.022589358, 0.012308731, 0.012058734, 0.0147999255, 0.012640292, 0.011365107, 0.012719811, 0.012393275, 0.013160369, 0.014351936, 0.012854946, 0.0146390125, 0.0156200435, 0.013422624, 0.013330385, 0.017513977, 0.017228398, 0.014049762, 0.011615675, 0.013516013, 0.012989476]\n",
      "2022-02-28 17:11:11,943 : INFO : merging changes from 1204 documents into a model of 3204 documents\n",
      "2022-02-28 17:11:11,950 : INFO : topic #7 (0.007): 0.001*\"implic\" + 0.001*\"favor\" + 0.001*\"adapt\" + 0.001*\"polygon\" + 0.001*\"stage\" + 0.001*\"situat\" + 0.001*\"respons\" + 0.001*\"industri\" + 0.001*\"regress\" + 0.001*\"drive\"\n",
      "2022-02-28 17:11:11,950 : INFO : topic #43 (0.010): 0.105*\"pl\" + 0.075*\"disciplin\" + 0.055*\"/\" + 0.052*\"frequenc\" + 0.052*\"program\" + 0.039*\"undergradu\" + 0.037*\"calculu\" + 0.029*\"measur\" + 0.027*\"widespread\" + 0.025*\"analysi\"\n",
      "2022-02-28 17:11:11,952 : INFO : topic #35 (0.021): 0.419*\"program\" + 0.063*\",\" + 0.051*\"execut\" + 0.034*\"machin\" + 0.024*\"time\" + 0.021*\"automat\" + 0.021*\"written\" + 0.019*\"run\" + 0.016*\"discuss\" + 0.013*\"debug\"\n",
      "2022-02-28 17:11:11,954 : INFO : topic #79 (0.023): 0.649*\"method\" + 0.037*\"iter\" + 0.036*\"'\" + 0.026*\"end\" + 0.026*\"condit\" + 0.023*\"suffici\" + 0.017*\"occur\" + 0.015*\"present\" + 0.015*\"degre\" + 0.014*\"consid\"\n",
      "2022-02-28 17:11:11,955 : INFO : topic #72 (0.059): 0.378*\"(\" + 0.347*\")\" + 0.206*\"algorithm\" + 0.012*\"-\" + 0.012*\"polynomi\" + 0.007*\"integ\" + 0.005*\"order\" + 0.005*\"root\" + 0.004*\"coeffici\" + 0.004*\"semi\"\n",
      "2022-02-28 17:11:11,956 : INFO : topic diff=0.170117, rho=0.225865\n",
      "2022-02-28 17:11:11,964 : INFO : PROGRESS: pass 18, at document #2000/3204\n",
      "2022-02-28 17:11:12,709 : INFO : optimized alpha [0.012535083, 0.016581388, 0.013485282, 0.015714496, 0.012909642, 0.013413003, 0.015074253, 0.007061071, 0.011195101, 0.012208937, 0.012202798, 0.015290767, 0.020549854, 0.013816111, 0.011427343, 0.0123739615, 0.015029271, 0.013646341, 0.014124787, 0.015278072, 0.011605342, 0.013252011, 0.010678073, 0.012783247, 0.013616565, 0.013863299, 0.014071461, 0.012224336, 0.011822943, 0.012647301, 0.012935611, 0.012632325, 0.016526481, 0.012219343, 0.016589163, 0.021771803, 0.012824879, 0.012508823, 0.012695308, 0.011947737, 0.015786529, 0.01229844, 0.013196016, 0.009883528, 0.0120685855, 0.010945361, 0.012729691, 0.011589068, 0.015471147, 0.017595816, 0.014045138, 0.010730499, 0.013382064, 0.012350539, 0.014481194, 0.011406227, 0.016676309, 0.01211762, 0.020330707, 0.011951089, 0.014976141, 0.012151879, 0.012848244, 0.011604462, 0.011957433, 0.012244041, 0.012286722, 0.012714621, 0.012757398, 0.010979062, 0.010951514, 0.014635526, 0.061301503, 0.015034797, 0.0147401355, 0.012494836, 0.020359702, 0.011284038, 0.01785749, 0.022930017, 0.012357426, 0.012048742, 0.0149148805, 0.01272749, 0.011383726, 0.012804684, 0.012474852, 0.013301701, 0.014443676, 0.012903897, 0.014810063, 0.01566258, 0.013432008, 0.013389283, 0.017759327, 0.017564991, 0.014128385, 0.011639782, 0.013564998, 0.013055411]\n",
      "2022-02-28 17:11:12,715 : INFO : merging changes from 2000 documents into a model of 3204 documents\n",
      "2022-02-28 17:11:12,724 : INFO : topic #7 (0.007): 0.001*\"implic\" + 0.001*\"favor\" + 0.001*\"adapt\" + 0.001*\"polygon\" + 0.001*\"stage\" + 0.001*\"situat\" + 0.001*\"respons\" + 0.001*\"industri\" + 0.001*\"regress\" + 0.001*\"drive\"\n",
      "2022-02-28 17:11:12,725 : INFO : topic #43 (0.010): 0.098*\"pl\" + 0.065*\"disciplin\" + 0.053*\"/\" + 0.052*\"program\" + 0.050*\"frequenc\" + 0.039*\"undergradu\" + 0.037*\"calculu\" + 0.028*\"analysi\" + 0.025*\"measur\" + 0.024*\"extens\"\n",
      "2022-02-28 17:11:12,727 : INFO : topic #35 (0.022): 0.417*\"program\" + 0.063*\",\" + 0.050*\"execut\" + 0.035*\"machin\" + 0.024*\"time\" + 0.022*\"written\" + 0.022*\"automat\" + 0.020*\"run\" + 0.017*\"discuss\" + 0.015*\"debug\"\n",
      "2022-02-28 17:11:12,728 : INFO : topic #79 (0.023): 0.645*\"method\" + 0.043*\"iter\" + 0.035*\"'\" + 0.024*\"condit\" + 0.022*\"end\" + 0.021*\"suffici\" + 0.018*\"occur\" + 0.016*\"degre\" + 0.015*\"present\" + 0.015*\"applic\"\n",
      "2022-02-28 17:11:12,729 : INFO : topic #72 (0.061): 0.375*\"(\" + 0.347*\")\" + 0.209*\"algorithm\" + 0.012*\"polynomi\" + 0.012*\"-\" + 0.007*\"integ\" + 0.005*\"order\" + 0.005*\"root\" + 0.005*\"coeffici\" + 0.004*\"complet\"\n",
      "2022-02-28 17:11:12,730 : INFO : topic diff=0.154280, rho=0.220316\n",
      "2022-02-28 17:11:13,574 : INFO : -6.425 per-word bound, 85.9 perplexity estimate based on a held-out corpus of 1204 documents with 49783 words\n",
      "2022-02-28 17:11:13,575 : INFO : PROGRESS: pass 18, at document #3204/3204\n",
      "2022-02-28 17:11:14,197 : INFO : optimized alpha [0.012660427, 0.016879417, 0.013633969, 0.015921744, 0.012991679, 0.013604225, 0.015327441, 0.0070247534, 0.011293754, 0.012297266, 0.012297503, 0.015512088, 0.020904038, 0.013916762, 0.011501478, 0.012453679, 0.015191323, 0.013816097, 0.014330937, 0.015514271, 0.011713725, 0.013419818, 0.0107339015, 0.0129236635, 0.013751979, 0.013993206, 0.014299477, 0.012283046, 0.011901102, 0.012759717, 0.013060003, 0.012788009, 0.016713725, 0.012336814, 0.016877074, 0.022336787, 0.012936799, 0.012629315, 0.012825095, 0.012032871, 0.016069246, 0.012436811, 0.013430601, 0.009920414, 0.012182605, 0.011052025, 0.012836928, 0.011654588, 0.01569728, 0.017899495, 0.014189067, 0.010792113, 0.013534719, 0.012357758, 0.014521425, 0.011511284, 0.016864555, 0.01223304, 0.020719534, 0.012064375, 0.015179339, 0.0122356545, 0.012996392, 0.011751556, 0.012094252, 0.01238546, 0.012380817, 0.012794455, 0.012907487, 0.011055956, 0.011017006, 0.014759206, 0.06311666, 0.015301764, 0.0150243845, 0.012658331, 0.0205485, 0.011357575, 0.018056197, 0.023443876, 0.012502116, 0.012195878, 0.015115888, 0.012810926, 0.011453634, 0.012903874, 0.012563078, 0.013372048, 0.0147124585, 0.013079425, 0.015028425, 0.015931988, 0.013589668, 0.013581149, 0.017952515, 0.017882539, 0.014279286, 0.011733667, 0.013714702, 0.01314425]\n",
      "2022-02-28 17:11:14,203 : INFO : merging changes from 1204 documents into a model of 3204 documents\n",
      "2022-02-28 17:11:14,209 : INFO : topic #7 (0.007): 0.001*\"implic\" + 0.001*\"favor\" + 0.001*\"adapt\" + 0.001*\"polygon\" + 0.001*\"stage\" + 0.001*\"situat\" + 0.001*\"respons\" + 0.001*\"industri\" + 0.001*\"regress\" + 0.001*\"drive\"\n",
      "2022-02-28 17:11:14,210 : INFO : topic #43 (0.010): 0.106*\"pl\" + 0.076*\"disciplin\" + 0.054*\"frequenc\" + 0.053*\"/\" + 0.051*\"program\" + 0.039*\"undergradu\" + 0.037*\"calculu\" + 0.028*\"measur\" + 0.027*\"widespread\" + 0.026*\"extens\"\n",
      "2022-02-28 17:11:14,210 : INFO : topic #35 (0.022): 0.426*\"program\" + 0.063*\",\" + 0.051*\"execut\" + 0.034*\"machin\" + 0.023*\"time\" + 0.021*\"written\" + 0.021*\"automat\" + 0.018*\"run\" + 0.016*\"discuss\" + 0.013*\"debug\"\n",
      "2022-02-28 17:11:14,211 : INFO : topic #79 (0.023): 0.656*\"method\" + 0.038*\"iter\" + 0.034*\"'\" + 0.026*\"end\" + 0.023*\"condit\" + 0.022*\"suffici\" + 0.016*\"occur\" + 0.015*\"present\" + 0.015*\"degre\" + 0.015*\"applic\"\n",
      "2022-02-28 17:11:14,212 : INFO : topic #72 (0.063): 0.379*\"(\" + 0.347*\")\" + 0.205*\"algorithm\" + 0.012*\"-\" + 0.012*\"polynomi\" + 0.008*\"integ\" + 0.005*\"order\" + 0.005*\"root\" + 0.004*\"coeffici\" + 0.004*\"semi\"\n",
      "2022-02-28 17:11:14,213 : INFO : topic diff=0.158222, rho=0.220316\n",
      "2022-02-28 17:11:14,219 : INFO : PROGRESS: pass 19, at document #2000/3204\n",
      "2022-02-28 17:11:14,946 : INFO : optimized alpha [0.012683542, 0.01701447, 0.0137021495, 0.016039426, 0.013102995, 0.01366966, 0.015315386, 0.006997498, 0.011308938, 0.012322064, 0.012342276, 0.015571625, 0.021148039, 0.014023872, 0.01152074, 0.012500021, 0.015281314, 0.013825626, 0.014350455, 0.01558445, 0.011706058, 0.01348948, 0.010754474, 0.013116858, 0.0138077345, 0.014101379, 0.014309305, 0.012356749, 0.011945886, 0.01274688, 0.01312568, 0.012815995, 0.01688779, 0.012368839, 0.016994758, 0.022749474, 0.012965629, 0.012665249, 0.012812332, 0.012072609, 0.016145797, 0.01244038, 0.013401989, 0.009915764, 0.01216442, 0.011060815, 0.012869094, 0.011708863, 0.015743326, 0.018008621, 0.014266634, 0.010768906, 0.013574891, 0.01247984, 0.014732568, 0.011522594, 0.016975578, 0.012237002, 0.02093287, 0.012116659, 0.015258918, 0.012237701, 0.013010786, 0.01176954, 0.012098236, 0.012383889, 0.01238425, 0.012872808, 0.012921266, 0.011058319, 0.011010174, 0.014888637, 0.065182924, 0.015245619, 0.015130662, 0.012712404, 0.020983145, 0.011398259, 0.018349212, 0.023781383, 0.01255123, 0.012183216, 0.015227439, 0.012898315, 0.011472028, 0.012987496, 0.012644844, 0.013514543, 0.014802532, 0.013131561, 0.015201298, 0.015978178, 0.013601569, 0.013638829, 0.018197475, 0.018217215, 0.014351922, 0.01176117, 0.01377021, 0.013207751]\n",
      "2022-02-28 17:11:14,952 : INFO : merging changes from 2000 documents into a model of 3204 documents\n",
      "2022-02-28 17:11:14,958 : INFO : topic #7 (0.007): 0.001*\"implic\" + 0.001*\"favor\" + 0.001*\"adapt\" + 0.001*\"polygon\" + 0.001*\"stage\" + 0.001*\"situat\" + 0.001*\"respons\" + 0.001*\"industri\" + 0.001*\"regress\" + 0.001*\"drive\"\n",
      "2022-02-28 17:11:14,959 : INFO : topic #43 (0.010): 0.099*\"pl\" + 0.066*\"disciplin\" + 0.052*\"/\" + 0.051*\"frequenc\" + 0.050*\"program\" + 0.040*\"undergradu\" + 0.038*\"calculu\" + 0.027*\"analysi\" + 0.027*\"extens\" + 0.025*\"measur\"\n",
      "2022-02-28 17:11:14,961 : INFO : topic #35 (0.023): 0.424*\"program\" + 0.063*\",\" + 0.050*\"execut\" + 0.036*\"machin\" + 0.023*\"time\" + 0.022*\"written\" + 0.022*\"automat\" + 0.020*\"run\" + 0.017*\"discuss\" + 0.015*\"debug\"\n",
      "2022-02-28 17:11:14,962 : INFO : topic #79 (0.024): 0.652*\"method\" + 0.044*\"iter\" + 0.034*\"'\" + 0.022*\"end\" + 0.021*\"condit\" + 0.020*\"suffici\" + 0.017*\"occur\" + 0.016*\"degre\" + 0.015*\"applic\" + 0.015*\"present\"\n",
      "2022-02-28 17:11:14,963 : INFO : topic #72 (0.065): 0.376*\"(\" + 0.347*\")\" + 0.208*\"algorithm\" + 0.012*\"polynomi\" + 0.012*\"-\" + 0.007*\"integ\" + 0.005*\"order\" + 0.005*\"root\" + 0.005*\"coeffici\" + 0.004*\"complet\"\n",
      "2022-02-28 17:11:14,964 : INFO : topic diff=0.144429, rho=0.215156\n",
      "2022-02-28 17:11:15,796 : INFO : -6.420 per-word bound, 85.6 perplexity estimate based on a held-out corpus of 1204 documents with 49783 words\n",
      "2022-02-28 17:11:15,797 : INFO : PROGRESS: pass 19, at document #3204/3204\n",
      "2022-02-28 17:11:16,401 : INFO : optimized alpha [0.012809258, 0.017309679, 0.013846148, 0.01624096, 0.01318346, 0.013858473, 0.01556252, 0.006962925, 0.011416099, 0.012408986, 0.012435429, 0.015790058, 0.021497918, 0.014125069, 0.011595702, 0.012582804, 0.0154353995, 0.013985388, 0.014556506, 0.015817722, 0.011814853, 0.013655008, 0.01080943, 0.013264729, 0.013941014, 0.01422915, 0.014539754, 0.012414333, 0.012029223, 0.012859781, 0.013252764, 0.012967236, 0.017065909, 0.012482265, 0.017276525, 0.023322457, 0.01307801, 0.012783886, 0.012937725, 0.012156316, 0.0164344, 0.012576648, 0.01362413, 0.009952164, 0.012276631, 0.011171798, 0.012976892, 0.011775357, 0.015966432, 0.018302364, 0.0144083975, 0.0108315265, 0.013727765, 0.012482212, 0.014768437, 0.0116323065, 0.0171761, 0.01235497, 0.021317655, 0.01222602, 0.015456605, 0.012315743, 0.013163786, 0.011921098, 0.012235232, 0.0125253415, 0.012476796, 0.012953535, 0.013069147, 0.011133976, 0.011074647, 0.015012731, 0.066921555, 0.015508912, 0.015412975, 0.012887526, 0.021170177, 0.011478771, 0.018547295, 0.024290912, 0.012698378, 0.012328193, 0.015431312, 0.01298485, 0.011538778, 0.013087265, 0.012731512, 0.013585685, 0.015076977, 0.013321435, 0.01542016, 0.016238708, 0.013756839, 0.013825893, 0.01839017, 0.018532487, 0.014497855, 0.011853586, 0.013922662, 0.01330212]\n",
      "2022-02-28 17:11:16,407 : INFO : merging changes from 1204 documents into a model of 3204 documents\n",
      "2022-02-28 17:11:16,413 : INFO : topic #7 (0.007): 0.001*\"implic\" + 0.001*\"favor\" + 0.001*\"adapt\" + 0.001*\"polygon\" + 0.001*\"stage\" + 0.001*\"situat\" + 0.001*\"respons\" + 0.001*\"industri\" + 0.001*\"regress\" + 0.001*\"drive\"\n",
      "2022-02-28 17:11:16,413 : INFO : topic #43 (0.010): 0.107*\"pl\" + 0.077*\"disciplin\" + 0.055*\"frequenc\" + 0.052*\"/\" + 0.049*\"program\" + 0.039*\"undergradu\" + 0.038*\"calculu\" + 0.028*\"extens\" + 0.028*\"measur\" + 0.027*\"widespread\"\n",
      "2022-02-28 17:11:16,414 : INFO : topic #35 (0.023): 0.433*\"program\" + 0.062*\",\" + 0.051*\"execut\" + 0.035*\"machin\" + 0.023*\"time\" + 0.021*\"written\" + 0.021*\"automat\" + 0.018*\"run\" + 0.016*\"discuss\" + 0.013*\"debug\"\n",
      "2022-02-28 17:11:16,415 : INFO : topic #79 (0.024): 0.663*\"method\" + 0.039*\"iter\" + 0.034*\"'\" + 0.026*\"end\" + 0.021*\"suffici\" + 0.021*\"condit\" + 0.015*\"occur\" + 0.015*\"present\" + 0.015*\"applic\" + 0.014*\"degre\"\n",
      "2022-02-28 17:11:16,416 : INFO : topic #72 (0.067): 0.380*\"(\" + 0.347*\")\" + 0.204*\"algorithm\" + 0.012*\"-\" + 0.012*\"polynomi\" + 0.008*\"integ\" + 0.005*\"order\" + 0.005*\"root\" + 0.004*\"coeffici\" + 0.004*\"semi\"\n",
      "2022-02-28 17:11:16,417 : INFO : topic diff=0.148199, rho=0.215156\n"
     ]
    },
    {
     "data": {
      "text/plain": [
       "[(0, 0.0052147317),\n",
       " (1, 0.007046882),\n",
       " (2, 0.0056368564),\n",
       " (3, 0.0066118),\n",
       " (4, 0.005367072),\n",
       " (5, 0.005641874),\n",
       " (6, 0.0063356026),\n",
       " (7, 0.0028346519),\n",
       " (8, 0.004647568),\n",
       " (9, 0.0050517786),\n",
       " (10, 0.005062544),\n",
       " (11, 0.0064282347),\n",
       " (12, 0.008751942),\n",
       " (13, 0.005750407),\n",
       " (14, 0.004720685),\n",
       " (15, 0.005122541),\n",
       " (16, 0.006283851),\n",
       " (17, 0.005693542),\n",
       " (18, 0.005926048),\n",
       " (19, 0.006439497),\n",
       " (20, 0.004809903),\n",
       " (21, 0.005559042),\n",
       " (22, 0.004400589),\n",
       " (23, 0.005400157),\n",
       " (24, 0.005675477),\n",
       " (25, 0.005792779),\n",
       " (26, 0.005919228),\n",
       " (27, 0.0050539556),\n",
       " (28, 0.0048971744),\n",
       " (29, 0.0052353004),\n",
       " (30, 0.005395286),\n",
       " (31, 0.005279046),\n",
       " (32, 0.0069476417),\n",
       " (33, 0.0050816108),\n",
       " (34, 0.0070333853),\n",
       " (35, 0.009494724),\n",
       " (36, 0.0053241425),\n",
       " (37, 0.005204403),\n",
       " (38, 0.0052670315),\n",
       " (39, 0.004948915),\n",
       " (40, 0.0066905506),\n",
       " (41, 0.005120035),\n",
       " (42, 0.0055464716),\n",
       " (43, 0.0040515903),\n",
       " (44, 0.004997896),\n",
       " (45, 0.0045481115),\n",
       " (46, 0.0052829767),\n",
       " (47, 0.004793824),\n",
       " (48, 0.006500038),\n",
       " (49, 0.007451011),\n",
       " (50, 0.0058657518),\n",
       " (51, 0.0044095847),\n",
       " (52, 0.005588662),\n",
       " (53, 0.41218606),\n",
       " (54, 0.006012326),\n",
       " (55, 0.004735587),\n",
       " (56, 0.006992501),\n",
       " (57, 0.0050297882),\n",
       " (58, 0.0086785555),\n",
       " (59, 0.004977292),\n",
       " (60, 0.006292484),\n",
       " (61, 0.0050138184),\n",
       " (62, 0.0053590625),\n",
       " (63, 0.0048531564),\n",
       " (64, 0.004981042),\n",
       " (65, 0.0050991476),\n",
       " (66, 0.0050793844),\n",
       " (67, 0.005273468),\n",
       " (68, 0.0053205346),\n",
       " (69, 0.004532714),\n",
       " (70, 0.0045085605),\n",
       " (71, 0.0061117797),\n",
       " (72, 0.027244197),\n",
       " (73, 0.0063137785),\n",
       " (74, 0.006274722),\n",
       " (75, 0.0052465955),\n",
       " (76, 0.008618516),\n",
       " (77, 0.0046730824),\n",
       " (78, 0.007550724),\n",
       " (79, 0.009888987),\n",
       " (80, 0.005169592),\n",
       " (81, 0.005018887),\n",
       " (82, 0.006282187),\n",
       " (83, 0.0052862167),\n",
       " (84, 0.0046975114),\n",
       " (85, 0.00532791),\n",
       " (86, 0.005183081),\n",
       " (87, 0.00553082),\n",
       " (88, 0.006137935),\n",
       " (89, 0.005423242),\n",
       " (90, 0.006277647),\n",
       " (91, 0.006610883),\n",
       " (92, 0.005600498),\n",
       " (93, 0.0056286105),\n",
       " (94, 0.007486757),\n",
       " (95, 0.0075446954),\n",
       " (96, 0.0059021707),\n",
       " (97, 0.0048256717),\n",
       " (98, 0.0056680054),\n",
       " (99, 0.0054153795)]"
      ]
     },
     "execution_count": 85,
     "metadata": {},
     "output_type": "execute_result"
    }
   ],
   "source": [
    "##### Function check\n",
    "lda = LdaRetrievalModel(doc_repr_2)\n",
    "lda.train_model()\n",
    "\n",
    "# you can now get an LDA vector for a given query in the following way:\n",
    "lda.vectorize_query(\"report\")\n",
    "#####"
   ]
  },
  {
   "cell_type": "markdown",
   "metadata": {
    "cell_id": "00137-b82100c4-8bc6-4c0b-a37d-3f8eed7a4106",
    "deepnote_cell_height": 52.390625,
    "deepnote_cell_type": "markdown",
    "deletable": false,
    "editable": false,
    "nbgrader": {
     "cell_type": "markdown",
     "checksum": "32d83b6ea79ca3ddb789a7f8805a1b25",
     "grade": false,
     "grade_id": "cell-0e24b727d5908c0e",
     "locked": true,
     "points": 5,
     "schema_version": 3,
     "solution": false,
     "task": true
    }
   },
   "source": [
    "\\#### Please do not change this. This cell is used for grading."
   ]
  },
  {
   "cell_type": "markdown",
   "metadata": {
    "cell_id": "00138-9da9ac44-4973-497c-ae61-6ae44d57702c",
    "deepnote_cell_height": 98.1875,
    "deepnote_cell_type": "markdown",
    "deletable": false,
    "editable": false,
    "nbgrader": {
     "cell_type": "markdown",
     "checksum": "114a934f0b9ce696e6cf09d3b8da6a3d",
     "grade": false,
     "grade_id": "cell-b1bffcb970b18aeb",
     "locked": true,
     "schema_version": 3,
     "solution": false,
     "task": false
    }
   },
   "source": [
    "---\n",
    "Now we can use the `DenseRetrievalModel` class to obtain an LDA search function.\n",
    "You can test your LDA model in the following cell: Try finding queries which are lexically different to documents, but semantically similar - does LDA work well for these queries?!"
   ]
  },
  {
   "cell_type": "code",
   "execution_count": 86,
   "metadata": {
    "cell_id": "00139-74e10836-ea8e-40f0-99d4-f5422f0f88e6",
    "deepnote_cell_height": 303,
    "deepnote_cell_type": "code",
    "deepnote_to_be_reexecuted": false,
    "execution_millis": 4419,
    "execution_start": 1645186665847,
    "source_hash": "76222337"
   },
   "outputs": [
    {
     "data": {
      "application/vnd.jupyter.widget-view+json": {
       "model_id": "a6a5bab5f7e642fdbe661433c08a0c85",
       "version_major": 2,
       "version_minor": 0
      },
      "text/plain": [
       "Text(value='', description='Search Bar')"
      ]
     },
     "metadata": {},
     "output_type": "display_data"
    }
   ],
   "source": [
    "drm_lda = DenseRetrievalRanker(lda, jenson_shannon_sim)\n",
    "\n",
    "# test your LDA model\n",
    "search_fn = drm_lda.search\n",
    "\n",
    "text = widgets.Text(description=\"Search Bar\", width=200)\n",
    "display(text)\n",
    "\n",
    "\n",
    "text.on_submit(handle_submit_2)"
   ]
  },
  {
   "cell_type": "markdown",
   "metadata": {
    "cell_id": "00140-3dcd44fb-190f-4b30-a761-4fbdb85b38fe",
    "deepnote_cell_height": 405.375,
    "deepnote_cell_type": "markdown",
    "deletable": false,
    "editable": false,
    "nbgrader": {
     "cell_type": "markdown",
     "checksum": "9d7f15863b655119b45f4d89354e5661",
     "grade": false,
     "grade_id": "cell-190cd0854b2791cc",
     "locked": true,
     "schema_version": 3,
     "solution": false,
     "task": false
    }
   },
   "source": [
    "## Section 8: Word2Vec/Doc2Vec (20 points) <a class=\"anchor\" id=\"2vec\"></a>\n",
    "\n",
    "[Back to Part 2](#part2)\n",
    "\n",
    "We will implement two other methods here, the Word2Vec model and the Doc2Vec model, also using `gensim`. Word2Vec creates representations of words, not documents, so the word level vectors need to be aggregated to obtain a representation for the document. Here, we will simply take the mean of the vectors.\n",
    "\n",
    "\n",
    "A drawback of these models is that they need a lot of training data. Our dataset is tiny, so in addition to using a model trained on the data, we will also use a pre-trained model for Word2Vec (this will be automatically downloaded).\n",
    "\n",
    "*Note*:\n",
    "1. The code in vectorize_documents / vectorize_query should return gensim-like vectors i.e `[(dim, val), .. (dim, val)]`.\n",
    "2. For Word2Vec: You should also handle the following two cases: (a) A word in the query is not present in the vocabulary of the model and (b) none of the words in the query are present in the model - you can return 0 scores for all documents in this case. For either of these, you can check if a `word` is present in the vocab by using `word in self.model`\n"
   ]
  },
  {
   "cell_type": "code",
   "execution_count": 87,
   "metadata": {
    "cell_id": "00141-4813dd67-6ab9-4a66-909c-c9ffb52e292c",
    "collapsed": true,
    "deepnote_cell_height": 1767.796875,
    "deepnote_cell_type": "code",
    "deepnote_output_heights": [
     null,
     611
    ],
    "deepnote_to_be_reexecuted": false,
    "deletable": false,
    "execution_millis": 5958,
    "execution_start": 1645186670275,
    "is_output_hidden": true,
    "jupyter": {
     "outputs_hidden": true
    },
    "nbgrader": {
     "cell_type": "code",
     "checksum": "83ab733608ed14c29c09b36b4e1b6daa",
     "grade": false,
     "grade_id": "cell-2b73759f9baf688f",
     "locked": false,
     "schema_version": 3,
     "solution": true,
     "task": false
    },
    "source_hash": "69fb62df",
    "tags": []
   },
   "outputs": [
    {
     "name": "stderr",
     "output_type": "stream",
     "text": [
      "2022-02-28 17:11:18,444 : INFO : adding document #0 to Dictionary(0 unique tokens: [])\n",
      "2022-02-28 17:11:18,588 : INFO : built Dictionary(5937 unique tokens: ['-', 'algebra', 'intern', 'languag', 'preliminari']...) from 3204 documents (total 115969 corpus positions)\n",
      "2022-02-28 17:11:18,595 : INFO : discarding 4740 tokens: [('repeat', 8), ('glossari', 7), ('inspect', 8), ('uncol', 2), ('rung', 9), ('secant', 2), ('.', 1603), ('acceler', 6), ('diverg', 3), ('induc', 9)]...\n",
      "2022-02-28 17:11:18,595 : INFO : keeping 1197 tokens which were in no less than 10 and no more than 1602 (=50.0%) documents\n",
      "2022-02-28 17:11:18,598 : INFO : resulting dictionary: Dictionary(1197 unique tokens: ['-', 'algebra', 'intern', 'languag', 'preliminari']...)\n",
      "2022-02-28 17:11:18,683 : INFO : collecting all words and their counts\n",
      "2022-02-28 17:11:18,684 : INFO : PROGRESS: at sentence #0, processed 0 words, keeping 0 word types\n",
      "2022-02-28 17:11:18,714 : INFO : collected 5937 word types from a corpus of 115969 raw words and 3204 sentences\n",
      "2022-02-28 17:11:18,715 : INFO : Loading a fresh vocabulary\n",
      "2022-02-28 17:11:18,730 : INFO : effective_min_count=1 retains 5937 unique words (100% of original 5937, drops 0)\n",
      "2022-02-28 17:11:18,731 : INFO : effective_min_count=1 leaves 115969 word corpus (100% of original 115969, drops 0)\n",
      "2022-02-28 17:11:18,750 : INFO : deleting the raw counts dictionary of 5937 items\n",
      "2022-02-28 17:11:18,750 : INFO : sample=0.001 downsamples 40 most-common words\n",
      "2022-02-28 17:11:18,752 : INFO : downsampling leaves estimated 92346 word corpus (79.6% of prior 115969)\n",
      "2022-02-28 17:11:18,769 : INFO : estimated required memory for 5937 words and 100 dimensions: 7718100 bytes\n",
      "2022-02-28 17:11:18,769 : INFO : resetting layer weights\n",
      "2022-02-28 17:11:19,857 : INFO : training model with 3 workers on 5937 vocabulary and 100 features, using sg=0 hs=0 sample=0.001 negative=5 window=5\n",
      "2022-02-28 17:11:19,952 : INFO : worker thread finished; awaiting finish of 2 more threads\n",
      "2022-02-28 17:11:19,960 : INFO : worker thread finished; awaiting finish of 1 more threads\n",
      "2022-02-28 17:11:19,961 : INFO : worker thread finished; awaiting finish of 0 more threads\n",
      "2022-02-28 17:11:19,962 : INFO : EPOCH - 1 : training on 115969 raw words (92272 effective words) took 0.1s, 924637 effective words/s\n",
      "2022-02-28 17:11:20,046 : INFO : worker thread finished; awaiting finish of 2 more threads\n",
      "2022-02-28 17:11:20,058 : INFO : worker thread finished; awaiting finish of 1 more threads\n",
      "2022-02-28 17:11:20,063 : INFO : worker thread finished; awaiting finish of 0 more threads\n",
      "2022-02-28 17:11:20,064 : INFO : EPOCH - 2 : training on 115969 raw words (92445 effective words) took 0.1s, 972077 effective words/s\n",
      "2022-02-28 17:11:20,146 : INFO : worker thread finished; awaiting finish of 2 more threads\n",
      "2022-02-28 17:11:20,153 : INFO : worker thread finished; awaiting finish of 1 more threads\n",
      "2022-02-28 17:11:20,156 : INFO : worker thread finished; awaiting finish of 0 more threads\n",
      "2022-02-28 17:11:20,157 : INFO : EPOCH - 3 : training on 115969 raw words (92313 effective words) took 0.1s, 1056433 effective words/s\n",
      "2022-02-28 17:11:20,241 : INFO : worker thread finished; awaiting finish of 2 more threads\n",
      "2022-02-28 17:11:20,247 : INFO : worker thread finished; awaiting finish of 1 more threads\n",
      "2022-02-28 17:11:20,251 : INFO : worker thread finished; awaiting finish of 0 more threads\n",
      "2022-02-28 17:11:20,252 : INFO : EPOCH - 4 : training on 115969 raw words (92251 effective words) took 0.1s, 1033564 effective words/s\n",
      "2022-02-28 17:11:20,344 : INFO : worker thread finished; awaiting finish of 2 more threads\n",
      "2022-02-28 17:11:20,346 : INFO : worker thread finished; awaiting finish of 1 more threads\n",
      "2022-02-28 17:11:20,352 : INFO : worker thread finished; awaiting finish of 0 more threads\n",
      "2022-02-28 17:11:20,352 : INFO : EPOCH - 5 : training on 115969 raw words (92405 effective words) took 0.1s, 983137 effective words/s\n",
      "2022-02-28 17:11:20,353 : INFO : training on a 579845 raw words (461686 effective words) took 0.5s, 933229 effective words/s\n"
     ]
    },
    {
     "data": {
      "text/plain": [
       "[(0, 0.9063283205032349),\n",
       " (1, 0.17840521037578583),\n",
       " (2, 0.6529536843299866),\n",
       " (3, 0.6037636399269104),\n",
       " (4, 0.19335636496543884),\n",
       " (5, -0.05273548141121864),\n",
       " (6, 0.9470152854919434),\n",
       " (7, -0.709524929523468),\n",
       " (8, -0.8610819578170776),\n",
       " (9, -0.5324909687042236),\n",
       " (10, 0.14774952828884125),\n",
       " (11, -0.34660738706588745),\n",
       " (12, -0.01905273087322712),\n",
       " (13, 0.15002110600471497),\n",
       " (14, 0.4264703094959259),\n",
       " (15, -0.056187696754932404),\n",
       " (16, -0.4211635887622833),\n",
       " (17, 0.4457681477069855),\n",
       " (18, -0.4514957666397095),\n",
       " (19, 0.7928734421730042),\n",
       " (20, -0.42158645391464233),\n",
       " (21, 0.2037563920021057),\n",
       " (22, -0.11849522590637207),\n",
       " (23, -0.370061457157135),\n",
       " (24, -0.2426752895116806),\n",
       " (25, 0.30941835045814514),\n",
       " (26, 0.667424738407135),\n",
       " (27, 0.2467760145664215),\n",
       " (28, 0.16276033222675323),\n",
       " (29, 0.5151311159133911),\n",
       " (30, 0.0234921146184206),\n",
       " (31, -0.17654070258140564),\n",
       " (32, 0.4800446927547455),\n",
       " (33, -0.22015003859996796),\n",
       " (34, -0.1309816837310791),\n",
       " (35, 0.08083300292491913),\n",
       " (36, -0.21192435920238495),\n",
       " (37, 0.10039355605840683),\n",
       " (38, -0.5632724165916443),\n",
       " (39, -0.1464230865240097),\n",
       " (40, -0.18872866034507751),\n",
       " (41, -0.06626701354980469),\n",
       " (42, 0.15630219876766205),\n",
       " (43, -0.33690422773361206),\n",
       " (44, 0.3505677580833435),\n",
       " (45, 0.9503735899925232),\n",
       " (46, -0.5528669357299805),\n",
       " (47, -0.8402563333511353),\n",
       " (48, -0.13290444016456604),\n",
       " (49, -0.2952796518802643),\n",
       " (50, -0.3981425166130066),\n",
       " (51, 0.2882024645805359),\n",
       " (52, -0.45812949538230896),\n",
       " (53, -0.45412877202033997),\n",
       " (54, -0.3522966206073761),\n",
       " (55, 0.2234804481267929),\n",
       " (56, 0.6781841516494751),\n",
       " (57, -0.4139597415924072),\n",
       " (58, -0.40504103899002075),\n",
       " (59, 0.6219332814216614),\n",
       " (60, -0.4512266516685486),\n",
       " (61, 0.2247573435306549),\n",
       " (62, -0.10779042541980743),\n",
       " (63, 0.2936650216579437),\n",
       " (64, 0.17277473211288452),\n",
       " (65, -0.0911811962723732),\n",
       " (66, 0.9813016057014465),\n",
       " (67, -0.6221659183502197),\n",
       " (68, -0.4807910919189453),\n",
       " (69, -0.20158903300762177),\n",
       " (70, 0.1848350316286087),\n",
       " (71, -0.30869922041893005),\n",
       " (72, -0.17026874423027039),\n",
       " (73, 0.15862248837947845),\n",
       " (74, -0.33598148822784424),\n",
       " (75, 0.13747097551822662),\n",
       " (76, 0.46848177909851074),\n",
       " (77, -0.14078126847743988),\n",
       " (78, -0.3272640109062195),\n",
       " (79, -0.06900444626808167),\n",
       " (80, -0.2542307674884796),\n",
       " (81, -0.02498268149793148),\n",
       " (82, 0.3780348002910614),\n",
       " (83, -0.40699413418769836),\n",
       " (84, 0.44995471835136414),\n",
       " (85, 0.2808953523635864),\n",
       " (86, -0.2173590213060379),\n",
       " (87, -0.5694543719291687),\n",
       " (88, 0.6773943901062012),\n",
       " (89, -0.4307338297367096),\n",
       " (90, -0.5852314829826355),\n",
       " (91, -0.04785475879907608),\n",
       " (92, 0.2296794205904007),\n",
       " (93, 0.5775604844093323),\n",
       " (94, 0.7022120356559753),\n",
       " (95, -0.10410280525684357),\n",
       " (96, 0.11042662709951401),\n",
       " (97, -0.1022694781422615),\n",
       " (98, -0.02216430753469467),\n",
       " (99, 0.12013658881187439)]"
      ]
     },
     "execution_count": 87,
     "metadata": {},
     "output_type": "execute_result"
    }
   ],
   "source": [
    "# TODO: Implement this! (10 points)\n",
    "class W2VRetrievalModel(VectorSpaceRetrievalModel):\n",
    "    def __init__(self, doc_repr):\n",
    "        super().__init__(doc_repr)\n",
    "\n",
    "        # the dimensionality of the vectors\n",
    "        self.size = 100\n",
    "        self.min_count = 1\n",
    "\n",
    "    def train_model(self):\n",
    "        \"\"\"\n",
    "        Trains the W2V model\n",
    "        \"\"\"\n",
    "        # YOUR CODE HERE\n",
    "        self.model = Word2Vec(\n",
    "            sentences=self.documents, size=self.size, min_count=self.min_count\n",
    "        )\n",
    "\n",
    "    def vectorize_documents(self):\n",
    "        \"\"\"\n",
    "        Returns a doc_id -> vector dictionary\n",
    "        \"\"\"\n",
    "        # YOUR CODE HERE\n",
    "        vectors = {}\n",
    "        for (doc_id, doc) in self.doc_repr:\n",
    "            # initializations for this document\n",
    "            doc_vector = np.zeros(self.size)\n",
    "            n_words = 0\n",
    "            for word in doc:\n",
    "                n_words += 1\n",
    "                # check that current word in doc in our model (needed for pretrained)\n",
    "                try:\n",
    "                    word_vector = self.model.wv[word]\n",
    "                except KeyError:\n",
    "                    # don't count this word\n",
    "                    n_words -= 1\n",
    "                    continue\n",
    "                doc_vector += word_vector\n",
    "            if n_words > 0:\n",
    "                # aggregate by taking the mean over the found words\n",
    "                doc_vector = doc_vector / n_words\n",
    "            # convert to weird gensim format that is desired\n",
    "            doc_vector = [(i, el) for i, el in enumerate(doc_vector)]\n",
    "            # and save to our dictionary\n",
    "            vectors[doc_id] = doc_vector\n",
    "\n",
    "        return vectors\n",
    "\n",
    "    def vectorize_query(self, query):\n",
    "        \"\"\"\n",
    "        Vectorizes the query using the W2V model\n",
    "        \"\"\"\n",
    "        # YOUR CODE HERE\n",
    "        query = process_text(query, **config_2)\n",
    "        # initialize query vector\n",
    "        query_vec = np.zeros(self.size)\n",
    "        # handle valid queries (i.e. processing hasn't made it empty)\n",
    "        if len(query) > 0:\n",
    "            n_words = 0\n",
    "            for word in query:\n",
    "                n_words += 1\n",
    "                # check that current word in query in our vocab\n",
    "                try:\n",
    "                    word_vector = self.model.wv[word]\n",
    "                except KeyError:\n",
    "                    # don't count this word\n",
    "                    n_words -= 1\n",
    "                    continue\n",
    "                query_vec += word_vector\n",
    "            if n_words > 0:\n",
    "                # aggregate by taking the mean over the found words\n",
    "                query_vec = query_vec / n_words\n",
    "        # convert to weird gensim format that is desired\n",
    "        query_vec = [(i, el) for i, el in enumerate(query_vec)]\n",
    "        return query_vec\n",
    "\n",
    "\n",
    "class W2VPretrainedRetrievalModel(W2VRetrievalModel):\n",
    "    def __init__(self, doc_repr):\n",
    "        super().__init__(doc_repr)\n",
    "        self.model_name = \"word2vec-google-news-300\"\n",
    "        self.size = 300\n",
    "\n",
    "    def train_model(self):\n",
    "        \"\"\"\n",
    "        Loads the pretrained model\n",
    "        \"\"\"\n",
    "        self.model = g_downloader.load(self.model_name)\n",
    "\n",
    "\n",
    "w2v = W2VRetrievalModel(doc_repr_2)\n",
    "w2v.train_model()\n",
    "\n",
    "# you can now get a W2V vector for a given query in the following way:\n",
    "w2v.vectorize_query(\"report\")"
   ]
  },
  {
   "cell_type": "code",
   "execution_count": 88,
   "metadata": {
    "cell_id": "00142-4fd5a03c-b76f-4fd4-b70f-2670bd4416e5",
    "deepnote_cell_height": 117,
    "deepnote_cell_type": "code",
    "deepnote_to_be_reexecuted": false,
    "deletable": false,
    "editable": false,
    "execution_millis": 11300785,
    "execution_start": 1645186676074,
    "lines_to_next_cell": 2,
    "nbgrader": {
     "cell_type": "code",
     "checksum": "f92b5c5a8c6c4b80652b94223209ab0b",
     "grade": true,
     "grade_id": "cell-b31c0f8d214b8bdf",
     "locked": true,
     "points": 0,
     "schema_version": 3,
     "solution": false,
     "task": false
    },
    "source_hash": "3f3d7257"
   },
   "outputs": [],
   "source": [
    "assert len(w2v.vectorize_query(\"report\")) == 100\n",
    "assert len(w2v.vectorize_query(\"this is a sentence that is not mellifluous\")) == 100"
   ]
  },
  {
   "cell_type": "markdown",
   "metadata": {
    "cell_id": "00143-dca6cd62-6d5c-4c14-8cc4-7299f1f8390e",
    "deepnote_cell_height": 52.390625,
    "deepnote_cell_type": "markdown",
    "deletable": false,
    "editable": false,
    "nbgrader": {
     "cell_type": "markdown",
     "checksum": "8dfaabebcb06f308a7ca61fdc5d369e7",
     "grade": false,
     "grade_id": "cell-c2614fa067386384",
     "locked": true,
     "points": 8,
     "schema_version": 3,
     "solution": false,
     "task": true
    }
   },
   "source": [
    "\\#### Please do not change this. This cell is used for grading."
   ]
  },
  {
   "cell_type": "code",
   "execution_count": 89,
   "metadata": {
    "cell_id": "00144-7801f559-0e0a-405d-84bf-a02dd1269f5a",
    "collapsed": true,
    "deepnote_cell_height": 304.9375,
    "deepnote_cell_type": "code",
    "deepnote_output_heights": [
     null,
     40.375
    ],
    "deepnote_to_be_reexecuted": false,
    "execution_millis": 611,
    "execution_start": 1645186676087,
    "jupyter": {
     "outputs_hidden": true
    },
    "source_hash": "8ab4bf3a",
    "tags": []
   },
   "outputs": [
    {
     "name": "stderr",
     "output_type": "stream",
     "text": [
      "2022-02-28 17:11:20,374 : INFO : adding document #0 to Dictionary(0 unique tokens: [])\n",
      "2022-02-28 17:11:20,560 : INFO : built Dictionary(5937 unique tokens: ['-', 'algebra', 'intern', 'languag', 'preliminari']...) from 3204 documents (total 115969 corpus positions)\n",
      "2022-02-28 17:11:20,571 : INFO : discarding 4740 tokens: [('repeat', 8), ('glossari', 7), ('inspect', 8), ('uncol', 2), ('rung', 9), ('secant', 2), ('.', 1603), ('acceler', 6), ('diverg', 3), ('induc', 9)]...\n",
      "2022-02-28 17:11:20,572 : INFO : keeping 1197 tokens which were in no less than 10 and no more than 1602 (=50.0%) documents\n",
      "2022-02-28 17:11:20,577 : INFO : resulting dictionary: Dictionary(1197 unique tokens: ['-', 'algebra', 'intern', 'languag', 'preliminari']...)\n",
      "2022-02-28 17:11:20,828 : INFO : loading projection weights from /Users/thesofakillers/gensim-data/word2vec-google-news-300/word2vec-google-news-300.gz\n",
      "2022-02-28 17:12:05,470 : INFO : loaded (3000000, 300) matrix from /Users/thesofakillers/gensim-data/word2vec-google-news-300/word2vec-google-news-300.gz\n",
      "/Users/thesofakillers/miniconda3/envs/ir1/lib/python3.6/site-packages/ipykernel_launcher.py:64: DeprecationWarning: Call to deprecated `wv` (Attribute will be removed in 4.0.0, use self instead).\n"
     ]
    },
    {
     "data": {
      "text/plain": [
       "[(0, -0.142578125),\n",
       " (1, -0.1640625),\n",
       " (2, -0.09033203125),\n",
       " (3, -0.1123046875),\n",
       " (4, 0.10009765625),\n",
       " (5, -0.041259765625),\n",
       " (6, 0.048828125),\n",
       " (7, -0.13671875),\n",
       " (8, 0.1962890625),\n",
       " (9, -0.134765625),\n",
       " (10, -0.017578125),\n",
       " (11, 0.0322265625),\n",
       " (12, 0.09521484375),\n",
       " (13, -0.10595703125),\n",
       " (14, -0.169921875),\n",
       " (15, 0.041015625),\n",
       " (16, -0.263671875),\n",
       " (17, -0.006317138671875),\n",
       " (18, -0.177734375),\n",
       " (19, -0.240234375),\n",
       " (20, 0.3515625),\n",
       " (21, -0.01220703125),\n",
       " (22, -0.162109375),\n",
       " (23, -0.12060546875),\n",
       " (24, 0.043212890625),\n",
       " (25, 0.10986328125),\n",
       " (26, 0.052490234375),\n",
       " (27, 0.1787109375),\n",
       " (28, -0.1455078125),\n",
       " (29, 0.1376953125),\n",
       " (30, -0.08203125),\n",
       " (31, -0.283203125),\n",
       " (32, -0.10888671875),\n",
       " (33, -0.2890625),\n",
       " (34, 0.072265625),\n",
       " (35, -0.04736328125),\n",
       " (36, 0.040283203125),\n",
       " (37, 0.06787109375),\n",
       " (38, 0.11669921875),\n",
       " (39, 0.00083160400390625),\n",
       " (40, 0.068359375),\n",
       " (41, 0.1201171875),\n",
       " (42, -0.08837890625),\n",
       " (43, 0.337890625),\n",
       " (44, -0.044677734375),\n",
       " (45, -0.0301513671875),\n",
       " (46, 0.0076904296875),\n",
       " (47, -0.0211181640625),\n",
       " (48, -0.25390625),\n",
       " (49, 0.1494140625),\n",
       " (50, 0.3984375),\n",
       " (51, 0.0216064453125),\n",
       " (52, -0.023193359375),\n",
       " (53, 0.00634765625),\n",
       " (54, 0.00823974609375),\n",
       " (55, -0.1689453125),\n",
       " (56, 0.037353515625),\n",
       " (57, -0.0634765625),\n",
       " (58, 0.1171875),\n",
       " (59, -0.1484375),\n",
       " (60, -0.07861328125),\n",
       " (61, 0.369140625),\n",
       " (62, -0.224609375),\n",
       " (63, 0.173828125),\n",
       " (64, 0.01385498046875),\n",
       " (65, 0.1875),\n",
       " (66, -0.10107421875),\n",
       " (67, 0.037841796875),\n",
       " (68, 0.0021209716796875),\n",
       " (69, -0.05126953125),\n",
       " (70, 0.09619140625),\n",
       " (71, -0.05712890625),\n",
       " (72, 0.10595703125),\n",
       " (73, -0.02099609375),\n",
       " (74, 0.1611328125),\n",
       " (75, 0.09765625),\n",
       " (76, 0.038330078125),\n",
       " (77, 0.2197265625),\n",
       " (78, 0.1064453125),\n",
       " (79, 0.0859375),\n",
       " (80, 0.1796875),\n",
       " (81, -0.0830078125),\n",
       " (82, -0.033203125),\n",
       " (83, 0.041015625),\n",
       " (84, -0.06494140625),\n",
       " (85, 0.0198974609375),\n",
       " (86, 0.1337890625),\n",
       " (87, -0.09765625),\n",
       " (88, -0.193359375),\n",
       " (89, -0.2353515625),\n",
       " (90, 0.1904296875),\n",
       " (91, 0.0024871826171875),\n",
       " (92, -0.0157470703125),\n",
       " (93, 0.0322265625),\n",
       " (94, -0.2197265625),\n",
       " (95, -0.09130859375),\n",
       " (96, 0.021240234375),\n",
       " (97, 0.158203125),\n",
       " (98, 0.298828125),\n",
       " (99, -0.328125),\n",
       " (100, 0.057373046875),\n",
       " (101, -0.04638671875),\n",
       " (102, 0.11328125),\n",
       " (103, -0.1015625),\n",
       " (104, 0.1806640625),\n",
       " (105, -0.025146484375),\n",
       " (106, -0.166015625),\n",
       " (107, -0.09619140625),\n",
       " (108, 0.018798828125),\n",
       " (109, -0.1943359375),\n",
       " (110, 0.1494140625),\n",
       " (111, -0.056640625),\n",
       " (112, -0.10693359375),\n",
       " (113, -0.150390625),\n",
       " (114, -0.17578125),\n",
       " (115, 0.11279296875),\n",
       " (116, 0.04931640625),\n",
       " (117, 0.2197265625),\n",
       " (118, 0.318359375),\n",
       " (119, 0.1572265625),\n",
       " (120, -0.29296875),\n",
       " (121, 0.10498046875),\n",
       " (122, -0.296875),\n",
       " (123, -0.013427734375),\n",
       " (124, 0.0908203125),\n",
       " (125, 0.0125732421875),\n",
       " (126, -0.051513671875),\n",
       " (127, -0.12890625),\n",
       " (128, 0.01446533203125),\n",
       " (129, 0.12060546875),\n",
       " (130, -0.10107421875),\n",
       " (131, -0.111328125),\n",
       " (132, 0.06396484375),\n",
       " (133, -0.052978515625),\n",
       " (134, -0.043212890625),\n",
       " (135, -0.012939453125),\n",
       " (136, -0.027587890625),\n",
       " (137, -0.09716796875),\n",
       " (138, -0.2021484375),\n",
       " (139, 0.123046875),\n",
       " (140, -0.04248046875),\n",
       " (141, 0.173828125),\n",
       " (142, -0.013671875),\n",
       " (143, 0.1015625),\n",
       " (144, -0.00093841552734375),\n",
       " (145, -0.03564453125),\n",
       " (146, 0.30078125),\n",
       " (147, -0.068359375),\n",
       " (148, -0.05615234375),\n",
       " (149, 0.03759765625),\n",
       " (150, 0.06591796875),\n",
       " (151, 0.040283203125),\n",
       " (152, 0.01190185546875),\n",
       " (153, 0.09619140625),\n",
       " (154, 0.3671875),\n",
       " (155, -0.279296875),\n",
       " (156, -0.052001953125),\n",
       " (157, -0.10693359375),\n",
       " (158, -0.134765625),\n",
       " (159, -0.046142578125),\n",
       " (160, 0.25),\n",
       " (161, 0.00567626953125),\n",
       " (162, -0.014404296875),\n",
       " (163, -0.031005859375),\n",
       " (164, -0.060302734375),\n",
       " (165, 0.10595703125),\n",
       " (166, 0.37890625),\n",
       " (167, 0.058837890625),\n",
       " (168, 0.123046875),\n",
       " (169, -0.115234375),\n",
       " (170, 0.1494140625),\n",
       " (171, -0.1640625),\n",
       " (172, -0.2333984375),\n",
       " (173, -0.07763671875),\n",
       " (174, 0.0267333984375),\n",
       " (175, -0.0211181640625),\n",
       " (176, 0.1943359375),\n",
       " (177, -0.05615234375),\n",
       " (178, -0.006439208984375),\n",
       " (179, -0.169921875),\n",
       " (180, -0.11865234375),\n",
       " (181, -0.0673828125),\n",
       " (182, -0.06884765625),\n",
       " (183, -0.0869140625),\n",
       " (184, -0.1015625),\n",
       " (185, 0.01416015625),\n",
       " (186, -0.201171875),\n",
       " (187, 0.09814453125),\n",
       " (188, -0.01025390625),\n",
       " (189, 0.1875),\n",
       " (190, 0.1962890625),\n",
       " (191, -0.220703125),\n",
       " (192, -0.1962890625),\n",
       " (193, -0.07373046875),\n",
       " (194, 0.06640625),\n",
       " (195, -0.1337890625),\n",
       " (196, 0.18359375),\n",
       " (197, -0.2001953125),\n",
       " (198, 0.1982421875),\n",
       " (199, 0.05029296875),\n",
       " (200, 0.0299072265625),\n",
       " (201, 0.0177001953125),\n",
       " (202, -0.193359375),\n",
       " (203, -0.09619140625),\n",
       " (204, -0.1025390625),\n",
       " (205, 0.212890625),\n",
       " (206, -0.0299072265625),\n",
       " (207, 0.1435546875),\n",
       " (208, 0.041015625),\n",
       " (209, -0.2119140625),\n",
       " (210, 0.2080078125),\n",
       " (211, 0.1376953125),\n",
       " (212, -0.0196533203125),\n",
       " (213, 0.01495361328125),\n",
       " (214, -0.09765625),\n",
       " (215, 0.2431640625),\n",
       " (216, 0.080078125),\n",
       " (217, 0.08251953125),\n",
       " (218, 0.0986328125),\n",
       " (219, 0.056884765625),\n",
       " (220, 0.04248046875),\n",
       " (221, 0.06884765625),\n",
       " (222, -0.035400390625),\n",
       " (223, -0.076171875),\n",
       " (224, -0.00016117095947265625),\n",
       " (225, -0.0751953125),\n",
       " (226, 0.224609375),\n",
       " (227, 0.1513671875),\n",
       " (228, 0.1005859375),\n",
       " (229, 0.10986328125),\n",
       " (230, 0.0238037109375),\n",
       " (231, 0.08837890625),\n",
       " (232, 0.061767578125),\n",
       " (233, -0.10791015625),\n",
       " (234, 0.062255859375),\n",
       " (235, 0.0034332275390625),\n",
       " (236, 0.08056640625),\n",
       " (237, 0.10693359375),\n",
       " (238, 0.0888671875),\n",
       " (239, -0.2373046875),\n",
       " (240, 0.06494140625),\n",
       " (241, 0.01019287109375),\n",
       " (242, -0.08837890625),\n",
       " (243, -0.33203125),\n",
       " (244, 0.004669189453125),\n",
       " (245, 0.212890625),\n",
       " (246, 0.0859375),\n",
       " (247, 0.0203857421875),\n",
       " (248, 0.045654296875),\n",
       " (249, 0.1484375),\n",
       " (250, 0.1181640625),\n",
       " (251, 0.0556640625),\n",
       " (252, -0.1728515625),\n",
       " (253, -0.125),\n",
       " (254, -0.025390625),\n",
       " (255, -0.318359375),\n",
       " (256, 0.0311279296875),\n",
       " (257, 0.0859375),\n",
       " (258, -0.0419921875),\n",
       " (259, 0.15625),\n",
       " (260, 0.1611328125),\n",
       " (261, 0.1982421875),\n",
       " (262, -0.10009765625),\n",
       " (263, 0.203125),\n",
       " (264, 0.12890625),\n",
       " (265, 0.2333984375),\n",
       " (266, -0.267578125),\n",
       " (267, 0.05517578125),\n",
       " (268, 0.048828125),\n",
       " (269, 0.072265625),\n",
       " (270, 0.244140625),\n",
       " (271, 0.244140625),\n",
       " (272, 0.056884765625),\n",
       " (273, -0.0546875),\n",
       " (274, -0.03369140625),\n",
       " (275, -0.12060546875),\n",
       " (276, 0.034912109375),\n",
       " (277, -0.1455078125),\n",
       " (278, 0.08740234375),\n",
       " (279, -0.0830078125),\n",
       " (280, 0.0172119140625),\n",
       " (281, 0.1435546875),\n",
       " (282, -0.12255859375),\n",
       " (283, 0.1796875),\n",
       " (284, 0.130859375),\n",
       " (285, -0.1650390625),\n",
       " (286, 0.01275634765625),\n",
       " (287, 0.16015625),\n",
       " (288, -0.0311279296875),\n",
       " (289, 0.08203125),\n",
       " (290, 0.173828125),\n",
       " (291, -0.16796875),\n",
       " (292, 0.130859375),\n",
       " (293, 0.08544921875),\n",
       " (294, -0.2109375),\n",
       " (295, -0.130859375),\n",
       " (296, -0.0289306640625),\n",
       " (297, -0.10546875),\n",
       " (298, 0.08447265625),\n",
       " (299, -0.1416015625)]"
      ]
     },
     "execution_count": 89,
     "metadata": {},
     "output_type": "execute_result"
    }
   ],
   "source": [
    "w2v_pretrained = W2VPretrainedRetrievalModel(doc_repr_2)\n",
    "w2v_pretrained.train_model()\n",
    "\n",
    "# you can now get an W2V vector for a given query in the following way:\n",
    "w2v_pretrained.vectorize_query(\"report\")"
   ]
  },
  {
   "cell_type": "code",
   "execution_count": 90,
   "metadata": {
    "cell_id": "00145-65d4934b-cf4d-414e-8525-dff2c72b8313",
    "deepnote_cell_height": 198.1875,
    "deepnote_cell_type": "code",
    "deepnote_to_be_reexecuted": false,
    "deletable": false,
    "editable": false,
    "execution_millis": 1303,
    "execution_start": 1645186676707,
    "nbgrader": {
     "cell_type": "code",
     "checksum": "0822845afb5eafe5ddb1ffeaa4f4942a",
     "grade": true,
     "grade_id": "cell-1b1466f8ce516f42",
     "locked": true,
     "points": 2,
     "schema_version": 3,
     "solution": false,
     "task": false
    },
    "source_hash": "d4727a64"
   },
   "outputs": [
    {
     "name": "stdout",
     "output_type": "stream",
     "text": [
      "300\n"
     ]
    },
    {
     "name": "stderr",
     "output_type": "stream",
     "text": [
      "/Users/thesofakillers/miniconda3/envs/ir1/lib/python3.6/site-packages/ipykernel_launcher.py:64: DeprecationWarning: Call to deprecated `wv` (Attribute will be removed in 4.0.0, use self instead).\n"
     ]
    }
   ],
   "source": [
    "##### Function check\n",
    "\n",
    "print(len(w2v_pretrained.vectorize_query(\"report\")))\n",
    "#####"
   ]
  },
  {
   "cell_type": "code",
   "execution_count": 91,
   "metadata": {
    "cell_id": "00146-c209a2da-8745-4211-89bc-c716df8bb9ce",
    "deepnote_cell_height": 303,
    "deepnote_cell_type": "code",
    "deepnote_to_be_reexecuted": false,
    "execution_millis": 1086,
    "execution_start": 1645187351976,
    "source_hash": "8865e3e5"
   },
   "outputs": [
    {
     "data": {
      "application/vnd.jupyter.widget-view+json": {
       "model_id": "ec16afba6f8246dda6309c38a87e2606",
       "version_major": 2,
       "version_minor": 0
      },
      "text/plain": [
       "Text(value='', description='Search Bar')"
      ]
     },
     "metadata": {},
     "output_type": "display_data"
    }
   ],
   "source": [
    "drm_w2v = DenseRetrievalRanker(w2v, cosine_sim)\n",
    "\n",
    "# test your LDA model\n",
    "search_fn = drm_w2v.search\n",
    "\n",
    "text = widgets.Text(description=\"Search Bar\", width=200)\n",
    "display(text)\n",
    "\n",
    "\n",
    "text.on_submit(handle_submit_2)"
   ]
  },
  {
   "cell_type": "code",
   "execution_count": 92,
   "metadata": {
    "cell_id": "00147-e85d21fc-9447-411a-8131-fda7837fdf00",
    "deepnote_cell_height": 306.1875,
    "deepnote_cell_type": "code",
    "deepnote_to_be_reexecuted": false,
    "execution_millis": 174,
    "execution_start": 1645187355913,
    "source_hash": "8fd1ee96"
   },
   "outputs": [
    {
     "name": "stderr",
     "output_type": "stream",
     "text": [
      "/Users/thesofakillers/miniconda3/envs/ir1/lib/python3.6/site-packages/ipykernel_launcher.py:33: DeprecationWarning: Call to deprecated `wv` (Attribute will be removed in 4.0.0, use self instead).\n"
     ]
    },
    {
     "data": {
      "application/vnd.jupyter.widget-view+json": {
       "model_id": "e425eb4714da4442bd20177c337e1f2f",
       "version_major": 2,
       "version_minor": 0
      },
      "text/plain": [
       "Text(value='', description='Search Bar')"
      ]
     },
     "metadata": {},
     "output_type": "display_data"
    }
   ],
   "source": [
    "drm_w2v_pretrained = DenseRetrievalRanker(w2v_pretrained, cosine_sim)\n",
    "\n",
    "# test your LDA model\n",
    "search_fn = drm_w2v_pretrained.search\n",
    "\n",
    "text = widgets.Text(description=\"Search Bar\", width=200)\n",
    "display(text)\n",
    "\n",
    "\n",
    "text.on_submit(handle_submit_2)"
   ]
  },
  {
   "cell_type": "markdown",
   "metadata": {
    "cell_id": "00148-18690d99-32f6-4368-8791-fa8a660313c5",
    "deepnote_cell_height": 91,
    "deepnote_cell_type": "markdown",
    "deletable": false,
    "editable": false,
    "nbgrader": {
     "cell_type": "markdown",
     "checksum": "51b778984fd60757974f51047c61eb15",
     "grade": false,
     "grade_id": "cell-b92f701cbc706108",
     "locked": true,
     "schema_version": 3,
     "solution": false,
     "task": false
    }
   },
   "source": [
    "**Implementation (10 points):**\n",
    "For Doc2Vec, you will need to create a list of `TaggedDocument` instead of using the `self.corpus` or `self.documents` variable. Use the document id as the 'tag'.\n"
   ]
  },
  {
   "cell_type": "code",
   "execution_count": 93,
   "metadata": {
    "cell_id": "00149-f7ea4b9a-161d-4405-9440-ab008f8bc0ac",
    "collapsed": true,
    "deepnote_cell_height": 2261,
    "deepnote_cell_type": "code",
    "deepnote_output_heights": [
     null,
     611
    ],
    "deepnote_to_be_reexecuted": false,
    "deletable": false,
    "execution_millis": 33704,
    "execution_start": 1645187360265,
    "jupyter": {
     "outputs_hidden": true
    },
    "nbgrader": {
     "cell_type": "code",
     "checksum": "1f60fdeb97febb7f4a6fd5bf109aac20",
     "grade": false,
     "grade_id": "cell-680facdcc98a19ab",
     "locked": false,
     "schema_version": 3,
     "solution": true,
     "task": false
    },
    "source_hash": "ad328353",
    "tags": []
   },
   "outputs": [
    {
     "name": "stderr",
     "output_type": "stream",
     "text": [
      "2022-02-28 17:12:07,561 : INFO : adding document #0 to Dictionary(0 unique tokens: [])\n",
      "2022-02-28 17:12:07,725 : INFO : built Dictionary(5937 unique tokens: ['-', 'algebra', 'intern', 'languag', 'preliminari']...) from 3204 documents (total 115969 corpus positions)\n",
      "2022-02-28 17:12:07,733 : INFO : discarding 4740 tokens: [('repeat', 8), ('glossari', 7), ('inspect', 8), ('uncol', 2), ('rung', 9), ('secant', 2), ('.', 1603), ('acceler', 6), ('diverg', 3), ('induc', 9)]...\n",
      "2022-02-28 17:12:07,733 : INFO : keeping 1197 tokens which were in no less than 10 and no more than 1602 (=50.0%) documents\n",
      "2022-02-28 17:12:07,736 : INFO : resulting dictionary: Dictionary(1197 unique tokens: ['-', 'algebra', 'intern', 'languag', 'preliminari']...)\n",
      "2022-02-28 17:12:07,876 : INFO : collecting all words and their counts\n",
      "2022-02-28 17:12:07,878 : INFO : PROGRESS: at example #0, processed 0 words (0/s), 0 word types, 0 tags\n",
      "2022-02-28 17:12:07,910 : INFO : collected 5937 word types and 3204 unique tags from a corpus of 3204 examples and 115969 words\n",
      "2022-02-28 17:12:07,913 : INFO : Loading a fresh vocabulary\n",
      "2022-02-28 17:12:07,925 : INFO : effective_min_count=1 retains 5937 unique words (100% of original 5937, drops 0)\n",
      "2022-02-28 17:12:07,926 : INFO : effective_min_count=1 leaves 115969 word corpus (100% of original 115969, drops 0)\n",
      "2022-02-28 17:12:07,943 : INFO : deleting the raw counts dictionary of 5937 items\n",
      "2022-02-28 17:12:07,944 : INFO : sample=0.001 downsamples 40 most-common words\n",
      "2022-02-28 17:12:07,945 : INFO : downsampling leaves estimated 92346 word corpus (79.6% of prior 115969)\n",
      "2022-02-28 17:12:07,958 : INFO : estimated required memory for 5937 words and 100 dimensions: 9640500 bytes\n",
      "2022-02-28 17:12:07,959 : INFO : resetting layer weights\n",
      "2022-02-28 17:12:09,763 : INFO : training model with 3 workers on 5937 vocabulary and 100 features, using sg=0 hs=0 sample=0.001 negative=5 window=5\n",
      "2022-02-28 17:12:10,029 : INFO : worker thread finished; awaiting finish of 2 more threads\n",
      "2022-02-28 17:12:10,048 : INFO : worker thread finished; awaiting finish of 1 more threads\n",
      "2022-02-28 17:12:10,052 : INFO : worker thread finished; awaiting finish of 0 more threads\n",
      "2022-02-28 17:12:10,053 : INFO : EPOCH - 1 : training on 115969 raw words (95560 effective words) took 0.3s, 335291 effective words/s\n",
      "2022-02-28 17:12:10,345 : INFO : worker thread finished; awaiting finish of 2 more threads\n",
      "2022-02-28 17:12:10,361 : INFO : worker thread finished; awaiting finish of 1 more threads\n",
      "2022-02-28 17:12:10,365 : INFO : worker thread finished; awaiting finish of 0 more threads\n",
      "2022-02-28 17:12:10,366 : INFO : EPOCH - 2 : training on 115969 raw words (95417 effective words) took 0.3s, 310830 effective words/s\n",
      "2022-02-28 17:12:10,643 : INFO : worker thread finished; awaiting finish of 2 more threads\n",
      "2022-02-28 17:12:10,652 : INFO : worker thread finished; awaiting finish of 1 more threads\n",
      "2022-02-28 17:12:10,655 : INFO : worker thread finished; awaiting finish of 0 more threads\n",
      "2022-02-28 17:12:10,655 : INFO : EPOCH - 3 : training on 115969 raw words (95442 effective words) took 0.3s, 335226 effective words/s\n",
      "2022-02-28 17:12:10,936 : INFO : worker thread finished; awaiting finish of 2 more threads\n",
      "2022-02-28 17:12:10,951 : INFO : worker thread finished; awaiting finish of 1 more threads\n",
      "2022-02-28 17:12:10,956 : INFO : worker thread finished; awaiting finish of 0 more threads\n",
      "2022-02-28 17:12:10,956 : INFO : EPOCH - 4 : training on 115969 raw words (95603 effective words) took 0.3s, 324106 effective words/s\n",
      "2022-02-28 17:12:11,228 : INFO : worker thread finished; awaiting finish of 2 more threads\n",
      "2022-02-28 17:12:11,243 : INFO : worker thread finished; awaiting finish of 1 more threads\n",
      "2022-02-28 17:12:11,251 : INFO : worker thread finished; awaiting finish of 0 more threads\n",
      "2022-02-28 17:12:11,252 : INFO : EPOCH - 5 : training on 115969 raw words (95595 effective words) took 0.3s, 327438 effective words/s\n",
      "2022-02-28 17:12:11,732 : INFO : worker thread finished; awaiting finish of 2 more threads\n",
      "2022-02-28 17:12:11,743 : INFO : worker thread finished; awaiting finish of 1 more threads\n",
      "2022-02-28 17:12:11,753 : INFO : worker thread finished; awaiting finish of 0 more threads\n",
      "2022-02-28 17:12:11,753 : INFO : EPOCH - 6 : training on 115969 raw words (95477 effective words) took 0.5s, 194766 effective words/s\n",
      "2022-02-28 17:12:12,044 : INFO : worker thread finished; awaiting finish of 2 more threads\n",
      "2022-02-28 17:12:12,058 : INFO : worker thread finished; awaiting finish of 1 more threads\n",
      "2022-02-28 17:12:12,063 : INFO : worker thread finished; awaiting finish of 0 more threads\n",
      "2022-02-28 17:12:12,063 : INFO : EPOCH - 7 : training on 115969 raw words (95440 effective words) took 0.3s, 315706 effective words/s\n",
      "2022-02-28 17:12:12,389 : INFO : worker thread finished; awaiting finish of 2 more threads\n",
      "2022-02-28 17:12:12,393 : INFO : worker thread finished; awaiting finish of 1 more threads\n",
      "2022-02-28 17:12:12,405 : INFO : worker thread finished; awaiting finish of 0 more threads\n",
      "2022-02-28 17:12:12,406 : INFO : EPOCH - 8 : training on 115969 raw words (95707 effective words) took 0.3s, 284300 effective words/s\n",
      "2022-02-28 17:12:12,670 : INFO : worker thread finished; awaiting finish of 2 more threads\n",
      "2022-02-28 17:12:12,682 : INFO : worker thread finished; awaiting finish of 1 more threads\n",
      "2022-02-28 17:12:12,686 : INFO : worker thread finished; awaiting finish of 0 more threads\n",
      "2022-02-28 17:12:12,686 : INFO : EPOCH - 9 : training on 115969 raw words (95579 effective words) took 0.3s, 346347 effective words/s\n",
      "2022-02-28 17:12:12,971 : INFO : worker thread finished; awaiting finish of 2 more threads\n",
      "2022-02-28 17:12:12,973 : INFO : worker thread finished; awaiting finish of 1 more threads\n",
      "2022-02-28 17:12:12,978 : INFO : worker thread finished; awaiting finish of 0 more threads\n",
      "2022-02-28 17:12:12,978 : INFO : EPOCH - 10 : training on 115969 raw words (95562 effective words) took 0.3s, 332312 effective words/s\n",
      "2022-02-28 17:12:13,254 : INFO : worker thread finished; awaiting finish of 2 more threads\n",
      "2022-02-28 17:12:13,262 : INFO : worker thread finished; awaiting finish of 1 more threads\n",
      "2022-02-28 17:12:13,267 : INFO : worker thread finished; awaiting finish of 0 more threads\n",
      "2022-02-28 17:12:13,267 : INFO : EPOCH - 11 : training on 115969 raw words (95684 effective words) took 0.3s, 338228 effective words/s\n",
      "2022-02-28 17:12:13,540 : INFO : worker thread finished; awaiting finish of 2 more threads\n",
      "2022-02-28 17:12:13,550 : INFO : worker thread finished; awaiting finish of 1 more threads\n",
      "2022-02-28 17:12:13,557 : INFO : worker thread finished; awaiting finish of 0 more threads\n",
      "2022-02-28 17:12:13,557 : INFO : EPOCH - 12 : training on 115969 raw words (95627 effective words) took 0.3s, 335415 effective words/s\n",
      "2022-02-28 17:12:13,839 : INFO : worker thread finished; awaiting finish of 2 more threads\n",
      "2022-02-28 17:12:13,840 : INFO : worker thread finished; awaiting finish of 1 more threads\n",
      "2022-02-28 17:12:13,851 : INFO : worker thread finished; awaiting finish of 0 more threads\n",
      "2022-02-28 17:12:13,851 : INFO : EPOCH - 13 : training on 115969 raw words (95488 effective words) took 0.3s, 330702 effective words/s\n",
      "2022-02-28 17:12:14,132 : INFO : worker thread finished; awaiting finish of 2 more threads\n",
      "2022-02-28 17:12:14,138 : INFO : worker thread finished; awaiting finish of 1 more threads\n",
      "2022-02-28 17:12:14,140 : INFO : worker thread finished; awaiting finish of 0 more threads\n",
      "2022-02-28 17:12:14,141 : INFO : EPOCH - 14 : training on 115969 raw words (95710 effective words) took 0.3s, 335551 effective words/s\n",
      "2022-02-28 17:12:14,403 : INFO : worker thread finished; awaiting finish of 2 more threads\n",
      "2022-02-28 17:12:14,419 : INFO : worker thread finished; awaiting finish of 1 more threads\n",
      "2022-02-28 17:12:14,424 : INFO : worker thread finished; awaiting finish of 0 more threads\n",
      "2022-02-28 17:12:14,424 : INFO : EPOCH - 15 : training on 115969 raw words (95665 effective words) took 0.3s, 344633 effective words/s\n",
      "2022-02-28 17:12:14,686 : INFO : worker thread finished; awaiting finish of 2 more threads\n",
      "2022-02-28 17:12:14,714 : INFO : worker thread finished; awaiting finish of 1 more threads\n",
      "2022-02-28 17:12:14,718 : INFO : worker thread finished; awaiting finish of 0 more threads\n",
      "2022-02-28 17:12:14,718 : INFO : EPOCH - 16 : training on 115969 raw words (95722 effective words) took 0.3s, 330876 effective words/s\n",
      "2022-02-28 17:12:14,986 : INFO : worker thread finished; awaiting finish of 2 more threads\n",
      "2022-02-28 17:12:14,993 : INFO : worker thread finished; awaiting finish of 1 more threads\n",
      "2022-02-28 17:12:14,995 : INFO : worker thread finished; awaiting finish of 0 more threads\n",
      "2022-02-28 17:12:14,995 : INFO : EPOCH - 17 : training on 115969 raw words (95545 effective words) took 0.3s, 357779 effective words/s\n",
      "2022-02-28 17:12:15,259 : INFO : worker thread finished; awaiting finish of 2 more threads\n",
      "2022-02-28 17:12:15,270 : INFO : worker thread finished; awaiting finish of 1 more threads\n",
      "2022-02-28 17:12:15,274 : INFO : worker thread finished; awaiting finish of 0 more threads\n",
      "2022-02-28 17:12:15,275 : INFO : EPOCH - 18 : training on 115969 raw words (95418 effective words) took 0.3s, 347962 effective words/s\n",
      "2022-02-28 17:12:15,553 : INFO : worker thread finished; awaiting finish of 2 more threads\n",
      "2022-02-28 17:12:15,562 : INFO : worker thread finished; awaiting finish of 1 more threads\n",
      "2022-02-28 17:12:15,566 : INFO : worker thread finished; awaiting finish of 0 more threads\n",
      "2022-02-28 17:12:15,567 : INFO : EPOCH - 19 : training on 115969 raw words (95565 effective words) took 0.3s, 332423 effective words/s\n",
      "2022-02-28 17:12:15,828 : INFO : worker thread finished; awaiting finish of 2 more threads\n",
      "2022-02-28 17:12:15,832 : INFO : worker thread finished; awaiting finish of 1 more threads\n",
      "2022-02-28 17:12:15,842 : INFO : worker thread finished; awaiting finish of 0 more threads\n",
      "2022-02-28 17:12:15,843 : INFO : EPOCH - 20 : training on 115969 raw words (95490 effective words) took 0.3s, 352020 effective words/s\n",
      "2022-02-28 17:12:15,843 : INFO : training on a 2319380 raw words (1911296 effective words) took 6.1s, 314385 effective words/s\n"
     ]
    },
    {
     "data": {
      "text/plain": [
       "[(0, 0.059107732),\n",
       " (1, 0.045627434),\n",
       " (2, 0.061910063),\n",
       " (3, 0.05998576),\n",
       " (4, 0.032703403),\n",
       " (5, -0.018705234),\n",
       " (6, 0.13240612),\n",
       " (7, -0.05609075),\n",
       " (8, -0.093846984),\n",
       " (9, -0.07044111),\n",
       " (10, 0.07953665),\n",
       " (11, -0.027584678),\n",
       " (12, -0.023995563),\n",
       " (13, 0.08184644),\n",
       " (14, 0.026237944),\n",
       " (15, 0.0082872035),\n",
       " (16, -0.0846512),\n",
       " (17, 0.094259985),\n",
       " (18, -0.03483381),\n",
       " (19, 0.082817614),\n",
       " (20, -0.0396445),\n",
       " (21, 0.059244264),\n",
       " (22, 0.011367868),\n",
       " (23, -0.059987817),\n",
       " (24, -0.01073564),\n",
       " (25, 0.07300064),\n",
       " (26, 0.09660346),\n",
       " (27, 0.04650485),\n",
       " (28, 0.011744925),\n",
       " (29, 0.053123996),\n",
       " (30, 0.010215279),\n",
       " (31, 0.022329776),\n",
       " (32, 0.1043644),\n",
       " (33, -0.0452258),\n",
       " (34, 0.0048116934),\n",
       " (35, -0.05617015),\n",
       " (36, -0.017033268),\n",
       " (37, 0.069818646),\n",
       " (38, -0.012659677),\n",
       " (39, 0.011891089),\n",
       " (40, 0.025950054),\n",
       " (41, -0.009044319),\n",
       " (42, -0.021628354),\n",
       " (43, -0.02978806),\n",
       " (44, 0.028414866),\n",
       " (45, 0.0891037),\n",
       " (46, -0.04381593),\n",
       " (47, -0.098830186),\n",
       " (48, 0.004168625),\n",
       " (49, -0.03869409),\n",
       " (50, -0.021760928),\n",
       " (51, 0.044760242),\n",
       " (52, 0.0047040656),\n",
       " (53, -0.08606134),\n",
       " (54, 0.00040711724),\n",
       " (55, 0.01927162),\n",
       " (56, -0.0020860683),\n",
       " (57, 0.014827195),\n",
       " (58, 0.02823848),\n",
       " (59, 0.030424342),\n",
       " (60, -0.06990719),\n",
       " (61, 0.0012639259),\n",
       " (62, 0.0062969844),\n",
       " (63, 0.046388753),\n",
       " (64, 0.01976967),\n",
       " (65, -0.031006783),\n",
       " (66, 0.14646982),\n",
       " (67, -0.07576972),\n",
       " (68, 0.009560388),\n",
       " (69, -0.039832354),\n",
       " (70, 0.018911358),\n",
       " (71, -0.050144818),\n",
       " (72, -0.019861558),\n",
       " (73, 0.056100532),\n",
       " (74, -0.01173075),\n",
       " (75, -0.01634752),\n",
       " (76, -0.03573374),\n",
       " (77, -0.038710713),\n",
       " (78, -0.0130655905),\n",
       " (79, -0.055152595),\n",
       " (80, -0.016203847),\n",
       " (81, -0.005059677),\n",
       " (82, 0.010987421),\n",
       " (83, -0.011279359),\n",
       " (84, 0.046714954),\n",
       " (85, -0.014458766),\n",
       " (86, -0.09474903),\n",
       " (87, -0.045877118),\n",
       " (88, 0.0210253),\n",
       " (89, 0.03875177),\n",
       " (90, -0.03724768),\n",
       " (91, 0.009470778),\n",
       " (92, -0.007812777),\n",
       " (93, 0.03068871),\n",
       " (94, 0.10991756),\n",
       " (95, -0.049086094),\n",
       " (96, 0.012889182),\n",
       " (97, -0.038514886),\n",
       " (98, -0.0040531396),\n",
       " (99, 0.017061021)]"
      ]
     },
     "execution_count": 93,
     "metadata": {},
     "output_type": "execute_result"
    }
   ],
   "source": [
    "# TODO: Implement this! (10 points)\n",
    "class D2VRetrievalModel(VectorSpaceRetrievalModel):\n",
    "    def __init__(self, doc_repr):\n",
    "        super().__init__(doc_repr)\n",
    "\n",
    "        self.vector_size = 100\n",
    "        self.min_count = 1\n",
    "        self.epochs = 20\n",
    "\n",
    "        # YOUR CODE HERE\n",
    "        self.tagged_documents = [\n",
    "            TaggedDocument(doc, [doc_id]) for doc_id, doc in self.doc_repr\n",
    "        ]\n",
    "\n",
    "    def train_model(self):\n",
    "        # YOUR CODE HERE\n",
    "        self.model = Doc2Vec(\n",
    "            documents=self.tagged_documents,\n",
    "            vector_size=self.vector_size,\n",
    "            epochs=self.epochs,\n",
    "            min_count=self.min_count,\n",
    "        )\n",
    "\n",
    "    def vectorize_documents(self):\n",
    "        \"\"\"\n",
    "        Returns a doc_id -> vector dictionary\n",
    "        \"\"\"\n",
    "        # YOUR CODE HERE\n",
    "        vectors = {}\n",
    "        for (doc_id, doc) in self.doc_repr:\n",
    "            doc_vec = self.model.docvecs[doc_id]\n",
    "            # convert to weird gensim format\n",
    "            doc_vec = [(i, el) for i, el in enumerate(doc_vec)]\n",
    "            # store\n",
    "            vectors[doc_id] = doc_vec\n",
    "        return vectors\n",
    "\n",
    "    def vectorize_query(self, query):\n",
    "        # YOUR CODE HERE\n",
    "        query = process_text(query, **config_2)\n",
    "        query_vec = self.model.infer_vector(query)\n",
    "        # conver to weird gensim format\n",
    "        query_vec = [(i, el) for i, el in enumerate(query_vec)]\n",
    "        return query_vec\n",
    "\n",
    "\n",
    "d2v = D2VRetrievalModel(doc_repr_2)\n",
    "d2v.train_model()\n",
    "\n",
    "\n",
    "# # you can now get an LSI vector for a given query in the following way:\n",
    "d2v.vectorize_query(\"report\")"
   ]
  },
  {
   "cell_type": "code",
   "execution_count": 94,
   "metadata": {
    "cell_id": "00150-51d38d3e-9d84-4728-935b-b2266a0f7700",
    "deepnote_cell_height": 81,
    "deepnote_cell_type": "code",
    "deepnote_to_be_reexecuted": false,
    "deletable": false,
    "editable": false,
    "execution_millis": 13,
    "execution_start": 1645187446843,
    "nbgrader": {
     "cell_type": "code",
     "checksum": "e83a363a9d4f136efbdde1426a83925e",
     "grade": true,
     "grade_id": "cell-5e2c5e0c9a2e8cb5",
     "locked": true,
     "points": 0,
     "schema_version": 3,
     "solution": false,
     "task": false
    },
    "source_hash": "28110d30"
   },
   "outputs": [],
   "source": [
    "#### Please do not change this. This cell is used for grading."
   ]
  },
  {
   "cell_type": "markdown",
   "metadata": {
    "cell_id": "00151-fb85191e-b51e-42ca-812f-693c5a17802d",
    "deepnote_cell_height": 52.390625,
    "deepnote_cell_type": "markdown",
    "deletable": false,
    "editable": false,
    "nbgrader": {
     "cell_type": "markdown",
     "checksum": "5bb46bf6b9be1e0ca66f0b0bc6260ecb",
     "grade": false,
     "grade_id": "cell-8a49d414f798a595",
     "locked": true,
     "points": 10,
     "schema_version": 3,
     "solution": false,
     "task": true
    }
   },
   "source": [
    "\\#### Please do not change this. This cell is used for grading."
   ]
  },
  {
   "cell_type": "code",
   "execution_count": 95,
   "metadata": {
    "cell_id": "00152-f0e8290b-0789-4c20-965c-0a941de12a6d",
    "deepnote_cell_height": 303,
    "deepnote_cell_type": "code",
    "deepnote_to_be_reexecuted": false,
    "execution_millis": 302,
    "execution_start": 1645187449617,
    "source_hash": "2beb5e63"
   },
   "outputs": [
    {
     "data": {
      "application/vnd.jupyter.widget-view+json": {
       "model_id": "22929f18390c4aa0be66d52b03d9d79b",
       "version_major": 2,
       "version_minor": 0
      },
      "text/plain": [
       "Text(value='', description='Search Bar')"
      ]
     },
     "metadata": {},
     "output_type": "display_data"
    }
   ],
   "source": [
    "drm_d2v = DenseRetrievalRanker(d2v, cosine_sim)\n",
    "\n",
    "# test your LDA model\n",
    "search_fn = drm_d2v.search\n",
    "\n",
    "text = widgets.Text(description=\"Search Bar\", width=200)\n",
    "display(text)\n",
    "\n",
    "\n",
    "text.on_submit(handle_submit_2)"
   ]
  },
  {
   "cell_type": "markdown",
   "metadata": {
    "cell_id": "00153-7795ce30-661e-4988-b26a-e3ed09ce3615",
    "deepnote_cell_height": 168.171875,
    "deepnote_cell_type": "markdown",
    "deletable": false,
    "editable": false,
    "nbgrader": {
     "cell_type": "markdown",
     "checksum": "363ec36c1d03d9f9e1c2045a6e193c14",
     "grade": false,
     "grade_id": "cell-3529ae29eece7b97",
     "locked": true,
     "schema_version": 3,
     "solution": false,
     "task": false
    }
   },
   "source": [
    "---\n",
    "## Section 9: Re-ranking (10 points) <a class=\"anchor\" id=\"reranking\"></a>\n",
    "\n",
    "[Back to Part 2](#part2)\n",
    "\n",
    "To motivate the re-ranking perspective (i.e retrieve with lexical method + rerank with a semantic method), let's search using semantic methods and compare it to BM25's performance, along with their runtime:\n"
   ]
  },
  {
   "cell_type": "code",
   "execution_count": 96,
   "metadata": {
    "cell_id": "00154-4c11daad-82ca-4156-9d9b-7d9457aaf21b",
    "deepnote_cell_height": 567.875,
    "deepnote_cell_type": "code",
    "deepnote_to_be_reexecuted": false,
    "deletable": false,
    "editable": false,
    "execution_millis": 22802,
    "execution_start": 1645187474568,
    "nbgrader": {
     "cell_type": "code",
     "checksum": "5755f70e3eb28abc65d14d80125338af",
     "grade": false,
     "grade_id": "cell-f8f43bf5ae383128",
     "locked": true,
     "schema_version": 3,
     "solution": false,
     "task": false
    },
    "source_hash": "3fb54859"
   },
   "outputs": [
    {
     "name": "stdout",
     "output_type": "stream",
     "text": [
      "BM25: \n",
      "1.51 ms ± 72.7 µs per loop (mean ± std. dev. of 7 runs, 100 loops each)\n",
      "LSI: \n",
      "561 ms ± 8.34 ms per loop (mean ± std. dev. of 7 runs, 1 loop each)\n",
      "LDA: \n",
      "191 ms ± 8.19 ms per loop (mean ± std. dev. of 7 runs, 1 loop each)\n",
      "W2V: \n",
      "561 ms ± 5.77 ms per loop (mean ± std. dev. of 7 runs, 1 loop each)\n",
      "W2V(Pretrained): \n"
     ]
    },
    {
     "name": "stderr",
     "output_type": "stream",
     "text": [
      "/Users/thesofakillers/miniconda3/envs/ir1/lib/python3.6/site-packages/ipykernel_launcher.py:64: DeprecationWarning: Call to deprecated `wv` (Attribute will be removed in 4.0.0, use self instead).\n"
     ]
    },
    {
     "name": "stdout",
     "output_type": "stream",
     "text": [
      "1.59 s ± 5.91 ms per loop (mean ± std. dev. of 7 runs, 1 loop each)\n",
      "D2V:\n",
      "2.9 s ± 141 ms per loop (mean ± std. dev. of 7 runs, 1 loop each)\n"
     ]
    }
   ],
   "source": [
    "query = \"algebraic functions\"\n",
    "print(\"BM25: \")\n",
    "%timeit bm25_search(query, 2)\n",
    "print(\"LSI: \")\n",
    "%timeit drm_lsi.search(query)\n",
    "print(\"LDA: \")\n",
    "%timeit drm_lda.search(query)\n",
    "print(\"W2V: \")\n",
    "%timeit drm_w2v.search(query)\n",
    "print(\"W2V(Pretrained): \")\n",
    "%timeit drm_w2v_pretrained.search(query)\n",
    "print(\"D2V:\")\n",
    "%timeit drm_d2v.search(query)"
   ]
  },
  {
   "cell_type": "markdown",
   "metadata": {
    "cell_id": "00155-48f43fee-cf35-4878-adef-f41c0c70d38b",
    "deepnote_cell_height": 165.375,
    "deepnote_cell_type": "markdown",
    "deletable": false,
    "editable": false,
    "nbgrader": {
     "cell_type": "markdown",
     "checksum": "ae398da0a8c23c95bcbb0023b7ec6f34",
     "grade": false,
     "grade_id": "cell-db5ff09f97841af7",
     "locked": true,
     "schema_version": 3,
     "solution": false,
     "task": false
    }
   },
   "source": [
    "---\n",
    "\n",
    "**Implementation (10 points):**\n",
    "Re-ranking involves retrieving a small set of documents using simple but fast methods like BM25 and then re-ranking them with the aid of semantic methods such as LDA or LSI. Implement the following class, which takes in an `initial_retrieval_fn` - the initial retrieval function and `vsrm` - an instance of the `VectorSpaceRetrievalModel` class (i.e LSI/LDA) as input. The search function should first retrieve an initial list of K documents, and then these documents are re-ranked using a semantic method. This not only makes retrieval faster, but semantic methods perform poorly when used in isolation, as you will find out."
   ]
  },
  {
   "cell_type": "code",
   "execution_count": 97,
   "metadata": {
    "cell_id": "00156-e15452e3-f043-4451-be79-5e3c6e3f889e",
    "deepnote_cell_height": 639,
    "deepnote_cell_type": "code",
    "deepnote_to_be_reexecuted": false,
    "deletable": false,
    "execution_millis": 0,
    "execution_start": 1645189040776,
    "nbgrader": {
     "cell_type": "code",
     "checksum": "63b6b05a676a2ae3f08d8bed1bc59428",
     "grade": false,
     "grade_id": "cell-5bf47600d1a0c507",
     "locked": false,
     "schema_version": 3,
     "solution": true,
     "task": false
    },
    "source_hash": "fa2995d"
   },
   "outputs": [],
   "source": [
    "# TODO: Implement this! (10 points)\n",
    "class DenseRerankingModel:\n",
    "    def __init__(self, initial_retrieval_fn, vsrm, similarity_fn):\n",
    "        \"\"\"\n",
    "        initial_retrieval_fn: takes in a query and returns a list of [(doc_id, score)] (sorted)\n",
    "        vsrm: instance of `VectorSpaceRetrievalModel`\n",
    "        similarity_fn: function instance that takes in two vectors\n",
    "                        and returns a similarity score e.g cosine_sim defined earlier\n",
    "        \"\"\"\n",
    "        self.ret = initial_retrieval_fn\n",
    "        self.vsrm = vsrm\n",
    "        self.similarity_fn = similarity_fn\n",
    "        self.vectorized_documents = vsrm.vectorize_documents()\n",
    "\n",
    "        assert len(self.vectorized_documents) == len(doc_repr_2)\n",
    "\n",
    "    def search(self, query, K=50):\n",
    "        \"\"\"\n",
    "        First, retrieve the top K results using the retrieval function\n",
    "        Then, re-rank the results using the VSRM instance\n",
    "        \"\"\"\n",
    "        # YOUR CODE HERE\n",
    "        top_k = self.ret(query)[:K]\n",
    "        results = {}\n",
    "        query_vector = self.vsrm.vectorize_query(query)\n",
    "        for doc_id, _score in top_k:\n",
    "            doc_vector = self.vectorized_documents[doc_id]\n",
    "            new_score = self.similarity_fn(doc_vector, query_vector)\n",
    "            results[doc_id] = new_score\n",
    "        # convert results to list and sort descending\n",
    "        results = sorted(list(results.items()), key=lambda x: -x[1])\n",
    "        return results"
   ]
  },
  {
   "cell_type": "code",
   "execution_count": 98,
   "metadata": {
    "cell_id": "00157-3538784a-efa2-4b36-b167-d05248360ac1",
    "deepnote_cell_height": 225,
    "deepnote_cell_type": "code",
    "deepnote_to_be_reexecuted": false,
    "deletable": false,
    "editable": false,
    "execution_millis": 5334,
    "execution_start": 1645189060550,
    "nbgrader": {
     "cell_type": "code",
     "checksum": "334ab5af96976265cace682ab82a7387",
     "grade": true,
     "grade_id": "cell-52c6d18a4c0b4882",
     "locked": true,
     "points": 0,
     "schema_version": 3,
     "solution": false,
     "task": false
    },
    "source_hash": "f5babc28"
   },
   "outputs": [
    {
     "name": "stderr",
     "output_type": "stream",
     "text": [
      "/Users/thesofakillers/miniconda3/envs/ir1/lib/python3.6/site-packages/ipykernel_launcher.py:33: DeprecationWarning: Call to deprecated `wv` (Attribute will be removed in 4.0.0, use self instead).\n"
     ]
    }
   ],
   "source": [
    "##### Function check\n",
    "bm25_search_2 = partial(bm25_search, index_set=2)\n",
    "lsi_rerank = DenseRerankingModel(bm25_search_2, lsi, cosine_sim)\n",
    "lda_rerank = DenseRerankingModel(bm25_search_2, lda, jenson_shannon_sim)\n",
    "w2v_rerank = DenseRerankingModel(bm25_search_2, w2v, cosine_sim)\n",
    "w2v_pretrained_rerank = DenseRerankingModel(bm25_search_2, w2v_pretrained, cosine_sim)\n",
    "d2v_rerank = DenseRerankingModel(bm25_search_2, d2v, cosine_sim)\n",
    "\n",
    "#####"
   ]
  },
  {
   "cell_type": "markdown",
   "metadata": {
    "cell_id": "00158-5fbe0f74-4068-4e6e-9f3b-854b724106d7",
    "deepnote_cell_height": 52.390625,
    "deepnote_cell_type": "markdown",
    "deletable": false,
    "editable": false,
    "nbgrader": {
     "cell_type": "markdown",
     "checksum": "bd904253f45f84e63bab3a69729058fc",
     "grade": false,
     "grade_id": "cell-93215dfe6bcf7cff",
     "locked": true,
     "points": 10,
     "schema_version": 3,
     "solution": false,
     "task": true
    }
   },
   "source": [
    "\\#### Please do not change this. This cell is used for grading."
   ]
  },
  {
   "cell_type": "markdown",
   "metadata": {
    "cell_id": "00159-f5e855d2-5764-440e-a8e4-10860c9a9ac3",
    "deepnote_cell_height": 55,
    "deepnote_cell_type": "markdown",
    "deletable": false,
    "editable": false,
    "nbgrader": {
     "cell_type": "markdown",
     "checksum": "b592e60292bfe3d9ef2930a354c4077a",
     "grade": false,
     "grade_id": "cell-aa694ff55fa91e7d",
     "locked": true,
     "schema_version": 3,
     "solution": false,
     "task": false
    }
   },
   "source": [
    "---\n",
    "Now, let us time the new search functions:"
   ]
  },
  {
   "cell_type": "code",
   "execution_count": 99,
   "metadata": {
    "cell_id": "00160-933196c3-9483-4ca6-a4a6-ca24aad69936",
    "deepnote_cell_height": 530.0625,
    "deepnote_cell_type": "code",
    "deepnote_to_be_reexecuted": false,
    "deletable": false,
    "editable": false,
    "execution_millis": 38436,
    "execution_start": 1645189086450,
    "nbgrader": {
     "cell_type": "code",
     "checksum": "338c7e3528cba266a865a061287c0e38",
     "grade": false,
     "grade_id": "cell-5edbd481562ad91f",
     "locked": true,
     "schema_version": 3,
     "solution": false,
     "task": false
    },
    "source_hash": "bfac7774"
   },
   "outputs": [
    {
     "name": "stdout",
     "output_type": "stream",
     "text": [
      "BM25: \n",
      "1.46 ms ± 12.1 µs per loop (mean ± std. dev. of 7 runs, 1000 loops each)\n",
      "LSI: \n",
      "10.8 ms ± 104 µs per loop (mean ± std. dev. of 7 runs, 100 loops each)\n",
      "LDA: \n",
      "4.88 ms ± 81.6 µs per loop (mean ± std. dev. of 7 runs, 100 loops each)\n",
      "W2V: \n",
      "11 ms ± 681 µs per loop (mean ± std. dev. of 7 runs, 100 loops each)\n",
      "W2V(Pretrained): \n"
     ]
    },
    {
     "name": "stderr",
     "output_type": "stream",
     "text": [
      "/Users/thesofakillers/miniconda3/envs/ir1/lib/python3.6/site-packages/ipykernel_launcher.py:64: DeprecationWarning: Call to deprecated `wv` (Attribute will be removed in 4.0.0, use self instead).\n"
     ]
    },
    {
     "name": "stdout",
     "output_type": "stream",
     "text": [
      "28.3 ms ± 2.32 ms per loop (mean ± std. dev. of 7 runs, 10 loops each)\n",
      "D2V:\n",
      "48.3 ms ± 1.06 ms per loop (mean ± std. dev. of 7 runs, 10 loops each)\n"
     ]
    }
   ],
   "source": [
    "query = \"algebraic functions\"\n",
    "print(\"BM25: \")\n",
    "%timeit bm25_search(query, 2)\n",
    "print(\"LSI: \")\n",
    "%timeit lsi_rerank.search(query)\n",
    "print(\"LDA: \")\n",
    "%timeit lda_rerank.search(query)\n",
    "print(\"W2V: \")\n",
    "%timeit w2v_rerank.search(query)\n",
    "print(\"W2V(Pretrained): \")\n",
    "%timeit w2v_pretrained_rerank.search(query)\n",
    "print(\"D2V:\")\n",
    "%timeit d2v_rerank.search(query)"
   ]
  },
  {
   "cell_type": "markdown",
   "metadata": {
    "cell_id": "00161-7e54209c-2f42-4a49-bab8-78710df71f6b",
    "deepnote_cell_height": 55,
    "deepnote_cell_type": "markdown",
    "deletable": false,
    "editable": false,
    "nbgrader": {
     "cell_type": "markdown",
     "checksum": "c45c5e3f015b2de89d9d39ae3766368b",
     "grade": false,
     "grade_id": "cell-85c50f2ab9eec301",
     "locked": true,
     "schema_version": 3,
     "solution": false,
     "task": false
    }
   },
   "source": [
    "---\n",
    "As you can see, it is much faster (but BM25 is still orders of magnitude faster)."
   ]
  },
  {
   "cell_type": "markdown",
   "metadata": {
    "cell_id": "00162-b811d517-f3b2-45f1-9dac-88d1fe08cfda",
    "deepnote_cell_height": 311.375,
    "deepnote_cell_type": "markdown",
    "deletable": false,
    "editable": false,
    "nbgrader": {
     "cell_type": "markdown",
     "checksum": "1e2f3388e3807659f303fe31a75a010e",
     "grade": false,
     "grade_id": "cell-5071bb99b2af61cb",
     "locked": true,
     "schema_version": 3,
     "solution": false,
     "task": false
    }
   },
   "source": [
    "---\n",
    "## Section 10: Evaluation & Analysis (30 points) <a class=\"anchor\" id=\"reranking_eval\"></a>\n",
    "\n",
    "[Back to Part 2](#part2)\n",
    "\n",
    "[Previously](#evaluation) we have implemented some evaluation metrics and used them for measuring the ranking performance of term-based IR algorithms. In this section, we will do the same for semantic methods, both with and without re-ranking.\n",
    "\n",
    "### Section 10.1: Plot (10 points)\n",
    "\n",
    "First, gather the results. The results should consider the index set, the different search functions and different metrics. Plot the results in bar charts, per metric, with clear labels.\n",
    "\n",
    "Then, gather only the re-ranking models, and plot and compare them with the results obtained in part 1 (only index set 2)."
   ]
  },
  {
   "cell_type": "code",
   "execution_count": 100,
   "metadata": {
    "cell_id": "00163-2e475730-a0ad-40ed-b4cf-04ccd10e3e34",
    "deepnote_cell_height": 297,
    "deepnote_cell_type": "code",
    "deepnote_to_be_reexecuted": false,
    "deletable": false,
    "editable": false,
    "execution_millis": 5,
    "execution_start": 1645189150648,
    "nbgrader": {
     "cell_type": "code",
     "checksum": "4fe81520ac6413a803838913fd64de03",
     "grade": false,
     "grade_id": "cell-b672fe6dfae0b1ce",
     "locked": true,
     "schema_version": 3,
     "solution": false,
     "task": false
    },
    "source_hash": "c2b8785a"
   },
   "outputs": [],
   "source": [
    "list_of_sem_search_fns = [\n",
    "    (\"lda\", drm_lda.search),\n",
    "    (\"lsi\", drm_lsi.search),\n",
    "    (\"w2v\", drm_w2v.search),\n",
    "    (\"w2v_pretrained\", drm_w2v_pretrained.search),\n",
    "    (\"d2v\", drm_d2v.search),\n",
    "    (\"lsi_rr\", lsi_rerank.search),\n",
    "    (\"lda_rr\", lda_rerank.search),\n",
    "    (\"w2v_rr\", w2v_rerank.search),\n",
    "    (\"w2v_pretrained_rr\", w2v_pretrained_rerank.search),\n",
    "    (\"d2v_rr\", d2v_rerank.search),\n",
    "]"
   ]
  },
  {
   "cell_type": "code",
   "execution_count": 101,
   "metadata": {
    "cell_id": "00164-ba70f9d6-5fd4-4ccc-9243-56081705849b",
    "deepnote_cell_height": 2368.78125,
    "deepnote_cell_type": "code",
    "deepnote_output_heights": [
     472.390625,
     472.390625
    ],
    "deepnote_to_be_reexecuted": false,
    "deletable": false,
    "execution_millis": 699543,
    "execution_start": 1645197094542,
    "nbgrader": {
     "cell_type": "code",
     "checksum": "54707c4afac084299aeefa047259b4a9",
     "grade": true,
     "grade_id": "cell-7dd8273b0f5a3c22",
     "locked": false,
     "points": 10,
     "schema_version": 3,
     "solution": true,
     "task": false
    },
    "source_hash": "7b8cce53"
   },
   "outputs": [
    {
     "name": "stdout",
     "output_type": "stream",
     "text": [
      "\n",
      "Vanilla\n",
      "\tlda\n",
      "{'ERR': 0.06663769,\n",
      " 'MAP': 0.03176789,\n",
      " 'Precision@1': 0.03846154,\n",
      " 'Precision@10': 0.036538463,\n",
      " 'Precision@5': 0.03076923,\n",
      " 'Recall@1': 0.0015318628,\n",
      " 'Recall@10': 0.02270199,\n",
      " 'Recall@5': 0.009535526}\n",
      "\tlsi\n",
      "{'ERR': 0.123067364,\n",
      " 'MAP': 0.063368395,\n",
      " 'Precision@1': 0.115384616,\n",
      " 'Precision@10': 0.07692308,\n",
      " 'Precision@5': 0.08846155,\n",
      " 'Recall@1': 0.015510531,\n",
      " 'Recall@10': 0.055316165,\n",
      " 'Recall@5': 0.03464716}\n",
      "\tw2v\n",
      "{'ERR': 0.026702514,\n",
      " 'MAP': 0.013337946,\n",
      " 'Precision@1': 0.01923077,\n",
      " 'Precision@10': 0.005769231,\n",
      " 'Precision@5': 0.0076923077,\n",
      " 'Recall@1': 0.0027472528,\n",
      " 'Recall@10': 0.004228442,\n",
      " 'Recall@5': 0.003216296}\n"
     ]
    },
    {
     "name": "stderr",
     "output_type": "stream",
     "text": [
      "/Users/thesofakillers/miniconda3/envs/ir1/lib/python3.6/site-packages/ipykernel_launcher.py:64: DeprecationWarning: Call to deprecated `wv` (Attribute will be removed in 4.0.0, use self instead).\n"
     ]
    },
    {
     "name": "stdout",
     "output_type": "stream",
     "text": [
      "\tw2v_pretrained\n",
      "{'ERR': 0.22888106,\n",
      " 'MAP': 0.13215353,\n",
      " 'Precision@1': 0.30769232,\n",
      " 'Precision@10': 0.1326923,\n",
      " 'Precision@5': 0.17307693,\n",
      " 'Recall@1': 0.048749086,\n",
      " 'Recall@10': 0.14604688,\n",
      " 'Recall@5': 0.10601156}\n",
      "\td2v\n",
      "{'ERR': 0.1080881,\n",
      " 'MAP': 0.046747286,\n",
      " 'Precision@1': 0.07692308,\n",
      " 'Precision@10': 0.069230765,\n",
      " 'Precision@5': 0.08846153,\n",
      " 'Recall@1': 0.0065381085,\n",
      " 'Recall@10': 0.058957033,\n",
      " 'Recall@5': 0.042998545}\n",
      "\n",
      "Reranked\n",
      "\tlda\n",
      "{'ERR': 0.20126976,\n",
      " 'MAP': 0.112661995,\n",
      " 'Precision@1': 0.13461539,\n",
      " 'Precision@10': 0.1826923,\n",
      " 'Precision@5': 0.18846154,\n",
      " 'Recall@1': 0.019986762,\n",
      " 'Recall@10': 0.27807343,\n",
      " 'Recall@5': 0.12225564}\n",
      "\tlsi\n",
      "{'ERR': 0.21724612,\n",
      " 'MAP': 0.12875268,\n",
      " 'Precision@1': 0.1923077,\n",
      " 'Precision@10': 0.18076923,\n",
      " 'Precision@5': 0.19230771,\n",
      " 'Recall@1': 0.033948842,\n",
      " 'Recall@10': 0.26622698,\n",
      " 'Recall@5': 0.15364788}\n",
      "\tw2v\n",
      "{'ERR': 0.17570975,\n",
      " 'MAP': 0.10600043,\n",
      " 'Precision@1': 0.13461539,\n",
      " 'Precision@10': 0.14807692,\n",
      " 'Precision@5': 0.14615385,\n",
      " 'Recall@1': 0.018660622,\n",
      " 'Recall@10': 0.2379102,\n",
      " 'Recall@5': 0.11261602}\n",
      "\tw2v_pretrained\n",
      "{'ERR': 0.2839876,\n",
      " 'MAP': 0.17797674,\n",
      " 'Precision@1': 0.34615386,\n",
      " 'Precision@10': 0.20769231,\n",
      " 'Precision@5': 0.23076923,\n",
      " 'Recall@1': 0.08440109,\n",
      " 'Recall@10': 0.3412429,\n",
      " 'Recall@5': 0.20217164}\n",
      "\td2v\n",
      "{'ERR': 0.21324264,\n",
      " 'MAP': 0.119331904,\n",
      " 'Precision@1': 0.13461539,\n",
      " 'Precision@10': 0.18269232,\n",
      " 'Precision@5': 0.18461539,\n",
      " 'Recall@1': 0.015241123,\n",
      " 'Recall@10': 0.31953475,\n",
      " 'Recall@5': 0.1354284}\n"
     ]
    },
    {
     "data": {
      "image/png": "[encoded data removed]",
      "text/plain": [
       "<Figure size 1008x576 with 8 Axes>"
      ]
     },
     "metadata": {
      "needs_background": "light"
     },
     "output_type": "display_data"
    },
    {
     "data": {
      "image/png": "[encoded data removed]",
      "text/plain": [
       "<Figure size 1008x504 with 8 Axes>"
      ]
     },
     "metadata": {
      "needs_background": "light"
     },
     "output_type": "display_data"
    }
   ],
   "source": [
    "# YOUR CODE HERE\n",
    "# takes roughly 7 mins to run\n",
    "\n",
    "# redefine the list such that vanilla and reranked appear in same order\n",
    "list_of_sem_search_fns = [\n",
    "    (\"lda\", drm_lda.search),\n",
    "    (\"lsi\", drm_lsi.search),\n",
    "    (\"w2v\", drm_w2v.search),\n",
    "    (\"w2v_pretrained\", drm_w2v_pretrained.search),\n",
    "    (\"d2v\", drm_d2v.search),\n",
    "    (\"lda_rr\", lda_rerank.search),  # lda rr and lsi rr\n",
    "    (\"lsi_rr\", lsi_rerank.search),  # were not in same order as vanilla\n",
    "    (\"w2v_rr\", w2v_rerank.search),\n",
    "    (\"w2v_pretrained_rr\", w2v_pretrained_rerank.search),\n",
    "    (\"d2v_rr\", d2v_rerank.search),\n",
    "]\n",
    "\n",
    "\n",
    "from pprint import pprint\n",
    "\n",
    "fig, axes = plt.subplots(2, 4, figsize=(14, 8), sharey=False)\n",
    "axes = axes.flatten()\n",
    "\n",
    "# need this to make side by side bars\n",
    "N = len(list_of_sem_search_fns) // 2\n",
    "method_loc = np.arange(N)\n",
    "bar_width = 0.25\n",
    "\n",
    "vanilla_search_fns = list_of_sem_search_fns[:N]\n",
    "reranked_search_fns = list_of_sem_search_fns[N:]\n",
    "\n",
    "search_fns_map = {\"Vanilla\": vanilla_search_fns, \"Reranked\": reranked_search_fns}\n",
    "\n",
    "for j, mode in enumerate([\"Vanilla\", \"Reranked\"]):\n",
    "    results = {}\n",
    "    print(f\"\\n{mode}\")\n",
    "\n",
    "    for search_alg, search_fn in search_fns_map[mode]:\n",
    "        # remove _rr from reranked algo's so that the labels match\n",
    "        search_alg = search_alg.replace(\"_rr\", \"\")\n",
    "        results[search_alg] = evaluate_search_fn(search_fn, list_of_metrics)\n",
    "        print(f\"\\t{search_alg}\")\n",
    "        pprint(results[search_alg])\n",
    "\n",
    "    for i, (metric_name, _metric_fn) in enumerate(list_of_metrics):\n",
    "        metric_results = {k: v[metric_name] for k, v in results.items()}\n",
    "\n",
    "        labels = list(metric_results.keys())\n",
    "        values = [metric_results[label] for label in labels]\n",
    "\n",
    "        axes[i].grid(True, which=\"major\", axis=\"y\", alpha=0.35)\n",
    "        if i % 4 == 0:\n",
    "            axes[i].set_ylabel(\"Average Metric Value\")\n",
    "        if j == 0:\n",
    "            axes[i].bar(method_loc, values, bar_width, label=f\"{mode}\")\n",
    "        else:\n",
    "            axes[i].bar(method_loc + bar_width, values, bar_width, label=f\"{mode}\")\n",
    "            axes[i].set_xticks(method_loc + bar_width / 2)\n",
    "            axes[i].set_xticklabels(labels, rotation=30, ha=\"right\")\n",
    "            axes[i].set_title(metric_name)\n",
    "            if i == 7:\n",
    "                axes[i].legend()\n",
    "\n",
    "\n",
    "fig.suptitle(\"Comparison of different Semantic IR algorithms across various Metrics\")\n",
    "fig.tight_layout(rect=[0, 0.03, 1, 0.95])\n",
    "plt.show()\n",
    "\n",
    "\n",
    "# 2nd Plot: Compare semantic search with reranking to models from part 1\n",
    "\n",
    "fig, axes = plt.subplots(2, 4, figsize=(14, 7), sharey=False)\n",
    "axes = axes.flatten()\n",
    "\n",
    "list_of_rerank_sem_search_fns = [\n",
    "    (\"lsi_rr\", lsi_rerank.search),\n",
    "    (\"lda_rr\", lda_rerank.search),\n",
    "    (\"w2v_rr\", w2v_rerank.search),\n",
    "    (\"w2v_pretrained_rr\", w2v_pretrained_rerank.search),\n",
    "    (\"d2v_rr\", d2v_rerank.search),\n",
    "]\n",
    "\n",
    "N = len(list_of_rerank_sem_search_fns + list_of_search_fns)\n",
    "method_loc = np.arange(N)\n",
    "\n",
    "results = {}\n",
    "\n",
    "for i, (search_alg, search_fn) in enumerate(reranked_search_fns + list_of_search_fns):\n",
    "    if i >= len(list_of_rerank_sem_search_fns):\n",
    "        results[search_alg] = evaluate_search_fn(\n",
    "            search_fn, list_of_metrics, index_set=2\n",
    "        )\n",
    "    else:\n",
    "        results[search_alg] = evaluate_search_fn(search_fn, list_of_metrics)\n",
    "\n",
    "for i, (metric_name, _metric_fn) in enumerate(list_of_metrics):\n",
    "    metric_results = {k: v[metric_name] for k, v in results.items()}\n",
    "\n",
    "    labels = list(metric_results.keys())\n",
    "    values = [metric_results[label] for label in labels]\n",
    "\n",
    "    axes[i].grid(True, which=\"major\", axis=\"y\", alpha=0.35)\n",
    "    if i % 4 == 0:\n",
    "        axes[i].set_ylabel(\"Average Metric Value\")\n",
    "    axes[i].bar(method_loc, values, bar_width)\n",
    "    axes[i].set_xticks(method_loc)\n",
    "    axes[i].set_xticklabels(labels, rotation=45, ha=\"right\")\n",
    "    axes[i].set_title(metric_name)\n",
    "\n",
    "fig.suptitle(\n",
    "    \"Comparison between semantic and term-based ranking algorithms (Index Set 2)\"\n",
    ")\n",
    "fig.tight_layout(rect=[0, 0.03, 1, 0.95])\n",
    "plt.show()"
   ]
  },
  {
   "cell_type": "markdown",
   "metadata": {
    "cell_id": "00165-821599fc-9264-4123-a542-2b0354dde4f7",
    "deepnote_cell_height": 145.1875,
    "deepnote_cell_type": "markdown",
    "deletable": false,
    "editable": false,
    "nbgrader": {
     "cell_type": "markdown",
     "checksum": "a8a3b6189bdde66704c694d85e38d049",
     "grade": false,
     "grade_id": "cell-deb2ef3daa306e82",
     "locked": true,
     "schema_version": 3,
     "solution": false,
     "task": false
    }
   },
   "source": [
    "### Section 10.2: Summary (20 points)\n",
    "\n",
    "Your summary should compare methods from Part 1 and Part 2 (only for index set 2). State what you expected to see in the results, followed by either supporting evidence *or* justify why the results did not support your expectations. Consider the availability of data, scalability, domain/type of data, etc."
   ]
  },
  {
   "cell_type": "markdown",
   "metadata": {
    "cell_id": "00166-930e721d-9166-4296-ad5c-4c4449f6c99e",
    "deepnote_cell_height": 52.390625,
    "deepnote_cell_type": "markdown",
    "deletable": false,
    "nbgrader": {
     "cell_type": "markdown",
     "checksum": "ff97c43837d10bff6aaffa75e1492887",
     "grade": true,
     "grade_id": "cell-ec5dd7d9cf59dd86",
     "locked": false,
     "points": 20,
     "schema_version": 3,
     "solution": true,
     "task": false
    }
   },
   "source": [
    "Our main observation after running all experiments is that term-based models outperform semantic models in nearly all metrics with the exception of Recall@10. The findings are somewhat surprising since we would have expected semantic models would be better at capturing relevance without the explicit need for exact term matching between query and relevant documents - word embeddings should be good at capturing synonymy between words. This hypothesis may somewhat be confirmed by the performance of semantic models with regards to Recall@10 - because we are not just looking for identical terms but also terms with a similar meaning we are able to retrieve much more of the relevant documents. Semantic models should therefore be suitable for tasks such as legal research where a lawyer would want to find all relevant information in a corpus of legal documents.\n",
    "\n",
    "There may be various reaasons why semantic models perform poorly in all other metrics compared to term-based models. One explanation could be that in the case of pretrained word embeddings representations may have been learned from a different domain and therefore meanings to do not match our current domain or otherwise some words may be missing altogether. Another possible explanation for the poorer performance is that semantic models may be more suitable for a large corpus where enough documents are present in order to learn good representation. In our case the corpus is fairly small and therefore the word representations not very meaningful. This is particularly evident in the skip-gram w2v models, where using embeddings pretrained on a signficantly larger corpus provides much better results.\n",
    "\n",
    "It is important to note that reranking is clearly the better approach and outperforms purely semantic models. This might be again due to the fact that most of the work in retrieving documents is already being done by term-based models which we established perform better in the case of this specific corpus."
   ]
  }
 ],
 "metadata": {
  "deepnote": {},
  "deepnote_execution_queue": [],
  "deepnote_notebook_id": "13b77af2-2689-4e0d-949d-ce0f01912b71",
  "kernelspec": {
   "display_name": "Python 3",
   "language": "python",
   "name": "python3"
  },
  "language_info": {
   "codemirror_mode": {
    "name": "ipython",
    "version": 3
   },
   "file_extension": ".py",
   "mimetype": "text/x-python",
   "name": "python",
   "nbconvert_exporter": "python",
   "pygments_lexer": "ipython3",
   "version": "3.6.5"
  },
  "toc": {
   "base_numbering": 1,
   "nav_menu": {},
   "number_sections": true,
   "sideBar": true,
   "skip_h1_title": false,
   "title_cell": "Table of Contents",
   "title_sidebar": "Contents",
   "toc_cell": false,
   "toc_position": {},
   "toc_section_display": true,
   "toc_window_display": false
  },
  "toc-autonumbering": false
 },
 "nbformat": 4,
 "nbformat_minor": 4
}
